{
 "cells": [
  {
   "cell_type": "markdown",
   "metadata": {},
   "source": [
    "### Import necessary libraries and modules"
   ]
  },
  {
   "cell_type": "code",
   "execution_count": 1,
   "metadata": {
    "scrolled": true
   },
   "outputs": [],
   "source": [
    "# %%bash\n",
    "\n",
    "# kaggle datasets download -d nageshsingh/dna-sequence-dataset\n",
    "# mkdir data data/DNA\n",
    "# unzip dna-sequence-dataset.zip -d data/DNA\n",
    "# rm dna-sequence-dataset.zip\n",
    "\n",
    "# kaggle datasets download -d masoudnickparvar/brain-tumor-mri-dataset\n",
    "# mkdir -p data/MRI\n",
    "# unzip brain-tumor-mri-dataset.zip -d data/MRI\n",
    "# rm brain-tumor-mri-dataset.zip"
   ]
  },
  {
   "cell_type": "code",
   "execution_count": 2,
   "metadata": {},
   "outputs": [],
   "source": [
    "import os\n",
    "import pickle\n",
    "import time\n",
    "from collections import OrderedDict\n",
    "from typing import (\n",
    "    List, Tuple, Dict, Optional, Callable, Union\n",
    ")\n",
    "\n",
    "import numpy as np\n",
    "import torchvision\n",
    "import torch\n",
    "from torch import nn\n",
    "import torch.nn.functional as F\n",
    "import flwr as fl\n",
    "from flwr.common import (\n",
    "    Metrics, EvaluateIns, EvaluateRes, FitIns, FitRes, MetricsAggregationFn, \n",
    "    Scalar, logger, ndarrays_to_parameters, parameters_to_ndarrays,\n",
    "    Parameters, NDArrays\n",
    ")\n",
    "from flwr.server.client_proxy import ClientProxy\n",
    "from flwr.server.client_manager import ClientManager\n",
    "from flwr.server.strategy.aggregate import aggregate, weighted_loss_avg\n",
    "from logging import WARNING\n",
    "\n",
    "from utils import *"
   ]
  },
  {
   "cell_type": "markdown",
   "metadata": {},
   "source": [
    "### Model Architecture Creation"
   ]
  },
  {
   "cell_type": "code",
   "execution_count": 3,
   "metadata": {},
   "outputs": [],
   "source": [
    "# Quantum device definitions for MRI and DNA\n",
    "mri_n_qubits = 4\n",
    "dna_n_qubits = 7\n",
    "expert_vector = (mri_n_qubits+dna_n_qubits) // 2 + 1\n",
    "num_of_expert = 2\n",
    "\n",
    "# Define the MRI network\n",
    "class MRINet(nn.Module):\n",
    "    def __init__(self):\n",
    "        super(MRINet, self).__init__()\n",
    "        self.features = nn.Sequential(\n",
    "            nn.Conv2d(3, 16, kernel_size=3, padding=1),\n",
    "            nn.ReLU(inplace=True),\n",
    "            nn.MaxPool2d(kernel_size=2, stride=2),\n",
    "            nn.Conv2d(16, 32, kernel_size=3, padding=1),\n",
    "            nn.ReLU(inplace=True),\n",
    "            nn.MaxPool2d(kernel_size=2, stride=2)\n",
    "        )\n",
    "        self.classifier = nn.Sequential(\n",
    "            nn.Linear(32 * 56 * 56, 128),\n",
    "            nn.ReLU(inplace=True),\n",
    "            nn.Linear(128, expert_vector),\n",
    "        )\n",
    "\n",
    "    def forward(self, x):\n",
    "        x = self.features(x)\n",
    "        x = x.view(x.size(0), -1)\n",
    "        x = self.classifier(x)\n",
    "        return x\n",
    "\n",
    "class DNANet(nn.Module):\n",
    "    def __init__(self):\n",
    "        super(DNANet, self).__init__()        \n",
    "        self.fc1 = nn.Linear(input_sp, 64)\n",
    "        self.fc2 = nn.Linear(64, 32)\n",
    "        self.fc3 = nn.Linear(32, 16)\n",
    "        self.fc4 = nn.Linear(16, 8)\n",
    "        self.fc5 = nn.Linear(8, expert_vector)\n",
    "\n",
    "    def forward(self, x: torch.Tensor) -> torch.Tensor:\n",
    "        \"\"\"\n",
    "        Forward pass of the neural network\n",
    "        \"\"\"\n",
    "        x = F.relu(self.fc1(x))\n",
    "        x = F.relu(self.fc2(x))\n",
    "        x = F.relu(self.fc3(x))\n",
    "        x = F.relu(self.fc4(x))\n",
    "        x = self.fc5(x)\n",
    "        return x\n",
    "\n",
    "class Net(nn.Module):\n",
    "    def __init__(self, num_classes_mri, num_classes_dna):\n",
    "        super(Net, self).__init__()\n",
    "        self.mri_net = MRINet()\n",
    "        self.dna_net = DNANet()\n",
    "        \n",
    "        self.feature_dim = expert_vector\n",
    "        self.num_heads = expert_vector\n",
    "        \n",
    "        self.attention = nn.MultiheadAttention(embed_dim=num_of_expert*self.feature_dim, num_heads=self.num_heads)\n",
    "        self.fc_gate = nn.Linear(num_of_expert*self.feature_dim, 2) \n",
    "        self.fc2_mri = nn.Linear(self.feature_dim, num_classes_mri)\n",
    "        self.fc2_dna = nn.Linear(self.feature_dim, num_classes_dna)\n",
    "        \n",
    "    def forward(self, mri_input, dna_input):\n",
    "        mri_features = self.mri_net(mri_input)\n",
    "        dna_features = self.dna_net(dna_input)\n",
    "        combined_features = torch.cat((mri_features, dna_features), dim=1)\n",
    "        combined_features = combined_features.unsqueeze(0)\n",
    "        attn_output, _ = self.attention(combined_features, combined_features, combined_features)\n",
    "        attn_output = attn_output.squeeze(0)\n",
    "        gates = F.softmax(self.fc_gate(attn_output), dim=1)\n",
    "        combined_output = (gates[:, 0].unsqueeze(1) * mri_features + \n",
    "                           gates[:, 1].unsqueeze(1) * dna_features)\n",
    "        mri_output = self.fc2_mri(combined_output)\n",
    "        dna_output = self.fc2_dna(combined_output)\n",
    "        return mri_output, dna_output"
   ]
  },
  {
   "cell_type": "markdown",
   "metadata": {},
   "source": [
    "### Define the FlowerClient class for federated learning"
   ]
  },
  {
   "cell_type": "code",
   "execution_count": 4,
   "metadata": {},
   "outputs": [],
   "source": [
    "class FlowerClient(fl.client.NumPyClient):\n",
    "    def __init__(self, cid, net, trainloader, valloader, device, batch_size, save_results, matrix_path, roc_path,\n",
    "                 yaml_path, classes):\n",
    "        self.net = net\n",
    "        self.trainloader = trainloader\n",
    "        self.valloader = valloader\n",
    "        self.cid = cid\n",
    "        self.device = device\n",
    "        self.batch_size = batch_size\n",
    "        self.save_results = save_results\n",
    "        self.matrix_path = matrix_path\n",
    "        self.roc_path = roc_path\n",
    "        self.yaml_path = yaml_path\n",
    "        self.classes = classes\n",
    "\n",
    "    def get_parameters(self, config):\n",
    "        print(f\"[Client {self.cid}] get_parameters\")\n",
    "        return get_parameters2(self.net)\n",
    "\n",
    "    def fit(self, parameters, config):\n",
    "        server_round = config['server_round']\n",
    "        local_epochs = config['local_epochs']\n",
    "        lr = float(config[\"learning_rate\"])\n",
    "\n",
    "        print(f'[Client {self.cid}, round {server_round}] fit, config: {config}')\n",
    "\n",
    "        set_parameters(self.net, parameters)\n",
    "\n",
    "        criterion_mri = torch.nn.CrossEntropyLoss()\n",
    "        criterion_dna = torch.nn.CrossEntropyLoss()\n",
    "        optimizer = torch.optim.Adam(self.net.parameters(), lr=lr)\n",
    "\n",
    "        results = engine.train(self.net, self.trainloader, self.valloader, optimizer=optimizer, loss_fn=(criterion_mri, criterion_dna),\n",
    "                               epochs=local_epochs, device=self.device, task=\"Multimodal\")\n",
    "\n",
    "        if self.save_results:\n",
    "            save_graphs_multimodal(self.save_results, local_epochs, results, f\"_Client {self.cid}\")\n",
    "\n",
    "        return get_parameters2(self.net), len(self.trainloader), {}\n",
    "\n",
    "    def evaluate(self, parameters, config):\n",
    "        print(f\"[Client {self.cid}] evaluate, config: {config}\")\n",
    "        set_parameters(self.net, parameters)\n",
    "\n",
    "        loss, accuracy, y_pred, y_true, y_proba = engine.test_multimodal_health(self.net, self.valloader,\n",
    "                                                              loss_fn=(torch.nn.CrossEntropyLoss(),torch.nn.CrossEntropyLoss()), device=self.device)\n",
    "\n",
    "        loss_mri, loss_dna = loss\n",
    "        accuracy_mri, accuracy_dna = accuracy\n",
    "        y_pred_mri, y_pred_dna = y_pred\n",
    "        y_true_mri, y_true_dna = y_true\n",
    "        y_proba_mri, y_proba_dna = y_proba\n",
    "\n",
    "        if self.save_results:\n",
    "            os.makedirs(self.save_results, exist_ok=True)\n",
    "            if self.matrix_path:\n",
    "                save_matrix(y_true_mri, y_pred_mri, self.save_results + \"MRI_\" + self.matrix_path, self.classes[0])\n",
    "                save_matrix(y_true_dna, y_pred_dna, self.save_results + \"DNA_\" + self.matrix_path, self.classes[1])\n",
    "            if self.roc_path:\n",
    "                save_roc(y_true_mri, y_proba_mri, self.save_results + \"MRI_\" + self.roc_path, len(self.classes[0]))\n",
    "                save_roc(y_true_dna, y_proba_dna, self.save_results + \"DNA_\" + self.roc_path, len(self.classes[1]))\n",
    "\n",
    "        return float(loss_mri), len(self.valloader), {\"accuracy\": float(accuracy_mri)}"
   ]
  },
  {
   "cell_type": "markdown",
   "metadata": {},
   "source": [
    "### Define the client_common function to set up the Flower client"
   ]
  },
  {
   "cell_type": "code",
   "execution_count": 5,
   "metadata": {},
   "outputs": [],
   "source": [
    "def client_common(cid, model_save, path_yaml, path_roc, results_save, path_matrix,\n",
    "                  batch_size, trainloaders, valloaders, DEVICE, CLASSES):\n",
    "    trainloader = trainloaders[int(cid)]\n",
    "    valloader = valloaders[int(cid)]\n",
    "\n",
    "    net = Net(len(CLASSES[0]), len(CLASSES[1])).to(DEVICE)\n",
    "\n",
    "    if os.path.exists(model_save):\n",
    "        print(\" To get the checkpoint\")\n",
    "        checkpoint = torch.load(model_save, map_location=DEVICE)['model_state_dict']\n",
    "        net.load_state_dict(checkpoint)\n",
    "\n",
    "    return FlowerClient(cid, net, trainloader, valloader, device=DEVICE, batch_size=batch_size,\n",
    "                        matrix_path=path_matrix, roc_path=path_roc, save_results=results_save, yaml_path=path_yaml,\n",
    "                        classes=CLASSES)"
   ]
  },
  {
   "cell_type": "markdown",
   "metadata": {},
   "source": [
    "### Define utility functions for federated learning"
   ]
  },
  {
   "cell_type": "code",
   "execution_count": 6,
   "metadata": {},
   "outputs": [],
   "source": [
    "def weighted_average(metrics: List[Tuple[int, Metrics]]) -> Metrics:\n",
    "    accuracies = [num_examples * m[\"accuracy\"] for num_examples, m in metrics]\n",
    "    examples = [num_examples for num_examples, _ in metrics]\n",
    "    return {\"accuracy\": sum(accuracies) / sum(examples)}\n",
    "\n",
    "def evaluate2(server_round: int, parameters: NDArrays,\n",
    "              config: Dict[str, Scalar]) -> Optional[Tuple[float, Dict[str, Scalar]]]:\n",
    "    set_parameters(central, parameters)\n",
    "    loss, accuracy, y_pred, y_true, y_proba = engine.test_multimodal_health(central, testloader, loss_fn=(torch.nn.CrossEntropyLoss(),torch.nn.CrossEntropyLoss()),\n",
    "                                                          device=DEVICE)\n",
    "    loss_mri, loss_dna = loss\n",
    "    accuracy_mri, accuracy_dna = accuracy\n",
    "    y_pred_mri, y_pred_dna = y_pred\n",
    "    y_true_mri, y_true_dna = y_true\n",
    "    y_proba_mri, y_proba_dna = y_proba\n",
    "    os.makedirs(save_results, exist_ok=True)\n",
    "    save_matrix(y_true_mri, y_pred_mri, save_results + \"mri_confusion_matrix_test.png\", CLASSES[0])\n",
    "    save_roc(y_true_mri, y_proba_mri, save_results + \"mri_roc_test.png\", len(CLASSES[0]))\n",
    "    save_matrix(y_true_dna, y_pred_dna, save_results + \"dna_confusion_matrix_test.png\", CLASSES[1])\n",
    "    save_roc(y_true_dna, y_proba_dna, save_results + \"dna_roc_test.png\", len(CLASSES[1]))\n",
    "\n",
    "    print(f\"Server-side evaluation MRI loss {loss_mri} / MRI accuracy {accuracy_mri}\")\n",
    "    print(f\"Server-side evaluation DNA loss {loss_dna} / DNA accuracy {accuracy_dna}\")\n",
    "    return (loss_mri, loss_dna), {\"accuracy\": (accuracy_mri, accuracy_dna)}\n",
    "\n",
    "def get_on_fit_config_fn(epoch=2, lr=0.001, batch_size=32) -> Callable[[int], Dict[str, str]]:\n",
    "    def fit_config(server_round: int) -> Dict[str, str]:\n",
    "        config = {\n",
    "            \"learning_rate\": str(lr),\n",
    "            \"batch_size\": str(batch_size),\n",
    "            \"server_round\": server_round,\n",
    "            \"local_epochs\": epoch\n",
    "        }\n",
    "        return config\n",
    "    return fit_config\n",
    "\n",
    "def aggreg_fit_checkpoint(server_round, aggregated_parameters, central_model, path_checkpoint):\n",
    "    if aggregated_parameters is not None:\n",
    "        print(f\"Saving round {server_round} aggregated_parameters...\")\n",
    "        aggregated_ndarrays: List[np.ndarray] = parameters_to_ndarrays(aggregated_parameters)        \n",
    "        params_dict = zip(central_model.state_dict().keys(), aggregated_ndarrays)\n",
    "        state_dict = OrderedDict({k: torch.tensor(v) for k, v in params_dict})\n",
    "        central_model.load_state_dict(state_dict, strict=True)\n",
    "        if path_checkpoint:\n",
    "            torch.save({\n",
    "                'model_state_dict': central_model.state_dict(),\n",
    "            }, path_checkpoint)"
   ]
  },
  {
   "cell_type": "markdown",
   "metadata": {},
   "source": [
    "### Define the FedCustom strategy class"
   ]
  },
  {
   "cell_type": "code",
   "execution_count": 7,
   "metadata": {},
   "outputs": [],
   "source": [
    "# A Strategy from scratch with the same sampling of the clients as it is in FedAvg\n",
    "# and then change the configuration dictionary\n",
    "class FedCustom(fl.server.strategy.Strategy):\n",
    "    def __init__(\n",
    "            self,\n",
    "            fraction_fit: float = 1.0,\n",
    "            fraction_evaluate: float = 1.0,\n",
    "            min_fit_clients: int = 2,\n",
    "            min_evaluate_clients: int = 2,\n",
    "            min_available_clients: int = 2,\n",
    "            evaluate_fn: Optional[\n",
    "                    Callable[[int, NDArrays, Dict[str, Scalar]], Optional[Tuple[float, Dict[str, Scalar]]]]\n",
    "                ] = None,\n",
    "            on_fit_config_fn: Optional[Callable[[int], Dict[str, Scalar]]] = None,\n",
    "            on_evaluate_config_fn: Optional[Callable[[int], Dict[str, Scalar]]] = None,\n",
    "            accept_failures: bool = True,\n",
    "            initial_parameters: Optional[Parameters] = None,\n",
    "            fit_metrics_aggregation_fn: Optional[MetricsAggregationFn] = None,\n",
    "            evaluate_metrics_aggregation_fn: Optional[MetricsAggregationFn] = None,\n",
    "    ) -> None:\n",
    "        super().__init__()\n",
    "        self.fraction_fit = fraction_fit\n",
    "        self.fraction_evaluate = fraction_evaluate\n",
    "        self.min_fit_clients = min_fit_clients\n",
    "        self.min_evaluate_clients = min_evaluate_clients\n",
    "        self.min_available_clients = min_available_clients\n",
    "        self.evaluate_fn = evaluate_fn\n",
    "        self.on_fit_config_fn = on_fit_config_fn\n",
    "        self.on_evaluate_config_fn = on_evaluate_config_fn,\n",
    "        self.accept_failures = accept_failures\n",
    "        self.initial_parameters = initial_parameters\n",
    "        self.fit_metrics_aggregation_fn = fit_metrics_aggregation_fn\n",
    "        self.evaluate_metrics_aggregation_fn = evaluate_metrics_aggregation_fn\n",
    "\n",
    "    def __repr__(self) -> str:\n",
    "        # Same function as FedAvg(Strategy)\n",
    "        return f\"FedCustom (accept_failures={self.accept_failures})\"\n",
    "\n",
    "    def initialize_parameters(\n",
    "        self, client_manager: ClientManager\n",
    "    ) -> Optional[Parameters]:\n",
    "        \"\"\"Initialize global model parameters.\"\"\"\n",
    "        # Same function as FedAvg(Strategy)\n",
    "        initial_parameters = self.initial_parameters\n",
    "        self.initial_parameters = None  # Don't keep initial parameters in memory\n",
    "        return initial_parameters\n",
    "\n",
    "    def num_fit_clients(self, num_available_clients: int) -> Tuple[int, int]:\n",
    "        \"\"\"Return sample size and required number of clients.\"\"\"\n",
    "        # Same function as FedAvg(Strategy)\n",
    "        num_clients = int(num_available_clients * self.fraction_fit)\n",
    "        return max(num_clients, self.min_fit_clients), self.min_available_clients\n",
    "\n",
    "    def configure_fit(\n",
    "        self, server_round: int, parameters: Parameters, client_manager: ClientManager\n",
    "    ) -> List[Tuple[ClientProxy, FitIns]]:\n",
    "        \"\"\"Configure the next round of training.\"\"\"\n",
    "        # Sample clients\n",
    "        sample_size, min_num_clients = self.num_fit_clients(\n",
    "            client_manager.num_available()\n",
    "        )\n",
    "\n",
    "        clients = client_manager.sample(\n",
    "            num_clients=sample_size, min_num_clients=min_num_clients\n",
    "        )\n",
    "        # Create custom configs\n",
    "        n_clients = len(clients)\n",
    "        half_clients = n_clients // 2\n",
    "        # Custom fit config function provided\n",
    "        standard_lr = lr\n",
    "        higher_lr = 0.003\n",
    "        config = {\"server_round\": server_round, \"local_epochs\": 1}\n",
    "        if self.on_fit_config_fn is not None:\n",
    "            # Custom fit config function provided\n",
    "            config = self.on_fit_config_fn(server_round)\n",
    "\n",
    "        # fit_ins = FitIns(parameters, config)\n",
    "        # Return client/config pairs\n",
    "        fit_configurations = []\n",
    "        for idx, client in enumerate(clients):\n",
    "            config[\"learning_rate\"] = standard_lr if idx < half_clients else higher_lr\n",
    "            \"\"\"\n",
    "            Each pair of (ClientProxy, FitRes) constitutes \n",
    "            a successful update from one of the previously selected clients.\n",
    "            \"\"\"\n",
    "            fit_configurations.append(\n",
    "                (\n",
    "                    client,\n",
    "                    FitIns(\n",
    "                        parameters,\n",
    "                        config\n",
    "                    )\n",
    "                )\n",
    "            )\n",
    "        # Successful updates from the previously selected and configured clients\n",
    "        return fit_configurations\n",
    "\n",
    "    def aggregate_fit(\n",
    "        self,\n",
    "        server_round: int,\n",
    "        results: List[Tuple[ClientProxy, FitRes]],\n",
    "        failures: List[Union[Tuple[ClientProxy, FitRes], BaseException]],\n",
    "    ) -> Tuple[Optional[Parameters], Dict[str, Scalar]]:\n",
    "        \"\"\"Aggregate fit results using weighted average. (each round)\"\"\"\n",
    "        # Same function as FedAvg(Strategy)\n",
    "        if not results:\n",
    "            return None, {}\n",
    "\n",
    "        # Do not aggregate if there are failures and failures are not accepted\n",
    "        if not self.accept_failures and failures:\n",
    "            return None, {}\n",
    "\n",
    "        # Convert results parameters --> array matrix\n",
    "        weights_results = [\n",
    "            (parameters_to_ndarrays(fit_res.parameters), fit_res.num_examples)\n",
    "            for _, fit_res in results\n",
    "        ]\n",
    "\n",
    "        # Aggregate parameters using weighted average between the clients and convert back to parameters object (bytes)\n",
    "        parameters_aggregated = ndarrays_to_parameters(aggregate(weights_results))\n",
    "\n",
    "        metrics_aggregated = {}\n",
    "        # Aggregate custom metrics if aggregation fn was provided\n",
    "        if self.fit_metrics_aggregation_fn:\n",
    "            fit_metrics = [(res.num_examples, res.metrics) for _, res in results]\n",
    "            metrics_aggregated = self.fit_metrics_aggregation_fn(fit_metrics)\n",
    "\n",
    "        elif server_round == 1:  # Only log this warning once\n",
    "            logger.log(WARNING, \"No fit_metrics_aggregation_fn provided\")\n",
    "\n",
    "        # Same function as SaveModelStrategy(fl.server.strategy.FedAvg)\n",
    "        \"\"\"Aggregate model weights using weighted average and store checkpoint\"\"\"\n",
    "        aggreg_fit_checkpoint(server_round, parameters_aggregated, central, model_save)\n",
    "        return parameters_aggregated, metrics_aggregated\n",
    "\n",
    "    def num_evaluation_clients(self, num_available_clients: int) -> Tuple[int, int]:\n",
    "        \"\"\"Use a fraction of available clients for evaluation.\"\"\"\n",
    "        # Same function as FedAvg(Strategy)\n",
    "        num_clients = int(num_available_clients * self.fraction_evaluate)\n",
    "        return max(num_clients, self.min_evaluate_clients), self.min_available_clients\n",
    "\n",
    "    def configure_evaluate(\n",
    "        self, server_round: int, parameters: Parameters, client_manager: ClientManager\n",
    "    ) -> List[Tuple[ClientProxy, EvaluateIns]]:\n",
    "        \"\"\"Configure the next round of evaluation.\"\"\"\n",
    "        # Same function as FedAvg(Strategy)\n",
    "        # Do not configure federated evaluation if fraction eval is 0.\n",
    "        if self.fraction_evaluate == 0.0:\n",
    "            return []\n",
    "\n",
    "        # Parameters and config\n",
    "        config = {}  # {\"server_round\": server_round, \"local_epochs\": 1}\n",
    "\n",
    "        evaluate_ins = EvaluateIns(parameters, config)\n",
    "\n",
    "        # Sample clients\n",
    "        sample_size, min_num_clients = self.num_evaluation_clients(\n",
    "            client_manager.num_available()\n",
    "        )\n",
    "\n",
    "        clients = client_manager.sample(\n",
    "            num_clients=sample_size, min_num_clients=min_num_clients\n",
    "        )\n",
    "\n",
    "        # Return client/config pairs\n",
    "        # Each pair of (ClientProxy, FitRes) constitutes a successful update from one of the previously selected clients\n",
    "        return [(client, evaluate_ins) for client in clients]\n",
    "\n",
    "    def aggregate_evaluate(\n",
    "        self,\n",
    "        server_round: int,\n",
    "        results: List[Tuple[ClientProxy, EvaluateRes]],\n",
    "        failures: List[Union[Tuple[ClientProxy, EvaluateRes], BaseException]],\n",
    "    ) -> Tuple[Optional[float], Dict[str, Scalar]]:\n",
    "        \"\"\"Aggregate evaluation losses using weighted average.\"\"\"\n",
    "        # Same function as FedAvg(Strategy)\n",
    "        if not results:\n",
    "            return None, {}\n",
    "\n",
    "        # Do not aggregate if there are failures and failures are not accepted\n",
    "        if not self.accept_failures and failures:\n",
    "            return None, {}\n",
    "\n",
    "        # Aggregate loss\n",
    "        loss_aggregated = weighted_loss_avg(\n",
    "            [\n",
    "                (evaluate_res.num_examples, evaluate_res.loss)\n",
    "                for _, evaluate_res in results\n",
    "            ]\n",
    "        )\n",
    "\n",
    "        metrics_aggregated = {}\n",
    "        # Aggregate custom metrics if aggregation fn was provided\n",
    "        if self.evaluate_metrics_aggregation_fn:\n",
    "            eval_metrics = [(res.num_examples, res.metrics) for _, res in results]\n",
    "            metrics_aggregated = self.evaluate_metrics_aggregation_fn(eval_metrics)\n",
    "\n",
    "        # Only log this warning once\n",
    "        elif server_round == 1:\n",
    "            logger.log(WARNING, \"No evaluate_metrics_aggregation_fn provided\")\n",
    "\n",
    "        return loss_aggregated, metrics_aggregated\n",
    "\n",
    "    def evaluate(\n",
    "        self, server_round: int, parameters: Parameters\n",
    "    ) -> Optional[Tuple[float, Dict[str, Scalar]]]:\n",
    "        \"\"\"Evaluate global model parameters using an evaluation function.\"\"\"\n",
    "        # Same function as FedAvg(Strategy)\n",
    "        if self.evaluate_fn is None:\n",
    "            # Let's assume we won't perform the global model evaluation on the server side.\n",
    "            return None\n",
    "\n",
    "        # if we have a global model evaluation on the server side :\n",
    "        parameters_ndarrays = parameters_to_ndarrays(parameters)\n",
    "        eval_res = self.evaluate_fn(server_round, parameters_ndarrays, {})\n",
    "\n",
    "        # if you haven't results\n",
    "        if eval_res is None:\n",
    "            return None\n",
    "\n",
    "        loss, metrics = eval_res\n",
    "        return loss, metrics"
   ]
  },
  {
   "cell_type": "markdown",
   "metadata": {},
   "source": [
    "### Set up the federated learning strategy"
   ]
  },
  {
   "cell_type": "code",
   "execution_count": 8,
   "metadata": {},
   "outputs": [],
   "source": [
    "# Set up your variables directly\n",
    "data_path = 'data/'\n",
    "dataset = 'DNA+MRI'\n",
    "yaml_path = './results/FL_DNA+MRI/results.yml'\n",
    "seed = 0\n",
    "num_workers = 0\n",
    "max_epochs = 10\n",
    "batch_size = 32\n",
    "splitter = 10\n",
    "device = 'gpu'\n",
    "number_clients = 10\n",
    "save_results = 'results/FL_DNA+MRI/'\n",
    "matrix_path = 'confusion_matrix.png'\n",
    "roc_path = 'roc.png'\n",
    "model_save = 'results/FL_DNA+MRI/DNA+MRI_fl.pt'\n",
    "min_fit_clients = 10\n",
    "min_avail_clients = 10\n",
    "min_eval_clients = 10\n",
    "rounds = 20\n",
    "frac_fit = 1.0\n",
    "frac_eval = 0.5\n",
    "lr = 1e-3"
   ]
  },
  {
   "cell_type": "code",
   "execution_count": 9,
   "metadata": {},
   "outputs": [
    {
     "name": "stdout",
     "output_type": "stream",
     "text": [
      "DNA+MRI\n",
      "The training set is created for the classes: \n",
      "('glioma', 'meningioma', 'notumor', 'pituitary')\n",
      "('0', '1', '2', '3', '4', '5', '6')\n"
     ]
    }
   ],
   "source": [
    "DEVICE = torch.device(choice_device(device))\n",
    "CLASSES = classes_string(dataset)\n",
    "trainloaders, valloaders, testloader = data_setup.load_datasets(num_clients=number_clients, batch_size=batch_size, resize=224, seed=seed, num_workers=num_workers, splitter=splitter, dataset=dataset, data_path=data_path, data_path_val=None)\n",
    "_, input_sp = next(iter(testloader))[0][1].shape\n",
    "central = Net(len(CLASSES[0]), len(CLASSES[1])).to(DEVICE)"
   ]
  },
  {
   "cell_type": "code",
   "execution_count": 10,
   "metadata": {},
   "outputs": [],
   "source": [
    "strategy = FedCustom(\n",
    "    fraction_fit=frac_fit,\n",
    "    fraction_evaluate=frac_eval,\n",
    "    min_fit_clients=min_fit_clients,\n",
    "    min_evaluate_clients=min_eval_clients if min_eval_clients else number_clients // 2,\n",
    "    min_available_clients=min_avail_clients,\n",
    "    evaluate_metrics_aggregation_fn=weighted_average,\n",
    "    initial_parameters=ndarrays_to_parameters(get_parameters2(central)),\n",
    "    evaluate_fn=evaluate2,\n",
    "    on_fit_config_fn=get_on_fit_config_fn(epoch=max_epochs, batch_size=batch_size),\n",
    ")"
   ]
  },
  {
   "cell_type": "code",
   "execution_count": 11,
   "metadata": {},
   "outputs": [
    {
     "name": "stdout",
     "output_type": "stream",
     "text": [
      "DNA+MRI\n",
      "The training set is created for the classes: \n",
      "('glioma', 'meningioma', 'notumor', 'pituitary')\n",
      "('0', '1', '2', '3', '4', '5', '6')\n"
     ]
    }
   ],
   "source": [
    "trainloaders, valloaders, testloader = data_setup.load_datasets(num_clients=number_clients,\n",
    "                                                                batch_size=batch_size,\n",
    "                                                                resize=224,\n",
    "                                                                seed=seed,\n",
    "                                                                num_workers=num_workers,\n",
    "                                                                splitter=splitter,\n",
    "                                                                dataset=dataset,  # Use the specified dataset\n",
    "                                                                data_path=data_path,\n",
    "                                                                data_path_val=None)  # Use the same path for validation data\n",
    "\n",
    "def client_fn(cid: str) -> FlowerClient:\n",
    "    return client_common(cid,\n",
    "                         model_save, path_yaml, path_roc, results_save, path_matrix,\n",
    "                         batch_size, trainloaders, valloaders, DEVICE, CLASSES)"
   ]
  },
  {
   "cell_type": "markdown",
   "metadata": {},
   "source": [
    "### Define the client_fn function and set up the simulation"
   ]
  },
  {
   "cell_type": "code",
   "execution_count": null,
   "metadata": {},
   "outputs": [
    {
     "name": "stderr",
     "output_type": "stream",
     "text": [
      "INFO flwr 2024-10-06 21:15:45,489 | app.py:175 | Starting Flower simulation, config: ServerConfig(num_rounds=20, round_timeout=None)\n"
     ]
    },
    {
     "name": "stdout",
     "output_type": "stream",
     "text": [
      "flwr 1.5.0\n",
      "numpy 1.26.4\n",
      "torch 2.4.0+cu121\n",
      "torchvision 0.19.0+cu121\n",
      "Training on cuda:0\n",
      "Start simulation\n"
     ]
    },
    {
     "name": "stderr",
     "output_type": "stream",
     "text": [
      "2024-10-06 21:15:46,507\tWARNING utils.py:592 -- Ray currently does not support initializing Ray with fractional cpus. Your num_cpus will be truncated from 11.5 to 11.\n",
      "2024-10-06 21:15:47,705\tINFO worker.py:1786 -- Started a local Ray instance.\n",
      "INFO flwr 2024-10-06 21:15:48,229 | app.py:210 | Flower VCE: Ray initialized with resources: {'object_store_memory': 72581487820.0, 'GPU': 1.0, 'CPU': 11.0, 'node:10.42.22.191': 1.0, 'node:__internal_head__': 1.0, 'memory': 159356804916.0, 'accelerator_type:A100': 1.0}\n",
      "INFO flwr 2024-10-06 21:15:48,229 | app.py:224 | Flower VCE: Resources for each Virtual Client: {'num_cpus': 11, 'num_gpus': 1}\n",
      "INFO flwr 2024-10-06 21:15:48,243 | app.py:270 | Flower VCE: Creating VirtualClientEngineActorPool with 1 actors\n",
      "INFO flwr 2024-10-06 21:15:48,244 | server.py:89 | Initializing global parameters\n",
      "INFO flwr 2024-10-06 21:15:48,244 | server.py:272 | Using initial parameters provided by strategy\n",
      "INFO flwr 2024-10-06 21:15:48,244 | server.py:91 | Evaluating initial parameters\n"
     ]
    },
    {
     "name": "stdout",
     "output_type": "stream",
     "text": [
      "Updated model\n"
     ]
    },
    {
     "name": "stderr",
     "output_type": "stream",
     "text": [
      "INFO flwr 2024-10-06 21:16:07,063 | server.py:94 | initial parameters (loss, other metrics): (1.4038276629788535, 2.026796383517129), {'accuracy': (31.398809523809522, 15.178571428571427)}\n",
      "INFO flwr 2024-10-06 21:16:07,064 | server.py:104 | FL starting\n",
      "DEBUG flwr 2024-10-06 21:16:07,065 | server.py:222 | fit_round 1: strategy sampled 10 clients (out of 10)\n"
     ]
    },
    {
     "name": "stdout",
     "output_type": "stream",
     "text": [
      "Server-side evaluation MRI loss 1.4038276629788535 / MRI accuracy 31.398809523809522\n",
      "Server-side evaluation DNA loss 2.026796383517129 / DNA accuracy 15.178571428571427\n"
     ]
    },
    {
     "name": "stderr",
     "output_type": "stream",
     "text": [
      "\u001b[36m(DefaultActor pid=52436)\u001b[0m /home/cudaq/.local/lib/python3.10/site-packages/torch/storage.py:414: FutureWarning: You are using `torch.load` with `weights_only=False` (the current default value), which uses the default pickle module implicitly. It is possible to construct malicious pickle data which will execute arbitrary code during unpickling (See https://github.com/pytorch/pytorch/blob/main/SECURITY.md#untrusted-models for more details). In a future release, the default value for `weights_only` will be flipped to `True`. This limits the functions that could be executed during unpickling. Arbitrary objects will no longer be allowed to be loaded via this mode unless they are explicitly allowlisted by the user via `torch.serialization.add_safe_globals`. We recommend you start setting `weights_only=True` for any use case where you don't have full control of the loaded file. Please open an issue on GitHub for any issues related to this experimental feature.\n",
      "\u001b[36m(DefaultActor pid=52436)\u001b[0m   return torch.load(io.BytesIO(b))\n"
     ]
    },
    {
     "name": "stdout",
     "output_type": "stream",
     "text": [
      "\u001b[36m(DefaultActor pid=52436)\u001b[0m [Client 8, round 1] fit, config: {'learning_rate': 0.003, 'batch_size': '32', 'server_round': 1, 'local_epochs': 10}\n",
      "\u001b[36m(DefaultActor pid=52436)\u001b[0m Updated model\n"
     ]
    },
    {
     "name": "stderr",
     "output_type": "stream",
     "text": [
      "  0%|\u001b[34m          \u001b[0m| 0/10 [00:00<?, ?it/s]\n"
     ]
    },
    {
     "name": "stdout",
     "output_type": "stream",
     "text": [
      "\u001b[36m(DefaultActor pid=52436)\u001b[0m \tTrain Epoch: 1 \tTrain_loss_mri: 5.7483 | Train_acc_mri: 23.3333 | Train_loss_dna: 6.0828 | Train_acc_dna: 14.2130 | Validation_loss_mri: 1.5002 | Validation_acc_mri: 9.3750 | Validation_loss_dna: 1.9480 | Validation_acc_dna: 7.8125\n"
     ]
    },
    {
     "name": "stderr",
     "output_type": "stream",
     "text": [
      " 10%|\u001b[34m█         \u001b[0m| 1/10 [00:01<00:15,  1.78s/it]\n"
     ]
    },
    {
     "name": "stdout",
     "output_type": "stream",
     "text": [
      "\u001b[36m(DefaultActor pid=52436)\u001b[0m \tTrain Epoch: 2 \tTrain_loss_mri: 1.3937 | Train_acc_mri: 27.4537 | Train_loss_dna: 2.0401 | Train_acc_dna: 12.7083 | Validation_loss_mri: 1.3490 | Validation_acc_mri: 29.1667 | Validation_loss_dna: 1.9116 | Validation_acc_dna: 21.3542\n"
     ]
    },
    {
     "name": "stderr",
     "output_type": "stream",
     "text": [
      " 20%|\u001b[34m██        \u001b[0m| 2/10 [00:03<00:12,  1.54s/it]\n"
     ]
    },
    {
     "name": "stdout",
     "output_type": "stream",
     "text": [
      "\u001b[36m(DefaultActor pid=52436)\u001b[0m \tTrain Epoch: 3 \tTrain_loss_mri: 1.2581 | Train_acc_mri: 28.5069 | Train_loss_dna: 1.9429 | Train_acc_dna: 16.7940 | Validation_loss_mri: 1.1364 | Validation_acc_mri: 36.9792 | Validation_loss_dna: 1.8700 | Validation_acc_dna: 21.3542\n"
     ]
    },
    {
     "name": "stderr",
     "output_type": "stream",
     "text": [
      " 30%|\u001b[34m███       \u001b[0m| 3/10 [00:04<00:10,  1.45s/it]\n"
     ]
    },
    {
     "name": "stdout",
     "output_type": "stream",
     "text": [
      "\u001b[36m(DefaultActor pid=52436)\u001b[0m \tTrain Epoch: 4 \tTrain_loss_mri: 1.1467 | Train_acc_mri: 54.4444 | Train_loss_dna: 1.8702 | Train_acc_dna: 19.4676 | Validation_loss_mri: 1.0538 | Validation_acc_mri: 50.5208 | Validation_loss_dna: 1.9340 | Validation_acc_dna: 22.9167\n"
     ]
    },
    {
     "name": "stderr",
     "output_type": "stream",
     "text": [
      " 40%|\u001b[34m████      \u001b[0m| 4/10 [00:05<00:08,  1.44s/it]\n"
     ]
    },
    {
     "name": "stdout",
     "output_type": "stream",
     "text": [
      "\u001b[36m(DefaultActor pid=52436)\u001b[0m \tTrain Epoch: 5 \tTrain_loss_mri: 0.9854 | Train_acc_mri: 53.0787 | Train_loss_dna: 1.6831 | Train_acc_dna: 28.8194 | Validation_loss_mri: 1.0992 | Validation_acc_mri: 50.5208 | Validation_loss_dna: 2.0606 | Validation_acc_dna: 29.1667\n"
     ]
    },
    {
     "name": "stderr",
     "output_type": "stream",
     "text": [
      " 50%|\u001b[34m█████     \u001b[0m| 5/10 [00:07<00:07,  1.45s/it]\n"
     ]
    },
    {
     "name": "stdout",
     "output_type": "stream",
     "text": [
      "\u001b[36m(DefaultActor pid=52436)\u001b[0m \tTrain Epoch: 6 \tTrain_loss_mri: 0.8535 | Train_acc_mri: 69.1088 | Train_loss_dna: 1.5678 | Train_acc_dna: 39.1898 | Validation_loss_mri: 0.9721 | Validation_acc_mri: 63.0208 | Validation_loss_dna: 2.0111 | Validation_acc_dna: 30.7292\n"
     ]
    },
    {
     "name": "stderr",
     "output_type": "stream",
     "text": [
      " 60%|\u001b[34m██████    \u001b[0m| 6/10 [00:08<00:05,  1.45s/it]\n"
     ]
    },
    {
     "name": "stdout",
     "output_type": "stream",
     "text": [
      "\u001b[36m(DefaultActor pid=52436)\u001b[0m \tTrain Epoch: 7 \tTrain_loss_mri: 0.6724 | Train_acc_mri: 77.8356 | Train_loss_dna: 1.4464 | Train_acc_dna: 42.5694 | Validation_loss_mri: 1.0055 | Validation_acc_mri: 47.9167 | Validation_loss_dna: 1.8490 | Validation_acc_dna: 33.8542\n"
     ]
    },
    {
     "name": "stderr",
     "output_type": "stream",
     "text": [
      " 70%|\u001b[34m███████   \u001b[0m| 7/10 [00:10<00:04,  1.42s/it]\n"
     ]
    },
    {
     "name": "stdout",
     "output_type": "stream",
     "text": [
      "\u001b[36m(DefaultActor pid=52436)\u001b[0m \tTrain Epoch: 8 \tTrain_loss_mri: 0.5494 | Train_acc_mri: 81.1343 | Train_loss_dna: 1.2340 | Train_acc_dna: 49.3634 | Validation_loss_mri: 1.1289 | Validation_acc_mri: 49.4792 | Validation_loss_dna: 1.6570 | Validation_acc_dna: 36.9792\n"
     ]
    },
    {
     "name": "stderr",
     "output_type": "stream",
     "text": [
      " 80%|\u001b[34m████████  \u001b[0m| 8/10 [00:11<00:02,  1.42s/it]\n"
     ]
    },
    {
     "name": "stdout",
     "output_type": "stream",
     "text": [
      "\u001b[36m(DefaultActor pid=52436)\u001b[0m \tTrain Epoch: 9 \tTrain_loss_mri: 0.4280 | Train_acc_mri: 85.7060 | Train_loss_dna: 1.0593 | Train_acc_dna: 53.7037 | Validation_loss_mri: 1.3516 | Validation_acc_mri: 43.2292 | Validation_loss_dna: 1.7581 | Validation_acc_dna: 30.7292\n"
     ]
    },
    {
     "name": "stderr",
     "output_type": "stream",
     "text": [
      " 90%|\u001b[34m█████████ \u001b[0m| 9/10 [00:12<00:01,  1.40s/it]\n"
     ]
    },
    {
     "name": "stdout",
     "output_type": "stream",
     "text": [
      "\u001b[36m(DefaultActor pid=52436)\u001b[0m \tTrain Epoch: 10 \tTrain_loss_mri: 0.3374 | Train_acc_mri: 87.6389 | Train_loss_dna: 0.8718 | Train_acc_dna: 61.8634 | Validation_loss_mri: 1.3331 | Validation_acc_mri: 61.4583 | Validation_loss_dna: 2.0402 | Validation_acc_dna: 22.9167\n",
      "\u001b[36m(DefaultActor pid=52436)\u001b[0m save graph in  results/FL_DNA+MRI/\n"
     ]
    },
    {
     "name": "stderr",
     "output_type": "stream",
     "text": [
      "100%|\u001b[34m██████████\u001b[0m| 10/10 [00:14<00:00,  1.43s/it]\n"
     ]
    },
    {
     "name": "stdout",
     "output_type": "stream",
     "text": [
      "\u001b[36m(DefaultActor pid=52436)\u001b[0m [Client 0, round 1] fit, config: {'learning_rate': 0.003, 'batch_size': '32', 'server_round': 1, 'local_epochs': 10}\n",
      "\u001b[36m(DefaultActor pid=52436)\u001b[0m Updated model\n"
     ]
    },
    {
     "name": "stderr",
     "output_type": "stream",
     "text": [
      "  0%|\u001b[34m          \u001b[0m| 0/10 [00:00<?, ?it/s]\n"
     ]
    },
    {
     "name": "stdout",
     "output_type": "stream",
     "text": [
      "\u001b[36m(DefaultActor pid=52436)\u001b[0m \tTrain Epoch: 1 \tTrain_loss_mri: 5.4779 | Train_acc_mri: 32.0255 | Train_loss_dna: 5.2858 | Train_acc_dna: 12.2454 | Validation_loss_mri: 1.4380 | Validation_acc_mri: 36.9792 | Validation_loss_dna: 2.0402 | Validation_acc_dna: 21.3542\n"
     ]
    },
    {
     "name": "stderr",
     "output_type": "stream",
     "text": [
      " 10%|\u001b[34m█         \u001b[0m| 1/10 [00:01<00:14,  1.61s/it]\n"
     ]
    },
    {
     "name": "stdout",
     "output_type": "stream",
     "text": [
      "\u001b[36m(DefaultActor pid=52436)\u001b[0m \tTrain Epoch: 2 \tTrain_loss_mri: 1.3748 | Train_acc_mri: 40.8333 | Train_loss_dna: 2.0023 | Train_acc_dna: 13.6690 | Validation_loss_mri: 1.4358 | Validation_acc_mri: 12.5000 | Validation_loss_dna: 2.0285 | Validation_acc_dna: 7.8125\n"
     ]
    },
    {
     "name": "stderr",
     "output_type": "stream",
     "text": [
      " 20%|\u001b[34m██        \u001b[0m| 2/10 [00:02<00:11,  1.45s/it]\n"
     ]
    },
    {
     "name": "stdout",
     "output_type": "stream",
     "text": [
      "\u001b[36m(DefaultActor pid=52436)\u001b[0m \tTrain Epoch: 3 \tTrain_loss_mri: 1.3399 | Train_acc_mri: 39.3056 | Train_loss_dna: 1.9651 | Train_acc_dna: 13.9815 | Validation_loss_mri: 1.3255 | Validation_acc_mri: 35.4167 | Validation_loss_dna: 2.0335 | Validation_acc_dna: 7.8125\n"
     ]
    },
    {
     "name": "stderr",
     "output_type": "stream",
     "text": [
      " 30%|\u001b[34m███       \u001b[0m| 3/10 [00:04<00:09,  1.39s/it]\n"
     ]
    },
    {
     "name": "stdout",
     "output_type": "stream",
     "text": [
      "\u001b[36m(DefaultActor pid=52436)\u001b[0m \tTrain Epoch: 4 \tTrain_loss_mri: 1.1423 | Train_acc_mri: 61.4352 | Train_loss_dna: 1.8657 | Train_acc_dna: 19.8958 | Validation_loss_mri: 1.1721 | Validation_acc_mri: 61.4583 | Validation_loss_dna: 1.8377 | Validation_acc_dna: 17.1875\n"
     ]
    },
    {
     "name": "stderr",
     "output_type": "stream",
     "text": [
      " 40%|\u001b[34m████      \u001b[0m| 4/10 [00:05<00:08,  1.37s/it]\n"
     ]
    },
    {
     "name": "stdout",
     "output_type": "stream",
     "text": [
      "\u001b[36m(DefaultActor pid=52436)\u001b[0m \tTrain Epoch: 5 \tTrain_loss_mri: 0.9559 | Train_acc_mri: 65.1620 | Train_loss_dna: 1.7437 | Train_acc_dna: 30.9722 | Validation_loss_mri: 1.1087 | Validation_acc_mri: 59.8958 | Validation_loss_dna: 1.6855 | Validation_acc_dna: 27.6042\n"
     ]
    },
    {
     "name": "stderr",
     "output_type": "stream",
     "text": [
      " 50%|\u001b[34m█████     \u001b[0m| 5/10 [00:06<00:06,  1.37s/it]\n"
     ]
    },
    {
     "name": "stdout",
     "output_type": "stream",
     "text": [
      "\u001b[36m(DefaultActor pid=52436)\u001b[0m \tTrain Epoch: 6 \tTrain_loss_mri: 0.8030 | Train_acc_mri: 69.3403 | Train_loss_dna: 1.5745 | Train_acc_dna: 33.0787 | Validation_loss_mri: 1.0976 | Validation_acc_mri: 61.4583 | Validation_loss_dna: 1.6866 | Validation_acc_dna: 33.8542\n"
     ]
    },
    {
     "name": "stderr",
     "output_type": "stream",
     "text": [
      " 60%|\u001b[34m██████    \u001b[0m| 6/10 [00:08<00:05,  1.37s/it]\n"
     ]
    },
    {
     "name": "stdout",
     "output_type": "stream",
     "text": [
      "\u001b[36m(DefaultActor pid=52436)\u001b[0m \tTrain Epoch: 7 \tTrain_loss_mri: 0.6803 | Train_acc_mri: 73.8310 | Train_loss_dna: 1.4421 | Train_acc_dna: 35.7755 | Validation_loss_mri: 1.0066 | Validation_acc_mri: 79.6875 | Validation_loss_dna: 1.4990 | Validation_acc_dna: 52.0833\n"
     ]
    },
    {
     "name": "stderr",
     "output_type": "stream",
     "text": [
      " 70%|\u001b[34m███████   \u001b[0m| 7/10 [00:09<00:04,  1.38s/it]\n"
     ]
    },
    {
     "name": "stdout",
     "output_type": "stream",
     "text": [
      "\u001b[36m(DefaultActor pid=52436)\u001b[0m \tTrain Epoch: 8 \tTrain_loss_mri: 0.6068 | Train_acc_mri: 81.0995 | Train_loss_dna: 1.2639 | Train_acc_dna: 42.7431 | Validation_loss_mri: 1.0752 | Validation_acc_mri: 63.0208 | Validation_loss_dna: 1.6714 | Validation_acc_dna: 38.5417\n"
     ]
    },
    {
     "name": "stderr",
     "output_type": "stream",
     "text": [
      " 80%|\u001b[34m████████  \u001b[0m| 8/10 [00:11<00:02,  1.41s/it]\n"
     ]
    },
    {
     "name": "stdout",
     "output_type": "stream",
     "text": [
      "\u001b[36m(DefaultActor pid=52436)\u001b[0m \tTrain Epoch: 9 \tTrain_loss_mri: 0.5427 | Train_acc_mri: 80.2199 | Train_loss_dna: 0.9985 | Train_acc_dna: 58.4259 | Validation_loss_mri: 1.1170 | Validation_acc_mri: 81.2500 | Validation_loss_dna: 1.9466 | Validation_acc_dna: 35.4167\n"
     ]
    },
    {
     "name": "stderr",
     "output_type": "stream",
     "text": [
      " 90%|\u001b[34m█████████ \u001b[0m| 9/10 [00:12<00:01,  1.39s/it]\n"
     ]
    },
    {
     "name": "stdout",
     "output_type": "stream",
     "text": [
      "\u001b[36m(DefaultActor pid=52436)\u001b[0m \tTrain Epoch: 10 \tTrain_loss_mri: 0.3426 | Train_acc_mri: 87.3264 | Train_loss_dna: 0.8529 | Train_acc_dna: 71.2153 | Validation_loss_mri: 1.3126 | Validation_acc_mri: 79.6875 | Validation_loss_dna: 1.5104 | Validation_acc_dna: 40.1042\n",
      "\u001b[36m(DefaultActor pid=52436)\u001b[0m save graph in  results/FL_DNA+MRI/\n"
     ]
    },
    {
     "name": "stderr",
     "output_type": "stream",
     "text": [
      "100%|\u001b[34m██████████\u001b[0m| 10/10 [00:13<00:00,  1.40s/it]\n"
     ]
    },
    {
     "name": "stdout",
     "output_type": "stream",
     "text": [
      "\u001b[36m(DefaultActor pid=52436)\u001b[0m [Client 7, round 1] fit, config: {'learning_rate': 0.003, 'batch_size': '32', 'server_round': 1, 'local_epochs': 10}\n",
      "\u001b[36m(DefaultActor pid=52436)\u001b[0m Updated model\n"
     ]
    },
    {
     "name": "stderr",
     "output_type": "stream",
     "text": [
      "  0%|\u001b[34m          \u001b[0m| 0/10 [00:00<?, ?it/s]\n"
     ]
    },
    {
     "name": "stdout",
     "output_type": "stream",
     "text": [
      "\u001b[36m(DefaultActor pid=52436)\u001b[0m \tTrain Epoch: 1 \tTrain_loss_mri: 6.2493 | Train_acc_mri: 28.9583 | Train_loss_dna: 5.8112 | Train_acc_dna: 13.1597 | Validation_loss_mri: 1.4352 | Validation_acc_mri: 32.2917 | Validation_loss_dna: 2.0531 | Validation_acc_dna: 6.2500\n"
     ]
    },
    {
     "name": "stderr",
     "output_type": "stream",
     "text": [
      " 10%|\u001b[34m█         \u001b[0m| 1/10 [00:01<00:14,  1.58s/it]\n"
     ]
    },
    {
     "name": "stdout",
     "output_type": "stream",
     "text": [
      "\u001b[36m(DefaultActor pid=52436)\u001b[0m \tTrain Epoch: 2 \tTrain_loss_mri: 1.3940 | Train_acc_mri: 31.8866 | Train_loss_dna: 2.0115 | Train_acc_dna: 12.2222 | Validation_loss_mri: 1.4267 | Validation_acc_mri: 32.2917 | Validation_loss_dna: 2.0353 | Validation_acc_dna: 6.2500\n"
     ]
    },
    {
     "name": "stderr",
     "output_type": "stream",
     "text": [
      " 20%|\u001b[34m██        \u001b[0m| 2/10 [00:02<00:11,  1.42s/it]\n"
     ]
    },
    {
     "name": "stdout",
     "output_type": "stream",
     "text": [
      "\u001b[36m(DefaultActor pid=52436)\u001b[0m \tTrain Epoch: 3 \tTrain_loss_mri: 1.3745 | Train_acc_mri: 33.3333 | Train_loss_dna: 1.9806 | Train_acc_dna: 12.7315 | Validation_loss_mri: 1.4009 | Validation_acc_mri: 33.8542 | Validation_loss_dna: 2.0057 | Validation_acc_dna: 7.8125\n"
     ]
    },
    {
     "name": "stderr",
     "output_type": "stream",
     "text": [
      " 30%|\u001b[34m███       \u001b[0m| 3/10 [00:04<00:09,  1.38s/it]\n"
     ]
    },
    {
     "name": "stdout",
     "output_type": "stream",
     "text": [
      "\u001b[36m(DefaultActor pid=52436)\u001b[0m \tTrain Epoch: 4 \tTrain_loss_mri: 1.2766 | Train_acc_mri: 50.1273 | Train_loss_dna: 1.9084 | Train_acc_dna: 12.6157 | Validation_loss_mri: 1.2523 | Validation_acc_mri: 43.2292 | Validation_loss_dna: 1.9999 | Validation_acc_dna: 4.6875\n"
     ]
    },
    {
     "name": "stderr",
     "output_type": "stream",
     "text": [
      " 40%|\u001b[34m████      \u001b[0m| 4/10 [00:05<00:08,  1.36s/it]\n"
     ]
    },
    {
     "name": "stdout",
     "output_type": "stream",
     "text": [
      "\u001b[36m(DefaultActor pid=52436)\u001b[0m \tTrain Epoch: 5 \tTrain_loss_mri: 1.0741 | Train_acc_mri: 57.4884 | Train_loss_dna: 1.7625 | Train_acc_dna: 21.4005 | Validation_loss_mri: 1.1962 | Validation_acc_mri: 59.8958 | Validation_loss_dna: 1.9804 | Validation_acc_dna: 7.8125\n"
     ]
    },
    {
     "name": "stderr",
     "output_type": "stream",
     "text": [
      " 50%|\u001b[34m█████     \u001b[0m| 5/10 [00:06<00:06,  1.35s/it]\n"
     ]
    },
    {
     "name": "stdout",
     "output_type": "stream",
     "text": [
      "\u001b[36m(DefaultActor pid=52436)\u001b[0m \tTrain Epoch: 6 \tTrain_loss_mri: 0.9208 | Train_acc_mri: 62.3727 | Train_loss_dna: 1.6741 | Train_acc_dna: 27.2801 | Validation_loss_mri: 1.1061 | Validation_acc_mri: 58.3333 | Validation_loss_dna: 1.9088 | Validation_acc_dna: 19.7917\n"
     ]
    },
    {
     "name": "stderr",
     "output_type": "stream",
     "text": [
      " 60%|\u001b[34m██████    \u001b[0m| 6/10 [00:08<00:05,  1.36s/it]\n"
     ]
    },
    {
     "name": "stdout",
     "output_type": "stream",
     "text": [
      "\u001b[36m(DefaultActor pid=52436)\u001b[0m \tTrain Epoch: 7 \tTrain_loss_mri: 0.7718 | Train_acc_mri: 71.8403 | Train_loss_dna: 1.5358 | Train_acc_dna: 42.7662 | Validation_loss_mri: 0.9701 | Validation_acc_mri: 63.0208 | Validation_loss_dna: 1.8040 | Validation_acc_dna: 33.8542\n"
     ]
    },
    {
     "name": "stderr",
     "output_type": "stream",
     "text": [
      " 70%|\u001b[34m███████   \u001b[0m| 7/10 [00:09<00:04,  1.36s/it]\n"
     ]
    },
    {
     "name": "stdout",
     "output_type": "stream",
     "text": [
      "\u001b[36m(DefaultActor pid=52436)\u001b[0m \tTrain Epoch: 8 \tTrain_loss_mri: 0.7414 | Train_acc_mri: 69.8495 | Train_loss_dna: 1.3756 | Train_acc_dna: 42.9398 | Validation_loss_mri: 0.9484 | Validation_acc_mri: 64.5833 | Validation_loss_dna: 1.9815 | Validation_acc_dna: 32.2917\n"
     ]
    },
    {
     "name": "stderr",
     "output_type": "stream",
     "text": [
      " 80%|\u001b[34m████████  \u001b[0m| 8/10 [00:10<00:02,  1.36s/it]\n"
     ]
    },
    {
     "name": "stdout",
     "output_type": "stream",
     "text": [
      "\u001b[36m(DefaultActor pid=52436)\u001b[0m \tTrain Epoch: 9 \tTrain_loss_mri: 0.6521 | Train_acc_mri: 77.9514 | Train_loss_dna: 1.2181 | Train_acc_dna: 56.2384 | Validation_loss_mri: 0.9442 | Validation_acc_mri: 64.5833 | Validation_loss_dna: 1.7982 | Validation_acc_dna: 35.4167\n"
     ]
    },
    {
     "name": "stderr",
     "output_type": "stream",
     "text": [
      " 90%|\u001b[34m█████████ \u001b[0m| 9/10 [00:12<00:01,  1.37s/it]\n"
     ]
    },
    {
     "name": "stdout",
     "output_type": "stream",
     "text": [
      "\u001b[36m(DefaultActor pid=52436)\u001b[0m \tTrain Epoch: 10 \tTrain_loss_mri: 0.6604 | Train_acc_mri: 77.3495 | Train_loss_dna: 1.0897 | Train_acc_dna: 57.0949 | Validation_loss_mri: 1.0033 | Validation_acc_mri: 61.4583 | Validation_loss_dna: 2.0545 | Validation_acc_dna: 50.5208\n",
      "\u001b[36m(DefaultActor pid=52436)\u001b[0m save graph in  results/FL_DNA+MRI/\n"
     ]
    },
    {
     "name": "stderr",
     "output_type": "stream",
     "text": [
      "100%|\u001b[34m██████████\u001b[0m| 10/10 [00:13<00:00,  1.38s/it]\n"
     ]
    },
    {
     "name": "stdout",
     "output_type": "stream",
     "text": [
      "\u001b[36m(DefaultActor pid=52436)\u001b[0m [Client 1, round 1] fit, config: {'learning_rate': 0.003, 'batch_size': '32', 'server_round': 1, 'local_epochs': 10}\n",
      "\u001b[36m(DefaultActor pid=52436)\u001b[0m Updated model\n"
     ]
    },
    {
     "name": "stderr",
     "output_type": "stream",
     "text": [
      "  0%|\u001b[34m          \u001b[0m| 0/10 [00:00<?, ?it/s]\n"
     ]
    },
    {
     "name": "stdout",
     "output_type": "stream",
     "text": [
      "\u001b[36m(DefaultActor pid=52436)\u001b[0m \tTrain Epoch: 1 \tTrain_loss_mri: 4.5586 | Train_acc_mri: 22.4769 | Train_loss_dna: 6.8590 | Train_acc_dna: 15.0347 | Validation_loss_mri: 1.3473 | Validation_acc_mri: 35.4167 | Validation_loss_dna: 2.1191 | Validation_acc_dna: 1.5625\n"
     ]
    },
    {
     "name": "stderr",
     "output_type": "stream",
     "text": [
      " 10%|\u001b[34m█         \u001b[0m| 1/10 [00:01<00:13,  1.55s/it]\n"
     ]
    },
    {
     "name": "stdout",
     "output_type": "stream",
     "text": [
      "\u001b[36m(DefaultActor pid=52436)\u001b[0m \tTrain Epoch: 2 \tTrain_loss_mri: 1.4120 | Train_acc_mri: 27.2801 | Train_loss_dna: 1.9924 | Train_acc_dna: 17.8472 | Validation_loss_mri: 1.2395 | Validation_acc_mri: 55.2083 | Validation_loss_dna: 2.0616 | Validation_acc_dna: 9.3750\n"
     ]
    },
    {
     "name": "stderr",
     "output_type": "stream",
     "text": [
      " 20%|\u001b[34m██        \u001b[0m| 2/10 [00:02<00:11,  1.44s/it]\n"
     ]
    },
    {
     "name": "stdout",
     "output_type": "stream",
     "text": [
      "\u001b[36m(DefaultActor pid=52436)\u001b[0m \tTrain Epoch: 3 \tTrain_loss_mri: 1.3486 | Train_acc_mri: 32.5926 | Train_loss_dna: 1.9366 | Train_acc_dna: 18.3333 | Validation_loss_mri: 1.0999 | Validation_acc_mri: 81.2500 | Validation_loss_dna: 1.9720 | Validation_acc_dna: 17.1875\n"
     ]
    },
    {
     "name": "stderr",
     "output_type": "stream",
     "text": [
      " 30%|\u001b[34m███       \u001b[0m| 3/10 [00:04<00:09,  1.40s/it]\n"
     ]
    },
    {
     "name": "stdout",
     "output_type": "stream",
     "text": [
      "\u001b[36m(DefaultActor pid=52436)\u001b[0m \tTrain Epoch: 4 \tTrain_loss_mri: 1.1017 | Train_acc_mri: 58.5995 | Train_loss_dna: 1.8537 | Train_acc_dna: 25.4282 | Validation_loss_mri: 0.8611 | Validation_acc_mri: 64.5833 | Validation_loss_dna: 2.0270 | Validation_acc_dna: 9.3750\n"
     ]
    },
    {
     "name": "stderr",
     "output_type": "stream",
     "text": [
      " 40%|\u001b[34m████      \u001b[0m| 4/10 [00:05<00:08,  1.38s/it]\n"
     ]
    },
    {
     "name": "stdout",
     "output_type": "stream",
     "text": [
      "\u001b[36m(DefaultActor pid=52436)\u001b[0m \tTrain Epoch: 5 \tTrain_loss_mri: 0.8499 | Train_acc_mri: 68.7731 | Train_loss_dna: 1.7791 | Train_acc_dna: 28.5301 | Validation_loss_mri: 0.7737 | Validation_acc_mri: 67.7083 | Validation_loss_dna: 1.9558 | Validation_acc_dna: 26.0417\n"
     ]
    },
    {
     "name": "stderr",
     "output_type": "stream",
     "text": [
      " 50%|\u001b[34m█████     \u001b[0m| 5/10 [00:06<00:06,  1.37s/it]\n"
     ]
    },
    {
     "name": "stdout",
     "output_type": "stream",
     "text": [
      "\u001b[36m(DefaultActor pid=52436)\u001b[0m \tTrain Epoch: 6 \tTrain_loss_mri: 0.6993 | Train_acc_mri: 73.5185 | Train_loss_dna: 1.5972 | Train_acc_dna: 33.0208 | Validation_loss_mri: 0.8483 | Validation_acc_mri: 67.7083 | Validation_loss_dna: 1.9053 | Validation_acc_dna: 14.0625\n"
     ]
    },
    {
     "name": "stderr",
     "output_type": "stream",
     "text": [
      " 60%|\u001b[34m██████    \u001b[0m| 6/10 [00:08<00:05,  1.36s/it]\n"
     ]
    },
    {
     "name": "stdout",
     "output_type": "stream",
     "text": [
      "\u001b[36m(DefaultActor pid=52436)\u001b[0m \tTrain Epoch: 7 \tTrain_loss_mri: 0.6576 | Train_acc_mri: 74.2245 | Train_loss_dna: 1.2839 | Train_acc_dna: 50.3819 | Validation_loss_mri: 0.5405 | Validation_acc_mri: 77.0833 | Validation_loss_dna: 2.0778 | Validation_acc_dna: 15.6250\n"
     ]
    },
    {
     "name": "stderr",
     "output_type": "stream",
     "text": [
      " 70%|\u001b[34m███████   \u001b[0m| 7/10 [00:09<00:04,  1.37s/it]\n"
     ]
    },
    {
     "name": "stdout",
     "output_type": "stream",
     "text": [
      "\u001b[36m(DefaultActor pid=52436)\u001b[0m \tTrain Epoch: 8 \tTrain_loss_mri: 0.4667 | Train_acc_mri: 80.9606 | Train_loss_dna: 1.1936 | Train_acc_dna: 52.7431 | Validation_loss_mri: 0.4737 | Validation_acc_mri: 73.9583 | Validation_loss_dna: 1.8970 | Validation_acc_dna: 32.2917\n"
     ]
    },
    {
     "name": "stderr",
     "output_type": "stream",
     "text": [
      " 80%|\u001b[34m████████  \u001b[0m| 8/10 [00:11<00:02,  1.37s/it]\n"
     ]
    },
    {
     "name": "stdout",
     "output_type": "stream",
     "text": [
      "\u001b[36m(DefaultActor pid=52436)\u001b[0m \tTrain Epoch: 9 \tTrain_loss_mri: 0.4132 | Train_acc_mri: 83.6343 | Train_loss_dna: 0.9506 | Train_acc_dna: 61.3542 | Validation_loss_mri: 0.5078 | Validation_acc_mri: 72.3958 | Validation_loss_dna: 2.5302 | Validation_acc_dna: 36.9792\n"
     ]
    },
    {
     "name": "stderr",
     "output_type": "stream",
     "text": [
      " 90%|\u001b[34m█████████ \u001b[0m| 9/10 [00:12<00:01,  1.37s/it]\n"
     ]
    },
    {
     "name": "stdout",
     "output_type": "stream",
     "text": [
      "\u001b[36m(DefaultActor pid=52436)\u001b[0m \tTrain Epoch: 10 \tTrain_loss_mri: 0.3560 | Train_acc_mri: 86.7014 | Train_loss_dna: 0.8546 | Train_acc_dna: 64.3634 | Validation_loss_mri: 0.8420 | Validation_acc_mri: 72.3958 | Validation_loss_dna: 2.3759 | Validation_acc_dna: 17.1875\n",
      "\u001b[36m(DefaultActor pid=52436)\u001b[0m save graph in  results/FL_DNA+MRI/\n"
     ]
    },
    {
     "name": "stderr",
     "output_type": "stream",
     "text": [
      "100%|\u001b[34m██████████\u001b[0m| 10/10 [00:13<00:00,  1.38s/it]\n"
     ]
    },
    {
     "name": "stdout",
     "output_type": "stream",
     "text": [
      "\u001b[36m(DefaultActor pid=52436)\u001b[0m [Client 4, round 1] fit, config: {'learning_rate': 0.003, 'batch_size': '32', 'server_round': 1, 'local_epochs': 10}\n",
      "\u001b[36m(DefaultActor pid=52436)\u001b[0m Updated model\n"
     ]
    },
    {
     "name": "stderr",
     "output_type": "stream",
     "text": [
      "  0%|\u001b[34m          \u001b[0m| 0/10 [00:00<?, ?it/s]\n"
     ]
    },
    {
     "name": "stdout",
     "output_type": "stream",
     "text": [
      "\u001b[36m(DefaultActor pid=52436)\u001b[0m \tTrain Epoch: 1 \tTrain_loss_mri: 6.3058 | Train_acc_mri: 29.5255 | Train_loss_dna: 5.5124 | Train_acc_dna: 6.9329 | Validation_loss_mri: 1.5254 | Validation_acc_mri: 3.1250 | Validation_loss_dna: 2.0261 | Validation_acc_dna: 6.2500\n"
     ]
    },
    {
     "name": "stderr",
     "output_type": "stream",
     "text": [
      " 10%|\u001b[34m█         \u001b[0m| 1/10 [00:01<00:13,  1.50s/it]\n"
     ]
    },
    {
     "name": "stdout",
     "output_type": "stream",
     "text": [
      "\u001b[36m(DefaultActor pid=52436)\u001b[0m \tTrain Epoch: 2 \tTrain_loss_mri: 1.3943 | Train_acc_mri: 29.1551 | Train_loss_dna: 2.0256 | Train_acc_dna: 13.2986 | Validation_loss_mri: 1.4864 | Validation_acc_mri: 6.2500 | Validation_loss_dna: 1.9898 | Validation_acc_dna: 12.5000\n"
     ]
    },
    {
     "name": "stderr",
     "output_type": "stream",
     "text": [
      " 20%|\u001b[34m██        \u001b[0m| 2/10 [00:02<00:11,  1.39s/it]\n"
     ]
    },
    {
     "name": "stdout",
     "output_type": "stream",
     "text": [
      "\u001b[36m(DefaultActor pid=52436)\u001b[0m \tTrain Epoch: 3 \tTrain_loss_mri: 1.3835 | Train_acc_mri: 28.6111 | Train_loss_dna: 1.9781 | Train_acc_dna: 16.1690 | Validation_loss_mri: 1.4219 | Validation_acc_mri: 12.5000 | Validation_loss_dna: 1.9343 | Validation_acc_dna: 10.9375\n"
     ]
    },
    {
     "name": "stderr",
     "output_type": "stream",
     "text": [
      " 30%|\u001b[34m███       \u001b[0m| 3/10 [00:04<00:09,  1.38s/it]\n"
     ]
    },
    {
     "name": "stdout",
     "output_type": "stream",
     "text": [
      "\u001b[36m(DefaultActor pid=52436)\u001b[0m \tTrain Epoch: 4 \tTrain_loss_mri: 1.2952 | Train_acc_mri: 42.9977 | Train_loss_dna: 1.9318 | Train_acc_dna: 14.6065 | Validation_loss_mri: 1.3572 | Validation_acc_mri: 10.9375 | Validation_loss_dna: 1.8932 | Validation_acc_dna: 10.9375\n"
     ]
    },
    {
     "name": "stderr",
     "output_type": "stream",
     "text": [
      " 40%|\u001b[34m████      \u001b[0m| 4/10 [00:05<00:08,  1.37s/it]\n"
     ]
    },
    {
     "name": "stdout",
     "output_type": "stream",
     "text": [
      "\u001b[36m(DefaultActor pid=52436)\u001b[0m \tTrain Epoch: 5 \tTrain_loss_mri: 1.1708 | Train_acc_mri: 57.0833 | Train_loss_dna: 1.8268 | Train_acc_dna: 19.8380 | Validation_loss_mri: 1.3437 | Validation_acc_mri: 29.1667 | Validation_loss_dna: 1.8939 | Validation_acc_dna: 18.7500\n"
     ]
    },
    {
     "name": "stderr",
     "output_type": "stream",
     "text": [
      " 50%|\u001b[34m█████     \u001b[0m| 5/10 [00:06<00:06,  1.37s/it]\n"
     ]
    },
    {
     "name": "stdout",
     "output_type": "stream",
     "text": [
      "\u001b[36m(DefaultActor pid=52436)\u001b[0m \tTrain Epoch: 6 \tTrain_loss_mri: 0.9621 | Train_acc_mri: 64.2824 | Train_loss_dna: 1.7162 | Train_acc_dna: 26.2847 | Validation_loss_mri: 1.2283 | Validation_acc_mri: 38.5417 | Validation_loss_dna: 1.9654 | Validation_acc_dna: 7.8125\n"
     ]
    },
    {
     "name": "stderr",
     "output_type": "stream",
     "text": [
      " 60%|\u001b[34m██████    \u001b[0m| 6/10 [00:08<00:05,  1.36s/it]\n"
     ]
    },
    {
     "name": "stdout",
     "output_type": "stream",
     "text": [
      "\u001b[36m(DefaultActor pid=52436)\u001b[0m \tTrain Epoch: 7 \tTrain_loss_mri: 0.8279 | Train_acc_mri: 69.2477 | Train_loss_dna: 1.6095 | Train_acc_dna: 26.7708 | Validation_loss_mri: 1.1778 | Validation_acc_mri: 41.6667 | Validation_loss_dna: 1.9765 | Validation_acc_dna: 12.5000\n"
     ]
    },
    {
     "name": "stderr",
     "output_type": "stream",
     "text": [
      " 70%|\u001b[34m███████   \u001b[0m| 7/10 [00:09<00:04,  1.35s/it]\n"
     ]
    },
    {
     "name": "stdout",
     "output_type": "stream",
     "text": [
      "\u001b[36m(DefaultActor pid=52436)\u001b[0m \tTrain Epoch: 8 \tTrain_loss_mri: 0.7077 | Train_acc_mri: 75.7639 | Train_loss_dna: 1.4651 | Train_acc_dna: 35.5208 | Validation_loss_mri: 0.9835 | Validation_acc_mri: 64.5833 | Validation_loss_dna: 1.8020 | Validation_acc_dna: 14.0625\n"
     ]
    },
    {
     "name": "stderr",
     "output_type": "stream",
     "text": [
      " 80%|\u001b[34m████████  \u001b[0m| 8/10 [00:10<00:02,  1.34s/it]\n"
     ]
    },
    {
     "name": "stdout",
     "output_type": "stream",
     "text": [
      "\u001b[36m(DefaultActor pid=52436)\u001b[0m \tTrain Epoch: 9 \tTrain_loss_mri: 0.5550 | Train_acc_mri: 83.2292 | Train_loss_dna: 1.3482 | Train_acc_dna: 37.5116 | Validation_loss_mri: 1.0548 | Validation_acc_mri: 34.3750 | Validation_loss_dna: 1.7667 | Validation_acc_dna: 38.5417\n"
     ]
    },
    {
     "name": "stderr",
     "output_type": "stream",
     "text": [
      " 90%|\u001b[34m█████████ \u001b[0m| 9/10 [00:12<00:01,  1.34s/it]\n"
     ]
    },
    {
     "name": "stdout",
     "output_type": "stream",
     "text": [
      "\u001b[36m(DefaultActor pid=52436)\u001b[0m \tTrain Epoch: 10 \tTrain_loss_mri: 0.4914 | Train_acc_mri: 83.9120 | Train_loss_dna: 1.1285 | Train_acc_dna: 53.2292 | Validation_loss_mri: 1.1274 | Validation_acc_mri: 32.8125 | Validation_loss_dna: 1.7292 | Validation_acc_dna: 38.5417\n",
      "\u001b[36m(DefaultActor pid=52436)\u001b[0m save graph in  results/FL_DNA+MRI/\n"
     ]
    },
    {
     "name": "stderr",
     "output_type": "stream",
     "text": [
      "100%|\u001b[34m██████████\u001b[0m| 10/10 [00:13<00:00,  1.35s/it]\n"
     ]
    },
    {
     "name": "stdout",
     "output_type": "stream",
     "text": [
      "\u001b[36m(DefaultActor pid=52436)\u001b[0m [Client 3, round 1] fit, config: {'learning_rate': 0.003, 'batch_size': '32', 'server_round': 1, 'local_epochs': 10}\n",
      "\u001b[36m(DefaultActor pid=52436)\u001b[0m Updated model\n"
     ]
    },
    {
     "name": "stderr",
     "output_type": "stream",
     "text": [
      "  0%|\u001b[34m          \u001b[0m| 0/10 [00:00<?, ?it/s]\n"
     ]
    },
    {
     "name": "stdout",
     "output_type": "stream",
     "text": [
      "\u001b[36m(DefaultActor pid=52436)\u001b[0m \tTrain Epoch: 1 \tTrain_loss_mri: 4.2678 | Train_acc_mri: 28.9583 | Train_loss_dna: 4.7082 | Train_acc_dna: 13.7269 | Validation_loss_mri: 1.2903 | Validation_acc_mri: 45.8333 | Validation_loss_dna: 2.1751 | Validation_acc_dna: 3.1250\n"
     ]
    },
    {
     "name": "stderr",
     "output_type": "stream",
     "text": [
      " 10%|\u001b[34m█         \u001b[0m| 1/10 [00:01<00:13,  1.55s/it]\n"
     ]
    },
    {
     "name": "stdout",
     "output_type": "stream",
     "text": [
      "\u001b[36m(DefaultActor pid=52436)\u001b[0m \tTrain Epoch: 2 \tTrain_loss_mri: 1.3899 | Train_acc_mri: 32.5116 | Train_loss_dna: 2.0170 | Train_acc_dna: 14.6065 | Validation_loss_mri: 1.3658 | Validation_acc_mri: 15.6250 | Validation_loss_dna: 2.1014 | Validation_acc_dna: 4.6875\n"
     ]
    },
    {
     "name": "stderr",
     "output_type": "stream",
     "text": [
      " 20%|\u001b[34m██        \u001b[0m| 2/10 [00:02<00:11,  1.40s/it]\n"
     ]
    },
    {
     "name": "stdout",
     "output_type": "stream",
     "text": [
      "\u001b[36m(DefaultActor pid=52436)\u001b[0m \tTrain Epoch: 3 \tTrain_loss_mri: 1.3783 | Train_acc_mri: 33.2523 | Train_loss_dna: 1.9754 | Train_acc_dna: 14.9769 | Validation_loss_mri: 1.3177 | Validation_acc_mri: 41.6667 | Validation_loss_dna: 2.0614 | Validation_acc_dna: 4.6875\n"
     ]
    },
    {
     "name": "stderr",
     "output_type": "stream",
     "text": [
      " 30%|\u001b[34m███       \u001b[0m| 3/10 [00:04<00:09,  1.38s/it]\n"
     ]
    },
    {
     "name": "stdout",
     "output_type": "stream",
     "text": [
      "\u001b[36m(DefaultActor pid=52436)\u001b[0m \tTrain Epoch: 4 \tTrain_loss_mri: 1.2019 | Train_acc_mri: 57.5463 | Train_loss_dna: 1.9633 | Train_acc_dna: 17.3032 | Validation_loss_mri: 1.3471 | Validation_acc_mri: 43.2292 | Validation_loss_dna: 1.9800 | Validation_acc_dna: 6.2500\n"
     ]
    },
    {
     "name": "stderr",
     "output_type": "stream",
     "text": [
      " 40%|\u001b[34m████      \u001b[0m| 4/10 [00:05<00:08,  1.35s/it]\n"
     ]
    },
    {
     "name": "stdout",
     "output_type": "stream",
     "text": [
      "\u001b[36m(DefaultActor pid=52436)\u001b[0m \tTrain Epoch: 5 \tTrain_loss_mri: 0.9901 | Train_acc_mri: 69.9653 | Train_loss_dna: 1.8343 | Train_acc_dna: 18.9005 | Validation_loss_mri: 1.3105 | Validation_acc_mri: 46.3542 | Validation_loss_dna: 1.7727 | Validation_acc_dna: 30.7292\n"
     ]
    },
    {
     "name": "stderr",
     "output_type": "stream",
     "text": [
      " 50%|\u001b[34m█████     \u001b[0m| 5/10 [00:06<00:06,  1.33s/it]\n"
     ]
    },
    {
     "name": "stdout",
     "output_type": "stream",
     "text": [
      "\u001b[36m(DefaultActor pid=52436)\u001b[0m \tTrain Epoch: 6 \tTrain_loss_mri: 0.7635 | Train_acc_mri: 74.6528 | Train_loss_dna: 1.6519 | Train_acc_dna: 27.2222 | Validation_loss_mri: 1.2006 | Validation_acc_mri: 35.9375 | Validation_loss_dna: 1.6067 | Validation_acc_dna: 32.2917\n"
     ]
    },
    {
     "name": "stderr",
     "output_type": "stream",
     "text": [
      " 60%|\u001b[34m██████    \u001b[0m| 6/10 [00:08<00:05,  1.32s/it]\n"
     ]
    },
    {
     "name": "stdout",
     "output_type": "stream",
     "text": [
      "\u001b[36m(DefaultActor pid=52436)\u001b[0m \tTrain Epoch: 7 \tTrain_loss_mri: 0.6403 | Train_acc_mri: 81.0764 | Train_loss_dna: 1.4325 | Train_acc_dna: 37.0255 | Validation_loss_mri: 1.0247 | Validation_acc_mri: 46.3542 | Validation_loss_dna: 1.5976 | Validation_acc_dna: 15.6250\n"
     ]
    },
    {
     "name": "stderr",
     "output_type": "stream",
     "text": [
      " 70%|\u001b[34m███████   \u001b[0m| 7/10 [00:09<00:03,  1.31s/it]\n"
     ]
    },
    {
     "name": "stdout",
     "output_type": "stream",
     "text": [
      "\u001b[36m(DefaultActor pid=52436)\u001b[0m \tTrain Epoch: 8 \tTrain_loss_mri: 0.6099 | Train_acc_mri: 77.5463 | Train_loss_dna: 1.1376 | Train_acc_dna: 48.4491 | Validation_loss_mri: 1.1560 | Validation_acc_mri: 32.8125 | Validation_loss_dna: 1.5436 | Validation_acc_dna: 35.4167\n"
     ]
    },
    {
     "name": "stderr",
     "output_type": "stream",
     "text": [
      " 80%|\u001b[34m████████  \u001b[0m| 8/10 [00:10<00:02,  1.30s/it]\n"
     ]
    },
    {
     "name": "stdout",
     "output_type": "stream",
     "text": [
      "\u001b[36m(DefaultActor pid=52436)\u001b[0m \tTrain Epoch: 9 \tTrain_loss_mri: 0.5061 | Train_acc_mri: 83.5185 | Train_loss_dna: 1.0547 | Train_acc_dna: 52.9398 | Validation_loss_mri: 1.0888 | Validation_acc_mri: 44.7917 | Validation_loss_dna: 1.4113 | Validation_acc_dna: 52.0833\n"
     ]
    },
    {
     "name": "stderr",
     "output_type": "stream",
     "text": [
      " 90%|\u001b[34m█████████ \u001b[0m| 9/10 [00:12<00:01,  1.31s/it]\n"
     ]
    },
    {
     "name": "stdout",
     "output_type": "stream",
     "text": [
      "\u001b[36m(DefaultActor pid=52436)\u001b[0m \tTrain Epoch: 10 \tTrain_loss_mri: 0.4456 | Train_acc_mri: 85.5324 | Train_loss_dna: 0.7963 | Train_acc_dna: 67.8009 | Validation_loss_mri: 1.0657 | Validation_acc_mri: 44.7917 | Validation_loss_dna: 1.4243 | Validation_acc_dna: 55.2083\n",
      "\u001b[36m(DefaultActor pid=52436)\u001b[0m save graph in  results/FL_DNA+MRI/\n"
     ]
    },
    {
     "name": "stderr",
     "output_type": "stream",
     "text": [
      "100%|\u001b[34m██████████\u001b[0m| 10/10 [00:13<00:00,  1.33s/it]\n"
     ]
    },
    {
     "name": "stdout",
     "output_type": "stream",
     "text": [
      "\u001b[36m(DefaultActor pid=52436)\u001b[0m [Client 2, round 1] fit, config: {'learning_rate': 0.003, 'batch_size': '32', 'server_round': 1, 'local_epochs': 10}\n",
      "\u001b[36m(DefaultActor pid=52436)\u001b[0m Updated model\n"
     ]
    },
    {
     "name": "stderr",
     "output_type": "stream",
     "text": [
      "  0%|\u001b[34m          \u001b[0m| 0/10 [00:00<?, ?it/s]\n"
     ]
    },
    {
     "name": "stdout",
     "output_type": "stream",
     "text": [
      "\u001b[36m(DefaultActor pid=52436)\u001b[0m \tTrain Epoch: 1 \tTrain_loss_mri: 5.4365 | Train_acc_mri: 27.7894 | Train_loss_dna: 5.8507 | Train_acc_dna: 11.9907 | Validation_loss_mri: 1.3363 | Validation_acc_mri: 42.7083 | Validation_loss_dna: 1.9627 | Validation_acc_dna: 22.9167\n"
     ]
    },
    {
     "name": "stderr",
     "output_type": "stream",
     "text": [
      " 10%|\u001b[34m█         \u001b[0m| 1/10 [00:01<00:14,  1.59s/it]\n"
     ]
    },
    {
     "name": "stdout",
     "output_type": "stream",
     "text": [
      "\u001b[36m(DefaultActor pid=52436)\u001b[0m \tTrain Epoch: 2 \tTrain_loss_mri: 1.3977 | Train_acc_mri: 26.4583 | Train_loss_dna: 2.0249 | Train_acc_dna: 11.9907 | Validation_loss_mri: 1.3985 | Validation_acc_mri: 10.9375 | Validation_loss_dna: 1.9885 | Validation_acc_dna: 6.2500\n"
     ]
    },
    {
     "name": "stderr",
     "output_type": "stream",
     "text": [
      " 20%|\u001b[34m██        \u001b[0m| 2/10 [00:03<00:11,  1.49s/it]\n"
     ]
    },
    {
     "name": "stdout",
     "output_type": "stream",
     "text": [
      "\u001b[36m(DefaultActor pid=52436)\u001b[0m \tTrain Epoch: 3 \tTrain_loss_mri: 1.3754 | Train_acc_mri: 29.5255 | Train_loss_dna: 1.9559 | Train_acc_dna: 18.4722 | Validation_loss_mri: 1.4173 | Validation_acc_mri: 10.9375 | Validation_loss_dna: 2.0046 | Validation_acc_dna: 6.2500\n"
     ]
    },
    {
     "name": "stderr",
     "output_type": "stream",
     "text": [
      " 30%|\u001b[34m███       \u001b[0m| 3/10 [00:04<00:10,  1.50s/it]\n"
     ]
    },
    {
     "name": "stdout",
     "output_type": "stream",
     "text": [
      "\u001b[36m(DefaultActor pid=52436)\u001b[0m \tTrain Epoch: 4 \tTrain_loss_mri: 1.3308 | Train_acc_mri: 36.0648 | Train_loss_dna: 1.8899 | Train_acc_dna: 18.6690 | Validation_loss_mri: 1.4640 | Validation_acc_mri: 9.3750 | Validation_loss_dna: 2.0193 | Validation_acc_dna: 6.2500\n"
     ]
    },
    {
     "name": "stderr",
     "output_type": "stream",
     "text": [
      " 40%|\u001b[34m████      \u001b[0m| 4/10 [00:05<00:08,  1.47s/it]\n"
     ]
    },
    {
     "name": "stdout",
     "output_type": "stream",
     "text": [
      "\u001b[36m(DefaultActor pid=52436)\u001b[0m \tTrain Epoch: 5 \tTrain_loss_mri: 1.2347 | Train_acc_mri: 42.8009 | Train_loss_dna: 1.7650 | Train_acc_dna: 22.5926 | Validation_loss_mri: 1.7008 | Validation_acc_mri: 9.3750 | Validation_loss_dna: 1.9017 | Validation_acc_dna: 9.3750\n"
     ]
    },
    {
     "name": "stderr",
     "output_type": "stream",
     "text": [
      " 50%|\u001b[34m█████     \u001b[0m| 5/10 [00:07<00:07,  1.46s/it]\n"
     ]
    },
    {
     "name": "stdout",
     "output_type": "stream",
     "text": [
      "\u001b[36m(DefaultActor pid=52436)\u001b[0m \tTrain Epoch: 6 \tTrain_loss_mri: 1.0035 | Train_acc_mri: 55.4167 | Train_loss_dna: 1.7225 | Train_acc_dna: 32.5694 | Validation_loss_mri: 1.3934 | Validation_acc_mri: 26.5625 | Validation_loss_dna: 1.9107 | Validation_acc_dna: 10.9375\n"
     ]
    },
    {
     "name": "stderr",
     "output_type": "stream",
     "text": [
      " 60%|\u001b[34m██████    \u001b[0m| 6/10 [00:08<00:05,  1.43s/it]\n"
     ]
    },
    {
     "name": "stdout",
     "output_type": "stream",
     "text": [
      "\u001b[36m(DefaultActor pid=52436)\u001b[0m \tTrain Epoch: 7 \tTrain_loss_mri: 0.8925 | Train_acc_mri: 62.6620 | Train_loss_dna: 1.5592 | Train_acc_dna: 39.6991 | Validation_loss_mri: 1.4670 | Validation_acc_mri: 28.1250 | Validation_loss_dna: 2.0159 | Validation_acc_dna: 6.2500\n"
     ]
    },
    {
     "name": "stderr",
     "output_type": "stream",
     "text": [
      " 70%|\u001b[34m███████   \u001b[0m| 7/10 [00:10<00:04,  1.42s/it]\n"
     ]
    },
    {
     "name": "stdout",
     "output_type": "stream",
     "text": [
      "\u001b[36m(DefaultActor pid=52436)\u001b[0m \tTrain Epoch: 8 \tTrain_loss_mri: 0.7464 | Train_acc_mri: 70.0810 | Train_loss_dna: 1.3446 | Train_acc_dna: 44.8148 | Validation_loss_mri: 1.3121 | Validation_acc_mri: 46.3542 | Validation_loss_dna: 1.9368 | Validation_acc_dna: 24.4792\n"
     ]
    },
    {
     "name": "stderr",
     "output_type": "stream",
     "text": [
      " 80%|\u001b[34m████████  \u001b[0m| 8/10 [00:11<00:02,  1.41s/it]\n"
     ]
    },
    {
     "name": "stdout",
     "output_type": "stream",
     "text": [
      "\u001b[36m(DefaultActor pid=52436)\u001b[0m \tTrain Epoch: 9 \tTrain_loss_mri: 0.6071 | Train_acc_mri: 78.7731 | Train_loss_dna: 1.0048 | Train_acc_dna: 59.7917 | Validation_loss_mri: 1.2623 | Validation_acc_mri: 51.0417 | Validation_loss_dna: 1.8487 | Validation_acc_dna: 35.4167\n"
     ]
    },
    {
     "name": "stderr",
     "output_type": "stream",
     "text": [
      " 90%|\u001b[34m█████████ \u001b[0m| 9/10 [00:12<00:01,  1.37s/it]\n"
     ]
    },
    {
     "name": "stdout",
     "output_type": "stream",
     "text": [
      "\u001b[36m(DefaultActor pid=52436)\u001b[0m \tTrain Epoch: 10 \tTrain_loss_mri: 0.4866 | Train_acc_mri: 81.4120 | Train_loss_dna: 0.8076 | Train_acc_dna: 68.7963 | Validation_loss_mri: 1.2858 | Validation_acc_mri: 41.6667 | Validation_loss_dna: 1.8550 | Validation_acc_dna: 15.6250\n",
      "\u001b[36m(DefaultActor pid=52436)\u001b[0m save graph in  results/FL_DNA+MRI/\n"
     ]
    },
    {
     "name": "stderr",
     "output_type": "stream",
     "text": [
      "100%|\u001b[34m██████████\u001b[0m| 10/10 [00:14<00:00,  1.41s/it]\n"
     ]
    },
    {
     "name": "stdout",
     "output_type": "stream",
     "text": [
      "\u001b[36m(DefaultActor pid=52436)\u001b[0m [Client 6, round 1] fit, config: {'learning_rate': 0.003, 'batch_size': '32', 'server_round': 1, 'local_epochs': 10}\n",
      "\u001b[36m(DefaultActor pid=52436)\u001b[0m Updated model\n"
     ]
    },
    {
     "name": "stderr",
     "output_type": "stream",
     "text": [
      "  0%|\u001b[34m          \u001b[0m| 0/10 [00:00<?, ?it/s]\n"
     ]
    },
    {
     "name": "stdout",
     "output_type": "stream",
     "text": [
      "\u001b[36m(DefaultActor pid=52436)\u001b[0m \tTrain Epoch: 1 \tTrain_loss_mri: 2.8391 | Train_acc_mri: 32.9051 | Train_loss_dna: 5.1390 | Train_acc_dna: 16.0532 | Validation_loss_mri: 1.4062 | Validation_acc_mri: 10.9375 | Validation_loss_dna: 2.1645 | Validation_acc_dna: 7.8125\n"
     ]
    },
    {
     "name": "stderr",
     "output_type": "stream",
     "text": [
      " 10%|\u001b[34m█         \u001b[0m| 1/10 [00:01<00:13,  1.52s/it]\n"
     ]
    },
    {
     "name": "stdout",
     "output_type": "stream",
     "text": [
      "\u001b[36m(DefaultActor pid=52436)\u001b[0m \tTrain Epoch: 2 \tTrain_loss_mri: 1.2459 | Train_acc_mri: 37.9051 | Train_loss_dna: 1.9959 | Train_acc_dna: 13.9236 | Validation_loss_mri: 1.3674 | Validation_acc_mri: 9.3750 | Validation_loss_dna: 2.0433 | Validation_acc_dna: 7.8125\n"
     ]
    },
    {
     "name": "stderr",
     "output_type": "stream",
     "text": [
      " 20%|\u001b[34m██        \u001b[0m| 2/10 [00:02<00:11,  1.48s/it]\n"
     ]
    },
    {
     "name": "stdout",
     "output_type": "stream",
     "text": [
      "\u001b[36m(DefaultActor pid=52436)\u001b[0m \tTrain Epoch: 3 \tTrain_loss_mri: 1.1470 | Train_acc_mri: 40.9259 | Train_loss_dna: 1.8800 | Train_acc_dna: 18.1597 | Validation_loss_mri: 1.1704 | Validation_acc_mri: 66.1458 | Validation_loss_dna: 2.1309 | Validation_acc_dna: 7.8125\n"
     ]
    },
    {
     "name": "stderr",
     "output_type": "stream",
     "text": [
      " 30%|\u001b[34m███       \u001b[0m| 3/10 [00:04<00:10,  1.44s/it]\n"
     ]
    },
    {
     "name": "stdout",
     "output_type": "stream",
     "text": [
      "\u001b[36m(DefaultActor pid=52436)\u001b[0m \tTrain Epoch: 4 \tTrain_loss_mri: 0.9573 | Train_acc_mri: 60.1620 | Train_loss_dna: 1.7294 | Train_acc_dna: 24.9769 | Validation_loss_mri: 1.2911 | Validation_acc_mri: 33.8542 | Validation_loss_dna: 2.0691 | Validation_acc_dna: 21.3542\n"
     ]
    },
    {
     "name": "stderr",
     "output_type": "stream",
     "text": [
      " 40%|\u001b[34m████      \u001b[0m| 4/10 [00:05<00:08,  1.40s/it]\n"
     ]
    },
    {
     "name": "stdout",
     "output_type": "stream",
     "text": [
      "\u001b[36m(DefaultActor pid=52436)\u001b[0m \tTrain Epoch: 5 \tTrain_loss_mri: 0.7156 | Train_acc_mri: 76.9792 | Train_loss_dna: 1.6088 | Train_acc_dna: 34.2130 | Validation_loss_mri: 1.3467 | Validation_acc_mri: 35.4167 | Validation_loss_dna: 2.1266 | Validation_acc_dna: 21.3542\n"
     ]
    },
    {
     "name": "stderr",
     "output_type": "stream",
     "text": [
      " 50%|\u001b[34m█████     \u001b[0m| 5/10 [00:07<00:06,  1.37s/it]\n"
     ]
    },
    {
     "name": "stdout",
     "output_type": "stream",
     "text": [
      "\u001b[36m(DefaultActor pid=52436)\u001b[0m \tTrain Epoch: 6 \tTrain_loss_mri: 0.5432 | Train_acc_mri: 81.6435 | Train_loss_dna: 1.4124 | Train_acc_dna: 39.5833 | Validation_loss_mri: 1.8075 | Validation_acc_mri: 28.1250 | Validation_loss_dna: 2.4064 | Validation_acc_dna: 39.5833\n"
     ]
    },
    {
     "name": "stderr",
     "output_type": "stream",
     "text": [
      " 60%|\u001b[34m██████    \u001b[0m| 6/10 [00:08<00:05,  1.36s/it]\n"
     ]
    },
    {
     "name": "stdout",
     "output_type": "stream",
     "text": [
      "\u001b[36m(DefaultActor pid=52436)\u001b[0m \tTrain Epoch: 7 \tTrain_loss_mri: 0.4038 | Train_acc_mri: 87.3843 | Train_loss_dna: 1.2240 | Train_acc_dna: 50.2083 | Validation_loss_mri: 1.7825 | Validation_acc_mri: 25.0000 | Validation_loss_dna: 2.7244 | Validation_acc_dna: 7.8125\n"
     ]
    },
    {
     "name": "stderr",
     "output_type": "stream",
     "text": [
      " 70%|\u001b[34m███████   \u001b[0m| 7/10 [00:09<00:04,  1.37s/it]\n"
     ]
    },
    {
     "name": "stdout",
     "output_type": "stream",
     "text": [
      "\u001b[36m(DefaultActor pid=52436)\u001b[0m \tTrain Epoch: 8 \tTrain_loss_mri: 0.3328 | Train_acc_mri: 87.2338 | Train_loss_dna: 1.0466 | Train_acc_dna: 58.8773 | Validation_loss_mri: 2.2670 | Validation_acc_mri: 28.1250 | Validation_loss_dna: 3.0219 | Validation_acc_dna: 4.6875\n"
     ]
    },
    {
     "name": "stderr",
     "output_type": "stream",
     "text": [
      " 80%|\u001b[34m████████  \u001b[0m| 8/10 [00:11<00:02,  1.38s/it]\n"
     ]
    },
    {
     "name": "stdout",
     "output_type": "stream",
     "text": [
      "\u001b[36m(DefaultActor pid=52436)\u001b[0m \tTrain Epoch: 9 \tTrain_loss_mri: 0.2972 | Train_acc_mri: 89.8843 | Train_loss_dna: 0.7602 | Train_acc_dna: 70.0463 | Validation_loss_mri: 1.5747 | Validation_acc_mri: 23.4375 | Validation_loss_dna: 3.9801 | Validation_acc_dna: 9.3750\n"
     ]
    },
    {
     "name": "stderr",
     "output_type": "stream",
     "text": [
      " 90%|\u001b[34m█████████ \u001b[0m| 9/10 [00:12<00:01,  1.38s/it]\n"
     ]
    },
    {
     "name": "stdout",
     "output_type": "stream",
     "text": [
      "\u001b[36m(DefaultActor pid=52436)\u001b[0m \tTrain Epoch: 10 \tTrain_loss_mri: 0.2123 | Train_acc_mri: 91.5625 | Train_loss_dna: 0.7358 | Train_acc_dna: 71.7014 | Validation_loss_mri: 1.3359 | Validation_acc_mri: 46.3542 | Validation_loss_dna: 4.0806 | Validation_acc_dna: 14.0625\n",
      "\u001b[36m(DefaultActor pid=52436)\u001b[0m save graph in  results/FL_DNA+MRI/\n"
     ]
    },
    {
     "name": "stderr",
     "output_type": "stream",
     "text": [
      "100%|\u001b[34m██████████\u001b[0m| 10/10 [00:13<00:00,  1.39s/it]\n"
     ]
    },
    {
     "name": "stdout",
     "output_type": "stream",
     "text": [
      "\u001b[36m(DefaultActor pid=52436)\u001b[0m [Client 9, round 1] fit, config: {'learning_rate': 0.003, 'batch_size': '32', 'server_round': 1, 'local_epochs': 10}\n",
      "\u001b[36m(DefaultActor pid=52436)\u001b[0m Updated model\n"
     ]
    },
    {
     "name": "stderr",
     "output_type": "stream",
     "text": [
      "  0%|\u001b[34m          \u001b[0m| 0/10 [00:00<?, ?it/s]\n"
     ]
    },
    {
     "name": "stdout",
     "output_type": "stream",
     "text": [
      "\u001b[36m(DefaultActor pid=52436)\u001b[0m \tTrain Epoch: 1 \tTrain_loss_mri: 5.5374 | Train_acc_mri: 26.9355 | Train_loss_dna: 5.5245 | Train_acc_dna: 15.3629 | Validation_loss_mri: 1.4372 | Validation_acc_mri: 19.7917 | Validation_loss_dna: 1.9707 | Validation_acc_dna: 22.9167\n"
     ]
    },
    {
     "name": "stderr",
     "output_type": "stream",
     "text": [
      " 10%|\u001b[34m█         \u001b[0m| 1/10 [00:01<00:13,  1.52s/it]\n"
     ]
    },
    {
     "name": "stdout",
     "output_type": "stream",
     "text": [
      "\u001b[36m(DefaultActor pid=52436)\u001b[0m \tTrain Epoch: 2 \tTrain_loss_mri: 1.4140 | Train_acc_mri: 24.4153 | Train_loss_dna: 1.9699 | Train_acc_dna: 16.6028 | Validation_loss_mri: 1.3585 | Validation_acc_mri: 27.6042 | Validation_loss_dna: 1.9621 | Validation_acc_dna: 22.9167\n"
     ]
    },
    {
     "name": "stderr",
     "output_type": "stream",
     "text": [
      " 20%|\u001b[34m██        \u001b[0m| 2/10 [00:02<00:11,  1.42s/it]\n"
     ]
    },
    {
     "name": "stdout",
     "output_type": "stream",
     "text": [
      "\u001b[36m(DefaultActor pid=52436)\u001b[0m \tTrain Epoch: 3 \tTrain_loss_mri: 1.3760 | Train_acc_mri: 29.1230 | Train_loss_dna: 1.9226 | Train_acc_dna: 16.9556 | Validation_loss_mri: 1.2943 | Validation_acc_mri: 27.6042 | Validation_loss_dna: 1.9172 | Validation_acc_dna: 26.0417\n"
     ]
    },
    {
     "name": "stderr",
     "output_type": "stream",
     "text": [
      " 30%|\u001b[34m███       \u001b[0m| 3/10 [00:04<00:09,  1.39s/it]\n"
     ]
    },
    {
     "name": "stdout",
     "output_type": "stream",
     "text": [
      "\u001b[36m(DefaultActor pid=52436)\u001b[0m \tTrain Epoch: 4 \tTrain_loss_mri: 1.2677 | Train_acc_mri: 35.4536 | Train_loss_dna: 1.9048 | Train_acc_dna: 22.5605 | Validation_loss_mri: 1.1573 | Validation_acc_mri: 29.1667 | Validation_loss_dna: 1.8257 | Validation_acc_dna: 45.8333\n"
     ]
    },
    {
     "name": "stderr",
     "output_type": "stream",
     "text": [
      " 40%|\u001b[34m████      \u001b[0m| 4/10 [00:05<00:08,  1.38s/it]\n"
     ]
    },
    {
     "name": "stdout",
     "output_type": "stream",
     "text": [
      "\u001b[36m(DefaultActor pid=52436)\u001b[0m \tTrain Epoch: 5 \tTrain_loss_mri: 1.0431 | Train_acc_mri: 62.0565 | Train_loss_dna: 1.8548 | Train_acc_dna: 26.3206 | Validation_loss_mri: 1.0013 | Validation_acc_mri: 41.6667 | Validation_loss_dna: 1.8291 | Validation_acc_dna: 24.4792\n"
     ]
    },
    {
     "name": "stderr",
     "output_type": "stream",
     "text": [
      " 50%|\u001b[34m█████     \u001b[0m| 5/10 [00:06<00:06,  1.39s/it]\n"
     ]
    },
    {
     "name": "stdout",
     "output_type": "stream",
     "text": [
      "\u001b[36m(DefaultActor pid=52436)\u001b[0m \tTrain Epoch: 6 \tTrain_loss_mri: 0.8596 | Train_acc_mri: 70.5343 | Train_loss_dna: 1.6628 | Train_acc_dna: 34.4960 | Validation_loss_mri: 0.8947 | Validation_acc_mri: 67.7083 | Validation_loss_dna: 1.8852 | Validation_acc_dna: 30.7292\n"
     ]
    },
    {
     "name": "stderr",
     "output_type": "stream",
     "text": [
      " 60%|\u001b[34m██████    \u001b[0m| 6/10 [00:08<00:05,  1.38s/it]\n"
     ]
    },
    {
     "name": "stdout",
     "output_type": "stream",
     "text": [
      "\u001b[36m(DefaultActor pid=52436)\u001b[0m \tTrain Epoch: 7 \tTrain_loss_mri: 0.6938 | Train_acc_mri: 74.2641 | Train_loss_dna: 1.4622 | Train_acc_dna: 40.1210 | Validation_loss_mri: 0.8958 | Validation_acc_mri: 63.0208 | Validation_loss_dna: 1.7881 | Validation_acc_dna: 30.7292\n"
     ]
    },
    {
     "name": "stderr",
     "output_type": "stream",
     "text": [
      " 70%|\u001b[34m███████   \u001b[0m| 7/10 [00:09<00:04,  1.37s/it]\n"
     ]
    },
    {
     "name": "stdout",
     "output_type": "stream",
     "text": [
      "\u001b[36m(DefaultActor pid=52436)\u001b[0m \tTrain Epoch: 8 \tTrain_loss_mri: 0.7038 | Train_acc_mri: 70.2419 | Train_loss_dna: 1.3023 | Train_acc_dna: 48.5887 | Validation_loss_mri: 0.7818 | Validation_acc_mri: 70.8333 | Validation_loss_dna: 1.7581 | Validation_acc_dna: 33.8542\n"
     ]
    },
    {
     "name": "stderr",
     "output_type": "stream",
     "text": [
      " 80%|\u001b[34m████████  \u001b[0m| 8/10 [00:11<00:02,  1.36s/it]\n"
     ]
    },
    {
     "name": "stdout",
     "output_type": "stream",
     "text": [
      "\u001b[36m(DefaultActor pid=52436)\u001b[0m \tTrain Epoch: 9 \tTrain_loss_mri: 0.5925 | Train_acc_mri: 76.1996 | Train_loss_dna: 1.0024 | Train_acc_dna: 57.9940 | Validation_loss_mri: 0.8473 | Validation_acc_mri: 72.3958 | Validation_loss_dna: 1.8363 | Validation_acc_dna: 15.6250\n"
     ]
    },
    {
     "name": "stderr",
     "output_type": "stream",
     "text": [
      " 90%|\u001b[34m█████████ \u001b[0m| 9/10 [00:12<00:01,  1.35s/it]\n"
     ]
    },
    {
     "name": "stdout",
     "output_type": "stream",
     "text": [
      "\u001b[36m(DefaultActor pid=52436)\u001b[0m \tTrain Epoch: 10 \tTrain_loss_mri: 0.5019 | Train_acc_mri: 78.0444 | Train_loss_dna: 0.8364 | Train_acc_dna: 60.8770 | Validation_loss_mri: 0.7971 | Validation_acc_mri: 51.0417 | Validation_loss_dna: 1.8604 | Validation_acc_dna: 35.4167\n",
      "\u001b[36m(DefaultActor pid=52436)\u001b[0m save graph in  results/FL_DNA+MRI/\n"
     ]
    },
    {
     "name": "stderr",
     "output_type": "stream",
     "text": [
      "100%|\u001b[34m██████████\u001b[0m| 10/10 [00:13<00:00,  1.37s/it]\n"
     ]
    },
    {
     "name": "stdout",
     "output_type": "stream",
     "text": [
      "\u001b[36m(DefaultActor pid=52436)\u001b[0m [Client 5, round 1] fit, config: {'learning_rate': 0.003, 'batch_size': '32', 'server_round': 1, 'local_epochs': 10}\n",
      "\u001b[36m(DefaultActor pid=52436)\u001b[0m Updated model\n"
     ]
    },
    {
     "name": "stderr",
     "output_type": "stream",
     "text": [
      "  0%|\u001b[34m          \u001b[0m| 0/10 [00:00<?, ?it/s]\n"
     ]
    },
    {
     "name": "stdout",
     "output_type": "stream",
     "text": [
      "\u001b[36m(DefaultActor pid=52436)\u001b[0m \tTrain Epoch: 1 \tTrain_loss_mri: 6.1350 | Train_acc_mri: 29.0741 | Train_loss_dna: 6.0802 | Train_acc_dna: 12.7894 | Validation_loss_mri: 1.4001 | Validation_acc_mri: 10.9375 | Validation_loss_dna: 1.8892 | Validation_acc_dna: 30.7292\n"
     ]
    },
    {
     "name": "stderr",
     "output_type": "stream",
     "text": [
      " 10%|\u001b[34m█         \u001b[0m| 1/10 [00:01<00:13,  1.52s/it]\n"
     ]
    },
    {
     "name": "stdout",
     "output_type": "stream",
     "text": [
      "\u001b[36m(DefaultActor pid=52436)\u001b[0m \tTrain Epoch: 2 \tTrain_loss_mri: 1.3818 | Train_acc_mri: 32.3380 | Train_loss_dna: 2.0027 | Train_acc_dna: 14.2940 | Validation_loss_mri: 1.0222 | Validation_acc_mri: 52.0833 | Validation_loss_dna: 1.8431 | Validation_acc_dna: 22.9167\n"
     ]
    },
    {
     "name": "stderr",
     "output_type": "stream",
     "text": [
      " 20%|\u001b[34m██        \u001b[0m| 2/10 [00:02<00:11,  1.41s/it]\n"
     ]
    },
    {
     "name": "stdout",
     "output_type": "stream",
     "text": [
      "\u001b[36m(DefaultActor pid=52436)\u001b[0m \tTrain Epoch: 3 \tTrain_loss_mri: 1.1829 | Train_acc_mri: 46.6667 | Train_loss_dna: 1.9524 | Train_acc_dna: 17.9861 | Validation_loss_mri: 0.9732 | Validation_acc_mri: 64.5833 | Validation_loss_dna: 1.9892 | Validation_acc_dna: 6.2500\n"
     ]
    },
    {
     "name": "stderr",
     "output_type": "stream",
     "text": [
      " 30%|\u001b[34m███       \u001b[0m| 3/10 [00:04<00:09,  1.37s/it]\n"
     ]
    },
    {
     "name": "stdout",
     "output_type": "stream",
     "text": [
      "\u001b[36m(DefaultActor pid=52436)\u001b[0m \tTrain Epoch: 4 \tTrain_loss_mri: 1.0042 | Train_acc_mri: 68.7153 | Train_loss_dna: 1.8816 | Train_acc_dna: 20.3472 | Validation_loss_mri: 0.9086 | Validation_acc_mri: 61.4583 | Validation_loss_dna: 2.1743 | Validation_acc_dna: 10.9375\n"
     ]
    },
    {
     "name": "stderr",
     "output_type": "stream",
     "text": [
      " 40%|\u001b[34m████      \u001b[0m| 4/10 [00:05<00:08,  1.36s/it]\n"
     ]
    },
    {
     "name": "stdout",
     "output_type": "stream",
     "text": [
      "\u001b[36m(DefaultActor pid=52436)\u001b[0m \tTrain Epoch: 5 \tTrain_loss_mri: 0.8071 | Train_acc_mri: 70.3009 | Train_loss_dna: 1.7691 | Train_acc_dna: 34.6991 | Validation_loss_mri: 0.8520 | Validation_acc_mri: 63.0208 | Validation_loss_dna: 1.8829 | Validation_acc_dna: 27.6042\n"
     ]
    },
    {
     "name": "stderr",
     "output_type": "stream",
     "text": [
      " 50%|\u001b[34m█████     \u001b[0m| 5/10 [00:06<00:06,  1.35s/it]\n"
     ]
    },
    {
     "name": "stdout",
     "output_type": "stream",
     "text": [
      "\u001b[36m(DefaultActor pid=52436)\u001b[0m \tTrain Epoch: 6 \tTrain_loss_mri: 0.7363 | Train_acc_mri: 72.2917 | Train_loss_dna: 1.6458 | Train_acc_dna: 32.5926 | Validation_loss_mri: 0.8113 | Validation_acc_mri: 69.2708 | Validation_loss_dna: 1.6176 | Validation_acc_dna: 22.9167\n"
     ]
    },
    {
     "name": "stderr",
     "output_type": "stream",
     "text": [
      " 60%|\u001b[34m██████    \u001b[0m| 6/10 [00:08<00:05,  1.37s/it]\n"
     ]
    },
    {
     "name": "stdout",
     "output_type": "stream",
     "text": [
      "\u001b[36m(DefaultActor pid=52436)\u001b[0m \tTrain Epoch: 7 \tTrain_loss_mri: 0.6308 | Train_acc_mri: 78.8542 | Train_loss_dna: 1.5173 | Train_acc_dna: 36.3194 | Validation_loss_mri: 0.8088 | Validation_acc_mri: 66.1458 | Validation_loss_dna: 2.5709 | Validation_acc_dna: 32.2917\n"
     ]
    },
    {
     "name": "stderr",
     "output_type": "stream",
     "text": [
      " 70%|\u001b[34m███████   \u001b[0m| 7/10 [00:09<00:04,  1.37s/it]\n"
     ]
    },
    {
     "name": "stdout",
     "output_type": "stream",
     "text": [
      "\u001b[36m(DefaultActor pid=52436)\u001b[0m \tTrain Epoch: 8 \tTrain_loss_mri: 0.5065 | Train_acc_mri: 83.3218 | Train_loss_dna: 1.3671 | Train_acc_dna: 41.4005 | Validation_loss_mri: 0.8380 | Validation_acc_mri: 67.7083 | Validation_loss_dna: 1.6060 | Validation_acc_dna: 48.9583\n"
     ]
    },
    {
     "name": "stderr",
     "output_type": "stream",
     "text": [
      " 80%|\u001b[34m████████  \u001b[0m| 8/10 [00:11<00:02,  1.37s/it]\n"
     ]
    },
    {
     "name": "stdout",
     "output_type": "stream",
     "text": [
      "\u001b[36m(DefaultActor pid=52436)\u001b[0m \tTrain Epoch: 9 \tTrain_loss_mri: 0.4240 | Train_acc_mri: 86.0185 | Train_loss_dna: 1.2357 | Train_acc_dna: 48.6806 | Validation_loss_mri: 0.8552 | Validation_acc_mri: 70.8333 | Validation_loss_dna: 1.8463 | Validation_acc_dna: 47.3958\n"
     ]
    },
    {
     "name": "stderr",
     "output_type": "stream",
     "text": [
      " 90%|\u001b[34m█████████ \u001b[0m| 9/10 [00:12<00:01,  1.36s/it]\n"
     ]
    },
    {
     "name": "stdout",
     "output_type": "stream",
     "text": [
      "\u001b[36m(DefaultActor pid=52436)\u001b[0m \tTrain Epoch: 10 \tTrain_loss_mri: 0.3750 | Train_acc_mri: 87.5810 | Train_loss_dna: 1.0500 | Train_acc_dna: 56.8634 | Validation_loss_mri: 0.6891 | Validation_acc_mri: 75.5208 | Validation_loss_dna: 1.9970 | Validation_acc_dna: 30.7292\n",
      "\u001b[36m(DefaultActor pid=52436)\u001b[0m save graph in  results/FL_DNA+MRI/\n"
     ]
    },
    {
     "name": "stderr",
     "output_type": "stream",
     "text": [
      "100%|\u001b[34m██████████\u001b[0m| 10/10 [00:13<00:00,  1.37s/it]\n",
      "DEBUG flwr 2024-10-06 21:19:48,717 | server.py:236 | fit_round 1 received 10 results and 0 failures\n",
      "WARNING flwr 2024-10-06 21:19:49,757 | 1650717286.py:129 | No fit_metrics_aggregation_fn provided\n"
     ]
    },
    {
     "name": "stdout",
     "output_type": "stream",
     "text": [
      "Saving round 1 aggregated_parameters...\n",
      "Updated model\n"
     ]
    },
    {
     "name": "stderr",
     "output_type": "stream",
     "text": [
      "INFO flwr 2024-10-06 21:20:05,319 | server.py:125 | fit progress: (1, (1.2994217319147927, 1.590071895292827), {'accuracy': (40.14136904761905, 34.635416666666664)}, 238.2544150580652)\n",
      "DEBUG flwr 2024-10-06 21:20:05,320 | server.py:173 | evaluate_round 1: strategy sampled 10 clients (out of 10)\n"
     ]
    },
    {
     "name": "stdout",
     "output_type": "stream",
     "text": [
      "Server-side evaluation MRI loss 1.2994217319147927 / MRI accuracy 40.14136904761905\n",
      "Server-side evaluation DNA loss 1.590071895292827 / DNA accuracy 34.635416666666664\n",
      "\u001b[36m(DefaultActor pid=52436)\u001b[0m  To get the checkpoint\n",
      "\u001b[36m(DefaultActor pid=52436)\u001b[0m [Client 0] evaluate, config: {}\n",
      "\u001b[36m(DefaultActor pid=52436)\u001b[0m Updated model\n"
     ]
    },
    {
     "name": "stderr",
     "output_type": "stream",
     "text": [
      "\u001b[36m(DefaultActor pid=52436)\u001b[0m /tmp/ipykernel_51903/752934157.py:10: FutureWarning: You are using `torch.load` with `weights_only=False` (the current default value), which uses the default pickle module implicitly. It is possible to construct malicious pickle data which will execute arbitrary code during unpickling (See https://github.com/pytorch/pytorch/blob/main/SECURITY.md#untrusted-models for more details). In a future release, the default value for `weights_only` will be flipped to `True`. This limits the functions that could be executed during unpickling. Arbitrary objects will no longer be allowed to be loaded via this mode unless they are explicitly allowlisted by the user via `torch.serialization.add_safe_globals`. We recommend you start setting `weights_only=True` for any use case where you don't have full control of the loaded file. Please open an issue on GitHub for any issues related to this experimental feature.\n",
      "\u001b[36m(DefaultActor pid=52436)\u001b[0m /home/cudaq/.local/lib/python3.10/site-packages/torch/storage.py:414: FutureWarning: You are using `torch.load` with `weights_only=False` (the current default value), which uses the default pickle module implicitly. It is possible to construct malicious pickle data which will execute arbitrary code during unpickling (See https://github.com/pytorch/pytorch/blob/main/SECURITY.md#untrusted-models for more details). In a future release, the default value for `weights_only` will be flipped to `True`. This limits the functions that could be executed during unpickling. Arbitrary objects will no longer be allowed to be loaded via this mode unless they are explicitly allowlisted by the user via `torch.serialization.add_safe_globals`. We recommend you start setting `weights_only=True` for any use case where you don't have full control of the loaded file. Please open an issue on GitHub for any issues related to this experimental feature.\n",
      "\u001b[36m(DefaultActor pid=52436)\u001b[0m   return torch.load(io.BytesIO(b))\n"
     ]
    },
    {
     "name": "stdout",
     "output_type": "stream",
     "text": [
      "\u001b[36m(DefaultActor pid=52436)\u001b[0m  To get the checkpoint\n",
      "\u001b[36m(DefaultActor pid=52436)\u001b[0m [Client 9] evaluate, config: {}\n",
      "\u001b[36m(DefaultActor pid=52436)\u001b[0m Updated model\n"
     ]
    },
    {
     "name": "stderr",
     "output_type": "stream",
     "text": [
      "\u001b[36m(DefaultActor pid=52436)\u001b[0m /tmp/ipykernel_51903/752934157.py:10: FutureWarning: You are using `torch.load` with `weights_only=False` (the current default value), which uses the default pickle module implicitly. It is possible to construct malicious pickle data which will execute arbitrary code during unpickling (See https://github.com/pytorch/pytorch/blob/main/SECURITY.md#untrusted-models for more details). In a future release, the default value for `weights_only` will be flipped to `True`. This limits the functions that could be executed during unpickling. Arbitrary objects will no longer be allowed to be loaded via this mode unless they are explicitly allowlisted by the user via `torch.serialization.add_safe_globals`. We recommend you start setting `weights_only=True` for any use case where you don't have full control of the loaded file. Please open an issue on GitHub for any issues related to this experimental feature.\n",
      "\u001b[36m(DefaultActor pid=52436)\u001b[0m /home/cudaq/.local/lib/python3.10/site-packages/sklearn/metrics/_ranking.py:1183: UndefinedMetricWarning: No positive samples in y_true, true positive value should be meaningless\n",
      "\u001b[36m(DefaultActor pid=52436)\u001b[0m   warnings.warn(\n",
      "\u001b[36m(DefaultActor pid=52436)\u001b[0m /home/cudaq/.local/lib/python3.10/site-packages/torch/storage.py:414: FutureWarning: You are using `torch.load` with `weights_only=False` (the current default value), which uses the default pickle module implicitly. It is possible to construct malicious pickle data which will execute arbitrary code during unpickling (See https://github.com/pytorch/pytorch/blob/main/SECURITY.md#untrusted-models for more details). In a future release, the default value for `weights_only` will be flipped to `True`. This limits the functions that could be executed during unpickling. Arbitrary objects will no longer be allowed to be loaded via this mode unless they are explicitly allowlisted by the user via `torch.serialization.add_safe_globals`. We recommend you start setting `weights_only=True` for any use case where you don't have full control of the loaded file. Please open an issue on GitHub for any issues related to this experimental feature.\n",
      "\u001b[36m(DefaultActor pid=52436)\u001b[0m   return torch.load(io.BytesIO(b))\n"
     ]
    },
    {
     "name": "stdout",
     "output_type": "stream",
     "text": [
      "\u001b[36m(DefaultActor pid=52436)\u001b[0m  To get the checkpoint\n",
      "\u001b[36m(DefaultActor pid=52436)\u001b[0m [Client 3] evaluate, config: {}\n",
      "\u001b[36m(DefaultActor pid=52436)\u001b[0m Updated model\n"
     ]
    },
    {
     "name": "stderr",
     "output_type": "stream",
     "text": [
      "\u001b[36m(DefaultActor pid=52436)\u001b[0m /tmp/ipykernel_51903/752934157.py:10: FutureWarning: You are using `torch.load` with `weights_only=False` (the current default value), which uses the default pickle module implicitly. It is possible to construct malicious pickle data which will execute arbitrary code during unpickling (See https://github.com/pytorch/pytorch/blob/main/SECURITY.md#untrusted-models for more details). In a future release, the default value for `weights_only` will be flipped to `True`. This limits the functions that could be executed during unpickling. Arbitrary objects will no longer be allowed to be loaded via this mode unless they are explicitly allowlisted by the user via `torch.serialization.add_safe_globals`. We recommend you start setting `weights_only=True` for any use case where you don't have full control of the loaded file. Please open an issue on GitHub for any issues related to this experimental feature.\n",
      "\u001b[36m(DefaultActor pid=52436)\u001b[0m /home/cudaq/.local/lib/python3.10/site-packages/torch/storage.py:414: FutureWarning: You are using `torch.load` with `weights_only=False` (the current default value), which uses the default pickle module implicitly. It is possible to construct malicious pickle data which will execute arbitrary code during unpickling (See https://github.com/pytorch/pytorch/blob/main/SECURITY.md#untrusted-models for more details). In a future release, the default value for `weights_only` will be flipped to `True`. This limits the functions that could be executed during unpickling. Arbitrary objects will no longer be allowed to be loaded via this mode unless they are explicitly allowlisted by the user via `torch.serialization.add_safe_globals`. We recommend you start setting `weights_only=True` for any use case where you don't have full control of the loaded file. Please open an issue on GitHub for any issues related to this experimental feature.\n",
      "\u001b[36m(DefaultActor pid=52436)\u001b[0m   return torch.load(io.BytesIO(b))\n"
     ]
    },
    {
     "name": "stdout",
     "output_type": "stream",
     "text": [
      "\u001b[36m(DefaultActor pid=52436)\u001b[0m  To get the checkpoint\n",
      "\u001b[36m(DefaultActor pid=52436)\u001b[0m [Client 1] evaluate, config: {}\n",
      "\u001b[36m(DefaultActor pid=52436)\u001b[0m Updated model\n"
     ]
    },
    {
     "name": "stderr",
     "output_type": "stream",
     "text": [
      "\u001b[36m(DefaultActor pid=52436)\u001b[0m /tmp/ipykernel_51903/752934157.py:10: FutureWarning: You are using `torch.load` with `weights_only=False` (the current default value), which uses the default pickle module implicitly. It is possible to construct malicious pickle data which will execute arbitrary code during unpickling (See https://github.com/pytorch/pytorch/blob/main/SECURITY.md#untrusted-models for more details). In a future release, the default value for `weights_only` will be flipped to `True`. This limits the functions that could be executed during unpickling. Arbitrary objects will no longer be allowed to be loaded via this mode unless they are explicitly allowlisted by the user via `torch.serialization.add_safe_globals`. We recommend you start setting `weights_only=True` for any use case where you don't have full control of the loaded file. Please open an issue on GitHub for any issues related to this experimental feature.\n",
      "\u001b[36m(DefaultActor pid=52436)\u001b[0m /home/cudaq/.local/lib/python3.10/site-packages/torch/storage.py:414: FutureWarning: You are using `torch.load` with `weights_only=False` (the current default value), which uses the default pickle module implicitly. It is possible to construct malicious pickle data which will execute arbitrary code during unpickling (See https://github.com/pytorch/pytorch/blob/main/SECURITY.md#untrusted-models for more details). In a future release, the default value for `weights_only` will be flipped to `True`. This limits the functions that could be executed during unpickling. Arbitrary objects will no longer be allowed to be loaded via this mode unless they are explicitly allowlisted by the user via `torch.serialization.add_safe_globals`. We recommend you start setting `weights_only=True` for any use case where you don't have full control of the loaded file. Please open an issue on GitHub for any issues related to this experimental feature.\n",
      "\u001b[36m(DefaultActor pid=52436)\u001b[0m   return torch.load(io.BytesIO(b))\n"
     ]
    },
    {
     "name": "stdout",
     "output_type": "stream",
     "text": [
      "\u001b[36m(DefaultActor pid=52436)\u001b[0m  To get the checkpoint\n",
      "\u001b[36m(DefaultActor pid=52436)\u001b[0m [Client 4] evaluate, config: {}\n",
      "\u001b[36m(DefaultActor pid=52436)\u001b[0m Updated model\n"
     ]
    },
    {
     "name": "stderr",
     "output_type": "stream",
     "text": [
      "\u001b[36m(DefaultActor pid=52436)\u001b[0m /tmp/ipykernel_51903/752934157.py:10: FutureWarning: You are using `torch.load` with `weights_only=False` (the current default value), which uses the default pickle module implicitly. It is possible to construct malicious pickle data which will execute arbitrary code during unpickling (See https://github.com/pytorch/pytorch/blob/main/SECURITY.md#untrusted-models for more details). In a future release, the default value for `weights_only` will be flipped to `True`. This limits the functions that could be executed during unpickling. Arbitrary objects will no longer be allowed to be loaded via this mode unless they are explicitly allowlisted by the user via `torch.serialization.add_safe_globals`. We recommend you start setting `weights_only=True` for any use case where you don't have full control of the loaded file. Please open an issue on GitHub for any issues related to this experimental feature.\n",
      "\u001b[36m(DefaultActor pid=52436)\u001b[0m /home/cudaq/.local/lib/python3.10/site-packages/sklearn/metrics/_ranking.py:1183: UndefinedMetricWarning: No positive samples in y_true, true positive value should be meaningless\n",
      "\u001b[36m(DefaultActor pid=52436)\u001b[0m   warnings.warn(\n",
      "\u001b[36m(DefaultActor pid=52436)\u001b[0m /home/cudaq/.local/lib/python3.10/site-packages/torch/storage.py:414: FutureWarning: You are using `torch.load` with `weights_only=False` (the current default value), which uses the default pickle module implicitly. It is possible to construct malicious pickle data which will execute arbitrary code during unpickling (See https://github.com/pytorch/pytorch/blob/main/SECURITY.md#untrusted-models for more details). In a future release, the default value for `weights_only` will be flipped to `True`. This limits the functions that could be executed during unpickling. Arbitrary objects will no longer be allowed to be loaded via this mode unless they are explicitly allowlisted by the user via `torch.serialization.add_safe_globals`. We recommend you start setting `weights_only=True` for any use case where you don't have full control of the loaded file. Please open an issue on GitHub for any issues related to this experimental feature.\n",
      "\u001b[36m(DefaultActor pid=52436)\u001b[0m   return torch.load(io.BytesIO(b))\n"
     ]
    },
    {
     "name": "stdout",
     "output_type": "stream",
     "text": [
      "\u001b[36m(DefaultActor pid=52436)\u001b[0m  To get the checkpoint\n",
      "\u001b[36m(DefaultActor pid=52436)\u001b[0m [Client 8] evaluate, config: {}\n",
      "\u001b[36m(DefaultActor pid=52436)\u001b[0m Updated model\n"
     ]
    },
    {
     "name": "stderr",
     "output_type": "stream",
     "text": [
      "\u001b[36m(DefaultActor pid=52436)\u001b[0m /tmp/ipykernel_51903/752934157.py:10: FutureWarning: You are using `torch.load` with `weights_only=False` (the current default value), which uses the default pickle module implicitly. It is possible to construct malicious pickle data which will execute arbitrary code during unpickling (See https://github.com/pytorch/pytorch/blob/main/SECURITY.md#untrusted-models for more details). In a future release, the default value for `weights_only` will be flipped to `True`. This limits the functions that could be executed during unpickling. Arbitrary objects will no longer be allowed to be loaded via this mode unless they are explicitly allowlisted by the user via `torch.serialization.add_safe_globals`. We recommend you start setting `weights_only=True` for any use case where you don't have full control of the loaded file. Please open an issue on GitHub for any issues related to this experimental feature.\n",
      "\u001b[36m(DefaultActor pid=52436)\u001b[0m /home/cudaq/.local/lib/python3.10/site-packages/sklearn/metrics/_ranking.py:1183: UndefinedMetricWarning: No positive samples in y_true, true positive value should be meaningless\n",
      "\u001b[36m(DefaultActor pid=52436)\u001b[0m   warnings.warn(\n",
      "\u001b[36m(DefaultActor pid=52436)\u001b[0m /home/cudaq/.local/lib/python3.10/site-packages/torch/storage.py:414: FutureWarning: You are using `torch.load` with `weights_only=False` (the current default value), which uses the default pickle module implicitly. It is possible to construct malicious pickle data which will execute arbitrary code during unpickling (See https://github.com/pytorch/pytorch/blob/main/SECURITY.md#untrusted-models for more details). In a future release, the default value for `weights_only` will be flipped to `True`. This limits the functions that could be executed during unpickling. Arbitrary objects will no longer be allowed to be loaded via this mode unless they are explicitly allowlisted by the user via `torch.serialization.add_safe_globals`. We recommend you start setting `weights_only=True` for any use case where you don't have full control of the loaded file. Please open an issue on GitHub for any issues related to this experimental feature.\n",
      "\u001b[36m(DefaultActor pid=52436)\u001b[0m   return torch.load(io.BytesIO(b))\n"
     ]
    },
    {
     "name": "stdout",
     "output_type": "stream",
     "text": [
      "\u001b[36m(DefaultActor pid=52436)\u001b[0m  To get the checkpoint\n",
      "\u001b[36m(DefaultActor pid=52436)\u001b[0m [Client 5] evaluate, config: {}\n"
     ]
    },
    {
     "name": "stderr",
     "output_type": "stream",
     "text": [
      "\u001b[36m(DefaultActor pid=52436)\u001b[0m /tmp/ipykernel_51903/752934157.py:10: FutureWarning: You are using `torch.load` with `weights_only=False` (the current default value), which uses the default pickle module implicitly. It is possible to construct malicious pickle data which will execute arbitrary code during unpickling (See https://github.com/pytorch/pytorch/blob/main/SECURITY.md#untrusted-models for more details). In a future release, the default value for `weights_only` will be flipped to `True`. This limits the functions that could be executed during unpickling. Arbitrary objects will no longer be allowed to be loaded via this mode unless they are explicitly allowlisted by the user via `torch.serialization.add_safe_globals`. We recommend you start setting `weights_only=True` for any use case where you don't have full control of the loaded file. Please open an issue on GitHub for any issues related to this experimental feature.\n"
     ]
    },
    {
     "name": "stdout",
     "output_type": "stream",
     "text": [
      "\u001b[36m(DefaultActor pid=52436)\u001b[0m Updated model\n"
     ]
    },
    {
     "name": "stderr",
     "output_type": "stream",
     "text": [
      "\u001b[36m(DefaultActor pid=52436)\u001b[0m /home/cudaq/.local/lib/python3.10/site-packages/torch/storage.py:414: FutureWarning: You are using `torch.load` with `weights_only=False` (the current default value), which uses the default pickle module implicitly. It is possible to construct malicious pickle data which will execute arbitrary code during unpickling (See https://github.com/pytorch/pytorch/blob/main/SECURITY.md#untrusted-models for more details). In a future release, the default value for `weights_only` will be flipped to `True`. This limits the functions that could be executed during unpickling. Arbitrary objects will no longer be allowed to be loaded via this mode unless they are explicitly allowlisted by the user via `torch.serialization.add_safe_globals`. We recommend you start setting `weights_only=True` for any use case where you don't have full control of the loaded file. Please open an issue on GitHub for any issues related to this experimental feature.\n",
      "\u001b[36m(DefaultActor pid=52436)\u001b[0m   return torch.load(io.BytesIO(b))\n"
     ]
    },
    {
     "name": "stdout",
     "output_type": "stream",
     "text": [
      "\u001b[36m(DefaultActor pid=52436)\u001b[0m  To get the checkpoint\n",
      "\u001b[36m(DefaultActor pid=52436)\u001b[0m [Client 7] evaluate, config: {}\n",
      "\u001b[36m(DefaultActor pid=52436)\u001b[0m Updated model\n"
     ]
    },
    {
     "name": "stderr",
     "output_type": "stream",
     "text": [
      "\u001b[36m(DefaultActor pid=52436)\u001b[0m /tmp/ipykernel_51903/752934157.py:10: FutureWarning: You are using `torch.load` with `weights_only=False` (the current default value), which uses the default pickle module implicitly. It is possible to construct malicious pickle data which will execute arbitrary code during unpickling (See https://github.com/pytorch/pytorch/blob/main/SECURITY.md#untrusted-models for more details). In a future release, the default value for `weights_only` will be flipped to `True`. This limits the functions that could be executed during unpickling. Arbitrary objects will no longer be allowed to be loaded via this mode unless they are explicitly allowlisted by the user via `torch.serialization.add_safe_globals`. We recommend you start setting `weights_only=True` for any use case where you don't have full control of the loaded file. Please open an issue on GitHub for any issues related to this experimental feature.\n",
      "\u001b[36m(DefaultActor pid=52436)\u001b[0m /home/cudaq/.local/lib/python3.10/site-packages/torch/storage.py:414: FutureWarning: You are using `torch.load` with `weights_only=False` (the current default value), which uses the default pickle module implicitly. It is possible to construct malicious pickle data which will execute arbitrary code during unpickling (See https://github.com/pytorch/pytorch/blob/main/SECURITY.md#untrusted-models for more details). In a future release, the default value for `weights_only` will be flipped to `True`. This limits the functions that could be executed during unpickling. Arbitrary objects will no longer be allowed to be loaded via this mode unless they are explicitly allowlisted by the user via `torch.serialization.add_safe_globals`. We recommend you start setting `weights_only=True` for any use case where you don't have full control of the loaded file. Please open an issue on GitHub for any issues related to this experimental feature.\n",
      "\u001b[36m(DefaultActor pid=52436)\u001b[0m   return torch.load(io.BytesIO(b))\n"
     ]
    },
    {
     "name": "stdout",
     "output_type": "stream",
     "text": [
      "\u001b[36m(DefaultActor pid=52436)\u001b[0m  To get the checkpoint\n",
      "\u001b[36m(DefaultActor pid=52436)\u001b[0m [Client 2] evaluate, config: {}\n"
     ]
    },
    {
     "name": "stderr",
     "output_type": "stream",
     "text": [
      "\u001b[36m(DefaultActor pid=52436)\u001b[0m /tmp/ipykernel_51903/752934157.py:10: FutureWarning: You are using `torch.load` with `weights_only=False` (the current default value), which uses the default pickle module implicitly. It is possible to construct malicious pickle data which will execute arbitrary code during unpickling (See https://github.com/pytorch/pytorch/blob/main/SECURITY.md#untrusted-models for more details). In a future release, the default value for `weights_only` will be flipped to `True`. This limits the functions that could be executed during unpickling. Arbitrary objects will no longer be allowed to be loaded via this mode unless they are explicitly allowlisted by the user via `torch.serialization.add_safe_globals`. We recommend you start setting `weights_only=True` for any use case where you don't have full control of the loaded file. Please open an issue on GitHub for any issues related to this experimental feature.\n"
     ]
    },
    {
     "name": "stdout",
     "output_type": "stream",
     "text": [
      "\u001b[36m(DefaultActor pid=52436)\u001b[0m Updated model\n"
     ]
    },
    {
     "name": "stderr",
     "output_type": "stream",
     "text": [
      "\u001b[36m(DefaultActor pid=52436)\u001b[0m /home/cudaq/.local/lib/python3.10/site-packages/torch/storage.py:414: FutureWarning: You are using `torch.load` with `weights_only=False` (the current default value), which uses the default pickle module implicitly. It is possible to construct malicious pickle data which will execute arbitrary code during unpickling (See https://github.com/pytorch/pytorch/blob/main/SECURITY.md#untrusted-models for more details). In a future release, the default value for `weights_only` will be flipped to `True`. This limits the functions that could be executed during unpickling. Arbitrary objects will no longer be allowed to be loaded via this mode unless they are explicitly allowlisted by the user via `torch.serialization.add_safe_globals`. We recommend you start setting `weights_only=True` for any use case where you don't have full control of the loaded file. Please open an issue on GitHub for any issues related to this experimental feature.\n",
      "\u001b[36m(DefaultActor pid=52436)\u001b[0m   return torch.load(io.BytesIO(b))\n"
     ]
    },
    {
     "name": "stdout",
     "output_type": "stream",
     "text": [
      "\u001b[36m(DefaultActor pid=52436)\u001b[0m  To get the checkpoint\n",
      "\u001b[36m(DefaultActor pid=52436)\u001b[0m [Client 6] evaluate, config: {}\n",
      "\u001b[36m(DefaultActor pid=52436)\u001b[0m Updated model\n"
     ]
    },
    {
     "name": "stderr",
     "output_type": "stream",
     "text": [
      "\u001b[36m(DefaultActor pid=52436)\u001b[0m /tmp/ipykernel_51903/752934157.py:10: FutureWarning: You are using `torch.load` with `weights_only=False` (the current default value), which uses the default pickle module implicitly. It is possible to construct malicious pickle data which will execute arbitrary code during unpickling (See https://github.com/pytorch/pytorch/blob/main/SECURITY.md#untrusted-models for more details). In a future release, the default value for `weights_only` will be flipped to `True`. This limits the functions that could be executed during unpickling. Arbitrary objects will no longer be allowed to be loaded via this mode unless they are explicitly allowlisted by the user via `torch.serialization.add_safe_globals`. We recommend you start setting `weights_only=True` for any use case where you don't have full control of the loaded file. Please open an issue on GitHub for any issues related to this experimental feature.\n",
      "DEBUG flwr 2024-10-06 21:21:16,425 | server.py:187 | evaluate_round 1 received 10 results and 0 failures\n",
      "DEBUG flwr 2024-10-06 21:21:16,427 | server.py:222 | fit_round 2: strategy sampled 10 clients (out of 10)\n",
      "\u001b[36m(DefaultActor pid=52436)\u001b[0m /home/cudaq/.local/lib/python3.10/site-packages/torch/storage.py:414: FutureWarning: You are using `torch.load` with `weights_only=False` (the current default value), which uses the default pickle module implicitly. It is possible to construct malicious pickle data which will execute arbitrary code during unpickling (See https://github.com/pytorch/pytorch/blob/main/SECURITY.md#untrusted-models for more details). In a future release, the default value for `weights_only` will be flipped to `True`. This limits the functions that could be executed during unpickling. Arbitrary objects will no longer be allowed to be loaded via this mode unless they are explicitly allowlisted by the user via `torch.serialization.add_safe_globals`. We recommend you start setting `weights_only=True` for any use case where you don't have full control of the loaded file. Please open an issue on GitHub for any issues related to this experimental feature.\n",
      "\u001b[36m(DefaultActor pid=52436)\u001b[0m   return torch.load(io.BytesIO(b))\n"
     ]
    },
    {
     "name": "stdout",
     "output_type": "stream",
     "text": [
      "\u001b[36m(DefaultActor pid=52436)\u001b[0m  To get the checkpoint\n",
      "\u001b[36m(DefaultActor pid=52436)\u001b[0m [Client 6, round 2] fit, config: {'learning_rate': 0.003, 'batch_size': '32', 'server_round': 2, 'local_epochs': 10}\n",
      "\u001b[36m(DefaultActor pid=52436)\u001b[0m Updated model\n"
     ]
    },
    {
     "name": "stderr",
     "output_type": "stream",
     "text": [
      "\u001b[36m(DefaultActor pid=52436)\u001b[0m /tmp/ipykernel_51903/752934157.py:10: FutureWarning: You are using `torch.load` with `weights_only=False` (the current default value), which uses the default pickle module implicitly. It is possible to construct malicious pickle data which will execute arbitrary code during unpickling (See https://github.com/pytorch/pytorch/blob/main/SECURITY.md#untrusted-models for more details). In a future release, the default value for `weights_only` will be flipped to `True`. This limits the functions that could be executed during unpickling. Arbitrary objects will no longer be allowed to be loaded via this mode unless they are explicitly allowlisted by the user via `torch.serialization.add_safe_globals`. We recommend you start setting `weights_only=True` for any use case where you don't have full control of the loaded file. Please open an issue on GitHub for any issues related to this experimental feature.\n",
      "  0%|\u001b[34m          \u001b[0m| 0/10 [00:00<?, ?it/s]\n"
     ]
    },
    {
     "name": "stdout",
     "output_type": "stream",
     "text": [
      "\u001b[36m(DefaultActor pid=52436)\u001b[0m \tTrain Epoch: 1 \tTrain_loss_mri: 1.0998 | Train_acc_mri: 53.5995 | Train_loss_dna: 1.3890 | Train_acc_dna: 49.2708 | Validation_loss_mri: 1.4693 | Validation_acc_mri: 38.5417 | Validation_loss_dna: 1.2779 | Validation_acc_dna: 35.4167\n"
     ]
    },
    {
     "name": "stderr",
     "output_type": "stream",
     "text": [
      " 10%|\u001b[34m█         \u001b[0m| 1/10 [00:01<00:11,  1.30s/it]\n"
     ]
    },
    {
     "name": "stdout",
     "output_type": "stream",
     "text": [
      "\u001b[36m(DefaultActor pid=52436)\u001b[0m \tTrain Epoch: 2 \tTrain_loss_mri: 0.7356 | Train_acc_mri: 73.4028 | Train_loss_dna: 0.9709 | Train_acc_dna: 62.7778 | Validation_loss_mri: 1.0146 | Validation_acc_mri: 52.6042 | Validation_loss_dna: 1.5005 | Validation_acc_dna: 35.4167\n"
     ]
    },
    {
     "name": "stderr",
     "output_type": "stream",
     "text": [
      " 20%|\u001b[34m██        \u001b[0m| 2/10 [00:02<00:10,  1.32s/it]\n"
     ]
    },
    {
     "name": "stdout",
     "output_type": "stream",
     "text": [
      "\u001b[36m(DefaultActor pid=52436)\u001b[0m \tTrain Epoch: 3 \tTrain_loss_mri: 0.4685 | Train_acc_mri: 85.3935 | Train_loss_dna: 0.8018 | Train_acc_dna: 70.8449 | Validation_loss_mri: 1.1294 | Validation_acc_mri: 52.6042 | Validation_loss_dna: 1.3433 | Validation_acc_dna: 33.8542\n"
     ]
    },
    {
     "name": "stderr",
     "output_type": "stream",
     "text": [
      " 30%|\u001b[34m███       \u001b[0m| 3/10 [00:03<00:09,  1.31s/it]\n"
     ]
    },
    {
     "name": "stdout",
     "output_type": "stream",
     "text": [
      "\u001b[36m(DefaultActor pid=52436)\u001b[0m \tTrain Epoch: 4 \tTrain_loss_mri: 0.2809 | Train_acc_mri: 89.4560 | Train_loss_dna: 0.5731 | Train_acc_dna: 77.8588 | Validation_loss_mri: 0.8465 | Validation_acc_mri: 84.3750 | Validation_loss_dna: 1.5599 | Validation_acc_dna: 35.4167\n"
     ]
    },
    {
     "name": "stderr",
     "output_type": "stream",
     "text": [
      " 40%|\u001b[34m████      \u001b[0m| 4/10 [00:05<00:08,  1.34s/it]\n"
     ]
    },
    {
     "name": "stdout",
     "output_type": "stream",
     "text": [
      "\u001b[36m(DefaultActor pid=52436)\u001b[0m \tTrain Epoch: 5 \tTrain_loss_mri: 0.1588 | Train_acc_mri: 95.2546 | Train_loss_dna: 0.4332 | Train_acc_dna: 83.4028 | Validation_loss_mri: 1.1820 | Validation_acc_mri: 84.3750 | Validation_loss_dna: 2.1145 | Validation_acc_dna: 42.7083\n"
     ]
    },
    {
     "name": "stderr",
     "output_type": "stream",
     "text": [
      " 50%|\u001b[34m█████     \u001b[0m| 5/10 [00:06<00:06,  1.35s/it]\n"
     ]
    },
    {
     "name": "stdout",
     "output_type": "stream",
     "text": [
      "\u001b[36m(DefaultActor pid=52436)\u001b[0m \tTrain Epoch: 6 \tTrain_loss_mri: 0.1056 | Train_acc_mri: 96.1921 | Train_loss_dna: 0.3558 | Train_acc_dna: 88.9468 | Validation_loss_mri: 1.3416 | Validation_acc_mri: 70.8333 | Validation_loss_dna: 1.5240 | Validation_acc_dna: 50.5208\n"
     ]
    },
    {
     "name": "stderr",
     "output_type": "stream",
     "text": [
      " 60%|\u001b[34m██████    \u001b[0m| 6/10 [00:08<00:05,  1.35s/it]\n"
     ]
    },
    {
     "name": "stdout",
     "output_type": "stream",
     "text": [
      "\u001b[36m(DefaultActor pid=52436)\u001b[0m \tTrain Epoch: 7 \tTrain_loss_mri: 0.0966 | Train_acc_mri: 98.0671 | Train_loss_dna: 0.2477 | Train_acc_dna: 93.6343 | Validation_loss_mri: 1.0629 | Validation_acc_mri: 67.7083 | Validation_loss_dna: 2.5232 | Validation_acc_dna: 36.9792\n"
     ]
    },
    {
     "name": "stderr",
     "output_type": "stream",
     "text": [
      " 70%|\u001b[34m███████   \u001b[0m| 7/10 [00:09<00:04,  1.35s/it]\n"
     ]
    },
    {
     "name": "stdout",
     "output_type": "stream",
     "text": [
      "\u001b[36m(DefaultActor pid=52436)\u001b[0m \tTrain Epoch: 8 \tTrain_loss_mri: 0.0914 | Train_acc_mri: 98.0671 | Train_loss_dna: 0.1550 | Train_acc_dna: 96.2500 | Validation_loss_mri: 1.6737 | Validation_acc_mri: 52.6042 | Validation_loss_dna: 3.6302 | Validation_acc_dna: 38.5417\n"
     ]
    },
    {
     "name": "stderr",
     "output_type": "stream",
     "text": [
      " 80%|\u001b[34m████████  \u001b[0m| 8/10 [00:10<00:02,  1.34s/it]\n"
     ]
    },
    {
     "name": "stdout",
     "output_type": "stream",
     "text": [
      "\u001b[36m(DefaultActor pid=52436)\u001b[0m \tTrain Epoch: 9 \tTrain_loss_mri: 0.0617 | Train_acc_mri: 98.6921 | Train_loss_dna: 0.2054 | Train_acc_dna: 95.3125 | Validation_loss_mri: 1.7300 | Validation_acc_mri: 69.2708 | Validation_loss_dna: 2.5823 | Validation_acc_dna: 40.1042\n"
     ]
    },
    {
     "name": "stderr",
     "output_type": "stream",
     "text": [
      " 90%|\u001b[34m█████████ \u001b[0m| 9/10 [00:11<00:01,  1.32s/it]\n"
     ]
    },
    {
     "name": "stdout",
     "output_type": "stream",
     "text": [
      "\u001b[36m(DefaultActor pid=52436)\u001b[0m \tTrain Epoch: 10 \tTrain_loss_mri: 0.1398 | Train_acc_mri: 94.7685 | Train_loss_dna: 0.2060 | Train_acc_dna: 95.5093 | Validation_loss_mri: 1.9736 | Validation_acc_mri: 49.4792 | Validation_loss_dna: 1.3828 | Validation_acc_dna: 55.2083\n",
      "\u001b[36m(DefaultActor pid=52436)\u001b[0m save graph in  results/FL_DNA+MRI/\n"
     ]
    },
    {
     "name": "stderr",
     "output_type": "stream",
     "text": [
      "100%|\u001b[34m██████████\u001b[0m| 10/10 [00:13<00:00,  1.33s/it]\n"
     ]
    },
    {
     "name": "stdout",
     "output_type": "stream",
     "text": [
      "\u001b[36m(DefaultActor pid=52436)\u001b[0m  To get the checkpoint\n",
      "\u001b[36m(DefaultActor pid=52436)\u001b[0m [Client 3, round 2] fit, config: {'learning_rate': 0.003, 'batch_size': '32', 'server_round': 2, 'local_epochs': 10}\n",
      "\u001b[36m(DefaultActor pid=52436)\u001b[0m Updated model\n"
     ]
    },
    {
     "name": "stderr",
     "output_type": "stream",
     "text": [
      "\u001b[36m(DefaultActor pid=52436)\u001b[0m /tmp/ipykernel_51903/752934157.py:10: FutureWarning: You are using `torch.load` with `weights_only=False` (the current default value), which uses the default pickle module implicitly. It is possible to construct malicious pickle data which will execute arbitrary code during unpickling (See https://github.com/pytorch/pytorch/blob/main/SECURITY.md#untrusted-models for more details). In a future release, the default value for `weights_only` will be flipped to `True`. This limits the functions that could be executed during unpickling. Arbitrary objects will no longer be allowed to be loaded via this mode unless they are explicitly allowlisted by the user via `torch.serialization.add_safe_globals`. We recommend you start setting `weights_only=True` for any use case where you don't have full control of the loaded file. Please open an issue on GitHub for any issues related to this experimental feature.\n",
      "  0%|\u001b[34m          \u001b[0m| 0/10 [00:00<?, ?it/s]\n"
     ]
    },
    {
     "name": "stdout",
     "output_type": "stream",
     "text": [
      "\u001b[36m(DefaultActor pid=52436)\u001b[0m \tTrain Epoch: 1 \tTrain_loss_mri: 0.9594 | Train_acc_mri: 60.1042 | Train_loss_dna: 1.3560 | Train_acc_dna: 52.8009 | Validation_loss_mri: 1.7360 | Validation_acc_mri: 18.7500 | Validation_loss_dna: 1.1714 | Validation_acc_dna: 56.7708\n"
     ]
    },
    {
     "name": "stderr",
     "output_type": "stream",
     "text": [
      " 10%|\u001b[34m█         \u001b[0m| 1/10 [00:01<00:11,  1.33s/it]\n"
     ]
    },
    {
     "name": "stdout",
     "output_type": "stream",
     "text": [
      "\u001b[36m(DefaultActor pid=52436)\u001b[0m \tTrain Epoch: 2 \tTrain_loss_mri: 0.7523 | Train_acc_mri: 71.6435 | Train_loss_dna: 1.1853 | Train_acc_dna: 48.5648 | Validation_loss_mri: 0.7763 | Validation_acc_mri: 59.8958 | Validation_loss_dna: 1.2511 | Validation_acc_dna: 59.8958\n"
     ]
    },
    {
     "name": "stderr",
     "output_type": "stream",
     "text": [
      " 20%|\u001b[34m██        \u001b[0m| 2/10 [00:02<00:10,  1.31s/it]\n"
     ]
    },
    {
     "name": "stdout",
     "output_type": "stream",
     "text": [
      "\u001b[36m(DefaultActor pid=52436)\u001b[0m \tTrain Epoch: 3 \tTrain_loss_mri: 0.5639 | Train_acc_mri: 77.7778 | Train_loss_dna: 0.9189 | Train_acc_dna: 60.9491 | Validation_loss_mri: 0.7044 | Validation_acc_mri: 69.2708 | Validation_loss_dna: 1.0479 | Validation_acc_dna: 61.4583\n"
     ]
    },
    {
     "name": "stderr",
     "output_type": "stream",
     "text": [
      " 30%|\u001b[34m███       \u001b[0m| 3/10 [00:03<00:09,  1.30s/it]\n"
     ]
    },
    {
     "name": "stdout",
     "output_type": "stream",
     "text": [
      "\u001b[36m(DefaultActor pid=52436)\u001b[0m \tTrain Epoch: 4 \tTrain_loss_mri: 0.3811 | Train_acc_mri: 86.2731 | Train_loss_dna: 0.6958 | Train_acc_dna: 75.1620 | Validation_loss_mri: 0.6699 | Validation_acc_mri: 81.2500 | Validation_loss_dna: 0.8822 | Validation_acc_dna: 81.2500\n"
     ]
    },
    {
     "name": "stderr",
     "output_type": "stream",
     "text": [
      " 40%|\u001b[34m████      \u001b[0m| 4/10 [00:05<00:07,  1.29s/it]\n"
     ]
    },
    {
     "name": "stdout",
     "output_type": "stream",
     "text": [
      "\u001b[36m(DefaultActor pid=52436)\u001b[0m \tTrain Epoch: 5 \tTrain_loss_mri: 0.2479 | Train_acc_mri: 91.8750 | Train_loss_dna: 0.4614 | Train_acc_dna: 86.8171 | Validation_loss_mri: 1.1442 | Validation_acc_mri: 49.4792 | Validation_loss_dna: 1.0154 | Validation_acc_dna: 61.4583\n"
     ]
    },
    {
     "name": "stderr",
     "output_type": "stream",
     "text": [
      " 50%|\u001b[34m█████     \u001b[0m| 5/10 [00:06<00:06,  1.28s/it]\n"
     ]
    },
    {
     "name": "stdout",
     "output_type": "stream",
     "text": [
      "\u001b[36m(DefaultActor pid=52436)\u001b[0m \tTrain Epoch: 6 \tTrain_loss_mri: 0.1248 | Train_acc_mri: 95.8796 | Train_loss_dna: 0.3501 | Train_acc_dna: 88.8889 | Validation_loss_mri: 0.9606 | Validation_acc_mri: 79.6875 | Validation_loss_dna: 1.0707 | Validation_acc_dna: 51.0417\n"
     ]
    },
    {
     "name": "stderr",
     "output_type": "stream",
     "text": [
      " 60%|\u001b[34m██████    \u001b[0m| 6/10 [00:07<00:05,  1.27s/it]\n"
     ]
    },
    {
     "name": "stdout",
     "output_type": "stream",
     "text": [
      "\u001b[36m(DefaultActor pid=52436)\u001b[0m \tTrain Epoch: 7 \tTrain_loss_mri: 0.0629 | Train_acc_mri: 98.6921 | Train_loss_dna: 0.2576 | Train_acc_dna: 92.1875 | Validation_loss_mri: 0.9427 | Validation_acc_mri: 81.2500 | Validation_loss_dna: 1.0258 | Validation_acc_dna: 63.0208\n"
     ]
    },
    {
     "name": "stderr",
     "output_type": "stream",
     "text": [
      " 70%|\u001b[34m███████   \u001b[0m| 7/10 [00:08<00:03,  1.27s/it]\n"
     ]
    },
    {
     "name": "stdout",
     "output_type": "stream",
     "text": [
      "\u001b[36m(DefaultActor pid=52436)\u001b[0m \tTrain Epoch: 8 \tTrain_loss_mri: 0.1034 | Train_acc_mri: 97.3843 | Train_loss_dna: 0.1974 | Train_acc_dna: 95.4514 | Validation_loss_mri: 0.9126 | Validation_acc_mri: 82.8125 | Validation_loss_dna: 1.1867 | Validation_acc_dna: 44.7917\n"
     ]
    },
    {
     "name": "stderr",
     "output_type": "stream",
     "text": [
      " 80%|\u001b[34m████████  \u001b[0m| 8/10 [00:10<00:02,  1.28s/it]\n"
     ]
    },
    {
     "name": "stdout",
     "output_type": "stream",
     "text": [
      "\u001b[36m(DefaultActor pid=52436)\u001b[0m \tTrain Epoch: 9 \tTrain_loss_mri: 0.0837 | Train_acc_mri: 97.1875 | Train_loss_dna: 0.1692 | Train_acc_dna: 95.1389 | Validation_loss_mri: 0.9864 | Validation_acc_mri: 87.5000 | Validation_loss_dna: 1.3281 | Validation_acc_dna: 43.2292\n"
     ]
    },
    {
     "name": "stderr",
     "output_type": "stream",
     "text": [
      " 90%|\u001b[34m█████████ \u001b[0m| 9/10 [00:11<00:01,  1.30s/it]\n"
     ]
    },
    {
     "name": "stdout",
     "output_type": "stream",
     "text": [
      "\u001b[36m(DefaultActor pid=52436)\u001b[0m \tTrain Epoch: 10 \tTrain_loss_mri: 0.0671 | Train_acc_mri: 97.5000 | Train_loss_dna: 0.1358 | Train_acc_dna: 96.8750 | Validation_loss_mri: 0.7762 | Validation_acc_mri: 79.6875 | Validation_loss_dna: 1.1616 | Validation_acc_dna: 41.6667\n",
      "\u001b[36m(DefaultActor pid=52436)\u001b[0m save graph in  results/FL_DNA+MRI/\n"
     ]
    },
    {
     "name": "stderr",
     "output_type": "stream",
     "text": [
      "100%|\u001b[34m██████████\u001b[0m| 10/10 [00:12<00:00,  1.29s/it]\n"
     ]
    },
    {
     "name": "stdout",
     "output_type": "stream",
     "text": [
      "\u001b[36m(DefaultActor pid=52436)\u001b[0m  To get the checkpoint\n",
      "\u001b[36m(DefaultActor pid=52436)\u001b[0m [Client 0, round 2] fit, config: {'learning_rate': 0.003, 'batch_size': '32', 'server_round': 2, 'local_epochs': 10}\n",
      "\u001b[36m(DefaultActor pid=52436)\u001b[0m Updated model\n"
     ]
    },
    {
     "name": "stderr",
     "output_type": "stream",
     "text": [
      "\u001b[36m(DefaultActor pid=52436)\u001b[0m /tmp/ipykernel_51903/752934157.py:10: FutureWarning: You are using `torch.load` with `weights_only=False` (the current default value), which uses the default pickle module implicitly. It is possible to construct malicious pickle data which will execute arbitrary code during unpickling (See https://github.com/pytorch/pytorch/blob/main/SECURITY.md#untrusted-models for more details). In a future release, the default value for `weights_only` will be flipped to `True`. This limits the functions that could be executed during unpickling. Arbitrary objects will no longer be allowed to be loaded via this mode unless they are explicitly allowlisted by the user via `torch.serialization.add_safe_globals`. We recommend you start setting `weights_only=True` for any use case where you don't have full control of the loaded file. Please open an issue on GitHub for any issues related to this experimental feature.\n",
      "  0%|\u001b[34m          \u001b[0m| 0/10 [00:00<?, ?it/s]\n"
     ]
    },
    {
     "name": "stdout",
     "output_type": "stream",
     "text": [
      "\u001b[36m(DefaultActor pid=52436)\u001b[0m \tTrain Epoch: 1 \tTrain_loss_mri: 1.1142 | Train_acc_mri: 53.0556 | Train_loss_dna: 1.3531 | Train_acc_dna: 53.0324 | Validation_loss_mri: 1.0953 | Validation_acc_mri: 52.0833 | Validation_loss_dna: 1.5917 | Validation_acc_dna: 29.6875\n"
     ]
    },
    {
     "name": "stderr",
     "output_type": "stream",
     "text": [
      " 10%|\u001b[34m█         \u001b[0m| 1/10 [00:01<00:11,  1.28s/it]\n"
     ]
    },
    {
     "name": "stdout",
     "output_type": "stream",
     "text": [
      "\u001b[36m(DefaultActor pid=52436)\u001b[0m \tTrain Epoch: 2 \tTrain_loss_mri: 0.7124 | Train_acc_mri: 71.2963 | Train_loss_dna: 1.0893 | Train_acc_dna: 62.0370 | Validation_loss_mri: 1.0247 | Validation_acc_mri: 53.6458 | Validation_loss_dna: 1.4155 | Validation_acc_dna: 25.0000\n"
     ]
    },
    {
     "name": "stderr",
     "output_type": "stream",
     "text": [
      " 20%|\u001b[34m██        \u001b[0m| 2/10 [00:02<00:10,  1.26s/it]\n"
     ]
    },
    {
     "name": "stdout",
     "output_type": "stream",
     "text": [
      "\u001b[36m(DefaultActor pid=52436)\u001b[0m \tTrain Epoch: 3 \tTrain_loss_mri: 0.4946 | Train_acc_mri: 80.6481 | Train_loss_dna: 0.7613 | Train_acc_dna: 70.9606 | Validation_loss_mri: 1.4838 | Validation_acc_mri: 59.8958 | Validation_loss_dna: 1.6903 | Validation_acc_dna: 59.8958\n"
     ]
    },
    {
     "name": "stderr",
     "output_type": "stream",
     "text": [
      " 30%|\u001b[34m███       \u001b[0m| 3/10 [00:03<00:08,  1.27s/it]\n"
     ]
    },
    {
     "name": "stdout",
     "output_type": "stream",
     "text": [
      "\u001b[36m(DefaultActor pid=52436)\u001b[0m \tTrain Epoch: 4 \tTrain_loss_mri: 0.3530 | Train_acc_mri: 88.2060 | Train_loss_dna: 0.6839 | Train_acc_dna: 76.1574 | Validation_loss_mri: 1.0567 | Validation_acc_mri: 63.0208 | Validation_loss_dna: 1.4707 | Validation_acc_dna: 31.2500\n"
     ]
    },
    {
     "name": "stderr",
     "output_type": "stream",
     "text": [
      " 40%|\u001b[34m████      \u001b[0m| 4/10 [00:05<00:07,  1.28s/it]\n"
     ]
    },
    {
     "name": "stdout",
     "output_type": "stream",
     "text": [
      "\u001b[36m(DefaultActor pid=52436)\u001b[0m \tTrain Epoch: 5 \tTrain_loss_mri: 0.2529 | Train_acc_mri: 91.4468 | Train_loss_dna: 0.5645 | Train_acc_dna: 83.6343 | Validation_loss_mri: 1.4407 | Validation_acc_mri: 56.7708 | Validation_loss_dna: 1.3544 | Validation_acc_dna: 46.3542\n"
     ]
    },
    {
     "name": "stderr",
     "output_type": "stream",
     "text": [
      " 50%|\u001b[34m█████     \u001b[0m| 5/10 [00:06<00:06,  1.28s/it]\n"
     ]
    },
    {
     "name": "stdout",
     "output_type": "stream",
     "text": [
      "\u001b[36m(DefaultActor pid=52436)\u001b[0m \tTrain Epoch: 6 \tTrain_loss_mri: 0.1402 | Train_acc_mri: 97.1296 | Train_loss_dna: 0.4628 | Train_acc_dna: 84.1435 | Validation_loss_mri: 1.9004 | Validation_acc_mri: 59.8958 | Validation_loss_dna: 2.0347 | Validation_acc_dna: 35.9375\n"
     ]
    },
    {
     "name": "stderr",
     "output_type": "stream",
     "text": [
      " 60%|\u001b[34m██████    \u001b[0m| 6/10 [00:07<00:05,  1.29s/it]\n"
     ]
    },
    {
     "name": "stdout",
     "output_type": "stream",
     "text": [
      "\u001b[36m(DefaultActor pid=52436)\u001b[0m \tTrain Epoch: 7 \tTrain_loss_mri: 0.0612 | Train_acc_mri: 99.0625 | Train_loss_dna: 0.2468 | Train_acc_dna: 93.6921 | Validation_loss_mri: 2.9878 | Validation_acc_mri: 63.0208 | Validation_loss_dna: 2.5271 | Validation_acc_dna: 29.6875\n"
     ]
    },
    {
     "name": "stderr",
     "output_type": "stream",
     "text": [
      " 70%|\u001b[34m███████   \u001b[0m| 7/10 [00:08<00:03,  1.29s/it]\n"
     ]
    },
    {
     "name": "stdout",
     "output_type": "stream",
     "text": [
      "\u001b[36m(DefaultActor pid=52436)\u001b[0m \tTrain Epoch: 8 \tTrain_loss_mri: 0.0241 | Train_acc_mri: 99.3171 | Train_loss_dna: 0.1392 | Train_acc_dna: 96.5625 | Validation_loss_mri: 3.0115 | Validation_acc_mri: 59.8958 | Validation_loss_dna: 2.1955 | Validation_acc_dna: 29.6875\n"
     ]
    },
    {
     "name": "stderr",
     "output_type": "stream",
     "text": [
      " 80%|\u001b[34m████████  \u001b[0m| 8/10 [00:10<00:02,  1.31s/it]\n"
     ]
    },
    {
     "name": "stdout",
     "output_type": "stream",
     "text": [
      "\u001b[36m(DefaultActor pid=52436)\u001b[0m \tTrain Epoch: 9 \tTrain_loss_mri: 0.1492 | Train_acc_mri: 97.6389 | Train_loss_dna: 0.1652 | Train_acc_dna: 95.3125 | Validation_loss_mri: 2.2865 | Validation_acc_mri: 61.4583 | Validation_loss_dna: 1.8969 | Validation_acc_dna: 31.2500\n"
     ]
    },
    {
     "name": "stderr",
     "output_type": "stream",
     "text": [
      " 90%|\u001b[34m█████████ \u001b[0m| 9/10 [00:11<00:01,  1.35s/it]\n"
     ]
    },
    {
     "name": "stdout",
     "output_type": "stream",
     "text": [
      "\u001b[36m(DefaultActor pid=52436)\u001b[0m \tTrain Epoch: 10 \tTrain_loss_mri: 0.0909 | Train_acc_mri: 97.5000 | Train_loss_dna: 0.1805 | Train_acc_dna: 95.8796 | Validation_loss_mri: 2.5782 | Validation_acc_mri: 64.5833 | Validation_loss_dna: 2.8960 | Validation_acc_dna: 32.8125\n",
      "\u001b[36m(DefaultActor pid=52436)\u001b[0m save graph in  results/FL_DNA+MRI/\n"
     ]
    },
    {
     "name": "stderr",
     "output_type": "stream",
     "text": [
      "100%|\u001b[34m██████████\u001b[0m| 10/10 [00:13<00:00,  1.31s/it]\n"
     ]
    },
    {
     "name": "stdout",
     "output_type": "stream",
     "text": [
      "\u001b[36m(DefaultActor pid=52436)\u001b[0m  To get the checkpoint\n",
      "\u001b[36m(DefaultActor pid=52436)\u001b[0m [Client 5, round 2] fit, config: {'learning_rate': 0.003, 'batch_size': '32', 'server_round': 2, 'local_epochs': 10}\n",
      "\u001b[36m(DefaultActor pid=52436)\u001b[0m Updated model\n"
     ]
    },
    {
     "name": "stderr",
     "output_type": "stream",
     "text": [
      "\u001b[36m(DefaultActor pid=52436)\u001b[0m /tmp/ipykernel_51903/752934157.py:10: FutureWarning: You are using `torch.load` with `weights_only=False` (the current default value), which uses the default pickle module implicitly. It is possible to construct malicious pickle data which will execute arbitrary code during unpickling (See https://github.com/pytorch/pytorch/blob/main/SECURITY.md#untrusted-models for more details). In a future release, the default value for `weights_only` will be flipped to `True`. This limits the functions that could be executed during unpickling. Arbitrary objects will no longer be allowed to be loaded via this mode unless they are explicitly allowlisted by the user via `torch.serialization.add_safe_globals`. We recommend you start setting `weights_only=True` for any use case where you don't have full control of the loaded file. Please open an issue on GitHub for any issues related to this experimental feature.\n",
      "  0%|\u001b[34m          \u001b[0m| 0/10 [00:00<?, ?it/s]\n"
     ]
    },
    {
     "name": "stdout",
     "output_type": "stream",
     "text": [
      "\u001b[36m(DefaultActor pid=52436)\u001b[0m \tTrain Epoch: 1 \tTrain_loss_mri: 1.0439 | Train_acc_mri: 52.6620 | Train_loss_dna: 1.3869 | Train_acc_dna: 46.6898 | Validation_loss_mri: 0.7667 | Validation_acc_mri: 69.2708 | Validation_loss_dna: 1.3438 | Validation_acc_dna: 35.4167\n"
     ]
    },
    {
     "name": "stderr",
     "output_type": "stream",
     "text": [
      " 10%|\u001b[34m█         \u001b[0m| 1/10 [00:01<00:11,  1.28s/it]\n"
     ]
    },
    {
     "name": "stdout",
     "output_type": "stream",
     "text": [
      "\u001b[36m(DefaultActor pid=52436)\u001b[0m \tTrain Epoch: 2 \tTrain_loss_mri: 0.6983 | Train_acc_mri: 73.4838 | Train_loss_dna: 1.0169 | Train_acc_dna: 61.6435 | Validation_loss_mri: 0.9125 | Validation_acc_mri: 54.1667 | Validation_loss_dna: 1.1264 | Validation_acc_dna: 53.6458\n"
     ]
    },
    {
     "name": "stderr",
     "output_type": "stream",
     "text": [
      " 20%|\u001b[34m██        \u001b[0m| 2/10 [00:02<00:10,  1.26s/it]\n"
     ]
    },
    {
     "name": "stdout",
     "output_type": "stream",
     "text": [
      "\u001b[36m(DefaultActor pid=52436)\u001b[0m \tTrain Epoch: 3 \tTrain_loss_mri: 0.4802 | Train_acc_mri: 85.6481 | Train_loss_dna: 0.8306 | Train_acc_dna: 71.7824 | Validation_loss_mri: 0.7433 | Validation_acc_mri: 72.3958 | Validation_loss_dna: 1.2416 | Validation_acc_dna: 32.2917\n"
     ]
    },
    {
     "name": "stderr",
     "output_type": "stream",
     "text": [
      " 30%|\u001b[34m███       \u001b[0m| 3/10 [00:03<00:08,  1.26s/it]\n"
     ]
    },
    {
     "name": "stdout",
     "output_type": "stream",
     "text": [
      "\u001b[36m(DefaultActor pid=52436)\u001b[0m \tTrain Epoch: 4 \tTrain_loss_mri: 0.3214 | Train_acc_mri: 89.6296 | Train_loss_dna: 0.6597 | Train_acc_dna: 79.2824 | Validation_loss_mri: 1.0593 | Validation_acc_mri: 66.1458 | Validation_loss_dna: 1.2281 | Validation_acc_dna: 50.5208\n"
     ]
    },
    {
     "name": "stderr",
     "output_type": "stream",
     "text": [
      " 40%|\u001b[34m████      \u001b[0m| 4/10 [00:05<00:07,  1.26s/it]\n"
     ]
    },
    {
     "name": "stdout",
     "output_type": "stream",
     "text": [
      "\u001b[36m(DefaultActor pid=52436)\u001b[0m \tTrain Epoch: 5 \tTrain_loss_mri: 0.1720 | Train_acc_mri: 95.9375 | Train_loss_dna: 0.4508 | Train_acc_dna: 84.8264 | Validation_loss_mri: 1.4605 | Validation_acc_mri: 66.1458 | Validation_loss_dna: 1.4215 | Validation_acc_dna: 32.2917\n"
     ]
    },
    {
     "name": "stderr",
     "output_type": "stream",
     "text": [
      " 50%|\u001b[34m█████     \u001b[0m| 5/10 [00:06<00:06,  1.28s/it]\n"
     ]
    },
    {
     "name": "stdout",
     "output_type": "stream",
     "text": [
      "\u001b[36m(DefaultActor pid=52436)\u001b[0m \tTrain Epoch: 6 \tTrain_loss_mri: 0.1065 | Train_acc_mri: 98.0093 | Train_loss_dna: 0.3235 | Train_acc_dna: 91.5856 | Validation_loss_mri: 1.5084 | Validation_acc_mri: 81.2500 | Validation_loss_dna: 1.3124 | Validation_acc_dna: 47.3958\n"
     ]
    },
    {
     "name": "stderr",
     "output_type": "stream",
     "text": [
      " 60%|\u001b[34m██████    \u001b[0m| 6/10 [00:07<00:05,  1.28s/it]\n"
     ]
    },
    {
     "name": "stdout",
     "output_type": "stream",
     "text": [
      "\u001b[36m(DefaultActor pid=52436)\u001b[0m \tTrain Epoch: 7 \tTrain_loss_mri: 0.1049 | Train_acc_mri: 97.7546 | Train_loss_dna: 0.2173 | Train_acc_dna: 94.8843 | Validation_loss_mri: 1.7588 | Validation_acc_mri: 67.7083 | Validation_loss_dna: 1.9141 | Validation_acc_dna: 60.9375\n"
     ]
    },
    {
     "name": "stderr",
     "output_type": "stream",
     "text": [
      " 70%|\u001b[34m███████   \u001b[0m| 7/10 [00:08<00:03,  1.27s/it]\n"
     ]
    },
    {
     "name": "stdout",
     "output_type": "stream",
     "text": [
      "\u001b[36m(DefaultActor pid=52436)\u001b[0m \tTrain Epoch: 8 \tTrain_loss_mri: 0.0351 | Train_acc_mri: 99.0046 | Train_loss_dna: 0.1764 | Train_acc_dna: 95.1389 | Validation_loss_mri: 1.4876 | Validation_acc_mri: 64.5833 | Validation_loss_dna: 1.7615 | Validation_acc_dna: 33.8542\n"
     ]
    },
    {
     "name": "stderr",
     "output_type": "stream",
     "text": [
      " 80%|\u001b[34m████████  \u001b[0m| 8/10 [00:10<00:02,  1.29s/it]\n"
     ]
    },
    {
     "name": "stdout",
     "output_type": "stream",
     "text": [
      "\u001b[36m(DefaultActor pid=52436)\u001b[0m \tTrain Epoch: 9 \tTrain_loss_mri: 0.1698 | Train_acc_mri: 95.1968 | Train_loss_dna: 0.2261 | Train_acc_dna: 94.3171 | Validation_loss_mri: 1.3846 | Validation_acc_mri: 70.8333 | Validation_loss_dna: 1.4019 | Validation_acc_dna: 48.9583\n"
     ]
    },
    {
     "name": "stderr",
     "output_type": "stream",
     "text": [
      " 90%|\u001b[34m█████████ \u001b[0m| 9/10 [00:11<00:01,  1.27s/it]\n"
     ]
    },
    {
     "name": "stdout",
     "output_type": "stream",
     "text": [
      "\u001b[36m(DefaultActor pid=52436)\u001b[0m \tTrain Epoch: 10 \tTrain_loss_mri: 0.0785 | Train_acc_mri: 99.0625 | Train_loss_dna: 0.2162 | Train_acc_dna: 96.7593 | Validation_loss_mri: 0.7267 | Validation_acc_mri: 69.2708 | Validation_loss_dna: 2.1915 | Validation_acc_dna: 32.2917\n",
      "\u001b[36m(DefaultActor pid=52436)\u001b[0m save graph in  results/FL_DNA+MRI/\n"
     ]
    },
    {
     "name": "stderr",
     "output_type": "stream",
     "text": [
      "100%|\u001b[34m██████████\u001b[0m| 10/10 [00:12<00:00,  1.27s/it]\n"
     ]
    },
    {
     "name": "stdout",
     "output_type": "stream",
     "text": [
      "\u001b[36m(DefaultActor pid=52436)\u001b[0m  To get the checkpoint\n",
      "\u001b[36m(DefaultActor pid=52436)\u001b[0m [Client 8, round 2] fit, config: {'learning_rate': 0.003, 'batch_size': '32', 'server_round': 2, 'local_epochs': 10}\n",
      "\u001b[36m(DefaultActor pid=52436)\u001b[0m Updated model\n"
     ]
    },
    {
     "name": "stderr",
     "output_type": "stream",
     "text": [
      "\u001b[36m(DefaultActor pid=52436)\u001b[0m /tmp/ipykernel_51903/752934157.py:10: FutureWarning: You are using `torch.load` with `weights_only=False` (the current default value), which uses the default pickle module implicitly. It is possible to construct malicious pickle data which will execute arbitrary code during unpickling (See https://github.com/pytorch/pytorch/blob/main/SECURITY.md#untrusted-models for more details). In a future release, the default value for `weights_only` will be flipped to `True`. This limits the functions that could be executed during unpickling. Arbitrary objects will no longer be allowed to be loaded via this mode unless they are explicitly allowlisted by the user via `torch.serialization.add_safe_globals`. We recommend you start setting `weights_only=True` for any use case where you don't have full control of the loaded file. Please open an issue on GitHub for any issues related to this experimental feature.\n",
      "  0%|\u001b[34m          \u001b[0m| 0/10 [00:00<?, ?it/s]\n"
     ]
    },
    {
     "name": "stdout",
     "output_type": "stream",
     "text": [
      "\u001b[36m(DefaultActor pid=52436)\u001b[0m \tTrain Epoch: 1 \tTrain_loss_mri: 0.9732 | Train_acc_mri: 61.9792 | Train_loss_dna: 1.3140 | Train_acc_dna: 46.9213 | Validation_loss_mri: 0.7854 | Validation_acc_mri: 63.0208 | Validation_loss_dna: 1.3226 | Validation_acc_dna: 44.7917\n"
     ]
    },
    {
     "name": "stderr",
     "output_type": "stream",
     "text": [
      " 10%|\u001b[34m█         \u001b[0m| 1/10 [00:01<00:12,  1.35s/it]\n"
     ]
    },
    {
     "name": "stdout",
     "output_type": "stream",
     "text": [
      "\u001b[36m(DefaultActor pid=52436)\u001b[0m \tTrain Epoch: 2 \tTrain_loss_mri: 0.5874 | Train_acc_mri: 79.7685 | Train_loss_dna: 1.0612 | Train_acc_dna: 61.2384 | Validation_loss_mri: 0.9101 | Validation_acc_mri: 70.8333 | Validation_loss_dna: 1.4448 | Validation_acc_dna: 59.8958\n"
     ]
    },
    {
     "name": "stderr",
     "output_type": "stream",
     "text": [
      " 20%|\u001b[34m██        \u001b[0m| 2/10 [00:02<00:10,  1.33s/it]\n"
     ]
    },
    {
     "name": "stdout",
     "output_type": "stream",
     "text": [
      "\u001b[36m(DefaultActor pid=52436)\u001b[0m \tTrain Epoch: 3 \tTrain_loss_mri: 0.4238 | Train_acc_mri: 84.4792 | Train_loss_dna: 0.7864 | Train_acc_dna: 68.5995 | Validation_loss_mri: 1.0630 | Validation_acc_mri: 66.1458 | Validation_loss_dna: 1.0352 | Validation_acc_dna: 56.7708\n"
     ]
    },
    {
     "name": "stderr",
     "output_type": "stream",
     "text": [
      " 30%|\u001b[34m███       \u001b[0m| 3/10 [00:03<00:09,  1.29s/it]\n"
     ]
    },
    {
     "name": "stdout",
     "output_type": "stream",
     "text": [
      "\u001b[36m(DefaultActor pid=52436)\u001b[0m \tTrain Epoch: 4 \tTrain_loss_mri: 0.2578 | Train_acc_mri: 91.8750 | Train_loss_dna: 0.5484 | Train_acc_dna: 80.9606 | Validation_loss_mri: 1.0745 | Validation_acc_mri: 67.7083 | Validation_loss_dna: 0.8836 | Validation_acc_dna: 58.3333\n"
     ]
    },
    {
     "name": "stderr",
     "output_type": "stream",
     "text": [
      " 40%|\u001b[34m████      \u001b[0m| 4/10 [00:05<00:07,  1.27s/it]\n"
     ]
    },
    {
     "name": "stdout",
     "output_type": "stream",
     "text": [
      "\u001b[36m(DefaultActor pid=52436)\u001b[0m \tTrain Epoch: 5 \tTrain_loss_mri: 0.1411 | Train_acc_mri: 95.0000 | Train_loss_dna: 0.3959 | Train_acc_dna: 88.3218 | Validation_loss_mri: 1.2577 | Validation_acc_mri: 66.1458 | Validation_loss_dna: 0.9720 | Validation_acc_dna: 76.5625\n"
     ]
    },
    {
     "name": "stderr",
     "output_type": "stream",
     "text": [
      " 50%|\u001b[34m█████     \u001b[0m| 5/10 [00:06<00:06,  1.26s/it]\n"
     ]
    },
    {
     "name": "stdout",
     "output_type": "stream",
     "text": [
      "\u001b[36m(DefaultActor pid=52436)\u001b[0m \tTrain Epoch: 6 \tTrain_loss_mri: 0.1058 | Train_acc_mri: 97.1296 | Train_loss_dna: 0.3730 | Train_acc_dna: 89.8264 | Validation_loss_mri: 1.7589 | Validation_acc_mri: 66.1458 | Validation_loss_dna: 1.6518 | Validation_acc_dna: 55.2083\n"
     ]
    },
    {
     "name": "stderr",
     "output_type": "stream",
     "text": [
      " 60%|\u001b[34m██████    \u001b[0m| 6/10 [00:07<00:05,  1.26s/it]\n"
     ]
    },
    {
     "name": "stdout",
     "output_type": "stream",
     "text": [
      "\u001b[36m(DefaultActor pid=52436)\u001b[0m \tTrain Epoch: 7 \tTrain_loss_mri: 0.0799 | Train_acc_mri: 97.1875 | Train_loss_dna: 0.2546 | Train_acc_dna: 93.9468 | Validation_loss_mri: 1.9364 | Validation_acc_mri: 64.5833 | Validation_loss_dna: 0.9787 | Validation_acc_dna: 71.8750\n"
     ]
    },
    {
     "name": "stderr",
     "output_type": "stream",
     "text": [
      " 70%|\u001b[34m███████   \u001b[0m| 7/10 [00:08<00:03,  1.26s/it]\n"
     ]
    },
    {
     "name": "stdout",
     "output_type": "stream",
     "text": [
      "\u001b[36m(DefaultActor pid=52436)\u001b[0m \tTrain Epoch: 8 \tTrain_loss_mri: 0.0490 | Train_acc_mri: 99.0046 | Train_loss_dna: 0.2077 | Train_acc_dna: 95.2546 | Validation_loss_mri: 2.0152 | Validation_acc_mri: 67.7083 | Validation_loss_dna: 1.0794 | Validation_acc_dna: 76.5625\n"
     ]
    },
    {
     "name": "stderr",
     "output_type": "stream",
     "text": [
      " 80%|\u001b[34m████████  \u001b[0m| 8/10 [00:10<00:02,  1.26s/it]\n"
     ]
    },
    {
     "name": "stdout",
     "output_type": "stream",
     "text": [
      "\u001b[36m(DefaultActor pid=52436)\u001b[0m \tTrain Epoch: 9 \tTrain_loss_mri: 0.0640 | Train_acc_mri: 97.4421 | Train_loss_dna: 0.1478 | Train_acc_dna: 96.7593 | Validation_loss_mri: 1.8334 | Validation_acc_mri: 69.2708 | Validation_loss_dna: 1.5248 | Validation_acc_dna: 50.5208\n"
     ]
    },
    {
     "name": "stderr",
     "output_type": "stream",
     "text": [
      " 90%|\u001b[34m█████████ \u001b[0m| 9/10 [00:11<00:01,  1.26s/it]\n"
     ]
    },
    {
     "name": "stdout",
     "output_type": "stream",
     "text": [
      "\u001b[36m(DefaultActor pid=52436)\u001b[0m \tTrain Epoch: 10 \tTrain_loss_mri: 0.1381 | Train_acc_mri: 98.4375 | Train_loss_dna: 0.1249 | Train_acc_dna: 95.8796 | Validation_loss_mri: 1.5524 | Validation_acc_mri: 66.1458 | Validation_loss_dna: 0.8308 | Validation_acc_dna: 75.0000\n",
      "\u001b[36m(DefaultActor pid=52436)\u001b[0m save graph in  results/FL_DNA+MRI/\n"
     ]
    },
    {
     "name": "stderr",
     "output_type": "stream",
     "text": [
      "100%|\u001b[34m██████████\u001b[0m| 10/10 [00:12<00:00,  1.27s/it]\n"
     ]
    },
    {
     "name": "stdout",
     "output_type": "stream",
     "text": [
      "\u001b[36m(DefaultActor pid=52436)\u001b[0m  To get the checkpoint\n",
      "\u001b[36m(DefaultActor pid=52436)\u001b[0m [Client 4, round 2] fit, config: {'learning_rate': 0.003, 'batch_size': '32', 'server_round': 2, 'local_epochs': 10}\n",
      "\u001b[36m(DefaultActor pid=52436)\u001b[0m Updated model\n"
     ]
    },
    {
     "name": "stderr",
     "output_type": "stream",
     "text": [
      "\u001b[36m(DefaultActor pid=52436)\u001b[0m /tmp/ipykernel_51903/752934157.py:10: FutureWarning: You are using `torch.load` with `weights_only=False` (the current default value), which uses the default pickle module implicitly. It is possible to construct malicious pickle data which will execute arbitrary code during unpickling (See https://github.com/pytorch/pytorch/blob/main/SECURITY.md#untrusted-models for more details). In a future release, the default value for `weights_only` will be flipped to `True`. This limits the functions that could be executed during unpickling. Arbitrary objects will no longer be allowed to be loaded via this mode unless they are explicitly allowlisted by the user via `torch.serialization.add_safe_globals`. We recommend you start setting `weights_only=True` for any use case where you don't have full control of the loaded file. Please open an issue on GitHub for any issues related to this experimental feature.\n",
      "  0%|\u001b[34m          \u001b[0m| 0/10 [00:00<?, ?it/s]\n"
     ]
    },
    {
     "name": "stdout",
     "output_type": "stream",
     "text": [
      "\u001b[36m(DefaultActor pid=52436)\u001b[0m \tTrain Epoch: 1 \tTrain_loss_mri: 1.1038 | Train_acc_mri: 57.5463 | Train_loss_dna: 1.3484 | Train_acc_dna: 55.6713 | Validation_loss_mri: 0.9274 | Validation_acc_mri: 85.9375 | Validation_loss_dna: 1.5865 | Validation_acc_dna: 40.1042\n"
     ]
    },
    {
     "name": "stderr",
     "output_type": "stream",
     "text": [
      " 10%|\u001b[34m█         \u001b[0m| 1/10 [00:01<00:11,  1.30s/it]\n"
     ]
    },
    {
     "name": "stdout",
     "output_type": "stream",
     "text": [
      "\u001b[36m(DefaultActor pid=52436)\u001b[0m \tTrain Epoch: 2 \tTrain_loss_mri: 0.6458 | Train_acc_mri: 77.8356 | Train_loss_dna: 1.0656 | Train_acc_dna: 60.4977 | Validation_loss_mri: 0.8359 | Validation_acc_mri: 67.7083 | Validation_loss_dna: 1.5677 | Validation_acc_dna: 41.6667\n"
     ]
    },
    {
     "name": "stderr",
     "output_type": "stream",
     "text": [
      " 20%|\u001b[34m██        \u001b[0m| 2/10 [00:02<00:10,  1.31s/it]\n"
     ]
    },
    {
     "name": "stdout",
     "output_type": "stream",
     "text": [
      "\u001b[36m(DefaultActor pid=52436)\u001b[0m \tTrain Epoch: 3 \tTrain_loss_mri: 0.4593 | Train_acc_mri: 82.7199 | Train_loss_dna: 0.7320 | Train_acc_dna: 72.0949 | Validation_loss_mri: 0.9767 | Validation_acc_mri: 72.3958 | Validation_loss_dna: 1.3618 | Validation_acc_dna: 44.7917\n"
     ]
    },
    {
     "name": "stderr",
     "output_type": "stream",
     "text": [
      " 30%|\u001b[34m███       \u001b[0m| 3/10 [00:03<00:09,  1.31s/it]\n"
     ]
    },
    {
     "name": "stdout",
     "output_type": "stream",
     "text": [
      "\u001b[36m(DefaultActor pid=52436)\u001b[0m \tTrain Epoch: 4 \tTrain_loss_mri: 0.3184 | Train_acc_mri: 86.9560 | Train_loss_dna: 0.5807 | Train_acc_dna: 79.4560 | Validation_loss_mri: 1.1436 | Validation_acc_mri: 66.1458 | Validation_loss_dna: 1.4692 | Validation_acc_dna: 43.2292\n"
     ]
    },
    {
     "name": "stderr",
     "output_type": "stream",
     "text": [
      " 40%|\u001b[34m████      \u001b[0m| 4/10 [00:05<00:07,  1.30s/it]\n"
     ]
    },
    {
     "name": "stdout",
     "output_type": "stream",
     "text": [
      "\u001b[36m(DefaultActor pid=52436)\u001b[0m \tTrain Epoch: 5 \tTrain_loss_mri: 0.1605 | Train_acc_mri: 95.3125 | Train_loss_dna: 0.3929 | Train_acc_dna: 86.8171 | Validation_loss_mri: 0.9753 | Validation_acc_mri: 72.3958 | Validation_loss_dna: 1.7269 | Validation_acc_dna: 46.3542\n"
     ]
    },
    {
     "name": "stderr",
     "output_type": "stream",
     "text": [
      " 50%|\u001b[34m█████     \u001b[0m| 5/10 [00:06<00:06,  1.28s/it]\n"
     ]
    },
    {
     "name": "stdout",
     "output_type": "stream",
     "text": [
      "\u001b[36m(DefaultActor pid=52436)\u001b[0m \tTrain Epoch: 6 \tTrain_loss_mri: 0.0763 | Train_acc_mri: 99.0046 | Train_loss_dna: 0.2736 | Train_acc_dna: 91.7593 | Validation_loss_mri: 1.1419 | Validation_acc_mri: 57.2917 | Validation_loss_dna: 2.3146 | Validation_acc_dna: 29.6875\n"
     ]
    },
    {
     "name": "stderr",
     "output_type": "stream",
     "text": [
      " 60%|\u001b[34m██████    \u001b[0m| 6/10 [00:07<00:05,  1.27s/it]\n"
     ]
    },
    {
     "name": "stdout",
     "output_type": "stream",
     "text": [
      "\u001b[36m(DefaultActor pid=52436)\u001b[0m \tTrain Epoch: 7 \tTrain_loss_mri: 0.1390 | Train_acc_mri: 96.8750 | Train_loss_dna: 0.1688 | Train_acc_dna: 96.5046 | Validation_loss_mri: 1.0773 | Validation_acc_mri: 72.3958 | Validation_loss_dna: 1.8722 | Validation_acc_dna: 46.3542\n"
     ]
    },
    {
     "name": "stderr",
     "output_type": "stream",
     "text": [
      " 70%|\u001b[34m███████   \u001b[0m| 7/10 [00:08<00:03,  1.26s/it]\n"
     ]
    },
    {
     "name": "stdout",
     "output_type": "stream",
     "text": [
      "\u001b[36m(DefaultActor pid=52436)\u001b[0m \tTrain Epoch: 8 \tTrain_loss_mri: 0.1347 | Train_acc_mri: 96.1921 | Train_loss_dna: 0.1994 | Train_acc_dna: 94.9421 | Validation_loss_mri: 2.5739 | Validation_acc_mri: 32.8125 | Validation_loss_dna: 1.7845 | Validation_acc_dna: 44.7917\n"
     ]
    },
    {
     "name": "stderr",
     "output_type": "stream",
     "text": [
      " 80%|\u001b[34m████████  \u001b[0m| 8/10 [00:10<00:02,  1.25s/it]\n"
     ]
    },
    {
     "name": "stdout",
     "output_type": "stream",
     "text": [
      "\u001b[36m(DefaultActor pid=52436)\u001b[0m \tTrain Epoch: 9 \tTrain_loss_mri: 0.1079 | Train_acc_mri: 96.2500 | Train_loss_dna: 0.1741 | Train_acc_dna: 96.5625 | Validation_loss_mri: 1.2941 | Validation_acc_mri: 67.7083 | Validation_loss_dna: 3.0760 | Validation_acc_dna: 40.1042\n"
     ]
    },
    {
     "name": "stderr",
     "output_type": "stream",
     "text": [
      " 90%|\u001b[34m█████████ \u001b[0m| 9/10 [00:11<00:01,  1.25s/it]\n"
     ]
    },
    {
     "name": "stdout",
     "output_type": "stream",
     "text": [
      "\u001b[36m(DefaultActor pid=52436)\u001b[0m \tTrain Epoch: 10 \tTrain_loss_mri: 0.1030 | Train_acc_mri: 96.7593 | Train_loss_dna: 0.1826 | Train_acc_dna: 95.3125 | Validation_loss_mri: 2.7319 | Validation_acc_mri: 44.7917 | Validation_loss_dna: 4.5501 | Validation_acc_dna: 23.4375\n",
      "\u001b[36m(DefaultActor pid=52436)\u001b[0m save graph in  results/FL_DNA+MRI/\n"
     ]
    },
    {
     "name": "stderr",
     "output_type": "stream",
     "text": [
      "100%|\u001b[34m██████████\u001b[0m| 10/10 [00:12<00:00,  1.27s/it]\n"
     ]
    },
    {
     "name": "stdout",
     "output_type": "stream",
     "text": [
      "\u001b[36m(DefaultActor pid=52436)\u001b[0m  To get the checkpoint\n",
      "\u001b[36m(DefaultActor pid=52436)\u001b[0m [Client 2, round 2] fit, config: {'learning_rate': 0.003, 'batch_size': '32', 'server_round': 2, 'local_epochs': 10}\n",
      "\u001b[36m(DefaultActor pid=52436)\u001b[0m Updated model\n"
     ]
    },
    {
     "name": "stderr",
     "output_type": "stream",
     "text": [
      "\u001b[36m(DefaultActor pid=52436)\u001b[0m /tmp/ipykernel_51903/752934157.py:10: FutureWarning: You are using `torch.load` with `weights_only=False` (the current default value), which uses the default pickle module implicitly. It is possible to construct malicious pickle data which will execute arbitrary code during unpickling (See https://github.com/pytorch/pytorch/blob/main/SECURITY.md#untrusted-models for more details). In a future release, the default value for `weights_only` will be flipped to `True`. This limits the functions that could be executed during unpickling. Arbitrary objects will no longer be allowed to be loaded via this mode unless they are explicitly allowlisted by the user via `torch.serialization.add_safe_globals`. We recommend you start setting `weights_only=True` for any use case where you don't have full control of the loaded file. Please open an issue on GitHub for any issues related to this experimental feature.\n",
      "  0%|\u001b[34m          \u001b[0m| 0/10 [00:00<?, ?it/s]\n"
     ]
    },
    {
     "name": "stdout",
     "output_type": "stream",
     "text": [
      "\u001b[36m(DefaultActor pid=52436)\u001b[0m \tTrain Epoch: 1 \tTrain_loss_mri: 1.0932 | Train_acc_mri: 50.1273 | Train_loss_dna: 1.3097 | Train_acc_dna: 51.2384 | Validation_loss_mri: 1.1098 | Validation_acc_mri: 49.4792 | Validation_loss_dna: 1.3514 | Validation_acc_dna: 40.1042\n"
     ]
    },
    {
     "name": "stderr",
     "output_type": "stream",
     "text": [
      " 10%|\u001b[34m█         \u001b[0m| 1/10 [00:01<00:11,  1.28s/it]\n"
     ]
    },
    {
     "name": "stdout",
     "output_type": "stream",
     "text": [
      "\u001b[36m(DefaultActor pid=52436)\u001b[0m \tTrain Epoch: 2 \tTrain_loss_mri: 0.5976 | Train_acc_mri: 77.7199 | Train_loss_dna: 1.0038 | Train_acc_dna: 60.1852 | Validation_loss_mri: 1.0548 | Validation_acc_mri: 54.1667 | Validation_loss_dna: 1.6015 | Validation_acc_dna: 50.5208\n"
     ]
    },
    {
     "name": "stderr",
     "output_type": "stream",
     "text": [
      " 20%|\u001b[34m██        \u001b[0m| 2/10 [00:02<00:10,  1.34s/it]\n"
     ]
    },
    {
     "name": "stdout",
     "output_type": "stream",
     "text": [
      "\u001b[36m(DefaultActor pid=52436)\u001b[0m \tTrain Epoch: 3 \tTrain_loss_mri: 0.4132 | Train_acc_mri: 85.3356 | Train_loss_dna: 0.7394 | Train_acc_dna: 71.6435 | Validation_loss_mri: 1.1224 | Validation_acc_mri: 47.9167 | Validation_loss_dna: 1.4350 | Validation_acc_dna: 40.1042\n"
     ]
    },
    {
     "name": "stderr",
     "output_type": "stream",
     "text": [
      " 30%|\u001b[34m███       \u001b[0m| 3/10 [00:03<00:09,  1.32s/it]\n"
     ]
    },
    {
     "name": "stdout",
     "output_type": "stream",
     "text": [
      "\u001b[36m(DefaultActor pid=52436)\u001b[0m \tTrain Epoch: 4 \tTrain_loss_mri: 0.2550 | Train_acc_mri: 93.9468 | Train_loss_dna: 0.5228 | Train_acc_dna: 83.7731 | Validation_loss_mri: 1.6167 | Validation_acc_mri: 52.6042 | Validation_loss_dna: 1.8777 | Validation_acc_dna: 33.8542\n"
     ]
    },
    {
     "name": "stderr",
     "output_type": "stream",
     "text": [
      " 40%|\u001b[34m████      \u001b[0m| 4/10 [00:05<00:08,  1.37s/it]\n"
     ]
    },
    {
     "name": "stdout",
     "output_type": "stream",
     "text": [
      "\u001b[36m(DefaultActor pid=52436)\u001b[0m \tTrain Epoch: 5 \tTrain_loss_mri: 0.1588 | Train_acc_mri: 95.5671 | Train_loss_dna: 0.3389 | Train_acc_dna: 89.8264 | Validation_loss_mri: 1.9801 | Validation_acc_mri: 51.0417 | Validation_loss_dna: 2.7888 | Validation_acc_dna: 32.2917\n"
     ]
    },
    {
     "name": "stderr",
     "output_type": "stream",
     "text": [
      " 50%|\u001b[34m█████     \u001b[0m| 5/10 [00:06<00:06,  1.35s/it]\n"
     ]
    },
    {
     "name": "stdout",
     "output_type": "stream",
     "text": [
      "\u001b[36m(DefaultActor pid=52436)\u001b[0m \tTrain Epoch: 6 \tTrain_loss_mri: 0.0853 | Train_acc_mri: 96.8171 | Train_loss_dna: 0.2700 | Train_acc_dna: 94.5139 | Validation_loss_mri: 2.7803 | Validation_acc_mri: 41.6667 | Validation_loss_dna: 2.7001 | Validation_acc_dna: 36.9792\n"
     ]
    },
    {
     "name": "stderr",
     "output_type": "stream",
     "text": [
      " 60%|\u001b[34m██████    \u001b[0m| 6/10 [00:08<00:05,  1.36s/it]\n"
     ]
    },
    {
     "name": "stdout",
     "output_type": "stream",
     "text": [
      "\u001b[36m(DefaultActor pid=52436)\u001b[0m \tTrain Epoch: 7 \tTrain_loss_mri: 0.3601 | Train_acc_mri: 86.0417 | Train_loss_dna: 0.3424 | Train_acc_dna: 88.8310 | Validation_loss_mri: 2.2014 | Validation_acc_mri: 46.3542 | Validation_loss_dna: 1.7868 | Validation_acc_dna: 35.4167\n"
     ]
    },
    {
     "name": "stderr",
     "output_type": "stream",
     "text": [
      " 70%|\u001b[34m███████   \u001b[0m| 7/10 [00:09<00:04,  1.34s/it]\n"
     ]
    },
    {
     "name": "stdout",
     "output_type": "stream",
     "text": [
      "\u001b[36m(DefaultActor pid=52436)\u001b[0m \tTrain Epoch: 8 \tTrain_loss_mri: 0.2508 | Train_acc_mri: 92.1296 | Train_loss_dna: 0.3330 | Train_acc_dna: 92.0718 | Validation_loss_mri: 2.0630 | Validation_acc_mri: 47.9167 | Validation_loss_dna: 2.5378 | Validation_acc_dna: 38.5417\n"
     ]
    },
    {
     "name": "stderr",
     "output_type": "stream",
     "text": [
      " 80%|\u001b[34m████████  \u001b[0m| 8/10 [00:10<00:02,  1.35s/it]\n"
     ]
    },
    {
     "name": "stdout",
     "output_type": "stream",
     "text": [
      "\u001b[36m(DefaultActor pid=52436)\u001b[0m \tTrain Epoch: 9 \tTrain_loss_mri: 0.1021 | Train_acc_mri: 96.8171 | Train_loss_dna: 0.1914 | Train_acc_dna: 96.8750 | Validation_loss_mri: 2.2113 | Validation_acc_mri: 49.4792 | Validation_loss_dna: 2.8624 | Validation_acc_dna: 30.7292\n"
     ]
    },
    {
     "name": "stderr",
     "output_type": "stream",
     "text": [
      " 90%|\u001b[34m█████████ \u001b[0m| 9/10 [00:12<00:01,  1.35s/it]\n"
     ]
    },
    {
     "name": "stdout",
     "output_type": "stream",
     "text": [
      "\u001b[36m(DefaultActor pid=52436)\u001b[0m \tTrain Epoch: 10 \tTrain_loss_mri: 0.0321 | Train_acc_mri: 99.3750 | Train_loss_dna: 0.1003 | Train_acc_dna: 98.0093 | Validation_loss_mri: 2.2832 | Validation_acc_mri: 49.4792 | Validation_loss_dna: 3.0714 | Validation_acc_dna: 36.9792\n",
      "\u001b[36m(DefaultActor pid=52436)\u001b[0m save graph in  results/FL_DNA+MRI/\n"
     ]
    },
    {
     "name": "stderr",
     "output_type": "stream",
     "text": [
      "100%|\u001b[34m██████████\u001b[0m| 10/10 [00:13<00:00,  1.35s/it]\n"
     ]
    },
    {
     "name": "stdout",
     "output_type": "stream",
     "text": [
      "\u001b[36m(DefaultActor pid=52436)\u001b[0m  To get the checkpoint\n",
      "\u001b[36m(DefaultActor pid=52436)\u001b[0m [Client 7, round 2] fit, config: {'learning_rate': 0.003, 'batch_size': '32', 'server_round': 2, 'local_epochs': 10}\n",
      "\u001b[36m(DefaultActor pid=52436)\u001b[0m Updated model\n"
     ]
    },
    {
     "name": "stderr",
     "output_type": "stream",
     "text": [
      "\u001b[36m(DefaultActor pid=52436)\u001b[0m /tmp/ipykernel_51903/752934157.py:10: FutureWarning: You are using `torch.load` with `weights_only=False` (the current default value), which uses the default pickle module implicitly. It is possible to construct malicious pickle data which will execute arbitrary code during unpickling (See https://github.com/pytorch/pytorch/blob/main/SECURITY.md#untrusted-models for more details). In a future release, the default value for `weights_only` will be flipped to `True`. This limits the functions that could be executed during unpickling. Arbitrary objects will no longer be allowed to be loaded via this mode unless they are explicitly allowlisted by the user via `torch.serialization.add_safe_globals`. We recommend you start setting `weights_only=True` for any use case where you don't have full control of the loaded file. Please open an issue on GitHub for any issues related to this experimental feature.\n",
      "  0%|\u001b[34m          \u001b[0m| 0/10 [00:00<?, ?it/s]\n"
     ]
    },
    {
     "name": "stdout",
     "output_type": "stream",
     "text": [
      "\u001b[36m(DefaultActor pid=52436)\u001b[0m \tTrain Epoch: 1 \tTrain_loss_mri: 1.0994 | Train_acc_mri: 52.1759 | Train_loss_dna: 1.3801 | Train_acc_dna: 52.7431 | Validation_loss_mri: 0.9976 | Validation_acc_mri: 47.9167 | Validation_loss_dna: 1.2802 | Validation_acc_dna: 43.2292\n"
     ]
    },
    {
     "name": "stderr",
     "output_type": "stream",
     "text": [
      " 10%|\u001b[34m█         \u001b[0m| 1/10 [00:01<00:11,  1.24s/it]\n"
     ]
    },
    {
     "name": "stdout",
     "output_type": "stream",
     "text": [
      "\u001b[36m(DefaultActor pid=52436)\u001b[0m \tTrain Epoch: 2 \tTrain_loss_mri: 0.6195 | Train_acc_mri: 75.7292 | Train_loss_dna: 1.0822 | Train_acc_dna: 56.8056 | Validation_loss_mri: 0.6769 | Validation_acc_mri: 82.8125 | Validation_loss_dna: 1.3084 | Validation_acc_dna: 43.2292\n"
     ]
    },
    {
     "name": "stderr",
     "output_type": "stream",
     "text": [
      " 20%|\u001b[34m██        \u001b[0m| 2/10 [00:02<00:09,  1.24s/it]\n"
     ]
    },
    {
     "name": "stdout",
     "output_type": "stream",
     "text": [
      "\u001b[36m(DefaultActor pid=52436)\u001b[0m \tTrain Epoch: 3 \tTrain_loss_mri: 0.4252 | Train_acc_mri: 83.0903 | Train_loss_dna: 0.7779 | Train_acc_dna: 72.2106 | Validation_loss_mri: 0.6749 | Validation_acc_mri: 79.6875 | Validation_loss_dna: 1.1675 | Validation_acc_dna: 52.6042\n"
     ]
    },
    {
     "name": "stderr",
     "output_type": "stream",
     "text": [
      " 30%|\u001b[34m███       \u001b[0m| 3/10 [00:03<00:08,  1.26s/it]\n"
     ]
    },
    {
     "name": "stdout",
     "output_type": "stream",
     "text": [
      "\u001b[36m(DefaultActor pid=52436)\u001b[0m \tTrain Epoch: 4 \tTrain_loss_mri: 0.3168 | Train_acc_mri: 86.5278 | Train_loss_dna: 0.5910 | Train_acc_dna: 80.5324 | Validation_loss_mri: 0.5295 | Validation_acc_mri: 85.9375 | Validation_loss_dna: 1.0785 | Validation_acc_dna: 63.0208\n"
     ]
    },
    {
     "name": "stderr",
     "output_type": "stream",
     "text": [
      " 40%|\u001b[34m████      \u001b[0m| 4/10 [00:04<00:07,  1.24s/it]\n"
     ]
    },
    {
     "name": "stdout",
     "output_type": "stream",
     "text": [
      "\u001b[36m(DefaultActor pid=52436)\u001b[0m \tTrain Epoch: 5 \tTrain_loss_mri: 0.1644 | Train_acc_mri: 94.5718 | Train_loss_dna: 0.4136 | Train_acc_dna: 85.7060 | Validation_loss_mri: 0.5346 | Validation_acc_mri: 85.9375 | Validation_loss_dna: 1.9328 | Validation_acc_dna: 44.7917\n"
     ]
    },
    {
     "name": "stderr",
     "output_type": "stream",
     "text": [
      " 50%|\u001b[34m█████     \u001b[0m| 5/10 [00:06<00:06,  1.25s/it]\n"
     ]
    },
    {
     "name": "stdout",
     "output_type": "stream",
     "text": [
      "\u001b[36m(DefaultActor pid=52436)\u001b[0m \tTrain Epoch: 6 \tTrain_loss_mri: 0.1732 | Train_acc_mri: 94.9421 | Train_loss_dna: 0.4331 | Train_acc_dna: 89.5718 | Validation_loss_mri: 0.8327 | Validation_acc_mri: 64.5833 | Validation_loss_dna: 1.2558 | Validation_acc_dna: 63.0208\n"
     ]
    },
    {
     "name": "stderr",
     "output_type": "stream",
     "text": [
      " 60%|\u001b[34m██████    \u001b[0m| 6/10 [00:07<00:05,  1.25s/it]\n"
     ]
    },
    {
     "name": "stdout",
     "output_type": "stream",
     "text": [
      "\u001b[36m(DefaultActor pid=52436)\u001b[0m \tTrain Epoch: 7 \tTrain_loss_mri: 0.1224 | Train_acc_mri: 97.1296 | Train_loss_dna: 0.2898 | Train_acc_dna: 92.0139 | Validation_loss_mri: 0.5002 | Validation_acc_mri: 84.3750 | Validation_loss_dna: 1.7659 | Validation_acc_dna: 51.0417\n"
     ]
    },
    {
     "name": "stderr",
     "output_type": "stream",
     "text": [
      " 70%|\u001b[34m███████   \u001b[0m| 7/10 [00:08<00:03,  1.25s/it]\n"
     ]
    },
    {
     "name": "stdout",
     "output_type": "stream",
     "text": [
      "\u001b[36m(DefaultActor pid=52436)\u001b[0m \tTrain Epoch: 8 \tTrain_loss_mri: 0.0879 | Train_acc_mri: 97.1875 | Train_loss_dna: 0.1829 | Train_acc_dna: 95.5093 | Validation_loss_mri: 0.6866 | Validation_acc_mri: 63.0208 | Validation_loss_dna: 1.3307 | Validation_acc_dna: 47.9167\n"
     ]
    },
    {
     "name": "stderr",
     "output_type": "stream",
     "text": [
      " 80%|\u001b[34m████████  \u001b[0m| 8/10 [00:09<00:02,  1.25s/it]\n"
     ]
    },
    {
     "name": "stdout",
     "output_type": "stream",
     "text": [
      "\u001b[36m(DefaultActor pid=52436)\u001b[0m \tTrain Epoch: 9 \tTrain_loss_mri: 0.0422 | Train_acc_mri: 99.0625 | Train_loss_dna: 0.1262 | Train_acc_dna: 97.1296 | Validation_loss_mri: 0.8021 | Validation_acc_mri: 82.8125 | Validation_loss_dna: 1.6461 | Validation_acc_dna: 59.8958\n"
     ]
    },
    {
     "name": "stderr",
     "output_type": "stream",
     "text": [
      " 90%|\u001b[34m█████████ \u001b[0m| 9/10 [00:11<00:01,  1.24s/it]\n"
     ]
    },
    {
     "name": "stdout",
     "output_type": "stream",
     "text": [
      "\u001b[36m(DefaultActor pid=52436)\u001b[0m \tTrain Epoch: 10 \tTrain_loss_mri: 0.0299 | Train_acc_mri: 99.3750 | Train_loss_dna: 0.0865 | Train_acc_dna: 97.7546 | Validation_loss_mri: 0.6525 | Validation_acc_mri: 81.2500 | Validation_loss_dna: 1.2743 | Validation_acc_dna: 64.5833\n",
      "\u001b[36m(DefaultActor pid=52436)\u001b[0m save graph in  results/FL_DNA+MRI/\n"
     ]
    },
    {
     "name": "stderr",
     "output_type": "stream",
     "text": [
      "100%|\u001b[34m██████████\u001b[0m| 10/10 [00:12<00:00,  1.24s/it]\n"
     ]
    },
    {
     "name": "stdout",
     "output_type": "stream",
     "text": [
      "\u001b[36m(DefaultActor pid=52436)\u001b[0m  To get the checkpoint\n"
     ]
    },
    {
     "name": "stderr",
     "output_type": "stream",
     "text": [
      "\u001b[36m(DefaultActor pid=52436)\u001b[0m /tmp/ipykernel_51903/752934157.py:10: FutureWarning: You are using `torch.load` with `weights_only=False` (the current default value), which uses the default pickle module implicitly. It is possible to construct malicious pickle data which will execute arbitrary code during unpickling (See https://github.com/pytorch/pytorch/blob/main/SECURITY.md#untrusted-models for more details). In a future release, the default value for `weights_only` will be flipped to `True`. This limits the functions that could be executed during unpickling. Arbitrary objects will no longer be allowed to be loaded via this mode unless they are explicitly allowlisted by the user via `torch.serialization.add_safe_globals`. We recommend you start setting `weights_only=True` for any use case where you don't have full control of the loaded file. Please open an issue on GitHub for any issues related to this experimental feature.\n"
     ]
    },
    {
     "name": "stdout",
     "output_type": "stream",
     "text": [
      "\u001b[36m(DefaultActor pid=52436)\u001b[0m [Client 9, round 2] fit, config: {'learning_rate': 0.003, 'batch_size': '32', 'server_round': 2, 'local_epochs': 10}\n",
      "\u001b[36m(DefaultActor pid=52436)\u001b[0m Updated model\n"
     ]
    },
    {
     "name": "stderr",
     "output_type": "stream",
     "text": [
      "  0%|\u001b[34m          \u001b[0m| 0/10 [00:00<?, ?it/s]\n"
     ]
    },
    {
     "name": "stdout",
     "output_type": "stream",
     "text": [
      "\u001b[36m(DefaultActor pid=52436)\u001b[0m \tTrain Epoch: 1 \tTrain_loss_mri: 1.0711 | Train_acc_mri: 52.9940 | Train_loss_dna: 1.3607 | Train_acc_dna: 54.5766 | Validation_loss_mri: 0.9147 | Validation_acc_mri: 44.7917 | Validation_loss_dna: 1.2810 | Validation_acc_dna: 41.6667\n"
     ]
    },
    {
     "name": "stderr",
     "output_type": "stream",
     "text": [
      " 10%|\u001b[34m█         \u001b[0m| 1/10 [00:01<00:11,  1.29s/it]\n"
     ]
    },
    {
     "name": "stdout",
     "output_type": "stream",
     "text": [
      "\u001b[36m(DefaultActor pid=52436)\u001b[0m \tTrain Epoch: 2 \tTrain_loss_mri: 0.6250 | Train_acc_mri: 76.4718 | Train_loss_dna: 1.0524 | Train_acc_dna: 56.1794 | Validation_loss_mri: 0.9178 | Validation_acc_mri: 46.3542 | Validation_loss_dna: 1.1738 | Validation_acc_dna: 61.4583\n"
     ]
    },
    {
     "name": "stderr",
     "output_type": "stream",
     "text": [
      " 20%|\u001b[34m██        \u001b[0m| 2/10 [00:02<00:10,  1.32s/it]\n"
     ]
    },
    {
     "name": "stdout",
     "output_type": "stream",
     "text": [
      "\u001b[36m(DefaultActor pid=52436)\u001b[0m \tTrain Epoch: 3 \tTrain_loss_mri: 0.4746 | Train_acc_mri: 79.3145 | Train_loss_dna: 0.7634 | Train_acc_dna: 69.2641 | Validation_loss_mri: 0.9185 | Validation_acc_mri: 67.7083 | Validation_loss_dna: 1.2301 | Validation_acc_dna: 73.4375\n"
     ]
    },
    {
     "name": "stderr",
     "output_type": "stream",
     "text": [
      " 30%|\u001b[34m███       \u001b[0m| 3/10 [00:03<00:09,  1.32s/it]\n"
     ]
    },
    {
     "name": "stdout",
     "output_type": "stream",
     "text": [
      "\u001b[36m(DefaultActor pid=52436)\u001b[0m \tTrain Epoch: 4 \tTrain_loss_mri: 0.2381 | Train_acc_mri: 91.8548 | Train_loss_dna: 0.6249 | Train_acc_dna: 80.5847 | Validation_loss_mri: 1.1700 | Validation_acc_mri: 70.8333 | Validation_loss_dna: 1.1074 | Validation_acc_dna: 61.4583\n"
     ]
    },
    {
     "name": "stderr",
     "output_type": "stream",
     "text": [
      " 40%|\u001b[34m████      \u001b[0m| 4/10 [00:05<00:07,  1.32s/it]\n"
     ]
    },
    {
     "name": "stdout",
     "output_type": "stream",
     "text": [
      "\u001b[36m(DefaultActor pid=52436)\u001b[0m \tTrain Epoch: 5 \tTrain_loss_mri: 0.1988 | Train_acc_mri: 93.4073 | Train_loss_dna: 0.4419 | Train_acc_dna: 85.8972 | Validation_loss_mri: 1.2857 | Validation_acc_mri: 72.3958 | Validation_loss_dna: 1.4581 | Validation_acc_dna: 33.8542\n"
     ]
    },
    {
     "name": "stderr",
     "output_type": "stream",
     "text": [
      " 50%|\u001b[34m█████     \u001b[0m| 5/10 [00:06<00:06,  1.30s/it]\n"
     ]
    },
    {
     "name": "stdout",
     "output_type": "stream",
     "text": [
      "\u001b[36m(DefaultActor pid=52436)\u001b[0m \tTrain Epoch: 6 \tTrain_loss_mri: 0.1111 | Train_acc_mri: 96.8649 | Train_loss_dna: 0.3494 | Train_acc_dna: 92.4798 | Validation_loss_mri: 2.4922 | Validation_acc_mri: 69.2708 | Validation_loss_dna: 1.2208 | Validation_acc_dna: 55.2083\n"
     ]
    },
    {
     "name": "stderr",
     "output_type": "stream",
     "text": [
      " 60%|\u001b[34m██████    \u001b[0m| 6/10 [00:07<00:05,  1.31s/it]\n"
     ]
    },
    {
     "name": "stdout",
     "output_type": "stream",
     "text": [
      "\u001b[36m(DefaultActor pid=52436)\u001b[0m \tTrain Epoch: 7 \tTrain_loss_mri: 0.1018 | Train_acc_mri: 97.4899 | Train_loss_dna: 0.2833 | Train_acc_dna: 92.8024 | Validation_loss_mri: 2.1969 | Validation_acc_mri: 69.2708 | Validation_loss_dna: 1.1857 | Validation_acc_dna: 41.6667\n"
     ]
    },
    {
     "name": "stderr",
     "output_type": "stream",
     "text": [
      " 70%|\u001b[34m███████   \u001b[0m| 7/10 [00:09<00:03,  1.31s/it]\n"
     ]
    },
    {
     "name": "stdout",
     "output_type": "stream",
     "text": [
      "\u001b[36m(DefaultActor pid=52436)\u001b[0m \tTrain Epoch: 8 \tTrain_loss_mri: 0.0756 | Train_acc_mri: 96.8750 | Train_loss_dna: 0.1642 | Train_acc_dna: 95.2923 | Validation_loss_mri: 2.6697 | Validation_acc_mri: 67.7083 | Validation_loss_dna: 1.6597 | Validation_acc_dna: 68.7500\n"
     ]
    },
    {
     "name": "stderr",
     "output_type": "stream",
     "text": [
      " 80%|\u001b[34m████████  \u001b[0m| 8/10 [00:10<00:02,  1.32s/it]\n"
     ]
    },
    {
     "name": "stdout",
     "output_type": "stream",
     "text": [
      "\u001b[36m(DefaultActor pid=52436)\u001b[0m \tTrain Epoch: 9 \tTrain_loss_mri: 0.0515 | Train_acc_mri: 98.4375 | Train_loss_dna: 0.1434 | Train_acc_dna: 96.2298 | Validation_loss_mri: 2.5229 | Validation_acc_mri: 72.3958 | Validation_loss_dna: 1.4840 | Validation_acc_dna: 41.6667\n"
     ]
    },
    {
     "name": "stderr",
     "output_type": "stream",
     "text": [
      " 90%|\u001b[34m█████████ \u001b[0m| 9/10 [00:11<00:01,  1.31s/it]\n"
     ]
    },
    {
     "name": "stdout",
     "output_type": "stream",
     "text": [
      "\u001b[36m(DefaultActor pid=52436)\u001b[0m \tTrain Epoch: 10 \tTrain_loss_mri: 0.0635 | Train_acc_mri: 98.7399 | Train_loss_dna: 0.1602 | Train_acc_dna: 95.9375 | Validation_loss_mri: 1.9417 | Validation_acc_mri: 72.3958 | Validation_loss_dna: 1.2078 | Validation_acc_dna: 71.8750\n",
      "\u001b[36m(DefaultActor pid=52436)\u001b[0m save graph in  results/FL_DNA+MRI/\n"
     ]
    },
    {
     "name": "stderr",
     "output_type": "stream",
     "text": [
      "100%|\u001b[34m██████████\u001b[0m| 10/10 [00:13<00:00,  1.30s/it]\n"
     ]
    },
    {
     "name": "stdout",
     "output_type": "stream",
     "text": [
      "\u001b[36m(DefaultActor pid=52436)\u001b[0m  To get the checkpoint\n",
      "\u001b[36m(DefaultActor pid=52436)\u001b[0m [Client 1, round 2] fit, config: {'learning_rate': 0.003, 'batch_size': '32', 'server_round': 2, 'local_epochs': 10}\n",
      "\u001b[36m(DefaultActor pid=52436)\u001b[0m Updated model\n"
     ]
    },
    {
     "name": "stderr",
     "output_type": "stream",
     "text": [
      "\u001b[36m(DefaultActor pid=52436)\u001b[0m /tmp/ipykernel_51903/752934157.py:10: FutureWarning: You are using `torch.load` with `weights_only=False` (the current default value), which uses the default pickle module implicitly. It is possible to construct malicious pickle data which will execute arbitrary code during unpickling (See https://github.com/pytorch/pytorch/blob/main/SECURITY.md#untrusted-models for more details). In a future release, the default value for `weights_only` will be flipped to `True`. This limits the functions that could be executed during unpickling. Arbitrary objects will no longer be allowed to be loaded via this mode unless they are explicitly allowlisted by the user via `torch.serialization.add_safe_globals`. We recommend you start setting `weights_only=True` for any use case where you don't have full control of the loaded file. Please open an issue on GitHub for any issues related to this experimental feature.\n",
      "  0%|\u001b[34m          \u001b[0m| 0/10 [00:00<?, ?it/s]\n"
     ]
    },
    {
     "name": "stdout",
     "output_type": "stream",
     "text": [
      "\u001b[36m(DefaultActor pid=52436)\u001b[0m \tTrain Epoch: 1 \tTrain_loss_mri: 1.1001 | Train_acc_mri: 56.4352 | Train_loss_dna: 1.3836 | Train_acc_dna: 50.4398 | Validation_loss_mri: 0.7634 | Validation_acc_mri: 67.7083 | Validation_loss_dna: 1.5575 | Validation_acc_dna: 44.7917\n"
     ]
    },
    {
     "name": "stderr",
     "output_type": "stream",
     "text": [
      " 10%|\u001b[34m█         \u001b[0m| 1/10 [00:01<00:12,  1.38s/it]\n"
     ]
    },
    {
     "name": "stdout",
     "output_type": "stream",
     "text": [
      "\u001b[36m(DefaultActor pid=52436)\u001b[0m \tTrain Epoch: 2 \tTrain_loss_mri: 0.7152 | Train_acc_mri: 75.0810 | Train_loss_dna: 1.1424 | Train_acc_dna: 56.1227 | Validation_loss_mri: 0.4729 | Validation_acc_mri: 89.0625 | Validation_loss_dna: 2.0070 | Validation_acc_dna: 40.1042\n"
     ]
    },
    {
     "name": "stderr",
     "output_type": "stream",
     "text": [
      " 20%|\u001b[34m██        \u001b[0m| 2/10 [00:02<00:10,  1.34s/it]\n"
     ]
    },
    {
     "name": "stdout",
     "output_type": "stream",
     "text": [
      "\u001b[36m(DefaultActor pid=52436)\u001b[0m \tTrain Epoch: 3 \tTrain_loss_mri: 0.4574 | Train_acc_mri: 84.1435 | Train_loss_dna: 0.8705 | Train_acc_dna: 66.6435 | Validation_loss_mri: 0.4707 | Validation_acc_mri: 87.5000 | Validation_loss_dna: 1.7000 | Validation_acc_dna: 38.5417\n"
     ]
    },
    {
     "name": "stderr",
     "output_type": "stream",
     "text": [
      " 30%|\u001b[34m███       \u001b[0m| 3/10 [00:04<00:09,  1.36s/it]\n"
     ]
    },
    {
     "name": "stdout",
     "output_type": "stream",
     "text": [
      "\u001b[36m(DefaultActor pid=52436)\u001b[0m \tTrain Epoch: 4 \tTrain_loss_mri: 0.2947 | Train_acc_mri: 90.6250 | Train_loss_dna: 0.5690 | Train_acc_dna: 77.5231 | Validation_loss_mri: 0.7510 | Validation_acc_mri: 67.7083 | Validation_loss_dna: 2.0953 | Validation_acc_dna: 41.6667\n"
     ]
    },
    {
     "name": "stderr",
     "output_type": "stream",
     "text": [
      " 40%|\u001b[34m████      \u001b[0m| 4/10 [00:05<00:07,  1.33s/it]\n"
     ]
    },
    {
     "name": "stdout",
     "output_type": "stream",
     "text": [
      "\u001b[36m(DefaultActor pid=52436)\u001b[0m \tTrain Epoch: 5 \tTrain_loss_mri: 0.1571 | Train_acc_mri: 94.8843 | Train_loss_dna: 0.4812 | Train_acc_dna: 85.5903 | Validation_loss_mri: 0.7056 | Validation_acc_mri: 84.3750 | Validation_loss_dna: 2.3300 | Validation_acc_dna: 44.7917\n"
     ]
    },
    {
     "name": "stderr",
     "output_type": "stream",
     "text": [
      " 50%|\u001b[34m█████     \u001b[0m| 5/10 [00:06<00:06,  1.32s/it]\n"
     ]
    },
    {
     "name": "stdout",
     "output_type": "stream",
     "text": [
      "\u001b[36m(DefaultActor pid=52436)\u001b[0m \tTrain Epoch: 6 \tTrain_loss_mri: 0.1319 | Train_acc_mri: 95.9375 | Train_loss_dna: 0.3680 | Train_acc_dna: 88.6343 | Validation_loss_mri: 0.7506 | Validation_acc_mri: 67.7083 | Validation_loss_dna: 2.1395 | Validation_acc_dna: 55.2083\n"
     ]
    },
    {
     "name": "stderr",
     "output_type": "stream",
     "text": [
      " 60%|\u001b[34m██████    \u001b[0m| 6/10 [00:07<00:05,  1.30s/it]\n"
     ]
    },
    {
     "name": "stdout",
     "output_type": "stream",
     "text": [
      "\u001b[36m(DefaultActor pid=52436)\u001b[0m \tTrain Epoch: 7 \tTrain_loss_mri: 0.0743 | Train_acc_mri: 97.7546 | Train_loss_dna: 0.2856 | Train_acc_dna: 94.0046 | Validation_loss_mri: 1.5028 | Validation_acc_mri: 70.8333 | Validation_loss_dna: 3.7374 | Validation_acc_dna: 40.1042\n"
     ]
    },
    {
     "name": "stderr",
     "output_type": "stream",
     "text": [
      " 70%|\u001b[34m███████   \u001b[0m| 7/10 [00:09<00:03,  1.32s/it]\n"
     ]
    },
    {
     "name": "stdout",
     "output_type": "stream",
     "text": [
      "\u001b[36m(DefaultActor pid=52436)\u001b[0m \tTrain Epoch: 8 \tTrain_loss_mri: 0.1067 | Train_acc_mri: 97.7546 | Train_loss_dna: 0.2124 | Train_acc_dna: 93.8889 | Validation_loss_mri: 0.6814 | Validation_acc_mri: 87.5000 | Validation_loss_dna: 2.1929 | Validation_acc_dna: 40.1042\n"
     ]
    },
    {
     "name": "stderr",
     "output_type": "stream",
     "text": [
      " 80%|\u001b[34m████████  \u001b[0m| 8/10 [00:10<00:02,  1.31s/it]\n"
     ]
    },
    {
     "name": "stdout",
     "output_type": "stream",
     "text": [
      "\u001b[36m(DefaultActor pid=52436)\u001b[0m \tTrain Epoch: 9 \tTrain_loss_mri: 0.0751 | Train_acc_mri: 96.8171 | Train_loss_dna: 0.1306 | Train_acc_dna: 97.8125 | Validation_loss_mri: 0.6847 | Validation_acc_mri: 87.5000 | Validation_loss_dna: 3.2997 | Validation_acc_dna: 38.5417\n"
     ]
    },
    {
     "name": "stderr",
     "output_type": "stream",
     "text": [
      " 90%|\u001b[34m█████████ \u001b[0m| 9/10 [00:11<00:01,  1.35s/it]\n"
     ]
    },
    {
     "name": "stdout",
     "output_type": "stream",
     "text": [
      "\u001b[36m(DefaultActor pid=52436)\u001b[0m \tTrain Epoch: 10 \tTrain_loss_mri: 0.0257 | Train_acc_mri: 99.0625 | Train_loss_dna: 0.1149 | Train_acc_dna: 97.1875 | Validation_loss_mri: 0.9760 | Validation_acc_mri: 89.0625 | Validation_loss_dna: 3.9799 | Validation_acc_dna: 38.5417\n",
      "\u001b[36m(DefaultActor pid=52436)\u001b[0m save graph in  results/FL_DNA+MRI/\n"
     ]
    },
    {
     "name": "stderr",
     "output_type": "stream",
     "text": [
      "100%|\u001b[34m██████████\u001b[0m| 10/10 [00:13<00:00,  1.33s/it]\n",
      "DEBUG flwr 2024-10-06 21:24:34,898 | server.py:236 | fit_round 2 received 10 results and 0 failures\n"
     ]
    },
    {
     "name": "stdout",
     "output_type": "stream",
     "text": [
      "Saving round 2 aggregated_parameters...\n",
      "Updated model\n"
     ]
    },
    {
     "name": "stderr",
     "output_type": "stream",
     "text": [
      "INFO flwr 2024-10-06 21:24:50,453 | server.py:125 | fit progress: (2, (1.0438434417758669, 1.0724009765045983), {'accuracy': (72.02380952380952, 58.51934523809524)}, 523.388187412871)\n",
      "DEBUG flwr 2024-10-06 21:24:50,455 | server.py:173 | evaluate_round 2: strategy sampled 10 clients (out of 10)\n"
     ]
    },
    {
     "name": "stdout",
     "output_type": "stream",
     "text": [
      "Server-side evaluation MRI loss 1.0438434417758669 / MRI accuracy 72.02380952380952\n",
      "Server-side evaluation DNA loss 1.0724009765045983 / DNA accuracy 58.51934523809524\n",
      "\u001b[36m(DefaultActor pid=52436)\u001b[0m  To get the checkpoint\n",
      "\u001b[36m(DefaultActor pid=52436)\u001b[0m [Client 3] evaluate, config: {}\n",
      "\u001b[36m(DefaultActor pid=52436)\u001b[0m Updated model\n"
     ]
    },
    {
     "name": "stderr",
     "output_type": "stream",
     "text": [
      "\u001b[36m(DefaultActor pid=52436)\u001b[0m /tmp/ipykernel_51903/752934157.py:10: FutureWarning: You are using `torch.load` with `weights_only=False` (the current default value), which uses the default pickle module implicitly. It is possible to construct malicious pickle data which will execute arbitrary code during unpickling (See https://github.com/pytorch/pytorch/blob/main/SECURITY.md#untrusted-models for more details). In a future release, the default value for `weights_only` will be flipped to `True`. This limits the functions that could be executed during unpickling. Arbitrary objects will no longer be allowed to be loaded via this mode unless they are explicitly allowlisted by the user via `torch.serialization.add_safe_globals`. We recommend you start setting `weights_only=True` for any use case where you don't have full control of the loaded file. Please open an issue on GitHub for any issues related to this experimental feature.\n",
      "\u001b[36m(DefaultActor pid=52436)\u001b[0m /home/cudaq/.local/lib/python3.10/site-packages/torch/storage.py:414: FutureWarning: You are using `torch.load` with `weights_only=False` (the current default value), which uses the default pickle module implicitly. It is possible to construct malicious pickle data which will execute arbitrary code during unpickling (See https://github.com/pytorch/pytorch/blob/main/SECURITY.md#untrusted-models for more details). In a future release, the default value for `weights_only` will be flipped to `True`. This limits the functions that could be executed during unpickling. Arbitrary objects will no longer be allowed to be loaded via this mode unless they are explicitly allowlisted by the user via `torch.serialization.add_safe_globals`. We recommend you start setting `weights_only=True` for any use case where you don't have full control of the loaded file. Please open an issue on GitHub for any issues related to this experimental feature.\n",
      "\u001b[36m(DefaultActor pid=52436)\u001b[0m   return torch.load(io.BytesIO(b))\n"
     ]
    },
    {
     "name": "stdout",
     "output_type": "stream",
     "text": [
      "\u001b[36m(DefaultActor pid=52436)\u001b[0m  To get the checkpoint\n",
      "\u001b[36m(DefaultActor pid=52436)\u001b[0m [Client 9] evaluate, config: {}\n"
     ]
    },
    {
     "name": "stderr",
     "output_type": "stream",
     "text": [
      "\u001b[36m(DefaultActor pid=52436)\u001b[0m /tmp/ipykernel_51903/752934157.py:10: FutureWarning: You are using `torch.load` with `weights_only=False` (the current default value), which uses the default pickle module implicitly. It is possible to construct malicious pickle data which will execute arbitrary code during unpickling (See https://github.com/pytorch/pytorch/blob/main/SECURITY.md#untrusted-models for more details). In a future release, the default value for `weights_only` will be flipped to `True`. This limits the functions that could be executed during unpickling. Arbitrary objects will no longer be allowed to be loaded via this mode unless they are explicitly allowlisted by the user via `torch.serialization.add_safe_globals`. We recommend you start setting `weights_only=True` for any use case where you don't have full control of the loaded file. Please open an issue on GitHub for any issues related to this experimental feature.\n"
     ]
    },
    {
     "name": "stdout",
     "output_type": "stream",
     "text": [
      "\u001b[36m(DefaultActor pid=52436)\u001b[0m Updated model\n"
     ]
    },
    {
     "name": "stderr",
     "output_type": "stream",
     "text": [
      "\u001b[36m(DefaultActor pid=52436)\u001b[0m /home/cudaq/.local/lib/python3.10/site-packages/sklearn/metrics/_ranking.py:1183: UndefinedMetricWarning: No positive samples in y_true, true positive value should be meaningless\n",
      "\u001b[36m(DefaultActor pid=52436)\u001b[0m   warnings.warn(\n",
      "\u001b[36m(DefaultActor pid=52436)\u001b[0m /home/cudaq/.local/lib/python3.10/site-packages/torch/storage.py:414: FutureWarning: You are using `torch.load` with `weights_only=False` (the current default value), which uses the default pickle module implicitly. It is possible to construct malicious pickle data which will execute arbitrary code during unpickling (See https://github.com/pytorch/pytorch/blob/main/SECURITY.md#untrusted-models for more details). In a future release, the default value for `weights_only` will be flipped to `True`. This limits the functions that could be executed during unpickling. Arbitrary objects will no longer be allowed to be loaded via this mode unless they are explicitly allowlisted by the user via `torch.serialization.add_safe_globals`. We recommend you start setting `weights_only=True` for any use case where you don't have full control of the loaded file. Please open an issue on GitHub for any issues related to this experimental feature.\n",
      "\u001b[36m(DefaultActor pid=52436)\u001b[0m   return torch.load(io.BytesIO(b))\n"
     ]
    },
    {
     "name": "stdout",
     "output_type": "stream",
     "text": [
      "\u001b[36m(DefaultActor pid=52436)\u001b[0m  To get the checkpoint\n",
      "\u001b[36m(DefaultActor pid=52436)\u001b[0m [Client 6] evaluate, config: {}\n",
      "\u001b[36m(DefaultActor pid=52436)\u001b[0m Updated model\n"
     ]
    },
    {
     "name": "stderr",
     "output_type": "stream",
     "text": [
      "\u001b[36m(DefaultActor pid=52436)\u001b[0m /tmp/ipykernel_51903/752934157.py:10: FutureWarning: You are using `torch.load` with `weights_only=False` (the current default value), which uses the default pickle module implicitly. It is possible to construct malicious pickle data which will execute arbitrary code during unpickling (See https://github.com/pytorch/pytorch/blob/main/SECURITY.md#untrusted-models for more details). In a future release, the default value for `weights_only` will be flipped to `True`. This limits the functions that could be executed during unpickling. Arbitrary objects will no longer be allowed to be loaded via this mode unless they are explicitly allowlisted by the user via `torch.serialization.add_safe_globals`. We recommend you start setting `weights_only=True` for any use case where you don't have full control of the loaded file. Please open an issue on GitHub for any issues related to this experimental feature.\n",
      "\u001b[36m(DefaultActor pid=52436)\u001b[0m /home/cudaq/.local/lib/python3.10/site-packages/torch/storage.py:414: FutureWarning: You are using `torch.load` with `weights_only=False` (the current default value), which uses the default pickle module implicitly. It is possible to construct malicious pickle data which will execute arbitrary code during unpickling (See https://github.com/pytorch/pytorch/blob/main/SECURITY.md#untrusted-models for more details). In a future release, the default value for `weights_only` will be flipped to `True`. This limits the functions that could be executed during unpickling. Arbitrary objects will no longer be allowed to be loaded via this mode unless they are explicitly allowlisted by the user via `torch.serialization.add_safe_globals`. We recommend you start setting `weights_only=True` for any use case where you don't have full control of the loaded file. Please open an issue on GitHub for any issues related to this experimental feature.\n",
      "\u001b[36m(DefaultActor pid=52436)\u001b[0m   return torch.load(io.BytesIO(b))\n"
     ]
    },
    {
     "name": "stdout",
     "output_type": "stream",
     "text": [
      "\u001b[36m(DefaultActor pid=52436)\u001b[0m  To get the checkpoint\n",
      "\u001b[36m(DefaultActor pid=52436)\u001b[0m [Client 8] evaluate, config: {}\n",
      "\u001b[36m(DefaultActor pid=52436)\u001b[0m Updated model\n"
     ]
    },
    {
     "name": "stderr",
     "output_type": "stream",
     "text": [
      "\u001b[36m(DefaultActor pid=52436)\u001b[0m /tmp/ipykernel_51903/752934157.py:10: FutureWarning: You are using `torch.load` with `weights_only=False` (the current default value), which uses the default pickle module implicitly. It is possible to construct malicious pickle data which will execute arbitrary code during unpickling (See https://github.com/pytorch/pytorch/blob/main/SECURITY.md#untrusted-models for more details). In a future release, the default value for `weights_only` will be flipped to `True`. This limits the functions that could be executed during unpickling. Arbitrary objects will no longer be allowed to be loaded via this mode unless they are explicitly allowlisted by the user via `torch.serialization.add_safe_globals`. We recommend you start setting `weights_only=True` for any use case where you don't have full control of the loaded file. Please open an issue on GitHub for any issues related to this experimental feature.\n",
      "\u001b[36m(DefaultActor pid=52436)\u001b[0m /home/cudaq/.local/lib/python3.10/site-packages/sklearn/metrics/_ranking.py:1183: UndefinedMetricWarning: No positive samples in y_true, true positive value should be meaningless\n",
      "\u001b[36m(DefaultActor pid=52436)\u001b[0m   warnings.warn(\n",
      "\u001b[36m(DefaultActor pid=52436)\u001b[0m /home/cudaq/.local/lib/python3.10/site-packages/torch/storage.py:414: FutureWarning: You are using `torch.load` with `weights_only=False` (the current default value), which uses the default pickle module implicitly. It is possible to construct malicious pickle data which will execute arbitrary code during unpickling (See https://github.com/pytorch/pytorch/blob/main/SECURITY.md#untrusted-models for more details). In a future release, the default value for `weights_only` will be flipped to `True`. This limits the functions that could be executed during unpickling. Arbitrary objects will no longer be allowed to be loaded via this mode unless they are explicitly allowlisted by the user via `torch.serialization.add_safe_globals`. We recommend you start setting `weights_only=True` for any use case where you don't have full control of the loaded file. Please open an issue on GitHub for any issues related to this experimental feature.\n",
      "\u001b[36m(DefaultActor pid=52436)\u001b[0m   return torch.load(io.BytesIO(b))\n"
     ]
    },
    {
     "name": "stdout",
     "output_type": "stream",
     "text": [
      "\u001b[36m(DefaultActor pid=52436)\u001b[0m  To get the checkpoint\n",
      "\u001b[36m(DefaultActor pid=52436)\u001b[0m [Client 0] evaluate, config: {}\n",
      "\u001b[36m(DefaultActor pid=52436)\u001b[0m Updated model\n"
     ]
    },
    {
     "name": "stderr",
     "output_type": "stream",
     "text": [
      "\u001b[36m(DefaultActor pid=52436)\u001b[0m /tmp/ipykernel_51903/752934157.py:10: FutureWarning: You are using `torch.load` with `weights_only=False` (the current default value), which uses the default pickle module implicitly. It is possible to construct malicious pickle data which will execute arbitrary code during unpickling (See https://github.com/pytorch/pytorch/blob/main/SECURITY.md#untrusted-models for more details). In a future release, the default value for `weights_only` will be flipped to `True`. This limits the functions that could be executed during unpickling. Arbitrary objects will no longer be allowed to be loaded via this mode unless they are explicitly allowlisted by the user via `torch.serialization.add_safe_globals`. We recommend you start setting `weights_only=True` for any use case where you don't have full control of the loaded file. Please open an issue on GitHub for any issues related to this experimental feature.\n",
      "\u001b[36m(DefaultActor pid=52436)\u001b[0m /home/cudaq/.local/lib/python3.10/site-packages/torch/storage.py:414: FutureWarning: You are using `torch.load` with `weights_only=False` (the current default value), which uses the default pickle module implicitly. It is possible to construct malicious pickle data which will execute arbitrary code during unpickling (See https://github.com/pytorch/pytorch/blob/main/SECURITY.md#untrusted-models for more details). In a future release, the default value for `weights_only` will be flipped to `True`. This limits the functions that could be executed during unpickling. Arbitrary objects will no longer be allowed to be loaded via this mode unless they are explicitly allowlisted by the user via `torch.serialization.add_safe_globals`. We recommend you start setting `weights_only=True` for any use case where you don't have full control of the loaded file. Please open an issue on GitHub for any issues related to this experimental feature.\n",
      "\u001b[36m(DefaultActor pid=52436)\u001b[0m   return torch.load(io.BytesIO(b))\n"
     ]
    },
    {
     "name": "stdout",
     "output_type": "stream",
     "text": [
      "\u001b[36m(DefaultActor pid=52436)\u001b[0m  To get the checkpoint\n",
      "\u001b[36m(DefaultActor pid=52436)\u001b[0m [Client 5] evaluate, config: {}\n",
      "\u001b[36m(DefaultActor pid=52436)\u001b[0m Updated model\n"
     ]
    },
    {
     "name": "stderr",
     "output_type": "stream",
     "text": [
      "\u001b[36m(DefaultActor pid=52436)\u001b[0m /tmp/ipykernel_51903/752934157.py:10: FutureWarning: You are using `torch.load` with `weights_only=False` (the current default value), which uses the default pickle module implicitly. It is possible to construct malicious pickle data which will execute arbitrary code during unpickling (See https://github.com/pytorch/pytorch/blob/main/SECURITY.md#untrusted-models for more details). In a future release, the default value for `weights_only` will be flipped to `True`. This limits the functions that could be executed during unpickling. Arbitrary objects will no longer be allowed to be loaded via this mode unless they are explicitly allowlisted by the user via `torch.serialization.add_safe_globals`. We recommend you start setting `weights_only=True` for any use case where you don't have full control of the loaded file. Please open an issue on GitHub for any issues related to this experimental feature.\n",
      "\u001b[36m(DefaultActor pid=52436)\u001b[0m /home/cudaq/.local/lib/python3.10/site-packages/torch/storage.py:414: FutureWarning: You are using `torch.load` with `weights_only=False` (the current default value), which uses the default pickle module implicitly. It is possible to construct malicious pickle data which will execute arbitrary code during unpickling (See https://github.com/pytorch/pytorch/blob/main/SECURITY.md#untrusted-models for more details). In a future release, the default value for `weights_only` will be flipped to `True`. This limits the functions that could be executed during unpickling. Arbitrary objects will no longer be allowed to be loaded via this mode unless they are explicitly allowlisted by the user via `torch.serialization.add_safe_globals`. We recommend you start setting `weights_only=True` for any use case where you don't have full control of the loaded file. Please open an issue on GitHub for any issues related to this experimental feature.\n",
      "\u001b[36m(DefaultActor pid=52436)\u001b[0m   return torch.load(io.BytesIO(b))\n"
     ]
    },
    {
     "name": "stdout",
     "output_type": "stream",
     "text": [
      "\u001b[36m(DefaultActor pid=52436)\u001b[0m  To get the checkpoint\n",
      "\u001b[36m(DefaultActor pid=52436)\u001b[0m [Client 4] evaluate, config: {}\n",
      "\u001b[36m(DefaultActor pid=52436)\u001b[0m Updated model\n"
     ]
    },
    {
     "name": "stderr",
     "output_type": "stream",
     "text": [
      "\u001b[36m(DefaultActor pid=52436)\u001b[0m /tmp/ipykernel_51903/752934157.py:10: FutureWarning: You are using `torch.load` with `weights_only=False` (the current default value), which uses the default pickle module implicitly. It is possible to construct malicious pickle data which will execute arbitrary code during unpickling (See https://github.com/pytorch/pytorch/blob/main/SECURITY.md#untrusted-models for more details). In a future release, the default value for `weights_only` will be flipped to `True`. This limits the functions that could be executed during unpickling. Arbitrary objects will no longer be allowed to be loaded via this mode unless they are explicitly allowlisted by the user via `torch.serialization.add_safe_globals`. We recommend you start setting `weights_only=True` for any use case where you don't have full control of the loaded file. Please open an issue on GitHub for any issues related to this experimental feature.\n",
      "\u001b[36m(DefaultActor pid=52436)\u001b[0m /home/cudaq/.local/lib/python3.10/site-packages/sklearn/metrics/_ranking.py:1183: UndefinedMetricWarning: No positive samples in y_true, true positive value should be meaningless\n",
      "\u001b[36m(DefaultActor pid=52436)\u001b[0m   warnings.warn(\n",
      "\u001b[36m(DefaultActor pid=52436)\u001b[0m /home/cudaq/.local/lib/python3.10/site-packages/torch/storage.py:414: FutureWarning: You are using `torch.load` with `weights_only=False` (the current default value), which uses the default pickle module implicitly. It is possible to construct malicious pickle data which will execute arbitrary code during unpickling (See https://github.com/pytorch/pytorch/blob/main/SECURITY.md#untrusted-models for more details). In a future release, the default value for `weights_only` will be flipped to `True`. This limits the functions that could be executed during unpickling. Arbitrary objects will no longer be allowed to be loaded via this mode unless they are explicitly allowlisted by the user via `torch.serialization.add_safe_globals`. We recommend you start setting `weights_only=True` for any use case where you don't have full control of the loaded file. Please open an issue on GitHub for any issues related to this experimental feature.\n",
      "\u001b[36m(DefaultActor pid=52436)\u001b[0m   return torch.load(io.BytesIO(b))\n"
     ]
    },
    {
     "name": "stdout",
     "output_type": "stream",
     "text": [
      "\u001b[36m(DefaultActor pid=52436)\u001b[0m  To get the checkpoint\n",
      "\u001b[36m(DefaultActor pid=52436)\u001b[0m [Client 1] evaluate, config: {}\n",
      "\u001b[36m(DefaultActor pid=52436)\u001b[0m Updated model\n"
     ]
    },
    {
     "name": "stderr",
     "output_type": "stream",
     "text": [
      "\u001b[36m(DefaultActor pid=52436)\u001b[0m /tmp/ipykernel_51903/752934157.py:10: FutureWarning: You are using `torch.load` with `weights_only=False` (the current default value), which uses the default pickle module implicitly. It is possible to construct malicious pickle data which will execute arbitrary code during unpickling (See https://github.com/pytorch/pytorch/blob/main/SECURITY.md#untrusted-models for more details). In a future release, the default value for `weights_only` will be flipped to `True`. This limits the functions that could be executed during unpickling. Arbitrary objects will no longer be allowed to be loaded via this mode unless they are explicitly allowlisted by the user via `torch.serialization.add_safe_globals`. We recommend you start setting `weights_only=True` for any use case where you don't have full control of the loaded file. Please open an issue on GitHub for any issues related to this experimental feature.\n",
      "\u001b[36m(DefaultActor pid=52436)\u001b[0m /home/cudaq/.local/lib/python3.10/site-packages/torch/storage.py:414: FutureWarning: You are using `torch.load` with `weights_only=False` (the current default value), which uses the default pickle module implicitly. It is possible to construct malicious pickle data which will execute arbitrary code during unpickling (See https://github.com/pytorch/pytorch/blob/main/SECURITY.md#untrusted-models for more details). In a future release, the default value for `weights_only` will be flipped to `True`. This limits the functions that could be executed during unpickling. Arbitrary objects will no longer be allowed to be loaded via this mode unless they are explicitly allowlisted by the user via `torch.serialization.add_safe_globals`. We recommend you start setting `weights_only=True` for any use case where you don't have full control of the loaded file. Please open an issue on GitHub for any issues related to this experimental feature.\n",
      "\u001b[36m(DefaultActor pid=52436)\u001b[0m   return torch.load(io.BytesIO(b))\n"
     ]
    },
    {
     "name": "stdout",
     "output_type": "stream",
     "text": [
      "\u001b[36m(DefaultActor pid=52436)\u001b[0m  To get the checkpoint\n",
      "\u001b[36m(DefaultActor pid=52436)\u001b[0m [Client 2] evaluate, config: {}\n",
      "\u001b[36m(DefaultActor pid=52436)\u001b[0m Updated model\n"
     ]
    },
    {
     "name": "stderr",
     "output_type": "stream",
     "text": [
      "\u001b[36m(DefaultActor pid=52436)\u001b[0m /tmp/ipykernel_51903/752934157.py:10: FutureWarning: You are using `torch.load` with `weights_only=False` (the current default value), which uses the default pickle module implicitly. It is possible to construct malicious pickle data which will execute arbitrary code during unpickling (See https://github.com/pytorch/pytorch/blob/main/SECURITY.md#untrusted-models for more details). In a future release, the default value for `weights_only` will be flipped to `True`. This limits the functions that could be executed during unpickling. Arbitrary objects will no longer be allowed to be loaded via this mode unless they are explicitly allowlisted by the user via `torch.serialization.add_safe_globals`. We recommend you start setting `weights_only=True` for any use case where you don't have full control of the loaded file. Please open an issue on GitHub for any issues related to this experimental feature.\n",
      "\u001b[36m(DefaultActor pid=52436)\u001b[0m /home/cudaq/.local/lib/python3.10/site-packages/torch/storage.py:414: FutureWarning: You are using `torch.load` with `weights_only=False` (the current default value), which uses the default pickle module implicitly. It is possible to construct malicious pickle data which will execute arbitrary code during unpickling (See https://github.com/pytorch/pytorch/blob/main/SECURITY.md#untrusted-models for more details). In a future release, the default value for `weights_only` will be flipped to `True`. This limits the functions that could be executed during unpickling. Arbitrary objects will no longer be allowed to be loaded via this mode unless they are explicitly allowlisted by the user via `torch.serialization.add_safe_globals`. We recommend you start setting `weights_only=True` for any use case where you don't have full control of the loaded file. Please open an issue on GitHub for any issues related to this experimental feature.\n",
      "\u001b[36m(DefaultActor pid=52436)\u001b[0m   return torch.load(io.BytesIO(b))\n"
     ]
    },
    {
     "name": "stdout",
     "output_type": "stream",
     "text": [
      "\u001b[36m(DefaultActor pid=52436)\u001b[0m  To get the checkpoint\n",
      "\u001b[36m(DefaultActor pid=52436)\u001b[0m [Client 7] evaluate, config: {}\n"
     ]
    },
    {
     "name": "stderr",
     "output_type": "stream",
     "text": [
      "\u001b[36m(DefaultActor pid=52436)\u001b[0m /tmp/ipykernel_51903/752934157.py:10: FutureWarning: You are using `torch.load` with `weights_only=False` (the current default value), which uses the default pickle module implicitly. It is possible to construct malicious pickle data which will execute arbitrary code during unpickling (See https://github.com/pytorch/pytorch/blob/main/SECURITY.md#untrusted-models for more details). In a future release, the default value for `weights_only` will be flipped to `True`. This limits the functions that could be executed during unpickling. Arbitrary objects will no longer be allowed to be loaded via this mode unless they are explicitly allowlisted by the user via `torch.serialization.add_safe_globals`. We recommend you start setting `weights_only=True` for any use case where you don't have full control of the loaded file. Please open an issue on GitHub for any issues related to this experimental feature.\n"
     ]
    },
    {
     "name": "stdout",
     "output_type": "stream",
     "text": [
      "\u001b[36m(DefaultActor pid=52436)\u001b[0m Updated model\n"
     ]
    },
    {
     "name": "stderr",
     "output_type": "stream",
     "text": [
      "DEBUG flwr 2024-10-06 21:26:01,239 | server.py:187 | evaluate_round 2 received 10 results and 0 failures\n",
      "DEBUG flwr 2024-10-06 21:26:01,240 | server.py:222 | fit_round 3: strategy sampled 10 clients (out of 10)\n",
      "\u001b[36m(DefaultActor pid=52436)\u001b[0m /home/cudaq/.local/lib/python3.10/site-packages/torch/storage.py:414: FutureWarning: You are using `torch.load` with `weights_only=False` (the current default value), which uses the default pickle module implicitly. It is possible to construct malicious pickle data which will execute arbitrary code during unpickling (See https://github.com/pytorch/pytorch/blob/main/SECURITY.md#untrusted-models for more details). In a future release, the default value for `weights_only` will be flipped to `True`. This limits the functions that could be executed during unpickling. Arbitrary objects will no longer be allowed to be loaded via this mode unless they are explicitly allowlisted by the user via `torch.serialization.add_safe_globals`. We recommend you start setting `weights_only=True` for any use case where you don't have full control of the loaded file. Please open an issue on GitHub for any issues related to this experimental feature.\n",
      "\u001b[36m(DefaultActor pid=52436)\u001b[0m   return torch.load(io.BytesIO(b))\n"
     ]
    },
    {
     "name": "stdout",
     "output_type": "stream",
     "text": [
      "\u001b[36m(DefaultActor pid=52436)\u001b[0m  To get the checkpoint\n",
      "\u001b[36m(DefaultActor pid=52436)\u001b[0m [Client 7, round 3] fit, config: {'learning_rate': 0.003, 'batch_size': '32', 'server_round': 3, 'local_epochs': 10}\n",
      "\u001b[36m(DefaultActor pid=52436)\u001b[0m Updated model\n"
     ]
    },
    {
     "name": "stderr",
     "output_type": "stream",
     "text": [
      "\u001b[36m(DefaultActor pid=52436)\u001b[0m /tmp/ipykernel_51903/752934157.py:10: FutureWarning: You are using `torch.load` with `weights_only=False` (the current default value), which uses the default pickle module implicitly. It is possible to construct malicious pickle data which will execute arbitrary code during unpickling (See https://github.com/pytorch/pytorch/blob/main/SECURITY.md#untrusted-models for more details). In a future release, the default value for `weights_only` will be flipped to `True`. This limits the functions that could be executed during unpickling. Arbitrary objects will no longer be allowed to be loaded via this mode unless they are explicitly allowlisted by the user via `torch.serialization.add_safe_globals`. We recommend you start setting `weights_only=True` for any use case where you don't have full control of the loaded file. Please open an issue on GitHub for any issues related to this experimental feature.\n",
      "  0%|\u001b[34m          \u001b[0m| 0/10 [00:00<?, ?it/s]\n"
     ]
    },
    {
     "name": "stdout",
     "output_type": "stream",
     "text": [
      "\u001b[36m(DefaultActor pid=52436)\u001b[0m \tTrain Epoch: 1 \tTrain_loss_mri: 0.6021 | Train_acc_mri: 76.4699 | Train_loss_dna: 0.6659 | Train_acc_dna: 78.5417 | Validation_loss_mri: 0.5458 | Validation_acc_mri: 82.8125 | Validation_loss_dna: 0.6185 | Validation_acc_dna: 90.6250\n"
     ]
    },
    {
     "name": "stderr",
     "output_type": "stream",
     "text": [
      " 10%|\u001b[34m█         \u001b[0m| 1/10 [00:01<00:11,  1.27s/it]\n"
     ]
    },
    {
     "name": "stdout",
     "output_type": "stream",
     "text": [
      "\u001b[36m(DefaultActor pid=52436)\u001b[0m \tTrain Epoch: 2 \tTrain_loss_mri: 0.2080 | Train_acc_mri: 93.3218 | Train_loss_dna: 0.6021 | Train_acc_dna: 80.7060 | Validation_loss_mri: 0.3759 | Validation_acc_mri: 89.0625 | Validation_loss_dna: 0.6095 | Validation_acc_dna: 72.3958\n"
     ]
    },
    {
     "name": "stderr",
     "output_type": "stream",
     "text": [
      " 20%|\u001b[34m██        \u001b[0m| 2/10 [00:02<00:10,  1.25s/it]\n"
     ]
    },
    {
     "name": "stdout",
     "output_type": "stream",
     "text": [
      "\u001b[36m(DefaultActor pid=52436)\u001b[0m \tTrain Epoch: 3 \tTrain_loss_mri: 0.0578 | Train_acc_mri: 98.7500 | Train_loss_dna: 0.2658 | Train_acc_dna: 92.4421 | Validation_loss_mri: 0.3006 | Validation_acc_mri: 89.0625 | Validation_loss_dna: 0.7216 | Validation_acc_dna: 73.9583\n"
     ]
    },
    {
     "name": "stderr",
     "output_type": "stream",
     "text": [
      " 30%|\u001b[34m███       \u001b[0m| 3/10 [00:03<00:08,  1.24s/it]\n"
     ]
    },
    {
     "name": "stdout",
     "output_type": "stream",
     "text": [
      "\u001b[36m(DefaultActor pid=52436)\u001b[0m \tTrain Epoch: 4 \tTrain_loss_mri: 0.0306 | Train_acc_mri: 100.0000 | Train_loss_dna: 0.1000 | Train_acc_dna: 99.0046 | Validation_loss_mri: 0.4141 | Validation_acc_mri: 89.0625 | Validation_loss_dna: 0.9104 | Validation_acc_dna: 69.2708\n"
     ]
    },
    {
     "name": "stderr",
     "output_type": "stream",
     "text": [
      " 40%|\u001b[34m████      \u001b[0m| 4/10 [00:04<00:07,  1.24s/it]\n"
     ]
    },
    {
     "name": "stdout",
     "output_type": "stream",
     "text": [
      "\u001b[36m(DefaultActor pid=52436)\u001b[0m \tTrain Epoch: 5 \tTrain_loss_mri: 0.0113 | Train_acc_mri: 100.0000 | Train_loss_dna: 0.0790 | Train_acc_dna: 98.3796 | Validation_loss_mri: 0.3340 | Validation_acc_mri: 87.5000 | Validation_loss_dna: 0.7488 | Validation_acc_dna: 70.8333\n"
     ]
    },
    {
     "name": "stderr",
     "output_type": "stream",
     "text": [
      " 50%|\u001b[34m█████     \u001b[0m| 5/10 [00:06<00:06,  1.25s/it]\n"
     ]
    },
    {
     "name": "stdout",
     "output_type": "stream",
     "text": [
      "\u001b[36m(DefaultActor pid=52436)\u001b[0m \tTrain Epoch: 6 \tTrain_loss_mri: 0.0150 | Train_acc_mri: 100.0000 | Train_loss_dna: 0.0653 | Train_acc_dna: 99.3750 | Validation_loss_mri: 0.3409 | Validation_acc_mri: 90.6250 | Validation_loss_dna: 1.4806 | Validation_acc_dna: 52.6042\n"
     ]
    },
    {
     "name": "stderr",
     "output_type": "stream",
     "text": [
      " 60%|\u001b[34m██████    \u001b[0m| 6/10 [00:07<00:05,  1.25s/it]\n"
     ]
    },
    {
     "name": "stdout",
     "output_type": "stream",
     "text": [
      "\u001b[36m(DefaultActor pid=52436)\u001b[0m \tTrain Epoch: 7 \tTrain_loss_mri: 0.0162 | Train_acc_mri: 99.6296 | Train_loss_dna: 0.0194 | Train_acc_dna: 99.6875 | Validation_loss_mri: 0.4068 | Validation_acc_mri: 87.5000 | Validation_loss_dna: 0.9811 | Validation_acc_dna: 69.2708\n"
     ]
    },
    {
     "name": "stderr",
     "output_type": "stream",
     "text": [
      " 70%|\u001b[34m███████   \u001b[0m| 7/10 [00:08<00:03,  1.26s/it]\n"
     ]
    },
    {
     "name": "stdout",
     "output_type": "stream",
     "text": [
      "\u001b[36m(DefaultActor pid=52436)\u001b[0m \tTrain Epoch: 8 \tTrain_loss_mri: 0.0024 | Train_acc_mri: 100.0000 | Train_loss_dna: 0.0156 | Train_acc_dna: 99.6875 | Validation_loss_mri: 0.3840 | Validation_acc_mri: 92.1875 | Validation_loss_dna: 0.8692 | Validation_acc_dna: 72.3958\n"
     ]
    },
    {
     "name": "stderr",
     "output_type": "stream",
     "text": [
      " 80%|\u001b[34m████████  \u001b[0m| 8/10 [00:10<00:02,  1.26s/it]\n"
     ]
    },
    {
     "name": "stdout",
     "output_type": "stream",
     "text": [
      "\u001b[36m(DefaultActor pid=52436)\u001b[0m \tTrain Epoch: 9 \tTrain_loss_mri: 0.0161 | Train_acc_mri: 99.6875 | Train_loss_dna: 0.0089 | Train_acc_dna: 100.0000 | Validation_loss_mri: 0.5857 | Validation_acc_mri: 70.8333 | Validation_loss_dna: 1.0111 | Validation_acc_dna: 67.7083\n"
     ]
    },
    {
     "name": "stderr",
     "output_type": "stream",
     "text": [
      " 90%|\u001b[34m█████████ \u001b[0m| 9/10 [00:11<00:01,  1.26s/it]\n"
     ]
    },
    {
     "name": "stdout",
     "output_type": "stream",
     "text": [
      "\u001b[36m(DefaultActor pid=52436)\u001b[0m \tTrain Epoch: 10 \tTrain_loss_mri: 0.0030 | Train_acc_mri: 100.0000 | Train_loss_dna: 0.0068 | Train_acc_dna: 100.0000 | Validation_loss_mri: 0.4933 | Validation_acc_mri: 89.0625 | Validation_loss_dna: 1.8312 | Validation_acc_dna: 52.6042\n",
      "\u001b[36m(DefaultActor pid=52436)\u001b[0m save graph in  results/FL_DNA+MRI/\n"
     ]
    },
    {
     "name": "stderr",
     "output_type": "stream",
     "text": [
      "100%|\u001b[34m██████████\u001b[0m| 10/10 [00:12<00:00,  1.26s/it]\n"
     ]
    },
    {
     "name": "stdout",
     "output_type": "stream",
     "text": [
      "\u001b[36m(DefaultActor pid=52436)\u001b[0m  To get the checkpoint\n",
      "\u001b[36m(DefaultActor pid=52436)\u001b[0m [Client 0, round 3] fit, config: {'learning_rate': 0.003, 'batch_size': '32', 'server_round': 3, 'local_epochs': 10}\n",
      "\u001b[36m(DefaultActor pid=52436)\u001b[0m Updated model\n"
     ]
    },
    {
     "name": "stderr",
     "output_type": "stream",
     "text": [
      "\u001b[36m(DefaultActor pid=52436)\u001b[0m /tmp/ipykernel_51903/752934157.py:10: FutureWarning: You are using `torch.load` with `weights_only=False` (the current default value), which uses the default pickle module implicitly. It is possible to construct malicious pickle data which will execute arbitrary code during unpickling (See https://github.com/pytorch/pytorch/blob/main/SECURITY.md#untrusted-models for more details). In a future release, the default value for `weights_only` will be flipped to `True`. This limits the functions that could be executed during unpickling. Arbitrary objects will no longer be allowed to be loaded via this mode unless they are explicitly allowlisted by the user via `torch.serialization.add_safe_globals`. We recommend you start setting `weights_only=True` for any use case where you don't have full control of the loaded file. Please open an issue on GitHub for any issues related to this experimental feature.\n",
      "  0%|\u001b[34m          \u001b[0m| 0/10 [00:00<?, ?it/s]\n"
     ]
    },
    {
     "name": "stdout",
     "output_type": "stream",
     "text": [
      "\u001b[36m(DefaultActor pid=52436)\u001b[0m \tTrain Epoch: 1 \tTrain_loss_mri: 0.6963 | Train_acc_mri: 71.9213 | Train_loss_dna: 0.7065 | Train_acc_dna: 72.2917 | Validation_loss_mri: 0.9048 | Validation_acc_mri: 59.8958 | Validation_loss_dna: 1.5105 | Validation_acc_dna: 67.7083\n"
     ]
    },
    {
     "name": "stderr",
     "output_type": "stream",
     "text": [
      " 10%|\u001b[34m█         \u001b[0m| 1/10 [00:01<00:11,  1.28s/it]\n"
     ]
    },
    {
     "name": "stdout",
     "output_type": "stream",
     "text": [
      "\u001b[36m(DefaultActor pid=52436)\u001b[0m \tTrain Epoch: 2 \tTrain_loss_mri: 0.2978 | Train_acc_mri: 89.8843 | Train_loss_dna: 0.6822 | Train_acc_dna: 77.6620 | Validation_loss_mri: 0.9743 | Validation_acc_mri: 63.0208 | Validation_loss_dna: 1.4034 | Validation_acc_dna: 46.3542\n"
     ]
    },
    {
     "name": "stderr",
     "output_type": "stream",
     "text": [
      " 20%|\u001b[34m██        \u001b[0m| 2/10 [00:02<00:10,  1.28s/it]\n"
     ]
    },
    {
     "name": "stdout",
     "output_type": "stream",
     "text": [
      "\u001b[36m(DefaultActor pid=52436)\u001b[0m \tTrain Epoch: 3 \tTrain_loss_mri: 0.0950 | Train_acc_mri: 97.1296 | Train_loss_dna: 0.3978 | Train_acc_dna: 89.9421 | Validation_loss_mri: 1.6104 | Validation_acc_mri: 64.5833 | Validation_loss_dna: 1.3863 | Validation_acc_dna: 47.9167\n"
     ]
    },
    {
     "name": "stderr",
     "output_type": "stream",
     "text": [
      " 30%|\u001b[34m███       \u001b[0m| 3/10 [00:03<00:08,  1.27s/it]\n"
     ]
    },
    {
     "name": "stdout",
     "output_type": "stream",
     "text": [
      "\u001b[36m(DefaultActor pid=52436)\u001b[0m \tTrain Epoch: 4 \tTrain_loss_mri: 0.0408 | Train_acc_mri: 99.6875 | Train_loss_dna: 0.1551 | Train_acc_dna: 97.1875 | Validation_loss_mri: 2.0736 | Validation_acc_mri: 66.1458 | Validation_loss_dna: 2.0997 | Validation_acc_dna: 29.6875\n"
     ]
    },
    {
     "name": "stderr",
     "output_type": "stream",
     "text": [
      " 40%|\u001b[34m████      \u001b[0m| 4/10 [00:05<00:07,  1.26s/it]\n"
     ]
    },
    {
     "name": "stdout",
     "output_type": "stream",
     "text": [
      "\u001b[36m(DefaultActor pid=52436)\u001b[0m \tTrain Epoch: 5 \tTrain_loss_mri: 0.0198 | Train_acc_mri: 99.3171 | Train_loss_dna: 0.0626 | Train_acc_dna: 98.6343 | Validation_loss_mri: 2.6701 | Validation_acc_mri: 64.5833 | Validation_loss_dna: 2.5926 | Validation_acc_dna: 25.0000\n"
     ]
    },
    {
     "name": "stderr",
     "output_type": "stream",
     "text": [
      " 50%|\u001b[34m█████     \u001b[0m| 5/10 [00:06<00:06,  1.26s/it]\n"
     ]
    },
    {
     "name": "stdout",
     "output_type": "stream",
     "text": [
      "\u001b[36m(DefaultActor pid=52436)\u001b[0m \tTrain Epoch: 6 \tTrain_loss_mri: 0.0121 | Train_acc_mri: 99.6875 | Train_loss_dna: 0.0883 | Train_acc_dna: 98.3218 | Validation_loss_mri: 1.7991 | Validation_acc_mri: 63.0208 | Validation_loss_dna: 1.6833 | Validation_acc_dna: 46.3542\n"
     ]
    },
    {
     "name": "stderr",
     "output_type": "stream",
     "text": [
      " 60%|\u001b[34m██████    \u001b[0m| 6/10 [00:07<00:05,  1.26s/it]\n"
     ]
    },
    {
     "name": "stdout",
     "output_type": "stream",
     "text": [
      "\u001b[36m(DefaultActor pid=52436)\u001b[0m \tTrain Epoch: 7 \tTrain_loss_mri: 0.0401 | Train_acc_mri: 99.0625 | Train_loss_dna: 0.1428 | Train_acc_dna: 96.5625 | Validation_loss_mri: 2.0021 | Validation_acc_mri: 66.1458 | Validation_loss_dna: 1.9391 | Validation_acc_dna: 25.0000\n"
     ]
    },
    {
     "name": "stderr",
     "output_type": "stream",
     "text": [
      " 70%|\u001b[34m███████   \u001b[0m| 7/10 [00:08<00:03,  1.26s/it]\n"
     ]
    },
    {
     "name": "stdout",
     "output_type": "stream",
     "text": [
      "\u001b[36m(DefaultActor pid=52436)\u001b[0m \tTrain Epoch: 8 \tTrain_loss_mri: 0.0210 | Train_acc_mri: 99.6875 | Train_loss_dna: 0.0845 | Train_acc_dna: 98.4375 | Validation_loss_mri: 1.7276 | Validation_acc_mri: 64.5833 | Validation_loss_dna: 1.8387 | Validation_acc_dna: 25.0000\n"
     ]
    },
    {
     "name": "stderr",
     "output_type": "stream",
     "text": [
      " 80%|\u001b[34m████████  \u001b[0m| 8/10 [00:10<00:02,  1.26s/it]\n"
     ]
    },
    {
     "name": "stdout",
     "output_type": "stream",
     "text": [
      "\u001b[36m(DefaultActor pid=52436)\u001b[0m \tTrain Epoch: 9 \tTrain_loss_mri: 0.0077 | Train_acc_mri: 100.0000 | Train_loss_dna: 0.0562 | Train_acc_dna: 98.7500 | Validation_loss_mri: 2.1413 | Validation_acc_mri: 64.5833 | Validation_loss_dna: 2.4190 | Validation_acc_dna: 31.2500\n"
     ]
    },
    {
     "name": "stderr",
     "output_type": "stream",
     "text": [
      " 90%|\u001b[34m█████████ \u001b[0m| 9/10 [00:11<00:01,  1.26s/it]\n"
     ]
    },
    {
     "name": "stdout",
     "output_type": "stream",
     "text": [
      "\u001b[36m(DefaultActor pid=52436)\u001b[0m \tTrain Epoch: 10 \tTrain_loss_mri: 0.0098 | Train_acc_mri: 100.0000 | Train_loss_dna: 0.0496 | Train_acc_dna: 99.3750 | Validation_loss_mri: 2.6798 | Validation_acc_mri: 64.5833 | Validation_loss_dna: 2.7342 | Validation_acc_dna: 31.2500\n",
      "\u001b[36m(DefaultActor pid=52436)\u001b[0m save graph in  results/FL_DNA+MRI/\n"
     ]
    },
    {
     "name": "stderr",
     "output_type": "stream",
     "text": [
      "100%|\u001b[34m██████████\u001b[0m| 10/10 [00:12<00:00,  1.26s/it]\n"
     ]
    },
    {
     "name": "stdout",
     "output_type": "stream",
     "text": [
      "\u001b[36m(DefaultActor pid=52436)\u001b[0m  To get the checkpoint\n",
      "\u001b[36m(DefaultActor pid=52436)\u001b[0m [Client 8, round 3] fit, config: {'learning_rate': 0.003, 'batch_size': '32', 'server_round': 3, 'local_epochs': 10}\n"
     ]
    },
    {
     "name": "stderr",
     "output_type": "stream",
     "text": [
      "\u001b[36m(DefaultActor pid=52436)\u001b[0m /tmp/ipykernel_51903/752934157.py:10: FutureWarning: You are using `torch.load` with `weights_only=False` (the current default value), which uses the default pickle module implicitly. It is possible to construct malicious pickle data which will execute arbitrary code during unpickling (See https://github.com/pytorch/pytorch/blob/main/SECURITY.md#untrusted-models for more details). In a future release, the default value for `weights_only` will be flipped to `True`. This limits the functions that could be executed during unpickling. Arbitrary objects will no longer be allowed to be loaded via this mode unless they are explicitly allowlisted by the user via `torch.serialization.add_safe_globals`. We recommend you start setting `weights_only=True` for any use case where you don't have full control of the loaded file. Please open an issue on GitHub for any issues related to this experimental feature.\n"
     ]
    },
    {
     "name": "stdout",
     "output_type": "stream",
     "text": [
      "\u001b[36m(DefaultActor pid=52436)\u001b[0m Updated model\n"
     ]
    },
    {
     "name": "stderr",
     "output_type": "stream",
     "text": [
      "  0%|\u001b[34m          \u001b[0m| 0/10 [00:00<?, ?it/s]\n"
     ]
    },
    {
     "name": "stdout",
     "output_type": "stream",
     "text": [
      "\u001b[36m(DefaultActor pid=52436)\u001b[0m \tTrain Epoch: 1 \tTrain_loss_mri: 0.7937 | Train_acc_mri: 71.6088 | Train_loss_dna: 0.6447 | Train_acc_dna: 71.9560 | Validation_loss_mri: 1.1962 | Validation_acc_mri: 52.6042 | Validation_loss_dna: 0.7151 | Validation_acc_dna: 70.8333\n"
     ]
    },
    {
     "name": "stderr",
     "output_type": "stream",
     "text": [
      " 10%|\u001b[34m█         \u001b[0m| 1/10 [00:01<00:11,  1.30s/it]\n"
     ]
    },
    {
     "name": "stdout",
     "output_type": "stream",
     "text": [
      "\u001b[36m(DefaultActor pid=52436)\u001b[0m \tTrain Epoch: 2 \tTrain_loss_mri: 0.3314 | Train_acc_mri: 88.3796 | Train_loss_dna: 0.6846 | Train_acc_dna: 74.1088 | Validation_loss_mri: 1.0272 | Validation_acc_mri: 66.1458 | Validation_loss_dna: 0.8270 | Validation_acc_dna: 78.1250\n"
     ]
    },
    {
     "name": "stderr",
     "output_type": "stream",
     "text": [
      " 20%|\u001b[34m██        \u001b[0m| 2/10 [00:02<00:10,  1.28s/it]\n"
     ]
    },
    {
     "name": "stdout",
     "output_type": "stream",
     "text": [
      "\u001b[36m(DefaultActor pid=52436)\u001b[0m \tTrain Epoch: 3 \tTrain_loss_mri: 0.1047 | Train_acc_mri: 97.1875 | Train_loss_dna: 0.4017 | Train_acc_dna: 89.1435 | Validation_loss_mri: 1.1475 | Validation_acc_mri: 64.5833 | Validation_loss_dna: 0.8604 | Validation_acc_dna: 55.2083\n"
     ]
    },
    {
     "name": "stderr",
     "output_type": "stream",
     "text": [
      " 30%|\u001b[34m███       \u001b[0m| 3/10 [00:03<00:08,  1.27s/it]\n"
     ]
    },
    {
     "name": "stdout",
     "output_type": "stream",
     "text": [
      "\u001b[36m(DefaultActor pid=52436)\u001b[0m \tTrain Epoch: 4 \tTrain_loss_mri: 0.0671 | Train_acc_mri: 98.7500 | Train_loss_dna: 0.1762 | Train_acc_dna: 96.1921 | Validation_loss_mri: 1.2320 | Validation_acc_mri: 67.7083 | Validation_loss_dna: 1.0290 | Validation_acc_dna: 64.5833\n"
     ]
    },
    {
     "name": "stderr",
     "output_type": "stream",
     "text": [
      " 40%|\u001b[34m████      \u001b[0m| 4/10 [00:05<00:07,  1.26s/it]\n"
     ]
    },
    {
     "name": "stdout",
     "output_type": "stream",
     "text": [
      "\u001b[36m(DefaultActor pid=52436)\u001b[0m \tTrain Epoch: 5 \tTrain_loss_mri: 0.0184 | Train_acc_mri: 100.0000 | Train_loss_dna: 0.1177 | Train_acc_dna: 96.5625 | Validation_loss_mri: 1.9250 | Validation_acc_mri: 67.7083 | Validation_loss_dna: 0.8661 | Validation_acc_dna: 76.5625\n"
     ]
    },
    {
     "name": "stderr",
     "output_type": "stream",
     "text": [
      " 50%|\u001b[34m█████     \u001b[0m| 5/10 [00:06<00:06,  1.25s/it]\n"
     ]
    },
    {
     "name": "stdout",
     "output_type": "stream",
     "text": [
      "\u001b[36m(DefaultActor pid=52436)\u001b[0m \tTrain Epoch: 6 \tTrain_loss_mri: 0.0159 | Train_acc_mri: 99.6875 | Train_loss_dna: 0.0681 | Train_acc_dna: 98.4375 | Validation_loss_mri: 1.7122 | Validation_acc_mri: 66.1458 | Validation_loss_dna: 1.0083 | Validation_acc_dna: 64.5833\n"
     ]
    },
    {
     "name": "stderr",
     "output_type": "stream",
     "text": [
      " 60%|\u001b[34m██████    \u001b[0m| 6/10 [00:07<00:05,  1.25s/it]\n"
     ]
    },
    {
     "name": "stdout",
     "output_type": "stream",
     "text": [
      "\u001b[36m(DefaultActor pid=52436)\u001b[0m \tTrain Epoch: 7 \tTrain_loss_mri: 0.0137 | Train_acc_mri: 99.6875 | Train_loss_dna: 0.0257 | Train_acc_dna: 99.6875 | Validation_loss_mri: 2.0989 | Validation_acc_mri: 67.7083 | Validation_loss_dna: 1.0440 | Validation_acc_dna: 76.5625\n"
     ]
    },
    {
     "name": "stderr",
     "output_type": "stream",
     "text": [
      " 70%|\u001b[34m███████   \u001b[0m| 7/10 [00:08<00:03,  1.25s/it]\n"
     ]
    },
    {
     "name": "stdout",
     "output_type": "stream",
     "text": [
      "\u001b[36m(DefaultActor pid=52436)\u001b[0m \tTrain Epoch: 8 \tTrain_loss_mri: 0.0076 | Train_acc_mri: 100.0000 | Train_loss_dna: 0.0301 | Train_acc_dna: 99.6875 | Validation_loss_mri: 2.0924 | Validation_acc_mri: 69.2708 | Validation_loss_dna: 1.2321 | Validation_acc_dna: 64.5833\n"
     ]
    },
    {
     "name": "stderr",
     "output_type": "stream",
     "text": [
      " 80%|\u001b[34m████████  \u001b[0m| 8/10 [00:10<00:02,  1.24s/it]\n"
     ]
    },
    {
     "name": "stdout",
     "output_type": "stream",
     "text": [
      "\u001b[36m(DefaultActor pid=52436)\u001b[0m \tTrain Epoch: 9 \tTrain_loss_mri: 0.0065 | Train_acc_mri: 100.0000 | Train_loss_dna: 0.0479 | Train_acc_dna: 99.0046 | Validation_loss_mri: 2.0840 | Validation_acc_mri: 67.7083 | Validation_loss_dna: 1.7960 | Validation_acc_dna: 58.3333\n"
     ]
    },
    {
     "name": "stderr",
     "output_type": "stream",
     "text": [
      " 90%|\u001b[34m█████████ \u001b[0m| 9/10 [00:11<00:01,  1.24s/it]\n"
     ]
    },
    {
     "name": "stdout",
     "output_type": "stream",
     "text": [
      "\u001b[36m(DefaultActor pid=52436)\u001b[0m \tTrain Epoch: 10 \tTrain_loss_mri: 0.0122 | Train_acc_mri: 99.6875 | Train_loss_dna: 0.0463 | Train_acc_dna: 98.7500 | Validation_loss_mri: 2.2469 | Validation_acc_mri: 66.1458 | Validation_loss_dna: 1.8826 | Validation_acc_dna: 66.1458\n",
      "\u001b[36m(DefaultActor pid=52436)\u001b[0m save graph in  results/FL_DNA+MRI/\n"
     ]
    },
    {
     "name": "stderr",
     "output_type": "stream",
     "text": [
      "100%|\u001b[34m██████████\u001b[0m| 10/10 [00:12<00:00,  1.25s/it]\n"
     ]
    },
    {
     "name": "stdout",
     "output_type": "stream",
     "text": [
      "\u001b[36m(DefaultActor pid=52436)\u001b[0m  To get the checkpoint\n",
      "\u001b[36m(DefaultActor pid=52436)\u001b[0m [Client 4, round 3] fit, config: {'learning_rate': 0.003, 'batch_size': '32', 'server_round': 3, 'local_epochs': 10}\n",
      "\u001b[36m(DefaultActor pid=52436)\u001b[0m Updated model\n"
     ]
    },
    {
     "name": "stderr",
     "output_type": "stream",
     "text": [
      "\u001b[36m(DefaultActor pid=52436)\u001b[0m /tmp/ipykernel_51903/752934157.py:10: FutureWarning: You are using `torch.load` with `weights_only=False` (the current default value), which uses the default pickle module implicitly. It is possible to construct malicious pickle data which will execute arbitrary code during unpickling (See https://github.com/pytorch/pytorch/blob/main/SECURITY.md#untrusted-models for more details). In a future release, the default value for `weights_only` will be flipped to `True`. This limits the functions that could be executed during unpickling. Arbitrary objects will no longer be allowed to be loaded via this mode unless they are explicitly allowlisted by the user via `torch.serialization.add_safe_globals`. We recommend you start setting `weights_only=True` for any use case where you don't have full control of the loaded file. Please open an issue on GitHub for any issues related to this experimental feature.\n",
      "  0%|\u001b[34m          \u001b[0m| 0/10 [00:00<?, ?it/s]\n"
     ]
    },
    {
     "name": "stdout",
     "output_type": "stream",
     "text": [
      "\u001b[36m(DefaultActor pid=52436)\u001b[0m \tTrain Epoch: 1 \tTrain_loss_mri: 0.8331 | Train_acc_mri: 70.5903 | Train_loss_dna: 0.6350 | Train_acc_dna: 76.1574 | Validation_loss_mri: 0.5891 | Validation_acc_mri: 75.5208 | Validation_loss_dna: 1.0071 | Validation_acc_dna: 52.6042\n"
     ]
    },
    {
     "name": "stderr",
     "output_type": "stream",
     "text": [
      " 10%|\u001b[34m█         \u001b[0m| 1/10 [00:01<00:11,  1.31s/it]\n"
     ]
    },
    {
     "name": "stdout",
     "output_type": "stream",
     "text": [
      "\u001b[36m(DefaultActor pid=52436)\u001b[0m \tTrain Epoch: 2 \tTrain_loss_mri: 0.2429 | Train_acc_mri: 92.4421 | Train_loss_dna: 0.6403 | Train_acc_dna: 75.5324 | Validation_loss_mri: 0.4246 | Validation_acc_mri: 75.5208 | Validation_loss_dna: 1.0368 | Validation_acc_dna: 46.3542\n"
     ]
    },
    {
     "name": "stderr",
     "output_type": "stream",
     "text": [
      " 20%|\u001b[34m██        \u001b[0m| 2/10 [00:02<00:10,  1.32s/it]\n"
     ]
    },
    {
     "name": "stdout",
     "output_type": "stream",
     "text": [
      "\u001b[36m(DefaultActor pid=52436)\u001b[0m \tTrain Epoch: 3 \tTrain_loss_mri: 0.0760 | Train_acc_mri: 99.3750 | Train_loss_dna: 0.3435 | Train_acc_dna: 90.2546 | Validation_loss_mri: 0.8159 | Validation_acc_mri: 72.3958 | Validation_loss_dna: 1.2102 | Validation_acc_dna: 47.9167\n"
     ]
    },
    {
     "name": "stderr",
     "output_type": "stream",
     "text": [
      " 30%|\u001b[34m███       \u001b[0m| 3/10 [00:03<00:09,  1.32s/it]\n"
     ]
    },
    {
     "name": "stdout",
     "output_type": "stream",
     "text": [
      "\u001b[36m(DefaultActor pid=52436)\u001b[0m \tTrain Epoch: 4 \tTrain_loss_mri: 0.0408 | Train_acc_mri: 99.3750 | Train_loss_dna: 0.1393 | Train_acc_dna: 96.7014 | Validation_loss_mri: 1.0043 | Validation_acc_mri: 72.3958 | Validation_loss_dna: 1.5321 | Validation_acc_dna: 44.7917\n"
     ]
    },
    {
     "name": "stderr",
     "output_type": "stream",
     "text": [
      " 40%|\u001b[34m████      \u001b[0m| 4/10 [00:05<00:07,  1.32s/it]\n"
     ]
    },
    {
     "name": "stdout",
     "output_type": "stream",
     "text": [
      "\u001b[36m(DefaultActor pid=52436)\u001b[0m \tTrain Epoch: 5 \tTrain_loss_mri: 0.0332 | Train_acc_mri: 99.6875 | Train_loss_dna: 0.0883 | Train_acc_dna: 98.4375 | Validation_loss_mri: 1.6557 | Validation_acc_mri: 69.2708 | Validation_loss_dna: 1.1758 | Validation_acc_dna: 54.1667\n"
     ]
    },
    {
     "name": "stderr",
     "output_type": "stream",
     "text": [
      " 50%|\u001b[34m█████     \u001b[0m| 5/10 [00:06<00:06,  1.32s/it]\n"
     ]
    },
    {
     "name": "stdout",
     "output_type": "stream",
     "text": [
      "\u001b[36m(DefaultActor pid=52436)\u001b[0m \tTrain Epoch: 6 \tTrain_loss_mri: 0.0315 | Train_acc_mri: 99.3750 | Train_loss_dna: 0.0703 | Train_acc_dna: 98.7500 | Validation_loss_mri: 0.8116 | Validation_acc_mri: 72.3958 | Validation_loss_dna: 1.7425 | Validation_acc_dna: 44.7917\n"
     ]
    },
    {
     "name": "stderr",
     "output_type": "stream",
     "text": [
      " 60%|\u001b[34m██████    \u001b[0m| 6/10 [00:07<00:05,  1.31s/it]\n"
     ]
    },
    {
     "name": "stdout",
     "output_type": "stream",
     "text": [
      "\u001b[36m(DefaultActor pid=52436)\u001b[0m \tTrain Epoch: 7 \tTrain_loss_mri: 0.0427 | Train_acc_mri: 99.0625 | Train_loss_dna: 0.0543 | Train_acc_dna: 98.6921 | Validation_loss_mri: 1.0430 | Validation_acc_mri: 75.5208 | Validation_loss_dna: 2.1423 | Validation_acc_dna: 41.6667\n"
     ]
    },
    {
     "name": "stderr",
     "output_type": "stream",
     "text": [
      " 70%|\u001b[34m███████   \u001b[0m| 7/10 [00:09<00:03,  1.28s/it]\n"
     ]
    },
    {
     "name": "stdout",
     "output_type": "stream",
     "text": [
      "\u001b[36m(DefaultActor pid=52436)\u001b[0m \tTrain Epoch: 8 \tTrain_loss_mri: 0.0141 | Train_acc_mri: 100.0000 | Train_loss_dna: 0.0531 | Train_acc_dna: 98.7500 | Validation_loss_mri: 1.7012 | Validation_acc_mri: 72.3958 | Validation_loss_dna: 2.1612 | Validation_acc_dna: 41.6667\n"
     ]
    },
    {
     "name": "stderr",
     "output_type": "stream",
     "text": [
      " 80%|\u001b[34m████████  \u001b[0m| 8/10 [00:10<00:02,  1.27s/it]\n"
     ]
    },
    {
     "name": "stdout",
     "output_type": "stream",
     "text": [
      "\u001b[36m(DefaultActor pid=52436)\u001b[0m \tTrain Epoch: 9 \tTrain_loss_mri: 0.0154 | Train_acc_mri: 99.3171 | Train_loss_dna: 0.0246 | Train_acc_dna: 99.3750 | Validation_loss_mri: 0.8127 | Validation_acc_mri: 77.0833 | Validation_loss_dna: 1.4549 | Validation_acc_dna: 49.4792\n"
     ]
    },
    {
     "name": "stderr",
     "output_type": "stream",
     "text": [
      " 90%|\u001b[34m█████████ \u001b[0m| 9/10 [00:11<00:01,  1.25s/it]\n"
     ]
    },
    {
     "name": "stdout",
     "output_type": "stream",
     "text": [
      "\u001b[36m(DefaultActor pid=52436)\u001b[0m \tTrain Epoch: 10 \tTrain_loss_mri: 0.0217 | Train_acc_mri: 99.0625 | Train_loss_dna: 0.0145 | Train_acc_dna: 100.0000 | Validation_loss_mri: 1.1146 | Validation_acc_mri: 73.9583 | Validation_loss_dna: 2.1732 | Validation_acc_dna: 41.6667\n",
      "\u001b[36m(DefaultActor pid=52436)\u001b[0m save graph in  results/FL_DNA+MRI/\n"
     ]
    },
    {
     "name": "stderr",
     "output_type": "stream",
     "text": [
      "100%|\u001b[34m██████████\u001b[0m| 10/10 [00:12<00:00,  1.28s/it]\n"
     ]
    },
    {
     "name": "stdout",
     "output_type": "stream",
     "text": [
      "\u001b[36m(DefaultActor pid=52436)\u001b[0m  To get the checkpoint\n",
      "\u001b[36m(DefaultActor pid=52436)\u001b[0m [Client 6, round 3] fit, config: {'learning_rate': 0.003, 'batch_size': '32', 'server_round': 3, 'local_epochs': 10}\n"
     ]
    },
    {
     "name": "stderr",
     "output_type": "stream",
     "text": [
      "\u001b[36m(DefaultActor pid=52436)\u001b[0m /tmp/ipykernel_51903/752934157.py:10: FutureWarning: You are using `torch.load` with `weights_only=False` (the current default value), which uses the default pickle module implicitly. It is possible to construct malicious pickle data which will execute arbitrary code during unpickling (See https://github.com/pytorch/pytorch/blob/main/SECURITY.md#untrusted-models for more details). In a future release, the default value for `weights_only` will be flipped to `True`. This limits the functions that could be executed during unpickling. Arbitrary objects will no longer be allowed to be loaded via this mode unless they are explicitly allowlisted by the user via `torch.serialization.add_safe_globals`. We recommend you start setting `weights_only=True` for any use case where you don't have full control of the loaded file. Please open an issue on GitHub for any issues related to this experimental feature.\n"
     ]
    },
    {
     "name": "stdout",
     "output_type": "stream",
     "text": [
      "\u001b[36m(DefaultActor pid=52436)\u001b[0m Updated model\n"
     ]
    },
    {
     "name": "stderr",
     "output_type": "stream",
     "text": [
      "  0%|\u001b[34m          \u001b[0m| 0/10 [00:00<?, ?it/s]\n"
     ]
    },
    {
     "name": "stdout",
     "output_type": "stream",
     "text": [
      "\u001b[36m(DefaultActor pid=52436)\u001b[0m \tTrain Epoch: 1 \tTrain_loss_mri: 0.7888 | Train_acc_mri: 74.5370 | Train_loss_dna: 0.6613 | Train_acc_dna: 76.3310 | Validation_loss_mri: 1.2149 | Validation_acc_mri: 39.0625 | Validation_loss_dna: 0.8034 | Validation_acc_dna: 43.2292\n"
     ]
    },
    {
     "name": "stderr",
     "output_type": "stream",
     "text": [
      " 10%|\u001b[34m█         \u001b[0m| 1/10 [00:01<00:12,  1.35s/it]\n"
     ]
    },
    {
     "name": "stdout",
     "output_type": "stream",
     "text": [
      "\u001b[36m(DefaultActor pid=52436)\u001b[0m \tTrain Epoch: 2 \tTrain_loss_mri: 0.3066 | Train_acc_mri: 89.5718 | Train_loss_dna: 0.5803 | Train_acc_dna: 80.7639 | Validation_loss_mri: 0.5509 | Validation_acc_mri: 87.5000 | Validation_loss_dna: 0.7884 | Validation_acc_dna: 70.8333\n"
     ]
    },
    {
     "name": "stderr",
     "output_type": "stream",
     "text": [
      " 20%|\u001b[34m██        \u001b[0m| 2/10 [00:02<00:10,  1.31s/it]\n"
     ]
    },
    {
     "name": "stdout",
     "output_type": "stream",
     "text": [
      "\u001b[36m(DefaultActor pid=52436)\u001b[0m \tTrain Epoch: 3 \tTrain_loss_mri: 0.0807 | Train_acc_mri: 98.7500 | Train_loss_dna: 0.2962 | Train_acc_dna: 93.0671 | Validation_loss_mri: 0.5178 | Validation_acc_mri: 87.5000 | Validation_loss_dna: 1.0901 | Validation_acc_dna: 46.3542\n"
     ]
    },
    {
     "name": "stderr",
     "output_type": "stream",
     "text": [
      " 30%|\u001b[34m███       \u001b[0m| 3/10 [00:03<00:09,  1.31s/it]\n"
     ]
    },
    {
     "name": "stdout",
     "output_type": "stream",
     "text": [
      "\u001b[36m(DefaultActor pid=52436)\u001b[0m \tTrain Epoch: 4 \tTrain_loss_mri: 0.0334 | Train_acc_mri: 99.6875 | Train_loss_dna: 0.1326 | Train_acc_dna: 98.1250 | Validation_loss_mri: 0.5427 | Validation_acc_mri: 89.0625 | Validation_loss_dna: 1.5676 | Validation_acc_dna: 44.7917\n"
     ]
    },
    {
     "name": "stderr",
     "output_type": "stream",
     "text": [
      " 40%|\u001b[34m████      \u001b[0m| 4/10 [00:05<00:07,  1.31s/it]\n"
     ]
    },
    {
     "name": "stdout",
     "output_type": "stream",
     "text": [
      "\u001b[36m(DefaultActor pid=52436)\u001b[0m \tTrain Epoch: 5 \tTrain_loss_mri: 0.0177 | Train_acc_mri: 100.0000 | Train_loss_dna: 0.0722 | Train_acc_dna: 98.0671 | Validation_loss_mri: 0.7267 | Validation_acc_mri: 82.8125 | Validation_loss_dna: 1.6934 | Validation_acc_dna: 40.1042\n"
     ]
    },
    {
     "name": "stderr",
     "output_type": "stream",
     "text": [
      " 50%|\u001b[34m█████     \u001b[0m| 5/10 [00:06<00:06,  1.30s/it]\n"
     ]
    },
    {
     "name": "stdout",
     "output_type": "stream",
     "text": [
      "\u001b[36m(DefaultActor pid=52436)\u001b[0m \tTrain Epoch: 6 \tTrain_loss_mri: 0.0145 | Train_acc_mri: 100.0000 | Train_loss_dna: 0.0492 | Train_acc_dna: 99.3750 | Validation_loss_mri: 0.6380 | Validation_acc_mri: 89.0625 | Validation_loss_dna: 1.8109 | Validation_acc_dna: 44.7917\n"
     ]
    },
    {
     "name": "stderr",
     "output_type": "stream",
     "text": [
      " 60%|\u001b[34m██████    \u001b[0m| 6/10 [00:07<00:05,  1.34s/it]\n"
     ]
    },
    {
     "name": "stdout",
     "output_type": "stream",
     "text": [
      "\u001b[36m(DefaultActor pid=52436)\u001b[0m \tTrain Epoch: 7 \tTrain_loss_mri: 0.0107 | Train_acc_mri: 100.0000 | Train_loss_dna: 0.1876 | Train_acc_dna: 96.0764 | Validation_loss_mri: 0.6522 | Validation_acc_mri: 85.9375 | Validation_loss_dna: 2.0575 | Validation_acc_dna: 43.2292\n"
     ]
    },
    {
     "name": "stderr",
     "output_type": "stream",
     "text": [
      " 70%|\u001b[34m███████   \u001b[0m| 7/10 [00:09<00:03,  1.33s/it]\n"
     ]
    },
    {
     "name": "stdout",
     "output_type": "stream",
     "text": [
      "\u001b[36m(DefaultActor pid=52436)\u001b[0m \tTrain Epoch: 8 \tTrain_loss_mri: 0.0228 | Train_acc_mri: 100.0000 | Train_loss_dna: 0.0777 | Train_acc_dna: 97.0139 | Validation_loss_mri: 0.6724 | Validation_acc_mri: 84.3750 | Validation_loss_dna: 0.9671 | Validation_acc_dna: 63.0208\n"
     ]
    },
    {
     "name": "stderr",
     "output_type": "stream",
     "text": [
      " 80%|\u001b[34m████████  \u001b[0m| 8/10 [00:10<00:02,  1.32s/it]\n"
     ]
    },
    {
     "name": "stdout",
     "output_type": "stream",
     "text": [
      "\u001b[36m(DefaultActor pid=52436)\u001b[0m \tTrain Epoch: 9 \tTrain_loss_mri: 0.0194 | Train_acc_mri: 99.6875 | Train_loss_dna: 0.0510 | Train_acc_dna: 99.0625 | Validation_loss_mri: 0.7119 | Validation_acc_mri: 84.3750 | Validation_loss_dna: 2.1285 | Validation_acc_dna: 44.7917\n"
     ]
    },
    {
     "name": "stderr",
     "output_type": "stream",
     "text": [
      " 90%|\u001b[34m█████████ \u001b[0m| 9/10 [00:11<00:01,  1.31s/it]\n"
     ]
    },
    {
     "name": "stdout",
     "output_type": "stream",
     "text": [
      "\u001b[36m(DefaultActor pid=52436)\u001b[0m \tTrain Epoch: 10 \tTrain_loss_mri: 0.0151 | Train_acc_mri: 99.6875 | Train_loss_dna: 0.0413 | Train_acc_dna: 99.0046 | Validation_loss_mri: 0.8585 | Validation_acc_mri: 84.3750 | Validation_loss_dna: 2.3831 | Validation_acc_dna: 44.7917\n",
      "\u001b[36m(DefaultActor pid=52436)\u001b[0m save graph in  results/FL_DNA+MRI/\n"
     ]
    },
    {
     "name": "stderr",
     "output_type": "stream",
     "text": [
      "100%|\u001b[34m██████████\u001b[0m| 10/10 [00:13<00:00,  1.31s/it]\n"
     ]
    },
    {
     "name": "stdout",
     "output_type": "stream",
     "text": [
      "\u001b[36m(DefaultActor pid=52436)\u001b[0m  To get the checkpoint\n",
      "\u001b[36m(DefaultActor pid=52436)\u001b[0m [Client 3, round 3] fit, config: {'learning_rate': 0.003, 'batch_size': '32', 'server_round': 3, 'local_epochs': 10}\n",
      "\u001b[36m(DefaultActor pid=52436)\u001b[0m Updated model\n"
     ]
    },
    {
     "name": "stderr",
     "output_type": "stream",
     "text": [
      "\u001b[36m(DefaultActor pid=52436)\u001b[0m /tmp/ipykernel_51903/752934157.py:10: FutureWarning: You are using `torch.load` with `weights_only=False` (the current default value), which uses the default pickle module implicitly. It is possible to construct malicious pickle data which will execute arbitrary code during unpickling (See https://github.com/pytorch/pytorch/blob/main/SECURITY.md#untrusted-models for more details). In a future release, the default value for `weights_only` will be flipped to `True`. This limits the functions that could be executed during unpickling. Arbitrary objects will no longer be allowed to be loaded via this mode unless they are explicitly allowlisted by the user via `torch.serialization.add_safe_globals`. We recommend you start setting `weights_only=True` for any use case where you don't have full control of the loaded file. Please open an issue on GitHub for any issues related to this experimental feature.\n",
      "  0%|\u001b[34m          \u001b[0m| 0/10 [00:00<?, ?it/s]\n"
     ]
    },
    {
     "name": "stdout",
     "output_type": "stream",
     "text": [
      "\u001b[36m(DefaultActor pid=52436)\u001b[0m \tTrain Epoch: 1 \tTrain_loss_mri: 0.5621 | Train_acc_mri: 80.4167 | Train_loss_dna: 0.6384 | Train_acc_dna: 75.6134 | Validation_loss_mri: 0.6786 | Validation_acc_mri: 82.8125 | Validation_loss_dna: 0.7295 | Validation_acc_dna: 54.1667\n"
     ]
    },
    {
     "name": "stderr",
     "output_type": "stream",
     "text": [
      " 10%|\u001b[34m█         \u001b[0m| 1/10 [00:01<00:11,  1.32s/it]\n"
     ]
    },
    {
     "name": "stdout",
     "output_type": "stream",
     "text": [
      "\u001b[36m(DefaultActor pid=52436)\u001b[0m \tTrain Epoch: 2 \tTrain_loss_mri: 0.2947 | Train_acc_mri: 89.3171 | Train_loss_dna: 0.6206 | Train_acc_dna: 78.9120 | Validation_loss_mri: 0.5040 | Validation_acc_mri: 85.9375 | Validation_loss_dna: 0.7441 | Validation_acc_dna: 84.3750\n"
     ]
    },
    {
     "name": "stderr",
     "output_type": "stream",
     "text": [
      " 20%|\u001b[34m██        \u001b[0m| 2/10 [00:02<00:10,  1.29s/it]\n"
     ]
    },
    {
     "name": "stdout",
     "output_type": "stream",
     "text": [
      "\u001b[36m(DefaultActor pid=52436)\u001b[0m \tTrain Epoch: 3 \tTrain_loss_mri: 0.0903 | Train_acc_mri: 97.8125 | Train_loss_dna: 0.3478 | Train_acc_dna: 91.8750 | Validation_loss_mri: 0.4573 | Validation_acc_mri: 85.9375 | Validation_loss_dna: 0.7589 | Validation_acc_dna: 64.5833\n"
     ]
    },
    {
     "name": "stderr",
     "output_type": "stream",
     "text": [
      " 30%|\u001b[34m███       \u001b[0m| 3/10 [00:03<00:09,  1.29s/it]\n"
     ]
    },
    {
     "name": "stdout",
     "output_type": "stream",
     "text": [
      "\u001b[36m(DefaultActor pid=52436)\u001b[0m \tTrain Epoch: 4 \tTrain_loss_mri: 0.0455 | Train_acc_mri: 98.6921 | Train_loss_dna: 0.1526 | Train_acc_dna: 96.2500 | Validation_loss_mri: 0.7837 | Validation_acc_mri: 82.8125 | Validation_loss_dna: 1.1587 | Validation_acc_dna: 64.5833\n"
     ]
    },
    {
     "name": "stderr",
     "output_type": "stream",
     "text": [
      " 40%|\u001b[34m████      \u001b[0m| 4/10 [00:05<00:08,  1.48s/it]\n"
     ]
    },
    {
     "name": "stdout",
     "output_type": "stream",
     "text": [
      "\u001b[36m(DefaultActor pid=52436)\u001b[0m \tTrain Epoch: 5 \tTrain_loss_mri: 0.0239 | Train_acc_mri: 99.3750 | Train_loss_dna: 0.1019 | Train_acc_dna: 98.3796 | Validation_loss_mri: 0.8208 | Validation_acc_mri: 85.9375 | Validation_loss_dna: 1.8701 | Validation_acc_dna: 40.1042\n"
     ]
    },
    {
     "name": "stderr",
     "output_type": "stream",
     "text": [
      " 50%|\u001b[34m█████     \u001b[0m| 5/10 [00:06<00:07,  1.41s/it]\n"
     ]
    },
    {
     "name": "stdout",
     "output_type": "stream",
     "text": [
      "\u001b[36m(DefaultActor pid=52436)\u001b[0m \tTrain Epoch: 6 \tTrain_loss_mri: 0.0626 | Train_acc_mri: 99.0625 | Train_loss_dna: 0.0826 | Train_acc_dna: 98.0093 | Validation_loss_mri: 0.6057 | Validation_acc_mri: 81.2500 | Validation_loss_dna: 0.9056 | Validation_acc_dna: 66.1458\n"
     ]
    },
    {
     "name": "stderr",
     "output_type": "stream",
     "text": [
      " 60%|\u001b[34m██████    \u001b[0m| 6/10 [00:08<00:05,  1.36s/it]\n"
     ]
    },
    {
     "name": "stdout",
     "output_type": "stream",
     "text": [
      "\u001b[36m(DefaultActor pid=52436)\u001b[0m \tTrain Epoch: 7 \tTrain_loss_mri: 0.1419 | Train_acc_mri: 95.9375 | Train_loss_dna: 0.1222 | Train_acc_dna: 97.5000 | Validation_loss_mri: 0.9371 | Validation_acc_mri: 51.0417 | Validation_loss_dna: 1.0969 | Validation_acc_dna: 66.1458\n"
     ]
    },
    {
     "name": "stderr",
     "output_type": "stream",
     "text": [
      " 70%|\u001b[34m███████   \u001b[0m| 7/10 [00:09<00:03,  1.32s/it]\n"
     ]
    },
    {
     "name": "stdout",
     "output_type": "stream",
     "text": [
      "\u001b[36m(DefaultActor pid=52436)\u001b[0m \tTrain Epoch: 8 \tTrain_loss_mri: 0.1186 | Train_acc_mri: 95.0000 | Train_loss_dna: 0.1377 | Train_acc_dna: 97.5000 | Validation_loss_mri: 0.9242 | Validation_acc_mri: 82.8125 | Validation_loss_dna: 1.6859 | Validation_acc_dna: 61.4583\n"
     ]
    },
    {
     "name": "stderr",
     "output_type": "stream",
     "text": [
      " 80%|\u001b[34m████████  \u001b[0m| 8/10 [00:10<00:02,  1.29s/it]\n"
     ]
    },
    {
     "name": "stdout",
     "output_type": "stream",
     "text": [
      "\u001b[36m(DefaultActor pid=52436)\u001b[0m \tTrain Epoch: 9 \tTrain_loss_mri: 0.0461 | Train_acc_mri: 98.4375 | Train_loss_dna: 0.0550 | Train_acc_dna: 99.3750 | Validation_loss_mri: 0.9860 | Validation_acc_mri: 84.3750 | Validation_loss_dna: 0.9288 | Validation_acc_dna: 69.2708\n"
     ]
    },
    {
     "name": "stderr",
     "output_type": "stream",
     "text": [
      " 90%|\u001b[34m█████████ \u001b[0m| 9/10 [00:11<00:01,  1.28s/it]\n"
     ]
    },
    {
     "name": "stdout",
     "output_type": "stream",
     "text": [
      "\u001b[36m(DefaultActor pid=52436)\u001b[0m \tTrain Epoch: 10 \tTrain_loss_mri: 0.0125 | Train_acc_mri: 99.6875 | Train_loss_dna: 0.0342 | Train_acc_dna: 99.3750 | Validation_loss_mri: 0.9009 | Validation_acc_mri: 82.8125 | Validation_loss_dna: 1.3186 | Validation_acc_dna: 67.7083\n",
      "\u001b[36m(DefaultActor pid=52436)\u001b[0m save graph in  results/FL_DNA+MRI/\n"
     ]
    },
    {
     "name": "stderr",
     "output_type": "stream",
     "text": [
      "100%|\u001b[34m██████████\u001b[0m| 10/10 [00:13<00:00,  1.32s/it]\n"
     ]
    },
    {
     "name": "stdout",
     "output_type": "stream",
     "text": [
      "\u001b[36m(DefaultActor pid=52436)\u001b[0m  To get the checkpoint\n",
      "\u001b[36m(DefaultActor pid=52436)\u001b[0m [Client 1, round 3] fit, config: {'learning_rate': 0.003, 'batch_size': '32', 'server_round': 3, 'local_epochs': 10}\n",
      "\u001b[36m(DefaultActor pid=52436)\u001b[0m Updated model\n"
     ]
    },
    {
     "name": "stderr",
     "output_type": "stream",
     "text": [
      "\u001b[36m(DefaultActor pid=52436)\u001b[0m /tmp/ipykernel_51903/752934157.py:10: FutureWarning: You are using `torch.load` with `weights_only=False` (the current default value), which uses the default pickle module implicitly. It is possible to construct malicious pickle data which will execute arbitrary code during unpickling (See https://github.com/pytorch/pytorch/blob/main/SECURITY.md#untrusted-models for more details). In a future release, the default value for `weights_only` will be flipped to `True`. This limits the functions that could be executed during unpickling. Arbitrary objects will no longer be allowed to be loaded via this mode unless they are explicitly allowlisted by the user via `torch.serialization.add_safe_globals`. We recommend you start setting `weights_only=True` for any use case where you don't have full control of the loaded file. Please open an issue on GitHub for any issues related to this experimental feature.\n",
      "  0%|\u001b[34m          \u001b[0m| 0/10 [00:00<?, ?it/s]\n"
     ]
    },
    {
     "name": "stdout",
     "output_type": "stream",
     "text": [
      "\u001b[36m(DefaultActor pid=52436)\u001b[0m \tTrain Epoch: 1 \tTrain_loss_mri: 0.8930 | Train_acc_mri: 68.7384 | Train_loss_dna: 0.6041 | Train_acc_dna: 79.5718 | Validation_loss_mri: 0.4221 | Validation_acc_mri: 87.5000 | Validation_loss_dna: 0.9475 | Validation_acc_dna: 49.4792\n"
     ]
    },
    {
     "name": "stderr",
     "output_type": "stream",
     "text": [
      " 10%|\u001b[34m█         \u001b[0m| 1/10 [00:01<00:11,  1.28s/it]\n"
     ]
    },
    {
     "name": "stdout",
     "output_type": "stream",
     "text": [
      "\u001b[36m(DefaultActor pid=52436)\u001b[0m \tTrain Epoch: 2 \tTrain_loss_mri: 0.3619 | Train_acc_mri: 85.7639 | Train_loss_dna: 0.7702 | Train_acc_dna: 74.4560 | Validation_loss_mri: 0.4675 | Validation_acc_mri: 87.5000 | Validation_loss_dna: 1.1777 | Validation_acc_dna: 44.7917\n"
     ]
    },
    {
     "name": "stderr",
     "output_type": "stream",
     "text": [
      " 20%|\u001b[34m██        \u001b[0m| 2/10 [00:02<00:10,  1.27s/it]\n"
     ]
    },
    {
     "name": "stdout",
     "output_type": "stream",
     "text": [
      "\u001b[36m(DefaultActor pid=52436)\u001b[0m \tTrain Epoch: 3 \tTrain_loss_mri: 0.1223 | Train_acc_mri: 98.1250 | Train_loss_dna: 0.4243 | Train_acc_dna: 89.9421 | Validation_loss_mri: 0.6874 | Validation_acc_mri: 70.8333 | Validation_loss_dna: 1.4667 | Validation_acc_dna: 46.3542\n"
     ]
    },
    {
     "name": "stderr",
     "output_type": "stream",
     "text": [
      " 30%|\u001b[34m███       \u001b[0m| 3/10 [00:03<00:08,  1.26s/it]\n"
     ]
    },
    {
     "name": "stdout",
     "output_type": "stream",
     "text": [
      "\u001b[36m(DefaultActor pid=52436)\u001b[0m \tTrain Epoch: 4 \tTrain_loss_mri: 0.0424 | Train_acc_mri: 99.6875 | Train_loss_dna: 0.1964 | Train_acc_dna: 96.5046 | Validation_loss_mri: 0.7730 | Validation_acc_mri: 70.8333 | Validation_loss_dna: 1.7161 | Validation_acc_dna: 47.9167\n"
     ]
    },
    {
     "name": "stderr",
     "output_type": "stream",
     "text": [
      " 40%|\u001b[34m████      \u001b[0m| 4/10 [00:05<00:07,  1.26s/it]\n"
     ]
    },
    {
     "name": "stdout",
     "output_type": "stream",
     "text": [
      "\u001b[36m(DefaultActor pid=52436)\u001b[0m \tTrain Epoch: 5 \tTrain_loss_mri: 0.0315 | Train_acc_mri: 99.3750 | Train_loss_dna: 0.0695 | Train_acc_dna: 98.4375 | Validation_loss_mri: 0.8331 | Validation_acc_mri: 90.6250 | Validation_loss_dna: 2.0859 | Validation_acc_dna: 41.6667\n"
     ]
    },
    {
     "name": "stderr",
     "output_type": "stream",
     "text": [
      " 50%|\u001b[34m█████     \u001b[0m| 5/10 [00:06<00:06,  1.26s/it]\n"
     ]
    },
    {
     "name": "stdout",
     "output_type": "stream",
     "text": [
      "\u001b[36m(DefaultActor pid=52436)\u001b[0m \tTrain Epoch: 6 \tTrain_loss_mri: 0.0451 | Train_acc_mri: 98.1250 | Train_loss_dna: 0.0438 | Train_acc_dna: 98.6921 | Validation_loss_mri: 0.7766 | Validation_acc_mri: 85.9375 | Validation_loss_dna: 1.6344 | Validation_acc_dna: 64.5833\n"
     ]
    },
    {
     "name": "stderr",
     "output_type": "stream",
     "text": [
      " 60%|\u001b[34m██████    \u001b[0m| 6/10 [00:07<00:05,  1.26s/it]\n"
     ]
    },
    {
     "name": "stdout",
     "output_type": "stream",
     "text": [
      "\u001b[36m(DefaultActor pid=52436)\u001b[0m \tTrain Epoch: 7 \tTrain_loss_mri: 0.0172 | Train_acc_mri: 99.6875 | Train_loss_dna: 0.0473 | Train_acc_dna: 99.0625 | Validation_loss_mri: 0.6773 | Validation_acc_mri: 92.1875 | Validation_loss_dna: 3.4349 | Validation_acc_dna: 43.2292\n"
     ]
    },
    {
     "name": "stderr",
     "output_type": "stream",
     "text": [
      " 70%|\u001b[34m███████   \u001b[0m| 7/10 [00:08<00:03,  1.28s/it]\n"
     ]
    },
    {
     "name": "stdout",
     "output_type": "stream",
     "text": [
      "\u001b[36m(DefaultActor pid=52436)\u001b[0m \tTrain Epoch: 8 \tTrain_loss_mri: 0.0281 | Train_acc_mri: 98.7500 | Train_loss_dna: 0.0579 | Train_acc_dna: 98.7500 | Validation_loss_mri: 0.8559 | Validation_acc_mri: 87.5000 | Validation_loss_dna: 1.9426 | Validation_acc_dna: 64.5833\n"
     ]
    },
    {
     "name": "stderr",
     "output_type": "stream",
     "text": [
      " 80%|\u001b[34m████████  \u001b[0m| 8/10 [00:10<00:02,  1.31s/it]\n"
     ]
    },
    {
     "name": "stdout",
     "output_type": "stream",
     "text": [
      "\u001b[36m(DefaultActor pid=52436)\u001b[0m \tTrain Epoch: 9 \tTrain_loss_mri: 0.0066 | Train_acc_mri: 100.0000 | Train_loss_dna: 0.0476 | Train_acc_dna: 99.0625 | Validation_loss_mri: 0.8514 | Validation_acc_mri: 87.5000 | Validation_loss_dna: 1.7970 | Validation_acc_dna: 46.3542\n"
     ]
    },
    {
     "name": "stderr",
     "output_type": "stream",
     "text": [
      " 90%|\u001b[34m█████████ \u001b[0m| 9/10 [00:11<00:01,  1.29s/it]\n"
     ]
    },
    {
     "name": "stdout",
     "output_type": "stream",
     "text": [
      "\u001b[36m(DefaultActor pid=52436)\u001b[0m \tTrain Epoch: 10 \tTrain_loss_mri: 0.0051 | Train_acc_mri: 100.0000 | Train_loss_dna: 0.0190 | Train_acc_dna: 99.6875 | Validation_loss_mri: 0.7711 | Validation_acc_mri: 90.6250 | Validation_loss_dna: 2.0644 | Validation_acc_dna: 63.0208\n",
      "\u001b[36m(DefaultActor pid=52436)\u001b[0m save graph in  results/FL_DNA+MRI/\n"
     ]
    },
    {
     "name": "stderr",
     "output_type": "stream",
     "text": [
      "100%|\u001b[34m██████████\u001b[0m| 10/10 [00:12<00:00,  1.28s/it]\n"
     ]
    },
    {
     "name": "stdout",
     "output_type": "stream",
     "text": [
      "\u001b[36m(DefaultActor pid=52436)\u001b[0m  To get the checkpoint\n",
      "\u001b[36m(DefaultActor pid=52436)\u001b[0m [Client 2, round 3] fit, config: {'learning_rate': 0.003, 'batch_size': '32', 'server_round': 3, 'local_epochs': 10}\n",
      "\u001b[36m(DefaultActor pid=52436)\u001b[0m Updated model\n"
     ]
    },
    {
     "name": "stderr",
     "output_type": "stream",
     "text": [
      "\u001b[36m(DefaultActor pid=52436)\u001b[0m /tmp/ipykernel_51903/752934157.py:10: FutureWarning: You are using `torch.load` with `weights_only=False` (the current default value), which uses the default pickle module implicitly. It is possible to construct malicious pickle data which will execute arbitrary code during unpickling (See https://github.com/pytorch/pytorch/blob/main/SECURITY.md#untrusted-models for more details). In a future release, the default value for `weights_only` will be flipped to `True`. This limits the functions that could be executed during unpickling. Arbitrary objects will no longer be allowed to be loaded via this mode unless they are explicitly allowlisted by the user via `torch.serialization.add_safe_globals`. We recommend you start setting `weights_only=True` for any use case where you don't have full control of the loaded file. Please open an issue on GitHub for any issues related to this experimental feature.\n",
      "  0%|\u001b[34m          \u001b[0m| 0/10 [00:00<?, ?it/s]\n"
     ]
    },
    {
     "name": "stdout",
     "output_type": "stream",
     "text": [
      "\u001b[36m(DefaultActor pid=52436)\u001b[0m \tTrain Epoch: 1 \tTrain_loss_mri: 0.6969 | Train_acc_mri: 75.1042 | Train_loss_dna: 0.6518 | Train_acc_dna: 75.0810 | Validation_loss_mri: 1.2225 | Validation_acc_mri: 47.9167 | Validation_loss_dna: 1.1130 | Validation_acc_dna: 36.9792\n"
     ]
    },
    {
     "name": "stderr",
     "output_type": "stream",
     "text": [
      " 10%|\u001b[34m█         \u001b[0m| 1/10 [00:01<00:11,  1.26s/it]\n"
     ]
    },
    {
     "name": "stdout",
     "output_type": "stream",
     "text": [
      "\u001b[36m(DefaultActor pid=52436)\u001b[0m \tTrain Epoch: 2 \tTrain_loss_mri: 0.3266 | Train_acc_mri: 89.3171 | Train_loss_dna: 0.6881 | Train_acc_dna: 75.8449 | Validation_loss_mri: 1.1109 | Validation_acc_mri: 52.6042 | Validation_loss_dna: 1.2057 | Validation_acc_dna: 63.0208\n"
     ]
    },
    {
     "name": "stderr",
     "output_type": "stream",
     "text": [
      " 20%|\u001b[34m██        \u001b[0m| 2/10 [00:02<00:10,  1.27s/it]\n"
     ]
    },
    {
     "name": "stdout",
     "output_type": "stream",
     "text": [
      "\u001b[36m(DefaultActor pid=52436)\u001b[0m \tTrain Epoch: 3 \tTrain_loss_mri: 0.0839 | Train_acc_mri: 97.8125 | Train_loss_dna: 0.3577 | Train_acc_dna: 90.3356 | Validation_loss_mri: 1.4150 | Validation_acc_mri: 49.4792 | Validation_loss_dna: 1.4342 | Validation_acc_dna: 40.1042\n"
     ]
    },
    {
     "name": "stderr",
     "output_type": "stream",
     "text": [
      " 30%|\u001b[34m███       \u001b[0m| 3/10 [00:03<00:08,  1.28s/it]\n"
     ]
    },
    {
     "name": "stdout",
     "output_type": "stream",
     "text": [
      "\u001b[36m(DefaultActor pid=52436)\u001b[0m \tTrain Epoch: 4 \tTrain_loss_mri: 0.0507 | Train_acc_mri: 99.3171 | Train_loss_dna: 0.1107 | Train_acc_dna: 98.7500 | Validation_loss_mri: 2.1164 | Validation_acc_mri: 49.4792 | Validation_loss_dna: 2.1055 | Validation_acc_dna: 41.6667\n"
     ]
    },
    {
     "name": "stderr",
     "output_type": "stream",
     "text": [
      " 40%|\u001b[34m████      \u001b[0m| 4/10 [00:05<00:07,  1.28s/it]\n"
     ]
    },
    {
     "name": "stdout",
     "output_type": "stream",
     "text": [
      "\u001b[36m(DefaultActor pid=52436)\u001b[0m \tTrain Epoch: 5 \tTrain_loss_mri: 0.0239 | Train_acc_mri: 99.6875 | Train_loss_dna: 0.0461 | Train_acc_dna: 99.6875 | Validation_loss_mri: 2.4843 | Validation_acc_mri: 51.0417 | Validation_loss_dna: 1.9808 | Validation_acc_dna: 36.9792\n"
     ]
    },
    {
     "name": "stderr",
     "output_type": "stream",
     "text": [
      " 50%|\u001b[34m█████     \u001b[0m| 5/10 [00:06<00:06,  1.28s/it]\n"
     ]
    },
    {
     "name": "stdout",
     "output_type": "stream",
     "text": [
      "\u001b[36m(DefaultActor pid=52436)\u001b[0m \tTrain Epoch: 6 \tTrain_loss_mri: 0.0095 | Train_acc_mri: 99.6875 | Train_loss_dna: 0.0308 | Train_acc_dna: 99.0625 | Validation_loss_mri: 2.9616 | Validation_acc_mri: 49.4792 | Validation_loss_dna: 2.5329 | Validation_acc_dna: 33.8542\n"
     ]
    },
    {
     "name": "stderr",
     "output_type": "stream",
     "text": [
      " 60%|\u001b[34m██████    \u001b[0m| 6/10 [00:07<00:05,  1.28s/it]\n"
     ]
    },
    {
     "name": "stdout",
     "output_type": "stream",
     "text": [
      "\u001b[36m(DefaultActor pid=52436)\u001b[0m \tTrain Epoch: 7 \tTrain_loss_mri: 0.0045 | Train_acc_mri: 100.0000 | Train_loss_dna: 0.0305 | Train_acc_dna: 99.0625 | Validation_loss_mri: 2.6916 | Validation_acc_mri: 51.0417 | Validation_loss_dna: 1.9754 | Validation_acc_dna: 38.5417\n"
     ]
    },
    {
     "name": "stderr",
     "output_type": "stream",
     "text": [
      " 70%|\u001b[34m███████   \u001b[0m| 7/10 [00:08<00:03,  1.28s/it]\n"
     ]
    },
    {
     "name": "stdout",
     "output_type": "stream",
     "text": [
      "\u001b[36m(DefaultActor pid=52436)\u001b[0m \tTrain Epoch: 8 \tTrain_loss_mri: 0.0061 | Train_acc_mri: 100.0000 | Train_loss_dna: 0.0141 | Train_acc_dna: 99.6875 | Validation_loss_mri: 3.0620 | Validation_acc_mri: 51.0417 | Validation_loss_dna: 2.2342 | Validation_acc_dna: 41.6667\n"
     ]
    },
    {
     "name": "stderr",
     "output_type": "stream",
     "text": [
      " 80%|\u001b[34m████████  \u001b[0m| 8/10 [00:10<00:02,  1.28s/it]\n"
     ]
    },
    {
     "name": "stdout",
     "output_type": "stream",
     "text": [
      "\u001b[36m(DefaultActor pid=52436)\u001b[0m \tTrain Epoch: 9 \tTrain_loss_mri: 0.0016 | Train_acc_mri: 100.0000 | Train_loss_dna: 0.0188 | Train_acc_dna: 99.3750 | Validation_loss_mri: 2.9438 | Validation_acc_mri: 54.1667 | Validation_loss_dna: 2.1931 | Validation_acc_dna: 36.9792\n"
     ]
    },
    {
     "name": "stderr",
     "output_type": "stream",
     "text": [
      " 90%|\u001b[34m█████████ \u001b[0m| 9/10 [00:11<00:01,  1.28s/it]\n"
     ]
    },
    {
     "name": "stdout",
     "output_type": "stream",
     "text": [
      "\u001b[36m(DefaultActor pid=52436)\u001b[0m \tTrain Epoch: 10 \tTrain_loss_mri: 0.0017 | Train_acc_mri: 100.0000 | Train_loss_dna: 0.0049 | Train_acc_dna: 100.0000 | Validation_loss_mri: 3.0069 | Validation_acc_mri: 54.1667 | Validation_loss_dna: 2.1251 | Validation_acc_dna: 35.4167\n",
      "\u001b[36m(DefaultActor pid=52436)\u001b[0m save graph in  results/FL_DNA+MRI/\n"
     ]
    },
    {
     "name": "stderr",
     "output_type": "stream",
     "text": [
      "100%|\u001b[34m██████████\u001b[0m| 10/10 [00:12<00:00,  1.28s/it]\n"
     ]
    },
    {
     "name": "stdout",
     "output_type": "stream",
     "text": [
      "\u001b[36m(DefaultActor pid=52436)\u001b[0m  To get the checkpoint\n",
      "\u001b[36m(DefaultActor pid=52436)\u001b[0m [Client 9, round 3] fit, config: {'learning_rate': 0.003, 'batch_size': '32', 'server_round': 3, 'local_epochs': 10}\n",
      "\u001b[36m(DefaultActor pid=52436)\u001b[0m Updated model\n"
     ]
    },
    {
     "name": "stderr",
     "output_type": "stream",
     "text": [
      "\u001b[36m(DefaultActor pid=52436)\u001b[0m /tmp/ipykernel_51903/752934157.py:10: FutureWarning: You are using `torch.load` with `weights_only=False` (the current default value), which uses the default pickle module implicitly. It is possible to construct malicious pickle data which will execute arbitrary code during unpickling (See https://github.com/pytorch/pytorch/blob/main/SECURITY.md#untrusted-models for more details). In a future release, the default value for `weights_only` will be flipped to `True`. This limits the functions that could be executed during unpickling. Arbitrary objects will no longer be allowed to be loaded via this mode unless they are explicitly allowlisted by the user via `torch.serialization.add_safe_globals`. We recommend you start setting `weights_only=True` for any use case where you don't have full control of the loaded file. Please open an issue on GitHub for any issues related to this experimental feature.\n",
      "  0%|\u001b[34m          \u001b[0m| 0/10 [00:00<?, ?it/s]\n"
     ]
    },
    {
     "name": "stdout",
     "output_type": "stream",
     "text": [
      "\u001b[36m(DefaultActor pid=52436)\u001b[0m \tTrain Epoch: 1 \tTrain_loss_mri: 0.6354 | Train_acc_mri: 75.2319 | Train_loss_dna: 0.5871 | Train_acc_dna: 78.0444 | Validation_loss_mri: 0.9004 | Validation_acc_mri: 75.5208 | Validation_loss_dna: 0.6030 | Validation_acc_dna: 87.5000\n"
     ]
    },
    {
     "name": "stderr",
     "output_type": "stream",
     "text": [
      " 10%|\u001b[34m█         \u001b[0m| 1/10 [00:01<00:11,  1.29s/it]\n"
     ]
    },
    {
     "name": "stdout",
     "output_type": "stream",
     "text": [
      "\u001b[36m(DefaultActor pid=52436)\u001b[0m \tTrain Epoch: 2 \tTrain_loss_mri: 0.2336 | Train_acc_mri: 92.1875 | Train_loss_dna: 0.6458 | Train_acc_dna: 79.2944 | Validation_loss_mri: 1.1634 | Validation_acc_mri: 75.5208 | Validation_loss_dna: 1.1699 | Validation_acc_dna: 64.5833\n"
     ]
    },
    {
     "name": "stderr",
     "output_type": "stream",
     "text": [
      " 20%|\u001b[34m██        \u001b[0m| 2/10 [00:02<00:10,  1.27s/it]\n"
     ]
    },
    {
     "name": "stdout",
     "output_type": "stream",
     "text": [
      "\u001b[36m(DefaultActor pid=52436)\u001b[0m \tTrain Epoch: 3 \tTrain_loss_mri: 0.1011 | Train_acc_mri: 96.5524 | Train_loss_dna: 0.3596 | Train_acc_dna: 87.1573 | Validation_loss_mri: 1.3028 | Validation_acc_mri: 69.2708 | Validation_loss_dna: 0.8403 | Validation_acc_dna: 79.6875\n"
     ]
    },
    {
     "name": "stderr",
     "output_type": "stream",
     "text": [
      " 30%|\u001b[34m███       \u001b[0m| 3/10 [00:03<00:08,  1.28s/it]\n"
     ]
    },
    {
     "name": "stdout",
     "output_type": "stream",
     "text": [
      "\u001b[36m(DefaultActor pid=52436)\u001b[0m \tTrain Epoch: 4 \tTrain_loss_mri: 0.0699 | Train_acc_mri: 98.7500 | Train_loss_dna: 0.1558 | Train_acc_dna: 96.5423 | Validation_loss_mri: 1.6460 | Validation_acc_mri: 73.9583 | Validation_loss_dna: 0.9292 | Validation_acc_dna: 75.0000\n"
     ]
    },
    {
     "name": "stderr",
     "output_type": "stream",
     "text": [
      " 40%|\u001b[34m████      \u001b[0m| 4/10 [00:05<00:07,  1.28s/it]\n"
     ]
    },
    {
     "name": "stdout",
     "output_type": "stream",
     "text": [
      "\u001b[36m(DefaultActor pid=52436)\u001b[0m \tTrain Epoch: 5 \tTrain_loss_mri: 0.0256 | Train_acc_mri: 99.6875 | Train_loss_dna: 0.1309 | Train_acc_dna: 98.4173 | Validation_loss_mri: 1.1519 | Validation_acc_mri: 78.6458 | Validation_loss_dna: 1.5330 | Validation_acc_dna: 66.1458\n"
     ]
    },
    {
     "name": "stderr",
     "output_type": "stream",
     "text": [
      " 50%|\u001b[34m█████     \u001b[0m| 5/10 [00:06<00:06,  1.28s/it]\n"
     ]
    },
    {
     "name": "stdout",
     "output_type": "stream",
     "text": [
      "\u001b[36m(DefaultActor pid=52436)\u001b[0m \tTrain Epoch: 6 \tTrain_loss_mri: 0.0376 | Train_acc_mri: 100.0000 | Train_loss_dna: 0.1177 | Train_acc_dna: 97.8125 | Validation_loss_mri: 1.5665 | Validation_acc_mri: 69.2708 | Validation_loss_dna: 0.8981 | Validation_acc_dna: 79.6875\n"
     ]
    },
    {
     "name": "stderr",
     "output_type": "stream",
     "text": [
      " 60%|\u001b[34m██████    \u001b[0m| 6/10 [00:07<00:05,  1.28s/it]\n"
     ]
    },
    {
     "name": "stdout",
     "output_type": "stream",
     "text": [
      "\u001b[36m(DefaultActor pid=52436)\u001b[0m \tTrain Epoch: 7 \tTrain_loss_mri: 0.0411 | Train_acc_mri: 99.0625 | Train_loss_dna: 0.0948 | Train_acc_dna: 97.7923 | Validation_loss_mri: 1.6233 | Validation_acc_mri: 72.3958 | Validation_loss_dna: 0.7448 | Validation_acc_dna: 79.6875\n"
     ]
    },
    {
     "name": "stderr",
     "output_type": "stream",
     "text": [
      " 70%|\u001b[34m███████   \u001b[0m| 7/10 [00:08<00:03,  1.28s/it]\n"
     ]
    },
    {
     "name": "stdout",
     "output_type": "stream",
     "text": [
      "\u001b[36m(DefaultActor pid=52436)\u001b[0m \tTrain Epoch: 8 \tTrain_loss_mri: 0.0280 | Train_acc_mri: 99.6875 | Train_loss_dna: 0.0613 | Train_acc_dna: 98.4375 | Validation_loss_mri: 1.0015 | Validation_acc_mri: 77.0833 | Validation_loss_dna: 0.4917 | Validation_acc_dna: 87.5000\n"
     ]
    },
    {
     "name": "stderr",
     "output_type": "stream",
     "text": [
      " 80%|\u001b[34m████████  \u001b[0m| 8/10 [00:10<00:02,  1.28s/it]\n"
     ]
    },
    {
     "name": "stdout",
     "output_type": "stream",
     "text": [
      "\u001b[36m(DefaultActor pid=52436)\u001b[0m \tTrain Epoch: 9 \tTrain_loss_mri: 0.0235 | Train_acc_mri: 100.0000 | Train_loss_dna: 0.0430 | Train_acc_dna: 99.6774 | Validation_loss_mri: 1.4654 | Validation_acc_mri: 73.9583 | Validation_loss_dna: 0.8670 | Validation_acc_dna: 79.6875\n"
     ]
    },
    {
     "name": "stderr",
     "output_type": "stream",
     "text": [
      " 90%|\u001b[34m█████████ \u001b[0m| 9/10 [00:11<00:01,  1.27s/it]\n"
     ]
    },
    {
     "name": "stdout",
     "output_type": "stream",
     "text": [
      "\u001b[36m(DefaultActor pid=52436)\u001b[0m \tTrain Epoch: 10 \tTrain_loss_mri: 0.0056 | Train_acc_mri: 100.0000 | Train_loss_dna: 0.0125 | Train_acc_dna: 100.0000 | Validation_loss_mri: 1.4084 | Validation_acc_mri: 77.0833 | Validation_loss_dna: 1.0166 | Validation_acc_dna: 61.4583\n",
      "\u001b[36m(DefaultActor pid=52436)\u001b[0m save graph in  results/FL_DNA+MRI/\n"
     ]
    },
    {
     "name": "stderr",
     "output_type": "stream",
     "text": [
      "100%|\u001b[34m██████████\u001b[0m| 10/10 [00:12<00:00,  1.28s/it]\n"
     ]
    },
    {
     "name": "stdout",
     "output_type": "stream",
     "text": [
      "\u001b[36m(DefaultActor pid=52436)\u001b[0m  To get the checkpoint\n",
      "\u001b[36m(DefaultActor pid=52436)\u001b[0m [Client 5, round 3] fit, config: {'learning_rate': 0.003, 'batch_size': '32', 'server_round': 3, 'local_epochs': 10}\n",
      "\u001b[36m(DefaultActor pid=52436)\u001b[0m Updated model\n"
     ]
    },
    {
     "name": "stderr",
     "output_type": "stream",
     "text": [
      "\u001b[36m(DefaultActor pid=52436)\u001b[0m /tmp/ipykernel_51903/752934157.py:10: FutureWarning: You are using `torch.load` with `weights_only=False` (the current default value), which uses the default pickle module implicitly. It is possible to construct malicious pickle data which will execute arbitrary code during unpickling (See https://github.com/pytorch/pytorch/blob/main/SECURITY.md#untrusted-models for more details). In a future release, the default value for `weights_only` will be flipped to `True`. This limits the functions that could be executed during unpickling. Arbitrary objects will no longer be allowed to be loaded via this mode unless they are explicitly allowlisted by the user via `torch.serialization.add_safe_globals`. We recommend you start setting `weights_only=True` for any use case where you don't have full control of the loaded file. Please open an issue on GitHub for any issues related to this experimental feature.\n",
      "  0%|\u001b[34m          \u001b[0m| 0/10 [00:00<?, ?it/s]\n"
     ]
    },
    {
     "name": "stdout",
     "output_type": "stream",
     "text": [
      "\u001b[36m(DefaultActor pid=52436)\u001b[0m \tTrain Epoch: 1 \tTrain_loss_mri: 0.6396 | Train_acc_mri: 77.2106 | Train_loss_dna: 0.7436 | Train_acc_dna: 70.4514 | Validation_loss_mri: 0.5108 | Validation_acc_mri: 73.9583 | Validation_loss_dna: 0.7702 | Validation_acc_dna: 85.9375\n"
     ]
    },
    {
     "name": "stderr",
     "output_type": "stream",
     "text": [
      " 10%|\u001b[34m█         \u001b[0m| 1/10 [00:01<00:11,  1.30s/it]\n"
     ]
    },
    {
     "name": "stdout",
     "output_type": "stream",
     "text": [
      "\u001b[36m(DefaultActor pid=52436)\u001b[0m \tTrain Epoch: 2 \tTrain_loss_mri: 0.2306 | Train_acc_mri: 91.8750 | Train_loss_dna: 0.6912 | Train_acc_dna: 75.6481 | Validation_loss_mri: 0.4024 | Validation_acc_mri: 89.0625 | Validation_loss_dna: 0.8400 | Validation_acc_dna: 73.4375\n"
     ]
    },
    {
     "name": "stderr",
     "output_type": "stream",
     "text": [
      " 20%|\u001b[34m██        \u001b[0m| 2/10 [00:02<00:10,  1.34s/it]\n"
     ]
    },
    {
     "name": "stdout",
     "output_type": "stream",
     "text": [
      "\u001b[36m(DefaultActor pid=52436)\u001b[0m \tTrain Epoch: 3 \tTrain_loss_mri: 0.0678 | Train_acc_mri: 98.0093 | Train_loss_dna: 0.4029 | Train_acc_dna: 89.6875 | Validation_loss_mri: 0.3937 | Validation_acc_mri: 90.6250 | Validation_loss_dna: 0.8854 | Validation_acc_dna: 58.3333\n"
     ]
    },
    {
     "name": "stderr",
     "output_type": "stream",
     "text": [
      " 30%|\u001b[34m███       \u001b[0m| 3/10 [00:03<00:09,  1.33s/it]\n"
     ]
    },
    {
     "name": "stdout",
     "output_type": "stream",
     "text": [
      "\u001b[36m(DefaultActor pid=52436)\u001b[0m \tTrain Epoch: 4 \tTrain_loss_mri: 0.0617 | Train_acc_mri: 98.7500 | Train_loss_dna: 0.1722 | Train_acc_dna: 97.1296 | Validation_loss_mri: 0.4035 | Validation_acc_mri: 93.7500 | Validation_loss_dna: 0.7484 | Validation_acc_dna: 76.5625\n"
     ]
    },
    {
     "name": "stderr",
     "output_type": "stream",
     "text": [
      " 40%|\u001b[34m████      \u001b[0m| 4/10 [00:05<00:07,  1.33s/it]\n"
     ]
    },
    {
     "name": "stdout",
     "output_type": "stream",
     "text": [
      "\u001b[36m(DefaultActor pid=52436)\u001b[0m \tTrain Epoch: 5 \tTrain_loss_mri: 0.0239 | Train_acc_mri: 99.3750 | Train_loss_dna: 0.0999 | Train_acc_dna: 97.4421 | Validation_loss_mri: 0.4388 | Validation_acc_mri: 93.7500 | Validation_loss_dna: 0.9421 | Validation_acc_dna: 58.3333\n"
     ]
    },
    {
     "name": "stderr",
     "output_type": "stream",
     "text": [
      " 50%|\u001b[34m█████     \u001b[0m| 5/10 [00:06<00:06,  1.32s/it]\n"
     ]
    },
    {
     "name": "stdout",
     "output_type": "stream",
     "text": [
      "\u001b[36m(DefaultActor pid=52436)\u001b[0m \tTrain Epoch: 6 \tTrain_loss_mri: 0.0098 | Train_acc_mri: 100.0000 | Train_loss_dna: 0.0586 | Train_acc_dna: 98.3796 | Validation_loss_mri: 0.4573 | Validation_acc_mri: 93.7500 | Validation_loss_dna: 1.1867 | Validation_acc_dna: 56.7708\n"
     ]
    },
    {
     "name": "stderr",
     "output_type": "stream",
     "text": [
      " 60%|\u001b[34m██████    \u001b[0m| 6/10 [00:07<00:05,  1.32s/it]\n"
     ]
    },
    {
     "name": "stdout",
     "output_type": "stream",
     "text": [
      "\u001b[36m(DefaultActor pid=52436)\u001b[0m \tTrain Epoch: 7 \tTrain_loss_mri: 0.0199 | Train_acc_mri: 100.0000 | Train_loss_dna: 0.0672 | Train_acc_dna: 98.3796 | Validation_loss_mri: 1.1302 | Validation_acc_mri: 69.2708 | Validation_loss_dna: 0.8944 | Validation_acc_dna: 76.5625\n"
     ]
    },
    {
     "name": "stderr",
     "output_type": "stream",
     "text": [
      " 70%|\u001b[34m███████   \u001b[0m| 7/10 [00:09<00:03,  1.32s/it]\n"
     ]
    },
    {
     "name": "stdout",
     "output_type": "stream",
     "text": [
      "\u001b[36m(DefaultActor pid=52436)\u001b[0m \tTrain Epoch: 8 \tTrain_loss_mri: 0.0269 | Train_acc_mri: 99.3750 | Train_loss_dna: 0.0363 | Train_acc_dna: 99.3750 | Validation_loss_mri: 0.6355 | Validation_acc_mri: 73.9583 | Validation_loss_dna: 0.8599 | Validation_acc_dna: 58.3333\n"
     ]
    },
    {
     "name": "stderr",
     "output_type": "stream",
     "text": [
      " 80%|\u001b[34m████████  \u001b[0m| 8/10 [00:10<00:02,  1.32s/it]\n"
     ]
    },
    {
     "name": "stdout",
     "output_type": "stream",
     "text": [
      "\u001b[36m(DefaultActor pid=52436)\u001b[0m \tTrain Epoch: 9 \tTrain_loss_mri: 0.0071 | Train_acc_mri: 100.0000 | Train_loss_dna: 0.0279 | Train_acc_dna: 99.3171 | Validation_loss_mri: 0.8398 | Validation_acc_mri: 85.9375 | Validation_loss_dna: 1.1051 | Validation_acc_dna: 75.0000\n"
     ]
    },
    {
     "name": "stderr",
     "output_type": "stream",
     "text": [
      " 90%|\u001b[34m█████████ \u001b[0m| 9/10 [00:11<00:01,  1.32s/it]\n"
     ]
    },
    {
     "name": "stdout",
     "output_type": "stream",
     "text": [
      "\u001b[36m(DefaultActor pid=52436)\u001b[0m \tTrain Epoch: 10 \tTrain_loss_mri: 0.0149 | Train_acc_mri: 99.6875 | Train_loss_dna: 0.0256 | Train_acc_dna: 99.3750 | Validation_loss_mri: 0.7749 | Validation_acc_mri: 89.0625 | Validation_loss_dna: 1.1191 | Validation_acc_dna: 58.3333\n",
      "\u001b[36m(DefaultActor pid=52436)\u001b[0m save graph in  results/FL_DNA+MRI/\n"
     ]
    },
    {
     "name": "stderr",
     "output_type": "stream",
     "text": [
      "100%|\u001b[34m██████████\u001b[0m| 10/10 [00:13<00:00,  1.33s/it]\n",
      "DEBUG flwr 2024-10-06 21:29:18,821 | server.py:236 | fit_round 3 received 10 results and 0 failures\n"
     ]
    },
    {
     "name": "stdout",
     "output_type": "stream",
     "text": [
      "Saving round 3 aggregated_parameters...\n",
      "Updated model\n"
     ]
    },
    {
     "name": "stderr",
     "output_type": "stream",
     "text": [
      "INFO flwr 2024-10-06 21:29:34,964 | server.py:125 | fit progress: (3, (1.1488333929862296, 0.869190901517868), {'accuracy': (74.73958333333333, 66.81547619047619)}, 807.8991935360245)\n",
      "DEBUG flwr 2024-10-06 21:29:34,966 | server.py:173 | evaluate_round 3: strategy sampled 10 clients (out of 10)\n"
     ]
    },
    {
     "name": "stdout",
     "output_type": "stream",
     "text": [
      "Server-side evaluation MRI loss 1.1488333929862296 / MRI accuracy 74.73958333333333\n",
      "Server-side evaluation DNA loss 0.869190901517868 / DNA accuracy 66.81547619047619\n",
      "\u001b[36m(DefaultActor pid=52436)\u001b[0m  To get the checkpoint\n",
      "\u001b[36m(DefaultActor pid=52436)\u001b[0m [Client 7] evaluate, config: {}\n",
      "\u001b[36m(DefaultActor pid=52436)\u001b[0m Updated model\n"
     ]
    },
    {
     "name": "stderr",
     "output_type": "stream",
     "text": [
      "\u001b[36m(DefaultActor pid=52436)\u001b[0m /tmp/ipykernel_51903/752934157.py:10: FutureWarning: You are using `torch.load` with `weights_only=False` (the current default value), which uses the default pickle module implicitly. It is possible to construct malicious pickle data which will execute arbitrary code during unpickling (See https://github.com/pytorch/pytorch/blob/main/SECURITY.md#untrusted-models for more details). In a future release, the default value for `weights_only` will be flipped to `True`. This limits the functions that could be executed during unpickling. Arbitrary objects will no longer be allowed to be loaded via this mode unless they are explicitly allowlisted by the user via `torch.serialization.add_safe_globals`. We recommend you start setting `weights_only=True` for any use case where you don't have full control of the loaded file. Please open an issue on GitHub for any issues related to this experimental feature.\n",
      "\u001b[36m(DefaultActor pid=52436)\u001b[0m /home/cudaq/.local/lib/python3.10/site-packages/torch/storage.py:414: FutureWarning: You are using `torch.load` with `weights_only=False` (the current default value), which uses the default pickle module implicitly. It is possible to construct malicious pickle data which will execute arbitrary code during unpickling (See https://github.com/pytorch/pytorch/blob/main/SECURITY.md#untrusted-models for more details). In a future release, the default value for `weights_only` will be flipped to `True`. This limits the functions that could be executed during unpickling. Arbitrary objects will no longer be allowed to be loaded via this mode unless they are explicitly allowlisted by the user via `torch.serialization.add_safe_globals`. We recommend you start setting `weights_only=True` for any use case where you don't have full control of the loaded file. Please open an issue on GitHub for any issues related to this experimental feature.\n",
      "\u001b[36m(DefaultActor pid=52436)\u001b[0m   return torch.load(io.BytesIO(b))\n"
     ]
    },
    {
     "name": "stdout",
     "output_type": "stream",
     "text": [
      "\u001b[36m(DefaultActor pid=52436)\u001b[0m  To get the checkpoint\n",
      "\u001b[36m(DefaultActor pid=52436)\u001b[0m [Client 5] evaluate, config: {}\n",
      "\u001b[36m(DefaultActor pid=52436)\u001b[0m Updated model\n"
     ]
    },
    {
     "name": "stderr",
     "output_type": "stream",
     "text": [
      "\u001b[36m(DefaultActor pid=52436)\u001b[0m /tmp/ipykernel_51903/752934157.py:10: FutureWarning: You are using `torch.load` with `weights_only=False` (the current default value), which uses the default pickle module implicitly. It is possible to construct malicious pickle data which will execute arbitrary code during unpickling (See https://github.com/pytorch/pytorch/blob/main/SECURITY.md#untrusted-models for more details). In a future release, the default value for `weights_only` will be flipped to `True`. This limits the functions that could be executed during unpickling. Arbitrary objects will no longer be allowed to be loaded via this mode unless they are explicitly allowlisted by the user via `torch.serialization.add_safe_globals`. We recommend you start setting `weights_only=True` for any use case where you don't have full control of the loaded file. Please open an issue on GitHub for any issues related to this experimental feature.\n",
      "\u001b[36m(DefaultActor pid=52436)\u001b[0m /home/cudaq/.local/lib/python3.10/site-packages/torch/storage.py:414: FutureWarning: You are using `torch.load` with `weights_only=False` (the current default value), which uses the default pickle module implicitly. It is possible to construct malicious pickle data which will execute arbitrary code during unpickling (See https://github.com/pytorch/pytorch/blob/main/SECURITY.md#untrusted-models for more details). In a future release, the default value for `weights_only` will be flipped to `True`. This limits the functions that could be executed during unpickling. Arbitrary objects will no longer be allowed to be loaded via this mode unless they are explicitly allowlisted by the user via `torch.serialization.add_safe_globals`. We recommend you start setting `weights_only=True` for any use case where you don't have full control of the loaded file. Please open an issue on GitHub for any issues related to this experimental feature.\n",
      "\u001b[36m(DefaultActor pid=52436)\u001b[0m   return torch.load(io.BytesIO(b))\n"
     ]
    },
    {
     "name": "stdout",
     "output_type": "stream",
     "text": [
      "\u001b[36m(DefaultActor pid=52436)\u001b[0m  To get the checkpoint\n",
      "\u001b[36m(DefaultActor pid=52436)\u001b[0m [Client 9] evaluate, config: {}\n",
      "\u001b[36m(DefaultActor pid=52436)\u001b[0m Updated model\n"
     ]
    },
    {
     "name": "stderr",
     "output_type": "stream",
     "text": [
      "\u001b[36m(DefaultActor pid=52436)\u001b[0m /tmp/ipykernel_51903/752934157.py:10: FutureWarning: You are using `torch.load` with `weights_only=False` (the current default value), which uses the default pickle module implicitly. It is possible to construct malicious pickle data which will execute arbitrary code during unpickling (See https://github.com/pytorch/pytorch/blob/main/SECURITY.md#untrusted-models for more details). In a future release, the default value for `weights_only` will be flipped to `True`. This limits the functions that could be executed during unpickling. Arbitrary objects will no longer be allowed to be loaded via this mode unless they are explicitly allowlisted by the user via `torch.serialization.add_safe_globals`. We recommend you start setting `weights_only=True` for any use case where you don't have full control of the loaded file. Please open an issue on GitHub for any issues related to this experimental feature.\n",
      "\u001b[36m(DefaultActor pid=52436)\u001b[0m /home/cudaq/.local/lib/python3.10/site-packages/sklearn/metrics/_ranking.py:1183: UndefinedMetricWarning: No positive samples in y_true, true positive value should be meaningless\n",
      "\u001b[36m(DefaultActor pid=52436)\u001b[0m   warnings.warn(\n",
      "\u001b[36m(DefaultActor pid=52436)\u001b[0m /home/cudaq/.local/lib/python3.10/site-packages/torch/storage.py:414: FutureWarning: You are using `torch.load` with `weights_only=False` (the current default value), which uses the default pickle module implicitly. It is possible to construct malicious pickle data which will execute arbitrary code during unpickling (See https://github.com/pytorch/pytorch/blob/main/SECURITY.md#untrusted-models for more details). In a future release, the default value for `weights_only` will be flipped to `True`. This limits the functions that could be executed during unpickling. Arbitrary objects will no longer be allowed to be loaded via this mode unless they are explicitly allowlisted by the user via `torch.serialization.add_safe_globals`. We recommend you start setting `weights_only=True` for any use case where you don't have full control of the loaded file. Please open an issue on GitHub for any issues related to this experimental feature.\n",
      "\u001b[36m(DefaultActor pid=52436)\u001b[0m   return torch.load(io.BytesIO(b))\n"
     ]
    },
    {
     "name": "stdout",
     "output_type": "stream",
     "text": [
      "\u001b[36m(DefaultActor pid=52436)\u001b[0m  To get the checkpoint\n",
      "\u001b[36m(DefaultActor pid=52436)\u001b[0m [Client 1] evaluate, config: {}\n",
      "\u001b[36m(DefaultActor pid=52436)\u001b[0m Updated model\n"
     ]
    },
    {
     "name": "stderr",
     "output_type": "stream",
     "text": [
      "\u001b[36m(DefaultActor pid=52436)\u001b[0m /tmp/ipykernel_51903/752934157.py:10: FutureWarning: You are using `torch.load` with `weights_only=False` (the current default value), which uses the default pickle module implicitly. It is possible to construct malicious pickle data which will execute arbitrary code during unpickling (See https://github.com/pytorch/pytorch/blob/main/SECURITY.md#untrusted-models for more details). In a future release, the default value for `weights_only` will be flipped to `True`. This limits the functions that could be executed during unpickling. Arbitrary objects will no longer be allowed to be loaded via this mode unless they are explicitly allowlisted by the user via `torch.serialization.add_safe_globals`. We recommend you start setting `weights_only=True` for any use case where you don't have full control of the loaded file. Please open an issue on GitHub for any issues related to this experimental feature.\n",
      "\u001b[36m(DefaultActor pid=52436)\u001b[0m /home/cudaq/.local/lib/python3.10/site-packages/torch/storage.py:414: FutureWarning: You are using `torch.load` with `weights_only=False` (the current default value), which uses the default pickle module implicitly. It is possible to construct malicious pickle data which will execute arbitrary code during unpickling (See https://github.com/pytorch/pytorch/blob/main/SECURITY.md#untrusted-models for more details). In a future release, the default value for `weights_only` will be flipped to `True`. This limits the functions that could be executed during unpickling. Arbitrary objects will no longer be allowed to be loaded via this mode unless they are explicitly allowlisted by the user via `torch.serialization.add_safe_globals`. We recommend you start setting `weights_only=True` for any use case where you don't have full control of the loaded file. Please open an issue on GitHub for any issues related to this experimental feature.\n",
      "\u001b[36m(DefaultActor pid=52436)\u001b[0m   return torch.load(io.BytesIO(b))\n"
     ]
    },
    {
     "name": "stdout",
     "output_type": "stream",
     "text": [
      "\u001b[36m(DefaultActor pid=52436)\u001b[0m  To get the checkpoint\n",
      "\u001b[36m(DefaultActor pid=52436)\u001b[0m [Client 4] evaluate, config: {}\n",
      "\u001b[36m(DefaultActor pid=52436)\u001b[0m Updated model\n"
     ]
    },
    {
     "name": "stderr",
     "output_type": "stream",
     "text": [
      "\u001b[36m(DefaultActor pid=52436)\u001b[0m /tmp/ipykernel_51903/752934157.py:10: FutureWarning: You are using `torch.load` with `weights_only=False` (the current default value), which uses the default pickle module implicitly. It is possible to construct malicious pickle data which will execute arbitrary code during unpickling (See https://github.com/pytorch/pytorch/blob/main/SECURITY.md#untrusted-models for more details). In a future release, the default value for `weights_only` will be flipped to `True`. This limits the functions that could be executed during unpickling. Arbitrary objects will no longer be allowed to be loaded via this mode unless they are explicitly allowlisted by the user via `torch.serialization.add_safe_globals`. We recommend you start setting `weights_only=True` for any use case where you don't have full control of the loaded file. Please open an issue on GitHub for any issues related to this experimental feature.\n",
      "\u001b[36m(DefaultActor pid=52436)\u001b[0m /home/cudaq/.local/lib/python3.10/site-packages/sklearn/metrics/_ranking.py:1183: UndefinedMetricWarning: No positive samples in y_true, true positive value should be meaningless\n",
      "\u001b[36m(DefaultActor pid=52436)\u001b[0m   warnings.warn(\n",
      "\u001b[36m(DefaultActor pid=52436)\u001b[0m /home/cudaq/.local/lib/python3.10/site-packages/torch/storage.py:414: FutureWarning: You are using `torch.load` with `weights_only=False` (the current default value), which uses the default pickle module implicitly. It is possible to construct malicious pickle data which will execute arbitrary code during unpickling (See https://github.com/pytorch/pytorch/blob/main/SECURITY.md#untrusted-models for more details). In a future release, the default value for `weights_only` will be flipped to `True`. This limits the functions that could be executed during unpickling. Arbitrary objects will no longer be allowed to be loaded via this mode unless they are explicitly allowlisted by the user via `torch.serialization.add_safe_globals`. We recommend you start setting `weights_only=True` for any use case where you don't have full control of the loaded file. Please open an issue on GitHub for any issues related to this experimental feature.\n",
      "\u001b[36m(DefaultActor pid=52436)\u001b[0m   return torch.load(io.BytesIO(b))\n"
     ]
    },
    {
     "name": "stdout",
     "output_type": "stream",
     "text": [
      "\u001b[36m(DefaultActor pid=52436)\u001b[0m  To get the checkpoint\n",
      "\u001b[36m(DefaultActor pid=52436)\u001b[0m [Client 2] evaluate, config: {}\n",
      "\u001b[36m(DefaultActor pid=52436)\u001b[0m Updated model\n"
     ]
    },
    {
     "name": "stderr",
     "output_type": "stream",
     "text": [
      "\u001b[36m(DefaultActor pid=52436)\u001b[0m /tmp/ipykernel_51903/752934157.py:10: FutureWarning: You are using `torch.load` with `weights_only=False` (the current default value), which uses the default pickle module implicitly. It is possible to construct malicious pickle data which will execute arbitrary code during unpickling (See https://github.com/pytorch/pytorch/blob/main/SECURITY.md#untrusted-models for more details). In a future release, the default value for `weights_only` will be flipped to `True`. This limits the functions that could be executed during unpickling. Arbitrary objects will no longer be allowed to be loaded via this mode unless they are explicitly allowlisted by the user via `torch.serialization.add_safe_globals`. We recommend you start setting `weights_only=True` for any use case where you don't have full control of the loaded file. Please open an issue on GitHub for any issues related to this experimental feature.\n",
      "\u001b[36m(DefaultActor pid=52436)\u001b[0m /home/cudaq/.local/lib/python3.10/site-packages/torch/storage.py:414: FutureWarning: You are using `torch.load` with `weights_only=False` (the current default value), which uses the default pickle module implicitly. It is possible to construct malicious pickle data which will execute arbitrary code during unpickling (See https://github.com/pytorch/pytorch/blob/main/SECURITY.md#untrusted-models for more details). In a future release, the default value for `weights_only` will be flipped to `True`. This limits the functions that could be executed during unpickling. Arbitrary objects will no longer be allowed to be loaded via this mode unless they are explicitly allowlisted by the user via `torch.serialization.add_safe_globals`. We recommend you start setting `weights_only=True` for any use case where you don't have full control of the loaded file. Please open an issue on GitHub for any issues related to this experimental feature.\n",
      "\u001b[36m(DefaultActor pid=52436)\u001b[0m   return torch.load(io.BytesIO(b))\n"
     ]
    },
    {
     "name": "stdout",
     "output_type": "stream",
     "text": [
      "\u001b[36m(DefaultActor pid=52436)\u001b[0m  To get the checkpoint\n",
      "\u001b[36m(DefaultActor pid=52436)\u001b[0m [Client 6] evaluate, config: {}\n",
      "\u001b[36m(DefaultActor pid=52436)\u001b[0m Updated model\n"
     ]
    },
    {
     "name": "stderr",
     "output_type": "stream",
     "text": [
      "\u001b[36m(DefaultActor pid=52436)\u001b[0m /tmp/ipykernel_51903/752934157.py:10: FutureWarning: You are using `torch.load` with `weights_only=False` (the current default value), which uses the default pickle module implicitly. It is possible to construct malicious pickle data which will execute arbitrary code during unpickling (See https://github.com/pytorch/pytorch/blob/main/SECURITY.md#untrusted-models for more details). In a future release, the default value for `weights_only` will be flipped to `True`. This limits the functions that could be executed during unpickling. Arbitrary objects will no longer be allowed to be loaded via this mode unless they are explicitly allowlisted by the user via `torch.serialization.add_safe_globals`. We recommend you start setting `weights_only=True` for any use case where you don't have full control of the loaded file. Please open an issue on GitHub for any issues related to this experimental feature.\n",
      "\u001b[36m(DefaultActor pid=52436)\u001b[0m /home/cudaq/.local/lib/python3.10/site-packages/torch/storage.py:414: FutureWarning: You are using `torch.load` with `weights_only=False` (the current default value), which uses the default pickle module implicitly. It is possible to construct malicious pickle data which will execute arbitrary code during unpickling (See https://github.com/pytorch/pytorch/blob/main/SECURITY.md#untrusted-models for more details). In a future release, the default value for `weights_only` will be flipped to `True`. This limits the functions that could be executed during unpickling. Arbitrary objects will no longer be allowed to be loaded via this mode unless they are explicitly allowlisted by the user via `torch.serialization.add_safe_globals`. We recommend you start setting `weights_only=True` for any use case where you don't have full control of the loaded file. Please open an issue on GitHub for any issues related to this experimental feature.\n",
      "\u001b[36m(DefaultActor pid=52436)\u001b[0m   return torch.load(io.BytesIO(b))\n"
     ]
    },
    {
     "name": "stdout",
     "output_type": "stream",
     "text": [
      "\u001b[36m(DefaultActor pid=52436)\u001b[0m  To get the checkpoint\n",
      "\u001b[36m(DefaultActor pid=52436)\u001b[0m [Client 0] evaluate, config: {}\n"
     ]
    },
    {
     "name": "stderr",
     "output_type": "stream",
     "text": [
      "\u001b[36m(DefaultActor pid=52436)\u001b[0m /tmp/ipykernel_51903/752934157.py:10: FutureWarning: You are using `torch.load` with `weights_only=False` (the current default value), which uses the default pickle module implicitly. It is possible to construct malicious pickle data which will execute arbitrary code during unpickling (See https://github.com/pytorch/pytorch/blob/main/SECURITY.md#untrusted-models for more details). In a future release, the default value for `weights_only` will be flipped to `True`. This limits the functions that could be executed during unpickling. Arbitrary objects will no longer be allowed to be loaded via this mode unless they are explicitly allowlisted by the user via `torch.serialization.add_safe_globals`. We recommend you start setting `weights_only=True` for any use case where you don't have full control of the loaded file. Please open an issue on GitHub for any issues related to this experimental feature.\n"
     ]
    },
    {
     "name": "stdout",
     "output_type": "stream",
     "text": [
      "\u001b[36m(DefaultActor pid=52436)\u001b[0m Updated model\n"
     ]
    },
    {
     "name": "stderr",
     "output_type": "stream",
     "text": [
      "\u001b[36m(DefaultActor pid=52436)\u001b[0m /home/cudaq/.local/lib/python3.10/site-packages/torch/storage.py:414: FutureWarning: You are using `torch.load` with `weights_only=False` (the current default value), which uses the default pickle module implicitly. It is possible to construct malicious pickle data which will execute arbitrary code during unpickling (See https://github.com/pytorch/pytorch/blob/main/SECURITY.md#untrusted-models for more details). In a future release, the default value for `weights_only` will be flipped to `True`. This limits the functions that could be executed during unpickling. Arbitrary objects will no longer be allowed to be loaded via this mode unless they are explicitly allowlisted by the user via `torch.serialization.add_safe_globals`. We recommend you start setting `weights_only=True` for any use case where you don't have full control of the loaded file. Please open an issue on GitHub for any issues related to this experimental feature.\n",
      "\u001b[36m(DefaultActor pid=52436)\u001b[0m   return torch.load(io.BytesIO(b))\n"
     ]
    },
    {
     "name": "stdout",
     "output_type": "stream",
     "text": [
      "\u001b[36m(DefaultActor pid=52436)\u001b[0m  To get the checkpoint\n",
      "\u001b[36m(DefaultActor pid=52436)\u001b[0m [Client 3] evaluate, config: {}\n",
      "\u001b[36m(DefaultActor pid=52436)\u001b[0m Updated model\n"
     ]
    },
    {
     "name": "stderr",
     "output_type": "stream",
     "text": [
      "\u001b[36m(DefaultActor pid=52436)\u001b[0m /tmp/ipykernel_51903/752934157.py:10: FutureWarning: You are using `torch.load` with `weights_only=False` (the current default value), which uses the default pickle module implicitly. It is possible to construct malicious pickle data which will execute arbitrary code during unpickling (See https://github.com/pytorch/pytorch/blob/main/SECURITY.md#untrusted-models for more details). In a future release, the default value for `weights_only` will be flipped to `True`. This limits the functions that could be executed during unpickling. Arbitrary objects will no longer be allowed to be loaded via this mode unless they are explicitly allowlisted by the user via `torch.serialization.add_safe_globals`. We recommend you start setting `weights_only=True` for any use case where you don't have full control of the loaded file. Please open an issue on GitHub for any issues related to this experimental feature.\n",
      "\u001b[36m(DefaultActor pid=52436)\u001b[0m /home/cudaq/.local/lib/python3.10/site-packages/torch/storage.py:414: FutureWarning: You are using `torch.load` with `weights_only=False` (the current default value), which uses the default pickle module implicitly. It is possible to construct malicious pickle data which will execute arbitrary code during unpickling (See https://github.com/pytorch/pytorch/blob/main/SECURITY.md#untrusted-models for more details). In a future release, the default value for `weights_only` will be flipped to `True`. This limits the functions that could be executed during unpickling. Arbitrary objects will no longer be allowed to be loaded via this mode unless they are explicitly allowlisted by the user via `torch.serialization.add_safe_globals`. We recommend you start setting `weights_only=True` for any use case where you don't have full control of the loaded file. Please open an issue on GitHub for any issues related to this experimental feature.\n",
      "\u001b[36m(DefaultActor pid=52436)\u001b[0m   return torch.load(io.BytesIO(b))\n"
     ]
    },
    {
     "name": "stdout",
     "output_type": "stream",
     "text": [
      "\u001b[36m(DefaultActor pid=52436)\u001b[0m  To get the checkpoint\n",
      "\u001b[36m(DefaultActor pid=52436)\u001b[0m [Client 8] evaluate, config: {}\n",
      "\u001b[36m(DefaultActor pid=52436)\u001b[0m Updated model\n"
     ]
    },
    {
     "name": "stderr",
     "output_type": "stream",
     "text": [
      "\u001b[36m(DefaultActor pid=52436)\u001b[0m /tmp/ipykernel_51903/752934157.py:10: FutureWarning: You are using `torch.load` with `weights_only=False` (the current default value), which uses the default pickle module implicitly. It is possible to construct malicious pickle data which will execute arbitrary code during unpickling (See https://github.com/pytorch/pytorch/blob/main/SECURITY.md#untrusted-models for more details). In a future release, the default value for `weights_only` will be flipped to `True`. This limits the functions that could be executed during unpickling. Arbitrary objects will no longer be allowed to be loaded via this mode unless they are explicitly allowlisted by the user via `torch.serialization.add_safe_globals`. We recommend you start setting `weights_only=True` for any use case where you don't have full control of the loaded file. Please open an issue on GitHub for any issues related to this experimental feature.\n",
      "\u001b[36m(DefaultActor pid=52436)\u001b[0m /home/cudaq/.local/lib/python3.10/site-packages/sklearn/metrics/_ranking.py:1183: UndefinedMetricWarning: No positive samples in y_true, true positive value should be meaningless\n",
      "\u001b[36m(DefaultActor pid=52436)\u001b[0m   warnings.warn(\n",
      "DEBUG flwr 2024-10-06 21:30:44,520 | server.py:187 | evaluate_round 3 received 10 results and 0 failures\n",
      "DEBUG flwr 2024-10-06 21:30:44,521 | server.py:222 | fit_round 4: strategy sampled 10 clients (out of 10)\n",
      "\u001b[36m(DefaultActor pid=52436)\u001b[0m /home/cudaq/.local/lib/python3.10/site-packages/torch/storage.py:414: FutureWarning: You are using `torch.load` with `weights_only=False` (the current default value), which uses the default pickle module implicitly. It is possible to construct malicious pickle data which will execute arbitrary code during unpickling (See https://github.com/pytorch/pytorch/blob/main/SECURITY.md#untrusted-models for more details). In a future release, the default value for `weights_only` will be flipped to `True`. This limits the functions that could be executed during unpickling. Arbitrary objects will no longer be allowed to be loaded via this mode unless they are explicitly allowlisted by the user via `torch.serialization.add_safe_globals`. We recommend you start setting `weights_only=True` for any use case where you don't have full control of the loaded file. Please open an issue on GitHub for any issues related to this experimental feature.\n",
      "\u001b[36m(DefaultActor pid=52436)\u001b[0m   return torch.load(io.BytesIO(b))\n"
     ]
    },
    {
     "name": "stdout",
     "output_type": "stream",
     "text": [
      "\u001b[36m(DefaultActor pid=52436)\u001b[0m  To get the checkpoint\n",
      "\u001b[36m(DefaultActor pid=52436)\u001b[0m [Client 0, round 4] fit, config: {'learning_rate': 0.003, 'batch_size': '32', 'server_round': 4, 'local_epochs': 10}\n",
      "\u001b[36m(DefaultActor pid=52436)\u001b[0m Updated model\n"
     ]
    },
    {
     "name": "stderr",
     "output_type": "stream",
     "text": [
      "\u001b[36m(DefaultActor pid=52436)\u001b[0m /tmp/ipykernel_51903/752934157.py:10: FutureWarning: You are using `torch.load` with `weights_only=False` (the current default value), which uses the default pickle module implicitly. It is possible to construct malicious pickle data which will execute arbitrary code during unpickling (See https://github.com/pytorch/pytorch/blob/main/SECURITY.md#untrusted-models for more details). In a future release, the default value for `weights_only` will be flipped to `True`. This limits the functions that could be executed during unpickling. Arbitrary objects will no longer be allowed to be loaded via this mode unless they are explicitly allowlisted by the user via `torch.serialization.add_safe_globals`. We recommend you start setting `weights_only=True` for any use case where you don't have full control of the loaded file. Please open an issue on GitHub for any issues related to this experimental feature.\n",
      "  0%|\u001b[34m          \u001b[0m| 0/10 [00:00<?, ?it/s]\n"
     ]
    },
    {
     "name": "stdout",
     "output_type": "stream",
     "text": [
      "\u001b[36m(DefaultActor pid=52436)\u001b[0m \tTrain Epoch: 1 \tTrain_loss_mri: 0.5732 | Train_acc_mri: 80.9606 | Train_loss_dna: 0.3905 | Train_acc_dna: 85.7060 | Validation_loss_mri: 0.9997 | Validation_acc_mri: 63.0208 | Validation_loss_dna: 1.8843 | Validation_acc_dna: 57.2917\n"
     ]
    },
    {
     "name": "stderr",
     "output_type": "stream",
     "text": [
      " 10%|\u001b[34m█         \u001b[0m| 1/10 [00:01<00:11,  1.26s/it]\n"
     ]
    },
    {
     "name": "stdout",
     "output_type": "stream",
     "text": [
      "\u001b[36m(DefaultActor pid=52436)\u001b[0m \tTrain Epoch: 2 \tTrain_loss_mri: 0.1314 | Train_acc_mri: 95.9375 | Train_loss_dna: 0.3882 | Train_acc_dna: 89.7106 | Validation_loss_mri: 1.0213 | Validation_acc_mri: 66.1458 | Validation_loss_dna: 1.5322 | Validation_acc_dna: 49.4792\n"
     ]
    },
    {
     "name": "stderr",
     "output_type": "stream",
     "text": [
      " 20%|\u001b[34m██        \u001b[0m| 2/10 [00:02<00:10,  1.26s/it]\n"
     ]
    },
    {
     "name": "stdout",
     "output_type": "stream",
     "text": [
      "\u001b[36m(DefaultActor pid=52436)\u001b[0m \tTrain Epoch: 3 \tTrain_loss_mri: 0.0558 | Train_acc_mri: 99.0625 | Train_loss_dna: 0.1521 | Train_acc_dna: 97.1875 | Validation_loss_mri: 1.7876 | Validation_acc_mri: 63.0208 | Validation_loss_dna: 2.6034 | Validation_acc_dna: 35.9375\n"
     ]
    },
    {
     "name": "stderr",
     "output_type": "stream",
     "text": [
      " 30%|\u001b[34m███       \u001b[0m| 3/10 [00:03<00:08,  1.26s/it]\n"
     ]
    },
    {
     "name": "stdout",
     "output_type": "stream",
     "text": [
      "\u001b[36m(DefaultActor pid=52436)\u001b[0m \tTrain Epoch: 4 \tTrain_loss_mri: 0.0204 | Train_acc_mri: 100.0000 | Train_loss_dna: 0.0542 | Train_acc_dna: 99.6875 | Validation_loss_mri: 1.9354 | Validation_acc_mri: 66.1458 | Validation_loss_dna: 2.6879 | Validation_acc_dna: 35.9375\n"
     ]
    },
    {
     "name": "stderr",
     "output_type": "stream",
     "text": [
      " 40%|\u001b[34m████      \u001b[0m| 4/10 [00:04<00:07,  1.24s/it]\n"
     ]
    },
    {
     "name": "stdout",
     "output_type": "stream",
     "text": [
      "\u001b[36m(DefaultActor pid=52436)\u001b[0m \tTrain Epoch: 5 \tTrain_loss_mri: 0.0059 | Train_acc_mri: 100.0000 | Train_loss_dna: 0.0323 | Train_acc_dna: 99.3750 | Validation_loss_mri: 2.2802 | Validation_acc_mri: 63.0208 | Validation_loss_dna: 2.8081 | Validation_acc_dna: 35.9375\n"
     ]
    },
    {
     "name": "stderr",
     "output_type": "stream",
     "text": [
      " 50%|\u001b[34m█████     \u001b[0m| 5/10 [00:06<00:06,  1.24s/it]\n"
     ]
    },
    {
     "name": "stdout",
     "output_type": "stream",
     "text": [
      "\u001b[36m(DefaultActor pid=52436)\u001b[0m \tTrain Epoch: 6 \tTrain_loss_mri: 0.0037 | Train_acc_mri: 100.0000 | Train_loss_dna: 0.0150 | Train_acc_dna: 99.3750 | Validation_loss_mri: 2.0033 | Validation_acc_mri: 69.2708 | Validation_loss_dna: 2.4268 | Validation_acc_dna: 32.8125\n"
     ]
    },
    {
     "name": "stderr",
     "output_type": "stream",
     "text": [
      " 60%|\u001b[34m██████    \u001b[0m| 6/10 [00:07<00:04,  1.25s/it]\n"
     ]
    },
    {
     "name": "stdout",
     "output_type": "stream",
     "text": [
      "\u001b[36m(DefaultActor pid=52436)\u001b[0m \tTrain Epoch: 7 \tTrain_loss_mri: 0.0038 | Train_acc_mri: 100.0000 | Train_loss_dna: 0.0793 | Train_acc_dna: 98.6921 | Validation_loss_mri: 1.8980 | Validation_acc_mri: 67.7083 | Validation_loss_dna: 2.7727 | Validation_acc_dna: 34.3750\n"
     ]
    },
    {
     "name": "stderr",
     "output_type": "stream",
     "text": [
      " 70%|\u001b[34m███████   \u001b[0m| 7/10 [00:08<00:03,  1.25s/it]\n"
     ]
    },
    {
     "name": "stdout",
     "output_type": "stream",
     "text": [
      "\u001b[36m(DefaultActor pid=52436)\u001b[0m \tTrain Epoch: 8 \tTrain_loss_mri: 0.0037 | Train_acc_mri: 100.0000 | Train_loss_dna: 0.0279 | Train_acc_dna: 99.0046 | Validation_loss_mri: 2.3904 | Validation_acc_mri: 67.7083 | Validation_loss_dna: 2.6017 | Validation_acc_dna: 51.0417\n"
     ]
    },
    {
     "name": "stderr",
     "output_type": "stream",
     "text": [
      " 80%|\u001b[34m████████  \u001b[0m| 8/10 [00:10<00:02,  1.26s/it]\n"
     ]
    },
    {
     "name": "stdout",
     "output_type": "stream",
     "text": [
      "\u001b[36m(DefaultActor pid=52436)\u001b[0m \tTrain Epoch: 9 \tTrain_loss_mri: 0.0026 | Train_acc_mri: 100.0000 | Train_loss_dna: 0.0135 | Train_acc_dna: 99.6875 | Validation_loss_mri: 2.1264 | Validation_acc_mri: 66.1458 | Validation_loss_dna: 2.8378 | Validation_acc_dna: 39.0625\n"
     ]
    },
    {
     "name": "stderr",
     "output_type": "stream",
     "text": [
      " 90%|\u001b[34m█████████ \u001b[0m| 9/10 [00:11<00:01,  1.26s/it]\n"
     ]
    },
    {
     "name": "stdout",
     "output_type": "stream",
     "text": [
      "\u001b[36m(DefaultActor pid=52436)\u001b[0m \tTrain Epoch: 10 \tTrain_loss_mri: 0.0084 | Train_acc_mri: 100.0000 | Train_loss_dna: 0.0169 | Train_acc_dna: 100.0000 | Validation_loss_mri: 2.6465 | Validation_acc_mri: 64.5833 | Validation_loss_dna: 2.7024 | Validation_acc_dna: 35.9375\n",
      "\u001b[36m(DefaultActor pid=52436)\u001b[0m save graph in  results/FL_DNA+MRI/\n"
     ]
    },
    {
     "name": "stderr",
     "output_type": "stream",
     "text": [
      "100%|\u001b[34m██████████\u001b[0m| 10/10 [00:12<00:00,  1.25s/it]\n"
     ]
    },
    {
     "name": "stdout",
     "output_type": "stream",
     "text": [
      "\u001b[36m(DefaultActor pid=52436)\u001b[0m  To get the checkpoint\n",
      "\u001b[36m(DefaultActor pid=52436)\u001b[0m [Client 9, round 4] fit, config: {'learning_rate': 0.003, 'batch_size': '32', 'server_round': 4, 'local_epochs': 10}\n",
      "\u001b[36m(DefaultActor pid=52436)\u001b[0m Updated model\n"
     ]
    },
    {
     "name": "stderr",
     "output_type": "stream",
     "text": [
      "\u001b[36m(DefaultActor pid=52436)\u001b[0m /tmp/ipykernel_51903/752934157.py:10: FutureWarning: You are using `torch.load` with `weights_only=False` (the current default value), which uses the default pickle module implicitly. It is possible to construct malicious pickle data which will execute arbitrary code during unpickling (See https://github.com/pytorch/pytorch/blob/main/SECURITY.md#untrusted-models for more details). In a future release, the default value for `weights_only` will be flipped to `True`. This limits the functions that could be executed during unpickling. Arbitrary objects will no longer be allowed to be loaded via this mode unless they are explicitly allowlisted by the user via `torch.serialization.add_safe_globals`. We recommend you start setting `weights_only=True` for any use case where you don't have full control of the loaded file. Please open an issue on GitHub for any issues related to this experimental feature.\n",
      "  0%|\u001b[34m          \u001b[0m| 0/10 [00:00<?, ?it/s]\n"
     ]
    },
    {
     "name": "stdout",
     "output_type": "stream",
     "text": [
      "\u001b[36m(DefaultActor pid=52436)\u001b[0m \tTrain Epoch: 1 \tTrain_loss_mri: 0.4241 | Train_acc_mri: 85.2419 | Train_loss_dna: 0.4226 | Train_acc_dna: 85.9173 | Validation_loss_mri: 0.8387 | Validation_acc_mri: 75.5208 | Validation_loss_dna: 0.5357 | Validation_acc_dna: 75.5208\n"
     ]
    },
    {
     "name": "stderr",
     "output_type": "stream",
     "text": [
      " 10%|\u001b[34m█         \u001b[0m| 1/10 [00:01<00:11,  1.30s/it]\n"
     ]
    },
    {
     "name": "stdout",
     "output_type": "stream",
     "text": [
      "\u001b[36m(DefaultActor pid=52436)\u001b[0m \tTrain Epoch: 2 \tTrain_loss_mri: 0.1988 | Train_acc_mri: 93.4375 | Train_loss_dna: 0.3580 | Train_acc_dna: 88.1250 | Validation_loss_mri: 1.0924 | Validation_acc_mri: 77.0833 | Validation_loss_dna: 0.9246 | Validation_acc_dna: 58.3333\n"
     ]
    },
    {
     "name": "stderr",
     "output_type": "stream",
     "text": [
      " 20%|\u001b[34m██        \u001b[0m| 2/10 [00:02<00:10,  1.30s/it]\n"
     ]
    },
    {
     "name": "stdout",
     "output_type": "stream",
     "text": [
      "\u001b[36m(DefaultActor pid=52436)\u001b[0m \tTrain Epoch: 3 \tTrain_loss_mri: 0.0552 | Train_acc_mri: 98.7500 | Train_loss_dna: 0.1671 | Train_acc_dna: 96.5625 | Validation_loss_mri: 0.8294 | Validation_acc_mri: 77.0833 | Validation_loss_dna: 0.4636 | Validation_acc_dna: 85.9375\n"
     ]
    },
    {
     "name": "stderr",
     "output_type": "stream",
     "text": [
      " 30%|\u001b[34m███       \u001b[0m| 3/10 [00:03<00:09,  1.31s/it]\n"
     ]
    },
    {
     "name": "stdout",
     "output_type": "stream",
     "text": [
      "\u001b[36m(DefaultActor pid=52436)\u001b[0m \tTrain Epoch: 4 \tTrain_loss_mri: 0.0351 | Train_acc_mri: 99.3750 | Train_loss_dna: 0.0542 | Train_acc_dna: 98.7399 | Validation_loss_mri: 1.6541 | Validation_acc_mri: 72.3958 | Validation_loss_dna: 0.9594 | Validation_acc_dna: 58.3333\n"
     ]
    },
    {
     "name": "stderr",
     "output_type": "stream",
     "text": [
      " 40%|\u001b[34m████      \u001b[0m| 4/10 [00:05<00:07,  1.30s/it]\n"
     ]
    },
    {
     "name": "stdout",
     "output_type": "stream",
     "text": [
      "\u001b[36m(DefaultActor pid=52436)\u001b[0m \tTrain Epoch: 5 \tTrain_loss_mri: 0.0111 | Train_acc_mri: 100.0000 | Train_loss_dna: 0.0246 | Train_acc_dna: 99.6875 | Validation_loss_mri: 1.2919 | Validation_acc_mri: 78.6458 | Validation_loss_dna: 0.4614 | Validation_acc_dna: 85.9375\n"
     ]
    },
    {
     "name": "stderr",
     "output_type": "stream",
     "text": [
      " 50%|\u001b[34m█████     \u001b[0m| 5/10 [00:06<00:06,  1.32s/it]\n"
     ]
    },
    {
     "name": "stdout",
     "output_type": "stream",
     "text": [
      "\u001b[36m(DefaultActor pid=52436)\u001b[0m \tTrain Epoch: 6 \tTrain_loss_mri: 0.0039 | Train_acc_mri: 100.0000 | Train_loss_dna: 0.0105 | Train_acc_dna: 100.0000 | Validation_loss_mri: 1.6028 | Validation_acc_mri: 75.5208 | Validation_loss_dna: 0.6856 | Validation_acc_dna: 81.2500\n"
     ]
    },
    {
     "name": "stderr",
     "output_type": "stream",
     "text": [
      " 60%|\u001b[34m██████    \u001b[0m| 6/10 [00:07<00:05,  1.33s/it]\n"
     ]
    },
    {
     "name": "stdout",
     "output_type": "stream",
     "text": [
      "\u001b[36m(DefaultActor pid=52436)\u001b[0m \tTrain Epoch: 7 \tTrain_loss_mri: 0.0017 | Train_acc_mri: 100.0000 | Train_loss_dna: 0.0042 | Train_acc_dna: 100.0000 | Validation_loss_mri: 1.7584 | Validation_acc_mri: 75.5208 | Validation_loss_dna: 0.9605 | Validation_acc_dna: 59.8958\n"
     ]
    },
    {
     "name": "stderr",
     "output_type": "stream",
     "text": [
      " 70%|\u001b[34m███████   \u001b[0m| 7/10 [00:09<00:04,  1.33s/it]\n"
     ]
    },
    {
     "name": "stdout",
     "output_type": "stream",
     "text": [
      "\u001b[36m(DefaultActor pid=52436)\u001b[0m \tTrain Epoch: 8 \tTrain_loss_mri: 0.0007 | Train_acc_mri: 100.0000 | Train_loss_dna: 0.0023 | Train_acc_dna: 100.0000 | Validation_loss_mri: 1.7547 | Validation_acc_mri: 77.0833 | Validation_loss_dna: 0.9117 | Validation_acc_dna: 76.5625\n"
     ]
    },
    {
     "name": "stderr",
     "output_type": "stream",
     "text": [
      " 80%|\u001b[34m████████  \u001b[0m| 8/10 [00:10<00:02,  1.33s/it]\n"
     ]
    },
    {
     "name": "stdout",
     "output_type": "stream",
     "text": [
      "\u001b[36m(DefaultActor pid=52436)\u001b[0m \tTrain Epoch: 9 \tTrain_loss_mri: 0.0006 | Train_acc_mri: 100.0000 | Train_loss_dna: 0.0014 | Train_acc_dna: 100.0000 | Validation_loss_mri: 1.7818 | Validation_acc_mri: 77.0833 | Validation_loss_dna: 0.8926 | Validation_acc_dna: 75.0000\n"
     ]
    },
    {
     "name": "stderr",
     "output_type": "stream",
     "text": [
      " 90%|\u001b[34m█████████ \u001b[0m| 9/10 [00:11<00:01,  1.35s/it]\n"
     ]
    },
    {
     "name": "stdout",
     "output_type": "stream",
     "text": [
      "\u001b[36m(DefaultActor pid=52436)\u001b[0m \tTrain Epoch: 10 \tTrain_loss_mri: 0.0004 | Train_acc_mri: 100.0000 | Train_loss_dna: 0.0010 | Train_acc_dna: 100.0000 | Validation_loss_mri: 1.8426 | Validation_acc_mri: 75.5208 | Validation_loss_dna: 0.9564 | Validation_acc_dna: 75.0000\n",
      "\u001b[36m(DefaultActor pid=52436)\u001b[0m save graph in  results/FL_DNA+MRI/\n"
     ]
    },
    {
     "name": "stderr",
     "output_type": "stream",
     "text": [
      "100%|\u001b[34m██████████\u001b[0m| 10/10 [00:13<00:00,  1.33s/it]\n"
     ]
    },
    {
     "name": "stdout",
     "output_type": "stream",
     "text": [
      "\u001b[36m(DefaultActor pid=52436)\u001b[0m  To get the checkpoint\n",
      "\u001b[36m(DefaultActor pid=52436)\u001b[0m [Client 4, round 4] fit, config: {'learning_rate': 0.003, 'batch_size': '32', 'server_round': 4, 'local_epochs': 10}\n",
      "\u001b[36m(DefaultActor pid=52436)\u001b[0m Updated model\n"
     ]
    },
    {
     "name": "stderr",
     "output_type": "stream",
     "text": [
      "\u001b[36m(DefaultActor pid=52436)\u001b[0m /tmp/ipykernel_51903/752934157.py:10: FutureWarning: You are using `torch.load` with `weights_only=False` (the current default value), which uses the default pickle module implicitly. It is possible to construct malicious pickle data which will execute arbitrary code during unpickling (See https://github.com/pytorch/pytorch/blob/main/SECURITY.md#untrusted-models for more details). In a future release, the default value for `weights_only` will be flipped to `True`. This limits the functions that could be executed during unpickling. Arbitrary objects will no longer be allowed to be loaded via this mode unless they are explicitly allowlisted by the user via `torch.serialization.add_safe_globals`. We recommend you start setting `weights_only=True` for any use case where you don't have full control of the loaded file. Please open an issue on GitHub for any issues related to this experimental feature.\n",
      "  0%|\u001b[34m          \u001b[0m| 0/10 [00:00<?, ?it/s]\n"
     ]
    },
    {
     "name": "stdout",
     "output_type": "stream",
     "text": [
      "\u001b[36m(DefaultActor pid=52436)\u001b[0m \tTrain Epoch: 1 \tTrain_loss_mri: 0.5651 | Train_acc_mri: 81.5856 | Train_loss_dna: 0.3870 | Train_acc_dna: 85.3935 | Validation_loss_mri: 0.4410 | Validation_acc_mri: 75.5208 | Validation_loss_dna: 0.9966 | Validation_acc_dna: 55.7292\n"
     ]
    },
    {
     "name": "stderr",
     "output_type": "stream",
     "text": [
      " 10%|\u001b[34m█         \u001b[0m| 1/10 [00:01<00:11,  1.29s/it]\n"
     ]
    },
    {
     "name": "stdout",
     "output_type": "stream",
     "text": [
      "\u001b[36m(DefaultActor pid=52436)\u001b[0m \tTrain Epoch: 2 \tTrain_loss_mri: 0.1340 | Train_acc_mri: 95.3125 | Train_loss_dna: 0.3860 | Train_acc_dna: 90.0231 | Validation_loss_mri: 0.4600 | Validation_acc_mri: 77.0833 | Validation_loss_dna: 0.8000 | Validation_acc_dna: 52.6042\n"
     ]
    },
    {
     "name": "stderr",
     "output_type": "stream",
     "text": [
      " 20%|\u001b[34m██        \u001b[0m| 2/10 [00:02<00:10,  1.28s/it]\n"
     ]
    },
    {
     "name": "stdout",
     "output_type": "stream",
     "text": [
      "\u001b[36m(DefaultActor pid=52436)\u001b[0m \tTrain Epoch: 3 \tTrain_loss_mri: 0.0471 | Train_acc_mri: 98.4375 | Train_loss_dna: 0.1366 | Train_acc_dna: 97.5000 | Validation_loss_mri: 1.1182 | Validation_acc_mri: 72.3958 | Validation_loss_dna: 0.9518 | Validation_acc_dna: 64.5833\n"
     ]
    },
    {
     "name": "stderr",
     "output_type": "stream",
     "text": [
      " 30%|\u001b[34m███       \u001b[0m| 3/10 [00:03<00:08,  1.27s/it]\n"
     ]
    },
    {
     "name": "stdout",
     "output_type": "stream",
     "text": [
      "\u001b[36m(DefaultActor pid=52436)\u001b[0m \tTrain Epoch: 4 \tTrain_loss_mri: 0.0253 | Train_acc_mri: 100.0000 | Train_loss_dna: 0.0886 | Train_acc_dna: 98.4375 | Validation_loss_mri: 1.3029 | Validation_acc_mri: 75.5208 | Validation_loss_dna: 1.0126 | Validation_acc_dna: 55.7292\n"
     ]
    },
    {
     "name": "stderr",
     "output_type": "stream",
     "text": [
      " 40%|\u001b[34m████      \u001b[0m| 4/10 [00:05<00:07,  1.28s/it]\n"
     ]
    },
    {
     "name": "stdout",
     "output_type": "stream",
     "text": [
      "\u001b[36m(DefaultActor pid=52436)\u001b[0m \tTrain Epoch: 5 \tTrain_loss_mri: 0.0198 | Train_acc_mri: 99.6875 | Train_loss_dna: 0.0469 | Train_acc_dna: 99.3750 | Validation_loss_mri: 0.9524 | Validation_acc_mri: 77.0833 | Validation_loss_dna: 0.6296 | Validation_acc_dna: 72.3958\n"
     ]
    },
    {
     "name": "stderr",
     "output_type": "stream",
     "text": [
      " 50%|\u001b[34m█████     \u001b[0m| 5/10 [00:06<00:06,  1.29s/it]\n"
     ]
    },
    {
     "name": "stdout",
     "output_type": "stream",
     "text": [
      "\u001b[36m(DefaultActor pid=52436)\u001b[0m \tTrain Epoch: 6 \tTrain_loss_mri: 0.0193 | Train_acc_mri: 100.0000 | Train_loss_dna: 0.0184 | Train_acc_dna: 100.0000 | Validation_loss_mri: 1.7137 | Validation_acc_mri: 69.2708 | Validation_loss_dna: 0.8515 | Validation_acc_dna: 66.1458\n"
     ]
    },
    {
     "name": "stderr",
     "output_type": "stream",
     "text": [
      " 60%|\u001b[34m██████    \u001b[0m| 6/10 [00:07<00:05,  1.29s/it]\n"
     ]
    },
    {
     "name": "stdout",
     "output_type": "stream",
     "text": [
      "\u001b[36m(DefaultActor pid=52436)\u001b[0m \tTrain Epoch: 7 \tTrain_loss_mri: 0.0070 | Train_acc_mri: 100.0000 | Train_loss_dna: 0.0102 | Train_acc_dna: 100.0000 | Validation_loss_mri: 1.7859 | Validation_acc_mri: 70.8333 | Validation_loss_dna: 0.9905 | Validation_acc_dna: 51.0417\n"
     ]
    },
    {
     "name": "stderr",
     "output_type": "stream",
     "text": [
      " 70%|\u001b[34m███████   \u001b[0m| 7/10 [00:09<00:03,  1.29s/it]\n"
     ]
    },
    {
     "name": "stdout",
     "output_type": "stream",
     "text": [
      "\u001b[36m(DefaultActor pid=52436)\u001b[0m \tTrain Epoch: 8 \tTrain_loss_mri: 0.0024 | Train_acc_mri: 100.0000 | Train_loss_dna: 0.0040 | Train_acc_dna: 100.0000 | Validation_loss_mri: 1.5468 | Validation_acc_mri: 72.3958 | Validation_loss_dna: 1.0346 | Validation_acc_dna: 51.0417\n"
     ]
    },
    {
     "name": "stderr",
     "output_type": "stream",
     "text": [
      " 80%|\u001b[34m████████  \u001b[0m| 8/10 [00:10<00:02,  1.29s/it]\n"
     ]
    },
    {
     "name": "stdout",
     "output_type": "stream",
     "text": [
      "\u001b[36m(DefaultActor pid=52436)\u001b[0m \tTrain Epoch: 9 \tTrain_loss_mri: 0.0014 | Train_acc_mri: 100.0000 | Train_loss_dna: 0.0022 | Train_acc_dna: 100.0000 | Validation_loss_mri: 1.7708 | Validation_acc_mri: 72.3958 | Validation_loss_dna: 1.1577 | Validation_acc_dna: 49.4792\n"
     ]
    },
    {
     "name": "stderr",
     "output_type": "stream",
     "text": [
      " 90%|\u001b[34m█████████ \u001b[0m| 9/10 [00:11<00:01,  1.29s/it]\n"
     ]
    },
    {
     "name": "stdout",
     "output_type": "stream",
     "text": [
      "\u001b[36m(DefaultActor pid=52436)\u001b[0m \tTrain Epoch: 10 \tTrain_loss_mri: 0.0006 | Train_acc_mri: 100.0000 | Train_loss_dna: 0.0015 | Train_acc_dna: 100.0000 | Validation_loss_mri: 1.9570 | Validation_acc_mri: 72.3958 | Validation_loss_dna: 1.2773 | Validation_acc_dna: 47.9167\n",
      "\u001b[36m(DefaultActor pid=52436)\u001b[0m save graph in  results/FL_DNA+MRI/\n"
     ]
    },
    {
     "name": "stderr",
     "output_type": "stream",
     "text": [
      "100%|\u001b[34m██████████\u001b[0m| 10/10 [00:12<00:00,  1.29s/it]\n"
     ]
    },
    {
     "name": "stdout",
     "output_type": "stream",
     "text": [
      "\u001b[36m(DefaultActor pid=52436)\u001b[0m  To get the checkpoint\n",
      "\u001b[36m(DefaultActor pid=52436)\u001b[0m [Client 8, round 4] fit, config: {'learning_rate': 0.003, 'batch_size': '32', 'server_round': 4, 'local_epochs': 10}\n",
      "\u001b[36m(DefaultActor pid=52436)\u001b[0m Updated model\n"
     ]
    },
    {
     "name": "stderr",
     "output_type": "stream",
     "text": [
      "\u001b[36m(DefaultActor pid=52436)\u001b[0m /tmp/ipykernel_51903/752934157.py:10: FutureWarning: You are using `torch.load` with `weights_only=False` (the current default value), which uses the default pickle module implicitly. It is possible to construct malicious pickle data which will execute arbitrary code during unpickling (See https://github.com/pytorch/pytorch/blob/main/SECURITY.md#untrusted-models for more details). In a future release, the default value for `weights_only` will be flipped to `True`. This limits the functions that could be executed during unpickling. Arbitrary objects will no longer be allowed to be loaded via this mode unless they are explicitly allowlisted by the user via `torch.serialization.add_safe_globals`. We recommend you start setting `weights_only=True` for any use case where you don't have full control of the loaded file. Please open an issue on GitHub for any issues related to this experimental feature.\n",
      "  0%|\u001b[34m          \u001b[0m| 0/10 [00:00<?, ?it/s]\n"
     ]
    },
    {
     "name": "stdout",
     "output_type": "stream",
     "text": [
      "\u001b[36m(DefaultActor pid=52436)\u001b[0m \tTrain Epoch: 1 \tTrain_loss_mri: 0.5366 | Train_acc_mri: 81.2153 | Train_loss_dna: 0.3837 | Train_acc_dna: 85.9606 | Validation_loss_mri: 1.4244 | Validation_acc_mri: 51.0417 | Validation_loss_dna: 0.8103 | Validation_acc_dna: 54.1667\n"
     ]
    },
    {
     "name": "stderr",
     "output_type": "stream",
     "text": [
      " 10%|\u001b[34m█         \u001b[0m| 1/10 [00:01<00:11,  1.29s/it]\n"
     ]
    },
    {
     "name": "stdout",
     "output_type": "stream",
     "text": [
      "\u001b[36m(DefaultActor pid=52436)\u001b[0m \tTrain Epoch: 2 \tTrain_loss_mri: 0.1528 | Train_acc_mri: 96.5625 | Train_loss_dna: 0.4108 | Train_acc_dna: 88.0903 | Validation_loss_mri: 1.1345 | Validation_acc_mri: 70.8333 | Validation_loss_dna: 0.6694 | Validation_acc_dna: 79.6875\n"
     ]
    },
    {
     "name": "stderr",
     "output_type": "stream",
     "text": [
      " 20%|\u001b[34m██        \u001b[0m| 2/10 [00:02<00:10,  1.33s/it]\n"
     ]
    },
    {
     "name": "stdout",
     "output_type": "stream",
     "text": [
      "\u001b[36m(DefaultActor pid=52436)\u001b[0m \tTrain Epoch: 3 \tTrain_loss_mri: 0.0539 | Train_acc_mri: 99.0046 | Train_loss_dna: 0.1687 | Train_acc_dna: 96.7014 | Validation_loss_mri: 1.2686 | Validation_acc_mri: 69.2708 | Validation_loss_dna: 0.8157 | Validation_acc_dna: 66.1458\n"
     ]
    },
    {
     "name": "stderr",
     "output_type": "stream",
     "text": [
      " 30%|\u001b[34m███       \u001b[0m| 3/10 [00:03<00:09,  1.30s/it]\n"
     ]
    },
    {
     "name": "stdout",
     "output_type": "stream",
     "text": [
      "\u001b[36m(DefaultActor pid=52436)\u001b[0m \tTrain Epoch: 4 \tTrain_loss_mri: 0.0175 | Train_acc_mri: 99.6875 | Train_loss_dna: 0.0516 | Train_acc_dna: 98.9468 | Validation_loss_mri: 1.6256 | Validation_acc_mri: 70.8333 | Validation_loss_dna: 0.6644 | Validation_acc_dna: 87.5000\n"
     ]
    },
    {
     "name": "stderr",
     "output_type": "stream",
     "text": [
      " 40%|\u001b[34m████      \u001b[0m| 4/10 [00:05<00:07,  1.28s/it]\n"
     ]
    },
    {
     "name": "stdout",
     "output_type": "stream",
     "text": [
      "\u001b[36m(DefaultActor pid=52436)\u001b[0m \tTrain Epoch: 5 \tTrain_loss_mri: 0.0051 | Train_acc_mri: 100.0000 | Train_loss_dna: 0.0264 | Train_acc_dna: 99.3750 | Validation_loss_mri: 1.6856 | Validation_acc_mri: 69.2708 | Validation_loss_dna: 0.7418 | Validation_acc_dna: 70.8333\n"
     ]
    },
    {
     "name": "stderr",
     "output_type": "stream",
     "text": [
      " 50%|\u001b[34m█████     \u001b[0m| 5/10 [00:06<00:06,  1.28s/it]\n"
     ]
    },
    {
     "name": "stdout",
     "output_type": "stream",
     "text": [
      "\u001b[36m(DefaultActor pid=52436)\u001b[0m \tTrain Epoch: 6 \tTrain_loss_mri: 0.0039 | Train_acc_mri: 100.0000 | Train_loss_dna: 0.0084 | Train_acc_dna: 99.6875 | Validation_loss_mri: 2.0844 | Validation_acc_mri: 70.8333 | Validation_loss_dna: 0.8891 | Validation_acc_dna: 69.2708\n"
     ]
    },
    {
     "name": "stderr",
     "output_type": "stream",
     "text": [
      " 60%|\u001b[34m██████    \u001b[0m| 6/10 [00:07<00:05,  1.27s/it]\n"
     ]
    },
    {
     "name": "stdout",
     "output_type": "stream",
     "text": [
      "\u001b[36m(DefaultActor pid=52436)\u001b[0m \tTrain Epoch: 7 \tTrain_loss_mri: 0.0014 | Train_acc_mri: 100.0000 | Train_loss_dna: 0.0051 | Train_acc_dna: 100.0000 | Validation_loss_mri: 2.2688 | Validation_acc_mri: 70.8333 | Validation_loss_dna: 1.1489 | Validation_acc_dna: 67.7083\n"
     ]
    },
    {
     "name": "stderr",
     "output_type": "stream",
     "text": [
      " 70%|\u001b[34m███████   \u001b[0m| 7/10 [00:08<00:03,  1.27s/it]\n"
     ]
    },
    {
     "name": "stdout",
     "output_type": "stream",
     "text": [
      "\u001b[36m(DefaultActor pid=52436)\u001b[0m \tTrain Epoch: 8 \tTrain_loss_mri: 0.0007 | Train_acc_mri: 100.0000 | Train_loss_dna: 0.0019 | Train_acc_dna: 100.0000 | Validation_loss_mri: 2.0686 | Validation_acc_mri: 70.8333 | Validation_loss_dna: 1.1953 | Validation_acc_dna: 66.1458\n"
     ]
    },
    {
     "name": "stderr",
     "output_type": "stream",
     "text": [
      " 80%|\u001b[34m████████  \u001b[0m| 8/10 [00:10<00:02,  1.26s/it]\n"
     ]
    },
    {
     "name": "stdout",
     "output_type": "stream",
     "text": [
      "\u001b[36m(DefaultActor pid=52436)\u001b[0m \tTrain Epoch: 9 \tTrain_loss_mri: 0.0007 | Train_acc_mri: 100.0000 | Train_loss_dna: 0.0011 | Train_acc_dna: 100.0000 | Validation_loss_mri: 2.0295 | Validation_acc_mri: 70.8333 | Validation_loss_dna: 1.1313 | Validation_acc_dna: 67.7083\n"
     ]
    },
    {
     "name": "stderr",
     "output_type": "stream",
     "text": [
      " 90%|\u001b[34m█████████ \u001b[0m| 9/10 [00:11<00:01,  1.25s/it]\n"
     ]
    },
    {
     "name": "stdout",
     "output_type": "stream",
     "text": [
      "\u001b[36m(DefaultActor pid=52436)\u001b[0m \tTrain Epoch: 10 \tTrain_loss_mri: 0.0005 | Train_acc_mri: 100.0000 | Train_loss_dna: 0.0008 | Train_acc_dna: 100.0000 | Validation_loss_mri: 2.1881 | Validation_acc_mri: 70.8333 | Validation_loss_dna: 1.1352 | Validation_acc_dna: 67.7083\n",
      "\u001b[36m(DefaultActor pid=52436)\u001b[0m save graph in  results/FL_DNA+MRI/\n"
     ]
    },
    {
     "name": "stderr",
     "output_type": "stream",
     "text": [
      "100%|\u001b[34m██████████\u001b[0m| 10/10 [00:12<00:00,  1.27s/it]\n"
     ]
    },
    {
     "name": "stdout",
     "output_type": "stream",
     "text": [
      "\u001b[36m(DefaultActor pid=52436)\u001b[0m  To get the checkpoint\n",
      "\u001b[36m(DefaultActor pid=52436)\u001b[0m [Client 6, round 4] fit, config: {'learning_rate': 0.003, 'batch_size': '32', 'server_round': 4, 'local_epochs': 10}\n",
      "\u001b[36m(DefaultActor pid=52436)\u001b[0m Updated model\n"
     ]
    },
    {
     "name": "stderr",
     "output_type": "stream",
     "text": [
      "\u001b[36m(DefaultActor pid=52436)\u001b[0m /tmp/ipykernel_51903/752934157.py:10: FutureWarning: You are using `torch.load` with `weights_only=False` (the current default value), which uses the default pickle module implicitly. It is possible to construct malicious pickle data which will execute arbitrary code during unpickling (See https://github.com/pytorch/pytorch/blob/main/SECURITY.md#untrusted-models for more details). In a future release, the default value for `weights_only` will be flipped to `True`. This limits the functions that could be executed during unpickling. Arbitrary objects will no longer be allowed to be loaded via this mode unless they are explicitly allowlisted by the user via `torch.serialization.add_safe_globals`. We recommend you start setting `weights_only=True` for any use case where you don't have full control of the loaded file. Please open an issue on GitHub for any issues related to this experimental feature.\n",
      "  0%|\u001b[34m          \u001b[0m| 0/10 [00:00<?, ?it/s]\n"
     ]
    },
    {
     "name": "stdout",
     "output_type": "stream",
     "text": [
      "\u001b[36m(DefaultActor pid=52436)\u001b[0m \tTrain Epoch: 1 \tTrain_loss_mri: 0.4847 | Train_acc_mri: 83.7153 | Train_loss_dna: 0.3759 | Train_acc_dna: 86.7593 | Validation_loss_mri: 0.6783 | Validation_acc_mri: 73.9583 | Validation_loss_dna: 0.4603 | Validation_acc_dna: 90.6250\n"
     ]
    },
    {
     "name": "stderr",
     "output_type": "stream",
     "text": [
      " 10%|\u001b[34m█         \u001b[0m| 1/10 [00:01<00:11,  1.31s/it]\n"
     ]
    },
    {
     "name": "stdout",
     "output_type": "stream",
     "text": [
      "\u001b[36m(DefaultActor pid=52436)\u001b[0m \tTrain Epoch: 2 \tTrain_loss_mri: 0.1787 | Train_acc_mri: 95.3125 | Train_loss_dna: 0.3172 | Train_acc_dna: 89.7685 | Validation_loss_mri: 0.8456 | Validation_acc_mri: 70.8333 | Validation_loss_dna: 0.7092 | Validation_acc_dna: 67.7083\n"
     ]
    },
    {
     "name": "stderr",
     "output_type": "stream",
     "text": [
      " 20%|\u001b[34m██        \u001b[0m| 2/10 [00:02<00:10,  1.30s/it]\n"
     ]
    },
    {
     "name": "stdout",
     "output_type": "stream",
     "text": [
      "\u001b[36m(DefaultActor pid=52436)\u001b[0m \tTrain Epoch: 3 \tTrain_loss_mri: 0.0658 | Train_acc_mri: 98.3796 | Train_loss_dna: 0.1150 | Train_acc_dna: 97.6968 | Validation_loss_mri: 0.5646 | Validation_acc_mri: 87.5000 | Validation_loss_dna: 1.0295 | Validation_acc_dna: 44.7917\n"
     ]
    },
    {
     "name": "stderr",
     "output_type": "stream",
     "text": [
      " 30%|\u001b[34m███       \u001b[0m| 3/10 [00:03<00:09,  1.30s/it]\n"
     ]
    },
    {
     "name": "stdout",
     "output_type": "stream",
     "text": [
      "\u001b[36m(DefaultActor pid=52436)\u001b[0m \tTrain Epoch: 4 \tTrain_loss_mri: 0.0157 | Train_acc_mri: 100.0000 | Train_loss_dna: 0.0384 | Train_acc_dna: 99.3750 | Validation_loss_mri: 0.6601 | Validation_acc_mri: 85.9375 | Validation_loss_dna: 0.7525 | Validation_acc_dna: 67.7083\n"
     ]
    },
    {
     "name": "stderr",
     "output_type": "stream",
     "text": [
      " 40%|\u001b[34m████      \u001b[0m| 4/10 [00:05<00:07,  1.32s/it]\n"
     ]
    },
    {
     "name": "stdout",
     "output_type": "stream",
     "text": [
      "\u001b[36m(DefaultActor pid=52436)\u001b[0m \tTrain Epoch: 5 \tTrain_loss_mri: 0.0085 | Train_acc_mri: 100.0000 | Train_loss_dna: 0.0115 | Train_acc_dna: 100.0000 | Validation_loss_mri: 0.8229 | Validation_acc_mri: 90.6250 | Validation_loss_dna: 1.7364 | Validation_acc_dna: 41.6667\n"
     ]
    },
    {
     "name": "stderr",
     "output_type": "stream",
     "text": [
      " 50%|\u001b[34m█████     \u001b[0m| 5/10 [00:06<00:06,  1.34s/it]\n"
     ]
    },
    {
     "name": "stdout",
     "output_type": "stream",
     "text": [
      "\u001b[36m(DefaultActor pid=52436)\u001b[0m \tTrain Epoch: 6 \tTrain_loss_mri: 0.0018 | Train_acc_mri: 100.0000 | Train_loss_dna: 0.0127 | Train_acc_dna: 99.6875 | Validation_loss_mri: 0.7512 | Validation_acc_mri: 89.0625 | Validation_loss_dna: 0.9504 | Validation_acc_dna: 63.0208\n"
     ]
    },
    {
     "name": "stderr",
     "output_type": "stream",
     "text": [
      " 60%|\u001b[34m██████    \u001b[0m| 6/10 [00:07<00:05,  1.35s/it]\n"
     ]
    },
    {
     "name": "stdout",
     "output_type": "stream",
     "text": [
      "\u001b[36m(DefaultActor pid=52436)\u001b[0m \tTrain Epoch: 7 \tTrain_loss_mri: 0.0013 | Train_acc_mri: 100.0000 | Train_loss_dna: 0.0071 | Train_acc_dna: 100.0000 | Validation_loss_mri: 0.7776 | Validation_acc_mri: 89.0625 | Validation_loss_dna: 1.0589 | Validation_acc_dna: 64.5833\n"
     ]
    },
    {
     "name": "stderr",
     "output_type": "stream",
     "text": [
      " 70%|\u001b[34m███████   \u001b[0m| 7/10 [00:09<00:04,  1.35s/it]\n"
     ]
    },
    {
     "name": "stdout",
     "output_type": "stream",
     "text": [
      "\u001b[36m(DefaultActor pid=52436)\u001b[0m \tTrain Epoch: 8 \tTrain_loss_mri: 0.0136 | Train_acc_mri: 99.6875 | Train_loss_dna: 0.0389 | Train_acc_dna: 98.0093 | Validation_loss_mri: 0.9201 | Validation_acc_mri: 89.0625 | Validation_loss_dna: 1.2276 | Validation_acc_dna: 61.4583\n"
     ]
    },
    {
     "name": "stderr",
     "output_type": "stream",
     "text": [
      " 80%|\u001b[34m████████  \u001b[0m| 8/10 [00:10<00:02,  1.34s/it]\n"
     ]
    },
    {
     "name": "stdout",
     "output_type": "stream",
     "text": [
      "\u001b[36m(DefaultActor pid=52436)\u001b[0m \tTrain Epoch: 9 \tTrain_loss_mri: 0.0416 | Train_acc_mri: 98.6921 | Train_loss_dna: 0.1029 | Train_acc_dna: 97.5000 | Validation_loss_mri: 1.2003 | Validation_acc_mri: 82.8125 | Validation_loss_dna: 1.3462 | Validation_acc_dna: 56.7708\n"
     ]
    },
    {
     "name": "stderr",
     "output_type": "stream",
     "text": [
      " 90%|\u001b[34m█████████ \u001b[0m| 9/10 [00:11<00:01,  1.32s/it]\n"
     ]
    },
    {
     "name": "stdout",
     "output_type": "stream",
     "text": [
      "\u001b[36m(DefaultActor pid=52436)\u001b[0m \tTrain Epoch: 10 \tTrain_loss_mri: 0.0375 | Train_acc_mri: 99.0625 | Train_loss_dna: 0.0941 | Train_acc_dna: 96.8171 | Validation_loss_mri: 0.7611 | Validation_acc_mri: 73.9583 | Validation_loss_dna: 1.0562 | Validation_acc_dna: 67.7083\n",
      "\u001b[36m(DefaultActor pid=52436)\u001b[0m save graph in  results/FL_DNA+MRI/\n"
     ]
    },
    {
     "name": "stderr",
     "output_type": "stream",
     "text": [
      "100%|\u001b[34m██████████\u001b[0m| 10/10 [00:13<00:00,  1.33s/it]\n"
     ]
    },
    {
     "name": "stdout",
     "output_type": "stream",
     "text": [
      "\u001b[36m(DefaultActor pid=52436)\u001b[0m  To get the checkpoint\n",
      "\u001b[36m(DefaultActor pid=52436)\u001b[0m [Client 5, round 4] fit, config: {'learning_rate': 0.003, 'batch_size': '32', 'server_round': 4, 'local_epochs': 10}\n",
      "\u001b[36m(DefaultActor pid=52436)\u001b[0m Updated model\n"
     ]
    },
    {
     "name": "stderr",
     "output_type": "stream",
     "text": [
      "\u001b[36m(DefaultActor pid=52436)\u001b[0m /tmp/ipykernel_51903/752934157.py:10: FutureWarning: You are using `torch.load` with `weights_only=False` (the current default value), which uses the default pickle module implicitly. It is possible to construct malicious pickle data which will execute arbitrary code during unpickling (See https://github.com/pytorch/pytorch/blob/main/SECURITY.md#untrusted-models for more details). In a future release, the default value for `weights_only` will be flipped to `True`. This limits the functions that could be executed during unpickling. Arbitrary objects will no longer be allowed to be loaded via this mode unless they are explicitly allowlisted by the user via `torch.serialization.add_safe_globals`. We recommend you start setting `weights_only=True` for any use case where you don't have full control of the loaded file. Please open an issue on GitHub for any issues related to this experimental feature.\n",
      "  0%|\u001b[34m          \u001b[0m| 0/10 [00:00<?, ?it/s]\n"
     ]
    },
    {
     "name": "stdout",
     "output_type": "stream",
     "text": [
      "\u001b[36m(DefaultActor pid=52436)\u001b[0m \tTrain Epoch: 1 \tTrain_loss_mri: 0.4105 | Train_acc_mri: 85.3356 | Train_loss_dna: 0.3518 | Train_acc_dna: 87.1296 | Validation_loss_mri: 0.3324 | Validation_acc_mri: 89.0625 | Validation_loss_dna: 0.4947 | Validation_acc_dna: 81.2500\n"
     ]
    },
    {
     "name": "stderr",
     "output_type": "stream",
     "text": [
      " 10%|\u001b[34m█         \u001b[0m| 1/10 [00:01<00:11,  1.26s/it]\n"
     ]
    },
    {
     "name": "stdout",
     "output_type": "stream",
     "text": [
      "\u001b[36m(DefaultActor pid=52436)\u001b[0m \tTrain Epoch: 2 \tTrain_loss_mri: 0.0772 | Train_acc_mri: 97.3843 | Train_loss_dna: 0.2908 | Train_acc_dna: 91.4468 | Validation_loss_mri: 0.2342 | Validation_acc_mri: 89.0625 | Validation_loss_dna: 0.6666 | Validation_acc_dna: 81.2500\n"
     ]
    },
    {
     "name": "stderr",
     "output_type": "stream",
     "text": [
      " 20%|\u001b[34m██        \u001b[0m| 2/10 [00:02<00:10,  1.27s/it]\n"
     ]
    },
    {
     "name": "stdout",
     "output_type": "stream",
     "text": [
      "\u001b[36m(DefaultActor pid=52436)\u001b[0m \tTrain Epoch: 3 \tTrain_loss_mri: 0.0247 | Train_acc_mri: 99.6875 | Train_loss_dna: 0.0880 | Train_acc_dna: 98.1250 | Validation_loss_mri: 0.3389 | Validation_acc_mri: 90.6250 | Validation_loss_dna: 0.7110 | Validation_acc_dna: 76.5625\n"
     ]
    },
    {
     "name": "stderr",
     "output_type": "stream",
     "text": [
      " 30%|\u001b[34m███       \u001b[0m| 3/10 [00:03<00:08,  1.28s/it]\n"
     ]
    },
    {
     "name": "stdout",
     "output_type": "stream",
     "text": [
      "\u001b[36m(DefaultActor pid=52436)\u001b[0m \tTrain Epoch: 4 \tTrain_loss_mri: 0.0111 | Train_acc_mri: 100.0000 | Train_loss_dna: 0.0344 | Train_acc_dna: 99.6875 | Validation_loss_mri: 0.2105 | Validation_acc_mri: 92.1875 | Validation_loss_dna: 0.6510 | Validation_acc_dna: 82.8125\n"
     ]
    },
    {
     "name": "stderr",
     "output_type": "stream",
     "text": [
      " 40%|\u001b[34m████      \u001b[0m| 4/10 [00:05<00:07,  1.29s/it]\n"
     ]
    },
    {
     "name": "stdout",
     "output_type": "stream",
     "text": [
      "\u001b[36m(DefaultActor pid=52436)\u001b[0m \tTrain Epoch: 5 \tTrain_loss_mri: 0.0046 | Train_acc_mri: 100.0000 | Train_loss_dna: 0.0140 | Train_acc_dna: 100.0000 | Validation_loss_mri: 0.3403 | Validation_acc_mri: 90.6250 | Validation_loss_dna: 0.7919 | Validation_acc_dna: 81.2500\n"
     ]
    },
    {
     "name": "stderr",
     "output_type": "stream",
     "text": [
      " 50%|\u001b[34m█████     \u001b[0m| 5/10 [00:06<00:06,  1.29s/it]\n"
     ]
    },
    {
     "name": "stdout",
     "output_type": "stream",
     "text": [
      "\u001b[36m(DefaultActor pid=52436)\u001b[0m \tTrain Epoch: 6 \tTrain_loss_mri: 0.0051 | Train_acc_mri: 100.0000 | Train_loss_dna: 0.0123 | Train_acc_dna: 99.6875 | Validation_loss_mri: 0.5078 | Validation_acc_mri: 89.0625 | Validation_loss_dna: 0.8396 | Validation_acc_dna: 82.8125\n"
     ]
    },
    {
     "name": "stderr",
     "output_type": "stream",
     "text": [
      " 60%|\u001b[34m██████    \u001b[0m| 6/10 [00:07<00:05,  1.29s/it]\n"
     ]
    },
    {
     "name": "stdout",
     "output_type": "stream",
     "text": [
      "\u001b[36m(DefaultActor pid=52436)\u001b[0m \tTrain Epoch: 7 \tTrain_loss_mri: 0.0022 | Train_acc_mri: 100.0000 | Train_loss_dna: 0.0073 | Train_acc_dna: 99.6875 | Validation_loss_mri: 0.5293 | Validation_acc_mri: 90.6250 | Validation_loss_dna: 0.7003 | Validation_acc_dna: 81.2500\n"
     ]
    },
    {
     "name": "stderr",
     "output_type": "stream",
     "text": [
      " 70%|\u001b[34m███████   \u001b[0m| 7/10 [00:08<00:03,  1.28s/it]\n"
     ]
    },
    {
     "name": "stdout",
     "output_type": "stream",
     "text": [
      "\u001b[36m(DefaultActor pid=52436)\u001b[0m \tTrain Epoch: 8 \tTrain_loss_mri: 0.0010 | Train_acc_mri: 100.0000 | Train_loss_dna: 0.0134 | Train_acc_dna: 99.6875 | Validation_loss_mri: 0.4824 | Validation_acc_mri: 90.6250 | Validation_loss_dna: 0.7903 | Validation_acc_dna: 81.2500\n"
     ]
    },
    {
     "name": "stderr",
     "output_type": "stream",
     "text": [
      " 80%|\u001b[34m████████  \u001b[0m| 8/10 [00:10<00:02,  1.29s/it]\n"
     ]
    },
    {
     "name": "stdout",
     "output_type": "stream",
     "text": [
      "\u001b[36m(DefaultActor pid=52436)\u001b[0m \tTrain Epoch: 9 \tTrain_loss_mri: 0.0008 | Train_acc_mri: 100.0000 | Train_loss_dna: 0.0024 | Train_acc_dna: 100.0000 | Validation_loss_mri: 0.3678 | Validation_acc_mri: 90.6250 | Validation_loss_dna: 0.9600 | Validation_acc_dna: 81.2500\n"
     ]
    },
    {
     "name": "stderr",
     "output_type": "stream",
     "text": [
      " 90%|\u001b[34m█████████ \u001b[0m| 9/10 [00:11<00:01,  1.29s/it]\n"
     ]
    },
    {
     "name": "stdout",
     "output_type": "stream",
     "text": [
      "\u001b[36m(DefaultActor pid=52436)\u001b[0m \tTrain Epoch: 10 \tTrain_loss_mri: 0.0006 | Train_acc_mri: 100.0000 | Train_loss_dna: 0.0013 | Train_acc_dna: 100.0000 | Validation_loss_mri: 0.3016 | Validation_acc_mri: 92.1875 | Validation_loss_dna: 0.9191 | Validation_acc_dna: 82.8125\n",
      "\u001b[36m(DefaultActor pid=52436)\u001b[0m save graph in  results/FL_DNA+MRI/\n"
     ]
    },
    {
     "name": "stderr",
     "output_type": "stream",
     "text": [
      "100%|\u001b[34m██████████\u001b[0m| 10/10 [00:12<00:00,  1.29s/it]\n"
     ]
    },
    {
     "name": "stdout",
     "output_type": "stream",
     "text": [
      "\u001b[36m(DefaultActor pid=52436)\u001b[0m  To get the checkpoint\n",
      "\u001b[36m(DefaultActor pid=52436)\u001b[0m [Client 7, round 4] fit, config: {'learning_rate': 0.003, 'batch_size': '32', 'server_round': 4, 'local_epochs': 10}\n",
      "\u001b[36m(DefaultActor pid=52436)\u001b[0m Updated model\n"
     ]
    },
    {
     "name": "stderr",
     "output_type": "stream",
     "text": [
      "\u001b[36m(DefaultActor pid=52436)\u001b[0m /tmp/ipykernel_51903/752934157.py:10: FutureWarning: You are using `torch.load` with `weights_only=False` (the current default value), which uses the default pickle module implicitly. It is possible to construct malicious pickle data which will execute arbitrary code during unpickling (See https://github.com/pytorch/pytorch/blob/main/SECURITY.md#untrusted-models for more details). In a future release, the default value for `weights_only` will be flipped to `True`. This limits the functions that could be executed during unpickling. Arbitrary objects will no longer be allowed to be loaded via this mode unless they are explicitly allowlisted by the user via `torch.serialization.add_safe_globals`. We recommend you start setting `weights_only=True` for any use case where you don't have full control of the loaded file. Please open an issue on GitHub for any issues related to this experimental feature.\n",
      "  0%|\u001b[34m          \u001b[0m| 0/10 [00:00<?, ?it/s]\n"
     ]
    },
    {
     "name": "stdout",
     "output_type": "stream",
     "text": [
      "\u001b[36m(DefaultActor pid=52436)\u001b[0m \tTrain Epoch: 1 \tTrain_loss_mri: 0.3511 | Train_acc_mri: 85.6481 | Train_loss_dna: 0.3775 | Train_acc_dna: 86.4120 | Validation_loss_mri: 0.3314 | Validation_acc_mri: 89.0625 | Validation_loss_dna: 0.5214 | Validation_acc_dna: 90.6250\n"
     ]
    },
    {
     "name": "stderr",
     "output_type": "stream",
     "text": [
      " 10%|\u001b[34m█         \u001b[0m| 1/10 [00:01<00:11,  1.32s/it]\n"
     ]
    },
    {
     "name": "stdout",
     "output_type": "stream",
     "text": [
      "\u001b[36m(DefaultActor pid=52436)\u001b[0m \tTrain Epoch: 2 \tTrain_loss_mri: 0.0581 | Train_acc_mri: 98.1250 | Train_loss_dna: 0.3901 | Train_acc_dna: 85.5324 | Validation_loss_mri: 0.2322 | Validation_acc_mri: 93.7500 | Validation_loss_dna: 0.8286 | Validation_acc_dna: 57.2917\n"
     ]
    },
    {
     "name": "stderr",
     "output_type": "stream",
     "text": [
      " 20%|\u001b[34m██        \u001b[0m| 2/10 [00:02<00:10,  1.30s/it]\n"
     ]
    },
    {
     "name": "stdout",
     "output_type": "stream",
     "text": [
      "\u001b[36m(DefaultActor pid=52436)\u001b[0m \tTrain Epoch: 3 \tTrain_loss_mri: 0.0237 | Train_acc_mri: 100.0000 | Train_loss_dna: 0.1556 | Train_acc_dna: 96.8750 | Validation_loss_mri: 0.3426 | Validation_acc_mri: 92.1875 | Validation_loss_dna: 0.8521 | Validation_acc_dna: 72.3958\n"
     ]
    },
    {
     "name": "stderr",
     "output_type": "stream",
     "text": [
      " 30%|\u001b[34m███       \u001b[0m| 3/10 [00:03<00:08,  1.28s/it]\n"
     ]
    },
    {
     "name": "stdout",
     "output_type": "stream",
     "text": [
      "\u001b[36m(DefaultActor pid=52436)\u001b[0m \tTrain Epoch: 4 \tTrain_loss_mri: 0.0240 | Train_acc_mri: 99.6875 | Train_loss_dna: 0.0427 | Train_acc_dna: 99.6875 | Validation_loss_mri: 0.2498 | Validation_acc_mri: 93.7500 | Validation_loss_dna: 0.5937 | Validation_acc_dna: 73.9583\n"
     ]
    },
    {
     "name": "stderr",
     "output_type": "stream",
     "text": [
      " 40%|\u001b[34m████      \u001b[0m| 4/10 [00:05<00:07,  1.28s/it]\n"
     ]
    },
    {
     "name": "stdout",
     "output_type": "stream",
     "text": [
      "\u001b[36m(DefaultActor pid=52436)\u001b[0m \tTrain Epoch: 5 \tTrain_loss_mri: 0.0063 | Train_acc_mri: 100.0000 | Train_loss_dna: 0.0167 | Train_acc_dna: 100.0000 | Validation_loss_mri: 0.4405 | Validation_acc_mri: 93.7500 | Validation_loss_dna: 0.8031 | Validation_acc_dna: 72.3958\n"
     ]
    },
    {
     "name": "stderr",
     "output_type": "stream",
     "text": [
      " 50%|\u001b[34m█████     \u001b[0m| 5/10 [00:06<00:06,  1.28s/it]\n"
     ]
    },
    {
     "name": "stdout",
     "output_type": "stream",
     "text": [
      "\u001b[36m(DefaultActor pid=52436)\u001b[0m \tTrain Epoch: 6 \tTrain_loss_mri: 0.0013 | Train_acc_mri: 100.0000 | Train_loss_dna: 0.0087 | Train_acc_dna: 100.0000 | Validation_loss_mri: 0.3830 | Validation_acc_mri: 92.1875 | Validation_loss_dna: 0.7630 | Validation_acc_dna: 55.7292\n"
     ]
    },
    {
     "name": "stderr",
     "output_type": "stream",
     "text": [
      " 60%|\u001b[34m██████    \u001b[0m| 6/10 [00:07<00:05,  1.28s/it]\n"
     ]
    },
    {
     "name": "stdout",
     "output_type": "stream",
     "text": [
      "\u001b[36m(DefaultActor pid=52436)\u001b[0m \tTrain Epoch: 7 \tTrain_loss_mri: 0.0020 | Train_acc_mri: 100.0000 | Train_loss_dna: 0.0042 | Train_acc_dna: 100.0000 | Validation_loss_mri: 0.3532 | Validation_acc_mri: 92.1875 | Validation_loss_dna: 0.8954 | Validation_acc_dna: 57.2917\n"
     ]
    },
    {
     "name": "stderr",
     "output_type": "stream",
     "text": [
      " 70%|\u001b[34m███████   \u001b[0m| 7/10 [00:08<00:03,  1.28s/it]\n"
     ]
    },
    {
     "name": "stdout",
     "output_type": "stream",
     "text": [
      "\u001b[36m(DefaultActor pid=52436)\u001b[0m \tTrain Epoch: 8 \tTrain_loss_mri: 0.0009 | Train_acc_mri: 100.0000 | Train_loss_dna: 0.0022 | Train_acc_dna: 100.0000 | Validation_loss_mri: 0.4347 | Validation_acc_mri: 92.1875 | Validation_loss_dna: 1.0856 | Validation_acc_dna: 57.2917\n"
     ]
    },
    {
     "name": "stderr",
     "output_type": "stream",
     "text": [
      " 80%|\u001b[34m████████  \u001b[0m| 8/10 [00:10<00:02,  1.28s/it]\n"
     ]
    },
    {
     "name": "stdout",
     "output_type": "stream",
     "text": [
      "\u001b[36m(DefaultActor pid=52436)\u001b[0m \tTrain Epoch: 9 \tTrain_loss_mri: 0.0004 | Train_acc_mri: 100.0000 | Train_loss_dna: 0.0014 | Train_acc_dna: 100.0000 | Validation_loss_mri: 0.4663 | Validation_acc_mri: 92.1875 | Validation_loss_dna: 1.1117 | Validation_acc_dna: 57.2917\n"
     ]
    },
    {
     "name": "stderr",
     "output_type": "stream",
     "text": [
      " 90%|\u001b[34m█████████ \u001b[0m| 9/10 [00:11<00:01,  1.29s/it]\n"
     ]
    },
    {
     "name": "stdout",
     "output_type": "stream",
     "text": [
      "\u001b[36m(DefaultActor pid=52436)\u001b[0m \tTrain Epoch: 10 \tTrain_loss_mri: 0.0002 | Train_acc_mri: 100.0000 | Train_loss_dna: 0.0010 | Train_acc_dna: 100.0000 | Validation_loss_mri: 0.4550 | Validation_acc_mri: 92.1875 | Validation_loss_dna: 1.1426 | Validation_acc_dna: 57.2917\n",
      "\u001b[36m(DefaultActor pid=52436)\u001b[0m save graph in  results/FL_DNA+MRI/\n"
     ]
    },
    {
     "name": "stderr",
     "output_type": "stream",
     "text": [
      "100%|\u001b[34m██████████\u001b[0m| 10/10 [00:12<00:00,  1.29s/it]\n"
     ]
    },
    {
     "name": "stdout",
     "output_type": "stream",
     "text": [
      "\u001b[36m(DefaultActor pid=52436)\u001b[0m  To get the checkpoint\n",
      "\u001b[36m(DefaultActor pid=52436)\u001b[0m [Client 1, round 4] fit, config: {'learning_rate': 0.003, 'batch_size': '32', 'server_round': 4, 'local_epochs': 10}\n",
      "\u001b[36m(DefaultActor pid=52436)\u001b[0m Updated model\n"
     ]
    },
    {
     "name": "stderr",
     "output_type": "stream",
     "text": [
      "\u001b[36m(DefaultActor pid=52436)\u001b[0m /tmp/ipykernel_51903/752934157.py:10: FutureWarning: You are using `torch.load` with `weights_only=False` (the current default value), which uses the default pickle module implicitly. It is possible to construct malicious pickle data which will execute arbitrary code during unpickling (See https://github.com/pytorch/pytorch/blob/main/SECURITY.md#untrusted-models for more details). In a future release, the default value for `weights_only` will be flipped to `True`. This limits the functions that could be executed during unpickling. Arbitrary objects will no longer be allowed to be loaded via this mode unless they are explicitly allowlisted by the user via `torch.serialization.add_safe_globals`. We recommend you start setting `weights_only=True` for any use case where you don't have full control of the loaded file. Please open an issue on GitHub for any issues related to this experimental feature.\n",
      "  0%|\u001b[34m          \u001b[0m| 0/10 [00:00<?, ?it/s]\n"
     ]
    },
    {
     "name": "stdout",
     "output_type": "stream",
     "text": [
      "\u001b[36m(DefaultActor pid=52436)\u001b[0m \tTrain Epoch: 1 \tTrain_loss_mri: 0.4961 | Train_acc_mri: 83.8310 | Train_loss_dna: 0.3727 | Train_acc_dna: 87.6389 | Validation_loss_mri: 0.3801 | Validation_acc_mri: 89.0625 | Validation_loss_dna: 0.8856 | Validation_acc_dna: 55.7292\n"
     ]
    },
    {
     "name": "stderr",
     "output_type": "stream",
     "text": [
      " 10%|\u001b[34m█         \u001b[0m| 1/10 [00:01<00:12,  1.37s/it]\n"
     ]
    },
    {
     "name": "stdout",
     "output_type": "stream",
     "text": [
      "\u001b[36m(DefaultActor pid=52436)\u001b[0m \tTrain Epoch: 2 \tTrain_loss_mri: 0.1518 | Train_acc_mri: 95.6250 | Train_loss_dna: 0.3665 | Train_acc_dna: 87.9514 | Validation_loss_mri: 0.3535 | Validation_acc_mri: 92.1875 | Validation_loss_dna: 0.9994 | Validation_acc_dna: 70.8333\n"
     ]
    },
    {
     "name": "stderr",
     "output_type": "stream",
     "text": [
      " 20%|\u001b[34m██        \u001b[0m| 2/10 [00:02<00:10,  1.33s/it]\n"
     ]
    },
    {
     "name": "stdout",
     "output_type": "stream",
     "text": [
      "\u001b[36m(DefaultActor pid=52436)\u001b[0m \tTrain Epoch: 3 \tTrain_loss_mri: 0.0251 | Train_acc_mri: 100.0000 | Train_loss_dna: 0.1531 | Train_acc_dna: 96.8171 | Validation_loss_mri: 0.5738 | Validation_acc_mri: 92.1875 | Validation_loss_dna: 1.2794 | Validation_acc_dna: 52.6042\n"
     ]
    },
    {
     "name": "stderr",
     "output_type": "stream",
     "text": [
      " 30%|\u001b[34m███       \u001b[0m| 3/10 [00:03<00:09,  1.29s/it]\n"
     ]
    },
    {
     "name": "stdout",
     "output_type": "stream",
     "text": [
      "\u001b[36m(DefaultActor pid=52436)\u001b[0m \tTrain Epoch: 4 \tTrain_loss_mri: 0.0190 | Train_acc_mri: 99.6875 | Train_loss_dna: 0.0363 | Train_acc_dna: 99.6875 | Validation_loss_mri: 0.7281 | Validation_acc_mri: 92.1875 | Validation_loss_dna: 1.7481 | Validation_acc_dna: 44.7917\n"
     ]
    },
    {
     "name": "stderr",
     "output_type": "stream",
     "text": [
      " 40%|\u001b[34m████      \u001b[0m| 4/10 [00:05<00:07,  1.27s/it]\n"
     ]
    },
    {
     "name": "stdout",
     "output_type": "stream",
     "text": [
      "\u001b[36m(DefaultActor pid=52436)\u001b[0m \tTrain Epoch: 5 \tTrain_loss_mri: 0.0034 | Train_acc_mri: 100.0000 | Train_loss_dna: 0.0219 | Train_acc_dna: 99.6296 | Validation_loss_mri: 0.7106 | Validation_acc_mri: 92.1875 | Validation_loss_dna: 1.8534 | Validation_acc_dna: 46.3542\n"
     ]
    },
    {
     "name": "stderr",
     "output_type": "stream",
     "text": [
      " 50%|\u001b[34m█████     \u001b[0m| 5/10 [00:06<00:06,  1.26s/it]\n"
     ]
    },
    {
     "name": "stdout",
     "output_type": "stream",
     "text": [
      "\u001b[36m(DefaultActor pid=52436)\u001b[0m \tTrain Epoch: 6 \tTrain_loss_mri: 0.0038 | Train_acc_mri: 100.0000 | Train_loss_dna: 0.0387 | Train_acc_dna: 99.3750 | Validation_loss_mri: 0.6463 | Validation_acc_mri: 92.1875 | Validation_loss_dna: 1.6599 | Validation_acc_dna: 46.3542\n"
     ]
    },
    {
     "name": "stderr",
     "output_type": "stream",
     "text": [
      " 60%|\u001b[34m██████    \u001b[0m| 6/10 [00:07<00:05,  1.26s/it]\n"
     ]
    },
    {
     "name": "stdout",
     "output_type": "stream",
     "text": [
      "\u001b[36m(DefaultActor pid=52436)\u001b[0m \tTrain Epoch: 7 \tTrain_loss_mri: 0.0012 | Train_acc_mri: 100.0000 | Train_loss_dna: 0.0089 | Train_acc_dna: 99.6875 | Validation_loss_mri: 0.6043 | Validation_acc_mri: 95.3125 | Validation_loss_dna: 1.3480 | Validation_acc_dna: 61.4583\n"
     ]
    },
    {
     "name": "stderr",
     "output_type": "stream",
     "text": [
      " 70%|\u001b[34m███████   \u001b[0m| 7/10 [00:08<00:03,  1.25s/it]\n"
     ]
    },
    {
     "name": "stdout",
     "output_type": "stream",
     "text": [
      "\u001b[36m(DefaultActor pid=52436)\u001b[0m \tTrain Epoch: 8 \tTrain_loss_mri: 0.0013 | Train_acc_mri: 100.0000 | Train_loss_dna: 0.0099 | Train_acc_dna: 99.6875 | Validation_loss_mri: 0.5543 | Validation_acc_mri: 93.7500 | Validation_loss_dna: 1.2922 | Validation_acc_dna: 47.9167\n"
     ]
    },
    {
     "name": "stderr",
     "output_type": "stream",
     "text": [
      " 80%|\u001b[34m████████  \u001b[0m| 8/10 [00:10<00:02,  1.25s/it]\n"
     ]
    },
    {
     "name": "stdout",
     "output_type": "stream",
     "text": [
      "\u001b[36m(DefaultActor pid=52436)\u001b[0m \tTrain Epoch: 9 \tTrain_loss_mri: 0.0007 | Train_acc_mri: 100.0000 | Train_loss_dna: 0.0063 | Train_acc_dna: 100.0000 | Validation_loss_mri: 0.5680 | Validation_acc_mri: 93.7500 | Validation_loss_dna: 1.3206 | Validation_acc_dna: 43.2292\n"
     ]
    },
    {
     "name": "stderr",
     "output_type": "stream",
     "text": [
      " 90%|\u001b[34m█████████ \u001b[0m| 9/10 [00:11<00:01,  1.25s/it]\n"
     ]
    },
    {
     "name": "stdout",
     "output_type": "stream",
     "text": [
      "\u001b[36m(DefaultActor pid=52436)\u001b[0m \tTrain Epoch: 10 \tTrain_loss_mri: 0.0005 | Train_acc_mri: 100.0000 | Train_loss_dna: 0.0021 | Train_acc_dna: 100.0000 | Validation_loss_mri: 0.6272 | Validation_acc_mri: 93.7500 | Validation_loss_dna: 1.4189 | Validation_acc_dna: 43.2292\n",
      "\u001b[36m(DefaultActor pid=52436)\u001b[0m save graph in  results/FL_DNA+MRI/\n"
     ]
    },
    {
     "name": "stderr",
     "output_type": "stream",
     "text": [
      "100%|\u001b[34m██████████\u001b[0m| 10/10 [00:12<00:00,  1.27s/it]\n"
     ]
    },
    {
     "name": "stdout",
     "output_type": "stream",
     "text": [
      "\u001b[36m(DefaultActor pid=52436)\u001b[0m  To get the checkpoint\n",
      "\u001b[36m(DefaultActor pid=52436)\u001b[0m [Client 3, round 4] fit, config: {'learning_rate': 0.003, 'batch_size': '32', 'server_round': 4, 'local_epochs': 10}\n",
      "\u001b[36m(DefaultActor pid=52436)\u001b[0m Updated model\n"
     ]
    },
    {
     "name": "stderr",
     "output_type": "stream",
     "text": [
      "\u001b[36m(DefaultActor pid=52436)\u001b[0m /tmp/ipykernel_51903/752934157.py:10: FutureWarning: You are using `torch.load` with `weights_only=False` (the current default value), which uses the default pickle module implicitly. It is possible to construct malicious pickle data which will execute arbitrary code during unpickling (See https://github.com/pytorch/pytorch/blob/main/SECURITY.md#untrusted-models for more details). In a future release, the default value for `weights_only` will be flipped to `True`. This limits the functions that could be executed during unpickling. Arbitrary objects will no longer be allowed to be loaded via this mode unless they are explicitly allowlisted by the user via `torch.serialization.add_safe_globals`. We recommend you start setting `weights_only=True` for any use case where you don't have full control of the loaded file. Please open an issue on GitHub for any issues related to this experimental feature.\n",
      "  0%|\u001b[34m          \u001b[0m| 0/10 [00:00<?, ?it/s]\n"
     ]
    },
    {
     "name": "stdout",
     "output_type": "stream",
     "text": [
      "\u001b[36m(DefaultActor pid=52436)\u001b[0m \tTrain Epoch: 1 \tTrain_loss_mri: 0.3824 | Train_acc_mri: 84.7106 | Train_loss_dna: 0.3372 | Train_acc_dna: 88.5764 | Validation_loss_mri: 0.7146 | Validation_acc_mri: 70.8333 | Validation_loss_dna: 0.7268 | Validation_acc_dna: 67.7083\n"
     ]
    },
    {
     "name": "stderr",
     "output_type": "stream",
     "text": [
      " 10%|\u001b[34m█         \u001b[0m| 1/10 [00:01<00:11,  1.31s/it]\n"
     ]
    },
    {
     "name": "stdout",
     "output_type": "stream",
     "text": [
      "\u001b[36m(DefaultActor pid=52436)\u001b[0m \tTrain Epoch: 2 \tTrain_loss_mri: 0.1150 | Train_acc_mri: 97.1875 | Train_loss_dna: 0.2934 | Train_acc_dna: 93.0671 | Validation_loss_mri: 0.4381 | Validation_acc_mri: 85.9375 | Validation_loss_dna: 0.8309 | Validation_acc_dna: 78.1250\n"
     ]
    },
    {
     "name": "stderr",
     "output_type": "stream",
     "text": [
      " 20%|\u001b[34m██        \u001b[0m| 2/10 [00:02<00:10,  1.29s/it]\n"
     ]
    },
    {
     "name": "stdout",
     "output_type": "stream",
     "text": [
      "\u001b[36m(DefaultActor pid=52436)\u001b[0m \tTrain Epoch: 3 \tTrain_loss_mri: 0.0498 | Train_acc_mri: 99.3171 | Train_loss_dna: 0.1741 | Train_acc_dna: 96.5046 | Validation_loss_mri: 0.4866 | Validation_acc_mri: 93.7500 | Validation_loss_dna: 1.0453 | Validation_acc_dna: 66.1458\n"
     ]
    },
    {
     "name": "stderr",
     "output_type": "stream",
     "text": [
      " 30%|\u001b[34m███       \u001b[0m| 3/10 [00:03<00:09,  1.31s/it]\n"
     ]
    },
    {
     "name": "stdout",
     "output_type": "stream",
     "text": [
      "\u001b[36m(DefaultActor pid=52436)\u001b[0m \tTrain Epoch: 4 \tTrain_loss_mri: 0.0305 | Train_acc_mri: 99.0625 | Train_loss_dna: 0.0706 | Train_acc_dna: 98.6921 | Validation_loss_mri: 0.3989 | Validation_acc_mri: 90.6250 | Validation_loss_dna: 1.1161 | Validation_acc_dna: 66.1458\n"
     ]
    },
    {
     "name": "stderr",
     "output_type": "stream",
     "text": [
      " 40%|\u001b[34m████      \u001b[0m| 4/10 [00:05<00:07,  1.30s/it]\n"
     ]
    },
    {
     "name": "stdout",
     "output_type": "stream",
     "text": [
      "\u001b[36m(DefaultActor pid=52436)\u001b[0m \tTrain Epoch: 5 \tTrain_loss_mri: 0.0096 | Train_acc_mri: 100.0000 | Train_loss_dna: 0.0407 | Train_acc_dna: 99.3171 | Validation_loss_mri: 0.5553 | Validation_acc_mri: 87.5000 | Validation_loss_dna: 0.7078 | Validation_acc_dna: 69.2708\n"
     ]
    },
    {
     "name": "stderr",
     "output_type": "stream",
     "text": [
      " 50%|\u001b[34m█████     \u001b[0m| 5/10 [00:06<00:06,  1.28s/it]\n"
     ]
    },
    {
     "name": "stdout",
     "output_type": "stream",
     "text": [
      "\u001b[36m(DefaultActor pid=52436)\u001b[0m \tTrain Epoch: 6 \tTrain_loss_mri: 0.0142 | Train_acc_mri: 99.6875 | Train_loss_dna: 0.0163 | Train_acc_dna: 99.6875 | Validation_loss_mri: 0.3891 | Validation_acc_mri: 89.0625 | Validation_loss_dna: 0.8586 | Validation_acc_dna: 64.5833\n"
     ]
    },
    {
     "name": "stderr",
     "output_type": "stream",
     "text": [
      " 60%|\u001b[34m██████    \u001b[0m| 6/10 [00:07<00:05,  1.27s/it]\n"
     ]
    },
    {
     "name": "stdout",
     "output_type": "stream",
     "text": [
      "\u001b[36m(DefaultActor pid=52436)\u001b[0m \tTrain Epoch: 7 \tTrain_loss_mri: 0.0019 | Train_acc_mri: 100.0000 | Train_loss_dna: 0.0116 | Train_acc_dna: 99.6875 | Validation_loss_mri: 0.3663 | Validation_acc_mri: 92.1875 | Validation_loss_dna: 1.2428 | Validation_acc_dna: 67.7083\n"
     ]
    },
    {
     "name": "stderr",
     "output_type": "stream",
     "text": [
      " 70%|\u001b[34m███████   \u001b[0m| 7/10 [00:08<00:03,  1.27s/it]\n"
     ]
    },
    {
     "name": "stdout",
     "output_type": "stream",
     "text": [
      "\u001b[36m(DefaultActor pid=52436)\u001b[0m \tTrain Epoch: 8 \tTrain_loss_mri: 0.0012 | Train_acc_mri: 100.0000 | Train_loss_dna: 0.0036 | Train_acc_dna: 100.0000 | Validation_loss_mri: 0.3898 | Validation_acc_mri: 92.1875 | Validation_loss_dna: 1.3568 | Validation_acc_dna: 64.5833\n"
     ]
    },
    {
     "name": "stderr",
     "output_type": "stream",
     "text": [
      " 80%|\u001b[34m████████  \u001b[0m| 8/10 [00:10<00:02,  1.25s/it]\n"
     ]
    },
    {
     "name": "stdout",
     "output_type": "stream",
     "text": [
      "\u001b[36m(DefaultActor pid=52436)\u001b[0m \tTrain Epoch: 9 \tTrain_loss_mri: 0.0010 | Train_acc_mri: 100.0000 | Train_loss_dna: 0.0038 | Train_acc_dna: 100.0000 | Validation_loss_mri: 0.4017 | Validation_acc_mri: 92.1875 | Validation_loss_dna: 1.3433 | Validation_acc_dna: 64.5833\n"
     ]
    },
    {
     "name": "stderr",
     "output_type": "stream",
     "text": [
      " 90%|\u001b[34m█████████ \u001b[0m| 9/10 [00:11<00:01,  1.25s/it]\n"
     ]
    },
    {
     "name": "stdout",
     "output_type": "stream",
     "text": [
      "\u001b[36m(DefaultActor pid=52436)\u001b[0m \tTrain Epoch: 10 \tTrain_loss_mri: 0.0006 | Train_acc_mri: 100.0000 | Train_loss_dna: 0.0024 | Train_acc_dna: 100.0000 | Validation_loss_mri: 0.4127 | Validation_acc_mri: 92.1875 | Validation_loss_dna: 1.4882 | Validation_acc_dna: 67.7083\n",
      "\u001b[36m(DefaultActor pid=52436)\u001b[0m save graph in  results/FL_DNA+MRI/\n"
     ]
    },
    {
     "name": "stderr",
     "output_type": "stream",
     "text": [
      "100%|\u001b[34m██████████\u001b[0m| 10/10 [00:12<00:00,  1.27s/it]\n"
     ]
    },
    {
     "name": "stdout",
     "output_type": "stream",
     "text": [
      "\u001b[36m(DefaultActor pid=52436)\u001b[0m  To get the checkpoint\n",
      "\u001b[36m(DefaultActor pid=52436)\u001b[0m [Client 2, round 4] fit, config: {'learning_rate': 0.003, 'batch_size': '32', 'server_round': 4, 'local_epochs': 10}\n",
      "\u001b[36m(DefaultActor pid=52436)\u001b[0m Updated model\n"
     ]
    },
    {
     "name": "stderr",
     "output_type": "stream",
     "text": [
      "\u001b[36m(DefaultActor pid=52436)\u001b[0m /tmp/ipykernel_51903/752934157.py:10: FutureWarning: You are using `torch.load` with `weights_only=False` (the current default value), which uses the default pickle module implicitly. It is possible to construct malicious pickle data which will execute arbitrary code during unpickling (See https://github.com/pytorch/pytorch/blob/main/SECURITY.md#untrusted-models for more details). In a future release, the default value for `weights_only` will be flipped to `True`. This limits the functions that could be executed during unpickling. Arbitrary objects will no longer be allowed to be loaded via this mode unless they are explicitly allowlisted by the user via `torch.serialization.add_safe_globals`. We recommend you start setting `weights_only=True` for any use case where you don't have full control of the loaded file. Please open an issue on GitHub for any issues related to this experimental feature.\n",
      "  0%|\u001b[34m          \u001b[0m| 0/10 [00:00<?, ?it/s]\n"
     ]
    },
    {
     "name": "stdout",
     "output_type": "stream",
     "text": [
      "\u001b[36m(DefaultActor pid=52436)\u001b[0m \tTrain Epoch: 1 \tTrain_loss_mri: 0.4837 | Train_acc_mri: 83.4028 | Train_loss_dna: 0.3580 | Train_acc_dna: 85.8796 | Validation_loss_mri: 1.1902 | Validation_acc_mri: 54.1667 | Validation_loss_dna: 0.7608 | Validation_acc_dna: 67.7083\n"
     ]
    },
    {
     "name": "stderr",
     "output_type": "stream",
     "text": [
      " 10%|\u001b[34m█         \u001b[0m| 1/10 [00:01<00:12,  1.35s/it]\n"
     ]
    },
    {
     "name": "stdout",
     "output_type": "stream",
     "text": [
      "\u001b[36m(DefaultActor pid=52436)\u001b[0m \tTrain Epoch: 2 \tTrain_loss_mri: 0.0953 | Train_acc_mri: 96.8750 | Train_loss_dna: 0.3665 | Train_acc_dna: 87.4421 | Validation_loss_mri: 1.6066 | Validation_acc_mri: 54.1667 | Validation_loss_dna: 1.0309 | Validation_acc_dna: 61.4583\n"
     ]
    },
    {
     "name": "stderr",
     "output_type": "stream",
     "text": [
      " 20%|\u001b[34m██        \u001b[0m| 2/10 [00:02<00:10,  1.30s/it]\n"
     ]
    },
    {
     "name": "stdout",
     "output_type": "stream",
     "text": [
      "\u001b[36m(DefaultActor pid=52436)\u001b[0m \tTrain Epoch: 3 \tTrain_loss_mri: 0.0355 | Train_acc_mri: 99.6875 | Train_loss_dna: 0.0890 | Train_acc_dna: 99.3750 | Validation_loss_mri: 2.3421 | Validation_acc_mri: 55.7292 | Validation_loss_dna: 1.2510 | Validation_acc_dna: 56.7708\n"
     ]
    },
    {
     "name": "stderr",
     "output_type": "stream",
     "text": [
      " 30%|\u001b[34m███       \u001b[0m| 3/10 [00:03<00:09,  1.29s/it]\n"
     ]
    },
    {
     "name": "stdout",
     "output_type": "stream",
     "text": [
      "\u001b[36m(DefaultActor pid=52436)\u001b[0m \tTrain Epoch: 4 \tTrain_loss_mri: 0.0096 | Train_acc_mri: 100.0000 | Train_loss_dna: 0.0240 | Train_acc_dna: 99.6875 | Validation_loss_mri: 2.5940 | Validation_acc_mri: 54.1667 | Validation_loss_dna: 1.2105 | Validation_acc_dna: 43.2292\n"
     ]
    },
    {
     "name": "stderr",
     "output_type": "stream",
     "text": [
      " 40%|\u001b[34m████      \u001b[0m| 4/10 [00:05<00:07,  1.28s/it]\n"
     ]
    },
    {
     "name": "stdout",
     "output_type": "stream",
     "text": [
      "\u001b[36m(DefaultActor pid=52436)\u001b[0m \tTrain Epoch: 5 \tTrain_loss_mri: 0.0024 | Train_acc_mri: 100.0000 | Train_loss_dna: 0.0068 | Train_acc_dna: 100.0000 | Validation_loss_mri: 3.1808 | Validation_acc_mri: 54.1667 | Validation_loss_dna: 1.8806 | Validation_acc_dna: 40.1042\n"
     ]
    },
    {
     "name": "stderr",
     "output_type": "stream",
     "text": [
      " 50%|\u001b[34m█████     \u001b[0m| 5/10 [00:06<00:06,  1.27s/it]\n"
     ]
    },
    {
     "name": "stdout",
     "output_type": "stream",
     "text": [
      "\u001b[36m(DefaultActor pid=52436)\u001b[0m \tTrain Epoch: 6 \tTrain_loss_mri: 0.0013 | Train_acc_mri: 100.0000 | Train_loss_dna: 0.0033 | Train_acc_dna: 100.0000 | Validation_loss_mri: 3.2031 | Validation_acc_mri: 54.1667 | Validation_loss_dna: 1.9884 | Validation_acc_dna: 58.3333\n"
     ]
    },
    {
     "name": "stderr",
     "output_type": "stream",
     "text": [
      " 60%|\u001b[34m██████    \u001b[0m| 6/10 [00:07<00:05,  1.29s/it]\n"
     ]
    },
    {
     "name": "stdout",
     "output_type": "stream",
     "text": [
      "\u001b[36m(DefaultActor pid=52436)\u001b[0m \tTrain Epoch: 7 \tTrain_loss_mri: 0.0008 | Train_acc_mri: 100.0000 | Train_loss_dna: 0.0011 | Train_acc_dna: 100.0000 | Validation_loss_mri: 3.2824 | Validation_acc_mri: 54.1667 | Validation_loss_dna: 1.9423 | Validation_acc_dna: 58.3333\n"
     ]
    },
    {
     "name": "stderr",
     "output_type": "stream",
     "text": [
      " 70%|\u001b[34m███████   \u001b[0m| 7/10 [00:09<00:03,  1.31s/it]\n"
     ]
    },
    {
     "name": "stdout",
     "output_type": "stream",
     "text": [
      "\u001b[36m(DefaultActor pid=52436)\u001b[0m \tTrain Epoch: 8 \tTrain_loss_mri: 0.0003 | Train_acc_mri: 100.0000 | Train_loss_dna: 0.0007 | Train_acc_dna: 100.0000 | Validation_loss_mri: 3.7284 | Validation_acc_mri: 52.6042 | Validation_loss_dna: 2.2565 | Validation_acc_dna: 58.3333\n"
     ]
    },
    {
     "name": "stderr",
     "output_type": "stream",
     "text": [
      " 80%|\u001b[34m████████  \u001b[0m| 8/10 [00:10<00:02,  1.31s/it]\n"
     ]
    },
    {
     "name": "stdout",
     "output_type": "stream",
     "text": [
      "\u001b[36m(DefaultActor pid=52436)\u001b[0m \tTrain Epoch: 9 \tTrain_loss_mri: 0.0002 | Train_acc_mri: 100.0000 | Train_loss_dna: 0.0005 | Train_acc_dna: 100.0000 | Validation_loss_mri: 3.7257 | Validation_acc_mri: 52.6042 | Validation_loss_dna: 2.2807 | Validation_acc_dna: 56.7708\n"
     ]
    },
    {
     "name": "stderr",
     "output_type": "stream",
     "text": [
      " 90%|\u001b[34m█████████ \u001b[0m| 9/10 [00:11<00:01,  1.32s/it]\n"
     ]
    },
    {
     "name": "stdout",
     "output_type": "stream",
     "text": [
      "\u001b[36m(DefaultActor pid=52436)\u001b[0m \tTrain Epoch: 10 \tTrain_loss_mri: 0.0001 | Train_acc_mri: 100.0000 | Train_loss_dna: 0.0003 | Train_acc_dna: 100.0000 | Validation_loss_mri: 3.8411 | Validation_acc_mri: 52.6042 | Validation_loss_dna: 2.5868 | Validation_acc_dna: 56.7708\n",
      "\u001b[36m(DefaultActor pid=52436)\u001b[0m save graph in  results/FL_DNA+MRI/\n"
     ]
    },
    {
     "name": "stderr",
     "output_type": "stream",
     "text": [
      "100%|\u001b[34m██████████\u001b[0m| 10/10 [00:13<00:00,  1.31s/it]\n",
      "DEBUG flwr 2024-10-06 21:34:01,914 | server.py:236 | fit_round 4 received 10 results and 0 failures\n"
     ]
    },
    {
     "name": "stdout",
     "output_type": "stream",
     "text": [
      "Saving round 4 aggregated_parameters...\n",
      "Updated model\n"
     ]
    },
    {
     "name": "stderr",
     "output_type": "stream",
     "text": [
      "INFO flwr 2024-10-06 21:34:18,011 | server.py:125 | fit progress: (4, (0.9466582206743104, 0.7988593056797981), {'accuracy': (80.09672619047619, 71.39136904761905)}, 1090.9460195410065)\n",
      "DEBUG flwr 2024-10-06 21:34:18,013 | server.py:173 | evaluate_round 4: strategy sampled 10 clients (out of 10)\n"
     ]
    },
    {
     "name": "stdout",
     "output_type": "stream",
     "text": [
      "Server-side evaluation MRI loss 0.9466582206743104 / MRI accuracy 80.09672619047619\n",
      "Server-side evaluation DNA loss 0.7988593056797981 / DNA accuracy 71.39136904761905\n",
      "\u001b[36m(DefaultActor pid=52436)\u001b[0m  To get the checkpoint\n",
      "\u001b[36m(DefaultActor pid=52436)\u001b[0m [Client 8] evaluate, config: {}\n",
      "\u001b[36m(DefaultActor pid=52436)\u001b[0m Updated model\n"
     ]
    },
    {
     "name": "stderr",
     "output_type": "stream",
     "text": [
      "\u001b[36m(DefaultActor pid=52436)\u001b[0m /tmp/ipykernel_51903/752934157.py:10: FutureWarning: You are using `torch.load` with `weights_only=False` (the current default value), which uses the default pickle module implicitly. It is possible to construct malicious pickle data which will execute arbitrary code during unpickling (See https://github.com/pytorch/pytorch/blob/main/SECURITY.md#untrusted-models for more details). In a future release, the default value for `weights_only` will be flipped to `True`. This limits the functions that could be executed during unpickling. Arbitrary objects will no longer be allowed to be loaded via this mode unless they are explicitly allowlisted by the user via `torch.serialization.add_safe_globals`. We recommend you start setting `weights_only=True` for any use case where you don't have full control of the loaded file. Please open an issue on GitHub for any issues related to this experimental feature.\n",
      "\u001b[36m(DefaultActor pid=52436)\u001b[0m /home/cudaq/.local/lib/python3.10/site-packages/sklearn/metrics/_ranking.py:1183: UndefinedMetricWarning: No positive samples in y_true, true positive value should be meaningless\n",
      "\u001b[36m(DefaultActor pid=52436)\u001b[0m   warnings.warn(\n",
      "\u001b[36m(DefaultActor pid=52436)\u001b[0m /home/cudaq/.local/lib/python3.10/site-packages/torch/storage.py:414: FutureWarning: You are using `torch.load` with `weights_only=False` (the current default value), which uses the default pickle module implicitly. It is possible to construct malicious pickle data which will execute arbitrary code during unpickling (See https://github.com/pytorch/pytorch/blob/main/SECURITY.md#untrusted-models for more details). In a future release, the default value for `weights_only` will be flipped to `True`. This limits the functions that could be executed during unpickling. Arbitrary objects will no longer be allowed to be loaded via this mode unless they are explicitly allowlisted by the user via `torch.serialization.add_safe_globals`. We recommend you start setting `weights_only=True` for any use case where you don't have full control of the loaded file. Please open an issue on GitHub for any issues related to this experimental feature.\n",
      "\u001b[36m(DefaultActor pid=52436)\u001b[0m   return torch.load(io.BytesIO(b))\n"
     ]
    },
    {
     "name": "stdout",
     "output_type": "stream",
     "text": [
      "\u001b[36m(DefaultActor pid=52436)\u001b[0m  To get the checkpoint\n",
      "\u001b[36m(DefaultActor pid=52436)\u001b[0m [Client 4] evaluate, config: {}\n",
      "\u001b[36m(DefaultActor pid=52436)\u001b[0m Updated model\n"
     ]
    },
    {
     "name": "stderr",
     "output_type": "stream",
     "text": [
      "\u001b[36m(DefaultActor pid=52436)\u001b[0m /tmp/ipykernel_51903/752934157.py:10: FutureWarning: You are using `torch.load` with `weights_only=False` (the current default value), which uses the default pickle module implicitly. It is possible to construct malicious pickle data which will execute arbitrary code during unpickling (See https://github.com/pytorch/pytorch/blob/main/SECURITY.md#untrusted-models for more details). In a future release, the default value for `weights_only` will be flipped to `True`. This limits the functions that could be executed during unpickling. Arbitrary objects will no longer be allowed to be loaded via this mode unless they are explicitly allowlisted by the user via `torch.serialization.add_safe_globals`. We recommend you start setting `weights_only=True` for any use case where you don't have full control of the loaded file. Please open an issue on GitHub for any issues related to this experimental feature.\n",
      "\u001b[36m(DefaultActor pid=52436)\u001b[0m /home/cudaq/.local/lib/python3.10/site-packages/sklearn/metrics/_ranking.py:1183: UndefinedMetricWarning: No positive samples in y_true, true positive value should be meaningless\n",
      "\u001b[36m(DefaultActor pid=52436)\u001b[0m   warnings.warn(\n",
      "\u001b[36m(DefaultActor pid=52436)\u001b[0m /home/cudaq/.local/lib/python3.10/site-packages/torch/storage.py:414: FutureWarning: You are using `torch.load` with `weights_only=False` (the current default value), which uses the default pickle module implicitly. It is possible to construct malicious pickle data which will execute arbitrary code during unpickling (See https://github.com/pytorch/pytorch/blob/main/SECURITY.md#untrusted-models for more details). In a future release, the default value for `weights_only` will be flipped to `True`. This limits the functions that could be executed during unpickling. Arbitrary objects will no longer be allowed to be loaded via this mode unless they are explicitly allowlisted by the user via `torch.serialization.add_safe_globals`. We recommend you start setting `weights_only=True` for any use case where you don't have full control of the loaded file. Please open an issue on GitHub for any issues related to this experimental feature.\n",
      "\u001b[36m(DefaultActor pid=52436)\u001b[0m   return torch.load(io.BytesIO(b))\n"
     ]
    },
    {
     "name": "stdout",
     "output_type": "stream",
     "text": [
      "\u001b[36m(DefaultActor pid=52436)\u001b[0m  To get the checkpoint\n",
      "\u001b[36m(DefaultActor pid=52436)\u001b[0m [Client 3] evaluate, config: {}\n",
      "\u001b[36m(DefaultActor pid=52436)\u001b[0m Updated model\n"
     ]
    },
    {
     "name": "stderr",
     "output_type": "stream",
     "text": [
      "\u001b[36m(DefaultActor pid=52436)\u001b[0m /tmp/ipykernel_51903/752934157.py:10: FutureWarning: You are using `torch.load` with `weights_only=False` (the current default value), which uses the default pickle module implicitly. It is possible to construct malicious pickle data which will execute arbitrary code during unpickling (See https://github.com/pytorch/pytorch/blob/main/SECURITY.md#untrusted-models for more details). In a future release, the default value for `weights_only` will be flipped to `True`. This limits the functions that could be executed during unpickling. Arbitrary objects will no longer be allowed to be loaded via this mode unless they are explicitly allowlisted by the user via `torch.serialization.add_safe_globals`. We recommend you start setting `weights_only=True` for any use case where you don't have full control of the loaded file. Please open an issue on GitHub for any issues related to this experimental feature.\n",
      "\u001b[36m(DefaultActor pid=52436)\u001b[0m /home/cudaq/.local/lib/python3.10/site-packages/torch/storage.py:414: FutureWarning: You are using `torch.load` with `weights_only=False` (the current default value), which uses the default pickle module implicitly. It is possible to construct malicious pickle data which will execute arbitrary code during unpickling (See https://github.com/pytorch/pytorch/blob/main/SECURITY.md#untrusted-models for more details). In a future release, the default value for `weights_only` will be flipped to `True`. This limits the functions that could be executed during unpickling. Arbitrary objects will no longer be allowed to be loaded via this mode unless they are explicitly allowlisted by the user via `torch.serialization.add_safe_globals`. We recommend you start setting `weights_only=True` for any use case where you don't have full control of the loaded file. Please open an issue on GitHub for any issues related to this experimental feature.\n",
      "\u001b[36m(DefaultActor pid=52436)\u001b[0m   return torch.load(io.BytesIO(b))\n"
     ]
    },
    {
     "name": "stdout",
     "output_type": "stream",
     "text": [
      "\u001b[36m(DefaultActor pid=52436)\u001b[0m  To get the checkpoint\n",
      "\u001b[36m(DefaultActor pid=52436)\u001b[0m [Client 7] evaluate, config: {}\n"
     ]
    },
    {
     "name": "stderr",
     "output_type": "stream",
     "text": [
      "\u001b[36m(DefaultActor pid=52436)\u001b[0m /tmp/ipykernel_51903/752934157.py:10: FutureWarning: You are using `torch.load` with `weights_only=False` (the current default value), which uses the default pickle module implicitly. It is possible to construct malicious pickle data which will execute arbitrary code during unpickling (See https://github.com/pytorch/pytorch/blob/main/SECURITY.md#untrusted-models for more details). In a future release, the default value for `weights_only` will be flipped to `True`. This limits the functions that could be executed during unpickling. Arbitrary objects will no longer be allowed to be loaded via this mode unless they are explicitly allowlisted by the user via `torch.serialization.add_safe_globals`. We recommend you start setting `weights_only=True` for any use case where you don't have full control of the loaded file. Please open an issue on GitHub for any issues related to this experimental feature.\n"
     ]
    },
    {
     "name": "stdout",
     "output_type": "stream",
     "text": [
      "\u001b[36m(DefaultActor pid=52436)\u001b[0m Updated model\n"
     ]
    },
    {
     "name": "stderr",
     "output_type": "stream",
     "text": [
      "\u001b[36m(DefaultActor pid=52436)\u001b[0m /home/cudaq/.local/lib/python3.10/site-packages/torch/storage.py:414: FutureWarning: You are using `torch.load` with `weights_only=False` (the current default value), which uses the default pickle module implicitly. It is possible to construct malicious pickle data which will execute arbitrary code during unpickling (See https://github.com/pytorch/pytorch/blob/main/SECURITY.md#untrusted-models for more details). In a future release, the default value for `weights_only` will be flipped to `True`. This limits the functions that could be executed during unpickling. Arbitrary objects will no longer be allowed to be loaded via this mode unless they are explicitly allowlisted by the user via `torch.serialization.add_safe_globals`. We recommend you start setting `weights_only=True` for any use case where you don't have full control of the loaded file. Please open an issue on GitHub for any issues related to this experimental feature.\n",
      "\u001b[36m(DefaultActor pid=52436)\u001b[0m   return torch.load(io.BytesIO(b))\n"
     ]
    },
    {
     "name": "stdout",
     "output_type": "stream",
     "text": [
      "\u001b[36m(DefaultActor pid=52436)\u001b[0m  To get the checkpoint\n",
      "\u001b[36m(DefaultActor pid=52436)\u001b[0m [Client 0] evaluate, config: {}\n",
      "\u001b[36m(DefaultActor pid=52436)\u001b[0m Updated model\n"
     ]
    },
    {
     "name": "stderr",
     "output_type": "stream",
     "text": [
      "\u001b[36m(DefaultActor pid=52436)\u001b[0m /tmp/ipykernel_51903/752934157.py:10: FutureWarning: You are using `torch.load` with `weights_only=False` (the current default value), which uses the default pickle module implicitly. It is possible to construct malicious pickle data which will execute arbitrary code during unpickling (See https://github.com/pytorch/pytorch/blob/main/SECURITY.md#untrusted-models for more details). In a future release, the default value for `weights_only` will be flipped to `True`. This limits the functions that could be executed during unpickling. Arbitrary objects will no longer be allowed to be loaded via this mode unless they are explicitly allowlisted by the user via `torch.serialization.add_safe_globals`. We recommend you start setting `weights_only=True` for any use case where you don't have full control of the loaded file. Please open an issue on GitHub for any issues related to this experimental feature.\n",
      "\u001b[36m(DefaultActor pid=52436)\u001b[0m /home/cudaq/.local/lib/python3.10/site-packages/torch/storage.py:414: FutureWarning: You are using `torch.load` with `weights_only=False` (the current default value), which uses the default pickle module implicitly. It is possible to construct malicious pickle data which will execute arbitrary code during unpickling (See https://github.com/pytorch/pytorch/blob/main/SECURITY.md#untrusted-models for more details). In a future release, the default value for `weights_only` will be flipped to `True`. This limits the functions that could be executed during unpickling. Arbitrary objects will no longer be allowed to be loaded via this mode unless they are explicitly allowlisted by the user via `torch.serialization.add_safe_globals`. We recommend you start setting `weights_only=True` for any use case where you don't have full control of the loaded file. Please open an issue on GitHub for any issues related to this experimental feature.\n",
      "\u001b[36m(DefaultActor pid=52436)\u001b[0m   return torch.load(io.BytesIO(b))\n"
     ]
    },
    {
     "name": "stdout",
     "output_type": "stream",
     "text": [
      "\u001b[36m(DefaultActor pid=52436)\u001b[0m  To get the checkpoint\n",
      "\u001b[36m(DefaultActor pid=52436)\u001b[0m [Client 1] evaluate, config: {}\n",
      "\u001b[36m(DefaultActor pid=52436)\u001b[0m Updated model\n"
     ]
    },
    {
     "name": "stderr",
     "output_type": "stream",
     "text": [
      "\u001b[36m(DefaultActor pid=52436)\u001b[0m /tmp/ipykernel_51903/752934157.py:10: FutureWarning: You are using `torch.load` with `weights_only=False` (the current default value), which uses the default pickle module implicitly. It is possible to construct malicious pickle data which will execute arbitrary code during unpickling (See https://github.com/pytorch/pytorch/blob/main/SECURITY.md#untrusted-models for more details). In a future release, the default value for `weights_only` will be flipped to `True`. This limits the functions that could be executed during unpickling. Arbitrary objects will no longer be allowed to be loaded via this mode unless they are explicitly allowlisted by the user via `torch.serialization.add_safe_globals`. We recommend you start setting `weights_only=True` for any use case where you don't have full control of the loaded file. Please open an issue on GitHub for any issues related to this experimental feature.\n",
      "\u001b[36m(DefaultActor pid=52436)\u001b[0m /home/cudaq/.local/lib/python3.10/site-packages/torch/storage.py:414: FutureWarning: You are using `torch.load` with `weights_only=False` (the current default value), which uses the default pickle module implicitly. It is possible to construct malicious pickle data which will execute arbitrary code during unpickling (See https://github.com/pytorch/pytorch/blob/main/SECURITY.md#untrusted-models for more details). In a future release, the default value for `weights_only` will be flipped to `True`. This limits the functions that could be executed during unpickling. Arbitrary objects will no longer be allowed to be loaded via this mode unless they are explicitly allowlisted by the user via `torch.serialization.add_safe_globals`. We recommend you start setting `weights_only=True` for any use case where you don't have full control of the loaded file. Please open an issue on GitHub for any issues related to this experimental feature.\n",
      "\u001b[36m(DefaultActor pid=52436)\u001b[0m   return torch.load(io.BytesIO(b))\n"
     ]
    },
    {
     "name": "stdout",
     "output_type": "stream",
     "text": [
      "\u001b[36m(DefaultActor pid=52436)\u001b[0m  To get the checkpoint\n",
      "\u001b[36m(DefaultActor pid=52436)\u001b[0m [Client 6] evaluate, config: {}\n",
      "\u001b[36m(DefaultActor pid=52436)\u001b[0m Updated model\n"
     ]
    },
    {
     "name": "stderr",
     "output_type": "stream",
     "text": [
      "\u001b[36m(DefaultActor pid=52436)\u001b[0m /tmp/ipykernel_51903/752934157.py:10: FutureWarning: You are using `torch.load` with `weights_only=False` (the current default value), which uses the default pickle module implicitly. It is possible to construct malicious pickle data which will execute arbitrary code during unpickling (See https://github.com/pytorch/pytorch/blob/main/SECURITY.md#untrusted-models for more details). In a future release, the default value for `weights_only` will be flipped to `True`. This limits the functions that could be executed during unpickling. Arbitrary objects will no longer be allowed to be loaded via this mode unless they are explicitly allowlisted by the user via `torch.serialization.add_safe_globals`. We recommend you start setting `weights_only=True` for any use case where you don't have full control of the loaded file. Please open an issue on GitHub for any issues related to this experimental feature.\n",
      "\u001b[36m(DefaultActor pid=52436)\u001b[0m /home/cudaq/.local/lib/python3.10/site-packages/torch/storage.py:414: FutureWarning: You are using `torch.load` with `weights_only=False` (the current default value), which uses the default pickle module implicitly. It is possible to construct malicious pickle data which will execute arbitrary code during unpickling (See https://github.com/pytorch/pytorch/blob/main/SECURITY.md#untrusted-models for more details). In a future release, the default value for `weights_only` will be flipped to `True`. This limits the functions that could be executed during unpickling. Arbitrary objects will no longer be allowed to be loaded via this mode unless they are explicitly allowlisted by the user via `torch.serialization.add_safe_globals`. We recommend you start setting `weights_only=True` for any use case where you don't have full control of the loaded file. Please open an issue on GitHub for any issues related to this experimental feature.\n",
      "\u001b[36m(DefaultActor pid=52436)\u001b[0m   return torch.load(io.BytesIO(b))\n"
     ]
    },
    {
     "name": "stdout",
     "output_type": "stream",
     "text": [
      "\u001b[36m(DefaultActor pid=52436)\u001b[0m  To get the checkpoint\n",
      "\u001b[36m(DefaultActor pid=52436)\u001b[0m [Client 2] evaluate, config: {}\n",
      "\u001b[36m(DefaultActor pid=52436)\u001b[0m Updated model\n"
     ]
    },
    {
     "name": "stderr",
     "output_type": "stream",
     "text": [
      "\u001b[36m(DefaultActor pid=52436)\u001b[0m /tmp/ipykernel_51903/752934157.py:10: FutureWarning: You are using `torch.load` with `weights_only=False` (the current default value), which uses the default pickle module implicitly. It is possible to construct malicious pickle data which will execute arbitrary code during unpickling (See https://github.com/pytorch/pytorch/blob/main/SECURITY.md#untrusted-models for more details). In a future release, the default value for `weights_only` will be flipped to `True`. This limits the functions that could be executed during unpickling. Arbitrary objects will no longer be allowed to be loaded via this mode unless they are explicitly allowlisted by the user via `torch.serialization.add_safe_globals`. We recommend you start setting `weights_only=True` for any use case where you don't have full control of the loaded file. Please open an issue on GitHub for any issues related to this experimental feature.\n",
      "\u001b[36m(DefaultActor pid=52436)\u001b[0m /home/cudaq/.local/lib/python3.10/site-packages/torch/storage.py:414: FutureWarning: You are using `torch.load` with `weights_only=False` (the current default value), which uses the default pickle module implicitly. It is possible to construct malicious pickle data which will execute arbitrary code during unpickling (See https://github.com/pytorch/pytorch/blob/main/SECURITY.md#untrusted-models for more details). In a future release, the default value for `weights_only` will be flipped to `True`. This limits the functions that could be executed during unpickling. Arbitrary objects will no longer be allowed to be loaded via this mode unless they are explicitly allowlisted by the user via `torch.serialization.add_safe_globals`. We recommend you start setting `weights_only=True` for any use case where you don't have full control of the loaded file. Please open an issue on GitHub for any issues related to this experimental feature.\n",
      "\u001b[36m(DefaultActor pid=52436)\u001b[0m   return torch.load(io.BytesIO(b))\n"
     ]
    },
    {
     "name": "stdout",
     "output_type": "stream",
     "text": [
      "\u001b[36m(DefaultActor pid=52436)\u001b[0m  To get the checkpoint\n",
      "\u001b[36m(DefaultActor pid=52436)\u001b[0m [Client 9] evaluate, config: {}\n",
      "\u001b[36m(DefaultActor pid=52436)\u001b[0m Updated model\n"
     ]
    },
    {
     "name": "stderr",
     "output_type": "stream",
     "text": [
      "\u001b[36m(DefaultActor pid=52436)\u001b[0m /tmp/ipykernel_51903/752934157.py:10: FutureWarning: You are using `torch.load` with `weights_only=False` (the current default value), which uses the default pickle module implicitly. It is possible to construct malicious pickle data which will execute arbitrary code during unpickling (See https://github.com/pytorch/pytorch/blob/main/SECURITY.md#untrusted-models for more details). In a future release, the default value for `weights_only` will be flipped to `True`. This limits the functions that could be executed during unpickling. Arbitrary objects will no longer be allowed to be loaded via this mode unless they are explicitly allowlisted by the user via `torch.serialization.add_safe_globals`. We recommend you start setting `weights_only=True` for any use case where you don't have full control of the loaded file. Please open an issue on GitHub for any issues related to this experimental feature.\n",
      "\u001b[36m(DefaultActor pid=52436)\u001b[0m /home/cudaq/.local/lib/python3.10/site-packages/sklearn/metrics/_ranking.py:1183: UndefinedMetricWarning: No positive samples in y_true, true positive value should be meaningless\n",
      "\u001b[36m(DefaultActor pid=52436)\u001b[0m   warnings.warn(\n",
      "\u001b[36m(DefaultActor pid=52436)\u001b[0m /home/cudaq/.local/lib/python3.10/site-packages/torch/storage.py:414: FutureWarning: You are using `torch.load` with `weights_only=False` (the current default value), which uses the default pickle module implicitly. It is possible to construct malicious pickle data which will execute arbitrary code during unpickling (See https://github.com/pytorch/pytorch/blob/main/SECURITY.md#untrusted-models for more details). In a future release, the default value for `weights_only` will be flipped to `True`. This limits the functions that could be executed during unpickling. Arbitrary objects will no longer be allowed to be loaded via this mode unless they are explicitly allowlisted by the user via `torch.serialization.add_safe_globals`. We recommend you start setting `weights_only=True` for any use case where you don't have full control of the loaded file. Please open an issue on GitHub for any issues related to this experimental feature.\n",
      "\u001b[36m(DefaultActor pid=52436)\u001b[0m   return torch.load(io.BytesIO(b))\n"
     ]
    },
    {
     "name": "stdout",
     "output_type": "stream",
     "text": [
      "\u001b[36m(DefaultActor pid=52436)\u001b[0m  To get the checkpoint\n",
      "\u001b[36m(DefaultActor pid=52436)\u001b[0m [Client 5] evaluate, config: {}\n",
      "\u001b[36m(DefaultActor pid=52436)\u001b[0m Updated model\n"
     ]
    },
    {
     "name": "stderr",
     "output_type": "stream",
     "text": [
      "\u001b[36m(DefaultActor pid=52436)\u001b[0m /tmp/ipykernel_51903/752934157.py:10: FutureWarning: You are using `torch.load` with `weights_only=False` (the current default value), which uses the default pickle module implicitly. It is possible to construct malicious pickle data which will execute arbitrary code during unpickling (See https://github.com/pytorch/pytorch/blob/main/SECURITY.md#untrusted-models for more details). In a future release, the default value for `weights_only` will be flipped to `True`. This limits the functions that could be executed during unpickling. Arbitrary objects will no longer be allowed to be loaded via this mode unless they are explicitly allowlisted by the user via `torch.serialization.add_safe_globals`. We recommend you start setting `weights_only=True` for any use case where you don't have full control of the loaded file. Please open an issue on GitHub for any issues related to this experimental feature.\n",
      "DEBUG flwr 2024-10-06 21:35:28,800 | server.py:187 | evaluate_round 4 received 10 results and 0 failures\n",
      "DEBUG flwr 2024-10-06 21:35:28,801 | server.py:222 | fit_round 5: strategy sampled 10 clients (out of 10)\n",
      "\u001b[36m(DefaultActor pid=52436)\u001b[0m /home/cudaq/.local/lib/python3.10/site-packages/torch/storage.py:414: FutureWarning: You are using `torch.load` with `weights_only=False` (the current default value), which uses the default pickle module implicitly. It is possible to construct malicious pickle data which will execute arbitrary code during unpickling (See https://github.com/pytorch/pytorch/blob/main/SECURITY.md#untrusted-models for more details). In a future release, the default value for `weights_only` will be flipped to `True`. This limits the functions that could be executed during unpickling. Arbitrary objects will no longer be allowed to be loaded via this mode unless they are explicitly allowlisted by the user via `torch.serialization.add_safe_globals`. We recommend you start setting `weights_only=True` for any use case where you don't have full control of the loaded file. Please open an issue on GitHub for any issues related to this experimental feature.\n",
      "\u001b[36m(DefaultActor pid=52436)\u001b[0m   return torch.load(io.BytesIO(b))\n"
     ]
    },
    {
     "name": "stdout",
     "output_type": "stream",
     "text": [
      "\u001b[36m(DefaultActor pid=52436)\u001b[0m  To get the checkpoint\n",
      "\u001b[36m(DefaultActor pid=52436)\u001b[0m [Client 9, round 5] fit, config: {'learning_rate': 0.003, 'batch_size': '32', 'server_round': 5, 'local_epochs': 10}\n",
      "\u001b[36m(DefaultActor pid=52436)\u001b[0m Updated model\n"
     ]
    },
    {
     "name": "stderr",
     "output_type": "stream",
     "text": [
      "\u001b[36m(DefaultActor pid=52436)\u001b[0m /tmp/ipykernel_51903/752934157.py:10: FutureWarning: You are using `torch.load` with `weights_only=False` (the current default value), which uses the default pickle module implicitly. It is possible to construct malicious pickle data which will execute arbitrary code during unpickling (See https://github.com/pytorch/pytorch/blob/main/SECURITY.md#untrusted-models for more details). In a future release, the default value for `weights_only` will be flipped to `True`. This limits the functions that could be executed during unpickling. Arbitrary objects will no longer be allowed to be loaded via this mode unless they are explicitly allowlisted by the user via `torch.serialization.add_safe_globals`. We recommend you start setting `weights_only=True` for any use case where you don't have full control of the loaded file. Please open an issue on GitHub for any issues related to this experimental feature.\n",
      "  0%|\u001b[34m          \u001b[0m| 0/10 [00:00<?, ?it/s]\n"
     ]
    },
    {
     "name": "stdout",
     "output_type": "stream",
     "text": [
      "\u001b[36m(DefaultActor pid=52436)\u001b[0m \tTrain Epoch: 1 \tTrain_loss_mri: 0.3366 | Train_acc_mri: 87.7823 | Train_loss_dna: 0.1920 | Train_acc_dna: 92.7823 | Validation_loss_mri: 0.9105 | Validation_acc_mri: 77.0833 | Validation_loss_dna: 0.3947 | Validation_acc_dna: 89.0625\n"
     ]
    },
    {
     "name": "stderr",
     "output_type": "stream",
     "text": [
      " 10%|\u001b[34m█         \u001b[0m| 1/10 [00:01<00:11,  1.26s/it]\n"
     ]
    },
    {
     "name": "stdout",
     "output_type": "stream",
     "text": [
      "\u001b[36m(DefaultActor pid=52436)\u001b[0m \tTrain Epoch: 2 \tTrain_loss_mri: 0.0770 | Train_acc_mri: 98.1149 | Train_loss_dna: 0.2610 | Train_acc_dna: 92.4798 | Validation_loss_mri: 0.7416 | Validation_acc_mri: 72.3958 | Validation_loss_dna: 0.4419 | Validation_acc_dna: 85.9375\n"
     ]
    },
    {
     "name": "stderr",
     "output_type": "stream",
     "text": [
      " 20%|\u001b[34m██        \u001b[0m| 2/10 [00:02<00:10,  1.29s/it]\n"
     ]
    },
    {
     "name": "stdout",
     "output_type": "stream",
     "text": [
      "\u001b[36m(DefaultActor pid=52436)\u001b[0m \tTrain Epoch: 3 \tTrain_loss_mri: 0.0214 | Train_acc_mri: 100.0000 | Train_loss_dna: 0.0858 | Train_acc_dna: 98.7500 | Validation_loss_mri: 1.1983 | Validation_acc_mri: 77.0833 | Validation_loss_dna: 0.3185 | Validation_acc_dna: 89.0625\n"
     ]
    },
    {
     "name": "stderr",
     "output_type": "stream",
     "text": [
      " 30%|\u001b[34m███       \u001b[0m| 3/10 [00:03<00:09,  1.30s/it]\n"
     ]
    },
    {
     "name": "stdout",
     "output_type": "stream",
     "text": [
      "\u001b[36m(DefaultActor pid=52436)\u001b[0m \tTrain Epoch: 4 \tTrain_loss_mri: 0.0226 | Train_acc_mri: 99.6875 | Train_loss_dna: 0.0367 | Train_acc_dna: 99.0625 | Validation_loss_mri: 1.2715 | Validation_acc_mri: 78.6458 | Validation_loss_dna: 0.6524 | Validation_acc_dna: 76.5625\n"
     ]
    },
    {
     "name": "stderr",
     "output_type": "stream",
     "text": [
      " 40%|\u001b[34m████      \u001b[0m| 4/10 [00:05<00:07,  1.32s/it]\n"
     ]
    },
    {
     "name": "stdout",
     "output_type": "stream",
     "text": [
      "\u001b[36m(DefaultActor pid=52436)\u001b[0m \tTrain Epoch: 5 \tTrain_loss_mri: 0.0054 | Train_acc_mri: 100.0000 | Train_loss_dna: 0.0241 | Train_acc_dna: 99.3750 | Validation_loss_mri: 1.1941 | Validation_acc_mri: 77.0833 | Validation_loss_dna: 0.4177 | Validation_acc_dna: 82.8125\n"
     ]
    },
    {
     "name": "stderr",
     "output_type": "stream",
     "text": [
      " 50%|\u001b[34m█████     \u001b[0m| 5/10 [00:06<00:06,  1.33s/it]\n"
     ]
    },
    {
     "name": "stdout",
     "output_type": "stream",
     "text": [
      "\u001b[36m(DefaultActor pid=52436)\u001b[0m \tTrain Epoch: 6 \tTrain_loss_mri: 0.0032 | Train_acc_mri: 100.0000 | Train_loss_dna: 0.0085 | Train_acc_dna: 100.0000 | Validation_loss_mri: 1.3539 | Validation_acc_mri: 77.0833 | Validation_loss_dna: 0.6830 | Validation_acc_dna: 81.2500\n"
     ]
    },
    {
     "name": "stderr",
     "output_type": "stream",
     "text": [
      " 60%|\u001b[34m██████    \u001b[0m| 6/10 [00:07<00:05,  1.32s/it]\n"
     ]
    },
    {
     "name": "stdout",
     "output_type": "stream",
     "text": [
      "\u001b[36m(DefaultActor pid=52436)\u001b[0m \tTrain Epoch: 7 \tTrain_loss_mri: 0.0008 | Train_acc_mri: 100.0000 | Train_loss_dna: 0.0056 | Train_acc_dna: 100.0000 | Validation_loss_mri: 1.5586 | Validation_acc_mri: 73.9583 | Validation_loss_dna: 0.6358 | Validation_acc_dna: 82.8125\n"
     ]
    },
    {
     "name": "stderr",
     "output_type": "stream",
     "text": [
      " 70%|\u001b[34m███████   \u001b[0m| 7/10 [00:09<00:03,  1.33s/it]\n"
     ]
    },
    {
     "name": "stdout",
     "output_type": "stream",
     "text": [
      "\u001b[36m(DefaultActor pid=52436)\u001b[0m \tTrain Epoch: 8 \tTrain_loss_mri: 0.0012 | Train_acc_mri: 100.0000 | Train_loss_dna: 0.0022 | Train_acc_dna: 100.0000 | Validation_loss_mri: 1.7569 | Validation_acc_mri: 75.5208 | Validation_loss_dna: 0.4795 | Validation_acc_dna: 82.8125\n"
     ]
    },
    {
     "name": "stderr",
     "output_type": "stream",
     "text": [
      " 80%|\u001b[34m████████  \u001b[0m| 8/10 [00:10<00:02,  1.32s/it]\n"
     ]
    },
    {
     "name": "stdout",
     "output_type": "stream",
     "text": [
      "\u001b[36m(DefaultActor pid=52436)\u001b[0m \tTrain Epoch: 9 \tTrain_loss_mri: 0.0010 | Train_acc_mri: 100.0000 | Train_loss_dna: 0.0023 | Train_acc_dna: 100.0000 | Validation_loss_mri: 1.7760 | Validation_acc_mri: 77.0833 | Validation_loss_dna: 0.4882 | Validation_acc_dna: 84.3750\n"
     ]
    },
    {
     "name": "stderr",
     "output_type": "stream",
     "text": [
      " 90%|\u001b[34m█████████ \u001b[0m| 9/10 [00:11<00:01,  1.30s/it]\n"
     ]
    },
    {
     "name": "stdout",
     "output_type": "stream",
     "text": [
      "\u001b[36m(DefaultActor pid=52436)\u001b[0m \tTrain Epoch: 10 \tTrain_loss_mri: 0.0003 | Train_acc_mri: 100.0000 | Train_loss_dna: 0.0008 | Train_acc_dna: 100.0000 | Validation_loss_mri: 1.8066 | Validation_acc_mri: 75.5208 | Validation_loss_dna: 0.5563 | Validation_acc_dna: 84.3750\n",
      "\u001b[36m(DefaultActor pid=52436)\u001b[0m save graph in  results/FL_DNA+MRI/\n"
     ]
    },
    {
     "name": "stderr",
     "output_type": "stream",
     "text": [
      "100%|\u001b[34m██████████\u001b[0m| 10/10 [00:13<00:00,  1.30s/it]\n"
     ]
    },
    {
     "name": "stdout",
     "output_type": "stream",
     "text": [
      "\u001b[36m(DefaultActor pid=52436)\u001b[0m  To get the checkpoint\n",
      "\u001b[36m(DefaultActor pid=52436)\u001b[0m [Client 2, round 5] fit, config: {'learning_rate': 0.003, 'batch_size': '32', 'server_round': 5, 'local_epochs': 10}\n",
      "\u001b[36m(DefaultActor pid=52436)\u001b[0m Updated model\n"
     ]
    },
    {
     "name": "stderr",
     "output_type": "stream",
     "text": [
      "\u001b[36m(DefaultActor pid=52436)\u001b[0m /tmp/ipykernel_51903/752934157.py:10: FutureWarning: You are using `torch.load` with `weights_only=False` (the current default value), which uses the default pickle module implicitly. It is possible to construct malicious pickle data which will execute arbitrary code during unpickling (See https://github.com/pytorch/pytorch/blob/main/SECURITY.md#untrusted-models for more details). In a future release, the default value for `weights_only` will be flipped to `True`. This limits the functions that could be executed during unpickling. Arbitrary objects will no longer be allowed to be loaded via this mode unless they are explicitly allowlisted by the user via `torch.serialization.add_safe_globals`. We recommend you start setting `weights_only=True` for any use case where you don't have full control of the loaded file. Please open an issue on GitHub for any issues related to this experimental feature.\n",
      "  0%|\u001b[34m          \u001b[0m| 0/10 [00:00<?, ?it/s]\n"
     ]
    },
    {
     "name": "stdout",
     "output_type": "stream",
     "text": [
      "\u001b[36m(DefaultActor pid=52436)\u001b[0m \tTrain Epoch: 1 \tTrain_loss_mri: 0.3285 | Train_acc_mri: 89.5139 | Train_loss_dna: 0.2090 | Train_acc_dna: 93.3796 | Validation_loss_mri: 1.5296 | Validation_acc_mri: 55.7292 | Validation_loss_dna: 0.9626 | Validation_acc_dna: 81.2500\n"
     ]
    },
    {
     "name": "stderr",
     "output_type": "stream",
     "text": [
      " 10%|\u001b[34m█         \u001b[0m| 1/10 [00:01<00:11,  1.31s/it]\n"
     ]
    },
    {
     "name": "stdout",
     "output_type": "stream",
     "text": [
      "\u001b[36m(DefaultActor pid=52436)\u001b[0m \tTrain Epoch: 2 \tTrain_loss_mri: 0.0833 | Train_acc_mri: 97.8125 | Train_loss_dna: 0.2408 | Train_acc_dna: 92.6968 | Validation_loss_mri: 1.2505 | Validation_acc_mri: 55.7292 | Validation_loss_dna: 0.9300 | Validation_acc_dna: 66.1458\n"
     ]
    },
    {
     "name": "stderr",
     "output_type": "stream",
     "text": [
      " 20%|\u001b[34m██        \u001b[0m| 2/10 [00:02<00:10,  1.31s/it]\n"
     ]
    },
    {
     "name": "stdout",
     "output_type": "stream",
     "text": [
      "\u001b[36m(DefaultActor pid=52436)\u001b[0m \tTrain Epoch: 3 \tTrain_loss_mri: 0.0356 | Train_acc_mri: 99.3171 | Train_loss_dna: 0.0778 | Train_acc_dna: 98.7500 | Validation_loss_mri: 1.7581 | Validation_acc_mri: 67.7083 | Validation_loss_dna: 0.7587 | Validation_acc_dna: 59.8958\n"
     ]
    },
    {
     "name": "stderr",
     "output_type": "stream",
     "text": [
      " 30%|\u001b[34m███       \u001b[0m| 3/10 [00:03<00:09,  1.31s/it]\n"
     ]
    },
    {
     "name": "stdout",
     "output_type": "stream",
     "text": [
      "\u001b[36m(DefaultActor pid=52436)\u001b[0m \tTrain Epoch: 4 \tTrain_loss_mri: 0.0082 | Train_acc_mri: 100.0000 | Train_loss_dna: 0.0292 | Train_acc_dna: 99.6875 | Validation_loss_mri: 1.3445 | Validation_acc_mri: 57.2917 | Validation_loss_dna: 0.6707 | Validation_acc_dna: 82.8125\n"
     ]
    },
    {
     "name": "stderr",
     "output_type": "stream",
     "text": [
      " 40%|\u001b[34m████      \u001b[0m| 4/10 [00:05<00:07,  1.31s/it]\n"
     ]
    },
    {
     "name": "stdout",
     "output_type": "stream",
     "text": [
      "\u001b[36m(DefaultActor pid=52436)\u001b[0m \tTrain Epoch: 5 \tTrain_loss_mri: 0.0052 | Train_acc_mri: 100.0000 | Train_loss_dna: 0.0076 | Train_acc_dna: 100.0000 | Validation_loss_mri: 1.3800 | Validation_acc_mri: 57.2917 | Validation_loss_dna: 0.6403 | Validation_acc_dna: 82.8125\n"
     ]
    },
    {
     "name": "stderr",
     "output_type": "stream",
     "text": [
      " 50%|\u001b[34m█████     \u001b[0m| 5/10 [00:06<00:06,  1.31s/it]\n"
     ]
    },
    {
     "name": "stdout",
     "output_type": "stream",
     "text": [
      "\u001b[36m(DefaultActor pid=52436)\u001b[0m \tTrain Epoch: 6 \tTrain_loss_mri: 0.0018 | Train_acc_mri: 100.0000 | Train_loss_dna: 0.0030 | Train_acc_dna: 100.0000 | Validation_loss_mri: 1.5527 | Validation_acc_mri: 55.7292 | Validation_loss_dna: 0.6619 | Validation_acc_dna: 81.2500\n"
     ]
    },
    {
     "name": "stderr",
     "output_type": "stream",
     "text": [
      " 60%|\u001b[34m██████    \u001b[0m| 6/10 [00:07<00:05,  1.32s/it]\n"
     ]
    },
    {
     "name": "stdout",
     "output_type": "stream",
     "text": [
      "\u001b[36m(DefaultActor pid=52436)\u001b[0m \tTrain Epoch: 7 \tTrain_loss_mri: 0.0007 | Train_acc_mri: 100.0000 | Train_loss_dna: 0.0017 | Train_acc_dna: 100.0000 | Validation_loss_mri: 1.6970 | Validation_acc_mri: 54.1667 | Validation_loss_dna: 0.7193 | Validation_acc_dna: 81.2500\n"
     ]
    },
    {
     "name": "stderr",
     "output_type": "stream",
     "text": [
      " 70%|\u001b[34m███████   \u001b[0m| 7/10 [00:09<00:04,  1.33s/it]\n"
     ]
    },
    {
     "name": "stdout",
     "output_type": "stream",
     "text": [
      "\u001b[36m(DefaultActor pid=52436)\u001b[0m \tTrain Epoch: 8 \tTrain_loss_mri: 0.0004 | Train_acc_mri: 100.0000 | Train_loss_dna: 0.0011 | Train_acc_dna: 100.0000 | Validation_loss_mri: 1.7652 | Validation_acc_mri: 54.1667 | Validation_loss_dna: 0.7188 | Validation_acc_dna: 82.8125\n"
     ]
    },
    {
     "name": "stderr",
     "output_type": "stream",
     "text": [
      " 80%|\u001b[34m████████  \u001b[0m| 8/10 [00:10<00:02,  1.35s/it]\n"
     ]
    },
    {
     "name": "stdout",
     "output_type": "stream",
     "text": [
      "\u001b[36m(DefaultActor pid=52436)\u001b[0m \tTrain Epoch: 9 \tTrain_loss_mri: 0.0003 | Train_acc_mri: 100.0000 | Train_loss_dna: 0.0008 | Train_acc_dna: 100.0000 | Validation_loss_mri: 1.8054 | Validation_acc_mri: 54.1667 | Validation_loss_dna: 0.7187 | Validation_acc_dna: 82.8125\n"
     ]
    },
    {
     "name": "stderr",
     "output_type": "stream",
     "text": [
      " 90%|\u001b[34m█████████ \u001b[0m| 9/10 [00:12<00:01,  1.36s/it]\n"
     ]
    },
    {
     "name": "stdout",
     "output_type": "stream",
     "text": [
      "\u001b[36m(DefaultActor pid=52436)\u001b[0m \tTrain Epoch: 10 \tTrain_loss_mri: 0.0003 | Train_acc_mri: 100.0000 | Train_loss_dna: 0.0006 | Train_acc_dna: 100.0000 | Validation_loss_mri: 1.8297 | Validation_acc_mri: 54.1667 | Validation_loss_dna: 0.7275 | Validation_acc_dna: 81.2500\n",
      "\u001b[36m(DefaultActor pid=52436)\u001b[0m save graph in  results/FL_DNA+MRI/\n"
     ]
    },
    {
     "name": "stderr",
     "output_type": "stream",
     "text": [
      "100%|\u001b[34m██████████\u001b[0m| 10/10 [00:13<00:00,  1.33s/it]\n"
     ]
    },
    {
     "name": "stdout",
     "output_type": "stream",
     "text": [
      "\u001b[36m(DefaultActor pid=52436)\u001b[0m  To get the checkpoint\n",
      "\u001b[36m(DefaultActor pid=52436)\u001b[0m [Client 5, round 5] fit, config: {'learning_rate': 0.003, 'batch_size': '32', 'server_round': 5, 'local_epochs': 10}\n",
      "\u001b[36m(DefaultActor pid=52436)\u001b[0m Updated model\n"
     ]
    },
    {
     "name": "stderr",
     "output_type": "stream",
     "text": [
      "\u001b[36m(DefaultActor pid=52436)\u001b[0m /tmp/ipykernel_51903/752934157.py:10: FutureWarning: You are using `torch.load` with `weights_only=False` (the current default value), which uses the default pickle module implicitly. It is possible to construct malicious pickle data which will execute arbitrary code during unpickling (See https://github.com/pytorch/pytorch/blob/main/SECURITY.md#untrusted-models for more details). In a future release, the default value for `weights_only` will be flipped to `True`. This limits the functions that could be executed during unpickling. Arbitrary objects will no longer be allowed to be loaded via this mode unless they are explicitly allowlisted by the user via `torch.serialization.add_safe_globals`. We recommend you start setting `weights_only=True` for any use case where you don't have full control of the loaded file. Please open an issue on GitHub for any issues related to this experimental feature.\n",
      "  0%|\u001b[34m          \u001b[0m| 0/10 [00:00<?, ?it/s]\n"
     ]
    },
    {
     "name": "stdout",
     "output_type": "stream",
     "text": [
      "\u001b[36m(DefaultActor pid=52436)\u001b[0m \tTrain Epoch: 1 \tTrain_loss_mri: 0.2234 | Train_acc_mri: 92.9514 | Train_loss_dna: 0.1880 | Train_acc_dna: 95.3125 | Validation_loss_mri: 0.1095 | Validation_acc_mri: 93.7500 | Validation_loss_dna: 0.4748 | Validation_acc_dna: 81.2500\n"
     ]
    },
    {
     "name": "stderr",
     "output_type": "stream",
     "text": [
      " 10%|\u001b[34m█         \u001b[0m| 1/10 [00:01<00:11,  1.30s/it]\n"
     ]
    },
    {
     "name": "stdout",
     "output_type": "stream",
     "text": [
      "\u001b[36m(DefaultActor pid=52436)\u001b[0m \tTrain Epoch: 2 \tTrain_loss_mri: 0.0442 | Train_acc_mri: 99.3750 | Train_loss_dna: 0.2080 | Train_acc_dna: 92.8125 | Validation_loss_mri: 0.1933 | Validation_acc_mri: 95.3125 | Validation_loss_dna: 0.5500 | Validation_acc_dna: 76.5625\n"
     ]
    },
    {
     "name": "stderr",
     "output_type": "stream",
     "text": [
      " 20%|\u001b[34m██        \u001b[0m| 2/10 [00:02<00:10,  1.29s/it]\n"
     ]
    },
    {
     "name": "stdout",
     "output_type": "stream",
     "text": [
      "\u001b[36m(DefaultActor pid=52436)\u001b[0m \tTrain Epoch: 3 \tTrain_loss_mri: 0.0204 | Train_acc_mri: 99.6875 | Train_loss_dna: 0.0578 | Train_acc_dna: 98.7500 | Validation_loss_mri: 0.4057 | Validation_acc_mri: 87.5000 | Validation_loss_dna: 0.8747 | Validation_acc_dna: 82.8125\n"
     ]
    },
    {
     "name": "stderr",
     "output_type": "stream",
     "text": [
      " 30%|\u001b[34m███       \u001b[0m| 3/10 [00:03<00:09,  1.29s/it]\n"
     ]
    },
    {
     "name": "stdout",
     "output_type": "stream",
     "text": [
      "\u001b[36m(DefaultActor pid=52436)\u001b[0m \tTrain Epoch: 4 \tTrain_loss_mri: 0.0110 | Train_acc_mri: 99.6875 | Train_loss_dna: 0.0354 | Train_acc_dna: 99.6875 | Validation_loss_mri: 0.2876 | Validation_acc_mri: 93.7500 | Validation_loss_dna: 0.5369 | Validation_acc_dna: 82.8125\n"
     ]
    },
    {
     "name": "stderr",
     "output_type": "stream",
     "text": [
      " 40%|\u001b[34m████      \u001b[0m| 4/10 [00:05<00:07,  1.28s/it]\n"
     ]
    },
    {
     "name": "stdout",
     "output_type": "stream",
     "text": [
      "\u001b[36m(DefaultActor pid=52436)\u001b[0m \tTrain Epoch: 5 \tTrain_loss_mri: 0.0098 | Train_acc_mri: 100.0000 | Train_loss_dna: 0.0495 | Train_acc_dna: 99.6875 | Validation_loss_mri: 0.3802 | Validation_acc_mri: 90.6250 | Validation_loss_dna: 0.5566 | Validation_acc_dna: 81.2500\n"
     ]
    },
    {
     "name": "stderr",
     "output_type": "stream",
     "text": [
      " 50%|\u001b[34m█████     \u001b[0m| 5/10 [00:06<00:06,  1.28s/it]\n"
     ]
    },
    {
     "name": "stdout",
     "output_type": "stream",
     "text": [
      "\u001b[36m(DefaultActor pid=52436)\u001b[0m \tTrain Epoch: 6 \tTrain_loss_mri: 0.0160 | Train_acc_mri: 99.3750 | Train_loss_dna: 0.0140 | Train_acc_dna: 100.0000 | Validation_loss_mri: 0.7586 | Validation_acc_mri: 87.5000 | Validation_loss_dna: 1.2977 | Validation_acc_dna: 59.8958\n"
     ]
    },
    {
     "name": "stderr",
     "output_type": "stream",
     "text": [
      " 60%|\u001b[34m██████    \u001b[0m| 6/10 [00:07<00:05,  1.27s/it]\n"
     ]
    },
    {
     "name": "stdout",
     "output_type": "stream",
     "text": [
      "\u001b[36m(DefaultActor pid=52436)\u001b[0m \tTrain Epoch: 7 \tTrain_loss_mri: 0.0026 | Train_acc_mri: 100.0000 | Train_loss_dna: 0.0123 | Train_acc_dna: 100.0000 | Validation_loss_mri: 0.5186 | Validation_acc_mri: 90.6250 | Validation_loss_dna: 0.4594 | Validation_acc_dna: 85.9375\n"
     ]
    },
    {
     "name": "stderr",
     "output_type": "stream",
     "text": [
      " 70%|\u001b[34m███████   \u001b[0m| 7/10 [00:08<00:03,  1.27s/it]\n"
     ]
    },
    {
     "name": "stdout",
     "output_type": "stream",
     "text": [
      "\u001b[36m(DefaultActor pid=52436)\u001b[0m \tTrain Epoch: 8 \tTrain_loss_mri: 0.0021 | Train_acc_mri: 100.0000 | Train_loss_dna: 0.0034 | Train_acc_dna: 100.0000 | Validation_loss_mri: 0.4147 | Validation_acc_mri: 92.1875 | Validation_loss_dna: 0.3449 | Validation_acc_dna: 85.9375\n"
     ]
    },
    {
     "name": "stderr",
     "output_type": "stream",
     "text": [
      " 80%|\u001b[34m████████  \u001b[0m| 8/10 [00:10<00:02,  1.28s/it]\n"
     ]
    },
    {
     "name": "stdout",
     "output_type": "stream",
     "text": [
      "\u001b[36m(DefaultActor pid=52436)\u001b[0m \tTrain Epoch: 9 \tTrain_loss_mri: 0.0009 | Train_acc_mri: 100.0000 | Train_loss_dna: 0.0017 | Train_acc_dna: 100.0000 | Validation_loss_mri: 0.4584 | Validation_acc_mri: 92.1875 | Validation_loss_dna: 0.4250 | Validation_acc_dna: 85.9375\n"
     ]
    },
    {
     "name": "stderr",
     "output_type": "stream",
     "text": [
      " 90%|\u001b[34m█████████ \u001b[0m| 9/10 [00:11<00:01,  1.29s/it]\n"
     ]
    },
    {
     "name": "stdout",
     "output_type": "stream",
     "text": [
      "\u001b[36m(DefaultActor pid=52436)\u001b[0m \tTrain Epoch: 10 \tTrain_loss_mri: 0.0004 | Train_acc_mri: 100.0000 | Train_loss_dna: 0.0012 | Train_acc_dna: 100.0000 | Validation_loss_mri: 0.4902 | Validation_acc_mri: 92.1875 | Validation_loss_dna: 0.4744 | Validation_acc_dna: 85.9375\n",
      "\u001b[36m(DefaultActor pid=52436)\u001b[0m save graph in  results/FL_DNA+MRI/\n"
     ]
    },
    {
     "name": "stderr",
     "output_type": "stream",
     "text": [
      "100%|\u001b[34m██████████\u001b[0m| 10/10 [00:12<00:00,  1.28s/it]\n"
     ]
    },
    {
     "name": "stdout",
     "output_type": "stream",
     "text": [
      "\u001b[36m(DefaultActor pid=52436)\u001b[0m  To get the checkpoint\n",
      "\u001b[36m(DefaultActor pid=52436)\u001b[0m [Client 4, round 5] fit, config: {'learning_rate': 0.003, 'batch_size': '32', 'server_round': 5, 'local_epochs': 10}\n",
      "\u001b[36m(DefaultActor pid=52436)\u001b[0m Updated model\n"
     ]
    },
    {
     "name": "stderr",
     "output_type": "stream",
     "text": [
      "\u001b[36m(DefaultActor pid=52436)\u001b[0m /tmp/ipykernel_51903/752934157.py:10: FutureWarning: You are using `torch.load` with `weights_only=False` (the current default value), which uses the default pickle module implicitly. It is possible to construct malicious pickle data which will execute arbitrary code during unpickling (See https://github.com/pytorch/pytorch/blob/main/SECURITY.md#untrusted-models for more details). In a future release, the default value for `weights_only` will be flipped to `True`. This limits the functions that could be executed during unpickling. Arbitrary objects will no longer be allowed to be loaded via this mode unless they are explicitly allowlisted by the user via `torch.serialization.add_safe_globals`. We recommend you start setting `weights_only=True` for any use case where you don't have full control of the loaded file. Please open an issue on GitHub for any issues related to this experimental feature.\n",
      "  0%|\u001b[34m          \u001b[0m| 0/10 [00:00<?, ?it/s]\n"
     ]
    },
    {
     "name": "stdout",
     "output_type": "stream",
     "text": [
      "\u001b[36m(DefaultActor pid=52436)\u001b[0m \tTrain Epoch: 1 \tTrain_loss_mri: 0.2440 | Train_acc_mri: 90.8218 | Train_loss_dna: 0.3283 | Train_acc_dna: 86.3889 | Validation_loss_mri: 0.4433 | Validation_acc_mri: 78.6458 | Validation_loss_dna: 0.9132 | Validation_acc_dna: 60.4167\n"
     ]
    },
    {
     "name": "stderr",
     "output_type": "stream",
     "text": [
      " 10%|\u001b[34m█         \u001b[0m| 1/10 [00:01<00:11,  1.27s/it]\n"
     ]
    },
    {
     "name": "stdout",
     "output_type": "stream",
     "text": [
      "\u001b[36m(DefaultActor pid=52436)\u001b[0m \tTrain Epoch: 2 \tTrain_loss_mri: 0.1094 | Train_acc_mri: 96.2500 | Train_loss_dna: 0.2841 | Train_acc_dna: 91.1921 | Validation_loss_mri: 0.5478 | Validation_acc_mri: 75.5208 | Validation_loss_dna: 1.0659 | Validation_acc_dna: 49.4792\n"
     ]
    },
    {
     "name": "stderr",
     "output_type": "stream",
     "text": [
      " 20%|\u001b[34m██        \u001b[0m| 2/10 [00:02<00:10,  1.27s/it]\n"
     ]
    },
    {
     "name": "stdout",
     "output_type": "stream",
     "text": [
      "\u001b[36m(DefaultActor pid=52436)\u001b[0m \tTrain Epoch: 3 \tTrain_loss_mri: 0.0626 | Train_acc_mri: 98.1250 | Train_loss_dna: 0.0698 | Train_acc_dna: 98.3796 | Validation_loss_mri: 1.4484 | Validation_acc_mri: 75.5208 | Validation_loss_dna: 1.0923 | Validation_acc_dna: 57.2917\n"
     ]
    },
    {
     "name": "stderr",
     "output_type": "stream",
     "text": [
      " 30%|\u001b[34m███       \u001b[0m| 3/10 [00:03<00:09,  1.30s/it]\n"
     ]
    },
    {
     "name": "stdout",
     "output_type": "stream",
     "text": [
      "\u001b[36m(DefaultActor pid=52436)\u001b[0m \tTrain Epoch: 4 \tTrain_loss_mri: 0.0374 | Train_acc_mri: 98.7500 | Train_loss_dna: 0.0300 | Train_acc_dna: 100.0000 | Validation_loss_mri: 0.4491 | Validation_acc_mri: 80.2083 | Validation_loss_dna: 1.0714 | Validation_acc_dna: 52.6042\n"
     ]
    },
    {
     "name": "stderr",
     "output_type": "stream",
     "text": [
      " 40%|\u001b[34m████      \u001b[0m| 4/10 [00:05<00:07,  1.27s/it]\n"
     ]
    },
    {
     "name": "stdout",
     "output_type": "stream",
     "text": [
      "\u001b[36m(DefaultActor pid=52436)\u001b[0m \tTrain Epoch: 5 \tTrain_loss_mri: 0.0068 | Train_acc_mri: 100.0000 | Train_loss_dna: 0.0071 | Train_acc_dna: 100.0000 | Validation_loss_mri: 1.0660 | Validation_acc_mri: 75.5208 | Validation_loss_dna: 1.7548 | Validation_acc_dna: 49.4792\n"
     ]
    },
    {
     "name": "stderr",
     "output_type": "stream",
     "text": [
      " 50%|\u001b[34m█████     \u001b[0m| 5/10 [00:06<00:06,  1.27s/it]\n"
     ]
    },
    {
     "name": "stdout",
     "output_type": "stream",
     "text": [
      "\u001b[36m(DefaultActor pid=52436)\u001b[0m \tTrain Epoch: 6 \tTrain_loss_mri: 0.0135 | Train_acc_mri: 99.6875 | Train_loss_dna: 0.0044 | Train_acc_dna: 100.0000 | Validation_loss_mri: 0.6280 | Validation_acc_mri: 77.0833 | Validation_loss_dna: 1.4402 | Validation_acc_dna: 51.0417\n"
     ]
    },
    {
     "name": "stderr",
     "output_type": "stream",
     "text": [
      " 60%|\u001b[34m██████    \u001b[0m| 6/10 [00:07<00:05,  1.25s/it]\n"
     ]
    },
    {
     "name": "stdout",
     "output_type": "stream",
     "text": [
      "\u001b[36m(DefaultActor pid=52436)\u001b[0m \tTrain Epoch: 7 \tTrain_loss_mri: 0.0028 | Train_acc_mri: 100.0000 | Train_loss_dna: 0.0194 | Train_acc_dna: 99.3750 | Validation_loss_mri: 0.8464 | Validation_acc_mri: 75.5208 | Validation_loss_dna: 0.8671 | Validation_acc_dna: 69.2708\n"
     ]
    },
    {
     "name": "stderr",
     "output_type": "stream",
     "text": [
      " 70%|\u001b[34m███████   \u001b[0m| 7/10 [00:08<00:03,  1.25s/it]\n"
     ]
    },
    {
     "name": "stdout",
     "output_type": "stream",
     "text": [
      "\u001b[36m(DefaultActor pid=52436)\u001b[0m \tTrain Epoch: 8 \tTrain_loss_mri: 0.0032 | Train_acc_mri: 100.0000 | Train_loss_dna: 0.0131 | Train_acc_dna: 99.3750 | Validation_loss_mri: 1.4886 | Validation_acc_mri: 75.5208 | Validation_loss_dna: 1.0072 | Validation_acc_dna: 66.1458\n"
     ]
    },
    {
     "name": "stderr",
     "output_type": "stream",
     "text": [
      " 80%|\u001b[34m████████  \u001b[0m| 8/10 [00:10<00:02,  1.25s/it]\n"
     ]
    },
    {
     "name": "stdout",
     "output_type": "stream",
     "text": [
      "\u001b[36m(DefaultActor pid=52436)\u001b[0m \tTrain Epoch: 9 \tTrain_loss_mri: 0.0025 | Train_acc_mri: 100.0000 | Train_loss_dna: 0.0069 | Train_acc_dna: 100.0000 | Validation_loss_mri: 0.8432 | Validation_acc_mri: 77.0833 | Validation_loss_dna: 1.1516 | Validation_acc_dna: 54.1667\n"
     ]
    },
    {
     "name": "stderr",
     "output_type": "stream",
     "text": [
      " 90%|\u001b[34m█████████ \u001b[0m| 9/10 [00:11<00:01,  1.24s/it]\n"
     ]
    },
    {
     "name": "stdout",
     "output_type": "stream",
     "text": [
      "\u001b[36m(DefaultActor pid=52436)\u001b[0m \tTrain Epoch: 10 \tTrain_loss_mri: 0.0109 | Train_acc_mri: 99.6296 | Train_loss_dna: 0.0053 | Train_acc_dna: 100.0000 | Validation_loss_mri: 1.0550 | Validation_acc_mri: 75.5208 | Validation_loss_dna: 0.7092 | Validation_acc_dna: 69.2708\n",
      "\u001b[36m(DefaultActor pid=52436)\u001b[0m save graph in  results/FL_DNA+MRI/\n"
     ]
    },
    {
     "name": "stderr",
     "output_type": "stream",
     "text": [
      "100%|\u001b[34m██████████\u001b[0m| 10/10 [00:12<00:00,  1.25s/it]\n"
     ]
    },
    {
     "name": "stdout",
     "output_type": "stream",
     "text": [
      "\u001b[36m(DefaultActor pid=52436)\u001b[0m  To get the checkpoint\n",
      "\u001b[36m(DefaultActor pid=52436)\u001b[0m [Client 8, round 5] fit, config: {'learning_rate': 0.003, 'batch_size': '32', 'server_round': 5, 'local_epochs': 10}\n",
      "\u001b[36m(DefaultActor pid=52436)\u001b[0m Updated model\n"
     ]
    },
    {
     "name": "stderr",
     "output_type": "stream",
     "text": [
      "\u001b[36m(DefaultActor pid=52436)\u001b[0m /tmp/ipykernel_51903/752934157.py:10: FutureWarning: You are using `torch.load` with `weights_only=False` (the current default value), which uses the default pickle module implicitly. It is possible to construct malicious pickle data which will execute arbitrary code during unpickling (See https://github.com/pytorch/pytorch/blob/main/SECURITY.md#untrusted-models for more details). In a future release, the default value for `weights_only` will be flipped to `True`. This limits the functions that could be executed during unpickling. Arbitrary objects will no longer be allowed to be loaded via this mode unless they are explicitly allowlisted by the user via `torch.serialization.add_safe_globals`. We recommend you start setting `weights_only=True` for any use case where you don't have full control of the loaded file. Please open an issue on GitHub for any issues related to this experimental feature.\n",
      "  0%|\u001b[34m          \u001b[0m| 0/10 [00:00<?, ?it/s]\n"
     ]
    },
    {
     "name": "stdout",
     "output_type": "stream",
     "text": [
      "\u001b[36m(DefaultActor pid=52436)\u001b[0m \tTrain Epoch: 1 \tTrain_loss_mri: 0.3908 | Train_acc_mri: 87.2685 | Train_loss_dna: 0.2684 | Train_acc_dna: 89.3403 | Validation_loss_mri: 1.1032 | Validation_acc_mri: 72.3958 | Validation_loss_dna: 0.7657 | Validation_acc_dna: 70.8333\n"
     ]
    },
    {
     "name": "stderr",
     "output_type": "stream",
     "text": [
      " 10%|\u001b[34m█         \u001b[0m| 1/10 [00:01<00:11,  1.29s/it]\n"
     ]
    },
    {
     "name": "stdout",
     "output_type": "stream",
     "text": [
      "\u001b[36m(DefaultActor pid=52436)\u001b[0m \tTrain Epoch: 2 \tTrain_loss_mri: 0.1115 | Train_acc_mri: 96.5625 | Train_loss_dna: 0.2536 | Train_acc_dna: 91.4120 | Validation_loss_mri: 1.1656 | Validation_acc_mri: 69.2708 | Validation_loss_dna: 0.5727 | Validation_acc_dna: 84.3750\n"
     ]
    },
    {
     "name": "stderr",
     "output_type": "stream",
     "text": [
      " 20%|\u001b[34m██        \u001b[0m| 2/10 [00:02<00:10,  1.27s/it]\n"
     ]
    },
    {
     "name": "stdout",
     "output_type": "stream",
     "text": [
      "\u001b[36m(DefaultActor pid=52436)\u001b[0m \tTrain Epoch: 3 \tTrain_loss_mri: 0.0383 | Train_acc_mri: 99.6875 | Train_loss_dna: 0.1112 | Train_acc_dna: 95.6481 | Validation_loss_mri: 0.7737 | Validation_acc_mri: 70.8333 | Validation_loss_dna: 0.6789 | Validation_acc_dna: 69.2708\n"
     ]
    },
    {
     "name": "stderr",
     "output_type": "stream",
     "text": [
      " 30%|\u001b[34m███       \u001b[0m| 3/10 [00:03<00:08,  1.25s/it]\n"
     ]
    },
    {
     "name": "stdout",
     "output_type": "stream",
     "text": [
      "\u001b[36m(DefaultActor pid=52436)\u001b[0m \tTrain Epoch: 4 \tTrain_loss_mri: 0.0187 | Train_acc_mri: 100.0000 | Train_loss_dna: 0.0287 | Train_acc_dna: 99.6875 | Validation_loss_mri: 0.8457 | Validation_acc_mri: 72.3958 | Validation_loss_dna: 0.5295 | Validation_acc_dna: 84.3750\n"
     ]
    },
    {
     "name": "stderr",
     "output_type": "stream",
     "text": [
      " 40%|\u001b[34m████      \u001b[0m| 4/10 [00:05<00:07,  1.25s/it]\n"
     ]
    },
    {
     "name": "stdout",
     "output_type": "stream",
     "text": [
      "\u001b[36m(DefaultActor pid=52436)\u001b[0m \tTrain Epoch: 5 \tTrain_loss_mri: 0.0052 | Train_acc_mri: 100.0000 | Train_loss_dna: 0.0185 | Train_acc_dna: 99.6875 | Validation_loss_mri: 0.8364 | Validation_acc_mri: 89.0625 | Validation_loss_dna: 0.6741 | Validation_acc_dna: 73.9583\n"
     ]
    },
    {
     "name": "stderr",
     "output_type": "stream",
     "text": [
      " 50%|\u001b[34m█████     \u001b[0m| 5/10 [00:06<00:06,  1.25s/it]\n"
     ]
    },
    {
     "name": "stdout",
     "output_type": "stream",
     "text": [
      "\u001b[36m(DefaultActor pid=52436)\u001b[0m \tTrain Epoch: 6 \tTrain_loss_mri: 0.0029 | Train_acc_mri: 100.0000 | Train_loss_dna: 0.0124 | Train_acc_dna: 99.6875 | Validation_loss_mri: 0.9413 | Validation_acc_mri: 70.8333 | Validation_loss_dna: 0.8997 | Validation_acc_dna: 72.3958\n"
     ]
    },
    {
     "name": "stderr",
     "output_type": "stream",
     "text": [
      " 60%|\u001b[34m██████    \u001b[0m| 6/10 [00:07<00:04,  1.25s/it]\n"
     ]
    },
    {
     "name": "stdout",
     "output_type": "stream",
     "text": [
      "\u001b[36m(DefaultActor pid=52436)\u001b[0m \tTrain Epoch: 7 \tTrain_loss_mri: 0.0019 | Train_acc_mri: 100.0000 | Train_loss_dna: 0.0123 | Train_acc_dna: 99.6875 | Validation_loss_mri: 0.8884 | Validation_acc_mri: 87.5000 | Validation_loss_dna: 0.6638 | Validation_acc_dna: 73.9583\n"
     ]
    },
    {
     "name": "stderr",
     "output_type": "stream",
     "text": [
      " 70%|\u001b[34m███████   \u001b[0m| 7/10 [00:08<00:03,  1.26s/it]\n"
     ]
    },
    {
     "name": "stdout",
     "output_type": "stream",
     "text": [
      "\u001b[36m(DefaultActor pid=52436)\u001b[0m \tTrain Epoch: 8 \tTrain_loss_mri: 0.0046 | Train_acc_mri: 100.0000 | Train_loss_dna: 0.0154 | Train_acc_dna: 99.6875 | Validation_loss_mri: 1.8593 | Validation_acc_mri: 69.2708 | Validation_loss_dna: 1.4259 | Validation_acc_dna: 69.2708\n"
     ]
    },
    {
     "name": "stderr",
     "output_type": "stream",
     "text": [
      " 80%|\u001b[34m████████  \u001b[0m| 8/10 [00:10<00:02,  1.26s/it]\n"
     ]
    },
    {
     "name": "stdout",
     "output_type": "stream",
     "text": [
      "\u001b[36m(DefaultActor pid=52436)\u001b[0m \tTrain Epoch: 9 \tTrain_loss_mri: 0.0008 | Train_acc_mri: 100.0000 | Train_loss_dna: 0.0067 | Train_acc_dna: 100.0000 | Validation_loss_mri: 1.2200 | Validation_acc_mri: 70.8333 | Validation_loss_dna: 0.8673 | Validation_acc_dna: 70.8333\n"
     ]
    },
    {
     "name": "stderr",
     "output_type": "stream",
     "text": [
      " 90%|\u001b[34m█████████ \u001b[0m| 9/10 [00:11<00:01,  1.25s/it]\n"
     ]
    },
    {
     "name": "stdout",
     "output_type": "stream",
     "text": [
      "\u001b[36m(DefaultActor pid=52436)\u001b[0m \tTrain Epoch: 10 \tTrain_loss_mri: 0.0020 | Train_acc_mri: 100.0000 | Train_loss_dna: 0.0037 | Train_acc_dna: 100.0000 | Validation_loss_mri: 0.9558 | Validation_acc_mri: 70.8333 | Validation_loss_dna: 0.7156 | Validation_acc_dna: 67.7083\n",
      "\u001b[36m(DefaultActor pid=52436)\u001b[0m save graph in  results/FL_DNA+MRI/\n"
     ]
    },
    {
     "name": "stderr",
     "output_type": "stream",
     "text": [
      "100%|\u001b[34m██████████\u001b[0m| 10/10 [00:12<00:00,  1.25s/it]\n"
     ]
    },
    {
     "name": "stdout",
     "output_type": "stream",
     "text": [
      "\u001b[36m(DefaultActor pid=52436)\u001b[0m  To get the checkpoint\n",
      "\u001b[36m(DefaultActor pid=52436)\u001b[0m [Client 6, round 5] fit, config: {'learning_rate': 0.003, 'batch_size': '32', 'server_round': 5, 'local_epochs': 10}\n",
      "\u001b[36m(DefaultActor pid=52436)\u001b[0m Updated model\n"
     ]
    },
    {
     "name": "stderr",
     "output_type": "stream",
     "text": [
      "\u001b[36m(DefaultActor pid=52436)\u001b[0m /tmp/ipykernel_51903/752934157.py:10: FutureWarning: You are using `torch.load` with `weights_only=False` (the current default value), which uses the default pickle module implicitly. It is possible to construct malicious pickle data which will execute arbitrary code during unpickling (See https://github.com/pytorch/pytorch/blob/main/SECURITY.md#untrusted-models for more details). In a future release, the default value for `weights_only` will be flipped to `True`. This limits the functions that could be executed during unpickling. Arbitrary objects will no longer be allowed to be loaded via this mode unless they are explicitly allowlisted by the user via `torch.serialization.add_safe_globals`. We recommend you start setting `weights_only=True` for any use case where you don't have full control of the loaded file. Please open an issue on GitHub for any issues related to this experimental feature.\n",
      "  0%|\u001b[34m          \u001b[0m| 0/10 [00:00<?, ?it/s]\n"
     ]
    },
    {
     "name": "stdout",
     "output_type": "stream",
     "text": [
      "\u001b[36m(DefaultActor pid=52436)\u001b[0m \tTrain Epoch: 1 \tTrain_loss_mri: 0.2809 | Train_acc_mri: 90.4514 | Train_loss_dna: 0.2078 | Train_acc_dna: 92.6968 | Validation_loss_mri: 0.3936 | Validation_acc_mri: 87.5000 | Validation_loss_dna: 0.4801 | Validation_acc_dna: 85.9375\n"
     ]
    },
    {
     "name": "stderr",
     "output_type": "stream",
     "text": [
      " 10%|\u001b[34m█         \u001b[0m| 1/10 [00:01<00:12,  1.34s/it]\n"
     ]
    },
    {
     "name": "stdout",
     "output_type": "stream",
     "text": [
      "\u001b[36m(DefaultActor pid=52436)\u001b[0m \tTrain Epoch: 2 \tTrain_loss_mri: 0.0624 | Train_acc_mri: 98.1250 | Train_loss_dna: 0.2158 | Train_acc_dna: 92.6389 | Validation_loss_mri: 0.6399 | Validation_acc_mri: 89.0625 | Validation_loss_dna: 1.2993 | Validation_acc_dna: 44.7917\n"
     ]
    },
    {
     "name": "stderr",
     "output_type": "stream",
     "text": [
      " 20%|\u001b[34m██        \u001b[0m| 2/10 [00:02<00:10,  1.34s/it]\n"
     ]
    },
    {
     "name": "stdout",
     "output_type": "stream",
     "text": [
      "\u001b[36m(DefaultActor pid=52436)\u001b[0m \tTrain Epoch: 3 \tTrain_loss_mri: 0.0227 | Train_acc_mri: 100.0000 | Train_loss_dna: 0.0880 | Train_acc_dna: 98.1250 | Validation_loss_mri: 0.4480 | Validation_acc_mri: 89.0625 | Validation_loss_dna: 0.3821 | Validation_acc_dna: 90.6250\n"
     ]
    },
    {
     "name": "stderr",
     "output_type": "stream",
     "text": [
      " 30%|\u001b[34m███       \u001b[0m| 3/10 [00:03<00:09,  1.31s/it]\n"
     ]
    },
    {
     "name": "stdout",
     "output_type": "stream",
     "text": [
      "\u001b[36m(DefaultActor pid=52436)\u001b[0m \tTrain Epoch: 4 \tTrain_loss_mri: 0.0178 | Train_acc_mri: 100.0000 | Train_loss_dna: 0.0243 | Train_acc_dna: 99.0625 | Validation_loss_mri: 0.4651 | Validation_acc_mri: 89.0625 | Validation_loss_dna: 0.4420 | Validation_acc_dna: 87.5000\n"
     ]
    },
    {
     "name": "stderr",
     "output_type": "stream",
     "text": [
      " 40%|\u001b[34m████      \u001b[0m| 4/10 [00:05<00:07,  1.31s/it]\n"
     ]
    },
    {
     "name": "stdout",
     "output_type": "stream",
     "text": [
      "\u001b[36m(DefaultActor pid=52436)\u001b[0m \tTrain Epoch: 5 \tTrain_loss_mri: 0.0035 | Train_acc_mri: 100.0000 | Train_loss_dna: 0.0098 | Train_acc_dna: 99.6875 | Validation_loss_mri: 0.5345 | Validation_acc_mri: 89.0625 | Validation_loss_dna: 0.5708 | Validation_acc_dna: 84.3750\n"
     ]
    },
    {
     "name": "stderr",
     "output_type": "stream",
     "text": [
      " 50%|\u001b[34m█████     \u001b[0m| 5/10 [00:06<00:06,  1.30s/it]\n"
     ]
    },
    {
     "name": "stdout",
     "output_type": "stream",
     "text": [
      "\u001b[36m(DefaultActor pid=52436)\u001b[0m \tTrain Epoch: 6 \tTrain_loss_mri: 0.0016 | Train_acc_mri: 100.0000 | Train_loss_dna: 0.0065 | Train_acc_dna: 100.0000 | Validation_loss_mri: 0.6612 | Validation_acc_mri: 87.5000 | Validation_loss_dna: 0.6309 | Validation_acc_dna: 82.8125\n"
     ]
    },
    {
     "name": "stderr",
     "output_type": "stream",
     "text": [
      " 60%|\u001b[34m██████    \u001b[0m| 6/10 [00:07<00:05,  1.31s/it]\n"
     ]
    },
    {
     "name": "stdout",
     "output_type": "stream",
     "text": [
      "\u001b[36m(DefaultActor pid=52436)\u001b[0m \tTrain Epoch: 7 \tTrain_loss_mri: 0.0006 | Train_acc_mri: 100.0000 | Train_loss_dna: 0.0023 | Train_acc_dna: 100.0000 | Validation_loss_mri: 0.7430 | Validation_acc_mri: 87.5000 | Validation_loss_dna: 0.8338 | Validation_acc_dna: 79.6875\n"
     ]
    },
    {
     "name": "stderr",
     "output_type": "stream",
     "text": [
      " 70%|\u001b[34m███████   \u001b[0m| 7/10 [00:09<00:03,  1.29s/it]\n"
     ]
    },
    {
     "name": "stdout",
     "output_type": "stream",
     "text": [
      "\u001b[36m(DefaultActor pid=52436)\u001b[0m \tTrain Epoch: 8 \tTrain_loss_mri: 0.0004 | Train_acc_mri: 100.0000 | Train_loss_dna: 0.0347 | Train_acc_dna: 99.6296 | Validation_loss_mri: 0.6344 | Validation_acc_mri: 89.0625 | Validation_loss_dna: 0.5705 | Validation_acc_dna: 85.9375\n"
     ]
    },
    {
     "name": "stderr",
     "output_type": "stream",
     "text": [
      " 80%|\u001b[34m████████  \u001b[0m| 8/10 [00:10<00:02,  1.28s/it]\n"
     ]
    },
    {
     "name": "stdout",
     "output_type": "stream",
     "text": [
      "\u001b[36m(DefaultActor pid=52436)\u001b[0m \tTrain Epoch: 9 \tTrain_loss_mri: 0.0011 | Train_acc_mri: 100.0000 | Train_loss_dna: 0.0097 | Train_acc_dna: 100.0000 | Validation_loss_mri: 0.5841 | Validation_acc_mri: 93.7500 | Validation_loss_dna: 0.4311 | Validation_acc_dna: 90.6250\n"
     ]
    },
    {
     "name": "stderr",
     "output_type": "stream",
     "text": [
      " 90%|\u001b[34m█████████ \u001b[0m| 9/10 [00:11<00:01,  1.28s/it]\n"
     ]
    },
    {
     "name": "stdout",
     "output_type": "stream",
     "text": [
      "\u001b[36m(DefaultActor pid=52436)\u001b[0m \tTrain Epoch: 10 \tTrain_loss_mri: 0.0008 | Train_acc_mri: 100.0000 | Train_loss_dna: 0.0230 | Train_acc_dna: 99.3750 | Validation_loss_mri: 0.5067 | Validation_acc_mri: 87.5000 | Validation_loss_dna: 0.5000 | Validation_acc_dna: 85.9375\n",
      "\u001b[36m(DefaultActor pid=52436)\u001b[0m save graph in  results/FL_DNA+MRI/\n"
     ]
    },
    {
     "name": "stderr",
     "output_type": "stream",
     "text": [
      "100%|\u001b[34m██████████\u001b[0m| 10/10 [00:12<00:00,  1.29s/it]\n"
     ]
    },
    {
     "name": "stdout",
     "output_type": "stream",
     "text": [
      "\u001b[36m(DefaultActor pid=52436)\u001b[0m  To get the checkpoint\n",
      "\u001b[36m(DefaultActor pid=52436)\u001b[0m [Client 1, round 5] fit, config: {'learning_rate': 0.003, 'batch_size': '32', 'server_round': 5, 'local_epochs': 10}\n",
      "\u001b[36m(DefaultActor pid=52436)\u001b[0m Updated model\n"
     ]
    },
    {
     "name": "stderr",
     "output_type": "stream",
     "text": [
      "\u001b[36m(DefaultActor pid=52436)\u001b[0m /tmp/ipykernel_51903/752934157.py:10: FutureWarning: You are using `torch.load` with `weights_only=False` (the current default value), which uses the default pickle module implicitly. It is possible to construct malicious pickle data which will execute arbitrary code during unpickling (See https://github.com/pytorch/pytorch/blob/main/SECURITY.md#untrusted-models for more details). In a future release, the default value for `weights_only` will be flipped to `True`. This limits the functions that could be executed during unpickling. Arbitrary objects will no longer be allowed to be loaded via this mode unless they are explicitly allowlisted by the user via `torch.serialization.add_safe_globals`. We recommend you start setting `weights_only=True` for any use case where you don't have full control of the loaded file. Please open an issue on GitHub for any issues related to this experimental feature.\n",
      "  0%|\u001b[34m          \u001b[0m| 0/10 [00:00<?, ?it/s]\n"
     ]
    },
    {
     "name": "stdout",
     "output_type": "stream",
     "text": [
      "\u001b[36m(DefaultActor pid=52436)\u001b[0m \tTrain Epoch: 1 \tTrain_loss_mri: 0.3898 | Train_acc_mri: 89.3171 | Train_loss_dna: 0.1569 | Train_acc_dna: 96.2500 | Validation_loss_mri: 0.2172 | Validation_acc_mri: 93.7500 | Validation_loss_dna: 0.8265 | Validation_acc_dna: 67.7083\n"
     ]
    },
    {
     "name": "stderr",
     "output_type": "stream",
     "text": [
      " 10%|\u001b[34m█         \u001b[0m| 1/10 [00:01<00:11,  1.29s/it]\n"
     ]
    },
    {
     "name": "stdout",
     "output_type": "stream",
     "text": [
      "\u001b[36m(DefaultActor pid=52436)\u001b[0m \tTrain Epoch: 2 \tTrain_loss_mri: 0.0875 | Train_acc_mri: 98.1250 | Train_loss_dna: 0.2009 | Train_acc_dna: 94.9421 | Validation_loss_mri: 0.3349 | Validation_acc_mri: 95.3125 | Validation_loss_dna: 1.2031 | Validation_acc_dna: 67.7083\n"
     ]
    },
    {
     "name": "stderr",
     "output_type": "stream",
     "text": [
      " 20%|\u001b[34m██        \u001b[0m| 2/10 [00:02<00:10,  1.29s/it]\n"
     ]
    },
    {
     "name": "stdout",
     "output_type": "stream",
     "text": [
      "\u001b[36m(DefaultActor pid=52436)\u001b[0m \tTrain Epoch: 3 \tTrain_loss_mri: 0.0358 | Train_acc_mri: 99.6296 | Train_loss_dna: 0.0544 | Train_acc_dna: 98.6921 | Validation_loss_mri: 0.4730 | Validation_acc_mri: 92.1875 | Validation_loss_dna: 1.3147 | Validation_acc_dna: 49.4792\n"
     ]
    },
    {
     "name": "stderr",
     "output_type": "stream",
     "text": [
      " 30%|\u001b[34m███       \u001b[0m| 3/10 [00:03<00:09,  1.29s/it]\n"
     ]
    },
    {
     "name": "stdout",
     "output_type": "stream",
     "text": [
      "\u001b[36m(DefaultActor pid=52436)\u001b[0m \tTrain Epoch: 4 \tTrain_loss_mri: 0.0090 | Train_acc_mri: 99.6875 | Train_loss_dna: 0.0533 | Train_acc_dna: 98.6921 | Validation_loss_mri: 0.3209 | Validation_acc_mri: 93.7500 | Validation_loss_dna: 1.2986 | Validation_acc_dna: 66.1458\n"
     ]
    },
    {
     "name": "stderr",
     "output_type": "stream",
     "text": [
      " 40%|\u001b[34m████      \u001b[0m| 4/10 [00:05<00:07,  1.31s/it]\n"
     ]
    },
    {
     "name": "stdout",
     "output_type": "stream",
     "text": [
      "\u001b[36m(DefaultActor pid=52436)\u001b[0m \tTrain Epoch: 5 \tTrain_loss_mri: 0.0060 | Train_acc_mri: 100.0000 | Train_loss_dna: 0.0130 | Train_acc_dna: 100.0000 | Validation_loss_mri: 0.3569 | Validation_acc_mri: 93.7500 | Validation_loss_dna: 1.3289 | Validation_acc_dna: 52.6042\n"
     ]
    },
    {
     "name": "stderr",
     "output_type": "stream",
     "text": [
      " 50%|\u001b[34m█████     \u001b[0m| 5/10 [00:06<00:06,  1.32s/it]\n"
     ]
    },
    {
     "name": "stdout",
     "output_type": "stream",
     "text": [
      "\u001b[36m(DefaultActor pid=52436)\u001b[0m \tTrain Epoch: 6 \tTrain_loss_mri: 0.0021 | Train_acc_mri: 100.0000 | Train_loss_dna: 0.0181 | Train_acc_dna: 99.6875 | Validation_loss_mri: 0.5019 | Validation_acc_mri: 92.1875 | Validation_loss_dna: 1.9021 | Validation_acc_dna: 51.0417\n"
     ]
    },
    {
     "name": "stderr",
     "output_type": "stream",
     "text": [
      " 60%|\u001b[34m██████    \u001b[0m| 6/10 [00:07<00:05,  1.31s/it]\n"
     ]
    },
    {
     "name": "stdout",
     "output_type": "stream",
     "text": [
      "\u001b[36m(DefaultActor pid=52436)\u001b[0m \tTrain Epoch: 7 \tTrain_loss_mri: 0.0011 | Train_acc_mri: 100.0000 | Train_loss_dna: 0.0077 | Train_acc_dna: 99.6875 | Validation_loss_mri: 0.4912 | Validation_acc_mri: 93.7500 | Validation_loss_dna: 2.1183 | Validation_acc_dna: 49.4792\n"
     ]
    },
    {
     "name": "stderr",
     "output_type": "stream",
     "text": [
      " 70%|\u001b[34m███████   \u001b[0m| 7/10 [00:09<00:03,  1.31s/it]\n"
     ]
    },
    {
     "name": "stdout",
     "output_type": "stream",
     "text": [
      "\u001b[36m(DefaultActor pid=52436)\u001b[0m \tTrain Epoch: 8 \tTrain_loss_mri: 0.0028 | Train_acc_mri: 100.0000 | Train_loss_dna: 0.0039 | Train_acc_dna: 100.0000 | Validation_loss_mri: 0.4923 | Validation_acc_mri: 92.1875 | Validation_loss_dna: 2.3084 | Validation_acc_dna: 46.3542\n"
     ]
    },
    {
     "name": "stderr",
     "output_type": "stream",
     "text": [
      " 80%|\u001b[34m████████  \u001b[0m| 8/10 [00:10<00:02,  1.31s/it]\n"
     ]
    },
    {
     "name": "stdout",
     "output_type": "stream",
     "text": [
      "\u001b[36m(DefaultActor pid=52436)\u001b[0m \tTrain Epoch: 9 \tTrain_loss_mri: 0.0006 | Train_acc_mri: 100.0000 | Train_loss_dna: 0.0069 | Train_acc_dna: 100.0000 | Validation_loss_mri: 0.4734 | Validation_acc_mri: 93.7500 | Validation_loss_dna: 2.1191 | Validation_acc_dna: 49.4792\n"
     ]
    },
    {
     "name": "stderr",
     "output_type": "stream",
     "text": [
      " 90%|\u001b[34m█████████ \u001b[0m| 9/10 [00:11<00:01,  1.30s/it]\n"
     ]
    },
    {
     "name": "stdout",
     "output_type": "stream",
     "text": [
      "\u001b[36m(DefaultActor pid=52436)\u001b[0m \tTrain Epoch: 10 \tTrain_loss_mri: 0.0012 | Train_acc_mri: 100.0000 | Train_loss_dna: 0.0029 | Train_acc_dna: 100.0000 | Validation_loss_mri: 0.4490 | Validation_acc_mri: 95.3125 | Validation_loss_dna: 2.1772 | Validation_acc_dna: 47.9167\n",
      "\u001b[36m(DefaultActor pid=52436)\u001b[0m save graph in  results/FL_DNA+MRI/\n"
     ]
    },
    {
     "name": "stderr",
     "output_type": "stream",
     "text": [
      "100%|\u001b[34m██████████\u001b[0m| 10/10 [00:13<00:00,  1.30s/it]\n"
     ]
    },
    {
     "name": "stdout",
     "output_type": "stream",
     "text": [
      "\u001b[36m(DefaultActor pid=52436)\u001b[0m  To get the checkpoint\n",
      "\u001b[36m(DefaultActor pid=52436)\u001b[0m [Client 3, round 5] fit, config: {'learning_rate': 0.003, 'batch_size': '32', 'server_round': 5, 'local_epochs': 10}\n",
      "\u001b[36m(DefaultActor pid=52436)\u001b[0m Updated model\n"
     ]
    },
    {
     "name": "stderr",
     "output_type": "stream",
     "text": [
      "\u001b[36m(DefaultActor pid=52436)\u001b[0m /tmp/ipykernel_51903/752934157.py:10: FutureWarning: You are using `torch.load` with `weights_only=False` (the current default value), which uses the default pickle module implicitly. It is possible to construct malicious pickle data which will execute arbitrary code during unpickling (See https://github.com/pytorch/pytorch/blob/main/SECURITY.md#untrusted-models for more details). In a future release, the default value for `weights_only` will be flipped to `True`. This limits the functions that could be executed during unpickling. Arbitrary objects will no longer be allowed to be loaded via this mode unless they are explicitly allowlisted by the user via `torch.serialization.add_safe_globals`. We recommend you start setting `weights_only=True` for any use case where you don't have full control of the loaded file. Please open an issue on GitHub for any issues related to this experimental feature.\n",
      "  0%|\u001b[34m          \u001b[0m| 0/10 [00:00<?, ?it/s]\n"
     ]
    },
    {
     "name": "stdout",
     "output_type": "stream",
     "text": [
      "\u001b[36m(DefaultActor pid=52436)\u001b[0m \tTrain Epoch: 1 \tTrain_loss_mri: 0.2056 | Train_acc_mri: 93.0093 | Train_loss_dna: 0.2134 | Train_acc_dna: 92.7546 | Validation_loss_mri: 0.4789 | Validation_acc_mri: 92.1875 | Validation_loss_dna: 0.7271 | Validation_acc_dna: 70.8333\n"
     ]
    },
    {
     "name": "stderr",
     "output_type": "stream",
     "text": [
      " 10%|\u001b[34m█         \u001b[0m| 1/10 [00:01<00:11,  1.26s/it]\n"
     ]
    },
    {
     "name": "stdout",
     "output_type": "stream",
     "text": [
      "\u001b[36m(DefaultActor pid=52436)\u001b[0m \tTrain Epoch: 2 \tTrain_loss_mri: 0.0998 | Train_acc_mri: 96.8171 | Train_loss_dna: 0.1309 | Train_acc_dna: 96.8171 | Validation_loss_mri: 0.4523 | Validation_acc_mri: 90.6250 | Validation_loss_dna: 0.7043 | Validation_acc_dna: 70.8333\n"
     ]
    },
    {
     "name": "stderr",
     "output_type": "stream",
     "text": [
      " 20%|\u001b[34m██        \u001b[0m| 2/10 [00:02<00:10,  1.27s/it]\n"
     ]
    },
    {
     "name": "stdout",
     "output_type": "stream",
     "text": [
      "\u001b[36m(DefaultActor pid=52436)\u001b[0m \tTrain Epoch: 3 \tTrain_loss_mri: 0.0305 | Train_acc_mri: 99.0625 | Train_loss_dna: 0.0326 | Train_acc_dna: 100.0000 | Validation_loss_mri: 0.7616 | Validation_acc_mri: 89.0625 | Validation_loss_dna: 0.7613 | Validation_acc_dna: 70.8333\n"
     ]
    },
    {
     "name": "stderr",
     "output_type": "stream",
     "text": [
      " 30%|\u001b[34m███       \u001b[0m| 3/10 [00:03<00:08,  1.26s/it]\n"
     ]
    },
    {
     "name": "stdout",
     "output_type": "stream",
     "text": [
      "\u001b[36m(DefaultActor pid=52436)\u001b[0m \tTrain Epoch: 4 \tTrain_loss_mri: 0.0125 | Train_acc_mri: 99.6875 | Train_loss_dna: 0.0131 | Train_acc_dna: 99.6875 | Validation_loss_mri: 0.4596 | Validation_acc_mri: 89.0625 | Validation_loss_dna: 0.9086 | Validation_acc_dna: 72.3958\n"
     ]
    },
    {
     "name": "stderr",
     "output_type": "stream",
     "text": [
      " 40%|\u001b[34m████      \u001b[0m| 4/10 [00:05<00:07,  1.25s/it]\n"
     ]
    },
    {
     "name": "stdout",
     "output_type": "stream",
     "text": [
      "\u001b[36m(DefaultActor pid=52436)\u001b[0m \tTrain Epoch: 5 \tTrain_loss_mri: 0.0040 | Train_acc_mri: 100.0000 | Train_loss_dna: 0.0033 | Train_acc_dna: 100.0000 | Validation_loss_mri: 0.6851 | Validation_acc_mri: 89.0625 | Validation_loss_dna: 1.3564 | Validation_acc_dna: 70.8333\n"
     ]
    },
    {
     "name": "stderr",
     "output_type": "stream",
     "text": [
      " 50%|\u001b[34m█████     \u001b[0m| 5/10 [00:06<00:06,  1.25s/it]\n"
     ]
    },
    {
     "name": "stdout",
     "output_type": "stream",
     "text": [
      "\u001b[36m(DefaultActor pid=52436)\u001b[0m \tTrain Epoch: 6 \tTrain_loss_mri: 0.0019 | Train_acc_mri: 100.0000 | Train_loss_dna: 0.0025 | Train_acc_dna: 100.0000 | Validation_loss_mri: 0.7841 | Validation_acc_mri: 89.0625 | Validation_loss_dna: 1.5355 | Validation_acc_dna: 70.8333\n"
     ]
    },
    {
     "name": "stderr",
     "output_type": "stream",
     "text": [
      " 60%|\u001b[34m██████    \u001b[0m| 6/10 [00:07<00:04,  1.24s/it]\n"
     ]
    },
    {
     "name": "stdout",
     "output_type": "stream",
     "text": [
      "\u001b[36m(DefaultActor pid=52436)\u001b[0m \tTrain Epoch: 7 \tTrain_loss_mri: 0.0006 | Train_acc_mri: 100.0000 | Train_loss_dna: 0.0012 | Train_acc_dna: 100.0000 | Validation_loss_mri: 0.7016 | Validation_acc_mri: 90.6250 | Validation_loss_dna: 1.6356 | Validation_acc_dna: 70.8333\n"
     ]
    },
    {
     "name": "stderr",
     "output_type": "stream",
     "text": [
      " 70%|\u001b[34m███████   \u001b[0m| 7/10 [00:08<00:03,  1.25s/it]\n"
     ]
    },
    {
     "name": "stdout",
     "output_type": "stream",
     "text": [
      "\u001b[36m(DefaultActor pid=52436)\u001b[0m \tTrain Epoch: 8 \tTrain_loss_mri: 0.0003 | Train_acc_mri: 100.0000 | Train_loss_dna: 0.0009 | Train_acc_dna: 100.0000 | Validation_loss_mri: 0.6753 | Validation_acc_mri: 90.6250 | Validation_loss_dna: 1.7492 | Validation_acc_dna: 70.8333\n"
     ]
    },
    {
     "name": "stderr",
     "output_type": "stream",
     "text": [
      " 80%|\u001b[34m████████  \u001b[0m| 8/10 [00:10<00:02,  1.27s/it]\n"
     ]
    },
    {
     "name": "stdout",
     "output_type": "stream",
     "text": [
      "\u001b[36m(DefaultActor pid=52436)\u001b[0m \tTrain Epoch: 9 \tTrain_loss_mri: 0.0002 | Train_acc_mri: 100.0000 | Train_loss_dna: 0.0007 | Train_acc_dna: 100.0000 | Validation_loss_mri: 0.6673 | Validation_acc_mri: 87.5000 | Validation_loss_dna: 1.8053 | Validation_acc_dna: 70.8333\n"
     ]
    },
    {
     "name": "stderr",
     "output_type": "stream",
     "text": [
      " 90%|\u001b[34m█████████ \u001b[0m| 9/10 [00:11<00:01,  1.27s/it]\n"
     ]
    },
    {
     "name": "stdout",
     "output_type": "stream",
     "text": [
      "\u001b[36m(DefaultActor pid=52436)\u001b[0m \tTrain Epoch: 10 \tTrain_loss_mri: 0.0002 | Train_acc_mri: 100.0000 | Train_loss_dna: 0.0005 | Train_acc_dna: 100.0000 | Validation_loss_mri: 0.6697 | Validation_acc_mri: 87.5000 | Validation_loss_dna: 1.8402 | Validation_acc_dna: 70.8333\n",
      "\u001b[36m(DefaultActor pid=52436)\u001b[0m save graph in  results/FL_DNA+MRI/\n"
     ]
    },
    {
     "name": "stderr",
     "output_type": "stream",
     "text": [
      "100%|\u001b[34m██████████\u001b[0m| 10/10 [00:12<00:00,  1.26s/it]\n"
     ]
    },
    {
     "name": "stdout",
     "output_type": "stream",
     "text": [
      "\u001b[36m(DefaultActor pid=52436)\u001b[0m  To get the checkpoint\n",
      "\u001b[36m(DefaultActor pid=52436)\u001b[0m [Client 7, round 5] fit, config: {'learning_rate': 0.003, 'batch_size': '32', 'server_round': 5, 'local_epochs': 10}\n",
      "\u001b[36m(DefaultActor pid=52436)\u001b[0m Updated model\n"
     ]
    },
    {
     "name": "stderr",
     "output_type": "stream",
     "text": [
      "\u001b[36m(DefaultActor pid=52436)\u001b[0m /tmp/ipykernel_51903/752934157.py:10: FutureWarning: You are using `torch.load` with `weights_only=False` (the current default value), which uses the default pickle module implicitly. It is possible to construct malicious pickle data which will execute arbitrary code during unpickling (See https://github.com/pytorch/pytorch/blob/main/SECURITY.md#untrusted-models for more details). In a future release, the default value for `weights_only` will be flipped to `True`. This limits the functions that could be executed during unpickling. Arbitrary objects will no longer be allowed to be loaded via this mode unless they are explicitly allowlisted by the user via `torch.serialization.add_safe_globals`. We recommend you start setting `weights_only=True` for any use case where you don't have full control of the loaded file. Please open an issue on GitHub for any issues related to this experimental feature.\n",
      "  0%|\u001b[34m          \u001b[0m| 0/10 [00:00<?, ?it/s]\n"
     ]
    },
    {
     "name": "stdout",
     "output_type": "stream",
     "text": [
      "\u001b[36m(DefaultActor pid=52436)\u001b[0m \tTrain Epoch: 1 \tTrain_loss_mri: 0.2412 | Train_acc_mri: 91.4468 | Train_loss_dna: 0.3073 | Train_acc_dna: 87.4421 | Validation_loss_mri: 0.4506 | Validation_acc_mri: 89.0625 | Validation_loss_dna: 0.3743 | Validation_acc_dna: 92.1875\n"
     ]
    },
    {
     "name": "stderr",
     "output_type": "stream",
     "text": [
      " 10%|\u001b[34m█         \u001b[0m| 1/10 [00:01<00:11,  1.28s/it]\n"
     ]
    },
    {
     "name": "stdout",
     "output_type": "stream",
     "text": [
      "\u001b[36m(DefaultActor pid=52436)\u001b[0m \tTrain Epoch: 2 \tTrain_loss_mri: 0.0718 | Train_acc_mri: 97.8125 | Train_loss_dna: 0.2692 | Train_acc_dna: 90.1389 | Validation_loss_mri: 0.3140 | Validation_acc_mri: 93.7500 | Validation_loss_dna: 0.8680 | Validation_acc_dna: 61.9792\n"
     ]
    },
    {
     "name": "stderr",
     "output_type": "stream",
     "text": [
      " 20%|\u001b[34m██        \u001b[0m| 2/10 [00:02<00:10,  1.27s/it]\n"
     ]
    },
    {
     "name": "stdout",
     "output_type": "stream",
     "text": [
      "\u001b[36m(DefaultActor pid=52436)\u001b[0m \tTrain Epoch: 3 \tTrain_loss_mri: 0.0382 | Train_acc_mri: 99.3750 | Train_loss_dna: 0.0856 | Train_acc_dna: 98.4375 | Validation_loss_mri: 0.3534 | Validation_acc_mri: 75.5208 | Validation_loss_dna: 0.5002 | Validation_acc_dna: 75.5208\n"
     ]
    },
    {
     "name": "stderr",
     "output_type": "stream",
     "text": [
      " 30%|\u001b[34m███       \u001b[0m| 3/10 [00:03<00:08,  1.27s/it]\n"
     ]
    },
    {
     "name": "stdout",
     "output_type": "stream",
     "text": [
      "\u001b[36m(DefaultActor pid=52436)\u001b[0m \tTrain Epoch: 4 \tTrain_loss_mri: 0.0103 | Train_acc_mri: 100.0000 | Train_loss_dna: 0.0349 | Train_acc_dna: 99.6875 | Validation_loss_mri: 0.1926 | Validation_acc_mri: 93.7500 | Validation_loss_dna: 0.6533 | Validation_acc_dna: 78.6458\n"
     ]
    },
    {
     "name": "stderr",
     "output_type": "stream",
     "text": [
      " 40%|\u001b[34m████      \u001b[0m| 4/10 [00:05<00:07,  1.27s/it]\n"
     ]
    },
    {
     "name": "stdout",
     "output_type": "stream",
     "text": [
      "\u001b[36m(DefaultActor pid=52436)\u001b[0m \tTrain Epoch: 5 \tTrain_loss_mri: 0.0038 | Train_acc_mri: 100.0000 | Train_loss_dna: 0.0114 | Train_acc_dna: 100.0000 | Validation_loss_mri: 0.2274 | Validation_acc_mri: 95.3125 | Validation_loss_dna: 0.7896 | Validation_acc_dna: 78.6458\n"
     ]
    },
    {
     "name": "stderr",
     "output_type": "stream",
     "text": [
      " 50%|\u001b[34m█████     \u001b[0m| 5/10 [00:06<00:06,  1.29s/it]\n"
     ]
    },
    {
     "name": "stdout",
     "output_type": "stream",
     "text": [
      "\u001b[36m(DefaultActor pid=52436)\u001b[0m \tTrain Epoch: 6 \tTrain_loss_mri: 0.0014 | Train_acc_mri: 100.0000 | Train_loss_dna: 0.0035 | Train_acc_dna: 100.0000 | Validation_loss_mri: 0.2609 | Validation_acc_mri: 95.3125 | Validation_loss_dna: 1.0292 | Validation_acc_dna: 77.0833\n"
     ]
    },
    {
     "name": "stderr",
     "output_type": "stream",
     "text": [
      " 60%|\u001b[34m██████    \u001b[0m| 6/10 [00:07<00:05,  1.29s/it]\n"
     ]
    },
    {
     "name": "stdout",
     "output_type": "stream",
     "text": [
      "\u001b[36m(DefaultActor pid=52436)\u001b[0m \tTrain Epoch: 7 \tTrain_loss_mri: 0.0006 | Train_acc_mri: 100.0000 | Train_loss_dna: 0.0021 | Train_acc_dna: 100.0000 | Validation_loss_mri: 0.2482 | Validation_acc_mri: 95.3125 | Validation_loss_dna: 0.9800 | Validation_acc_dna: 77.0833\n"
     ]
    },
    {
     "name": "stderr",
     "output_type": "stream",
     "text": [
      " 70%|\u001b[34m███████   \u001b[0m| 7/10 [00:08<00:03,  1.29s/it]\n"
     ]
    },
    {
     "name": "stdout",
     "output_type": "stream",
     "text": [
      "\u001b[36m(DefaultActor pid=52436)\u001b[0m \tTrain Epoch: 8 \tTrain_loss_mri: 0.0004 | Train_acc_mri: 100.0000 | Train_loss_dna: 0.0012 | Train_acc_dna: 100.0000 | Validation_loss_mri: 0.2460 | Validation_acc_mri: 95.3125 | Validation_loss_dna: 0.9852 | Validation_acc_dna: 78.6458\n"
     ]
    },
    {
     "name": "stderr",
     "output_type": "stream",
     "text": [
      " 80%|\u001b[34m████████  \u001b[0m| 8/10 [00:10<00:02,  1.29s/it]\n"
     ]
    },
    {
     "name": "stdout",
     "output_type": "stream",
     "text": [
      "\u001b[36m(DefaultActor pid=52436)\u001b[0m \tTrain Epoch: 9 \tTrain_loss_mri: 0.0003 | Train_acc_mri: 100.0000 | Train_loss_dna: 0.0009 | Train_acc_dna: 100.0000 | Validation_loss_mri: 0.2509 | Validation_acc_mri: 95.3125 | Validation_loss_dna: 1.0281 | Validation_acc_dna: 78.6458\n"
     ]
    },
    {
     "name": "stderr",
     "output_type": "stream",
     "text": [
      " 90%|\u001b[34m█████████ \u001b[0m| 9/10 [00:11<00:01,  1.29s/it]\n"
     ]
    },
    {
     "name": "stdout",
     "output_type": "stream",
     "text": [
      "\u001b[36m(DefaultActor pid=52436)\u001b[0m \tTrain Epoch: 10 \tTrain_loss_mri: 0.0002 | Train_acc_mri: 100.0000 | Train_loss_dna: 0.0007 | Train_acc_dna: 100.0000 | Validation_loss_mri: 0.2568 | Validation_acc_mri: 95.3125 | Validation_loss_dna: 1.0540 | Validation_acc_dna: 78.6458\n",
      "\u001b[36m(DefaultActor pid=52436)\u001b[0m save graph in  results/FL_DNA+MRI/\n"
     ]
    },
    {
     "name": "stderr",
     "output_type": "stream",
     "text": [
      "100%|\u001b[34m██████████\u001b[0m| 10/10 [00:12<00:00,  1.28s/it]\n"
     ]
    },
    {
     "name": "stdout",
     "output_type": "stream",
     "text": [
      "\u001b[36m(DefaultActor pid=52436)\u001b[0m  To get the checkpoint\n",
      "\u001b[36m(DefaultActor pid=52436)\u001b[0m [Client 0, round 5] fit, config: {'learning_rate': 0.003, 'batch_size': '32', 'server_round': 5, 'local_epochs': 10}\n",
      "\u001b[36m(DefaultActor pid=52436)\u001b[0m Updated model\n"
     ]
    },
    {
     "name": "stderr",
     "output_type": "stream",
     "text": [
      "\u001b[36m(DefaultActor pid=52436)\u001b[0m /tmp/ipykernel_51903/752934157.py:10: FutureWarning: You are using `torch.load` with `weights_only=False` (the current default value), which uses the default pickle module implicitly. It is possible to construct malicious pickle data which will execute arbitrary code during unpickling (See https://github.com/pytorch/pytorch/blob/main/SECURITY.md#untrusted-models for more details). In a future release, the default value for `weights_only` will be flipped to `True`. This limits the functions that could be executed during unpickling. Arbitrary objects will no longer be allowed to be loaded via this mode unless they are explicitly allowlisted by the user via `torch.serialization.add_safe_globals`. We recommend you start setting `weights_only=True` for any use case where you don't have full control of the loaded file. Please open an issue on GitHub for any issues related to this experimental feature.\n",
      "  0%|\u001b[34m          \u001b[0m| 0/10 [00:00<?, ?it/s]\n"
     ]
    },
    {
     "name": "stdout",
     "output_type": "stream",
     "text": [
      "\u001b[36m(DefaultActor pid=52436)\u001b[0m \tTrain Epoch: 1 \tTrain_loss_mri: 0.3125 | Train_acc_mri: 88.0903 | Train_loss_dna: 0.3108 | Train_acc_dna: 87.3843 | Validation_loss_mri: 0.7822 | Validation_acc_mri: 67.7083 | Validation_loss_dna: 2.2384 | Validation_acc_dna: 60.4167\n"
     ]
    },
    {
     "name": "stderr",
     "output_type": "stream",
     "text": [
      " 10%|\u001b[34m█         \u001b[0m| 1/10 [00:01<00:11,  1.26s/it]\n"
     ]
    },
    {
     "name": "stdout",
     "output_type": "stream",
     "text": [
      "\u001b[36m(DefaultActor pid=52436)\u001b[0m \tTrain Epoch: 2 \tTrain_loss_mri: 0.1070 | Train_acc_mri: 96.5625 | Train_loss_dna: 0.2611 | Train_acc_dna: 91.7593 | Validation_loss_mri: 1.1537 | Validation_acc_mri: 66.1458 | Validation_loss_dna: 2.3225 | Validation_acc_dna: 40.6250\n"
     ]
    },
    {
     "name": "stderr",
     "output_type": "stream",
     "text": [
      " 20%|\u001b[34m██        \u001b[0m| 2/10 [00:02<00:10,  1.26s/it]\n"
     ]
    },
    {
     "name": "stdout",
     "output_type": "stream",
     "text": [
      "\u001b[36m(DefaultActor pid=52436)\u001b[0m \tTrain Epoch: 3 \tTrain_loss_mri: 0.0193 | Train_acc_mri: 100.0000 | Train_loss_dna: 0.0796 | Train_acc_dna: 99.0625 | Validation_loss_mri: 1.4910 | Validation_acc_mri: 67.7083 | Validation_loss_dna: 1.8049 | Validation_acc_dna: 69.2708\n"
     ]
    },
    {
     "name": "stderr",
     "output_type": "stream",
     "text": [
      " 30%|\u001b[34m███       \u001b[0m| 3/10 [00:03<00:08,  1.27s/it]\n"
     ]
    },
    {
     "name": "stdout",
     "output_type": "stream",
     "text": [
      "\u001b[36m(DefaultActor pid=52436)\u001b[0m \tTrain Epoch: 4 \tTrain_loss_mri: 0.0043 | Train_acc_mri: 100.0000 | Train_loss_dna: 0.0241 | Train_acc_dna: 99.6875 | Validation_loss_mri: 2.0445 | Validation_acc_mri: 66.1458 | Validation_loss_dna: 2.0193 | Validation_acc_dna: 34.3750\n"
     ]
    },
    {
     "name": "stderr",
     "output_type": "stream",
     "text": [
      " 40%|\u001b[34m████      \u001b[0m| 4/10 [00:05<00:07,  1.27s/it]\n"
     ]
    },
    {
     "name": "stdout",
     "output_type": "stream",
     "text": [
      "\u001b[36m(DefaultActor pid=52436)\u001b[0m \tTrain Epoch: 5 \tTrain_loss_mri: 0.0021 | Train_acc_mri: 100.0000 | Train_loss_dna: 0.0140 | Train_acc_dna: 99.6875 | Validation_loss_mri: 1.7524 | Validation_acc_mri: 64.5833 | Validation_loss_dna: 2.7695 | Validation_acc_dna: 58.8542\n"
     ]
    },
    {
     "name": "stderr",
     "output_type": "stream",
     "text": [
      " 50%|\u001b[34m█████     \u001b[0m| 5/10 [00:06<00:06,  1.26s/it]\n"
     ]
    },
    {
     "name": "stdout",
     "output_type": "stream",
     "text": [
      "\u001b[36m(DefaultActor pid=52436)\u001b[0m \tTrain Epoch: 6 \tTrain_loss_mri: 0.0024 | Train_acc_mri: 100.0000 | Train_loss_dna: 0.0173 | Train_acc_dna: 99.3171 | Validation_loss_mri: 2.3522 | Validation_acc_mri: 66.1458 | Validation_loss_dna: 2.7977 | Validation_acc_dna: 54.1667\n"
     ]
    },
    {
     "name": "stderr",
     "output_type": "stream",
     "text": [
      " 60%|\u001b[34m██████    \u001b[0m| 6/10 [00:07<00:05,  1.26s/it]\n"
     ]
    },
    {
     "name": "stdout",
     "output_type": "stream",
     "text": [
      "\u001b[36m(DefaultActor pid=52436)\u001b[0m \tTrain Epoch: 7 \tTrain_loss_mri: 0.0339 | Train_acc_mri: 99.3750 | Train_loss_dna: 0.0844 | Train_acc_dna: 98.4375 | Validation_loss_mri: 1.6673 | Validation_acc_mri: 64.5833 | Validation_loss_dna: 3.0729 | Validation_acc_dna: 73.9583\n"
     ]
    },
    {
     "name": "stderr",
     "output_type": "stream",
     "text": [
      " 70%|\u001b[34m███████   \u001b[0m| 7/10 [00:08<00:03,  1.26s/it]\n"
     ]
    },
    {
     "name": "stdout",
     "output_type": "stream",
     "text": [
      "\u001b[36m(DefaultActor pid=52436)\u001b[0m \tTrain Epoch: 8 \tTrain_loss_mri: 0.0343 | Train_acc_mri: 99.3750 | Train_loss_dna: 0.0394 | Train_acc_dna: 98.6921 | Validation_loss_mri: 2.1237 | Validation_acc_mri: 63.0208 | Validation_loss_dna: 2.6051 | Validation_acc_dna: 57.2917\n"
     ]
    },
    {
     "name": "stderr",
     "output_type": "stream",
     "text": [
      " 80%|\u001b[34m████████  \u001b[0m| 8/10 [00:10<00:02,  1.27s/it]\n"
     ]
    },
    {
     "name": "stdout",
     "output_type": "stream",
     "text": [
      "\u001b[36m(DefaultActor pid=52436)\u001b[0m \tTrain Epoch: 9 \tTrain_loss_mri: 0.0145 | Train_acc_mri: 100.0000 | Train_loss_dna: 0.0249 | Train_acc_dna: 99.6875 | Validation_loss_mri: 1.8403 | Validation_acc_mri: 66.1458 | Validation_loss_dna: 3.0309 | Validation_acc_dna: 55.7292\n"
     ]
    },
    {
     "name": "stderr",
     "output_type": "stream",
     "text": [
      " 90%|\u001b[34m█████████ \u001b[0m| 9/10 [00:11<00:01,  1.28s/it]\n"
     ]
    },
    {
     "name": "stdout",
     "output_type": "stream",
     "text": [
      "\u001b[36m(DefaultActor pid=52436)\u001b[0m \tTrain Epoch: 10 \tTrain_loss_mri: 0.0051 | Train_acc_mri: 100.0000 | Train_loss_dna: 0.0147 | Train_acc_dna: 100.0000 | Validation_loss_mri: 2.1382 | Validation_acc_mri: 67.7083 | Validation_loss_dna: 2.9340 | Validation_acc_dna: 40.6250\n",
      "\u001b[36m(DefaultActor pid=52436)\u001b[0m save graph in  results/FL_DNA+MRI/\n"
     ]
    },
    {
     "name": "stderr",
     "output_type": "stream",
     "text": [
      "100%|\u001b[34m██████████\u001b[0m| 10/10 [00:12<00:00,  1.27s/it]\n",
      "DEBUG flwr 2024-10-06 21:38:46,478 | server.py:236 | fit_round 5 received 10 results and 0 failures\n"
     ]
    },
    {
     "name": "stdout",
     "output_type": "stream",
     "text": [
      "Saving round 5 aggregated_parameters...\n",
      "Updated model\n"
     ]
    },
    {
     "name": "stderr",
     "output_type": "stream",
     "text": [
      "INFO flwr 2024-10-06 21:39:03,155 | server.py:125 | fit progress: (5, (0.7900049973811422, 0.6206687156643186), {'accuracy': (81.62202380952381, 78.42261904761905)}, 1376.09058809001)\n",
      "DEBUG flwr 2024-10-06 21:39:03,156 | server.py:173 | evaluate_round 5: strategy sampled 10 clients (out of 10)\n"
     ]
    },
    {
     "name": "stdout",
     "output_type": "stream",
     "text": [
      "Server-side evaluation MRI loss 0.7900049973811422 / MRI accuracy 81.62202380952381\n",
      "Server-side evaluation DNA loss 0.6206687156643186 / DNA accuracy 78.42261904761905\n",
      "\u001b[36m(DefaultActor pid=52436)\u001b[0m  To get the checkpoint\n",
      "\u001b[36m(DefaultActor pid=52436)\u001b[0m [Client 1] evaluate, config: {}\n",
      "\u001b[36m(DefaultActor pid=52436)\u001b[0m Updated model\n"
     ]
    },
    {
     "name": "stderr",
     "output_type": "stream",
     "text": [
      "\u001b[36m(DefaultActor pid=52436)\u001b[0m /tmp/ipykernel_51903/752934157.py:10: FutureWarning: You are using `torch.load` with `weights_only=False` (the current default value), which uses the default pickle module implicitly. It is possible to construct malicious pickle data which will execute arbitrary code during unpickling (See https://github.com/pytorch/pytorch/blob/main/SECURITY.md#untrusted-models for more details). In a future release, the default value for `weights_only` will be flipped to `True`. This limits the functions that could be executed during unpickling. Arbitrary objects will no longer be allowed to be loaded via this mode unless they are explicitly allowlisted by the user via `torch.serialization.add_safe_globals`. We recommend you start setting `weights_only=True` for any use case where you don't have full control of the loaded file. Please open an issue on GitHub for any issues related to this experimental feature.\n",
      "\u001b[36m(DefaultActor pid=52436)\u001b[0m /home/cudaq/.local/lib/python3.10/site-packages/torch/storage.py:414: FutureWarning: You are using `torch.load` with `weights_only=False` (the current default value), which uses the default pickle module implicitly. It is possible to construct malicious pickle data which will execute arbitrary code during unpickling (See https://github.com/pytorch/pytorch/blob/main/SECURITY.md#untrusted-models for more details). In a future release, the default value for `weights_only` will be flipped to `True`. This limits the functions that could be executed during unpickling. Arbitrary objects will no longer be allowed to be loaded via this mode unless they are explicitly allowlisted by the user via `torch.serialization.add_safe_globals`. We recommend you start setting `weights_only=True` for any use case where you don't have full control of the loaded file. Please open an issue on GitHub for any issues related to this experimental feature.\n",
      "\u001b[36m(DefaultActor pid=52436)\u001b[0m   return torch.load(io.BytesIO(b))\n"
     ]
    },
    {
     "name": "stdout",
     "output_type": "stream",
     "text": [
      "\u001b[36m(DefaultActor pid=52436)\u001b[0m  To get the checkpoint\n",
      "\u001b[36m(DefaultActor pid=52436)\u001b[0m [Client 9] evaluate, config: {}\n",
      "\u001b[36m(DefaultActor pid=52436)\u001b[0m Updated model\n"
     ]
    },
    {
     "name": "stderr",
     "output_type": "stream",
     "text": [
      "\u001b[36m(DefaultActor pid=52436)\u001b[0m /tmp/ipykernel_51903/752934157.py:10: FutureWarning: You are using `torch.load` with `weights_only=False` (the current default value), which uses the default pickle module implicitly. It is possible to construct malicious pickle data which will execute arbitrary code during unpickling (See https://github.com/pytorch/pytorch/blob/main/SECURITY.md#untrusted-models for more details). In a future release, the default value for `weights_only` will be flipped to `True`. This limits the functions that could be executed during unpickling. Arbitrary objects will no longer be allowed to be loaded via this mode unless they are explicitly allowlisted by the user via `torch.serialization.add_safe_globals`. We recommend you start setting `weights_only=True` for any use case where you don't have full control of the loaded file. Please open an issue on GitHub for any issues related to this experimental feature.\n",
      "\u001b[36m(DefaultActor pid=52436)\u001b[0m /home/cudaq/.local/lib/python3.10/site-packages/sklearn/metrics/_ranking.py:1183: UndefinedMetricWarning: No positive samples in y_true, true positive value should be meaningless\n",
      "\u001b[36m(DefaultActor pid=52436)\u001b[0m   warnings.warn(\n",
      "\u001b[36m(DefaultActor pid=52436)\u001b[0m /home/cudaq/.local/lib/python3.10/site-packages/torch/storage.py:414: FutureWarning: You are using `torch.load` with `weights_only=False` (the current default value), which uses the default pickle module implicitly. It is possible to construct malicious pickle data which will execute arbitrary code during unpickling (See https://github.com/pytorch/pytorch/blob/main/SECURITY.md#untrusted-models for more details). In a future release, the default value for `weights_only` will be flipped to `True`. This limits the functions that could be executed during unpickling. Arbitrary objects will no longer be allowed to be loaded via this mode unless they are explicitly allowlisted by the user via `torch.serialization.add_safe_globals`. We recommend you start setting `weights_only=True` for any use case where you don't have full control of the loaded file. Please open an issue on GitHub for any issues related to this experimental feature.\n",
      "\u001b[36m(DefaultActor pid=52436)\u001b[0m   return torch.load(io.BytesIO(b))\n"
     ]
    },
    {
     "name": "stdout",
     "output_type": "stream",
     "text": [
      "\u001b[36m(DefaultActor pid=52436)\u001b[0m  To get the checkpoint\n",
      "\u001b[36m(DefaultActor pid=52436)\u001b[0m [Client 7] evaluate, config: {}\n",
      "\u001b[36m(DefaultActor pid=52436)\u001b[0m Updated model\n"
     ]
    },
    {
     "name": "stderr",
     "output_type": "stream",
     "text": [
      "\u001b[36m(DefaultActor pid=52436)\u001b[0m /tmp/ipykernel_51903/752934157.py:10: FutureWarning: You are using `torch.load` with `weights_only=False` (the current default value), which uses the default pickle module implicitly. It is possible to construct malicious pickle data which will execute arbitrary code during unpickling (See https://github.com/pytorch/pytorch/blob/main/SECURITY.md#untrusted-models for more details). In a future release, the default value for `weights_only` will be flipped to `True`. This limits the functions that could be executed during unpickling. Arbitrary objects will no longer be allowed to be loaded via this mode unless they are explicitly allowlisted by the user via `torch.serialization.add_safe_globals`. We recommend you start setting `weights_only=True` for any use case where you don't have full control of the loaded file. Please open an issue on GitHub for any issues related to this experimental feature.\n",
      "\u001b[36m(DefaultActor pid=52436)\u001b[0m /home/cudaq/.local/lib/python3.10/site-packages/torch/storage.py:414: FutureWarning: You are using `torch.load` with `weights_only=False` (the current default value), which uses the default pickle module implicitly. It is possible to construct malicious pickle data which will execute arbitrary code during unpickling (See https://github.com/pytorch/pytorch/blob/main/SECURITY.md#untrusted-models for more details). In a future release, the default value for `weights_only` will be flipped to `True`. This limits the functions that could be executed during unpickling. Arbitrary objects will no longer be allowed to be loaded via this mode unless they are explicitly allowlisted by the user via `torch.serialization.add_safe_globals`. We recommend you start setting `weights_only=True` for any use case where you don't have full control of the loaded file. Please open an issue on GitHub for any issues related to this experimental feature.\n",
      "\u001b[36m(DefaultActor pid=52436)\u001b[0m   return torch.load(io.BytesIO(b))\n"
     ]
    },
    {
     "name": "stdout",
     "output_type": "stream",
     "text": [
      "\u001b[36m(DefaultActor pid=52436)\u001b[0m  To get the checkpoint\n",
      "\u001b[36m(DefaultActor pid=52436)\u001b[0m [Client 0] evaluate, config: {}\n",
      "\u001b[36m(DefaultActor pid=52436)\u001b[0m Updated model\n"
     ]
    },
    {
     "name": "stderr",
     "output_type": "stream",
     "text": [
      "\u001b[36m(DefaultActor pid=52436)\u001b[0m /tmp/ipykernel_51903/752934157.py:10: FutureWarning: You are using `torch.load` with `weights_only=False` (the current default value), which uses the default pickle module implicitly. It is possible to construct malicious pickle data which will execute arbitrary code during unpickling (See https://github.com/pytorch/pytorch/blob/main/SECURITY.md#untrusted-models for more details). In a future release, the default value for `weights_only` will be flipped to `True`. This limits the functions that could be executed during unpickling. Arbitrary objects will no longer be allowed to be loaded via this mode unless they are explicitly allowlisted by the user via `torch.serialization.add_safe_globals`. We recommend you start setting `weights_only=True` for any use case where you don't have full control of the loaded file. Please open an issue on GitHub for any issues related to this experimental feature.\n",
      "\u001b[36m(DefaultActor pid=52436)\u001b[0m /home/cudaq/.local/lib/python3.10/site-packages/torch/storage.py:414: FutureWarning: You are using `torch.load` with `weights_only=False` (the current default value), which uses the default pickle module implicitly. It is possible to construct malicious pickle data which will execute arbitrary code during unpickling (See https://github.com/pytorch/pytorch/blob/main/SECURITY.md#untrusted-models for more details). In a future release, the default value for `weights_only` will be flipped to `True`. This limits the functions that could be executed during unpickling. Arbitrary objects will no longer be allowed to be loaded via this mode unless they are explicitly allowlisted by the user via `torch.serialization.add_safe_globals`. We recommend you start setting `weights_only=True` for any use case where you don't have full control of the loaded file. Please open an issue on GitHub for any issues related to this experimental feature.\n",
      "\u001b[36m(DefaultActor pid=52436)\u001b[0m   return torch.load(io.BytesIO(b))\n"
     ]
    },
    {
     "name": "stdout",
     "output_type": "stream",
     "text": [
      "\u001b[36m(DefaultActor pid=52436)\u001b[0m  To get the checkpoint\n",
      "\u001b[36m(DefaultActor pid=52436)\u001b[0m [Client 4] evaluate, config: {}\n",
      "\u001b[36m(DefaultActor pid=52436)\u001b[0m Updated model\n"
     ]
    },
    {
     "name": "stderr",
     "output_type": "stream",
     "text": [
      "\u001b[36m(DefaultActor pid=52436)\u001b[0m /tmp/ipykernel_51903/752934157.py:10: FutureWarning: You are using `torch.load` with `weights_only=False` (the current default value), which uses the default pickle module implicitly. It is possible to construct malicious pickle data which will execute arbitrary code during unpickling (See https://github.com/pytorch/pytorch/blob/main/SECURITY.md#untrusted-models for more details). In a future release, the default value for `weights_only` will be flipped to `True`. This limits the functions that could be executed during unpickling. Arbitrary objects will no longer be allowed to be loaded via this mode unless they are explicitly allowlisted by the user via `torch.serialization.add_safe_globals`. We recommend you start setting `weights_only=True` for any use case where you don't have full control of the loaded file. Please open an issue on GitHub for any issues related to this experimental feature.\n",
      "\u001b[36m(DefaultActor pid=52436)\u001b[0m /home/cudaq/.local/lib/python3.10/site-packages/sklearn/metrics/_ranking.py:1183: UndefinedMetricWarning: No positive samples in y_true, true positive value should be meaningless\n",
      "\u001b[36m(DefaultActor pid=52436)\u001b[0m   warnings.warn(\n",
      "\u001b[36m(DefaultActor pid=52436)\u001b[0m /home/cudaq/.local/lib/python3.10/site-packages/torch/storage.py:414: FutureWarning: You are using `torch.load` with `weights_only=False` (the current default value), which uses the default pickle module implicitly. It is possible to construct malicious pickle data which will execute arbitrary code during unpickling (See https://github.com/pytorch/pytorch/blob/main/SECURITY.md#untrusted-models for more details). In a future release, the default value for `weights_only` will be flipped to `True`. This limits the functions that could be executed during unpickling. Arbitrary objects will no longer be allowed to be loaded via this mode unless they are explicitly allowlisted by the user via `torch.serialization.add_safe_globals`. We recommend you start setting `weights_only=True` for any use case where you don't have full control of the loaded file. Please open an issue on GitHub for any issues related to this experimental feature.\n",
      "\u001b[36m(DefaultActor pid=52436)\u001b[0m   return torch.load(io.BytesIO(b))\n"
     ]
    },
    {
     "name": "stdout",
     "output_type": "stream",
     "text": [
      "\u001b[36m(DefaultActor pid=52436)\u001b[0m  To get the checkpoint\n",
      "\u001b[36m(DefaultActor pid=52436)\u001b[0m [Client 8] evaluate, config: {}\n"
     ]
    },
    {
     "name": "stderr",
     "output_type": "stream",
     "text": [
      "\u001b[36m(DefaultActor pid=52436)\u001b[0m /tmp/ipykernel_51903/752934157.py:10: FutureWarning: You are using `torch.load` with `weights_only=False` (the current default value), which uses the default pickle module implicitly. It is possible to construct malicious pickle data which will execute arbitrary code during unpickling (See https://github.com/pytorch/pytorch/blob/main/SECURITY.md#untrusted-models for more details). In a future release, the default value for `weights_only` will be flipped to `True`. This limits the functions that could be executed during unpickling. Arbitrary objects will no longer be allowed to be loaded via this mode unless they are explicitly allowlisted by the user via `torch.serialization.add_safe_globals`. We recommend you start setting `weights_only=True` for any use case where you don't have full control of the loaded file. Please open an issue on GitHub for any issues related to this experimental feature.\n"
     ]
    },
    {
     "name": "stdout",
     "output_type": "stream",
     "text": [
      "\u001b[36m(DefaultActor pid=52436)\u001b[0m Updated model\n"
     ]
    },
    {
     "name": "stderr",
     "output_type": "stream",
     "text": [
      "\u001b[36m(DefaultActor pid=52436)\u001b[0m /home/cudaq/.local/lib/python3.10/site-packages/sklearn/metrics/_ranking.py:1183: UndefinedMetricWarning: No positive samples in y_true, true positive value should be meaningless\n",
      "\u001b[36m(DefaultActor pid=52436)\u001b[0m   warnings.warn(\n",
      "\u001b[36m(DefaultActor pid=52436)\u001b[0m /home/cudaq/.local/lib/python3.10/site-packages/torch/storage.py:414: FutureWarning: You are using `torch.load` with `weights_only=False` (the current default value), which uses the default pickle module implicitly. It is possible to construct malicious pickle data which will execute arbitrary code during unpickling (See https://github.com/pytorch/pytorch/blob/main/SECURITY.md#untrusted-models for more details). In a future release, the default value for `weights_only` will be flipped to `True`. This limits the functions that could be executed during unpickling. Arbitrary objects will no longer be allowed to be loaded via this mode unless they are explicitly allowlisted by the user via `torch.serialization.add_safe_globals`. We recommend you start setting `weights_only=True` for any use case where you don't have full control of the loaded file. Please open an issue on GitHub for any issues related to this experimental feature.\n",
      "\u001b[36m(DefaultActor pid=52436)\u001b[0m   return torch.load(io.BytesIO(b))\n"
     ]
    },
    {
     "name": "stdout",
     "output_type": "stream",
     "text": [
      "\u001b[36m(DefaultActor pid=52436)\u001b[0m  To get the checkpoint\n",
      "\u001b[36m(DefaultActor pid=52436)\u001b[0m [Client 5] evaluate, config: {}\n"
     ]
    },
    {
     "name": "stderr",
     "output_type": "stream",
     "text": [
      "\u001b[36m(DefaultActor pid=52436)\u001b[0m /tmp/ipykernel_51903/752934157.py:10: FutureWarning: You are using `torch.load` with `weights_only=False` (the current default value), which uses the default pickle module implicitly. It is possible to construct malicious pickle data which will execute arbitrary code during unpickling (See https://github.com/pytorch/pytorch/blob/main/SECURITY.md#untrusted-models for more details). In a future release, the default value for `weights_only` will be flipped to `True`. This limits the functions that could be executed during unpickling. Arbitrary objects will no longer be allowed to be loaded via this mode unless they are explicitly allowlisted by the user via `torch.serialization.add_safe_globals`. We recommend you start setting `weights_only=True` for any use case where you don't have full control of the loaded file. Please open an issue on GitHub for any issues related to this experimental feature.\n"
     ]
    },
    {
     "name": "stdout",
     "output_type": "stream",
     "text": [
      "\u001b[36m(DefaultActor pid=52436)\u001b[0m Updated model\n"
     ]
    },
    {
     "name": "stderr",
     "output_type": "stream",
     "text": [
      "\u001b[36m(DefaultActor pid=52436)\u001b[0m /home/cudaq/.local/lib/python3.10/site-packages/torch/storage.py:414: FutureWarning: You are using `torch.load` with `weights_only=False` (the current default value), which uses the default pickle module implicitly. It is possible to construct malicious pickle data which will execute arbitrary code during unpickling (See https://github.com/pytorch/pytorch/blob/main/SECURITY.md#untrusted-models for more details). In a future release, the default value for `weights_only` will be flipped to `True`. This limits the functions that could be executed during unpickling. Arbitrary objects will no longer be allowed to be loaded via this mode unless they are explicitly allowlisted by the user via `torch.serialization.add_safe_globals`. We recommend you start setting `weights_only=True` for any use case where you don't have full control of the loaded file. Please open an issue on GitHub for any issues related to this experimental feature.\n",
      "\u001b[36m(DefaultActor pid=52436)\u001b[0m   return torch.load(io.BytesIO(b))\n"
     ]
    },
    {
     "name": "stdout",
     "output_type": "stream",
     "text": [
      "\u001b[36m(DefaultActor pid=52436)\u001b[0m  To get the checkpoint\n",
      "\u001b[36m(DefaultActor pid=52436)\u001b[0m [Client 3] evaluate, config: {}\n",
      "\u001b[36m(DefaultActor pid=52436)\u001b[0m Updated model\n"
     ]
    },
    {
     "name": "stderr",
     "output_type": "stream",
     "text": [
      "\u001b[36m(DefaultActor pid=52436)\u001b[0m /tmp/ipykernel_51903/752934157.py:10: FutureWarning: You are using `torch.load` with `weights_only=False` (the current default value), which uses the default pickle module implicitly. It is possible to construct malicious pickle data which will execute arbitrary code during unpickling (See https://github.com/pytorch/pytorch/blob/main/SECURITY.md#untrusted-models for more details). In a future release, the default value for `weights_only` will be flipped to `True`. This limits the functions that could be executed during unpickling. Arbitrary objects will no longer be allowed to be loaded via this mode unless they are explicitly allowlisted by the user via `torch.serialization.add_safe_globals`. We recommend you start setting `weights_only=True` for any use case where you don't have full control of the loaded file. Please open an issue on GitHub for any issues related to this experimental feature.\n",
      "\u001b[36m(DefaultActor pid=52436)\u001b[0m /home/cudaq/.local/lib/python3.10/site-packages/torch/storage.py:414: FutureWarning: You are using `torch.load` with `weights_only=False` (the current default value), which uses the default pickle module implicitly. It is possible to construct malicious pickle data which will execute arbitrary code during unpickling (See https://github.com/pytorch/pytorch/blob/main/SECURITY.md#untrusted-models for more details). In a future release, the default value for `weights_only` will be flipped to `True`. This limits the functions that could be executed during unpickling. Arbitrary objects will no longer be allowed to be loaded via this mode unless they are explicitly allowlisted by the user via `torch.serialization.add_safe_globals`. We recommend you start setting `weights_only=True` for any use case where you don't have full control of the loaded file. Please open an issue on GitHub for any issues related to this experimental feature.\n",
      "\u001b[36m(DefaultActor pid=52436)\u001b[0m   return torch.load(io.BytesIO(b))\n"
     ]
    },
    {
     "name": "stdout",
     "output_type": "stream",
     "text": [
      "\u001b[36m(DefaultActor pid=52436)\u001b[0m  To get the checkpoint\n",
      "\u001b[36m(DefaultActor pid=52436)\u001b[0m [Client 6] evaluate, config: {}\n",
      "\u001b[36m(DefaultActor pid=52436)\u001b[0m Updated model\n"
     ]
    },
    {
     "name": "stderr",
     "output_type": "stream",
     "text": [
      "\u001b[36m(DefaultActor pid=52436)\u001b[0m /tmp/ipykernel_51903/752934157.py:10: FutureWarning: You are using `torch.load` with `weights_only=False` (the current default value), which uses the default pickle module implicitly. It is possible to construct malicious pickle data which will execute arbitrary code during unpickling (See https://github.com/pytorch/pytorch/blob/main/SECURITY.md#untrusted-models for more details). In a future release, the default value for `weights_only` will be flipped to `True`. This limits the functions that could be executed during unpickling. Arbitrary objects will no longer be allowed to be loaded via this mode unless they are explicitly allowlisted by the user via `torch.serialization.add_safe_globals`. We recommend you start setting `weights_only=True` for any use case where you don't have full control of the loaded file. Please open an issue on GitHub for any issues related to this experimental feature.\n",
      "\u001b[36m(DefaultActor pid=52436)\u001b[0m /home/cudaq/.local/lib/python3.10/site-packages/torch/storage.py:414: FutureWarning: You are using `torch.load` with `weights_only=False` (the current default value), which uses the default pickle module implicitly. It is possible to construct malicious pickle data which will execute arbitrary code during unpickling (See https://github.com/pytorch/pytorch/blob/main/SECURITY.md#untrusted-models for more details). In a future release, the default value for `weights_only` will be flipped to `True`. This limits the functions that could be executed during unpickling. Arbitrary objects will no longer be allowed to be loaded via this mode unless they are explicitly allowlisted by the user via `torch.serialization.add_safe_globals`. We recommend you start setting `weights_only=True` for any use case where you don't have full control of the loaded file. Please open an issue on GitHub for any issues related to this experimental feature.\n",
      "\u001b[36m(DefaultActor pid=52436)\u001b[0m   return torch.load(io.BytesIO(b))\n"
     ]
    },
    {
     "name": "stdout",
     "output_type": "stream",
     "text": [
      "\u001b[36m(DefaultActor pid=52436)\u001b[0m  To get the checkpoint\n",
      "\u001b[36m(DefaultActor pid=52436)\u001b[0m [Client 2] evaluate, config: {}\n",
      "\u001b[36m(DefaultActor pid=52436)\u001b[0m Updated model\n"
     ]
    },
    {
     "name": "stderr",
     "output_type": "stream",
     "text": [
      "\u001b[36m(DefaultActor pid=52436)\u001b[0m /tmp/ipykernel_51903/752934157.py:10: FutureWarning: You are using `torch.load` with `weights_only=False` (the current default value), which uses the default pickle module implicitly. It is possible to construct malicious pickle data which will execute arbitrary code during unpickling (See https://github.com/pytorch/pytorch/blob/main/SECURITY.md#untrusted-models for more details). In a future release, the default value for `weights_only` will be flipped to `True`. This limits the functions that could be executed during unpickling. Arbitrary objects will no longer be allowed to be loaded via this mode unless they are explicitly allowlisted by the user via `torch.serialization.add_safe_globals`. We recommend you start setting `weights_only=True` for any use case where you don't have full control of the loaded file. Please open an issue on GitHub for any issues related to this experimental feature.\n",
      "DEBUG flwr 2024-10-06 21:40:11,773 | server.py:187 | evaluate_round 5 received 10 results and 0 failures\n",
      "DEBUG flwr 2024-10-06 21:40:11,774 | server.py:222 | fit_round 6: strategy sampled 10 clients (out of 10)\n",
      "\u001b[36m(DefaultActor pid=52436)\u001b[0m /home/cudaq/.local/lib/python3.10/site-packages/torch/storage.py:414: FutureWarning: You are using `torch.load` with `weights_only=False` (the current default value), which uses the default pickle module implicitly. It is possible to construct malicious pickle data which will execute arbitrary code during unpickling (See https://github.com/pytorch/pytorch/blob/main/SECURITY.md#untrusted-models for more details). In a future release, the default value for `weights_only` will be flipped to `True`. This limits the functions that could be executed during unpickling. Arbitrary objects will no longer be allowed to be loaded via this mode unless they are explicitly allowlisted by the user via `torch.serialization.add_safe_globals`. We recommend you start setting `weights_only=True` for any use case where you don't have full control of the loaded file. Please open an issue on GitHub for any issues related to this experimental feature.\n",
      "\u001b[36m(DefaultActor pid=52436)\u001b[0m   return torch.load(io.BytesIO(b))\n"
     ]
    },
    {
     "name": "stdout",
     "output_type": "stream",
     "text": [
      "\u001b[36m(DefaultActor pid=52436)\u001b[0m  To get the checkpoint\n",
      "\u001b[36m(DefaultActor pid=52436)\u001b[0m [Client 4, round 6] fit, config: {'learning_rate': 0.003, 'batch_size': '32', 'server_round': 6, 'local_epochs': 10}\n",
      "\u001b[36m(DefaultActor pid=52436)\u001b[0m Updated model\n"
     ]
    },
    {
     "name": "stderr",
     "output_type": "stream",
     "text": [
      "\u001b[36m(DefaultActor pid=52436)\u001b[0m /tmp/ipykernel_51903/752934157.py:10: FutureWarning: You are using `torch.load` with `weights_only=False` (the current default value), which uses the default pickle module implicitly. It is possible to construct malicious pickle data which will execute arbitrary code during unpickling (See https://github.com/pytorch/pytorch/blob/main/SECURITY.md#untrusted-models for more details). In a future release, the default value for `weights_only` will be flipped to `True`. This limits the functions that could be executed during unpickling. Arbitrary objects will no longer be allowed to be loaded via this mode unless they are explicitly allowlisted by the user via `torch.serialization.add_safe_globals`. We recommend you start setting `weights_only=True` for any use case where you don't have full control of the loaded file. Please open an issue on GitHub for any issues related to this experimental feature.\n",
      "  0%|\u001b[34m          \u001b[0m| 0/10 [00:00<?, ?it/s]\n"
     ]
    },
    {
     "name": "stdout",
     "output_type": "stream",
     "text": [
      "\u001b[36m(DefaultActor pid=52436)\u001b[0m \tTrain Epoch: 1 \tTrain_loss_mri: 0.2964 | Train_acc_mri: 90.3125 | Train_loss_dna: 0.0851 | Train_acc_dna: 98.0671 | Validation_loss_mri: 0.8014 | Validation_acc_mri: 77.0833 | Validation_loss_dna: 0.5661 | Validation_acc_dna: 77.0833\n"
     ]
    },
    {
     "name": "stderr",
     "output_type": "stream",
     "text": [
      " 10%|\u001b[34m█         \u001b[0m| 1/10 [00:01<00:11,  1.25s/it]\n"
     ]
    },
    {
     "name": "stdout",
     "output_type": "stream",
     "text": [
      "\u001b[36m(DefaultActor pid=52436)\u001b[0m \tTrain Epoch: 2 \tTrain_loss_mri: 0.0468 | Train_acc_mri: 98.3796 | Train_loss_dna: 0.0910 | Train_acc_dna: 97.5000 | Validation_loss_mri: 0.8132 | Validation_acc_mri: 75.5208 | Validation_loss_dna: 0.8818 | Validation_acc_dna: 61.9792\n"
     ]
    },
    {
     "name": "stderr",
     "output_type": "stream",
     "text": [
      " 20%|\u001b[34m██        \u001b[0m| 2/10 [00:02<00:09,  1.25s/it]\n"
     ]
    },
    {
     "name": "stdout",
     "output_type": "stream",
     "text": [
      "\u001b[36m(DefaultActor pid=52436)\u001b[0m \tTrain Epoch: 3 \tTrain_loss_mri: 0.0265 | Train_acc_mri: 98.4375 | Train_loss_dna: 0.0262 | Train_acc_dna: 99.6875 | Validation_loss_mri: 1.1126 | Validation_acc_mri: 73.9583 | Validation_loss_dna: 1.7675 | Validation_acc_dna: 49.4792\n"
     ]
    },
    {
     "name": "stderr",
     "output_type": "stream",
     "text": [
      " 30%|\u001b[34m███       \u001b[0m| 3/10 [00:03<00:08,  1.25s/it]\n"
     ]
    },
    {
     "name": "stdout",
     "output_type": "stream",
     "text": [
      "\u001b[36m(DefaultActor pid=52436)\u001b[0m \tTrain Epoch: 4 \tTrain_loss_mri: 0.0085 | Train_acc_mri: 100.0000 | Train_loss_dna: 0.0116 | Train_acc_dna: 99.6875 | Validation_loss_mri: 0.7228 | Validation_acc_mri: 75.5208 | Validation_loss_dna: 1.6094 | Validation_acc_dna: 57.2917\n"
     ]
    },
    {
     "name": "stderr",
     "output_type": "stream",
     "text": [
      " 40%|\u001b[34m████      \u001b[0m| 4/10 [00:05<00:07,  1.26s/it]\n"
     ]
    },
    {
     "name": "stdout",
     "output_type": "stream",
     "text": [
      "\u001b[36m(DefaultActor pid=52436)\u001b[0m \tTrain Epoch: 5 \tTrain_loss_mri: 0.0020 | Train_acc_mri: 100.0000 | Train_loss_dna: 0.0161 | Train_acc_dna: 99.6296 | Validation_loss_mri: 1.0861 | Validation_acc_mri: 75.5208 | Validation_loss_dna: 2.1753 | Validation_acc_dna: 55.7292\n"
     ]
    },
    {
     "name": "stderr",
     "output_type": "stream",
     "text": [
      " 50%|\u001b[34m█████     \u001b[0m| 5/10 [00:06<00:06,  1.26s/it]\n"
     ]
    },
    {
     "name": "stdout",
     "output_type": "stream",
     "text": [
      "\u001b[36m(DefaultActor pid=52436)\u001b[0m \tTrain Epoch: 6 \tTrain_loss_mri: 0.0051 | Train_acc_mri: 99.6875 | Train_loss_dna: 0.0074 | Train_acc_dna: 99.6875 | Validation_loss_mri: 1.1823 | Validation_acc_mri: 75.5208 | Validation_loss_dna: 2.2768 | Validation_acc_dna: 58.8542\n"
     ]
    },
    {
     "name": "stderr",
     "output_type": "stream",
     "text": [
      " 60%|\u001b[34m██████    \u001b[0m| 6/10 [00:07<00:05,  1.26s/it]\n"
     ]
    },
    {
     "name": "stdout",
     "output_type": "stream",
     "text": [
      "\u001b[36m(DefaultActor pid=52436)\u001b[0m \tTrain Epoch: 7 \tTrain_loss_mri: 0.0038 | Train_acc_mri: 100.0000 | Train_loss_dna: 0.0068 | Train_acc_dna: 100.0000 | Validation_loss_mri: 1.7713 | Validation_acc_mri: 70.8333 | Validation_loss_dna: 3.3509 | Validation_acc_dna: 49.4792\n"
     ]
    },
    {
     "name": "stderr",
     "output_type": "stream",
     "text": [
      " 70%|\u001b[34m███████   \u001b[0m| 7/10 [00:08<00:03,  1.25s/it]\n"
     ]
    },
    {
     "name": "stdout",
     "output_type": "stream",
     "text": [
      "\u001b[36m(DefaultActor pid=52436)\u001b[0m \tTrain Epoch: 8 \tTrain_loss_mri: 0.0005 | Train_acc_mri: 100.0000 | Train_loss_dna: 0.0031 | Train_acc_dna: 100.0000 | Validation_loss_mri: 1.4794 | Validation_acc_mri: 73.9583 | Validation_loss_dna: 1.9455 | Validation_acc_dna: 52.6042\n"
     ]
    },
    {
     "name": "stderr",
     "output_type": "stream",
     "text": [
      " 80%|\u001b[34m████████  \u001b[0m| 8/10 [00:10<00:02,  1.25s/it]\n"
     ]
    },
    {
     "name": "stdout",
     "output_type": "stream",
     "text": [
      "\u001b[36m(DefaultActor pid=52436)\u001b[0m \tTrain Epoch: 9 \tTrain_loss_mri: 0.0005 | Train_acc_mri: 100.0000 | Train_loss_dna: 0.0010 | Train_acc_dna: 100.0000 | Validation_loss_mri: 1.4042 | Validation_acc_mri: 77.0833 | Validation_loss_dna: 1.2252 | Validation_acc_dna: 57.2917\n"
     ]
    },
    {
     "name": "stderr",
     "output_type": "stream",
     "text": [
      " 90%|\u001b[34m█████████ \u001b[0m| 9/10 [00:11<00:01,  1.25s/it]\n"
     ]
    },
    {
     "name": "stdout",
     "output_type": "stream",
     "text": [
      "\u001b[36m(DefaultActor pid=52436)\u001b[0m \tTrain Epoch: 10 \tTrain_loss_mri: 0.0004 | Train_acc_mri: 100.0000 | Train_loss_dna: 0.0008 | Train_acc_dna: 100.0000 | Validation_loss_mri: 1.4300 | Validation_acc_mri: 75.5208 | Validation_loss_dna: 1.3973 | Validation_acc_dna: 55.7292\n",
      "\u001b[36m(DefaultActor pid=52436)\u001b[0m save graph in  results/FL_DNA+MRI/\n"
     ]
    },
    {
     "name": "stderr",
     "output_type": "stream",
     "text": [
      "100%|\u001b[34m██████████\u001b[0m| 10/10 [00:12<00:00,  1.25s/it]\n"
     ]
    },
    {
     "name": "stdout",
     "output_type": "stream",
     "text": [
      "\u001b[36m(DefaultActor pid=52436)\u001b[0m  To get the checkpoint\n",
      "\u001b[36m(DefaultActor pid=52436)\u001b[0m [Client 2, round 6] fit, config: {'learning_rate': 0.003, 'batch_size': '32', 'server_round': 6, 'local_epochs': 10}\n",
      "\u001b[36m(DefaultActor pid=52436)\u001b[0m Updated model\n"
     ]
    },
    {
     "name": "stderr",
     "output_type": "stream",
     "text": [
      "\u001b[36m(DefaultActor pid=52436)\u001b[0m /tmp/ipykernel_51903/752934157.py:10: FutureWarning: You are using `torch.load` with `weights_only=False` (the current default value), which uses the default pickle module implicitly. It is possible to construct malicious pickle data which will execute arbitrary code during unpickling (See https://github.com/pytorch/pytorch/blob/main/SECURITY.md#untrusted-models for more details). In a future release, the default value for `weights_only` will be flipped to `True`. This limits the functions that could be executed during unpickling. Arbitrary objects will no longer be allowed to be loaded via this mode unless they are explicitly allowlisted by the user via `torch.serialization.add_safe_globals`. We recommend you start setting `weights_only=True` for any use case where you don't have full control of the loaded file. Please open an issue on GitHub for any issues related to this experimental feature.\n",
      "  0%|\u001b[34m          \u001b[0m| 0/10 [00:00<?, ?it/s]\n"
     ]
    },
    {
     "name": "stdout",
     "output_type": "stream",
     "text": [
      "\u001b[36m(DefaultActor pid=52436)\u001b[0m \tTrain Epoch: 1 \tTrain_loss_mri: 0.2476 | Train_acc_mri: 90.4514 | Train_loss_dna: 0.1094 | Train_acc_dna: 96.7593 | Validation_loss_mri: 1.5084 | Validation_acc_mri: 55.7292 | Validation_loss_dna: 0.7274 | Validation_acc_dna: 85.9375\n"
     ]
    },
    {
     "name": "stderr",
     "output_type": "stream",
     "text": [
      " 10%|\u001b[34m█         \u001b[0m| 1/10 [00:01<00:12,  1.37s/it]\n"
     ]
    },
    {
     "name": "stdout",
     "output_type": "stream",
     "text": [
      "\u001b[36m(DefaultActor pid=52436)\u001b[0m \tTrain Epoch: 2 \tTrain_loss_mri: 0.1529 | Train_acc_mri: 93.3218 | Train_loss_dna: 0.1178 | Train_acc_dna: 97.0718 | Validation_loss_mri: 1.5843 | Validation_acc_mri: 73.9583 | Validation_loss_dna: 0.4110 | Validation_acc_dna: 89.0625\n"
     ]
    },
    {
     "name": "stderr",
     "output_type": "stream",
     "text": [
      " 20%|\u001b[34m██        \u001b[0m| 2/10 [00:02<00:10,  1.33s/it]\n"
     ]
    },
    {
     "name": "stdout",
     "output_type": "stream",
     "text": [
      "\u001b[36m(DefaultActor pid=52436)\u001b[0m \tTrain Epoch: 3 \tTrain_loss_mri: 0.0181 | Train_acc_mri: 99.6875 | Train_loss_dna: 0.0444 | Train_acc_dna: 98.7500 | Validation_loss_mri: 1.4086 | Validation_acc_mri: 57.2917 | Validation_loss_dna: 0.6666 | Validation_acc_dna: 85.9375\n"
     ]
    },
    {
     "name": "stderr",
     "output_type": "stream",
     "text": [
      " 30%|\u001b[34m███       \u001b[0m| 3/10 [00:03<00:09,  1.33s/it]\n"
     ]
    },
    {
     "name": "stdout",
     "output_type": "stream",
     "text": [
      "\u001b[36m(DefaultActor pid=52436)\u001b[0m \tTrain Epoch: 4 \tTrain_loss_mri: 0.0242 | Train_acc_mri: 99.6875 | Train_loss_dna: 0.0185 | Train_acc_dna: 100.0000 | Validation_loss_mri: 1.4973 | Validation_acc_mri: 55.7292 | Validation_loss_dna: 0.7872 | Validation_acc_dna: 67.7083\n"
     ]
    },
    {
     "name": "stderr",
     "output_type": "stream",
     "text": [
      " 40%|\u001b[34m████      \u001b[0m| 4/10 [00:05<00:07,  1.31s/it]\n"
     ]
    },
    {
     "name": "stdout",
     "output_type": "stream",
     "text": [
      "\u001b[36m(DefaultActor pid=52436)\u001b[0m \tTrain Epoch: 5 \tTrain_loss_mri: 0.0025 | Train_acc_mri: 100.0000 | Train_loss_dna: 0.0046 | Train_acc_dna: 100.0000 | Validation_loss_mri: 1.6047 | Validation_acc_mri: 55.7292 | Validation_loss_dna: 0.7538 | Validation_acc_dna: 85.9375\n"
     ]
    },
    {
     "name": "stderr",
     "output_type": "stream",
     "text": [
      " 50%|\u001b[34m█████     \u001b[0m| 5/10 [00:06<00:06,  1.30s/it]\n"
     ]
    },
    {
     "name": "stdout",
     "output_type": "stream",
     "text": [
      "\u001b[36m(DefaultActor pid=52436)\u001b[0m \tTrain Epoch: 6 \tTrain_loss_mri: 0.0016 | Train_acc_mri: 100.0000 | Train_loss_dna: 0.0028 | Train_acc_dna: 100.0000 | Validation_loss_mri: 1.7315 | Validation_acc_mri: 57.2917 | Validation_loss_dna: 0.7330 | Validation_acc_dna: 85.9375\n"
     ]
    },
    {
     "name": "stderr",
     "output_type": "stream",
     "text": [
      " 60%|\u001b[34m██████    \u001b[0m| 6/10 [00:07<00:05,  1.28s/it]\n"
     ]
    },
    {
     "name": "stdout",
     "output_type": "stream",
     "text": [
      "\u001b[36m(DefaultActor pid=52436)\u001b[0m \tTrain Epoch: 7 \tTrain_loss_mri: 0.0006 | Train_acc_mri: 100.0000 | Train_loss_dna: 0.0013 | Train_acc_dna: 100.0000 | Validation_loss_mri: 1.8081 | Validation_acc_mri: 55.7292 | Validation_loss_dna: 0.7368 | Validation_acc_dna: 87.5000\n"
     ]
    },
    {
     "name": "stderr",
     "output_type": "stream",
     "text": [
      " 70%|\u001b[34m███████   \u001b[0m| 7/10 [00:09<00:03,  1.28s/it]\n"
     ]
    },
    {
     "name": "stdout",
     "output_type": "stream",
     "text": [
      "\u001b[36m(DefaultActor pid=52436)\u001b[0m \tTrain Epoch: 8 \tTrain_loss_mri: 0.0004 | Train_acc_mri: 100.0000 | Train_loss_dna: 0.0009 | Train_acc_dna: 100.0000 | Validation_loss_mri: 1.8554 | Validation_acc_mri: 55.7292 | Validation_loss_dna: 0.7530 | Validation_acc_dna: 87.5000\n"
     ]
    },
    {
     "name": "stderr",
     "output_type": "stream",
     "text": [
      " 80%|\u001b[34m████████  \u001b[0m| 8/10 [00:10<00:02,  1.27s/it]\n"
     ]
    },
    {
     "name": "stdout",
     "output_type": "stream",
     "text": [
      "\u001b[36m(DefaultActor pid=52436)\u001b[0m \tTrain Epoch: 9 \tTrain_loss_mri: 0.0003 | Train_acc_mri: 100.0000 | Train_loss_dna: 0.0007 | Train_acc_dna: 100.0000 | Validation_loss_mri: 1.9010 | Validation_acc_mri: 55.7292 | Validation_loss_dna: 0.7810 | Validation_acc_dna: 87.5000\n"
     ]
    },
    {
     "name": "stderr",
     "output_type": "stream",
     "text": [
      " 90%|\u001b[34m█████████ \u001b[0m| 9/10 [00:11<00:01,  1.27s/it]\n"
     ]
    },
    {
     "name": "stdout",
     "output_type": "stream",
     "text": [
      "\u001b[36m(DefaultActor pid=52436)\u001b[0m \tTrain Epoch: 10 \tTrain_loss_mri: 0.0002 | Train_acc_mri: 100.0000 | Train_loss_dna: 0.0005 | Train_acc_dna: 100.0000 | Validation_loss_mri: 1.9332 | Validation_acc_mri: 55.7292 | Validation_loss_dna: 0.8033 | Validation_acc_dna: 87.5000\n",
      "\u001b[36m(DefaultActor pid=52436)\u001b[0m save graph in  results/FL_DNA+MRI/\n"
     ]
    },
    {
     "name": "stderr",
     "output_type": "stream",
     "text": [
      "100%|\u001b[34m██████████\u001b[0m| 10/10 [00:12<00:00,  1.29s/it]\n"
     ]
    },
    {
     "name": "stdout",
     "output_type": "stream",
     "text": [
      "\u001b[36m(DefaultActor pid=52436)\u001b[0m  To get the checkpoint\n",
      "\u001b[36m(DefaultActor pid=52436)\u001b[0m [Client 7, round 6] fit, config: {'learning_rate': 0.003, 'batch_size': '32', 'server_round': 6, 'local_epochs': 10}\n",
      "\u001b[36m(DefaultActor pid=52436)\u001b[0m Updated model\n"
     ]
    },
    {
     "name": "stderr",
     "output_type": "stream",
     "text": [
      "\u001b[36m(DefaultActor pid=52436)\u001b[0m /tmp/ipykernel_51903/752934157.py:10: FutureWarning: You are using `torch.load` with `weights_only=False` (the current default value), which uses the default pickle module implicitly. It is possible to construct malicious pickle data which will execute arbitrary code during unpickling (See https://github.com/pytorch/pytorch/blob/main/SECURITY.md#untrusted-models for more details). In a future release, the default value for `weights_only` will be flipped to `True`. This limits the functions that could be executed during unpickling. Arbitrary objects will no longer be allowed to be loaded via this mode unless they are explicitly allowlisted by the user via `torch.serialization.add_safe_globals`. We recommend you start setting `weights_only=True` for any use case where you don't have full control of the loaded file. Please open an issue on GitHub for any issues related to this experimental feature.\n",
      "  0%|\u001b[34m          \u001b[0m| 0/10 [00:00<?, ?it/s]\n"
     ]
    },
    {
     "name": "stdout",
     "output_type": "stream",
     "text": [
      "\u001b[36m(DefaultActor pid=52436)\u001b[0m \tTrain Epoch: 1 \tTrain_loss_mri: 0.1202 | Train_acc_mri: 96.1921 | Train_loss_dna: 0.1392 | Train_acc_dna: 97.1296 | Validation_loss_mri: 0.2377 | Validation_acc_mri: 95.3125 | Validation_loss_dna: 0.4692 | Validation_acc_dna: 90.6250\n"
     ]
    },
    {
     "name": "stderr",
     "output_type": "stream",
     "text": [
      " 10%|\u001b[34m█         \u001b[0m| 1/10 [00:01<00:11,  1.23s/it]\n"
     ]
    },
    {
     "name": "stdout",
     "output_type": "stream",
     "text": [
      "\u001b[36m(DefaultActor pid=52436)\u001b[0m \tTrain Epoch: 2 \tTrain_loss_mri: 0.0456 | Train_acc_mri: 98.0093 | Train_loss_dna: 0.1146 | Train_acc_dna: 95.8218 | Validation_loss_mri: 0.4750 | Validation_acc_mri: 87.5000 | Validation_loss_dna: 0.6519 | Validation_acc_dna: 75.5208\n"
     ]
    },
    {
     "name": "stderr",
     "output_type": "stream",
     "text": [
      " 20%|\u001b[34m██        \u001b[0m| 2/10 [00:02<00:09,  1.22s/it]\n"
     ]
    },
    {
     "name": "stdout",
     "output_type": "stream",
     "text": [
      "\u001b[36m(DefaultActor pid=52436)\u001b[0m \tTrain Epoch: 3 \tTrain_loss_mri: 0.0137 | Train_acc_mri: 99.6296 | Train_loss_dna: 0.0346 | Train_acc_dna: 99.3750 | Validation_loss_mri: 0.3241 | Validation_acc_mri: 93.7500 | Validation_loss_dna: 0.4233 | Validation_acc_dna: 73.9583\n"
     ]
    },
    {
     "name": "stderr",
     "output_type": "stream",
     "text": [
      " 30%|\u001b[34m███       \u001b[0m| 3/10 [00:03<00:08,  1.24s/it]\n"
     ]
    },
    {
     "name": "stdout",
     "output_type": "stream",
     "text": [
      "\u001b[36m(DefaultActor pid=52436)\u001b[0m \tTrain Epoch: 4 \tTrain_loss_mri: 0.0048 | Train_acc_mri: 100.0000 | Train_loss_dna: 0.0220 | Train_acc_dna: 99.3750 | Validation_loss_mri: 0.2338 | Validation_acc_mri: 90.6250 | Validation_loss_dna: 0.3894 | Validation_acc_dna: 92.1875\n"
     ]
    },
    {
     "name": "stderr",
     "output_type": "stream",
     "text": [
      " 40%|\u001b[34m████      \u001b[0m| 4/10 [00:04<00:07,  1.25s/it]\n"
     ]
    },
    {
     "name": "stdout",
     "output_type": "stream",
     "text": [
      "\u001b[36m(DefaultActor pid=52436)\u001b[0m \tTrain Epoch: 5 \tTrain_loss_mri: 0.0141 | Train_acc_mri: 100.0000 | Train_loss_dna: 0.0185 | Train_acc_dna: 99.3750 | Validation_loss_mri: 0.2786 | Validation_acc_mri: 92.1875 | Validation_loss_dna: 0.7990 | Validation_acc_dna: 57.2917\n"
     ]
    },
    {
     "name": "stderr",
     "output_type": "stream",
     "text": [
      " 50%|\u001b[34m█████     \u001b[0m| 5/10 [00:06<00:06,  1.28s/it]\n"
     ]
    },
    {
     "name": "stdout",
     "output_type": "stream",
     "text": [
      "\u001b[36m(DefaultActor pid=52436)\u001b[0m \tTrain Epoch: 6 \tTrain_loss_mri: 0.0056 | Train_acc_mri: 100.0000 | Train_loss_dna: 0.0128 | Train_acc_dna: 99.6875 | Validation_loss_mri: 0.2744 | Validation_acc_mri: 95.3125 | Validation_loss_dna: 0.6078 | Validation_acc_dna: 73.9583\n"
     ]
    },
    {
     "name": "stderr",
     "output_type": "stream",
     "text": [
      " 60%|\u001b[34m██████    \u001b[0m| 6/10 [00:07<00:05,  1.29s/it]\n"
     ]
    },
    {
     "name": "stdout",
     "output_type": "stream",
     "text": [
      "\u001b[36m(DefaultActor pid=52436)\u001b[0m \tTrain Epoch: 7 \tTrain_loss_mri: 0.0017 | Train_acc_mri: 100.0000 | Train_loss_dna: 0.0088 | Train_acc_dna: 99.6875 | Validation_loss_mri: 0.2867 | Validation_acc_mri: 95.3125 | Validation_loss_dna: 0.5252 | Validation_acc_dna: 75.5208\n"
     ]
    },
    {
     "name": "stderr",
     "output_type": "stream",
     "text": [
      " 70%|\u001b[34m███████   \u001b[0m| 7/10 [00:08<00:03,  1.29s/it]\n"
     ]
    },
    {
     "name": "stdout",
     "output_type": "stream",
     "text": [
      "\u001b[36m(DefaultActor pid=52436)\u001b[0m \tTrain Epoch: 8 \tTrain_loss_mri: 0.0004 | Train_acc_mri: 100.0000 | Train_loss_dna: 0.0022 | Train_acc_dna: 100.0000 | Validation_loss_mri: 0.3301 | Validation_acc_mri: 95.3125 | Validation_loss_dna: 0.4947 | Validation_acc_dna: 75.5208\n"
     ]
    },
    {
     "name": "stderr",
     "output_type": "stream",
     "text": [
      " 80%|\u001b[34m████████  \u001b[0m| 8/10 [00:10<00:02,  1.30s/it]\n"
     ]
    },
    {
     "name": "stdout",
     "output_type": "stream",
     "text": [
      "\u001b[36m(DefaultActor pid=52436)\u001b[0m \tTrain Epoch: 9 \tTrain_loss_mri: 0.0003 | Train_acc_mri: 100.0000 | Train_loss_dna: 0.0010 | Train_acc_dna: 100.0000 | Validation_loss_mri: 0.3283 | Validation_acc_mri: 95.3125 | Validation_loss_dna: 0.4942 | Validation_acc_dna: 75.5208\n"
     ]
    },
    {
     "name": "stderr",
     "output_type": "stream",
     "text": [
      " 90%|\u001b[34m█████████ \u001b[0m| 9/10 [00:11<00:01,  1.32s/it]\n"
     ]
    },
    {
     "name": "stdout",
     "output_type": "stream",
     "text": [
      "\u001b[36m(DefaultActor pid=52436)\u001b[0m \tTrain Epoch: 10 \tTrain_loss_mri: 0.0002 | Train_acc_mri: 100.0000 | Train_loss_dna: 0.0006 | Train_acc_dna: 100.0000 | Validation_loss_mri: 0.3204 | Validation_acc_mri: 95.3125 | Validation_loss_dna: 0.5078 | Validation_acc_dna: 75.5208\n",
      "\u001b[36m(DefaultActor pid=52436)\u001b[0m save graph in  results/FL_DNA+MRI/\n"
     ]
    },
    {
     "name": "stderr",
     "output_type": "stream",
     "text": [
      "100%|\u001b[34m██████████\u001b[0m| 10/10 [00:12<00:00,  1.29s/it]\n"
     ]
    },
    {
     "name": "stdout",
     "output_type": "stream",
     "text": [
      "\u001b[36m(DefaultActor pid=52436)\u001b[0m  To get the checkpoint\n",
      "\u001b[36m(DefaultActor pid=52436)\u001b[0m [Client 3, round 6] fit, config: {'learning_rate': 0.003, 'batch_size': '32', 'server_round': 6, 'local_epochs': 10}\n"
     ]
    },
    {
     "name": "stderr",
     "output_type": "stream",
     "text": [
      "\u001b[36m(DefaultActor pid=52436)\u001b[0m /tmp/ipykernel_51903/752934157.py:10: FutureWarning: You are using `torch.load` with `weights_only=False` (the current default value), which uses the default pickle module implicitly. It is possible to construct malicious pickle data which will execute arbitrary code during unpickling (See https://github.com/pytorch/pytorch/blob/main/SECURITY.md#untrusted-models for more details). In a future release, the default value for `weights_only` will be flipped to `True`. This limits the functions that could be executed during unpickling. Arbitrary objects will no longer be allowed to be loaded via this mode unless they are explicitly allowlisted by the user via `torch.serialization.add_safe_globals`. We recommend you start setting `weights_only=True` for any use case where you don't have full control of the loaded file. Please open an issue on GitHub for any issues related to this experimental feature.\n"
     ]
    },
    {
     "name": "stdout",
     "output_type": "stream",
     "text": [
      "\u001b[36m(DefaultActor pid=52436)\u001b[0m Updated model\n"
     ]
    },
    {
     "name": "stderr",
     "output_type": "stream",
     "text": [
      "  0%|\u001b[34m          \u001b[0m| 0/10 [00:00<?, ?it/s]\n"
     ]
    },
    {
     "name": "stdout",
     "output_type": "stream",
     "text": [
      "\u001b[36m(DefaultActor pid=52436)\u001b[0m \tTrain Epoch: 1 \tTrain_loss_mri: 0.1832 | Train_acc_mri: 94.6296 | Train_loss_dna: 0.1182 | Train_acc_dna: 96.5046 | Validation_loss_mri: 0.8350 | Validation_acc_mri: 87.5000 | Validation_loss_dna: 0.6718 | Validation_acc_dna: 70.8333\n"
     ]
    },
    {
     "name": "stderr",
     "output_type": "stream",
     "text": [
      " 10%|\u001b[34m█         \u001b[0m| 1/10 [00:01<00:11,  1.26s/it]\n"
     ]
    },
    {
     "name": "stdout",
     "output_type": "stream",
     "text": [
      "\u001b[36m(DefaultActor pid=52436)\u001b[0m \tTrain Epoch: 2 \tTrain_loss_mri: 0.0675 | Train_acc_mri: 97.1875 | Train_loss_dna: 0.1062 | Train_acc_dna: 97.0718 | Validation_loss_mri: 0.6868 | Validation_acc_mri: 87.5000 | Validation_loss_dna: 0.5274 | Validation_acc_dna: 87.5000\n"
     ]
    },
    {
     "name": "stderr",
     "output_type": "stream",
     "text": [
      " 20%|\u001b[34m██        \u001b[0m| 2/10 [00:02<00:09,  1.23s/it]\n"
     ]
    },
    {
     "name": "stdout",
     "output_type": "stream",
     "text": [
      "\u001b[36m(DefaultActor pid=52436)\u001b[0m \tTrain Epoch: 3 \tTrain_loss_mri: 0.0220 | Train_acc_mri: 99.3750 | Train_loss_dna: 0.0875 | Train_acc_dna: 97.5000 | Validation_loss_mri: 0.5296 | Validation_acc_mri: 85.9375 | Validation_loss_dna: 0.7472 | Validation_acc_dna: 70.8333\n"
     ]
    },
    {
     "name": "stderr",
     "output_type": "stream",
     "text": [
      " 30%|\u001b[34m███       \u001b[0m| 3/10 [00:03<00:08,  1.24s/it]\n"
     ]
    },
    {
     "name": "stdout",
     "output_type": "stream",
     "text": [
      "\u001b[36m(DefaultActor pid=52436)\u001b[0m \tTrain Epoch: 4 \tTrain_loss_mri: 0.0130 | Train_acc_mri: 100.0000 | Train_loss_dna: 0.0368 | Train_acc_dna: 98.6921 | Validation_loss_mri: 0.3241 | Validation_acc_mri: 87.5000 | Validation_loss_dna: 1.3590 | Validation_acc_dna: 67.7083\n"
     ]
    },
    {
     "name": "stderr",
     "output_type": "stream",
     "text": [
      " 40%|\u001b[34m████      \u001b[0m| 4/10 [00:04<00:07,  1.24s/it]\n"
     ]
    },
    {
     "name": "stdout",
     "output_type": "stream",
     "text": [
      "\u001b[36m(DefaultActor pid=52436)\u001b[0m \tTrain Epoch: 5 \tTrain_loss_mri: 0.0134 | Train_acc_mri: 99.6875 | Train_loss_dna: 0.0311 | Train_acc_dna: 99.6296 | Validation_loss_mri: 0.4431 | Validation_acc_mri: 89.0625 | Validation_loss_dna: 0.6249 | Validation_acc_dna: 72.3958\n"
     ]
    },
    {
     "name": "stderr",
     "output_type": "stream",
     "text": [
      " 50%|\u001b[34m█████     \u001b[0m| 5/10 [00:06<00:06,  1.23s/it]\n"
     ]
    },
    {
     "name": "stdout",
     "output_type": "stream",
     "text": [
      "\u001b[36m(DefaultActor pid=52436)\u001b[0m \tTrain Epoch: 6 \tTrain_loss_mri: 0.0105 | Train_acc_mri: 100.0000 | Train_loss_dna: 0.0088 | Train_acc_dna: 100.0000 | Validation_loss_mri: 0.5997 | Validation_acc_mri: 89.0625 | Validation_loss_dna: 0.7249 | Validation_acc_dna: 70.8333\n"
     ]
    },
    {
     "name": "stderr",
     "output_type": "stream",
     "text": [
      " 60%|\u001b[34m██████    \u001b[0m| 6/10 [00:07<00:04,  1.23s/it]\n"
     ]
    },
    {
     "name": "stdout",
     "output_type": "stream",
     "text": [
      "\u001b[36m(DefaultActor pid=52436)\u001b[0m \tTrain Epoch: 7 \tTrain_loss_mri: 0.0010 | Train_acc_mri: 100.0000 | Train_loss_dna: 0.0062 | Train_acc_dna: 99.6875 | Validation_loss_mri: 0.5207 | Validation_acc_mri: 89.0625 | Validation_loss_dna: 0.6803 | Validation_acc_dna: 73.9583\n"
     ]
    },
    {
     "name": "stderr",
     "output_type": "stream",
     "text": [
      " 70%|\u001b[34m███████   \u001b[0m| 7/10 [00:08<00:03,  1.24s/it]\n"
     ]
    },
    {
     "name": "stdout",
     "output_type": "stream",
     "text": [
      "\u001b[36m(DefaultActor pid=52436)\u001b[0m \tTrain Epoch: 8 \tTrain_loss_mri: 0.0012 | Train_acc_mri: 100.0000 | Train_loss_dna: 0.0020 | Train_acc_dna: 100.0000 | Validation_loss_mri: 0.6539 | Validation_acc_mri: 89.0625 | Validation_loss_dna: 0.7673 | Validation_acc_dna: 72.3958\n"
     ]
    },
    {
     "name": "stderr",
     "output_type": "stream",
     "text": [
      " 80%|\u001b[34m████████  \u001b[0m| 8/10 [00:10<00:02,  1.27s/it]\n"
     ]
    },
    {
     "name": "stdout",
     "output_type": "stream",
     "text": [
      "\u001b[36m(DefaultActor pid=52436)\u001b[0m \tTrain Epoch: 9 \tTrain_loss_mri: 0.0004 | Train_acc_mri: 100.0000 | Train_loss_dna: 0.0011 | Train_acc_dna: 100.0000 | Validation_loss_mri: 0.5852 | Validation_acc_mri: 90.6250 | Validation_loss_dna: 0.7264 | Validation_acc_dna: 73.9583\n"
     ]
    },
    {
     "name": "stderr",
     "output_type": "stream",
     "text": [
      " 90%|\u001b[34m█████████ \u001b[0m| 9/10 [00:11<00:01,  1.32s/it]\n"
     ]
    },
    {
     "name": "stdout",
     "output_type": "stream",
     "text": [
      "\u001b[36m(DefaultActor pid=52436)\u001b[0m \tTrain Epoch: 10 \tTrain_loss_mri: 0.0003 | Train_acc_mri: 100.0000 | Train_loss_dna: 0.0005 | Train_acc_dna: 100.0000 | Validation_loss_mri: 0.5726 | Validation_acc_mri: 90.6250 | Validation_loss_dna: 0.6908 | Validation_acc_dna: 72.3958\n",
      "\u001b[36m(DefaultActor pid=52436)\u001b[0m save graph in  results/FL_DNA+MRI/\n"
     ]
    },
    {
     "name": "stderr",
     "output_type": "stream",
     "text": [
      "100%|\u001b[34m██████████\u001b[0m| 10/10 [00:12<00:00,  1.27s/it]\n"
     ]
    },
    {
     "name": "stdout",
     "output_type": "stream",
     "text": [
      "\u001b[36m(DefaultActor pid=52436)\u001b[0m  To get the checkpoint\n",
      "\u001b[36m(DefaultActor pid=52436)\u001b[0m [Client 6, round 6] fit, config: {'learning_rate': 0.003, 'batch_size': '32', 'server_round': 6, 'local_epochs': 10}\n"
     ]
    },
    {
     "name": "stderr",
     "output_type": "stream",
     "text": [
      "\u001b[36m(DefaultActor pid=52436)\u001b[0m /tmp/ipykernel_51903/752934157.py:10: FutureWarning: You are using `torch.load` with `weights_only=False` (the current default value), which uses the default pickle module implicitly. It is possible to construct malicious pickle data which will execute arbitrary code during unpickling (See https://github.com/pytorch/pytorch/blob/main/SECURITY.md#untrusted-models for more details). In a future release, the default value for `weights_only` will be flipped to `True`. This limits the functions that could be executed during unpickling. Arbitrary objects will no longer be allowed to be loaded via this mode unless they are explicitly allowlisted by the user via `torch.serialization.add_safe_globals`. We recommend you start setting `weights_only=True` for any use case where you don't have full control of the loaded file. Please open an issue on GitHub for any issues related to this experimental feature.\n"
     ]
    },
    {
     "name": "stdout",
     "output_type": "stream",
     "text": [
      "\u001b[36m(DefaultActor pid=52436)\u001b[0m Updated model\n"
     ]
    },
    {
     "name": "stderr",
     "output_type": "stream",
     "text": [
      "  0%|\u001b[34m          \u001b[0m| 0/10 [00:00<?, ?it/s]\n"
     ]
    },
    {
     "name": "stdout",
     "output_type": "stream",
     "text": [
      "\u001b[36m(DefaultActor pid=52436)\u001b[0m \tTrain Epoch: 1 \tTrain_loss_mri: 0.3011 | Train_acc_mri: 89.6296 | Train_loss_dna: 0.1171 | Train_acc_dna: 96.2500 | Validation_loss_mri: 0.7203 | Validation_acc_mri: 72.3958 | Validation_loss_dna: 0.3532 | Validation_acc_dna: 87.5000\n"
     ]
    },
    {
     "name": "stderr",
     "output_type": "stream",
     "text": [
      " 10%|\u001b[34m█         \u001b[0m| 1/10 [00:01<00:11,  1.29s/it]\n"
     ]
    },
    {
     "name": "stdout",
     "output_type": "stream",
     "text": [
      "\u001b[36m(DefaultActor pid=52436)\u001b[0m \tTrain Epoch: 2 \tTrain_loss_mri: 0.1050 | Train_acc_mri: 96.7593 | Train_loss_dna: 0.1640 | Train_acc_dna: 94.5718 | Validation_loss_mri: 0.4943 | Validation_acc_mri: 87.5000 | Validation_loss_dna: 0.7858 | Validation_acc_dna: 66.1458\n"
     ]
    },
    {
     "name": "stderr",
     "output_type": "stream",
     "text": [
      " 20%|\u001b[34m██        \u001b[0m| 2/10 [00:02<00:10,  1.26s/it]\n"
     ]
    },
    {
     "name": "stdout",
     "output_type": "stream",
     "text": [
      "\u001b[36m(DefaultActor pid=52436)\u001b[0m \tTrain Epoch: 3 \tTrain_loss_mri: 0.0271 | Train_acc_mri: 99.0625 | Train_loss_dna: 0.0399 | Train_acc_dna: 99.0625 | Validation_loss_mri: 0.6231 | Validation_acc_mri: 73.9583 | Validation_loss_dna: 0.7249 | Validation_acc_dna: 67.7083\n"
     ]
    },
    {
     "name": "stderr",
     "output_type": "stream",
     "text": [
      " 30%|\u001b[34m███       \u001b[0m| 3/10 [00:03<00:09,  1.29s/it]\n"
     ]
    },
    {
     "name": "stdout",
     "output_type": "stream",
     "text": [
      "\u001b[36m(DefaultActor pid=52436)\u001b[0m \tTrain Epoch: 4 \tTrain_loss_mri: 0.0184 | Train_acc_mri: 99.3750 | Train_loss_dna: 0.0110 | Train_acc_dna: 100.0000 | Validation_loss_mri: 0.4708 | Validation_acc_mri: 89.0625 | Validation_loss_dna: 0.5904 | Validation_acc_dna: 82.8125\n"
     ]
    },
    {
     "name": "stderr",
     "output_type": "stream",
     "text": [
      " 40%|\u001b[34m████      \u001b[0m| 4/10 [00:05<00:07,  1.31s/it]\n"
     ]
    },
    {
     "name": "stdout",
     "output_type": "stream",
     "text": [
      "\u001b[36m(DefaultActor pid=52436)\u001b[0m \tTrain Epoch: 5 \tTrain_loss_mri: 0.0034 | Train_acc_mri: 100.0000 | Train_loss_dna: 0.0049 | Train_acc_dna: 100.0000 | Validation_loss_mri: 0.6220 | Validation_acc_mri: 89.0625 | Validation_loss_dna: 0.6117 | Validation_acc_dna: 85.9375\n"
     ]
    },
    {
     "name": "stderr",
     "output_type": "stream",
     "text": [
      " 50%|\u001b[34m█████     \u001b[0m| 5/10 [00:06<00:06,  1.31s/it]\n"
     ]
    },
    {
     "name": "stdout",
     "output_type": "stream",
     "text": [
      "\u001b[36m(DefaultActor pid=52436)\u001b[0m \tTrain Epoch: 6 \tTrain_loss_mri: 0.0013 | Train_acc_mri: 100.0000 | Train_loss_dna: 0.0023 | Train_acc_dna: 100.0000 | Validation_loss_mri: 0.6122 | Validation_acc_mri: 90.6250 | Validation_loss_dna: 0.6103 | Validation_acc_dna: 67.7083\n"
     ]
    },
    {
     "name": "stderr",
     "output_type": "stream",
     "text": [
      " 60%|\u001b[34m██████    \u001b[0m| 6/10 [00:07<00:05,  1.32s/it]\n"
     ]
    },
    {
     "name": "stdout",
     "output_type": "stream",
     "text": [
      "\u001b[36m(DefaultActor pid=52436)\u001b[0m \tTrain Epoch: 7 \tTrain_loss_mri: 0.0004 | Train_acc_mri: 100.0000 | Train_loss_dna: 0.0013 | Train_acc_dna: 100.0000 | Validation_loss_mri: 0.6212 | Validation_acc_mri: 92.1875 | Validation_loss_dna: 0.6263 | Validation_acc_dna: 67.7083\n"
     ]
    },
    {
     "name": "stderr",
     "output_type": "stream",
     "text": [
      " 70%|\u001b[34m███████   \u001b[0m| 7/10 [00:09<00:03,  1.32s/it]\n"
     ]
    },
    {
     "name": "stdout",
     "output_type": "stream",
     "text": [
      "\u001b[36m(DefaultActor pid=52436)\u001b[0m \tTrain Epoch: 8 \tTrain_loss_mri: 0.0002 | Train_acc_mri: 100.0000 | Train_loss_dna: 0.0008 | Train_acc_dna: 100.0000 | Validation_loss_mri: 0.6364 | Validation_acc_mri: 92.1875 | Validation_loss_dna: 0.6349 | Validation_acc_dna: 67.7083\n"
     ]
    },
    {
     "name": "stderr",
     "output_type": "stream",
     "text": [
      " 80%|\u001b[34m████████  \u001b[0m| 8/10 [00:10<00:02,  1.36s/it]\n"
     ]
    },
    {
     "name": "stdout",
     "output_type": "stream",
     "text": [
      "\u001b[36m(DefaultActor pid=52436)\u001b[0m \tTrain Epoch: 9 \tTrain_loss_mri: 0.0002 | Train_acc_mri: 100.0000 | Train_loss_dna: 0.0006 | Train_acc_dna: 100.0000 | Validation_loss_mri: 0.6439 | Validation_acc_mri: 90.6250 | Validation_loss_dna: 0.6399 | Validation_acc_dna: 67.7083\n"
     ]
    },
    {
     "name": "stderr",
     "output_type": "stream",
     "text": [
      " 90%|\u001b[34m█████████ \u001b[0m| 9/10 [00:13<00:01,  1.76s/it]\n"
     ]
    },
    {
     "name": "stdout",
     "output_type": "stream",
     "text": [
      "\u001b[36m(DefaultActor pid=52436)\u001b[0m \tTrain Epoch: 10 \tTrain_loss_mri: 0.0002 | Train_acc_mri: 100.0000 | Train_loss_dna: 0.0005 | Train_acc_dna: 100.0000 | Validation_loss_mri: 0.6512 | Validation_acc_mri: 90.6250 | Validation_loss_dna: 0.6495 | Validation_acc_dna: 67.7083\n",
      "\u001b[36m(DefaultActor pid=52436)\u001b[0m save graph in  results/FL_DNA+MRI/\n"
     ]
    },
    {
     "name": "stderr",
     "output_type": "stream",
     "text": [
      "100%|\u001b[34m██████████\u001b[0m| 10/10 [00:16<00:00,  1.60s/it]\n"
     ]
    },
    {
     "name": "stdout",
     "output_type": "stream",
     "text": [
      "\u001b[36m(DefaultActor pid=52436)\u001b[0m  To get the checkpoint\n",
      "\u001b[36m(DefaultActor pid=52436)\u001b[0m [Client 1, round 6] fit, config: {'learning_rate': 0.003, 'batch_size': '32', 'server_round': 6, 'local_epochs': 10}\n",
      "\u001b[36m(DefaultActor pid=52436)\u001b[0m Updated model\n"
     ]
    },
    {
     "name": "stderr",
     "output_type": "stream",
     "text": [
      "\u001b[36m(DefaultActor pid=52436)\u001b[0m /tmp/ipykernel_51903/752934157.py:10: FutureWarning: You are using `torch.load` with `weights_only=False` (the current default value), which uses the default pickle module implicitly. It is possible to construct malicious pickle data which will execute arbitrary code during unpickling (See https://github.com/pytorch/pytorch/blob/main/SECURITY.md#untrusted-models for more details). In a future release, the default value for `weights_only` will be flipped to `True`. This limits the functions that could be executed during unpickling. Arbitrary objects will no longer be allowed to be loaded via this mode unless they are explicitly allowlisted by the user via `torch.serialization.add_safe_globals`. We recommend you start setting `weights_only=True` for any use case where you don't have full control of the loaded file. Please open an issue on GitHub for any issues related to this experimental feature.\n",
      "  0%|\u001b[34m          \u001b[0m| 0/10 [00:00<?, ?it/s]\n"
     ]
    },
    {
     "name": "stdout",
     "output_type": "stream",
     "text": [
      "\u001b[36m(DefaultActor pid=52436)\u001b[0m \tTrain Epoch: 1 \tTrain_loss_mri: 0.1914 | Train_acc_mri: 93.0093 | Train_loss_dna: 0.1034 | Train_acc_dna: 98.0671 | Validation_loss_mri: 0.3442 | Validation_acc_mri: 92.1875 | Validation_loss_dna: 1.3036 | Validation_acc_dna: 54.1667\n"
     ]
    },
    {
     "name": "stderr",
     "output_type": "stream",
     "text": [
      " 10%|\u001b[34m█         \u001b[0m| 1/10 [00:01<00:12,  1.35s/it]\n"
     ]
    },
    {
     "name": "stdout",
     "output_type": "stream",
     "text": [
      "\u001b[36m(DefaultActor pid=52436)\u001b[0m \tTrain Epoch: 2 \tTrain_loss_mri: 0.1036 | Train_acc_mri: 96.5046 | Train_loss_dna: 0.1772 | Train_acc_dna: 94.0625 | Validation_loss_mri: 0.5486 | Validation_acc_mri: 75.5208 | Validation_loss_dna: 1.2197 | Validation_acc_dna: 51.0417\n"
     ]
    },
    {
     "name": "stderr",
     "output_type": "stream",
     "text": [
      " 20%|\u001b[34m██        \u001b[0m| 2/10 [00:02<00:10,  1.36s/it]\n"
     ]
    },
    {
     "name": "stdout",
     "output_type": "stream",
     "text": [
      "\u001b[36m(DefaultActor pid=52436)\u001b[0m \tTrain Epoch: 3 \tTrain_loss_mri: 0.0349 | Train_acc_mri: 99.0625 | Train_loss_dna: 0.0681 | Train_acc_dna: 98.7500 | Validation_loss_mri: 0.8800 | Validation_acc_mri: 75.5208 | Validation_loss_dna: 1.3031 | Validation_acc_dna: 69.2708\n"
     ]
    },
    {
     "name": "stderr",
     "output_type": "stream",
     "text": [
      " 30%|\u001b[34m███       \u001b[0m| 3/10 [00:04<00:09,  1.35s/it]\n"
     ]
    },
    {
     "name": "stdout",
     "output_type": "stream",
     "text": [
      "\u001b[36m(DefaultActor pid=52436)\u001b[0m \tTrain Epoch: 4 \tTrain_loss_mri: 0.0135 | Train_acc_mri: 99.6875 | Train_loss_dna: 0.0205 | Train_acc_dna: 100.0000 | Validation_loss_mri: 0.4679 | Validation_acc_mri: 93.7500 | Validation_loss_dna: 1.7005 | Validation_acc_dna: 54.1667\n"
     ]
    },
    {
     "name": "stderr",
     "output_type": "stream",
     "text": [
      " 40%|\u001b[34m████      \u001b[0m| 4/10 [00:05<00:08,  1.34s/it]\n"
     ]
    },
    {
     "name": "stdout",
     "output_type": "stream",
     "text": [
      "\u001b[36m(DefaultActor pid=52436)\u001b[0m \tTrain Epoch: 5 \tTrain_loss_mri: 0.0059 | Train_acc_mri: 100.0000 | Train_loss_dna: 0.0050 | Train_acc_dna: 100.0000 | Validation_loss_mri: 0.6563 | Validation_acc_mri: 77.0833 | Validation_loss_dna: 2.1561 | Validation_acc_dna: 51.0417\n"
     ]
    },
    {
     "name": "stderr",
     "output_type": "stream",
     "text": [
      " 50%|\u001b[34m█████     \u001b[0m| 5/10 [00:06<00:06,  1.33s/it]\n"
     ]
    },
    {
     "name": "stdout",
     "output_type": "stream",
     "text": [
      "\u001b[36m(DefaultActor pid=52436)\u001b[0m \tTrain Epoch: 6 \tTrain_loss_mri: 0.0013 | Train_acc_mri: 100.0000 | Train_loss_dna: 0.0027 | Train_acc_dna: 100.0000 | Validation_loss_mri: 1.1759 | Validation_acc_mri: 75.5208 | Validation_loss_dna: 2.5978 | Validation_acc_dna: 49.4792\n"
     ]
    },
    {
     "name": "stderr",
     "output_type": "stream",
     "text": [
      " 60%|\u001b[34m██████    \u001b[0m| 6/10 [00:07<00:05,  1.31s/it]\n"
     ]
    },
    {
     "name": "stdout",
     "output_type": "stream",
     "text": [
      "\u001b[36m(DefaultActor pid=52436)\u001b[0m \tTrain Epoch: 7 \tTrain_loss_mri: 0.0005 | Train_acc_mri: 100.0000 | Train_loss_dna: 0.0014 | Train_acc_dna: 100.0000 | Validation_loss_mri: 1.0950 | Validation_acc_mri: 75.5208 | Validation_loss_dna: 2.6960 | Validation_acc_dna: 51.0417\n"
     ]
    },
    {
     "name": "stderr",
     "output_type": "stream",
     "text": [
      " 70%|\u001b[34m███████   \u001b[0m| 7/10 [00:09<00:03,  1.30s/it]\n"
     ]
    },
    {
     "name": "stdout",
     "output_type": "stream",
     "text": [
      "\u001b[36m(DefaultActor pid=52436)\u001b[0m \tTrain Epoch: 8 \tTrain_loss_mri: 0.0003 | Train_acc_mri: 100.0000 | Train_loss_dna: 0.0010 | Train_acc_dna: 100.0000 | Validation_loss_mri: 1.0317 | Validation_acc_mri: 75.5208 | Validation_loss_dna: 2.7461 | Validation_acc_dna: 51.0417\n"
     ]
    },
    {
     "name": "stderr",
     "output_type": "stream",
     "text": [
      " 80%|\u001b[34m████████  \u001b[0m| 8/10 [00:10<00:02,  1.30s/it]\n"
     ]
    },
    {
     "name": "stdout",
     "output_type": "stream",
     "text": [
      "\u001b[36m(DefaultActor pid=52436)\u001b[0m \tTrain Epoch: 9 \tTrain_loss_mri: 0.0002 | Train_acc_mri: 100.0000 | Train_loss_dna: 0.0007 | Train_acc_dna: 100.0000 | Validation_loss_mri: 0.9903 | Validation_acc_mri: 75.5208 | Validation_loss_dna: 2.7682 | Validation_acc_dna: 49.4792\n"
     ]
    },
    {
     "name": "stderr",
     "output_type": "stream",
     "text": [
      " 90%|\u001b[34m█████████ \u001b[0m| 9/10 [00:11<00:01,  1.30s/it]\n"
     ]
    },
    {
     "name": "stdout",
     "output_type": "stream",
     "text": [
      "\u001b[36m(DefaultActor pid=52436)\u001b[0m \tTrain Epoch: 10 \tTrain_loss_mri: 0.0002 | Train_acc_mri: 100.0000 | Train_loss_dna: 0.0005 | Train_acc_dna: 100.0000 | Validation_loss_mri: 0.9834 | Validation_acc_mri: 77.0833 | Validation_loss_dna: 2.7667 | Validation_acc_dna: 49.4792\n",
      "\u001b[36m(DefaultActor pid=52436)\u001b[0m save graph in  results/FL_DNA+MRI/\n"
     ]
    },
    {
     "name": "stderr",
     "output_type": "stream",
     "text": [
      "100%|\u001b[34m██████████\u001b[0m| 10/10 [00:13<00:00,  1.32s/it]\n"
     ]
    },
    {
     "name": "stdout",
     "output_type": "stream",
     "text": [
      "\u001b[36m(DefaultActor pid=52436)\u001b[0m  To get the checkpoint\n",
      "\u001b[36m(DefaultActor pid=52436)\u001b[0m [Client 5, round 6] fit, config: {'learning_rate': 0.003, 'batch_size': '32', 'server_round': 6, 'local_epochs': 10}\n",
      "\u001b[36m(DefaultActor pid=52436)\u001b[0m Updated model\n"
     ]
    },
    {
     "name": "stderr",
     "output_type": "stream",
     "text": [
      "\u001b[36m(DefaultActor pid=52436)\u001b[0m /tmp/ipykernel_51903/752934157.py:10: FutureWarning: You are using `torch.load` with `weights_only=False` (the current default value), which uses the default pickle module implicitly. It is possible to construct malicious pickle data which will execute arbitrary code during unpickling (See https://github.com/pytorch/pytorch/blob/main/SECURITY.md#untrusted-models for more details). In a future release, the default value for `weights_only` will be flipped to `True`. This limits the functions that could be executed during unpickling. Arbitrary objects will no longer be allowed to be loaded via this mode unless they are explicitly allowlisted by the user via `torch.serialization.add_safe_globals`. We recommend you start setting `weights_only=True` for any use case where you don't have full control of the loaded file. Please open an issue on GitHub for any issues related to this experimental feature.\n",
      "  0%|\u001b[34m          \u001b[0m| 0/10 [00:00<?, ?it/s]\n"
     ]
    },
    {
     "name": "stdout",
     "output_type": "stream",
     "text": [
      "\u001b[36m(DefaultActor pid=52436)\u001b[0m \tTrain Epoch: 1 \tTrain_loss_mri: 0.1535 | Train_acc_mri: 93.6343 | Train_loss_dna: 0.1278 | Train_acc_dna: 96.5046 | Validation_loss_mri: 0.2212 | Validation_acc_mri: 90.6250 | Validation_loss_dna: 0.5517 | Validation_acc_dna: 70.8333\n"
     ]
    },
    {
     "name": "stderr",
     "output_type": "stream",
     "text": [
      " 10%|\u001b[34m█         \u001b[0m| 1/10 [00:01<00:12,  1.34s/it]\n"
     ]
    },
    {
     "name": "stdout",
     "output_type": "stream",
     "text": [
      "\u001b[36m(DefaultActor pid=52436)\u001b[0m \tTrain Epoch: 2 \tTrain_loss_mri: 0.0549 | Train_acc_mri: 97.0718 | Train_loss_dna: 0.1983 | Train_acc_dna: 93.4028 | Validation_loss_mri: 0.4137 | Validation_acc_mri: 85.9375 | Validation_loss_dna: 0.5353 | Validation_acc_dna: 84.3750\n"
     ]
    },
    {
     "name": "stderr",
     "output_type": "stream",
     "text": [
      " 20%|\u001b[34m██        \u001b[0m| 2/10 [00:02<00:10,  1.32s/it]\n"
     ]
    },
    {
     "name": "stdout",
     "output_type": "stream",
     "text": [
      "\u001b[36m(DefaultActor pid=52436)\u001b[0m \tTrain Epoch: 3 \tTrain_loss_mri: 0.0437 | Train_acc_mri: 99.0046 | Train_loss_dna: 0.0952 | Train_acc_dna: 96.8750 | Validation_loss_mri: 0.4729 | Validation_acc_mri: 90.6250 | Validation_loss_dna: 0.4457 | Validation_acc_dna: 82.8125\n"
     ]
    },
    {
     "name": "stderr",
     "output_type": "stream",
     "text": [
      " 30%|\u001b[34m███       \u001b[0m| 3/10 [00:03<00:09,  1.30s/it]\n"
     ]
    },
    {
     "name": "stdout",
     "output_type": "stream",
     "text": [
      "\u001b[36m(DefaultActor pid=52436)\u001b[0m \tTrain Epoch: 4 \tTrain_loss_mri: 0.0261 | Train_acc_mri: 99.6875 | Train_loss_dna: 0.0476 | Train_acc_dna: 98.7500 | Validation_loss_mri: 0.3349 | Validation_acc_mri: 80.2083 | Validation_loss_dna: 0.2802 | Validation_acc_dna: 90.6250\n"
     ]
    },
    {
     "name": "stderr",
     "output_type": "stream",
     "text": [
      " 40%|\u001b[34m████      \u001b[0m| 4/10 [00:05<00:07,  1.31s/it]\n"
     ]
    },
    {
     "name": "stdout",
     "output_type": "stream",
     "text": [
      "\u001b[36m(DefaultActor pid=52436)\u001b[0m \tTrain Epoch: 5 \tTrain_loss_mri: 0.0171 | Train_acc_mri: 99.6875 | Train_loss_dna: 0.0104 | Train_acc_dna: 99.6875 | Validation_loss_mri: 0.2189 | Validation_acc_mri: 95.3125 | Validation_loss_dna: 0.3755 | Validation_acc_dna: 90.6250\n"
     ]
    },
    {
     "name": "stderr",
     "output_type": "stream",
     "text": [
      " 50%|\u001b[34m█████     \u001b[0m| 5/10 [00:06<00:06,  1.30s/it]\n"
     ]
    },
    {
     "name": "stdout",
     "output_type": "stream",
     "text": [
      "\u001b[36m(DefaultActor pid=52436)\u001b[0m \tTrain Epoch: 6 \tTrain_loss_mri: 0.0041 | Train_acc_mri: 100.0000 | Train_loss_dna: 0.0066 | Train_acc_dna: 100.0000 | Validation_loss_mri: 0.2069 | Validation_acc_mri: 93.7500 | Validation_loss_dna: 0.4274 | Validation_acc_dna: 89.0625\n"
     ]
    },
    {
     "name": "stderr",
     "output_type": "stream",
     "text": [
      " 60%|\u001b[34m██████    \u001b[0m| 6/10 [00:07<00:05,  1.30s/it]\n"
     ]
    },
    {
     "name": "stdout",
     "output_type": "stream",
     "text": [
      "\u001b[36m(DefaultActor pid=52436)\u001b[0m \tTrain Epoch: 7 \tTrain_loss_mri: 0.0008 | Train_acc_mri: 100.0000 | Train_loss_dna: 0.0028 | Train_acc_dna: 100.0000 | Validation_loss_mri: 0.0872 | Validation_acc_mri: 96.8750 | Validation_loss_dna: 0.4277 | Validation_acc_dna: 89.0625\n"
     ]
    },
    {
     "name": "stderr",
     "output_type": "stream",
     "text": [
      " 70%|\u001b[34m███████   \u001b[0m| 7/10 [00:09<00:03,  1.30s/it]\n"
     ]
    },
    {
     "name": "stdout",
     "output_type": "stream",
     "text": [
      "\u001b[36m(DefaultActor pid=52436)\u001b[0m \tTrain Epoch: 8 \tTrain_loss_mri: 0.0005 | Train_acc_mri: 100.0000 | Train_loss_dna: 0.0014 | Train_acc_dna: 100.0000 | Validation_loss_mri: 0.0728 | Validation_acc_mri: 96.8750 | Validation_loss_dna: 0.4360 | Validation_acc_dna: 89.0625\n"
     ]
    },
    {
     "name": "stderr",
     "output_type": "stream",
     "text": [
      " 80%|\u001b[34m████████  \u001b[0m| 8/10 [00:10<00:02,  1.29s/it]\n"
     ]
    },
    {
     "name": "stdout",
     "output_type": "stream",
     "text": [
      "\u001b[36m(DefaultActor pid=52436)\u001b[0m \tTrain Epoch: 9 \tTrain_loss_mri: 0.0004 | Train_acc_mri: 100.0000 | Train_loss_dna: 0.0010 | Train_acc_dna: 100.0000 | Validation_loss_mri: 0.0815 | Validation_acc_mri: 96.8750 | Validation_loss_dna: 0.4613 | Validation_acc_dna: 87.5000\n"
     ]
    },
    {
     "name": "stderr",
     "output_type": "stream",
     "text": [
      " 90%|\u001b[34m█████████ \u001b[0m| 9/10 [00:11<00:01,  1.28s/it]\n"
     ]
    },
    {
     "name": "stdout",
     "output_type": "stream",
     "text": [
      "\u001b[36m(DefaultActor pid=52436)\u001b[0m \tTrain Epoch: 10 \tTrain_loss_mri: 0.0002 | Train_acc_mri: 100.0000 | Train_loss_dna: 0.0007 | Train_acc_dna: 100.0000 | Validation_loss_mri: 0.0877 | Validation_acc_mri: 96.8750 | Validation_loss_dna: 0.4842 | Validation_acc_dna: 87.5000\n",
      "\u001b[36m(DefaultActor pid=52436)\u001b[0m save graph in  results/FL_DNA+MRI/\n"
     ]
    },
    {
     "name": "stderr",
     "output_type": "stream",
     "text": [
      "100%|\u001b[34m██████████\u001b[0m| 10/10 [00:12<00:00,  1.29s/it]\n"
     ]
    },
    {
     "name": "stdout",
     "output_type": "stream",
     "text": [
      "\u001b[36m(DefaultActor pid=52436)\u001b[0m  To get the checkpoint\n",
      "\u001b[36m(DefaultActor pid=52436)\u001b[0m [Client 0, round 6] fit, config: {'learning_rate': 0.003, 'batch_size': '32', 'server_round': 6, 'local_epochs': 10}\n",
      "\u001b[36m(DefaultActor pid=52436)\u001b[0m Updated model\n"
     ]
    },
    {
     "name": "stderr",
     "output_type": "stream",
     "text": [
      "\u001b[36m(DefaultActor pid=52436)\u001b[0m /tmp/ipykernel_51903/752934157.py:10: FutureWarning: You are using `torch.load` with `weights_only=False` (the current default value), which uses the default pickle module implicitly. It is possible to construct malicious pickle data which will execute arbitrary code during unpickling (See https://github.com/pytorch/pytorch/blob/main/SECURITY.md#untrusted-models for more details). In a future release, the default value for `weights_only` will be flipped to `True`. This limits the functions that could be executed during unpickling. Arbitrary objects will no longer be allowed to be loaded via this mode unless they are explicitly allowlisted by the user via `torch.serialization.add_safe_globals`. We recommend you start setting `weights_only=True` for any use case where you don't have full control of the loaded file. Please open an issue on GitHub for any issues related to this experimental feature.\n",
      "  0%|\u001b[34m          \u001b[0m| 0/10 [00:00<?, ?it/s]\n"
     ]
    },
    {
     "name": "stdout",
     "output_type": "stream",
     "text": [
      "\u001b[36m(DefaultActor pid=52436)\u001b[0m \tTrain Epoch: 1 \tTrain_loss_mri: 0.1761 | Train_acc_mri: 93.0093 | Train_loss_dna: 0.2282 | Train_acc_dna: 93.3218 | Validation_loss_mri: 0.9197 | Validation_acc_mri: 72.3958 | Validation_loss_dna: 2.7165 | Validation_acc_dna: 55.7292\n"
     ]
    },
    {
     "name": "stderr",
     "output_type": "stream",
     "text": [
      " 10%|\u001b[34m█         \u001b[0m| 1/10 [00:01<00:11,  1.28s/it]\n"
     ]
    },
    {
     "name": "stdout",
     "output_type": "stream",
     "text": [
      "\u001b[36m(DefaultActor pid=52436)\u001b[0m \tTrain Epoch: 2 \tTrain_loss_mri: 0.0683 | Train_acc_mri: 98.1250 | Train_loss_dna: 0.1965 | Train_acc_dna: 94.3171 | Validation_loss_mri: 1.2429 | Validation_acc_mri: 67.7083 | Validation_loss_dna: 3.4141 | Validation_acc_dna: 39.0625\n"
     ]
    },
    {
     "name": "stderr",
     "output_type": "stream",
     "text": [
      " 20%|\u001b[34m██        \u001b[0m| 2/10 [00:02<00:10,  1.28s/it]\n"
     ]
    },
    {
     "name": "stdout",
     "output_type": "stream",
     "text": [
      "\u001b[36m(DefaultActor pid=52436)\u001b[0m \tTrain Epoch: 3 \tTrain_loss_mri: 0.0318 | Train_acc_mri: 99.0625 | Train_loss_dna: 0.0737 | Train_acc_dna: 97.8125 | Validation_loss_mri: 1.5156 | Validation_acc_mri: 67.7083 | Validation_loss_dna: 2.7884 | Validation_acc_dna: 72.3958\n"
     ]
    },
    {
     "name": "stderr",
     "output_type": "stream",
     "text": [
      " 30%|\u001b[34m███       \u001b[0m| 3/10 [00:03<00:08,  1.28s/it]\n"
     ]
    },
    {
     "name": "stdout",
     "output_type": "stream",
     "text": [
      "\u001b[36m(DefaultActor pid=52436)\u001b[0m \tTrain Epoch: 4 \tTrain_loss_mri: 0.0124 | Train_acc_mri: 99.6875 | Train_loss_dna: 0.0392 | Train_acc_dna: 98.7500 | Validation_loss_mri: 2.2205 | Validation_acc_mri: 69.2708 | Validation_loss_dna: 3.2290 | Validation_acc_dna: 52.6042\n"
     ]
    },
    {
     "name": "stderr",
     "output_type": "stream",
     "text": [
      " 40%|\u001b[34m████      \u001b[0m| 4/10 [00:05<00:07,  1.28s/it]\n"
     ]
    },
    {
     "name": "stdout",
     "output_type": "stream",
     "text": [
      "\u001b[36m(DefaultActor pid=52436)\u001b[0m \tTrain Epoch: 5 \tTrain_loss_mri: 0.0098 | Train_acc_mri: 100.0000 | Train_loss_dna: 0.0138 | Train_acc_dna: 100.0000 | Validation_loss_mri: 1.1291 | Validation_acc_mri: 70.8333 | Validation_loss_dna: 3.3686 | Validation_acc_dna: 52.6042\n"
     ]
    },
    {
     "name": "stderr",
     "output_type": "stream",
     "text": [
      " 50%|\u001b[34m█████     \u001b[0m| 5/10 [00:06<00:06,  1.28s/it]\n"
     ]
    },
    {
     "name": "stdout",
     "output_type": "stream",
     "text": [
      "\u001b[36m(DefaultActor pid=52436)\u001b[0m \tTrain Epoch: 6 \tTrain_loss_mri: 0.0024 | Train_acc_mri: 100.0000 | Train_loss_dna: 0.0054 | Train_acc_dna: 100.0000 | Validation_loss_mri: 1.6310 | Validation_acc_mri: 69.2708 | Validation_loss_dna: 2.7723 | Validation_acc_dna: 49.4792\n"
     ]
    },
    {
     "name": "stderr",
     "output_type": "stream",
     "text": [
      " 60%|\u001b[34m██████    \u001b[0m| 6/10 [00:07<00:05,  1.28s/it]\n"
     ]
    },
    {
     "name": "stdout",
     "output_type": "stream",
     "text": [
      "\u001b[36m(DefaultActor pid=52436)\u001b[0m \tTrain Epoch: 7 \tTrain_loss_mri: 0.0009 | Train_acc_mri: 100.0000 | Train_loss_dna: 0.0021 | Train_acc_dna: 100.0000 | Validation_loss_mri: 1.9543 | Validation_acc_mri: 66.1458 | Validation_loss_dna: 2.7994 | Validation_acc_dna: 49.4792\n"
     ]
    },
    {
     "name": "stderr",
     "output_type": "stream",
     "text": [
      " 70%|\u001b[34m███████   \u001b[0m| 7/10 [00:08<00:03,  1.29s/it]\n"
     ]
    },
    {
     "name": "stdout",
     "output_type": "stream",
     "text": [
      "\u001b[36m(DefaultActor pid=52436)\u001b[0m \tTrain Epoch: 8 \tTrain_loss_mri: 0.0004 | Train_acc_mri: 100.0000 | Train_loss_dna: 0.0011 | Train_acc_dna: 100.0000 | Validation_loss_mri: 2.0726 | Validation_acc_mri: 67.7083 | Validation_loss_dna: 2.9487 | Validation_acc_dna: 51.0417\n"
     ]
    },
    {
     "name": "stderr",
     "output_type": "stream",
     "text": [
      " 80%|\u001b[34m████████  \u001b[0m| 8/10 [00:10<00:02,  1.29s/it]\n"
     ]
    },
    {
     "name": "stdout",
     "output_type": "stream",
     "text": [
      "\u001b[36m(DefaultActor pid=52436)\u001b[0m \tTrain Epoch: 9 \tTrain_loss_mri: 0.0003 | Train_acc_mri: 100.0000 | Train_loss_dna: 0.0007 | Train_acc_dna: 100.0000 | Validation_loss_mri: 2.1014 | Validation_acc_mri: 66.1458 | Validation_loss_dna: 3.0645 | Validation_acc_dna: 52.6042\n"
     ]
    },
    {
     "name": "stderr",
     "output_type": "stream",
     "text": [
      " 90%|\u001b[34m█████████ \u001b[0m| 9/10 [00:11<00:01,  1.27s/it]\n"
     ]
    },
    {
     "name": "stdout",
     "output_type": "stream",
     "text": [
      "\u001b[36m(DefaultActor pid=52436)\u001b[0m \tTrain Epoch: 10 \tTrain_loss_mri: 0.0002 | Train_acc_mri: 100.0000 | Train_loss_dna: 0.0005 | Train_acc_dna: 100.0000 | Validation_loss_mri: 2.1166 | Validation_acc_mri: 66.1458 | Validation_loss_dna: 3.0939 | Validation_acc_dna: 52.6042\n",
      "\u001b[36m(DefaultActor pid=52436)\u001b[0m save graph in  results/FL_DNA+MRI/\n"
     ]
    },
    {
     "name": "stderr",
     "output_type": "stream",
     "text": [
      "100%|\u001b[34m██████████\u001b[0m| 10/10 [00:12<00:00,  1.28s/it]\n"
     ]
    }
   ],
   "source": [
    "import warnings\n",
    "warnings.simplefilter(\"ignore\")\n",
    "\n",
    "print(\"flwr\", fl.__version__)\n",
    "print(\"numpy\", np.__version__)\n",
    "print(\"torch\", torch.__version__)\n",
    "print(\"torchvision\", torchvision.__version__)\n",
    "print(f\"Training on {DEVICE}\")\n",
    "\n",
    "client_resources = {\"num_cpus\": 11}\n",
    "\n",
    "if DEVICE.type == \"cuda\":\n",
    "    client_resources[\"num_gpus\"] = 1\n",
    "\n",
    "model_save = model_save\n",
    "path_yaml = yaml_path\n",
    "path_roc = roc_path\n",
    "results_save = save_results\n",
    "path_matrix = matrix_path\n",
    "batch_size = batch_size\n",
    "\n",
    "print(\"Start simulation\")\n",
    "start_simulation = time.time()\n",
    "fl.simulation.start_simulation(\n",
    "    client_fn=client_fn,\n",
    "    num_clients=number_clients,\n",
    "    config=fl.server.ServerConfig(num_rounds=rounds),\n",
    "    strategy=strategy,\n",
    "    client_resources=client_resources\n",
    ")\n",
    "print(f\"Simulation Time = {time.time() - start_simulation} seconds\")"
   ]
  }
 ],
 "metadata": {
  "kernelspec": {
   "display_name": "Python 3 (ipykernel)",
   "language": "python",
   "name": "python3"
  },
  "language_info": {
   "codemirror_mode": {
    "name": "ipython",
    "version": 3
   },
   "file_extension": ".py",
   "mimetype": "text/x-python",
   "name": "python",
   "nbconvert_exporter": "python",
   "pygments_lexer": "ipython3",
   "version": "3.10.12"
  }
 },
 "nbformat": 4,
 "nbformat_minor": 4
}

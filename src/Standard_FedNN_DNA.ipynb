{
 "cells": [
  {
   "cell_type": "markdown",
   "metadata": {},
   "source": [
    "### Import necessary libraries and modules"
   ]
  },
  {
   "cell_type": "code",
   "execution_count": 1,
   "metadata": {},
   "outputs": [],
   "source": [
    "# %%bash\n",
    "\n",
    "# kaggle datasets download -d nageshsingh/dna-sequence-dataset\n",
    "# mkdir data data/DNA\n",
    "# unzip dna-sequence-dataset.zip -d data/DNA\n",
    "# rm dna-sequence-dataset.zip"
   ]
  },
  {
   "cell_type": "code",
   "execution_count": 2,
   "metadata": {},
   "outputs": [],
   "source": [
    "import os\n",
    "import pickle\n",
    "import time\n",
    "from collections import OrderedDict\n",
    "from typing import (\n",
    "    List, Tuple, Dict, Optional, Callable, Union\n",
    ")\n",
    "import tenseal as ts\n",
    "\n",
    "import numpy as np\n",
    "import torchvision\n",
    "import torch\n",
    "from torch import nn\n",
    "import torch.nn.functional as F\n",
    "import flwr as fl\n",
    "from flwr.common import (\n",
    "    Metrics, EvaluateIns, EvaluateRes, FitIns, FitRes, MetricsAggregationFn, \n",
    "    Scalar, logger, ndarrays_to_parameters_custom, parameters_to_ndarrays_custom,\n",
    "    Parameters, NDArrays\n",
    ")\n",
    "from flwr.server.client_proxy import ClientProxy\n",
    "from flwr.server.client_manager import ClientManager\n",
    "from flwr.server.strategy.aggregate import weighted_loss_avg\n",
    "from logging import WARNING\n",
    "\n",
    "from utils import *\n",
    "\n",
    "os.environ['TOKENIZERS_PARALLELISM'] = 'false'"
   ]
  },
  {
   "cell_type": "markdown",
   "metadata": {},
   "source": [
    "### Creation of FHE Keys"
   ]
  },
  {
   "cell_type": "code",
   "execution_count": 3,
   "metadata": {},
   "outputs": [
    {
     "name": "stdout",
     "output_type": "stream",
     "text": [
      "it exists\n"
     ]
    }
   ],
   "source": [
    "def combo_keys(client_path=\"secret.pkl\", server_path=\"server_key.pkl\"):\n",
    "    \"\"\"\n",
    "    To create the public/private keys combination\n",
    "    args:\n",
    "        client_path: path to save the secret key (str)\n",
    "        server_path: path to save the server public key (str)\n",
    "    \"\"\"\n",
    "    context_client = security.context()\n",
    "    security.write_query(client_path, {\"contexte\": context_client.serialize(save_secret_key=True)})\n",
    "    security.write_query(server_path, {\"contexte\": context_client.serialize()})\n",
    "\n",
    "    _, context_client = security.read_query(client_path)\n",
    "    _, context_server = security.read_query(server_path)\n",
    "\n",
    "    context_client = ts.context_from(context_client)\n",
    "    context_server = ts.context_from(context_server)\n",
    "    print(\"Is the client context private?\", (\"Yes\" if context_client.is_private() else \"No\"))\n",
    "    print(\"Is the server context private?\", (\"Yes\" if context_server.is_private() else \"No\"))\n",
    "\n",
    "\n",
    "secret_path = \"secret.pkl\"\n",
    "public_path = \"server_key.pkl\"\n",
    "if os.path.exists(secret_path):\n",
    "    print(\"it exists\")\n",
    "    _, context_client = security.read_query(secret_path)\n",
    "\n",
    "else:\n",
    "    combo_keys(client_path=secret_path, server_path=public_path)   "
   ]
  },
  {
   "cell_type": "markdown",
   "metadata": {},
   "source": [
    "### Model Architecture Creation"
   ]
  },
  {
   "cell_type": "code",
   "execution_count": 4,
   "metadata": {},
   "outputs": [],
   "source": [
    "class Net(nn.Module):\n",
    "    \"\"\"\n",
    "    Args:\n",
    "        num_classes: An integer indicating the number of classes in the dataset.\n",
    "    \"\"\"\n",
    "    def __init__(self, num_classes=10) -> None:\n",
    "        super(Net, self).__init__()\n",
    "        self.fc1 = nn.Linear(384, 1024)\n",
    "        self.fc2 = nn.Linear(1024, 512)\n",
    "        self.fc3 = nn.Linear(512, 256)\n",
    "        self.fc4 = nn.Linear(256, 128)\n",
    "        self.fc5 = nn.Linear(128, num_classes)        \n",
    "\n",
    "    def forward(self, x: torch.Tensor) -> torch.Tensor:\n",
    "        \"\"\"\n",
    "        Forward pass of the neural network\n",
    "        \"\"\"\n",
    "        x = F.relu(self.fc1(x))\n",
    "        x = F.relu(self.fc2(x))\n",
    "        x = F.relu(self.fc3(x))\n",
    "        x = F.relu(self.fc4(x))\n",
    "        \n",
    "        x = self.fc5(x)\n",
    "        return x"
   ]
  },
  {
   "cell_type": "markdown",
   "metadata": {},
   "source": [
    "### Define the FlowerClient class for federated learning"
   ]
  },
  {
   "cell_type": "code",
   "execution_count": 5,
   "metadata": {},
   "outputs": [],
   "source": [
    "class FlowerClient(fl.client.NumPyClient):\n",
    "    def __init__(self, cid, net, trainloader, valloader, device, batch_size, save_results, matrix_path, roc_path,\n",
    "                 yaml_path, he, classes, context_client):\n",
    "        self.net = net\n",
    "        self.trainloader = trainloader\n",
    "        self.valloader = valloader\n",
    "        self.cid = cid\n",
    "        self.device = device\n",
    "        self.batch_size = batch_size\n",
    "        self.save_results = save_results\n",
    "        self.matrix_path = matrix_path\n",
    "        self.roc_path = roc_path\n",
    "        self.yaml_path = yaml_path\n",
    "        self.he = he\n",
    "        self.classes = classes\n",
    "        self.context_client = context_client\n",
    "\n",
    "    def get_parameters(self, config):\n",
    "        print(f\"[Client {self.cid}] get_parameters\")\n",
    "        return get_parameters2(self.net, self.context_client)\n",
    "\n",
    "    def fit(self, parameters, config):\n",
    "        server_round = config['server_round']\n",
    "        local_epochs = config['local_epochs']\n",
    "        lr = float(config[\"learning_rate\"])\n",
    "\n",
    "        print(f'[Client {self.cid}, round {server_round}] fit, config: {config}')\n",
    "\n",
    "        set_parameters(self.net, parameters, self.context_client)\n",
    "\n",
    "        criterion = torch.nn.CrossEntropyLoss()\n",
    "        optimizer = torch.optim.Adam(self.net.parameters(), lr=lr)\n",
    "\n",
    "        results = engine.train(self.net, self.trainloader, self.valloader, optimizer=optimizer, loss_fn=criterion,\n",
    "                               epochs=local_epochs, device=self.device)\n",
    "\n",
    "        if self.save_results:\n",
    "            save_graphs(self.save_results, local_epochs, results, f\"_Client {self.cid}\")\n",
    "\n",
    "        return get_parameters2(self.net, self.context_client), len(self.trainloader), {}\n",
    "\n",
    "    def evaluate(self, parameters, config):\n",
    "        print(f\"[Client {self.cid}] evaluate, config: {config}\")\n",
    "        set_parameters(self.net, parameters, self.context_client)\n",
    "\n",
    "        loss, accuracy, y_pred, y_true, y_proba = engine.test(self.net, self.valloader,\n",
    "                                                              loss_fn=torch.nn.CrossEntropyLoss(), device=self.device)\n",
    "\n",
    "        if self.save_results:\n",
    "            os.makedirs(self.save_results, exist_ok=True)\n",
    "            if self.matrix_path:\n",
    "                save_matrix(y_true, y_pred, self.save_results + self.matrix_path, self.classes)\n",
    "            if self.roc_path:\n",
    "                save_roc(y_true, y_proba, self.save_results + self.roc_path, len(self.classes))\n",
    "\n",
    "        return float(loss), len(self.valloader), {\"accuracy\": float(accuracy)}"
   ]
  },
  {
   "cell_type": "markdown",
   "metadata": {},
   "source": [
    "### Define the client_common function to set up the Flower client"
   ]
  },
  {
   "cell_type": "code",
   "execution_count": 6,
   "metadata": {},
   "outputs": [],
   "source": [
    "def client_common(cid, model_save, path_yaml, path_roc, results_save, path_matrix,\n",
    "                  batch_size, trainloaders, valloaders, DEVICE, CLASSES,\n",
    "                  he=False, secret_path=\"\", server_path=\"\"):\n",
    "    trainloader = trainloaders[int(cid)]\n",
    "    valloader = valloaders[int(cid)]\n",
    "\n",
    "    context_client = None\n",
    "    net = Net(num_classes=len(CLASSES)).to(DEVICE)\n",
    "\n",
    "    if he:\n",
    "        print(\"Run with homomorphic encryption\")\n",
    "        if os.path.exists(secret_path):\n",
    "            with open(secret_path, 'rb') as f:\n",
    "                query = pickle.load(f)\n",
    "            context_client = ts.context_from(query[\"contexte\"])\n",
    "        else:\n",
    "            context_client = security.context()\n",
    "            with open(secret_path, 'wb') as f:\n",
    "                encode = pickle.dumps({\"contexte\": context_client.serialize(save_secret_key=True)})\n",
    "                f.write(encode)\n",
    "        secret_key = context_client.secret_key()\n",
    "    else:\n",
    "        print(\"Run WITHOUT homomorphic encryption\")\n",
    "\n",
    "    if os.path.exists(model_save):\n",
    "        print(\" To get the checkpoint\")\n",
    "        checkpoint = torch.load(model_save, map_location=DEVICE)['model_state_dict']\n",
    "        if he:\n",
    "            print(\"to decrypt model\")\n",
    "            server_query, server_context = security.read_query(server_path)\n",
    "            server_context = ts.context_from(server_context)\n",
    "            for name in checkpoint:\n",
    "                print(name)\n",
    "                checkpoint[name] = torch.tensor(\n",
    "                    security.deserialized_layer(name, server_query[name], server_context).decrypt(secret_key)\n",
    "                )\n",
    "        net.load_state_dict(checkpoint)\n",
    "\n",
    "    return FlowerClient(cid, net, trainloader, valloader, device=DEVICE, batch_size=batch_size,\n",
    "                        matrix_path=path_matrix, roc_path=path_roc, save_results=results_save, yaml_path=path_yaml,\n",
    "                        he=he, context_client=context_client, classes=CLASSES)"
   ]
  },
  {
   "cell_type": "markdown",
   "metadata": {},
   "source": [
    "### Define utility functions for federated learning"
   ]
  },
  {
   "cell_type": "code",
   "execution_count": 7,
   "metadata": {},
   "outputs": [],
   "source": [
    "def weighted_average(metrics: List[Tuple[int, Metrics]]) -> Metrics:\n",
    "    accuracies = [num_examples * m[\"accuracy\"] for num_examples, m in metrics]\n",
    "    examples = [num_examples for num_examples, _ in metrics]\n",
    "    return {\"accuracy\": sum(accuracies) / sum(examples)}\n",
    "\n",
    "def evaluate2(server_round: int, parameters: NDArrays,\n",
    "              config: Dict[str, Scalar]) -> Optional[Tuple[float, Dict[str, Scalar]]]:\n",
    "    set_parameters(central, parameters)\n",
    "    loss, accuracy, y_pred, y_true, y_proba = engine.test(central, testloader, loss_fn=torch.nn.CrossEntropyLoss(),\n",
    "                                                          device=DEVICE)\n",
    "    print(f\"Server-side evaluation loss {loss} / accuracy {accuracy}\")\n",
    "    return loss, {\"accuracy\": accuracy}\n",
    "\n",
    "def get_on_fit_config_fn(epoch=2, lr=0.001, batch_size=32) -> Callable[[int], Dict[str, str]]:\n",
    "    def fit_config(server_round: int) -> Dict[str, str]:\n",
    "        config = {\n",
    "            \"learning_rate\": str(lr),\n",
    "            \"batch_size\": str(batch_size),\n",
    "            \"server_round\": server_round,\n",
    "            \"local_epochs\": epoch\n",
    "        }\n",
    "        return config\n",
    "    return fit_config\n",
    "\n",
    "def aggreg_fit_checkpoint(server_round, aggregated_parameters, central_model, path_checkpoint,\n",
    "                          context_client=None, server_path=\"\"):\n",
    "    if aggregated_parameters is not None:\n",
    "        print(f\"Saving round {server_round} aggregated_parameters...\")\n",
    "        aggregated_ndarrays: List[np.ndarray] = parameters_to_ndarrays_custom(aggregated_parameters, context_client)\n",
    "        if context_client:   \n",
    "            server_response = {\"contexte\": server_context.serialize()}\n",
    "            for i, key in enumerate(central_model.state_dict().keys()):\n",
    "                try:\n",
    "                    server_response[key] = aggregated_ndarrays[i].serialize()\n",
    "                except:\n",
    "                    server_response[key] = aggregated_ndarrays[i]\n",
    "            security.write_query(server_path, server_response)\n",
    "        else:\n",
    "            params_dict = zip(central_model.state_dict().keys(), aggregated_ndarrays)\n",
    "            state_dict = OrderedDict({k: torch.tensor(v) for k, v in params_dict})\n",
    "            central_model.load_state_dict(state_dict, strict=True)\n",
    "            if path_checkpoint:\n",
    "                torch.save({\n",
    "                    'model_state_dict': central_model.state_dict(),\n",
    "                }, path_checkpoint)"
   ]
  },
  {
   "cell_type": "markdown",
   "metadata": {},
   "source": [
    "### Define the FedCustom strategy class"
   ]
  },
  {
   "cell_type": "code",
   "execution_count": 8,
   "metadata": {},
   "outputs": [],
   "source": [
    "# A Strategy from scratch with the same sampling of the clients as it is in FedAvg\n",
    "# and then change the configuration dictionary\n",
    "class FedCustom(fl.server.strategy.Strategy):\n",
    "    def __init__(\n",
    "            self,\n",
    "            fraction_fit: float = 1.0,\n",
    "            fraction_evaluate: float = 1.0,\n",
    "            min_fit_clients: int = 2,\n",
    "            min_evaluate_clients: int = 2,\n",
    "            min_available_clients: int = 2,\n",
    "            evaluate_fn: Optional[\n",
    "                    Callable[[int, NDArrays, Dict[str, Scalar]], Optional[Tuple[float, Dict[str, Scalar]]]]\n",
    "                ] = None,\n",
    "            on_fit_config_fn: Optional[Callable[[int], Dict[str, Scalar]]] = None,\n",
    "            on_evaluate_config_fn: Optional[Callable[[int], Dict[str, Scalar]]] = None,\n",
    "            accept_failures: bool = True,\n",
    "            initial_parameters: Optional[Parameters] = None,\n",
    "            fit_metrics_aggregation_fn: Optional[MetricsAggregationFn] = None,\n",
    "            evaluate_metrics_aggregation_fn: Optional[MetricsAggregationFn] = None,\n",
    "            context_client=None\n",
    "    ) -> None:\n",
    "        super().__init__()\n",
    "        self.fraction_fit = fraction_fit\n",
    "        self.fraction_evaluate = fraction_evaluate\n",
    "        self.min_fit_clients = min_fit_clients\n",
    "        self.min_evaluate_clients = min_evaluate_clients\n",
    "        self.min_available_clients = min_available_clients\n",
    "        self.evaluate_fn = evaluate_fn\n",
    "        self.on_fit_config_fn = on_fit_config_fn\n",
    "        self.on_evaluate_config_fn = on_evaluate_config_fn,\n",
    "        self.accept_failures = accept_failures\n",
    "        self.initial_parameters = initial_parameters\n",
    "        self.fit_metrics_aggregation_fn = fit_metrics_aggregation_fn\n",
    "        self.evaluate_metrics_aggregation_fn = evaluate_metrics_aggregation_fn\n",
    "        self.context_client = context_client\n",
    "\n",
    "    def __repr__(self) -> str:\n",
    "        # Same function as FedAvg(Strategy)\n",
    "        return f\"FedCustom (accept_failures={self.accept_failures})\"\n",
    "\n",
    "    def initialize_parameters(\n",
    "        self, client_manager: ClientManager\n",
    "    ) -> Optional[Parameters]:\n",
    "        \"\"\"Initialize global model parameters.\"\"\"\n",
    "        # Same function as FedAvg(Strategy)\n",
    "        initial_parameters = self.initial_parameters\n",
    "        self.initial_parameters = None  # Don't keep initial parameters in memory\n",
    "        return initial_parameters\n",
    "\n",
    "    def num_fit_clients(self, num_available_clients: int) -> Tuple[int, int]:\n",
    "        \"\"\"Return sample size and required number of clients.\"\"\"\n",
    "        # Same function as FedAvg(Strategy)\n",
    "        num_clients = int(num_available_clients * self.fraction_fit)\n",
    "        return max(num_clients, self.min_fit_clients), self.min_available_clients\n",
    "\n",
    "    def configure_fit(\n",
    "        self, server_round: int, parameters: Parameters, client_manager: ClientManager\n",
    "    ) -> List[Tuple[ClientProxy, FitIns]]:\n",
    "        \"\"\"Configure the next round of training.\"\"\"\n",
    "        # Sample clients\n",
    "        sample_size, min_num_clients = self.num_fit_clients(\n",
    "            client_manager.num_available()\n",
    "        )\n",
    "\n",
    "        clients = client_manager.sample(\n",
    "            num_clients=sample_size, min_num_clients=min_num_clients\n",
    "        )\n",
    "        # Create custom configs\n",
    "        n_clients = len(clients)\n",
    "        half_clients = n_clients // 2\n",
    "        # Custom fit config function provided\n",
    "        standard_lr = lr\n",
    "        higher_lr = 0.003\n",
    "        config = {\"server_round\": server_round, \"local_epochs\": 1}\n",
    "        if self.on_fit_config_fn is not None:\n",
    "            # Custom fit config function provided\n",
    "            config = self.on_fit_config_fn(server_round)\n",
    "\n",
    "        # fit_ins = FitIns(parameters, config)\n",
    "        # Return client/config pairs\n",
    "        fit_configurations = []\n",
    "        for idx, client in enumerate(clients):\n",
    "            config[\"learning_rate\"] = standard_lr if idx < half_clients else higher_lr\n",
    "            \"\"\"\n",
    "            Each pair of (ClientProxy, FitRes) constitutes \n",
    "            a successful update from one of the previously selected clients.\n",
    "            \"\"\"\n",
    "            fit_configurations.append(\n",
    "                (\n",
    "                    client,\n",
    "                    FitIns(\n",
    "                        parameters,\n",
    "                        config\n",
    "                    )\n",
    "                )\n",
    "            )\n",
    "        # Successful updates from the previously selected and configured clients\n",
    "        return fit_configurations\n",
    "\n",
    "    def aggregate_fit(\n",
    "        self,\n",
    "        server_round: int,\n",
    "        results: List[Tuple[ClientProxy, FitRes]],\n",
    "        failures: List[Union[Tuple[ClientProxy, FitRes], BaseException]],\n",
    "    ) -> Tuple[Optional[Parameters], Dict[str, Scalar]]:\n",
    "        \"\"\"Aggregate fit results using weighted average. (each round)\"\"\"\n",
    "        # Same function as FedAvg(Strategy)\n",
    "        if not results:\n",
    "            return None, {}\n",
    "\n",
    "        # Do not aggregate if there are failures and failures are not accepted\n",
    "        if not self.accept_failures and failures:\n",
    "            return None, {}\n",
    "\n",
    "        # Convert results parameters --> array matrix\n",
    "        weights_results = [\n",
    "            (parameters_to_ndarrays_custom(fit_res.parameters, self.context_client), fit_res.num_examples)\n",
    "            for _, fit_res in results\n",
    "        ]\n",
    "\n",
    "        # Aggregate parameters using weighted average between the clients and convert back to parameters object (bytes)\n",
    "        parameters_aggregated = ndarrays_to_parameters_custom(aggregate_custom(weights_results))\n",
    "\n",
    "        metrics_aggregated = {}\n",
    "        # Aggregate custom metrics if aggregation fn was provided\n",
    "        if self.fit_metrics_aggregation_fn:\n",
    "            fit_metrics = [(res.num_examples, res.metrics) for _, res in results]\n",
    "            metrics_aggregated = self.fit_metrics_aggregation_fn(fit_metrics)\n",
    "\n",
    "        elif server_round == 1:  # Only log this warning once\n",
    "            logger.log(WARNING, \"No fit_metrics_aggregation_fn provided\")\n",
    "\n",
    "        # Same function as SaveModelStrategy(fl.server.strategy.FedAvg)\n",
    "        \"\"\"Aggregate model weights using weighted average and store checkpoint\"\"\"\n",
    "        aggreg_fit_checkpoint(server_round, parameters_aggregated, central, model_save,\n",
    "                              self.context_client, path_crypted)\n",
    "        return parameters_aggregated, metrics_aggregated\n",
    "\n",
    "    def num_evaluation_clients(self, num_available_clients: int) -> Tuple[int, int]:\n",
    "        \"\"\"Use a fraction of available clients for evaluation.\"\"\"\n",
    "        # Same function as FedAvg(Strategy)\n",
    "        num_clients = int(num_available_clients * self.fraction_evaluate)\n",
    "        return max(num_clients, self.min_evaluate_clients), self.min_available_clients\n",
    "\n",
    "    def configure_evaluate(\n",
    "        self, server_round: int, parameters: Parameters, client_manager: ClientManager\n",
    "    ) -> List[Tuple[ClientProxy, EvaluateIns]]:\n",
    "        \"\"\"Configure the next round of evaluation.\"\"\"\n",
    "        # Same function as FedAvg(Strategy)\n",
    "        # Do not configure federated evaluation if fraction eval is 0.\n",
    "        if self.fraction_evaluate == 0.0:\n",
    "            return []\n",
    "\n",
    "        # Parameters and config\n",
    "        config = {}  # {\"server_round\": server_round, \"local_epochs\": 1}\n",
    "\n",
    "        evaluate_ins = EvaluateIns(parameters, config)\n",
    "\n",
    "        # Sample clients\n",
    "        sample_size, min_num_clients = self.num_evaluation_clients(\n",
    "            client_manager.num_available()\n",
    "        )\n",
    "\n",
    "        clients = client_manager.sample(\n",
    "            num_clients=sample_size, min_num_clients=min_num_clients\n",
    "        )\n",
    "\n",
    "        # Return client/config pairs\n",
    "        # Each pair of (ClientProxy, FitRes) constitutes a successful update from one of the previously selected clients\n",
    "        return [(client, evaluate_ins) for client in clients]\n",
    "\n",
    "    def aggregate_evaluate(\n",
    "        self,\n",
    "        server_round: int,\n",
    "        results: List[Tuple[ClientProxy, EvaluateRes]],\n",
    "        failures: List[Union[Tuple[ClientProxy, EvaluateRes], BaseException]],\n",
    "    ) -> Tuple[Optional[float], Dict[str, Scalar]]:\n",
    "        \"\"\"Aggregate evaluation losses using weighted average.\"\"\"\n",
    "        # Same function as FedAvg(Strategy)\n",
    "        if not results:\n",
    "            return None, {}\n",
    "\n",
    "        # Do not aggregate if there are failures and failures are not accepted\n",
    "        if not self.accept_failures and failures:\n",
    "            return None, {}\n",
    "\n",
    "        # Aggregate loss\n",
    "        loss_aggregated = weighted_loss_avg(\n",
    "            [\n",
    "                (evaluate_res.num_examples, evaluate_res.loss)\n",
    "                for _, evaluate_res in results\n",
    "            ]\n",
    "        )\n",
    "\n",
    "        metrics_aggregated = {}\n",
    "        # Aggregate custom metrics if aggregation fn was provided\n",
    "        if self.evaluate_metrics_aggregation_fn:\n",
    "            eval_metrics = [(res.num_examples, res.metrics) for _, res in results]\n",
    "            metrics_aggregated = self.evaluate_metrics_aggregation_fn(eval_metrics)\n",
    "\n",
    "        # Only log this warning once\n",
    "        elif server_round == 1:\n",
    "            logger.log(WARNING, \"No evaluate_metrics_aggregation_fn provided\")\n",
    "\n",
    "        return loss_aggregated, metrics_aggregated\n",
    "\n",
    "    def evaluate(\n",
    "        self, server_round: int, parameters: Parameters\n",
    "    ) -> Optional[Tuple[float, Dict[str, Scalar]]]:\n",
    "        \"\"\"Evaluate global model parameters using an evaluation function.\"\"\"\n",
    "        # Same function as FedAvg(Strategy)\n",
    "        if self.evaluate_fn is None:\n",
    "            # Let's assume we won't perform the global model evaluation on the server side.\n",
    "            return None\n",
    "\n",
    "        # if we have a global model evaluation on the server side :\n",
    "        parameters_ndarrays = parameters_to_ndarrays_custom(parameters, self.context_client)\n",
    "        eval_res = self.evaluate_fn(server_round, parameters_ndarrays, {})\n",
    "\n",
    "        # if you haven't results\n",
    "        if eval_res is None:\n",
    "            return None\n",
    "\n",
    "        loss, metrics = eval_res\n",
    "        return loss, metrics"
   ]
  },
  {
   "cell_type": "markdown",
   "metadata": {},
   "source": [
    "### Set up the federated learning strategy"
   ]
  },
  {
   "cell_type": "code",
   "execution_count": 9,
   "metadata": {},
   "outputs": [],
   "source": [
    "# Set up your variables directly\n",
    "he = False\n",
    "data_path = 'data/'\n",
    "dataset = 'DNA'\n",
    "yaml_path = './results/FL/results.yml'\n",
    "seed = 0\n",
    "num_workers = 0\n",
    "max_epochs = 10\n",
    "batch_size = 16\n",
    "splitter = 10\n",
    "device = 'gpu'\n",
    "number_clients = 4\n",
    "save_results = 'results/FL/'\n",
    "matrix_path = 'confusion_matrix.png'\n",
    "roc_path = 'roc.png'\n",
    "model_save = 'DNA_fl.pt'\n",
    "min_fit_clients = 4\n",
    "min_avail_clients = 4\n",
    "min_eval_clients = 4\n",
    "rounds = 40\n",
    "frac_fit = 1.0\n",
    "frac_eval = 0.5\n",
    "lr = 1e-3"
   ]
  },
  {
   "cell_type": "code",
   "execution_count": 10,
   "metadata": {},
   "outputs": [],
   "source": [
    "server_context = None\n",
    "DEVICE = torch.device(choice_device(device))\n",
    "CLASSES = classes_string(dataset)\n",
    "central = Net(num_classes=len(CLASSES)).to(DEVICE)"
   ]
  },
  {
   "cell_type": "code",
   "execution_count": 11,
   "metadata": {},
   "outputs": [],
   "source": [
    "strategy = FedCustom(\n",
    "    fraction_fit=frac_fit,\n",
    "    fraction_evaluate=frac_eval,\n",
    "    min_fit_clients=min_fit_clients,\n",
    "    min_evaluate_clients=min_eval_clients if min_eval_clients else number_clients // 2,\n",
    "    min_available_clients=min_avail_clients,\n",
    "    evaluate_metrics_aggregation_fn=weighted_average,\n",
    "    initial_parameters=ndarrays_to_parameters_custom(get_parameters2(central)),\n",
    "    evaluate_fn=None if he else evaluate2,\n",
    "    on_fit_config_fn=get_on_fit_config_fn(epoch=max_epochs, batch_size=batch_size),\n",
    "    context_client=server_context\n",
    ")"
   ]
  },
  {
   "cell_type": "code",
   "execution_count": 12,
   "metadata": {},
   "outputs": [
    {
     "name": "stdout",
     "output_type": "stream",
     "text": [
      "DNA\n"
     ]
    },
    {
     "name": "stderr",
     "output_type": "stream",
     "text": [
      "/home/cudaq/.local/lib/python3.10/site-packages/transformers/tokenization_utils_base.py:1601: FutureWarning: `clean_up_tokenization_spaces` was not set. It will be set to `True` by default. This behavior will be depracted in transformers v4.45, and will be then set to `False` by default. For more details check this issue: https://github.com/huggingface/transformers/issues/31884\n",
      "  warnings.warn(\n"
     ]
    },
    {
     "name": "stdout",
     "output_type": "stream",
     "text": [
      "The training set is created for the classes: ('0', '1', '2', '3', '4', '5', '6')\n"
     ]
    }
   ],
   "source": [
    "trainloaders, valloaders, testloader = data_setup.load_datasets(num_clients=number_clients,\n",
    "                                                                batch_size=batch_size,\n",
    "                                                                resize=None,\n",
    "                                                                seed=seed,\n",
    "                                                                num_workers=num_workers,\n",
    "                                                                splitter=splitter,\n",
    "                                                                dataset=dataset,  # Use the specified dataset\n",
    "                                                                data_path=data_path,\n",
    "                                                                data_path_val=None)  # Use the same path for validation data\n",
    "\n",
    "def client_fn(cid: str) -> FlowerClient:\n",
    "    return client_common(cid,\n",
    "                         model_save, path_yaml, path_roc, results_save, path_matrix,\n",
    "                         batch_size, trainloaders, valloaders, DEVICE, CLASSES, he, secret_path, server_path)"
   ]
  },
  {
   "cell_type": "markdown",
   "metadata": {},
   "source": [
    "### Define the client_fn function and set up the simulation"
   ]
  },
  {
   "cell_type": "code",
   "execution_count": 13,
   "metadata": {},
   "outputs": [
    {
     "name": "stderr",
     "output_type": "stream",
     "text": [
      "INFO flwr 2024-08-30 01:16:28,016 | app.py:145 | Starting Flower simulation, config: ServerConfig(num_rounds=40, round_timeout=None)\n"
     ]
    },
    {
     "name": "stdout",
     "output_type": "stream",
     "text": [
      "flwr 1.5.0\n",
      "numpy 1.26.4\n",
      "torch 2.3.1+cu121\n",
      "torchvision 0.18.1+cu121\n",
      "Training on cuda:0\n",
      "Start simulation\n"
     ]
    },
    {
     "name": "stderr",
     "output_type": "stream",
     "text": [
      "2024-08-30 01:16:28,939\tWARNING utils.py:592 -- Ray currently does not support initializing Ray with fractional cpus. Your num_cpus will be truncated from 11.5 to 11.\n",
      "2024-08-30 01:16:30,109\tINFO worker.py:1783 -- Started a local Ray instance.\n",
      "INFO flwr 2024-08-30 01:16:30,667 | app.py:179 | Flower VCE: Ray initialized with resources: {'memory': 161647752192.0, 'node:__internal_head__': 1.0, 'GPU': 1.0, 'node:10.42.22.180': 1.0, 'object_store_memory': 73563322368.0, 'accelerator_type:A100': 1.0, 'CPU': 11.0}\n",
      "INFO flwr 2024-08-30 01:16:30,668 | server.py:89 | Initializing global parameters\n",
      "INFO flwr 2024-08-30 01:16:30,669 | server.py:272 | Using initial parameters provided by strategy\n",
      "INFO flwr 2024-08-30 01:16:30,669 | server.py:91 | Evaluating initial parameters\n",
      "INFO flwr 2024-08-30 01:16:30,727 | server.py:94 | initial parameters (loss, other metrics): 1.9376704237677835, {'accuracy': 17.689393939393938}\n",
      "INFO flwr 2024-08-30 01:16:30,727 | server.py:104 | FL starting\n",
      "DEBUG flwr 2024-08-30 01:16:30,728 | server.py:222 | fit_round 1: strategy sampled 4 clients (out of 4)\n"
     ]
    },
    {
     "name": "stdout",
     "output_type": "stream",
     "text": [
      "Updated model\n",
      "Server-side evaluation loss 1.9376704237677835 / accuracy 17.689393939393938\n",
      "\u001b[36m(launch_and_fit pid=29448)\u001b[0m Run WITHOUT homomorphic encryption\n",
      "\u001b[36m(launch_and_fit pid=29448)\u001b[0m [Client 3, round 1] fit, config: {'learning_rate': 0.003, 'batch_size': '16', 'server_round': 1, 'local_epochs': 10}\n",
      "\u001b[36m(launch_and_fit pid=29448)\u001b[0m Updated model\n"
     ]
    },
    {
     "name": "stderr",
     "output_type": "stream",
     "text": [
      "  0%|\u001b[34m          \u001b[0m| 0/10 [00:00<?, ?it/s]\n"
     ]
    },
    {
     "name": "stdout",
     "output_type": "stream",
     "text": [
      "\u001b[36m(launch_and_fit pid=29448)\u001b[0m \tTrain Epoch: 1 \tTrain_loss: 1.8750 | Train_acc: 29.0250 % | Validation_loss: 1.8366 | Validation_acc: 23.9583 %\n",
      "\u001b[36m(launch_and_fit pid=29448)\u001b[0m \tTrain Epoch: 2 \tTrain_loss: 1.8282 | Train_acc: 29.6750 % | Validation_loss: 1.8332 | Validation_acc: 23.9583 %\n",
      "\u001b[36m(launch_and_fit pid=29448)\u001b[0m \tTrain Epoch: 3 \tTrain_loss: 1.8178 | Train_acc: 29.4000 % | Validation_loss: 1.8142 | Validation_acc: 23.9583 %\n"
     ]
    },
    {
     "name": "stderr",
     "output_type": "stream",
     "text": [
      " 10%|\u001b[34m█         \u001b[0m| 1/10 [00:00<00:02,  4.14it/s]\n",
      " 20%|\u001b[34m██        \u001b[0m| 2/10 [00:00<00:01,  6.31it/s]\n"
     ]
    },
    {
     "name": "stdout",
     "output_type": "stream",
     "text": [
      "\u001b[36m(launch_and_fit pid=29448)\u001b[0m \tTrain Epoch: 4 \tTrain_loss: 1.7911 | Train_acc: 29.4000 % | Validation_loss: 1.8069 | Validation_acc: 23.9583 %\n",
      "\u001b[36m(launch_and_fit pid=29448)\u001b[0m \tTrain Epoch: 5 \tTrain_loss: 1.7620 | Train_acc: 29.9500 % | Validation_loss: 1.7952 | Validation_acc: 25.0000 %\n"
     ]
    },
    {
     "name": "stderr",
     "output_type": "stream",
     "text": [
      " 40%|\u001b[34m████      \u001b[0m| 4/10 [00:00<00:00,  8.51it/s]\n"
     ]
    },
    {
     "name": "stdout",
     "output_type": "stream",
     "text": [
      "\u001b[36m(launch_and_fit pid=29448)\u001b[0m \tTrain Epoch: 6 \tTrain_loss: 1.7576 | Train_acc: 31.4000 % | Validation_loss: 1.7768 | Validation_acc: 32.5893 %\n",
      "\u001b[36m(launch_and_fit pid=29448)\u001b[0m \tTrain Epoch: 7 \tTrain_loss: 1.7591 | Train_acc: 32.6500 % | Validation_loss: 1.7668 | Validation_acc: 31.5476 %\n"
     ]
    },
    {
     "name": "stderr",
     "output_type": "stream",
     "text": [
      " 60%|\u001b[34m██████    \u001b[0m| 6/10 [00:00<00:00,  9.78it/s]\n"
     ]
    },
    {
     "name": "stdout",
     "output_type": "stream",
     "text": [
      "\u001b[36m(launch_and_fit pid=29448)\u001b[0m \tTrain Epoch: 8 \tTrain_loss: 1.7227 | Train_acc: 33.5500 % | Validation_loss: 1.7563 | Validation_acc: 29.7619 %\n",
      "\u001b[36m(launch_and_fit pid=29448)\u001b[0m \tTrain Epoch: 9 \tTrain_loss: 1.7156 | Train_acc: 33.9000 % | Validation_loss: 1.7745 | Validation_acc: 29.4643 %\n"
     ]
    },
    {
     "name": "stderr",
     "output_type": "stream",
     "text": [
      " 80%|\u001b[34m████████  \u001b[0m| 8/10 [00:00<00:00, 10.16it/s]\n"
     ]
    },
    {
     "name": "stdout",
     "output_type": "stream",
     "text": [
      "\u001b[36m(launch_and_fit pid=29448)\u001b[0m \tTrain Epoch: 10 \tTrain_loss: 1.7123 | Train_acc: 33.9000 % | Validation_loss: 1.7942 | Validation_acc: 30.5060 %\n",
      "\u001b[36m(launch_and_fit pid=29448)\u001b[0m save graph in  results/FL/\n"
     ]
    },
    {
     "name": "stderr",
     "output_type": "stream",
     "text": [
      "100%|\u001b[34m██████████\u001b[0m| 10/10 [00:01<00:00,  9.52it/s]\n"
     ]
    },
    {
     "name": "stdout",
     "output_type": "stream",
     "text": [
      "\u001b[36m(launch_and_fit pid=29448)\u001b[0m Run WITHOUT homomorphic encryption\n",
      "\u001b[36m(launch_and_fit pid=29448)\u001b[0m [Client 1, round 1] fit, config: {'learning_rate': 0.003, 'batch_size': '16', 'server_round': 1, 'local_epochs': 10}\n",
      "\u001b[36m(launch_and_fit pid=29448)\u001b[0m Updated model\n"
     ]
    },
    {
     "name": "stderr",
     "output_type": "stream",
     "text": [
      "  0%|\u001b[34m          \u001b[0m| 0/10 [00:00<?, ?it/s]\n"
     ]
    },
    {
     "name": "stdout",
     "output_type": "stream",
     "text": [
      "\u001b[36m(launch_and_fit pid=29448)\u001b[0m \tTrain Epoch: 1 \tTrain_loss: 1.8692 | Train_acc: 27.6250 % | Validation_loss: 1.7109 | Validation_acc: 42.8571 %\n",
      "\u001b[36m(launch_and_fit pid=29448)\u001b[0m \tTrain Epoch: 2 \tTrain_loss: 1.8415 | Train_acc: 29.4750 % | Validation_loss: 1.6928 | Validation_acc: 42.8571 %\n"
     ]
    },
    {
     "name": "stderr",
     "output_type": "stream",
     "text": [
      " 20%|\u001b[34m██        \u001b[0m| 2/10 [00:00<00:00, 11.23it/s]\n"
     ]
    },
    {
     "name": "stdout",
     "output_type": "stream",
     "text": [
      "\u001b[36m(launch_and_fit pid=29448)\u001b[0m \tTrain Epoch: 3 \tTrain_loss: 1.8355 | Train_acc: 29.2000 % | Validation_loss: 1.6584 | Validation_acc: 42.8571 %\n",
      "\u001b[36m(launch_and_fit pid=29448)\u001b[0m \tTrain Epoch: 4 \tTrain_loss: 1.8140 | Train_acc: 29.2000 % | Validation_loss: 1.6930 | Validation_acc: 42.8571 %\n"
     ]
    },
    {
     "name": "stderr",
     "output_type": "stream",
     "text": [
      " 40%|\u001b[34m████      \u001b[0m| 4/10 [00:00<00:00, 11.38it/s]\n",
      " 60%|\u001b[34m██████    \u001b[0m| 6/10 [00:00<00:00, 11.58it/s]\n"
     ]
    },
    {
     "name": "stdout",
     "output_type": "stream",
     "text": [
      "\u001b[36m(launch_and_fit pid=29448)\u001b[0m \tTrain Epoch: 5 \tTrain_loss: 1.8120 | Train_acc: 28.3750 % | Validation_loss: 1.7206 | Validation_acc: 42.8571 %\n",
      "\u001b[36m(launch_and_fit pid=29448)\u001b[0m \tTrain Epoch: 6 \tTrain_loss: 1.7859 | Train_acc: 28.5750 % | Validation_loss: 1.5894 | Validation_acc: 42.8571 %\n",
      "\u001b[36m(launch_and_fit pid=29448)\u001b[0m \tTrain Epoch: 7 \tTrain_loss: 1.7876 | Train_acc: 29.4500 % | Validation_loss: 1.5705 | Validation_acc: 41.8155 %\n",
      "\u001b[36m(launch_and_fit pid=29448)\u001b[0m \tTrain Epoch: 8 \tTrain_loss: 1.7734 | Train_acc: 29.6750 % | Validation_loss: 1.6550 | Validation_acc: 39.7321 %\n",
      "\u001b[36m(launch_and_fit pid=29448)\u001b[0m \tTrain Epoch: 9 \tTrain_loss: 1.7673 | Train_acc: 29.0000 % | Validation_loss: 1.7637 | Validation_acc: 33.1845 %\n"
     ]
    },
    {
     "name": "stderr",
     "output_type": "stream",
     "text": [
      " 80%|\u001b[34m████████  \u001b[0m| 8/10 [00:00<00:00, 11.45it/s]\n"
     ]
    },
    {
     "name": "stdout",
     "output_type": "stream",
     "text": [
      "\u001b[36m(launch_and_fit pid=29448)\u001b[0m \tTrain Epoch: 10 \tTrain_loss: 1.7583 | Train_acc: 31.2500 % | Validation_loss: 1.5960 | Validation_acc: 39.7321 %\n",
      "\u001b[36m(launch_and_fit pid=29448)\u001b[0m save graph in  results/FL/\n"
     ]
    },
    {
     "name": "stderr",
     "output_type": "stream",
     "text": [
      "100%|\u001b[34m██████████\u001b[0m| 10/10 [00:00<00:00, 11.53it/s]\n"
     ]
    },
    {
     "name": "stdout",
     "output_type": "stream",
     "text": [
      "\u001b[36m(launch_and_fit pid=29448)\u001b[0m Run WITHOUT homomorphic encryption\n",
      "\u001b[36m(launch_and_fit pid=29448)\u001b[0m [Client 2, round 1] fit, config: {'learning_rate': 0.003, 'batch_size': '16', 'server_round': 1, 'local_epochs': 10}\n",
      "\u001b[36m(launch_and_fit pid=29448)\u001b[0m Updated model\n"
     ]
    },
    {
     "name": "stderr",
     "output_type": "stream",
     "text": [
      "  0%|\u001b[34m          \u001b[0m| 0/10 [00:00<?, ?it/s]\n"
     ]
    },
    {
     "name": "stdout",
     "output_type": "stream",
     "text": [
      "\u001b[36m(launch_and_fit pid=29448)\u001b[0m \tTrain Epoch: 1 \tTrain_loss: 1.8586 | Train_acc: 30.8000 % | Validation_loss: 1.7764 | Validation_acc: 43.3036 %\n",
      "\u001b[36m(launch_and_fit pid=29448)\u001b[0m \tTrain Epoch: 2 \tTrain_loss: 1.8261 | Train_acc: 31.0250 % | Validation_loss: 1.7877 | Validation_acc: 43.3036 %\n"
     ]
    },
    {
     "name": "stderr",
     "output_type": "stream",
     "text": [
      " 20%|\u001b[34m██        \u001b[0m| 2/10 [00:00<00:00, 10.59it/s]\n"
     ]
    },
    {
     "name": "stdout",
     "output_type": "stream",
     "text": [
      "\u001b[36m(launch_and_fit pid=29448)\u001b[0m \tTrain Epoch: 3 \tTrain_loss: 1.8347 | Train_acc: 31.3000 % | Validation_loss: 1.7308 | Validation_acc: 43.3036 %\n",
      "\u001b[36m(launch_and_fit pid=29448)\u001b[0m \tTrain Epoch: 4 \tTrain_loss: 1.7978 | Train_acc: 31.3000 % | Validation_loss: 1.7289 | Validation_acc: 43.3036 %\n",
      "\u001b[36m(launch_and_fit pid=29448)\u001b[0m \tTrain Epoch: 5 \tTrain_loss: 1.7785 | Train_acc: 31.5750 % | Validation_loss: 1.6659 | Validation_acc: 43.3036 %\n"
     ]
    },
    {
     "name": "stderr",
     "output_type": "stream",
     "text": [
      " 40%|\u001b[34m████      \u001b[0m| 4/10 [00:00<00:00, 11.15it/s]\n"
     ]
    },
    {
     "name": "stdout",
     "output_type": "stream",
     "text": [
      "\u001b[36m(launch_and_fit pid=29448)\u001b[0m \tTrain Epoch: 6 \tTrain_loss: 1.7763 | Train_acc: 30.8000 % | Validation_loss: 1.6752 | Validation_acc: 42.2619 %\n",
      "\u001b[36m(launch_and_fit pid=29448)\u001b[0m \tTrain Epoch: 7 \tTrain_loss: 1.7684 | Train_acc: 32.6750 % | Validation_loss: 1.6892 | Validation_acc: 41.2202 %\n"
     ]
    },
    {
     "name": "stderr",
     "output_type": "stream",
     "text": [
      " 60%|\u001b[34m██████    \u001b[0m| 6/10 [00:00<00:00, 11.10it/s]\n"
     ]
    },
    {
     "name": "stdout",
     "output_type": "stream",
     "text": [
      "\u001b[36m(launch_and_fit pid=29448)\u001b[0m \tTrain Epoch: 8 \tTrain_loss: 1.7478 | Train_acc: 29.7500 % | Validation_loss: 1.6912 | Validation_acc: 41.2202 %\n",
      "\u001b[36m(launch_and_fit pid=29448)\u001b[0m \tTrain Epoch: 9 \tTrain_loss: 1.7559 | Train_acc: 31.8750 % | Validation_loss: 1.6726 | Validation_acc: 41.2202 %\n",
      "\u001b[36m(launch_and_fit pid=29448)\u001b[0m \tTrain Epoch: 10 \tTrain_loss: 1.7740 | Train_acc: 32.0000 % | Validation_loss: 1.7074 | Validation_acc: 40.1786 %\n",
      "\u001b[36m(launch_and_fit pid=29448)\u001b[0m save graph in  results/FL/\n"
     ]
    },
    {
     "name": "stderr",
     "output_type": "stream",
     "text": [
      " 80%|\u001b[34m████████  \u001b[0m| 8/10 [00:00<00:00, 11.12it/s]\n",
      "100%|\u001b[34m██████████\u001b[0m| 10/10 [00:00<00:00, 11.06it/s]\n"
     ]
    },
    {
     "name": "stdout",
     "output_type": "stream",
     "text": [
      "\u001b[36m(launch_and_fit pid=29448)\u001b[0m Run WITHOUT homomorphic encryption\n",
      "\u001b[36m(launch_and_fit pid=29448)\u001b[0m [Client 0, round 1] fit, config: {'learning_rate': 0.003, 'batch_size': '16', 'server_round': 1, 'local_epochs': 10}\n",
      "\u001b[36m(launch_and_fit pid=29448)\u001b[0m Updated model\n",
      "\u001b[36m(launch_and_fit pid=29448)\u001b[0m \tTrain Epoch: 1 \tTrain_loss: 1.8620 | Train_acc: 30.5500 % | Validation_loss: 1.8811 | Validation_acc: 27.6786 %\n"
     ]
    },
    {
     "name": "stderr",
     "output_type": "stream",
     "text": [
      "  0%|\u001b[34m          \u001b[0m| 0/10 [00:00<?, ?it/s]\n"
     ]
    },
    {
     "name": "stdout",
     "output_type": "stream",
     "text": [
      "\u001b[36m(launch_and_fit pid=29448)\u001b[0m \tTrain Epoch: 2 \tTrain_loss: 1.8178 | Train_acc: 30.6750 % | Validation_loss: 1.8290 | Validation_acc: 27.6786 %\n",
      "\u001b[36m(launch_and_fit pid=29448)\u001b[0m \tTrain Epoch: 3 \tTrain_loss: 1.8202 | Train_acc: 30.6750 % | Validation_loss: 1.8590 | Validation_acc: 27.6786 %\n"
     ]
    },
    {
     "name": "stderr",
     "output_type": "stream",
     "text": [
      " 20%|\u001b[34m██        \u001b[0m| 2/10 [00:00<00:00, 10.80it/s]\n"
     ]
    },
    {
     "name": "stdout",
     "output_type": "stream",
     "text": [
      "\u001b[36m(launch_and_fit pid=29448)\u001b[0m \tTrain Epoch: 4 \tTrain_loss: 1.7988 | Train_acc: 30.6750 % | Validation_loss: 1.8193 | Validation_acc: 27.6786 %\n",
      "\u001b[36m(launch_and_fit pid=29448)\u001b[0m \tTrain Epoch: 5 \tTrain_loss: 1.7870 | Train_acc: 30.6750 % | Validation_loss: 1.8011 | Validation_acc: 27.6786 %\n",
      "\u001b[36m(launch_and_fit pid=29448)\u001b[0m \tTrain Epoch: 6 \tTrain_loss: 1.7619 | Train_acc: 32.3000 % | Validation_loss: 1.8085 | Validation_acc: 26.6369 %\n"
     ]
    },
    {
     "name": "stderr",
     "output_type": "stream",
     "text": [
      " 40%|\u001b[34m████      \u001b[0m| 4/10 [00:00<00:00, 10.82it/s]\n",
      " 60%|\u001b[34m██████    \u001b[0m| 6/10 [00:00<00:00, 11.24it/s]\n"
     ]
    },
    {
     "name": "stdout",
     "output_type": "stream",
     "text": [
      "\u001b[36m(launch_and_fit pid=29448)\u001b[0m \tTrain Epoch: 7 \tTrain_loss: 1.7463 | Train_acc: 30.2500 % | Validation_loss: 1.8392 | Validation_acc: 27.6786 %\n",
      "\u001b[36m(launch_and_fit pid=29448)\u001b[0m \tTrain Epoch: 8 \tTrain_loss: 1.7580 | Train_acc: 32.4500 % | Validation_loss: 1.8413 | Validation_acc: 24.2560 %\n"
     ]
    },
    {
     "name": "stderr",
     "output_type": "stream",
     "text": [
      " 80%|\u001b[34m████████  \u001b[0m| 8/10 [00:00<00:00, 11.39it/s]\n",
      "100%|\u001b[34m██████████\u001b[0m| 10/10 [00:00<00:00, 11.44it/s]\n",
      "DEBUG flwr 2024-08-30 01:16:40,328 | server.py:236 | fit_round 1 received 4 results and 0 failures\n"
     ]
    },
    {
     "name": "stdout",
     "output_type": "stream",
     "text": [
      "\u001b[36m(launch_and_fit pid=29448)\u001b[0m \tTrain Epoch: 9 \tTrain_loss: 1.7265 | Train_acc: 32.7250 % | Validation_loss: 1.7866 | Validation_acc: 26.6369 %\n",
      "\u001b[36m(launch_and_fit pid=29448)\u001b[0m \tTrain Epoch: 10 \tTrain_loss: 1.7344 | Train_acc: 32.9250 % | Validation_loss: 1.7644 | Validation_acc: 27.6786 %\n",
      "\u001b[36m(launch_and_fit pid=29448)\u001b[0m save graph in  results/FL/\n"
     ]
    },
    {
     "name": "stderr",
     "output_type": "stream",
     "text": [
      "WARNING flwr 2024-08-30 01:16:40,351 | 3890383987.py:131 | No fit_metrics_aggregation_fn provided\n",
      "INFO flwr 2024-08-30 01:16:40,397 | server.py:125 | fit progress: (1, 1.871138124032454, {'accuracy': 31.363636363636367}, 9.669537748210132)\n",
      "DEBUG flwr 2024-08-30 01:16:40,398 | server.py:173 | evaluate_round 1: strategy sampled 4 clients (out of 4)\n"
     ]
    },
    {
     "name": "stdout",
     "output_type": "stream",
     "text": [
      "Saving round 1 aggregated_parameters...\n",
      "Updated model\n",
      "Server-side evaluation loss 1.871138124032454 / accuracy 31.363636363636367\n",
      "\u001b[36m(launch_and_evaluate pid=29448)\u001b[0m Run WITHOUT homomorphic encryption\n",
      "\u001b[36m(launch_and_evaluate pid=29448)\u001b[0m  To get the checkpoint\n",
      "\u001b[36m(launch_and_evaluate pid=29448)\u001b[0m [Client 3] evaluate, config: {}\n",
      "\u001b[36m(launch_and_evaluate pid=29448)\u001b[0m Updated model\n",
      "\u001b[36m(launch_and_evaluate pid=29448)\u001b[0m Run WITHOUT homomorphic encryption\n",
      "\u001b[36m(launch_and_evaluate pid=29448)\u001b[0m  To get the checkpoint\n",
      "\u001b[36m(launch_and_evaluate pid=29448)\u001b[0m [Client 0] evaluate, config: {}\n",
      "\u001b[36m(launch_and_evaluate pid=29448)\u001b[0m Updated model\n",
      "\u001b[36m(launch_and_evaluate pid=29448)\u001b[0m Run WITHOUT homomorphic encryption\n",
      "\u001b[36m(launch_and_evaluate pid=29448)\u001b[0m  To get the checkpoint\n",
      "\u001b[36m(launch_and_evaluate pid=29448)\u001b[0m [Client 1] evaluate, config: {}\n",
      "\u001b[36m(launch_and_evaluate pid=29448)\u001b[0m Updated model\n",
      "\u001b[36m(launch_and_evaluate pid=29448)\u001b[0m Run WITHOUT homomorphic encryption\n",
      "\u001b[36m(launch_and_evaluate pid=29448)\u001b[0m  To get the checkpoint\n",
      "\u001b[36m(launch_and_evaluate pid=29448)\u001b[0m [Client 2] evaluate, config: {}\n",
      "\u001b[36m(launch_and_evaluate pid=29448)\u001b[0m Updated model\n"
     ]
    },
    {
     "name": "stderr",
     "output_type": "stream",
     "text": [
      "DEBUG flwr 2024-08-30 01:16:42,709 | server.py:187 | evaluate_round 1 received 4 results and 0 failures\n",
      "DEBUG flwr 2024-08-30 01:16:42,710 | server.py:222 | fit_round 2: strategy sampled 4 clients (out of 4)\n"
     ]
    },
    {
     "name": "stdout",
     "output_type": "stream",
     "text": [
      "\u001b[36m(launch_and_fit pid=29448)\u001b[0m Run WITHOUT homomorphic encryption\n",
      "\u001b[36m(launch_and_fit pid=29448)\u001b[0m  To get the checkpoint\n",
      "\u001b[36m(launch_and_fit pid=29448)\u001b[0m [Client 2, round 2] fit, config: {'learning_rate': 0.003, 'batch_size': '16', 'server_round': 2, 'local_epochs': 10}\n",
      "\u001b[36m(launch_and_fit pid=29448)\u001b[0m Updated model\n",
      "\u001b[36m(launch_and_fit pid=29448)\u001b[0m \tTrain Epoch: 1 \tTrain_loss: 1.7870 | Train_acc: 32.6500 % | Validation_loss: 1.6610 | Validation_acc: 41.2202 %\n"
     ]
    },
    {
     "name": "stderr",
     "output_type": "stream",
     "text": [
      "  0%|\u001b[34m          \u001b[0m| 0/10 [00:00<?, ?it/s]\n"
     ]
    },
    {
     "name": "stdout",
     "output_type": "stream",
     "text": [
      "\u001b[36m(launch_and_fit pid=29448)\u001b[0m \tTrain Epoch: 2 \tTrain_loss: 1.7915 | Train_acc: 31.2500 % | Validation_loss: 1.6638 | Validation_acc: 40.1786 %\n",
      "\u001b[36m(launch_and_fit pid=29448)\u001b[0m \tTrain Epoch: 3 \tTrain_loss: 1.7630 | Train_acc: 33.6250 % | Validation_loss: 1.6633 | Validation_acc: 42.2619 %\n",
      "\u001b[36m(launch_and_fit pid=29448)\u001b[0m \tTrain Epoch: 4 \tTrain_loss: 1.7465 | Train_acc: 34.0250 % | Validation_loss: 1.7363 | Validation_acc: 39.1369 %\n"
     ]
    },
    {
     "name": "stderr",
     "output_type": "stream",
     "text": [
      " 20%|\u001b[34m██        \u001b[0m| 2/10 [00:00<00:00,  9.94it/s]\n",
      " 40%|\u001b[34m████      \u001b[0m| 4/10 [00:00<00:00, 10.83it/s]\n"
     ]
    },
    {
     "name": "stdout",
     "output_type": "stream",
     "text": [
      "\u001b[36m(launch_and_fit pid=29448)\u001b[0m \tTrain Epoch: 5 \tTrain_loss: 1.7514 | Train_acc: 34.8250 % | Validation_loss: 1.6806 | Validation_acc: 41.2202 %\n",
      "\u001b[36m(launch_and_fit pid=29448)\u001b[0m \tTrain Epoch: 6 \tTrain_loss: 1.7075 | Train_acc: 35.9500 % | Validation_loss: 1.6951 | Validation_acc: 40.1786 %\n"
     ]
    },
    {
     "name": "stderr",
     "output_type": "stream",
     "text": [
      " 60%|\u001b[34m██████    \u001b[0m| 6/10 [00:00<00:00, 11.02it/s]\n"
     ]
    },
    {
     "name": "stdout",
     "output_type": "stream",
     "text": [
      "\u001b[36m(launch_and_fit pid=29448)\u001b[0m \tTrain Epoch: 7 \tTrain_loss: 1.7082 | Train_acc: 34.9250 % | Validation_loss: 1.6544 | Validation_acc: 41.2202 %\n",
      "\u001b[36m(launch_and_fit pid=29448)\u001b[0m \tTrain Epoch: 8 \tTrain_loss: 1.6837 | Train_acc: 35.0250 % | Validation_loss: 1.7029 | Validation_acc: 40.1786 %\n",
      "\u001b[36m(launch_and_fit pid=29448)\u001b[0m \tTrain Epoch: 9 \tTrain_loss: 1.6588 | Train_acc: 37.2250 % | Validation_loss: 1.7285 | Validation_acc: 40.1786 %\n"
     ]
    },
    {
     "name": "stderr",
     "output_type": "stream",
     "text": [
      " 80%|\u001b[34m████████  \u001b[0m| 8/10 [00:00<00:00, 11.18it/s]\n",
      "100%|\u001b[34m██████████\u001b[0m| 10/10 [00:00<00:00, 11.23it/s]\n"
     ]
    },
    {
     "name": "stdout",
     "output_type": "stream",
     "text": [
      "\u001b[36m(launch_and_fit pid=29448)\u001b[0m \tTrain Epoch: 10 \tTrain_loss: 1.6529 | Train_acc: 36.0500 % | Validation_loss: 1.6987 | Validation_acc: 38.0952 %\n",
      "\u001b[36m(launch_and_fit pid=29448)\u001b[0m save graph in  results/FL/\n",
      "\u001b[36m(launch_and_fit pid=29448)\u001b[0m Run WITHOUT homomorphic encryption\n",
      "\u001b[36m(launch_and_fit pid=29448)\u001b[0m  To get the checkpoint\n",
      "\u001b[36m(launch_and_fit pid=29448)\u001b[0m [Client 0, round 2] fit, config: {'learning_rate': 0.003, 'batch_size': '16', 'server_round': 2, 'local_epochs': 10}\n",
      "\u001b[36m(launch_and_fit pid=29448)\u001b[0m Updated model\n",
      "\u001b[36m(launch_and_fit pid=29448)\u001b[0m \tTrain Epoch: 1 \tTrain_loss: 1.7806 | Train_acc: 30.6500 % | Validation_loss: 1.8053 | Validation_acc: 27.6786 %\n"
     ]
    },
    {
     "name": "stderr",
     "output_type": "stream",
     "text": [
      "  0%|\u001b[34m          \u001b[0m| 0/10 [00:00<?, ?it/s]\n"
     ]
    },
    {
     "name": "stdout",
     "output_type": "stream",
     "text": [
      "\u001b[36m(launch_and_fit pid=29448)\u001b[0m \tTrain Epoch: 2 \tTrain_loss: 1.7322 | Train_acc: 32.1750 % | Validation_loss: 1.7777 | Validation_acc: 27.6786 %\n",
      "\u001b[36m(launch_and_fit pid=29448)\u001b[0m \tTrain Epoch: 3 \tTrain_loss: 1.7287 | Train_acc: 34.0500 % | Validation_loss: 1.7675 | Validation_acc: 26.6369 %\n",
      "\u001b[36m(launch_and_fit pid=29448)\u001b[0m \tTrain Epoch: 4 \tTrain_loss: 1.7171 | Train_acc: 33.1750 % | Validation_loss: 1.7682 | Validation_acc: 30.0595 %\n"
     ]
    },
    {
     "name": "stderr",
     "output_type": "stream",
     "text": [
      " 20%|\u001b[34m██        \u001b[0m| 2/10 [00:00<00:00, 12.08it/s]\n",
      " 40%|\u001b[34m████      \u001b[0m| 4/10 [00:00<00:00, 11.86it/s]\n"
     ]
    },
    {
     "name": "stdout",
     "output_type": "stream",
     "text": [
      "\u001b[36m(launch_and_fit pid=29448)\u001b[0m \tTrain Epoch: 5 \tTrain_loss: 1.7120 | Train_acc: 34.4000 % | Validation_loss: 1.7744 | Validation_acc: 25.5952 %\n",
      "\u001b[36m(launch_and_fit pid=29448)\u001b[0m \tTrain Epoch: 6 \tTrain_loss: 1.7154 | Train_acc: 32.8000 % | Validation_loss: 1.7508 | Validation_acc: 32.1429 %\n"
     ]
    },
    {
     "name": "stderr",
     "output_type": "stream",
     "text": [
      " 60%|\u001b[34m██████    \u001b[0m| 6/10 [00:00<00:00, 12.01it/s]\n",
      " 80%|\u001b[34m████████  \u001b[0m| 8/10 [00:00<00:00, 11.95it/s]\n"
     ]
    },
    {
     "name": "stdout",
     "output_type": "stream",
     "text": [
      "\u001b[36m(launch_and_fit pid=29448)\u001b[0m \tTrain Epoch: 7 \tTrain_loss: 1.6966 | Train_acc: 33.1500 % | Validation_loss: 1.7472 | Validation_acc: 29.7619 %\n",
      "\u001b[36m(launch_and_fit pid=29448)\u001b[0m \tTrain Epoch: 8 \tTrain_loss: 1.6790 | Train_acc: 34.5250 % | Validation_loss: 1.7494 | Validation_acc: 29.7619 %\n",
      "\u001b[36m(launch_and_fit pid=29448)\u001b[0m \tTrain Epoch: 9 \tTrain_loss: 1.6697 | Train_acc: 36.3000 % | Validation_loss: 1.7254 | Validation_acc: 27.6786 %\n",
      "\u001b[36m(launch_and_fit pid=29448)\u001b[0m \tTrain Epoch: 10 \tTrain_loss: 1.6650 | Train_acc: 34.9000 % | Validation_loss: 1.7397 | Validation_acc: 28.7202 %\n",
      "\u001b[36m(launch_and_fit pid=29448)\u001b[0m save graph in  results/FL/\n"
     ]
    },
    {
     "name": "stderr",
     "output_type": "stream",
     "text": [
      "100%|\u001b[34m██████████\u001b[0m| 10/10 [00:00<00:00, 12.08it/s]\n"
     ]
    },
    {
     "name": "stdout",
     "output_type": "stream",
     "text": [
      "\u001b[36m(launch_and_fit pid=29448)\u001b[0m Run WITHOUT homomorphic encryption\n",
      "\u001b[36m(launch_and_fit pid=29448)\u001b[0m  To get the checkpoint\n",
      "\u001b[36m(launch_and_fit pid=29448)\u001b[0m [Client 1, round 2] fit, config: {'learning_rate': 0.003, 'batch_size': '16', 'server_round': 2, 'local_epochs': 10}\n",
      "\u001b[36m(launch_and_fit pid=29448)\u001b[0m Updated model\n",
      "\u001b[36m(launch_and_fit pid=29448)\u001b[0m \tTrain Epoch: 1 \tTrain_loss: 1.7964 | Train_acc: 28.7750 % | Validation_loss: 1.5840 | Validation_acc: 40.7738 %\n",
      "\u001b[36m(launch_and_fit pid=29448)\u001b[0m \tTrain Epoch: 2 \tTrain_loss: 1.7746 | Train_acc: 30.6750 % | Validation_loss: 1.5579 | Validation_acc: 43.1548 %\n"
     ]
    },
    {
     "name": "stderr",
     "output_type": "stream",
     "text": [
      "  0%|\u001b[34m          \u001b[0m| 0/10 [00:00<?, ?it/s]\n",
      " 20%|\u001b[34m██        \u001b[0m| 2/10 [00:00<00:00, 11.68it/s]\n"
     ]
    },
    {
     "name": "stdout",
     "output_type": "stream",
     "text": [
      "\u001b[36m(launch_and_fit pid=29448)\u001b[0m \tTrain Epoch: 3 \tTrain_loss: 1.7904 | Train_acc: 31.7000 % | Validation_loss: 1.6426 | Validation_acc: 43.1548 %\n",
      "\u001b[36m(launch_and_fit pid=29448)\u001b[0m \tTrain Epoch: 4 \tTrain_loss: 1.7567 | Train_acc: 32.0500 % | Validation_loss: 1.5930 | Validation_acc: 41.8155 %\n"
     ]
    },
    {
     "name": "stderr",
     "output_type": "stream",
     "text": [
      " 40%|\u001b[34m████      \u001b[0m| 4/10 [00:00<00:00, 11.63it/s]\n"
     ]
    },
    {
     "name": "stdout",
     "output_type": "stream",
     "text": [
      "\u001b[36m(launch_and_fit pid=29448)\u001b[0m \tTrain Epoch: 5 \tTrain_loss: 1.7422 | Train_acc: 33.1250 % | Validation_loss: 1.6189 | Validation_acc: 43.1548 %\n",
      "\u001b[36m(launch_and_fit pid=29448)\u001b[0m \tTrain Epoch: 6 \tTrain_loss: 1.7462 | Train_acc: 33.2750 % | Validation_loss: 1.5469 | Validation_acc: 43.8988 %\n",
      "\u001b[36m(launch_and_fit pid=29448)\u001b[0m \tTrain Epoch: 7 \tTrain_loss: 1.7396 | Train_acc: 32.6500 % | Validation_loss: 1.7114 | Validation_acc: 35.5655 %\n"
     ]
    },
    {
     "name": "stderr",
     "output_type": "stream",
     "text": [
      " 60%|\u001b[34m██████    \u001b[0m| 6/10 [00:00<00:00, 11.95it/s]\n",
      " 80%|\u001b[34m████████  \u001b[0m| 8/10 [00:00<00:00, 11.86it/s]\n"
     ]
    },
    {
     "name": "stdout",
     "output_type": "stream",
     "text": [
      "\u001b[36m(launch_and_fit pid=29448)\u001b[0m \tTrain Epoch: 8 \tTrain_loss: 1.7271 | Train_acc: 34.6750 % | Validation_loss: 1.5525 | Validation_acc: 42.8571 %\n",
      "\u001b[36m(launch_and_fit pid=29448)\u001b[0m \tTrain Epoch: 9 \tTrain_loss: 1.7689 | Train_acc: 32.0500 % | Validation_loss: 1.7646 | Validation_acc: 36.6071 %\n",
      "\u001b[36m(launch_and_fit pid=29448)\u001b[0m \tTrain Epoch: 10 \tTrain_loss: 1.7260 | Train_acc: 33.6750 % | Validation_loss: 1.5761 | Validation_acc: 43.1548 %\n",
      "\u001b[36m(launch_and_fit pid=29448)\u001b[0m save graph in  results/FL/\n"
     ]
    },
    {
     "name": "stderr",
     "output_type": "stream",
     "text": [
      "100%|\u001b[34m██████████\u001b[0m| 10/10 [00:00<00:00, 11.97it/s]\n"
     ]
    },
    {
     "name": "stdout",
     "output_type": "stream",
     "text": [
      "\u001b[36m(launch_and_fit pid=29448)\u001b[0m Run WITHOUT homomorphic encryption\n",
      "\u001b[36m(launch_and_fit pid=29448)\u001b[0m  To get the checkpoint\n",
      "\u001b[36m(launch_and_fit pid=29448)\u001b[0m [Client 3, round 2] fit, config: {'learning_rate': 0.003, 'batch_size': '16', 'server_round': 2, 'local_epochs': 10}\n",
      "\u001b[36m(launch_and_fit pid=29448)\u001b[0m Updated model\n",
      "\u001b[36m(launch_and_fit pid=29448)\u001b[0m \tTrain Epoch: 1 \tTrain_loss: 1.8240 | Train_acc: 29.4000 % | Validation_loss: 1.7916 | Validation_acc: 23.9583 %\n",
      "\u001b[36m(launch_and_fit pid=29448)\u001b[0m \tTrain Epoch: 2 \tTrain_loss: 1.7633 | Train_acc: 31.0500 % | Validation_loss: 1.7696 | Validation_acc: 26.3393 %\n"
     ]
    },
    {
     "name": "stderr",
     "output_type": "stream",
     "text": [
      "  0%|\u001b[34m          \u001b[0m| 0/10 [00:00<?, ?it/s]\n",
      " 20%|\u001b[34m██        \u001b[0m| 2/10 [00:00<00:00, 11.61it/s]\n"
     ]
    },
    {
     "name": "stdout",
     "output_type": "stream",
     "text": [
      "\u001b[36m(launch_and_fit pid=29448)\u001b[0m \tTrain Epoch: 3 \tTrain_loss: 1.7370 | Train_acc: 31.5500 % | Validation_loss: 1.8134 | Validation_acc: 25.0000 %\n",
      "\u001b[36m(launch_and_fit pid=29448)\u001b[0m \tTrain Epoch: 4 \tTrain_loss: 1.7488 | Train_acc: 31.3750 % | Validation_loss: 1.7630 | Validation_acc: 22.1726 %\n"
     ]
    },
    {
     "name": "stderr",
     "output_type": "stream",
     "text": [
      " 40%|\u001b[34m████      \u001b[0m| 4/10 [00:00<00:00, 11.79it/s]\n"
     ]
    },
    {
     "name": "stdout",
     "output_type": "stream",
     "text": [
      "\u001b[36m(launch_and_fit pid=29448)\u001b[0m \tTrain Epoch: 5 \tTrain_loss: 1.7378 | Train_acc: 29.3000 % | Validation_loss: 1.8193 | Validation_acc: 29.4643 %\n",
      "\u001b[36m(launch_and_fit pid=29448)\u001b[0m \tTrain Epoch: 6 \tTrain_loss: 1.7105 | Train_acc: 32.3000 % | Validation_loss: 1.7344 | Validation_acc: 27.3810 %\n",
      "\u001b[36m(launch_and_fit pid=29448)\u001b[0m \tTrain Epoch: 7 \tTrain_loss: 1.7086 | Train_acc: 32.6750 % | Validation_loss: 1.7972 | Validation_acc: 26.3393 %\n"
     ]
    },
    {
     "name": "stderr",
     "output_type": "stream",
     "text": [
      " 60%|\u001b[34m██████    \u001b[0m| 6/10 [00:00<00:00, 11.54it/s]\n",
      " 80%|\u001b[34m████████  \u001b[0m| 8/10 [00:00<00:00, 11.66it/s]\n"
     ]
    },
    {
     "name": "stdout",
     "output_type": "stream",
     "text": [
      "\u001b[36m(launch_and_fit pid=29448)\u001b[0m \tTrain Epoch: 8 \tTrain_loss: 1.7033 | Train_acc: 33.6750 % | Validation_loss: 1.8535 | Validation_acc: 23.9583 %\n",
      "\u001b[36m(launch_and_fit pid=29448)\u001b[0m \tTrain Epoch: 9 \tTrain_loss: 1.6824 | Train_acc: 36.4500 % | Validation_loss: 1.8554 | Validation_acc: 23.9583 %\n"
     ]
    },
    {
     "name": "stderr",
     "output_type": "stream",
     "text": [
      "100%|\u001b[34m██████████\u001b[0m| 10/10 [00:00<00:00, 11.57it/s]\n",
      "DEBUG flwr 2024-08-30 01:16:47,701 | server.py:236 | fit_round 2 received 4 results and 0 failures\n",
      "INFO flwr 2024-08-30 01:16:47,760 | server.py:125 | fit progress: (2, 1.7543956604870883, {'accuracy': 33.409090909090914}, 17.032715461216867)\n",
      "DEBUG flwr 2024-08-30 01:16:47,761 | server.py:173 | evaluate_round 2: strategy sampled 4 clients (out of 4)\n"
     ]
    },
    {
     "name": "stdout",
     "output_type": "stream",
     "text": [
      "\u001b[36m(launch_and_fit pid=29448)\u001b[0m \tTrain Epoch: 10 \tTrain_loss: 1.6720 | Train_acc: 35.5750 % | Validation_loss: 1.6928 | Validation_acc: 27.3810 %\n",
      "\u001b[36m(launch_and_fit pid=29448)\u001b[0m save graph in  results/FL/\n",
      "Saving round 2 aggregated_parameters...\n",
      "Updated model\n",
      "Server-side evaluation loss 1.7543956604870883 / accuracy 33.409090909090914\n",
      "\u001b[36m(launch_and_evaluate pid=29448)\u001b[0m Run WITHOUT homomorphic encryption\n",
      "\u001b[36m(launch_and_evaluate pid=29448)\u001b[0m  To get the checkpoint\n",
      "\u001b[36m(launch_and_evaluate pid=29448)\u001b[0m [Client 3] evaluate, config: {}\n",
      "\u001b[36m(launch_and_evaluate pid=29448)\u001b[0m Updated model\n",
      "\u001b[36m(launch_and_evaluate pid=29448)\u001b[0m Run WITHOUT homomorphic encryption\n",
      "\u001b[36m(launch_and_evaluate pid=29448)\u001b[0m  To get the checkpoint\n",
      "\u001b[36m(launch_and_evaluate pid=29448)\u001b[0m [Client 2] evaluate, config: {}\n",
      "\u001b[36m(launch_and_evaluate pid=29448)\u001b[0m Updated model\n",
      "\u001b[36m(launch_and_evaluate pid=29448)\u001b[0m Run WITHOUT homomorphic encryption\n",
      "\u001b[36m(launch_and_evaluate pid=29448)\u001b[0m  To get the checkpoint\n",
      "\u001b[36m(launch_and_evaluate pid=29448)\u001b[0m [Client 0] evaluate, config: {}\n",
      "\u001b[36m(launch_and_evaluate pid=29448)\u001b[0m Updated model\n",
      "\u001b[36m(launch_and_evaluate pid=29448)\u001b[0m Run WITHOUT homomorphic encryption\n",
      "\u001b[36m(launch_and_evaluate pid=29448)\u001b[0m  To get the checkpoint\n",
      "\u001b[36m(launch_and_evaluate pid=29448)\u001b[0m [Client 1] evaluate, config: {}\n",
      "\u001b[36m(launch_and_evaluate pid=29448)\u001b[0m Updated model\n"
     ]
    },
    {
     "name": "stderr",
     "output_type": "stream",
     "text": [
      "DEBUG flwr 2024-08-30 01:16:53,784 | server.py:187 | evaluate_round 2 received 4 results and 0 failures\n",
      "DEBUG flwr 2024-08-30 01:16:53,785 | server.py:222 | fit_round 3: strategy sampled 4 clients (out of 4)\n"
     ]
    },
    {
     "name": "stdout",
     "output_type": "stream",
     "text": [
      "\u001b[36m(launch_and_fit pid=29448)\u001b[0m Run WITHOUT homomorphic encryption\n",
      "\u001b[36m(launch_and_fit pid=29448)\u001b[0m  To get the checkpoint\n",
      "\u001b[36m(launch_and_fit pid=29448)\u001b[0m [Client 1, round 3] fit, config: {'learning_rate': 0.003, 'batch_size': '16', 'server_round': 3, 'local_epochs': 10}\n",
      "\u001b[36m(launch_and_fit pid=29448)\u001b[0m Updated model\n"
     ]
    },
    {
     "name": "stderr",
     "output_type": "stream",
     "text": [
      "  0%|\u001b[34m          \u001b[0m| 0/10 [00:00<?, ?it/s]\n"
     ]
    },
    {
     "name": "stdout",
     "output_type": "stream",
     "text": [
      "\u001b[36m(launch_and_fit pid=29448)\u001b[0m \tTrain Epoch: 1 \tTrain_loss: 1.7390 | Train_acc: 34.0500 % | Validation_loss: 1.5213 | Validation_acc: 44.9405 %\n"
     ]
    },
    {
     "name": "stderr",
     "output_type": "stream",
     "text": [
      " 10%|\u001b[34m█         \u001b[0m| 1/10 [00:00<00:06,  1.43it/s]\n"
     ]
    },
    {
     "name": "stdout",
     "output_type": "stream",
     "text": [
      "\u001b[36m(launch_and_fit pid=29448)\u001b[0m \tTrain Epoch: 2 \tTrain_loss: 1.7191 | Train_acc: 33.9000 % | Validation_loss: 1.6295 | Validation_acc: 40.0298 %\n"
     ]
    },
    {
     "name": "stderr",
     "output_type": "stream",
     "text": [
      " 20%|\u001b[34m██        \u001b[0m| 2/10 [00:01<00:03,  2.10it/s]\n"
     ]
    },
    {
     "name": "stdout",
     "output_type": "stream",
     "text": [
      "\u001b[36m(launch_and_fit pid=29448)\u001b[0m \tTrain Epoch: 3 \tTrain_loss: 1.7243 | Train_acc: 34.3000 % | Validation_loss: 1.5761 | Validation_acc: 41.0714 %\n"
     ]
    },
    {
     "name": "stderr",
     "output_type": "stream",
     "text": [
      " 30%|\u001b[34m███       \u001b[0m| 3/10 [00:01<00:04,  1.49it/s]\n"
     ]
    },
    {
     "name": "stdout",
     "output_type": "stream",
     "text": [
      "\u001b[36m(launch_and_fit pid=29448)\u001b[0m \tTrain Epoch: 4 \tTrain_loss: 1.6976 | Train_acc: 34.2250 % | Validation_loss: 1.5514 | Validation_acc: 40.7738 %\n"
     ]
    },
    {
     "name": "stderr",
     "output_type": "stream",
     "text": [
      " 40%|\u001b[34m████      \u001b[0m| 4/10 [00:02<00:04,  1.46it/s]\n"
     ]
    },
    {
     "name": "stdout",
     "output_type": "stream",
     "text": [
      "\u001b[36m(launch_and_fit pid=29448)\u001b[0m \tTrain Epoch: 5 \tTrain_loss: 1.7038 | Train_acc: 33.9250 % | Validation_loss: 1.6232 | Validation_acc: 38.6905 %\n"
     ]
    },
    {
     "name": "stderr",
     "output_type": "stream",
     "text": [
      " 50%|\u001b[34m█████     \u001b[0m| 5/10 [00:03<00:03,  1.40it/s]\n"
     ]
    },
    {
     "name": "stdout",
     "output_type": "stream",
     "text": [
      "\u001b[36m(launch_and_fit pid=29448)\u001b[0m \tTrain Epoch: 6 \tTrain_loss: 1.7322 | Train_acc: 31.2500 % | Validation_loss: 1.6662 | Validation_acc: 32.4405 %\n"
     ]
    },
    {
     "name": "stderr",
     "output_type": "stream",
     "text": [
      " 60%|\u001b[34m██████    \u001b[0m| 6/10 [00:04<00:02,  1.46it/s]\n"
     ]
    },
    {
     "name": "stdout",
     "output_type": "stream",
     "text": [
      "\u001b[36m(launch_and_fit pid=29448)\u001b[0m \tTrain Epoch: 7 \tTrain_loss: 1.6733 | Train_acc: 37.4250 % | Validation_loss: 1.6972 | Validation_acc: 44.1964 %\n"
     ]
    },
    {
     "name": "stderr",
     "output_type": "stream",
     "text": [
      " 70%|\u001b[34m███████   \u001b[0m| 7/10 [00:04<00:02,  1.46it/s]\n"
     ]
    },
    {
     "name": "stdout",
     "output_type": "stream",
     "text": [
      "\u001b[36m(launch_and_fit pid=29448)\u001b[0m \tTrain Epoch: 8 \tTrain_loss: 1.6750 | Train_acc: 35.0500 % | Validation_loss: 1.5499 | Validation_acc: 42.1131 %\n"
     ]
    },
    {
     "name": "stderr",
     "output_type": "stream",
     "text": [
      " 80%|\u001b[34m████████  \u001b[0m| 8/10 [00:05<00:01,  1.60it/s]\n"
     ]
    },
    {
     "name": "stdout",
     "output_type": "stream",
     "text": [
      "\u001b[36m(launch_and_fit pid=29448)\u001b[0m \tTrain Epoch: 9 \tTrain_loss: 1.6436 | Train_acc: 37.5500 % | Validation_loss: 1.6221 | Validation_acc: 32.4405 %\n"
     ]
    },
    {
     "name": "stderr",
     "output_type": "stream",
     "text": [
      " 90%|\u001b[34m█████████ \u001b[0m| 9/10 [00:05<00:00,  1.70it/s]\n"
     ]
    },
    {
     "name": "stdout",
     "output_type": "stream",
     "text": [
      "\u001b[36m(launch_and_fit pid=29448)\u001b[0m \tTrain Epoch: 10 \tTrain_loss: 1.6606 | Train_acc: 36.5750 % | Validation_loss: 1.6390 | Validation_acc: 37.6488 %\n",
      "\u001b[36m(launch_and_fit pid=29448)\u001b[0m save graph in  results/FL/\n"
     ]
    },
    {
     "name": "stderr",
     "output_type": "stream",
     "text": [
      "100%|\u001b[34m██████████\u001b[0m| 10/10 [00:06<00:00,  1.61it/s]\n"
     ]
    },
    {
     "name": "stdout",
     "output_type": "stream",
     "text": [
      "\u001b[36m(launch_and_fit pid=29448)\u001b[0m Run WITHOUT homomorphic encryption\n",
      "\u001b[36m(launch_and_fit pid=29448)\u001b[0m  To get the checkpoint\n",
      "\u001b[36m(launch_and_fit pid=29448)\u001b[0m [Client 3, round 3] fit, config: {'learning_rate': 0.003, 'batch_size': '16', 'server_round': 3, 'local_epochs': 10}\n",
      "\u001b[36m(launch_and_fit pid=29448)\u001b[0m Updated model\n"
     ]
    },
    {
     "name": "stderr",
     "output_type": "stream",
     "text": [
      "  0%|\u001b[34m          \u001b[0m| 0/10 [00:00<?, ?it/s]\n"
     ]
    },
    {
     "name": "stdout",
     "output_type": "stream",
     "text": [
      "\u001b[36m(launch_and_fit pid=29448)\u001b[0m \tTrain Epoch: 1 \tTrain_loss: 1.7098 | Train_acc: 32.2500 % | Validation_loss: 1.7039 | Validation_acc: 26.0417 %\n"
     ]
    },
    {
     "name": "stderr",
     "output_type": "stream",
     "text": [
      " 10%|\u001b[34m█         \u001b[0m| 1/10 [00:00<00:08,  1.10it/s]\n"
     ]
    },
    {
     "name": "stdout",
     "output_type": "stream",
     "text": [
      "\u001b[36m(launch_and_fit pid=29448)\u001b[0m \tTrain Epoch: 2 \tTrain_loss: 1.6955 | Train_acc: 34.0750 % | Validation_loss: 1.7581 | Validation_acc: 35.2679 %\n"
     ]
    },
    {
     "name": "stderr",
     "output_type": "stream",
     "text": [
      " 20%|\u001b[34m██        \u001b[0m| 2/10 [00:01<00:05,  1.38it/s]\n"
     ]
    },
    {
     "name": "stdout",
     "output_type": "stream",
     "text": [
      "\u001b[36m(launch_and_fit pid=29448)\u001b[0m \tTrain Epoch: 3 \tTrain_loss: 1.6758 | Train_acc: 35.3000 % | Validation_loss: 1.6569 | Validation_acc: 29.4643 %\n"
     ]
    },
    {
     "name": "stderr",
     "output_type": "stream",
     "text": [
      " 30%|\u001b[34m███       \u001b[0m| 3/10 [00:02<00:05,  1.31it/s]\n"
     ]
    },
    {
     "name": "stdout",
     "output_type": "stream",
     "text": [
      "\u001b[36m(launch_and_fit pid=29448)\u001b[0m \tTrain Epoch: 4 \tTrain_loss: 1.6336 | Train_acc: 36.0250 % | Validation_loss: 1.6977 | Validation_acc: 34.2262 %\n"
     ]
    },
    {
     "name": "stderr",
     "output_type": "stream",
     "text": [
      " 40%|\u001b[34m████      \u001b[0m| 4/10 [00:02<00:04,  1.44it/s]\n"
     ]
    },
    {
     "name": "stdout",
     "output_type": "stream",
     "text": [
      "\u001b[36m(launch_and_fit pid=29448)\u001b[0m \tTrain Epoch: 5 \tTrain_loss: 1.6623 | Train_acc: 35.8000 % | Validation_loss: 1.6860 | Validation_acc: 31.3988 %\n"
     ]
    },
    {
     "name": "stderr",
     "output_type": "stream",
     "text": [
      " 50%|\u001b[34m█████     \u001b[0m| 5/10 [00:03<00:03,  1.61it/s]\n"
     ]
    },
    {
     "name": "stdout",
     "output_type": "stream",
     "text": [
      "\u001b[36m(launch_and_fit pid=29448)\u001b[0m \tTrain Epoch: 6 \tTrain_loss: 1.6238 | Train_acc: 39.0750 % | Validation_loss: 1.6235 | Validation_acc: 34.9702 %\n"
     ]
    },
    {
     "name": "stderr",
     "output_type": "stream",
     "text": [
      " 60%|\u001b[34m██████    \u001b[0m| 6/10 [00:03<00:02,  1.95it/s]\n"
     ]
    },
    {
     "name": "stdout",
     "output_type": "stream",
     "text": [
      "\u001b[36m(launch_and_fit pid=29448)\u001b[0m \tTrain Epoch: 7 \tTrain_loss: 1.5988 | Train_acc: 38.7000 % | Validation_loss: 1.7166 | Validation_acc: 28.7202 %\n"
     ]
    },
    {
     "name": "stderr",
     "output_type": "stream",
     "text": [
      " 70%|\u001b[34m███████   \u001b[0m| 7/10 [00:03<00:01,  2.26it/s]\n"
     ]
    },
    {
     "name": "stdout",
     "output_type": "stream",
     "text": [
      "\u001b[36m(launch_and_fit pid=29448)\u001b[0m \tTrain Epoch: 8 \tTrain_loss: 1.6003 | Train_acc: 37.7750 % | Validation_loss: 1.6462 | Validation_acc: 38.6905 %\n"
     ]
    },
    {
     "name": "stderr",
     "output_type": "stream",
     "text": [
      " 80%|\u001b[34m████████  \u001b[0m| 8/10 [00:04<00:00,  2.01it/s]\n"
     ]
    },
    {
     "name": "stdout",
     "output_type": "stream",
     "text": [
      "\u001b[36m(launch_and_fit pid=29448)\u001b[0m \tTrain Epoch: 9 \tTrain_loss: 1.5778 | Train_acc: 41.4500 % | Validation_loss: 1.6550 | Validation_acc: 38.3929 %\n"
     ]
    },
    {
     "name": "stderr",
     "output_type": "stream",
     "text": [
      " 90%|\u001b[34m█████████ \u001b[0m| 9/10 [00:04<00:00,  2.31it/s]\n"
     ]
    },
    {
     "name": "stdout",
     "output_type": "stream",
     "text": [
      "\u001b[36m(launch_and_fit pid=29448)\u001b[0m \tTrain Epoch: 10 \tTrain_loss: 1.5452 | Train_acc: 41.6250 % | Validation_loss: 1.7509 | Validation_acc: 29.4643 %\n",
      "\u001b[36m(launch_and_fit pid=29448)\u001b[0m save graph in  results/FL/\n"
     ]
    },
    {
     "name": "stderr",
     "output_type": "stream",
     "text": [
      "100%|\u001b[34m██████████\u001b[0m| 10/10 [00:05<00:00,  1.92it/s]\n"
     ]
    },
    {
     "name": "stdout",
     "output_type": "stream",
     "text": [
      "\u001b[36m(launch_and_fit pid=29448)\u001b[0m Run WITHOUT homomorphic encryption\n",
      "\u001b[36m(launch_and_fit pid=29448)\u001b[0m  To get the checkpoint\n",
      "\u001b[36m(launch_and_fit pid=29448)\u001b[0m [Client 2, round 3] fit, config: {'learning_rate': 0.003, 'batch_size': '16', 'server_round': 3, 'local_epochs': 10}\n",
      "\u001b[36m(launch_and_fit pid=29448)\u001b[0m Updated model\n"
     ]
    },
    {
     "name": "stderr",
     "output_type": "stream",
     "text": [
      "  0%|\u001b[34m          \u001b[0m| 0/10 [00:00<?, ?it/s]\n"
     ]
    },
    {
     "name": "stdout",
     "output_type": "stream",
     "text": [
      "\u001b[36m(launch_and_fit pid=29448)\u001b[0m \tTrain Epoch: 1 \tTrain_loss: 1.7361 | Train_acc: 35.3000 % | Validation_loss: 1.6909 | Validation_acc: 40.1786 %\n"
     ]
    },
    {
     "name": "stderr",
     "output_type": "stream",
     "text": [
      " 10%|\u001b[34m█         \u001b[0m| 1/10 [00:00<00:06,  1.43it/s]\n"
     ]
    },
    {
     "name": "stdout",
     "output_type": "stream",
     "text": [
      "\u001b[36m(launch_and_fit pid=29448)\u001b[0m \tTrain Epoch: 2 \tTrain_loss: 1.7046 | Train_acc: 36.0250 % | Validation_loss: 1.6070 | Validation_acc: 42.2619 %\n"
     ]
    },
    {
     "name": "stderr",
     "output_type": "stream",
     "text": [
      " 20%|\u001b[34m██        \u001b[0m| 2/10 [00:01<00:05,  1.41it/s]\n"
     ]
    },
    {
     "name": "stdout",
     "output_type": "stream",
     "text": [
      "\u001b[36m(launch_and_fit pid=29448)\u001b[0m \tTrain Epoch: 3 \tTrain_loss: 1.7009 | Train_acc: 35.1500 % | Validation_loss: 1.6116 | Validation_acc: 42.2619 %\n"
     ]
    },
    {
     "name": "stderr",
     "output_type": "stream",
     "text": [
      " 30%|\u001b[34m███       \u001b[0m| 3/10 [00:02<00:05,  1.21it/s]\n"
     ]
    },
    {
     "name": "stdout",
     "output_type": "stream",
     "text": [
      "\u001b[36m(launch_and_fit pid=29448)\u001b[0m \tTrain Epoch: 4 \tTrain_loss: 1.6883 | Train_acc: 35.0500 % | Validation_loss: 1.7407 | Validation_acc: 40.1786 %\n"
     ]
    },
    {
     "name": "stderr",
     "output_type": "stream",
     "text": [
      " 40%|\u001b[34m████      \u001b[0m| 4/10 [00:02<00:04,  1.43it/s]\n"
     ]
    },
    {
     "name": "stdout",
     "output_type": "stream",
     "text": [
      "\u001b[36m(launch_and_fit pid=29448)\u001b[0m \tTrain Epoch: 5 \tTrain_loss: 1.6731 | Train_acc: 36.2750 % | Validation_loss: 1.6164 | Validation_acc: 41.2202 %\n"
     ]
    },
    {
     "name": "stderr",
     "output_type": "stream",
     "text": [
      " 50%|\u001b[34m█████     \u001b[0m| 5/10 [00:03<00:02,  1.77it/s]\n"
     ]
    },
    {
     "name": "stdout",
     "output_type": "stream",
     "text": [
      "\u001b[36m(launch_and_fit pid=29448)\u001b[0m \tTrain Epoch: 6 \tTrain_loss: 1.6399 | Train_acc: 36.5250 % | Validation_loss: 1.6201 | Validation_acc: 41.2202 %\n"
     ]
    },
    {
     "name": "stderr",
     "output_type": "stream",
     "text": [
      " 60%|\u001b[34m██████    \u001b[0m| 6/10 [00:04<00:02,  1.56it/s]\n"
     ]
    },
    {
     "name": "stdout",
     "output_type": "stream",
     "text": [
      "\u001b[36m(launch_and_fit pid=29448)\u001b[0m \tTrain Epoch: 7 \tTrain_loss: 1.6404 | Train_acc: 39.9500 % | Validation_loss: 1.6508 | Validation_acc: 41.2202 %\n"
     ]
    },
    {
     "name": "stderr",
     "output_type": "stream",
     "text": [
      " 70%|\u001b[34m███████   \u001b[0m| 7/10 [00:04<00:02,  1.46it/s]\n"
     ]
    },
    {
     "name": "stdout",
     "output_type": "stream",
     "text": [
      "\u001b[36m(launch_and_fit pid=29448)\u001b[0m \tTrain Epoch: 8 \tTrain_loss: 1.6027 | Train_acc: 40.9500 % | Validation_loss: 1.5897 | Validation_acc: 43.3036 %\n"
     ]
    },
    {
     "name": "stderr",
     "output_type": "stream",
     "text": [
      " 80%|\u001b[34m████████  \u001b[0m| 8/10 [00:05<00:01,  1.77it/s]\n"
     ]
    },
    {
     "name": "stdout",
     "output_type": "stream",
     "text": [
      "\u001b[36m(launch_and_fit pid=29448)\u001b[0m \tTrain Epoch: 9 \tTrain_loss: 1.5791 | Train_acc: 39.4000 % | Validation_loss: 1.6743 | Validation_acc: 41.8155 %\n"
     ]
    },
    {
     "name": "stderr",
     "output_type": "stream",
     "text": [
      " 90%|\u001b[34m█████████ \u001b[0m| 9/10 [00:05<00:00,  1.83it/s]\n"
     ]
    },
    {
     "name": "stdout",
     "output_type": "stream",
     "text": [
      "\u001b[36m(launch_and_fit pid=29448)\u001b[0m \tTrain Epoch: 10 \tTrain_loss: 1.5807 | Train_acc: 39.6500 % | Validation_loss: 1.6746 | Validation_acc: 41.2202 %\n",
      "\u001b[36m(launch_and_fit pid=29448)\u001b[0m save graph in  results/FL/\n"
     ]
    },
    {
     "name": "stderr",
     "output_type": "stream",
     "text": [
      "100%|\u001b[34m██████████\u001b[0m| 10/10 [00:05<00:00,  1.69it/s]\n",
      "\u001b[36m(launch_and_fit pid=29448)\u001b[0m /work/PILL (5075105)/QFML-QF-2024/src/utils/common.py:447: RuntimeWarning: More than 20 figures have been opened. Figures created through the pyplot interface (`matplotlib.pyplot.figure`) are retained until explicitly closed and may consume too much memory. (To control this warning, see the rcParam `figure.max_open_warning`). Consider using `matplotlib.pyplot.close()`.\n",
      "\u001b[36m(launch_and_fit pid=29448)\u001b[0m   plt.figure()\n"
     ]
    },
    {
     "name": "stdout",
     "output_type": "stream",
     "text": [
      "\u001b[36m(launch_and_fit pid=29448)\u001b[0m Run WITHOUT homomorphic encryption\n",
      "\u001b[36m(launch_and_fit pid=29448)\u001b[0m  To get the checkpoint\n",
      "\u001b[36m(launch_and_fit pid=29448)\u001b[0m [Client 0, round 3] fit, config: {'learning_rate': 0.003, 'batch_size': '16', 'server_round': 3, 'local_epochs': 10}\n",
      "\u001b[36m(launch_and_fit pid=29448)\u001b[0m Updated model\n"
     ]
    },
    {
     "name": "stderr",
     "output_type": "stream",
     "text": [
      "  0%|\u001b[34m          \u001b[0m| 0/10 [00:00<?, ?it/s]\n"
     ]
    },
    {
     "name": "stdout",
     "output_type": "stream",
     "text": [
      "\u001b[36m(launch_and_fit pid=29448)\u001b[0m \tTrain Epoch: 1 \tTrain_loss: 1.7125 | Train_acc: 33.7000 % | Validation_loss: 1.7280 | Validation_acc: 29.7619 %\n"
     ]
    },
    {
     "name": "stderr",
     "output_type": "stream",
     "text": [
      " 10%|\u001b[34m█         \u001b[0m| 1/10 [00:00<00:06,  1.39it/s]\n"
     ]
    },
    {
     "name": "stdout",
     "output_type": "stream",
     "text": [
      "\u001b[36m(launch_and_fit pid=29448)\u001b[0m \tTrain Epoch: 2 \tTrain_loss: 1.6665 | Train_acc: 35.9750 % | Validation_loss: 1.7287 | Validation_acc: 33.1845 %\n"
     ]
    },
    {
     "name": "stderr",
     "output_type": "stream",
     "text": [
      " 20%|\u001b[34m██        \u001b[0m| 2/10 [00:01<00:06,  1.32it/s]\n"
     ]
    },
    {
     "name": "stdout",
     "output_type": "stream",
     "text": [
      "\u001b[36m(launch_and_fit pid=29448)\u001b[0m \tTrain Epoch: 3 \tTrain_loss: 1.6598 | Train_acc: 36.2000 % | Validation_loss: 1.7373 | Validation_acc: 27.9762 %\n"
     ]
    },
    {
     "name": "stderr",
     "output_type": "stream",
     "text": [
      " 30%|\u001b[34m███       \u001b[0m| 3/10 [00:02<00:05,  1.22it/s]\n"
     ]
    },
    {
     "name": "stdout",
     "output_type": "stream",
     "text": [
      "\u001b[36m(launch_and_fit pid=29448)\u001b[0m \tTrain Epoch: 4 \tTrain_loss: 1.6678 | Train_acc: 36.7750 % | Validation_loss: 1.7466 | Validation_acc: 27.6786 %\n"
     ]
    },
    {
     "name": "stderr",
     "output_type": "stream",
     "text": [
      " 40%|\u001b[34m████      \u001b[0m| 4/10 [00:02<00:03,  1.61it/s]\n"
     ]
    },
    {
     "name": "stdout",
     "output_type": "stream",
     "text": [
      "\u001b[36m(launch_and_fit pid=29448)\u001b[0m \tTrain Epoch: 5 \tTrain_loss: 1.6763 | Train_acc: 36.3000 % | Validation_loss: 1.7468 | Validation_acc: 26.9345 %\n"
     ]
    },
    {
     "name": "stderr",
     "output_type": "stream",
     "text": [
      " 50%|\u001b[34m█████     \u001b[0m| 5/10 [00:03<00:02,  1.88it/s]\n"
     ]
    },
    {
     "name": "stdout",
     "output_type": "stream",
     "text": [
      "\u001b[36m(launch_and_fit pid=29448)\u001b[0m \tTrain Epoch: 6 \tTrain_loss: 1.6737 | Train_acc: 36.0500 % | Validation_loss: 1.7266 | Validation_acc: 34.2262 %\n"
     ]
    },
    {
     "name": "stderr",
     "output_type": "stream",
     "text": [
      " 60%|\u001b[34m██████    \u001b[0m| 6/10 [00:03<00:02,  1.87it/s]\n"
     ]
    },
    {
     "name": "stdout",
     "output_type": "stream",
     "text": [
      "\u001b[36m(launch_and_fit pid=29448)\u001b[0m \tTrain Epoch: 7 \tTrain_loss: 1.6509 | Train_acc: 36.1500 % | Validation_loss: 1.7170 | Validation_acc: 32.1429 %\n"
     ]
    },
    {
     "name": "stderr",
     "output_type": "stream",
     "text": [
      " 70%|\u001b[34m███████   \u001b[0m| 7/10 [00:03<00:01,  2.21it/s]\n"
     ]
    },
    {
     "name": "stdout",
     "output_type": "stream",
     "text": [
      "\u001b[36m(launch_and_fit pid=29448)\u001b[0m \tTrain Epoch: 8 \tTrain_loss: 1.6224 | Train_acc: 39.2250 % | Validation_loss: 1.7433 | Validation_acc: 23.5119 %\n"
     ]
    },
    {
     "name": "stderr",
     "output_type": "stream",
     "text": [
      " 80%|\u001b[34m████████  \u001b[0m| 8/10 [00:04<00:00,  2.51it/s]\n"
     ]
    },
    {
     "name": "stdout",
     "output_type": "stream",
     "text": [
      "\u001b[36m(launch_and_fit pid=29448)\u001b[0m \tTrain Epoch: 9 \tTrain_loss: 1.6374 | Train_acc: 36.5500 % | Validation_loss: 1.7130 | Validation_acc: 27.6786 %\n"
     ]
    },
    {
     "name": "stderr",
     "output_type": "stream",
     "text": [
      " 90%|\u001b[34m█████████ \u001b[0m| 9/10 [00:04<00:00,  2.66it/s]\n"
     ]
    },
    {
     "name": "stdout",
     "output_type": "stream",
     "text": [
      "\u001b[36m(launch_and_fit pid=29448)\u001b[0m \tTrain Epoch: 10 \tTrain_loss: 1.6194 | Train_acc: 38.8500 % | Validation_loss: 1.7001 | Validation_acc: 32.1429 %\n",
      "\u001b[36m(launch_and_fit pid=29448)\u001b[0m save graph in  results/FL/\n"
     ]
    },
    {
     "name": "stderr",
     "output_type": "stream",
     "text": [
      "100%|\u001b[34m██████████\u001b[0m| 10/10 [00:04<00:00,  2.08it/s]\n",
      "DEBUG flwr 2024-08-30 01:17:22,289 | server.py:236 | fit_round 3 received 4 results and 0 failures\n"
     ]
    },
    {
     "name": "stdout",
     "output_type": "stream",
     "text": [
      "Saving round 3 aggregated_parameters...\n"
     ]
    },
    {
     "name": "stderr",
     "output_type": "stream",
     "text": [
      "INFO flwr 2024-08-30 01:17:22,775 | server.py:125 | fit progress: (3, 1.708500868623907, {'accuracy': 35.64393939393939}, 52.0470781121403)\n",
      "DEBUG flwr 2024-08-30 01:17:22,783 | server.py:173 | evaluate_round 3: strategy sampled 4 clients (out of 4)\n"
     ]
    },
    {
     "name": "stdout",
     "output_type": "stream",
     "text": [
      "Updated model\n",
      "Server-side evaluation loss 1.708500868623907 / accuracy 35.64393939393939\n",
      "\u001b[36m(launch_and_evaluate pid=29448)\u001b[0m Run WITHOUT homomorphic encryption\n",
      "\u001b[36m(launch_and_evaluate pid=29448)\u001b[0m  To get the checkpoint\n",
      "\u001b[36m(launch_and_evaluate pid=29448)\u001b[0m [Client 1] evaluate, config: {}\n",
      "\u001b[36m(launch_and_evaluate pid=29448)\u001b[0m Updated model\n",
      "\u001b[36m(launch_and_evaluate pid=29448)\u001b[0m Run WITHOUT homomorphic encryption\n",
      "\u001b[36m(launch_and_evaluate pid=29448)\u001b[0m  To get the checkpoint\n",
      "\u001b[36m(launch_and_evaluate pid=29448)\u001b[0m [Client 2] evaluate, config: {}\n",
      "\u001b[36m(launch_and_evaluate pid=29448)\u001b[0m Updated model\n",
      "\u001b[36m(launch_and_evaluate pid=29448)\u001b[0m Run WITHOUT homomorphic encryption\n",
      "\u001b[36m(launch_and_evaluate pid=29448)\u001b[0m  To get the checkpoint\n",
      "\u001b[36m(launch_and_evaluate pid=29448)\u001b[0m [Client 0] evaluate, config: {}\n",
      "\u001b[36m(launch_and_evaluate pid=29448)\u001b[0m Updated model\n",
      "\u001b[36m(launch_and_evaluate pid=29448)\u001b[0m Run WITHOUT homomorphic encryption\n",
      "\u001b[36m(launch_and_evaluate pid=29448)\u001b[0m  To get the checkpoint\n",
      "\u001b[36m(launch_and_evaluate pid=29448)\u001b[0m [Client 3] evaluate, config: {}\n",
      "\u001b[36m(launch_and_evaluate pid=29448)\u001b[0m Updated model\n"
     ]
    },
    {
     "name": "stderr",
     "output_type": "stream",
     "text": [
      "DEBUG flwr 2024-08-30 01:17:30,989 | server.py:187 | evaluate_round 3 received 4 results and 0 failures\n",
      "DEBUG flwr 2024-08-30 01:17:30,991 | server.py:222 | fit_round 4: strategy sampled 4 clients (out of 4)\n"
     ]
    },
    {
     "name": "stdout",
     "output_type": "stream",
     "text": [
      "\u001b[36m(launch_and_fit pid=29448)\u001b[0m Run WITHOUT homomorphic encryption\n",
      "\u001b[36m(launch_and_fit pid=29448)\u001b[0m  To get the checkpoint\n",
      "\u001b[36m(launch_and_fit pid=29448)\u001b[0m [Client 1, round 4] fit, config: {'learning_rate': 0.003, 'batch_size': '16', 'server_round': 4, 'local_epochs': 10}\n",
      "\u001b[36m(launch_and_fit pid=29448)\u001b[0m Updated model\n"
     ]
    },
    {
     "name": "stderr",
     "output_type": "stream",
     "text": [
      "  0%|\u001b[34m          \u001b[0m| 0/10 [00:00<?, ?it/s]\n"
     ]
    },
    {
     "name": "stdout",
     "output_type": "stream",
     "text": [
      "\u001b[36m(launch_and_fit pid=29448)\u001b[0m \tTrain Epoch: 1 \tTrain_loss: 1.7169 | Train_acc: 34.8250 % | Validation_loss: 1.5123 | Validation_acc: 45.2381 %\n"
     ]
    },
    {
     "name": "stderr",
     "output_type": "stream",
     "text": [
      " 10%|\u001b[34m█         \u001b[0m| 1/10 [00:00<00:05,  1.60it/s]\n"
     ]
    },
    {
     "name": "stdout",
     "output_type": "stream",
     "text": [
      "\u001b[36m(launch_and_fit pid=29448)\u001b[0m \tTrain Epoch: 2 \tTrain_loss: 1.6779 | Train_acc: 37.1500 % | Validation_loss: 1.5441 | Validation_acc: 48.3631 %\n"
     ]
    },
    {
     "name": "stderr",
     "output_type": "stream",
     "text": [
      " 20%|\u001b[34m██        \u001b[0m| 2/10 [00:01<00:06,  1.21it/s]\n"
     ]
    },
    {
     "name": "stdout",
     "output_type": "stream",
     "text": [
      "\u001b[36m(launch_and_fit pid=29448)\u001b[0m \tTrain Epoch: 3 \tTrain_loss: 1.6505 | Train_acc: 39.0750 % | Validation_loss: 1.5075 | Validation_acc: 44.1964 %\n"
     ]
    },
    {
     "name": "stderr",
     "output_type": "stream",
     "text": [
      " 30%|\u001b[34m███       \u001b[0m| 3/10 [00:02<00:04,  1.45it/s]\n"
     ]
    },
    {
     "name": "stdout",
     "output_type": "stream",
     "text": [
      "\u001b[36m(launch_and_fit pid=29448)\u001b[0m \tTrain Epoch: 4 \tTrain_loss: 1.6220 | Train_acc: 39.8000 % | Validation_loss: 1.4972 | Validation_acc: 45.2381 %\n"
     ]
    },
    {
     "name": "stderr",
     "output_type": "stream",
     "text": [
      " 40%|\u001b[34m████      \u001b[0m| 4/10 [00:02<00:03,  1.87it/s]\n"
     ]
    },
    {
     "name": "stdout",
     "output_type": "stream",
     "text": [
      "\u001b[36m(launch_and_fit pid=29448)\u001b[0m \tTrain Epoch: 5 \tTrain_loss: 1.6030 | Train_acc: 39.3250 % | Validation_loss: 1.5100 | Validation_acc: 46.2798 %\n"
     ]
    },
    {
     "name": "stderr",
     "output_type": "stream",
     "text": [
      " 50%|\u001b[34m█████     \u001b[0m| 5/10 [00:02<00:02,  2.10it/s]\n"
     ]
    },
    {
     "name": "stdout",
     "output_type": "stream",
     "text": [
      "\u001b[36m(launch_and_fit pid=29448)\u001b[0m \tTrain Epoch: 6 \tTrain_loss: 1.5956 | Train_acc: 40.4250 % | Validation_loss: 1.4907 | Validation_acc: 44.9405 %\n"
     ]
    },
    {
     "name": "stderr",
     "output_type": "stream",
     "text": [
      " 60%|\u001b[34m██████    \u001b[0m| 6/10 [00:03<00:01,  2.38it/s]\n"
     ]
    },
    {
     "name": "stdout",
     "output_type": "stream",
     "text": [
      "\u001b[36m(launch_and_fit pid=29448)\u001b[0m \tTrain Epoch: 7 \tTrain_loss: 1.6590 | Train_acc: 35.9000 % | Validation_loss: 1.5091 | Validation_acc: 46.2798 %\n"
     ]
    },
    {
     "name": "stderr",
     "output_type": "stream",
     "text": [
      " 70%|\u001b[34m███████   \u001b[0m| 7/10 [00:03<00:01,  2.62it/s]\n"
     ]
    },
    {
     "name": "stdout",
     "output_type": "stream",
     "text": [
      "\u001b[36m(launch_and_fit pid=29448)\u001b[0m \tTrain Epoch: 8 \tTrain_loss: 1.6005 | Train_acc: 41.2500 % | Validation_loss: 1.4701 | Validation_acc: 49.4048 %\n"
     ]
    },
    {
     "name": "stderr",
     "output_type": "stream",
     "text": [
      " 80%|\u001b[34m████████  \u001b[0m| 8/10 [00:03<00:00,  2.58it/s]\n"
     ]
    },
    {
     "name": "stdout",
     "output_type": "stream",
     "text": [
      "\u001b[36m(launch_and_fit pid=29448)\u001b[0m \tTrain Epoch: 9 \tTrain_loss: 1.5705 | Train_acc: 41.1750 % | Validation_loss: 1.4900 | Validation_acc: 44.9405 %\n"
     ]
    },
    {
     "name": "stderr",
     "output_type": "stream",
     "text": [
      " 90%|\u001b[34m█████████ \u001b[0m| 9/10 [00:04<00:00,  2.99it/s]\n"
     ]
    },
    {
     "name": "stdout",
     "output_type": "stream",
     "text": [
      "\u001b[36m(launch_and_fit pid=29448)\u001b[0m \tTrain Epoch: 10 \tTrain_loss: 1.5474 | Train_acc: 43.0500 % | Validation_loss: 1.5230 | Validation_acc: 43.1548 %\n",
      "\u001b[36m(launch_and_fit pid=29448)\u001b[0m save graph in  results/FL/\n"
     ]
    },
    {
     "name": "stderr",
     "output_type": "stream",
     "text": [
      "100%|\u001b[34m██████████\u001b[0m| 10/10 [00:04<00:00,  2.27it/s]\n"
     ]
    },
    {
     "name": "stdout",
     "output_type": "stream",
     "text": [
      "\u001b[36m(launch_and_fit pid=29448)\u001b[0m Run WITHOUT homomorphic encryption\n",
      "\u001b[36m(launch_and_fit pid=29448)\u001b[0m  To get the checkpoint\n",
      "\u001b[36m(launch_and_fit pid=29448)\u001b[0m [Client 2, round 4] fit, config: {'learning_rate': 0.003, 'batch_size': '16', 'server_round': 4, 'local_epochs': 10}\n",
      "\u001b[36m(launch_and_fit pid=29448)\u001b[0m Updated model\n"
     ]
    },
    {
     "name": "stderr",
     "output_type": "stream",
     "text": [
      "  0%|\u001b[34m          \u001b[0m| 0/10 [00:00<?, ?it/s]\n"
     ]
    },
    {
     "name": "stdout",
     "output_type": "stream",
     "text": [
      "\u001b[36m(launch_and_fit pid=29448)\u001b[0m \tTrain Epoch: 1 \tTrain_loss: 1.7015 | Train_acc: 34.6250 % | Validation_loss: 1.6321 | Validation_acc: 41.2202 %\n"
     ]
    },
    {
     "name": "stderr",
     "output_type": "stream",
     "text": [
      " 10%|\u001b[34m█         \u001b[0m| 1/10 [00:00<00:04,  2.04it/s]\n"
     ]
    },
    {
     "name": "stdout",
     "output_type": "stream",
     "text": [
      "\u001b[36m(launch_and_fit pid=29448)\u001b[0m \tTrain Epoch: 2 \tTrain_loss: 1.6377 | Train_acc: 37.5250 % | Validation_loss: 1.6779 | Validation_acc: 37.3512 %\n"
     ]
    },
    {
     "name": "stderr",
     "output_type": "stream",
     "text": [
      " 20%|\u001b[34m██        \u001b[0m| 2/10 [00:00<00:03,  2.54it/s]\n"
     ]
    },
    {
     "name": "stdout",
     "output_type": "stream",
     "text": [
      "\u001b[36m(launch_and_fit pid=29448)\u001b[0m \tTrain Epoch: 3 \tTrain_loss: 1.6293 | Train_acc: 39.3250 % | Validation_loss: 1.5944 | Validation_acc: 43.6012 %\n"
     ]
    },
    {
     "name": "stderr",
     "output_type": "stream",
     "text": [
      " 30%|\u001b[34m███       \u001b[0m| 3/10 [00:01<00:02,  2.34it/s]\n"
     ]
    },
    {
     "name": "stdout",
     "output_type": "stream",
     "text": [
      "\u001b[36m(launch_and_fit pid=29448)\u001b[0m \tTrain Epoch: 4 \tTrain_loss: 1.6013 | Train_acc: 38.5250 % | Validation_loss: 1.5774 | Validation_acc: 41.2202 %\n"
     ]
    },
    {
     "name": "stderr",
     "output_type": "stream",
     "text": [
      " 40%|\u001b[34m████      \u001b[0m| 4/10 [00:02<00:03,  1.84it/s]\n"
     ]
    },
    {
     "name": "stdout",
     "output_type": "stream",
     "text": [
      "\u001b[36m(launch_and_fit pid=29448)\u001b[0m \tTrain Epoch: 5 \tTrain_loss: 1.5512 | Train_acc: 41.1750 % | Validation_loss: 1.6279 | Validation_acc: 40.4762 %\n"
     ]
    },
    {
     "name": "stderr",
     "output_type": "stream",
     "text": [
      " 50%|\u001b[34m█████     \u001b[0m| 5/10 [00:02<00:02,  2.18it/s]\n"
     ]
    },
    {
     "name": "stdout",
     "output_type": "stream",
     "text": [
      "\u001b[36m(launch_and_fit pid=29448)\u001b[0m \tTrain Epoch: 6 \tTrain_loss: 1.5539 | Train_acc: 42.0750 % | Validation_loss: 1.5914 | Validation_acc: 45.9821 %\n"
     ]
    },
    {
     "name": "stderr",
     "output_type": "stream",
     "text": [
      " 60%|\u001b[34m██████    \u001b[0m| 6/10 [00:02<00:01,  2.29it/s]\n"
     ]
    },
    {
     "name": "stdout",
     "output_type": "stream",
     "text": [
      "\u001b[36m(launch_and_fit pid=29448)\u001b[0m \tTrain Epoch: 7 \tTrain_loss: 1.5325 | Train_acc: 41.2000 % | Validation_loss: 1.6206 | Validation_acc: 43.8988 %\n",
      "\u001b[36m(launch_and_fit pid=29448)\u001b[0m \tTrain Epoch: 8 \tTrain_loss: 1.5083 | Train_acc: 43.5750 % | Validation_loss: 1.5678 | Validation_acc: 44.6429 %\n"
     ]
    },
    {
     "name": "stderr",
     "output_type": "stream",
     "text": [
      " 70%|\u001b[34m███████   \u001b[0m| 7/10 [00:03<00:01,  2.54it/s]\n",
      " 80%|\u001b[34m████████  \u001b[0m| 8/10 [00:03<00:00,  2.99it/s]\n"
     ]
    },
    {
     "name": "stdout",
     "output_type": "stream",
     "text": [
      "\u001b[36m(launch_and_fit pid=29448)\u001b[0m \tTrain Epoch: 9 \tTrain_loss: 1.5308 | Train_acc: 43.4750 % | Validation_loss: 1.5606 | Validation_acc: 42.5595 %\n"
     ]
    },
    {
     "name": "stderr",
     "output_type": "stream",
     "text": [
      " 90%|\u001b[34m█████████ \u001b[0m| 9/10 [00:03<00:00,  2.87it/s]\n"
     ]
    },
    {
     "name": "stdout",
     "output_type": "stream",
     "text": [
      "\u001b[36m(launch_and_fit pid=29448)\u001b[0m \tTrain Epoch: 10 \tTrain_loss: 1.5176 | Train_acc: 41.0250 % | Validation_loss: 1.5563 | Validation_acc: 43.8988 %\n",
      "\u001b[36m(launch_and_fit pid=29448)\u001b[0m save graph in  results/FL/\n"
     ]
    },
    {
     "name": "stderr",
     "output_type": "stream",
     "text": [
      "100%|\u001b[34m██████████\u001b[0m| 10/10 [00:03<00:00,  2.57it/s]\n"
     ]
    },
    {
     "name": "stdout",
     "output_type": "stream",
     "text": [
      "\u001b[36m(launch_and_fit pid=29448)\u001b[0m Run WITHOUT homomorphic encryption\n",
      "\u001b[36m(launch_and_fit pid=29448)\u001b[0m  To get the checkpoint\n",
      "\u001b[36m(launch_and_fit pid=29448)\u001b[0m [Client 0, round 4] fit, config: {'learning_rate': 0.003, 'batch_size': '16', 'server_round': 4, 'local_epochs': 10}\n",
      "\u001b[36m(launch_and_fit pid=29448)\u001b[0m Updated model\n"
     ]
    },
    {
     "name": "stderr",
     "output_type": "stream",
     "text": [
      "  0%|\u001b[34m          \u001b[0m| 0/10 [00:00<?, ?it/s]\n"
     ]
    },
    {
     "name": "stdout",
     "output_type": "stream",
     "text": [
      "\u001b[36m(launch_and_fit pid=29448)\u001b[0m \tTrain Epoch: 1 \tTrain_loss: 1.6787 | Train_acc: 36.1750 % | Validation_loss: 1.6759 | Validation_acc: 35.2679 %\n"
     ]
    },
    {
     "name": "stderr",
     "output_type": "stream",
     "text": [
      " 10%|\u001b[34m█         \u001b[0m| 1/10 [00:00<00:08,  1.11it/s]\n"
     ]
    },
    {
     "name": "stdout",
     "output_type": "stream",
     "text": [
      "\u001b[36m(launch_and_fit pid=29448)\u001b[0m \tTrain Epoch: 2 \tTrain_loss: 1.6450 | Train_acc: 38.9000 % | Validation_loss: 1.8047 | Validation_acc: 29.0179 %\n"
     ]
    },
    {
     "name": "stderr",
     "output_type": "stream",
     "text": [
      " 20%|\u001b[34m██        \u001b[0m| 2/10 [00:01<00:05,  1.39it/s]\n",
      " 30%|\u001b[34m███       \u001b[0m| 3/10 [00:01<00:03,  1.90it/s]\n"
     ]
    },
    {
     "name": "stdout",
     "output_type": "stream",
     "text": [
      "\u001b[36m(launch_and_fit pid=29448)\u001b[0m \tTrain Epoch: 3 \tTrain_loss: 1.6364 | Train_acc: 39.3250 % | Validation_loss: 1.7852 | Validation_acc: 27.9762 %\n",
      "\u001b[36m(launch_and_fit pid=29448)\u001b[0m \tTrain Epoch: 4 \tTrain_loss: 1.6153 | Train_acc: 39.2750 % | Validation_loss: 1.6869 | Validation_acc: 32.1429 %\n"
     ]
    },
    {
     "name": "stderr",
     "output_type": "stream",
     "text": [
      " 40%|\u001b[34m████      \u001b[0m| 4/10 [00:02<00:02,  2.09it/s]\n"
     ]
    },
    {
     "name": "stdout",
     "output_type": "stream",
     "text": [
      "\u001b[36m(launch_and_fit pid=29448)\u001b[0m \tTrain Epoch: 5 \tTrain_loss: 1.5804 | Train_acc: 40.8000 % | Validation_loss: 1.6488 | Validation_acc: 33.1845 %\n"
     ]
    },
    {
     "name": "stderr",
     "output_type": "stream",
     "text": [
      " 50%|\u001b[34m█████     \u001b[0m| 5/10 [00:02<00:02,  2.08it/s]\n"
     ]
    },
    {
     "name": "stdout",
     "output_type": "stream",
     "text": [
      "\u001b[36m(launch_and_fit pid=29448)\u001b[0m \tTrain Epoch: 6 \tTrain_loss: 1.5569 | Train_acc: 41.9750 % | Validation_loss: 1.7447 | Validation_acc: 31.1012 %\n"
     ]
    },
    {
     "name": "stderr",
     "output_type": "stream",
     "text": [
      " 60%|\u001b[34m██████    \u001b[0m| 6/10 [00:02<00:01,  2.52it/s]\n"
     ]
    },
    {
     "name": "stdout",
     "output_type": "stream",
     "text": [
      "\u001b[36m(launch_and_fit pid=29448)\u001b[0m \tTrain Epoch: 7 \tTrain_loss: 1.5762 | Train_acc: 41.5750 % | Validation_loss: 2.1219 | Validation_acc: 22.7679 %\n"
     ]
    },
    {
     "name": "stderr",
     "output_type": "stream",
     "text": [
      " 70%|\u001b[34m███████   \u001b[0m| 7/10 [00:03<00:01,  2.21it/s]\n"
     ]
    },
    {
     "name": "stdout",
     "output_type": "stream",
     "text": [
      "\u001b[36m(launch_and_fit pid=29448)\u001b[0m \tTrain Epoch: 8 \tTrain_loss: 1.5950 | Train_acc: 39.5500 % | Validation_loss: 1.6516 | Validation_acc: 26.6369 %\n"
     ]
    },
    {
     "name": "stderr",
     "output_type": "stream",
     "text": [
      " 80%|\u001b[34m████████  \u001b[0m| 8/10 [00:03<00:00,  2.46it/s]\n"
     ]
    },
    {
     "name": "stdout",
     "output_type": "stream",
     "text": [
      "\u001b[36m(launch_and_fit pid=29448)\u001b[0m \tTrain Epoch: 9 \tTrain_loss: 1.5499 | Train_acc: 42.5000 % | Validation_loss: 1.6747 | Validation_acc: 39.7321 %\n"
     ]
    },
    {
     "name": "stderr",
     "output_type": "stream",
     "text": [
      " 90%|\u001b[34m█████████ \u001b[0m| 9/10 [00:04<00:00,  2.63it/s]\n"
     ]
    },
    {
     "name": "stdout",
     "output_type": "stream",
     "text": [
      "\u001b[36m(launch_and_fit pid=29448)\u001b[0m \tTrain Epoch: 10 \tTrain_loss: 1.5487 | Train_acc: 42.2250 % | Validation_loss: 1.7009 | Validation_acc: 31.8452 %\n",
      "\u001b[36m(launch_and_fit pid=29448)\u001b[0m save graph in  results/FL/\n"
     ]
    },
    {
     "name": "stderr",
     "output_type": "stream",
     "text": [
      "100%|\u001b[34m██████████\u001b[0m| 10/10 [00:04<00:00,  2.27it/s]\n"
     ]
    },
    {
     "name": "stdout",
     "output_type": "stream",
     "text": [
      "\u001b[36m(launch_and_fit pid=29448)\u001b[0m Run WITHOUT homomorphic encryption\n",
      "\u001b[36m(launch_and_fit pid=29448)\u001b[0m  To get the checkpoint\n",
      "\u001b[36m(launch_and_fit pid=29448)\u001b[0m [Client 3, round 4] fit, config: {'learning_rate': 0.003, 'batch_size': '16', 'server_round': 4, 'local_epochs': 10}\n",
      "\u001b[36m(launch_and_fit pid=29448)\u001b[0m Updated model\n"
     ]
    },
    {
     "name": "stderr",
     "output_type": "stream",
     "text": [
      "  0%|\u001b[34m          \u001b[0m| 0/10 [00:00<?, ?it/s]\n"
     ]
    },
    {
     "name": "stdout",
     "output_type": "stream",
     "text": [
      "\u001b[36m(launch_and_fit pid=29448)\u001b[0m \tTrain Epoch: 1 \tTrain_loss: 1.6596 | Train_acc: 36.8250 % | Validation_loss: 1.6110 | Validation_acc: 34.2262 %\n"
     ]
    },
    {
     "name": "stderr",
     "output_type": "stream",
     "text": [
      " 10%|\u001b[34m█         \u001b[0m| 1/10 [00:00<00:07,  1.25it/s]\n"
     ]
    },
    {
     "name": "stdout",
     "output_type": "stream",
     "text": [
      "\u001b[36m(launch_and_fit pid=29448)\u001b[0m \tTrain Epoch: 2 \tTrain_loss: 1.5811 | Train_acc: 40.2000 % | Validation_loss: 1.6735 | Validation_acc: 27.3810 %\n"
     ]
    },
    {
     "name": "stderr",
     "output_type": "stream",
     "text": [
      " 20%|\u001b[34m██        \u001b[0m| 2/10 [00:01<00:07,  1.08it/s]\n"
     ]
    },
    {
     "name": "stdout",
     "output_type": "stream",
     "text": [
      "\u001b[36m(launch_and_fit pid=29448)\u001b[0m \tTrain Epoch: 3 \tTrain_loss: 1.5673 | Train_acc: 40.9250 % | Validation_loss: 1.6666 | Validation_acc: 37.6488 %\n"
     ]
    },
    {
     "name": "stderr",
     "output_type": "stream",
     "text": [
      " 30%|\u001b[34m███       \u001b[0m| 3/10 [00:02<00:06,  1.10it/s]\n"
     ]
    },
    {
     "name": "stdout",
     "output_type": "stream",
     "text": [
      "\u001b[36m(launch_and_fit pid=29448)\u001b[0m \tTrain Epoch: 4 \tTrain_loss: 1.5685 | Train_acc: 39.4250 % | Validation_loss: 1.5959 | Validation_acc: 40.7738 %\n"
     ]
    },
    {
     "name": "stderr",
     "output_type": "stream",
     "text": [
      " 40%|\u001b[34m████      \u001b[0m| 4/10 [00:03<00:04,  1.27it/s]\n"
     ]
    },
    {
     "name": "stdout",
     "output_type": "stream",
     "text": [
      "\u001b[36m(launch_and_fit pid=29448)\u001b[0m \tTrain Epoch: 5 \tTrain_loss: 1.5333 | Train_acc: 41.1750 % | Validation_loss: 1.6104 | Validation_acc: 36.3095 %\n"
     ]
    },
    {
     "name": "stderr",
     "output_type": "stream",
     "text": [
      " 50%|\u001b[34m█████     \u001b[0m| 5/10 [00:03<00:03,  1.38it/s]\n"
     ]
    },
    {
     "name": "stdout",
     "output_type": "stream",
     "text": [
      "\u001b[36m(launch_and_fit pid=29448)\u001b[0m \tTrain Epoch: 6 \tTrain_loss: 1.5489 | Train_acc: 40.2000 % | Validation_loss: 1.6737 | Validation_acc: 37.6488 %\n"
     ]
    },
    {
     "name": "stderr",
     "output_type": "stream",
     "text": [
      " 60%|\u001b[34m██████    \u001b[0m| 6/10 [00:04<00:02,  1.40it/s]\n"
     ]
    },
    {
     "name": "stdout",
     "output_type": "stream",
     "text": [
      "\u001b[36m(launch_and_fit pid=29448)\u001b[0m \tTrain Epoch: 7 \tTrain_loss: 1.5154 | Train_acc: 40.9250 % | Validation_loss: 1.6352 | Validation_acc: 33.1845 %\n"
     ]
    },
    {
     "name": "stderr",
     "output_type": "stream",
     "text": [
      " 70%|\u001b[34m███████   \u001b[0m| 7/10 [00:04<00:01,  1.72it/s]\n"
     ]
    },
    {
     "name": "stdout",
     "output_type": "stream",
     "text": [
      "\u001b[36m(launch_and_fit pid=29448)\u001b[0m \tTrain Epoch: 8 \tTrain_loss: 1.4946 | Train_acc: 41.1250 % | Validation_loss: 1.6310 | Validation_acc: 40.7738 %\n"
     ]
    },
    {
     "name": "stderr",
     "output_type": "stream",
     "text": [
      " 80%|\u001b[34m████████  \u001b[0m| 8/10 [00:05<00:00,  2.06it/s]\n"
     ]
    },
    {
     "name": "stdout",
     "output_type": "stream",
     "text": [
      "\u001b[36m(launch_and_fit pid=29448)\u001b[0m \tTrain Epoch: 9 \tTrain_loss: 1.4696 | Train_acc: 42.3000 % | Validation_loss: 1.6361 | Validation_acc: 37.9464 %\n"
     ]
    },
    {
     "name": "stderr",
     "output_type": "stream",
     "text": [
      " 90%|\u001b[34m█████████ \u001b[0m| 9/10 [00:05<00:00,  2.34it/s]\n"
     ]
    },
    {
     "name": "stdout",
     "output_type": "stream",
     "text": [
      "\u001b[36m(launch_and_fit pid=29448)\u001b[0m \tTrain Epoch: 10 \tTrain_loss: 1.4927 | Train_acc: 42.5250 % | Validation_loss: 1.7711 | Validation_acc: 36.3095 %\n",
      "\u001b[36m(launch_and_fit pid=29448)\u001b[0m save graph in  results/FL/\n"
     ]
    },
    {
     "name": "stderr",
     "output_type": "stream",
     "text": [
      "100%|\u001b[34m██████████\u001b[0m| 10/10 [00:05<00:00,  1.72it/s]\n",
      "DEBUG flwr 2024-08-30 01:17:57,092 | server.py:236 | fit_round 4 received 4 results and 0 failures\n"
     ]
    },
    {
     "name": "stdout",
     "output_type": "stream",
     "text": [
      "Saving round 4 aggregated_parameters...\n"
     ]
    },
    {
     "name": "stderr",
     "output_type": "stream",
     "text": [
      "INFO flwr 2024-08-30 01:17:57,488 | server.py:125 | fit progress: (4, 1.6281153592196378, {'accuracy': 39.166666666666664}, 86.76095661520958)\n",
      "DEBUG flwr 2024-08-30 01:17:57,489 | server.py:173 | evaluate_round 4: strategy sampled 4 clients (out of 4)\n"
     ]
    },
    {
     "name": "stdout",
     "output_type": "stream",
     "text": [
      "Updated model\n",
      "Server-side evaluation loss 1.6281153592196378 / accuracy 39.166666666666664\n",
      "\u001b[36m(launch_and_evaluate pid=29448)\u001b[0m Run WITHOUT homomorphic encryption\n",
      "\u001b[36m(launch_and_evaluate pid=29448)\u001b[0m  To get the checkpoint\n",
      "\u001b[36m(launch_and_evaluate pid=29448)\u001b[0m [Client 1] evaluate, config: {}\n",
      "\u001b[36m(launch_and_evaluate pid=29448)\u001b[0m Updated model\n",
      "\u001b[36m(launch_and_evaluate pid=29448)\u001b[0m Run WITHOUT homomorphic encryption\n",
      "\u001b[36m(launch_and_evaluate pid=29448)\u001b[0m  To get the checkpoint\n",
      "\u001b[36m(launch_and_evaluate pid=29448)\u001b[0m [Client 2] evaluate, config: {}\n",
      "\u001b[36m(launch_and_evaluate pid=29448)\u001b[0m Updated model\n",
      "\u001b[36m(launch_and_evaluate pid=29448)\u001b[0m Run WITHOUT homomorphic encryption\n",
      "\u001b[36m(launch_and_evaluate pid=29448)\u001b[0m  To get the checkpoint\n",
      "\u001b[36m(launch_and_evaluate pid=29448)\u001b[0m [Client 3] evaluate, config: {}\n",
      "\u001b[36m(launch_and_evaluate pid=29448)\u001b[0m Updated model\n",
      "\u001b[36m(launch_and_evaluate pid=29448)\u001b[0m Run WITHOUT homomorphic encryption\n",
      "\u001b[36m(launch_and_evaluate pid=29448)\u001b[0m  To get the checkpoint\n",
      "\u001b[36m(launch_and_evaluate pid=29448)\u001b[0m [Client 0] evaluate, config: {}\n",
      "\u001b[36m(launch_and_evaluate pid=29448)\u001b[0m Updated model\n"
     ]
    },
    {
     "name": "stderr",
     "output_type": "stream",
     "text": [
      "DEBUG flwr 2024-08-30 01:18:05,685 | server.py:187 | evaluate_round 4 received 4 results and 0 failures\n",
      "DEBUG flwr 2024-08-30 01:18:05,686 | server.py:222 | fit_round 5: strategy sampled 4 clients (out of 4)\n"
     ]
    },
    {
     "name": "stdout",
     "output_type": "stream",
     "text": [
      "\u001b[36m(launch_and_fit pid=29448)\u001b[0m Run WITHOUT homomorphic encryption\n",
      "\u001b[36m(launch_and_fit pid=29448)\u001b[0m  To get the checkpoint\n",
      "\u001b[36m(launch_and_fit pid=29448)\u001b[0m [Client 0, round 5] fit, config: {'learning_rate': 0.003, 'batch_size': '16', 'server_round': 5, 'local_epochs': 10}\n",
      "\u001b[36m(launch_and_fit pid=29448)\u001b[0m Updated model\n"
     ]
    },
    {
     "name": "stderr",
     "output_type": "stream",
     "text": [
      "  0%|\u001b[34m          \u001b[0m| 0/10 [00:00<?, ?it/s]\n"
     ]
    },
    {
     "name": "stdout",
     "output_type": "stream",
     "text": [
      "\u001b[36m(launch_and_fit pid=29448)\u001b[0m \tTrain Epoch: 1 \tTrain_loss: 1.6397 | Train_acc: 37.3000 % | Validation_loss: 1.6930 | Validation_acc: 34.2262 %\n"
     ]
    },
    {
     "name": "stderr",
     "output_type": "stream",
     "text": [
      " 10%|\u001b[34m█         \u001b[0m| 1/10 [00:00<00:07,  1.26it/s]\n"
     ]
    },
    {
     "name": "stdout",
     "output_type": "stream",
     "text": [
      "\u001b[36m(launch_and_fit pid=29448)\u001b[0m \tTrain Epoch: 2 \tTrain_loss: 1.5727 | Train_acc: 40.8000 % | Validation_loss: 1.8460 | Validation_acc: 30.8036 %\n"
     ]
    },
    {
     "name": "stderr",
     "output_type": "stream",
     "text": [
      " 20%|\u001b[34m██        \u001b[0m| 2/10 [00:01<00:06,  1.17it/s]\n"
     ]
    },
    {
     "name": "stdout",
     "output_type": "stream",
     "text": [
      "\u001b[36m(launch_and_fit pid=29448)\u001b[0m \tTrain Epoch: 3 \tTrain_loss: 1.5856 | Train_acc: 38.9250 % | Validation_loss: 1.6571 | Validation_acc: 35.2679 %\n"
     ]
    },
    {
     "name": "stderr",
     "output_type": "stream",
     "text": [
      " 30%|\u001b[34m███       \u001b[0m| 3/10 [00:02<00:04,  1.46it/s]\n"
     ]
    },
    {
     "name": "stdout",
     "output_type": "stream",
     "text": [
      "\u001b[36m(launch_and_fit pid=29448)\u001b[0m \tTrain Epoch: 4 \tTrain_loss: 1.5413 | Train_acc: 42.6250 % | Validation_loss: 1.6787 | Validation_acc: 34.2262 %\n"
     ]
    },
    {
     "name": "stderr",
     "output_type": "stream",
     "text": [
      " 40%|\u001b[34m████      \u001b[0m| 4/10 [00:03<00:04,  1.22it/s]\n"
     ]
    },
    {
     "name": "stdout",
     "output_type": "stream",
     "text": [
      "\u001b[36m(launch_and_fit pid=29448)\u001b[0m \tTrain Epoch: 5 \tTrain_loss: 1.5421 | Train_acc: 41.1500 % | Validation_loss: 1.6945 | Validation_acc: 30.0595 %\n"
     ]
    },
    {
     "name": "stderr",
     "output_type": "stream",
     "text": [
      " 50%|\u001b[34m█████     \u001b[0m| 5/10 [00:03<00:03,  1.30it/s]\n"
     ]
    },
    {
     "name": "stdout",
     "output_type": "stream",
     "text": [
      "\u001b[36m(launch_and_fit pid=29448)\u001b[0m \tTrain Epoch: 6 \tTrain_loss: 1.5191 | Train_acc: 41.8250 % | Validation_loss: 1.7811 | Validation_acc: 25.5952 %\n"
     ]
    },
    {
     "name": "stderr",
     "output_type": "stream",
     "text": [
      " 60%|\u001b[34m██████    \u001b[0m| 6/10 [00:04<00:02,  1.70it/s]\n"
     ]
    },
    {
     "name": "stdout",
     "output_type": "stream",
     "text": [
      "\u001b[36m(launch_and_fit pid=29448)\u001b[0m \tTrain Epoch: 7 \tTrain_loss: 1.5214 | Train_acc: 41.6500 % | Validation_loss: 1.7736 | Validation_acc: 27.9762 %\n"
     ]
    },
    {
     "name": "stderr",
     "output_type": "stream",
     "text": [
      " 70%|\u001b[34m███████   \u001b[0m| 7/10 [00:04<00:01,  1.62it/s]\n"
     ]
    },
    {
     "name": "stdout",
     "output_type": "stream",
     "text": [
      "\u001b[36m(launch_and_fit pid=29448)\u001b[0m \tTrain Epoch: 8 \tTrain_loss: 1.4887 | Train_acc: 42.9250 % | Validation_loss: 1.7511 | Validation_acc: 32.1429 %\n"
     ]
    },
    {
     "name": "stderr",
     "output_type": "stream",
     "text": [
      " 80%|\u001b[34m████████  \u001b[0m| 8/10 [00:05<00:01,  1.85it/s]\n"
     ]
    },
    {
     "name": "stdout",
     "output_type": "stream",
     "text": [
      "\u001b[36m(launch_and_fit pid=29448)\u001b[0m \tTrain Epoch: 9 \tTrain_loss: 1.4879 | Train_acc: 43.1750 % | Validation_loss: 1.9796 | Validation_acc: 23.2143 %\n"
     ]
    },
    {
     "name": "stderr",
     "output_type": "stream",
     "text": [
      " 90%|\u001b[34m█████████ \u001b[0m| 9/10 [00:05<00:00,  2.14it/s]\n"
     ]
    },
    {
     "name": "stdout",
     "output_type": "stream",
     "text": [
      "\u001b[36m(launch_and_fit pid=29448)\u001b[0m \tTrain Epoch: 10 \tTrain_loss: 1.4839 | Train_acc: 43.6750 % | Validation_loss: 1.7441 | Validation_acc: 29.0179 %\n",
      "\u001b[36m(launch_and_fit pid=29448)\u001b[0m save graph in  results/FL/\n"
     ]
    },
    {
     "name": "stderr",
     "output_type": "stream",
     "text": [
      "100%|\u001b[34m██████████\u001b[0m| 10/10 [00:05<00:00,  1.76it/s]\n"
     ]
    },
    {
     "name": "stdout",
     "output_type": "stream",
     "text": [
      "\u001b[36m(launch_and_fit pid=29448)\u001b[0m Run WITHOUT homomorphic encryption\n",
      "\u001b[36m(launch_and_fit pid=29448)\u001b[0m  To get the checkpoint\n",
      "\u001b[36m(launch_and_fit pid=29448)\u001b[0m [Client 1, round 5] fit, config: {'learning_rate': 0.003, 'batch_size': '16', 'server_round': 5, 'local_epochs': 10}\n",
      "\u001b[36m(launch_and_fit pid=29448)\u001b[0m Updated model\n"
     ]
    },
    {
     "name": "stderr",
     "output_type": "stream",
     "text": [
      "  0%|\u001b[34m          \u001b[0m| 0/10 [00:00<?, ?it/s]\n"
     ]
    },
    {
     "name": "stdout",
     "output_type": "stream",
     "text": [
      "\u001b[36m(launch_and_fit pid=29448)\u001b[0m \tTrain Epoch: 1 \tTrain_loss: 1.6267 | Train_acc: 39.0000 % | Validation_loss: 1.5141 | Validation_acc: 48.3631 %\n"
     ]
    },
    {
     "name": "stderr",
     "output_type": "stream",
     "text": [
      " 10%|\u001b[34m█         \u001b[0m| 1/10 [00:00<00:04,  1.96it/s]\n"
     ]
    },
    {
     "name": "stdout",
     "output_type": "stream",
     "text": [
      "\u001b[36m(launch_and_fit pid=29448)\u001b[0m \tTrain Epoch: 2 \tTrain_loss: 1.5938 | Train_acc: 39.8250 % | Validation_loss: 1.5334 | Validation_acc: 42.8571 %\n"
     ]
    },
    {
     "name": "stderr",
     "output_type": "stream",
     "text": [
      " 20%|\u001b[34m██        \u001b[0m| 2/10 [00:01<00:05,  1.36it/s]\n"
     ]
    },
    {
     "name": "stdout",
     "output_type": "stream",
     "text": [
      "\u001b[36m(launch_and_fit pid=29448)\u001b[0m \tTrain Epoch: 3 \tTrain_loss: 1.5657 | Train_acc: 40.0500 % | Validation_loss: 1.4581 | Validation_acc: 46.2798 %\n"
     ]
    },
    {
     "name": "stderr",
     "output_type": "stream",
     "text": [
      " 30%|\u001b[34m███       \u001b[0m| 3/10 [00:01<00:03,  1.84it/s]\n"
     ]
    },
    {
     "name": "stdout",
     "output_type": "stream",
     "text": [
      "\u001b[36m(launch_and_fit pid=29448)\u001b[0m \tTrain Epoch: 4 \tTrain_loss: 1.5825 | Train_acc: 39.6500 % | Validation_loss: 1.4427 | Validation_acc: 50.4464 %\n"
     ]
    },
    {
     "name": "stderr",
     "output_type": "stream",
     "text": [
      " 40%|\u001b[34m████      \u001b[0m| 4/10 [00:01<00:02,  2.28it/s]\n"
     ]
    },
    {
     "name": "stdout",
     "output_type": "stream",
     "text": [
      "\u001b[36m(launch_and_fit pid=29448)\u001b[0m \tTrain Epoch: 5 \tTrain_loss: 1.5436 | Train_acc: 41.3250 % | Validation_loss: 1.5119 | Validation_acc: 48.0655 %\n"
     ]
    },
    {
     "name": "stderr",
     "output_type": "stream",
     "text": [
      " 50%|\u001b[34m█████     \u001b[0m| 5/10 [00:02<00:01,  2.57it/s]\n"
     ]
    },
    {
     "name": "stdout",
     "output_type": "stream",
     "text": [
      "\u001b[36m(launch_and_fit pid=29448)\u001b[0m \tTrain Epoch: 6 \tTrain_loss: 1.5335 | Train_acc: 42.9250 % | Validation_loss: 1.5256 | Validation_acc: 51.4881 %\n"
     ]
    },
    {
     "name": "stderr",
     "output_type": "stream",
     "text": [
      " 60%|\u001b[34m██████    \u001b[0m| 6/10 [00:02<00:01,  2.77it/s]\n"
     ]
    },
    {
     "name": "stdout",
     "output_type": "stream",
     "text": [
      "\u001b[36m(launch_and_fit pid=29448)\u001b[0m \tTrain Epoch: 7 \tTrain_loss: 1.5100 | Train_acc: 44.2250 % | Validation_loss: 1.6451 | Validation_acc: 43.8988 %\n"
     ]
    },
    {
     "name": "stderr",
     "output_type": "stream",
     "text": [
      " 70%|\u001b[34m███████   \u001b[0m| 7/10 [00:03<00:01,  2.67it/s]\n"
     ]
    },
    {
     "name": "stdout",
     "output_type": "stream",
     "text": [
      "\u001b[36m(launch_and_fit pid=29448)\u001b[0m \tTrain Epoch: 8 \tTrain_loss: 1.5210 | Train_acc: 42.2500 % | Validation_loss: 1.5440 | Validation_acc: 44.1964 %\n"
     ]
    },
    {
     "name": "stderr",
     "output_type": "stream",
     "text": [
      " 80%|\u001b[34m████████  \u001b[0m| 8/10 [00:03<00:00,  2.83it/s]\n"
     ]
    },
    {
     "name": "stdout",
     "output_type": "stream",
     "text": [
      "\u001b[36m(launch_and_fit pid=29448)\u001b[0m \tTrain Epoch: 9 \tTrain_loss: 1.5058 | Train_acc: 43.7000 % | Validation_loss: 1.5971 | Validation_acc: 43.8988 %\n"
     ]
    },
    {
     "name": "stderr",
     "output_type": "stream",
     "text": [
      " 90%|\u001b[34m█████████ \u001b[0m| 9/10 [00:03<00:00,  3.02it/s]\n"
     ]
    },
    {
     "name": "stdout",
     "output_type": "stream",
     "text": [
      "\u001b[36m(launch_and_fit pid=29448)\u001b[0m \tTrain Epoch: 10 \tTrain_loss: 1.5558 | Train_acc: 39.9250 % | Validation_loss: 1.5582 | Validation_acc: 44.1964 %\n",
      "\u001b[36m(launch_and_fit pid=29448)\u001b[0m save graph in  results/FL/\n"
     ]
    },
    {
     "name": "stderr",
     "output_type": "stream",
     "text": [
      "100%|\u001b[34m██████████\u001b[0m| 10/10 [00:03<00:00,  2.56it/s]\n"
     ]
    },
    {
     "name": "stdout",
     "output_type": "stream",
     "text": [
      "\u001b[36m(launch_and_fit pid=29448)\u001b[0m Run WITHOUT homomorphic encryption\n",
      "\u001b[36m(launch_and_fit pid=29448)\u001b[0m  To get the checkpoint\n",
      "\u001b[36m(launch_and_fit pid=29448)\u001b[0m [Client 2, round 5] fit, config: {'learning_rate': 0.003, 'batch_size': '16', 'server_round': 5, 'local_epochs': 10}\n",
      "\u001b[36m(launch_and_fit pid=29448)\u001b[0m Updated model\n"
     ]
    },
    {
     "name": "stderr",
     "output_type": "stream",
     "text": [
      "  0%|\u001b[34m          \u001b[0m| 0/10 [00:00<?, ?it/s]\n"
     ]
    },
    {
     "name": "stdout",
     "output_type": "stream",
     "text": [
      "\u001b[36m(launch_and_fit pid=29448)\u001b[0m \tTrain Epoch: 1 \tTrain_loss: 1.5923 | Train_acc: 38.7500 % | Validation_loss: 1.5874 | Validation_acc: 43.6012 %\n"
     ]
    },
    {
     "name": "stderr",
     "output_type": "stream",
     "text": [
      " 10%|\u001b[34m█         \u001b[0m| 1/10 [00:00<00:06,  1.44it/s]\n"
     ]
    },
    {
     "name": "stdout",
     "output_type": "stream",
     "text": [
      "\u001b[36m(launch_and_fit pid=29448)\u001b[0m \tTrain Epoch: 2 \tTrain_loss: 1.6188 | Train_acc: 39.3000 % | Validation_loss: 1.5512 | Validation_acc: 44.6429 %\n"
     ]
    },
    {
     "name": "stderr",
     "output_type": "stream",
     "text": [
      " 20%|\u001b[34m██        \u001b[0m| 2/10 [00:01<00:05,  1.53it/s]\n"
     ]
    },
    {
     "name": "stdout",
     "output_type": "stream",
     "text": [
      "\u001b[36m(launch_and_fit pid=29448)\u001b[0m \tTrain Epoch: 3 \tTrain_loss: 1.5562 | Train_acc: 40.8000 % | Validation_loss: 1.5361 | Validation_acc: 43.8988 %\n"
     ]
    },
    {
     "name": "stderr",
     "output_type": "stream",
     "text": [
      " 30%|\u001b[34m███       \u001b[0m| 3/10 [00:01<00:03,  1.90it/s]\n"
     ]
    },
    {
     "name": "stdout",
     "output_type": "stream",
     "text": [
      "\u001b[36m(launch_and_fit pid=29448)\u001b[0m \tTrain Epoch: 4 \tTrain_loss: 1.5780 | Train_acc: 40.3000 % | Validation_loss: 1.5660 | Validation_acc: 43.6012 %\n"
     ]
    },
    {
     "name": "stderr",
     "output_type": "stream",
     "text": [
      " 40%|\u001b[34m████      \u001b[0m| 4/10 [00:02<00:02,  2.27it/s]\n"
     ]
    },
    {
     "name": "stdout",
     "output_type": "stream",
     "text": [
      "\u001b[36m(launch_and_fit pid=29448)\u001b[0m \tTrain Epoch: 5 \tTrain_loss: 1.5285 | Train_acc: 40.9500 % | Validation_loss: 1.6791 | Validation_acc: 45.2381 %\n"
     ]
    },
    {
     "name": "stderr",
     "output_type": "stream",
     "text": [
      " 50%|\u001b[34m█████     \u001b[0m| 5/10 [00:02<00:02,  2.15it/s]\n"
     ]
    },
    {
     "name": "stdout",
     "output_type": "stream",
     "text": [
      "\u001b[36m(launch_and_fit pid=29448)\u001b[0m \tTrain Epoch: 6 \tTrain_loss: 1.5439 | Train_acc: 43.0500 % | Validation_loss: 1.6262 | Validation_acc: 42.8571 %\n"
     ]
    },
    {
     "name": "stderr",
     "output_type": "stream",
     "text": [
      " 60%|\u001b[34m██████    \u001b[0m| 6/10 [00:02<00:01,  2.31it/s]\n"
     ]
    },
    {
     "name": "stdout",
     "output_type": "stream",
     "text": [
      "\u001b[36m(launch_and_fit pid=29448)\u001b[0m \tTrain Epoch: 7 \tTrain_loss: 1.5221 | Train_acc: 41.6750 % | Validation_loss: 1.5890 | Validation_acc: 43.8988 %\n"
     ]
    },
    {
     "name": "stderr",
     "output_type": "stream",
     "text": [
      " 70%|\u001b[34m███████   \u001b[0m| 7/10 [00:03<00:01,  2.71it/s]\n"
     ]
    },
    {
     "name": "stdout",
     "output_type": "stream",
     "text": [
      "\u001b[36m(launch_and_fit pid=29448)\u001b[0m \tTrain Epoch: 8 \tTrain_loss: 1.5656 | Train_acc: 41.2750 % | Validation_loss: 1.5866 | Validation_acc: 43.6012 %\n"
     ]
    },
    {
     "name": "stderr",
     "output_type": "stream",
     "text": [
      " 80%|\u001b[34m████████  \u001b[0m| 8/10 [00:03<00:00,  2.71it/s]\n"
     ]
    },
    {
     "name": "stdout",
     "output_type": "stream",
     "text": [
      "\u001b[36m(launch_and_fit pid=29448)\u001b[0m \tTrain Epoch: 9 \tTrain_loss: 1.5014 | Train_acc: 41.7750 % | Validation_loss: 1.5956 | Validation_acc: 39.4345 %\n"
     ]
    },
    {
     "name": "stderr",
     "output_type": "stream",
     "text": [
      " 90%|\u001b[34m█████████ \u001b[0m| 9/10 [00:03<00:00,  2.64it/s]\n"
     ]
    },
    {
     "name": "stdout",
     "output_type": "stream",
     "text": [
      "\u001b[36m(launch_and_fit pid=29448)\u001b[0m \tTrain Epoch: 10 \tTrain_loss: 1.5133 | Train_acc: 40.6500 % | Validation_loss: 1.5850 | Validation_acc: 42.5595 %\n",
      "\u001b[36m(launch_and_fit pid=29448)\u001b[0m save graph in  results/FL/\n"
     ]
    },
    {
     "name": "stderr",
     "output_type": "stream",
     "text": [
      "100%|\u001b[34m██████████\u001b[0m| 10/10 [00:04<00:00,  2.37it/s]\n"
     ]
    },
    {
     "name": "stdout",
     "output_type": "stream",
     "text": [
      "\u001b[36m(launch_and_fit pid=29448)\u001b[0m Run WITHOUT homomorphic encryption\n",
      "\u001b[36m(launch_and_fit pid=29448)\u001b[0m  To get the checkpoint\n",
      "\u001b[36m(launch_and_fit pid=29448)\u001b[0m [Client 3, round 5] fit, config: {'learning_rate': 0.003, 'batch_size': '16', 'server_round': 5, 'local_epochs': 10}\n",
      "\u001b[36m(launch_and_fit pid=29448)\u001b[0m Updated model\n"
     ]
    },
    {
     "name": "stderr",
     "output_type": "stream",
     "text": [
      "  0%|\u001b[34m          \u001b[0m| 0/10 [00:00<?, ?it/s]\n"
     ]
    },
    {
     "name": "stdout",
     "output_type": "stream",
     "text": [
      "\u001b[36m(launch_and_fit pid=29448)\u001b[0m \tTrain Epoch: 1 \tTrain_loss: 1.5668 | Train_acc: 40.0500 % | Validation_loss: 1.6143 | Validation_acc: 40.7738 %\n"
     ]
    },
    {
     "name": "stderr",
     "output_type": "stream",
     "text": [
      " 10%|\u001b[34m█         \u001b[0m| 1/10 [00:00<00:07,  1.25it/s]\n"
     ]
    },
    {
     "name": "stdout",
     "output_type": "stream",
     "text": [
      "\u001b[36m(launch_and_fit pid=29448)\u001b[0m \tTrain Epoch: 2 \tTrain_loss: 1.5415 | Train_acc: 40.1750 % | Validation_loss: 1.6128 | Validation_acc: 38.6905 %\n"
     ]
    },
    {
     "name": "stderr",
     "output_type": "stream",
     "text": [
      " 20%|\u001b[34m██        \u001b[0m| 2/10 [00:01<00:06,  1.26it/s]\n"
     ]
    },
    {
     "name": "stdout",
     "output_type": "stream",
     "text": [
      "\u001b[36m(launch_and_fit pid=29448)\u001b[0m \tTrain Epoch: 3 \tTrain_loss: 1.5177 | Train_acc: 40.5500 % | Validation_loss: 1.6501 | Validation_acc: 36.6071 %\n"
     ]
    },
    {
     "name": "stderr",
     "output_type": "stream",
     "text": [
      " 30%|\u001b[34m███       \u001b[0m| 3/10 [00:02<00:04,  1.41it/s]\n"
     ]
    },
    {
     "name": "stdout",
     "output_type": "stream",
     "text": [
      "\u001b[36m(launch_and_fit pid=29448)\u001b[0m \tTrain Epoch: 4 \tTrain_loss: 1.5059 | Train_acc: 41.5750 % | Validation_loss: 1.6350 | Validation_acc: 42.8571 %\n"
     ]
    },
    {
     "name": "stderr",
     "output_type": "stream",
     "text": [
      " 40%|\u001b[34m████      \u001b[0m| 4/10 [00:02<00:03,  1.81it/s]\n"
     ]
    },
    {
     "name": "stdout",
     "output_type": "stream",
     "text": [
      "\u001b[36m(launch_and_fit pid=29448)\u001b[0m \tTrain Epoch: 5 \tTrain_loss: 1.4982 | Train_acc: 42.5750 % | Validation_loss: 1.6479 | Validation_acc: 35.5655 %\n"
     ]
    },
    {
     "name": "stderr",
     "output_type": "stream",
     "text": [
      " 50%|\u001b[34m█████     \u001b[0m| 5/10 [00:03<00:02,  1.74it/s]\n"
     ]
    },
    {
     "name": "stdout",
     "output_type": "stream",
     "text": [
      "\u001b[36m(launch_and_fit pid=29448)\u001b[0m \tTrain Epoch: 6 \tTrain_loss: 1.4760 | Train_acc: 43.4000 % | Validation_loss: 1.6015 | Validation_acc: 38.3929 %\n"
     ]
    },
    {
     "name": "stderr",
     "output_type": "stream",
     "text": [
      " 60%|\u001b[34m██████    \u001b[0m| 6/10 [00:03<00:01,  2.08it/s]\n"
     ]
    },
    {
     "name": "stdout",
     "output_type": "stream",
     "text": [
      "\u001b[36m(launch_and_fit pid=29448)\u001b[0m \tTrain Epoch: 7 \tTrain_loss: 1.4574 | Train_acc: 43.9500 % | Validation_loss: 1.5215 | Validation_acc: 42.8571 %\n"
     ]
    },
    {
     "name": "stderr",
     "output_type": "stream",
     "text": [
      " 70%|\u001b[34m███████   \u001b[0m| 7/10 [00:03<00:01,  2.38it/s]\n"
     ]
    },
    {
     "name": "stdout",
     "output_type": "stream",
     "text": [
      "\u001b[36m(launch_and_fit pid=29448)\u001b[0m \tTrain Epoch: 8 \tTrain_loss: 1.4630 | Train_acc: 41.2000 % | Validation_loss: 1.7489 | Validation_acc: 39.7321 %\n"
     ]
    },
    {
     "name": "stderr",
     "output_type": "stream",
     "text": [
      " 80%|\u001b[34m████████  \u001b[0m| 8/10 [00:04<00:00,  2.63it/s]\n"
     ]
    },
    {
     "name": "stdout",
     "output_type": "stream",
     "text": [
      "\u001b[36m(launch_and_fit pid=29448)\u001b[0m \tTrain Epoch: 9 \tTrain_loss: 1.5261 | Train_acc: 41.5750 % | Validation_loss: 1.6314 | Validation_acc: 33.9286 %\n"
     ]
    },
    {
     "name": "stderr",
     "output_type": "stream",
     "text": [
      " 90%|\u001b[34m█████████ \u001b[0m| 9/10 [00:04<00:00,  2.58it/s]\n"
     ]
    },
    {
     "name": "stdout",
     "output_type": "stream",
     "text": [
      "\u001b[36m(launch_and_fit pid=29448)\u001b[0m \tTrain Epoch: 10 \tTrain_loss: 1.5097 | Train_acc: 41.9500 % | Validation_loss: 1.6609 | Validation_acc: 32.1429 %\n",
      "\u001b[36m(launch_and_fit pid=29448)\u001b[0m save graph in  results/FL/\n"
     ]
    },
    {
     "name": "stderr",
     "output_type": "stream",
     "text": [
      "100%|\u001b[34m██████████\u001b[0m| 10/10 [00:04<00:00,  2.13it/s]\n",
      "DEBUG flwr 2024-08-30 01:18:31,087 | server.py:236 | fit_round 5 received 4 results and 0 failures\n"
     ]
    },
    {
     "name": "stdout",
     "output_type": "stream",
     "text": [
      "Saving round 5 aggregated_parameters...\n"
     ]
    },
    {
     "name": "stderr",
     "output_type": "stream",
     "text": [
      "INFO flwr 2024-08-30 01:18:31,503 | server.py:125 | fit progress: (5, 1.6735988096757368, {'accuracy': 35.15151515151515}, 120.77566723618656)\n",
      "DEBUG flwr 2024-08-30 01:18:31,504 | server.py:173 | evaluate_round 5: strategy sampled 4 clients (out of 4)\n"
     ]
    },
    {
     "name": "stdout",
     "output_type": "stream",
     "text": [
      "Updated model\n",
      "Server-side evaluation loss 1.6735988096757368 / accuracy 35.15151515151515\n",
      "\u001b[36m(launch_and_evaluate pid=29448)\u001b[0m Run WITHOUT homomorphic encryption\n",
      "\u001b[36m(launch_and_evaluate pid=29448)\u001b[0m  To get the checkpoint\n",
      "\u001b[36m(launch_and_evaluate pid=29448)\u001b[0m [Client 0] evaluate, config: {}\n",
      "\u001b[36m(launch_and_evaluate pid=29448)\u001b[0m Updated model\n",
      "\u001b[36m(launch_and_evaluate pid=29448)\u001b[0m Run WITHOUT homomorphic encryption\n",
      "\u001b[36m(launch_and_evaluate pid=29448)\u001b[0m  To get the checkpoint\n",
      "\u001b[36m(launch_and_evaluate pid=29448)\u001b[0m [Client 3] evaluate, config: {}\n",
      "\u001b[36m(launch_and_evaluate pid=29448)\u001b[0m Updated model\n",
      "\u001b[36m(launch_and_evaluate pid=29448)\u001b[0m Run WITHOUT homomorphic encryption\n",
      "\u001b[36m(launch_and_evaluate pid=29448)\u001b[0m  To get the checkpoint\n",
      "\u001b[36m(launch_and_evaluate pid=29448)\u001b[0m [Client 1] evaluate, config: {}\n",
      "\u001b[36m(launch_and_evaluate pid=29448)\u001b[0m Updated model\n",
      "\u001b[36m(launch_and_evaluate pid=29448)\u001b[0m Run WITHOUT homomorphic encryption\n",
      "\u001b[36m(launch_and_evaluate pid=29448)\u001b[0m  To get the checkpoint\n",
      "\u001b[36m(launch_and_evaluate pid=29448)\u001b[0m [Client 2] evaluate, config: {}\n",
      "\u001b[36m(launch_and_evaluate pid=29448)\u001b[0m Updated model\n"
     ]
    },
    {
     "name": "stderr",
     "output_type": "stream",
     "text": [
      "DEBUG flwr 2024-08-30 01:18:41,304 | server.py:187 | evaluate_round 5 received 4 results and 0 failures\n",
      "DEBUG flwr 2024-08-30 01:18:41,305 | server.py:222 | fit_round 6: strategy sampled 4 clients (out of 4)\n"
     ]
    },
    {
     "name": "stdout",
     "output_type": "stream",
     "text": [
      "\u001b[36m(launch_and_fit pid=29448)\u001b[0m Run WITHOUT homomorphic encryption\n",
      "\u001b[36m(launch_and_fit pid=29448)\u001b[0m  To get the checkpoint\n",
      "\u001b[36m(launch_and_fit pid=29448)\u001b[0m [Client 0, round 6] fit, config: {'learning_rate': 0.003, 'batch_size': '16', 'server_round': 6, 'local_epochs': 10}\n",
      "\u001b[36m(launch_and_fit pid=29448)\u001b[0m Updated model\n"
     ]
    },
    {
     "name": "stderr",
     "output_type": "stream",
     "text": [
      "  0%|\u001b[34m          \u001b[0m| 0/10 [00:00<?, ?it/s]\n"
     ]
    },
    {
     "name": "stdout",
     "output_type": "stream",
     "text": [
      "\u001b[36m(launch_and_fit pid=29448)\u001b[0m \tTrain Epoch: 1 \tTrain_loss: 1.5675 | Train_acc: 41.1750 % | Validation_loss: 1.6711 | Validation_acc: 34.5238 %\n"
     ]
    },
    {
     "name": "stderr",
     "output_type": "stream",
     "text": [
      " 10%|\u001b[34m█         \u001b[0m| 1/10 [00:00<00:08,  1.10it/s]\n"
     ]
    },
    {
     "name": "stdout",
     "output_type": "stream",
     "text": [
      "\u001b[36m(launch_and_fit pid=29448)\u001b[0m \tTrain Epoch: 2 \tTrain_loss: 1.5617 | Train_acc: 39.9250 % | Validation_loss: 1.8410 | Validation_acc: 33.1845 %\n"
     ]
    },
    {
     "name": "stderr",
     "output_type": "stream",
     "text": [
      " 20%|\u001b[34m██        \u001b[0m| 2/10 [00:02<00:08,  1.08s/it]\n"
     ]
    },
    {
     "name": "stdout",
     "output_type": "stream",
     "text": [
      "\u001b[36m(launch_and_fit pid=29448)\u001b[0m \tTrain Epoch: 3 \tTrain_loss: 1.5518 | Train_acc: 41.6000 % | Validation_loss: 1.6072 | Validation_acc: 36.6071 %\n"
     ]
    },
    {
     "name": "stderr",
     "output_type": "stream",
     "text": [
      " 30%|\u001b[34m███       \u001b[0m| 3/10 [00:02<00:06,  1.10it/s]\n"
     ]
    },
    {
     "name": "stdout",
     "output_type": "stream",
     "text": [
      "\u001b[36m(launch_and_fit pid=29448)\u001b[0m \tTrain Epoch: 4 \tTrain_loss: 1.5440 | Train_acc: 41.0000 % | Validation_loss: 1.7092 | Validation_acc: 36.6071 %\n"
     ]
    },
    {
     "name": "stderr",
     "output_type": "stream",
     "text": [
      " 40%|\u001b[34m████      \u001b[0m| 4/10 [00:03<00:05,  1.12it/s]\n"
     ]
    },
    {
     "name": "stdout",
     "output_type": "stream",
     "text": [
      "\u001b[36m(launch_and_fit pid=29448)\u001b[0m \tTrain Epoch: 5 \tTrain_loss: 1.5834 | Train_acc: 39.2750 % | Validation_loss: 1.6698 | Validation_acc: 33.1845 %\n"
     ]
    },
    {
     "name": "stderr",
     "output_type": "stream",
     "text": [
      " 50%|\u001b[34m█████     \u001b[0m| 5/10 [00:04<00:03,  1.40it/s]\n"
     ]
    },
    {
     "name": "stdout",
     "output_type": "stream",
     "text": [
      "\u001b[36m(launch_and_fit pid=29448)\u001b[0m \tTrain Epoch: 6 \tTrain_loss: 1.5045 | Train_acc: 41.6500 % | Validation_loss: 1.6631 | Validation_acc: 38.6905 %\n"
     ]
    },
    {
     "name": "stderr",
     "output_type": "stream",
     "text": [
      " 60%|\u001b[34m██████    \u001b[0m| 6/10 [00:04<00:02,  1.48it/s]\n"
     ]
    },
    {
     "name": "stdout",
     "output_type": "stream",
     "text": [
      "\u001b[36m(launch_and_fit pid=29448)\u001b[0m \tTrain Epoch: 7 \tTrain_loss: 1.4696 | Train_acc: 43.7750 % | Validation_loss: 1.8743 | Validation_acc: 28.7202 %\n"
     ]
    },
    {
     "name": "stderr",
     "output_type": "stream",
     "text": [
      " 70%|\u001b[34m███████   \u001b[0m| 7/10 [00:04<00:01,  1.81it/s]\n"
     ]
    },
    {
     "name": "stdout",
     "output_type": "stream",
     "text": [
      "\u001b[36m(launch_and_fit pid=29448)\u001b[0m \tTrain Epoch: 8 \tTrain_loss: 1.4848 | Train_acc: 40.1500 % | Validation_loss: 1.7554 | Validation_acc: 27.9762 %\n"
     ]
    },
    {
     "name": "stderr",
     "output_type": "stream",
     "text": [
      " 80%|\u001b[34m████████  \u001b[0m| 8/10 [00:05<00:01,  1.75it/s]\n"
     ]
    },
    {
     "name": "stdout",
     "output_type": "stream",
     "text": [
      "\u001b[36m(launch_and_fit pid=29448)\u001b[0m \tTrain Epoch: 9 \tTrain_loss: 1.4406 | Train_acc: 44.6500 % | Validation_loss: 1.7449 | Validation_acc: 33.1845 %\n"
     ]
    },
    {
     "name": "stderr",
     "output_type": "stream",
     "text": [
      " 90%|\u001b[34m█████████ \u001b[0m| 9/10 [00:06<00:00,  1.64it/s]\n"
     ]
    },
    {
     "name": "stdout",
     "output_type": "stream",
     "text": [
      "\u001b[36m(launch_and_fit pid=29448)\u001b[0m \tTrain Epoch: 10 \tTrain_loss: 1.4218 | Train_acc: 44.6750 % | Validation_loss: 1.8144 | Validation_acc: 38.6905 %\n",
      "\u001b[36m(launch_and_fit pid=29448)\u001b[0m save graph in  results/FL/\n"
     ]
    },
    {
     "name": "stderr",
     "output_type": "stream",
     "text": [
      "100%|\u001b[34m██████████\u001b[0m| 10/10 [00:06<00:00,  1.47it/s]\n"
     ]
    },
    {
     "name": "stdout",
     "output_type": "stream",
     "text": [
      "\u001b[36m(launch_and_fit pid=29448)\u001b[0m Run WITHOUT homomorphic encryption\n",
      "\u001b[36m(launch_and_fit pid=29448)\u001b[0m  To get the checkpoint\n",
      "\u001b[36m(launch_and_fit pid=29448)\u001b[0m [Client 1, round 6] fit, config: {'learning_rate': 0.003, 'batch_size': '16', 'server_round': 6, 'local_epochs': 10}\n",
      "\u001b[36m(launch_and_fit pid=29448)\u001b[0m Updated model\n"
     ]
    },
    {
     "name": "stderr",
     "output_type": "stream",
     "text": [
      "  0%|\u001b[34m          \u001b[0m| 0/10 [00:00<?, ?it/s]\n"
     ]
    },
    {
     "name": "stdout",
     "output_type": "stream",
     "text": [
      "\u001b[36m(launch_and_fit pid=29448)\u001b[0m \tTrain Epoch: 1 \tTrain_loss: 1.5704 | Train_acc: 41.2000 % | Validation_loss: 1.4739 | Validation_acc: 46.2798 %\n"
     ]
    },
    {
     "name": "stderr",
     "output_type": "stream",
     "text": [
      " 10%|\u001b[34m█         \u001b[0m| 1/10 [00:00<00:07,  1.14it/s]\n"
     ]
    },
    {
     "name": "stdout",
     "output_type": "stream",
     "text": [
      "\u001b[36m(launch_and_fit pid=29448)\u001b[0m \tTrain Epoch: 2 \tTrain_loss: 1.5285 | Train_acc: 41.7250 % | Validation_loss: 1.5063 | Validation_acc: 50.4464 %\n"
     ]
    },
    {
     "name": "stderr",
     "output_type": "stream",
     "text": [
      " 20%|\u001b[34m██        \u001b[0m| 2/10 [00:01<00:07,  1.12it/s]\n"
     ]
    },
    {
     "name": "stdout",
     "output_type": "stream",
     "text": [
      "\u001b[36m(launch_and_fit pid=29448)\u001b[0m \tTrain Epoch: 3 \tTrain_loss: 1.5475 | Train_acc: 40.9750 % | Validation_loss: 1.5074 | Validation_acc: 42.8571 %\n"
     ]
    },
    {
     "name": "stderr",
     "output_type": "stream",
     "text": [
      " 30%|\u001b[34m███       \u001b[0m| 3/10 [00:02<00:05,  1.24it/s]\n"
     ]
    },
    {
     "name": "stdout",
     "output_type": "stream",
     "text": [
      "\u001b[36m(launch_and_fit pid=29448)\u001b[0m \tTrain Epoch: 4 \tTrain_loss: 1.5062 | Train_acc: 43.9250 % | Validation_loss: 1.5919 | Validation_acc: 42.1131 %\n"
     ]
    },
    {
     "name": "stderr",
     "output_type": "stream",
     "text": [
      " 40%|\u001b[34m████      \u001b[0m| 4/10 [00:02<00:03,  1.54it/s]\n"
     ]
    },
    {
     "name": "stdout",
     "output_type": "stream",
     "text": [
      "\u001b[36m(launch_and_fit pid=29448)\u001b[0m \tTrain Epoch: 5 \tTrain_loss: 1.5348 | Train_acc: 43.1500 % | Validation_loss: 1.5427 | Validation_acc: 43.8988 %\n"
     ]
    },
    {
     "name": "stderr",
     "output_type": "stream",
     "text": [
      " 50%|\u001b[34m█████     \u001b[0m| 5/10 [00:03<00:02,  1.92it/s]\n"
     ]
    },
    {
     "name": "stdout",
     "output_type": "stream",
     "text": [
      "\u001b[36m(launch_and_fit pid=29448)\u001b[0m \tTrain Epoch: 6 \tTrain_loss: 1.5125 | Train_acc: 44.0500 % | Validation_loss: 1.4441 | Validation_acc: 48.3631 %\n"
     ]
    },
    {
     "name": "stderr",
     "output_type": "stream",
     "text": [
      " 60%|\u001b[34m██████    \u001b[0m| 6/10 [00:03<00:01,  2.38it/s]\n"
     ]
    },
    {
     "name": "stdout",
     "output_type": "stream",
     "text": [
      "\u001b[36m(launch_and_fit pid=29448)\u001b[0m \tTrain Epoch: 7 \tTrain_loss: 1.4925 | Train_acc: 43.1000 % | Validation_loss: 1.5323 | Validation_acc: 47.3214 %\n"
     ]
    },
    {
     "name": "stderr",
     "output_type": "stream",
     "text": [
      " 70%|\u001b[34m███████   \u001b[0m| 7/10 [00:03<00:01,  2.47it/s]\n"
     ]
    },
    {
     "name": "stdout",
     "output_type": "stream",
     "text": [
      "\u001b[36m(launch_and_fit pid=29448)\u001b[0m \tTrain Epoch: 8 \tTrain_loss: 1.4637 | Train_acc: 46.2250 % | Validation_loss: 1.4953 | Validation_acc: 43.8988 %\n",
      "\u001b[36m(launch_and_fit pid=29448)\u001b[0m \tTrain Epoch: 9 \tTrain_loss: 1.5236 | Train_acc: 41.5500 % | Validation_loss: 1.5598 | Validation_acc: 47.3214 %\n"
     ]
    },
    {
     "name": "stderr",
     "output_type": "stream",
     "text": [
      " 80%|\u001b[34m████████  \u001b[0m| 8/10 [00:04<00:00,  2.50it/s]\n",
      " 90%|\u001b[34m█████████ \u001b[0m| 9/10 [00:04<00:00,  2.90it/s]\n"
     ]
    },
    {
     "name": "stdout",
     "output_type": "stream",
     "text": [
      "\u001b[36m(launch_and_fit pid=29448)\u001b[0m \tTrain Epoch: 10 \tTrain_loss: 1.4776 | Train_acc: 43.1750 % | Validation_loss: 1.4248 | Validation_acc: 51.4881 %\n",
      "\u001b[36m(launch_and_fit pid=29448)\u001b[0m save graph in  results/FL/\n"
     ]
    },
    {
     "name": "stderr",
     "output_type": "stream",
     "text": [
      "100%|\u001b[34m██████████\u001b[0m| 10/10 [00:04<00:00,  2.14it/s]\n"
     ]
    },
    {
     "name": "stdout",
     "output_type": "stream",
     "text": [
      "\u001b[36m(launch_and_fit pid=29448)\u001b[0m Run WITHOUT homomorphic encryption\n",
      "\u001b[36m(launch_and_fit pid=29448)\u001b[0m  To get the checkpoint\n",
      "\u001b[36m(launch_and_fit pid=29448)\u001b[0m [Client 2, round 6] fit, config: {'learning_rate': 0.003, 'batch_size': '16', 'server_round': 6, 'local_epochs': 10}\n",
      "\u001b[36m(launch_and_fit pid=29448)\u001b[0m Updated model\n"
     ]
    },
    {
     "name": "stderr",
     "output_type": "stream",
     "text": [
      "  0%|\u001b[34m          \u001b[0m| 0/10 [00:00<?, ?it/s]\n"
     ]
    },
    {
     "name": "stdout",
     "output_type": "stream",
     "text": [
      "\u001b[36m(launch_and_fit pid=29448)\u001b[0m \tTrain Epoch: 1 \tTrain_loss: 1.5509 | Train_acc: 43.5750 % | Validation_loss: 1.5865 | Validation_acc: 41.0714 %\n"
     ]
    },
    {
     "name": "stderr",
     "output_type": "stream",
     "text": [
      " 10%|\u001b[34m█         \u001b[0m| 1/10 [00:00<00:07,  1.25it/s]\n"
     ]
    },
    {
     "name": "stdout",
     "output_type": "stream",
     "text": [
      "\u001b[36m(launch_and_fit pid=29448)\u001b[0m \tTrain Epoch: 2 \tTrain_loss: 1.5106 | Train_acc: 42.8000 % | Validation_loss: 1.5435 | Validation_acc: 40.7738 %\n"
     ]
    },
    {
     "name": "stderr",
     "output_type": "stream",
     "text": [
      " 20%|\u001b[34m██        \u001b[0m| 2/10 [00:01<00:05,  1.45it/s]\n"
     ]
    },
    {
     "name": "stdout",
     "output_type": "stream",
     "text": [
      "\u001b[36m(launch_and_fit pid=29448)\u001b[0m \tTrain Epoch: 3 \tTrain_loss: 1.5100 | Train_acc: 43.0250 % | Validation_loss: 1.5340 | Validation_acc: 44.9405 %\n"
     ]
    },
    {
     "name": "stderr",
     "output_type": "stream",
     "text": [
      " 30%|\u001b[34m███       \u001b[0m| 3/10 [00:01<00:04,  1.67it/s]\n"
     ]
    },
    {
     "name": "stdout",
     "output_type": "stream",
     "text": [
      "\u001b[36m(launch_and_fit pid=29448)\u001b[0m \tTrain Epoch: 4 \tTrain_loss: 1.4998 | Train_acc: 44.1750 % | Validation_loss: 1.5627 | Validation_acc: 42.5595 %\n"
     ]
    },
    {
     "name": "stderr",
     "output_type": "stream",
     "text": [
      " 40%|\u001b[34m████      \u001b[0m| 4/10 [00:02<00:03,  1.92it/s]\n"
     ]
    },
    {
     "name": "stdout",
     "output_type": "stream",
     "text": [
      "\u001b[36m(launch_and_fit pid=29448)\u001b[0m \tTrain Epoch: 5 \tTrain_loss: 1.5127 | Train_acc: 44.1750 % | Validation_loss: 1.6110 | Validation_acc: 45.9821 %\n"
     ]
    },
    {
     "name": "stderr",
     "output_type": "stream",
     "text": [
      " 50%|\u001b[34m█████     \u001b[0m| 5/10 [00:02<00:02,  1.81it/s]\n"
     ]
    },
    {
     "name": "stdout",
     "output_type": "stream",
     "text": [
      "\u001b[36m(launch_and_fit pid=29448)\u001b[0m \tTrain Epoch: 6 \tTrain_loss: 1.4714 | Train_acc: 45.1500 % | Validation_loss: 1.5625 | Validation_acc: 33.1845 %\n"
     ]
    },
    {
     "name": "stderr",
     "output_type": "stream",
     "text": [
      " 60%|\u001b[34m██████    \u001b[0m| 6/10 [00:03<00:02,  1.99it/s]\n"
     ]
    },
    {
     "name": "stdout",
     "output_type": "stream",
     "text": [
      "\u001b[36m(launch_and_fit pid=29448)\u001b[0m \tTrain Epoch: 7 \tTrain_loss: 1.5060 | Train_acc: 43.9250 % | Validation_loss: 1.5590 | Validation_acc: 43.8988 %\n"
     ]
    },
    {
     "name": "stderr",
     "output_type": "stream",
     "text": [
      " 70%|\u001b[34m███████   \u001b[0m| 7/10 [00:03<00:01,  1.89it/s]\n"
     ]
    },
    {
     "name": "stdout",
     "output_type": "stream",
     "text": [
      "\u001b[36m(launch_and_fit pid=29448)\u001b[0m \tTrain Epoch: 8 \tTrain_loss: 1.4694 | Train_acc: 43.2750 % | Validation_loss: 1.5548 | Validation_acc: 40.7738 %\n"
     ]
    },
    {
     "name": "stderr",
     "output_type": "stream",
     "text": [
      " 80%|\u001b[34m████████  \u001b[0m| 8/10 [00:04<00:01,  1.90it/s]\n"
     ]
    },
    {
     "name": "stdout",
     "output_type": "stream",
     "text": [
      "\u001b[36m(launch_and_fit pid=29448)\u001b[0m \tTrain Epoch: 9 \tTrain_loss: 1.4317 | Train_acc: 45.0500 % | Validation_loss: 1.5438 | Validation_acc: 45.9821 %\n"
     ]
    },
    {
     "name": "stderr",
     "output_type": "stream",
     "text": [
      " 90%|\u001b[34m█████████ \u001b[0m| 9/10 [00:04<00:00,  2.06it/s]\n"
     ]
    },
    {
     "name": "stdout",
     "output_type": "stream",
     "text": [
      "\u001b[36m(launch_and_fit pid=29448)\u001b[0m \tTrain Epoch: 10 \tTrain_loss: 1.4259 | Train_acc: 45.8250 % | Validation_loss: 1.5836 | Validation_acc: 42.5595 %\n",
      "\u001b[36m(launch_and_fit pid=29448)\u001b[0m save graph in  results/FL/\n"
     ]
    },
    {
     "name": "stderr",
     "output_type": "stream",
     "text": [
      "100%|\u001b[34m██████████\u001b[0m| 10/10 [00:05<00:00,  1.96it/s]\n"
     ]
    },
    {
     "name": "stdout",
     "output_type": "stream",
     "text": [
      "\u001b[36m(launch_and_fit pid=29448)\u001b[0m Run WITHOUT homomorphic encryption\n",
      "\u001b[36m(launch_and_fit pid=29448)\u001b[0m  To get the checkpoint\n",
      "\u001b[36m(launch_and_fit pid=29448)\u001b[0m [Client 3, round 6] fit, config: {'learning_rate': 0.003, 'batch_size': '16', 'server_round': 6, 'local_epochs': 10}\n",
      "\u001b[36m(launch_and_fit pid=29448)\u001b[0m Updated model\n"
     ]
    },
    {
     "name": "stderr",
     "output_type": "stream",
     "text": [
      "  0%|\u001b[34m          \u001b[0m| 0/10 [00:00<?, ?it/s]\n"
     ]
    },
    {
     "name": "stdout",
     "output_type": "stream",
     "text": [
      "\u001b[36m(launch_and_fit pid=29448)\u001b[0m \tTrain Epoch: 1 \tTrain_loss: 1.5487 | Train_acc: 39.7750 % | Validation_loss: 1.5964 | Validation_acc: 34.2262 %\n"
     ]
    },
    {
     "name": "stderr",
     "output_type": "stream",
     "text": [
      " 10%|\u001b[34m█         \u001b[0m| 1/10 [00:01<00:09,  1.00s/it]\n"
     ]
    },
    {
     "name": "stdout",
     "output_type": "stream",
     "text": [
      "\u001b[36m(launch_and_fit pid=29448)\u001b[0m \tTrain Epoch: 2 \tTrain_loss: 1.4942 | Train_acc: 43.4500 % | Validation_loss: 1.6077 | Validation_acc: 37.6488 %\n"
     ]
    },
    {
     "name": "stderr",
     "output_type": "stream",
     "text": [
      " 20%|\u001b[34m██        \u001b[0m| 2/10 [00:02<00:08,  1.11s/it]\n"
     ]
    },
    {
     "name": "stdout",
     "output_type": "stream",
     "text": [
      "\u001b[36m(launch_and_fit pid=29448)\u001b[0m \tTrain Epoch: 3 \tTrain_loss: 1.4823 | Train_acc: 43.3000 % | Validation_loss: 1.5876 | Validation_acc: 36.3095 %\n"
     ]
    },
    {
     "name": "stderr",
     "output_type": "stream",
     "text": [
      " 30%|\u001b[34m███       \u001b[0m| 3/10 [00:02<00:05,  1.27it/s]\n"
     ]
    },
    {
     "name": "stdout",
     "output_type": "stream",
     "text": [
      "\u001b[36m(launch_and_fit pid=29448)\u001b[0m \tTrain Epoch: 4 \tTrain_loss: 1.4830 | Train_acc: 41.6750 % | Validation_loss: 1.5959 | Validation_acc: 32.8869 %\n"
     ]
    },
    {
     "name": "stderr",
     "output_type": "stream",
     "text": [
      " 40%|\u001b[34m████      \u001b[0m| 4/10 [00:03<00:04,  1.32it/s]\n"
     ]
    },
    {
     "name": "stdout",
     "output_type": "stream",
     "text": [
      "\u001b[36m(launch_and_fit pid=29448)\u001b[0m \tTrain Epoch: 5 \tTrain_loss: 1.4789 | Train_acc: 43.4250 % | Validation_loss: 1.6138 | Validation_acc: 36.6071 %\n"
     ]
    },
    {
     "name": "stderr",
     "output_type": "stream",
     "text": [
      " 50%|\u001b[34m█████     \u001b[0m| 5/10 [00:03<00:02,  1.71it/s]\n"
     ]
    },
    {
     "name": "stdout",
     "output_type": "stream",
     "text": [
      "\u001b[36m(launch_and_fit pid=29448)\u001b[0m \tTrain Epoch: 6 \tTrain_loss: 1.4267 | Train_acc: 43.8250 % | Validation_loss: 1.7819 | Validation_acc: 34.6726 %\n"
     ]
    },
    {
     "name": "stderr",
     "output_type": "stream",
     "text": [
      " 60%|\u001b[34m██████    \u001b[0m| 6/10 [00:03<00:01,  2.14it/s]\n"
     ]
    },
    {
     "name": "stdout",
     "output_type": "stream",
     "text": [
      "\u001b[36m(launch_and_fit pid=29448)\u001b[0m \tTrain Epoch: 7 \tTrain_loss: 1.4100 | Train_acc: 43.9250 % | Validation_loss: 1.7134 | Validation_acc: 40.4762 %\n"
     ]
    },
    {
     "name": "stderr",
     "output_type": "stream",
     "text": [
      " 70%|\u001b[34m███████   \u001b[0m| 7/10 [00:04<00:01,  2.00it/s]\n"
     ]
    },
    {
     "name": "stdout",
     "output_type": "stream",
     "text": [
      "\u001b[36m(launch_and_fit pid=29448)\u001b[0m \tTrain Epoch: 8 \tTrain_loss: 1.4567 | Train_acc: 44.8250 % | Validation_loss: 1.7212 | Validation_acc: 40.4762 %\n"
     ]
    },
    {
     "name": "stderr",
     "output_type": "stream",
     "text": [
      " 80%|\u001b[34m████████  \u001b[0m| 8/10 [00:04<00:00,  2.13it/s]\n"
     ]
    },
    {
     "name": "stdout",
     "output_type": "stream",
     "text": [
      "\u001b[36m(launch_and_fit pid=29448)\u001b[0m \tTrain Epoch: 9 \tTrain_loss: 1.4344 | Train_acc: 45.0500 % | Validation_loss: 1.6628 | Validation_acc: 41.0714 %\n"
     ]
    },
    {
     "name": "stderr",
     "output_type": "stream",
     "text": [
      " 90%|\u001b[34m█████████ \u001b[0m| 9/10 [00:05<00:00,  2.23it/s]\n"
     ]
    },
    {
     "name": "stdout",
     "output_type": "stream",
     "text": [
      "\u001b[36m(launch_and_fit pid=29448)\u001b[0m \tTrain Epoch: 10 \tTrain_loss: 1.3778 | Train_acc: 47.9500 % | Validation_loss: 1.7694 | Validation_acc: 37.3512 %\n",
      "\u001b[36m(launch_and_fit pid=29448)\u001b[0m save graph in  results/FL/\n"
     ]
    },
    {
     "name": "stderr",
     "output_type": "stream",
     "text": [
      "100%|\u001b[34m██████████\u001b[0m| 10/10 [00:05<00:00,  1.79it/s]\n",
      "DEBUG flwr 2024-08-30 01:19:10,086 | server.py:236 | fit_round 6 received 4 results and 0 failures\n"
     ]
    },
    {
     "name": "stdout",
     "output_type": "stream",
     "text": [
      "Saving round 6 aggregated_parameters...\n"
     ]
    },
    {
     "name": "stderr",
     "output_type": "stream",
     "text": [
      "INFO flwr 2024-08-30 01:19:10,586 | server.py:125 | fit progress: (6, 1.6154594638130881, {'accuracy': 40.45454545454545}, 159.8585230158642)\n",
      "DEBUG flwr 2024-08-30 01:19:10,591 | server.py:173 | evaluate_round 6: strategy sampled 4 clients (out of 4)\n"
     ]
    },
    {
     "name": "stdout",
     "output_type": "stream",
     "text": [
      "Updated model\n",
      "Server-side evaluation loss 1.6154594638130881 / accuracy 40.45454545454545\n",
      "\u001b[36m(launch_and_evaluate pid=29448)\u001b[0m Run WITHOUT homomorphic encryption\n",
      "\u001b[36m(launch_and_evaluate pid=29448)\u001b[0m  To get the checkpoint\n",
      "\u001b[36m(launch_and_evaluate pid=29448)\u001b[0m [Client 1] evaluate, config: {}\n",
      "\u001b[36m(launch_and_evaluate pid=29448)\u001b[0m Updated model\n",
      "\u001b[36m(launch_and_evaluate pid=29448)\u001b[0m Run WITHOUT homomorphic encryption\n",
      "\u001b[36m(launch_and_evaluate pid=29448)\u001b[0m  To get the checkpoint\n",
      "\u001b[36m(launch_and_evaluate pid=29448)\u001b[0m [Client 2] evaluate, config: {}\n",
      "\u001b[36m(launch_and_evaluate pid=29448)\u001b[0m Updated model\n",
      "\u001b[36m(launch_and_evaluate pid=29448)\u001b[0m Run WITHOUT homomorphic encryption\n",
      "\u001b[36m(launch_and_evaluate pid=29448)\u001b[0m  To get the checkpoint\n",
      "\u001b[36m(launch_and_evaluate pid=29448)\u001b[0m [Client 3] evaluate, config: {}\n",
      "\u001b[36m(launch_and_evaluate pid=29448)\u001b[0m Updated model\n",
      "\u001b[36m(launch_and_evaluate pid=29448)\u001b[0m Run WITHOUT homomorphic encryption\n",
      "\u001b[36m(launch_and_evaluate pid=29448)\u001b[0m  To get the checkpoint\n",
      "\u001b[36m(launch_and_evaluate pid=29448)\u001b[0m [Client 0] evaluate, config: {}\n",
      "\u001b[36m(launch_and_evaluate pid=29448)\u001b[0m Updated model\n"
     ]
    },
    {
     "name": "stderr",
     "output_type": "stream",
     "text": [
      "DEBUG flwr 2024-08-30 01:19:18,977 | server.py:187 | evaluate_round 6 received 4 results and 0 failures\n",
      "DEBUG flwr 2024-08-30 01:19:18,988 | server.py:222 | fit_round 7: strategy sampled 4 clients (out of 4)\n"
     ]
    },
    {
     "name": "stdout",
     "output_type": "stream",
     "text": [
      "\u001b[36m(launch_and_fit pid=29448)\u001b[0m Run WITHOUT homomorphic encryption\n",
      "\u001b[36m(launch_and_fit pid=29448)\u001b[0m  To get the checkpoint\n",
      "\u001b[36m(launch_and_fit pid=29448)\u001b[0m [Client 1, round 7] fit, config: {'learning_rate': 0.003, 'batch_size': '16', 'server_round': 7, 'local_epochs': 10}\n",
      "\u001b[36m(launch_and_fit pid=29448)\u001b[0m Updated model\n"
     ]
    },
    {
     "name": "stderr",
     "output_type": "stream",
     "text": [
      "  0%|\u001b[34m          \u001b[0m| 0/10 [00:00<?, ?it/s]\n"
     ]
    },
    {
     "name": "stdout",
     "output_type": "stream",
     "text": [
      "\u001b[36m(launch_and_fit pid=29448)\u001b[0m \tTrain Epoch: 1 \tTrain_loss: 1.5688 | Train_acc: 41.9000 % | Validation_loss: 1.4306 | Validation_acc: 48.3631 %\n"
     ]
    },
    {
     "name": "stderr",
     "output_type": "stream",
     "text": [
      " 10%|\u001b[34m█         \u001b[0m| 1/10 [00:00<00:08,  1.00it/s]\n"
     ]
    },
    {
     "name": "stdout",
     "output_type": "stream",
     "text": [
      "\u001b[36m(launch_and_fit pid=29448)\u001b[0m \tTrain Epoch: 2 \tTrain_loss: 1.4871 | Train_acc: 43.7000 % | Validation_loss: 1.4122 | Validation_acc: 46.2798 %\n"
     ]
    },
    {
     "name": "stderr",
     "output_type": "stream",
     "text": [
      " 20%|\u001b[34m██        \u001b[0m| 2/10 [00:01<00:06,  1.31it/s]\n"
     ]
    },
    {
     "name": "stdout",
     "output_type": "stream",
     "text": [
      "\u001b[36m(launch_and_fit pid=29448)\u001b[0m \tTrain Epoch: 3 \tTrain_loss: 1.4736 | Train_acc: 44.5250 % | Validation_loss: 1.4780 | Validation_acc: 42.5595 %\n"
     ]
    },
    {
     "name": "stderr",
     "output_type": "stream",
     "text": [
      " 30%|\u001b[34m███       \u001b[0m| 3/10 [00:02<00:05,  1.29it/s]\n"
     ]
    },
    {
     "name": "stdout",
     "output_type": "stream",
     "text": [
      "\u001b[36m(launch_and_fit pid=29448)\u001b[0m \tTrain Epoch: 4 \tTrain_loss: 1.4684 | Train_acc: 44.5500 % | Validation_loss: 1.4875 | Validation_acc: 45.2381 %\n"
     ]
    },
    {
     "name": "stderr",
     "output_type": "stream",
     "text": [
      " 40%|\u001b[34m████      \u001b[0m| 4/10 [00:02<00:03,  1.69it/s]\n"
     ]
    },
    {
     "name": "stdout",
     "output_type": "stream",
     "text": [
      "\u001b[36m(launch_and_fit pid=29448)\u001b[0m \tTrain Epoch: 5 \tTrain_loss: 1.4625 | Train_acc: 45.0250 % | Validation_loss: 1.5042 | Validation_acc: 47.0238 %\n"
     ]
    },
    {
     "name": "stderr",
     "output_type": "stream",
     "text": [
      " 50%|\u001b[34m█████     \u001b[0m| 5/10 [00:03<00:02,  2.02it/s]\n"
     ]
    },
    {
     "name": "stdout",
     "output_type": "stream",
     "text": [
      "\u001b[36m(launch_and_fit pid=29448)\u001b[0m \tTrain Epoch: 6 \tTrain_loss: 1.4099 | Train_acc: 45.6750 % | Validation_loss: 1.4014 | Validation_acc: 43.1548 %\n"
     ]
    },
    {
     "name": "stderr",
     "output_type": "stream",
     "text": [
      " 60%|\u001b[34m██████    \u001b[0m| 6/10 [00:03<00:01,  2.02it/s]\n"
     ]
    },
    {
     "name": "stdout",
     "output_type": "stream",
     "text": [
      "\u001b[36m(launch_and_fit pid=29448)\u001b[0m \tTrain Epoch: 7 \tTrain_loss: 1.4092 | Train_acc: 45.5750 % | Validation_loss: 1.4412 | Validation_acc: 48.0655 %\n"
     ]
    },
    {
     "name": "stderr",
     "output_type": "stream",
     "text": [
      " 70%|\u001b[34m███████   \u001b[0m| 7/10 [00:03<00:01,  2.30it/s]\n"
     ]
    },
    {
     "name": "stdout",
     "output_type": "stream",
     "text": [
      "\u001b[36m(launch_and_fit pid=29448)\u001b[0m \tTrain Epoch: 8 \tTrain_loss: 1.3897 | Train_acc: 48.4750 % | Validation_loss: 1.5944 | Validation_acc: 42.8571 %\n"
     ]
    },
    {
     "name": "stderr",
     "output_type": "stream",
     "text": [
      " 80%|\u001b[34m████████  \u001b[0m| 8/10 [00:04<00:00,  2.08it/s]\n"
     ]
    },
    {
     "name": "stdout",
     "output_type": "stream",
     "text": [
      "\u001b[36m(launch_and_fit pid=29448)\u001b[0m \tTrain Epoch: 9 \tTrain_loss: 1.4122 | Train_acc: 46.0250 % | Validation_loss: 1.6086 | Validation_acc: 42.8571 %\n"
     ]
    },
    {
     "name": "stderr",
     "output_type": "stream",
     "text": [
      " 90%|\u001b[34m█████████ \u001b[0m| 9/10 [00:04<00:00,  2.34it/s]\n"
     ]
    },
    {
     "name": "stdout",
     "output_type": "stream",
     "text": [
      "\u001b[36m(launch_and_fit pid=29448)\u001b[0m \tTrain Epoch: 10 \tTrain_loss: 1.4327 | Train_acc: 46.0750 % | Validation_loss: 1.4605 | Validation_acc: 49.4048 %\n",
      "\u001b[36m(launch_and_fit pid=29448)\u001b[0m save graph in  results/FL/\n"
     ]
    },
    {
     "name": "stderr",
     "output_type": "stream",
     "text": [
      "100%|\u001b[34m██████████\u001b[0m| 10/10 [00:05<00:00,  1.99it/s]\n"
     ]
    },
    {
     "name": "stdout",
     "output_type": "stream",
     "text": [
      "\u001b[36m(launch_and_fit pid=29448)\u001b[0m Run WITHOUT homomorphic encryption\n",
      "\u001b[36m(launch_and_fit pid=29448)\u001b[0m  To get the checkpoint\n",
      "\u001b[36m(launch_and_fit pid=29448)\u001b[0m [Client 3, round 7] fit, config: {'learning_rate': 0.003, 'batch_size': '16', 'server_round': 7, 'local_epochs': 10}\n",
      "\u001b[36m(launch_and_fit pid=29448)\u001b[0m Updated model\n"
     ]
    },
    {
     "name": "stderr",
     "output_type": "stream",
     "text": [
      "  0%|\u001b[34m          \u001b[0m| 0/10 [00:00<?, ?it/s]\n"
     ]
    },
    {
     "name": "stdout",
     "output_type": "stream",
     "text": [
      "\u001b[36m(launch_and_fit pid=29448)\u001b[0m \tTrain Epoch: 1 \tTrain_loss: 1.5518 | Train_acc: 41.3250 % | Validation_loss: 1.5387 | Validation_acc: 34.9702 %\n"
     ]
    },
    {
     "name": "stderr",
     "output_type": "stream",
     "text": [
      " 10%|\u001b[34m█         \u001b[0m| 1/10 [00:00<00:03,  2.34it/s]\n"
     ]
    },
    {
     "name": "stdout",
     "output_type": "stream",
     "text": [
      "\u001b[36m(launch_and_fit pid=29448)\u001b[0m \tTrain Epoch: 2 \tTrain_loss: 1.4523 | Train_acc: 43.3000 % | Validation_loss: 1.5249 | Validation_acc: 41.8155 %\n"
     ]
    },
    {
     "name": "stderr",
     "output_type": "stream",
     "text": [
      " 20%|\u001b[34m██        \u001b[0m| 2/10 [00:01<00:05,  1.43it/s]\n"
     ]
    },
    {
     "name": "stdout",
     "output_type": "stream",
     "text": [
      "\u001b[36m(launch_and_fit pid=29448)\u001b[0m \tTrain Epoch: 3 \tTrain_loss: 1.4244 | Train_acc: 42.1250 % | Validation_loss: 1.5409 | Validation_acc: 43.8988 %\n"
     ]
    },
    {
     "name": "stderr",
     "output_type": "stream",
     "text": [
      " 30%|\u001b[34m███       \u001b[0m| 3/10 [00:02<00:04,  1.43it/s]\n"
     ]
    },
    {
     "name": "stdout",
     "output_type": "stream",
     "text": [
      "\u001b[36m(launch_and_fit pid=29448)\u001b[0m \tTrain Epoch: 4 \tTrain_loss: 1.4202 | Train_acc: 46.6500 % | Validation_loss: 1.7211 | Validation_acc: 38.0952 %\n"
     ]
    },
    {
     "name": "stderr",
     "output_type": "stream",
     "text": [
      " 40%|\u001b[34m████      \u001b[0m| 4/10 [00:02<00:04,  1.28it/s]\n"
     ]
    },
    {
     "name": "stdout",
     "output_type": "stream",
     "text": [
      "\u001b[36m(launch_and_fit pid=29448)\u001b[0m \tTrain Epoch: 5 \tTrain_loss: 1.4071 | Train_acc: 45.4250 % | Validation_loss: 1.6070 | Validation_acc: 38.3929 %\n"
     ]
    },
    {
     "name": "stderr",
     "output_type": "stream",
     "text": [
      " 50%|\u001b[34m█████     \u001b[0m| 5/10 [00:03<00:03,  1.34it/s]\n"
     ]
    },
    {
     "name": "stdout",
     "output_type": "stream",
     "text": [
      "\u001b[36m(launch_and_fit pid=29448)\u001b[0m \tTrain Epoch: 6 \tTrain_loss: 1.3688 | Train_acc: 46.9000 % | Validation_loss: 1.7975 | Validation_acc: 37.0536 %\n",
      "\u001b[36m(launch_and_fit pid=29448)\u001b[0m \tTrain Epoch: 7 \tTrain_loss: 1.3989 | Train_acc: 47.2000 % | Validation_loss: 1.6405 | Validation_acc: 37.6488 %\n"
     ]
    },
    {
     "name": "stderr",
     "output_type": "stream",
     "text": [
      " 60%|\u001b[34m██████    \u001b[0m| 6/10 [00:04<00:02,  1.59it/s]\n",
      " 70%|\u001b[34m███████   \u001b[0m| 7/10 [00:04<00:01,  2.03it/s]\n"
     ]
    },
    {
     "name": "stdout",
     "output_type": "stream",
     "text": [
      "\u001b[36m(launch_and_fit pid=29448)\u001b[0m \tTrain Epoch: 8 \tTrain_loss: 1.3219 | Train_acc: 48.8500 % | Validation_loss: 1.5960 | Validation_acc: 39.4345 %\n"
     ]
    },
    {
     "name": "stderr",
     "output_type": "stream",
     "text": [
      " 80%|\u001b[34m████████  \u001b[0m| 8/10 [00:04<00:00,  2.05it/s]\n"
     ]
    },
    {
     "name": "stdout",
     "output_type": "stream",
     "text": [
      "\u001b[36m(launch_and_fit pid=29448)\u001b[0m \tTrain Epoch: 9 \tTrain_loss: 1.3374 | Train_acc: 47.1750 % | Validation_loss: 1.7226 | Validation_acc: 39.4345 %\n"
     ]
    },
    {
     "name": "stderr",
     "output_type": "stream",
     "text": [
      " 90%|\u001b[34m█████████ \u001b[0m| 9/10 [00:05<00:00,  2.32it/s]\n"
     ]
    },
    {
     "name": "stdout",
     "output_type": "stream",
     "text": [
      "\u001b[36m(launch_and_fit pid=29448)\u001b[0m \tTrain Epoch: 10 \tTrain_loss: 1.3351 | Train_acc: 49.0750 % | Validation_loss: 1.9048 | Validation_acc: 43.8988 %\n",
      "\u001b[36m(launch_and_fit pid=29448)\u001b[0m save graph in  results/FL/\n"
     ]
    },
    {
     "name": "stderr",
     "output_type": "stream",
     "text": [
      "100%|\u001b[34m██████████\u001b[0m| 10/10 [00:05<00:00,  1.92it/s]\n"
     ]
    },
    {
     "name": "stdout",
     "output_type": "stream",
     "text": [
      "\u001b[36m(launch_and_fit pid=29448)\u001b[0m Run WITHOUT homomorphic encryption\n",
      "\u001b[36m(launch_and_fit pid=29448)\u001b[0m  To get the checkpoint\n",
      "\u001b[36m(launch_and_fit pid=29448)\u001b[0m [Client 2, round 7] fit, config: {'learning_rate': 0.003, 'batch_size': '16', 'server_round': 7, 'local_epochs': 10}\n",
      "\u001b[36m(launch_and_fit pid=29448)\u001b[0m Updated model\n"
     ]
    },
    {
     "name": "stderr",
     "output_type": "stream",
     "text": [
      "  0%|\u001b[34m          \u001b[0m| 0/10 [00:00<?, ?it/s]\n"
     ]
    },
    {
     "name": "stdout",
     "output_type": "stream",
     "text": [
      "\u001b[36m(launch_and_fit pid=29448)\u001b[0m \tTrain Epoch: 1 \tTrain_loss: 1.5507 | Train_acc: 40.3500 % | Validation_loss: 1.5586 | Validation_acc: 41.2202 %\n"
     ]
    },
    {
     "name": "stderr",
     "output_type": "stream",
     "text": [
      " 10%|\u001b[34m█         \u001b[0m| 1/10 [00:00<00:07,  1.24it/s]\n"
     ]
    },
    {
     "name": "stdout",
     "output_type": "stream",
     "text": [
      "\u001b[36m(launch_and_fit pid=29448)\u001b[0m \tTrain Epoch: 2 \tTrain_loss: 1.5056 | Train_acc: 42.6750 % | Validation_loss: 1.5743 | Validation_acc: 42.5595 %\n"
     ]
    },
    {
     "name": "stderr",
     "output_type": "stream",
     "text": [
      " 20%|\u001b[34m██        \u001b[0m| 2/10 [00:01<00:04,  1.80it/s]\n"
     ]
    },
    {
     "name": "stdout",
     "output_type": "stream",
     "text": [
      "\u001b[36m(launch_and_fit pid=29448)\u001b[0m \tTrain Epoch: 3 \tTrain_loss: 1.4715 | Train_acc: 44.2750 % | Validation_loss: 1.4845 | Validation_acc: 46.2798 %\n"
     ]
    },
    {
     "name": "stderr",
     "output_type": "stream",
     "text": [
      " 30%|\u001b[34m███       \u001b[0m| 3/10 [00:01<00:03,  2.27it/s]\n"
     ]
    },
    {
     "name": "stdout",
     "output_type": "stream",
     "text": [
      "\u001b[36m(launch_and_fit pid=29448)\u001b[0m \tTrain Epoch: 4 \tTrain_loss: 1.4826 | Train_acc: 43.1500 % | Validation_loss: 1.5284 | Validation_acc: 41.8155 %\n"
     ]
    },
    {
     "name": "stderr",
     "output_type": "stream",
     "text": [
      " 40%|\u001b[34m████      \u001b[0m| 4/10 [00:02<00:03,  1.72it/s]\n"
     ]
    },
    {
     "name": "stdout",
     "output_type": "stream",
     "text": [
      "\u001b[36m(launch_and_fit pid=29448)\u001b[0m \tTrain Epoch: 5 \tTrain_loss: 1.5144 | Train_acc: 42.3000 % | Validation_loss: 1.5741 | Validation_acc: 43.8988 %\n"
     ]
    },
    {
     "name": "stderr",
     "output_type": "stream",
     "text": [
      " 50%|\u001b[34m█████     \u001b[0m| 5/10 [00:02<00:03,  1.61it/s]\n"
     ]
    },
    {
     "name": "stdout",
     "output_type": "stream",
     "text": [
      "\u001b[36m(launch_and_fit pid=29448)\u001b[0m \tTrain Epoch: 6 \tTrain_loss: 1.5074 | Train_acc: 44.1750 % | Validation_loss: 1.5505 | Validation_acc: 47.0238 %\n"
     ]
    },
    {
     "name": "stderr",
     "output_type": "stream",
     "text": [
      " 60%|\u001b[34m██████    \u001b[0m| 6/10 [00:03<00:02,  1.92it/s]\n"
     ]
    },
    {
     "name": "stdout",
     "output_type": "stream",
     "text": [
      "\u001b[36m(launch_and_fit pid=29448)\u001b[0m \tTrain Epoch: 7 \tTrain_loss: 1.4744 | Train_acc: 44.8000 % | Validation_loss: 1.4994 | Validation_acc: 47.0238 %\n"
     ]
    },
    {
     "name": "stderr",
     "output_type": "stream",
     "text": [
      " 70%|\u001b[34m███████   \u001b[0m| 7/10 [00:03<00:01,  2.09it/s]\n"
     ]
    },
    {
     "name": "stdout",
     "output_type": "stream",
     "text": [
      "\u001b[36m(launch_and_fit pid=29448)\u001b[0m \tTrain Epoch: 8 \tTrain_loss: 1.4147 | Train_acc: 47.0500 % | Validation_loss: 1.4953 | Validation_acc: 41.8155 %\n"
     ]
    },
    {
     "name": "stderr",
     "output_type": "stream",
     "text": [
      " 80%|\u001b[34m████████  \u001b[0m| 8/10 [00:04<00:01,  1.94it/s]\n"
     ]
    },
    {
     "name": "stdout",
     "output_type": "stream",
     "text": [
      "\u001b[36m(launch_and_fit pid=29448)\u001b[0m \tTrain Epoch: 9 \tTrain_loss: 1.3815 | Train_acc: 47.9750 % | Validation_loss: 1.5128 | Validation_acc: 45.9821 %\n"
     ]
    },
    {
     "name": "stderr",
     "output_type": "stream",
     "text": [
      " 90%|\u001b[34m█████████ \u001b[0m| 9/10 [00:05<00:00,  1.73it/s]\n"
     ]
    },
    {
     "name": "stdout",
     "output_type": "stream",
     "text": [
      "\u001b[36m(launch_and_fit pid=29448)\u001b[0m \tTrain Epoch: 10 \tTrain_loss: 1.3753 | Train_acc: 48.2500 % | Validation_loss: 1.5362 | Validation_acc: 43.8988 %\n",
      "\u001b[36m(launch_and_fit pid=29448)\u001b[0m save graph in  results/FL/\n"
     ]
    },
    {
     "name": "stderr",
     "output_type": "stream",
     "text": [
      "100%|\u001b[34m██████████\u001b[0m| 10/10 [00:05<00:00,  1.78it/s]\n"
     ]
    },
    {
     "name": "stdout",
     "output_type": "stream",
     "text": [
      "\u001b[36m(launch_and_fit pid=29448)\u001b[0m Run WITHOUT homomorphic encryption\n",
      "\u001b[36m(launch_and_fit pid=29448)\u001b[0m  To get the checkpoint\n",
      "\u001b[36m(launch_and_fit pid=29448)\u001b[0m [Client 0, round 7] fit, config: {'learning_rate': 0.003, 'batch_size': '16', 'server_round': 7, 'local_epochs': 10}\n",
      "\u001b[36m(launch_and_fit pid=29448)\u001b[0m Updated model\n"
     ]
    },
    {
     "name": "stderr",
     "output_type": "stream",
     "text": [
      "  0%|\u001b[34m          \u001b[0m| 0/10 [00:00<?, ?it/s]\n"
     ]
    },
    {
     "name": "stdout",
     "output_type": "stream",
     "text": [
      "\u001b[36m(launch_and_fit pid=29448)\u001b[0m \tTrain Epoch: 1 \tTrain_loss: 1.5308 | Train_acc: 40.4750 % | Validation_loss: 1.6840 | Validation_acc: 32.1429 %\n"
     ]
    },
    {
     "name": "stderr",
     "output_type": "stream",
     "text": [
      " 10%|\u001b[34m█         \u001b[0m| 1/10 [00:01<00:09,  1.01s/it]\n"
     ]
    },
    {
     "name": "stdout",
     "output_type": "stream",
     "text": [
      "\u001b[36m(launch_and_fit pid=29448)\u001b[0m \tTrain Epoch: 2 \tTrain_loss: 1.5437 | Train_acc: 39.9000 % | Validation_loss: 1.6208 | Validation_acc: 35.5655 %\n"
     ]
    },
    {
     "name": "stderr",
     "output_type": "stream",
     "text": [
      " 20%|\u001b[34m██        \u001b[0m| 2/10 [00:01<00:07,  1.07it/s]\n"
     ]
    },
    {
     "name": "stdout",
     "output_type": "stream",
     "text": [
      "\u001b[36m(launch_and_fit pid=29448)\u001b[0m \tTrain Epoch: 3 \tTrain_loss: 1.4592 | Train_acc: 42.7750 % | Validation_loss: 1.6181 | Validation_acc: 36.6071 %\n"
     ]
    },
    {
     "name": "stderr",
     "output_type": "stream",
     "text": [
      " 30%|\u001b[34m███       \u001b[0m| 3/10 [00:02<00:05,  1.35it/s]\n"
     ]
    },
    {
     "name": "stdout",
     "output_type": "stream",
     "text": [
      "\u001b[36m(launch_and_fit pid=29448)\u001b[0m \tTrain Epoch: 4 \tTrain_loss: 1.4450 | Train_acc: 43.8250 % | Validation_loss: 1.7864 | Validation_acc: 34.2262 %\n"
     ]
    },
    {
     "name": "stderr",
     "output_type": "stream",
     "text": [
      " 40%|\u001b[34m████      \u001b[0m| 4/10 [00:02<00:03,  1.88it/s]\n"
     ]
    },
    {
     "name": "stdout",
     "output_type": "stream",
     "text": [
      "\u001b[36m(launch_and_fit pid=29448)\u001b[0m \tTrain Epoch: 5 \tTrain_loss: 1.4525 | Train_acc: 44.5500 % | Validation_loss: 1.6571 | Validation_acc: 39.7321 %\n"
     ]
    },
    {
     "name": "stderr",
     "output_type": "stream",
     "text": [
      " 50%|\u001b[34m█████     \u001b[0m| 5/10 [00:02<00:02,  2.12it/s]\n"
     ]
    },
    {
     "name": "stdout",
     "output_type": "stream",
     "text": [
      "\u001b[36m(launch_and_fit pid=29448)\u001b[0m \tTrain Epoch: 6 \tTrain_loss: 1.4390 | Train_acc: 44.2750 % | Validation_loss: 1.6498 | Validation_acc: 43.1548 %\n"
     ]
    },
    {
     "name": "stderr",
     "output_type": "stream",
     "text": [
      " 60%|\u001b[34m██████    \u001b[0m| 6/10 [00:03<00:01,  2.41it/s]\n"
     ]
    },
    {
     "name": "stdout",
     "output_type": "stream",
     "text": [
      "\u001b[36m(launch_and_fit pid=29448)\u001b[0m \tTrain Epoch: 7 \tTrain_loss: 1.4783 | Train_acc: 42.8750 % | Validation_loss: 1.6299 | Validation_acc: 38.9881 %\n"
     ]
    },
    {
     "name": "stderr",
     "output_type": "stream",
     "text": [
      " 70%|\u001b[34m███████   \u001b[0m| 7/10 [00:03<00:01,  2.83it/s]\n",
      " 80%|\u001b[34m████████  \u001b[0m| 8/10 [00:03<00:00,  2.99it/s]\n"
     ]
    },
    {
     "name": "stdout",
     "output_type": "stream",
     "text": [
      "\u001b[36m(launch_and_fit pid=29448)\u001b[0m \tTrain Epoch: 8 \tTrain_loss: 1.4227 | Train_acc: 43.8000 % | Validation_loss: 1.6284 | Validation_acc: 38.6905 %\n",
      "\u001b[36m(launch_and_fit pid=29448)\u001b[0m \tTrain Epoch: 9 \tTrain_loss: 1.4024 | Train_acc: 45.5500 % | Validation_loss: 1.7098 | Validation_acc: 37.6488 %\n"
     ]
    },
    {
     "name": "stderr",
     "output_type": "stream",
     "text": [
      " 90%|\u001b[34m█████████ \u001b[0m| 9/10 [00:04<00:00,  3.14it/s]\n"
     ]
    },
    {
     "name": "stdout",
     "output_type": "stream",
     "text": [
      "\u001b[36m(launch_and_fit pid=29448)\u001b[0m \tTrain Epoch: 10 \tTrain_loss: 1.3949 | Train_acc: 45.3000 % | Validation_loss: 1.6670 | Validation_acc: 39.7321 %\n",
      "\u001b[36m(launch_and_fit pid=29448)\u001b[0m save graph in  results/FL/\n"
     ]
    },
    {
     "name": "stderr",
     "output_type": "stream",
     "text": [
      "100%|\u001b[34m██████████\u001b[0m| 10/10 [00:04<00:00,  2.28it/s]\n",
      "DEBUG flwr 2024-08-30 01:19:45,583 | server.py:236 | fit_round 7 received 4 results and 0 failures\n"
     ]
    },
    {
     "name": "stdout",
     "output_type": "stream",
     "text": [
      "Saving round 7 aggregated_parameters...\n"
     ]
    },
    {
     "name": "stderr",
     "output_type": "stream",
     "text": [
      "INFO flwr 2024-08-30 01:19:46,102 | server.py:125 | fit progress: (7, 1.5798128214749423, {'accuracy': 41.060606060606055}, 195.37452358799055)\n",
      "DEBUG flwr 2024-08-30 01:19:46,103 | server.py:173 | evaluate_round 7: strategy sampled 4 clients (out of 4)\n"
     ]
    },
    {
     "name": "stdout",
     "output_type": "stream",
     "text": [
      "Updated model\n",
      "Server-side evaluation loss 1.5798128214749423 / accuracy 41.060606060606055\n",
      "\u001b[36m(launch_and_evaluate pid=29448)\u001b[0m Run WITHOUT homomorphic encryption\n",
      "\u001b[36m(launch_and_evaluate pid=29448)\u001b[0m  To get the checkpoint\n",
      "\u001b[36m(launch_and_evaluate pid=29448)\u001b[0m [Client 1] evaluate, config: {}\n",
      "\u001b[36m(launch_and_evaluate pid=29448)\u001b[0m Updated model\n",
      "\u001b[36m(launch_and_evaluate pid=29448)\u001b[0m Run WITHOUT homomorphic encryption\n",
      "\u001b[36m(launch_and_evaluate pid=29448)\u001b[0m  To get the checkpoint\n",
      "\u001b[36m(launch_and_evaluate pid=29448)\u001b[0m [Client 0] evaluate, config: {}\n",
      "\u001b[36m(launch_and_evaluate pid=29448)\u001b[0m Updated model\n",
      "\u001b[36m(launch_and_evaluate pid=29448)\u001b[0m Run WITHOUT homomorphic encryption\n",
      "\u001b[36m(launch_and_evaluate pid=29448)\u001b[0m  To get the checkpoint\n",
      "\u001b[36m(launch_and_evaluate pid=29448)\u001b[0m [Client 2] evaluate, config: {}\n",
      "\u001b[36m(launch_and_evaluate pid=29448)\u001b[0m Updated model\n",
      "\u001b[36m(launch_and_evaluate pid=29448)\u001b[0m Run WITHOUT homomorphic encryption\n",
      "\u001b[36m(launch_and_evaluate pid=29448)\u001b[0m  To get the checkpoint\n",
      "\u001b[36m(launch_and_evaluate pid=29448)\u001b[0m [Client 3] evaluate, config: {}\n",
      "\u001b[36m(launch_and_evaluate pid=29448)\u001b[0m Updated model\n"
     ]
    },
    {
     "name": "stderr",
     "output_type": "stream",
     "text": [
      "DEBUG flwr 2024-08-30 01:19:55,298 | server.py:187 | evaluate_round 7 received 4 results and 0 failures\n",
      "DEBUG flwr 2024-08-30 01:19:55,300 | server.py:222 | fit_round 8: strategy sampled 4 clients (out of 4)\n"
     ]
    },
    {
     "name": "stdout",
     "output_type": "stream",
     "text": [
      "\u001b[36m(launch_and_fit pid=29448)\u001b[0m Run WITHOUT homomorphic encryption\n",
      "\u001b[36m(launch_and_fit pid=29448)\u001b[0m  To get the checkpoint\n",
      "\u001b[36m(launch_and_fit pid=29448)\u001b[0m [Client 3, round 8] fit, config: {'learning_rate': 0.003, 'batch_size': '16', 'server_round': 8, 'local_epochs': 10}\n",
      "\u001b[36m(launch_and_fit pid=29448)\u001b[0m Updated model\n"
     ]
    },
    {
     "name": "stderr",
     "output_type": "stream",
     "text": [
      "  0%|\u001b[34m          \u001b[0m| 0/10 [00:00<?, ?it/s]\n"
     ]
    },
    {
     "name": "stdout",
     "output_type": "stream",
     "text": [
      "\u001b[36m(launch_and_fit pid=29448)\u001b[0m \tTrain Epoch: 1 \tTrain_loss: 1.4790 | Train_acc: 44.2000 % | Validation_loss: 1.6419 | Validation_acc: 34.6726 %\n"
     ]
    },
    {
     "name": "stderr",
     "output_type": "stream",
     "text": [
      " 10%|\u001b[34m█         \u001b[0m| 1/10 [00:00<00:08,  1.00it/s]\n"
     ]
    },
    {
     "name": "stdout",
     "output_type": "stream",
     "text": [
      "\u001b[36m(launch_and_fit pid=29448)\u001b[0m \tTrain Epoch: 2 \tTrain_loss: 1.3695 | Train_acc: 48.4500 % | Validation_loss: 1.6243 | Validation_acc: 38.3929 %\n"
     ]
    },
    {
     "name": "stderr",
     "output_type": "stream",
     "text": [
      " 20%|\u001b[34m██        \u001b[0m| 2/10 [00:02<00:08,  1.12s/it]\n"
     ]
    },
    {
     "name": "stdout",
     "output_type": "stream",
     "text": [
      "\u001b[36m(launch_and_fit pid=29448)\u001b[0m \tTrain Epoch: 3 \tTrain_loss: 1.4017 | Train_acc: 46.3250 % | Validation_loss: 1.6753 | Validation_acc: 32.5893 %\n"
     ]
    },
    {
     "name": "stderr",
     "output_type": "stream",
     "text": [
      " 30%|\u001b[34m███       \u001b[0m| 3/10 [00:03<00:07,  1.10s/it]\n"
     ]
    },
    {
     "name": "stdout",
     "output_type": "stream",
     "text": [
      "\u001b[36m(launch_and_fit pid=29448)\u001b[0m \tTrain Epoch: 4 \tTrain_loss: 1.3885 | Train_acc: 47.2250 % | Validation_loss: 1.6744 | Validation_acc: 36.3095 %\n"
     ]
    },
    {
     "name": "stderr",
     "output_type": "stream",
     "text": [
      " 40%|\u001b[34m████      \u001b[0m| 4/10 [00:03<00:05,  1.09it/s]\n"
     ]
    },
    {
     "name": "stdout",
     "output_type": "stream",
     "text": [
      "\u001b[36m(launch_and_fit pid=29448)\u001b[0m \tTrain Epoch: 5 \tTrain_loss: 1.3220 | Train_acc: 48.4250 % | Validation_loss: 1.8330 | Validation_acc: 34.6726 %\n"
     ]
    },
    {
     "name": "stderr",
     "output_type": "stream",
     "text": [
      " 50%|\u001b[34m█████     \u001b[0m| 5/10 [00:04<00:03,  1.31it/s]\n"
     ]
    },
    {
     "name": "stdout",
     "output_type": "stream",
     "text": [
      "\u001b[36m(launch_and_fit pid=29448)\u001b[0m \tTrain Epoch: 6 \tTrain_loss: 1.3056 | Train_acc: 48.6500 % | Validation_loss: 2.0825 | Validation_acc: 41.5179 %\n"
     ]
    },
    {
     "name": "stderr",
     "output_type": "stream",
     "text": [
      " 60%|\u001b[34m██████    \u001b[0m| 6/10 [00:04<00:02,  1.56it/s]\n"
     ]
    },
    {
     "name": "stdout",
     "output_type": "stream",
     "text": [
      "\u001b[36m(launch_and_fit pid=29448)\u001b[0m \tTrain Epoch: 7 \tTrain_loss: 1.3373 | Train_acc: 48.1000 % | Validation_loss: 1.9038 | Validation_acc: 34.9702 %\n"
     ]
    },
    {
     "name": "stderr",
     "output_type": "stream",
     "text": [
      " 70%|\u001b[34m███████   \u001b[0m| 7/10 [00:05<00:02,  1.45it/s]\n"
     ]
    },
    {
     "name": "stdout",
     "output_type": "stream",
     "text": [
      "\u001b[36m(launch_and_fit pid=29448)\u001b[0m \tTrain Epoch: 8 \tTrain_loss: 1.3129 | Train_acc: 48.3000 % | Validation_loss: 1.8261 | Validation_acc: 43.1548 %\n"
     ]
    },
    {
     "name": "stderr",
     "output_type": "stream",
     "text": [
      " 80%|\u001b[34m████████  \u001b[0m| 8/10 [00:06<00:01,  1.59it/s]\n"
     ]
    },
    {
     "name": "stdout",
     "output_type": "stream",
     "text": [
      "\u001b[36m(launch_and_fit pid=29448)\u001b[0m \tTrain Epoch: 9 \tTrain_loss: 1.3288 | Train_acc: 46.4750 % | Validation_loss: 1.8455 | Validation_acc: 29.4643 %\n"
     ]
    },
    {
     "name": "stderr",
     "output_type": "stream",
     "text": [
      " 90%|\u001b[34m█████████ \u001b[0m| 9/10 [00:06<00:00,  1.60it/s]\n"
     ]
    },
    {
     "name": "stdout",
     "output_type": "stream",
     "text": [
      "\u001b[36m(launch_and_fit pid=29448)\u001b[0m \tTrain Epoch: 10 \tTrain_loss: 1.2832 | Train_acc: 50.9250 % | Validation_loss: 1.9057 | Validation_acc: 44.9405 %\n",
      "\u001b[36m(launch_and_fit pid=29448)\u001b[0m save graph in  results/FL/\n"
     ]
    },
    {
     "name": "stderr",
     "output_type": "stream",
     "text": [
      "100%|\u001b[34m██████████\u001b[0m| 10/10 [00:07<00:00,  1.39it/s]\n"
     ]
    },
    {
     "name": "stdout",
     "output_type": "stream",
     "text": [
      "\u001b[36m(launch_and_fit pid=29448)\u001b[0m Run WITHOUT homomorphic encryption\n",
      "\u001b[36m(launch_and_fit pid=29448)\u001b[0m  To get the checkpoint\n",
      "\u001b[36m(launch_and_fit pid=29448)\u001b[0m [Client 2, round 8] fit, config: {'learning_rate': 0.003, 'batch_size': '16', 'server_round': 8, 'local_epochs': 10}\n",
      "\u001b[36m(launch_and_fit pid=29448)\u001b[0m Updated model\n"
     ]
    },
    {
     "name": "stderr",
     "output_type": "stream",
     "text": [
      "  0%|\u001b[34m          \u001b[0m| 0/10 [00:00<?, ?it/s]\n"
     ]
    },
    {
     "name": "stdout",
     "output_type": "stream",
     "text": [
      "\u001b[36m(launch_and_fit pid=29448)\u001b[0m \tTrain Epoch: 1 \tTrain_loss: 1.5314 | Train_acc: 41.9250 % | Validation_loss: 1.5863 | Validation_acc: 38.0952 %\n"
     ]
    },
    {
     "name": "stderr",
     "output_type": "stream",
     "text": [
      " 10%|\u001b[34m█         \u001b[0m| 1/10 [00:00<00:07,  1.13it/s]\n"
     ]
    },
    {
     "name": "stdout",
     "output_type": "stream",
     "text": [
      "\u001b[36m(launch_and_fit pid=29448)\u001b[0m \tTrain Epoch: 2 \tTrain_loss: 1.4843 | Train_acc: 44.0750 % | Validation_loss: 1.4442 | Validation_acc: 47.0238 %\n"
     ]
    },
    {
     "name": "stderr",
     "output_type": "stream",
     "text": [
      " 20%|\u001b[34m██        \u001b[0m| 2/10 [00:01<00:06,  1.20it/s]\n"
     ]
    },
    {
     "name": "stdout",
     "output_type": "stream",
     "text": [
      "\u001b[36m(launch_and_fit pid=29448)\u001b[0m \tTrain Epoch: 3 \tTrain_loss: 1.4255 | Train_acc: 46.1000 % | Validation_loss: 1.4636 | Validation_acc: 43.8988 %\n"
     ]
    },
    {
     "name": "stderr",
     "output_type": "stream",
     "text": [
      " 30%|\u001b[34m███       \u001b[0m| 3/10 [00:01<00:04,  1.69it/s]\n"
     ]
    },
    {
     "name": "stdout",
     "output_type": "stream",
     "text": [
      "\u001b[36m(launch_and_fit pid=29448)\u001b[0m \tTrain Epoch: 4 \tTrain_loss: 1.4938 | Train_acc: 43.3000 % | Validation_loss: 1.5147 | Validation_acc: 42.5595 %\n"
     ]
    },
    {
     "name": "stderr",
     "output_type": "stream",
     "text": [
      " 40%|\u001b[34m████      \u001b[0m| 4/10 [00:02<00:02,  2.08it/s]\n"
     ]
    },
    {
     "name": "stdout",
     "output_type": "stream",
     "text": [
      "\u001b[36m(launch_and_fit pid=29448)\u001b[0m \tTrain Epoch: 5 \tTrain_loss: 1.4306 | Train_acc: 46.9500 % | Validation_loss: 1.5382 | Validation_acc: 41.2202 %\n"
     ]
    },
    {
     "name": "stderr",
     "output_type": "stream",
     "text": [
      " 50%|\u001b[34m█████     \u001b[0m| 5/10 [00:02<00:02,  2.22it/s]\n"
     ]
    },
    {
     "name": "stdout",
     "output_type": "stream",
     "text": [
      "\u001b[36m(launch_and_fit pid=29448)\u001b[0m \tTrain Epoch: 6 \tTrain_loss: 1.4065 | Train_acc: 47.2500 % | Validation_loss: 1.4343 | Validation_acc: 48.0655 %\n"
     ]
    },
    {
     "name": "stderr",
     "output_type": "stream",
     "text": [
      " 60%|\u001b[34m██████    \u001b[0m| 6/10 [00:03<00:01,  2.29it/s]\n"
     ]
    },
    {
     "name": "stdout",
     "output_type": "stream",
     "text": [
      "\u001b[36m(launch_and_fit pid=29448)\u001b[0m \tTrain Epoch: 7 \tTrain_loss: 1.3897 | Train_acc: 46.9250 % | Validation_loss: 1.4467 | Validation_acc: 47.3214 %\n"
     ]
    },
    {
     "name": "stderr",
     "output_type": "stream",
     "text": [
      " 70%|\u001b[34m███████   \u001b[0m| 7/10 [00:03<00:01,  2.39it/s]\n"
     ]
    },
    {
     "name": "stdout",
     "output_type": "stream",
     "text": [
      "\u001b[36m(launch_and_fit pid=29448)\u001b[0m \tTrain Epoch: 8 \tTrain_loss: 1.3991 | Train_acc: 47.9000 % | Validation_loss: 1.4775 | Validation_acc: 44.1964 %\n"
     ]
    },
    {
     "name": "stderr",
     "output_type": "stream",
     "text": [
      " 80%|\u001b[34m████████  \u001b[0m| 8/10 [00:03<00:00,  2.40it/s]\n"
     ]
    },
    {
     "name": "stdout",
     "output_type": "stream",
     "text": [
      "\u001b[36m(launch_and_fit pid=29448)\u001b[0m \tTrain Epoch: 9 \tTrain_loss: 1.3454 | Train_acc: 49.5500 % | Validation_loss: 1.4924 | Validation_acc: 47.0238 %\n"
     ]
    },
    {
     "name": "stderr",
     "output_type": "stream",
     "text": [
      " 90%|\u001b[34m█████████ \u001b[0m| 9/10 [00:04<00:00,  2.24it/s]\n"
     ]
    },
    {
     "name": "stdout",
     "output_type": "stream",
     "text": [
      "\u001b[36m(launch_and_fit pid=29448)\u001b[0m \tTrain Epoch: 10 \tTrain_loss: 1.3776 | Train_acc: 49.2750 % | Validation_loss: 1.4557 | Validation_acc: 50.4464 %\n",
      "\u001b[36m(launch_and_fit pid=29448)\u001b[0m save graph in  results/FL/\n"
     ]
    },
    {
     "name": "stderr",
     "output_type": "stream",
     "text": [
      "100%|\u001b[34m██████████\u001b[0m| 10/10 [00:04<00:00,  2.08it/s]\n"
     ]
    },
    {
     "name": "stdout",
     "output_type": "stream",
     "text": [
      "\u001b[36m(launch_and_fit pid=29448)\u001b[0m Run WITHOUT homomorphic encryption\n",
      "\u001b[36m(launch_and_fit pid=29448)\u001b[0m  To get the checkpoint\n",
      "\u001b[36m(launch_and_fit pid=29448)\u001b[0m [Client 1, round 8] fit, config: {'learning_rate': 0.003, 'batch_size': '16', 'server_round': 8, 'local_epochs': 10}\n",
      "\u001b[36m(launch_and_fit pid=29448)\u001b[0m Updated model\n"
     ]
    },
    {
     "name": "stderr",
     "output_type": "stream",
     "text": [
      "  0%|\u001b[34m          \u001b[0m| 0/10 [00:00<?, ?it/s]\n"
     ]
    },
    {
     "name": "stdout",
     "output_type": "stream",
     "text": [
      "\u001b[36m(launch_and_fit pid=29448)\u001b[0m \tTrain Epoch: 1 \tTrain_loss: 1.5254 | Train_acc: 42.9250 % | Validation_loss: 1.5126 | Validation_acc: 48.3631 %\n"
     ]
    },
    {
     "name": "stderr",
     "output_type": "stream",
     "text": [
      " 10%|\u001b[34m█         \u001b[0m| 1/10 [00:00<00:06,  1.37it/s]\n"
     ]
    },
    {
     "name": "stdout",
     "output_type": "stream",
     "text": [
      "\u001b[36m(launch_and_fit pid=29448)\u001b[0m \tTrain Epoch: 2 \tTrain_loss: 1.4687 | Train_acc: 46.1750 % | Validation_loss: 1.4354 | Validation_acc: 43.8988 %\n"
     ]
    },
    {
     "name": "stderr",
     "output_type": "stream",
     "text": [
      " 20%|\u001b[34m██        \u001b[0m| 2/10 [00:01<00:05,  1.55it/s]\n"
     ]
    },
    {
     "name": "stdout",
     "output_type": "stream",
     "text": [
      "\u001b[36m(launch_and_fit pid=29448)\u001b[0m \tTrain Epoch: 3 \tTrain_loss: 1.4402 | Train_acc: 47.5500 % | Validation_loss: 1.5078 | Validation_acc: 42.1131 %\n"
     ]
    },
    {
     "name": "stderr",
     "output_type": "stream",
     "text": [
      " 30%|\u001b[34m███       \u001b[0m| 3/10 [00:01<00:04,  1.59it/s]\n"
     ]
    },
    {
     "name": "stdout",
     "output_type": "stream",
     "text": [
      "\u001b[36m(launch_and_fit pid=29448)\u001b[0m \tTrain Epoch: 4 \tTrain_loss: 1.4402 | Train_acc: 47.2250 % | Validation_loss: 1.4817 | Validation_acc: 46.7262 %\n"
     ]
    },
    {
     "name": "stderr",
     "output_type": "stream",
     "text": [
      " 40%|\u001b[34m████      \u001b[0m| 4/10 [00:02<00:03,  1.89it/s]\n"
     ]
    },
    {
     "name": "stdout",
     "output_type": "stream",
     "text": [
      "\u001b[36m(launch_and_fit pid=29448)\u001b[0m \tTrain Epoch: 5 \tTrain_loss: 1.4006 | Train_acc: 47.6500 % | Validation_loss: 1.5172 | Validation_acc: 40.4762 %\n"
     ]
    },
    {
     "name": "stderr",
     "output_type": "stream",
     "text": [
      " 50%|\u001b[34m█████     \u001b[0m| 5/10 [00:02<00:02,  2.04it/s]\n"
     ]
    },
    {
     "name": "stdout",
     "output_type": "stream",
     "text": [
      "\u001b[36m(launch_and_fit pid=29448)\u001b[0m \tTrain Epoch: 6 \tTrain_loss: 1.4119 | Train_acc: 46.7750 % | Validation_loss: 1.4987 | Validation_acc: 44.1964 %\n"
     ]
    },
    {
     "name": "stderr",
     "output_type": "stream",
     "text": [
      " 60%|\u001b[34m██████    \u001b[0m| 6/10 [00:03<00:01,  2.21it/s]\n"
     ]
    },
    {
     "name": "stdout",
     "output_type": "stream",
     "text": [
      "\u001b[36m(launch_and_fit pid=29448)\u001b[0m \tTrain Epoch: 7 \tTrain_loss: 1.4275 | Train_acc: 46.7250 % | Validation_loss: 1.4633 | Validation_acc: 45.2381 %\n"
     ]
    },
    {
     "name": "stderr",
     "output_type": "stream",
     "text": [
      " 70%|\u001b[34m███████   \u001b[0m| 7/10 [00:03<00:01,  2.27it/s]\n"
     ]
    },
    {
     "name": "stdout",
     "output_type": "stream",
     "text": [
      "\u001b[36m(launch_and_fit pid=29448)\u001b[0m \tTrain Epoch: 8 \tTrain_loss: 1.4404 | Train_acc: 46.1750 % | Validation_loss: 1.5282 | Validation_acc: 41.5179 %\n"
     ]
    },
    {
     "name": "stderr",
     "output_type": "stream",
     "text": [
      " 80%|\u001b[34m████████  \u001b[0m| 8/10 [00:03<00:00,  2.50it/s]\n"
     ]
    },
    {
     "name": "stdout",
     "output_type": "stream",
     "text": [
      "\u001b[36m(launch_and_fit pid=29448)\u001b[0m \tTrain Epoch: 9 \tTrain_loss: 1.3424 | Train_acc: 48.6750 % | Validation_loss: 1.5116 | Validation_acc: 42.1131 %\n"
     ]
    },
    {
     "name": "stderr",
     "output_type": "stream",
     "text": [
      " 90%|\u001b[34m█████████ \u001b[0m| 9/10 [00:04<00:00,  2.33it/s]\n"
     ]
    },
    {
     "name": "stdout",
     "output_type": "stream",
     "text": [
      "\u001b[36m(launch_and_fit pid=29448)\u001b[0m \tTrain Epoch: 10 \tTrain_loss: 1.3019 | Train_acc: 50.7250 % | Validation_loss: 1.5731 | Validation_acc: 41.5179 %\n",
      "\u001b[36m(launch_and_fit pid=29448)\u001b[0m save graph in  results/FL/\n"
     ]
    },
    {
     "name": "stderr",
     "output_type": "stream",
     "text": [
      "100%|\u001b[34m██████████\u001b[0m| 10/10 [00:04<00:00,  2.12it/s]\n"
     ]
    },
    {
     "name": "stdout",
     "output_type": "stream",
     "text": [
      "\u001b[36m(launch_and_fit pid=29448)\u001b[0m Run WITHOUT homomorphic encryption\n",
      "\u001b[36m(launch_and_fit pid=29448)\u001b[0m  To get the checkpoint\n",
      "\u001b[36m(launch_and_fit pid=29448)\u001b[0m [Client 0, round 8] fit, config: {'learning_rate': 0.003, 'batch_size': '16', 'server_round': 8, 'local_epochs': 10}\n",
      "\u001b[36m(launch_and_fit pid=29448)\u001b[0m Updated model\n"
     ]
    },
    {
     "name": "stderr",
     "output_type": "stream",
     "text": [
      "  0%|\u001b[34m          \u001b[0m| 0/10 [00:00<?, ?it/s]\n"
     ]
    },
    {
     "name": "stdout",
     "output_type": "stream",
     "text": [
      "\u001b[36m(launch_and_fit pid=29448)\u001b[0m \tTrain Epoch: 1 \tTrain_loss: 1.5044 | Train_acc: 43.5500 % | Validation_loss: 1.6554 | Validation_acc: 38.9881 %\n"
     ]
    },
    {
     "name": "stderr",
     "output_type": "stream",
     "text": [
      " 10%|\u001b[34m█         \u001b[0m| 1/10 [00:00<00:05,  1.68it/s]\n"
     ]
    },
    {
     "name": "stdout",
     "output_type": "stream",
     "text": [
      "\u001b[36m(launch_and_fit pid=29448)\u001b[0m \tTrain Epoch: 2 \tTrain_loss: 1.4491 | Train_acc: 45.6500 % | Validation_loss: 1.6713 | Validation_acc: 34.5238 %\n"
     ]
    },
    {
     "name": "stderr",
     "output_type": "stream",
     "text": [
      " 20%|\u001b[34m██        \u001b[0m| 2/10 [00:01<00:04,  1.83it/s]\n"
     ]
    },
    {
     "name": "stdout",
     "output_type": "stream",
     "text": [
      "\u001b[36m(launch_and_fit pid=29448)\u001b[0m \tTrain Epoch: 3 \tTrain_loss: 1.4783 | Train_acc: 43.3750 % | Validation_loss: 1.6066 | Validation_acc: 41.0714 %\n"
     ]
    },
    {
     "name": "stderr",
     "output_type": "stream",
     "text": [
      " 30%|\u001b[34m███       \u001b[0m| 3/10 [00:01<00:03,  1.92it/s]\n"
     ]
    },
    {
     "name": "stdout",
     "output_type": "stream",
     "text": [
      "\u001b[36m(launch_and_fit pid=29448)\u001b[0m \tTrain Epoch: 4 \tTrain_loss: 1.3821 | Train_acc: 45.7000 % | Validation_loss: 1.6298 | Validation_acc: 45.2381 %\n"
     ]
    },
    {
     "name": "stderr",
     "output_type": "stream",
     "text": [
      " 40%|\u001b[34m████      \u001b[0m| 4/10 [00:01<00:02,  2.25it/s]\n"
     ]
    },
    {
     "name": "stdout",
     "output_type": "stream",
     "text": [
      "\u001b[36m(launch_and_fit pid=29448)\u001b[0m \tTrain Epoch: 5 \tTrain_loss: 1.3850 | Train_acc: 47.0250 % | Validation_loss: 1.7126 | Validation_acc: 38.6905 %\n"
     ]
    },
    {
     "name": "stderr",
     "output_type": "stream",
     "text": [
      " 50%|\u001b[34m█████     \u001b[0m| 5/10 [00:02<00:02,  2.18it/s]\n"
     ]
    },
    {
     "name": "stdout",
     "output_type": "stream",
     "text": [
      "\u001b[36m(launch_and_fit pid=29448)\u001b[0m \tTrain Epoch: 6 \tTrain_loss: 1.3695 | Train_acc: 46.5500 % | Validation_loss: 1.6534 | Validation_acc: 36.6071 %\n"
     ]
    },
    {
     "name": "stderr",
     "output_type": "stream",
     "text": [
      " 60%|\u001b[34m██████    \u001b[0m| 6/10 [00:02<00:01,  2.45it/s]\n"
     ]
    },
    {
     "name": "stdout",
     "output_type": "stream",
     "text": [
      "\u001b[36m(launch_and_fit pid=29448)\u001b[0m \tTrain Epoch: 7 \tTrain_loss: 1.3716 | Train_acc: 48.4500 % | Validation_loss: 1.6872 | Validation_acc: 38.9881 %\n"
     ]
    },
    {
     "name": "stderr",
     "output_type": "stream",
     "text": [
      " 70%|\u001b[34m███████   \u001b[0m| 7/10 [00:03<00:01,  2.47it/s]\n"
     ]
    },
    {
     "name": "stdout",
     "output_type": "stream",
     "text": [
      "\u001b[36m(launch_and_fit pid=29448)\u001b[0m \tTrain Epoch: 8 \tTrain_loss: 1.3489 | Train_acc: 47.9500 % | Validation_loss: 1.6891 | Validation_acc: 41.0714 %\n"
     ]
    },
    {
     "name": "stderr",
     "output_type": "stream",
     "text": [
      " 80%|\u001b[34m████████  \u001b[0m| 8/10 [00:03<00:00,  2.54it/s]\n"
     ]
    },
    {
     "name": "stdout",
     "output_type": "stream",
     "text": [
      "\u001b[36m(launch_and_fit pid=29448)\u001b[0m \tTrain Epoch: 9 \tTrain_loss: 1.3366 | Train_acc: 49.7750 % | Validation_loss: 1.7693 | Validation_acc: 39.7321 %\n"
     ]
    },
    {
     "name": "stderr",
     "output_type": "stream",
     "text": [
      " 90%|\u001b[34m█████████ \u001b[0m| 9/10 [00:03<00:00,  2.73it/s]\n"
     ]
    },
    {
     "name": "stdout",
     "output_type": "stream",
     "text": [
      "\u001b[36m(launch_and_fit pid=29448)\u001b[0m \tTrain Epoch: 10 \tTrain_loss: 1.3403 | Train_acc: 49.8250 % | Validation_loss: 2.2993 | Validation_acc: 37.3512 %\n",
      "\u001b[36m(launch_and_fit pid=29448)\u001b[0m save graph in  results/FL/\n"
     ]
    },
    {
     "name": "stderr",
     "output_type": "stream",
     "text": [
      "100%|\u001b[34m██████████\u001b[0m| 10/10 [00:04<00:00,  2.48it/s]\n",
      "DEBUG flwr 2024-08-30 01:20:21,886 | server.py:236 | fit_round 8 received 4 results and 0 failures\n"
     ]
    },
    {
     "name": "stdout",
     "output_type": "stream",
     "text": [
      "Saving round 8 aggregated_parameters...\n"
     ]
    },
    {
     "name": "stderr",
     "output_type": "stream",
     "text": [
      "INFO flwr 2024-08-30 01:20:22,388 | server.py:125 | fit progress: (8, 1.5598142168738625, {'accuracy': 43.18181818181818}, 231.6599939367734)\n",
      "DEBUG flwr 2024-08-30 01:20:22,389 | server.py:173 | evaluate_round 8: strategy sampled 4 clients (out of 4)\n"
     ]
    },
    {
     "name": "stdout",
     "output_type": "stream",
     "text": [
      "Updated model\n",
      "Server-side evaluation loss 1.5598142168738625 / accuracy 43.18181818181818\n",
      "\u001b[36m(launch_and_evaluate pid=29448)\u001b[0m Run WITHOUT homomorphic encryption\n",
      "\u001b[36m(launch_and_evaluate pid=29448)\u001b[0m  To get the checkpoint\n",
      "\u001b[36m(launch_and_evaluate pid=29448)\u001b[0m [Client 3] evaluate, config: {}\n",
      "\u001b[36m(launch_and_evaluate pid=29448)\u001b[0m Updated model\n",
      "\u001b[36m(launch_and_evaluate pid=29448)\u001b[0m Run WITHOUT homomorphic encryption\n",
      "\u001b[36m(launch_and_evaluate pid=29448)\u001b[0m  To get the checkpoint\n",
      "\u001b[36m(launch_and_evaluate pid=29448)\u001b[0m [Client 1] evaluate, config: {}\n",
      "\u001b[36m(launch_and_evaluate pid=29448)\u001b[0m Updated model\n",
      "\u001b[36m(launch_and_evaluate pid=29448)\u001b[0m Run WITHOUT homomorphic encryption\n",
      "\u001b[36m(launch_and_evaluate pid=29448)\u001b[0m  To get the checkpoint\n",
      "\u001b[36m(launch_and_evaluate pid=29448)\u001b[0m [Client 0] evaluate, config: {}\n",
      "\u001b[36m(launch_and_evaluate pid=29448)\u001b[0m Updated model\n",
      "\u001b[36m(launch_and_evaluate pid=29448)\u001b[0m Run WITHOUT homomorphic encryption\n",
      "\u001b[36m(launch_and_evaluate pid=29448)\u001b[0m  To get the checkpoint\n",
      "\u001b[36m(launch_and_evaluate pid=29448)\u001b[0m [Client 2] evaluate, config: {}\n",
      "\u001b[36m(launch_and_evaluate pid=29448)\u001b[0m Updated model\n"
     ]
    },
    {
     "name": "stderr",
     "output_type": "stream",
     "text": [
      "DEBUG flwr 2024-08-30 01:20:26,776 | server.py:187 | evaluate_round 8 received 4 results and 0 failures\n",
      "DEBUG flwr 2024-08-30 01:20:26,777 | server.py:222 | fit_round 9: strategy sampled 4 clients (out of 4)\n"
     ]
    },
    {
     "name": "stdout",
     "output_type": "stream",
     "text": [
      "\u001b[36m(launch_and_fit pid=29448)\u001b[0m Run WITHOUT homomorphic encryption\n",
      "\u001b[36m(launch_and_fit pid=29448)\u001b[0m  To get the checkpoint\n",
      "\u001b[36m(launch_and_fit pid=29448)\u001b[0m [Client 2, round 9] fit, config: {'learning_rate': 0.003, 'batch_size': '16', 'server_round': 9, 'local_epochs': 10}\n",
      "\u001b[36m(launch_and_fit pid=29448)\u001b[0m Updated model\n",
      "\u001b[36m(launch_and_fit pid=29448)\u001b[0m \tTrain Epoch: 1 \tTrain_loss: 1.4487 | Train_acc: 46.7250 % | Validation_loss: 1.4362 | Validation_acc: 44.9405 %\n"
     ]
    },
    {
     "name": "stderr",
     "output_type": "stream",
     "text": [
      "  0%|\u001b[34m          \u001b[0m| 0/10 [00:00<?, ?it/s]\n"
     ]
    },
    {
     "name": "stdout",
     "output_type": "stream",
     "text": [
      "\u001b[36m(launch_and_fit pid=29448)\u001b[0m \tTrain Epoch: 2 \tTrain_loss: 1.3906 | Train_acc: 48.4250 % | Validation_loss: 1.4757 | Validation_acc: 40.7738 %\n",
      "\u001b[36m(launch_and_fit pid=29448)\u001b[0m \tTrain Epoch: 3 \tTrain_loss: 1.3957 | Train_acc: 46.4500 % | Validation_loss: 1.4419 | Validation_acc: 50.4464 %\n"
     ]
    },
    {
     "name": "stderr",
     "output_type": "stream",
     "text": [
      " 20%|\u001b[34m██        \u001b[0m| 2/10 [00:00<00:00, 11.24it/s]\n"
     ]
    },
    {
     "name": "stdout",
     "output_type": "stream",
     "text": [
      "\u001b[36m(launch_and_fit pid=29448)\u001b[0m \tTrain Epoch: 4 \tTrain_loss: 1.3814 | Train_acc: 48.6750 % | Validation_loss: 1.5095 | Validation_acc: 43.1548 %\n",
      "\u001b[36m(launch_and_fit pid=29448)\u001b[0m \tTrain Epoch: 5 \tTrain_loss: 1.3741 | Train_acc: 48.5750 % | Validation_loss: 1.5262 | Validation_acc: 43.8988 %\n",
      "\u001b[36m(launch_and_fit pid=29448)\u001b[0m \tTrain Epoch: 6 \tTrain_loss: 1.3707 | Train_acc: 48.2000 % | Validation_loss: 1.4205 | Validation_acc: 51.4881 %\n"
     ]
    },
    {
     "name": "stderr",
     "output_type": "stream",
     "text": [
      " 40%|\u001b[34m████      \u001b[0m| 4/10 [00:00<00:00, 11.33it/s]\n",
      " 60%|\u001b[34m██████    \u001b[0m| 6/10 [00:00<00:00, 11.08it/s]\n"
     ]
    },
    {
     "name": "stdout",
     "output_type": "stream",
     "text": [
      "\u001b[36m(launch_and_fit pid=29448)\u001b[0m \tTrain Epoch: 7 \tTrain_loss: 1.2894 | Train_acc: 51.0500 % | Validation_loss: 1.4069 | Validation_acc: 47.0238 %\n",
      "\u001b[36m(launch_and_fit pid=29448)\u001b[0m \tTrain Epoch: 8 \tTrain_loss: 1.3428 | Train_acc: 48.8000 % | Validation_loss: 1.3930 | Validation_acc: 50.4464 %\n"
     ]
    },
    {
     "name": "stderr",
     "output_type": "stream",
     "text": [
      " 80%|\u001b[34m████████  \u001b[0m| 8/10 [00:00<00:00, 11.43it/s]\n"
     ]
    },
    {
     "name": "stdout",
     "output_type": "stream",
     "text": [
      "\u001b[36m(launch_and_fit pid=29448)\u001b[0m \tTrain Epoch: 9 \tTrain_loss: 1.2979 | Train_acc: 50.9500 % | Validation_loss: 1.4231 | Validation_acc: 52.5298 %\n",
      "\u001b[36m(launch_and_fit pid=29448)\u001b[0m \tTrain Epoch: 10 \tTrain_loss: 1.3254 | Train_acc: 50.5000 % | Validation_loss: 1.4861 | Validation_acc: 48.0655 %\n",
      "\u001b[36m(launch_and_fit pid=29448)\u001b[0m save graph in  results/FL/\n"
     ]
    },
    {
     "name": "stderr",
     "output_type": "stream",
     "text": [
      "100%|\u001b[34m██████████\u001b[0m| 10/10 [00:00<00:00, 11.38it/s]\n"
     ]
    },
    {
     "name": "stdout",
     "output_type": "stream",
     "text": [
      "\u001b[36m(launch_and_fit pid=29448)\u001b[0m Run WITHOUT homomorphic encryption\n",
      "\u001b[36m(launch_and_fit pid=29448)\u001b[0m  To get the checkpoint\n",
      "\u001b[36m(launch_and_fit pid=29448)\u001b[0m [Client 0, round 9] fit, config: {'learning_rate': 0.003, 'batch_size': '16', 'server_round': 9, 'local_epochs': 10}\n",
      "\u001b[36m(launch_and_fit pid=29448)\u001b[0m Updated model\n",
      "\u001b[36m(launch_and_fit pid=29448)\u001b[0m \tTrain Epoch: 1 \tTrain_loss: 1.4529 | Train_acc: 46.1500 % | Validation_loss: 1.6660 | Validation_acc: 40.7738 %\n"
     ]
    },
    {
     "name": "stderr",
     "output_type": "stream",
     "text": [
      "  0%|\u001b[34m          \u001b[0m| 0/10 [00:00<?, ?it/s]\n"
     ]
    },
    {
     "name": "stdout",
     "output_type": "stream",
     "text": [
      "\u001b[36m(launch_and_fit pid=29448)\u001b[0m \tTrain Epoch: 2 \tTrain_loss: 1.3709 | Train_acc: 48.9250 % | Validation_loss: 1.6337 | Validation_acc: 46.2798 %\n",
      "\u001b[36m(launch_and_fit pid=29448)\u001b[0m \tTrain Epoch: 3 \tTrain_loss: 1.3615 | Train_acc: 47.0500 % | Validation_loss: 1.6801 | Validation_acc: 40.7738 %\n"
     ]
    },
    {
     "name": "stderr",
     "output_type": "stream",
     "text": [
      " 20%|\u001b[34m██        \u001b[0m| 2/10 [00:00<00:00, 11.96it/s]\n"
     ]
    },
    {
     "name": "stdout",
     "output_type": "stream",
     "text": [
      "\u001b[36m(launch_and_fit pid=29448)\u001b[0m \tTrain Epoch: 4 \tTrain_loss: 1.3442 | Train_acc: 47.8250 % | Validation_loss: 1.6747 | Validation_acc: 43.1548 %\n",
      "\u001b[36m(launch_and_fit pid=29448)\u001b[0m \tTrain Epoch: 5 \tTrain_loss: 1.4301 | Train_acc: 44.0750 % | Validation_loss: 1.7183 | Validation_acc: 37.6488 %\n",
      "\u001b[36m(launch_and_fit pid=29448)\u001b[0m \tTrain Epoch: 6 \tTrain_loss: 1.3553 | Train_acc: 47.4250 % | Validation_loss: 1.7065 | Validation_acc: 47.6190 %\n"
     ]
    },
    {
     "name": "stderr",
     "output_type": "stream",
     "text": [
      " 40%|\u001b[34m████      \u001b[0m| 4/10 [00:00<00:00, 11.76it/s]\n",
      " 60%|\u001b[34m██████    \u001b[0m| 6/10 [00:00<00:00, 11.75it/s]\n"
     ]
    },
    {
     "name": "stdout",
     "output_type": "stream",
     "text": [
      "\u001b[36m(launch_and_fit pid=29448)\u001b[0m \tTrain Epoch: 7 \tTrain_loss: 1.2774 | Train_acc: 50.5250 % | Validation_loss: 1.7272 | Validation_acc: 41.8155 %\n",
      "\u001b[36m(launch_and_fit pid=29448)\u001b[0m \tTrain Epoch: 8 \tTrain_loss: 1.2485 | Train_acc: 52.0750 % | Validation_loss: 1.7555 | Validation_acc: 41.8155 %\n"
     ]
    },
    {
     "name": "stderr",
     "output_type": "stream",
     "text": [
      " 80%|\u001b[34m████████  \u001b[0m| 8/10 [00:00<00:00, 11.79it/s]\n"
     ]
    },
    {
     "name": "stdout",
     "output_type": "stream",
     "text": [
      "\u001b[36m(launch_and_fit pid=29448)\u001b[0m \tTrain Epoch: 9 \tTrain_loss: 1.2371 | Train_acc: 53.4500 % | Validation_loss: 1.7940 | Validation_acc: 40.7738 %\n",
      "\u001b[36m(launch_and_fit pid=29448)\u001b[0m \tTrain Epoch: 10 \tTrain_loss: 1.3957 | Train_acc: 47.0750 % | Validation_loss: 1.6753 | Validation_acc: 42.1131 %\n",
      "\u001b[36m(launch_and_fit pid=29448)\u001b[0m save graph in  results/FL/\n"
     ]
    },
    {
     "name": "stderr",
     "output_type": "stream",
     "text": [
      "100%|\u001b[34m██████████\u001b[0m| 10/10 [00:00<00:00, 11.83it/s]\n"
     ]
    },
    {
     "name": "stdout",
     "output_type": "stream",
     "text": [
      "\u001b[36m(launch_and_fit pid=29448)\u001b[0m Run WITHOUT homomorphic encryption\n",
      "\u001b[36m(launch_and_fit pid=29448)\u001b[0m  To get the checkpoint\n",
      "\u001b[36m(launch_and_fit pid=29448)\u001b[0m [Client 1, round 9] fit, config: {'learning_rate': 0.003, 'batch_size': '16', 'server_round': 9, 'local_epochs': 10}\n",
      "\u001b[36m(launch_and_fit pid=29448)\u001b[0m Updated model\n",
      "\u001b[36m(launch_and_fit pid=29448)\u001b[0m \tTrain Epoch: 1 \tTrain_loss: 1.4731 | Train_acc: 43.7750 % | Validation_loss: 1.3755 | Validation_acc: 46.7262 %\n"
     ]
    },
    {
     "name": "stderr",
     "output_type": "stream",
     "text": [
      "  0%|\u001b[34m          \u001b[0m| 0/10 [00:00<?, ?it/s]\n"
     ]
    },
    {
     "name": "stdout",
     "output_type": "stream",
     "text": [
      "\u001b[36m(launch_and_fit pid=29448)\u001b[0m \tTrain Epoch: 2 \tTrain_loss: 1.4014 | Train_acc: 47.4500 % | Validation_loss: 1.3341 | Validation_acc: 47.3214 %\n",
      "\u001b[36m(launch_and_fit pid=29448)\u001b[0m \tTrain Epoch: 3 \tTrain_loss: 1.3838 | Train_acc: 46.9750 % | Validation_loss: 1.4154 | Validation_acc: 45.2381 %\n"
     ]
    },
    {
     "name": "stderr",
     "output_type": "stream",
     "text": [
      " 20%|\u001b[34m██        \u001b[0m| 2/10 [00:00<00:00, 11.14it/s]\n"
     ]
    },
    {
     "name": "stdout",
     "output_type": "stream",
     "text": [
      "\u001b[36m(launch_and_fit pid=29448)\u001b[0m \tTrain Epoch: 4 \tTrain_loss: 1.3489 | Train_acc: 49.2750 % | Validation_loss: 1.4282 | Validation_acc: 46.2798 %\n",
      "\u001b[36m(launch_and_fit pid=29448)\u001b[0m \tTrain Epoch: 5 \tTrain_loss: 1.3489 | Train_acc: 49.3250 % | Validation_loss: 1.3889 | Validation_acc: 51.4881 %\n",
      "\u001b[36m(launch_and_fit pid=29448)\u001b[0m \tTrain Epoch: 6 \tTrain_loss: 1.3414 | Train_acc: 50.4500 % | Validation_loss: 1.4141 | Validation_acc: 44.6429 %\n"
     ]
    },
    {
     "name": "stderr",
     "output_type": "stream",
     "text": [
      " 40%|\u001b[34m████      \u001b[0m| 4/10 [00:00<00:00, 10.90it/s]\n",
      " 60%|\u001b[34m██████    \u001b[0m| 6/10 [00:00<00:00, 11.62it/s]\n"
     ]
    },
    {
     "name": "stdout",
     "output_type": "stream",
     "text": [
      "\u001b[36m(launch_and_fit pid=29448)\u001b[0m \tTrain Epoch: 7 \tTrain_loss: 1.3079 | Train_acc: 49.5250 % | Validation_loss: 1.4061 | Validation_acc: 50.4464 %\n",
      "\u001b[36m(launch_and_fit pid=29448)\u001b[0m \tTrain Epoch: 8 \tTrain_loss: 1.2813 | Train_acc: 53.0000 % | Validation_loss: 1.5050 | Validation_acc: 49.4048 %\n"
     ]
    },
    {
     "name": "stderr",
     "output_type": "stream",
     "text": [
      " 80%|\u001b[34m████████  \u001b[0m| 8/10 [00:00<00:00, 12.14it/s]\n",
      "100%|\u001b[34m██████████\u001b[0m| 10/10 [00:00<00:00, 11.93it/s]\n"
     ]
    },
    {
     "name": "stdout",
     "output_type": "stream",
     "text": [
      "\u001b[36m(launch_and_fit pid=29448)\u001b[0m \tTrain Epoch: 9 \tTrain_loss: 1.3465 | Train_acc: 49.9500 % | Validation_loss: 1.6813 | Validation_acc: 38.3929 %\n",
      "\u001b[36m(launch_and_fit pid=29448)\u001b[0m \tTrain Epoch: 10 \tTrain_loss: 1.3274 | Train_acc: 47.8000 % | Validation_loss: 1.7126 | Validation_acc: 48.0655 %\n",
      "\u001b[36m(launch_and_fit pid=29448)\u001b[0m save graph in  results/FL/\n",
      "\u001b[36m(launch_and_fit pid=29448)\u001b[0m Run WITHOUT homomorphic encryption\n",
      "\u001b[36m(launch_and_fit pid=29448)\u001b[0m  To get the checkpoint\n",
      "\u001b[36m(launch_and_fit pid=29448)\u001b[0m [Client 3, round 9] fit, config: {'learning_rate': 0.003, 'batch_size': '16', 'server_round': 9, 'local_epochs': 10}\n",
      "\u001b[36m(launch_and_fit pid=29448)\u001b[0m Updated model\n",
      "\u001b[36m(launch_and_fit pid=29448)\u001b[0m \tTrain Epoch: 1 \tTrain_loss: 1.4383 | Train_acc: 46.8000 % | Validation_loss: 1.6009 | Validation_acc: 39.7321 %\n"
     ]
    },
    {
     "name": "stderr",
     "output_type": "stream",
     "text": [
      "  0%|\u001b[34m          \u001b[0m| 0/10 [00:00<?, ?it/s]\n"
     ]
    },
    {
     "name": "stdout",
     "output_type": "stream",
     "text": [
      "\u001b[36m(launch_and_fit pid=29448)\u001b[0m \tTrain Epoch: 2 \tTrain_loss: 1.3622 | Train_acc: 47.7000 % | Validation_loss: 1.5801 | Validation_acc: 38.0952 %\n",
      "\u001b[36m(launch_and_fit pid=29448)\u001b[0m \tTrain Epoch: 3 \tTrain_loss: 1.3028 | Train_acc: 49.1750 % | Validation_loss: 1.5564 | Validation_acc: 37.3512 %\n"
     ]
    },
    {
     "name": "stderr",
     "output_type": "stream",
     "text": [
      " 20%|\u001b[34m██        \u001b[0m| 2/10 [00:00<00:00, 10.51it/s]\n"
     ]
    },
    {
     "name": "stdout",
     "output_type": "stream",
     "text": [
      "\u001b[36m(launch_and_fit pid=29448)\u001b[0m \tTrain Epoch: 4 \tTrain_loss: 1.3251 | Train_acc: 48.4250 % | Validation_loss: 1.8428 | Validation_acc: 37.3512 %\n",
      "\u001b[36m(launch_and_fit pid=29448)\u001b[0m \tTrain Epoch: 5 \tTrain_loss: 1.2954 | Train_acc: 50.8250 % | Validation_loss: 1.7667 | Validation_acc: 37.0536 %\n",
      "\u001b[36m(launch_and_fit pid=29448)\u001b[0m \tTrain Epoch: 6 \tTrain_loss: 1.2938 | Train_acc: 51.8250 % | Validation_loss: 1.6316 | Validation_acc: 32.8869 %\n"
     ]
    },
    {
     "name": "stderr",
     "output_type": "stream",
     "text": [
      " 40%|\u001b[34m████      \u001b[0m| 4/10 [00:00<00:00, 11.03it/s]\n",
      " 60%|\u001b[34m██████    \u001b[0m| 6/10 [00:00<00:00, 11.54it/s]\n"
     ]
    },
    {
     "name": "stdout",
     "output_type": "stream",
     "text": [
      "\u001b[36m(launch_and_fit pid=29448)\u001b[0m \tTrain Epoch: 7 \tTrain_loss: 1.3493 | Train_acc: 48.0750 % | Validation_loss: 1.6813 | Validation_acc: 40.4762 %\n",
      "\u001b[36m(launch_and_fit pid=29448)\u001b[0m \tTrain Epoch: 8 \tTrain_loss: 1.2269 | Train_acc: 52.6000 % | Validation_loss: 1.6985 | Validation_acc: 33.9286 %\n"
     ]
    },
    {
     "name": "stderr",
     "output_type": "stream",
     "text": [
      " 80%|\u001b[34m████████  \u001b[0m| 8/10 [00:00<00:00, 11.62it/s]\n",
      "100%|\u001b[34m██████████\u001b[0m| 10/10 [00:00<00:00, 11.42it/s]\n",
      "DEBUG flwr 2024-08-30 01:20:31,804 | server.py:236 | fit_round 9 received 4 results and 0 failures\n"
     ]
    },
    {
     "name": "stdout",
     "output_type": "stream",
     "text": [
      "\u001b[36m(launch_and_fit pid=29448)\u001b[0m \tTrain Epoch: 9 \tTrain_loss: 1.2474 | Train_acc: 49.7500 % | Validation_loss: 1.8616 | Validation_acc: 34.9702 %\n",
      "\u001b[36m(launch_and_fit pid=29448)\u001b[0m \tTrain Epoch: 10 \tTrain_loss: 1.2184 | Train_acc: 51.7000 % | Validation_loss: 1.9195 | Validation_acc: 37.3512 %\n",
      "\u001b[36m(launch_and_fit pid=29448)\u001b[0m save graph in  results/FL/\n"
     ]
    },
    {
     "name": "stderr",
     "output_type": "stream",
     "text": [
      "INFO flwr 2024-08-30 01:20:31,874 | server.py:125 | fit progress: (9, 1.507030153274536, {'accuracy': 44.810606060606055}, 241.14630810823292)\n",
      "DEBUG flwr 2024-08-30 01:20:31,875 | server.py:173 | evaluate_round 9: strategy sampled 4 clients (out of 4)\n"
     ]
    },
    {
     "name": "stdout",
     "output_type": "stream",
     "text": [
      "Saving round 9 aggregated_parameters...\n",
      "Updated model\n",
      "Server-side evaluation loss 1.507030153274536 / accuracy 44.810606060606055\n",
      "\u001b[36m(launch_and_evaluate pid=29448)\u001b[0m Run WITHOUT homomorphic encryption\n",
      "\u001b[36m(launch_and_evaluate pid=29448)\u001b[0m  To get the checkpoint\n",
      "\u001b[36m(launch_and_evaluate pid=29448)\u001b[0m [Client 0] evaluate, config: {}\n",
      "\u001b[36m(launch_and_evaluate pid=29448)\u001b[0m Updated model\n",
      "\u001b[36m(launch_and_evaluate pid=29448)\u001b[0m Run WITHOUT homomorphic encryption\n",
      "\u001b[36m(launch_and_evaluate pid=29448)\u001b[0m  To get the checkpoint\n",
      "\u001b[36m(launch_and_evaluate pid=29448)\u001b[0m [Client 3] evaluate, config: {}\n",
      "\u001b[36m(launch_and_evaluate pid=29448)\u001b[0m Updated model\n",
      "\u001b[36m(launch_and_evaluate pid=29448)\u001b[0m Run WITHOUT homomorphic encryption\n",
      "\u001b[36m(launch_and_evaluate pid=29448)\u001b[0m  To get the checkpoint\n",
      "\u001b[36m(launch_and_evaluate pid=29448)\u001b[0m [Client 1] evaluate, config: {}\n",
      "\u001b[36m(launch_and_evaluate pid=29448)\u001b[0m Updated model\n",
      "\u001b[36m(launch_and_evaluate pid=29448)\u001b[0m Run WITHOUT homomorphic encryption\n",
      "\u001b[36m(launch_and_evaluate pid=29448)\u001b[0m  To get the checkpoint\n",
      "\u001b[36m(launch_and_evaluate pid=29448)\u001b[0m [Client 2] evaluate, config: {}\n",
      "\u001b[36m(launch_and_evaluate pid=29448)\u001b[0m Updated model\n"
     ]
    },
    {
     "name": "stderr",
     "output_type": "stream",
     "text": [
      "DEBUG flwr 2024-08-30 01:20:34,416 | server.py:187 | evaluate_round 9 received 4 results and 0 failures\n",
      "DEBUG flwr 2024-08-30 01:20:34,417 | server.py:222 | fit_round 10: strategy sampled 4 clients (out of 4)\n"
     ]
    },
    {
     "name": "stdout",
     "output_type": "stream",
     "text": [
      "\u001b[36m(launch_and_fit pid=29448)\u001b[0m Run WITHOUT homomorphic encryption\n",
      "\u001b[36m(launch_and_fit pid=29448)\u001b[0m  To get the checkpoint\n",
      "\u001b[36m(launch_and_fit pid=29448)\u001b[0m [Client 1, round 10] fit, config: {'learning_rate': 0.003, 'batch_size': '16', 'server_round': 10, 'local_epochs': 10}\n",
      "\u001b[36m(launch_and_fit pid=29448)\u001b[0m Updated model\n",
      "\u001b[36m(launch_and_fit pid=29448)\u001b[0m \tTrain Epoch: 1 \tTrain_loss: 1.4312 | Train_acc: 48.1500 % | Validation_loss: 1.3459 | Validation_acc: 51.4881 %\n"
     ]
    },
    {
     "name": "stderr",
     "output_type": "stream",
     "text": [
      "  0%|\u001b[34m          \u001b[0m| 0/10 [00:00<?, ?it/s]\n"
     ]
    },
    {
     "name": "stdout",
     "output_type": "stream",
     "text": [
      "\u001b[36m(launch_and_fit pid=29448)\u001b[0m \tTrain Epoch: 2 \tTrain_loss: 1.4083 | Train_acc: 46.4250 % | Validation_loss: 1.4372 | Validation_acc: 49.4048 %\n",
      "\u001b[36m(launch_and_fit pid=29448)\u001b[0m \tTrain Epoch: 3 \tTrain_loss: 1.3495 | Train_acc: 50.0500 % | Validation_loss: 1.4603 | Validation_acc: 50.7440 %\n",
      "\u001b[36m(launch_and_fit pid=29448)\u001b[0m \tTrain Epoch: 4 \tTrain_loss: 1.3469 | Train_acc: 51.0750 % | Validation_loss: 1.4472 | Validation_acc: 46.2798 %\n"
     ]
    },
    {
     "name": "stderr",
     "output_type": "stream",
     "text": [
      " 20%|\u001b[34m██        \u001b[0m| 2/10 [00:00<00:00, 11.78it/s]\n",
      " 40%|\u001b[34m████      \u001b[0m| 4/10 [00:00<00:00, 11.99it/s]\n"
     ]
    },
    {
     "name": "stdout",
     "output_type": "stream",
     "text": [
      "\u001b[36m(launch_and_fit pid=29448)\u001b[0m \tTrain Epoch: 5 \tTrain_loss: 1.3909 | Train_acc: 47.9500 % | Validation_loss: 1.4688 | Validation_acc: 49.1071 %\n",
      "\u001b[36m(launch_and_fit pid=29448)\u001b[0m \tTrain Epoch: 6 \tTrain_loss: 1.3370 | Train_acc: 50.5500 % | Validation_loss: 1.4725 | Validation_acc: 50.4464 %\n"
     ]
    },
    {
     "name": "stderr",
     "output_type": "stream",
     "text": [
      " 60%|\u001b[34m██████    \u001b[0m| 6/10 [00:00<00:00, 12.20it/s]\n"
     ]
    },
    {
     "name": "stdout",
     "output_type": "stream",
     "text": [
      "\u001b[36m(launch_and_fit pid=29448)\u001b[0m \tTrain Epoch: 7 \tTrain_loss: 1.3193 | Train_acc: 49.5500 % | Validation_loss: 1.5710 | Validation_acc: 45.9821 %\n",
      "\u001b[36m(launch_and_fit pid=29448)\u001b[0m \tTrain Epoch: 8 \tTrain_loss: 1.2602 | Train_acc: 51.6500 % | Validation_loss: 1.5733 | Validation_acc: 39.7321 %\n",
      "\u001b[36m(launch_and_fit pid=29448)\u001b[0m \tTrain Epoch: 9 \tTrain_loss: 1.2574 | Train_acc: 50.5250 % | Validation_loss: 1.6400 | Validation_acc: 43.8988 %\n"
     ]
    },
    {
     "name": "stderr",
     "output_type": "stream",
     "text": [
      " 80%|\u001b[34m████████  \u001b[0m| 8/10 [00:00<00:00, 11.97it/s]\n",
      "100%|\u001b[34m██████████\u001b[0m| 10/10 [00:00<00:00, 12.04it/s]\n"
     ]
    },
    {
     "name": "stdout",
     "output_type": "stream",
     "text": [
      "\u001b[36m(launch_and_fit pid=29448)\u001b[0m \tTrain Epoch: 10 \tTrain_loss: 1.1920 | Train_acc: 54.3000 % | Validation_loss: 1.5772 | Validation_acc: 47.3214 %\n",
      "\u001b[36m(launch_and_fit pid=29448)\u001b[0m save graph in  results/FL/\n",
      "\u001b[36m(launch_and_fit pid=29448)\u001b[0m Run WITHOUT homomorphic encryption\n",
      "\u001b[36m(launch_and_fit pid=29448)\u001b[0m  To get the checkpoint\n",
      "\u001b[36m(launch_and_fit pid=29448)\u001b[0m [Client 0, round 10] fit, config: {'learning_rate': 0.003, 'batch_size': '16', 'server_round': 10, 'local_epochs': 10}\n",
      "\u001b[36m(launch_and_fit pid=29448)\u001b[0m Updated model\n",
      "\u001b[36m(launch_and_fit pid=29448)\u001b[0m \tTrain Epoch: 1 \tTrain_loss: 1.4458 | Train_acc: 46.1500 % | Validation_loss: 1.6930 | Validation_acc: 45.2381 %\n",
      "\u001b[36m(launch_and_fit pid=29448)\u001b[0m \tTrain Epoch: 2 \tTrain_loss: 1.3391 | Train_acc: 47.5500 % | Validation_loss: 1.6138 | Validation_acc: 42.8571 %\n"
     ]
    },
    {
     "name": "stderr",
     "output_type": "stream",
     "text": [
      "  0%|\u001b[34m          \u001b[0m| 0/10 [00:00<?, ?it/s]\n",
      " 20%|\u001b[34m██        \u001b[0m| 2/10 [00:00<00:00, 12.76it/s]\n"
     ]
    },
    {
     "name": "stdout",
     "output_type": "stream",
     "text": [
      "\u001b[36m(launch_and_fit pid=29448)\u001b[0m \tTrain Epoch: 3 \tTrain_loss: 1.2823 | Train_acc: 49.9500 % | Validation_loss: 1.6062 | Validation_acc: 40.7738 %\n",
      "\u001b[36m(launch_and_fit pid=29448)\u001b[0m \tTrain Epoch: 4 \tTrain_loss: 1.2814 | Train_acc: 52.9500 % | Validation_loss: 1.6800 | Validation_acc: 45.2381 %\n"
     ]
    },
    {
     "name": "stderr",
     "output_type": "stream",
     "text": [
      " 40%|\u001b[34m████      \u001b[0m| 4/10 [00:00<00:00, 12.64it/s]\n",
      " 60%|\u001b[34m██████    \u001b[0m| 6/10 [00:00<00:00, 12.84it/s]\n"
     ]
    },
    {
     "name": "stdout",
     "output_type": "stream",
     "text": [
      "\u001b[36m(launch_and_fit pid=29448)\u001b[0m \tTrain Epoch: 5 \tTrain_loss: 1.3055 | Train_acc: 50.3250 % | Validation_loss: 1.7649 | Validation_acc: 39.7321 %\n",
      "\u001b[36m(launch_and_fit pid=29448)\u001b[0m \tTrain Epoch: 6 \tTrain_loss: 1.2379 | Train_acc: 51.5250 % | Validation_loss: 1.7244 | Validation_acc: 43.8988 %\n",
      "\u001b[36m(launch_and_fit pid=29448)\u001b[0m \tTrain Epoch: 7 \tTrain_loss: 1.2258 | Train_acc: 51.6000 % | Validation_loss: 1.7253 | Validation_acc: 45.2381 %\n",
      "\u001b[36m(launch_and_fit pid=29448)\u001b[0m \tTrain Epoch: 8 \tTrain_loss: 1.2751 | Train_acc: 51.3750 % | Validation_loss: 1.6400 | Validation_acc: 42.8571 %\n",
      "\u001b[36m(launch_and_fit pid=29448)\u001b[0m \tTrain Epoch: 9 \tTrain_loss: 1.1966 | Train_acc: 55.5500 % | Validation_loss: 1.7419 | Validation_acc: 48.0655 %\n"
     ]
    },
    {
     "name": "stderr",
     "output_type": "stream",
     "text": [
      " 80%|\u001b[34m████████  \u001b[0m| 8/10 [00:00<00:00, 12.53it/s]\n"
     ]
    },
    {
     "name": "stdout",
     "output_type": "stream",
     "text": [
      "\u001b[36m(launch_and_fit pid=29448)\u001b[0m \tTrain Epoch: 10 \tTrain_loss: 1.2169 | Train_acc: 52.9500 % | Validation_loss: 1.7135 | Validation_acc: 42.8571 %\n",
      "\u001b[36m(launch_and_fit pid=29448)\u001b[0m save graph in  results/FL/\n",
      "\u001b[36m(launch_and_fit pid=29448)\u001b[0m Run WITHOUT homomorphic encryption\n",
      "\u001b[36m(launch_and_fit pid=29448)\u001b[0m  To get the checkpoint\n"
     ]
    },
    {
     "name": "stderr",
     "output_type": "stream",
     "text": [
      "100%|\u001b[34m██████████\u001b[0m| 10/10 [00:00<00:00, 12.53it/s]\n"
     ]
    },
    {
     "name": "stdout",
     "output_type": "stream",
     "text": [
      "\u001b[36m(launch_and_fit pid=29448)\u001b[0m [Client 3, round 10] fit, config: {'learning_rate': 0.003, 'batch_size': '16', 'server_round': 10, 'local_epochs': 10}\n",
      "\u001b[36m(launch_and_fit pid=29448)\u001b[0m Updated model\n",
      "\u001b[36m(launch_and_fit pid=29448)\u001b[0m \tTrain Epoch: 1 \tTrain_loss: 1.4464 | Train_acc: 49.4500 % | Validation_loss: 1.4885 | Validation_acc: 39.4345 %\n"
     ]
    },
    {
     "name": "stderr",
     "output_type": "stream",
     "text": [
      "  0%|\u001b[34m          \u001b[0m| 0/10 [00:00<?, ?it/s]\n"
     ]
    },
    {
     "name": "stdout",
     "output_type": "stream",
     "text": [
      "\u001b[36m(launch_and_fit pid=29448)\u001b[0m \tTrain Epoch: 2 \tTrain_loss: 1.3428 | Train_acc: 50.0250 % | Validation_loss: 1.5250 | Validation_acc: 34.9702 %\n",
      "\u001b[36m(launch_and_fit pid=29448)\u001b[0m \tTrain Epoch: 3 \tTrain_loss: 1.2260 | Train_acc: 52.2000 % | Validation_loss: 1.5706 | Validation_acc: 45.6845 %\n"
     ]
    },
    {
     "name": "stderr",
     "output_type": "stream",
     "text": [
      " 20%|\u001b[34m██        \u001b[0m| 2/10 [00:00<00:00, 12.28it/s]\n"
     ]
    },
    {
     "name": "stdout",
     "output_type": "stream",
     "text": [
      "\u001b[36m(launch_and_fit pid=29448)\u001b[0m \tTrain Epoch: 4 \tTrain_loss: 1.2562 | Train_acc: 52.0750 % | Validation_loss: 1.6440 | Validation_acc: 40.1786 %\n",
      "\u001b[36m(launch_and_fit pid=29448)\u001b[0m \tTrain Epoch: 5 \tTrain_loss: 1.2206 | Train_acc: 54.1000 % | Validation_loss: 1.5629 | Validation_acc: 41.2202 %\n",
      "\u001b[36m(launch_and_fit pid=29448)\u001b[0m \tTrain Epoch: 6 \tTrain_loss: 1.2141 | Train_acc: 53.4250 % | Validation_loss: 1.5920 | Validation_acc: 40.4762 %\n"
     ]
    },
    {
     "name": "stderr",
     "output_type": "stream",
     "text": [
      " 40%|\u001b[34m████      \u001b[0m| 4/10 [00:00<00:00, 11.97it/s]\n",
      " 60%|\u001b[34m██████    \u001b[0m| 6/10 [00:00<00:00, 11.98it/s]\n"
     ]
    },
    {
     "name": "stdout",
     "output_type": "stream",
     "text": [
      "\u001b[36m(launch_and_fit pid=29448)\u001b[0m \tTrain Epoch: 7 \tTrain_loss: 1.1686 | Train_acc: 56.0250 % | Validation_loss: 1.6029 | Validation_acc: 41.2202 %\n",
      "\u001b[36m(launch_and_fit pid=29448)\u001b[0m \tTrain Epoch: 8 \tTrain_loss: 1.1816 | Train_acc: 55.6000 % | Validation_loss: 1.7494 | Validation_acc: 45.9821 %\n"
     ]
    },
    {
     "name": "stderr",
     "output_type": "stream",
     "text": [
      " 80%|\u001b[34m████████  \u001b[0m| 8/10 [00:00<00:00, 11.94it/s]\n"
     ]
    },
    {
     "name": "stdout",
     "output_type": "stream",
     "text": [
      "\u001b[36m(launch_and_fit pid=29448)\u001b[0m \tTrain Epoch: 9 \tTrain_loss: 1.1361 | Train_acc: 55.9000 % | Validation_loss: 1.7046 | Validation_acc: 40.1786 %\n",
      "\u001b[36m(launch_and_fit pid=29448)\u001b[0m \tTrain Epoch: 10 \tTrain_loss: 1.1513 | Train_acc: 55.6000 % | Validation_loss: 1.7516 | Validation_acc: 47.0238 %\n",
      "\u001b[36m(launch_and_fit pid=29448)\u001b[0m save graph in  results/FL/\n"
     ]
    },
    {
     "name": "stderr",
     "output_type": "stream",
     "text": [
      "100%|\u001b[34m██████████\u001b[0m| 10/10 [00:00<00:00, 11.90it/s]\n"
     ]
    },
    {
     "name": "stdout",
     "output_type": "stream",
     "text": [
      "\u001b[36m(launch_and_fit pid=29448)\u001b[0m Run WITHOUT homomorphic encryption\n",
      "\u001b[36m(launch_and_fit pid=29448)\u001b[0m  To get the checkpoint\n",
      "\u001b[36m(launch_and_fit pid=29448)\u001b[0m [Client 2, round 10] fit, config: {'learning_rate': 0.003, 'batch_size': '16', 'server_round': 10, 'local_epochs': 10}\n",
      "\u001b[36m(launch_and_fit pid=29448)\u001b[0m Updated model\n",
      "\u001b[36m(launch_and_fit pid=29448)\u001b[0m \tTrain Epoch: 1 \tTrain_loss: 1.4499 | Train_acc: 47.5750 % | Validation_loss: 1.4074 | Validation_acc: 49.1071 %\n"
     ]
    },
    {
     "name": "stderr",
     "output_type": "stream",
     "text": [
      "  0%|\u001b[34m          \u001b[0m| 0/10 [00:00<?, ?it/s]\n"
     ]
    },
    {
     "name": "stdout",
     "output_type": "stream",
     "text": [
      "\u001b[36m(launch_and_fit pid=29448)\u001b[0m \tTrain Epoch: 2 \tTrain_loss: 1.3798 | Train_acc: 49.7000 % | Validation_loss: 1.4161 | Validation_acc: 47.0238 %\n",
      "\u001b[36m(launch_and_fit pid=29448)\u001b[0m \tTrain Epoch: 3 \tTrain_loss: 1.3408 | Train_acc: 50.9500 % | Validation_loss: 1.3617 | Validation_acc: 48.3631 %\n",
      "\u001b[36m(launch_and_fit pid=29448)\u001b[0m \tTrain Epoch: 4 \tTrain_loss: 1.3689 | Train_acc: 48.3500 % | Validation_loss: 1.4156 | Validation_acc: 50.4464 %\n"
     ]
    },
    {
     "name": "stderr",
     "output_type": "stream",
     "text": [
      " 20%|\u001b[34m██        \u001b[0m| 2/10 [00:00<00:00, 11.70it/s]\n",
      " 40%|\u001b[34m████      \u001b[0m| 4/10 [00:00<00:00, 12.15it/s]\n"
     ]
    },
    {
     "name": "stdout",
     "output_type": "stream",
     "text": [
      "\u001b[36m(launch_and_fit pid=29448)\u001b[0m \tTrain Epoch: 5 \tTrain_loss: 1.2968 | Train_acc: 51.5500 % | Validation_loss: 1.4686 | Validation_acc: 49.4048 %\n",
      "\u001b[36m(launch_and_fit pid=29448)\u001b[0m \tTrain Epoch: 6 \tTrain_loss: 1.3650 | Train_acc: 48.9500 % | Validation_loss: 1.4117 | Validation_acc: 50.4464 %\n"
     ]
    },
    {
     "name": "stderr",
     "output_type": "stream",
     "text": [
      " 60%|\u001b[34m██████    \u001b[0m| 6/10 [00:00<00:00, 12.33it/s]\n"
     ]
    },
    {
     "name": "stdout",
     "output_type": "stream",
     "text": [
      "\u001b[36m(launch_and_fit pid=29448)\u001b[0m \tTrain Epoch: 7 \tTrain_loss: 1.2716 | Train_acc: 50.9500 % | Validation_loss: 1.3764 | Validation_acc: 53.5714 %\n",
      "\u001b[36m(launch_and_fit pid=29448)\u001b[0m \tTrain Epoch: 8 \tTrain_loss: 1.2533 | Train_acc: 51.6500 % | Validation_loss: 1.3972 | Validation_acc: 51.4881 %\n",
      "\u001b[36m(launch_and_fit pid=29448)\u001b[0m \tTrain Epoch: 9 \tTrain_loss: 1.2479 | Train_acc: 53.3750 % | Validation_loss: 1.4384 | Validation_acc: 45.9821 %\n"
     ]
    },
    {
     "name": "stderr",
     "output_type": "stream",
     "text": [
      " 80%|\u001b[34m████████  \u001b[0m| 8/10 [00:00<00:00, 11.90it/s]\n",
      "100%|\u001b[34m██████████\u001b[0m| 10/10 [00:00<00:00, 12.08it/s]\n",
      "DEBUG flwr 2024-08-30 01:20:39,293 | server.py:236 | fit_round 10 received 4 results and 0 failures\n"
     ]
    },
    {
     "name": "stdout",
     "output_type": "stream",
     "text": [
      "\u001b[36m(launch_and_fit pid=29448)\u001b[0m \tTrain Epoch: 10 \tTrain_loss: 1.2633 | Train_acc: 51.4250 % | Validation_loss: 1.5259 | Validation_acc: 39.7321 %\n",
      "\u001b[36m(launch_and_fit pid=29448)\u001b[0m save graph in  results/FL/\n",
      "Saving round 10 aggregated_parameters...\n",
      "Updated model\n"
     ]
    },
    {
     "name": "stderr",
     "output_type": "stream",
     "text": [
      "INFO flwr 2024-08-30 01:20:39,351 | server.py:125 | fit progress: (10, 1.593534855409102, {'accuracy': 43.06818181818181}, 248.62333850516006)\n",
      "DEBUG flwr 2024-08-30 01:20:39,351 | server.py:173 | evaluate_round 10: strategy sampled 4 clients (out of 4)\n"
     ]
    },
    {
     "name": "stdout",
     "output_type": "stream",
     "text": [
      "Server-side evaluation loss 1.593534855409102 / accuracy 43.06818181818181\n",
      "\u001b[36m(launch_and_evaluate pid=29448)\u001b[0m Run WITHOUT homomorphic encryption\n",
      "\u001b[36m(launch_and_evaluate pid=29448)\u001b[0m  To get the checkpoint\n",
      "\u001b[36m(launch_and_evaluate pid=29448)\u001b[0m [Client 2] evaluate, config: {}\n",
      "\u001b[36m(launch_and_evaluate pid=29448)\u001b[0m Updated model\n",
      "\u001b[36m(launch_and_evaluate pid=29448)\u001b[0m Run WITHOUT homomorphic encryption\n",
      "\u001b[36m(launch_and_evaluate pid=29448)\u001b[0m  To get the checkpoint\n",
      "\u001b[36m(launch_and_evaluate pid=29448)\u001b[0m [Client 3] evaluate, config: {}\n",
      "\u001b[36m(launch_and_evaluate pid=29448)\u001b[0m Updated model\n",
      "\u001b[36m(launch_and_evaluate pid=29448)\u001b[0m Run WITHOUT homomorphic encryption\n",
      "\u001b[36m(launch_and_evaluate pid=29448)\u001b[0m  To get the checkpoint\n",
      "\u001b[36m(launch_and_evaluate pid=29448)\u001b[0m [Client 0] evaluate, config: {}\n",
      "\u001b[36m(launch_and_evaluate pid=29448)\u001b[0m Updated model\n",
      "\u001b[36m(launch_and_evaluate pid=29448)\u001b[0m Run WITHOUT homomorphic encryption\n",
      "\u001b[36m(launch_and_evaluate pid=29448)\u001b[0m  To get the checkpoint\n",
      "\u001b[36m(launch_and_evaluate pid=29448)\u001b[0m [Client 1] evaluate, config: {}\n",
      "\u001b[36m(launch_and_evaluate pid=29448)\u001b[0m Updated model\n"
     ]
    },
    {
     "name": "stderr",
     "output_type": "stream",
     "text": [
      "DEBUG flwr 2024-08-30 01:20:41,625 | server.py:187 | evaluate_round 10 received 4 results and 0 failures\n",
      "DEBUG flwr 2024-08-30 01:20:41,626 | server.py:222 | fit_round 11: strategy sampled 4 clients (out of 4)\n"
     ]
    },
    {
     "name": "stdout",
     "output_type": "stream",
     "text": [
      "\u001b[36m(launch_and_fit pid=29448)\u001b[0m Run WITHOUT homomorphic encryption\n",
      "\u001b[36m(launch_and_fit pid=29448)\u001b[0m  To get the checkpoint\n",
      "\u001b[36m(launch_and_fit pid=29448)\u001b[0m [Client 1, round 11] fit, config: {'learning_rate': 0.003, 'batch_size': '16', 'server_round': 11, 'local_epochs': 10}\n",
      "\u001b[36m(launch_and_fit pid=29448)\u001b[0m Updated model\n",
      "\u001b[36m(launch_and_fit pid=29448)\u001b[0m \tTrain Epoch: 1 \tTrain_loss: 1.3812 | Train_acc: 48.2000 % | Validation_loss: 1.5451 | Validation_acc: 48.3631 %\n"
     ]
    },
    {
     "name": "stderr",
     "output_type": "stream",
     "text": [
      "  0%|\u001b[34m          \u001b[0m| 0/10 [00:00<?, ?it/s]\n",
      " 10%|\u001b[34m█         \u001b[0m| 1/10 [00:00<00:00,  9.69it/s]\n"
     ]
    },
    {
     "name": "stdout",
     "output_type": "stream",
     "text": [
      "\u001b[36m(launch_and_fit pid=29448)\u001b[0m \tTrain Epoch: 2 \tTrain_loss: 1.3220 | Train_acc: 52.4000 % | Validation_loss: 1.3053 | Validation_acc: 51.1905 %\n",
      "\u001b[36m(launch_and_fit pid=29448)\u001b[0m \tTrain Epoch: 3 \tTrain_loss: 1.3060 | Train_acc: 50.4250 % | Validation_loss: 1.4653 | Validation_acc: 56.6964 %\n",
      "\u001b[36m(launch_and_fit pid=29448)\u001b[0m \tTrain Epoch: 4 \tTrain_loss: 1.3642 | Train_acc: 48.2000 % | Validation_loss: 1.4253 | Validation_acc: 51.4881 %\n"
     ]
    },
    {
     "name": "stderr",
     "output_type": "stream",
     "text": [
      " 30%|\u001b[34m███       \u001b[0m| 3/10 [00:00<00:00, 10.55it/s]\n",
      " 50%|\u001b[34m█████     \u001b[0m| 5/10 [00:00<00:00, 10.59it/s]\n"
     ]
    },
    {
     "name": "stdout",
     "output_type": "stream",
     "text": [
      "\u001b[36m(launch_and_fit pid=29448)\u001b[0m \tTrain Epoch: 5 \tTrain_loss: 1.2320 | Train_acc: 52.9500 % | Validation_loss: 1.3738 | Validation_acc: 44.6429 %\n",
      "\u001b[36m(launch_and_fit pid=29448)\u001b[0m \tTrain Epoch: 6 \tTrain_loss: 1.2532 | Train_acc: 53.0750 % | Validation_loss: 1.4706 | Validation_acc: 51.4881 %\n",
      "\u001b[36m(launch_and_fit pid=29448)\u001b[0m \tTrain Epoch: 7 \tTrain_loss: 1.1800 | Train_acc: 55.3250 % | Validation_loss: 1.3541 | Validation_acc: 44.9405 %\n",
      "\u001b[36m(launch_and_fit pid=29448)\u001b[0m \tTrain Epoch: 8 \tTrain_loss: 1.1814 | Train_acc: 54.3500 % | Validation_loss: 1.3867 | Validation_acc: 44.6429 %\n"
     ]
    },
    {
     "name": "stderr",
     "output_type": "stream",
     "text": [
      " 70%|\u001b[34m███████   \u001b[0m| 7/10 [00:00<00:00, 10.94it/s]\n"
     ]
    },
    {
     "name": "stdout",
     "output_type": "stream",
     "text": [
      "\u001b[36m(launch_and_fit pid=29448)\u001b[0m \tTrain Epoch: 9 \tTrain_loss: 1.2588 | Train_acc: 52.4250 % | Validation_loss: 1.3927 | Validation_acc: 53.5714 %\n",
      "\u001b[36m(launch_and_fit pid=29448)\u001b[0m \tTrain Epoch: 10 \tTrain_loss: 1.1669 | Train_acc: 55.6250 % | Validation_loss: 1.5661 | Validation_acc: 48.0655 %\n",
      "\u001b[36m(launch_and_fit pid=29448)\u001b[0m save graph in  results/FL/\n"
     ]
    },
    {
     "name": "stderr",
     "output_type": "stream",
     "text": [
      " 90%|\u001b[34m█████████ \u001b[0m| 9/10 [00:00<00:00, 11.04it/s]\n",
      "100%|\u001b[34m██████████\u001b[0m| 10/10 [00:00<00:00, 10.88it/s]\n"
     ]
    },
    {
     "name": "stdout",
     "output_type": "stream",
     "text": [
      "\u001b[36m(launch_and_fit pid=29448)\u001b[0m Run WITHOUT homomorphic encryption\n",
      "\u001b[36m(launch_and_fit pid=29448)\u001b[0m  To get the checkpoint\n",
      "\u001b[36m(launch_and_fit pid=29448)\u001b[0m [Client 0, round 11] fit, config: {'learning_rate': 0.003, 'batch_size': '16', 'server_round': 11, 'local_epochs': 10}\n",
      "\u001b[36m(launch_and_fit pid=29448)\u001b[0m Updated model\n",
      "\u001b[36m(launch_and_fit pid=29448)\u001b[0m \tTrain Epoch: 1 \tTrain_loss: 1.3991 | Train_acc: 48.7000 % | Validation_loss: 1.7365 | Validation_acc: 43.1548 %\n",
      "\u001b[36m(launch_and_fit pid=29448)\u001b[0m \tTrain Epoch: 2 \tTrain_loss: 1.2585 | Train_acc: 52.2000 % | Validation_loss: 1.6344 | Validation_acc: 45.2381 %\n"
     ]
    },
    {
     "name": "stderr",
     "output_type": "stream",
     "text": [
      "  0%|\u001b[34m          \u001b[0m| 0/10 [00:00<?, ?it/s]\n",
      " 20%|\u001b[34m██        \u001b[0m| 2/10 [00:00<00:00, 11.05it/s]\n"
     ]
    },
    {
     "name": "stdout",
     "output_type": "stream",
     "text": [
      "\u001b[36m(launch_and_fit pid=29448)\u001b[0m \tTrain Epoch: 3 \tTrain_loss: 1.2302 | Train_acc: 54.0750 % | Validation_loss: 1.6554 | Validation_acc: 48.3631 %\n",
      "\u001b[36m(launch_and_fit pid=29448)\u001b[0m \tTrain Epoch: 4 \tTrain_loss: 1.1995 | Train_acc: 53.8500 % | Validation_loss: 1.8029 | Validation_acc: 42.8571 %\n"
     ]
    },
    {
     "name": "stderr",
     "output_type": "stream",
     "text": [
      " 40%|\u001b[34m████      \u001b[0m| 4/10 [00:00<00:00, 11.43it/s]\n"
     ]
    },
    {
     "name": "stdout",
     "output_type": "stream",
     "text": [
      "\u001b[36m(launch_and_fit pid=29448)\u001b[0m \tTrain Epoch: 5 \tTrain_loss: 1.2020 | Train_acc: 54.4250 % | Validation_loss: 1.7289 | Validation_acc: 41.8155 %\n",
      "\u001b[36m(launch_and_fit pid=29448)\u001b[0m \tTrain Epoch: 6 \tTrain_loss: 1.1705 | Train_acc: 54.3250 % | Validation_loss: 1.7390 | Validation_acc: 48.0655 %\n"
     ]
    },
    {
     "name": "stderr",
     "output_type": "stream",
     "text": [
      " 60%|\u001b[34m██████    \u001b[0m| 6/10 [00:00<00:00, 11.24it/s]\n",
      " 80%|\u001b[34m████████  \u001b[0m| 8/10 [00:00<00:00, 11.37it/s]\n"
     ]
    },
    {
     "name": "stdout",
     "output_type": "stream",
     "text": [
      "\u001b[36m(launch_and_fit pid=29448)\u001b[0m \tTrain Epoch: 7 \tTrain_loss: 1.1279 | Train_acc: 57.1750 % | Validation_loss: 1.8802 | Validation_acc: 49.1071 %\n",
      "\u001b[36m(launch_and_fit pid=29448)\u001b[0m \tTrain Epoch: 8 \tTrain_loss: 1.2318 | Train_acc: 55.5000 % | Validation_loss: 1.7056 | Validation_acc: 42.8571 %\n",
      "\u001b[36m(launch_and_fit pid=29448)\u001b[0m \tTrain Epoch: 9 \tTrain_loss: 1.1956 | Train_acc: 55.8000 % | Validation_loss: 1.8971 | Validation_acc: 42.8571 %\n",
      "\u001b[36m(launch_and_fit pid=29448)\u001b[0m \tTrain Epoch: 10 \tTrain_loss: 1.1889 | Train_acc: 56.3250 % | Validation_loss: 1.7377 | Validation_acc: 40.7738 %\n",
      "\u001b[36m(launch_and_fit pid=29448)\u001b[0m save graph in  results/FL/\n"
     ]
    },
    {
     "name": "stderr",
     "output_type": "stream",
     "text": [
      "100%|\u001b[34m██████████\u001b[0m| 10/10 [00:00<00:00, 11.29it/s]\n"
     ]
    },
    {
     "name": "stdout",
     "output_type": "stream",
     "text": [
      "\u001b[36m(launch_and_fit pid=29448)\u001b[0m Run WITHOUT homomorphic encryption\n",
      "\u001b[36m(launch_and_fit pid=29448)\u001b[0m  To get the checkpoint\n",
      "\u001b[36m(launch_and_fit pid=29448)\u001b[0m [Client 2, round 11] fit, config: {'learning_rate': 0.003, 'batch_size': '16', 'server_round': 11, 'local_epochs': 10}\n",
      "\u001b[36m(launch_and_fit pid=29448)\u001b[0m Updated model\n",
      "\u001b[36m(launch_and_fit pid=29448)\u001b[0m \tTrain Epoch: 1 \tTrain_loss: 1.3888 | Train_acc: 48.1500 % | Validation_loss: 1.4103 | Validation_acc: 48.3631 %\n"
     ]
    },
    {
     "name": "stderr",
     "output_type": "stream",
     "text": [
      "  0%|\u001b[34m          \u001b[0m| 0/10 [00:00<?, ?it/s]\n"
     ]
    },
    {
     "name": "stdout",
     "output_type": "stream",
     "text": [
      "\u001b[36m(launch_and_fit pid=29448)\u001b[0m \tTrain Epoch: 2 \tTrain_loss: 1.3541 | Train_acc: 49.8750 % | Validation_loss: 1.3265 | Validation_acc: 49.1071 %\n",
      "\u001b[36m(launch_and_fit pid=29448)\u001b[0m \tTrain Epoch: 3 \tTrain_loss: 1.3202 | Train_acc: 51.5500 % | Validation_loss: 1.3753 | Validation_acc: 52.5298 %\n"
     ]
    },
    {
     "name": "stderr",
     "output_type": "stream",
     "text": [
      " 20%|\u001b[34m██        \u001b[0m| 2/10 [00:00<00:00, 10.85it/s]\n"
     ]
    },
    {
     "name": "stdout",
     "output_type": "stream",
     "text": [
      "\u001b[36m(launch_and_fit pid=29448)\u001b[0m \tTrain Epoch: 4 \tTrain_loss: 1.2568 | Train_acc: 52.7250 % | Validation_loss: 1.4324 | Validation_acc: 48.0655 %\n",
      "\u001b[36m(launch_and_fit pid=29448)\u001b[0m \tTrain Epoch: 5 \tTrain_loss: 1.2902 | Train_acc: 52.0500 % | Validation_loss: 1.4249 | Validation_acc: 48.0655 %\n",
      "\u001b[36m(launch_and_fit pid=29448)\u001b[0m \tTrain Epoch: 6 \tTrain_loss: 1.2933 | Train_acc: 52.1250 % | Validation_loss: 1.6477 | Validation_acc: 47.7679 %\n"
     ]
    },
    {
     "name": "stderr",
     "output_type": "stream",
     "text": [
      " 40%|\u001b[34m████      \u001b[0m| 4/10 [00:00<00:00, 11.14it/s]\n",
      " 60%|\u001b[34m██████    \u001b[0m| 6/10 [00:00<00:00, 11.03it/s]\n"
     ]
    },
    {
     "name": "stdout",
     "output_type": "stream",
     "text": [
      "\u001b[36m(launch_and_fit pid=29448)\u001b[0m \tTrain Epoch: 7 \tTrain_loss: 1.2867 | Train_acc: 52.6000 % | Validation_loss: 1.3723 | Validation_acc: 53.5714 %\n",
      "\u001b[36m(launch_and_fit pid=29448)\u001b[0m \tTrain Epoch: 8 \tTrain_loss: 1.2588 | Train_acc: 53.2000 % | Validation_loss: 1.4260 | Validation_acc: 50.1488 %\n"
     ]
    },
    {
     "name": "stderr",
     "output_type": "stream",
     "text": [
      " 80%|\u001b[34m████████  \u001b[0m| 8/10 [00:00<00:00, 11.02it/s]\n"
     ]
    },
    {
     "name": "stdout",
     "output_type": "stream",
     "text": [
      "\u001b[36m(launch_and_fit pid=29448)\u001b[0m \tTrain Epoch: 9 \tTrain_loss: 1.2321 | Train_acc: 54.4500 % | Validation_loss: 1.3512 | Validation_acc: 52.5298 %\n",
      "\u001b[36m(launch_and_fit pid=29448)\u001b[0m \tTrain Epoch: 10 \tTrain_loss: 1.2020 | Train_acc: 54.0500 % | Validation_loss: 1.3934 | Validation_acc: 49.4048 %\n",
      "\u001b[36m(launch_and_fit pid=29448)\u001b[0m save graph in  results/FL/\n"
     ]
    },
    {
     "name": "stderr",
     "output_type": "stream",
     "text": [
      "100%|\u001b[34m██████████\u001b[0m| 10/10 [00:00<00:00, 11.13it/s]\n"
     ]
    },
    {
     "name": "stdout",
     "output_type": "stream",
     "text": [
      "\u001b[36m(launch_and_fit pid=29448)\u001b[0m Run WITHOUT homomorphic encryption\n",
      "\u001b[36m(launch_and_fit pid=29448)\u001b[0m  To get the checkpoint\n",
      "\u001b[36m(launch_and_fit pid=29448)\u001b[0m [Client 3, round 11] fit, config: {'learning_rate': 0.003, 'batch_size': '16', 'server_round': 11, 'local_epochs': 10}\n",
      "\u001b[36m(launch_and_fit pid=29448)\u001b[0m Updated model\n",
      "\u001b[36m(launch_and_fit pid=29448)\u001b[0m \tTrain Epoch: 1 \tTrain_loss: 1.4626 | Train_acc: 51.3500 % | Validation_loss: 1.5471 | Validation_acc: 44.6429 %\n"
     ]
    },
    {
     "name": "stderr",
     "output_type": "stream",
     "text": [
      "  0%|\u001b[34m          \u001b[0m| 0/10 [00:00<?, ?it/s]\n",
      " 10%|\u001b[34m█         \u001b[0m| 1/10 [00:00<00:00,  9.85it/s]\n"
     ]
    },
    {
     "name": "stdout",
     "output_type": "stream",
     "text": [
      "\u001b[36m(launch_and_fit pid=29448)\u001b[0m \tTrain Epoch: 2 \tTrain_loss: 1.2635 | Train_acc: 53.1000 % | Validation_loss: 1.4636 | Validation_acc: 48.0655 %\n",
      "\u001b[36m(launch_and_fit pid=29448)\u001b[0m \tTrain Epoch: 3 \tTrain_loss: 1.2537 | Train_acc: 53.4250 % | Validation_loss: 1.9168 | Validation_acc: 39.1369 %\n",
      "\u001b[36m(launch_and_fit pid=29448)\u001b[0m \tTrain Epoch: 4 \tTrain_loss: 1.2602 | Train_acc: 51.7000 % | Validation_loss: 1.7487 | Validation_acc: 39.1369 %\n"
     ]
    },
    {
     "name": "stderr",
     "output_type": "stream",
     "text": [
      " 30%|\u001b[34m███       \u001b[0m| 3/10 [00:00<00:00, 10.77it/s]\n"
     ]
    },
    {
     "name": "stdout",
     "output_type": "stream",
     "text": [
      "\u001b[36m(launch_and_fit pid=29448)\u001b[0m \tTrain Epoch: 5 \tTrain_loss: 1.1697 | Train_acc: 56.9500 % | Validation_loss: 1.5587 | Validation_acc: 40.4762 %\n",
      "\u001b[36m(launch_and_fit pid=29448)\u001b[0m \tTrain Epoch: 6 \tTrain_loss: 1.2178 | Train_acc: 53.0500 % | Validation_loss: 1.4412 | Validation_acc: 44.9405 %\n"
     ]
    },
    {
     "name": "stderr",
     "output_type": "stream",
     "text": [
      " 50%|\u001b[34m█████     \u001b[0m| 5/10 [00:00<00:00, 10.64it/s]\n"
     ]
    },
    {
     "name": "stdout",
     "output_type": "stream",
     "text": [
      "\u001b[36m(launch_and_fit pid=29448)\u001b[0m \tTrain Epoch: 7 \tTrain_loss: 1.1976 | Train_acc: 54.5250 % | Validation_loss: 1.6972 | Validation_acc: 36.0119 %\n",
      "\u001b[36m(launch_and_fit pid=29448)\u001b[0m \tTrain Epoch: 8 \tTrain_loss: 1.1476 | Train_acc: 56.9500 % | Validation_loss: 1.6959 | Validation_acc: 44.6429 %\n"
     ]
    },
    {
     "name": "stderr",
     "output_type": "stream",
     "text": [
      " 70%|\u001b[34m███████   \u001b[0m| 7/10 [00:00<00:00, 10.87it/s]\n"
     ]
    },
    {
     "name": "stdout",
     "output_type": "stream",
     "text": [
      "\u001b[36m(launch_and_fit pid=29448)\u001b[0m \tTrain Epoch: 9 \tTrain_loss: 1.1336 | Train_acc: 56.8250 % | Validation_loss: 1.8587 | Validation_acc: 39.1369 %\n",
      "\u001b[36m(launch_and_fit pid=29448)\u001b[0m \tTrain Epoch: 10 \tTrain_loss: 1.1153 | Train_acc: 56.8500 % | Validation_loss: 1.8395 | Validation_acc: 46.4286 %\n",
      "\u001b[36m(launch_and_fit pid=29448)\u001b[0m save graph in  results/FL/\n"
     ]
    },
    {
     "name": "stderr",
     "output_type": "stream",
     "text": [
      " 90%|\u001b[34m█████████ \u001b[0m| 9/10 [00:00<00:00, 10.92it/s]\n",
      "100%|\u001b[34m██████████\u001b[0m| 10/10 [00:00<00:00, 10.96it/s]\n",
      "DEBUG flwr 2024-08-30 01:20:46,874 | server.py:236 | fit_round 11 received 4 results and 0 failures\n",
      "INFO flwr 2024-08-30 01:20:47,025 | server.py:125 | fit progress: (11, 1.4973993691531096, {'accuracy': 48.06818181818181}, 256.2972852871753)\n",
      "DEBUG flwr 2024-08-30 01:20:47,026 | server.py:173 | evaluate_round 11: strategy sampled 4 clients (out of 4)\n"
     ]
    },
    {
     "name": "stdout",
     "output_type": "stream",
     "text": [
      "Saving round 11 aggregated_parameters...\n",
      "Updated model\n",
      "Server-side evaluation loss 1.4973993691531096 / accuracy 48.06818181818181\n",
      "\u001b[36m(launch_and_evaluate pid=29448)\u001b[0m Run WITHOUT homomorphic encryption\n",
      "\u001b[36m(launch_and_evaluate pid=29448)\u001b[0m  To get the checkpoint\n",
      "\u001b[36m(launch_and_evaluate pid=29448)\u001b[0m [Client 3] evaluate, config: {}\n",
      "\u001b[36m(launch_and_evaluate pid=29448)\u001b[0m Updated model\n",
      "\u001b[36m(launch_and_evaluate pid=29448)\u001b[0m Run WITHOUT homomorphic encryption\n",
      "\u001b[36m(launch_and_evaluate pid=29448)\u001b[0m  To get the checkpoint\n",
      "\u001b[36m(launch_and_evaluate pid=29448)\u001b[0m [Client 2] evaluate, config: {}\n",
      "\u001b[36m(launch_and_evaluate pid=29448)\u001b[0m Updated model\n",
      "\u001b[36m(launch_and_evaluate pid=29448)\u001b[0m Run WITHOUT homomorphic encryption\n",
      "\u001b[36m(launch_and_evaluate pid=29448)\u001b[0m  To get the checkpoint\n",
      "\u001b[36m(launch_and_evaluate pid=29448)\u001b[0m [Client 1] evaluate, config: {}\n",
      "\u001b[36m(launch_and_evaluate pid=29448)\u001b[0m Updated model\n",
      "\u001b[36m(launch_and_evaluate pid=29448)\u001b[0m Run WITHOUT homomorphic encryption\n",
      "\u001b[36m(launch_and_evaluate pid=29448)\u001b[0m  To get the checkpoint\n",
      "\u001b[36m(launch_and_evaluate pid=29448)\u001b[0m [Client 0] evaluate, config: {}\n",
      "\u001b[36m(launch_and_evaluate pid=29448)\u001b[0m Updated model\n"
     ]
    },
    {
     "name": "stderr",
     "output_type": "stream",
     "text": [
      "DEBUG flwr 2024-08-30 01:20:49,582 | server.py:187 | evaluate_round 11 received 4 results and 0 failures\n",
      "DEBUG flwr 2024-08-30 01:20:49,583 | server.py:222 | fit_round 12: strategy sampled 4 clients (out of 4)\n"
     ]
    },
    {
     "name": "stdout",
     "output_type": "stream",
     "text": [
      "\u001b[36m(launch_and_fit pid=29448)\u001b[0m Run WITHOUT homomorphic encryption\n",
      "\u001b[36m(launch_and_fit pid=29448)\u001b[0m  To get the checkpoint\n",
      "\u001b[36m(launch_and_fit pid=29448)\u001b[0m [Client 0, round 12] fit, config: {'learning_rate': 0.003, 'batch_size': '16', 'server_round': 12, 'local_epochs': 10}\n",
      "\u001b[36m(launch_and_fit pid=29448)\u001b[0m Updated model\n",
      "\u001b[36m(launch_and_fit pid=29448)\u001b[0m \tTrain Epoch: 1 \tTrain_loss: 1.3158 | Train_acc: 51.4750 % | Validation_loss: 1.5655 | Validation_acc: 48.6607 %\n",
      "\u001b[36m(launch_and_fit pid=29448)\u001b[0m \tTrain Epoch: 2 \tTrain_loss: 1.2364 | Train_acc: 52.9000 % | Validation_loss: 1.6895 | Validation_acc: 46.2798 %\n"
     ]
    },
    {
     "name": "stderr",
     "output_type": "stream",
     "text": [
      "  0%|\u001b[34m          \u001b[0m| 0/10 [00:00<?, ?it/s]\n",
      " 20%|\u001b[34m██        \u001b[0m| 2/10 [00:00<00:00, 11.14it/s]\n"
     ]
    },
    {
     "name": "stdout",
     "output_type": "stream",
     "text": [
      "\u001b[36m(launch_and_fit pid=29448)\u001b[0m \tTrain Epoch: 3 \tTrain_loss: 1.2085 | Train_acc: 54.8500 % | Validation_loss: 1.6273 | Validation_acc: 50.4464 %\n",
      "\u001b[36m(launch_and_fit pid=29448)\u001b[0m \tTrain Epoch: 4 \tTrain_loss: 1.2410 | Train_acc: 52.7000 % | Validation_loss: 1.9458 | Validation_acc: 38.6905 %\n"
     ]
    },
    {
     "name": "stderr",
     "output_type": "stream",
     "text": [
      " 40%|\u001b[34m████      \u001b[0m| 4/10 [00:00<00:00, 11.35it/s]\n"
     ]
    },
    {
     "name": "stdout",
     "output_type": "stream",
     "text": [
      "\u001b[36m(launch_and_fit pid=29448)\u001b[0m \tTrain Epoch: 5 \tTrain_loss: 1.1446 | Train_acc: 55.9500 % | Validation_loss: 1.8540 | Validation_acc: 46.2798 %\n",
      "\u001b[36m(launch_and_fit pid=29448)\u001b[0m \tTrain Epoch: 6 \tTrain_loss: 1.1178 | Train_acc: 58.0500 % | Validation_loss: 1.7040 | Validation_acc: 44.9405 %\n"
     ]
    },
    {
     "name": "stderr",
     "output_type": "stream",
     "text": [
      " 60%|\u001b[34m██████    \u001b[0m| 6/10 [00:00<00:00, 11.21it/s]\n"
     ]
    },
    {
     "name": "stdout",
     "output_type": "stream",
     "text": [
      "\u001b[36m(launch_and_fit pid=29448)\u001b[0m \tTrain Epoch: 7 \tTrain_loss: 1.0796 | Train_acc: 61.2000 % | Validation_loss: 1.7231 | Validation_acc: 45.9821 %\n",
      "\u001b[36m(launch_and_fit pid=29448)\u001b[0m \tTrain Epoch: 8 \tTrain_loss: 1.0766 | Train_acc: 60.0750 % | Validation_loss: 1.8340 | Validation_acc: 47.0238 %\n",
      "\u001b[36m(launch_and_fit pid=29448)\u001b[0m \tTrain Epoch: 9 \tTrain_loss: 1.0676 | Train_acc: 60.9250 % | Validation_loss: 1.7740 | Validation_acc: 44.6429 %\n"
     ]
    },
    {
     "name": "stderr",
     "output_type": "stream",
     "text": [
      " 80%|\u001b[34m████████  \u001b[0m| 8/10 [00:00<00:00, 11.38it/s]\n",
      "100%|\u001b[34m██████████\u001b[0m| 10/10 [00:00<00:00, 11.27it/s]\n"
     ]
    },
    {
     "name": "stdout",
     "output_type": "stream",
     "text": [
      "\u001b[36m(launch_and_fit pid=29448)\u001b[0m \tTrain Epoch: 10 \tTrain_loss: 1.1692 | Train_acc: 55.7250 % | Validation_loss: 1.9547 | Validation_acc: 49.1071 %\n",
      "\u001b[36m(launch_and_fit pid=29448)\u001b[0m save graph in  results/FL/\n",
      "\u001b[36m(launch_and_fit pid=29448)\u001b[0m Run WITHOUT homomorphic encryption\n",
      "\u001b[36m(launch_and_fit pid=29448)\u001b[0m  To get the checkpoint\n",
      "\u001b[36m(launch_and_fit pid=29448)\u001b[0m [Client 3, round 12] fit, config: {'learning_rate': 0.003, 'batch_size': '16', 'server_round': 12, 'local_epochs': 10}\n",
      "\u001b[36m(launch_and_fit pid=29448)\u001b[0m Updated model\n",
      "\u001b[36m(launch_and_fit pid=29448)\u001b[0m \tTrain Epoch: 1 \tTrain_loss: 1.3459 | Train_acc: 52.8500 % | Validation_loss: 1.7251 | Validation_acc: 46.7262 %\n"
     ]
    },
    {
     "name": "stderr",
     "output_type": "stream",
     "text": [
      "  0%|\u001b[34m          \u001b[0m| 0/10 [00:00<?, ?it/s]\n"
     ]
    },
    {
     "name": "stdout",
     "output_type": "stream",
     "text": [
      "\u001b[36m(launch_and_fit pid=29448)\u001b[0m \tTrain Epoch: 2 \tTrain_loss: 1.2028 | Train_acc: 54.6000 % | Validation_loss: 1.5264 | Validation_acc: 48.8095 %\n",
      "\u001b[36m(launch_and_fit pid=29448)\u001b[0m \tTrain Epoch: 3 \tTrain_loss: 1.1564 | Train_acc: 56.0750 % | Validation_loss: 1.6233 | Validation_acc: 47.4702 %\n"
     ]
    },
    {
     "name": "stderr",
     "output_type": "stream",
     "text": [
      " 20%|\u001b[34m██        \u001b[0m| 2/10 [00:00<00:00, 11.21it/s]\n"
     ]
    },
    {
     "name": "stdout",
     "output_type": "stream",
     "text": [
      "\u001b[36m(launch_and_fit pid=29448)\u001b[0m \tTrain Epoch: 4 \tTrain_loss: 1.1548 | Train_acc: 56.3750 % | Validation_loss: 1.6955 | Validation_acc: 45.3869 %\n",
      "\u001b[36m(launch_and_fit pid=29448)\u001b[0m \tTrain Epoch: 5 \tTrain_loss: 1.1403 | Train_acc: 56.2750 % | Validation_loss: 1.8871 | Validation_acc: 44.3452 %\n"
     ]
    },
    {
     "name": "stderr",
     "output_type": "stream",
     "text": [
      " 40%|\u001b[34m████      \u001b[0m| 4/10 [00:00<00:00, 11.06it/s]\n"
     ]
    },
    {
     "name": "stdout",
     "output_type": "stream",
     "text": [
      "\u001b[36m(launch_and_fit pid=29448)\u001b[0m \tTrain Epoch: 6 \tTrain_loss: 1.2402 | Train_acc: 55.5750 % | Validation_loss: 1.6602 | Validation_acc: 37.7976 %\n",
      "\u001b[36m(launch_and_fit pid=29448)\u001b[0m \tTrain Epoch: 7 \tTrain_loss: 1.1229 | Train_acc: 58.2000 % | Validation_loss: 1.6629 | Validation_acc: 42.2619 %\n",
      "\u001b[36m(launch_and_fit pid=29448)\u001b[0m \tTrain Epoch: 8 \tTrain_loss: 1.0401 | Train_acc: 61.8500 % | Validation_loss: 1.8457 | Validation_acc: 41.2202 %\n"
     ]
    },
    {
     "name": "stderr",
     "output_type": "stream",
     "text": [
      " 60%|\u001b[34m██████    \u001b[0m| 6/10 [00:00<00:00, 11.28it/s]\n",
      " 80%|\u001b[34m████████  \u001b[0m| 8/10 [00:00<00:00, 11.15it/s]\n"
     ]
    },
    {
     "name": "stdout",
     "output_type": "stream",
     "text": [
      "\u001b[36m(launch_and_fit pid=29448)\u001b[0m \tTrain Epoch: 9 \tTrain_loss: 1.0114 | Train_acc: 63.9500 % | Validation_loss: 1.9149 | Validation_acc: 37.0536 %\n",
      "\u001b[36m(launch_and_fit pid=29448)\u001b[0m \tTrain Epoch: 10 \tTrain_loss: 1.0497 | Train_acc: 59.8000 % | Validation_loss: 1.6655 | Validation_acc: 44.6429 %\n",
      "\u001b[36m(launch_and_fit pid=29448)\u001b[0m save graph in  results/FL/\n"
     ]
    },
    {
     "name": "stderr",
     "output_type": "stream",
     "text": [
      "100%|\u001b[34m██████████\u001b[0m| 10/10 [00:00<00:00, 11.18it/s]\n"
     ]
    },
    {
     "name": "stdout",
     "output_type": "stream",
     "text": [
      "\u001b[36m(launch_and_fit pid=29448)\u001b[0m Run WITHOUT homomorphic encryption\n",
      "\u001b[36m(launch_and_fit pid=29448)\u001b[0m  To get the checkpoint\n",
      "\u001b[36m(launch_and_fit pid=29448)\u001b[0m [Client 1, round 12] fit, config: {'learning_rate': 0.003, 'batch_size': '16', 'server_round': 12, 'local_epochs': 10}\n",
      "\u001b[36m(launch_and_fit pid=29448)\u001b[0m Updated model\n",
      "\u001b[36m(launch_and_fit pid=29448)\u001b[0m \tTrain Epoch: 1 \tTrain_loss: 1.3814 | Train_acc: 49.8250 % | Validation_loss: 1.3653 | Validation_acc: 49.1071 %\n",
      "\u001b[36m(launch_and_fit pid=29448)\u001b[0m \tTrain Epoch: 2 \tTrain_loss: 1.2805 | Train_acc: 51.1500 % | Validation_loss: 1.4151 | Validation_acc: 45.6845 %\n"
     ]
    },
    {
     "name": "stderr",
     "output_type": "stream",
     "text": [
      "  0%|\u001b[34m          \u001b[0m| 0/10 [00:00<?, ?it/s]\n",
      " 20%|\u001b[34m██        \u001b[0m| 2/10 [00:00<00:00, 11.72it/s]\n"
     ]
    },
    {
     "name": "stdout",
     "output_type": "stream",
     "text": [
      "\u001b[36m(launch_and_fit pid=29448)\u001b[0m \tTrain Epoch: 3 \tTrain_loss: 1.2463 | Train_acc: 54.1750 % | Validation_loss: 1.5300 | Validation_acc: 43.8988 %\n",
      "\u001b[36m(launch_and_fit pid=29448)\u001b[0m \tTrain Epoch: 4 \tTrain_loss: 1.3337 | Train_acc: 46.8000 % | Validation_loss: 1.4856 | Validation_acc: 50.4464 %\n"
     ]
    },
    {
     "name": "stderr",
     "output_type": "stream",
     "text": [
      " 40%|\u001b[34m████      \u001b[0m| 4/10 [00:00<00:00, 11.13it/s]\n"
     ]
    },
    {
     "name": "stdout",
     "output_type": "stream",
     "text": [
      "\u001b[36m(launch_and_fit pid=29448)\u001b[0m \tTrain Epoch: 5 \tTrain_loss: 1.2216 | Train_acc: 54.8000 % | Validation_loss: 1.3933 | Validation_acc: 52.5298 %\n",
      "\u001b[36m(launch_and_fit pid=29448)\u001b[0m \tTrain Epoch: 6 \tTrain_loss: 1.1501 | Train_acc: 56.1750 % | Validation_loss: 1.4192 | Validation_acc: 48.3631 %\n"
     ]
    },
    {
     "name": "stderr",
     "output_type": "stream",
     "text": [
      " 60%|\u001b[34m██████    \u001b[0m| 6/10 [00:00<00:00, 11.31it/s]\n"
     ]
    },
    {
     "name": "stdout",
     "output_type": "stream",
     "text": [
      "\u001b[36m(launch_and_fit pid=29448)\u001b[0m \tTrain Epoch: 7 \tTrain_loss: 1.1748 | Train_acc: 54.4250 % | Validation_loss: 1.3229 | Validation_acc: 52.5298 %\n",
      "\u001b[36m(launch_and_fit pid=29448)\u001b[0m \tTrain Epoch: 8 \tTrain_loss: 1.1667 | Train_acc: 53.7250 % | Validation_loss: 1.3822 | Validation_acc: 43.6012 %\n"
     ]
    },
    {
     "name": "stderr",
     "output_type": "stream",
     "text": [
      " 80%|\u001b[34m████████  \u001b[0m| 8/10 [00:00<00:00, 11.01it/s]\n",
      "100%|\u001b[34m██████████\u001b[0m| 10/10 [00:00<00:00, 11.29it/s]\n"
     ]
    },
    {
     "name": "stdout",
     "output_type": "stream",
     "text": [
      "\u001b[36m(launch_and_fit pid=29448)\u001b[0m \tTrain Epoch: 9 \tTrain_loss: 1.1366 | Train_acc: 56.4250 % | Validation_loss: 1.3636 | Validation_acc: 50.8929 %\n",
      "\u001b[36m(launch_and_fit pid=29448)\u001b[0m \tTrain Epoch: 10 \tTrain_loss: 1.1129 | Train_acc: 58.2000 % | Validation_loss: 1.4890 | Validation_acc: 43.6012 %\n",
      "\u001b[36m(launch_and_fit pid=29448)\u001b[0m save graph in  results/FL/\n",
      "\u001b[36m(launch_and_fit pid=29448)\u001b[0m Run WITHOUT homomorphic encryption\n",
      "\u001b[36m(launch_and_fit pid=29448)\u001b[0m  To get the checkpoint\n",
      "\u001b[36m(launch_and_fit pid=29448)\u001b[0m [Client 2, round 12] fit, config: {'learning_rate': 0.003, 'batch_size': '16', 'server_round': 12, 'local_epochs': 10}\n",
      "\u001b[36m(launch_and_fit pid=29448)\u001b[0m Updated model\n",
      "\u001b[36m(launch_and_fit pid=29448)\u001b[0m \tTrain Epoch: 1 \tTrain_loss: 1.3373 | Train_acc: 52.3250 % | Validation_loss: 1.3888 | Validation_acc: 46.2798 %\n"
     ]
    },
    {
     "name": "stderr",
     "output_type": "stream",
     "text": [
      "  0%|\u001b[34m          \u001b[0m| 0/10 [00:00<?, ?it/s]\n"
     ]
    },
    {
     "name": "stdout",
     "output_type": "stream",
     "text": [
      "\u001b[36m(launch_and_fit pid=29448)\u001b[0m \tTrain Epoch: 2 \tTrain_loss: 1.3096 | Train_acc: 51.3250 % | Validation_loss: 1.3176 | Validation_acc: 49.4048 %\n",
      "\u001b[36m(launch_and_fit pid=29448)\u001b[0m \tTrain Epoch: 3 \tTrain_loss: 1.2380 | Train_acc: 53.6750 % | Validation_loss: 1.3510 | Validation_acc: 53.2738 %\n"
     ]
    },
    {
     "name": "stderr",
     "output_type": "stream",
     "text": [
      " 20%|\u001b[34m██        \u001b[0m| 2/10 [00:00<00:00, 10.56it/s]\n"
     ]
    },
    {
     "name": "stdout",
     "output_type": "stream",
     "text": [
      "\u001b[36m(launch_and_fit pid=29448)\u001b[0m \tTrain Epoch: 4 \tTrain_loss: 1.2178 | Train_acc: 55.8500 % | Validation_loss: 1.4369 | Validation_acc: 47.3214 %\n",
      "\u001b[36m(launch_and_fit pid=29448)\u001b[0m \tTrain Epoch: 5 \tTrain_loss: 1.2059 | Train_acc: 53.8000 % | Validation_loss: 1.3254 | Validation_acc: 53.5714 %\n",
      "\u001b[36m(launch_and_fit pid=29448)\u001b[0m \tTrain Epoch: 6 \tTrain_loss: 1.1404 | Train_acc: 57.9750 % | Validation_loss: 1.3742 | Validation_acc: 47.0238 %\n"
     ]
    },
    {
     "name": "stderr",
     "output_type": "stream",
     "text": [
      " 40%|\u001b[34m████      \u001b[0m| 4/10 [00:00<00:00, 10.96it/s]\n",
      " 60%|\u001b[34m██████    \u001b[0m| 6/10 [00:00<00:00, 11.00it/s]\n"
     ]
    },
    {
     "name": "stdout",
     "output_type": "stream",
     "text": [
      "\u001b[36m(launch_and_fit pid=29448)\u001b[0m \tTrain Epoch: 7 \tTrain_loss: 1.1615 | Train_acc: 56.3250 % | Validation_loss: 1.3996 | Validation_acc: 52.5298 %\n",
      "\u001b[36m(launch_and_fit pid=29448)\u001b[0m \tTrain Epoch: 8 \tTrain_loss: 1.2606 | Train_acc: 51.1250 % | Validation_loss: 1.4372 | Validation_acc: 52.2321 %\n"
     ]
    },
    {
     "name": "stderr",
     "output_type": "stream",
     "text": [
      " 80%|\u001b[34m████████  \u001b[0m| 8/10 [00:00<00:00, 11.18it/s]\n"
     ]
    },
    {
     "name": "stdout",
     "output_type": "stream",
     "text": [
      "\u001b[36m(launch_and_fit pid=29448)\u001b[0m \tTrain Epoch: 9 \tTrain_loss: 1.1844 | Train_acc: 55.8500 % | Validation_loss: 1.3444 | Validation_acc: 50.1488 %\n",
      "\u001b[36m(launch_and_fit pid=29448)\u001b[0m \tTrain Epoch: 10 \tTrain_loss: 1.1196 | Train_acc: 56.7000 % | Validation_loss: 1.4379 | Validation_acc: 54.6131 %\n",
      "\u001b[36m(launch_and_fit pid=29448)\u001b[0m save graph in  results/FL/\n"
     ]
    },
    {
     "name": "stderr",
     "output_type": "stream",
     "text": [
      "100%|\u001b[34m██████████\u001b[0m| 10/10 [00:00<00:00, 11.16it/s]\n",
      "DEBUG flwr 2024-08-30 01:20:54,733 | server.py:236 | fit_round 12 received 4 results and 0 failures\n",
      "INFO flwr 2024-08-30 01:20:54,791 | server.py:125 | fit progress: (12, 1.4742977987636219, {'accuracy': 46.40151515151515}, 264.06379690393806)\n",
      "DEBUG flwr 2024-08-30 01:20:54,792 | server.py:173 | evaluate_round 12: strategy sampled 4 clients (out of 4)\n"
     ]
    },
    {
     "name": "stdout",
     "output_type": "stream",
     "text": [
      "Saving round 12 aggregated_parameters...\n",
      "Updated model\n",
      "Server-side evaluation loss 1.4742977987636219 / accuracy 46.40151515151515\n",
      "\u001b[36m(launch_and_evaluate pid=29448)\u001b[0m Run WITHOUT homomorphic encryption\n",
      "\u001b[36m(launch_and_evaluate pid=29448)\u001b[0m  To get the checkpoint\n",
      "\u001b[36m(launch_and_evaluate pid=29448)\u001b[0m [Client 1] evaluate, config: {}\n",
      "\u001b[36m(launch_and_evaluate pid=29448)\u001b[0m Updated model\n",
      "\u001b[36m(launch_and_evaluate pid=29448)\u001b[0m Run WITHOUT homomorphic encryption\n",
      "\u001b[36m(launch_and_evaluate pid=29448)\u001b[0m  To get the checkpoint\n",
      "\u001b[36m(launch_and_evaluate pid=29448)\u001b[0m [Client 3] evaluate, config: {}\n",
      "\u001b[36m(launch_and_evaluate pid=29448)\u001b[0m Updated model\n",
      "\u001b[36m(launch_and_evaluate pid=29448)\u001b[0m Run WITHOUT homomorphic encryption\n",
      "\u001b[36m(launch_and_evaluate pid=29448)\u001b[0m  To get the checkpoint\n",
      "\u001b[36m(launch_and_evaluate pid=29448)\u001b[0m [Client 2] evaluate, config: {}\n",
      "\u001b[36m(launch_and_evaluate pid=29448)\u001b[0m Updated model\n",
      "\u001b[36m(launch_and_evaluate pid=29448)\u001b[0m Run WITHOUT homomorphic encryption\n",
      "\u001b[36m(launch_and_evaluate pid=29448)\u001b[0m  To get the checkpoint\n",
      "\u001b[36m(launch_and_evaluate pid=29448)\u001b[0m [Client 0] evaluate, config: {}\n",
      "\u001b[36m(launch_and_evaluate pid=29448)\u001b[0m Updated model\n"
     ]
    },
    {
     "name": "stderr",
     "output_type": "stream",
     "text": [
      "DEBUG flwr 2024-08-30 01:20:57,014 | server.py:187 | evaluate_round 12 received 4 results and 0 failures\n",
      "DEBUG flwr 2024-08-30 01:20:57,015 | server.py:222 | fit_round 13: strategy sampled 4 clients (out of 4)\n"
     ]
    },
    {
     "name": "stdout",
     "output_type": "stream",
     "text": [
      "\u001b[36m(launch_and_fit pid=29448)\u001b[0m Run WITHOUT homomorphic encryption\n",
      "\u001b[36m(launch_and_fit pid=29448)\u001b[0m  To get the checkpoint\n",
      "\u001b[36m(launch_and_fit pid=29448)\u001b[0m [Client 3, round 13] fit, config: {'learning_rate': 0.003, 'batch_size': '16', 'server_round': 13, 'local_epochs': 10}\n",
      "\u001b[36m(launch_and_fit pid=29448)\u001b[0m Updated model\n",
      "\u001b[36m(launch_and_fit pid=29448)\u001b[0m \tTrain Epoch: 1 \tTrain_loss: 1.3093 | Train_acc: 54.2250 % | Validation_loss: 1.5037 | Validation_acc: 44.3452 %\n",
      "\u001b[36m(launch_and_fit pid=29448)\u001b[0m \tTrain Epoch: 2 \tTrain_loss: 1.1512 | Train_acc: 57.7500 % | Validation_loss: 1.5471 | Validation_acc: 45.3869 %\n"
     ]
    },
    {
     "name": "stderr",
     "output_type": "stream",
     "text": [
      "  0%|\u001b[34m          \u001b[0m| 0/10 [00:00<?, ?it/s]\n",
      " 20%|\u001b[34m██        \u001b[0m| 2/10 [00:00<00:00, 11.14it/s]\n"
     ]
    },
    {
     "name": "stdout",
     "output_type": "stream",
     "text": [
      "\u001b[36m(launch_and_fit pid=29448)\u001b[0m \tTrain Epoch: 3 \tTrain_loss: 1.1195 | Train_acc: 57.7000 % | Validation_loss: 1.5120 | Validation_acc: 48.0655 %\n",
      "\u001b[36m(launch_and_fit pid=29448)\u001b[0m \tTrain Epoch: 4 \tTrain_loss: 1.0506 | Train_acc: 60.9750 % | Validation_loss: 1.8283 | Validation_acc: 44.3452 %\n"
     ]
    },
    {
     "name": "stderr",
     "output_type": "stream",
     "text": [
      " 40%|\u001b[34m████      \u001b[0m| 4/10 [00:00<00:00, 11.41it/s]\n"
     ]
    },
    {
     "name": "stdout",
     "output_type": "stream",
     "text": [
      "\u001b[36m(launch_and_fit pid=29448)\u001b[0m \tTrain Epoch: 5 \tTrain_loss: 1.0866 | Train_acc: 58.9750 % | Validation_loss: 1.7197 | Validation_acc: 45.9821 %\n",
      "\u001b[36m(launch_and_fit pid=29448)\u001b[0m \tTrain Epoch: 6 \tTrain_loss: 1.0572 | Train_acc: 60.9500 % | Validation_loss: 1.6378 | Validation_acc: 43.6012 %\n"
     ]
    },
    {
     "name": "stderr",
     "output_type": "stream",
     "text": [
      " 60%|\u001b[34m██████    \u001b[0m| 6/10 [00:00<00:00, 11.64it/s]\n"
     ]
    },
    {
     "name": "stdout",
     "output_type": "stream",
     "text": [
      "\u001b[36m(launch_and_fit pid=29448)\u001b[0m \tTrain Epoch: 7 \tTrain_loss: 0.9939 | Train_acc: 61.3500 % | Validation_loss: 1.7230 | Validation_acc: 52.2321 %\n",
      "\u001b[36m(launch_and_fit pid=29448)\u001b[0m \tTrain Epoch: 8 \tTrain_loss: 1.0644 | Train_acc: 59.5500 % | Validation_loss: 1.9367 | Validation_acc: 45.6845 %\n",
      "\u001b[36m(launch_and_fit pid=29448)\u001b[0m \tTrain Epoch: 9 \tTrain_loss: 1.0045 | Train_acc: 61.7000 % | Validation_loss: 1.6905 | Validation_acc: 44.3452 %\n"
     ]
    },
    {
     "name": "stderr",
     "output_type": "stream",
     "text": [
      " 80%|\u001b[34m████████  \u001b[0m| 8/10 [00:00<00:00, 11.35it/s]\n",
      "100%|\u001b[34m██████████\u001b[0m| 10/10 [00:00<00:00, 11.50it/s]\n"
     ]
    },
    {
     "name": "stdout",
     "output_type": "stream",
     "text": [
      "\u001b[36m(launch_and_fit pid=29448)\u001b[0m \tTrain Epoch: 10 \tTrain_loss: 0.9959 | Train_acc: 65.1250 % | Validation_loss: 1.4887 | Validation_acc: 49.8512 %\n",
      "\u001b[36m(launch_and_fit pid=29448)\u001b[0m save graph in  results/FL/\n",
      "\u001b[36m(launch_and_fit pid=29448)\u001b[0m Run WITHOUT homomorphic encryption\n",
      "\u001b[36m(launch_and_fit pid=29448)\u001b[0m  To get the checkpoint\n",
      "\u001b[36m(launch_and_fit pid=29448)\u001b[0m [Client 2, round 13] fit, config: {'learning_rate': 0.003, 'batch_size': '16', 'server_round': 13, 'local_epochs': 10}\n",
      "\u001b[36m(launch_and_fit pid=29448)\u001b[0m Updated model\n",
      "\u001b[36m(launch_and_fit pid=29448)\u001b[0m \tTrain Epoch: 1 \tTrain_loss: 1.4055 | Train_acc: 47.2750 % | Validation_loss: 1.4207 | Validation_acc: 49.1071 %\n"
     ]
    },
    {
     "name": "stderr",
     "output_type": "stream",
     "text": [
      "  0%|\u001b[34m          \u001b[0m| 0/10 [00:00<?, ?it/s]\n"
     ]
    },
    {
     "name": "stdout",
     "output_type": "stream",
     "text": [
      "\u001b[36m(launch_and_fit pid=29448)\u001b[0m \tTrain Epoch: 2 \tTrain_loss: 1.2600 | Train_acc: 52.5750 % | Validation_loss: 1.4352 | Validation_acc: 50.1488 %\n",
      "\u001b[36m(launch_and_fit pid=29448)\u001b[0m \tTrain Epoch: 3 \tTrain_loss: 1.2230 | Train_acc: 54.9500 % | Validation_loss: 1.4272 | Validation_acc: 49.1071 %\n",
      "\u001b[36m(launch_and_fit pid=29448)\u001b[0m \tTrain Epoch: 4 \tTrain_loss: 1.2340 | Train_acc: 54.3250 % | Validation_loss: 1.4121 | Validation_acc: 51.1905 %\n"
     ]
    },
    {
     "name": "stderr",
     "output_type": "stream",
     "text": [
      " 20%|\u001b[34m██        \u001b[0m| 2/10 [00:00<00:00, 11.02it/s]\n",
      " 40%|\u001b[34m████      \u001b[0m| 4/10 [00:00<00:00, 11.69it/s]\n"
     ]
    },
    {
     "name": "stdout",
     "output_type": "stream",
     "text": [
      "\u001b[36m(launch_and_fit pid=29448)\u001b[0m \tTrain Epoch: 5 \tTrain_loss: 1.1457 | Train_acc: 57.9250 % | Validation_loss: 1.4429 | Validation_acc: 52.5298 %\n",
      "\u001b[36m(launch_and_fit pid=29448)\u001b[0m \tTrain Epoch: 6 \tTrain_loss: 1.1562 | Train_acc: 57.0000 % | Validation_loss: 1.3504 | Validation_acc: 50.4464 %\n"
     ]
    },
    {
     "name": "stderr",
     "output_type": "stream",
     "text": [
      " 60%|\u001b[34m██████    \u001b[0m| 6/10 [00:00<00:00, 11.69it/s]\n"
     ]
    },
    {
     "name": "stdout",
     "output_type": "stream",
     "text": [
      "\u001b[36m(launch_and_fit pid=29448)\u001b[0m \tTrain Epoch: 7 \tTrain_loss: 1.1662 | Train_acc: 56.7250 % | Validation_loss: 1.3733 | Validation_acc: 53.2738 %\n",
      "\u001b[36m(launch_and_fit pid=29448)\u001b[0m \tTrain Epoch: 8 \tTrain_loss: 1.1159 | Train_acc: 59.4500 % | Validation_loss: 1.4254 | Validation_acc: 44.9405 %\n"
     ]
    },
    {
     "name": "stderr",
     "output_type": "stream",
     "text": [
      " 80%|\u001b[34m████████  \u001b[0m| 8/10 [00:00<00:00, 11.91it/s]\n",
      "100%|\u001b[34m██████████\u001b[0m| 10/10 [00:00<00:00, 11.76it/s]\n"
     ]
    },
    {
     "name": "stdout",
     "output_type": "stream",
     "text": [
      "\u001b[36m(launch_and_fit pid=29448)\u001b[0m \tTrain Epoch: 9 \tTrain_loss: 1.1296 | Train_acc: 58.6250 % | Validation_loss: 1.3661 | Validation_acc: 49.4048 %\n",
      "\u001b[36m(launch_and_fit pid=29448)\u001b[0m \tTrain Epoch: 10 \tTrain_loss: 1.1027 | Train_acc: 58.3000 % | Validation_loss: 1.5002 | Validation_acc: 43.8988 %\n",
      "\u001b[36m(launch_and_fit pid=29448)\u001b[0m save graph in  results/FL/\n",
      "\u001b[36m(launch_and_fit pid=29448)\u001b[0m Run WITHOUT homomorphic encryption\n",
      "\u001b[36m(launch_and_fit pid=29448)\u001b[0m  To get the checkpoint\n",
      "\u001b[36m(launch_and_fit pid=29448)\u001b[0m [Client 0, round 13] fit, config: {'learning_rate': 0.003, 'batch_size': '16', 'server_round': 13, 'local_epochs': 10}\n",
      "\u001b[36m(launch_and_fit pid=29448)\u001b[0m Updated model\n",
      "\u001b[36m(launch_and_fit pid=29448)\u001b[0m \tTrain Epoch: 1 \tTrain_loss: 1.2863 | Train_acc: 52.7500 % | Validation_loss: 1.6970 | Validation_acc: 48.3631 %\n"
     ]
    },
    {
     "name": "stderr",
     "output_type": "stream",
     "text": [
      "  0%|\u001b[34m          \u001b[0m| 0/10 [00:00<?, ?it/s]\n"
     ]
    },
    {
     "name": "stdout",
     "output_type": "stream",
     "text": [
      "\u001b[36m(launch_and_fit pid=29448)\u001b[0m \tTrain Epoch: 2 \tTrain_loss: 1.1813 | Train_acc: 54.9250 % | Validation_loss: 1.9025 | Validation_acc: 40.7738 %\n",
      "\u001b[36m(launch_and_fit pid=29448)\u001b[0m \tTrain Epoch: 3 \tTrain_loss: 1.1795 | Train_acc: 55.9000 % | Validation_loss: 1.6432 | Validation_acc: 42.8571 %\n"
     ]
    },
    {
     "name": "stderr",
     "output_type": "stream",
     "text": [
      " 20%|\u001b[34m██        \u001b[0m| 2/10 [00:00<00:00, 11.73it/s]\n"
     ]
    },
    {
     "name": "stdout",
     "output_type": "stream",
     "text": [
      "\u001b[36m(launch_and_fit pid=29448)\u001b[0m \tTrain Epoch: 4 \tTrain_loss: 1.1718 | Train_acc: 54.5750 % | Validation_loss: 1.7993 | Validation_acc: 42.1131 %\n",
      "\u001b[36m(launch_and_fit pid=29448)\u001b[0m \tTrain Epoch: 5 \tTrain_loss: 1.1443 | Train_acc: 56.7000 % | Validation_loss: 1.7716 | Validation_acc: 53.8690 %\n",
      "\u001b[36m(launch_and_fit pid=29448)\u001b[0m \tTrain Epoch: 6 \tTrain_loss: 1.1506 | Train_acc: 56.9000 % | Validation_loss: 1.9348 | Validation_acc: 44.9405 %\n"
     ]
    },
    {
     "name": "stderr",
     "output_type": "stream",
     "text": [
      " 40%|\u001b[34m████      \u001b[0m| 4/10 [00:00<00:00, 11.41it/s]\n",
      " 60%|\u001b[34m██████    \u001b[0m| 6/10 [00:00<00:00, 11.86it/s]\n"
     ]
    },
    {
     "name": "stdout",
     "output_type": "stream",
     "text": [
      "\u001b[36m(launch_and_fit pid=29448)\u001b[0m \tTrain Epoch: 7 \tTrain_loss: 1.0325 | Train_acc: 60.2250 % | Validation_loss: 1.7414 | Validation_acc: 49.7024 %\n",
      "\u001b[36m(launch_and_fit pid=29448)\u001b[0m \tTrain Epoch: 8 \tTrain_loss: 1.0358 | Train_acc: 62.5500 % | Validation_loss: 1.8436 | Validation_acc: 47.0238 %\n"
     ]
    },
    {
     "name": "stderr",
     "output_type": "stream",
     "text": [
      " 80%|\u001b[34m████████  \u001b[0m| 8/10 [00:00<00:00, 11.49it/s]\n"
     ]
    },
    {
     "name": "stdout",
     "output_type": "stream",
     "text": [
      "\u001b[36m(launch_and_fit pid=29448)\u001b[0m \tTrain Epoch: 9 \tTrain_loss: 1.0033 | Train_acc: 64.1000 % | Validation_loss: 2.1666 | Validation_acc: 52.5298 %\n",
      "\u001b[36m(launch_and_fit pid=29448)\u001b[0m \tTrain Epoch: 10 \tTrain_loss: 1.0062 | Train_acc: 62.1000 % | Validation_loss: 2.0953 | Validation_acc: 47.0238 %\n",
      "\u001b[36m(launch_and_fit pid=29448)\u001b[0m save graph in  results/FL/\n"
     ]
    },
    {
     "name": "stderr",
     "output_type": "stream",
     "text": [
      "100%|\u001b[34m██████████\u001b[0m| 10/10 [00:00<00:00, 11.62it/s]\n"
     ]
    },
    {
     "name": "stdout",
     "output_type": "stream",
     "text": [
      "\u001b[36m(launch_and_fit pid=29448)\u001b[0m Run WITHOUT homomorphic encryption\n",
      "\u001b[36m(launch_and_fit pid=29448)\u001b[0m  To get the checkpoint\n",
      "\u001b[36m(launch_and_fit pid=29448)\u001b[0m [Client 1, round 13] fit, config: {'learning_rate': 0.003, 'batch_size': '16', 'server_round': 13, 'local_epochs': 10}\n",
      "\u001b[36m(launch_and_fit pid=29448)\u001b[0m Updated model\n",
      "\u001b[36m(launch_and_fit pid=29448)\u001b[0m \tTrain Epoch: 1 \tTrain_loss: 1.3127 | Train_acc: 51.8250 % | Validation_loss: 1.4381 | Validation_acc: 44.6429 %\n",
      "\u001b[36m(launch_and_fit pid=29448)\u001b[0m \tTrain Epoch: 2 \tTrain_loss: 1.2534 | Train_acc: 51.9500 % | Validation_loss: 1.4205 | Validation_acc: 50.1488 %\n"
     ]
    },
    {
     "name": "stderr",
     "output_type": "stream",
     "text": [
      "  0%|\u001b[34m          \u001b[0m| 0/10 [00:00<?, ?it/s]\n",
      " 20%|\u001b[34m██        \u001b[0m| 2/10 [00:00<00:00, 11.20it/s]\n"
     ]
    },
    {
     "name": "stdout",
     "output_type": "stream",
     "text": [
      "\u001b[36m(launch_and_fit pid=29448)\u001b[0m \tTrain Epoch: 3 \tTrain_loss: 1.1573 | Train_acc: 56.1250 % | Validation_loss: 1.3469 | Validation_acc: 46.7262 %\n",
      "\u001b[36m(launch_and_fit pid=29448)\u001b[0m \tTrain Epoch: 4 \tTrain_loss: 1.1113 | Train_acc: 58.4750 % | Validation_loss: 1.4669 | Validation_acc: 53.8690 %\n"
     ]
    },
    {
     "name": "stderr",
     "output_type": "stream",
     "text": [
      " 40%|\u001b[34m████      \u001b[0m| 4/10 [00:00<00:00, 11.01it/s]\n"
     ]
    },
    {
     "name": "stdout",
     "output_type": "stream",
     "text": [
      "\u001b[36m(launch_and_fit pid=29448)\u001b[0m \tTrain Epoch: 5 \tTrain_loss: 1.1188 | Train_acc: 57.1750 % | Validation_loss: 1.4627 | Validation_acc: 49.4048 %\n",
      "\u001b[36m(launch_and_fit pid=29448)\u001b[0m \tTrain Epoch: 6 \tTrain_loss: 1.1236 | Train_acc: 57.8000 % | Validation_loss: 1.5950 | Validation_acc: 48.3631 %\n"
     ]
    },
    {
     "name": "stderr",
     "output_type": "stream",
     "text": [
      " 60%|\u001b[34m██████    \u001b[0m| 6/10 [00:00<00:00, 11.40it/s]\n"
     ]
    },
    {
     "name": "stdout",
     "output_type": "stream",
     "text": [
      "\u001b[36m(launch_and_fit pid=29448)\u001b[0m \tTrain Epoch: 7 \tTrain_loss: 1.2632 | Train_acc: 51.8500 % | Validation_loss: 1.5739 | Validation_acc: 41.5179 %\n",
      "\u001b[36m(launch_and_fit pid=29448)\u001b[0m \tTrain Epoch: 8 \tTrain_loss: 1.1163 | Train_acc: 57.8250 % | Validation_loss: 1.3773 | Validation_acc: 55.6548 %\n",
      "\u001b[36m(launch_and_fit pid=29448)\u001b[0m \tTrain Epoch: 9 \tTrain_loss: 1.0835 | Train_acc: 59.7250 % | Validation_loss: 1.4788 | Validation_acc: 49.8512 %\n"
     ]
    },
    {
     "name": "stderr",
     "output_type": "stream",
     "text": [
      " 80%|\u001b[34m████████  \u001b[0m| 8/10 [00:00<00:00, 11.16it/s]\n",
      "100%|\u001b[34m██████████\u001b[0m| 10/10 [00:00<00:00, 11.25it/s]\n",
      "DEBUG flwr 2024-08-30 01:21:02,141 | server.py:236 | fit_round 13 received 4 results and 0 failures\n"
     ]
    },
    {
     "name": "stdout",
     "output_type": "stream",
     "text": [
      "\u001b[36m(launch_and_fit pid=29448)\u001b[0m \tTrain Epoch: 10 \tTrain_loss: 1.0251 | Train_acc: 61.7500 % | Validation_loss: 1.5895 | Validation_acc: 53.2738 %\n",
      "\u001b[36m(launch_and_fit pid=29448)\u001b[0m save graph in  results/FL/\n"
     ]
    },
    {
     "name": "stderr",
     "output_type": "stream",
     "text": [
      "INFO flwr 2024-08-30 01:21:02,206 | server.py:125 | fit progress: (13, 1.5763073433529247, {'accuracy': 47.310606060606055}, 271.4783380641602)\n",
      "DEBUG flwr 2024-08-30 01:21:02,207 | server.py:173 | evaluate_round 13: strategy sampled 4 clients (out of 4)\n"
     ]
    },
    {
     "name": "stdout",
     "output_type": "stream",
     "text": [
      "Saving round 13 aggregated_parameters...\n",
      "Updated model\n",
      "Server-side evaluation loss 1.5763073433529247 / accuracy 47.310606060606055\n",
      "\u001b[36m(launch_and_evaluate pid=29448)\u001b[0m Run WITHOUT homomorphic encryption\n",
      "\u001b[36m(launch_and_evaluate pid=29448)\u001b[0m  To get the checkpoint\n",
      "\u001b[36m(launch_and_evaluate pid=29448)\u001b[0m [Client 2] evaluate, config: {}\n",
      "\u001b[36m(launch_and_evaluate pid=29448)\u001b[0m Updated model\n",
      "\u001b[36m(launch_and_evaluate pid=29448)\u001b[0m Run WITHOUT homomorphic encryption\n",
      "\u001b[36m(launch_and_evaluate pid=29448)\u001b[0m  To get the checkpoint\n",
      "\u001b[36m(launch_and_evaluate pid=29448)\u001b[0m [Client 3] evaluate, config: {}\n",
      "\u001b[36m(launch_and_evaluate pid=29448)\u001b[0m Updated model\n",
      "\u001b[36m(launch_and_evaluate pid=29448)\u001b[0m Run WITHOUT homomorphic encryption\n",
      "\u001b[36m(launch_and_evaluate pid=29448)\u001b[0m  To get the checkpoint\n",
      "\u001b[36m(launch_and_evaluate pid=29448)\u001b[0m [Client 1] evaluate, config: {}\n",
      "\u001b[36m(launch_and_evaluate pid=29448)\u001b[0m Updated model\n",
      "\u001b[36m(launch_and_evaluate pid=29448)\u001b[0m Run WITHOUT homomorphic encryption\n",
      "\u001b[36m(launch_and_evaluate pid=29448)\u001b[0m  To get the checkpoint\n",
      "\u001b[36m(launch_and_evaluate pid=29448)\u001b[0m [Client 0] evaluate, config: {}\n",
      "\u001b[36m(launch_and_evaluate pid=29448)\u001b[0m Updated model\n"
     ]
    },
    {
     "name": "stderr",
     "output_type": "stream",
     "text": [
      "DEBUG flwr 2024-08-30 01:21:04,766 | server.py:187 | evaluate_round 13 received 4 results and 0 failures\n",
      "DEBUG flwr 2024-08-30 01:21:04,767 | server.py:222 | fit_round 14: strategy sampled 4 clients (out of 4)\n"
     ]
    },
    {
     "name": "stdout",
     "output_type": "stream",
     "text": [
      "\u001b[36m(launch_and_fit pid=29448)\u001b[0m Run WITHOUT homomorphic encryption\n",
      "\u001b[36m(launch_and_fit pid=29448)\u001b[0m  To get the checkpoint\n",
      "\u001b[36m(launch_and_fit pid=29448)\u001b[0m [Client 3, round 14] fit, config: {'learning_rate': 0.003, 'batch_size': '16', 'server_round': 14, 'local_epochs': 10}\n",
      "\u001b[36m(launch_and_fit pid=29448)\u001b[0m Updated model\n",
      "\u001b[36m(launch_and_fit pid=29448)\u001b[0m \tTrain Epoch: 1 \tTrain_loss: 1.3708 | Train_acc: 52.0750 % | Validation_loss: 1.5380 | Validation_acc: 53.5714 %\n"
     ]
    },
    {
     "name": "stderr",
     "output_type": "stream",
     "text": [
      "  0%|\u001b[34m          \u001b[0m| 0/10 [00:00<?, ?it/s]\n",
      " 10%|\u001b[34m█         \u001b[0m| 1/10 [00:00<00:00,  9.80it/s]\n"
     ]
    },
    {
     "name": "stdout",
     "output_type": "stream",
     "text": [
      "\u001b[36m(launch_and_fit pid=29448)\u001b[0m \tTrain Epoch: 2 \tTrain_loss: 1.1293 | Train_acc: 56.2750 % | Validation_loss: 1.5726 | Validation_acc: 42.5595 %\n",
      "\u001b[36m(launch_and_fit pid=29448)\u001b[0m \tTrain Epoch: 3 \tTrain_loss: 1.0666 | Train_acc: 61.3250 % | Validation_loss: 1.4791 | Validation_acc: 43.0060 %\n"
     ]
    },
    {
     "name": "stderr",
     "output_type": "stream",
     "text": [
      " 30%|\u001b[34m███       \u001b[0m| 3/10 [00:00<00:00, 10.22it/s]\n"
     ]
    },
    {
     "name": "stdout",
     "output_type": "stream",
     "text": [
      "\u001b[36m(launch_and_fit pid=29448)\u001b[0m \tTrain Epoch: 4 \tTrain_loss: 1.1572 | Train_acc: 59.8250 % | Validation_loss: 2.0163 | Validation_acc: 36.0119 %\n",
      "\u001b[36m(launch_and_fit pid=29448)\u001b[0m \tTrain Epoch: 5 \tTrain_loss: 1.0778 | Train_acc: 60.3250 % | Validation_loss: 1.7667 | Validation_acc: 44.9405 %\n"
     ]
    },
    {
     "name": "stderr",
     "output_type": "stream",
     "text": [
      " 50%|\u001b[34m█████     \u001b[0m| 5/10 [00:00<00:00, 10.77it/s]\n",
      " 70%|\u001b[34m███████   \u001b[0m| 7/10 [00:00<00:00, 10.89it/s]\n"
     ]
    },
    {
     "name": "stdout",
     "output_type": "stream",
     "text": [
      "\u001b[36m(launch_and_fit pid=29448)\u001b[0m \tTrain Epoch: 6 \tTrain_loss: 0.9802 | Train_acc: 64.5500 % | Validation_loss: 1.5069 | Validation_acc: 46.7262 %\n",
      "\u001b[36m(launch_and_fit pid=29448)\u001b[0m \tTrain Epoch: 7 \tTrain_loss: 0.9919 | Train_acc: 62.4750 % | Validation_loss: 1.4933 | Validation_acc: 48.8095 %\n",
      "\u001b[36m(launch_and_fit pid=29448)\u001b[0m \tTrain Epoch: 8 \tTrain_loss: 0.9465 | Train_acc: 66.4750 % | Validation_loss: 1.3918 | Validation_acc: 51.1905 %\n",
      "\u001b[36m(launch_and_fit pid=29448)\u001b[0m \tTrain Epoch: 9 \tTrain_loss: 0.9011 | Train_acc: 67.0750 % | Validation_loss: 1.7816 | Validation_acc: 41.2202 %\n",
      "\u001b[36m(launch_and_fit pid=29448)\u001b[0m \tTrain Epoch: 10 \tTrain_loss: 0.9131 | Train_acc: 66.0500 % | Validation_loss: 1.5403 | Validation_acc: 47.0238 %\n",
      "\u001b[36m(launch_and_fit pid=29448)\u001b[0m save graph in  results/FL/\n"
     ]
    },
    {
     "name": "stderr",
     "output_type": "stream",
     "text": [
      " 90%|\u001b[34m█████████ \u001b[0m| 9/10 [00:00<00:00, 11.39it/s]\n",
      "100%|\u001b[34m██████████\u001b[0m| 10/10 [00:00<00:00, 11.09it/s]\n"
     ]
    },
    {
     "name": "stdout",
     "output_type": "stream",
     "text": [
      "\u001b[36m(launch_and_fit pid=29448)\u001b[0m Run WITHOUT homomorphic encryption\n",
      "\u001b[36m(launch_and_fit pid=29448)\u001b[0m  To get the checkpoint\n",
      "\u001b[36m(launch_and_fit pid=29448)\u001b[0m [Client 0, round 14] fit, config: {'learning_rate': 0.003, 'batch_size': '16', 'server_round': 14, 'local_epochs': 10}\n",
      "\u001b[36m(launch_and_fit pid=29448)\u001b[0m Updated model\n",
      "\u001b[36m(launch_and_fit pid=29448)\u001b[0m \tTrain Epoch: 1 \tTrain_loss: 1.2058 | Train_acc: 57.4500 % | Validation_loss: 1.7573 | Validation_acc: 49.4048 %\n",
      "\u001b[36m(launch_and_fit pid=29448)\u001b[0m \tTrain Epoch: 2 \tTrain_loss: 1.1020 | Train_acc: 60.1250 % | Validation_loss: 2.1272 | Validation_acc: 49.1071 %\n"
     ]
    },
    {
     "name": "stderr",
     "output_type": "stream",
     "text": [
      "  0%|\u001b[34m          \u001b[0m| 0/10 [00:00<?, ?it/s]\n",
      " 20%|\u001b[34m██        \u001b[0m| 2/10 [00:00<00:00, 11.47it/s]\n"
     ]
    },
    {
     "name": "stdout",
     "output_type": "stream",
     "text": [
      "\u001b[36m(launch_and_fit pid=29448)\u001b[0m \tTrain Epoch: 3 \tTrain_loss: 1.0245 | Train_acc: 63.2000 % | Validation_loss: 1.7227 | Validation_acc: 49.1071 %\n",
      "\u001b[36m(launch_and_fit pid=29448)\u001b[0m \tTrain Epoch: 4 \tTrain_loss: 1.1059 | Train_acc: 59.7000 % | Validation_loss: 2.0500 | Validation_acc: 37.6488 %\n"
     ]
    },
    {
     "name": "stderr",
     "output_type": "stream",
     "text": [
      " 40%|\u001b[34m████      \u001b[0m| 4/10 [00:00<00:00, 11.89it/s]\n"
     ]
    },
    {
     "name": "stdout",
     "output_type": "stream",
     "text": [
      "\u001b[36m(launch_and_fit pid=29448)\u001b[0m \tTrain Epoch: 5 \tTrain_loss: 1.0936 | Train_acc: 60.2250 % | Validation_loss: 1.8653 | Validation_acc: 44.9405 %\n",
      "\u001b[36m(launch_and_fit pid=29448)\u001b[0m \tTrain Epoch: 6 \tTrain_loss: 0.9968 | Train_acc: 63.0750 % | Validation_loss: 1.7476 | Validation_acc: 53.8690 %\n",
      "\u001b[36m(launch_and_fit pid=29448)\u001b[0m \tTrain Epoch: 7 \tTrain_loss: 0.9703 | Train_acc: 64.0750 % | Validation_loss: 1.8450 | Validation_acc: 48.0655 %\n"
     ]
    },
    {
     "name": "stderr",
     "output_type": "stream",
     "text": [
      " 60%|\u001b[34m██████    \u001b[0m| 6/10 [00:00<00:00, 11.85it/s]\n",
      " 80%|\u001b[34m████████  \u001b[0m| 8/10 [00:00<00:00, 11.68it/s]\n"
     ]
    },
    {
     "name": "stdout",
     "output_type": "stream",
     "text": [
      "\u001b[36m(launch_and_fit pid=29448)\u001b[0m \tTrain Epoch: 8 \tTrain_loss: 0.9384 | Train_acc: 64.7000 % | Validation_loss: 1.8248 | Validation_acc: 53.5714 %\n",
      "\u001b[36m(launch_and_fit pid=29448)\u001b[0m \tTrain Epoch: 9 \tTrain_loss: 0.9712 | Train_acc: 63.7250 % | Validation_loss: 2.0667 | Validation_acc: 52.2321 %\n",
      "\u001b[36m(launch_and_fit pid=29448)\u001b[0m \tTrain Epoch: 10 \tTrain_loss: 1.1198 | Train_acc: 58.1500 % | Validation_loss: 1.8016 | Validation_acc: 46.2798 %\n",
      "\u001b[36m(launch_and_fit pid=29448)\u001b[0m save graph in  results/FL/\n"
     ]
    },
    {
     "name": "stderr",
     "output_type": "stream",
     "text": [
      "100%|\u001b[34m██████████\u001b[0m| 10/10 [00:00<00:00, 11.88it/s]\n"
     ]
    },
    {
     "name": "stdout",
     "output_type": "stream",
     "text": [
      "\u001b[36m(launch_and_fit pid=29448)\u001b[0m Run WITHOUT homomorphic encryption\n",
      "\u001b[36m(launch_and_fit pid=29448)\u001b[0m  To get the checkpoint\n",
      "\u001b[36m(launch_and_fit pid=29448)\u001b[0m [Client 1, round 14] fit, config: {'learning_rate': 0.003, 'batch_size': '16', 'server_round': 14, 'local_epochs': 10}\n",
      "\u001b[36m(launch_and_fit pid=29448)\u001b[0m Updated model\n",
      "\u001b[36m(launch_and_fit pid=29448)\u001b[0m \tTrain Epoch: 1 \tTrain_loss: 1.3062 | Train_acc: 53.3500 % | Validation_loss: 1.2704 | Validation_acc: 54.3155 %\n",
      "\u001b[36m(launch_and_fit pid=29448)\u001b[0m \tTrain Epoch: 2 \tTrain_loss: 1.1633 | Train_acc: 55.9500 % | Validation_loss: 1.3237 | Validation_acc: 53.2738 %\n"
     ]
    },
    {
     "name": "stderr",
     "output_type": "stream",
     "text": [
      "  0%|\u001b[34m          \u001b[0m| 0/10 [00:00<?, ?it/s]\n",
      " 20%|\u001b[34m██        \u001b[0m| 2/10 [00:00<00:00, 11.49it/s]\n"
     ]
    },
    {
     "name": "stdout",
     "output_type": "stream",
     "text": [
      "\u001b[36m(launch_and_fit pid=29448)\u001b[0m \tTrain Epoch: 3 \tTrain_loss: 1.1571 | Train_acc: 57.5500 % | Validation_loss: 1.4844 | Validation_acc: 43.6012 %\n",
      "\u001b[36m(launch_and_fit pid=29448)\u001b[0m \tTrain Epoch: 4 \tTrain_loss: 1.2001 | Train_acc: 53.6750 % | Validation_loss: 1.3823 | Validation_acc: 50.8929 %\n"
     ]
    },
    {
     "name": "stderr",
     "output_type": "stream",
     "text": [
      " 40%|\u001b[34m████      \u001b[0m| 4/10 [00:00<00:00, 11.46it/s]\n"
     ]
    },
    {
     "name": "stdout",
     "output_type": "stream",
     "text": [
      "\u001b[36m(launch_and_fit pid=29448)\u001b[0m \tTrain Epoch: 5 \tTrain_loss: 1.1981 | Train_acc: 55.4250 % | Validation_loss: 1.4930 | Validation_acc: 44.6429 %\n",
      "\u001b[36m(launch_and_fit pid=29448)\u001b[0m \tTrain Epoch: 6 \tTrain_loss: 1.0604 | Train_acc: 60.4750 % | Validation_loss: 1.3716 | Validation_acc: 54.3155 %\n",
      "\u001b[36m(launch_and_fit pid=29448)\u001b[0m \tTrain Epoch: 7 \tTrain_loss: 1.0449 | Train_acc: 61.5750 % | Validation_loss: 1.4921 | Validation_acc: 47.7679 %\n"
     ]
    },
    {
     "name": "stderr",
     "output_type": "stream",
     "text": [
      " 60%|\u001b[34m██████    \u001b[0m| 6/10 [00:00<00:00, 11.83it/s]\n",
      " 80%|\u001b[34m████████  \u001b[0m| 8/10 [00:00<00:00, 11.71it/s]\n"
     ]
    },
    {
     "name": "stdout",
     "output_type": "stream",
     "text": [
      "\u001b[36m(launch_and_fit pid=29448)\u001b[0m \tTrain Epoch: 8 \tTrain_loss: 1.0653 | Train_acc: 59.8000 % | Validation_loss: 1.5460 | Validation_acc: 48.8095 %\n",
      "\u001b[36m(launch_and_fit pid=29448)\u001b[0m \tTrain Epoch: 9 \tTrain_loss: 1.1257 | Train_acc: 58.1000 % | Validation_loss: 1.5834 | Validation_acc: 53.2738 %\n",
      "\u001b[36m(launch_and_fit pid=29448)\u001b[0m \tTrain Epoch: 10 \tTrain_loss: 1.0489 | Train_acc: 63.3750 % | Validation_loss: 1.4024 | Validation_acc: 60.1190 %\n",
      "\u001b[36m(launch_and_fit pid=29448)\u001b[0m save graph in  results/FL/\n"
     ]
    },
    {
     "name": "stderr",
     "output_type": "stream",
     "text": [
      "100%|\u001b[34m██████████\u001b[0m| 10/10 [00:00<00:00, 11.67it/s]\n"
     ]
    },
    {
     "name": "stdout",
     "output_type": "stream",
     "text": [
      "\u001b[36m(launch_and_fit pid=29448)\u001b[0m Run WITHOUT homomorphic encryption\n",
      "\u001b[36m(launch_and_fit pid=29448)\u001b[0m  To get the checkpoint\n",
      "\u001b[36m(launch_and_fit pid=29448)\u001b[0m [Client 2, round 14] fit, config: {'learning_rate': 0.003, 'batch_size': '16', 'server_round': 14, 'local_epochs': 10}\n",
      "\u001b[36m(launch_and_fit pid=29448)\u001b[0m Updated model\n",
      "\u001b[36m(launch_and_fit pid=29448)\u001b[0m \tTrain Epoch: 1 \tTrain_loss: 1.3085 | Train_acc: 52.7250 % | Validation_loss: 1.3263 | Validation_acc: 48.3631 %\n",
      "\u001b[36m(launch_and_fit pid=29448)\u001b[0m \tTrain Epoch: 2 \tTrain_loss: 1.2523 | Train_acc: 55.7250 % | Validation_loss: 1.3190 | Validation_acc: 51.4881 %\n"
     ]
    },
    {
     "name": "stderr",
     "output_type": "stream",
     "text": [
      "  0%|\u001b[34m          \u001b[0m| 0/10 [00:00<?, ?it/s]\n",
      " 20%|\u001b[34m██        \u001b[0m| 2/10 [00:00<00:00, 11.65it/s]\n"
     ]
    },
    {
     "name": "stdout",
     "output_type": "stream",
     "text": [
      "\u001b[36m(launch_and_fit pid=29448)\u001b[0m \tTrain Epoch: 3 \tTrain_loss: 1.1841 | Train_acc: 56.1250 % | Validation_loss: 1.3992 | Validation_acc: 53.5714 %\n",
      "\u001b[36m(launch_and_fit pid=29448)\u001b[0m \tTrain Epoch: 4 \tTrain_loss: 1.1214 | Train_acc: 58.9750 % | Validation_loss: 1.3611 | Validation_acc: 52.5298 %\n"
     ]
    },
    {
     "name": "stderr",
     "output_type": "stream",
     "text": [
      " 40%|\u001b[34m████      \u001b[0m| 4/10 [00:00<00:00, 11.30it/s]\n"
     ]
    },
    {
     "name": "stdout",
     "output_type": "stream",
     "text": [
      "\u001b[36m(launch_and_fit pid=29448)\u001b[0m \tTrain Epoch: 5 \tTrain_loss: 1.0708 | Train_acc: 59.4750 % | Validation_loss: 1.3679 | Validation_acc: 50.4464 %\n",
      "\u001b[36m(launch_and_fit pid=29448)\u001b[0m \tTrain Epoch: 6 \tTrain_loss: 1.0950 | Train_acc: 58.9500 % | Validation_loss: 1.4599 | Validation_acc: 50.4464 %\n",
      "\u001b[36m(launch_and_fit pid=29448)\u001b[0m \tTrain Epoch: 7 \tTrain_loss: 1.1002 | Train_acc: 58.4250 % | Validation_loss: 1.4120 | Validation_acc: 50.1488 %\n"
     ]
    },
    {
     "name": "stderr",
     "output_type": "stream",
     "text": [
      " 60%|\u001b[34m██████    \u001b[0m| 6/10 [00:00<00:00, 11.48it/s]\n",
      " 80%|\u001b[34m████████  \u001b[0m| 8/10 [00:00<00:00, 11.28it/s]\n"
     ]
    },
    {
     "name": "stdout",
     "output_type": "stream",
     "text": [
      "\u001b[36m(launch_and_fit pid=29448)\u001b[0m \tTrain Epoch: 8 \tTrain_loss: 1.1120 | Train_acc: 59.7250 % | Validation_loss: 1.2857 | Validation_acc: 49.1071 %\n",
      "\u001b[36m(launch_and_fit pid=29448)\u001b[0m \tTrain Epoch: 9 \tTrain_loss: 1.0954 | Train_acc: 59.5500 % | Validation_loss: 1.3773 | Validation_acc: 52.5298 %\n"
     ]
    },
    {
     "name": "stderr",
     "output_type": "stream",
     "text": [
      "100%|\u001b[34m██████████\u001b[0m| 10/10 [00:00<00:00, 11.39it/s]\n",
      "DEBUG flwr 2024-08-30 01:21:09,827 | server.py:236 | fit_round 14 received 4 results and 0 failures\n",
      "INFO flwr 2024-08-30 01:21:09,883 | server.py:125 | fit progress: (14, 1.5091387900439175, {'accuracy': 50.378787878787875}, 279.15517396479845)\n",
      "DEBUG flwr 2024-08-30 01:21:09,883 | server.py:173 | evaluate_round 14: strategy sampled 4 clients (out of 4)\n"
     ]
    },
    {
     "name": "stdout",
     "output_type": "stream",
     "text": [
      "\u001b[36m(launch_and_fit pid=29448)\u001b[0m \tTrain Epoch: 10 \tTrain_loss: 1.0497 | Train_acc: 62.2000 % | Validation_loss: 1.3923 | Validation_acc: 49.1071 %\n",
      "\u001b[36m(launch_and_fit pid=29448)\u001b[0m save graph in  results/FL/\n",
      "Saving round 14 aggregated_parameters...\n",
      "Updated model\n",
      "Server-side evaluation loss 1.5091387900439175 / accuracy 50.378787878787875\n",
      "\u001b[36m(launch_and_evaluate pid=29448)\u001b[0m Run WITHOUT homomorphic encryption\n",
      "\u001b[36m(launch_and_evaluate pid=29448)\u001b[0m  To get the checkpoint\n",
      "\u001b[36m(launch_and_evaluate pid=29448)\u001b[0m [Client 1] evaluate, config: {}\n",
      "\u001b[36m(launch_and_evaluate pid=29448)\u001b[0m Updated model\n",
      "\u001b[36m(launch_and_evaluate pid=29448)\u001b[0m Run WITHOUT homomorphic encryption\n",
      "\u001b[36m(launch_and_evaluate pid=29448)\u001b[0m  To get the checkpoint\n",
      "\u001b[36m(launch_and_evaluate pid=29448)\u001b[0m [Client 0] evaluate, config: {}\n",
      "\u001b[36m(launch_and_evaluate pid=29448)\u001b[0m Updated model\n",
      "\u001b[36m(launch_and_evaluate pid=29448)\u001b[0m Run WITHOUT homomorphic encryption\n",
      "\u001b[36m(launch_and_evaluate pid=29448)\u001b[0m  To get the checkpoint\n",
      "\u001b[36m(launch_and_evaluate pid=29448)\u001b[0m [Client 2] evaluate, config: {}\n",
      "\u001b[36m(launch_and_evaluate pid=29448)\u001b[0m Updated model\n",
      "\u001b[36m(launch_and_evaluate pid=29448)\u001b[0m Run WITHOUT homomorphic encryption\n",
      "\u001b[36m(launch_and_evaluate pid=29448)\u001b[0m  To get the checkpoint\n",
      "\u001b[36m(launch_and_evaluate pid=29448)\u001b[0m [Client 3] evaluate, config: {}\n",
      "\u001b[36m(launch_and_evaluate pid=29448)\u001b[0m Updated model\n"
     ]
    },
    {
     "name": "stderr",
     "output_type": "stream",
     "text": [
      "DEBUG flwr 2024-08-30 01:21:12,010 | server.py:187 | evaluate_round 14 received 4 results and 0 failures\n",
      "DEBUG flwr 2024-08-30 01:21:12,010 | server.py:222 | fit_round 15: strategy sampled 4 clients (out of 4)\n"
     ]
    },
    {
     "name": "stdout",
     "output_type": "stream",
     "text": [
      "\u001b[36m(launch_and_fit pid=29448)\u001b[0m Run WITHOUT homomorphic encryption\n",
      "\u001b[36m(launch_and_fit pid=29448)\u001b[0m  To get the checkpoint\n",
      "\u001b[36m(launch_and_fit pid=29448)\u001b[0m [Client 1, round 15] fit, config: {'learning_rate': 0.003, 'batch_size': '16', 'server_round': 15, 'local_epochs': 10}\n",
      "\u001b[36m(launch_and_fit pid=29448)\u001b[0m Updated model\n",
      "\u001b[36m(launch_and_fit pid=29448)\u001b[0m \tTrain Epoch: 1 \tTrain_loss: 1.2891 | Train_acc: 53.7000 % | Validation_loss: 1.3504 | Validation_acc: 53.2738 %\n"
     ]
    },
    {
     "name": "stderr",
     "output_type": "stream",
     "text": [
      "  0%|\u001b[34m          \u001b[0m| 0/10 [00:00<?, ?it/s]\n"
     ]
    },
    {
     "name": "stdout",
     "output_type": "stream",
     "text": [
      "\u001b[36m(launch_and_fit pid=29448)\u001b[0m \tTrain Epoch: 2 \tTrain_loss: 1.1427 | Train_acc: 57.8250 % | Validation_loss: 1.3537 | Validation_acc: 54.6131 %\n",
      "\u001b[36m(launch_and_fit pid=29448)\u001b[0m \tTrain Epoch: 3 \tTrain_loss: 1.1283 | Train_acc: 58.8000 % | Validation_loss: 1.4619 | Validation_acc: 49.1071 %\n"
     ]
    },
    {
     "name": "stderr",
     "output_type": "stream",
     "text": [
      " 20%|\u001b[34m██        \u001b[0m| 2/10 [00:00<00:00, 11.41it/s]\n"
     ]
    },
    {
     "name": "stdout",
     "output_type": "stream",
     "text": [
      "\u001b[36m(launch_and_fit pid=29448)\u001b[0m \tTrain Epoch: 4 \tTrain_loss: 1.1469 | Train_acc: 57.0500 % | Validation_loss: 1.3298 | Validation_acc: 53.5714 %\n",
      "\u001b[36m(launch_and_fit pid=29448)\u001b[0m \tTrain Epoch: 5 \tTrain_loss: 1.1209 | Train_acc: 56.4000 % | Validation_loss: 1.4836 | Validation_acc: 50.8929 %\n",
      "\u001b[36m(launch_and_fit pid=29448)\u001b[0m \tTrain Epoch: 6 \tTrain_loss: 1.1224 | Train_acc: 56.7250 % | Validation_loss: 1.3813 | Validation_acc: 49.8512 %\n"
     ]
    },
    {
     "name": "stderr",
     "output_type": "stream",
     "text": [
      " 40%|\u001b[34m████      \u001b[0m| 4/10 [00:00<00:00, 11.15it/s]\n",
      " 60%|\u001b[34m██████    \u001b[0m| 6/10 [00:00<00:00, 11.74it/s]\n"
     ]
    },
    {
     "name": "stdout",
     "output_type": "stream",
     "text": [
      "\u001b[36m(launch_and_fit pid=29448)\u001b[0m \tTrain Epoch: 7 \tTrain_loss: 1.0053 | Train_acc: 62.6000 % | Validation_loss: 1.5256 | Validation_acc: 47.7679 %\n",
      "\u001b[36m(launch_and_fit pid=29448)\u001b[0m \tTrain Epoch: 8 \tTrain_loss: 0.9716 | Train_acc: 62.6250 % | Validation_loss: 1.4047 | Validation_acc: 49.5536 %\n"
     ]
    },
    {
     "name": "stderr",
     "output_type": "stream",
     "text": [
      " 80%|\u001b[34m████████  \u001b[0m| 8/10 [00:00<00:00, 12.01it/s]\n",
      "100%|\u001b[34m██████████\u001b[0m| 10/10 [00:00<00:00, 11.76it/s]\n"
     ]
    },
    {
     "name": "stdout",
     "output_type": "stream",
     "text": [
      "\u001b[36m(launch_and_fit pid=29448)\u001b[0m \tTrain Epoch: 9 \tTrain_loss: 0.9303 | Train_acc: 65.2500 % | Validation_loss: 1.5753 | Validation_acc: 49.1071 %\n",
      "\u001b[36m(launch_and_fit pid=29448)\u001b[0m \tTrain Epoch: 10 \tTrain_loss: 0.9624 | Train_acc: 63.6750 % | Validation_loss: 1.5070 | Validation_acc: 45.6845 %\n",
      "\u001b[36m(launch_and_fit pid=29448)\u001b[0m save graph in  results/FL/\n",
      "\u001b[36m(launch_and_fit pid=29448)\u001b[0m Run WITHOUT homomorphic encryption\n",
      "\u001b[36m(launch_and_fit pid=29448)\u001b[0m  To get the checkpoint\n",
      "\u001b[36m(launch_and_fit pid=29448)\u001b[0m [Client 3, round 15] fit, config: {'learning_rate': 0.003, 'batch_size': '16', 'server_round': 15, 'local_epochs': 10}\n",
      "\u001b[36m(launch_and_fit pid=29448)\u001b[0m Updated model\n",
      "\u001b[36m(launch_and_fit pid=29448)\u001b[0m \tTrain Epoch: 1 \tTrain_loss: 1.2034 | Train_acc: 58.1000 % | Validation_loss: 1.5029 | Validation_acc: 45.3869 %\n"
     ]
    },
    {
     "name": "stderr",
     "output_type": "stream",
     "text": [
      "  0%|\u001b[34m          \u001b[0m| 0/10 [00:00<?, ?it/s]\n"
     ]
    },
    {
     "name": "stdout",
     "output_type": "stream",
     "text": [
      "\u001b[36m(launch_and_fit pid=29448)\u001b[0m \tTrain Epoch: 2 \tTrain_loss: 1.0635 | Train_acc: 60.8500 % | Validation_loss: 1.7262 | Validation_acc: 45.3869 %\n",
      "\u001b[36m(launch_and_fit pid=29448)\u001b[0m \tTrain Epoch: 3 \tTrain_loss: 1.0582 | Train_acc: 62.8250 % | Validation_loss: 1.7757 | Validation_acc: 39.8810 %\n"
     ]
    },
    {
     "name": "stderr",
     "output_type": "stream",
     "text": [
      " 20%|\u001b[34m██        \u001b[0m| 2/10 [00:00<00:00, 11.92it/s]\n"
     ]
    },
    {
     "name": "stdout",
     "output_type": "stream",
     "text": [
      "\u001b[36m(launch_and_fit pid=29448)\u001b[0m \tTrain Epoch: 4 \tTrain_loss: 1.0386 | Train_acc: 62.1000 % | Validation_loss: 1.4717 | Validation_acc: 46.7262 %\n",
      "\u001b[36m(launch_and_fit pid=29448)\u001b[0m \tTrain Epoch: 5 \tTrain_loss: 1.0516 | Train_acc: 62.4000 % | Validation_loss: 1.5856 | Validation_acc: 48.0655 %\n",
      "\u001b[36m(launch_and_fit pid=29448)\u001b[0m \tTrain Epoch: 6 \tTrain_loss: 0.9407 | Train_acc: 65.6000 % | Validation_loss: 2.0639 | Validation_acc: 35.2679 %\n"
     ]
    },
    {
     "name": "stderr",
     "output_type": "stream",
     "text": [
      " 40%|\u001b[34m████      \u001b[0m| 4/10 [00:00<00:00, 11.75it/s]\n",
      " 60%|\u001b[34m██████    \u001b[0m| 6/10 [00:00<00:00, 11.52it/s]\n"
     ]
    },
    {
     "name": "stdout",
     "output_type": "stream",
     "text": [
      "\u001b[36m(launch_and_fit pid=29448)\u001b[0m \tTrain Epoch: 7 \tTrain_loss: 0.9374 | Train_acc: 65.3750 % | Validation_loss: 1.4708 | Validation_acc: 46.7262 %\n",
      "\u001b[36m(launch_and_fit pid=29448)\u001b[0m \tTrain Epoch: 8 \tTrain_loss: 0.8649 | Train_acc: 67.7000 % | Validation_loss: 1.6400 | Validation_acc: 45.6845 %\n"
     ]
    },
    {
     "name": "stderr",
     "output_type": "stream",
     "text": [
      " 80%|\u001b[34m████████  \u001b[0m| 8/10 [00:00<00:00, 11.91it/s]\n",
      "100%|\u001b[34m██████████\u001b[0m| 10/10 [00:00<00:00, 11.94it/s]\n"
     ]
    },
    {
     "name": "stdout",
     "output_type": "stream",
     "text": [
      "\u001b[36m(launch_and_fit pid=29448)\u001b[0m \tTrain Epoch: 9 \tTrain_loss: 0.8730 | Train_acc: 67.0750 % | Validation_loss: 1.5907 | Validation_acc: 46.7262 %\n",
      "\u001b[36m(launch_and_fit pid=29448)\u001b[0m \tTrain Epoch: 10 \tTrain_loss: 0.8436 | Train_acc: 69.5000 % | Validation_loss: 1.6191 | Validation_acc: 44.6429 %\n",
      "\u001b[36m(launch_and_fit pid=29448)\u001b[0m save graph in  results/FL/\n",
      "\u001b[36m(launch_and_fit pid=29448)\u001b[0m Run WITHOUT homomorphic encryption\n",
      "\u001b[36m(launch_and_fit pid=29448)\u001b[0m  To get the checkpoint\n",
      "\u001b[36m(launch_and_fit pid=29448)\u001b[0m [Client 0, round 15] fit, config: {'learning_rate': 0.003, 'batch_size': '16', 'server_round': 15, 'local_epochs': 10}\n",
      "\u001b[36m(launch_and_fit pid=29448)\u001b[0m Updated model\n",
      "\u001b[36m(launch_and_fit pid=29448)\u001b[0m \tTrain Epoch: 1 \tTrain_loss: 1.1880 | Train_acc: 57.6000 % | Validation_loss: 1.8401 | Validation_acc: 38.6905 %\n"
     ]
    },
    {
     "name": "stderr",
     "output_type": "stream",
     "text": [
      "  0%|\u001b[34m          \u001b[0m| 0/10 [00:00<?, ?it/s]\n"
     ]
    },
    {
     "name": "stdout",
     "output_type": "stream",
     "text": [
      "\u001b[36m(launch_and_fit pid=29448)\u001b[0m \tTrain Epoch: 2 \tTrain_loss: 1.1471 | Train_acc: 58.3250 % | Validation_loss: 1.9286 | Validation_acc: 50.4464 %\n",
      "\u001b[36m(launch_and_fit pid=29448)\u001b[0m \tTrain Epoch: 3 \tTrain_loss: 1.0271 | Train_acc: 62.5000 % | Validation_loss: 1.8158 | Validation_acc: 49.1071 %\n"
     ]
    },
    {
     "name": "stderr",
     "output_type": "stream",
     "text": [
      " 20%|\u001b[34m██        \u001b[0m| 2/10 [00:00<00:00, 11.21it/s]\n"
     ]
    },
    {
     "name": "stdout",
     "output_type": "stream",
     "text": [
      "\u001b[36m(launch_and_fit pid=29448)\u001b[0m \tTrain Epoch: 4 \tTrain_loss: 0.9656 | Train_acc: 63.9750 % | Validation_loss: 2.0295 | Validation_acc: 48.0655 %\n",
      "\u001b[36m(launch_and_fit pid=29448)\u001b[0m \tTrain Epoch: 5 \tTrain_loss: 1.0012 | Train_acc: 63.2250 % | Validation_loss: 2.1548 | Validation_acc: 50.4464 %\n"
     ]
    },
    {
     "name": "stderr",
     "output_type": "stream",
     "text": [
      " 40%|\u001b[34m████      \u001b[0m| 4/10 [00:00<00:00, 11.40it/s]\n"
     ]
    },
    {
     "name": "stdout",
     "output_type": "stream",
     "text": [
      "\u001b[36m(launch_and_fit pid=29448)\u001b[0m \tTrain Epoch: 6 \tTrain_loss: 0.9103 | Train_acc: 68.4500 % | Validation_loss: 1.9632 | Validation_acc: 48.3631 %\n",
      "\u001b[36m(launch_and_fit pid=29448)\u001b[0m \tTrain Epoch: 7 \tTrain_loss: 0.9148 | Train_acc: 65.6000 % | Validation_loss: 1.8786 | Validation_acc: 52.8274 %\n",
      "\u001b[36m(launch_and_fit pid=29448)\u001b[0m \tTrain Epoch: 8 \tTrain_loss: 0.9245 | Train_acc: 66.7500 % | Validation_loss: 1.9155 | Validation_acc: 47.3214 %\n"
     ]
    },
    {
     "name": "stderr",
     "output_type": "stream",
     "text": [
      " 60%|\u001b[34m██████    \u001b[0m| 6/10 [00:00<00:00, 11.26it/s]\n",
      " 80%|\u001b[34m████████  \u001b[0m| 8/10 [00:00<00:00, 11.30it/s]\n"
     ]
    },
    {
     "name": "stdout",
     "output_type": "stream",
     "text": [
      "\u001b[36m(launch_and_fit pid=29448)\u001b[0m \tTrain Epoch: 9 \tTrain_loss: 0.9640 | Train_acc: 64.6250 % | Validation_loss: 1.9500 | Validation_acc: 44.4940 %\n",
      "\u001b[36m(launch_and_fit pid=29448)\u001b[0m \tTrain Epoch: 10 \tTrain_loss: 0.8816 | Train_acc: 67.8500 % | Validation_loss: 1.9045 | Validation_acc: 52.5298 %\n",
      "\u001b[36m(launch_and_fit pid=29448)\u001b[0m save graph in  results/FL/\n"
     ]
    },
    {
     "name": "stderr",
     "output_type": "stream",
     "text": [
      "100%|\u001b[34m██████████\u001b[0m| 10/10 [00:00<00:00, 11.24it/s]\n"
     ]
    },
    {
     "name": "stdout",
     "output_type": "stream",
     "text": [
      "\u001b[36m(launch_and_fit pid=29448)\u001b[0m Run WITHOUT homomorphic encryption\n",
      "\u001b[36m(launch_and_fit pid=29448)\u001b[0m  To get the checkpoint\n",
      "\u001b[36m(launch_and_fit pid=29448)\u001b[0m [Client 2, round 15] fit, config: {'learning_rate': 0.003, 'batch_size': '16', 'server_round': 15, 'local_epochs': 10}\n",
      "\u001b[36m(launch_and_fit pid=29448)\u001b[0m Updated model\n",
      "\u001b[36m(launch_and_fit pid=29448)\u001b[0m \tTrain Epoch: 1 \tTrain_loss: 1.3065 | Train_acc: 53.7000 % | Validation_loss: 1.3481 | Validation_acc: 48.3631 %\n"
     ]
    },
    {
     "name": "stderr",
     "output_type": "stream",
     "text": [
      "  0%|\u001b[34m          \u001b[0m| 0/10 [00:00<?, ?it/s]\n"
     ]
    },
    {
     "name": "stdout",
     "output_type": "stream",
     "text": [
      "\u001b[36m(launch_and_fit pid=29448)\u001b[0m \tTrain Epoch: 2 \tTrain_loss: 1.1539 | Train_acc: 58.0250 % | Validation_loss: 1.3641 | Validation_acc: 49.1071 %\n",
      "\u001b[36m(launch_and_fit pid=29448)\u001b[0m \tTrain Epoch: 3 \tTrain_loss: 1.2091 | Train_acc: 57.1000 % | Validation_loss: 1.4252 | Validation_acc: 51.4881 %\n",
      "\u001b[36m(launch_and_fit pid=29448)\u001b[0m \tTrain Epoch: 4 \tTrain_loss: 1.0932 | Train_acc: 59.8500 % | Validation_loss: 1.4960 | Validation_acc: 57.7381 %\n"
     ]
    },
    {
     "name": "stderr",
     "output_type": "stream",
     "text": [
      " 20%|\u001b[34m██        \u001b[0m| 2/10 [00:00<00:00, 10.57it/s]\n",
      " 40%|\u001b[34m████      \u001b[0m| 4/10 [00:00<00:00, 11.35it/s]\n"
     ]
    },
    {
     "name": "stdout",
     "output_type": "stream",
     "text": [
      "\u001b[36m(launch_and_fit pid=29448)\u001b[0m \tTrain Epoch: 5 \tTrain_loss: 1.0404 | Train_acc: 61.4750 % | Validation_loss: 1.4017 | Validation_acc: 55.6548 %\n",
      "\u001b[36m(launch_and_fit pid=29448)\u001b[0m \tTrain Epoch: 6 \tTrain_loss: 1.0872 | Train_acc: 59.9750 % | Validation_loss: 1.4475 | Validation_acc: 50.4464 %\n"
     ]
    },
    {
     "name": "stderr",
     "output_type": "stream",
     "text": [
      " 60%|\u001b[34m██████    \u001b[0m| 6/10 [00:00<00:00, 11.70it/s]\n"
     ]
    },
    {
     "name": "stdout",
     "output_type": "stream",
     "text": [
      "\u001b[36m(launch_and_fit pid=29448)\u001b[0m \tTrain Epoch: 7 \tTrain_loss: 1.0358 | Train_acc: 62.7000 % | Validation_loss: 1.3654 | Validation_acc: 52.5298 %\n",
      "\u001b[36m(launch_and_fit pid=29448)\u001b[0m \tTrain Epoch: 8 \tTrain_loss: 0.9814 | Train_acc: 62.4750 % | Validation_loss: 1.3057 | Validation_acc: 52.5298 %\n",
      "\u001b[36m(launch_and_fit pid=29448)\u001b[0m \tTrain Epoch: 9 \tTrain_loss: 1.0039 | Train_acc: 62.7250 % | Validation_loss: 1.4793 | Validation_acc: 53.5714 %\n"
     ]
    },
    {
     "name": "stderr",
     "output_type": "stream",
     "text": [
      " 80%|\u001b[34m████████  \u001b[0m| 8/10 [00:00<00:00, 11.86it/s]\n",
      "100%|\u001b[34m██████████\u001b[0m| 10/10 [00:00<00:00, 11.73it/s]\n",
      "DEBUG flwr 2024-08-30 01:21:17,059 | server.py:236 | fit_round 15 received 4 results and 0 failures\n"
     ]
    },
    {
     "name": "stdout",
     "output_type": "stream",
     "text": [
      "\u001b[36m(launch_and_fit pid=29448)\u001b[0m \tTrain Epoch: 10 \tTrain_loss: 0.9806 | Train_acc: 64.6000 % | Validation_loss: 1.4211 | Validation_acc: 54.6131 %\n",
      "\u001b[36m(launch_and_fit pid=29448)\u001b[0m save graph in  results/FL/\n",
      "Saving round 15 aggregated_parameters...\n",
      "Updated model\n"
     ]
    },
    {
     "name": "stderr",
     "output_type": "stream",
     "text": [
      "INFO flwr 2024-08-30 01:21:17,138 | server.py:125 | fit progress: (15, 1.597981339151209, {'accuracy': 50.94696969696969}, 286.4109256681986)\n",
      "DEBUG flwr 2024-08-30 01:21:17,139 | server.py:173 | evaluate_round 15: strategy sampled 4 clients (out of 4)\n"
     ]
    },
    {
     "name": "stdout",
     "output_type": "stream",
     "text": [
      "Server-side evaluation loss 1.597981339151209 / accuracy 50.94696969696969\n",
      "\u001b[36m(launch_and_evaluate pid=29448)\u001b[0m Run WITHOUT homomorphic encryption\n",
      "\u001b[36m(launch_and_evaluate pid=29448)\u001b[0m  To get the checkpoint\n",
      "\u001b[36m(launch_and_evaluate pid=29448)\u001b[0m [Client 3] evaluate, config: {}\n",
      "\u001b[36m(launch_and_evaluate pid=29448)\u001b[0m Updated model\n",
      "\u001b[36m(launch_and_evaluate pid=29448)\u001b[0m Run WITHOUT homomorphic encryption\n",
      "\u001b[36m(launch_and_evaluate pid=29448)\u001b[0m  To get the checkpoint\n",
      "\u001b[36m(launch_and_evaluate pid=29448)\u001b[0m [Client 0] evaluate, config: {}\n",
      "\u001b[36m(launch_and_evaluate pid=29448)\u001b[0m Updated model\n",
      "\u001b[36m(launch_and_evaluate pid=29448)\u001b[0m Run WITHOUT homomorphic encryption\n",
      "\u001b[36m(launch_and_evaluate pid=29448)\u001b[0m  To get the checkpoint\n",
      "\u001b[36m(launch_and_evaluate pid=29448)\u001b[0m [Client 2] evaluate, config: {}\n",
      "\u001b[36m(launch_and_evaluate pid=29448)\u001b[0m Updated model\n",
      "\u001b[36m(launch_and_evaluate pid=29448)\u001b[0m Run WITHOUT homomorphic encryption\n",
      "\u001b[36m(launch_and_evaluate pid=29448)\u001b[0m  To get the checkpoint\n",
      "\u001b[36m(launch_and_evaluate pid=29448)\u001b[0m [Client 1] evaluate, config: {}\n",
      "\u001b[36m(launch_and_evaluate pid=29448)\u001b[0m Updated model\n"
     ]
    },
    {
     "name": "stderr",
     "output_type": "stream",
     "text": [
      "DEBUG flwr 2024-08-30 01:21:19,712 | server.py:187 | evaluate_round 15 received 4 results and 0 failures\n",
      "DEBUG flwr 2024-08-30 01:21:19,713 | server.py:222 | fit_round 16: strategy sampled 4 clients (out of 4)\n"
     ]
    },
    {
     "name": "stdout",
     "output_type": "stream",
     "text": [
      "\u001b[36m(launch_and_fit pid=29448)\u001b[0m Run WITHOUT homomorphic encryption\n",
      "\u001b[36m(launch_and_fit pid=29448)\u001b[0m  To get the checkpoint\n",
      "\u001b[36m(launch_and_fit pid=29448)\u001b[0m [Client 2, round 16] fit, config: {'learning_rate': 0.003, 'batch_size': '16', 'server_round': 16, 'local_epochs': 10}\n",
      "\u001b[36m(launch_and_fit pid=29448)\u001b[0m Updated model\n",
      "\u001b[36m(launch_and_fit pid=29448)\u001b[0m \tTrain Epoch: 1 \tTrain_loss: 1.2880 | Train_acc: 55.7750 % | Validation_loss: 1.3637 | Validation_acc: 49.4048 %\n"
     ]
    },
    {
     "name": "stderr",
     "output_type": "stream",
     "text": [
      "  0%|\u001b[34m          \u001b[0m| 0/10 [00:00<?, ?it/s]\n",
      " 10%|\u001b[34m█         \u001b[0m| 1/10 [00:00<00:00,  9.85it/s]\n"
     ]
    },
    {
     "name": "stdout",
     "output_type": "stream",
     "text": [
      "\u001b[36m(launch_and_fit pid=29448)\u001b[0m \tTrain Epoch: 2 \tTrain_loss: 1.0827 | Train_acc: 59.9250 % | Validation_loss: 1.3334 | Validation_acc: 50.4464 %\n",
      "\u001b[36m(launch_and_fit pid=29448)\u001b[0m \tTrain Epoch: 3 \tTrain_loss: 1.0564 | Train_acc: 60.1000 % | Validation_loss: 1.2267 | Validation_acc: 53.5714 %\n"
     ]
    },
    {
     "name": "stderr",
     "output_type": "stream",
     "text": [
      " 30%|\u001b[34m███       \u001b[0m| 3/10 [00:00<00:00, 10.21it/s]\n"
     ]
    },
    {
     "name": "stdout",
     "output_type": "stream",
     "text": [
      "\u001b[36m(launch_and_fit pid=29448)\u001b[0m \tTrain Epoch: 4 \tTrain_loss: 1.1061 | Train_acc: 58.8000 % | Validation_loss: 1.3894 | Validation_acc: 51.4881 %\n",
      "\u001b[36m(launch_and_fit pid=29448)\u001b[0m \tTrain Epoch: 5 \tTrain_loss: 1.0409 | Train_acc: 62.9250 % | Validation_loss: 1.3562 | Validation_acc: 52.5298 %\n",
      "\u001b[36m(launch_and_fit pid=29448)\u001b[0m \tTrain Epoch: 6 \tTrain_loss: 1.0121 | Train_acc: 63.0750 % | Validation_loss: 1.2726 | Validation_acc: 53.5714 %\n"
     ]
    },
    {
     "name": "stderr",
     "output_type": "stream",
     "text": [
      " 50%|\u001b[34m█████     \u001b[0m| 5/10 [00:00<00:00, 10.85it/s]\n",
      " 70%|\u001b[34m███████   \u001b[0m| 7/10 [00:00<00:00, 10.84it/s]\n"
     ]
    },
    {
     "name": "stdout",
     "output_type": "stream",
     "text": [
      "\u001b[36m(launch_and_fit pid=29448)\u001b[0m \tTrain Epoch: 7 \tTrain_loss: 0.9050 | Train_acc: 66.9250 % | Validation_loss: 1.2615 | Validation_acc: 49.4048 %\n",
      "\u001b[36m(launch_and_fit pid=29448)\u001b[0m \tTrain Epoch: 8 \tTrain_loss: 0.9280 | Train_acc: 64.4500 % | Validation_loss: 1.4166 | Validation_acc: 52.5298 %\n",
      "\u001b[36m(launch_and_fit pid=29448)\u001b[0m \tTrain Epoch: 9 \tTrain_loss: 0.9154 | Train_acc: 66.7250 % | Validation_loss: 1.3243 | Validation_acc: 51.4881 %\n",
      "\u001b[36m(launch_and_fit pid=29448)\u001b[0m \tTrain Epoch: 10 \tTrain_loss: 0.8419 | Train_acc: 68.4750 % | Validation_loss: 1.3007 | Validation_acc: 55.6548 %\n",
      "\u001b[36m(launch_and_fit pid=29448)\u001b[0m save graph in  results/FL/\n"
     ]
    },
    {
     "name": "stderr",
     "output_type": "stream",
     "text": [
      " 90%|\u001b[34m█████████ \u001b[0m| 9/10 [00:00<00:00, 11.13it/s]\n",
      "100%|\u001b[34m██████████\u001b[0m| 10/10 [00:00<00:00, 10.90it/s]\n"
     ]
    },
    {
     "name": "stdout",
     "output_type": "stream",
     "text": [
      "\u001b[36m(launch_and_fit pid=29448)\u001b[0m Run WITHOUT homomorphic encryption\n",
      "\u001b[36m(launch_and_fit pid=29448)\u001b[0m  To get the checkpoint\n",
      "\u001b[36m(launch_and_fit pid=29448)\u001b[0m [Client 0, round 16] fit, config: {'learning_rate': 0.003, 'batch_size': '16', 'server_round': 16, 'local_epochs': 10}\n",
      "\u001b[36m(launch_and_fit pid=29448)\u001b[0m Updated model\n",
      "\u001b[36m(launch_and_fit pid=29448)\u001b[0m \tTrain Epoch: 1 \tTrain_loss: 1.1441 | Train_acc: 57.9750 % | Validation_loss: 1.8373 | Validation_acc: 52.5298 %\n"
     ]
    },
    {
     "name": "stderr",
     "output_type": "stream",
     "text": [
      "  0%|\u001b[34m          \u001b[0m| 0/10 [00:00<?, ?it/s]\n"
     ]
    },
    {
     "name": "stdout",
     "output_type": "stream",
     "text": [
      "\u001b[36m(launch_and_fit pid=29448)\u001b[0m \tTrain Epoch: 2 \tTrain_loss: 1.1096 | Train_acc: 59.9250 % | Validation_loss: 2.1696 | Validation_acc: 36.6071 %\n",
      "\u001b[36m(launch_and_fit pid=29448)\u001b[0m \tTrain Epoch: 3 \tTrain_loss: 1.1232 | Train_acc: 58.9500 % | Validation_loss: 1.8716 | Validation_acc: 52.5298 %\n",
      "\u001b[36m(launch_and_fit pid=29448)\u001b[0m \tTrain Epoch: 4 \tTrain_loss: 1.0352 | Train_acc: 62.5750 % | Validation_loss: 1.8913 | Validation_acc: 52.5298 %\n"
     ]
    },
    {
     "name": "stderr",
     "output_type": "stream",
     "text": [
      " 20%|\u001b[34m██        \u001b[0m| 2/10 [00:00<00:00, 11.48it/s]\n",
      " 40%|\u001b[34m████      \u001b[0m| 4/10 [00:00<00:00, 11.44it/s]\n"
     ]
    },
    {
     "name": "stdout",
     "output_type": "stream",
     "text": [
      "\u001b[36m(launch_and_fit pid=29448)\u001b[0m \tTrain Epoch: 5 \tTrain_loss: 0.9714 | Train_acc: 65.9750 % | Validation_loss: 1.8226 | Validation_acc: 58.0357 %\n",
      "\u001b[36m(launch_and_fit pid=29448)\u001b[0m \tTrain Epoch: 6 \tTrain_loss: 0.8658 | Train_acc: 69.0000 % | Validation_loss: 2.2073 | Validation_acc: 47.0238 %\n"
     ]
    },
    {
     "name": "stderr",
     "output_type": "stream",
     "text": [
      " 60%|\u001b[34m██████    \u001b[0m| 6/10 [00:00<00:00, 11.44it/s]\n"
     ]
    },
    {
     "name": "stdout",
     "output_type": "stream",
     "text": [
      "\u001b[36m(launch_and_fit pid=29448)\u001b[0m \tTrain Epoch: 7 \tTrain_loss: 0.9108 | Train_acc: 65.8500 % | Validation_loss: 1.9015 | Validation_acc: 45.9821 %\n",
      "\u001b[36m(launch_and_fit pid=29448)\u001b[0m \tTrain Epoch: 8 \tTrain_loss: 0.8937 | Train_acc: 68.5500 % | Validation_loss: 1.9915 | Validation_acc: 52.5298 %\n"
     ]
    },
    {
     "name": "stderr",
     "output_type": "stream",
     "text": [
      " 80%|\u001b[34m████████  \u001b[0m| 8/10 [00:00<00:00, 11.26it/s]\n"
     ]
    },
    {
     "name": "stdout",
     "output_type": "stream",
     "text": [
      "\u001b[36m(launch_and_fit pid=29448)\u001b[0m \tTrain Epoch: 9 \tTrain_loss: 0.9239 | Train_acc: 65.9500 % | Validation_loss: 2.4078 | Validation_acc: 43.8988 %\n",
      "\u001b[36m(launch_and_fit pid=29448)\u001b[0m \tTrain Epoch: 10 \tTrain_loss: 0.8193 | Train_acc: 69.2000 % | Validation_loss: 2.2580 | Validation_acc: 52.2321 %\n",
      "\u001b[36m(launch_and_fit pid=29448)\u001b[0m save graph in  results/FL/\n"
     ]
    },
    {
     "name": "stderr",
     "output_type": "stream",
     "text": [
      "100%|\u001b[34m██████████\u001b[0m| 10/10 [00:00<00:00, 11.39it/s]\n"
     ]
    },
    {
     "name": "stdout",
     "output_type": "stream",
     "text": [
      "\u001b[36m(launch_and_fit pid=29448)\u001b[0m Run WITHOUT homomorphic encryption\n",
      "\u001b[36m(launch_and_fit pid=29448)\u001b[0m  To get the checkpoint\n",
      "\u001b[36m(launch_and_fit pid=29448)\u001b[0m [Client 1, round 16] fit, config: {'learning_rate': 0.003, 'batch_size': '16', 'server_round': 16, 'local_epochs': 10}\n",
      "\u001b[36m(launch_and_fit pid=29448)\u001b[0m Updated model\n",
      "\u001b[36m(launch_and_fit pid=29448)\u001b[0m \tTrain Epoch: 1 \tTrain_loss: 1.1840 | Train_acc: 55.9750 % | Validation_loss: 1.3703 | Validation_acc: 56.3988 %\n"
     ]
    },
    {
     "name": "stderr",
     "output_type": "stream",
     "text": [
      "  0%|\u001b[34m          \u001b[0m| 0/10 [00:00<?, ?it/s]\n"
     ]
    },
    {
     "name": "stdout",
     "output_type": "stream",
     "text": [
      "\u001b[36m(launch_and_fit pid=29448)\u001b[0m \tTrain Epoch: 2 \tTrain_loss: 1.1188 | Train_acc: 58.8000 % | Validation_loss: 1.3796 | Validation_acc: 52.6786 %\n",
      "\u001b[36m(launch_and_fit pid=29448)\u001b[0m \tTrain Epoch: 3 \tTrain_loss: 1.0245 | Train_acc: 61.2000 % | Validation_loss: 1.2817 | Validation_acc: 55.3571 %\n"
     ]
    },
    {
     "name": "stderr",
     "output_type": "stream",
     "text": [
      " 20%|\u001b[34m██        \u001b[0m| 2/10 [00:00<00:00, 11.48it/s]\n"
     ]
    },
    {
     "name": "stdout",
     "output_type": "stream",
     "text": [
      "\u001b[36m(launch_and_fit pid=29448)\u001b[0m \tTrain Epoch: 4 \tTrain_loss: 1.0738 | Train_acc: 61.6750 % | Validation_loss: 1.5111 | Validation_acc: 50.8929 %\n",
      "\u001b[36m(launch_and_fit pid=29448)\u001b[0m \tTrain Epoch: 5 \tTrain_loss: 0.9952 | Train_acc: 64.6000 % | Validation_loss: 1.3660 | Validation_acc: 49.8512 %\n"
     ]
    },
    {
     "name": "stderr",
     "output_type": "stream",
     "text": [
      " 40%|\u001b[34m████      \u001b[0m| 4/10 [00:00<00:00, 11.39it/s]\n"
     ]
    },
    {
     "name": "stdout",
     "output_type": "stream",
     "text": [
      "\u001b[36m(launch_and_fit pid=29448)\u001b[0m \tTrain Epoch: 6 \tTrain_loss: 0.8871 | Train_acc: 68.2500 % | Validation_loss: 1.4107 | Validation_acc: 52.2321 %\n",
      "\u001b[36m(launch_and_fit pid=29448)\u001b[0m \tTrain Epoch: 7 \tTrain_loss: 0.8708 | Train_acc: 68.0750 % | Validation_loss: 1.3631 | Validation_acc: 52.9762 %\n",
      "\u001b[36m(launch_and_fit pid=29448)\u001b[0m \tTrain Epoch: 8 \tTrain_loss: 1.0278 | Train_acc: 62.1000 % | Validation_loss: 1.4892 | Validation_acc: 47.7679 %\n"
     ]
    },
    {
     "name": "stderr",
     "output_type": "stream",
     "text": [
      " 60%|\u001b[34m██████    \u001b[0m| 6/10 [00:00<00:00, 11.52it/s]\n",
      " 80%|\u001b[34m████████  \u001b[0m| 8/10 [00:00<00:00, 11.26it/s]\n"
     ]
    },
    {
     "name": "stdout",
     "output_type": "stream",
     "text": [
      "\u001b[36m(launch_and_fit pid=29448)\u001b[0m \tTrain Epoch: 9 \tTrain_loss: 0.8869 | Train_acc: 67.0750 % | Validation_loss: 1.4506 | Validation_acc: 51.1905 %\n",
      "\u001b[36m(launch_and_fit pid=29448)\u001b[0m \tTrain Epoch: 10 \tTrain_loss: 0.8405 | Train_acc: 67.8500 % | Validation_loss: 1.4483 | Validation_acc: 54.3155 %\n",
      "\u001b[36m(launch_and_fit pid=29448)\u001b[0m save graph in  results/FL/\n"
     ]
    },
    {
     "name": "stderr",
     "output_type": "stream",
     "text": [
      "100%|\u001b[34m██████████\u001b[0m| 10/10 [00:00<00:00, 11.44it/s]\n"
     ]
    },
    {
     "name": "stdout",
     "output_type": "stream",
     "text": [
      "\u001b[36m(launch_and_fit pid=29448)\u001b[0m Run WITHOUT homomorphic encryption\n",
      "\u001b[36m(launch_and_fit pid=29448)\u001b[0m  To get the checkpoint\n",
      "\u001b[36m(launch_and_fit pid=29448)\u001b[0m [Client 3, round 16] fit, config: {'learning_rate': 0.003, 'batch_size': '16', 'server_round': 16, 'local_epochs': 10}\n",
      "\u001b[36m(launch_and_fit pid=29448)\u001b[0m Updated model\n",
      "\u001b[36m(launch_and_fit pid=29448)\u001b[0m \tTrain Epoch: 1 \tTrain_loss: 1.2773 | Train_acc: 56.0750 % | Validation_loss: 1.2873 | Validation_acc: 50.1488 %\n",
      "\u001b[36m(launch_and_fit pid=29448)\u001b[0m \tTrain Epoch: 2 \tTrain_loss: 0.9936 | Train_acc: 64.8000 % | Validation_loss: 1.5153 | Validation_acc: 47.0238 %\n"
     ]
    },
    {
     "name": "stderr",
     "output_type": "stream",
     "text": [
      "  0%|\u001b[34m          \u001b[0m| 0/10 [00:00<?, ?it/s]\n",
      " 20%|\u001b[34m██        \u001b[0m| 2/10 [00:00<00:00, 10.69it/s]\n"
     ]
    },
    {
     "name": "stdout",
     "output_type": "stream",
     "text": [
      "\u001b[36m(launch_and_fit pid=29448)\u001b[0m \tTrain Epoch: 3 \tTrain_loss: 0.9390 | Train_acc: 65.1500 % | Validation_loss: 1.3153 | Validation_acc: 48.8095 %\n",
      "\u001b[36m(launch_and_fit pid=29448)\u001b[0m \tTrain Epoch: 4 \tTrain_loss: 0.8967 | Train_acc: 67.3750 % | Validation_loss: 1.6769 | Validation_acc: 41.2202 %\n"
     ]
    },
    {
     "name": "stderr",
     "output_type": "stream",
     "text": [
      " 40%|\u001b[34m████      \u001b[0m| 4/10 [00:00<00:00, 11.23it/s]\n"
     ]
    },
    {
     "name": "stdout",
     "output_type": "stream",
     "text": [
      "\u001b[36m(launch_and_fit pid=29448)\u001b[0m \tTrain Epoch: 5 \tTrain_loss: 0.8697 | Train_acc: 66.8250 % | Validation_loss: 1.5747 | Validation_acc: 46.4286 %\n",
      "\u001b[36m(launch_and_fit pid=29448)\u001b[0m \tTrain Epoch: 6 \tTrain_loss: 0.8202 | Train_acc: 70.4500 % | Validation_loss: 2.0144 | Validation_acc: 42.5595 %\n"
     ]
    },
    {
     "name": "stderr",
     "output_type": "stream",
     "text": [
      " 60%|\u001b[34m██████    \u001b[0m| 6/10 [00:00<00:00, 11.43it/s]\n",
      " 80%|\u001b[34m████████  \u001b[0m| 8/10 [00:00<00:00, 11.51it/s]\n"
     ]
    },
    {
     "name": "stdout",
     "output_type": "stream",
     "text": [
      "\u001b[36m(launch_and_fit pid=29448)\u001b[0m \tTrain Epoch: 7 \tTrain_loss: 0.8940 | Train_acc: 69.3500 % | Validation_loss: 1.5096 | Validation_acc: 44.9405 %\n",
      "\u001b[36m(launch_and_fit pid=29448)\u001b[0m \tTrain Epoch: 8 \tTrain_loss: 0.8623 | Train_acc: 67.9000 % | Validation_loss: 1.6080 | Validation_acc: 44.6429 %\n",
      "\u001b[36m(launch_and_fit pid=29448)\u001b[0m \tTrain Epoch: 9 \tTrain_loss: 0.8916 | Train_acc: 67.9500 % | Validation_loss: 2.4489 | Validation_acc: 44.6429 %\n"
     ]
    },
    {
     "name": "stderr",
     "output_type": "stream",
     "text": [
      "100%|\u001b[34m██████████\u001b[0m| 10/10 [00:00<00:00, 11.37it/s]\n",
      "DEBUG flwr 2024-08-30 01:21:24,895 | server.py:236 | fit_round 16 received 4 results and 0 failures\n"
     ]
    },
    {
     "name": "stdout",
     "output_type": "stream",
     "text": [
      "\u001b[36m(launch_and_fit pid=29448)\u001b[0m \tTrain Epoch: 10 \tTrain_loss: 1.2011 | Train_acc: 55.0750 % | Validation_loss: 1.8078 | Validation_acc: 40.4762 %\n",
      "\u001b[36m(launch_and_fit pid=29448)\u001b[0m save graph in  results/FL/\n",
      "Saving round 16 aggregated_parameters...\n",
      "Updated model\n"
     ]
    },
    {
     "name": "stderr",
     "output_type": "stream",
     "text": [
      "INFO flwr 2024-08-30 01:21:24,967 | server.py:125 | fit progress: (16, 1.5478107105601917, {'accuracy': 52.34848484848486}, 294.2392988530919)\n",
      "DEBUG flwr 2024-08-30 01:21:24,967 | server.py:173 | evaluate_round 16: strategy sampled 4 clients (out of 4)\n"
     ]
    },
    {
     "name": "stdout",
     "output_type": "stream",
     "text": [
      "Server-side evaluation loss 1.5478107105601917 / accuracy 52.34848484848486\n",
      "\u001b[36m(launch_and_evaluate pid=29448)\u001b[0m Run WITHOUT homomorphic encryption\n",
      "\u001b[36m(launch_and_evaluate pid=29448)\u001b[0m  To get the checkpoint\n",
      "\u001b[36m(launch_and_evaluate pid=29448)\u001b[0m [Client 2] evaluate, config: {}\n",
      "\u001b[36m(launch_and_evaluate pid=29448)\u001b[0m Updated model\n",
      "\u001b[36m(launch_and_evaluate pid=29448)\u001b[0m Run WITHOUT homomorphic encryption\n",
      "\u001b[36m(launch_and_evaluate pid=29448)\u001b[0m  To get the checkpoint\n",
      "\u001b[36m(launch_and_evaluate pid=29448)\u001b[0m [Client 1] evaluate, config: {}\n",
      "\u001b[36m(launch_and_evaluate pid=29448)\u001b[0m Updated model\n",
      "\u001b[36m(launch_and_evaluate pid=29448)\u001b[0m Run WITHOUT homomorphic encryption\n",
      "\u001b[36m(launch_and_evaluate pid=29448)\u001b[0m  To get the checkpoint\n",
      "\u001b[36m(launch_and_evaluate pid=29448)\u001b[0m [Client 3] evaluate, config: {}\n",
      "\u001b[36m(launch_and_evaluate pid=29448)\u001b[0m Updated model\n",
      "\u001b[36m(launch_and_evaluate pid=29448)\u001b[0m Run WITHOUT homomorphic encryption\n",
      "\u001b[36m(launch_and_evaluate pid=29448)\u001b[0m  To get the checkpoint\n",
      "\u001b[36m(launch_and_evaluate pid=29448)\u001b[0m [Client 0] evaluate, config: {}\n",
      "\u001b[36m(launch_and_evaluate pid=29448)\u001b[0m Updated model\n"
     ]
    },
    {
     "name": "stderr",
     "output_type": "stream",
     "text": [
      "DEBUG flwr 2024-08-30 01:21:27,218 | server.py:187 | evaluate_round 16 received 4 results and 0 failures\n",
      "DEBUG flwr 2024-08-30 01:21:27,219 | server.py:222 | fit_round 17: strategy sampled 4 clients (out of 4)\n"
     ]
    },
    {
     "name": "stdout",
     "output_type": "stream",
     "text": [
      "\u001b[36m(launch_and_fit pid=29448)\u001b[0m Run WITHOUT homomorphic encryption\n",
      "\u001b[36m(launch_and_fit pid=29448)\u001b[0m  To get the checkpoint\n",
      "\u001b[36m(launch_and_fit pid=29448)\u001b[0m [Client 1, round 17] fit, config: {'learning_rate': 0.003, 'batch_size': '16', 'server_round': 17, 'local_epochs': 10}\n",
      "\u001b[36m(launch_and_fit pid=29448)\u001b[0m Updated model\n",
      "\u001b[36m(launch_and_fit pid=29448)\u001b[0m \tTrain Epoch: 1 \tTrain_loss: 1.2448 | Train_acc: 56.5750 % | Validation_loss: 1.5598 | Validation_acc: 48.8095 %\n",
      "\u001b[36m(launch_and_fit pid=29448)\u001b[0m \tTrain Epoch: 2 \tTrain_loss: 1.0622 | Train_acc: 60.2000 % | Validation_loss: 1.5344 | Validation_acc: 54.3155 %\n"
     ]
    },
    {
     "name": "stderr",
     "output_type": "stream",
     "text": [
      "  0%|\u001b[34m          \u001b[0m| 0/10 [00:00<?, ?it/s]\n",
      " 10%|\u001b[34m█         \u001b[0m| 1/10 [00:00<00:00,  9.95it/s]\n"
     ]
    },
    {
     "name": "stdout",
     "output_type": "stream",
     "text": [
      "\u001b[36m(launch_and_fit pid=29448)\u001b[0m \tTrain Epoch: 3 \tTrain_loss: 0.9239 | Train_acc: 65.1000 % | Validation_loss: 1.3094 | Validation_acc: 53.2738 %\n",
      "\u001b[36m(launch_and_fit pid=29448)\u001b[0m \tTrain Epoch: 4 \tTrain_loss: 0.8801 | Train_acc: 67.6750 % | Validation_loss: 1.4241 | Validation_acc: 54.3155 %\n"
     ]
    },
    {
     "name": "stderr",
     "output_type": "stream",
     "text": [
      " 30%|\u001b[34m███       \u001b[0m| 3/10 [00:00<00:00, 10.75it/s]\n"
     ]
    },
    {
     "name": "stdout",
     "output_type": "stream",
     "text": [
      "\u001b[36m(launch_and_fit pid=29448)\u001b[0m \tTrain Epoch: 5 \tTrain_loss: 0.9163 | Train_acc: 67.0750 % | Validation_loss: 1.3115 | Validation_acc: 59.8214 %\n",
      "\u001b[36m(launch_and_fit pid=29448)\u001b[0m \tTrain Epoch: 6 \tTrain_loss: 0.9392 | Train_acc: 65.6000 % | Validation_loss: 1.4322 | Validation_acc: 50.1488 %\n"
     ]
    },
    {
     "name": "stderr",
     "output_type": "stream",
     "text": [
      " 50%|\u001b[34m█████     \u001b[0m| 5/10 [00:00<00:00, 10.84it/s]\n"
     ]
    },
    {
     "name": "stdout",
     "output_type": "stream",
     "text": [
      "\u001b[36m(launch_and_fit pid=29448)\u001b[0m \tTrain Epoch: 7 \tTrain_loss: 0.8633 | Train_acc: 68.3250 % | Validation_loss: 1.4149 | Validation_acc: 55.3571 %\n",
      "\u001b[36m(launch_and_fit pid=29448)\u001b[0m \tTrain Epoch: 8 \tTrain_loss: 0.9278 | Train_acc: 66.0500 % | Validation_loss: 1.6078 | Validation_acc: 50.1488 %\n",
      "\u001b[36m(launch_and_fit pid=29448)\u001b[0m \tTrain Epoch: 9 \tTrain_loss: 1.0280 | Train_acc: 62.8500 % | Validation_loss: 1.5389 | Validation_acc: 46.7262 %\n"
     ]
    },
    {
     "name": "stderr",
     "output_type": "stream",
     "text": [
      " 70%|\u001b[34m███████   \u001b[0m| 7/10 [00:00<00:00, 11.12it/s]\n",
      " 90%|\u001b[34m█████████ \u001b[0m| 9/10 [00:00<00:00, 11.17it/s]\n"
     ]
    },
    {
     "name": "stdout",
     "output_type": "stream",
     "text": [
      "\u001b[36m(launch_and_fit pid=29448)\u001b[0m \tTrain Epoch: 10 \tTrain_loss: 0.7820 | Train_acc: 70.5750 % | Validation_loss: 1.4913 | Validation_acc: 53.5714 %\n",
      "\u001b[36m(launch_and_fit pid=29448)\u001b[0m save graph in  results/FL/\n"
     ]
    },
    {
     "name": "stderr",
     "output_type": "stream",
     "text": [
      "100%|\u001b[34m██████████\u001b[0m| 10/10 [00:00<00:00, 11.06it/s]\n"
     ]
    },
    {
     "name": "stdout",
     "output_type": "stream",
     "text": [
      "\u001b[36m(launch_and_fit pid=29448)\u001b[0m Run WITHOUT homomorphic encryption\n",
      "\u001b[36m(launch_and_fit pid=29448)\u001b[0m  To get the checkpoint\n",
      "\u001b[36m(launch_and_fit pid=29448)\u001b[0m [Client 3, round 17] fit, config: {'learning_rate': 0.003, 'batch_size': '16', 'server_round': 17, 'local_epochs': 10}\n",
      "\u001b[36m(launch_and_fit pid=29448)\u001b[0m Updated model\n",
      "\u001b[36m(launch_and_fit pid=29448)\u001b[0m \tTrain Epoch: 1 \tTrain_loss: 1.2705 | Train_acc: 55.8750 % | Validation_loss: 1.8218 | Validation_acc: 49.1071 %\n"
     ]
    },
    {
     "name": "stderr",
     "output_type": "stream",
     "text": [
      "  0%|\u001b[34m          \u001b[0m| 0/10 [00:00<?, ?it/s]\n"
     ]
    },
    {
     "name": "stdout",
     "output_type": "stream",
     "text": [
      "\u001b[36m(launch_and_fit pid=29448)\u001b[0m \tTrain Epoch: 2 \tTrain_loss: 1.0623 | Train_acc: 60.9500 % | Validation_loss: 1.5275 | Validation_acc: 46.7262 %\n",
      "\u001b[36m(launch_and_fit pid=29448)\u001b[0m \tTrain Epoch: 3 \tTrain_loss: 0.9674 | Train_acc: 64.7250 % | Validation_loss: 1.3481 | Validation_acc: 50.5952 %\n"
     ]
    },
    {
     "name": "stderr",
     "output_type": "stream",
     "text": [
      " 20%|\u001b[34m██        \u001b[0m| 2/10 [00:00<00:00, 11.48it/s]\n"
     ]
    },
    {
     "name": "stdout",
     "output_type": "stream",
     "text": [
      "\u001b[36m(launch_and_fit pid=29448)\u001b[0m \tTrain Epoch: 4 \tTrain_loss: 0.8708 | Train_acc: 67.2750 % | Validation_loss: 1.3811 | Validation_acc: 48.8095 %\n",
      "\u001b[36m(launch_and_fit pid=29448)\u001b[0m \tTrain Epoch: 5 \tTrain_loss: 0.8023 | Train_acc: 71.5000 % | Validation_loss: 1.4368 | Validation_acc: 49.8512 %\n",
      "\u001b[36m(launch_and_fit pid=29448)\u001b[0m \tTrain Epoch: 6 \tTrain_loss: 0.7946 | Train_acc: 71.3500 % | Validation_loss: 1.5110 | Validation_acc: 49.8512 %\n"
     ]
    },
    {
     "name": "stderr",
     "output_type": "stream",
     "text": [
      " 40%|\u001b[34m████      \u001b[0m| 4/10 [00:00<00:00, 11.24it/s]\n",
      " 60%|\u001b[34m██████    \u001b[0m| 6/10 [00:00<00:00, 11.33it/s]\n"
     ]
    },
    {
     "name": "stdout",
     "output_type": "stream",
     "text": [
      "\u001b[36m(launch_and_fit pid=29448)\u001b[0m \tTrain Epoch: 7 \tTrain_loss: 0.8182 | Train_acc: 70.0500 % | Validation_loss: 1.4107 | Validation_acc: 50.8929 %\n",
      "\u001b[36m(launch_and_fit pid=29448)\u001b[0m \tTrain Epoch: 8 \tTrain_loss: 0.8406 | Train_acc: 68.4000 % | Validation_loss: 1.7704 | Validation_acc: 44.3452 %\n"
     ]
    },
    {
     "name": "stderr",
     "output_type": "stream",
     "text": [
      " 80%|\u001b[34m████████  \u001b[0m| 8/10 [00:00<00:00, 11.34it/s]\n"
     ]
    },
    {
     "name": "stdout",
     "output_type": "stream",
     "text": [
      "\u001b[36m(launch_and_fit pid=29448)\u001b[0m \tTrain Epoch: 9 \tTrain_loss: 0.7728 | Train_acc: 71.7250 % | Validation_loss: 1.7356 | Validation_acc: 51.9345 %\n",
      "\u001b[36m(launch_and_fit pid=29448)\u001b[0m \tTrain Epoch: 10 \tTrain_loss: 0.7359 | Train_acc: 73.4250 % | Validation_loss: 1.6682 | Validation_acc: 47.4702 %\n",
      "\u001b[36m(launch_and_fit pid=29448)\u001b[0m save graph in  results/FL/\n"
     ]
    },
    {
     "name": "stderr",
     "output_type": "stream",
     "text": [
      "100%|\u001b[34m██████████\u001b[0m| 10/10 [00:00<00:00, 11.39it/s]\n"
     ]
    },
    {
     "name": "stdout",
     "output_type": "stream",
     "text": [
      "\u001b[36m(launch_and_fit pid=29448)\u001b[0m Run WITHOUT homomorphic encryption\n",
      "\u001b[36m(launch_and_fit pid=29448)\u001b[0m  To get the checkpoint\n",
      "\u001b[36m(launch_and_fit pid=29448)\u001b[0m [Client 0, round 17] fit, config: {'learning_rate': 0.003, 'batch_size': '16', 'server_round': 17, 'local_epochs': 10}\n",
      "\u001b[36m(launch_and_fit pid=29448)\u001b[0m Updated model\n",
      "\u001b[36m(launch_and_fit pid=29448)\u001b[0m \tTrain Epoch: 1 \tTrain_loss: 1.0629 | Train_acc: 62.1000 % | Validation_loss: 1.7630 | Validation_acc: 44.9405 %\n"
     ]
    },
    {
     "name": "stderr",
     "output_type": "stream",
     "text": [
      "  0%|\u001b[34m          \u001b[0m| 0/10 [00:00<?, ?it/s]\n"
     ]
    },
    {
     "name": "stdout",
     "output_type": "stream",
     "text": [
      "\u001b[36m(launch_and_fit pid=29448)\u001b[0m \tTrain Epoch: 2 \tTrain_loss: 0.9911 | Train_acc: 65.0750 % | Validation_loss: 1.7307 | Validation_acc: 51.4881 %\n",
      "\u001b[36m(launch_and_fit pid=29448)\u001b[0m \tTrain Epoch: 3 \tTrain_loss: 0.9216 | Train_acc: 66.6250 % | Validation_loss: 2.0562 | Validation_acc: 47.3214 %\n"
     ]
    },
    {
     "name": "stderr",
     "output_type": "stream",
     "text": [
      " 20%|\u001b[34m██        \u001b[0m| 2/10 [00:00<00:00, 11.69it/s]\n"
     ]
    },
    {
     "name": "stdout",
     "output_type": "stream",
     "text": [
      "\u001b[36m(launch_and_fit pid=29448)\u001b[0m \tTrain Epoch: 4 \tTrain_loss: 0.8942 | Train_acc: 66.3250 % | Validation_loss: 1.7697 | Validation_acc: 52.5298 %\n",
      "\u001b[36m(launch_and_fit pid=29448)\u001b[0m \tTrain Epoch: 5 \tTrain_loss: 0.9002 | Train_acc: 66.8500 % | Validation_loss: 1.7950 | Validation_acc: 49.4048 %\n",
      "\u001b[36m(launch_and_fit pid=29448)\u001b[0m \tTrain Epoch: 6 \tTrain_loss: 0.9142 | Train_acc: 66.4750 % | Validation_loss: 1.8150 | Validation_acc: 49.4048 %\n"
     ]
    },
    {
     "name": "stderr",
     "output_type": "stream",
     "text": [
      " 40%|\u001b[34m████      \u001b[0m| 4/10 [00:00<00:00, 11.39it/s]\n",
      " 60%|\u001b[34m██████    \u001b[0m| 6/10 [00:00<00:00, 11.52it/s]\n"
     ]
    },
    {
     "name": "stdout",
     "output_type": "stream",
     "text": [
      "\u001b[36m(launch_and_fit pid=29448)\u001b[0m \tTrain Epoch: 7 \tTrain_loss: 0.8025 | Train_acc: 70.6000 % | Validation_loss: 1.9603 | Validation_acc: 49.1071 %\n",
      "\u001b[36m(launch_and_fit pid=29448)\u001b[0m \tTrain Epoch: 8 \tTrain_loss: 0.7836 | Train_acc: 71.4500 % | Validation_loss: 2.3327 | Validation_acc: 52.5298 %\n"
     ]
    },
    {
     "name": "stderr",
     "output_type": "stream",
     "text": [
      " 80%|\u001b[34m████████  \u001b[0m| 8/10 [00:00<00:00, 11.50it/s]\n"
     ]
    },
    {
     "name": "stdout",
     "output_type": "stream",
     "text": [
      "\u001b[36m(launch_and_fit pid=29448)\u001b[0m \tTrain Epoch: 9 \tTrain_loss: 0.7879 | Train_acc: 71.2250 % | Validation_loss: 2.0911 | Validation_acc: 49.4048 %\n",
      "\u001b[36m(launch_and_fit pid=29448)\u001b[0m \tTrain Epoch: 10 \tTrain_loss: 0.8126 | Train_acc: 70.3500 % | Validation_loss: 2.0917 | Validation_acc: 44.9405 %\n",
      "\u001b[36m(launch_and_fit pid=29448)\u001b[0m save graph in  results/FL/\n"
     ]
    },
    {
     "name": "stderr",
     "output_type": "stream",
     "text": [
      "100%|\u001b[34m██████████\u001b[0m| 10/10 [00:00<00:00, 11.57it/s]\n"
     ]
    },
    {
     "name": "stdout",
     "output_type": "stream",
     "text": [
      "\u001b[36m(launch_and_fit pid=29448)\u001b[0m Run WITHOUT homomorphic encryption\n",
      "\u001b[36m(launch_and_fit pid=29448)\u001b[0m  To get the checkpoint\n",
      "\u001b[36m(launch_and_fit pid=29448)\u001b[0m [Client 2, round 17] fit, config: {'learning_rate': 0.003, 'batch_size': '16', 'server_round': 17, 'local_epochs': 10}\n",
      "\u001b[36m(launch_and_fit pid=29448)\u001b[0m Updated model\n"
     ]
    },
    {
     "name": "stderr",
     "output_type": "stream",
     "text": [
      "  0%|\u001b[34m          \u001b[0m| 0/10 [00:00<?, ?it/s]\n"
     ]
    },
    {
     "name": "stdout",
     "output_type": "stream",
     "text": [
      "\u001b[36m(launch_and_fit pid=29448)\u001b[0m \tTrain Epoch: 1 \tTrain_loss: 1.2510 | Train_acc: 56.6500 % | Validation_loss: 1.3165 | Validation_acc: 54.6131 %\n",
      "\u001b[36m(launch_and_fit pid=29448)\u001b[0m \tTrain Epoch: 2 \tTrain_loss: 1.0743 | Train_acc: 60.3250 % | Validation_loss: 1.2280 | Validation_acc: 51.4881 %\n"
     ]
    },
    {
     "name": "stderr",
     "output_type": "stream",
     "text": [
      " 20%|\u001b[34m██        \u001b[0m| 2/10 [00:00<00:00, 11.11it/s]\n"
     ]
    },
    {
     "name": "stdout",
     "output_type": "stream",
     "text": [
      "\u001b[36m(launch_and_fit pid=29448)\u001b[0m \tTrain Epoch: 3 \tTrain_loss: 1.0537 | Train_acc: 61.8250 % | Validation_loss: 1.4091 | Validation_acc: 53.5714 %\n",
      "\u001b[36m(launch_and_fit pid=29448)\u001b[0m \tTrain Epoch: 4 \tTrain_loss: 0.9904 | Train_acc: 64.8000 % | Validation_loss: 1.3664 | Validation_acc: 51.4881 %\n"
     ]
    },
    {
     "name": "stderr",
     "output_type": "stream",
     "text": [
      " 40%|\u001b[34m████      \u001b[0m| 4/10 [00:00<00:00, 11.45it/s]\n"
     ]
    },
    {
     "name": "stdout",
     "output_type": "stream",
     "text": [
      "\u001b[36m(launch_and_fit pid=29448)\u001b[0m \tTrain Epoch: 5 \tTrain_loss: 0.9105 | Train_acc: 67.6250 % | Validation_loss: 1.2776 | Validation_acc: 52.5298 %\n",
      "\u001b[36m(launch_and_fit pid=29448)\u001b[0m \tTrain Epoch: 6 \tTrain_loss: 1.1292 | Train_acc: 61.6750 % | Validation_loss: 1.5141 | Validation_acc: 51.4881 %\n",
      "\u001b[36m(launch_and_fit pid=29448)\u001b[0m \tTrain Epoch: 7 \tTrain_loss: 0.9374 | Train_acc: 66.3750 % | Validation_loss: 1.3297 | Validation_acc: 50.4464 %\n"
     ]
    },
    {
     "name": "stderr",
     "output_type": "stream",
     "text": [
      " 60%|\u001b[34m██████    \u001b[0m| 6/10 [00:00<00:00, 11.48it/s]\n",
      " 80%|\u001b[34m████████  \u001b[0m| 8/10 [00:00<00:00, 11.86it/s]\n"
     ]
    },
    {
     "name": "stdout",
     "output_type": "stream",
     "text": [
      "\u001b[36m(launch_and_fit pid=29448)\u001b[0m \tTrain Epoch: 8 \tTrain_loss: 0.9041 | Train_acc: 67.2250 % | Validation_loss: 1.5215 | Validation_acc: 52.5298 %\n",
      "\u001b[36m(launch_and_fit pid=29448)\u001b[0m \tTrain Epoch: 9 \tTrain_loss: 0.8945 | Train_acc: 67.3500 % | Validation_loss: 1.3406 | Validation_acc: 53.5714 %\n"
     ]
    },
    {
     "name": "stderr",
     "output_type": "stream",
     "text": [
      "100%|\u001b[34m██████████\u001b[0m| 10/10 [00:00<00:00, 11.84it/s]\n",
      "DEBUG flwr 2024-08-30 01:21:32,284 | server.py:236 | fit_round 17 received 4 results and 0 failures\n",
      "INFO flwr 2024-08-30 01:21:32,354 | server.py:125 | fit progress: (17, 1.6045038028196854, {'accuracy': 56.477272727272734}, 301.62677017692477)\n",
      "DEBUG flwr 2024-08-30 01:21:32,355 | server.py:173 | evaluate_round 17: strategy sampled 4 clients (out of 4)\n"
     ]
    },
    {
     "name": "stdout",
     "output_type": "stream",
     "text": [
      "\u001b[36m(launch_and_fit pid=29448)\u001b[0m \tTrain Epoch: 10 \tTrain_loss: 0.8045 | Train_acc: 69.8500 % | Validation_loss: 1.4710 | Validation_acc: 53.5714 %\n",
      "\u001b[36m(launch_and_fit pid=29448)\u001b[0m save graph in  results/FL/\n",
      "Saving round 17 aggregated_parameters...\n",
      "Updated model\n",
      "Server-side evaluation loss 1.6045038028196854 / accuracy 56.477272727272734\n",
      "\u001b[36m(launch_and_evaluate pid=29448)\u001b[0m Run WITHOUT homomorphic encryption\n",
      "\u001b[36m(launch_and_evaluate pid=29448)\u001b[0m  To get the checkpoint\n",
      "\u001b[36m(launch_and_evaluate pid=29448)\u001b[0m [Client 1] evaluate, config: {}\n",
      "\u001b[36m(launch_and_evaluate pid=29448)\u001b[0m Updated model\n",
      "\u001b[36m(launch_and_evaluate pid=29448)\u001b[0m Run WITHOUT homomorphic encryption\n",
      "\u001b[36m(launch_and_evaluate pid=29448)\u001b[0m  To get the checkpoint\n",
      "\u001b[36m(launch_and_evaluate pid=29448)\u001b[0m [Client 2] evaluate, config: {}\n",
      "\u001b[36m(launch_and_evaluate pid=29448)\u001b[0m Updated model\n",
      "\u001b[36m(launch_and_evaluate pid=29448)\u001b[0m Run WITHOUT homomorphic encryption\n",
      "\u001b[36m(launch_and_evaluate pid=29448)\u001b[0m  To get the checkpoint\n",
      "\u001b[36m(launch_and_evaluate pid=29448)\u001b[0m [Client 3] evaluate, config: {}\n",
      "\u001b[36m(launch_and_evaluate pid=29448)\u001b[0m Updated model\n",
      "\u001b[36m(launch_and_evaluate pid=29448)\u001b[0m Run WITHOUT homomorphic encryption\n",
      "\u001b[36m(launch_and_evaluate pid=29448)\u001b[0m  To get the checkpoint\n",
      "\u001b[36m(launch_and_evaluate pid=29448)\u001b[0m [Client 0] evaluate, config: {}\n",
      "\u001b[36m(launch_and_evaluate pid=29448)\u001b[0m Updated model\n"
     ]
    },
    {
     "name": "stderr",
     "output_type": "stream",
     "text": [
      "DEBUG flwr 2024-08-30 01:21:34,572 | server.py:187 | evaluate_round 17 received 4 results and 0 failures\n",
      "DEBUG flwr 2024-08-30 01:21:34,573 | server.py:222 | fit_round 18: strategy sampled 4 clients (out of 4)\n"
     ]
    },
    {
     "name": "stdout",
     "output_type": "stream",
     "text": [
      "\u001b[36m(launch_and_fit pid=29448)\u001b[0m Run WITHOUT homomorphic encryption\n",
      "\u001b[36m(launch_and_fit pid=29448)\u001b[0m  To get the checkpoint\n",
      "\u001b[36m(launch_and_fit pid=29448)\u001b[0m [Client 2, round 18] fit, config: {'learning_rate': 0.003, 'batch_size': '16', 'server_round': 18, 'local_epochs': 10}\n",
      "\u001b[36m(launch_and_fit pid=29448)\u001b[0m Updated model\n",
      "\u001b[36m(launch_and_fit pid=29448)\u001b[0m \tTrain Epoch: 1 \tTrain_loss: 1.2173 | Train_acc: 59.8500 % | Validation_loss: 1.3983 | Validation_acc: 55.6548 %\n",
      "\u001b[36m(launch_and_fit pid=29448)\u001b[0m \tTrain Epoch: 2 \tTrain_loss: 0.9727 | Train_acc: 65.3250 % | Validation_loss: 1.2454 | Validation_acc: 50.4464 %\n"
     ]
    },
    {
     "name": "stderr",
     "output_type": "stream",
     "text": [
      "  0%|\u001b[34m          \u001b[0m| 0/10 [00:00<?, ?it/s]\n",
      " 10%|\u001b[34m█         \u001b[0m| 1/10 [00:00<00:00,  9.89it/s]\n"
     ]
    },
    {
     "name": "stdout",
     "output_type": "stream",
     "text": [
      "\u001b[36m(launch_and_fit pid=29448)\u001b[0m \tTrain Epoch: 3 \tTrain_loss: 0.9300 | Train_acc: 66.8000 % | Validation_loss: 1.3711 | Validation_acc: 55.6548 %\n",
      "\u001b[36m(launch_and_fit pid=29448)\u001b[0m \tTrain Epoch: 4 \tTrain_loss: 0.8863 | Train_acc: 69.3000 % | Validation_loss: 1.4334 | Validation_acc: 55.3571 %\n"
     ]
    },
    {
     "name": "stderr",
     "output_type": "stream",
     "text": [
      " 30%|\u001b[34m███       \u001b[0m| 3/10 [00:00<00:00, 10.09it/s]\n"
     ]
    },
    {
     "name": "stdout",
     "output_type": "stream",
     "text": [
      "\u001b[36m(launch_and_fit pid=29448)\u001b[0m \tTrain Epoch: 5 \tTrain_loss: 0.8597 | Train_acc: 68.2250 % | Validation_loss: 1.2834 | Validation_acc: 53.5714 %\n",
      "\u001b[36m(launch_and_fit pid=29448)\u001b[0m \tTrain Epoch: 6 \tTrain_loss: 0.8779 | Train_acc: 67.6750 % | Validation_loss: 1.3837 | Validation_acc: 51.4881 %\n"
     ]
    },
    {
     "name": "stderr",
     "output_type": "stream",
     "text": [
      " 50%|\u001b[34m█████     \u001b[0m| 5/10 [00:00<00:00, 10.87it/s]\n"
     ]
    },
    {
     "name": "stdout",
     "output_type": "stream",
     "text": [
      "\u001b[36m(launch_and_fit pid=29448)\u001b[0m \tTrain Epoch: 7 \tTrain_loss: 0.9551 | Train_acc: 64.4500 % | Validation_loss: 1.2551 | Validation_acc: 60.8631 %\n",
      "\u001b[36m(launch_and_fit pid=29448)\u001b[0m \tTrain Epoch: 8 \tTrain_loss: 0.8167 | Train_acc: 70.7000 % | Validation_loss: 1.4682 | Validation_acc: 57.7381 %\n"
     ]
    },
    {
     "name": "stderr",
     "output_type": "stream",
     "text": [
      " 70%|\u001b[34m███████   \u001b[0m| 7/10 [00:00<00:00, 11.32it/s]\n"
     ]
    },
    {
     "name": "stdout",
     "output_type": "stream",
     "text": [
      "\u001b[36m(launch_and_fit pid=29448)\u001b[0m \tTrain Epoch: 9 \tTrain_loss: 0.7171 | Train_acc: 74.0000 % | Validation_loss: 1.3768 | Validation_acc: 54.6131 %\n",
      "\u001b[36m(launch_and_fit pid=29448)\u001b[0m \tTrain Epoch: 10 \tTrain_loss: 0.6808 | Train_acc: 75.2000 % | Validation_loss: 1.3773 | Validation_acc: 58.7798 %\n",
      "\u001b[36m(launch_and_fit pid=29448)\u001b[0m save graph in  results/FL/\n"
     ]
    },
    {
     "name": "stderr",
     "output_type": "stream",
     "text": [
      "100%|\u001b[34m██████████\u001b[0m| 10/10 [00:00<00:00, 11.14it/s]\n"
     ]
    },
    {
     "name": "stdout",
     "output_type": "stream",
     "text": [
      "\u001b[36m(launch_and_fit pid=29448)\u001b[0m Run WITHOUT homomorphic encryption\n",
      "\u001b[36m(launch_and_fit pid=29448)\u001b[0m  To get the checkpoint\n",
      "\u001b[36m(launch_and_fit pid=29448)\u001b[0m [Client 0, round 18] fit, config: {'learning_rate': 0.003, 'batch_size': '16', 'server_round': 18, 'local_epochs': 10}\n",
      "\u001b[36m(launch_and_fit pid=29448)\u001b[0m Updated model\n",
      "\u001b[36m(launch_and_fit pid=29448)\u001b[0m \tTrain Epoch: 1 \tTrain_loss: 1.0813 | Train_acc: 60.2750 % | Validation_loss: 1.8926 | Validation_acc: 38.3929 %\n"
     ]
    },
    {
     "name": "stderr",
     "output_type": "stream",
     "text": [
      "  0%|\u001b[34m          \u001b[0m| 0/10 [00:00<?, ?it/s]\n"
     ]
    },
    {
     "name": "stdout",
     "output_type": "stream",
     "text": [
      "\u001b[36m(launch_and_fit pid=29448)\u001b[0m \tTrain Epoch: 2 \tTrain_loss: 0.9653 | Train_acc: 66.2250 % | Validation_loss: 1.8064 | Validation_acc: 55.9524 %\n",
      "\u001b[36m(launch_and_fit pid=29448)\u001b[0m \tTrain Epoch: 3 \tTrain_loss: 0.8677 | Train_acc: 69.3750 % | Validation_loss: 2.0059 | Validation_acc: 54.9107 %\n"
     ]
    },
    {
     "name": "stderr",
     "output_type": "stream",
     "text": [
      " 20%|\u001b[34m██        \u001b[0m| 2/10 [00:00<00:00, 11.58it/s]\n"
     ]
    },
    {
     "name": "stdout",
     "output_type": "stream",
     "text": [
      "\u001b[36m(launch_and_fit pid=29448)\u001b[0m \tTrain Epoch: 4 \tTrain_loss: 0.8516 | Train_acc: 68.5000 % | Validation_loss: 2.2332 | Validation_acc: 52.8274 %\n",
      "\u001b[36m(launch_and_fit pid=29448)\u001b[0m \tTrain Epoch: 5 \tTrain_loss: 0.8344 | Train_acc: 69.9750 % | Validation_loss: 2.2077 | Validation_acc: 56.9940 %\n",
      "\u001b[36m(launch_and_fit pid=29448)\u001b[0m \tTrain Epoch: 6 \tTrain_loss: 0.9156 | Train_acc: 66.8000 % | Validation_loss: 2.2619 | Validation_acc: 50.1488 %\n"
     ]
    },
    {
     "name": "stderr",
     "output_type": "stream",
     "text": [
      " 40%|\u001b[34m████      \u001b[0m| 4/10 [00:00<00:00, 11.71it/s]\n",
      " 60%|\u001b[34m██████    \u001b[0m| 6/10 [00:00<00:00, 11.53it/s]\n"
     ]
    },
    {
     "name": "stdout",
     "output_type": "stream",
     "text": [
      "\u001b[36m(launch_and_fit pid=29448)\u001b[0m \tTrain Epoch: 7 \tTrain_loss: 0.8828 | Train_acc: 65.9500 % | Validation_loss: 2.3486 | Validation_acc: 49.4048 %\n",
      "\u001b[36m(launch_and_fit pid=29448)\u001b[0m \tTrain Epoch: 8 \tTrain_loss: 0.7437 | Train_acc: 72.4250 % | Validation_loss: 2.2416 | Validation_acc: 51.4881 %\n"
     ]
    },
    {
     "name": "stderr",
     "output_type": "stream",
     "text": [
      " 80%|\u001b[34m████████  \u001b[0m| 8/10 [00:00<00:00, 11.58it/s]\n"
     ]
    },
    {
     "name": "stdout",
     "output_type": "stream",
     "text": [
      "\u001b[36m(launch_and_fit pid=29448)\u001b[0m \tTrain Epoch: 9 \tTrain_loss: 0.6933 | Train_acc: 74.9500 % | Validation_loss: 2.4895 | Validation_acc: 49.1071 %\n",
      "\u001b[36m(launch_and_fit pid=29448)\u001b[0m \tTrain Epoch: 10 \tTrain_loss: 0.7033 | Train_acc: 75.4750 % | Validation_loss: 2.4027 | Validation_acc: 56.3988 %\n",
      "\u001b[36m(launch_and_fit pid=29448)\u001b[0m save graph in  results/FL/\n"
     ]
    },
    {
     "name": "stderr",
     "output_type": "stream",
     "text": [
      "100%|\u001b[34m██████████\u001b[0m| 10/10 [00:00<00:00, 11.51it/s]\n"
     ]
    },
    {
     "name": "stdout",
     "output_type": "stream",
     "text": [
      "\u001b[36m(launch_and_fit pid=29448)\u001b[0m Run WITHOUT homomorphic encryption\n",
      "\u001b[36m(launch_and_fit pid=29448)\u001b[0m  To get the checkpoint\n",
      "\u001b[36m(launch_and_fit pid=29448)\u001b[0m [Client 3, round 18] fit, config: {'learning_rate': 0.003, 'batch_size': '16', 'server_round': 18, 'local_epochs': 10}\n",
      "\u001b[36m(launch_and_fit pid=29448)\u001b[0m Updated model\n"
     ]
    },
    {
     "name": "stderr",
     "output_type": "stream",
     "text": [
      "  0%|\u001b[34m          \u001b[0m| 0/10 [00:00<?, ?it/s]\n"
     ]
    },
    {
     "name": "stdout",
     "output_type": "stream",
     "text": [
      "\u001b[36m(launch_and_fit pid=29448)\u001b[0m \tTrain Epoch: 1 \tTrain_loss: 1.2661 | Train_acc: 61.4750 % | Validation_loss: 1.2704 | Validation_acc: 51.6369 %\n",
      "\u001b[36m(launch_and_fit pid=29448)\u001b[0m \tTrain Epoch: 2 \tTrain_loss: 0.9131 | Train_acc: 66.5750 % | Validation_loss: 2.0195 | Validation_acc: 41.2202 %\n"
     ]
    },
    {
     "name": "stderr",
     "output_type": "stream",
     "text": [
      " 20%|\u001b[34m██        \u001b[0m| 2/10 [00:00<00:00, 11.60it/s]\n"
     ]
    },
    {
     "name": "stdout",
     "output_type": "stream",
     "text": [
      "\u001b[36m(launch_and_fit pid=29448)\u001b[0m \tTrain Epoch: 3 \tTrain_loss: 1.0025 | Train_acc: 62.5750 % | Validation_loss: 1.6427 | Validation_acc: 47.7679 %\n",
      "\u001b[36m(launch_and_fit pid=29448)\u001b[0m \tTrain Epoch: 4 \tTrain_loss: 0.8082 | Train_acc: 71.7500 % | Validation_loss: 1.4582 | Validation_acc: 48.8095 %\n"
     ]
    },
    {
     "name": "stderr",
     "output_type": "stream",
     "text": [
      " 40%|\u001b[34m████      \u001b[0m| 4/10 [00:00<00:00, 11.39it/s]\n",
      " 60%|\u001b[34m██████    \u001b[0m| 6/10 [00:00<00:00, 11.44it/s]\n"
     ]
    },
    {
     "name": "stdout",
     "output_type": "stream",
     "text": [
      "\u001b[36m(launch_and_fit pid=29448)\u001b[0m \tTrain Epoch: 5 \tTrain_loss: 0.7761 | Train_acc: 71.1000 % | Validation_loss: 1.3656 | Validation_acc: 50.8929 %\n",
      "\u001b[36m(launch_and_fit pid=29448)\u001b[0m \tTrain Epoch: 6 \tTrain_loss: 0.7057 | Train_acc: 74.2500 % | Validation_loss: 1.6911 | Validation_acc: 55.3571 %\n",
      "\u001b[36m(launch_and_fit pid=29448)\u001b[0m \tTrain Epoch: 7 \tTrain_loss: 0.6705 | Train_acc: 76.7250 % | Validation_loss: 1.6970 | Validation_acc: 52.9762 %\n",
      "\u001b[36m(launch_and_fit pid=29448)\u001b[0m \tTrain Epoch: 8 \tTrain_loss: 0.8402 | Train_acc: 68.1000 % | Validation_loss: 1.4964 | Validation_acc: 46.7262 %\n",
      "\u001b[36m(launch_and_fit pid=29448)\u001b[0m \tTrain Epoch: 9 \tTrain_loss: 0.8296 | Train_acc: 70.1750 % | Validation_loss: 1.7405 | Validation_acc: 44.6429 %\n"
     ]
    },
    {
     "name": "stderr",
     "output_type": "stream",
     "text": [
      " 80%|\u001b[34m████████  \u001b[0m| 8/10 [00:00<00:00, 11.74it/s]\n"
     ]
    },
    {
     "name": "stdout",
     "output_type": "stream",
     "text": [
      "\u001b[36m(launch_and_fit pid=29448)\u001b[0m \tTrain Epoch: 10 \tTrain_loss: 0.8379 | Train_acc: 70.3750 % | Validation_loss: 1.6055 | Validation_acc: 45.6845 %\n",
      "\u001b[36m(launch_and_fit pid=29448)\u001b[0m save graph in  results/FL/\n",
      "\u001b[36m(launch_and_fit pid=29448)\u001b[0m Run WITHOUT homomorphic encryption\n",
      "\u001b[36m(launch_and_fit pid=29448)\u001b[0m  To get the checkpoint\n"
     ]
    },
    {
     "name": "stderr",
     "output_type": "stream",
     "text": [
      "100%|\u001b[34m██████████\u001b[0m| 10/10 [00:00<00:00, 11.70it/s]\n"
     ]
    },
    {
     "name": "stdout",
     "output_type": "stream",
     "text": [
      "\u001b[36m(launch_and_fit pid=29448)\u001b[0m [Client 1, round 18] fit, config: {'learning_rate': 0.003, 'batch_size': '16', 'server_round': 18, 'local_epochs': 10}\n",
      "\u001b[36m(launch_and_fit pid=29448)\u001b[0m Updated model\n",
      "\u001b[36m(launch_and_fit pid=29448)\u001b[0m \tTrain Epoch: 1 \tTrain_loss: 1.1986 | Train_acc: 58.6000 % | Validation_loss: 1.2832 | Validation_acc: 56.3988 %\n"
     ]
    },
    {
     "name": "stderr",
     "output_type": "stream",
     "text": [
      "  0%|\u001b[34m          \u001b[0m| 0/10 [00:00<?, ?it/s]\n"
     ]
    },
    {
     "name": "stdout",
     "output_type": "stream",
     "text": [
      "\u001b[36m(launch_and_fit pid=29448)\u001b[0m \tTrain Epoch: 2 \tTrain_loss: 1.0537 | Train_acc: 62.7000 % | Validation_loss: 1.4513 | Validation_acc: 51.9345 %\n",
      "\u001b[36m(launch_and_fit pid=29448)\u001b[0m \tTrain Epoch: 3 \tTrain_loss: 0.9332 | Train_acc: 65.8750 % | Validation_loss: 1.4348 | Validation_acc: 51.9345 %\n"
     ]
    },
    {
     "name": "stderr",
     "output_type": "stream",
     "text": [
      " 20%|\u001b[34m██        \u001b[0m| 2/10 [00:00<00:00, 11.63it/s]\n"
     ]
    },
    {
     "name": "stdout",
     "output_type": "stream",
     "text": [
      "\u001b[36m(launch_and_fit pid=29448)\u001b[0m \tTrain Epoch: 4 \tTrain_loss: 0.8537 | Train_acc: 67.6750 % | Validation_loss: 1.2899 | Validation_acc: 58.4821 %\n",
      "\u001b[36m(launch_and_fit pid=29448)\u001b[0m \tTrain Epoch: 5 \tTrain_loss: 0.8247 | Train_acc: 69.9750 % | Validation_loss: 1.3597 | Validation_acc: 66.0714 %\n",
      "\u001b[36m(launch_and_fit pid=29448)\u001b[0m \tTrain Epoch: 6 \tTrain_loss: 0.7483 | Train_acc: 73.0000 % | Validation_loss: 1.5677 | Validation_acc: 56.3988 %\n"
     ]
    },
    {
     "name": "stderr",
     "output_type": "stream",
     "text": [
      " 40%|\u001b[34m████      \u001b[0m| 4/10 [00:00<00:00, 11.49it/s]\n",
      " 60%|\u001b[34m██████    \u001b[0m| 6/10 [00:00<00:00, 11.79it/s]\n"
     ]
    },
    {
     "name": "stdout",
     "output_type": "stream",
     "text": [
      "\u001b[36m(launch_and_fit pid=29448)\u001b[0m \tTrain Epoch: 7 \tTrain_loss: 0.9942 | Train_acc: 69.3000 % | Validation_loss: 1.4053 | Validation_acc: 62.9464 %\n",
      "\u001b[36m(launch_and_fit pid=29448)\u001b[0m \tTrain Epoch: 8 \tTrain_loss: 0.8986 | Train_acc: 68.1000 % | Validation_loss: 1.6377 | Validation_acc: 53.2738 %\n"
     ]
    },
    {
     "name": "stderr",
     "output_type": "stream",
     "text": [
      " 80%|\u001b[34m████████  \u001b[0m| 8/10 [00:00<00:00, 11.93it/s]\n",
      "100%|\u001b[34m██████████\u001b[0m| 10/10 [00:00<00:00, 11.75it/s]\n",
      "DEBUG flwr 2024-08-30 01:21:39,622 | server.py:236 | fit_round 18 received 4 results and 0 failures\n"
     ]
    },
    {
     "name": "stdout",
     "output_type": "stream",
     "text": [
      "\u001b[36m(launch_and_fit pid=29448)\u001b[0m \tTrain Epoch: 9 \tTrain_loss: 0.7965 | Train_acc: 71.2000 % | Validation_loss: 1.5193 | Validation_acc: 52.2321 %\n",
      "\u001b[36m(launch_and_fit pid=29448)\u001b[0m \tTrain Epoch: 10 \tTrain_loss: 0.8099 | Train_acc: 70.3000 % | Validation_loss: 1.3776 | Validation_acc: 60.5655 %\n",
      "\u001b[36m(launch_and_fit pid=29448)\u001b[0m save graph in  results/FL/\n"
     ]
    },
    {
     "name": "stderr",
     "output_type": "stream",
     "text": [
      "INFO flwr 2024-08-30 01:21:39,684 | server.py:125 | fit progress: (18, 1.6953206593340093, {'accuracy': 58.06818181818182}, 308.9569166880101)\n",
      "DEBUG flwr 2024-08-30 01:21:39,685 | server.py:173 | evaluate_round 18: strategy sampled 4 clients (out of 4)\n"
     ]
    },
    {
     "name": "stdout",
     "output_type": "stream",
     "text": [
      "Saving round 18 aggregated_parameters...\n",
      "Updated model\n",
      "Server-side evaluation loss 1.6953206593340093 / accuracy 58.06818181818182\n",
      "\u001b[36m(launch_and_evaluate pid=29448)\u001b[0m Run WITHOUT homomorphic encryption\n",
      "\u001b[36m(launch_and_evaluate pid=29448)\u001b[0m  To get the checkpoint\n",
      "\u001b[36m(launch_and_evaluate pid=29448)\u001b[0m [Client 1] evaluate, config: {}\n",
      "\u001b[36m(launch_and_evaluate pid=29448)\u001b[0m Updated model\n",
      "\u001b[36m(launch_and_evaluate pid=29448)\u001b[0m Run WITHOUT homomorphic encryption\n",
      "\u001b[36m(launch_and_evaluate pid=29448)\u001b[0m  To get the checkpoint\n",
      "\u001b[36m(launch_and_evaluate pid=29448)\u001b[0m [Client 0] evaluate, config: {}\n",
      "\u001b[36m(launch_and_evaluate pid=29448)\u001b[0m Updated model\n",
      "\u001b[36m(launch_and_evaluate pid=29448)\u001b[0m Run WITHOUT homomorphic encryption\n",
      "\u001b[36m(launch_and_evaluate pid=29448)\u001b[0m  To get the checkpoint\n",
      "\u001b[36m(launch_and_evaluate pid=29448)\u001b[0m [Client 2] evaluate, config: {}\n",
      "\u001b[36m(launch_and_evaluate pid=29448)\u001b[0m Updated model\n",
      "\u001b[36m(launch_and_evaluate pid=29448)\u001b[0m Run WITHOUT homomorphic encryption\n",
      "\u001b[36m(launch_and_evaluate pid=29448)\u001b[0m  To get the checkpoint\n",
      "\u001b[36m(launch_and_evaluate pid=29448)\u001b[0m [Client 3] evaluate, config: {}\n",
      "\u001b[36m(launch_and_evaluate pid=29448)\u001b[0m Updated model\n"
     ]
    },
    {
     "name": "stderr",
     "output_type": "stream",
     "text": [
      "DEBUG flwr 2024-08-30 01:21:42,254 | server.py:187 | evaluate_round 18 received 4 results and 0 failures\n",
      "DEBUG flwr 2024-08-30 01:21:42,255 | server.py:222 | fit_round 19: strategy sampled 4 clients (out of 4)\n"
     ]
    },
    {
     "name": "stdout",
     "output_type": "stream",
     "text": [
      "\u001b[36m(launch_and_fit pid=29448)\u001b[0m Run WITHOUT homomorphic encryption\n",
      "\u001b[36m(launch_and_fit pid=29448)\u001b[0m  To get the checkpoint\n",
      "\u001b[36m(launch_and_fit pid=29448)\u001b[0m [Client 0, round 19] fit, config: {'learning_rate': 0.003, 'batch_size': '16', 'server_round': 19, 'local_epochs': 10}\n",
      "\u001b[36m(launch_and_fit pid=29448)\u001b[0m Updated model\n",
      "\u001b[36m(launch_and_fit pid=29448)\u001b[0m \tTrain Epoch: 1 \tTrain_loss: 1.0276 | Train_acc: 64.3250 % | Validation_loss: 1.9772 | Validation_acc: 54.9107 %\n"
     ]
    },
    {
     "name": "stderr",
     "output_type": "stream",
     "text": [
      "  0%|\u001b[34m          \u001b[0m| 0/10 [00:00<?, ?it/s]\n",
      " 10%|\u001b[34m█         \u001b[0m| 1/10 [00:00<00:00,  9.94it/s]\n"
     ]
    },
    {
     "name": "stdout",
     "output_type": "stream",
     "text": [
      "\u001b[36m(launch_and_fit pid=29448)\u001b[0m \tTrain Epoch: 2 \tTrain_loss: 0.8653 | Train_acc: 69.0000 % | Validation_loss: 1.8482 | Validation_acc: 48.3631 %\n",
      "\u001b[36m(launch_and_fit pid=29448)\u001b[0m \tTrain Epoch: 3 \tTrain_loss: 0.8181 | Train_acc: 71.9750 % | Validation_loss: 2.0125 | Validation_acc: 50.1488 %\n"
     ]
    },
    {
     "name": "stderr",
     "output_type": "stream",
     "text": [
      " 30%|\u001b[34m███       \u001b[0m| 3/10 [00:00<00:00, 10.66it/s]\n"
     ]
    },
    {
     "name": "stdout",
     "output_type": "stream",
     "text": [
      "\u001b[36m(launch_and_fit pid=29448)\u001b[0m \tTrain Epoch: 4 \tTrain_loss: 0.7969 | Train_acc: 71.9750 % | Validation_loss: 2.3695 | Validation_acc: 51.4881 %\n",
      "\u001b[36m(launch_and_fit pid=29448)\u001b[0m \tTrain Epoch: 5 \tTrain_loss: 0.7172 | Train_acc: 73.3500 % | Validation_loss: 1.7616 | Validation_acc: 53.2738 %\n",
      "\u001b[36m(launch_and_fit pid=29448)\u001b[0m \tTrain Epoch: 6 \tTrain_loss: 0.8162 | Train_acc: 70.7000 % | Validation_loss: 1.8747 | Validation_acc: 49.4048 %\n"
     ]
    },
    {
     "name": "stderr",
     "output_type": "stream",
     "text": [
      " 50%|\u001b[34m█████     \u001b[0m| 5/10 [00:00<00:00, 10.74it/s]\n",
      " 70%|\u001b[34m███████   \u001b[0m| 7/10 [00:00<00:00, 10.77it/s]\n"
     ]
    },
    {
     "name": "stdout",
     "output_type": "stream",
     "text": [
      "\u001b[36m(launch_and_fit pid=29448)\u001b[0m \tTrain Epoch: 7 \tTrain_loss: 1.0672 | Train_acc: 62.3500 % | Validation_loss: 1.7152 | Validation_acc: 50.4464 %\n",
      "\u001b[36m(launch_and_fit pid=29448)\u001b[0m \tTrain Epoch: 8 \tTrain_loss: 0.8461 | Train_acc: 68.8500 % | Validation_loss: 1.8927 | Validation_acc: 56.9940 %\n",
      "\u001b[36m(launch_and_fit pid=29448)\u001b[0m \tTrain Epoch: 9 \tTrain_loss: 0.6975 | Train_acc: 75.1250 % | Validation_loss: 1.8798 | Validation_acc: 51.1905 %\n",
      "\u001b[36m(launch_and_fit pid=29448)\u001b[0m \tTrain Epoch: 10 \tTrain_loss: 0.7290 | Train_acc: 73.0750 % | Validation_loss: 2.1446 | Validation_acc: 49.1071 %\n",
      "\u001b[36m(launch_and_fit pid=29448)\u001b[0m save graph in  results/FL/\n"
     ]
    },
    {
     "name": "stderr",
     "output_type": "stream",
     "text": [
      " 90%|\u001b[34m█████████ \u001b[0m| 9/10 [00:00<00:00, 10.98it/s]\n",
      "100%|\u001b[34m██████████\u001b[0m| 10/10 [00:00<00:00, 10.87it/s]\n"
     ]
    },
    {
     "name": "stdout",
     "output_type": "stream",
     "text": [
      "\u001b[36m(launch_and_fit pid=29448)\u001b[0m Run WITHOUT homomorphic encryption\n",
      "\u001b[36m(launch_and_fit pid=29448)\u001b[0m  To get the checkpoint\n",
      "\u001b[36m(launch_and_fit pid=29448)\u001b[0m [Client 1, round 19] fit, config: {'learning_rate': 0.003, 'batch_size': '16', 'server_round': 19, 'local_epochs': 10}\n",
      "\u001b[36m(launch_and_fit pid=29448)\u001b[0m Updated model\n",
      "\u001b[36m(launch_and_fit pid=29448)\u001b[0m \tTrain Epoch: 1 \tTrain_loss: 1.0668 | Train_acc: 61.9500 % | Validation_loss: 1.4536 | Validation_acc: 48.0655 %\n",
      "\u001b[36m(launch_and_fit pid=29448)\u001b[0m \tTrain Epoch: 2 \tTrain_loss: 0.9715 | Train_acc: 65.9500 % | Validation_loss: 1.4235 | Validation_acc: 53.2738 %\n"
     ]
    },
    {
     "name": "stderr",
     "output_type": "stream",
     "text": [
      "  0%|\u001b[34m          \u001b[0m| 0/10 [00:00<?, ?it/s]\n",
      " 20%|\u001b[34m██        \u001b[0m| 2/10 [00:00<00:00, 11.77it/s]\n"
     ]
    },
    {
     "name": "stdout",
     "output_type": "stream",
     "text": [
      "\u001b[36m(launch_and_fit pid=29448)\u001b[0m \tTrain Epoch: 3 \tTrain_loss: 0.8061 | Train_acc: 71.7500 % | Validation_loss: 1.4872 | Validation_acc: 57.4405 %\n",
      "\u001b[36m(launch_and_fit pid=29448)\u001b[0m \tTrain Epoch: 4 \tTrain_loss: 0.8379 | Train_acc: 68.6000 % | Validation_loss: 1.4091 | Validation_acc: 52.9762 %\n"
     ]
    },
    {
     "name": "stderr",
     "output_type": "stream",
     "text": [
      " 40%|\u001b[34m████      \u001b[0m| 4/10 [00:00<00:00, 11.65it/s]\n",
      " 60%|\u001b[34m██████    \u001b[0m| 6/10 [00:00<00:00, 11.92it/s]\n"
     ]
    },
    {
     "name": "stdout",
     "output_type": "stream",
     "text": [
      "\u001b[36m(launch_and_fit pid=29448)\u001b[0m \tTrain Epoch: 5 \tTrain_loss: 0.7529 | Train_acc: 72.8250 % | Validation_loss: 1.5179 | Validation_acc: 60.5655 %\n",
      "\u001b[36m(launch_and_fit pid=29448)\u001b[0m \tTrain Epoch: 6 \tTrain_loss: 0.8593 | Train_acc: 68.9750 % | Validation_loss: 1.3816 | Validation_acc: 60.5655 %\n",
      "\u001b[36m(launch_and_fit pid=29448)\u001b[0m \tTrain Epoch: 7 \tTrain_loss: 0.7324 | Train_acc: 73.2250 % | Validation_loss: 1.9439 | Validation_acc: 49.8512 %\n",
      "\u001b[36m(launch_and_fit pid=29448)\u001b[0m \tTrain Epoch: 8 \tTrain_loss: 0.8200 | Train_acc: 69.2000 % | Validation_loss: 1.7461 | Validation_acc: 50.8929 %\n",
      "\u001b[36m(launch_and_fit pid=29448)\u001b[0m \tTrain Epoch: 9 \tTrain_loss: 0.7544 | Train_acc: 71.6000 % | Validation_loss: 1.6197 | Validation_acc: 52.2321 %\n"
     ]
    },
    {
     "name": "stderr",
     "output_type": "stream",
     "text": [
      " 80%|\u001b[34m████████  \u001b[0m| 8/10 [00:00<00:00, 11.67it/s]\n"
     ]
    },
    {
     "name": "stdout",
     "output_type": "stream",
     "text": [
      "\u001b[36m(launch_and_fit pid=29448)\u001b[0m \tTrain Epoch: 10 \tTrain_loss: 0.6475 | Train_acc: 74.2250 % | Validation_loss: 1.5290 | Validation_acc: 59.5238 %\n",
      "\u001b[36m(launch_and_fit pid=29448)\u001b[0m save graph in  results/FL/\n"
     ]
    },
    {
     "name": "stderr",
     "output_type": "stream",
     "text": [
      "100%|\u001b[34m██████████\u001b[0m| 10/10 [00:00<00:00, 11.88it/s]\n"
     ]
    },
    {
     "name": "stdout",
     "output_type": "stream",
     "text": [
      "\u001b[36m(launch_and_fit pid=29448)\u001b[0m Run WITHOUT homomorphic encryption\n",
      "\u001b[36m(launch_and_fit pid=29448)\u001b[0m  To get the checkpoint\n",
      "\u001b[36m(launch_and_fit pid=29448)\u001b[0m [Client 3, round 19] fit, config: {'learning_rate': 0.003, 'batch_size': '16', 'server_round': 19, 'local_epochs': 10}\n",
      "\u001b[36m(launch_and_fit pid=29448)\u001b[0m Updated model\n",
      "\u001b[36m(launch_and_fit pid=29448)\u001b[0m \tTrain Epoch: 1 \tTrain_loss: 1.1501 | Train_acc: 62.9750 % | Validation_loss: 1.3124 | Validation_acc: 54.6131 %\n",
      "\u001b[36m(launch_and_fit pid=29448)\u001b[0m \tTrain Epoch: 2 \tTrain_loss: 0.8263 | Train_acc: 69.8250 % | Validation_loss: 1.3172 | Validation_acc: 50.8929 %\n"
     ]
    },
    {
     "name": "stderr",
     "output_type": "stream",
     "text": [
      "  0%|\u001b[34m          \u001b[0m| 0/10 [00:00<?, ?it/s]\n",
      " 20%|\u001b[34m██        \u001b[0m| 2/10 [00:00<00:00, 11.72it/s]\n"
     ]
    },
    {
     "name": "stdout",
     "output_type": "stream",
     "text": [
      "\u001b[36m(launch_and_fit pid=29448)\u001b[0m \tTrain Epoch: 3 \tTrain_loss: 0.7795 | Train_acc: 71.1250 % | Validation_loss: 1.6243 | Validation_acc: 50.8929 %\n",
      "\u001b[36m(launch_and_fit pid=29448)\u001b[0m \tTrain Epoch: 4 \tTrain_loss: 0.7716 | Train_acc: 71.4250 % | Validation_loss: 1.5950 | Validation_acc: 49.8512 %\n"
     ]
    },
    {
     "name": "stderr",
     "output_type": "stream",
     "text": [
      " 40%|\u001b[34m████      \u001b[0m| 4/10 [00:00<00:00, 11.88it/s]\n"
     ]
    },
    {
     "name": "stdout",
     "output_type": "stream",
     "text": [
      "\u001b[36m(launch_and_fit pid=29448)\u001b[0m \tTrain Epoch: 5 \tTrain_loss: 0.7929 | Train_acc: 71.7500 % | Validation_loss: 1.5847 | Validation_acc: 52.9762 %\n",
      "\u001b[36m(launch_and_fit pid=29448)\u001b[0m \tTrain Epoch: 6 \tTrain_loss: 0.7262 | Train_acc: 73.5000 % | Validation_loss: 1.6989 | Validation_acc: 50.8929 %\n",
      "\u001b[36m(launch_and_fit pid=29448)\u001b[0m \tTrain Epoch: 7 \tTrain_loss: 0.6515 | Train_acc: 77.2250 % | Validation_loss: 1.9483 | Validation_acc: 49.8512 %\n"
     ]
    },
    {
     "name": "stderr",
     "output_type": "stream",
     "text": [
      " 60%|\u001b[34m██████    \u001b[0m| 6/10 [00:00<00:00, 11.57it/s]\n",
      " 80%|\u001b[34m████████  \u001b[0m| 8/10 [00:00<00:00, 11.70it/s]\n"
     ]
    },
    {
     "name": "stdout",
     "output_type": "stream",
     "text": [
      "\u001b[36m(launch_and_fit pid=29448)\u001b[0m \tTrain Epoch: 8 \tTrain_loss: 0.6003 | Train_acc: 77.9750 % | Validation_loss: 2.0879 | Validation_acc: 52.9762 %\n",
      "\u001b[36m(launch_and_fit pid=29448)\u001b[0m \tTrain Epoch: 9 \tTrain_loss: 0.6454 | Train_acc: 77.6250 % | Validation_loss: 1.7420 | Validation_acc: 52.9762 %\n",
      "\u001b[36m(launch_and_fit pid=29448)\u001b[0m \tTrain Epoch: 10 \tTrain_loss: 0.6940 | Train_acc: 76.0000 % | Validation_loss: 1.7988 | Validation_acc: 49.8512 %\n",
      "\u001b[36m(launch_and_fit pid=29448)\u001b[0m save graph in  results/FL/\n"
     ]
    },
    {
     "name": "stderr",
     "output_type": "stream",
     "text": [
      "100%|\u001b[34m██████████\u001b[0m| 10/10 [00:00<00:00, 11.74it/s]\n"
     ]
    },
    {
     "name": "stdout",
     "output_type": "stream",
     "text": [
      "\u001b[36m(launch_and_fit pid=29448)\u001b[0m Run WITHOUT homomorphic encryption\n",
      "\u001b[36m(launch_and_fit pid=29448)\u001b[0m  To get the checkpoint\n",
      "\u001b[36m(launch_and_fit pid=29448)\u001b[0m [Client 2, round 19] fit, config: {'learning_rate': 0.003, 'batch_size': '16', 'server_round': 19, 'local_epochs': 10}\n",
      "\u001b[36m(launch_and_fit pid=29448)\u001b[0m Updated model\n"
     ]
    },
    {
     "name": "stderr",
     "output_type": "stream",
     "text": [
      "  0%|\u001b[34m          \u001b[0m| 0/10 [00:00<?, ?it/s]\n"
     ]
    },
    {
     "name": "stdout",
     "output_type": "stream",
     "text": [
      "\u001b[36m(launch_and_fit pid=29448)\u001b[0m \tTrain Epoch: 1 \tTrain_loss: 1.1041 | Train_acc: 61.9750 % | Validation_loss: 1.3353 | Validation_acc: 57.7381 %\n",
      "\u001b[36m(launch_and_fit pid=29448)\u001b[0m \tTrain Epoch: 2 \tTrain_loss: 0.8793 | Train_acc: 67.4500 % | Validation_loss: 1.1796 | Validation_acc: 56.6964 %\n"
     ]
    },
    {
     "name": "stderr",
     "output_type": "stream",
     "text": [
      " 20%|\u001b[34m██        \u001b[0m| 2/10 [00:00<00:00, 11.51it/s]\n"
     ]
    },
    {
     "name": "stdout",
     "output_type": "stream",
     "text": [
      "\u001b[36m(launch_and_fit pid=29448)\u001b[0m \tTrain Epoch: 3 \tTrain_loss: 0.8724 | Train_acc: 68.2000 % | Validation_loss: 1.3768 | Validation_acc: 55.6548 %\n",
      "\u001b[36m(launch_and_fit pid=29448)\u001b[0m \tTrain Epoch: 4 \tTrain_loss: 0.7712 | Train_acc: 73.1250 % | Validation_loss: 1.4234 | Validation_acc: 53.5714 %\n"
     ]
    },
    {
     "name": "stderr",
     "output_type": "stream",
     "text": [
      " 40%|\u001b[34m████      \u001b[0m| 4/10 [00:00<00:00, 11.73it/s]\n",
      " 60%|\u001b[34m██████    \u001b[0m| 6/10 [00:00<00:00, 11.78it/s]\n"
     ]
    },
    {
     "name": "stdout",
     "output_type": "stream",
     "text": [
      "\u001b[36m(launch_and_fit pid=29448)\u001b[0m \tTrain Epoch: 5 \tTrain_loss: 0.7467 | Train_acc: 72.5250 % | Validation_loss: 1.3176 | Validation_acc: 59.8214 %\n",
      "\u001b[36m(launch_and_fit pid=29448)\u001b[0m \tTrain Epoch: 6 \tTrain_loss: 0.8186 | Train_acc: 70.7250 % | Validation_loss: 1.3199 | Validation_acc: 53.5714 %\n",
      "\u001b[36m(launch_and_fit pid=29448)\u001b[0m \tTrain Epoch: 7 \tTrain_loss: 0.7684 | Train_acc: 72.5750 % | Validation_loss: 1.4326 | Validation_acc: 52.5298 %\n",
      "\u001b[36m(launch_and_fit pid=29448)\u001b[0m \tTrain Epoch: 8 \tTrain_loss: 0.9862 | Train_acc: 65.4750 % | Validation_loss: 1.3646 | Validation_acc: 51.4881 %\n",
      "\u001b[36m(launch_and_fit pid=29448)\u001b[0m \tTrain Epoch: 9 \tTrain_loss: 0.9408 | Train_acc: 66.7500 % | Validation_loss: 1.4545 | Validation_acc: 56.6964 %\n"
     ]
    },
    {
     "name": "stderr",
     "output_type": "stream",
     "text": [
      " 80%|\u001b[34m████████  \u001b[0m| 8/10 [00:00<00:00, 11.26it/s]\n",
      "100%|\u001b[34m██████████\u001b[0m| 10/10 [00:00<00:00, 11.55it/s]\n",
      "DEBUG flwr 2024-08-30 01:21:47,278 | server.py:236 | fit_round 19 received 4 results and 0 failures\n"
     ]
    },
    {
     "name": "stdout",
     "output_type": "stream",
     "text": [
      "\u001b[36m(launch_and_fit pid=29448)\u001b[0m \tTrain Epoch: 10 \tTrain_loss: 0.6896 | Train_acc: 74.4500 % | Validation_loss: 1.3130 | Validation_acc: 61.9048 %\n",
      "\u001b[36m(launch_and_fit pid=29448)\u001b[0m save graph in  results/FL/\n",
      "Saving round 19 aggregated_parameters...\n"
     ]
    },
    {
     "name": "stderr",
     "output_type": "stream",
     "text": [
      "INFO flwr 2024-08-30 01:21:47,439 | server.py:125 | fit progress: (19, 1.6427663375030865, {'accuracy': 59.09090909090909}, 316.7117005200125)\n",
      "DEBUG flwr 2024-08-30 01:21:47,440 | server.py:173 | evaluate_round 19: strategy sampled 4 clients (out of 4)\n"
     ]
    },
    {
     "name": "stdout",
     "output_type": "stream",
     "text": [
      "Updated model\n",
      "Server-side evaluation loss 1.6427663375030865 / accuracy 59.09090909090909\n",
      "\u001b[36m(launch_and_evaluate pid=29448)\u001b[0m Run WITHOUT homomorphic encryption\n",
      "\u001b[36m(launch_and_evaluate pid=29448)\u001b[0m  To get the checkpoint\n",
      "\u001b[36m(launch_and_evaluate pid=29448)\u001b[0m [Client 1] evaluate, config: {}\n",
      "\u001b[36m(launch_and_evaluate pid=29448)\u001b[0m Updated model\n",
      "\u001b[36m(launch_and_evaluate pid=29448)\u001b[0m Run WITHOUT homomorphic encryption\n",
      "\u001b[36m(launch_and_evaluate pid=29448)\u001b[0m  To get the checkpoint\n",
      "\u001b[36m(launch_and_evaluate pid=29448)\u001b[0m [Client 3] evaluate, config: {}\n",
      "\u001b[36m(launch_and_evaluate pid=29448)\u001b[0m Updated model\n",
      "\u001b[36m(launch_and_evaluate pid=29448)\u001b[0m Run WITHOUT homomorphic encryption\n",
      "\u001b[36m(launch_and_evaluate pid=29448)\u001b[0m  To get the checkpoint\n",
      "\u001b[36m(launch_and_evaluate pid=29448)\u001b[0m [Client 0] evaluate, config: {}\n",
      "\u001b[36m(launch_and_evaluate pid=29448)\u001b[0m Updated model\n",
      "\u001b[36m(launch_and_evaluate pid=29448)\u001b[0m Run WITHOUT homomorphic encryption\n",
      "\u001b[36m(launch_and_evaluate pid=29448)\u001b[0m  To get the checkpoint\n",
      "\u001b[36m(launch_and_evaluate pid=29448)\u001b[0m [Client 2] evaluate, config: {}\n",
      "\u001b[36m(launch_and_evaluate pid=29448)\u001b[0m Updated model\n"
     ]
    },
    {
     "name": "stderr",
     "output_type": "stream",
     "text": [
      "DEBUG flwr 2024-08-30 01:21:49,650 | server.py:187 | evaluate_round 19 received 4 results and 0 failures\n",
      "DEBUG flwr 2024-08-30 01:21:49,651 | server.py:222 | fit_round 20: strategy sampled 4 clients (out of 4)\n"
     ]
    },
    {
     "name": "stdout",
     "output_type": "stream",
     "text": [
      "\u001b[36m(launch_and_fit pid=29448)\u001b[0m Run WITHOUT homomorphic encryption\n",
      "\u001b[36m(launch_and_fit pid=29448)\u001b[0m  To get the checkpoint\n",
      "\u001b[36m(launch_and_fit pid=29448)\u001b[0m [Client 2, round 20] fit, config: {'learning_rate': 0.003, 'batch_size': '16', 'server_round': 20, 'local_epochs': 10}\n",
      "\u001b[36m(launch_and_fit pid=29448)\u001b[0m Updated model\n",
      "\u001b[36m(launch_and_fit pid=29448)\u001b[0m \tTrain Epoch: 1 \tTrain_loss: 1.2175 | Train_acc: 60.9250 % | Validation_loss: 1.5353 | Validation_acc: 47.3214 %\n"
     ]
    },
    {
     "name": "stderr",
     "output_type": "stream",
     "text": [
      "  0%|\u001b[34m          \u001b[0m| 0/10 [00:00<?, ?it/s]\n",
      " 10%|\u001b[34m█         \u001b[0m| 1/10 [00:00<00:00,  9.27it/s]\n"
     ]
    },
    {
     "name": "stdout",
     "output_type": "stream",
     "text": [
      "\u001b[36m(launch_and_fit pid=29448)\u001b[0m \tTrain Epoch: 2 \tTrain_loss: 0.9387 | Train_acc: 66.2000 % | Validation_loss: 1.2674 | Validation_acc: 50.1488 %\n",
      "\u001b[36m(launch_and_fit pid=29448)\u001b[0m \tTrain Epoch: 3 \tTrain_loss: 0.8886 | Train_acc: 67.4250 % | Validation_loss: 1.5383 | Validation_acc: 57.7381 %\n",
      "\u001b[36m(launch_and_fit pid=29448)\u001b[0m \tTrain Epoch: 4 \tTrain_loss: 0.7954 | Train_acc: 70.0750 % | Validation_loss: 1.2754 | Validation_acc: 57.7381 %\n"
     ]
    },
    {
     "name": "stderr",
     "output_type": "stream",
     "text": [
      " 30%|\u001b[34m███       \u001b[0m| 3/10 [00:00<00:00, 10.06it/s]\n",
      " 50%|\u001b[34m█████     \u001b[0m| 5/10 [00:00<00:00, 10.54it/s]\n"
     ]
    },
    {
     "name": "stdout",
     "output_type": "stream",
     "text": [
      "\u001b[36m(launch_and_fit pid=29448)\u001b[0m \tTrain Epoch: 5 \tTrain_loss: 0.7756 | Train_acc: 72.0750 % | Validation_loss: 1.1827 | Validation_acc: 58.7798 %\n",
      "\u001b[36m(launch_and_fit pid=29448)\u001b[0m \tTrain Epoch: 6 \tTrain_loss: 0.6606 | Train_acc: 76.1250 % | Validation_loss: 1.4670 | Validation_acc: 58.7798 %\n",
      "\u001b[36m(launch_and_fit pid=29448)\u001b[0m \tTrain Epoch: 7 \tTrain_loss: 0.6791 | Train_acc: 75.2000 % | Validation_loss: 1.3835 | Validation_acc: 61.9048 %\n",
      "\u001b[36m(launch_and_fit pid=29448)\u001b[0m \tTrain Epoch: 8 \tTrain_loss: 0.6246 | Train_acc: 75.3250 % | Validation_loss: 1.2548 | Validation_acc: 61.9048 %\n"
     ]
    },
    {
     "name": "stderr",
     "output_type": "stream",
     "text": [
      " 70%|\u001b[34m███████   \u001b[0m| 7/10 [00:00<00:00, 10.72it/s]\n"
     ]
    },
    {
     "name": "stdout",
     "output_type": "stream",
     "text": [
      "\u001b[36m(launch_and_fit pid=29448)\u001b[0m \tTrain Epoch: 9 \tTrain_loss: 0.6421 | Train_acc: 77.1000 % | Validation_loss: 1.2383 | Validation_acc: 62.9464 %\n",
      "\u001b[36m(launch_and_fit pid=29448)\u001b[0m \tTrain Epoch: 10 \tTrain_loss: 0.6088 | Train_acc: 76.7250 % | Validation_loss: 1.5331 | Validation_acc: 53.5714 %\n",
      "\u001b[36m(launch_and_fit pid=29448)\u001b[0m save graph in  results/FL/\n"
     ]
    },
    {
     "name": "stderr",
     "output_type": "stream",
     "text": [
      " 90%|\u001b[34m█████████ \u001b[0m| 9/10 [00:00<00:00, 11.10it/s]\n",
      "100%|\u001b[34m██████████\u001b[0m| 10/10 [00:00<00:00, 10.89it/s]\n"
     ]
    },
    {
     "name": "stdout",
     "output_type": "stream",
     "text": [
      "\u001b[36m(launch_and_fit pid=29448)\u001b[0m Run WITHOUT homomorphic encryption\n",
      "\u001b[36m(launch_and_fit pid=29448)\u001b[0m  To get the checkpoint\n",
      "\u001b[36m(launch_and_fit pid=29448)\u001b[0m [Client 3, round 20] fit, config: {'learning_rate': 0.003, 'batch_size': '16', 'server_round': 20, 'local_epochs': 10}\n",
      "\u001b[36m(launch_and_fit pid=29448)\u001b[0m Updated model\n"
     ]
    },
    {
     "name": "stderr",
     "output_type": "stream",
     "text": [
      "  0%|\u001b[34m          \u001b[0m| 0/10 [00:00<?, ?it/s]\n"
     ]
    },
    {
     "name": "stdout",
     "output_type": "stream",
     "text": [
      "\u001b[36m(launch_and_fit pid=29448)\u001b[0m \tTrain Epoch: 1 \tTrain_loss: 1.0041 | Train_acc: 64.9750 % | Validation_loss: 1.5735 | Validation_acc: 51.9345 %\n",
      "\u001b[36m(launch_and_fit pid=29448)\u001b[0m \tTrain Epoch: 2 \tTrain_loss: 0.8287 | Train_acc: 71.1250 % | Validation_loss: 1.4554 | Validation_acc: 54.3155 %\n"
     ]
    },
    {
     "name": "stderr",
     "output_type": "stream",
     "text": [
      " 20%|\u001b[34m██        \u001b[0m| 2/10 [00:00<00:00, 10.80it/s]\n"
     ]
    },
    {
     "name": "stdout",
     "output_type": "stream",
     "text": [
      "\u001b[36m(launch_and_fit pid=29448)\u001b[0m \tTrain Epoch: 3 \tTrain_loss: 0.7788 | Train_acc: 72.3750 % | Validation_loss: 1.5912 | Validation_acc: 52.9762 %\n",
      "\u001b[36m(launch_and_fit pid=29448)\u001b[0m \tTrain Epoch: 4 \tTrain_loss: 0.7012 | Train_acc: 73.6250 % | Validation_loss: 1.5741 | Validation_acc: 56.1012 %\n"
     ]
    },
    {
     "name": "stderr",
     "output_type": "stream",
     "text": [
      " 40%|\u001b[34m████      \u001b[0m| 4/10 [00:00<00:00, 11.42it/s]\n"
     ]
    },
    {
     "name": "stdout",
     "output_type": "stream",
     "text": [
      "\u001b[36m(launch_and_fit pid=29448)\u001b[0m \tTrain Epoch: 5 \tTrain_loss: 0.6511 | Train_acc: 75.6250 % | Validation_loss: 1.7046 | Validation_acc: 54.0179 %\n",
      "\u001b[36m(launch_and_fit pid=29448)\u001b[0m \tTrain Epoch: 6 \tTrain_loss: 0.6195 | Train_acc: 77.3500 % | Validation_loss: 1.4528 | Validation_acc: 56.1012 %\n",
      "\u001b[36m(launch_and_fit pid=29448)\u001b[0m \tTrain Epoch: 7 \tTrain_loss: 0.6056 | Train_acc: 77.7000 % | Validation_loss: 1.6424 | Validation_acc: 56.1012 %\n"
     ]
    },
    {
     "name": "stderr",
     "output_type": "stream",
     "text": [
      " 60%|\u001b[34m██████    \u001b[0m| 6/10 [00:00<00:00, 11.47it/s]\n",
      " 80%|\u001b[34m████████  \u001b[0m| 8/10 [00:00<00:00, 11.55it/s]\n"
     ]
    },
    {
     "name": "stdout",
     "output_type": "stream",
     "text": [
      "\u001b[36m(launch_and_fit pid=29448)\u001b[0m \tTrain Epoch: 8 \tTrain_loss: 0.5829 | Train_acc: 79.2500 % | Validation_loss: 1.6499 | Validation_acc: 57.1429 %\n",
      "\u001b[36m(launch_and_fit pid=29448)\u001b[0m \tTrain Epoch: 9 \tTrain_loss: 0.6199 | Train_acc: 77.3750 % | Validation_loss: 1.8483 | Validation_acc: 50.8929 %\n",
      "\u001b[36m(launch_and_fit pid=29448)\u001b[0m \tTrain Epoch: 10 \tTrain_loss: 0.8231 | Train_acc: 71.4250 % | Validation_loss: 1.9132 | Validation_acc: 50.8929 %\n",
      "\u001b[36m(launch_and_fit pid=29448)\u001b[0m save graph in  results/FL/\n"
     ]
    },
    {
     "name": "stderr",
     "output_type": "stream",
     "text": [
      "100%|\u001b[34m██████████\u001b[0m| 10/10 [00:00<00:00, 11.62it/s]\n"
     ]
    },
    {
     "name": "stdout",
     "output_type": "stream",
     "text": [
      "\u001b[36m(launch_and_fit pid=29448)\u001b[0m Run WITHOUT homomorphic encryption\n",
      "\u001b[36m(launch_and_fit pid=29448)\u001b[0m  To get the checkpoint\n",
      "\u001b[36m(launch_and_fit pid=29448)\u001b[0m [Client 0, round 20] fit, config: {'learning_rate': 0.003, 'batch_size': '16', 'server_round': 20, 'local_epochs': 10}\n",
      "\u001b[36m(launch_and_fit pid=29448)\u001b[0m Updated model\n"
     ]
    },
    {
     "name": "stderr",
     "output_type": "stream",
     "text": [
      "  0%|\u001b[34m          \u001b[0m| 0/10 [00:00<?, ?it/s]\n"
     ]
    },
    {
     "name": "stdout",
     "output_type": "stream",
     "text": [
      "\u001b[36m(launch_and_fit pid=29448)\u001b[0m \tTrain Epoch: 1 \tTrain_loss: 0.9873 | Train_acc: 63.5750 % | Validation_loss: 2.1273 | Validation_acc: 50.4464 %\n",
      "\u001b[36m(launch_and_fit pid=29448)\u001b[0m \tTrain Epoch: 2 \tTrain_loss: 0.8061 | Train_acc: 69.5750 % | Validation_loss: 1.9401 | Validation_acc: 50.7440 %\n"
     ]
    },
    {
     "name": "stderr",
     "output_type": "stream",
     "text": [
      " 20%|\u001b[34m██        \u001b[0m| 2/10 [00:00<00:00, 11.14it/s]\n"
     ]
    },
    {
     "name": "stdout",
     "output_type": "stream",
     "text": [
      "\u001b[36m(launch_and_fit pid=29448)\u001b[0m \tTrain Epoch: 3 \tTrain_loss: 0.7470 | Train_acc: 72.9750 % | Validation_loss: 1.9586 | Validation_acc: 58.0357 %\n",
      "\u001b[36m(launch_and_fit pid=29448)\u001b[0m \tTrain Epoch: 4 \tTrain_loss: 0.6547 | Train_acc: 77.3750 % | Validation_loss: 1.9436 | Validation_acc: 51.7857 %\n"
     ]
    },
    {
     "name": "stderr",
     "output_type": "stream",
     "text": [
      " 40%|\u001b[34m████      \u001b[0m| 4/10 [00:00<00:00, 11.77it/s]\n",
      " 60%|\u001b[34m██████    \u001b[0m| 6/10 [00:00<00:00, 11.87it/s]\n"
     ]
    },
    {
     "name": "stdout",
     "output_type": "stream",
     "text": [
      "\u001b[36m(launch_and_fit pid=29448)\u001b[0m \tTrain Epoch: 5 \tTrain_loss: 0.6688 | Train_acc: 75.2500 % | Validation_loss: 2.2352 | Validation_acc: 47.6190 %\n",
      "\u001b[36m(launch_and_fit pid=29448)\u001b[0m \tTrain Epoch: 6 \tTrain_loss: 0.7979 | Train_acc: 70.1000 % | Validation_loss: 2.0087 | Validation_acc: 43.8988 %\n",
      "\u001b[36m(launch_and_fit pid=29448)\u001b[0m \tTrain Epoch: 7 \tTrain_loss: 0.7110 | Train_acc: 74.1000 % | Validation_loss: 2.2424 | Validation_acc: 54.6131 %\n",
      "\u001b[36m(launch_and_fit pid=29448)\u001b[0m \tTrain Epoch: 8 \tTrain_loss: 0.5948 | Train_acc: 78.0000 % | Validation_loss: 2.0639 | Validation_acc: 49.1071 %\n",
      "\u001b[36m(launch_and_fit pid=29448)\u001b[0m \tTrain Epoch: 9 \tTrain_loss: 0.6947 | Train_acc: 74.1000 % | Validation_loss: 2.3950 | Validation_acc: 45.9821 %\n"
     ]
    },
    {
     "name": "stderr",
     "output_type": "stream",
     "text": [
      " 80%|\u001b[34m████████  \u001b[0m| 8/10 [00:00<00:00, 11.83it/s]\n"
     ]
    },
    {
     "name": "stdout",
     "output_type": "stream",
     "text": [
      "\u001b[36m(launch_and_fit pid=29448)\u001b[0m \tTrain Epoch: 10 \tTrain_loss: 0.6995 | Train_acc: 75.6000 % | Validation_loss: 2.2379 | Validation_acc: 53.5714 %\n",
      "\u001b[36m(launch_and_fit pid=29448)\u001b[0m save graph in  results/FL/\n",
      "\u001b[36m(launch_and_fit pid=29448)\u001b[0m Run WITHOUT homomorphic encryption\n"
     ]
    },
    {
     "name": "stderr",
     "output_type": "stream",
     "text": [
      "100%|\u001b[34m██████████\u001b[0m| 10/10 [00:00<00:00, 11.76it/s]\n"
     ]
    },
    {
     "name": "stdout",
     "output_type": "stream",
     "text": [
      "\u001b[36m(launch_and_fit pid=29448)\u001b[0m  To get the checkpoint\n",
      "\u001b[36m(launch_and_fit pid=29448)\u001b[0m [Client 1, round 20] fit, config: {'learning_rate': 0.003, 'batch_size': '16', 'server_round': 20, 'local_epochs': 10}\n",
      "\u001b[36m(launch_and_fit pid=29448)\u001b[0m Updated model\n",
      "\u001b[36m(launch_and_fit pid=29448)\u001b[0m \tTrain Epoch: 1 \tTrain_loss: 0.9902 | Train_acc: 64.8500 % | Validation_loss: 1.2715 | Validation_acc: 57.4405 %\n",
      "\u001b[36m(launch_and_fit pid=29448)\u001b[0m \tTrain Epoch: 2 \tTrain_loss: 0.7721 | Train_acc: 73.7000 % | Validation_loss: 1.4529 | Validation_acc: 62.6488 %\n"
     ]
    },
    {
     "name": "stderr",
     "output_type": "stream",
     "text": [
      "  0%|\u001b[34m          \u001b[0m| 0/10 [00:00<?, ?it/s]\n",
      " 20%|\u001b[34m██        \u001b[0m| 2/10 [00:00<00:00, 11.38it/s]\n"
     ]
    },
    {
     "name": "stdout",
     "output_type": "stream",
     "text": [
      "\u001b[36m(launch_and_fit pid=29448)\u001b[0m \tTrain Epoch: 3 \tTrain_loss: 0.7581 | Train_acc: 72.9250 % | Validation_loss: 1.7235 | Validation_acc: 54.0179 %\n",
      "\u001b[36m(launch_and_fit pid=29448)\u001b[0m \tTrain Epoch: 4 \tTrain_loss: 0.7365 | Train_acc: 72.2250 % | Validation_loss: 1.8205 | Validation_acc: 59.5238 %\n"
     ]
    },
    {
     "name": "stderr",
     "output_type": "stream",
     "text": [
      " 40%|\u001b[34m████      \u001b[0m| 4/10 [00:00<00:00, 11.04it/s]\n"
     ]
    },
    {
     "name": "stdout",
     "output_type": "stream",
     "text": [
      "\u001b[36m(launch_and_fit pid=29448)\u001b[0m \tTrain Epoch: 5 \tTrain_loss: 0.7559 | Train_acc: 72.8000 % | Validation_loss: 1.8736 | Validation_acc: 53.2738 %\n",
      "\u001b[36m(launch_and_fit pid=29448)\u001b[0m \tTrain Epoch: 6 \tTrain_loss: 0.8322 | Train_acc: 70.8750 % | Validation_loss: 1.5361 | Validation_acc: 61.9048 %\n"
     ]
    },
    {
     "name": "stderr",
     "output_type": "stream",
     "text": [
      " 60%|\u001b[34m██████    \u001b[0m| 6/10 [00:00<00:00, 10.91it/s]\n"
     ]
    },
    {
     "name": "stdout",
     "output_type": "stream",
     "text": [
      "\u001b[36m(launch_and_fit pid=29448)\u001b[0m \tTrain Epoch: 7 \tTrain_loss: 0.6849 | Train_acc: 73.2500 % | Validation_loss: 1.9224 | Validation_acc: 57.1429 %\n",
      "\u001b[36m(launch_and_fit pid=29448)\u001b[0m \tTrain Epoch: 8 \tTrain_loss: 0.5966 | Train_acc: 79.1000 % | Validation_loss: 1.8197 | Validation_acc: 55.8036 %\n",
      "\u001b[36m(launch_and_fit pid=29448)\u001b[0m \tTrain Epoch: 9 \tTrain_loss: 0.6134 | Train_acc: 76.8500 % | Validation_loss: 1.7332 | Validation_acc: 58.4821 %\n"
     ]
    },
    {
     "name": "stderr",
     "output_type": "stream",
     "text": [
      " 80%|\u001b[34m████████  \u001b[0m| 8/10 [00:00<00:00, 11.24it/s]\n",
      "100%|\u001b[34m██████████\u001b[0m| 10/10 [00:00<00:00, 11.16it/s]\n",
      "DEBUG flwr 2024-08-30 01:21:54,762 | server.py:236 | fit_round 20 received 4 results and 0 failures\n"
     ]
    },
    {
     "name": "stdout",
     "output_type": "stream",
     "text": [
      "\u001b[36m(launch_and_fit pid=29448)\u001b[0m \tTrain Epoch: 10 \tTrain_loss: 0.5723 | Train_acc: 79.4500 % | Validation_loss: 1.8354 | Validation_acc: 57.1429 %\n",
      "\u001b[36m(launch_and_fit pid=29448)\u001b[0m save graph in  results/FL/\n",
      "Saving round 20 aggregated_parameters...\n"
     ]
    },
    {
     "name": "stderr",
     "output_type": "stream",
     "text": [
      "INFO flwr 2024-08-30 01:21:54,931 | server.py:125 | fit progress: (20, 1.818124920129776, {'accuracy': 57.840909090909086}, 324.2030782341026)\n",
      "DEBUG flwr 2024-08-30 01:21:54,931 | server.py:173 | evaluate_round 20: strategy sampled 4 clients (out of 4)\n"
     ]
    },
    {
     "name": "stdout",
     "output_type": "stream",
     "text": [
      "Updated model\n",
      "Server-side evaluation loss 1.818124920129776 / accuracy 57.840909090909086\n",
      "\u001b[36m(launch_and_evaluate pid=29448)\u001b[0m Run WITHOUT homomorphic encryption\n",
      "\u001b[36m(launch_and_evaluate pid=29448)\u001b[0m  To get the checkpoint\n",
      "\u001b[36m(launch_and_evaluate pid=29448)\u001b[0m [Client 1] evaluate, config: {}\n",
      "\u001b[36m(launch_and_evaluate pid=29448)\u001b[0m Updated model\n",
      "\u001b[36m(launch_and_evaluate pid=29448)\u001b[0m Run WITHOUT homomorphic encryption\n",
      "\u001b[36m(launch_and_evaluate pid=29448)\u001b[0m  To get the checkpoint\n",
      "\u001b[36m(launch_and_evaluate pid=29448)\u001b[0m [Client 0] evaluate, config: {}\n",
      "\u001b[36m(launch_and_evaluate pid=29448)\u001b[0m Updated model\n",
      "\u001b[36m(launch_and_evaluate pid=29448)\u001b[0m Run WITHOUT homomorphic encryption\n",
      "\u001b[36m(launch_and_evaluate pid=29448)\u001b[0m  To get the checkpoint\n",
      "\u001b[36m(launch_and_evaluate pid=29448)\u001b[0m [Client 2] evaluate, config: {}\n",
      "\u001b[36m(launch_and_evaluate pid=29448)\u001b[0m Updated model\n",
      "\u001b[36m(launch_and_evaluate pid=29448)\u001b[0m Run WITHOUT homomorphic encryption\n",
      "\u001b[36m(launch_and_evaluate pid=29448)\u001b[0m  To get the checkpoint\n",
      "\u001b[36m(launch_and_evaluate pid=29448)\u001b[0m [Client 3] evaluate, config: {}\n",
      "\u001b[36m(launch_and_evaluate pid=29448)\u001b[0m Updated model\n"
     ]
    },
    {
     "name": "stderr",
     "output_type": "stream",
     "text": [
      "DEBUG flwr 2024-08-30 01:21:57,131 | server.py:187 | evaluate_round 20 received 4 results and 0 failures\n",
      "DEBUG flwr 2024-08-30 01:21:57,132 | server.py:222 | fit_round 21: strategy sampled 4 clients (out of 4)\n"
     ]
    },
    {
     "name": "stdout",
     "output_type": "stream",
     "text": [
      "\u001b[36m(launch_and_fit pid=29448)\u001b[0m Run WITHOUT homomorphic encryption\n",
      "\u001b[36m(launch_and_fit pid=29448)\u001b[0m  To get the checkpoint\n",
      "\u001b[36m(launch_and_fit pid=29448)\u001b[0m [Client 0, round 21] fit, config: {'learning_rate': 0.003, 'batch_size': '16', 'server_round': 21, 'local_epochs': 10}\n",
      "\u001b[36m(launch_and_fit pid=29448)\u001b[0m Updated model\n",
      "\u001b[36m(launch_and_fit pid=29448)\u001b[0m \tTrain Epoch: 1 \tTrain_loss: 0.9555 | Train_acc: 68.3750 % | Validation_loss: 1.9435 | Validation_acc: 49.1071 %\n"
     ]
    },
    {
     "name": "stderr",
     "output_type": "stream",
     "text": [
      "  0%|\u001b[34m          \u001b[0m| 0/10 [00:00<?, ?it/s]\n"
     ]
    },
    {
     "name": "stdout",
     "output_type": "stream",
     "text": [
      "\u001b[36m(launch_and_fit pid=29448)\u001b[0m \tTrain Epoch: 2 \tTrain_loss: 0.7626 | Train_acc: 73.8750 % | Validation_loss: 1.8120 | Validation_acc: 52.5298 %\n",
      "\u001b[36m(launch_and_fit pid=29448)\u001b[0m \tTrain Epoch: 3 \tTrain_loss: 0.7536 | Train_acc: 71.4750 % | Validation_loss: 2.2038 | Validation_acc: 45.9821 %\n"
     ]
    },
    {
     "name": "stderr",
     "output_type": "stream",
     "text": [
      " 20%|\u001b[34m██        \u001b[0m| 2/10 [00:00<00:00, 10.27it/s]\n"
     ]
    },
    {
     "name": "stdout",
     "output_type": "stream",
     "text": [
      "\u001b[36m(launch_and_fit pid=29448)\u001b[0m \tTrain Epoch: 4 \tTrain_loss: 0.6074 | Train_acc: 77.7500 % | Validation_loss: 2.4209 | Validation_acc: 49.1071 %\n",
      "\u001b[36m(launch_and_fit pid=29448)\u001b[0m \tTrain Epoch: 5 \tTrain_loss: 0.6210 | Train_acc: 76.2250 % | Validation_loss: 2.1695 | Validation_acc: 52.5298 %\n",
      "\u001b[36m(launch_and_fit pid=29448)\u001b[0m \tTrain Epoch: 6 \tTrain_loss: 0.6630 | Train_acc: 74.7500 % | Validation_loss: 2.0472 | Validation_acc: 51.4881 %\n"
     ]
    },
    {
     "name": "stderr",
     "output_type": "stream",
     "text": [
      " 40%|\u001b[34m████      \u001b[0m| 4/10 [00:00<00:00, 10.89it/s]\n",
      " 60%|\u001b[34m██████    \u001b[0m| 6/10 [00:00<00:00, 11.07it/s]\n"
     ]
    },
    {
     "name": "stdout",
     "output_type": "stream",
     "text": [
      "\u001b[36m(launch_and_fit pid=29448)\u001b[0m \tTrain Epoch: 7 \tTrain_loss: 0.6988 | Train_acc: 74.0500 % | Validation_loss: 2.0209 | Validation_acc: 50.1488 %\n",
      "\u001b[36m(launch_and_fit pid=29448)\u001b[0m \tTrain Epoch: 8 \tTrain_loss: 0.6446 | Train_acc: 78.2000 % | Validation_loss: 2.3113 | Validation_acc: 54.9107 %\n"
     ]
    },
    {
     "name": "stderr",
     "output_type": "stream",
     "text": [
      " 80%|\u001b[34m████████  \u001b[0m| 8/10 [00:00<00:00, 11.10it/s]\n"
     ]
    },
    {
     "name": "stdout",
     "output_type": "stream",
     "text": [
      "\u001b[36m(launch_and_fit pid=29448)\u001b[0m \tTrain Epoch: 9 \tTrain_loss: 0.5504 | Train_acc: 79.1000 % | Validation_loss: 2.5268 | Validation_acc: 47.0238 %\n",
      "\u001b[36m(launch_and_fit pid=29448)\u001b[0m \tTrain Epoch: 10 \tTrain_loss: 0.4834 | Train_acc: 82.2250 % | Validation_loss: 2.2691 | Validation_acc: 50.1488 %\n",
      "\u001b[36m(launch_and_fit pid=29448)\u001b[0m save graph in  results/FL/\n"
     ]
    },
    {
     "name": "stderr",
     "output_type": "stream",
     "text": [
      "100%|\u001b[34m██████████\u001b[0m| 10/10 [00:00<00:00, 11.12it/s]\n"
     ]
    },
    {
     "name": "stdout",
     "output_type": "stream",
     "text": [
      "\u001b[36m(launch_and_fit pid=29448)\u001b[0m Run WITHOUT homomorphic encryption\n",
      "\u001b[36m(launch_and_fit pid=29448)\u001b[0m  To get the checkpoint\n",
      "\u001b[36m(launch_and_fit pid=29448)\u001b[0m [Client 1, round 21] fit, config: {'learning_rate': 0.003, 'batch_size': '16', 'server_round': 21, 'local_epochs': 10}\n",
      "\u001b[36m(launch_and_fit pid=29448)\u001b[0m Updated model\n",
      "\u001b[36m(launch_and_fit pid=29448)\u001b[0m \tTrain Epoch: 1 \tTrain_loss: 0.9836 | Train_acc: 66.2250 % | Validation_loss: 1.5145 | Validation_acc: 57.1429 %\n",
      "\u001b[36m(launch_and_fit pid=29448)\u001b[0m \tTrain Epoch: 2 \tTrain_loss: 0.8975 | Train_acc: 68.5500 % | Validation_loss: 1.4048 | Validation_acc: 59.8214 %\n"
     ]
    },
    {
     "name": "stderr",
     "output_type": "stream",
     "text": [
      "  0%|\u001b[34m          \u001b[0m| 0/10 [00:00<?, ?it/s]\n",
      " 20%|\u001b[34m██        \u001b[0m| 2/10 [00:00<00:00, 12.02it/s]\n"
     ]
    },
    {
     "name": "stdout",
     "output_type": "stream",
     "text": [
      "\u001b[36m(launch_and_fit pid=29448)\u001b[0m \tTrain Epoch: 3 \tTrain_loss: 0.8215 | Train_acc: 68.4500 % | Validation_loss: 1.5266 | Validation_acc: 56.3988 %\n",
      "\u001b[36m(launch_and_fit pid=29448)\u001b[0m \tTrain Epoch: 4 \tTrain_loss: 0.8682 | Train_acc: 69.8500 % | Validation_loss: 1.5850 | Validation_acc: 56.3988 %\n"
     ]
    },
    {
     "name": "stderr",
     "output_type": "stream",
     "text": [
      " 40%|\u001b[34m████      \u001b[0m| 4/10 [00:00<00:00, 11.80it/s]\n"
     ]
    },
    {
     "name": "stdout",
     "output_type": "stream",
     "text": [
      "\u001b[36m(launch_and_fit pid=29448)\u001b[0m \tTrain Epoch: 5 \tTrain_loss: 0.6887 | Train_acc: 74.3750 % | Validation_loss: 1.6657 | Validation_acc: 56.1012 %\n",
      "\u001b[36m(launch_and_fit pid=29448)\u001b[0m \tTrain Epoch: 6 \tTrain_loss: 0.6181 | Train_acc: 78.2250 % | Validation_loss: 1.5571 | Validation_acc: 61.6071 %\n"
     ]
    },
    {
     "name": "stderr",
     "output_type": "stream",
     "text": [
      " 60%|\u001b[34m██████    \u001b[0m| 6/10 [00:00<00:00, 11.50it/s]\n",
      " 80%|\u001b[34m████████  \u001b[0m| 8/10 [00:00<00:00, 11.63it/s]\n"
     ]
    },
    {
     "name": "stdout",
     "output_type": "stream",
     "text": [
      "\u001b[36m(launch_and_fit pid=29448)\u001b[0m \tTrain Epoch: 7 \tTrain_loss: 0.5475 | Train_acc: 79.7250 % | Validation_loss: 1.5500 | Validation_acc: 57.4405 %\n",
      "\u001b[36m(launch_and_fit pid=29448)\u001b[0m \tTrain Epoch: 8 \tTrain_loss: 0.5178 | Train_acc: 80.9750 % | Validation_loss: 1.6415 | Validation_acc: 59.5238 %\n",
      "\u001b[36m(launch_and_fit pid=29448)\u001b[0m \tTrain Epoch: 9 \tTrain_loss: 0.4971 | Train_acc: 81.9750 % | Validation_loss: 2.0204 | Validation_acc: 55.0595 %\n",
      "\u001b[36m(launch_and_fit pid=29448)\u001b[0m \tTrain Epoch: 10 \tTrain_loss: 0.5883 | Train_acc: 78.1000 % | Validation_loss: 1.8917 | Validation_acc: 58.4821 %\n",
      "\u001b[36m(launch_and_fit pid=29448)\u001b[0m save graph in  results/FL/\n"
     ]
    },
    {
     "name": "stderr",
     "output_type": "stream",
     "text": [
      "100%|\u001b[34m██████████\u001b[0m| 10/10 [00:00<00:00, 11.50it/s]\n"
     ]
    },
    {
     "name": "stdout",
     "output_type": "stream",
     "text": [
      "\u001b[36m(launch_and_fit pid=29448)\u001b[0m Run WITHOUT homomorphic encryption\n",
      "\u001b[36m(launch_and_fit pid=29448)\u001b[0m  To get the checkpoint\n",
      "\u001b[36m(launch_and_fit pid=29448)\u001b[0m [Client 3, round 21] fit, config: {'learning_rate': 0.003, 'batch_size': '16', 'server_round': 21, 'local_epochs': 10}\n",
      "\u001b[36m(launch_and_fit pid=29448)\u001b[0m Updated model\n",
      "\u001b[36m(launch_and_fit pid=29448)\u001b[0m \tTrain Epoch: 1 \tTrain_loss: 1.0123 | Train_acc: 66.9750 % | Validation_loss: 2.4750 | Validation_acc: 49.5536 %\n"
     ]
    },
    {
     "name": "stderr",
     "output_type": "stream",
     "text": [
      "  0%|\u001b[34m          \u001b[0m| 0/10 [00:00<?, ?it/s]\n"
     ]
    },
    {
     "name": "stdout",
     "output_type": "stream",
     "text": [
      "\u001b[36m(launch_and_fit pid=29448)\u001b[0m \tTrain Epoch: 2 \tTrain_loss: 0.9700 | Train_acc: 64.8500 % | Validation_loss: 1.4738 | Validation_acc: 54.3155 %\n",
      "\u001b[36m(launch_and_fit pid=29448)\u001b[0m \tTrain Epoch: 3 \tTrain_loss: 0.7639 | Train_acc: 71.9750 % | Validation_loss: 1.3705 | Validation_acc: 55.0595 %\n",
      "\u001b[36m(launch_and_fit pid=29448)\u001b[0m \tTrain Epoch: 4 \tTrain_loss: 0.7267 | Train_acc: 74.1000 % | Validation_loss: 1.5505 | Validation_acc: 54.0179 %\n"
     ]
    },
    {
     "name": "stderr",
     "output_type": "stream",
     "text": [
      " 20%|\u001b[34m██        \u001b[0m| 2/10 [00:00<00:00, 11.29it/s]\n",
      " 40%|\u001b[34m████      \u001b[0m| 4/10 [00:00<00:00, 11.96it/s]\n"
     ]
    },
    {
     "name": "stdout",
     "output_type": "stream",
     "text": [
      "\u001b[36m(launch_and_fit pid=29448)\u001b[0m \tTrain Epoch: 5 \tTrain_loss: 0.6450 | Train_acc: 76.6250 % | Validation_loss: 1.6495 | Validation_acc: 55.0595 %\n",
      "\u001b[36m(launch_and_fit pid=29448)\u001b[0m \tTrain Epoch: 6 \tTrain_loss: 0.5519 | Train_acc: 80.2500 % | Validation_loss: 1.8154 | Validation_acc: 54.0179 %\n"
     ]
    },
    {
     "name": "stderr",
     "output_type": "stream",
     "text": [
      " 60%|\u001b[34m██████    \u001b[0m| 6/10 [00:00<00:00, 11.72it/s]\n"
     ]
    },
    {
     "name": "stdout",
     "output_type": "stream",
     "text": [
      "\u001b[36m(launch_and_fit pid=29448)\u001b[0m \tTrain Epoch: 7 \tTrain_loss: 0.5583 | Train_acc: 79.8500 % | Validation_loss: 1.9061 | Validation_acc: 56.1012 %\n",
      "\u001b[36m(launch_and_fit pid=29448)\u001b[0m \tTrain Epoch: 8 \tTrain_loss: 0.6834 | Train_acc: 76.9750 % | Validation_loss: 1.4920 | Validation_acc: 58.1845 %\n",
      "\u001b[36m(launch_and_fit pid=29448)\u001b[0m \tTrain Epoch: 9 \tTrain_loss: 0.5655 | Train_acc: 79.1500 % | Validation_loss: 1.5141 | Validation_acc: 59.2262 %\n"
     ]
    },
    {
     "name": "stderr",
     "output_type": "stream",
     "text": [
      " 80%|\u001b[34m████████  \u001b[0m| 8/10 [00:00<00:00, 11.34it/s]\n",
      "100%|\u001b[34m██████████\u001b[0m| 10/10 [00:00<00:00, 11.66it/s]\n"
     ]
    },
    {
     "name": "stdout",
     "output_type": "stream",
     "text": [
      "\u001b[36m(launch_and_fit pid=29448)\u001b[0m \tTrain Epoch: 10 \tTrain_loss: 0.4652 | Train_acc: 82.7500 % | Validation_loss: 1.7482 | Validation_acc: 56.1012 %\n",
      "\u001b[36m(launch_and_fit pid=29448)\u001b[0m save graph in  results/FL/\n",
      "\u001b[36m(launch_and_fit pid=29448)\u001b[0m Run WITHOUT homomorphic encryption\n",
      "\u001b[36m(launch_and_fit pid=29448)\u001b[0m  To get the checkpoint\n",
      "\u001b[36m(launch_and_fit pid=29448)\u001b[0m [Client 2, round 21] fit, config: {'learning_rate': 0.003, 'batch_size': '16', 'server_round': 21, 'local_epochs': 10}\n",
      "\u001b[36m(launch_and_fit pid=29448)\u001b[0m Updated model\n",
      "\u001b[36m(launch_and_fit pid=29448)\u001b[0m \tTrain Epoch: 1 \tTrain_loss: 1.0775 | Train_acc: 64.9750 % | Validation_loss: 1.4809 | Validation_acc: 58.7798 %\n"
     ]
    },
    {
     "name": "stderr",
     "output_type": "stream",
     "text": [
      "  0%|\u001b[34m          \u001b[0m| 0/10 [00:00<?, ?it/s]\n",
      " 10%|\u001b[34m█         \u001b[0m| 1/10 [00:00<00:00,  9.94it/s]\n"
     ]
    },
    {
     "name": "stdout",
     "output_type": "stream",
     "text": [
      "\u001b[36m(launch_and_fit pid=29448)\u001b[0m \tTrain Epoch: 2 \tTrain_loss: 0.7630 | Train_acc: 72.8000 % | Validation_loss: 1.4604 | Validation_acc: 58.7798 %\n",
      "\u001b[36m(launch_and_fit pid=29448)\u001b[0m \tTrain Epoch: 3 \tTrain_loss: 0.7217 | Train_acc: 74.3500 % | Validation_loss: 1.3781 | Validation_acc: 58.7798 %\n"
     ]
    },
    {
     "name": "stderr",
     "output_type": "stream",
     "text": [
      " 30%|\u001b[34m███       \u001b[0m| 3/10 [00:00<00:00, 10.34it/s]\n",
      " 50%|\u001b[34m█████     \u001b[0m| 5/10 [00:00<00:00, 10.82it/s]\n"
     ]
    },
    {
     "name": "stdout",
     "output_type": "stream",
     "text": [
      "\u001b[36m(launch_and_fit pid=29448)\u001b[0m \tTrain Epoch: 4 \tTrain_loss: 0.6673 | Train_acc: 74.2500 % | Validation_loss: 1.4280 | Validation_acc: 60.8631 %\n",
      "\u001b[36m(launch_and_fit pid=29448)\u001b[0m \tTrain Epoch: 5 \tTrain_loss: 0.6420 | Train_acc: 77.2250 % | Validation_loss: 1.4901 | Validation_acc: 56.6964 %\n",
      "\u001b[36m(launch_and_fit pid=29448)\u001b[0m \tTrain Epoch: 6 \tTrain_loss: 0.6019 | Train_acc: 78.6250 % | Validation_loss: 1.3454 | Validation_acc: 63.9881 %\n",
      "\u001b[36m(launch_and_fit pid=29448)\u001b[0m \tTrain Epoch: 7 \tTrain_loss: 0.5979 | Train_acc: 77.5750 % | Validation_loss: 1.5793 | Validation_acc: 58.7798 %\n",
      "\u001b[36m(launch_and_fit pid=29448)\u001b[0m \tTrain Epoch: 8 \tTrain_loss: 0.6264 | Train_acc: 77.1250 % | Validation_loss: 1.3131 | Validation_acc: 66.0714 %\n"
     ]
    },
    {
     "name": "stderr",
     "output_type": "stream",
     "text": [
      " 70%|\u001b[34m███████   \u001b[0m| 7/10 [00:00<00:00, 11.07it/s]\n",
      " 90%|\u001b[34m█████████ \u001b[0m| 9/10 [00:00<00:00, 11.31it/s]\n",
      "100%|\u001b[34m██████████\u001b[0m| 10/10 [00:00<00:00, 11.06it/s]\n",
      "DEBUG flwr 2024-08-30 01:22:02,728 | server.py:236 | fit_round 21 received 4 results and 0 failures\n"
     ]
    },
    {
     "name": "stdout",
     "output_type": "stream",
     "text": [
      "\u001b[36m(launch_and_fit pid=29448)\u001b[0m \tTrain Epoch: 9 \tTrain_loss: 0.6865 | Train_acc: 75.1000 % | Validation_loss: 1.6542 | Validation_acc: 58.7798 %\n",
      "\u001b[36m(launch_and_fit pid=29448)\u001b[0m \tTrain Epoch: 10 \tTrain_loss: 0.6855 | Train_acc: 74.0750 % | Validation_loss: 1.4220 | Validation_acc: 63.9881 %\n",
      "\u001b[36m(launch_and_fit pid=29448)\u001b[0m save graph in  results/FL/\n",
      "Saving round 21 aggregated_parameters...\n"
     ]
    },
    {
     "name": "stderr",
     "output_type": "stream",
     "text": [
      "INFO flwr 2024-08-30 01:22:02,804 | server.py:125 | fit progress: (21, 1.9125786125659943, {'accuracy': 64.0530303030303}, 332.07657098583877)\n",
      "DEBUG flwr 2024-08-30 01:22:02,805 | server.py:173 | evaluate_round 21: strategy sampled 4 clients (out of 4)\n"
     ]
    },
    {
     "name": "stdout",
     "output_type": "stream",
     "text": [
      "Updated model\n",
      "Server-side evaluation loss 1.9125786125659943 / accuracy 64.0530303030303\n",
      "\u001b[36m(launch_and_evaluate pid=29448)\u001b[0m Run WITHOUT homomorphic encryption\n",
      "\u001b[36m(launch_and_evaluate pid=29448)\u001b[0m  To get the checkpoint\n",
      "\u001b[36m(launch_and_evaluate pid=29448)\u001b[0m [Client 3] evaluate, config: {}\n",
      "\u001b[36m(launch_and_evaluate pid=29448)\u001b[0m Updated model\n",
      "\u001b[36m(launch_and_evaluate pid=29448)\u001b[0m Run WITHOUT homomorphic encryption\n",
      "\u001b[36m(launch_and_evaluate pid=29448)\u001b[0m  To get the checkpoint\n",
      "\u001b[36m(launch_and_evaluate pid=29448)\u001b[0m [Client 2] evaluate, config: {}\n",
      "\u001b[36m(launch_and_evaluate pid=29448)\u001b[0m Updated model\n",
      "\u001b[36m(launch_and_evaluate pid=29448)\u001b[0m Run WITHOUT homomorphic encryption\n",
      "\u001b[36m(launch_and_evaluate pid=29448)\u001b[0m  To get the checkpoint\n",
      "\u001b[36m(launch_and_evaluate pid=29448)\u001b[0m [Client 1] evaluate, config: {}\n",
      "\u001b[36m(launch_and_evaluate pid=29448)\u001b[0m Updated model\n",
      "\u001b[36m(launch_and_evaluate pid=29448)\u001b[0m Run WITHOUT homomorphic encryption\n",
      "\u001b[36m(launch_and_evaluate pid=29448)\u001b[0m  To get the checkpoint\n",
      "\u001b[36m(launch_and_evaluate pid=29448)\u001b[0m [Client 0] evaluate, config: {}\n",
      "\u001b[36m(launch_and_evaluate pid=29448)\u001b[0m Updated model\n"
     ]
    },
    {
     "name": "stderr",
     "output_type": "stream",
     "text": [
      "DEBUG flwr 2024-08-30 01:22:05,042 | server.py:187 | evaluate_round 21 received 4 results and 0 failures\n",
      "DEBUG flwr 2024-08-30 01:22:05,043 | server.py:222 | fit_round 22: strategy sampled 4 clients (out of 4)\n"
     ]
    },
    {
     "name": "stdout",
     "output_type": "stream",
     "text": [
      "\u001b[36m(launch_and_fit pid=29448)\u001b[0m Run WITHOUT homomorphic encryption\n",
      "\u001b[36m(launch_and_fit pid=29448)\u001b[0m  To get the checkpoint\n",
      "\u001b[36m(launch_and_fit pid=29448)\u001b[0m [Client 2, round 22] fit, config: {'learning_rate': 0.003, 'batch_size': '16', 'server_round': 22, 'local_epochs': 10}\n",
      "\u001b[36m(launch_and_fit pid=29448)\u001b[0m Updated model\n",
      "\u001b[36m(launch_and_fit pid=29448)\u001b[0m \tTrain Epoch: 1 \tTrain_loss: 0.9984 | Train_acc: 67.1750 % | Validation_loss: 1.4294 | Validation_acc: 51.4881 %\n"
     ]
    },
    {
     "name": "stderr",
     "output_type": "stream",
     "text": [
      "  0%|\u001b[34m          \u001b[0m| 0/10 [00:00<?, ?it/s]\n"
     ]
    },
    {
     "name": "stdout",
     "output_type": "stream",
     "text": [
      "\u001b[36m(launch_and_fit pid=29448)\u001b[0m \tTrain Epoch: 2 \tTrain_loss: 1.0245 | Train_acc: 66.1250 % | Validation_loss: 1.3340 | Validation_acc: 61.9048 %\n",
      "\u001b[36m(launch_and_fit pid=29448)\u001b[0m \tTrain Epoch: 3 \tTrain_loss: 0.7289 | Train_acc: 74.4750 % | Validation_loss: 1.3713 | Validation_acc: 61.9048 %\n",
      "\u001b[36m(launch_and_fit pid=29448)\u001b[0m \tTrain Epoch: 4 \tTrain_loss: 0.6160 | Train_acc: 76.8750 % | Validation_loss: 1.5420 | Validation_acc: 65.0298 %\n"
     ]
    },
    {
     "name": "stderr",
     "output_type": "stream",
     "text": [
      " 20%|\u001b[34m██        \u001b[0m| 2/10 [00:00<00:00, 10.14it/s]\n",
      " 40%|\u001b[34m████      \u001b[0m| 4/10 [00:00<00:00, 10.65it/s]\n"
     ]
    },
    {
     "name": "stdout",
     "output_type": "stream",
     "text": [
      "\u001b[36m(launch_and_fit pid=29448)\u001b[0m \tTrain Epoch: 5 \tTrain_loss: 0.5626 | Train_acc: 79.9750 % | Validation_loss: 1.5318 | Validation_acc: 59.8214 %\n",
      "\u001b[36m(launch_and_fit pid=29448)\u001b[0m \tTrain Epoch: 6 \tTrain_loss: 0.5427 | Train_acc: 79.0750 % | Validation_loss: 1.6829 | Validation_acc: 65.0298 %\n"
     ]
    },
    {
     "name": "stderr",
     "output_type": "stream",
     "text": [
      " 60%|\u001b[34m██████    \u001b[0m| 6/10 [00:00<00:00, 10.65it/s]\n"
     ]
    },
    {
     "name": "stdout",
     "output_type": "stream",
     "text": [
      "\u001b[36m(launch_and_fit pid=29448)\u001b[0m \tTrain Epoch: 7 \tTrain_loss: 0.5641 | Train_acc: 78.7000 % | Validation_loss: 1.3589 | Validation_acc: 60.8631 %\n",
      "\u001b[36m(launch_and_fit pid=29448)\u001b[0m \tTrain Epoch: 8 \tTrain_loss: 0.6349 | Train_acc: 75.4500 % | Validation_loss: 1.2958 | Validation_acc: 61.9048 %\n"
     ]
    },
    {
     "name": "stderr",
     "output_type": "stream",
     "text": [
      " 80%|\u001b[34m████████  \u001b[0m| 8/10 [00:00<00:00, 10.90it/s]\n"
     ]
    },
    {
     "name": "stdout",
     "output_type": "stream",
     "text": [
      "\u001b[36m(launch_and_fit pid=29448)\u001b[0m \tTrain Epoch: 9 \tTrain_loss: 0.5300 | Train_acc: 80.1000 % | Validation_loss: 1.3293 | Validation_acc: 62.9464 %\n",
      "\u001b[36m(launch_and_fit pid=29448)\u001b[0m \tTrain Epoch: 10 \tTrain_loss: 0.4616 | Train_acc: 83.7500 % | Validation_loss: 1.5648 | Validation_acc: 61.9048 %\n",
      "\u001b[36m(launch_and_fit pid=29448)\u001b[0m save graph in  results/FL/\n"
     ]
    },
    {
     "name": "stderr",
     "output_type": "stream",
     "text": [
      "100%|\u001b[34m██████████\u001b[0m| 10/10 [00:00<00:00, 10.80it/s]\n"
     ]
    },
    {
     "name": "stdout",
     "output_type": "stream",
     "text": [
      "\u001b[36m(launch_and_fit pid=29448)\u001b[0m Run WITHOUT homomorphic encryption\n",
      "\u001b[36m(launch_and_fit pid=29448)\u001b[0m  To get the checkpoint\n",
      "\u001b[36m(launch_and_fit pid=29448)\u001b[0m [Client 3, round 22] fit, config: {'learning_rate': 0.003, 'batch_size': '16', 'server_round': 22, 'local_epochs': 10}\n",
      "\u001b[36m(launch_and_fit pid=29448)\u001b[0m Updated model\n",
      "\u001b[36m(launch_and_fit pid=29448)\u001b[0m \tTrain Epoch: 1 \tTrain_loss: 1.0950 | Train_acc: 68.9750 % | Validation_loss: 1.9549 | Validation_acc: 58.7798 %\n"
     ]
    },
    {
     "name": "stderr",
     "output_type": "stream",
     "text": [
      "  0%|\u001b[34m          \u001b[0m| 0/10 [00:00<?, ?it/s]\n"
     ]
    },
    {
     "name": "stdout",
     "output_type": "stream",
     "text": [
      "\u001b[36m(launch_and_fit pid=29448)\u001b[0m \tTrain Epoch: 2 \tTrain_loss: 0.7181 | Train_acc: 73.7000 % | Validation_loss: 1.2375 | Validation_acc: 57.4405 %\n",
      "\u001b[36m(launch_and_fit pid=29448)\u001b[0m \tTrain Epoch: 3 \tTrain_loss: 0.6093 | Train_acc: 77.7500 % | Validation_loss: 1.9543 | Validation_acc: 54.0179 %\n",
      "\u001b[36m(launch_and_fit pid=29448)\u001b[0m \tTrain Epoch: 4 \tTrain_loss: 0.5603 | Train_acc: 81.5000 % | Validation_loss: 1.7703 | Validation_acc: 57.1429 %\n"
     ]
    },
    {
     "name": "stderr",
     "output_type": "stream",
     "text": [
      " 20%|\u001b[34m██        \u001b[0m| 2/10 [00:00<00:00, 10.34it/s]\n",
      " 40%|\u001b[34m████      \u001b[0m| 4/10 [00:00<00:00, 10.93it/s]\n"
     ]
    },
    {
     "name": "stdout",
     "output_type": "stream",
     "text": [
      "\u001b[36m(launch_and_fit pid=29448)\u001b[0m \tTrain Epoch: 5 \tTrain_loss: 0.4879 | Train_acc: 82.2250 % | Validation_loss: 1.6991 | Validation_acc: 55.0595 %\n",
      "\u001b[36m(launch_and_fit pid=29448)\u001b[0m \tTrain Epoch: 6 \tTrain_loss: 0.5347 | Train_acc: 82.3250 % | Validation_loss: 1.7994 | Validation_acc: 54.0179 %\n"
     ]
    },
    {
     "name": "stderr",
     "output_type": "stream",
     "text": [
      " 60%|\u001b[34m██████    \u001b[0m| 6/10 [00:00<00:00, 10.81it/s]\n"
     ]
    },
    {
     "name": "stdout",
     "output_type": "stream",
     "text": [
      "\u001b[36m(launch_and_fit pid=29448)\u001b[0m \tTrain Epoch: 7 \tTrain_loss: 0.5280 | Train_acc: 80.6000 % | Validation_loss: 2.0487 | Validation_acc: 52.9762 %\n",
      "\u001b[36m(launch_and_fit pid=29448)\u001b[0m \tTrain Epoch: 8 \tTrain_loss: 0.5661 | Train_acc: 79.9750 % | Validation_loss: 1.6817 | Validation_acc: 53.7202 %\n"
     ]
    },
    {
     "name": "stderr",
     "output_type": "stream",
     "text": [
      " 80%|\u001b[34m████████  \u001b[0m| 8/10 [00:00<00:00, 10.81it/s]\n"
     ]
    },
    {
     "name": "stdout",
     "output_type": "stream",
     "text": [
      "\u001b[36m(launch_and_fit pid=29448)\u001b[0m \tTrain Epoch: 9 \tTrain_loss: 0.5908 | Train_acc: 78.8500 % | Validation_loss: 1.4995 | Validation_acc: 59.2262 %\n",
      "\u001b[36m(launch_and_fit pid=29448)\u001b[0m \tTrain Epoch: 10 \tTrain_loss: 0.5098 | Train_acc: 82.1000 % | Validation_loss: 2.1604 | Validation_acc: 57.1429 %\n",
      "\u001b[36m(launch_and_fit pid=29448)\u001b[0m save graph in  results/FL/\n"
     ]
    },
    {
     "name": "stderr",
     "output_type": "stream",
     "text": [
      "100%|\u001b[34m██████████\u001b[0m| 10/10 [00:00<00:00, 10.88it/s]\n"
     ]
    },
    {
     "name": "stdout",
     "output_type": "stream",
     "text": [
      "\u001b[36m(launch_and_fit pid=29448)\u001b[0m Run WITHOUT homomorphic encryption\n",
      "\u001b[36m(launch_and_fit pid=29448)\u001b[0m  To get the checkpoint\n",
      "\u001b[36m(launch_and_fit pid=29448)\u001b[0m [Client 0, round 22] fit, config: {'learning_rate': 0.003, 'batch_size': '16', 'server_round': 22, 'local_epochs': 10}\n",
      "\u001b[36m(launch_and_fit pid=29448)\u001b[0m Updated model\n"
     ]
    },
    {
     "name": "stderr",
     "output_type": "stream",
     "text": [
      "  0%|\u001b[34m          \u001b[0m| 0/10 [00:00<?, ?it/s]\n"
     ]
    },
    {
     "name": "stdout",
     "output_type": "stream",
     "text": [
      "\u001b[36m(launch_and_fit pid=29448)\u001b[0m \tTrain Epoch: 1 \tTrain_loss: 0.9123 | Train_acc: 67.0500 % | Validation_loss: 2.8326 | Validation_acc: 53.5714 %\n",
      "\u001b[36m(launch_and_fit pid=29448)\u001b[0m \tTrain Epoch: 2 \tTrain_loss: 0.6306 | Train_acc: 76.9750 % | Validation_loss: 2.3538 | Validation_acc: 51.4881 %\n"
     ]
    },
    {
     "name": "stderr",
     "output_type": "stream",
     "text": [
      " 20%|\u001b[34m██        \u001b[0m| 2/10 [00:00<00:00, 10.88it/s]\n"
     ]
    },
    {
     "name": "stdout",
     "output_type": "stream",
     "text": [
      "\u001b[36m(launch_and_fit pid=29448)\u001b[0m \tTrain Epoch: 3 \tTrain_loss: 0.6307 | Train_acc: 77.2250 % | Validation_loss: 2.0314 | Validation_acc: 53.2738 %\n",
      "\u001b[36m(launch_and_fit pid=29448)\u001b[0m \tTrain Epoch: 4 \tTrain_loss: 0.6358 | Train_acc: 77.7500 % | Validation_loss: 2.2591 | Validation_acc: 53.5714 %\n"
     ]
    },
    {
     "name": "stderr",
     "output_type": "stream",
     "text": [
      " 40%|\u001b[34m████      \u001b[0m| 4/10 [00:00<00:00, 11.11it/s]\n"
     ]
    },
    {
     "name": "stdout",
     "output_type": "stream",
     "text": [
      "\u001b[36m(launch_and_fit pid=29448)\u001b[0m \tTrain Epoch: 5 \tTrain_loss: 0.7191 | Train_acc: 74.2500 % | Validation_loss: 2.4701 | Validation_acc: 53.5714 %\n",
      "\u001b[36m(launch_and_fit pid=29448)\u001b[0m \tTrain Epoch: 6 \tTrain_loss: 0.6306 | Train_acc: 76.7000 % | Validation_loss: 2.6561 | Validation_acc: 47.0238 %\n"
     ]
    },
    {
     "name": "stderr",
     "output_type": "stream",
     "text": [
      " 60%|\u001b[34m██████    \u001b[0m| 6/10 [00:00<00:00, 11.16it/s]\n",
      " 80%|\u001b[34m████████  \u001b[0m| 8/10 [00:00<00:00, 11.47it/s]\n"
     ]
    },
    {
     "name": "stdout",
     "output_type": "stream",
     "text": [
      "\u001b[36m(launch_and_fit pid=29448)\u001b[0m \tTrain Epoch: 7 \tTrain_loss: 0.4738 | Train_acc: 85.3750 % | Validation_loss: 2.4234 | Validation_acc: 54.9107 %\n",
      "\u001b[36m(launch_and_fit pid=29448)\u001b[0m \tTrain Epoch: 8 \tTrain_loss: 0.4520 | Train_acc: 84.3750 % | Validation_loss: 3.0572 | Validation_acc: 52.2321 %\n",
      "\u001b[36m(launch_and_fit pid=29448)\u001b[0m \tTrain Epoch: 9 \tTrain_loss: 0.5043 | Train_acc: 81.2250 % | Validation_loss: 2.8949 | Validation_acc: 50.1488 %\n",
      "\u001b[36m(launch_and_fit pid=29448)\u001b[0m \tTrain Epoch: 10 \tTrain_loss: 0.4268 | Train_acc: 84.7000 % | Validation_loss: 2.2560 | Validation_acc: 57.4405 %\n",
      "\u001b[36m(launch_and_fit pid=29448)\u001b[0m save graph in  results/FL/\n"
     ]
    },
    {
     "name": "stderr",
     "output_type": "stream",
     "text": [
      "100%|\u001b[34m██████████\u001b[0m| 10/10 [00:00<00:00, 11.29it/s]\n"
     ]
    },
    {
     "name": "stdout",
     "output_type": "stream",
     "text": [
      "\u001b[36m(launch_and_fit pid=29448)\u001b[0m Run WITHOUT homomorphic encryption\n",
      "\u001b[36m(launch_and_fit pid=29448)\u001b[0m  To get the checkpoint\n",
      "\u001b[36m(launch_and_fit pid=29448)\u001b[0m [Client 1, round 22] fit, config: {'learning_rate': 0.003, 'batch_size': '16', 'server_round': 22, 'local_epochs': 10}\n",
      "\u001b[36m(launch_and_fit pid=29448)\u001b[0m Updated model\n",
      "\u001b[36m(launch_and_fit pid=29448)\u001b[0m \tTrain Epoch: 1 \tTrain_loss: 1.0317 | Train_acc: 66.6250 % | Validation_loss: 1.4776 | Validation_acc: 60.5655 %\n"
     ]
    },
    {
     "name": "stderr",
     "output_type": "stream",
     "text": [
      "  0%|\u001b[34m          \u001b[0m| 0/10 [00:00<?, ?it/s]\n",
      " 10%|\u001b[34m█         \u001b[0m| 1/10 [00:00<00:00,  9.80it/s]\n"
     ]
    },
    {
     "name": "stdout",
     "output_type": "stream",
     "text": [
      "\u001b[36m(launch_and_fit pid=29448)\u001b[0m \tTrain Epoch: 2 \tTrain_loss: 0.7505 | Train_acc: 72.8000 % | Validation_loss: 1.4632 | Validation_acc: 57.4405 %\n",
      "\u001b[36m(launch_and_fit pid=29448)\u001b[0m \tTrain Epoch: 3 \tTrain_loss: 0.6877 | Train_acc: 76.2250 % | Validation_loss: 1.4601 | Validation_acc: 59.5238 %\n"
     ]
    },
    {
     "name": "stderr",
     "output_type": "stream",
     "text": [
      " 20%|\u001b[34m██        \u001b[0m| 2/10 [00:00<00:00,  9.88it/s]\n"
     ]
    },
    {
     "name": "stdout",
     "output_type": "stream",
     "text": [
      "\u001b[36m(launch_and_fit pid=29448)\u001b[0m \tTrain Epoch: 4 \tTrain_loss: 0.5806 | Train_acc: 79.7000 % | Validation_loss: 1.4876 | Validation_acc: 63.9881 %\n",
      "\u001b[36m(launch_and_fit pid=29448)\u001b[0m \tTrain Epoch: 5 \tTrain_loss: 0.6388 | Train_acc: 77.6000 % | Validation_loss: 1.7077 | Validation_acc: 60.5655 %\n",
      "\u001b[36m(launch_and_fit pid=29448)\u001b[0m \tTrain Epoch: 6 \tTrain_loss: 0.5405 | Train_acc: 81.0750 % | Validation_loss: 1.9148 | Validation_acc: 62.6488 %\n"
     ]
    },
    {
     "name": "stderr",
     "output_type": "stream",
     "text": [
      " 40%|\u001b[34m████      \u001b[0m| 4/10 [00:00<00:00, 10.51it/s]\n",
      " 60%|\u001b[34m██████    \u001b[0m| 6/10 [00:00<00:00, 11.09it/s]\n"
     ]
    },
    {
     "name": "stdout",
     "output_type": "stream",
     "text": [
      "\u001b[36m(launch_and_fit pid=29448)\u001b[0m \tTrain Epoch: 7 \tTrain_loss: 0.4913 | Train_acc: 81.8500 % | Validation_loss: 1.5882 | Validation_acc: 65.7738 %\n",
      "\u001b[36m(launch_and_fit pid=29448)\u001b[0m \tTrain Epoch: 8 \tTrain_loss: 0.5247 | Train_acc: 80.3500 % | Validation_loss: 2.0181 | Validation_acc: 59.2262 %\n"
     ]
    },
    {
     "name": "stderr",
     "output_type": "stream",
     "text": [
      " 80%|\u001b[34m████████  \u001b[0m| 8/10 [00:00<00:00, 11.05it/s]\n",
      "100%|\u001b[34m██████████\u001b[0m| 10/10 [00:00<00:00, 10.99it/s]\n",
      "DEBUG flwr 2024-08-30 01:22:10,287 | server.py:236 | fit_round 22 received 4 results and 0 failures\n"
     ]
    },
    {
     "name": "stdout",
     "output_type": "stream",
     "text": [
      "\u001b[36m(launch_and_fit pid=29448)\u001b[0m \tTrain Epoch: 9 \tTrain_loss: 0.7170 | Train_acc: 74.0750 % | Validation_loss: 2.9896 | Validation_acc: 48.0655 %\n",
      "\u001b[36m(launch_and_fit pid=29448)\u001b[0m \tTrain Epoch: 10 \tTrain_loss: 0.9007 | Train_acc: 69.0500 % | Validation_loss: 1.7999 | Validation_acc: 52.2321 %\n",
      "\u001b[36m(launch_and_fit pid=29448)\u001b[0m save graph in  results/FL/\n"
     ]
    },
    {
     "name": "stderr",
     "output_type": "stream",
     "text": [
      "INFO flwr 2024-08-30 01:22:10,350 | server.py:125 | fit progress: (22, 1.8289619499986822, {'accuracy': 62.84090909090909}, 339.62284593097866)\n",
      "DEBUG flwr 2024-08-30 01:22:10,352 | server.py:173 | evaluate_round 22: strategy sampled 4 clients (out of 4)\n"
     ]
    },
    {
     "name": "stdout",
     "output_type": "stream",
     "text": [
      "Saving round 22 aggregated_parameters...\n",
      "Updated model\n",
      "Server-side evaluation loss 1.8289619499986822 / accuracy 62.84090909090909\n",
      "\u001b[36m(launch_and_evaluate pid=29448)\u001b[0m Run WITHOUT homomorphic encryption\n",
      "\u001b[36m(launch_and_evaluate pid=29448)\u001b[0m  To get the checkpoint\n",
      "\u001b[36m(launch_and_evaluate pid=29448)\u001b[0m [Client 1] evaluate, config: {}\n",
      "\u001b[36m(launch_and_evaluate pid=29448)\u001b[0m Updated model\n",
      "\u001b[36m(launch_and_evaluate pid=29448)\u001b[0m Run WITHOUT homomorphic encryption\n",
      "\u001b[36m(launch_and_evaluate pid=29448)\u001b[0m  To get the checkpoint\n",
      "\u001b[36m(launch_and_evaluate pid=29448)\u001b[0m [Client 2] evaluate, config: {}\n",
      "\u001b[36m(launch_and_evaluate pid=29448)\u001b[0m Updated model\n",
      "\u001b[36m(launch_and_evaluate pid=29448)\u001b[0m Run WITHOUT homomorphic encryption\n",
      "\u001b[36m(launch_and_evaluate pid=29448)\u001b[0m  To get the checkpoint\n",
      "\u001b[36m(launch_and_evaluate pid=29448)\u001b[0m [Client 0] evaluate, config: {}\n",
      "\u001b[36m(launch_and_evaluate pid=29448)\u001b[0m Updated model\n",
      "\u001b[36m(launch_and_evaluate pid=29448)\u001b[0m Run WITHOUT homomorphic encryption\n",
      "\u001b[36m(launch_and_evaluate pid=29448)\u001b[0m  To get the checkpoint\n",
      "\u001b[36m(launch_and_evaluate pid=29448)\u001b[0m [Client 3] evaluate, config: {}\n",
      "\u001b[36m(launch_and_evaluate pid=29448)\u001b[0m Updated model\n"
     ]
    },
    {
     "name": "stderr",
     "output_type": "stream",
     "text": [
      "DEBUG flwr 2024-08-30 01:22:12,534 | server.py:187 | evaluate_round 22 received 4 results and 0 failures\n",
      "DEBUG flwr 2024-08-30 01:22:12,534 | server.py:222 | fit_round 23: strategy sampled 4 clients (out of 4)\n"
     ]
    },
    {
     "name": "stdout",
     "output_type": "stream",
     "text": [
      "\u001b[36m(launch_and_fit pid=29448)\u001b[0m Run WITHOUT homomorphic encryption\n",
      "\u001b[36m(launch_and_fit pid=29448)\u001b[0m  To get the checkpoint\n",
      "\u001b[36m(launch_and_fit pid=29448)\u001b[0m [Client 3, round 23] fit, config: {'learning_rate': 0.003, 'batch_size': '16', 'server_round': 23, 'local_epochs': 10}\n",
      "\u001b[36m(launch_and_fit pid=29448)\u001b[0m Updated model\n",
      "\u001b[36m(launch_and_fit pid=29448)\u001b[0m \tTrain Epoch: 1 \tTrain_loss: 0.9021 | Train_acc: 71.1000 % | Validation_loss: 1.9443 | Validation_acc: 56.8452 %\n"
     ]
    },
    {
     "name": "stderr",
     "output_type": "stream",
     "text": [
      "  0%|\u001b[34m          \u001b[0m| 0/10 [00:00<?, ?it/s]\n"
     ]
    },
    {
     "name": "stdout",
     "output_type": "stream",
     "text": [
      "\u001b[36m(launch_and_fit pid=29448)\u001b[0m \tTrain Epoch: 2 \tTrain_loss: 0.6201 | Train_acc: 77.1250 % | Validation_loss: 2.2302 | Validation_acc: 57.1429 %\n",
      "\u001b[36m(launch_and_fit pid=29448)\u001b[0m \tTrain Epoch: 3 \tTrain_loss: 0.5351 | Train_acc: 81.2500 % | Validation_loss: 1.7928 | Validation_acc: 58.1845 %\n"
     ]
    },
    {
     "name": "stderr",
     "output_type": "stream",
     "text": [
      " 20%|\u001b[34m██        \u001b[0m| 2/10 [00:00<00:00, 10.95it/s]\n"
     ]
    },
    {
     "name": "stdout",
     "output_type": "stream",
     "text": [
      "\u001b[36m(launch_and_fit pid=29448)\u001b[0m \tTrain Epoch: 4 \tTrain_loss: 0.5304 | Train_acc: 80.4250 % | Validation_loss: 2.3624 | Validation_acc: 60.2679 %\n",
      "\u001b[36m(launch_and_fit pid=29448)\u001b[0m \tTrain Epoch: 5 \tTrain_loss: 0.5576 | Train_acc: 80.1000 % | Validation_loss: 2.0854 | Validation_acc: 58.1845 %\n",
      "\u001b[36m(launch_and_fit pid=29448)\u001b[0m \tTrain Epoch: 6 \tTrain_loss: 0.4883 | Train_acc: 82.4750 % | Validation_loss: 2.1951 | Validation_acc: 58.1845 %\n"
     ]
    },
    {
     "name": "stderr",
     "output_type": "stream",
     "text": [
      " 40%|\u001b[34m████      \u001b[0m| 4/10 [00:00<00:00, 10.54it/s]\n",
      " 60%|\u001b[34m██████    \u001b[0m| 6/10 [00:00<00:00, 10.90it/s]\n"
     ]
    },
    {
     "name": "stdout",
     "output_type": "stream",
     "text": [
      "\u001b[36m(launch_and_fit pid=29448)\u001b[0m \tTrain Epoch: 7 \tTrain_loss: 0.4548 | Train_acc: 84.1000 % | Validation_loss: 1.7076 | Validation_acc: 57.1429 %\n",
      "\u001b[36m(launch_and_fit pid=29448)\u001b[0m \tTrain Epoch: 8 \tTrain_loss: 0.5661 | Train_acc: 80.9250 % | Validation_loss: 1.9880 | Validation_acc: 49.8512 %\n"
     ]
    },
    {
     "name": "stderr",
     "output_type": "stream",
     "text": [
      " 80%|\u001b[34m████████  \u001b[0m| 8/10 [00:00<00:00, 11.18it/s]\n"
     ]
    },
    {
     "name": "stdout",
     "output_type": "stream",
     "text": [
      "\u001b[36m(launch_and_fit pid=29448)\u001b[0m \tTrain Epoch: 9 \tTrain_loss: 0.6935 | Train_acc: 74.3500 % | Validation_loss: 1.6534 | Validation_acc: 50.8929 %\n",
      "\u001b[36m(launch_and_fit pid=29448)\u001b[0m \tTrain Epoch: 10 \tTrain_loss: 0.5599 | Train_acc: 78.5000 % | Validation_loss: 1.8764 | Validation_acc: 59.2262 %\n",
      "\u001b[36m(launch_and_fit pid=29448)\u001b[0m save graph in  results/FL/\n"
     ]
    },
    {
     "name": "stderr",
     "output_type": "stream",
     "text": [
      "100%|\u001b[34m██████████\u001b[0m| 10/10 [00:00<00:00, 11.01it/s]\n"
     ]
    },
    {
     "name": "stdout",
     "output_type": "stream",
     "text": [
      "\u001b[36m(launch_and_fit pid=29448)\u001b[0m Run WITHOUT homomorphic encryption\n",
      "\u001b[36m(launch_and_fit pid=29448)\u001b[0m  To get the checkpoint\n",
      "\u001b[36m(launch_and_fit pid=29448)\u001b[0m [Client 2, round 23] fit, config: {'learning_rate': 0.003, 'batch_size': '16', 'server_round': 23, 'local_epochs': 10}\n",
      "\u001b[36m(launch_and_fit pid=29448)\u001b[0m Updated model\n",
      "\u001b[36m(launch_and_fit pid=29448)\u001b[0m \tTrain Epoch: 1 \tTrain_loss: 1.1312 | Train_acc: 67.7500 % | Validation_loss: 1.2154 | Validation_acc: 66.0714 %\n",
      "\u001b[36m(launch_and_fit pid=29448)\u001b[0m \tTrain Epoch: 2 \tTrain_loss: 0.7179 | Train_acc: 74.1500 % | Validation_loss: 1.3738 | Validation_acc: 57.7381 %\n"
     ]
    },
    {
     "name": "stderr",
     "output_type": "stream",
     "text": [
      "  0%|\u001b[34m          \u001b[0m| 0/10 [00:00<?, ?it/s]\n",
      " 20%|\u001b[34m██        \u001b[0m| 2/10 [00:00<00:00, 12.14it/s]\n"
     ]
    },
    {
     "name": "stdout",
     "output_type": "stream",
     "text": [
      "\u001b[36m(launch_and_fit pid=29448)\u001b[0m \tTrain Epoch: 3 \tTrain_loss: 0.6223 | Train_acc: 76.9500 % | Validation_loss: 1.4076 | Validation_acc: 60.8631 %\n",
      "\u001b[36m(launch_and_fit pid=29448)\u001b[0m \tTrain Epoch: 4 \tTrain_loss: 0.5808 | Train_acc: 78.6750 % | Validation_loss: 1.3003 | Validation_acc: 63.9881 %\n"
     ]
    },
    {
     "name": "stderr",
     "output_type": "stream",
     "text": [
      " 40%|\u001b[34m████      \u001b[0m| 4/10 [00:00<00:00, 11.78it/s]\n"
     ]
    },
    {
     "name": "stdout",
     "output_type": "stream",
     "text": [
      "\u001b[36m(launch_and_fit pid=29448)\u001b[0m \tTrain Epoch: 5 \tTrain_loss: 0.5581 | Train_acc: 79.8500 % | Validation_loss: 1.2247 | Validation_acc: 63.9881 %\n",
      "\u001b[36m(launch_and_fit pid=29448)\u001b[0m \tTrain Epoch: 6 \tTrain_loss: 0.5114 | Train_acc: 82.1250 % | Validation_loss: 1.3778 | Validation_acc: 59.8214 %\n",
      "\u001b[36m(launch_and_fit pid=29448)\u001b[0m \tTrain Epoch: 7 \tTrain_loss: 0.4165 | Train_acc: 84.5750 % | Validation_loss: 1.4012 | Validation_acc: 63.9881 %\n"
     ]
    },
    {
     "name": "stderr",
     "output_type": "stream",
     "text": [
      " 60%|\u001b[34m██████    \u001b[0m| 6/10 [00:00<00:00, 12.01it/s]\n",
      " 80%|\u001b[34m████████  \u001b[0m| 8/10 [00:00<00:00, 11.72it/s]\n"
     ]
    },
    {
     "name": "stdout",
     "output_type": "stream",
     "text": [
      "\u001b[36m(launch_and_fit pid=29448)\u001b[0m \tTrain Epoch: 8 \tTrain_loss: 0.3742 | Train_acc: 87.7500 % | Validation_loss: 1.4994 | Validation_acc: 61.9048 %\n",
      "\u001b[36m(launch_and_fit pid=29448)\u001b[0m \tTrain Epoch: 9 \tTrain_loss: 0.3721 | Train_acc: 86.3750 % | Validation_loss: 1.5305 | Validation_acc: 65.0298 %\n",
      "\u001b[36m(launch_and_fit pid=29448)\u001b[0m \tTrain Epoch: 10 \tTrain_loss: 0.4220 | Train_acc: 84.6250 % | Validation_loss: 1.8585 | Validation_acc: 63.9881 %\n",
      "\u001b[36m(launch_and_fit pid=29448)\u001b[0m save graph in  results/FL/\n"
     ]
    },
    {
     "name": "stderr",
     "output_type": "stream",
     "text": [
      "100%|\u001b[34m██████████\u001b[0m| 10/10 [00:00<00:00, 11.70it/s]\n"
     ]
    },
    {
     "name": "stdout",
     "output_type": "stream",
     "text": [
      "\u001b[36m(launch_and_fit pid=29448)\u001b[0m Run WITHOUT homomorphic encryption\n",
      "\u001b[36m(launch_and_fit pid=29448)\u001b[0m  To get the checkpoint\n",
      "\u001b[36m(launch_and_fit pid=29448)\u001b[0m [Client 0, round 23] fit, config: {'learning_rate': 0.003, 'batch_size': '16', 'server_round': 23, 'local_epochs': 10}\n",
      "\u001b[36m(launch_and_fit pid=29448)\u001b[0m Updated model\n",
      "\u001b[36m(launch_and_fit pid=29448)\u001b[0m \tTrain Epoch: 1 \tTrain_loss: 0.8930 | Train_acc: 69.4250 % | Validation_loss: 2.3515 | Validation_acc: 55.9524 %\n",
      "\u001b[36m(launch_and_fit pid=29448)\u001b[0m \tTrain Epoch: 2 \tTrain_loss: 0.8229 | Train_acc: 73.3000 % | Validation_loss: 2.4032 | Validation_acc: 45.2381 %\n"
     ]
    },
    {
     "name": "stderr",
     "output_type": "stream",
     "text": [
      "  0%|\u001b[34m          \u001b[0m| 0/10 [00:00<?, ?it/s]\n",
      " 20%|\u001b[34m██        \u001b[0m| 2/10 [00:00<00:00, 11.78it/s]\n"
     ]
    },
    {
     "name": "stdout",
     "output_type": "stream",
     "text": [
      "\u001b[36m(launch_and_fit pid=29448)\u001b[0m \tTrain Epoch: 3 \tTrain_loss: 0.6323 | Train_acc: 77.7000 % | Validation_loss: 2.0999 | Validation_acc: 51.4881 %\n",
      "\u001b[36m(launch_and_fit pid=29448)\u001b[0m \tTrain Epoch: 4 \tTrain_loss: 0.5553 | Train_acc: 79.4500 % | Validation_loss: 2.1615 | Validation_acc: 59.0774 %\n"
     ]
    },
    {
     "name": "stderr",
     "output_type": "stream",
     "text": [
      " 40%|\u001b[34m████      \u001b[0m| 4/10 [00:00<00:00, 11.65it/s]\n"
     ]
    },
    {
     "name": "stdout",
     "output_type": "stream",
     "text": [
      "\u001b[36m(launch_and_fit pid=29448)\u001b[0m \tTrain Epoch: 5 \tTrain_loss: 0.4726 | Train_acc: 83.1000 % | Validation_loss: 2.4849 | Validation_acc: 53.5714 %\n",
      "\u001b[36m(launch_and_fit pid=29448)\u001b[0m \tTrain Epoch: 6 \tTrain_loss: 0.6122 | Train_acc: 78.1000 % | Validation_loss: 2.3533 | Validation_acc: 54.9107 %\n"
     ]
    },
    {
     "name": "stderr",
     "output_type": "stream",
     "text": [
      " 60%|\u001b[34m██████    \u001b[0m| 6/10 [00:00<00:00, 11.64it/s]\n",
      " 80%|\u001b[34m████████  \u001b[0m| 8/10 [00:00<00:00, 11.59it/s]\n"
     ]
    },
    {
     "name": "stdout",
     "output_type": "stream",
     "text": [
      "\u001b[36m(launch_and_fit pid=29448)\u001b[0m \tTrain Epoch: 7 \tTrain_loss: 0.5747 | Train_acc: 79.4750 % | Validation_loss: 2.0392 | Validation_acc: 57.7381 %\n",
      "\u001b[36m(launch_and_fit pid=29448)\u001b[0m \tTrain Epoch: 8 \tTrain_loss: 0.4493 | Train_acc: 86.3500 % | Validation_loss: 2.5347 | Validation_acc: 55.6548 %\n",
      "\u001b[36m(launch_and_fit pid=29448)\u001b[0m \tTrain Epoch: 9 \tTrain_loss: 0.4646 | Train_acc: 84.0000 % | Validation_loss: 2.6174 | Validation_acc: 52.8274 %\n",
      "\u001b[36m(launch_and_fit pid=29448)\u001b[0m \tTrain Epoch: 10 \tTrain_loss: 0.5026 | Train_acc: 83.8250 % | Validation_loss: 3.0584 | Validation_acc: 56.9940 %\n",
      "\u001b[36m(launch_and_fit pid=29448)\u001b[0m save graph in  results/FL/\n"
     ]
    },
    {
     "name": "stderr",
     "output_type": "stream",
     "text": [
      "100%|\u001b[34m██████████\u001b[0m| 10/10 [00:00<00:00, 11.52it/s]\n"
     ]
    },
    {
     "name": "stdout",
     "output_type": "stream",
     "text": [
      "\u001b[36m(launch_and_fit pid=29448)\u001b[0m Run WITHOUT homomorphic encryption\n",
      "\u001b[36m(launch_and_fit pid=29448)\u001b[0m  To get the checkpoint\n",
      "\u001b[36m(launch_and_fit pid=29448)\u001b[0m [Client 1, round 23] fit, config: {'learning_rate': 0.003, 'batch_size': '16', 'server_round': 23, 'local_epochs': 10}\n",
      "\u001b[36m(launch_and_fit pid=29448)\u001b[0m Updated model\n",
      "\u001b[36m(launch_and_fit pid=29448)\u001b[0m \tTrain Epoch: 1 \tTrain_loss: 0.9464 | Train_acc: 71.1250 % | Validation_loss: 1.8363 | Validation_acc: 60.5655 %\n"
     ]
    },
    {
     "name": "stderr",
     "output_type": "stream",
     "text": [
      "  0%|\u001b[34m          \u001b[0m| 0/10 [00:00<?, ?it/s]\n"
     ]
    },
    {
     "name": "stdout",
     "output_type": "stream",
     "text": [
      "\u001b[36m(launch_and_fit pid=29448)\u001b[0m \tTrain Epoch: 2 \tTrain_loss: 0.7496 | Train_acc: 74.2750 % | Validation_loss: 1.6116 | Validation_acc: 59.5238 %\n",
      "\u001b[36m(launch_and_fit pid=29448)\u001b[0m \tTrain Epoch: 3 \tTrain_loss: 0.6868 | Train_acc: 74.2000 % | Validation_loss: 1.7419 | Validation_acc: 62.6488 %\n",
      "\u001b[36m(launch_and_fit pid=29448)\u001b[0m \tTrain Epoch: 4 \tTrain_loss: 0.6793 | Train_acc: 75.7000 % | Validation_loss: 2.3687 | Validation_acc: 58.4821 %\n"
     ]
    },
    {
     "name": "stderr",
     "output_type": "stream",
     "text": [
      " 20%|\u001b[34m██        \u001b[0m| 2/10 [00:00<00:00, 10.70it/s]\n",
      " 40%|\u001b[34m████      \u001b[0m| 4/10 [00:00<00:00, 11.10it/s]\n"
     ]
    },
    {
     "name": "stdout",
     "output_type": "stream",
     "text": [
      "\u001b[36m(launch_and_fit pid=29448)\u001b[0m \tTrain Epoch: 5 \tTrain_loss: 0.6174 | Train_acc: 78.7000 % | Validation_loss: 1.7567 | Validation_acc: 58.4821 %\n",
      "\u001b[36m(launch_and_fit pid=29448)\u001b[0m \tTrain Epoch: 6 \tTrain_loss: 0.5183 | Train_acc: 81.2000 % | Validation_loss: 1.7913 | Validation_acc: 61.6071 %\n"
     ]
    },
    {
     "name": "stderr",
     "output_type": "stream",
     "text": [
      " 60%|\u001b[34m██████    \u001b[0m| 6/10 [00:00<00:00, 11.20it/s]\n"
     ]
    },
    {
     "name": "stdout",
     "output_type": "stream",
     "text": [
      "\u001b[36m(launch_and_fit pid=29448)\u001b[0m \tTrain Epoch: 7 \tTrain_loss: 0.4711 | Train_acc: 83.8250 % | Validation_loss: 2.1638 | Validation_acc: 60.5655 %\n",
      "\u001b[36m(launch_and_fit pid=29448)\u001b[0m \tTrain Epoch: 8 \tTrain_loss: 0.4933 | Train_acc: 81.3250 % | Validation_loss: 1.8307 | Validation_acc: 62.6488 %\n"
     ]
    },
    {
     "name": "stderr",
     "output_type": "stream",
     "text": [
      " 80%|\u001b[34m████████  \u001b[0m| 8/10 [00:00<00:00, 11.45it/s]\n",
      "100%|\u001b[34m██████████\u001b[0m| 10/10 [00:00<00:00, 11.29it/s]\n",
      "DEBUG flwr 2024-08-30 01:22:17,598 | server.py:236 | fit_round 23 received 4 results and 0 failures\n"
     ]
    },
    {
     "name": "stdout",
     "output_type": "stream",
     "text": [
      "\u001b[36m(launch_and_fit pid=29448)\u001b[0m \tTrain Epoch: 9 \tTrain_loss: 0.4124 | Train_acc: 86.2250 % | Validation_loss: 1.8881 | Validation_acc: 54.0179 %\n",
      "\u001b[36m(launch_and_fit pid=29448)\u001b[0m \tTrain Epoch: 10 \tTrain_loss: 0.5183 | Train_acc: 81.6000 % | Validation_loss: 2.4047 | Validation_acc: 60.8631 %\n",
      "\u001b[36m(launch_and_fit pid=29448)\u001b[0m save graph in  results/FL/\n",
      "Saving round 23 aggregated_parameters...\n"
     ]
    },
    {
     "name": "stderr",
     "output_type": "stream",
     "text": [
      "INFO flwr 2024-08-30 01:22:17,661 | server.py:125 | fit progress: (23, 1.9481402440504594, {'accuracy': 65.41666666666667}, 346.93322946922854)\n",
      "DEBUG flwr 2024-08-30 01:22:17,661 | server.py:173 | evaluate_round 23: strategy sampled 4 clients (out of 4)\n"
     ]
    },
    {
     "name": "stdout",
     "output_type": "stream",
     "text": [
      "Updated model\n",
      "Server-side evaluation loss 1.9481402440504594 / accuracy 65.41666666666667\n",
      "\u001b[36m(launch_and_evaluate pid=29448)\u001b[0m Run WITHOUT homomorphic encryption\n",
      "\u001b[36m(launch_and_evaluate pid=29448)\u001b[0m  To get the checkpoint\n",
      "\u001b[36m(launch_and_evaluate pid=29448)\u001b[0m [Client 2] evaluate, config: {}\n",
      "\u001b[36m(launch_and_evaluate pid=29448)\u001b[0m Updated model\n",
      "\u001b[36m(launch_and_evaluate pid=29448)\u001b[0m Run WITHOUT homomorphic encryption\n",
      "\u001b[36m(launch_and_evaluate pid=29448)\u001b[0m  To get the checkpoint\n",
      "\u001b[36m(launch_and_evaluate pid=29448)\u001b[0m [Client 3] evaluate, config: {}\n",
      "\u001b[36m(launch_and_evaluate pid=29448)\u001b[0m Updated model\n",
      "\u001b[36m(launch_and_evaluate pid=29448)\u001b[0m Run WITHOUT homomorphic encryption\n",
      "\u001b[36m(launch_and_evaluate pid=29448)\u001b[0m  To get the checkpoint\n",
      "\u001b[36m(launch_and_evaluate pid=29448)\u001b[0m [Client 1] evaluate, config: {}\n",
      "\u001b[36m(launch_and_evaluate pid=29448)\u001b[0m Updated model\n",
      "\u001b[36m(launch_and_evaluate pid=29448)\u001b[0m Run WITHOUT homomorphic encryption\n",
      "\u001b[36m(launch_and_evaluate pid=29448)\u001b[0m  To get the checkpoint\n",
      "\u001b[36m(launch_and_evaluate pid=29448)\u001b[0m [Client 0] evaluate, config: {}\n",
      "\u001b[36m(launch_and_evaluate pid=29448)\u001b[0m Updated model\n"
     ]
    },
    {
     "name": "stderr",
     "output_type": "stream",
     "text": [
      "DEBUG flwr 2024-08-30 01:22:19,820 | server.py:187 | evaluate_round 23 received 4 results and 0 failures\n",
      "DEBUG flwr 2024-08-30 01:22:19,820 | server.py:222 | fit_round 24: strategy sampled 4 clients (out of 4)\n"
     ]
    },
    {
     "name": "stdout",
     "output_type": "stream",
     "text": [
      "\u001b[36m(launch_and_fit pid=29448)\u001b[0m Run WITHOUT homomorphic encryption\n",
      "\u001b[36m(launch_and_fit pid=29448)\u001b[0m  To get the checkpoint\n",
      "\u001b[36m(launch_and_fit pid=29448)\u001b[0m [Client 3, round 24] fit, config: {'learning_rate': 0.003, 'batch_size': '16', 'server_round': 24, 'local_epochs': 10}\n",
      "\u001b[36m(launch_and_fit pid=29448)\u001b[0m Updated model\n",
      "\u001b[36m(launch_and_fit pid=29448)\u001b[0m \tTrain Epoch: 1 \tTrain_loss: 0.7878 | Train_acc: 74.6250 % | Validation_loss: 1.9246 | Validation_acc: 54.0179 %\n"
     ]
    },
    {
     "name": "stderr",
     "output_type": "stream",
     "text": [
      "  0%|\u001b[34m          \u001b[0m| 0/10 [00:00<?, ?it/s]\n",
      " 10%|\u001b[34m█         \u001b[0m| 1/10 [00:00<00:00,  9.96it/s]\n"
     ]
    },
    {
     "name": "stdout",
     "output_type": "stream",
     "text": [
      "\u001b[36m(launch_and_fit pid=29448)\u001b[0m \tTrain Epoch: 2 \tTrain_loss: 0.6660 | Train_acc: 78.6000 % | Validation_loss: 2.2595 | Validation_acc: 54.0179 %\n",
      "\u001b[36m(launch_and_fit pid=29448)\u001b[0m \tTrain Epoch: 3 \tTrain_loss: 0.5530 | Train_acc: 80.1000 % | Validation_loss: 2.2582 | Validation_acc: 62.6488 %\n"
     ]
    },
    {
     "name": "stderr",
     "output_type": "stream",
     "text": [
      " 20%|\u001b[34m██        \u001b[0m| 2/10 [00:00<00:00,  9.96it/s]\n"
     ]
    },
    {
     "name": "stdout",
     "output_type": "stream",
     "text": [
      "\u001b[36m(launch_and_fit pid=29448)\u001b[0m \tTrain Epoch: 4 \tTrain_loss: 0.4784 | Train_acc: 83.0000 % | Validation_loss: 2.5946 | Validation_acc: 60.5655 %\n",
      "\u001b[36m(launch_and_fit pid=29448)\u001b[0m \tTrain Epoch: 5 \tTrain_loss: 0.5374 | Train_acc: 80.4500 % | Validation_loss: 1.9799 | Validation_acc: 61.3095 %\n",
      "\u001b[36m(launch_and_fit pid=29448)\u001b[0m \tTrain Epoch: 6 \tTrain_loss: 0.5751 | Train_acc: 79.6000 % | Validation_loss: 2.1040 | Validation_acc: 54.0179 %\n"
     ]
    },
    {
     "name": "stderr",
     "output_type": "stream",
     "text": [
      " 40%|\u001b[34m████      \u001b[0m| 4/10 [00:00<00:00, 10.73it/s]\n",
      " 60%|\u001b[34m██████    \u001b[0m| 6/10 [00:00<00:00, 10.57it/s]\n"
     ]
    },
    {
     "name": "stdout",
     "output_type": "stream",
     "text": [
      "\u001b[36m(launch_and_fit pid=29448)\u001b[0m \tTrain Epoch: 7 \tTrain_loss: 0.3933 | Train_acc: 86.6250 % | Validation_loss: 2.5298 | Validation_acc: 57.1429 %\n",
      "\u001b[36m(launch_and_fit pid=29448)\u001b[0m \tTrain Epoch: 8 \tTrain_loss: 0.3548 | Train_acc: 87.1250 % | Validation_loss: 2.0251 | Validation_acc: 59.2262 %\n"
     ]
    },
    {
     "name": "stderr",
     "output_type": "stream",
     "text": [
      " 80%|\u001b[34m████████  \u001b[0m| 8/10 [00:00<00:00, 10.88it/s]\n"
     ]
    },
    {
     "name": "stdout",
     "output_type": "stream",
     "text": [
      "\u001b[36m(launch_and_fit pid=29448)\u001b[0m \tTrain Epoch: 9 \tTrain_loss: 0.3106 | Train_acc: 89.0000 % | Validation_loss: 2.7824 | Validation_acc: 60.2679 %\n",
      "\u001b[36m(launch_and_fit pid=29448)\u001b[0m \tTrain Epoch: 10 \tTrain_loss: 0.3268 | Train_acc: 89.0000 % | Validation_loss: 1.5636 | Validation_acc: 57.1429 %\n",
      "\u001b[36m(launch_and_fit pid=29448)\u001b[0m save graph in  results/FL/\n"
     ]
    },
    {
     "name": "stderr",
     "output_type": "stream",
     "text": [
      "100%|\u001b[34m██████████\u001b[0m| 10/10 [00:00<00:00, 10.78it/s]\n"
     ]
    },
    {
     "name": "stdout",
     "output_type": "stream",
     "text": [
      "\u001b[36m(launch_and_fit pid=29448)\u001b[0m Run WITHOUT homomorphic encryption\n",
      "\u001b[36m(launch_and_fit pid=29448)\u001b[0m  To get the checkpoint\n",
      "\u001b[36m(launch_and_fit pid=29448)\u001b[0m [Client 1, round 24] fit, config: {'learning_rate': 0.003, 'batch_size': '16', 'server_round': 24, 'local_epochs': 10}\n",
      "\u001b[36m(launch_and_fit pid=29448)\u001b[0m Updated model\n"
     ]
    },
    {
     "name": "stderr",
     "output_type": "stream",
     "text": [
      "  0%|\u001b[34m          \u001b[0m| 0/10 [00:00<?, ?it/s]\n"
     ]
    },
    {
     "name": "stdout",
     "output_type": "stream",
     "text": [
      "\u001b[36m(launch_and_fit pid=29448)\u001b[0m \tTrain Epoch: 1 \tTrain_loss: 0.9361 | Train_acc: 70.4250 % | Validation_loss: 1.4004 | Validation_acc: 56.6964 %\n",
      "\u001b[36m(launch_and_fit pid=29448)\u001b[0m \tTrain Epoch: 2 \tTrain_loss: 0.6336 | Train_acc: 76.8750 % | Validation_loss: 1.8971 | Validation_acc: 59.5238 %\n"
     ]
    },
    {
     "name": "stderr",
     "output_type": "stream",
     "text": [
      " 20%|\u001b[34m██        \u001b[0m| 2/10 [00:00<00:00, 11.01it/s]\n"
     ]
    },
    {
     "name": "stdout",
     "output_type": "stream",
     "text": [
      "\u001b[36m(launch_and_fit pid=29448)\u001b[0m \tTrain Epoch: 3 \tTrain_loss: 0.6052 | Train_acc: 78.8250 % | Validation_loss: 1.9548 | Validation_acc: 67.8571 %\n",
      "\u001b[36m(launch_and_fit pid=29448)\u001b[0m \tTrain Epoch: 4 \tTrain_loss: 0.6197 | Train_acc: 78.1250 % | Validation_loss: 1.7002 | Validation_acc: 61.6071 %\n"
     ]
    },
    {
     "name": "stderr",
     "output_type": "stream",
     "text": [
      " 40%|\u001b[34m████      \u001b[0m| 4/10 [00:00<00:00, 11.34it/s]\n"
     ]
    },
    {
     "name": "stdout",
     "output_type": "stream",
     "text": [
      "\u001b[36m(launch_and_fit pid=29448)\u001b[0m \tTrain Epoch: 5 \tTrain_loss: 0.4927 | Train_acc: 81.1000 % | Validation_loss: 2.4613 | Validation_acc: 56.1012 %\n",
      "\u001b[36m(launch_and_fit pid=29448)\u001b[0m \tTrain Epoch: 6 \tTrain_loss: 0.5913 | Train_acc: 79.1250 % | Validation_loss: 1.8756 | Validation_acc: 63.9881 %\n"
     ]
    },
    {
     "name": "stderr",
     "output_type": "stream",
     "text": [
      " 60%|\u001b[34m██████    \u001b[0m| 6/10 [00:00<00:00, 11.11it/s]\n",
      " 80%|\u001b[34m████████  \u001b[0m| 8/10 [00:00<00:00, 11.26it/s]\n"
     ]
    },
    {
     "name": "stdout",
     "output_type": "stream",
     "text": [
      "\u001b[36m(launch_and_fit pid=29448)\u001b[0m \tTrain Epoch: 7 \tTrain_loss: 0.4491 | Train_acc: 84.1000 % | Validation_loss: 2.2426 | Validation_acc: 57.4405 %\n",
      "\u001b[36m(launch_and_fit pid=29448)\u001b[0m \tTrain Epoch: 8 \tTrain_loss: 0.4687 | Train_acc: 84.0000 % | Validation_loss: 2.0635 | Validation_acc: 59.2262 %\n",
      "\u001b[36m(launch_and_fit pid=29448)\u001b[0m \tTrain Epoch: 9 \tTrain_loss: 0.4025 | Train_acc: 85.1250 % | Validation_loss: 2.5801 | Validation_acc: 59.5238 %\n",
      "\u001b[36m(launch_and_fit pid=29448)\u001b[0m \tTrain Epoch: 10 \tTrain_loss: 0.4302 | Train_acc: 85.7250 % | Validation_loss: 2.1271 | Validation_acc: 63.6905 %\n",
      "\u001b[36m(launch_and_fit pid=29448)\u001b[0m save graph in  results/FL/\n"
     ]
    },
    {
     "name": "stderr",
     "output_type": "stream",
     "text": [
      "100%|\u001b[34m██████████\u001b[0m| 10/10 [00:00<00:00, 11.26it/s]\n"
     ]
    },
    {
     "name": "stdout",
     "output_type": "stream",
     "text": [
      "\u001b[36m(launch_and_fit pid=29448)\u001b[0m Run WITHOUT homomorphic encryption\n",
      "\u001b[36m(launch_and_fit pid=29448)\u001b[0m  To get the checkpoint\n",
      "\u001b[36m(launch_and_fit pid=29448)\u001b[0m [Client 0, round 24] fit, config: {'learning_rate': 0.003, 'batch_size': '16', 'server_round': 24, 'local_epochs': 10}\n",
      "\u001b[36m(launch_and_fit pid=29448)\u001b[0m Updated model\n",
      "\u001b[36m(launch_and_fit pid=29448)\u001b[0m \tTrain Epoch: 1 \tTrain_loss: 0.7740 | Train_acc: 74.2250 % | Validation_loss: 2.3253 | Validation_acc: 52.5298 %\n"
     ]
    },
    {
     "name": "stderr",
     "output_type": "stream",
     "text": [
      "  0%|\u001b[34m          \u001b[0m| 0/10 [00:00<?, ?it/s]\n"
     ]
    },
    {
     "name": "stdout",
     "output_type": "stream",
     "text": [
      "\u001b[36m(launch_and_fit pid=29448)\u001b[0m \tTrain Epoch: 2 \tTrain_loss: 0.5608 | Train_acc: 79.9750 % | Validation_loss: 2.2589 | Validation_acc: 52.5298 %\n",
      "\u001b[36m(launch_and_fit pid=29448)\u001b[0m \tTrain Epoch: 3 \tTrain_loss: 0.6525 | Train_acc: 77.4500 % | Validation_loss: 2.4456 | Validation_acc: 54.6131 %\n",
      "\u001b[36m(launch_and_fit pid=29448)\u001b[0m \tTrain Epoch: 4 \tTrain_loss: 0.7062 | Train_acc: 75.2250 % | Validation_loss: 2.1533 | Validation_acc: 55.9524 %\n"
     ]
    },
    {
     "name": "stderr",
     "output_type": "stream",
     "text": [
      " 20%|\u001b[34m██        \u001b[0m| 2/10 [00:00<00:00, 11.59it/s]\n",
      " 40%|\u001b[34m████      \u001b[0m| 4/10 [00:00<00:00, 11.35it/s]\n"
     ]
    },
    {
     "name": "stdout",
     "output_type": "stream",
     "text": [
      "\u001b[36m(launch_and_fit pid=29448)\u001b[0m \tTrain Epoch: 5 \tTrain_loss: 0.5358 | Train_acc: 81.9750 % | Validation_loss: 2.4727 | Validation_acc: 54.9107 %\n",
      "\u001b[36m(launch_and_fit pid=29448)\u001b[0m \tTrain Epoch: 6 \tTrain_loss: 0.4526 | Train_acc: 85.1250 % | Validation_loss: 2.6256 | Validation_acc: 56.6964 %\n"
     ]
    },
    {
     "name": "stderr",
     "output_type": "stream",
     "text": [
      " 60%|\u001b[34m██████    \u001b[0m| 6/10 [00:00<00:00, 11.62it/s]\n"
     ]
    },
    {
     "name": "stdout",
     "output_type": "stream",
     "text": [
      "\u001b[36m(launch_and_fit pid=29448)\u001b[0m \tTrain Epoch: 7 \tTrain_loss: 0.4193 | Train_acc: 86.5000 % | Validation_loss: 2.7605 | Validation_acc: 55.9524 %\n",
      "\u001b[36m(launch_and_fit pid=29448)\u001b[0m \tTrain Epoch: 8 \tTrain_loss: 0.3822 | Train_acc: 86.4250 % | Validation_loss: 2.9954 | Validation_acc: 54.6131 %\n",
      "\u001b[36m(launch_and_fit pid=29448)\u001b[0m \tTrain Epoch: 9 \tTrain_loss: 0.7181 | Train_acc: 77.5000 % | Validation_loss: 3.0411 | Validation_acc: 46.2798 %\n"
     ]
    },
    {
     "name": "stderr",
     "output_type": "stream",
     "text": [
      " 80%|\u001b[34m████████  \u001b[0m| 8/10 [00:00<00:00, 11.64it/s]\n",
      "100%|\u001b[34m██████████\u001b[0m| 10/10 [00:00<00:00, 11.50it/s]\n"
     ]
    },
    {
     "name": "stdout",
     "output_type": "stream",
     "text": [
      "\u001b[36m(launch_and_fit pid=29448)\u001b[0m \tTrain Epoch: 10 \tTrain_loss: 0.8614 | Train_acc: 69.9750 % | Validation_loss: 2.5635 | Validation_acc: 39.7321 %\n",
      "\u001b[36m(launch_and_fit pid=29448)\u001b[0m save graph in  results/FL/\n",
      "\u001b[36m(launch_and_fit pid=29448)\u001b[0m Run WITHOUT homomorphic encryption\n",
      "\u001b[36m(launch_and_fit pid=29448)\u001b[0m  To get the checkpoint\n",
      "\u001b[36m(launch_and_fit pid=29448)\u001b[0m [Client 2, round 24] fit, config: {'learning_rate': 0.003, 'batch_size': '16', 'server_round': 24, 'local_epochs': 10}\n",
      "\u001b[36m(launch_and_fit pid=29448)\u001b[0m Updated model\n",
      "\u001b[36m(launch_and_fit pid=29448)\u001b[0m \tTrain Epoch: 1 \tTrain_loss: 0.9976 | Train_acc: 67.8500 % | Validation_loss: 1.3717 | Validation_acc: 58.7798 %\n"
     ]
    },
    {
     "name": "stderr",
     "output_type": "stream",
     "text": [
      "  0%|\u001b[34m          \u001b[0m| 0/10 [00:00<?, ?it/s]\n"
     ]
    },
    {
     "name": "stdout",
     "output_type": "stream",
     "text": [
      "\u001b[36m(launch_and_fit pid=29448)\u001b[0m \tTrain Epoch: 2 \tTrain_loss: 0.6829 | Train_acc: 76.5500 % | Validation_loss: 1.3995 | Validation_acc: 66.0714 %\n",
      "\u001b[36m(launch_and_fit pid=29448)\u001b[0m \tTrain Epoch: 3 \tTrain_loss: 0.5220 | Train_acc: 81.0750 % | Validation_loss: 1.5380 | Validation_acc: 65.0298 %\n"
     ]
    },
    {
     "name": "stderr",
     "output_type": "stream",
     "text": [
      " 20%|\u001b[34m██        \u001b[0m| 2/10 [00:00<00:00, 11.25it/s]\n"
     ]
    },
    {
     "name": "stdout",
     "output_type": "stream",
     "text": [
      "\u001b[36m(launch_and_fit pid=29448)\u001b[0m \tTrain Epoch: 4 \tTrain_loss: 0.5061 | Train_acc: 81.9750 % | Validation_loss: 1.8382 | Validation_acc: 55.6548 %\n",
      "\u001b[36m(launch_and_fit pid=29448)\u001b[0m \tTrain Epoch: 5 \tTrain_loss: 0.4553 | Train_acc: 83.5000 % | Validation_loss: 1.6882 | Validation_acc: 58.7798 %\n",
      "\u001b[36m(launch_and_fit pid=29448)\u001b[0m \tTrain Epoch: 6 \tTrain_loss: 0.5562 | Train_acc: 82.4250 % | Validation_loss: 1.6539 | Validation_acc: 58.7798 %\n"
     ]
    },
    {
     "name": "stderr",
     "output_type": "stream",
     "text": [
      " 40%|\u001b[34m████      \u001b[0m| 4/10 [00:00<00:00, 11.22it/s]\n",
      " 60%|\u001b[34m██████    \u001b[0m| 6/10 [00:00<00:00, 11.35it/s]\n"
     ]
    },
    {
     "name": "stdout",
     "output_type": "stream",
     "text": [
      "\u001b[36m(launch_and_fit pid=29448)\u001b[0m \tTrain Epoch: 7 \tTrain_loss: 0.8054 | Train_acc: 72.4500 % | Validation_loss: 1.3423 | Validation_acc: 68.1548 %\n",
      "\u001b[36m(launch_and_fit pid=29448)\u001b[0m \tTrain Epoch: 8 \tTrain_loss: 0.4740 | Train_acc: 83.9500 % | Validation_loss: 1.3230 | Validation_acc: 67.1131 %\n"
     ]
    },
    {
     "name": "stderr",
     "output_type": "stream",
     "text": [
      " 80%|\u001b[34m████████  \u001b[0m| 8/10 [00:00<00:00, 11.60it/s]\n"
     ]
    },
    {
     "name": "stdout",
     "output_type": "stream",
     "text": [
      "\u001b[36m(launch_and_fit pid=29448)\u001b[0m \tTrain Epoch: 9 \tTrain_loss: 0.5787 | Train_acc: 80.3500 % | Validation_loss: 1.4045 | Validation_acc: 65.0298 %\n",
      "\u001b[36m(launch_and_fit pid=29448)\u001b[0m \tTrain Epoch: 10 \tTrain_loss: 0.4551 | Train_acc: 85.0000 % | Validation_loss: 1.5357 | Validation_acc: 61.9048 %\n",
      "\u001b[36m(launch_and_fit pid=29448)\u001b[0m save graph in  results/FL/\n"
     ]
    },
    {
     "name": "stderr",
     "output_type": "stream",
     "text": [
      "100%|\u001b[34m██████████\u001b[0m| 10/10 [00:00<00:00, 11.44it/s]\n",
      "DEBUG flwr 2024-08-30 01:22:25,459 | server.py:236 | fit_round 24 received 4 results and 0 failures\n",
      "INFO flwr 2024-08-30 01:22:25,633 | server.py:125 | fit progress: (24, 1.7625972791151567, {'accuracy': 60.037878787878796}, 354.905634121038)\n",
      "DEBUG flwr 2024-08-30 01:22:25,634 | server.py:173 | evaluate_round 24: strategy sampled 4 clients (out of 4)\n"
     ]
    },
    {
     "name": "stdout",
     "output_type": "stream",
     "text": [
      "Saving round 24 aggregated_parameters...\n",
      "Updated model\n",
      "Server-side evaluation loss 1.7625972791151567 / accuracy 60.037878787878796\n",
      "\u001b[36m(launch_and_evaluate pid=29448)\u001b[0m Run WITHOUT homomorphic encryption\n",
      "\u001b[36m(launch_and_evaluate pid=29448)\u001b[0m  To get the checkpoint\n",
      "\u001b[36m(launch_and_evaluate pid=29448)\u001b[0m [Client 2] evaluate, config: {}\n",
      "\u001b[36m(launch_and_evaluate pid=29448)\u001b[0m Updated model\n",
      "\u001b[36m(launch_and_evaluate pid=29448)\u001b[0m Run WITHOUT homomorphic encryption\n",
      "\u001b[36m(launch_and_evaluate pid=29448)\u001b[0m  To get the checkpoint\n",
      "\u001b[36m(launch_and_evaluate pid=29448)\u001b[0m [Client 3] evaluate, config: {}\n",
      "\u001b[36m(launch_and_evaluate pid=29448)\u001b[0m Updated model\n",
      "\u001b[36m(launch_and_evaluate pid=29448)\u001b[0m Run WITHOUT homomorphic encryption\n",
      "\u001b[36m(launch_and_evaluate pid=29448)\u001b[0m  To get the checkpoint\n",
      "\u001b[36m(launch_and_evaluate pid=29448)\u001b[0m [Client 1] evaluate, config: {}\n",
      "\u001b[36m(launch_and_evaluate pid=29448)\u001b[0m Updated model\n",
      "\u001b[36m(launch_and_evaluate pid=29448)\u001b[0m Run WITHOUT homomorphic encryption\n",
      "\u001b[36m(launch_and_evaluate pid=29448)\u001b[0m  To get the checkpoint\n",
      "\u001b[36m(launch_and_evaluate pid=29448)\u001b[0m [Client 0] evaluate, config: {}\n",
      "\u001b[36m(launch_and_evaluate pid=29448)\u001b[0m Updated model\n"
     ]
    },
    {
     "name": "stderr",
     "output_type": "stream",
     "text": [
      "DEBUG flwr 2024-08-30 01:22:27,802 | server.py:187 | evaluate_round 24 received 4 results and 0 failures\n",
      "DEBUG flwr 2024-08-30 01:22:27,803 | server.py:222 | fit_round 25: strategy sampled 4 clients (out of 4)\n"
     ]
    },
    {
     "name": "stdout",
     "output_type": "stream",
     "text": [
      "\u001b[36m(launch_and_fit pid=29448)\u001b[0m Run WITHOUT homomorphic encryption\n",
      "\u001b[36m(launch_and_fit pid=29448)\u001b[0m  To get the checkpoint\n",
      "\u001b[36m(launch_and_fit pid=29448)\u001b[0m [Client 1, round 25] fit, config: {'learning_rate': 0.003, 'batch_size': '16', 'server_round': 25, 'local_epochs': 10}\n",
      "\u001b[36m(launch_and_fit pid=29448)\u001b[0m Updated model\n",
      "\u001b[36m(launch_and_fit pid=29448)\u001b[0m \tTrain Epoch: 1 \tTrain_loss: 0.9033 | Train_acc: 69.9250 % | Validation_loss: 1.9918 | Validation_acc: 51.9345 %\n"
     ]
    },
    {
     "name": "stderr",
     "output_type": "stream",
     "text": [
      "  0%|\u001b[34m          \u001b[0m| 0/10 [00:00<?, ?it/s]\n"
     ]
    },
    {
     "name": "stdout",
     "output_type": "stream",
     "text": [
      "\u001b[36m(launch_and_fit pid=29448)\u001b[0m \tTrain Epoch: 2 \tTrain_loss: 0.7060 | Train_acc: 76.7500 % | Validation_loss: 1.6593 | Validation_acc: 58.4821 %\n"
     ]
    },
    {
     "name": "stderr",
     "output_type": "stream",
     "text": [
      " 20%|\u001b[34m██        \u001b[0m| 2/10 [00:00<00:00, 10.66it/s]\n"
     ]
    },
    {
     "name": "stdout",
     "output_type": "stream",
     "text": [
      "\u001b[36m(launch_and_fit pid=29448)\u001b[0m \tTrain Epoch: 3 \tTrain_loss: 0.5573 | Train_acc: 81.2500 % | Validation_loss: 1.9694 | Validation_acc: 63.6905 %\n",
      "\u001b[36m(launch_and_fit pid=29448)\u001b[0m \tTrain Epoch: 4 \tTrain_loss: 0.5119 | Train_acc: 83.8750 % | Validation_loss: 1.7666 | Validation_acc: 59.5238 %\n",
      "\u001b[36m(launch_and_fit pid=29448)\u001b[0m \tTrain Epoch: 5 \tTrain_loss: 0.5120 | Train_acc: 80.7250 % | Validation_loss: 2.4854 | Validation_acc: 57.1429 %\n",
      "\u001b[36m(launch_and_fit pid=29448)\u001b[0m \tTrain Epoch: 6 \tTrain_loss: 0.4929 | Train_acc: 82.4750 % | Validation_loss: 2.1205 | Validation_acc: 54.0179 %\n"
     ]
    },
    {
     "name": "stderr",
     "output_type": "stream",
     "text": [
      " 40%|\u001b[34m████      \u001b[0m| 4/10 [00:00<00:00, 10.84it/s]\n",
      " 60%|\u001b[34m██████    \u001b[0m| 6/10 [00:00<00:00, 11.20it/s]\n"
     ]
    },
    {
     "name": "stdout",
     "output_type": "stream",
     "text": [
      "\u001b[36m(launch_and_fit pid=29448)\u001b[0m \tTrain Epoch: 7 \tTrain_loss: 0.3827 | Train_acc: 86.7500 % | Validation_loss: 2.1420 | Validation_acc: 60.5655 %\n",
      "\u001b[36m(launch_and_fit pid=29448)\u001b[0m \tTrain Epoch: 8 \tTrain_loss: 0.3286 | Train_acc: 88.7000 % | Validation_loss: 2.4072 | Validation_acc: 56.1012 %\n"
     ]
    },
    {
     "name": "stderr",
     "output_type": "stream",
     "text": [
      " 80%|\u001b[34m████████  \u001b[0m| 8/10 [00:00<00:00, 10.95it/s]\n"
     ]
    },
    {
     "name": "stdout",
     "output_type": "stream",
     "text": [
      "\u001b[36m(launch_and_fit pid=29448)\u001b[0m \tTrain Epoch: 9 \tTrain_loss: 0.3850 | Train_acc: 85.8750 % | Validation_loss: 2.3266 | Validation_acc: 60.5655 %\n",
      "\u001b[36m(launch_and_fit pid=29448)\u001b[0m \tTrain Epoch: 10 \tTrain_loss: 0.3397 | Train_acc: 88.1250 % | Validation_loss: 2.5686 | Validation_acc: 62.6488 %\n",
      "\u001b[36m(launch_and_fit pid=29448)\u001b[0m save graph in  results/FL/\n"
     ]
    },
    {
     "name": "stderr",
     "output_type": "stream",
     "text": [
      "100%|\u001b[34m██████████\u001b[0m| 10/10 [00:00<00:00, 11.10it/s]\n"
     ]
    },
    {
     "name": "stdout",
     "output_type": "stream",
     "text": [
      "\u001b[36m(launch_and_fit pid=29448)\u001b[0m Run WITHOUT homomorphic encryption\n",
      "\u001b[36m(launch_and_fit pid=29448)\u001b[0m  To get the checkpoint\n",
      "\u001b[36m(launch_and_fit pid=29448)\u001b[0m [Client 3, round 25] fit, config: {'learning_rate': 0.003, 'batch_size': '16', 'server_round': 25, 'local_epochs': 10}\n",
      "\u001b[36m(launch_and_fit pid=29448)\u001b[0m Updated model\n"
     ]
    },
    {
     "name": "stderr",
     "output_type": "stream",
     "text": [
      "  0%|\u001b[34m          \u001b[0m| 0/10 [00:00<?, ?it/s]\n"
     ]
    },
    {
     "name": "stdout",
     "output_type": "stream",
     "text": [
      "\u001b[36m(launch_and_fit pid=29448)\u001b[0m \tTrain Epoch: 1 \tTrain_loss: 0.8252 | Train_acc: 71.3750 % | Validation_loss: 1.6095 | Validation_acc: 67.8571 %\n",
      "\u001b[36m(launch_and_fit pid=29448)\u001b[0m \tTrain Epoch: 2 \tTrain_loss: 0.5930 | Train_acc: 78.7250 % | Validation_loss: 2.1056 | Validation_acc: 61.6071 %\n"
     ]
    },
    {
     "name": "stderr",
     "output_type": "stream",
     "text": [
      " 20%|\u001b[34m██        \u001b[0m| 2/10 [00:00<00:00, 10.91it/s]\n"
     ]
    },
    {
     "name": "stdout",
     "output_type": "stream",
     "text": [
      "\u001b[36m(launch_and_fit pid=29448)\u001b[0m \tTrain Epoch: 3 \tTrain_loss: 0.5576 | Train_acc: 80.0000 % | Validation_loss: 2.2256 | Validation_acc: 57.1429 %\n",
      "\u001b[36m(launch_and_fit pid=29448)\u001b[0m \tTrain Epoch: 4 \tTrain_loss: 0.4540 | Train_acc: 84.6250 % | Validation_loss: 2.1714 | Validation_acc: 56.1012 %\n"
     ]
    },
    {
     "name": "stderr",
     "output_type": "stream",
     "text": [
      " 40%|\u001b[34m████      \u001b[0m| 4/10 [00:00<00:00, 11.12it/s]\n"
     ]
    },
    {
     "name": "stdout",
     "output_type": "stream",
     "text": [
      "\u001b[36m(launch_and_fit pid=29448)\u001b[0m \tTrain Epoch: 5 \tTrain_loss: 0.4298 | Train_acc: 85.4500 % | Validation_loss: 2.0062 | Validation_acc: 58.1845 %\n",
      "\u001b[36m(launch_and_fit pid=29448)\u001b[0m \tTrain Epoch: 6 \tTrain_loss: 0.3660 | Train_acc: 87.0750 % | Validation_loss: 2.0533 | Validation_acc: 55.0595 %\n",
      "\u001b[36m(launch_and_fit pid=29448)\u001b[0m \tTrain Epoch: 7 \tTrain_loss: 0.4513 | Train_acc: 81.9750 % | Validation_loss: 1.7279 | Validation_acc: 60.2679 %\n"
     ]
    },
    {
     "name": "stderr",
     "output_type": "stream",
     "text": [
      " 60%|\u001b[34m██████    \u001b[0m| 6/10 [00:00<00:00, 11.57it/s]\n",
      " 80%|\u001b[34m████████  \u001b[0m| 8/10 [00:00<00:00, 11.30it/s]\n"
     ]
    },
    {
     "name": "stdout",
     "output_type": "stream",
     "text": [
      "\u001b[36m(launch_and_fit pid=29448)\u001b[0m \tTrain Epoch: 8 \tTrain_loss: 0.7335 | Train_acc: 80.3750 % | Validation_loss: 1.4963 | Validation_acc: 57.1429 %\n",
      "\u001b[36m(launch_and_fit pid=29448)\u001b[0m \tTrain Epoch: 9 \tTrain_loss: 0.5971 | Train_acc: 81.5750 % | Validation_loss: 2.0778 | Validation_acc: 47.4702 %\n",
      "\u001b[36m(launch_and_fit pid=29448)\u001b[0m \tTrain Epoch: 10 \tTrain_loss: 1.0168 | Train_acc: 69.7250 % | Validation_loss: 1.9840 | Validation_acc: 45.9821 %\n",
      "\u001b[36m(launch_and_fit pid=29448)\u001b[0m save graph in  results/FL/\n"
     ]
    },
    {
     "name": "stderr",
     "output_type": "stream",
     "text": [
      "100%|\u001b[34m██████████\u001b[0m| 10/10 [00:00<00:00, 11.36it/s]\n"
     ]
    },
    {
     "name": "stdout",
     "output_type": "stream",
     "text": [
      "\u001b[36m(launch_and_fit pid=29448)\u001b[0m Run WITHOUT homomorphic encryption\n",
      "\u001b[36m(launch_and_fit pid=29448)\u001b[0m  To get the checkpoint\n",
      "\u001b[36m(launch_and_fit pid=29448)\u001b[0m [Client 2, round 25] fit, config: {'learning_rate': 0.003, 'batch_size': '16', 'server_round': 25, 'local_epochs': 10}\n",
      "\u001b[36m(launch_and_fit pid=29448)\u001b[0m Updated model\n",
      "\u001b[36m(launch_and_fit pid=29448)\u001b[0m \tTrain Epoch: 1 \tTrain_loss: 0.8372 | Train_acc: 71.3250 % | Validation_loss: 1.6180 | Validation_acc: 56.3988 %\n",
      "\u001b[36m(launch_and_fit pid=29448)\u001b[0m \tTrain Epoch: 2 \tTrain_loss: 0.7580 | Train_acc: 73.4500 % | Validation_loss: 1.1188 | Validation_acc: 68.1548 %\n"
     ]
    },
    {
     "name": "stderr",
     "output_type": "stream",
     "text": [
      "  0%|\u001b[34m          \u001b[0m| 0/10 [00:00<?, ?it/s]\n",
      " 20%|\u001b[34m██        \u001b[0m| 2/10 [00:00<00:00, 10.75it/s]\n"
     ]
    },
    {
     "name": "stdout",
     "output_type": "stream",
     "text": [
      "\u001b[36m(launch_and_fit pid=29448)\u001b[0m \tTrain Epoch: 3 \tTrain_loss: 0.5112 | Train_acc: 81.3500 % | Validation_loss: 1.2258 | Validation_acc: 74.4048 %\n",
      "\u001b[36m(launch_and_fit pid=29448)\u001b[0m \tTrain Epoch: 4 \tTrain_loss: 0.4556 | Train_acc: 83.2000 % | Validation_loss: 1.2216 | Validation_acc: 71.2798 %\n"
     ]
    },
    {
     "name": "stderr",
     "output_type": "stream",
     "text": [
      " 40%|\u001b[34m████      \u001b[0m| 4/10 [00:00<00:00, 10.95it/s]\n"
     ]
    },
    {
     "name": "stdout",
     "output_type": "stream",
     "text": [
      "\u001b[36m(launch_and_fit pid=29448)\u001b[0m \tTrain Epoch: 5 \tTrain_loss: 0.3743 | Train_acc: 87.1000 % | Validation_loss: 1.1920 | Validation_acc: 74.4048 %\n",
      "\u001b[36m(launch_and_fit pid=29448)\u001b[0m \tTrain Epoch: 6 \tTrain_loss: 0.3877 | Train_acc: 86.3750 % | Validation_loss: 1.5405 | Validation_acc: 62.9464 %\n"
     ]
    },
    {
     "name": "stderr",
     "output_type": "stream",
     "text": [
      " 60%|\u001b[34m██████    \u001b[0m| 6/10 [00:00<00:00, 11.14it/s]\n"
     ]
    },
    {
     "name": "stdout",
     "output_type": "stream",
     "text": [
      "\u001b[36m(launch_and_fit pid=29448)\u001b[0m \tTrain Epoch: 7 \tTrain_loss: 0.3969 | Train_acc: 85.5000 % | Validation_loss: 1.3062 | Validation_acc: 71.2798 %\n",
      "\u001b[36m(launch_and_fit pid=29448)\u001b[0m \tTrain Epoch: 8 \tTrain_loss: 0.4363 | Train_acc: 84.8250 % | Validation_loss: 1.4021 | Validation_acc: 69.1964 %\n"
     ]
    },
    {
     "name": "stderr",
     "output_type": "stream",
     "text": [
      " 80%|\u001b[34m████████  \u001b[0m| 8/10 [00:00<00:00, 11.14it/s]\n"
     ]
    },
    {
     "name": "stdout",
     "output_type": "stream",
     "text": [
      "\u001b[36m(launch_and_fit pid=29448)\u001b[0m \tTrain Epoch: 9 \tTrain_loss: 0.4725 | Train_acc: 82.6250 % | Validation_loss: 1.1712 | Validation_acc: 68.1548 %\n",
      "\u001b[36m(launch_and_fit pid=29448)\u001b[0m \tTrain Epoch: 10 \tTrain_loss: 0.5468 | Train_acc: 80.2500 % | Validation_loss: 1.4700 | Validation_acc: 62.9464 %\n",
      "\u001b[36m(launch_and_fit pid=29448)\u001b[0m save graph in  results/FL/\n"
     ]
    },
    {
     "name": "stderr",
     "output_type": "stream",
     "text": [
      "100%|\u001b[34m██████████\u001b[0m| 10/10 [00:00<00:00, 10.98it/s]\n"
     ]
    },
    {
     "name": "stdout",
     "output_type": "stream",
     "text": [
      "\u001b[36m(launch_and_fit pid=29448)\u001b[0m Run WITHOUT homomorphic encryption\n",
      "\u001b[36m(launch_and_fit pid=29448)\u001b[0m  To get the checkpoint\n",
      "\u001b[36m(launch_and_fit pid=29448)\u001b[0m [Client 0, round 25] fit, config: {'learning_rate': 0.003, 'batch_size': '16', 'server_round': 25, 'local_epochs': 10}\n",
      "\u001b[36m(launch_and_fit pid=29448)\u001b[0m Updated model\n",
      "\u001b[36m(launch_and_fit pid=29448)\u001b[0m \tTrain Epoch: 1 \tTrain_loss: 0.6647 | Train_acc: 76.1250 % | Validation_loss: 2.6036 | Validation_acc: 60.1190 %\n"
     ]
    },
    {
     "name": "stderr",
     "output_type": "stream",
     "text": [
      "  0%|\u001b[34m          \u001b[0m| 0/10 [00:00<?, ?it/s]\n"
     ]
    },
    {
     "name": "stdout",
     "output_type": "stream",
     "text": [
      "\u001b[36m(launch_and_fit pid=29448)\u001b[0m \tTrain Epoch: 2 \tTrain_loss: 0.5483 | Train_acc: 80.6750 % | Validation_loss: 2.8076 | Validation_acc: 57.7381 %\n",
      "\u001b[36m(launch_and_fit pid=29448)\u001b[0m \tTrain Epoch: 3 \tTrain_loss: 0.5982 | Train_acc: 77.1000 % | Validation_loss: 2.5463 | Validation_acc: 53.5714 %\n"
     ]
    },
    {
     "name": "stderr",
     "output_type": "stream",
     "text": [
      " 20%|\u001b[34m██        \u001b[0m| 2/10 [00:00<00:00, 10.72it/s]\n"
     ]
    },
    {
     "name": "stdout",
     "output_type": "stream",
     "text": [
      "\u001b[36m(launch_and_fit pid=29448)\u001b[0m \tTrain Epoch: 4 \tTrain_loss: 0.5130 | Train_acc: 82.9750 % | Validation_loss: 2.1753 | Validation_acc: 61.1607 %\n",
      "\u001b[36m(launch_and_fit pid=29448)\u001b[0m \tTrain Epoch: 5 \tTrain_loss: 0.5023 | Train_acc: 83.8500 % | Validation_loss: 2.4584 | Validation_acc: 57.7381 %\n",
      "\u001b[36m(launch_and_fit pid=29448)\u001b[0m \tTrain Epoch: 6 \tTrain_loss: 0.5574 | Train_acc: 80.4500 % | Validation_loss: 2.3718 | Validation_acc: 54.3155 %\n"
     ]
    },
    {
     "name": "stderr",
     "output_type": "stream",
     "text": [
      " 40%|\u001b[34m████      \u001b[0m| 4/10 [00:00<00:00, 11.03it/s]\n",
      " 60%|\u001b[34m██████    \u001b[0m| 6/10 [00:00<00:00, 11.61it/s]\n"
     ]
    },
    {
     "name": "stdout",
     "output_type": "stream",
     "text": [
      "\u001b[36m(launch_and_fit pid=29448)\u001b[0m \tTrain Epoch: 7 \tTrain_loss: 0.4206 | Train_acc: 85.2250 % | Validation_loss: 2.5570 | Validation_acc: 61.1607 %\n",
      "\u001b[36m(launch_and_fit pid=29448)\u001b[0m \tTrain Epoch: 8 \tTrain_loss: 0.3608 | Train_acc: 89.3750 % | Validation_loss: 2.7540 | Validation_acc: 61.1607 %\n"
     ]
    },
    {
     "name": "stderr",
     "output_type": "stream",
     "text": [
      " 80%|\u001b[34m████████  \u001b[0m| 8/10 [00:00<00:00, 11.75it/s]\n"
     ]
    },
    {
     "name": "stdout",
     "output_type": "stream",
     "text": [
      "\u001b[36m(launch_and_fit pid=29448)\u001b[0m \tTrain Epoch: 9 \tTrain_loss: 0.3195 | Train_acc: 88.8750 % | Validation_loss: 2.8370 | Validation_acc: 55.6548 %\n",
      "\u001b[36m(launch_and_fit pid=29448)\u001b[0m \tTrain Epoch: 10 \tTrain_loss: 0.3066 | Train_acc: 90.7500 % | Validation_loss: 3.2639 | Validation_acc: 53.5714 %\n",
      "\u001b[36m(launch_and_fit pid=29448)\u001b[0m save graph in  results/FL/\n"
     ]
    },
    {
     "name": "stderr",
     "output_type": "stream",
     "text": [
      "100%|\u001b[34m██████████\u001b[0m| 10/10 [00:00<00:00, 11.62it/s]\n",
      "DEBUG flwr 2024-08-30 01:22:32,917 | server.py:236 | fit_round 25 received 4 results and 0 failures\n",
      "INFO flwr 2024-08-30 01:22:32,975 | server.py:125 | fit progress: (25, 1.9170942306518555, {'accuracy': 61.28787878787879}, 362.24790690187365)\n",
      "DEBUG flwr 2024-08-30 01:22:32,976 | server.py:173 | evaluate_round 25: strategy sampled 4 clients (out of 4)\n"
     ]
    },
    {
     "name": "stdout",
     "output_type": "stream",
     "text": [
      "Saving round 25 aggregated_parameters...\n",
      "Updated model\n",
      "Server-side evaluation loss 1.9170942306518555 / accuracy 61.28787878787879\n",
      "\u001b[36m(launch_and_evaluate pid=29448)\u001b[0m Run WITHOUT homomorphic encryption\n",
      "\u001b[36m(launch_and_evaluate pid=29448)\u001b[0m  To get the checkpoint\n",
      "\u001b[36m(launch_and_evaluate pid=29448)\u001b[0m [Client 1] evaluate, config: {}\n",
      "\u001b[36m(launch_and_evaluate pid=29448)\u001b[0m Updated model\n",
      "\u001b[36m(launch_and_evaluate pid=29448)\u001b[0m Run WITHOUT homomorphic encryption\n",
      "\u001b[36m(launch_and_evaluate pid=29448)\u001b[0m  To get the checkpoint\n",
      "\u001b[36m(launch_and_evaluate pid=29448)\u001b[0m [Client 2] evaluate, config: {}\n",
      "\u001b[36m(launch_and_evaluate pid=29448)\u001b[0m Updated model\n",
      "\u001b[36m(launch_and_evaluate pid=29448)\u001b[0m Run WITHOUT homomorphic encryption\n",
      "\u001b[36m(launch_and_evaluate pid=29448)\u001b[0m  To get the checkpoint\n",
      "\u001b[36m(launch_and_evaluate pid=29448)\u001b[0m [Client 3] evaluate, config: {}\n",
      "\u001b[36m(launch_and_evaluate pid=29448)\u001b[0m Updated model\n",
      "\u001b[36m(launch_and_evaluate pid=29448)\u001b[0m Run WITHOUT homomorphic encryption\n",
      "\u001b[36m(launch_and_evaluate pid=29448)\u001b[0m  To get the checkpoint\n",
      "\u001b[36m(launch_and_evaluate pid=29448)\u001b[0m [Client 0] evaluate, config: {}\n",
      "\u001b[36m(launch_and_evaluate pid=29448)\u001b[0m Updated model\n"
     ]
    },
    {
     "name": "stderr",
     "output_type": "stream",
     "text": [
      "DEBUG flwr 2024-08-30 01:22:35,145 | server.py:187 | evaluate_round 25 received 4 results and 0 failures\n",
      "DEBUG flwr 2024-08-30 01:22:35,146 | server.py:222 | fit_round 26: strategy sampled 4 clients (out of 4)\n"
     ]
    },
    {
     "name": "stdout",
     "output_type": "stream",
     "text": [
      "\u001b[36m(launch_and_fit pid=29448)\u001b[0m Run WITHOUT homomorphic encryption\n",
      "\u001b[36m(launch_and_fit pid=29448)\u001b[0m  To get the checkpoint\n",
      "\u001b[36m(launch_and_fit pid=29448)\u001b[0m [Client 2, round 26] fit, config: {'learning_rate': 0.003, 'batch_size': '16', 'server_round': 26, 'local_epochs': 10}\n",
      "\u001b[36m(launch_and_fit pid=29448)\u001b[0m Updated model\n",
      "\u001b[36m(launch_and_fit pid=29448)\u001b[0m \tTrain Epoch: 1 \tTrain_loss: 0.7945 | Train_acc: 73.6000 % | Validation_loss: 1.4411 | Validation_acc: 65.0298 %\n"
     ]
    },
    {
     "name": "stderr",
     "output_type": "stream",
     "text": [
      "  0%|\u001b[34m          \u001b[0m| 0/10 [00:00<?, ?it/s]\n"
     ]
    },
    {
     "name": "stdout",
     "output_type": "stream",
     "text": [
      "\u001b[36m(launch_and_fit pid=29448)\u001b[0m \tTrain Epoch: 2 \tTrain_loss: 0.5480 | Train_acc: 80.3750 % | Validation_loss: 1.3468 | Validation_acc: 70.2381 %\n",
      "\u001b[36m(launch_and_fit pid=29448)\u001b[0m \tTrain Epoch: 3 \tTrain_loss: 0.5309 | Train_acc: 80.8500 % | Validation_loss: 1.5321 | Validation_acc: 61.9048 %\n"
     ]
    },
    {
     "name": "stderr",
     "output_type": "stream",
     "text": [
      " 20%|\u001b[34m██        \u001b[0m| 2/10 [00:00<00:00, 10.21it/s]\n"
     ]
    },
    {
     "name": "stdout",
     "output_type": "stream",
     "text": [
      "\u001b[36m(launch_and_fit pid=29448)\u001b[0m \tTrain Epoch: 4 \tTrain_loss: 0.4302 | Train_acc: 83.9750 % | Validation_loss: 1.6837 | Validation_acc: 65.0298 %\n",
      "\u001b[36m(launch_and_fit pid=29448)\u001b[0m \tTrain Epoch: 5 \tTrain_loss: 0.3989 | Train_acc: 84.7500 % | Validation_loss: 1.5040 | Validation_acc: 66.0714 %\n",
      "\u001b[36m(launch_and_fit pid=29448)\u001b[0m \tTrain Epoch: 6 \tTrain_loss: 0.4048 | Train_acc: 84.4500 % | Validation_loss: 1.4020 | Validation_acc: 67.1131 %\n"
     ]
    },
    {
     "name": "stderr",
     "output_type": "stream",
     "text": [
      " 40%|\u001b[34m████      \u001b[0m| 4/10 [00:00<00:00, 10.98it/s]\n",
      " 60%|\u001b[34m██████    \u001b[0m| 6/10 [00:00<00:00, 11.21it/s]\n"
     ]
    },
    {
     "name": "stdout",
     "output_type": "stream",
     "text": [
      "\u001b[36m(launch_and_fit pid=29448)\u001b[0m \tTrain Epoch: 7 \tTrain_loss: 0.3878 | Train_acc: 87.2500 % | Validation_loss: 1.4243 | Validation_acc: 67.1131 %\n",
      "\u001b[36m(launch_and_fit pid=29448)\u001b[0m \tTrain Epoch: 8 \tTrain_loss: 0.4092 | Train_acc: 84.6000 % | Validation_loss: 1.6448 | Validation_acc: 63.9881 %\n"
     ]
    },
    {
     "name": "stderr",
     "output_type": "stream",
     "text": [
      " 80%|\u001b[34m████████  \u001b[0m| 8/10 [00:00<00:00, 11.17it/s]\n"
     ]
    },
    {
     "name": "stdout",
     "output_type": "stream",
     "text": [
      "\u001b[36m(launch_and_fit pid=29448)\u001b[0m \tTrain Epoch: 9 \tTrain_loss: 0.4062 | Train_acc: 84.7750 % | Validation_loss: 1.5050 | Validation_acc: 74.4048 %\n",
      "\u001b[36m(launch_and_fit pid=29448)\u001b[0m \tTrain Epoch: 10 \tTrain_loss: 0.5188 | Train_acc: 83.4500 % | Validation_loss: 1.7577 | Validation_acc: 67.1131 %\n",
      "\u001b[36m(launch_and_fit pid=29448)\u001b[0m save graph in  results/FL/\n"
     ]
    },
    {
     "name": "stderr",
     "output_type": "stream",
     "text": [
      "100%|\u001b[34m██████████\u001b[0m| 10/10 [00:00<00:00, 11.22it/s]\n"
     ]
    },
    {
     "name": "stdout",
     "output_type": "stream",
     "text": [
      "\u001b[36m(launch_and_fit pid=29448)\u001b[0m Run WITHOUT homomorphic encryption\n",
      "\u001b[36m(launch_and_fit pid=29448)\u001b[0m  To get the checkpoint\n",
      "\u001b[36m(launch_and_fit pid=29448)\u001b[0m [Client 0, round 26] fit, config: {'learning_rate': 0.003, 'batch_size': '16', 'server_round': 26, 'local_epochs': 10}\n",
      "\u001b[36m(launch_and_fit pid=29448)\u001b[0m Updated model\n",
      "\u001b[36m(launch_and_fit pid=29448)\u001b[0m \tTrain Epoch: 1 \tTrain_loss: 0.7879 | Train_acc: 74.0000 % | Validation_loss: 2.6051 | Validation_acc: 51.4881 %\n"
     ]
    },
    {
     "name": "stderr",
     "output_type": "stream",
     "text": [
      "  0%|\u001b[34m          \u001b[0m| 0/10 [00:00<?, ?it/s]\n"
     ]
    },
    {
     "name": "stdout",
     "output_type": "stream",
     "text": [
      "\u001b[36m(launch_and_fit pid=29448)\u001b[0m \tTrain Epoch: 2 \tTrain_loss: 0.5600 | Train_acc: 81.7250 % | Validation_loss: 2.1848 | Validation_acc: 60.1190 %\n",
      "\u001b[36m(launch_and_fit pid=29448)\u001b[0m \tTrain Epoch: 3 \tTrain_loss: 0.4800 | Train_acc: 83.7500 % | Validation_loss: 2.1775 | Validation_acc: 56.6964 %\n"
     ]
    },
    {
     "name": "stderr",
     "output_type": "stream",
     "text": [
      " 20%|\u001b[34m██        \u001b[0m| 2/10 [00:00<00:00, 11.12it/s]\n"
     ]
    },
    {
     "name": "stdout",
     "output_type": "stream",
     "text": [
      "\u001b[36m(launch_and_fit pid=29448)\u001b[0m \tTrain Epoch: 4 \tTrain_loss: 0.4129 | Train_acc: 85.0000 % | Validation_loss: 2.4391 | Validation_acc: 56.6964 %\n",
      "\u001b[36m(launch_and_fit pid=29448)\u001b[0m \tTrain Epoch: 5 \tTrain_loss: 0.3818 | Train_acc: 86.8000 % | Validation_loss: 2.5696 | Validation_acc: 55.6548 %\n"
     ]
    },
    {
     "name": "stderr",
     "output_type": "stream",
     "text": [
      " 40%|\u001b[34m████      \u001b[0m| 4/10 [00:00<00:00, 11.39it/s]\n"
     ]
    },
    {
     "name": "stdout",
     "output_type": "stream",
     "text": [
      "\u001b[36m(launch_and_fit pid=29448)\u001b[0m \tTrain Epoch: 6 \tTrain_loss: 0.3733 | Train_acc: 88.1000 % | Validation_loss: 3.0510 | Validation_acc: 62.2024 %\n",
      "\u001b[36m(launch_and_fit pid=29448)\u001b[0m \tTrain Epoch: 7 \tTrain_loss: 0.8955 | Train_acc: 74.9750 % | Validation_loss: 2.8654 | Validation_acc: 48.3631 %\n",
      "\u001b[36m(launch_and_fit pid=29448)\u001b[0m \tTrain Epoch: 8 \tTrain_loss: 0.6422 | Train_acc: 78.2250 % | Validation_loss: 2.5642 | Validation_acc: 55.6548 %\n"
     ]
    },
    {
     "name": "stderr",
     "output_type": "stream",
     "text": [
      " 60%|\u001b[34m██████    \u001b[0m| 6/10 [00:00<00:00, 11.30it/s]\n",
      " 80%|\u001b[34m████████  \u001b[0m| 8/10 [00:00<00:00, 11.53it/s]\n"
     ]
    },
    {
     "name": "stdout",
     "output_type": "stream",
     "text": [
      "\u001b[36m(launch_and_fit pid=29448)\u001b[0m \tTrain Epoch: 9 \tTrain_loss: 0.4065 | Train_acc: 85.0000 % | Validation_loss: 2.7214 | Validation_acc: 58.7798 %\n",
      "\u001b[36m(launch_and_fit pid=29448)\u001b[0m \tTrain Epoch: 10 \tTrain_loss: 0.3510 | Train_acc: 88.1000 % | Validation_loss: 2.8616 | Validation_acc: 56.6964 %\n",
      "\u001b[36m(launch_and_fit pid=29448)\u001b[0m save graph in  results/FL/\n"
     ]
    },
    {
     "name": "stderr",
     "output_type": "stream",
     "text": [
      "100%|\u001b[34m██████████\u001b[0m| 10/10 [00:00<00:00, 11.42it/s]\n"
     ]
    },
    {
     "name": "stdout",
     "output_type": "stream",
     "text": [
      "\u001b[36m(launch_and_fit pid=29448)\u001b[0m Run WITHOUT homomorphic encryption\n",
      "\u001b[36m(launch_and_fit pid=29448)\u001b[0m  To get the checkpoint\n",
      "\u001b[36m(launch_and_fit pid=29448)\u001b[0m [Client 1, round 26] fit, config: {'learning_rate': 0.003, 'batch_size': '16', 'server_round': 26, 'local_epochs': 10}\n",
      "\u001b[36m(launch_and_fit pid=29448)\u001b[0m Updated model\n",
      "\u001b[36m(launch_and_fit pid=29448)\u001b[0m \tTrain Epoch: 1 \tTrain_loss: 0.8935 | Train_acc: 70.6000 % | Validation_loss: 2.2266 | Validation_acc: 53.2738 %\n",
      "\u001b[36m(launch_and_fit pid=29448)\u001b[0m \tTrain Epoch: 2 \tTrain_loss: 0.5965 | Train_acc: 80.0000 % | Validation_loss: 1.7879 | Validation_acc: 64.7321 %\n"
     ]
    },
    {
     "name": "stderr",
     "output_type": "stream",
     "text": [
      "  0%|\u001b[34m          \u001b[0m| 0/10 [00:00<?, ?it/s]\n",
      " 20%|\u001b[34m██        \u001b[0m| 2/10 [00:00<00:00, 10.77it/s]\n"
     ]
    },
    {
     "name": "stdout",
     "output_type": "stream",
     "text": [
      "\u001b[36m(launch_and_fit pid=29448)\u001b[0m \tTrain Epoch: 3 \tTrain_loss: 0.5476 | Train_acc: 81.7500 % | Validation_loss: 1.7982 | Validation_acc: 61.6071 %\n",
      "\u001b[36m(launch_and_fit pid=29448)\u001b[0m \tTrain Epoch: 4 \tTrain_loss: 0.5434 | Train_acc: 79.3750 % | Validation_loss: 1.9460 | Validation_acc: 58.1845 %\n"
     ]
    },
    {
     "name": "stderr",
     "output_type": "stream",
     "text": [
      " 40%|\u001b[34m████      \u001b[0m| 4/10 [00:00<00:00, 11.11it/s]\n"
     ]
    },
    {
     "name": "stdout",
     "output_type": "stream",
     "text": [
      "\u001b[36m(launch_and_fit pid=29448)\u001b[0m \tTrain Epoch: 5 \tTrain_loss: 0.4484 | Train_acc: 83.8750 % | Validation_loss: 2.3478 | Validation_acc: 60.5655 %\n",
      "\u001b[36m(launch_and_fit pid=29448)\u001b[0m \tTrain Epoch: 6 \tTrain_loss: 0.3858 | Train_acc: 87.5000 % | Validation_loss: 2.0997 | Validation_acc: 55.3571 %\n"
     ]
    },
    {
     "name": "stderr",
     "output_type": "stream",
     "text": [
      " 60%|\u001b[34m██████    \u001b[0m| 6/10 [00:00<00:00, 11.50it/s]\n"
     ]
    },
    {
     "name": "stdout",
     "output_type": "stream",
     "text": [
      "\u001b[36m(launch_and_fit pid=29448)\u001b[0m \tTrain Epoch: 7 \tTrain_loss: 0.3933 | Train_acc: 87.0750 % | Validation_loss: 2.2111 | Validation_acc: 59.5238 %\n",
      "\u001b[36m(launch_and_fit pid=29448)\u001b[0m \tTrain Epoch: 8 \tTrain_loss: 0.5821 | Train_acc: 79.7500 % | Validation_loss: 2.2147 | Validation_acc: 64.7321 %\n",
      "\u001b[36m(launch_and_fit pid=29448)\u001b[0m \tTrain Epoch: 9 \tTrain_loss: 0.3653 | Train_acc: 88.0000 % | Validation_loss: 2.6196 | Validation_acc: 59.5238 %\n"
     ]
    },
    {
     "name": "stderr",
     "output_type": "stream",
     "text": [
      " 80%|\u001b[34m████████  \u001b[0m| 8/10 [00:00<00:00, 11.50it/s]\n",
      "100%|\u001b[34m██████████\u001b[0m| 10/10 [00:00<00:00, 11.58it/s]\n"
     ]
    },
    {
     "name": "stdout",
     "output_type": "stream",
     "text": [
      "\u001b[36m(launch_and_fit pid=29448)\u001b[0m \tTrain Epoch: 10 \tTrain_loss: 0.3034 | Train_acc: 90.2250 % | Validation_loss: 2.4547 | Validation_acc: 56.3988 %\n",
      "\u001b[36m(launch_and_fit pid=29448)\u001b[0m save graph in  results/FL/\n",
      "\u001b[36m(launch_and_fit pid=29448)\u001b[0m Run WITHOUT homomorphic encryption\n",
      "\u001b[36m(launch_and_fit pid=29448)\u001b[0m  To get the checkpoint\n",
      "\u001b[36m(launch_and_fit pid=29448)\u001b[0m [Client 3, round 26] fit, config: {'learning_rate': 0.003, 'batch_size': '16', 'server_round': 26, 'local_epochs': 10}\n",
      "\u001b[36m(launch_and_fit pid=29448)\u001b[0m Updated model\n",
      "\u001b[36m(launch_and_fit pid=29448)\u001b[0m \tTrain Epoch: 1 \tTrain_loss: 0.8030 | Train_acc: 73.7250 % | Validation_loss: 1.5822 | Validation_acc: 61.3095 %\n",
      "\u001b[36m(launch_and_fit pid=29448)\u001b[0m \tTrain Epoch: 2 \tTrain_loss: 0.5185 | Train_acc: 82.2500 % | Validation_loss: 1.7996 | Validation_acc: 63.6905 %\n"
     ]
    },
    {
     "name": "stderr",
     "output_type": "stream",
     "text": [
      "  0%|\u001b[34m          \u001b[0m| 0/10 [00:00<?, ?it/s]\n",
      " 20%|\u001b[34m██        \u001b[0m| 2/10 [00:00<00:00, 11.71it/s]\n"
     ]
    },
    {
     "name": "stdout",
     "output_type": "stream",
     "text": [
      "\u001b[36m(launch_and_fit pid=29448)\u001b[0m \tTrain Epoch: 3 \tTrain_loss: 0.4106 | Train_acc: 86.1250 % | Validation_loss: 2.1384 | Validation_acc: 59.5238 %\n",
      "\u001b[36m(launch_and_fit pid=29448)\u001b[0m \tTrain Epoch: 4 \tTrain_loss: 0.3920 | Train_acc: 86.3500 % | Validation_loss: 2.0642 | Validation_acc: 63.6905 %\n"
     ]
    },
    {
     "name": "stderr",
     "output_type": "stream",
     "text": [
      " 40%|\u001b[34m████      \u001b[0m| 4/10 [00:00<00:00, 11.34it/s]\n"
     ]
    },
    {
     "name": "stdout",
     "output_type": "stream",
     "text": [
      "\u001b[36m(launch_and_fit pid=29448)\u001b[0m \tTrain Epoch: 5 \tTrain_loss: 0.4109 | Train_acc: 85.2250 % | Validation_loss: 2.2597 | Validation_acc: 62.6488 %\n",
      "\u001b[36m(launch_and_fit pid=29448)\u001b[0m \tTrain Epoch: 6 \tTrain_loss: 0.3782 | Train_acc: 86.8500 % | Validation_loss: 1.9598 | Validation_acc: 59.2262 %\n"
     ]
    },
    {
     "name": "stderr",
     "output_type": "stream",
     "text": [
      " 60%|\u001b[34m██████    \u001b[0m| 6/10 [00:00<00:00, 11.77it/s]\n",
      " 80%|\u001b[34m████████  \u001b[0m| 8/10 [00:00<00:00, 11.75it/s]\n"
     ]
    },
    {
     "name": "stdout",
     "output_type": "stream",
     "text": [
      "\u001b[36m(launch_and_fit pid=29448)\u001b[0m \tTrain Epoch: 7 \tTrain_loss: 0.3266 | Train_acc: 88.7500 % | Validation_loss: 1.9359 | Validation_acc: 60.2679 %\n",
      "\u001b[36m(launch_and_fit pid=29448)\u001b[0m \tTrain Epoch: 8 \tTrain_loss: 0.3668 | Train_acc: 86.0000 % | Validation_loss: 2.4529 | Validation_acc: 59.2262 %\n",
      "\u001b[36m(launch_and_fit pid=29448)\u001b[0m \tTrain Epoch: 9 \tTrain_loss: 0.2940 | Train_acc: 90.3500 % | Validation_loss: 2.4691 | Validation_acc: 65.0298 %\n"
     ]
    },
    {
     "name": "stderr",
     "output_type": "stream",
     "text": [
      "100%|\u001b[34m██████████\u001b[0m| 10/10 [00:00<00:00, 11.77it/s]\n",
      "DEBUG flwr 2024-08-30 01:22:40,158 | server.py:236 | fit_round 26 received 4 results and 0 failures\n",
      "INFO flwr 2024-08-30 01:22:40,227 | server.py:125 | fit progress: (26, 2.0654079415581443, {'accuracy': 63.4469696969697}, 369.49937312304974)\n",
      "DEBUG flwr 2024-08-30 01:22:40,228 | server.py:173 | evaluate_round 26: strategy sampled 4 clients (out of 4)\n"
     ]
    },
    {
     "name": "stdout",
     "output_type": "stream",
     "text": [
      "\u001b[36m(launch_and_fit pid=29448)\u001b[0m \tTrain Epoch: 10 \tTrain_loss: 0.3332 | Train_acc: 87.9500 % | Validation_loss: 2.7268 | Validation_acc: 52.9762 %\n",
      "\u001b[36m(launch_and_fit pid=29448)\u001b[0m save graph in  results/FL/\n",
      "Saving round 26 aggregated_parameters...\n",
      "Updated model\n",
      "Server-side evaluation loss 2.0654079415581443 / accuracy 63.4469696969697\n",
      "\u001b[36m(launch_and_evaluate pid=29448)\u001b[0m Run WITHOUT homomorphic encryption\n",
      "\u001b[36m(launch_and_evaluate pid=29448)\u001b[0m  To get the checkpoint\n",
      "\u001b[36m(launch_and_evaluate pid=29448)\u001b[0m [Client 3] evaluate, config: {}\n",
      "\u001b[36m(launch_and_evaluate pid=29448)\u001b[0m Updated model\n",
      "\u001b[36m(launch_and_evaluate pid=29448)\u001b[0m Run WITHOUT homomorphic encryption\n",
      "\u001b[36m(launch_and_evaluate pid=29448)\u001b[0m  To get the checkpoint\n",
      "\u001b[36m(launch_and_evaluate pid=29448)\u001b[0m [Client 0] evaluate, config: {}\n",
      "\u001b[36m(launch_and_evaluate pid=29448)\u001b[0m Updated model\n",
      "\u001b[36m(launch_and_evaluate pid=29448)\u001b[0m Run WITHOUT homomorphic encryption\n",
      "\u001b[36m(launch_and_evaluate pid=29448)\u001b[0m  To get the checkpoint\n",
      "\u001b[36m(launch_and_evaluate pid=29448)\u001b[0m [Client 1] evaluate, config: {}\n",
      "\u001b[36m(launch_and_evaluate pid=29448)\u001b[0m Updated model\n",
      "\u001b[36m(launch_and_evaluate pid=29448)\u001b[0m Run WITHOUT homomorphic encryption\n",
      "\u001b[36m(launch_and_evaluate pid=29448)\u001b[0m  To get the checkpoint\n",
      "\u001b[36m(launch_and_evaluate pid=29448)\u001b[0m [Client 2] evaluate, config: {}\n",
      "\u001b[36m(launch_and_evaluate pid=29448)\u001b[0m Updated model\n"
     ]
    },
    {
     "name": "stderr",
     "output_type": "stream",
     "text": [
      "DEBUG flwr 2024-08-30 01:22:42,413 | server.py:187 | evaluate_round 26 received 4 results and 0 failures\n",
      "DEBUG flwr 2024-08-30 01:22:42,414 | server.py:222 | fit_round 27: strategy sampled 4 clients (out of 4)\n"
     ]
    },
    {
     "name": "stdout",
     "output_type": "stream",
     "text": [
      "\u001b[36m(launch_and_fit pid=29448)\u001b[0m Run WITHOUT homomorphic encryption\n",
      "\u001b[36m(launch_and_fit pid=29448)\u001b[0m  To get the checkpoint\n",
      "\u001b[36m(launch_and_fit pid=29448)\u001b[0m [Client 0, round 27] fit, config: {'learning_rate': 0.003, 'batch_size': '16', 'server_round': 27, 'local_epochs': 10}\n",
      "\u001b[36m(launch_and_fit pid=29448)\u001b[0m Updated model\n"
     ]
    },
    {
     "name": "stderr",
     "output_type": "stream",
     "text": [
      "  0%|\u001b[34m          \u001b[0m| 0/10 [00:00<?, ?it/s]\n"
     ]
    },
    {
     "name": "stdout",
     "output_type": "stream",
     "text": [
      "\u001b[36m(launch_and_fit pid=29448)\u001b[0m \tTrain Epoch: 1 \tTrain_loss: 0.6966 | Train_acc: 78.4750 % | Validation_loss: 2.5098 | Validation_acc: 56.6964 %\n",
      "\u001b[36m(launch_and_fit pid=29448)\u001b[0m \tTrain Epoch: 2 \tTrain_loss: 0.5157 | Train_acc: 82.3500 % | Validation_loss: 2.4918 | Validation_acc: 60.8631 %\n"
     ]
    },
    {
     "name": "stderr",
     "output_type": "stream",
     "text": [
      " 20%|\u001b[34m██        \u001b[0m| 2/10 [00:00<00:00, 10.44it/s]\n"
     ]
    },
    {
     "name": "stdout",
     "output_type": "stream",
     "text": [
      "\u001b[36m(launch_and_fit pid=29448)\u001b[0m \tTrain Epoch: 3 \tTrain_loss: 0.4395 | Train_acc: 85.3750 % | Validation_loss: 2.9412 | Validation_acc: 53.5714 %\n",
      "\u001b[36m(launch_and_fit pid=29448)\u001b[0m \tTrain Epoch: 4 \tTrain_loss: 0.3704 | Train_acc: 87.4750 % | Validation_loss: 2.6251 | Validation_acc: 58.0357 %\n"
     ]
    },
    {
     "name": "stderr",
     "output_type": "stream",
     "text": [
      " 40%|\u001b[34m████      \u001b[0m| 4/10 [00:00<00:00, 11.22it/s]\n"
     ]
    },
    {
     "name": "stdout",
     "output_type": "stream",
     "text": [
      "\u001b[36m(launch_and_fit pid=29448)\u001b[0m \tTrain Epoch: 5 \tTrain_loss: 0.3193 | Train_acc: 88.9750 % | Validation_loss: 3.1846 | Validation_acc: 60.8631 %\n",
      "\u001b[36m(launch_and_fit pid=29448)\u001b[0m \tTrain Epoch: 6 \tTrain_loss: 0.3376 | Train_acc: 88.2000 % | Validation_loss: 3.3358 | Validation_acc: 56.9940 %\n",
      "\u001b[36m(launch_and_fit pid=29448)\u001b[0m \tTrain Epoch: 7 \tTrain_loss: 0.3435 | Train_acc: 89.5000 % | Validation_loss: 3.3336 | Validation_acc: 52.5298 %\n"
     ]
    },
    {
     "name": "stderr",
     "output_type": "stream",
     "text": [
      " 60%|\u001b[34m██████    \u001b[0m| 6/10 [00:00<00:00, 11.35it/s]\n",
      " 80%|\u001b[34m████████  \u001b[0m| 8/10 [00:00<00:00, 11.87it/s]\n"
     ]
    },
    {
     "name": "stdout",
     "output_type": "stream",
     "text": [
      "\u001b[36m(launch_and_fit pid=29448)\u001b[0m \tTrain Epoch: 8 \tTrain_loss: 0.4520 | Train_acc: 86.2500 % | Validation_loss: 3.0520 | Validation_acc: 55.9524 %\n",
      "\u001b[36m(launch_and_fit pid=29448)\u001b[0m \tTrain Epoch: 9 \tTrain_loss: 0.3616 | Train_acc: 87.8750 % | Validation_loss: 3.7505 | Validation_acc: 51.4881 %\n",
      "\u001b[36m(launch_and_fit pid=29448)\u001b[0m \tTrain Epoch: 10 \tTrain_loss: 0.6332 | Train_acc: 80.3500 % | Validation_loss: 3.8324 | Validation_acc: 54.6131 %\n",
      "\u001b[36m(launch_and_fit pid=29448)\u001b[0m save graph in  results/FL/\n"
     ]
    },
    {
     "name": "stderr",
     "output_type": "stream",
     "text": [
      "100%|\u001b[34m██████████\u001b[0m| 10/10 [00:00<00:00, 11.52it/s]\n"
     ]
    },
    {
     "name": "stdout",
     "output_type": "stream",
     "text": [
      "\u001b[36m(launch_and_fit pid=29448)\u001b[0m Run WITHOUT homomorphic encryption\n",
      "\u001b[36m(launch_and_fit pid=29448)\u001b[0m  To get the checkpoint\n",
      "\u001b[36m(launch_and_fit pid=29448)\u001b[0m [Client 3, round 27] fit, config: {'learning_rate': 0.003, 'batch_size': '16', 'server_round': 27, 'local_epochs': 10}\n",
      "\u001b[36m(launch_and_fit pid=29448)\u001b[0m Updated model\n",
      "\u001b[36m(launch_and_fit pid=29448)\u001b[0m \tTrain Epoch: 1 \tTrain_loss: 0.6905 | Train_acc: 76.8750 % | Validation_loss: 2.2139 | Validation_acc: 61.3095 %\n"
     ]
    },
    {
     "name": "stderr",
     "output_type": "stream",
     "text": [
      "  0%|\u001b[34m          \u001b[0m| 0/10 [00:00<?, ?it/s]\n"
     ]
    },
    {
     "name": "stdout",
     "output_type": "stream",
     "text": [
      "\u001b[36m(launch_and_fit pid=29448)\u001b[0m \tTrain Epoch: 2 \tTrain_loss: 0.4751 | Train_acc: 82.6250 % | Validation_loss: 1.9753 | Validation_acc: 59.5238 %\n",
      "\u001b[36m(launch_and_fit pid=29448)\u001b[0m \tTrain Epoch: 3 \tTrain_loss: 0.6191 | Train_acc: 78.4000 % | Validation_loss: 2.4497 | Validation_acc: 57.1429 %\n",
      "\u001b[36m(launch_and_fit pid=29448)\u001b[0m \tTrain Epoch: 4 \tTrain_loss: 0.4275 | Train_acc: 85.0000 % | Validation_loss: 2.1239 | Validation_acc: 63.3929 %\n"
     ]
    },
    {
     "name": "stderr",
     "output_type": "stream",
     "text": [
      " 20%|\u001b[34m██        \u001b[0m| 2/10 [00:00<00:00, 10.91it/s]\n",
      " 40%|\u001b[34m████      \u001b[0m| 4/10 [00:00<00:00, 11.54it/s]\n"
     ]
    },
    {
     "name": "stdout",
     "output_type": "stream",
     "text": [
      "\u001b[36m(launch_and_fit pid=29448)\u001b[0m \tTrain Epoch: 5 \tTrain_loss: 0.3568 | Train_acc: 88.4750 % | Validation_loss: 2.2313 | Validation_acc: 59.2262 %\n",
      "\u001b[36m(launch_and_fit pid=29448)\u001b[0m \tTrain Epoch: 6 \tTrain_loss: 0.3548 | Train_acc: 87.6250 % | Validation_loss: 2.1795 | Validation_acc: 61.3095 %\n"
     ]
    },
    {
     "name": "stderr",
     "output_type": "stream",
     "text": [
      " 60%|\u001b[34m██████    \u001b[0m| 6/10 [00:00<00:00, 11.67it/s]\n",
      " 80%|\u001b[34m████████  \u001b[0m| 8/10 [00:00<00:00, 12.07it/s]\n"
     ]
    },
    {
     "name": "stdout",
     "output_type": "stream",
     "text": [
      "\u001b[36m(launch_and_fit pid=29448)\u001b[0m \tTrain Epoch: 7 \tTrain_loss: 0.2896 | Train_acc: 90.5000 % | Validation_loss: 2.3616 | Validation_acc: 56.1012 %\n",
      "\u001b[36m(launch_and_fit pid=29448)\u001b[0m \tTrain Epoch: 8 \tTrain_loss: 0.3447 | Train_acc: 87.1250 % | Validation_loss: 2.3377 | Validation_acc: 60.2679 %\n",
      "\u001b[36m(launch_and_fit pid=29448)\u001b[0m \tTrain Epoch: 9 \tTrain_loss: 0.7082 | Train_acc: 78.3750 % | Validation_loss: 2.0460 | Validation_acc: 51.6369 %\n",
      "\u001b[36m(launch_and_fit pid=29448)\u001b[0m \tTrain Epoch: 10 \tTrain_loss: 0.4123 | Train_acc: 84.3750 % | Validation_loss: 2.0446 | Validation_acc: 52.9762 %\n",
      "\u001b[36m(launch_and_fit pid=29448)\u001b[0m save graph in  results/FL/\n"
     ]
    },
    {
     "name": "stderr",
     "output_type": "stream",
     "text": [
      "100%|\u001b[34m██████████\u001b[0m| 10/10 [00:00<00:00, 11.76it/s]\n"
     ]
    },
    {
     "name": "stdout",
     "output_type": "stream",
     "text": [
      "\u001b[36m(launch_and_fit pid=29448)\u001b[0m Run WITHOUT homomorphic encryption\n",
      "\u001b[36m(launch_and_fit pid=29448)\u001b[0m  To get the checkpoint\n",
      "\u001b[36m(launch_and_fit pid=29448)\u001b[0m [Client 1, round 27] fit, config: {'learning_rate': 0.003, 'batch_size': '16', 'server_round': 27, 'local_epochs': 10}\n",
      "\u001b[36m(launch_and_fit pid=29448)\u001b[0m Updated model\n",
      "\u001b[36m(launch_and_fit pid=29448)\u001b[0m \tTrain Epoch: 1 \tTrain_loss: 0.8797 | Train_acc: 70.7500 % | Validation_loss: 2.0185 | Validation_acc: 58.4821 %\n"
     ]
    },
    {
     "name": "stderr",
     "output_type": "stream",
     "text": [
      "  0%|\u001b[34m          \u001b[0m| 0/10 [00:00<?, ?it/s]\n"
     ]
    },
    {
     "name": "stdout",
     "output_type": "stream",
     "text": [
      "\u001b[36m(launch_and_fit pid=29448)\u001b[0m \tTrain Epoch: 2 \tTrain_loss: 0.5056 | Train_acc: 81.2500 % | Validation_loss: 2.1438 | Validation_acc: 61.6071 %\n",
      "\u001b[36m(launch_and_fit pid=29448)\u001b[0m \tTrain Epoch: 3 \tTrain_loss: 0.5058 | Train_acc: 82.6250 % | Validation_loss: 2.2483 | Validation_acc: 64.7321 %\n",
      "\u001b[36m(launch_and_fit pid=29448)\u001b[0m \tTrain Epoch: 4 \tTrain_loss: 0.5163 | Train_acc: 81.9500 % | Validation_loss: 2.4748 | Validation_acc: 59.5238 %\n"
     ]
    },
    {
     "name": "stderr",
     "output_type": "stream",
     "text": [
      " 20%|\u001b[34m██        \u001b[0m| 2/10 [00:00<00:00, 12.11it/s]\n",
      " 40%|\u001b[34m████      \u001b[0m| 4/10 [00:00<00:00, 11.67it/s]\n"
     ]
    },
    {
     "name": "stdout",
     "output_type": "stream",
     "text": [
      "\u001b[36m(launch_and_fit pid=29448)\u001b[0m \tTrain Epoch: 5 \tTrain_loss: 0.4862 | Train_acc: 83.2250 % | Validation_loss: 2.1387 | Validation_acc: 62.3512 %\n",
      "\u001b[36m(launch_and_fit pid=29448)\u001b[0m \tTrain Epoch: 6 \tTrain_loss: 0.5299 | Train_acc: 82.7000 % | Validation_loss: 2.3988 | Validation_acc: 55.8036 %\n"
     ]
    },
    {
     "name": "stderr",
     "output_type": "stream",
     "text": [
      " 60%|\u001b[34m██████    \u001b[0m| 6/10 [00:00<00:00, 11.87it/s]\n"
     ]
    },
    {
     "name": "stdout",
     "output_type": "stream",
     "text": [
      "\u001b[36m(launch_and_fit pid=29448)\u001b[0m \tTrain Epoch: 7 \tTrain_loss: 0.5653 | Train_acc: 80.7250 % | Validation_loss: 2.3017 | Validation_acc: 57.4405 %\n",
      "\u001b[36m(launch_and_fit pid=29448)\u001b[0m \tTrain Epoch: 8 \tTrain_loss: 0.4310 | Train_acc: 86.7500 % | Validation_loss: 2.6609 | Validation_acc: 55.3571 %\n",
      "\u001b[36m(launch_and_fit pid=29448)\u001b[0m \tTrain Epoch: 9 \tTrain_loss: 0.4314 | Train_acc: 85.7000 % | Validation_loss: 2.7146 | Validation_acc: 64.7321 %\n"
     ]
    },
    {
     "name": "stderr",
     "output_type": "stream",
     "text": [
      " 80%|\u001b[34m████████  \u001b[0m| 8/10 [00:00<00:00, 11.82it/s]\n",
      "100%|\u001b[34m██████████\u001b[0m| 10/10 [00:00<00:00, 11.89it/s]\n"
     ]
    },
    {
     "name": "stdout",
     "output_type": "stream",
     "text": [
      "\u001b[36m(launch_and_fit pid=29448)\u001b[0m \tTrain Epoch: 10 \tTrain_loss: 0.2790 | Train_acc: 90.7250 % | Validation_loss: 2.5944 | Validation_acc: 64.7321 %\n",
      "\u001b[36m(launch_and_fit pid=29448)\u001b[0m save graph in  results/FL/\n",
      "\u001b[36m(launch_and_fit pid=29448)\u001b[0m Run WITHOUT homomorphic encryption\n",
      "\u001b[36m(launch_and_fit pid=29448)\u001b[0m  To get the checkpoint\n",
      "\u001b[36m(launch_and_fit pid=29448)\u001b[0m [Client 2, round 27] fit, config: {'learning_rate': 0.003, 'batch_size': '16', 'server_round': 27, 'local_epochs': 10}\n",
      "\u001b[36m(launch_and_fit pid=29448)\u001b[0m Updated model\n",
      "\u001b[36m(launch_and_fit pid=29448)\u001b[0m \tTrain Epoch: 1 \tTrain_loss: 0.7213 | Train_acc: 78.6000 % | Validation_loss: 1.2314 | Validation_acc: 67.1131 %\n"
     ]
    },
    {
     "name": "stderr",
     "output_type": "stream",
     "text": [
      "  0%|\u001b[34m          \u001b[0m| 0/10 [00:00<?, ?it/s]\n"
     ]
    },
    {
     "name": "stdout",
     "output_type": "stream",
     "text": [
      "\u001b[36m(launch_and_fit pid=29448)\u001b[0m \tTrain Epoch: 2 \tTrain_loss: 0.5218 | Train_acc: 81.8500 % | Validation_loss: 1.3873 | Validation_acc: 70.2381 %\n",
      "\u001b[36m(launch_and_fit pid=29448)\u001b[0m \tTrain Epoch: 3 \tTrain_loss: 0.4246 | Train_acc: 85.7500 % | Validation_loss: 1.5188 | Validation_acc: 69.1964 %\n",
      "\u001b[36m(launch_and_fit pid=29448)\u001b[0m \tTrain Epoch: 4 \tTrain_loss: 0.3722 | Train_acc: 87.0000 % | Validation_loss: 1.3582 | Validation_acc: 71.2798 %\n"
     ]
    },
    {
     "name": "stderr",
     "output_type": "stream",
     "text": [
      " 20%|\u001b[34m██        \u001b[0m| 2/10 [00:00<00:00, 11.38it/s]\n",
      " 40%|\u001b[34m████      \u001b[0m| 4/10 [00:00<00:00, 11.98it/s]\n"
     ]
    },
    {
     "name": "stdout",
     "output_type": "stream",
     "text": [
      "\u001b[36m(launch_and_fit pid=29448)\u001b[0m \tTrain Epoch: 5 \tTrain_loss: 0.3674 | Train_acc: 87.3500 % | Validation_loss: 1.7371 | Validation_acc: 63.9881 %\n",
      "\u001b[36m(launch_and_fit pid=29448)\u001b[0m \tTrain Epoch: 6 \tTrain_loss: 0.4103 | Train_acc: 85.2500 % | Validation_loss: 1.5995 | Validation_acc: 68.1548 %\n"
     ]
    },
    {
     "name": "stderr",
     "output_type": "stream",
     "text": [
      " 60%|\u001b[34m██████    \u001b[0m| 6/10 [00:00<00:00, 11.61it/s]\n"
     ]
    },
    {
     "name": "stdout",
     "output_type": "stream",
     "text": [
      "\u001b[36m(launch_and_fit pid=29448)\u001b[0m \tTrain Epoch: 7 \tTrain_loss: 0.6047 | Train_acc: 79.6500 % | Validation_loss: 1.5676 | Validation_acc: 60.8631 %\n",
      "\u001b[36m(launch_and_fit pid=29448)\u001b[0m \tTrain Epoch: 8 \tTrain_loss: 0.4547 | Train_acc: 84.8750 % | Validation_loss: 1.3419 | Validation_acc: 69.1964 %\n",
      "\u001b[36m(launch_and_fit pid=29448)\u001b[0m \tTrain Epoch: 9 \tTrain_loss: 0.4990 | Train_acc: 82.6250 % | Validation_loss: 1.6377 | Validation_acc: 58.7798 %\n"
     ]
    },
    {
     "name": "stderr",
     "output_type": "stream",
     "text": [
      " 80%|\u001b[34m████████  \u001b[0m| 8/10 [00:00<00:00, 11.76it/s]\n",
      "100%|\u001b[34m██████████\u001b[0m| 10/10 [00:00<00:00, 11.63it/s]\n",
      "DEBUG flwr 2024-08-30 01:22:47,466 | server.py:236 | fit_round 27 received 4 results and 0 failures\n"
     ]
    },
    {
     "name": "stdout",
     "output_type": "stream",
     "text": [
      "\u001b[36m(launch_and_fit pid=29448)\u001b[0m \tTrain Epoch: 10 \tTrain_loss: 0.8135 | Train_acc: 75.8500 % | Validation_loss: 1.3878 | Validation_acc: 56.6964 %\n",
      "\u001b[36m(launch_and_fit pid=29448)\u001b[0m save graph in  results/FL/\n",
      "Saving round 27 aggregated_parameters...\n"
     ]
    },
    {
     "name": "stderr",
     "output_type": "stream",
     "text": [
      "INFO flwr 2024-08-30 01:22:47,635 | server.py:125 | fit progress: (27, 2.1441455884413285, {'accuracy': 65.9469696969697}, 376.90735417278484)\n",
      "DEBUG flwr 2024-08-30 01:22:47,636 | server.py:173 | evaluate_round 27: strategy sampled 4 clients (out of 4)\n"
     ]
    },
    {
     "name": "stdout",
     "output_type": "stream",
     "text": [
      "Updated model\n",
      "Server-side evaluation loss 2.1441455884413285 / accuracy 65.9469696969697\n",
      "\u001b[36m(launch_and_evaluate pid=29448)\u001b[0m Run WITHOUT homomorphic encryption\n",
      "\u001b[36m(launch_and_evaluate pid=29448)\u001b[0m  To get the checkpoint\n",
      "\u001b[36m(launch_and_evaluate pid=29448)\u001b[0m [Client 2] evaluate, config: {}\n",
      "\u001b[36m(launch_and_evaluate pid=29448)\u001b[0m Updated model\n",
      "\u001b[36m(launch_and_evaluate pid=29448)\u001b[0m Run WITHOUT homomorphic encryption\n",
      "\u001b[36m(launch_and_evaluate pid=29448)\u001b[0m  To get the checkpoint\n",
      "\u001b[36m(launch_and_evaluate pid=29448)\u001b[0m [Client 3] evaluate, config: {}\n",
      "\u001b[36m(launch_and_evaluate pid=29448)\u001b[0m Updated model\n",
      "\u001b[36m(launch_and_evaluate pid=29448)\u001b[0m Run WITHOUT homomorphic encryption\n",
      "\u001b[36m(launch_and_evaluate pid=29448)\u001b[0m  To get the checkpoint\n",
      "\u001b[36m(launch_and_evaluate pid=29448)\u001b[0m [Client 1] evaluate, config: {}\n",
      "\u001b[36m(launch_and_evaluate pid=29448)\u001b[0m Updated model\n",
      "\u001b[36m(launch_and_evaluate pid=29448)\u001b[0m Run WITHOUT homomorphic encryption\n",
      "\u001b[36m(launch_and_evaluate pid=29448)\u001b[0m  To get the checkpoint\n",
      "\u001b[36m(launch_and_evaluate pid=29448)\u001b[0m [Client 0] evaluate, config: {}\n",
      "\u001b[36m(launch_and_evaluate pid=29448)\u001b[0m Updated model\n"
     ]
    },
    {
     "name": "stderr",
     "output_type": "stream",
     "text": [
      "DEBUG flwr 2024-08-30 01:22:50,353 | server.py:187 | evaluate_round 27 received 4 results and 0 failures\n",
      "DEBUG flwr 2024-08-30 01:22:50,354 | server.py:222 | fit_round 28: strategy sampled 4 clients (out of 4)\n"
     ]
    },
    {
     "name": "stdout",
     "output_type": "stream",
     "text": [
      "\u001b[36m(launch_and_fit pid=29448)\u001b[0m Run WITHOUT homomorphic encryption\n",
      "\u001b[36m(launch_and_fit pid=29448)\u001b[0m  To get the checkpoint\n",
      "\u001b[36m(launch_and_fit pid=29448)\u001b[0m [Client 2, round 28] fit, config: {'learning_rate': 0.003, 'batch_size': '16', 'server_round': 28, 'local_epochs': 10}\n",
      "\u001b[36m(launch_and_fit pid=29448)\u001b[0m Updated model\n",
      "\u001b[36m(launch_and_fit pid=29448)\u001b[0m \tTrain Epoch: 1 \tTrain_loss: 0.7591 | Train_acc: 74.2000 % | Validation_loss: 1.6750 | Validation_acc: 62.9464 %\n"
     ]
    },
    {
     "name": "stderr",
     "output_type": "stream",
     "text": [
      "  0%|\u001b[34m          \u001b[0m| 0/10 [00:00<?, ?it/s]\n"
     ]
    },
    {
     "name": "stdout",
     "output_type": "stream",
     "text": [
      "\u001b[36m(launch_and_fit pid=29448)\u001b[0m \tTrain Epoch: 2 \tTrain_loss: 0.4681 | Train_acc: 82.9750 % | Validation_loss: 1.6205 | Validation_acc: 63.9881 %\n",
      "\u001b[36m(launch_and_fit pid=29448)\u001b[0m \tTrain Epoch: 3 \tTrain_loss: 0.4389 | Train_acc: 84.5500 % | Validation_loss: 1.5752 | Validation_acc: 68.1548 %\n"
     ]
    },
    {
     "name": "stderr",
     "output_type": "stream",
     "text": [
      " 20%|\u001b[34m██        \u001b[0m| 2/10 [00:00<00:00, 10.85it/s]\n"
     ]
    },
    {
     "name": "stdout",
     "output_type": "stream",
     "text": [
      "\u001b[36m(launch_and_fit pid=29448)\u001b[0m \tTrain Epoch: 4 \tTrain_loss: 0.4484 | Train_acc: 84.9750 % | Validation_loss: 1.4186 | Validation_acc: 67.1131 %\n",
      "\u001b[36m(launch_and_fit pid=29448)\u001b[0m \tTrain Epoch: 5 \tTrain_loss: 0.4476 | Train_acc: 85.1250 % | Validation_loss: 1.2704 | Validation_acc: 66.0714 %\n",
      "\u001b[36m(launch_and_fit pid=29448)\u001b[0m \tTrain Epoch: 6 \tTrain_loss: 0.4630 | Train_acc: 83.9750 % | Validation_loss: 1.4030 | Validation_acc: 66.0714 %\n"
     ]
    },
    {
     "name": "stderr",
     "output_type": "stream",
     "text": [
      " 40%|\u001b[34m████      \u001b[0m| 4/10 [00:00<00:00, 11.16it/s]\n",
      " 60%|\u001b[34m██████    \u001b[0m| 6/10 [00:00<00:00, 11.40it/s]\n"
     ]
    },
    {
     "name": "stdout",
     "output_type": "stream",
     "text": [
      "\u001b[36m(launch_and_fit pid=29448)\u001b[0m \tTrain Epoch: 7 \tTrain_loss: 0.4644 | Train_acc: 85.0000 % | Validation_loss: 1.4641 | Validation_acc: 68.1548 %\n",
      "\u001b[36m(launch_and_fit pid=29448)\u001b[0m \tTrain Epoch: 8 \tTrain_loss: 0.3643 | Train_acc: 89.1250 % | Validation_loss: 1.3868 | Validation_acc: 62.9464 %\n"
     ]
    },
    {
     "name": "stderr",
     "output_type": "stream",
     "text": [
      " 80%|\u001b[34m████████  \u001b[0m| 8/10 [00:00<00:00, 11.42it/s]\n"
     ]
    },
    {
     "name": "stdout",
     "output_type": "stream",
     "text": [
      "\u001b[36m(launch_and_fit pid=29448)\u001b[0m \tTrain Epoch: 9 \tTrain_loss: 0.2949 | Train_acc: 90.5000 % | Validation_loss: 1.4678 | Validation_acc: 68.1548 %\n",
      "\u001b[36m(launch_and_fit pid=29448)\u001b[0m \tTrain Epoch: 10 \tTrain_loss: 0.2029 | Train_acc: 93.7500 % | Validation_loss: 1.5450 | Validation_acc: 70.2381 %\n",
      "\u001b[36m(launch_and_fit pid=29448)\u001b[0m save graph in  results/FL/\n"
     ]
    },
    {
     "name": "stderr",
     "output_type": "stream",
     "text": [
      "100%|\u001b[34m██████████\u001b[0m| 10/10 [00:00<00:00, 11.50it/s]\n"
     ]
    },
    {
     "name": "stdout",
     "output_type": "stream",
     "text": [
      "\u001b[36m(launch_and_fit pid=29448)\u001b[0m Run WITHOUT homomorphic encryption\n",
      "\u001b[36m(launch_and_fit pid=29448)\u001b[0m  To get the checkpoint\n",
      "\u001b[36m(launch_and_fit pid=29448)\u001b[0m [Client 0, round 28] fit, config: {'learning_rate': 0.003, 'batch_size': '16', 'server_round': 28, 'local_epochs': 10}\n",
      "\u001b[36m(launch_and_fit pid=29448)\u001b[0m Updated model\n"
     ]
    },
    {
     "name": "stderr",
     "output_type": "stream",
     "text": [
      "  0%|\u001b[34m          \u001b[0m| 0/10 [00:00<?, ?it/s]\n"
     ]
    },
    {
     "name": "stdout",
     "output_type": "stream",
     "text": [
      "\u001b[36m(launch_and_fit pid=29448)\u001b[0m \tTrain Epoch: 1 \tTrain_loss: 0.6341 | Train_acc: 77.3500 % | Validation_loss: 2.4692 | Validation_acc: 61.1607 %\n",
      "\u001b[36m(launch_and_fit pid=29448)\u001b[0m \tTrain Epoch: 2 \tTrain_loss: 0.4702 | Train_acc: 83.5000 % | Validation_loss: 2.6530 | Validation_acc: 57.7381 %\n"
     ]
    },
    {
     "name": "stderr",
     "output_type": "stream",
     "text": [
      " 20%|\u001b[34m██        \u001b[0m| 2/10 [00:00<00:00, 11.76it/s]\n"
     ]
    },
    {
     "name": "stdout",
     "output_type": "stream",
     "text": [
      "\u001b[36m(launch_and_fit pid=29448)\u001b[0m \tTrain Epoch: 3 \tTrain_loss: 0.3317 | Train_acc: 89.0000 % | Validation_loss: 2.4269 | Validation_acc: 65.3274 %\n",
      "\u001b[36m(launch_and_fit pid=29448)\u001b[0m \tTrain Epoch: 4 \tTrain_loss: 0.2689 | Train_acc: 92.3750 % | Validation_loss: 3.0479 | Validation_acc: 61.1607 %\n"
     ]
    },
    {
     "name": "stderr",
     "output_type": "stream",
     "text": [
      " 40%|\u001b[34m████      \u001b[0m| 4/10 [00:00<00:00, 11.68it/s]\n",
      " 60%|\u001b[34m██████    \u001b[0m| 6/10 [00:00<00:00, 11.81it/s]\n"
     ]
    },
    {
     "name": "stdout",
     "output_type": "stream",
     "text": [
      "\u001b[36m(launch_and_fit pid=29448)\u001b[0m \tTrain Epoch: 5 \tTrain_loss: 0.3958 | Train_acc: 85.9750 % | Validation_loss: 3.3547 | Validation_acc: 57.7381 %\n",
      "\u001b[36m(launch_and_fit pid=29448)\u001b[0m \tTrain Epoch: 6 \tTrain_loss: 0.5721 | Train_acc: 80.5750 % | Validation_loss: 3.7599 | Validation_acc: 48.0655 %\n",
      "\u001b[36m(launch_and_fit pid=29448)\u001b[0m \tTrain Epoch: 7 \tTrain_loss: 0.6872 | Train_acc: 77.3750 % | Validation_loss: 3.4354 | Validation_acc: 50.1488 %\n",
      "\u001b[36m(launch_and_fit pid=29448)\u001b[0m \tTrain Epoch: 8 \tTrain_loss: 0.6045 | Train_acc: 80.3500 % | Validation_loss: 3.7968 | Validation_acc: 42.8571 %\n",
      "\u001b[36m(launch_and_fit pid=29448)\u001b[0m \tTrain Epoch: 9 \tTrain_loss: 0.4282 | Train_acc: 85.1000 % | Validation_loss: 2.7385 | Validation_acc: 62.2024 %\n"
     ]
    },
    {
     "name": "stderr",
     "output_type": "stream",
     "text": [
      " 80%|\u001b[34m████████  \u001b[0m| 8/10 [00:00<00:00, 11.84it/s]\n"
     ]
    },
    {
     "name": "stdout",
     "output_type": "stream",
     "text": [
      "\u001b[36m(launch_and_fit pid=29448)\u001b[0m \tTrain Epoch: 10 \tTrain_loss: 0.2295 | Train_acc: 93.1250 % | Validation_loss: 3.1660 | Validation_acc: 61.1607 %\n",
      "\u001b[36m(launch_and_fit pid=29448)\u001b[0m save graph in  results/FL/\n"
     ]
    },
    {
     "name": "stderr",
     "output_type": "stream",
     "text": [
      "100%|\u001b[34m██████████\u001b[0m| 10/10 [00:00<00:00, 11.69it/s]\n"
     ]
    },
    {
     "name": "stdout",
     "output_type": "stream",
     "text": [
      "\u001b[36m(launch_and_fit pid=29448)\u001b[0m Run WITHOUT homomorphic encryption\n",
      "\u001b[36m(launch_and_fit pid=29448)\u001b[0m  To get the checkpoint\n",
      "\u001b[36m(launch_and_fit pid=29448)\u001b[0m [Client 3, round 28] fit, config: {'learning_rate': 0.003, 'batch_size': '16', 'server_round': 28, 'local_epochs': 10}\n",
      "\u001b[36m(launch_and_fit pid=29448)\u001b[0m Updated model\n"
     ]
    },
    {
     "name": "stderr",
     "output_type": "stream",
     "text": [
      "  0%|\u001b[34m          \u001b[0m| 0/10 [00:00<?, ?it/s]\n"
     ]
    },
    {
     "name": "stdout",
     "output_type": "stream",
     "text": [
      "\u001b[36m(launch_and_fit pid=29448)\u001b[0m \tTrain Epoch: 1 \tTrain_loss: 0.6401 | Train_acc: 77.7000 % | Validation_loss: 1.9102 | Validation_acc: 59.2262 %\n",
      "\u001b[36m(launch_and_fit pid=29448)\u001b[0m \tTrain Epoch: 2 \tTrain_loss: 0.5263 | Train_acc: 82.9500 % | Validation_loss: 2.0574 | Validation_acc: 52.9762 %\n"
     ]
    },
    {
     "name": "stderr",
     "output_type": "stream",
     "text": [
      " 20%|\u001b[34m██        \u001b[0m| 2/10 [00:00<00:00, 11.65it/s]\n"
     ]
    },
    {
     "name": "stdout",
     "output_type": "stream",
     "text": [
      "\u001b[36m(launch_and_fit pid=29448)\u001b[0m \tTrain Epoch: 3 \tTrain_loss: 0.6518 | Train_acc: 80.6000 % | Validation_loss: 2.1200 | Validation_acc: 60.2679 %\n",
      "\u001b[36m(launch_and_fit pid=29448)\u001b[0m \tTrain Epoch: 4 \tTrain_loss: 0.4327 | Train_acc: 84.8500 % | Validation_loss: 2.0483 | Validation_acc: 56.1012 %\n"
     ]
    },
    {
     "name": "stderr",
     "output_type": "stream",
     "text": [
      " 40%|\u001b[34m████      \u001b[0m| 4/10 [00:00<00:00, 11.70it/s]\n",
      " 60%|\u001b[34m██████    \u001b[0m| 6/10 [00:00<00:00, 11.65it/s]\n"
     ]
    },
    {
     "name": "stdout",
     "output_type": "stream",
     "text": [
      "\u001b[36m(launch_and_fit pid=29448)\u001b[0m \tTrain Epoch: 5 \tTrain_loss: 0.3925 | Train_acc: 86.3500 % | Validation_loss: 2.2093 | Validation_acc: 58.1845 %\n",
      "\u001b[36m(launch_and_fit pid=29448)\u001b[0m \tTrain Epoch: 6 \tTrain_loss: 0.2947 | Train_acc: 89.1250 % | Validation_loss: 2.1408 | Validation_acc: 59.5238 %\n",
      "\u001b[36m(launch_and_fit pid=29448)\u001b[0m \tTrain Epoch: 7 \tTrain_loss: 0.2873 | Train_acc: 89.8750 % | Validation_loss: 2.2413 | Validation_acc: 61.3095 %\n",
      "\u001b[36m(launch_and_fit pid=29448)\u001b[0m \tTrain Epoch: 8 \tTrain_loss: 0.2284 | Train_acc: 92.2500 % | Validation_loss: 2.1544 | Validation_acc: 63.3929 %\n",
      "\u001b[36m(launch_and_fit pid=29448)\u001b[0m \tTrain Epoch: 9 \tTrain_loss: 0.2613 | Train_acc: 92.1000 % | Validation_loss: 2.6106 | Validation_acc: 56.1012 %\n"
     ]
    },
    {
     "name": "stderr",
     "output_type": "stream",
     "text": [
      " 80%|\u001b[34m████████  \u001b[0m| 8/10 [00:00<00:00, 12.03it/s]\n"
     ]
    },
    {
     "name": "stdout",
     "output_type": "stream",
     "text": [
      "\u001b[36m(launch_and_fit pid=29448)\u001b[0m \tTrain Epoch: 10 \tTrain_loss: 0.3069 | Train_acc: 89.1000 % | Validation_loss: 2.3772 | Validation_acc: 57.1429 %\n",
      "\u001b[36m(launch_and_fit pid=29448)\u001b[0m save graph in  results/FL/\n",
      "\u001b[36m(launch_and_fit pid=29448)\u001b[0m Run WITHOUT homomorphic encryption\n",
      "\u001b[36m(launch_and_fit pid=29448)\u001b[0m  To get the checkpoint\n"
     ]
    },
    {
     "name": "stderr",
     "output_type": "stream",
     "text": [
      "100%|\u001b[34m██████████\u001b[0m| 10/10 [00:00<00:00, 11.99it/s]\n"
     ]
    },
    {
     "name": "stdout",
     "output_type": "stream",
     "text": [
      "\u001b[36m(launch_and_fit pid=29448)\u001b[0m [Client 1, round 28] fit, config: {'learning_rate': 0.003, 'batch_size': '16', 'server_round': 28, 'local_epochs': 10}\n",
      "\u001b[36m(launch_and_fit pid=29448)\u001b[0m Updated model\n",
      "\u001b[36m(launch_and_fit pid=29448)\u001b[0m \tTrain Epoch: 1 \tTrain_loss: 0.7265 | Train_acc: 73.9500 % | Validation_loss: 1.9105 | Validation_acc: 62.6488 %\n"
     ]
    },
    {
     "name": "stderr",
     "output_type": "stream",
     "text": [
      "  0%|\u001b[34m          \u001b[0m| 0/10 [00:00<?, ?it/s]\n"
     ]
    },
    {
     "name": "stdout",
     "output_type": "stream",
     "text": [
      "\u001b[36m(launch_and_fit pid=29448)\u001b[0m \tTrain Epoch: 2 \tTrain_loss: 0.4924 | Train_acc: 83.5000 % | Validation_loss: 2.4185 | Validation_acc: 56.3988 %\n",
      "\u001b[36m(launch_and_fit pid=29448)\u001b[0m \tTrain Epoch: 3 \tTrain_loss: 0.4802 | Train_acc: 83.9750 % | Validation_loss: 2.0136 | Validation_acc: 59.5238 %\n"
     ]
    },
    {
     "name": "stderr",
     "output_type": "stream",
     "text": [
      " 20%|\u001b[34m██        \u001b[0m| 2/10 [00:00<00:00, 11.30it/s]\n"
     ]
    },
    {
     "name": "stdout",
     "output_type": "stream",
     "text": [
      "\u001b[36m(launch_and_fit pid=29448)\u001b[0m \tTrain Epoch: 4 \tTrain_loss: 0.4731 | Train_acc: 82.5750 % | Validation_loss: 2.6959 | Validation_acc: 56.3988 %\n",
      "\u001b[36m(launch_and_fit pid=29448)\u001b[0m \tTrain Epoch: 5 \tTrain_loss: 0.3913 | Train_acc: 85.7500 % | Validation_loss: 2.4533 | Validation_acc: 63.6905 %\n",
      "\u001b[36m(launch_and_fit pid=29448)\u001b[0m \tTrain Epoch: 6 \tTrain_loss: 0.3246 | Train_acc: 88.7500 % | Validation_loss: 2.4049 | Validation_acc: 61.6071 %\n"
     ]
    },
    {
     "name": "stderr",
     "output_type": "stream",
     "text": [
      " 40%|\u001b[34m████      \u001b[0m| 4/10 [00:00<00:00, 11.56it/s]\n",
      " 60%|\u001b[34m██████    \u001b[0m| 6/10 [00:00<00:00, 11.89it/s]\n"
     ]
    },
    {
     "name": "stdout",
     "output_type": "stream",
     "text": [
      "\u001b[36m(launch_and_fit pid=29448)\u001b[0m \tTrain Epoch: 7 \tTrain_loss: 0.2656 | Train_acc: 91.0000 % | Validation_loss: 2.6849 | Validation_acc: 62.6488 %\n",
      "\u001b[36m(launch_and_fit pid=29448)\u001b[0m \tTrain Epoch: 8 \tTrain_loss: 0.2223 | Train_acc: 93.3750 % | Validation_loss: 2.9107 | Validation_acc: 58.4821 %\n",
      "\u001b[36m(launch_and_fit pid=29448)\u001b[0m \tTrain Epoch: 9 \tTrain_loss: 0.4502 | Train_acc: 84.8500 % | Validation_loss: 2.4936 | Validation_acc: 59.5238 %\n"
     ]
    },
    {
     "name": "stderr",
     "output_type": "stream",
     "text": [
      " 80%|\u001b[34m████████  \u001b[0m| 8/10 [00:00<00:00, 12.27it/s]\n",
      "100%|\u001b[34m██████████\u001b[0m| 10/10 [00:00<00:00, 12.21it/s]\n",
      "DEBUG flwr 2024-08-30 01:22:55,290 | server.py:236 | fit_round 28 received 4 results and 0 failures\n"
     ]
    },
    {
     "name": "stdout",
     "output_type": "stream",
     "text": [
      "\u001b[36m(launch_and_fit pid=29448)\u001b[0m \tTrain Epoch: 10 \tTrain_loss: 0.7121 | Train_acc: 75.8250 % | Validation_loss: 2.7084 | Validation_acc: 57.4405 %\n",
      "\u001b[36m(launch_and_fit pid=29448)\u001b[0m save graph in  results/FL/\n",
      "Saving round 28 aggregated_parameters...\n",
      "Updated model\n"
     ]
    },
    {
     "name": "stderr",
     "output_type": "stream",
     "text": [
      "INFO flwr 2024-08-30 01:22:55,349 | server.py:125 | fit progress: (28, 2.0299324940551413, {'accuracy': 68.25757575757575}, 384.6218092981726)\n",
      "DEBUG flwr 2024-08-30 01:22:55,350 | server.py:173 | evaluate_round 28: strategy sampled 4 clients (out of 4)\n"
     ]
    },
    {
     "name": "stdout",
     "output_type": "stream",
     "text": [
      "Server-side evaluation loss 2.0299324940551413 / accuracy 68.25757575757575\n",
      "\u001b[36m(launch_and_evaluate pid=29448)\u001b[0m Run WITHOUT homomorphic encryption\n",
      "\u001b[36m(launch_and_evaluate pid=29448)\u001b[0m  To get the checkpoint\n",
      "\u001b[36m(launch_and_evaluate pid=29448)\u001b[0m [Client 0] evaluate, config: {}\n",
      "\u001b[36m(launch_and_evaluate pid=29448)\u001b[0m Updated model\n",
      "\u001b[36m(launch_and_evaluate pid=29448)\u001b[0m Run WITHOUT homomorphic encryption\n",
      "\u001b[36m(launch_and_evaluate pid=29448)\u001b[0m  To get the checkpoint\n",
      "\u001b[36m(launch_and_evaluate pid=29448)\u001b[0m [Client 1] evaluate, config: {}\n",
      "\u001b[36m(launch_and_evaluate pid=29448)\u001b[0m Updated model\n",
      "\u001b[36m(launch_and_evaluate pid=29448)\u001b[0m Run WITHOUT homomorphic encryption\n",
      "\u001b[36m(launch_and_evaluate pid=29448)\u001b[0m  To get the checkpoint\n",
      "\u001b[36m(launch_and_evaluate pid=29448)\u001b[0m [Client 2] evaluate, config: {}\n",
      "\u001b[36m(launch_and_evaluate pid=29448)\u001b[0m Updated model\n",
      "\u001b[36m(launch_and_evaluate pid=29448)\u001b[0m Run WITHOUT homomorphic encryption\n",
      "\u001b[36m(launch_and_evaluate pid=29448)\u001b[0m  To get the checkpoint\n",
      "\u001b[36m(launch_and_evaluate pid=29448)\u001b[0m [Client 3] evaluate, config: {}\n",
      "\u001b[36m(launch_and_evaluate pid=29448)\u001b[0m Updated model\n"
     ]
    },
    {
     "name": "stderr",
     "output_type": "stream",
     "text": [
      "DEBUG flwr 2024-08-30 01:23:03,082 | server.py:187 | evaluate_round 28 received 4 results and 0 failures\n",
      "DEBUG flwr 2024-08-30 01:23:03,086 | server.py:222 | fit_round 29: strategy sampled 4 clients (out of 4)\n"
     ]
    },
    {
     "name": "stdout",
     "output_type": "stream",
     "text": [
      "\u001b[36m(launch_and_fit pid=29448)\u001b[0m Run WITHOUT homomorphic encryption\n",
      "\u001b[36m(launch_and_fit pid=29448)\u001b[0m  To get the checkpoint\n",
      "\u001b[36m(launch_and_fit pid=29448)\u001b[0m [Client 0, round 29] fit, config: {'learning_rate': 0.003, 'batch_size': '16', 'server_round': 29, 'local_epochs': 10}\n",
      "\u001b[36m(launch_and_fit pid=29448)\u001b[0m Updated model\n"
     ]
    },
    {
     "name": "stderr",
     "output_type": "stream",
     "text": [
      "  0%|\u001b[34m          \u001b[0m| 0/10 [00:00<?, ?it/s]\n"
     ]
    },
    {
     "name": "stdout",
     "output_type": "stream",
     "text": [
      "\u001b[36m(launch_and_fit pid=29448)\u001b[0m \tTrain Epoch: 1 \tTrain_loss: 0.6075 | Train_acc: 79.3750 % | Validation_loss: 2.7849 | Validation_acc: 58.7798 %\n"
     ]
    },
    {
     "name": "stderr",
     "output_type": "stream",
     "text": [
      " 10%|\u001b[34m█         \u001b[0m| 1/10 [00:00<00:07,  1.24it/s]\n"
     ]
    },
    {
     "name": "stdout",
     "output_type": "stream",
     "text": [
      "\u001b[36m(launch_and_fit pid=29448)\u001b[0m \tTrain Epoch: 2 \tTrain_loss: 0.3906 | Train_acc: 87.6250 % | Validation_loss: 2.7464 | Validation_acc: 56.6964 %\n"
     ]
    },
    {
     "name": "stderr",
     "output_type": "stream",
     "text": [
      " 20%|\u001b[34m██        \u001b[0m| 2/10 [00:01<00:04,  1.97it/s]\n"
     ]
    },
    {
     "name": "stdout",
     "output_type": "stream",
     "text": [
      "\u001b[36m(launch_and_fit pid=29448)\u001b[0m \tTrain Epoch: 3 \tTrain_loss: 0.2929 | Train_acc: 90.6250 % | Validation_loss: 2.9274 | Validation_acc: 58.7798 %\n"
     ]
    },
    {
     "name": "stderr",
     "output_type": "stream",
     "text": [
      " 30%|\u001b[34m███       \u001b[0m| 3/10 [00:01<00:04,  1.68it/s]\n"
     ]
    },
    {
     "name": "stdout",
     "output_type": "stream",
     "text": [
      "\u001b[36m(launch_and_fit pid=29448)\u001b[0m \tTrain Epoch: 4 \tTrain_loss: 0.2896 | Train_acc: 90.2500 % | Validation_loss: 3.0642 | Validation_acc: 58.4821 %\n"
     ]
    },
    {
     "name": "stderr",
     "output_type": "stream",
     "text": [
      " 40%|\u001b[34m████      \u001b[0m| 4/10 [00:02<00:03,  1.68it/s]\n"
     ]
    },
    {
     "name": "stdout",
     "output_type": "stream",
     "text": [
      "\u001b[36m(launch_and_fit pid=29448)\u001b[0m \tTrain Epoch: 5 \tTrain_loss: 0.2411 | Train_acc: 92.1250 % | Validation_loss: 2.9067 | Validation_acc: 60.8631 %\n"
     ]
    },
    {
     "name": "stderr",
     "output_type": "stream",
     "text": [
      " 50%|\u001b[34m█████     \u001b[0m| 5/10 [00:02<00:02,  1.92it/s]\n"
     ]
    },
    {
     "name": "stdout",
     "output_type": "stream",
     "text": [
      "\u001b[36m(launch_and_fit pid=29448)\u001b[0m \tTrain Epoch: 6 \tTrain_loss: 0.1990 | Train_acc: 93.6250 % | Validation_loss: 3.6592 | Validation_acc: 57.7381 %\n"
     ]
    },
    {
     "name": "stderr",
     "output_type": "stream",
     "text": [
      " 60%|\u001b[34m██████    \u001b[0m| 6/10 [00:03<00:01,  2.38it/s]\n"
     ]
    },
    {
     "name": "stdout",
     "output_type": "stream",
     "text": [
      "\u001b[36m(launch_and_fit pid=29448)\u001b[0m \tTrain Epoch: 7 \tTrain_loss: 0.2511 | Train_acc: 92.0000 % | Validation_loss: 3.6037 | Validation_acc: 57.7381 %\n"
     ]
    },
    {
     "name": "stderr",
     "output_type": "stream",
     "text": [
      " 70%|\u001b[34m███████   \u001b[0m| 7/10 [00:03<00:01,  1.82it/s]\n"
     ]
    },
    {
     "name": "stdout",
     "output_type": "stream",
     "text": [
      "\u001b[36m(launch_and_fit pid=29448)\u001b[0m \tTrain Epoch: 8 \tTrain_loss: 0.2937 | Train_acc: 89.2250 % | Validation_loss: 4.4740 | Validation_acc: 54.3155 %\n"
     ]
    },
    {
     "name": "stderr",
     "output_type": "stream",
     "text": [
      " 80%|\u001b[34m████████  \u001b[0m| 8/10 [00:04<00:00,  2.15it/s]\n"
     ]
    },
    {
     "name": "stdout",
     "output_type": "stream",
     "text": [
      "\u001b[36m(launch_and_fit pid=29448)\u001b[0m \tTrain Epoch: 9 \tTrain_loss: 0.7441 | Train_acc: 77.0500 % | Validation_loss: 3.2718 | Validation_acc: 49.4048 %\n"
     ]
    },
    {
     "name": "stderr",
     "output_type": "stream",
     "text": [
      " 90%|\u001b[34m█████████ \u001b[0m| 9/10 [00:04<00:00,  2.41it/s]\n"
     ]
    },
    {
     "name": "stdout",
     "output_type": "stream",
     "text": [
      "\u001b[36m(launch_and_fit pid=29448)\u001b[0m \tTrain Epoch: 10 \tTrain_loss: 0.8372 | Train_acc: 72.7500 % | Validation_loss: 2.4589 | Validation_acc: 59.8214 %\n",
      "\u001b[36m(launch_and_fit pid=29448)\u001b[0m save graph in  results/FL/\n"
     ]
    },
    {
     "name": "stderr",
     "output_type": "stream",
     "text": [
      "100%|\u001b[34m██████████\u001b[0m| 10/10 [00:04<00:00,  2.12it/s]\n"
     ]
    },
    {
     "name": "stdout",
     "output_type": "stream",
     "text": [
      "\u001b[36m(launch_and_fit pid=29448)\u001b[0m Run WITHOUT homomorphic encryption\n",
      "\u001b[36m(launch_and_fit pid=29448)\u001b[0m  To get the checkpoint\n",
      "\u001b[36m(launch_and_fit pid=29448)\u001b[0m [Client 3, round 29] fit, config: {'learning_rate': 0.003, 'batch_size': '16', 'server_round': 29, 'local_epochs': 10}\n",
      "\u001b[36m(launch_and_fit pid=29448)\u001b[0m Updated model\n"
     ]
    },
    {
     "name": "stderr",
     "output_type": "stream",
     "text": [
      "  0%|\u001b[34m          \u001b[0m| 0/10 [00:00<?, ?it/s]\n"
     ]
    },
    {
     "name": "stdout",
     "output_type": "stream",
     "text": [
      "\u001b[36m(launch_and_fit pid=29448)\u001b[0m \tTrain Epoch: 1 \tTrain_loss: 0.8062 | Train_acc: 72.7000 % | Validation_loss: 1.9311 | Validation_acc: 64.7321 %\n"
     ]
    },
    {
     "name": "stderr",
     "output_type": "stream",
     "text": [
      " 10%|\u001b[34m█         \u001b[0m| 1/10 [00:00<00:05,  1.70it/s]\n"
     ]
    },
    {
     "name": "stdout",
     "output_type": "stream",
     "text": [
      "\u001b[36m(launch_and_fit pid=29448)\u001b[0m \tTrain Epoch: 2 \tTrain_loss: 0.4669 | Train_acc: 83.5000 % | Validation_loss: 1.9755 | Validation_acc: 61.3095 %\n"
     ]
    },
    {
     "name": "stderr",
     "output_type": "stream",
     "text": [
      " 20%|\u001b[34m██        \u001b[0m| 2/10 [00:01<00:03,  2.05it/s]\n"
     ]
    },
    {
     "name": "stdout",
     "output_type": "stream",
     "text": [
      "\u001b[36m(launch_and_fit pid=29448)\u001b[0m \tTrain Epoch: 3 \tTrain_loss: 0.3446 | Train_acc: 87.7000 % | Validation_loss: 2.3671 | Validation_acc: 60.2679 %\n"
     ]
    },
    {
     "name": "stderr",
     "output_type": "stream",
     "text": [
      " 30%|\u001b[34m███       \u001b[0m| 3/10 [00:01<00:03,  1.86it/s]\n"
     ]
    },
    {
     "name": "stdout",
     "output_type": "stream",
     "text": [
      "\u001b[36m(launch_and_fit pid=29448)\u001b[0m \tTrain Epoch: 4 \tTrain_loss: 0.2375 | Train_acc: 92.2500 % | Validation_loss: 2.6904 | Validation_acc: 56.1012 %\n"
     ]
    },
    {
     "name": "stderr",
     "output_type": "stream",
     "text": [
      " 40%|\u001b[34m████      \u001b[0m| 4/10 [00:02<00:02,  2.05it/s]\n"
     ]
    },
    {
     "name": "stdout",
     "output_type": "stream",
     "text": [
      "\u001b[36m(launch_and_fit pid=29448)\u001b[0m \tTrain Epoch: 5 \tTrain_loss: 0.2844 | Train_acc: 90.3750 % | Validation_loss: 2.3321 | Validation_acc: 62.3512 %\n"
     ]
    },
    {
     "name": "stderr",
     "output_type": "stream",
     "text": [
      " 50%|\u001b[34m█████     \u001b[0m| 5/10 [00:02<00:02,  1.78it/s]\n"
     ]
    },
    {
     "name": "stdout",
     "output_type": "stream",
     "text": [
      "\u001b[36m(launch_and_fit pid=29448)\u001b[0m \tTrain Epoch: 6 \tTrain_loss: 0.2896 | Train_acc: 89.9750 % | Validation_loss: 2.6889 | Validation_acc: 58.9286 %\n"
     ]
    },
    {
     "name": "stderr",
     "output_type": "stream",
     "text": [
      " 60%|\u001b[34m██████    \u001b[0m| 6/10 [00:03<00:02,  1.83it/s]\n"
     ]
    },
    {
     "name": "stdout",
     "output_type": "stream",
     "text": [
      "\u001b[36m(launch_and_fit pid=29448)\u001b[0m \tTrain Epoch: 7 \tTrain_loss: 0.3239 | Train_acc: 88.7500 % | Validation_loss: 3.1706 | Validation_acc: 60.2679 %\n"
     ]
    },
    {
     "name": "stderr",
     "output_type": "stream",
     "text": [
      " 70%|\u001b[34m███████   \u001b[0m| 7/10 [00:03<00:01,  2.03it/s]\n"
     ]
    },
    {
     "name": "stdout",
     "output_type": "stream",
     "text": [
      "\u001b[36m(launch_and_fit pid=29448)\u001b[0m \tTrain Epoch: 8 \tTrain_loss: 0.2431 | Train_acc: 91.6250 % | Validation_loss: 2.8706 | Validation_acc: 58.1845 %\n"
     ]
    },
    {
     "name": "stderr",
     "output_type": "stream",
     "text": [
      " 80%|\u001b[34m████████  \u001b[0m| 8/10 [00:03<00:00,  2.17it/s]\n"
     ]
    },
    {
     "name": "stdout",
     "output_type": "stream",
     "text": [
      "\u001b[36m(launch_and_fit pid=29448)\u001b[0m \tTrain Epoch: 9 \tTrain_loss: 0.1724 | Train_acc: 95.2500 % | Validation_loss: 3.0413 | Validation_acc: 60.2679 %\n"
     ]
    },
    {
     "name": "stderr",
     "output_type": "stream",
     "text": [
      " 90%|\u001b[34m█████████ \u001b[0m| 9/10 [00:04<00:00,  1.85it/s]\n"
     ]
    },
    {
     "name": "stdout",
     "output_type": "stream",
     "text": [
      "\u001b[36m(launch_and_fit pid=29448)\u001b[0m \tTrain Epoch: 10 \tTrain_loss: 0.1623 | Train_acc: 94.9750 % | Validation_loss: 3.0114 | Validation_acc: 62.3512 %\n",
      "\u001b[36m(launch_and_fit pid=29448)\u001b[0m save graph in  results/FL/\n"
     ]
    },
    {
     "name": "stderr",
     "output_type": "stream",
     "text": [
      "100%|\u001b[34m██████████\u001b[0m| 10/10 [00:05<00:00,  1.96it/s]\n"
     ]
    },
    {
     "name": "stdout",
     "output_type": "stream",
     "text": [
      "\u001b[36m(launch_and_fit pid=29448)\u001b[0m Run WITHOUT homomorphic encryption\n",
      "\u001b[36m(launch_and_fit pid=29448)\u001b[0m  To get the checkpoint\n",
      "\u001b[36m(launch_and_fit pid=29448)\u001b[0m [Client 1, round 29] fit, config: {'learning_rate': 0.003, 'batch_size': '16', 'server_round': 29, 'local_epochs': 10}\n",
      "\u001b[36m(launch_and_fit pid=29448)\u001b[0m Updated model\n"
     ]
    },
    {
     "name": "stderr",
     "output_type": "stream",
     "text": [
      "  0%|\u001b[34m          \u001b[0m| 0/10 [00:00<?, ?it/s]\n"
     ]
    },
    {
     "name": "stdout",
     "output_type": "stream",
     "text": [
      "\u001b[36m(launch_and_fit pid=29448)\u001b[0m \tTrain Epoch: 1 \tTrain_loss: 0.7594 | Train_acc: 75.5000 % | Validation_loss: 2.3093 | Validation_acc: 64.7321 %\n"
     ]
    },
    {
     "name": "stderr",
     "output_type": "stream",
     "text": [
      " 10%|\u001b[34m█         \u001b[0m| 1/10 [00:00<00:08,  1.10it/s]\n"
     ]
    },
    {
     "name": "stdout",
     "output_type": "stream",
     "text": [
      "\u001b[36m(launch_and_fit pid=29448)\u001b[0m \tTrain Epoch: 2 \tTrain_loss: 0.4090 | Train_acc: 86.2500 % | Validation_loss: 2.2125 | Validation_acc: 63.6905 %\n"
     ]
    },
    {
     "name": "stderr",
     "output_type": "stream",
     "text": [
      " 20%|\u001b[34m██        \u001b[0m| 2/10 [00:01<00:05,  1.52it/s]\n"
     ]
    },
    {
     "name": "stdout",
     "output_type": "stream",
     "text": [
      "\u001b[36m(launch_and_fit pid=29448)\u001b[0m \tTrain Epoch: 3 \tTrain_loss: 0.3632 | Train_acc: 87.3250 % | Validation_loss: 2.3295 | Validation_acc: 65.0298 %\n"
     ]
    },
    {
     "name": "stderr",
     "output_type": "stream",
     "text": [
      " 30%|\u001b[34m███       \u001b[0m| 3/10 [00:02<00:04,  1.56it/s]\n"
     ]
    },
    {
     "name": "stdout",
     "output_type": "stream",
     "text": [
      "\u001b[36m(launch_and_fit pid=29448)\u001b[0m \tTrain Epoch: 4 \tTrain_loss: 0.4247 | Train_acc: 84.8750 % | Validation_loss: 2.2200 | Validation_acc: 64.7321 %\n"
     ]
    },
    {
     "name": "stderr",
     "output_type": "stream",
     "text": [
      " 40%|\u001b[34m████      \u001b[0m| 4/10 [00:02<00:03,  1.97it/s]\n"
     ]
    },
    {
     "name": "stdout",
     "output_type": "stream",
     "text": [
      "\u001b[36m(launch_and_fit pid=29448)\u001b[0m \tTrain Epoch: 5 \tTrain_loss: 0.3740 | Train_acc: 88.0000 % | Validation_loss: 1.8242 | Validation_acc: 62.3512 %\n"
     ]
    },
    {
     "name": "stderr",
     "output_type": "stream",
     "text": [
      " 50%|\u001b[34m█████     \u001b[0m| 5/10 [00:02<00:02,  2.30it/s]\n"
     ]
    },
    {
     "name": "stdout",
     "output_type": "stream",
     "text": [
      "\u001b[36m(launch_and_fit pid=29448)\u001b[0m \tTrain Epoch: 6 \tTrain_loss: 0.3463 | Train_acc: 89.3500 % | Validation_loss: 2.2423 | Validation_acc: 59.2262 %\n"
     ]
    },
    {
     "name": "stderr",
     "output_type": "stream",
     "text": [
      " 60%|\u001b[34m██████    \u001b[0m| 6/10 [00:02<00:01,  2.41it/s]\n"
     ]
    },
    {
     "name": "stdout",
     "output_type": "stream",
     "text": [
      "\u001b[36m(launch_and_fit pid=29448)\u001b[0m \tTrain Epoch: 7 \tTrain_loss: 0.3247 | Train_acc: 88.0750 % | Validation_loss: 2.8141 | Validation_acc: 60.5655 %\n"
     ]
    },
    {
     "name": "stderr",
     "output_type": "stream",
     "text": [
      " 70%|\u001b[34m███████   \u001b[0m| 7/10 [00:03<00:01,  2.43it/s]\n"
     ]
    },
    {
     "name": "stdout",
     "output_type": "stream",
     "text": [
      "\u001b[36m(launch_and_fit pid=29448)\u001b[0m \tTrain Epoch: 8 \tTrain_loss: 0.2550 | Train_acc: 91.2500 % | Validation_loss: 2.8159 | Validation_acc: 67.8571 %\n"
     ]
    },
    {
     "name": "stderr",
     "output_type": "stream",
     "text": [
      " 80%|\u001b[34m████████  \u001b[0m| 8/10 [00:03<00:00,  2.48it/s]\n"
     ]
    },
    {
     "name": "stdout",
     "output_type": "stream",
     "text": [
      "\u001b[36m(launch_and_fit pid=29448)\u001b[0m \tTrain Epoch: 9 \tTrain_loss: 0.2592 | Train_acc: 90.7000 % | Validation_loss: 2.5907 | Validation_acc: 63.3929 %\n"
     ]
    },
    {
     "name": "stderr",
     "output_type": "stream",
     "text": [
      " 90%|\u001b[34m█████████ \u001b[0m| 9/10 [00:04<00:00,  2.89it/s]\n"
     ]
    },
    {
     "name": "stdout",
     "output_type": "stream",
     "text": [
      "\u001b[36m(launch_and_fit pid=29448)\u001b[0m \tTrain Epoch: 10 \tTrain_loss: 0.4951 | Train_acc: 85.1250 % | Validation_loss: 2.3191 | Validation_acc: 60.5655 %\n",
      "\u001b[36m(launch_and_fit pid=29448)\u001b[0m save graph in  results/FL/\n"
     ]
    },
    {
     "name": "stderr",
     "output_type": "stream",
     "text": [
      "100%|\u001b[34m██████████\u001b[0m| 10/10 [00:04<00:00,  2.18it/s]\n"
     ]
    },
    {
     "name": "stdout",
     "output_type": "stream",
     "text": [
      "\u001b[36m(launch_and_fit pid=29448)\u001b[0m Run WITHOUT homomorphic encryption\n",
      "\u001b[36m(launch_and_fit pid=29448)\u001b[0m  To get the checkpoint\n",
      "\u001b[36m(launch_and_fit pid=29448)\u001b[0m [Client 2, round 29] fit, config: {'learning_rate': 0.003, 'batch_size': '16', 'server_round': 29, 'local_epochs': 10}\n",
      "\u001b[36m(launch_and_fit pid=29448)\u001b[0m Updated model\n"
     ]
    },
    {
     "name": "stderr",
     "output_type": "stream",
     "text": [
      "  0%|\u001b[34m          \u001b[0m| 0/10 [00:00<?, ?it/s]\n"
     ]
    },
    {
     "name": "stdout",
     "output_type": "stream",
     "text": [
      "\u001b[36m(launch_and_fit pid=29448)\u001b[0m \tTrain Epoch: 1 \tTrain_loss: 0.7237 | Train_acc: 77.8250 % | Validation_loss: 1.4522 | Validation_acc: 57.7381 %\n"
     ]
    },
    {
     "name": "stderr",
     "output_type": "stream",
     "text": [
      " 10%|\u001b[34m█         \u001b[0m| 1/10 [00:00<00:05,  1.58it/s]\n"
     ]
    },
    {
     "name": "stdout",
     "output_type": "stream",
     "text": [
      "\u001b[36m(launch_and_fit pid=29448)\u001b[0m \tTrain Epoch: 2 \tTrain_loss: 0.6044 | Train_acc: 79.8250 % | Validation_loss: 1.1535 | Validation_acc: 66.0714 %\n"
     ]
    },
    {
     "name": "stderr",
     "output_type": "stream",
     "text": [
      " 20%|\u001b[34m██        \u001b[0m| 2/10 [00:01<00:05,  1.39it/s]\n"
     ]
    },
    {
     "name": "stdout",
     "output_type": "stream",
     "text": [
      "\u001b[36m(launch_and_fit pid=29448)\u001b[0m \tTrain Epoch: 3 \tTrain_loss: 0.3839 | Train_acc: 86.5000 % | Validation_loss: 1.3145 | Validation_acc: 71.2798 %\n"
     ]
    },
    {
     "name": "stderr",
     "output_type": "stream",
     "text": [
      " 30%|\u001b[34m███       \u001b[0m| 3/10 [00:01<00:04,  1.73it/s]\n"
     ]
    },
    {
     "name": "stdout",
     "output_type": "stream",
     "text": [
      "\u001b[36m(launch_and_fit pid=29448)\u001b[0m \tTrain Epoch: 4 \tTrain_loss: 0.2851 | Train_acc: 90.4750 % | Validation_loss: 1.4673 | Validation_acc: 71.2798 %\n"
     ]
    },
    {
     "name": "stderr",
     "output_type": "stream",
     "text": [
      " 40%|\u001b[34m████      \u001b[0m| 4/10 [00:02<00:03,  1.85it/s]\n"
     ]
    },
    {
     "name": "stdout",
     "output_type": "stream",
     "text": [
      "\u001b[36m(launch_and_fit pid=29448)\u001b[0m \tTrain Epoch: 5 \tTrain_loss: 0.4043 | Train_acc: 87.6750 % | Validation_loss: 1.5075 | Validation_acc: 60.8631 %\n"
     ]
    },
    {
     "name": "stderr",
     "output_type": "stream",
     "text": [
      " 50%|\u001b[34m█████     \u001b[0m| 5/10 [00:02<00:02,  2.03it/s]\n"
     ]
    },
    {
     "name": "stdout",
     "output_type": "stream",
     "text": [
      "\u001b[36m(launch_and_fit pid=29448)\u001b[0m \tTrain Epoch: 6 \tTrain_loss: 0.5228 | Train_acc: 83.6250 % | Validation_loss: 1.3603 | Validation_acc: 67.1131 %\n"
     ]
    },
    {
     "name": "stderr",
     "output_type": "stream",
     "text": [
      " 60%|\u001b[34m██████    \u001b[0m| 6/10 [00:03<00:01,  2.19it/s]\n"
     ]
    },
    {
     "name": "stdout",
     "output_type": "stream",
     "text": [
      "\u001b[36m(launch_and_fit pid=29448)\u001b[0m \tTrain Epoch: 7 \tTrain_loss: 0.3219 | Train_acc: 89.0000 % | Validation_loss: 1.1919 | Validation_acc: 72.3214 %\n"
     ]
    },
    {
     "name": "stderr",
     "output_type": "stream",
     "text": [
      " 70%|\u001b[34m███████   \u001b[0m| 7/10 [00:03<00:01,  2.64it/s]\n"
     ]
    },
    {
     "name": "stdout",
     "output_type": "stream",
     "text": [
      "\u001b[36m(launch_and_fit pid=29448)\u001b[0m \tTrain Epoch: 8 \tTrain_loss: 0.2158 | Train_acc: 92.4750 % | Validation_loss: 1.4252 | Validation_acc: 70.2381 %\n"
     ]
    },
    {
     "name": "stderr",
     "output_type": "stream",
     "text": [
      " 80%|\u001b[34m████████  \u001b[0m| 8/10 [00:03<00:00,  2.40it/s]\n"
     ]
    },
    {
     "name": "stdout",
     "output_type": "stream",
     "text": [
      "\u001b[36m(launch_and_fit pid=29448)\u001b[0m \tTrain Epoch: 9 \tTrain_loss: 0.1598 | Train_acc: 95.2500 % | Validation_loss: 1.5432 | Validation_acc: 74.4048 %\n"
     ]
    },
    {
     "name": "stderr",
     "output_type": "stream",
     "text": [
      " 90%|\u001b[34m█████████ \u001b[0m| 9/10 [00:04<00:00,  2.59it/s]\n"
     ]
    },
    {
     "name": "stdout",
     "output_type": "stream",
     "text": [
      "\u001b[36m(launch_and_fit pid=29448)\u001b[0m \tTrain Epoch: 10 \tTrain_loss: 0.1652 | Train_acc: 94.4750 % | Validation_loss: 1.4225 | Validation_acc: 72.3214 %\n",
      "\u001b[36m(launch_and_fit pid=29448)\u001b[0m save graph in  results/FL/\n"
     ]
    },
    {
     "name": "stderr",
     "output_type": "stream",
     "text": [
      "100%|\u001b[34m██████████\u001b[0m| 10/10 [00:04<00:00,  2.13it/s]\n",
      "DEBUG flwr 2024-08-30 01:23:28,076 | server.py:236 | fit_round 29 received 4 results and 0 failures\n"
     ]
    },
    {
     "name": "stdout",
     "output_type": "stream",
     "text": [
      "Saving round 29 aggregated_parameters...\n"
     ]
    },
    {
     "name": "stderr",
     "output_type": "stream",
     "text": [
      "INFO flwr 2024-08-30 01:23:28,576 | server.py:125 | fit progress: (29, 2.021322748335925, {'accuracy': 68.4469696969697}, 417.84853503201157)\n",
      "DEBUG flwr 2024-08-30 01:23:28,586 | server.py:173 | evaluate_round 29: strategy sampled 4 clients (out of 4)\n"
     ]
    },
    {
     "name": "stdout",
     "output_type": "stream",
     "text": [
      "Updated model\n",
      "Server-side evaluation loss 2.021322748335925 / accuracy 68.4469696969697\n",
      "\u001b[36m(launch_and_evaluate pid=29448)\u001b[0m Run WITHOUT homomorphic encryption\n",
      "\u001b[36m(launch_and_evaluate pid=29448)\u001b[0m  To get the checkpoint\n",
      "\u001b[36m(launch_and_evaluate pid=29448)\u001b[0m [Client 0] evaluate, config: {}\n",
      "\u001b[36m(launch_and_evaluate pid=29448)\u001b[0m Updated model\n",
      "\u001b[36m(launch_and_evaluate pid=29448)\u001b[0m Run WITHOUT homomorphic encryption\n",
      "\u001b[36m(launch_and_evaluate pid=29448)\u001b[0m  To get the checkpoint\n",
      "\u001b[36m(launch_and_evaluate pid=29448)\u001b[0m [Client 3] evaluate, config: {}\n",
      "\u001b[36m(launch_and_evaluate pid=29448)\u001b[0m Updated model\n",
      "\u001b[36m(launch_and_evaluate pid=29448)\u001b[0m Run WITHOUT homomorphic encryption\n",
      "\u001b[36m(launch_and_evaluate pid=29448)\u001b[0m  To get the checkpoint\n",
      "\u001b[36m(launch_and_evaluate pid=29448)\u001b[0m [Client 2] evaluate, config: {}\n",
      "\u001b[36m(launch_and_evaluate pid=29448)\u001b[0m Updated model\n",
      "\u001b[36m(launch_and_evaluate pid=29448)\u001b[0m Run WITHOUT homomorphic encryption\n",
      "\u001b[36m(launch_and_evaluate pid=29448)\u001b[0m  To get the checkpoint\n",
      "\u001b[36m(launch_and_evaluate pid=29448)\u001b[0m [Client 1] evaluate, config: {}\n",
      "\u001b[36m(launch_and_evaluate pid=29448)\u001b[0m Updated model\n"
     ]
    },
    {
     "name": "stderr",
     "output_type": "stream",
     "text": [
      "DEBUG flwr 2024-08-30 01:23:36,495 | server.py:187 | evaluate_round 29 received 4 results and 0 failures\n",
      "DEBUG flwr 2024-08-30 01:23:36,501 | server.py:222 | fit_round 30: strategy sampled 4 clients (out of 4)\n"
     ]
    },
    {
     "name": "stdout",
     "output_type": "stream",
     "text": [
      "\u001b[36m(launch_and_fit pid=29448)\u001b[0m Run WITHOUT homomorphic encryption\n",
      "\u001b[36m(launch_and_fit pid=29448)\u001b[0m  To get the checkpoint\n",
      "\u001b[36m(launch_and_fit pid=29448)\u001b[0m [Client 3, round 30] fit, config: {'learning_rate': 0.003, 'batch_size': '16', 'server_round': 30, 'local_epochs': 10}\n",
      "\u001b[36m(launch_and_fit pid=29448)\u001b[0m Updated model\n"
     ]
    },
    {
     "name": "stderr",
     "output_type": "stream",
     "text": [
      "  0%|\u001b[34m          \u001b[0m| 0/10 [00:00<?, ?it/s]\n"
     ]
    },
    {
     "name": "stdout",
     "output_type": "stream",
     "text": [
      "\u001b[36m(launch_and_fit pid=29448)\u001b[0m \tTrain Epoch: 1 \tTrain_loss: 0.7520 | Train_acc: 77.1250 % | Validation_loss: 2.3260 | Validation_acc: 61.6071 %\n"
     ]
    },
    {
     "name": "stderr",
     "output_type": "stream",
     "text": [
      " 10%|\u001b[34m█         \u001b[0m| 1/10 [00:00<00:06,  1.41it/s]\n"
     ]
    },
    {
     "name": "stdout",
     "output_type": "stream",
     "text": [
      "\u001b[36m(launch_and_fit pid=29448)\u001b[0m \tTrain Epoch: 2 \tTrain_loss: 0.4528 | Train_acc: 85.5000 % | Validation_loss: 2.0724 | Validation_acc: 60.5655 %\n"
     ]
    },
    {
     "name": "stderr",
     "output_type": "stream",
     "text": [
      " 20%|\u001b[34m██        \u001b[0m| 2/10 [00:01<00:06,  1.31it/s]\n"
     ]
    },
    {
     "name": "stdout",
     "output_type": "stream",
     "text": [
      "\u001b[36m(launch_and_fit pid=29448)\u001b[0m \tTrain Epoch: 3 \tTrain_loss: 0.3235 | Train_acc: 89.8750 % | Validation_loss: 2.0667 | Validation_acc: 62.6488 %\n"
     ]
    },
    {
     "name": "stderr",
     "output_type": "stream",
     "text": [
      " 30%|\u001b[34m███       \u001b[0m| 3/10 [00:02<00:04,  1.54it/s]\n"
     ]
    },
    {
     "name": "stdout",
     "output_type": "stream",
     "text": [
      "\u001b[36m(launch_and_fit pid=29448)\u001b[0m \tTrain Epoch: 4 \tTrain_loss: 0.2490 | Train_acc: 91.1000 % | Validation_loss: 2.2890 | Validation_acc: 59.2262 %\n"
     ]
    },
    {
     "name": "stderr",
     "output_type": "stream",
     "text": [
      " 40%|\u001b[34m████      \u001b[0m| 4/10 [00:02<00:03,  1.87it/s]\n"
     ]
    },
    {
     "name": "stdout",
     "output_type": "stream",
     "text": [
      "\u001b[36m(launch_and_fit pid=29448)\u001b[0m \tTrain Epoch: 5 \tTrain_loss: 0.2239 | Train_acc: 93.6250 % | Validation_loss: 2.6541 | Validation_acc: 60.2679 %\n"
     ]
    },
    {
     "name": "stderr",
     "output_type": "stream",
     "text": [
      " 50%|\u001b[34m█████     \u001b[0m| 5/10 [00:03<00:02,  1.76it/s]\n"
     ]
    },
    {
     "name": "stdout",
     "output_type": "stream",
     "text": [
      "\u001b[36m(launch_and_fit pid=29448)\u001b[0m \tTrain Epoch: 6 \tTrain_loss: 0.3960 | Train_acc: 85.9750 % | Validation_loss: 2.4563 | Validation_acc: 51.9345 %\n"
     ]
    },
    {
     "name": "stderr",
     "output_type": "stream",
     "text": [
      " 60%|\u001b[34m██████    \u001b[0m| 6/10 [00:03<00:02,  1.75it/s]\n"
     ]
    },
    {
     "name": "stdout",
     "output_type": "stream",
     "text": [
      "\u001b[36m(launch_and_fit pid=29448)\u001b[0m \tTrain Epoch: 7 \tTrain_loss: 0.6886 | Train_acc: 77.1000 % | Validation_loss: 1.6942 | Validation_acc: 57.1429 %\n"
     ]
    },
    {
     "name": "stderr",
     "output_type": "stream",
     "text": [
      " 70%|\u001b[34m███████   \u001b[0m| 7/10 [00:04<00:01,  1.91it/s]\n"
     ]
    },
    {
     "name": "stdout",
     "output_type": "stream",
     "text": [
      "\u001b[36m(launch_and_fit pid=29448)\u001b[0m \tTrain Epoch: 8 \tTrain_loss: 0.3150 | Train_acc: 89.3750 % | Validation_loss: 2.1299 | Validation_acc: 56.1012 %\n"
     ]
    },
    {
     "name": "stderr",
     "output_type": "stream",
     "text": [
      " 80%|\u001b[34m████████  \u001b[0m| 8/10 [00:04<00:00,  2.08it/s]\n"
     ]
    },
    {
     "name": "stdout",
     "output_type": "stream",
     "text": [
      "\u001b[36m(launch_and_fit pid=29448)\u001b[0m \tTrain Epoch: 9 \tTrain_loss: 0.2103 | Train_acc: 93.3750 % | Validation_loss: 2.6197 | Validation_acc: 60.2679 %\n"
     ]
    },
    {
     "name": "stderr",
     "output_type": "stream",
     "text": [
      " 90%|\u001b[34m█████████ \u001b[0m| 9/10 [00:04<00:00,  2.20it/s]\n"
     ]
    },
    {
     "name": "stdout",
     "output_type": "stream",
     "text": [
      "\u001b[36m(launch_and_fit pid=29448)\u001b[0m \tTrain Epoch: 10 \tTrain_loss: 0.3200 | Train_acc: 87.9750 % | Validation_loss: 2.3669 | Validation_acc: 61.6071 %\n",
      "\u001b[36m(launch_and_fit pid=29448)\u001b[0m save graph in  results/FL/\n"
     ]
    },
    {
     "name": "stderr",
     "output_type": "stream",
     "text": [
      "100%|\u001b[34m██████████\u001b[0m| 10/10 [00:05<00:00,  1.96it/s]\n"
     ]
    },
    {
     "name": "stdout",
     "output_type": "stream",
     "text": [
      "\u001b[36m(launch_and_fit pid=29448)\u001b[0m Run WITHOUT homomorphic encryption\n",
      "\u001b[36m(launch_and_fit pid=29448)\u001b[0m  To get the checkpoint\n",
      "\u001b[36m(launch_and_fit pid=29448)\u001b[0m [Client 2, round 30] fit, config: {'learning_rate': 0.003, 'batch_size': '16', 'server_round': 30, 'local_epochs': 10}\n",
      "\u001b[36m(launch_and_fit pid=29448)\u001b[0m Updated model\n"
     ]
    },
    {
     "name": "stderr",
     "output_type": "stream",
     "text": [
      "  0%|\u001b[34m          \u001b[0m| 0/10 [00:00<?, ?it/s]\n"
     ]
    },
    {
     "name": "stdout",
     "output_type": "stream",
     "text": [
      "\u001b[36m(launch_and_fit pid=29448)\u001b[0m \tTrain Epoch: 1 \tTrain_loss: 0.7637 | Train_acc: 76.2000 % | Validation_loss: 1.2118 | Validation_acc: 69.1964 %\n"
     ]
    },
    {
     "name": "stderr",
     "output_type": "stream",
     "text": [
      " 10%|\u001b[34m█         \u001b[0m| 1/10 [00:00<00:07,  1.24it/s]\n"
     ]
    },
    {
     "name": "stdout",
     "output_type": "stream",
     "text": [
      "\u001b[36m(launch_and_fit pid=29448)\u001b[0m \tTrain Epoch: 2 \tTrain_loss: 0.4327 | Train_acc: 85.6250 % | Validation_loss: 1.3105 | Validation_acc: 67.1131 %\n"
     ]
    },
    {
     "name": "stderr",
     "output_type": "stream",
     "text": [
      " 20%|\u001b[34m██        \u001b[0m| 2/10 [00:01<00:05,  1.35it/s]\n"
     ]
    },
    {
     "name": "stdout",
     "output_type": "stream",
     "text": [
      "\u001b[36m(launch_and_fit pid=29448)\u001b[0m \tTrain Epoch: 3 \tTrain_loss: 0.3302 | Train_acc: 89.1250 % | Validation_loss: 1.3888 | Validation_acc: 73.3631 %\n"
     ]
    },
    {
     "name": "stderr",
     "output_type": "stream",
     "text": [
      " 30%|\u001b[34m███       \u001b[0m| 3/10 [00:02<00:05,  1.28it/s]\n"
     ]
    },
    {
     "name": "stdout",
     "output_type": "stream",
     "text": [
      "\u001b[36m(launch_and_fit pid=29448)\u001b[0m \tTrain Epoch: 4 \tTrain_loss: 0.2644 | Train_acc: 90.5000 % | Validation_loss: 1.2384 | Validation_acc: 72.3214 %\n"
     ]
    },
    {
     "name": "stderr",
     "output_type": "stream",
     "text": [
      " 40%|\u001b[34m████      \u001b[0m| 4/10 [00:02<00:03,  1.52it/s]\n"
     ]
    },
    {
     "name": "stdout",
     "output_type": "stream",
     "text": [
      "\u001b[36m(launch_and_fit pid=29448)\u001b[0m \tTrain Epoch: 5 \tTrain_loss: 0.2224 | Train_acc: 92.7500 % | Validation_loss: 1.4995 | Validation_acc: 71.2798 %\n"
     ]
    },
    {
     "name": "stderr",
     "output_type": "stream",
     "text": [
      " 50%|\u001b[34m█████     \u001b[0m| 5/10 [00:03<00:02,  2.00it/s]\n"
     ]
    },
    {
     "name": "stdout",
     "output_type": "stream",
     "text": [
      "\u001b[36m(launch_and_fit pid=29448)\u001b[0m \tTrain Epoch: 6 \tTrain_loss: 0.1941 | Train_acc: 93.7500 % | Validation_loss: 1.4935 | Validation_acc: 74.4048 %\n"
     ]
    },
    {
     "name": "stderr",
     "output_type": "stream",
     "text": [
      " 60%|\u001b[34m██████    \u001b[0m| 6/10 [00:03<00:02,  1.67it/s]\n"
     ]
    },
    {
     "name": "stdout",
     "output_type": "stream",
     "text": [
      "\u001b[36m(launch_and_fit pid=29448)\u001b[0m \tTrain Epoch: 7 \tTrain_loss: 0.1885 | Train_acc: 93.5000 % | Validation_loss: 1.4727 | Validation_acc: 78.5714 %\n"
     ]
    },
    {
     "name": "stderr",
     "output_type": "stream",
     "text": [
      " 70%|\u001b[34m███████   \u001b[0m| 7/10 [00:04<00:01,  1.77it/s]\n"
     ]
    },
    {
     "name": "stdout",
     "output_type": "stream",
     "text": [
      "\u001b[36m(launch_and_fit pid=29448)\u001b[0m \tTrain Epoch: 8 \tTrain_loss: 0.1307 | Train_acc: 96.3750 % | Validation_loss: 1.4861 | Validation_acc: 75.4464 %\n"
     ]
    },
    {
     "name": "stderr",
     "output_type": "stream",
     "text": [
      " 80%|\u001b[34m████████  \u001b[0m| 8/10 [00:05<00:01,  1.64it/s]\n"
     ]
    },
    {
     "name": "stdout",
     "output_type": "stream",
     "text": [
      "\u001b[36m(launch_and_fit pid=29448)\u001b[0m \tTrain Epoch: 9 \tTrain_loss: 0.1187 | Train_acc: 96.7000 % | Validation_loss: 1.6674 | Validation_acc: 70.2381 %\n"
     ]
    },
    {
     "name": "stderr",
     "output_type": "stream",
     "text": [
      " 90%|\u001b[34m█████████ \u001b[0m| 9/10 [00:05<00:00,  1.73it/s]\n"
     ]
    },
    {
     "name": "stdout",
     "output_type": "stream",
     "text": [
      "\u001b[36m(launch_and_fit pid=29448)\u001b[0m \tTrain Epoch: 10 \tTrain_loss: 0.2434 | Train_acc: 92.5000 % | Validation_loss: 2.2287 | Validation_acc: 66.0714 %\n",
      "\u001b[36m(launch_and_fit pid=29448)\u001b[0m save graph in  results/FL/\n"
     ]
    },
    {
     "name": "stderr",
     "output_type": "stream",
     "text": [
      "100%|\u001b[34m██████████\u001b[0m| 10/10 [00:06<00:00,  1.64it/s]\n"
     ]
    },
    {
     "name": "stdout",
     "output_type": "stream",
     "text": [
      "\u001b[36m(launch_and_fit pid=29448)\u001b[0m Run WITHOUT homomorphic encryption\n",
      "\u001b[36m(launch_and_fit pid=29448)\u001b[0m  To get the checkpoint\n",
      "\u001b[36m(launch_and_fit pid=29448)\u001b[0m [Client 1, round 30] fit, config: {'learning_rate': 0.003, 'batch_size': '16', 'server_round': 30, 'local_epochs': 10}\n",
      "\u001b[36m(launch_and_fit pid=29448)\u001b[0m Updated model\n"
     ]
    },
    {
     "name": "stderr",
     "output_type": "stream",
     "text": [
      "  0%|\u001b[34m          \u001b[0m| 0/10 [00:00<?, ?it/s]\n"
     ]
    },
    {
     "name": "stdout",
     "output_type": "stream",
     "text": [
      "\u001b[36m(launch_and_fit pid=29448)\u001b[0m \tTrain Epoch: 1 \tTrain_loss: 0.6832 | Train_acc: 78.5000 % | Validation_loss: 2.5450 | Validation_acc: 59.2262 %\n"
     ]
    },
    {
     "name": "stderr",
     "output_type": "stream",
     "text": [
      " 10%|\u001b[34m█         \u001b[0m| 1/10 [00:00<00:04,  1.88it/s]\n"
     ]
    },
    {
     "name": "stdout",
     "output_type": "stream",
     "text": [
      "\u001b[36m(launch_and_fit pid=29448)\u001b[0m \tTrain Epoch: 2 \tTrain_loss: 0.3811 | Train_acc: 87.5000 % | Validation_loss: 2.4353 | Validation_acc: 70.2381 %\n"
     ]
    },
    {
     "name": "stderr",
     "output_type": "stream",
     "text": [
      " 20%|\u001b[34m██        \u001b[0m| 2/10 [00:01<00:05,  1.37it/s]\n"
     ]
    },
    {
     "name": "stdout",
     "output_type": "stream",
     "text": [
      "\u001b[36m(launch_and_fit pid=29448)\u001b[0m \tTrain Epoch: 3 \tTrain_loss: 0.2927 | Train_acc: 89.4500 % | Validation_loss: 2.6127 | Validation_acc: 65.7738 %\n"
     ]
    },
    {
     "name": "stderr",
     "output_type": "stream",
     "text": [
      " 30%|\u001b[34m███       \u001b[0m| 3/10 [00:01<00:04,  1.59it/s]\n"
     ]
    },
    {
     "name": "stdout",
     "output_type": "stream",
     "text": [
      "\u001b[36m(launch_and_fit pid=29448)\u001b[0m \tTrain Epoch: 4 \tTrain_loss: 0.3026 | Train_acc: 89.6000 % | Validation_loss: 2.7652 | Validation_acc: 61.6071 %\n"
     ]
    },
    {
     "name": "stderr",
     "output_type": "stream",
     "text": [
      " 40%|\u001b[34m████      \u001b[0m| 4/10 [00:02<00:02,  2.15it/s]\n"
     ]
    },
    {
     "name": "stdout",
     "output_type": "stream",
     "text": [
      "\u001b[36m(launch_and_fit pid=29448)\u001b[0m \tTrain Epoch: 5 \tTrain_loss: 0.2726 | Train_acc: 90.1250 % | Validation_loss: 2.8406 | Validation_acc: 61.3095 %\n"
     ]
    },
    {
     "name": "stderr",
     "output_type": "stream",
     "text": [
      " 50%|\u001b[34m█████     \u001b[0m| 5/10 [00:02<00:02,  2.50it/s]\n"
     ]
    },
    {
     "name": "stdout",
     "output_type": "stream",
     "text": [
      "\u001b[36m(launch_and_fit pid=29448)\u001b[0m \tTrain Epoch: 6 \tTrain_loss: 0.4074 | Train_acc: 86.5000 % | Validation_loss: 1.8901 | Validation_acc: 63.6905 %\n"
     ]
    },
    {
     "name": "stderr",
     "output_type": "stream",
     "text": [
      " 60%|\u001b[34m██████    \u001b[0m| 6/10 [00:02<00:01,  2.28it/s]\n"
     ]
    },
    {
     "name": "stdout",
     "output_type": "stream",
     "text": [
      "\u001b[36m(launch_and_fit pid=29448)\u001b[0m \tTrain Epoch: 7 \tTrain_loss: 0.3783 | Train_acc: 88.1000 % | Validation_loss: 2.1876 | Validation_acc: 63.6905 %\n"
     ]
    },
    {
     "name": "stderr",
     "output_type": "stream",
     "text": [
      " 70%|\u001b[34m███████   \u001b[0m| 7/10 [00:03<00:01,  2.58it/s]\n"
     ]
    },
    {
     "name": "stdout",
     "output_type": "stream",
     "text": [
      "\u001b[36m(launch_and_fit pid=29448)\u001b[0m \tTrain Epoch: 8 \tTrain_loss: 0.3395 | Train_acc: 87.8500 % | Validation_loss: 2.6109 | Validation_acc: 68.1548 %\n"
     ]
    },
    {
     "name": "stderr",
     "output_type": "stream",
     "text": [
      " 80%|\u001b[34m████████  \u001b[0m| 8/10 [00:03<00:00,  3.00it/s]\n"
     ]
    },
    {
     "name": "stdout",
     "output_type": "stream",
     "text": [
      "\u001b[36m(launch_and_fit pid=29448)\u001b[0m \tTrain Epoch: 9 \tTrain_loss: 0.2478 | Train_acc: 92.1000 % | Validation_loss: 2.3504 | Validation_acc: 63.9881 %\n"
     ]
    },
    {
     "name": "stderr",
     "output_type": "stream",
     "text": [
      " 90%|\u001b[34m█████████ \u001b[0m| 9/10 [00:03<00:00,  2.86it/s]\n"
     ]
    },
    {
     "name": "stdout",
     "output_type": "stream",
     "text": [
      "\u001b[36m(launch_and_fit pid=29448)\u001b[0m \tTrain Epoch: 10 \tTrain_loss: 0.3051 | Train_acc: 88.4750 % | Validation_loss: 2.4577 | Validation_acc: 64.7321 %\n",
      "\u001b[36m(launch_and_fit pid=29448)\u001b[0m save graph in  results/FL/\n"
     ]
    },
    {
     "name": "stderr",
     "output_type": "stream",
     "text": [
      "100%|\u001b[34m██████████\u001b[0m| 10/10 [00:04<00:00,  2.43it/s]\n"
     ]
    },
    {
     "name": "stdout",
     "output_type": "stream",
     "text": [
      "\u001b[36m(launch_and_fit pid=29448)\u001b[0m Run WITHOUT homomorphic encryption\n",
      "\u001b[36m(launch_and_fit pid=29448)\u001b[0m  To get the checkpoint\n",
      "\u001b[36m(launch_and_fit pid=29448)\u001b[0m [Client 0, round 30] fit, config: {'learning_rate': 0.003, 'batch_size': '16', 'server_round': 30, 'local_epochs': 10}\n",
      "\u001b[36m(launch_and_fit pid=29448)\u001b[0m Updated model\n"
     ]
    },
    {
     "name": "stderr",
     "output_type": "stream",
     "text": [
      "  0%|\u001b[34m          \u001b[0m| 0/10 [00:00<?, ?it/s]\n"
     ]
    },
    {
     "name": "stdout",
     "output_type": "stream",
     "text": [
      "\u001b[36m(launch_and_fit pid=29448)\u001b[0m \tTrain Epoch: 1 \tTrain_loss: 0.6225 | Train_acc: 78.3750 % | Validation_loss: 3.0057 | Validation_acc: 62.9464 %\n"
     ]
    },
    {
     "name": "stderr",
     "output_type": "stream",
     "text": [
      " 10%|\u001b[34m█         \u001b[0m| 1/10 [00:00<00:07,  1.25it/s]\n"
     ]
    },
    {
     "name": "stdout",
     "output_type": "stream",
     "text": [
      "\u001b[36m(launch_and_fit pid=29448)\u001b[0m \tTrain Epoch: 2 \tTrain_loss: 0.3535 | Train_acc: 87.7250 % | Validation_loss: 3.1786 | Validation_acc: 56.6964 %\n"
     ]
    },
    {
     "name": "stderr",
     "output_type": "stream",
     "text": [
      " 20%|\u001b[34m██        \u001b[0m| 2/10 [00:01<00:04,  1.79it/s]\n"
     ]
    },
    {
     "name": "stdout",
     "output_type": "stream",
     "text": [
      "\u001b[36m(launch_and_fit pid=29448)\u001b[0m \tTrain Epoch: 3 \tTrain_loss: 0.2784 | Train_acc: 90.6000 % | Validation_loss: 3.3782 | Validation_acc: 60.1190 %\n"
     ]
    },
    {
     "name": "stderr",
     "output_type": "stream",
     "text": [
      " 30%|\u001b[34m███       \u001b[0m| 3/10 [00:01<00:03,  2.06it/s]\n"
     ]
    },
    {
     "name": "stdout",
     "output_type": "stream",
     "text": [
      "\u001b[36m(launch_and_fit pid=29448)\u001b[0m \tTrain Epoch: 4 \tTrain_loss: 0.2728 | Train_acc: 90.8750 % | Validation_loss: 3.2728 | Validation_acc: 56.6964 %\n"
     ]
    },
    {
     "name": "stderr",
     "output_type": "stream",
     "text": [
      " 40%|\u001b[34m████      \u001b[0m| 4/10 [00:01<00:02,  2.46it/s]\n"
     ]
    },
    {
     "name": "stdout",
     "output_type": "stream",
     "text": [
      "\u001b[36m(launch_and_fit pid=29448)\u001b[0m \tTrain Epoch: 5 \tTrain_loss: 0.3339 | Train_acc: 89.7250 % | Validation_loss: 4.6871 | Validation_acc: 55.6548 %\n"
     ]
    },
    {
     "name": "stderr",
     "output_type": "stream",
     "text": [
      " 50%|\u001b[34m█████     \u001b[0m| 5/10 [00:02<00:01,  2.70it/s]\n"
     ]
    },
    {
     "name": "stdout",
     "output_type": "stream",
     "text": [
      "\u001b[36m(launch_and_fit pid=29448)\u001b[0m \tTrain Epoch: 6 \tTrain_loss: 0.4256 | Train_acc: 86.2500 % | Validation_loss: 3.4689 | Validation_acc: 60.8631 %\n"
     ]
    },
    {
     "name": "stderr",
     "output_type": "stream",
     "text": [
      " 60%|\u001b[34m██████    \u001b[0m| 6/10 [00:02<00:01,  2.09it/s]\n"
     ]
    },
    {
     "name": "stdout",
     "output_type": "stream",
     "text": [
      "\u001b[36m(launch_and_fit pid=29448)\u001b[0m \tTrain Epoch: 7 \tTrain_loss: 0.2511 | Train_acc: 92.7500 % | Validation_loss: 3.1218 | Validation_acc: 58.4821 %\n"
     ]
    },
    {
     "name": "stderr",
     "output_type": "stream",
     "text": [
      " 70%|\u001b[34m███████   \u001b[0m| 7/10 [00:03<00:01,  2.01it/s]\n"
     ]
    },
    {
     "name": "stdout",
     "output_type": "stream",
     "text": [
      "\u001b[36m(launch_and_fit pid=29448)\u001b[0m \tTrain Epoch: 8 \tTrain_loss: 0.2127 | Train_acc: 92.8750 % | Validation_loss: 2.8081 | Validation_acc: 57.4405 %\n"
     ]
    },
    {
     "name": "stderr",
     "output_type": "stream",
     "text": [
      " 80%|\u001b[34m████████  \u001b[0m| 8/10 [00:03<00:00,  2.16it/s]\n"
     ]
    },
    {
     "name": "stdout",
     "output_type": "stream",
     "text": [
      "\u001b[36m(launch_and_fit pid=29448)\u001b[0m \tTrain Epoch: 9 \tTrain_loss: 0.1777 | Train_acc: 93.9750 % | Validation_loss: 3.5627 | Validation_acc: 61.9048 %\n"
     ]
    },
    {
     "name": "stderr",
     "output_type": "stream",
     "text": [
      " 90%|\u001b[34m█████████ \u001b[0m| 9/10 [00:04<00:00,  2.46it/s]\n"
     ]
    },
    {
     "name": "stdout",
     "output_type": "stream",
     "text": [
      "\u001b[36m(launch_and_fit pid=29448)\u001b[0m \tTrain Epoch: 10 \tTrain_loss: 0.1968 | Train_acc: 93.7500 % | Validation_loss: 3.3788 | Validation_acc: 57.7381 %\n",
      "\u001b[36m(launch_and_fit pid=29448)\u001b[0m save graph in  results/FL/\n"
     ]
    },
    {
     "name": "stderr",
     "output_type": "stream",
     "text": [
      "100%|\u001b[34m██████████\u001b[0m| 10/10 [00:04<00:00,  2.28it/s]\n",
      "DEBUG flwr 2024-08-30 01:24:02,182 | server.py:236 | fit_round 30 received 4 results and 0 failures\n"
     ]
    },
    {
     "name": "stdout",
     "output_type": "stream",
     "text": [
      "Saving round 30 aggregated_parameters...\n"
     ]
    },
    {
     "name": "stderr",
     "output_type": "stream",
     "text": [
      "INFO flwr 2024-08-30 01:24:02,673 | server.py:125 | fit progress: (30, 2.563392429460179, {'accuracy': 68.78787878787878}, 451.9458382301964)\n",
      "DEBUG flwr 2024-08-30 01:24:02,678 | server.py:173 | evaluate_round 30: strategy sampled 4 clients (out of 4)\n"
     ]
    },
    {
     "name": "stdout",
     "output_type": "stream",
     "text": [
      "Updated model\n",
      "Server-side evaluation loss 2.563392429460179 / accuracy 68.78787878787878\n",
      "\u001b[36m(launch_and_evaluate pid=29448)\u001b[0m Run WITHOUT homomorphic encryption\n",
      "\u001b[36m(launch_and_evaluate pid=29448)\u001b[0m  To get the checkpoint\n",
      "\u001b[36m(launch_and_evaluate pid=29448)\u001b[0m [Client 3] evaluate, config: {}\n",
      "\u001b[36m(launch_and_evaluate pid=29448)\u001b[0m Updated model\n",
      "\u001b[36m(launch_and_evaluate pid=29448)\u001b[0m Run WITHOUT homomorphic encryption\n",
      "\u001b[36m(launch_and_evaluate pid=29448)\u001b[0m  To get the checkpoint\n",
      "\u001b[36m(launch_and_evaluate pid=29448)\u001b[0m [Client 0] evaluate, config: {}\n",
      "\u001b[36m(launch_and_evaluate pid=29448)\u001b[0m Updated model\n",
      "\u001b[36m(launch_and_evaluate pid=29448)\u001b[0m Run WITHOUT homomorphic encryption\n",
      "\u001b[36m(launch_and_evaluate pid=29448)\u001b[0m  To get the checkpoint\n",
      "\u001b[36m(launch_and_evaluate pid=29448)\u001b[0m [Client 2] evaluate, config: {}\n",
      "\u001b[36m(launch_and_evaluate pid=29448)\u001b[0m Updated model\n",
      "\u001b[36m(launch_and_evaluate pid=29448)\u001b[0m Run WITHOUT homomorphic encryption\n",
      "\u001b[36m(launch_and_evaluate pid=29448)\u001b[0m  To get the checkpoint\n",
      "\u001b[36m(launch_and_evaluate pid=29448)\u001b[0m [Client 1] evaluate, config: {}\n",
      "\u001b[36m(launch_and_evaluate pid=29448)\u001b[0m Updated model\n"
     ]
    },
    {
     "name": "stderr",
     "output_type": "stream",
     "text": [
      "DEBUG flwr 2024-08-30 01:24:10,689 | server.py:187 | evaluate_round 30 received 4 results and 0 failures\n",
      "DEBUG flwr 2024-08-30 01:24:10,690 | server.py:222 | fit_round 31: strategy sampled 4 clients (out of 4)\n"
     ]
    },
    {
     "name": "stdout",
     "output_type": "stream",
     "text": [
      "\u001b[36m(launch_and_fit pid=29448)\u001b[0m Run WITHOUT homomorphic encryption\n",
      "\u001b[36m(launch_and_fit pid=29448)\u001b[0m  To get the checkpoint\n",
      "\u001b[36m(launch_and_fit pid=29448)\u001b[0m [Client 3, round 31] fit, config: {'learning_rate': 0.003, 'batch_size': '16', 'server_round': 31, 'local_epochs': 10}\n",
      "\u001b[36m(launch_and_fit pid=29448)\u001b[0m Updated model\n"
     ]
    },
    {
     "name": "stderr",
     "output_type": "stream",
     "text": [
      "  0%|\u001b[34m          \u001b[0m| 0/10 [00:00<?, ?it/s]\n"
     ]
    },
    {
     "name": "stdout",
     "output_type": "stream",
     "text": [
      "\u001b[36m(launch_and_fit pid=29448)\u001b[0m \tTrain Epoch: 1 \tTrain_loss: 0.6391 | Train_acc: 81.3750 % | Validation_loss: 2.3460 | Validation_acc: 58.1845 %\n"
     ]
    },
    {
     "name": "stderr",
     "output_type": "stream",
     "text": [
      " 10%|\u001b[34m█         \u001b[0m| 1/10 [00:00<00:02,  3.50it/s]\n"
     ]
    },
    {
     "name": "stdout",
     "output_type": "stream",
     "text": [
      "\u001b[36m(launch_and_fit pid=29448)\u001b[0m \tTrain Epoch: 2 \tTrain_loss: 0.3541 | Train_acc: 88.7500 % | Validation_loss: 2.0643 | Validation_acc: 61.6071 %\n",
      "\u001b[36m(launch_and_fit pid=29448)\u001b[0m \tTrain Epoch: 3 \tTrain_loss: 0.2537 | Train_acc: 91.4750 % | Validation_loss: 2.8729 | Validation_acc: 61.6071 %\n"
     ]
    },
    {
     "name": "stderr",
     "output_type": "stream",
     "text": [
      " 20%|\u001b[34m██        \u001b[0m| 2/10 [00:00<00:01,  4.12it/s]\n",
      " 30%|\u001b[34m███       \u001b[0m| 3/10 [00:00<00:01,  4.51it/s]\n"
     ]
    },
    {
     "name": "stdout",
     "output_type": "stream",
     "text": [
      "\u001b[36m(launch_and_fit pid=29448)\u001b[0m \tTrain Epoch: 4 \tTrain_loss: 0.2403 | Train_acc: 92.3750 % | Validation_loss: 2.2727 | Validation_acc: 61.3095 %\n"
     ]
    },
    {
     "name": "stderr",
     "output_type": "stream",
     "text": [
      " 40%|\u001b[34m████      \u001b[0m| 4/10 [00:00<00:01,  3.97it/s]\n"
     ]
    },
    {
     "name": "stdout",
     "output_type": "stream",
     "text": [
      "\u001b[36m(launch_and_fit pid=29448)\u001b[0m \tTrain Epoch: 5 \tTrain_loss: 0.2044 | Train_acc: 92.3750 % | Validation_loss: 2.5651 | Validation_acc: 64.7321 %\n"
     ]
    },
    {
     "name": "stderr",
     "output_type": "stream",
     "text": [
      " 50%|\u001b[34m█████     \u001b[0m| 5/10 [00:01<00:01,  3.70it/s]\n"
     ]
    },
    {
     "name": "stdout",
     "output_type": "stream",
     "text": [
      "\u001b[36m(launch_and_fit pid=29448)\u001b[0m \tTrain Epoch: 6 \tTrain_loss: 0.1776 | Train_acc: 93.6250 % | Validation_loss: 2.4087 | Validation_acc: 59.2262 %\n"
     ]
    },
    {
     "name": "stderr",
     "output_type": "stream",
     "text": [
      " 60%|\u001b[34m██████    \u001b[0m| 6/10 [00:01<00:01,  3.49it/s]\n"
     ]
    },
    {
     "name": "stdout",
     "output_type": "stream",
     "text": [
      "\u001b[36m(launch_and_fit pid=29448)\u001b[0m \tTrain Epoch: 7 \tTrain_loss: 0.2684 | Train_acc: 90.4750 % | Validation_loss: 2.5749 | Validation_acc: 57.1429 %\n"
     ]
    },
    {
     "name": "stderr",
     "output_type": "stream",
     "text": [
      " 70%|\u001b[34m███████   \u001b[0m| 7/10 [00:02<00:01,  2.65it/s]\n"
     ]
    },
    {
     "name": "stdout",
     "output_type": "stream",
     "text": [
      "\u001b[36m(launch_and_fit pid=29448)\u001b[0m \tTrain Epoch: 8 \tTrain_loss: 0.5216 | Train_acc: 84.0500 % | Validation_loss: 3.4476 | Validation_acc: 62.6488 %\n"
     ]
    },
    {
     "name": "stderr",
     "output_type": "stream",
     "text": [
      " 80%|\u001b[34m████████  \u001b[0m| 8/10 [00:02<00:00,  3.04it/s]\n"
     ]
    },
    {
     "name": "stdout",
     "output_type": "stream",
     "text": [
      "\u001b[36m(launch_and_fit pid=29448)\u001b[0m \tTrain Epoch: 9 \tTrain_loss: 0.6820 | Train_acc: 79.0000 % | Validation_loss: 1.9603 | Validation_acc: 58.1845 %\n"
     ]
    },
    {
     "name": "stderr",
     "output_type": "stream",
     "text": [
      " 90%|\u001b[34m█████████ \u001b[0m| 9/10 [00:02<00:00,  3.14it/s]\n"
     ]
    },
    {
     "name": "stdout",
     "output_type": "stream",
     "text": [
      "\u001b[36m(launch_and_fit pid=29448)\u001b[0m \tTrain Epoch: 10 \tTrain_loss: 0.2941 | Train_acc: 89.7500 % | Validation_loss: 2.2136 | Validation_acc: 59.2262 %\n",
      "\u001b[36m(launch_and_fit pid=29448)\u001b[0m save graph in  results/FL/\n"
     ]
    },
    {
     "name": "stderr",
     "output_type": "stream",
     "text": [
      "100%|\u001b[34m██████████\u001b[0m| 10/10 [00:02<00:00,  3.34it/s]\n"
     ]
    },
    {
     "name": "stdout",
     "output_type": "stream",
     "text": [
      "\u001b[36m(launch_and_fit pid=29448)\u001b[0m Run WITHOUT homomorphic encryption\n",
      "\u001b[36m(launch_and_fit pid=29448)\u001b[0m  To get the checkpoint\n",
      "\u001b[36m(launch_and_fit pid=29448)\u001b[0m [Client 1, round 31] fit, config: {'learning_rate': 0.003, 'batch_size': '16', 'server_round': 31, 'local_epochs': 10}\n",
      "\u001b[36m(launch_and_fit pid=29448)\u001b[0m Updated model\n"
     ]
    },
    {
     "name": "stderr",
     "output_type": "stream",
     "text": [
      "  0%|\u001b[34m          \u001b[0m| 0/10 [00:00<?, ?it/s]\n"
     ]
    },
    {
     "name": "stdout",
     "output_type": "stream",
     "text": [
      "\u001b[36m(launch_and_fit pid=29448)\u001b[0m \tTrain Epoch: 1 \tTrain_loss: 0.6902 | Train_acc: 78.7000 % | Validation_loss: 2.1915 | Validation_acc: 59.2262 %\n"
     ]
    },
    {
     "name": "stderr",
     "output_type": "stream",
     "text": [
      " 10%|\u001b[34m█         \u001b[0m| 1/10 [00:00<00:07,  1.27it/s]\n"
     ]
    },
    {
     "name": "stdout",
     "output_type": "stream",
     "text": [
      "\u001b[36m(launch_and_fit pid=29448)\u001b[0m \tTrain Epoch: 2 \tTrain_loss: 0.3804 | Train_acc: 86.3750 % | Validation_loss: 2.5251 | Validation_acc: 64.7321 %\n"
     ]
    },
    {
     "name": "stderr",
     "output_type": "stream",
     "text": [
      " 20%|\u001b[34m██        \u001b[0m| 2/10 [00:01<00:04,  1.96it/s]\n"
     ]
    },
    {
     "name": "stdout",
     "output_type": "stream",
     "text": [
      "\u001b[36m(launch_and_fit pid=29448)\u001b[0m \tTrain Epoch: 3 \tTrain_loss: 0.2773 | Train_acc: 91.1250 % | Validation_loss: 2.4054 | Validation_acc: 63.6905 %\n"
     ]
    },
    {
     "name": "stderr",
     "output_type": "stream",
     "text": [
      " 30%|\u001b[34m███       \u001b[0m| 3/10 [00:01<00:04,  1.58it/s]\n"
     ]
    },
    {
     "name": "stdout",
     "output_type": "stream",
     "text": [
      "\u001b[36m(launch_and_fit pid=29448)\u001b[0m \tTrain Epoch: 4 \tTrain_loss: 0.2813 | Train_acc: 90.1250 % | Validation_loss: 2.6815 | Validation_acc: 62.6488 %\n"
     ]
    },
    {
     "name": "stderr",
     "output_type": "stream",
     "text": [
      " 40%|\u001b[34m████      \u001b[0m| 4/10 [00:02<00:03,  1.69it/s]\n"
     ]
    },
    {
     "name": "stdout",
     "output_type": "stream",
     "text": [
      "\u001b[36m(launch_and_fit pid=29448)\u001b[0m \tTrain Epoch: 5 \tTrain_loss: 0.2521 | Train_acc: 90.7500 % | Validation_loss: 2.6696 | Validation_acc: 64.7321 %\n"
     ]
    },
    {
     "name": "stderr",
     "output_type": "stream",
     "text": [
      " 50%|\u001b[34m█████     \u001b[0m| 5/10 [00:02<00:02,  1.82it/s]\n"
     ]
    },
    {
     "name": "stdout",
     "output_type": "stream",
     "text": [
      "\u001b[36m(launch_and_fit pid=29448)\u001b[0m \tTrain Epoch: 6 \tTrain_loss: 0.2036 | Train_acc: 93.7500 % | Validation_loss: 2.6202 | Validation_acc: 64.4345 %\n"
     ]
    },
    {
     "name": "stderr",
     "output_type": "stream",
     "text": [
      " 60%|\u001b[34m██████    \u001b[0m| 6/10 [00:03<00:02,  2.00it/s]\n"
     ]
    },
    {
     "name": "stdout",
     "output_type": "stream",
     "text": [
      "\u001b[36m(launch_and_fit pid=29448)\u001b[0m \tTrain Epoch: 7 \tTrain_loss: 0.1998 | Train_acc: 92.5000 % | Validation_loss: 2.7910 | Validation_acc: 67.1131 %\n",
      "\u001b[36m(launch_and_fit pid=29448)\u001b[0m \tTrain Epoch: 8 \tTrain_loss: 0.4481 | Train_acc: 84.6000 % | Validation_loss: 2.7208 | Validation_acc: 65.7738 %\n"
     ]
    },
    {
     "name": "stderr",
     "output_type": "stream",
     "text": [
      " 70%|\u001b[34m███████   \u001b[0m| 7/10 [00:03<00:01,  2.31it/s]\n",
      " 80%|\u001b[34m████████  \u001b[0m| 8/10 [00:03<00:00,  2.74it/s]\n"
     ]
    },
    {
     "name": "stdout",
     "output_type": "stream",
     "text": [
      "\u001b[36m(launch_and_fit pid=29448)\u001b[0m \tTrain Epoch: 9 \tTrain_loss: 0.2530 | Train_acc: 91.3750 % | Validation_loss: 3.1472 | Validation_acc: 63.6905 %\n"
     ]
    },
    {
     "name": "stderr",
     "output_type": "stream",
     "text": [
      " 90%|\u001b[34m█████████ \u001b[0m| 9/10 [00:04<00:00,  2.65it/s]\n"
     ]
    },
    {
     "name": "stdout",
     "output_type": "stream",
     "text": [
      "\u001b[36m(launch_and_fit pid=29448)\u001b[0m \tTrain Epoch: 10 \tTrain_loss: 0.2203 | Train_acc: 92.3750 % | Validation_loss: 2.9900 | Validation_acc: 66.8155 %\n",
      "\u001b[36m(launch_and_fit pid=29448)\u001b[0m save graph in  results/FL/\n"
     ]
    },
    {
     "name": "stderr",
     "output_type": "stream",
     "text": [
      "100%|\u001b[34m██████████\u001b[0m| 10/10 [00:04<00:00,  2.19it/s]\n"
     ]
    },
    {
     "name": "stdout",
     "output_type": "stream",
     "text": [
      "\u001b[36m(launch_and_fit pid=29448)\u001b[0m Run WITHOUT homomorphic encryption\n",
      "\u001b[36m(launch_and_fit pid=29448)\u001b[0m  To get the checkpoint\n",
      "\u001b[36m(launch_and_fit pid=29448)\u001b[0m [Client 0, round 31] fit, config: {'learning_rate': 0.003, 'batch_size': '16', 'server_round': 31, 'local_epochs': 10}\n",
      "\u001b[36m(launch_and_fit pid=29448)\u001b[0m Updated model\n"
     ]
    },
    {
     "name": "stderr",
     "output_type": "stream",
     "text": [
      "  0%|\u001b[34m          \u001b[0m| 0/10 [00:00<?, ?it/s]\n"
     ]
    },
    {
     "name": "stdout",
     "output_type": "stream",
     "text": [
      "\u001b[36m(launch_and_fit pid=29448)\u001b[0m \tTrain Epoch: 1 \tTrain_loss: 0.5460 | Train_acc: 82.1250 % | Validation_loss: 2.8250 | Validation_acc: 60.8631 %\n"
     ]
    },
    {
     "name": "stderr",
     "output_type": "stream",
     "text": [
      " 10%|\u001b[34m█         \u001b[0m| 1/10 [00:00<00:07,  1.25it/s]\n"
     ]
    },
    {
     "name": "stdout",
     "output_type": "stream",
     "text": [
      "\u001b[36m(launch_and_fit pid=29448)\u001b[0m \tTrain Epoch: 2 \tTrain_loss: 0.3829 | Train_acc: 86.9750 % | Validation_loss: 3.5717 | Validation_acc: 58.7798 %\n"
     ]
    },
    {
     "name": "stderr",
     "output_type": "stream",
     "text": [
      " 20%|\u001b[34m██        \u001b[0m| 2/10 [00:01<00:07,  1.09it/s]\n"
     ]
    },
    {
     "name": "stdout",
     "output_type": "stream",
     "text": [
      "\u001b[36m(launch_and_fit pid=29448)\u001b[0m \tTrain Epoch: 3 \tTrain_loss: 0.3293 | Train_acc: 90.1250 % | Validation_loss: 2.8077 | Validation_acc: 62.9464 %\n"
     ]
    },
    {
     "name": "stderr",
     "output_type": "stream",
     "text": [
      " 30%|\u001b[34m███       \u001b[0m| 3/10 [00:02<00:06,  1.05it/s]\n"
     ]
    },
    {
     "name": "stdout",
     "output_type": "stream",
     "text": [
      "\u001b[36m(launch_and_fit pid=29448)\u001b[0m \tTrain Epoch: 4 \tTrain_loss: 0.2495 | Train_acc: 92.3250 % | Validation_loss: 3.1737 | Validation_acc: 59.8214 %\n"
     ]
    },
    {
     "name": "stderr",
     "output_type": "stream",
     "text": [
      " 40%|\u001b[34m████      \u001b[0m| 4/10 [00:03<00:06,  1.01s/it]\n"
     ]
    },
    {
     "name": "stdout",
     "output_type": "stream",
     "text": [
      "\u001b[36m(launch_and_fit pid=29448)\u001b[0m \tTrain Epoch: 5 \tTrain_loss: 0.1840 | Train_acc: 94.1250 % | Validation_loss: 3.1778 | Validation_acc: 58.7798 %\n"
     ]
    },
    {
     "name": "stderr",
     "output_type": "stream",
     "text": [
      " 50%|\u001b[34m█████     \u001b[0m| 5/10 [00:04<00:04,  1.11it/s]\n"
     ]
    },
    {
     "name": "stdout",
     "output_type": "stream",
     "text": [
      "\u001b[36m(launch_and_fit pid=29448)\u001b[0m \tTrain Epoch: 6 \tTrain_loss: 0.1985 | Train_acc: 94.1000 % | Validation_loss: 3.6312 | Validation_acc: 54.6131 %\n"
     ]
    },
    {
     "name": "stderr",
     "output_type": "stream",
     "text": [
      " 60%|\u001b[34m██████    \u001b[0m| 6/10 [00:04<00:02,  1.37it/s]\n"
     ]
    },
    {
     "name": "stdout",
     "output_type": "stream",
     "text": [
      "\u001b[36m(launch_and_fit pid=29448)\u001b[0m \tTrain Epoch: 7 \tTrain_loss: 0.2475 | Train_acc: 92.0000 % | Validation_loss: 3.3397 | Validation_acc: 59.0774 %\n"
     ]
    },
    {
     "name": "stderr",
     "output_type": "stream",
     "text": [
      " 70%|\u001b[34m███████   \u001b[0m| 7/10 [00:05<00:01,  1.59it/s]\n"
     ]
    },
    {
     "name": "stdout",
     "output_type": "stream",
     "text": [
      "\u001b[36m(launch_and_fit pid=29448)\u001b[0m \tTrain Epoch: 8 \tTrain_loss: 0.2779 | Train_acc: 89.8500 % | Validation_loss: 3.3378 | Validation_acc: 58.7798 %\n"
     ]
    },
    {
     "name": "stderr",
     "output_type": "stream",
     "text": [
      " 80%|\u001b[34m████████  \u001b[0m| 8/10 [00:05<00:01,  1.72it/s]\n"
     ]
    },
    {
     "name": "stdout",
     "output_type": "stream",
     "text": [
      "\u001b[36m(launch_and_fit pid=29448)\u001b[0m \tTrain Epoch: 9 \tTrain_loss: 0.2521 | Train_acc: 91.8250 % | Validation_loss: 3.9133 | Validation_acc: 59.8214 %\n"
     ]
    },
    {
     "name": "stderr",
     "output_type": "stream",
     "text": [
      " 90%|\u001b[34m█████████ \u001b[0m| 9/10 [00:06<00:00,  1.92it/s]\n"
     ]
    },
    {
     "name": "stdout",
     "output_type": "stream",
     "text": [
      "\u001b[36m(launch_and_fit pid=29448)\u001b[0m \tTrain Epoch: 10 \tTrain_loss: 1.1128 | Train_acc: 71.4750 % | Validation_loss: 2.6205 | Validation_acc: 47.0238 %\n",
      "\u001b[36m(launch_and_fit pid=29448)\u001b[0m save graph in  results/FL/\n"
     ]
    },
    {
     "name": "stderr",
     "output_type": "stream",
     "text": [
      "100%|\u001b[34m██████████\u001b[0m| 10/10 [00:06<00:00,  1.52it/s]\n"
     ]
    },
    {
     "name": "stdout",
     "output_type": "stream",
     "text": [
      "\u001b[36m(launch_and_fit pid=29448)\u001b[0m Run WITHOUT homomorphic encryption\n",
      "\u001b[36m(launch_and_fit pid=29448)\u001b[0m  To get the checkpoint\n",
      "\u001b[36m(launch_and_fit pid=29448)\u001b[0m [Client 2, round 31] fit, config: {'learning_rate': 0.003, 'batch_size': '16', 'server_round': 31, 'local_epochs': 10}\n",
      "\u001b[36m(launch_and_fit pid=29448)\u001b[0m Updated model\n"
     ]
    },
    {
     "name": "stderr",
     "output_type": "stream",
     "text": [
      "  0%|\u001b[34m          \u001b[0m| 0/10 [00:00<?, ?it/s]\n"
     ]
    },
    {
     "name": "stdout",
     "output_type": "stream",
     "text": [
      "\u001b[36m(launch_and_fit pid=29448)\u001b[0m \tTrain Epoch: 1 \tTrain_loss: 0.6902 | Train_acc: 81.7250 % | Validation_loss: 1.6497 | Validation_acc: 74.4048 %\n"
     ]
    },
    {
     "name": "stderr",
     "output_type": "stream",
     "text": [
      " 10%|\u001b[34m█         \u001b[0m| 1/10 [00:00<00:05,  1.70it/s]\n"
     ]
    },
    {
     "name": "stdout",
     "output_type": "stream",
     "text": [
      "\u001b[36m(launch_and_fit pid=29448)\u001b[0m \tTrain Epoch: 2 \tTrain_loss: 0.4058 | Train_acc: 84.2250 % | Validation_loss: 1.3368 | Validation_acc: 68.1548 %\n"
     ]
    },
    {
     "name": "stderr",
     "output_type": "stream",
     "text": [
      " 20%|\u001b[34m██        \u001b[0m| 2/10 [00:01<00:05,  1.53it/s]\n"
     ]
    },
    {
     "name": "stdout",
     "output_type": "stream",
     "text": [
      "\u001b[36m(launch_and_fit pid=29448)\u001b[0m \tTrain Epoch: 3 \tTrain_loss: 0.2467 | Train_acc: 91.9750 % | Validation_loss: 1.6850 | Validation_acc: 73.3631 %\n"
     ]
    },
    {
     "name": "stderr",
     "output_type": "stream",
     "text": [
      " 30%|\u001b[34m███       \u001b[0m| 3/10 [00:01<00:04,  1.57it/s]\n"
     ]
    },
    {
     "name": "stdout",
     "output_type": "stream",
     "text": [
      "\u001b[36m(launch_and_fit pid=29448)\u001b[0m \tTrain Epoch: 4 \tTrain_loss: 0.1918 | Train_acc: 93.3750 % | Validation_loss: 1.7205 | Validation_acc: 73.3631 %\n"
     ]
    },
    {
     "name": "stderr",
     "output_type": "stream",
     "text": [
      " 40%|\u001b[34m████      \u001b[0m| 4/10 [00:02<00:03,  1.87it/s]\n"
     ]
    },
    {
     "name": "stdout",
     "output_type": "stream",
     "text": [
      "\u001b[36m(launch_and_fit pid=29448)\u001b[0m \tTrain Epoch: 5 \tTrain_loss: 0.1736 | Train_acc: 94.3250 % | Validation_loss: 1.8708 | Validation_acc: 71.2798 %\n"
     ]
    },
    {
     "name": "stderr",
     "output_type": "stream",
     "text": [
      " 50%|\u001b[34m█████     \u001b[0m| 5/10 [00:02<00:02,  2.22it/s]\n"
     ]
    },
    {
     "name": "stdout",
     "output_type": "stream",
     "text": [
      "\u001b[36m(launch_and_fit pid=29448)\u001b[0m \tTrain Epoch: 6 \tTrain_loss: 0.2365 | Train_acc: 92.1250 % | Validation_loss: 1.6411 | Validation_acc: 69.1964 %\n"
     ]
    },
    {
     "name": "stderr",
     "output_type": "stream",
     "text": [
      " 60%|\u001b[34m██████    \u001b[0m| 6/10 [00:02<00:01,  2.52it/s]\n"
     ]
    },
    {
     "name": "stdout",
     "output_type": "stream",
     "text": [
      "\u001b[36m(launch_and_fit pid=29448)\u001b[0m \tTrain Epoch: 7 \tTrain_loss: 0.6556 | Train_acc: 77.9500 % | Validation_loss: 1.2450 | Validation_acc: 73.3631 %\n"
     ]
    },
    {
     "name": "stderr",
     "output_type": "stream",
     "text": [
      " 70%|\u001b[34m███████   \u001b[0m| 7/10 [00:03<00:01,  2.50it/s]\n"
     ]
    },
    {
     "name": "stdout",
     "output_type": "stream",
     "text": [
      "\u001b[36m(launch_and_fit pid=29448)\u001b[0m \tTrain Epoch: 8 \tTrain_loss: 0.5131 | Train_acc: 84.1250 % | Validation_loss: 1.7162 | Validation_acc: 69.1964 %\n"
     ]
    },
    {
     "name": "stderr",
     "output_type": "stream",
     "text": [
      " 80%|\u001b[34m████████  \u001b[0m| 8/10 [00:03<00:00,  2.46it/s]\n"
     ]
    },
    {
     "name": "stdout",
     "output_type": "stream",
     "text": [
      "\u001b[36m(launch_and_fit pid=29448)\u001b[0m \tTrain Epoch: 9 \tTrain_loss: 0.4478 | Train_acc: 86.3500 % | Validation_loss: 1.6740 | Validation_acc: 60.8631 %\n"
     ]
    },
    {
     "name": "stderr",
     "output_type": "stream",
     "text": [
      " 90%|\u001b[34m█████████ \u001b[0m| 9/10 [00:04<00:00,  2.46it/s]\n"
     ]
    },
    {
     "name": "stdout",
     "output_type": "stream",
     "text": [
      "\u001b[36m(launch_and_fit pid=29448)\u001b[0m \tTrain Epoch: 10 \tTrain_loss: 0.5218 | Train_acc: 82.8500 % | Validation_loss: 1.2834 | Validation_acc: 66.0714 %\n",
      "\u001b[36m(launch_and_fit pid=29448)\u001b[0m save graph in  results/FL/\n"
     ]
    },
    {
     "name": "stderr",
     "output_type": "stream",
     "text": [
      "100%|\u001b[34m██████████\u001b[0m| 10/10 [00:04<00:00,  2.28it/s]\n",
      "DEBUG flwr 2024-08-30 01:24:37,205 | server.py:236 | fit_round 31 received 4 results and 0 failures\n"
     ]
    },
    {
     "name": "stdout",
     "output_type": "stream",
     "text": [
      "Saving round 31 aggregated_parameters...\n"
     ]
    },
    {
     "name": "stderr",
     "output_type": "stream",
     "text": [
      "INFO flwr 2024-08-30 01:24:37,680 | server.py:125 | fit progress: (31, 2.117829192768444, {'accuracy': 67.65151515151516}, 486.95267613604665)\n",
      "DEBUG flwr 2024-08-30 01:24:37,681 | server.py:173 | evaluate_round 31: strategy sampled 4 clients (out of 4)\n"
     ]
    },
    {
     "name": "stdout",
     "output_type": "stream",
     "text": [
      "Updated model\n",
      "Server-side evaluation loss 2.117829192768444 / accuracy 67.65151515151516\n",
      "\u001b[36m(launch_and_evaluate pid=29448)\u001b[0m Run WITHOUT homomorphic encryption\n",
      "\u001b[36m(launch_and_evaluate pid=29448)\u001b[0m  To get the checkpoint\n",
      "\u001b[36m(launch_and_evaluate pid=29448)\u001b[0m [Client 0] evaluate, config: {}\n",
      "\u001b[36m(launch_and_evaluate pid=29448)\u001b[0m Updated model\n",
      "\u001b[36m(launch_and_evaluate pid=29448)\u001b[0m Run WITHOUT homomorphic encryption\n",
      "\u001b[36m(launch_and_evaluate pid=29448)\u001b[0m  To get the checkpoint\n",
      "\u001b[36m(launch_and_evaluate pid=29448)\u001b[0m [Client 2] evaluate, config: {}\n",
      "\u001b[36m(launch_and_evaluate pid=29448)\u001b[0m Updated model\n",
      "\u001b[36m(launch_and_evaluate pid=29448)\u001b[0m Run WITHOUT homomorphic encryption\n",
      "\u001b[36m(launch_and_evaluate pid=29448)\u001b[0m  To get the checkpoint\n",
      "\u001b[36m(launch_and_evaluate pid=29448)\u001b[0m [Client 3] evaluate, config: {}\n",
      "\u001b[36m(launch_and_evaluate pid=29448)\u001b[0m Updated model\n",
      "\u001b[36m(launch_and_evaluate pid=29448)\u001b[0m Run WITHOUT homomorphic encryption\n",
      "\u001b[36m(launch_and_evaluate pid=29448)\u001b[0m  To get the checkpoint\n",
      "\u001b[36m(launch_and_evaluate pid=29448)\u001b[0m [Client 1] evaluate, config: {}\n",
      "\u001b[36m(launch_and_evaluate pid=29448)\u001b[0m Updated model\n"
     ]
    },
    {
     "name": "stderr",
     "output_type": "stream",
     "text": [
      "DEBUG flwr 2024-08-30 01:24:45,678 | server.py:187 | evaluate_round 31 received 4 results and 0 failures\n",
      "DEBUG flwr 2024-08-30 01:24:45,679 | server.py:222 | fit_round 32: strategy sampled 4 clients (out of 4)\n"
     ]
    },
    {
     "name": "stdout",
     "output_type": "stream",
     "text": [
      "\u001b[36m(launch_and_fit pid=29448)\u001b[0m Run WITHOUT homomorphic encryption\n",
      "\u001b[36m(launch_and_fit pid=29448)\u001b[0m  To get the checkpoint\n",
      "\u001b[36m(launch_and_fit pid=29448)\u001b[0m [Client 0, round 32] fit, config: {'learning_rate': 0.003, 'batch_size': '16', 'server_round': 32, 'local_epochs': 10}\n",
      "\u001b[36m(launch_and_fit pid=29448)\u001b[0m Updated model\n"
     ]
    },
    {
     "name": "stderr",
     "output_type": "stream",
     "text": [
      "  0%|\u001b[34m          \u001b[0m| 0/10 [00:00<?, ?it/s]\n"
     ]
    },
    {
     "name": "stdout",
     "output_type": "stream",
     "text": [
      "\u001b[36m(launch_and_fit pid=29448)\u001b[0m \tTrain Epoch: 1 \tTrain_loss: 0.6332 | Train_acc: 79.4750 % | Validation_loss: 3.0532 | Validation_acc: 56.6964 %\n"
     ]
    },
    {
     "name": "stderr",
     "output_type": "stream",
     "text": [
      " 10%|\u001b[34m█         \u001b[0m| 1/10 [00:00<00:08,  1.08it/s]\n"
     ]
    },
    {
     "name": "stdout",
     "output_type": "stream",
     "text": [
      "\u001b[36m(launch_and_fit pid=29448)\u001b[0m \tTrain Epoch: 2 \tTrain_loss: 0.3517 | Train_acc: 87.5000 % | Validation_loss: 2.8071 | Validation_acc: 61.1607 %\n"
     ]
    },
    {
     "name": "stderr",
     "output_type": "stream",
     "text": [
      " 20%|\u001b[34m██        \u001b[0m| 2/10 [00:01<00:06,  1.19it/s]\n"
     ]
    },
    {
     "name": "stdout",
     "output_type": "stream",
     "text": [
      "\u001b[36m(launch_and_fit pid=29448)\u001b[0m \tTrain Epoch: 3 \tTrain_loss: 0.2676 | Train_acc: 90.8750 % | Validation_loss: 3.0398 | Validation_acc: 59.8214 %\n"
     ]
    },
    {
     "name": "stderr",
     "output_type": "stream",
     "text": [
      " 30%|\u001b[34m███       \u001b[0m| 3/10 [00:02<00:05,  1.29it/s]\n"
     ]
    },
    {
     "name": "stdout",
     "output_type": "stream",
     "text": [
      "\u001b[36m(launch_and_fit pid=29448)\u001b[0m \tTrain Epoch: 4 \tTrain_loss: 0.2521 | Train_acc: 92.0000 % | Validation_loss: 3.2918 | Validation_acc: 58.7798 %\n"
     ]
    },
    {
     "name": "stderr",
     "output_type": "stream",
     "text": [
      " 40%|\u001b[34m████      \u001b[0m| 4/10 [00:03<00:04,  1.39it/s]\n"
     ]
    },
    {
     "name": "stdout",
     "output_type": "stream",
     "text": [
      "\u001b[36m(launch_and_fit pid=29448)\u001b[0m \tTrain Epoch: 5 \tTrain_loss: 0.3888 | Train_acc: 87.3500 % | Validation_loss: 3.3766 | Validation_acc: 59.0774 %\n"
     ]
    },
    {
     "name": "stderr",
     "output_type": "stream",
     "text": [
      " 50%|\u001b[34m█████     \u001b[0m| 5/10 [00:03<00:03,  1.59it/s]\n"
     ]
    },
    {
     "name": "stdout",
     "output_type": "stream",
     "text": [
      "\u001b[36m(launch_and_fit pid=29448)\u001b[0m \tTrain Epoch: 6 \tTrain_loss: 0.5806 | Train_acc: 81.4750 % | Validation_loss: 3.4335 | Validation_acc: 56.3988 %\n"
     ]
    },
    {
     "name": "stderr",
     "output_type": "stream",
     "text": [
      " 60%|\u001b[34m██████    \u001b[0m| 6/10 [00:03<00:02,  1.91it/s]\n"
     ]
    },
    {
     "name": "stdout",
     "output_type": "stream",
     "text": [
      "\u001b[36m(launch_and_fit pid=29448)\u001b[0m \tTrain Epoch: 7 \tTrain_loss: 0.2873 | Train_acc: 91.1250 % | Validation_loss: 2.7370 | Validation_acc: 63.9881 %\n"
     ]
    },
    {
     "name": "stderr",
     "output_type": "stream",
     "text": [
      " 70%|\u001b[34m███████   \u001b[0m| 7/10 [00:04<00:01,  2.25it/s]\n"
     ]
    },
    {
     "name": "stdout",
     "output_type": "stream",
     "text": [
      "\u001b[36m(launch_and_fit pid=29448)\u001b[0m \tTrain Epoch: 8 \tTrain_loss: 0.2193 | Train_acc: 92.3500 % | Validation_loss: 3.5943 | Validation_acc: 62.9464 %\n"
     ]
    },
    {
     "name": "stderr",
     "output_type": "stream",
     "text": [
      " 80%|\u001b[34m████████  \u001b[0m| 8/10 [00:04<00:00,  2.45it/s]\n"
     ]
    },
    {
     "name": "stdout",
     "output_type": "stream",
     "text": [
      "\u001b[36m(launch_and_fit pid=29448)\u001b[0m \tTrain Epoch: 9 \tTrain_loss: 0.1741 | Train_acc: 94.7500 % | Validation_loss: 3.4362 | Validation_acc: 57.1429 %\n"
     ]
    },
    {
     "name": "stderr",
     "output_type": "stream",
     "text": [
      " 90%|\u001b[34m█████████ \u001b[0m| 9/10 [00:04<00:00,  2.53it/s]\n"
     ]
    },
    {
     "name": "stdout",
     "output_type": "stream",
     "text": [
      "\u001b[36m(launch_and_fit pid=29448)\u001b[0m \tTrain Epoch: 10 \tTrain_loss: 0.1089 | Train_acc: 97.1000 % | Validation_loss: 3.4362 | Validation_acc: 55.3571 %\n",
      "\u001b[36m(launch_and_fit pid=29448)\u001b[0m save graph in  results/FL/\n"
     ]
    },
    {
     "name": "stderr",
     "output_type": "stream",
     "text": [
      "100%|\u001b[34m██████████\u001b[0m| 10/10 [00:05<00:00,  1.96it/s]\n"
     ]
    },
    {
     "name": "stdout",
     "output_type": "stream",
     "text": [
      "\u001b[36m(launch_and_fit pid=29448)\u001b[0m Run WITHOUT homomorphic encryption\n",
      "\u001b[36m(launch_and_fit pid=29448)\u001b[0m  To get the checkpoint\n",
      "\u001b[36m(launch_and_fit pid=29448)\u001b[0m [Client 3, round 32] fit, config: {'learning_rate': 0.003, 'batch_size': '16', 'server_round': 32, 'local_epochs': 10}\n",
      "\u001b[36m(launch_and_fit pid=29448)\u001b[0m Updated model\n"
     ]
    },
    {
     "name": "stderr",
     "output_type": "stream",
     "text": [
      "  0%|\u001b[34m          \u001b[0m| 0/10 [00:00<?, ?it/s]\n"
     ]
    },
    {
     "name": "stdout",
     "output_type": "stream",
     "text": [
      "\u001b[36m(launch_and_fit pid=29448)\u001b[0m \tTrain Epoch: 1 \tTrain_loss: 0.5297 | Train_acc: 82.4750 % | Validation_loss: 2.2340 | Validation_acc: 61.3095 %\n"
     ]
    },
    {
     "name": "stderr",
     "output_type": "stream",
     "text": [
      " 10%|\u001b[34m█         \u001b[0m| 1/10 [00:00<00:06,  1.45it/s]\n"
     ]
    },
    {
     "name": "stdout",
     "output_type": "stream",
     "text": [
      "\u001b[36m(launch_and_fit pid=29448)\u001b[0m \tTrain Epoch: 2 \tTrain_loss: 0.3450 | Train_acc: 87.6250 % | Validation_loss: 3.4363 | Validation_acc: 62.6488 %\n"
     ]
    },
    {
     "name": "stderr",
     "output_type": "stream",
     "text": [
      " 20%|\u001b[34m██        \u001b[0m| 2/10 [00:01<00:04,  1.74it/s]\n"
     ]
    },
    {
     "name": "stdout",
     "output_type": "stream",
     "text": [
      "\u001b[36m(launch_and_fit pid=29448)\u001b[0m \tTrain Epoch: 3 \tTrain_loss: 0.4458 | Train_acc: 85.3500 % | Validation_loss: 2.3326 | Validation_acc: 55.3571 %\n"
     ]
    },
    {
     "name": "stderr",
     "output_type": "stream",
     "text": [
      " 30%|\u001b[34m███       \u001b[0m| 3/10 [00:01<00:03,  1.84it/s]\n"
     ]
    },
    {
     "name": "stdout",
     "output_type": "stream",
     "text": [
      "\u001b[36m(launch_and_fit pid=29448)\u001b[0m \tTrain Epoch: 4 \tTrain_loss: 0.5624 | Train_acc: 83.4750 % | Validation_loss: 2.0131 | Validation_acc: 61.6071 %\n"
     ]
    },
    {
     "name": "stderr",
     "output_type": "stream",
     "text": [
      " 40%|\u001b[34m████      \u001b[0m| 4/10 [00:02<00:04,  1.39it/s]\n"
     ]
    },
    {
     "name": "stdout",
     "output_type": "stream",
     "text": [
      "\u001b[36m(launch_and_fit pid=29448)\u001b[0m \tTrain Epoch: 5 \tTrain_loss: 0.3638 | Train_acc: 88.2250 % | Validation_loss: 2.3196 | Validation_acc: 58.1845 %\n"
     ]
    },
    {
     "name": "stderr",
     "output_type": "stream",
     "text": [
      " 50%|\u001b[34m█████     \u001b[0m| 5/10 [00:03<00:03,  1.34it/s]\n"
     ]
    },
    {
     "name": "stdout",
     "output_type": "stream",
     "text": [
      "\u001b[36m(launch_and_fit pid=29448)\u001b[0m \tTrain Epoch: 6 \tTrain_loss: 0.2716 | Train_acc: 90.5750 % | Validation_loss: 2.4631 | Validation_acc: 61.6071 %\n"
     ]
    },
    {
     "name": "stderr",
     "output_type": "stream",
     "text": [
      " 60%|\u001b[34m██████    \u001b[0m| 6/10 [00:03<00:02,  1.68it/s]\n"
     ]
    },
    {
     "name": "stdout",
     "output_type": "stream",
     "text": [
      "\u001b[36m(launch_and_fit pid=29448)\u001b[0m \tTrain Epoch: 7 \tTrain_loss: 0.2201 | Train_acc: 93.5000 % | Validation_loss: 2.2581 | Validation_acc: 61.3095 %\n"
     ]
    },
    {
     "name": "stderr",
     "output_type": "stream",
     "text": [
      " 70%|\u001b[34m███████   \u001b[0m| 7/10 [00:04<00:01,  1.77it/s]\n"
     ]
    },
    {
     "name": "stdout",
     "output_type": "stream",
     "text": [
      "\u001b[36m(launch_and_fit pid=29448)\u001b[0m \tTrain Epoch: 8 \tTrain_loss: 0.1902 | Train_acc: 94.2500 % | Validation_loss: 2.2769 | Validation_acc: 59.2262 %\n"
     ]
    },
    {
     "name": "stderr",
     "output_type": "stream",
     "text": [
      " 80%|\u001b[34m████████  \u001b[0m| 8/10 [00:04<00:00,  2.21it/s]\n"
     ]
    },
    {
     "name": "stdout",
     "output_type": "stream",
     "text": [
      "\u001b[36m(launch_and_fit pid=29448)\u001b[0m \tTrain Epoch: 9 \tTrain_loss: 0.1467 | Train_acc: 95.1000 % | Validation_loss: 2.5602 | Validation_acc: 62.3512 %\n"
     ]
    },
    {
     "name": "stderr",
     "output_type": "stream",
     "text": [
      " 90%|\u001b[34m█████████ \u001b[0m| 9/10 [00:04<00:00,  2.49it/s]\n"
     ]
    },
    {
     "name": "stdout",
     "output_type": "stream",
     "text": [
      "\u001b[36m(launch_and_fit pid=29448)\u001b[0m \tTrain Epoch: 10 \tTrain_loss: 0.4294 | Train_acc: 86.1250 % | Validation_loss: 2.6678 | Validation_acc: 56.1012 %\n",
      "\u001b[36m(launch_and_fit pid=29448)\u001b[0m save graph in  results/FL/\n"
     ]
    },
    {
     "name": "stderr",
     "output_type": "stream",
     "text": [
      "100%|\u001b[34m██████████\u001b[0m| 10/10 [00:05<00:00,  1.89it/s]\n"
     ]
    },
    {
     "name": "stdout",
     "output_type": "stream",
     "text": [
      "\u001b[36m(launch_and_fit pid=29448)\u001b[0m Run WITHOUT homomorphic encryption\n",
      "\u001b[36m(launch_and_fit pid=29448)\u001b[0m  To get the checkpoint\n",
      "\u001b[36m(launch_and_fit pid=29448)\u001b[0m [Client 1, round 32] fit, config: {'learning_rate': 0.003, 'batch_size': '16', 'server_round': 32, 'local_epochs': 10}\n",
      "\u001b[36m(launch_and_fit pid=29448)\u001b[0m Updated model\n"
     ]
    },
    {
     "name": "stderr",
     "output_type": "stream",
     "text": [
      "  0%|\u001b[34m          \u001b[0m| 0/10 [00:00<?, ?it/s]\n"
     ]
    },
    {
     "name": "stdout",
     "output_type": "stream",
     "text": [
      "\u001b[36m(launch_and_fit pid=29448)\u001b[0m \tTrain Epoch: 1 \tTrain_loss: 0.5974 | Train_acc: 80.0000 % | Validation_loss: 1.6533 | Validation_acc: 63.3929 %\n"
     ]
    },
    {
     "name": "stderr",
     "output_type": "stream",
     "text": [
      " 10%|\u001b[34m█         \u001b[0m| 1/10 [00:00<00:07,  1.24it/s]\n"
     ]
    },
    {
     "name": "stdout",
     "output_type": "stream",
     "text": [
      "\u001b[36m(launch_and_fit pid=29448)\u001b[0m \tTrain Epoch: 2 \tTrain_loss: 0.3195 | Train_acc: 88.2500 % | Validation_loss: 2.1928 | Validation_acc: 67.8571 %\n"
     ]
    },
    {
     "name": "stderr",
     "output_type": "stream",
     "text": [
      " 20%|\u001b[34m██        \u001b[0m| 2/10 [00:01<00:06,  1.24it/s]\n"
     ]
    },
    {
     "name": "stdout",
     "output_type": "stream",
     "text": [
      "\u001b[36m(launch_and_fit pid=29448)\u001b[0m \tTrain Epoch: 3 \tTrain_loss: 0.2975 | Train_acc: 90.6250 % | Validation_loss: 2.6839 | Validation_acc: 65.0298 %\n"
     ]
    },
    {
     "name": "stderr",
     "output_type": "stream",
     "text": [
      " 30%|\u001b[34m███       \u001b[0m| 3/10 [00:02<00:05,  1.18it/s]\n"
     ]
    },
    {
     "name": "stdout",
     "output_type": "stream",
     "text": [
      "\u001b[36m(launch_and_fit pid=29448)\u001b[0m \tTrain Epoch: 4 \tTrain_loss: 0.2889 | Train_acc: 90.5750 % | Validation_loss: 3.2198 | Validation_acc: 58.1845 %\n"
     ]
    },
    {
     "name": "stderr",
     "output_type": "stream",
     "text": [
      " 40%|\u001b[34m████      \u001b[0m| 4/10 [00:03<00:04,  1.26it/s]\n"
     ]
    },
    {
     "name": "stdout",
     "output_type": "stream",
     "text": [
      "\u001b[36m(launch_and_fit pid=29448)\u001b[0m \tTrain Epoch: 5 \tTrain_loss: 0.3523 | Train_acc: 88.1250 % | Validation_loss: 3.0448 | Validation_acc: 66.8155 %\n"
     ]
    },
    {
     "name": "stderr",
     "output_type": "stream",
     "text": [
      " 50%|\u001b[34m█████     \u001b[0m| 5/10 [00:03<00:03,  1.38it/s]\n"
     ]
    },
    {
     "name": "stdout",
     "output_type": "stream",
     "text": [
      "\u001b[36m(launch_and_fit pid=29448)\u001b[0m \tTrain Epoch: 6 \tTrain_loss: 0.3027 | Train_acc: 89.4750 % | Validation_loss: 3.3136 | Validation_acc: 62.6488 %\n"
     ]
    },
    {
     "name": "stderr",
     "output_type": "stream",
     "text": [
      " 60%|\u001b[34m██████    \u001b[0m| 6/10 [00:04<00:02,  1.41it/s]\n"
     ]
    },
    {
     "name": "stdout",
     "output_type": "stream",
     "text": [
      "\u001b[36m(launch_and_fit pid=29448)\u001b[0m \tTrain Epoch: 7 \tTrain_loss: 0.4946 | Train_acc: 84.6250 % | Validation_loss: 2.1976 | Validation_acc: 57.4405 %\n"
     ]
    },
    {
     "name": "stderr",
     "output_type": "stream",
     "text": [
      " 70%|\u001b[34m███████   \u001b[0m| 7/10 [00:04<00:01,  1.62it/s]\n"
     ]
    },
    {
     "name": "stdout",
     "output_type": "stream",
     "text": [
      "\u001b[36m(launch_and_fit pid=29448)\u001b[0m \tTrain Epoch: 8 \tTrain_loss: 0.3856 | Train_acc: 86.9500 % | Validation_loss: 2.5342 | Validation_acc: 59.5238 %\n"
     ]
    },
    {
     "name": "stderr",
     "output_type": "stream",
     "text": [
      " 80%|\u001b[34m████████  \u001b[0m| 8/10 [00:05<00:01,  1.86it/s]\n"
     ]
    },
    {
     "name": "stdout",
     "output_type": "stream",
     "text": [
      "\u001b[36m(launch_and_fit pid=29448)\u001b[0m \tTrain Epoch: 9 \tTrain_loss: 0.4291 | Train_acc: 87.3750 % | Validation_loss: 2.6496 | Validation_acc: 65.7738 %\n"
     ]
    },
    {
     "name": "stderr",
     "output_type": "stream",
     "text": [
      " 90%|\u001b[34m█████████ \u001b[0m| 9/10 [00:05<00:00,  2.01it/s]\n"
     ]
    },
    {
     "name": "stdout",
     "output_type": "stream",
     "text": [
      "\u001b[36m(launch_and_fit pid=29448)\u001b[0m \tTrain Epoch: 10 \tTrain_loss: 0.2186 | Train_acc: 93.5000 % | Validation_loss: 2.7750 | Validation_acc: 60.5655 %\n",
      "\u001b[36m(launch_and_fit pid=29448)\u001b[0m save graph in  results/FL/\n"
     ]
    },
    {
     "name": "stderr",
     "output_type": "stream",
     "text": [
      "100%|\u001b[34m██████████\u001b[0m| 10/10 [00:05<00:00,  1.69it/s]\n"
     ]
    },
    {
     "name": "stdout",
     "output_type": "stream",
     "text": [
      "\u001b[36m(launch_and_fit pid=29448)\u001b[0m Run WITHOUT homomorphic encryption\n",
      "\u001b[36m(launch_and_fit pid=29448)\u001b[0m  To get the checkpoint\n",
      "\u001b[36m(launch_and_fit pid=29448)\u001b[0m [Client 2, round 32] fit, config: {'learning_rate': 0.003, 'batch_size': '16', 'server_round': 32, 'local_epochs': 10}\n",
      "\u001b[36m(launch_and_fit pid=29448)\u001b[0m Updated model\n"
     ]
    },
    {
     "name": "stderr",
     "output_type": "stream",
     "text": [
      "  0%|\u001b[34m          \u001b[0m| 0/10 [00:00<?, ?it/s]\n"
     ]
    },
    {
     "name": "stdout",
     "output_type": "stream",
     "text": [
      "\u001b[36m(launch_and_fit pid=29448)\u001b[0m \tTrain Epoch: 1 \tTrain_loss: 0.6861 | Train_acc: 79.9750 % | Validation_loss: 1.4549 | Validation_acc: 72.3214 %\n"
     ]
    },
    {
     "name": "stderr",
     "output_type": "stream",
     "text": [
      " 10%|\u001b[34m█         \u001b[0m| 1/10 [00:01<00:09,  1.02s/it]\n"
     ]
    },
    {
     "name": "stdout",
     "output_type": "stream",
     "text": [
      "\u001b[36m(launch_and_fit pid=29448)\u001b[0m \tTrain Epoch: 2 \tTrain_loss: 0.3240 | Train_acc: 89.8500 % | Validation_loss: 1.5426 | Validation_acc: 69.1964 %\n"
     ]
    },
    {
     "name": "stderr",
     "output_type": "stream",
     "text": [
      " 20%|\u001b[34m██        \u001b[0m| 2/10 [00:02<00:08,  1.06s/it]\n"
     ]
    },
    {
     "name": "stdout",
     "output_type": "stream",
     "text": [
      "\u001b[36m(launch_and_fit pid=29448)\u001b[0m \tTrain Epoch: 3 \tTrain_loss: 0.2727 | Train_acc: 89.2250 % | Validation_loss: 1.4454 | Validation_acc: 68.1548 %\n"
     ]
    },
    {
     "name": "stderr",
     "output_type": "stream",
     "text": [
      " 30%|\u001b[34m███       \u001b[0m| 3/10 [00:03<00:06,  1.00it/s]\n"
     ]
    },
    {
     "name": "stdout",
     "output_type": "stream",
     "text": [
      "\u001b[36m(launch_and_fit pid=29448)\u001b[0m \tTrain Epoch: 4 \tTrain_loss: 0.2126 | Train_acc: 92.6250 % | Validation_loss: 1.5418 | Validation_acc: 72.3214 %\n"
     ]
    },
    {
     "name": "stderr",
     "output_type": "stream",
     "text": [
      " 40%|\u001b[34m████      \u001b[0m| 4/10 [00:03<00:05,  1.15it/s]\n"
     ]
    },
    {
     "name": "stdout",
     "output_type": "stream",
     "text": [
      "\u001b[36m(launch_and_fit pid=29448)\u001b[0m \tTrain Epoch: 5 \tTrain_loss: 0.2061 | Train_acc: 92.2500 % | Validation_loss: 1.2994 | Validation_acc: 73.6607 %\n"
     ]
    },
    {
     "name": "stderr",
     "output_type": "stream",
     "text": [
      " 50%|\u001b[34m█████     \u001b[0m| 5/10 [00:04<00:03,  1.50it/s]\n"
     ]
    },
    {
     "name": "stdout",
     "output_type": "stream",
     "text": [
      "\u001b[36m(launch_and_fit pid=29448)\u001b[0m \tTrain Epoch: 6 \tTrain_loss: 0.1659 | Train_acc: 94.1250 % | Validation_loss: 1.8989 | Validation_acc: 68.1548 %\n"
     ]
    },
    {
     "name": "stderr",
     "output_type": "stream",
     "text": [
      " 60%|\u001b[34m██████    \u001b[0m| 6/10 [00:04<00:02,  1.55it/s]\n"
     ]
    },
    {
     "name": "stdout",
     "output_type": "stream",
     "text": [
      "\u001b[36m(launch_and_fit pid=29448)\u001b[0m \tTrain Epoch: 7 \tTrain_loss: 0.4399 | Train_acc: 85.6000 % | Validation_loss: 1.6949 | Validation_acc: 72.3214 %\n"
     ]
    },
    {
     "name": "stderr",
     "output_type": "stream",
     "text": [
      " 70%|\u001b[34m███████   \u001b[0m| 7/10 [00:05<00:01,  1.68it/s]\n"
     ]
    },
    {
     "name": "stdout",
     "output_type": "stream",
     "text": [
      "\u001b[36m(launch_and_fit pid=29448)\u001b[0m \tTrain Epoch: 8 \tTrain_loss: 0.3576 | Train_acc: 89.1000 % | Validation_loss: 1.8354 | Validation_acc: 72.3214 %\n"
     ]
    },
    {
     "name": "stderr",
     "output_type": "stream",
     "text": [
      " 80%|\u001b[34m████████  \u001b[0m| 8/10 [00:05<00:01,  2.00it/s]\n"
     ]
    },
    {
     "name": "stdout",
     "output_type": "stream",
     "text": [
      "\u001b[36m(launch_and_fit pid=29448)\u001b[0m \tTrain Epoch: 9 \tTrain_loss: 0.4512 | Train_acc: 85.2500 % | Validation_loss: 1.7008 | Validation_acc: 73.3631 %\n"
     ]
    },
    {
     "name": "stderr",
     "output_type": "stream",
     "text": [
      " 90%|\u001b[34m█████████ \u001b[0m| 9/10 [00:05<00:00,  2.12it/s]\n"
     ]
    },
    {
     "name": "stdout",
     "output_type": "stream",
     "text": [
      "\u001b[36m(launch_and_fit pid=29448)\u001b[0m \tTrain Epoch: 10 \tTrain_loss: 0.2429 | Train_acc: 92.7500 % | Validation_loss: 1.8362 | Validation_acc: 70.2381 %\n",
      "\u001b[36m(launch_and_fit pid=29448)\u001b[0m save graph in  results/FL/\n"
     ]
    },
    {
     "name": "stderr",
     "output_type": "stream",
     "text": [
      "100%|\u001b[34m██████████\u001b[0m| 10/10 [00:06<00:00,  1.64it/s]\n",
      "DEBUG flwr 2024-08-30 01:25:14,195 | server.py:236 | fit_round 32 received 4 results and 0 failures\n"
     ]
    },
    {
     "name": "stdout",
     "output_type": "stream",
     "text": [
      "Saving round 32 aggregated_parameters...\n"
     ]
    },
    {
     "name": "stderr",
     "output_type": "stream",
     "text": [
      "INFO flwr 2024-08-30 01:25:14,706 | server.py:125 | fit progress: (32, 2.5505269343202763, {'accuracy': 68.4090909090909}, 523.9780356250703)\n",
      "DEBUG flwr 2024-08-30 01:25:14,772 | server.py:173 | evaluate_round 32: strategy sampled 4 clients (out of 4)\n"
     ]
    },
    {
     "name": "stdout",
     "output_type": "stream",
     "text": [
      "Updated model\n",
      "Server-side evaluation loss 2.5505269343202763 / accuracy 68.4090909090909\n",
      "\u001b[36m(launch_and_evaluate pid=29448)\u001b[0m Run WITHOUT homomorphic encryption\n",
      "\u001b[36m(launch_and_evaluate pid=29448)\u001b[0m  To get the checkpoint\n",
      "\u001b[36m(launch_and_evaluate pid=29448)\u001b[0m [Client 3] evaluate, config: {}\n",
      "\u001b[36m(launch_and_evaluate pid=29448)\u001b[0m Updated model\n",
      "\u001b[36m(launch_and_evaluate pid=29448)\u001b[0m Run WITHOUT homomorphic encryption\n",
      "\u001b[36m(launch_and_evaluate pid=29448)\u001b[0m  To get the checkpoint\n",
      "\u001b[36m(launch_and_evaluate pid=29448)\u001b[0m [Client 1] evaluate, config: {}\n",
      "\u001b[36m(launch_and_evaluate pid=29448)\u001b[0m Updated model\n",
      "\u001b[36m(launch_and_evaluate pid=29448)\u001b[0m Run WITHOUT homomorphic encryption\n",
      "\u001b[36m(launch_and_evaluate pid=29448)\u001b[0m  To get the checkpoint\n",
      "\u001b[36m(launch_and_evaluate pid=29448)\u001b[0m [Client 0] evaluate, config: {}\n",
      "\u001b[36m(launch_and_evaluate pid=29448)\u001b[0m Updated model\n",
      "\u001b[36m(launch_and_evaluate pid=29448)\u001b[0m Run WITHOUT homomorphic encryption\n",
      "\u001b[36m(launch_and_evaluate pid=29448)\u001b[0m  To get the checkpoint\n",
      "\u001b[36m(launch_and_evaluate pid=29448)\u001b[0m [Client 2] evaluate, config: {}\n",
      "\u001b[36m(launch_and_evaluate pid=29448)\u001b[0m Updated model\n"
     ]
    },
    {
     "name": "stderr",
     "output_type": "stream",
     "text": [
      "DEBUG flwr 2024-08-30 01:25:23,008 | server.py:187 | evaluate_round 32 received 4 results and 0 failures\n",
      "DEBUG flwr 2024-08-30 01:25:23,009 | server.py:222 | fit_round 33: strategy sampled 4 clients (out of 4)\n"
     ]
    },
    {
     "name": "stdout",
     "output_type": "stream",
     "text": [
      "\u001b[36m(launch_and_fit pid=29448)\u001b[0m Run WITHOUT homomorphic encryption\n",
      "\u001b[36m(launch_and_fit pid=29448)\u001b[0m  To get the checkpoint\n",
      "\u001b[36m(launch_and_fit pid=29448)\u001b[0m [Client 3, round 33] fit, config: {'learning_rate': 0.003, 'batch_size': '16', 'server_round': 33, 'local_epochs': 10}\n",
      "\u001b[36m(launch_and_fit pid=29448)\u001b[0m Updated model\n"
     ]
    },
    {
     "name": "stderr",
     "output_type": "stream",
     "text": [
      "  0%|\u001b[34m          \u001b[0m| 0/10 [00:00<?, ?it/s]\n"
     ]
    },
    {
     "name": "stdout",
     "output_type": "stream",
     "text": [
      "\u001b[36m(launch_and_fit pid=29448)\u001b[0m \tTrain Epoch: 1 \tTrain_loss: 0.5413 | Train_acc: 83.1000 % | Validation_loss: 2.1647 | Validation_acc: 65.4762 %\n"
     ]
    },
    {
     "name": "stderr",
     "output_type": "stream",
     "text": [
      " 10%|\u001b[34m█         \u001b[0m| 1/10 [00:01<00:09,  1.02s/it]\n"
     ]
    },
    {
     "name": "stdout",
     "output_type": "stream",
     "text": [
      "\u001b[36m(launch_and_fit pid=29448)\u001b[0m \tTrain Epoch: 2 \tTrain_loss: 0.5511 | Train_acc: 83.9750 % | Validation_loss: 1.9661 | Validation_acc: 52.9762 %\n"
     ]
    },
    {
     "name": "stderr",
     "output_type": "stream",
     "text": [
      " 20%|\u001b[34m██        \u001b[0m| 2/10 [00:01<00:06,  1.22it/s]\n"
     ]
    },
    {
     "name": "stdout",
     "output_type": "stream",
     "text": [
      "\u001b[36m(launch_and_fit pid=29448)\u001b[0m \tTrain Epoch: 3 \tTrain_loss: 0.4903 | Train_acc: 82.8500 % | Validation_loss: 2.2764 | Validation_acc: 60.5655 %\n"
     ]
    },
    {
     "name": "stderr",
     "output_type": "stream",
     "text": [
      " 30%|\u001b[34m███       \u001b[0m| 3/10 [00:02<00:06,  1.05it/s]\n"
     ]
    },
    {
     "name": "stdout",
     "output_type": "stream",
     "text": [
      "\u001b[36m(launch_and_fit pid=29448)\u001b[0m \tTrain Epoch: 4 \tTrain_loss: 0.2445 | Train_acc: 90.6000 % | Validation_loss: 1.8817 | Validation_acc: 65.7738 %\n"
     ]
    },
    {
     "name": "stderr",
     "output_type": "stream",
     "text": [
      " 40%|\u001b[34m████      \u001b[0m| 4/10 [00:03<00:05,  1.13it/s]\n"
     ]
    },
    {
     "name": "stdout",
     "output_type": "stream",
     "text": [
      "\u001b[36m(launch_and_fit pid=29448)\u001b[0m \tTrain Epoch: 5 \tTrain_loss: 0.1459 | Train_acc: 95.2500 % | Validation_loss: 2.1678 | Validation_acc: 63.6905 %\n"
     ]
    },
    {
     "name": "stderr",
     "output_type": "stream",
     "text": [
      " 50%|\u001b[34m█████     \u001b[0m| 5/10 [00:04<00:04,  1.07it/s]\n"
     ]
    },
    {
     "name": "stdout",
     "output_type": "stream",
     "text": [
      "\u001b[36m(launch_and_fit pid=29448)\u001b[0m \tTrain Epoch: 6 \tTrain_loss: 0.1243 | Train_acc: 95.9750 % | Validation_loss: 2.2274 | Validation_acc: 64.7321 %\n"
     ]
    },
    {
     "name": "stderr",
     "output_type": "stream",
     "text": [
      " 60%|\u001b[34m██████    \u001b[0m| 6/10 [00:05<00:03,  1.04it/s]\n"
     ]
    },
    {
     "name": "stdout",
     "output_type": "stream",
     "text": [
      "\u001b[36m(launch_and_fit pid=29448)\u001b[0m \tTrain Epoch: 7 \tTrain_loss: 0.1003 | Train_acc: 96.8750 % | Validation_loss: 2.5559 | Validation_acc: 63.6905 %\n"
     ]
    },
    {
     "name": "stderr",
     "output_type": "stream",
     "text": [
      " 70%|\u001b[34m███████   \u001b[0m| 7/10 [00:06<00:02,  1.23it/s]\n"
     ]
    },
    {
     "name": "stdout",
     "output_type": "stream",
     "text": [
      "\u001b[36m(launch_and_fit pid=29448)\u001b[0m \tTrain Epoch: 8 \tTrain_loss: 0.0838 | Train_acc: 97.6250 % | Validation_loss: 2.5149 | Validation_acc: 60.2679 %\n"
     ]
    },
    {
     "name": "stderr",
     "output_type": "stream",
     "text": [
      " 80%|\u001b[34m████████  \u001b[0m| 8/10 [00:06<00:01,  1.35it/s]\n"
     ]
    },
    {
     "name": "stdout",
     "output_type": "stream",
     "text": [
      "\u001b[36m(launch_and_fit pid=29448)\u001b[0m \tTrain Epoch: 9 \tTrain_loss: 0.0711 | Train_acc: 98.1250 % | Validation_loss: 3.0728 | Validation_acc: 61.3095 %\n"
     ]
    },
    {
     "name": "stderr",
     "output_type": "stream",
     "text": [
      " 90%|\u001b[34m█████████ \u001b[0m| 9/10 [00:07<00:00,  1.51it/s]\n"
     ]
    },
    {
     "name": "stdout",
     "output_type": "stream",
     "text": [
      "\u001b[36m(launch_and_fit pid=29448)\u001b[0m \tTrain Epoch: 10 \tTrain_loss: 0.1156 | Train_acc: 95.7250 % | Validation_loss: 3.0805 | Validation_acc: 54.7619 %\n",
      "\u001b[36m(launch_and_fit pid=29448)\u001b[0m save graph in  results/FL/\n"
     ]
    },
    {
     "name": "stderr",
     "output_type": "stream",
     "text": [
      "100%|\u001b[34m██████████\u001b[0m| 10/10 [00:07<00:00,  1.33it/s]\n"
     ]
    },
    {
     "name": "stdout",
     "output_type": "stream",
     "text": [
      "\u001b[36m(launch_and_fit pid=29448)\u001b[0m Run WITHOUT homomorphic encryption\n",
      "\u001b[36m(launch_and_fit pid=29448)\u001b[0m  To get the checkpoint\n",
      "\u001b[36m(launch_and_fit pid=29448)\u001b[0m [Client 1, round 33] fit, config: {'learning_rate': 0.003, 'batch_size': '16', 'server_round': 33, 'local_epochs': 10}\n",
      "\u001b[36m(launch_and_fit pid=29448)\u001b[0m Updated model\n"
     ]
    },
    {
     "name": "stderr",
     "output_type": "stream",
     "text": [
      "  0%|\u001b[34m          \u001b[0m| 0/10 [00:00<?, ?it/s]\n"
     ]
    },
    {
     "name": "stdout",
     "output_type": "stream",
     "text": [
      "\u001b[36m(launch_and_fit pid=29448)\u001b[0m \tTrain Epoch: 1 \tTrain_loss: 0.6384 | Train_acc: 79.3500 % | Validation_loss: 2.0826 | Validation_acc: 64.4345 %\n"
     ]
    },
    {
     "name": "stderr",
     "output_type": "stream",
     "text": [
      " 10%|\u001b[34m█         \u001b[0m| 1/10 [00:01<00:09,  1.01s/it]\n"
     ]
    },
    {
     "name": "stdout",
     "output_type": "stream",
     "text": [
      "\u001b[36m(launch_and_fit pid=29448)\u001b[0m \tTrain Epoch: 2 \tTrain_loss: 0.3122 | Train_acc: 90.2500 % | Validation_loss: 2.2694 | Validation_acc: 63.3929 %\n"
     ]
    },
    {
     "name": "stderr",
     "output_type": "stream",
     "text": [
      " 20%|\u001b[34m██        \u001b[0m| 2/10 [00:01<00:06,  1.28it/s]\n"
     ]
    },
    {
     "name": "stdout",
     "output_type": "stream",
     "text": [
      "\u001b[36m(launch_and_fit pid=29448)\u001b[0m \tTrain Epoch: 3 \tTrain_loss: 0.2417 | Train_acc: 92.1250 % | Validation_loss: 2.8997 | Validation_acc: 59.5238 %\n"
     ]
    },
    {
     "name": "stderr",
     "output_type": "stream",
     "text": [
      " 30%|\u001b[34m███       \u001b[0m| 3/10 [00:02<00:05,  1.36it/s]\n"
     ]
    },
    {
     "name": "stdout",
     "output_type": "stream",
     "text": [
      "\u001b[36m(launch_and_fit pid=29448)\u001b[0m \tTrain Epoch: 4 \tTrain_loss: 0.2024 | Train_acc: 92.9750 % | Validation_loss: 3.1069 | Validation_acc: 60.5655 %\n"
     ]
    },
    {
     "name": "stderr",
     "output_type": "stream",
     "text": [
      " 40%|\u001b[34m████      \u001b[0m| 4/10 [00:02<00:03,  1.55it/s]\n"
     ]
    },
    {
     "name": "stdout",
     "output_type": "stream",
     "text": [
      "\u001b[36m(launch_and_fit pid=29448)\u001b[0m \tTrain Epoch: 5 \tTrain_loss: 0.1745 | Train_acc: 94.1250 % | Validation_loss: 3.4892 | Validation_acc: 62.6488 %\n"
     ]
    },
    {
     "name": "stderr",
     "output_type": "stream",
     "text": [
      " 50%|\u001b[34m█████     \u001b[0m| 5/10 [00:03<00:02,  1.82it/s]\n"
     ]
    },
    {
     "name": "stdout",
     "output_type": "stream",
     "text": [
      "\u001b[36m(launch_and_fit pid=29448)\u001b[0m \tTrain Epoch: 6 \tTrain_loss: 0.1949 | Train_acc: 94.0000 % | Validation_loss: 3.0568 | Validation_acc: 63.6905 %\n"
     ]
    },
    {
     "name": "stderr",
     "output_type": "stream",
     "text": [
      " 60%|\u001b[34m██████    \u001b[0m| 6/10 [00:03<00:01,  2.15it/s]\n"
     ]
    },
    {
     "name": "stdout",
     "output_type": "stream",
     "text": [
      "\u001b[36m(launch_and_fit pid=29448)\u001b[0m \tTrain Epoch: 7 \tTrain_loss: 0.2382 | Train_acc: 92.6000 % | Validation_loss: 3.0125 | Validation_acc: 59.5238 %\n"
     ]
    },
    {
     "name": "stderr",
     "output_type": "stream",
     "text": [
      " 70%|\u001b[34m███████   \u001b[0m| 7/10 [00:03<00:01,  2.55it/s]\n"
     ]
    },
    {
     "name": "stdout",
     "output_type": "stream",
     "text": [
      "\u001b[36m(launch_and_fit pid=29448)\u001b[0m \tTrain Epoch: 8 \tTrain_loss: 0.4747 | Train_acc: 85.8750 % | Validation_loss: 2.6368 | Validation_acc: 62.6488 %\n"
     ]
    },
    {
     "name": "stderr",
     "output_type": "stream",
     "text": [
      " 80%|\u001b[34m████████  \u001b[0m| 8/10 [00:04<00:00,  2.59it/s]\n"
     ]
    },
    {
     "name": "stdout",
     "output_type": "stream",
     "text": [
      "\u001b[36m(launch_and_fit pid=29448)\u001b[0m \tTrain Epoch: 9 \tTrain_loss: 0.3354 | Train_acc: 88.8500 % | Validation_loss: 2.6647 | Validation_acc: 66.8155 %\n"
     ]
    },
    {
     "name": "stderr",
     "output_type": "stream",
     "text": [
      " 90%|\u001b[34m█████████ \u001b[0m| 9/10 [00:04<00:00,  2.59it/s]\n"
     ]
    },
    {
     "name": "stdout",
     "output_type": "stream",
     "text": [
      "\u001b[36m(launch_and_fit pid=29448)\u001b[0m \tTrain Epoch: 10 \tTrain_loss: 0.2117 | Train_acc: 92.5000 % | Validation_loss: 2.5728 | Validation_acc: 65.7738 %\n",
      "\u001b[36m(launch_and_fit pid=29448)\u001b[0m save graph in  results/FL/\n"
     ]
    },
    {
     "name": "stderr",
     "output_type": "stream",
     "text": [
      "100%|\u001b[34m██████████\u001b[0m| 10/10 [00:04<00:00,  2.08it/s]\n"
     ]
    },
    {
     "name": "stdout",
     "output_type": "stream",
     "text": [
      "\u001b[36m(launch_and_fit pid=29448)\u001b[0m Run WITHOUT homomorphic encryption\n",
      "\u001b[36m(launch_and_fit pid=29448)\u001b[0m  To get the checkpoint\n",
      "\u001b[36m(launch_and_fit pid=29448)\u001b[0m [Client 0, round 33] fit, config: {'learning_rate': 0.003, 'batch_size': '16', 'server_round': 33, 'local_epochs': 10}\n",
      "\u001b[36m(launch_and_fit pid=29448)\u001b[0m Updated model\n"
     ]
    },
    {
     "name": "stderr",
     "output_type": "stream",
     "text": [
      "  0%|\u001b[34m          \u001b[0m| 0/10 [00:00<?, ?it/s]\n"
     ]
    },
    {
     "name": "stdout",
     "output_type": "stream",
     "text": [
      "\u001b[36m(launch_and_fit pid=29448)\u001b[0m \tTrain Epoch: 1 \tTrain_loss: 0.6108 | Train_acc: 82.2250 % | Validation_loss: 3.2618 | Validation_acc: 61.9048 %\n"
     ]
    },
    {
     "name": "stderr",
     "output_type": "stream",
     "text": [
      " 10%|\u001b[34m█         \u001b[0m| 1/10 [00:00<00:08,  1.02it/s]\n"
     ]
    },
    {
     "name": "stdout",
     "output_type": "stream",
     "text": [
      "\u001b[36m(launch_and_fit pid=29448)\u001b[0m \tTrain Epoch: 2 \tTrain_loss: 0.2876 | Train_acc: 90.3750 % | Validation_loss: 3.1773 | Validation_acc: 60.1190 %\n"
     ]
    },
    {
     "name": "stderr",
     "output_type": "stream",
     "text": [
      " 20%|\u001b[34m██        \u001b[0m| 2/10 [00:01<00:07,  1.07it/s]\n"
     ]
    },
    {
     "name": "stdout",
     "output_type": "stream",
     "text": [
      "\u001b[36m(launch_and_fit pid=29448)\u001b[0m \tTrain Epoch: 3 \tTrain_loss: 0.2294 | Train_acc: 92.3750 % | Validation_loss: 3.7778 | Validation_acc: 57.4405 %\n"
     ]
    },
    {
     "name": "stderr",
     "output_type": "stream",
     "text": [
      " 30%|\u001b[34m███       \u001b[0m| 3/10 [00:02<00:04,  1.53it/s]\n"
     ]
    },
    {
     "name": "stdout",
     "output_type": "stream",
     "text": [
      "\u001b[36m(launch_and_fit pid=29448)\u001b[0m \tTrain Epoch: 4 \tTrain_loss: 0.2114 | Train_acc: 93.6250 % | Validation_loss: 2.8561 | Validation_acc: 58.7798 %\n"
     ]
    },
    {
     "name": "stderr",
     "output_type": "stream",
     "text": [
      " 40%|\u001b[34m████      \u001b[0m| 4/10 [00:02<00:03,  1.94it/s]\n"
     ]
    },
    {
     "name": "stdout",
     "output_type": "stream",
     "text": [
      "\u001b[36m(launch_and_fit pid=29448)\u001b[0m \tTrain Epoch: 5 \tTrain_loss: 0.1754 | Train_acc: 94.8750 % | Validation_loss: 3.4126 | Validation_acc: 57.7381 %\n"
     ]
    },
    {
     "name": "stderr",
     "output_type": "stream",
     "text": [
      " 50%|\u001b[34m█████     \u001b[0m| 5/10 [00:02<00:02,  2.29it/s]\n"
     ]
    },
    {
     "name": "stdout",
     "output_type": "stream",
     "text": [
      "\u001b[36m(launch_and_fit pid=29448)\u001b[0m \tTrain Epoch: 6 \tTrain_loss: 0.3569 | Train_acc: 87.9750 % | Validation_loss: 2.9020 | Validation_acc: 54.6131 %\n",
      "\u001b[36m(launch_and_fit pid=29448)\u001b[0m \tTrain Epoch: 7 \tTrain_loss: 0.4095 | Train_acc: 85.9750 % | Validation_loss: 3.1415 | Validation_acc: 53.5714 %\n"
     ]
    },
    {
     "name": "stderr",
     "output_type": "stream",
     "text": [
      " 60%|\u001b[34m██████    \u001b[0m| 6/10 [00:03<00:01,  2.19it/s]\n",
      " 70%|\u001b[34m███████   \u001b[0m| 7/10 [00:03<00:01,  2.77it/s]\n"
     ]
    },
    {
     "name": "stdout",
     "output_type": "stream",
     "text": [
      "\u001b[36m(launch_and_fit pid=29448)\u001b[0m \tTrain Epoch: 8 \tTrain_loss: 0.2580 | Train_acc: 92.6250 % | Validation_loss: 3.5548 | Validation_acc: 56.6964 %\n",
      "\u001b[36m(launch_and_fit pid=29448)\u001b[0m \tTrain Epoch: 9 \tTrain_loss: 0.1746 | Train_acc: 94.4750 % | Validation_loss: 3.4853 | Validation_acc: 53.5714 %\n"
     ]
    },
    {
     "name": "stderr",
     "output_type": "stream",
     "text": [
      " 90%|\u001b[34m█████████ \u001b[0m| 9/10 [00:03<00:00,  4.41it/s]\n",
      "100%|\u001b[34m██████████\u001b[0m| 10/10 [00:03<00:00,  2.68it/s]\n"
     ]
    },
    {
     "name": "stdout",
     "output_type": "stream",
     "text": [
      "\u001b[36m(launch_and_fit pid=29448)\u001b[0m \tTrain Epoch: 10 \tTrain_loss: 0.1430 | Train_acc: 96.1250 % | Validation_loss: 3.7790 | Validation_acc: 61.9048 %\n",
      "\u001b[36m(launch_and_fit pid=29448)\u001b[0m save graph in  results/FL/\n",
      "\u001b[36m(launch_and_fit pid=29448)\u001b[0m Run WITHOUT homomorphic encryption\n",
      "\u001b[36m(launch_and_fit pid=29448)\u001b[0m  To get the checkpoint\n",
      "\u001b[36m(launch_and_fit pid=29448)\u001b[0m [Client 2, round 33] fit, config: {'learning_rate': 0.003, 'batch_size': '16', 'server_round': 33, 'local_epochs': 10}\n",
      "\u001b[36m(launch_and_fit pid=29448)\u001b[0m Updated model\n",
      "\u001b[36m(launch_and_fit pid=29448)\u001b[0m \tTrain Epoch: 1 \tTrain_loss: 0.6608 | Train_acc: 80.7250 % | Validation_loss: 1.6403 | Validation_acc: 76.4881 %\n"
     ]
    },
    {
     "name": "stderr",
     "output_type": "stream",
     "text": [
      "  0%|\u001b[34m          \u001b[0m| 0/10 [00:00<?, ?it/s]\n"
     ]
    },
    {
     "name": "stdout",
     "output_type": "stream",
     "text": [
      "\u001b[36m(launch_and_fit pid=29448)\u001b[0m \tTrain Epoch: 2 \tTrain_loss: 0.2617 | Train_acc: 90.9750 % | Validation_loss: 1.8606 | Validation_acc: 69.1964 %\n",
      "\u001b[36m(launch_and_fit pid=29448)\u001b[0m \tTrain Epoch: 3 \tTrain_loss: 0.1742 | Train_acc: 95.1250 % | Validation_loss: 1.7319 | Validation_acc: 74.4048 %\n"
     ]
    },
    {
     "name": "stderr",
     "output_type": "stream",
     "text": [
      " 20%|\u001b[34m██        \u001b[0m| 2/10 [00:00<00:00, 11.57it/s]\n"
     ]
    },
    {
     "name": "stdout",
     "output_type": "stream",
     "text": [
      "\u001b[36m(launch_and_fit pid=29448)\u001b[0m \tTrain Epoch: 4 \tTrain_loss: 0.4663 | Train_acc: 88.3750 % | Validation_loss: 2.0922 | Validation_acc: 65.7738 %\n",
      "\u001b[36m(launch_and_fit pid=29448)\u001b[0m \tTrain Epoch: 5 \tTrain_loss: 0.5767 | Train_acc: 82.3750 % | Validation_loss: 1.9857 | Validation_acc: 68.8988 %\n",
      "\u001b[36m(launch_and_fit pid=29448)\u001b[0m \tTrain Epoch: 6 \tTrain_loss: 0.2758 | Train_acc: 92.0000 % | Validation_loss: 1.6450 | Validation_acc: 71.2798 %\n"
     ]
    },
    {
     "name": "stderr",
     "output_type": "stream",
     "text": [
      " 40%|\u001b[34m████      \u001b[0m| 4/10 [00:00<00:00, 12.04it/s]\n",
      " 60%|\u001b[34m██████    \u001b[0m| 6/10 [00:00<00:00, 12.22it/s]\n"
     ]
    },
    {
     "name": "stdout",
     "output_type": "stream",
     "text": [
      "\u001b[36m(launch_and_fit pid=29448)\u001b[0m \tTrain Epoch: 7 \tTrain_loss: 0.1878 | Train_acc: 93.5000 % | Validation_loss: 1.9522 | Validation_acc: 74.4048 %\n",
      "\u001b[36m(launch_and_fit pid=29448)\u001b[0m \tTrain Epoch: 8 \tTrain_loss: 0.1195 | Train_acc: 96.6250 % | Validation_loss: 2.0596 | Validation_acc: 71.2798 %\n"
     ]
    },
    {
     "name": "stderr",
     "output_type": "stream",
     "text": [
      " 80%|\u001b[34m████████  \u001b[0m| 8/10 [00:00<00:00, 11.71it/s]\n",
      "100%|\u001b[34m██████████\u001b[0m| 10/10 [00:00<00:00, 11.89it/s]\n",
      "DEBUG flwr 2024-08-30 01:25:44,731 | server.py:236 | fit_round 33 received 4 results and 0 failures\n"
     ]
    },
    {
     "name": "stdout",
     "output_type": "stream",
     "text": [
      "\u001b[36m(launch_and_fit pid=29448)\u001b[0m \tTrain Epoch: 9 \tTrain_loss: 0.0845 | Train_acc: 98.6250 % | Validation_loss: 2.0360 | Validation_acc: 73.3631 %\n",
      "\u001b[36m(launch_and_fit pid=29448)\u001b[0m \tTrain Epoch: 10 \tTrain_loss: 0.0756 | Train_acc: 98.0000 % | Validation_loss: 2.2031 | Validation_acc: 73.3631 %\n",
      "\u001b[36m(launch_and_fit pid=29448)\u001b[0m save graph in  results/FL/\n"
     ]
    },
    {
     "name": "stderr",
     "output_type": "stream",
     "text": [
      "INFO flwr 2024-08-30 01:25:44,861 | server.py:125 | fit progress: (33, 2.600107548453591, {'accuracy': 70.64393939393939}, 554.1331462091766)\n",
      "DEBUG flwr 2024-08-30 01:25:44,861 | server.py:173 | evaluate_round 33: strategy sampled 4 clients (out of 4)\n"
     ]
    },
    {
     "name": "stdout",
     "output_type": "stream",
     "text": [
      "Saving round 33 aggregated_parameters...\n",
      "Updated model\n",
      "Server-side evaluation loss 2.600107548453591 / accuracy 70.64393939393939\n",
      "\u001b[36m(launch_and_evaluate pid=29448)\u001b[0m Run WITHOUT homomorphic encryption\n",
      "\u001b[36m(launch_and_evaluate pid=29448)\u001b[0m  To get the checkpoint\n",
      "\u001b[36m(launch_and_evaluate pid=29448)\u001b[0m [Client 1] evaluate, config: {}\n",
      "\u001b[36m(launch_and_evaluate pid=29448)\u001b[0m Updated model\n",
      "\u001b[36m(launch_and_evaluate pid=29448)\u001b[0m Run WITHOUT homomorphic encryption\n",
      "\u001b[36m(launch_and_evaluate pid=29448)\u001b[0m  To get the checkpoint\n",
      "\u001b[36m(launch_and_evaluate pid=29448)\u001b[0m [Client 2] evaluate, config: {}\n",
      "\u001b[36m(launch_and_evaluate pid=29448)\u001b[0m Updated model\n",
      "\u001b[36m(launch_and_evaluate pid=29448)\u001b[0m Run WITHOUT homomorphic encryption\n",
      "\u001b[36m(launch_and_evaluate pid=29448)\u001b[0m  To get the checkpoint\n",
      "\u001b[36m(launch_and_evaluate pid=29448)\u001b[0m [Client 0] evaluate, config: {}\n",
      "\u001b[36m(launch_and_evaluate pid=29448)\u001b[0m Updated model\n",
      "\u001b[36m(launch_and_evaluate pid=29448)\u001b[0m Run WITHOUT homomorphic encryption\n",
      "\u001b[36m(launch_and_evaluate pid=29448)\u001b[0m  To get the checkpoint\n",
      "\u001b[36m(launch_and_evaluate pid=29448)\u001b[0m [Client 3] evaluate, config: {}\n",
      "\u001b[36m(launch_and_evaluate pid=29448)\u001b[0m Updated model\n"
     ]
    },
    {
     "name": "stderr",
     "output_type": "stream",
     "text": [
      "DEBUG flwr 2024-08-30 01:25:47,130 | server.py:187 | evaluate_round 33 received 4 results and 0 failures\n",
      "DEBUG flwr 2024-08-30 01:25:47,131 | server.py:222 | fit_round 34: strategy sampled 4 clients (out of 4)\n"
     ]
    },
    {
     "name": "stdout",
     "output_type": "stream",
     "text": [
      "\u001b[36m(launch_and_fit pid=29448)\u001b[0m Run WITHOUT homomorphic encryption\n",
      "\u001b[36m(launch_and_fit pid=29448)\u001b[0m  To get the checkpoint\n",
      "\u001b[36m(launch_and_fit pid=29448)\u001b[0m [Client 0, round 34] fit, config: {'learning_rate': 0.003, 'batch_size': '16', 'server_round': 34, 'local_epochs': 10}\n",
      "\u001b[36m(launch_and_fit pid=29448)\u001b[0m Updated model\n",
      "\u001b[36m(launch_and_fit pid=29448)\u001b[0m \tTrain Epoch: 1 \tTrain_loss: 0.4649 | Train_acc: 85.7250 % | Validation_loss: 2.5165 | Validation_acc: 61.9048 %\n"
     ]
    },
    {
     "name": "stderr",
     "output_type": "stream",
     "text": [
      "  0%|\u001b[34m          \u001b[0m| 0/10 [00:00<?, ?it/s]\n"
     ]
    },
    {
     "name": "stdout",
     "output_type": "stream",
     "text": [
      "\u001b[36m(launch_and_fit pid=29448)\u001b[0m \tTrain Epoch: 2 \tTrain_loss: 0.2271 | Train_acc: 92.8750 % | Validation_loss: 2.8972 | Validation_acc: 62.9464 %\n",
      "\u001b[36m(launch_and_fit pid=29448)\u001b[0m \tTrain Epoch: 3 \tTrain_loss: 0.1884 | Train_acc: 94.1250 % | Validation_loss: 3.1557 | Validation_acc: 57.7381 %\n",
      "\u001b[36m(launch_and_fit pid=29448)\u001b[0m \tTrain Epoch: 4 \tTrain_loss: 0.2854 | Train_acc: 91.1250 % | Validation_loss: 4.5112 | Validation_acc: 58.7798 %\n"
     ]
    },
    {
     "name": "stderr",
     "output_type": "stream",
     "text": [
      " 20%|\u001b[34m██        \u001b[0m| 2/10 [00:00<00:00, 10.58it/s]\n",
      " 40%|\u001b[34m████      \u001b[0m| 4/10 [00:00<00:00, 11.08it/s]\n"
     ]
    },
    {
     "name": "stdout",
     "output_type": "stream",
     "text": [
      "\u001b[36m(launch_and_fit pid=29448)\u001b[0m \tTrain Epoch: 5 \tTrain_loss: 0.2544 | Train_acc: 91.7250 % | Validation_loss: 3.2001 | Validation_acc: 64.2857 %\n",
      "\u001b[36m(launch_and_fit pid=29448)\u001b[0m \tTrain Epoch: 6 \tTrain_loss: 0.2989 | Train_acc: 89.0000 % | Validation_loss: 3.9591 | Validation_acc: 59.0774 %\n"
     ]
    },
    {
     "name": "stderr",
     "output_type": "stream",
     "text": [
      " 60%|\u001b[34m██████    \u001b[0m| 6/10 [00:00<00:00, 11.27it/s]\n"
     ]
    },
    {
     "name": "stdout",
     "output_type": "stream",
     "text": [
      "\u001b[36m(launch_and_fit pid=29448)\u001b[0m \tTrain Epoch: 7 \tTrain_loss: 0.2881 | Train_acc: 89.8500 % | Validation_loss: 3.2282 | Validation_acc: 56.3988 %\n",
      "\u001b[36m(launch_and_fit pid=29448)\u001b[0m \tTrain Epoch: 8 \tTrain_loss: 0.2723 | Train_acc: 90.3750 % | Validation_loss: 3.4225 | Validation_acc: 54.6131 %\n",
      "\u001b[36m(launch_and_fit pid=29448)\u001b[0m \tTrain Epoch: 9 \tTrain_loss: 0.1851 | Train_acc: 94.2500 % | Validation_loss: 3.4441 | Validation_acc: 61.9048 %\n"
     ]
    },
    {
     "name": "stderr",
     "output_type": "stream",
     "text": [
      " 80%|\u001b[34m████████  \u001b[0m| 8/10 [00:00<00:00, 11.49it/s]\n",
      "100%|\u001b[34m██████████\u001b[0m| 10/10 [00:00<00:00, 11.46it/s]\n"
     ]
    },
    {
     "name": "stdout",
     "output_type": "stream",
     "text": [
      "\u001b[36m(launch_and_fit pid=29448)\u001b[0m \tTrain Epoch: 10 \tTrain_loss: 0.2012 | Train_acc: 93.6000 % | Validation_loss: 4.3122 | Validation_acc: 66.0714 %\n",
      "\u001b[36m(launch_and_fit pid=29448)\u001b[0m save graph in  results/FL/\n",
      "\u001b[36m(launch_and_fit pid=29448)\u001b[0m Run WITHOUT homomorphic encryption\n",
      "\u001b[36m(launch_and_fit pid=29448)\u001b[0m  To get the checkpoint\n",
      "\u001b[36m(launch_and_fit pid=29448)\u001b[0m [Client 3, round 34] fit, config: {'learning_rate': 0.003, 'batch_size': '16', 'server_round': 34, 'local_epochs': 10}\n",
      "\u001b[36m(launch_and_fit pid=29448)\u001b[0m Updated model\n",
      "\u001b[36m(launch_and_fit pid=29448)\u001b[0m \tTrain Epoch: 1 \tTrain_loss: 0.6876 | Train_acc: 81.7250 % | Validation_loss: 2.2447 | Validation_acc: 62.3512 %\n"
     ]
    },
    {
     "name": "stderr",
     "output_type": "stream",
     "text": [
      "  0%|\u001b[34m          \u001b[0m| 0/10 [00:00<?, ?it/s]\n"
     ]
    },
    {
     "name": "stdout",
     "output_type": "stream",
     "text": [
      "\u001b[36m(launch_and_fit pid=29448)\u001b[0m \tTrain Epoch: 2 \tTrain_loss: 0.3610 | Train_acc: 87.1250 % | Validation_loss: 2.3796 | Validation_acc: 60.2679 %\n",
      "\u001b[36m(launch_and_fit pid=29448)\u001b[0m \tTrain Epoch: 3 \tTrain_loss: 0.2343 | Train_acc: 92.3750 % | Validation_loss: 2.7655 | Validation_acc: 62.3512 %\n",
      "\u001b[36m(launch_and_fit pid=29448)\u001b[0m \tTrain Epoch: 4 \tTrain_loss: 0.1587 | Train_acc: 94.5000 % | Validation_loss: 3.0590 | Validation_acc: 64.7321 %\n"
     ]
    },
    {
     "name": "stderr",
     "output_type": "stream",
     "text": [
      " 20%|\u001b[34m██        \u001b[0m| 2/10 [00:00<00:00, 11.04it/s]\n",
      " 40%|\u001b[34m████      \u001b[0m| 4/10 [00:00<00:00, 11.23it/s]\n"
     ]
    },
    {
     "name": "stdout",
     "output_type": "stream",
     "text": [
      "\u001b[36m(launch_and_fit pid=29448)\u001b[0m \tTrain Epoch: 5 \tTrain_loss: 0.1283 | Train_acc: 96.0000 % | Validation_loss: 2.3314 | Validation_acc: 63.3929 %\n",
      "\u001b[36m(launch_and_fit pid=29448)\u001b[0m \tTrain Epoch: 6 \tTrain_loss: 0.2788 | Train_acc: 92.7250 % | Validation_loss: 3.0463 | Validation_acc: 61.6071 %\n"
     ]
    },
    {
     "name": "stderr",
     "output_type": "stream",
     "text": [
      " 60%|\u001b[34m██████    \u001b[0m| 6/10 [00:00<00:00, 11.59it/s]\n"
     ]
    },
    {
     "name": "stdout",
     "output_type": "stream",
     "text": [
      "\u001b[36m(launch_and_fit pid=29448)\u001b[0m \tTrain Epoch: 7 \tTrain_loss: 0.7312 | Train_acc: 75.9750 % | Validation_loss: 2.3535 | Validation_acc: 63.6905 %\n",
      "\u001b[36m(launch_and_fit pid=29448)\u001b[0m \tTrain Epoch: 8 \tTrain_loss: 0.2376 | Train_acc: 91.8500 % | Validation_loss: 3.5819 | Validation_acc: 60.2679 %\n",
      "\u001b[36m(launch_and_fit pid=29448)\u001b[0m \tTrain Epoch: 9 \tTrain_loss: 0.2473 | Train_acc: 92.7250 % | Validation_loss: 2.4903 | Validation_acc: 63.6905 %\n"
     ]
    },
    {
     "name": "stderr",
     "output_type": "stream",
     "text": [
      " 80%|\u001b[34m████████  \u001b[0m| 8/10 [00:00<00:00, 11.69it/s]\n",
      "100%|\u001b[34m██████████\u001b[0m| 10/10 [00:00<00:00, 11.61it/s]\n"
     ]
    },
    {
     "name": "stdout",
     "output_type": "stream",
     "text": [
      "\u001b[36m(launch_and_fit pid=29448)\u001b[0m \tTrain Epoch: 10 \tTrain_loss: 0.1864 | Train_acc: 94.0000 % | Validation_loss: 2.5445 | Validation_acc: 63.6905 %\n",
      "\u001b[36m(launch_and_fit pid=29448)\u001b[0m save graph in  results/FL/\n",
      "\u001b[36m(launch_and_fit pid=29448)\u001b[0m Run WITHOUT homomorphic encryption\n",
      "\u001b[36m(launch_and_fit pid=29448)\u001b[0m  To get the checkpoint\n",
      "\u001b[36m(launch_and_fit pid=29448)\u001b[0m [Client 2, round 34] fit, config: {'learning_rate': 0.003, 'batch_size': '16', 'server_round': 34, 'local_epochs': 10}\n",
      "\u001b[36m(launch_and_fit pid=29448)\u001b[0m Updated model\n",
      "\u001b[36m(launch_and_fit pid=29448)\u001b[0m \tTrain Epoch: 1 \tTrain_loss: 0.5747 | Train_acc: 82.8750 % | Validation_loss: 1.5292 | Validation_acc: 70.2381 %\n"
     ]
    },
    {
     "name": "stderr",
     "output_type": "stream",
     "text": [
      "  0%|\u001b[34m          \u001b[0m| 0/10 [00:00<?, ?it/s]\n"
     ]
    },
    {
     "name": "stdout",
     "output_type": "stream",
     "text": [
      "\u001b[36m(launch_and_fit pid=29448)\u001b[0m \tTrain Epoch: 2 \tTrain_loss: 0.2885 | Train_acc: 90.1000 % | Validation_loss: 1.9939 | Validation_acc: 74.4048 %\n",
      "\u001b[36m(launch_and_fit pid=29448)\u001b[0m \tTrain Epoch: 3 \tTrain_loss: 0.2592 | Train_acc: 90.8250 % | Validation_loss: 1.9392 | Validation_acc: 73.3631 %\n",
      "\u001b[36m(launch_and_fit pid=29448)\u001b[0m \tTrain Epoch: 4 \tTrain_loss: 0.2957 | Train_acc: 89.2250 % | Validation_loss: 1.9009 | Validation_acc: 75.7440 %\n"
     ]
    },
    {
     "name": "stderr",
     "output_type": "stream",
     "text": [
      " 20%|\u001b[34m██        \u001b[0m| 2/10 [00:00<00:00, 11.03it/s]\n",
      " 40%|\u001b[34m████      \u001b[0m| 4/10 [00:00<00:00, 11.45it/s]\n"
     ]
    },
    {
     "name": "stdout",
     "output_type": "stream",
     "text": [
      "\u001b[36m(launch_and_fit pid=29448)\u001b[0m \tTrain Epoch: 5 \tTrain_loss: 0.5372 | Train_acc: 82.7250 % | Validation_loss: 1.6938 | Validation_acc: 69.1964 %\n",
      "\u001b[36m(launch_and_fit pid=29448)\u001b[0m \tTrain Epoch: 6 \tTrain_loss: 0.2868 | Train_acc: 90.8500 % | Validation_loss: 1.6899 | Validation_acc: 73.3631 %\n"
     ]
    },
    {
     "name": "stderr",
     "output_type": "stream",
     "text": [
      " 60%|\u001b[34m██████    \u001b[0m| 6/10 [00:00<00:00, 11.56it/s]\n"
     ]
    },
    {
     "name": "stdout",
     "output_type": "stream",
     "text": [
      "\u001b[36m(launch_and_fit pid=29448)\u001b[0m \tTrain Epoch: 7 \tTrain_loss: 0.2345 | Train_acc: 92.0000 % | Validation_loss: 1.7192 | Validation_acc: 76.4881 %\n",
      "\u001b[36m(launch_and_fit pid=29448)\u001b[0m \tTrain Epoch: 8 \tTrain_loss: 0.1266 | Train_acc: 97.0000 % | Validation_loss: 1.8014 | Validation_acc: 74.4048 %\n"
     ]
    },
    {
     "name": "stderr",
     "output_type": "stream",
     "text": [
      " 80%|\u001b[34m████████  \u001b[0m| 8/10 [00:00<00:00, 11.70it/s]\n"
     ]
    },
    {
     "name": "stdout",
     "output_type": "stream",
     "text": [
      "\u001b[36m(launch_and_fit pid=29448)\u001b[0m \tTrain Epoch: 9 \tTrain_loss: 0.0810 | Train_acc: 97.7500 % | Validation_loss: 2.0989 | Validation_acc: 71.2798 %\n",
      "\u001b[36m(launch_and_fit pid=29448)\u001b[0m \tTrain Epoch: 10 \tTrain_loss: 0.0650 | Train_acc: 98.7500 % | Validation_loss: 2.0060 | Validation_acc: 71.2798 %\n",
      "\u001b[36m(launch_and_fit pid=29448)\u001b[0m save graph in  results/FL/\n"
     ]
    },
    {
     "name": "stderr",
     "output_type": "stream",
     "text": [
      "100%|\u001b[34m██████████\u001b[0m| 10/10 [00:00<00:00, 11.45it/s]\n"
     ]
    },
    {
     "name": "stdout",
     "output_type": "stream",
     "text": [
      "\u001b[36m(launch_and_fit pid=29448)\u001b[0m Run WITHOUT homomorphic encryption\n",
      "\u001b[36m(launch_and_fit pid=29448)\u001b[0m  To get the checkpoint\n",
      "\u001b[36m(launch_and_fit pid=29448)\u001b[0m [Client 1, round 34] fit, config: {'learning_rate': 0.003, 'batch_size': '16', 'server_round': 34, 'local_epochs': 10}\n",
      "\u001b[36m(launch_and_fit pid=29448)\u001b[0m Updated model\n",
      "\u001b[36m(launch_and_fit pid=29448)\u001b[0m \tTrain Epoch: 1 \tTrain_loss: 0.6812 | Train_acc: 78.7500 % | Validation_loss: 2.3583 | Validation_acc: 61.6071 %\n"
     ]
    },
    {
     "name": "stderr",
     "output_type": "stream",
     "text": [
      "  0%|\u001b[34m          \u001b[0m| 0/10 [00:00<?, ?it/s]\n"
     ]
    },
    {
     "name": "stdout",
     "output_type": "stream",
     "text": [
      "\u001b[36m(launch_and_fit pid=29448)\u001b[0m \tTrain Epoch: 2 \tTrain_loss: 0.3028 | Train_acc: 89.3750 % | Validation_loss: 2.4792 | Validation_acc: 63.3929 %\n",
      "\u001b[36m(launch_and_fit pid=29448)\u001b[0m \tTrain Epoch: 3 \tTrain_loss: 0.1988 | Train_acc: 93.6250 % | Validation_loss: 2.6236 | Validation_acc: 67.8571 %\n",
      "\u001b[36m(launch_and_fit pid=29448)\u001b[0m \tTrain Epoch: 4 \tTrain_loss: 0.1630 | Train_acc: 94.6250 % | Validation_loss: 2.7797 | Validation_acc: 62.6488 %\n"
     ]
    },
    {
     "name": "stderr",
     "output_type": "stream",
     "text": [
      " 20%|\u001b[34m██        \u001b[0m| 2/10 [00:00<00:00, 12.52it/s]\n",
      " 40%|\u001b[34m████      \u001b[0m| 4/10 [00:00<00:00, 12.83it/s]\n"
     ]
    },
    {
     "name": "stdout",
     "output_type": "stream",
     "text": [
      "\u001b[36m(launch_and_fit pid=29448)\u001b[0m \tTrain Epoch: 5 \tTrain_loss: 0.1607 | Train_acc: 94.6250 % | Validation_loss: 2.9161 | Validation_acc: 64.7321 %\n",
      "\u001b[36m(launch_and_fit pid=29448)\u001b[0m \tTrain Epoch: 6 \tTrain_loss: 0.1758 | Train_acc: 93.5000 % | Validation_loss: 2.7658 | Validation_acc: 67.8571 %\n"
     ]
    },
    {
     "name": "stderr",
     "output_type": "stream",
     "text": [
      " 60%|\u001b[34m██████    \u001b[0m| 6/10 [00:00<00:00, 12.77it/s]\n",
      " 80%|\u001b[34m████████  \u001b[0m| 8/10 [00:00<00:00, 12.61it/s]\n"
     ]
    },
    {
     "name": "stdout",
     "output_type": "stream",
     "text": [
      "\u001b[36m(launch_and_fit pid=29448)\u001b[0m \tTrain Epoch: 7 \tTrain_loss: 0.2197 | Train_acc: 93.1000 % | Validation_loss: 3.6346 | Validation_acc: 62.6488 %\n",
      "\u001b[36m(launch_and_fit pid=29448)\u001b[0m \tTrain Epoch: 8 \tTrain_loss: 0.1762 | Train_acc: 93.8750 % | Validation_loss: 2.8985 | Validation_acc: 67.8571 %\n",
      "\u001b[36m(launch_and_fit pid=29448)\u001b[0m \tTrain Epoch: 9 \tTrain_loss: 0.4086 | Train_acc: 87.3500 % | Validation_loss: 2.5110 | Validation_acc: 61.6071 %\n"
     ]
    },
    {
     "name": "stderr",
     "output_type": "stream",
     "text": [
      "100%|\u001b[34m██████████\u001b[0m| 10/10 [00:00<00:00, 12.47it/s]\n",
      "DEBUG flwr 2024-08-30 01:25:52,138 | server.py:236 | fit_round 34 received 4 results and 0 failures\n"
     ]
    },
    {
     "name": "stdout",
     "output_type": "stream",
     "text": [
      "\u001b[36m(launch_and_fit pid=29448)\u001b[0m \tTrain Epoch: 10 \tTrain_loss: 0.5241 | Train_acc: 83.1750 % | Validation_loss: 3.2951 | Validation_acc: 56.1012 %\n",
      "\u001b[36m(launch_and_fit pid=29448)\u001b[0m save graph in  results/FL/\n",
      "Saving round 34 aggregated_parameters...\n"
     ]
    },
    {
     "name": "stderr",
     "output_type": "stream",
     "text": [
      "INFO flwr 2024-08-30 01:25:52,209 | server.py:125 | fit progress: (34, 2.433700811321085, {'accuracy': 71.25}, 561.4815429490991)\n",
      "DEBUG flwr 2024-08-30 01:25:52,210 | server.py:173 | evaluate_round 34: strategy sampled 4 clients (out of 4)\n"
     ]
    },
    {
     "name": "stdout",
     "output_type": "stream",
     "text": [
      "Updated model\n",
      "Server-side evaluation loss 2.433700811321085 / accuracy 71.25\n",
      "\u001b[36m(launch_and_evaluate pid=29448)\u001b[0m Run WITHOUT homomorphic encryption\n",
      "\u001b[36m(launch_and_evaluate pid=29448)\u001b[0m  To get the checkpoint\n",
      "\u001b[36m(launch_and_evaluate pid=29448)\u001b[0m [Client 2] evaluate, config: {}\n",
      "\u001b[36m(launch_and_evaluate pid=29448)\u001b[0m Updated model\n",
      "\u001b[36m(launch_and_evaluate pid=29448)\u001b[0m Run WITHOUT homomorphic encryption\n",
      "\u001b[36m(launch_and_evaluate pid=29448)\u001b[0m  To get the checkpoint\n",
      "\u001b[36m(launch_and_evaluate pid=29448)\u001b[0m [Client 0] evaluate, config: {}\n",
      "\u001b[36m(launch_and_evaluate pid=29448)\u001b[0m Updated model\n",
      "\u001b[36m(launch_and_evaluate pid=29448)\u001b[0m Run WITHOUT homomorphic encryption\n",
      "\u001b[36m(launch_and_evaluate pid=29448)\u001b[0m  To get the checkpoint\n",
      "\u001b[36m(launch_and_evaluate pid=29448)\u001b[0m [Client 3] evaluate, config: {}\n",
      "\u001b[36m(launch_and_evaluate pid=29448)\u001b[0m Updated model\n",
      "\u001b[36m(launch_and_evaluate pid=29448)\u001b[0m Run WITHOUT homomorphic encryption\n",
      "\u001b[36m(launch_and_evaluate pid=29448)\u001b[0m  To get the checkpoint\n",
      "\u001b[36m(launch_and_evaluate pid=29448)\u001b[0m [Client 1] evaluate, config: {}\n",
      "\u001b[36m(launch_and_evaluate pid=29448)\u001b[0m Updated model\n"
     ]
    },
    {
     "name": "stderr",
     "output_type": "stream",
     "text": [
      "DEBUG flwr 2024-08-30 01:25:55,066 | server.py:187 | evaluate_round 34 received 4 results and 0 failures\n",
      "DEBUG flwr 2024-08-30 01:25:55,067 | server.py:222 | fit_round 35: strategy sampled 4 clients (out of 4)\n"
     ]
    },
    {
     "name": "stdout",
     "output_type": "stream",
     "text": [
      "\u001b[36m(launch_and_fit pid=29448)\u001b[0m Run WITHOUT homomorphic encryption\n",
      "\u001b[36m(launch_and_fit pid=29448)\u001b[0m  To get the checkpoint\n",
      "\u001b[36m(launch_and_fit pid=29448)\u001b[0m [Client 1, round 35] fit, config: {'learning_rate': 0.003, 'batch_size': '16', 'server_round': 35, 'local_epochs': 10}\n",
      "\u001b[36m(launch_and_fit pid=29448)\u001b[0m Updated model\n",
      "\u001b[36m(launch_and_fit pid=29448)\u001b[0m \tTrain Epoch: 1 \tTrain_loss: 0.5434 | Train_acc: 82.3500 % | Validation_loss: 2.4981 | Validation_acc: 60.5655 %\n",
      "\u001b[36m(launch_and_fit pid=29448)\u001b[0m \tTrain Epoch: 2 \tTrain_loss: 0.2630 | Train_acc: 90.2500 % | Validation_loss: 2.7498 | Validation_acc: 63.6905 %\n"
     ]
    },
    {
     "name": "stderr",
     "output_type": "stream",
     "text": [
      "  0%|\u001b[34m          \u001b[0m| 0/10 [00:00<?, ?it/s]\n",
      " 20%|\u001b[34m██        \u001b[0m| 2/10 [00:00<00:00, 10.30it/s]\n"
     ]
    },
    {
     "name": "stdout",
     "output_type": "stream",
     "text": [
      "\u001b[36m(launch_and_fit pid=29448)\u001b[0m \tTrain Epoch: 3 \tTrain_loss: 0.1609 | Train_acc: 95.2500 % | Validation_loss: 3.0557 | Validation_acc: 63.3929 %\n",
      "\u001b[36m(launch_and_fit pid=29448)\u001b[0m \tTrain Epoch: 4 \tTrain_loss: 0.1533 | Train_acc: 96.0000 % | Validation_loss: 2.9026 | Validation_acc: 59.5238 %\n"
     ]
    },
    {
     "name": "stderr",
     "output_type": "stream",
     "text": [
      " 40%|\u001b[34m████      \u001b[0m| 4/10 [00:00<00:00, 10.50it/s]\n"
     ]
    },
    {
     "name": "stdout",
     "output_type": "stream",
     "text": [
      "\u001b[36m(launch_and_fit pid=29448)\u001b[0m \tTrain Epoch: 5 \tTrain_loss: 0.1271 | Train_acc: 96.3750 % | Validation_loss: 3.5346 | Validation_acc: 63.6905 %\n",
      "\u001b[36m(launch_and_fit pid=29448)\u001b[0m \tTrain Epoch: 6 \tTrain_loss: 0.1698 | Train_acc: 93.9500 % | Validation_loss: 3.0897 | Validation_acc: 63.6905 %\n"
     ]
    },
    {
     "name": "stderr",
     "output_type": "stream",
     "text": [
      " 60%|\u001b[34m██████    \u001b[0m| 6/10 [00:00<00:00, 11.10it/s]\n"
     ]
    },
    {
     "name": "stdout",
     "output_type": "stream",
     "text": [
      "\u001b[36m(launch_and_fit pid=29448)\u001b[0m \tTrain Epoch: 7 \tTrain_loss: 0.4262 | Train_acc: 84.5750 % | Validation_loss: 3.3263 | Validation_acc: 61.6071 %\n",
      "\u001b[36m(launch_and_fit pid=29448)\u001b[0m \tTrain Epoch: 8 \tTrain_loss: 0.3336 | Train_acc: 88.3750 % | Validation_loss: 3.1972 | Validation_acc: 66.8155 %\n",
      "\u001b[36m(launch_and_fit pid=29448)\u001b[0m \tTrain Epoch: 9 \tTrain_loss: 0.2254 | Train_acc: 93.1250 % | Validation_loss: 3.3614 | Validation_acc: 62.3512 %\n"
     ]
    },
    {
     "name": "stderr",
     "output_type": "stream",
     "text": [
      " 80%|\u001b[34m████████  \u001b[0m| 8/10 [00:00<00:00, 11.20it/s]\n",
      "100%|\u001b[34m██████████\u001b[0m| 10/10 [00:00<00:00, 11.23it/s]\n"
     ]
    },
    {
     "name": "stdout",
     "output_type": "stream",
     "text": [
      "\u001b[36m(launch_and_fit pid=29448)\u001b[0m \tTrain Epoch: 10 \tTrain_loss: 0.3081 | Train_acc: 90.1000 % | Validation_loss: 5.1006 | Validation_acc: 59.5238 %\n",
      "\u001b[36m(launch_and_fit pid=29448)\u001b[0m save graph in  results/FL/\n",
      "\u001b[36m(launch_and_fit pid=29448)\u001b[0m Run WITHOUT homomorphic encryption\n",
      "\u001b[36m(launch_and_fit pid=29448)\u001b[0m  To get the checkpoint\n",
      "\u001b[36m(launch_and_fit pid=29448)\u001b[0m [Client 0, round 35] fit, config: {'learning_rate': 0.003, 'batch_size': '16', 'server_round': 35, 'local_epochs': 10}\n",
      "\u001b[36m(launch_and_fit pid=29448)\u001b[0m Updated model\n",
      "\u001b[36m(launch_and_fit pid=29448)\u001b[0m \tTrain Epoch: 1 \tTrain_loss: 0.4265 | Train_acc: 86.2250 % | Validation_loss: 3.3057 | Validation_acc: 55.6548 %\n"
     ]
    },
    {
     "name": "stderr",
     "output_type": "stream",
     "text": [
      "  0%|\u001b[34m          \u001b[0m| 0/10 [00:00<?, ?it/s]\n"
     ]
    },
    {
     "name": "stdout",
     "output_type": "stream",
     "text": [
      "\u001b[36m(launch_and_fit pid=29448)\u001b[0m \tTrain Epoch: 2 \tTrain_loss: 0.4494 | Train_acc: 85.9750 % | Validation_loss: 3.3368 | Validation_acc: 65.3274 %\n",
      "\u001b[36m(launch_and_fit pid=29448)\u001b[0m \tTrain Epoch: 3 \tTrain_loss: 0.3933 | Train_acc: 87.2500 % | Validation_loss: 2.7945 | Validation_acc: 58.7798 %\n"
     ]
    },
    {
     "name": "stderr",
     "output_type": "stream",
     "text": [
      " 20%|\u001b[34m██        \u001b[0m| 2/10 [00:00<00:00, 10.98it/s]\n"
     ]
    },
    {
     "name": "stdout",
     "output_type": "stream",
     "text": [
      "\u001b[36m(launch_and_fit pid=29448)\u001b[0m \tTrain Epoch: 4 \tTrain_loss: 0.2488 | Train_acc: 91.3750 % | Validation_loss: 3.1613 | Validation_acc: 60.8631 %\n",
      "\u001b[36m(launch_and_fit pid=29448)\u001b[0m \tTrain Epoch: 5 \tTrain_loss: 0.1196 | Train_acc: 96.6250 % | Validation_loss: 3.4138 | Validation_acc: 64.2857 %\n",
      "\u001b[36m(launch_and_fit pid=29448)\u001b[0m \tTrain Epoch: 6 \tTrain_loss: 0.0908 | Train_acc: 97.7500 % | Validation_loss: 3.3488 | Validation_acc: 61.9048 %\n"
     ]
    },
    {
     "name": "stderr",
     "output_type": "stream",
     "text": [
      " 40%|\u001b[34m████      \u001b[0m| 4/10 [00:00<00:00, 11.05it/s]\n",
      " 60%|\u001b[34m██████    \u001b[0m| 6/10 [00:00<00:00, 11.34it/s]\n"
     ]
    },
    {
     "name": "stdout",
     "output_type": "stream",
     "text": [
      "\u001b[36m(launch_and_fit pid=29448)\u001b[0m \tTrain Epoch: 7 \tTrain_loss: 0.0711 | Train_acc: 98.3750 % | Validation_loss: 3.8991 | Validation_acc: 64.2857 %\n",
      "\u001b[36m(launch_and_fit pid=29448)\u001b[0m \tTrain Epoch: 8 \tTrain_loss: 0.0611 | Train_acc: 98.5000 % | Validation_loss: 3.8625 | Validation_acc: 59.5238 %\n"
     ]
    },
    {
     "name": "stderr",
     "output_type": "stream",
     "text": [
      " 80%|\u001b[34m████████  \u001b[0m| 8/10 [00:00<00:00, 11.20it/s]\n"
     ]
    },
    {
     "name": "stdout",
     "output_type": "stream",
     "text": [
      "\u001b[36m(launch_and_fit pid=29448)\u001b[0m \tTrain Epoch: 9 \tTrain_loss: 0.1412 | Train_acc: 95.1250 % | Validation_loss: 5.0560 | Validation_acc: 56.3988 %\n",
      "\u001b[36m(launch_and_fit pid=29448)\u001b[0m \tTrain Epoch: 10 \tTrain_loss: 0.4692 | Train_acc: 85.7250 % | Validation_loss: 5.3835 | Validation_acc: 44.9405 %\n",
      "\u001b[36m(launch_and_fit pid=29448)\u001b[0m save graph in  results/FL/\n"
     ]
    },
    {
     "name": "stderr",
     "output_type": "stream",
     "text": [
      "100%|\u001b[34m██████████\u001b[0m| 10/10 [00:00<00:00, 11.27it/s]\n"
     ]
    },
    {
     "name": "stdout",
     "output_type": "stream",
     "text": [
      "\u001b[36m(launch_and_fit pid=29448)\u001b[0m Run WITHOUT homomorphic encryption\n",
      "\u001b[36m(launch_and_fit pid=29448)\u001b[0m  To get the checkpoint\n",
      "\u001b[36m(launch_and_fit pid=29448)\u001b[0m [Client 3, round 35] fit, config: {'learning_rate': 0.003, 'batch_size': '16', 'server_round': 35, 'local_epochs': 10}\n",
      "\u001b[36m(launch_and_fit pid=29448)\u001b[0m Updated model\n"
     ]
    },
    {
     "name": "stderr",
     "output_type": "stream",
     "text": [
      "  0%|\u001b[34m          \u001b[0m| 0/10 [00:00<?, ?it/s]\n"
     ]
    },
    {
     "name": "stdout",
     "output_type": "stream",
     "text": [
      "\u001b[36m(launch_and_fit pid=29448)\u001b[0m \tTrain Epoch: 1 \tTrain_loss: 0.5929 | Train_acc: 80.6000 % | Validation_loss: 1.9902 | Validation_acc: 61.3095 %\n",
      "\u001b[36m(launch_and_fit pid=29448)\u001b[0m \tTrain Epoch: 2 \tTrain_loss: 0.2993 | Train_acc: 89.6250 % | Validation_loss: 2.3366 | Validation_acc: 67.8571 %\n"
     ]
    },
    {
     "name": "stderr",
     "output_type": "stream",
     "text": [
      " 20%|\u001b[34m██        \u001b[0m| 2/10 [00:00<00:00, 10.34it/s]\n"
     ]
    },
    {
     "name": "stdout",
     "output_type": "stream",
     "text": [
      "\u001b[36m(launch_and_fit pid=29448)\u001b[0m \tTrain Epoch: 3 \tTrain_loss: 0.2478 | Train_acc: 91.6250 % | Validation_loss: 2.5736 | Validation_acc: 62.3512 %\n",
      "\u001b[36m(launch_and_fit pid=29448)\u001b[0m \tTrain Epoch: 4 \tTrain_loss: 0.3079 | Train_acc: 89.1250 % | Validation_loss: 2.8608 | Validation_acc: 58.1845 %\n"
     ]
    },
    {
     "name": "stderr",
     "output_type": "stream",
     "text": [
      " 40%|\u001b[34m████      \u001b[0m| 4/10 [00:00<00:00, 10.96it/s]\n"
     ]
    },
    {
     "name": "stdout",
     "output_type": "stream",
     "text": [
      "\u001b[36m(launch_and_fit pid=29448)\u001b[0m \tTrain Epoch: 5 \tTrain_loss: 0.2808 | Train_acc: 90.7500 % | Validation_loss: 2.8609 | Validation_acc: 54.7619 %\n",
      "\u001b[36m(launch_and_fit pid=29448)\u001b[0m \tTrain Epoch: 6 \tTrain_loss: 0.1936 | Train_acc: 93.7250 % | Validation_loss: 4.0332 | Validation_acc: 56.8452 %\n"
     ]
    },
    {
     "name": "stderr",
     "output_type": "stream",
     "text": [
      " 60%|\u001b[34m██████    \u001b[0m| 6/10 [00:00<00:00, 10.99it/s]\n",
      " 80%|\u001b[34m████████  \u001b[0m| 8/10 [00:00<00:00, 11.19it/s]\n"
     ]
    },
    {
     "name": "stdout",
     "output_type": "stream",
     "text": [
      "\u001b[36m(launch_and_fit pid=29448)\u001b[0m \tTrain Epoch: 7 \tTrain_loss: 0.2878 | Train_acc: 90.2250 % | Validation_loss: 3.8018 | Validation_acc: 59.2262 %\n",
      "\u001b[36m(launch_and_fit pid=29448)\u001b[0m \tTrain Epoch: 8 \tTrain_loss: 0.2842 | Train_acc: 90.9250 % | Validation_loss: 2.1528 | Validation_acc: 57.1429 %\n",
      "\u001b[36m(launch_and_fit pid=29448)\u001b[0m \tTrain Epoch: 9 \tTrain_loss: 0.2707 | Train_acc: 92.0000 % | Validation_loss: 2.4288 | Validation_acc: 60.2679 %\n",
      "\u001b[36m(launch_and_fit pid=29448)\u001b[0m \tTrain Epoch: 10 \tTrain_loss: 0.1362 | Train_acc: 95.7500 % | Validation_loss: 2.3712 | Validation_acc: 61.6071 %\n",
      "\u001b[36m(launch_and_fit pid=29448)\u001b[0m save graph in  results/FL/\n"
     ]
    },
    {
     "name": "stderr",
     "output_type": "stream",
     "text": [
      "100%|\u001b[34m██████████\u001b[0m| 10/10 [00:00<00:00, 11.03it/s]\n"
     ]
    },
    {
     "name": "stdout",
     "output_type": "stream",
     "text": [
      "\u001b[36m(launch_and_fit pid=29448)\u001b[0m Run WITHOUT homomorphic encryption\n",
      "\u001b[36m(launch_and_fit pid=29448)\u001b[0m  To get the checkpoint\n",
      "\u001b[36m(launch_and_fit pid=29448)\u001b[0m [Client 2, round 35] fit, config: {'learning_rate': 0.003, 'batch_size': '16', 'server_round': 35, 'local_epochs': 10}\n",
      "\u001b[36m(launch_and_fit pid=29448)\u001b[0m Updated model\n",
      "\u001b[36m(launch_and_fit pid=29448)\u001b[0m \tTrain Epoch: 1 \tTrain_loss: 0.5893 | Train_acc: 82.3750 % | Validation_loss: 1.6371 | Validation_acc: 68.1548 %\n"
     ]
    },
    {
     "name": "stderr",
     "output_type": "stream",
     "text": [
      "  0%|\u001b[34m          \u001b[0m| 0/10 [00:00<?, ?it/s]\n"
     ]
    },
    {
     "name": "stdout",
     "output_type": "stream",
     "text": [
      "\u001b[36m(launch_and_fit pid=29448)\u001b[0m \tTrain Epoch: 2 \tTrain_loss: 0.3848 | Train_acc: 87.1250 % | Validation_loss: 2.0639 | Validation_acc: 72.3214 %\n",
      "\u001b[36m(launch_and_fit pid=29448)\u001b[0m \tTrain Epoch: 3 \tTrain_loss: 0.2187 | Train_acc: 91.3750 % | Validation_loss: 2.0242 | Validation_acc: 72.6190 %\n",
      "\u001b[36m(launch_and_fit pid=29448)\u001b[0m \tTrain Epoch: 4 \tTrain_loss: 0.1249 | Train_acc: 96.0000 % | Validation_loss: 1.9388 | Validation_acc: 69.1964 %\n"
     ]
    },
    {
     "name": "stderr",
     "output_type": "stream",
     "text": [
      " 20%|\u001b[34m██        \u001b[0m| 2/10 [00:00<00:00, 11.08it/s]\n",
      " 40%|\u001b[34m████      \u001b[0m| 4/10 [00:00<00:00, 11.44it/s]\n"
     ]
    },
    {
     "name": "stdout",
     "output_type": "stream",
     "text": [
      "\u001b[36m(launch_and_fit pid=29448)\u001b[0m \tTrain Epoch: 5 \tTrain_loss: 0.0875 | Train_acc: 97.7250 % | Validation_loss: 2.0722 | Validation_acc: 73.3631 %\n",
      "\u001b[36m(launch_and_fit pid=29448)\u001b[0m \tTrain Epoch: 6 \tTrain_loss: 0.0946 | Train_acc: 97.5000 % | Validation_loss: 2.1578 | Validation_acc: 76.7857 %\n"
     ]
    },
    {
     "name": "stderr",
     "output_type": "stream",
     "text": [
      " 60%|\u001b[34m██████    \u001b[0m| 6/10 [00:00<00:00, 11.23it/s]\n"
     ]
    },
    {
     "name": "stdout",
     "output_type": "stream",
     "text": [
      "\u001b[36m(launch_and_fit pid=29448)\u001b[0m \tTrain Epoch: 7 \tTrain_loss: 0.0554 | Train_acc: 98.8750 % | Validation_loss: 1.9206 | Validation_acc: 74.4048 %\n",
      "\u001b[36m(launch_and_fit pid=29448)\u001b[0m \tTrain Epoch: 8 \tTrain_loss: 0.0549 | Train_acc: 98.8750 % | Validation_loss: 1.9348 | Validation_acc: 74.4048 %\n"
     ]
    },
    {
     "name": "stderr",
     "output_type": "stream",
     "text": [
      " 80%|\u001b[34m████████  \u001b[0m| 8/10 [00:00<00:00, 11.46it/s]\n",
      "100%|\u001b[34m██████████\u001b[0m| 10/10 [00:00<00:00, 11.33it/s]\n",
      "DEBUG flwr 2024-08-30 01:26:00,212 | server.py:236 | fit_round 35 received 4 results and 0 failures\n"
     ]
    },
    {
     "name": "stdout",
     "output_type": "stream",
     "text": [
      "\u001b[36m(launch_and_fit pid=29448)\u001b[0m \tTrain Epoch: 9 \tTrain_loss: 0.1180 | Train_acc: 95.8750 % | Validation_loss: 2.2429 | Validation_acc: 75.4464 %\n",
      "\u001b[36m(launch_and_fit pid=29448)\u001b[0m \tTrain Epoch: 10 \tTrain_loss: 0.2929 | Train_acc: 89.7000 % | Validation_loss: 2.3741 | Validation_acc: 72.3214 %\n",
      "\u001b[36m(launch_and_fit pid=29448)\u001b[0m save graph in  results/FL/\n",
      "Saving round 35 aggregated_parameters...\n",
      "Updated model\n"
     ]
    },
    {
     "name": "stderr",
     "output_type": "stream",
     "text": [
      "INFO flwr 2024-08-30 01:26:00,290 | server.py:125 | fit progress: (35, 2.68459118523381, {'accuracy': 69.46969696969697}, 569.5624238369055)\n",
      "DEBUG flwr 2024-08-30 01:26:00,291 | server.py:173 | evaluate_round 35: strategy sampled 4 clients (out of 4)\n"
     ]
    },
    {
     "name": "stdout",
     "output_type": "stream",
     "text": [
      "Server-side evaluation loss 2.68459118523381 / accuracy 69.46969696969697\n",
      "\u001b[36m(launch_and_evaluate pid=29448)\u001b[0m Run WITHOUT homomorphic encryption\n",
      "\u001b[36m(launch_and_evaluate pid=29448)\u001b[0m  To get the checkpoint\n",
      "\u001b[36m(launch_and_evaluate pid=29448)\u001b[0m [Client 0] evaluate, config: {}\n",
      "\u001b[36m(launch_and_evaluate pid=29448)\u001b[0m Updated model\n",
      "\u001b[36m(launch_and_evaluate pid=29448)\u001b[0m Run WITHOUT homomorphic encryption\n",
      "\u001b[36m(launch_and_evaluate pid=29448)\u001b[0m  To get the checkpoint\n",
      "\u001b[36m(launch_and_evaluate pid=29448)\u001b[0m [Client 3] evaluate, config: {}\n",
      "\u001b[36m(launch_and_evaluate pid=29448)\u001b[0m Updated model\n",
      "\u001b[36m(launch_and_evaluate pid=29448)\u001b[0m Run WITHOUT homomorphic encryption\n",
      "\u001b[36m(launch_and_evaluate pid=29448)\u001b[0m  To get the checkpoint\n",
      "\u001b[36m(launch_and_evaluate pid=29448)\u001b[0m [Client 2] evaluate, config: {}\n",
      "\u001b[36m(launch_and_evaluate pid=29448)\u001b[0m Updated model\n",
      "\u001b[36m(launch_and_evaluate pid=29448)\u001b[0m Run WITHOUT homomorphic encryption\n",
      "\u001b[36m(launch_and_evaluate pid=29448)\u001b[0m  To get the checkpoint\n",
      "\u001b[36m(launch_and_evaluate pid=29448)\u001b[0m [Client 1] evaluate, config: {}\n",
      "\u001b[36m(launch_and_evaluate pid=29448)\u001b[0m Updated model\n"
     ]
    },
    {
     "name": "stderr",
     "output_type": "stream",
     "text": [
      "DEBUG flwr 2024-08-30 01:26:02,452 | server.py:187 | evaluate_round 35 received 4 results and 0 failures\n",
      "DEBUG flwr 2024-08-30 01:26:02,453 | server.py:222 | fit_round 36: strategy sampled 4 clients (out of 4)\n"
     ]
    },
    {
     "name": "stdout",
     "output_type": "stream",
     "text": [
      "\u001b[36m(launch_and_fit pid=29448)\u001b[0m Run WITHOUT homomorphic encryption\n",
      "\u001b[36m(launch_and_fit pid=29448)\u001b[0m  To get the checkpoint\n",
      "\u001b[36m(launch_and_fit pid=29448)\u001b[0m [Client 0, round 36] fit, config: {'learning_rate': 0.003, 'batch_size': '16', 'server_round': 36, 'local_epochs': 10}\n",
      "\u001b[36m(launch_and_fit pid=29448)\u001b[0m Updated model\n",
      "\u001b[36m(launch_and_fit pid=29448)\u001b[0m \tTrain Epoch: 1 \tTrain_loss: 0.4095 | Train_acc: 85.8500 % | Validation_loss: 3.5399 | Validation_acc: 59.8214 %\n"
     ]
    },
    {
     "name": "stderr",
     "output_type": "stream",
     "text": [
      "  0%|\u001b[34m          \u001b[0m| 0/10 [00:00<?, ?it/s]\n"
     ]
    },
    {
     "name": "stdout",
     "output_type": "stream",
     "text": [
      "\u001b[36m(launch_and_fit pid=29448)\u001b[0m \tTrain Epoch: 2 \tTrain_loss: 0.3342 | Train_acc: 89.5000 % | Validation_loss: 3.2222 | Validation_acc: 62.9464 %\n",
      "\u001b[36m(launch_and_fit pid=29448)\u001b[0m \tTrain Epoch: 3 \tTrain_loss: 0.2104 | Train_acc: 92.7500 % | Validation_loss: 3.3640 | Validation_acc: 63.9881 %\n",
      "\u001b[36m(launch_and_fit pid=29448)\u001b[0m \tTrain Epoch: 4 \tTrain_loss: 0.3299 | Train_acc: 90.3750 % | Validation_loss: 3.9870 | Validation_acc: 62.2024 %\n"
     ]
    },
    {
     "name": "stderr",
     "output_type": "stream",
     "text": [
      " 20%|\u001b[34m██        \u001b[0m| 2/10 [00:00<00:00, 10.30it/s]\n",
      " 40%|\u001b[34m████      \u001b[0m| 4/10 [00:00<00:00, 10.93it/s]\n"
     ]
    },
    {
     "name": "stdout",
     "output_type": "stream",
     "text": [
      "\u001b[36m(launch_and_fit pid=29448)\u001b[0m \tTrain Epoch: 5 \tTrain_loss: 0.4756 | Train_acc: 86.6000 % | Validation_loss: 3.2521 | Validation_acc: 61.9048 %\n",
      "\u001b[36m(launch_and_fit pid=29448)\u001b[0m \tTrain Epoch: 6 \tTrain_loss: 0.1862 | Train_acc: 93.8500 % | Validation_loss: 4.1705 | Validation_acc: 63.9881 %\n"
     ]
    },
    {
     "name": "stderr",
     "output_type": "stream",
     "text": [
      " 60%|\u001b[34m██████    \u001b[0m| 6/10 [00:00<00:00, 10.97it/s]\n"
     ]
    },
    {
     "name": "stdout",
     "output_type": "stream",
     "text": [
      "\u001b[36m(launch_and_fit pid=29448)\u001b[0m \tTrain Epoch: 7 \tTrain_loss: 0.1140 | Train_acc: 96.7500 % | Validation_loss: 3.9283 | Validation_acc: 64.2857 %\n",
      "\u001b[36m(launch_and_fit pid=29448)\u001b[0m \tTrain Epoch: 8 \tTrain_loss: 0.0745 | Train_acc: 98.1250 % | Validation_loss: 3.1716 | Validation_acc: 65.3274 %\n"
     ]
    },
    {
     "name": "stderr",
     "output_type": "stream",
     "text": [
      " 80%|\u001b[34m████████  \u001b[0m| 8/10 [00:00<00:00, 11.04it/s]\n"
     ]
    },
    {
     "name": "stdout",
     "output_type": "stream",
     "text": [
      "\u001b[36m(launch_and_fit pid=29448)\u001b[0m \tTrain Epoch: 9 \tTrain_loss: 0.0450 | Train_acc: 99.3750 % | Validation_loss: 3.7940 | Validation_acc: 64.2857 %\n",
      "\u001b[36m(launch_and_fit pid=29448)\u001b[0m \tTrain Epoch: 10 \tTrain_loss: 0.0365 | Train_acc: 99.5000 % | Validation_loss: 4.2818 | Validation_acc: 65.0298 %\n",
      "\u001b[36m(launch_and_fit pid=29448)\u001b[0m save graph in  results/FL/\n"
     ]
    },
    {
     "name": "stderr",
     "output_type": "stream",
     "text": [
      "100%|\u001b[34m██████████\u001b[0m| 10/10 [00:00<00:00, 10.99it/s]\n"
     ]
    },
    {
     "name": "stdout",
     "output_type": "stream",
     "text": [
      "\u001b[36m(launch_and_fit pid=29448)\u001b[0m Run WITHOUT homomorphic encryption\n",
      "\u001b[36m(launch_and_fit pid=29448)\u001b[0m  To get the checkpoint\n",
      "\u001b[36m(launch_and_fit pid=29448)\u001b[0m [Client 3, round 36] fit, config: {'learning_rate': 0.003, 'batch_size': '16', 'server_round': 36, 'local_epochs': 10}\n",
      "\u001b[36m(launch_and_fit pid=29448)\u001b[0m Updated model\n",
      "\u001b[36m(launch_and_fit pid=29448)\u001b[0m \tTrain Epoch: 1 \tTrain_loss: 0.4895 | Train_acc: 84.2500 % | Validation_loss: 2.6242 | Validation_acc: 62.6488 %\n"
     ]
    },
    {
     "name": "stderr",
     "output_type": "stream",
     "text": [
      "  0%|\u001b[34m          \u001b[0m| 0/10 [00:00<?, ?it/s]\n"
     ]
    },
    {
     "name": "stdout",
     "output_type": "stream",
     "text": [
      "\u001b[36m(launch_and_fit pid=29448)\u001b[0m \tTrain Epoch: 2 \tTrain_loss: 0.2876 | Train_acc: 90.7500 % | Validation_loss: 2.3987 | Validation_acc: 65.7738 %\n",
      "\u001b[36m(launch_and_fit pid=29448)\u001b[0m \tTrain Epoch: 3 \tTrain_loss: 0.1983 | Train_acc: 93.6250 % | Validation_loss: 2.8640 | Validation_acc: 64.4345 %\n"
     ]
    },
    {
     "name": "stderr",
     "output_type": "stream",
     "text": [
      " 20%|\u001b[34m██        \u001b[0m| 2/10 [00:00<00:00, 11.15it/s]\n"
     ]
    },
    {
     "name": "stdout",
     "output_type": "stream",
     "text": [
      "\u001b[36m(launch_and_fit pid=29448)\u001b[0m \tTrain Epoch: 4 \tTrain_loss: 0.1448 | Train_acc: 95.3750 % | Validation_loss: 2.6840 | Validation_acc: 65.7738 %\n",
      "\u001b[36m(launch_and_fit pid=29448)\u001b[0m \tTrain Epoch: 5 \tTrain_loss: 0.1757 | Train_acc: 93.6000 % | Validation_loss: 3.0019 | Validation_acc: 62.3512 %\n"
     ]
    },
    {
     "name": "stderr",
     "output_type": "stream",
     "text": [
      " 40%|\u001b[34m████      \u001b[0m| 4/10 [00:00<00:00, 11.41it/s]\n"
     ]
    },
    {
     "name": "stdout",
     "output_type": "stream",
     "text": [
      "\u001b[36m(launch_and_fit pid=29448)\u001b[0m \tTrain Epoch: 6 \tTrain_loss: 0.3086 | Train_acc: 89.7500 % | Validation_loss: 2.0540 | Validation_acc: 60.5655 %\n",
      "\u001b[36m(launch_and_fit pid=29448)\u001b[0m \tTrain Epoch: 7 \tTrain_loss: 0.3098 | Train_acc: 89.3750 % | Validation_loss: 2.6848 | Validation_acc: 64.7321 %\n",
      "\u001b[36m(launch_and_fit pid=29448)\u001b[0m \tTrain Epoch: 8 \tTrain_loss: 0.1080 | Train_acc: 96.6250 % | Validation_loss: 2.6858 | Validation_acc: 60.5655 %\n"
     ]
    },
    {
     "name": "stderr",
     "output_type": "stream",
     "text": [
      " 60%|\u001b[34m██████    \u001b[0m| 6/10 [00:00<00:00, 11.06it/s]\n",
      " 80%|\u001b[34m████████  \u001b[0m| 8/10 [00:00<00:00, 11.04it/s]\n"
     ]
    },
    {
     "name": "stdout",
     "output_type": "stream",
     "text": [
      "\u001b[36m(launch_and_fit pid=29448)\u001b[0m \tTrain Epoch: 9 \tTrain_loss: 0.0955 | Train_acc: 96.7500 % | Validation_loss: 2.8976 | Validation_acc: 63.6905 %\n",
      "\u001b[36m(launch_and_fit pid=29448)\u001b[0m \tTrain Epoch: 10 \tTrain_loss: 0.0712 | Train_acc: 98.0000 % | Validation_loss: 2.9736 | Validation_acc: 63.3929 %\n",
      "\u001b[36m(launch_and_fit pid=29448)\u001b[0m save graph in  results/FL/\n"
     ]
    },
    {
     "name": "stderr",
     "output_type": "stream",
     "text": [
      "100%|\u001b[34m██████████\u001b[0m| 10/10 [00:00<00:00, 11.09it/s]\n"
     ]
    },
    {
     "name": "stdout",
     "output_type": "stream",
     "text": [
      "\u001b[36m(launch_and_fit pid=29448)\u001b[0m Run WITHOUT homomorphic encryption\n",
      "\u001b[36m(launch_and_fit pid=29448)\u001b[0m  To get the checkpoint\n",
      "\u001b[36m(launch_and_fit pid=29448)\u001b[0m [Client 1, round 36] fit, config: {'learning_rate': 0.003, 'batch_size': '16', 'server_round': 36, 'local_epochs': 10}\n",
      "\u001b[36m(launch_and_fit pid=29448)\u001b[0m Updated model\n",
      "\u001b[36m(launch_and_fit pid=29448)\u001b[0m \tTrain Epoch: 1 \tTrain_loss: 0.6193 | Train_acc: 80.2500 % | Validation_loss: 2.2422 | Validation_acc: 63.6905 %\n"
     ]
    },
    {
     "name": "stderr",
     "output_type": "stream",
     "text": [
      "  0%|\u001b[34m          \u001b[0m| 0/10 [00:00<?, ?it/s]\n"
     ]
    },
    {
     "name": "stdout",
     "output_type": "stream",
     "text": [
      "\u001b[36m(launch_and_fit pid=29448)\u001b[0m \tTrain Epoch: 2 \tTrain_loss: 0.2515 | Train_acc: 91.0000 % | Validation_loss: 2.4588 | Validation_acc: 70.9821 %\n",
      "\u001b[36m(launch_and_fit pid=29448)\u001b[0m \tTrain Epoch: 3 \tTrain_loss: 0.1423 | Train_acc: 95.1250 % | Validation_loss: 2.9386 | Validation_acc: 68.8988 %\n",
      "\u001b[36m(launch_and_fit pid=29448)\u001b[0m \tTrain Epoch: 4 \tTrain_loss: 0.1272 | Train_acc: 96.7500 % | Validation_loss: 2.9927 | Validation_acc: 70.9821 %\n"
     ]
    },
    {
     "name": "stderr",
     "output_type": "stream",
     "text": [
      " 20%|\u001b[34m██        \u001b[0m| 2/10 [00:00<00:00, 11.39it/s]\n",
      " 40%|\u001b[34m████      \u001b[0m| 4/10 [00:00<00:00, 11.12it/s]\n"
     ]
    },
    {
     "name": "stdout",
     "output_type": "stream",
     "text": [
      "\u001b[36m(launch_and_fit pid=29448)\u001b[0m \tTrain Epoch: 5 \tTrain_loss: 0.1407 | Train_acc: 95.3750 % | Validation_loss: 3.2219 | Validation_acc: 61.6071 %\n",
      "\u001b[36m(launch_and_fit pid=29448)\u001b[0m \tTrain Epoch: 6 \tTrain_loss: 0.2459 | Train_acc: 91.7000 % | Validation_loss: 3.0786 | Validation_acc: 64.7321 %\n"
     ]
    },
    {
     "name": "stderr",
     "output_type": "stream",
     "text": [
      " 60%|\u001b[34m██████    \u001b[0m| 6/10 [00:00<00:00, 11.24it/s]\n"
     ]
    },
    {
     "name": "stdout",
     "output_type": "stream",
     "text": [
      "\u001b[36m(launch_and_fit pid=29448)\u001b[0m \tTrain Epoch: 7 \tTrain_loss: 0.3243 | Train_acc: 89.7500 % | Validation_loss: 2.9854 | Validation_acc: 63.3929 %\n",
      "\u001b[36m(launch_and_fit pid=29448)\u001b[0m \tTrain Epoch: 8 \tTrain_loss: 0.3593 | Train_acc: 88.7500 % | Validation_loss: 2.8562 | Validation_acc: 56.1012 %\n"
     ]
    },
    {
     "name": "stderr",
     "output_type": "stream",
     "text": [
      " 80%|\u001b[34m████████  \u001b[0m| 8/10 [00:00<00:00, 11.39it/s]\n"
     ]
    },
    {
     "name": "stdout",
     "output_type": "stream",
     "text": [
      "\u001b[36m(launch_and_fit pid=29448)\u001b[0m \tTrain Epoch: 9 \tTrain_loss: 0.4223 | Train_acc: 86.6000 % | Validation_loss: 2.9649 | Validation_acc: 61.6071 %\n",
      "\u001b[36m(launch_and_fit pid=29448)\u001b[0m \tTrain Epoch: 10 \tTrain_loss: 0.1897 | Train_acc: 94.5000 % | Validation_loss: 3.1353 | Validation_acc: 65.7738 %\n",
      "\u001b[36m(launch_and_fit pid=29448)\u001b[0m save graph in  results/FL/\n"
     ]
    },
    {
     "name": "stderr",
     "output_type": "stream",
     "text": [
      "100%|\u001b[34m██████████\u001b[0m| 10/10 [00:00<00:00, 11.28it/s]\n"
     ]
    },
    {
     "name": "stdout",
     "output_type": "stream",
     "text": [
      "\u001b[36m(launch_and_fit pid=29448)\u001b[0m Run WITHOUT homomorphic encryption\n",
      "\u001b[36m(launch_and_fit pid=29448)\u001b[0m  To get the checkpoint\n",
      "\u001b[36m(launch_and_fit pid=29448)\u001b[0m [Client 2, round 36] fit, config: {'learning_rate': 0.003, 'batch_size': '16', 'server_round': 36, 'local_epochs': 10}\n",
      "\u001b[36m(launch_and_fit pid=29448)\u001b[0m Updated model\n",
      "\u001b[36m(launch_and_fit pid=29448)\u001b[0m \tTrain Epoch: 1 \tTrain_loss: 0.7945 | Train_acc: 78.3250 % | Validation_loss: 1.6449 | Validation_acc: 70.2381 %\n"
     ]
    },
    {
     "name": "stderr",
     "output_type": "stream",
     "text": [
      "  0%|\u001b[34m          \u001b[0m| 0/10 [00:00<?, ?it/s]\n"
     ]
    },
    {
     "name": "stdout",
     "output_type": "stream",
     "text": [
      "\u001b[36m(launch_and_fit pid=29448)\u001b[0m \tTrain Epoch: 2 \tTrain_loss: 0.2585 | Train_acc: 91.7500 % | Validation_loss: 1.9465 | Validation_acc: 73.3631 %\n",
      "\u001b[36m(launch_and_fit pid=29448)\u001b[0m \tTrain Epoch: 3 \tTrain_loss: 0.1521 | Train_acc: 94.8750 % | Validation_loss: 2.0168 | Validation_acc: 75.7440 %\n"
     ]
    },
    {
     "name": "stderr",
     "output_type": "stream",
     "text": [
      " 20%|\u001b[34m██        \u001b[0m| 2/10 [00:00<00:00, 11.38it/s]\n"
     ]
    },
    {
     "name": "stdout",
     "output_type": "stream",
     "text": [
      "\u001b[36m(launch_and_fit pid=29448)\u001b[0m \tTrain Epoch: 4 \tTrain_loss: 0.1239 | Train_acc: 96.2500 % | Validation_loss: 2.1186 | Validation_acc: 74.4048 %\n",
      "\u001b[36m(launch_and_fit pid=29448)\u001b[0m \tTrain Epoch: 5 \tTrain_loss: 0.1011 | Train_acc: 96.7500 % | Validation_loss: 2.1216 | Validation_acc: 75.7440 %\n",
      "\u001b[36m(launch_and_fit pid=29448)\u001b[0m \tTrain Epoch: 6 \tTrain_loss: 0.0970 | Train_acc: 97.6250 % | Validation_loss: 2.1153 | Validation_acc: 77.5298 %\n"
     ]
    },
    {
     "name": "stderr",
     "output_type": "stream",
     "text": [
      " 40%|\u001b[34m████      \u001b[0m| 4/10 [00:00<00:00, 11.67it/s]\n",
      " 60%|\u001b[34m██████    \u001b[0m| 6/10 [00:00<00:00, 11.93it/s]\n"
     ]
    },
    {
     "name": "stdout",
     "output_type": "stream",
     "text": [
      "\u001b[36m(launch_and_fit pid=29448)\u001b[0m \tTrain Epoch: 7 \tTrain_loss: 0.2578 | Train_acc: 92.2500 % | Validation_loss: 1.7455 | Validation_acc: 71.2798 %\n",
      "\u001b[36m(launch_and_fit pid=29448)\u001b[0m \tTrain Epoch: 8 \tTrain_loss: 0.3188 | Train_acc: 88.3500 % | Validation_loss: 1.7286 | Validation_acc: 67.1131 %\n"
     ]
    },
    {
     "name": "stderr",
     "output_type": "stream",
     "text": [
      " 80%|\u001b[34m████████  \u001b[0m| 8/10 [00:00<00:00, 11.62it/s]\n",
      "100%|\u001b[34m██████████\u001b[0m| 10/10 [00:00<00:00, 11.68it/s]\n",
      "DEBUG flwr 2024-08-30 01:26:07,569 | server.py:236 | fit_round 36 received 4 results and 0 failures\n"
     ]
    },
    {
     "name": "stdout",
     "output_type": "stream",
     "text": [
      "\u001b[36m(launch_and_fit pid=29448)\u001b[0m \tTrain Epoch: 9 \tTrain_loss: 0.1973 | Train_acc: 93.8750 % | Validation_loss: 2.0395 | Validation_acc: 75.7440 %\n",
      "\u001b[36m(launch_and_fit pid=29448)\u001b[0m \tTrain Epoch: 10 \tTrain_loss: 0.1471 | Train_acc: 95.1250 % | Validation_loss: 1.9571 | Validation_acc: 78.5714 %\n",
      "\u001b[36m(launch_and_fit pid=29448)\u001b[0m save graph in  results/FL/\n",
      "Saving round 36 aggregated_parameters...\n"
     ]
    },
    {
     "name": "stderr",
     "output_type": "stream",
     "text": [
      "INFO flwr 2024-08-30 01:26:07,753 | server.py:125 | fit progress: (36, 2.718244925412265, {'accuracy': 71.66666666666667}, 577.0249754497781)\n",
      "DEBUG flwr 2024-08-30 01:26:07,753 | server.py:173 | evaluate_round 36: strategy sampled 4 clients (out of 4)\n"
     ]
    },
    {
     "name": "stdout",
     "output_type": "stream",
     "text": [
      "Updated model\n",
      "Server-side evaluation loss 2.718244925412265 / accuracy 71.66666666666667\n",
      "\u001b[36m(launch_and_evaluate pid=29448)\u001b[0m Run WITHOUT homomorphic encryption\n",
      "\u001b[36m(launch_and_evaluate pid=29448)\u001b[0m  To get the checkpoint\n",
      "\u001b[36m(launch_and_evaluate pid=29448)\u001b[0m [Client 1] evaluate, config: {}\n",
      "\u001b[36m(launch_and_evaluate pid=29448)\u001b[0m Updated model\n",
      "\u001b[36m(launch_and_evaluate pid=29448)\u001b[0m Run WITHOUT homomorphic encryption\n",
      "\u001b[36m(launch_and_evaluate pid=29448)\u001b[0m  To get the checkpoint\n",
      "\u001b[36m(launch_and_evaluate pid=29448)\u001b[0m [Client 0] evaluate, config: {}\n",
      "\u001b[36m(launch_and_evaluate pid=29448)\u001b[0m Updated model\n",
      "\u001b[36m(launch_and_evaluate pid=29448)\u001b[0m Run WITHOUT homomorphic encryption\n",
      "\u001b[36m(launch_and_evaluate pid=29448)\u001b[0m  To get the checkpoint\n",
      "\u001b[36m(launch_and_evaluate pid=29448)\u001b[0m [Client 2] evaluate, config: {}\n",
      "\u001b[36m(launch_and_evaluate pid=29448)\u001b[0m Updated model\n",
      "\u001b[36m(launch_and_evaluate pid=29448)\u001b[0m Run WITHOUT homomorphic encryption\n",
      "\u001b[36m(launch_and_evaluate pid=29448)\u001b[0m  To get the checkpoint\n",
      "\u001b[36m(launch_and_evaluate pid=29448)\u001b[0m [Client 3] evaluate, config: {}\n",
      "\u001b[36m(launch_and_evaluate pid=29448)\u001b[0m Updated model\n"
     ]
    },
    {
     "name": "stderr",
     "output_type": "stream",
     "text": [
      "DEBUG flwr 2024-08-30 01:26:09,986 | server.py:187 | evaluate_round 36 received 4 results and 0 failures\n",
      "DEBUG flwr 2024-08-30 01:26:09,987 | server.py:222 | fit_round 37: strategy sampled 4 clients (out of 4)\n"
     ]
    },
    {
     "name": "stdout",
     "output_type": "stream",
     "text": [
      "\u001b[36m(launch_and_fit pid=29448)\u001b[0m Run WITHOUT homomorphic encryption\n",
      "\u001b[36m(launch_and_fit pid=29448)\u001b[0m  To get the checkpoint\n",
      "\u001b[36m(launch_and_fit pid=29448)\u001b[0m [Client 3, round 37] fit, config: {'learning_rate': 0.003, 'batch_size': '16', 'server_round': 37, 'local_epochs': 10}\n",
      "\u001b[36m(launch_and_fit pid=29448)\u001b[0m Updated model\n",
      "\u001b[36m(launch_and_fit pid=29448)\u001b[0m \tTrain Epoch: 1 \tTrain_loss: 0.5952 | Train_acc: 81.3000 % | Validation_loss: 2.6478 | Validation_acc: 62.0536 %\n"
     ]
    },
    {
     "name": "stderr",
     "output_type": "stream",
     "text": [
      "  0%|\u001b[34m          \u001b[0m| 0/10 [00:00<?, ?it/s]\n"
     ]
    },
    {
     "name": "stdout",
     "output_type": "stream",
     "text": [
      "\u001b[36m(launch_and_fit pid=29448)\u001b[0m \tTrain Epoch: 2 \tTrain_loss: 0.3170 | Train_acc: 88.6250 % | Validation_loss: 2.4227 | Validation_acc: 63.6905 %\n",
      "\u001b[36m(launch_and_fit pid=29448)\u001b[0m \tTrain Epoch: 3 \tTrain_loss: 0.1754 | Train_acc: 93.7250 % | Validation_loss: 3.4251 | Validation_acc: 63.3929 %\n",
      "\u001b[36m(launch_and_fit pid=29448)\u001b[0m \tTrain Epoch: 4 \tTrain_loss: 0.1256 | Train_acc: 95.8750 % | Validation_loss: 3.0745 | Validation_acc: 61.3095 %\n"
     ]
    },
    {
     "name": "stderr",
     "output_type": "stream",
     "text": [
      " 20%|\u001b[34m██        \u001b[0m| 2/10 [00:00<00:00, 10.79it/s]\n",
      " 40%|\u001b[34m████      \u001b[0m| 4/10 [00:00<00:00, 10.90it/s]\n"
     ]
    },
    {
     "name": "stdout",
     "output_type": "stream",
     "text": [
      "\u001b[36m(launch_and_fit pid=29448)\u001b[0m \tTrain Epoch: 5 \tTrain_loss: 0.0751 | Train_acc: 97.5000 % | Validation_loss: 3.1793 | Validation_acc: 61.3095 %\n",
      "\u001b[36m(launch_and_fit pid=29448)\u001b[0m \tTrain Epoch: 6 \tTrain_loss: 0.0601 | Train_acc: 98.2500 % | Validation_loss: 3.1914 | Validation_acc: 63.6905 %\n"
     ]
    },
    {
     "name": "stderr",
     "output_type": "stream",
     "text": [
      " 60%|\u001b[34m██████    \u001b[0m| 6/10 [00:00<00:00, 10.67it/s]\n"
     ]
    },
    {
     "name": "stdout",
     "output_type": "stream",
     "text": [
      "\u001b[36m(launch_and_fit pid=29448)\u001b[0m \tTrain Epoch: 7 \tTrain_loss: 0.0504 | Train_acc: 98.7250 % | Validation_loss: 3.4842 | Validation_acc: 66.8155 %\n",
      "\u001b[36m(launch_and_fit pid=29448)\u001b[0m \tTrain Epoch: 8 \tTrain_loss: 0.2033 | Train_acc: 94.6000 % | Validation_loss: 3.2196 | Validation_acc: 61.0119 %\n"
     ]
    },
    {
     "name": "stderr",
     "output_type": "stream",
     "text": [
      " 80%|\u001b[34m████████  \u001b[0m| 8/10 [00:00<00:00, 11.05it/s]\n"
     ]
    },
    {
     "name": "stdout",
     "output_type": "stream",
     "text": [
      "\u001b[36m(launch_and_fit pid=29448)\u001b[0m \tTrain Epoch: 9 \tTrain_loss: 0.6341 | Train_acc: 82.3250 % | Validation_loss: 2.8259 | Validation_acc: 60.2679 %\n",
      "\u001b[36m(launch_and_fit pid=29448)\u001b[0m \tTrain Epoch: 10 \tTrain_loss: 0.5270 | Train_acc: 84.3750 % | Validation_loss: 2.3860 | Validation_acc: 60.5655 %\n",
      "\u001b[36m(launch_and_fit pid=29448)\u001b[0m save graph in  results/FL/\n"
     ]
    },
    {
     "name": "stderr",
     "output_type": "stream",
     "text": [
      "100%|\u001b[34m██████████\u001b[0m| 10/10 [00:00<00:00, 10.94it/s]\n"
     ]
    },
    {
     "name": "stdout",
     "output_type": "stream",
     "text": [
      "\u001b[36m(launch_and_fit pid=29448)\u001b[0m Run WITHOUT homomorphic encryption\n",
      "\u001b[36m(launch_and_fit pid=29448)\u001b[0m  To get the checkpoint\n",
      "\u001b[36m(launch_and_fit pid=29448)\u001b[0m [Client 0, round 37] fit, config: {'learning_rate': 0.003, 'batch_size': '16', 'server_round': 37, 'local_epochs': 10}\n",
      "\u001b[36m(launch_and_fit pid=29448)\u001b[0m Updated model\n"
     ]
    },
    {
     "name": "stderr",
     "output_type": "stream",
     "text": [
      "  0%|\u001b[34m          \u001b[0m| 0/10 [00:00<?, ?it/s]\n"
     ]
    },
    {
     "name": "stdout",
     "output_type": "stream",
     "text": [
      "\u001b[36m(launch_and_fit pid=29448)\u001b[0m \tTrain Epoch: 1 \tTrain_loss: 0.4235 | Train_acc: 85.4750 % | Validation_loss: 3.0520 | Validation_acc: 62.9464 %\n",
      "\u001b[36m(launch_and_fit pid=29448)\u001b[0m \tTrain Epoch: 2 \tTrain_loss: 0.1918 | Train_acc: 94.1000 % | Validation_loss: 3.4276 | Validation_acc: 61.9048 %\n"
     ]
    },
    {
     "name": "stderr",
     "output_type": "stream",
     "text": [
      " 20%|\u001b[34m██        \u001b[0m| 2/10 [00:00<00:00, 11.15it/s]\n"
     ]
    },
    {
     "name": "stdout",
     "output_type": "stream",
     "text": [
      "\u001b[36m(launch_and_fit pid=29448)\u001b[0m \tTrain Epoch: 3 \tTrain_loss: 0.1349 | Train_acc: 95.7250 % | Validation_loss: 4.1388 | Validation_acc: 60.8631 %\n",
      "\u001b[36m(launch_and_fit pid=29448)\u001b[0m \tTrain Epoch: 4 \tTrain_loss: 0.1019 | Train_acc: 96.8750 % | Validation_loss: 3.5244 | Validation_acc: 62.9464 %\n"
     ]
    },
    {
     "name": "stderr",
     "output_type": "stream",
     "text": [
      " 40%|\u001b[34m████      \u001b[0m| 4/10 [00:00<00:00, 11.11it/s]\n"
     ]
    },
    {
     "name": "stdout",
     "output_type": "stream",
     "text": [
      "\u001b[36m(launch_and_fit pid=29448)\u001b[0m \tTrain Epoch: 5 \tTrain_loss: 0.1799 | Train_acc: 93.8750 % | Validation_loss: 3.6478 | Validation_acc: 62.9464 %\n",
      "\u001b[36m(launch_and_fit pid=29448)\u001b[0m \tTrain Epoch: 6 \tTrain_loss: 0.6590 | Train_acc: 81.1000 % | Validation_loss: 3.3730 | Validation_acc: 54.3155 %\n",
      "\u001b[36m(launch_and_fit pid=29448)\u001b[0m \tTrain Epoch: 7 \tTrain_loss: 0.4564 | Train_acc: 86.1250 % | Validation_loss: 3.2197 | Validation_acc: 61.9048 %\n"
     ]
    },
    {
     "name": "stderr",
     "output_type": "stream",
     "text": [
      " 60%|\u001b[34m██████    \u001b[0m| 6/10 [00:00<00:00, 11.45it/s]\n",
      " 80%|\u001b[34m████████  \u001b[0m| 8/10 [00:00<00:00, 11.50it/s]\n"
     ]
    },
    {
     "name": "stdout",
     "output_type": "stream",
     "text": [
      "\u001b[36m(launch_and_fit pid=29448)\u001b[0m \tTrain Epoch: 8 \tTrain_loss: 0.1819 | Train_acc: 94.8750 % | Validation_loss: 4.0477 | Validation_acc: 60.8631 %\n",
      "\u001b[36m(launch_and_fit pid=29448)\u001b[0m \tTrain Epoch: 9 \tTrain_loss: 0.2503 | Train_acc: 92.2250 % | Validation_loss: 3.1122 | Validation_acc: 56.3988 %\n",
      "\u001b[36m(launch_and_fit pid=29448)\u001b[0m \tTrain Epoch: 10 \tTrain_loss: 0.2556 | Train_acc: 91.2250 % | Validation_loss: 3.8289 | Validation_acc: 65.0298 %\n",
      "\u001b[36m(launch_and_fit pid=29448)\u001b[0m save graph in  results/FL/\n"
     ]
    },
    {
     "name": "stderr",
     "output_type": "stream",
     "text": [
      "100%|\u001b[34m██████████\u001b[0m| 10/10 [00:00<00:00, 11.47it/s]\n"
     ]
    },
    {
     "name": "stdout",
     "output_type": "stream",
     "text": [
      "\u001b[36m(launch_and_fit pid=29448)\u001b[0m Run WITHOUT homomorphic encryption\n",
      "\u001b[36m(launch_and_fit pid=29448)\u001b[0m  To get the checkpoint\n",
      "\u001b[36m(launch_and_fit pid=29448)\u001b[0m [Client 2, round 37] fit, config: {'learning_rate': 0.003, 'batch_size': '16', 'server_round': 37, 'local_epochs': 10}\n",
      "\u001b[36m(launch_and_fit pid=29448)\u001b[0m Updated model\n",
      "\u001b[36m(launch_and_fit pid=29448)\u001b[0m \tTrain Epoch: 1 \tTrain_loss: 0.5575 | Train_acc: 84.3750 % | Validation_loss: 1.4703 | Validation_acc: 73.3631 %\n",
      "\u001b[36m(launch_and_fit pid=29448)\u001b[0m \tTrain Epoch: 2 \tTrain_loss: 0.2150 | Train_acc: 92.2250 % | Validation_loss: 2.1953 | Validation_acc: 73.3631 %\n"
     ]
    },
    {
     "name": "stderr",
     "output_type": "stream",
     "text": [
      "  0%|\u001b[34m          \u001b[0m| 0/10 [00:00<?, ?it/s]\n",
      " 20%|\u001b[34m██        \u001b[0m| 2/10 [00:00<00:00, 11.33it/s]\n"
     ]
    },
    {
     "name": "stdout",
     "output_type": "stream",
     "text": [
      "\u001b[36m(launch_and_fit pid=29448)\u001b[0m \tTrain Epoch: 3 \tTrain_loss: 0.2344 | Train_acc: 93.2500 % | Validation_loss: 1.9486 | Validation_acc: 73.3631 %\n",
      "\u001b[36m(launch_and_fit pid=29448)\u001b[0m \tTrain Epoch: 4 \tTrain_loss: 0.0849 | Train_acc: 98.1250 % | Validation_loss: 1.9513 | Validation_acc: 75.4464 %\n"
     ]
    },
    {
     "name": "stderr",
     "output_type": "stream",
     "text": [
      " 40%|\u001b[34m████      \u001b[0m| 4/10 [00:00<00:00, 11.59it/s]\n"
     ]
    },
    {
     "name": "stdout",
     "output_type": "stream",
     "text": [
      "\u001b[36m(launch_and_fit pid=29448)\u001b[0m \tTrain Epoch: 5 \tTrain_loss: 0.0938 | Train_acc: 97.7500 % | Validation_loss: 2.1017 | Validation_acc: 75.7440 %\n",
      "\u001b[36m(launch_and_fit pid=29448)\u001b[0m \tTrain Epoch: 6 \tTrain_loss: 0.0901 | Train_acc: 96.8750 % | Validation_loss: 2.2798 | Validation_acc: 70.2381 %\n"
     ]
    },
    {
     "name": "stderr",
     "output_type": "stream",
     "text": [
      " 60%|\u001b[34m██████    \u001b[0m| 6/10 [00:00<00:00, 11.30it/s]\n"
     ]
    },
    {
     "name": "stdout",
     "output_type": "stream",
     "text": [
      "\u001b[36m(launch_and_fit pid=29448)\u001b[0m \tTrain Epoch: 7 \tTrain_loss: 0.1156 | Train_acc: 96.8750 % | Validation_loss: 2.1880 | Validation_acc: 74.7024 %\n",
      "\u001b[36m(launch_and_fit pid=29448)\u001b[0m \tTrain Epoch: 8 \tTrain_loss: 0.2031 | Train_acc: 94.1250 % | Validation_loss: 2.7153 | Validation_acc: 69.1964 %\n",
      "\u001b[36m(launch_and_fit pid=29448)\u001b[0m \tTrain Epoch: 9 \tTrain_loss: 0.5467 | Train_acc: 84.1250 % | Validation_loss: 2.1266 | Validation_acc: 63.6905 %\n"
     ]
    },
    {
     "name": "stderr",
     "output_type": "stream",
     "text": [
      " 80%|\u001b[34m████████  \u001b[0m| 8/10 [00:00<00:00, 11.52it/s]\n",
      "100%|\u001b[34m██████████\u001b[0m| 10/10 [00:00<00:00, 11.55it/s]\n"
     ]
    },
    {
     "name": "stdout",
     "output_type": "stream",
     "text": [
      "\u001b[36m(launch_and_fit pid=29448)\u001b[0m \tTrain Epoch: 10 \tTrain_loss: 0.6008 | Train_acc: 82.2500 % | Validation_loss: 1.6005 | Validation_acc: 71.2798 %\n",
      "\u001b[36m(launch_and_fit pid=29448)\u001b[0m save graph in  results/FL/\n",
      "\u001b[36m(launch_and_fit pid=29448)\u001b[0m Run WITHOUT homomorphic encryption\n",
      "\u001b[36m(launch_and_fit pid=29448)\u001b[0m  To get the checkpoint\n",
      "\u001b[36m(launch_and_fit pid=29448)\u001b[0m [Client 1, round 37] fit, config: {'learning_rate': 0.003, 'batch_size': '16', 'server_round': 37, 'local_epochs': 10}\n",
      "\u001b[36m(launch_and_fit pid=29448)\u001b[0m Updated model\n",
      "\u001b[36m(launch_and_fit pid=29448)\u001b[0m \tTrain Epoch: 1 \tTrain_loss: 0.6101 | Train_acc: 85.6250 % | Validation_loss: 2.9707 | Validation_acc: 59.5238 %\n"
     ]
    },
    {
     "name": "stderr",
     "output_type": "stream",
     "text": [
      "  0%|\u001b[34m          \u001b[0m| 0/10 [00:00<?, ?it/s]\n"
     ]
    },
    {
     "name": "stdout",
     "output_type": "stream",
     "text": [
      "\u001b[36m(launch_and_fit pid=29448)\u001b[0m \tTrain Epoch: 2 \tTrain_loss: 0.3441 | Train_acc: 89.4750 % | Validation_loss: 2.9359 | Validation_acc: 66.8155 %\n",
      "\u001b[36m(launch_and_fit pid=29448)\u001b[0m \tTrain Epoch: 3 \tTrain_loss: 0.1770 | Train_acc: 94.2250 % | Validation_loss: 3.0812 | Validation_acc: 67.8571 %\n",
      "\u001b[36m(launch_and_fit pid=29448)\u001b[0m \tTrain Epoch: 4 \tTrain_loss: 0.1344 | Train_acc: 95.8750 % | Validation_loss: 3.5083 | Validation_acc: 63.6905 %\n"
     ]
    },
    {
     "name": "stderr",
     "output_type": "stream",
     "text": [
      " 20%|\u001b[34m██        \u001b[0m| 2/10 [00:00<00:00, 10.80it/s]\n",
      " 40%|\u001b[34m████      \u001b[0m| 4/10 [00:00<00:00, 11.39it/s]\n"
     ]
    },
    {
     "name": "stdout",
     "output_type": "stream",
     "text": [
      "\u001b[36m(launch_and_fit pid=29448)\u001b[0m \tTrain Epoch: 5 \tTrain_loss: 0.0934 | Train_acc: 97.6250 % | Validation_loss: 3.8613 | Validation_acc: 65.7738 %\n",
      "\u001b[36m(launch_and_fit pid=29448)\u001b[0m \tTrain Epoch: 6 \tTrain_loss: 0.1115 | Train_acc: 96.1250 % | Validation_loss: 3.6111 | Validation_acc: 66.8155 %\n"
     ]
    },
    {
     "name": "stderr",
     "output_type": "stream",
     "text": [
      " 60%|\u001b[34m██████    \u001b[0m| 6/10 [00:00<00:00, 11.15it/s]\n"
     ]
    },
    {
     "name": "stdout",
     "output_type": "stream",
     "text": [
      "\u001b[36m(launch_and_fit pid=29448)\u001b[0m \tTrain Epoch: 7 \tTrain_loss: 0.0874 | Train_acc: 97.2500 % | Validation_loss: 3.9461 | Validation_acc: 65.7738 %\n",
      "\u001b[36m(launch_and_fit pid=29448)\u001b[0m \tTrain Epoch: 8 \tTrain_loss: 0.0621 | Train_acc: 98.3750 % | Validation_loss: 3.6993 | Validation_acc: 62.6488 %\n"
     ]
    },
    {
     "name": "stderr",
     "output_type": "stream",
     "text": [
      " 80%|\u001b[34m████████  \u001b[0m| 8/10 [00:00<00:00, 11.33it/s]\n",
      "100%|\u001b[34m██████████\u001b[0m| 10/10 [00:00<00:00, 11.25it/s]\n",
      "DEBUG flwr 2024-08-30 01:26:15,093 | server.py:236 | fit_round 37 received 4 results and 0 failures\n"
     ]
    },
    {
     "name": "stdout",
     "output_type": "stream",
     "text": [
      "\u001b[36m(launch_and_fit pid=29448)\u001b[0m \tTrain Epoch: 9 \tTrain_loss: 0.0985 | Train_acc: 96.3750 % | Validation_loss: 3.7235 | Validation_acc: 65.7738 %\n",
      "\u001b[36m(launch_and_fit pid=29448)\u001b[0m \tTrain Epoch: 10 \tTrain_loss: 0.5203 | Train_acc: 83.9750 % | Validation_loss: 3.0888 | Validation_acc: 58.1845 %\n",
      "\u001b[36m(launch_and_fit pid=29448)\u001b[0m save graph in  results/FL/\n",
      "Saving round 37 aggregated_parameters...\n"
     ]
    },
    {
     "name": "stderr",
     "output_type": "stream",
     "text": [
      "INFO flwr 2024-08-30 01:26:15,164 | server.py:125 | fit progress: (37, 2.2485987999222496, {'accuracy': 68.37121212121212}, 584.435972427018)\n",
      "DEBUG flwr 2024-08-30 01:26:15,165 | server.py:173 | evaluate_round 37: strategy sampled 4 clients (out of 4)\n"
     ]
    },
    {
     "name": "stdout",
     "output_type": "stream",
     "text": [
      "Updated model\n",
      "Server-side evaluation loss 2.2485987999222496 / accuracy 68.37121212121212\n",
      "\u001b[36m(launch_and_evaluate pid=29448)\u001b[0m Run WITHOUT homomorphic encryption\n",
      "\u001b[36m(launch_and_evaluate pid=29448)\u001b[0m  To get the checkpoint\n",
      "\u001b[36m(launch_and_evaluate pid=29448)\u001b[0m [Client 2] evaluate, config: {}\n",
      "\u001b[36m(launch_and_evaluate pid=29448)\u001b[0m Updated model\n",
      "\u001b[36m(launch_and_evaluate pid=29448)\u001b[0m Run WITHOUT homomorphic encryption\n",
      "\u001b[36m(launch_and_evaluate pid=29448)\u001b[0m  To get the checkpoint\n",
      "\u001b[36m(launch_and_evaluate pid=29448)\u001b[0m [Client 0] evaluate, config: {}\n",
      "\u001b[36m(launch_and_evaluate pid=29448)\u001b[0m Updated model\n",
      "\u001b[36m(launch_and_evaluate pid=29448)\u001b[0m Run WITHOUT homomorphic encryption\n",
      "\u001b[36m(launch_and_evaluate pid=29448)\u001b[0m  To get the checkpoint\n",
      "\u001b[36m(launch_and_evaluate pid=29448)\u001b[0m [Client 3] evaluate, config: {}\n",
      "\u001b[36m(launch_and_evaluate pid=29448)\u001b[0m Updated model\n",
      "\u001b[36m(launch_and_evaluate pid=29448)\u001b[0m Run WITHOUT homomorphic encryption\n",
      "\u001b[36m(launch_and_evaluate pid=29448)\u001b[0m  To get the checkpoint\n",
      "\u001b[36m(launch_and_evaluate pid=29448)\u001b[0m [Client 1] evaluate, config: {}\n",
      "\u001b[36m(launch_and_evaluate pid=29448)\u001b[0m Updated model\n"
     ]
    },
    {
     "name": "stderr",
     "output_type": "stream",
     "text": [
      "DEBUG flwr 2024-08-30 01:26:17,319 | server.py:187 | evaluate_round 37 received 4 results and 0 failures\n",
      "DEBUG flwr 2024-08-30 01:26:17,320 | server.py:222 | fit_round 38: strategy sampled 4 clients (out of 4)\n"
     ]
    },
    {
     "name": "stdout",
     "output_type": "stream",
     "text": [
      "\u001b[36m(launch_and_fit pid=29448)\u001b[0m Run WITHOUT homomorphic encryption\n",
      "\u001b[36m(launch_and_fit pid=29448)\u001b[0m  To get the checkpoint\n",
      "\u001b[36m(launch_and_fit pid=29448)\u001b[0m [Client 2, round 38] fit, config: {'learning_rate': 0.003, 'batch_size': '16', 'server_round': 38, 'local_epochs': 10}\n",
      "\u001b[36m(launch_and_fit pid=29448)\u001b[0m Updated model\n",
      "\u001b[36m(launch_and_fit pid=29448)\u001b[0m \tTrain Epoch: 1 \tTrain_loss: 0.5297 | Train_acc: 82.9750 % | Validation_loss: 1.7885 | Validation_acc: 70.2381 %\n"
     ]
    },
    {
     "name": "stderr",
     "output_type": "stream",
     "text": [
      "  0%|\u001b[34m          \u001b[0m| 0/10 [00:00<?, ?it/s]\n",
      " 10%|\u001b[34m█         \u001b[0m| 1/10 [00:00<00:00,  9.88it/s]\n"
     ]
    },
    {
     "name": "stdout",
     "output_type": "stream",
     "text": [
      "\u001b[36m(launch_and_fit pid=29448)\u001b[0m \tTrain Epoch: 2 \tTrain_loss: 0.5649 | Train_acc: 84.8750 % | Validation_loss: 1.7556 | Validation_acc: 71.5774 %\n",
      "\u001b[36m(launch_and_fit pid=29448)\u001b[0m \tTrain Epoch: 3 \tTrain_loss: 0.2314 | Train_acc: 93.5000 % | Validation_loss: 1.7595 | Validation_acc: 72.3214 %\n"
     ]
    },
    {
     "name": "stderr",
     "output_type": "stream",
     "text": [
      " 20%|\u001b[34m██        \u001b[0m| 2/10 [00:00<00:00,  9.66it/s]\n"
     ]
    },
    {
     "name": "stdout",
     "output_type": "stream",
     "text": [
      "\u001b[36m(launch_and_fit pid=29448)\u001b[0m \tTrain Epoch: 4 \tTrain_loss: 0.1505 | Train_acc: 95.6250 % | Validation_loss: 1.5132 | Validation_acc: 73.3631 %\n",
      "\u001b[36m(launch_and_fit pid=29448)\u001b[0m \tTrain Epoch: 5 \tTrain_loss: 0.1354 | Train_acc: 95.7250 % | Validation_loss: 1.8221 | Validation_acc: 74.4048 %\n",
      "\u001b[36m(launch_and_fit pid=29448)\u001b[0m \tTrain Epoch: 6 \tTrain_loss: 0.0797 | Train_acc: 98.0000 % | Validation_loss: 1.8538 | Validation_acc: 74.4048 %\n"
     ]
    },
    {
     "name": "stderr",
     "output_type": "stream",
     "text": [
      " 40%|\u001b[34m████      \u001b[0m| 4/10 [00:00<00:00, 10.45it/s]\n",
      " 60%|\u001b[34m██████    \u001b[0m| 6/10 [00:00<00:00, 10.85it/s]\n"
     ]
    },
    {
     "name": "stdout",
     "output_type": "stream",
     "text": [
      "\u001b[36m(launch_and_fit pid=29448)\u001b[0m \tTrain Epoch: 7 \tTrain_loss: 0.0538 | Train_acc: 98.7500 % | Validation_loss: 1.9786 | Validation_acc: 77.5298 %\n",
      "\u001b[36m(launch_and_fit pid=29448)\u001b[0m \tTrain Epoch: 8 \tTrain_loss: 0.0492 | Train_acc: 98.8750 % | Validation_loss: 2.0249 | Validation_acc: 76.4881 %\n"
     ]
    },
    {
     "name": "stderr",
     "output_type": "stream",
     "text": [
      " 80%|\u001b[34m████████  \u001b[0m| 8/10 [00:00<00:00, 10.84it/s]\n"
     ]
    },
    {
     "name": "stdout",
     "output_type": "stream",
     "text": [
      "\u001b[36m(launch_and_fit pid=29448)\u001b[0m \tTrain Epoch: 9 \tTrain_loss: 0.0391 | Train_acc: 99.1250 % | Validation_loss: 2.0414 | Validation_acc: 73.3631 %\n",
      "\u001b[36m(launch_and_fit pid=29448)\u001b[0m \tTrain Epoch: 10 \tTrain_loss: 0.0282 | Train_acc: 99.7500 % | Validation_loss: 2.1661 | Validation_acc: 75.4464 %\n",
      "\u001b[36m(launch_and_fit pid=29448)\u001b[0m save graph in  results/FL/\n"
     ]
    },
    {
     "name": "stderr",
     "output_type": "stream",
     "text": [
      "100%|\u001b[34m██████████\u001b[0m| 10/10 [00:00<00:00, 10.75it/s]\n"
     ]
    },
    {
     "name": "stdout",
     "output_type": "stream",
     "text": [
      "\u001b[36m(launch_and_fit pid=29448)\u001b[0m Run WITHOUT homomorphic encryption\n",
      "\u001b[36m(launch_and_fit pid=29448)\u001b[0m  To get the checkpoint\n",
      "\u001b[36m(launch_and_fit pid=29448)\u001b[0m [Client 0, round 38] fit, config: {'learning_rate': 0.003, 'batch_size': '16', 'server_round': 38, 'local_epochs': 10}\n",
      "\u001b[36m(launch_and_fit pid=29448)\u001b[0m Updated model\n"
     ]
    },
    {
     "name": "stderr",
     "output_type": "stream",
     "text": [
      "  0%|\u001b[34m          \u001b[0m| 0/10 [00:00<?, ?it/s]\n"
     ]
    },
    {
     "name": "stdout",
     "output_type": "stream",
     "text": [
      "\u001b[36m(launch_and_fit pid=29448)\u001b[0m \tTrain Epoch: 1 \tTrain_loss: 0.3687 | Train_acc: 87.1250 % | Validation_loss: 3.2679 | Validation_acc: 62.2024 %\n",
      "\u001b[36m(launch_and_fit pid=29448)\u001b[0m \tTrain Epoch: 2 \tTrain_loss: 0.2311 | Train_acc: 90.7250 % | Validation_loss: 3.2687 | Validation_acc: 62.9464 %\n"
     ]
    },
    {
     "name": "stderr",
     "output_type": "stream",
     "text": [
      " 20%|\u001b[34m██        \u001b[0m| 2/10 [00:00<00:00, 11.37it/s]\n"
     ]
    },
    {
     "name": "stdout",
     "output_type": "stream",
     "text": [
      "\u001b[36m(launch_and_fit pid=29448)\u001b[0m \tTrain Epoch: 3 \tTrain_loss: 0.2710 | Train_acc: 91.3750 % | Validation_loss: 3.3671 | Validation_acc: 62.9464 %\n",
      "\u001b[36m(launch_and_fit pid=29448)\u001b[0m \tTrain Epoch: 4 \tTrain_loss: 0.4131 | Train_acc: 87.9750 % | Validation_loss: 4.4426 | Validation_acc: 61.1607 %\n"
     ]
    },
    {
     "name": "stderr",
     "output_type": "stream",
     "text": [
      " 40%|\u001b[34m████      \u001b[0m| 4/10 [00:00<00:00, 10.92it/s]\n"
     ]
    },
    {
     "name": "stdout",
     "output_type": "stream",
     "text": [
      "\u001b[36m(launch_and_fit pid=29448)\u001b[0m \tTrain Epoch: 5 \tTrain_loss: 0.5078 | Train_acc: 85.7500 % | Validation_loss: 2.6569 | Validation_acc: 61.9048 %\n",
      "\u001b[36m(launch_and_fit pid=29448)\u001b[0m \tTrain Epoch: 6 \tTrain_loss: 0.2443 | Train_acc: 92.3750 % | Validation_loss: 3.1618 | Validation_acc: 60.8631 %\n"
     ]
    },
    {
     "name": "stderr",
     "output_type": "stream",
     "text": [
      " 60%|\u001b[34m██████    \u001b[0m| 6/10 [00:00<00:00, 11.14it/s]\n"
     ]
    },
    {
     "name": "stdout",
     "output_type": "stream",
     "text": [
      "\u001b[36m(launch_and_fit pid=29448)\u001b[0m \tTrain Epoch: 7 \tTrain_loss: 0.1028 | Train_acc: 97.6250 % | Validation_loss: 3.5310 | Validation_acc: 67.4107 %\n",
      "\u001b[36m(launch_and_fit pid=29448)\u001b[0m \tTrain Epoch: 8 \tTrain_loss: 0.0679 | Train_acc: 98.5000 % | Validation_loss: 3.5265 | Validation_acc: 64.2857 %\n",
      "\u001b[36m(launch_and_fit pid=29448)\u001b[0m \tTrain Epoch: 9 \tTrain_loss: 0.0446 | Train_acc: 99.5000 % | Validation_loss: 4.0224 | Validation_acc: 65.3274 %\n"
     ]
    },
    {
     "name": "stderr",
     "output_type": "stream",
     "text": [
      " 80%|\u001b[34m████████  \u001b[0m| 8/10 [00:00<00:00, 10.95it/s]\n",
      "100%|\u001b[34m██████████\u001b[0m| 10/10 [00:00<00:00, 11.17it/s]\n"
     ]
    },
    {
     "name": "stdout",
     "output_type": "stream",
     "text": [
      "\u001b[36m(launch_and_fit pid=29448)\u001b[0m \tTrain Epoch: 10 \tTrain_loss: 0.0343 | Train_acc: 99.6250 % | Validation_loss: 3.7730 | Validation_acc: 67.4107 %\n",
      "\u001b[36m(launch_and_fit pid=29448)\u001b[0m save graph in  results/FL/\n",
      "\u001b[36m(launch_and_fit pid=29448)\u001b[0m Run WITHOUT homomorphic encryption\n",
      "\u001b[36m(launch_and_fit pid=29448)\u001b[0m  To get the checkpoint\n",
      "\u001b[36m(launch_and_fit pid=29448)\u001b[0m [Client 3, round 38] fit, config: {'learning_rate': 0.003, 'batch_size': '16', 'server_round': 38, 'local_epochs': 10}\n",
      "\u001b[36m(launch_and_fit pid=29448)\u001b[0m Updated model\n",
      "\u001b[36m(launch_and_fit pid=29448)\u001b[0m \tTrain Epoch: 1 \tTrain_loss: 0.7491 | Train_acc: 80.7250 % | Validation_loss: 2.1876 | Validation_acc: 66.8155 %\n"
     ]
    },
    {
     "name": "stderr",
     "output_type": "stream",
     "text": [
      "  0%|\u001b[34m          \u001b[0m| 0/10 [00:00<?, ?it/s]\n"
     ]
    },
    {
     "name": "stdout",
     "output_type": "stream",
     "text": [
      "\u001b[36m(launch_and_fit pid=29448)\u001b[0m \tTrain Epoch: 2 \tTrain_loss: 0.2678 | Train_acc: 91.0000 % | Validation_loss: 2.6456 | Validation_acc: 67.8571 %\n",
      "\u001b[36m(launch_and_fit pid=29448)\u001b[0m \tTrain Epoch: 3 \tTrain_loss: 0.1417 | Train_acc: 95.2500 % | Validation_loss: 2.9651 | Validation_acc: 65.7738 %\n",
      "\u001b[36m(launch_and_fit pid=29448)\u001b[0m \tTrain Epoch: 4 \tTrain_loss: 0.1047 | Train_acc: 97.1250 % | Validation_loss: 2.8801 | Validation_acc: 66.8155 %\n"
     ]
    },
    {
     "name": "stderr",
     "output_type": "stream",
     "text": [
      " 20%|\u001b[34m██        \u001b[0m| 2/10 [00:00<00:00, 11.24it/s]\n",
      " 40%|\u001b[34m████      \u001b[0m| 4/10 [00:00<00:00, 11.93it/s]\n"
     ]
    },
    {
     "name": "stdout",
     "output_type": "stream",
     "text": [
      "\u001b[36m(launch_and_fit pid=29448)\u001b[0m \tTrain Epoch: 5 \tTrain_loss: 0.0660 | Train_acc: 98.2500 % | Validation_loss: 3.2830 | Validation_acc: 65.7738 %\n",
      "\u001b[36m(launch_and_fit pid=29448)\u001b[0m \tTrain Epoch: 6 \tTrain_loss: 0.0839 | Train_acc: 97.7500 % | Validation_loss: 3.0223 | Validation_acc: 67.8571 %\n"
     ]
    },
    {
     "name": "stderr",
     "output_type": "stream",
     "text": [
      " 60%|\u001b[34m██████    \u001b[0m| 6/10 [00:00<00:00, 12.01it/s]\n",
      " 80%|\u001b[34m████████  \u001b[0m| 8/10 [00:00<00:00, 11.94it/s]\n"
     ]
    },
    {
     "name": "stdout",
     "output_type": "stream",
     "text": [
      "\u001b[36m(launch_and_fit pid=29448)\u001b[0m \tTrain Epoch: 7 \tTrain_loss: 0.0645 | Train_acc: 98.3750 % | Validation_loss: 3.6153 | Validation_acc: 62.3512 %\n",
      "\u001b[36m(launch_and_fit pid=29448)\u001b[0m \tTrain Epoch: 8 \tTrain_loss: 0.1517 | Train_acc: 94.2250 % | Validation_loss: 3.4291 | Validation_acc: 59.5238 %\n",
      "\u001b[36m(launch_and_fit pid=29448)\u001b[0m \tTrain Epoch: 9 \tTrain_loss: 0.3515 | Train_acc: 88.0000 % | Validation_loss: 5.6929 | Validation_acc: 53.4226 %\n",
      "\u001b[36m(launch_and_fit pid=29448)\u001b[0m \tTrain Epoch: 10 \tTrain_loss: 0.9451 | Train_acc: 76.0000 % | Validation_loss: 2.6667 | Validation_acc: 50.8929 %\n",
      "\u001b[36m(launch_and_fit pid=29448)\u001b[0m save graph in  results/FL/\n"
     ]
    },
    {
     "name": "stderr",
     "output_type": "stream",
     "text": [
      "100%|\u001b[34m██████████\u001b[0m| 10/10 [00:00<00:00, 11.97it/s]\n"
     ]
    },
    {
     "name": "stdout",
     "output_type": "stream",
     "text": [
      "\u001b[36m(launch_and_fit pid=29448)\u001b[0m Run WITHOUT homomorphic encryption\n",
      "\u001b[36m(launch_and_fit pid=29448)\u001b[0m  To get the checkpoint\n",
      "\u001b[36m(launch_and_fit pid=29448)\u001b[0m [Client 1, round 38] fit, config: {'learning_rate': 0.003, 'batch_size': '16', 'server_round': 38, 'local_epochs': 10}\n",
      "\u001b[36m(launch_and_fit pid=29448)\u001b[0m Updated model\n",
      "\u001b[36m(launch_and_fit pid=29448)\u001b[0m \tTrain Epoch: 1 \tTrain_loss: 0.5606 | Train_acc: 83.8750 % | Validation_loss: 3.6463 | Validation_acc: 60.5655 %\n",
      "\u001b[36m(launch_and_fit pid=29448)\u001b[0m \tTrain Epoch: 2 \tTrain_loss: 0.2693 | Train_acc: 90.9500 % | Validation_loss: 2.9420 | Validation_acc: 63.6905 %\n"
     ]
    },
    {
     "name": "stderr",
     "output_type": "stream",
     "text": [
      "  0%|\u001b[34m          \u001b[0m| 0/10 [00:00<?, ?it/s]\n",
      " 20%|\u001b[34m██        \u001b[0m| 2/10 [00:00<00:00, 12.14it/s]\n"
     ]
    },
    {
     "name": "stdout",
     "output_type": "stream",
     "text": [
      "\u001b[36m(launch_and_fit pid=29448)\u001b[0m \tTrain Epoch: 3 \tTrain_loss: 0.3151 | Train_acc: 89.3250 % | Validation_loss: 2.7833 | Validation_acc: 60.5655 %\n",
      "\u001b[36m(launch_and_fit pid=29448)\u001b[0m \tTrain Epoch: 4 \tTrain_loss: 0.4250 | Train_acc: 85.8500 % | Validation_loss: 2.5429 | Validation_acc: 70.9821 %\n"
     ]
    },
    {
     "name": "stderr",
     "output_type": "stream",
     "text": [
      " 40%|\u001b[34m████      \u001b[0m| 4/10 [00:00<00:00, 11.74it/s]\n"
     ]
    },
    {
     "name": "stdout",
     "output_type": "stream",
     "text": [
      "\u001b[36m(launch_and_fit pid=29448)\u001b[0m \tTrain Epoch: 5 \tTrain_loss: 0.1475 | Train_acc: 95.2250 % | Validation_loss: 2.4407 | Validation_acc: 62.6488 %\n",
      "\u001b[36m(launch_and_fit pid=29448)\u001b[0m \tTrain Epoch: 6 \tTrain_loss: 0.1203 | Train_acc: 96.7500 % | Validation_loss: 3.2392 | Validation_acc: 63.3929 %\n"
     ]
    },
    {
     "name": "stderr",
     "output_type": "stream",
     "text": [
      " 60%|\u001b[34m██████    \u001b[0m| 6/10 [00:00<00:00, 11.88it/s]\n",
      " 80%|\u001b[34m████████  \u001b[0m| 8/10 [00:00<00:00, 11.99it/s]\n"
     ]
    },
    {
     "name": "stdout",
     "output_type": "stream",
     "text": [
      "\u001b[36m(launch_and_fit pid=29448)\u001b[0m \tTrain Epoch: 7 \tTrain_loss: 0.0902 | Train_acc: 97.7500 % | Validation_loss: 3.4977 | Validation_acc: 63.6905 %\n",
      "\u001b[36m(launch_and_fit pid=29448)\u001b[0m \tTrain Epoch: 8 \tTrain_loss: 0.0406 | Train_acc: 99.3750 % | Validation_loss: 3.1003 | Validation_acc: 66.8155 %\n",
      "\u001b[36m(launch_and_fit pid=29448)\u001b[0m \tTrain Epoch: 9 \tTrain_loss: 0.0293 | Train_acc: 99.2500 % | Validation_loss: 3.6059 | Validation_acc: 64.7321 %\n"
     ]
    },
    {
     "name": "stderr",
     "output_type": "stream",
     "text": [
      "100%|\u001b[34m██████████\u001b[0m| 10/10 [00:00<00:00, 11.98it/s]\n",
      "DEBUG flwr 2024-08-30 01:26:22,359 | server.py:236 | fit_round 38 received 4 results and 0 failures\n"
     ]
    },
    {
     "name": "stdout",
     "output_type": "stream",
     "text": [
      "\u001b[36m(launch_and_fit pid=29448)\u001b[0m \tTrain Epoch: 10 \tTrain_loss: 0.0239 | Train_acc: 99.6000 % | Validation_loss: 3.7374 | Validation_acc: 64.7321 %\n",
      "\u001b[36m(launch_and_fit pid=29448)\u001b[0m save graph in  results/FL/\n",
      "Saving round 38 aggregated_parameters...\n"
     ]
    },
    {
     "name": "stderr",
     "output_type": "stream",
     "text": [
      "INFO flwr 2024-08-30 01:26:22,523 | server.py:125 | fit progress: (38, 2.4532950704747982, {'accuracy': 70.83333333333334}, 591.7959730569273)\n",
      "DEBUG flwr 2024-08-30 01:26:22,524 | server.py:173 | evaluate_round 38: strategy sampled 4 clients (out of 4)\n"
     ]
    },
    {
     "name": "stdout",
     "output_type": "stream",
     "text": [
      "Updated model\n",
      "Server-side evaluation loss 2.4532950704747982 / accuracy 70.83333333333334\n",
      "\u001b[36m(launch_and_evaluate pid=29448)\u001b[0m Run WITHOUT homomorphic encryption\n",
      "\u001b[36m(launch_and_evaluate pid=29448)\u001b[0m  To get the checkpoint\n",
      "\u001b[36m(launch_and_evaluate pid=29448)\u001b[0m [Client 1] evaluate, config: {}\n",
      "\u001b[36m(launch_and_evaluate pid=29448)\u001b[0m Updated model\n",
      "\u001b[36m(launch_and_evaluate pid=29448)\u001b[0m Run WITHOUT homomorphic encryption\n",
      "\u001b[36m(launch_and_evaluate pid=29448)\u001b[0m  To get the checkpoint\n",
      "\u001b[36m(launch_and_evaluate pid=29448)\u001b[0m [Client 2] evaluate, config: {}\n",
      "\u001b[36m(launch_and_evaluate pid=29448)\u001b[0m Updated model\n",
      "\u001b[36m(launch_and_evaluate pid=29448)\u001b[0m Run WITHOUT homomorphic encryption\n",
      "\u001b[36m(launch_and_evaluate pid=29448)\u001b[0m  To get the checkpoint\n",
      "\u001b[36m(launch_and_evaluate pid=29448)\u001b[0m [Client 0] evaluate, config: {}\n",
      "\u001b[36m(launch_and_evaluate pid=29448)\u001b[0m Updated model\n",
      "\u001b[36m(launch_and_evaluate pid=29448)\u001b[0m Run WITHOUT homomorphic encryption\n",
      "\u001b[36m(launch_and_evaluate pid=29448)\u001b[0m  To get the checkpoint\n",
      "\u001b[36m(launch_and_evaluate pid=29448)\u001b[0m [Client 3] evaluate, config: {}\n",
      "\u001b[36m(launch_and_evaluate pid=29448)\u001b[0m Updated model\n"
     ]
    },
    {
     "name": "stderr",
     "output_type": "stream",
     "text": [
      "DEBUG flwr 2024-08-30 01:26:24,677 | server.py:187 | evaluate_round 38 received 4 results and 0 failures\n",
      "DEBUG flwr 2024-08-30 01:26:24,678 | server.py:222 | fit_round 39: strategy sampled 4 clients (out of 4)\n"
     ]
    },
    {
     "name": "stdout",
     "output_type": "stream",
     "text": [
      "\u001b[36m(launch_and_fit pid=29448)\u001b[0m Run WITHOUT homomorphic encryption\n",
      "\u001b[36m(launch_and_fit pid=29448)\u001b[0m  To get the checkpoint\n",
      "\u001b[36m(launch_and_fit pid=29448)\u001b[0m [Client 0, round 39] fit, config: {'learning_rate': 0.003, 'batch_size': '16', 'server_round': 39, 'local_epochs': 10}\n",
      "\u001b[36m(launch_and_fit pid=29448)\u001b[0m Updated model\n",
      "\u001b[36m(launch_and_fit pid=29448)\u001b[0m \tTrain Epoch: 1 \tTrain_loss: 0.3483 | Train_acc: 88.8750 % | Validation_loss: 2.9032 | Validation_acc: 65.0298 %\n"
     ]
    },
    {
     "name": "stderr",
     "output_type": "stream",
     "text": [
      "  0%|\u001b[34m          \u001b[0m| 0/10 [00:00<?, ?it/s]\n"
     ]
    },
    {
     "name": "stdout",
     "output_type": "stream",
     "text": [
      "\u001b[36m(launch_and_fit pid=29448)\u001b[0m \tTrain Epoch: 2 \tTrain_loss: 0.2183 | Train_acc: 92.8500 % | Validation_loss: 3.6556 | Validation_acc: 62.2024 %\n",
      "\u001b[36m(launch_and_fit pid=29448)\u001b[0m \tTrain Epoch: 3 \tTrain_loss: 0.2829 | Train_acc: 90.3250 % | Validation_loss: 3.3089 | Validation_acc: 64.2857 %\n"
     ]
    },
    {
     "name": "stderr",
     "output_type": "stream",
     "text": [
      " 20%|\u001b[34m██        \u001b[0m| 2/10 [00:00<00:00, 10.10it/s]\n"
     ]
    },
    {
     "name": "stdout",
     "output_type": "stream",
     "text": [
      "\u001b[36m(launch_and_fit pid=29448)\u001b[0m \tTrain Epoch: 4 \tTrain_loss: 0.1750 | Train_acc: 94.3750 % | Validation_loss: 3.8172 | Validation_acc: 66.3690 %\n",
      "\u001b[36m(launch_and_fit pid=29448)\u001b[0m \tTrain Epoch: 5 \tTrain_loss: 0.1111 | Train_acc: 96.3750 % | Validation_loss: 4.4054 | Validation_acc: 63.9881 %\n",
      "\u001b[36m(launch_and_fit pid=29448)\u001b[0m \tTrain Epoch: 6 \tTrain_loss: 0.0868 | Train_acc: 97.2500 % | Validation_loss: 4.0114 | Validation_acc: 62.9464 %\n"
     ]
    },
    {
     "name": "stderr",
     "output_type": "stream",
     "text": [
      " 40%|\u001b[34m████      \u001b[0m| 4/10 [00:00<00:00, 10.67it/s]\n",
      " 60%|\u001b[34m██████    \u001b[0m| 6/10 [00:00<00:00, 10.83it/s]\n"
     ]
    },
    {
     "name": "stdout",
     "output_type": "stream",
     "text": [
      "\u001b[36m(launch_and_fit pid=29448)\u001b[0m \tTrain Epoch: 7 \tTrain_loss: 0.0995 | Train_acc: 96.6000 % | Validation_loss: 4.3955 | Validation_acc: 62.9464 %\n",
      "\u001b[36m(launch_and_fit pid=29448)\u001b[0m \tTrain Epoch: 8 \tTrain_loss: 0.0919 | Train_acc: 97.7500 % | Validation_loss: 3.8729 | Validation_acc: 60.8631 %\n"
     ]
    },
    {
     "name": "stderr",
     "output_type": "stream",
     "text": [
      " 80%|\u001b[34m████████  \u001b[0m| 8/10 [00:00<00:00, 11.25it/s]\n"
     ]
    },
    {
     "name": "stdout",
     "output_type": "stream",
     "text": [
      "\u001b[36m(launch_and_fit pid=29448)\u001b[0m \tTrain Epoch: 9 \tTrain_loss: 0.0614 | Train_acc: 98.1250 % | Validation_loss: 4.4708 | Validation_acc: 60.8631 %\n",
      "\u001b[36m(launch_and_fit pid=29448)\u001b[0m \tTrain Epoch: 10 \tTrain_loss: 0.0253 | Train_acc: 99.7500 % | Validation_loss: 4.8902 | Validation_acc: 63.2440 %\n",
      "\u001b[36m(launch_and_fit pid=29448)\u001b[0m save graph in  results/FL/\n"
     ]
    },
    {
     "name": "stderr",
     "output_type": "stream",
     "text": [
      "100%|\u001b[34m██████████\u001b[0m| 10/10 [00:00<00:00, 11.11it/s]\n"
     ]
    },
    {
     "name": "stdout",
     "output_type": "stream",
     "text": [
      "\u001b[36m(launch_and_fit pid=29448)\u001b[0m Run WITHOUT homomorphic encryption\n",
      "\u001b[36m(launch_and_fit pid=29448)\u001b[0m  To get the checkpoint\n",
      "\u001b[36m(launch_and_fit pid=29448)\u001b[0m [Client 2, round 39] fit, config: {'learning_rate': 0.003, 'batch_size': '16', 'server_round': 39, 'local_epochs': 10}\n",
      "\u001b[36m(launch_and_fit pid=29448)\u001b[0m Updated model\n",
      "\u001b[36m(launch_and_fit pid=29448)\u001b[0m \tTrain Epoch: 1 \tTrain_loss: 0.5618 | Train_acc: 83.3500 % | Validation_loss: 1.5024 | Validation_acc: 74.4048 %\n"
     ]
    },
    {
     "name": "stderr",
     "output_type": "stream",
     "text": [
      "  0%|\u001b[34m          \u001b[0m| 0/10 [00:00<?, ?it/s]\n"
     ]
    },
    {
     "name": "stdout",
     "output_type": "stream",
     "text": [
      "\u001b[36m(launch_and_fit pid=29448)\u001b[0m \tTrain Epoch: 2 \tTrain_loss: 0.1865 | Train_acc: 94.1250 % | Validation_loss: 1.5096 | Validation_acc: 75.4464 %\n",
      "\u001b[36m(launch_and_fit pid=29448)\u001b[0m \tTrain Epoch: 3 \tTrain_loss: 0.2567 | Train_acc: 92.8000 % | Validation_loss: 1.7020 | Validation_acc: 70.2381 %\n"
     ]
    },
    {
     "name": "stderr",
     "output_type": "stream",
     "text": [
      " 20%|\u001b[34m██        \u001b[0m| 2/10 [00:00<00:00, 10.90it/s]\n"
     ]
    },
    {
     "name": "stdout",
     "output_type": "stream",
     "text": [
      "\u001b[36m(launch_and_fit pid=29448)\u001b[0m \tTrain Epoch: 4 \tTrain_loss: 0.6549 | Train_acc: 80.5000 % | Validation_loss: 1.3372 | Validation_acc: 71.2798 %\n",
      "\u001b[36m(launch_and_fit pid=29448)\u001b[0m \tTrain Epoch: 5 \tTrain_loss: 0.3874 | Train_acc: 86.3750 % | Validation_loss: 1.5834 | Validation_acc: 74.4048 %\n",
      "\u001b[36m(launch_and_fit pid=29448)\u001b[0m \tTrain Epoch: 6 \tTrain_loss: 0.1537 | Train_acc: 95.6250 % | Validation_loss: 1.4897 | Validation_acc: 76.7857 %\n"
     ]
    },
    {
     "name": "stderr",
     "output_type": "stream",
     "text": [
      " 40%|\u001b[34m████      \u001b[0m| 4/10 [00:00<00:00, 11.29it/s]\n",
      " 60%|\u001b[34m██████    \u001b[0m| 6/10 [00:00<00:00, 11.27it/s]\n"
     ]
    },
    {
     "name": "stdout",
     "output_type": "stream",
     "text": [
      "\u001b[36m(launch_and_fit pid=29448)\u001b[0m \tTrain Epoch: 7 \tTrain_loss: 0.0661 | Train_acc: 98.6000 % | Validation_loss: 1.7052 | Validation_acc: 72.3214 %\n",
      "\u001b[36m(launch_and_fit pid=29448)\u001b[0m \tTrain Epoch: 8 \tTrain_loss: 0.0407 | Train_acc: 99.3750 % | Validation_loss: 1.8014 | Validation_acc: 75.4464 %\n"
     ]
    },
    {
     "name": "stderr",
     "output_type": "stream",
     "text": [
      " 80%|\u001b[34m████████  \u001b[0m| 8/10 [00:00<00:00, 11.35it/s]\n"
     ]
    },
    {
     "name": "stdout",
     "output_type": "stream",
     "text": [
      "\u001b[36m(launch_and_fit pid=29448)\u001b[0m \tTrain Epoch: 9 \tTrain_loss: 0.0275 | Train_acc: 99.7500 % | Validation_loss: 1.7993 | Validation_acc: 77.8274 %\n",
      "\u001b[36m(launch_and_fit pid=29448)\u001b[0m \tTrain Epoch: 10 \tTrain_loss: 0.0206 | Train_acc: 99.8750 % | Validation_loss: 1.8008 | Validation_acc: 77.8274 %\n",
      "\u001b[36m(launch_and_fit pid=29448)\u001b[0m save graph in  results/FL/\n"
     ]
    },
    {
     "name": "stderr",
     "output_type": "stream",
     "text": [
      "100%|\u001b[34m██████████\u001b[0m| 10/10 [00:00<00:00, 11.27it/s]\n"
     ]
    },
    {
     "name": "stdout",
     "output_type": "stream",
     "text": [
      "\u001b[36m(launch_and_fit pid=29448)\u001b[0m Run WITHOUT homomorphic encryption\n",
      "\u001b[36m(launch_and_fit pid=29448)\u001b[0m  To get the checkpoint\n",
      "\u001b[36m(launch_and_fit pid=29448)\u001b[0m [Client 1, round 39] fit, config: {'learning_rate': 0.003, 'batch_size': '16', 'server_round': 39, 'local_epochs': 10}\n",
      "\u001b[36m(launch_and_fit pid=29448)\u001b[0m Updated model\n",
      "\u001b[36m(launch_and_fit pid=29448)\u001b[0m \tTrain Epoch: 1 \tTrain_loss: 0.5322 | Train_acc: 83.2500 % | Validation_loss: 2.6754 | Validation_acc: 66.8155 %\n",
      "\u001b[36m(launch_and_fit pid=29448)\u001b[0m \tTrain Epoch: 2 \tTrain_loss: 0.1846 | Train_acc: 94.0000 % | Validation_loss: 3.0276 | Validation_acc: 67.8571 %\n"
     ]
    },
    {
     "name": "stderr",
     "output_type": "stream",
     "text": [
      "  0%|\u001b[34m          \u001b[0m| 0/10 [00:00<?, ?it/s]\n",
      " 20%|\u001b[34m██        \u001b[0m| 2/10 [00:00<00:00, 11.43it/s]\n"
     ]
    },
    {
     "name": "stdout",
     "output_type": "stream",
     "text": [
      "\u001b[36m(launch_and_fit pid=29448)\u001b[0m \tTrain Epoch: 3 \tTrain_loss: 0.1439 | Train_acc: 94.8750 % | Validation_loss: 3.0895 | Validation_acc: 62.6488 %\n",
      "\u001b[36m(launch_and_fit pid=29448)\u001b[0m \tTrain Epoch: 4 \tTrain_loss: 0.1670 | Train_acc: 94.1250 % | Validation_loss: 2.5070 | Validation_acc: 66.8155 %\n"
     ]
    },
    {
     "name": "stderr",
     "output_type": "stream",
     "text": [
      " 40%|\u001b[34m████      \u001b[0m| 4/10 [00:00<00:00, 11.25it/s]\n"
     ]
    },
    {
     "name": "stdout",
     "output_type": "stream",
     "text": [
      "\u001b[36m(launch_and_fit pid=29448)\u001b[0m \tTrain Epoch: 5 \tTrain_loss: 0.1605 | Train_acc: 94.8500 % | Validation_loss: 2.8446 | Validation_acc: 67.1131 %\n",
      "\u001b[36m(launch_and_fit pid=29448)\u001b[0m \tTrain Epoch: 6 \tTrain_loss: 0.1818 | Train_acc: 93.2250 % | Validation_loss: 2.8942 | Validation_acc: 66.5179 %\n",
      "\u001b[36m(launch_and_fit pid=29448)\u001b[0m \tTrain Epoch: 7 \tTrain_loss: 0.1148 | Train_acc: 96.1250 % | Validation_loss: 2.9356 | Validation_acc: 68.1548 %\n"
     ]
    },
    {
     "name": "stderr",
     "output_type": "stream",
     "text": [
      " 60%|\u001b[34m██████    \u001b[0m| 6/10 [00:00<00:00, 11.47it/s]\n",
      " 80%|\u001b[34m████████  \u001b[0m| 8/10 [00:00<00:00, 11.76it/s]\n"
     ]
    },
    {
     "name": "stdout",
     "output_type": "stream",
     "text": [
      "\u001b[36m(launch_and_fit pid=29448)\u001b[0m \tTrain Epoch: 8 \tTrain_loss: 0.1116 | Train_acc: 96.5000 % | Validation_loss: 3.7036 | Validation_acc: 64.7321 %\n",
      "\u001b[36m(launch_and_fit pid=29448)\u001b[0m \tTrain Epoch: 9 \tTrain_loss: 0.3530 | Train_acc: 88.9750 % | Validation_loss: 3.2227 | Validation_acc: 64.2857 %\n",
      "\u001b[36m(launch_and_fit pid=29448)\u001b[0m \tTrain Epoch: 10 \tTrain_loss: 0.6696 | Train_acc: 81.5750 % | Validation_loss: 2.2228 | Validation_acc: 59.5238 %\n",
      "\u001b[36m(launch_and_fit pid=29448)\u001b[0m save graph in  results/FL/\n"
     ]
    },
    {
     "name": "stderr",
     "output_type": "stream",
     "text": [
      "100%|\u001b[34m██████████\u001b[0m| 10/10 [00:00<00:00, 11.74it/s]\n"
     ]
    },
    {
     "name": "stdout",
     "output_type": "stream",
     "text": [
      "\u001b[36m(launch_and_fit pid=29448)\u001b[0m Run WITHOUT homomorphic encryption\n",
      "\u001b[36m(launch_and_fit pid=29448)\u001b[0m  To get the checkpoint\n",
      "\u001b[36m(launch_and_fit pid=29448)\u001b[0m [Client 3, round 39] fit, config: {'learning_rate': 0.003, 'batch_size': '16', 'server_round': 39, 'local_epochs': 10}\n",
      "\u001b[36m(launch_and_fit pid=29448)\u001b[0m Updated model\n",
      "\u001b[36m(launch_and_fit pid=29448)\u001b[0m \tTrain Epoch: 1 \tTrain_loss: 0.4991 | Train_acc: 84.6250 % | Validation_loss: 2.4716 | Validation_acc: 66.8155 %\n",
      "\u001b[36m(launch_and_fit pid=29448)\u001b[0m \tTrain Epoch: 2 \tTrain_loss: 0.2413 | Train_acc: 93.1250 % | Validation_loss: 2.4864 | Validation_acc: 62.3512 %\n"
     ]
    },
    {
     "name": "stderr",
     "output_type": "stream",
     "text": [
      "  0%|\u001b[34m          \u001b[0m| 0/10 [00:00<?, ?it/s]\n",
      " 20%|\u001b[34m██        \u001b[0m| 2/10 [00:00<00:00, 11.88it/s]\n"
     ]
    },
    {
     "name": "stdout",
     "output_type": "stream",
     "text": [
      "\u001b[36m(launch_and_fit pid=29448)\u001b[0m \tTrain Epoch: 3 \tTrain_loss: 0.2130 | Train_acc: 93.0000 % | Validation_loss: 2.8300 | Validation_acc: 66.8155 %\n",
      "\u001b[36m(launch_and_fit pid=29448)\u001b[0m \tTrain Epoch: 4 \tTrain_loss: 0.1655 | Train_acc: 95.0000 % | Validation_loss: 2.7467 | Validation_acc: 67.8571 %\n"
     ]
    },
    {
     "name": "stderr",
     "output_type": "stream",
     "text": [
      " 40%|\u001b[34m████      \u001b[0m| 4/10 [00:00<00:00, 11.66it/s]\n"
     ]
    },
    {
     "name": "stdout",
     "output_type": "stream",
     "text": [
      "\u001b[36m(launch_and_fit pid=29448)\u001b[0m \tTrain Epoch: 5 \tTrain_loss: 0.1332 | Train_acc: 96.3750 % | Validation_loss: 2.5722 | Validation_acc: 65.4762 %\n",
      "\u001b[36m(launch_and_fit pid=29448)\u001b[0m \tTrain Epoch: 6 \tTrain_loss: 0.0683 | Train_acc: 98.2500 % | Validation_loss: 2.7854 | Validation_acc: 64.4345 %\n",
      "\u001b[36m(launch_and_fit pid=29448)\u001b[0m \tTrain Epoch: 7 \tTrain_loss: 0.0454 | Train_acc: 98.7500 % | Validation_loss: 3.1039 | Validation_acc: 64.7321 %\n"
     ]
    },
    {
     "name": "stderr",
     "output_type": "stream",
     "text": [
      " 60%|\u001b[34m██████    \u001b[0m| 6/10 [00:00<00:00, 11.90it/s]\n",
      " 80%|\u001b[34m████████  \u001b[0m| 8/10 [00:00<00:00, 11.84it/s]\n"
     ]
    },
    {
     "name": "stdout",
     "output_type": "stream",
     "text": [
      "\u001b[36m(launch_and_fit pid=29448)\u001b[0m \tTrain Epoch: 8 \tTrain_loss: 0.0694 | Train_acc: 98.2500 % | Validation_loss: 3.9771 | Validation_acc: 59.2262 %\n",
      "\u001b[36m(launch_and_fit pid=29448)\u001b[0m \tTrain Epoch: 9 \tTrain_loss: 0.6650 | Train_acc: 80.7250 % | Validation_loss: 2.7899 | Validation_acc: 58.1845 %\n"
     ]
    },
    {
     "name": "stderr",
     "output_type": "stream",
     "text": [
      "100%|\u001b[34m██████████\u001b[0m| 10/10 [00:00<00:00, 11.92it/s]\n",
      "DEBUG flwr 2024-08-30 01:26:30,521 | server.py:236 | fit_round 39 received 4 results and 0 failures\n",
      "INFO flwr 2024-08-30 01:26:30,589 | server.py:125 | fit progress: (39, 2.4483697379177265, {'accuracy': 70.60606060606061}, 599.8610694948584)\n"
     ]
    },
    {
     "name": "stdout",
     "output_type": "stream",
     "text": [
      "\u001b[36m(launch_and_fit pid=29448)\u001b[0m \tTrain Epoch: 10 \tTrain_loss: 0.5899 | Train_acc: 81.1000 % | Validation_loss: 2.6151 | Validation_acc: 62.3512 %\n",
      "\u001b[36m(launch_and_fit pid=29448)\u001b[0m save graph in  results/FL/\n",
      "Saving round 39 aggregated_parameters...\n",
      "Updated model\n",
      "Server-side evaluation loss 2.4483697379177265 / accuracy 70.60606060606061\n"
     ]
    },
    {
     "name": "stderr",
     "output_type": "stream",
     "text": [
      "DEBUG flwr 2024-08-30 01:26:30,595 | server.py:173 | evaluate_round 39: strategy sampled 4 clients (out of 4)\n"
     ]
    },
    {
     "name": "stdout",
     "output_type": "stream",
     "text": [
      "\u001b[36m(launch_and_evaluate pid=29448)\u001b[0m Run WITHOUT homomorphic encryption\n",
      "\u001b[36m(launch_and_evaluate pid=29448)\u001b[0m  To get the checkpoint\n",
      "\u001b[36m(launch_and_evaluate pid=29448)\u001b[0m [Client 0] evaluate, config: {}\n",
      "\u001b[36m(launch_and_evaluate pid=29448)\u001b[0m Updated model\n",
      "\u001b[36m(launch_and_evaluate pid=29448)\u001b[0m Run WITHOUT homomorphic encryption\n",
      "\u001b[36m(launch_and_evaluate pid=29448)\u001b[0m  To get the checkpoint\n",
      "\u001b[36m(launch_and_evaluate pid=29448)\u001b[0m [Client 1] evaluate, config: {}\n",
      "\u001b[36m(launch_and_evaluate pid=29448)\u001b[0m Updated model\n",
      "\u001b[36m(launch_and_evaluate pid=29448)\u001b[0m Run WITHOUT homomorphic encryption\n",
      "\u001b[36m(launch_and_evaluate pid=29448)\u001b[0m  To get the checkpoint\n",
      "\u001b[36m(launch_and_evaluate pid=29448)\u001b[0m [Client 3] evaluate, config: {}\n",
      "\u001b[36m(launch_and_evaluate pid=29448)\u001b[0m Updated model\n",
      "\u001b[36m(launch_and_evaluate pid=29448)\u001b[0m Run WITHOUT homomorphic encryption\n",
      "\u001b[36m(launch_and_evaluate pid=29448)\u001b[0m  To get the checkpoint\n",
      "\u001b[36m(launch_and_evaluate pid=29448)\u001b[0m [Client 2] evaluate, config: {}\n",
      "\u001b[36m(launch_and_evaluate pid=29448)\u001b[0m Updated model\n"
     ]
    },
    {
     "name": "stderr",
     "output_type": "stream",
     "text": [
      "DEBUG flwr 2024-08-30 01:26:32,758 | server.py:187 | evaluate_round 39 received 4 results and 0 failures\n",
      "DEBUG flwr 2024-08-30 01:26:32,759 | server.py:222 | fit_round 40: strategy sampled 4 clients (out of 4)\n"
     ]
    },
    {
     "name": "stdout",
     "output_type": "stream",
     "text": [
      "\u001b[36m(launch_and_fit pid=29448)\u001b[0m Run WITHOUT homomorphic encryption\n",
      "\u001b[36m(launch_and_fit pid=29448)\u001b[0m  To get the checkpoint\n",
      "\u001b[36m(launch_and_fit pid=29448)\u001b[0m [Client 2, round 40] fit, config: {'learning_rate': 0.003, 'batch_size': '16', 'server_round': 40, 'local_epochs': 10}\n",
      "\u001b[36m(launch_and_fit pid=29448)\u001b[0m Updated model\n"
     ]
    },
    {
     "name": "stderr",
     "output_type": "stream",
     "text": [
      "  0%|\u001b[34m          \u001b[0m| 0/10 [00:00<?, ?it/s]\n"
     ]
    },
    {
     "name": "stdout",
     "output_type": "stream",
     "text": [
      "\u001b[36m(launch_and_fit pid=29448)\u001b[0m \tTrain Epoch: 1 \tTrain_loss: 0.4559 | Train_acc: 84.8750 % | Validation_loss: 1.8320 | Validation_acc: 69.1964 %\n",
      "\u001b[36m(launch_and_fit pid=29448)\u001b[0m \tTrain Epoch: 2 \tTrain_loss: 0.2542 | Train_acc: 91.6250 % | Validation_loss: 2.0708 | Validation_acc: 75.4464 %\n"
     ]
    },
    {
     "name": "stderr",
     "output_type": "stream",
     "text": [
      " 20%|\u001b[34m██        \u001b[0m| 2/10 [00:00<00:00, 10.78it/s]\n"
     ]
    },
    {
     "name": "stdout",
     "output_type": "stream",
     "text": [
      "\u001b[36m(launch_and_fit pid=29448)\u001b[0m \tTrain Epoch: 3 \tTrain_loss: 0.1177 | Train_acc: 96.7500 % | Validation_loss: 1.9760 | Validation_acc: 74.4048 %\n",
      "\u001b[36m(launch_and_fit pid=29448)\u001b[0m \tTrain Epoch: 4 \tTrain_loss: 0.0816 | Train_acc: 98.1250 % | Validation_loss: 1.8437 | Validation_acc: 76.7857 %\n"
     ]
    },
    {
     "name": "stderr",
     "output_type": "stream",
     "text": [
      " 40%|\u001b[34m████      \u001b[0m| 4/10 [00:00<00:00, 10.84it/s]\n"
     ]
    },
    {
     "name": "stdout",
     "output_type": "stream",
     "text": [
      "\u001b[36m(launch_and_fit pid=29448)\u001b[0m \tTrain Epoch: 5 \tTrain_loss: 0.0834 | Train_acc: 98.0000 % | Validation_loss: 2.1602 | Validation_acc: 75.4464 %\n",
      "\u001b[36m(launch_and_fit pid=29448)\u001b[0m \tTrain Epoch: 6 \tTrain_loss: 0.0908 | Train_acc: 97.6250 % | Validation_loss: 1.8766 | Validation_acc: 74.4048 %\n"
     ]
    },
    {
     "name": "stderr",
     "output_type": "stream",
     "text": [
      " 60%|\u001b[34m██████    \u001b[0m| 6/10 [00:00<00:00, 11.10it/s]\n",
      " 80%|\u001b[34m████████  \u001b[0m| 8/10 [00:00<00:00, 11.11it/s]\n"
     ]
    },
    {
     "name": "stdout",
     "output_type": "stream",
     "text": [
      "\u001b[36m(launch_and_fit pid=29448)\u001b[0m \tTrain Epoch: 7 \tTrain_loss: 0.0424 | Train_acc: 99.1250 % | Validation_loss: 2.3363 | Validation_acc: 73.3631 %\n",
      "\u001b[36m(launch_and_fit pid=29448)\u001b[0m \tTrain Epoch: 8 \tTrain_loss: 0.0710 | Train_acc: 97.0000 % | Validation_loss: 2.2031 | Validation_acc: 74.4048 %\n",
      "\u001b[36m(launch_and_fit pid=29448)\u001b[0m \tTrain Epoch: 9 \tTrain_loss: 0.9264 | Train_acc: 75.8500 % | Validation_loss: 2.3276 | Validation_acc: 47.3214 %\n",
      "\u001b[36m(launch_and_fit pid=29448)\u001b[0m \tTrain Epoch: 10 \tTrain_loss: 0.8737 | Train_acc: 72.8500 % | Validation_loss: 1.3172 | Validation_acc: 65.0298 %\n",
      "\u001b[36m(launch_and_fit pid=29448)\u001b[0m save graph in  results/FL/\n"
     ]
    },
    {
     "name": "stderr",
     "output_type": "stream",
     "text": [
      "100%|\u001b[34m██████████\u001b[0m| 10/10 [00:00<00:00, 11.17it/s]\n"
     ]
    },
    {
     "name": "stdout",
     "output_type": "stream",
     "text": [
      "\u001b[36m(launch_and_fit pid=29448)\u001b[0m Run WITHOUT homomorphic encryption\n",
      "\u001b[36m(launch_and_fit pid=29448)\u001b[0m  To get the checkpoint\n",
      "\u001b[36m(launch_and_fit pid=29448)\u001b[0m [Client 3, round 40] fit, config: {'learning_rate': 0.003, 'batch_size': '16', 'server_round': 40, 'local_epochs': 10}\n",
      "\u001b[36m(launch_and_fit pid=29448)\u001b[0m Updated model\n",
      "\u001b[36m(launch_and_fit pid=29448)\u001b[0m \tTrain Epoch: 1 \tTrain_loss: 0.5316 | Train_acc: 84.3750 % | Validation_loss: 2.2632 | Validation_acc: 67.8571 %\n",
      "\u001b[36m(launch_and_fit pid=29448)\u001b[0m \tTrain Epoch: 2 \tTrain_loss: 0.1472 | Train_acc: 95.2500 % | Validation_loss: 2.5159 | Validation_acc: 69.9405 %\n"
     ]
    },
    {
     "name": "stderr",
     "output_type": "stream",
     "text": [
      "  0%|\u001b[34m          \u001b[0m| 0/10 [00:00<?, ?it/s]\n",
      " 20%|\u001b[34m██        \u001b[0m| 2/10 [00:00<00:00, 12.22it/s]\n"
     ]
    },
    {
     "name": "stdout",
     "output_type": "stream",
     "text": [
      "\u001b[36m(launch_and_fit pid=29448)\u001b[0m \tTrain Epoch: 3 \tTrain_loss: 0.0756 | Train_acc: 98.2500 % | Validation_loss: 2.8015 | Validation_acc: 68.8988 %\n",
      "\u001b[36m(launch_and_fit pid=29448)\u001b[0m \tTrain Epoch: 4 \tTrain_loss: 0.0757 | Train_acc: 98.0000 % | Validation_loss: 3.1721 | Validation_acc: 66.8155 %\n"
     ]
    },
    {
     "name": "stderr",
     "output_type": "stream",
     "text": [
      " 40%|\u001b[34m████      \u001b[0m| 4/10 [00:00<00:00, 11.81it/s]\n"
     ]
    },
    {
     "name": "stdout",
     "output_type": "stream",
     "text": [
      "\u001b[36m(launch_and_fit pid=29448)\u001b[0m \tTrain Epoch: 5 \tTrain_loss: 0.1152 | Train_acc: 96.2250 % | Validation_loss: 3.6288 | Validation_acc: 62.3512 %\n",
      "\u001b[36m(launch_and_fit pid=29448)\u001b[0m \tTrain Epoch: 6 \tTrain_loss: 0.4416 | Train_acc: 86.4750 % | Validation_loss: 4.1263 | Validation_acc: 57.8869 %\n"
     ]
    },
    {
     "name": "stderr",
     "output_type": "stream",
     "text": [
      " 60%|\u001b[34m██████    \u001b[0m| 6/10 [00:00<00:00, 11.74it/s]\n"
     ]
    },
    {
     "name": "stdout",
     "output_type": "stream",
     "text": [
      "\u001b[36m(launch_and_fit pid=29448)\u001b[0m \tTrain Epoch: 7 \tTrain_loss: 0.4517 | Train_acc: 86.3500 % | Validation_loss: 2.4864 | Validation_acc: 60.2679 %\n",
      "\u001b[36m(launch_and_fit pid=29448)\u001b[0m \tTrain Epoch: 8 \tTrain_loss: 0.1611 | Train_acc: 94.5000 % | Validation_loss: 3.0650 | Validation_acc: 66.5179 %\n",
      "\u001b[36m(launch_and_fit pid=29448)\u001b[0m \tTrain Epoch: 9 \tTrain_loss: 0.0816 | Train_acc: 97.2500 % | Validation_loss: 3.5296 | Validation_acc: 63.6905 %\n"
     ]
    },
    {
     "name": "stderr",
     "output_type": "stream",
     "text": [
      " 80%|\u001b[34m████████  \u001b[0m| 8/10 [00:00<00:00, 11.52it/s]\n",
      "100%|\u001b[34m██████████\u001b[0m| 10/10 [00:00<00:00, 11.74it/s]\n"
     ]
    },
    {
     "name": "stdout",
     "output_type": "stream",
     "text": [
      "\u001b[36m(launch_and_fit pid=29448)\u001b[0m \tTrain Epoch: 10 \tTrain_loss: 0.0729 | Train_acc: 98.0000 % | Validation_loss: 3.0476 | Validation_acc: 64.4345 %\n",
      "\u001b[36m(launch_and_fit pid=29448)\u001b[0m save graph in  results/FL/\n",
      "\u001b[36m(launch_and_fit pid=29448)\u001b[0m Run WITHOUT homomorphic encryption\n",
      "\u001b[36m(launch_and_fit pid=29448)\u001b[0m  To get the checkpoint\n",
      "\u001b[36m(launch_and_fit pid=29448)\u001b[0m [Client 1, round 40] fit, config: {'learning_rate': 0.003, 'batch_size': '16', 'server_round': 40, 'local_epochs': 10}\n",
      "\u001b[36m(launch_and_fit pid=29448)\u001b[0m Updated model\n",
      "\u001b[36m(launch_and_fit pid=29448)\u001b[0m \tTrain Epoch: 1 \tTrain_loss: 0.4102 | Train_acc: 86.2500 % | Validation_loss: 2.6597 | Validation_acc: 66.8155 %\n"
     ]
    },
    {
     "name": "stderr",
     "output_type": "stream",
     "text": [
      "  0%|\u001b[34m          \u001b[0m| 0/10 [00:00<?, ?it/s]\n"
     ]
    },
    {
     "name": "stdout",
     "output_type": "stream",
     "text": [
      "\u001b[36m(launch_and_fit pid=29448)\u001b[0m \tTrain Epoch: 2 \tTrain_loss: 0.1864 | Train_acc: 94.5000 % | Validation_loss: 2.1419 | Validation_acc: 61.6071 %\n",
      "\u001b[36m(launch_and_fit pid=29448)\u001b[0m \tTrain Epoch: 3 \tTrain_loss: 0.1102 | Train_acc: 96.0000 % | Validation_loss: 3.0560 | Validation_acc: 63.6905 %\n",
      "\u001b[36m(launch_and_fit pid=29448)\u001b[0m \tTrain Epoch: 4 \tTrain_loss: 0.1377 | Train_acc: 95.3750 % | Validation_loss: 3.8985 | Validation_acc: 63.6905 %\n"
     ]
    },
    {
     "name": "stderr",
     "output_type": "stream",
     "text": [
      " 20%|\u001b[34m██        \u001b[0m| 2/10 [00:00<00:00, 11.62it/s]\n",
      " 40%|\u001b[34m████      \u001b[0m| 4/10 [00:00<00:00, 12.32it/s]\n"
     ]
    },
    {
     "name": "stdout",
     "output_type": "stream",
     "text": [
      "\u001b[36m(launch_and_fit pid=29448)\u001b[0m \tTrain Epoch: 5 \tTrain_loss: 0.2282 | Train_acc: 92.8500 % | Validation_loss: 2.7026 | Validation_acc: 65.0298 %\n",
      "\u001b[36m(launch_and_fit pid=29448)\u001b[0m \tTrain Epoch: 6 \tTrain_loss: 0.2585 | Train_acc: 90.3750 % | Validation_loss: 2.8381 | Validation_acc: 62.6488 %\n"
     ]
    },
    {
     "name": "stderr",
     "output_type": "stream",
     "text": [
      " 60%|\u001b[34m██████    \u001b[0m| 6/10 [00:00<00:00, 12.38it/s]\n",
      " 80%|\u001b[34m████████  \u001b[0m| 8/10 [00:00<00:00, 12.66it/s]\n"
     ]
    },
    {
     "name": "stdout",
     "output_type": "stream",
     "text": [
      "\u001b[36m(launch_and_fit pid=29448)\u001b[0m \tTrain Epoch: 7 \tTrain_loss: 0.3055 | Train_acc: 90.6250 % | Validation_loss: 2.6045 | Validation_acc: 66.8155 %\n",
      "\u001b[36m(launch_and_fit pid=29448)\u001b[0m \tTrain Epoch: 8 \tTrain_loss: 0.4481 | Train_acc: 85.9250 % | Validation_loss: 1.7260 | Validation_acc: 68.8988 %\n",
      "\u001b[36m(launch_and_fit pid=29448)\u001b[0m \tTrain Epoch: 9 \tTrain_loss: 0.2673 | Train_acc: 92.2250 % | Validation_loss: 2.1692 | Validation_acc: 66.8155 %\n",
      "\u001b[36m(launch_and_fit pid=29448)\u001b[0m \tTrain Epoch: 10 \tTrain_loss: 0.2759 | Train_acc: 91.5000 % | Validation_loss: 2.0878 | Validation_acc: 67.5595 %\n",
      "\u001b[36m(launch_and_fit pid=29448)\u001b[0m save graph in  results/FL/\n"
     ]
    },
    {
     "name": "stderr",
     "output_type": "stream",
     "text": [
      "100%|\u001b[34m██████████\u001b[0m| 10/10 [00:00<00:00, 12.26it/s]\n"
     ]
    },
    {
     "name": "stdout",
     "output_type": "stream",
     "text": [
      "\u001b[36m(launch_and_fit pid=29448)\u001b[0m Run WITHOUT homomorphic encryption\n",
      "\u001b[36m(launch_and_fit pid=29448)\u001b[0m  To get the checkpoint\n",
      "\u001b[36m(launch_and_fit pid=29448)\u001b[0m [Client 0, round 40] fit, config: {'learning_rate': 0.003, 'batch_size': '16', 'server_round': 40, 'local_epochs': 10}\n",
      "\u001b[36m(launch_and_fit pid=29448)\u001b[0m Updated model\n",
      "\u001b[36m(launch_and_fit pid=29448)\u001b[0m \tTrain Epoch: 1 \tTrain_loss: 0.3099 | Train_acc: 88.9750 % | Validation_loss: 3.0223 | Validation_acc: 65.0298 %\n"
     ]
    },
    {
     "name": "stderr",
     "output_type": "stream",
     "text": [
      "  0%|\u001b[34m          \u001b[0m| 0/10 [00:00<?, ?it/s]\n"
     ]
    },
    {
     "name": "stdout",
     "output_type": "stream",
     "text": [
      "\u001b[36m(launch_and_fit pid=29448)\u001b[0m \tTrain Epoch: 2 \tTrain_loss: 0.1875 | Train_acc: 93.6250 % | Validation_loss: 3.5373 | Validation_acc: 63.9881 %\n",
      "\u001b[36m(launch_and_fit pid=29448)\u001b[0m \tTrain Epoch: 3 \tTrain_loss: 0.1428 | Train_acc: 95.7500 % | Validation_loss: 4.2189 | Validation_acc: 63.9881 %\n",
      "\u001b[36m(launch_and_fit pid=29448)\u001b[0m \tTrain Epoch: 4 \tTrain_loss: 0.1732 | Train_acc: 95.8750 % | Validation_loss: 3.1444 | Validation_acc: 58.4821 %\n"
     ]
    },
    {
     "name": "stderr",
     "output_type": "stream",
     "text": [
      " 20%|\u001b[34m██        \u001b[0m| 2/10 [00:00<00:00, 11.05it/s]\n",
      " 40%|\u001b[34m████      \u001b[0m| 4/10 [00:00<00:00, 11.56it/s]\n"
     ]
    },
    {
     "name": "stdout",
     "output_type": "stream",
     "text": [
      "\u001b[36m(launch_and_fit pid=29448)\u001b[0m \tTrain Epoch: 5 \tTrain_loss: 0.3993 | Train_acc: 88.2000 % | Validation_loss: 3.1823 | Validation_acc: 62.9464 %\n",
      "\u001b[36m(launch_and_fit pid=29448)\u001b[0m \tTrain Epoch: 6 \tTrain_loss: 0.2011 | Train_acc: 93.7250 % | Validation_loss: 4.0450 | Validation_acc: 63.9881 %\n"
     ]
    },
    {
     "name": "stderr",
     "output_type": "stream",
     "text": [
      " 60%|\u001b[34m██████    \u001b[0m| 6/10 [00:00<00:00, 11.66it/s]\n"
     ]
    },
    {
     "name": "stdout",
     "output_type": "stream",
     "text": [
      "\u001b[36m(launch_and_fit pid=29448)\u001b[0m \tTrain Epoch: 7 \tTrain_loss: 0.3606 | Train_acc: 88.9750 % | Validation_loss: 3.4507 | Validation_acc: 63.6905 %\n",
      "\u001b[36m(launch_and_fit pid=29448)\u001b[0m \tTrain Epoch: 8 \tTrain_loss: 0.1436 | Train_acc: 95.3750 % | Validation_loss: 3.4615 | Validation_acc: 60.8631 %\n",
      "\u001b[36m(launch_and_fit pid=29448)\u001b[0m \tTrain Epoch: 9 \tTrain_loss: 0.0713 | Train_acc: 97.7500 % | Validation_loss: 3.6985 | Validation_acc: 59.8214 %\n"
     ]
    },
    {
     "name": "stderr",
     "output_type": "stream",
     "text": [
      " 80%|\u001b[34m████████  \u001b[0m| 8/10 [00:00<00:00, 11.61it/s]\n",
      "100%|\u001b[34m██████████\u001b[0m| 10/10 [00:00<00:00, 11.70it/s]\n",
      "DEBUG flwr 2024-08-30 01:26:37,747 | server.py:236 | fit_round 40 received 4 results and 0 failures\n",
      "INFO flwr 2024-08-30 01:26:37,813 | server.py:125 | fit progress: (40, 2.369301781329242, {'accuracy': 72.91666666666666}, 607.085950944107)\n",
      "DEBUG flwr 2024-08-30 01:26:37,814 | server.py:173 | evaluate_round 40: strategy sampled 4 clients (out of 4)\n"
     ]
    },
    {
     "name": "stdout",
     "output_type": "stream",
     "text": [
      "\u001b[36m(launch_and_fit pid=29448)\u001b[0m \tTrain Epoch: 10 \tTrain_loss: 0.0321 | Train_acc: 99.7500 % | Validation_loss: 4.3648 | Validation_acc: 58.4821 %\n",
      "\u001b[36m(launch_and_fit pid=29448)\u001b[0m save graph in  results/FL/\n",
      "Saving round 40 aggregated_parameters...\n",
      "Updated model\n",
      "Server-side evaluation loss 2.369301781329242 / accuracy 72.91666666666666\n",
      "\u001b[36m(launch_and_evaluate pid=29448)\u001b[0m Run WITHOUT homomorphic encryption\n",
      "\u001b[36m(launch_and_evaluate pid=29448)\u001b[0m  To get the checkpoint\n",
      "\u001b[36m(launch_and_evaluate pid=29448)\u001b[0m [Client 2] evaluate, config: {}\n",
      "\u001b[36m(launch_and_evaluate pid=29448)\u001b[0m Updated model\n",
      "\u001b[36m(launch_and_evaluate pid=29448)\u001b[0m Run WITHOUT homomorphic encryption\n",
      "\u001b[36m(launch_and_evaluate pid=29448)\u001b[0m  To get the checkpoint\n",
      "\u001b[36m(launch_and_evaluate pid=29448)\u001b[0m [Client 1] evaluate, config: {}\n",
      "\u001b[36m(launch_and_evaluate pid=29448)\u001b[0m Updated model\n",
      "\u001b[36m(launch_and_evaluate pid=29448)\u001b[0m Run WITHOUT homomorphic encryption\n",
      "\u001b[36m(launch_and_evaluate pid=29448)\u001b[0m  To get the checkpoint\n",
      "\u001b[36m(launch_and_evaluate pid=29448)\u001b[0m [Client 3] evaluate, config: {}\n",
      "\u001b[36m(launch_and_evaluate pid=29448)\u001b[0m Updated model\n",
      "\u001b[36m(launch_and_evaluate pid=29448)\u001b[0m Run WITHOUT homomorphic encryption\n",
      "\u001b[36m(launch_and_evaluate pid=29448)\u001b[0m  To get the checkpoint\n",
      "\u001b[36m(launch_and_evaluate pid=29448)\u001b[0m [Client 0] evaluate, config: {}\n",
      "\u001b[36m(launch_and_evaluate pid=29448)\u001b[0m Updated model\n"
     ]
    },
    {
     "name": "stderr",
     "output_type": "stream",
     "text": [
      "DEBUG flwr 2024-08-30 01:26:39,969 | server.py:187 | evaluate_round 40 received 4 results and 0 failures\n",
      "INFO flwr 2024-08-30 01:26:39,969 | server.py:153 | FL finished in 609.2416084557772\n",
      "INFO flwr 2024-08-30 01:26:39,973 | app.py:225 | app_fit: losses_distributed [(1, 1.8586061000823975), (2, 1.7226580778757732), (3, 1.668030137817065), (4, 1.5786323994398117), (5, 1.6311239053805668), (6, 1.5391101489464443), (7, 1.5003953327735264), (8, 1.4924323558807373), (9, 1.4115215241909027), (10, 1.485073650876681), (11, 1.3965484946966171), (12, 1.398057500521342), (13, 1.4229944224158924), (14, 1.3566220253705978), (15, 1.3562237819035847), (16, 1.3370715230703354), (17, 1.3316348244746525), (18, 1.2954178750514984), (19, 1.349035307765007), (20, 1.4686990082263947), (21, 1.4311769604682922), (22, 1.447026401758194), (23, 1.6052251681685448), (24, 1.5002171223362286), (25, 1.6552487164735794), (26, 1.6056970208883286), (27, 1.6169306561350822), (28, 1.6193621506293614), (29, 1.7060403724511464), (30, 1.9290028748412926), (31, 1.7473716313640277), (32, 1.9811646826565266), (33, 2.047774496177832), (34, 2.035436692337195), (35, 2.0440152126053968), (36, 2.4241728956500688), (37, 1.8377364948391914), (38, 2.067470175524553), (39, 2.0287501588463783), (40, 1.8757235072553158)]\n",
      "INFO flwr 2024-08-30 01:26:39,974 | app.py:226 | app_fit: metrics_distributed_fit {}\n",
      "INFO flwr 2024-08-30 01:26:39,974 | app.py:227 | app_fit: metrics_distributed {'accuracy': [(1, 34.44940476190476), (2, 34.67261904761905), (3, 34.48660714285714), (4, 38.950892857142854), (5, 35.751488095238095), (6, 43.638392857142854), (7, 42.708333333333336), (8, 43.19196428571428), (9, 48.177083333333336), (10, 43.82440476190476), (11, 48.77232142857142), (12, 50.66964285714286), (13, 48.77232142857142), (14, 51.59970238095238), (15, 56.69642857142858), (16, 53.236607142857146), (17, 57.291666666666664), (18, 59.74702380952382), (19, 56.28720238095238), (20, 55.171130952380956), (21, 64.95535714285715), (22, 63.132440476190474), (23, 64.36011904761905), (24, 60.97470238095238), (25, 59.48660714285714), (26, 64.0252976190476), (27, 64.62053571428572), (28, 65.40178571428571), (29, 65.84821428571428), (30, 68.00595238095238), (31, 68.86160714285715), (32, 68.67559523809524), (33, 70.16369047619048), (34, 69.38244047619048), (35, 69.38244047619047), (36, 70.94494047619048), (37, 69.38244047619048), (38, 72.58184523809523), (39, 71.27976190476191), (40, 72.06101190476191)]}\n",
      "INFO flwr 2024-08-30 01:26:39,974 | app.py:228 | app_fit: losses_centralized [(0, 1.9376704237677835), (1, 1.871138124032454), (2, 1.7543956604870883), (3, 1.708500868623907), (4, 1.6281153592196378), (5, 1.6735988096757368), (6, 1.6154594638130881), (7, 1.5798128214749423), (8, 1.5598142168738625), (9, 1.507030153274536), (10, 1.593534855409102), (11, 1.4973993691531096), (12, 1.4742977987636219), (13, 1.5763073433529247), (14, 1.5091387900439175), (15, 1.597981339151209), (16, 1.5478107105601917), (17, 1.6045038028196854), (18, 1.6953206593340093), (19, 1.6427663375030865), (20, 1.818124920129776), (21, 1.9125786125659943), (22, 1.8289619499986822), (23, 1.9481402440504594), (24, 1.7625972791151567), (25, 1.9170942306518555), (26, 2.0654079415581443), (27, 2.1441455884413285), (28, 2.0299324940551413), (29, 2.021322748335925), (30, 2.563392429460179), (31, 2.117829192768444), (32, 2.5505269343202763), (33, 2.600107548453591), (34, 2.433700811321085), (35, 2.68459118523381), (36, 2.718244925412265), (37, 2.2485987999222496), (38, 2.4532950704747982), (39, 2.4483697379177265), (40, 2.369301781329242)]\n",
      "INFO flwr 2024-08-30 01:26:39,975 | app.py:229 | app_fit: metrics_centralized {'accuracy': [(0, 17.689393939393938), (1, 31.363636363636367), (2, 33.409090909090914), (3, 35.64393939393939), (4, 39.166666666666664), (5, 35.15151515151515), (6, 40.45454545454545), (7, 41.060606060606055), (8, 43.18181818181818), (9, 44.810606060606055), (10, 43.06818181818181), (11, 48.06818181818181), (12, 46.40151515151515), (13, 47.310606060606055), (14, 50.378787878787875), (15, 50.94696969696969), (16, 52.34848484848486), (17, 56.477272727272734), (18, 58.06818181818182), (19, 59.09090909090909), (20, 57.840909090909086), (21, 64.0530303030303), (22, 62.84090909090909), (23, 65.41666666666667), (24, 60.037878787878796), (25, 61.28787878787879), (26, 63.4469696969697), (27, 65.9469696969697), (28, 68.25757575757575), (29, 68.4469696969697), (30, 68.78787878787878), (31, 67.65151515151516), (32, 68.4090909090909), (33, 70.64393939393939), (34, 71.25), (35, 69.46969696969697), (36, 71.66666666666667), (37, 68.37121212121212), (38, 70.83333333333334), (39, 70.60606060606061), (40, 72.91666666666666)]}\n"
     ]
    },
    {
     "name": "stdout",
     "output_type": "stream",
     "text": [
      "Simulation Time = 611.9623293876648 seconds\n"
     ]
    }
   ],
   "source": [
    "import warnings\n",
    "warnings.simplefilter(\"ignore\")\n",
    "\n",
    "print(\"flwr\", fl.__version__)\n",
    "print(\"numpy\", np.__version__)\n",
    "print(\"torch\", torch.__version__)\n",
    "print(\"torchvision\", torchvision.__version__)\n",
    "print(f\"Training on {DEVICE}\")\n",
    "\n",
    "client_resources = None\n",
    "\n",
    "if DEVICE.type == \"cuda\":\n",
    "    client_resources = {\"num_gpus\": 1}\n",
    "\n",
    "model_save = model_save\n",
    "path_yaml = yaml_path\n",
    "path_roc = roc_path\n",
    "results_save = save_results\n",
    "path_matrix = matrix_path\n",
    "batch_size = batch_size\n",
    "he = he\n",
    "secret_path = 'secret.pkl'\n",
    "server_path = 'secret.pkl'\n",
    "path_crypted = 'server.pkl'\n",
    "\n",
    "print(\"Start simulation\")\n",
    "start_simulation = time.time()\n",
    "fl.simulation.start_simulation(\n",
    "    client_fn=client_fn,\n",
    "    num_clients=number_clients,\n",
    "    config=fl.server.ServerConfig(num_rounds=rounds),\n",
    "    strategy=strategy,\n",
    "    client_resources=client_resources\n",
    ")\n",
    "print(f\"Simulation Time = {time.time() - start_simulation} seconds\")"
   ]
  }
 ],
 "metadata": {
  "kernelspec": {
   "display_name": "Python 3 (ipykernel)",
   "language": "python",
   "name": "python3"
  },
  "language_info": {
   "codemirror_mode": {
    "name": "ipython",
    "version": 3
   },
   "file_extension": ".py",
   "mimetype": "text/x-python",
   "name": "python",
   "nbconvert_exporter": "python",
   "pygments_lexer": "ipython3",
   "version": "3.10.12"
  }
 },
 "nbformat": 4,
 "nbformat_minor": 4
}

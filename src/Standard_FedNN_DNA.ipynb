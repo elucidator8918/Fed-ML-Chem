{
 "cells": [
  {
   "cell_type": "markdown",
   "metadata": {},
   "source": [
    "### Import necessary libraries and modules"
   ]
  },
  {
   "cell_type": "code",
   "execution_count": 1,
   "metadata": {},
   "outputs": [],
   "source": [
    "# %%bash\n",
    "\n",
    "# kaggle datasets download -d nageshsingh/dna-sequence-dataset\n",
    "# mkdir data data/DNA\n",
    "# unzip dna-sequence-dataset.zip -d data/DNA\n",
    "# rm dna-sequence-dataset.zip"
   ]
  },
  {
   "cell_type": "code",
   "execution_count": 2,
   "metadata": {},
   "outputs": [],
   "source": [
    "import os\n",
    "import pickle\n",
    "import time\n",
    "from collections import OrderedDict\n",
    "from typing import (\n",
    "    List, Tuple, Dict, Optional, Callable, Union\n",
    ")\n",
    "\n",
    "import numpy as np\n",
    "import torchvision\n",
    "import torch\n",
    "from torch import nn\n",
    "import torch.nn.functional as F\n",
    "import flwr as fl\n",
    "from flwr.common import (\n",
    "    Metrics, EvaluateIns, EvaluateRes, FitIns, FitRes, MetricsAggregationFn, \n",
    "    Scalar, logger, ndarrays_to_parameters, parameters_to_ndarrays,\n",
    "    Parameters, NDArrays\n",
    ")\n",
    "\n",
    "from flwr.server.client_proxy import ClientProxy\n",
    "from flwr.server.client_manager import ClientManager\n",
    "from flwr.server.strategy.aggregate import weighted_loss_avg, aggregate\n",
    "from logging import WARNING\n",
    "\n",
    "from utils import *\n",
    "\n",
    "os.environ['TOKENIZERS_PARALLELISM'] = 'false'"
   ]
  },
  {
   "cell_type": "markdown",
   "metadata": {},
   "source": [
    "### Model Architecture Creation"
   ]
  },
  {
   "cell_type": "code",
   "execution_count": 3,
   "metadata": {},
   "outputs": [],
   "source": [
    "class Net(nn.Module):\n",
    "    \"\"\"\n",
    "    Args:\n",
    "        num_classes: An integer indicating the number of classes in the dataset.\n",
    "    \"\"\"\n",
    "    def __init__(self, num_classes=10) -> None:\n",
    "        super(Net, self).__init__()\n",
    "        self.fc1 = nn.Linear(384, 1024)\n",
    "        self.fc2 = nn.Linear(1024, 512)\n",
    "        self.fc3 = nn.Linear(512, 256)\n",
    "        self.fc4 = nn.Linear(256, 128)\n",
    "        self.fc5 = nn.Linear(128, num_classes)        \n",
    "\n",
    "    def forward(self, x: torch.Tensor) -> torch.Tensor:\n",
    "        \"\"\"\n",
    "        Forward pass of the neural network\n",
    "        \"\"\"\n",
    "        x = F.relu(self.fc1(x))\n",
    "        x = F.relu(self.fc2(x))\n",
    "        x = F.relu(self.fc3(x))\n",
    "        x = F.relu(self.fc4(x))\n",
    "        \n",
    "        x = self.fc5(x)\n",
    "        return x"
   ]
  },
  {
   "cell_type": "markdown",
   "metadata": {},
   "source": [
    "### Define the FlowerClient class for federated learning"
   ]
  },
  {
   "cell_type": "code",
   "execution_count": 4,
   "metadata": {},
   "outputs": [],
   "source": [
    "class FlowerClient(fl.client.NumPyClient):\n",
    "    def __init__(self, cid, net, trainloader, valloader, device, batch_size, save_results, matrix_path, roc_path,\n",
    "                 yaml_path, classes):\n",
    "        self.net = net\n",
    "        self.trainloader = trainloader\n",
    "        self.valloader = valloader\n",
    "        self.cid = cid\n",
    "        self.device = device\n",
    "        self.batch_size = batch_size\n",
    "        self.save_results = save_results\n",
    "        self.matrix_path = matrix_path\n",
    "        self.roc_path = roc_path\n",
    "        self.yaml_path = yaml_path\n",
    "        self.classes = classes\n",
    "\n",
    "    def get_parameters(self, config):\n",
    "        print(f\"[Client {self.cid}] get_parameters\")\n",
    "        return get_parameters2(self.net)\n",
    "\n",
    "    def fit(self, parameters, config):\n",
    "        server_round = config['server_round']\n",
    "        local_epochs = config['local_epochs']\n",
    "        lr = float(config[\"learning_rate\"])\n",
    "\n",
    "        print(f'[Client {self.cid}, round {server_round}] fit, config: {config}')\n",
    "\n",
    "        set_parameters(self.net, parameters)\n",
    "\n",
    "        criterion = torch.nn.CrossEntropyLoss()\n",
    "        optimizer = torch.optim.Adam(self.net.parameters(), lr=lr)\n",
    "\n",
    "        results = engine.train(self.net, self.trainloader, self.valloader, optimizer=optimizer, loss_fn=criterion,\n",
    "                               epochs=local_epochs, device=self.device)\n",
    "\n",
    "        if self.save_results:\n",
    "            save_graphs(self.save_results, local_epochs, results, f\"_Client {self.cid}\")\n",
    "\n",
    "        return get_parameters2(self.net), len(self.trainloader), {}\n",
    "\n",
    "    def evaluate(self, parameters, config):\n",
    "        print(f\"[Client {self.cid}] evaluate, config: {config}\")\n",
    "        set_parameters(self.net, parameters)\n",
    "\n",
    "        loss, accuracy, y_pred, y_true, y_proba = engine.test(self.net, self.valloader,\n",
    "                                                              loss_fn=torch.nn.CrossEntropyLoss(), device=self.device)\n",
    "\n",
    "        if self.save_results:\n",
    "            os.makedirs(self.save_results, exist_ok=True)\n",
    "            if self.matrix_path:\n",
    "                save_matrix(y_true, y_pred, self.save_results + self.matrix_path, self.classes)\n",
    "            if self.roc_path:\n",
    "                save_roc(y_true, y_proba, self.save_results + self.roc_path, len(self.classes))\n",
    "\n",
    "        return float(loss), len(self.valloader), {\"accuracy\": float(accuracy)}"
   ]
  },
  {
   "cell_type": "markdown",
   "metadata": {},
   "source": [
    "### Define the client_common function to set up the Flower client"
   ]
  },
  {
   "cell_type": "code",
   "execution_count": 5,
   "metadata": {},
   "outputs": [],
   "source": [
    "def client_common(cid, model_save, path_yaml, path_roc, results_save, path_matrix,\n",
    "                  batch_size, trainloaders, valloaders, DEVICE, CLASSES):\n",
    "    trainloader = trainloaders[int(cid)]\n",
    "    valloader = valloaders[int(cid)]\n",
    "\n",
    "    net = Net(num_classes=len(CLASSES)).to(DEVICE)\n",
    "\n",
    "    if os.path.exists(model_save):\n",
    "        print(\" To get the checkpoint\")\n",
    "        checkpoint = torch.load(model_save, map_location=DEVICE)['model_state_dict']\n",
    "        net.load_state_dict(checkpoint)\n",
    "\n",
    "    return FlowerClient(cid, net, trainloader, valloader, device=DEVICE, batch_size=batch_size,\n",
    "                        matrix_path=path_matrix, roc_path=path_roc, save_results=results_save, yaml_path=path_yaml,\n",
    "                        classes=CLASSES)"
   ]
  },
  {
   "cell_type": "markdown",
   "metadata": {},
   "source": [
    "### Define utility functions for federated learning"
   ]
  },
  {
   "cell_type": "code",
   "execution_count": 6,
   "metadata": {},
   "outputs": [],
   "source": [
    "def weighted_average(metrics: List[Tuple[int, Metrics]]) -> Metrics:\n",
    "    accuracies = [num_examples * m[\"accuracy\"] for num_examples, m in metrics]\n",
    "    examples = [num_examples for num_examples, _ in metrics]\n",
    "    return {\"accuracy\": sum(accuracies) / sum(examples)}\n",
    "\n",
    "def evaluate2(server_round: int, parameters: NDArrays,\n",
    "              config: Dict[str, Scalar]) -> Optional[Tuple[float, Dict[str, Scalar]]]:\n",
    "    set_parameters(central, parameters)\n",
    "    loss, accuracy, y_pred, y_true, y_proba = engine.test(central, testloader, loss_fn=torch.nn.CrossEntropyLoss(),\n",
    "                                                          device=DEVICE)\n",
    "    print(f\"Server-side evaluation loss {loss} / accuracy {accuracy}\")\n",
    "    return loss, {\"accuracy\": accuracy}\n",
    "\n",
    "def get_on_fit_config_fn(epoch=2, lr=0.001, batch_size=32) -> Callable[[int], Dict[str, str]]:\n",
    "    def fit_config(server_round: int) -> Dict[str, str]:\n",
    "        config = {\n",
    "            \"learning_rate\": str(lr),\n",
    "            \"batch_size\": str(batch_size),\n",
    "            \"server_round\": server_round,\n",
    "            \"local_epochs\": epoch\n",
    "        }\n",
    "        return config\n",
    "    return fit_config\n",
    "\n",
    "def aggreg_fit_checkpoint(server_round, aggregated_parameters, central_model, path_checkpoint):\n",
    "    if aggregated_parameters is not None:\n",
    "        print(f\"Saving round {server_round} aggregated_parameters...\")\n",
    "        aggregated_ndarrays: List[np.ndarray] = parameters_to_ndarrays(aggregated_parameters)\n",
    "        \n",
    "        params_dict = zip(central_model.state_dict().keys(), aggregated_ndarrays)\n",
    "        state_dict = OrderedDict({k: torch.tensor(v) for k, v in params_dict})\n",
    "        central_model.load_state_dict(state_dict, strict=True)\n",
    "        if path_checkpoint:\n",
    "            torch.save({\n",
    "                'model_state_dict': central_model.state_dict(),\n",
    "            }, path_checkpoint)"
   ]
  },
  {
   "cell_type": "markdown",
   "metadata": {},
   "source": [
    "### Define the FedCustom strategy class"
   ]
  },
  {
   "cell_type": "code",
   "execution_count": 7,
   "metadata": {},
   "outputs": [],
   "source": [
    "# A Strategy from scratch with the same sampling of the clients as it is in FedAvg\n",
    "# and then change the configuration dictionary\n",
    "class FedCustom(fl.server.strategy.Strategy):\n",
    "    def __init__(\n",
    "            self,\n",
    "            fraction_fit: float = 1.0,\n",
    "            fraction_evaluate: float = 1.0,\n",
    "            min_fit_clients: int = 2,\n",
    "            min_evaluate_clients: int = 2,\n",
    "            min_available_clients: int = 2,\n",
    "            evaluate_fn: Optional[\n",
    "                    Callable[[int, NDArrays, Dict[str, Scalar]], Optional[Tuple[float, Dict[str, Scalar]]]]\n",
    "                ] = None,\n",
    "            on_fit_config_fn: Optional[Callable[[int], Dict[str, Scalar]]] = None,\n",
    "            on_evaluate_config_fn: Optional[Callable[[int], Dict[str, Scalar]]] = None,\n",
    "            accept_failures: bool = True,\n",
    "            initial_parameters: Optional[Parameters] = None,\n",
    "            fit_metrics_aggregation_fn: Optional[MetricsAggregationFn] = None,\n",
    "            evaluate_metrics_aggregation_fn: Optional[MetricsAggregationFn] = None,\n",
    "    ) -> None:\n",
    "        super().__init__()\n",
    "        self.fraction_fit = fraction_fit\n",
    "        self.fraction_evaluate = fraction_evaluate\n",
    "        self.min_fit_clients = min_fit_clients\n",
    "        self.min_evaluate_clients = min_evaluate_clients\n",
    "        self.min_available_clients = min_available_clients\n",
    "        self.evaluate_fn = evaluate_fn\n",
    "        self.on_fit_config_fn = on_fit_config_fn\n",
    "        self.on_evaluate_config_fn = on_evaluate_config_fn,\n",
    "        self.accept_failures = accept_failures\n",
    "        self.initial_parameters = initial_parameters\n",
    "        self.fit_metrics_aggregation_fn = fit_metrics_aggregation_fn\n",
    "        self.evaluate_metrics_aggregation_fn = evaluate_metrics_aggregation_fn\n",
    "\n",
    "    def __repr__(self) -> str:\n",
    "        # Same function as FedAvg(Strategy)\n",
    "        return f\"FedCustom (accept_failures={self.accept_failures})\"\n",
    "\n",
    "    def initialize_parameters(\n",
    "        self, client_manager: ClientManager\n",
    "    ) -> Optional[Parameters]:\n",
    "        \"\"\"Initialize global model parameters.\"\"\"\n",
    "        # Same function as FedAvg(Strategy)\n",
    "        initial_parameters = self.initial_parameters\n",
    "        self.initial_parameters = None  # Don't keep initial parameters in memory\n",
    "        return initial_parameters\n",
    "\n",
    "    def num_fit_clients(self, num_available_clients: int) -> Tuple[int, int]:\n",
    "        \"\"\"Return sample size and required number of clients.\"\"\"\n",
    "        # Same function as FedAvg(Strategy)\n",
    "        num_clients = int(num_available_clients * self.fraction_fit)\n",
    "        return max(num_clients, self.min_fit_clients), self.min_available_clients\n",
    "\n",
    "    def configure_fit(\n",
    "        self, server_round: int, parameters: Parameters, client_manager: ClientManager\n",
    "    ) -> List[Tuple[ClientProxy, FitIns]]:\n",
    "        \"\"\"Configure the next round of training.\"\"\"\n",
    "        # Sample clients\n",
    "        sample_size, min_num_clients = self.num_fit_clients(\n",
    "            client_manager.num_available()\n",
    "        )\n",
    "\n",
    "        clients = client_manager.sample(\n",
    "            num_clients=sample_size, min_num_clients=min_num_clients\n",
    "        )\n",
    "        # Create custom configs\n",
    "        n_clients = len(clients)\n",
    "        half_clients = n_clients // 2\n",
    "        # Custom fit config function provided\n",
    "        standard_lr = lr\n",
    "        higher_lr = 0.003\n",
    "        config = {\"server_round\": server_round, \"local_epochs\": 1}\n",
    "        if self.on_fit_config_fn is not None:\n",
    "            # Custom fit config function provided\n",
    "            config = self.on_fit_config_fn(server_round)\n",
    "\n",
    "        # fit_ins = FitIns(parameters, config)\n",
    "        # Return client/config pairs\n",
    "        fit_configurations = []\n",
    "        for idx, client in enumerate(clients):\n",
    "            config[\"learning_rate\"] = standard_lr if idx < half_clients else higher_lr\n",
    "            \"\"\"\n",
    "            Each pair of (ClientProxy, FitRes) constitutes \n",
    "            a successful update from one of the previously selected clients.\n",
    "            \"\"\"\n",
    "            fit_configurations.append(\n",
    "                (\n",
    "                    client,\n",
    "                    FitIns(\n",
    "                        parameters,\n",
    "                        config\n",
    "                    )\n",
    "                )\n",
    "            )\n",
    "        # Successful updates from the previously selected and configured clients\n",
    "        return fit_configurations\n",
    "\n",
    "    def aggregate_fit(\n",
    "        self,\n",
    "        server_round: int,\n",
    "        results: List[Tuple[ClientProxy, FitRes]],\n",
    "        failures: List[Union[Tuple[ClientProxy, FitRes], BaseException]],\n",
    "    ) -> Tuple[Optional[Parameters], Dict[str, Scalar]]:\n",
    "        \"\"\"Aggregate fit results using weighted average. (each round)\"\"\"\n",
    "        # Same function as FedAvg(Strategy)\n",
    "        if not results:\n",
    "            return None, {}\n",
    "\n",
    "        # Do not aggregate if there are failures and failures are not accepted\n",
    "        if not self.accept_failures and failures:\n",
    "            return None, {}\n",
    "\n",
    "        # Convert results parameters --> array matrix\n",
    "        weights_results = [\n",
    "            (parameters_to_ndarrays(fit_res.parameters), fit_res.num_examples)\n",
    "            for _, fit_res in results\n",
    "        ]\n",
    "\n",
    "        # Aggregate parameters using weighted average between the clients and convert back to parameters object (bytes)\n",
    "        parameters_aggregated = ndarrays_to_parameters(aggregate(weights_results))\n",
    "\n",
    "        metrics_aggregated = {}\n",
    "        # Aggregate custom metrics if aggregation fn was provided\n",
    "        if self.fit_metrics_aggregation_fn:\n",
    "            fit_metrics = [(res.num_examples, res.metrics) for _, res in results]\n",
    "            metrics_aggregated = self.fit_metrics_aggregation_fn(fit_metrics)\n",
    "\n",
    "        elif server_round == 1:  # Only log this warning once\n",
    "            logger.log(WARNING, \"No fit_metrics_aggregation_fn provided\")\n",
    "\n",
    "        # Same function as SaveModelStrategy(fl.server.strategy.FedAvg)\n",
    "        \"\"\"Aggregate model weights using weighted average and store checkpoint\"\"\"\n",
    "        aggreg_fit_checkpoint(server_round, parameters_aggregated, central, model_save)\n",
    "        return parameters_aggregated, metrics_aggregated\n",
    "\n",
    "    def num_evaluation_clients(self, num_available_clients: int) -> Tuple[int, int]:\n",
    "        \"\"\"Use a fraction of available clients for evaluation.\"\"\"\n",
    "        # Same function as FedAvg(Strategy)\n",
    "        num_clients = int(num_available_clients * self.fraction_evaluate)\n",
    "        return max(num_clients, self.min_evaluate_clients), self.min_available_clients\n",
    "\n",
    "    def configure_evaluate(\n",
    "        self, server_round: int, parameters: Parameters, client_manager: ClientManager\n",
    "    ) -> List[Tuple[ClientProxy, EvaluateIns]]:\n",
    "        \"\"\"Configure the next round of evaluation.\"\"\"\n",
    "        # Same function as FedAvg(Strategy)\n",
    "        # Do not configure federated evaluation if fraction eval is 0.\n",
    "        if self.fraction_evaluate == 0.0:\n",
    "            return []\n",
    "\n",
    "        # Parameters and config\n",
    "        config = {}  # {\"server_round\": server_round, \"local_epochs\": 1}\n",
    "\n",
    "        evaluate_ins = EvaluateIns(parameters, config)\n",
    "\n",
    "        # Sample clients\n",
    "        sample_size, min_num_clients = self.num_evaluation_clients(\n",
    "            client_manager.num_available()\n",
    "        )\n",
    "\n",
    "        clients = client_manager.sample(\n",
    "            num_clients=sample_size, min_num_clients=min_num_clients\n",
    "        )\n",
    "\n",
    "        # Return client/config pairs\n",
    "        # Each pair of (ClientProxy, FitRes) constitutes a successful update from one of the previously selected clients\n",
    "        return [(client, evaluate_ins) for client in clients]\n",
    "\n",
    "    def aggregate_evaluate(\n",
    "        self,\n",
    "        server_round: int,\n",
    "        results: List[Tuple[ClientProxy, EvaluateRes]],\n",
    "        failures: List[Union[Tuple[ClientProxy, EvaluateRes], BaseException]],\n",
    "    ) -> Tuple[Optional[float], Dict[str, Scalar]]:\n",
    "        \"\"\"Aggregate evaluation losses using weighted average.\"\"\"\n",
    "        # Same function as FedAvg(Strategy)\n",
    "        if not results:\n",
    "            return None, {}\n",
    "\n",
    "        # Do not aggregate if there are failures and failures are not accepted\n",
    "        if not self.accept_failures and failures:\n",
    "            return None, {}\n",
    "\n",
    "        # Aggregate loss\n",
    "        loss_aggregated = weighted_loss_avg(\n",
    "            [\n",
    "                (evaluate_res.num_examples, evaluate_res.loss)\n",
    "                for _, evaluate_res in results\n",
    "            ]\n",
    "        )\n",
    "\n",
    "        metrics_aggregated = {}\n",
    "        # Aggregate custom metrics if aggregation fn was provided\n",
    "        if self.evaluate_metrics_aggregation_fn:\n",
    "            eval_metrics = [(res.num_examples, res.metrics) for _, res in results]\n",
    "            metrics_aggregated = self.evaluate_metrics_aggregation_fn(eval_metrics)\n",
    "\n",
    "        # Only log this warning once\n",
    "        elif server_round == 1:\n",
    "            logger.log(WARNING, \"No evaluate_metrics_aggregation_fn provided\")\n",
    "\n",
    "        return loss_aggregated, metrics_aggregated\n",
    "\n",
    "    def evaluate(\n",
    "        self, server_round: int, parameters: Parameters\n",
    "    ) -> Optional[Tuple[float, Dict[str, Scalar]]]:\n",
    "        \"\"\"Evaluate global model parameters using an evaluation function.\"\"\"\n",
    "        # Same function as FedAvg(Strategy)\n",
    "        if self.evaluate_fn is None:\n",
    "            # Let's assume we won't perform the global model evaluation on the server side.\n",
    "            return None\n",
    "\n",
    "        # if we have a global model evaluation on the server side :\n",
    "        parameters_ndarrays = parameters_to_ndarrays(parameters)\n",
    "        eval_res = self.evaluate_fn(server_round, parameters_ndarrays, {})\n",
    "\n",
    "        # if you haven't results\n",
    "        if eval_res is None:\n",
    "            return None\n",
    "\n",
    "        loss, metrics = eval_res\n",
    "        return loss, metrics"
   ]
  },
  {
   "cell_type": "markdown",
   "metadata": {},
   "source": [
    "### Set up the federated learning strategy"
   ]
  },
  {
   "cell_type": "code",
   "execution_count": 8,
   "metadata": {},
   "outputs": [],
   "source": [
    "# Set up your variables directly\n",
    "data_path = 'data/'\n",
    "dataset = 'DNA'\n",
    "yaml_path = './results/FL/results.yml'\n",
    "seed = 0\n",
    "num_workers = 0\n",
    "max_epochs = 10\n",
    "batch_size = 16\n",
    "splitter = 10\n",
    "device = 'gpu'\n",
    "number_clients = 4\n",
    "save_results = 'results/FL/'\n",
    "matrix_path = 'confusion_matrix.png'\n",
    "roc_path = 'roc.png'\n",
    "model_save = 'DNA_fl.pt'\n",
    "min_fit_clients = 4\n",
    "min_avail_clients = 4\n",
    "min_eval_clients = 4\n",
    "rounds = 40\n",
    "frac_fit = 1.0\n",
    "frac_eval = 0.5\n",
    "lr = 1e-3"
   ]
  },
  {
   "cell_type": "code",
   "execution_count": 9,
   "metadata": {},
   "outputs": [],
   "source": [
    "DEVICE = torch.device(choice_device(device))\n",
    "CLASSES = classes_string(dataset)\n",
    "central = Net(num_classes=len(CLASSES)).to(DEVICE)"
   ]
  },
  {
   "cell_type": "code",
   "execution_count": 10,
   "metadata": {},
   "outputs": [],
   "source": [
    "strategy = FedCustom(\n",
    "    fraction_fit=frac_fit,\n",
    "    fraction_evaluate=frac_eval,\n",
    "    min_fit_clients=min_fit_clients,\n",
    "    min_evaluate_clients=min_eval_clients if min_eval_clients else number_clients // 2,\n",
    "    min_available_clients=min_avail_clients,\n",
    "    evaluate_metrics_aggregation_fn=weighted_average,\n",
    "    initial_parameters=ndarrays_to_parameters(get_parameters2(central)),\n",
    "    evaluate_fn=evaluate2,\n",
    "    on_fit_config_fn=get_on_fit_config_fn(epoch=max_epochs, batch_size=batch_size),\n",
    ")"
   ]
  },
  {
   "cell_type": "code",
   "execution_count": 11,
   "metadata": {},
   "outputs": [
    {
     "name": "stdout",
     "output_type": "stream",
     "text": [
      "DNA\n"
     ]
    },
    {
     "name": "stderr",
     "output_type": "stream",
     "text": [
      "/opt/conda/envs/fed/lib/python3.10/site-packages/transformers/tokenization_utils_base.py:1601: FutureWarning: `clean_up_tokenization_spaces` was not set. It will be set to `True` by default. This behavior will be depracted in transformers v4.45, and will be then set to `False` by default. For more details check this issue: https://github.com/huggingface/transformers/issues/31884\n",
      "  warnings.warn(\n"
     ]
    },
    {
     "name": "stdout",
     "output_type": "stream",
     "text": [
      "The training set is created for the classes: ('0', '1', '2', '3', '4', '5', '6')\n"
     ]
    }
   ],
   "source": [
    "trainloaders, valloaders, testloader = data_setup.load_datasets(num_clients=number_clients,\n",
    "                                                                batch_size=batch_size,\n",
    "                                                                resize=None,\n",
    "                                                                seed=seed,\n",
    "                                                                num_workers=num_workers,\n",
    "                                                                splitter=splitter,\n",
    "                                                                dataset=dataset,  # Use the specified dataset\n",
    "                                                                data_path=data_path,\n",
    "                                                                data_path_val=None)  # Use the same path for validation data\n",
    "\n",
    "def client_fn(cid: str) -> FlowerClient:\n",
    "    return client_common(cid,\n",
    "                         model_save, path_yaml, path_roc, results_save, path_matrix,\n",
    "                         batch_size, trainloaders, valloaders, DEVICE, CLASSES)"
   ]
  },
  {
   "cell_type": "markdown",
   "metadata": {},
   "source": [
    "### Define the client_fn function and set up the simulation"
   ]
  },
  {
   "cell_type": "code",
   "execution_count": 12,
   "metadata": {},
   "outputs": [
    {
     "name": "stderr",
     "output_type": "stream",
     "text": [
      "INFO flwr 2024-08-31 21:48:54,242 | app.py:175 | Starting Flower simulation, config: ServerConfig(num_rounds=40, round_timeout=None)\n"
     ]
    },
    {
     "name": "stdout",
     "output_type": "stream",
     "text": [
      "flwr 1.5.0\n",
      "numpy 1.26.4\n",
      "torch 2.4.0+cu121\n",
      "torchvision 0.19.0+cpu\n",
      "Training on cpu\n",
      "Start simulation\n"
     ]
    },
    {
     "name": "stderr",
     "output_type": "stream",
     "text": [
      "2024-08-31 21:48:55,253\tWARNING services.py:2017 -- WARNING: The object store is using /tmp instead of /dev/shm because /dev/shm has only 66789376 bytes available. This will harm performance! You may be able to free up space by deleting files in /dev/shm. If you are inside a Docker container, you can increase /dev/shm size by passing '--shm-size=1.84gb' to 'docker run' (or add it to the run_options list in a Ray cluster config). Make sure to set this to more than 30% of available RAM.\n",
      "2024-08-31 21:48:56,348\tINFO worker.py:1783 -- Started a local Ray instance.\n",
      "INFO flwr 2024-08-31 21:48:57,607 | app.py:210 | Flower VCE: Ray initialized with resources: {'memory': 3586464155.0, 'CPU': 2.0, 'node:10.0.3.107': 1.0, 'node:__internal_head__': 1.0, 'object_store_memory': 1793232076.0}\n",
      "INFO flwr 2024-08-31 21:48:57,608 | app.py:218 | No `client_resources` specified. Using minimal resources for clients.\n",
      "INFO flwr 2024-08-31 21:48:57,608 | app.py:224 | Flower VCE: Resources for each Virtual Client: {'num_cpus': 1, 'num_gpus': 0.0}\n",
      "INFO flwr 2024-08-31 21:48:57,621 | app.py:270 | Flower VCE: Creating VirtualClientEngineActorPool with 2 actors\n",
      "INFO flwr 2024-08-31 21:48:57,621 | server.py:89 | Initializing global parameters\n",
      "INFO flwr 2024-08-31 21:48:57,622 | server.py:272 | Using initial parameters provided by strategy\n",
      "INFO flwr 2024-08-31 21:48:57,627 | server.py:91 | Evaluating initial parameters\n",
      "INFO flwr 2024-08-31 21:48:57,703 | server.py:94 | initial parameters (loss, other metrics): 1.9338745428965642, {'accuracy': 21.153846153846153}\n",
      "INFO flwr 2024-08-31 21:48:57,707 | server.py:104 | FL starting\n",
      "DEBUG flwr 2024-08-31 21:48:57,711 | server.py:222 | fit_round 1: strategy sampled 4 clients (out of 4)\n"
     ]
    },
    {
     "name": "stdout",
     "output_type": "stream",
     "text": [
      "Updated model\n",
      "Server-side evaluation loss 1.9338745428965642 / accuracy 21.153846153846153\n"
     ]
    },
    {
     "name": "stderr",
     "output_type": "stream",
     "text": [
      "\u001b[36m(DefaultActor pid=28961)\u001b[0m /opt/conda/envs/fed/lib/python3.10/site-packages/torch/storage.py:414: FutureWarning: You are using `torch.load` with `weights_only=False` (the current default value), which uses the default pickle module implicitly. It is possible to construct malicious pickle data which will execute arbitrary code during unpickling (See https://github.com/pytorch/pytorch/blob/main/SECURITY.md#untrusted-models for more details). In a future release, the default value for `weights_only` will be flipped to `True`. This limits the functions that could be executed during unpickling. Arbitrary objects will no longer be allowed to be loaded via this mode unless they are explicitly allowlisted by the user via `torch.serialization.add_safe_globals`. We recommend you start setting `weights_only=True` for any use case where you don't have full control of the loaded file. Please open an issue on GitHub for any issues related to this experimental feature.\n",
      "\u001b[36m(DefaultActor pid=28961)\u001b[0m   return torch.load(io.BytesIO(b))\n",
      "\u001b[36m(DefaultActor pid=28961)\u001b[0m /tmp/ipykernel_28156/3044491048.py:10: FutureWarning: You are using `torch.load` with `weights_only=False` (the current default value), which uses the default pickle module implicitly. It is possible to construct malicious pickle data which will execute arbitrary code during unpickling (See https://github.com/pytorch/pytorch/blob/main/SECURITY.md#untrusted-models for more details). In a future release, the default value for `weights_only` will be flipped to `True`. This limits the functions that could be executed during unpickling. Arbitrary objects will no longer be allowed to be loaded via this mode unless they are explicitly allowlisted by the user via `torch.serialization.add_safe_globals`. We recommend you start setting `weights_only=True` for any use case where you don't have full control of the loaded file. Please open an issue on GitHub for any issues related to this experimental feature.\n",
      "  0%|\u001b[34m          \u001b[0m| 0/10 [00:00<?, ?it/s]\n"
     ]
    },
    {
     "name": "stdout",
     "output_type": "stream",
     "text": [
      "\u001b[36m(DefaultActor pid=28961)\u001b[0m  To get the checkpoint\n",
      "\u001b[36m(DefaultActor pid=28961)\u001b[0m [Client 0, round 1] fit, config: {'learning_rate': 0.003, 'batch_size': '16', 'server_round': 1, 'local_epochs': 10}\n",
      "\u001b[36m(DefaultActor pid=28961)\u001b[0m Updated model\n"
     ]
    },
    {
     "name": "stderr",
     "output_type": "stream",
     "text": [
      " 10%|\u001b[34m█         \u001b[0m| 1/10 [00:00<00:01,  6.25it/s]\n",
      " 20%|\u001b[34m██        \u001b[0m| 2/10 [00:00<00:01,  6.00it/s]\n"
     ]
    },
    {
     "name": "stdout",
     "output_type": "stream",
     "text": [
      "\u001b[36m(DefaultActor pid=28961)\u001b[0m \tTrain Epoch: 1 \tTrain_loss: 1.8857 | Train_acc: 27.6042 % | Validation_loss: 1.9015 | Validation_acc: 12.5000 %\n",
      "\u001b[36m(DefaultActor pid=28961)\u001b[0m \tTrain Epoch: 2 \tTrain_loss: 1.8668 | Train_acc: 28.6458 % | Validation_loss: 1.8489 | Validation_acc: 31.2500 %\n"
     ]
    },
    {
     "name": "stderr",
     "output_type": "stream",
     "text": [
      " 10%|\u001b[34m█         \u001b[0m| 1/10 [00:00<00:01,  5.02it/s]\n",
      " 30%|\u001b[34m███       \u001b[0m| 3/10 [00:00<00:01,  5.43it/s]\n",
      " 20%|\u001b[34m██        \u001b[0m| 2/10 [00:00<00:01,  5.71it/s]\n",
      " 40%|\u001b[34m████      \u001b[0m| 4/10 [00:00<00:01,  5.30it/s]\n",
      " 30%|\u001b[34m███       \u001b[0m| 3/10 [00:00<00:01,  5.77it/s]\n",
      " 40%|\u001b[34m████      \u001b[0m| 4/10 [00:00<00:01,  5.80it/s]\n",
      " 50%|\u001b[34m█████     \u001b[0m| 5/10 [00:00<00:00,  5.25it/s]\n",
      " 50%|\u001b[34m█████     \u001b[0m| 5/10 [00:00<00:00,  5.89it/s]\n",
      " 60%|\u001b[34m██████    \u001b[0m| 6/10 [00:01<00:00,  5.18it/s]\n",
      " 60%|\u001b[34m██████    \u001b[0m| 6/10 [00:01<00:00,  6.00it/s]\n",
      " 70%|\u001b[34m███████   \u001b[0m| 7/10 [00:01<00:00,  5.08it/s]\n",
      " 70%|\u001b[34m███████   \u001b[0m| 7/10 [00:01<00:00,  5.99it/s]\n",
      " 80%|\u001b[34m████████  \u001b[0m| 8/10 [00:01<00:00,  5.14it/s]\n",
      " 80%|\u001b[34m████████  \u001b[0m| 8/10 [00:01<00:00,  6.11it/s]\n",
      " 90%|\u001b[34m█████████ \u001b[0m| 9/10 [00:01<00:00,  6.09it/s]\n",
      " 90%|\u001b[34m█████████ \u001b[0m| 9/10 [00:01<00:00,  5.14it/s]\n",
      "100%|\u001b[34m██████████\u001b[0m| 10/10 [00:01<00:00,  6.00it/s]\n"
     ]
    },
    {
     "name": "stdout",
     "output_type": "stream",
     "text": [
      "\u001b[36m(DefaultActor pid=28962)\u001b[0m save graph in  results/FL/\n"
     ]
    },
    {
     "name": "stderr",
     "output_type": "stream",
     "text": [
      "100%|\u001b[34m██████████\u001b[0m| 10/10 [00:01<00:00,  5.22it/s]\n",
      " 10%|\u001b[34m█         \u001b[0m| 1/10 [00:00<00:01,  5.64it/s]\n",
      " 20%|\u001b[34m██        \u001b[0m| 2/10 [00:00<00:01,  6.46it/s]\n",
      " 10%|\u001b[34m█         \u001b[0m| 1/10 [00:00<00:01,  5.55it/s]\n",
      " 20%|\u001b[34m██        \u001b[0m| 2/10 [00:00<00:01,  6.19it/s]\n",
      " 30%|\u001b[34m███       \u001b[0m| 3/10 [00:00<00:01,  6.56it/s]\n",
      " 40%|\u001b[34m████      \u001b[0m| 4/10 [00:00<00:00,  6.74it/s]\n",
      " 30%|\u001b[34m███       \u001b[0m| 3/10 [00:00<00:01,  6.27it/s]\n",
      " 40%|\u001b[34m████      \u001b[0m| 4/10 [00:00<00:00,  6.40it/s]\n",
      " 50%|\u001b[34m█████     \u001b[0m| 5/10 [00:00<00:00,  6.69it/s]\n",
      " 50%|\u001b[34m█████     \u001b[0m| 5/10 [00:00<00:00,  6.58it/s]\n",
      " 60%|\u001b[34m██████    \u001b[0m| 6/10 [00:00<00:00,  6.74it/s]\n",
      " 60%|\u001b[34m██████    \u001b[0m| 6/10 [00:00<00:00,  6.43it/s]\n",
      " 70%|\u001b[34m███████   \u001b[0m| 7/10 [00:01<00:00,  6.52it/s]\n",
      " 80%|\u001b[34m████████  \u001b[0m| 8/10 [00:01<00:00,  6.26it/s]\n",
      " 70%|\u001b[34m███████   \u001b[0m| 7/10 [00:01<00:00,  6.17it/s]\n",
      " 80%|\u001b[34m████████  \u001b[0m| 8/10 [00:01<00:00,  6.40it/s]\n",
      " 90%|\u001b[34m█████████ \u001b[0m| 9/10 [00:01<00:00,  6.37it/s]\n",
      " 90%|\u001b[34m█████████ \u001b[0m| 9/10 [00:01<00:00,  6.57it/s]\n",
      "100%|\u001b[34m██████████\u001b[0m| 10/10 [00:01<00:00,  6.50it/s]\n",
      "100%|\u001b[34m██████████\u001b[0m| 10/10 [00:01<00:00,  6.45it/s]\n",
      "DEBUG flwr 2024-08-31 21:49:07,567 | server.py:236 | fit_round 1 received 4 results and 0 failures\n",
      "WARNING flwr 2024-08-31 21:49:07,585 | 1650717286.py:129 | No fit_metrics_aggregation_fn provided\n",
      "INFO flwr 2024-08-31 21:49:07,620 | server.py:125 | fit progress: (1, 1.8502054031078632, {'accuracy': 27.403846153846157}, 9.909482238999772)\n",
      "DEBUG flwr 2024-08-31 21:49:07,623 | server.py:173 | evaluate_round 1: strategy sampled 4 clients (out of 4)\n"
     ]
    },
    {
     "name": "stdout",
     "output_type": "stream",
     "text": [
      "Saving round 1 aggregated_parameters...\n",
      "Updated model\n",
      "Server-side evaluation loss 1.8502054031078632 / accuracy 27.403846153846157\n",
      "\u001b[36m(DefaultActor pid=28961)\u001b[0m [Client 2] evaluate, config: {}\n"
     ]
    },
    {
     "name": "stderr",
     "output_type": "stream",
     "text": [
      "\u001b[36m(DefaultActor pid=28962)\u001b[0m /opt/conda/envs/fed/lib/python3.10/site-packages/sklearn/metrics/_ranking.py:1183: UndefinedMetricWarning: No positive samples in y_true, true positive value should be meaningless\n",
      "\u001b[36m(DefaultActor pid=28962)\u001b[0m   warnings.warn(\n"
     ]
    },
    {
     "name": "stdout",
     "output_type": "stream",
     "text": [
      "\u001b[36m(DefaultActor pid=28961)\u001b[0m  To get the checkpoint\u001b[32m [repeated 6x across cluster] (Ray deduplicates logs by default. Set RAY_DEDUP_LOGS=0 to disable log deduplication, or see https://docs.ray.io/en/master/ray-observability/user-guides/configure-logging.html#log-deduplication for more options.)\u001b[0m\n",
      "\u001b[36m(DefaultActor pid=28962)\u001b[0m [Client 3, round 1] fit, config: {'learning_rate': 0.003, 'batch_size': '16', 'server_round': 1, 'local_epochs': 10}\u001b[32m [repeated 3x across cluster]\u001b[0m\n",
      "\u001b[36m(DefaultActor pid=28961)\u001b[0m Updated model\u001b[32m [repeated 6x across cluster]\u001b[0m\n",
      "\u001b[36m(DefaultActor pid=28962)\u001b[0m \tTrain Epoch: 10 \tTrain_loss: 1.7727 | Train_acc: 30.2083 % | Validation_loss: 1.5271 | Validation_acc: 50.0000 %\u001b[32m [repeated 38x across cluster]\u001b[0m\n"
     ]
    },
    {
     "name": "stderr",
     "output_type": "stream",
     "text": [
      "\u001b[36m(DefaultActor pid=28962)\u001b[0m /tmp/ipykernel_28156/3044491048.py:10: FutureWarning: You are using `torch.load` with `weights_only=False` (the current default value), which uses the default pickle module implicitly. It is possible to construct malicious pickle data which will execute arbitrary code during unpickling (See https://github.com/pytorch/pytorch/blob/main/SECURITY.md#untrusted-models for more details). In a future release, the default value for `weights_only` will be flipped to `True`. This limits the functions that could be executed during unpickling. Arbitrary objects will no longer be allowed to be loaded via this mode unless they are explicitly allowlisted by the user via `torch.serialization.add_safe_globals`. We recommend you start setting `weights_only=True` for any use case where you don't have full control of the loaded file. Please open an issue on GitHub for any issues related to this experimental feature.\u001b[32m [repeated 10x across cluster]\u001b[0m\n",
      "\u001b[36m(DefaultActor pid=28962)\u001b[0m   return torch.load(io.BytesIO(b))\u001b[32m [repeated 3x across cluster]\u001b[0m\n",
      "  0%|\u001b[34m          \u001b[0m| 0/10 [00:00<?, ?it/s]\u001b[32m [repeated 3x across cluster]\u001b[0m\n",
      "DEBUG flwr 2024-08-31 21:49:09,198 | server.py:187 | evaluate_round 1 received 4 results and 0 failures\n",
      "DEBUG flwr 2024-08-31 21:49:09,199 | server.py:222 | fit_round 2: strategy sampled 4 clients (out of 4)\n",
      " 10%|\u001b[34m█         \u001b[0m| 1/10 [00:00<00:01,  5.56it/s]\n",
      " 10%|\u001b[34m█         \u001b[0m| 1/10 [00:00<00:01,  5.23it/s]\n",
      " 20%|\u001b[34m██        \u001b[0m| 2/10 [00:00<00:01,  4.98it/s]\n",
      " 20%|\u001b[34m██        \u001b[0m| 2/10 [00:00<00:01,  4.16it/s]\n",
      " 30%|\u001b[34m███       \u001b[0m| 3/10 [00:00<00:01,  5.27it/s]\n",
      " 30%|\u001b[34m███       \u001b[0m| 3/10 [00:00<00:01,  4.72it/s]\n",
      " 40%|\u001b[34m████      \u001b[0m| 4/10 [00:00<00:01,  5.29it/s]\n",
      " 40%|\u001b[34m████      \u001b[0m| 4/10 [00:00<00:01,  5.00it/s]\n",
      " 50%|\u001b[34m█████     \u001b[0m| 5/10 [00:00<00:00,  5.43it/s]\n",
      " 60%|\u001b[34m██████    \u001b[0m| 6/10 [00:01<00:00,  5.48it/s]\n",
      " 50%|\u001b[34m█████     \u001b[0m| 5/10 [00:01<00:00,  5.18it/s]\n"
     ]
    },
    {
     "name": "stdout",
     "output_type": "stream",
     "text": [
      "\u001b[36m(DefaultActor pid=28962)\u001b[0m save graph in  results/FL/\u001b[32m [repeated 3x across cluster]\u001b[0m\n"
     ]
    },
    {
     "name": "stderr",
     "output_type": "stream",
     "text": [
      " 60%|\u001b[34m██████    \u001b[0m| 6/10 [00:01<00:00,  5.33it/s]\n",
      " 70%|\u001b[34m███████   \u001b[0m| 7/10 [00:01<00:00,  5.52it/s]\n",
      " 70%|\u001b[34m███████   \u001b[0m| 7/10 [00:01<00:00,  5.38it/s]\n",
      " 80%|\u001b[34m████████  \u001b[0m| 8/10 [00:01<00:00,  5.57it/s]\n",
      " 80%|\u001b[34m████████  \u001b[0m| 8/10 [00:01<00:00,  4.97it/s]\n",
      " 90%|\u001b[34m█████████ \u001b[0m| 9/10 [00:01<00:00,  5.48it/s]\n",
      "100%|\u001b[34m██████████\u001b[0m| 10/10 [00:01<00:00,  5.45it/s]\n",
      " 90%|\u001b[34m█████████ \u001b[0m| 9/10 [00:01<00:00,  5.11it/s]\n",
      "100%|\u001b[34m██████████\u001b[0m| 10/10 [00:01<00:00,  5.10it/s]\n",
      " 10%|\u001b[34m█         \u001b[0m| 1/10 [00:00<00:01,  5.60it/s]\n",
      " 20%|\u001b[34m██        \u001b[0m| 2/10 [00:00<00:01,  4.69it/s]\n",
      " 10%|\u001b[34m█         \u001b[0m| 1/10 [00:00<00:02,  3.26it/s]\n",
      " 30%|\u001b[34m███       \u001b[0m| 3/10 [00:00<00:01,  5.04it/s]\n",
      " 20%|\u001b[34m██        \u001b[0m| 2/10 [00:00<00:01,  4.42it/s]\n",
      " 40%|\u001b[34m████      \u001b[0m| 4/10 [00:00<00:01,  5.31it/s]\n",
      " 30%|\u001b[34m███       \u001b[0m| 3/10 [00:00<00:01,  4.97it/s]\n",
      " 50%|\u001b[34m█████     \u001b[0m| 5/10 [00:00<00:00,  5.45it/s]\n",
      " 40%|\u001b[34m████      \u001b[0m| 4/10 [00:00<00:01,  5.27it/s]\n",
      " 60%|\u001b[34m██████    \u001b[0m| 6/10 [00:01<00:00,  5.54it/s]\n",
      " 50%|\u001b[34m█████     \u001b[0m| 5/10 [00:00<00:00,  5.50it/s]\n",
      " 70%|\u001b[34m███████   \u001b[0m| 7/10 [00:01<00:00,  5.59it/s]\n"
     ]
    },
    {
     "name": "stdout",
     "output_type": "stream",
     "text": [
      "\u001b[36m(DefaultActor pid=28962)\u001b[0m [Client 1] evaluate, config: {}\u001b[32m [repeated 3x across cluster]\u001b[0m\n"
     ]
    },
    {
     "name": "stderr",
     "output_type": "stream",
     "text": [
      " 60%|\u001b[34m██████    \u001b[0m| 6/10 [00:01<00:00,  5.46it/s]\n",
      " 80%|\u001b[34m████████  \u001b[0m| 8/10 [00:01<00:00,  5.65it/s]\n",
      " 70%|\u001b[34m███████   \u001b[0m| 7/10 [00:01<00:00,  5.56it/s]\n",
      " 90%|\u001b[34m█████████ \u001b[0m| 9/10 [00:01<00:00,  5.55it/s]\n",
      " 80%|\u001b[34m████████  \u001b[0m| 8/10 [00:01<00:00,  5.67it/s]\n",
      "100%|\u001b[34m██████████\u001b[0m| 10/10 [00:01<00:00,  5.44it/s]\n",
      " 90%|\u001b[34m█████████ \u001b[0m| 9/10 [00:01<00:00,  5.69it/s]\n",
      "100%|\u001b[34m██████████\u001b[0m| 10/10 [00:01<00:00,  5.35it/s]\n",
      "DEBUG flwr 2024-08-31 21:49:13,651 | server.py:236 | fit_round 2 received 4 results and 0 failures\n",
      "INFO flwr 2024-08-31 21:49:13,695 | server.py:125 | fit progress: (2, 1.8007106230809138, {'accuracy': 31.25}, 15.984551690999979)\n",
      "DEBUG flwr 2024-08-31 21:49:13,696 | server.py:173 | evaluate_round 2: strategy sampled 4 clients (out of 4)\n",
      "\u001b[36m(DefaultActor pid=28962)\u001b[0m /tmp/ipykernel_28156/3044491048.py:10: FutureWarning: You are using `torch.load` with `weights_only=False` (the current default value), which uses the default pickle module implicitly. It is possible to construct malicious pickle data which will execute arbitrary code during unpickling (See https://github.com/pytorch/pytorch/blob/main/SECURITY.md#untrusted-models for more details). In a future release, the default value for `weights_only` will be flipped to `True`. This limits the functions that could be executed during unpickling. Arbitrary objects will no longer be allowed to be loaded via this mode unless they are explicitly allowlisted by the user via `torch.serialization.add_safe_globals`. We recommend you start setting `weights_only=True` for any use case where you don't have full control of the loaded file. Please open an issue on GitHub for any issues related to this experimental feature.\u001b[32m [repeated 7x across cluster]\u001b[0m\n",
      "\u001b[36m(DefaultActor pid=28962)\u001b[0m   return torch.load(io.BytesIO(b))\u001b[32m [repeated 2x across cluster]\u001b[0m\n",
      "  0%|\u001b[34m          \u001b[0m| 0/10 [00:00<?, ?it/s]\u001b[32m [repeated 4x across cluster]\u001b[0m\n"
     ]
    },
    {
     "name": "stdout",
     "output_type": "stream",
     "text": [
      "Saving round 2 aggregated_parameters...\n",
      "Updated model\n",
      "Server-side evaluation loss 1.8007106230809138 / accuracy 31.25\n",
      "\u001b[36m(DefaultActor pid=28962)\u001b[0m  To get the checkpoint\u001b[32m [repeated 6x across cluster]\u001b[0m\n",
      "\u001b[36m(DefaultActor pid=28962)\u001b[0m [Client 1, round 2] fit, config: {'learning_rate': 0.003, 'batch_size': '16', 'server_round': 2, 'local_epochs': 10}\u001b[32m [repeated 4x across cluster]\u001b[0m\n",
      "\u001b[36m(DefaultActor pid=28962)\u001b[0m Updated model\u001b[32m [repeated 6x across cluster]\u001b[0m\n",
      "\u001b[36m(DefaultActor pid=28962)\u001b[0m \tTrain Epoch: 10 \tTrain_loss: 1.5676 | Train_acc: 36.9792 % | Validation_loss: 1.7208 | Validation_acc: 18.7500 %\u001b[32m [repeated 40x across cluster]\u001b[0m\n"
     ]
    },
    {
     "name": "stderr",
     "output_type": "stream",
     "text": [
      "\u001b[36m(DefaultActor pid=28962)\u001b[0m /opt/conda/envs/fed/lib/python3.10/site-packages/sklearn/metrics/_ranking.py:1183: UndefinedMetricWarning: No positive samples in y_true, true positive value should be meaningless\n",
      "\u001b[36m(DefaultActor pid=28962)\u001b[0m   warnings.warn(\n",
      "DEBUG flwr 2024-08-31 21:49:15,023 | server.py:187 | evaluate_round 2 received 4 results and 0 failures\n",
      "DEBUG flwr 2024-08-31 21:49:15,024 | server.py:222 | fit_round 3: strategy sampled 4 clients (out of 4)\n",
      " 10%|\u001b[34m█         \u001b[0m| 1/10 [00:00<00:01,  5.21it/s]\n",
      " 10%|\u001b[34m█         \u001b[0m| 1/10 [00:00<00:02,  4.31it/s]\n"
     ]
    },
    {
     "name": "stdout",
     "output_type": "stream",
     "text": [
      "\u001b[36m(DefaultActor pid=28962)\u001b[0m save graph in  results/FL/\u001b[32m [repeated 4x across cluster]\u001b[0m\n"
     ]
    },
    {
     "name": "stderr",
     "output_type": "stream",
     "text": [
      " 20%|\u001b[34m██        \u001b[0m| 2/10 [00:00<00:01,  5.58it/s]\n",
      " 20%|\u001b[34m██        \u001b[0m| 2/10 [00:00<00:01,  5.01it/s]\n",
      " 30%|\u001b[34m███       \u001b[0m| 3/10 [00:00<00:01,  5.54it/s]\n",
      " 30%|\u001b[34m███       \u001b[0m| 3/10 [00:00<00:01,  5.15it/s]\n",
      " 40%|\u001b[34m████      \u001b[0m| 4/10 [00:00<00:01,  5.36it/s]\n",
      " 40%|\u001b[34m████      \u001b[0m| 4/10 [00:00<00:01,  5.04it/s]\n",
      " 50%|\u001b[34m█████     \u001b[0m| 5/10 [00:00<00:01,  4.70it/s]\n",
      " 50%|\u001b[34m█████     \u001b[0m| 5/10 [00:01<00:01,  4.72it/s]\n",
      " 60%|\u001b[34m██████    \u001b[0m| 6/10 [00:01<00:00,  4.94it/s]\n",
      " 60%|\u001b[34m██████    \u001b[0m| 6/10 [00:01<00:00,  4.96it/s]\n",
      " 70%|\u001b[34m███████   \u001b[0m| 7/10 [00:01<00:00,  5.16it/s]\n",
      " 70%|\u001b[34m███████   \u001b[0m| 7/10 [00:01<00:00,  5.14it/s]\n",
      " 80%|\u001b[34m████████  \u001b[0m| 8/10 [00:01<00:00,  5.33it/s]\n",
      " 80%|\u001b[34m████████  \u001b[0m| 8/10 [00:01<00:00,  5.27it/s]\n",
      " 90%|\u001b[34m█████████ \u001b[0m| 9/10 [00:01<00:00,  5.42it/s]\n",
      " 90%|\u001b[34m█████████ \u001b[0m| 9/10 [00:01<00:00,  5.34it/s]\n",
      "100%|\u001b[34m██████████\u001b[0m| 10/10 [00:01<00:00,  5.22it/s]\n",
      "100%|\u001b[34m██████████\u001b[0m| 10/10 [00:01<00:00,  5.02it/s]\n",
      " 10%|\u001b[34m█         \u001b[0m| 1/10 [00:00<00:01,  5.23it/s]\n",
      " 10%|\u001b[34m█         \u001b[0m| 1/10 [00:00<00:01,  5.67it/s]\n",
      " 20%|\u001b[34m██        \u001b[0m| 2/10 [00:00<00:01,  5.39it/s]\n",
      " 20%|\u001b[34m██        \u001b[0m| 2/10 [00:00<00:01,  5.75it/s]\n"
     ]
    },
    {
     "name": "stdout",
     "output_type": "stream",
     "text": [
      "\u001b[36m(DefaultActor pid=28962)\u001b[0m [Client 2] evaluate, config: {}\u001b[32m [repeated 4x across cluster]\u001b[0m\n"
     ]
    },
    {
     "name": "stderr",
     "output_type": "stream",
     "text": [
      " 30%|\u001b[34m███       \u001b[0m| 3/10 [00:00<00:01,  5.30it/s]\n",
      " 30%|\u001b[34m███       \u001b[0m| 3/10 [00:00<00:01,  5.75it/s]\n",
      " 40%|\u001b[34m████      \u001b[0m| 4/10 [00:00<00:01,  5.24it/s]\n",
      " 40%|\u001b[34m████      \u001b[0m| 4/10 [00:00<00:01,  4.88it/s]\n",
      " 50%|\u001b[34m█████     \u001b[0m| 5/10 [00:00<00:00,  5.08it/s]\n",
      " 50%|\u001b[34m█████     \u001b[0m| 5/10 [00:00<00:00,  5.01it/s]\n",
      " 60%|\u001b[34m██████    \u001b[0m| 6/10 [00:01<00:00,  5.25it/s]\n",
      " 60%|\u001b[34m██████    \u001b[0m| 6/10 [00:01<00:00,  5.17it/s]\n",
      " 70%|\u001b[34m███████   \u001b[0m| 7/10 [00:01<00:00,  5.40it/s]\n",
      " 70%|\u001b[34m███████   \u001b[0m| 7/10 [00:01<00:00,  5.26it/s]\n",
      "\u001b[36m(DefaultActor pid=28962)\u001b[0m /tmp/ipykernel_28156/3044491048.py:10: FutureWarning: You are using `torch.load` with `weights_only=False` (the current default value), which uses the default pickle module implicitly. It is possible to construct malicious pickle data which will execute arbitrary code during unpickling (See https://github.com/pytorch/pytorch/blob/main/SECURITY.md#untrusted-models for more details). In a future release, the default value for `weights_only` will be flipped to `True`. This limits the functions that could be executed during unpickling. Arbitrary objects will no longer be allowed to be loaded via this mode unless they are explicitly allowlisted by the user via `torch.serialization.add_safe_globals`. We recommend you start setting `weights_only=True` for any use case where you don't have full control of the loaded file. Please open an issue on GitHub for any issues related to this experimental feature.\u001b[32m [repeated 11x across cluster]\u001b[0m\n",
      "\u001b[36m(DefaultActor pid=28962)\u001b[0m   return torch.load(io.BytesIO(b))\u001b[32m [repeated 4x across cluster]\u001b[0m\n",
      "  0%|\u001b[34m          \u001b[0m| 0/10 [00:00<?, ?it/s]\u001b[32m [repeated 4x across cluster]\u001b[0m\n",
      " 80%|\u001b[34m████████  \u001b[0m| 8/10 [00:01<00:00,  5.14it/s]\n"
     ]
    },
    {
     "name": "stdout",
     "output_type": "stream",
     "text": [
      "\u001b[36m(DefaultActor pid=28962)\u001b[0m  To get the checkpoint\u001b[32m [repeated 7x across cluster]\u001b[0m\n",
      "\u001b[36m(DefaultActor pid=28962)\u001b[0m [Client 2, round 3] fit, config: {'learning_rate': 0.003, 'batch_size': '16', 'server_round': 3, 'local_epochs': 10}\u001b[32m [repeated 4x across cluster]\u001b[0m\n",
      "\u001b[36m(DefaultActor pid=28962)\u001b[0m Updated model\u001b[32m [repeated 7x across cluster]\u001b[0m\n",
      "\u001b[36m(DefaultActor pid=28962)\u001b[0m \tTrain Epoch: 7 \tTrain_loss: 1.5944 | Train_acc: 34.3750 % | Validation_loss: 1.7399 | Validation_acc: 34.3750 %\u001b[32m [repeated 34x across cluster]\u001b[0m\n"
     ]
    },
    {
     "name": "stderr",
     "output_type": "stream",
     "text": [
      " 80%|\u001b[34m████████  \u001b[0m| 8/10 [00:01<00:00,  4.61it/s]\n",
      " 90%|\u001b[34m█████████ \u001b[0m| 9/10 [00:01<00:00,  4.48it/s]\n",
      " 90%|\u001b[34m█████████ \u001b[0m| 9/10 [00:01<00:00,  4.72it/s]\n",
      "100%|\u001b[34m██████████\u001b[0m| 10/10 [00:02<00:00,  4.89it/s]\n",
      "100%|\u001b[34m██████████\u001b[0m| 10/10 [00:02<00:00,  4.85it/s]\n",
      "DEBUG flwr 2024-08-31 21:49:19,737 | server.py:236 | fit_round 3 received 4 results and 0 failures\n",
      "INFO flwr 2024-08-31 21:49:19,776 | server.py:125 | fit progress: (3, 1.8097097598589384, {'accuracy': 25.48076923076923}, 22.064838649000194)\n",
      "DEBUG flwr 2024-08-31 21:49:19,776 | server.py:173 | evaluate_round 3: strategy sampled 4 clients (out of 4)\n"
     ]
    },
    {
     "name": "stdout",
     "output_type": "stream",
     "text": [
      "Saving round 3 aggregated_parameters...\n",
      "Updated model\n",
      "Server-side evaluation loss 1.8097097598589384 / accuracy 25.48076923076923\n"
     ]
    },
    {
     "name": "stderr",
     "output_type": "stream",
     "text": [
      "\u001b[36m(DefaultActor pid=28962)\u001b[0m /opt/conda/envs/fed/lib/python3.10/site-packages/sklearn/metrics/_ranking.py:1183: UndefinedMetricWarning: No positive samples in y_true, true positive value should be meaningless\n",
      "\u001b[36m(DefaultActor pid=28962)\u001b[0m   warnings.warn(\n"
     ]
    },
    {
     "name": "stdout",
     "output_type": "stream",
     "text": [
      "\u001b[36m(DefaultActor pid=28962)\u001b[0m save graph in  results/FL/\u001b[32m [repeated 4x across cluster]\u001b[0m\n"
     ]
    },
    {
     "name": "stderr",
     "output_type": "stream",
     "text": [
      "DEBUG flwr 2024-08-31 21:49:21,049 | server.py:187 | evaluate_round 3 received 4 results and 0 failures\n",
      "DEBUG flwr 2024-08-31 21:49:21,050 | server.py:222 | fit_round 4: strategy sampled 4 clients (out of 4)\n",
      " 10%|\u001b[34m█         \u001b[0m| 1/10 [00:00<00:01,  5.66it/s]\n",
      " 10%|\u001b[34m█         \u001b[0m| 1/10 [00:00<00:01,  5.14it/s]\n",
      " 20%|\u001b[34m██        \u001b[0m| 2/10 [00:00<00:01,  5.57it/s]\n",
      " 20%|\u001b[34m██        \u001b[0m| 2/10 [00:00<00:01,  5.34it/s]\n",
      " 30%|\u001b[34m███       \u001b[0m| 3/10 [00:00<00:01,  5.63it/s]\n",
      " 30%|\u001b[34m███       \u001b[0m| 3/10 [00:00<00:01,  5.39it/s]\n",
      " 40%|\u001b[34m████      \u001b[0m| 4/10 [00:00<00:01,  5.53it/s]\n",
      " 40%|\u001b[34m████      \u001b[0m| 4/10 [00:00<00:01,  5.32it/s]\n",
      " 50%|\u001b[34m█████     \u001b[0m| 5/10 [00:00<00:00,  5.34it/s]\n",
      " 50%|\u001b[34m█████     \u001b[0m| 5/10 [00:00<00:00,  5.27it/s]\n",
      " 60%|\u001b[34m██████    \u001b[0m| 6/10 [00:01<00:00,  5.06it/s]\n",
      " 60%|\u001b[34m██████    \u001b[0m| 6/10 [00:01<00:00,  5.38it/s]\n",
      " 70%|\u001b[34m███████   \u001b[0m| 7/10 [00:01<00:00,  5.18it/s]\n",
      " 70%|\u001b[34m███████   \u001b[0m| 7/10 [00:01<00:00,  4.57it/s]\n",
      " 80%|\u001b[34m████████  \u001b[0m| 8/10 [00:01<00:00,  4.83it/s]\n",
      " 80%|\u001b[34m████████  \u001b[0m| 8/10 [00:01<00:00,  5.26it/s]\n",
      " 90%|\u001b[34m█████████ \u001b[0m| 9/10 [00:01<00:00,  5.05it/s]\n",
      " 90%|\u001b[34m█████████ \u001b[0m| 9/10 [00:01<00:00,  5.23it/s]\n"
     ]
    },
    {
     "name": "stdout",
     "output_type": "stream",
     "text": [
      "\u001b[36m(DefaultActor pid=28961)\u001b[0m [Client 0] evaluate, config: {}\u001b[32m [repeated 4x across cluster]\u001b[0m\n"
     ]
    },
    {
     "name": "stderr",
     "output_type": "stream",
     "text": [
      "100%|\u001b[34m██████████\u001b[0m| 10/10 [00:01<00:00,  5.15it/s]\n",
      "100%|\u001b[34m██████████\u001b[0m| 10/10 [00:01<00:00,  5.29it/s]\n",
      " 10%|\u001b[34m█         \u001b[0m| 1/10 [00:00<00:01,  5.49it/s]\n",
      " 20%|\u001b[34m██        \u001b[0m| 2/10 [00:00<00:01,  5.59it/s]\n",
      " 10%|\u001b[34m█         \u001b[0m| 1/10 [00:00<00:01,  5.46it/s]\n",
      "\u001b[36m(DefaultActor pid=28962)\u001b[0m /tmp/ipykernel_28156/3044491048.py:10: FutureWarning: You are using `torch.load` with `weights_only=False` (the current default value), which uses the default pickle module implicitly. It is possible to construct malicious pickle data which will execute arbitrary code during unpickling (See https://github.com/pytorch/pytorch/blob/main/SECURITY.md#untrusted-models for more details). In a future release, the default value for `weights_only` will be flipped to `True`. This limits the functions that could be executed during unpickling. Arbitrary objects will no longer be allowed to be loaded via this mode unless they are explicitly allowlisted by the user via `torch.serialization.add_safe_globals`. We recommend you start setting `weights_only=True` for any use case where you don't have full control of the loaded file. Please open an issue on GitHub for any issues related to this experimental feature.\u001b[32m [repeated 12x across cluster]\u001b[0m\n",
      "\u001b[36m(DefaultActor pid=28962)\u001b[0m   return torch.load(io.BytesIO(b))\u001b[32m [repeated 4x across cluster]\u001b[0m\n",
      "  0%|\u001b[34m          \u001b[0m| 0/10 [00:00<?, ?it/s]\u001b[32m [repeated 4x across cluster]\u001b[0m\n",
      " 30%|\u001b[34m███       \u001b[0m| 3/10 [00:00<00:01,  5.54it/s]\n"
     ]
    },
    {
     "name": "stdout",
     "output_type": "stream",
     "text": [
      "\u001b[36m(DefaultActor pid=28962)\u001b[0m  To get the checkpoint\u001b[32m [repeated 8x across cluster]\u001b[0m\n",
      "\u001b[36m(DefaultActor pid=28962)\u001b[0m [Client 3, round 4] fit, config: {'learning_rate': 0.003, 'batch_size': '16', 'server_round': 4, 'local_epochs': 10}\u001b[32m [repeated 4x across cluster]\u001b[0m\n",
      "\u001b[36m(DefaultActor pid=28962)\u001b[0m Updated model\u001b[32m [repeated 8x across cluster]\u001b[0m\n",
      "\u001b[36m(DefaultActor pid=28962)\u001b[0m \tTrain Epoch: 1 \tTrain_loss: 1.7391 | Train_acc: 33.3333 % | Validation_loss: 1.5682 | Validation_acc: 43.7500 %\u001b[32m [repeated 29x across cluster]\u001b[0m\n"
     ]
    },
    {
     "name": "stderr",
     "output_type": "stream",
     "text": [
      " 20%|\u001b[34m██        \u001b[0m| 2/10 [00:00<00:01,  5.44it/s]\n",
      " 40%|\u001b[34m████      \u001b[0m| 4/10 [00:00<00:01,  5.56it/s]\n",
      " 30%|\u001b[34m███       \u001b[0m| 3/10 [00:00<00:01,  5.51it/s]\n",
      " 50%|\u001b[34m█████     \u001b[0m| 5/10 [00:00<00:00,  5.56it/s]\n",
      " 40%|\u001b[34m████      \u001b[0m| 4/10 [00:00<00:01,  5.51it/s]\n",
      " 60%|\u001b[34m██████    \u001b[0m| 6/10 [00:01<00:00,  5.55it/s]\n",
      " 50%|\u001b[34m█████     \u001b[0m| 5/10 [00:00<00:00,  5.41it/s]\n",
      " 70%|\u001b[34m███████   \u001b[0m| 7/10 [00:01<00:00,  4.79it/s]\n",
      " 60%|\u001b[34m██████    \u001b[0m| 6/10 [00:01<00:00,  5.41it/s]\n",
      " 80%|\u001b[34m████████  \u001b[0m| 8/10 [00:01<00:00,  4.82it/s]\n",
      " 70%|\u001b[34m███████   \u001b[0m| 7/10 [00:01<00:00,  4.90it/s]\n",
      " 90%|\u001b[34m█████████ \u001b[0m| 9/10 [00:01<00:00,  4.94it/s]\n",
      " 80%|\u001b[34m████████  \u001b[0m| 8/10 [00:01<00:00,  4.95it/s]\n",
      "100%|\u001b[34m██████████\u001b[0m| 10/10 [00:01<00:00,  5.09it/s]\n",
      " 90%|\u001b[34m█████████ \u001b[0m| 9/10 [00:01<00:00,  4.84it/s]\n",
      "100%|\u001b[34m██████████\u001b[0m| 10/10 [00:01<00:00,  5.21it/s]\n"
     ]
    },
    {
     "name": "stdout",
     "output_type": "stream",
     "text": [
      "\u001b[36m(DefaultActor pid=28962)\u001b[0m save graph in  results/FL/\u001b[32m [repeated 4x across cluster]\u001b[0m\n"
     ]
    },
    {
     "name": "stderr",
     "output_type": "stream",
     "text": [
      "DEBUG flwr 2024-08-31 21:49:25,797 | server.py:236 | fit_round 4 received 4 results and 0 failures\n",
      "INFO flwr 2024-08-31 21:49:25,836 | server.py:125 | fit progress: (4, 1.8823731862581694, {'accuracy': 26.442307692307693}, 28.125678293999954)\n",
      "DEBUG flwr 2024-08-31 21:49:25,837 | server.py:173 | evaluate_round 4: strategy sampled 4 clients (out of 4)\n"
     ]
    },
    {
     "name": "stdout",
     "output_type": "stream",
     "text": [
      "Saving round 4 aggregated_parameters...\n",
      "Updated model\n",
      "Server-side evaluation loss 1.8823731862581694 / accuracy 26.442307692307693\n"
     ]
    },
    {
     "name": "stderr",
     "output_type": "stream",
     "text": [
      "\u001b[36m(DefaultActor pid=28962)\u001b[0m /opt/conda/envs/fed/lib/python3.10/site-packages/sklearn/metrics/_ranking.py:1183: UndefinedMetricWarning: No positive samples in y_true, true positive value should be meaningless\n",
      "\u001b[36m(DefaultActor pid=28962)\u001b[0m   warnings.warn(\n",
      "DEBUG flwr 2024-08-31 21:49:27,071 | server.py:187 | evaluate_round 4 received 4 results and 0 failures\n",
      "DEBUG flwr 2024-08-31 21:49:27,072 | server.py:222 | fit_round 5: strategy sampled 4 clients (out of 4)\n",
      " 10%|\u001b[34m█         \u001b[0m| 1/10 [00:00<00:01,  5.57it/s]\n",
      " 10%|\u001b[34m█         \u001b[0m| 1/10 [00:00<00:01,  5.56it/s]\n",
      " 20%|\u001b[34m██        \u001b[0m| 2/10 [00:00<00:01,  5.65it/s]\n",
      " 20%|\u001b[34m██        \u001b[0m| 2/10 [00:00<00:01,  5.48it/s]\n",
      " 30%|\u001b[34m███       \u001b[0m| 3/10 [00:00<00:01,  5.69it/s]\n",
      " 30%|\u001b[34m███       \u001b[0m| 3/10 [00:00<00:01,  5.47it/s]\n",
      " 40%|\u001b[34m████      \u001b[0m| 4/10 [00:00<00:01,  5.50it/s]\n"
     ]
    },
    {
     "name": "stdout",
     "output_type": "stream",
     "text": [
      "\u001b[36m(DefaultActor pid=28961)\u001b[0m [Client 0] evaluate, config: {}\u001b[32m [repeated 4x across cluster]\u001b[0m\n"
     ]
    },
    {
     "name": "stderr",
     "output_type": "stream",
     "text": [
      " 40%|\u001b[34m████      \u001b[0m| 4/10 [00:00<00:01,  5.34it/s]\n",
      " 50%|\u001b[34m█████     \u001b[0m| 5/10 [00:00<00:00,  5.36it/s]\n",
      " 50%|\u001b[34m█████     \u001b[0m| 5/10 [00:00<00:00,  5.57it/s]\n",
      " 60%|\u001b[34m██████    \u001b[0m| 6/10 [00:01<00:00,  5.63it/s]\n",
      " 60%|\u001b[34m██████    \u001b[0m| 6/10 [00:01<00:00,  5.16it/s]\n",
      " 70%|\u001b[34m███████   \u001b[0m| 7/10 [00:01<00:00,  5.57it/s]\n",
      " 70%|\u001b[34m███████   \u001b[0m| 7/10 [00:01<00:00,  5.23it/s]\n",
      " 80%|\u001b[34m████████  \u001b[0m| 8/10 [00:01<00:00,  5.57it/s]\n",
      " 80%|\u001b[34m████████  \u001b[0m| 8/10 [00:01<00:00,  5.36it/s]\n",
      " 90%|\u001b[34m█████████ \u001b[0m| 9/10 [00:01<00:00,  4.80it/s]\n",
      "\u001b[36m(DefaultActor pid=28962)\u001b[0m /tmp/ipykernel_28156/3044491048.py:10: FutureWarning: You are using `torch.load` with `weights_only=False` (the current default value), which uses the default pickle module implicitly. It is possible to construct malicious pickle data which will execute arbitrary code during unpickling (See https://github.com/pytorch/pytorch/blob/main/SECURITY.md#untrusted-models for more details). In a future release, the default value for `weights_only` will be flipped to `True`. This limits the functions that could be executed during unpickling. Arbitrary objects will no longer be allowed to be loaded via this mode unless they are explicitly allowlisted by the user via `torch.serialization.add_safe_globals`. We recommend you start setting `weights_only=True` for any use case where you don't have full control of the loaded file. Please open an issue on GitHub for any issues related to this experimental feature.\u001b[32m [repeated 10x across cluster]\u001b[0m\n",
      "\u001b[36m(DefaultActor pid=28962)\u001b[0m   return torch.load(io.BytesIO(b))\u001b[32m [repeated 4x across cluster]\u001b[0m\n",
      "  0%|\u001b[34m          \u001b[0m| 0/10 [00:00<?, ?it/s]\u001b[32m [repeated 2x across cluster]\u001b[0m\n",
      " 90%|\u001b[34m█████████ \u001b[0m| 9/10 [00:01<00:00,  5.20it/s]\n"
     ]
    },
    {
     "name": "stdout",
     "output_type": "stream",
     "text": [
      "\u001b[36m(DefaultActor pid=28962)\u001b[0m  To get the checkpoint\u001b[32m [repeated 6x across cluster]\u001b[0m\n",
      "\u001b[36m(DefaultActor pid=28962)\u001b[0m [Client 1, round 5] fit, config: {'learning_rate': 0.003, 'batch_size': '16', 'server_round': 5, 'local_epochs': 10}\u001b[32m [repeated 2x across cluster]\u001b[0m\n",
      "\u001b[36m(DefaultActor pid=28962)\u001b[0m Updated model\u001b[32m [repeated 6x across cluster]\u001b[0m\n",
      "\u001b[36m(DefaultActor pid=28962)\u001b[0m \tTrain Epoch: 9 \tTrain_loss: 1.3669 | Train_acc: 42.1875 % | Validation_loss: 1.5818 | Validation_acc: 34.3750 %\u001b[32m [repeated 34x across cluster]\u001b[0m\n"
     ]
    },
    {
     "name": "stderr",
     "output_type": "stream",
     "text": [
      "100%|\u001b[34m██████████\u001b[0m| 10/10 [00:01<00:00,  5.27it/s]\n",
      "100%|\u001b[34m██████████\u001b[0m| 10/10 [00:01<00:00,  5.20it/s]\n",
      " 10%|\u001b[34m█         \u001b[0m| 1/10 [00:00<00:01,  5.32it/s]\n",
      " 10%|\u001b[34m█         \u001b[0m| 1/10 [00:00<00:01,  5.52it/s]\n",
      " 20%|\u001b[34m██        \u001b[0m| 2/10 [00:00<00:01,  5.26it/s]\n",
      " 20%|\u001b[34m██        \u001b[0m| 2/10 [00:00<00:01,  5.70it/s]\n",
      " 30%|\u001b[34m███       \u001b[0m| 3/10 [00:00<00:01,  5.34it/s]\n",
      " 30%|\u001b[34m███       \u001b[0m| 3/10 [00:00<00:01,  5.70it/s]\n",
      " 40%|\u001b[34m████      \u001b[0m| 4/10 [00:00<00:01,  5.31it/s]\n",
      " 40%|\u001b[34m████      \u001b[0m| 4/10 [00:00<00:01,  5.57it/s]\n",
      " 50%|\u001b[34m█████     \u001b[0m| 5/10 [00:00<00:00,  5.05it/s]\n",
      " 50%|\u001b[34m█████     \u001b[0m| 5/10 [00:00<00:00,  5.29it/s]\n",
      " 60%|\u001b[34m██████    \u001b[0m| 6/10 [00:01<00:00,  5.03it/s]\n",
      " 60%|\u001b[34m██████    \u001b[0m| 6/10 [00:01<00:00,  4.71it/s]\n"
     ]
    },
    {
     "name": "stdout",
     "output_type": "stream",
     "text": [
      "\u001b[36m(DefaultActor pid=28962)\u001b[0m save graph in  results/FL/\u001b[32m [repeated 2x across cluster]\u001b[0m\n"
     ]
    },
    {
     "name": "stderr",
     "output_type": "stream",
     "text": [
      " 70%|\u001b[34m███████   \u001b[0m| 7/10 [00:01<00:00,  4.78it/s]\n",
      " 70%|\u001b[34m███████   \u001b[0m| 7/10 [00:01<00:00,  4.23it/s]\n",
      " 80%|\u001b[34m████████  \u001b[0m| 8/10 [00:01<00:00,  4.54it/s]\n",
      " 80%|\u001b[34m████████  \u001b[0m| 8/10 [00:01<00:00,  4.53it/s]\n",
      " 90%|\u001b[34m█████████ \u001b[0m| 9/10 [00:01<00:00,  4.39it/s]\n",
      " 90%|\u001b[34m█████████ \u001b[0m| 9/10 [00:01<00:00,  4.57it/s]\n",
      "100%|\u001b[34m██████████\u001b[0m| 10/10 [00:02<00:00,  4.83it/s]\n",
      "100%|\u001b[34m██████████\u001b[0m| 10/10 [00:02<00:00,  4.86it/s]\n",
      "DEBUG flwr 2024-08-31 21:49:31,862 | server.py:236 | fit_round 5 received 4 results and 0 failures\n",
      "INFO flwr 2024-08-31 21:49:31,901 | server.py:125 | fit progress: (5, 1.7184223303428063, {'accuracy': 30.76923076923077}, 34.19019176499978)\n",
      "DEBUG flwr 2024-08-31 21:49:31,902 | server.py:173 | evaluate_round 5: strategy sampled 4 clients (out of 4)\n",
      "\u001b[36m(DefaultActor pid=28961)\u001b[0m /workspaces/QFed-ML/src/utils/common.py:175: RuntimeWarning: More than 20 figures have been opened. Figures created through the pyplot interface (`matplotlib.pyplot.figure`) are retained until explicitly closed and may consume too much memory. (To control this warning, see the rcParam `figure.max_open_warning`). Consider using `matplotlib.pyplot.close()`.\n",
      "\u001b[36m(DefaultActor pid=28961)\u001b[0m   plt.figure(figsize=(12, 7))\n",
      "\u001b[36m(DefaultActor pid=28962)\u001b[0m   plt.figure(figsize=(12, 7))\n"
     ]
    },
    {
     "name": "stdout",
     "output_type": "stream",
     "text": [
      "Saving round 5 aggregated_parameters...\n",
      "Updated model\n",
      "Server-side evaluation loss 1.7184223303428063 / accuracy 30.76923076923077\n"
     ]
    },
    {
     "name": "stderr",
     "output_type": "stream",
     "text": [
      "\u001b[36m(DefaultActor pid=28961)\u001b[0m   plt.figure()\n",
      "\u001b[36m(DefaultActor pid=28961)\u001b[0m   plt.figure(figsize=(12, 7))\n",
      "\u001b[36m(DefaultActor pid=28962)\u001b[0m   plt.figure(figsize=(12, 7))\n",
      "\u001b[36m(DefaultActor pid=28961)\u001b[0m /opt/conda/envs/fed/lib/python3.10/site-packages/sklearn/metrics/_ranking.py:1183: UndefinedMetricWarning: No positive samples in y_true, true positive value should be meaningless\n",
      "\u001b[36m(DefaultActor pid=28961)\u001b[0m   warnings.warn(\n",
      "DEBUG flwr 2024-08-31 21:49:33,183 | server.py:187 | evaluate_round 5 received 4 results and 0 failures\n",
      "DEBUG flwr 2024-08-31 21:49:33,183 | server.py:222 | fit_round 6: strategy sampled 4 clients (out of 4)\n"
     ]
    },
    {
     "name": "stdout",
     "output_type": "stream",
     "text": [
      "\u001b[36m(DefaultActor pid=28962)\u001b[0m [Client 0] evaluate, config: {}\u001b[32m [repeated 4x across cluster]\u001b[0m\n"
     ]
    },
    {
     "name": "stderr",
     "output_type": "stream",
     "text": [
      " 10%|\u001b[34m█         \u001b[0m| 1/10 [00:00<00:01,  5.03it/s]\n",
      " 10%|\u001b[34m█         \u001b[0m| 1/10 [00:00<00:01,  5.30it/s]\n",
      " 20%|\u001b[34m██        \u001b[0m| 2/10 [00:00<00:01,  5.10it/s]\n",
      " 20%|\u001b[34m██        \u001b[0m| 2/10 [00:00<00:01,  5.43it/s]\n",
      " 30%|\u001b[34m███       \u001b[0m| 3/10 [00:00<00:01,  5.17it/s]\n",
      "\u001b[36m(DefaultActor pid=28962)\u001b[0m /tmp/ipykernel_28156/3044491048.py:10: FutureWarning: You are using `torch.load` with `weights_only=False` (the current default value), which uses the default pickle module implicitly. It is possible to construct malicious pickle data which will execute arbitrary code during unpickling (See https://github.com/pytorch/pytorch/blob/main/SECURITY.md#untrusted-models for more details). In a future release, the default value for `weights_only` will be flipped to `True`. This limits the functions that could be executed during unpickling. Arbitrary objects will no longer be allowed to be loaded via this mode unless they are explicitly allowlisted by the user via `torch.serialization.add_safe_globals`. We recommend you start setting `weights_only=True` for any use case where you don't have full control of the loaded file. Please open an issue on GitHub for any issues related to this experimental feature.\u001b[32m [repeated 12x across cluster]\u001b[0m\n",
      "\u001b[36m(DefaultActor pid=28962)\u001b[0m   return torch.load(io.BytesIO(b))\u001b[32m [repeated 4x across cluster]\u001b[0m\n",
      "  0%|\u001b[34m          \u001b[0m| 0/10 [00:00<?, ?it/s]\u001b[32m [repeated 4x across cluster]\u001b[0m\n",
      " 30%|\u001b[34m███       \u001b[0m| 3/10 [00:00<00:01,  5.50it/s]\n",
      " 40%|\u001b[34m████      \u001b[0m| 4/10 [00:00<00:01,  5.55it/s]\n"
     ]
    },
    {
     "name": "stdout",
     "output_type": "stream",
     "text": [
      "\u001b[36m(DefaultActor pid=28962)\u001b[0m  To get the checkpoint\u001b[32m [repeated 8x across cluster]\u001b[0m\n",
      "\u001b[36m(DefaultActor pid=28962)\u001b[0m [Client 3, round 6] fit, config: {'learning_rate': 0.003, 'batch_size': '16', 'server_round': 6, 'local_epochs': 10}\u001b[32m [repeated 4x across cluster]\u001b[0m\n",
      "\u001b[36m(DefaultActor pid=28962)\u001b[0m Updated model\u001b[32m [repeated 8x across cluster]\u001b[0m\n",
      "\u001b[36m(DefaultActor pid=28961)\u001b[0m \tTrain Epoch: 3 \tTrain_loss: 1.4776 | Train_acc: 42.7083 % | Validation_loss: 1.5277 | Validation_acc: 25.0000 %\u001b[32m [repeated 28x across cluster]\u001b[0m\n"
     ]
    },
    {
     "name": "stderr",
     "output_type": "stream",
     "text": [
      " 40%|\u001b[34m████      \u001b[0m| 4/10 [00:00<00:01,  5.20it/s]\n",
      " 50%|\u001b[34m█████     \u001b[0m| 5/10 [00:00<00:00,  5.32it/s]\n",
      " 50%|\u001b[34m█████     \u001b[0m| 5/10 [00:00<00:00,  5.44it/s]\n",
      " 60%|\u001b[34m██████    \u001b[0m| 6/10 [00:01<00:00,  5.34it/s]\n",
      " 60%|\u001b[34m██████    \u001b[0m| 6/10 [00:01<00:00,  5.42it/s]\n",
      " 70%|\u001b[34m███████   \u001b[0m| 7/10 [00:01<00:00,  5.42it/s]\n",
      " 70%|\u001b[34m███████   \u001b[0m| 7/10 [00:01<00:00,  5.27it/s]\n",
      " 80%|\u001b[34m████████  \u001b[0m| 8/10 [00:01<00:00,  5.43it/s]\n",
      " 80%|\u001b[34m████████  \u001b[0m| 8/10 [00:01<00:00,  5.39it/s]\n",
      " 90%|\u001b[34m█████████ \u001b[0m| 9/10 [00:01<00:00,  5.45it/s]\n",
      " 90%|\u001b[34m█████████ \u001b[0m| 9/10 [00:01<00:00,  5.37it/s]\n",
      "100%|\u001b[34m██████████\u001b[0m| 10/10 [00:01<00:00,  5.39it/s]\n",
      "100%|\u001b[34m██████████\u001b[0m| 10/10 [00:01<00:00,  5.29it/s]\n",
      " 10%|\u001b[34m█         \u001b[0m| 1/10 [00:00<00:01,  5.31it/s]\n",
      " 10%|\u001b[34m█         \u001b[0m| 1/10 [00:00<00:01,  5.50it/s]\n"
     ]
    },
    {
     "name": "stdout",
     "output_type": "stream",
     "text": [
      "\u001b[36m(DefaultActor pid=28961)\u001b[0m save graph in  results/FL/\u001b[32m [repeated 4x across cluster]\u001b[0m\n"
     ]
    },
    {
     "name": "stderr",
     "output_type": "stream",
     "text": [
      " 20%|\u001b[34m██        \u001b[0m| 2/10 [00:00<00:01,  5.01it/s]\n",
      " 20%|\u001b[34m██        \u001b[0m| 2/10 [00:00<00:01,  4.91it/s]\n",
      " 30%|\u001b[34m███       \u001b[0m| 3/10 [00:00<00:01,  4.89it/s]\n",
      " 30%|\u001b[34m███       \u001b[0m| 3/10 [00:00<00:01,  4.84it/s]\n",
      " 40%|\u001b[34m████      \u001b[0m| 4/10 [00:00<00:01,  4.63it/s]\n",
      " 40%|\u001b[34m████      \u001b[0m| 4/10 [00:00<00:01,  4.59it/s]\n",
      " 50%|\u001b[34m█████     \u001b[0m| 5/10 [00:01<00:01,  4.88it/s]\n",
      " 50%|\u001b[34m█████     \u001b[0m| 5/10 [00:01<00:01,  4.82it/s]\n",
      " 60%|\u001b[34m██████    \u001b[0m| 6/10 [00:01<00:00,  5.13it/s]\n",
      " 60%|\u001b[34m██████    \u001b[0m| 6/10 [00:01<00:00,  5.06it/s]\n",
      " 70%|\u001b[34m███████   \u001b[0m| 7/10 [00:01<00:00,  5.24it/s]\n",
      " 70%|\u001b[34m███████   \u001b[0m| 7/10 [00:01<00:00,  5.13it/s]\n",
      " 80%|\u001b[34m████████  \u001b[0m| 8/10 [00:01<00:00,  5.29it/s]\n",
      "\u001b[36m(DefaultActor pid=28961)\u001b[0m /workspaces/QFed-ML/src/utils/common.py:345: RuntimeWarning: More than 20 figures have been opened. Figures created through the pyplot interface (`matplotlib.pyplot.figure`) are retained until explicitly closed and may consume too much memory. (To control this warning, see the rcParam `figure.max_open_warning`). Consider using `matplotlib.pyplot.close()`.\u001b[32m [repeated 9x across cluster]\u001b[0m\n",
      " 80%|\u001b[34m████████  \u001b[0m| 8/10 [00:01<00:00,  5.18it/s]\n",
      " 90%|\u001b[34m█████████ \u001b[0m| 9/10 [00:01<00:00,  5.38it/s]\n",
      " 90%|\u001b[34m█████████ \u001b[0m| 9/10 [00:01<00:00,  4.51it/s]\n",
      "\u001b[36m(DefaultActor pid=28961)\u001b[0m   plt.figure()\u001b[32m [repeated 5x across cluster]\u001b[0m\n",
      "100%|\u001b[34m██████████\u001b[0m| 10/10 [00:02<00:00,  4.93it/s]\n",
      "100%|\u001b[34m██████████\u001b[0m| 10/10 [00:02<00:00,  4.86it/s]\n",
      "DEBUG flwr 2024-08-31 21:49:37,795 | server.py:236 | fit_round 6 received 4 results and 0 failures\n",
      "INFO flwr 2024-08-31 21:49:37,835 | server.py:125 | fit progress: (6, 1.6627702529613788, {'accuracy': 40.38461538461539}, 40.12452875600002)\n",
      "DEBUG flwr 2024-08-31 21:49:37,836 | server.py:173 | evaluate_round 6: strategy sampled 4 clients (out of 4)\n"
     ]
    },
    {
     "name": "stdout",
     "output_type": "stream",
     "text": [
      "Saving round 6 aggregated_parameters...\n",
      "Updated model\n",
      "Server-side evaluation loss 1.6627702529613788 / accuracy 40.38461538461539\n"
     ]
    },
    {
     "name": "stderr",
     "output_type": "stream",
     "text": [
      "\u001b[36m(DefaultActor pid=28961)\u001b[0m /opt/conda/envs/fed/lib/python3.10/site-packages/sklearn/metrics/_ranking.py:1183: UndefinedMetricWarning: No positive samples in y_true, true positive value should be meaningless\n",
      "\u001b[36m(DefaultActor pid=28961)\u001b[0m   warnings.warn(\n"
     ]
    },
    {
     "name": "stdout",
     "output_type": "stream",
     "text": [
      "\u001b[36m(DefaultActor pid=28961)\u001b[0m [Client 0] evaluate, config: {}\u001b[32m [repeated 3x across cluster]\u001b[0m\n"
     ]
    },
    {
     "name": "stderr",
     "output_type": "stream",
     "text": [
      "DEBUG flwr 2024-08-31 21:49:39,195 | server.py:187 | evaluate_round 6 received 4 results and 0 failures\n",
      "DEBUG flwr 2024-08-31 21:49:39,196 | server.py:222 | fit_round 7: strategy sampled 4 clients (out of 4)\n",
      "\u001b[36m(DefaultActor pid=28961)\u001b[0m /tmp/ipykernel_28156/3044491048.py:10: FutureWarning: You are using `torch.load` with `weights_only=False` (the current default value), which uses the default pickle module implicitly. It is possible to construct malicious pickle data which will execute arbitrary code during unpickling (See https://github.com/pytorch/pytorch/blob/main/SECURITY.md#untrusted-models for more details). In a future release, the default value for `weights_only` will be flipped to `True`. This limits the functions that could be executed during unpickling. Arbitrary objects will no longer be allowed to be loaded via this mode unless they are explicitly allowlisted by the user via `torch.serialization.add_safe_globals`. We recommend you start setting `weights_only=True` for any use case where you don't have full control of the loaded file. Please open an issue on GitHub for any issues related to this experimental feature.\u001b[32m [repeated 10x across cluster]\u001b[0m\n",
      "\u001b[36m(DefaultActor pid=28961)\u001b[0m   return torch.load(io.BytesIO(b))\u001b[32m [repeated 3x across cluster]\u001b[0m\n",
      "  0%|\u001b[34m          \u001b[0m| 0/10 [00:00<?, ?it/s]\u001b[32m [repeated 3x across cluster]\u001b[0m\n"
     ]
    },
    {
     "name": "stdout",
     "output_type": "stream",
     "text": [
      "\u001b[36m(DefaultActor pid=28961)\u001b[0m  To get the checkpoint\u001b[32m [repeated 7x across cluster]\u001b[0m\n",
      "\u001b[36m(DefaultActor pid=28961)\u001b[0m [Client 2, round 7] fit, config: {'learning_rate': 0.003, 'batch_size': '16', 'server_round': 7, 'local_epochs': 10}\u001b[32m [repeated 3x across cluster]\u001b[0m\n",
      "\u001b[36m(DefaultActor pid=28961)\u001b[0m Updated model\u001b[32m [repeated 7x across cluster]\u001b[0m\n",
      "\u001b[36m(DefaultActor pid=28962)\u001b[0m \tTrain Epoch: 10 \tTrain_loss: 1.3147 | Train_acc: 43.7500 % | Validation_loss: 1.6312 | Validation_acc: 31.2500 %\u001b[32m [repeated 35x across cluster]\u001b[0m\n"
     ]
    },
    {
     "name": "stderr",
     "output_type": "stream",
     "text": [
      " 10%|\u001b[34m█         \u001b[0m| 1/10 [00:00<00:02,  3.69it/s]\n",
      " 10%|\u001b[34m█         \u001b[0m| 1/10 [00:00<00:03,  2.82it/s]\n",
      " 20%|\u001b[34m██        \u001b[0m| 2/10 [00:00<00:02,  3.78it/s]\n",
      " 20%|\u001b[34m██        \u001b[0m| 2/10 [00:00<00:02,  3.58it/s]\n",
      " 30%|\u001b[34m███       \u001b[0m| 3/10 [00:00<00:01,  4.25it/s]\n",
      " 30%|\u001b[34m███       \u001b[0m| 3/10 [00:00<00:01,  4.27it/s]\n",
      " 40%|\u001b[34m████      \u001b[0m| 4/10 [00:00<00:01,  4.67it/s]\n",
      " 40%|\u001b[34m████      \u001b[0m| 4/10 [00:00<00:01,  4.68it/s]\n",
      " 50%|\u001b[34m█████     \u001b[0m| 5/10 [00:01<00:01,  4.90it/s]\n",
      " 50%|\u001b[34m█████     \u001b[0m| 5/10 [00:01<00:01,  4.95it/s]\n",
      " 60%|\u001b[34m██████    \u001b[0m| 6/10 [00:01<00:00,  5.08it/s]\n",
      " 60%|\u001b[34m██████    \u001b[0m| 6/10 [00:01<00:00,  5.09it/s]\n",
      " 70%|\u001b[34m███████   \u001b[0m| 7/10 [00:01<00:00,  4.80it/s]\n",
      " 70%|\u001b[34m███████   \u001b[0m| 7/10 [00:01<00:00,  5.13it/s]\n",
      " 80%|\u001b[34m████████  \u001b[0m| 8/10 [00:01<00:00,  5.18it/s]\n",
      " 80%|\u001b[34m████████  \u001b[0m| 8/10 [00:01<00:00,  5.09it/s]\n"
     ]
    },
    {
     "name": "stdout",
     "output_type": "stream",
     "text": [
      "\u001b[36m(DefaultActor pid=28962)\u001b[0m save graph in  results/FL/\u001b[32m [repeated 2x across cluster]\u001b[0m\n"
     ]
    },
    {
     "name": "stderr",
     "output_type": "stream",
     "text": [
      " 90%|\u001b[34m█████████ \u001b[0m| 9/10 [00:01<00:00,  5.22it/s]\n",
      " 90%|\u001b[34m█████████ \u001b[0m| 9/10 [00:01<00:00,  4.89it/s]\n",
      "100%|\u001b[34m██████████\u001b[0m| 10/10 [00:02<00:00,  4.59it/s]\n",
      "100%|\u001b[34m██████████\u001b[0m| 10/10 [00:02<00:00,  4.67it/s]\n",
      " 10%|\u001b[34m█         \u001b[0m| 1/10 [00:00<00:01,  5.42it/s]\n",
      " 10%|\u001b[34m█         \u001b[0m| 1/10 [00:00<00:01,  5.15it/s]\n",
      " 20%|\u001b[34m██        \u001b[0m| 2/10 [00:00<00:01,  5.47it/s]\n",
      " 20%|\u001b[34m██        \u001b[0m| 2/10 [00:00<00:01,  5.51it/s]\n",
      " 30%|\u001b[34m███       \u001b[0m| 3/10 [00:00<00:01,  5.27it/s]\n",
      " 30%|\u001b[34m███       \u001b[0m| 3/10 [00:00<00:01,  5.19it/s]\n",
      " 40%|\u001b[34m████      \u001b[0m| 4/10 [00:00<00:01,  5.26it/s]\n",
      " 40%|\u001b[34m████      \u001b[0m| 4/10 [00:00<00:01,  5.08it/s]\n",
      " 50%|\u001b[34m█████     \u001b[0m| 5/10 [00:00<00:00,  5.42it/s]\n",
      " 50%|\u001b[34m█████     \u001b[0m| 5/10 [00:00<00:00,  5.25it/s]\n",
      " 60%|\u001b[34m██████    \u001b[0m| 6/10 [00:01<00:00,  5.52it/s]\n",
      " 60%|\u001b[34m██████    \u001b[0m| 6/10 [00:01<00:00,  5.32it/s]\n",
      " 70%|\u001b[34m███████   \u001b[0m| 7/10 [00:01<00:00,  5.54it/s]\n",
      " 70%|\u001b[34m███████   \u001b[0m| 7/10 [00:01<00:00,  5.32it/s]\n",
      " 80%|\u001b[34m████████  \u001b[0m| 8/10 [00:01<00:00,  5.55it/s]\n",
      " 80%|\u001b[34m████████  \u001b[0m| 8/10 [00:01<00:00,  5.39it/s]\n",
      " 90%|\u001b[34m█████████ \u001b[0m| 9/10 [00:01<00:00,  5.47it/s]\n",
      " 90%|\u001b[34m█████████ \u001b[0m| 9/10 [00:01<00:00,  5.36it/s]\n",
      "100%|\u001b[34m██████████\u001b[0m| 10/10 [00:01<00:00,  5.40it/s]\n"
     ]
    },
    {
     "name": "stdout",
     "output_type": "stream",
     "text": [
      "\u001b[36m(DefaultActor pid=28962)\u001b[0m [Client 1] evaluate, config: {}\n"
     ]
    },
    {
     "name": "stderr",
     "output_type": "stream",
     "text": [
      "100%|\u001b[34m██████████\u001b[0m| 10/10 [00:01<00:00,  5.11it/s]\n",
      "DEBUG flwr 2024-08-31 21:49:44,239 | server.py:236 | fit_round 7 received 4 results and 0 failures\n",
      "INFO flwr 2024-08-31 21:49:44,277 | server.py:125 | fit progress: (7, 1.6556029869959905, {'accuracy': 38.46153846153847}, 46.566644430999986)\n",
      "DEBUG flwr 2024-08-31 21:49:44,278 | server.py:173 | evaluate_round 7: strategy sampled 4 clients (out of 4)\n",
      "\u001b[36m(DefaultActor pid=28961)\u001b[0m /tmp/ipykernel_28156/3044491048.py:10: FutureWarning: You are using `torch.load` with `weights_only=False` (the current default value), which uses the default pickle module implicitly. It is possible to construct malicious pickle data which will execute arbitrary code during unpickling (See https://github.com/pytorch/pytorch/blob/main/SECURITY.md#untrusted-models for more details). In a future release, the default value for `weights_only` will be flipped to `True`. This limits the functions that could be executed during unpickling. Arbitrary objects will no longer be allowed to be loaded via this mode unless they are explicitly allowlisted by the user via `torch.serialization.add_safe_globals`. We recommend you start setting `weights_only=True` for any use case where you don't have full control of the loaded file. Please open an issue on GitHub for any issues related to this experimental feature.\u001b[32m [repeated 5x across cluster]\u001b[0m\n",
      "\u001b[36m(DefaultActor pid=28962)\u001b[0m   return torch.load(io.BytesIO(b))\n",
      "  0%|\u001b[34m          \u001b[0m| 0/10 [00:00<?, ?it/s]\u001b[32m [repeated 3x across cluster]\u001b[0m\n"
     ]
    },
    {
     "name": "stdout",
     "output_type": "stream",
     "text": [
      "Saving round 7 aggregated_parameters...\n",
      "Updated model\n",
      "Server-side evaluation loss 1.6556029869959905 / accuracy 38.46153846153847\n",
      "\u001b[36m(DefaultActor pid=28961)\u001b[0m [Client 1] evaluate, config: {}\n",
      "\u001b[36m(DefaultActor pid=28961)\u001b[0m  To get the checkpoint\u001b[32m [repeated 4x across cluster]\u001b[0m\n",
      "\u001b[36m(DefaultActor pid=28961)\u001b[0m [Client 0, round 7] fit, config: {'learning_rate': 0.003, 'batch_size': '16', 'server_round': 7, 'local_epochs': 10}\u001b[32m [repeated 3x across cluster]\u001b[0m\n",
      "\u001b[36m(DefaultActor pid=28961)\u001b[0m Updated model\u001b[32m [repeated 4x across cluster]\u001b[0m\n",
      "\u001b[36m(DefaultActor pid=28962)\u001b[0m \tTrain Epoch: 10 \tTrain_loss: 1.2932 | Train_acc: 49.4792 % | Validation_loss: 2.0930 | Validation_acc: 31.2500 %\u001b[32m [repeated 40x across cluster]\u001b[0m\n"
     ]
    },
    {
     "name": "stderr",
     "output_type": "stream",
     "text": [
      "\u001b[36m(DefaultActor pid=28962)\u001b[0m /opt/conda/envs/fed/lib/python3.10/site-packages/sklearn/metrics/_ranking.py:1183: UndefinedMetricWarning: No positive samples in y_true, true positive value should be meaningless\n",
      "\u001b[36m(DefaultActor pid=28962)\u001b[0m   warnings.warn(\n",
      "\u001b[36m(DefaultActor pid=28961)\u001b[0m   return torch.load(io.BytesIO(b))\n",
      "DEBUG flwr 2024-08-31 21:49:45,463 | server.py:187 | evaluate_round 7 received 4 results and 0 failures\n",
      "DEBUG flwr 2024-08-31 21:49:45,464 | server.py:222 | fit_round 8: strategy sampled 4 clients (out of 4)\n",
      " 10%|\u001b[34m█         \u001b[0m| 1/10 [00:00<00:01,  5.45it/s]\n",
      " 10%|\u001b[34m█         \u001b[0m| 1/10 [00:00<00:01,  5.46it/s]\n",
      " 20%|\u001b[34m██        \u001b[0m| 2/10 [00:00<00:01,  4.48it/s]\n",
      " 20%|\u001b[34m██        \u001b[0m| 2/10 [00:00<00:01,  4.71it/s]\n"
     ]
    },
    {
     "name": "stdout",
     "output_type": "stream",
     "text": [
      "\u001b[36m(DefaultActor pid=28962)\u001b[0m save graph in  results/FL/\u001b[32m [repeated 4x across cluster]\u001b[0m\n"
     ]
    },
    {
     "name": "stderr",
     "output_type": "stream",
     "text": [
      " 30%|\u001b[34m███       \u001b[0m| 3/10 [00:00<00:01,  4.73it/s]\n",
      " 30%|\u001b[34m███       \u001b[0m| 3/10 [00:00<00:01,  4.99it/s]\n",
      " 40%|\u001b[34m████      \u001b[0m| 4/10 [00:00<00:01,  5.09it/s]\n",
      " 40%|\u001b[34m████      \u001b[0m| 4/10 [00:00<00:01,  4.60it/s]\n",
      " 50%|\u001b[34m█████     \u001b[0m| 5/10 [00:01<00:01,  4.91it/s]\n",
      " 50%|\u001b[34m█████     \u001b[0m| 5/10 [00:00<00:00,  5.12it/s]\n",
      " 60%|\u001b[34m██████    \u001b[0m| 6/10 [00:01<00:00,  5.25it/s]\n",
      " 60%|\u001b[34m██████    \u001b[0m| 6/10 [00:01<00:00,  5.12it/s]\n",
      " 70%|\u001b[34m███████   \u001b[0m| 7/10 [00:01<00:00,  4.88it/s]\n",
      " 70%|\u001b[34m███████   \u001b[0m| 7/10 [00:01<00:00,  5.06it/s]\n",
      " 80%|\u001b[34m████████  \u001b[0m| 8/10 [00:01<00:00,  4.96it/s]\n",
      " 80%|\u001b[34m████████  \u001b[0m| 8/10 [00:01<00:00,  4.88it/s]\n",
      " 90%|\u001b[34m█████████ \u001b[0m| 9/10 [00:01<00:00,  4.93it/s]\n",
      " 90%|\u001b[34m█████████ \u001b[0m| 9/10 [00:01<00:00,  4.99it/s]\n",
      "100%|\u001b[34m██████████\u001b[0m| 10/10 [00:01<00:00,  5.03it/s]\n",
      "100%|\u001b[34m██████████\u001b[0m| 10/10 [00:02<00:00,  4.83it/s]\n",
      " 10%|\u001b[34m█         \u001b[0m| 1/10 [00:00<00:02,  4.10it/s]\n",
      " 10%|\u001b[34m█         \u001b[0m| 1/10 [00:00<00:02,  4.08it/s]\n",
      " 20%|\u001b[34m██        \u001b[0m| 2/10 [00:00<00:01,  4.94it/s]\n",
      " 20%|\u001b[34m██        \u001b[0m| 2/10 [00:00<00:01,  4.80it/s]\n",
      " 30%|\u001b[34m███       \u001b[0m| 3/10 [00:00<00:01,  5.16it/s]\n",
      " 30%|\u001b[34m███       \u001b[0m| 3/10 [00:00<00:01,  5.09it/s]\n",
      " 40%|\u001b[34m████      \u001b[0m| 4/10 [00:00<00:01,  5.30it/s]\n",
      " 40%|\u001b[34m████      \u001b[0m| 4/10 [00:00<00:01,  5.23it/s]\n",
      " 50%|\u001b[34m█████     \u001b[0m| 5/10 [00:00<00:00,  5.32it/s]\n",
      " 50%|\u001b[34m█████     \u001b[0m| 5/10 [00:00<00:00,  5.36it/s]\n",
      " 60%|\u001b[34m██████    \u001b[0m| 6/10 [00:01<00:00,  5.30it/s]\n",
      " 60%|\u001b[34m██████    \u001b[0m| 6/10 [00:01<00:00,  5.39it/s]\n",
      " 70%|\u001b[34m███████   \u001b[0m| 7/10 [00:01<00:00,  5.08it/s]\n",
      " 70%|\u001b[34m███████   \u001b[0m| 7/10 [00:01<00:00,  5.31it/s]\n",
      "\u001b[36m(DefaultActor pid=28962)\u001b[0m /tmp/ipykernel_28156/3044491048.py:10: FutureWarning: You are using `torch.load` with `weights_only=False` (the current default value), which uses the default pickle module implicitly. It is possible to construct malicious pickle data which will execute arbitrary code during unpickling (See https://github.com/pytorch/pytorch/blob/main/SECURITY.md#untrusted-models for more details). In a future release, the default value for `weights_only` will be flipped to `True`. This limits the functions that could be executed during unpickling. Arbitrary objects will no longer be allowed to be loaded via this mode unless they are explicitly allowlisted by the user via `torch.serialization.add_safe_globals`. We recommend you start setting `weights_only=True` for any use case where you don't have full control of the loaded file. Please open an issue on GitHub for any issues related to this experimental feature.\u001b[32m [repeated 11x across cluster]\u001b[0m\n",
      "  0%|\u001b[34m          \u001b[0m| 0/10 [00:00<?, ?it/s]\u001b[32m [repeated 4x across cluster]\u001b[0m\n",
      " 80%|\u001b[34m████████  \u001b[0m| 8/10 [00:01<00:00,  5.35it/s]\n",
      " 80%|\u001b[34m████████  \u001b[0m| 8/10 [00:01<00:00,  5.16it/s]\n"
     ]
    },
    {
     "name": "stdout",
     "output_type": "stream",
     "text": [
      "\u001b[36m(DefaultActor pid=28962)\u001b[0m [Client 2] evaluate, config: {}\u001b[32m [repeated 3x across cluster]\u001b[0m\n",
      "\u001b[36m(DefaultActor pid=28962)\u001b[0m  To get the checkpoint\u001b[32m [repeated 7x across cluster]\u001b[0m\n",
      "\u001b[36m(DefaultActor pid=28961)\u001b[0m [Client 0, round 8] fit, config: {'learning_rate': 0.003, 'batch_size': '16', 'server_round': 8, 'local_epochs': 10}\u001b[32m [repeated 4x across cluster]\u001b[0m\n",
      "\u001b[36m(DefaultActor pid=28961)\u001b[0m Updated model\u001b[32m [repeated 7x across cluster]\u001b[0m\n",
      "\u001b[36m(DefaultActor pid=28961)\u001b[0m \tTrain Epoch: 7 \tTrain_loss: 1.2925 | Train_acc: 54.1667 % | Validation_loss: 1.4658 | Validation_acc: 40.6250 %\u001b[32m [repeated 34x across cluster]\u001b[0m\n"
     ]
    },
    {
     "name": "stderr",
     "output_type": "stream",
     "text": [
      " 90%|\u001b[34m█████████ \u001b[0m| 9/10 [00:01<00:00,  5.38it/s]\n",
      " 90%|\u001b[34m█████████ \u001b[0m| 9/10 [00:01<00:00,  5.28it/s]\n",
      "100%|\u001b[34m██████████\u001b[0m| 10/10 [00:01<00:00,  5.15it/s]\n",
      "100%|\u001b[34m██████████\u001b[0m| 10/10 [00:01<00:00,  5.02it/s]\n",
      "\u001b[36m(DefaultActor pid=28962)\u001b[0m   return torch.load(io.BytesIO(b))\u001b[32m [repeated 3x across cluster]\u001b[0m\n",
      "DEBUG flwr 2024-08-31 21:49:50,278 | server.py:236 | fit_round 8 received 4 results and 0 failures\n",
      "INFO flwr 2024-08-31 21:49:50,317 | server.py:125 | fit progress: (8, 1.7984094252953162, {'accuracy': 33.65384615384615}, 52.60669558100017)\n",
      "DEBUG flwr 2024-08-31 21:49:50,318 | server.py:173 | evaluate_round 8: strategy sampled 4 clients (out of 4)\n"
     ]
    },
    {
     "name": "stdout",
     "output_type": "stream",
     "text": [
      "Saving round 8 aggregated_parameters...\n",
      "Updated model\n",
      "Server-side evaluation loss 1.7984094252953162 / accuracy 33.65384615384615\n",
      "\u001b[36m(DefaultActor pid=28961)\u001b[0m save graph in  results/FL/\u001b[32m [repeated 4x across cluster]\u001b[0m\n"
     ]
    },
    {
     "name": "stderr",
     "output_type": "stream",
     "text": [
      "\u001b[36m(DefaultActor pid=28962)\u001b[0m /opt/conda/envs/fed/lib/python3.10/site-packages/sklearn/metrics/_ranking.py:1183: UndefinedMetricWarning: No positive samples in y_true, true positive value should be meaningless\n",
      "\u001b[36m(DefaultActor pid=28962)\u001b[0m   warnings.warn(\n",
      "DEBUG flwr 2024-08-31 21:49:51,520 | server.py:187 | evaluate_round 8 received 4 results and 0 failures\n",
      "DEBUG flwr 2024-08-31 21:49:51,521 | server.py:222 | fit_round 9: strategy sampled 4 clients (out of 4)\n",
      " 10%|\u001b[34m█         \u001b[0m| 1/10 [00:00<00:01,  5.17it/s]\n",
      " 10%|\u001b[34m█         \u001b[0m| 1/10 [00:00<00:01,  5.24it/s]\n",
      " 20%|\u001b[34m██        \u001b[0m| 2/10 [00:00<00:01,  5.43it/s]\n",
      " 20%|\u001b[34m██        \u001b[0m| 2/10 [00:00<00:01,  5.47it/s]\n",
      " 30%|\u001b[34m███       \u001b[0m| 3/10 [00:00<00:01,  5.53it/s]\n",
      " 30%|\u001b[34m███       \u001b[0m| 3/10 [00:00<00:01,  5.27it/s]\n",
      " 40%|\u001b[34m████      \u001b[0m| 4/10 [00:00<00:01,  4.50it/s]\n",
      " 40%|\u001b[34m████      \u001b[0m| 4/10 [00:00<00:01,  4.61it/s]\n",
      " 50%|\u001b[34m█████     \u001b[0m| 5/10 [00:01<00:01,  4.57it/s]\n",
      " 50%|\u001b[34m█████     \u001b[0m| 5/10 [00:01<00:01,  4.68it/s]\n",
      " 60%|\u001b[34m██████    \u001b[0m| 6/10 [00:01<00:00,  4.54it/s]\n",
      " 60%|\u001b[34m██████    \u001b[0m| 6/10 [00:01<00:00,  4.45it/s]\n",
      " 70%|\u001b[34m███████   \u001b[0m| 7/10 [00:01<00:00,  4.76it/s]\n",
      " 70%|\u001b[34m███████   \u001b[0m| 7/10 [00:01<00:00,  4.84it/s]\n",
      " 80%|\u001b[34m████████  \u001b[0m| 8/10 [00:01<00:00,  4.89it/s]\n",
      " 80%|\u001b[34m████████  \u001b[0m| 8/10 [00:01<00:00,  5.09it/s]\n",
      " 90%|\u001b[34m█████████ \u001b[0m| 9/10 [00:01<00:00,  5.25it/s]\n",
      " 90%|\u001b[34m█████████ \u001b[0m| 9/10 [00:01<00:00,  4.98it/s]\n",
      "100%|\u001b[34m██████████\u001b[0m| 10/10 [00:01<00:00,  5.07it/s]\n",
      "100%|\u001b[34m██████████\u001b[0m| 10/10 [00:02<00:00,  4.91it/s]\n",
      " 10%|\u001b[34m█         \u001b[0m| 1/10 [00:00<00:01,  5.36it/s]\n",
      " 10%|\u001b[34m█         \u001b[0m| 1/10 [00:00<00:01,  5.49it/s]\n",
      " 20%|\u001b[34m██        \u001b[0m| 2/10 [00:00<00:01,  5.52it/s]\n",
      " 20%|\u001b[34m██        \u001b[0m| 2/10 [00:00<00:01,  4.91it/s]\n",
      "\u001b[36m(DefaultActor pid=28961)\u001b[0m /tmp/ipykernel_28156/3044491048.py:10: FutureWarning: You are using `torch.load` with `weights_only=False` (the current default value), which uses the default pickle module implicitly. It is possible to construct malicious pickle data which will execute arbitrary code during unpickling (See https://github.com/pytorch/pytorch/blob/main/SECURITY.md#untrusted-models for more details). In a future release, the default value for `weights_only` will be flipped to `True`. This limits the functions that could be executed during unpickling. Arbitrary objects will no longer be allowed to be loaded via this mode unless they are explicitly allowlisted by the user via `torch.serialization.add_safe_globals`. We recommend you start setting `weights_only=True` for any use case where you don't have full control of the loaded file. Please open an issue on GitHub for any issues related to this experimental feature.\u001b[32m [repeated 12x across cluster]\u001b[0m\n",
      "  0%|\u001b[34m          \u001b[0m| 0/10 [00:00<?, ?it/s]\u001b[32m [repeated 4x across cluster]\u001b[0m\n"
     ]
    },
    {
     "name": "stdout",
     "output_type": "stream",
     "text": [
      "\u001b[36m(DefaultActor pid=28962)\u001b[0m [Client 3] evaluate, config: {}\u001b[32m [repeated 4x across cluster]\u001b[0m\n",
      "\u001b[36m(DefaultActor pid=28961)\u001b[0m  To get the checkpoint\u001b[32m [repeated 8x across cluster]\u001b[0m\n",
      "\u001b[36m(DefaultActor pid=28961)\u001b[0m [Client 3, round 9] fit, config: {'learning_rate': 0.003, 'batch_size': '16', 'server_round': 9, 'local_epochs': 10}\u001b[32m [repeated 4x across cluster]\u001b[0m\n",
      "\u001b[36m(DefaultActor pid=28961)\u001b[0m Updated model\u001b[32m [repeated 8x across cluster]\u001b[0m\n",
      "\u001b[36m(DefaultActor pid=28961)\u001b[0m \tTrain Epoch: 2 \tTrain_loss: 1.6144 | Train_acc: 33.8542 % | Validation_loss: 1.7515 | Validation_acc: 31.2500 %\u001b[32m [repeated 30x across cluster]\u001b[0m\n"
     ]
    },
    {
     "name": "stderr",
     "output_type": "stream",
     "text": [
      " 30%|\u001b[34m███       \u001b[0m| 3/10 [00:00<00:01,  4.94it/s]\n",
      " 30%|\u001b[34m███       \u001b[0m| 3/10 [00:00<00:01,  4.61it/s]\n",
      " 40%|\u001b[34m████      \u001b[0m| 4/10 [00:00<00:01,  5.12it/s]\n",
      " 40%|\u001b[34m████      \u001b[0m| 4/10 [00:00<00:01,  4.87it/s]\n",
      " 50%|\u001b[34m█████     \u001b[0m| 5/10 [00:00<00:00,  5.18it/s]\n",
      " 50%|\u001b[34m█████     \u001b[0m| 5/10 [00:01<00:00,  5.00it/s]\n",
      "\u001b[36m(DefaultActor pid=28962)\u001b[0m   return torch.load(io.BytesIO(b))\u001b[32m [repeated 4x across cluster]\u001b[0m\n",
      " 60%|\u001b[34m██████    \u001b[0m| 6/10 [00:01<00:00,  5.26it/s]\n",
      " 60%|\u001b[34m██████    \u001b[0m| 6/10 [00:01<00:00,  5.19it/s]\n",
      " 70%|\u001b[34m███████   \u001b[0m| 7/10 [00:01<00:00,  5.34it/s]\n",
      " 70%|\u001b[34m███████   \u001b[0m| 7/10 [00:01<00:00,  5.15it/s]\n",
      " 80%|\u001b[34m████████  \u001b[0m| 8/10 [00:01<00:00,  5.35it/s]\n",
      " 80%|\u001b[34m████████  \u001b[0m| 8/10 [00:01<00:00,  5.23it/s]\n",
      " 90%|\u001b[34m█████████ \u001b[0m| 9/10 [00:01<00:00,  5.43it/s]\n",
      " 90%|\u001b[34m█████████ \u001b[0m| 9/10 [00:01<00:00,  5.32it/s]\n",
      "100%|\u001b[34m██████████\u001b[0m| 10/10 [00:01<00:00,  5.34it/s]\n",
      "100%|\u001b[34m██████████\u001b[0m| 10/10 [00:01<00:00,  5.15it/s]\n",
      "DEBUG flwr 2024-08-31 21:49:56,117 | server.py:236 | fit_round 9 received 4 results and 0 failures\n",
      "INFO flwr 2024-08-31 21:49:56,156 | server.py:125 | fit progress: (9, 1.6531162903859065, {'accuracy': 42.78846153846153}, 58.44505991899996)\n",
      "DEBUG flwr 2024-08-31 21:49:56,158 | server.py:173 | evaluate_round 9: strategy sampled 4 clients (out of 4)\n"
     ]
    },
    {
     "name": "stdout",
     "output_type": "stream",
     "text": [
      "Saving round 9 aggregated_parameters...\n",
      "Updated model\n",
      "Server-side evaluation loss 1.6531162903859065 / accuracy 42.78846153846153\n",
      "\u001b[36m(DefaultActor pid=28961)\u001b[0m save graph in  results/FL/\u001b[32m [repeated 4x across cluster]\u001b[0m\n"
     ]
    },
    {
     "name": "stderr",
     "output_type": "stream",
     "text": [
      "\u001b[36m(DefaultActor pid=28962)\u001b[0m /opt/conda/envs/fed/lib/python3.10/site-packages/sklearn/metrics/_ranking.py:1183: UndefinedMetricWarning: No positive samples in y_true, true positive value should be meaningless\n",
      "\u001b[36m(DefaultActor pid=28962)\u001b[0m   warnings.warn(\n",
      "DEBUG flwr 2024-08-31 21:49:57,423 | server.py:187 | evaluate_round 9 received 4 results and 0 failures\n",
      "DEBUG flwr 2024-08-31 21:49:57,424 | server.py:222 | fit_round 10: strategy sampled 4 clients (out of 4)\n",
      " 10%|\u001b[34m█         \u001b[0m| 1/10 [00:00<00:01,  5.34it/s]\n",
      " 10%|\u001b[34m█         \u001b[0m| 1/10 [00:00<00:01,  5.09it/s]\n",
      " 20%|\u001b[34m██        \u001b[0m| 2/10 [00:00<00:01,  4.58it/s]\n",
      " 20%|\u001b[34m██        \u001b[0m| 2/10 [00:00<00:01,  4.40it/s]\n",
      " 30%|\u001b[34m███       \u001b[0m| 3/10 [00:00<00:01,  4.72it/s]\n",
      " 30%|\u001b[34m███       \u001b[0m| 3/10 [00:00<00:01,  4.57it/s]\n",
      " 40%|\u001b[34m████      \u001b[0m| 4/10 [00:00<00:01,  4.66it/s]\n",
      " 40%|\u001b[34m████      \u001b[0m| 4/10 [00:00<00:01,  4.69it/s]\n",
      " 50%|\u001b[34m█████     \u001b[0m| 5/10 [00:01<00:01,  4.93it/s]\n",
      " 50%|\u001b[34m█████     \u001b[0m| 5/10 [00:01<00:01,  4.90it/s]\n",
      " 60%|\u001b[34m██████    \u001b[0m| 6/10 [00:01<00:00,  4.68it/s]\n",
      " 60%|\u001b[34m██████    \u001b[0m| 6/10 [00:01<00:00,  4.63it/s]\n",
      " 70%|\u001b[34m███████   \u001b[0m| 7/10 [00:01<00:00,  4.94it/s]\n",
      " 70%|\u001b[34m███████   \u001b[0m| 7/10 [00:01<00:00,  4.92it/s]\n",
      " 80%|\u001b[34m████████  \u001b[0m| 8/10 [00:01<00:00,  5.12it/s]\n",
      " 80%|\u001b[34m████████  \u001b[0m| 8/10 [00:01<00:00,  4.99it/s]\n",
      " 90%|\u001b[34m█████████ \u001b[0m| 9/10 [00:01<00:00,  4.28it/s]\n",
      "\u001b[36m(DefaultActor pid=28962)\u001b[0m /tmp/ipykernel_28156/3044491048.py:10: FutureWarning: You are using `torch.load` with `weights_only=False` (the current default value), which uses the default pickle module implicitly. It is possible to construct malicious pickle data which will execute arbitrary code during unpickling (See https://github.com/pytorch/pytorch/blob/main/SECURITY.md#untrusted-models for more details). In a future release, the default value for `weights_only` will be flipped to `True`. This limits the functions that could be executed during unpickling. Arbitrary objects will no longer be allowed to be loaded via this mode unless they are explicitly allowlisted by the user via `torch.serialization.add_safe_globals`. We recommend you start setting `weights_only=True` for any use case where you don't have full control of the loaded file. Please open an issue on GitHub for any issues related to this experimental feature.\u001b[32m [repeated 10x across cluster]\u001b[0m\n",
      "  0%|\u001b[34m          \u001b[0m| 0/10 [00:00<?, ?it/s]\u001b[32m [repeated 2x across cluster]\u001b[0m\n",
      " 90%|\u001b[34m█████████ \u001b[0m| 9/10 [00:01<00:00,  4.49it/s]\n"
     ]
    },
    {
     "name": "stdout",
     "output_type": "stream",
     "text": [
      "\u001b[36m(DefaultActor pid=28962)\u001b[0m [Client 0] evaluate, config: {}\u001b[32m [repeated 4x across cluster]\u001b[0m\n",
      "\u001b[36m(DefaultActor pid=28962)\u001b[0m  To get the checkpoint\u001b[32m [repeated 6x across cluster]\u001b[0m\n",
      "\u001b[36m(DefaultActor pid=28961)\u001b[0m [Client 2, round 10] fit, config: {'learning_rate': 0.003, 'batch_size': '16', 'server_round': 10, 'local_epochs': 10}\u001b[32m [repeated 2x across cluster]\u001b[0m\n",
      "\u001b[36m(DefaultActor pid=28961)\u001b[0m Updated model\u001b[32m [repeated 6x across cluster]\u001b[0m\n",
      "\u001b[36m(DefaultActor pid=28961)\u001b[0m \tTrain Epoch: 9 \tTrain_loss: 0.9331 | Train_acc: 64.5833 % | Validation_loss: 1.5428 | Validation_acc: 34.3750 %\u001b[32m [repeated 33x across cluster]\u001b[0m\n"
     ]
    },
    {
     "name": "stderr",
     "output_type": "stream",
     "text": [
      "100%|\u001b[34m██████████\u001b[0m| 10/10 [00:02<00:00,  4.62it/s]\n",
      "100%|\u001b[34m██████████\u001b[0m| 10/10 [00:02<00:00,  4.60it/s]\n",
      "\u001b[36m(DefaultActor pid=28962)\u001b[0m   return torch.load(io.BytesIO(b))\u001b[32m [repeated 4x across cluster]\u001b[0m\n",
      " 10%|\u001b[34m█         \u001b[0m| 1/10 [00:00<00:02,  4.31it/s]\n",
      " 20%|\u001b[34m██        \u001b[0m| 2/10 [00:00<00:01,  4.43it/s]\n",
      " 10%|\u001b[34m█         \u001b[0m| 1/10 [00:00<00:05,  1.64it/s]\n",
      " 30%|\u001b[34m███       \u001b[0m| 3/10 [00:00<00:01,  4.89it/s]\n",
      " 20%|\u001b[34m██        \u001b[0m| 2/10 [00:00<00:02,  2.68it/s]\n",
      " 40%|\u001b[34m████      \u001b[0m| 4/10 [00:00<00:01,  4.40it/s]\n",
      " 30%|\u001b[34m███       \u001b[0m| 3/10 [00:01<00:02,  3.39it/s]\n",
      " 50%|\u001b[34m█████     \u001b[0m| 5/10 [00:01<00:01,  4.75it/s]\n",
      " 40%|\u001b[34m████      \u001b[0m| 4/10 [00:01<00:01,  3.99it/s]\n",
      " 60%|\u001b[34m██████    \u001b[0m| 6/10 [00:01<00:00,  4.77it/s]\n",
      " 50%|\u001b[34m█████     \u001b[0m| 5/10 [00:01<00:01,  4.37it/s]\n"
     ]
    },
    {
     "name": "stdout",
     "output_type": "stream",
     "text": [
      "\u001b[36m(DefaultActor pid=28961)\u001b[0m save graph in  results/FL/\u001b[32m [repeated 2x across cluster]\u001b[0m\n"
     ]
    },
    {
     "name": "stderr",
     "output_type": "stream",
     "text": [
      " 70%|\u001b[34m███████   \u001b[0m| 7/10 [00:01<00:00,  5.00it/s]\n",
      " 60%|\u001b[34m██████    \u001b[0m| 6/10 [00:01<00:00,  4.38it/s]\n",
      " 80%|\u001b[34m████████  \u001b[0m| 8/10 [00:01<00:00,  5.08it/s]\n",
      " 90%|\u001b[34m█████████ \u001b[0m| 9/10 [00:01<00:00,  5.26it/s]\n",
      " 70%|\u001b[34m███████   \u001b[0m| 7/10 [00:01<00:00,  4.62it/s]\n",
      " 80%|\u001b[34m████████  \u001b[0m| 8/10 [00:02<00:00,  4.42it/s]\n",
      "100%|\u001b[34m██████████\u001b[0m| 10/10 [00:02<00:00,  4.81it/s]\n",
      " 90%|\u001b[34m█████████ \u001b[0m| 9/10 [00:02<00:00,  4.84it/s]\n",
      "100%|\u001b[34m██████████\u001b[0m| 10/10 [00:02<00:00,  4.21it/s]\n",
      "DEBUG flwr 2024-08-31 21:50:02,648 | server.py:236 | fit_round 10 received 4 results and 0 failures\n",
      "INFO flwr 2024-08-31 21:50:02,685 | server.py:125 | fit progress: (10, 1.6845348890011127, {'accuracy': 43.75}, 64.97465532600017)\n",
      "DEBUG flwr 2024-08-31 21:50:02,686 | server.py:173 | evaluate_round 10: strategy sampled 4 clients (out of 4)\n"
     ]
    },
    {
     "name": "stdout",
     "output_type": "stream",
     "text": [
      "Saving round 10 aggregated_parameters...\n",
      "Updated model\n",
      "Server-side evaluation loss 1.6845348890011127 / accuracy 43.75\n"
     ]
    },
    {
     "name": "stderr",
     "output_type": "stream",
     "text": [
      "\u001b[36m(DefaultActor pid=28962)\u001b[0m /opt/conda/envs/fed/lib/python3.10/site-packages/sklearn/metrics/_ranking.py:1183: UndefinedMetricWarning: No positive samples in y_true, true positive value should be meaningless\n",
      "\u001b[36m(DefaultActor pid=28962)\u001b[0m   warnings.warn(\n",
      "DEBUG flwr 2024-08-31 21:50:04,024 | server.py:187 | evaluate_round 10 received 4 results and 0 failures\n",
      "DEBUG flwr 2024-08-31 21:50:04,025 | server.py:222 | fit_round 11: strategy sampled 4 clients (out of 4)\n",
      " 10%|\u001b[34m█         \u001b[0m| 1/10 [00:00<00:01,  5.51it/s]\n",
      " 10%|\u001b[34m█         \u001b[0m| 1/10 [00:00<00:01,  5.68it/s]\n",
      " 20%|\u001b[34m██        \u001b[0m| 2/10 [00:00<00:01,  5.46it/s]\n",
      "\u001b[36m(DefaultActor pid=28961)\u001b[0m /tmp/ipykernel_28156/3044491048.py:10: FutureWarning: You are using `torch.load` with `weights_only=False` (the current default value), which uses the default pickle module implicitly. It is possible to construct malicious pickle data which will execute arbitrary code during unpickling (See https://github.com/pytorch/pytorch/blob/main/SECURITY.md#untrusted-models for more details). In a future release, the default value for `weights_only` will be flipped to `True`. This limits the functions that could be executed during unpickling. Arbitrary objects will no longer be allowed to be loaded via this mode unless they are explicitly allowlisted by the user via `torch.serialization.add_safe_globals`. We recommend you start setting `weights_only=True` for any use case where you don't have full control of the loaded file. Please open an issue on GitHub for any issues related to this experimental feature.\u001b[32m [repeated 12x across cluster]\u001b[0m\n",
      "  0%|\u001b[34m          \u001b[0m| 0/10 [00:00<?, ?it/s]\u001b[32m [repeated 4x across cluster]\u001b[0m\n",
      " 20%|\u001b[34m██        \u001b[0m| 2/10 [00:00<00:01,  5.56it/s]\n"
     ]
    },
    {
     "name": "stdout",
     "output_type": "stream",
     "text": [
      "\u001b[36m(DefaultActor pid=28961)\u001b[0m [Client 0] evaluate, config: {}\u001b[32m [repeated 4x across cluster]\u001b[0m\n",
      "\u001b[36m(DefaultActor pid=28961)\u001b[0m  To get the checkpoint\u001b[32m [repeated 8x across cluster]\u001b[0m\n",
      "\u001b[36m(DefaultActor pid=28961)\u001b[0m [Client 1, round 11] fit, config: {'learning_rate': 0.003, 'batch_size': '16', 'server_round': 11, 'local_epochs': 10}\u001b[32m [repeated 4x across cluster]\u001b[0m\n",
      "\u001b[36m(DefaultActor pid=28961)\u001b[0m Updated model\u001b[32m [repeated 8x across cluster]\u001b[0m\n",
      "\u001b[36m(DefaultActor pid=28961)\u001b[0m \tTrain Epoch: 2 \tTrain_loss: 1.1643 | Train_acc: 57.2917 % | Validation_loss: 1.4293 | Validation_acc: 46.8750 %\u001b[32m [repeated 26x across cluster]\u001b[0m\n"
     ]
    },
    {
     "name": "stderr",
     "output_type": "stream",
     "text": [
      " 30%|\u001b[34m███       \u001b[0m| 3/10 [00:00<00:01,  5.41it/s]\n",
      " 30%|\u001b[34m███       \u001b[0m| 3/10 [00:00<00:01,  5.64it/s]\n",
      " 40%|\u001b[34m████      \u001b[0m| 4/10 [00:00<00:01,  5.62it/s]\n",
      " 40%|\u001b[34m████      \u001b[0m| 4/10 [00:00<00:01,  5.35it/s]\n",
      " 50%|\u001b[34m█████     \u001b[0m| 5/10 [00:00<00:00,  5.57it/s]\n",
      " 50%|\u001b[34m█████     \u001b[0m| 5/10 [00:01<00:01,  4.69it/s]\n",
      "\u001b[36m(DefaultActor pid=28962)\u001b[0m   return torch.load(io.BytesIO(b))\u001b[32m [repeated 4x across cluster]\u001b[0m\n",
      " 60%|\u001b[34m██████    \u001b[0m| 6/10 [00:01<00:00,  5.28it/s]\n",
      " 60%|\u001b[34m██████    \u001b[0m| 6/10 [00:01<00:00,  4.87it/s]\n",
      " 70%|\u001b[34m███████   \u001b[0m| 7/10 [00:01<00:00,  5.31it/s]\n",
      " 70%|\u001b[34m███████   \u001b[0m| 7/10 [00:01<00:00,  4.98it/s]\n",
      " 80%|\u001b[34m████████  \u001b[0m| 8/10 [00:01<00:00,  5.35it/s]\n",
      " 80%|\u001b[34m████████  \u001b[0m| 8/10 [00:01<00:00,  5.10it/s]\n",
      " 90%|\u001b[34m█████████ \u001b[0m| 9/10 [00:01<00:00,  5.43it/s]\n",
      " 90%|\u001b[34m█████████ \u001b[0m| 9/10 [00:01<00:00,  5.12it/s]\n",
      "100%|\u001b[34m██████████\u001b[0m| 10/10 [00:01<00:00,  5.45it/s]\n",
      "100%|\u001b[34m██████████\u001b[0m| 10/10 [00:01<00:00,  5.16it/s]\n"
     ]
    },
    {
     "name": "stdout",
     "output_type": "stream",
     "text": [
      "\u001b[36m(DefaultActor pid=28961)\u001b[0m save graph in  results/FL/\u001b[32m [repeated 4x across cluster]\u001b[0m\n"
     ]
    },
    {
     "name": "stderr",
     "output_type": "stream",
     "text": [
      " 10%|\u001b[34m█         \u001b[0m| 1/10 [00:00<00:01,  5.00it/s]\n",
      " 10%|\u001b[34m█         \u001b[0m| 1/10 [00:00<00:01,  5.09it/s]\n",
      " 20%|\u001b[34m██        \u001b[0m| 2/10 [00:00<00:01,  4.96it/s]\n",
      " 20%|\u001b[34m██        \u001b[0m| 2/10 [00:00<00:01,  5.30it/s]\n",
      " 30%|\u001b[34m███       \u001b[0m| 3/10 [00:00<00:01,  5.09it/s]\n",
      " 30%|\u001b[34m███       \u001b[0m| 3/10 [00:00<00:01,  5.36it/s]\n",
      " 40%|\u001b[34m████      \u001b[0m| 4/10 [00:00<00:01,  5.29it/s]\n",
      " 40%|\u001b[34m████      \u001b[0m| 4/10 [00:00<00:01,  4.52it/s]\n",
      " 50%|\u001b[34m█████     \u001b[0m| 5/10 [00:00<00:00,  5.27it/s]\n",
      " 50%|\u001b[34m█████     \u001b[0m| 5/10 [00:01<00:01,  4.67it/s]\n",
      " 60%|\u001b[34m██████    \u001b[0m| 6/10 [00:01<00:00,  5.22it/s]\n",
      " 60%|\u001b[34m██████    \u001b[0m| 6/10 [00:01<00:00,  4.87it/s]\n",
      " 70%|\u001b[34m███████   \u001b[0m| 7/10 [00:01<00:00,  5.20it/s]\n",
      " 80%|\u001b[34m████████  \u001b[0m| 8/10 [00:01<00:00,  5.27it/s]\n",
      " 70%|\u001b[34m███████   \u001b[0m| 7/10 [00:01<00:00,  5.01it/s]\n",
      " 90%|\u001b[34m█████████ \u001b[0m| 9/10 [00:01<00:00,  5.08it/s]\n",
      " 80%|\u001b[34m████████  \u001b[0m| 8/10 [00:01<00:00,  4.88it/s]\n",
      "100%|\u001b[34m██████████\u001b[0m| 10/10 [00:01<00:00,  5.17it/s]\n",
      " 90%|\u001b[34m█████████ \u001b[0m| 9/10 [00:01<00:00,  5.00it/s]\n",
      "100%|\u001b[34m██████████\u001b[0m| 10/10 [00:02<00:00,  4.96it/s]\n",
      "DEBUG flwr 2024-08-31 21:50:08,611 | server.py:236 | fit_round 11 received 4 results and 0 failures\n",
      "INFO flwr 2024-08-31 21:50:08,650 | server.py:125 | fit progress: (11, 1.4802006299679096, {'accuracy': 51.442307692307686}, 70.93909405500017)\n",
      "DEBUG flwr 2024-08-31 21:50:08,651 | server.py:173 | evaluate_round 11: strategy sampled 4 clients (out of 4)\n"
     ]
    },
    {
     "name": "stdout",
     "output_type": "stream",
     "text": [
      "Saving round 11 aggregated_parameters...\n",
      "Updated model\n",
      "Server-side evaluation loss 1.4802006299679096 / accuracy 51.442307692307686\n"
     ]
    },
    {
     "name": "stderr",
     "output_type": "stream",
     "text": [
      "\u001b[36m(DefaultActor pid=28961)\u001b[0m /tmp/ipykernel_28156/3044491048.py:10: FutureWarning: You are using `torch.load` with `weights_only=False` (the current default value), which uses the default pickle module implicitly. It is possible to construct malicious pickle data which will execute arbitrary code during unpickling (See https://github.com/pytorch/pytorch/blob/main/SECURITY.md#untrusted-models for more details). In a future release, the default value for `weights_only` will be flipped to `True`. This limits the functions that could be executed during unpickling. Arbitrary objects will no longer be allowed to be loaded via this mode unless they are explicitly allowlisted by the user via `torch.serialization.add_safe_globals`. We recommend you start setting `weights_only=True` for any use case where you don't have full control of the loaded file. Please open an issue on GitHub for any issues related to this experimental feature.\u001b[32m [repeated 6x across cluster]\u001b[0m\n",
      "  0%|\u001b[34m          \u001b[0m| 0/10 [00:00<?, ?it/s]\u001b[32m [repeated 2x across cluster]\u001b[0m\n"
     ]
    },
    {
     "name": "stdout",
     "output_type": "stream",
     "text": [
      "\u001b[36m(DefaultActor pid=28961)\u001b[0m [Client 1] evaluate, config: {}\u001b[32m [repeated 3x across cluster]\u001b[0m\n",
      "\u001b[36m(DefaultActor pid=28961)\u001b[0m  To get the checkpoint\u001b[32m [repeated 5x across cluster]\u001b[0m\n",
      "\u001b[36m(DefaultActor pid=28961)\u001b[0m [Client 2, round 11] fit, config: {'learning_rate': 0.003, 'batch_size': '16', 'server_round': 11, 'local_epochs': 10}\u001b[32m [repeated 2x across cluster]\u001b[0m\n",
      "\u001b[36m(DefaultActor pid=28961)\u001b[0m Updated model\u001b[32m [repeated 5x across cluster]\u001b[0m\n",
      "\u001b[36m(DefaultActor pid=28961)\u001b[0m \tTrain Epoch: 10 \tTrain_loss: 1.0145 | Train_acc: 64.0625 % | Validation_loss: 1.6126 | Validation_acc: 37.5000 %\u001b[32m [repeated 37x across cluster]\u001b[0m\n"
     ]
    },
    {
     "name": "stderr",
     "output_type": "stream",
     "text": [
      "\u001b[36m(DefaultActor pid=28962)\u001b[0m /opt/conda/envs/fed/lib/python3.10/site-packages/sklearn/metrics/_ranking.py:1183: UndefinedMetricWarning: No positive samples in y_true, true positive value should be meaningless\n",
      "\u001b[36m(DefaultActor pid=28962)\u001b[0m   warnings.warn(\n",
      "DEBUG flwr 2024-08-31 21:50:09,978 | server.py:187 | evaluate_round 11 received 4 results and 0 failures\n",
      "DEBUG flwr 2024-08-31 21:50:09,979 | server.py:222 | fit_round 12: strategy sampled 4 clients (out of 4)\n",
      "\u001b[36m(DefaultActor pid=28961)\u001b[0m   return torch.load(io.BytesIO(b))\u001b[32m [repeated 4x across cluster]\u001b[0m\n",
      " 10%|\u001b[34m█         \u001b[0m| 1/10 [00:00<00:01,  5.61it/s]\n",
      " 10%|\u001b[34m█         \u001b[0m| 1/10 [00:00<00:01,  4.95it/s]\n",
      " 20%|\u001b[34m██        \u001b[0m| 2/10 [00:00<00:01,  5.60it/s]\n",
      " 20%|\u001b[34m██        \u001b[0m| 2/10 [00:00<00:01,  4.67it/s]\n",
      " 30%|\u001b[34m███       \u001b[0m| 3/10 [00:00<00:01,  4.56it/s]\n",
      " 30%|\u001b[34m███       \u001b[0m| 3/10 [00:00<00:01,  3.90it/s]\n",
      " 40%|\u001b[34m████      \u001b[0m| 4/10 [00:00<00:01,  4.87it/s]\n",
      " 40%|\u001b[34m████      \u001b[0m| 4/10 [00:00<00:01,  4.44it/s]\n",
      " 50%|\u001b[34m█████     \u001b[0m| 5/10 [00:00<00:00,  5.13it/s]\n",
      " 50%|\u001b[34m█████     \u001b[0m| 5/10 [00:01<00:01,  4.73it/s]\n",
      " 60%|\u001b[34m██████    \u001b[0m| 6/10 [00:01<00:00,  5.20it/s]\n",
      " 60%|\u001b[34m██████    \u001b[0m| 6/10 [00:01<00:00,  4.95it/s]\n",
      " 70%|\u001b[34m███████   \u001b[0m| 7/10 [00:01<00:00,  5.22it/s]\n",
      " 70%|\u001b[34m███████   \u001b[0m| 7/10 [00:01<00:00,  4.58it/s]\n"
     ]
    },
    {
     "name": "stdout",
     "output_type": "stream",
     "text": [
      "\u001b[36m(DefaultActor pid=28961)\u001b[0m save graph in  results/FL/\u001b[32m [repeated 2x across cluster]\u001b[0m\n"
     ]
    },
    {
     "name": "stderr",
     "output_type": "stream",
     "text": [
      " 80%|\u001b[34m████████  \u001b[0m| 8/10 [00:01<00:00,  4.54it/s]\n",
      " 80%|\u001b[34m████████  \u001b[0m| 8/10 [00:01<00:00,  4.67it/s]\n",
      " 90%|\u001b[34m█████████ \u001b[0m| 9/10 [00:01<00:00,  4.70it/s]\n",
      " 90%|\u001b[34m█████████ \u001b[0m| 9/10 [00:01<00:00,  4.89it/s]\n",
      "100%|\u001b[34m██████████\u001b[0m| 10/10 [00:02<00:00,  4.93it/s]\n",
      "100%|\u001b[34m██████████\u001b[0m| 10/10 [00:02<00:00,  4.77it/s]\n",
      " 10%|\u001b[34m█         \u001b[0m| 1/10 [00:00<00:01,  5.52it/s]\n",
      " 10%|\u001b[34m█         \u001b[0m| 1/10 [00:00<00:01,  5.38it/s]\n",
      " 20%|\u001b[34m██        \u001b[0m| 2/10 [00:00<00:01,  5.60it/s]\n",
      " 20%|\u001b[34m██        \u001b[0m| 2/10 [00:00<00:01,  5.46it/s]\n",
      " 30%|\u001b[34m███       \u001b[0m| 3/10 [00:00<00:01,  5.49it/s]\n",
      " 30%|\u001b[34m███       \u001b[0m| 3/10 [00:00<00:01,  4.87it/s]\n",
      " 40%|\u001b[34m████      \u001b[0m| 4/10 [00:00<00:01,  5.06it/s]\n",
      " 40%|\u001b[34m████      \u001b[0m| 4/10 [00:00<00:01,  4.98it/s]\n",
      " 50%|\u001b[34m█████     \u001b[0m| 5/10 [00:00<00:00,  5.21it/s]\n",
      " 50%|\u001b[34m█████     \u001b[0m| 5/10 [00:00<00:00,  5.19it/s]\n",
      " 60%|\u001b[34m██████    \u001b[0m| 6/10 [00:01<00:00,  5.08it/s]\n",
      " 60%|\u001b[34m██████    \u001b[0m| 6/10 [00:01<00:00,  5.12it/s]\n",
      " 70%|\u001b[34m███████   \u001b[0m| 7/10 [00:01<00:00,  5.29it/s]\n",
      " 70%|\u001b[34m███████   \u001b[0m| 7/10 [00:01<00:00,  4.48it/s]\n",
      " 80%|\u001b[34m████████  \u001b[0m| 8/10 [00:01<00:00,  5.40it/s]\n",
      " 80%|\u001b[34m████████  \u001b[0m| 8/10 [00:01<00:00,  4.81it/s]\n",
      " 90%|\u001b[34m█████████ \u001b[0m| 9/10 [00:01<00:00,  4.97it/s]\n",
      " 90%|\u001b[34m█████████ \u001b[0m| 9/10 [00:01<00:00,  5.44it/s]\n",
      "100%|\u001b[34m██████████\u001b[0m| 10/10 [00:02<00:00,  4.96it/s]\n",
      "100%|\u001b[34m██████████\u001b[0m| 10/10 [00:01<00:00,  5.17it/s]\n",
      "DEBUG flwr 2024-08-31 21:50:14,708 | server.py:236 | fit_round 12 received 4 results and 0 failures\n",
      "INFO flwr 2024-08-31 21:50:14,755 | server.py:125 | fit progress: (12, 1.4151195654502282, {'accuracy': 56.730769230769226}, 77.04420677400003)\n",
      "DEBUG flwr 2024-08-31 21:50:14,762 | server.py:173 | evaluate_round 12: strategy sampled 4 clients (out of 4)\n",
      "\u001b[36m(DefaultActor pid=28961)\u001b[0m /tmp/ipykernel_28156/3044491048.py:10: FutureWarning: You are using `torch.load` with `weights_only=False` (the current default value), which uses the default pickle module implicitly. It is possible to construct malicious pickle data which will execute arbitrary code during unpickling (See https://github.com/pytorch/pytorch/blob/main/SECURITY.md#untrusted-models for more details). In a future release, the default value for `weights_only` will be flipped to `True`. This limits the functions that could be executed during unpickling. Arbitrary objects will no longer be allowed to be loaded via this mode unless they are explicitly allowlisted by the user via `torch.serialization.add_safe_globals`. We recommend you start setting `weights_only=True` for any use case where you don't have full control of the loaded file. Please open an issue on GitHub for any issues related to this experimental feature.\u001b[32m [repeated 9x across cluster]\u001b[0m\n",
      "  0%|\u001b[34m          \u001b[0m| 0/10 [00:00<?, ?it/s]\u001b[32m [repeated 4x across cluster]\u001b[0m\n"
     ]
    },
    {
     "name": "stdout",
     "output_type": "stream",
     "text": [
      "Saving round 12 aggregated_parameters...\n",
      "Updated model\n",
      "Server-side evaluation loss 1.4151195654502282 / accuracy 56.730769230769226\n",
      "\u001b[36m(DefaultActor pid=28961)\u001b[0m [Client 2] evaluate, config: {}\u001b[32m [repeated 2x across cluster]\u001b[0m\n",
      "\u001b[36m(DefaultActor pid=28961)\u001b[0m  To get the checkpoint\u001b[32m [repeated 6x across cluster]\u001b[0m\n",
      "\u001b[36m(DefaultActor pid=28961)\u001b[0m [Client 2, round 12] fit, config: {'learning_rate': 0.003, 'batch_size': '16', 'server_round': 12, 'local_epochs': 10}\u001b[32m [repeated 4x across cluster]\u001b[0m\n",
      "\u001b[36m(DefaultActor pid=28961)\u001b[0m Updated model\u001b[32m [repeated 6x across cluster]\u001b[0m\n",
      "\u001b[36m(DefaultActor pid=28961)\u001b[0m \tTrain Epoch: 10 \tTrain_loss: 0.8084 | Train_acc: 70.8333 % | Validation_loss: 1.4421 | Validation_acc: 50.0000 %\u001b[32m [repeated 40x across cluster]\u001b[0m\n"
     ]
    },
    {
     "name": "stderr",
     "output_type": "stream",
     "text": [
      "\u001b[36m(DefaultActor pid=28961)\u001b[0m   return torch.load(io.BytesIO(b))\n",
      "\u001b[36m(DefaultActor pid=28962)\u001b[0m   return torch.load(io.BytesIO(b))\n",
      "\u001b[36m(DefaultActor pid=28962)\u001b[0m /opt/conda/envs/fed/lib/python3.10/site-packages/sklearn/metrics/_ranking.py:1183: UndefinedMetricWarning: No positive samples in y_true, true positive value should be meaningless\n",
      "\u001b[36m(DefaultActor pid=28962)\u001b[0m   warnings.warn(\n",
      "DEBUG flwr 2024-08-31 21:50:16,045 | server.py:187 | evaluate_round 12 received 4 results and 0 failures\n",
      "DEBUG flwr 2024-08-31 21:50:16,045 | server.py:222 | fit_round 13: strategy sampled 4 clients (out of 4)\n",
      " 10%|\u001b[34m█         \u001b[0m| 1/10 [00:00<00:01,  5.19it/s]\n",
      " 10%|\u001b[34m█         \u001b[0m| 1/10 [00:00<00:01,  5.42it/s]\n",
      " 20%|\u001b[34m██        \u001b[0m| 2/10 [00:00<00:01,  5.35it/s]\n",
      " 20%|\u001b[34m██        \u001b[0m| 2/10 [00:00<00:01,  5.41it/s]\n",
      " 30%|\u001b[34m███       \u001b[0m| 3/10 [00:00<00:01,  5.48it/s]\n"
     ]
    },
    {
     "name": "stdout",
     "output_type": "stream",
     "text": [
      "\u001b[36m(DefaultActor pid=28961)\u001b[0m save graph in  results/FL/\u001b[32m [repeated 4x across cluster]\u001b[0m\n"
     ]
    },
    {
     "name": "stderr",
     "output_type": "stream",
     "text": [
      " 30%|\u001b[34m███       \u001b[0m| 3/10 [00:00<00:01,  5.30it/s]\n",
      " 40%|\u001b[34m████      \u001b[0m| 4/10 [00:00<00:01,  5.31it/s]\n",
      " 40%|\u001b[34m████      \u001b[0m| 4/10 [00:00<00:01,  5.04it/s]\n",
      " 50%|\u001b[34m█████     \u001b[0m| 5/10 [00:00<00:00,  5.16it/s]\n",
      " 50%|\u001b[34m█████     \u001b[0m| 5/10 [00:00<00:00,  5.10it/s]\n",
      " 60%|\u001b[34m██████    \u001b[0m| 6/10 [00:01<00:00,  5.08it/s]\n",
      " 60%|\u001b[34m██████    \u001b[0m| 6/10 [00:01<00:00,  5.26it/s]\n",
      " 70%|\u001b[34m███████   \u001b[0m| 7/10 [00:01<00:00,  5.21it/s]\n",
      " 70%|\u001b[34m███████   \u001b[0m| 7/10 [00:01<00:00,  5.25it/s]\n",
      " 80%|\u001b[34m████████  \u001b[0m| 8/10 [00:01<00:00,  5.25it/s]\n",
      " 80%|\u001b[34m████████  \u001b[0m| 8/10 [00:01<00:00,  5.29it/s]\n",
      " 90%|\u001b[34m█████████ \u001b[0m| 9/10 [00:01<00:00,  5.35it/s]\n",
      " 90%|\u001b[34m█████████ \u001b[0m| 9/10 [00:01<00:00,  5.27it/s]\n",
      "100%|\u001b[34m██████████\u001b[0m| 10/10 [00:01<00:00,  5.22it/s]\n",
      "100%|\u001b[34m██████████\u001b[0m| 10/10 [00:01<00:00,  5.08it/s]\n",
      " 10%|\u001b[34m█         \u001b[0m| 1/10 [00:00<00:01,  5.49it/s]\n",
      " 20%|\u001b[34m██        \u001b[0m| 2/10 [00:00<00:01,  5.50it/s]\n",
      " 10%|\u001b[34m█         \u001b[0m| 1/10 [00:00<00:01,  5.17it/s]\n",
      " 30%|\u001b[34m███       \u001b[0m| 3/10 [00:00<00:01,  5.55it/s]\n",
      " 20%|\u001b[34m██        \u001b[0m| 2/10 [00:00<00:01,  5.33it/s]\n",
      " 30%|\u001b[34m███       \u001b[0m| 3/10 [00:00<00:01,  5.44it/s]\n",
      " 40%|\u001b[34m████      \u001b[0m| 4/10 [00:00<00:01,  5.60it/s]\n",
      " 40%|\u001b[34m████      \u001b[0m| 4/10 [00:00<00:01,  5.50it/s]\n",
      " 50%|\u001b[34m█████     \u001b[0m| 5/10 [00:00<00:00,  5.26it/s]\n",
      " 50%|\u001b[34m█████     \u001b[0m| 5/10 [00:00<00:00,  5.48it/s]\n",
      " 60%|\u001b[34m██████    \u001b[0m| 6/10 [00:01<00:00,  5.24it/s]\n",
      " 70%|\u001b[34m███████   \u001b[0m| 7/10 [00:01<00:00,  5.36it/s]\n",
      " 60%|\u001b[34m██████    \u001b[0m| 6/10 [00:01<00:00,  5.53it/s]\n",
      " 70%|\u001b[34m███████   \u001b[0m| 7/10 [00:01<00:00,  5.56it/s]\n",
      " 80%|\u001b[34m████████  \u001b[0m| 8/10 [00:01<00:00,  5.33it/s]\n",
      " 80%|\u001b[34m████████  \u001b[0m| 8/10 [00:01<00:00,  5.22it/s]\n",
      "\u001b[36m(DefaultActor pid=28962)\u001b[0m /tmp/ipykernel_28156/3044491048.py:10: FutureWarning: You are using `torch.load` with `weights_only=False` (the current default value), which uses the default pickle module implicitly. It is possible to construct malicious pickle data which will execute arbitrary code during unpickling (See https://github.com/pytorch/pytorch/blob/main/SECURITY.md#untrusted-models for more details). In a future release, the default value for `weights_only` will be flipped to `True`. This limits the functions that could be executed during unpickling. Arbitrary objects will no longer be allowed to be loaded via this mode unless they are explicitly allowlisted by the user via `torch.serialization.add_safe_globals`. We recommend you start setting `weights_only=True` for any use case where you don't have full control of the loaded file. Please open an issue on GitHub for any issues related to this experimental feature.\u001b[32m [repeated 11x across cluster]\u001b[0m\n",
      "  0%|\u001b[34m          \u001b[0m| 0/10 [00:00<?, ?it/s]\u001b[32m [repeated 4x across cluster]\u001b[0m\n"
     ]
    },
    {
     "name": "stdout",
     "output_type": "stream",
     "text": [
      "\u001b[36m(DefaultActor pid=28962)\u001b[0m [Client 3] evaluate, config: {}\u001b[32m [repeated 3x across cluster]\u001b[0m\n",
      "\u001b[36m(DefaultActor pid=28962)\u001b[0m  To get the checkpoint\u001b[32m [repeated 7x across cluster]\u001b[0m\n",
      "\u001b[36m(DefaultActor pid=28962)\u001b[0m [Client 1, round 13] fit, config: {'learning_rate': 0.003, 'batch_size': '16', 'server_round': 13, 'local_epochs': 10}\u001b[32m [repeated 4x across cluster]\u001b[0m\n",
      "\u001b[36m(DefaultActor pid=28962)\u001b[0m Updated model\u001b[32m [repeated 7x across cluster]\u001b[0m\n",
      "\u001b[36m(DefaultActor pid=28962)\u001b[0m \tTrain Epoch: 8 \tTrain_loss: 0.9074 | Train_acc: 61.4583 % | Validation_loss: 1.1736 | Validation_acc: 59.3750 %\u001b[32m [repeated 36x across cluster]\u001b[0m\n"
     ]
    },
    {
     "name": "stderr",
     "output_type": "stream",
     "text": [
      " 90%|\u001b[34m█████████ \u001b[0m| 9/10 [00:01<00:00,  4.63it/s]\n",
      " 90%|\u001b[34m█████████ \u001b[0m| 9/10 [00:01<00:00,  4.72it/s]\n",
      "100%|\u001b[34m██████████\u001b[0m| 10/10 [00:01<00:00,  5.08it/s]\n",
      "100%|\u001b[34m██████████\u001b[0m| 10/10 [00:01<00:00,  5.09it/s]\n",
      "\u001b[36m(DefaultActor pid=28962)\u001b[0m   return torch.load(io.BytesIO(b))\u001b[32m [repeated 2x across cluster]\u001b[0m\n",
      "DEBUG flwr 2024-08-31 21:50:20,643 | server.py:236 | fit_round 13 received 4 results and 0 failures\n",
      "INFO flwr 2024-08-31 21:50:20,682 | server.py:125 | fit progress: (13, 1.2741875556799083, {'accuracy': 62.019230769230774}, 82.97144440900001)\n",
      "DEBUG flwr 2024-08-31 21:50:20,683 | server.py:173 | evaluate_round 13: strategy sampled 4 clients (out of 4)\n"
     ]
    },
    {
     "name": "stdout",
     "output_type": "stream",
     "text": [
      "Saving round 13 aggregated_parameters...\n",
      "Updated model\n",
      "Server-side evaluation loss 1.2741875556799083 / accuracy 62.019230769230774\n"
     ]
    },
    {
     "name": "stderr",
     "output_type": "stream",
     "text": [
      "\u001b[36m(DefaultActor pid=28961)\u001b[0m /opt/conda/envs/fed/lib/python3.10/site-packages/sklearn/metrics/_ranking.py:1183: UndefinedMetricWarning: No positive samples in y_true, true positive value should be meaningless\n",
      "\u001b[36m(DefaultActor pid=28961)\u001b[0m   warnings.warn(\n"
     ]
    },
    {
     "name": "stdout",
     "output_type": "stream",
     "text": [
      "\u001b[36m(DefaultActor pid=28962)\u001b[0m save graph in  results/FL/\u001b[32m [repeated 4x across cluster]\u001b[0m\n"
     ]
    },
    {
     "name": "stderr",
     "output_type": "stream",
     "text": [
      "DEBUG flwr 2024-08-31 21:50:22,420 | server.py:187 | evaluate_round 13 received 4 results and 0 failures\n",
      "DEBUG flwr 2024-08-31 21:50:22,420 | server.py:222 | fit_round 14: strategy sampled 4 clients (out of 4)\n",
      " 10%|\u001b[34m█         \u001b[0m| 1/10 [00:00<00:01,  5.05it/s]\n",
      " 10%|\u001b[34m█         \u001b[0m| 1/10 [00:00<00:01,  5.68it/s]\n",
      " 20%|\u001b[34m██        \u001b[0m| 2/10 [00:00<00:01,  5.45it/s]\n",
      " 20%|\u001b[34m██        \u001b[0m| 2/10 [00:00<00:01,  5.69it/s]\n",
      " 30%|\u001b[34m███       \u001b[0m| 3/10 [00:00<00:01,  5.70it/s]\n",
      " 30%|\u001b[34m███       \u001b[0m| 3/10 [00:00<00:01,  5.34it/s]\n",
      " 40%|\u001b[34m████      \u001b[0m| 4/10 [00:00<00:01,  5.68it/s]\n",
      " 40%|\u001b[34m████      \u001b[0m| 4/10 [00:00<00:01,  4.91it/s]\n",
      " 50%|\u001b[34m█████     \u001b[0m| 5/10 [00:00<00:00,  5.21it/s]\n",
      " 50%|\u001b[34m█████     \u001b[0m| 5/10 [00:00<00:00,  5.06it/s]\n",
      " 60%|\u001b[34m██████    \u001b[0m| 6/10 [00:01<00:00,  5.18it/s]\n",
      " 60%|\u001b[34m██████    \u001b[0m| 6/10 [00:01<00:00,  5.25it/s]\n",
      " 70%|\u001b[34m███████   \u001b[0m| 7/10 [00:01<00:00,  5.29it/s]\n",
      " 70%|\u001b[34m███████   \u001b[0m| 7/10 [00:01<00:00,  5.24it/s]\n",
      " 80%|\u001b[34m████████  \u001b[0m| 8/10 [00:01<00:00,  5.44it/s]\n",
      " 80%|\u001b[34m████████  \u001b[0m| 8/10 [00:01<00:00,  5.38it/s]\n",
      " 90%|\u001b[34m█████████ \u001b[0m| 9/10 [00:01<00:00,  5.46it/s]\n",
      " 90%|\u001b[34m█████████ \u001b[0m| 9/10 [00:01<00:00,  5.45it/s]\n",
      "100%|\u001b[34m██████████\u001b[0m| 10/10 [00:01<00:00,  5.17it/s]\n",
      "100%|\u001b[34m██████████\u001b[0m| 10/10 [00:01<00:00,  5.25it/s]\n",
      " 10%|\u001b[34m█         \u001b[0m| 1/10 [00:00<00:01,  5.66it/s]\n",
      "\u001b[36m(DefaultActor pid=28962)\u001b[0m /tmp/ipykernel_28156/3044491048.py:10: FutureWarning: You are using `torch.load` with `weights_only=False` (the current default value), which uses the default pickle module implicitly. It is possible to construct malicious pickle data which will execute arbitrary code during unpickling (See https://github.com/pytorch/pytorch/blob/main/SECURITY.md#untrusted-models for more details). In a future release, the default value for `weights_only` will be flipped to `True`. This limits the functions that could be executed during unpickling. Arbitrary objects will no longer be allowed to be loaded via this mode unless they are explicitly allowlisted by the user via `torch.serialization.add_safe_globals`. We recommend you start setting `weights_only=True` for any use case where you don't have full control of the loaded file. Please open an issue on GitHub for any issues related to this experimental feature.\u001b[32m [repeated 12x across cluster]\u001b[0m\n",
      "  0%|\u001b[34m          \u001b[0m| 0/10 [00:00<?, ?it/s]\u001b[32m [repeated 4x across cluster]\u001b[0m\n",
      " 10%|\u001b[34m█         \u001b[0m| 1/10 [00:00<00:01,  5.49it/s]\n",
      " 20%|\u001b[34m██        \u001b[0m| 2/10 [00:00<00:01,  5.66it/s]\n"
     ]
    },
    {
     "name": "stdout",
     "output_type": "stream",
     "text": [
      "\u001b[36m(DefaultActor pid=28962)\u001b[0m [Client 0] evaluate, config: {}\u001b[32m [repeated 4x across cluster]\u001b[0m\n",
      "\u001b[36m(DefaultActor pid=28962)\u001b[0m  To get the checkpoint\u001b[32m [repeated 8x across cluster]\u001b[0m\n",
      "\u001b[36m(DefaultActor pid=28962)\u001b[0m [Client 3, round 14] fit, config: {'learning_rate': 0.003, 'batch_size': '16', 'server_round': 14, 'local_epochs': 10}\u001b[32m [repeated 4x across cluster]\u001b[0m\n",
      "\u001b[36m(DefaultActor pid=28962)\u001b[0m Updated model\u001b[32m [repeated 8x across cluster]\u001b[0m\n",
      "\u001b[36m(DefaultActor pid=28961)\u001b[0m \tTrain Epoch: 1 \tTrain_loss: 1.1986 | Train_acc: 55.2083 % | Validation_loss: 1.2243 | Validation_acc: 43.7500 %\u001b[32m [repeated 25x across cluster]\u001b[0m\n"
     ]
    },
    {
     "name": "stderr",
     "output_type": "stream",
     "text": [
      " 20%|\u001b[34m██        \u001b[0m| 2/10 [00:00<00:01,  5.64it/s]\n",
      " 30%|\u001b[34m███       \u001b[0m| 3/10 [00:00<00:01,  5.49it/s]\n",
      " 30%|\u001b[34m███       \u001b[0m| 3/10 [00:00<00:01,  5.47it/s]\n",
      " 40%|\u001b[34m████      \u001b[0m| 4/10 [00:00<00:01,  5.22it/s]\n",
      "\u001b[36m(DefaultActor pid=28962)\u001b[0m   return torch.load(io.BytesIO(b))\u001b[32m [repeated 4x across cluster]\u001b[0m\n",
      " 40%|\u001b[34m████      \u001b[0m| 4/10 [00:00<00:01,  4.95it/s]\n",
      " 50%|\u001b[34m█████     \u001b[0m| 5/10 [00:00<00:01,  4.93it/s]\n",
      " 50%|\u001b[34m█████     \u001b[0m| 5/10 [00:00<00:00,  5.06it/s]\n",
      " 60%|\u001b[34m██████    \u001b[0m| 6/10 [00:01<00:00,  4.93it/s]\n",
      " 60%|\u001b[34m██████    \u001b[0m| 6/10 [00:01<00:00,  4.81it/s]\n",
      " 70%|\u001b[34m███████   \u001b[0m| 7/10 [00:01<00:00,  4.77it/s]\n",
      " 70%|\u001b[34m███████   \u001b[0m| 7/10 [00:01<00:00,  4.78it/s]\n",
      " 80%|\u001b[34m████████  \u001b[0m| 8/10 [00:01<00:00,  4.99it/s]\n",
      " 80%|\u001b[34m████████  \u001b[0m| 8/10 [00:01<00:00,  5.02it/s]\n",
      " 90%|\u001b[34m█████████ \u001b[0m| 9/10 [00:01<00:00,  4.83it/s]\n",
      " 90%|\u001b[34m█████████ \u001b[0m| 9/10 [00:01<00:00,  4.55it/s]\n",
      "100%|\u001b[34m██████████\u001b[0m| 10/10 [00:01<00:00,  5.02it/s]\n",
      "100%|\u001b[34m██████████\u001b[0m| 10/10 [00:02<00:00,  4.93it/s]\n",
      "DEBUG flwr 2024-08-31 21:50:27,091 | server.py:236 | fit_round 14 received 4 results and 0 failures\n",
      "INFO flwr 2024-08-31 21:50:27,130 | server.py:125 | fit progress: (14, 1.3144573936095605, {'accuracy': 60.57692307692307}, 89.41889205400003)\n",
      "DEBUG flwr 2024-08-31 21:50:27,130 | server.py:173 | evaluate_round 14: strategy sampled 4 clients (out of 4)\n"
     ]
    },
    {
     "name": "stdout",
     "output_type": "stream",
     "text": [
      "Saving round 14 aggregated_parameters...\n",
      "Updated model\n",
      "Server-side evaluation loss 1.3144573936095605 / accuracy 60.57692307692307\n",
      "\u001b[36m(DefaultActor pid=28961)\u001b[0m save graph in  results/FL/\u001b[32m [repeated 4x across cluster]\u001b[0m\n"
     ]
    },
    {
     "name": "stderr",
     "output_type": "stream",
     "text": [
      "\u001b[36m(DefaultActor pid=28962)\u001b[0m /opt/conda/envs/fed/lib/python3.10/site-packages/sklearn/metrics/_ranking.py:1183: UndefinedMetricWarning: No positive samples in y_true, true positive value should be meaningless\n",
      "\u001b[36m(DefaultActor pid=28962)\u001b[0m   warnings.warn(\n",
      "DEBUG flwr 2024-08-31 21:50:28,309 | server.py:187 | evaluate_round 14 received 4 results and 0 failures\n",
      "DEBUG flwr 2024-08-31 21:50:28,311 | server.py:222 | fit_round 15: strategy sampled 4 clients (out of 4)\n",
      " 10%|\u001b[34m█         \u001b[0m| 1/10 [00:00<00:02,  4.49it/s]\n",
      " 10%|\u001b[34m█         \u001b[0m| 1/10 [00:00<00:02,  3.82it/s]\n",
      " 20%|\u001b[34m██        \u001b[0m| 2/10 [00:00<00:01,  5.09it/s]\n",
      " 20%|\u001b[34m██        \u001b[0m| 2/10 [00:00<00:01,  4.78it/s]\n",
      " 30%|\u001b[34m███       \u001b[0m| 3/10 [00:00<00:01,  5.30it/s]\n",
      " 30%|\u001b[34m███       \u001b[0m| 3/10 [00:00<00:01,  5.05it/s]\n",
      " 40%|\u001b[34m████      \u001b[0m| 4/10 [00:00<00:01,  5.40it/s]\n",
      " 40%|\u001b[34m████      \u001b[0m| 4/10 [00:00<00:01,  5.20it/s]\n",
      " 50%|\u001b[34m█████     \u001b[0m| 5/10 [00:00<00:00,  5.37it/s]\n",
      " 50%|\u001b[34m█████     \u001b[0m| 5/10 [00:01<00:00,  5.08it/s]\n",
      " 60%|\u001b[34m██████    \u001b[0m| 6/10 [00:01<00:00,  5.49it/s]\n",
      " 60%|\u001b[34m██████    \u001b[0m| 6/10 [00:01<00:00,  5.11it/s]\n",
      " 70%|\u001b[34m███████   \u001b[0m| 7/10 [00:01<00:00,  5.44it/s]\n",
      " 70%|\u001b[34m███████   \u001b[0m| 7/10 [00:01<00:00,  5.25it/s]\n",
      " 80%|\u001b[34m████████  \u001b[0m| 8/10 [00:01<00:00,  5.43it/s]\n",
      " 80%|\u001b[34m████████  \u001b[0m| 8/10 [00:01<00:00,  5.39it/s]\n",
      "\u001b[36m(DefaultActor pid=28962)\u001b[0m /tmp/ipykernel_28156/3044491048.py:10: FutureWarning: You are using `torch.load` with `weights_only=False` (the current default value), which uses the default pickle module implicitly. It is possible to construct malicious pickle data which will execute arbitrary code during unpickling (See https://github.com/pytorch/pytorch/blob/main/SECURITY.md#untrusted-models for more details). In a future release, the default value for `weights_only` will be flipped to `True`. This limits the functions that could be executed during unpickling. Arbitrary objects will no longer be allowed to be loaded via this mode unless they are explicitly allowlisted by the user via `torch.serialization.add_safe_globals`. We recommend you start setting `weights_only=True` for any use case where you don't have full control of the loaded file. Please open an issue on GitHub for any issues related to this experimental feature.\u001b[32m [repeated 10x across cluster]\u001b[0m\n",
      "  0%|\u001b[34m          \u001b[0m| 0/10 [00:00<?, ?it/s]\u001b[32m [repeated 2x across cluster]\u001b[0m\n",
      " 90%|\u001b[34m█████████ \u001b[0m| 9/10 [00:01<00:00,  5.46it/s]\n",
      " 90%|\u001b[34m█████████ \u001b[0m| 9/10 [00:01<00:00,  5.48it/s]\n"
     ]
    },
    {
     "name": "stdout",
     "output_type": "stream",
     "text": [
      "\u001b[36m(DefaultActor pid=28961)\u001b[0m [Client 0] evaluate, config: {}\u001b[32m [repeated 4x across cluster]\u001b[0m\n",
      "\u001b[36m(DefaultActor pid=28962)\u001b[0m  To get the checkpoint\u001b[32m [repeated 6x across cluster]\u001b[0m\n",
      "\u001b[36m(DefaultActor pid=28962)\u001b[0m [Client 2, round 15] fit, config: {'learning_rate': 0.003, 'batch_size': '16', 'server_round': 15, 'local_epochs': 10}\u001b[32m [repeated 2x across cluster]\u001b[0m\n",
      "\u001b[36m(DefaultActor pid=28962)\u001b[0m Updated model\u001b[32m [repeated 6x across cluster]\u001b[0m\n",
      "\u001b[36m(DefaultActor pid=28962)\u001b[0m \tTrain Epoch: 8 \tTrain_loss: 0.6654 | Train_acc: 77.6042 % | Validation_loss: 1.4275 | Validation_acc: 53.1250 %\u001b[32m [repeated 35x across cluster]\u001b[0m\n"
     ]
    },
    {
     "name": "stderr",
     "output_type": "stream",
     "text": [
      "100%|\u001b[34m██████████\u001b[0m| 10/10 [00:01<00:00,  5.38it/s]\n",
      "100%|\u001b[34m██████████\u001b[0m| 10/10 [00:01<00:00,  5.22it/s]\n",
      "\u001b[36m(DefaultActor pid=28962)\u001b[0m   return torch.load(io.BytesIO(b))\u001b[32m [repeated 4x across cluster]\u001b[0m\n",
      " 10%|\u001b[34m█         \u001b[0m| 1/10 [00:00<00:02,  4.01it/s]\n",
      " 10%|\u001b[34m█         \u001b[0m| 1/10 [00:00<00:01,  4.65it/s]\n",
      " 20%|\u001b[34m██        \u001b[0m| 2/10 [00:00<00:02,  3.48it/s]\n",
      " 20%|\u001b[34m██        \u001b[0m| 2/10 [00:00<00:02,  3.57it/s]\n",
      " 30%|\u001b[34m███       \u001b[0m| 3/10 [00:00<00:01,  3.67it/s]\n",
      " 30%|\u001b[34m███       \u001b[0m| 3/10 [00:00<00:02,  3.08it/s]\n",
      " 40%|\u001b[34m████      \u001b[0m| 4/10 [00:00<00:01,  4.20it/s]\n",
      " 40%|\u001b[34m████      \u001b[0m| 4/10 [00:01<00:01,  3.72it/s]\n",
      " 50%|\u001b[34m█████     \u001b[0m| 5/10 [00:01<00:01,  4.27it/s]\n",
      " 50%|\u001b[34m█████     \u001b[0m| 5/10 [00:01<00:01,  4.52it/s]\n",
      " 60%|\u001b[34m██████    \u001b[0m| 6/10 [00:01<00:00,  4.40it/s]\n",
      " 60%|\u001b[34m██████    \u001b[0m| 6/10 [00:01<00:00,  4.38it/s]\n",
      " 70%|\u001b[34m███████   \u001b[0m| 7/10 [00:01<00:00,  4.71it/s]\n",
      " 70%|\u001b[34m███████   \u001b[0m| 7/10 [00:01<00:00,  4.75it/s]\n"
     ]
    },
    {
     "name": "stdout",
     "output_type": "stream",
     "text": [
      "\u001b[36m(DefaultActor pid=28962)\u001b[0m save graph in  results/FL/\u001b[32m [repeated 2x across cluster]\u001b[0m\n"
     ]
    },
    {
     "name": "stderr",
     "output_type": "stream",
     "text": [
      " 80%|\u001b[34m████████  \u001b[0m| 8/10 [00:01<00:00,  4.88it/s]\n",
      " 80%|\u001b[34m████████  \u001b[0m| 8/10 [00:01<00:00,  4.97it/s]\n",
      " 90%|\u001b[34m█████████ \u001b[0m| 9/10 [00:02<00:00,  4.91it/s]\n",
      " 90%|\u001b[34m█████████ \u001b[0m| 9/10 [00:01<00:00,  5.08it/s]\n",
      "100%|\u001b[34m██████████\u001b[0m| 10/10 [00:02<00:00,  4.29it/s]\n",
      "100%|\u001b[34m██████████\u001b[0m| 10/10 [00:02<00:00,  4.54it/s]\n",
      "DEBUG flwr 2024-08-31 21:50:33,164 | server.py:236 | fit_round 15 received 4 results and 0 failures\n",
      "INFO flwr 2024-08-31 21:50:33,202 | server.py:125 | fit progress: (15, 1.2404100757378798, {'accuracy': 61.53846153846154}, 95.49127227899999)\n",
      "DEBUG flwr 2024-08-31 21:50:33,203 | server.py:173 | evaluate_round 15: strategy sampled 4 clients (out of 4)\n"
     ]
    },
    {
     "name": "stdout",
     "output_type": "stream",
     "text": [
      "Saving round 15 aggregated_parameters...\n",
      "Updated model\n",
      "Server-side evaluation loss 1.2404100757378798 / accuracy 61.53846153846154\n"
     ]
    },
    {
     "name": "stderr",
     "output_type": "stream",
     "text": [
      "\u001b[36m(DefaultActor pid=28962)\u001b[0m /opt/conda/envs/fed/lib/python3.10/site-packages/sklearn/metrics/_ranking.py:1183: UndefinedMetricWarning: No positive samples in y_true, true positive value should be meaningless\n",
      "\u001b[36m(DefaultActor pid=28962)\u001b[0m   warnings.warn(\n",
      "DEBUG flwr 2024-08-31 21:50:34,416 | server.py:187 | evaluate_round 15 received 4 results and 0 failures\n",
      "DEBUG flwr 2024-08-31 21:50:34,416 | server.py:222 | fit_round 16: strategy sampled 4 clients (out of 4)\n",
      " 10%|\u001b[34m█         \u001b[0m| 1/10 [00:00<00:01,  4.76it/s]\n",
      " 10%|\u001b[34m█         \u001b[0m| 1/10 [00:00<00:01,  4.80it/s]\n",
      " 20%|\u001b[34m██        \u001b[0m| 2/10 [00:00<00:01,  4.98it/s]\n",
      " 20%|\u001b[34m██        \u001b[0m| 2/10 [00:00<00:01,  5.37it/s]\n",
      " 30%|\u001b[34m███       \u001b[0m| 3/10 [00:00<00:01,  4.48it/s]\n",
      "\u001b[36m(DefaultActor pid=28962)\u001b[0m /tmp/ipykernel_28156/3044491048.py:10: FutureWarning: You are using `torch.load` with `weights_only=False` (the current default value), which uses the default pickle module implicitly. It is possible to construct malicious pickle data which will execute arbitrary code during unpickling (See https://github.com/pytorch/pytorch/blob/main/SECURITY.md#untrusted-models for more details). In a future release, the default value for `weights_only` will be flipped to `True`. This limits the functions that could be executed during unpickling. Arbitrary objects will no longer be allowed to be loaded via this mode unless they are explicitly allowlisted by the user via `torch.serialization.add_safe_globals`. We recommend you start setting `weights_only=True` for any use case where you don't have full control of the loaded file. Please open an issue on GitHub for any issues related to this experimental feature.\u001b[32m [repeated 12x across cluster]\u001b[0m\n",
      "  0%|\u001b[34m          \u001b[0m| 0/10 [00:00<?, ?it/s]\u001b[32m [repeated 4x across cluster]\u001b[0m\n",
      " 30%|\u001b[34m███       \u001b[0m| 3/10 [00:00<00:01,  5.15it/s]\n",
      " 40%|\u001b[34m████      \u001b[0m| 4/10 [00:00<00:01,  5.33it/s]\n"
     ]
    },
    {
     "name": "stdout",
     "output_type": "stream",
     "text": [
      "\u001b[36m(DefaultActor pid=28962)\u001b[0m [Client 0] evaluate, config: {}\u001b[32m [repeated 4x across cluster]\u001b[0m\n",
      "\u001b[36m(DefaultActor pid=28962)\u001b[0m  To get the checkpoint\u001b[32m [repeated 8x across cluster]\u001b[0m\n",
      "\u001b[36m(DefaultActor pid=28962)\u001b[0m [Client 1, round 16] fit, config: {'learning_rate': 0.003, 'batch_size': '16', 'server_round': 16, 'local_epochs': 10}\u001b[32m [repeated 4x across cluster]\u001b[0m\n",
      "\u001b[36m(DefaultActor pid=28962)\u001b[0m Updated model\u001b[32m [repeated 8x across cluster]\u001b[0m\n",
      "\u001b[36m(DefaultActor pid=28961)\u001b[0m \tTrain Epoch: 3 \tTrain_loss: 1.0910 | Train_acc: 54.6875 % | Validation_loss: 2.0218 | Validation_acc: 28.1250 %\u001b[32m [repeated 29x across cluster]\u001b[0m\n"
     ]
    },
    {
     "name": "stderr",
     "output_type": "stream",
     "text": [
      " 40%|\u001b[34m████      \u001b[0m| 4/10 [00:00<00:01,  4.76it/s]\n",
      " 50%|\u001b[34m█████     \u001b[0m| 5/10 [00:00<00:00,  5.38it/s]\n",
      " 50%|\u001b[34m█████     \u001b[0m| 5/10 [00:01<00:01,  4.88it/s]\n",
      " 60%|\u001b[34m██████    \u001b[0m| 6/10 [00:01<00:00,  5.15it/s]\n",
      "\u001b[36m(DefaultActor pid=28962)\u001b[0m   return torch.load(io.BytesIO(b))\u001b[32m [repeated 4x across cluster]\u001b[0m\n",
      " 60%|\u001b[34m██████    \u001b[0m| 6/10 [00:01<00:00,  5.00it/s]\n",
      " 70%|\u001b[34m███████   \u001b[0m| 7/10 [00:01<00:00,  5.23it/s]\n",
      " 70%|\u001b[34m███████   \u001b[0m| 7/10 [00:01<00:00,  5.08it/s]\n",
      " 80%|\u001b[34m████████  \u001b[0m| 8/10 [00:01<00:00,  5.37it/s]\n",
      " 80%|\u001b[34m████████  \u001b[0m| 8/10 [00:01<00:00,  5.24it/s]\n",
      " 90%|\u001b[34m█████████ \u001b[0m| 9/10 [00:01<00:00,  5.03it/s]\n",
      " 90%|\u001b[34m█████████ \u001b[0m| 9/10 [00:01<00:00,  4.93it/s]\n",
      "100%|\u001b[34m██████████\u001b[0m| 10/10 [00:01<00:00,  5.20it/s]\n",
      "100%|\u001b[34m██████████\u001b[0m| 10/10 [00:02<00:00,  4.88it/s]\n",
      " 10%|\u001b[34m█         \u001b[0m| 1/10 [00:00<00:02,  3.44it/s]\n",
      " 10%|\u001b[34m█         \u001b[0m| 1/10 [00:00<00:02,  3.56it/s]\n",
      " 20%|\u001b[34m██        \u001b[0m| 2/10 [00:00<00:01,  4.29it/s]\n",
      " 20%|\u001b[34m██        \u001b[0m| 2/10 [00:00<00:01,  4.54it/s]\n"
     ]
    },
    {
     "name": "stdout",
     "output_type": "stream",
     "text": [
      "\u001b[36m(DefaultActor pid=28961)\u001b[0m save graph in  results/FL/\u001b[32m [repeated 4x across cluster]\u001b[0m\n"
     ]
    },
    {
     "name": "stderr",
     "output_type": "stream",
     "text": [
      " 30%|\u001b[34m███       \u001b[0m| 3/10 [00:00<00:01,  4.94it/s]\n",
      " 30%|\u001b[34m███       \u001b[0m| 3/10 [00:00<00:01,  4.73it/s]\n",
      " 40%|\u001b[34m████      \u001b[0m| 4/10 [00:00<00:01,  5.20it/s]\n",
      " 40%|\u001b[34m████      \u001b[0m| 4/10 [00:00<00:01,  4.82it/s]\n",
      " 50%|\u001b[34m█████     \u001b[0m| 5/10 [00:01<00:00,  5.23it/s]\n",
      " 50%|\u001b[34m█████     \u001b[0m| 5/10 [00:01<00:00,  5.04it/s]\n",
      " 60%|\u001b[34m██████    \u001b[0m| 6/10 [00:01<00:00,  5.31it/s]\n",
      " 60%|\u001b[34m██████    \u001b[0m| 6/10 [00:01<00:00,  5.22it/s]\n",
      " 70%|\u001b[34m███████   \u001b[0m| 7/10 [00:01<00:00,  5.35it/s]\n",
      " 70%|\u001b[34m███████   \u001b[0m| 7/10 [00:01<00:00,  5.32it/s]\n",
      " 80%|\u001b[34m████████  \u001b[0m| 8/10 [00:01<00:00,  5.40it/s]\n",
      " 80%|\u001b[34m████████  \u001b[0m| 8/10 [00:01<00:00,  5.30it/s]\n",
      " 90%|\u001b[34m█████████ \u001b[0m| 9/10 [00:01<00:00,  5.17it/s]\n",
      " 90%|\u001b[34m█████████ \u001b[0m| 9/10 [00:01<00:00,  5.05it/s]\n",
      "100%|\u001b[34m██████████\u001b[0m| 10/10 [00:01<00:00,  5.13it/s]\n",
      "100%|\u001b[34m██████████\u001b[0m| 10/10 [00:02<00:00,  4.97it/s]\n",
      "DEBUG flwr 2024-08-31 21:50:39,114 | server.py:236 | fit_round 16 received 4 results and 0 failures\n",
      "INFO flwr 2024-08-31 21:50:39,159 | server.py:125 | fit progress: (16, 1.3037279569185698, {'accuracy': 58.17307692307693}, 101.44863265499998)\n",
      "DEBUG flwr 2024-08-31 21:50:39,161 | server.py:173 | evaluate_round 16: strategy sampled 4 clients (out of 4)\n"
     ]
    },
    {
     "name": "stdout",
     "output_type": "stream",
     "text": [
      "Saving round 16 aggregated_parameters...\n",
      "Updated model\n",
      "Server-side evaluation loss 1.3037279569185698 / accuracy 58.17307692307693\n"
     ]
    },
    {
     "name": "stderr",
     "output_type": "stream",
     "text": [
      "\u001b[36m(DefaultActor pid=28962)\u001b[0m /opt/conda/envs/fed/lib/python3.10/site-packages/sklearn/metrics/_ranking.py:1183: UndefinedMetricWarning: No positive samples in y_true, true positive value should be meaningless\n",
      "\u001b[36m(DefaultActor pid=28962)\u001b[0m   warnings.warn(\n",
      "\u001b[36m(DefaultActor pid=28962)\u001b[0m /tmp/ipykernel_28156/3044491048.py:10: FutureWarning: You are using `torch.load` with `weights_only=False` (the current default value), which uses the default pickle module implicitly. It is possible to construct malicious pickle data which will execute arbitrary code during unpickling (See https://github.com/pytorch/pytorch/blob/main/SECURITY.md#untrusted-models for more details). In a future release, the default value for `weights_only` will be flipped to `True`. This limits the functions that could be executed during unpickling. Arbitrary objects will no longer be allowed to be loaded via this mode unless they are explicitly allowlisted by the user via `torch.serialization.add_safe_globals`. We recommend you start setting `weights_only=True` for any use case where you don't have full control of the loaded file. Please open an issue on GitHub for any issues related to this experimental feature.\u001b[32m [repeated 8x across cluster]\u001b[0m\n",
      "  0%|\u001b[34m          \u001b[0m| 0/10 [00:00<?, ?it/s]\u001b[32m [repeated 2x across cluster]\u001b[0m\n",
      "DEBUG flwr 2024-08-31 21:50:40,733 | server.py:187 | evaluate_round 16 received 4 results and 0 failures\n",
      "DEBUG flwr 2024-08-31 21:50:40,734 | server.py:222 | fit_round 17: strategy sampled 4 clients (out of 4)\n",
      "\u001b[36m(DefaultActor pid=28961)\u001b[0m   return torch.load(io.BytesIO(b))\u001b[32m [repeated 3x across cluster]\u001b[0m\n"
     ]
    },
    {
     "name": "stdout",
     "output_type": "stream",
     "text": [
      "\u001b[36m(DefaultActor pid=28962)\u001b[0m [Client 3] evaluate, config: {}\u001b[32m [repeated 4x across cluster]\u001b[0m\n",
      "\u001b[36m(DefaultActor pid=28961)\u001b[0m  To get the checkpoint\u001b[32m [repeated 7x across cluster]\u001b[0m\n",
      "\u001b[36m(DefaultActor pid=28961)\u001b[0m [Client 0, round 17] fit, config: {'learning_rate': 0.003, 'batch_size': '16', 'server_round': 17, 'local_epochs': 10}\u001b[32m [repeated 3x across cluster]\u001b[0m\n",
      "\u001b[36m(DefaultActor pid=28961)\u001b[0m Updated model\u001b[32m [repeated 7x across cluster]\u001b[0m\n",
      "\u001b[36m(DefaultActor pid=28962)\u001b[0m \tTrain Epoch: 10 \tTrain_loss: 0.4992 | Train_acc: 81.7708 % | Validation_loss: 1.4940 | Validation_acc: 56.2500 %\u001b[32m [repeated 35x across cluster]\u001b[0m\n"
     ]
    },
    {
     "name": "stderr",
     "output_type": "stream",
     "text": [
      " 10%|\u001b[34m█         \u001b[0m| 1/10 [00:00<00:01,  5.32it/s]\n",
      " 10%|\u001b[34m█         \u001b[0m| 1/10 [00:00<00:01,  5.35it/s]\n",
      " 20%|\u001b[34m██        \u001b[0m| 2/10 [00:00<00:01,  5.29it/s]\n",
      " 20%|\u001b[34m██        \u001b[0m| 2/10 [00:00<00:01,  5.50it/s]\n",
      " 30%|\u001b[34m███       \u001b[0m| 3/10 [00:00<00:01,  4.64it/s]\n",
      " 30%|\u001b[34m███       \u001b[0m| 3/10 [00:00<00:01,  4.74it/s]\n",
      " 40%|\u001b[34m████      \u001b[0m| 4/10 [00:00<00:01,  3.81it/s]\n",
      " 40%|\u001b[34m████      \u001b[0m| 4/10 [00:00<00:01,  3.86it/s]\n",
      " 50%|\u001b[34m█████     \u001b[0m| 5/10 [00:01<00:01,  4.35it/s]\n",
      " 50%|\u001b[34m█████     \u001b[0m| 5/10 [00:01<00:01,  4.36it/s]\n",
      " 60%|\u001b[34m██████    \u001b[0m| 6/10 [00:01<00:00,  4.23it/s]\n",
      " 60%|\u001b[34m██████    \u001b[0m| 6/10 [00:01<00:00,  4.39it/s]\n",
      " 70%|\u001b[34m███████   \u001b[0m| 7/10 [00:01<00:00,  4.62it/s]\n"
     ]
    },
    {
     "name": "stdout",
     "output_type": "stream",
     "text": [
      "\u001b[36m(DefaultActor pid=28962)\u001b[0m save graph in  results/FL/\u001b[32m [repeated 2x across cluster]\u001b[0m\n"
     ]
    },
    {
     "name": "stderr",
     "output_type": "stream",
     "text": [
      " 70%|\u001b[34m███████   \u001b[0m| 7/10 [00:01<00:00,  4.42it/s]\n",
      " 80%|\u001b[34m████████  \u001b[0m| 8/10 [00:01<00:00,  4.82it/s]\n",
      " 80%|\u001b[34m████████  \u001b[0m| 8/10 [00:01<00:00,  4.55it/s]\n",
      " 90%|\u001b[34m█████████ \u001b[0m| 9/10 [00:01<00:00,  4.93it/s]\n",
      " 90%|\u001b[34m█████████ \u001b[0m| 9/10 [00:01<00:00,  4.73it/s]\n",
      "100%|\u001b[34m██████████\u001b[0m| 10/10 [00:02<00:00,  4.63it/s]\n",
      "100%|\u001b[34m██████████\u001b[0m| 10/10 [00:02<00:00,  4.75it/s]\n",
      " 10%|\u001b[34m█         \u001b[0m| 1/10 [00:00<00:01,  6.76it/s]\n",
      " 20%|\u001b[34m██        \u001b[0m| 2/10 [00:00<00:01,  6.38it/s]\n",
      " 30%|\u001b[34m███       \u001b[0m| 3/10 [00:00<00:01,  4.51it/s]\n",
      " 10%|\u001b[34m█         \u001b[0m| 1/10 [00:00<00:01,  4.74it/s]\n",
      " 40%|\u001b[34m████      \u001b[0m| 4/10 [00:00<00:01,  4.91it/s]\n",
      " 20%|\u001b[34m██        \u001b[0m| 2/10 [00:00<00:01,  5.31it/s]\n",
      " 50%|\u001b[34m█████     \u001b[0m| 5/10 [00:00<00:00,  5.13it/s]\n",
      " 30%|\u001b[34m███       \u001b[0m| 3/10 [00:00<00:01,  5.34it/s]\n",
      " 60%|\u001b[34m██████    \u001b[0m| 6/10 [00:01<00:00,  5.24it/s]\n",
      " 40%|\u001b[34m████      \u001b[0m| 4/10 [00:00<00:01,  5.31it/s]\n",
      " 70%|\u001b[34m███████   \u001b[0m| 7/10 [00:01<00:00,  5.33it/s]\n",
      " 50%|\u001b[34m█████     \u001b[0m| 5/10 [00:00<00:00,  5.36it/s]\n",
      " 80%|\u001b[34m████████  \u001b[0m| 8/10 [00:01<00:00,  5.42it/s]\n",
      " 60%|\u001b[34m██████    \u001b[0m| 6/10 [00:01<00:00,  5.20it/s]\n",
      " 90%|\u001b[34m█████████ \u001b[0m| 9/10 [00:01<00:00,  5.42it/s]\n",
      " 70%|\u001b[34m███████   \u001b[0m| 7/10 [00:01<00:00,  5.26it/s]\n",
      "100%|\u001b[34m██████████\u001b[0m| 10/10 [00:01<00:00,  5.32it/s]\n",
      " 80%|\u001b[34m████████  \u001b[0m| 8/10 [00:01<00:00,  5.34it/s]\n",
      " 90%|\u001b[34m█████████ \u001b[0m| 9/10 [00:01<00:00,  5.32it/s]\n",
      "\u001b[36m(DefaultActor pid=28962)\u001b[0m /tmp/ipykernel_28156/3044491048.py:10: FutureWarning: You are using `torch.load` with `weights_only=False` (the current default value), which uses the default pickle module implicitly. It is possible to construct malicious pickle data which will execute arbitrary code during unpickling (See https://github.com/pytorch/pytorch/blob/main/SECURITY.md#untrusted-models for more details). In a future release, the default value for `weights_only` will be flipped to `True`. This limits the functions that could be executed during unpickling. Arbitrary objects will no longer be allowed to be loaded via this mode unless they are explicitly allowlisted by the user via `torch.serialization.add_safe_globals`. We recommend you start setting `weights_only=True` for any use case where you don't have full control of the loaded file. Please open an issue on GitHub for any issues related to this experimental feature.\u001b[32m [repeated 6x across cluster]\u001b[0m\n",
      "  0%|\u001b[34m          \u001b[0m| 0/10 [00:00<?, ?it/s]\u001b[32m [repeated 4x across cluster]\u001b[0m\n",
      "100%|\u001b[34m██████████\u001b[0m| 10/10 [00:01<00:00,  5.47it/s]\n",
      "DEBUG flwr 2024-08-31 21:50:45,671 | server.py:236 | fit_round 17 received 4 results and 0 failures\n",
      "INFO flwr 2024-08-31 21:50:45,710 | server.py:125 | fit progress: (17, 1.2953436053716219, {'accuracy': 64.42307692307693}, 107.99918480899987)\n",
      "DEBUG flwr 2024-08-31 21:50:45,711 | server.py:173 | evaluate_round 17: strategy sampled 4 clients (out of 4)\n",
      "\u001b[36m(DefaultActor pid=28962)\u001b[0m   return torch.load(io.BytesIO(b))\n"
     ]
    },
    {
     "name": "stdout",
     "output_type": "stream",
     "text": [
      "Saving round 17 aggregated_parameters...\n",
      "Updated model\n",
      "Server-side evaluation loss 1.2953436053716219 / accuracy 64.42307692307693\n",
      "\u001b[36m(DefaultActor pid=28961)\u001b[0m [Client 0] evaluate, config: {}\n",
      "\u001b[36m(DefaultActor pid=28961)\u001b[0m  To get the checkpoint\u001b[32m [repeated 4x across cluster]\u001b[0m\n",
      "\u001b[36m(DefaultActor pid=28962)\u001b[0m [Client 3, round 17] fit, config: {'learning_rate': 0.003, 'batch_size': '16', 'server_round': 17, 'local_epochs': 10}\u001b[32m [repeated 3x across cluster]\u001b[0m\n",
      "\u001b[36m(DefaultActor pid=28961)\u001b[0m Updated model\u001b[32m [repeated 4x across cluster]\u001b[0m\n",
      "\u001b[36m(DefaultActor pid=28962)\u001b[0m \tTrain Epoch: 10 \tTrain_loss: 0.6081 | Train_acc: 78.1250 % | Validation_loss: 2.1063 | Validation_acc: 50.0000 %\u001b[32m [repeated 40x across cluster]\u001b[0m\n",
      "\u001b[36m(DefaultActor pid=28962)\u001b[0m [Client 2] evaluate, config: {}\n"
     ]
    },
    {
     "name": "stderr",
     "output_type": "stream",
     "text": [
      "\u001b[36m(DefaultActor pid=28961)\u001b[0m   return torch.load(io.BytesIO(b))\n",
      "\u001b[36m(DefaultActor pid=28961)\u001b[0m /opt/conda/envs/fed/lib/python3.10/site-packages/sklearn/metrics/_ranking.py:1183: UndefinedMetricWarning: No positive samples in y_true, true positive value should be meaningless\n",
      "\u001b[36m(DefaultActor pid=28961)\u001b[0m   warnings.warn(\n",
      "DEBUG flwr 2024-08-31 21:50:46,986 | server.py:187 | evaluate_round 17 received 4 results and 0 failures\n",
      "DEBUG flwr 2024-08-31 21:50:46,987 | server.py:222 | fit_round 18: strategy sampled 4 clients (out of 4)\n",
      " 10%|\u001b[34m█         \u001b[0m| 1/10 [00:00<00:01,  5.06it/s]\n",
      " 10%|\u001b[34m█         \u001b[0m| 1/10 [00:00<00:01,  4.73it/s]\n",
      " 20%|\u001b[34m██        \u001b[0m| 2/10 [00:00<00:01,  5.42it/s]\n",
      " 20%|\u001b[34m██        \u001b[0m| 2/10 [00:00<00:01,  5.09it/s]\n"
     ]
    },
    {
     "name": "stdout",
     "output_type": "stream",
     "text": [
      "\u001b[36m(DefaultActor pid=28962)\u001b[0m save graph in  results/FL/\u001b[32m [repeated 4x across cluster]\u001b[0m\n"
     ]
    },
    {
     "name": "stderr",
     "output_type": "stream",
     "text": [
      " 30%|\u001b[34m███       \u001b[0m| 3/10 [00:00<00:01,  4.98it/s]\n",
      " 30%|\u001b[34m███       \u001b[0m| 3/10 [00:00<00:01,  4.95it/s]\n",
      " 40%|\u001b[34m████      \u001b[0m| 4/10 [00:00<00:01,  5.04it/s]\n",
      " 40%|\u001b[34m████      \u001b[0m| 4/10 [00:00<00:01,  4.74it/s]\n",
      " 50%|\u001b[34m█████     \u001b[0m| 5/10 [00:01<00:01,  4.70it/s]\n",
      " 50%|\u001b[34m█████     \u001b[0m| 5/10 [00:01<00:01,  4.07it/s]\n",
      " 60%|\u001b[34m██████    \u001b[0m| 6/10 [00:01<00:00,  5.00it/s]\n",
      " 60%|\u001b[34m██████    \u001b[0m| 6/10 [00:01<00:00,  4.40it/s]\n",
      " 70%|\u001b[34m███████   \u001b[0m| 7/10 [00:01<00:00,  5.19it/s]\n",
      " 70%|\u001b[34m███████   \u001b[0m| 7/10 [00:01<00:00,  4.63it/s]\n",
      " 80%|\u001b[34m████████  \u001b[0m| 8/10 [00:01<00:00,  5.30it/s]\n",
      " 80%|\u001b[34m████████  \u001b[0m| 8/10 [00:01<00:00,  4.78it/s]\n",
      " 90%|\u001b[34m█████████ \u001b[0m| 9/10 [00:01<00:00,  4.90it/s]\n",
      "100%|\u001b[34m██████████\u001b[0m| 10/10 [00:01<00:00,  5.08it/s]\n",
      " 90%|\u001b[34m█████████ \u001b[0m| 9/10 [00:01<00:00,  4.93it/s]\n",
      "100%|\u001b[34m██████████\u001b[0m| 10/10 [00:02<00:00,  4.81it/s]\n",
      " 10%|\u001b[34m█         \u001b[0m| 1/10 [00:00<00:01,  5.17it/s]\n",
      " 20%|\u001b[34m██        \u001b[0m| 2/10 [00:00<00:01,  5.39it/s]\n",
      " 10%|\u001b[34m█         \u001b[0m| 1/10 [00:00<00:01,  5.28it/s]\n",
      " 20%|\u001b[34m██        \u001b[0m| 2/10 [00:00<00:01,  5.23it/s]\n",
      " 30%|\u001b[34m███       \u001b[0m| 3/10 [00:00<00:01,  5.40it/s]\n",
      " 30%|\u001b[34m███       \u001b[0m| 3/10 [00:00<00:01,  5.39it/s]\n",
      " 40%|\u001b[34m████      \u001b[0m| 4/10 [00:00<00:01,  5.31it/s]\n",
      " 50%|\u001b[34m█████     \u001b[0m| 5/10 [00:00<00:00,  5.35it/s]\n",
      " 40%|\u001b[34m████      \u001b[0m| 4/10 [00:00<00:01,  4.48it/s]\n",
      " 60%|\u001b[34m██████    \u001b[0m| 6/10 [00:01<00:00,  5.38it/s]\n",
      "\u001b[36m(DefaultActor pid=28962)\u001b[0m /tmp/ipykernel_28156/3044491048.py:10: FutureWarning: You are using `torch.load` with `weights_only=False` (the current default value), which uses the default pickle module implicitly. It is possible to construct malicious pickle data which will execute arbitrary code during unpickling (See https://github.com/pytorch/pytorch/blob/main/SECURITY.md#untrusted-models for more details). In a future release, the default value for `weights_only` will be flipped to `True`. This limits the functions that could be executed during unpickling. Arbitrary objects will no longer be allowed to be loaded via this mode unless they are explicitly allowlisted by the user via `torch.serialization.add_safe_globals`. We recommend you start setting `weights_only=True` for any use case where you don't have full control of the loaded file. Please open an issue on GitHub for any issues related to this experimental feature.\u001b[32m [repeated 12x across cluster]\u001b[0m\n",
      "  0%|\u001b[34m          \u001b[0m| 0/10 [00:00<?, ?it/s]\u001b[32m [repeated 4x across cluster]\u001b[0m\n",
      " 50%|\u001b[34m█████     \u001b[0m| 5/10 [00:01<00:01,  4.80it/s]\n",
      " 70%|\u001b[34m███████   \u001b[0m| 7/10 [00:01<00:00,  5.38it/s]\n",
      " 60%|\u001b[34m██████    \u001b[0m| 6/10 [00:01<00:00,  5.08it/s]\n",
      " 80%|\u001b[34m████████  \u001b[0m| 8/10 [00:01<00:00,  5.26it/s]\n",
      " 70%|\u001b[34m███████   \u001b[0m| 7/10 [00:01<00:00,  5.22it/s]\n"
     ]
    },
    {
     "name": "stdout",
     "output_type": "stream",
     "text": [
      "\u001b[36m(DefaultActor pid=28962)\u001b[0m  To get the checkpoint\u001b[32m [repeated 7x across cluster]\u001b[0m\n",
      "\u001b[36m(DefaultActor pid=28962)\u001b[0m [Client 2, round 18] fit, config: {'learning_rate': 0.003, 'batch_size': '16', 'server_round': 18, 'local_epochs': 10}\u001b[32m [repeated 4x across cluster]\u001b[0m\n",
      "\u001b[36m(DefaultActor pid=28962)\u001b[0m Updated model\u001b[32m [repeated 7x across cluster]\u001b[0m\n",
      "\u001b[36m(DefaultActor pid=28961)\u001b[0m \tTrain Epoch: 8 \tTrain_loss: 0.7384 | Train_acc: 75.0000 % | Validation_loss: 2.0417 | Validation_acc: 40.6250 %\u001b[32m [repeated 34x across cluster]\u001b[0m\n",
      "\u001b[36m(DefaultActor pid=28962)\u001b[0m [Client 1] evaluate, config: {}\u001b[32m [repeated 2x across cluster]\u001b[0m\n"
     ]
    },
    {
     "name": "stderr",
     "output_type": "stream",
     "text": [
      " 90%|\u001b[34m█████████ \u001b[0m| 9/10 [00:01<00:00,  5.34it/s]\n",
      " 80%|\u001b[34m████████  \u001b[0m| 8/10 [00:01<00:00,  5.30it/s]\n",
      "100%|\u001b[34m██████████\u001b[0m| 10/10 [00:01<00:00,  5.35it/s]\n",
      " 90%|\u001b[34m█████████ \u001b[0m| 9/10 [00:01<00:00,  5.26it/s]\n",
      "100%|\u001b[34m██████████\u001b[0m| 10/10 [00:01<00:00,  5.04it/s]\n",
      "\u001b[36m(DefaultActor pid=28962)\u001b[0m   return torch.load(io.BytesIO(b))\u001b[32m [repeated 3x across cluster]\u001b[0m\n",
      "DEBUG flwr 2024-08-31 21:50:51,647 | server.py:236 | fit_round 18 received 4 results and 0 failures\n",
      "INFO flwr 2024-08-31 21:50:51,696 | server.py:125 | fit progress: (18, 1.37273612847695, {'accuracy': 63.46153846153846}, 113.98493387799999)\n",
      "DEBUG flwr 2024-08-31 21:50:51,697 | server.py:173 | evaluate_round 18: strategy sampled 4 clients (out of 4)\n"
     ]
    },
    {
     "name": "stdout",
     "output_type": "stream",
     "text": [
      "Saving round 18 aggregated_parameters...\n",
      "Updated model\n",
      "Server-side evaluation loss 1.37273612847695 / accuracy 63.46153846153846\n",
      "\u001b[36m(DefaultActor pid=28962)\u001b[0m save graph in  results/FL/\u001b[32m [repeated 4x across cluster]\u001b[0m\n"
     ]
    },
    {
     "name": "stderr",
     "output_type": "stream",
     "text": [
      "\u001b[36m(DefaultActor pid=28961)\u001b[0m /opt/conda/envs/fed/lib/python3.10/site-packages/sklearn/metrics/_ranking.py:1183: UndefinedMetricWarning: No positive samples in y_true, true positive value should be meaningless\n",
      "\u001b[36m(DefaultActor pid=28961)\u001b[0m   warnings.warn(\n",
      "DEBUG flwr 2024-08-31 21:50:53,082 | server.py:187 | evaluate_round 18 received 4 results and 0 failures\n",
      "DEBUG flwr 2024-08-31 21:50:53,083 | server.py:222 | fit_round 19: strategy sampled 4 clients (out of 4)\n",
      " 10%|\u001b[34m█         \u001b[0m| 1/10 [00:00<00:01,  4.81it/s]\n",
      " 10%|\u001b[34m█         \u001b[0m| 1/10 [00:00<00:01,  5.18it/s]\n",
      " 20%|\u001b[34m██        \u001b[0m| 2/10 [00:00<00:01,  4.81it/s]\n",
      " 20%|\u001b[34m██        \u001b[0m| 2/10 [00:00<00:01,  4.75it/s]\n",
      " 30%|\u001b[34m███       \u001b[0m| 3/10 [00:00<00:01,  5.17it/s]\n",
      " 30%|\u001b[34m███       \u001b[0m| 3/10 [00:00<00:01,  5.12it/s]\n",
      " 40%|\u001b[34m████      \u001b[0m| 4/10 [00:00<00:01,  4.37it/s]\n",
      " 40%|\u001b[34m████      \u001b[0m| 4/10 [00:00<00:01,  4.88it/s]\n",
      " 50%|\u001b[34m█████     \u001b[0m| 5/10 [00:00<00:00,  5.04it/s]\n",
      " 50%|\u001b[34m█████     \u001b[0m| 5/10 [00:01<00:01,  4.78it/s]\n",
      " 60%|\u001b[34m██████    \u001b[0m| 6/10 [00:01<00:00,  5.18it/s]\n",
      " 60%|\u001b[34m██████    \u001b[0m| 6/10 [00:01<00:00,  4.87it/s]\n",
      " 70%|\u001b[34m███████   \u001b[0m| 7/10 [00:01<00:00,  5.02it/s]\n",
      " 70%|\u001b[34m███████   \u001b[0m| 7/10 [00:01<00:00,  4.59it/s]\n",
      " 80%|\u001b[34m████████  \u001b[0m| 8/10 [00:01<00:00,  5.17it/s]\n",
      " 80%|\u001b[34m████████  \u001b[0m| 8/10 [00:01<00:00,  4.86it/s]\n",
      " 90%|\u001b[34m█████████ \u001b[0m| 9/10 [00:01<00:00,  5.22it/s]\n",
      " 90%|\u001b[34m█████████ \u001b[0m| 9/10 [00:01<00:00,  5.07it/s]\n",
      "100%|\u001b[34m██████████\u001b[0m| 10/10 [00:01<00:00,  5.05it/s]\n",
      "100%|\u001b[34m██████████\u001b[0m| 10/10 [00:01<00:00,  5.02it/s]\n",
      "\u001b[36m(DefaultActor pid=28961)\u001b[0m /tmp/ipykernel_28156/3044491048.py:10: FutureWarning: You are using `torch.load` with `weights_only=False` (the current default value), which uses the default pickle module implicitly. It is possible to construct malicious pickle data which will execute arbitrary code during unpickling (See https://github.com/pytorch/pytorch/blob/main/SECURITY.md#untrusted-models for more details). In a future release, the default value for `weights_only` will be flipped to `True`. This limits the functions that could be executed during unpickling. Arbitrary objects will no longer be allowed to be loaded via this mode unless they are explicitly allowlisted by the user via `torch.serialization.add_safe_globals`. We recommend you start setting `weights_only=True` for any use case where you don't have full control of the loaded file. Please open an issue on GitHub for any issues related to this experimental feature.\u001b[32m [repeated 11x across cluster]\u001b[0m\n",
      "  0%|\u001b[34m          \u001b[0m| 0/10 [00:00<?, ?it/s]\u001b[32m [repeated 3x across cluster]\u001b[0m\n",
      " 10%|\u001b[34m█         \u001b[0m| 1/10 [00:00<00:01,  5.48it/s]\n",
      " 10%|\u001b[34m█         \u001b[0m| 1/10 [00:00<00:01,  5.36it/s]\n",
      " 20%|\u001b[34m██        \u001b[0m| 2/10 [00:00<00:01,  5.49it/s]\n",
      " 20%|\u001b[34m██        \u001b[0m| 2/10 [00:00<00:01,  5.29it/s]\n",
      " 30%|\u001b[34m███       \u001b[0m| 3/10 [00:00<00:01,  5.51it/s]\n"
     ]
    },
    {
     "name": "stdout",
     "output_type": "stream",
     "text": [
      "\u001b[36m(DefaultActor pid=28962)\u001b[0m  To get the checkpoint\u001b[32m [repeated 8x across cluster]\u001b[0m\n",
      "\u001b[36m(DefaultActor pid=28962)\u001b[0m [Client 2, round 19] fit, config: {'learning_rate': 0.003, 'batch_size': '16', 'server_round': 19, 'local_epochs': 10}\u001b[32m [repeated 4x across cluster]\u001b[0m\n",
      "\u001b[36m(DefaultActor pid=28962)\u001b[0m Updated model\u001b[32m [repeated 8x across cluster]\u001b[0m\n",
      "\u001b[36m(DefaultActor pid=28962)\u001b[0m \tTrain Epoch: 2 \tTrain_loss: 0.9158 | Train_acc: 65.1042 % | Validation_loss: 1.0814 | Validation_acc: 53.1250 %\u001b[32m [repeated 30x across cluster]\u001b[0m\n",
      "\u001b[36m(DefaultActor pid=28961)\u001b[0m [Client 3] evaluate, config: {}\u001b[32m [repeated 4x across cluster]\u001b[0m\n"
     ]
    },
    {
     "name": "stderr",
     "output_type": "stream",
     "text": [
      " 30%|\u001b[34m███       \u001b[0m| 3/10 [00:00<00:01,  5.21it/s]\n",
      " 40%|\u001b[34m████      \u001b[0m| 4/10 [00:00<00:01,  5.53it/s]\n",
      " 40%|\u001b[34m████      \u001b[0m| 4/10 [00:00<00:01,  5.33it/s]\n",
      " 50%|\u001b[34m█████     \u001b[0m| 5/10 [00:00<00:00,  5.22it/s]\n",
      " 50%|\u001b[34m█████     \u001b[0m| 5/10 [00:00<00:01,  4.93it/s]\n",
      "\u001b[36m(DefaultActor pid=28962)\u001b[0m   return torch.load(io.BytesIO(b))\u001b[32m [repeated 4x across cluster]\u001b[0m\n",
      " 60%|\u001b[34m██████    \u001b[0m| 6/10 [00:01<00:00,  4.41it/s]\n",
      " 60%|\u001b[34m██████    \u001b[0m| 6/10 [00:01<00:00,  4.75it/s]\n",
      " 70%|\u001b[34m███████   \u001b[0m| 7/10 [00:01<00:00,  4.74it/s]\n",
      " 70%|\u001b[34m███████   \u001b[0m| 7/10 [00:01<00:00,  4.96it/s]\n",
      " 80%|\u001b[34m████████  \u001b[0m| 8/10 [00:01<00:00,  4.98it/s]\n",
      " 80%|\u001b[34m████████  \u001b[0m| 8/10 [00:01<00:00,  4.95it/s]\n",
      " 90%|\u001b[34m█████████ \u001b[0m| 9/10 [00:01<00:00,  5.15it/s]\n",
      " 90%|\u001b[34m█████████ \u001b[0m| 9/10 [00:01<00:00,  5.13it/s]\n",
      "100%|\u001b[34m██████████\u001b[0m| 10/10 [00:01<00:00,  5.09it/s]\n",
      "100%|\u001b[34m██████████\u001b[0m| 10/10 [00:01<00:00,  5.05it/s]\n",
      "DEBUG flwr 2024-08-31 21:50:57,721 | server.py:236 | fit_round 19 received 4 results and 0 failures\n"
     ]
    },
    {
     "name": "stdout",
     "output_type": "stream",
     "text": [
      "\u001b[36m(DefaultActor pid=28962)\u001b[0m save graph in  results/FL/\u001b[32m [repeated 4x across cluster]\u001b[0m\n",
      "Saving round 19 aggregated_parameters...\n",
      "Updated model\n"
     ]
    },
    {
     "name": "stderr",
     "output_type": "stream",
     "text": [
      "INFO flwr 2024-08-31 21:50:57,759 | server.py:125 | fit progress: (19, 1.351674653016604, {'accuracy': 63.46153846153846}, 120.04780692199984)\n",
      "DEBUG flwr 2024-08-31 21:50:57,760 | server.py:173 | evaluate_round 19: strategy sampled 4 clients (out of 4)\n"
     ]
    },
    {
     "name": "stdout",
     "output_type": "stream",
     "text": [
      "Server-side evaluation loss 1.351674653016604 / accuracy 63.46153846153846\n"
     ]
    },
    {
     "name": "stderr",
     "output_type": "stream",
     "text": [
      "\u001b[36m(DefaultActor pid=28961)\u001b[0m /opt/conda/envs/fed/lib/python3.10/site-packages/sklearn/metrics/_ranking.py:1183: UndefinedMetricWarning: No positive samples in y_true, true positive value should be meaningless\n",
      "\u001b[36m(DefaultActor pid=28961)\u001b[0m   warnings.warn(\n",
      "DEBUG flwr 2024-08-31 21:50:59,131 | server.py:187 | evaluate_round 19 received 4 results and 0 failures\n",
      "DEBUG flwr 2024-08-31 21:50:59,131 | server.py:222 | fit_round 20: strategy sampled 4 clients (out of 4)\n",
      " 10%|\u001b[34m█         \u001b[0m| 1/10 [00:00<00:01,  5.44it/s]\n",
      " 10%|\u001b[34m█         \u001b[0m| 1/10 [00:00<00:01,  4.84it/s]\n",
      " 20%|\u001b[34m██        \u001b[0m| 2/10 [00:00<00:01,  5.33it/s]\n",
      " 20%|\u001b[34m██        \u001b[0m| 2/10 [00:00<00:01,  5.38it/s]\n",
      " 30%|\u001b[34m███       \u001b[0m| 3/10 [00:00<00:01,  5.47it/s]\n",
      " 30%|\u001b[34m███       \u001b[0m| 3/10 [00:00<00:01,  5.39it/s]\n",
      " 40%|\u001b[34m████      \u001b[0m| 4/10 [00:00<00:01,  5.58it/s]\n",
      " 40%|\u001b[34m████      \u001b[0m| 4/10 [00:00<00:01,  5.26it/s]\n",
      " 50%|\u001b[34m█████     \u001b[0m| 5/10 [00:00<00:00,  5.60it/s]\n",
      " 50%|\u001b[34m█████     \u001b[0m| 5/10 [00:00<00:00,  5.33it/s]\n",
      " 60%|\u001b[34m██████    \u001b[0m| 6/10 [00:01<00:00,  5.56it/s]\n",
      " 60%|\u001b[34m██████    \u001b[0m| 6/10 [00:01<00:00,  5.30it/s]\n",
      " 70%|\u001b[34m███████   \u001b[0m| 7/10 [00:01<00:00,  5.58it/s]\n",
      "\u001b[36m(DefaultActor pid=28962)\u001b[0m /tmp/ipykernel_28156/3044491048.py:10: FutureWarning: You are using `torch.load` with `weights_only=False` (the current default value), which uses the default pickle module implicitly. It is possible to construct malicious pickle data which will execute arbitrary code during unpickling (See https://github.com/pytorch/pytorch/blob/main/SECURITY.md#untrusted-models for more details). In a future release, the default value for `weights_only` will be flipped to `True`. This limits the functions that could be executed during unpickling. Arbitrary objects will no longer be allowed to be loaded via this mode unless they are explicitly allowlisted by the user via `torch.serialization.add_safe_globals`. We recommend you start setting `weights_only=True` for any use case where you don't have full control of the loaded file. Please open an issue on GitHub for any issues related to this experimental feature.\u001b[32m [repeated 11x across cluster]\u001b[0m\n",
      "  0%|\u001b[34m          \u001b[0m| 0/10 [00:00<?, ?it/s]\u001b[32m [repeated 3x across cluster]\u001b[0m\n",
      " 80%|\u001b[34m████████  \u001b[0m| 8/10 [00:01<00:00,  5.65it/s]\n",
      " 70%|\u001b[34m███████   \u001b[0m| 7/10 [00:01<00:00,  5.29it/s]\n",
      " 80%|\u001b[34m████████  \u001b[0m| 8/10 [00:01<00:00,  5.34it/s]\n",
      " 90%|\u001b[34m█████████ \u001b[0m| 9/10 [00:01<00:00,  5.32it/s]\n",
      "100%|\u001b[34m██████████\u001b[0m| 10/10 [00:01<00:00,  5.40it/s]\n",
      " 90%|\u001b[34m█████████ \u001b[0m| 9/10 [00:01<00:00,  4.78it/s]\n"
     ]
    },
    {
     "name": "stdout",
     "output_type": "stream",
     "text": [
      "\u001b[36m(DefaultActor pid=28962)\u001b[0m  To get the checkpoint\u001b[32m [repeated 6x across cluster]\u001b[0m\n",
      "\u001b[36m(DefaultActor pid=28962)\u001b[0m [Client 3, round 20] fit, config: {'learning_rate': 0.003, 'batch_size': '16', 'server_round': 20, 'local_epochs': 10}\u001b[32m [repeated 2x across cluster]\u001b[0m\n",
      "\u001b[36m(DefaultActor pid=28962)\u001b[0m Updated model\u001b[32m [repeated 6x across cluster]\u001b[0m\n",
      "\u001b[36m(DefaultActor pid=28961)\u001b[0m \tTrain Epoch: 10 \tTrain_loss: 0.6489 | Train_acc: 77.0833 % | Validation_loss: 1.5731 | Validation_acc: 40.6250 %\u001b[32m [repeated 34x across cluster]\u001b[0m\n",
      "\u001b[36m(DefaultActor pid=28962)\u001b[0m [Client 1] evaluate, config: {}\u001b[32m [repeated 4x across cluster]\u001b[0m\n"
     ]
    },
    {
     "name": "stderr",
     "output_type": "stream",
     "text": [
      "100%|\u001b[34m██████████\u001b[0m| 10/10 [00:01<00:00,  5.14it/s]\n",
      "\u001b[36m(DefaultActor pid=28962)\u001b[0m   return torch.load(io.BytesIO(b))\u001b[32m [repeated 4x across cluster]\u001b[0m\n",
      " 10%|\u001b[34m█         \u001b[0m| 1/10 [00:00<00:02,  3.96it/s]\n",
      " 10%|\u001b[34m█         \u001b[0m| 1/10 [00:00<00:01,  5.38it/s]\n",
      " 20%|\u001b[34m██        \u001b[0m| 2/10 [00:00<00:01,  4.68it/s]\n",
      " 20%|\u001b[34m██        \u001b[0m| 2/10 [00:00<00:01,  5.44it/s]\n",
      " 30%|\u001b[34m███       \u001b[0m| 3/10 [00:00<00:01,  4.96it/s]\n",
      " 30%|\u001b[34m███       \u001b[0m| 3/10 [00:00<00:01,  4.65it/s]\n",
      " 40%|\u001b[34m████      \u001b[0m| 4/10 [00:00<00:01,  3.95it/s]\n",
      " 40%|\u001b[34m████      \u001b[0m| 4/10 [00:00<00:01,  4.11it/s]\n",
      " 50%|\u001b[34m█████     \u001b[0m| 5/10 [00:01<00:01,  3.95it/s]\n",
      " 50%|\u001b[34m█████     \u001b[0m| 5/10 [00:01<00:01,  4.37it/s]\n"
     ]
    },
    {
     "name": "stdout",
     "output_type": "stream",
     "text": [
      "\u001b[36m(DefaultActor pid=28962)\u001b[0m save graph in  results/FL/\u001b[32m [repeated 2x across cluster]\u001b[0m\n"
     ]
    },
    {
     "name": "stderr",
     "output_type": "stream",
     "text": [
      " 60%|\u001b[34m██████    \u001b[0m| 6/10 [00:01<00:00,  4.41it/s]\n",
      " 60%|\u001b[34m██████    \u001b[0m| 6/10 [00:01<00:00,  4.75it/s]\n",
      " 70%|\u001b[34m███████   \u001b[0m| 7/10 [00:01<00:00,  4.54it/s]\n",
      " 70%|\u001b[34m███████   \u001b[0m| 7/10 [00:01<00:00,  4.25it/s]\n",
      " 80%|\u001b[34m████████  \u001b[0m| 8/10 [00:01<00:00,  4.62it/s]\n",
      " 80%|\u001b[34m████████  \u001b[0m| 8/10 [00:01<00:00,  4.57it/s]\n",
      " 90%|\u001b[34m█████████ \u001b[0m| 9/10 [00:01<00:00,  4.87it/s]\n",
      "100%|\u001b[34m██████████\u001b[0m| 10/10 [00:02<00:00,  4.61it/s]\n",
      " 90%|\u001b[34m█████████ \u001b[0m| 9/10 [00:01<00:00,  4.78it/s]\n",
      "100%|\u001b[34m██████████\u001b[0m| 10/10 [00:02<00:00,  4.72it/s]\n",
      "DEBUG flwr 2024-08-31 21:51:03,871 | server.py:236 | fit_round 20 received 4 results and 0 failures\n",
      "INFO flwr 2024-08-31 21:51:03,908 | server.py:125 | fit progress: (20, 1.4977382329794078, {'accuracy': 62.5}, 126.19724886599988)\n",
      "DEBUG flwr 2024-08-31 21:51:03,909 | server.py:173 | evaluate_round 20: strategy sampled 4 clients (out of 4)\n"
     ]
    },
    {
     "name": "stdout",
     "output_type": "stream",
     "text": [
      "Saving round 20 aggregated_parameters...\n",
      "Updated model\n",
      "Server-side evaluation loss 1.4977382329794078 / accuracy 62.5\n"
     ]
    },
    {
     "name": "stderr",
     "output_type": "stream",
     "text": [
      "\u001b[36m(DefaultActor pid=28962)\u001b[0m /opt/conda/envs/fed/lib/python3.10/site-packages/sklearn/metrics/_ranking.py:1183: UndefinedMetricWarning: No positive samples in y_true, true positive value should be meaningless\n",
      "\u001b[36m(DefaultActor pid=28962)\u001b[0m   warnings.warn(\n",
      "DEBUG flwr 2024-08-31 21:51:05,545 | server.py:187 | evaluate_round 20 received 4 results and 0 failures\n",
      "DEBUG flwr 2024-08-31 21:51:05,546 | server.py:222 | fit_round 21: strategy sampled 4 clients (out of 4)\n",
      "\u001b[36m(DefaultActor pid=28961)\u001b[0m /tmp/ipykernel_28156/3044491048.py:10: FutureWarning: You are using `torch.load` with `weights_only=False` (the current default value), which uses the default pickle module implicitly. It is possible to construct malicious pickle data which will execute arbitrary code during unpickling (See https://github.com/pytorch/pytorch/blob/main/SECURITY.md#untrusted-models for more details). In a future release, the default value for `weights_only` will be flipped to `True`. This limits the functions that could be executed during unpickling. Arbitrary objects will no longer be allowed to be loaded via this mode unless they are explicitly allowlisted by the user via `torch.serialization.add_safe_globals`. We recommend you start setting `weights_only=True` for any use case where you don't have full control of the loaded file. Please open an issue on GitHub for any issues related to this experimental feature.\u001b[32m [repeated 10x across cluster]\u001b[0m\n",
      "  0%|\u001b[34m          \u001b[0m| 0/10 [00:00<?, ?it/s]\u001b[32m [repeated 3x across cluster]\u001b[0m\n",
      " 10%|\u001b[34m█         \u001b[0m| 1/10 [00:00<00:01,  5.34it/s]\n",
      " 10%|\u001b[34m█         \u001b[0m| 1/10 [00:00<00:01,  5.17it/s]\n",
      " 20%|\u001b[34m██        \u001b[0m| 2/10 [00:00<00:01,  5.47it/s]\n",
      " 20%|\u001b[34m██        \u001b[0m| 2/10 [00:00<00:01,  5.43it/s]\n",
      " 30%|\u001b[34m███       \u001b[0m| 3/10 [00:00<00:01,  5.47it/s]\n",
      " 30%|\u001b[34m███       \u001b[0m| 3/10 [00:00<00:01,  5.33it/s]\n"
     ]
    },
    {
     "name": "stdout",
     "output_type": "stream",
     "text": [
      "\u001b[36m(DefaultActor pid=28962)\u001b[0m  To get the checkpoint\u001b[32m [repeated 8x across cluster]\u001b[0m\n",
      "\u001b[36m(DefaultActor pid=28962)\u001b[0m [Client 0, round 21] fit, config: {'learning_rate': 0.003, 'batch_size': '16', 'server_round': 21, 'local_epochs': 10}\u001b[32m [repeated 4x across cluster]\u001b[0m\n",
      "\u001b[36m(DefaultActor pid=28962)\u001b[0m Updated model\u001b[32m [repeated 8x across cluster]\u001b[0m\n",
      "\u001b[36m(DefaultActor pid=28961)\u001b[0m \tTrain Epoch: 3 \tTrain_loss: 0.5856 | Train_acc: 79.1667 % | Validation_loss: 0.6015 | Validation_acc: 81.2500 %\u001b[32m [repeated 27x across cluster]\u001b[0m\n",
      "\u001b[36m(DefaultActor pid=28961)\u001b[0m [Client 0] evaluate, config: {}\u001b[32m [repeated 4x across cluster]\u001b[0m\n"
     ]
    },
    {
     "name": "stderr",
     "output_type": "stream",
     "text": [
      " 40%|\u001b[34m████      \u001b[0m| 4/10 [00:00<00:01,  5.50it/s]\n",
      " 40%|\u001b[34m████      \u001b[0m| 4/10 [00:00<00:01,  5.34it/s]\n",
      " 50%|\u001b[34m█████     \u001b[0m| 5/10 [00:00<00:00,  5.13it/s]\n",
      "\u001b[36m(DefaultActor pid=28962)\u001b[0m   return torch.load(io.BytesIO(b))\u001b[32m [repeated 4x across cluster]\u001b[0m\n",
      " 50%|\u001b[34m█████     \u001b[0m| 5/10 [00:00<00:01,  4.91it/s]\n",
      " 60%|\u001b[34m██████    \u001b[0m| 6/10 [00:01<00:00,  5.16it/s]\n",
      " 60%|\u001b[34m██████    \u001b[0m| 6/10 [00:01<00:00,  5.06it/s]\n",
      " 70%|\u001b[34m███████   \u001b[0m| 7/10 [00:01<00:00,  5.23it/s]\n",
      " 70%|\u001b[34m███████   \u001b[0m| 7/10 [00:01<00:00,  5.16it/s]\n",
      " 80%|\u001b[34m████████  \u001b[0m| 8/10 [00:01<00:00,  5.25it/s]\n",
      " 80%|\u001b[34m████████  \u001b[0m| 8/10 [00:01<00:00,  5.15it/s]\n",
      " 90%|\u001b[34m█████████ \u001b[0m| 9/10 [00:01<00:00,  5.31it/s]\n",
      " 90%|\u001b[34m█████████ \u001b[0m| 9/10 [00:01<00:00,  4.55it/s]\n",
      "100%|\u001b[34m██████████\u001b[0m| 10/10 [00:01<00:00,  5.03it/s]\n",
      "100%|\u001b[34m██████████\u001b[0m| 10/10 [00:01<00:00,  5.14it/s]\n"
     ]
    },
    {
     "name": "stdout",
     "output_type": "stream",
     "text": [
      "\u001b[36m(DefaultActor pid=28961)\u001b[0m save graph in  results/FL/\u001b[32m [repeated 3x across cluster]\u001b[0m\n"
     ]
    },
    {
     "name": "stderr",
     "output_type": "stream",
     "text": [
      " 10%|\u001b[34m█         \u001b[0m| 1/10 [00:00<00:01,  5.47it/s]\n",
      " 10%|\u001b[34m█         \u001b[0m| 1/10 [00:00<00:01,  4.89it/s]\n",
      " 20%|\u001b[34m██        \u001b[0m| 2/10 [00:00<00:01,  5.58it/s]\n",
      " 20%|\u001b[34m██        \u001b[0m| 2/10 [00:00<00:01,  5.23it/s]\n",
      " 30%|\u001b[34m███       \u001b[0m| 3/10 [00:00<00:01,  5.46it/s]\n",
      " 30%|\u001b[34m███       \u001b[0m| 3/10 [00:00<00:01,  5.23it/s]\n",
      " 40%|\u001b[34m████      \u001b[0m| 4/10 [00:00<00:01,  5.50it/s]\n",
      " 40%|\u001b[34m████      \u001b[0m| 4/10 [00:00<00:01,  5.38it/s]\n",
      " 50%|\u001b[34m█████     \u001b[0m| 5/10 [00:00<00:00,  5.42it/s]\n",
      " 50%|\u001b[34m█████     \u001b[0m| 5/10 [00:00<00:00,  5.35it/s]\n",
      " 60%|\u001b[34m██████    \u001b[0m| 6/10 [00:01<00:00,  5.43it/s]\n",
      " 60%|\u001b[34m██████    \u001b[0m| 6/10 [00:01<00:00,  5.33it/s]\n",
      " 70%|\u001b[34m███████   \u001b[0m| 7/10 [00:01<00:00,  5.33it/s]\n",
      " 70%|\u001b[34m███████   \u001b[0m| 7/10 [00:01<00:00,  5.26it/s]\n",
      " 80%|\u001b[34m████████  \u001b[0m| 8/10 [00:01<00:00,  4.53it/s]\n",
      " 80%|\u001b[34m████████  \u001b[0m| 8/10 [00:01<00:00,  4.33it/s]\n",
      " 90%|\u001b[34m█████████ \u001b[0m| 9/10 [00:01<00:00,  4.52it/s]\n",
      " 90%|\u001b[34m█████████ \u001b[0m| 9/10 [00:01<00:00,  4.39it/s]\n",
      "100%|\u001b[34m██████████\u001b[0m| 10/10 [00:02<00:00,  4.87it/s]\n",
      "100%|\u001b[34m██████████\u001b[0m| 10/10 [00:02<00:00,  4.93it/s]\n",
      "DEBUG flwr 2024-08-31 21:51:10,511 | server.py:236 | fit_round 21 received 4 results and 0 failures\n",
      "INFO flwr 2024-08-31 21:51:10,549 | server.py:125 | fit progress: (21, 1.396280410198065, {'accuracy': 67.3076923076923}, 132.8379192120001)\n",
      "DEBUG flwr 2024-08-31 21:51:10,550 | server.py:173 | evaluate_round 21: strategy sampled 4 clients (out of 4)\n",
      "\u001b[36m(DefaultActor pid=28961)\u001b[0m /tmp/ipykernel_28156/3044491048.py:10: FutureWarning: You are using `torch.load` with `weights_only=False` (the current default value), which uses the default pickle module implicitly. It is possible to construct malicious pickle data which will execute arbitrary code during unpickling (See https://github.com/pytorch/pytorch/blob/main/SECURITY.md#untrusted-models for more details). In a future release, the default value for `weights_only` will be flipped to `True`. This limits the functions that could be executed during unpickling. Arbitrary objects will no longer be allowed to be loaded via this mode unless they are explicitly allowlisted by the user via `torch.serialization.add_safe_globals`. We recommend you start setting `weights_only=True` for any use case where you don't have full control of the loaded file. Please open an issue on GitHub for any issues related to this experimental feature.\u001b[32m [repeated 5x across cluster]\u001b[0m\n",
      "  0%|\u001b[34m          \u001b[0m| 0/10 [00:00<?, ?it/s]\u001b[32m [repeated 3x across cluster]\u001b[0m\n"
     ]
    },
    {
     "name": "stdout",
     "output_type": "stream",
     "text": [
      "Saving round 21 aggregated_parameters...\n",
      "Updated model\n",
      "Server-side evaluation loss 1.396280410198065 / accuracy 67.3076923076923\n",
      "\u001b[36m(DefaultActor pid=28961)\u001b[0m  To get the checkpoint\u001b[32m [repeated 5x across cluster]\u001b[0m\n",
      "\u001b[36m(DefaultActor pid=28962)\u001b[0m [Client 3, round 21] fit, config: {'learning_rate': 0.003, 'batch_size': '16', 'server_round': 21, 'local_epochs': 10}\u001b[32m [repeated 2x across cluster]\u001b[0m\n",
      "\u001b[36m(DefaultActor pid=28961)\u001b[0m Updated model\u001b[32m [repeated 5x across cluster]\u001b[0m\n",
      "\u001b[36m(DefaultActor pid=28961)\u001b[0m \tTrain Epoch: 10 \tTrain_loss: 0.4581 | Train_acc: 81.2500 % | Validation_loss: 1.7596 | Validation_acc: 59.3750 %\u001b[32m [repeated 35x across cluster]\u001b[0m\n",
      "\u001b[36m(DefaultActor pid=28961)\u001b[0m [Client 3] evaluate, config: {}\u001b[32m [repeated 3x across cluster]\u001b[0m\n"
     ]
    },
    {
     "name": "stderr",
     "output_type": "stream",
     "text": [
      "\u001b[36m(DefaultActor pid=28961)\u001b[0m /opt/conda/envs/fed/lib/python3.10/site-packages/sklearn/metrics/_ranking.py:1183: UndefinedMetricWarning: No positive samples in y_true, true positive value should be meaningless\n",
      "\u001b[36m(DefaultActor pid=28961)\u001b[0m   warnings.warn(\n",
      "DEBUG flwr 2024-08-31 21:51:11,783 | server.py:187 | evaluate_round 21 received 4 results and 0 failures\n",
      "DEBUG flwr 2024-08-31 21:51:11,784 | server.py:222 | fit_round 22: strategy sampled 4 clients (out of 4)\n",
      "\u001b[36m(DefaultActor pid=28961)\u001b[0m   return torch.load(io.BytesIO(b))\u001b[32m [repeated 3x across cluster]\u001b[0m\n",
      " 10%|\u001b[34m█         \u001b[0m| 1/10 [00:00<00:01,  5.53it/s]\n",
      " 10%|\u001b[34m█         \u001b[0m| 1/10 [00:00<00:01,  5.00it/s]\n",
      " 20%|\u001b[34m██        \u001b[0m| 2/10 [00:00<00:01,  5.60it/s]\n",
      " 20%|\u001b[34m██        \u001b[0m| 2/10 [00:00<00:01,  5.18it/s]\n",
      " 30%|\u001b[34m███       \u001b[0m| 3/10 [00:00<00:01,  5.16it/s]\n",
      " 30%|\u001b[34m███       \u001b[0m| 3/10 [00:00<00:01,  4.60it/s]\n",
      " 40%|\u001b[34m████      \u001b[0m| 4/10 [00:00<00:01,  4.48it/s]\n"
     ]
    },
    {
     "name": "stdout",
     "output_type": "stream",
     "text": [
      "\u001b[36m(DefaultActor pid=28961)\u001b[0m save graph in  results/FL/\u001b[32m [repeated 3x across cluster]\u001b[0m\n"
     ]
    },
    {
     "name": "stderr",
     "output_type": "stream",
     "text": [
      " 40%|\u001b[34m████      \u001b[0m| 4/10 [00:00<00:01,  4.12it/s]\n",
      " 50%|\u001b[34m█████     \u001b[0m| 5/10 [00:01<00:01,  4.80it/s]\n",
      " 50%|\u001b[34m█████     \u001b[0m| 5/10 [00:01<00:01,  4.57it/s]\n",
      " 60%|\u001b[34m██████    \u001b[0m| 6/10 [00:01<00:00,  4.72it/s]\n",
      " 60%|\u001b[34m██████    \u001b[0m| 6/10 [00:01<00:00,  4.86it/s]\n",
      " 70%|\u001b[34m███████   \u001b[0m| 7/10 [00:01<00:00,  4.92it/s]\n",
      " 70%|\u001b[34m███████   \u001b[0m| 7/10 [00:01<00:00,  5.09it/s]\n",
      " 80%|\u001b[34m████████  \u001b[0m| 8/10 [00:01<00:00,  5.04it/s]\n",
      " 80%|\u001b[34m████████  \u001b[0m| 8/10 [00:01<00:00,  5.26it/s]\n",
      " 90%|\u001b[34m█████████ \u001b[0m| 9/10 [00:01<00:00,  4.62it/s]\n",
      " 90%|\u001b[34m█████████ \u001b[0m| 9/10 [00:01<00:00,  5.09it/s]\n",
      "100%|\u001b[34m██████████\u001b[0m| 10/10 [00:02<00:00,  4.88it/s]\n",
      "100%|\u001b[34m██████████\u001b[0m| 10/10 [00:02<00:00,  4.94it/s]\n",
      " 10%|\u001b[34m█         \u001b[0m| 1/10 [00:00<00:01,  5.34it/s]\n",
      " 10%|\u001b[34m█         \u001b[0m| 1/10 [00:00<00:01,  4.96it/s]\n",
      " 20%|\u001b[34m██        \u001b[0m| 2/10 [00:00<00:01,  5.00it/s]\n",
      " 20%|\u001b[34m██        \u001b[0m| 2/10 [00:00<00:01,  4.90it/s]\n",
      " 30%|\u001b[34m███       \u001b[0m| 3/10 [00:00<00:01,  5.21it/s]\n",
      " 30%|\u001b[34m███       \u001b[0m| 3/10 [00:00<00:01,  5.17it/s]\n",
      " 40%|\u001b[34m████      \u001b[0m| 4/10 [00:00<00:01,  5.34it/s]\n",
      " 40%|\u001b[34m████      \u001b[0m| 4/10 [00:00<00:01,  5.30it/s]\n",
      " 50%|\u001b[34m█████     \u001b[0m| 5/10 [00:00<00:01,  4.95it/s]\n",
      " 50%|\u001b[34m█████     \u001b[0m| 5/10 [00:00<00:00,  5.02it/s]\n",
      " 60%|\u001b[34m██████    \u001b[0m| 6/10 [00:01<00:00,  4.91it/s]\n",
      " 60%|\u001b[34m██████    \u001b[0m| 6/10 [00:01<00:00,  4.97it/s]\n",
      " 70%|\u001b[34m███████   \u001b[0m| 7/10 [00:01<00:00,  4.80it/s]\n",
      "\u001b[36m(DefaultActor pid=28962)\u001b[0m /tmp/ipykernel_28156/3044491048.py:10: FutureWarning: You are using `torch.load` with `weights_only=False` (the current default value), which uses the default pickle module implicitly. It is possible to construct malicious pickle data which will execute arbitrary code during unpickling (See https://github.com/pytorch/pytorch/blob/main/SECURITY.md#untrusted-models for more details). In a future release, the default value for `weights_only` will be flipped to `True`. This limits the functions that could be executed during unpickling. Arbitrary objects will no longer be allowed to be loaded via this mode unless they are explicitly allowlisted by the user via `torch.serialization.add_safe_globals`. We recommend you start setting `weights_only=True` for any use case where you don't have full control of the loaded file. Please open an issue on GitHub for any issues related to this experimental feature.\u001b[32m [repeated 11x across cluster]\u001b[0m\n",
      "  0%|\u001b[34m          \u001b[0m| 0/10 [00:00<?, ?it/s]\u001b[32m [repeated 4x across cluster]\u001b[0m\n",
      " 70%|\u001b[34m███████   \u001b[0m| 7/10 [00:01<00:00,  4.96it/s]\n",
      " 80%|\u001b[34m████████  \u001b[0m| 8/10 [00:01<00:00,  4.74it/s]\n",
      " 80%|\u001b[34m████████  \u001b[0m| 8/10 [00:01<00:00,  4.42it/s]\n",
      " 90%|\u001b[34m█████████ \u001b[0m| 9/10 [00:01<00:00,  4.73it/s]\n",
      " 90%|\u001b[34m█████████ \u001b[0m| 9/10 [00:01<00:00,  4.91it/s]\n",
      "100%|\u001b[34m██████████\u001b[0m| 10/10 [00:02<00:00,  4.91it/s]\n",
      "100%|\u001b[34m██████████\u001b[0m| 10/10 [00:02<00:00,  5.00it/s]\n"
     ]
    },
    {
     "name": "stdout",
     "output_type": "stream",
     "text": [
      "\u001b[36m(DefaultActor pid=28962)\u001b[0m  To get the checkpoint\u001b[32m [repeated 5x across cluster]\u001b[0m\n",
      "\u001b[36m(DefaultActor pid=28962)\u001b[0m [Client 0, round 22] fit, config: {'learning_rate': 0.003, 'batch_size': '16', 'server_round': 22, 'local_epochs': 10}\u001b[32m [repeated 4x across cluster]\u001b[0m\n",
      "\u001b[36m(DefaultActor pid=28962)\u001b[0m Updated model\u001b[32m [repeated 5x across cluster]\u001b[0m\n",
      "\u001b[36m(DefaultActor pid=28961)\u001b[0m \tTrain Epoch: 10 \tTrain_loss: 0.3364 | Train_acc: 89.0625 % | Validation_loss: 1.9110 | Validation_acc: 46.8750 %\u001b[32m [repeated 39x across cluster]\u001b[0m\n",
      "\u001b[36m(DefaultActor pid=28962)\u001b[0m [Client 1] evaluate, config: {}\n"
     ]
    },
    {
     "name": "stderr",
     "output_type": "stream",
     "text": [
      "DEBUG flwr 2024-08-31 21:51:16,505 | server.py:236 | fit_round 22 received 4 results and 0 failures\n",
      "INFO flwr 2024-08-31 21:51:16,542 | server.py:125 | fit progress: (22, 1.4516604015460381, {'accuracy': 70.1923076923077}, 138.83118169399995)\n",
      "DEBUG flwr 2024-08-31 21:51:16,543 | server.py:173 | evaluate_round 22: strategy sampled 4 clients (out of 4)\n"
     ]
    },
    {
     "name": "stdout",
     "output_type": "stream",
     "text": [
      "Saving round 22 aggregated_parameters...\n",
      "Updated model\n",
      "Server-side evaluation loss 1.4516604015460381 / accuracy 70.1923076923077\n",
      "\u001b[36m(DefaultActor pid=28961)\u001b[0m [Client 2] evaluate, config: {}\n"
     ]
    },
    {
     "name": "stderr",
     "output_type": "stream",
     "text": [
      "\u001b[36m(DefaultActor pid=28961)\u001b[0m   return torch.load(io.BytesIO(b))\u001b[32m [repeated 2x across cluster]\u001b[0m\n",
      "\u001b[36m(DefaultActor pid=28961)\u001b[0m /opt/conda/envs/fed/lib/python3.10/site-packages/sklearn/metrics/_ranking.py:1183: UndefinedMetricWarning: No positive samples in y_true, true positive value should be meaningless\n",
      "\u001b[36m(DefaultActor pid=28961)\u001b[0m   warnings.warn(\n",
      "DEBUG flwr 2024-08-31 21:51:17,728 | server.py:187 | evaluate_round 22 received 4 results and 0 failures\n",
      "DEBUG flwr 2024-08-31 21:51:17,728 | server.py:222 | fit_round 23: strategy sampled 4 clients (out of 4)\n"
     ]
    },
    {
     "name": "stdout",
     "output_type": "stream",
     "text": [
      "\u001b[36m(DefaultActor pid=28962)\u001b[0m save graph in  results/FL/\u001b[32m [repeated 4x across cluster]\u001b[0m\n"
     ]
    },
    {
     "name": "stderr",
     "output_type": "stream",
     "text": [
      " 10%|\u001b[34m█         \u001b[0m| 1/10 [00:00<00:01,  5.04it/s]\n",
      " 10%|\u001b[34m█         \u001b[0m| 1/10 [00:00<00:02,  3.47it/s]\n",
      " 20%|\u001b[34m██        \u001b[0m| 2/10 [00:00<00:01,  4.75it/s]\n",
      " 20%|\u001b[34m██        \u001b[0m| 2/10 [00:00<00:01,  4.48it/s]\n",
      " 30%|\u001b[34m███       \u001b[0m| 3/10 [00:00<00:01,  4.92it/s]\n",
      " 30%|\u001b[34m███       \u001b[0m| 3/10 [00:00<00:01,  4.95it/s]\n",
      " 40%|\u001b[34m████      \u001b[0m| 4/10 [00:00<00:01,  5.12it/s]\n",
      " 40%|\u001b[34m████      \u001b[0m| 4/10 [00:00<00:01,  5.19it/s]\n",
      " 50%|\u001b[34m█████     \u001b[0m| 5/10 [00:01<00:01,  4.70it/s]\n",
      " 50%|\u001b[34m█████     \u001b[0m| 5/10 [00:01<00:00,  5.00it/s]\n",
      " 60%|\u001b[34m██████    \u001b[0m| 6/10 [00:01<00:00,  4.96it/s]\n",
      " 60%|\u001b[34m██████    \u001b[0m| 6/10 [00:01<00:00,  5.22it/s]\n",
      " 70%|\u001b[34m███████   \u001b[0m| 7/10 [00:01<00:00,  5.03it/s]\n",
      " 70%|\u001b[34m███████   \u001b[0m| 7/10 [00:01<00:00,  5.35it/s]\n",
      " 80%|\u001b[34m████████  \u001b[0m| 8/10 [00:01<00:00,  5.39it/s]\n",
      " 80%|\u001b[34m████████  \u001b[0m| 8/10 [00:01<00:00,  5.19it/s]\n",
      " 90%|\u001b[34m█████████ \u001b[0m| 9/10 [00:01<00:00,  5.04it/s]\n",
      " 90%|\u001b[34m█████████ \u001b[0m| 9/10 [00:01<00:00,  4.94it/s]\n",
      "100%|\u001b[34m██████████\u001b[0m| 10/10 [00:01<00:00,  5.04it/s]\n",
      "100%|\u001b[34m██████████\u001b[0m| 10/10 [00:01<00:00,  5.05it/s]\n",
      " 10%|\u001b[34m█         \u001b[0m| 1/10 [00:00<00:01,  5.43it/s]\n",
      " 20%|\u001b[34m██        \u001b[0m| 2/10 [00:00<00:01,  5.56it/s]\n",
      " 10%|\u001b[34m█         \u001b[0m| 1/10 [00:00<00:01,  5.54it/s]\n",
      " 20%|\u001b[34m██        \u001b[0m| 2/10 [00:00<00:01,  5.64it/s]\n",
      " 30%|\u001b[34m███       \u001b[0m| 3/10 [00:00<00:01,  4.98it/s]\n",
      "\u001b[36m(DefaultActor pid=28962)\u001b[0m /tmp/ipykernel_28156/3044491048.py:10: FutureWarning: You are using `torch.load` with `weights_only=False` (the current default value), which uses the default pickle module implicitly. It is possible to construct malicious pickle data which will execute arbitrary code during unpickling (See https://github.com/pytorch/pytorch/blob/main/SECURITY.md#untrusted-models for more details). In a future release, the default value for `weights_only` will be flipped to `True`. This limits the functions that could be executed during unpickling. Arbitrary objects will no longer be allowed to be loaded via this mode unless they are explicitly allowlisted by the user via `torch.serialization.add_safe_globals`. We recommend you start setting `weights_only=True` for any use case where you don't have full control of the loaded file. Please open an issue on GitHub for any issues related to this experimental feature.\u001b[32m [repeated 12x across cluster]\u001b[0m\n",
      "  0%|\u001b[34m          \u001b[0m| 0/10 [00:00<?, ?it/s]\u001b[32m [repeated 4x across cluster]\u001b[0m\n",
      " 30%|\u001b[34m███       \u001b[0m| 3/10 [00:00<00:01,  5.14it/s]\n",
      " 40%|\u001b[34m████      \u001b[0m| 4/10 [00:00<00:01,  4.88it/s]\n",
      " 40%|\u001b[34m████      \u001b[0m| 4/10 [00:00<00:01,  5.22it/s]\n",
      " 50%|\u001b[34m█████     \u001b[0m| 5/10 [00:01<00:01,  4.69it/s]\n",
      " 50%|\u001b[34m█████     \u001b[0m| 5/10 [00:00<00:00,  5.09it/s]\n",
      " 60%|\u001b[34m██████    \u001b[0m| 6/10 [00:01<00:00,  4.94it/s]\n",
      " 60%|\u001b[34m██████    \u001b[0m| 6/10 [00:01<00:00,  5.22it/s]\n",
      " 70%|\u001b[34m███████   \u001b[0m| 7/10 [00:01<00:00,  5.15it/s]\n"
     ]
    },
    {
     "name": "stdout",
     "output_type": "stream",
     "text": [
      "\u001b[36m(DefaultActor pid=28962)\u001b[0m  To get the checkpoint\u001b[32m [repeated 8x across cluster]\u001b[0m\n",
      "\u001b[36m(DefaultActor pid=28962)\u001b[0m [Client 3, round 23] fit, config: {'learning_rate': 0.003, 'batch_size': '16', 'server_round': 23, 'local_epochs': 10}\u001b[32m [repeated 4x across cluster]\u001b[0m\n",
      "\u001b[36m(DefaultActor pid=28962)\u001b[0m Updated model\u001b[32m [repeated 8x across cluster]\u001b[0m\n",
      "\u001b[36m(DefaultActor pid=28961)\u001b[0m \tTrain Epoch: 6 \tTrain_loss: 0.4144 | Train_acc: 84.3750 % | Validation_loss: 1.1051 | Validation_acc: 68.7500 %\u001b[32m [repeated 32x across cluster]\u001b[0m\n"
     ]
    },
    {
     "name": "stderr",
     "output_type": "stream",
     "text": [
      " 70%|\u001b[34m███████   \u001b[0m| 7/10 [00:01<00:00,  5.25it/s]\n",
      " 80%|\u001b[34m████████  \u001b[0m| 8/10 [00:01<00:00,  5.24it/s]\n"
     ]
    },
    {
     "name": "stdout",
     "output_type": "stream",
     "text": [
      "\u001b[36m(DefaultActor pid=28962)\u001b[0m [Client 1] evaluate, config: {}\u001b[32m [repeated 3x across cluster]\u001b[0m\n"
     ]
    },
    {
     "name": "stderr",
     "output_type": "stream",
     "text": [
      " 80%|\u001b[34m████████  \u001b[0m| 8/10 [00:01<00:00,  5.21it/s]\n",
      " 90%|\u001b[34m█████████ \u001b[0m| 9/10 [00:01<00:00,  5.30it/s]\n",
      " 90%|\u001b[34m█████████ \u001b[0m| 9/10 [00:01<00:00,  5.28it/s]\n",
      "100%|\u001b[34m██████████\u001b[0m| 10/10 [00:01<00:00,  5.17it/s]\n",
      "100%|\u001b[34m██████████\u001b[0m| 10/10 [00:01<00:00,  5.25it/s]\n",
      "DEBUG flwr 2024-08-31 21:51:22,415 | server.py:236 | fit_round 23 received 4 results and 0 failures\n",
      "INFO flwr 2024-08-31 21:51:22,453 | server.py:125 | fit progress: (23, 1.543654549580354, {'accuracy': 70.67307692307693}, 144.74228235300006)\n",
      "DEBUG flwr 2024-08-31 21:51:22,454 | server.py:173 | evaluate_round 23: strategy sampled 4 clients (out of 4)\n",
      "\u001b[36m(DefaultActor pid=28962)\u001b[0m   return torch.load(io.BytesIO(b))\u001b[32m [repeated 3x across cluster]\u001b[0m\n"
     ]
    },
    {
     "name": "stdout",
     "output_type": "stream",
     "text": [
      "Saving round 23 aggregated_parameters...\n",
      "Updated model\n",
      "Server-side evaluation loss 1.543654549580354 / accuracy 70.67307692307693\n"
     ]
    },
    {
     "name": "stderr",
     "output_type": "stream",
     "text": [
      "\u001b[36m(DefaultActor pid=28962)\u001b[0m /opt/conda/envs/fed/lib/python3.10/site-packages/sklearn/metrics/_ranking.py:1183: UndefinedMetricWarning: No positive samples in y_true, true positive value should be meaningless\n",
      "\u001b[36m(DefaultActor pid=28962)\u001b[0m   warnings.warn(\n"
     ]
    },
    {
     "name": "stdout",
     "output_type": "stream",
     "text": [
      "\u001b[36m(DefaultActor pid=28962)\u001b[0m save graph in  results/FL/\u001b[32m [repeated 4x across cluster]\u001b[0m\n"
     ]
    },
    {
     "name": "stderr",
     "output_type": "stream",
     "text": [
      "DEBUG flwr 2024-08-31 21:51:23,886 | server.py:187 | evaluate_round 23 received 4 results and 0 failures\n",
      "DEBUG flwr 2024-08-31 21:51:23,887 | server.py:222 | fit_round 24: strategy sampled 4 clients (out of 4)\n",
      " 10%|\u001b[34m█         \u001b[0m| 1/10 [00:00<00:01,  5.34it/s]\n",
      " 10%|\u001b[34m█         \u001b[0m| 1/10 [00:00<00:01,  5.44it/s]\n",
      " 20%|\u001b[34m██        \u001b[0m| 2/10 [00:00<00:01,  4.92it/s]\n",
      " 20%|\u001b[34m██        \u001b[0m| 2/10 [00:00<00:01,  4.25it/s]\n",
      " 30%|\u001b[34m███       \u001b[0m| 3/10 [00:00<00:01,  5.20it/s]\n",
      " 30%|\u001b[34m███       \u001b[0m| 3/10 [00:00<00:01,  4.44it/s]\n",
      " 40%|\u001b[34m████      \u001b[0m| 4/10 [00:00<00:01,  4.84it/s]\n",
      " 40%|\u001b[34m████      \u001b[0m| 4/10 [00:00<00:01,  4.55it/s]\n",
      " 50%|\u001b[34m█████     \u001b[0m| 5/10 [00:00<00:00,  5.06it/s]\n",
      " 50%|\u001b[34m█████     \u001b[0m| 5/10 [00:01<00:01,  4.96it/s]\n",
      " 60%|\u001b[34m██████    \u001b[0m| 6/10 [00:01<00:00,  5.28it/s]\n",
      " 60%|\u001b[34m██████    \u001b[0m| 6/10 [00:01<00:00,  5.05it/s]\n",
      " 70%|\u001b[34m███████   \u001b[0m| 7/10 [00:01<00:00,  5.33it/s]\n",
      " 70%|\u001b[34m███████   \u001b[0m| 7/10 [00:01<00:00,  5.13it/s]\n",
      " 80%|\u001b[34m████████  \u001b[0m| 8/10 [00:01<00:00,  5.33it/s]\n",
      " 80%|\u001b[34m████████  \u001b[0m| 8/10 [00:01<00:00,  5.25it/s]\n",
      " 90%|\u001b[34m█████████ \u001b[0m| 9/10 [00:01<00:00,  5.41it/s]\n",
      " 90%|\u001b[34m█████████ \u001b[0m| 9/10 [00:01<00:00,  5.26it/s]\n",
      "\u001b[36m(DefaultActor pid=28962)\u001b[0m /tmp/ipykernel_28156/3044491048.py:10: FutureWarning: You are using `torch.load` with `weights_only=False` (the current default value), which uses the default pickle module implicitly. It is possible to construct malicious pickle data which will execute arbitrary code during unpickling (See https://github.com/pytorch/pytorch/blob/main/SECURITY.md#untrusted-models for more details). In a future release, the default value for `weights_only` will be flipped to `True`. This limits the functions that could be executed during unpickling. Arbitrary objects will no longer be allowed to be loaded via this mode unless they are explicitly allowlisted by the user via `torch.serialization.add_safe_globals`. We recommend you start setting `weights_only=True` for any use case where you don't have full control of the loaded file. Please open an issue on GitHub for any issues related to this experimental feature.\u001b[32m [repeated 10x across cluster]\u001b[0m\n",
      "  0%|\u001b[34m          \u001b[0m| 0/10 [00:00<?, ?it/s]\u001b[32m [repeated 2x across cluster]\u001b[0m\n",
      "100%|\u001b[34m██████████\u001b[0m| 10/10 [00:01<00:00,  5.28it/s]\n",
      "100%|\u001b[34m██████████\u001b[0m| 10/10 [00:01<00:00,  5.06it/s]\n",
      " 10%|\u001b[34m█         \u001b[0m| 1/10 [00:00<00:02,  3.22it/s]\n",
      " 10%|\u001b[34m█         \u001b[0m| 1/10 [00:00<00:02,  4.02it/s]\n"
     ]
    },
    {
     "name": "stdout",
     "output_type": "stream",
     "text": [
      "\u001b[36m(DefaultActor pid=28961)\u001b[0m  To get the checkpoint\u001b[32m [repeated 8x across cluster]\u001b[0m\n",
      "\u001b[36m(DefaultActor pid=28961)\u001b[0m [Client 3, round 24] fit, config: {'learning_rate': 0.003, 'batch_size': '16', 'server_round': 24, 'local_epochs': 10}\u001b[32m [repeated 4x across cluster]\u001b[0m\n",
      "\u001b[36m(DefaultActor pid=28961)\u001b[0m Updated model\u001b[32m [repeated 8x across cluster]\u001b[0m\n",
      "\u001b[36m(DefaultActor pid=28962)\u001b[0m \tTrain Epoch: 1 \tTrain_loss: 0.7539 | Train_acc: 74.4792 % | Validation_loss: 1.2918 | Validation_acc: 59.3750 %\u001b[32m [repeated 30x across cluster]\u001b[0m\n",
      "\u001b[36m(DefaultActor pid=28962)\u001b[0m [Client 2] evaluate, config: {}\u001b[32m [repeated 4x across cluster]\u001b[0m\n"
     ]
    },
    {
     "name": "stderr",
     "output_type": "stream",
     "text": [
      " 20%|\u001b[34m██        \u001b[0m| 2/10 [00:00<00:01,  4.73it/s]\n",
      " 20%|\u001b[34m██        \u001b[0m| 2/10 [00:00<00:02,  3.70it/s]\n",
      " 30%|\u001b[34m███       \u001b[0m| 3/10 [00:00<00:01,  5.01it/s]\n",
      " 30%|\u001b[34m███       \u001b[0m| 3/10 [00:00<00:01,  4.32it/s]\n",
      " 40%|\u001b[34m████      \u001b[0m| 4/10 [00:00<00:01,  5.12it/s]\n",
      " 40%|\u001b[34m████      \u001b[0m| 4/10 [00:00<00:01,  4.66it/s]\n",
      " 50%|\u001b[34m█████     \u001b[0m| 5/10 [00:00<00:00,  5.24it/s]\n",
      " 50%|\u001b[34m█████     \u001b[0m| 5/10 [00:01<00:01,  4.85it/s]\n",
      " 60%|\u001b[34m██████    \u001b[0m| 6/10 [00:01<00:00,  5.21it/s]\n",
      "\u001b[36m(DefaultActor pid=28962)\u001b[0m   return torch.load(io.BytesIO(b))\u001b[32m [repeated 4x across cluster]\u001b[0m\n",
      " 60%|\u001b[34m██████    \u001b[0m| 6/10 [00:01<00:00,  5.01it/s]\n",
      " 70%|\u001b[34m███████   \u001b[0m| 7/10 [00:01<00:00,  5.35it/s]\n",
      " 70%|\u001b[34m███████   \u001b[0m| 7/10 [00:01<00:00,  5.15it/s]\n",
      " 80%|\u001b[34m████████  \u001b[0m| 8/10 [00:01<00:00,  5.45it/s]\n",
      " 80%|\u001b[34m████████  \u001b[0m| 8/10 [00:01<00:00,  5.17it/s]\n",
      " 90%|\u001b[34m█████████ \u001b[0m| 9/10 [00:01<00:00,  5.21it/s]\n",
      " 90%|\u001b[34m█████████ \u001b[0m| 9/10 [00:01<00:00,  5.07it/s]\n",
      "100%|\u001b[34m██████████\u001b[0m| 10/10 [00:01<00:00,  5.16it/s]\n",
      "100%|\u001b[34m██████████\u001b[0m| 10/10 [00:02<00:00,  4.85it/s]\n",
      "DEBUG flwr 2024-08-31 21:51:28,565 | server.py:236 | fit_round 24 received 4 results and 0 failures\n",
      "INFO flwr 2024-08-31 21:51:28,608 | server.py:125 | fit progress: (24, 1.4266154651458447, {'accuracy': 69.71153846153845}, 150.89681771000005)\n",
      "DEBUG flwr 2024-08-31 21:51:28,609 | server.py:173 | evaluate_round 24: strategy sampled 4 clients (out of 4)\n"
     ]
    },
    {
     "name": "stdout",
     "output_type": "stream",
     "text": [
      "Saving round 24 aggregated_parameters...\n",
      "Updated model\n",
      "Server-side evaluation loss 1.4266154651458447 / accuracy 69.71153846153845\n",
      "\u001b[36m(DefaultActor pid=28962)\u001b[0m save graph in  results/FL/\u001b[32m [repeated 4x across cluster]\u001b[0m\n"
     ]
    },
    {
     "name": "stderr",
     "output_type": "stream",
     "text": [
      "\u001b[36m(DefaultActor pid=28961)\u001b[0m /opt/conda/envs/fed/lib/python3.10/site-packages/sklearn/metrics/_ranking.py:1183: UndefinedMetricWarning: No positive samples in y_true, true positive value should be meaningless\n",
      "\u001b[36m(DefaultActor pid=28961)\u001b[0m   warnings.warn(\n",
      "DEBUG flwr 2024-08-31 21:51:29,891 | server.py:187 | evaluate_round 24 received 4 results and 0 failures\n",
      "DEBUG flwr 2024-08-31 21:51:29,892 | server.py:222 | fit_round 25: strategy sampled 4 clients (out of 4)\n",
      " 10%|\u001b[34m█         \u001b[0m| 1/10 [00:00<00:01,  5.46it/s]\n",
      " 10%|\u001b[34m█         \u001b[0m| 1/10 [00:00<00:01,  5.04it/s]\n",
      " 20%|\u001b[34m██        \u001b[0m| 2/10 [00:00<00:01,  5.63it/s]\n",
      " 20%|\u001b[34m██        \u001b[0m| 2/10 [00:00<00:01,  5.13it/s]\n",
      " 30%|\u001b[34m███       \u001b[0m| 3/10 [00:00<00:01,  5.70it/s]\n",
      " 30%|\u001b[34m███       \u001b[0m| 3/10 [00:00<00:01,  5.23it/s]\n",
      " 40%|\u001b[34m████      \u001b[0m| 4/10 [00:00<00:01,  5.61it/s]\n",
      " 40%|\u001b[34m████      \u001b[0m| 4/10 [00:00<00:01,  4.31it/s]\n",
      "\u001b[36m(DefaultActor pid=28961)\u001b[0m /tmp/ipykernel_28156/3044491048.py:10: FutureWarning: You are using `torch.load` with `weights_only=False` (the current default value), which uses the default pickle module implicitly. It is possible to construct malicious pickle data which will execute arbitrary code during unpickling (See https://github.com/pytorch/pytorch/blob/main/SECURITY.md#untrusted-models for more details). In a future release, the default value for `weights_only` will be flipped to `True`. This limits the functions that could be executed during unpickling. Arbitrary objects will no longer be allowed to be loaded via this mode unless they are explicitly allowlisted by the user via `torch.serialization.add_safe_globals`. We recommend you start setting `weights_only=True` for any use case where you don't have full control of the loaded file. Please open an issue on GitHub for any issues related to this experimental feature.\u001b[32m [repeated 12x across cluster]\u001b[0m\n",
      "  0%|\u001b[34m          \u001b[0m| 0/10 [00:00<?, ?it/s]\u001b[32m [repeated 4x across cluster]\u001b[0m\n",
      " 50%|\u001b[34m█████     \u001b[0m| 5/10 [00:00<00:00,  5.16it/s]\n",
      " 60%|\u001b[34m██████    \u001b[0m| 6/10 [00:01<00:00,  5.33it/s]\n",
      " 50%|\u001b[34m█████     \u001b[0m| 5/10 [00:01<00:01,  4.67it/s]\n",
      " 60%|\u001b[34m██████    \u001b[0m| 6/10 [00:01<00:00,  4.98it/s]\n",
      " 70%|\u001b[34m███████   \u001b[0m| 7/10 [00:01<00:00,  5.45it/s]\n",
      " 70%|\u001b[34m███████   \u001b[0m| 7/10 [00:01<00:00,  4.80it/s]\n",
      " 80%|\u001b[34m████████  \u001b[0m| 8/10 [00:01<00:00,  4.76it/s]\n",
      " 80%|\u001b[34m████████  \u001b[0m| 8/10 [00:01<00:00,  4.92it/s]\n"
     ]
    },
    {
     "name": "stdout",
     "output_type": "stream",
     "text": [
      "\u001b[36m(DefaultActor pid=28961)\u001b[0m  To get the checkpoint\u001b[32m [repeated 6x across cluster]\u001b[0m\n",
      "\u001b[36m(DefaultActor pid=28962)\u001b[0m [Client 1, round 25] fit, config: {'learning_rate': 0.003, 'batch_size': '16', 'server_round': 25, 'local_epochs': 10}\u001b[32m [repeated 2x across cluster]\u001b[0m\n",
      "\u001b[36m(DefaultActor pid=28962)\u001b[0m Updated model\u001b[32m [repeated 6x across cluster]\u001b[0m\n",
      "\u001b[36m(DefaultActor pid=28961)\u001b[0m \tTrain Epoch: 8 \tTrain_loss: 0.3742 | Train_acc: 85.9375 % | Validation_loss: 1.1850 | Validation_acc: 59.3750 %\u001b[32m [repeated 34x across cluster]\u001b[0m\n"
     ]
    },
    {
     "name": "stderr",
     "output_type": "stream",
     "text": [
      " 90%|\u001b[34m█████████ \u001b[0m| 9/10 [00:01<00:00,  4.66it/s]\n",
      " 90%|\u001b[34m█████████ \u001b[0m| 9/10 [00:01<00:00,  4.89it/s]\n"
     ]
    },
    {
     "name": "stdout",
     "output_type": "stream",
     "text": [
      "\u001b[36m(DefaultActor pid=28962)\u001b[0m [Client 1] evaluate, config: {}\u001b[32m [repeated 4x across cluster]\u001b[0m\n"
     ]
    },
    {
     "name": "stderr",
     "output_type": "stream",
     "text": [
      "100%|\u001b[34m██████████\u001b[0m| 10/10 [00:01<00:00,  5.04it/s]\n",
      "100%|\u001b[34m██████████\u001b[0m| 10/10 [00:02<00:00,  4.89it/s]\n",
      " 10%|\u001b[34m█         \u001b[0m| 1/10 [00:00<00:01,  4.53it/s]\n",
      "\u001b[36m(DefaultActor pid=28961)\u001b[0m   return torch.load(io.BytesIO(b))\u001b[32m [repeated 4x across cluster]\u001b[0m\n",
      " 10%|\u001b[34m█         \u001b[0m| 1/10 [00:00<00:01,  5.09it/s]\n",
      " 20%|\u001b[34m██        \u001b[0m| 2/10 [00:00<00:01,  5.03it/s]\n",
      " 20%|\u001b[34m██        \u001b[0m| 2/10 [00:00<00:02,  3.89it/s]\n",
      " 30%|\u001b[34m███       \u001b[0m| 3/10 [00:00<00:01,  4.11it/s]\n",
      " 30%|\u001b[34m███       \u001b[0m| 3/10 [00:00<00:01,  3.76it/s]\n",
      " 40%|\u001b[34m████      \u001b[0m| 4/10 [00:01<00:01,  3.77it/s]\n",
      " 40%|\u001b[34m████      \u001b[0m| 4/10 [00:00<00:01,  3.92it/s]\n",
      " 50%|\u001b[34m█████     \u001b[0m| 5/10 [00:01<00:01,  4.41it/s]\n",
      " 50%|\u001b[34m█████     \u001b[0m| 5/10 [00:01<00:01,  4.32it/s]\n",
      " 60%|\u001b[34m██████    \u001b[0m| 6/10 [00:01<00:00,  4.76it/s]\n"
     ]
    },
    {
     "name": "stdout",
     "output_type": "stream",
     "text": [
      "\u001b[36m(DefaultActor pid=28962)\u001b[0m save graph in  results/FL/\u001b[32m [repeated 2x across cluster]\u001b[0m\n"
     ]
    },
    {
     "name": "stderr",
     "output_type": "stream",
     "text": [
      " 60%|\u001b[34m██████    \u001b[0m| 6/10 [00:01<00:00,  4.65it/s]\n",
      " 70%|\u001b[34m███████   \u001b[0m| 7/10 [00:01<00:00,  4.63it/s]\n",
      " 70%|\u001b[34m███████   \u001b[0m| 7/10 [00:01<00:00,  4.61it/s]\n",
      " 80%|\u001b[34m████████  \u001b[0m| 8/10 [00:01<00:00,  4.82it/s]\n",
      " 80%|\u001b[34m████████  \u001b[0m| 8/10 [00:01<00:00,  4.81it/s]\n",
      " 90%|\u001b[34m█████████ \u001b[0m| 9/10 [00:01<00:00,  5.03it/s]\n",
      " 90%|\u001b[34m█████████ \u001b[0m| 9/10 [00:01<00:00,  4.91it/s]\n",
      "100%|\u001b[34m██████████\u001b[0m| 10/10 [00:02<00:00,  4.59it/s]\n",
      "100%|\u001b[34m██████████\u001b[0m| 10/10 [00:02<00:00,  4.72it/s]\n",
      "DEBUG flwr 2024-08-31 21:51:35,206 | server.py:236 | fit_round 25 received 4 results and 0 failures\n",
      "INFO flwr 2024-08-31 21:51:35,245 | server.py:125 | fit progress: (25, 1.3647405253006861, {'accuracy': 72.11538461538461}, 157.5338393520001)\n",
      "DEBUG flwr 2024-08-31 21:51:35,245 | server.py:173 | evaluate_round 25: strategy sampled 4 clients (out of 4)\n"
     ]
    },
    {
     "name": "stdout",
     "output_type": "stream",
     "text": [
      "Saving round 25 aggregated_parameters...\n",
      "Updated model\n",
      "Server-side evaluation loss 1.3647405253006861 / accuracy 72.11538461538461\n"
     ]
    },
    {
     "name": "stderr",
     "output_type": "stream",
     "text": [
      "\u001b[36m(DefaultActor pid=28962)\u001b[0m /opt/conda/envs/fed/lib/python3.10/site-packages/sklearn/metrics/_ranking.py:1183: UndefinedMetricWarning: No positive samples in y_true, true positive value should be meaningless\n",
      "\u001b[36m(DefaultActor pid=28962)\u001b[0m   warnings.warn(\n",
      "\u001b[36m(DefaultActor pid=28961)\u001b[0m /tmp/ipykernel_28156/3044491048.py:10: FutureWarning: You are using `torch.load` with `weights_only=False` (the current default value), which uses the default pickle module implicitly. It is possible to construct malicious pickle data which will execute arbitrary code during unpickling (See https://github.com/pytorch/pytorch/blob/main/SECURITY.md#untrusted-models for more details). In a future release, the default value for `weights_only` will be flipped to `True`. This limits the functions that could be executed during unpickling. Arbitrary objects will no longer be allowed to be loaded via this mode unless they are explicitly allowlisted by the user via `torch.serialization.add_safe_globals`. We recommend you start setting `weights_only=True` for any use case where you don't have full control of the loaded file. Please open an issue on GitHub for any issues related to this experimental feature.\u001b[32m [repeated 6x across cluster]\u001b[0m\n",
      "  0%|\u001b[34m          \u001b[0m| 0/10 [00:00<?, ?it/s]\u001b[32m [repeated 2x across cluster]\u001b[0m\n",
      "DEBUG flwr 2024-08-31 21:51:36,667 | server.py:187 | evaluate_round 25 received 4 results and 0 failures\n",
      "DEBUG flwr 2024-08-31 21:51:36,668 | server.py:222 | fit_round 26: strategy sampled 4 clients (out of 4)\n"
     ]
    },
    {
     "name": "stdout",
     "output_type": "stream",
     "text": [
      "\u001b[36m(DefaultActor pid=28961)\u001b[0m  To get the checkpoint\u001b[32m [repeated 7x across cluster]\u001b[0m\n",
      "\u001b[36m(DefaultActor pid=28961)\u001b[0m [Client 3, round 26] fit, config: {'learning_rate': 0.003, 'batch_size': '16', 'server_round': 26, 'local_epochs': 10}\u001b[32m [repeated 3x across cluster]\u001b[0m\n",
      "\u001b[36m(DefaultActor pid=28961)\u001b[0m Updated model\u001b[32m [repeated 7x across cluster]\u001b[0m\n",
      "\u001b[36m(DefaultActor pid=28962)\u001b[0m \tTrain Epoch: 10 \tTrain_loss: 0.2795 | Train_acc: 90.6250 % | Validation_loss: 1.3430 | Validation_acc: 68.7500 %\u001b[32m [repeated 25x across cluster]\u001b[0m\n",
      "\u001b[36m(DefaultActor pid=28961)\u001b[0m [Client 2] evaluate, config: {}\u001b[32m [repeated 4x across cluster]\u001b[0m\n"
     ]
    },
    {
     "name": "stderr",
     "output_type": "stream",
     "text": [
      " 10%|\u001b[34m█         \u001b[0m| 1/10 [00:00<00:01,  5.64it/s]\n",
      " 10%|\u001b[34m█         \u001b[0m| 1/10 [00:00<00:01,  5.47it/s]\n",
      " 20%|\u001b[34m██        \u001b[0m| 2/10 [00:00<00:01,  4.86it/s]\n",
      " 20%|\u001b[34m██        \u001b[0m| 2/10 [00:00<00:01,  4.94it/s]\n",
      " 30%|\u001b[34m███       \u001b[0m| 3/10 [00:00<00:01,  4.15it/s]\n",
      " 30%|\u001b[34m███       \u001b[0m| 3/10 [00:00<00:01,  4.29it/s]\n",
      " 40%|\u001b[34m████      \u001b[0m| 4/10 [00:00<00:01,  4.52it/s]\n",
      "\u001b[36m(DefaultActor pid=28962)\u001b[0m   return torch.load(io.BytesIO(b))\u001b[32m [repeated 4x across cluster]\u001b[0m\n",
      " 40%|\u001b[34m████      \u001b[0m| 4/10 [00:00<00:01,  4.44it/s]\n",
      " 50%|\u001b[34m█████     \u001b[0m| 5/10 [00:01<00:01,  4.42it/s]\n",
      " 50%|\u001b[34m█████     \u001b[0m| 5/10 [00:01<00:01,  4.64it/s]\n",
      " 60%|\u001b[34m██████    \u001b[0m| 6/10 [00:01<00:00,  4.69it/s]\n",
      " 60%|\u001b[34m██████    \u001b[0m| 6/10 [00:01<00:00,  4.88it/s]\n",
      " 70%|\u001b[34m███████   \u001b[0m| 7/10 [00:01<00:00,  4.98it/s]\n",
      " 70%|\u001b[34m███████   \u001b[0m| 7/10 [00:01<00:00,  4.56it/s]\n",
      " 80%|\u001b[34m████████  \u001b[0m| 8/10 [00:01<00:00,  4.87it/s]\n",
      " 80%|\u001b[34m████████  \u001b[0m| 8/10 [00:01<00:00,  4.90it/s]\n",
      " 90%|\u001b[34m█████████ \u001b[0m| 9/10 [00:01<00:00,  5.01it/s]\n",
      " 90%|\u001b[34m█████████ \u001b[0m| 9/10 [00:01<00:00,  5.06it/s]\n",
      "100%|\u001b[34m██████████\u001b[0m| 10/10 [00:02<00:00,  4.92it/s]\n"
     ]
    },
    {
     "name": "stdout",
     "output_type": "stream",
     "text": [
      "\u001b[36m(DefaultActor pid=28962)\u001b[0m save graph in  results/FL/\u001b[32m [repeated 3x across cluster]\u001b[0m\n"
     ]
    },
    {
     "name": "stderr",
     "output_type": "stream",
     "text": [
      "100%|\u001b[34m██████████\u001b[0m| 10/10 [00:02<00:00,  4.82it/s]\n",
      " 10%|\u001b[34m█         \u001b[0m| 1/10 [00:00<00:01,  4.79it/s]\n",
      " 10%|\u001b[34m█         \u001b[0m| 1/10 [00:00<00:02,  3.60it/s]\n",
      " 20%|\u001b[34m██        \u001b[0m| 2/10 [00:00<00:01,  4.92it/s]\n",
      " 20%|\u001b[34m██        \u001b[0m| 2/10 [00:00<00:01,  4.60it/s]\n",
      " 30%|\u001b[34m███       \u001b[0m| 3/10 [00:00<00:01,  4.90it/s]\n",
      " 30%|\u001b[34m███       \u001b[0m| 3/10 [00:00<00:01,  4.73it/s]\n",
      " 40%|\u001b[34m████      \u001b[0m| 4/10 [00:00<00:01,  5.20it/s]\n",
      " 40%|\u001b[34m████      \u001b[0m| 4/10 [00:00<00:01,  5.01it/s]\n",
      " 50%|\u001b[34m█████     \u001b[0m| 5/10 [00:01<00:01,  4.72it/s]\n",
      " 50%|\u001b[34m█████     \u001b[0m| 5/10 [00:01<00:01,  4.51it/s]\n",
      " 60%|\u001b[34m██████    \u001b[0m| 6/10 [00:01<00:00,  4.95it/s]\n",
      " 70%|\u001b[34m███████   \u001b[0m| 7/10 [00:01<00:00,  5.12it/s]\n",
      " 60%|\u001b[34m██████    \u001b[0m| 6/10 [00:01<00:00,  4.69it/s]\n",
      " 70%|\u001b[34m███████   \u001b[0m| 7/10 [00:01<00:00,  4.93it/s]\n",
      " 80%|\u001b[34m████████  \u001b[0m| 8/10 [00:01<00:00,  5.20it/s]\n",
      " 80%|\u001b[34m████████  \u001b[0m| 8/10 [00:01<00:00,  5.05it/s]\n",
      " 90%|\u001b[34m█████████ \u001b[0m| 9/10 [00:01<00:00,  5.23it/s]\n",
      "\u001b[36m(DefaultActor pid=28962)\u001b[0m /tmp/ipykernel_28156/3044491048.py:10: FutureWarning: You are using `torch.load` with `weights_only=False` (the current default value), which uses the default pickle module implicitly. It is possible to construct malicious pickle data which will execute arbitrary code during unpickling (See https://github.com/pytorch/pytorch/blob/main/SECURITY.md#untrusted-models for more details). In a future release, the default value for `weights_only` will be flipped to `True`. This limits the functions that could be executed during unpickling. Arbitrary objects will no longer be allowed to be loaded via this mode unless they are explicitly allowlisted by the user via `torch.serialization.add_safe_globals`. We recommend you start setting `weights_only=True` for any use case where you don't have full control of the loaded file. Please open an issue on GitHub for any issues related to this experimental feature.\u001b[32m [repeated 8x across cluster]\u001b[0m\n",
      "  0%|\u001b[34m          \u001b[0m| 0/10 [00:00<?, ?it/s]\u001b[32m [repeated 4x across cluster]\u001b[0m\n",
      " 90%|\u001b[34m█████████ \u001b[0m| 9/10 [00:01<00:00,  5.21it/s]\n",
      "100%|\u001b[34m██████████\u001b[0m| 10/10 [00:01<00:00,  5.12it/s]\n",
      "100%|\u001b[34m██████████\u001b[0m| 10/10 [00:02<00:00,  4.94it/s]\n",
      "DEBUG flwr 2024-08-31 21:51:41,480 | server.py:236 | fit_round 26 received 4 results and 0 failures\n",
      "INFO flwr 2024-08-31 21:51:41,515 | server.py:125 | fit progress: (26, 1.7194400544349964, {'accuracy': 70.1923076923077}, 163.80431544500016)\n",
      "DEBUG flwr 2024-08-31 21:51:41,516 | server.py:173 | evaluate_round 26: strategy sampled 4 clients (out of 4)\n"
     ]
    },
    {
     "name": "stdout",
     "output_type": "stream",
     "text": [
      "Saving round 26 aggregated_parameters...\n",
      "Updated model\n",
      "Server-side evaluation loss 1.7194400544349964 / accuracy 70.1923076923077\n"
     ]
    },
    {
     "name": "stderr",
     "output_type": "stream",
     "text": [
      "\u001b[36m(DefaultActor pid=28961)\u001b[0m /opt/conda/envs/fed/lib/python3.10/site-packages/sklearn/metrics/_ranking.py:1183: UndefinedMetricWarning: No positive samples in y_true, true positive value should be meaningless\n",
      "\u001b[36m(DefaultActor pid=28961)\u001b[0m   warnings.warn(\n"
     ]
    },
    {
     "name": "stdout",
     "output_type": "stream",
     "text": [
      "\u001b[36m(DefaultActor pid=28961)\u001b[0m  To get the checkpoint\u001b[32m [repeated 6x across cluster]\u001b[0m\n",
      "\u001b[36m(DefaultActor pid=28962)\u001b[0m [Client 0, round 26] fit, config: {'learning_rate': 0.003, 'batch_size': '16', 'server_round': 26, 'local_epochs': 10}\u001b[32m [repeated 3x across cluster]\u001b[0m\n",
      "\u001b[36m(DefaultActor pid=28961)\u001b[0m Updated model\u001b[32m [repeated 6x across cluster]\u001b[0m\n",
      "\u001b[36m(DefaultActor pid=28962)\u001b[0m \tTrain Epoch: 10 \tTrain_loss: 0.1575 | Train_acc: 95.8333 % | Validation_loss: 1.8786 | Validation_acc: 62.5000 %\u001b[32m [repeated 40x across cluster]\u001b[0m\n",
      "\u001b[36m(DefaultActor pid=28961)\u001b[0m [Client 1] evaluate, config: {}\u001b[32m [repeated 3x across cluster]\u001b[0m\n"
     ]
    },
    {
     "name": "stderr",
     "output_type": "stream",
     "text": [
      "DEBUG flwr 2024-08-31 21:51:42,677 | server.py:187 | evaluate_round 26 received 4 results and 0 failures\n",
      "DEBUG flwr 2024-08-31 21:51:42,677 | server.py:222 | fit_round 27: strategy sampled 4 clients (out of 4)\n",
      "\u001b[36m(DefaultActor pid=28961)\u001b[0m   return torch.load(io.BytesIO(b))\u001b[32m [repeated 3x across cluster]\u001b[0m\n",
      " 10%|\u001b[34m█         \u001b[0m| 1/10 [00:00<00:01,  4.55it/s]\n",
      " 10%|\u001b[34m█         \u001b[0m| 1/10 [00:00<00:02,  3.91it/s]\n",
      " 20%|\u001b[34m██        \u001b[0m| 2/10 [00:00<00:01,  4.94it/s]\n",
      " 20%|\u001b[34m██        \u001b[0m| 2/10 [00:00<00:01,  4.73it/s]\n",
      " 30%|\u001b[34m███       \u001b[0m| 3/10 [00:00<00:01,  4.61it/s]\n",
      " 40%|\u001b[34m████      \u001b[0m| 4/10 [00:01<00:01,  3.40it/s]\n",
      " 30%|\u001b[34m███       \u001b[0m| 3/10 [00:01<00:02,  2.66it/s]\n"
     ]
    },
    {
     "name": "stdout",
     "output_type": "stream",
     "text": [
      "\u001b[36m(DefaultActor pid=28962)\u001b[0m save graph in  results/FL/\u001b[32m [repeated 3x across cluster]\u001b[0m\n"
     ]
    },
    {
     "name": "stderr",
     "output_type": "stream",
     "text": [
      " 50%|\u001b[34m█████     \u001b[0m| 5/10 [00:01<00:01,  3.74it/s]\n",
      " 40%|\u001b[34m████      \u001b[0m| 4/10 [00:01<00:01,  3.07it/s]\n",
      " 60%|\u001b[34m██████    \u001b[0m| 6/10 [00:01<00:00,  4.20it/s]\n",
      " 50%|\u001b[34m█████     \u001b[0m| 5/10 [00:01<00:01,  3.59it/s]\n",
      " 70%|\u001b[34m███████   \u001b[0m| 7/10 [00:01<00:00,  4.56it/s]\n",
      " 60%|\u001b[34m██████    \u001b[0m| 6/10 [00:01<00:00,  4.04it/s]\n",
      " 80%|\u001b[34m████████  \u001b[0m| 8/10 [00:01<00:00,  4.70it/s]\n",
      " 70%|\u001b[34m███████   \u001b[0m| 7/10 [00:01<00:00,  4.34it/s]\n",
      " 90%|\u001b[34m█████████ \u001b[0m| 9/10 [00:02<00:00,  4.94it/s]\n",
      " 80%|\u001b[34m████████  \u001b[0m| 8/10 [00:02<00:00,  4.66it/s]\n",
      "100%|\u001b[34m██████████\u001b[0m| 10/10 [00:02<00:00,  4.56it/s]\n",
      " 90%|\u001b[34m█████████ \u001b[0m| 9/10 [00:02<00:00,  4.90it/s]\n",
      "100%|\u001b[34m██████████\u001b[0m| 10/10 [00:02<00:00,  4.21it/s]\n",
      " 10%|\u001b[34m█         \u001b[0m| 1/10 [00:00<00:01,  5.15it/s]\n",
      " 20%|\u001b[34m██        \u001b[0m| 2/10 [00:00<00:01,  5.42it/s]\n",
      " 10%|\u001b[34m█         \u001b[0m| 1/10 [00:00<00:01,  5.33it/s]\n",
      " 30%|\u001b[34m███       \u001b[0m| 3/10 [00:00<00:01,  4.52it/s]\n",
      "\u001b[36m(DefaultActor pid=28962)\u001b[0m /tmp/ipykernel_28156/3044491048.py:10: FutureWarning: You are using `torch.load` with `weights_only=False` (the current default value), which uses the default pickle module implicitly. It is possible to construct malicious pickle data which will execute arbitrary code during unpickling (See https://github.com/pytorch/pytorch/blob/main/SECURITY.md#untrusted-models for more details). In a future release, the default value for `weights_only` will be flipped to `True`. This limits the functions that could be executed during unpickling. Arbitrary objects will no longer be allowed to be loaded via this mode unless they are explicitly allowlisted by the user via `torch.serialization.add_safe_globals`. We recommend you start setting `weights_only=True` for any use case where you don't have full control of the loaded file. Please open an issue on GitHub for any issues related to this experimental feature.\u001b[32m [repeated 12x across cluster]\u001b[0m\n",
      "  0%|\u001b[34m          \u001b[0m| 0/10 [00:00<?, ?it/s]\u001b[32m [repeated 4x across cluster]\u001b[0m\n",
      " 20%|\u001b[34m██        \u001b[0m| 2/10 [00:00<00:01,  4.74it/s]\n",
      " 40%|\u001b[34m████      \u001b[0m| 4/10 [00:00<00:01,  4.93it/s]\n",
      " 30%|\u001b[34m███       \u001b[0m| 3/10 [00:00<00:01,  5.03it/s]\n",
      " 50%|\u001b[34m█████     \u001b[0m| 5/10 [00:00<00:00,  5.17it/s]\n",
      " 40%|\u001b[34m████      \u001b[0m| 4/10 [00:00<00:01,  5.11it/s]\n",
      " 60%|\u001b[34m██████    \u001b[0m| 6/10 [00:01<00:00,  5.20it/s]\n",
      " 50%|\u001b[34m█████     \u001b[0m| 5/10 [00:00<00:00,  5.30it/s]\n",
      " 70%|\u001b[34m███████   \u001b[0m| 7/10 [00:01<00:00,  5.30it/s]\n",
      " 60%|\u001b[34m██████    \u001b[0m| 6/10 [00:01<00:00,  5.33it/s]\n",
      " 80%|\u001b[34m████████  \u001b[0m| 8/10 [00:01<00:00,  5.38it/s]\n",
      " 70%|\u001b[34m███████   \u001b[0m| 7/10 [00:01<00:00,  5.49it/s]\n",
      " 90%|\u001b[34m█████████ \u001b[0m| 9/10 [00:01<00:00,  5.41it/s]\n",
      " 80%|\u001b[34m████████  \u001b[0m| 8/10 [00:01<00:00,  5.45it/s]\n",
      "100%|\u001b[34m██████████\u001b[0m| 10/10 [00:01<00:00,  5.26it/s]\n",
      " 90%|\u001b[34m█████████ \u001b[0m| 9/10 [00:01<00:00,  5.43it/s]\n"
     ]
    },
    {
     "name": "stdout",
     "output_type": "stream",
     "text": [
      "\u001b[36m(DefaultActor pid=28962)\u001b[0m  To get the checkpoint\u001b[32m [repeated 5x across cluster]\u001b[0m\n",
      "\u001b[36m(DefaultActor pid=28962)\u001b[0m [Client 2, round 27] fit, config: {'learning_rate': 0.003, 'batch_size': '16', 'server_round': 27, 'local_epochs': 10}\u001b[32m [repeated 4x across cluster]\u001b[0m\n",
      "\u001b[36m(DefaultActor pid=28962)\u001b[0m Updated model\u001b[32m [repeated 5x across cluster]\u001b[0m\n",
      "\u001b[36m(DefaultActor pid=28961)\u001b[0m \tTrain Epoch: 10 \tTrain_loss: 0.1690 | Train_acc: 94.2708 % | Validation_loss: 2.1500 | Validation_acc: 62.5000 %\u001b[32m [repeated 38x across cluster]\u001b[0m\n",
      "\u001b[36m(DefaultActor pid=28962)\u001b[0m [Client 2] evaluate, config: {}\n"
     ]
    },
    {
     "name": "stderr",
     "output_type": "stream",
     "text": [
      "100%|\u001b[34m██████████\u001b[0m| 10/10 [00:01<00:00,  5.32it/s]\n",
      "DEBUG flwr 2024-08-31 21:51:47,591 | server.py:236 | fit_round 27 received 4 results and 0 failures\n",
      "INFO flwr 2024-08-31 21:51:47,630 | server.py:125 | fit progress: (27, 1.6953219931859236, {'accuracy': 70.67307692307693}, 169.9191348999998)\n",
      "DEBUG flwr 2024-08-31 21:51:47,631 | server.py:173 | evaluate_round 27: strategy sampled 4 clients (out of 4)\n"
     ]
    },
    {
     "name": "stdout",
     "output_type": "stream",
     "text": [
      "Saving round 27 aggregated_parameters...\n",
      "Updated model\n",
      "Server-side evaluation loss 1.6953219931859236 / accuracy 70.67307692307693\n",
      "\u001b[36m(DefaultActor pid=28961)\u001b[0m [Client 3] evaluate, config: {}\n"
     ]
    },
    {
     "name": "stderr",
     "output_type": "stream",
     "text": [
      "\u001b[36m(DefaultActor pid=28961)\u001b[0m /opt/conda/envs/fed/lib/python3.10/site-packages/sklearn/metrics/_ranking.py:1183: UndefinedMetricWarning: No positive samples in y_true, true positive value should be meaningless\n",
      "\u001b[36m(DefaultActor pid=28961)\u001b[0m   warnings.warn(\n",
      "\u001b[36m(DefaultActor pid=28962)\u001b[0m   return torch.load(io.BytesIO(b))\n",
      "\u001b[36m(DefaultActor pid=28962)\u001b[0m   return torch.load(io.BytesIO(b))\n",
      "DEBUG flwr 2024-08-31 21:51:49,031 | server.py:187 | evaluate_round 27 received 4 results and 0 failures\n",
      "DEBUG flwr 2024-08-31 21:51:49,032 | server.py:222 | fit_round 28: strategy sampled 4 clients (out of 4)\n"
     ]
    },
    {
     "name": "stdout",
     "output_type": "stream",
     "text": [
      "\u001b[36m(DefaultActor pid=28962)\u001b[0m save graph in  results/FL/\u001b[32m [repeated 4x across cluster]\u001b[0m\n"
     ]
    },
    {
     "name": "stderr",
     "output_type": "stream",
     "text": [
      " 10%|\u001b[34m█         \u001b[0m| 1/10 [00:00<00:01,  5.72it/s]\n",
      " 10%|\u001b[34m█         \u001b[0m| 1/10 [00:00<00:01,  5.49it/s]\n",
      " 20%|\u001b[34m██        \u001b[0m| 2/10 [00:00<00:01,  5.60it/s]\n",
      " 20%|\u001b[34m██        \u001b[0m| 2/10 [00:00<00:01,  5.34it/s]\n",
      " 30%|\u001b[34m███       \u001b[0m| 3/10 [00:00<00:01,  5.57it/s]\n",
      " 30%|\u001b[34m███       \u001b[0m| 3/10 [00:00<00:01,  5.24it/s]\n",
      " 40%|\u001b[34m████      \u001b[0m| 4/10 [00:00<00:01,  5.22it/s]\n",
      " 40%|\u001b[34m████      \u001b[0m| 4/10 [00:00<00:01,  5.29it/s]\n",
      " 50%|\u001b[34m█████     \u001b[0m| 5/10 [00:00<00:01,  4.94it/s]\n",
      " 50%|\u001b[34m█████     \u001b[0m| 5/10 [00:00<00:00,  5.01it/s]\n",
      " 60%|\u001b[34m██████    \u001b[0m| 6/10 [00:01<00:00,  4.86it/s]\n",
      " 60%|\u001b[34m██████    \u001b[0m| 6/10 [00:01<00:00,  4.67it/s]\n",
      " 70%|\u001b[34m███████   \u001b[0m| 7/10 [00:01<00:00,  4.61it/s]\n",
      " 70%|\u001b[34m███████   \u001b[0m| 7/10 [00:01<00:00,  4.78it/s]\n",
      " 80%|\u001b[34m████████  \u001b[0m| 8/10 [00:01<00:00,  4.78it/s]\n",
      " 80%|\u001b[34m████████  \u001b[0m| 8/10 [00:01<00:00,  5.01it/s]\n",
      " 90%|\u001b[34m█████████ \u001b[0m| 9/10 [00:01<00:00,  4.90it/s]\n",
      " 90%|\u001b[34m█████████ \u001b[0m| 9/10 [00:01<00:00,  5.12it/s]\n",
      "100%|\u001b[34m██████████\u001b[0m| 10/10 [00:01<00:00,  5.04it/s]\n",
      "\u001b[36m(DefaultActor pid=28962)\u001b[0m /tmp/ipykernel_28156/3044491048.py:10: FutureWarning: You are using `torch.load` with `weights_only=False` (the current default value), which uses the default pickle module implicitly. It is possible to construct malicious pickle data which will execute arbitrary code during unpickling (See https://github.com/pytorch/pytorch/blob/main/SECURITY.md#untrusted-models for more details). In a future release, the default value for `weights_only` will be flipped to `True`. This limits the functions that could be executed during unpickling. Arbitrary objects will no longer be allowed to be loaded via this mode unless they are explicitly allowlisted by the user via `torch.serialization.add_safe_globals`. We recommend you start setting `weights_only=True` for any use case where you don't have full control of the loaded file. Please open an issue on GitHub for any issues related to this experimental feature.\u001b[32m [repeated 10x across cluster]\u001b[0m\n",
      "  0%|\u001b[34m          \u001b[0m| 0/10 [00:00<?, ?it/s]\u001b[32m [repeated 2x across cluster]\u001b[0m\n",
      "100%|\u001b[34m██████████\u001b[0m| 10/10 [00:01<00:00,  5.09it/s]\n",
      " 10%|\u001b[34m█         \u001b[0m| 1/10 [00:00<00:01,  5.16it/s]\n",
      " 10%|\u001b[34m█         \u001b[0m| 1/10 [00:00<00:01,  5.64it/s]\n",
      " 20%|\u001b[34m██        \u001b[0m| 2/10 [00:00<00:01,  5.46it/s]\n",
      " 20%|\u001b[34m██        \u001b[0m| 2/10 [00:00<00:01,  5.47it/s]\n",
      " 30%|\u001b[34m███       \u001b[0m| 3/10 [00:00<00:01,  5.50it/s]\n",
      " 30%|\u001b[34m███       \u001b[0m| 3/10 [00:00<00:01,  5.35it/s]\n",
      " 40%|\u001b[34m████      \u001b[0m| 4/10 [00:00<00:01,  5.55it/s]\n",
      " 40%|\u001b[34m████      \u001b[0m| 4/10 [00:00<00:01,  5.11it/s]\n"
     ]
    },
    {
     "name": "stdout",
     "output_type": "stream",
     "text": [
      "\u001b[36m(DefaultActor pid=28962)\u001b[0m  To get the checkpoint\u001b[32m [repeated 8x across cluster]\u001b[0m\n",
      "\u001b[36m(DefaultActor pid=28962)\u001b[0m [Client 1, round 28] fit, config: {'learning_rate': 0.003, 'batch_size': '16', 'server_round': 28, 'local_epochs': 10}\u001b[32m [repeated 4x across cluster]\u001b[0m\n",
      "\u001b[36m(DefaultActor pid=28962)\u001b[0m Updated model\u001b[32m [repeated 8x across cluster]\u001b[0m\n",
      "\u001b[36m(DefaultActor pid=28962)\u001b[0m \tTrain Epoch: 4 \tTrain_loss: 0.3708 | Train_acc: 86.4583 % | Validation_loss: 0.7601 | Validation_acc: 75.0000 %\u001b[32m [repeated 30x across cluster]\u001b[0m\n"
     ]
    },
    {
     "name": "stderr",
     "output_type": "stream",
     "text": [
      " 50%|\u001b[34m█████     \u001b[0m| 5/10 [00:00<00:01,  4.93it/s]\n",
      " 50%|\u001b[34m█████     \u001b[0m| 5/10 [00:00<00:00,  5.01it/s]\n",
      " 60%|\u001b[34m██████    \u001b[0m| 6/10 [00:01<00:00,  5.05it/s]\n",
      " 60%|\u001b[34m██████    \u001b[0m| 6/10 [00:01<00:00,  5.00it/s]\n",
      " 70%|\u001b[34m███████   \u001b[0m| 7/10 [00:01<00:00,  5.20it/s]\n"
     ]
    },
    {
     "name": "stdout",
     "output_type": "stream",
     "text": [
      "\u001b[36m(DefaultActor pid=28961)\u001b[0m [Client 2] evaluate, config: {}\u001b[32m [repeated 3x across cluster]\u001b[0m\n"
     ]
    },
    {
     "name": "stderr",
     "output_type": "stream",
     "text": [
      " 70%|\u001b[34m███████   \u001b[0m| 7/10 [00:01<00:00,  5.12it/s]\n",
      " 80%|\u001b[34m████████  \u001b[0m| 8/10 [00:01<00:00,  5.30it/s]\n",
      " 80%|\u001b[34m████████  \u001b[0m| 8/10 [00:01<00:00,  5.27it/s]\n",
      " 90%|\u001b[34m█████████ \u001b[0m| 9/10 [00:01<00:00,  5.31it/s]\n",
      " 90%|\u001b[34m█████████ \u001b[0m| 9/10 [00:01<00:00,  5.26it/s]\n",
      "100%|\u001b[34m██████████\u001b[0m| 10/10 [00:01<00:00,  5.29it/s]\n",
      "\u001b[36m(DefaultActor pid=28962)\u001b[0m   return torch.load(io.BytesIO(b))\u001b[32m [repeated 3x across cluster]\u001b[0m\n",
      "100%|\u001b[34m██████████\u001b[0m| 10/10 [00:01<00:00,  5.26it/s]\n",
      "DEBUG flwr 2024-08-31 21:51:53,574 | server.py:236 | fit_round 28 received 4 results and 0 failures\n",
      "INFO flwr 2024-08-31 21:51:53,623 | server.py:125 | fit progress: (28, 1.6392201712498298, {'accuracy': 73.07692307692307}, 175.91241186900015)\n",
      "DEBUG flwr 2024-08-31 21:51:53,624 | server.py:173 | evaluate_round 28: strategy sampled 4 clients (out of 4)\n"
     ]
    },
    {
     "name": "stdout",
     "output_type": "stream",
     "text": [
      "Saving round 28 aggregated_parameters...\n",
      "Updated model\n",
      "Server-side evaluation loss 1.6392201712498298 / accuracy 73.07692307692307\n"
     ]
    },
    {
     "name": "stderr",
     "output_type": "stream",
     "text": [
      "\u001b[36m(DefaultActor pid=28962)\u001b[0m /opt/conda/envs/fed/lib/python3.10/site-packages/sklearn/metrics/_ranking.py:1183: UndefinedMetricWarning: No positive samples in y_true, true positive value should be meaningless\n",
      "\u001b[36m(DefaultActor pid=28962)\u001b[0m   warnings.warn(\n"
     ]
    },
    {
     "name": "stdout",
     "output_type": "stream",
     "text": [
      "\u001b[36m(DefaultActor pid=28962)\u001b[0m save graph in  results/FL/\u001b[32m [repeated 4x across cluster]\u001b[0m\n"
     ]
    },
    {
     "name": "stderr",
     "output_type": "stream",
     "text": [
      "DEBUG flwr 2024-08-31 21:51:55,096 | server.py:187 | evaluate_round 28 received 4 results and 0 failures\n",
      "DEBUG flwr 2024-08-31 21:51:55,097 | server.py:222 | fit_round 29: strategy sampled 4 clients (out of 4)\n",
      " 10%|\u001b[34m█         \u001b[0m| 1/10 [00:00<00:01,  5.21it/s]\n",
      " 10%|\u001b[34m█         \u001b[0m| 1/10 [00:00<00:01,  5.45it/s]\n",
      " 20%|\u001b[34m██        \u001b[0m| 2/10 [00:00<00:01,  4.55it/s]\n",
      " 20%|\u001b[34m██        \u001b[0m| 2/10 [00:00<00:01,  4.64it/s]\n",
      " 30%|\u001b[34m███       \u001b[0m| 3/10 [00:00<00:01,  4.86it/s]\n",
      " 30%|\u001b[34m███       \u001b[0m| 3/10 [00:00<00:01,  4.93it/s]\n",
      " 40%|\u001b[34m████      \u001b[0m| 4/10 [00:00<00:01,  5.05it/s]\n",
      " 40%|\u001b[34m████      \u001b[0m| 4/10 [00:00<00:01,  5.03it/s]\n",
      " 50%|\u001b[34m█████     \u001b[0m| 5/10 [00:00<00:00,  5.12it/s]\n",
      "\u001b[36m(DefaultActor pid=28962)\u001b[0m /tmp/ipykernel_28156/3044491048.py:10: FutureWarning: You are using `torch.load` with `weights_only=False` (the current default value), which uses the default pickle module implicitly. It is possible to construct malicious pickle data which will execute arbitrary code during unpickling (See https://github.com/pytorch/pytorch/blob/main/SECURITY.md#untrusted-models for more details). In a future release, the default value for `weights_only` will be flipped to `True`. This limits the functions that could be executed during unpickling. Arbitrary objects will no longer be allowed to be loaded via this mode unless they are explicitly allowlisted by the user via `torch.serialization.add_safe_globals`. We recommend you start setting `weights_only=True` for any use case where you don't have full control of the loaded file. Please open an issue on GitHub for any issues related to this experimental feature.\u001b[32m [repeated 12x across cluster]\u001b[0m\n",
      "  0%|\u001b[34m          \u001b[0m| 0/10 [00:00<?, ?it/s]\u001b[32m [repeated 4x across cluster]\u001b[0m\n",
      " 50%|\u001b[34m█████     \u001b[0m| 5/10 [00:00<00:00,  5.11it/s]\n",
      " 60%|\u001b[34m██████    \u001b[0m| 6/10 [00:01<00:00,  5.19it/s]\n",
      " 60%|\u001b[34m██████    \u001b[0m| 6/10 [00:01<00:00,  5.19it/s]\n",
      " 70%|\u001b[34m███████   \u001b[0m| 7/10 [00:01<00:00,  4.70it/s]\n",
      " 70%|\u001b[34m███████   \u001b[0m| 7/10 [00:01<00:00,  4.93it/s]\n",
      " 80%|\u001b[34m████████  \u001b[0m| 8/10 [00:01<00:00,  4.95it/s]\n",
      " 80%|\u001b[34m████████  \u001b[0m| 8/10 [00:01<00:00,  5.01it/s]\n",
      " 90%|\u001b[34m█████████ \u001b[0m| 9/10 [00:01<00:00,  5.14it/s]\n",
      " 90%|\u001b[34m█████████ \u001b[0m| 9/10 [00:01<00:00,  5.13it/s]\n",
      "100%|\u001b[34m██████████\u001b[0m| 10/10 [00:01<00:00,  5.07it/s]\n",
      "100%|\u001b[34m██████████\u001b[0m| 10/10 [00:01<00:00,  5.09it/s]\n"
     ]
    },
    {
     "name": "stdout",
     "output_type": "stream",
     "text": [
      "\u001b[36m(DefaultActor pid=28962)\u001b[0m  To get the checkpoint\u001b[32m [repeated 7x across cluster]\u001b[0m\n",
      "\u001b[36m(DefaultActor pid=28962)\u001b[0m [Client 3, round 29] fit, config: {'learning_rate': 0.003, 'batch_size': '16', 'server_round': 29, 'local_epochs': 10}\u001b[32m [repeated 3x across cluster]\u001b[0m\n",
      "\u001b[36m(DefaultActor pid=28962)\u001b[0m Updated model\u001b[32m [repeated 7x across cluster]\u001b[0m\n",
      "\u001b[36m(DefaultActor pid=28962)\u001b[0m \tTrain Epoch: 10 \tTrain_loss: 0.2047 | Train_acc: 93.2292 % | Validation_loss: 1.3026 | Validation_acc: 62.5000 %\u001b[32m [repeated 32x across cluster]\u001b[0m\n"
     ]
    },
    {
     "name": "stderr",
     "output_type": "stream",
     "text": [
      " 10%|\u001b[34m█         \u001b[0m| 1/10 [00:00<00:01,  5.30it/s]\n",
      " 10%|\u001b[34m█         \u001b[0m| 1/10 [00:00<00:01,  5.45it/s]\n",
      " 20%|\u001b[34m██        \u001b[0m| 2/10 [00:00<00:01,  5.39it/s]\n",
      " 20%|\u001b[34m██        \u001b[0m| 2/10 [00:00<00:01,  5.43it/s]\n"
     ]
    },
    {
     "name": "stdout",
     "output_type": "stream",
     "text": [
      "\u001b[36m(DefaultActor pid=28961)\u001b[0m [Client 2] evaluate, config: {}\u001b[32m [repeated 4x across cluster]\u001b[0m\n"
     ]
    },
    {
     "name": "stderr",
     "output_type": "stream",
     "text": [
      " 30%|\u001b[34m███       \u001b[0m| 3/10 [00:00<00:01,  5.31it/s]\n",
      " 30%|\u001b[34m███       \u001b[0m| 3/10 [00:00<00:01,  5.43it/s]\n",
      " 40%|\u001b[34m████      \u001b[0m| 4/10 [00:00<00:01,  5.49it/s]\n",
      " 40%|\u001b[34m████      \u001b[0m| 4/10 [00:00<00:01,  5.24it/s]\n",
      " 50%|\u001b[34m█████     \u001b[0m| 5/10 [00:00<00:00,  5.58it/s]\n",
      "\u001b[36m(DefaultActor pid=28962)\u001b[0m   return torch.load(io.BytesIO(b))\u001b[32m [repeated 4x across cluster]\u001b[0m\n",
      " 50%|\u001b[34m█████     \u001b[0m| 5/10 [00:00<00:00,  5.18it/s]\n",
      " 60%|\u001b[34m██████    \u001b[0m| 6/10 [00:01<00:00,  5.27it/s]\n",
      " 60%|\u001b[34m██████    \u001b[0m| 6/10 [00:01<00:00,  4.46it/s]\n",
      " 70%|\u001b[34m███████   \u001b[0m| 7/10 [00:01<00:00,  4.90it/s]\n",
      " 70%|\u001b[34m███████   \u001b[0m| 7/10 [00:01<00:00,  4.65it/s]\n",
      " 80%|\u001b[34m████████  \u001b[0m| 8/10 [00:01<00:00,  5.10it/s]\n",
      " 80%|\u001b[34m████████  \u001b[0m| 8/10 [00:01<00:00,  4.47it/s]\n",
      " 90%|\u001b[34m█████████ \u001b[0m| 9/10 [00:01<00:00,  4.80it/s]\n",
      " 90%|\u001b[34m█████████ \u001b[0m| 9/10 [00:01<00:00,  4.73it/s]\n",
      "100%|\u001b[34m██████████\u001b[0m| 10/10 [00:01<00:00,  5.05it/s]\n",
      "100%|\u001b[34m██████████\u001b[0m| 10/10 [00:02<00:00,  4.82it/s]\n",
      "DEBUG flwr 2024-08-31 21:51:59,828 | server.py:236 | fit_round 29 received 4 results and 0 failures\n",
      "INFO flwr 2024-08-31 21:51:59,866 | server.py:125 | fit progress: (29, 1.9312533231881948, {'accuracy': 74.03846153846155}, 182.15573622500006)\n",
      "DEBUG flwr 2024-08-31 21:51:59,867 | server.py:173 | evaluate_round 29: strategy sampled 4 clients (out of 4)\n"
     ]
    },
    {
     "name": "stdout",
     "output_type": "stream",
     "text": [
      "Saving round 29 aggregated_parameters...\n",
      "Updated model\n",
      "Server-side evaluation loss 1.9312533231881948 / accuracy 74.03846153846155\n",
      "\u001b[36m(DefaultActor pid=28962)\u001b[0m save graph in  results/FL/\u001b[32m [repeated 4x across cluster]\u001b[0m\n"
     ]
    },
    {
     "name": "stderr",
     "output_type": "stream",
     "text": [
      "\u001b[36m(DefaultActor pid=28961)\u001b[0m /opt/conda/envs/fed/lib/python3.10/site-packages/sklearn/metrics/_ranking.py:1183: UndefinedMetricWarning: No positive samples in y_true, true positive value should be meaningless\n",
      "\u001b[36m(DefaultActor pid=28961)\u001b[0m   warnings.warn(\n",
      "\u001b[36m(DefaultActor pid=28962)\u001b[0m /tmp/ipykernel_28156/3044491048.py:10: FutureWarning: You are using `torch.load` with `weights_only=False` (the current default value), which uses the default pickle module implicitly. It is possible to construct malicious pickle data which will execute arbitrary code during unpickling (See https://github.com/pytorch/pytorch/blob/main/SECURITY.md#untrusted-models for more details). In a future release, the default value for `weights_only` will be flipped to `True`. This limits the functions that could be executed during unpickling. Arbitrary objects will no longer be allowed to be loaded via this mode unless they are explicitly allowlisted by the user via `torch.serialization.add_safe_globals`. We recommend you start setting `weights_only=True` for any use case where you don't have full control of the loaded file. Please open an issue on GitHub for any issues related to this experimental feature.\u001b[32m [repeated 8x across cluster]\u001b[0m\n",
      "  0%|\u001b[34m          \u001b[0m| 0/10 [00:00<?, ?it/s]\u001b[32m [repeated 2x across cluster]\u001b[0m\n",
      "DEBUG flwr 2024-08-31 21:52:01,414 | server.py:187 | evaluate_round 29 received 4 results and 0 failures\n",
      "DEBUG flwr 2024-08-31 21:52:01,415 | server.py:222 | fit_round 30: strategy sampled 4 clients (out of 4)\n",
      " 10%|\u001b[34m█         \u001b[0m| 1/10 [00:00<00:01,  5.45it/s]\n",
      " 10%|\u001b[34m█         \u001b[0m| 1/10 [00:00<00:01,  4.94it/s]\n",
      " 20%|\u001b[34m██        \u001b[0m| 2/10 [00:00<00:01,  5.38it/s]\n",
      " 20%|\u001b[34m██        \u001b[0m| 2/10 [00:00<00:01,  5.32it/s]\n",
      " 30%|\u001b[34m███       \u001b[0m| 3/10 [00:00<00:01,  5.47it/s]\n",
      " 30%|\u001b[34m███       \u001b[0m| 3/10 [00:00<00:01,  5.33it/s]\n",
      " 40%|\u001b[34m████      \u001b[0m| 4/10 [00:00<00:01,  5.55it/s]\n",
      " 40%|\u001b[34m████      \u001b[0m| 4/10 [00:00<00:01,  5.30it/s]\n",
      " 50%|\u001b[34m█████     \u001b[0m| 5/10 [00:00<00:00,  5.59it/s]\n",
      " 50%|\u001b[34m█████     \u001b[0m| 5/10 [00:00<00:00,  5.28it/s]\n",
      " 60%|\u001b[34m██████    \u001b[0m| 6/10 [00:01<00:00,  5.52it/s]\n"
     ]
    },
    {
     "name": "stdout",
     "output_type": "stream",
     "text": [
      "\u001b[36m(DefaultActor pid=28962)\u001b[0m  To get the checkpoint\u001b[32m [repeated 7x across cluster]\u001b[0m\n",
      "\u001b[36m(DefaultActor pid=28962)\u001b[0m [Client 3, round 30] fit, config: {'learning_rate': 0.003, 'batch_size': '16', 'server_round': 30, 'local_epochs': 10}\u001b[32m [repeated 3x across cluster]\u001b[0m\n",
      "\u001b[36m(DefaultActor pid=28962)\u001b[0m Updated model\u001b[32m [repeated 7x across cluster]\u001b[0m\n",
      "\u001b[36m(DefaultActor pid=28962)\u001b[0m \tTrain Epoch: 5 \tTrain_loss: 0.1613 | Train_acc: 93.2292 % | Validation_loss: 1.3477 | Validation_acc: 68.7500 %\u001b[32m [repeated 30x across cluster]\u001b[0m\n"
     ]
    },
    {
     "name": "stderr",
     "output_type": "stream",
     "text": [
      " 60%|\u001b[34m██████    \u001b[0m| 6/10 [00:01<00:00,  5.37it/s]\n",
      " 70%|\u001b[34m███████   \u001b[0m| 7/10 [00:01<00:00,  5.48it/s]\n",
      " 70%|\u001b[34m███████   \u001b[0m| 7/10 [00:01<00:00,  5.12it/s]\n",
      " 80%|\u001b[34m████████  \u001b[0m| 8/10 [00:01<00:00,  4.91it/s]\n"
     ]
    },
    {
     "name": "stdout",
     "output_type": "stream",
     "text": [
      "\u001b[36m(DefaultActor pid=28962)\u001b[0m [Client 0] evaluate, config: {}\u001b[32m [repeated 4x across cluster]\u001b[0m\n"
     ]
    },
    {
     "name": "stderr",
     "output_type": "stream",
     "text": [
      " 80%|\u001b[34m████████  \u001b[0m| 8/10 [00:01<00:00,  4.97it/s]\n",
      " 90%|\u001b[34m█████████ \u001b[0m| 9/10 [00:01<00:00,  5.09it/s]\n",
      " 90%|\u001b[34m█████████ \u001b[0m| 9/10 [00:01<00:00,  5.06it/s]\n",
      "100%|\u001b[34m██████████\u001b[0m| 10/10 [00:01<00:00,  5.26it/s]\n",
      "\u001b[36m(DefaultActor pid=28962)\u001b[0m   return torch.load(io.BytesIO(b))\u001b[32m [repeated 4x across cluster]\u001b[0m\n",
      "100%|\u001b[34m██████████\u001b[0m| 10/10 [00:01<00:00,  5.19it/s]\n",
      " 10%|\u001b[34m█         \u001b[0m| 1/10 [00:00<00:01,  4.51it/s]\n",
      " 10%|\u001b[34m█         \u001b[0m| 1/10 [00:00<00:02,  3.65it/s]\n",
      " 20%|\u001b[34m██        \u001b[0m| 2/10 [00:00<00:02,  3.45it/s]\n",
      " 20%|\u001b[34m██        \u001b[0m| 2/10 [00:00<00:02,  3.38it/s]\n",
      " 30%|\u001b[34m███       \u001b[0m| 3/10 [00:00<00:01,  4.10it/s]\n",
      " 30%|\u001b[34m███       \u001b[0m| 3/10 [00:00<00:01,  4.12it/s]\n",
      " 40%|\u001b[34m████      \u001b[0m| 4/10 [00:00<00:01,  4.54it/s]\n",
      " 40%|\u001b[34m████      \u001b[0m| 4/10 [00:00<00:01,  4.55it/s]\n",
      " 50%|\u001b[34m█████     \u001b[0m| 5/10 [00:01<00:01,  4.77it/s]\n",
      " 60%|\u001b[34m██████    \u001b[0m| 6/10 [00:01<00:00,  4.45it/s]\n",
      " 50%|\u001b[34m█████     \u001b[0m| 5/10 [00:01<00:01,  4.17it/s]\n"
     ]
    },
    {
     "name": "stdout",
     "output_type": "stream",
     "text": [
      "\u001b[36m(DefaultActor pid=28962)\u001b[0m save graph in  results/FL/\u001b[32m [repeated 2x across cluster]\u001b[0m\n"
     ]
    },
    {
     "name": "stderr",
     "output_type": "stream",
     "text": [
      " 70%|\u001b[34m███████   \u001b[0m| 7/10 [00:01<00:00,  4.66it/s]\n",
      " 60%|\u001b[34m██████    \u001b[0m| 6/10 [00:01<00:00,  4.25it/s]\n",
      " 80%|\u001b[34m████████  \u001b[0m| 8/10 [00:01<00:00,  4.72it/s]\n",
      " 70%|\u001b[34m███████   \u001b[0m| 7/10 [00:01<00:00,  4.45it/s]\n",
      " 90%|\u001b[34m█████████ \u001b[0m| 9/10 [00:01<00:00,  4.82it/s]\n",
      " 80%|\u001b[34m████████  \u001b[0m| 8/10 [00:01<00:00,  4.71it/s]\n",
      "100%|\u001b[34m██████████\u001b[0m| 10/10 [00:02<00:00,  4.54it/s]\n",
      " 90%|\u001b[34m█████████ \u001b[0m| 9/10 [00:02<00:00,  4.54it/s]\n",
      "100%|\u001b[34m██████████\u001b[0m| 10/10 [00:02<00:00,  4.43it/s]\n",
      "DEBUG flwr 2024-08-31 21:52:06,218 | server.py:236 | fit_round 30 received 4 results and 0 failures\n",
      "INFO flwr 2024-08-31 21:52:06,256 | server.py:125 | fit progress: (30, 1.8054241492198064, {'accuracy': 70.1923076923077}, 188.54504790300007)\n",
      "DEBUG flwr 2024-08-31 21:52:06,256 | server.py:173 | evaluate_round 30: strategy sampled 4 clients (out of 4)\n"
     ]
    },
    {
     "name": "stdout",
     "output_type": "stream",
     "text": [
      "Saving round 30 aggregated_parameters...\n",
      "Updated model\n",
      "Server-side evaluation loss 1.8054241492198064 / accuracy 70.1923076923077\n"
     ]
    },
    {
     "name": "stderr",
     "output_type": "stream",
     "text": [
      "\u001b[36m(DefaultActor pid=28961)\u001b[0m /tmp/ipykernel_28156/3044491048.py:10: FutureWarning: You are using `torch.load` with `weights_only=False` (the current default value), which uses the default pickle module implicitly. It is possible to construct malicious pickle data which will execute arbitrary code during unpickling (See https://github.com/pytorch/pytorch/blob/main/SECURITY.md#untrusted-models for more details). In a future release, the default value for `weights_only` will be flipped to `True`. This limits the functions that could be executed during unpickling. Arbitrary objects will no longer be allowed to be loaded via this mode unless they are explicitly allowlisted by the user via `torch.serialization.add_safe_globals`. We recommend you start setting `weights_only=True` for any use case where you don't have full control of the loaded file. Please open an issue on GitHub for any issues related to this experimental feature.\u001b[32m [repeated 10x across cluster]\u001b[0m\n",
      "  0%|\u001b[34m          \u001b[0m| 0/10 [00:00<?, ?it/s]\u001b[32m [repeated 4x across cluster]\u001b[0m\n",
      "\u001b[36m(DefaultActor pid=28962)\u001b[0m /opt/conda/envs/fed/lib/python3.10/site-packages/sklearn/metrics/_ranking.py:1183: UndefinedMetricWarning: No positive samples in y_true, true positive value should be meaningless\n",
      "\u001b[36m(DefaultActor pid=28962)\u001b[0m   warnings.warn(\n",
      "DEBUG flwr 2024-08-31 21:52:07,786 | server.py:187 | evaluate_round 30 received 4 results and 0 failures\n",
      "DEBUG flwr 2024-08-31 21:52:07,787 | server.py:222 | fit_round 31: strategy sampled 4 clients (out of 4)\n"
     ]
    },
    {
     "name": "stdout",
     "output_type": "stream",
     "text": [
      "\u001b[36m(DefaultActor pid=28961)\u001b[0m  To get the checkpoint\u001b[32m [repeated 7x across cluster]\u001b[0m\n",
      "\u001b[36m(DefaultActor pid=28962)\u001b[0m [Client 0, round 30] fit, config: {'learning_rate': 0.003, 'batch_size': '16', 'server_round': 30, 'local_epochs': 10}\u001b[32m [repeated 2x across cluster]\u001b[0m\n",
      "\u001b[36m(DefaultActor pid=28962)\u001b[0m Updated model\u001b[32m [repeated 6x across cluster]\u001b[0m\n",
      "\u001b[36m(DefaultActor pid=28962)\u001b[0m \tTrain Epoch: 10 \tTrain_loss: 0.4902 | Train_acc: 81.2500 % | Validation_loss: 1.4687 | Validation_acc: 59.3750 %\u001b[32m [repeated 30x across cluster]\u001b[0m\n",
      "\u001b[36m(DefaultActor pid=28962)\u001b[0m [Client 3] evaluate, config: {}\u001b[32m [repeated 4x across cluster]\u001b[0m\n"
     ]
    },
    {
     "name": "stderr",
     "output_type": "stream",
     "text": [
      " 10%|\u001b[34m█         \u001b[0m| 1/10 [00:00<00:01,  5.63it/s]\n",
      " 10%|\u001b[34m█         \u001b[0m| 1/10 [00:00<00:01,  5.69it/s]\n",
      " 20%|\u001b[34m██        \u001b[0m| 2/10 [00:00<00:01,  5.42it/s]\n",
      " 20%|\u001b[34m██        \u001b[0m| 2/10 [00:00<00:01,  5.61it/s]\n",
      " 30%|\u001b[34m███       \u001b[0m| 3/10 [00:00<00:01,  5.39it/s]\n",
      "\u001b[36m(DefaultActor pid=28962)\u001b[0m   return torch.load(io.BytesIO(b))\u001b[32m [repeated 4x across cluster]\u001b[0m\n",
      " 30%|\u001b[34m███       \u001b[0m| 3/10 [00:00<00:01,  5.60it/s]\n",
      " 40%|\u001b[34m████      \u001b[0m| 4/10 [00:00<00:01,  5.56it/s]\n",
      " 40%|\u001b[34m████      \u001b[0m| 4/10 [00:00<00:01,  5.34it/s]\n",
      " 50%|\u001b[34m█████     \u001b[0m| 5/10 [00:00<00:00,  5.39it/s]\n",
      " 50%|\u001b[34m█████     \u001b[0m| 5/10 [00:00<00:00,  5.36it/s]\n",
      " 60%|\u001b[34m██████    \u001b[0m| 6/10 [00:01<00:00,  5.35it/s]\n",
      " 60%|\u001b[34m██████    \u001b[0m| 6/10 [00:01<00:00,  4.87it/s]\n",
      " 70%|\u001b[34m███████   \u001b[0m| 7/10 [00:01<00:00,  4.56it/s]\n",
      " 70%|\u001b[34m███████   \u001b[0m| 7/10 [00:01<00:00,  4.66it/s]\n",
      " 80%|\u001b[34m████████  \u001b[0m| 8/10 [00:01<00:00,  4.53it/s]\n",
      " 80%|\u001b[34m████████  \u001b[0m| 8/10 [00:01<00:00,  4.58it/s]\n",
      " 90%|\u001b[34m█████████ \u001b[0m| 9/10 [00:01<00:00,  4.75it/s]\n",
      " 90%|\u001b[34m█████████ \u001b[0m| 9/10 [00:01<00:00,  4.81it/s]\n",
      "100%|\u001b[34m██████████\u001b[0m| 10/10 [00:02<00:00,  4.94it/s]\n",
      "100%|\u001b[34m██████████\u001b[0m| 10/10 [00:02<00:00,  4.99it/s]\n"
     ]
    },
    {
     "name": "stdout",
     "output_type": "stream",
     "text": [
      "\u001b[36m(DefaultActor pid=28962)\u001b[0m save graph in  results/FL/\u001b[32m [repeated 4x across cluster]\u001b[0m\n"
     ]
    },
    {
     "name": "stderr",
     "output_type": "stream",
     "text": [
      " 10%|\u001b[34m█         \u001b[0m| 1/10 [00:00<00:01,  5.07it/s]\n",
      " 10%|\u001b[34m█         \u001b[0m| 1/10 [00:00<00:02,  4.32it/s]\n",
      " 20%|\u001b[34m██        \u001b[0m| 2/10 [00:00<00:01,  4.94it/s]\n",
      " 20%|\u001b[34m██        \u001b[0m| 2/10 [00:00<00:01,  4.69it/s]\n",
      " 30%|\u001b[34m███       \u001b[0m| 3/10 [00:00<00:01,  4.49it/s]\n",
      " 30%|\u001b[34m███       \u001b[0m| 3/10 [00:00<00:01,  4.06it/s]\n",
      " 40%|\u001b[34m████      \u001b[0m| 4/10 [00:00<00:01,  4.76it/s]\n",
      " 40%|\u001b[34m████      \u001b[0m| 4/10 [00:00<00:01,  4.42it/s]\n",
      " 50%|\u001b[34m█████     \u001b[0m| 5/10 [00:01<00:00,  5.07it/s]\n",
      " 50%|\u001b[34m█████     \u001b[0m| 5/10 [00:01<00:01,  4.72it/s]\n",
      " 60%|\u001b[34m██████    \u001b[0m| 6/10 [00:01<00:00,  5.15it/s]\n",
      " 60%|\u001b[34m██████    \u001b[0m| 6/10 [00:01<00:00,  4.28it/s]\n",
      " 70%|\u001b[34m███████   \u001b[0m| 7/10 [00:01<00:00,  5.20it/s]\n",
      " 70%|\u001b[34m███████   \u001b[0m| 7/10 [00:01<00:00,  4.61it/s]\n",
      " 80%|\u001b[34m████████  \u001b[0m| 8/10 [00:01<00:00,  5.19it/s]\n",
      " 80%|\u001b[34m████████  \u001b[0m| 8/10 [00:01<00:00,  4.80it/s]\n",
      "\u001b[36m(DefaultActor pid=28962)\u001b[0m /tmp/ipykernel_28156/3044491048.py:10: FutureWarning: You are using `torch.load` with `weights_only=False` (the current default value), which uses the default pickle module implicitly. It is possible to construct malicious pickle data which will execute arbitrary code during unpickling (See https://github.com/pytorch/pytorch/blob/main/SECURITY.md#untrusted-models for more details). In a future release, the default value for `weights_only` will be flipped to `True`. This limits the functions that could be executed during unpickling. Arbitrary objects will no longer be allowed to be loaded via this mode unless they are explicitly allowlisted by the user via `torch.serialization.add_safe_globals`. We recommend you start setting `weights_only=True` for any use case where you don't have full control of the loaded file. Please open an issue on GitHub for any issues related to this experimental feature.\u001b[32m [repeated 8x across cluster]\u001b[0m\n",
      "  0%|\u001b[34m          \u001b[0m| 0/10 [00:00<?, ?it/s]\u001b[32m [repeated 4x across cluster]\u001b[0m\n",
      " 90%|\u001b[34m█████████ \u001b[0m| 9/10 [00:01<00:00,  5.30it/s]\n",
      "100%|\u001b[34m██████████\u001b[0m| 10/10 [00:01<00:00,  5.10it/s]\n",
      " 90%|\u001b[34m█████████ \u001b[0m| 9/10 [00:01<00:00,  5.00it/s]\n",
      "100%|\u001b[34m██████████\u001b[0m| 10/10 [00:02<00:00,  4.78it/s]\n",
      "DEBUG flwr 2024-08-31 21:52:12,505 | server.py:236 | fit_round 31 received 4 results and 0 failures\n",
      "INFO flwr 2024-08-31 21:52:12,544 | server.py:125 | fit progress: (31, 1.7744245139452128, {'accuracy': 73.5576923076923}, 194.8330004469999)\n",
      "DEBUG flwr 2024-08-31 21:52:12,544 | server.py:173 | evaluate_round 31: strategy sampled 4 clients (out of 4)\n"
     ]
    },
    {
     "name": "stdout",
     "output_type": "stream",
     "text": [
      "Saving round 31 aggregated_parameters...\n",
      "Updated model\n",
      "Server-side evaluation loss 1.7744245139452128 / accuracy 73.5576923076923\n"
     ]
    },
    {
     "name": "stderr",
     "output_type": "stream",
     "text": [
      "\u001b[36m(DefaultActor pid=28962)\u001b[0m /opt/conda/envs/fed/lib/python3.10/site-packages/sklearn/metrics/_ranking.py:1183: UndefinedMetricWarning: No positive samples in y_true, true positive value should be meaningless\n",
      "\u001b[36m(DefaultActor pid=28962)\u001b[0m   warnings.warn(\n"
     ]
    },
    {
     "name": "stdout",
     "output_type": "stream",
     "text": [
      "\u001b[36m(DefaultActor pid=28961)\u001b[0m  To get the checkpoint\u001b[32m [repeated 6x across cluster]\u001b[0m\n",
      "\u001b[36m(DefaultActor pid=28962)\u001b[0m [Client 3, round 31] fit, config: {'learning_rate': 0.003, 'batch_size': '16', 'server_round': 31, 'local_epochs': 10}\u001b[32m [repeated 4x across cluster]\u001b[0m\n",
      "\u001b[36m(DefaultActor pid=28961)\u001b[0m Updated model\u001b[32m [repeated 7x across cluster]\u001b[0m\n",
      "\u001b[36m(DefaultActor pid=28962)\u001b[0m \tTrain Epoch: 10 \tTrain_loss: 0.0682 | Train_acc: 97.9167 % | Validation_loss: 1.1961 | Validation_acc: 68.7500 %\u001b[32m [repeated 40x across cluster]\u001b[0m\n",
      "\u001b[36m(DefaultActor pid=28961)\u001b[0m [Client 2] evaluate, config: {}\u001b[32m [repeated 3x across cluster]\u001b[0m\n"
     ]
    },
    {
     "name": "stderr",
     "output_type": "stream",
     "text": [
      "DEBUG flwr 2024-08-31 21:52:13,865 | server.py:187 | evaluate_round 31 received 4 results and 0 failures\n",
      "DEBUG flwr 2024-08-31 21:52:13,865 | server.py:222 | fit_round 32: strategy sampled 4 clients (out of 4)\n",
      "\u001b[36m(DefaultActor pid=28961)\u001b[0m   return torch.load(io.BytesIO(b))\u001b[32m [repeated 3x across cluster]\u001b[0m\n",
      " 10%|\u001b[34m█         \u001b[0m| 1/10 [00:00<00:01,  4.72it/s]\n",
      " 10%|\u001b[34m█         \u001b[0m| 1/10 [00:00<00:01,  4.74it/s]\n",
      " 20%|\u001b[34m██        \u001b[0m| 2/10 [00:00<00:02,  3.50it/s]\n",
      " 20%|\u001b[34m██        \u001b[0m| 2/10 [00:00<00:02,  3.81it/s]\n",
      " 30%|\u001b[34m███       \u001b[0m| 3/10 [00:00<00:01,  3.67it/s]\n",
      " 30%|\u001b[34m███       \u001b[0m| 3/10 [00:00<00:01,  4.25it/s]\n",
      " 40%|\u001b[34m████      \u001b[0m| 4/10 [00:00<00:01,  4.66it/s]\n",
      " 40%|\u001b[34m████      \u001b[0m| 4/10 [00:00<00:01,  4.18it/s]\n",
      " 50%|\u001b[34m█████     \u001b[0m| 5/10 [00:01<00:01,  4.95it/s]\n",
      " 50%|\u001b[34m█████     \u001b[0m| 5/10 [00:01<00:01,  4.58it/s]\n",
      " 60%|\u001b[34m██████    \u001b[0m| 6/10 [00:01<00:00,  5.16it/s]\n"
     ]
    },
    {
     "name": "stdout",
     "output_type": "stream",
     "text": [
      "\u001b[36m(DefaultActor pid=28962)\u001b[0m save graph in  results/FL/\u001b[32m [repeated 2x across cluster]\u001b[0m\n"
     ]
    },
    {
     "name": "stderr",
     "output_type": "stream",
     "text": [
      " 60%|\u001b[34m██████    \u001b[0m| 6/10 [00:01<00:00,  4.83it/s]\n",
      " 70%|\u001b[34m███████   \u001b[0m| 7/10 [00:01<00:00,  5.17it/s]\n",
      " 70%|\u001b[34m███████   \u001b[0m| 7/10 [00:01<00:00,  4.91it/s]\n",
      " 80%|\u001b[34m████████  \u001b[0m| 8/10 [00:01<00:00,  5.15it/s]\n",
      " 80%|\u001b[34m████████  \u001b[0m| 8/10 [00:01<00:00,  5.00it/s]\n",
      " 90%|\u001b[34m█████████ \u001b[0m| 9/10 [00:01<00:00,  4.98it/s]\n",
      " 90%|\u001b[34m█████████ \u001b[0m| 9/10 [00:01<00:00,  4.43it/s]\n",
      "100%|\u001b[34m██████████\u001b[0m| 10/10 [00:02<00:00,  4.52it/s]\n",
      "100%|\u001b[34m██████████\u001b[0m| 10/10 [00:02<00:00,  4.39it/s]\n",
      " 10%|\u001b[34m█         \u001b[0m| 1/10 [00:00<00:01,  5.51it/s]\n",
      " 10%|\u001b[34m█         \u001b[0m| 1/10 [00:00<00:01,  5.59it/s]\n",
      " 20%|\u001b[34m██        \u001b[0m| 2/10 [00:00<00:01,  5.62it/s]\n",
      " 20%|\u001b[34m██        \u001b[0m| 2/10 [00:00<00:01,  5.45it/s]\n",
      "\u001b[36m(DefaultActor pid=28962)\u001b[0m /tmp/ipykernel_28156/3044491048.py:10: FutureWarning: You are using `torch.load` with `weights_only=False` (the current default value), which uses the default pickle module implicitly. It is possible to construct malicious pickle data which will execute arbitrary code during unpickling (See https://github.com/pytorch/pytorch/blob/main/SECURITY.md#untrusted-models for more details). In a future release, the default value for `weights_only` will be flipped to `True`. This limits the functions that could be executed during unpickling. Arbitrary objects will no longer be allowed to be loaded via this mode unless they are explicitly allowlisted by the user via `torch.serialization.add_safe_globals`. We recommend you start setting `weights_only=True` for any use case where you don't have full control of the loaded file. Please open an issue on GitHub for any issues related to this experimental feature.\u001b[32m [repeated 12x across cluster]\u001b[0m\n",
      "  0%|\u001b[34m          \u001b[0m| 0/10 [00:00<?, ?it/s]\u001b[32m [repeated 4x across cluster]\u001b[0m\n",
      " 30%|\u001b[34m███       \u001b[0m| 3/10 [00:00<00:01,  5.61it/s]\n",
      " 30%|\u001b[34m███       \u001b[0m| 3/10 [00:00<00:01,  5.52it/s]\n",
      " 40%|\u001b[34m████      \u001b[0m| 4/10 [00:00<00:01,  5.62it/s]\n",
      " 40%|\u001b[34m████      \u001b[0m| 4/10 [00:00<00:01,  5.52it/s]\n",
      " 50%|\u001b[34m█████     \u001b[0m| 5/10 [00:00<00:00,  5.44it/s]\n",
      " 50%|\u001b[34m█████     \u001b[0m| 5/10 [00:00<00:00,  5.26it/s]\n",
      " 60%|\u001b[34m██████    \u001b[0m| 6/10 [00:01<00:00,  5.49it/s]\n",
      " 60%|\u001b[34m██████    \u001b[0m| 6/10 [00:01<00:00,  5.38it/s]\n",
      " 70%|\u001b[34m███████   \u001b[0m| 7/10 [00:01<00:00,  5.02it/s]\n",
      " 70%|\u001b[34m███████   \u001b[0m| 7/10 [00:01<00:00,  4.80it/s]\n",
      " 80%|\u001b[34m████████  \u001b[0m| 8/10 [00:01<00:00,  5.22it/s]\n",
      " 80%|\u001b[34m████████  \u001b[0m| 8/10 [00:01<00:00,  4.98it/s]\n",
      " 90%|\u001b[34m█████████ \u001b[0m| 9/10 [00:01<00:00,  5.35it/s]\n",
      " 90%|\u001b[34m█████████ \u001b[0m| 9/10 [00:01<00:00,  5.17it/s]\n",
      "100%|\u001b[34m██████████\u001b[0m| 10/10 [00:01<00:00,  5.38it/s]\n"
     ]
    },
    {
     "name": "stdout",
     "output_type": "stream",
     "text": [
      "\u001b[36m(DefaultActor pid=28962)\u001b[0m  To get the checkpoint\u001b[32m [repeated 5x across cluster]\u001b[0m\n",
      "\u001b[36m(DefaultActor pid=28962)\u001b[0m [Client 1, round 32] fit, config: {'learning_rate': 0.003, 'batch_size': '16', 'server_round': 32, 'local_epochs': 10}\u001b[32m [repeated 4x across cluster]\u001b[0m\n",
      "\u001b[36m(DefaultActor pid=28962)\u001b[0m Updated model\u001b[32m [repeated 5x across cluster]\u001b[0m\n",
      "\u001b[36m(DefaultActor pid=28962)\u001b[0m \tTrain Epoch: 9 \tTrain_loss: 0.5957 | Train_acc: 83.3333 % | Validation_loss: 1.5474 | Validation_acc: 59.3750 %\u001b[32m [repeated 38x across cluster]\u001b[0m\n",
      "\u001b[36m(DefaultActor pid=28962)\u001b[0m [Client 0] evaluate, config: {}\n"
     ]
    },
    {
     "name": "stderr",
     "output_type": "stream",
     "text": [
      "100%|\u001b[34m██████████\u001b[0m| 10/10 [00:01<00:00,  5.26it/s]\n",
      "DEBUG flwr 2024-08-31 21:52:18,711 | server.py:236 | fit_round 32 received 4 results and 0 failures\n",
      "INFO flwr 2024-08-31 21:52:18,749 | server.py:125 | fit progress: (32, 1.926578129713352, {'accuracy': 72.59615384615384}, 201.03848725099988)\n",
      "DEBUG flwr 2024-08-31 21:52:18,750 | server.py:173 | evaluate_round 32: strategy sampled 4 clients (out of 4)\n"
     ]
    },
    {
     "name": "stdout",
     "output_type": "stream",
     "text": [
      "Saving round 32 aggregated_parameters...\n",
      "Updated model\n",
      "Server-side evaluation loss 1.926578129713352 / accuracy 72.59615384615384\n",
      "\u001b[36m(DefaultActor pid=28961)\u001b[0m [Client 3] evaluate, config: {}\n"
     ]
    },
    {
     "name": "stderr",
     "output_type": "stream",
     "text": [
      "\u001b[36m(DefaultActor pid=28961)\u001b[0m /opt/conda/envs/fed/lib/python3.10/site-packages/sklearn/metrics/_ranking.py:1183: UndefinedMetricWarning: No positive samples in y_true, true positive value should be meaningless\n",
      "\u001b[36m(DefaultActor pid=28961)\u001b[0m   warnings.warn(\n",
      "\u001b[36m(DefaultActor pid=28962)\u001b[0m   return torch.load(io.BytesIO(b))\n",
      "\u001b[36m(DefaultActor pid=28961)\u001b[0m   return torch.load(io.BytesIO(b))\n",
      "DEBUG flwr 2024-08-31 21:52:20,057 | server.py:187 | evaluate_round 32 received 4 results and 0 failures\n",
      "DEBUG flwr 2024-08-31 21:52:20,058 | server.py:222 | fit_round 33: strategy sampled 4 clients (out of 4)\n",
      " 10%|\u001b[34m█         \u001b[0m| 1/10 [00:00<00:01,  5.35it/s]\n",
      " 10%|\u001b[34m█         \u001b[0m| 1/10 [00:00<00:01,  5.32it/s]\n",
      " 20%|\u001b[34m██        \u001b[0m| 2/10 [00:00<00:01,  5.51it/s]\n",
      " 20%|\u001b[34m██        \u001b[0m| 2/10 [00:00<00:01,  5.44it/s]\n"
     ]
    },
    {
     "name": "stdout",
     "output_type": "stream",
     "text": [
      "\u001b[36m(DefaultActor pid=28962)\u001b[0m save graph in  results/FL/\u001b[32m [repeated 4x across cluster]\u001b[0m\n"
     ]
    },
    {
     "name": "stderr",
     "output_type": "stream",
     "text": [
      " 30%|\u001b[34m███       \u001b[0m| 3/10 [00:00<00:01,  5.41it/s]\n",
      " 30%|\u001b[34m███       \u001b[0m| 3/10 [00:00<00:01,  5.40it/s]\n",
      " 40%|\u001b[34m████      \u001b[0m| 4/10 [00:00<00:01,  5.17it/s]\n",
      " 40%|\u001b[34m████      \u001b[0m| 4/10 [00:00<00:01,  5.51it/s]\n",
      " 50%|\u001b[34m█████     \u001b[0m| 5/10 [00:00<00:00,  5.14it/s]\n",
      " 50%|\u001b[34m█████     \u001b[0m| 5/10 [00:00<00:00,  5.48it/s]\n",
      " 60%|\u001b[34m██████    \u001b[0m| 6/10 [00:01<00:00,  4.90it/s]\n",
      " 60%|\u001b[34m██████    \u001b[0m| 6/10 [00:01<00:00,  4.59it/s]\n",
      " 70%|\u001b[34m███████   \u001b[0m| 7/10 [00:01<00:00,  4.86it/s]\n",
      " 70%|\u001b[34m███████   \u001b[0m| 7/10 [00:01<00:00,  4.98it/s]\n",
      " 80%|\u001b[34m████████  \u001b[0m| 8/10 [00:01<00:00,  4.82it/s]\n",
      " 80%|\u001b[34m████████  \u001b[0m| 8/10 [00:01<00:00,  4.85it/s]\n",
      " 90%|\u001b[34m█████████ \u001b[0m| 9/10 [00:01<00:00,  4.81it/s]\n",
      " 90%|\u001b[34m█████████ \u001b[0m| 9/10 [00:01<00:00,  4.94it/s]\n",
      "100%|\u001b[34m██████████\u001b[0m| 10/10 [00:01<00:00,  5.03it/s]\n",
      "\u001b[36m(DefaultActor pid=28962)\u001b[0m /tmp/ipykernel_28156/3044491048.py:10: FutureWarning: You are using `torch.load` with `weights_only=False` (the current default value), which uses the default pickle module implicitly. It is possible to construct malicious pickle data which will execute arbitrary code during unpickling (See https://github.com/pytorch/pytorch/blob/main/SECURITY.md#untrusted-models for more details). In a future release, the default value for `weights_only` will be flipped to `True`. This limits the functions that could be executed during unpickling. Arbitrary objects will no longer be allowed to be loaded via this mode unless they are explicitly allowlisted by the user via `torch.serialization.add_safe_globals`. We recommend you start setting `weights_only=True` for any use case where you don't have full control of the loaded file. Please open an issue on GitHub for any issues related to this experimental feature.\u001b[32m [repeated 10x across cluster]\u001b[0m\n",
      "  0%|\u001b[34m          \u001b[0m| 0/10 [00:00<?, ?it/s]\u001b[32m [repeated 2x across cluster]\u001b[0m\n",
      "100%|\u001b[34m██████████\u001b[0m| 10/10 [00:02<00:00,  4.68it/s]\n",
      " 10%|\u001b[34m█         \u001b[0m| 1/10 [00:00<00:01,  5.68it/s]\n",
      " 10%|\u001b[34m█         \u001b[0m| 1/10 [00:00<00:01,  5.35it/s]\n",
      " 20%|\u001b[34m██        \u001b[0m| 2/10 [00:00<00:01,  5.42it/s]\n",
      " 20%|\u001b[34m██        \u001b[0m| 2/10 [00:00<00:01,  5.20it/s]\n",
      " 30%|\u001b[34m███       \u001b[0m| 3/10 [00:00<00:01,  5.55it/s]\n",
      " 30%|\u001b[34m███       \u001b[0m| 3/10 [00:00<00:01,  5.29it/s]\n",
      " 40%|\u001b[34m████      \u001b[0m| 4/10 [00:00<00:01,  5.56it/s]\n",
      " 40%|\u001b[34m████      \u001b[0m| 4/10 [00:00<00:01,  5.48it/s]\n",
      " 50%|\u001b[34m█████     \u001b[0m| 5/10 [00:00<00:00,  5.62it/s]\n"
     ]
    },
    {
     "name": "stdout",
     "output_type": "stream",
     "text": [
      "\u001b[36m(DefaultActor pid=28961)\u001b[0m  To get the checkpoint\u001b[32m [repeated 8x across cluster]\u001b[0m\n",
      "\u001b[36m(DefaultActor pid=28961)\u001b[0m [Client 2, round 33] fit, config: {'learning_rate': 0.003, 'batch_size': '16', 'server_round': 33, 'local_epochs': 10}\u001b[32m [repeated 4x across cluster]\u001b[0m\n",
      "\u001b[36m(DefaultActor pid=28961)\u001b[0m Updated model\u001b[32m [repeated 8x across cluster]\u001b[0m\n",
      "\u001b[36m(DefaultActor pid=28961)\u001b[0m \tTrain Epoch: 4 \tTrain_loss: 0.2932 | Train_acc: 92.1875 % | Validation_loss: 1.2046 | Validation_acc: 71.8750 %\u001b[32m [repeated 30x across cluster]\u001b[0m\n"
     ]
    },
    {
     "name": "stderr",
     "output_type": "stream",
     "text": [
      " 50%|\u001b[34m█████     \u001b[0m| 5/10 [00:00<00:00,  5.15it/s]\n",
      " 60%|\u001b[34m██████    \u001b[0m| 6/10 [00:01<00:00,  5.58it/s]\n",
      " 70%|\u001b[34m███████   \u001b[0m| 7/10 [00:01<00:00,  5.54it/s]\n",
      " 60%|\u001b[34m██████    \u001b[0m| 6/10 [00:01<00:00,  5.11it/s]\n",
      " 80%|\u001b[34m████████  \u001b[0m| 8/10 [00:01<00:00,  5.53it/s]\n"
     ]
    },
    {
     "name": "stdout",
     "output_type": "stream",
     "text": [
      "\u001b[36m(DefaultActor pid=28962)\u001b[0m [Client 1] evaluate, config: {}\u001b[32m [repeated 3x across cluster]\u001b[0m\n"
     ]
    },
    {
     "name": "stderr",
     "output_type": "stream",
     "text": [
      " 70%|\u001b[34m███████   \u001b[0m| 7/10 [00:01<00:00,  5.20it/s]\n",
      " 80%|\u001b[34m████████  \u001b[0m| 8/10 [00:01<00:00,  5.36it/s]\n",
      " 90%|\u001b[34m█████████ \u001b[0m| 9/10 [00:01<00:00,  5.36it/s]\n",
      " 90%|\u001b[34m█████████ \u001b[0m| 9/10 [00:01<00:00,  4.64it/s]\n",
      "100%|\u001b[34m██████████\u001b[0m| 10/10 [00:01<00:00,  5.18it/s]\n",
      "100%|\u001b[34m██████████\u001b[0m| 10/10 [00:01<00:00,  5.08it/s]\n",
      "\u001b[36m(DefaultActor pid=28962)\u001b[0m   return torch.load(io.BytesIO(b))\u001b[32m [repeated 3x across cluster]\u001b[0m\n",
      "DEBUG flwr 2024-08-31 21:52:24,818 | server.py:236 | fit_round 33 received 4 results and 0 failures\n",
      "INFO flwr 2024-08-31 21:52:24,870 | server.py:125 | fit progress: (33, 1.8749010104399462, {'accuracy': 72.11538461538461}, 207.15962334999995)\n",
      "DEBUG flwr 2024-08-31 21:52:24,871 | server.py:173 | evaluate_round 33: strategy sampled 4 clients (out of 4)\n"
     ]
    },
    {
     "name": "stdout",
     "output_type": "stream",
     "text": [
      "Saving round 33 aggregated_parameters...\n",
      "Updated model\n",
      "Server-side evaluation loss 1.8749010104399462 / accuracy 72.11538461538461\n"
     ]
    },
    {
     "name": "stderr",
     "output_type": "stream",
     "text": [
      "\u001b[36m(DefaultActor pid=28961)\u001b[0m /opt/conda/envs/fed/lib/python3.10/site-packages/sklearn/metrics/_ranking.py:1183: UndefinedMetricWarning: No positive samples in y_true, true positive value should be meaningless\n",
      "\u001b[36m(DefaultActor pid=28961)\u001b[0m   warnings.warn(\n"
     ]
    },
    {
     "name": "stdout",
     "output_type": "stream",
     "text": [
      "\u001b[36m(DefaultActor pid=28961)\u001b[0m save graph in  results/FL/\u001b[32m [repeated 4x across cluster]\u001b[0m\n"
     ]
    },
    {
     "name": "stderr",
     "output_type": "stream",
     "text": [
      "DEBUG flwr 2024-08-31 21:52:26,080 | server.py:187 | evaluate_round 33 received 4 results and 0 failures\n",
      "DEBUG flwr 2024-08-31 21:52:26,081 | server.py:222 | fit_round 34: strategy sampled 4 clients (out of 4)\n",
      " 10%|\u001b[34m█         \u001b[0m| 1/10 [00:00<00:02,  3.26it/s]\n",
      " 10%|\u001b[34m█         \u001b[0m| 1/10 [00:00<00:03,  2.94it/s]\n",
      " 20%|\u001b[34m██        \u001b[0m| 2/10 [00:00<00:01,  4.35it/s]\n",
      " 20%|\u001b[34m██        \u001b[0m| 2/10 [00:00<00:01,  4.17it/s]\n",
      " 30%|\u001b[34m███       \u001b[0m| 3/10 [00:00<00:01,  4.74it/s]\n",
      " 30%|\u001b[34m███       \u001b[0m| 3/10 [00:00<00:01,  4.65it/s]\n",
      " 40%|\u001b[34m████      \u001b[0m| 4/10 [00:00<00:01,  4.97it/s]\n",
      " 40%|\u001b[34m████      \u001b[0m| 4/10 [00:00<00:01,  4.54it/s]\n",
      " 50%|\u001b[34m█████     \u001b[0m| 5/10 [00:01<00:01,  4.92it/s]\n",
      "\u001b[36m(DefaultActor pid=28962)\u001b[0m /tmp/ipykernel_28156/3044491048.py:10: FutureWarning: You are using `torch.load` with `weights_only=False` (the current default value), which uses the default pickle module implicitly. It is possible to construct malicious pickle data which will execute arbitrary code during unpickling (See https://github.com/pytorch/pytorch/blob/main/SECURITY.md#untrusted-models for more details). In a future release, the default value for `weights_only` will be flipped to `True`. This limits the functions that could be executed during unpickling. Arbitrary objects will no longer be allowed to be loaded via this mode unless they are explicitly allowlisted by the user via `torch.serialization.add_safe_globals`. We recommend you start setting `weights_only=True` for any use case where you don't have full control of the loaded file. Please open an issue on GitHub for any issues related to this experimental feature.\u001b[32m [repeated 12x across cluster]\u001b[0m\n",
      "  0%|\u001b[34m          \u001b[0m| 0/10 [00:00<?, ?it/s]\u001b[32m [repeated 4x across cluster]\u001b[0m\n",
      " 50%|\u001b[34m█████     \u001b[0m| 5/10 [00:01<00:01,  4.75it/s]\n",
      " 60%|\u001b[34m██████    \u001b[0m| 6/10 [00:01<00:00,  4.95it/s]\n",
      " 60%|\u001b[34m██████    \u001b[0m| 6/10 [00:01<00:00,  4.69it/s]\n",
      " 70%|\u001b[34m███████   \u001b[0m| 7/10 [00:01<00:00,  4.99it/s]\n",
      " 70%|\u001b[34m███████   \u001b[0m| 7/10 [00:01<00:00,  4.55it/s]\n",
      " 80%|\u001b[34m████████  \u001b[0m| 8/10 [00:01<00:00,  5.15it/s]\n",
      " 80%|\u001b[34m████████  \u001b[0m| 8/10 [00:01<00:00,  4.76it/s]\n",
      " 90%|\u001b[34m█████████ \u001b[0m| 9/10 [00:01<00:00,  5.29it/s]\n",
      " 90%|\u001b[34m█████████ \u001b[0m| 9/10 [00:01<00:00,  4.89it/s]\n",
      "100%|\u001b[34m██████████\u001b[0m| 10/10 [00:01<00:00,  5.00it/s]\n",
      "100%|\u001b[34m██████████\u001b[0m| 10/10 [00:02<00:00,  4.70it/s]\n"
     ]
    },
    {
     "name": "stdout",
     "output_type": "stream",
     "text": [
      "\u001b[36m(DefaultActor pid=28961)\u001b[0m  To get the checkpoint\u001b[32m [repeated 7x across cluster]\u001b[0m\n",
      "\u001b[36m(DefaultActor pid=28961)\u001b[0m [Client 1, round 34] fit, config: {'learning_rate': 0.003, 'batch_size': '16', 'server_round': 34, 'local_epochs': 10}\u001b[32m [repeated 3x across cluster]\u001b[0m\n",
      "\u001b[36m(DefaultActor pid=28961)\u001b[0m Updated model\u001b[32m [repeated 7x across cluster]\u001b[0m\n",
      "\u001b[36m(DefaultActor pid=28962)\u001b[0m \tTrain Epoch: 10 \tTrain_loss: 0.0295 | Train_acc: 98.9583 % | Validation_loss: 1.0881 | Validation_acc: 71.8750 %\u001b[32m [repeated 32x across cluster]\u001b[0m\n"
     ]
    },
    {
     "name": "stderr",
     "output_type": "stream",
     "text": [
      " 10%|\u001b[34m█         \u001b[0m| 1/10 [00:00<00:02,  4.45it/s]\n",
      " 20%|\u001b[34m██        \u001b[0m| 2/10 [00:00<00:01,  4.88it/s]\n",
      " 10%|\u001b[34m█         \u001b[0m| 1/10 [00:00<00:01,  5.11it/s]\n"
     ]
    },
    {
     "name": "stdout",
     "output_type": "stream",
     "text": [
      "\u001b[36m(DefaultActor pid=28962)\u001b[0m [Client 1] evaluate, config: {}\u001b[32m [repeated 4x across cluster]\u001b[0m\n"
     ]
    },
    {
     "name": "stderr",
     "output_type": "stream",
     "text": [
      " 30%|\u001b[34m███       \u001b[0m| 3/10 [00:00<00:01,  5.02it/s]\n",
      " 20%|\u001b[34m██        \u001b[0m| 2/10 [00:00<00:01,  5.03it/s]\n",
      " 40%|\u001b[34m████      \u001b[0m| 4/10 [00:00<00:01,  4.84it/s]\n",
      " 30%|\u001b[34m███       \u001b[0m| 3/10 [00:00<00:01,  4.71it/s]\n",
      " 50%|\u001b[34m█████     \u001b[0m| 5/10 [00:01<00:01,  4.97it/s]\n",
      " 40%|\u001b[34m████      \u001b[0m| 4/10 [00:00<00:01,  4.94it/s]\n",
      " 50%|\u001b[34m█████     \u001b[0m| 5/10 [00:00<00:00,  5.16it/s]\n",
      "\u001b[36m(DefaultActor pid=28962)\u001b[0m   return torch.load(io.BytesIO(b))\u001b[32m [repeated 4x across cluster]\u001b[0m\n",
      " 60%|\u001b[34m██████    \u001b[0m| 6/10 [00:01<00:00,  5.09it/s]\n",
      " 60%|\u001b[34m██████    \u001b[0m| 6/10 [00:01<00:00,  5.15it/s]\n",
      " 70%|\u001b[34m███████   \u001b[0m| 7/10 [00:01<00:00,  5.22it/s]\n",
      " 70%|\u001b[34m███████   \u001b[0m| 7/10 [00:01<00:00,  4.98it/s]\n",
      " 80%|\u001b[34m████████  \u001b[0m| 8/10 [00:01<00:00,  5.13it/s]\n",
      " 90%|\u001b[34m█████████ \u001b[0m| 9/10 [00:01<00:00,  5.19it/s]\n",
      " 80%|\u001b[34m████████  \u001b[0m| 8/10 [00:01<00:00,  5.13it/s]\n",
      "100%|\u001b[34m██████████\u001b[0m| 10/10 [00:01<00:00,  5.09it/s]\n",
      " 90%|\u001b[34m█████████ \u001b[0m| 9/10 [00:01<00:00,  5.20it/s]\n",
      "100%|\u001b[34m██████████\u001b[0m| 10/10 [00:01<00:00,  5.11it/s]\n",
      "DEBUG flwr 2024-08-31 21:52:30,880 | server.py:236 | fit_round 34 received 4 results and 0 failures\n"
     ]
    },
    {
     "name": "stdout",
     "output_type": "stream",
     "text": [
      "\u001b[36m(DefaultActor pid=28962)\u001b[0m save graph in  results/FL/\u001b[32m [repeated 4x across cluster]\u001b[0m\n"
     ]
    },
    {
     "name": "stderr",
     "output_type": "stream",
     "text": [
      "INFO flwr 2024-08-31 21:52:30,919 | server.py:125 | fit progress: (34, 2.093437373638153, {'accuracy': 74.03846153846155}, 213.20864650800013)\n",
      "DEBUG flwr 2024-08-31 21:52:30,920 | server.py:173 | evaluate_round 34: strategy sampled 4 clients (out of 4)\n"
     ]
    },
    {
     "name": "stdout",
     "output_type": "stream",
     "text": [
      "Saving round 34 aggregated_parameters...\n",
      "Updated model\n",
      "Server-side evaluation loss 2.093437373638153 / accuracy 74.03846153846155\n"
     ]
    },
    {
     "name": "stderr",
     "output_type": "stream",
     "text": [
      "\u001b[36m(DefaultActor pid=28961)\u001b[0m /opt/conda/envs/fed/lib/python3.10/site-packages/sklearn/metrics/_ranking.py:1183: UndefinedMetricWarning: No positive samples in y_true, true positive value should be meaningless\n",
      "\u001b[36m(DefaultActor pid=28961)\u001b[0m   warnings.warn(\n",
      "DEBUG flwr 2024-08-31 21:52:32,596 | server.py:187 | evaluate_round 34 received 4 results and 0 failures\n",
      "DEBUG flwr 2024-08-31 21:52:32,597 | server.py:222 | fit_round 35: strategy sampled 4 clients (out of 4)\n",
      "\u001b[36m(DefaultActor pid=28961)\u001b[0m /opt/conda/envs/fed/lib/python3.10/site-packages/torch/storage.py:414: FutureWarning: You are using `torch.load` with `weights_only=False` (the current default value), which uses the default pickle module implicitly. It is possible to construct malicious pickle data which will execute arbitrary code during unpickling (See https://github.com/pytorch/pytorch/blob/main/SECURITY.md#untrusted-models for more details). In a future release, the default value for `weights_only` will be flipped to `True`. This limits the functions that could be executed during unpickling. Arbitrary objects will no longer be allowed to be loaded via this mode unless they are explicitly allowlisted by the user via `torch.serialization.add_safe_globals`. We recommend you start setting `weights_only=True` for any use case where you don't have full control of the loaded file. Please open an issue on GitHub for any issues related to this experimental feature.\u001b[32m [repeated 9x across cluster]\u001b[0m\n",
      "  0%|\u001b[34m          \u001b[0m| 0/10 [00:00<?, ?it/s]\u001b[32m [repeated 2x across cluster]\u001b[0m\n",
      " 10%|\u001b[34m█         \u001b[0m| 1/10 [00:00<00:02,  3.42it/s]\n",
      " 10%|\u001b[34m█         \u001b[0m| 1/10 [00:00<00:02,  4.19it/s]\n",
      " 20%|\u001b[34m██        \u001b[0m| 2/10 [00:00<00:01,  4.61it/s]\n",
      " 20%|\u001b[34m██        \u001b[0m| 2/10 [00:00<00:02,  3.91it/s]\n",
      " 30%|\u001b[34m███       \u001b[0m| 3/10 [00:00<00:01,  4.56it/s]\n",
      " 30%|\u001b[34m███       \u001b[0m| 3/10 [00:00<00:01,  5.01it/s]\n",
      " 40%|\u001b[34m████      \u001b[0m| 4/10 [00:00<00:01,  4.85it/s]\n",
      " 40%|\u001b[34m████      \u001b[0m| 4/10 [00:00<00:01,  5.19it/s]\n",
      " 50%|\u001b[34m█████     \u001b[0m| 5/10 [00:00<00:00,  5.31it/s]\n"
     ]
    },
    {
     "name": "stdout",
     "output_type": "stream",
     "text": [
      "\u001b[36m(DefaultActor pid=28962)\u001b[0m  To get the checkpoint\u001b[32m [repeated 7x across cluster]\u001b[0m\n",
      "\u001b[36m(DefaultActor pid=28962)\u001b[0m [Client 0, round 35] fit, config: {'learning_rate': 0.003, 'batch_size': '16', 'server_round': 35, 'local_epochs': 10}\u001b[32m [repeated 3x across cluster]\u001b[0m\n",
      "\u001b[36m(DefaultActor pid=28962)\u001b[0m Updated model\u001b[32m [repeated 7x across cluster]\u001b[0m\n",
      "\u001b[36m(DefaultActor pid=28961)\u001b[0m \tTrain Epoch: 4 \tTrain_loss: 0.1572 | Train_acc: 95.3125 % | Validation_loss: 1.1707 | Validation_acc: 75.0000 %\u001b[32m [repeated 27x across cluster]\u001b[0m\n"
     ]
    },
    {
     "name": "stderr",
     "output_type": "stream",
     "text": [
      " 50%|\u001b[34m█████     \u001b[0m| 5/10 [00:01<00:00,  5.08it/s]\n",
      " 60%|\u001b[34m██████    \u001b[0m| 6/10 [00:01<00:00,  5.35it/s]\n",
      " 60%|\u001b[34m██████    \u001b[0m| 6/10 [00:01<00:00,  5.19it/s]\n",
      " 70%|\u001b[34m███████   \u001b[0m| 7/10 [00:01<00:00,  5.30it/s]\n"
     ]
    },
    {
     "name": "stdout",
     "output_type": "stream",
     "text": [
      "\u001b[36m(DefaultActor pid=28962)\u001b[0m [Client 1] evaluate, config: {}\u001b[32m [repeated 4x across cluster]\u001b[0m\n"
     ]
    },
    {
     "name": "stderr",
     "output_type": "stream",
     "text": [
      " 70%|\u001b[34m███████   \u001b[0m| 7/10 [00:01<00:00,  5.13it/s]\n",
      " 80%|\u001b[34m████████  \u001b[0m| 8/10 [00:01<00:00,  5.32it/s]\n",
      " 80%|\u001b[34m████████  \u001b[0m| 8/10 [00:01<00:00,  5.19it/s]\n",
      " 90%|\u001b[34m█████████ \u001b[0m| 9/10 [00:01<00:00,  5.04it/s]\n",
      " 90%|\u001b[34m█████████ \u001b[0m| 9/10 [00:01<00:00,  5.06it/s]\n",
      "100%|\u001b[34m██████████\u001b[0m| 10/10 [00:02<00:00,  4.95it/s]\n",
      "\u001b[36m(DefaultActor pid=28962)\u001b[0m   return torch.load(io.BytesIO(b))\u001b[32m [repeated 4x across cluster]\u001b[0m\n",
      "100%|\u001b[34m██████████\u001b[0m| 10/10 [00:01<00:00,  5.14it/s]\n",
      " 10%|\u001b[34m█         \u001b[0m| 1/10 [00:00<00:01,  5.38it/s]\n",
      " 10%|\u001b[34m█         \u001b[0m| 1/10 [00:00<00:01,  5.21it/s]\n",
      " 20%|\u001b[34m██        \u001b[0m| 2/10 [00:00<00:01,  5.63it/s]\n",
      " 20%|\u001b[34m██        \u001b[0m| 2/10 [00:00<00:01,  5.15it/s]\n"
     ]
    },
    {
     "name": "stdout",
     "output_type": "stream",
     "text": [
      "\u001b[36m(DefaultActor pid=28962)\u001b[0m save graph in  results/FL/\u001b[32m [repeated 2x across cluster]\u001b[0m\n"
     ]
    },
    {
     "name": "stderr",
     "output_type": "stream",
     "text": [
      " 30%|\u001b[34m███       \u001b[0m| 3/10 [00:00<00:01,  5.48it/s]\n",
      " 30%|\u001b[34m███       \u001b[0m| 3/10 [00:00<00:01,  5.13it/s]\n",
      " 40%|\u001b[34m████      \u001b[0m| 4/10 [00:00<00:01,  5.50it/s]\n",
      " 40%|\u001b[34m████      \u001b[0m| 4/10 [00:00<00:01,  4.95it/s]\n",
      " 50%|\u001b[34m█████     \u001b[0m| 5/10 [00:00<00:00,  5.35it/s]\n",
      " 50%|\u001b[34m█████     \u001b[0m| 5/10 [00:00<00:00,  5.07it/s]\n",
      " 60%|\u001b[34m██████    \u001b[0m| 6/10 [00:01<00:00,  5.39it/s]\n",
      " 60%|\u001b[34m██████    \u001b[0m| 6/10 [00:01<00:00,  5.15it/s]\n",
      " 70%|\u001b[34m███████   \u001b[0m| 7/10 [00:01<00:00,  5.43it/s]\n",
      " 70%|\u001b[34m███████   \u001b[0m| 7/10 [00:01<00:00,  4.81it/s]\n",
      " 80%|\u001b[34m████████  \u001b[0m| 8/10 [00:01<00:00,  4.88it/s]\n",
      " 80%|\u001b[34m████████  \u001b[0m| 8/10 [00:01<00:00,  4.93it/s]\n",
      " 90%|\u001b[34m█████████ \u001b[0m| 9/10 [00:01<00:00,  5.05it/s]\n",
      " 90%|\u001b[34m█████████ \u001b[0m| 9/10 [00:01<00:00,  4.98it/s]\n",
      "100%|\u001b[34m██████████\u001b[0m| 10/10 [00:01<00:00,  5.25it/s]\n",
      "100%|\u001b[34m██████████\u001b[0m| 10/10 [00:02<00:00,  4.96it/s]\n",
      "DEBUG flwr 2024-08-31 21:52:37,562 | server.py:236 | fit_round 35 received 4 results and 0 failures\n",
      "INFO flwr 2024-08-31 21:52:37,601 | server.py:125 | fit progress: (35, 2.269951011125858, {'accuracy': 72.59615384615384}, 219.8906110859998)\n",
      "DEBUG flwr 2024-08-31 21:52:37,602 | server.py:173 | evaluate_round 35: strategy sampled 4 clients (out of 4)\n"
     ]
    },
    {
     "name": "stdout",
     "output_type": "stream",
     "text": [
      "Saving round 35 aggregated_parameters...\n",
      "Updated model\n",
      "Server-side evaluation loss 2.269951011125858 / accuracy 72.59615384615384\n"
     ]
    },
    {
     "name": "stderr",
     "output_type": "stream",
     "text": [
      "\u001b[36m(DefaultActor pid=28961)\u001b[0m /tmp/ipykernel_28156/3044491048.py:10: FutureWarning: You are using `torch.load` with `weights_only=False` (the current default value), which uses the default pickle module implicitly. It is possible to construct malicious pickle data which will execute arbitrary code during unpickling (See https://github.com/pytorch/pytorch/blob/main/SECURITY.md#untrusted-models for more details). In a future release, the default value for `weights_only` will be flipped to `True`. This limits the functions that could be executed during unpickling. Arbitrary objects will no longer be allowed to be loaded via this mode unless they are explicitly allowlisted by the user via `torch.serialization.add_safe_globals`. We recommend you start setting `weights_only=True` for any use case where you don't have full control of the loaded file. Please open an issue on GitHub for any issues related to this experimental feature.\u001b[32m [repeated 6x across cluster]\u001b[0m\n",
      "  0%|\u001b[34m          \u001b[0m| 0/10 [00:00<?, ?it/s]\u001b[32m [repeated 4x across cluster]\u001b[0m\n",
      "\u001b[36m(DefaultActor pid=28961)\u001b[0m /opt/conda/envs/fed/lib/python3.10/site-packages/sklearn/metrics/_ranking.py:1183: UndefinedMetricWarning: No positive samples in y_true, true positive value should be meaningless\n",
      "\u001b[36m(DefaultActor pid=28961)\u001b[0m   warnings.warn(\n",
      "DEBUG flwr 2024-08-31 21:52:38,883 | server.py:187 | evaluate_round 35 received 4 results and 0 failures\n",
      "DEBUG flwr 2024-08-31 21:52:38,883 | server.py:222 | fit_round 36: strategy sampled 4 clients (out of 4)\n"
     ]
    },
    {
     "name": "stdout",
     "output_type": "stream",
     "text": [
      "\u001b[36m(DefaultActor pid=28961)\u001b[0m  To get the checkpoint\u001b[32m [repeated 7x across cluster]\u001b[0m\n",
      "\u001b[36m(DefaultActor pid=28961)\u001b[0m [Client 2, round 36] fit, config: {'learning_rate': 0.003, 'batch_size': '16', 'server_round': 36, 'local_epochs': 10}\u001b[32m [repeated 3x across cluster]\u001b[0m\n",
      "\u001b[36m(DefaultActor pid=28961)\u001b[0m Updated model\u001b[32m [repeated 7x across cluster]\u001b[0m\n",
      "\u001b[36m(DefaultActor pid=28961)\u001b[0m \tTrain Epoch: 10 \tTrain_loss: 0.0934 | Train_acc: 96.8750 % | Validation_loss: 0.7589 | Validation_acc: 75.0000 %\u001b[32m [repeated 33x across cluster]\u001b[0m\n",
      "\u001b[36m(DefaultActor pid=28962)\u001b[0m [Client 0] evaluate, config: {}\u001b[32m [repeated 4x across cluster]\u001b[0m\n"
     ]
    },
    {
     "name": "stderr",
     "output_type": "stream",
     "text": [
      " 10%|\u001b[34m█         \u001b[0m| 1/10 [00:00<00:01,  4.69it/s]\n",
      " 10%|\u001b[34m█         \u001b[0m| 1/10 [00:00<00:01,  4.71it/s]\n",
      " 20%|\u001b[34m██        \u001b[0m| 2/10 [00:00<00:01,  4.66it/s]\n",
      " 20%|\u001b[34m██        \u001b[0m| 2/10 [00:00<00:02,  3.65it/s]\n",
      " 30%|\u001b[34m███       \u001b[0m| 3/10 [00:00<00:01,  4.44it/s]\n",
      " 30%|\u001b[34m███       \u001b[0m| 3/10 [00:00<00:01,  4.25it/s]\n",
      "\u001b[36m(DefaultActor pid=28962)\u001b[0m   return torch.load(io.BytesIO(b))\u001b[32m [repeated 4x across cluster]\u001b[0m\n",
      " 40%|\u001b[34m████      \u001b[0m| 4/10 [00:00<00:01,  4.75it/s]\n",
      " 40%|\u001b[34m████      \u001b[0m| 4/10 [00:00<00:01,  4.72it/s]\n",
      " 50%|\u001b[34m█████     \u001b[0m| 5/10 [00:01<00:01,  4.37it/s]\n",
      " 50%|\u001b[34m█████     \u001b[0m| 5/10 [00:01<00:01,  4.35it/s]\n",
      " 60%|\u001b[34m██████    \u001b[0m| 6/10 [00:01<00:00,  4.75it/s]\n",
      " 60%|\u001b[34m██████    \u001b[0m| 6/10 [00:01<00:00,  4.61it/s]\n",
      " 70%|\u001b[34m███████   \u001b[0m| 7/10 [00:01<00:00,  4.91it/s]\n",
      " 70%|\u001b[34m███████   \u001b[0m| 7/10 [00:01<00:00,  4.72it/s]\n",
      " 80%|\u001b[34m████████  \u001b[0m| 8/10 [00:01<00:00,  5.10it/s]\n",
      " 80%|\u001b[34m████████  \u001b[0m| 8/10 [00:01<00:00,  4.87it/s]\n",
      " 90%|\u001b[34m█████████ \u001b[0m| 9/10 [00:01<00:00,  5.24it/s]\n"
     ]
    },
    {
     "name": "stdout",
     "output_type": "stream",
     "text": [
      "\u001b[36m(DefaultActor pid=28961)\u001b[0m save graph in  results/FL/\u001b[32m [repeated 2x across cluster]\u001b[0m\n"
     ]
    },
    {
     "name": "stderr",
     "output_type": "stream",
     "text": [
      "100%|\u001b[34m██████████\u001b[0m| 10/10 [00:02<00:00,  4.96it/s]\n",
      " 90%|\u001b[34m█████████ \u001b[0m| 9/10 [00:01<00:00,  4.85it/s]\n",
      "100%|\u001b[34m██████████\u001b[0m| 10/10 [00:02<00:00,  4.65it/s]\n",
      " 10%|\u001b[34m█         \u001b[0m| 1/10 [00:00<00:01,  5.90it/s]\n",
      " 20%|\u001b[34m██        \u001b[0m| 2/10 [00:00<00:01,  4.84it/s]\n",
      " 30%|\u001b[34m███       \u001b[0m| 3/10 [00:00<00:01,  4.94it/s]\n",
      " 40%|\u001b[34m████      \u001b[0m| 4/10 [00:00<00:01,  5.47it/s]\n",
      " 50%|\u001b[34m█████     \u001b[0m| 5/10 [00:00<00:00,  5.35it/s]\n",
      " 10%|\u001b[34m█         \u001b[0m| 1/10 [00:00<00:01,  5.42it/s]\n",
      " 60%|\u001b[34m██████    \u001b[0m| 6/10 [00:01<00:00,  5.42it/s]\n",
      " 70%|\u001b[34m███████   \u001b[0m| 7/10 [00:01<00:00,  5.43it/s]\n",
      " 20%|\u001b[34m██        \u001b[0m| 2/10 [00:00<00:01,  5.43it/s]\n",
      " 30%|\u001b[34m███       \u001b[0m| 3/10 [00:00<00:01,  5.46it/s]\n",
      "\u001b[36m(DefaultActor pid=28962)\u001b[0m /tmp/ipykernel_28156/3044491048.py:10: FutureWarning: You are using `torch.load` with `weights_only=False` (the current default value), which uses the default pickle module implicitly. It is possible to construct malicious pickle data which will execute arbitrary code during unpickling (See https://github.com/pytorch/pytorch/blob/main/SECURITY.md#untrusted-models for more details). In a future release, the default value for `weights_only` will be flipped to `True`. This limits the functions that could be executed during unpickling. Arbitrary objects will no longer be allowed to be loaded via this mode unless they are explicitly allowlisted by the user via `torch.serialization.add_safe_globals`. We recommend you start setting `weights_only=True` for any use case where you don't have full control of the loaded file. Please open an issue on GitHub for any issues related to this experimental feature.\u001b[32m [repeated 11x across cluster]\u001b[0m\n",
      "  0%|\u001b[34m          \u001b[0m| 0/10 [00:00<?, ?it/s]\u001b[32m [repeated 4x across cluster]\u001b[0m\n",
      " 80%|\u001b[34m████████  \u001b[0m| 8/10 [00:01<00:00,  5.39it/s]\n",
      " 40%|\u001b[34m████      \u001b[0m| 4/10 [00:00<00:01,  5.46it/s]\n",
      " 90%|\u001b[34m█████████ \u001b[0m| 9/10 [00:01<00:00,  5.43it/s]\n",
      " 50%|\u001b[34m█████     \u001b[0m| 5/10 [00:00<00:00,  5.51it/s]\n",
      "100%|\u001b[34m██████████\u001b[0m| 10/10 [00:01<00:00,  5.35it/s]\n",
      " 60%|\u001b[34m██████    \u001b[0m| 6/10 [00:01<00:00,  5.54it/s]\n",
      " 70%|\u001b[34m███████   \u001b[0m| 7/10 [00:01<00:00,  5.53it/s]\n",
      " 80%|\u001b[34m████████  \u001b[0m| 8/10 [00:01<00:00,  6.36it/s]\n",
      " 90%|\u001b[34m█████████ \u001b[0m| 9/10 [00:01<00:00,  5.94it/s]\n",
      "100%|\u001b[34m██████████\u001b[0m| 10/10 [00:01<00:00,  5.96it/s]\n",
      "DEBUG flwr 2024-08-31 21:52:44,012 | server.py:236 | fit_round 36 received 4 results and 0 failures\n",
      "INFO flwr 2024-08-31 21:52:44,079 | server.py:125 | fit progress: (36, 2.2752564136798563, {'accuracy': 73.5576923076923}, 226.36836074099983)\n",
      "DEBUG flwr 2024-08-31 21:52:44,080 | server.py:173 | evaluate_round 36: strategy sampled 4 clients (out of 4)\n"
     ]
    },
    {
     "name": "stdout",
     "output_type": "stream",
     "text": [
      "Saving round 36 aggregated_parameters...\n",
      "Updated model\n",
      "Server-side evaluation loss 2.2752564136798563 / accuracy 73.5576923076923\n",
      "\u001b[36m(DefaultActor pid=28961)\u001b[0m  To get the checkpoint\u001b[32m [repeated 4x across cluster]\u001b[0m\n",
      "\u001b[36m(DefaultActor pid=28962)\u001b[0m [Client 0, round 36] fit, config: {'learning_rate': 0.003, 'batch_size': '16', 'server_round': 36, 'local_epochs': 10}\u001b[32m [repeated 3x across cluster]\u001b[0m\n",
      "\u001b[36m(DefaultActor pid=28961)\u001b[0m Updated model\u001b[32m [repeated 4x across cluster]\u001b[0m\n",
      "\u001b[36m(DefaultActor pid=28962)\u001b[0m \tTrain Epoch: 10 \tTrain_loss: 0.0587 | Train_acc: 98.4375 % | Validation_loss: 2.3241 | Validation_acc: 59.3750 %\u001b[32m [repeated 40x across cluster]\u001b[0m\n",
      "\u001b[36m(DefaultActor pid=28961)\u001b[0m [Client 2] evaluate, config: {}\n",
      "\u001b[36m(DefaultActor pid=28962)\u001b[0m [Client 1] evaluate, config: {}\n"
     ]
    },
    {
     "name": "stderr",
     "output_type": "stream",
     "text": [
      "\u001b[36m(DefaultActor pid=28961)\u001b[0m   return torch.load(io.BytesIO(b))\n",
      "\u001b[36m(DefaultActor pid=28962)\u001b[0m   return torch.load(io.BytesIO(b))\n",
      "\u001b[36m(DefaultActor pid=28961)\u001b[0m /opt/conda/envs/fed/lib/python3.10/site-packages/sklearn/metrics/_ranking.py:1183: UndefinedMetricWarning: No positive samples in y_true, true positive value should be meaningless\n",
      "\u001b[36m(DefaultActor pid=28961)\u001b[0m   warnings.warn(\n",
      "DEBUG flwr 2024-08-31 21:52:45,421 | server.py:187 | evaluate_round 36 received 4 results and 0 failures\n",
      "DEBUG flwr 2024-08-31 21:52:45,423 | server.py:222 | fit_round 37: strategy sampled 4 clients (out of 4)\n",
      " 10%|\u001b[34m█         \u001b[0m| 1/10 [00:00<00:01,  5.74it/s]\n",
      " 10%|\u001b[34m█         \u001b[0m| 1/10 [00:00<00:01,  5.45it/s]\n",
      " 20%|\u001b[34m██        \u001b[0m| 2/10 [00:00<00:01,  4.87it/s]\n",
      " 20%|\u001b[34m██        \u001b[0m| 2/10 [00:00<00:01,  4.17it/s]\n"
     ]
    },
    {
     "name": "stdout",
     "output_type": "stream",
     "text": [
      "\u001b[36m(DefaultActor pid=28962)\u001b[0m save graph in  results/FL/\u001b[32m [repeated 4x across cluster]\u001b[0m\n"
     ]
    },
    {
     "name": "stderr",
     "output_type": "stream",
     "text": [
      " 30%|\u001b[34m███       \u001b[0m| 3/10 [00:00<00:01,  5.22it/s]\n",
      " 30%|\u001b[34m███       \u001b[0m| 3/10 [00:00<00:01,  4.73it/s]\n",
      " 40%|\u001b[34m████      \u001b[0m| 4/10 [00:00<00:01,  5.33it/s]\n",
      " 40%|\u001b[34m████      \u001b[0m| 4/10 [00:00<00:01,  4.78it/s]\n",
      " 50%|\u001b[34m█████     \u001b[0m| 5/10 [00:00<00:00,  5.30it/s]\n",
      " 50%|\u001b[34m█████     \u001b[0m| 5/10 [00:01<00:01,  4.95it/s]\n",
      " 60%|\u001b[34m██████    \u001b[0m| 6/10 [00:01<00:00,  5.28it/s]\n",
      " 60%|\u001b[34m██████    \u001b[0m| 6/10 [00:01<00:00,  5.09it/s]\n",
      " 70%|\u001b[34m███████   \u001b[0m| 7/10 [00:01<00:00,  5.21it/s]\n",
      " 70%|\u001b[34m███████   \u001b[0m| 7/10 [00:01<00:00,  5.04it/s]\n",
      " 80%|\u001b[34m████████  \u001b[0m| 8/10 [00:01<00:00,  5.17it/s]\n",
      " 80%|\u001b[34m████████  \u001b[0m| 8/10 [00:01<00:00,  5.14it/s]\n",
      " 90%|\u001b[34m█████████ \u001b[0m| 9/10 [00:01<00:00,  5.31it/s]\n",
      " 90%|\u001b[34m█████████ \u001b[0m| 9/10 [00:01<00:00,  5.10it/s]\n",
      "100%|\u001b[34m██████████\u001b[0m| 10/10 [00:01<00:00,  5.28it/s]\n",
      "100%|\u001b[34m██████████\u001b[0m| 10/10 [00:02<00:00,  5.00it/s]\n",
      "\u001b[36m(DefaultActor pid=28961)\u001b[0m /tmp/ipykernel_28156/3044491048.py:10: FutureWarning: You are using `torch.load` with `weights_only=False` (the current default value), which uses the default pickle module implicitly. It is possible to construct malicious pickle data which will execute arbitrary code during unpickling (See https://github.com/pytorch/pytorch/blob/main/SECURITY.md#untrusted-models for more details). In a future release, the default value for `weights_only` will be flipped to `True`. This limits the functions that could be executed during unpickling. Arbitrary objects will no longer be allowed to be loaded via this mode unless they are explicitly allowlisted by the user via `torch.serialization.add_safe_globals`. We recommend you start setting `weights_only=True` for any use case where you don't have full control of the loaded file. Please open an issue on GitHub for any issues related to this experimental feature.\u001b[32m [repeated 11x across cluster]\u001b[0m\n",
      "  0%|\u001b[34m          \u001b[0m| 0/10 [00:00<?, ?it/s]\u001b[32m [repeated 3x across cluster]\u001b[0m\n",
      " 10%|\u001b[34m█         \u001b[0m| 1/10 [00:00<00:01,  4.63it/s]\n",
      " 10%|\u001b[34m█         \u001b[0m| 1/10 [00:00<00:02,  4.09it/s]\n",
      " 20%|\u001b[34m██        \u001b[0m| 2/10 [00:00<00:01,  4.52it/s]\n",
      " 20%|\u001b[34m██        \u001b[0m| 2/10 [00:00<00:01,  4.87it/s]\n",
      " 30%|\u001b[34m███       \u001b[0m| 3/10 [00:00<00:01,  4.84it/s]\n",
      " 30%|\u001b[34m███       \u001b[0m| 3/10 [00:00<00:01,  5.16it/s]\n",
      " 40%|\u001b[34m████      \u001b[0m| 4/10 [00:00<00:01,  5.07it/s]\n",
      " 40%|\u001b[34m████      \u001b[0m| 4/10 [00:00<00:01,  5.20it/s]\n",
      " 50%|\u001b[34m█████     \u001b[0m| 5/10 [00:00<00:00,  5.25it/s]\n",
      " 50%|\u001b[34m█████     \u001b[0m| 5/10 [00:00<00:00,  5.28it/s]\n",
      " 60%|\u001b[34m██████    \u001b[0m| 6/10 [00:01<00:00,  5.37it/s]\n",
      " 60%|\u001b[34m██████    \u001b[0m| 6/10 [00:01<00:00,  5.32it/s]\n",
      " 70%|\u001b[34m███████   \u001b[0m| 7/10 [00:01<00:00,  5.41it/s]\n",
      " 70%|\u001b[34m███████   \u001b[0m| 7/10 [00:01<00:00,  5.11it/s]\n",
      " 80%|\u001b[34m████████  \u001b[0m| 8/10 [00:01<00:00,  5.11it/s]\n"
     ]
    },
    {
     "name": "stdout",
     "output_type": "stream",
     "text": [
      "\u001b[36m(DefaultActor pid=28962)\u001b[0m  To get the checkpoint\u001b[32m [repeated 7x across cluster]\u001b[0m\n",
      "\u001b[36m(DefaultActor pid=28962)\u001b[0m [Client 1, round 37] fit, config: {'learning_rate': 0.003, 'batch_size': '16', 'server_round': 37, 'local_epochs': 10}\u001b[32m [repeated 4x across cluster]\u001b[0m\n",
      "\u001b[36m(DefaultActor pid=28962)\u001b[0m Updated model\u001b[32m [repeated 7x across cluster]\u001b[0m\n",
      "\u001b[36m(DefaultActor pid=28962)\u001b[0m \tTrain Epoch: 7 \tTrain_loss: 0.1971 | Train_acc: 94.2708 % | Validation_loss: 0.5221 | Validation_acc: 90.6250 %\u001b[32m [repeated 34x across cluster]\u001b[0m\n",
      "\u001b[36m(DefaultActor pid=28962)\u001b[0m [Client 0] evaluate, config: {}\u001b[32m [repeated 2x across cluster]\u001b[0m\n"
     ]
    },
    {
     "name": "stderr",
     "output_type": "stream",
     "text": [
      " 80%|\u001b[34m████████  \u001b[0m| 8/10 [00:01<00:00,  4.97it/s]\n",
      " 90%|\u001b[34m█████████ \u001b[0m| 9/10 [00:01<00:00,  5.13it/s]\n",
      "100%|\u001b[34m██████████\u001b[0m| 10/10 [00:02<00:00,  4.98it/s]\n",
      " 90%|\u001b[34m█████████ \u001b[0m| 9/10 [00:01<00:00,  4.63it/s]\n",
      "100%|\u001b[34m██████████\u001b[0m| 10/10 [00:02<00:00,  4.97it/s]\n",
      "\u001b[36m(DefaultActor pid=28962)\u001b[0m   return torch.load(io.BytesIO(b))\u001b[32m [repeated 2x across cluster]\u001b[0m\n",
      "DEBUG flwr 2024-08-31 21:52:50,119 | server.py:236 | fit_round 37 received 4 results and 0 failures\n",
      "INFO flwr 2024-08-31 21:52:50,164 | server.py:125 | fit progress: (37, 2.151502169095553, {'accuracy': 73.5576923076923}, 232.45351875899996)\n",
      "DEBUG flwr 2024-08-31 21:52:50,165 | server.py:173 | evaluate_round 37: strategy sampled 4 clients (out of 4)\n"
     ]
    },
    {
     "name": "stdout",
     "output_type": "stream",
     "text": [
      "Saving round 37 aggregated_parameters...\n",
      "Updated model\n",
      "Server-side evaluation loss 2.151502169095553 / accuracy 73.5576923076923\n"
     ]
    },
    {
     "name": "stderr",
     "output_type": "stream",
     "text": [
      "\u001b[36m(DefaultActor pid=28962)\u001b[0m /opt/conda/envs/fed/lib/python3.10/site-packages/sklearn/metrics/_ranking.py:1183: UndefinedMetricWarning: No positive samples in y_true, true positive value should be meaningless\n",
      "\u001b[36m(DefaultActor pid=28962)\u001b[0m   warnings.warn(\n",
      "DEBUG flwr 2024-08-31 21:52:51,347 | server.py:187 | evaluate_round 37 received 4 results and 0 failures\n",
      "DEBUG flwr 2024-08-31 21:52:51,348 | server.py:222 | fit_round 38: strategy sampled 4 clients (out of 4)\n"
     ]
    },
    {
     "name": "stdout",
     "output_type": "stream",
     "text": [
      "\u001b[36m(DefaultActor pid=28962)\u001b[0m save graph in  results/FL/\u001b[32m [repeated 4x across cluster]\u001b[0m\n"
     ]
    },
    {
     "name": "stderr",
     "output_type": "stream",
     "text": [
      " 10%|\u001b[34m█         \u001b[0m| 1/10 [00:00<00:01,  5.04it/s]\n",
      " 10%|\u001b[34m█         \u001b[0m| 1/10 [00:00<00:01,  5.21it/s]\n",
      " 20%|\u001b[34m██        \u001b[0m| 2/10 [00:00<00:01,  5.35it/s]\n",
      " 20%|\u001b[34m██        \u001b[0m| 2/10 [00:00<00:01,  5.12it/s]\n",
      " 30%|\u001b[34m███       \u001b[0m| 3/10 [00:00<00:01,  4.96it/s]\n",
      " 30%|\u001b[34m███       \u001b[0m| 3/10 [00:00<00:01,  4.61it/s]\n",
      " 40%|\u001b[34m████      \u001b[0m| 4/10 [00:00<00:01,  4.59it/s]\n",
      " 40%|\u001b[34m████      \u001b[0m| 4/10 [00:00<00:01,  4.85it/s]\n",
      " 50%|\u001b[34m█████     \u001b[0m| 5/10 [00:01<00:01,  4.78it/s]\n",
      " 50%|\u001b[34m█████     \u001b[0m| 5/10 [00:01<00:01,  4.39it/s]\n",
      " 60%|\u001b[34m██████    \u001b[0m| 6/10 [00:01<00:00,  5.01it/s]\n",
      " 60%|\u001b[34m██████    \u001b[0m| 6/10 [00:01<00:00,  4.73it/s]\n",
      " 70%|\u001b[34m███████   \u001b[0m| 7/10 [00:01<00:00,  5.18it/s]\n",
      "\u001b[36m(DefaultActor pid=28962)\u001b[0m /tmp/ipykernel_28156/3044491048.py:10: FutureWarning: You are using `torch.load` with `weights_only=False` (the current default value), which uses the default pickle module implicitly. It is possible to construct malicious pickle data which will execute arbitrary code during unpickling (See https://github.com/pytorch/pytorch/blob/main/SECURITY.md#untrusted-models for more details). In a future release, the default value for `weights_only` will be flipped to `True`. This limits the functions that could be executed during unpickling. Arbitrary objects will no longer be allowed to be loaded via this mode unless they are explicitly allowlisted by the user via `torch.serialization.add_safe_globals`. We recommend you start setting `weights_only=True` for any use case where you don't have full control of the loaded file. Please open an issue on GitHub for any issues related to this experimental feature.\u001b[32m [repeated 11x across cluster]\u001b[0m\n",
      "  0%|\u001b[34m          \u001b[0m| 0/10 [00:00<?, ?it/s]\u001b[32m [repeated 3x across cluster]\u001b[0m\n",
      " 70%|\u001b[34m███████   \u001b[0m| 7/10 [00:01<00:00,  4.91it/s]\n",
      " 80%|\u001b[34m████████  \u001b[0m| 8/10 [00:01<00:00,  5.28it/s]\n",
      " 80%|\u001b[34m████████  \u001b[0m| 8/10 [00:01<00:00,  5.02it/s]\n",
      " 90%|\u001b[34m█████████ \u001b[0m| 9/10 [00:01<00:00,  5.32it/s]\n",
      " 90%|\u001b[34m█████████ \u001b[0m| 9/10 [00:01<00:00,  5.13it/s]\n",
      "100%|\u001b[34m██████████\u001b[0m| 10/10 [00:01<00:00,  5.12it/s]\n",
      "100%|\u001b[34m██████████\u001b[0m| 10/10 [00:02<00:00,  4.95it/s]\n",
      " 10%|\u001b[34m█         \u001b[0m| 1/10 [00:00<00:01,  5.16it/s]\n",
      " 10%|\u001b[34m█         \u001b[0m| 1/10 [00:00<00:01,  5.66it/s]\n",
      " 20%|\u001b[34m██        \u001b[0m| 2/10 [00:00<00:01,  5.51it/s]\n",
      " 20%|\u001b[34m██        \u001b[0m| 2/10 [00:00<00:01,  5.69it/s]\n",
      " 30%|\u001b[34m███       \u001b[0m| 3/10 [00:00<00:01,  5.50it/s]\n",
      " 30%|\u001b[34m███       \u001b[0m| 3/10 [00:00<00:01,  5.51it/s]\n"
     ]
    },
    {
     "name": "stdout",
     "output_type": "stream",
     "text": [
      "\u001b[36m(DefaultActor pid=28962)\u001b[0m  To get the checkpoint\u001b[32m [repeated 8x across cluster]\u001b[0m\n",
      "\u001b[36m(DefaultActor pid=28962)\u001b[0m [Client 0, round 38] fit, config: {'learning_rate': 0.003, 'batch_size': '16', 'server_round': 38, 'local_epochs': 10}\u001b[32m [repeated 4x across cluster]\u001b[0m\n",
      "\u001b[36m(DefaultActor pid=28962)\u001b[0m Updated model\u001b[32m [repeated 8x across cluster]\u001b[0m\n",
      "\u001b[36m(DefaultActor pid=28961)\u001b[0m \tTrain Epoch: 3 \tTrain_loss: 0.1111 | Train_acc: 96.3542 % | Validation_loss: 1.7632 | Validation_acc: 62.5000 %\u001b[32m [repeated 31x across cluster]\u001b[0m\n",
      "\u001b[36m(DefaultActor pid=28962)\u001b[0m [Client 3] evaluate, config: {}\u001b[32m [repeated 4x across cluster]\u001b[0m\n"
     ]
    },
    {
     "name": "stderr",
     "output_type": "stream",
     "text": [
      " 40%|\u001b[34m████      \u001b[0m| 4/10 [00:00<00:01,  4.95it/s]\n",
      " 40%|\u001b[34m████      \u001b[0m| 4/10 [00:00<00:01,  4.86it/s]\n",
      " 50%|\u001b[34m█████     \u001b[0m| 5/10 [00:01<00:01,  4.34it/s]\n",
      "\u001b[36m(DefaultActor pid=28962)\u001b[0m   return torch.load(io.BytesIO(b))\u001b[32m [repeated 4x across cluster]\u001b[0m\n",
      " 50%|\u001b[34m█████     \u001b[0m| 5/10 [00:01<00:01,  4.62it/s]\n",
      " 60%|\u001b[34m██████    \u001b[0m| 6/10 [00:01<00:00,  4.14it/s]\n",
      " 60%|\u001b[34m██████    \u001b[0m| 6/10 [00:01<00:01,  3.76it/s]\n",
      " 70%|\u001b[34m███████   \u001b[0m| 7/10 [00:01<00:00,  4.41it/s]\n",
      " 70%|\u001b[34m███████   \u001b[0m| 7/10 [00:01<00:00,  4.18it/s]\n",
      " 80%|\u001b[34m████████  \u001b[0m| 8/10 [00:01<00:00,  4.53it/s]\n",
      " 80%|\u001b[34m████████  \u001b[0m| 8/10 [00:01<00:00,  4.66it/s]\n",
      " 90%|\u001b[34m█████████ \u001b[0m| 9/10 [00:02<00:00,  4.10it/s]\n",
      " 90%|\u001b[34m█████████ \u001b[0m| 9/10 [00:01<00:00,  4.35it/s]\n",
      "100%|\u001b[34m██████████\u001b[0m| 10/10 [00:02<00:00,  4.42it/s]\n",
      "100%|\u001b[34m██████████\u001b[0m| 10/10 [00:02<00:00,  4.61it/s]\n",
      "DEBUG flwr 2024-08-31 21:52:56,211 | server.py:236 | fit_round 38 received 4 results and 0 failures\n",
      "INFO flwr 2024-08-31 21:52:56,248 | server.py:125 | fit progress: (38, 2.2316920252946706, {'accuracy': 74.51923076923077}, 238.53739729400013)\n",
      "DEBUG flwr 2024-08-31 21:52:56,249 | server.py:173 | evaluate_round 38: strategy sampled 4 clients (out of 4)\n"
     ]
    },
    {
     "name": "stdout",
     "output_type": "stream",
     "text": [
      "Saving round 38 aggregated_parameters...\n",
      "Updated model\n",
      "Server-side evaluation loss 2.2316920252946706 / accuracy 74.51923076923077\n",
      "\u001b[36m(DefaultActor pid=28962)\u001b[0m save graph in  results/FL/\u001b[32m [repeated 4x across cluster]\u001b[0m\n"
     ]
    },
    {
     "name": "stderr",
     "output_type": "stream",
     "text": [
      "\u001b[36m(DefaultActor pid=28962)\u001b[0m /opt/conda/envs/fed/lib/python3.10/site-packages/sklearn/metrics/_ranking.py:1183: UndefinedMetricWarning: No positive samples in y_true, true positive value should be meaningless\n",
      "\u001b[36m(DefaultActor pid=28962)\u001b[0m   warnings.warn(\n",
      "DEBUG flwr 2024-08-31 21:52:57,512 | server.py:187 | evaluate_round 38 received 4 results and 0 failures\n",
      "DEBUG flwr 2024-08-31 21:52:57,513 | server.py:222 | fit_round 39: strategy sampled 4 clients (out of 4)\n",
      " 10%|\u001b[34m█         \u001b[0m| 1/10 [00:00<00:01,  5.26it/s]\n",
      " 10%|\u001b[34m█         \u001b[0m| 1/10 [00:00<00:01,  5.10it/s]\n",
      " 20%|\u001b[34m██        \u001b[0m| 2/10 [00:00<00:01,  5.48it/s]\n",
      "\u001b[36m(DefaultActor pid=28962)\u001b[0m /tmp/ipykernel_28156/3044491048.py:10: FutureWarning: You are using `torch.load` with `weights_only=False` (the current default value), which uses the default pickle module implicitly. It is possible to construct malicious pickle data which will execute arbitrary code during unpickling (See https://github.com/pytorch/pytorch/blob/main/SECURITY.md#untrusted-models for more details). In a future release, the default value for `weights_only` will be flipped to `True`. This limits the functions that could be executed during unpickling. Arbitrary objects will no longer be allowed to be loaded via this mode unless they are explicitly allowlisted by the user via `torch.serialization.add_safe_globals`. We recommend you start setting `weights_only=True` for any use case where you don't have full control of the loaded file. Please open an issue on GitHub for any issues related to this experimental feature.\u001b[32m [repeated 12x across cluster]\u001b[0m\n",
      "  0%|\u001b[34m          \u001b[0m| 0/10 [00:00<?, ?it/s]\u001b[32m [repeated 4x across cluster]\u001b[0m\n",
      " 20%|\u001b[34m██        \u001b[0m| 2/10 [00:00<00:01,  5.38it/s]\n",
      " 30%|\u001b[34m███       \u001b[0m| 3/10 [00:00<00:01,  5.54it/s]\n",
      " 30%|\u001b[34m███       \u001b[0m| 3/10 [00:00<00:01,  5.27it/s]\n",
      " 40%|\u001b[34m████      \u001b[0m| 4/10 [00:00<00:01,  5.60it/s]\n",
      " 40%|\u001b[34m████      \u001b[0m| 4/10 [00:00<00:01,  5.33it/s]\n",
      " 50%|\u001b[34m█████     \u001b[0m| 5/10 [00:00<00:00,  5.32it/s]\n",
      " 50%|\u001b[34m█████     \u001b[0m| 5/10 [00:00<00:00,  5.52it/s]\n",
      " 60%|\u001b[34m██████    \u001b[0m| 6/10 [00:01<00:00,  5.34it/s]\n",
      " 60%|\u001b[34m██████    \u001b[0m| 6/10 [00:01<00:00,  4.61it/s]\n",
      " 70%|\u001b[34m███████   \u001b[0m| 7/10 [00:01<00:00,  5.39it/s]\n",
      " 70%|\u001b[34m███████   \u001b[0m| 7/10 [00:01<00:00,  4.83it/s]\n",
      " 80%|\u001b[34m████████  \u001b[0m| 8/10 [00:01<00:00,  5.35it/s]\n",
      " 80%|\u001b[34m████████  \u001b[0m| 8/10 [00:01<00:00,  5.06it/s]\n",
      " 90%|\u001b[34m█████████ \u001b[0m| 9/10 [00:01<00:00,  5.40it/s]\n",
      " 90%|\u001b[34m█████████ \u001b[0m| 9/10 [00:01<00:00,  5.16it/s]\n"
     ]
    },
    {
     "name": "stdout",
     "output_type": "stream",
     "text": [
      "\u001b[36m(DefaultActor pid=28962)\u001b[0m  To get the checkpoint\u001b[32m [repeated 6x across cluster]\u001b[0m\n",
      "\u001b[36m(DefaultActor pid=28962)\u001b[0m [Client 1, round 39] fit, config: {'learning_rate': 0.003, 'batch_size': '16', 'server_round': 39, 'local_epochs': 10}\u001b[32m [repeated 2x across cluster]\u001b[0m\n",
      "\u001b[36m(DefaultActor pid=28962)\u001b[0m Updated model\u001b[32m [repeated 6x across cluster]\u001b[0m\n",
      "\u001b[36m(DefaultActor pid=28961)\u001b[0m \tTrain Epoch: 9 \tTrain_loss: 0.1853 | Train_acc: 94.7917 % | Validation_loss: 3.4325 | Validation_acc: 62.5000 %\u001b[32m [repeated 33x across cluster]\u001b[0m\n",
      "\u001b[36m(DefaultActor pid=28962)\u001b[0m [Client 3] evaluate, config: {}\u001b[32m [repeated 4x across cluster]\u001b[0m\n"
     ]
    },
    {
     "name": "stderr",
     "output_type": "stream",
     "text": [
      "100%|\u001b[34m██████████\u001b[0m| 10/10 [00:01<00:00,  5.41it/s]\n",
      "100%|\u001b[34m██████████\u001b[0m| 10/10 [00:01<00:00,  5.17it/s]\n",
      "\u001b[36m(DefaultActor pid=28962)\u001b[0m   return torch.load(io.BytesIO(b))\u001b[32m [repeated 4x across cluster]\u001b[0m\n",
      " 10%|\u001b[34m█         \u001b[0m| 1/10 [00:00<00:01,  5.45it/s]\n",
      " 10%|\u001b[34m█         \u001b[0m| 1/10 [00:00<00:01,  4.99it/s]\n",
      " 20%|\u001b[34m██        \u001b[0m| 2/10 [00:00<00:01,  4.87it/s]\n",
      " 20%|\u001b[34m██        \u001b[0m| 2/10 [00:00<00:01,  4.46it/s]\n",
      " 30%|\u001b[34m███       \u001b[0m| 3/10 [00:00<00:01,  4.83it/s]\n",
      " 30%|\u001b[34m███       \u001b[0m| 3/10 [00:00<00:01,  4.37it/s]\n",
      " 40%|\u001b[34m████      \u001b[0m| 4/10 [00:00<00:01,  4.74it/s]\n",
      " 40%|\u001b[34m████      \u001b[0m| 4/10 [00:00<00:01,  4.70it/s]\n",
      " 50%|\u001b[34m█████     \u001b[0m| 5/10 [00:01<00:01,  4.61it/s]\n",
      " 50%|\u001b[34m█████     \u001b[0m| 5/10 [00:01<00:01,  4.33it/s]\n",
      " 60%|\u001b[34m██████    \u001b[0m| 6/10 [00:01<00:00,  4.95it/s]\n",
      " 60%|\u001b[34m██████    \u001b[0m| 6/10 [00:01<00:00,  4.69it/s]\n",
      " 70%|\u001b[34m███████   \u001b[0m| 7/10 [00:01<00:00,  5.15it/s]\n",
      " 70%|\u001b[34m███████   \u001b[0m| 7/10 [00:01<00:00,  4.91it/s]\n",
      " 80%|\u001b[34m████████  \u001b[0m| 8/10 [00:01<00:00,  5.23it/s]\n",
      " 80%|\u001b[34m████████  \u001b[0m| 8/10 [00:01<00:00,  5.10it/s]\n",
      " 90%|\u001b[34m█████████ \u001b[0m| 9/10 [00:01<00:00,  5.34it/s]\n",
      " 90%|\u001b[34m█████████ \u001b[0m| 9/10 [00:01<00:00,  5.21it/s]\n",
      "100%|\u001b[34m██████████\u001b[0m| 10/10 [00:01<00:00,  5.11it/s]\n",
      "100%|\u001b[34m██████████\u001b[0m| 10/10 [00:02<00:00,  4.90it/s]\n",
      "DEBUG flwr 2024-08-31 21:53:02,091 | server.py:236 | fit_round 39 received 4 results and 0 failures\n",
      "INFO flwr 2024-08-31 21:53:02,129 | server.py:125 | fit progress: (39, 2.282435962787041, {'accuracy': 72.11538461538461}, 244.41880139900013)\n",
      "DEBUG flwr 2024-08-31 21:53:02,130 | server.py:173 | evaluate_round 39: strategy sampled 4 clients (out of 4)\n"
     ]
    },
    {
     "name": "stdout",
     "output_type": "stream",
     "text": [
      "Saving round 39 aggregated_parameters...\n",
      "Updated model\n",
      "Server-side evaluation loss 2.282435962787041 / accuracy 72.11538461538461\n",
      "\u001b[36m(DefaultActor pid=28962)\u001b[0m save graph in  results/FL/\u001b[32m [repeated 4x across cluster]\u001b[0m\n"
     ]
    },
    {
     "name": "stderr",
     "output_type": "stream",
     "text": [
      "\u001b[36m(DefaultActor pid=28961)\u001b[0m /opt/conda/envs/fed/lib/python3.10/site-packages/sklearn/metrics/_ranking.py:1183: UndefinedMetricWarning: No positive samples in y_true, true positive value should be meaningless\n",
      "\u001b[36m(DefaultActor pid=28961)\u001b[0m   warnings.warn(\n",
      "DEBUG flwr 2024-08-31 21:53:03,406 | server.py:187 | evaluate_round 39 received 4 results and 0 failures\n",
      "DEBUG flwr 2024-08-31 21:53:03,407 | server.py:222 | fit_round 40: strategy sampled 4 clients (out of 4)\n",
      "\u001b[36m(DefaultActor pid=28961)\u001b[0m /tmp/ipykernel_28156/3044491048.py:10: FutureWarning: You are using `torch.load` with `weights_only=False` (the current default value), which uses the default pickle module implicitly. It is possible to construct malicious pickle data which will execute arbitrary code during unpickling (See https://github.com/pytorch/pytorch/blob/main/SECURITY.md#untrusted-models for more details). In a future release, the default value for `weights_only` will be flipped to `True`. This limits the functions that could be executed during unpickling. Arbitrary objects will no longer be allowed to be loaded via this mode unless they are explicitly allowlisted by the user via `torch.serialization.add_safe_globals`. We recommend you start setting `weights_only=True` for any use case where you don't have full control of the loaded file. Please open an issue on GitHub for any issues related to this experimental feature.\u001b[32m [repeated 10x across cluster]\u001b[0m\n",
      "  0%|\u001b[34m          \u001b[0m| 0/10 [00:00<?, ?it/s]\u001b[32m [repeated 3x across cluster]\u001b[0m\n",
      " 10%|\u001b[34m█         \u001b[0m| 1/10 [00:00<00:01,  5.06it/s]\n",
      " 10%|\u001b[34m█         \u001b[0m| 1/10 [00:00<00:01,  5.17it/s]\n",
      " 20%|\u001b[34m██        \u001b[0m| 2/10 [00:00<00:01,  5.35it/s]\n",
      " 20%|\u001b[34m██        \u001b[0m| 2/10 [00:00<00:01,  5.53it/s]\n",
      " 30%|\u001b[34m███       \u001b[0m| 3/10 [00:00<00:01,  5.46it/s]\n",
      " 30%|\u001b[34m███       \u001b[0m| 3/10 [00:00<00:01,  5.57it/s]\n",
      " 40%|\u001b[34m████      \u001b[0m| 4/10 [00:00<00:01,  5.57it/s]\n",
      " 40%|\u001b[34m████      \u001b[0m| 4/10 [00:00<00:01,  5.56it/s]\n",
      " 50%|\u001b[34m█████     \u001b[0m| 5/10 [00:00<00:00,  5.44it/s]\n"
     ]
    },
    {
     "name": "stdout",
     "output_type": "stream",
     "text": [
      "\u001b[36m(DefaultActor pid=28962)\u001b[0m  To get the checkpoint\u001b[32m [repeated 8x across cluster]\u001b[0m\n",
      "\u001b[36m(DefaultActor pid=28962)\u001b[0m [Client 3, round 40] fit, config: {'learning_rate': 0.003, 'batch_size': '16', 'server_round': 40, 'local_epochs': 10}\u001b[32m [repeated 4x across cluster]\u001b[0m\n",
      "\u001b[36m(DefaultActor pid=28962)\u001b[0m Updated model\u001b[32m [repeated 8x across cluster]\u001b[0m\n",
      "\u001b[36m(DefaultActor pid=28961)\u001b[0m \tTrain Epoch: 5 \tTrain_loss: 0.0853 | Train_acc: 98.4375 % | Validation_loss: 0.2729 | Validation_acc: 96.8750 %\u001b[32m [repeated 31x across cluster]\u001b[0m\n",
      "\u001b[36m(DefaultActor pid=28962)\u001b[0m [Client 1] evaluate, config: {}\u001b[32m [repeated 4x across cluster]\u001b[0m\n"
     ]
    },
    {
     "name": "stderr",
     "output_type": "stream",
     "text": [
      " 50%|\u001b[34m█████     \u001b[0m| 5/10 [00:00<00:00,  5.47it/s]\n",
      " 60%|\u001b[34m██████    \u001b[0m| 6/10 [00:01<00:00,  5.51it/s]\n",
      " 60%|\u001b[34m██████    \u001b[0m| 6/10 [00:01<00:00,  5.53it/s]\n",
      " 70%|\u001b[34m███████   \u001b[0m| 7/10 [00:01<00:00,  5.44it/s]\n",
      " 70%|\u001b[34m███████   \u001b[0m| 7/10 [00:01<00:00,  5.40it/s]\n",
      " 80%|\u001b[34m████████  \u001b[0m| 8/10 [00:01<00:00,  5.16it/s]\n",
      "\u001b[36m(DefaultActor pid=28962)\u001b[0m   return torch.load(io.BytesIO(b))\u001b[32m [repeated 4x across cluster]\u001b[0m\n",
      " 80%|\u001b[34m████████  \u001b[0m| 8/10 [00:01<00:00,  5.16it/s]\n",
      " 90%|\u001b[34m█████████ \u001b[0m| 9/10 [00:01<00:00,  4.82it/s]\n",
      " 90%|\u001b[34m█████████ \u001b[0m| 9/10 [00:01<00:00,  4.55it/s]\n",
      "100%|\u001b[34m██████████\u001b[0m| 10/10 [00:01<00:00,  5.16it/s]\n",
      "100%|\u001b[34m██████████\u001b[0m| 10/10 [00:01<00:00,  5.12it/s]\n",
      " 10%|\u001b[34m█         \u001b[0m| 1/10 [00:00<00:02,  3.28it/s]\n",
      " 10%|\u001b[34m█         \u001b[0m| 1/10 [00:00<00:02,  3.30it/s]\n",
      " 20%|\u001b[34m██        \u001b[0m| 2/10 [00:00<00:02,  3.95it/s]\n",
      " 20%|\u001b[34m██        \u001b[0m| 2/10 [00:00<00:01,  4.31it/s]\n",
      " 30%|\u001b[34m███       \u001b[0m| 3/10 [00:00<00:01,  4.33it/s]\n",
      " 30%|\u001b[34m███       \u001b[0m| 3/10 [00:00<00:01,  4.76it/s]\n",
      " 40%|\u001b[34m████      \u001b[0m| 4/10 [00:00<00:01,  4.69it/s]\n",
      " 40%|\u001b[34m████      \u001b[0m| 4/10 [00:00<00:01,  4.99it/s]\n",
      " 50%|\u001b[34m█████     \u001b[0m| 5/10 [00:01<00:01,  4.83it/s]\n",
      " 50%|\u001b[34m█████     \u001b[0m| 5/10 [00:01<00:00,  5.22it/s]\n",
      " 60%|\u001b[34m██████    \u001b[0m| 6/10 [00:01<00:00,  4.95it/s]\n",
      " 60%|\u001b[34m██████    \u001b[0m| 6/10 [00:01<00:00,  5.31it/s]\n",
      " 70%|\u001b[34m███████   \u001b[0m| 7/10 [00:01<00:00,  4.54it/s]\n",
      " 70%|\u001b[34m███████   \u001b[0m| 7/10 [00:01<00:00,  4.40it/s]\n"
     ]
    },
    {
     "name": "stdout",
     "output_type": "stream",
     "text": [
      "\u001b[36m(DefaultActor pid=28962)\u001b[0m save graph in  results/FL/\u001b[32m [repeated 2x across cluster]\u001b[0m\n"
     ]
    },
    {
     "name": "stderr",
     "output_type": "stream",
     "text": [
      " 80%|\u001b[34m████████  \u001b[0m| 8/10 [00:01<00:00,  4.51it/s]\n",
      " 80%|\u001b[34m████████  \u001b[0m| 8/10 [00:01<00:00,  4.64it/s]\n",
      " 90%|\u001b[34m█████████ \u001b[0m| 9/10 [00:01<00:00,  4.72it/s]\n",
      " 90%|\u001b[34m█████████ \u001b[0m| 9/10 [00:01<00:00,  4.85it/s]\n",
      "100%|\u001b[34m██████████\u001b[0m| 10/10 [00:02<00:00,  4.62it/s]\n",
      "100%|\u001b[34m██████████\u001b[0m| 10/10 [00:02<00:00,  4.81it/s]\n",
      "DEBUG flwr 2024-08-31 21:53:08,254 | server.py:236 | fit_round 40 received 4 results and 0 failures\n",
      "INFO flwr 2024-08-31 21:53:08,292 | server.py:125 | fit progress: (40, 2.3972880381804247, {'accuracy': 75.48076923076923}, 250.58098133500016)\n",
      "DEBUG flwr 2024-08-31 21:53:08,292 | server.py:173 | evaluate_round 40: strategy sampled 4 clients (out of 4)\n"
     ]
    },
    {
     "name": "stdout",
     "output_type": "stream",
     "text": [
      "Saving round 40 aggregated_parameters...\n",
      "Updated model\n",
      "Server-side evaluation loss 2.3972880381804247 / accuracy 75.48076923076923\n"
     ]
    },
    {
     "name": "stderr",
     "output_type": "stream",
     "text": [
      "\u001b[36m(DefaultActor pid=28962)\u001b[0m /opt/conda/envs/fed/lib/python3.10/site-packages/sklearn/metrics/_ranking.py:1183: UndefinedMetricWarning: No positive samples in y_true, true positive value should be meaningless\n",
      "\u001b[36m(DefaultActor pid=28962)\u001b[0m   warnings.warn(\n",
      "\u001b[36m(DefaultActor pid=28962)\u001b[0m /tmp/ipykernel_28156/3044491048.py:10: FutureWarning: You are using `torch.load` with `weights_only=False` (the current default value), which uses the default pickle module implicitly. It is possible to construct malicious pickle data which will execute arbitrary code during unpickling (See https://github.com/pytorch/pytorch/blob/main/SECURITY.md#untrusted-models for more details). In a future release, the default value for `weights_only` will be flipped to `True`. This limits the functions that could be executed during unpickling. Arbitrary objects will no longer be allowed to be loaded via this mode unless they are explicitly allowlisted by the user via `torch.serialization.add_safe_globals`. We recommend you start setting `weights_only=True` for any use case where you don't have full control of the loaded file. Please open an issue on GitHub for any issues related to this experimental feature.\u001b[32m [repeated 6x across cluster]\u001b[0m\n",
      "  0%|\u001b[34m          \u001b[0m| 0/10 [00:00<?, ?it/s]\u001b[32m [repeated 3x across cluster]\u001b[0m\n"
     ]
    },
    {
     "name": "stdout",
     "output_type": "stream",
     "text": [
      "\u001b[36m(DefaultActor pid=28962)\u001b[0m  To get the checkpoint\u001b[32m [repeated 6x across cluster]\u001b[0m\n",
      "\u001b[36m(DefaultActor pid=28962)\u001b[0m [Client 2, round 40] fit, config: {'learning_rate': 0.003, 'batch_size': '16', 'server_round': 40, 'local_epochs': 10}\u001b[32m [repeated 2x across cluster]\u001b[0m\n",
      "\u001b[36m(DefaultActor pid=28962)\u001b[0m Updated model\u001b[32m [repeated 6x across cluster]\u001b[0m\n",
      "\u001b[36m(DefaultActor pid=28962)\u001b[0m \tTrain Epoch: 10 \tTrain_loss: 0.0119 | Train_acc: 100.0000 % | Validation_loss: 1.2765 | Validation_acc: 84.3750 %\u001b[32m [repeated 31x across cluster]\u001b[0m\n",
      "\u001b[36m(DefaultActor pid=28962)\u001b[0m [Client 1] evaluate, config: {}\u001b[32m [repeated 4x across cluster]\u001b[0m\n"
     ]
    },
    {
     "name": "stderr",
     "output_type": "stream",
     "text": [
      "DEBUG flwr 2024-08-31 21:53:09,845 | server.py:187 | evaluate_round 40 received 4 results and 0 failures\n",
      "INFO flwr 2024-08-31 21:53:09,846 | server.py:153 | FL finished in 252.1354333600002\n",
      "INFO flwr 2024-08-31 21:53:09,847 | app.py:225 | app_fit: losses_distributed [(1, 1.8499093651771545), (2, 1.7316786497831345), (3, 1.7476115375757217), (4, 1.7791992276906967), (5, 1.7079288512468338), (6, 1.7409895360469818), (7, 1.7976647913455963), (8, 1.9609934091567993), (9, 1.8403097838163376), (10, 1.8081308454275131), (11, 1.5745463073253632), (12, 1.5826745480298996), (13, 1.441558375954628), (14, 1.424908496439457), (15, 1.3465874046087265), (16, 1.3909329995512962), (17, 1.1864166110754013), (18, 1.3964041247963905), (19, 1.3075417429208755), (20, 1.4256554916501045), (21, 1.1968174576759338), (22, 1.0501651391386986), (23, 1.0747848963364959), (24, 1.0615496346727014), (25, 1.0089088240638375), (26, 1.0363249722868204), (27, 0.8573696140665561), (28, 0.9072444322519004), (29, 0.9380013060290366), (30, 0.926503396476619), (31, 0.953143305843696), (32, 1.0947044328786433), (33, 0.8901725136674941), (34, 0.9395415737526491), (35, 0.9460586127825081), (36, 1.0080922985944198), (37, 1.062239870429039), (38, 1.1316933573689312), (39, 0.7673403744120151), (40, 0.9548567926831311)]\n",
      "INFO flwr 2024-08-31 21:53:09,848 | app.py:226 | app_fit: metrics_distributed_fit {}\n",
      "INFO flwr 2024-08-31 21:53:09,849 | app.py:227 | app_fit: metrics_distributed {'accuracy': [(1, 32.8125), (2, 38.28125), (3, 30.46875), (4, 25.78125), (5, 26.5625), (6, 26.5625), (7, 35.9375), (8, 26.5625), (9, 33.59375), (10, 31.25), (11, 38.28125), (12, 43.75), (13, 47.65625), (14, 53.90625), (15, 53.90625), (16, 48.4375), (17, 61.71875), (18, 58.59375), (19, 58.59375), (20, 56.25), (21, 64.84375), (22, 67.1875), (23, 69.53125), (24, 63.28125), (25, 70.3125), (26, 68.75), (27, 76.5625), (28, 75.0), (29, 78.90625), (30, 69.53125), (31, 76.5625), (32, 78.90625), (33, 79.6875), (34, 78.125), (35, 82.03125), (36, 79.6875), (37, 79.6875), (38, 81.25), (39, 82.03125), (40, 82.8125)]}\n",
      "INFO flwr 2024-08-31 21:53:09,849 | app.py:228 | app_fit: losses_centralized [(0, 1.9338745428965642), (1, 1.8502054031078632), (2, 1.8007106230809138), (3, 1.8097097598589384), (4, 1.8823731862581694), (5, 1.7184223303428063), (6, 1.6627702529613788), (7, 1.6556029869959905), (8, 1.7984094252953162), (9, 1.6531162903859065), (10, 1.6845348890011127), (11, 1.4802006299679096), (12, 1.4151195654502282), (13, 1.2741875556799083), (14, 1.3144573936095605), (15, 1.2404100757378798), (16, 1.3037279569185698), (17, 1.2953436053716219), (18, 1.37273612847695), (19, 1.351674653016604), (20, 1.4977382329794078), (21, 1.396280410198065), (22, 1.4516604015460381), (23, 1.543654549580354), (24, 1.4266154651458447), (25, 1.3647405253006861), (26, 1.7194400544349964), (27, 1.6953219931859236), (28, 1.6392201712498298), (29, 1.9312533231881948), (30, 1.8054241492198064), (31, 1.7744245139452128), (32, 1.926578129713352), (33, 1.8749010104399462), (34, 2.093437373638153), (35, 2.269951011125858), (36, 2.2752564136798563), (37, 2.151502169095553), (38, 2.2316920252946706), (39, 2.282435962787041), (40, 2.3972880381804247)]\n",
      "INFO flwr 2024-08-31 21:53:09,850 | app.py:229 | app_fit: metrics_centralized {'accuracy': [(0, 21.153846153846153), (1, 27.403846153846157), (2, 31.25), (3, 25.48076923076923), (4, 26.442307692307693), (5, 30.76923076923077), (6, 40.38461538461539), (7, 38.46153846153847), (8, 33.65384615384615), (9, 42.78846153846153), (10, 43.75), (11, 51.442307692307686), (12, 56.730769230769226), (13, 62.019230769230774), (14, 60.57692307692307), (15, 61.53846153846154), (16, 58.17307692307693), (17, 64.42307692307693), (18, 63.46153846153846), (19, 63.46153846153846), (20, 62.5), (21, 67.3076923076923), (22, 70.1923076923077), (23, 70.67307692307693), (24, 69.71153846153845), (25, 72.11538461538461), (26, 70.1923076923077), (27, 70.67307692307693), (28, 73.07692307692307), (29, 74.03846153846155), (30, 70.1923076923077), (31, 73.5576923076923), (32, 72.59615384615384), (33, 72.11538461538461), (34, 74.03846153846155), (35, 72.59615384615384), (36, 73.5576923076923), (37, 73.5576923076923), (38, 74.51923076923077), (39, 72.11538461538461), (40, 75.48076923076923)]}\n"
     ]
    },
    {
     "name": "stdout",
     "output_type": "stream",
     "text": [
      "Simulation Time = 255.61065220832825 seconds\n"
     ]
    }
   ],
   "source": [
    "import warnings\n",
    "warnings.simplefilter(\"ignore\")\n",
    "\n",
    "print(\"flwr\", fl.__version__)\n",
    "print(\"numpy\", np.__version__)\n",
    "print(\"torch\", torch.__version__)\n",
    "print(\"torchvision\", torchvision.__version__)\n",
    "print(f\"Training on {DEVICE}\")\n",
    "\n",
    "client_resources = None\n",
    "\n",
    "if DEVICE.type == \"cuda\":\n",
    "    client_resources = {\"num_gpus\": 1}\n",
    "\n",
    "model_save = model_save\n",
    "path_yaml = yaml_path\n",
    "path_roc = roc_path\n",
    "results_save = save_results\n",
    "path_matrix = matrix_path\n",
    "batch_size = batch_size\n",
    "\n",
    "print(\"Start simulation\")\n",
    "start_simulation = time.time()\n",
    "fl.simulation.start_simulation(\n",
    "    client_fn=client_fn,\n",
    "    num_clients=number_clients,\n",
    "    config=fl.server.ServerConfig(num_rounds=rounds),\n",
    "    strategy=strategy,\n",
    "    client_resources=client_resources\n",
    ")\n",
    "print(f\"Simulation Time = {time.time() - start_simulation} seconds\")"
   ]
  }
 ],
 "metadata": {
  "kernelspec": {
   "display_name": "Python 3 (ipykernel)",
   "language": "python",
   "name": "python3"
  },
  "language_info": {
   "codemirror_mode": {
    "name": "ipython",
    "version": 3
   },
   "file_extension": ".py",
   "mimetype": "text/x-python",
   "name": "python",
   "nbconvert_exporter": "python",
   "pygments_lexer": "ipython3",
   "version": "3.10.12"
  }
 },
 "nbformat": 4,
 "nbformat_minor": 4
}

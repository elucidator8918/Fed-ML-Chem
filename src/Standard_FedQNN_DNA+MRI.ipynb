{
 "cells": [
  {
   "cell_type": "markdown",
   "metadata": {},
   "source": [
    "### Import necessary libraries and modules"
   ]
  },
  {
   "cell_type": "code",
   "execution_count": 2,
   "metadata": {},
   "outputs": [],
   "source": [
    "# %%bash\n",
    "\n",
    "# kaggle datasets download -d nageshsingh/dna-sequence-dataset\n",
    "# mkdir data data/DNA\n",
    "# unzip dna-sequence-dataset.zip -d data/DNA\n",
    "# rm dna-sequence-dataset.zip\n",
    "\n",
    "# kaggle datasets download -d masoudnickparvar/brain-tumor-mri-dataset\n",
    "# mkdir -p data/MRI\n",
    "# unzip brain-tumor-mri-dataset.zip -d data/MRI\n",
    "# rm brain-tumor-mri-dataset.zip"
   ]
  },
  {
   "cell_type": "code",
   "execution_count": 3,
   "metadata": {},
   "outputs": [],
   "source": [
    "import os\n",
    "import pickle\n",
    "import time\n",
    "from collections import OrderedDict\n",
    "from typing import (\n",
    "    List, Tuple, Dict, Optional, Callable, Union\n",
    ")\n",
    "\n",
    "import numpy as np\n",
    "import torchvision\n",
    "import torch\n",
    "from torch import nn\n",
    "import torch.nn.functional as F\n",
    "import flwr as fl\n",
    "from flwr.common import (\n",
    "    Metrics, EvaluateIns, EvaluateRes, FitIns, FitRes, MetricsAggregationFn, \n",
    "    Scalar, logger, ndarrays_to_parameters, parameters_to_ndarrays,\n",
    "    Parameters, NDArrays\n",
    ")\n",
    "from flwr.server.client_proxy import ClientProxy\n",
    "from flwr.server.client_manager import ClientManager\n",
    "from flwr.server.strategy.aggregate import aggregate, weighted_loss_avg\n",
    "from logging import WARNING\n",
    "import pennylane as qml\n",
    "\n",
    "from utils import *\n",
    "\n",
    "os.environ['TOKENIZERS_PARALLELISM'] = 'false'"
   ]
  },
  {
   "cell_type": "markdown",
   "metadata": {},
   "source": [
    "### Model Architecture Creation"
   ]
  },
  {
   "cell_type": "code",
   "execution_count": 5,
   "metadata": {},
   "outputs": [],
   "source": [
    "# Quantum device definitions for MRI and DNA\n",
    "mri_n_qubits = 4\n",
    "dna_n_qubits = 7\n",
    "n_layers = 6\n",
    "\n",
    "mri_dev = qml.device(\"default.qubit.torch\", wires=mri_n_qubits)\n",
    "dna_dev = qml.device(\"default.qubit.torch\", wires=dna_n_qubits)\n",
    "\n",
    "# Quantum networks\n",
    "@qml.qnode(mri_dev, interface='torch')\n",
    "def mri_quantum_net(inputs, weights):\n",
    "    qml.AngleEmbedding(inputs, wires=range(mri_n_qubits))\n",
    "    qml.BasicEntanglerLayers(weights, wires=range(mri_n_qubits))\n",
    "    return [qml.expval(qml.PauliZ(i)) for i in range(mri_n_qubits)]\n",
    "\n",
    "@qml.qnode(dna_dev, interface='torch')\n",
    "def dna_quantum_net(inputs, weights):\n",
    "    qml.AngleEmbedding(inputs, wires=range(dna_n_qubits))\n",
    "    qml.BasicEntanglerLayers(weights, wires=range(dna_n_qubits))\n",
    "    return [qml.expval(qml.PauliZ(i)) for i in range(dna_n_qubits)]\n",
    "\n",
    "# Define weight shapes for the quantum networks\n",
    "mri_weight_shapes = {\"weights\": (n_layers, mri_n_qubits)}\n",
    "dna_weight_shapes = {\"weights\": (n_layers, dna_n_qubits)}\n",
    "\n",
    "# Define the MRI network\n",
    "class MRINet(nn.Module):\n",
    "    def __init__(self):\n",
    "        super(MRINet, self).__init__()\n",
    "        self.features = nn.Sequential(\n",
    "            nn.Conv2d(3, 16, kernel_size=3, padding=1),\n",
    "            nn.ReLU(inplace=True),\n",
    "            nn.MaxPool2d(kernel_size=2, stride=2),\n",
    "            nn.Conv2d(16, 32, kernel_size=3, padding=1),\n",
    "            nn.ReLU(inplace=True),\n",
    "            nn.MaxPool2d(kernel_size=2, stride=2)\n",
    "        )\n",
    "        self.classifier = nn.Sequential(\n",
    "            nn.Linear(32 * 56 * 56, 128),\n",
    "            nn.ReLU(inplace=True),\n",
    "            nn.Linear(128, mri_n_qubits),\n",
    "            qml.qnn.TorchLayer(mri_quantum_net, mri_weight_shapes)\n",
    "        )\n",
    "\n",
    "    def forward(self, x):\n",
    "        x = self.features(x)\n",
    "        x = x.view(x.size(0), -1)\n",
    "        x = self.classifier(x)\n",
    "        return x\n",
    "\n",
    "class DNANet(nn.Module):\n",
    "    def __init__(self):\n",
    "        super(DNANet, self).__init__()\n",
    "        self.fc1 = nn.Linear(384, 512)\n",
    "        self.relu = nn.LeakyReLU(negative_slope=0.01)\n",
    "        self.fc2 = nn.Linear(512, 256)\n",
    "        self.fc3 = nn.Linear(256, 128)\n",
    "        self.fc4 = nn.Linear(128, dna_n_qubits)\n",
    "        self.qnn = qml.qnn.TorchLayer(dna_quantum_net, dna_weight_shapes)\n",
    "        self.dropout = nn.Dropout(p=0.5)\n",
    "\n",
    "    def forward(self, x):\n",
    "        x = self.fc1(x)\n",
    "        x = self.relu(x)\n",
    "        x = self.fc2(x)\n",
    "        x = self.relu(x)\n",
    "        x = self.fc3(x)\n",
    "        x = self.relu(x)\n",
    "        x = self.fc4(x)\n",
    "        x = self.qnn(x)\n",
    "        return x\n",
    "\n",
    "class Net(nn.Module):\n",
    "    def __init__(self, num_classes_mri, num_classes_dna):\n",
    "        super(Net, self).__init__()\n",
    "        self.mri_net = MRINet()\n",
    "        self.dna_net = DNANet()\n",
    "        \n",
    "        self.feature_dim = mri_n_qubits + dna_n_qubits\n",
    "        self.num_heads = mri_n_qubits + dna_n_qubits\n",
    "        \n",
    "        self.attention = nn.MultiheadAttention(embed_dim=self.feature_dim, num_heads=self.num_heads)\n",
    "        \n",
    "        self.fc1 = nn.Linear(mri_n_qubits + dna_n_qubits, 128)\n",
    "        self.fc2_mri = nn.Linear(128, num_classes_mri)\n",
    "        self.fc2_dna = nn.Linear(128, num_classes_dna)\n",
    "        \n",
    "    def forward(self, mri_input, dna_input):\n",
    "        mri_features = self.mri_net(mri_input)\n",
    "        dna_features = self.dna_net(dna_input)\n",
    "        combined_features = torch.cat((mri_features, dna_features), dim=1)\n",
    "        combined_features = combined_features.unsqueeze(0)\n",
    "        attn_output, _ = self.attention(combined_features, combined_features, combined_features)\n",
    "        attn_output = attn_output.squeeze(0)\n",
    "        \n",
    "        x = F.relu(self.fc1(attn_output))\n",
    "        mri_output = self.fc2_mri(x)\n",
    "        dna_output = self.fc2_dna(x)\n",
    "        return mri_output, dna_output"
   ]
  },
  {
   "cell_type": "markdown",
   "metadata": {},
   "source": [
    "### Define the FlowerClient class for federated learning"
   ]
  },
  {
   "cell_type": "code",
   "execution_count": null,
   "metadata": {},
   "outputs": [],
   "source": [
    "class FlowerClient(fl.client.NumPyClient):\n",
    "    def __init__(self, cid, net, trainloader, valloader, device, batch_size, save_results, matrix_path, roc_path,\n",
    "                 yaml_path, classes):\n",
    "        self.net = net\n",
    "        self.trainloader = trainloader\n",
    "        self.valloader = valloader\n",
    "        self.cid = cid\n",
    "        self.device = device\n",
    "        self.batch_size = batch_size\n",
    "        self.save_results = save_results\n",
    "        self.matrix_path = matrix_path\n",
    "        self.roc_path = roc_path\n",
    "        self.yaml_path = yaml_path\n",
    "        self.classes = classes\n",
    "\n",
    "    def get_parameters(self, config):\n",
    "        print(f\"[Client {self.cid}] get_parameters\")\n",
    "        return get_parameters2(self.net)\n",
    "\n",
    "    def fit(self, parameters, config):\n",
    "        server_round = config['server_round']\n",
    "        local_epochs = config['local_epochs']\n",
    "        lr = float(config[\"learning_rate\"])\n",
    "\n",
    "        print(f'[Client {self.cid}, round {server_round}] fit, config: {config}')\n",
    "\n",
    "        set_parameters(self.net, parameters)\n",
    "\n",
    "        criterion_mri = torch.nn.CrossEntropyLoss()\n",
    "        criterion_dna = torch.nn.CrossEntropyLoss()\n",
    "        optimizer = torch.optim.Adam(self.net.parameters(), lr=lr)\n",
    "\n",
    "        results = engine.train(self.net, self.trainloader, self.valloader, optimizer=optimizer, loss_fn=(criterion_mri, criterion_dna),\n",
    "                               epochs=local_epochs, device=self.device, task=\"Multimodal\")\n",
    "\n",
    "        if self.save_results:\n",
    "            save_graphs_multimodal(self.save_results, local_epochs, results, f\"_Client {self.cid}\")\n",
    "\n",
    "        return get_parameters2(self.net), len(self.trainloader), {}\n",
    "\n",
    "    def evaluate(self, parameters, config):\n",
    "        print(f\"[Client {self.cid}] evaluate, config: {config}\")\n",
    "        set_parameters(self.net, parameters)\n",
    "\n",
    "        loss, accuracy, y_pred, y_true, y_proba = engine.test_multimodal_health(self.net, self.valloader,\n",
    "                                                              loss_fn=(torch.nn.CrossEntropyLoss(),torch.nn.CrossEntropyLoss()), device=self.device)\n",
    "\n",
    "        loss_mri, loss_dna = loss\n",
    "        accuracy_mri, accuracy_dna = accuracy\n",
    "        y_pred_mri, y_pred_dna = y_pred\n",
    "        y_true_mri, y_true_dna = y_true\n",
    "        y_proba_mri, y_proba_dna = y_proba\n",
    "\n",
    "        if self.save_results:\n",
    "            os.makedirs(self.save_results, exist_ok=True)\n",
    "            if self.matrix_path:\n",
    "                save_matrix(y_true_mri, y_pred_mri, self.save_results + \"MRI_\" + self.matrix_path, self.classes[0])\n",
    "                save_matrix(y_true_dna, y_pred_dna, self.save_results + \"DNA_\" + self.matrix_path, self.classes[1])\n",
    "            if self.roc_path:\n",
    "                save_roc(y_true_mri, y_proba_mri, self.save_results + \"MRI_\" + self.roc_path, len(self.classes[0]))\n",
    "                save_roc(y_true_dna, y_proba_dna, self.save_results + \"DNA_\" + self.roc_path, len(self.classes[1]))\n",
    "\n",
    "        return float(loss_mri), len(self.valloader), {\"accuracy\": float(accuracy_mri)}"
   ]
  },
  {
   "cell_type": "markdown",
   "metadata": {},
   "source": [
    "### Define the client_common function to set up the Flower client"
   ]
  },
  {
   "cell_type": "code",
   "execution_count": null,
   "metadata": {},
   "outputs": [],
   "source": [
    "def client_common(cid, model_save, path_yaml, path_roc, results_save, path_matrix,\n",
    "                  batch_size, trainloaders, valloaders, DEVICE, CLASSES):\n",
    "    trainloader = trainloaders[int(cid)]\n",
    "    valloader = valloaders[int(cid)]\n",
    "\n",
    "    net = Net(num_classes=len(CLASSES)).to(DEVICE)\n",
    "\n",
    "    if os.path.exists(model_save):\n",
    "        print(\" To get the checkpoint\")\n",
    "        checkpoint = torch.load(model_save, map_location=DEVICE)['model_state_dict']\n",
    "        net.load_state_dict(checkpoint)\n",
    "\n",
    "    return FlowerClient(cid, net, trainloader, valloader, device=DEVICE, batch_size=batch_size,\n",
    "                        matrix_path=path_matrix, roc_path=path_roc, save_results=results_save, yaml_path=path_yaml,\n",
    "                        classes=CLASSES)"
   ]
  },
  {
   "cell_type": "markdown",
   "metadata": {},
   "source": [
    "### Define utility functions for federated learning"
   ]
  },
  {
   "cell_type": "code",
   "execution_count": null,
   "metadata": {},
   "outputs": [],
   "source": [
    "def weighted_average(metrics: List[Tuple[int, Metrics]]) -> Metrics:\n",
    "    accuracies = [num_examples * m[\"accuracy\"] for num_examples, m in metrics]\n",
    "    examples = [num_examples for num_examples, _ in metrics]\n",
    "    return {\"accuracy\": sum(accuracies) / sum(examples)}\n",
    "\n",
    "def evaluate2(server_round: int, parameters: NDArrays,\n",
    "              config: Dict[str, Scalar]) -> Optional[Tuple[float, Dict[str, Scalar]]]:\n",
    "    set_parameters(central, parameters)\n",
    "    loss, accuracy, y_pred, y_true, y_proba = engine.test_multimodal_health(central, testloader, loss_fn=(torch.nn.CrossEntropyLoss(),torch.nn.CrossEntropyLoss()),\n",
    "                                                          device=DEVICE)\n",
    "    loss_mri, loss_dna = loss\n",
    "    accuracy_mri, accuracy_dna = accuracy\n",
    "    y_pred_mri, y_pred_dna = y_pred\n",
    "    y_true_mri, y_true_dna = y_true\n",
    "    y_proba_mri, y_proba_dna = y_proba\n",
    "\n",
    "    print(f\"Server-side evaluation MRI loss {loss_mri} / MRI accuracy {accuracy_mri}\")\n",
    "    print(f\"Server-side evaluation DNA loss {loss_dna} / DNA accuracy {accuracy_dna}\")\n",
    "    return (loss_mri, loss_dna), {\"accuracy\": (accuracy_mri, accuracy_dna)}\n",
    "\n",
    "def get_on_fit_config_fn(epoch=2, lr=0.001, batch_size=32) -> Callable[[int], Dict[str, str]]:\n",
    "    def fit_config(server_round: int) -> Dict[str, str]:\n",
    "        config = {\n",
    "            \"learning_rate\": str(lr),\n",
    "            \"batch_size\": str(batch_size),\n",
    "            \"server_round\": server_round,\n",
    "            \"local_epochs\": epoch\n",
    "        }\n",
    "        return config\n",
    "    return fit_config\n",
    "\n",
    "def aggreg_fit_checkpoint(server_round, aggregated_parameters, central_model, path_checkpoint):\n",
    "    if aggregated_parameters is not None:\n",
    "        print(f\"Saving round {server_round} aggregated_parameters...\")\n",
    "        aggregated_ndarrays: List[np.ndarray] = parameters_to_ndarrays(aggregated_parameters)        \n",
    "        params_dict = zip(central_model.state_dict().keys(), aggregated_ndarrays)\n",
    "        state_dict = OrderedDict({k: torch.tensor(v) for k, v in params_dict})\n",
    "        central_model.load_state_dict(state_dict, strict=True)\n",
    "        if path_checkpoint:\n",
    "            torch.save({\n",
    "                'model_state_dict': central_model.state_dict(),\n",
    "            }, path_checkpoint)"
   ]
  },
  {
   "cell_type": "markdown",
   "metadata": {},
   "source": [
    "### Define the FedCustom strategy class"
   ]
  },
  {
   "cell_type": "code",
   "execution_count": null,
   "metadata": {},
   "outputs": [],
   "source": [
    "# A Strategy from scratch with the same sampling of the clients as it is in FedAvg\n",
    "# and then change the configuration dictionary\n",
    "class FedCustom(fl.server.strategy.Strategy):\n",
    "    def __init__(\n",
    "            self,\n",
    "            fraction_fit: float = 1.0,\n",
    "            fraction_evaluate: float = 1.0,\n",
    "            min_fit_clients: int = 2,\n",
    "            min_evaluate_clients: int = 2,\n",
    "            min_available_clients: int = 2,\n",
    "            evaluate_fn: Optional[\n",
    "                    Callable[[int, NDArrays, Dict[str, Scalar]], Optional[Tuple[float, Dict[str, Scalar]]]]\n",
    "                ] = None,\n",
    "            on_fit_config_fn: Optional[Callable[[int], Dict[str, Scalar]]] = None,\n",
    "            on_evaluate_config_fn: Optional[Callable[[int], Dict[str, Scalar]]] = None,\n",
    "            accept_failures: bool = True,\n",
    "            initial_parameters: Optional[Parameters] = None,\n",
    "            fit_metrics_aggregation_fn: Optional[MetricsAggregationFn] = None,\n",
    "            evaluate_metrics_aggregation_fn: Optional[MetricsAggregationFn] = None,\n",
    "    ) -> None:\n",
    "        super().__init__()\n",
    "        self.fraction_fit = fraction_fit\n",
    "        self.fraction_evaluate = fraction_evaluate\n",
    "        self.min_fit_clients = min_fit_clients\n",
    "        self.min_evaluate_clients = min_evaluate_clients\n",
    "        self.min_available_clients = min_available_clients\n",
    "        self.evaluate_fn = evaluate_fn\n",
    "        self.on_fit_config_fn = on_fit_config_fn\n",
    "        self.on_evaluate_config_fn = on_evaluate_config_fn,\n",
    "        self.accept_failures = accept_failures\n",
    "        self.initial_parameters = initial_parameters\n",
    "        self.fit_metrics_aggregation_fn = fit_metrics_aggregation_fn\n",
    "        self.evaluate_metrics_aggregation_fn = evaluate_metrics_aggregation_fn\n",
    "\n",
    "    def __repr__(self) -> str:\n",
    "        # Same function as FedAvg(Strategy)\n",
    "        return f\"FedCustom (accept_failures={self.accept_failures})\"\n",
    "\n",
    "    def initialize_parameters(\n",
    "        self, client_manager: ClientManager\n",
    "    ) -> Optional[Parameters]:\n",
    "        \"\"\"Initialize global model parameters.\"\"\"\n",
    "        # Same function as FedAvg(Strategy)\n",
    "        initial_parameters = self.initial_parameters\n",
    "        self.initial_parameters = None  # Don't keep initial parameters in memory\n",
    "        return initial_parameters\n",
    "\n",
    "    def num_fit_clients(self, num_available_clients: int) -> Tuple[int, int]:\n",
    "        \"\"\"Return sample size and required number of clients.\"\"\"\n",
    "        # Same function as FedAvg(Strategy)\n",
    "        num_clients = int(num_available_clients * self.fraction_fit)\n",
    "        return max(num_clients, self.min_fit_clients), self.min_available_clients\n",
    "\n",
    "    def configure_fit(\n",
    "        self, server_round: int, parameters: Parameters, client_manager: ClientManager\n",
    "    ) -> List[Tuple[ClientProxy, FitIns]]:\n",
    "        \"\"\"Configure the next round of training.\"\"\"\n",
    "        # Sample clients\n",
    "        sample_size, min_num_clients = self.num_fit_clients(\n",
    "            client_manager.num_available()\n",
    "        )\n",
    "\n",
    "        clients = client_manager.sample(\n",
    "            num_clients=sample_size, min_num_clients=min_num_clients\n",
    "        )\n",
    "        # Create custom configs\n",
    "        n_clients = len(clients)\n",
    "        half_clients = n_clients // 2\n",
    "        # Custom fit config function provided\n",
    "        standard_lr = lr\n",
    "        higher_lr = 0.003\n",
    "        config = {\"server_round\": server_round, \"local_epochs\": 1}\n",
    "        if self.on_fit_config_fn is not None:\n",
    "            # Custom fit config function provided\n",
    "            config = self.on_fit_config_fn(server_round)\n",
    "\n",
    "        # fit_ins = FitIns(parameters, config)\n",
    "        # Return client/config pairs\n",
    "        fit_configurations = []\n",
    "        for idx, client in enumerate(clients):\n",
    "            config[\"learning_rate\"] = standard_lr if idx < half_clients else higher_lr\n",
    "            \"\"\"\n",
    "            Each pair of (ClientProxy, FitRes) constitutes \n",
    "            a successful update from one of the previously selected clients.\n",
    "            \"\"\"\n",
    "            fit_configurations.append(\n",
    "                (\n",
    "                    client,\n",
    "                    FitIns(\n",
    "                        parameters,\n",
    "                        config\n",
    "                    )\n",
    "                )\n",
    "            )\n",
    "        # Successful updates from the previously selected and configured clients\n",
    "        return fit_configurations\n",
    "\n",
    "    def aggregate_fit(\n",
    "        self,\n",
    "        server_round: int,\n",
    "        results: List[Tuple[ClientProxy, FitRes]],\n",
    "        failures: List[Union[Tuple[ClientProxy, FitRes], BaseException]],\n",
    "    ) -> Tuple[Optional[Parameters], Dict[str, Scalar]]:\n",
    "        \"\"\"Aggregate fit results using weighted average. (each round)\"\"\"\n",
    "        # Same function as FedAvg(Strategy)\n",
    "        if not results:\n",
    "            return None, {}\n",
    "\n",
    "        # Do not aggregate if there are failures and failures are not accepted\n",
    "        if not self.accept_failures and failures:\n",
    "            return None, {}\n",
    "\n",
    "        # Convert results parameters --> array matrix\n",
    "        weights_results = [\n",
    "            (parameters_to_ndarrays(fit_res.parameters, self.context_client), fit_res.num_examples)\n",
    "            for _, fit_res in results\n",
    "        ]\n",
    "\n",
    "        # Aggregate parameters using weighted average between the clients and convert back to parameters object (bytes)\n",
    "        parameters_aggregated = ndarrays_to_parameters(aggregate(weights_results))\n",
    "\n",
    "        metrics_aggregated = {}\n",
    "        # Aggregate custom metrics if aggregation fn was provided\n",
    "        if self.fit_metrics_aggregation_fn:\n",
    "            fit_metrics = [(res.num_examples, res.metrics) for _, res in results]\n",
    "            metrics_aggregated = self.fit_metrics_aggregation_fn(fit_metrics)\n",
    "\n",
    "        elif server_round == 1:  # Only log this warning once\n",
    "            logger.log(WARNING, \"No fit_metrics_aggregation_fn provided\")\n",
    "\n",
    "        # Same function as SaveModelStrategy(fl.server.strategy.FedAvg)\n",
    "        \"\"\"Aggregate model weights using weighted average and store checkpoint\"\"\"\n",
    "        aggreg_fit_checkpoint(server_round, parameters_aggregated, central, model_save)\n",
    "        return parameters_aggregated, metrics_aggregated\n",
    "\n",
    "    def num_evaluation_clients(self, num_available_clients: int) -> Tuple[int, int]:\n",
    "        \"\"\"Use a fraction of available clients for evaluation.\"\"\"\n",
    "        # Same function as FedAvg(Strategy)\n",
    "        num_clients = int(num_available_clients * self.fraction_evaluate)\n",
    "        return max(num_clients, self.min_evaluate_clients), self.min_available_clients\n",
    "\n",
    "    def configure_evaluate(\n",
    "        self, server_round: int, parameters: Parameters, client_manager: ClientManager\n",
    "    ) -> List[Tuple[ClientProxy, EvaluateIns]]:\n",
    "        \"\"\"Configure the next round of evaluation.\"\"\"\n",
    "        # Same function as FedAvg(Strategy)\n",
    "        # Do not configure federated evaluation if fraction eval is 0.\n",
    "        if self.fraction_evaluate == 0.0:\n",
    "            return []\n",
    "\n",
    "        # Parameters and config\n",
    "        config = {}  # {\"server_round\": server_round, \"local_epochs\": 1}\n",
    "\n",
    "        evaluate_ins = EvaluateIns(parameters, config)\n",
    "\n",
    "        # Sample clients\n",
    "        sample_size, min_num_clients = self.num_evaluation_clients(\n",
    "            client_manager.num_available()\n",
    "        )\n",
    "\n",
    "        clients = client_manager.sample(\n",
    "            num_clients=sample_size, min_num_clients=min_num_clients\n",
    "        )\n",
    "\n",
    "        # Return client/config pairs\n",
    "        # Each pair of (ClientProxy, FitRes) constitutes a successful update from one of the previously selected clients\n",
    "        return [(client, evaluate_ins) for client in clients]\n",
    "\n",
    "    def aggregate_evaluate(\n",
    "        self,\n",
    "        server_round: int,\n",
    "        results: List[Tuple[ClientProxy, EvaluateRes]],\n",
    "        failures: List[Union[Tuple[ClientProxy, EvaluateRes], BaseException]],\n",
    "    ) -> Tuple[Optional[float], Dict[str, Scalar]]:\n",
    "        \"\"\"Aggregate evaluation losses using weighted average.\"\"\"\n",
    "        # Same function as FedAvg(Strategy)\n",
    "        if not results:\n",
    "            return None, {}\n",
    "\n",
    "        # Do not aggregate if there are failures and failures are not accepted\n",
    "        if not self.accept_failures and failures:\n",
    "            return None, {}\n",
    "\n",
    "        # Aggregate loss\n",
    "        loss_aggregated = weighted_loss_avg(\n",
    "            [\n",
    "                (evaluate_res.num_examples, evaluate_res.loss)\n",
    "                for _, evaluate_res in results\n",
    "            ]\n",
    "        )\n",
    "\n",
    "        metrics_aggregated = {}\n",
    "        # Aggregate custom metrics if aggregation fn was provided\n",
    "        if self.evaluate_metrics_aggregation_fn:\n",
    "            eval_metrics = [(res.num_examples, res.metrics) for _, res in results]\n",
    "            metrics_aggregated = self.evaluate_metrics_aggregation_fn(eval_metrics)\n",
    "\n",
    "        # Only log this warning once\n",
    "        elif server_round == 1:\n",
    "            logger.log(WARNING, \"No evaluate_metrics_aggregation_fn provided\")\n",
    "\n",
    "        return loss_aggregated, metrics_aggregated\n",
    "\n",
    "    def evaluate(\n",
    "        self, server_round: int, parameters: Parameters\n",
    "    ) -> Optional[Tuple[float, Dict[str, Scalar]]]:\n",
    "        \"\"\"Evaluate global model parameters using an evaluation function.\"\"\"\n",
    "        # Same function as FedAvg(Strategy)\n",
    "        if self.evaluate_fn is None:\n",
    "            # Let's assume we won't perform the global model evaluation on the server side.\n",
    "            return None\n",
    "\n",
    "        # if we have a global model evaluation on the server side :\n",
    "        parameters_ndarrays = parameters_to_ndarrays(parameters)\n",
    "        eval_res = self.evaluate_fn(server_round, parameters_ndarrays, {})\n",
    "\n",
    "        # if you haven't results\n",
    "        if eval_res is None:\n",
    "            return None\n",
    "\n",
    "        loss, metrics = eval_res\n",
    "        return loss, metrics"
   ]
  },
  {
   "cell_type": "markdown",
   "metadata": {},
   "source": [
    "### Set up the federated learning strategy"
   ]
  },
  {
   "cell_type": "code",
   "execution_count": 10,
   "metadata": {},
   "outputs": [],
   "source": [
    "# Set up your variables directly\n",
    "data_path = 'data/'\n",
    "dataset = 'DNA+MRI'\n",
    "yaml_path = './results/FL/results.yml'\n",
    "seed = 0\n",
    "num_workers = 0\n",
    "max_epochs = 10\n",
    "batch_size = 32\n",
    "splitter = 10\n",
    "device = 'cpu'\n",
    "number_clients = 10\n",
    "save_results = 'results/FL/'\n",
    "matrix_path = 'confusion_matrix.png'\n",
    "roc_path = 'roc.png'\n",
    "model_save = 'DNA+MRI_fl.pt'\n",
    "min_fit_clients = 10\n",
    "min_avail_clients = 10\n",
    "min_eval_clients = 10\n",
    "rounds = 20\n",
    "frac_fit = 1.0\n",
    "frac_eval = 0.5\n",
    "lr = 1e-3"
   ]
  },
  {
   "cell_type": "code",
   "execution_count": 11,
   "metadata": {},
   "outputs": [],
   "source": [
    "DEVICE = torch.device(choice_device(device))\n",
    "CLASSES = classes_string(dataset)\n",
    "central = Net(len(CLASSES[0]), len(CLASSES[1])).to(DEVICE)"
   ]
  },
  {
   "cell_type": "code",
   "execution_count": 12,
   "metadata": {},
   "outputs": [],
   "source": [
    "strategy = FedCustom(\n",
    "    fraction_fit=frac_fit,\n",
    "    fraction_evaluate=frac_eval,\n",
    "    min_fit_clients=min_fit_clients,\n",
    "    min_evaluate_clients=min_eval_clients if min_eval_clients else number_clients // 2,\n",
    "    min_available_clients=min_avail_clients,\n",
    "    evaluate_metrics_aggregation_fn=weighted_average,\n",
    "    initial_parameters=ndarrays_to_parameters(get_parameters2(central)),\n",
    "    evaluate_fn=evaluate2,\n",
    "    on_fit_config_fn=get_on_fit_config_fn(epoch=max_epochs, batch_size=batch_size),\n",
    ")"
   ]
  },
  {
   "cell_type": "code",
   "execution_count": 13,
   "metadata": {},
   "outputs": [
    {
     "name": "stdout",
     "output_type": "stream",
     "text": [
      "DNA+MRI\n",
      "The training set is created for the classes: \n",
      "('glioma', 'meningioma', 'notumor', 'pituitary')\n",
      "('0', '1', '2', '3', '4', '5', '6')\n"
     ]
    }
   ],
   "source": [
    "trainloaders, valloaders, testloader = data_setup.load_datasets(num_clients=number_clients,\n",
    "                                                                batch_size=batch_size,\n",
    "                                                                resize=224,\n",
    "                                                                seed=seed,\n",
    "                                                                num_workers=num_workers,\n",
    "                                                                splitter=splitter,\n",
    "                                                                dataset=dataset,  # Use the specified dataset\n",
    "                                                                data_path=data_path,\n",
    "                                                                data_path_val=None)  # Use the same path for validation data\n",
    "\n",
    "def client_fn(cid: str) -> FlowerClient:\n",
    "    return client_common(cid,\n",
    "                         model_save, path_yaml, path_roc, results_save, path_matrix,\n",
    "                         batch_size, trainloaders, valloaders, DEVICE, CLASSES)"
   ]
  },
  {
   "cell_type": "markdown",
   "metadata": {},
   "source": [
    "### Define the client_fn function and set up the simulation"
   ]
  },
  {
   "cell_type": "code",
   "execution_count": null,
   "metadata": {},
   "outputs": [
    {
     "name": "stderr",
     "output_type": "stream",
     "text": [
      "INFO flwr 2024-08-05 10:58:49,032 | app.py:145 | Starting Flower simulation, config: ServerConfig(num_rounds=20, round_timeout=None)\n"
     ]
    },
    {
     "name": "stdout",
     "output_type": "stream",
     "text": [
      "flwr 1.5.0\n",
      "numpy 1.26.4\n",
      "torch 2.1.2\n",
      "torchvision 0.16.2\n",
      "Training on cuda:0\n",
      "Start simulation\n"
     ]
    },
    {
     "name": "stderr",
     "output_type": "stream",
     "text": [
      "2024-08-05 10:58:53,444\tINFO worker.py:1724 -- Started a local Ray instance.\n",
      "INFO flwr 2024-08-05 10:58:54,638 | app.py:179 | Flower VCE: Ray initialized with resources: {'CPU': 4.0, 'accelerator_type:T4': 1.0, 'GPU': 2.0, 'object_store_memory': 8766210048.0, 'memory': 17532420096.0, 'node:__internal_head__': 1.0, 'node:172.19.2.2': 1.0}\n",
      "INFO flwr 2024-08-05 10:58:54,639 | server.py:89 | Initializing global parameters\n",
      "INFO flwr 2024-08-05 10:58:54,640 | server.py:272 | Using initial parameters provided by strategy\n",
      "INFO flwr 2024-08-05 10:58:54,641 | server.py:91 | Evaluating initial parameters\n"
     ]
    },
    {
     "name": "stdout",
     "output_type": "stream",
     "text": [
      "Updated model\n"
     ]
    },
    {
     "name": "stderr",
     "output_type": "stream",
     "text": [
      "INFO flwr 2024-08-05 10:59:00,863 | server.py:94 | initial parameters (loss, other metrics): (1.4025067687034607, 1.9554920835154397), {'accuracy': (22.172619047619047, 11.011904761904763)}\n",
      "INFO flwr 2024-08-05 10:59:00,864 | server.py:104 | FL starting\n",
      "DEBUG flwr 2024-08-05 10:59:00,865 | server.py:222 | fit_round 1: strategy sampled 10 clients (out of 10)\n"
     ]
    },
    {
     "name": "stdout",
     "output_type": "stream",
     "text": [
      "Server-side evaluation MRI loss 1.4025067687034607 / MRI accuracy 22.172619047619047\n",
      "Server-side evaluation DNA loss 1.9554920835154397 / DNA accuracy 11.011904761904763\n",
      "\u001b[36m(launch_and_fit pid=427)\u001b[0m Run WITHOUT homomorphic encryption\n"
     ]
    },
    {
     "name": "stderr",
     "output_type": "stream",
     "text": [
      "  0%|\u001b[34m          \u001b[0m| 0/10 [00:00<?, ?it/s]\n"
     ]
    },
    {
     "name": "stdout",
     "output_type": "stream",
     "text": [
      "\u001b[36m(launch_and_fit pid=427)\u001b[0m [Client 7, round 1] fit, config: {'learning_rate': 0.003, 'batch_size': '32', 'server_round': 1, 'local_epochs': 10}\n",
      "\u001b[36m(launch_and_fit pid=427)\u001b[0m Updated model\n"
     ]
    },
    {
     "name": "stderr",
     "output_type": "stream",
     "text": [
      " 10%|\u001b[34m█         \u001b[0m| 1/10 [00:04<00:42,  4.73s/it]\n"
     ]
    },
    {
     "name": "stdout",
     "output_type": "stream",
     "text": [
      "\u001b[36m(launch_and_fit pid=427)\u001b[0m \tTrain Epoch: 1 \tTrain_loss_mri: 1.3947 | Train_acc_mri: 23.0440 | Train_loss_dna: 1.9217 | Train_acc_dna: 21.8519 | Validation_loss_mri: 1.3986 | Validation_acc_mri: 12.5000 | Validation_loss_dna: 1.8209 | Validation_acc_dna: 50.5208\n",
      "\u001b[36m(launch_and_fit pid=429)\u001b[0m Run WITHOUT homomorphic encryption\n"
     ]
    },
    {
     "name": "stderr",
     "output_type": "stream",
     "text": [
      "  0%|\u001b[34m          \u001b[0m| 0/10 [00:00<?, ?it/s]\n"
     ]
    },
    {
     "name": "stdout",
     "output_type": "stream",
     "text": [
      "\u001b[36m(launch_and_fit pid=429)\u001b[0m [Client 9, round 1] fit, config: {'learning_rate': 0.003, 'batch_size': '32', 'server_round': 1, 'local_epochs': 10}\n",
      "\u001b[36m(launch_and_fit pid=429)\u001b[0m Updated model\n"
     ]
    },
    {
     "name": "stderr",
     "output_type": "stream",
     "text": [
      " 30%|\u001b[34m███       \u001b[0m| 3/10 [00:12<00:28,  4.00s/it]\u001b[32m [repeated 4x across cluster] (Ray deduplicates logs by default. Set RAY_DEDUP_LOGS=0 to disable log deduplication, or see https://docs.ray.io/en/master/ray-observability/ray-logging.html#log-deduplication for more options.)\u001b[0m\n"
     ]
    },
    {
     "name": "stdout",
     "output_type": "stream",
     "text": [
      "\u001b[36m(launch_and_fit pid=429)\u001b[0m \tTrain Epoch: 3 \tTrain_loss_mri: 1.3803 | Train_acc_mri: 30.6956 | Train_loss_dna: 1.7992 | Train_acc_dna: 32.2883 | Validation_loss_mri: 1.3709 | Validation_acc_mri: 32.2917 | Validation_loss_dna: 1.7080 | Validation_acc_dna: 33.8542\u001b[32m [repeated 4x across cluster]\u001b[0m\n"
     ]
    },
    {
     "name": "stderr",
     "output_type": "stream",
     "text": [
      " 50%|\u001b[34m█████     \u001b[0m| 5/10 [00:19<00:19,  3.91s/it]\u001b[32m [repeated 4x across cluster]\u001b[0m\n"
     ]
    },
    {
     "name": "stdout",
     "output_type": "stream",
     "text": [
      "\u001b[36m(launch_and_fit pid=429)\u001b[0m \tTrain Epoch: 5 \tTrain_loss_mri: 1.3794 | Train_acc_mri: 30.7157 | Train_loss_dna: 1.7860 | Train_acc_dna: 32.3488 | Validation_loss_mri: 1.3714 | Validation_acc_mri: 32.2917 | Validation_loss_dna: 1.7031 | Validation_acc_dna: 33.8542\u001b[32m [repeated 4x across cluster]\u001b[0m\n"
     ]
    },
    {
     "name": "stderr",
     "output_type": "stream",
     "text": [
      " 70%|\u001b[34m███████   \u001b[0m| 7/10 [00:27<00:11,  3.94s/it]\u001b[32m [repeated 4x across cluster]\u001b[0m\n"
     ]
    },
    {
     "name": "stdout",
     "output_type": "stream",
     "text": [
      "\u001b[36m(launch_and_fit pid=429)\u001b[0m \tTrain Epoch: 7 \tTrain_loss_mri: 1.3768 | Train_acc_mri: 30.7157 | Train_loss_dna: 1.7587 | Train_acc_dna: 32.2681 | Validation_loss_mri: 1.3732 | Validation_acc_mri: 32.2917 | Validation_loss_dna: 1.7260 | Validation_acc_dna: 33.8542\u001b[32m [repeated 4x across cluster]\u001b[0m\n"
     ]
    },
    {
     "name": "stderr",
     "output_type": "stream",
     "text": [
      " 90%|\u001b[34m█████████ \u001b[0m| 9/10 [00:35<00:03,  3.92s/it]\u001b[32m [repeated 4x across cluster]\u001b[0m\n"
     ]
    },
    {
     "name": "stdout",
     "output_type": "stream",
     "text": [
      "\u001b[36m(launch_and_fit pid=429)\u001b[0m \tTrain Epoch: 9 \tTrain_loss_mri: 1.3769 | Train_acc_mri: 30.6653 | Train_loss_dna: 1.7381 | Train_acc_dna: 33.5685 | Validation_loss_mri: 1.3960 | Validation_acc_mri: 32.2917 | Validation_loss_dna: 1.8232 | Validation_acc_dna: 29.1667\u001b[32m [repeated 4x across cluster]\u001b[0m\n",
      "\u001b[36m(launch_and_fit pid=429)\u001b[0m save graph in  results/FL/\n",
      "\u001b[36m(launch_and_fit pid=502)\u001b[0m Run WITHOUT homomorphic encryption\n",
      "\u001b[36m(launch_and_fit pid=427)\u001b[0m \tTrain Epoch: 10 \tTrain_loss_mri: 1.3844 | Train_acc_mri: 27.6505 | Train_loss_dna: 1.8568 | Train_acc_dna: 26.3426 | Validation_loss_mri: 1.4127 | Validation_acc_mri: 3.1250 | Validation_loss_dna: 1.6652 | Validation_acc_dna: 50.5208\u001b[32m [repeated 3x across cluster]\u001b[0m\n",
      "\u001b[36m(launch_and_fit pid=427)\u001b[0m save graph in  results/FL/\n",
      "\u001b[36m(launch_and_fit pid=502)\u001b[0m [Client 6, round 1] fit, config: {'learning_rate': 0.003, 'batch_size': '32', 'server_round': 1, 'local_epochs': 10}\n",
      "\u001b[36m(launch_and_fit pid=502)\u001b[0m Updated model\n"
     ]
    },
    {
     "name": "stderr",
     "output_type": "stream",
     "text": [
      "  0%|\u001b[34m          \u001b[0m| 0/10 [00:00<?, ?it/s]\n",
      "100%|\u001b[34m██████████\u001b[0m| 10/10 [00:40<00:00,  4.01s/it]\u001b[32m [repeated 3x across cluster]\u001b[0m\n"
     ]
    },
    {
     "name": "stdout",
     "output_type": "stream",
     "text": [
      "\u001b[36m(launch_and_fit pid=527)\u001b[0m Run WITHOUT homomorphic encryption\n",
      "\u001b[36m(launch_and_fit pid=527)\u001b[0m \tTrain Epoch: 1 \tTrain_loss_mri: 1.3973 | Train_acc_mri: 18.7847 | Train_loss_dna: 1.9224 | Train_acc_dna: 18.5301 | Validation_loss_mri: 1.4110 | Validation_acc_mri: 10.9375 | Validation_loss_dna: 1.8739 | Validation_acc_dna: 32.2917\u001b[32m [repeated 2x across cluster]\u001b[0m\n",
      "\u001b[36m(launch_and_fit pid=527)\u001b[0m [Client 1, round 1] fit, config: {'learning_rate': 0.003, 'batch_size': '32', 'server_round': 1, 'local_epochs': 10}\n",
      "\u001b[36m(launch_and_fit pid=527)\u001b[0m Updated model\n"
     ]
    },
    {
     "name": "stderr",
     "output_type": "stream",
     "text": [
      "  0%|\u001b[34m          \u001b[0m| 0/10 [00:00<?, ?it/s]\n",
      " 10%|\u001b[34m█         \u001b[0m| 1/10 [00:04<00:39,  4.43s/it]\u001b[32m [repeated 2x across cluster]\u001b[0m\n"
     ]
    },
    {
     "name": "stdout",
     "output_type": "stream",
     "text": [
      "\u001b[36m(launch_and_fit pid=502)\u001b[0m \tTrain Epoch: 3 \tTrain_loss_mri: 1.3846 | Train_acc_mri: 29.7222 | Train_loss_dna: 1.7729 | Train_acc_dna: 36.7130 | Validation_loss_mri: 1.4057 | Validation_acc_mri: 17.1875 | Validation_loss_dna: 1.8216 | Validation_acc_dna: 30.7292\u001b[32m [repeated 3x across cluster]\u001b[0m\n"
     ]
    },
    {
     "name": "stderr",
     "output_type": "stream",
     "text": [
      " 30%|\u001b[34m███       \u001b[0m| 3/10 [00:12<00:28,  4.01s/it]\u001b[32m [repeated 3x across cluster]\u001b[0m\n"
     ]
    },
    {
     "name": "stdout",
     "output_type": "stream",
     "text": [
      "\u001b[36m(launch_and_fit pid=502)\u001b[0m \tTrain Epoch: 5 \tTrain_loss_mri: 1.3781 | Train_acc_mri: 29.8380 | Train_loss_dna: 1.7672 | Train_acc_dna: 36.7708 | Validation_loss_mri: 1.3942 | Validation_acc_mri: 17.1875 | Validation_loss_dna: 1.8172 | Validation_acc_dna: 30.7292\u001b[32m [repeated 4x across cluster]\u001b[0m\n"
     ]
    },
    {
     "name": "stderr",
     "output_type": "stream",
     "text": [
      " 50%|\u001b[34m█████     \u001b[0m| 5/10 [00:19<00:19,  3.89s/it]\u001b[32m [repeated 4x across cluster]\u001b[0m\n"
     ]
    },
    {
     "name": "stdout",
     "output_type": "stream",
     "text": [
      "\u001b[36m(launch_and_fit pid=502)\u001b[0m \tTrain Epoch: 7 \tTrain_loss_mri: 1.3440 | Train_acc_mri: 34.1898 | Train_loss_dna: 1.7594 | Train_acc_dna: 36.8287 | Validation_loss_mri: 1.3186 | Validation_acc_mri: 35.4167 | Validation_loss_dna: 1.8160 | Validation_acc_dna: 30.7292\u001b[32m [repeated 4x across cluster]\u001b[0m\n"
     ]
    },
    {
     "name": "stderr",
     "output_type": "stream",
     "text": [
      " 70%|\u001b[34m███████   \u001b[0m| 7/10 [00:27<00:11,  3.88s/it]\u001b[32m [repeated 4x across cluster]\u001b[0m\n"
     ]
    },
    {
     "name": "stdout",
     "output_type": "stream",
     "text": [
      "\u001b[36m(launch_and_fit pid=527)\u001b[0m \tTrain Epoch: 8 \tTrain_loss_mri: 1.3725 | Train_acc_mri: 27.2222 | Train_loss_dna: 1.7998 | Train_acc_dna: 30.0116 | Validation_loss_mri: 1.4794 | Validation_acc_mri: 18.7500 | Validation_loss_dna: 1.8664 | Validation_acc_dna: 10.9375\u001b[32m [repeated 3x across cluster]\u001b[0m\n"
     ]
    },
    {
     "name": "stderr",
     "output_type": "stream",
     "text": [
      " 80%|\u001b[34m████████  \u001b[0m| 8/10 [00:32<00:07,  3.95s/it]\u001b[32m [repeated 3x across cluster]\u001b[0m\n"
     ]
    },
    {
     "name": "stdout",
     "output_type": "stream",
     "text": [
      "\u001b[36m(launch_and_fit pid=502)\u001b[0m save graph in  results/FL/\n",
      "\u001b[36m(launch_and_fit pid=502)\u001b[0m \tTrain Epoch: 10 \tTrain_loss_mri: 1.1308 | Train_acc_mri: 46.1227 | Train_loss_dna: 1.7531 | Train_acc_dna: 36.7130 | Validation_loss_mri: 1.2594 | Validation_acc_mri: 35.4167 | Validation_loss_dna: 1.8222 | Validation_acc_dna: 30.7292\u001b[32m [repeated 3x across cluster]\u001b[0m\n"
     ]
    },
    {
     "name": "stderr",
     "output_type": "stream",
     "text": [
      "100%|\u001b[34m██████████\u001b[0m| 10/10 [00:39<00:00,  3.96s/it]\u001b[32m [repeated 3x across cluster]\u001b[0m\n"
     ]
    },
    {
     "name": "stdout",
     "output_type": "stream",
     "text": [
      "\u001b[36m(launch_and_fit pid=578)\u001b[0m Run WITHOUT homomorphic encryption\n",
      "\u001b[36m(launch_and_fit pid=527)\u001b[0m save graph in  results/FL/\n",
      "\u001b[36m(launch_and_fit pid=527)\u001b[0m \tTrain Epoch: 10 \tTrain_loss_mri: 1.3723 | Train_acc_mri: 28.1019 | Train_loss_dna: 1.8018 | Train_acc_dna: 29.5833 | Validation_loss_mri: 1.4536 | Validation_acc_mri: 17.1875 | Validation_loss_dna: 1.8736 | Validation_acc_dna: 14.0625\n",
      "\u001b[36m(launch_and_fit pid=578)\u001b[0m [Client 0, round 1] fit, config: {'learning_rate': 0.003, 'batch_size': '32', 'server_round': 1, 'local_epochs': 10}\n",
      "\u001b[36m(launch_and_fit pid=578)\u001b[0m Updated model\n"
     ]
    },
    {
     "name": "stderr",
     "output_type": "stream",
     "text": [
      "  0%|\u001b[34m          \u001b[0m| 0/10 [00:00<?, ?it/s]\n",
      "100%|\u001b[34m██████████\u001b[0m| 10/10 [00:40<00:00,  4.05s/it]\n"
     ]
    },
    {
     "name": "stdout",
     "output_type": "stream",
     "text": [
      "\u001b[36m(launch_and_fit pid=578)\u001b[0m \tTrain Epoch: 1 \tTrain_loss_mri: 1.3985 | Train_acc_mri: 23.2755 | Train_loss_dna: 1.9097 | Train_acc_dna: 24.7569 | Validation_loss_mri: 1.4073 | Validation_acc_mri: 10.9375 | Validation_loss_dna: 1.9537 | Validation_acc_dna: 17.1875\n",
      "\u001b[36m(launch_and_fit pid=603)\u001b[0m Run WITHOUT homomorphic encryption\n"
     ]
    },
    {
     "name": "stderr",
     "output_type": "stream",
     "text": [
      " 10%|\u001b[34m█         \u001b[0m| 1/10 [00:04<00:43,  4.82s/it]\n"
     ]
    },
    {
     "name": "stdout",
     "output_type": "stream",
     "text": [
      "\u001b[36m(launch_and_fit pid=603)\u001b[0m [Client 5, round 1] fit, config: {'learning_rate': 0.003, 'batch_size': '32', 'server_round': 1, 'local_epochs': 10}\n",
      "\u001b[36m(launch_and_fit pid=603)\u001b[0m Updated model\n"
     ]
    },
    {
     "name": "stderr",
     "output_type": "stream",
     "text": [
      "  0%|\u001b[34m          \u001b[0m| 0/10 [00:00<?, ?it/s]\n"
     ]
    },
    {
     "name": "stdout",
     "output_type": "stream",
     "text": [
      "\u001b[36m(launch_and_fit pid=578)\u001b[0m \tTrain Epoch: 3 \tTrain_loss_mri: 1.3743 | Train_acc_mri: 29.8611 | Train_loss_dna: 1.8252 | Train_acc_dna: 31.0301 | Validation_loss_mri: 1.4215 | Validation_acc_mri: 9.3750 | Validation_loss_dna: 2.0335 | Validation_acc_dna: 17.1875\u001b[32m [repeated 4x across cluster]\u001b[0m\n"
     ]
    },
    {
     "name": "stderr",
     "output_type": "stream",
     "text": [
      " 30%|\u001b[34m███       \u001b[0m| 3/10 [00:12<00:29,  4.19s/it]\u001b[32m [repeated 4x across cluster]\u001b[0m\n"
     ]
    },
    {
     "name": "stdout",
     "output_type": "stream",
     "text": [
      "\u001b[36m(launch_and_fit pid=603)\u001b[0m \tTrain Epoch: 4 \tTrain_loss_mri: 1.3822 | Train_acc_mri: 26.8866 | Train_loss_dna: 1.8340 | Train_acc_dna: 28.7269 | Validation_loss_mri: 1.4087 | Validation_acc_mri: 17.1875 | Validation_loss_dna: 1.8879 | Validation_acc_dna: 15.6250\u001b[32m [repeated 3x across cluster]\u001b[0m\n"
     ]
    },
    {
     "name": "stderr",
     "output_type": "stream",
     "text": [
      " 40%|\u001b[34m████      \u001b[0m| 4/10 [00:17<00:25,  4.28s/it]\u001b[32m [repeated 3x across cluster]\u001b[0m\n"
     ]
    },
    {
     "name": "stdout",
     "output_type": "stream",
     "text": [
      "\u001b[36m(launch_and_fit pid=578)\u001b[0m \tTrain Epoch: 6 \tTrain_loss_mri: 1.3688 | Train_acc_mri: 24.7801 | Train_loss_dna: 1.8226 | Train_acc_dna: 30.9722 | Validation_loss_mri: 1.4039 | Validation_acc_mri: 24.4792 | Validation_loss_dna: 2.0165 | Validation_acc_dna: 17.1875\u001b[32m [repeated 3x across cluster]\u001b[0m\n"
     ]
    },
    {
     "name": "stderr",
     "output_type": "stream",
     "text": [
      " 60%|\u001b[34m██████    \u001b[0m| 6/10 [00:24<00:16,  4.04s/it]\u001b[32m [repeated 3x across cluster]\u001b[0m\n"
     ]
    },
    {
     "name": "stdout",
     "output_type": "stream",
     "text": [
      "\u001b[36m(launch_and_fit pid=578)\u001b[0m \tTrain Epoch: 8 \tTrain_loss_mri: 1.3683 | Train_acc_mri: 29.9769 | Train_loss_dna: 1.8088 | Train_acc_dna: 31.1458 | Validation_loss_mri: 1.4161 | Validation_acc_mri: 7.8125 | Validation_loss_dna: 1.9910 | Validation_acc_dna: 17.1875\u001b[32m [repeated 4x across cluster]\u001b[0m\n"
     ]
    },
    {
     "name": "stderr",
     "output_type": "stream",
     "text": [
      " 80%|\u001b[34m████████  \u001b[0m| 8/10 [00:32<00:07,  3.94s/it]\u001b[32m [repeated 4x across cluster]\u001b[0m\n"
     ]
    },
    {
     "name": "stdout",
     "output_type": "stream",
     "text": [
      "\u001b[36m(launch_and_fit pid=603)\u001b[0m \tTrain Epoch: 9 \tTrain_loss_mri: 1.3833 | Train_acc_mri: 28.2176 | Train_loss_dna: 1.8203 | Train_acc_dna: 28.8426 | Validation_loss_mri: 1.4097 | Validation_acc_mri: 30.7292 | Validation_loss_dna: 1.8595 | Validation_acc_dna: 15.6250\u001b[32m [repeated 3x across cluster]\u001b[0m\n"
     ]
    },
    {
     "name": "stderr",
     "output_type": "stream",
     "text": [
      " 90%|\u001b[34m█████████ \u001b[0m| 9/10 [00:36<00:03,  3.98s/it]\u001b[32m [repeated 3x across cluster]\u001b[0m\n"
     ]
    },
    {
     "name": "stdout",
     "output_type": "stream",
     "text": [
      "\u001b[36m(launch_and_fit pid=578)\u001b[0m save graph in  results/FL/\n",
      "\u001b[36m(launch_and_fit pid=652)\u001b[0m Run WITHOUT homomorphic encryption\n",
      "\u001b[36m(launch_and_fit pid=603)\u001b[0m \tTrain Epoch: 10 \tTrain_loss_mri: 1.3810 | Train_acc_mri: 27.6505 | Train_loss_dna: 1.8139 | Train_acc_dna: 29.1319 | Validation_loss_mri: 1.4025 | Validation_acc_mri: 32.2917 | Validation_loss_dna: 1.8515 | Validation_acc_dna: 15.6250\u001b[32m [repeated 2x across cluster]\u001b[0m\n",
      "\u001b[36m(launch_and_fit pid=603)\u001b[0m save graph in  results/FL/\n",
      "\u001b[36m(launch_and_fit pid=652)\u001b[0m [Client 2, round 1] fit, config: {'learning_rate': 0.003, 'batch_size': '32', 'server_round': 1, 'local_epochs': 10}\n",
      "\u001b[36m(launch_and_fit pid=652)\u001b[0m Updated model\n"
     ]
    },
    {
     "name": "stderr",
     "output_type": "stream",
     "text": [
      "  0%|\u001b[34m          \u001b[0m| 0/10 [00:00<?, ?it/s]\n",
      "100%|\u001b[34m██████████\u001b[0m| 10/10 [00:40<00:00,  4.06s/it]\u001b[32m [repeated 2x across cluster]\u001b[0m\n"
     ]
    },
    {
     "name": "stdout",
     "output_type": "stream",
     "text": [
      "\u001b[36m(launch_and_fit pid=677)\u001b[0m Run WITHOUT homomorphic encryption\n",
      "\u001b[36m(launch_and_fit pid=677)\u001b[0m \tTrain Epoch: 1 \tTrain_loss_mri: 1.3944 | Train_acc_mri: 24.0162 | Train_loss_dna: 1.9112 | Train_acc_dna: 26.0648 | Validation_loss_mri: 1.3818 | Validation_acc_mri: 12.5000 | Validation_loss_dna: 1.9274 | Validation_acc_dna: 15.6250\u001b[32m [repeated 2x across cluster]\u001b[0m\n",
      "\u001b[36m(launch_and_fit pid=677)\u001b[0m [Client 8, round 1] fit, config: {'learning_rate': 0.003, 'batch_size': '32', 'server_round': 1, 'local_epochs': 10}\n",
      "\u001b[36m(launch_and_fit pid=677)\u001b[0m Updated model\n"
     ]
    },
    {
     "name": "stderr",
     "output_type": "stream",
     "text": [
      "  0%|\u001b[34m          \u001b[0m| 0/10 [00:00<?, ?it/s]\n",
      " 10%|\u001b[34m█         \u001b[0m| 1/10 [00:04<00:40,  4.47s/it]\u001b[32m [repeated 2x across cluster]\u001b[0m\n",
      " 30%|\u001b[34m███       \u001b[0m| 3/10 [00:12<00:28,  4.04s/it]\u001b[32m [repeated 3x across cluster]\u001b[0m\n"
     ]
    },
    {
     "name": "stdout",
     "output_type": "stream",
     "text": [
      "\u001b[36m(launch_and_fit pid=652)\u001b[0m \tTrain Epoch: 3 \tTrain_loss_mri: 1.3786 | Train_acc_mri: 29.6412 | Train_loss_dna: 1.8124 | Train_acc_dna: 31.2037 | Validation_loss_mri: 1.3424 | Validation_acc_mri: 50.5208 | Validation_loss_dna: 1.8414 | Validation_acc_dna: 27.6042\u001b[32m [repeated 3x across cluster]\u001b[0m\n"
     ]
    },
    {
     "name": "stderr",
     "output_type": "stream",
     "text": [
      " 50%|\u001b[34m█████     \u001b[0m| 5/10 [00:20<00:19,  3.92s/it]\u001b[32m [repeated 4x across cluster]\u001b[0m\n"
     ]
    },
    {
     "name": "stdout",
     "output_type": "stream",
     "text": [
      "\u001b[36m(launch_and_fit pid=652)\u001b[0m \tTrain Epoch: 5 \tTrain_loss_mri: 1.3815 | Train_acc_mri: 27.6505 | Train_loss_dna: 1.8099 | Train_acc_dna: 31.3194 | Validation_loss_mri: 1.3345 | Validation_acc_mri: 52.0833 | Validation_loss_dna: 1.8255 | Validation_acc_dna: 27.6042\u001b[32m [repeated 4x across cluster]\u001b[0m\n"
     ]
    },
    {
     "name": "stderr",
     "output_type": "stream",
     "text": [
      " 70%|\u001b[34m███████   \u001b[0m| 7/10 [00:28<00:12,  4.00s/it]\u001b[32m [repeated 4x across cluster]\u001b[0m\n"
     ]
    },
    {
     "name": "stdout",
     "output_type": "stream",
     "text": [
      "\u001b[36m(launch_and_fit pid=652)\u001b[0m \tTrain Epoch: 7 \tTrain_loss_mri: 1.3793 | Train_acc_mri: 29.2130 | Train_loss_dna: 1.7969 | Train_acc_dna: 31.0301 | Validation_loss_mri: 1.3608 | Validation_acc_mri: 48.9583 | Validation_loss_dna: 1.7625 | Validation_acc_dna: 27.6042\u001b[32m [repeated 4x across cluster]\u001b[0m\n"
     ]
    },
    {
     "name": "stderr",
     "output_type": "stream",
     "text": [
      " 90%|\u001b[34m█████████ \u001b[0m| 9/10 [00:35<00:03,  3.96s/it]\u001b[32m [repeated 4x across cluster]\u001b[0m\n"
     ]
    },
    {
     "name": "stdout",
     "output_type": "stream",
     "text": [
      "\u001b[36m(launch_and_fit pid=652)\u001b[0m \tTrain Epoch: 9 \tTrain_loss_mri: 1.3860 | Train_acc_mri: 26.5972 | Train_loss_dna: 1.7758 | Train_acc_dna: 31.2847 | Validation_loss_mri: 1.3520 | Validation_acc_mri: 29.1667 | Validation_loss_dna: 1.7488 | Validation_acc_dna: 27.6042\u001b[32m [repeated 4x across cluster]\u001b[0m\n",
      "\u001b[36m(launch_and_fit pid=652)\u001b[0m save graph in  results/FL/\n",
      "\u001b[36m(launch_and_fit pid=726)\u001b[0m Run WITHOUT homomorphic encryption\n",
      "\u001b[36m(launch_and_fit pid=677)\u001b[0m \tTrain Epoch: 10 \tTrain_loss_mri: 1.3654 | Train_acc_mri: 37.0255 | Train_loss_dna: 1.8100 | Train_acc_dna: 29.7222 | Validation_loss_mri: 1.3793 | Validation_acc_mri: 20.3125 | Validation_loss_dna: 1.8523 | Validation_acc_dna: 15.6250\u001b[32m [repeated 3x across cluster]\u001b[0m\n",
      "\u001b[36m(launch_and_fit pid=677)\u001b[0m save graph in  results/FL/\n"
     ]
    },
    {
     "name": "stderr",
     "output_type": "stream",
     "text": [
      "  0%|\u001b[34m          \u001b[0m| 0/10 [00:00<?, ?it/s]\n",
      "100%|\u001b[34m██████████\u001b[0m| 10/10 [00:39<00:00,  3.99s/it]\u001b[32m [repeated 3x across cluster]\u001b[0m\n"
     ]
    },
    {
     "name": "stdout",
     "output_type": "stream",
     "text": [
      "\u001b[36m(launch_and_fit pid=726)\u001b[0m [Client 3, round 1] fit, config: {'learning_rate': 0.003, 'batch_size': '32', 'server_round': 1, 'local_epochs': 10}\n",
      "\u001b[36m(launch_and_fit pid=726)\u001b[0m Updated model\n",
      "\u001b[36m(launch_and_fit pid=751)\u001b[0m Run WITHOUT homomorphic encryption\n",
      "\u001b[36m(launch_and_fit pid=751)\u001b[0m \tTrain Epoch: 1 \tTrain_loss_mri: 1.3893 | Train_acc_mri: 26.3773 | Train_loss_dna: 1.9079 | Train_acc_dna: 22.5926 | Validation_loss_mri: 1.4347 | Validation_acc_mri: 17.1875 | Validation_loss_dna: 1.8693 | Validation_acc_dna: 40.1042\u001b[32m [repeated 2x across cluster]\u001b[0m\n"
     ]
    },
    {
     "name": "stderr",
     "output_type": "stream",
     "text": [
      "  0%|\u001b[34m          \u001b[0m| 0/10 [00:00<?, ?it/s]\n",
      " 20%|\u001b[34m██        \u001b[0m| 2/10 [00:08<00:33,  4.20s/it]\u001b[32m [repeated 3x across cluster]\u001b[0m\n"
     ]
    },
    {
     "name": "stdout",
     "output_type": "stream",
     "text": [
      "\u001b[36m(launch_and_fit pid=751)\u001b[0m [Client 4, round 1] fit, config: {'learning_rate': 0.003, 'batch_size': '32', 'server_round': 1, 'local_epochs': 10}\n",
      "\u001b[36m(launch_and_fit pid=751)\u001b[0m Updated model\n",
      "\u001b[36m(launch_and_fit pid=726)\u001b[0m \tTrain Epoch: 3 \tTrain_loss_mri: 1.3880 | Train_acc_mri: 28.8426 | Train_loss_dna: 1.8172 | Train_acc_dna: 29.7801 | Validation_loss_mri: 1.3532 | Validation_acc_mri: 36.9792 | Validation_loss_dna: 1.7861 | Validation_acc_dna: 30.7292\u001b[32m [repeated 3x across cluster]\u001b[0m\n"
     ]
    },
    {
     "name": "stderr",
     "output_type": "stream",
     "text": [
      " 40%|\u001b[34m████      \u001b[0m| 4/10 [00:16<00:24,  4.04s/it]\u001b[32m [repeated 4x across cluster]\u001b[0m\n"
     ]
    },
    {
     "name": "stdout",
     "output_type": "stream",
     "text": [
      "\u001b[36m(launch_and_fit pid=751)\u001b[0m \tTrain Epoch: 5 \tTrain_loss_mri: 1.2896 | Train_acc_mri: 34.1551 | Train_loss_dna: 1.8079 | Train_acc_dna: 29.7222 | Validation_loss_mri: 1.4088 | Validation_acc_mri: 17.1875 | Validation_loss_dna: 1.8833 | Validation_acc_dna: 40.1042\u001b[32m [repeated 4x across cluster]\u001b[0m\n"
     ]
    },
    {
     "name": "stderr",
     "output_type": "stream",
     "text": [
      " 60%|\u001b[34m██████    \u001b[0m| 6/10 [00:23<00:15,  3.86s/it]\u001b[32m [repeated 4x across cluster]\u001b[0m\n"
     ]
    },
    {
     "name": "stdout",
     "output_type": "stream",
     "text": [
      "\u001b[36m(launch_and_fit pid=751)\u001b[0m \tTrain Epoch: 7 \tTrain_loss_mri: 1.2788 | Train_acc_mri: 39.4444 | Train_loss_dna: 1.8264 | Train_acc_dna: 29.6644 | Validation_loss_mri: 1.7047 | Validation_acc_mri: 30.7292 | Validation_loss_dna: 2.0296 | Validation_acc_dna: 40.1042\u001b[32m [repeated 4x across cluster]\u001b[0m\n"
     ]
    },
    {
     "name": "stderr",
     "output_type": "stream",
     "text": [
      " 80%|\u001b[34m████████  \u001b[0m| 8/10 [00:31<00:07,  3.82s/it]\u001b[32m [repeated 4x across cluster]\u001b[0m\n"
     ]
    },
    {
     "name": "stdout",
     "output_type": "stream",
     "text": [
      "\u001b[36m(launch_and_fit pid=751)\u001b[0m \tTrain Epoch: 9 \tTrain_loss_mri: 1.4118 | Train_acc_mri: 22.7894 | Train_loss_dna: 1.8148 | Train_acc_dna: 29.7222 | Validation_loss_mri: 1.4590 | Validation_acc_mri: 17.1875 | Validation_loss_dna: 1.8450 | Validation_acc_dna: 40.1042\u001b[32m [repeated 4x across cluster]\u001b[0m\n",
      "\u001b[36m(launch_and_fit pid=751)\u001b[0m save graph in  results/FL/\n"
     ]
    },
    {
     "name": "stderr",
     "output_type": "stream",
     "text": [
      "100%|\u001b[34m██████████\u001b[0m| 10/10 [00:39<00:00,  3.90s/it]\u001b[32m [repeated 4x across cluster]\u001b[0m\n",
      "DEBUG flwr 2024-08-05 11:03:23,033 | server.py:236 | fit_round 1 received 10 results and 0 failures\n",
      "WARNING flwr 2024-08-05 11:03:23,678 | 3890383987.py:131 | No fit_metrics_aggregation_fn provided\n"
     ]
    },
    {
     "name": "stdout",
     "output_type": "stream",
     "text": [
      "Saving round 1 aggregated_parameters...\n",
      "Updated model\n"
     ]
    },
    {
     "name": "stderr",
     "output_type": "stream",
     "text": [
      "INFO flwr 2024-08-05 11:03:29,160 | server.py:125 | fit progress: (1, (1.3793834447860718, 1.802244314125606), {'accuracy': (30.43154761904762, 31.69642857142857)}, 268.29520950899996)\n",
      "DEBUG flwr 2024-08-05 11:03:29,161 | server.py:173 | evaluate_round 1: strategy sampled 10 clients (out of 10)\n"
     ]
    },
    {
     "name": "stdout",
     "output_type": "stream",
     "text": [
      "Server-side evaluation MRI loss 1.3793834447860718 / MRI accuracy 30.43154761904762\n",
      "Server-side evaluation DNA loss 1.802244314125606 / DNA accuracy 31.69642857142857\n",
      "\u001b[36m(launch_and_evaluate pid=809)\u001b[0m Run WITHOUT homomorphic encryption\n",
      "\u001b[36m(launch_and_evaluate pid=809)\u001b[0m  To get the checkpoint\n",
      "\u001b[36m(launch_and_fit pid=726)\u001b[0m \tTrain Epoch: 10 \tTrain_loss_mri: 1.3822 | Train_acc_mri: 28.9005 | Train_loss_dna: 1.8194 | Train_acc_dna: 29.8380 | Validation_loss_mri: 1.3559 | Validation_acc_mri: 36.9792 | Validation_loss_dna: 1.8099 | Validation_acc_dna: 30.7292\u001b[32m [repeated 3x across cluster]\u001b[0m\n",
      "\u001b[36m(launch_and_fit pid=726)\u001b[0m save graph in  results/FL/\n",
      "\u001b[36m(launch_and_evaluate pid=809)\u001b[0m [Client 5] evaluate, config: {}\n",
      "\u001b[36m(launch_and_evaluate pid=809)\u001b[0m Updated model\n"
     ]
    },
    {
     "name": "stderr",
     "output_type": "stream",
     "text": [
      "\u001b[36m(launch_and_evaluate pid=810)\u001b[0m /opt/conda/lib/python3.10/site-packages/sklearn/metrics/_ranking.py:1029: UndefinedMetricWarning: No positive samples in y_true, true positive value should be meaningless\n",
      "\u001b[36m(launch_and_evaluate pid=810)\u001b[0m   warnings.warn(\n",
      "100%|\u001b[34m██████████\u001b[0m| 10/10 [00:40<00:00,  4.00s/it]\n"
     ]
    },
    {
     "name": "stdout",
     "output_type": "stream",
     "text": [
      "\u001b[36m(launch_and_evaluate pid=878)\u001b[0m Run WITHOUT homomorphic encryption\u001b[32m [repeated 2x across cluster]\u001b[0m\n",
      "\u001b[36m(launch_and_evaluate pid=878)\u001b[0m  To get the checkpoint\u001b[32m [repeated 2x across cluster]\u001b[0m\n",
      "\u001b[36m(launch_and_evaluate pid=810)\u001b[0m [Client 9] evaluate, config: {}\n",
      "\u001b[36m(launch_and_evaluate pid=810)\u001b[0m Updated model\n",
      "\u001b[36m(launch_and_evaluate pid=878)\u001b[0m [Client 8] evaluate, config: {}\n",
      "\u001b[36m(launch_and_evaluate pid=878)\u001b[0m Updated model\n"
     ]
    },
    {
     "name": "stderr",
     "output_type": "stream",
     "text": [
      "\u001b[36m(launch_and_evaluate pid=878)\u001b[0m /opt/conda/lib/python3.10/site-packages/sklearn/metrics/_ranking.py:1029: UndefinedMetricWarning: No positive samples in y_true, true positive value should be meaningless\n",
      "\u001b[36m(launch_and_evaluate pid=878)\u001b[0m   warnings.warn(\n"
     ]
    },
    {
     "name": "stdout",
     "output_type": "stream",
     "text": [
      "\u001b[36m(launch_and_evaluate pid=948)\u001b[0m Run WITHOUT homomorphic encryption\u001b[32m [repeated 2x across cluster]\u001b[0m\n",
      "\u001b[36m(launch_and_evaluate pid=948)\u001b[0m  To get the checkpoint\u001b[32m [repeated 2x across cluster]\u001b[0m\n",
      "\u001b[36m(launch_and_evaluate pid=880)\u001b[0m [Client 2] evaluate, config: {}\n",
      "\u001b[36m(launch_and_evaluate pid=880)\u001b[0m Updated model\n",
      "\u001b[36m(launch_and_evaluate pid=948)\u001b[0m [Client 4] evaluate, config: {}\n",
      "\u001b[36m(launch_and_evaluate pid=948)\u001b[0m Updated model\n"
     ]
    },
    {
     "name": "stderr",
     "output_type": "stream",
     "text": [
      "\u001b[36m(launch_and_evaluate pid=948)\u001b[0m /opt/conda/lib/python3.10/site-packages/sklearn/metrics/_ranking.py:1029: UndefinedMetricWarning: No positive samples in y_true, true positive value should be meaningless\n",
      "\u001b[36m(launch_and_evaluate pid=948)\u001b[0m   warnings.warn(\n"
     ]
    },
    {
     "name": "stdout",
     "output_type": "stream",
     "text": [
      "\u001b[36m(launch_and_evaluate pid=1018)\u001b[0m Run WITHOUT homomorphic encryption\u001b[32m [repeated 2x across cluster]\u001b[0m\n",
      "\u001b[36m(launch_and_evaluate pid=1018)\u001b[0m  To get the checkpoint\u001b[32m [repeated 2x across cluster]\u001b[0m\n",
      "\u001b[36m(launch_and_evaluate pid=950)\u001b[0m [Client 1] evaluate, config: {}\n",
      "\u001b[36m(launch_and_evaluate pid=950)\u001b[0m Updated model\n",
      "\u001b[36m(launch_and_evaluate pid=1018)\u001b[0m [Client 6] evaluate, config: {}\n",
      "\u001b[36m(launch_and_evaluate pid=1018)\u001b[0m Updated model\n",
      "\u001b[36m(launch_and_evaluate pid=1088)\u001b[0m Run WITHOUT homomorphic encryption\u001b[32m [repeated 2x across cluster]\u001b[0m\n",
      "\u001b[36m(launch_and_evaluate pid=1088)\u001b[0m  To get the checkpoint\u001b[32m [repeated 2x across cluster]\u001b[0m\n",
      "\u001b[36m(launch_and_evaluate pid=1020)\u001b[0m [Client 0] evaluate, config: {}\n",
      "\u001b[36m(launch_and_evaluate pid=1020)\u001b[0m Updated model\n",
      "\u001b[36m(launch_and_evaluate pid=1088)\u001b[0m [Client 3] evaluate, config: {}\n",
      "\u001b[36m(launch_and_evaluate pid=1088)\u001b[0m Updated model\n"
     ]
    },
    {
     "name": "stderr",
     "output_type": "stream",
     "text": [
      "DEBUG flwr 2024-08-05 11:04:36,479 | server.py:187 | evaluate_round 1 received 10 results and 0 failures\n",
      "DEBUG flwr 2024-08-05 11:04:36,480 | server.py:222 | fit_round 2: strategy sampled 10 clients (out of 10)\n"
     ]
    },
    {
     "name": "stdout",
     "output_type": "stream",
     "text": [
      "\u001b[36m(launch_and_fit pid=1167)\u001b[0m Run WITHOUT homomorphic encryption\u001b[32m [repeated 2x across cluster]\u001b[0m\n",
      "\u001b[36m(launch_and_fit pid=1167)\u001b[0m  To get the checkpoint\u001b[32m [repeated 2x across cluster]\u001b[0m\n",
      "\u001b[36m(launch_and_evaluate pid=1090)\u001b[0m [Client 7] evaluate, config: {}\n",
      "\u001b[36m(launch_and_evaluate pid=1090)\u001b[0m Updated model\n"
     ]
    },
    {
     "name": "stderr",
     "output_type": "stream",
     "text": [
      "  0%|\u001b[34m          \u001b[0m| 0/10 [00:00<?, ?it/s]\n"
     ]
    },
    {
     "name": "stdout",
     "output_type": "stream",
     "text": [
      "\u001b[36m(launch_and_fit pid=1167)\u001b[0m [Client 8, round 2] fit, config: {'learning_rate': 0.003, 'batch_size': '32', 'server_round': 2, 'local_epochs': 10}\n",
      "\u001b[36m(launch_and_fit pid=1167)\u001b[0m Updated model\n"
     ]
    },
    {
     "name": "stderr",
     "output_type": "stream",
     "text": [
      " 10%|\u001b[34m█         \u001b[0m| 1/10 [00:04<00:40,  4.50s/it]\n"
     ]
    },
    {
     "name": "stdout",
     "output_type": "stream",
     "text": [
      "\u001b[36m(launch_and_fit pid=1167)\u001b[0m \tTrain Epoch: 1 \tTrain_loss_mri: 1.3938 | Train_acc_mri: 24.8611 | Train_loss_dna: 1.8415 | Train_acc_dna: 29.7801 | Validation_loss_mri: 1.4025 | Validation_acc_mri: 12.5000 | Validation_loss_dna: 1.8138 | Validation_acc_dna: 15.6250\n"
     ]
    },
    {
     "name": "stderr",
     "output_type": "stream",
     "text": [
      "  0%|\u001b[34m          \u001b[0m| 0/10 [00:00<?, ?it/s]\n"
     ]
    },
    {
     "name": "stdout",
     "output_type": "stream",
     "text": [
      "\u001b[36m(launch_and_fit pid=1168)\u001b[0m Run WITHOUT homomorphic encryption\n",
      "\u001b[36m(launch_and_fit pid=1168)\u001b[0m  To get the checkpoint\n",
      "\u001b[36m(launch_and_fit pid=1168)\u001b[0m [Client 0, round 2] fit, config: {'learning_rate': 0.003, 'batch_size': '32', 'server_round': 2, 'local_epochs': 10}\n",
      "\u001b[36m(launch_and_fit pid=1168)\u001b[0m Updated model\n"
     ]
    },
    {
     "name": "stderr",
     "output_type": "stream",
     "text": [
      " 30%|\u001b[34m███       \u001b[0m| 3/10 [00:12<00:29,  4.18s/it]\u001b[32m [repeated 4x across cluster]\u001b[0m\n"
     ]
    },
    {
     "name": "stdout",
     "output_type": "stream",
     "text": [
      "\u001b[36m(launch_and_fit pid=1168)\u001b[0m \tTrain Epoch: 3 \tTrain_loss_mri: 1.3733 | Train_acc_mri: 31.0880 | Train_loss_dna: 1.7943 | Train_acc_dna: 31.0880 | Validation_loss_mri: 1.4145 | Validation_acc_mri: 9.3750 | Validation_loss_dna: 2.0507 | Validation_acc_dna: 17.1875\u001b[32m [repeated 4x across cluster]\u001b[0m\n"
     ]
    },
    {
     "name": "stderr",
     "output_type": "stream",
     "text": [
      " 50%|\u001b[34m█████     \u001b[0m| 5/10 [00:20<00:19,  3.99s/it]\u001b[32m [repeated 4x across cluster]\u001b[0m\n"
     ]
    },
    {
     "name": "stdout",
     "output_type": "stream",
     "text": [
      "\u001b[36m(launch_and_fit pid=1168)\u001b[0m \tTrain Epoch: 5 \tTrain_loss_mri: 1.3648 | Train_acc_mri: 33.0208 | Train_loss_dna: 1.7309 | Train_acc_dna: 36.2616 | Validation_loss_mri: 1.3877 | Validation_acc_mri: 21.3542 | Validation_loss_dna: 1.9834 | Validation_acc_dna: 20.3125\u001b[32m [repeated 4x across cluster]\u001b[0m\n"
     ]
    },
    {
     "name": "stderr",
     "output_type": "stream",
     "text": [
      " 70%|\u001b[34m███████   \u001b[0m| 7/10 [00:28<00:11,  3.92s/it]\u001b[32m [repeated 4x across cluster]\u001b[0m\n"
     ]
    },
    {
     "name": "stdout",
     "output_type": "stream",
     "text": [
      "\u001b[36m(launch_and_fit pid=1168)\u001b[0m \tTrain Epoch: 7 \tTrain_loss_mri: 1.3240 | Train_acc_mri: 42.9398 | Train_loss_dna: 1.7649 | Train_acc_dna: 33.3912 | Validation_loss_mri: 1.2875 | Validation_acc_mri: 47.3958 | Validation_loss_dna: 1.8894 | Validation_acc_dna: 23.4375\u001b[32m [repeated 4x across cluster]\u001b[0m\n"
     ]
    },
    {
     "name": "stderr",
     "output_type": "stream",
     "text": [
      " 90%|\u001b[34m█████████ \u001b[0m| 9/10 [00:35<00:03,  3.88s/it]\u001b[32m [repeated 4x across cluster]\u001b[0m\n"
     ]
    },
    {
     "name": "stdout",
     "output_type": "stream",
     "text": [
      "\u001b[36m(launch_and_fit pid=1168)\u001b[0m \tTrain Epoch: 9 \tTrain_loss_mri: 1.1858 | Train_acc_mri: 46.7477 | Train_loss_dna: 1.7858 | Train_acc_dna: 33.4491 | Validation_loss_mri: 1.1561 | Validation_acc_mri: 47.3958 | Validation_loss_dna: 1.9012 | Validation_acc_dna: 23.4375\u001b[32m [repeated 4x across cluster]\u001b[0m\n",
      "\u001b[36m(launch_and_fit pid=1168)\u001b[0m save graph in  results/FL/\n",
      "\u001b[36m(launch_and_fit pid=1241)\u001b[0m Run WITHOUT homomorphic encryption\n",
      "\u001b[36m(launch_and_fit pid=1241)\u001b[0m  To get the checkpoint\n",
      "\u001b[36m(launch_and_fit pid=1167)\u001b[0m \tTrain Epoch: 10 \tTrain_loss_mri: 1.3654 | Train_acc_mri: 31.3194 | Train_loss_dna: 1.6879 | Train_acc_dna: 36.6551 | Validation_loss_mri: 1.4206 | Validation_acc_mri: 17.1875 | Validation_loss_dna: 1.8441 | Validation_acc_dna: 15.6250\u001b[32m [repeated 3x across cluster]\u001b[0m\n",
      "\u001b[36m(launch_and_fit pid=1167)\u001b[0m save graph in  results/FL/\n"
     ]
    },
    {
     "name": "stderr",
     "output_type": "stream",
     "text": [
      "  0%|\u001b[34m          \u001b[0m| 0/10 [00:00<?, ?it/s]\n",
      "100%|\u001b[34m██████████\u001b[0m| 10/10 [00:40<00:00,  4.07s/it]\u001b[32m [repeated 3x across cluster]\u001b[0m\n"
     ]
    },
    {
     "name": "stdout",
     "output_type": "stream",
     "text": [
      "\u001b[36m(launch_and_fit pid=1241)\u001b[0m [Client 7, round 2] fit, config: {'learning_rate': 0.003, 'batch_size': '32', 'server_round': 2, 'local_epochs': 10}\n",
      "\u001b[36m(launch_and_fit pid=1241)\u001b[0m Updated model\n"
     ]
    },
    {
     "name": "stderr",
     "output_type": "stream",
     "text": [
      "  0%|\u001b[34m          \u001b[0m| 0/10 [00:00<?, ?it/s]\n",
      " 10%|\u001b[34m█         \u001b[0m| 1/10 [00:04<00:39,  4.35s/it]\u001b[32m [repeated 2x across cluster]\u001b[0m\n"
     ]
    },
    {
     "name": "stdout",
     "output_type": "stream",
     "text": [
      "\u001b[36m(launch_and_fit pid=1266)\u001b[0m Run WITHOUT homomorphic encryption\n",
      "\u001b[36m(launch_and_fit pid=1266)\u001b[0m  To get the checkpoint\n",
      "\u001b[36m(launch_and_fit pid=1266)\u001b[0m \tTrain Epoch: 1 \tTrain_loss_mri: 1.3828 | Train_acc_mri: 31.0282 | Train_loss_dna: 1.8035 | Train_acc_dna: 32.3185 | Validation_loss_mri: 1.3725 | Validation_acc_mri: 32.2917 | Validation_loss_dna: 1.7347 | Validation_acc_dna: 33.8542\u001b[32m [repeated 2x across cluster]\u001b[0m\n",
      "\u001b[36m(launch_and_fit pid=1266)\u001b[0m [Client 9, round 2] fit, config: {'learning_rate': 0.003, 'batch_size': '32', 'server_round': 2, 'local_epochs': 10}\n",
      "\u001b[36m(launch_and_fit pid=1266)\u001b[0m Updated model\n"
     ]
    },
    {
     "name": "stderr",
     "output_type": "stream",
     "text": [
      " 30%|\u001b[34m███       \u001b[0m| 3/10 [00:12<00:28,  4.03s/it]\u001b[32m [repeated 3x across cluster]\u001b[0m\n"
     ]
    },
    {
     "name": "stdout",
     "output_type": "stream",
     "text": [
      "\u001b[36m(launch_and_fit pid=1241)\u001b[0m \tTrain Epoch: 3 \tTrain_loss_mri: 1.3846 | Train_acc_mri: 27.6505 | Train_loss_dna: 1.8577 | Train_acc_dna: 26.6319 | Validation_loss_mri: 1.4183 | Validation_acc_mri: 3.1250 | Validation_loss_dna: 1.7117 | Validation_acc_dna: 50.5208\u001b[32m [repeated 3x across cluster]\u001b[0m\n"
     ]
    },
    {
     "name": "stderr",
     "output_type": "stream",
     "text": [
      " 50%|\u001b[34m█████     \u001b[0m| 5/10 [00:20<00:20,  4.11s/it]\u001b[32m [repeated 4x across cluster]\u001b[0m\n"
     ]
    },
    {
     "name": "stdout",
     "output_type": "stream",
     "text": [
      "\u001b[36m(launch_and_fit pid=1241)\u001b[0m \tTrain Epoch: 5 \tTrain_loss_mri: 1.3861 | Train_acc_mri: 27.5347 | Train_loss_dna: 1.8476 | Train_acc_dna: 26.2269 | Validation_loss_mri: 1.4063 | Validation_acc_mri: 4.6875 | Validation_loss_dna: 1.6874 | Validation_acc_dna: 50.5208\u001b[32m [repeated 4x across cluster]\u001b[0m\n"
     ]
    },
    {
     "name": "stderr",
     "output_type": "stream",
     "text": [
      " 70%|\u001b[34m███████   \u001b[0m| 7/10 [00:28<00:12,  4.04s/it]\u001b[32m [repeated 4x across cluster]\u001b[0m\n"
     ]
    },
    {
     "name": "stdout",
     "output_type": "stream",
     "text": [
      "\u001b[36m(launch_and_fit pid=1241)\u001b[0m \tTrain Epoch: 7 \tTrain_loss_mri: 1.3830 | Train_acc_mri: 26.9097 | Train_loss_dna: 1.8204 | Train_acc_dna: 27.9051 | Validation_loss_mri: 1.4101 | Validation_acc_mri: 22.9167 | Validation_loss_dna: 1.8489 | Validation_acc_dna: 33.8542\u001b[32m [repeated 4x across cluster]\u001b[0m\n"
     ]
    },
    {
     "name": "stderr",
     "output_type": "stream",
     "text": [
      " 90%|\u001b[34m█████████ \u001b[0m| 9/10 [00:36<00:03,  3.99s/it]\u001b[32m [repeated 4x across cluster]\u001b[0m\n"
     ]
    },
    {
     "name": "stdout",
     "output_type": "stream",
     "text": [
      "\u001b[36m(launch_and_fit pid=1241)\u001b[0m \tTrain Epoch: 9 \tTrain_loss_mri: 1.3851 | Train_acc_mri: 26.2269 | Train_loss_dna: 1.8271 | Train_acc_dna: 27.8472 | Validation_loss_mri: 1.4162 | Validation_acc_mri: 3.1250 | Validation_loss_dna: 1.6580 | Validation_acc_dna: 48.9583\u001b[32m [repeated 4x across cluster]\u001b[0m\n",
      "\u001b[36m(launch_and_fit pid=1241)\u001b[0m save graph in  results/FL/\n",
      "\u001b[36m(launch_and_fit pid=1315)\u001b[0m Run WITHOUT homomorphic encryption\n",
      "\u001b[36m(launch_and_fit pid=1315)\u001b[0m  To get the checkpoint\n",
      "\u001b[36m(launch_and_fit pid=1266)\u001b[0m \tTrain Epoch: 10 \tTrain_loss_mri: 1.3775 | Train_acc_mri: 30.1210 | Train_loss_dna: 1.6747 | Train_acc_dna: 37.5806 | Validation_loss_mri: 1.3734 | Validation_acc_mri: 15.6250 | Validation_loss_dna: 1.6911 | Validation_acc_dna: 33.8542\u001b[32m [repeated 3x across cluster]\u001b[0m\n",
      "\u001b[36m(launch_and_fit pid=1266)\u001b[0m save graph in  results/FL/\n",
      "\u001b[36m(launch_and_fit pid=1315)\u001b[0m [Client 5, round 2] fit, config: {'learning_rate': 0.003, 'batch_size': '32', 'server_round': 2, 'local_epochs': 10}\n",
      "\u001b[36m(launch_and_fit pid=1315)\u001b[0m Updated model\n"
     ]
    },
    {
     "name": "stderr",
     "output_type": "stream",
     "text": [
      "  0%|\u001b[34m          \u001b[0m| 0/10 [00:00<?, ?it/s]\n",
      "100%|\u001b[34m██████████\u001b[0m| 10/10 [00:39<00:00,  3.97s/it]\u001b[32m [repeated 3x across cluster]\u001b[0m\n"
     ]
    },
    {
     "name": "stdout",
     "output_type": "stream",
     "text": [
      "\u001b[36m(launch_and_fit pid=1317)\u001b[0m Run WITHOUT homomorphic encryption\n",
      "\u001b[36m(launch_and_fit pid=1317)\u001b[0m  To get the checkpoint\n",
      "\u001b[36m(launch_and_fit pid=1317)\u001b[0m \tTrain Epoch: 1 \tTrain_loss_mri: 1.3698 | Train_acc_mri: 33.6458 | Train_loss_dna: 1.8226 | Train_acc_dna: 29.7222 | Validation_loss_mri: 1.4569 | Validation_acc_mri: 17.1875 | Validation_loss_dna: 1.8480 | Validation_acc_dna: 40.1042\u001b[32m [repeated 2x across cluster]\u001b[0m\n",
      "\u001b[36m(launch_and_fit pid=1317)\u001b[0m [Client 4, round 2] fit, config: {'learning_rate': 0.003, 'batch_size': '32', 'server_round': 2, 'local_epochs': 10}\n",
      "\u001b[36m(launch_and_fit pid=1317)\u001b[0m Updated model\n"
     ]
    },
    {
     "name": "stderr",
     "output_type": "stream",
     "text": [
      "  0%|\u001b[34m          \u001b[0m| 0/10 [00:00<?, ?it/s]\n",
      " 20%|\u001b[34m██        \u001b[0m| 2/10 [00:08<00:32,  4.09s/it]\u001b[32m [repeated 3x across cluster]\u001b[0m\n"
     ]
    },
    {
     "name": "stdout",
     "output_type": "stream",
     "text": [
      "\u001b[36m(launch_and_fit pid=1315)\u001b[0m \tTrain Epoch: 3 \tTrain_loss_mri: 1.3262 | Train_acc_mri: 45.1852 | Train_loss_dna: 1.8229 | Train_acc_dna: 28.9583 | Validation_loss_mri: 1.2669 | Validation_acc_mri: 41.6667 | Validation_loss_dna: 1.8742 | Validation_acc_dna: 15.6250\u001b[32m [repeated 3x across cluster]\u001b[0m\n"
     ]
    },
    {
     "name": "stderr",
     "output_type": "stream",
     "text": [
      " 40%|\u001b[34m████      \u001b[0m| 4/10 [00:15<00:23,  3.91s/it]\u001b[32m [repeated 4x across cluster]\u001b[0m\n"
     ]
    },
    {
     "name": "stdout",
     "output_type": "stream",
     "text": [
      "\u001b[36m(launch_and_fit pid=1315)\u001b[0m \tTrain Epoch: 5 \tTrain_loss_mri: 1.1116 | Train_acc_mri: 47.9398 | Train_loss_dna: 1.8271 | Train_acc_dna: 28.7269 | Validation_loss_mri: 1.3511 | Validation_acc_mri: 20.3125 | Validation_loss_dna: 1.8858 | Validation_acc_dna: 15.6250\u001b[32m [repeated 4x across cluster]\u001b[0m\n"
     ]
    },
    {
     "name": "stderr",
     "output_type": "stream",
     "text": [
      " 60%|\u001b[34m██████    \u001b[0m| 6/10 [00:23<00:15,  3.90s/it]\u001b[32m [repeated 4x across cluster]\u001b[0m\n"
     ]
    },
    {
     "name": "stdout",
     "output_type": "stream",
     "text": [
      "\u001b[36m(launch_and_fit pid=1317)\u001b[0m \tTrain Epoch: 7 \tTrain_loss_mri: 1.3660 | Train_acc_mri: 34.3287 | Train_loss_dna: 1.7359 | Train_acc_dna: 33.4491 | Validation_loss_mri: 1.4592 | Validation_acc_mri: 17.1875 | Validation_loss_dna: 1.6761 | Validation_acc_dna: 44.7917\u001b[32m [repeated 4x across cluster]\u001b[0m\n"
     ]
    },
    {
     "name": "stderr",
     "output_type": "stream",
     "text": [
      " 80%|\u001b[34m████████  \u001b[0m| 8/10 [00:31<00:07,  3.99s/it]\u001b[32m [repeated 4x across cluster]\u001b[0m\n"
     ]
    },
    {
     "name": "stdout",
     "output_type": "stream",
     "text": [
      "\u001b[36m(launch_and_fit pid=1317)\u001b[0m \tTrain Epoch: 9 \tTrain_loss_mri: 1.3663 | Train_acc_mri: 34.3866 | Train_loss_dna: 1.7660 | Train_acc_dna: 32.3380 | Validation_loss_mri: 1.4538 | Validation_acc_mri: 17.1875 | Validation_loss_dna: 1.6555 | Validation_acc_dna: 40.1042\u001b[32m [repeated 4x across cluster]\u001b[0m\n"
     ]
    },
    {
     "name": "stderr",
     "output_type": "stream",
     "text": [
      "100%|\u001b[34m██████████\u001b[0m| 10/10 [00:39<00:00,  3.92s/it]\u001b[32m [repeated 4x across cluster]\u001b[0m\n"
     ]
    },
    {
     "name": "stdout",
     "output_type": "stream",
     "text": [
      "\u001b[36m(launch_and_fit pid=1317)\u001b[0m save graph in  results/FL/\n",
      "\u001b[36m(launch_and_fit pid=1391)\u001b[0m Run WITHOUT homomorphic encryption\n",
      "\u001b[36m(launch_and_fit pid=1391)\u001b[0m  To get the checkpoint\n",
      "\u001b[36m(launch_and_fit pid=1315)\u001b[0m \tTrain Epoch: 10 \tTrain_loss_mri: 0.7779 | Train_acc_mri: 66.9792 | Train_loss_dna: 1.7489 | Train_acc_dna: 34.2130 | Validation_loss_mri: 1.0444 | Validation_acc_mri: 46.3542 | Validation_loss_dna: 1.8553 | Validation_acc_dna: 12.5000\u001b[32m [repeated 3x across cluster]\u001b[0m\n",
      "\u001b[36m(launch_and_fit pid=1315)\u001b[0m save graph in  results/FL/\n",
      "\u001b[36m(launch_and_fit pid=1389)\u001b[0m [Client 3, round 2] fit, config: {'learning_rate': 0.003, 'batch_size': '32', 'server_round': 2, 'local_epochs': 10}\n",
      "\u001b[36m(launch_and_fit pid=1389)\u001b[0m Updated model\n"
     ]
    },
    {
     "name": "stderr",
     "output_type": "stream",
     "text": [
      "  0%|\u001b[34m          \u001b[0m| 0/10 [00:00<?, ?it/s]\n",
      "100%|\u001b[34m██████████\u001b[0m| 10/10 [00:39<00:00,  3.99s/it]\n",
      " 10%|\u001b[34m█         \u001b[0m| 1/10 [00:04<00:39,  4.37s/it]\n",
      "  0%|\u001b[34m          \u001b[0m| 0/10 [00:00<?, ?it/s]\n"
     ]
    },
    {
     "name": "stdout",
     "output_type": "stream",
     "text": [
      "\u001b[36m(launch_and_fit pid=1389)\u001b[0m Run WITHOUT homomorphic encryption\n",
      "\u001b[36m(launch_and_fit pid=1389)\u001b[0m  To get the checkpoint\n",
      "\u001b[36m(launch_and_fit pid=1391)\u001b[0m \tTrain Epoch: 2 \tTrain_loss_mri: 1.3790 | Train_acc_mri: 27.5347 | Train_loss_dna: 1.8422 | Train_acc_dna: 27.4190 | Validation_loss_mri: 1.4630 | Validation_acc_mri: 17.1875 | Validation_loss_dna: 1.8414 | Validation_acc_dna: 32.2917\u001b[32m [repeated 3x across cluster]\u001b[0m\n",
      "\u001b[36m(launch_and_fit pid=1391)\u001b[0m [Client 1, round 2] fit, config: {'learning_rate': 0.003, 'batch_size': '32', 'server_round': 2, 'local_epochs': 10}\n",
      "\u001b[36m(launch_and_fit pid=1391)\u001b[0m Updated model\n"
     ]
    },
    {
     "name": "stderr",
     "output_type": "stream",
     "text": [
      " 30%|\u001b[34m███       \u001b[0m| 3/10 [00:12<00:28,  4.08s/it]\u001b[32m [repeated 4x across cluster]\u001b[0m\n"
     ]
    },
    {
     "name": "stdout",
     "output_type": "stream",
     "text": [
      "\u001b[36m(launch_and_fit pid=1391)\u001b[0m \tTrain Epoch: 4 \tTrain_loss_mri: 1.3765 | Train_acc_mri: 25.8333 | Train_loss_dna: 1.8142 | Train_acc_dna: 27.8819 | Validation_loss_mri: 1.4559 | Validation_acc_mri: 17.1875 | Validation_loss_dna: 1.8757 | Validation_acc_dna: 33.8542\u001b[32m [repeated 4x across cluster]\u001b[0m\n"
     ]
    },
    {
     "name": "stderr",
     "output_type": "stream",
     "text": [
      " 50%|\u001b[34m█████     \u001b[0m| 5/10 [00:20<00:19,  3.93s/it]\u001b[32m [repeated 4x across cluster]\u001b[0m\n"
     ]
    },
    {
     "name": "stdout",
     "output_type": "stream",
     "text": [
      "\u001b[36m(launch_and_fit pid=1391)\u001b[0m \tTrain Epoch: 6 \tTrain_loss_mri: 1.3763 | Train_acc_mri: 27.3380 | Train_loss_dna: 1.8061 | Train_acc_dna: 28.7847 | Validation_loss_mri: 1.4743 | Validation_acc_mri: 15.6250 | Validation_loss_dna: 1.9191 | Validation_acc_dna: 10.9375\u001b[32m [repeated 4x across cluster]\u001b[0m\n"
     ]
    },
    {
     "name": "stderr",
     "output_type": "stream",
     "text": [
      " 70%|\u001b[34m███████   \u001b[0m| 7/10 [00:27<00:11,  3.92s/it]\u001b[32m [repeated 4x across cluster]\u001b[0m\n"
     ]
    },
    {
     "name": "stdout",
     "output_type": "stream",
     "text": [
      "\u001b[36m(launch_and_fit pid=1391)\u001b[0m \tTrain Epoch: 8 \tTrain_loss_mri: 1.3672 | Train_acc_mri: 26.5394 | Train_loss_dna: 1.7558 | Train_acc_dna: 32.2222 | Validation_loss_mri: 1.4469 | Validation_acc_mri: 18.7500 | Validation_loss_dna: 1.9680 | Validation_acc_dna: 10.9375\u001b[32m [repeated 4x across cluster]\u001b[0m\n"
     ]
    },
    {
     "name": "stderr",
     "output_type": "stream",
     "text": [
      " 90%|\u001b[34m█████████ \u001b[0m| 9/10 [00:35<00:03,  3.94s/it]\u001b[32m [repeated 4x across cluster]\u001b[0m\n"
     ]
    },
    {
     "name": "stdout",
     "output_type": "stream",
     "text": [
      "\u001b[36m(launch_and_fit pid=1391)\u001b[0m save graph in  results/FL/\n",
      "\u001b[36m(launch_and_fit pid=1391)\u001b[0m \tTrain Epoch: 10 \tTrain_loss_mri: 1.3666 | Train_acc_mri: 28.1597 | Train_loss_dna: 1.7403 | Train_acc_dna: 32.9630 | Validation_loss_mri: 1.4781 | Validation_acc_mri: 15.6250 | Validation_loss_dna: 2.0320 | Validation_acc_dna: 14.0625\u001b[32m [repeated 4x across cluster]\u001b[0m\n",
      "\u001b[36m(launch_and_fit pid=1463)\u001b[0m Run WITHOUT homomorphic encryption\n",
      "\u001b[36m(launch_and_fit pid=1463)\u001b[0m  To get the checkpoint\n",
      "\u001b[36m(launch_and_fit pid=1389)\u001b[0m save graph in  results/FL/\n",
      "\u001b[36m(launch_and_fit pid=1389)\u001b[0m \tTrain Epoch: 10 \tTrain_loss_mri: 1.3840 | Train_acc_mri: 29.1319 | Train_loss_dna: 1.8193 | Train_acc_dna: 29.7801 | Validation_loss_mri: 1.3556 | Validation_acc_mri: 36.9792 | Validation_loss_dna: 1.8007 | Validation_acc_dna: 30.7292\n"
     ]
    },
    {
     "name": "stderr",
     "output_type": "stream",
     "text": [
      "  0%|\u001b[34m          \u001b[0m| 0/10 [00:00<?, ?it/s]\n",
      "100%|\u001b[34m██████████\u001b[0m| 10/10 [00:40<00:00,  4.02s/it]\u001b[32m [repeated 3x across cluster]\u001b[0m\n"
     ]
    },
    {
     "name": "stdout",
     "output_type": "stream",
     "text": [
      "\u001b[36m(launch_and_fit pid=1463)\u001b[0m [Client 2, round 2] fit, config: {'learning_rate': 0.003, 'batch_size': '32', 'server_round': 2, 'local_epochs': 10}\n",
      "\u001b[36m(launch_and_fit pid=1463)\u001b[0m Updated model\n",
      "\u001b[36m(launch_and_fit pid=1463)\u001b[0m \tTrain Epoch: 1 \tTrain_loss_mri: 1.3902 | Train_acc_mri: 27.2801 | Train_loss_dna: 1.8266 | Train_acc_dna: 31.1458 | Validation_loss_mri: 1.3470 | Validation_acc_mri: 52.0833 | Validation_loss_dna: 1.7894 | Validation_acc_dna: 27.6042\n",
      "\u001b[36m(launch_and_fit pid=1465)\u001b[0m Run WITHOUT homomorphic encryption\n",
      "\u001b[36m(launch_and_fit pid=1465)\u001b[0m  To get the checkpoint\n"
     ]
    },
    {
     "name": "stderr",
     "output_type": "stream",
     "text": [
      "  0%|\u001b[34m          \u001b[0m| 0/10 [00:00<?, ?it/s]\n",
      " 20%|\u001b[34m██        \u001b[0m| 2/10 [00:08<00:33,  4.17s/it]\u001b[32m [repeated 3x across cluster]\u001b[0m\n"
     ]
    },
    {
     "name": "stdout",
     "output_type": "stream",
     "text": [
      "\u001b[36m(launch_and_fit pid=1465)\u001b[0m [Client 6, round 2] fit, config: {'learning_rate': 0.003, 'batch_size': '32', 'server_round': 2, 'local_epochs': 10}\n",
      "\u001b[36m(launch_and_fit pid=1465)\u001b[0m Updated model\n",
      "\u001b[36m(launch_and_fit pid=1463)\u001b[0m \tTrain Epoch: 3 \tTrain_loss_mri: 1.3780 | Train_acc_mri: 28.8426 | Train_loss_dna: 1.7750 | Train_acc_dna: 31.0301 | Validation_loss_mri: 1.3612 | Validation_acc_mri: 29.1667 | Validation_loss_dna: 1.6717 | Validation_acc_dna: 27.6042\u001b[32m [repeated 4x across cluster]\u001b[0m\n"
     ]
    },
    {
     "name": "stderr",
     "output_type": "stream",
     "text": [
      " 40%|\u001b[34m████      \u001b[0m| 4/10 [00:16<00:24,  4.08s/it]\u001b[32m [repeated 4x across cluster]\u001b[0m\n"
     ]
    },
    {
     "name": "stdout",
     "output_type": "stream",
     "text": [
      "\u001b[36m(launch_and_fit pid=1465)\u001b[0m \tTrain Epoch: 5 \tTrain_loss_mri: 1.3806 | Train_acc_mri: 31.5741 | Train_loss_dna: 1.7002 | Train_acc_dna: 36.9444 | Validation_loss_mri: 1.3721 | Validation_acc_mri: 30.7292 | Validation_loss_dna: 1.7630 | Validation_acc_dna: 30.7292\u001b[32m [repeated 4x across cluster]\u001b[0m\n"
     ]
    },
    {
     "name": "stderr",
     "output_type": "stream",
     "text": [
      " 60%|\u001b[34m██████    \u001b[0m| 6/10 [00:23<00:15,  3.93s/it]\u001b[32m [repeated 4x across cluster]\u001b[0m\n"
     ]
    },
    {
     "name": "stdout",
     "output_type": "stream",
     "text": [
      "\u001b[36m(launch_and_fit pid=1465)\u001b[0m \tTrain Epoch: 7 \tTrain_loss_mri: 1.3830 | Train_acc_mri: 29.6644 | Train_loss_dna: 1.6487 | Train_acc_dna: 39.0162 | Validation_loss_mri: 1.3559 | Validation_acc_mri: 30.7292 | Validation_loss_dna: 1.7364 | Validation_acc_dna: 42.7083\u001b[32m [repeated 4x across cluster]\u001b[0m\n"
     ]
    },
    {
     "name": "stderr",
     "output_type": "stream",
     "text": [
      " 80%|\u001b[34m████████  \u001b[0m| 8/10 [00:31<00:07,  3.85s/it]\u001b[32m [repeated 4x across cluster]\u001b[0m\n"
     ]
    },
    {
     "name": "stdout",
     "output_type": "stream",
     "text": [
      "\u001b[36m(launch_and_fit pid=1465)\u001b[0m \tTrain Epoch: 9 \tTrain_loss_mri: 1.3748 | Train_acc_mri: 29.8611 | Train_loss_dna: 1.6820 | Train_acc_dna: 39.1319 | Validation_loss_mri: 1.3682 | Validation_acc_mri: 32.2917 | Validation_loss_dna: 1.7423 | Validation_acc_dna: 45.8333\u001b[32m [repeated 4x across cluster]\u001b[0m\n",
      "\u001b[36m(launch_and_fit pid=1465)\u001b[0m save graph in  results/FL/\n"
     ]
    },
    {
     "name": "stderr",
     "output_type": "stream",
     "text": [
      "100%|\u001b[34m██████████\u001b[0m| 10/10 [00:39<00:00,  3.97s/it]\u001b[32m [repeated 4x across cluster]\u001b[0m\n",
      "DEBUG flwr 2024-08-05 11:08:59,152 | server.py:236 | fit_round 2 received 10 results and 0 failures\n"
     ]
    },
    {
     "name": "stdout",
     "output_type": "stream",
     "text": [
      "Saving round 2 aggregated_parameters...\n",
      "Updated model\n"
     ]
    },
    {
     "name": "stderr",
     "output_type": "stream",
     "text": [
      "INFO flwr 2024-08-05 11:09:05,562 | server.py:125 | fit progress: (2, (1.3795756569930486, 1.7646245232650213), {'accuracy': (30.91517857142857, 31.473214285714285)}, 604.697330602)\n",
      "DEBUG flwr 2024-08-05 11:09:05,563 | server.py:173 | evaluate_round 2: strategy sampled 10 clients (out of 10)\n"
     ]
    },
    {
     "name": "stdout",
     "output_type": "stream",
     "text": [
      "Server-side evaluation MRI loss 1.3795756569930486 / MRI accuracy 30.91517857142857\n",
      "Server-side evaluation DNA loss 1.7646245232650213 / DNA accuracy 31.473214285714285\n",
      "\u001b[36m(launch_and_evaluate pid=1547)\u001b[0m Run WITHOUT homomorphic encryption\n",
      "\u001b[36m(launch_and_evaluate pid=1547)\u001b[0m  To get the checkpoint\n",
      "\u001b[36m(launch_and_fit pid=1463)\u001b[0m \tTrain Epoch: 10 \tTrain_loss_mri: 1.3787 | Train_acc_mri: 33.9931 | Train_loss_dna: 1.6651 | Train_acc_dna: 36.1458 | Validation_loss_mri: 1.3768 | Validation_acc_mri: 12.5000 | Validation_loss_dna: 1.6103 | Validation_acc_dna: 26.0417\u001b[32m [repeated 3x across cluster]\u001b[0m\n",
      "\u001b[36m(launch_and_fit pid=1463)\u001b[0m save graph in  results/FL/\n",
      "\u001b[36m(launch_and_evaluate pid=1547)\u001b[0m [Client 4] evaluate, config: {}\n",
      "\u001b[36m(launch_and_evaluate pid=1547)\u001b[0m Updated model\n"
     ]
    },
    {
     "name": "stderr",
     "output_type": "stream",
     "text": [
      "\u001b[36m(launch_and_evaluate pid=1548)\u001b[0m /opt/conda/lib/python3.10/site-packages/sklearn/metrics/_ranking.py:1029: UndefinedMetricWarning: No positive samples in y_true, true positive value should be meaningless\n",
      "\u001b[36m(launch_and_evaluate pid=1548)\u001b[0m   warnings.warn(\n",
      "100%|\u001b[34m██████████\u001b[0m| 10/10 [00:40<00:00,  4.08s/it]\n"
     ]
    },
    {
     "name": "stdout",
     "output_type": "stream",
     "text": [
      "\u001b[36m(launch_and_evaluate pid=1619)\u001b[0m Run WITHOUT homomorphic encryption\u001b[32m [repeated 2x across cluster]\u001b[0m\n",
      "\u001b[36m(launch_and_evaluate pid=1619)\u001b[0m  To get the checkpoint\u001b[32m [repeated 2x across cluster]\u001b[0m\n",
      "\u001b[36m(launch_and_evaluate pid=1548)\u001b[0m [Client 9] evaluate, config: {}\n",
      "\u001b[36m(launch_and_evaluate pid=1548)\u001b[0m Updated model\n",
      "\u001b[36m(launch_and_evaluate pid=1619)\u001b[0m [Client 0] evaluate, config: {}\n",
      "\u001b[36m(launch_and_evaluate pid=1619)\u001b[0m Updated model\n",
      "\u001b[36m(launch_and_evaluate pid=1689)\u001b[0m Run WITHOUT homomorphic encryption\u001b[32m [repeated 2x across cluster]\u001b[0m\n",
      "\u001b[36m(launch_and_evaluate pid=1689)\u001b[0m  To get the checkpoint\u001b[32m [repeated 2x across cluster]\u001b[0m\n",
      "\u001b[36m(launch_and_evaluate pid=1621)\u001b[0m [Client 7] evaluate, config: {}\n",
      "\u001b[36m(launch_and_evaluate pid=1621)\u001b[0m Updated model\n",
      "\u001b[36m(launch_and_evaluate pid=1689)\u001b[0m [Client 8] evaluate, config: {}\n",
      "\u001b[36m(launch_and_evaluate pid=1689)\u001b[0m Updated model\n"
     ]
    },
    {
     "name": "stderr",
     "output_type": "stream",
     "text": [
      "\u001b[36m(launch_and_evaluate pid=1689)\u001b[0m /opt/conda/lib/python3.10/site-packages/sklearn/metrics/_ranking.py:1029: UndefinedMetricWarning: No positive samples in y_true, true positive value should be meaningless\u001b[32m [repeated 2x across cluster]\u001b[0m\n",
      "\u001b[36m(launch_and_evaluate pid=1689)\u001b[0m   warnings.warn(\u001b[32m [repeated 2x across cluster]\u001b[0m\n"
     ]
    },
    {
     "name": "stdout",
     "output_type": "stream",
     "text": [
      "\u001b[36m(launch_and_evaluate pid=1759)\u001b[0m Run WITHOUT homomorphic encryption\u001b[32m [repeated 2x across cluster]\u001b[0m\n",
      "\u001b[36m(launch_and_evaluate pid=1759)\u001b[0m  To get the checkpoint\u001b[32m [repeated 2x across cluster]\u001b[0m\n",
      "\u001b[36m(launch_and_evaluate pid=1691)\u001b[0m [Client 2] evaluate, config: {}\n",
      "\u001b[36m(launch_and_evaluate pid=1691)\u001b[0m Updated model\n",
      "\u001b[36m(launch_and_evaluate pid=1759)\u001b[0m [Client 1] evaluate, config: {}\n",
      "\u001b[36m(launch_and_evaluate pid=1759)\u001b[0m Updated model\n",
      "\u001b[36m(launch_and_evaluate pid=1829)\u001b[0m Run WITHOUT homomorphic encryption\u001b[32m [repeated 2x across cluster]\u001b[0m\n",
      "\u001b[36m(launch_and_evaluate pid=1829)\u001b[0m  To get the checkpoint\u001b[32m [repeated 2x across cluster]\u001b[0m\n",
      "\u001b[36m(launch_and_evaluate pid=1761)\u001b[0m [Client 5] evaluate, config: {}\n",
      "\u001b[36m(launch_and_evaluate pid=1761)\u001b[0m Updated model\n",
      "\u001b[36m(launch_and_evaluate pid=1829)\u001b[0m [Client 3] evaluate, config: {}\n",
      "\u001b[36m(launch_and_evaluate pid=1829)\u001b[0m Updated model\n"
     ]
    },
    {
     "name": "stderr",
     "output_type": "stream",
     "text": [
      "DEBUG flwr 2024-08-05 11:10:13,165 | server.py:187 | evaluate_round 2 received 10 results and 0 failures\n",
      "DEBUG flwr 2024-08-05 11:10:13,166 | server.py:222 | fit_round 3: strategy sampled 10 clients (out of 10)\n"
     ]
    },
    {
     "name": "stdout",
     "output_type": "stream",
     "text": [
      "\u001b[36m(launch_and_fit pid=1909)\u001b[0m Run WITHOUT homomorphic encryption\u001b[32m [repeated 2x across cluster]\u001b[0m\n",
      "\u001b[36m(launch_and_fit pid=1909)\u001b[0m  To get the checkpoint\u001b[32m [repeated 2x across cluster]\u001b[0m\n",
      "\u001b[36m(launch_and_evaluate pid=1831)\u001b[0m [Client 6] evaluate, config: {}\n",
      "\u001b[36m(launch_and_evaluate pid=1831)\u001b[0m Updated model\n"
     ]
    },
    {
     "name": "stderr",
     "output_type": "stream",
     "text": [
      "  0%|\u001b[34m          \u001b[0m| 0/10 [00:00<?, ?it/s]\n"
     ]
    },
    {
     "name": "stdout",
     "output_type": "stream",
     "text": [
      "\u001b[36m(launch_and_fit pid=1909)\u001b[0m [Client 2, round 3] fit, config: {'learning_rate': 0.003, 'batch_size': '32', 'server_round': 3, 'local_epochs': 10}\n",
      "\u001b[36m(launch_and_fit pid=1909)\u001b[0m Updated model\n",
      "\u001b[36m(launch_and_fit pid=1908)\u001b[0m \tTrain Epoch: 1 \tTrain_loss_mri: 1.3889 | Train_acc_mri: 29.7222 | Train_loss_dna: 1.7093 | Train_acc_dna: 38.8194 | Validation_loss_mri: 1.4062 | Validation_acc_mri: 15.6250 | Validation_loss_dna: 1.8021 | Validation_acc_dna: 30.7292\n"
     ]
    },
    {
     "name": "stderr",
     "output_type": "stream",
     "text": [
      " 10%|\u001b[34m█         \u001b[0m| 1/10 [00:04<00:38,  4.28s/it]\n"
     ]
    },
    {
     "name": "stdout",
     "output_type": "stream",
     "text": [
      "\u001b[36m(launch_and_fit pid=1908)\u001b[0m Run WITHOUT homomorphic encryption\n",
      "\u001b[36m(launch_and_fit pid=1908)\u001b[0m  To get the checkpoint\n",
      "\u001b[36m(launch_and_fit pid=1908)\u001b[0m [Client 6, round 3] fit, config: {'learning_rate': 0.003, 'batch_size': '32', 'server_round': 3, 'local_epochs': 10}\n",
      "\u001b[36m(launch_and_fit pid=1908)\u001b[0m Updated model\n"
     ]
    },
    {
     "name": "stderr",
     "output_type": "stream",
     "text": [
      "  0%|\u001b[34m          \u001b[0m| 0/10 [00:00<?, ?it/s]\n"
     ]
    },
    {
     "name": "stdout",
     "output_type": "stream",
     "text": [
      "\u001b[36m(launch_and_fit pid=1908)\u001b[0m \tTrain Epoch: 3 \tTrain_loss_mri: 1.3854 | Train_acc_mri: 29.8380 | Train_loss_dna: 1.6939 | Train_acc_dna: 37.2801 | Validation_loss_mri: 1.3761 | Validation_acc_mri: 32.2917 | Validation_loss_dna: 1.7023 | Validation_acc_dna: 45.8333\u001b[32m [repeated 4x across cluster]\u001b[0m\n"
     ]
    },
    {
     "name": "stderr",
     "output_type": "stream",
     "text": [
      " 30%|\u001b[34m███       \u001b[0m| 3/10 [00:12<00:27,  3.97s/it]\u001b[32m [repeated 4x across cluster]\u001b[0m\n"
     ]
    },
    {
     "name": "stdout",
     "output_type": "stream",
     "text": [
      "\u001b[36m(launch_and_fit pid=1908)\u001b[0m \tTrain Epoch: 5 \tTrain_loss_mri: 1.3750 | Train_acc_mri: 32.7083 | Train_loss_dna: 1.6169 | Train_acc_dna: 40.4977 | Validation_loss_mri: 1.4161 | Validation_acc_mri: 32.2917 | Validation_loss_dna: 1.6977 | Validation_acc_dna: 45.8333\u001b[32m [repeated 4x across cluster]\u001b[0m\n"
     ]
    },
    {
     "name": "stderr",
     "output_type": "stream",
     "text": [
      " 50%|\u001b[34m█████     \u001b[0m| 5/10 [00:19<00:19,  3.93s/it]\u001b[32m [repeated 4x across cluster]\u001b[0m\n"
     ]
    },
    {
     "name": "stdout",
     "output_type": "stream",
     "text": [
      "\u001b[36m(launch_and_fit pid=1908)\u001b[0m \tTrain Epoch: 7 \tTrain_loss_mri: 1.3754 | Train_acc_mri: 31.8287 | Train_loss_dna: 1.5922 | Train_acc_dna: 40.7755 | Validation_loss_mri: 1.4461 | Validation_acc_mri: 32.2917 | Validation_loss_dna: 1.8171 | Validation_acc_dna: 45.8333\u001b[32m [repeated 4x across cluster]\u001b[0m\n"
     ]
    },
    {
     "name": "stderr",
     "output_type": "stream",
     "text": [
      " 70%|\u001b[34m███████   \u001b[0m| 7/10 [00:27<00:11,  3.85s/it]\u001b[32m [repeated 4x across cluster]\u001b[0m\n"
     ]
    },
    {
     "name": "stdout",
     "output_type": "stream",
     "text": [
      "\u001b[36m(launch_and_fit pid=1908)\u001b[0m \tTrain Epoch: 9 \tTrain_loss_mri: 1.3744 | Train_acc_mri: 32.9630 | Train_loss_dna: 1.5876 | Train_acc_dna: 41.6898 | Validation_loss_mri: 1.4017 | Validation_acc_mri: 32.2917 | Validation_loss_dna: 1.8367 | Validation_acc_dna: 45.8333\u001b[32m [repeated 4x across cluster]\u001b[0m\n"
     ]
    },
    {
     "name": "stderr",
     "output_type": "stream",
     "text": [
      " 90%|\u001b[34m█████████ \u001b[0m| 9/10 [00:34<00:03,  3.81s/it]\u001b[32m [repeated 4x across cluster]\u001b[0m\n"
     ]
    },
    {
     "name": "stdout",
     "output_type": "stream",
     "text": [
      "\u001b[36m(launch_and_fit pid=1908)\u001b[0m save graph in  results/FL/\n",
      "\u001b[36m(launch_and_fit pid=1982)\u001b[0m Run WITHOUT homomorphic encryption\n",
      "\u001b[36m(launch_and_fit pid=1982)\u001b[0m  To get the checkpoint\n",
      "\u001b[36m(launch_and_fit pid=1909)\u001b[0m \tTrain Epoch: 10 \tTrain_loss_mri: 1.3775 | Train_acc_mri: 30.5787 | Train_loss_dna: 1.6507 | Train_acc_dna: 34.1898 | Validation_loss_mri: 1.4173 | Validation_acc_mri: 32.2917 | Validation_loss_dna: 1.7642 | Validation_acc_dna: 22.9167\u001b[32m [repeated 3x across cluster]\u001b[0m\n",
      "\u001b[36m(launch_and_fit pid=1909)\u001b[0m save graph in  results/FL/\n",
      "\u001b[36m(launch_and_fit pid=1982)\u001b[0m [Client 5, round 3] fit, config: {'learning_rate': 0.003, 'batch_size': '32', 'server_round': 3, 'local_epochs': 10}\n",
      "\u001b[36m(launch_and_fit pid=1982)\u001b[0m Updated model\n"
     ]
    },
    {
     "name": "stderr",
     "output_type": "stream",
     "text": [
      "  0%|\u001b[34m          \u001b[0m| 0/10 [00:00<?, ?it/s]\n",
      "100%|\u001b[34m██████████\u001b[0m| 10/10 [00:39<00:00,  4.00s/it]\u001b[32m [repeated 3x across cluster]\u001b[0m\n"
     ]
    },
    {
     "name": "stdout",
     "output_type": "stream",
     "text": [
      "\u001b[36m(launch_and_fit pid=2007)\u001b[0m Run WITHOUT homomorphic encryption\n",
      "\u001b[36m(launch_and_fit pid=2007)\u001b[0m  To get the checkpoint\n",
      "\u001b[36m(launch_and_fit pid=1982)\u001b[0m \tTrain Epoch: 1 \tTrain_loss_mri: 1.3875 | Train_acc_mri: 25.6019 | Train_loss_dna: 1.8280 | Train_acc_dna: 26.8287 | Validation_loss_mri: 1.4158 | Validation_acc_mri: 15.6250 | Validation_loss_dna: 1.8254 | Validation_acc_dna: 15.6250\n"
     ]
    },
    {
     "name": "stderr",
     "output_type": "stream",
     "text": [
      "  0%|\u001b[34m          \u001b[0m| 0/10 [00:00<?, ?it/s]\n",
      " 10%|\u001b[34m█         \u001b[0m| 1/10 [00:04<00:39,  4.34s/it]\u001b[32m [repeated 2x across cluster]\u001b[0m\n"
     ]
    },
    {
     "name": "stdout",
     "output_type": "stream",
     "text": [
      "\u001b[36m(launch_and_fit pid=2007)\u001b[0m \tTrain Epoch: 1 \tTrain_loss_mri: 1.3777 | Train_acc_mri: 32.4537 | Train_loss_dna: 1.7526 | Train_acc_dna: 32.7662 | Validation_loss_mri: 1.4764 | Validation_acc_mri: 17.1875 | Validation_loss_dna: 1.6052 | Validation_acc_dna: 40.1042\n",
      "\u001b[36m(launch_and_fit pid=2007)\u001b[0m [Client 4, round 3] fit, config: {'learning_rate': 0.003, 'batch_size': '32', 'server_round': 3, 'local_epochs': 10}\n",
      "\u001b[36m(launch_and_fit pid=2007)\u001b[0m Updated model\n",
      "\u001b[36m(launch_and_fit pid=1982)\u001b[0m \tTrain Epoch: 3 \tTrain_loss_mri: 1.3686 | Train_acc_mri: 28.9583 | Train_loss_dna: 1.7720 | Train_acc_dna: 30.0926 | Validation_loss_mri: 1.4185 | Validation_acc_mri: 17.1875 | Validation_loss_dna: 1.7612 | Validation_acc_dna: 14.0625\u001b[32m [repeated 3x across cluster]\u001b[0m\n"
     ]
    },
    {
     "name": "stderr",
     "output_type": "stream",
     "text": [
      " 30%|\u001b[34m███       \u001b[0m| 3/10 [00:12<00:28,  4.04s/it]\u001b[32m [repeated 3x across cluster]\u001b[0m\n"
     ]
    },
    {
     "name": "stdout",
     "output_type": "stream",
     "text": [
      "\u001b[36m(launch_and_fit pid=1982)\u001b[0m \tTrain Epoch: 5 \tTrain_loss_mri: 1.1857 | Train_acc_mri: 49.5602 | Train_loss_dna: 1.7636 | Train_acc_dna: 31.4815 | Validation_loss_mri: 1.3606 | Validation_acc_mri: 25.0000 | Validation_loss_dna: 1.7417 | Validation_acc_dna: 12.5000\u001b[32m [repeated 4x across cluster]\u001b[0m\n"
     ]
    },
    {
     "name": "stderr",
     "output_type": "stream",
     "text": [
      " 50%|\u001b[34m█████     \u001b[0m| 5/10 [00:20<00:19,  3.97s/it]\u001b[32m [repeated 4x across cluster]\u001b[0m\n"
     ]
    },
    {
     "name": "stdout",
     "output_type": "stream",
     "text": [
      "\u001b[36m(launch_and_fit pid=1982)\u001b[0m \tTrain Epoch: 7 \tTrain_loss_mri: 0.8040 | Train_acc_mri: 60.5324 | Train_loss_dna: 1.7345 | Train_acc_dna: 32.1412 | Validation_loss_mri: 1.2340 | Validation_acc_mri: 28.1250 | Validation_loss_dna: 1.7450 | Validation_acc_dna: 15.6250\u001b[32m [repeated 4x across cluster]\u001b[0m\n"
     ]
    },
    {
     "name": "stderr",
     "output_type": "stream",
     "text": [
      " 70%|\u001b[34m███████   \u001b[0m| 7/10 [00:28<00:11,  3.97s/it]\u001b[32m [repeated 4x across cluster]\u001b[0m\n"
     ]
    },
    {
     "name": "stdout",
     "output_type": "stream",
     "text": [
      "\u001b[36m(launch_and_fit pid=1982)\u001b[0m \tTrain Epoch: 9 \tTrain_loss_mri: 0.5392 | Train_acc_mri: 78.4028 | Train_loss_dna: 1.7319 | Train_acc_dna: 33.0208 | Validation_loss_mri: 1.0752 | Validation_acc_mri: 29.6875 | Validation_loss_dna: 1.7665 | Validation_acc_dna: 14.0625\u001b[32m [repeated 4x across cluster]\u001b[0m\n"
     ]
    },
    {
     "name": "stderr",
     "output_type": "stream",
     "text": [
      " 90%|\u001b[34m█████████ \u001b[0m| 9/10 [00:36<00:04,  4.04s/it]\u001b[32m [repeated 4x across cluster]\u001b[0m\n"
     ]
    },
    {
     "name": "stdout",
     "output_type": "stream",
     "text": [
      "\u001b[36m(launch_and_fit pid=1982)\u001b[0m save graph in  results/FL/\n",
      "\u001b[36m(launch_and_fit pid=2056)\u001b[0m Run WITHOUT homomorphic encryption\n",
      "\u001b[36m(launch_and_fit pid=2056)\u001b[0m  To get the checkpoint\n",
      "\u001b[36m(launch_and_fit pid=2007)\u001b[0m \tTrain Epoch: 10 \tTrain_loss_mri: 1.3619 | Train_acc_mri: 34.1551 | Train_loss_dna: 1.6340 | Train_acc_dna: 34.6991 | Validation_loss_mri: 1.4438 | Validation_acc_mri: 17.1875 | Validation_loss_dna: 1.5467 | Validation_acc_dna: 43.2292\u001b[32m [repeated 3x across cluster]\u001b[0m\n",
      "\u001b[36m(launch_and_fit pid=2007)\u001b[0m save graph in  results/FL/\n",
      "\u001b[36m(launch_and_fit pid=2056)\u001b[0m [Client 9, round 3] fit, config: {'learning_rate': 0.003, 'batch_size': '32', 'server_round': 3, 'local_epochs': 10}\n",
      "\u001b[36m(launch_and_fit pid=2056)\u001b[0m Updated model\n"
     ]
    },
    {
     "name": "stderr",
     "output_type": "stream",
     "text": [
      "  0%|\u001b[34m          \u001b[0m| 0/10 [00:00<?, ?it/s]\n",
      "100%|\u001b[34m██████████\u001b[0m| 10/10 [00:39<00:00,  3.91s/it]\u001b[32m [repeated 3x across cluster]\u001b[0m\n",
      "  0%|\u001b[34m          \u001b[0m| 0/10 [00:00<?, ?it/s]\n",
      " 10%|\u001b[34m█         \u001b[0m| 1/10 [00:04<00:40,  4.47s/it]\u001b[32m [repeated 2x across cluster]\u001b[0m\n"
     ]
    },
    {
     "name": "stdout",
     "output_type": "stream",
     "text": [
      "\u001b[36m(launch_and_fit pid=2058)\u001b[0m Run WITHOUT homomorphic encryption\n",
      "\u001b[36m(launch_and_fit pid=2058)\u001b[0m  To get the checkpoint\n",
      "\u001b[36m(launch_and_fit pid=2058)\u001b[0m \tTrain Epoch: 1 \tTrain_loss_mri: 1.3738 | Train_acc_mri: 27.5347 | Train_loss_dna: 1.7838 | Train_acc_dna: 31.8287 | Validation_loss_mri: 1.4483 | Validation_acc_mri: 26.0417 | Validation_loss_dna: 2.2282 | Validation_acc_dna: 32.2917\u001b[32m [repeated 2x across cluster]\u001b[0m\n",
      "\u001b[36m(launch_and_fit pid=2058)\u001b[0m [Client 1, round 3] fit, config: {'learning_rate': 0.003, 'batch_size': '32', 'server_round': 3, 'local_epochs': 10}\n",
      "\u001b[36m(launch_and_fit pid=2058)\u001b[0m Updated model\n"
     ]
    },
    {
     "name": "stderr",
     "output_type": "stream",
     "text": [
      " 30%|\u001b[34m███       \u001b[0m| 3/10 [00:12<00:29,  4.16s/it]\u001b[32m [repeated 3x across cluster]\u001b[0m\n"
     ]
    },
    {
     "name": "stdout",
     "output_type": "stream",
     "text": [
      "\u001b[36m(launch_and_fit pid=2056)\u001b[0m \tTrain Epoch: 3 \tTrain_loss_mri: 1.3409 | Train_acc_mri: 37.6915 | Train_loss_dna: 1.6990 | Train_acc_dna: 37.6008 | Validation_loss_mri: 1.2643 | Validation_acc_mri: 53.6458 | Validation_loss_dna: 1.6379 | Validation_acc_dna: 33.8542\u001b[32m [repeated 3x across cluster]\u001b[0m\n"
     ]
    },
    {
     "name": "stderr",
     "output_type": "stream",
     "text": [
      " 50%|\u001b[34m█████     \u001b[0m| 5/10 [00:20<00:19,  3.97s/it]\u001b[32m [repeated 4x across cluster]\u001b[0m\n"
     ]
    },
    {
     "name": "stdout",
     "output_type": "stream",
     "text": [
      "\u001b[36m(launch_and_fit pid=2056)\u001b[0m \tTrain Epoch: 5 \tTrain_loss_mri: 1.0159 | Train_acc_mri: 52.0161 | Train_loss_dna: 1.6846 | Train_acc_dna: 39.2238 | Validation_loss_mri: 0.8997 | Validation_acc_mri: 61.4583 | Validation_loss_dna: 1.6320 | Validation_acc_dna: 33.8542\u001b[32m [repeated 4x across cluster]\u001b[0m\n"
     ]
    },
    {
     "name": "stderr",
     "output_type": "stream",
     "text": [
      " 70%|\u001b[34m███████   \u001b[0m| 7/10 [00:27<00:11,  3.91s/it]\u001b[32m [repeated 4x across cluster]\u001b[0m\n"
     ]
    },
    {
     "name": "stdout",
     "output_type": "stream",
     "text": [
      "\u001b[36m(launch_and_fit pid=2056)\u001b[0m \tTrain Epoch: 7 \tTrain_loss_mri: 0.7194 | Train_acc_mri: 61.4315 | Train_loss_dna: 1.6416 | Train_acc_dna: 38.2157 | Validation_loss_mri: 0.8210 | Validation_acc_mri: 81.2500 | Validation_loss_dna: 1.7180 | Validation_acc_dna: 33.8542\u001b[32m [repeated 4x across cluster]\u001b[0m\n"
     ]
    },
    {
     "name": "stderr",
     "output_type": "stream",
     "text": [
      " 90%|\u001b[34m█████████ \u001b[0m| 9/10 [00:35<00:03,  3.91s/it]\u001b[32m [repeated 4x across cluster]\u001b[0m\n"
     ]
    },
    {
     "name": "stdout",
     "output_type": "stream",
     "text": [
      "\u001b[36m(launch_and_fit pid=2056)\u001b[0m \tTrain Epoch: 9 \tTrain_loss_mri: 0.5194 | Train_acc_mri: 80.8266 | Train_loss_dna: 1.6156 | Train_acc_dna: 40.1109 | Validation_loss_mri: 0.7100 | Validation_acc_mri: 76.5625 | Validation_loss_dna: 1.7004 | Validation_acc_dna: 36.9792\u001b[32m [repeated 4x across cluster]\u001b[0m\n",
      "\u001b[36m(launch_and_fit pid=2056)\u001b[0m save graph in  results/FL/\n"
     ]
    },
    {
     "name": "stderr",
     "output_type": "stream",
     "text": [
      "100%|\u001b[34m██████████\u001b[0m| 10/10 [00:40<00:00,  4.01s/it]\u001b[32m [repeated 3x across cluster]\u001b[0m\n"
     ]
    },
    {
     "name": "stdout",
     "output_type": "stream",
     "text": [
      "\u001b[36m(launch_and_fit pid=2058)\u001b[0m \tTrain Epoch: 10 \tTrain_loss_mri: 1.0539 | Train_acc_mri: 48.9352 | Train_loss_dna: 1.6423 | Train_acc_dna: 37.8241 | Validation_loss_mri: 1.0509 | Validation_acc_mri: 55.2083 | Validation_loss_dna: 2.4771 | Validation_acc_dna: 10.9375\u001b[32m [repeated 3x across cluster]\u001b[0m\n",
      "\u001b[36m(launch_and_fit pid=2130)\u001b[0m Run WITHOUT homomorphic encryption\n",
      "\u001b[36m(launch_and_fit pid=2130)\u001b[0m  To get the checkpoint\n",
      "\u001b[36m(launch_and_fit pid=2058)\u001b[0m save graph in  results/FL/\n"
     ]
    },
    {
     "name": "stderr",
     "output_type": "stream",
     "text": [
      "  0%|\u001b[34m          \u001b[0m| 0/10 [00:00<?, ?it/s]\n"
     ]
    },
    {
     "name": "stdout",
     "output_type": "stream",
     "text": [
      "\u001b[36m(launch_and_fit pid=2130)\u001b[0m [Client 8, round 3] fit, config: {'learning_rate': 0.003, 'batch_size': '32', 'server_round': 3, 'local_epochs': 10}\n",
      "\u001b[36m(launch_and_fit pid=2130)\u001b[0m Updated model\n"
     ]
    },
    {
     "name": "stderr",
     "output_type": "stream",
     "text": [
      " 10%|\u001b[34m█         \u001b[0m| 1/10 [00:04<00:40,  4.55s/it]\n"
     ]
    },
    {
     "name": "stdout",
     "output_type": "stream",
     "text": [
      "\u001b[36m(launch_and_fit pid=2130)\u001b[0m \tTrain Epoch: 1 \tTrain_loss_mri: 1.3912 | Train_acc_mri: 24.0394 | Train_loss_dna: 1.7774 | Train_acc_dna: 30.6597 | Validation_loss_mri: 1.3908 | Validation_acc_mri: 20.3125 | Validation_loss_dna: 1.8242 | Validation_acc_dna: 10.9375\n",
      "\u001b[36m(launch_and_fit pid=2155)\u001b[0m Run WITHOUT homomorphic encryption\n",
      "\u001b[36m(launch_and_fit pid=2155)\u001b[0m  To get the checkpoint\n",
      "\u001b[36m(launch_and_fit pid=2155)\u001b[0m [Client 3, round 3] fit, config: {'learning_rate': 0.003, 'batch_size': '32', 'server_round': 3, 'local_epochs': 10}\n",
      "\u001b[36m(launch_and_fit pid=2155)\u001b[0m Updated model\n"
     ]
    },
    {
     "name": "stderr",
     "output_type": "stream",
     "text": [
      "  0%|\u001b[34m          \u001b[0m| 0/10 [00:00<?, ?it/s]\n",
      " 30%|\u001b[34m███       \u001b[0m| 3/10 [00:12<00:28,  4.14s/it]\u001b[32m [repeated 4x across cluster]\u001b[0m\n"
     ]
    },
    {
     "name": "stdout",
     "output_type": "stream",
     "text": [
      "\u001b[36m(launch_and_fit pid=2130)\u001b[0m \tTrain Epoch: 3 \tTrain_loss_mri: 1.3814 | Train_acc_mri: 26.4005 | Train_loss_dna: 1.7505 | Train_acc_dna: 31.0880 | Validation_loss_mri: 1.4064 | Validation_acc_mri: 14.0625 | Validation_loss_dna: 1.8348 | Validation_acc_dna: 14.0625\u001b[32m [repeated 4x across cluster]\u001b[0m\n"
     ]
    },
    {
     "name": "stderr",
     "output_type": "stream",
     "text": [
      " 50%|\u001b[34m█████     \u001b[0m| 5/10 [00:20<00:20,  4.04s/it]\u001b[32m [repeated 4x across cluster]\u001b[0m\n"
     ]
    },
    {
     "name": "stdout",
     "output_type": "stream",
     "text": [
      "\u001b[36m(launch_and_fit pid=2130)\u001b[0m \tTrain Epoch: 5 \tTrain_loss_mri: 1.3852 | Train_acc_mri: 26.5394 | Train_loss_dna: 1.7245 | Train_acc_dna: 32.6505 | Validation_loss_mri: 1.4387 | Validation_acc_mri: 14.0625 | Validation_loss_dna: 1.8276 | Validation_acc_dna: 9.3750\u001b[32m [repeated 4x across cluster]\u001b[0m\n"
     ]
    },
    {
     "name": "stderr",
     "output_type": "stream",
     "text": [
      " 70%|\u001b[34m███████   \u001b[0m| 7/10 [00:28<00:12,  4.03s/it]\u001b[32m [repeated 4x across cluster]\u001b[0m\n"
     ]
    },
    {
     "name": "stdout",
     "output_type": "stream",
     "text": [
      "\u001b[36m(launch_and_fit pid=2130)\u001b[0m \tTrain Epoch: 7 \tTrain_loss_mri: 1.3706 | Train_acc_mri: 29.8380 | Train_loss_dna: 1.6850 | Train_acc_dna: 34.1319 | Validation_loss_mri: 1.4162 | Validation_acc_mri: 14.0625 | Validation_loss_dna: 1.8331 | Validation_acc_dna: 12.5000\u001b[32m [repeated 4x across cluster]\u001b[0m\n"
     ]
    },
    {
     "name": "stderr",
     "output_type": "stream",
     "text": [
      " 90%|\u001b[34m█████████ \u001b[0m| 9/10 [00:36<00:03,  3.98s/it]\u001b[32m [repeated 4x across cluster]\u001b[0m\n"
     ]
    },
    {
     "name": "stdout",
     "output_type": "stream",
     "text": [
      "\u001b[36m(launch_and_fit pid=2130)\u001b[0m \tTrain Epoch: 9 \tTrain_loss_mri: 1.3732 | Train_acc_mri: 30.2662 | Train_loss_dna: 1.6593 | Train_acc_dna: 37.2569 | Validation_loss_mri: 1.4529 | Validation_acc_mri: 14.0625 | Validation_loss_dna: 1.7971 | Validation_acc_dna: 14.0625\u001b[32m [repeated 4x across cluster]\u001b[0m\n",
      "\u001b[36m(launch_and_fit pid=2130)\u001b[0m save graph in  results/FL/\n",
      "\u001b[36m(launch_and_fit pid=2204)\u001b[0m Run WITHOUT homomorphic encryption\n",
      "\u001b[36m(launch_and_fit pid=2204)\u001b[0m  To get the checkpoint\n",
      "\u001b[36m(launch_and_fit pid=2155)\u001b[0m \tTrain Epoch: 10 \tTrain_loss_mri: 1.3732 | Train_acc_mri: 31.7130 | Train_loss_dna: 1.7885 | Train_acc_dna: 25.2662 | Validation_loss_mri: 1.4073 | Validation_acc_mri: 14.0625 | Validation_loss_dna: 1.7446 | Validation_acc_dna: 30.7292\u001b[32m [repeated 3x across cluster]\u001b[0m\n",
      "\u001b[36m(launch_and_fit pid=2155)\u001b[0m save graph in  results/FL/\n",
      "\u001b[36m(launch_and_fit pid=2204)\u001b[0m [Client 0, round 3] fit, config: {'learning_rate': 0.003, 'batch_size': '32', 'server_round': 3, 'local_epochs': 10}\n",
      "\u001b[36m(launch_and_fit pid=2204)\u001b[0m Updated model\n"
     ]
    },
    {
     "name": "stderr",
     "output_type": "stream",
     "text": [
      "  0%|\u001b[34m          \u001b[0m| 0/10 [00:00<?, ?it/s]\n",
      "100%|\u001b[34m██████████\u001b[0m| 10/10 [00:39<00:00,  3.99s/it]\u001b[32m [repeated 3x across cluster]\u001b[0m\n"
     ]
    },
    {
     "name": "stdout",
     "output_type": "stream",
     "text": [
      "\u001b[36m(launch_and_fit pid=2206)\u001b[0m Run WITHOUT homomorphic encryption\n",
      "\u001b[36m(launch_and_fit pid=2206)\u001b[0m  To get the checkpoint\n",
      "\u001b[36m(launch_and_fit pid=2204)\u001b[0m \tTrain Epoch: 1 \tTrain_loss_mri: 1.3718 | Train_acc_mri: 30.6366 | Train_loss_dna: 1.7557 | Train_acc_dna: 32.0023 | Validation_loss_mri: 1.3666 | Validation_acc_mri: 42.7083 | Validation_loss_dna: 1.8924 | Validation_acc_dna: 21.8750\n"
     ]
    },
    {
     "name": "stderr",
     "output_type": "stream",
     "text": [
      "  0%|\u001b[34m          \u001b[0m| 0/10 [00:00<?, ?it/s]\n",
      " 10%|\u001b[34m█         \u001b[0m| 1/10 [00:04<00:41,  4.66s/it]\u001b[32m [repeated 2x across cluster]\u001b[0m\n"
     ]
    },
    {
     "name": "stdout",
     "output_type": "stream",
     "text": [
      "\u001b[36m(launch_and_fit pid=2206)\u001b[0m \tTrain Epoch: 1 \tTrain_loss_mri: 1.3952 | Train_acc_mri: 23.2755 | Train_loss_dna: 1.8223 | Train_acc_dna: 29.2940 | Validation_loss_mri: 1.4250 | Validation_acc_mri: 7.8125 | Validation_loss_dna: 1.5502 | Validation_acc_dna: 48.9583\n",
      "\u001b[36m(launch_and_fit pid=2206)\u001b[0m [Client 7, round 3] fit, config: {'learning_rate': 0.003, 'batch_size': '32', 'server_round': 3, 'local_epochs': 10}\n",
      "\u001b[36m(launch_and_fit pid=2206)\u001b[0m Updated model\n",
      "\u001b[36m(launch_and_fit pid=2204)\u001b[0m \tTrain Epoch: 3 \tTrain_loss_mri: 1.3723 | Train_acc_mri: 28.1019 | Train_loss_dna: 1.7206 | Train_acc_dna: 34.7801 | Validation_loss_mri: 1.3904 | Validation_acc_mri: 22.9167 | Validation_loss_dna: 1.9342 | Validation_acc_dna: 23.4375\u001b[32m [repeated 3x across cluster]\u001b[0m\n"
     ]
    },
    {
     "name": "stderr",
     "output_type": "stream",
     "text": [
      " 30%|\u001b[34m███       \u001b[0m| 3/10 [00:12<00:28,  4.03s/it]\u001b[32m [repeated 3x across cluster]\u001b[0m\n"
     ]
    },
    {
     "name": "stdout",
     "output_type": "stream",
     "text": [
      "\u001b[36m(launch_and_fit pid=2204)\u001b[0m \tTrain Epoch: 5 \tTrain_loss_mri: 1.3735 | Train_acc_mri: 30.0347 | Train_loss_dna: 1.7667 | Train_acc_dna: 34.5602 | Validation_loss_mri: 1.4032 | Validation_acc_mri: 26.0417 | Validation_loss_dna: 1.9443 | Validation_acc_dna: 21.8750\u001b[32m [repeated 4x across cluster]\u001b[0m\n"
     ]
    },
    {
     "name": "stderr",
     "output_type": "stream",
     "text": [
      " 50%|\u001b[34m█████     \u001b[0m| 5/10 [00:20<00:19,  3.95s/it]\u001b[32m [repeated 4x across cluster]\u001b[0m\n"
     ]
    },
    {
     "name": "stdout",
     "output_type": "stream",
     "text": [
      "\u001b[36m(launch_and_fit pid=2204)\u001b[0m \tTrain Epoch: 7 \tTrain_loss_mri: 1.3615 | Train_acc_mri: 30.4398 | Train_loss_dna: 1.6878 | Train_acc_dna: 35.3241 | Validation_loss_mri: 1.3887 | Validation_acc_mri: 22.9167 | Validation_loss_dna: 1.9860 | Validation_acc_dna: 23.4375\u001b[32m [repeated 4x across cluster]\u001b[0m\n"
     ]
    },
    {
     "name": "stderr",
     "output_type": "stream",
     "text": [
      " 70%|\u001b[34m███████   \u001b[0m| 7/10 [00:27<00:11,  3.92s/it]\u001b[32m [repeated 4x across cluster]\u001b[0m\n",
      " 80%|\u001b[34m████████  \u001b[0m| 8/10 [00:32<00:07,  3.95s/it]\u001b[32m [repeated 3x across cluster]\u001b[0m\n"
     ]
    },
    {
     "name": "stdout",
     "output_type": "stream",
     "text": [
      "\u001b[36m(launch_and_fit pid=2206)\u001b[0m \tTrain Epoch: 8 \tTrain_loss_mri: 1.3801 | Train_acc_mri: 26.0880 | Train_loss_dna: 1.7898 | Train_acc_dna: 28.9583 | Validation_loss_mri: 1.4478 | Validation_acc_mri: 10.9375 | Validation_loss_dna: 1.5535 | Validation_acc_dna: 47.3958\u001b[32m [repeated 3x across cluster]\u001b[0m\n",
      "\u001b[36m(launch_and_fit pid=2204)\u001b[0m save graph in  results/FL/\n",
      "\u001b[36m(launch_and_fit pid=2204)\u001b[0m \tTrain Epoch: 10 \tTrain_loss_mri: 1.3666 | Train_acc_mri: 29.0972 | Train_loss_dna: 1.6794 | Train_acc_dna: 36.1458 | Validation_loss_mri: 1.3521 | Validation_acc_mri: 24.4792 | Validation_loss_dna: 1.9182 | Validation_acc_dna: 17.1875\u001b[32m [repeated 3x across cluster]\u001b[0m\n"
     ]
    },
    {
     "name": "stderr",
     "output_type": "stream",
     "text": [
      "100%|\u001b[34m██████████\u001b[0m| 10/10 [00:39<00:00,  3.99s/it]\u001b[32m [repeated 3x across cluster]\u001b[0m\n",
      "DEBUG flwr 2024-08-05 11:14:35,533 | server.py:236 | fit_round 3 received 10 results and 0 failures\n"
     ]
    },
    {
     "name": "stdout",
     "output_type": "stream",
     "text": [
      "Saving round 3 aggregated_parameters...\n",
      "Updated model\n"
     ]
    },
    {
     "name": "stderr",
     "output_type": "stream",
     "text": [
      "INFO flwr 2024-08-05 11:14:41,857 | server.py:125 | fit progress: (3, (1.408343983548028, 1.7560644830976213), {'accuracy': (23.958333333333332, 33.370535714285715)}, 940.9924323569999)\n",
      "DEBUG flwr 2024-08-05 11:14:41,858 | server.py:173 | evaluate_round 3: strategy sampled 10 clients (out of 10)\n"
     ]
    },
    {
     "name": "stdout",
     "output_type": "stream",
     "text": [
      "Server-side evaluation MRI loss 1.408343983548028 / MRI accuracy 23.958333333333332\n",
      "Server-side evaluation DNA loss 1.7560644830976213 / DNA accuracy 33.370535714285715\n",
      "\u001b[36m(launch_and_evaluate pid=2287)\u001b[0m Run WITHOUT homomorphic encryption\n",
      "\u001b[36m(launch_and_evaluate pid=2287)\u001b[0m  To get the checkpoint\n",
      "\u001b[36m(launch_and_fit pid=2206)\u001b[0m save graph in  results/FL/\n",
      "\u001b[36m(launch_and_fit pid=2206)\u001b[0m \tTrain Epoch: 10 \tTrain_loss_mri: 1.3760 | Train_acc_mri: 27.9051 | Train_loss_dna: 1.7420 | Train_acc_dna: 33.1366 | Validation_loss_mri: 1.5149 | Validation_acc_mri: 9.3750 | Validation_loss_dna: 1.5078 | Validation_acc_dna: 50.5208\n",
      "\u001b[36m(launch_and_evaluate pid=2287)\u001b[0m [Client 7] evaluate, config: {}\n",
      "\u001b[36m(launch_and_evaluate pid=2287)\u001b[0m Updated model\n",
      "\u001b[36m(launch_and_evaluate pid=2357)\u001b[0m Run WITHOUT homomorphic encryption\u001b[32m [repeated 2x across cluster]\u001b[0m\n",
      "\u001b[36m(launch_and_evaluate pid=2357)\u001b[0m  To get the checkpoint\u001b[32m [repeated 2x across cluster]\u001b[0m\n",
      "\u001b[36m(launch_and_evaluate pid=2288)\u001b[0m [Client 3] evaluate, config: {}\n",
      "\u001b[36m(launch_and_evaluate pid=2288)\u001b[0m Updated model\n",
      "\u001b[36m(launch_and_evaluate pid=2357)\u001b[0m [Client 9] evaluate, config: {}\n",
      "\u001b[36m(launch_and_evaluate pid=2357)\u001b[0m Updated model\n"
     ]
    },
    {
     "name": "stderr",
     "output_type": "stream",
     "text": [
      "\u001b[36m(launch_and_evaluate pid=2357)\u001b[0m /opt/conda/lib/python3.10/site-packages/sklearn/metrics/_ranking.py:1029: UndefinedMetricWarning: No positive samples in y_true, true positive value should be meaningless\n",
      "\u001b[36m(launch_and_evaluate pid=2357)\u001b[0m   warnings.warn(\n",
      "100%|\u001b[34m██████████\u001b[0m| 10/10 [00:40<00:00,  4.06s/it]\n"
     ]
    },
    {
     "name": "stdout",
     "output_type": "stream",
     "text": [
      "\u001b[36m(launch_and_evaluate pid=2428)\u001b[0m Run WITHOUT homomorphic encryption\u001b[32m [repeated 2x across cluster]\u001b[0m\n",
      "\u001b[36m(launch_and_evaluate pid=2428)\u001b[0m  To get the checkpoint\u001b[32m [repeated 2x across cluster]\u001b[0m\n",
      "\u001b[36m(launch_and_evaluate pid=2359)\u001b[0m [Client 4] evaluate, config: {}\n",
      "\u001b[36m(launch_and_evaluate pid=2359)\u001b[0m Updated model\n",
      "\u001b[36m(launch_and_evaluate pid=2428)\u001b[0m [Client 6] evaluate, config: {}\n",
      "\u001b[36m(launch_and_evaluate pid=2428)\u001b[0m Updated model\n"
     ]
    },
    {
     "name": "stderr",
     "output_type": "stream",
     "text": [
      "\u001b[36m(launch_and_evaluate pid=2430)\u001b[0m /opt/conda/lib/python3.10/site-packages/sklearn/metrics/_ranking.py:1029: UndefinedMetricWarning: No positive samples in y_true, true positive value should be meaningless\u001b[32m [repeated 2x across cluster]\u001b[0m\n",
      "\u001b[36m(launch_and_evaluate pid=2430)\u001b[0m   warnings.warn(\u001b[32m [repeated 2x across cluster]\u001b[0m\n"
     ]
    },
    {
     "name": "stdout",
     "output_type": "stream",
     "text": [
      "\u001b[36m(launch_and_evaluate pid=2498)\u001b[0m Run WITHOUT homomorphic encryption\u001b[32m [repeated 2x across cluster]\u001b[0m\n",
      "\u001b[36m(launch_and_evaluate pid=2498)\u001b[0m  To get the checkpoint\u001b[32m [repeated 2x across cluster]\u001b[0m\n",
      "\u001b[36m(launch_and_evaluate pid=2430)\u001b[0m [Client 8] evaluate, config: {}\n",
      "\u001b[36m(launch_and_evaluate pid=2430)\u001b[0m Updated model\n",
      "\u001b[36m(launch_and_evaluate pid=2498)\u001b[0m [Client 2] evaluate, config: {}\n",
      "\u001b[36m(launch_and_evaluate pid=2498)\u001b[0m Updated model\n",
      "\u001b[36m(launch_and_evaluate pid=2568)\u001b[0m Run WITHOUT homomorphic encryption\u001b[32m [repeated 2x across cluster]\u001b[0m\n",
      "\u001b[36m(launch_and_evaluate pid=2568)\u001b[0m  To get the checkpoint\u001b[32m [repeated 2x across cluster]\u001b[0m\n",
      "\u001b[36m(launch_and_evaluate pid=2508)\u001b[0m [Client 5] evaluate, config: {}\n",
      "\u001b[36m(launch_and_evaluate pid=2508)\u001b[0m Updated model\n",
      "\u001b[36m(launch_and_evaluate pid=2568)\u001b[0m [Client 1] evaluate, config: {}\n",
      "\u001b[36m(launch_and_evaluate pid=2568)\u001b[0m Updated model\n"
     ]
    },
    {
     "name": "stderr",
     "output_type": "stream",
     "text": [
      "DEBUG flwr 2024-08-05 11:15:49,240 | server.py:187 | evaluate_round 3 received 10 results and 0 failures\n",
      "DEBUG flwr 2024-08-05 11:15:49,241 | server.py:222 | fit_round 4: strategy sampled 10 clients (out of 10)\n"
     ]
    },
    {
     "name": "stdout",
     "output_type": "stream",
     "text": [
      "\u001b[36m(launch_and_fit pid=2648)\u001b[0m Run WITHOUT homomorphic encryption\u001b[32m [repeated 2x across cluster]\u001b[0m\n",
      "\u001b[36m(launch_and_fit pid=2648)\u001b[0m  To get the checkpoint\u001b[32m [repeated 2x across cluster]\u001b[0m\n",
      "\u001b[36m(launch_and_evaluate pid=2593)\u001b[0m [Client 0] evaluate, config: {}\n",
      "\u001b[36m(launch_and_evaluate pid=2593)\u001b[0m Updated model\n"
     ]
    },
    {
     "name": "stderr",
     "output_type": "stream",
     "text": [
      "  0%|\u001b[34m          \u001b[0m| 0/10 [00:00<?, ?it/s]\n"
     ]
    },
    {
     "name": "stdout",
     "output_type": "stream",
     "text": [
      "\u001b[36m(launch_and_fit pid=2648)\u001b[0m [Client 2, round 4] fit, config: {'learning_rate': 0.003, 'batch_size': '32', 'server_round': 4, 'local_epochs': 10}\n",
      "\u001b[36m(launch_and_fit pid=2648)\u001b[0m Updated model\n"
     ]
    },
    {
     "name": "stderr",
     "output_type": "stream",
     "text": [
      " 10%|\u001b[34m█         \u001b[0m| 1/10 [00:04<00:42,  4.76s/it]\n"
     ]
    },
    {
     "name": "stdout",
     "output_type": "stream",
     "text": [
      "\u001b[36m(launch_and_fit pid=2647)\u001b[0m \tTrain Epoch: 1 \tTrain_loss_mri: 1.4080 | Train_acc_mri: 24.8380 | Train_loss_dna: 1.8049 | Train_acc_dna: 31.7708 | Validation_loss_mri: 1.4389 | Validation_acc_mri: 12.5000 | Validation_loss_dna: 1.9373 | Validation_acc_dna: 15.6250\n",
      "\u001b[36m(launch_and_fit pid=2647)\u001b[0m Run WITHOUT homomorphic encryption\n",
      "\u001b[36m(launch_and_fit pid=2647)\u001b[0m  To get the checkpoint\n"
     ]
    },
    {
     "name": "stderr",
     "output_type": "stream",
     "text": [
      "  0%|\u001b[34m          \u001b[0m| 0/10 [00:00<?, ?it/s]\n"
     ]
    },
    {
     "name": "stdout",
     "output_type": "stream",
     "text": [
      "\u001b[36m(launch_and_fit pid=2647)\u001b[0m [Client 1, round 4] fit, config: {'learning_rate': 0.003, 'batch_size': '32', 'server_round': 4, 'local_epochs': 10}\n",
      "\u001b[36m(launch_and_fit pid=2647)\u001b[0m Updated model\n"
     ]
    },
    {
     "name": "stderr",
     "output_type": "stream",
     "text": [
      " 30%|\u001b[34m███       \u001b[0m| 3/10 [00:12<00:28,  4.07s/it]\u001b[32m [repeated 4x across cluster]\u001b[0m\n"
     ]
    },
    {
     "name": "stdout",
     "output_type": "stream",
     "text": [
      "\u001b[36m(launch_and_fit pid=2647)\u001b[0m \tTrain Epoch: 3 \tTrain_loss_mri: 1.3676 | Train_acc_mri: 27.1991 | Train_loss_dna: 1.7341 | Train_acc_dna: 32.1991 | Validation_loss_mri: 1.5380 | Validation_acc_mri: 12.5000 | Validation_loss_dna: 2.0350 | Validation_acc_dna: 15.6250\u001b[32m [repeated 4x across cluster]\u001b[0m\n"
     ]
    },
    {
     "name": "stderr",
     "output_type": "stream",
     "text": [
      " 50%|\u001b[34m█████     \u001b[0m| 5/10 [00:20<00:19,  3.95s/it]\u001b[32m [repeated 4x across cluster]\u001b[0m\n"
     ]
    },
    {
     "name": "stdout",
     "output_type": "stream",
     "text": [
      "\u001b[36m(launch_and_fit pid=2647)\u001b[0m \tTrain Epoch: 5 \tTrain_loss_mri: 1.3716 | Train_acc_mri: 30.7755 | Train_loss_dna: 1.7057 | Train_acc_dna: 33.7037 | Validation_loss_mri: 1.4353 | Validation_acc_mri: 26.0417 | Validation_loss_dna: 2.1412 | Validation_acc_dna: 17.1875\u001b[32m [repeated 4x across cluster]\u001b[0m\n"
     ]
    },
    {
     "name": "stderr",
     "output_type": "stream",
     "text": [
      " 70%|\u001b[34m███████   \u001b[0m| 7/10 [00:28<00:11,  3.94s/it]\u001b[32m [repeated 4x across cluster]\u001b[0m\n"
     ]
    },
    {
     "name": "stdout",
     "output_type": "stream",
     "text": [
      "\u001b[36m(launch_and_fit pid=2647)\u001b[0m \tTrain Epoch: 7 \tTrain_loss_mri: 1.3728 | Train_acc_mri: 27.9861 | Train_loss_dna: 1.7032 | Train_acc_dna: 33.5301 | Validation_loss_mri: 1.4401 | Validation_acc_mri: 4.6875 | Validation_loss_dna: 2.2121 | Validation_acc_dna: 32.2917\u001b[32m [repeated 4x across cluster]\u001b[0m\n"
     ]
    },
    {
     "name": "stderr",
     "output_type": "stream",
     "text": [
      " 90%|\u001b[34m█████████ \u001b[0m| 9/10 [00:36<00:03,  3.97s/it]\u001b[32m [repeated 4x across cluster]\u001b[0m\n"
     ]
    },
    {
     "name": "stdout",
     "output_type": "stream",
     "text": [
      "\u001b[36m(launch_and_fit pid=2647)\u001b[0m \tTrain Epoch: 9 \tTrain_loss_mri: 1.3647 | Train_acc_mri: 30.5208 | Train_loss_dna: 1.6845 | Train_acc_dna: 34.4097 | Validation_loss_mri: 1.5106 | Validation_acc_mri: 32.2917 | Validation_loss_dna: 2.1750 | Validation_acc_dna: 15.6250\u001b[32m [repeated 4x across cluster]\u001b[0m\n",
      "\u001b[36m(launch_and_fit pid=2647)\u001b[0m save graph in  results/FL/\n",
      "\u001b[36m(launch_and_fit pid=2720)\u001b[0m Run WITHOUT homomorphic encryption\n",
      "\u001b[36m(launch_and_fit pid=2720)\u001b[0m  To get the checkpoint\n",
      "\u001b[36m(launch_and_fit pid=2648)\u001b[0m \tTrain Epoch: 10 \tTrain_loss_mri: 0.9609 | Train_acc_mri: 51.2037 | Train_loss_dna: 1.6102 | Train_acc_dna: 37.2569 | Validation_loss_mri: 0.7807 | Validation_acc_mri: 41.6667 | Validation_loss_dna: 1.6254 | Validation_acc_dna: 26.0417\u001b[32m [repeated 3x across cluster]\u001b[0m\n",
      "\u001b[36m(launch_and_fit pid=2648)\u001b[0m save graph in  results/FL/\n",
      "\u001b[36m(launch_and_fit pid=2720)\u001b[0m [Client 3, round 4] fit, config: {'learning_rate': 0.003, 'batch_size': '32', 'server_round': 4, 'local_epochs': 10}\n",
      "\u001b[36m(launch_and_fit pid=2720)\u001b[0m Updated model\n"
     ]
    },
    {
     "name": "stderr",
     "output_type": "stream",
     "text": [
      "  0%|\u001b[34m          \u001b[0m| 0/10 [00:00<?, ?it/s]\n",
      "100%|\u001b[34m██████████\u001b[0m| 10/10 [00:40<00:00,  4.08s/it]\u001b[32m [repeated 3x across cluster]\u001b[0m\n",
      "  0%|\u001b[34m          \u001b[0m| 0/10 [00:00<?, ?it/s]\n",
      " 10%|\u001b[34m█         \u001b[0m| 1/10 [00:04<00:39,  4.40s/it]\u001b[32m [repeated 2x across cluster]\u001b[0m\n"
     ]
    },
    {
     "name": "stdout",
     "output_type": "stream",
     "text": [
      "\u001b[36m(launch_and_fit pid=2745)\u001b[0m Run WITHOUT homomorphic encryption\n",
      "\u001b[36m(launch_and_fit pid=2745)\u001b[0m  To get the checkpoint\n",
      "\u001b[36m(launch_and_fit pid=2745)\u001b[0m \tTrain Epoch: 1 \tTrain_loss_mri: 1.3945 | Train_acc_mri: 27.6008 | Train_loss_dna: 1.7936 | Train_acc_dna: 29.1835 | Validation_loss_mri: 1.3890 | Validation_acc_mri: 29.1667 | Validation_loss_dna: 1.6945 | Validation_acc_dna: 35.4167\u001b[32m [repeated 2x across cluster]\u001b[0m\n",
      "\u001b[36m(launch_and_fit pid=2745)\u001b[0m [Client 9, round 4] fit, config: {'learning_rate': 0.003, 'batch_size': '32', 'server_round': 4, 'local_epochs': 10}\n",
      "\u001b[36m(launch_and_fit pid=2745)\u001b[0m Updated model\n",
      "\u001b[36m(launch_and_fit pid=2720)\u001b[0m \tTrain Epoch: 3 \tTrain_loss_mri: 1.1433 | Train_acc_mri: 47.6042 | Train_loss_dna: 1.7165 | Train_acc_dna: 32.4537 | Validation_loss_mri: 0.8693 | Validation_acc_mri: 63.0208 | Validation_loss_dna: 1.9443 | Validation_acc_dna: 36.9792\u001b[32m [repeated 3x across cluster]\u001b[0m\n"
     ]
    },
    {
     "name": "stderr",
     "output_type": "stream",
     "text": [
      " 30%|\u001b[34m███       \u001b[0m| 3/10 [00:12<00:28,  4.04s/it]\u001b[32m [repeated 3x across cluster]\u001b[0m\n",
      " 40%|\u001b[34m████      \u001b[0m| 4/10 [00:16<00:24,  4.09s/it]\u001b[32m [repeated 3x across cluster]\u001b[0m\n"
     ]
    },
    {
     "name": "stdout",
     "output_type": "stream",
     "text": [
      "\u001b[36m(launch_and_fit pid=2745)\u001b[0m \tTrain Epoch: 4 \tTrain_loss_mri: 1.3837 | Train_acc_mri: 30.1210 | Train_loss_dna: 1.6936 | Train_acc_dna: 36.9556 | Validation_loss_mri: 1.3766 | Validation_acc_mri: 14.0625 | Validation_loss_dna: 1.6420 | Validation_acc_dna: 33.8542\u001b[32m [repeated 3x across cluster]\u001b[0m\n",
      "\u001b[36m(launch_and_fit pid=2720)\u001b[0m \tTrain Epoch: 6 \tTrain_loss_mri: 0.6366 | Train_acc_mri: 72.7199 | Train_loss_dna: 1.7122 | Train_acc_dna: 34.2708 | Validation_loss_mri: 0.5441 | Validation_acc_mri: 85.9375 | Validation_loss_dna: 1.9684 | Validation_acc_dna: 32.2917\u001b[32m [repeated 3x across cluster]\u001b[0m\n"
     ]
    },
    {
     "name": "stderr",
     "output_type": "stream",
     "text": [
      " 60%|\u001b[34m██████    \u001b[0m| 6/10 [00:24<00:15,  3.94s/it]\u001b[32m [repeated 3x across cluster]\u001b[0m\n",
      " 70%|\u001b[34m███████   \u001b[0m| 7/10 [00:28<00:11,  3.97s/it]\u001b[32m [repeated 3x across cluster]\u001b[0m\n"
     ]
    },
    {
     "name": "stdout",
     "output_type": "stream",
     "text": [
      "\u001b[36m(launch_and_fit pid=2745)\u001b[0m \tTrain Epoch: 7 \tTrain_loss_mri: 1.3796 | Train_acc_mri: 30.3831 | Train_loss_dna: 1.6810 | Train_acc_dna: 38.8710 | Validation_loss_mri: 1.3665 | Validation_acc_mri: 32.2917 | Validation_loss_dna: 1.6315 | Validation_acc_dna: 33.8542\u001b[32m [repeated 3x across cluster]\u001b[0m\n",
      "\u001b[36m(launch_and_fit pid=2720)\u001b[0m \tTrain Epoch: 9 \tTrain_loss_mri: 0.3242 | Train_acc_mri: 91.7593 | Train_loss_dna: 1.6469 | Train_acc_dna: 36.4005 | Validation_loss_mri: 0.5225 | Validation_acc_mri: 82.8125 | Validation_loss_dna: 2.1694 | Validation_acc_dna: 32.2917\u001b[32m [repeated 3x across cluster]\u001b[0m\n"
     ]
    },
    {
     "name": "stderr",
     "output_type": "stream",
     "text": [
      " 90%|\u001b[34m█████████ \u001b[0m| 9/10 [00:35<00:03,  3.93s/it]\u001b[32m [repeated 3x across cluster]\u001b[0m\n"
     ]
    },
    {
     "name": "stdout",
     "output_type": "stream",
     "text": [
      "\u001b[36m(launch_and_fit pid=2720)\u001b[0m save graph in  results/FL/\n"
     ]
    },
    {
     "name": "stderr",
     "output_type": "stream",
     "text": [
      "100%|\u001b[34m██████████\u001b[0m| 10/10 [00:39<00:00,  4.00s/it]\u001b[32m [repeated 3x across cluster]\u001b[0m\n"
     ]
    },
    {
     "name": "stdout",
     "output_type": "stream",
     "text": [
      "\u001b[36m(launch_and_fit pid=2745)\u001b[0m \tTrain Epoch: 10 \tTrain_loss_mri: 1.3666 | Train_acc_mri: 31.6633 | Train_loss_dna: 1.6184 | Train_acc_dna: 40.7359 | Validation_loss_mri: 1.3308 | Validation_acc_mri: 32.2917 | Validation_loss_dna: 1.6644 | Validation_acc_dna: 35.4167\u001b[32m [repeated 3x across cluster]\u001b[0m\n",
      "\u001b[36m(launch_and_fit pid=2794)\u001b[0m Run WITHOUT homomorphic encryption\n",
      "\u001b[36m(launch_and_fit pid=2794)\u001b[0m  To get the checkpoint\n",
      "\u001b[36m(launch_and_fit pid=2745)\u001b[0m save graph in  results/FL/\n"
     ]
    },
    {
     "name": "stderr",
     "output_type": "stream",
     "text": [
      "  0%|\u001b[34m          \u001b[0m| 0/10 [00:00<?, ?it/s]\n"
     ]
    },
    {
     "name": "stdout",
     "output_type": "stream",
     "text": [
      "\u001b[36m(launch_and_fit pid=2794)\u001b[0m [Client 5, round 4] fit, config: {'learning_rate': 0.003, 'batch_size': '32', 'server_round': 4, 'local_epochs': 10}\n",
      "\u001b[36m(launch_and_fit pid=2794)\u001b[0m Updated model\n"
     ]
    },
    {
     "name": "stderr",
     "output_type": "stream",
     "text": [
      " 10%|\u001b[34m█         \u001b[0m| 1/10 [00:04<00:40,  4.47s/it]\n"
     ]
    },
    {
     "name": "stdout",
     "output_type": "stream",
     "text": [
      "\u001b[36m(launch_and_fit pid=2794)\u001b[0m \tTrain Epoch: 1 \tTrain_loss_mri: 1.4016 | Train_acc_mri: 25.7986 | Train_loss_dna: 1.8103 | Train_acc_dna: 28.9583 | Validation_loss_mri: 1.3971 | Validation_acc_mri: 30.7292 | Validation_loss_dna: 1.7695 | Validation_acc_dna: 14.0625\n"
     ]
    },
    {
     "name": "stderr",
     "output_type": "stream",
     "text": [
      "  0%|\u001b[34m          \u001b[0m| 0/10 [00:00<?, ?it/s]\n"
     ]
    },
    {
     "name": "stdout",
     "output_type": "stream",
     "text": [
      "\u001b[36m(launch_and_fit pid=2819)\u001b[0m Run WITHOUT homomorphic encryption\n",
      "\u001b[36m(launch_and_fit pid=2819)\u001b[0m  To get the checkpoint\n",
      "\u001b[36m(launch_and_fit pid=2819)\u001b[0m [Client 7, round 4] fit, config: {'learning_rate': 0.003, 'batch_size': '32', 'server_round': 4, 'local_epochs': 10}\n",
      "\u001b[36m(launch_and_fit pid=2819)\u001b[0m Updated model\n"
     ]
    },
    {
     "name": "stderr",
     "output_type": "stream",
     "text": [
      " 20%|\u001b[34m██        \u001b[0m| 2/10 [00:08<00:33,  4.17s/it]\u001b[32m [repeated 3x across cluster]\u001b[0m\n"
     ]
    },
    {
     "name": "stdout",
     "output_type": "stream",
     "text": [
      "\u001b[36m(launch_and_fit pid=2819)\u001b[0m \tTrain Epoch: 2 \tTrain_loss_mri: 1.3808 | Train_acc_mri: 30.4630 | Train_loss_dna: 1.7733 | Train_acc_dna: 31.4005 | Validation_loss_mri: 1.4277 | Validation_acc_mri: 6.2500 | Validation_loss_dna: 1.4905 | Validation_acc_dna: 48.9583\u001b[32m [repeated 3x across cluster]\u001b[0m\n"
     ]
    },
    {
     "name": "stderr",
     "output_type": "stream",
     "text": [
      " 40%|\u001b[34m████      \u001b[0m| 4/10 [00:16<00:24,  4.05s/it]\u001b[32m [repeated 3x across cluster]\u001b[0m\n"
     ]
    },
    {
     "name": "stdout",
     "output_type": "stream",
     "text": [
      "\u001b[36m(launch_and_fit pid=2794)\u001b[0m \tTrain Epoch: 4 \tTrain_loss_mri: 1.3818 | Train_acc_mri: 27.1412 | Train_loss_dna: 1.7258 | Train_acc_dna: 33.2176 | Validation_loss_mri: 1.3899 | Validation_acc_mri: 35.4167 | Validation_loss_dna: 1.7996 | Validation_acc_dna: 9.3750\u001b[32m [repeated 3x across cluster]\u001b[0m\n"
     ]
    },
    {
     "name": "stderr",
     "output_type": "stream",
     "text": [
      " 60%|\u001b[34m██████    \u001b[0m| 6/10 [00:24<00:16,  4.02s/it]\u001b[32m [repeated 4x across cluster]\u001b[0m\n"
     ]
    },
    {
     "name": "stdout",
     "output_type": "stream",
     "text": [
      "\u001b[36m(launch_and_fit pid=2794)\u001b[0m \tTrain Epoch: 6 \tTrain_loss_mri: 1.3699 | Train_acc_mri: 25.3472 | Train_loss_dna: 1.7672 | Train_acc_dna: 31.6898 | Validation_loss_mri: 1.3550 | Validation_acc_mri: 29.1667 | Validation_loss_dna: 1.8039 | Validation_acc_dna: 15.6250\u001b[32m [repeated 4x across cluster]\u001b[0m\n"
     ]
    },
    {
     "name": "stderr",
     "output_type": "stream",
     "text": [
      " 70%|\u001b[34m███████   \u001b[0m| 7/10 [00:28<00:12,  4.01s/it]\u001b[32m [repeated 3x across cluster]\u001b[0m\n"
     ]
    },
    {
     "name": "stdout",
     "output_type": "stream",
     "text": [
      "\u001b[36m(launch_and_fit pid=2819)\u001b[0m \tTrain Epoch: 7 \tTrain_loss_mri: 1.3869 | Train_acc_mri: 21.4236 | Train_loss_dna: 1.7342 | Train_acc_dna: 34.5833 | Validation_loss_mri: 1.4635 | Validation_acc_mri: 9.3750 | Validation_loss_dna: 1.5014 | Validation_acc_dna: 50.5208\u001b[32m [repeated 3x across cluster]\u001b[0m\n"
     ]
    },
    {
     "name": "stderr",
     "output_type": "stream",
     "text": [
      " 90%|\u001b[34m█████████ \u001b[0m| 9/10 [00:36<00:04,  4.02s/it]\u001b[32m [repeated 3x across cluster]\u001b[0m\n"
     ]
    },
    {
     "name": "stdout",
     "output_type": "stream",
     "text": [
      "\u001b[36m(launch_and_fit pid=2794)\u001b[0m \tTrain Epoch: 9 \tTrain_loss_mri: 1.2616 | Train_acc_mri: 41.4583 | Train_loss_dna: 1.7659 | Train_acc_dna: 27.8472 | Validation_loss_mri: 1.0670 | Validation_acc_mri: 64.5833 | Validation_loss_dna: 1.7702 | Validation_acc_dna: 15.6250\u001b[32m [repeated 3x across cluster]\u001b[0m\n",
      "\u001b[36m(launch_and_fit pid=2794)\u001b[0m save graph in  results/FL/\n",
      "\u001b[36m(launch_and_fit pid=2868)\u001b[0m Run WITHOUT homomorphic encryption\n",
      "\u001b[36m(launch_and_fit pid=2868)\u001b[0m  To get the checkpoint\n",
      "\u001b[36m(launch_and_fit pid=2819)\u001b[0m \tTrain Epoch: 10 \tTrain_loss_mri: 1.3695 | Train_acc_mri: 26.4236 | Train_loss_dna: 1.6921 | Train_acc_dna: 34.1551 | Validation_loss_mri: 1.5179 | Validation_acc_mri: 14.0625 | Validation_loss_dna: 1.4158 | Validation_acc_dna: 50.5208\u001b[32m [repeated 3x across cluster]\u001b[0m\n",
      "\u001b[36m(launch_and_fit pid=2819)\u001b[0m save graph in  results/FL/\n",
      "\u001b[36m(launch_and_fit pid=2868)\u001b[0m [Client 0, round 4] fit, config: {'learning_rate': 0.003, 'batch_size': '32', 'server_round': 4, 'local_epochs': 10}\n",
      "\u001b[36m(launch_and_fit pid=2868)\u001b[0m Updated model\n"
     ]
    },
    {
     "name": "stderr",
     "output_type": "stream",
     "text": [
      "  0%|\u001b[34m          \u001b[0m| 0/10 [00:00<?, ?it/s]\n",
      "100%|\u001b[34m██████████\u001b[0m| 10/10 [00:40<00:00,  4.02s/it]\u001b[32m [repeated 3x across cluster]\u001b[0m\n"
     ]
    },
    {
     "name": "stdout",
     "output_type": "stream",
     "text": [
      "\u001b[36m(launch_and_fit pid=2893)\u001b[0m Run WITHOUT homomorphic encryption\n",
      "\u001b[36m(launch_and_fit pid=2893)\u001b[0m  To get the checkpoint\n",
      "\u001b[36m(launch_and_fit pid=2868)\u001b[0m \tTrain Epoch: 1 \tTrain_loss_mri: 1.4122 | Train_acc_mri: 25.5440 | Train_loss_dna: 1.7249 | Train_acc_dna: 33.8194 | Validation_loss_mri: 1.3418 | Validation_acc_mri: 44.2708 | Validation_loss_dna: 1.9583 | Validation_acc_dna: 18.7500\n",
      "\u001b[36m(launch_and_fit pid=2893)\u001b[0m \tTrain Epoch: 1 \tTrain_loss_mri: 1.4112 | Train_acc_mri: 21.7130 | Train_loss_dna: 1.7835 | Train_acc_dna: 31.7361 | Validation_loss_mri: 1.3560 | Validation_acc_mri: 45.8333 | Validation_loss_dna: 1.8319 | Validation_acc_dna: 15.6250\n",
      "\u001b[36m(launch_and_fit pid=2893)\u001b[0m [Client 8, round 4] fit, config: {'learning_rate': 0.003, 'batch_size': '32', 'server_round': 4, 'local_epochs': 10}\n",
      "\u001b[36m(launch_and_fit pid=2893)\u001b[0m Updated model\n"
     ]
    },
    {
     "name": "stderr",
     "output_type": "stream",
     "text": [
      "  0%|\u001b[34m          \u001b[0m| 0/10 [00:00<?, ?it/s]\n",
      " 10%|\u001b[34m█         \u001b[0m| 1/10 [00:04<00:43,  4.79s/it]\u001b[32m [repeated 2x across cluster]\u001b[0m\n"
     ]
    },
    {
     "name": "stdout",
     "output_type": "stream",
     "text": [
      "\u001b[36m(launch_and_fit pid=2868)\u001b[0m \tTrain Epoch: 3 \tTrain_loss_mri: 1.2646 | Train_acc_mri: 50.6713 | Train_loss_dna: 1.6701 | Train_acc_dna: 36.7708 | Validation_loss_mri: 1.2668 | Validation_acc_mri: 48.9583 | Validation_loss_dna: 1.9728 | Validation_acc_dna: 23.4375\u001b[32m [repeated 3x across cluster]\u001b[0m\n"
     ]
    },
    {
     "name": "stderr",
     "output_type": "stream",
     "text": [
      " 30%|\u001b[34m███       \u001b[0m| 3/10 [00:12<00:28,  4.07s/it]\u001b[32m [repeated 3x across cluster]\u001b[0m\n"
     ]
    },
    {
     "name": "stdout",
     "output_type": "stream",
     "text": [
      "\u001b[36m(launch_and_fit pid=2893)\u001b[0m \tTrain Epoch: 4 \tTrain_loss_mri: 1.3570 | Train_acc_mri: 37.7662 | Train_loss_dna: 1.7111 | Train_acc_dna: 32.3380 | Validation_loss_mri: 1.4228 | Validation_acc_mri: 32.2917 | Validation_loss_dna: 1.8440 | Validation_acc_dna: 12.5000\u001b[32m [repeated 3x across cluster]\u001b[0m\n"
     ]
    },
    {
     "name": "stderr",
     "output_type": "stream",
     "text": [
      " 40%|\u001b[34m████      \u001b[0m| 4/10 [00:17<00:25,  4.29s/it]\u001b[32m [repeated 3x across cluster]\u001b[0m\n"
     ]
    },
    {
     "name": "stdout",
     "output_type": "stream",
     "text": [
      "\u001b[36m(launch_and_fit pid=2868)\u001b[0m \tTrain Epoch: 6 \tTrain_loss_mri: 1.2855 | Train_acc_mri: 36.1458 | Train_loss_dna: 1.6659 | Train_acc_dna: 36.4352 | Validation_loss_mri: 1.3263 | Validation_acc_mri: 38.5417 | Validation_loss_dna: 1.9927 | Validation_acc_dna: 18.7500\u001b[32m [repeated 3x across cluster]\u001b[0m\n"
     ]
    },
    {
     "name": "stderr",
     "output_type": "stream",
     "text": [
      " 60%|\u001b[34m██████    \u001b[0m| 6/10 [00:24<00:16,  4.07s/it]\u001b[32m [repeated 3x across cluster]\u001b[0m\n"
     ]
    },
    {
     "name": "stdout",
     "output_type": "stream",
     "text": [
      "\u001b[36m(launch_and_fit pid=2893)\u001b[0m \tTrain Epoch: 7 \tTrain_loss_mri: 1.1338 | Train_acc_mri: 43.1366 | Train_loss_dna: 1.6674 | Train_acc_dna: 36.7708 | Validation_loss_mri: 1.1955 | Validation_acc_mri: 46.3542 | Validation_loss_dna: 1.9458 | Validation_acc_dna: 17.1875\u001b[32m [repeated 3x across cluster]\u001b[0m\n"
     ]
    },
    {
     "name": "stderr",
     "output_type": "stream",
     "text": [
      " 70%|\u001b[34m███████   \u001b[0m| 7/10 [00:29<00:12,  4.07s/it]\u001b[32m [repeated 3x across cluster]\u001b[0m\n"
     ]
    },
    {
     "name": "stdout",
     "output_type": "stream",
     "text": [
      "\u001b[36m(launch_and_fit pid=2868)\u001b[0m \tTrain Epoch: 9 \tTrain_loss_mri: 0.8288 | Train_acc_mri: 57.3727 | Train_loss_dna: 1.5986 | Train_acc_dna: 40.8912 | Validation_loss_mri: 1.0345 | Validation_acc_mri: 48.9583 | Validation_loss_dna: 2.1776 | Validation_acc_dna: 17.1875\u001b[32m [repeated 3x across cluster]\u001b[0m\n"
     ]
    },
    {
     "name": "stderr",
     "output_type": "stream",
     "text": [
      " 90%|\u001b[34m█████████ \u001b[0m| 9/10 [00:36<00:04,  4.04s/it]\u001b[32m [repeated 3x across cluster]\u001b[0m\n"
     ]
    },
    {
     "name": "stdout",
     "output_type": "stream",
     "text": [
      "\u001b[36m(launch_and_fit pid=2868)\u001b[0m save graph in  results/FL/\n",
      "\u001b[36m(launch_and_fit pid=2893)\u001b[0m \tTrain Epoch: 10 \tTrain_loss_mri: 0.9808 | Train_acc_mri: 53.5648 | Train_loss_dna: 1.6211 | Train_acc_dna: 39.2130 | Validation_loss_mri: 1.2209 | Validation_acc_mri: 38.5417 | Validation_loss_dna: 1.8157 | Validation_acc_dna: 12.5000\u001b[32m [repeated 3x across cluster]\u001b[0m\n"
     ]
    },
    {
     "name": "stderr",
     "output_type": "stream",
     "text": [
      "100%|\u001b[34m██████████\u001b[0m| 10/10 [00:41<00:00,  4.13s/it]\u001b[32m [repeated 3x across cluster]\u001b[0m\n"
     ]
    },
    {
     "name": "stdout",
     "output_type": "stream",
     "text": [
      "\u001b[36m(launch_and_fit pid=2944)\u001b[0m Run WITHOUT homomorphic encryption\n",
      "\u001b[36m(launch_and_fit pid=2944)\u001b[0m  To get the checkpoint\n",
      "\u001b[36m(launch_and_fit pid=2893)\u001b[0m save graph in  results/FL/\n",
      "\u001b[36m(launch_and_fit pid=2944)\u001b[0m [Client 4, round 4] fit, config: {'learning_rate': 0.003, 'batch_size': '32', 'server_round': 4, 'local_epochs': 10}\n",
      "\u001b[36m(launch_and_fit pid=2944)\u001b[0m Updated model\n"
     ]
    },
    {
     "name": "stderr",
     "output_type": "stream",
     "text": [
      "  0%|\u001b[34m          \u001b[0m| 0/10 [00:00<?, ?it/s]\n"
     ]
    },
    {
     "name": "stdout",
     "output_type": "stream",
     "text": [
      "\u001b[36m(launch_and_fit pid=2944)\u001b[0m \tTrain Epoch: 1 \tTrain_loss_mri: 1.3814 | Train_acc_mri: 29.6412 | Train_loss_dna: 1.7553 | Train_acc_dna: 29.8958 | Validation_loss_mri: 1.4486 | Validation_acc_mri: 12.5000 | Validation_loss_dna: 1.7049 | Validation_acc_dna: 44.7917\n"
     ]
    },
    {
     "name": "stderr",
     "output_type": "stream",
     "text": [
      " 10%|\u001b[34m█         \u001b[0m| 1/10 [00:04<00:39,  4.41s/it]\n",
      "  0%|\u001b[34m          \u001b[0m| 0/10 [00:00<?, ?it/s]\n"
     ]
    },
    {
     "name": "stdout",
     "output_type": "stream",
     "text": [
      "\u001b[36m(launch_and_fit pid=2968)\u001b[0m Run WITHOUT homomorphic encryption\n",
      "\u001b[36m(launch_and_fit pid=2968)\u001b[0m  To get the checkpoint\n",
      "\u001b[36m(launch_and_fit pid=2968)\u001b[0m [Client 6, round 4] fit, config: {'learning_rate': 0.003, 'batch_size': '32', 'server_round': 4, 'local_epochs': 10}\n",
      "\u001b[36m(launch_and_fit pid=2968)\u001b[0m Updated model\n"
     ]
    },
    {
     "name": "stderr",
     "output_type": "stream",
     "text": [
      " 20%|\u001b[34m██        \u001b[0m| 2/10 [00:08<00:32,  4.08s/it]\u001b[32m [repeated 3x across cluster]\u001b[0m\n"
     ]
    },
    {
     "name": "stdout",
     "output_type": "stream",
     "text": [
      "\u001b[36m(launch_and_fit pid=2968)\u001b[0m \tTrain Epoch: 2 \tTrain_loss_mri: 1.3264 | Train_acc_mri: 34.3519 | Train_loss_dna: 1.6355 | Train_acc_dna: 41.2616 | Validation_loss_mri: 1.3786 | Validation_acc_mri: 35.4167 | Validation_loss_dna: 1.7585 | Validation_acc_dna: 45.8333\u001b[32m [repeated 3x across cluster]\u001b[0m\n",
      "\u001b[36m(launch_and_fit pid=2944)\u001b[0m \tTrain Epoch: 4 \tTrain_loss_mri: 1.3707 | Train_acc_mri: 35.1852 | Train_loss_dna: 1.6811 | Train_acc_dna: 34.6991 | Validation_loss_mri: 1.4096 | Validation_acc_mri: 29.1667 | Validation_loss_dna: 1.5458 | Validation_acc_dna: 46.3542\u001b[32m [repeated 3x across cluster]\u001b[0m\n"
     ]
    },
    {
     "name": "stderr",
     "output_type": "stream",
     "text": [
      " 40%|\u001b[34m████      \u001b[0m| 4/10 [00:16<00:24,  4.07s/it]\u001b[32m [repeated 3x across cluster]\u001b[0m\n",
      " 50%|\u001b[34m█████     \u001b[0m| 5/10 [00:20<00:19,  3.98s/it]\u001b[32m [repeated 3x across cluster]\u001b[0m\n"
     ]
    },
    {
     "name": "stdout",
     "output_type": "stream",
     "text": [
      "\u001b[36m(launch_and_fit pid=2968)\u001b[0m \tTrain Epoch: 5 \tTrain_loss_mri: 0.8318 | Train_acc_mri: 61.8634 | Train_loss_dna: 1.5762 | Train_acc_dna: 40.6366 | Validation_loss_mri: 1.3354 | Validation_acc_mri: 41.6667 | Validation_loss_dna: 1.8909 | Validation_acc_dna: 47.3958\u001b[32m [repeated 3x across cluster]\u001b[0m\n",
      "\u001b[36m(launch_and_fit pid=2944)\u001b[0m \tTrain Epoch: 7 \tTrain_loss_mri: 1.2317 | Train_acc_mri: 42.3727 | Train_loss_dna: 1.7508 | Train_acc_dna: 29.4097 | Validation_loss_mri: 1.1310 | Validation_acc_mri: 41.6667 | Validation_loss_dna: 1.5531 | Validation_acc_dna: 40.1042\u001b[32m [repeated 3x across cluster]\u001b[0m\n"
     ]
    },
    {
     "name": "stderr",
     "output_type": "stream",
     "text": [
      " 70%|\u001b[34m███████   \u001b[0m| 7/10 [00:27<00:11,  3.90s/it]\u001b[32m [repeated 3x across cluster]\u001b[0m\n",
      " 80%|\u001b[34m████████  \u001b[0m| 8/10 [00:31<00:07,  3.91s/it]\u001b[32m [repeated 3x across cluster]\u001b[0m\n"
     ]
    },
    {
     "name": "stdout",
     "output_type": "stream",
     "text": [
      "\u001b[36m(launch_and_fit pid=2968)\u001b[0m \tTrain Epoch: 8 \tTrain_loss_mri: 0.4613 | Train_acc_mri: 82.8356 | Train_loss_dna: 1.6311 | Train_acc_dna: 38.1019 | Validation_loss_mri: 0.9788 | Validation_acc_mri: 54.1667 | Validation_loss_dna: 1.8620 | Validation_acc_dna: 29.1667\u001b[32m [repeated 3x across cluster]\u001b[0m\n",
      "\u001b[36m(launch_and_fit pid=2944)\u001b[0m save graph in  results/FL/\n",
      "\u001b[36m(launch_and_fit pid=2944)\u001b[0m \tTrain Epoch: 10 \tTrain_loss_mri: 1.0615 | Train_acc_mri: 46.5162 | Train_loss_dna: 1.6443 | Train_acc_dna: 36.8056 | Validation_loss_mri: 1.1168 | Validation_acc_mri: 40.1042 | Validation_loss_dna: 1.7086 | Validation_acc_dna: 44.7917\u001b[32m [repeated 3x across cluster]\u001b[0m\n"
     ]
    },
    {
     "name": "stderr",
     "output_type": "stream",
     "text": [
      "100%|\u001b[34m██████████\u001b[0m| 10/10 [00:39<00:00,  3.95s/it]\u001b[32m [repeated 3x across cluster]\u001b[0m\n",
      "DEBUG flwr 2024-08-05 11:20:13,786 | server.py:236 | fit_round 4 received 10 results and 0 failures\n"
     ]
    },
    {
     "name": "stdout",
     "output_type": "stream",
     "text": [
      "Saving round 4 aggregated_parameters...\n",
      "Updated model\n"
     ]
    },
    {
     "name": "stderr",
     "output_type": "stream",
     "text": [
      "INFO flwr 2024-08-05 11:20:20,154 | server.py:125 | fit progress: (4, (1.4293159714766912, 1.757365835564477), {'accuracy': (25.744047619047617, 32.40327380952381)}, 1279.2900407759998)\n",
      "DEBUG flwr 2024-08-05 11:20:20,156 | server.py:173 | evaluate_round 4: strategy sampled 10 clients (out of 10)\n"
     ]
    },
    {
     "name": "stdout",
     "output_type": "stream",
     "text": [
      "Server-side evaluation MRI loss 1.4293159714766912 / MRI accuracy 25.744047619047617\n",
      "Server-side evaluation DNA loss 1.757365835564477 / DNA accuracy 32.40327380952381\n",
      "\u001b[36m(launch_and_evaluate pid=3027)\u001b[0m Run WITHOUT homomorphic encryption\n",
      "\u001b[36m(launch_and_evaluate pid=3027)\u001b[0m  To get the checkpoint\n",
      "\u001b[36m(launch_and_fit pid=2968)\u001b[0m save graph in  results/FL/\n",
      "\u001b[36m(launch_and_fit pid=2968)\u001b[0m \tTrain Epoch: 10 \tTrain_loss_mri: 0.2863 | Train_acc_mri: 94.6296 | Train_loss_dna: 1.4696 | Train_acc_dna: 44.0741 | Validation_loss_mri: 1.5573 | Validation_acc_mri: 52.6042 | Validation_loss_dna: 2.0891 | Validation_acc_dna: 30.7292\n",
      "\u001b[36m(launch_and_evaluate pid=3027)\u001b[0m [Client 0] evaluate, config: {}\n",
      "\u001b[36m(launch_and_evaluate pid=3027)\u001b[0m Updated model\n"
     ]
    },
    {
     "name": "stderr",
     "output_type": "stream",
     "text": [
      "\u001b[36m(launch_and_evaluate pid=3028)\u001b[0m /opt/conda/lib/python3.10/site-packages/sklearn/metrics/_ranking.py:1029: UndefinedMetricWarning: No positive samples in y_true, true positive value should be meaningless\n",
      "\u001b[36m(launch_and_evaluate pid=3028)\u001b[0m   warnings.warn(\n",
      "100%|\u001b[34m██████████\u001b[0m| 10/10 [00:39<00:00,  3.95s/it]\n"
     ]
    },
    {
     "name": "stdout",
     "output_type": "stream",
     "text": [
      "\u001b[36m(launch_and_evaluate pid=3098)\u001b[0m Run WITHOUT homomorphic encryption\u001b[32m [repeated 2x across cluster]\u001b[0m\n",
      "\u001b[36m(launch_and_evaluate pid=3098)\u001b[0m  To get the checkpoint\u001b[32m [repeated 2x across cluster]\u001b[0m\n",
      "\u001b[36m(launch_and_evaluate pid=3028)\u001b[0m [Client 4] evaluate, config: {}\n",
      "\u001b[36m(launch_and_evaluate pid=3028)\u001b[0m Updated model\n",
      "\u001b[36m(launch_and_evaluate pid=3098)\u001b[0m [Client 9] evaluate, config: {}\n",
      "\u001b[36m(launch_and_evaluate pid=3098)\u001b[0m Updated model\n"
     ]
    },
    {
     "name": "stderr",
     "output_type": "stream",
     "text": [
      "\u001b[36m(launch_and_evaluate pid=3098)\u001b[0m /opt/conda/lib/python3.10/site-packages/sklearn/metrics/_ranking.py:1029: UndefinedMetricWarning: No positive samples in y_true, true positive value should be meaningless\n",
      "\u001b[36m(launch_and_evaluate pid=3098)\u001b[0m   warnings.warn(\n"
     ]
    },
    {
     "name": "stdout",
     "output_type": "stream",
     "text": [
      "\u001b[36m(launch_and_evaluate pid=3169)\u001b[0m Run WITHOUT homomorphic encryption\u001b[32m [repeated 2x across cluster]\u001b[0m\n",
      "\u001b[36m(launch_and_evaluate pid=3169)\u001b[0m  To get the checkpoint\u001b[32m [repeated 2x across cluster]\u001b[0m\n",
      "\u001b[36m(launch_and_evaluate pid=3100)\u001b[0m [Client 6] evaluate, config: {}\n",
      "\u001b[36m(launch_and_evaluate pid=3100)\u001b[0m Updated model\n",
      "\u001b[36m(launch_and_evaluate pid=3169)\u001b[0m [Client 1] evaluate, config: {}\n",
      "\u001b[36m(launch_and_evaluate pid=3169)\u001b[0m Updated model\n"
     ]
    },
    {
     "name": "stderr",
     "output_type": "stream",
     "text": [
      "\u001b[36m(launch_and_evaluate pid=3171)\u001b[0m /opt/conda/lib/python3.10/site-packages/sklearn/metrics/_ranking.py:1029: UndefinedMetricWarning: No positive samples in y_true, true positive value should be meaningless\n",
      "\u001b[36m(launch_and_evaluate pid=3171)\u001b[0m   warnings.warn(\n"
     ]
    },
    {
     "name": "stdout",
     "output_type": "stream",
     "text": [
      "\u001b[36m(launch_and_evaluate pid=3239)\u001b[0m Run WITHOUT homomorphic encryption\u001b[32m [repeated 2x across cluster]\u001b[0m\n",
      "\u001b[36m(launch_and_evaluate pid=3239)\u001b[0m  To get the checkpoint\u001b[32m [repeated 2x across cluster]\u001b[0m\n",
      "\u001b[36m(launch_and_evaluate pid=3171)\u001b[0m [Client 8] evaluate, config: {}\n",
      "\u001b[36m(launch_and_evaluate pid=3171)\u001b[0m Updated model\n",
      "\u001b[36m(launch_and_evaluate pid=3239)\u001b[0m [Client 7] evaluate, config: {}\n",
      "\u001b[36m(launch_and_evaluate pid=3239)\u001b[0m Updated model\n",
      "\u001b[36m(launch_and_evaluate pid=3309)\u001b[0m Run WITHOUT homomorphic encryption\u001b[32m [repeated 2x across cluster]\u001b[0m\n",
      "\u001b[36m(launch_and_evaluate pid=3309)\u001b[0m  To get the checkpoint\u001b[32m [repeated 2x across cluster]\u001b[0m\n",
      "\u001b[36m(launch_and_evaluate pid=3241)\u001b[0m [Client 5] evaluate, config: {}\n",
      "\u001b[36m(launch_and_evaluate pid=3241)\u001b[0m Updated model\n",
      "\u001b[36m(launch_and_evaluate pid=3309)\u001b[0m [Client 2] evaluate, config: {}\n",
      "\u001b[36m(launch_and_evaluate pid=3309)\u001b[0m Updated model\n"
     ]
    },
    {
     "name": "stderr",
     "output_type": "stream",
     "text": [
      "DEBUG flwr 2024-08-05 11:21:27,838 | server.py:187 | evaluate_round 4 received 10 results and 0 failures\n",
      "DEBUG flwr 2024-08-05 11:21:27,840 | server.py:222 | fit_round 5: strategy sampled 10 clients (out of 10)\n"
     ]
    },
    {
     "name": "stdout",
     "output_type": "stream",
     "text": [
      "\u001b[36m(launch_and_fit pid=3388)\u001b[0m Run WITHOUT homomorphic encryption\u001b[32m [repeated 2x across cluster]\u001b[0m\n",
      "\u001b[36m(launch_and_fit pid=3388)\u001b[0m  To get the checkpoint\u001b[32m [repeated 2x across cluster]\u001b[0m\n",
      "\u001b[36m(launch_and_evaluate pid=3311)\u001b[0m [Client 3] evaluate, config: {}\n",
      "\u001b[36m(launch_and_evaluate pid=3311)\u001b[0m Updated model\n",
      "\u001b[36m(launch_and_fit pid=3388)\u001b[0m [Client 7, round 5] fit, config: {'learning_rate': 0.003, 'batch_size': '32', 'server_round': 5, 'local_epochs': 10}\n",
      "\u001b[36m(launch_and_fit pid=3388)\u001b[0m Updated model\n"
     ]
    },
    {
     "name": "stderr",
     "output_type": "stream",
     "text": [
      "  0%|\u001b[34m          \u001b[0m| 0/10 [00:00<?, ?it/s]\n"
     ]
    },
    {
     "name": "stdout",
     "output_type": "stream",
     "text": [
      "\u001b[36m(launch_and_fit pid=3388)\u001b[0m \tTrain Epoch: 1 \tTrain_loss_mri: 1.3180 | Train_acc_mri: 35.6597 | Train_loss_dna: 1.8084 | Train_acc_dna: 29.3519 | Validation_loss_mri: 1.0407 | Validation_acc_mri: 56.7708 | Validation_loss_dna: 1.3608 | Validation_acc_dna: 50.5208\n"
     ]
    },
    {
     "name": "stderr",
     "output_type": "stream",
     "text": [
      " 10%|\u001b[34m█         \u001b[0m| 1/10 [00:04<00:40,  4.46s/it]\n",
      "  0%|\u001b[34m          \u001b[0m| 0/10 [00:00<?, ?it/s]\n"
     ]
    },
    {
     "name": "stdout",
     "output_type": "stream",
     "text": [
      "\u001b[36m(launch_and_fit pid=3389)\u001b[0m Run WITHOUT homomorphic encryption\n",
      "\u001b[36m(launch_and_fit pid=3389)\u001b[0m  To get the checkpoint\n",
      "\u001b[36m(launch_and_fit pid=3389)\u001b[0m [Client 0, round 5] fit, config: {'learning_rate': 0.003, 'batch_size': '32', 'server_round': 5, 'local_epochs': 10}\n",
      "\u001b[36m(launch_and_fit pid=3389)\u001b[0m Updated model\n"
     ]
    },
    {
     "name": "stderr",
     "output_type": "stream",
     "text": [
      " 30%|\u001b[34m███       \u001b[0m| 3/10 [00:12<00:28,  4.13s/it]\u001b[32m [repeated 4x across cluster]\u001b[0m\n"
     ]
    },
    {
     "name": "stdout",
     "output_type": "stream",
     "text": [
      "\u001b[36m(launch_and_fit pid=3389)\u001b[0m \tTrain Epoch: 3 \tTrain_loss_mri: 0.7759 | Train_acc_mri: 59.9306 | Train_loss_dna: 1.6930 | Train_acc_dna: 35.2894 | Validation_loss_mri: 0.8442 | Validation_acc_mri: 52.0833 | Validation_loss_dna: 2.1154 | Validation_acc_dna: 17.1875\u001b[32m [repeated 4x across cluster]\u001b[0m\n"
     ]
    },
    {
     "name": "stderr",
     "output_type": "stream",
     "text": [
      " 50%|\u001b[34m█████     \u001b[0m| 5/10 [00:20<00:20,  4.04s/it]\u001b[32m [repeated 4x across cluster]\u001b[0m\n"
     ]
    },
    {
     "name": "stdout",
     "output_type": "stream",
     "text": [
      "\u001b[36m(launch_and_fit pid=3389)\u001b[0m \tTrain Epoch: 5 \tTrain_loss_mri: 0.4751 | Train_acc_mri: 85.4514 | Train_loss_dna: 1.6851 | Train_acc_dna: 34.7801 | Validation_loss_mri: 0.6320 | Validation_acc_mri: 84.3750 | Validation_loss_dna: 2.1027 | Validation_acc_dna: 21.8750\u001b[32m [repeated 4x across cluster]\u001b[0m\n"
     ]
    },
    {
     "name": "stderr",
     "output_type": "stream",
     "text": [
      " 70%|\u001b[34m███████   \u001b[0m| 7/10 [00:28<00:11,  3.95s/it]\u001b[32m [repeated 4x across cluster]\u001b[0m\n"
     ]
    },
    {
     "name": "stdout",
     "output_type": "stream",
     "text": [
      "\u001b[36m(launch_and_fit pid=3389)\u001b[0m \tTrain Epoch: 7 \tTrain_loss_mri: 0.2593 | Train_acc_mri: 96.4468 | Train_loss_dna: 1.6343 | Train_acc_dna: 37.8819 | Validation_loss_mri: 0.5563 | Validation_acc_mri: 84.3750 | Validation_loss_dna: 2.2549 | Validation_acc_dna: 21.8750\u001b[32m [repeated 4x across cluster]\u001b[0m\n"
     ]
    },
    {
     "name": "stderr",
     "output_type": "stream",
     "text": [
      " 90%|\u001b[34m█████████ \u001b[0m| 9/10 [00:36<00:03,  3.93s/it]\u001b[32m [repeated 4x across cluster]\u001b[0m\n"
     ]
    },
    {
     "name": "stdout",
     "output_type": "stream",
     "text": [
      "\u001b[36m(launch_and_fit pid=3389)\u001b[0m \tTrain Epoch: 9 \tTrain_loss_mri: 0.1428 | Train_acc_mri: 97.1296 | Train_loss_dna: 1.5914 | Train_acc_dna: 42.7083 | Validation_loss_mri: 0.6818 | Validation_acc_mri: 82.8125 | Validation_loss_dna: 2.2553 | Validation_acc_dna: 18.7500\u001b[32m [repeated 4x across cluster]\u001b[0m\n",
      "\u001b[36m(launch_and_fit pid=3389)\u001b[0m save graph in  results/FL/\n",
      "\u001b[36m(launch_and_fit pid=3462)\u001b[0m Run WITHOUT homomorphic encryption\n",
      "\u001b[36m(launch_and_fit pid=3462)\u001b[0m  To get the checkpoint\n",
      "\u001b[36m(launch_and_fit pid=3388)\u001b[0m \tTrain Epoch: 10 \tTrain_loss_mri: 0.2692 | Train_acc_mri: 91.7593 | Train_loss_dna: 1.6373 | Train_acc_dna: 36.8056 | Validation_loss_mri: 1.7362 | Validation_acc_mri: 43.2292 | Validation_loss_dna: 1.3478 | Validation_acc_dna: 47.3958\u001b[32m [repeated 3x across cluster]\u001b[0m\n",
      "\u001b[36m(launch_and_fit pid=3388)\u001b[0m save graph in  results/FL/\n",
      "\u001b[36m(launch_and_fit pid=3462)\u001b[0m [Client 6, round 5] fit, config: {'learning_rate': 0.003, 'batch_size': '32', 'server_round': 5, 'local_epochs': 10}\n",
      "\u001b[36m(launch_and_fit pid=3462)\u001b[0m Updated model\n"
     ]
    },
    {
     "name": "stderr",
     "output_type": "stream",
     "text": [
      "  0%|\u001b[34m          \u001b[0m| 0/10 [00:00<?, ?it/s]\n",
      "100%|\u001b[34m██████████\u001b[0m| 10/10 [00:40<00:00,  4.06s/it]\u001b[32m [repeated 3x across cluster]\u001b[0m\n"
     ]
    },
    {
     "name": "stdout",
     "output_type": "stream",
     "text": [
      "\u001b[36m(launch_and_fit pid=3487)\u001b[0m Run WITHOUT homomorphic encryption\n",
      "\u001b[36m(launch_and_fit pid=3487)\u001b[0m  To get the checkpoint\n",
      "\u001b[36m(launch_and_fit pid=3487)\u001b[0m \tTrain Epoch: 1 \tTrain_loss_mri: 1.2734 | Train_acc_mri: 34.8185 | Train_loss_dna: 1.7177 | Train_acc_dna: 36.0383 | Validation_loss_mri: 1.0157 | Validation_acc_mri: 63.0208 | Validation_loss_dna: 1.6098 | Validation_acc_dna: 35.4167\u001b[32m [repeated 2x across cluster]\u001b[0m\n",
      "\u001b[36m(launch_and_fit pid=3487)\u001b[0m [Client 9, round 5] fit, config: {'learning_rate': 0.003, 'batch_size': '32', 'server_round': 5, 'local_epochs': 10}\n",
      "\u001b[36m(launch_and_fit pid=3487)\u001b[0m Updated model\n"
     ]
    },
    {
     "name": "stderr",
     "output_type": "stream",
     "text": [
      "  0%|\u001b[34m          \u001b[0m| 0/10 [00:00<?, ?it/s]\n",
      " 20%|\u001b[34m██        \u001b[0m| 2/10 [00:08<00:32,  4.12s/it]\u001b[32m [repeated 3x across cluster]\u001b[0m\n"
     ]
    },
    {
     "name": "stdout",
     "output_type": "stream",
     "text": [
      "\u001b[36m(launch_and_fit pid=3462)\u001b[0m \tTrain Epoch: 3 \tTrain_loss_mri: 0.7535 | Train_acc_mri: 71.1574 | Train_loss_dna: 1.6319 | Train_acc_dna: 40.9838 | Validation_loss_mri: 1.0720 | Validation_acc_mri: 54.1667 | Validation_loss_dna: 1.7231 | Validation_acc_dna: 47.3958\u001b[32m [repeated 3x across cluster]\u001b[0m\n"
     ]
    },
    {
     "name": "stderr",
     "output_type": "stream",
     "text": [
      " 40%|\u001b[34m████      \u001b[0m| 4/10 [00:16<00:23,  3.96s/it]\u001b[32m [repeated 4x across cluster]\u001b[0m\n"
     ]
    },
    {
     "name": "stdout",
     "output_type": "stream",
     "text": [
      "\u001b[36m(launch_and_fit pid=3462)\u001b[0m \tTrain Epoch: 5 \tTrain_loss_mri: 0.4221 | Train_acc_mri: 91.6435 | Train_loss_dna: 1.5659 | Train_acc_dna: 41.6898 | Validation_loss_mri: 1.1186 | Validation_acc_mri: 51.0417 | Validation_loss_dna: 1.8677 | Validation_acc_dna: 44.2708\u001b[32m [repeated 4x across cluster]\u001b[0m\n"
     ]
    },
    {
     "name": "stderr",
     "output_type": "stream",
     "text": [
      " 60%|\u001b[34m██████    \u001b[0m| 6/10 [00:24<00:16,  4.03s/it]\u001b[32m [repeated 4x across cluster]\u001b[0m\n"
     ]
    },
    {
     "name": "stdout",
     "output_type": "stream",
     "text": [
      "\u001b[36m(launch_and_fit pid=3462)\u001b[0m \tTrain Epoch: 7 \tTrain_loss_mri: 0.2434 | Train_acc_mri: 94.5718 | Train_loss_dna: 1.5162 | Train_acc_dna: 42.6273 | Validation_loss_mri: 1.7041 | Validation_acc_mri: 54.1667 | Validation_loss_dna: 1.8649 | Validation_acc_dna: 45.8333\u001b[32m [repeated 4x across cluster]\u001b[0m\n"
     ]
    },
    {
     "name": "stderr",
     "output_type": "stream",
     "text": [
      " 80%|\u001b[34m████████  \u001b[0m| 8/10 [00:31<00:07,  3.96s/it]\u001b[32m [repeated 4x across cluster]\u001b[0m\n"
     ]
    },
    {
     "name": "stdout",
     "output_type": "stream",
     "text": [
      "\u001b[36m(launch_and_fit pid=3462)\u001b[0m \tTrain Epoch: 9 \tTrain_loss_mri: 0.0972 | Train_acc_mri: 97.4421 | Train_loss_dna: 1.5717 | Train_acc_dna: 39.5023 | Validation_loss_mri: 0.9281 | Validation_acc_mri: 55.7292 | Validation_loss_dna: 1.8860 | Validation_acc_dna: 10.9375\u001b[32m [repeated 4x across cluster]\u001b[0m\n",
      "\u001b[36m(launch_and_fit pid=3462)\u001b[0m save graph in  results/FL/\n"
     ]
    },
    {
     "name": "stderr",
     "output_type": "stream",
     "text": [
      "100%|\u001b[34m██████████\u001b[0m| 10/10 [00:39<00:00,  3.97s/it]\u001b[32m [repeated 4x across cluster]\u001b[0m\n"
     ]
    },
    {
     "name": "stdout",
     "output_type": "stream",
     "text": [
      "\u001b[36m(launch_and_fit pid=3536)\u001b[0m Run WITHOUT homomorphic encryption\n",
      "\u001b[36m(launch_and_fit pid=3536)\u001b[0m  To get the checkpoint\n",
      "\u001b[36m(launch_and_fit pid=3487)\u001b[0m \tTrain Epoch: 10 \tTrain_loss_mri: 0.1399 | Train_acc_mri: 97.1875 | Train_loss_dna: 1.5469 | Train_acc_dna: 39.1935 | Validation_loss_mri: 1.2111 | Validation_acc_mri: 58.3333 | Validation_loss_dna: 1.5797 | Validation_acc_dna: 35.4167\u001b[32m [repeated 3x across cluster]\u001b[0m\n",
      "\u001b[36m(launch_and_fit pid=3487)\u001b[0m save graph in  results/FL/\n",
      "\u001b[36m(launch_and_fit pid=3536)\u001b[0m [Client 5, round 5] fit, config: {'learning_rate': 0.003, 'batch_size': '32', 'server_round': 5, 'local_epochs': 10}\n",
      "\u001b[36m(launch_and_fit pid=3536)\u001b[0m Updated model\n"
     ]
    },
    {
     "name": "stderr",
     "output_type": "stream",
     "text": [
      "  0%|\u001b[34m          \u001b[0m| 0/10 [00:00<?, ?it/s]\n",
      "100%|\u001b[34m██████████\u001b[0m| 10/10 [00:39<00:00,  3.96s/it]\n",
      " 10%|\u001b[34m█         \u001b[0m| 1/10 [00:04<00:40,  4.53s/it]\n"
     ]
    },
    {
     "name": "stdout",
     "output_type": "stream",
     "text": [
      "\u001b[36m(launch_and_fit pid=3538)\u001b[0m Run WITHOUT homomorphic encryption\n",
      "\u001b[36m(launch_and_fit pid=3538)\u001b[0m  To get the checkpoint\n",
      "\u001b[36m(launch_and_fit pid=3538)\u001b[0m \tTrain Epoch: 1 \tTrain_loss_mri: 1.2454 | Train_acc_mri: 39.9537 | Train_loss_dna: 1.7320 | Train_acc_dna: 33.3912 | Validation_loss_mri: 1.1609 | Validation_acc_mri: 40.1042 | Validation_loss_dna: 1.5517 | Validation_acc_dna: 44.7917\u001b[32m [repeated 2x across cluster]\u001b[0m\n",
      "\u001b[36m(launch_and_fit pid=3538)\u001b[0m [Client 4, round 5] fit, config: {'learning_rate': 0.003, 'batch_size': '32', 'server_round': 5, 'local_epochs': 10}\n",
      "\u001b[36m(launch_and_fit pid=3538)\u001b[0m Updated model\n"
     ]
    },
    {
     "name": "stderr",
     "output_type": "stream",
     "text": [
      "  0%|\u001b[34m          \u001b[0m| 0/10 [00:00<?, ?it/s]\n"
     ]
    },
    {
     "name": "stdout",
     "output_type": "stream",
     "text": [
      "\u001b[36m(launch_and_fit pid=3536)\u001b[0m \tTrain Epoch: 3 \tTrain_loss_mri: 0.8058 | Train_acc_mri: 59.4213 | Train_loss_dna: 1.7388 | Train_acc_dna: 32.5116 | Validation_loss_mri: 1.4797 | Validation_acc_mri: 29.6875 | Validation_loss_dna: 1.7803 | Validation_acc_dna: 14.0625\u001b[32m [repeated 3x across cluster]\u001b[0m\n"
     ]
    },
    {
     "name": "stderr",
     "output_type": "stream",
     "text": [
      " 30%|\u001b[34m███       \u001b[0m| 3/10 [00:12<00:28,  4.14s/it]\u001b[32m [repeated 4x across cluster]\u001b[0m\n"
     ]
    },
    {
     "name": "stdout",
     "output_type": "stream",
     "text": [
      "\u001b[36m(launch_and_fit pid=3536)\u001b[0m \tTrain Epoch: 5 \tTrain_loss_mri: 0.4633 | Train_acc_mri: 86.3310 | Train_loss_dna: 1.6930 | Train_acc_dna: 35.3241 | Validation_loss_mri: 1.4011 | Validation_acc_mri: 35.9375 | Validation_loss_dna: 1.7285 | Validation_acc_dna: 14.0625\u001b[32m [repeated 4x across cluster]\u001b[0m\n"
     ]
    },
    {
     "name": "stderr",
     "output_type": "stream",
     "text": [
      " 50%|\u001b[34m█████     \u001b[0m| 5/10 [00:20<00:20,  4.02s/it]\u001b[32m [repeated 4x across cluster]\u001b[0m\n"
     ]
    },
    {
     "name": "stdout",
     "output_type": "stream",
     "text": [
      "\u001b[36m(launch_and_fit pid=3536)\u001b[0m \tTrain Epoch: 7 \tTrain_loss_mri: 0.2301 | Train_acc_mri: 96.8171 | Train_loss_dna: 1.6834 | Train_acc_dna: 33.0208 | Validation_loss_mri: 2.2320 | Validation_acc_mri: 32.8125 | Validation_loss_dna: 1.7889 | Validation_acc_dna: 14.0625\u001b[32m [repeated 4x across cluster]\u001b[0m\n"
     ]
    },
    {
     "name": "stderr",
     "output_type": "stream",
     "text": [
      " 70%|\u001b[34m███████   \u001b[0m| 7/10 [00:28<00:11,  3.96s/it]\u001b[32m [repeated 4x across cluster]\u001b[0m\n"
     ]
    },
    {
     "name": "stdout",
     "output_type": "stream",
     "text": [
      "\u001b[36m(launch_and_fit pid=3536)\u001b[0m \tTrain Epoch: 9 \tTrain_loss_mri: 0.0953 | Train_acc_mri: 100.0000 | Train_loss_dna: 1.6849 | Train_acc_dna: 33.3912 | Validation_loss_mri: 3.5585 | Validation_acc_mri: 32.8125 | Validation_loss_dna: 1.7915 | Validation_acc_dna: 12.5000\u001b[32m [repeated 4x across cluster]\u001b[0m\n"
     ]
    },
    {
     "name": "stderr",
     "output_type": "stream",
     "text": [
      " 90%|\u001b[34m█████████ \u001b[0m| 9/10 [00:36<00:04,  4.10s/it]\u001b[32m [repeated 4x across cluster]\u001b[0m\n"
     ]
    },
    {
     "name": "stdout",
     "output_type": "stream",
     "text": [
      "\u001b[36m(launch_and_fit pid=3536)\u001b[0m save graph in  results/FL/\n",
      "\u001b[36m(launch_and_fit pid=3610)\u001b[0m Run WITHOUT homomorphic encryption\n",
      "\u001b[36m(launch_and_fit pid=3610)\u001b[0m  To get the checkpoint\n",
      "\u001b[36m(launch_and_fit pid=3538)\u001b[0m \tTrain Epoch: 10 \tTrain_loss_mri: 0.1811 | Train_acc_mri: 93.3796 | Train_loss_dna: 1.5777 | Train_acc_dna: 38.9583 | Validation_loss_mri: 0.8384 | Validation_acc_mri: 81.2500 | Validation_loss_dna: 1.4467 | Validation_acc_dna: 46.3542\u001b[32m [repeated 3x across cluster]\u001b[0m\n",
      "\u001b[36m(launch_and_fit pid=3538)\u001b[0m save graph in  results/FL/\n",
      "\u001b[36m(launch_and_fit pid=3610)\u001b[0m [Client 1, round 5] fit, config: {'learning_rate': 0.003, 'batch_size': '32', 'server_round': 5, 'local_epochs': 10}\n",
      "\u001b[36m(launch_and_fit pid=3610)\u001b[0m Updated model\n"
     ]
    },
    {
     "name": "stderr",
     "output_type": "stream",
     "text": [
      "  0%|\u001b[34m          \u001b[0m| 0/10 [00:00<?, ?it/s]\n",
      "100%|\u001b[34m██████████\u001b[0m| 10/10 [00:40<00:00,  4.01s/it]\u001b[32m [repeated 3x across cluster]\u001b[0m\n"
     ]
    },
    {
     "name": "stdout",
     "output_type": "stream",
     "text": [
      "\u001b[36m(launch_and_fit pid=3612)\u001b[0m Run WITHOUT homomorphic encryption\n",
      "\u001b[36m(launch_and_fit pid=3612)\u001b[0m  To get the checkpoint\n",
      "\u001b[36m(launch_and_fit pid=3610)\u001b[0m \tTrain Epoch: 1 \tTrain_loss_mri: 1.2638 | Train_acc_mri: 37.6505 | Train_loss_dna: 1.7461 | Train_acc_dna: 32.8472 | Validation_loss_mri: 1.1576 | Validation_acc_mri: 38.5417 | Validation_loss_dna: 2.0321 | Validation_acc_dna: 29.1667\n",
      "\u001b[36m(launch_and_fit pid=3612)\u001b[0m \tTrain Epoch: 1 \tTrain_loss_mri: 1.3147 | Train_acc_mri: 34.8380 | Train_loss_dna: 1.7464 | Train_acc_dna: 32.0255 | Validation_loss_mri: 0.8002 | Validation_acc_mri: 78.1250 | Validation_loss_dna: 1.7263 | Validation_acc_dna: 27.6042\n"
     ]
    },
    {
     "name": "stderr",
     "output_type": "stream",
     "text": [
      "  0%|\u001b[34m          \u001b[0m| 0/10 [00:00<?, ?it/s]\n",
      " 20%|\u001b[34m██        \u001b[0m| 2/10 [00:08<00:33,  4.19s/it]\u001b[32m [repeated 3x across cluster]\u001b[0m\n"
     ]
    },
    {
     "name": "stdout",
     "output_type": "stream",
     "text": [
      "\u001b[36m(launch_and_fit pid=3612)\u001b[0m [Client 2, round 5] fit, config: {'learning_rate': 0.003, 'batch_size': '32', 'server_round': 5, 'local_epochs': 10}\n",
      "\u001b[36m(launch_and_fit pid=3612)\u001b[0m Updated model\n",
      "\u001b[36m(launch_and_fit pid=3612)\u001b[0m \tTrain Epoch: 3 \tTrain_loss_mri: 0.8974 | Train_acc_mri: 55.5556 | Train_loss_dna: 1.6469 | Train_acc_dna: 35.5787 | Validation_loss_mri: 0.4999 | Validation_acc_mri: 79.6875 | Validation_loss_dna: 1.6198 | Validation_acc_dna: 38.0208\u001b[32m [repeated 3x across cluster]\u001b[0m\n"
     ]
    },
    {
     "name": "stderr",
     "output_type": "stream",
     "text": [
      " 40%|\u001b[34m████      \u001b[0m| 4/10 [00:16<00:25,  4.19s/it]\u001b[32m [repeated 4x across cluster]\u001b[0m\n"
     ]
    },
    {
     "name": "stdout",
     "output_type": "stream",
     "text": [
      "\u001b[36m(launch_and_fit pid=3610)\u001b[0m \tTrain Epoch: 5 \tTrain_loss_mri: 0.4358 | Train_acc_mri: 89.3750 | Train_loss_dna: 1.6656 | Train_acc_dna: 36.6898 | Validation_loss_mri: 1.7321 | Validation_acc_mri: 67.7083 | Validation_loss_dna: 2.2560 | Validation_acc_dna: 17.1875\u001b[32m [repeated 4x across cluster]\u001b[0m\n"
     ]
    },
    {
     "name": "stderr",
     "output_type": "stream",
     "text": [
      " 60%|\u001b[34m██████    \u001b[0m| 6/10 [00:24<00:16,  4.05s/it]\u001b[32m [repeated 4x across cluster]\u001b[0m\n"
     ]
    },
    {
     "name": "stdout",
     "output_type": "stream",
     "text": [
      "\u001b[36m(launch_and_fit pid=3610)\u001b[0m \tTrain Epoch: 7 \tTrain_loss_mri: 0.2306 | Train_acc_mri: 94.6875 | Train_loss_dna: 1.6197 | Train_acc_dna: 37.6273 | Validation_loss_mri: 2.1882 | Validation_acc_mri: 69.2708 | Validation_loss_dna: 2.3410 | Validation_acc_dna: 15.6250\u001b[32m [repeated 4x across cluster]\u001b[0m\n"
     ]
    },
    {
     "name": "stderr",
     "output_type": "stream",
     "text": [
      " 80%|\u001b[34m████████  \u001b[0m| 8/10 [00:32<00:07,  3.94s/it]\u001b[32m [repeated 4x across cluster]\u001b[0m\n"
     ]
    },
    {
     "name": "stdout",
     "output_type": "stream",
     "text": [
      "\u001b[36m(launch_and_fit pid=3610)\u001b[0m \tTrain Epoch: 9 \tTrain_loss_mri: 0.1446 | Train_acc_mri: 96.8750 | Train_loss_dna: 1.5849 | Train_acc_dna: 38.8194 | Validation_loss_mri: 3.3460 | Validation_acc_mri: 49.4792 | Validation_loss_dna: 2.6538 | Validation_acc_dna: 17.1875\u001b[32m [repeated 4x across cluster]\u001b[0m\n"
     ]
    },
    {
     "name": "stderr",
     "output_type": "stream",
     "text": [
      "100%|\u001b[34m██████████\u001b[0m| 10/10 [00:40<00:00,  4.01s/it]\u001b[32m [repeated 4x across cluster]\u001b[0m\n"
     ]
    },
    {
     "name": "stdout",
     "output_type": "stream",
     "text": [
      "\u001b[36m(launch_and_fit pid=3610)\u001b[0m save graph in  results/FL/\n",
      "\u001b[36m(launch_and_fit pid=3684)\u001b[0m Run WITHOUT homomorphic encryption\n",
      "\u001b[36m(launch_and_fit pid=3684)\u001b[0m  To get the checkpoint\n",
      "\u001b[36m(launch_and_fit pid=3612)\u001b[0m \tTrain Epoch: 10 \tTrain_loss_mri: 0.0697 | Train_acc_mri: 99.0625 | Train_loss_dna: 1.5544 | Train_acc_dna: 38.9583 | Validation_loss_mri: 0.9095 | Validation_acc_mri: 75.0000 | Validation_loss_dna: 1.6445 | Validation_acc_dna: 41.1458\u001b[32m [repeated 3x across cluster]\u001b[0m\n",
      "\u001b[36m(launch_and_fit pid=3612)\u001b[0m save graph in  results/FL/\n",
      "\u001b[36m(launch_and_fit pid=3684)\u001b[0m [Client 3, round 5] fit, config: {'learning_rate': 0.003, 'batch_size': '32', 'server_round': 5, 'local_epochs': 10}\n",
      "\u001b[36m(launch_and_fit pid=3684)\u001b[0m Updated model\n"
     ]
    },
    {
     "name": "stderr",
     "output_type": "stream",
     "text": [
      "  0%|\u001b[34m          \u001b[0m| 0/10 [00:00<?, ?it/s]\n",
      "100%|\u001b[34m██████████\u001b[0m| 10/10 [00:40<00:00,  4.06s/it]\n"
     ]
    },
    {
     "name": "stdout",
     "output_type": "stream",
     "text": [
      "\u001b[36m(launch_and_fit pid=3709)\u001b[0m Run WITHOUT homomorphic encryption\n",
      "\u001b[36m(launch_and_fit pid=3709)\u001b[0m  To get the checkpoint\n",
      "\u001b[36m(launch_and_fit pid=3684)\u001b[0m \tTrain Epoch: 1 \tTrain_loss_mri: 1.2658 | Train_acc_mri: 39.7569 | Train_loss_dna: 1.7732 | Train_acc_dna: 29.3519 | Validation_loss_mri: 0.8169 | Validation_acc_mri: 82.8125 | Validation_loss_dna: 1.7892 | Validation_acc_dna: 32.2917\n"
     ]
    },
    {
     "name": "stderr",
     "output_type": "stream",
     "text": [
      " 10%|\u001b[34m█         \u001b[0m| 1/10 [00:04<00:41,  4.65s/it]\n",
      "  0%|\u001b[34m          \u001b[0m| 0/10 [00:00<?, ?it/s]\n"
     ]
    },
    {
     "name": "stdout",
     "output_type": "stream",
     "text": [
      "\u001b[36m(launch_and_fit pid=3709)\u001b[0m \tTrain Epoch: 1 \tTrain_loss_mri: 1.2707 | Train_acc_mri: 29.2708 | Train_loss_dna: 1.7162 | Train_acc_dna: 30.8912 | Validation_loss_mri: 1.1497 | Validation_acc_mri: 58.3333 | Validation_loss_dna: 1.8099 | Validation_acc_dna: 15.6250\n",
      "\u001b[36m(launch_and_fit pid=3709)\u001b[0m [Client 8, round 5] fit, config: {'learning_rate': 0.003, 'batch_size': '32', 'server_round': 5, 'local_epochs': 10}\n",
      "\u001b[36m(launch_and_fit pid=3709)\u001b[0m Updated model\n",
      "\u001b[36m(launch_and_fit pid=3684)\u001b[0m \tTrain Epoch: 3 \tTrain_loss_mri: 0.7214 | Train_acc_mri: 64.0856 | Train_loss_dna: 1.7069 | Train_acc_dna: 34.5833 | Validation_loss_mri: 0.6588 | Validation_acc_mri: 66.1458 | Validation_loss_dna: 1.8830 | Validation_acc_dna: 35.4167\u001b[32m [repeated 3x across cluster]\u001b[0m\n"
     ]
    },
    {
     "name": "stderr",
     "output_type": "stream",
     "text": [
      " 30%|\u001b[34m███       \u001b[0m| 3/10 [00:12<00:29,  4.15s/it]\u001b[32m [repeated 4x across cluster]\u001b[0m\n",
      " 40%|\u001b[34m████      \u001b[0m| 4/10 [00:16<00:25,  4.19s/it]\u001b[32m [repeated 3x across cluster]\u001b[0m\n"
     ]
    },
    {
     "name": "stdout",
     "output_type": "stream",
     "text": [
      "\u001b[36m(launch_and_fit pid=3709)\u001b[0m \tTrain Epoch: 4 \tTrain_loss_mri: 0.6528 | Train_acc_mri: 71.3310 | Train_loss_dna: 1.6364 | Train_acc_dna: 38.3333 | Validation_loss_mri: 1.0191 | Validation_acc_mri: 49.4792 | Validation_loss_dna: 1.7017 | Validation_acc_dna: 12.5000\u001b[32m [repeated 3x across cluster]\u001b[0m\n",
      "\u001b[36m(launch_and_fit pid=3684)\u001b[0m \tTrain Epoch: 6 \tTrain_loss_mri: 0.2939 | Train_acc_mri: 93.8889 | Train_loss_dna: 1.6517 | Train_acc_dna: 36.0301 | Validation_loss_mri: 0.5921 | Validation_acc_mri: 81.2500 | Validation_loss_dna: 1.9640 | Validation_acc_dna: 33.8542\u001b[32m [repeated 3x across cluster]\u001b[0m\n"
     ]
    },
    {
     "name": "stderr",
     "output_type": "stream",
     "text": [
      " 60%|\u001b[34m██████    \u001b[0m| 6/10 [00:24<00:16,  4.06s/it]\u001b[32m [repeated 3x across cluster]\u001b[0m\n",
      " 70%|\u001b[34m███████   \u001b[0m| 7/10 [00:29<00:12,  4.12s/it]\u001b[32m [repeated 3x across cluster]\u001b[0m\n"
     ]
    },
    {
     "name": "stdout",
     "output_type": "stream",
     "text": [
      "\u001b[36m(launch_and_fit pid=3709)\u001b[0m \tTrain Epoch: 7 \tTrain_loss_mri: 0.3446 | Train_acc_mri: 88.2639 | Train_loss_dna: 1.5810 | Train_acc_dna: 39.0741 | Validation_loss_mri: 0.8675 | Validation_acc_mri: 64.5833 | Validation_loss_dna: 1.6777 | Validation_acc_dna: 17.1875\u001b[32m [repeated 3x across cluster]\u001b[0m\n",
      "\u001b[36m(launch_and_fit pid=3684)\u001b[0m \tTrain Epoch: 9 \tTrain_loss_mri: 0.1182 | Train_acc_mri: 97.7546 | Train_loss_dna: 1.6350 | Train_acc_dna: 34.9537 | Validation_loss_mri: 1.3128 | Validation_acc_mri: 64.5833 | Validation_loss_dna: 2.1025 | Validation_acc_dna: 35.4167\u001b[32m [repeated 3x across cluster]\u001b[0m\n"
     ]
    },
    {
     "name": "stderr",
     "output_type": "stream",
     "text": [
      " 90%|\u001b[34m█████████ \u001b[0m| 9/10 [00:36<00:04,  4.04s/it]\u001b[32m [repeated 3x across cluster]\u001b[0m\n"
     ]
    },
    {
     "name": "stdout",
     "output_type": "stream",
     "text": [
      "\u001b[36m(launch_and_fit pid=3684)\u001b[0m save graph in  results/FL/\n"
     ]
    },
    {
     "name": "stderr",
     "output_type": "stream",
     "text": [
      "100%|\u001b[34m██████████\u001b[0m| 10/10 [00:41<00:00,  4.13s/it]\u001b[32m [repeated 3x across cluster]\u001b[0m\n"
     ]
    },
    {
     "name": "stdout",
     "output_type": "stream",
     "text": [
      "\u001b[36m(launch_and_fit pid=3709)\u001b[0m \tTrain Epoch: 10 \tTrain_loss_mri: 0.1868 | Train_acc_mri: 96.5625 | Train_loss_dna: 1.5209 | Train_acc_dna: 46.2963 | Validation_loss_mri: 1.0849 | Validation_acc_mri: 64.5833 | Validation_loss_dna: 1.8011 | Validation_acc_dna: 33.8542\u001b[32m [repeated 3x across cluster]\u001b[0m\n"
     ]
    },
    {
     "name": "stderr",
     "output_type": "stream",
     "text": [
      "DEBUG flwr 2024-08-05 11:25:53,212 | server.py:236 | fit_round 5 received 10 results and 0 failures\n"
     ]
    },
    {
     "name": "stdout",
     "output_type": "stream",
     "text": [
      "Saving round 5 aggregated_parameters...\n",
      "Updated model\n"
     ]
    },
    {
     "name": "stderr",
     "output_type": "stream",
     "text": [
      "INFO flwr 2024-08-05 11:25:59,607 | server.py:125 | fit progress: (5, (1.0380789616278239, 1.72569078207016), {'accuracy': (64.76934523809524, 32.84970238095238)}, 1618.742949689)\n",
      "DEBUG flwr 2024-08-05 11:25:59,608 | server.py:173 | evaluate_round 5: strategy sampled 10 clients (out of 10)\n"
     ]
    },
    {
     "name": "stdout",
     "output_type": "stream",
     "text": [
      "Server-side evaluation MRI loss 1.0380789616278239 / MRI accuracy 64.76934523809524\n",
      "Server-side evaluation DNA loss 1.72569078207016 / DNA accuracy 32.84970238095238\n",
      "\u001b[36m(launch_and_evaluate pid=3767)\u001b[0m Run WITHOUT homomorphic encryption\n",
      "\u001b[36m(launch_and_evaluate pid=3767)\u001b[0m  To get the checkpoint\n",
      "\u001b[36m(launch_and_fit pid=3709)\u001b[0m save graph in  results/FL/\n",
      "\u001b[36m(launch_and_evaluate pid=3767)\u001b[0m [Client 8] evaluate, config: {}\n",
      "\u001b[36m(launch_and_evaluate pid=3767)\u001b[0m Updated model\n"
     ]
    },
    {
     "name": "stderr",
     "output_type": "stream",
     "text": [
      "\u001b[36m(launch_and_evaluate pid=3767)\u001b[0m /opt/conda/lib/python3.10/site-packages/sklearn/metrics/_ranking.py:1029: UndefinedMetricWarning: No positive samples in y_true, true positive value should be meaningless\n",
      "\u001b[36m(launch_and_evaluate pid=3767)\u001b[0m   warnings.warn(\n"
     ]
    },
    {
     "name": "stdout",
     "output_type": "stream",
     "text": [
      "\u001b[36m(launch_and_evaluate pid=3837)\u001b[0m Run WITHOUT homomorphic encryption\u001b[32m [repeated 2x across cluster]\u001b[0m\n",
      "\u001b[36m(launch_and_evaluate pid=3837)\u001b[0m  To get the checkpoint\u001b[32m [repeated 2x across cluster]\u001b[0m\n",
      "\u001b[36m(launch_and_evaluate pid=3768)\u001b[0m [Client 7] evaluate, config: {}\n",
      "\u001b[36m(launch_and_evaluate pid=3768)\u001b[0m Updated model\n",
      "\u001b[36m(launch_and_evaluate pid=3837)\u001b[0m [Client 2] evaluate, config: {}\n",
      "\u001b[36m(launch_and_evaluate pid=3837)\u001b[0m Updated model\n",
      "\u001b[36m(launch_and_evaluate pid=3907)\u001b[0m Run WITHOUT homomorphic encryption\u001b[32m [repeated 2x across cluster]\u001b[0m\n",
      "\u001b[36m(launch_and_evaluate pid=3907)\u001b[0m  To get the checkpoint\u001b[32m [repeated 2x across cluster]\u001b[0m\n",
      "\u001b[36m(launch_and_evaluate pid=3839)\u001b[0m [Client 6] evaluate, config: {}\n",
      "\u001b[36m(launch_and_evaluate pid=3839)\u001b[0m Updated model\n",
      "\u001b[36m(launch_and_evaluate pid=3907)\u001b[0m [Client 3] evaluate, config: {}\n",
      "\u001b[36m(launch_and_evaluate pid=3907)\u001b[0m Updated model\n",
      "\u001b[36m(launch_and_evaluate pid=3979)\u001b[0m Run WITHOUT homomorphic encryption\u001b[32m [repeated 2x across cluster]\u001b[0m\n",
      "\u001b[36m(launch_and_evaluate pid=3979)\u001b[0m  To get the checkpoint\u001b[32m [repeated 2x across cluster]\u001b[0m\n",
      "\u001b[36m(launch_and_evaluate pid=3909)\u001b[0m [Client 5] evaluate, config: {}\n",
      "\u001b[36m(launch_and_evaluate pid=3909)\u001b[0m Updated model\n",
      "\u001b[36m(launch_and_evaluate pid=3979)\u001b[0m [Client 1] evaluate, config: {}\n",
      "\u001b[36m(launch_and_evaluate pid=3979)\u001b[0m Updated model\n"
     ]
    },
    {
     "name": "stderr",
     "output_type": "stream",
     "text": [
      "\u001b[36m(launch_and_evaluate pid=3977)\u001b[0m /opt/conda/lib/python3.10/site-packages/sklearn/metrics/_ranking.py:1029: UndefinedMetricWarning: No positive samples in y_true, true positive value should be meaningless\n",
      "\u001b[36m(launch_and_evaluate pid=3977)\u001b[0m   warnings.warn(\n"
     ]
    },
    {
     "name": "stdout",
     "output_type": "stream",
     "text": [
      "\u001b[36m(launch_and_evaluate pid=4049)\u001b[0m Run WITHOUT homomorphic encryption\u001b[32m [repeated 2x across cluster]\u001b[0m\n",
      "\u001b[36m(launch_and_evaluate pid=4049)\u001b[0m  To get the checkpoint\u001b[32m [repeated 2x across cluster]\u001b[0m\n",
      "\u001b[36m(launch_and_evaluate pid=3977)\u001b[0m [Client 4] evaluate, config: {}\n",
      "\u001b[36m(launch_and_evaluate pid=3977)\u001b[0m Updated model\n",
      "\u001b[36m(launch_and_evaluate pid=4049)\u001b[0m [Client 0] evaluate, config: {}\n",
      "\u001b[36m(launch_and_evaluate pid=4049)\u001b[0m Updated model\n"
     ]
    },
    {
     "name": "stderr",
     "output_type": "stream",
     "text": [
      "\u001b[36m(launch_and_evaluate pid=4047)\u001b[0m /opt/conda/lib/python3.10/site-packages/sklearn/metrics/_ranking.py:1029: UndefinedMetricWarning: No positive samples in y_true, true positive value should be meaningless\n",
      "\u001b[36m(launch_and_evaluate pid=4047)\u001b[0m   warnings.warn(\n",
      "DEBUG flwr 2024-08-05 11:27:08,060 | server.py:187 | evaluate_round 5 received 10 results and 0 failures\n",
      "DEBUG flwr 2024-08-05 11:27:08,062 | server.py:222 | fit_round 6: strategy sampled 10 clients (out of 10)\n"
     ]
    },
    {
     "name": "stdout",
     "output_type": "stream",
     "text": [
      "\u001b[36m(launch_and_fit pid=4126)\u001b[0m Run WITHOUT homomorphic encryption\u001b[32m [repeated 2x across cluster]\u001b[0m\n",
      "\u001b[36m(launch_and_fit pid=4126)\u001b[0m  To get the checkpoint\u001b[32m [repeated 2x across cluster]\u001b[0m\n",
      "\u001b[36m(launch_and_evaluate pid=4047)\u001b[0m [Client 9] evaluate, config: {}\n",
      "\u001b[36m(launch_and_evaluate pid=4047)\u001b[0m Updated model\n"
     ]
    },
    {
     "name": "stderr",
     "output_type": "stream",
     "text": [
      "  0%|\u001b[34m          \u001b[0m| 0/10 [00:00<?, ?it/s]\n"
     ]
    },
    {
     "name": "stdout",
     "output_type": "stream",
     "text": [
      "\u001b[36m(launch_and_fit pid=4126)\u001b[0m [Client 2, round 6] fit, config: {'learning_rate': 0.003, 'batch_size': '32', 'server_round': 6, 'local_epochs': 10}\n",
      "\u001b[36m(launch_and_fit pid=4126)\u001b[0m Updated model\n"
     ]
    },
    {
     "name": "stderr",
     "output_type": "stream",
     "text": [
      " 10%|\u001b[34m█         \u001b[0m| 1/10 [00:04<00:40,  4.49s/it]\n"
     ]
    },
    {
     "name": "stdout",
     "output_type": "stream",
     "text": [
      "\u001b[36m(launch_and_fit pid=4126)\u001b[0m \tTrain Epoch: 1 \tTrain_loss_mri: 0.7343 | Train_acc_mri: 77.3495 | Train_loss_dna: 1.7241 | Train_acc_dna: 33.5301 | Validation_loss_mri: 0.4259 | Validation_acc_mri: 89.0625 | Validation_loss_dna: 1.5826 | Validation_acc_dna: 44.2708\n",
      "\u001b[36m(launch_and_fit pid=4127)\u001b[0m Run WITHOUT homomorphic encryption\n",
      "\u001b[36m(launch_and_fit pid=4127)\u001b[0m  To get the checkpoint\n"
     ]
    },
    {
     "name": "stderr",
     "output_type": "stream",
     "text": [
      "  0%|\u001b[34m          \u001b[0m| 0/10 [00:00<?, ?it/s]\n"
     ]
    },
    {
     "name": "stdout",
     "output_type": "stream",
     "text": [
      "\u001b[36m(launch_and_fit pid=4127)\u001b[0m [Client 9, round 6] fit, config: {'learning_rate': 0.003, 'batch_size': '32', 'server_round': 6, 'local_epochs': 10}\n",
      "\u001b[36m(launch_and_fit pid=4127)\u001b[0m Updated model\n"
     ]
    },
    {
     "name": "stderr",
     "output_type": "stream",
     "text": [
      " 30%|\u001b[34m███       \u001b[0m| 3/10 [00:12<00:28,  4.11s/it]\u001b[32m [repeated 4x across cluster]\u001b[0m\n"
     ]
    },
    {
     "name": "stdout",
     "output_type": "stream",
     "text": [
      "\u001b[36m(launch_and_fit pid=4126)\u001b[0m \tTrain Epoch: 3 \tTrain_loss_mri: 0.2839 | Train_acc_mri: 91.5046 | Train_loss_dna: 1.6397 | Train_acc_dna: 36.7130 | Validation_loss_mri: 0.4153 | Validation_acc_mri: 90.6250 | Validation_loss_dna: 1.6854 | Validation_acc_dna: 26.0417\u001b[32m [repeated 4x across cluster]\u001b[0m\n"
     ]
    },
    {
     "name": "stderr",
     "output_type": "stream",
     "text": [
      " 50%|\u001b[34m█████     \u001b[0m| 5/10 [00:20<00:19,  3.99s/it]\u001b[32m [repeated 4x across cluster]\u001b[0m\n"
     ]
    },
    {
     "name": "stdout",
     "output_type": "stream",
     "text": [
      "\u001b[36m(launch_and_fit pid=4126)\u001b[0m \tTrain Epoch: 5 \tTrain_loss_mri: 0.1208 | Train_acc_mri: 98.4375 | Train_loss_dna: 1.5917 | Train_acc_dna: 38.5880 | Validation_loss_mri: 0.3818 | Validation_acc_mri: 89.0625 | Validation_loss_dna: 1.5933 | Validation_acc_dna: 42.7083\u001b[32m [repeated 4x across cluster]\u001b[0m\n"
     ]
    },
    {
     "name": "stderr",
     "output_type": "stream",
     "text": [
      " 70%|\u001b[34m███████   \u001b[0m| 7/10 [00:28<00:12,  4.03s/it]\u001b[32m [repeated 4x across cluster]\u001b[0m\n"
     ]
    },
    {
     "name": "stdout",
     "output_type": "stream",
     "text": [
      "\u001b[36m(launch_and_fit pid=4126)\u001b[0m \tTrain Epoch: 7 \tTrain_loss_mri: 0.0801 | Train_acc_mri: 98.7500 | Train_loss_dna: 1.5314 | Train_acc_dna: 41.6551 | Validation_loss_mri: 0.4327 | Validation_acc_mri: 84.3750 | Validation_loss_dna: 1.6036 | Validation_acc_dna: 22.9167\u001b[32m [repeated 4x across cluster]\u001b[0m\n"
     ]
    },
    {
     "name": "stderr",
     "output_type": "stream",
     "text": [
      " 90%|\u001b[34m█████████ \u001b[0m| 9/10 [00:36<00:03,  3.99s/it]\u001b[32m [repeated 4x across cluster]\u001b[0m\n"
     ]
    },
    {
     "name": "stdout",
     "output_type": "stream",
     "text": [
      "\u001b[36m(launch_and_fit pid=4126)\u001b[0m \tTrain Epoch: 9 \tTrain_loss_mri: 0.0318 | Train_acc_mri: 99.6875 | Train_loss_dna: 1.5022 | Train_acc_dna: 45.2431 | Validation_loss_mri: 0.4596 | Validation_acc_mri: 85.9375 | Validation_loss_dna: 1.6727 | Validation_acc_dna: 22.9167\u001b[32m [repeated 4x across cluster]\u001b[0m\n",
      "\u001b[36m(launch_and_fit pid=4126)\u001b[0m save graph in  results/FL/\n",
      "\u001b[36m(launch_and_fit pid=4199)\u001b[0m Run WITHOUT homomorphic encryption\n",
      "\u001b[36m(launch_and_fit pid=4199)\u001b[0m  To get the checkpoint\n",
      "\u001b[36m(launch_and_fit pid=4127)\u001b[0m \tTrain Epoch: 10 \tTrain_loss_mri: 0.0634 | Train_acc_mri: 99.0524 | Train_loss_dna: 1.5042 | Train_acc_dna: 41.0887 | Validation_loss_mri: 0.6773 | Validation_acc_mri: 82.8125 | Validation_loss_dna: 1.4642 | Validation_acc_dna: 33.8542\u001b[32m [repeated 3x across cluster]\u001b[0m\n",
      "\u001b[36m(launch_and_fit pid=4127)\u001b[0m save graph in  results/FL/\n"
     ]
    },
    {
     "name": "stderr",
     "output_type": "stream",
     "text": [
      "  0%|\u001b[34m          \u001b[0m| 0/10 [00:00<?, ?it/s]\n",
      "100%|\u001b[34m██████████\u001b[0m| 10/10 [00:40<00:00,  4.01s/it]\u001b[32m [repeated 3x across cluster]\u001b[0m\n"
     ]
    },
    {
     "name": "stdout",
     "output_type": "stream",
     "text": [
      "\u001b[36m(launch_and_fit pid=4199)\u001b[0m [Client 4, round 6] fit, config: {'learning_rate': 0.003, 'batch_size': '32', 'server_round': 6, 'local_epochs': 10}\n",
      "\u001b[36m(launch_and_fit pid=4199)\u001b[0m Updated model\n",
      "\u001b[36m(launch_and_fit pid=4201)\u001b[0m Run WITHOUT homomorphic encryption\n",
      "\u001b[36m(launch_and_fit pid=4201)\u001b[0m  To get the checkpoint\n",
      "\u001b[36m(launch_and_fit pid=4199)\u001b[0m \tTrain Epoch: 1 \tTrain_loss_mri: 0.7754 | Train_acc_mri: 74.8495 | Train_loss_dna: 1.7557 | Train_acc_dna: 30.3241 | Validation_loss_mri: 1.0639 | Validation_acc_mri: 49.4792 | Validation_loss_dna: 1.5055 | Validation_acc_dna: 41.6667\n",
      "\u001b[36m(launch_and_fit pid=4201)\u001b[0m \tTrain Epoch: 1 \tTrain_loss_mri: 0.7063 | Train_acc_mri: 77.8356 | Train_loss_dna: 1.7201 | Train_acc_dna: 37.4537 | Validation_loss_mri: 1.0155 | Validation_acc_mri: 70.8333 | Validation_loss_dna: 1.7984 | Validation_acc_dna: 30.7292\n"
     ]
    },
    {
     "name": "stderr",
     "output_type": "stream",
     "text": [
      "  0%|\u001b[34m          \u001b[0m| 0/10 [00:00<?, ?it/s]\n",
      " 20%|\u001b[34m██        \u001b[0m| 2/10 [00:08<00:33,  4.24s/it]\u001b[32m [repeated 3x across cluster]\u001b[0m\n"
     ]
    },
    {
     "name": "stdout",
     "output_type": "stream",
     "text": [
      "\u001b[36m(launch_and_fit pid=4201)\u001b[0m [Client 6, round 6] fit, config: {'learning_rate': 0.003, 'batch_size': '32', 'server_round': 6, 'local_epochs': 10}\n",
      "\u001b[36m(launch_and_fit pid=4201)\u001b[0m Updated model\n",
      "\u001b[36m(launch_and_fit pid=4199)\u001b[0m \tTrain Epoch: 3 \tTrain_loss_mri: 0.2451 | Train_acc_mri: 92.3843 | Train_loss_dna: 1.6668 | Train_acc_dna: 34.4444 | Validation_loss_mri: 0.7817 | Validation_acc_mri: 81.2500 | Validation_loss_dna: 1.4796 | Validation_acc_dna: 41.6667\u001b[32m [repeated 3x across cluster]\u001b[0m\n"
     ]
    },
    {
     "name": "stderr",
     "output_type": "stream",
     "text": [
      " 40%|\u001b[34m████      \u001b[0m| 4/10 [00:16<00:23,  3.96s/it]\u001b[32m [repeated 4x across cluster]\u001b[0m\n"
     ]
    },
    {
     "name": "stdout",
     "output_type": "stream",
     "text": [
      "\u001b[36m(launch_and_fit pid=4199)\u001b[0m \tTrain Epoch: 5 \tTrain_loss_mri: 0.1008 | Train_acc_mri: 98.0671 | Train_loss_dna: 1.6467 | Train_acc_dna: 34.3287 | Validation_loss_mri: 0.5964 | Validation_acc_mri: 82.8125 | Validation_loss_dna: 1.4638 | Validation_acc_dna: 41.6667\u001b[32m [repeated 4x across cluster]\u001b[0m\n"
     ]
    },
    {
     "name": "stderr",
     "output_type": "stream",
     "text": [
      " 60%|\u001b[34m██████    \u001b[0m| 6/10 [00:24<00:15,  3.90s/it]\u001b[32m [repeated 4x across cluster]\u001b[0m\n"
     ]
    },
    {
     "name": "stdout",
     "output_type": "stream",
     "text": [
      "\u001b[36m(launch_and_fit pid=4199)\u001b[0m \tTrain Epoch: 7 \tTrain_loss_mri: 0.0462 | Train_acc_mri: 99.3750 | Train_loss_dna: 1.5662 | Train_acc_dna: 40.1273 | Validation_loss_mri: 0.5296 | Validation_acc_mri: 81.2500 | Validation_loss_dna: 1.3906 | Validation_acc_dna: 44.7917\u001b[32m [repeated 4x across cluster]\u001b[0m\n"
     ]
    },
    {
     "name": "stderr",
     "output_type": "stream",
     "text": [
      " 80%|\u001b[34m████████  \u001b[0m| 8/10 [00:31<00:07,  3.88s/it]\u001b[32m [repeated 4x across cluster]\u001b[0m\n"
     ]
    },
    {
     "name": "stdout",
     "output_type": "stream",
     "text": [
      "\u001b[36m(launch_and_fit pid=4199)\u001b[0m \tTrain Epoch: 9 \tTrain_loss_mri: 0.0332 | Train_acc_mri: 99.3750 | Train_loss_dna: 1.5443 | Train_acc_dna: 41.8287 | Validation_loss_mri: 0.5752 | Validation_acc_mri: 87.5000 | Validation_loss_dna: 1.3813 | Validation_acc_dna: 44.7917\u001b[32m [repeated 4x across cluster]\u001b[0m\n"
     ]
    },
    {
     "name": "stderr",
     "output_type": "stream",
     "text": [
      "100%|\u001b[34m██████████\u001b[0m| 10/10 [00:39<00:00,  3.98s/it]\u001b[32m [repeated 4x across cluster]\u001b[0m\n"
     ]
    },
    {
     "name": "stdout",
     "output_type": "stream",
     "text": [
      "\u001b[36m(launch_and_fit pid=4199)\u001b[0m save graph in  results/FL/\n",
      "\u001b[36m(launch_and_fit pid=4274)\u001b[0m Run WITHOUT homomorphic encryption\n",
      "\u001b[36m(launch_and_fit pid=4274)\u001b[0m  To get the checkpoint\n",
      "\u001b[36m(launch_and_fit pid=4201)\u001b[0m \tTrain Epoch: 10 \tTrain_loss_mri: 0.0262 | Train_acc_mri: 99.6875 | Train_loss_dna: 1.4224 | Train_acc_dna: 45.2662 | Validation_loss_mri: 1.2252 | Validation_acc_mri: 67.7083 | Validation_loss_dna: 1.8760 | Validation_acc_dna: 45.8333\u001b[32m [repeated 3x across cluster]\u001b[0m\n",
      "\u001b[36m(launch_and_fit pid=4201)\u001b[0m save graph in  results/FL/\n",
      "\u001b[36m(launch_and_fit pid=4274)\u001b[0m [Client 7, round 6] fit, config: {'learning_rate': 0.003, 'batch_size': '32', 'server_round': 6, 'local_epochs': 10}\n",
      "\u001b[36m(launch_and_fit pid=4274)\u001b[0m Updated model\n"
     ]
    },
    {
     "name": "stderr",
     "output_type": "stream",
     "text": [
      "  0%|\u001b[34m          \u001b[0m| 0/10 [00:00<?, ?it/s]\n",
      "100%|\u001b[34m██████████\u001b[0m| 10/10 [00:40<00:00,  4.02s/it]\n"
     ]
    },
    {
     "name": "stdout",
     "output_type": "stream",
     "text": [
      "\u001b[36m(launch_and_fit pid=4275)\u001b[0m Run WITHOUT homomorphic encryption\n",
      "\u001b[36m(launch_and_fit pid=4275)\u001b[0m  To get the checkpoint\n",
      "\u001b[36m(launch_and_fit pid=4274)\u001b[0m \tTrain Epoch: 1 \tTrain_loss_mri: 0.7402 | Train_acc_mri: 74.0856 | Train_loss_dna: 1.8301 | Train_acc_dna: 26.0880 | Validation_loss_mri: 0.9174 | Validation_acc_mri: 64.5833 | Validation_loss_dna: 1.4953 | Validation_acc_dna: 52.0833\n",
      "\u001b[36m(launch_and_fit pid=4275)\u001b[0m \tTrain Epoch: 1 \tTrain_loss_mri: 0.6084 | Train_acc_mri: 77.0949 | Train_loss_dna: 1.7717 | Train_acc_dna: 32.3380 | Validation_loss_mri: 1.8818 | Validation_acc_mri: 35.9375 | Validation_loss_dna: 1.8817 | Validation_acc_dna: 17.1875\n"
     ]
    },
    {
     "name": "stderr",
     "output_type": "stream",
     "text": [
      " 10%|\u001b[34m█         \u001b[0m| 1/10 [00:04<00:42,  4.71s/it]\n"
     ]
    },
    {
     "name": "stdout",
     "output_type": "stream",
     "text": [
      "\u001b[36m(launch_and_fit pid=4275)\u001b[0m [Client 5, round 6] fit, config: {'learning_rate': 0.003, 'batch_size': '32', 'server_round': 6, 'local_epochs': 10}\n",
      "\u001b[36m(launch_and_fit pid=4275)\u001b[0m Updated model\n"
     ]
    },
    {
     "name": "stderr",
     "output_type": "stream",
     "text": [
      "  0%|\u001b[34m          \u001b[0m| 0/10 [00:00<?, ?it/s]\n",
      " 30%|\u001b[34m███       \u001b[0m| 3/10 [00:12<00:29,  4.15s/it]\u001b[32m [repeated 4x across cluster]\u001b[0m\n"
     ]
    },
    {
     "name": "stdout",
     "output_type": "stream",
     "text": [
      "\u001b[36m(launch_and_fit pid=4275)\u001b[0m \tTrain Epoch: 3 \tTrain_loss_mri: 0.1888 | Train_acc_mri: 96.1343 | Train_loss_dna: 1.7404 | Train_acc_dna: 33.5069 | Validation_loss_mri: 1.5600 | Validation_acc_mri: 52.6042 | Validation_loss_dna: 1.7971 | Validation_acc_dna: 15.6250\u001b[32m [repeated 3x across cluster]\u001b[0m\n"
     ]
    },
    {
     "name": "stderr",
     "output_type": "stream",
     "text": [
      " 50%|\u001b[34m█████     \u001b[0m| 5/10 [00:20<00:20,  4.05s/it]\u001b[32m [repeated 4x across cluster]\u001b[0m\n"
     ]
    },
    {
     "name": "stdout",
     "output_type": "stream",
     "text": [
      "\u001b[36m(launch_and_fit pid=4275)\u001b[0m \tTrain Epoch: 5 \tTrain_loss_mri: 0.1027 | Train_acc_mri: 97.1875 | Train_loss_dna: 1.6911 | Train_acc_dna: 33.8426 | Validation_loss_mri: 1.7633 | Validation_acc_mri: 54.1667 | Validation_loss_dna: 1.8651 | Validation_acc_dna: 15.6250\u001b[32m [repeated 4x across cluster]\u001b[0m\n"
     ]
    },
    {
     "name": "stderr",
     "output_type": "stream",
     "text": [
      " 70%|\u001b[34m███████   \u001b[0m| 7/10 [00:28<00:12,  4.00s/it]\u001b[32m [repeated 4x across cluster]\u001b[0m\n"
     ]
    },
    {
     "name": "stdout",
     "output_type": "stream",
     "text": [
      "\u001b[36m(launch_and_fit pid=4275)\u001b[0m \tTrain Epoch: 7 \tTrain_loss_mri: 0.0442 | Train_acc_mri: 99.0625 | Train_loss_dna: 1.6388 | Train_acc_dna: 38.7616 | Validation_loss_mri: 2.5126 | Validation_acc_mri: 34.3750 | Validation_loss_dna: 1.7457 | Validation_acc_dna: 15.6250\u001b[32m [repeated 4x across cluster]\u001b[0m\n"
     ]
    },
    {
     "name": "stderr",
     "output_type": "stream",
     "text": [
      " 90%|\u001b[34m█████████ \u001b[0m| 9/10 [00:36<00:03,  3.99s/it]\u001b[32m [repeated 4x across cluster]\u001b[0m\n"
     ]
    },
    {
     "name": "stdout",
     "output_type": "stream",
     "text": [
      "\u001b[36m(launch_and_fit pid=4275)\u001b[0m \tTrain Epoch: 9 \tTrain_loss_mri: 0.0331 | Train_acc_mri: 99.3750 | Train_loss_dna: 1.6193 | Train_acc_dna: 36.4815 | Validation_loss_mri: 2.1827 | Validation_acc_mri: 32.8125 | Validation_loss_dna: 1.8744 | Validation_acc_dna: 17.1875\u001b[32m [repeated 4x across cluster]\u001b[0m\n",
      "\u001b[36m(launch_and_fit pid=4275)\u001b[0m save graph in  results/FL/\n",
      "\u001b[36m(launch_and_fit pid=4347)\u001b[0m Run WITHOUT homomorphic encryption\n",
      "\u001b[36m(launch_and_fit pid=4347)\u001b[0m  To get the checkpoint\n",
      "\u001b[36m(launch_and_fit pid=4274)\u001b[0m \tTrain Epoch: 10 \tTrain_loss_mri: 0.0430 | Train_acc_mri: 98.3796 | Train_loss_dna: 1.5818 | Train_acc_dna: 35.7523 | Validation_loss_mri: 1.7808 | Validation_acc_mri: 29.6875 | Validation_loss_dna: 1.3253 | Validation_acc_dna: 50.5208\u001b[32m [repeated 3x across cluster]\u001b[0m\n",
      "\u001b[36m(launch_and_fit pid=4274)\u001b[0m save graph in  results/FL/\n"
     ]
    },
    {
     "name": "stderr",
     "output_type": "stream",
     "text": [
      "  0%|\u001b[34m          \u001b[0m| 0/10 [00:00<?, ?it/s]\n",
      "100%|\u001b[34m██████████\u001b[0m| 10/10 [00:41<00:00,  4.11s/it]\u001b[32m [repeated 3x across cluster]\u001b[0m\n"
     ]
    },
    {
     "name": "stdout",
     "output_type": "stream",
     "text": [
      "\u001b[36m(launch_and_fit pid=4347)\u001b[0m [Client 1, round 6] fit, config: {'learning_rate': 0.003, 'batch_size': '32', 'server_round': 6, 'local_epochs': 10}\n",
      "\u001b[36m(launch_and_fit pid=4347)\u001b[0m Updated model\n",
      "\u001b[36m(launch_and_fit pid=4349)\u001b[0m Run WITHOUT homomorphic encryption\n",
      "\u001b[36m(launch_and_fit pid=4349)\u001b[0m  To get the checkpoint\n",
      "\u001b[36m(launch_and_fit pid=4349)\u001b[0m \tTrain Epoch: 1 \tTrain_loss_mri: 0.7696 | Train_acc_mri: 70.4745 | Train_loss_dna: 1.6985 | Train_acc_dna: 33.5301 | Validation_loss_mri: 0.5411 | Validation_acc_mri: 87.5000 | Validation_loss_dna: 1.7152 | Validation_acc_dna: 15.6250\u001b[32m [repeated 2x across cluster]\u001b[0m\n"
     ]
    },
    {
     "name": "stderr",
     "output_type": "stream",
     "text": [
      "  0%|\u001b[34m          \u001b[0m| 0/10 [00:00<?, ?it/s]\n",
      " 20%|\u001b[34m██        \u001b[0m| 2/10 [00:08<00:32,  4.09s/it]\u001b[32m [repeated 3x across cluster]\u001b[0m\n"
     ]
    },
    {
     "name": "stdout",
     "output_type": "stream",
     "text": [
      "\u001b[36m(launch_and_fit pid=4349)\u001b[0m [Client 8, round 6] fit, config: {'learning_rate': 0.003, 'batch_size': '32', 'server_round': 6, 'local_epochs': 10}\n",
      "\u001b[36m(launch_and_fit pid=4349)\u001b[0m Updated model\n",
      "\u001b[36m(launch_and_fit pid=4347)\u001b[0m \tTrain Epoch: 3 \tTrain_loss_mri: 0.2940 | Train_acc_mri: 90.5671 | Train_loss_dna: 1.6868 | Train_acc_dna: 35.4051 | Validation_loss_mri: 2.6873 | Validation_acc_mri: 47.9167 | Validation_loss_dna: 2.1730 | Validation_acc_dna: 12.5000\u001b[32m [repeated 3x across cluster]\u001b[0m\n"
     ]
    },
    {
     "name": "stderr",
     "output_type": "stream",
     "text": [
      " 40%|\u001b[34m████      \u001b[0m| 4/10 [00:16<00:23,  3.96s/it]\u001b[32m [repeated 4x across cluster]\u001b[0m\n"
     ]
    },
    {
     "name": "stdout",
     "output_type": "stream",
     "text": [
      "\u001b[36m(launch_and_fit pid=4347)\u001b[0m \tTrain Epoch: 5 \tTrain_loss_mri: 0.1468 | Train_acc_mri: 97.5000 | Train_loss_dna: 1.6169 | Train_acc_dna: 38.7616 | Validation_loss_mri: 2.7066 | Validation_acc_mri: 69.2708 | Validation_loss_dna: 2.2275 | Validation_acc_dna: 18.7500\u001b[32m [repeated 4x across cluster]\u001b[0m\n"
     ]
    },
    {
     "name": "stderr",
     "output_type": "stream",
     "text": [
      " 60%|\u001b[34m██████    \u001b[0m| 6/10 [00:24<00:16,  4.07s/it]\u001b[32m [repeated 4x across cluster]\u001b[0m\n"
     ]
    },
    {
     "name": "stdout",
     "output_type": "stream",
     "text": [
      "\u001b[36m(launch_and_fit pid=4347)\u001b[0m \tTrain Epoch: 7 \tTrain_loss_mri: 0.0581 | Train_acc_mri: 99.6875 | Train_loss_dna: 1.5839 | Train_acc_dna: 38.3912 | Validation_loss_mri: 3.1155 | Validation_acc_mri: 72.3958 | Validation_loss_dna: 2.3682 | Validation_acc_dna: 12.5000\u001b[32m [repeated 4x across cluster]\u001b[0m\n"
     ]
    },
    {
     "name": "stderr",
     "output_type": "stream",
     "text": [
      " 80%|\u001b[34m████████  \u001b[0m| 8/10 [00:32<00:07,  3.96s/it]\u001b[32m [repeated 4x across cluster]\u001b[0m\n"
     ]
    },
    {
     "name": "stdout",
     "output_type": "stream",
     "text": [
      "\u001b[36m(launch_and_fit pid=4347)\u001b[0m \tTrain Epoch: 9 \tTrain_loss_mri: 0.0326 | Train_acc_mri: 100.0000 | Train_loss_dna: 1.5392 | Train_acc_dna: 39.8380 | Validation_loss_mri: 3.4545 | Validation_acc_mri: 72.3958 | Validation_loss_dna: 2.4653 | Validation_acc_dna: 15.6250\u001b[32m [repeated 4x across cluster]\u001b[0m\n"
     ]
    },
    {
     "name": "stderr",
     "output_type": "stream",
     "text": [
      "100%|\u001b[34m██████████\u001b[0m| 10/10 [00:39<00:00,  3.97s/it]\u001b[32m [repeated 4x across cluster]\u001b[0m\n"
     ]
    },
    {
     "name": "stdout",
     "output_type": "stream",
     "text": [
      "\u001b[36m(launch_and_fit pid=4347)\u001b[0m save graph in  results/FL/\n",
      "\u001b[36m(launch_and_fit pid=4421)\u001b[0m Run WITHOUT homomorphic encryption\n",
      "\u001b[36m(launch_and_fit pid=4421)\u001b[0m  To get the checkpoint\n",
      "\u001b[36m(launch_and_fit pid=4349)\u001b[0m \tTrain Epoch: 10 \tTrain_loss_mri: 0.0240 | Train_acc_mri: 100.0000 | Train_loss_dna: 1.3843 | Train_acc_dna: 52.0023 | Validation_loss_mri: 1.3998 | Validation_acc_mri: 69.2708 | Validation_loss_dna: 1.8376 | Validation_acc_dna: 15.6250\u001b[32m [repeated 3x across cluster]\u001b[0m\n",
      "\u001b[36m(launch_and_fit pid=4349)\u001b[0m save graph in  results/FL/\n",
      "\u001b[36m(launch_and_fit pid=4421)\u001b[0m [Client 0, round 6] fit, config: {'learning_rate': 0.003, 'batch_size': '32', 'server_round': 6, 'local_epochs': 10}\n",
      "\u001b[36m(launch_and_fit pid=4421)\u001b[0m Updated model\n"
     ]
    },
    {
     "name": "stderr",
     "output_type": "stream",
     "text": [
      "  0%|\u001b[34m          \u001b[0m| 0/10 [00:00<?, ?it/s]\n",
      "100%|\u001b[34m██████████\u001b[0m| 10/10 [00:40<00:00,  4.06s/it]\n"
     ]
    },
    {
     "name": "stdout",
     "output_type": "stream",
     "text": [
      "\u001b[36m(launch_and_fit pid=4446)\u001b[0m Run WITHOUT homomorphic encryption\n",
      "\u001b[36m(launch_and_fit pid=4446)\u001b[0m  To get the checkpoint\n",
      "\u001b[36m(launch_and_fit pid=4421)\u001b[0m \tTrain Epoch: 1 \tTrain_loss_mri: 0.7686 | Train_acc_mri: 75.9028 | Train_loss_dna: 1.7529 | Train_acc_dna: 34.8611 | Validation_loss_mri: 0.4638 | Validation_acc_mri: 73.9583 | Validation_loss_dna: 2.0930 | Validation_acc_dna: 15.6250\n"
     ]
    },
    {
     "name": "stderr",
     "output_type": "stream",
     "text": [
      " 10%|\u001b[34m█         \u001b[0m| 1/10 [00:04<00:43,  4.86s/it]\n",
      "  0%|\u001b[34m          \u001b[0m| 0/10 [00:00<?, ?it/s]\n"
     ]
    },
    {
     "name": "stdout",
     "output_type": "stream",
     "text": [
      "\u001b[36m(launch_and_fit pid=4446)\u001b[0m \tTrain Epoch: 1 \tTrain_loss_mri: 0.5908 | Train_acc_mri: 78.6921 | Train_loss_dna: 1.7345 | Train_acc_dna: 31.7130 | Validation_loss_mri: 0.5095 | Validation_acc_mri: 85.9375 | Validation_loss_dna: 2.0329 | Validation_acc_dna: 14.0625\n",
      "\u001b[36m(launch_and_fit pid=4446)\u001b[0m [Client 3, round 6] fit, config: {'learning_rate': 0.003, 'batch_size': '32', 'server_round': 6, 'local_epochs': 10}\n",
      "\u001b[36m(launch_and_fit pid=4446)\u001b[0m Updated model\n",
      "\u001b[36m(launch_and_fit pid=4421)\u001b[0m \tTrain Epoch: 3 \tTrain_loss_mri: 0.2086 | Train_acc_mri: 96.8171 | Train_loss_dna: 1.6770 | Train_acc_dna: 37.3958 | Validation_loss_mri: 0.4993 | Validation_acc_mri: 85.9375 | Validation_loss_dna: 2.1372 | Validation_acc_dna: 18.7500\u001b[32m [repeated 3x across cluster]\u001b[0m\n"
     ]
    },
    {
     "name": "stderr",
     "output_type": "stream",
     "text": [
      " 30%|\u001b[34m███       \u001b[0m| 3/10 [00:12<00:29,  4.16s/it]\u001b[32m [repeated 4x across cluster]\u001b[0m\n"
     ]
    },
    {
     "name": "stdout",
     "output_type": "stream",
     "text": [
      "\u001b[36m(launch_and_fit pid=4421)\u001b[0m \tTrain Epoch: 5 \tTrain_loss_mri: 0.0816 | Train_acc_mri: 99.3750 | Train_loss_dna: 1.6228 | Train_acc_dna: 39.1319 | Validation_loss_mri: 0.4899 | Validation_acc_mri: 85.9375 | Validation_loss_dna: 2.0654 | Validation_acc_dna: 18.7500\u001b[32m [repeated 4x across cluster]\u001b[0m\n"
     ]
    },
    {
     "name": "stderr",
     "output_type": "stream",
     "text": [
      " 50%|\u001b[34m█████     \u001b[0m| 5/10 [00:20<00:19,  4.00s/it]\u001b[32m [repeated 4x across cluster]\u001b[0m\n"
     ]
    },
    {
     "name": "stdout",
     "output_type": "stream",
     "text": [
      "\u001b[36m(launch_and_fit pid=4421)\u001b[0m \tTrain Epoch: 7 \tTrain_loss_mri: 0.0366 | Train_acc_mri: 99.6875 | Train_loss_dna: 1.5917 | Train_acc_dna: 39.2130 | Validation_loss_mri: 0.6193 | Validation_acc_mri: 85.9375 | Validation_loss_dna: 2.2287 | Validation_acc_dna: 20.3125\u001b[32m [repeated 4x across cluster]\u001b[0m\n"
     ]
    },
    {
     "name": "stderr",
     "output_type": "stream",
     "text": [
      " 70%|\u001b[34m███████   \u001b[0m| 7/10 [00:28<00:11,  3.98s/it]\u001b[32m [repeated 4x across cluster]\u001b[0m\n"
     ]
    },
    {
     "name": "stdout",
     "output_type": "stream",
     "text": [
      "\u001b[36m(launch_and_fit pid=4421)\u001b[0m \tTrain Epoch: 9 \tTrain_loss_mri: 0.0350 | Train_acc_mri: 99.6875 | Train_loss_dna: 1.5106 | Train_acc_dna: 42.8241 | Validation_loss_mri: 0.6827 | Validation_acc_mri: 84.3750 | Validation_loss_dna: 2.3177 | Validation_acc_dna: 17.1875\u001b[32m [repeated 4x across cluster]\u001b[0m\n"
     ]
    },
    {
     "name": "stderr",
     "output_type": "stream",
     "text": [
      " 90%|\u001b[34m█████████ \u001b[0m| 9/10 [00:36<00:04,  4.06s/it]\u001b[32m [repeated 4x across cluster]\u001b[0m\n"
     ]
    },
    {
     "name": "stdout",
     "output_type": "stream",
     "text": [
      "\u001b[36m(launch_and_fit pid=4421)\u001b[0m save graph in  results/FL/\n"
     ]
    },
    {
     "name": "stderr",
     "output_type": "stream",
     "text": [
      "DEBUG flwr 2024-08-05 11:31:34,072 | server.py:236 | fit_round 6 received 10 results and 0 failures\n"
     ]
    },
    {
     "name": "stdout",
     "output_type": "stream",
     "text": [
      "Saving round 6 aggregated_parameters...\n",
      "Updated model\n"
     ]
    },
    {
     "name": "stderr",
     "output_type": "stream",
     "text": [
      "INFO flwr 2024-08-05 11:31:40,447 | server.py:125 | fit progress: (6, (0.970191804426057, 1.72123099224908), {'accuracy': (73.4375, 31.58482142857143)}, 1959.5824209369994)\n",
      "DEBUG flwr 2024-08-05 11:31:40,448 | server.py:173 | evaluate_round 6: strategy sampled 10 clients (out of 10)\n"
     ]
    },
    {
     "name": "stdout",
     "output_type": "stream",
     "text": [
      "Server-side evaluation MRI loss 0.970191804426057 / MRI accuracy 73.4375\n",
      "Server-side evaluation DNA loss 1.72123099224908 / DNA accuracy 31.58482142857143\n",
      "\u001b[36m(launch_and_evaluate pid=4504)\u001b[0m Run WITHOUT homomorphic encryption\n",
      "\u001b[36m(launch_and_evaluate pid=4504)\u001b[0m  To get the checkpoint\n",
      "\u001b[36m(launch_and_fit pid=4446)\u001b[0m \tTrain Epoch: 10 \tTrain_loss_mri: 0.0290 | Train_acc_mri: 99.3750 | Train_loss_dna: 1.5395 | Train_acc_dna: 39.3287 | Validation_loss_mri: 0.8037 | Validation_acc_mri: 84.3750 | Validation_loss_dna: 2.3210 | Validation_acc_dna: 33.8542\u001b[32m [repeated 3x across cluster]\u001b[0m\n",
      "\u001b[36m(launch_and_fit pid=4446)\u001b[0m save graph in  results/FL/\n",
      "\u001b[36m(launch_and_evaluate pid=4504)\u001b[0m [Client 2] evaluate, config: {}\n",
      "\u001b[36m(launch_and_evaluate pid=4504)\u001b[0m Updated model\n",
      "\u001b[36m(launch_and_evaluate pid=4575)\u001b[0m Run WITHOUT homomorphic encryption\u001b[32m [repeated 2x across cluster]\u001b[0m\n",
      "\u001b[36m(launch_and_evaluate pid=4575)\u001b[0m  To get the checkpoint\u001b[32m [repeated 2x across cluster]\u001b[0m\n",
      "\u001b[36m(launch_and_evaluate pid=4505)\u001b[0m [Client 7] evaluate, config: {}\n",
      "\u001b[36m(launch_and_evaluate pid=4505)\u001b[0m Updated model\n",
      "\u001b[36m(launch_and_evaluate pid=4575)\u001b[0m [Client 3] evaluate, config: {}\n",
      "\u001b[36m(launch_and_evaluate pid=4575)\u001b[0m Updated model\n",
      "\u001b[36m(launch_and_evaluate pid=4647)\u001b[0m Run WITHOUT homomorphic encryption\u001b[32m [repeated 2x across cluster]\u001b[0m\n",
      "\u001b[36m(launch_and_evaluate pid=4647)\u001b[0m  To get the checkpoint\u001b[32m [repeated 2x across cluster]\u001b[0m\n",
      "\u001b[36m(launch_and_evaluate pid=4577)\u001b[0m [Client 5] evaluate, config: {}\n",
      "\u001b[36m(launch_and_evaluate pid=4577)\u001b[0m Updated model\n",
      "\u001b[36m(launch_and_evaluate pid=4647)\u001b[0m [Client 1] evaluate, config: {}\n",
      "\u001b[36m(launch_and_evaluate pid=4647)\u001b[0m Updated model\n"
     ]
    },
    {
     "name": "stderr",
     "output_type": "stream",
     "text": [
      "\u001b[36m(launch_and_evaluate pid=4645)\u001b[0m /opt/conda/lib/python3.10/site-packages/sklearn/metrics/_ranking.py:1029: UndefinedMetricWarning: No positive samples in y_true, true positive value should be meaningless\n",
      "\u001b[36m(launch_and_evaluate pid=4645)\u001b[0m   warnings.warn(\n",
      "100%|\u001b[34m██████████\u001b[0m| 10/10 [00:40<00:00,  4.08s/it]\u001b[32m [repeated 3x across cluster]\u001b[0m\n"
     ]
    },
    {
     "name": "stdout",
     "output_type": "stream",
     "text": [
      "\u001b[36m(launch_and_evaluate pid=4717)\u001b[0m Run WITHOUT homomorphic encryption\u001b[32m [repeated 2x across cluster]\u001b[0m\n",
      "\u001b[36m(launch_and_evaluate pid=4717)\u001b[0m  To get the checkpoint\u001b[32m [repeated 2x across cluster]\u001b[0m\n",
      "\u001b[36m(launch_and_evaluate pid=4645)\u001b[0m [Client 8] evaluate, config: {}\n",
      "\u001b[36m(launch_and_evaluate pid=4645)\u001b[0m Updated model\n",
      "\u001b[36m(launch_and_evaluate pid=4717)\u001b[0m [Client 0] evaluate, config: {}\n",
      "\u001b[36m(launch_and_evaluate pid=4717)\u001b[0m Updated model\n",
      "\u001b[36m(launch_and_evaluate pid=4785)\u001b[0m Run WITHOUT homomorphic encryption\u001b[32m [repeated 2x across cluster]\u001b[0m\n",
      "\u001b[36m(launch_and_evaluate pid=4785)\u001b[0m  To get the checkpoint\u001b[32m [repeated 2x across cluster]\u001b[0m\n",
      "\u001b[36m(launch_and_evaluate pid=4715)\u001b[0m [Client 6] evaluate, config: {}\n",
      "\u001b[36m(launch_and_evaluate pid=4715)\u001b[0m Updated model\n",
      "\u001b[36m(launch_and_evaluate pid=4785)\u001b[0m [Client 9] evaluate, config: {}\n",
      "\u001b[36m(launch_and_evaluate pid=4785)\u001b[0m Updated model\n"
     ]
    },
    {
     "name": "stderr",
     "output_type": "stream",
     "text": [
      "\u001b[36m(launch_and_evaluate pid=4785)\u001b[0m /opt/conda/lib/python3.10/site-packages/sklearn/metrics/_ranking.py:1029: UndefinedMetricWarning: No positive samples in y_true, true positive value should be meaningless\n",
      "\u001b[36m(launch_and_evaluate pid=4785)\u001b[0m   warnings.warn(\n",
      "\u001b[36m(launch_and_evaluate pid=4787)\u001b[0m /opt/conda/lib/python3.10/site-packages/sklearn/metrics/_ranking.py:1029: UndefinedMetricWarning: No positive samples in y_true, true positive value should be meaningless\n",
      "\u001b[36m(launch_and_evaluate pid=4787)\u001b[0m   warnings.warn(\n",
      "DEBUG flwr 2024-08-05 11:32:48,346 | server.py:187 | evaluate_round 6 received 10 results and 0 failures\n",
      "DEBUG flwr 2024-08-05 11:32:48,347 | server.py:222 | fit_round 7: strategy sampled 10 clients (out of 10)\n"
     ]
    },
    {
     "name": "stdout",
     "output_type": "stream",
     "text": [
      "\u001b[36m(launch_and_fit pid=4865)\u001b[0m Run WITHOUT homomorphic encryption\u001b[32m [repeated 2x across cluster]\u001b[0m\n",
      "\u001b[36m(launch_and_fit pid=4865)\u001b[0m  To get the checkpoint\u001b[32m [repeated 2x across cluster]\u001b[0m\n",
      "\u001b[36m(launch_and_evaluate pid=4787)\u001b[0m [Client 4] evaluate, config: {}\n",
      "\u001b[36m(launch_and_evaluate pid=4787)\u001b[0m Updated model\n",
      "\u001b[36m(launch_and_fit pid=4865)\u001b[0m [Client 4, round 7] fit, config: {'learning_rate': 0.003, 'batch_size': '32', 'server_round': 7, 'local_epochs': 10}\n",
      "\u001b[36m(launch_and_fit pid=4864)\u001b[0m Updated model\n"
     ]
    },
    {
     "name": "stderr",
     "output_type": "stream",
     "text": [
      "  0%|\u001b[34m          \u001b[0m| 0/10 [00:00<?, ?it/s]\n"
     ]
    },
    {
     "name": "stdout",
     "output_type": "stream",
     "text": [
      "\u001b[36m(launch_and_fit pid=4865)\u001b[0m \tTrain Epoch: 1 \tTrain_loss_mri: 0.5713 | Train_acc_mri: 82.7199 | Train_loss_dna: 1.7136 | Train_acc_dna: 35.2315 | Validation_loss_mri: 0.9349 | Validation_acc_mri: 49.4792 | Validation_loss_dna: 1.7335 | Validation_acc_dna: 40.1042\n",
      "\u001b[36m(launch_and_fit pid=4864)\u001b[0m Run WITHOUT homomorphic encryption\n",
      "\u001b[36m(launch_and_fit pid=4864)\u001b[0m  To get the checkpoint\n"
     ]
    },
    {
     "name": "stderr",
     "output_type": "stream",
     "text": [
      " 10%|\u001b[34m█         \u001b[0m| 1/10 [00:04<00:43,  4.81s/it]\n"
     ]
    },
    {
     "name": "stdout",
     "output_type": "stream",
     "text": [
      "\u001b[36m(launch_and_fit pid=4864)\u001b[0m [Client 7, round 7] fit, config: {'learning_rate': 0.003, 'batch_size': '32', 'server_round': 7, 'local_epochs': 10}\n",
      "\u001b[36m(launch_and_fit pid=4865)\u001b[0m Updated model\n"
     ]
    },
    {
     "name": "stderr",
     "output_type": "stream",
     "text": [
      "  0%|\u001b[34m          \u001b[0m| 0/10 [00:00<?, ?it/s]\n"
     ]
    },
    {
     "name": "stdout",
     "output_type": "stream",
     "text": [
      "\u001b[36m(launch_and_fit pid=4865)\u001b[0m \tTrain Epoch: 3 \tTrain_loss_mri: 0.1246 | Train_acc_mri: 96.5046 | Train_loss_dna: 1.6432 | Train_acc_dna: 32.8819 | Validation_loss_mri: 0.9116 | Validation_acc_mri: 69.2708 | Validation_loss_dna: 1.4776 | Validation_acc_dna: 40.1042\u001b[32m [repeated 4x across cluster]\u001b[0m\n"
     ]
    },
    {
     "name": "stderr",
     "output_type": "stream",
     "text": [
      " 30%|\u001b[34m███       \u001b[0m| 3/10 [00:12<00:28,  4.10s/it]\u001b[32m [repeated 4x across cluster]\u001b[0m\n"
     ]
    },
    {
     "name": "stdout",
     "output_type": "stream",
     "text": [
      "\u001b[36m(launch_and_fit pid=4865)\u001b[0m \tTrain Epoch: 5 \tTrain_loss_mri: 0.0700 | Train_acc_mri: 98.7500 | Train_loss_dna: 1.5869 | Train_acc_dna: 39.3287 | Validation_loss_mri: 1.0923 | Validation_acc_mri: 69.2708 | Validation_loss_dna: 1.3789 | Validation_acc_dna: 44.7917\u001b[32m [repeated 4x across cluster]\u001b[0m\n"
     ]
    },
    {
     "name": "stderr",
     "output_type": "stream",
     "text": [
      " 50%|\u001b[34m█████     \u001b[0m| 5/10 [00:20<00:20,  4.01s/it]\u001b[32m [repeated 4x across cluster]\u001b[0m\n"
     ]
    },
    {
     "name": "stdout",
     "output_type": "stream",
     "text": [
      "\u001b[36m(launch_and_fit pid=4865)\u001b[0m \tTrain Epoch: 7 \tTrain_loss_mri: 0.0438 | Train_acc_mri: 99.0625 | Train_loss_dna: 1.5316 | Train_acc_dna: 38.1366 | Validation_loss_mri: 0.9037 | Validation_acc_mri: 89.0625 | Validation_loss_dna: 1.4344 | Validation_acc_dna: 41.6667\u001b[32m [repeated 4x across cluster]\u001b[0m\n"
     ]
    },
    {
     "name": "stderr",
     "output_type": "stream",
     "text": [
      " 70%|\u001b[34m███████   \u001b[0m| 7/10 [00:28<00:11,  3.92s/it]\u001b[32m [repeated 4x across cluster]\u001b[0m\n"
     ]
    },
    {
     "name": "stdout",
     "output_type": "stream",
     "text": [
      "\u001b[36m(launch_and_fit pid=4864)\u001b[0m \tTrain Epoch: 8 \tTrain_loss_mri: 0.0779 | Train_acc_mri: 98.4375 | Train_loss_dna: 1.5352 | Train_acc_dna: 40.2083 | Validation_loss_mri: 1.4397 | Validation_acc_mri: 61.4583 | Validation_loss_dna: 1.2194 | Validation_acc_dna: 52.0833\u001b[32m [repeated 3x across cluster]\u001b[0m\n"
     ]
    },
    {
     "name": "stderr",
     "output_type": "stream",
     "text": [
      " 80%|\u001b[34m████████  \u001b[0m| 8/10 [00:33<00:08,  4.15s/it]\u001b[32m [repeated 3x across cluster]\u001b[0m\n"
     ]
    },
    {
     "name": "stdout",
     "output_type": "stream",
     "text": [
      "\u001b[36m(launch_and_fit pid=4865)\u001b[0m save graph in  results/FL/\n",
      "\u001b[36m(launch_and_fit pid=4865)\u001b[0m \tTrain Epoch: 10 \tTrain_loss_mri: 0.0688 | Train_acc_mri: 98.3796 | Train_loss_dna: 1.3787 | Train_acc_dna: 47.0023 | Validation_loss_mri: 1.0597 | Validation_acc_mri: 49.4792 | Validation_loss_dna: 1.4703 | Validation_acc_dna: 44.7917\u001b[32m [repeated 3x across cluster]\u001b[0m\n"
     ]
    },
    {
     "name": "stderr",
     "output_type": "stream",
     "text": [
      "100%|\u001b[34m██████████\u001b[0m| 10/10 [00:40<00:00,  4.03s/it]\u001b[32m [repeated 3x across cluster]\u001b[0m\n"
     ]
    },
    {
     "name": "stdout",
     "output_type": "stream",
     "text": [
      "\u001b[36m(launch_and_fit pid=4937)\u001b[0m Run WITHOUT homomorphic encryption\n",
      "\u001b[36m(launch_and_fit pid=4937)\u001b[0m  To get the checkpoint\n",
      "\u001b[36m(launch_and_fit pid=4864)\u001b[0m save graph in  results/FL/\n",
      "\u001b[36m(launch_and_fit pid=4864)\u001b[0m \tTrain Epoch: 10 \tTrain_loss_mri: 0.0903 | Train_acc_mri: 97.7546 | Train_loss_dna: 1.4744 | Train_acc_dna: 44.9306 | Validation_loss_mri: 0.8338 | Validation_acc_mri: 64.5833 | Validation_loss_dna: 1.1919 | Validation_acc_dna: 50.5208\n",
      "\u001b[36m(launch_and_fit pid=4937)\u001b[0m [Client 8, round 7] fit, config: {'learning_rate': 0.003, 'batch_size': '32', 'server_round': 7, 'local_epochs': 10}\n",
      "\u001b[36m(launch_and_fit pid=4937)\u001b[0m Updated model\n"
     ]
    },
    {
     "name": "stderr",
     "output_type": "stream",
     "text": [
      "  0%|\u001b[34m          \u001b[0m| 0/10 [00:00<?, ?it/s]\n",
      "100%|\u001b[34m██████████\u001b[0m| 10/10 [00:41<00:00,  4.12s/it]\n"
     ]
    },
    {
     "name": "stdout",
     "output_type": "stream",
     "text": [
      "\u001b[36m(launch_and_fit pid=4937)\u001b[0m \tTrain Epoch: 1 \tTrain_loss_mri: 0.6100 | Train_acc_mri: 80.1968 | Train_loss_dna: 1.7178 | Train_acc_dna: 33.0787 | Validation_loss_mri: 0.4275 | Validation_acc_mri: 85.9375 | Validation_loss_dna: 1.6579 | Validation_acc_dna: 12.5000\n",
      "\u001b[36m(launch_and_fit pid=4962)\u001b[0m Run WITHOUT homomorphic encryption\n",
      "\u001b[36m(launch_and_fit pid=4962)\u001b[0m  To get the checkpoint\n"
     ]
    },
    {
     "name": "stderr",
     "output_type": "stream",
     "text": [
      " 10%|\u001b[34m█         \u001b[0m| 1/10 [00:04<00:41,  4.61s/it]\n"
     ]
    },
    {
     "name": "stdout",
     "output_type": "stream",
     "text": [
      "\u001b[36m(launch_and_fit pid=4962)\u001b[0m [Client 9, round 7] fit, config: {'learning_rate': 0.003, 'batch_size': '32', 'server_round': 7, 'local_epochs': 10}\n",
      "\u001b[36m(launch_and_fit pid=4962)\u001b[0m Updated model\n"
     ]
    },
    {
     "name": "stderr",
     "output_type": "stream",
     "text": [
      "  0%|\u001b[34m          \u001b[0m| 0/10 [00:00<?, ?it/s]\n"
     ]
    },
    {
     "name": "stdout",
     "output_type": "stream",
     "text": [
      "\u001b[36m(launch_and_fit pid=4937)\u001b[0m \tTrain Epoch: 3 \tTrain_loss_mri: 0.1654 | Train_acc_mri: 95.3125 | Train_loss_dna: 1.5506 | Train_acc_dna: 45.3819 | Validation_loss_mri: 0.8998 | Validation_acc_mri: 73.9583 | Validation_loss_dna: 1.7754 | Validation_acc_dna: 18.7500\u001b[32m [repeated 4x across cluster]\u001b[0m\n"
     ]
    },
    {
     "name": "stderr",
     "output_type": "stream",
     "text": [
      " 30%|\u001b[34m███       \u001b[0m| 3/10 [00:12<00:29,  4.23s/it]\u001b[32m [repeated 4x across cluster]\u001b[0m\n"
     ]
    },
    {
     "name": "stdout",
     "output_type": "stream",
     "text": [
      "\u001b[36m(launch_and_fit pid=4937)\u001b[0m \tTrain Epoch: 5 \tTrain_loss_mri: 0.0656 | Train_acc_mri: 98.7500 | Train_loss_dna: 1.4969 | Train_acc_dna: 44.3866 | Validation_loss_mri: 0.8437 | Validation_acc_mri: 73.9583 | Validation_loss_dna: 1.5877 | Validation_acc_dna: 15.6250\u001b[32m [repeated 4x across cluster]\u001b[0m\n"
     ]
    },
    {
     "name": "stderr",
     "output_type": "stream",
     "text": [
      " 50%|\u001b[34m█████     \u001b[0m| 5/10 [00:20<00:20,  4.08s/it]\u001b[32m [repeated 4x across cluster]\u001b[0m\n"
     ]
    },
    {
     "name": "stdout",
     "output_type": "stream",
     "text": [
      "\u001b[36m(launch_and_fit pid=4937)\u001b[0m \tTrain Epoch: 7 \tTrain_loss_mri: 0.0332 | Train_acc_mri: 99.3750 | Train_loss_dna: 1.4644 | Train_acc_dna: 44.7569 | Validation_loss_mri: 0.5894 | Validation_acc_mri: 90.6250 | Validation_loss_dna: 1.8412 | Validation_acc_dna: 14.0625\u001b[32m [repeated 4x across cluster]\u001b[0m\n"
     ]
    },
    {
     "name": "stderr",
     "output_type": "stream",
     "text": [
      " 70%|\u001b[34m███████   \u001b[0m| 7/10 [00:28<00:12,  4.04s/it]\u001b[32m [repeated 4x across cluster]\u001b[0m\n"
     ]
    },
    {
     "name": "stdout",
     "output_type": "stream",
     "text": [
      "\u001b[36m(launch_and_fit pid=4962)\u001b[0m \tTrain Epoch: 9 \tTrain_loss_mri: 0.0287 | Train_acc_mri: 99.6875 | Train_loss_dna: 1.4212 | Train_acc_dna: 41.0988 | Validation_loss_mri: 1.0672 | Validation_acc_mri: 79.6875 | Validation_loss_dna: 1.6591 | Validation_acc_dna: 30.7292\u001b[32m [repeated 4x across cluster]\u001b[0m\n"
     ]
    },
    {
     "name": "stderr",
     "output_type": "stream",
     "text": [
      " 90%|\u001b[34m█████████ \u001b[0m| 9/10 [00:35<00:03,  3.91s/it]\u001b[32m [repeated 4x across cluster]\u001b[0m\n"
     ]
    },
    {
     "name": "stdout",
     "output_type": "stream",
     "text": [
      "\u001b[36m(launch_and_fit pid=4962)\u001b[0m save graph in  results/FL/\n",
      "\u001b[36m(launch_and_fit pid=5011)\u001b[0m Run WITHOUT homomorphic encryption\n",
      "\u001b[36m(launch_and_fit pid=5011)\u001b[0m  To get the checkpoint\n",
      "\u001b[36m(launch_and_fit pid=4937)\u001b[0m \tTrain Epoch: 10 \tTrain_loss_mri: 0.0307 | Train_acc_mri: 99.3750 | Train_loss_dna: 1.3077 | Train_acc_dna: 54.5602 | Validation_loss_mri: 0.9420 | Validation_acc_mri: 72.3958 | Validation_loss_dna: 1.7798 | Validation_acc_dna: 14.0625\u001b[32m [repeated 3x across cluster]\u001b[0m\n",
      "\u001b[36m(launch_and_fit pid=4937)\u001b[0m save graph in  results/FL/\n",
      "\u001b[36m(launch_and_fit pid=5011)\u001b[0m [Client 2, round 7] fit, config: {'learning_rate': 0.003, 'batch_size': '32', 'server_round': 7, 'local_epochs': 10}\n",
      "\u001b[36m(launch_and_fit pid=5011)\u001b[0m Updated model\n"
     ]
    },
    {
     "name": "stderr",
     "output_type": "stream",
     "text": [
      "  0%|\u001b[34m          \u001b[0m| 0/10 [00:00<?, ?it/s]\n",
      "100%|\u001b[34m██████████\u001b[0m| 10/10 [00:40<00:00,  4.09s/it]\u001b[32m [repeated 3x across cluster]\u001b[0m\n"
     ]
    },
    {
     "name": "stdout",
     "output_type": "stream",
     "text": [
      "\u001b[36m(launch_and_fit pid=5013)\u001b[0m Run WITHOUT homomorphic encryption\n",
      "\u001b[36m(launch_and_fit pid=5013)\u001b[0m  To get the checkpoint\n",
      "\u001b[36m(launch_and_fit pid=5013)\u001b[0m \tTrain Epoch: 1 \tTrain_loss_mri: 0.5327 | Train_acc_mri: 83.5764 | Train_loss_dna: 1.7525 | Train_acc_dna: 36.7708 | Validation_loss_mri: 0.4935 | Validation_acc_mri: 87.5000 | Validation_loss_dna: 2.0683 | Validation_acc_dna: 17.1875\u001b[32m [repeated 2x across cluster]\u001b[0m\n",
      "\u001b[36m(launch_and_fit pid=5013)\u001b[0m [Client 0, round 7] fit, config: {'learning_rate': 0.003, 'batch_size': '32', 'server_round': 7, 'local_epochs': 10}\n",
      "\u001b[36m(launch_and_fit pid=5013)\u001b[0m Updated model\n"
     ]
    },
    {
     "name": "stderr",
     "output_type": "stream",
     "text": [
      "  0%|\u001b[34m          \u001b[0m| 0/10 [00:00<?, ?it/s]\n",
      " 20%|\u001b[34m██        \u001b[0m| 2/10 [00:08<00:33,  4.24s/it]\u001b[32m [repeated 3x across cluster]\u001b[0m\n"
     ]
    },
    {
     "name": "stdout",
     "output_type": "stream",
     "text": [
      "\u001b[36m(launch_and_fit pid=5011)\u001b[0m \tTrain Epoch: 3 \tTrain_loss_mri: 0.1919 | Train_acc_mri: 95.5671 | Train_loss_dna: 1.5989 | Train_acc_dna: 37.5926 | Validation_loss_mri: 0.3843 | Validation_acc_mri: 85.9375 | Validation_loss_dna: 1.6243 | Validation_acc_dna: 30.7292\u001b[32m [repeated 3x across cluster]\u001b[0m\n"
     ]
    },
    {
     "name": "stderr",
     "output_type": "stream",
     "text": [
      " 40%|\u001b[34m████      \u001b[0m| 4/10 [00:16<00:24,  4.12s/it]\u001b[32m [repeated 4x across cluster]\u001b[0m\n"
     ]
    },
    {
     "name": "stdout",
     "output_type": "stream",
     "text": [
      "\u001b[36m(launch_and_fit pid=5011)\u001b[0m \tTrain Epoch: 5 \tTrain_loss_mri: 0.1117 | Train_acc_mri: 96.5625 | Train_loss_dna: 1.5820 | Train_acc_dna: 38.0787 | Validation_loss_mri: 0.4163 | Validation_acc_mri: 85.9375 | Validation_loss_dna: 1.6142 | Validation_acc_dna: 32.2917\u001b[32m [repeated 4x across cluster]\u001b[0m\n"
     ]
    },
    {
     "name": "stderr",
     "output_type": "stream",
     "text": [
      " 60%|\u001b[34m██████    \u001b[0m| 6/10 [00:24<00:16,  4.13s/it]\u001b[32m [repeated 4x across cluster]\u001b[0m\n"
     ]
    },
    {
     "name": "stdout",
     "output_type": "stream",
     "text": [
      "\u001b[36m(launch_and_fit pid=5011)\u001b[0m \tTrain Epoch: 7 \tTrain_loss_mri: 0.0601 | Train_acc_mri: 98.6921 | Train_loss_dna: 1.5331 | Train_acc_dna: 42.5116 | Validation_loss_mri: 0.4506 | Validation_acc_mri: 85.9375 | Validation_loss_dna: 1.5264 | Validation_acc_dna: 42.7083\u001b[32m [repeated 4x across cluster]\u001b[0m\n"
     ]
    },
    {
     "name": "stderr",
     "output_type": "stream",
     "text": [
      " 80%|\u001b[34m████████  \u001b[0m| 8/10 [00:32<00:08,  4.04s/it]\u001b[32m [repeated 4x across cluster]\u001b[0m\n"
     ]
    },
    {
     "name": "stdout",
     "output_type": "stream",
     "text": [
      "\u001b[36m(launch_and_fit pid=5013)\u001b[0m \tTrain Epoch: 9 \tTrain_loss_mri: 0.0349 | Train_acc_mri: 99.3750 | Train_loss_dna: 1.3239 | Train_acc_dna: 47.0833 | Validation_loss_mri: 0.7717 | Validation_acc_mri: 87.5000 | Validation_loss_dna: 2.2531 | Validation_acc_dna: 15.6250\u001b[32m [repeated 4x across cluster]\u001b[0m\n",
      "\u001b[36m(launch_and_fit pid=5013)\u001b[0m save graph in  results/FL/\n"
     ]
    },
    {
     "name": "stderr",
     "output_type": "stream",
     "text": [
      "100%|\u001b[34m██████████\u001b[0m| 10/10 [00:40<00:00,  4.06s/it]\u001b[32m [repeated 4x across cluster]\u001b[0m\n"
     ]
    },
    {
     "name": "stdout",
     "output_type": "stream",
     "text": [
      "\u001b[36m(launch_and_fit pid=5085)\u001b[0m Run WITHOUT homomorphic encryption\n",
      "\u001b[36m(launch_and_fit pid=5085)\u001b[0m  To get the checkpoint\n",
      "\u001b[36m(launch_and_fit pid=5011)\u001b[0m \tTrain Epoch: 10 \tTrain_loss_mri: 0.0279 | Train_acc_mri: 99.6875 | Train_loss_dna: 1.4183 | Train_acc_dna: 47.1991 | Validation_loss_mri: 0.5577 | Validation_acc_mri: 87.5000 | Validation_loss_dna: 1.4935 | Validation_acc_dna: 50.5208\u001b[32m [repeated 3x across cluster]\u001b[0m\n",
      "\u001b[36m(launch_and_fit pid=5011)\u001b[0m save graph in  results/FL/\n"
     ]
    },
    {
     "name": "stderr",
     "output_type": "stream",
     "text": [
      "  0%|\u001b[34m          \u001b[0m| 0/10 [00:00<?, ?it/s]\n",
      "100%|\u001b[34m██████████\u001b[0m| 10/10 [00:40<00:00,  4.08s/it]\n"
     ]
    },
    {
     "name": "stdout",
     "output_type": "stream",
     "text": [
      "\u001b[36m(launch_and_fit pid=5085)\u001b[0m [Client 3, round 7] fit, config: {'learning_rate': 0.003, 'batch_size': '32', 'server_round': 7, 'local_epochs': 10}\n",
      "\u001b[36m(launch_and_fit pid=5085)\u001b[0m Updated model\n"
     ]
    },
    {
     "name": "stderr",
     "output_type": "stream",
     "text": [
      " 10%|\u001b[34m█         \u001b[0m| 1/10 [00:04<00:43,  4.87s/it]\n"
     ]
    },
    {
     "name": "stdout",
     "output_type": "stream",
     "text": [
      "\u001b[36m(launch_and_fit pid=5087)\u001b[0m Run WITHOUT homomorphic encryption\n",
      "\u001b[36m(launch_and_fit pid=5087)\u001b[0m  To get the checkpoint\n",
      "\u001b[36m(launch_and_fit pid=5085)\u001b[0m \tTrain Epoch: 1 \tTrain_loss_mri: 0.5193 | Train_acc_mri: 83.9468 | Train_loss_dna: 1.7362 | Train_acc_dna: 32.4537 | Validation_loss_mri: 0.6654 | Validation_acc_mri: 82.8125 | Validation_loss_dna: 1.9899 | Validation_acc_dna: 36.9792\n",
      "\u001b[36m(launch_and_fit pid=5087)\u001b[0m \tTrain Epoch: 1 \tTrain_loss_mri: 0.6257 | Train_acc_mri: 81.2153 | Train_loss_dna: 1.7512 | Train_acc_dna: 34.0741 | Validation_loss_mri: 2.4564 | Validation_acc_mri: 69.2708 | Validation_loss_dna: 2.1726 | Validation_acc_dna: 18.7500\n",
      "\u001b[36m(launch_and_fit pid=5087)\u001b[0m \tTrain Epoch: 2 \tTrain_loss_mri: 0.3373 | Train_acc_mri: 86.7014 | Train_loss_dna: 1.6970 | Train_acc_dna: 32.5347 | Validation_loss_mri: 3.0570 | Validation_acc_mri: 49.4792 | Validation_loss_dna: 1.9860 | Validation_acc_dna: 18.7500\n",
      "\u001b[36m(launch_and_fit pid=5087)\u001b[0m [Client 1, round 7] fit, config: {'learning_rate': 0.003, 'batch_size': '32', 'server_round': 7, 'local_epochs': 10}\n",
      "\u001b[36m(launch_and_fit pid=5087)\u001b[0m Updated model\n"
     ]
    },
    {
     "name": "stderr",
     "output_type": "stream",
     "text": [
      "  0%|\u001b[34m          \u001b[0m| 0/10 [00:00<?, ?it/s]\n"
     ]
    },
    {
     "name": "stdout",
     "output_type": "stream",
     "text": [
      "\u001b[36m(launch_and_fit pid=5087)\u001b[0m \tTrain Epoch: 3 \tTrain_loss_mri: 0.1942 | Train_acc_mri: 95.1968 | Train_loss_dna: 1.6488 | Train_acc_dna: 37.3380 | Validation_loss_mri: 2.0581 | Validation_acc_mri: 66.1458 | Validation_loss_dna: 2.1157 | Validation_acc_dna: 20.3125\u001b[32m [repeated 2x across cluster]\u001b[0m\n"
     ]
    },
    {
     "name": "stderr",
     "output_type": "stream",
     "text": [
      " 30%|\u001b[34m███       \u001b[0m| 3/10 [00:12<00:28,  4.11s/it]\u001b[32m [repeated 4x across cluster]\u001b[0m\n"
     ]
    },
    {
     "name": "stdout",
     "output_type": "stream",
     "text": [
      "\u001b[36m(launch_and_fit pid=5087)\u001b[0m \tTrain Epoch: 5 \tTrain_loss_mri: 0.0635 | Train_acc_mri: 98.7500 | Train_loss_dna: 1.5583 | Train_acc_dna: 37.5926 | Validation_loss_mri: 3.4666 | Validation_acc_mri: 64.5833 | Validation_loss_dna: 2.2963 | Validation_acc_dna: 14.0625\u001b[32m [repeated 4x across cluster]\u001b[0m\n"
     ]
    },
    {
     "name": "stderr",
     "output_type": "stream",
     "text": [
      " 50%|\u001b[34m█████     \u001b[0m| 5/10 [00:20<00:19,  3.95s/it]\u001b[32m [repeated 4x across cluster]\u001b[0m\n"
     ]
    },
    {
     "name": "stdout",
     "output_type": "stream",
     "text": [
      "\u001b[36m(launch_and_fit pid=5087)\u001b[0m \tTrain Epoch: 7 \tTrain_loss_mri: 0.0493 | Train_acc_mri: 99.0046 | Train_loss_dna: 1.5508 | Train_acc_dna: 38.5069 | Validation_loss_mri: 4.0115 | Validation_acc_mri: 72.3958 | Validation_loss_dna: 2.4534 | Validation_acc_dna: 18.7500\u001b[32m [repeated 4x across cluster]\u001b[0m\n"
     ]
    },
    {
     "name": "stderr",
     "output_type": "stream",
     "text": [
      " 70%|\u001b[34m███████   \u001b[0m| 7/10 [00:28<00:11,  3.94s/it]\u001b[32m [repeated 4x across cluster]\u001b[0m\n"
     ]
    },
    {
     "name": "stdout",
     "output_type": "stream",
     "text": [
      "\u001b[36m(launch_and_fit pid=5087)\u001b[0m \tTrain Epoch: 9 \tTrain_loss_mri: 0.0243 | Train_acc_mri: 99.6875 | Train_loss_dna: 1.4109 | Train_acc_dna: 46.5741 | Validation_loss_mri: 4.2826 | Validation_acc_mri: 67.7083 | Validation_loss_dna: 2.6691 | Validation_acc_dna: 14.0625\u001b[32m [repeated 4x across cluster]\u001b[0m\n"
     ]
    },
    {
     "name": "stderr",
     "output_type": "stream",
     "text": [
      " 90%|\u001b[34m█████████ \u001b[0m| 9/10 [00:36<00:04,  4.02s/it]\u001b[32m [repeated 4x across cluster]\u001b[0m\n"
     ]
    },
    {
     "name": "stdout",
     "output_type": "stream",
     "text": [
      "\u001b[36m(launch_and_fit pid=5087)\u001b[0m save graph in  results/FL/\n",
      "\u001b[36m(launch_and_fit pid=5159)\u001b[0m Run WITHOUT homomorphic encryption\n",
      "\u001b[36m(launch_and_fit pid=5159)\u001b[0m  To get the checkpoint\n",
      "\u001b[36m(launch_and_fit pid=5085)\u001b[0m \tTrain Epoch: 10 \tTrain_loss_mri: 0.0461 | Train_acc_mri: 99.0625 | Train_loss_dna: 1.3994 | Train_acc_dna: 47.8009 | Validation_loss_mri: 0.5372 | Validation_acc_mri: 92.1875 | Validation_loss_dna: 2.3584 | Validation_acc_dna: 14.0625\u001b[32m [repeated 3x across cluster]\u001b[0m\n",
      "\u001b[36m(launch_and_fit pid=5085)\u001b[0m save graph in  results/FL/\n"
     ]
    },
    {
     "name": "stderr",
     "output_type": "stream",
     "text": [
      "  0%|\u001b[34m          \u001b[0m| 0/10 [00:00<?, ?it/s]\n",
      "100%|\u001b[34m██████████\u001b[0m| 10/10 [00:40<00:00,  4.09s/it]\u001b[32m [repeated 3x across cluster]\u001b[0m\n"
     ]
    },
    {
     "name": "stdout",
     "output_type": "stream",
     "text": [
      "\u001b[36m(launch_and_fit pid=5159)\u001b[0m [Client 5, round 7] fit, config: {'learning_rate': 0.003, 'batch_size': '32', 'server_round': 7, 'local_epochs': 10}\n",
      "\u001b[36m(launch_and_fit pid=5159)\u001b[0m Updated model\n"
     ]
    },
    {
     "name": "stderr",
     "output_type": "stream",
     "text": [
      "  0%|\u001b[34m          \u001b[0m| 0/10 [00:00<?, ?it/s]\n",
      " 10%|\u001b[34m█         \u001b[0m| 1/10 [00:04<00:40,  4.45s/it]\u001b[32m [repeated 2x across cluster]\u001b[0m\n"
     ]
    },
    {
     "name": "stdout",
     "output_type": "stream",
     "text": [
      "\u001b[36m(launch_and_fit pid=5161)\u001b[0m Run WITHOUT homomorphic encryption\n",
      "\u001b[36m(launch_and_fit pid=5161)\u001b[0m  To get the checkpoint\n",
      "\u001b[36m(launch_and_fit pid=5161)\u001b[0m \tTrain Epoch: 1 \tTrain_loss_mri: 0.5681 | Train_acc_mri: 82.6620 | Train_loss_dna: 1.6998 | Train_acc_dna: 35.8333 | Validation_loss_mri: 1.0059 | Validation_acc_mri: 55.7292 | Validation_loss_dna: 1.8681 | Validation_acc_dna: 45.8333\u001b[32m [repeated 2x across cluster]\u001b[0m\n",
      "\u001b[36m(launch_and_fit pid=5161)\u001b[0m [Client 6, round 7] fit, config: {'learning_rate': 0.003, 'batch_size': '32', 'server_round': 7, 'local_epochs': 10}\n",
      "\u001b[36m(launch_and_fit pid=5161)\u001b[0m Updated model\n"
     ]
    },
    {
     "name": "stderr",
     "output_type": "stream",
     "text": [
      " 30%|\u001b[34m███       \u001b[0m| 3/10 [00:12<00:28,  4.13s/it]\u001b[32m [repeated 3x across cluster]\u001b[0m\n"
     ]
    },
    {
     "name": "stdout",
     "output_type": "stream",
     "text": [
      "\u001b[36m(launch_and_fit pid=5159)\u001b[0m \tTrain Epoch: 3 \tTrain_loss_mri: 0.1027 | Train_acc_mri: 97.8125 | Train_loss_dna: 1.6860 | Train_acc_dna: 35.2083 | Validation_loss_mri: 1.4887 | Validation_acc_mri: 70.8333 | Validation_loss_dna: 1.7442 | Validation_acc_dna: 15.6250\u001b[32m [repeated 3x across cluster]\u001b[0m\n"
     ]
    },
    {
     "name": "stderr",
     "output_type": "stream",
     "text": [
      " 50%|\u001b[34m█████     \u001b[0m| 5/10 [00:20<00:20,  4.06s/it]\u001b[32m [repeated 4x across cluster]\u001b[0m\n"
     ]
    },
    {
     "name": "stdout",
     "output_type": "stream",
     "text": [
      "\u001b[36m(launch_and_fit pid=5159)\u001b[0m \tTrain Epoch: 5 \tTrain_loss_mri: 0.0445 | Train_acc_mri: 99.0046 | Train_loss_dna: 1.6330 | Train_acc_dna: 36.3194 | Validation_loss_mri: 1.8561 | Validation_acc_mri: 55.7292 | Validation_loss_dna: 1.7838 | Validation_acc_dna: 14.0625\u001b[32m [repeated 4x across cluster]\u001b[0m\n"
     ]
    },
    {
     "name": "stderr",
     "output_type": "stream",
     "text": [
      " 70%|\u001b[34m███████   \u001b[0m| 7/10 [00:28<00:11,  3.97s/it]\u001b[32m [repeated 4x across cluster]\u001b[0m\n"
     ]
    },
    {
     "name": "stdout",
     "output_type": "stream",
     "text": [
      "\u001b[36m(launch_and_fit pid=5159)\u001b[0m \tTrain Epoch: 7 \tTrain_loss_mri: 0.0614 | Train_acc_mri: 99.0625 | Train_loss_dna: 1.6326 | Train_acc_dna: 38.3333 | Validation_loss_mri: 1.8763 | Validation_acc_mri: 51.0417 | Validation_loss_dna: 1.7822 | Validation_acc_dna: 12.5000\u001b[32m [repeated 4x across cluster]\u001b[0m\n"
     ]
    },
    {
     "name": "stderr",
     "output_type": "stream",
     "text": [
      " 90%|\u001b[34m█████████ \u001b[0m| 9/10 [00:36<00:03,  3.91s/it]\u001b[32m [repeated 4x across cluster]\u001b[0m\n"
     ]
    },
    {
     "name": "stdout",
     "output_type": "stream",
     "text": [
      "\u001b[36m(launch_and_fit pid=5159)\u001b[0m \tTrain Epoch: 9 \tTrain_loss_mri: 0.0710 | Train_acc_mri: 98.7500 | Train_loss_dna: 1.5428 | Train_acc_dna: 42.1412 | Validation_loss_mri: 2.0938 | Validation_acc_mri: 49.4792 | Validation_loss_dna: 1.7392 | Validation_acc_dna: 9.3750\u001b[32m [repeated 4x across cluster]\u001b[0m\n",
      "\u001b[36m(launch_and_fit pid=5159)\u001b[0m save graph in  results/FL/\n"
     ]
    },
    {
     "name": "stderr",
     "output_type": "stream",
     "text": [
      "DEBUG flwr 2024-08-05 11:37:14,042 | server.py:236 | fit_round 7 received 10 results and 0 failures\n"
     ]
    },
    {
     "name": "stdout",
     "output_type": "stream",
     "text": [
      "Saving round 7 aggregated_parameters...\n",
      "Updated model\n"
     ]
    },
    {
     "name": "stderr",
     "output_type": "stream",
     "text": [
      "INFO flwr 2024-08-05 11:37:20,349 | server.py:125 | fit progress: (7, (0.8716891535690853, 1.7795197367668152), {'accuracy': (75.85565476190476, 28.422619047619047)}, 2299.484283574)\n",
      "DEBUG flwr 2024-08-05 11:37:20,350 | server.py:173 | evaluate_round 7: strategy sampled 10 clients (out of 10)\n"
     ]
    },
    {
     "name": "stdout",
     "output_type": "stream",
     "text": [
      "Server-side evaluation MRI loss 0.8716891535690853 / MRI accuracy 75.85565476190476\n",
      "Server-side evaluation DNA loss 1.7795197367668152 / DNA accuracy 28.422619047619047\n",
      "\u001b[36m(launch_and_evaluate pid=5242)\u001b[0m Run WITHOUT homomorphic encryption\n",
      "\u001b[36m(launch_and_evaluate pid=5242)\u001b[0m  To get the checkpoint\n",
      "\u001b[36m(launch_and_fit pid=5161)\u001b[0m \tTrain Epoch: 10 \tTrain_loss_mri: 0.0261 | Train_acc_mri: 99.6875 | Train_loss_dna: 1.2700 | Train_acc_dna: 52.2917 | Validation_loss_mri: 1.8480 | Validation_acc_mri: 57.2917 | Validation_loss_dna: 2.2082 | Validation_acc_dna: 29.1667\u001b[32m [repeated 3x across cluster]\u001b[0m\n",
      "\u001b[36m(launch_and_fit pid=5161)\u001b[0m save graph in  results/FL/\n",
      "\u001b[36m(launch_and_evaluate pid=5242)\u001b[0m [Client 4] evaluate, config: {}\n",
      "\u001b[36m(launch_and_evaluate pid=5242)\u001b[0m Updated model\n"
     ]
    },
    {
     "name": "stderr",
     "output_type": "stream",
     "text": [
      "\u001b[36m(launch_and_evaluate pid=5242)\u001b[0m /opt/conda/lib/python3.10/site-packages/sklearn/metrics/_ranking.py:1029: UndefinedMetricWarning: No positive samples in y_true, true positive value should be meaningless\n",
      "\u001b[36m(launch_and_evaluate pid=5242)\u001b[0m   warnings.warn(\n",
      "100%|\u001b[34m██████████\u001b[0m| 10/10 [00:39<00:00,  3.99s/it]\u001b[32m [repeated 3x across cluster]\u001b[0m\n"
     ]
    },
    {
     "name": "stdout",
     "output_type": "stream",
     "text": [
      "\u001b[36m(launch_and_evaluate pid=5313)\u001b[0m Run WITHOUT homomorphic encryption\u001b[32m [repeated 2x across cluster]\u001b[0m\n",
      "\u001b[36m(launch_and_evaluate pid=5313)\u001b[0m  To get the checkpoint\u001b[32m [repeated 2x across cluster]\u001b[0m\n",
      "\u001b[36m(launch_and_evaluate pid=5243)\u001b[0m [Client 1] evaluate, config: {}\n",
      "\u001b[36m(launch_and_evaluate pid=5243)\u001b[0m Updated model\n",
      "\u001b[36m(launch_and_evaluate pid=5315)\u001b[0m [Client 7] evaluate, config: {}\n",
      "\u001b[36m(launch_and_evaluate pid=5315)\u001b[0m Updated model\n",
      "\u001b[36m(launch_and_evaluate pid=5383)\u001b[0m Run WITHOUT homomorphic encryption\u001b[32m [repeated 2x across cluster]\u001b[0m\n",
      "\u001b[36m(launch_and_evaluate pid=5383)\u001b[0m  To get the checkpoint\u001b[32m [repeated 2x across cluster]\u001b[0m\n",
      "\u001b[36m(launch_and_evaluate pid=5313)\u001b[0m [Client 6] evaluate, config: {}\n",
      "\u001b[36m(launch_and_evaluate pid=5313)\u001b[0m Updated model\n",
      "\u001b[36m(launch_and_evaluate pid=5383)\u001b[0m [Client 9] evaluate, config: {}\n",
      "\u001b[36m(launch_and_evaluate pid=5383)\u001b[0m Updated model\n"
     ]
    },
    {
     "name": "stderr",
     "output_type": "stream",
     "text": [
      "\u001b[36m(launch_and_evaluate pid=5383)\u001b[0m /opt/conda/lib/python3.10/site-packages/sklearn/metrics/_ranking.py:1029: UndefinedMetricWarning: No positive samples in y_true, true positive value should be meaningless\n",
      "\u001b[36m(launch_and_evaluate pid=5383)\u001b[0m   warnings.warn(\n"
     ]
    },
    {
     "name": "stdout",
     "output_type": "stream",
     "text": [
      "\u001b[36m(launch_and_evaluate pid=5453)\u001b[0m Run WITHOUT homomorphic encryption\u001b[32m [repeated 2x across cluster]\u001b[0m\n",
      "\u001b[36m(launch_and_evaluate pid=5453)\u001b[0m  To get the checkpoint\u001b[32m [repeated 2x across cluster]\u001b[0m\n",
      "\u001b[36m(launch_and_evaluate pid=5385)\u001b[0m [Client 3] evaluate, config: {}\n",
      "\u001b[36m(launch_and_evaluate pid=5385)\u001b[0m Updated model\n",
      "\u001b[36m(launch_and_evaluate pid=5453)\u001b[0m [Client 0] evaluate, config: {}\n",
      "\u001b[36m(launch_and_evaluate pid=5453)\u001b[0m Updated model\n",
      "\u001b[36m(launch_and_evaluate pid=5523)\u001b[0m Run WITHOUT homomorphic encryption\u001b[32m [repeated 2x across cluster]\u001b[0m\n",
      "\u001b[36m(launch_and_evaluate pid=5523)\u001b[0m  To get the checkpoint\u001b[32m [repeated 2x across cluster]\u001b[0m\n",
      "\u001b[36m(launch_and_evaluate pid=5455)\u001b[0m [Client 2] evaluate, config: {}\n",
      "\u001b[36m(launch_and_evaluate pid=5455)\u001b[0m Updated model\n",
      "\u001b[36m(launch_and_evaluate pid=5523)\u001b[0m [Client 5] evaluate, config: {}\n",
      "\u001b[36m(launch_and_evaluate pid=5523)\u001b[0m Updated model\n"
     ]
    },
    {
     "name": "stderr",
     "output_type": "stream",
     "text": [
      "\u001b[36m(launch_and_evaluate pid=5525)\u001b[0m /opt/conda/lib/python3.10/site-packages/sklearn/metrics/_ranking.py:1029: UndefinedMetricWarning: No positive samples in y_true, true positive value should be meaningless\n",
      "\u001b[36m(launch_and_evaluate pid=5525)\u001b[0m   warnings.warn(\n",
      "DEBUG flwr 2024-08-05 11:38:28,211 | server.py:187 | evaluate_round 7 received 10 results and 0 failures\n",
      "DEBUG flwr 2024-08-05 11:38:28,212 | server.py:222 | fit_round 8: strategy sampled 10 clients (out of 10)\n"
     ]
    },
    {
     "name": "stdout",
     "output_type": "stream",
     "text": [
      "\u001b[36m(launch_and_fit pid=5602)\u001b[0m Run WITHOUT homomorphic encryption\u001b[32m [repeated 2x across cluster]\u001b[0m\n",
      "\u001b[36m(launch_and_fit pid=5602)\u001b[0m  To get the checkpoint\u001b[32m [repeated 2x across cluster]\u001b[0m\n",
      "\u001b[36m(launch_and_evaluate pid=5525)\u001b[0m [Client 8] evaluate, config: {}\n",
      "\u001b[36m(launch_and_evaluate pid=5525)\u001b[0m Updated model\n",
      "\u001b[36m(launch_and_fit pid=5602)\u001b[0m [Client 6, round 8] fit, config: {'learning_rate': 0.003, 'batch_size': '32', 'server_round': 8, 'local_epochs': 10}\n",
      "\u001b[36m(launch_and_fit pid=5602)\u001b[0m Updated model\n"
     ]
    },
    {
     "name": "stderr",
     "output_type": "stream",
     "text": [
      "  0%|\u001b[34m          \u001b[0m| 0/10 [00:00<?, ?it/s]\n"
     ]
    },
    {
     "name": "stdout",
     "output_type": "stream",
     "text": [
      "\u001b[36m(launch_and_fit pid=5602)\u001b[0m \tTrain Epoch: 1 \tTrain_loss_mri: 0.4267 | Train_acc_mri: 88.3218 | Train_loss_dna: 1.6606 | Train_acc_dna: 37.9051 | Validation_loss_mri: 1.0944 | Validation_acc_mri: 52.6042 | Validation_loss_dna: 1.6922 | Validation_acc_dna: 48.9583\n"
     ]
    },
    {
     "name": "stderr",
     "output_type": "stream",
     "text": [
      " 10%|\u001b[34m█         \u001b[0m| 1/10 [00:04<00:39,  4.39s/it]\n"
     ]
    },
    {
     "name": "stdout",
     "output_type": "stream",
     "text": [
      "\u001b[36m(launch_and_fit pid=5603)\u001b[0m Run WITHOUT homomorphic encryption\n",
      "\u001b[36m(launch_and_fit pid=5603)\u001b[0m  To get the checkpoint\n",
      "\u001b[36m(launch_and_fit pid=5603)\u001b[0m [Client 3, round 8] fit, config: {'learning_rate': 0.003, 'batch_size': '32', 'server_round': 8, 'local_epochs': 10}\n",
      "\u001b[36m(launch_and_fit pid=5603)\u001b[0m Updated model\n"
     ]
    },
    {
     "name": "stderr",
     "output_type": "stream",
     "text": [
      "  0%|\u001b[34m          \u001b[0m| 0/10 [00:00<?, ?it/s]\n"
     ]
    },
    {
     "name": "stdout",
     "output_type": "stream",
     "text": [
      "\u001b[36m(launch_and_fit pid=5602)\u001b[0m \tTrain Epoch: 3 \tTrain_loss_mri: 0.1111 | Train_acc_mri: 96.5046 | Train_loss_dna: 1.4998 | Train_acc_dna: 44.1088 | Validation_loss_mri: 0.8808 | Validation_acc_mri: 72.3958 | Validation_loss_dna: 1.7690 | Validation_acc_dna: 48.9583\u001b[32m [repeated 4x across cluster]\u001b[0m\n"
     ]
    },
    {
     "name": "stderr",
     "output_type": "stream",
     "text": [
      " 30%|\u001b[34m███       \u001b[0m| 3/10 [00:12<00:29,  4.19s/it]\u001b[32m [repeated 4x across cluster]\u001b[0m\n"
     ]
    },
    {
     "name": "stdout",
     "output_type": "stream",
     "text": [
      "\u001b[36m(launch_and_fit pid=5602)\u001b[0m \tTrain Epoch: 5 \tTrain_loss_mri: 0.1229 | Train_acc_mri: 97.8125 | Train_loss_dna: 1.4151 | Train_acc_dna: 44.5602 | Validation_loss_mri: 0.9583 | Validation_acc_mri: 72.3958 | Validation_loss_dna: 1.9072 | Validation_acc_dna: 48.9583\u001b[32m [repeated 4x across cluster]\u001b[0m\n"
     ]
    },
    {
     "name": "stderr",
     "output_type": "stream",
     "text": [
      " 50%|\u001b[34m█████     \u001b[0m| 5/10 [00:20<00:20,  4.15s/it]\u001b[32m [repeated 4x across cluster]\u001b[0m\n"
     ]
    },
    {
     "name": "stdout",
     "output_type": "stream",
     "text": [
      "\u001b[36m(launch_and_fit pid=5602)\u001b[0m \tTrain Epoch: 7 \tTrain_loss_mri: 0.0307 | Train_acc_mri: 99.6875 | Train_loss_dna: 1.3651 | Train_acc_dna: 49.0509 | Validation_loss_mri: 1.2330 | Validation_acc_mri: 72.3958 | Validation_loss_dna: 1.8705 | Validation_acc_dna: 30.7292\u001b[32m [repeated 4x across cluster]\u001b[0m\n"
     ]
    },
    {
     "name": "stderr",
     "output_type": "stream",
     "text": [
      " 70%|\u001b[34m███████   \u001b[0m| 7/10 [00:28<00:12,  4.02s/it]\u001b[32m [repeated 4x across cluster]\u001b[0m\n"
     ]
    },
    {
     "name": "stdout",
     "output_type": "stream",
     "text": [
      "\u001b[36m(launch_and_fit pid=5602)\u001b[0m \tTrain Epoch: 9 \tTrain_loss_mri: 0.0550 | Train_acc_mri: 99.3171 | Train_loss_dna: 1.3163 | Train_acc_dna: 50.0116 | Validation_loss_mri: 1.2891 | Validation_acc_mri: 70.8333 | Validation_loss_dna: 1.9023 | Validation_acc_dna: 24.4792\u001b[32m [repeated 4x across cluster]\u001b[0m\n"
     ]
    },
    {
     "name": "stderr",
     "output_type": "stream",
     "text": [
      " 90%|\u001b[34m█████████ \u001b[0m| 9/10 [00:36<00:03,  3.94s/it]\u001b[32m [repeated 4x across cluster]\u001b[0m\n"
     ]
    },
    {
     "name": "stdout",
     "output_type": "stream",
     "text": [
      "\u001b[36m(launch_and_fit pid=5602)\u001b[0m save graph in  results/FL/\n",
      "\u001b[36m(launch_and_fit pid=5677)\u001b[0m Run WITHOUT homomorphic encryption\n",
      "\u001b[36m(launch_and_fit pid=5677)\u001b[0m  To get the checkpoint\n",
      "\u001b[36m(launch_and_fit pid=5603)\u001b[0m \tTrain Epoch: 10 \tTrain_loss_mri: 0.0562 | Train_acc_mri: 99.3750 | Train_loss_dna: 1.2152 | Train_acc_dna: 52.6852 | Validation_loss_mri: 0.7737 | Validation_acc_mri: 87.5000 | Validation_loss_dna: 2.9521 | Validation_acc_dna: 35.4167\u001b[32m [repeated 3x across cluster]\u001b[0m\n",
      "\u001b[36m(launch_and_fit pid=5603)\u001b[0m save graph in  results/FL/\n"
     ]
    },
    {
     "name": "stderr",
     "output_type": "stream",
     "text": [
      "  0%|\u001b[34m          \u001b[0m| 0/10 [00:00<?, ?it/s]\n",
      "100%|\u001b[34m██████████\u001b[0m| 10/10 [00:41<00:00,  4.12s/it]\u001b[32m [repeated 3x across cluster]\u001b[0m\n"
     ]
    },
    {
     "name": "stdout",
     "output_type": "stream",
     "text": [
      "\u001b[36m(launch_and_fit pid=5677)\u001b[0m [Client 1, round 8] fit, config: {'learning_rate': 0.003, 'batch_size': '32', 'server_round': 8, 'local_epochs': 10}\n",
      "\u001b[36m(launch_and_fit pid=5677)\u001b[0m Updated model\n",
      "\u001b[36m(launch_and_fit pid=5678)\u001b[0m Run WITHOUT homomorphic encryption\n",
      "\u001b[36m(launch_and_fit pid=5678)\u001b[0m  To get the checkpoint\n",
      "\u001b[36m(launch_and_fit pid=5678)\u001b[0m \tTrain Epoch: 1 \tTrain_loss_mri: 0.4987 | Train_acc_mri: 83.5185 | Train_loss_dna: 1.8034 | Train_acc_dna: 31.2037 | Validation_loss_mri: 0.4772 | Validation_acc_mri: 89.0625 | Validation_loss_dna: 1.4917 | Validation_acc_dna: 43.2292\u001b[32m [repeated 2x across cluster]\u001b[0m\n"
     ]
    },
    {
     "name": "stderr",
     "output_type": "stream",
     "text": [
      "  0%|\u001b[34m          \u001b[0m| 0/10 [00:00<?, ?it/s]\n",
      " 20%|\u001b[34m██        \u001b[0m| 2/10 [00:08<00:33,  4.15s/it]\u001b[32m [repeated 3x across cluster]\u001b[0m\n"
     ]
    },
    {
     "name": "stdout",
     "output_type": "stream",
     "text": [
      "\u001b[36m(launch_and_fit pid=5678)\u001b[0m [Client 4, round 8] fit, config: {'learning_rate': 0.003, 'batch_size': '32', 'server_round': 8, 'local_epochs': 10}\n",
      "\u001b[36m(launch_and_fit pid=5678)\u001b[0m Updated model\n",
      "\u001b[36m(launch_and_fit pid=5677)\u001b[0m \tTrain Epoch: 3 \tTrain_loss_mri: 0.0922 | Train_acc_mri: 96.5046 | Train_loss_dna: 1.5782 | Train_acc_dna: 40.6944 | Validation_loss_mri: 3.1485 | Validation_acc_mri: 64.5833 | Validation_loss_dna: 2.3272 | Validation_acc_dna: 17.1875\u001b[32m [repeated 3x across cluster]\u001b[0m\n"
     ]
    },
    {
     "name": "stderr",
     "output_type": "stream",
     "text": [
      " 40%|\u001b[34m████      \u001b[0m| 4/10 [00:16<00:24,  4.05s/it]\u001b[32m [repeated 4x across cluster]\u001b[0m\n"
     ]
    },
    {
     "name": "stdout",
     "output_type": "stream",
     "text": [
      "\u001b[36m(launch_and_fit pid=5677)\u001b[0m \tTrain Epoch: 5 \tTrain_loss_mri: 0.0286 | Train_acc_mri: 99.6875 | Train_loss_dna: 1.4866 | Train_acc_dna: 39.6991 | Validation_loss_mri: 4.0694 | Validation_acc_mri: 67.7083 | Validation_loss_dna: 2.7337 | Validation_acc_dna: 14.0625\u001b[32m [repeated 4x across cluster]\u001b[0m\n"
     ]
    },
    {
     "name": "stderr",
     "output_type": "stream",
     "text": [
      " 60%|\u001b[34m██████    \u001b[0m| 6/10 [00:24<00:15,  3.98s/it]\u001b[32m [repeated 4x across cluster]\u001b[0m\n"
     ]
    },
    {
     "name": "stdout",
     "output_type": "stream",
     "text": [
      "\u001b[36m(launch_and_fit pid=5678)\u001b[0m \tTrain Epoch: 7 \tTrain_loss_mri: 0.0519 | Train_acc_mri: 98.4375 | Train_loss_dna: 1.2990 | Train_acc_dna: 52.7431 | Validation_loss_mri: 0.7571 | Validation_acc_mri: 87.5000 | Validation_loss_dna: 1.4718 | Validation_acc_dna: 41.6667\u001b[32m [repeated 4x across cluster]\u001b[0m\n"
     ]
    },
    {
     "name": "stderr",
     "output_type": "stream",
     "text": [
      " 80%|\u001b[34m████████  \u001b[0m| 8/10 [00:32<00:07,  3.96s/it]\u001b[32m [repeated 4x across cluster]\u001b[0m\n"
     ]
    },
    {
     "name": "stdout",
     "output_type": "stream",
     "text": [
      "\u001b[36m(launch_and_fit pid=5678)\u001b[0m \tTrain Epoch: 9 \tTrain_loss_mri: 0.0477 | Train_acc_mri: 99.3750 | Train_loss_dna: 1.2532 | Train_acc_dna: 52.9630 | Validation_loss_mri: 0.4056 | Validation_acc_mri: 87.5000 | Validation_loss_dna: 1.6569 | Validation_acc_dna: 35.4167\u001b[32m [repeated 4x across cluster]\u001b[0m\n",
      "\u001b[36m(launch_and_fit pid=5678)\u001b[0m save graph in  results/FL/\n"
     ]
    },
    {
     "name": "stderr",
     "output_type": "stream",
     "text": [
      "100%|\u001b[34m██████████\u001b[0m| 10/10 [00:39<00:00,  4.00s/it]\u001b[32m [repeated 4x across cluster]\u001b[0m\n"
     ]
    },
    {
     "name": "stdout",
     "output_type": "stream",
     "text": [
      "\u001b[36m(launch_and_fit pid=5750)\u001b[0m Run WITHOUT homomorphic encryption\n",
      "\u001b[36m(launch_and_fit pid=5750)\u001b[0m  To get the checkpoint\n",
      "\u001b[36m(launch_and_fit pid=5677)\u001b[0m \tTrain Epoch: 10 \tTrain_loss_mri: 0.0349 | Train_acc_mri: 99.0046 | Train_loss_dna: 1.1818 | Train_acc_dna: 54.3056 | Validation_loss_mri: 5.6488 | Validation_acc_mri: 66.1458 | Validation_loss_dna: 3.2176 | Validation_acc_dna: 17.1875\u001b[32m [repeated 3x across cluster]\u001b[0m\n",
      "\u001b[36m(launch_and_fit pid=5677)\u001b[0m save graph in  results/FL/\n",
      "\u001b[36m(launch_and_fit pid=5750)\u001b[0m [Client 5, round 8] fit, config: {'learning_rate': 0.003, 'batch_size': '32', 'server_round': 8, 'local_epochs': 10}\n",
      "\u001b[36m(launch_and_fit pid=5750)\u001b[0m Updated model\n"
     ]
    },
    {
     "name": "stderr",
     "output_type": "stream",
     "text": [
      "  0%|\u001b[34m          \u001b[0m| 0/10 [00:00<?, ?it/s]\n",
      "100%|\u001b[34m██████████\u001b[0m| 10/10 [00:40<00:00,  4.07s/it]\n",
      " 10%|\u001b[34m█         \u001b[0m| 1/10 [00:04<00:41,  4.56s/it]\n"
     ]
    },
    {
     "name": "stdout",
     "output_type": "stream",
     "text": [
      "\u001b[36m(launch_and_fit pid=5752)\u001b[0m Run WITHOUT homomorphic encryption\n",
      "\u001b[36m(launch_and_fit pid=5752)\u001b[0m  To get the checkpoint\n",
      "\u001b[36m(launch_and_fit pid=5752)\u001b[0m \tTrain Epoch: 1 \tTrain_loss_mri: 0.3846 | Train_acc_mri: 88.5764 | Train_loss_dna: 1.6684 | Train_acc_dna: 37.9977 | Validation_loss_mri: 0.7292 | Validation_acc_mri: 72.3958 | Validation_loss_dna: 1.8335 | Validation_acc_dna: 14.0625\u001b[32m [repeated 2x across cluster]\u001b[0m\n"
     ]
    },
    {
     "name": "stderr",
     "output_type": "stream",
     "text": [
      "  0%|\u001b[34m          \u001b[0m| 0/10 [00:00<?, ?it/s]\n"
     ]
    },
    {
     "name": "stdout",
     "output_type": "stream",
     "text": [
      "\u001b[36m(launch_and_fit pid=5752)\u001b[0m [Client 8, round 8] fit, config: {'learning_rate': 0.003, 'batch_size': '32', 'server_round': 8, 'local_epochs': 10}\n",
      "\u001b[36m(launch_and_fit pid=5752)\u001b[0m Updated model\n"
     ]
    },
    {
     "name": "stderr",
     "output_type": "stream",
     "text": [
      " 30%|\u001b[34m███       \u001b[0m| 3/10 [00:12<00:28,  4.07s/it]\u001b[32m [repeated 4x across cluster]\u001b[0m\n"
     ]
    },
    {
     "name": "stdout",
     "output_type": "stream",
     "text": [
      "\u001b[36m(launch_and_fit pid=5750)\u001b[0m \tTrain Epoch: 3 \tTrain_loss_mri: 0.1193 | Train_acc_mri: 95.9375 | Train_loss_dna: 1.6587 | Train_acc_dna: 33.1597 | Validation_loss_mri: 3.1308 | Validation_acc_mri: 55.7292 | Validation_loss_dna: 1.7120 | Validation_acc_dna: 14.0625\u001b[32m [repeated 3x across cluster]\u001b[0m\n"
     ]
    },
    {
     "name": "stderr",
     "output_type": "stream",
     "text": [
      " 50%|\u001b[34m█████     \u001b[0m| 5/10 [00:20<00:19,  3.98s/it]\u001b[32m [repeated 4x across cluster]\u001b[0m\n"
     ]
    },
    {
     "name": "stdout",
     "output_type": "stream",
     "text": [
      "\u001b[36m(launch_and_fit pid=5750)\u001b[0m \tTrain Epoch: 5 \tTrain_loss_mri: 0.0602 | Train_acc_mri: 98.4375 | Train_loss_dna: 1.5049 | Train_acc_dna: 42.5116 | Validation_loss_mri: 2.8670 | Validation_acc_mri: 54.1667 | Validation_loss_dna: 1.7295 | Validation_acc_dna: 12.5000\u001b[32m [repeated 4x across cluster]\u001b[0m\n"
     ]
    },
    {
     "name": "stderr",
     "output_type": "stream",
     "text": [
      " 70%|\u001b[34m███████   \u001b[0m| 7/10 [00:28<00:12,  4.05s/it]\u001b[32m [repeated 4x across cluster]\u001b[0m\n"
     ]
    },
    {
     "name": "stdout",
     "output_type": "stream",
     "text": [
      "\u001b[36m(launch_and_fit pid=5750)\u001b[0m \tTrain Epoch: 7 \tTrain_loss_mri: 0.0451 | Train_acc_mri: 98.4375 | Train_loss_dna: 1.3780 | Train_acc_dna: 46.6319 | Validation_loss_mri: 3.6781 | Validation_acc_mri: 52.6042 | Validation_loss_dna: 1.7219 | Validation_acc_dna: 14.0625\u001b[32m [repeated 4x across cluster]\u001b[0m\n"
     ]
    },
    {
     "name": "stderr",
     "output_type": "stream",
     "text": [
      " 90%|\u001b[34m█████████ \u001b[0m| 9/10 [00:36<00:04,  4.13s/it]\u001b[32m [repeated 4x across cluster]\u001b[0m\n"
     ]
    },
    {
     "name": "stdout",
     "output_type": "stream",
     "text": [
      "\u001b[36m(launch_and_fit pid=5750)\u001b[0m \tTrain Epoch: 9 \tTrain_loss_mri: 0.0668 | Train_acc_mri: 98.4375 | Train_loss_dna: 1.2120 | Train_acc_dna: 51.8056 | Validation_loss_mri: 5.4874 | Validation_acc_mri: 34.3750 | Validation_loss_dna: 1.8466 | Validation_acc_dna: 9.3750\u001b[32m [repeated 4x across cluster]\u001b[0m\n",
      "\u001b[36m(launch_and_fit pid=5750)\u001b[0m save graph in  results/FL/\n",
      "\u001b[36m(launch_and_fit pid=5824)\u001b[0m Run WITHOUT homomorphic encryption\n",
      "\u001b[36m(launch_and_fit pid=5824)\u001b[0m  To get the checkpoint\n",
      "\u001b[36m(launch_and_fit pid=5752)\u001b[0m \tTrain Epoch: 10 \tTrain_loss_mri: 0.0654 | Train_acc_mri: 98.4375 | Train_loss_dna: 1.1607 | Train_acc_dna: 56.4352 | Validation_loss_mri: 0.9803 | Validation_acc_mri: 73.9583 | Validation_loss_dna: 2.1225 | Validation_acc_dna: 20.3125\u001b[32m [repeated 3x across cluster]\u001b[0m\n",
      "\u001b[36m(launch_and_fit pid=5752)\u001b[0m save graph in  results/FL/\n",
      "\u001b[36m(launch_and_fit pid=5824)\u001b[0m [Client 2, round 8] fit, config: {'learning_rate': 0.003, 'batch_size': '32', 'server_round': 8, 'local_epochs': 10}\n",
      "\u001b[36m(launch_and_fit pid=5824)\u001b[0m Updated model\n"
     ]
    },
    {
     "name": "stderr",
     "output_type": "stream",
     "text": [
      "  0%|\u001b[34m          \u001b[0m| 0/10 [00:00<?, ?it/s]\n",
      "100%|\u001b[34m██████████\u001b[0m| 10/10 [00:41<00:00,  4.12s/it]\u001b[32m [repeated 3x across cluster]\u001b[0m\n"
     ]
    },
    {
     "name": "stdout",
     "output_type": "stream",
     "text": [
      "\u001b[36m(launch_and_fit pid=5849)\u001b[0m Run WITHOUT homomorphic encryption\n",
      "\u001b[36m(launch_and_fit pid=5849)\u001b[0m  To get the checkpoint\n",
      "\u001b[36m(launch_and_fit pid=5824)\u001b[0m \tTrain Epoch: 1 \tTrain_loss_mri: 0.5437 | Train_acc_mri: 82.1528 | Train_loss_dna: 1.6909 | Train_acc_dna: 36.4352 | Validation_loss_mri: 0.4642 | Validation_acc_mri: 87.5000 | Validation_loss_dna: 1.7001 | Validation_acc_dna: 27.6042\n",
      "\u001b[36m(launch_and_fit pid=5849)\u001b[0m \tTrain Epoch: 1 \tTrain_loss_mri: 0.3827 | Train_acc_mri: 87.2106 | Train_loss_dna: 1.7405 | Train_acc_dna: 34.3866 | Validation_loss_mri: 0.3527 | Validation_acc_mri: 89.0625 | Validation_loss_dna: 2.1517 | Validation_acc_dna: 17.1875\n",
      "\u001b[36m(launch_and_fit pid=5849)\u001b[0m [Client 0, round 8] fit, config: {'learning_rate': 0.003, 'batch_size': '32', 'server_round': 8, 'local_epochs': 10}\n"
     ]
    },
    {
     "name": "stderr",
     "output_type": "stream",
     "text": [
      "  0%|\u001b[34m          \u001b[0m| 0/10 [00:00<?, ?it/s]\n",
      " 20%|\u001b[34m██        \u001b[0m| 2/10 [00:08<00:34,  4.34s/it]\u001b[32m [repeated 3x across cluster]\u001b[0m\n"
     ]
    },
    {
     "name": "stdout",
     "output_type": "stream",
     "text": [
      "\u001b[36m(launch_and_fit pid=5849)\u001b[0m Updated model\n",
      "\u001b[36m(launch_and_fit pid=5824)\u001b[0m \tTrain Epoch: 3 \tTrain_loss_mri: 0.1335 | Train_acc_mri: 95.5093 | Train_loss_dna: 1.5807 | Train_acc_dna: 40.2662 | Validation_loss_mri: 0.4515 | Validation_acc_mri: 84.3750 | Validation_loss_dna: 1.5989 | Validation_acc_dna: 22.9167\u001b[32m [repeated 3x across cluster]\u001b[0m\n"
     ]
    },
    {
     "name": "stderr",
     "output_type": "stream",
     "text": [
      " 40%|\u001b[34m████      \u001b[0m| 4/10 [00:17<00:25,  4.21s/it]\u001b[32m [repeated 4x across cluster]\u001b[0m\n"
     ]
    },
    {
     "name": "stdout",
     "output_type": "stream",
     "text": [
      "\u001b[36m(launch_and_fit pid=5824)\u001b[0m \tTrain Epoch: 5 \tTrain_loss_mri: 0.0533 | Train_acc_mri: 98.4375 | Train_loss_dna: 1.4445 | Train_acc_dna: 46.0648 | Validation_loss_mri: 0.5159 | Validation_acc_mri: 81.2500 | Validation_loss_dna: 1.5282 | Validation_acc_dna: 42.7083\u001b[32m [repeated 4x across cluster]\u001b[0m\n"
     ]
    },
    {
     "name": "stderr",
     "output_type": "stream",
     "text": [
      " 60%|\u001b[34m██████    \u001b[0m| 6/10 [00:25<00:16,  4.11s/it]\u001b[32m [repeated 4x across cluster]\u001b[0m\n"
     ]
    },
    {
     "name": "stdout",
     "output_type": "stream",
     "text": [
      "\u001b[36m(launch_and_fit pid=5824)\u001b[0m \tTrain Epoch: 7 \tTrain_loss_mri: 0.0283 | Train_acc_mri: 99.6875 | Train_loss_dna: 1.2935 | Train_acc_dna: 53.1944 | Validation_loss_mri: 0.4402 | Validation_acc_mri: 85.9375 | Validation_loss_dna: 1.6232 | Validation_acc_dna: 42.7083\u001b[32m [repeated 4x across cluster]\u001b[0m\n"
     ]
    },
    {
     "name": "stderr",
     "output_type": "stream",
     "text": [
      " 80%|\u001b[34m████████  \u001b[0m| 8/10 [00:33<00:08,  4.05s/it]\u001b[32m [repeated 4x across cluster]\u001b[0m\n"
     ]
    },
    {
     "name": "stdout",
     "output_type": "stream",
     "text": [
      "\u001b[36m(launch_and_fit pid=5849)\u001b[0m \tTrain Epoch: 9 \tTrain_loss_mri: 0.0301 | Train_acc_mri: 99.6875 | Train_loss_dna: 1.1111 | Train_acc_dna: 54.5370 | Validation_loss_mri: 0.4210 | Validation_acc_mri: 89.0625 | Validation_loss_dna: 2.2131 | Validation_acc_dna: 18.7500\u001b[32m [repeated 4x across cluster]\u001b[0m\n"
     ]
    },
    {
     "name": "stderr",
     "output_type": "stream",
     "text": [
      "100%|\u001b[34m██████████\u001b[0m| 10/10 [00:40<00:00,  4.08s/it]\u001b[32m [repeated 4x across cluster]\u001b[0m\n"
     ]
    },
    {
     "name": "stdout",
     "output_type": "stream",
     "text": [
      "\u001b[36m(launch_and_fit pid=5849)\u001b[0m save graph in  results/FL/\n",
      "\u001b[36m(launch_and_fit pid=5898)\u001b[0m Run WITHOUT homomorphic encryption\n",
      "\u001b[36m(launch_and_fit pid=5898)\u001b[0m  To get the checkpoint\n",
      "\u001b[36m(launch_and_fit pid=5824)\u001b[0m \tTrain Epoch: 10 \tTrain_loss_mri: 0.0195 | Train_acc_mri: 100.0000 | Train_loss_dna: 1.0866 | Train_acc_dna: 60.0463 | Validation_loss_mri: 0.4685 | Validation_acc_mri: 87.5000 | Validation_loss_dna: 1.9450 | Validation_acc_dna: 24.4792\u001b[32m [repeated 3x across cluster]\u001b[0m\n",
      "\u001b[36m(launch_and_fit pid=5824)\u001b[0m save graph in  results/FL/\n"
     ]
    },
    {
     "name": "stderr",
     "output_type": "stream",
     "text": [
      "  0%|\u001b[34m          \u001b[0m| 0/10 [00:00<?, ?it/s]\n",
      "100%|\u001b[34m██████████\u001b[0m| 10/10 [00:41<00:00,  4.15s/it]\n"
     ]
    },
    {
     "name": "stdout",
     "output_type": "stream",
     "text": [
      "\u001b[36m(launch_and_fit pid=5898)\u001b[0m [Client 9, round 8] fit, config: {'learning_rate': 0.003, 'batch_size': '32', 'server_round': 8, 'local_epochs': 10}\n",
      "\u001b[36m(launch_and_fit pid=5898)\u001b[0m Updated model\n"
     ]
    },
    {
     "name": "stderr",
     "output_type": "stream",
     "text": [
      " 10%|\u001b[34m█         \u001b[0m| 1/10 [00:04<00:39,  4.40s/it]\n"
     ]
    },
    {
     "name": "stdout",
     "output_type": "stream",
     "text": [
      "\u001b[36m(launch_and_fit pid=5900)\u001b[0m Run WITHOUT homomorphic encryption\n",
      "\u001b[36m(launch_and_fit pid=5900)\u001b[0m  To get the checkpoint\n",
      "\u001b[36m(launch_and_fit pid=5900)\u001b[0m \tTrain Epoch: 1 \tTrain_loss_mri: 0.4433 | Train_acc_mri: 83.6343 | Train_loss_dna: 1.7590 | Train_acc_dna: 32.0833 | Validation_loss_mri: 0.7977 | Validation_acc_mri: 66.1458 | Validation_loss_dna: 1.3922 | Validation_acc_dna: 48.9583\u001b[32m [repeated 2x across cluster]\u001b[0m\n"
     ]
    },
    {
     "name": "stderr",
     "output_type": "stream",
     "text": [
      "  0%|\u001b[34m          \u001b[0m| 0/10 [00:00<?, ?it/s]\n"
     ]
    },
    {
     "name": "stdout",
     "output_type": "stream",
     "text": [
      "\u001b[36m(launch_and_fit pid=5900)\u001b[0m [Client 7, round 8] fit, config: {'learning_rate': 0.003, 'batch_size': '32', 'server_round': 8, 'local_epochs': 10}\n",
      "\u001b[36m(launch_and_fit pid=5900)\u001b[0m Updated model\n"
     ]
    },
    {
     "name": "stderr",
     "output_type": "stream",
     "text": [
      " 30%|\u001b[34m███       \u001b[0m| 3/10 [00:12<00:28,  4.08s/it]\u001b[32m [repeated 4x across cluster]\u001b[0m\n"
     ]
    },
    {
     "name": "stdout",
     "output_type": "stream",
     "text": [
      "\u001b[36m(launch_and_fit pid=5898)\u001b[0m \tTrain Epoch: 3 \tTrain_loss_mri: 0.1137 | Train_acc_mri: 95.9173 | Train_loss_dna: 1.5072 | Train_acc_dna: 41.3609 | Validation_loss_mri: 0.5749 | Validation_acc_mri: 81.2500 | Validation_loss_dna: 1.5520 | Validation_acc_dna: 36.9792\u001b[32m [repeated 3x across cluster]\u001b[0m\n"
     ]
    },
    {
     "name": "stderr",
     "output_type": "stream",
     "text": [
      " 50%|\u001b[34m█████     \u001b[0m| 5/10 [00:20<00:20,  4.09s/it]\u001b[32m [repeated 4x across cluster]\u001b[0m\n"
     ]
    },
    {
     "name": "stdout",
     "output_type": "stream",
     "text": [
      "\u001b[36m(launch_and_fit pid=5898)\u001b[0m \tTrain Epoch: 5 \tTrain_loss_mri: 0.0675 | Train_acc_mri: 99.3750 | Train_loss_dna: 1.4096 | Train_acc_dna: 45.1310 | Validation_loss_mri: 0.6612 | Validation_acc_mri: 84.3750 | Validation_loss_dna: 1.4491 | Validation_acc_dna: 36.9792\u001b[32m [repeated 4x across cluster]\u001b[0m\n"
     ]
    },
    {
     "name": "stderr",
     "output_type": "stream",
     "text": [
      " 70%|\u001b[34m███████   \u001b[0m| 7/10 [00:28<00:12,  4.01s/it]\u001b[32m [repeated 4x across cluster]\u001b[0m\n"
     ]
    },
    {
     "name": "stdout",
     "output_type": "stream",
     "text": [
      "\u001b[36m(launch_and_fit pid=5898)\u001b[0m \tTrain Epoch: 7 \tTrain_loss_mri: 0.0474 | Train_acc_mri: 99.0625 | Train_loss_dna: 1.3199 | Train_acc_dna: 47.9738 | Validation_loss_mri: 0.7020 | Validation_acc_mri: 81.2500 | Validation_loss_dna: 1.6752 | Validation_acc_dna: 48.9583\u001b[32m [repeated 4x across cluster]\u001b[0m\n"
     ]
    },
    {
     "name": "stderr",
     "output_type": "stream",
     "text": [
      " 90%|\u001b[34m█████████ \u001b[0m| 9/10 [00:36<00:03,  3.97s/it]\u001b[32m [repeated 4x across cluster]\u001b[0m\n"
     ]
    },
    {
     "name": "stdout",
     "output_type": "stream",
     "text": [
      "\u001b[36m(launch_and_fit pid=5898)\u001b[0m \tTrain Epoch: 9 \tTrain_loss_mri: 0.0434 | Train_acc_mri: 99.0524 | Train_loss_dna: 1.2056 | Train_acc_dna: 52.0565 | Validation_loss_mri: 0.5622 | Validation_acc_mri: 87.5000 | Validation_loss_dna: 1.6510 | Validation_acc_dna: 50.5208\u001b[32m [repeated 4x across cluster]\u001b[0m\n",
      "\u001b[36m(launch_and_fit pid=5898)\u001b[0m save graph in  results/FL/\n"
     ]
    },
    {
     "name": "stderr",
     "output_type": "stream",
     "text": [
      "DEBUG flwr 2024-08-05 11:42:55,590 | server.py:236 | fit_round 8 received 10 results and 0 failures\n"
     ]
    },
    {
     "name": "stdout",
     "output_type": "stream",
     "text": [
      "Saving round 8 aggregated_parameters...\n",
      "Updated model\n"
     ]
    },
    {
     "name": "stderr",
     "output_type": "stream",
     "text": [
      "INFO flwr 2024-08-05 11:43:02,026 | server.py:125 | fit progress: (8, (0.885848058121545, 1.8548432162829809), {'accuracy': (77.86458333333333, 26.5625)}, 2641.1611760690002)\n",
      "DEBUG flwr 2024-08-05 11:43:02,027 | server.py:173 | evaluate_round 8: strategy sampled 10 clients (out of 10)\n"
     ]
    },
    {
     "name": "stdout",
     "output_type": "stream",
     "text": [
      "Server-side evaluation MRI loss 0.885848058121545 / MRI accuracy 77.86458333333333\n",
      "Server-side evaluation DNA loss 1.8548432162829809 / DNA accuracy 26.5625\n",
      "\u001b[36m(launch_and_evaluate pid=5982)\u001b[0m Run WITHOUT homomorphic encryption\n",
      "\u001b[36m(launch_and_evaluate pid=5982)\u001b[0m  To get the checkpoint\n",
      "\u001b[36m(launch_and_fit pid=5900)\u001b[0m \tTrain Epoch: 10 \tTrain_loss_mri: 0.0350 | Train_acc_mri: 98.7500 | Train_loss_dna: 1.1446 | Train_acc_dna: 51.7477 | Validation_loss_mri: 0.4754 | Validation_acc_mri: 89.0625 | Validation_loss_dna: 1.4663 | Validation_acc_dna: 50.5208\u001b[32m [repeated 3x across cluster]\u001b[0m\n",
      "\u001b[36m(launch_and_fit pid=5900)\u001b[0m save graph in  results/FL/\n",
      "\u001b[36m(launch_and_evaluate pid=5982)\u001b[0m [Client 6] evaluate, config: {}\n",
      "\u001b[36m(launch_and_evaluate pid=5982)\u001b[0m Updated model\n",
      "\u001b[36m(launch_and_evaluate pid=6052)\u001b[0m Run WITHOUT homomorphic encryption\u001b[32m [repeated 2x across cluster]\u001b[0m\n",
      "\u001b[36m(launch_and_evaluate pid=6052)\u001b[0m  To get the checkpoint\u001b[32m [repeated 2x across cluster]\u001b[0m\n",
      "\u001b[36m(launch_and_evaluate pid=5981)\u001b[0m [Client 2] evaluate, config: {}\n",
      "\u001b[36m(launch_and_evaluate pid=5981)\u001b[0m Updated model\n",
      "\u001b[36m(launch_and_evaluate pid=6052)\u001b[0m [Client 5] evaluate, config: {}\n",
      "\u001b[36m(launch_and_evaluate pid=6052)\u001b[0m Updated model\n"
     ]
    },
    {
     "name": "stderr",
     "output_type": "stream",
     "text": [
      "\u001b[36m(launch_and_evaluate pid=6054)\u001b[0m /opt/conda/lib/python3.10/site-packages/sklearn/metrics/_ranking.py:1029: UndefinedMetricWarning: No positive samples in y_true, true positive value should be meaningless\n",
      "\u001b[36m(launch_and_evaluate pid=6054)\u001b[0m   warnings.warn(\n",
      "100%|\u001b[34m██████████\u001b[0m| 10/10 [00:40<00:00,  4.07s/it]\u001b[32m [repeated 3x across cluster]\u001b[0m\n"
     ]
    },
    {
     "name": "stdout",
     "output_type": "stream",
     "text": [
      "\u001b[36m(launch_and_evaluate pid=6123)\u001b[0m Run WITHOUT homomorphic encryption\u001b[32m [repeated 2x across cluster]\u001b[0m\n",
      "\u001b[36m(launch_and_evaluate pid=6123)\u001b[0m  To get the checkpoint\u001b[32m [repeated 2x across cluster]\u001b[0m\n",
      "\u001b[36m(launch_and_evaluate pid=6054)\u001b[0m [Client 9] evaluate, config: {}\n",
      "\u001b[36m(launch_and_evaluate pid=6054)\u001b[0m Updated model\n",
      "\u001b[36m(launch_and_evaluate pid=6123)\u001b[0m [Client 4] evaluate, config: {}\n",
      "\u001b[36m(launch_and_evaluate pid=6123)\u001b[0m Updated model\n"
     ]
    },
    {
     "name": "stderr",
     "output_type": "stream",
     "text": [
      "\u001b[36m(launch_and_evaluate pid=6123)\u001b[0m /opt/conda/lib/python3.10/site-packages/sklearn/metrics/_ranking.py:1029: UndefinedMetricWarning: No positive samples in y_true, true positive value should be meaningless\n",
      "\u001b[36m(launch_and_evaluate pid=6123)\u001b[0m   warnings.warn(\n"
     ]
    },
    {
     "name": "stdout",
     "output_type": "stream",
     "text": [
      "\u001b[36m(launch_and_evaluate pid=6193)\u001b[0m Run WITHOUT homomorphic encryption\u001b[32m [repeated 2x across cluster]\u001b[0m\n",
      "\u001b[36m(launch_and_evaluate pid=6193)\u001b[0m  To get the checkpoint\u001b[32m [repeated 2x across cluster]\u001b[0m\n",
      "\u001b[36m(launch_and_evaluate pid=6125)\u001b[0m [Client 1] evaluate, config: {}\n",
      "\u001b[36m(launch_and_evaluate pid=6125)\u001b[0m Updated model\n",
      "\u001b[36m(launch_and_evaluate pid=6193)\u001b[0m [Client 8] evaluate, config: {}\n",
      "\u001b[36m(launch_and_evaluate pid=6193)\u001b[0m Updated model\n"
     ]
    },
    {
     "name": "stderr",
     "output_type": "stream",
     "text": [
      "\u001b[36m(launch_and_evaluate pid=6193)\u001b[0m /opt/conda/lib/python3.10/site-packages/sklearn/metrics/_ranking.py:1029: UndefinedMetricWarning: No positive samples in y_true, true positive value should be meaningless\n",
      "\u001b[36m(launch_and_evaluate pid=6193)\u001b[0m   warnings.warn(\n"
     ]
    },
    {
     "name": "stdout",
     "output_type": "stream",
     "text": [
      "\u001b[36m(launch_and_evaluate pid=6263)\u001b[0m Run WITHOUT homomorphic encryption\u001b[32m [repeated 2x across cluster]\u001b[0m\n",
      "\u001b[36m(launch_and_evaluate pid=6263)\u001b[0m  To get the checkpoint\u001b[32m [repeated 2x across cluster]\u001b[0m\n",
      "\u001b[36m(launch_and_evaluate pid=6195)\u001b[0m [Client 7] evaluate, config: {}\n",
      "\u001b[36m(launch_and_evaluate pid=6195)\u001b[0m Updated model\n",
      "\u001b[36m(launch_and_evaluate pid=6263)\u001b[0m [Client 3] evaluate, config: {}\n",
      "\u001b[36m(launch_and_evaluate pid=6263)\u001b[0m Updated model\n"
     ]
    },
    {
     "name": "stderr",
     "output_type": "stream",
     "text": [
      "DEBUG flwr 2024-08-05 11:44:10,762 | server.py:187 | evaluate_round 8 received 10 results and 0 failures\n",
      "DEBUG flwr 2024-08-05 11:44:10,763 | server.py:222 | fit_round 9: strategy sampled 10 clients (out of 10)\n"
     ]
    },
    {
     "name": "stdout",
     "output_type": "stream",
     "text": [
      "\u001b[36m(launch_and_fit pid=6343)\u001b[0m Run WITHOUT homomorphic encryption\u001b[32m [repeated 2x across cluster]\u001b[0m\n",
      "\u001b[36m(launch_and_fit pid=6343)\u001b[0m  To get the checkpoint\u001b[32m [repeated 2x across cluster]\u001b[0m\n",
      "\u001b[36m(launch_and_evaluate pid=6265)\u001b[0m [Client 0] evaluate, config: {}\n",
      "\u001b[36m(launch_and_evaluate pid=6265)\u001b[0m Updated model\n",
      "\u001b[36m(launch_and_fit pid=6342)\u001b[0m [Client 7, round 9] fit, config: {'learning_rate': 0.003, 'batch_size': '32', 'server_round': 9, 'local_epochs': 10}\n",
      "\u001b[36m(launch_and_fit pid=6342)\u001b[0m Updated model\n"
     ]
    },
    {
     "name": "stderr",
     "output_type": "stream",
     "text": [
      "  0%|\u001b[34m          \u001b[0m| 0/10 [00:00<?, ?it/s]\n"
     ]
    },
    {
     "name": "stdout",
     "output_type": "stream",
     "text": [
      "\u001b[36m(launch_and_fit pid=6342)\u001b[0m \tTrain Epoch: 1 \tTrain_loss_mri: 0.4258 | Train_acc_mri: 85.6481 | Train_loss_dna: 1.7521 | Train_acc_dna: 34.3287 | Validation_loss_mri: 0.2467 | Validation_acc_mri: 95.3125 | Validation_loss_dna: 1.3917 | Validation_acc_dna: 50.5208\n"
     ]
    },
    {
     "name": "stderr",
     "output_type": "stream",
     "text": [
      " 10%|\u001b[34m█         \u001b[0m| 1/10 [00:04<00:39,  4.44s/it]\n"
     ]
    },
    {
     "name": "stdout",
     "output_type": "stream",
     "text": [
      "\u001b[36m(launch_and_fit pid=6342)\u001b[0m Run WITHOUT homomorphic encryption\n",
      "\u001b[36m(launch_and_fit pid=6342)\u001b[0m  To get the checkpoint\n",
      "\u001b[36m(launch_and_fit pid=6343)\u001b[0m [Client 8, round 9] fit, config: {'learning_rate': 0.003, 'batch_size': '32', 'server_round': 9, 'local_epochs': 10}\n",
      "\u001b[36m(launch_and_fit pid=6343)\u001b[0m Updated model\n"
     ]
    },
    {
     "name": "stderr",
     "output_type": "stream",
     "text": [
      "  0%|\u001b[34m          \u001b[0m| 0/10 [00:00<?, ?it/s]\n"
     ]
    },
    {
     "name": "stdout",
     "output_type": "stream",
     "text": [
      "\u001b[36m(launch_and_fit pid=6342)\u001b[0m \tTrain Epoch: 3 \tTrain_loss_mri: 0.1239 | Train_acc_mri: 96.5046 | Train_loss_dna: 1.3868 | Train_acc_dna: 45.2431 | Validation_loss_mri: 0.3075 | Validation_acc_mri: 89.0625 | Validation_loss_dna: 1.3236 | Validation_acc_dna: 48.9583\u001b[32m [repeated 4x across cluster]\u001b[0m\n"
     ]
    },
    {
     "name": "stderr",
     "output_type": "stream",
     "text": [
      " 30%|\u001b[34m███       \u001b[0m| 3/10 [00:12<00:28,  4.07s/it]\u001b[32m [repeated 4x across cluster]\u001b[0m\n"
     ]
    },
    {
     "name": "stdout",
     "output_type": "stream",
     "text": [
      "\u001b[36m(launch_and_fit pid=6342)\u001b[0m \tTrain Epoch: 5 \tTrain_loss_mri: 0.0375 | Train_acc_mri: 99.3750 | Train_loss_dna: 1.2811 | Train_acc_dna: 48.6227 | Validation_loss_mri: 0.3019 | Validation_acc_mri: 92.1875 | Validation_loss_dna: 1.3811 | Validation_acc_dna: 55.2083\u001b[32m [repeated 4x across cluster]\u001b[0m\n"
     ]
    },
    {
     "name": "stderr",
     "output_type": "stream",
     "text": [
      " 50%|\u001b[34m█████     \u001b[0m| 5/10 [00:20<00:20,  4.18s/it]\u001b[32m [repeated 4x across cluster]\u001b[0m\n"
     ]
    },
    {
     "name": "stdout",
     "output_type": "stream",
     "text": [
      "\u001b[36m(launch_and_fit pid=6342)\u001b[0m \tTrain Epoch: 7 \tTrain_loss_mri: 0.0525 | Train_acc_mri: 99.3750 | Train_loss_dna: 1.1059 | Train_acc_dna: 57.1181 | Validation_loss_mri: 0.4484 | Validation_acc_mri: 89.0625 | Validation_loss_dna: 1.5249 | Validation_acc_dna: 58.3333\u001b[32m [repeated 4x across cluster]\u001b[0m\n"
     ]
    },
    {
     "name": "stderr",
     "output_type": "stream",
     "text": [
      " 70%|\u001b[34m███████   \u001b[0m| 7/10 [00:29<00:12,  4.14s/it]\u001b[32m [repeated 4x across cluster]\u001b[0m\n"
     ]
    },
    {
     "name": "stdout",
     "output_type": "stream",
     "text": [
      "\u001b[36m(launch_and_fit pid=6342)\u001b[0m \tTrain Epoch: 9 \tTrain_loss_mri: 0.0891 | Train_acc_mri: 97.1875 | Train_loss_dna: 1.0434 | Train_acc_dna: 56.9213 | Validation_loss_mri: 0.4280 | Validation_acc_mri: 93.7500 | Validation_loss_dna: 1.7896 | Validation_acc_dna: 36.9792\u001b[32m [repeated 4x across cluster]\u001b[0m\n"
     ]
    },
    {
     "name": "stderr",
     "output_type": "stream",
     "text": [
      " 90%|\u001b[34m█████████ \u001b[0m| 9/10 [00:37<00:04,  4.09s/it]\u001b[32m [repeated 4x across cluster]\u001b[0m\n"
     ]
    },
    {
     "name": "stdout",
     "output_type": "stream",
     "text": [
      "\u001b[36m(launch_and_fit pid=6342)\u001b[0m save graph in  results/FL/\n",
      "\u001b[36m(launch_and_fit pid=6417)\u001b[0m Run WITHOUT homomorphic encryption\n",
      "\u001b[36m(launch_and_fit pid=6417)\u001b[0m  To get the checkpoint\n",
      "\u001b[36m(launch_and_fit pid=6343)\u001b[0m \tTrain Epoch: 10 \tTrain_loss_mri: 0.0677 | Train_acc_mri: 98.1250 | Train_loss_dna: 0.9512 | Train_acc_dna: 62.0370 | Validation_loss_mri: 0.9669 | Validation_acc_mri: 70.8333 | Validation_loss_dna: 2.0492 | Validation_acc_dna: 17.1875\u001b[32m [repeated 3x across cluster]\u001b[0m\n",
      "\u001b[36m(launch_and_fit pid=6343)\u001b[0m save graph in  results/FL/\n"
     ]
    },
    {
     "name": "stderr",
     "output_type": "stream",
     "text": [
      "  0%|\u001b[34m          \u001b[0m| 0/10 [00:00<?, ?it/s]\n",
      "100%|\u001b[34m██████████\u001b[0m| 10/10 [00:41<00:00,  4.16s/it]\u001b[32m [repeated 3x across cluster]\u001b[0m\n"
     ]
    },
    {
     "name": "stdout",
     "output_type": "stream",
     "text": [
      "\u001b[36m(launch_and_fit pid=6417)\u001b[0m [Client 4, round 9] fit, config: {'learning_rate': 0.003, 'batch_size': '32', 'server_round': 9, 'local_epochs': 10}\n",
      "\u001b[36m(launch_and_fit pid=6417)\u001b[0m Updated model\n"
     ]
    },
    {
     "name": "stderr",
     "output_type": "stream",
     "text": [
      "  0%|\u001b[34m          \u001b[0m| 0/10 [00:00<?, ?it/s]\n",
      " 10%|\u001b[34m█         \u001b[0m| 1/10 [00:04<00:40,  4.50s/it]\u001b[32m [repeated 2x across cluster]\u001b[0m\n"
     ]
    },
    {
     "name": "stdout",
     "output_type": "stream",
     "text": [
      "\u001b[36m(launch_and_fit pid=6419)\u001b[0m Run WITHOUT homomorphic encryption\n",
      "\u001b[36m(launch_and_fit pid=6419)\u001b[0m  To get the checkpoint\n",
      "\u001b[36m(launch_and_fit pid=6419)\u001b[0m \tTrain Epoch: 1 \tTrain_loss_mri: 0.2838 | Train_acc_mri: 92.3843 | Train_loss_dna: 1.6682 | Train_acc_dna: 41.6898 | Validation_loss_mri: 1.1162 | Validation_acc_mri: 73.9583 | Validation_loss_dna: 1.7695 | Validation_acc_dna: 48.9583\u001b[32m [repeated 2x across cluster]\u001b[0m\n",
      "\u001b[36m(launch_and_fit pid=6419)\u001b[0m [Client 6, round 9] fit, config: {'learning_rate': 0.003, 'batch_size': '32', 'server_round': 9, 'local_epochs': 10}\n",
      "\u001b[36m(launch_and_fit pid=6419)\u001b[0m Updated model\n"
     ]
    },
    {
     "name": "stderr",
     "output_type": "stream",
     "text": [
      " 30%|\u001b[34m███       \u001b[0m| 3/10 [00:12<00:27,  3.97s/it]\u001b[32m [repeated 3x across cluster]\u001b[0m\n"
     ]
    },
    {
     "name": "stdout",
     "output_type": "stream",
     "text": [
      "\u001b[36m(launch_and_fit pid=6417)\u001b[0m \tTrain Epoch: 3 \tTrain_loss_mri: 0.1083 | Train_acc_mri: 96.8750 | Train_loss_dna: 1.3203 | Train_acc_dna: 48.7037 | Validation_loss_mri: 0.4192 | Validation_acc_mri: 87.5000 | Validation_loss_dna: 1.6696 | Validation_acc_dna: 41.6667\u001b[32m [repeated 3x across cluster]\u001b[0m\n"
     ]
    },
    {
     "name": "stderr",
     "output_type": "stream",
     "text": [
      " 50%|\u001b[34m█████     \u001b[0m| 5/10 [00:19<00:19,  3.91s/it]\u001b[32m [repeated 4x across cluster]\u001b[0m\n"
     ]
    },
    {
     "name": "stdout",
     "output_type": "stream",
     "text": [
      "\u001b[36m(launch_and_fit pid=6417)\u001b[0m \tTrain Epoch: 5 \tTrain_loss_mri: 0.0440 | Train_acc_mri: 98.4375 | Train_loss_dna: 1.1747 | Train_acc_dna: 55.0694 | Validation_loss_mri: 0.4593 | Validation_acc_mri: 89.0625 | Validation_loss_dna: 1.5208 | Validation_acc_dna: 44.7917\u001b[32m [repeated 4x across cluster]\u001b[0m\n"
     ]
    },
    {
     "name": "stderr",
     "output_type": "stream",
     "text": [
      " 70%|\u001b[34m███████   \u001b[0m| 7/10 [00:28<00:12,  4.01s/it]\u001b[32m [repeated 4x across cluster]\u001b[0m\n"
     ]
    },
    {
     "name": "stdout",
     "output_type": "stream",
     "text": [
      "\u001b[36m(launch_and_fit pid=6417)\u001b[0m \tTrain Epoch: 7 \tTrain_loss_mri: 0.0449 | Train_acc_mri: 99.3171 | Train_loss_dna: 0.9886 | Train_acc_dna: 61.2963 | Validation_loss_mri: 0.6626 | Validation_acc_mri: 89.0625 | Validation_loss_dna: 1.4366 | Validation_acc_dna: 47.9167\u001b[32m [repeated 4x across cluster]\u001b[0m\n"
     ]
    },
    {
     "name": "stderr",
     "output_type": "stream",
     "text": [
      " 90%|\u001b[34m█████████ \u001b[0m| 9/10 [00:35<00:03,  3.94s/it]\u001b[32m [repeated 4x across cluster]\u001b[0m\n"
     ]
    },
    {
     "name": "stdout",
     "output_type": "stream",
     "text": [
      "\u001b[36m(launch_and_fit pid=6417)\u001b[0m \tTrain Epoch: 9 \tTrain_loss_mri: 0.0426 | Train_acc_mri: 99.3750 | Train_loss_dna: 0.8907 | Train_acc_dna: 63.9120 | Validation_loss_mri: 0.7743 | Validation_acc_mri: 85.9375 | Validation_loss_dna: 1.4525 | Validation_acc_dna: 41.6667\u001b[32m [repeated 4x across cluster]\u001b[0m\n",
      "\u001b[36m(launch_and_fit pid=6417)\u001b[0m save graph in  results/FL/\n",
      "\u001b[36m(launch_and_fit pid=6491)\u001b[0m Run WITHOUT homomorphic encryption\n",
      "\u001b[36m(launch_and_fit pid=6491)\u001b[0m  To get the checkpoint\n",
      "\u001b[36m(launch_and_fit pid=6419)\u001b[0m \tTrain Epoch: 10 \tTrain_loss_mri: 0.0531 | Train_acc_mri: 97.8125 | Train_loss_dna: 0.7939 | Train_acc_dna: 70.9028 | Validation_loss_mri: 1.9620 | Validation_acc_mri: 73.9583 | Validation_loss_dna: 3.4810 | Validation_acc_dna: 10.9375\u001b[32m [repeated 3x across cluster]\u001b[0m\n",
      "\u001b[36m(launch_and_fit pid=6419)\u001b[0m save graph in  results/FL/\n"
     ]
    },
    {
     "name": "stderr",
     "output_type": "stream",
     "text": [
      "  0%|\u001b[34m          \u001b[0m| 0/10 [00:00<?, ?it/s]\n",
      "100%|\u001b[34m██████████\u001b[0m| 10/10 [00:39<00:00,  4.00s/it]\u001b[32m [repeated 3x across cluster]\u001b[0m\n"
     ]
    },
    {
     "name": "stdout",
     "output_type": "stream",
     "text": [
      "\u001b[36m(launch_and_fit pid=6491)\u001b[0m [Client 5, round 9] fit, config: {'learning_rate': 0.003, 'batch_size': '32', 'server_round': 9, 'local_epochs': 10}\n",
      "\u001b[36m(launch_and_fit pid=6491)\u001b[0m Updated model\n",
      "\u001b[36m(launch_and_fit pid=6516)\u001b[0m Run WITHOUT homomorphic encryption\n",
      "\u001b[36m(launch_and_fit pid=6516)\u001b[0m  To get the checkpoint\n",
      "\u001b[36m(launch_and_fit pid=6491)\u001b[0m \tTrain Epoch: 1 \tTrain_loss_mri: 0.2191 | Train_acc_mri: 91.1343 | Train_loss_dna: 1.7398 | Train_acc_dna: 31.5162 | Validation_loss_mri: 1.4316 | Validation_acc_mri: 57.2917 | Validation_loss_dna: 1.9770 | Validation_acc_dna: 36.9792\n",
      "\u001b[36m(launch_and_fit pid=6516)\u001b[0m \tTrain Epoch: 1 \tTrain_loss_mri: 0.2177 | Train_acc_mri: 93.7500 | Train_loss_dna: 1.7033 | Train_acc_dna: 34.8380 | Validation_loss_mri: 0.4836 | Validation_acc_mri: 72.3958 | Validation_loss_dna: 2.3379 | Validation_acc_dna: 18.7500\n",
      "\u001b[36m(launch_and_fit pid=6516)\u001b[0m [Client 0, round 9] fit, config: {'learning_rate': 0.003, 'batch_size': '32', 'server_round': 9, 'local_epochs': 10}\n",
      "\u001b[36m(launch_and_fit pid=6516)\u001b[0m Updated model\n"
     ]
    },
    {
     "name": "stderr",
     "output_type": "stream",
     "text": [
      "  0%|\u001b[34m          \u001b[0m| 0/10 [00:00<?, ?it/s]\n",
      " 10%|\u001b[34m█         \u001b[0m| 1/10 [00:04<00:42,  4.71s/it]\u001b[32m [repeated 2x across cluster]\u001b[0m\n",
      " 30%|\u001b[34m███       \u001b[0m| 3/10 [00:12<00:29,  4.19s/it]\u001b[32m [repeated 3x across cluster]\u001b[0m\n"
     ]
    },
    {
     "name": "stdout",
     "output_type": "stream",
     "text": [
      "\u001b[36m(launch_and_fit pid=6491)\u001b[0m \tTrain Epoch: 3 \tTrain_loss_mri: 0.0762 | Train_acc_mri: 97.8125 | Train_loss_dna: 1.3708 | Train_acc_dna: 46.5509 | Validation_loss_mri: 1.7721 | Validation_acc_mri: 54.1667 | Validation_loss_dna: 1.6991 | Validation_acc_dna: 32.2917\u001b[32m [repeated 3x across cluster]\u001b[0m\n",
      "\u001b[36m(launch_and_fit pid=6516)\u001b[0m \tTrain Epoch: 4 \tTrain_loss_mri: 0.0786 | Train_acc_mri: 97.6968 | Train_loss_dna: 1.1506 | Train_acc_dna: 53.5648 | Validation_loss_mri: 0.5945 | Validation_acc_mri: 70.8333 | Validation_loss_dna: 2.3403 | Validation_acc_dna: 18.7500\u001b[32m [repeated 3x across cluster]\u001b[0m\n"
     ]
    },
    {
     "name": "stderr",
     "output_type": "stream",
     "text": [
      " 40%|\u001b[34m████      \u001b[0m| 4/10 [00:16<00:24,  4.15s/it]\u001b[32m [repeated 3x across cluster]\u001b[0m\n",
      " 60%|\u001b[34m██████    \u001b[0m| 6/10 [00:25<00:16,  4.12s/it]\u001b[32m [repeated 3x across cluster]\u001b[0m\n"
     ]
    },
    {
     "name": "stdout",
     "output_type": "stream",
     "text": [
      "\u001b[36m(launch_and_fit pid=6491)\u001b[0m \tTrain Epoch: 6 \tTrain_loss_mri: 0.1153 | Train_acc_mri: 95.3935 | Train_loss_dna: 1.1110 | Train_acc_dna: 54.5602 | Validation_loss_mri: 3.5300 | Validation_acc_mri: 39.0625 | Validation_loss_dna: 2.1197 | Validation_acc_dna: 15.6250\u001b[32m [repeated 3x across cluster]\u001b[0m\n",
      "\u001b[36m(launch_and_fit pid=6516)\u001b[0m \tTrain Epoch: 7 \tTrain_loss_mri: 0.0379 | Train_acc_mri: 99.0625 | Train_loss_dna: 0.9853 | Train_acc_dna: 58.3681 | Validation_loss_mri: 0.7227 | Validation_acc_mri: 84.3750 | Validation_loss_dna: 2.6294 | Validation_acc_dna: 15.6250\u001b[32m [repeated 3x across cluster]\u001b[0m\n"
     ]
    },
    {
     "name": "stderr",
     "output_type": "stream",
     "text": [
      " 70%|\u001b[34m███████   \u001b[0m| 7/10 [00:29<00:12,  4.09s/it]\u001b[32m [repeated 3x across cluster]\u001b[0m\n",
      " 90%|\u001b[34m█████████ \u001b[0m| 9/10 [00:37<00:04,  4.05s/it]\u001b[32m [repeated 3x across cluster]\u001b[0m\n"
     ]
    },
    {
     "name": "stdout",
     "output_type": "stream",
     "text": [
      "\u001b[36m(launch_and_fit pid=6491)\u001b[0m \tTrain Epoch: 9 \tTrain_loss_mri: 0.0675 | Train_acc_mri: 98.1250 | Train_loss_dna: 0.9539 | Train_acc_dna: 63.0324 | Validation_loss_mri: 3.1758 | Validation_acc_mri: 54.1667 | Validation_loss_dna: 2.1357 | Validation_acc_dna: 14.0625\u001b[32m [repeated 3x across cluster]\u001b[0m\n",
      "\u001b[36m(launch_and_fit pid=6491)\u001b[0m save graph in  results/FL/\n",
      "\u001b[36m(launch_and_fit pid=6516)\u001b[0m \tTrain Epoch: 10 \tTrain_loss_mri: 0.1053 | Train_acc_mri: 97.5000 | Train_loss_dna: 0.9390 | Train_acc_dna: 60.7870 | Validation_loss_mri: 0.5836 | Validation_acc_mri: 87.5000 | Validation_loss_dna: 2.4409 | Validation_acc_dna: 12.5000\u001b[32m [repeated 3x across cluster]\u001b[0m\n"
     ]
    },
    {
     "name": "stderr",
     "output_type": "stream",
     "text": [
      "100%|\u001b[34m██████████\u001b[0m| 10/10 [00:41<00:00,  4.15s/it]\u001b[32m [repeated 3x across cluster]\u001b[0m\n"
     ]
    },
    {
     "name": "stdout",
     "output_type": "stream",
     "text": [
      "\u001b[36m(launch_and_fit pid=6565)\u001b[0m Run WITHOUT homomorphic encryption\n",
      "\u001b[36m(launch_and_fit pid=6565)\u001b[0m  To get the checkpoint\n",
      "\u001b[36m(launch_and_fit pid=6516)\u001b[0m save graph in  results/FL/\n"
     ]
    },
    {
     "name": "stderr",
     "output_type": "stream",
     "text": [
      "  0%|\u001b[34m          \u001b[0m| 0/10 [00:00<?, ?it/s]\n"
     ]
    },
    {
     "name": "stdout",
     "output_type": "stream",
     "text": [
      "\u001b[36m(launch_and_fit pid=6565)\u001b[0m [Client 9, round 9] fit, config: {'learning_rate': 0.003, 'batch_size': '32', 'server_round': 9, 'local_epochs': 10}\n",
      "\u001b[36m(launch_and_fit pid=6565)\u001b[0m Updated model\n"
     ]
    },
    {
     "name": "stderr",
     "output_type": "stream",
     "text": [
      " 10%|\u001b[34m█         \u001b[0m| 1/10 [00:04<00:40,  4.52s/it]\n"
     ]
    },
    {
     "name": "stdout",
     "output_type": "stream",
     "text": [
      "\u001b[36m(launch_and_fit pid=6565)\u001b[0m \tTrain Epoch: 1 \tTrain_loss_mri: 0.3452 | Train_acc_mri: 90.5847 | Train_loss_dna: 1.6607 | Train_acc_dna: 37.2883 | Validation_loss_mri: 0.5734 | Validation_acc_mri: 87.5000 | Validation_loss_dna: 1.6877 | Validation_acc_dna: 36.9792\n"
     ]
    },
    {
     "name": "stderr",
     "output_type": "stream",
     "text": [
      "  0%|\u001b[34m          \u001b[0m| 0/10 [00:00<?, ?it/s]\n"
     ]
    },
    {
     "name": "stdout",
     "output_type": "stream",
     "text": [
      "\u001b[36m(launch_and_fit pid=6590)\u001b[0m Run WITHOUT homomorphic encryption\n",
      "\u001b[36m(launch_and_fit pid=6590)\u001b[0m  To get the checkpoint\n",
      "\u001b[36m(launch_and_fit pid=6590)\u001b[0m [Client 3, round 9] fit, config: {'learning_rate': 0.003, 'batch_size': '32', 'server_round': 9, 'local_epochs': 10}\n",
      "\u001b[36m(launch_and_fit pid=6590)\u001b[0m Updated model\n"
     ]
    },
    {
     "name": "stderr",
     "output_type": "stream",
     "text": [
      " 30%|\u001b[34m███       \u001b[0m| 3/10 [00:12<00:28,  4.04s/it]\u001b[32m [repeated 4x across cluster]\u001b[0m\n"
     ]
    },
    {
     "name": "stdout",
     "output_type": "stream",
     "text": [
      "\u001b[36m(launch_and_fit pid=6565)\u001b[0m \tTrain Epoch: 3 \tTrain_loss_mri: 0.1562 | Train_acc_mri: 95.6149 | Train_loss_dna: 1.3441 | Train_acc_dna: 46.9758 | Validation_loss_mri: 0.4549 | Validation_acc_mri: 84.3750 | Validation_loss_dna: 1.7120 | Validation_acc_dna: 36.9792\u001b[32m [repeated 4x across cluster]\u001b[0m\n"
     ]
    },
    {
     "name": "stderr",
     "output_type": "stream",
     "text": [
      " 40%|\u001b[34m████      \u001b[0m| 4/10 [00:16<00:25,  4.20s/it]\u001b[32m [repeated 3x across cluster]\u001b[0m\n"
     ]
    },
    {
     "name": "stdout",
     "output_type": "stream",
     "text": [
      "\u001b[36m(launch_and_fit pid=6590)\u001b[0m \tTrain Epoch: 4 \tTrain_loss_mri: 0.1193 | Train_acc_mri: 97.5000 | Train_loss_dna: 1.2876 | Train_acc_dna: 49.5833 | Validation_loss_mri: 0.5720 | Validation_acc_mri: 89.0625 | Validation_loss_dna: 3.1474 | Validation_acc_dna: 21.8750\u001b[32m [repeated 3x across cluster]\u001b[0m\n"
     ]
    },
    {
     "name": "stderr",
     "output_type": "stream",
     "text": [
      " 60%|\u001b[34m██████    \u001b[0m| 6/10 [00:24<00:15,  4.00s/it]\u001b[32m [repeated 3x across cluster]\u001b[0m\n"
     ]
    },
    {
     "name": "stdout",
     "output_type": "stream",
     "text": [
      "\u001b[36m(launch_and_fit pid=6565)\u001b[0m \tTrain Epoch: 6 \tTrain_loss_mri: 0.0410 | Train_acc_mri: 99.0625 | Train_loss_dna: 1.0593 | Train_acc_dna: 56.7641 | Validation_loss_mri: 0.8239 | Validation_acc_mri: 82.8125 | Validation_loss_dna: 1.7959 | Validation_acc_dna: 33.8542\u001b[32m [repeated 3x across cluster]\u001b[0m\n"
     ]
    },
    {
     "name": "stderr",
     "output_type": "stream",
     "text": [
      " 70%|\u001b[34m███████   \u001b[0m| 7/10 [00:29<00:12,  4.09s/it]\u001b[32m [repeated 3x across cluster]\u001b[0m\n"
     ]
    },
    {
     "name": "stdout",
     "output_type": "stream",
     "text": [
      "\u001b[36m(launch_and_fit pid=6590)\u001b[0m \tTrain Epoch: 7 \tTrain_loss_mri: 0.0412 | Train_acc_mri: 98.7500 | Train_loss_dna: 1.0739 | Train_acc_dna: 56.0648 | Validation_loss_mri: 0.6158 | Validation_acc_mri: 90.6250 | Validation_loss_dna: 3.7973 | Validation_acc_dna: 14.0625\u001b[32m [repeated 3x across cluster]\u001b[0m\n"
     ]
    },
    {
     "name": "stderr",
     "output_type": "stream",
     "text": [
      " 90%|\u001b[34m█████████ \u001b[0m| 9/10 [00:36<00:03,  3.96s/it]\u001b[32m [repeated 3x across cluster]\u001b[0m\n"
     ]
    },
    {
     "name": "stdout",
     "output_type": "stream",
     "text": [
      "\u001b[36m(launch_and_fit pid=6565)\u001b[0m \tTrain Epoch: 9 \tTrain_loss_mri: 0.0430 | Train_acc_mri: 99.3649 | Train_loss_dna: 0.8944 | Train_acc_dna: 65.1815 | Validation_loss_mri: 0.7645 | Validation_acc_mri: 82.8125 | Validation_loss_dna: 2.6183 | Validation_acc_dna: 30.7292\u001b[32m [repeated 3x across cluster]\u001b[0m\n",
      "\u001b[36m(launch_and_fit pid=6565)\u001b[0m save graph in  results/FL/\n"
     ]
    },
    {
     "name": "stderr",
     "output_type": "stream",
     "text": [
      "100%|\u001b[34m██████████\u001b[0m| 10/10 [00:41<00:00,  4.11s/it]\u001b[32m [repeated 3x across cluster]\u001b[0m\n"
     ]
    },
    {
     "name": "stdout",
     "output_type": "stream",
     "text": [
      "\u001b[36m(launch_and_fit pid=6590)\u001b[0m \tTrain Epoch: 10 \tTrain_loss_mri: 0.0475 | Train_acc_mri: 99.0625 | Train_loss_dna: 0.8440 | Train_acc_dna: 66.7245 | Validation_loss_mri: 0.6881 | Validation_acc_mri: 89.0625 | Validation_loss_dna: 4.4750 | Validation_acc_dna: 23.4375\u001b[32m [repeated 3x across cluster]\u001b[0m\n",
      "\u001b[36m(launch_and_fit pid=6639)\u001b[0m Run WITHOUT homomorphic encryption\n",
      "\u001b[36m(launch_and_fit pid=6639)\u001b[0m  To get the checkpoint\n",
      "\u001b[36m(launch_and_fit pid=6590)\u001b[0m save graph in  results/FL/\n",
      "\u001b[36m(launch_and_fit pid=6639)\u001b[0m [Client 2, round 9] fit, config: {'learning_rate': 0.003, 'batch_size': '32', 'server_round': 9, 'local_epochs': 10}\n",
      "\u001b[36m(launch_and_fit pid=6639)\u001b[0m Updated model\n"
     ]
    },
    {
     "name": "stderr",
     "output_type": "stream",
     "text": [
      "  0%|\u001b[34m          \u001b[0m| 0/10 [00:00<?, ?it/s]\n"
     ]
    },
    {
     "name": "stdout",
     "output_type": "stream",
     "text": [
      "\u001b[36m(launch_and_fit pid=6639)\u001b[0m \tTrain Epoch: 1 \tTrain_loss_mri: 0.3844 | Train_acc_mri: 86.3310 | Train_loss_dna: 1.6595 | Train_acc_dna: 37.5694 | Validation_loss_mri: 0.4996 | Validation_acc_mri: 82.8125 | Validation_loss_dna: 1.7856 | Validation_acc_dna: 29.1667\n",
      "\u001b[36m(launch_and_fit pid=6664)\u001b[0m Run WITHOUT homomorphic encryption\n",
      "\u001b[36m(launch_and_fit pid=6664)\u001b[0m  To get the checkpoint\n"
     ]
    },
    {
     "name": "stderr",
     "output_type": "stream",
     "text": [
      " 10%|\u001b[34m█         \u001b[0m| 1/10 [00:04<00:42,  4.69s/it]\n",
      "  0%|\u001b[34m          \u001b[0m| 0/10 [00:00<?, ?it/s]\n"
     ]
    },
    {
     "name": "stdout",
     "output_type": "stream",
     "text": [
      "\u001b[36m(launch_and_fit pid=6664)\u001b[0m [Client 1, round 9] fit, config: {'learning_rate': 0.003, 'batch_size': '32', 'server_round': 9, 'local_epochs': 10}\n",
      "\u001b[36m(launch_and_fit pid=6664)\u001b[0m Updated model\n"
     ]
    },
    {
     "name": "stderr",
     "output_type": "stream",
     "text": [
      " 20%|\u001b[34m██        \u001b[0m| 2/10 [00:08<00:33,  4.18s/it]\u001b[32m [repeated 3x across cluster]\u001b[0m\n"
     ]
    },
    {
     "name": "stdout",
     "output_type": "stream",
     "text": [
      "\u001b[36m(launch_and_fit pid=6664)\u001b[0m \tTrain Epoch: 2 \tTrain_loss_mri: 0.1388 | Train_acc_mri: 95.2546 | Train_loss_dna: 1.5017 | Train_acc_dna: 40.5787 | Validation_loss_mri: 3.0854 | Validation_acc_mri: 52.6042 | Validation_loss_dna: 2.2952 | Validation_acc_dna: 15.6250\u001b[32m [repeated 3x across cluster]\u001b[0m\n",
      "\u001b[36m(launch_and_fit pid=6639)\u001b[0m \tTrain Epoch: 4 \tTrain_loss_mri: 0.0377 | Train_acc_mri: 98.7500 | Train_loss_dna: 1.2341 | Train_acc_dna: 53.0324 | Validation_loss_mri: 0.3463 | Validation_acc_mri: 89.0625 | Validation_loss_dna: 1.8026 | Validation_acc_dna: 29.1667\u001b[32m [repeated 3x across cluster]\u001b[0m\n"
     ]
    },
    {
     "name": "stderr",
     "output_type": "stream",
     "text": [
      " 40%|\u001b[34m████      \u001b[0m| 4/10 [00:16<00:24,  4.15s/it]\u001b[32m [repeated 3x across cluster]\u001b[0m\n",
      " 50%|\u001b[34m█████     \u001b[0m| 5/10 [00:20<00:19,  3.97s/it]\u001b[32m [repeated 3x across cluster]\u001b[0m\n"
     ]
    },
    {
     "name": "stdout",
     "output_type": "stream",
     "text": [
      "\u001b[36m(launch_and_fit pid=6664)\u001b[0m \tTrain Epoch: 5 \tTrain_loss_mri: 0.0385 | Train_acc_mri: 99.3750 | Train_loss_dna: 1.1812 | Train_acc_dna: 53.8542 | Validation_loss_mri: 5.3622 | Validation_acc_mri: 69.2708 | Validation_loss_dna: 3.2380 | Validation_acc_dna: 12.5000\u001b[32m [repeated 3x across cluster]\u001b[0m\n",
      "\u001b[36m(launch_and_fit pid=6639)\u001b[0m \tTrain Epoch: 7 \tTrain_loss_mri: 0.0758 | Train_acc_mri: 97.7546 | Train_loss_dna: 0.9940 | Train_acc_dna: 60.4977 | Validation_loss_mri: 0.2556 | Validation_acc_mri: 90.6250 | Validation_loss_dna: 2.3748 | Validation_acc_dna: 26.0417\u001b[32m [repeated 3x across cluster]\u001b[0m\n"
     ]
    },
    {
     "name": "stderr",
     "output_type": "stream",
     "text": [
      " 70%|\u001b[34m███████   \u001b[0m| 7/10 [00:29<00:12,  4.17s/it]\u001b[32m [repeated 3x across cluster]\u001b[0m\n"
     ]
    },
    {
     "name": "stdout",
     "output_type": "stream",
     "text": [
      "\u001b[36m(launch_and_fit pid=6639)\u001b[0m \tTrain Epoch: 9 \tTrain_loss_mri: 0.0766 | Train_acc_mri: 98.1250 | Train_loss_dna: 0.8940 | Train_acc_dna: 65.5903 | Validation_loss_mri: 0.4256 | Validation_acc_mri: 89.0625 | Validation_loss_dna: 2.2647 | Validation_acc_dna: 29.1667\u001b[32m [repeated 4x across cluster]\u001b[0m\n"
     ]
    },
    {
     "name": "stderr",
     "output_type": "stream",
     "text": [
      " 90%|\u001b[34m█████████ \u001b[0m| 9/10 [00:37<00:04,  4.13s/it]\u001b[32m [repeated 4x across cluster]\u001b[0m\n"
     ]
    },
    {
     "name": "stdout",
     "output_type": "stream",
     "text": [
      "\u001b[36m(launch_and_fit pid=6639)\u001b[0m save graph in  results/FL/\n"
     ]
    },
    {
     "name": "stderr",
     "output_type": "stream",
     "text": [
      "DEBUG flwr 2024-08-05 11:48:39,082 | server.py:236 | fit_round 9 received 10 results and 0 failures\n"
     ]
    },
    {
     "name": "stdout",
     "output_type": "stream",
     "text": [
      "Saving round 9 aggregated_parameters...\n",
      "Updated model\n"
     ]
    },
    {
     "name": "stderr",
     "output_type": "stream",
     "text": [
      "INFO flwr 2024-08-05 11:48:45,365 | server.py:125 | fit progress: (9, (0.9416320323944092, 2.118772562061037), {'accuracy': (78.75744047619048, 26.971726190476193)}, 2984.500486008)\n",
      "DEBUG flwr 2024-08-05 11:48:45,366 | server.py:173 | evaluate_round 9: strategy sampled 10 clients (out of 10)\n"
     ]
    },
    {
     "name": "stdout",
     "output_type": "stream",
     "text": [
      "Server-side evaluation MRI loss 0.9416320323944092 / MRI accuracy 78.75744047619048\n",
      "Server-side evaluation DNA loss 2.118772562061037 / DNA accuracy 26.971726190476193\n",
      "\u001b[36m(launch_and_evaluate pid=6723)\u001b[0m Run WITHOUT homomorphic encryption\n",
      "\u001b[36m(launch_and_evaluate pid=6723)\u001b[0m  To get the checkpoint\n",
      "\u001b[36m(launch_and_fit pid=6664)\u001b[0m \tTrain Epoch: 10 \tTrain_loss_mri: 0.0920 | Train_acc_mri: 98.1250 | Train_loss_dna: 0.8829 | Train_acc_dna: 66.5278 | Validation_loss_mri: 5.6148 | Validation_acc_mri: 66.1458 | Validation_loss_dna: 3.5965 | Validation_acc_dna: 17.1875\u001b[32m [repeated 3x across cluster]\u001b[0m\n",
      "\u001b[36m(launch_and_fit pid=6664)\u001b[0m save graph in  results/FL/\n",
      "\u001b[36m(launch_and_evaluate pid=6723)\u001b[0m [Client 2] evaluate, config: {}\n",
      "\u001b[36m(launch_and_evaluate pid=6723)\u001b[0m Updated model\n",
      "\u001b[36m(launch_and_evaluate pid=6795)\u001b[0m Run WITHOUT homomorphic encryption\u001b[32m [repeated 2x across cluster]\u001b[0m\n",
      "\u001b[36m(launch_and_evaluate pid=6795)\u001b[0m  To get the checkpoint\u001b[32m [repeated 2x across cluster]\u001b[0m\n",
      "\u001b[36m(launch_and_evaluate pid=6722)\u001b[0m [Client 7] evaluate, config: {}\n",
      "\u001b[36m(launch_and_evaluate pid=6722)\u001b[0m Updated model\n",
      "\u001b[36m(launch_and_evaluate pid=6795)\u001b[0m [Client 4] evaluate, config: {}\n",
      "\u001b[36m(launch_and_evaluate pid=6795)\u001b[0m Updated model\n"
     ]
    },
    {
     "name": "stderr",
     "output_type": "stream",
     "text": [
      "\u001b[36m(launch_and_evaluate pid=6795)\u001b[0m /opt/conda/lib/python3.10/site-packages/sklearn/metrics/_ranking.py:1029: UndefinedMetricWarning: No positive samples in y_true, true positive value should be meaningless\n",
      "\u001b[36m(launch_and_evaluate pid=6795)\u001b[0m   warnings.warn(\n",
      "100%|\u001b[34m██████████\u001b[0m| 10/10 [00:40<00:00,  4.01s/it]\u001b[32m [repeated 3x across cluster]\u001b[0m\n"
     ]
    },
    {
     "name": "stdout",
     "output_type": "stream",
     "text": [
      "\u001b[36m(launch_and_evaluate pid=6868)\u001b[0m Run WITHOUT homomorphic encryption\u001b[32m [repeated 2x across cluster]\u001b[0m\n",
      "\u001b[36m(launch_and_evaluate pid=6868)\u001b[0m  To get the checkpoint\u001b[32m [repeated 2x across cluster]\u001b[0m\n",
      "\u001b[36m(launch_and_evaluate pid=6796)\u001b[0m [Client 8] evaluate, config: {}\n",
      "\u001b[36m(launch_and_evaluate pid=6796)\u001b[0m Updated model\n",
      "\u001b[36m(launch_and_evaluate pid=6868)\u001b[0m [Client 9] evaluate, config: {}\n",
      "\u001b[36m(launch_and_evaluate pid=6868)\u001b[0m Updated model\n"
     ]
    },
    {
     "name": "stderr",
     "output_type": "stream",
     "text": [
      "\u001b[36m(launch_and_evaluate pid=6868)\u001b[0m /opt/conda/lib/python3.10/site-packages/sklearn/metrics/_ranking.py:1029: UndefinedMetricWarning: No positive samples in y_true, true positive value should be meaningless\u001b[32m [repeated 2x across cluster]\u001b[0m\n",
      "\u001b[36m(launch_and_evaluate pid=6868)\u001b[0m   warnings.warn(\u001b[32m [repeated 2x across cluster]\u001b[0m\n"
     ]
    },
    {
     "name": "stdout",
     "output_type": "stream",
     "text": [
      "\u001b[36m(launch_and_evaluate pid=6936)\u001b[0m Run WITHOUT homomorphic encryption\u001b[32m [repeated 2x across cluster]\u001b[0m\n",
      "\u001b[36m(launch_and_evaluate pid=6936)\u001b[0m  To get the checkpoint\u001b[32m [repeated 2x across cluster]\u001b[0m\n",
      "\u001b[36m(launch_and_evaluate pid=6866)\u001b[0m [Client 3] evaluate, config: {}\n",
      "\u001b[36m(launch_and_evaluate pid=6866)\u001b[0m Updated model\n",
      "\u001b[36m(launch_and_evaluate pid=6936)\u001b[0m [Client 5] evaluate, config: {}\n",
      "\u001b[36m(launch_and_evaluate pid=6936)\u001b[0m Updated model\n",
      "\u001b[36m(launch_and_evaluate pid=7006)\u001b[0m Run WITHOUT homomorphic encryption\u001b[32m [repeated 2x across cluster]\u001b[0m\n",
      "\u001b[36m(launch_and_evaluate pid=7006)\u001b[0m  To get the checkpoint\u001b[32m [repeated 2x across cluster]\u001b[0m\n",
      "\u001b[36m(launch_and_evaluate pid=6938)\u001b[0m [Client 6] evaluate, config: {}\n",
      "\u001b[36m(launch_and_evaluate pid=6938)\u001b[0m Updated model\n",
      "\u001b[36m(launch_and_evaluate pid=7006)\u001b[0m [Client 1] evaluate, config: {}\n",
      "\u001b[36m(launch_and_evaluate pid=7006)\u001b[0m Updated model\n"
     ]
    },
    {
     "name": "stderr",
     "output_type": "stream",
     "text": [
      "DEBUG flwr 2024-08-05 11:49:53,744 | server.py:187 | evaluate_round 9 received 10 results and 0 failures\n",
      "DEBUG flwr 2024-08-05 11:49:53,745 | server.py:222 | fit_round 10: strategy sampled 10 clients (out of 10)\n"
     ]
    },
    {
     "name": "stdout",
     "output_type": "stream",
     "text": [
      "\u001b[36m(launch_and_fit pid=7085)\u001b[0m Run WITHOUT homomorphic encryption\u001b[32m [repeated 2x across cluster]\u001b[0m\n",
      "\u001b[36m(launch_and_fit pid=7085)\u001b[0m  To get the checkpoint\u001b[32m [repeated 2x across cluster]\u001b[0m\n",
      "\u001b[36m(launch_and_evaluate pid=7008)\u001b[0m [Client 0] evaluate, config: {}\n",
      "\u001b[36m(launch_and_evaluate pid=7008)\u001b[0m Updated model\n",
      "\u001b[36m(launch_and_fit pid=7085)\u001b[0m [Client 5, round 10] fit, config: {'learning_rate': 0.003, 'batch_size': '32', 'server_round': 10, 'local_epochs': 10}\n",
      "\u001b[36m(launch_and_fit pid=7085)\u001b[0m Updated model\n"
     ]
    },
    {
     "name": "stderr",
     "output_type": "stream",
     "text": [
      "  0%|\u001b[34m          \u001b[0m| 0/10 [00:00<?, ?it/s]\n"
     ]
    },
    {
     "name": "stdout",
     "output_type": "stream",
     "text": [
      "\u001b[36m(launch_and_fit pid=7085)\u001b[0m \tTrain Epoch: 1 \tTrain_loss_mri: 0.1917 | Train_acc_mri: 94.5718 | Train_loss_dna: 1.7663 | Train_acc_dna: 34.4097 | Validation_loss_mri: 1.8283 | Validation_acc_mri: 57.2917 | Validation_loss_dna: 2.0345 | Validation_acc_dna: 14.0625\n"
     ]
    },
    {
     "name": "stderr",
     "output_type": "stream",
     "text": [
      " 10%|\u001b[34m█         \u001b[0m| 1/10 [00:04<00:40,  4.45s/it]\n"
     ]
    },
    {
     "name": "stdout",
     "output_type": "stream",
     "text": [
      "\u001b[36m(launch_and_fit pid=7086)\u001b[0m Run WITHOUT homomorphic encryption\n",
      "\u001b[36m(launch_and_fit pid=7086)\u001b[0m  To get the checkpoint\n",
      "\u001b[36m(launch_and_fit pid=7086)\u001b[0m [Client 9, round 10] fit, config: {'learning_rate': 0.003, 'batch_size': '32', 'server_round': 10, 'local_epochs': 10}\n",
      "\u001b[36m(launch_and_fit pid=7086)\u001b[0m Updated model\n"
     ]
    },
    {
     "name": "stderr",
     "output_type": "stream",
     "text": [
      "  0%|\u001b[34m          \u001b[0m| 0/10 [00:00<?, ?it/s]\n"
     ]
    },
    {
     "name": "stdout",
     "output_type": "stream",
     "text": [
      "\u001b[36m(launch_and_fit pid=7085)\u001b[0m \tTrain Epoch: 3 \tTrain_loss_mri: 0.0961 | Train_acc_mri: 96.5625 | Train_loss_dna: 1.1657 | Train_acc_dna: 53.5648 | Validation_loss_mri: 2.4983 | Validation_acc_mri: 54.1667 | Validation_loss_dna: 2.0354 | Validation_acc_dna: 14.0625\u001b[32m [repeated 4x across cluster]\u001b[0m\n"
     ]
    },
    {
     "name": "stderr",
     "output_type": "stream",
     "text": [
      " 30%|\u001b[34m███       \u001b[0m| 3/10 [00:12<00:28,  4.06s/it]\u001b[32m [repeated 4x across cluster]\u001b[0m\n"
     ]
    },
    {
     "name": "stdout",
     "output_type": "stream",
     "text": [
      "\u001b[36m(launch_and_fit pid=7085)\u001b[0m \tTrain Epoch: 5 \tTrain_loss_mri: 0.0786 | Train_acc_mri: 97.6968 | Train_loss_dna: 0.9242 | Train_acc_dna: 64.1667 | Validation_loss_mri: 1.3559 | Validation_acc_mri: 54.1667 | Validation_loss_dna: 2.2980 | Validation_acc_dna: 12.5000\u001b[32m [repeated 4x across cluster]\u001b[0m\n"
     ]
    },
    {
     "name": "stderr",
     "output_type": "stream",
     "text": [
      " 50%|\u001b[34m█████     \u001b[0m| 5/10 [00:20<00:19,  4.00s/it]\u001b[32m [repeated 4x across cluster]\u001b[0m\n"
     ]
    },
    {
     "name": "stdout",
     "output_type": "stream",
     "text": [
      "\u001b[36m(launch_and_fit pid=7085)\u001b[0m \tTrain Epoch: 7 \tTrain_loss_mri: 0.0467 | Train_acc_mri: 98.6343 | Train_loss_dna: 0.8008 | Train_acc_dna: 69.1667 | Validation_loss_mri: 3.0833 | Validation_acc_mri: 54.1667 | Validation_loss_dna: 2.2984 | Validation_acc_dna: 14.0625\u001b[32m [repeated 4x across cluster]\u001b[0m\n"
     ]
    },
    {
     "name": "stderr",
     "output_type": "stream",
     "text": [
      " 70%|\u001b[34m███████   \u001b[0m| 7/10 [00:28<00:12,  4.06s/it]\u001b[32m [repeated 4x across cluster]\u001b[0m\n"
     ]
    },
    {
     "name": "stdout",
     "output_type": "stream",
     "text": [
      "\u001b[36m(launch_and_fit pid=7086)\u001b[0m \tTrain Epoch: 9 \tTrain_loss_mri: 0.0457 | Train_acc_mri: 98.4375 | Train_loss_dna: 0.6577 | Train_acc_dna: 77.4395 | Validation_loss_mri: 0.6494 | Validation_acc_mri: 85.9375 | Validation_loss_dna: 2.5646 | Validation_acc_dna: 17.1875\u001b[32m [repeated 4x across cluster]\u001b[0m\n"
     ]
    },
    {
     "name": "stderr",
     "output_type": "stream",
     "text": [
      " 90%|\u001b[34m█████████ \u001b[0m| 9/10 [00:36<00:03,  3.93s/it]\u001b[32m [repeated 4x across cluster]\u001b[0m\n"
     ]
    },
    {
     "name": "stdout",
     "output_type": "stream",
     "text": [
      "\u001b[36m(launch_and_fit pid=7086)\u001b[0m save graph in  results/FL/\n",
      "\u001b[36m(launch_and_fit pid=7159)\u001b[0m Run WITHOUT homomorphic encryption\n",
      "\u001b[36m(launch_and_fit pid=7159)\u001b[0m  To get the checkpoint\n",
      "\u001b[36m(launch_and_fit pid=7085)\u001b[0m \tTrain Epoch: 10 \tTrain_loss_mri: 0.0324 | Train_acc_mri: 99.0625 | Train_loss_dna: 0.5966 | Train_acc_dna: 77.6620 | Validation_loss_mri: 3.3239 | Validation_acc_mri: 54.1667 | Validation_loss_dna: 2.5232 | Validation_acc_dna: 29.1667\u001b[32m [repeated 3x across cluster]\u001b[0m\n",
      "\u001b[36m(launch_and_fit pid=7085)\u001b[0m save graph in  results/FL/\n",
      "\u001b[36m(launch_and_fit pid=7159)\u001b[0m [Client 6, round 10] fit, config: {'learning_rate': 0.003, 'batch_size': '32', 'server_round': 10, 'local_epochs': 10}\n",
      "\u001b[36m(launch_and_fit pid=7159)\u001b[0m Updated model\n"
     ]
    },
    {
     "name": "stderr",
     "output_type": "stream",
     "text": [
      "  0%|\u001b[34m          \u001b[0m| 0/10 [00:00<?, ?it/s]\n",
      "100%|\u001b[34m██████████\u001b[0m| 10/10 [00:40<00:00,  4.05s/it]\u001b[32m [repeated 3x across cluster]\u001b[0m\n"
     ]
    },
    {
     "name": "stdout",
     "output_type": "stream",
     "text": [
      "\u001b[36m(launch_and_fit pid=7161)\u001b[0m Run WITHOUT homomorphic encryption\n",
      "\u001b[36m(launch_and_fit pid=7161)\u001b[0m  To get the checkpoint\n",
      "\u001b[36m(launch_and_fit pid=7159)\u001b[0m \tTrain Epoch: 1 \tTrain_loss_mri: 0.3618 | Train_acc_mri: 87.0139 | Train_loss_dna: 1.7170 | Train_acc_dna: 37.3380 | Validation_loss_mri: 0.6477 | Validation_acc_mri: 89.0625 | Validation_loss_dna: 1.7511 | Validation_acc_dna: 45.8333\n",
      "\u001b[36m(launch_and_fit pid=7161)\u001b[0m \tTrain Epoch: 1 \tTrain_loss_mri: 0.3256 | Train_acc_mri: 91.7593 | Train_loss_dna: 1.7346 | Train_acc_dna: 34.7569 | Validation_loss_mri: 0.5425 | Validation_acc_mri: 85.9375 | Validation_loss_dna: 2.3191 | Validation_acc_dna: 30.7292\n",
      "\u001b[36m(launch_and_fit pid=7161)\u001b[0m [Client 0, round 10] fit, config: {'learning_rate': 0.003, 'batch_size': '32', 'server_round': 10, 'local_epochs': 10}\n",
      "\u001b[36m(launch_and_fit pid=7161)\u001b[0m Updated model\n"
     ]
    },
    {
     "name": "stderr",
     "output_type": "stream",
     "text": [
      "  0%|\u001b[34m          \u001b[0m| 0/10 [00:00<?, ?it/s]\n",
      " 10%|\u001b[34m█         \u001b[0m| 1/10 [00:04<00:43,  4.88s/it]\u001b[32m [repeated 2x across cluster]\u001b[0m\n"
     ]
    },
    {
     "name": "stdout",
     "output_type": "stream",
     "text": [
      "\u001b[36m(launch_and_fit pid=7159)\u001b[0m \tTrain Epoch: 3 \tTrain_loss_mri: 0.1123 | Train_acc_mri: 96.7593 | Train_loss_dna: 1.1116 | Train_acc_dna: 55.7292 | Validation_loss_mri: 1.0518 | Validation_acc_mri: 72.3958 | Validation_loss_dna: 1.9856 | Validation_acc_dna: 48.9583\u001b[32m [repeated 3x across cluster]\u001b[0m\n"
     ]
    },
    {
     "name": "stderr",
     "output_type": "stream",
     "text": [
      " 30%|\u001b[34m███       \u001b[0m| 3/10 [00:12<00:28,  4.08s/it]\u001b[32m [repeated 3x across cluster]\u001b[0m\n"
     ]
    },
    {
     "name": "stdout",
     "output_type": "stream",
     "text": [
      "\u001b[36m(launch_and_fit pid=7159)\u001b[0m \tTrain Epoch: 5 \tTrain_loss_mri: 0.0525 | Train_acc_mri: 98.4375 | Train_loss_dna: 0.9067 | Train_acc_dna: 66.6088 | Validation_loss_mri: 1.2538 | Validation_acc_mri: 72.3958 | Validation_loss_dna: 2.3183 | Validation_acc_dna: 15.6250\u001b[32m [repeated 4x across cluster]\u001b[0m\n"
     ]
    },
    {
     "name": "stderr",
     "output_type": "stream",
     "text": [
      " 50%|\u001b[34m█████     \u001b[0m| 5/10 [00:20<00:19,  3.95s/it]\u001b[32m [repeated 4x across cluster]\u001b[0m\n"
     ]
    },
    {
     "name": "stdout",
     "output_type": "stream",
     "text": [
      "\u001b[36m(launch_and_fit pid=7159)\u001b[0m \tTrain Epoch: 7 \tTrain_loss_mri: 0.0628 | Train_acc_mri: 98.4375 | Train_loss_dna: 0.7808 | Train_acc_dna: 71.4699 | Validation_loss_mri: 1.6347 | Validation_acc_mri: 72.3958 | Validation_loss_dna: 2.5433 | Validation_acc_dna: 15.6250\u001b[32m [repeated 4x across cluster]\u001b[0m\n"
     ]
    },
    {
     "name": "stderr",
     "output_type": "stream",
     "text": [
      " 70%|\u001b[34m███████   \u001b[0m| 7/10 [00:28<00:11,  3.95s/it]\u001b[32m [repeated 4x across cluster]\u001b[0m\n"
     ]
    },
    {
     "name": "stdout",
     "output_type": "stream",
     "text": [
      "\u001b[36m(launch_and_fit pid=7159)\u001b[0m \tTrain Epoch: 9 \tTrain_loss_mri: 0.0548 | Train_acc_mri: 97.5000 | Train_loss_dna: 0.6208 | Train_acc_dna: 78.2060 | Validation_loss_mri: 1.8571 | Validation_acc_mri: 55.7292 | Validation_loss_dna: 2.0541 | Validation_acc_dna: 32.2917\u001b[32m [repeated 4x across cluster]\u001b[0m\n"
     ]
    },
    {
     "name": "stderr",
     "output_type": "stream",
     "text": [
      " 90%|\u001b[34m█████████ \u001b[0m| 9/10 [00:36<00:03,  3.96s/it]\u001b[32m [repeated 4x across cluster]\u001b[0m\n"
     ]
    },
    {
     "name": "stdout",
     "output_type": "stream",
     "text": [
      "\u001b[36m(launch_and_fit pid=7159)\u001b[0m save graph in  results/FL/\n",
      "\u001b[36m(launch_and_fit pid=7233)\u001b[0m Run WITHOUT homomorphic encryption\n",
      "\u001b[36m(launch_and_fit pid=7233)\u001b[0m  To get the checkpoint\n",
      "\u001b[36m(launch_and_fit pid=7161)\u001b[0m \tTrain Epoch: 10 \tTrain_loss_mri: 0.0555 | Train_acc_mri: 98.7500 | Train_loss_dna: 0.5378 | Train_acc_dna: 80.7870 | Validation_loss_mri: 0.6228 | Validation_acc_mri: 85.9375 | Validation_loss_dna: 2.9854 | Validation_acc_dna: 12.5000\u001b[32m [repeated 3x across cluster]\u001b[0m\n",
      "\u001b[36m(launch_and_fit pid=7161)\u001b[0m save graph in  results/FL/\n"
     ]
    },
    {
     "name": "stderr",
     "output_type": "stream",
     "text": [
      "  0%|\u001b[34m          \u001b[0m| 0/10 [00:00<?, ?it/s]\n",
      "100%|\u001b[34m██████████\u001b[0m| 10/10 [00:40<00:00,  4.09s/it]\u001b[32m [repeated 3x across cluster]\u001b[0m\n"
     ]
    },
    {
     "name": "stdout",
     "output_type": "stream",
     "text": [
      "\u001b[36m(launch_and_fit pid=7233)\u001b[0m [Client 4, round 10] fit, config: {'learning_rate': 0.003, 'batch_size': '32', 'server_round': 10, 'local_epochs': 10}\n",
      "\u001b[36m(launch_and_fit pid=7233)\u001b[0m Updated model\n"
     ]
    },
    {
     "name": "stderr",
     "output_type": "stream",
     "text": [
      "  0%|\u001b[34m          \u001b[0m| 0/10 [00:00<?, ?it/s]\n",
      " 10%|\u001b[34m█         \u001b[0m| 1/10 [00:04<00:39,  4.44s/it]\u001b[32m [repeated 2x across cluster]\u001b[0m\n"
     ]
    },
    {
     "name": "stdout",
     "output_type": "stream",
     "text": [
      "\u001b[36m(launch_and_fit pid=7258)\u001b[0m Run WITHOUT homomorphic encryption\n",
      "\u001b[36m(launch_and_fit pid=7258)\u001b[0m  To get the checkpoint\n",
      "\u001b[36m(launch_and_fit pid=7258)\u001b[0m \tTrain Epoch: 1 \tTrain_loss_mri: 0.3377 | Train_acc_mri: 89.5718 | Train_loss_dna: 1.6289 | Train_acc_dna: 42.0255 | Validation_loss_mri: 0.5248 | Validation_acc_mri: 89.0625 | Validation_loss_dna: 1.7851 | Validation_acc_dna: 24.4792\u001b[32m [repeated 2x across cluster]\u001b[0m\n",
      "\u001b[36m(launch_and_fit pid=7258)\u001b[0m [Client 2, round 10] fit, config: {'learning_rate': 0.003, 'batch_size': '32', 'server_round': 10, 'local_epochs': 10}\n",
      "\u001b[36m(launch_and_fit pid=7258)\u001b[0m Updated model\n"
     ]
    },
    {
     "name": "stderr",
     "output_type": "stream",
     "text": [
      " 30%|\u001b[34m███       \u001b[0m| 3/10 [00:11<00:27,  3.94s/it]\u001b[32m [repeated 3x across cluster]\u001b[0m\n"
     ]
    },
    {
     "name": "stdout",
     "output_type": "stream",
     "text": [
      "\u001b[36m(launch_and_fit pid=7233)\u001b[0m \tTrain Epoch: 3 \tTrain_loss_mri: 0.0571 | Train_acc_mri: 98.7500 | Train_loss_dna: 1.2409 | Train_acc_dna: 52.6042 | Validation_loss_mri: 0.5447 | Validation_acc_mri: 85.9375 | Validation_loss_dna: 1.9483 | Validation_acc_dna: 40.1042\u001b[32m [repeated 3x across cluster]\u001b[0m\n"
     ]
    },
    {
     "name": "stderr",
     "output_type": "stream",
     "text": [
      " 40%|\u001b[34m████      \u001b[0m| 4/10 [00:16<00:24,  4.14s/it]\u001b[32m [repeated 3x across cluster]\u001b[0m\n"
     ]
    },
    {
     "name": "stdout",
     "output_type": "stream",
     "text": [
      "\u001b[36m(launch_and_fit pid=7258)\u001b[0m \tTrain Epoch: 4 \tTrain_loss_mri: 0.0615 | Train_acc_mri: 99.0046 | Train_loss_dna: 1.1136 | Train_acc_dna: 58.1134 | Validation_loss_mri: 0.2972 | Validation_acc_mri: 90.6250 | Validation_loss_dna: 1.7972 | Validation_acc_dna: 42.7083\u001b[32m [repeated 3x across cluster]\u001b[0m\n"
     ]
    },
    {
     "name": "stderr",
     "output_type": "stream",
     "text": [
      " 60%|\u001b[34m██████    \u001b[0m| 6/10 [00:23<00:15,  3.88s/it]\u001b[32m [repeated 3x across cluster]\u001b[0m\n"
     ]
    },
    {
     "name": "stdout",
     "output_type": "stream",
     "text": [
      "\u001b[36m(launch_and_fit pid=7233)\u001b[0m \tTrain Epoch: 6 \tTrain_loss_mri: 0.0549 | Train_acc_mri: 99.3750 | Train_loss_dna: 0.8840 | Train_acc_dna: 65.9606 | Validation_loss_mri: 0.8333 | Validation_acc_mri: 84.3750 | Validation_loss_dna: 2.0017 | Validation_acc_dna: 33.8542\u001b[32m [repeated 3x across cluster]\u001b[0m\n"
     ]
    },
    {
     "name": "stderr",
     "output_type": "stream",
     "text": [
      " 70%|\u001b[34m███████   \u001b[0m| 7/10 [00:28<00:12,  4.02s/it]\u001b[32m [repeated 3x across cluster]\u001b[0m\n"
     ]
    },
    {
     "name": "stdout",
     "output_type": "stream",
     "text": [
      "\u001b[36m(launch_and_fit pid=7258)\u001b[0m \tTrain Epoch: 7 \tTrain_loss_mri: 0.0471 | Train_acc_mri: 98.3796 | Train_loss_dna: 0.8138 | Train_acc_dna: 67.9745 | Validation_loss_mri: 0.2955 | Validation_acc_mri: 89.0625 | Validation_loss_dna: 2.0458 | Validation_acc_dna: 29.1667\u001b[32m [repeated 3x across cluster]\u001b[0m\n"
     ]
    },
    {
     "name": "stderr",
     "output_type": "stream",
     "text": [
      " 90%|\u001b[34m█████████ \u001b[0m| 9/10 [00:34<00:03,  3.83s/it]\u001b[32m [repeated 3x across cluster]\u001b[0m\n"
     ]
    },
    {
     "name": "stdout",
     "output_type": "stream",
     "text": [
      "\u001b[36m(launch_and_fit pid=7233)\u001b[0m \tTrain Epoch: 9 \tTrain_loss_mri: 0.0805 | Train_acc_mri: 97.7546 | Train_loss_dna: 0.6933 | Train_acc_dna: 76.2384 | Validation_loss_mri: 1.0585 | Validation_acc_mri: 84.3750 | Validation_loss_dna: 1.6465 | Validation_acc_dna: 33.8542\u001b[32m [repeated 3x across cluster]\u001b[0m\n",
      "\u001b[36m(launch_and_fit pid=7233)\u001b[0m save graph in  results/FL/\n"
     ]
    },
    {
     "name": "stderr",
     "output_type": "stream",
     "text": [
      "100%|\u001b[34m██████████\u001b[0m| 10/10 [00:40<00:00,  4.06s/it]\u001b[32m [repeated 3x across cluster]\u001b[0m\n"
     ]
    },
    {
     "name": "stdout",
     "output_type": "stream",
     "text": [
      "\u001b[36m(launch_and_fit pid=7258)\u001b[0m \tTrain Epoch: 10 \tTrain_loss_mri: 0.0398 | Train_acc_mri: 99.0625 | Train_loss_dna: 0.6043 | Train_acc_dna: 76.7014 | Validation_loss_mri: 0.4386 | Validation_acc_mri: 90.6250 | Validation_loss_dna: 2.6463 | Validation_acc_dna: 32.2917\u001b[32m [repeated 3x across cluster]\u001b[0m\n",
      "\u001b[36m(launch_and_fit pid=7307)\u001b[0m Run WITHOUT homomorphic encryption\n",
      "\u001b[36m(launch_and_fit pid=7307)\u001b[0m  To get the checkpoint\n",
      "\u001b[36m(launch_and_fit pid=7258)\u001b[0m save graph in  results/FL/\n",
      "\u001b[36m(launch_and_fit pid=7307)\u001b[0m [Client 7, round 10] fit, config: {'learning_rate': 0.003, 'batch_size': '32', 'server_round': 10, 'local_epochs': 10}\n",
      "\u001b[36m(launch_and_fit pid=7307)\u001b[0m Updated model\n"
     ]
    },
    {
     "name": "stderr",
     "output_type": "stream",
     "text": [
      "  0%|\u001b[34m          \u001b[0m| 0/10 [00:00<?, ?it/s]\n"
     ]
    },
    {
     "name": "stdout",
     "output_type": "stream",
     "text": [
      "\u001b[36m(launch_and_fit pid=7307)\u001b[0m \tTrain Epoch: 1 \tTrain_loss_mri: 0.4626 | Train_acc_mri: 88.8889 | Train_loss_dna: 1.7780 | Train_acc_dna: 37.1412 | Validation_loss_mri: 0.2171 | Validation_acc_mri: 95.3125 | Validation_loss_dna: 1.6245 | Validation_acc_dna: 48.9583\n"
     ]
    },
    {
     "name": "stderr",
     "output_type": "stream",
     "text": [
      " 10%|\u001b[34m█         \u001b[0m| 1/10 [00:04<00:40,  4.47s/it]\n"
     ]
    },
    {
     "name": "stdout",
     "output_type": "stream",
     "text": [
      "\u001b[36m(launch_and_fit pid=7332)\u001b[0m Run WITHOUT homomorphic encryption\n",
      "\u001b[36m(launch_and_fit pid=7332)\u001b[0m  To get the checkpoint\n",
      "\u001b[36m(launch_and_fit pid=7332)\u001b[0m [Client 8, round 10] fit, config: {'learning_rate': 0.003, 'batch_size': '32', 'server_round': 10, 'local_epochs': 10}\n",
      "\u001b[36m(launch_and_fit pid=7332)\u001b[0m Updated model\n"
     ]
    },
    {
     "name": "stderr",
     "output_type": "stream",
     "text": [
      "  0%|\u001b[34m          \u001b[0m| 0/10 [00:00<?, ?it/s]\n"
     ]
    },
    {
     "name": "stdout",
     "output_type": "stream",
     "text": [
      "\u001b[36m(launch_and_fit pid=7332)\u001b[0m \tTrain Epoch: 2 \tTrain_loss_mri: 0.1823 | Train_acc_mri: 92.2685 | Train_loss_dna: 1.3112 | Train_acc_dna: 50.0116 | Validation_loss_mri: 0.5352 | Validation_acc_mri: 72.3958 | Validation_loss_dna: 1.6820 | Validation_acc_dna: 14.0625\u001b[32m [repeated 3x across cluster]\u001b[0m\n"
     ]
    },
    {
     "name": "stderr",
     "output_type": "stream",
     "text": [
      " 20%|\u001b[34m██        \u001b[0m| 2/10 [00:08<00:33,  4.21s/it]\u001b[32m [repeated 3x across cluster]\u001b[0m\n"
     ]
    },
    {
     "name": "stdout",
     "output_type": "stream",
     "text": [
      "\u001b[36m(launch_and_fit pid=7307)\u001b[0m \tTrain Epoch: 4 \tTrain_loss_mri: 0.2145 | Train_acc_mri: 94.5718 | Train_loss_dna: 1.1600 | Train_acc_dna: 52.1759 | Validation_loss_mri: 0.2307 | Validation_acc_mri: 92.1875 | Validation_loss_dna: 1.3963 | Validation_acc_dna: 32.2917\u001b[32m [repeated 3x across cluster]\u001b[0m\n"
     ]
    },
    {
     "name": "stderr",
     "output_type": "stream",
     "text": [
      " 40%|\u001b[34m████      \u001b[0m| 4/10 [00:16<00:23,  3.96s/it]\u001b[32m [repeated 3x across cluster]\u001b[0m\n"
     ]
    },
    {
     "name": "stdout",
     "output_type": "stream",
     "text": [
      "\u001b[36m(launch_and_fit pid=7332)\u001b[0m \tTrain Epoch: 5 \tTrain_loss_mri: 0.0579 | Train_acc_mri: 98.1250 | Train_loss_dna: 1.0165 | Train_acc_dna: 59.1898 | Validation_loss_mri: 0.6685 | Validation_acc_mri: 90.6250 | Validation_loss_dna: 1.8344 | Validation_acc_dna: 15.6250\u001b[32m [repeated 3x across cluster]\u001b[0m\n"
     ]
    },
    {
     "name": "stderr",
     "output_type": "stream",
     "text": [
      " 50%|\u001b[34m█████     \u001b[0m| 5/10 [00:20<00:19,  3.97s/it]\u001b[32m [repeated 3x across cluster]\u001b[0m\n"
     ]
    },
    {
     "name": "stdout",
     "output_type": "stream",
     "text": [
      "\u001b[36m(launch_and_fit pid=7307)\u001b[0m \tTrain Epoch: 7 \tTrain_loss_mri: 0.0367 | Train_acc_mri: 99.6875 | Train_loss_dna: 0.9376 | Train_acc_dna: 63.4838 | Validation_loss_mri: 0.2011 | Validation_acc_mri: 92.1875 | Validation_loss_dna: 1.4940 | Validation_acc_dna: 53.6458\u001b[32m [repeated 3x across cluster]\u001b[0m\n"
     ]
    },
    {
     "name": "stderr",
     "output_type": "stream",
     "text": [
      " 70%|\u001b[34m███████   \u001b[0m| 7/10 [00:28<00:12,  4.07s/it]\u001b[32m [repeated 3x across cluster]\u001b[0m\n"
     ]
    },
    {
     "name": "stdout",
     "output_type": "stream",
     "text": [
      "\u001b[36m(launch_and_fit pid=7332)\u001b[0m \tTrain Epoch: 8 \tTrain_loss_mri: 0.0336 | Train_acc_mri: 99.3750 | Train_loss_dna: 0.8340 | Train_acc_dna: 65.7870 | Validation_loss_mri: 0.7099 | Validation_acc_mri: 89.0625 | Validation_loss_dna: 1.9415 | Validation_acc_dna: 30.7292\u001b[32m [repeated 3x across cluster]\u001b[0m\n"
     ]
    },
    {
     "name": "stderr",
     "output_type": "stream",
     "text": [
      " 80%|\u001b[34m████████  \u001b[0m| 8/10 [00:32<00:07,  3.97s/it]\u001b[32m [repeated 3x across cluster]\u001b[0m\n"
     ]
    },
    {
     "name": "stdout",
     "output_type": "stream",
     "text": [
      "\u001b[36m(launch_and_fit pid=7307)\u001b[0m save graph in  results/FL/\n",
      "\u001b[36m(launch_and_fit pid=7307)\u001b[0m \tTrain Epoch: 10 \tTrain_loss_mri: 0.0507 | Train_acc_mri: 98.6921 | Train_loss_dna: 0.7495 | Train_acc_dna: 72.3495 | Validation_loss_mri: 0.1836 | Validation_acc_mri: 95.3125 | Validation_loss_dna: 2.3934 | Validation_acc_dna: 33.8542\u001b[32m [repeated 3x across cluster]\u001b[0m\n"
     ]
    },
    {
     "name": "stderr",
     "output_type": "stream",
     "text": [
      "100%|\u001b[34m██████████\u001b[0m| 10/10 [00:40<00:00,  4.02s/it]\u001b[32m [repeated 3x across cluster]\u001b[0m\n"
     ]
    },
    {
     "name": "stdout",
     "output_type": "stream",
     "text": [
      "\u001b[36m(launch_and_fit pid=7381)\u001b[0m Run WITHOUT homomorphic encryption\n",
      "\u001b[36m(launch_and_fit pid=7381)\u001b[0m  To get the checkpoint\n",
      "\u001b[36m(launch_and_fit pid=7332)\u001b[0m save graph in  results/FL/\n",
      "\u001b[36m(launch_and_fit pid=7332)\u001b[0m \tTrain Epoch: 10 \tTrain_loss_mri: 0.0428 | Train_acc_mri: 99.0046 | Train_loss_dna: 0.6909 | Train_acc_dna: 73.0903 | Validation_loss_mri: 0.7557 | Validation_acc_mri: 89.0625 | Validation_loss_dna: 2.1733 | Validation_acc_dna: 14.0625\n"
     ]
    },
    {
     "name": "stderr",
     "output_type": "stream",
     "text": [
      "  0%|\u001b[34m          \u001b[0m| 0/10 [00:00<?, ?it/s]\n",
      "100%|\u001b[34m██████████\u001b[0m| 10/10 [00:40<00:00,  4.02s/it]\n"
     ]
    },
    {
     "name": "stdout",
     "output_type": "stream",
     "text": [
      "\u001b[36m(launch_and_fit pid=7381)\u001b[0m [Client 1, round 10] fit, config: {'learning_rate': 0.003, 'batch_size': '32', 'server_round': 10, 'local_epochs': 10}\n",
      "\u001b[36m(launch_and_fit pid=7381)\u001b[0m Updated model\n"
     ]
    },
    {
     "name": "stderr",
     "output_type": "stream",
     "text": [
      " 10%|\u001b[34m█         \u001b[0m| 1/10 [00:04<00:41,  4.57s/it]\n"
     ]
    },
    {
     "name": "stdout",
     "output_type": "stream",
     "text": [
      "\u001b[36m(launch_and_fit pid=7381)\u001b[0m \tTrain Epoch: 1 \tTrain_loss_mri: 0.2673 | Train_acc_mri: 90.0810 | Train_loss_dna: 1.7477 | Train_acc_dna: 34.7338 | Validation_loss_mri: 5.0903 | Validation_acc_mri: 52.6042 | Validation_loss_dna: 3.0312 | Validation_acc_dna: 12.5000\n",
      "\u001b[36m(launch_and_fit pid=7406)\u001b[0m Run WITHOUT homomorphic encryption\n",
      "\u001b[36m(launch_and_fit pid=7406)\u001b[0m  To get the checkpoint\n",
      "\u001b[36m(launch_and_fit pid=7406)\u001b[0m [Client 3, round 10] fit, config: {'learning_rate': 0.003, 'batch_size': '32', 'server_round': 10, 'local_epochs': 10}\n",
      "\u001b[36m(launch_and_fit pid=7406)\u001b[0m Updated model\n"
     ]
    },
    {
     "name": "stderr",
     "output_type": "stream",
     "text": [
      "  0%|\u001b[34m          \u001b[0m| 0/10 [00:00<?, ?it/s]\n"
     ]
    },
    {
     "name": "stdout",
     "output_type": "stream",
     "text": [
      "\u001b[36m(launch_and_fit pid=7406)\u001b[0m \tTrain Epoch: 2 \tTrain_loss_mri: 0.1576 | Train_acc_mri: 93.2060 | Train_loss_dna: 1.3458 | Train_acc_dna: 49.8727 | Validation_loss_mri: 0.5458 | Validation_acc_mri: 89.0625 | Validation_loss_dna: 4.3356 | Validation_acc_dna: 14.0625\u001b[32m [repeated 3x across cluster]\u001b[0m\n"
     ]
    },
    {
     "name": "stderr",
     "output_type": "stream",
     "text": [
      " 20%|\u001b[34m██        \u001b[0m| 2/10 [00:08<00:34,  4.33s/it]\u001b[32m [repeated 3x across cluster]\u001b[0m\n"
     ]
    },
    {
     "name": "stdout",
     "output_type": "stream",
     "text": [
      "\u001b[36m(launch_and_fit pid=7406)\u001b[0m \tTrain Epoch: 4 \tTrain_loss_mri: 0.0351 | Train_acc_mri: 99.3750 | Train_loss_dna: 1.0347 | Train_acc_dna: 58.2292 | Validation_loss_mri: 0.4910 | Validation_acc_mri: 89.0625 | Validation_loss_dna: 4.4808 | Validation_acc_dna: 14.0625\u001b[32m [repeated 4x across cluster]\u001b[0m\n"
     ]
    },
    {
     "name": "stderr",
     "output_type": "stream",
     "text": [
      " 40%|\u001b[34m████      \u001b[0m| 4/10 [00:16<00:24,  4.03s/it]\u001b[32m [repeated 4x across cluster]\u001b[0m\n"
     ]
    },
    {
     "name": "stdout",
     "output_type": "stream",
     "text": [
      "\u001b[36m(launch_and_fit pid=7406)\u001b[0m \tTrain Epoch: 6 \tTrain_loss_mri: 0.0668 | Train_acc_mri: 97.8125 | Train_loss_dna: 0.9456 | Train_acc_dna: 59.0509 | Validation_loss_mri: 0.6222 | Validation_acc_mri: 85.9375 | Validation_loss_dna: 4.4236 | Validation_acc_dna: 12.5000\u001b[32m [repeated 4x across cluster]\u001b[0m\n"
     ]
    },
    {
     "name": "stderr",
     "output_type": "stream",
     "text": [
      " 60%|\u001b[34m██████    \u001b[0m| 6/10 [00:24<00:15,  3.98s/it]\u001b[32m [repeated 4x across cluster]\u001b[0m\n"
     ]
    },
    {
     "name": "stdout",
     "output_type": "stream",
     "text": [
      "\u001b[36m(launch_and_fit pid=7406)\u001b[0m \tTrain Epoch: 8 \tTrain_loss_mri: 0.0505 | Train_acc_mri: 98.6921 | Train_loss_dna: 0.7331 | Train_acc_dna: 71.5278 | Validation_loss_mri: 0.6078 | Validation_acc_mri: 84.3750 | Validation_loss_dna: 5.8322 | Validation_acc_dna: 10.9375\u001b[32m [repeated 4x across cluster]\u001b[0m\n"
     ]
    },
    {
     "name": "stderr",
     "output_type": "stream",
     "text": [
      " 80%|\u001b[34m████████  \u001b[0m| 8/10 [00:32<00:07,  3.98s/it]\u001b[32m [repeated 4x across cluster]\u001b[0m\n"
     ]
    },
    {
     "name": "stdout",
     "output_type": "stream",
     "text": [
      "\u001b[36m(launch_and_fit pid=7381)\u001b[0m save graph in  results/FL/\n",
      "\u001b[36m(launch_and_fit pid=7406)\u001b[0m \tTrain Epoch: 10 \tTrain_loss_mri: 0.0641 | Train_acc_mri: 99.0046 | Train_loss_dna: 0.5571 | Train_acc_dna: 79.5949 | Validation_loss_mri: 0.7901 | Validation_acc_mri: 89.0625 | Validation_loss_dna: 7.5160 | Validation_acc_dna: 12.5000\u001b[32m [repeated 4x across cluster]\u001b[0m\n"
     ]
    },
    {
     "name": "stderr",
     "output_type": "stream",
     "text": [
      "100%|\u001b[34m██████████\u001b[0m| 10/10 [00:40<00:00,  4.05s/it]\u001b[32m [repeated 4x across cluster]\u001b[0m\n",
      "DEBUG flwr 2024-08-05 11:54:19,386 | server.py:236 | fit_round 10 received 10 results and 0 failures\n"
     ]
    },
    {
     "name": "stdout",
     "output_type": "stream",
     "text": [
      "Saving round 10 aggregated_parameters...\n",
      "Updated model\n"
     ]
    },
    {
     "name": "stderr",
     "output_type": "stream",
     "text": [
      "INFO flwr 2024-08-05 11:54:25,698 | server.py:125 | fit progress: (10, (1.084681092628411, 2.4975808347974504), {'accuracy': (77.5297619047619, 23.4375)}, 3324.8334605579994)\n",
      "DEBUG flwr 2024-08-05 11:54:25,699 | server.py:173 | evaluate_round 10: strategy sampled 10 clients (out of 10)\n"
     ]
    },
    {
     "name": "stdout",
     "output_type": "stream",
     "text": [
      "Server-side evaluation MRI loss 1.084681092628411 / MRI accuracy 77.5297619047619\n",
      "Server-side evaluation DNA loss 2.4975808347974504 / DNA accuracy 23.4375\n",
      "\u001b[36m(launch_and_evaluate pid=7464)\u001b[0m Run WITHOUT homomorphic encryption\n",
      "\u001b[36m(launch_and_evaluate pid=7464)\u001b[0m  To get the checkpoint\n",
      "\u001b[36m(launch_and_fit pid=7406)\u001b[0m save graph in  results/FL/\n",
      "\u001b[36m(launch_and_evaluate pid=7464)\u001b[0m [Client 5] evaluate, config: {}\n",
      "\u001b[36m(launch_and_evaluate pid=7464)\u001b[0m Updated model\n",
      "\u001b[36m(launch_and_evaluate pid=7535)\u001b[0m Run WITHOUT homomorphic encryption\u001b[32m [repeated 2x across cluster]\u001b[0m\n",
      "\u001b[36m(launch_and_evaluate pid=7535)\u001b[0m  To get the checkpoint\u001b[32m [repeated 2x across cluster]\u001b[0m\n",
      "\u001b[36m(launch_and_evaluate pid=7465)\u001b[0m [Client 3] evaluate, config: {}\n",
      "\u001b[36m(launch_and_evaluate pid=7465)\u001b[0m Updated model\n",
      "\u001b[36m(launch_and_evaluate pid=7535)\u001b[0m [Client 9] evaluate, config: {}\n",
      "\u001b[36m(launch_and_evaluate pid=7535)\u001b[0m Updated model\n"
     ]
    },
    {
     "name": "stderr",
     "output_type": "stream",
     "text": [
      "\u001b[36m(launch_and_evaluate pid=7537)\u001b[0m /opt/conda/lib/python3.10/site-packages/sklearn/metrics/_ranking.py:1029: UndefinedMetricWarning: No positive samples in y_true, true positive value should be meaningless\n",
      "\u001b[36m(launch_and_evaluate pid=7537)\u001b[0m   warnings.warn(\n"
     ]
    },
    {
     "name": "stdout",
     "output_type": "stream",
     "text": [
      "\u001b[36m(launch_and_evaluate pid=7605)\u001b[0m Run WITHOUT homomorphic encryption\u001b[32m [repeated 2x across cluster]\u001b[0m\n",
      "\u001b[36m(launch_and_evaluate pid=7605)\u001b[0m  To get the checkpoint\u001b[32m [repeated 2x across cluster]\u001b[0m\n",
      "\u001b[36m(launch_and_evaluate pid=7537)\u001b[0m [Client 4] evaluate, config: {}\n",
      "\u001b[36m(launch_and_evaluate pid=7537)\u001b[0m Updated model\n",
      "\u001b[36m(launch_and_evaluate pid=7605)\u001b[0m [Client 7] evaluate, config: {}\n",
      "\u001b[36m(launch_and_evaluate pid=7605)\u001b[0m Updated model\n",
      "\u001b[36m(launch_and_evaluate pid=7677)\u001b[0m Run WITHOUT homomorphic encryption\u001b[32m [repeated 2x across cluster]\u001b[0m\n",
      "\u001b[36m(launch_and_evaluate pid=7677)\u001b[0m  To get the checkpoint\u001b[32m [repeated 2x across cluster]\u001b[0m\n",
      "\u001b[36m(launch_and_evaluate pid=7607)\u001b[0m [Client 2] evaluate, config: {}\n",
      "\u001b[36m(launch_and_evaluate pid=7607)\u001b[0m Updated model\n",
      "\u001b[36m(launch_and_evaluate pid=7677)\u001b[0m [Client 0] evaluate, config: {}\n",
      "\u001b[36m(launch_and_evaluate pid=7677)\u001b[0m Updated model\n",
      "\u001b[36m(launch_and_evaluate pid=7745)\u001b[0m Run WITHOUT homomorphic encryption\u001b[32m [repeated 2x across cluster]\u001b[0m\n",
      "\u001b[36m(launch_and_evaluate pid=7745)\u001b[0m  To get the checkpoint\u001b[32m [repeated 2x across cluster]\u001b[0m\n",
      "\u001b[36m(launch_and_evaluate pid=7675)\u001b[0m [Client 1] evaluate, config: {}\n",
      "\u001b[36m(launch_and_evaluate pid=7675)\u001b[0m Updated model\n",
      "\u001b[36m(launch_and_evaluate pid=7745)\u001b[0m [Client 8] evaluate, config: {}\n",
      "\u001b[36m(launch_and_evaluate pid=7745)\u001b[0m Updated model\n"
     ]
    },
    {
     "name": "stderr",
     "output_type": "stream",
     "text": [
      "\u001b[36m(launch_and_evaluate pid=7745)\u001b[0m /opt/conda/lib/python3.10/site-packages/sklearn/metrics/_ranking.py:1029: UndefinedMetricWarning: No positive samples in y_true, true positive value should be meaningless\u001b[32m [repeated 2x across cluster]\u001b[0m\n",
      "\u001b[36m(launch_and_evaluate pid=7745)\u001b[0m   warnings.warn(\u001b[32m [repeated 2x across cluster]\u001b[0m\n",
      "DEBUG flwr 2024-08-05 11:55:32,938 | server.py:187 | evaluate_round 10 received 10 results and 0 failures\n",
      "DEBUG flwr 2024-08-05 11:55:32,939 | server.py:222 | fit_round 11: strategy sampled 10 clients (out of 10)\n"
     ]
    },
    {
     "name": "stdout",
     "output_type": "stream",
     "text": [
      "\u001b[36m(launch_and_fit pid=7824)\u001b[0m Run WITHOUT homomorphic encryption\u001b[32m [repeated 2x across cluster]\u001b[0m\n",
      "\u001b[36m(launch_and_fit pid=7824)\u001b[0m  To get the checkpoint\u001b[32m [repeated 2x across cluster]\u001b[0m\n",
      "\u001b[36m(launch_and_evaluate pid=7747)\u001b[0m [Client 6] evaluate, config: {}\n",
      "\u001b[36m(launch_and_evaluate pid=7747)\u001b[0m Updated model\n",
      "\u001b[36m(launch_and_fit pid=7824)\u001b[0m [Client 6, round 11] fit, config: {'learning_rate': 0.003, 'batch_size': '32', 'server_round': 11, 'local_epochs': 10}\n",
      "\u001b[36m(launch_and_fit pid=7824)\u001b[0m Updated model\n"
     ]
    },
    {
     "name": "stderr",
     "output_type": "stream",
     "text": [
      "  0%|\u001b[34m          \u001b[0m| 0/10 [00:00<?, ?it/s]\n",
      " 10%|\u001b[34m█         \u001b[0m| 1/10 [00:04<00:41,  4.61s/it]\n"
     ]
    },
    {
     "name": "stdout",
     "output_type": "stream",
     "text": [
      "\u001b[36m(launch_and_fit pid=7824)\u001b[0m \tTrain Epoch: 1 \tTrain_loss_mri: 0.2388 | Train_acc_mri: 90.8218 | Train_loss_dna: 1.5855 | Train_acc_dna: 48.7963 | Validation_loss_mri: 0.8652 | Validation_acc_mri: 57.2917 | Validation_loss_dna: 1.9429 | Validation_acc_dna: 45.8333\n"
     ]
    },
    {
     "name": "stderr",
     "output_type": "stream",
     "text": [
      "  0%|\u001b[34m          \u001b[0m| 0/10 [00:00<?, ?it/s]\n"
     ]
    },
    {
     "name": "stdout",
     "output_type": "stream",
     "text": [
      "\u001b[36m(launch_and_fit pid=7825)\u001b[0m Run WITHOUT homomorphic encryption\n",
      "\u001b[36m(launch_and_fit pid=7825)\u001b[0m  To get the checkpoint\n",
      "\u001b[36m(launch_and_fit pid=7825)\u001b[0m [Client 2, round 11] fit, config: {'learning_rate': 0.003, 'batch_size': '32', 'server_round': 11, 'local_epochs': 10}\n",
      "\u001b[36m(launch_and_fit pid=7825)\u001b[0m Updated model\n"
     ]
    },
    {
     "name": "stderr",
     "output_type": "stream",
     "text": [
      " 30%|\u001b[34m███       \u001b[0m| 3/10 [00:12<00:28,  4.05s/it]\u001b[32m [repeated 4x across cluster]\u001b[0m\n"
     ]
    },
    {
     "name": "stdout",
     "output_type": "stream",
     "text": [
      "\u001b[36m(launch_and_fit pid=7824)\u001b[0m \tTrain Epoch: 3 \tTrain_loss_mri: 0.1075 | Train_acc_mri: 96.7593 | Train_loss_dna: 0.8901 | Train_acc_dna: 65.2199 | Validation_loss_mri: 1.0860 | Validation_acc_mri: 75.5208 | Validation_loss_dna: 2.0708 | Validation_acc_dna: 12.5000\u001b[32m [repeated 4x across cluster]\u001b[0m\n"
     ]
    },
    {
     "name": "stderr",
     "output_type": "stream",
     "text": [
      " 50%|\u001b[34m█████     \u001b[0m| 5/10 [00:20<00:19,  3.93s/it]\u001b[32m [repeated 4x across cluster]\u001b[0m\n"
     ]
    },
    {
     "name": "stdout",
     "output_type": "stream",
     "text": [
      "\u001b[36m(launch_and_fit pid=7824)\u001b[0m \tTrain Epoch: 5 \tTrain_loss_mri: 0.0418 | Train_acc_mri: 99.0625 | Train_loss_dna: 0.6876 | Train_acc_dna: 74.2824 | Validation_loss_mri: 1.4418 | Validation_acc_mri: 73.9583 | Validation_loss_dna: 2.6516 | Validation_acc_dna: 9.3750\u001b[32m [repeated 4x across cluster]\u001b[0m\n"
     ]
    },
    {
     "name": "stderr",
     "output_type": "stream",
     "text": [
      " 60%|\u001b[34m██████    \u001b[0m| 6/10 [00:24<00:16,  4.03s/it]\u001b[32m [repeated 3x across cluster]\u001b[0m\n"
     ]
    },
    {
     "name": "stdout",
     "output_type": "stream",
     "text": [
      "\u001b[36m(launch_and_fit pid=7825)\u001b[0m \tTrain Epoch: 6 \tTrain_loss_mri: 0.0586 | Train_acc_mri: 98.6921 | Train_loss_dna: 0.5754 | Train_acc_dna: 78.5417 | Validation_loss_mri: 0.4000 | Validation_acc_mri: 87.5000 | Validation_loss_dna: 2.5145 | Validation_acc_dna: 27.6042\u001b[32m [repeated 3x across cluster]\u001b[0m\n"
     ]
    },
    {
     "name": "stderr",
     "output_type": "stream",
     "text": [
      " 80%|\u001b[34m████████  \u001b[0m| 8/10 [00:31<00:07,  3.89s/it]\u001b[32m [repeated 3x across cluster]\u001b[0m\n"
     ]
    },
    {
     "name": "stdout",
     "output_type": "stream",
     "text": [
      "\u001b[36m(launch_and_fit pid=7824)\u001b[0m \tTrain Epoch: 8 \tTrain_loss_mri: 0.0309 | Train_acc_mri: 99.6875 | Train_loss_dna: 0.4783 | Train_acc_dna: 83.8310 | Validation_loss_mri: 1.8455 | Validation_acc_mri: 55.7292 | Validation_loss_dna: 3.0964 | Validation_acc_dna: 27.6042\u001b[32m [repeated 3x across cluster]\u001b[0m\n"
     ]
    },
    {
     "name": "stderr",
     "output_type": "stream",
     "text": [
      " 90%|\u001b[34m█████████ \u001b[0m| 9/10 [00:36<00:04,  4.07s/it]\u001b[32m [repeated 3x across cluster]\u001b[0m\n"
     ]
    },
    {
     "name": "stdout",
     "output_type": "stream",
     "text": [
      "\u001b[36m(launch_and_fit pid=7825)\u001b[0m \tTrain Epoch: 9 \tTrain_loss_mri: 0.0206 | Train_acc_mri: 99.6875 | Train_loss_dna: 0.3862 | Train_acc_dna: 89.1435 | Validation_loss_mri: 0.4073 | Validation_acc_mri: 90.6250 | Validation_loss_dna: 2.9812 | Validation_acc_dna: 26.0417\u001b[32m [repeated 3x across cluster]\u001b[0m\n",
      "\u001b[36m(launch_and_fit pid=7824)\u001b[0m save graph in  results/FL/\n",
      "\u001b[36m(launch_and_fit pid=7898)\u001b[0m Run WITHOUT homomorphic encryption\n",
      "\u001b[36m(launch_and_fit pid=7898)\u001b[0m  To get the checkpoint\n",
      "\u001b[36m(launch_and_fit pid=7825)\u001b[0m \tTrain Epoch: 10 \tTrain_loss_mri: 0.0238 | Train_acc_mri: 99.6875 | Train_loss_dna: 0.3468 | Train_acc_dna: 90.0810 | Validation_loss_mri: 0.4694 | Validation_acc_mri: 90.6250 | Validation_loss_dna: 3.2180 | Validation_acc_dna: 12.5000\u001b[32m [repeated 2x across cluster]\u001b[0m\n",
      "\u001b[36m(launch_and_fit pid=7825)\u001b[0m save graph in  results/FL/\n",
      "\u001b[36m(launch_and_fit pid=7898)\u001b[0m [Client 7, round 11] fit, config: {'learning_rate': 0.003, 'batch_size': '32', 'server_round': 11, 'local_epochs': 10}\n",
      "\u001b[36m(launch_and_fit pid=7898)\u001b[0m Updated model\n"
     ]
    },
    {
     "name": "stderr",
     "output_type": "stream",
     "text": [
      "  0%|\u001b[34m          \u001b[0m| 0/10 [00:00<?, ?it/s]\n",
      "100%|\u001b[34m██████████\u001b[0m| 10/10 [00:40<00:00,  4.10s/it]\u001b[32m [repeated 2x across cluster]\u001b[0m\n"
     ]
    },
    {
     "name": "stdout",
     "output_type": "stream",
     "text": [
      "\u001b[36m(launch_and_fit pid=7923)\u001b[0m Run WITHOUT homomorphic encryption\n",
      "\u001b[36m(launch_and_fit pid=7923)\u001b[0m  To get the checkpoint\n",
      "\u001b[36m(launch_and_fit pid=7923)\u001b[0m \tTrain Epoch: 1 \tTrain_loss_mri: 0.3006 | Train_acc_mri: 89.0423 | Train_loss_dna: 1.6402 | Train_acc_dna: 41.7238 | Validation_loss_mri: 0.5281 | Validation_acc_mri: 89.0625 | Validation_loss_dna: 2.3165 | Validation_acc_dna: 17.1875\u001b[32m [repeated 2x across cluster]\u001b[0m\n",
      "\u001b[36m(launch_and_fit pid=7923)\u001b[0m [Client 9, round 11] fit, config: {'learning_rate': 0.003, 'batch_size': '32', 'server_round': 11, 'local_epochs': 10}\n",
      "\u001b[36m(launch_and_fit pid=7923)\u001b[0m Updated model\n"
     ]
    },
    {
     "name": "stderr",
     "output_type": "stream",
     "text": [
      "  0%|\u001b[34m          \u001b[0m| 0/10 [00:00<?, ?it/s]\n",
      " 10%|\u001b[34m█         \u001b[0m| 1/10 [00:04<00:39,  4.43s/it]\u001b[32m [repeated 2x across cluster]\u001b[0m\n"
     ]
    },
    {
     "name": "stdout",
     "output_type": "stream",
     "text": [
      "\u001b[36m(launch_and_fit pid=7898)\u001b[0m \tTrain Epoch: 3 \tTrain_loss_mri: 0.1114 | Train_acc_mri: 96.8750 | Train_loss_dna: 1.0856 | Train_acc_dna: 56.7477 | Validation_loss_mri: 0.3002 | Validation_acc_mri: 92.1875 | Validation_loss_dna: 1.6606 | Validation_acc_dna: 32.2917\u001b[32m [repeated 3x across cluster]\u001b[0m\n"
     ]
    },
    {
     "name": "stderr",
     "output_type": "stream",
     "text": [
      " 30%|\u001b[34m███       \u001b[0m| 3/10 [00:12<00:27,  4.00s/it]\u001b[32m [repeated 3x across cluster]\u001b[0m\n"
     ]
    },
    {
     "name": "stdout",
     "output_type": "stream",
     "text": [
      "\u001b[36m(launch_and_fit pid=7923)\u001b[0m \tTrain Epoch: 4 \tTrain_loss_mri: 0.0643 | Train_acc_mri: 98.1250 | Train_loss_dna: 0.7931 | Train_acc_dna: 68.5887 | Validation_loss_mri: 0.5111 | Validation_acc_mri: 85.9375 | Validation_loss_dna: 2.4159 | Validation_acc_dna: 17.1875\u001b[32m [repeated 3x across cluster]\u001b[0m\n"
     ]
    },
    {
     "name": "stderr",
     "output_type": "stream",
     "text": [
      " 40%|\u001b[34m████      \u001b[0m| 4/10 [00:16<00:24,  4.04s/it]\u001b[32m [repeated 3x across cluster]\u001b[0m\n"
     ]
    },
    {
     "name": "stdout",
     "output_type": "stream",
     "text": [
      "\u001b[36m(launch_and_fit pid=7898)\u001b[0m \tTrain Epoch: 6 \tTrain_loss_mri: 0.0565 | Train_acc_mri: 98.4375 | Train_loss_dna: 0.6616 | Train_acc_dna: 77.6620 | Validation_loss_mri: 0.2176 | Validation_acc_mri: 93.7500 | Validation_loss_dna: 1.6545 | Validation_acc_dna: 33.8542\u001b[32m [repeated 3x across cluster]\u001b[0m\n"
     ]
    },
    {
     "name": "stderr",
     "output_type": "stream",
     "text": [
      " 60%|\u001b[34m██████    \u001b[0m| 6/10 [00:24<00:15,  3.97s/it]\u001b[32m [repeated 3x across cluster]\u001b[0m\n"
     ]
    },
    {
     "name": "stdout",
     "output_type": "stream",
     "text": [
      "\u001b[36m(launch_and_fit pid=7923)\u001b[0m \tTrain Epoch: 7 \tTrain_loss_mri: 0.0565 | Train_acc_mri: 98.4375 | Train_loss_dna: 0.4788 | Train_acc_dna: 84.9698 | Validation_loss_mri: 0.7051 | Validation_acc_mri: 85.9375 | Validation_loss_dna: 3.1586 | Validation_acc_dna: 17.1875\u001b[32m [repeated 3x across cluster]\u001b[0m\n"
     ]
    },
    {
     "name": "stderr",
     "output_type": "stream",
     "text": [
      " 70%|\u001b[34m███████   \u001b[0m| 7/10 [00:27<00:11,  3.90s/it]\u001b[32m [repeated 3x across cluster]\u001b[0m\n"
     ]
    },
    {
     "name": "stdout",
     "output_type": "stream",
     "text": [
      "\u001b[36m(launch_and_fit pid=7898)\u001b[0m \tTrain Epoch: 9 \tTrain_loss_mri: 0.0304 | Train_acc_mri: 99.0046 | Train_loss_dna: 0.4745 | Train_acc_dna: 85.0231 | Validation_loss_mri: 0.2062 | Validation_acc_mri: 93.7500 | Validation_loss_dna: 2.8807 | Validation_acc_dna: 29.1667\u001b[32m [repeated 3x across cluster]\u001b[0m\n"
     ]
    },
    {
     "name": "stderr",
     "output_type": "stream",
     "text": [
      " 90%|\u001b[34m█████████ \u001b[0m| 9/10 [00:35<00:03,  3.91s/it]\u001b[32m [repeated 3x across cluster]\u001b[0m\n"
     ]
    },
    {
     "name": "stdout",
     "output_type": "stream",
     "text": [
      "\u001b[36m(launch_and_fit pid=7898)\u001b[0m save graph in  results/FL/\n",
      "\u001b[36m(launch_and_fit pid=7972)\u001b[0m Run WITHOUT homomorphic encryption\n",
      "\u001b[36m(launch_and_fit pid=7972)\u001b[0m  To get the checkpoint\n",
      "\u001b[36m(launch_and_fit pid=7923)\u001b[0m \tTrain Epoch: 10 \tTrain_loss_mri: 0.0580 | Train_acc_mri: 98.7500 | Train_loss_dna: 0.3367 | Train_acc_dna: 92.4798 | Validation_loss_mri: 0.8899 | Validation_acc_mri: 82.8125 | Validation_loss_dna: 3.1589 | Validation_acc_dna: 29.1667\u001b[32m [repeated 3x across cluster]\u001b[0m\n",
      "\u001b[36m(launch_and_fit pid=7923)\u001b[0m save graph in  results/FL/\n"
     ]
    },
    {
     "name": "stderr",
     "output_type": "stream",
     "text": [
      "  0%|\u001b[34m          \u001b[0m| 0/10 [00:00<?, ?it/s]\n",
      "100%|\u001b[34m██████████\u001b[0m| 10/10 [00:39<00:00,  3.93s/it]\u001b[32m [repeated 3x across cluster]\u001b[0m\n"
     ]
    },
    {
     "name": "stdout",
     "output_type": "stream",
     "text": [
      "\u001b[36m(launch_and_fit pid=7972)\u001b[0m [Client 3, round 11] fit, config: {'learning_rate': 0.003, 'batch_size': '32', 'server_round': 11, 'local_epochs': 10}\n",
      "\u001b[36m(launch_and_fit pid=7972)\u001b[0m Updated model\n"
     ]
    },
    {
     "name": "stderr",
     "output_type": "stream",
     "text": [
      "  0%|\u001b[34m          \u001b[0m| 0/10 [00:00<?, ?it/s]\n",
      " 10%|\u001b[34m█         \u001b[0m| 1/10 [00:04<00:40,  4.45s/it]\u001b[32m [repeated 2x across cluster]\u001b[0m\n"
     ]
    },
    {
     "name": "stdout",
     "output_type": "stream",
     "text": [
      "\u001b[36m(launch_and_fit pid=7997)\u001b[0m Run WITHOUT homomorphic encryption\n",
      "\u001b[36m(launch_and_fit pid=7997)\u001b[0m  To get the checkpoint\n",
      "\u001b[36m(launch_and_fit pid=7997)\u001b[0m \tTrain Epoch: 1 \tTrain_loss_mri: 0.2507 | Train_acc_mri: 91.1921 | Train_loss_dna: 1.7890 | Train_acc_dna: 36.3194 | Validation_loss_mri: 2.5640 | Validation_acc_mri: 54.1667 | Validation_loss_dna: 2.5271 | Validation_acc_dna: 9.3750\u001b[32m [repeated 2x across cluster]\u001b[0m\n",
      "\u001b[36m(launch_and_fit pid=7997)\u001b[0m [Client 1, round 11] fit, config: {'learning_rate': 0.003, 'batch_size': '32', 'server_round': 11, 'local_epochs': 10}\n",
      "\u001b[36m(launch_and_fit pid=7997)\u001b[0m Updated model\n"
     ]
    },
    {
     "name": "stderr",
     "output_type": "stream",
     "text": [
      " 30%|\u001b[34m███       \u001b[0m| 3/10 [00:12<00:28,  4.05s/it]\u001b[32m [repeated 3x across cluster]\u001b[0m\n"
     ]
    },
    {
     "name": "stdout",
     "output_type": "stream",
     "text": [
      "\u001b[36m(launch_and_fit pid=7972)\u001b[0m \tTrain Epoch: 3 \tTrain_loss_mri: 0.0820 | Train_acc_mri: 97.3843 | Train_loss_dna: 0.9623 | Train_acc_dna: 63.4838 | Validation_loss_mri: 0.4640 | Validation_acc_mri: 90.6250 | Validation_loss_dna: 4.4463 | Validation_acc_dna: 10.9375\u001b[32m [repeated 3x across cluster]\u001b[0m\n"
     ]
    },
    {
     "name": "stderr",
     "output_type": "stream",
     "text": [
      " 50%|\u001b[34m█████     \u001b[0m| 5/10 [00:20<00:19,  4.00s/it]\u001b[32m [repeated 4x across cluster]\u001b[0m\n"
     ]
    },
    {
     "name": "stdout",
     "output_type": "stream",
     "text": [
      "\u001b[36m(launch_and_fit pid=7972)\u001b[0m \tTrain Epoch: 5 \tTrain_loss_mri: 0.0735 | Train_acc_mri: 97.7546 | Train_loss_dna: 0.6698 | Train_acc_dna: 76.7824 | Validation_loss_mri: 0.5627 | Validation_acc_mri: 87.5000 | Validation_loss_dna: 5.4647 | Validation_acc_dna: 14.0625\u001b[32m [repeated 4x across cluster]\u001b[0m\n"
     ]
    },
    {
     "name": "stderr",
     "output_type": "stream",
     "text": [
      " 70%|\u001b[34m███████   \u001b[0m| 7/10 [00:28<00:12,  4.04s/it]\u001b[32m [repeated 4x across cluster]\u001b[0m\n"
     ]
    },
    {
     "name": "stdout",
     "output_type": "stream",
     "text": [
      "\u001b[36m(launch_and_fit pid=7972)\u001b[0m \tTrain Epoch: 7 \tTrain_loss_mri: 0.0704 | Train_acc_mri: 98.3218 | Train_loss_dna: 0.5333 | Train_acc_dna: 82.6389 | Validation_loss_mri: 0.6176 | Validation_acc_mri: 85.9375 | Validation_loss_dna: 5.8618 | Validation_acc_dna: 10.9375\u001b[32m [repeated 4x across cluster]\u001b[0m\n"
     ]
    },
    {
     "name": "stderr",
     "output_type": "stream",
     "text": [
      " 90%|\u001b[34m█████████ \u001b[0m| 9/10 [00:36<00:03,  3.99s/it]\u001b[32m [repeated 4x across cluster]\u001b[0m\n"
     ]
    },
    {
     "name": "stdout",
     "output_type": "stream",
     "text": [
      "\u001b[36m(launch_and_fit pid=7972)\u001b[0m \tTrain Epoch: 9 \tTrain_loss_mri: 0.0377 | Train_acc_mri: 99.3750 | Train_loss_dna: 0.4675 | Train_acc_dna: 86.5046 | Validation_loss_mri: 0.6450 | Validation_acc_mri: 89.0625 | Validation_loss_dna: 6.7665 | Validation_acc_dna: 9.3750\u001b[32m [repeated 4x across cluster]\u001b[0m\n",
      "\u001b[36m(launch_and_fit pid=7972)\u001b[0m save graph in  results/FL/\n",
      "\u001b[36m(launch_and_fit pid=8046)\u001b[0m Run WITHOUT homomorphic encryption\n",
      "\u001b[36m(launch_and_fit pid=8046)\u001b[0m  To get the checkpoint\n",
      "\u001b[36m(launch_and_fit pid=7997)\u001b[0m \tTrain Epoch: 10 \tTrain_loss_mri: 0.0230 | Train_acc_mri: 99.3171 | Train_loss_dna: 0.3823 | Train_acc_dna: 88.8310 | Validation_loss_mri: 6.5956 | Validation_acc_mri: 69.2708 | Validation_loss_dna: 4.4639 | Validation_acc_dna: 15.6250\u001b[32m [repeated 3x across cluster]\u001b[0m\n",
      "\u001b[36m(launch_and_fit pid=7997)\u001b[0m save graph in  results/FL/\n",
      "\u001b[36m(launch_and_fit pid=8046)\u001b[0m [Client 8, round 11] fit, config: {'learning_rate': 0.003, 'batch_size': '32', 'server_round': 11, 'local_epochs': 10}\n",
      "\u001b[36m(launch_and_fit pid=8046)\u001b[0m Updated model\n"
     ]
    },
    {
     "name": "stderr",
     "output_type": "stream",
     "text": [
      "  0%|\u001b[34m          \u001b[0m| 0/10 [00:00<?, ?it/s]\n",
      "100%|\u001b[34m██████████\u001b[0m| 10/10 [00:40<00:00,  4.01s/it]\u001b[32m [repeated 3x across cluster]\u001b[0m\n"
     ]
    },
    {
     "name": "stdout",
     "output_type": "stream",
     "text": [
      "\u001b[36m(launch_and_fit pid=8071)\u001b[0m Run WITHOUT homomorphic encryption\n",
      "\u001b[36m(launch_and_fit pid=8071)\u001b[0m  To get the checkpoint\n",
      "\u001b[36m(launch_and_fit pid=8046)\u001b[0m \tTrain Epoch: 1 \tTrain_loss_mri: 0.2226 | Train_acc_mri: 92.0139 | Train_loss_dna: 1.6227 | Train_acc_dna: 40.8912 | Validation_loss_mri: 0.3147 | Validation_acc_mri: 90.6250 | Validation_loss_dna: 1.8946 | Validation_acc_dna: 14.0625\n"
     ]
    },
    {
     "name": "stderr",
     "output_type": "stream",
     "text": [
      "  0%|\u001b[34m          \u001b[0m| 0/10 [00:00<?, ?it/s]\n",
      " 10%|\u001b[34m█         \u001b[0m| 1/10 [00:04<00:40,  4.50s/it]\u001b[32m [repeated 2x across cluster]\u001b[0m\n"
     ]
    },
    {
     "name": "stdout",
     "output_type": "stream",
     "text": [
      "\u001b[36m(launch_and_fit pid=8071)\u001b[0m \tTrain Epoch: 1 \tTrain_loss_mri: 0.2736 | Train_acc_mri: 90.4745 | Train_loss_dna: 1.6265 | Train_acc_dna: 39.2477 | Validation_loss_mri: 1.0999 | Validation_acc_mri: 84.3750 | Validation_loss_dna: 2.1539 | Validation_acc_dna: 33.8542\n",
      "\u001b[36m(launch_and_fit pid=8071)\u001b[0m [Client 4, round 11] fit, config: {'learning_rate': 0.003, 'batch_size': '32', 'server_round': 11, 'local_epochs': 10}\n",
      "\u001b[36m(launch_and_fit pid=8071)\u001b[0m Updated model\n",
      "\u001b[36m(launch_and_fit pid=8046)\u001b[0m \tTrain Epoch: 3 \tTrain_loss_mri: 0.0765 | Train_acc_mri: 98.0671 | Train_loss_dna: 0.8393 | Train_acc_dna: 65.0463 | Validation_loss_mri: 0.5128 | Validation_acc_mri: 87.5000 | Validation_loss_dna: 2.5538 | Validation_acc_dna: 14.0625\u001b[32m [repeated 3x across cluster]\u001b[0m\n"
     ]
    },
    {
     "name": "stderr",
     "output_type": "stream",
     "text": [
      " 30%|\u001b[34m███       \u001b[0m| 3/10 [00:12<00:28,  4.13s/it]\u001b[32m [repeated 3x across cluster]\u001b[0m\n"
     ]
    },
    {
     "name": "stdout",
     "output_type": "stream",
     "text": [
      "\u001b[36m(launch_and_fit pid=8046)\u001b[0m \tTrain Epoch: 5 \tTrain_loss_mri: 0.0599 | Train_acc_mri: 98.3796 | Train_loss_dna: 0.7063 | Train_acc_dna: 70.6713 | Validation_loss_mri: 0.4531 | Validation_acc_mri: 87.5000 | Validation_loss_dna: 2.2365 | Validation_acc_dna: 17.1875\u001b[32m [repeated 4x across cluster]\u001b[0m\n"
     ]
    },
    {
     "name": "stderr",
     "output_type": "stream",
     "text": [
      " 50%|\u001b[34m█████     \u001b[0m| 5/10 [00:20<00:19,  3.98s/it]\u001b[32m [repeated 4x across cluster]\u001b[0m\n",
      " 70%|\u001b[34m███████   \u001b[0m| 7/10 [00:27<00:11,  3.81s/it]\u001b[32m [repeated 4x across cluster]\u001b[0m\n"
     ]
    },
    {
     "name": "stdout",
     "output_type": "stream",
     "text": [
      "\u001b[36m(launch_and_fit pid=8071)\u001b[0m \tTrain Epoch: 7 \tTrain_loss_mri: 0.0306 | Train_acc_mri: 99.6875 | Train_loss_dna: 0.5731 | Train_acc_dna: 81.0764 | Validation_loss_mri: 0.9295 | Validation_acc_mri: 85.9375 | Validation_loss_dna: 1.5095 | Validation_acc_dna: 53.6458\u001b[32m [repeated 4x across cluster]\u001b[0m\n"
     ]
    },
    {
     "name": "stderr",
     "output_type": "stream",
     "text": [
      " 90%|\u001b[34m█████████ \u001b[0m| 9/10 [00:35<00:04,  4.04s/it]\u001b[32m [repeated 4x across cluster]\u001b[0m\n"
     ]
    },
    {
     "name": "stdout",
     "output_type": "stream",
     "text": [
      "\u001b[36m(launch_and_fit pid=8071)\u001b[0m \tTrain Epoch: 9 \tTrain_loss_mri: 0.0342 | Train_acc_mri: 99.0625 | Train_loss_dna: 0.5136 | Train_acc_dna: 85.7639 | Validation_loss_mri: 1.3287 | Validation_acc_mri: 84.3750 | Validation_loss_dna: 2.0732 | Validation_acc_dna: 32.2917\u001b[32m [repeated 4x across cluster]\u001b[0m\n",
      "\u001b[36m(launch_and_fit pid=8071)\u001b[0m save graph in  results/FL/\n",
      "\u001b[36m(launch_and_fit pid=8121)\u001b[0m Run WITHOUT homomorphic encryption\n",
      "\u001b[36m(launch_and_fit pid=8121)\u001b[0m  To get the checkpoint\n",
      "\u001b[36m(launch_and_fit pid=8046)\u001b[0m \tTrain Epoch: 10 \tTrain_loss_mri: 0.0393 | Train_acc_mri: 98.7500 | Train_loss_dna: 0.4534 | Train_acc_dna: 86.0764 | Validation_loss_mri: 0.7044 | Validation_acc_mri: 89.0625 | Validation_loss_dna: 2.4574 | Validation_acc_dna: 32.2917\u001b[32m [repeated 3x across cluster]\u001b[0m\n",
      "\u001b[36m(launch_and_fit pid=8046)\u001b[0m save graph in  results/FL/\n"
     ]
    },
    {
     "name": "stderr",
     "output_type": "stream",
     "text": [
      "  0%|\u001b[34m          \u001b[0m| 0/10 [00:00<?, ?it/s]\n",
      "100%|\u001b[34m██████████\u001b[0m| 10/10 [00:40<00:00,  4.06s/it]\u001b[32m [repeated 3x across cluster]\u001b[0m\n"
     ]
    },
    {
     "name": "stdout",
     "output_type": "stream",
     "text": [
      "\u001b[36m(launch_and_fit pid=8121)\u001b[0m [Client 0, round 11] fit, config: {'learning_rate': 0.003, 'batch_size': '32', 'server_round': 11, 'local_epochs': 10}\n",
      "\u001b[36m(launch_and_fit pid=8121)\u001b[0m Updated model\n"
     ]
    },
    {
     "name": "stderr",
     "output_type": "stream",
     "text": [
      "  0%|\u001b[34m          \u001b[0m| 0/10 [00:00<?, ?it/s]\n",
      " 20%|\u001b[34m██        \u001b[0m| 2/10 [00:08<00:32,  4.11s/it]\u001b[32m [repeated 3x across cluster]\u001b[0m\n"
     ]
    },
    {
     "name": "stdout",
     "output_type": "stream",
     "text": [
      "\u001b[36m(launch_and_fit pid=8122)\u001b[0m Run WITHOUT homomorphic encryption\n",
      "\u001b[36m(launch_and_fit pid=8122)\u001b[0m  To get the checkpoint\n",
      "\u001b[36m(launch_and_fit pid=8121)\u001b[0m \tTrain Epoch: 2 \tTrain_loss_mri: 0.1842 | Train_acc_mri: 94.5718 | Train_loss_dna: 1.0690 | Train_acc_dna: 58.4259 | Validation_loss_mri: 0.8904 | Validation_acc_mri: 70.8333 | Validation_loss_dna: 3.0701 | Validation_acc_dna: 15.6250\u001b[32m [repeated 3x across cluster]\u001b[0m\n",
      "\u001b[36m(launch_and_fit pid=8122)\u001b[0m [Client 5, round 11] fit, config: {'learning_rate': 0.003, 'batch_size': '32', 'server_round': 11, 'local_epochs': 10}\n",
      "\u001b[36m(launch_and_fit pid=8122)\u001b[0m Updated model\n"
     ]
    },
    {
     "name": "stderr",
     "output_type": "stream",
     "text": [
      " 40%|\u001b[34m████      \u001b[0m| 4/10 [00:16<00:24,  4.01s/it]\u001b[32m [repeated 4x across cluster]\u001b[0m\n"
     ]
    },
    {
     "name": "stdout",
     "output_type": "stream",
     "text": [
      "\u001b[36m(launch_and_fit pid=8121)\u001b[0m \tTrain Epoch: 4 \tTrain_loss_mri: 0.0520 | Train_acc_mri: 98.3218 | Train_loss_dna: 0.7543 | Train_acc_dna: 71.8403 | Validation_loss_mri: 0.5057 | Validation_acc_mri: 89.0625 | Validation_loss_dna: 2.9272 | Validation_acc_dna: 15.6250\u001b[32m [repeated 4x across cluster]\u001b[0m\n"
     ]
    },
    {
     "name": "stderr",
     "output_type": "stream",
     "text": [
      " 60%|\u001b[34m██████    \u001b[0m| 6/10 [00:23<00:15,  3.93s/it]\u001b[32m [repeated 4x across cluster]\u001b[0m\n"
     ]
    },
    {
     "name": "stdout",
     "output_type": "stream",
     "text": [
      "\u001b[36m(launch_and_fit pid=8121)\u001b[0m \tTrain Epoch: 6 \tTrain_loss_mri: 0.0344 | Train_acc_mri: 99.0625 | Train_loss_dna: 0.5449 | Train_acc_dna: 80.0810 | Validation_loss_mri: 0.6807 | Validation_acc_mri: 89.0625 | Validation_loss_dna: 3.6578 | Validation_acc_dna: 14.0625\u001b[32m [repeated 4x across cluster]\u001b[0m\n"
     ]
    },
    {
     "name": "stderr",
     "output_type": "stream",
     "text": [
      " 80%|\u001b[34m████████  \u001b[0m| 8/10 [00:31<00:07,  3.88s/it]\u001b[32m [repeated 4x across cluster]\u001b[0m\n"
     ]
    },
    {
     "name": "stdout",
     "output_type": "stream",
     "text": [
      "\u001b[36m(launch_and_fit pid=8121)\u001b[0m \tTrain Epoch: 8 \tTrain_loss_mri: 0.0378 | Train_acc_mri: 99.0625 | Train_loss_dna: 0.4069 | Train_acc_dna: 90.1389 | Validation_loss_mri: 0.6465 | Validation_acc_mri: 89.0625 | Validation_loss_dna: 3.1573 | Validation_acc_dna: 10.9375\u001b[32m [repeated 4x across cluster]\u001b[0m\n"
     ]
    },
    {
     "name": "stderr",
     "output_type": "stream",
     "text": [
      "100%|\u001b[34m██████████\u001b[0m| 10/10 [00:39<00:00,  3.94s/it]\u001b[32m [repeated 4x across cluster]\u001b[0m\n"
     ]
    },
    {
     "name": "stdout",
     "output_type": "stream",
     "text": [
      "\u001b[36m(launch_and_fit pid=8121)\u001b[0m save graph in  results/FL/\n",
      "\u001b[36m(launch_and_fit pid=8121)\u001b[0m \tTrain Epoch: 10 \tTrain_loss_mri: 0.0719 | Train_acc_mri: 99.0625 | Train_loss_dna: 0.3728 | Train_acc_dna: 92.0718 | Validation_loss_mri: 0.8033 | Validation_acc_mri: 70.8333 | Validation_loss_dna: 3.3710 | Validation_acc_dna: 12.5000\u001b[32m [repeated 4x across cluster]\u001b[0m\n"
     ]
    },
    {
     "name": "stderr",
     "output_type": "stream",
     "text": [
      "DEBUG flwr 2024-08-05 11:59:54,696 | server.py:236 | fit_round 11 received 10 results and 0 failures\n"
     ]
    },
    {
     "name": "stdout",
     "output_type": "stream",
     "text": [
      "Saving round 11 aggregated_parameters...\n",
      "Updated model\n"
     ]
    },
    {
     "name": "stderr",
     "output_type": "stream",
     "text": [
      "INFO flwr 2024-08-05 12:00:01,049 | server.py:125 | fit progress: (11, (1.0765436877097403, 2.8053546249866486), {'accuracy': (79.31547619047619, 21.428571428571427)}, 3660.1848382359995)\n",
      "DEBUG flwr 2024-08-05 12:00:01,051 | server.py:173 | evaluate_round 11: strategy sampled 10 clients (out of 10)\n"
     ]
    },
    {
     "name": "stdout",
     "output_type": "stream",
     "text": [
      "Server-side evaluation MRI loss 1.0765436877097403 / MRI accuracy 79.31547619047619\n",
      "Server-side evaluation DNA loss 2.8053546249866486 / DNA accuracy 21.428571428571427\n",
      "\u001b[36m(launch_and_evaluate pid=8203)\u001b[0m Run WITHOUT homomorphic encryption\n",
      "\u001b[36m(launch_and_evaluate pid=8203)\u001b[0m  To get the checkpoint\n",
      "\u001b[36m(launch_and_fit pid=8122)\u001b[0m save graph in  results/FL/\n",
      "\u001b[36m(launch_and_fit pid=8122)\u001b[0m \tTrain Epoch: 10 \tTrain_loss_mri: 0.0566 | Train_acc_mri: 98.4375 | Train_loss_dna: 0.4179 | Train_acc_dna: 86.2500 | Validation_loss_mri: 3.0974 | Validation_acc_mri: 55.7292 | Validation_loss_dna: 3.2480 | Validation_acc_dna: 29.1667\n",
      "\u001b[36m(launch_and_evaluate pid=8204)\u001b[0m [Client 8] evaluate, config: {}\n",
      "\u001b[36m(launch_and_evaluate pid=8204)\u001b[0m Updated model\n"
     ]
    },
    {
     "name": "stderr",
     "output_type": "stream",
     "text": [
      "\u001b[36m(launch_and_evaluate pid=8204)\u001b[0m /opt/conda/lib/python3.10/site-packages/sklearn/metrics/_ranking.py:1029: UndefinedMetricWarning: No positive samples in y_true, true positive value should be meaningless\n",
      "\u001b[36m(launch_and_evaluate pid=8204)\u001b[0m   warnings.warn(\n",
      "100%|\u001b[34m██████████\u001b[0m| 10/10 [00:39<00:00,  3.94s/it]\n"
     ]
    },
    {
     "name": "stdout",
     "output_type": "stream",
     "text": [
      "\u001b[36m(launch_and_evaluate pid=8275)\u001b[0m Run WITHOUT homomorphic encryption\u001b[32m [repeated 2x across cluster]\u001b[0m\n",
      "\u001b[36m(launch_and_evaluate pid=8275)\u001b[0m  To get the checkpoint\u001b[32m [repeated 2x across cluster]\u001b[0m\n",
      "\u001b[36m(launch_and_evaluate pid=8203)\u001b[0m [Client 3] evaluate, config: {}\n",
      "\u001b[36m(launch_and_evaluate pid=8203)\u001b[0m Updated model\n",
      "\u001b[36m(launch_and_evaluate pid=8275)\u001b[0m [Client 1] evaluate, config: {}\n",
      "\u001b[36m(launch_and_evaluate pid=8275)\u001b[0m Updated model\n",
      "\u001b[36m(launch_and_evaluate pid=8346)\u001b[0m Run WITHOUT homomorphic encryption\u001b[32m [repeated 2x across cluster]\u001b[0m\n",
      "\u001b[36m(launch_and_evaluate pid=8346)\u001b[0m  To get the checkpoint\u001b[32m [repeated 2x across cluster]\u001b[0m\n",
      "\u001b[36m(launch_and_evaluate pid=8276)\u001b[0m [Client 2] evaluate, config: {}\n",
      "\u001b[36m(launch_and_evaluate pid=8276)\u001b[0m Updated model\n",
      "\u001b[36m(launch_and_evaluate pid=8346)\u001b[0m [Client 7] evaluate, config: {}\n",
      "\u001b[36m(launch_and_evaluate pid=8346)\u001b[0m Updated model\n"
     ]
    },
    {
     "name": "stderr",
     "output_type": "stream",
     "text": [
      "\u001b[36m(launch_and_evaluate pid=8344)\u001b[0m /opt/conda/lib/python3.10/site-packages/sklearn/metrics/_ranking.py:1029: UndefinedMetricWarning: No positive samples in y_true, true positive value should be meaningless\n",
      "\u001b[36m(launch_and_evaluate pid=8344)\u001b[0m   warnings.warn(\n"
     ]
    },
    {
     "name": "stdout",
     "output_type": "stream",
     "text": [
      "\u001b[36m(launch_and_evaluate pid=8414)\u001b[0m Run WITHOUT homomorphic encryption\u001b[32m [repeated 2x across cluster]\u001b[0m\n",
      "\u001b[36m(launch_and_evaluate pid=8414)\u001b[0m  To get the checkpoint\u001b[32m [repeated 2x across cluster]\u001b[0m\n",
      "\u001b[36m(launch_and_evaluate pid=8344)\u001b[0m [Client 4] evaluate, config: {}\n",
      "\u001b[36m(launch_and_evaluate pid=8344)\u001b[0m Updated model\n",
      "\u001b[36m(launch_and_evaluate pid=8414)\u001b[0m [Client 5] evaluate, config: {}\n",
      "\u001b[36m(launch_and_evaluate pid=8414)\u001b[0m Updated model\n",
      "\u001b[36m(launch_and_evaluate pid=8484)\u001b[0m Run WITHOUT homomorphic encryption\u001b[32m [repeated 2x across cluster]\u001b[0m\n",
      "\u001b[36m(launch_and_evaluate pid=8484)\u001b[0m  To get the checkpoint\u001b[32m [repeated 2x across cluster]\u001b[0m\n",
      "\u001b[36m(launch_and_evaluate pid=8416)\u001b[0m [Client 0] evaluate, config: {}\n",
      "\u001b[36m(launch_and_evaluate pid=8416)\u001b[0m Updated model\n",
      "\u001b[36m(launch_and_evaluate pid=8484)\u001b[0m [Client 6] evaluate, config: {}\n",
      "\u001b[36m(launch_and_evaluate pid=8484)\u001b[0m Updated model\n"
     ]
    },
    {
     "name": "stderr",
     "output_type": "stream",
     "text": [
      "\u001b[36m(launch_and_evaluate pid=8486)\u001b[0m /opt/conda/lib/python3.10/site-packages/sklearn/metrics/_ranking.py:1029: UndefinedMetricWarning: No positive samples in y_true, true positive value should be meaningless\n",
      "\u001b[36m(launch_and_evaluate pid=8486)\u001b[0m   warnings.warn(\n",
      "DEBUG flwr 2024-08-05 12:01:08,028 | server.py:187 | evaluate_round 11 received 10 results and 0 failures\n",
      "DEBUG flwr 2024-08-05 12:01:08,029 | server.py:222 | fit_round 12: strategy sampled 10 clients (out of 10)\n"
     ]
    },
    {
     "name": "stdout",
     "output_type": "stream",
     "text": [
      "\u001b[36m(launch_and_fit pid=8563)\u001b[0m Run WITHOUT homomorphic encryption\u001b[32m [repeated 2x across cluster]\u001b[0m\n",
      "\u001b[36m(launch_and_fit pid=8563)\u001b[0m  To get the checkpoint\u001b[32m [repeated 2x across cluster]\u001b[0m\n",
      "\u001b[36m(launch_and_evaluate pid=8486)\u001b[0m [Client 9] evaluate, config: {}\n",
      "\u001b[36m(launch_and_evaluate pid=8486)\u001b[0m Updated model\n"
     ]
    },
    {
     "name": "stderr",
     "output_type": "stream",
     "text": [
      "  0%|\u001b[34m          \u001b[0m| 0/10 [00:00<?, ?it/s]\n"
     ]
    },
    {
     "name": "stdout",
     "output_type": "stream",
     "text": [
      "\u001b[36m(launch_and_fit pid=8563)\u001b[0m [Client 0, round 12] fit, config: {'learning_rate': 0.003, 'batch_size': '32', 'server_round': 12, 'local_epochs': 10}\n",
      "\u001b[36m(launch_and_fit pid=8563)\u001b[0m Updated model\n"
     ]
    },
    {
     "name": "stderr",
     "output_type": "stream",
     "text": [
      " 10%|\u001b[34m█         \u001b[0m| 1/10 [00:04<00:39,  4.38s/it]\n"
     ]
    },
    {
     "name": "stdout",
     "output_type": "stream",
     "text": [
      "\u001b[36m(launch_and_fit pid=8563)\u001b[0m \tTrain Epoch: 1 \tTrain_loss_mri: 0.1197 | Train_acc_mri: 96.1343 | Train_loss_dna: 1.7011 | Train_acc_dna: 42.5116 | Validation_loss_mri: 0.4055 | Validation_acc_mri: 89.0625 | Validation_loss_dna: 2.7323 | Validation_acc_dna: 15.6250\n",
      "\u001b[36m(launch_and_fit pid=8564)\u001b[0m Run WITHOUT homomorphic encryption\n",
      "\u001b[36m(launch_and_fit pid=8564)\u001b[0m  To get the checkpoint\n"
     ]
    },
    {
     "name": "stderr",
     "output_type": "stream",
     "text": [
      "  0%|\u001b[34m          \u001b[0m| 0/10 [00:00<?, ?it/s]\n"
     ]
    },
    {
     "name": "stdout",
     "output_type": "stream",
     "text": [
      "\u001b[36m(launch_and_fit pid=8564)\u001b[0m [Client 1, round 12] fit, config: {'learning_rate': 0.003, 'batch_size': '32', 'server_round': 12, 'local_epochs': 10}\n",
      "\u001b[36m(launch_and_fit pid=8564)\u001b[0m Updated model\n"
     ]
    },
    {
     "name": "stderr",
     "output_type": "stream",
     "text": [
      " 30%|\u001b[34m███       \u001b[0m| 3/10 [00:12<00:28,  4.03s/it]\u001b[32m [repeated 4x across cluster]\u001b[0m\n"
     ]
    },
    {
     "name": "stdout",
     "output_type": "stream",
     "text": [
      "\u001b[36m(launch_and_fit pid=8563)\u001b[0m \tTrain Epoch: 3 \tTrain_loss_mri: 0.0420 | Train_acc_mri: 99.6875 | Train_loss_dna: 0.5890 | Train_acc_dna: 79.9653 | Validation_loss_mri: 0.8466 | Validation_acc_mri: 70.8333 | Validation_loss_dna: 2.7787 | Validation_acc_dna: 14.0625\u001b[32m [repeated 4x across cluster]\u001b[0m\n"
     ]
    },
    {
     "name": "stderr",
     "output_type": "stream",
     "text": [
      " 50%|\u001b[34m█████     \u001b[0m| 5/10 [00:20<00:20,  4.09s/it]\u001b[32m [repeated 4x across cluster]\u001b[0m\n"
     ]
    },
    {
     "name": "stdout",
     "output_type": "stream",
     "text": [
      "\u001b[36m(launch_and_fit pid=8563)\u001b[0m \tTrain Epoch: 5 \tTrain_loss_mri: 0.0453 | Train_acc_mri: 99.0625 | Train_loss_dna: 0.4366 | Train_acc_dna: 85.9606 | Validation_loss_mri: 0.7096 | Validation_acc_mri: 70.8333 | Validation_loss_dna: 2.6933 | Validation_acc_dna: 14.0625\u001b[32m [repeated 4x across cluster]\u001b[0m\n"
     ]
    },
    {
     "name": "stderr",
     "output_type": "stream",
     "text": [
      " 70%|\u001b[34m███████   \u001b[0m| 7/10 [00:28<00:11,  3.99s/it]\u001b[32m [repeated 4x across cluster]\u001b[0m\n"
     ]
    },
    {
     "name": "stdout",
     "output_type": "stream",
     "text": [
      "\u001b[36m(launch_and_fit pid=8563)\u001b[0m \tTrain Epoch: 7 \tTrain_loss_mri: 0.0235 | Train_acc_mri: 99.6875 | Train_loss_dna: 0.3296 | Train_acc_dna: 89.3403 | Validation_loss_mri: 0.7606 | Validation_acc_mri: 69.2708 | Validation_loss_dna: 3.6361 | Validation_acc_dna: 9.3750\u001b[32m [repeated 4x across cluster]\u001b[0m\n"
     ]
    },
    {
     "name": "stderr",
     "output_type": "stream",
     "text": [
      " 90%|\u001b[34m█████████ \u001b[0m| 9/10 [00:36<00:03,  3.96s/it]\u001b[32m [repeated 4x across cluster]\u001b[0m\n"
     ]
    },
    {
     "name": "stdout",
     "output_type": "stream",
     "text": [
      "\u001b[36m(launch_and_fit pid=8563)\u001b[0m \tTrain Epoch: 9 \tTrain_loss_mri: 0.0417 | Train_acc_mri: 99.0625 | Train_loss_dna: 0.3315 | Train_acc_dna: 89.8264 | Validation_loss_mri: 0.8373 | Validation_acc_mri: 69.2708 | Validation_loss_dna: 3.8892 | Validation_acc_dna: 12.5000\u001b[32m [repeated 4x across cluster]\u001b[0m\n",
      "\u001b[36m(launch_and_fit pid=8563)\u001b[0m save graph in  results/FL/\n",
      "\u001b[36m(launch_and_fit pid=8636)\u001b[0m Run WITHOUT homomorphic encryption\n",
      "\u001b[36m(launch_and_fit pid=8636)\u001b[0m  To get the checkpoint\n",
      "\u001b[36m(launch_and_fit pid=8564)\u001b[0m \tTrain Epoch: 10 \tTrain_loss_mri: 0.0147 | Train_acc_mri: 99.6875 | Train_loss_dna: 0.3145 | Train_acc_dna: 92.9514 | Validation_loss_mri: 5.7030 | Validation_acc_mri: 49.4792 | Validation_loss_dna: 4.4888 | Validation_acc_dna: 15.6250\u001b[32m [repeated 3x across cluster]\u001b[0m\n",
      "\u001b[36m(launch_and_fit pid=8564)\u001b[0m save graph in  results/FL/\n",
      "\u001b[36m(launch_and_fit pid=8636)\u001b[0m [Client 5, round 12] fit, config: {'learning_rate': 0.003, 'batch_size': '32', 'server_round': 12, 'local_epochs': 10}\n",
      "\u001b[36m(launch_and_fit pid=8636)\u001b[0m Updated model\n"
     ]
    },
    {
     "name": "stderr",
     "output_type": "stream",
     "text": [
      "  0%|\u001b[34m          \u001b[0m| 0/10 [00:00<?, ?it/s]\n",
      "100%|\u001b[34m██████████\u001b[0m| 10/10 [00:40<00:00,  4.05s/it]\u001b[32m [repeated 3x across cluster]\u001b[0m\n",
      "  0%|\u001b[34m          \u001b[0m| 0/10 [00:00<?, ?it/s]\n",
      " 10%|\u001b[34m█         \u001b[0m| 1/10 [00:04<00:39,  4.43s/it]\u001b[32m [repeated 2x across cluster]\u001b[0m\n"
     ]
    },
    {
     "name": "stdout",
     "output_type": "stream",
     "text": [
      "\u001b[36m(launch_and_fit pid=8661)\u001b[0m Run WITHOUT homomorphic encryption\n",
      "\u001b[36m(launch_and_fit pid=8661)\u001b[0m  To get the checkpoint\n",
      "\u001b[36m(launch_and_fit pid=8661)\u001b[0m \tTrain Epoch: 1 \tTrain_loss_mri: 0.1425 | Train_acc_mri: 94.7685 | Train_loss_dna: 1.6339 | Train_acc_dna: 40.5208 | Validation_loss_mri: 0.6674 | Validation_acc_mri: 85.9375 | Validation_loss_dna: 5.1712 | Validation_acc_dna: 10.9375\u001b[32m [repeated 2x across cluster]\u001b[0m\n",
      "\u001b[36m(launch_and_fit pid=8661)\u001b[0m [Client 3, round 12] fit, config: {'learning_rate': 0.003, 'batch_size': '32', 'server_round': 12, 'local_epochs': 10}\n",
      "\u001b[36m(launch_and_fit pid=8661)\u001b[0m Updated model\n",
      "\u001b[36m(launch_and_fit pid=8636)\u001b[0m \tTrain Epoch: 3 \tTrain_loss_mri: 0.0667 | Train_acc_mri: 97.4421 | Train_loss_dna: 0.7604 | Train_acc_dna: 71.6435 | Validation_loss_mri: 2.3210 | Validation_acc_mri: 55.7292 | Validation_loss_dna: 2.4514 | Validation_acc_dna: 15.6250\u001b[32m [repeated 3x across cluster]\u001b[0m\n"
     ]
    },
    {
     "name": "stderr",
     "output_type": "stream",
     "text": [
      " 30%|\u001b[34m███       \u001b[0m| 3/10 [00:12<00:28,  4.01s/it]\u001b[32m [repeated 3x across cluster]\u001b[0m\n"
     ]
    },
    {
     "name": "stdout",
     "output_type": "stream",
     "text": [
      "\u001b[36m(launch_and_fit pid=8636)\u001b[0m \tTrain Epoch: 5 \tTrain_loss_mri: 0.0775 | Train_acc_mri: 98.0671 | Train_loss_dna: 0.4828 | Train_acc_dna: 83.1481 | Validation_loss_mri: 2.3276 | Validation_acc_mri: 57.2917 | Validation_loss_dna: 2.5974 | Validation_acc_dna: 29.1667\u001b[32m [repeated 4x across cluster]\u001b[0m\n"
     ]
    },
    {
     "name": "stderr",
     "output_type": "stream",
     "text": [
      " 50%|\u001b[34m█████     \u001b[0m| 5/10 [00:19<00:19,  3.95s/it]\u001b[32m [repeated 4x across cluster]\u001b[0m\n",
      " 60%|\u001b[34m██████    \u001b[0m| 6/10 [00:24<00:15,  3.96s/it]\u001b[32m [repeated 3x across cluster]\u001b[0m\n"
     ]
    },
    {
     "name": "stdout",
     "output_type": "stream",
     "text": [
      "\u001b[36m(launch_and_fit pid=8661)\u001b[0m \tTrain Epoch: 6 \tTrain_loss_mri: 0.0212 | Train_acc_mri: 99.6875 | Train_loss_dna: 0.4173 | Train_acc_dna: 85.5093 | Validation_loss_mri: 0.6092 | Validation_acc_mri: 84.3750 | Validation_loss_dna: 6.1264 | Validation_acc_dna: 7.8125\u001b[32m [repeated 3x across cluster]\u001b[0m\n",
      "\u001b[36m(launch_and_fit pid=8636)\u001b[0m \tTrain Epoch: 8 \tTrain_loss_mri: 0.0257 | Train_acc_mri: 99.6875 | Train_loss_dna: 0.3127 | Train_acc_dna: 91.5856 | Validation_loss_mri: 2.4102 | Validation_acc_mri: 55.7292 | Validation_loss_dna: 3.2055 | Validation_acc_dna: 12.5000\u001b[32m [repeated 3x across cluster]\u001b[0m\n"
     ]
    },
    {
     "name": "stderr",
     "output_type": "stream",
     "text": [
      " 80%|\u001b[34m████████  \u001b[0m| 8/10 [00:31<00:07,  3.96s/it]\u001b[32m [repeated 3x across cluster]\u001b[0m\n",
      " 90%|\u001b[34m█████████ \u001b[0m| 9/10 [00:36<00:03,  3.96s/it]\u001b[32m [repeated 3x across cluster]\u001b[0m\n"
     ]
    },
    {
     "name": "stdout",
     "output_type": "stream",
     "text": [
      "\u001b[36m(launch_and_fit pid=8661)\u001b[0m \tTrain Epoch: 9 \tTrain_loss_mri: 0.0204 | Train_acc_mri: 99.6875 | Train_loss_dna: 0.2883 | Train_acc_dna: 93.8889 | Validation_loss_mri: 0.7690 | Validation_acc_mri: 87.5000 | Validation_loss_dna: 7.2338 | Validation_acc_dna: 12.5000\u001b[32m [repeated 3x across cluster]\u001b[0m\n",
      "\u001b[36m(launch_and_fit pid=8636)\u001b[0m save graph in  results/FL/\n",
      "\u001b[36m(launch_and_fit pid=8710)\u001b[0m Run WITHOUT homomorphic encryption\n",
      "\u001b[36m(launch_and_fit pid=8710)\u001b[0m  To get the checkpoint\n",
      "\u001b[36m(launch_and_fit pid=8661)\u001b[0m \tTrain Epoch: 10 \tTrain_loss_mri: 0.0332 | Train_acc_mri: 99.3171 | Train_loss_dna: 0.2446 | Train_acc_dna: 93.5185 | Validation_loss_mri: 0.6882 | Validation_acc_mri: 89.0625 | Validation_loss_dna: 8.1574 | Validation_acc_dna: 7.8125\u001b[32m [repeated 2x across cluster]\u001b[0m\n",
      "\u001b[36m(launch_and_fit pid=8661)\u001b[0m save graph in  results/FL/\n"
     ]
    },
    {
     "name": "stderr",
     "output_type": "stream",
     "text": [
      "  0%|\u001b[34m          \u001b[0m| 0/10 [00:00<?, ?it/s]\n",
      "100%|\u001b[34m██████████\u001b[0m| 10/10 [00:40<00:00,  4.01s/it]\u001b[32m [repeated 2x across cluster]\u001b[0m\n"
     ]
    },
    {
     "name": "stdout",
     "output_type": "stream",
     "text": [
      "\u001b[36m(launch_and_fit pid=8710)\u001b[0m [Client 4, round 12] fit, config: {'learning_rate': 0.003, 'batch_size': '32', 'server_round': 12, 'local_epochs': 10}\n",
      "\u001b[36m(launch_and_fit pid=8710)\u001b[0m Updated model\n",
      "\u001b[36m(launch_and_fit pid=8735)\u001b[0m Run WITHOUT homomorphic encryption\n",
      "\u001b[36m(launch_and_fit pid=8735)\u001b[0m  To get the checkpoint\n",
      "\u001b[36m(launch_and_fit pid=8710)\u001b[0m \tTrain Epoch: 1 \tTrain_loss_mri: 0.1973 | Train_acc_mri: 92.9514 | Train_loss_dna: 1.5423 | Train_acc_dna: 46.7708 | Validation_loss_mri: 0.6396 | Validation_acc_mri: 85.9375 | Validation_loss_dna: 2.3675 | Validation_acc_dna: 40.1042\n",
      "\u001b[36m(launch_and_fit pid=8735)\u001b[0m \tTrain Epoch: 1 \tTrain_loss_mri: 0.2848 | Train_acc_mri: 92.1296 | Train_loss_dna: 1.6449 | Train_acc_dna: 40.0116 | Validation_loss_mri: 0.4136 | Validation_acc_mri: 75.5208 | Validation_loss_dna: 2.3798 | Validation_acc_dna: 7.8125\n",
      "\u001b[36m(launch_and_fit pid=8735)\u001b[0m [Client 7, round 12] fit, config: {'learning_rate': 0.003, 'batch_size': '32', 'server_round': 12, 'local_epochs': 10}\n",
      "\u001b[36m(launch_and_fit pid=8735)\u001b[0m Updated model\n"
     ]
    },
    {
     "name": "stderr",
     "output_type": "stream",
     "text": [
      "  0%|\u001b[34m          \u001b[0m| 0/10 [00:00<?, ?it/s]\n",
      " 10%|\u001b[34m█         \u001b[0m| 1/10 [00:04<00:41,  4.60s/it]\u001b[32m [repeated 2x across cluster]\u001b[0m\n",
      " 30%|\u001b[34m███       \u001b[0m| 3/10 [00:12<00:28,  4.09s/it]\u001b[32m [repeated 3x across cluster]\u001b[0m\n"
     ]
    },
    {
     "name": "stdout",
     "output_type": "stream",
     "text": [
      "\u001b[36m(launch_and_fit pid=8710)\u001b[0m \tTrain Epoch: 3 \tTrain_loss_mri: 0.0954 | Train_acc_mri: 97.8125 | Train_loss_dna: 0.8987 | Train_acc_dna: 68.1481 | Validation_loss_mri: 1.4337 | Validation_acc_mri: 66.1458 | Validation_loss_dna: 1.9741 | Validation_acc_dna: 38.5417\u001b[32m [repeated 3x across cluster]\u001b[0m\n",
      "\u001b[36m(launch_and_fit pid=8735)\u001b[0m \tTrain Epoch: 4 \tTrain_loss_mri: 0.0391 | Train_acc_mri: 99.6875 | Train_loss_dna: 0.5630 | Train_acc_dna: 82.9514 | Validation_loss_mri: 0.2128 | Validation_acc_mri: 93.7500 | Validation_loss_dna: 1.9880 | Validation_acc_dna: 32.2917\u001b[32m [repeated 3x across cluster]\u001b[0m\n"
     ]
    },
    {
     "name": "stderr",
     "output_type": "stream",
     "text": [
      " 40%|\u001b[34m████      \u001b[0m| 4/10 [00:16<00:24,  4.15s/it]\u001b[32m [repeated 3x across cluster]\u001b[0m\n",
      " 60%|\u001b[34m██████    \u001b[0m| 6/10 [00:24<00:15,  3.90s/it]\u001b[32m [repeated 3x across cluster]\u001b[0m\n"
     ]
    },
    {
     "name": "stdout",
     "output_type": "stream",
     "text": [
      "\u001b[36m(launch_and_fit pid=8710)\u001b[0m \tTrain Epoch: 6 \tTrain_loss_mri: 0.0171 | Train_acc_mri: 100.0000 | Train_loss_dna: 0.4328 | Train_acc_dna: 87.8125 | Validation_loss_mri: 1.6619 | Validation_acc_mri: 66.1458 | Validation_loss_dna: 2.0183 | Validation_acc_dna: 32.2917\u001b[32m [repeated 3x across cluster]\u001b[0m\n",
      "\u001b[36m(launch_and_fit pid=8735)\u001b[0m \tTrain Epoch: 7 \tTrain_loss_mri: 0.0342 | Train_acc_mri: 99.0046 | Train_loss_dna: 0.3483 | Train_acc_dna: 90.5093 | Validation_loss_mri: 0.2306 | Validation_acc_mri: 95.3125 | Validation_loss_dna: 2.9933 | Validation_acc_dna: 32.2917\u001b[32m [repeated 3x across cluster]\u001b[0m\n"
     ]
    },
    {
     "name": "stderr",
     "output_type": "stream",
     "text": [
      " 70%|\u001b[34m███████   \u001b[0m| 7/10 [00:28<00:11,  3.99s/it]\u001b[32m [repeated 3x across cluster]\u001b[0m\n",
      " 90%|\u001b[34m█████████ \u001b[0m| 9/10 [00:35<00:03,  3.88s/it]\u001b[32m [repeated 3x across cluster]\u001b[0m\n"
     ]
    },
    {
     "name": "stdout",
     "output_type": "stream",
     "text": [
      "\u001b[36m(launch_and_fit pid=8710)\u001b[0m \tTrain Epoch: 9 \tTrain_loss_mri: 0.0482 | Train_acc_mri: 98.7500 | Train_loss_dna: 0.2849 | Train_acc_dna: 94.6296 | Validation_loss_mri: 2.0983 | Validation_acc_mri: 66.1458 | Validation_loss_dna: 2.2666 | Validation_acc_dna: 48.9583\u001b[32m [repeated 3x across cluster]\u001b[0m\n",
      "\u001b[36m(launch_and_fit pid=8710)\u001b[0m save graph in  results/FL/\n",
      "\u001b[36m(launch_and_fit pid=8735)\u001b[0m \tTrain Epoch: 10 \tTrain_loss_mri: 0.0436 | Train_acc_mri: 99.0625 | Train_loss_dna: 0.1851 | Train_acc_dna: 97.1875 | Validation_loss_mri: 0.2483 | Validation_acc_mri: 93.7500 | Validation_loss_dna: 3.3717 | Validation_acc_dna: 29.1667\u001b[32m [repeated 3x across cluster]\u001b[0m\n"
     ]
    },
    {
     "name": "stderr",
     "output_type": "stream",
     "text": [
      "100%|\u001b[34m██████████\u001b[0m| 10/10 [00:41<00:00,  4.10s/it]\u001b[32m [repeated 3x across cluster]\u001b[0m\n"
     ]
    },
    {
     "name": "stdout",
     "output_type": "stream",
     "text": [
      "\u001b[36m(launch_and_fit pid=8784)\u001b[0m Run WITHOUT homomorphic encryption\n",
      "\u001b[36m(launch_and_fit pid=8784)\u001b[0m  To get the checkpoint\n",
      "\u001b[36m(launch_and_fit pid=8735)\u001b[0m save graph in  results/FL/\n"
     ]
    },
    {
     "name": "stderr",
     "output_type": "stream",
     "text": [
      "  0%|\u001b[34m          \u001b[0m| 0/10 [00:00<?, ?it/s]\n"
     ]
    },
    {
     "name": "stdout",
     "output_type": "stream",
     "text": [
      "\u001b[36m(launch_and_fit pid=8784)\u001b[0m [Client 2, round 12] fit, config: {'learning_rate': 0.003, 'batch_size': '32', 'server_round': 12, 'local_epochs': 10}\n",
      "\u001b[36m(launch_and_fit pid=8784)\u001b[0m Updated model\n"
     ]
    },
    {
     "name": "stderr",
     "output_type": "stream",
     "text": [
      " 10%|\u001b[34m█         \u001b[0m| 1/10 [00:04<00:41,  4.59s/it]\n"
     ]
    },
    {
     "name": "stdout",
     "output_type": "stream",
     "text": [
      "\u001b[36m(launch_and_fit pid=8784)\u001b[0m \tTrain Epoch: 1 \tTrain_loss_mri: 0.2290 | Train_acc_mri: 92.0139 | Train_loss_dna: 1.5672 | Train_acc_dna: 42.1412 | Validation_loss_mri: 1.1237 | Validation_acc_mri: 70.8333 | Validation_loss_dna: 2.8025 | Validation_acc_dna: 26.0417\n",
      "\u001b[36m(launch_and_fit pid=8809)\u001b[0m Run WITHOUT homomorphic encryption\n",
      "\u001b[36m(launch_and_fit pid=8809)\u001b[0m  To get the checkpoint\n",
      "\u001b[36m(launch_and_fit pid=8809)\u001b[0m [Client 6, round 12] fit, config: {'learning_rate': 0.003, 'batch_size': '32', 'server_round': 12, 'local_epochs': 10}\n",
      "\u001b[36m(launch_and_fit pid=8809)\u001b[0m Updated model\n"
     ]
    },
    {
     "name": "stderr",
     "output_type": "stream",
     "text": [
      "  0%|\u001b[34m          \u001b[0m| 0/10 [00:00<?, ?it/s]\n"
     ]
    },
    {
     "name": "stdout",
     "output_type": "stream",
     "text": [
      "\u001b[36m(launch_and_fit pid=8809)\u001b[0m \tTrain Epoch: 2 \tTrain_loss_mri: 0.1869 | Train_acc_mri: 94.9421 | Train_loss_dna: 0.8433 | Train_acc_dna: 67.4074 | Validation_loss_mri: 1.6212 | Validation_acc_mri: 75.5208 | Validation_loss_dna: 2.2103 | Validation_acc_dna: 30.7292\u001b[32m [repeated 3x across cluster]\u001b[0m\n"
     ]
    },
    {
     "name": "stderr",
     "output_type": "stream",
     "text": [
      " 20%|\u001b[34m██        \u001b[0m| 2/10 [00:08<00:33,  4.20s/it]\u001b[32m [repeated 3x across cluster]\u001b[0m\n",
      " 40%|\u001b[34m████      \u001b[0m| 4/10 [00:16<00:24,  4.06s/it]\u001b[32m [repeated 3x across cluster]\u001b[0m\n"
     ]
    },
    {
     "name": "stdout",
     "output_type": "stream",
     "text": [
      "\u001b[36m(launch_and_fit pid=8784)\u001b[0m \tTrain Epoch: 4 \tTrain_loss_mri: 0.0480 | Train_acc_mri: 98.1250 | Train_loss_dna: 0.5212 | Train_acc_dna: 84.1435 | Validation_loss_mri: 0.5202 | Validation_acc_mri: 87.5000 | Validation_loss_dna: 2.3701 | Validation_acc_dna: 29.1667\u001b[32m [repeated 3x across cluster]\u001b[0m\n",
      "\u001b[36m(launch_and_fit pid=8809)\u001b[0m \tTrain Epoch: 5 \tTrain_loss_mri: 0.0495 | Train_acc_mri: 98.6921 | Train_loss_dna: 0.5126 | Train_acc_dna: 84.7685 | Validation_loss_mri: 1.5116 | Validation_acc_mri: 57.2917 | Validation_loss_dna: 2.7242 | Validation_acc_dna: 29.1667\u001b[32m [repeated 3x across cluster]\u001b[0m\n"
     ]
    },
    {
     "name": "stderr",
     "output_type": "stream",
     "text": [
      " 50%|\u001b[34m█████     \u001b[0m| 5/10 [00:20<00:20,  4.07s/it]\u001b[32m [repeated 3x across cluster]\u001b[0m\n"
     ]
    },
    {
     "name": "stdout",
     "output_type": "stream",
     "text": [
      "\u001b[36m(launch_and_fit pid=8809)\u001b[0m \tTrain Epoch: 7 \tTrain_loss_mri: 0.0325 | Train_acc_mri: 99.6875 | Train_loss_dna: 0.3568 | Train_acc_dna: 91.0764 | Validation_loss_mri: 0.9816 | Validation_acc_mri: 72.3958 | Validation_loss_dna: 2.6857 | Validation_acc_dna: 30.7292\u001b[32m [repeated 4x across cluster]\u001b[0m\n"
     ]
    },
    {
     "name": "stderr",
     "output_type": "stream",
     "text": [
      " 70%|\u001b[34m███████   \u001b[0m| 7/10 [00:28<00:12,  4.01s/it]\u001b[32m [repeated 4x across cluster]\u001b[0m\n"
     ]
    },
    {
     "name": "stdout",
     "output_type": "stream",
     "text": [
      "\u001b[36m(launch_and_fit pid=8809)\u001b[0m \tTrain Epoch: 9 \tTrain_loss_mri: 0.0357 | Train_acc_mri: 99.3750 | Train_loss_dna: 0.3129 | Train_acc_dna: 91.5278 | Validation_loss_mri: 1.3979 | Validation_acc_mri: 55.7292 | Validation_loss_dna: 2.8509 | Validation_acc_dna: 12.5000\u001b[32m [repeated 4x across cluster]\u001b[0m\n"
     ]
    },
    {
     "name": "stderr",
     "output_type": "stream",
     "text": [
      " 90%|\u001b[34m█████████ \u001b[0m| 9/10 [00:36<00:03,  3.95s/it]\u001b[32m [repeated 4x across cluster]\u001b[0m\n"
     ]
    },
    {
     "name": "stdout",
     "output_type": "stream",
     "text": [
      "\u001b[36m(launch_and_fit pid=8784)\u001b[0m save graph in  results/FL/\n",
      "\u001b[36m(launch_and_fit pid=8858)\u001b[0m Run WITHOUT homomorphic encryption\n",
      "\u001b[36m(launch_and_fit pid=8858)\u001b[0m  To get the checkpoint\n",
      "\u001b[36m(launch_and_fit pid=8809)\u001b[0m \tTrain Epoch: 10 \tTrain_loss_mri: 0.0236 | Train_acc_mri: 99.6875 | Train_loss_dna: 0.3758 | Train_acc_dna: 89.4560 | Validation_loss_mri: 2.0056 | Validation_acc_mri: 72.3958 | Validation_loss_dna: 3.4071 | Validation_acc_dna: 10.9375\u001b[32m [repeated 2x across cluster]\u001b[0m\n",
      "\u001b[36m(launch_and_fit pid=8809)\u001b[0m save graph in  results/FL/\n",
      "\u001b[36m(launch_and_fit pid=8858)\u001b[0m [Client 8, round 12] fit, config: {'learning_rate': 0.003, 'batch_size': '32', 'server_round': 12, 'local_epochs': 10}\n",
      "\u001b[36m(launch_and_fit pid=8858)\u001b[0m Updated model\n"
     ]
    },
    {
     "name": "stderr",
     "output_type": "stream",
     "text": [
      "  0%|\u001b[34m          \u001b[0m| 0/10 [00:00<?, ?it/s]\n",
      "100%|\u001b[34m██████████\u001b[0m| 10/10 [00:40<00:00,  4.04s/it]\u001b[32m [repeated 2x across cluster]\u001b[0m\n"
     ]
    },
    {
     "name": "stdout",
     "output_type": "stream",
     "text": [
      "\u001b[36m(launch_and_fit pid=8883)\u001b[0m Run WITHOUT homomorphic encryption\n",
      "\u001b[36m(launch_and_fit pid=8883)\u001b[0m  To get the checkpoint\n",
      "\u001b[36m(launch_and_fit pid=8858)\u001b[0m \tTrain Epoch: 1 \tTrain_loss_mri: 0.1355 | Train_acc_mri: 95.7639 | Train_loss_dna: 1.7135 | Train_acc_dna: 40.2662 | Validation_loss_mri: 0.2921 | Validation_acc_mri: 93.7500 | Validation_loss_dna: 2.7148 | Validation_acc_dna: 17.1875\n"
     ]
    },
    {
     "name": "stderr",
     "output_type": "stream",
     "text": [
      "  0%|\u001b[34m          \u001b[0m| 0/10 [00:00<?, ?it/s]\n",
      " 10%|\u001b[34m█         \u001b[0m| 1/10 [00:04<00:40,  4.51s/it]\u001b[32m [repeated 2x across cluster]\u001b[0m\n"
     ]
    },
    {
     "name": "stdout",
     "output_type": "stream",
     "text": [
      "\u001b[36m(launch_and_fit pid=8883)\u001b[0m \tTrain Epoch: 1 \tTrain_loss_mri: 0.1852 | Train_acc_mri: 94.0423 | Train_loss_dna: 1.7423 | Train_acc_dna: 46.0887 | Validation_loss_mri: 0.3887 | Validation_acc_mri: 89.0625 | Validation_loss_dna: 2.9010 | Validation_acc_dna: 12.5000\n",
      "\u001b[36m(launch_and_fit pid=8883)\u001b[0m [Client 9, round 12] fit, config: {'learning_rate': 0.003, 'batch_size': '32', 'server_round': 12, 'local_epochs': 10}\n",
      "\u001b[36m(launch_and_fit pid=8883)\u001b[0m Updated model\n"
     ]
    },
    {
     "name": "stderr",
     "output_type": "stream",
     "text": [
      " 30%|\u001b[34m███       \u001b[0m| 3/10 [00:12<00:28,  4.04s/it]\u001b[32m [repeated 4x across cluster]\u001b[0m\n"
     ]
    },
    {
     "name": "stdout",
     "output_type": "stream",
     "text": [
      "\u001b[36m(launch_and_fit pid=8883)\u001b[0m \tTrain Epoch: 3 \tTrain_loss_mri: 0.0456 | Train_acc_mri: 98.7500 | Train_loss_dna: 0.6493 | Train_acc_dna: 78.4073 | Validation_loss_mri: 0.6759 | Validation_acc_mri: 85.9375 | Validation_loss_dna: 2.6879 | Validation_acc_dna: 24.4792\u001b[32m [repeated 4x across cluster]\u001b[0m\n"
     ]
    },
    {
     "name": "stderr",
     "output_type": "stream",
     "text": [
      " 50%|\u001b[34m█████     \u001b[0m| 5/10 [00:20<00:19,  3.95s/it]\u001b[32m [repeated 4x across cluster]\u001b[0m\n"
     ]
    },
    {
     "name": "stdout",
     "output_type": "stream",
     "text": [
      "\u001b[36m(launch_and_fit pid=8883)\u001b[0m \tTrain Epoch: 5 \tTrain_loss_mri: 0.0469 | Train_acc_mri: 98.7399 | Train_loss_dna: 0.3825 | Train_acc_dna: 89.9698 | Validation_loss_mri: 0.7346 | Validation_acc_mri: 84.3750 | Validation_loss_dna: 3.5967 | Validation_acc_dna: 7.8125\u001b[32m [repeated 4x across cluster]\u001b[0m\n"
     ]
    },
    {
     "name": "stderr",
     "output_type": "stream",
     "text": [
      " 70%|\u001b[34m███████   \u001b[0m| 7/10 [00:28<00:11,  4.00s/it]\u001b[32m [repeated 4x across cluster]\u001b[0m\n"
     ]
    },
    {
     "name": "stdout",
     "output_type": "stream",
     "text": [
      "\u001b[36m(launch_and_fit pid=8883)\u001b[0m \tTrain Epoch: 7 \tTrain_loss_mri: 0.0254 | Train_acc_mri: 100.0000 | Train_loss_dna: 0.3385 | Train_acc_dna: 92.1774 | Validation_loss_mri: 0.7898 | Validation_acc_mri: 85.9375 | Validation_loss_dna: 3.7159 | Validation_acc_dna: 24.4792\u001b[32m [repeated 4x across cluster]\u001b[0m\n",
      "\u001b[36m(launch_and_fit pid=8858)\u001b[0m \tTrain Epoch: 9 \tTrain_loss_mri: 0.0159 | Train_acc_mri: 100.0000 | Train_loss_dna: 0.3261 | Train_acc_dna: 92.2685 | Validation_loss_mri: 1.3067 | Validation_acc_mri: 73.9583 | Validation_loss_dna: 3.0239 | Validation_acc_dna: 35.4167\u001b[32m [repeated 3x across cluster]\u001b[0m\n"
     ]
    },
    {
     "name": "stderr",
     "output_type": "stream",
     "text": [
      " 90%|\u001b[34m█████████ \u001b[0m| 9/10 [00:36<00:04,  4.11s/it]\u001b[32m [repeated 3x across cluster]\u001b[0m\n"
     ]
    },
    {
     "name": "stdout",
     "output_type": "stream",
     "text": [
      "\u001b[36m(launch_and_fit pid=8858)\u001b[0m save graph in  results/FL/\n"
     ]
    },
    {
     "name": "stderr",
     "output_type": "stream",
     "text": [
      "100%|\u001b[34m██████████\u001b[0m| 10/10 [00:39<00:00,  3.99s/it]\u001b[32m [repeated 3x across cluster]\u001b[0m\n"
     ]
    },
    {
     "name": "stdout",
     "output_type": "stream",
     "text": [
      "\u001b[36m(launch_and_fit pid=8883)\u001b[0m \tTrain Epoch: 10 \tTrain_loss_mri: 0.0198 | Train_acc_mri: 99.3750 | Train_loss_dna: 0.2373 | Train_acc_dna: 95.2923 | Validation_loss_mri: 0.8500 | Validation_acc_mri: 87.5000 | Validation_loss_dna: 4.9312 | Validation_acc_dna: 9.3750\u001b[32m [repeated 3x across cluster]\u001b[0m\n"
     ]
    },
    {
     "name": "stderr",
     "output_type": "stream",
     "text": [
      "DEBUG flwr 2024-08-05 12:05:33,426 | server.py:236 | fit_round 12 received 10 results and 0 failures\n"
     ]
    },
    {
     "name": "stdout",
     "output_type": "stream",
     "text": [
      "Saving round 12 aggregated_parameters...\n",
      "Updated model\n"
     ]
    },
    {
     "name": "stderr",
     "output_type": "stream",
     "text": [
      "INFO flwr 2024-08-05 12:05:39,814 | server.py:125 | fit progress: (12, (1.0760937189417226, 3.148879451411111), {'accuracy': (79.94791666666667, 16.889880952380953)}, 3998.949789972)\n",
      "DEBUG flwr 2024-08-05 12:05:39,815 | server.py:173 | evaluate_round 12: strategy sampled 10 clients (out of 10)\n"
     ]
    },
    {
     "name": "stdout",
     "output_type": "stream",
     "text": [
      "Server-side evaluation MRI loss 1.0760937189417226 / MRI accuracy 79.94791666666667\n",
      "Server-side evaluation DNA loss 3.148879451411111 / DNA accuracy 16.889880952380953\n",
      "\u001b[36m(launch_and_evaluate pid=8941)\u001b[0m Run WITHOUT homomorphic encryption\n",
      "\u001b[36m(launch_and_evaluate pid=8941)\u001b[0m  To get the checkpoint\n",
      "\u001b[36m(launch_and_fit pid=8883)\u001b[0m save graph in  results/FL/\n",
      "\u001b[36m(launch_and_evaluate pid=8941)\u001b[0m [Client 8] evaluate, config: {}\n",
      "\u001b[36m(launch_and_evaluate pid=8941)\u001b[0m Updated model\n"
     ]
    },
    {
     "name": "stderr",
     "output_type": "stream",
     "text": [
      "\u001b[36m(launch_and_evaluate pid=8941)\u001b[0m /opt/conda/lib/python3.10/site-packages/sklearn/metrics/_ranking.py:1029: UndefinedMetricWarning: No positive samples in y_true, true positive value should be meaningless\n",
      "\u001b[36m(launch_and_evaluate pid=8941)\u001b[0m   warnings.warn(\n"
     ]
    },
    {
     "name": "stdout",
     "output_type": "stream",
     "text": [
      "\u001b[36m(launch_and_evaluate pid=9011)\u001b[0m Run WITHOUT homomorphic encryption\u001b[32m [repeated 2x across cluster]\u001b[0m\n",
      "\u001b[36m(launch_and_evaluate pid=9011)\u001b[0m  To get the checkpoint\u001b[32m [repeated 2x across cluster]\u001b[0m\n",
      "\u001b[36m(launch_and_evaluate pid=8942)\u001b[0m [Client 5] evaluate, config: {}\n",
      "\u001b[36m(launch_and_evaluate pid=8942)\u001b[0m Updated model\n",
      "\u001b[36m(launch_and_evaluate pid=9011)\u001b[0m [Client 1] evaluate, config: {}\n",
      "\u001b[36m(launch_and_evaluate pid=9011)\u001b[0m Updated model\n",
      "\u001b[36m(launch_and_evaluate pid=9081)\u001b[0m Run WITHOUT homomorphic encryption\u001b[32m [repeated 2x across cluster]\u001b[0m\n",
      "\u001b[36m(launch_and_evaluate pid=9081)\u001b[0m  To get the checkpoint\u001b[32m [repeated 2x across cluster]\u001b[0m\n",
      "\u001b[36m(launch_and_evaluate pid=9013)\u001b[0m [Client 0] evaluate, config: {}\n",
      "\u001b[36m(launch_and_evaluate pid=9013)\u001b[0m Updated model\n",
      "\u001b[36m(launch_and_evaluate pid=9081)\u001b[0m [Client 2] evaluate, config: {}\n",
      "\u001b[36m(launch_and_evaluate pid=9081)\u001b[0m Updated model\n",
      "\u001b[36m(launch_and_evaluate pid=9151)\u001b[0m Run WITHOUT homomorphic encryption\u001b[32m [repeated 2x across cluster]\u001b[0m\n",
      "\u001b[36m(launch_and_evaluate pid=9151)\u001b[0m  To get the checkpoint\u001b[32m [repeated 2x across cluster]\u001b[0m\n",
      "\u001b[36m(launch_and_evaluate pid=9083)\u001b[0m [Client 3] evaluate, config: {}\n",
      "\u001b[36m(launch_and_evaluate pid=9083)\u001b[0m Updated model\n",
      "\u001b[36m(launch_and_evaluate pid=9151)\u001b[0m [Client 6] evaluate, config: {}\n",
      "\u001b[36m(launch_and_evaluate pid=9151)\u001b[0m Updated model\n"
     ]
    },
    {
     "name": "stderr",
     "output_type": "stream",
     "text": [
      "\u001b[36m(launch_and_evaluate pid=9153)\u001b[0m /opt/conda/lib/python3.10/site-packages/sklearn/metrics/_ranking.py:1029: UndefinedMetricWarning: No positive samples in y_true, true positive value should be meaningless\n",
      "\u001b[36m(launch_and_evaluate pid=9153)\u001b[0m   warnings.warn(\n"
     ]
    },
    {
     "name": "stdout",
     "output_type": "stream",
     "text": [
      "\u001b[36m(launch_and_evaluate pid=9221)\u001b[0m Run WITHOUT homomorphic encryption\u001b[32m [repeated 2x across cluster]\u001b[0m\n",
      "\u001b[36m(launch_and_evaluate pid=9221)\u001b[0m  To get the checkpoint\u001b[32m [repeated 2x across cluster]\u001b[0m\n",
      "\u001b[36m(launch_and_evaluate pid=9153)\u001b[0m [Client 4] evaluate, config: {}\n",
      "\u001b[36m(launch_and_evaluate pid=9153)\u001b[0m Updated model\n",
      "\u001b[36m(launch_and_evaluate pid=9221)\u001b[0m [Client 7] evaluate, config: {}\n",
      "\u001b[36m(launch_and_evaluate pid=9221)\u001b[0m Updated model\n"
     ]
    },
    {
     "name": "stderr",
     "output_type": "stream",
     "text": [
      "\u001b[36m(launch_and_evaluate pid=9223)\u001b[0m /opt/conda/lib/python3.10/site-packages/sklearn/metrics/_ranking.py:1029: UndefinedMetricWarning: No positive samples in y_true, true positive value should be meaningless\n",
      "\u001b[36m(launch_and_evaluate pid=9223)\u001b[0m   warnings.warn(\n",
      "DEBUG flwr 2024-08-05 12:06:48,431 | server.py:187 | evaluate_round 12 received 10 results and 0 failures\n",
      "DEBUG flwr 2024-08-05 12:06:48,432 | server.py:222 | fit_round 13: strategy sampled 10 clients (out of 10)\n"
     ]
    },
    {
     "name": "stdout",
     "output_type": "stream",
     "text": [
      "\u001b[36m(launch_and_fit pid=9300)\u001b[0m Run WITHOUT homomorphic encryption\u001b[32m [repeated 2x across cluster]\u001b[0m\n",
      "\u001b[36m(launch_and_fit pid=9300)\u001b[0m  To get the checkpoint\u001b[32m [repeated 2x across cluster]\u001b[0m\n",
      "\u001b[36m(launch_and_evaluate pid=9223)\u001b[0m [Client 9] evaluate, config: {}\n",
      "\u001b[36m(launch_and_evaluate pid=9223)\u001b[0m Updated model\n",
      "\u001b[36m(launch_and_fit pid=9300)\u001b[0m [Client 6, round 13] fit, config: {'learning_rate': 0.003, 'batch_size': '32', 'server_round': 13, 'local_epochs': 10}\n",
      "\u001b[36m(launch_and_fit pid=9300)\u001b[0m Updated model\n"
     ]
    },
    {
     "name": "stderr",
     "output_type": "stream",
     "text": [
      "  0%|\u001b[34m          \u001b[0m| 0/10 [00:00<?, ?it/s]\n"
     ]
    },
    {
     "name": "stdout",
     "output_type": "stream",
     "text": [
      "\u001b[36m(launch_and_fit pid=9300)\u001b[0m \tTrain Epoch: 1 \tTrain_loss_mri: 0.1690 | Train_acc_mri: 93.0093 | Train_loss_dna: 1.6119 | Train_acc_dna: 47.1991 | Validation_loss_mri: 0.9614 | Validation_acc_mri: 43.7500 | Validation_loss_dna: 2.4491 | Validation_acc_dna: 30.7292\n",
      "\u001b[36m(launch_and_fit pid=9301)\u001b[0m Run WITHOUT homomorphic encryption\n",
      "\u001b[36m(launch_and_fit pid=9301)\u001b[0m  To get the checkpoint\n"
     ]
    },
    {
     "name": "stderr",
     "output_type": "stream",
     "text": [
      " 10%|\u001b[34m█         \u001b[0m| 1/10 [00:04<00:40,  4.47s/it]\n"
     ]
    },
    {
     "name": "stdout",
     "output_type": "stream",
     "text": [
      "\u001b[36m(launch_and_fit pid=9301)\u001b[0m [Client 7, round 13] fit, config: {'learning_rate': 0.003, 'batch_size': '32', 'server_round': 13, 'local_epochs': 10}\n",
      "\u001b[36m(launch_and_fit pid=9301)\u001b[0m Updated model\n"
     ]
    },
    {
     "name": "stderr",
     "output_type": "stream",
     "text": [
      "  0%|\u001b[34m          \u001b[0m| 0/10 [00:00<?, ?it/s]\n"
     ]
    },
    {
     "name": "stdout",
     "output_type": "stream",
     "text": [
      "\u001b[36m(launch_and_fit pid=9300)\u001b[0m \tTrain Epoch: 3 \tTrain_loss_mri: 0.0988 | Train_acc_mri: 96.2500 | Train_loss_dna: 0.6906 | Train_acc_dna: 76.2963 | Validation_loss_mri: 1.0039 | Validation_acc_mri: 70.8333 | Validation_loss_dna: 2.6937 | Validation_acc_dna: 30.7292\u001b[32m [repeated 4x across cluster]\u001b[0m\n"
     ]
    },
    {
     "name": "stderr",
     "output_type": "stream",
     "text": [
      " 30%|\u001b[34m███       \u001b[0m| 3/10 [00:12<00:28,  4.07s/it]\u001b[32m [repeated 4x across cluster]\u001b[0m\n"
     ]
    },
    {
     "name": "stdout",
     "output_type": "stream",
     "text": [
      "\u001b[36m(launch_and_fit pid=9300)\u001b[0m \tTrain Epoch: 5 \tTrain_loss_mri: 0.0269 | Train_acc_mri: 99.6875 | Train_loss_dna: 0.3885 | Train_acc_dna: 88.9468 | Validation_loss_mri: 1.3261 | Validation_acc_mri: 75.5208 | Validation_loss_dna: 2.9969 | Validation_acc_dna: 32.2917\u001b[32m [repeated 4x across cluster]\u001b[0m\n"
     ]
    },
    {
     "name": "stderr",
     "output_type": "stream",
     "text": [
      " 50%|\u001b[34m█████     \u001b[0m| 5/10 [00:20<00:19,  3.99s/it]\u001b[32m [repeated 4x across cluster]\u001b[0m\n"
     ]
    },
    {
     "name": "stdout",
     "output_type": "stream",
     "text": [
      "\u001b[36m(launch_and_fit pid=9300)\u001b[0m \tTrain Epoch: 7 \tTrain_loss_mri: 0.0427 | Train_acc_mri: 98.6343 | Train_loss_dna: 0.3034 | Train_acc_dna: 90.4514 | Validation_loss_mri: 1.1632 | Validation_acc_mri: 40.6250 | Validation_loss_dna: 3.1276 | Validation_acc_dna: 30.7292\u001b[32m [repeated 4x across cluster]\u001b[0m\n"
     ]
    },
    {
     "name": "stderr",
     "output_type": "stream",
     "text": [
      " 70%|\u001b[34m███████   \u001b[0m| 7/10 [00:28<00:12,  4.03s/it]\u001b[32m [repeated 4x across cluster]\u001b[0m\n"
     ]
    },
    {
     "name": "stdout",
     "output_type": "stream",
     "text": [
      "\u001b[36m(launch_and_fit pid=9300)\u001b[0m \tTrain Epoch: 9 \tTrain_loss_mri: 0.0486 | Train_acc_mri: 98.4375 | Train_loss_dna: 0.2268 | Train_acc_dna: 94.6296 | Validation_loss_mri: 0.8734 | Validation_acc_mri: 73.9583 | Validation_loss_dna: 3.2165 | Validation_acc_dna: 30.7292\u001b[32m [repeated 4x across cluster]\u001b[0m\n"
     ]
    },
    {
     "name": "stderr",
     "output_type": "stream",
     "text": [
      " 90%|\u001b[34m█████████ \u001b[0m| 9/10 [00:36<00:03,  3.97s/it]\u001b[32m [repeated 4x across cluster]\u001b[0m\n"
     ]
    },
    {
     "name": "stdout",
     "output_type": "stream",
     "text": [
      "\u001b[36m(launch_and_fit pid=9300)\u001b[0m save graph in  results/FL/\n",
      "\u001b[36m(launch_and_fit pid=9374)\u001b[0m Run WITHOUT homomorphic encryption\n",
      "\u001b[36m(launch_and_fit pid=9374)\u001b[0m  To get the checkpoint\n",
      "\u001b[36m(launch_and_fit pid=9301)\u001b[0m \tTrain Epoch: 10 \tTrain_loss_mri: 0.0111 | Train_acc_mri: 100.0000 | Train_loss_dna: 0.1702 | Train_acc_dna: 96.8171 | Validation_loss_mri: 0.3063 | Validation_acc_mri: 93.7500 | Validation_loss_dna: 4.2935 | Validation_acc_dna: 6.2500\u001b[32m [repeated 3x across cluster]\u001b[0m\n",
      "\u001b[36m(launch_and_fit pid=9301)\u001b[0m save graph in  results/FL/\n",
      "\u001b[36m(launch_and_fit pid=9374)\u001b[0m [Client 3, round 13] fit, config: {'learning_rate': 0.003, 'batch_size': '32', 'server_round': 13, 'local_epochs': 10}\n",
      "\u001b[36m(launch_and_fit pid=9374)\u001b[0m Updated model\n"
     ]
    },
    {
     "name": "stderr",
     "output_type": "stream",
     "text": [
      "  0%|\u001b[34m          \u001b[0m| 0/10 [00:00<?, ?it/s]\n",
      "100%|\u001b[34m██████████\u001b[0m| 10/10 [00:40<00:00,  4.10s/it]\u001b[32m [repeated 3x across cluster]\u001b[0m\n"
     ]
    },
    {
     "name": "stdout",
     "output_type": "stream",
     "text": [
      "\u001b[36m(launch_and_fit pid=9399)\u001b[0m Run WITHOUT homomorphic encryption\n",
      "\u001b[36m(launch_and_fit pid=9399)\u001b[0m  To get the checkpoint\n",
      "\u001b[36m(launch_and_fit pid=9399)\u001b[0m \tTrain Epoch: 1 \tTrain_loss_mri: 0.1754 | Train_acc_mri: 96.3889 | Train_loss_dna: 1.4892 | Train_acc_dna: 50.8681 | Validation_loss_mri: 0.7376 | Validation_acc_mri: 73.9583 | Validation_loss_dna: 2.9086 | Validation_acc_dna: 14.0625\u001b[32m [repeated 2x across cluster]\u001b[0m\n",
      "\u001b[36m(launch_and_fit pid=9399)\u001b[0m [Client 8, round 13] fit, config: {'learning_rate': 0.003, 'batch_size': '32', 'server_round': 13, 'local_epochs': 10}\n",
      "\u001b[36m(launch_and_fit pid=9399)\u001b[0m Updated model\n"
     ]
    },
    {
     "name": "stderr",
     "output_type": "stream",
     "text": [
      "  0%|\u001b[34m          \u001b[0m| 0/10 [00:00<?, ?it/s]\n",
      " 10%|\u001b[34m█         \u001b[0m| 1/10 [00:04<00:42,  4.75s/it]\u001b[32m [repeated 2x across cluster]\u001b[0m\n"
     ]
    },
    {
     "name": "stdout",
     "output_type": "stream",
     "text": [
      "\u001b[36m(launch_and_fit pid=9374)\u001b[0m \tTrain Epoch: 3 \tTrain_loss_mri: 0.0455 | Train_acc_mri: 98.6343 | Train_loss_dna: 0.6032 | Train_acc_dna: 76.5278 | Validation_loss_mri: 0.4667 | Validation_acc_mri: 90.6250 | Validation_loss_dna: 7.1677 | Validation_acc_dna: 12.5000\u001b[32m [repeated 3x across cluster]\u001b[0m\n"
     ]
    },
    {
     "name": "stderr",
     "output_type": "stream",
     "text": [
      " 30%|\u001b[34m███       \u001b[0m| 3/10 [00:12<00:29,  4.19s/it]\u001b[32m [repeated 3x across cluster]\u001b[0m\n"
     ]
    },
    {
     "name": "stdout",
     "output_type": "stream",
     "text": [
      "\u001b[36m(launch_and_fit pid=9399)\u001b[0m \tTrain Epoch: 4 \tTrain_loss_mri: 0.0626 | Train_acc_mri: 97.8125 | Train_loss_dna: 0.5624 | Train_acc_dna: 80.4167 | Validation_loss_mri: 0.6168 | Validation_acc_mri: 89.0625 | Validation_loss_dna: 3.3970 | Validation_acc_dna: 15.6250\u001b[32m [repeated 3x across cluster]\u001b[0m\n"
     ]
    },
    {
     "name": "stderr",
     "output_type": "stream",
     "text": [
      " 40%|\u001b[34m████      \u001b[0m| 4/10 [00:16<00:24,  4.07s/it]\u001b[32m [repeated 3x across cluster]\u001b[0m\n"
     ]
    },
    {
     "name": "stdout",
     "output_type": "stream",
     "text": [
      "\u001b[36m(launch_and_fit pid=9374)\u001b[0m \tTrain Epoch: 6 \tTrain_loss_mri: 0.0274 | Train_acc_mri: 99.6875 | Train_loss_dna: 0.2816 | Train_acc_dna: 92.7546 | Validation_loss_mri: 0.4973 | Validation_acc_mri: 89.0625 | Validation_loss_dna: 7.9204 | Validation_acc_dna: 12.5000\u001b[32m [repeated 3x across cluster]\u001b[0m\n"
     ]
    },
    {
     "name": "stderr",
     "output_type": "stream",
     "text": [
      " 60%|\u001b[34m██████    \u001b[0m| 6/10 [00:24<00:15,  3.96s/it]\u001b[32m [repeated 3x across cluster]\u001b[0m\n"
     ]
    },
    {
     "name": "stdout",
     "output_type": "stream",
     "text": [
      "\u001b[36m(launch_and_fit pid=9399)\u001b[0m \tTrain Epoch: 7 \tTrain_loss_mri: 0.0248 | Train_acc_mri: 99.3750 | Train_loss_dna: 0.3616 | Train_acc_dna: 92.2685 | Validation_loss_mri: 1.4704 | Validation_acc_mri: 75.5208 | Validation_loss_dna: 3.7368 | Validation_acc_dna: 32.2917\u001b[32m [repeated 3x across cluster]\u001b[0m\n"
     ]
    },
    {
     "name": "stderr",
     "output_type": "stream",
     "text": [
      " 70%|\u001b[34m███████   \u001b[0m| 7/10 [00:28<00:11,  3.98s/it]\u001b[32m [repeated 3x across cluster]\u001b[0m\n"
     ]
    },
    {
     "name": "stdout",
     "output_type": "stream",
     "text": [
      "\u001b[36m(launch_and_fit pid=9374)\u001b[0m \tTrain Epoch: 9 \tTrain_loss_mri: 0.0317 | Train_acc_mri: 99.6875 | Train_loss_dna: 0.1834 | Train_acc_dna: 96.5046 | Validation_loss_mri: 0.8625 | Validation_acc_mri: 85.9375 | Validation_loss_dna: 8.4499 | Validation_acc_dna: 10.9375\u001b[32m [repeated 3x across cluster]\u001b[0m\n"
     ]
    },
    {
     "name": "stderr",
     "output_type": "stream",
     "text": [
      " 90%|\u001b[34m█████████ \u001b[0m| 9/10 [00:36<00:03,  3.92s/it]\u001b[32m [repeated 3x across cluster]\u001b[0m\n"
     ]
    },
    {
     "name": "stdout",
     "output_type": "stream",
     "text": [
      "\u001b[36m(launch_and_fit pid=9374)\u001b[0m save graph in  results/FL/\n",
      "\u001b[36m(launch_and_fit pid=9399)\u001b[0m \tTrain Epoch: 10 \tTrain_loss_mri: 0.0104 | Train_acc_mri: 99.6296 | Train_loss_dna: 0.2558 | Train_acc_dna: 93.5185 | Validation_loss_mri: 0.8679 | Validation_acc_mri: 90.6250 | Validation_loss_dna: 3.8246 | Validation_acc_dna: 30.7292\u001b[32m [repeated 3x across cluster]\u001b[0m\n"
     ]
    },
    {
     "name": "stderr",
     "output_type": "stream",
     "text": [
      "100%|\u001b[34m██████████\u001b[0m| 10/10 [00:40<00:00,  4.10s/it]\u001b[32m [repeated 3x across cluster]\u001b[0m\n"
     ]
    },
    {
     "name": "stdout",
     "output_type": "stream",
     "text": [
      "\u001b[36m(launch_and_fit pid=9448)\u001b[0m Run WITHOUT homomorphic encryption\n",
      "\u001b[36m(launch_and_fit pid=9448)\u001b[0m  To get the checkpoint\n",
      "\u001b[36m(launch_and_fit pid=9399)\u001b[0m save graph in  results/FL/\n",
      "\u001b[36m(launch_and_fit pid=9448)\u001b[0m [Client 5, round 13] fit, config: {'learning_rate': 0.003, 'batch_size': '32', 'server_round': 13, 'local_epochs': 10}\n",
      "\u001b[36m(launch_and_fit pid=9448)\u001b[0m Updated model\n"
     ]
    },
    {
     "name": "stderr",
     "output_type": "stream",
     "text": [
      "  0%|\u001b[34m          \u001b[0m| 0/10 [00:00<?, ?it/s]\n"
     ]
    },
    {
     "name": "stdout",
     "output_type": "stream",
     "text": [
      "\u001b[36m(launch_and_fit pid=9448)\u001b[0m \tTrain Epoch: 1 \tTrain_loss_mri: 0.1467 | Train_acc_mri: 95.5671 | Train_loss_dna: 1.6323 | Train_acc_dna: 41.9444 | Validation_loss_mri: 2.3052 | Validation_acc_mri: 58.8542 | Validation_loss_dna: 3.5503 | Validation_acc_dna: 12.5000\n"
     ]
    },
    {
     "name": "stderr",
     "output_type": "stream",
     "text": [
      " 10%|\u001b[34m█         \u001b[0m| 1/10 [00:04<00:40,  4.48s/it]\n"
     ]
    },
    {
     "name": "stdout",
     "output_type": "stream",
     "text": [
      "\u001b[36m(launch_and_fit pid=9473)\u001b[0m Run WITHOUT homomorphic encryption\n",
      "\u001b[36m(launch_and_fit pid=9473)\u001b[0m  To get the checkpoint\n",
      "\u001b[36m(launch_and_fit pid=9473)\u001b[0m [Client 1, round 13] fit, config: {'learning_rate': 0.003, 'batch_size': '32', 'server_round': 13, 'local_epochs': 10}\n",
      "\u001b[36m(launch_and_fit pid=9473)\u001b[0m Updated model\n"
     ]
    },
    {
     "name": "stderr",
     "output_type": "stream",
     "text": [
      "  0%|\u001b[34m          \u001b[0m| 0/10 [00:00<?, ?it/s]\n"
     ]
    },
    {
     "name": "stdout",
     "output_type": "stream",
     "text": [
      "\u001b[36m(launch_and_fit pid=9473)\u001b[0m \tTrain Epoch: 2 \tTrain_loss_mri: 0.2166 | Train_acc_mri: 92.1875 | Train_loss_dna: 0.9167 | Train_acc_dna: 63.7384 | Validation_loss_mri: 3.6923 | Validation_acc_mri: 49.4792 | Validation_loss_dna: 3.3251 | Validation_acc_dna: 29.1667\u001b[32m [repeated 3x across cluster]\u001b[0m\n"
     ]
    },
    {
     "name": "stderr",
     "output_type": "stream",
     "text": [
      " 20%|\u001b[34m██        \u001b[0m| 2/10 [00:08<00:35,  4.45s/it]\u001b[32m [repeated 3x across cluster]\u001b[0m\n"
     ]
    },
    {
     "name": "stdout",
     "output_type": "stream",
     "text": [
      "\u001b[36m(launch_and_fit pid=9448)\u001b[0m \tTrain Epoch: 4 \tTrain_loss_mri: 0.0460 | Train_acc_mri: 98.6921 | Train_loss_dna: 0.5004 | Train_acc_dna: 82.1528 | Validation_loss_mri: 2.6116 | Validation_acc_mri: 54.1667 | Validation_loss_dna: 3.5128 | Validation_acc_dna: 9.3750\u001b[32m [repeated 3x across cluster]\u001b[0m\n"
     ]
    },
    {
     "name": "stderr",
     "output_type": "stream",
     "text": [
      " 40%|\u001b[34m████      \u001b[0m| 4/10 [00:17<00:25,  4.20s/it]\u001b[32m [repeated 3x across cluster]\u001b[0m\n"
     ]
    },
    {
     "name": "stdout",
     "output_type": "stream",
     "text": [
      "\u001b[36m(launch_and_fit pid=9473)\u001b[0m \tTrain Epoch: 5 \tTrain_loss_mri: 0.0639 | Train_acc_mri: 98.7500 | Train_loss_dna: 0.3779 | Train_acc_dna: 90.4514 | Validation_loss_mri: 4.3818 | Validation_acc_mri: 67.7083 | Validation_loss_dna: 4.7061 | Validation_acc_dna: 12.5000\u001b[32m [repeated 3x across cluster]\u001b[0m\n"
     ]
    },
    {
     "name": "stderr",
     "output_type": "stream",
     "text": [
      " 50%|\u001b[34m█████     \u001b[0m| 5/10 [00:21<00:20,  4.15s/it]\u001b[32m [repeated 3x across cluster]\u001b[0m\n"
     ]
    },
    {
     "name": "stdout",
     "output_type": "stream",
     "text": [
      "\u001b[36m(launch_and_fit pid=9448)\u001b[0m \tTrain Epoch: 7 \tTrain_loss_mri: 0.0210 | Train_acc_mri: 98.7500 | Train_loss_dna: 0.2594 | Train_acc_dna: 94.5718 | Validation_loss_mri: 3.5770 | Validation_acc_mri: 55.7292 | Validation_loss_dna: 4.0828 | Validation_acc_dna: 14.0625\u001b[32m [repeated 3x across cluster]\u001b[0m\n"
     ]
    },
    {
     "name": "stderr",
     "output_type": "stream",
     "text": [
      " 70%|\u001b[34m███████   \u001b[0m| 7/10 [00:28<00:12,  4.03s/it]\u001b[32m [repeated 3x across cluster]\u001b[0m\n"
     ]
    },
    {
     "name": "stdout",
     "output_type": "stream",
     "text": [
      "\u001b[36m(launch_and_fit pid=9473)\u001b[0m \tTrain Epoch: 8 \tTrain_loss_mri: 0.0233 | Train_acc_mri: 99.6875 | Train_loss_dna: 0.2078 | Train_acc_dna: 96.1343 | Validation_loss_mri: 5.0296 | Validation_acc_mri: 67.7083 | Validation_loss_dna: 5.4878 | Validation_acc_dna: 12.5000\u001b[32m [repeated 3x across cluster]\u001b[0m\n"
     ]
    },
    {
     "name": "stderr",
     "output_type": "stream",
     "text": [
      " 80%|\u001b[34m████████  \u001b[0m| 8/10 [00:32<00:07,  3.99s/it]\u001b[32m [repeated 3x across cluster]\u001b[0m\n"
     ]
    },
    {
     "name": "stdout",
     "output_type": "stream",
     "text": [
      "\u001b[36m(launch_and_fit pid=9448)\u001b[0m save graph in  results/FL/\n",
      "\u001b[36m(launch_and_fit pid=9448)\u001b[0m \tTrain Epoch: 10 \tTrain_loss_mri: 0.0137 | Train_acc_mri: 99.6875 | Train_loss_dna: 0.1729 | Train_acc_dna: 96.6435 | Validation_loss_mri: 3.6486 | Validation_acc_mri: 55.7292 | Validation_loss_dna: 4.5960 | Validation_acc_dna: 10.9375\u001b[32m [repeated 3x across cluster]\u001b[0m\n"
     ]
    },
    {
     "name": "stderr",
     "output_type": "stream",
     "text": [
      "100%|\u001b[34m██████████\u001b[0m| 10/10 [00:40<00:00,  4.06s/it]\u001b[32m [repeated 3x across cluster]\u001b[0m\n"
     ]
    },
    {
     "name": "stdout",
     "output_type": "stream",
     "text": [
      "\u001b[36m(launch_and_fit pid=9523)\u001b[0m Run WITHOUT homomorphic encryption\n",
      "\u001b[36m(launch_and_fit pid=9523)\u001b[0m  To get the checkpoint\n",
      "\u001b[36m(launch_and_fit pid=9473)\u001b[0m save graph in  results/FL/\n",
      "\u001b[36m(launch_and_fit pid=9473)\u001b[0m \tTrain Epoch: 10 \tTrain_loss_mri: 0.0066 | Train_acc_mri: 100.0000 | Train_loss_dna: 0.1572 | Train_acc_dna: 97.7546 | Validation_loss_mri: 5.1830 | Validation_acc_mri: 69.2708 | Validation_loss_dna: 5.5864 | Validation_acc_dna: 12.5000\n"
     ]
    },
    {
     "name": "stderr",
     "output_type": "stream",
     "text": [
      "  0%|\u001b[34m          \u001b[0m| 0/10 [00:00<?, ?it/s]\n",
      "100%|\u001b[34m██████████\u001b[0m| 10/10 [00:40<00:00,  4.10s/it]\n"
     ]
    },
    {
     "name": "stdout",
     "output_type": "stream",
     "text": [
      "\u001b[36m(launch_and_fit pid=9523)\u001b[0m [Client 4, round 13] fit, config: {'learning_rate': 0.003, 'batch_size': '32', 'server_round': 13, 'local_epochs': 10}\n",
      "\u001b[36m(launch_and_fit pid=9523)\u001b[0m Updated model\n"
     ]
    },
    {
     "name": "stderr",
     "output_type": "stream",
     "text": [
      " 10%|\u001b[34m█         \u001b[0m| 1/10 [00:04<00:40,  4.49s/it]\n"
     ]
    },
    {
     "name": "stdout",
     "output_type": "stream",
     "text": [
      "\u001b[36m(launch_and_fit pid=9523)\u001b[0m \tTrain Epoch: 1 \tTrain_loss_mri: 0.0915 | Train_acc_mri: 96.5625 | Train_loss_dna: 1.8260 | Train_acc_dna: 40.0463 | Validation_loss_mri: 1.6653 | Validation_acc_mri: 69.2708 | Validation_loss_dna: 1.8262 | Validation_acc_dna: 38.5417\n",
      "\u001b[36m(launch_and_fit pid=9547)\u001b[0m Run WITHOUT homomorphic encryption\n",
      "\u001b[36m(launch_and_fit pid=9547)\u001b[0m  To get the checkpoint\n",
      "\u001b[36m(launch_and_fit pid=9547)\u001b[0m [Client 9, round 13] fit, config: {'learning_rate': 0.003, 'batch_size': '32', 'server_round': 13, 'local_epochs': 10}\n",
      "\u001b[36m(launch_and_fit pid=9547)\u001b[0m Updated model\n"
     ]
    },
    {
     "name": "stderr",
     "output_type": "stream",
     "text": [
      "  0%|\u001b[34m          \u001b[0m| 0/10 [00:00<?, ?it/s]\n"
     ]
    },
    {
     "name": "stdout",
     "output_type": "stream",
     "text": [
      "\u001b[36m(launch_and_fit pid=9547)\u001b[0m \tTrain Epoch: 2 \tTrain_loss_mri: 0.0902 | Train_acc_mri: 95.9274 | Train_loss_dna: 0.7754 | Train_acc_dna: 71.7540 | Validation_loss_mri: 0.4672 | Validation_acc_mri: 87.5000 | Validation_loss_dna: 3.3050 | Validation_acc_dna: 10.9375\u001b[32m [repeated 3x across cluster]\u001b[0m\n"
     ]
    },
    {
     "name": "stderr",
     "output_type": "stream",
     "text": [
      " 20%|\u001b[34m██        \u001b[0m| 2/10 [00:08<00:33,  4.20s/it]\u001b[32m [repeated 3x across cluster]\u001b[0m\n",
      " 40%|\u001b[34m████      \u001b[0m| 4/10 [00:16<00:23,  3.98s/it]\u001b[32m [repeated 3x across cluster]\u001b[0m\n"
     ]
    },
    {
     "name": "stdout",
     "output_type": "stream",
     "text": [
      "\u001b[36m(launch_and_fit pid=9523)\u001b[0m \tTrain Epoch: 4 \tTrain_loss_mri: 0.0479 | Train_acc_mri: 98.7500 | Train_loss_dna: 0.4853 | Train_acc_dna: 84.3981 | Validation_loss_mri: 1.6688 | Validation_acc_mri: 67.7083 | Validation_loss_dna: 1.7868 | Validation_acc_dna: 33.8542\u001b[32m [repeated 3x across cluster]\u001b[0m\n",
      "\u001b[36m(launch_and_fit pid=9547)\u001b[0m \tTrain Epoch: 5 \tTrain_loss_mri: 0.0235 | Train_acc_mri: 99.6875 | Train_loss_dna: 0.3016 | Train_acc_dna: 92.1774 | Validation_loss_mri: 0.5395 | Validation_acc_mri: 85.9375 | Validation_loss_dna: 2.7141 | Validation_acc_dna: 29.1667\u001b[32m [repeated 3x across cluster]\u001b[0m\n"
     ]
    },
    {
     "name": "stderr",
     "output_type": "stream",
     "text": [
      " 50%|\u001b[34m█████     \u001b[0m| 5/10 [00:20<00:20,  4.12s/it]\u001b[32m [repeated 3x across cluster]\u001b[0m\n",
      " 70%|\u001b[34m███████   \u001b[0m| 7/10 [00:28<00:12,  4.08s/it]\u001b[32m [repeated 3x across cluster]\u001b[0m\n"
     ]
    },
    {
     "name": "stdout",
     "output_type": "stream",
     "text": [
      "\u001b[36m(launch_and_fit pid=9523)\u001b[0m \tTrain Epoch: 7 \tTrain_loss_mri: 0.0194 | Train_acc_mri: 99.6875 | Train_loss_dna: 0.2356 | Train_acc_dna: 96.8171 | Validation_loss_mri: 1.4176 | Validation_acc_mri: 70.8333 | Validation_loss_dna: 2.2625 | Validation_acc_dna: 27.6042\u001b[32m [repeated 3x across cluster]\u001b[0m\n",
      "\u001b[36m(launch_and_fit pid=9547)\u001b[0m \tTrain Epoch: 8 \tTrain_loss_mri: 0.0155 | Train_acc_mri: 99.6875 | Train_loss_dna: 0.1998 | Train_acc_dna: 96.8649 | Validation_loss_mri: 0.6844 | Validation_acc_mri: 87.5000 | Validation_loss_dna: 3.9591 | Validation_acc_dna: 9.3750\u001b[32m [repeated 3x across cluster]\u001b[0m\n"
     ]
    },
    {
     "name": "stderr",
     "output_type": "stream",
     "text": [
      " 80%|\u001b[34m████████  \u001b[0m| 8/10 [00:32<00:08,  4.04s/it]\u001b[32m [repeated 3x across cluster]\u001b[0m\n",
      "100%|\u001b[34m██████████\u001b[0m| 10/10 [00:40<00:00,  4.03s/it]\u001b[32m [repeated 3x across cluster]\u001b[0m\n"
     ]
    },
    {
     "name": "stdout",
     "output_type": "stream",
     "text": [
      "\u001b[36m(launch_and_fit pid=9523)\u001b[0m save graph in  results/FL/\n",
      "\u001b[36m(launch_and_fit pid=9523)\u001b[0m \tTrain Epoch: 10 \tTrain_loss_mri: 0.0251 | Train_acc_mri: 99.6875 | Train_loss_dna: 0.2279 | Train_acc_dna: 94.3750 | Validation_loss_mri: 1.6179 | Validation_acc_mri: 69.2708 | Validation_loss_dna: 2.4099 | Validation_acc_dna: 27.6042\u001b[32m [repeated 3x across cluster]\u001b[0m\n",
      "\u001b[36m(launch_and_fit pid=9596)\u001b[0m Run WITHOUT homomorphic encryption\n",
      "\u001b[36m(launch_and_fit pid=9596)\u001b[0m  To get the checkpoint\n",
      "\u001b[36m(launch_and_fit pid=9547)\u001b[0m save graph in  results/FL/\n",
      "\u001b[36m(launch_and_fit pid=9547)\u001b[0m \tTrain Epoch: 10 \tTrain_loss_mri: 0.0171 | Train_acc_mri: 99.6875 | Train_loss_dna: 0.1389 | Train_acc_dna: 96.5323 | Validation_loss_mri: 0.6620 | Validation_acc_mri: 87.5000 | Validation_loss_dna: 3.8131 | Validation_acc_dna: 26.0417\n",
      "\u001b[36m(launch_and_fit pid=9596)\u001b[0m [Client 0, round 13] fit, config: {'learning_rate': 0.003, 'batch_size': '32', 'server_round': 13, 'local_epochs': 10}\n",
      "\u001b[36m(launch_and_fit pid=9596)\u001b[0m Updated model\n"
     ]
    },
    {
     "name": "stderr",
     "output_type": "stream",
     "text": [
      "  0%|\u001b[34m          \u001b[0m| 0/10 [00:00<?, ?it/s]\n",
      "100%|\u001b[34m██████████\u001b[0m| 10/10 [00:40<00:00,  4.09s/it]\n",
      " 10%|\u001b[34m█         \u001b[0m| 1/10 [00:04<00:42,  4.71s/it]\n"
     ]
    },
    {
     "name": "stdout",
     "output_type": "stream",
     "text": [
      "\u001b[36m(launch_and_fit pid=9596)\u001b[0m \tTrain Epoch: 1 \tTrain_loss_mri: 0.1444 | Train_acc_mri: 93.9468 | Train_loss_dna: 1.6285 | Train_acc_dna: 46.8056 | Validation_loss_mri: 0.4219 | Validation_acc_mri: 89.0625 | Validation_loss_dna: 2.4707 | Validation_acc_dna: 12.5000\n",
      "\u001b[36m(launch_and_fit pid=9621)\u001b[0m Run WITHOUT homomorphic encryption\n",
      "\u001b[36m(launch_and_fit pid=9621)\u001b[0m  To get the checkpoint\n",
      "\u001b[36m(launch_and_fit pid=9621)\u001b[0m [Client 2, round 13] fit, config: {'learning_rate': 0.003, 'batch_size': '32', 'server_round': 13, 'local_epochs': 10}\n",
      "\u001b[36m(launch_and_fit pid=9621)\u001b[0m Updated model\n"
     ]
    },
    {
     "name": "stderr",
     "output_type": "stream",
     "text": [
      "  0%|\u001b[34m          \u001b[0m| 0/10 [00:00<?, ?it/s]\n"
     ]
    },
    {
     "name": "stdout",
     "output_type": "stream",
     "text": [
      "\u001b[36m(launch_and_fit pid=9621)\u001b[0m \tTrain Epoch: 2 \tTrain_loss_mri: 0.1524 | Train_acc_mri: 94.0278 | Train_loss_dna: 1.1405 | Train_acc_dna: 55.6134 | Validation_loss_mri: 0.5330 | Validation_acc_mri: 87.5000 | Validation_loss_dna: 3.0271 | Validation_acc_dna: 30.7292\u001b[32m [repeated 3x across cluster]\u001b[0m\n"
     ]
    },
    {
     "name": "stderr",
     "output_type": "stream",
     "text": [
      " 20%|\u001b[34m██        \u001b[0m| 2/10 [00:08<00:34,  4.34s/it]\u001b[32m [repeated 3x across cluster]\u001b[0m\n",
      " 40%|\u001b[34m████      \u001b[0m| 4/10 [00:16<00:24,  4.06s/it]\u001b[32m [repeated 3x across cluster]\u001b[0m\n"
     ]
    },
    {
     "name": "stdout",
     "output_type": "stream",
     "text": [
      "\u001b[36m(launch_and_fit pid=9596)\u001b[0m \tTrain Epoch: 4 \tTrain_loss_mri: 0.0529 | Train_acc_mri: 99.0046 | Train_loss_dna: 0.5713 | Train_acc_dna: 78.8310 | Validation_loss_mri: 0.8311 | Validation_acc_mri: 70.8333 | Validation_loss_dna: 2.8704 | Validation_acc_dna: 14.0625\u001b[32m [repeated 3x across cluster]\u001b[0m\n",
      "\u001b[36m(launch_and_fit pid=9621)\u001b[0m \tTrain Epoch: 5 \tTrain_loss_mri: 0.0959 | Train_acc_mri: 97.8125 | Train_loss_dna: 0.4076 | Train_acc_dna: 88.3796 | Validation_loss_mri: 0.5832 | Validation_acc_mri: 90.6250 | Validation_loss_dna: 3.1999 | Validation_acc_dna: 27.6042\u001b[32m [repeated 3x across cluster]\u001b[0m\n"
     ]
    },
    {
     "name": "stderr",
     "output_type": "stream",
     "text": [
      " 50%|\u001b[34m█████     \u001b[0m| 5/10 [00:20<00:20,  4.06s/it]\u001b[32m [repeated 3x across cluster]\u001b[0m\n",
      " 70%|\u001b[34m███████   \u001b[0m| 7/10 [00:28<00:11,  3.96s/it]\u001b[32m [repeated 3x across cluster]\u001b[0m\n"
     ]
    },
    {
     "name": "stdout",
     "output_type": "stream",
     "text": [
      "\u001b[36m(launch_and_fit pid=9596)\u001b[0m \tTrain Epoch: 7 \tTrain_loss_mri: 0.0185 | Train_acc_mri: 99.3750 | Train_loss_dna: 0.2673 | Train_acc_dna: 95.2546 | Validation_loss_mri: 0.7164 | Validation_acc_mri: 70.8333 | Validation_loss_dna: 3.4501 | Validation_acc_dna: 14.0625\u001b[32m [repeated 3x across cluster]\u001b[0m\n",
      "\u001b[36m(launch_and_fit pid=9621)\u001b[0m \tTrain Epoch: 8 \tTrain_loss_mri: 0.0136 | Train_acc_mri: 99.3750 | Train_loss_dna: 0.2286 | Train_acc_dna: 95.8796 | Validation_loss_mri: 0.6673 | Validation_acc_mri: 89.0625 | Validation_loss_dna: 3.1106 | Validation_acc_dna: 27.6042\u001b[32m [repeated 3x across cluster]\u001b[0m\n"
     ]
    },
    {
     "name": "stderr",
     "output_type": "stream",
     "text": [
      " 80%|\u001b[34m████████  \u001b[0m| 8/10 [00:32<00:08,  4.03s/it]\u001b[32m [repeated 3x across cluster]\u001b[0m\n",
      "100%|\u001b[34m██████████\u001b[0m| 10/10 [00:40<00:00,  4.07s/it]\u001b[32m [repeated 3x across cluster]\u001b[0m\n"
     ]
    },
    {
     "name": "stdout",
     "output_type": "stream",
     "text": [
      "\u001b[36m(launch_and_fit pid=9596)\u001b[0m save graph in  results/FL/\n",
      "\u001b[36m(launch_and_fit pid=9596)\u001b[0m \tTrain Epoch: 10 \tTrain_loss_mri: 0.0114 | Train_acc_mri: 99.6875 | Train_loss_dna: 0.1941 | Train_acc_dna: 96.1921 | Validation_loss_mri: 0.9273 | Validation_acc_mri: 72.3958 | Validation_loss_dna: 4.2323 | Validation_acc_dna: 18.7500\u001b[32m [repeated 3x across cluster]\u001b[0m\n"
     ]
    },
    {
     "name": "stderr",
     "output_type": "stream",
     "text": [
      "DEBUG flwr 2024-08-05 12:11:17,159 | server.py:236 | fit_round 13 received 10 results and 0 failures\n"
     ]
    },
    {
     "name": "stdout",
     "output_type": "stream",
     "text": [
      "Saving round 13 aggregated_parameters...\n",
      "Updated model\n"
     ]
    },
    {
     "name": "stderr",
     "output_type": "stream",
     "text": [
      "INFO flwr 2024-08-05 12:11:23,652 | server.py:125 | fit progress: (13, (1.1758212883557593, 3.4341336360999515), {'accuracy': (79.27827380952381, 16.77827380952381)}, 4342.78793581)\n",
      "DEBUG flwr 2024-08-05 12:11:23,653 | server.py:173 | evaluate_round 13: strategy sampled 10 clients (out of 10)\n"
     ]
    },
    {
     "name": "stdout",
     "output_type": "stream",
     "text": [
      "Server-side evaluation MRI loss 1.1758212883557593 / MRI accuracy 79.27827380952381\n",
      "Server-side evaluation DNA loss 3.4341336360999515 / DNA accuracy 16.77827380952381\n",
      "\u001b[36m(launch_and_evaluate pid=9679)\u001b[0m Run WITHOUT homomorphic encryption\n",
      "\u001b[36m(launch_and_evaluate pid=9679)\u001b[0m  To get the checkpoint\n",
      "\u001b[36m(launch_and_fit pid=9621)\u001b[0m save graph in  results/FL/\n",
      "\u001b[36m(launch_and_fit pid=9621)\u001b[0m \tTrain Epoch: 10 \tTrain_loss_mri: 0.0104 | Train_acc_mri: 100.0000 | Train_loss_dna: 0.1580 | Train_acc_dna: 98.3796 | Validation_loss_mri: 0.5684 | Validation_acc_mri: 90.6250 | Validation_loss_dna: 3.8365 | Validation_acc_dna: 7.8125\n",
      "\u001b[36m(launch_and_evaluate pid=9679)\u001b[0m [Client 9] evaluate, config: {}\n",
      "\u001b[36m(launch_and_evaluate pid=9679)\u001b[0m Updated model\n"
     ]
    },
    {
     "name": "stderr",
     "output_type": "stream",
     "text": [
      "\u001b[36m(launch_and_evaluate pid=9679)\u001b[0m /opt/conda/lib/python3.10/site-packages/sklearn/metrics/_ranking.py:1029: UndefinedMetricWarning: No positive samples in y_true, true positive value should be meaningless\n",
      "\u001b[36m(launch_and_evaluate pid=9679)\u001b[0m   warnings.warn(\n",
      "100%|\u001b[34m██████████\u001b[0m| 10/10 [00:41<00:00,  4.12s/it]\n"
     ]
    },
    {
     "name": "stdout",
     "output_type": "stream",
     "text": [
      "\u001b[36m(launch_and_evaluate pid=9750)\u001b[0m Run WITHOUT homomorphic encryption\u001b[32m [repeated 2x across cluster]\u001b[0m\n",
      "\u001b[36m(launch_and_evaluate pid=9750)\u001b[0m  To get the checkpoint\u001b[32m [repeated 2x across cluster]\u001b[0m\n",
      "\u001b[36m(launch_and_evaluate pid=9680)\u001b[0m [Client 3] evaluate, config: {}\n",
      "\u001b[36m(launch_and_evaluate pid=9680)\u001b[0m Updated model\n",
      "\u001b[36m(launch_and_evaluate pid=9750)\u001b[0m [Client 6] evaluate, config: {}\n",
      "\u001b[36m(launch_and_evaluate pid=9750)\u001b[0m Updated model\n",
      "\u001b[36m(launch_and_evaluate pid=9820)\u001b[0m Run WITHOUT homomorphic encryption\u001b[32m [repeated 2x across cluster]\u001b[0m\n",
      "\u001b[36m(launch_and_evaluate pid=9820)\u001b[0m  To get the checkpoint\u001b[32m [repeated 2x across cluster]\u001b[0m\n",
      "\u001b[36m(launch_and_evaluate pid=9752)\u001b[0m [Client 7] evaluate, config: {}\n",
      "\u001b[36m(launch_and_evaluate pid=9752)\u001b[0m Updated model\n",
      "\u001b[36m(launch_and_evaluate pid=9820)\u001b[0m [Client 1] evaluate, config: {}\n",
      "\u001b[36m(launch_and_evaluate pid=9820)\u001b[0m Updated model\n"
     ]
    },
    {
     "name": "stderr",
     "output_type": "stream",
     "text": [
      "\u001b[36m(launch_and_evaluate pid=9822)\u001b[0m /opt/conda/lib/python3.10/site-packages/sklearn/metrics/_ranking.py:1029: UndefinedMetricWarning: No positive samples in y_true, true positive value should be meaningless\n",
      "\u001b[36m(launch_and_evaluate pid=9822)\u001b[0m   warnings.warn(\n"
     ]
    },
    {
     "name": "stdout",
     "output_type": "stream",
     "text": [
      "\u001b[36m(launch_and_evaluate pid=9890)\u001b[0m Run WITHOUT homomorphic encryption\u001b[32m [repeated 2x across cluster]\u001b[0m\n",
      "\u001b[36m(launch_and_evaluate pid=9890)\u001b[0m  To get the checkpoint\u001b[32m [repeated 2x across cluster]\u001b[0m\n",
      "\u001b[36m(launch_and_evaluate pid=9822)\u001b[0m [Client 4] evaluate, config: {}\n",
      "\u001b[36m(launch_and_evaluate pid=9822)\u001b[0m Updated model\n",
      "\u001b[36m(launch_and_evaluate pid=9890)\u001b[0m [Client 2] evaluate, config: {}\n",
      "\u001b[36m(launch_and_evaluate pid=9890)\u001b[0m Updated model\n"
     ]
    },
    {
     "name": "stderr",
     "output_type": "stream",
     "text": [
      "\u001b[36m(launch_and_evaluate pid=9892)\u001b[0m /opt/conda/lib/python3.10/site-packages/sklearn/metrics/_ranking.py:1029: UndefinedMetricWarning: No positive samples in y_true, true positive value should be meaningless\n",
      "\u001b[36m(launch_and_evaluate pid=9892)\u001b[0m   warnings.warn(\n"
     ]
    },
    {
     "name": "stdout",
     "output_type": "stream",
     "text": [
      "\u001b[36m(launch_and_evaluate pid=9960)\u001b[0m Run WITHOUT homomorphic encryption\u001b[32m [repeated 2x across cluster]\u001b[0m\n",
      "\u001b[36m(launch_and_evaluate pid=9960)\u001b[0m  To get the checkpoint\u001b[32m [repeated 2x across cluster]\u001b[0m\n",
      "\u001b[36m(launch_and_evaluate pid=9892)\u001b[0m [Client 8] evaluate, config: {}\n",
      "\u001b[36m(launch_and_evaluate pid=9892)\u001b[0m Updated model\n",
      "\u001b[36m(launch_and_evaluate pid=9960)\u001b[0m [Client 0] evaluate, config: {}\n",
      "\u001b[36m(launch_and_evaluate pid=9960)\u001b[0m Updated model\n"
     ]
    },
    {
     "name": "stderr",
     "output_type": "stream",
     "text": [
      "DEBUG flwr 2024-08-05 12:12:33,019 | server.py:187 | evaluate_round 13 received 10 results and 0 failures\n",
      "DEBUG flwr 2024-08-05 12:12:33,020 | server.py:222 | fit_round 14: strategy sampled 10 clients (out of 10)\n"
     ]
    },
    {
     "name": "stdout",
     "output_type": "stream",
     "text": [
      "\u001b[36m(launch_and_fit pid=10039)\u001b[0m Run WITHOUT homomorphic encryption\u001b[32m [repeated 2x across cluster]\u001b[0m\n",
      "\u001b[36m(launch_and_fit pid=10039)\u001b[0m  To get the checkpoint\u001b[32m [repeated 2x across cluster]\u001b[0m\n",
      "\u001b[36m(launch_and_evaluate pid=9962)\u001b[0m [Client 5] evaluate, config: {}\n",
      "\u001b[36m(launch_and_evaluate pid=9962)\u001b[0m Updated model\n"
     ]
    },
    {
     "name": "stderr",
     "output_type": "stream",
     "text": [
      "  0%|\u001b[34m          \u001b[0m| 0/10 [00:00<?, ?it/s]\n"
     ]
    },
    {
     "name": "stdout",
     "output_type": "stream",
     "text": [
      "\u001b[36m(launch_and_fit pid=10039)\u001b[0m [Client 9, round 14] fit, config: {'learning_rate': 0.003, 'batch_size': '32', 'server_round': 14, 'local_epochs': 10}\n",
      "\u001b[36m(launch_and_fit pid=10039)\u001b[0m Updated model\n"
     ]
    },
    {
     "name": "stderr",
     "output_type": "stream",
     "text": [
      " 10%|\u001b[34m█         \u001b[0m| 1/10 [00:04<00:39,  4.41s/it]\n"
     ]
    },
    {
     "name": "stdout",
     "output_type": "stream",
     "text": [
      "\u001b[36m(launch_and_fit pid=10039)\u001b[0m \tTrain Epoch: 1 \tTrain_loss_mri: 0.0988 | Train_acc_mri: 96.5625 | Train_loss_dna: 1.3029 | Train_acc_dna: 55.2016 | Validation_loss_mri: 0.5670 | Validation_acc_mri: 87.5000 | Validation_loss_dna: 4.0175 | Validation_acc_dna: 9.3750\n",
      "\u001b[36m(launch_and_fit pid=10040)\u001b[0m Run WITHOUT homomorphic encryption\n",
      "\u001b[36m(launch_and_fit pid=10040)\u001b[0m  To get the checkpoint\n"
     ]
    },
    {
     "name": "stderr",
     "output_type": "stream",
     "text": [
      "  0%|\u001b[34m          \u001b[0m| 0/10 [00:00<?, ?it/s]\n"
     ]
    },
    {
     "name": "stdout",
     "output_type": "stream",
     "text": [
      "\u001b[36m(launch_and_fit pid=10040)\u001b[0m [Client 3, round 14] fit, config: {'learning_rate': 0.003, 'batch_size': '32', 'server_round': 14, 'local_epochs': 10}\n",
      "\u001b[36m(launch_and_fit pid=10040)\u001b[0m Updated model\n"
     ]
    },
    {
     "name": "stderr",
     "output_type": "stream",
     "text": [
      " 30%|\u001b[34m███       \u001b[0m| 3/10 [00:12<00:28,  4.06s/it]\u001b[32m [repeated 4x across cluster]\u001b[0m\n"
     ]
    },
    {
     "name": "stdout",
     "output_type": "stream",
     "text": [
      "\u001b[36m(launch_and_fit pid=10039)\u001b[0m \tTrain Epoch: 3 \tTrain_loss_mri: 0.1040 | Train_acc_mri: 96.8750 | Train_loss_dna: 0.4418 | Train_acc_dna: 87.4294 | Validation_loss_mri: 0.5811 | Validation_acc_mri: 85.9375 | Validation_loss_dna: 3.6949 | Validation_acc_dna: 10.9375\u001b[32m [repeated 4x across cluster]\u001b[0m\n"
     ]
    },
    {
     "name": "stderr",
     "output_type": "stream",
     "text": [
      " 50%|\u001b[34m█████     \u001b[0m| 5/10 [00:20<00:19,  3.99s/it]\u001b[32m [repeated 4x across cluster]\u001b[0m\n"
     ]
    },
    {
     "name": "stdout",
     "output_type": "stream",
     "text": [
      "\u001b[36m(launch_and_fit pid=10039)\u001b[0m \tTrain Epoch: 5 \tTrain_loss_mri: 0.0227 | Train_acc_mri: 99.3750 | Train_loss_dna: 0.2756 | Train_acc_dna: 92.4798 | Validation_loss_mri: 0.6384 | Validation_acc_mri: 87.5000 | Validation_loss_dna: 3.9731 | Validation_acc_dna: 12.5000\u001b[32m [repeated 4x across cluster]\u001b[0m\n"
     ]
    },
    {
     "name": "stderr",
     "output_type": "stream",
     "text": [
      " 70%|\u001b[34m███████   \u001b[0m| 7/10 [00:28<00:12,  4.00s/it]\u001b[32m [repeated 4x across cluster]\u001b[0m\n"
     ]
    },
    {
     "name": "stdout",
     "output_type": "stream",
     "text": [
      "\u001b[36m(launch_and_fit pid=10039)\u001b[0m \tTrain Epoch: 7 \tTrain_loss_mri: 0.0406 | Train_acc_mri: 99.3750 | Train_loss_dna: 0.2178 | Train_acc_dna: 95.2722 | Validation_loss_mri: 0.7189 | Validation_acc_mri: 87.5000 | Validation_loss_dna: 4.2555 | Validation_acc_dna: 10.9375\u001b[32m [repeated 4x across cluster]\u001b[0m\n"
     ]
    },
    {
     "name": "stderr",
     "output_type": "stream",
     "text": [
      " 90%|\u001b[34m█████████ \u001b[0m| 9/10 [00:36<00:04,  4.06s/it]\u001b[32m [repeated 4x across cluster]\u001b[0m\n"
     ]
    },
    {
     "name": "stdout",
     "output_type": "stream",
     "text": [
      "\u001b[36m(launch_and_fit pid=10039)\u001b[0m \tTrain Epoch: 9 \tTrain_loss_mri: 0.0207 | Train_acc_mri: 99.3750 | Train_loss_dna: 0.1724 | Train_acc_dna: 95.3125 | Validation_loss_mri: 0.7975 | Validation_acc_mri: 85.9375 | Validation_loss_dna: 4.2290 | Validation_acc_dna: 30.7292\u001b[32m [repeated 4x across cluster]\u001b[0m\n",
      "\u001b[36m(launch_and_fit pid=10039)\u001b[0m save graph in  results/FL/\n",
      "\u001b[36m(launch_and_fit pid=10113)\u001b[0m Run WITHOUT homomorphic encryption\n",
      "\u001b[36m(launch_and_fit pid=10113)\u001b[0m  To get the checkpoint\n",
      "\u001b[36m(launch_and_fit pid=10040)\u001b[0m \tTrain Epoch: 10 \tTrain_loss_mri: 0.0114 | Train_acc_mri: 100.0000 | Train_loss_dna: 0.1122 | Train_acc_dna: 98.1250 | Validation_loss_mri: 0.8113 | Validation_acc_mri: 90.6250 | Validation_loss_dna: 9.6568 | Validation_acc_dna: 24.4792\u001b[32m [repeated 3x across cluster]\u001b[0m\n",
      "\u001b[36m(launch_and_fit pid=10040)\u001b[0m save graph in  results/FL/\n"
     ]
    },
    {
     "name": "stderr",
     "output_type": "stream",
     "text": [
      "  0%|\u001b[34m          \u001b[0m| 0/10 [00:00<?, ?it/s]\n",
      "100%|\u001b[34m██████████\u001b[0m| 10/10 [00:40<00:00,  4.08s/it]\u001b[32m [repeated 3x across cluster]\u001b[0m\n"
     ]
    },
    {
     "name": "stdout",
     "output_type": "stream",
     "text": [
      "\u001b[36m(launch_and_fit pid=10113)\u001b[0m [Client 5, round 14] fit, config: {'learning_rate': 0.003, 'batch_size': '32', 'server_round': 14, 'local_epochs': 10}\n",
      "\u001b[36m(launch_and_fit pid=10113)\u001b[0m Updated model\n",
      "\u001b[36m(launch_and_fit pid=10115)\u001b[0m Run WITHOUT homomorphic encryption\n",
      "\u001b[36m(launch_and_fit pid=10115)\u001b[0m  To get the checkpoint\n",
      "\u001b[36m(launch_and_fit pid=10113)\u001b[0m \tTrain Epoch: 1 \tTrain_loss_mri: 0.1568 | Train_acc_mri: 96.5625 | Train_loss_dna: 1.4723 | Train_acc_dna: 50.4977 | Validation_loss_mri: 1.5137 | Validation_acc_mri: 57.2917 | Validation_loss_dna: 4.7845 | Validation_acc_dna: 14.0625\n"
     ]
    },
    {
     "name": "stderr",
     "output_type": "stream",
     "text": [
      "  0%|\u001b[34m          \u001b[0m| 0/10 [00:00<?, ?it/s]\n",
      " 10%|\u001b[34m█         \u001b[0m| 1/10 [00:04<00:41,  4.56s/it]\u001b[32m [repeated 2x across cluster]\u001b[0m\n"
     ]
    },
    {
     "name": "stdout",
     "output_type": "stream",
     "text": [
      "\u001b[36m(launch_and_fit pid=10115)\u001b[0m \tTrain Epoch: 1 \tTrain_loss_mri: 0.0877 | Train_acc_mri: 96.8171 | Train_loss_dna: 1.3239 | Train_acc_dna: 53.1366 | Validation_loss_mri: 0.4250 | Validation_acc_mri: 92.1875 | Validation_loss_dna: 2.5831 | Validation_acc_dna: 14.0625\n",
      "\u001b[36m(launch_and_fit pid=10115)\u001b[0m [Client 0, round 14] fit, config: {'learning_rate': 0.003, 'batch_size': '32', 'server_round': 14, 'local_epochs': 10}\n",
      "\u001b[36m(launch_and_fit pid=10115)\u001b[0m Updated model\n"
     ]
    },
    {
     "name": "stderr",
     "output_type": "stream",
     "text": [
      " 30%|\u001b[34m███       \u001b[0m| 3/10 [00:12<00:29,  4.21s/it]\u001b[32m [repeated 3x across cluster]\u001b[0m\n"
     ]
    },
    {
     "name": "stdout",
     "output_type": "stream",
     "text": [
      "\u001b[36m(launch_and_fit pid=10113)\u001b[0m \tTrain Epoch: 3 \tTrain_loss_mri: 0.0677 | Train_acc_mri: 98.3796 | Train_loss_dna: 0.4982 | Train_acc_dna: 84.4560 | Validation_loss_mri: 2.8633 | Validation_acc_mri: 55.7292 | Validation_loss_dna: 4.0336 | Validation_acc_dna: 15.6250\u001b[32m [repeated 3x across cluster]\u001b[0m\n"
     ]
    },
    {
     "name": "stderr",
     "output_type": "stream",
     "text": [
      " 50%|\u001b[34m█████     \u001b[0m| 5/10 [00:20<00:20,  4.02s/it]\u001b[32m [repeated 4x across cluster]\u001b[0m\n"
     ]
    },
    {
     "name": "stdout",
     "output_type": "stream",
     "text": [
      "\u001b[36m(launch_and_fit pid=10113)\u001b[0m \tTrain Epoch: 5 \tTrain_loss_mri: 0.0313 | Train_acc_mri: 99.3750 | Train_loss_dna: 0.2211 | Train_acc_dna: 95.0000 | Validation_loss_mri: 2.5210 | Validation_acc_mri: 55.7292 | Validation_loss_dna: 4.9493 | Validation_acc_dna: 14.0625\u001b[32m [repeated 4x across cluster]\u001b[0m\n"
     ]
    },
    {
     "name": "stderr",
     "output_type": "stream",
     "text": [
      " 70%|\u001b[34m███████   \u001b[0m| 7/10 [00:28<00:11,  3.95s/it]\u001b[32m [repeated 4x across cluster]\u001b[0m\n"
     ]
    },
    {
     "name": "stdout",
     "output_type": "stream",
     "text": [
      "\u001b[36m(launch_and_fit pid=10113)\u001b[0m \tTrain Epoch: 7 \tTrain_loss_mri: 0.0199 | Train_acc_mri: 99.6875 | Train_loss_dna: 0.1784 | Train_acc_dna: 95.8218 | Validation_loss_mri: 2.6340 | Validation_acc_mri: 57.2917 | Validation_loss_dna: 5.2698 | Validation_acc_dna: 14.0625\u001b[32m [repeated 4x across cluster]\u001b[0m\n"
     ]
    },
    {
     "name": "stderr",
     "output_type": "stream",
     "text": [
      " 90%|\u001b[34m█████████ \u001b[0m| 9/10 [00:36<00:03,  3.97s/it]\u001b[32m [repeated 4x across cluster]\u001b[0m\n"
     ]
    },
    {
     "name": "stdout",
     "output_type": "stream",
     "text": [
      "\u001b[36m(launch_and_fit pid=10113)\u001b[0m \tTrain Epoch: 9 \tTrain_loss_mri: 0.0605 | Train_acc_mri: 99.6875 | Train_loss_dna: 0.1415 | Train_acc_dna: 97.1875 | Validation_loss_mri: 3.2685 | Validation_acc_mri: 57.2917 | Validation_loss_dna: 5.1971 | Validation_acc_dna: 12.5000\u001b[32m [repeated 4x across cluster]\u001b[0m\n",
      "\u001b[36m(launch_and_fit pid=10113)\u001b[0m save graph in  results/FL/\n"
     ]
    },
    {
     "name": "stderr",
     "output_type": "stream",
     "text": [
      "100%|\u001b[34m██████████\u001b[0m| 10/10 [00:40<00:00,  4.08s/it]\u001b[32m [repeated 3x across cluster]\u001b[0m\n"
     ]
    },
    {
     "name": "stdout",
     "output_type": "stream",
     "text": [
      "\u001b[36m(launch_and_fit pid=10115)\u001b[0m \tTrain Epoch: 10 \tTrain_loss_mri: 0.0136 | Train_acc_mri: 100.0000 | Train_loss_dna: 0.1219 | Train_acc_dna: 97.7546 | Validation_loss_mri: 1.6830 | Validation_acc_mri: 70.8333 | Validation_loss_dna: 3.6021 | Validation_acc_dna: 10.9375\u001b[32m [repeated 3x across cluster]\u001b[0m\n",
      "\u001b[36m(launch_and_fit pid=10187)\u001b[0m Run WITHOUT homomorphic encryption\n",
      "\u001b[36m(launch_and_fit pid=10187)\u001b[0m  To get the checkpoint\n",
      "\u001b[36m(launch_and_fit pid=10115)\u001b[0m save graph in  results/FL/\n",
      "\u001b[36m(launch_and_fit pid=10187)\u001b[0m [Client 6, round 14] fit, config: {'learning_rate': 0.003, 'batch_size': '32', 'server_round': 14, 'local_epochs': 10}\n",
      "\u001b[36m(launch_and_fit pid=10187)\u001b[0m Updated model\n"
     ]
    },
    {
     "name": "stderr",
     "output_type": "stream",
     "text": [
      "  0%|\u001b[34m          \u001b[0m| 0/10 [00:00<?, ?it/s]\n"
     ]
    },
    {
     "name": "stdout",
     "output_type": "stream",
     "text": [
      "\u001b[36m(launch_and_fit pid=10187)\u001b[0m \tTrain Epoch: 1 \tTrain_loss_mri: 0.1071 | Train_acc_mri: 97.5000 | Train_loss_dna: 1.5555 | Train_acc_dna: 50.1273 | Validation_loss_mri: 1.3635 | Validation_acc_mri: 58.8542 | Validation_loss_dna: 2.6665 | Validation_acc_dna: 27.6042\n"
     ]
    },
    {
     "name": "stderr",
     "output_type": "stream",
     "text": [
      " 10%|\u001b[34m█         \u001b[0m| 1/10 [00:04<00:40,  4.51s/it]\n"
     ]
    },
    {
     "name": "stdout",
     "output_type": "stream",
     "text": [
      "\u001b[36m(launch_and_fit pid=10212)\u001b[0m Run WITHOUT homomorphic encryption\n",
      "\u001b[36m(launch_and_fit pid=10212)\u001b[0m  To get the checkpoint\n",
      "\u001b[36m(launch_and_fit pid=10212)\u001b[0m [Client 8, round 14] fit, config: {'learning_rate': 0.003, 'batch_size': '32', 'server_round': 14, 'local_epochs': 10}\n",
      "\u001b[36m(launch_and_fit pid=10212)\u001b[0m Updated model\n"
     ]
    },
    {
     "name": "stderr",
     "output_type": "stream",
     "text": [
      "  0%|\u001b[34m          \u001b[0m| 0/10 [00:00<?, ?it/s]\n"
     ]
    },
    {
     "name": "stdout",
     "output_type": "stream",
     "text": [
      "\u001b[36m(launch_and_fit pid=10187)\u001b[0m \tTrain Epoch: 3 \tTrain_loss_mri: 0.0565 | Train_acc_mri: 97.7546 | Train_loss_dna: 0.6081 | Train_acc_dna: 77.8356 | Validation_loss_mri: 1.3861 | Validation_acc_mri: 75.5208 | Validation_loss_dna: 3.1553 | Validation_acc_dna: 29.1667\u001b[32m [repeated 4x across cluster]\u001b[0m\n"
     ]
    },
    {
     "name": "stderr",
     "output_type": "stream",
     "text": [
      " 30%|\u001b[34m███       \u001b[0m| 3/10 [00:12<00:28,  4.07s/it]\u001b[32m [repeated 4x across cluster]\u001b[0m\n"
     ]
    },
    {
     "name": "stdout",
     "output_type": "stream",
     "text": [
      "\u001b[36m(launch_and_fit pid=10187)\u001b[0m \tTrain Epoch: 5 \tTrain_loss_mri: 0.0430 | Train_acc_mri: 98.7500 | Train_loss_dna: 0.3583 | Train_acc_dna: 88.8542 | Validation_loss_mri: 1.2587 | Validation_acc_mri: 39.0625 | Validation_loss_dna: 3.6472 | Validation_acc_dna: 22.9167\u001b[32m [repeated 4x across cluster]\u001b[0m\n"
     ]
    },
    {
     "name": "stderr",
     "output_type": "stream",
     "text": [
      " 50%|\u001b[34m█████     \u001b[0m| 5/10 [00:20<00:20,  4.09s/it]\u001b[32m [repeated 4x across cluster]\u001b[0m\n"
     ]
    },
    {
     "name": "stdout",
     "output_type": "stream",
     "text": [
      "\u001b[36m(launch_and_fit pid=10212)\u001b[0m \tTrain Epoch: 6 \tTrain_loss_mri: 0.0302 | Train_acc_mri: 99.3750 | Train_loss_dna: 0.2701 | Train_acc_dna: 94.3750 | Validation_loss_mri: 0.8425 | Validation_acc_mri: 70.8333 | Validation_loss_dna: 3.7702 | Validation_acc_dna: 33.8542\u001b[32m [repeated 3x across cluster]\u001b[0m\n"
     ]
    },
    {
     "name": "stderr",
     "output_type": "stream",
     "text": [
      " 60%|\u001b[34m██████    \u001b[0m| 6/10 [00:24<00:16,  4.11s/it]\u001b[32m [repeated 3x across cluster]\u001b[0m\n"
     ]
    },
    {
     "name": "stdout",
     "output_type": "stream",
     "text": [
      "\u001b[36m(launch_and_fit pid=10187)\u001b[0m \tTrain Epoch: 8 \tTrain_loss_mri: 0.0172 | Train_acc_mri: 100.0000 | Train_loss_dna: 0.3141 | Train_acc_dna: 92.6968 | Validation_loss_mri: 1.4076 | Validation_acc_mri: 72.3958 | Validation_loss_dna: 3.4710 | Validation_acc_dna: 30.7292\u001b[32m [repeated 3x across cluster]\u001b[0m\n"
     ]
    },
    {
     "name": "stderr",
     "output_type": "stream",
     "text": [
      " 80%|\u001b[34m████████  \u001b[0m| 8/10 [00:32<00:08,  4.00s/it]\u001b[32m [repeated 3x across cluster]\u001b[0m\n"
     ]
    },
    {
     "name": "stdout",
     "output_type": "stream",
     "text": [
      "\u001b[36m(launch_and_fit pid=10212)\u001b[0m \tTrain Epoch: 9 \tTrain_loss_mri: 0.0074 | Train_acc_mri: 100.0000 | Train_loss_dna: 0.1728 | Train_acc_dna: 95.9375 | Validation_loss_mri: 0.8023 | Validation_acc_mri: 72.3958 | Validation_loss_dna: 4.9565 | Validation_acc_dna: 21.8750\u001b[32m [repeated 3x across cluster]\u001b[0m\n"
     ]
    },
    {
     "name": "stderr",
     "output_type": "stream",
     "text": [
      " 90%|\u001b[34m█████████ \u001b[0m| 9/10 [00:36<00:04,  4.02s/it]\u001b[32m [repeated 3x across cluster]\u001b[0m\n"
     ]
    },
    {
     "name": "stdout",
     "output_type": "stream",
     "text": [
      "\u001b[36m(launch_and_fit pid=10187)\u001b[0m save graph in  results/FL/\n",
      "\u001b[36m(launch_and_fit pid=10262)\u001b[0m Run WITHOUT homomorphic encryption\n",
      "\u001b[36m(launch_and_fit pid=10262)\u001b[0m  To get the checkpoint\n",
      "\u001b[36m(launch_and_fit pid=10212)\u001b[0m \tTrain Epoch: 10 \tTrain_loss_mri: 0.0222 | Train_acc_mri: 99.6875 | Train_loss_dna: 0.1587 | Train_acc_dna: 96.1921 | Validation_loss_mri: 1.2226 | Validation_acc_mri: 72.3958 | Validation_loss_dna: 4.2581 | Validation_acc_dna: 30.7292\u001b[32m [repeated 2x across cluster]\u001b[0m\n",
      "\u001b[36m(launch_and_fit pid=10212)\u001b[0m save graph in  results/FL/\n"
     ]
    },
    {
     "name": "stderr",
     "output_type": "stream",
     "text": [
      "  0%|\u001b[34m          \u001b[0m| 0/10 [00:00<?, ?it/s]\n",
      "100%|\u001b[34m██████████\u001b[0m| 10/10 [00:40<00:00,  4.08s/it]\u001b[32m [repeated 2x across cluster]\u001b[0m\n"
     ]
    },
    {
     "name": "stdout",
     "output_type": "stream",
     "text": [
      "\u001b[36m(launch_and_fit pid=10262)\u001b[0m [Client 7, round 14] fit, config: {'learning_rate': 0.003, 'batch_size': '32', 'server_round': 14, 'local_epochs': 10}\n",
      "\u001b[36m(launch_and_fit pid=10262)\u001b[0m Updated model\n",
      "\u001b[36m(launch_and_fit pid=10287)\u001b[0m Run WITHOUT homomorphic encryption\n",
      "\u001b[36m(launch_and_fit pid=10287)\u001b[0m  To get the checkpoint\n",
      "\u001b[36m(launch_and_fit pid=10262)\u001b[0m \tTrain Epoch: 1 \tTrain_loss_mri: 0.1282 | Train_acc_mri: 95.3125 | Train_loss_dna: 1.4536 | Train_acc_dna: 50.6713 | Validation_loss_mri: 0.2626 | Validation_acc_mri: 93.7500 | Validation_loss_dna: 2.8930 | Validation_acc_dna: 44.2708\n"
     ]
    },
    {
     "name": "stderr",
     "output_type": "stream",
     "text": [
      "  0%|\u001b[34m          \u001b[0m| 0/10 [00:00<?, ?it/s]\n",
      " 10%|\u001b[34m█         \u001b[0m| 1/10 [00:04<00:42,  4.67s/it]\u001b[32m [repeated 2x across cluster]\u001b[0m\n"
     ]
    },
    {
     "name": "stdout",
     "output_type": "stream",
     "text": [
      "\u001b[36m(launch_and_fit pid=10287)\u001b[0m \tTrain Epoch: 1 \tTrain_loss_mri: 0.2638 | Train_acc_mri: 90.5093 | Train_loss_dna: 1.6509 | Train_acc_dna: 47.6505 | Validation_loss_mri: 3.9206 | Validation_acc_mri: 67.7083 | Validation_loss_dna: 4.2972 | Validation_acc_dna: 12.5000\n",
      "\u001b[36m(launch_and_fit pid=10287)\u001b[0m [Client 1, round 14] fit, config: {'learning_rate': 0.003, 'batch_size': '32', 'server_round': 14, 'local_epochs': 10}\n",
      "\u001b[36m(launch_and_fit pid=10287)\u001b[0m Updated model\n"
     ]
    },
    {
     "name": "stderr",
     "output_type": "stream",
     "text": [
      " 30%|\u001b[34m███       \u001b[0m| 3/10 [00:12<00:29,  4.20s/it]\u001b[32m [repeated 3x across cluster]\u001b[0m\n"
     ]
    },
    {
     "name": "stdout",
     "output_type": "stream",
     "text": [
      "\u001b[36m(launch_and_fit pid=10262)\u001b[0m \tTrain Epoch: 3 \tTrain_loss_mri: 0.1031 | Train_acc_mri: 97.5000 | Train_loss_dna: 0.6216 | Train_acc_dna: 75.4167 | Validation_loss_mri: 0.2263 | Validation_acc_mri: 96.8750 | Validation_loss_dna: 3.3090 | Validation_acc_dna: 7.8125\u001b[32m [repeated 3x across cluster]\u001b[0m\n"
     ]
    },
    {
     "name": "stderr",
     "output_type": "stream",
     "text": [
      " 40%|\u001b[34m████      \u001b[0m| 4/10 [00:16<00:24,  4.10s/it]\u001b[32m [repeated 3x across cluster]\u001b[0m\n"
     ]
    },
    {
     "name": "stdout",
     "output_type": "stream",
     "text": [
      "\u001b[36m(launch_and_fit pid=10287)\u001b[0m \tTrain Epoch: 4 \tTrain_loss_mri: 0.0266 | Train_acc_mri: 99.0625 | Train_loss_dna: 0.4210 | Train_acc_dna: 88.8889 | Validation_loss_mri: 6.3112 | Validation_acc_mri: 51.0417 | Validation_loss_dna: 5.1890 | Validation_acc_dna: 12.5000\u001b[32m [repeated 3x across cluster]\u001b[0m\n"
     ]
    },
    {
     "name": "stderr",
     "output_type": "stream",
     "text": [
      " 60%|\u001b[34m██████    \u001b[0m| 6/10 [00:25<00:16,  4.12s/it]\u001b[32m [repeated 3x across cluster]\u001b[0m\n"
     ]
    },
    {
     "name": "stdout",
     "output_type": "stream",
     "text": [
      "\u001b[36m(launch_and_fit pid=10262)\u001b[0m \tTrain Epoch: 6 \tTrain_loss_mri: 0.0521 | Train_acc_mri: 99.3750 | Train_loss_dna: 0.2402 | Train_acc_dna: 95.4514 | Validation_loss_mri: 0.4034 | Validation_acc_mri: 93.7500 | Validation_loss_dna: 3.9900 | Validation_acc_dna: 10.9375\u001b[32m [repeated 3x across cluster]\u001b[0m\n"
     ]
    },
    {
     "name": "stderr",
     "output_type": "stream",
     "text": [
      " 70%|\u001b[34m███████   \u001b[0m| 7/10 [00:29<00:12,  4.16s/it]\u001b[32m [repeated 3x across cluster]\u001b[0m\n"
     ]
    },
    {
     "name": "stdout",
     "output_type": "stream",
     "text": [
      "\u001b[36m(launch_and_fit pid=10287)\u001b[0m \tTrain Epoch: 7 \tTrain_loss_mri: 0.0132 | Train_acc_mri: 99.6875 | Train_loss_dna: 0.2044 | Train_acc_dna: 96.1921 | Validation_loss_mri: 6.6895 | Validation_acc_mri: 49.4792 | Validation_loss_dna: 5.0760 | Validation_acc_dna: 12.5000\u001b[32m [repeated 3x across cluster]\u001b[0m\n"
     ]
    },
    {
     "name": "stderr",
     "output_type": "stream",
     "text": [
      " 90%|\u001b[34m█████████ \u001b[0m| 9/10 [00:37<00:04,  4.16s/it]\u001b[32m [repeated 3x across cluster]\u001b[0m\n"
     ]
    },
    {
     "name": "stdout",
     "output_type": "stream",
     "text": [
      "\u001b[36m(launch_and_fit pid=10262)\u001b[0m \tTrain Epoch: 9 \tTrain_loss_mri: 0.0548 | Train_acc_mri: 99.0625 | Train_loss_dna: 0.1805 | Train_acc_dna: 96.7593 | Validation_loss_mri: 0.3235 | Validation_acc_mri: 93.7500 | Validation_loss_dna: 3.6535 | Validation_acc_dna: 26.0417\u001b[32m [repeated 3x across cluster]\u001b[0m\n",
      "\u001b[36m(launch_and_fit pid=10262)\u001b[0m save graph in  results/FL/\n"
     ]
    },
    {
     "name": "stderr",
     "output_type": "stream",
     "text": [
      "100%|\u001b[34m██████████\u001b[0m| 10/10 [00:41<00:00,  4.14s/it]\u001b[32m [repeated 3x across cluster]\u001b[0m\n"
     ]
    },
    {
     "name": "stdout",
     "output_type": "stream",
     "text": [
      "\u001b[36m(launch_and_fit pid=10287)\u001b[0m \tTrain Epoch: 10 \tTrain_loss_mri: 0.0157 | Train_acc_mri: 99.6875 | Train_loss_dna: 0.1903 | Train_acc_dna: 97.5000 | Validation_loss_mri: 7.1130 | Validation_acc_mri: 49.4792 | Validation_loss_dna: 5.9627 | Validation_acc_dna: 7.8125\u001b[32m [repeated 3x across cluster]\u001b[0m\n",
      "\u001b[36m(launch_and_fit pid=10336)\u001b[0m Run WITHOUT homomorphic encryption\n",
      "\u001b[36m(launch_and_fit pid=10336)\u001b[0m  To get the checkpoint\n",
      "\u001b[36m(launch_and_fit pid=10287)\u001b[0m save graph in  results/FL/\n",
      "\u001b[36m(launch_and_fit pid=10336)\u001b[0m [Client 4, round 14] fit, config: {'learning_rate': 0.003, 'batch_size': '32', 'server_round': 14, 'local_epochs': 10}\n",
      "\u001b[36m(launch_and_fit pid=10336)\u001b[0m Updated model\n"
     ]
    },
    {
     "name": "stderr",
     "output_type": "stream",
     "text": [
      "  0%|\u001b[34m          \u001b[0m| 0/10 [00:00<?, ?it/s]\n",
      " 10%|\u001b[34m█         \u001b[0m| 1/10 [00:04<00:40,  4.47s/it]\n"
     ]
    },
    {
     "name": "stdout",
     "output_type": "stream",
     "text": [
      "\u001b[36m(launch_and_fit pid=10336)\u001b[0m \tTrain Epoch: 1 \tTrain_loss_mri: 0.0965 | Train_acc_mri: 97.1875 | Train_loss_dna: 1.5260 | Train_acc_dna: 49.6181 | Validation_loss_mri: 1.4372 | Validation_acc_mri: 52.6042 | Validation_loss_dna: 2.2256 | Validation_acc_dna: 45.8333\n",
      "\u001b[36m(launch_and_fit pid=10361)\u001b[0m Run WITHOUT homomorphic encryption\n",
      "\u001b[36m(launch_and_fit pid=10361)\u001b[0m  To get the checkpoint\n",
      "\u001b[36m(launch_and_fit pid=10361)\u001b[0m [Client 2, round 14] fit, config: {'learning_rate': 0.003, 'batch_size': '32', 'server_round': 14, 'local_epochs': 10}\n",
      "\u001b[36m(launch_and_fit pid=10361)\u001b[0m Updated model\n"
     ]
    },
    {
     "name": "stderr",
     "output_type": "stream",
     "text": [
      "  0%|\u001b[34m          \u001b[0m| 0/10 [00:00<?, ?it/s]\n"
     ]
    },
    {
     "name": "stdout",
     "output_type": "stream",
     "text": [
      "\u001b[36m(launch_and_fit pid=10361)\u001b[0m \tTrain Epoch: 2 \tTrain_loss_mri: 0.1218 | Train_acc_mri: 95.5093 | Train_loss_dna: 0.7786 | Train_acc_dna: 70.8449 | Validation_loss_mri: 0.9559 | Validation_acc_mri: 73.9583 | Validation_loss_dna: 3.3935 | Validation_acc_dna: 27.6042\u001b[32m [repeated 3x across cluster]\u001b[0m\n"
     ]
    },
    {
     "name": "stderr",
     "output_type": "stream",
     "text": [
      " 20%|\u001b[34m██        \u001b[0m| 2/10 [00:08<00:34,  4.34s/it]\u001b[32m [repeated 3x across cluster]\u001b[0m\n",
      " 40%|\u001b[34m████      \u001b[0m| 4/10 [00:16<00:24,  4.03s/it]\u001b[32m [repeated 3x across cluster]\u001b[0m\n"
     ]
    },
    {
     "name": "stdout",
     "output_type": "stream",
     "text": [
      "\u001b[36m(launch_and_fit pid=10336)\u001b[0m \tTrain Epoch: 4 \tTrain_loss_mri: 0.0340 | Train_acc_mri: 99.3171 | Train_loss_dna: 0.4796 | Train_acc_dna: 85.7060 | Validation_loss_mri: 1.3075 | Validation_acc_mri: 67.7083 | Validation_loss_dna: 2.9934 | Validation_acc_dna: 27.6042\u001b[32m [repeated 3x across cluster]\u001b[0m\n",
      "\u001b[36m(launch_and_fit pid=10361)\u001b[0m \tTrain Epoch: 5 \tTrain_loss_mri: 0.0397 | Train_acc_mri: 98.4375 | Train_loss_dna: 0.2372 | Train_acc_dna: 96.5625 | Validation_loss_mri: 0.6436 | Validation_acc_mri: 70.8333 | Validation_loss_dna: 4.1514 | Validation_acc_dna: 9.3750\u001b[32m [repeated 3x across cluster]\u001b[0m\n"
     ]
    },
    {
     "name": "stderr",
     "output_type": "stream",
     "text": [
      " 50%|\u001b[34m█████     \u001b[0m| 5/10 [00:21<00:20,  4.16s/it]\u001b[32m [repeated 3x across cluster]\u001b[0m\n"
     ]
    },
    {
     "name": "stdout",
     "output_type": "stream",
     "text": [
      "\u001b[36m(launch_and_fit pid=10361)\u001b[0m \tTrain Epoch: 7 \tTrain_loss_mri: 0.0194 | Train_acc_mri: 99.6875 | Train_loss_dna: 0.1601 | Train_acc_dna: 97.1875 | Validation_loss_mri: 0.9041 | Validation_acc_mri: 70.8333 | Validation_loss_dna: 4.5273 | Validation_acc_dna: 9.3750\u001b[32m [repeated 4x across cluster]\u001b[0m\n"
     ]
    },
    {
     "name": "stderr",
     "output_type": "stream",
     "text": [
      " 70%|\u001b[34m███████   \u001b[0m| 7/10 [00:29<00:12,  4.05s/it]\u001b[32m [repeated 4x across cluster]\u001b[0m\n"
     ]
    },
    {
     "name": "stdout",
     "output_type": "stream",
     "text": [
      "\u001b[36m(launch_and_fit pid=10361)\u001b[0m \tTrain Epoch: 9 \tTrain_loss_mri: 0.0156 | Train_acc_mri: 99.6296 | Train_loss_dna: 0.1459 | Train_acc_dna: 97.4421 | Validation_loss_mri: 1.0399 | Validation_acc_mri: 72.3958 | Validation_loss_dna: 3.5569 | Validation_acc_dna: 7.8125\u001b[32m [repeated 4x across cluster]\u001b[0m\n"
     ]
    },
    {
     "name": "stderr",
     "output_type": "stream",
     "text": [
      " 90%|\u001b[34m█████████ \u001b[0m| 9/10 [00:37<00:04,  4.09s/it]\u001b[32m [repeated 4x across cluster]\u001b[0m\n"
     ]
    },
    {
     "name": "stdout",
     "output_type": "stream",
     "text": [
      "\u001b[36m(launch_and_fit pid=10336)\u001b[0m save graph in  results/FL/\n"
     ]
    },
    {
     "name": "stderr",
     "output_type": "stream",
     "text": [
      "DEBUG flwr 2024-08-05 12:17:03,311 | server.py:236 | fit_round 14 received 10 results and 0 failures\n"
     ]
    },
    {
     "name": "stdout",
     "output_type": "stream",
     "text": [
      "Saving round 14 aggregated_parameters...\n",
      "Updated model\n"
     ]
    },
    {
     "name": "stderr",
     "output_type": "stream",
     "text": [
      "INFO flwr 2024-08-05 12:17:09,669 | server.py:125 | fit progress: (14, (1.1531530725104469, 3.6935389808246066), {'accuracy': (80.05952380952381, 17.001488095238095)}, 4688.804844849999)\n",
      "DEBUG flwr 2024-08-05 12:17:09,670 | server.py:173 | evaluate_round 14: strategy sampled 10 clients (out of 10)\n"
     ]
    },
    {
     "name": "stdout",
     "output_type": "stream",
     "text": [
      "Server-side evaluation MRI loss 1.1531530725104469 / MRI accuracy 80.05952380952381\n",
      "Server-side evaluation DNA loss 3.6935389808246066 / DNA accuracy 17.001488095238095\n",
      "\u001b[36m(launch_and_evaluate pid=10420)\u001b[0m Run WITHOUT homomorphic encryption\n",
      "\u001b[36m(launch_and_evaluate pid=10420)\u001b[0m  To get the checkpoint\n",
      "\u001b[36m(launch_and_fit pid=10361)\u001b[0m \tTrain Epoch: 10 \tTrain_loss_mri: 0.0079 | Train_acc_mri: 100.0000 | Train_loss_dna: 0.1272 | Train_acc_dna: 99.0046 | Validation_loss_mri: 0.5510 | Validation_acc_mri: 89.0625 | Validation_loss_dna: 4.3696 | Validation_acc_dna: 26.0417\u001b[32m [repeated 2x across cluster]\u001b[0m\n",
      "\u001b[36m(launch_and_fit pid=10361)\u001b[0m save graph in  results/FL/\n",
      "\u001b[36m(launch_and_evaluate pid=10419)\u001b[0m [Client 5] evaluate, config: {}\n",
      "\u001b[36m(launch_and_evaluate pid=10419)\u001b[0m Updated model\n",
      "\u001b[36m(launch_and_evaluate pid=10490)\u001b[0m Run WITHOUT homomorphic encryption\u001b[32m [repeated 2x across cluster]\u001b[0m\n",
      "\u001b[36m(launch_and_evaluate pid=10490)\u001b[0m  To get the checkpoint\u001b[32m [repeated 2x across cluster]\u001b[0m\n",
      "\u001b[36m(launch_and_evaluate pid=10420)\u001b[0m [Client 3] evaluate, config: {}\n",
      "\u001b[36m(launch_and_evaluate pid=10420)\u001b[0m Updated model\n",
      "\u001b[36m(launch_and_evaluate pid=10490)\u001b[0m [Client 0] evaluate, config: {}\n",
      "\u001b[36m(launch_and_evaluate pid=10490)\u001b[0m Updated model\n",
      "\u001b[36m(launch_and_evaluate pid=10562)\u001b[0m Run WITHOUT homomorphic encryption\u001b[32m [repeated 2x across cluster]\u001b[0m\n",
      "\u001b[36m(launch_and_evaluate pid=10562)\u001b[0m  To get the checkpoint\u001b[32m [repeated 2x across cluster]\u001b[0m\n",
      "\u001b[36m(launch_and_evaluate pid=10492)\u001b[0m [Client 6] evaluate, config: {}\n",
      "\u001b[36m(launch_and_evaluate pid=10492)\u001b[0m Updated model\n",
      "\u001b[36m(launch_and_evaluate pid=10562)\u001b[0m [Client 2] evaluate, config: {}\n",
      "\u001b[36m(launch_and_evaluate pid=10562)\u001b[0m Updated model\n"
     ]
    },
    {
     "name": "stderr",
     "output_type": "stream",
     "text": [
      "\u001b[36m(launch_and_evaluate pid=10560)\u001b[0m /opt/conda/lib/python3.10/site-packages/sklearn/metrics/_ranking.py:1029: UndefinedMetricWarning: No positive samples in y_true, true positive value should be meaningless\n",
      "\u001b[36m(launch_and_evaluate pid=10560)\u001b[0m   warnings.warn(\n",
      "100%|\u001b[34m██████████\u001b[0m| 10/10 [00:41<00:00,  4.13s/it]\u001b[32m [repeated 2x across cluster]\u001b[0m\n"
     ]
    },
    {
     "name": "stdout",
     "output_type": "stream",
     "text": [
      "\u001b[36m(launch_and_evaluate pid=10630)\u001b[0m Run WITHOUT homomorphic encryption\u001b[32m [repeated 2x across cluster]\u001b[0m\n",
      "\u001b[36m(launch_and_evaluate pid=10630)\u001b[0m  To get the checkpoint\u001b[32m [repeated 2x across cluster]\u001b[0m\n",
      "\u001b[36m(launch_and_evaluate pid=10560)\u001b[0m [Client 4] evaluate, config: {}\n",
      "\u001b[36m(launch_and_evaluate pid=10560)\u001b[0m Updated model\n",
      "\u001b[36m(launch_and_evaluate pid=10630)\u001b[0m [Client 7] evaluate, config: {}\n",
      "\u001b[36m(launch_and_evaluate pid=10630)\u001b[0m Updated model\n"
     ]
    },
    {
     "name": "stderr",
     "output_type": "stream",
     "text": [
      "\u001b[36m(launch_and_evaluate pid=10632)\u001b[0m /opt/conda/lib/python3.10/site-packages/sklearn/metrics/_ranking.py:1029: UndefinedMetricWarning: No positive samples in y_true, true positive value should be meaningless\n",
      "\u001b[36m(launch_and_evaluate pid=10632)\u001b[0m   warnings.warn(\n"
     ]
    },
    {
     "name": "stdout",
     "output_type": "stream",
     "text": [
      "\u001b[36m(launch_and_evaluate pid=10700)\u001b[0m Run WITHOUT homomorphic encryption\u001b[32m [repeated 2x across cluster]\u001b[0m\n",
      "\u001b[36m(launch_and_evaluate pid=10700)\u001b[0m  To get the checkpoint\u001b[32m [repeated 2x across cluster]\u001b[0m\n",
      "\u001b[36m(launch_and_evaluate pid=10632)\u001b[0m [Client 8] evaluate, config: {}\n",
      "\u001b[36m(launch_and_evaluate pid=10632)\u001b[0m Updated model\n",
      "\u001b[36m(launch_and_evaluate pid=10700)\u001b[0m [Client 9] evaluate, config: {}\n",
      "\u001b[36m(launch_and_evaluate pid=10700)\u001b[0m Updated model\n"
     ]
    },
    {
     "name": "stderr",
     "output_type": "stream",
     "text": [
      "\u001b[36m(launch_and_evaluate pid=10700)\u001b[0m /opt/conda/lib/python3.10/site-packages/sklearn/metrics/_ranking.py:1029: UndefinedMetricWarning: No positive samples in y_true, true positive value should be meaningless\n",
      "\u001b[36m(launch_and_evaluate pid=10700)\u001b[0m   warnings.warn(\n",
      "DEBUG flwr 2024-08-05 12:18:18,142 | server.py:187 | evaluate_round 14 received 10 results and 0 failures\n",
      "DEBUG flwr 2024-08-05 12:18:18,143 | server.py:222 | fit_round 15: strategy sampled 10 clients (out of 10)\n"
     ]
    },
    {
     "name": "stdout",
     "output_type": "stream",
     "text": [
      "\u001b[36m(launch_and_fit pid=10779)\u001b[0m Run WITHOUT homomorphic encryption\u001b[32m [repeated 2x across cluster]\u001b[0m\n",
      "\u001b[36m(launch_and_fit pid=10779)\u001b[0m  To get the checkpoint\u001b[32m [repeated 2x across cluster]\u001b[0m\n",
      "\u001b[36m(launch_and_evaluate pid=10702)\u001b[0m [Client 1] evaluate, config: {}\n",
      "\u001b[36m(launch_and_evaluate pid=10702)\u001b[0m Updated model\n",
      "\u001b[36m(launch_and_fit pid=10779)\u001b[0m [Client 4, round 15] fit, config: {'learning_rate': 0.003, 'batch_size': '32', 'server_round': 15, 'local_epochs': 10}\n",
      "\u001b[36m(launch_and_fit pid=10779)\u001b[0m Updated model\n"
     ]
    },
    {
     "name": "stderr",
     "output_type": "stream",
     "text": [
      "  0%|\u001b[34m          \u001b[0m| 0/10 [00:00<?, ?it/s]\n"
     ]
    },
    {
     "name": "stdout",
     "output_type": "stream",
     "text": [
      "\u001b[36m(launch_and_fit pid=10780)\u001b[0m \tTrain Epoch: 1 \tTrain_loss_mri: 0.0718 | Train_acc_mri: 97.1875 | Train_loss_dna: 1.3178 | Train_acc_dna: 56.1806 | Validation_loss_mri: 4.4269 | Validation_acc_mri: 49.4792 | Validation_loss_dna: 5.4032 | Validation_acc_dna: 6.2500\n",
      "\u001b[36m(launch_and_fit pid=10780)\u001b[0m Run WITHOUT homomorphic encryption\n",
      "\u001b[36m(launch_and_fit pid=10780)\u001b[0m  To get the checkpoint\n"
     ]
    },
    {
     "name": "stderr",
     "output_type": "stream",
     "text": [
      " 10%|\u001b[34m█         \u001b[0m| 1/10 [00:04<00:42,  4.72s/it]\n"
     ]
    },
    {
     "name": "stdout",
     "output_type": "stream",
     "text": [
      "\u001b[36m(launch_and_fit pid=10780)\u001b[0m [Client 1, round 15] fit, config: {'learning_rate': 0.003, 'batch_size': '32', 'server_round': 15, 'local_epochs': 10}\n",
      "\u001b[36m(launch_and_fit pid=10780)\u001b[0m Updated model\n"
     ]
    },
    {
     "name": "stderr",
     "output_type": "stream",
     "text": [
      "  0%|\u001b[34m          \u001b[0m| 0/10 [00:00<?, ?it/s]\n"
     ]
    },
    {
     "name": "stdout",
     "output_type": "stream",
     "text": [
      "\u001b[36m(launch_and_fit pid=10779)\u001b[0m \tTrain Epoch: 3 \tTrain_loss_mri: 0.1033 | Train_acc_mri: 96.5046 | Train_loss_dna: 0.5188 | Train_acc_dna: 83.5185 | Validation_loss_mri: 1.4589 | Validation_acc_mri: 64.5833 | Validation_loss_dna: 2.0003 | Validation_acc_dna: 32.2917\u001b[32m [repeated 4x across cluster]\u001b[0m\n"
     ]
    },
    {
     "name": "stderr",
     "output_type": "stream",
     "text": [
      " 30%|\u001b[34m███       \u001b[0m| 3/10 [00:12<00:29,  4.20s/it]\u001b[32m [repeated 4x across cluster]\u001b[0m\n"
     ]
    },
    {
     "name": "stdout",
     "output_type": "stream",
     "text": [
      "\u001b[36m(launch_and_fit pid=10779)\u001b[0m \tTrain Epoch: 5 \tTrain_loss_mri: 0.0326 | Train_acc_mri: 98.6343 | Train_loss_dna: 0.3149 | Train_acc_dna: 91.1343 | Validation_loss_mri: 1.8826 | Validation_acc_mri: 67.7083 | Validation_loss_dna: 2.7883 | Validation_acc_dna: 30.7292\u001b[32m [repeated 4x across cluster]\u001b[0m\n"
     ]
    },
    {
     "name": "stderr",
     "output_type": "stream",
     "text": [
      " 50%|\u001b[34m█████     \u001b[0m| 5/10 [00:20<00:20,  4.02s/it]\u001b[32m [repeated 4x across cluster]\u001b[0m\n"
     ]
    },
    {
     "name": "stdout",
     "output_type": "stream",
     "text": [
      "\u001b[36m(launch_and_fit pid=10779)\u001b[0m \tTrain Epoch: 7 \tTrain_loss_mri: 0.0152 | Train_acc_mri: 99.6875 | Train_loss_dna: 0.1746 | Train_acc_dna: 96.8171 | Validation_loss_mri: 2.4776 | Validation_acc_mri: 49.4792 | Validation_loss_dna: 2.9706 | Validation_acc_dna: 33.8542\u001b[32m [repeated 4x across cluster]\u001b[0m\n"
     ]
    },
    {
     "name": "stderr",
     "output_type": "stream",
     "text": [
      " 70%|\u001b[34m███████   \u001b[0m| 7/10 [00:28<00:12,  4.07s/it]\u001b[32m [repeated 4x across cluster]\u001b[0m\n"
     ]
    },
    {
     "name": "stdout",
     "output_type": "stream",
     "text": [
      "\u001b[36m(launch_and_fit pid=10780)\u001b[0m \tTrain Epoch: 9 \tTrain_loss_mri: 0.0098 | Train_acc_mri: 99.6875 | Train_loss_dna: 0.1328 | Train_acc_dna: 97.8125 | Validation_loss_mri: 7.6448 | Validation_acc_mri: 52.6042 | Validation_loss_dna: 5.7772 | Validation_acc_dna: 12.5000\u001b[32m [repeated 4x across cluster]\u001b[0m\n"
     ]
    },
    {
     "name": "stderr",
     "output_type": "stream",
     "text": [
      " 90%|\u001b[34m█████████ \u001b[0m| 9/10 [00:37<00:04,  4.11s/it]\u001b[32m [repeated 4x across cluster]\u001b[0m\n"
     ]
    },
    {
     "name": "stdout",
     "output_type": "stream",
     "text": [
      "\u001b[36m(launch_and_fit pid=10779)\u001b[0m save graph in  results/FL/\n",
      "\u001b[36m(launch_and_fit pid=10853)\u001b[0m Run WITHOUT homomorphic encryption\n",
      "\u001b[36m(launch_and_fit pid=10853)\u001b[0m  To get the checkpoint\n",
      "\u001b[36m(launch_and_fit pid=10780)\u001b[0m \tTrain Epoch: 10 \tTrain_loss_mri: 0.0158 | Train_acc_mri: 99.6875 | Train_loss_dna: 0.1379 | Train_acc_dna: 96.8750 | Validation_loss_mri: 7.2869 | Validation_acc_mri: 66.1458 | Validation_loss_dna: 5.9205 | Validation_acc_dna: 10.9375\u001b[32m [repeated 3x across cluster]\u001b[0m\n",
      "\u001b[36m(launch_and_fit pid=10780)\u001b[0m save graph in  results/FL/\n",
      "\u001b[36m(launch_and_fit pid=10854)\u001b[0m [Client 2, round 15] fit, config: {'learning_rate': 0.003, 'batch_size': '32', 'server_round': 15, 'local_epochs': 10}\n",
      "\u001b[36m(launch_and_fit pid=10854)\u001b[0m Updated model\n"
     ]
    },
    {
     "name": "stderr",
     "output_type": "stream",
     "text": [
      "  0%|\u001b[34m          \u001b[0m| 0/10 [00:00<?, ?it/s]\n",
      "100%|\u001b[34m██████████\u001b[0m| 10/10 [00:41<00:00,  4.12s/it]\u001b[32m [repeated 3x across cluster]\u001b[0m\n"
     ]
    },
    {
     "name": "stdout",
     "output_type": "stream",
     "text": [
      "\u001b[36m(launch_and_fit pid=10854)\u001b[0m Run WITHOUT homomorphic encryption\n",
      "\u001b[36m(launch_and_fit pid=10854)\u001b[0m  To get the checkpoint\n",
      "\u001b[36m(launch_and_fit pid=10853)\u001b[0m \tTrain Epoch: 1 \tTrain_loss_mri: 0.0815 | Train_acc_mri: 96.8750 | Train_loss_dna: 1.3458 | Train_acc_dna: 53.5417 | Validation_loss_mri: 0.3578 | Validation_acc_mri: 93.7500 | Validation_loss_dna: 2.4963 | Validation_acc_dna: 14.0625\n",
      "\u001b[36m(launch_and_fit pid=10854)\u001b[0m \tTrain Epoch: 1 \tTrain_loss_mri: 0.1176 | Train_acc_mri: 95.8796 | Train_loss_dna: 1.5143 | Train_acc_dna: 47.9977 | Validation_loss_mri: 0.7829 | Validation_acc_mri: 73.9583 | Validation_loss_dna: 4.1778 | Validation_acc_dna: 29.1667\n"
     ]
    },
    {
     "name": "stderr",
     "output_type": "stream",
     "text": [
      "  0%|\u001b[34m          \u001b[0m| 0/10 [00:00<?, ?it/s]\n",
      " 20%|\u001b[34m██        \u001b[0m| 2/10 [00:08<00:34,  4.26s/it]\u001b[32m [repeated 3x across cluster]\u001b[0m\n"
     ]
    },
    {
     "name": "stdout",
     "output_type": "stream",
     "text": [
      "\u001b[36m(launch_and_fit pid=10853)\u001b[0m [Client 7, round 15] fit, config: {'learning_rate': 0.003, 'batch_size': '32', 'server_round': 15, 'local_epochs': 10}\n",
      "\u001b[36m(launch_and_fit pid=10853)\u001b[0m Updated model\n",
      "\u001b[36m(launch_and_fit pid=10853)\u001b[0m \tTrain Epoch: 3 \tTrain_loss_mri: 0.0702 | Train_acc_mri: 98.7500 | Train_loss_dna: 0.5115 | Train_acc_dna: 82.5231 | Validation_loss_mri: 0.3748 | Validation_acc_mri: 90.6250 | Validation_loss_dna: 3.0206 | Validation_acc_dna: 9.3750\u001b[32m [repeated 3x across cluster]\u001b[0m\n"
     ]
    },
    {
     "name": "stderr",
     "output_type": "stream",
     "text": [
      " 40%|\u001b[34m████      \u001b[0m| 4/10 [00:16<00:25,  4.21s/it]\u001b[32m [repeated 4x across cluster]\u001b[0m\n"
     ]
    },
    {
     "name": "stdout",
     "output_type": "stream",
     "text": [
      "\u001b[36m(launch_and_fit pid=10854)\u001b[0m \tTrain Epoch: 5 \tTrain_loss_mri: 0.0330 | Train_acc_mri: 99.0625 | Train_loss_dna: 0.1906 | Train_acc_dna: 97.5000 | Validation_loss_mri: 0.4325 | Validation_acc_mri: 89.0625 | Validation_loss_dna: 4.6815 | Validation_acc_dna: 29.1667\u001b[32m [repeated 4x across cluster]\u001b[0m\n"
     ]
    },
    {
     "name": "stderr",
     "output_type": "stream",
     "text": [
      " 60%|\u001b[34m██████    \u001b[0m| 6/10 [00:24<00:16,  4.04s/it]\u001b[32m [repeated 4x across cluster]\u001b[0m\n"
     ]
    },
    {
     "name": "stdout",
     "output_type": "stream",
     "text": [
      "\u001b[36m(launch_and_fit pid=10854)\u001b[0m \tTrain Epoch: 7 \tTrain_loss_mri: 0.0101 | Train_acc_mri: 100.0000 | Train_loss_dna: 0.1361 | Train_acc_dna: 97.7546 | Validation_loss_mri: 0.4925 | Validation_acc_mri: 90.6250 | Validation_loss_dna: 4.2110 | Validation_acc_dna: 27.6042\u001b[32m [repeated 4x across cluster]\u001b[0m\n"
     ]
    },
    {
     "name": "stderr",
     "output_type": "stream",
     "text": [
      " 80%|\u001b[34m████████  \u001b[0m| 8/10 [00:32<00:08,  4.01s/it]\u001b[32m [repeated 4x across cluster]\u001b[0m\n"
     ]
    },
    {
     "name": "stdout",
     "output_type": "stream",
     "text": [
      "\u001b[36m(launch_and_fit pid=10854)\u001b[0m \tTrain Epoch: 9 \tTrain_loss_mri: 0.0090 | Train_acc_mri: 100.0000 | Train_loss_dna: 0.0902 | Train_acc_dna: 99.3750 | Validation_loss_mri: 0.4995 | Validation_acc_mri: 92.1875 | Validation_loss_dna: 4.3362 | Validation_acc_dna: 27.6042\u001b[32m [repeated 4x across cluster]\u001b[0m\n",
      "\u001b[36m(launch_and_fit pid=10854)\u001b[0m save graph in  results/FL/\n"
     ]
    },
    {
     "name": "stderr",
     "output_type": "stream",
     "text": [
      "100%|\u001b[34m██████████\u001b[0m| 10/10 [00:41<00:00,  4.11s/it]\u001b[32m [repeated 4x across cluster]\u001b[0m\n"
     ]
    },
    {
     "name": "stdout",
     "output_type": "stream",
     "text": [
      "\u001b[36m(launch_and_fit pid=10926)\u001b[0m Run WITHOUT homomorphic encryption\n",
      "\u001b[36m(launch_and_fit pid=10926)\u001b[0m  To get the checkpoint\n",
      "\u001b[36m(launch_and_fit pid=10853)\u001b[0m \tTrain Epoch: 10 \tTrain_loss_mri: 0.0043 | Train_acc_mri: 100.0000 | Train_loss_dna: 0.0842 | Train_acc_dna: 98.6343 | Validation_loss_mri: 0.3720 | Validation_acc_mri: 95.3125 | Validation_loss_dna: 4.4562 | Validation_acc_dna: 7.8125\u001b[32m [repeated 3x across cluster]\u001b[0m\n",
      "\u001b[36m(launch_and_fit pid=10853)\u001b[0m save graph in  results/FL/\n",
      "\u001b[36m(launch_and_fit pid=10926)\u001b[0m [Client 0, round 15] fit, config: {'learning_rate': 0.003, 'batch_size': '32', 'server_round': 15, 'local_epochs': 10}\n",
      "\u001b[36m(launch_and_fit pid=10926)\u001b[0m Updated model\n"
     ]
    },
    {
     "name": "stderr",
     "output_type": "stream",
     "text": [
      "  0%|\u001b[34m          \u001b[0m| 0/10 [00:00<?, ?it/s]\n",
      "100%|\u001b[34m██████████\u001b[0m| 10/10 [00:41<00:00,  4.14s/it]\n"
     ]
    },
    {
     "name": "stdout",
     "output_type": "stream",
     "text": [
      "\u001b[36m(launch_and_fit pid=10928)\u001b[0m Run WITHOUT homomorphic encryption\n",
      "\u001b[36m(launch_and_fit pid=10928)\u001b[0m  To get the checkpoint\n",
      "\u001b[36m(launch_and_fit pid=10926)\u001b[0m \tTrain Epoch: 1 \tTrain_loss_mri: 0.0536 | Train_acc_mri: 98.1250 | Train_loss_dna: 1.3863 | Train_acc_dna: 53.9352 | Validation_loss_mri: 0.8109 | Validation_acc_mri: 69.2708 | Validation_loss_dna: 3.1617 | Validation_acc_dna: 10.9375\n"
     ]
    },
    {
     "name": "stderr",
     "output_type": "stream",
     "text": [
      " 10%|\u001b[34m█         \u001b[0m| 1/10 [00:04<00:41,  4.59s/it]\n"
     ]
    },
    {
     "name": "stdout",
     "output_type": "stream",
     "text": [
      "\u001b[36m(launch_and_fit pid=10928)\u001b[0m \tTrain Epoch: 1 \tTrain_loss_mri: 0.1118 | Train_acc_mri: 96.8649 | Train_loss_dna: 1.1439 | Train_acc_dna: 55.8065 | Validation_loss_mri: 0.4614 | Validation_acc_mri: 87.5000 | Validation_loss_dna: 3.4935 | Validation_acc_dna: 14.0625\n",
      "\u001b[36m(launch_and_fit pid=10928)\u001b[0m [Client 9, round 15] fit, config: {'learning_rate': 0.003, 'batch_size': '32', 'server_round': 15, 'local_epochs': 10}\n",
      "\u001b[36m(launch_and_fit pid=10928)\u001b[0m Updated model\n"
     ]
    },
    {
     "name": "stderr",
     "output_type": "stream",
     "text": [
      "  0%|\u001b[34m          \u001b[0m| 0/10 [00:00<?, ?it/s]\n"
     ]
    },
    {
     "name": "stdout",
     "output_type": "stream",
     "text": [
      "\u001b[36m(launch_and_fit pid=10926)\u001b[0m \tTrain Epoch: 3 \tTrain_loss_mri: 0.0483 | Train_acc_mri: 98.3796 | Train_loss_dna: 0.4920 | Train_acc_dna: 82.8356 | Validation_loss_mri: 0.9309 | Validation_acc_mri: 70.8333 | Validation_loss_dna: 2.9775 | Validation_acc_dna: 9.3750\u001b[32m [repeated 3x across cluster]\u001b[0m\n"
     ]
    },
    {
     "name": "stderr",
     "output_type": "stream",
     "text": [
      " 30%|\u001b[34m███       \u001b[0m| 3/10 [00:12<00:28,  4.14s/it]\u001b[32m [repeated 4x across cluster]\u001b[0m\n"
     ]
    },
    {
     "name": "stdout",
     "output_type": "stream",
     "text": [
      "\u001b[36m(launch_and_fit pid=10926)\u001b[0m \tTrain Epoch: 5 \tTrain_loss_mri: 0.0412 | Train_acc_mri: 99.0625 | Train_loss_dna: 0.2379 | Train_acc_dna: 93.6921 | Validation_loss_mri: 0.9046 | Validation_acc_mri: 72.3958 | Validation_loss_dna: 3.1997 | Validation_acc_dna: 15.6250\u001b[32m [repeated 4x across cluster]\u001b[0m\n"
     ]
    },
    {
     "name": "stderr",
     "output_type": "stream",
     "text": [
      " 50%|\u001b[34m█████     \u001b[0m| 5/10 [00:20<00:20,  4.11s/it]\u001b[32m [repeated 4x across cluster]\u001b[0m\n"
     ]
    },
    {
     "name": "stdout",
     "output_type": "stream",
     "text": [
      "\u001b[36m(launch_and_fit pid=10926)\u001b[0m \tTrain Epoch: 7 \tTrain_loss_mri: 0.0095 | Train_acc_mri: 100.0000 | Train_loss_dna: 0.1436 | Train_acc_dna: 97.3843 | Validation_loss_mri: 1.6334 | Validation_acc_mri: 67.7083 | Validation_loss_dna: 3.8635 | Validation_acc_dna: 14.0625\u001b[32m [repeated 4x across cluster]\u001b[0m\n"
     ]
    },
    {
     "name": "stderr",
     "output_type": "stream",
     "text": [
      " 70%|\u001b[34m███████   \u001b[0m| 7/10 [00:29<00:12,  4.10s/it]\u001b[32m [repeated 4x across cluster]\u001b[0m\n"
     ]
    },
    {
     "name": "stdout",
     "output_type": "stream",
     "text": [
      "\u001b[36m(launch_and_fit pid=10926)\u001b[0m \tTrain Epoch: 9 \tTrain_loss_mri: 0.0077 | Train_acc_mri: 100.0000 | Train_loss_dna: 0.1470 | Train_acc_dna: 96.8171 | Validation_loss_mri: 1.5912 | Validation_acc_mri: 70.8333 | Validation_loss_dna: 3.5327 | Validation_acc_dna: 12.5000\u001b[32m [repeated 4x across cluster]\u001b[0m\n"
     ]
    },
    {
     "name": "stderr",
     "output_type": "stream",
     "text": [
      " 90%|\u001b[34m█████████ \u001b[0m| 9/10 [00:37<00:04,  4.05s/it]\u001b[32m [repeated 4x across cluster]\u001b[0m\n"
     ]
    },
    {
     "name": "stdout",
     "output_type": "stream",
     "text": [
      "\u001b[36m(launch_and_fit pid=10926)\u001b[0m save graph in  results/FL/\n",
      "\u001b[36m(launch_and_fit pid=11001)\u001b[0m Run WITHOUT homomorphic encryption\n",
      "\u001b[36m(launch_and_fit pid=11001)\u001b[0m  To get the checkpoint\n",
      "\u001b[36m(launch_and_fit pid=10928)\u001b[0m \tTrain Epoch: 10 \tTrain_loss_mri: 0.0194 | Train_acc_mri: 99.6875 | Train_loss_dna: 0.1325 | Train_acc_dna: 96.5625 | Validation_loss_mri: 0.7885 | Validation_acc_mri: 85.9375 | Validation_loss_dna: 4.4805 | Validation_acc_dna: 26.0417\u001b[32m [repeated 3x across cluster]\u001b[0m\n",
      "\u001b[36m(launch_and_fit pid=10928)\u001b[0m save graph in  results/FL/\n",
      "\u001b[36m(launch_and_fit pid=11001)\u001b[0m [Client 3, round 15] fit, config: {'learning_rate': 0.003, 'batch_size': '32', 'server_round': 15, 'local_epochs': 10}\n",
      "\u001b[36m(launch_and_fit pid=11001)\u001b[0m Updated model\n"
     ]
    },
    {
     "name": "stderr",
     "output_type": "stream",
     "text": [
      "  0%|\u001b[34m          \u001b[0m| 0/10 [00:00<?, ?it/s]\n",
      "100%|\u001b[34m██████████\u001b[0m| 10/10 [00:40<00:00,  4.08s/it]\u001b[32m [repeated 3x across cluster]\u001b[0m\n"
     ]
    },
    {
     "name": "stdout",
     "output_type": "stream",
     "text": [
      "\u001b[36m(launch_and_fit pid=11003)\u001b[0m Run WITHOUT homomorphic encryption\n",
      "\u001b[36m(launch_and_fit pid=11003)\u001b[0m  To get the checkpoint\n",
      "\u001b[36m(launch_and_fit pid=11001)\u001b[0m \tTrain Epoch: 1 \tTrain_loss_mri: 0.1427 | Train_acc_mri: 94.2593 | Train_loss_dna: 1.0949 | Train_acc_dna: 61.4931 | Validation_loss_mri: 0.7524 | Validation_acc_mri: 85.9375 | Validation_loss_dna: 6.6668 | Validation_acc_dna: 9.3750\n"
     ]
    },
    {
     "name": "stderr",
     "output_type": "stream",
     "text": [
      "  0%|\u001b[34m          \u001b[0m| 0/10 [00:00<?, ?it/s]\n",
      " 10%|\u001b[34m█         \u001b[0m| 1/10 [00:04<00:43,  4.87s/it]\u001b[32m [repeated 2x across cluster]\u001b[0m\n"
     ]
    },
    {
     "name": "stdout",
     "output_type": "stream",
     "text": [
      "\u001b[36m(launch_and_fit pid=11003)\u001b[0m \tTrain Epoch: 1 \tTrain_loss_mri: 0.1313 | Train_acc_mri: 95.5093 | Train_loss_dna: 1.2334 | Train_acc_dna: 58.5069 | Validation_loss_mri: 0.7969 | Validation_acc_mri: 75.5208 | Validation_loss_dna: 3.6342 | Validation_acc_dna: 32.2917\n",
      "\u001b[36m(launch_and_fit pid=11003)\u001b[0m [Client 8, round 15] fit, config: {'learning_rate': 0.003, 'batch_size': '32', 'server_round': 15, 'local_epochs': 10}\n",
      "\u001b[36m(launch_and_fit pid=11003)\u001b[0m Updated model\n",
      "\u001b[36m(launch_and_fit pid=11001)\u001b[0m \tTrain Epoch: 3 \tTrain_loss_mri: 0.0212 | Train_acc_mri: 99.3750 | Train_loss_dna: 0.3884 | Train_acc_dna: 88.5764 | Validation_loss_mri: 0.5346 | Validation_acc_mri: 90.6250 | Validation_loss_dna: 7.3147 | Validation_acc_dna: 9.3750\u001b[32m [repeated 3x across cluster]\u001b[0m\n"
     ]
    },
    {
     "name": "stderr",
     "output_type": "stream",
     "text": [
      " 30%|\u001b[34m███       \u001b[0m| 3/10 [00:12<00:28,  4.13s/it]\u001b[32m [repeated 3x across cluster]\u001b[0m\n"
     ]
    },
    {
     "name": "stdout",
     "output_type": "stream",
     "text": [
      "\u001b[36m(launch_and_fit pid=11001)\u001b[0m \tTrain Epoch: 5 \tTrain_loss_mri: 0.0256 | Train_acc_mri: 99.3750 | Train_loss_dna: 0.2208 | Train_acc_dna: 95.3125 | Validation_loss_mri: 0.5470 | Validation_acc_mri: 89.0625 | Validation_loss_dna: 8.5859 | Validation_acc_dna: 9.3750\u001b[32m [repeated 4x across cluster]\u001b[0m\n"
     ]
    },
    {
     "name": "stderr",
     "output_type": "stream",
     "text": [
      " 50%|\u001b[34m█████     \u001b[0m| 5/10 [00:20<00:20,  4.04s/it]\u001b[32m [repeated 4x across cluster]\u001b[0m\n"
     ]
    },
    {
     "name": "stdout",
     "output_type": "stream",
     "text": [
      "\u001b[36m(launch_and_fit pid=11001)\u001b[0m \tTrain Epoch: 7 \tTrain_loss_mri: 0.0098 | Train_acc_mri: 99.6296 | Train_loss_dna: 0.1301 | Train_acc_dna: 97.7546 | Validation_loss_mri: 0.7625 | Validation_acc_mri: 84.3750 | Validation_loss_dna: 9.2917 | Validation_acc_dna: 22.9167\u001b[32m [repeated 4x across cluster]\u001b[0m\n"
     ]
    },
    {
     "name": "stderr",
     "output_type": "stream",
     "text": [
      " 70%|\u001b[34m███████   \u001b[0m| 7/10 [00:28<00:11,  3.96s/it]\u001b[32m [repeated 4x across cluster]\u001b[0m\n"
     ]
    },
    {
     "name": "stdout",
     "output_type": "stream",
     "text": [
      "\u001b[36m(launch_and_fit pid=11001)\u001b[0m \tTrain Epoch: 9 \tTrain_loss_mri: 0.0157 | Train_acc_mri: 99.6875 | Train_loss_dna: 0.1447 | Train_acc_dna: 96.8750 | Validation_loss_mri: 0.7848 | Validation_acc_mri: 84.3750 | Validation_loss_dna: 8.3359 | Validation_acc_dna: 29.1667\u001b[32m [repeated 4x across cluster]\u001b[0m\n"
     ]
    },
    {
     "name": "stderr",
     "output_type": "stream",
     "text": [
      " 90%|\u001b[34m█████████ \u001b[0m| 9/10 [00:36<00:04,  4.05s/it]\u001b[32m [repeated 4x across cluster]\u001b[0m\n"
     ]
    },
    {
     "name": "stdout",
     "output_type": "stream",
     "text": [
      "\u001b[36m(launch_and_fit pid=11001)\u001b[0m save graph in  results/FL/\n",
      "\u001b[36m(launch_and_fit pid=11075)\u001b[0m Run WITHOUT homomorphic encryption\n",
      "\u001b[36m(launch_and_fit pid=11075)\u001b[0m  To get the checkpoint\n",
      "\u001b[36m(launch_and_fit pid=11003)\u001b[0m \tTrain Epoch: 10 \tTrain_loss_mri: 0.0104 | Train_acc_mri: 100.0000 | Train_loss_dna: 0.1319 | Train_acc_dna: 96.2500 | Validation_loss_mri: 1.0049 | Validation_acc_mri: 72.3958 | Validation_loss_dna: 5.0045 | Validation_acc_dna: 27.6042\u001b[32m [repeated 3x across cluster]\u001b[0m\n",
      "\u001b[36m(launch_and_fit pid=11003)\u001b[0m save graph in  results/FL/\n"
     ]
    },
    {
     "name": "stderr",
     "output_type": "stream",
     "text": [
      "  0%|\u001b[34m          \u001b[0m| 0/10 [00:00<?, ?it/s]\n",
      "100%|\u001b[34m██████████\u001b[0m| 10/10 [00:41<00:00,  4.12s/it]\u001b[32m [repeated 3x across cluster]\u001b[0m\n"
     ]
    },
    {
     "name": "stdout",
     "output_type": "stream",
     "text": [
      "\u001b[36m(launch_and_fit pid=11075)\u001b[0m [Client 6, round 15] fit, config: {'learning_rate': 0.003, 'batch_size': '32', 'server_round': 15, 'local_epochs': 10}\n",
      "\u001b[36m(launch_and_fit pid=11075)\u001b[0m Updated model\n",
      "\u001b[36m(launch_and_fit pid=11100)\u001b[0m Run WITHOUT homomorphic encryption\n",
      "\u001b[36m(launch_and_fit pid=11100)\u001b[0m  To get the checkpoint\n",
      "\u001b[36m(launch_and_fit pid=11100)\u001b[0m \tTrain Epoch: 1 \tTrain_loss_mri: 0.1035 | Train_acc_mri: 96.8750 | Train_loss_dna: 1.1871 | Train_acc_dna: 57.0949 | Validation_loss_mri: 2.0240 | Validation_acc_mri: 58.8542 | Validation_loss_dna: 4.8125 | Validation_acc_dna: 7.8125\u001b[32m [repeated 2x across cluster]\u001b[0m\n",
      "\u001b[36m(launch_and_fit pid=11100)\u001b[0m [Client 5, round 15] fit, config: {'learning_rate': 0.003, 'batch_size': '32', 'server_round': 15, 'local_epochs': 10}\n",
      "\u001b[36m(launch_and_fit pid=11100)\u001b[0m Updated model\n"
     ]
    },
    {
     "name": "stderr",
     "output_type": "stream",
     "text": [
      "  0%|\u001b[34m          \u001b[0m| 0/10 [00:00<?, ?it/s]\n",
      " 10%|\u001b[34m█         \u001b[0m| 1/10 [00:04<00:40,  4.48s/it]\u001b[32m [repeated 2x across cluster]\u001b[0m\n",
      " 30%|\u001b[34m███       \u001b[0m| 3/10 [00:12<00:29,  4.20s/it]\u001b[32m [repeated 3x across cluster]\u001b[0m\n"
     ]
    },
    {
     "name": "stdout",
     "output_type": "stream",
     "text": [
      "\u001b[36m(launch_and_fit pid=11075)\u001b[0m \tTrain Epoch: 3 \tTrain_loss_mri: 0.0994 | Train_acc_mri: 96.5625 | Train_loss_dna: 0.5053 | Train_acc_dna: 81.7014 | Validation_loss_mri: 1.2396 | Validation_acc_mri: 72.3958 | Validation_loss_dna: 3.3737 | Validation_acc_dna: 27.6042\u001b[32m [repeated 3x across cluster]\u001b[0m\n"
     ]
    },
    {
     "name": "stderr",
     "output_type": "stream",
     "text": [
      " 50%|\u001b[34m█████     \u001b[0m| 5/10 [00:20<00:19,  4.00s/it]\u001b[32m [repeated 4x across cluster]\u001b[0m\n"
     ]
    },
    {
     "name": "stdout",
     "output_type": "stream",
     "text": [
      "\u001b[36m(launch_and_fit pid=11075)\u001b[0m \tTrain Epoch: 5 \tTrain_loss_mri: 0.0256 | Train_acc_mri: 99.3750 | Train_loss_dna: 0.2826 | Train_acc_dna: 93.3218 | Validation_loss_mri: 0.8786 | Validation_acc_mri: 72.3958 | Validation_loss_dna: 3.5060 | Validation_acc_dna: 12.5000\u001b[32m [repeated 4x across cluster]\u001b[0m\n"
     ]
    },
    {
     "name": "stderr",
     "output_type": "stream",
     "text": [
      " 70%|\u001b[34m███████   \u001b[0m| 7/10 [00:28<00:11,  3.98s/it]\u001b[32m [repeated 4x across cluster]\u001b[0m\n"
     ]
    },
    {
     "name": "stdout",
     "output_type": "stream",
     "text": [
      "\u001b[36m(launch_and_fit pid=11075)\u001b[0m \tTrain Epoch: 7 \tTrain_loss_mri: 0.0221 | Train_acc_mri: 99.6875 | Train_loss_dna: 0.1962 | Train_acc_dna: 96.1921 | Validation_loss_mri: 1.3073 | Validation_acc_mri: 73.9583 | Validation_loss_dna: 3.6522 | Validation_acc_dna: 10.9375\u001b[32m [repeated 4x across cluster]\u001b[0m\n",
      "\u001b[36m(launch_and_fit pid=11100)\u001b[0m \tTrain Epoch: 8 \tTrain_loss_mri: 0.0074 | Train_acc_mri: 100.0000 | Train_loss_dna: 0.0917 | Train_acc_dna: 99.0046 | Validation_loss_mri: 2.8987 | Validation_acc_mri: 55.7292 | Validation_loss_dna: 5.7865 | Validation_acc_dna: 12.5000\u001b[32m [repeated 3x across cluster]\u001b[0m\n"
     ]
    },
    {
     "name": "stderr",
     "output_type": "stream",
     "text": [
      " 80%|\u001b[34m████████  \u001b[0m| 8/10 [00:32<00:08,  4.05s/it]\u001b[32m [repeated 3x across cluster]\u001b[0m\n",
      "100%|\u001b[34m██████████\u001b[0m| 10/10 [00:40<00:00,  4.01s/it]\u001b[32m [repeated 3x across cluster]\u001b[0m\n"
     ]
    },
    {
     "name": "stdout",
     "output_type": "stream",
     "text": [
      "\u001b[36m(launch_and_fit pid=11075)\u001b[0m save graph in  results/FL/\n",
      "\u001b[36m(launch_and_fit pid=11075)\u001b[0m \tTrain Epoch: 10 \tTrain_loss_mri: 0.0233 | Train_acc_mri: 99.6875 | Train_loss_dna: 0.1521 | Train_acc_dna: 96.5625 | Validation_loss_mri: 1.6522 | Validation_acc_mri: 57.2917 | Validation_loss_dna: 3.9486 | Validation_acc_dna: 12.5000\u001b[32m [repeated 3x across cluster]\u001b[0m\n"
     ]
    },
    {
     "name": "stderr",
     "output_type": "stream",
     "text": [
      "DEBUG flwr 2024-08-05 12:22:47,097 | server.py:236 | fit_round 15 received 10 results and 0 failures\n"
     ]
    },
    {
     "name": "stdout",
     "output_type": "stream",
     "text": [
      "Saving round 15 aggregated_parameters...\n",
      "Updated model\n"
     ]
    },
    {
     "name": "stderr",
     "output_type": "stream",
     "text": [
      "INFO flwr 2024-08-05 12:22:53,548 | server.py:125 | fit progress: (15, (1.2403938621282578, 4.055979788303375), {'accuracy': (80.72916666666667, 15.21577380952381)}, 5032.684072104999)\n",
      "DEBUG flwr 2024-08-05 12:22:53,550 | server.py:173 | evaluate_round 15: strategy sampled 10 clients (out of 10)\n"
     ]
    },
    {
     "name": "stdout",
     "output_type": "stream",
     "text": [
      "Server-side evaluation MRI loss 1.2403938621282578 / MRI accuracy 80.72916666666667\n",
      "Server-side evaluation DNA loss 4.055979788303375 / DNA accuracy 15.21577380952381\n",
      "\u001b[36m(launch_and_evaluate pid=11158)\u001b[0m Run WITHOUT homomorphic encryption\n",
      "\u001b[36m(launch_and_evaluate pid=11158)\u001b[0m  To get the checkpoint\n",
      "\u001b[36m(launch_and_fit pid=11100)\u001b[0m save graph in  results/FL/\n",
      "\u001b[36m(launch_and_fit pid=11100)\u001b[0m \tTrain Epoch: 10 \tTrain_loss_mri: 0.0051 | Train_acc_mri: 100.0000 | Train_loss_dna: 0.0534 | Train_acc_dna: 99.6875 | Validation_loss_mri: 3.6001 | Validation_acc_mri: 57.2917 | Validation_loss_dna: 6.2951 | Validation_acc_dna: 12.5000\n",
      "\u001b[36m(launch_and_evaluate pid=11158)\u001b[0m [Client 0] evaluate, config: {}\n",
      "\u001b[36m(launch_and_evaluate pid=11158)\u001b[0m Updated model\n",
      "\u001b[36m(launch_and_evaluate pid=11229)\u001b[0m Run WITHOUT homomorphic encryption\u001b[32m [repeated 2x across cluster]\u001b[0m\n",
      "\u001b[36m(launch_and_evaluate pid=11229)\u001b[0m  To get the checkpoint\u001b[32m [repeated 2x across cluster]\u001b[0m\n",
      "\u001b[36m(launch_and_evaluate pid=11159)\u001b[0m [Client 1] evaluate, config: {}\n",
      "\u001b[36m(launch_and_evaluate pid=11159)\u001b[0m Updated model\n",
      "\u001b[36m(launch_and_evaluate pid=11229)\u001b[0m [Client 9] evaluate, config: {}\n",
      "\u001b[36m(launch_and_evaluate pid=11229)\u001b[0m Updated model\n"
     ]
    },
    {
     "name": "stderr",
     "output_type": "stream",
     "text": [
      "\u001b[36m(launch_and_evaluate pid=11229)\u001b[0m /opt/conda/lib/python3.10/site-packages/sklearn/metrics/_ranking.py:1029: UndefinedMetricWarning: No positive samples in y_true, true positive value should be meaningless\n",
      "\u001b[36m(launch_and_evaluate pid=11229)\u001b[0m   warnings.warn(\n",
      "100%|\u001b[34m██████████\u001b[0m| 10/10 [00:40<00:00,  4.07s/it]\n"
     ]
    },
    {
     "name": "stdout",
     "output_type": "stream",
     "text": [
      "\u001b[36m(launch_and_evaluate pid=11299)\u001b[0m Run WITHOUT homomorphic encryption\u001b[32m [repeated 2x across cluster]\u001b[0m\n",
      "\u001b[36m(launch_and_evaluate pid=11299)\u001b[0m  To get the checkpoint\u001b[32m [repeated 2x across cluster]\u001b[0m\n",
      "\u001b[36m(launch_and_evaluate pid=11231)\u001b[0m [Client 5] evaluate, config: {}\n",
      "\u001b[36m(launch_and_evaluate pid=11231)\u001b[0m Updated model\n",
      "\u001b[36m(launch_and_evaluate pid=11299)\u001b[0m [Client 6] evaluate, config: {}\n",
      "\u001b[36m(launch_and_evaluate pid=11299)\u001b[0m Updated model\n",
      "\u001b[36m(launch_and_evaluate pid=11369)\u001b[0m Run WITHOUT homomorphic encryption\u001b[32m [repeated 2x across cluster]\u001b[0m\n",
      "\u001b[36m(launch_and_evaluate pid=11369)\u001b[0m  To get the checkpoint\u001b[32m [repeated 2x across cluster]\u001b[0m\n",
      "\u001b[36m(launch_and_evaluate pid=11301)\u001b[0m [Client 2] evaluate, config: {}\n",
      "\u001b[36m(launch_and_evaluate pid=11301)\u001b[0m Updated model\n",
      "\u001b[36m(launch_and_evaluate pid=11369)\u001b[0m [Client 8] evaluate, config: {}\n",
      "\u001b[36m(launch_and_evaluate pid=11369)\u001b[0m Updated model\n"
     ]
    },
    {
     "name": "stderr",
     "output_type": "stream",
     "text": [
      "\u001b[36m(launch_and_evaluate pid=11369)\u001b[0m /opt/conda/lib/python3.10/site-packages/sklearn/metrics/_ranking.py:1029: UndefinedMetricWarning: No positive samples in y_true, true positive value should be meaningless\n",
      "\u001b[36m(launch_and_evaluate pid=11369)\u001b[0m   warnings.warn(\n"
     ]
    },
    {
     "name": "stdout",
     "output_type": "stream",
     "text": [
      "\u001b[36m(launch_and_evaluate pid=11439)\u001b[0m Run WITHOUT homomorphic encryption\u001b[32m [repeated 2x across cluster]\u001b[0m\n",
      "\u001b[36m(launch_and_evaluate pid=11439)\u001b[0m  To get the checkpoint\u001b[32m [repeated 2x across cluster]\u001b[0m\n",
      "\u001b[36m(launch_and_evaluate pid=11371)\u001b[0m [Client 3] evaluate, config: {}\n",
      "\u001b[36m(launch_and_evaluate pid=11371)\u001b[0m Updated model\n",
      "\u001b[36m(launch_and_evaluate pid=11439)\u001b[0m [Client 7] evaluate, config: {}\n",
      "\u001b[36m(launch_and_evaluate pid=11439)\u001b[0m Updated model\n"
     ]
    },
    {
     "name": "stderr",
     "output_type": "stream",
     "text": [
      "\u001b[36m(launch_and_evaluate pid=11441)\u001b[0m /opt/conda/lib/python3.10/site-packages/sklearn/metrics/_ranking.py:1029: UndefinedMetricWarning: No positive samples in y_true, true positive value should be meaningless\n",
      "\u001b[36m(launch_and_evaluate pid=11441)\u001b[0m   warnings.warn(\n",
      "DEBUG flwr 2024-08-05 12:24:01,398 | server.py:187 | evaluate_round 15 received 10 results and 0 failures\n",
      "DEBUG flwr 2024-08-05 12:24:01,399 | server.py:222 | fit_round 16: strategy sampled 10 clients (out of 10)\n"
     ]
    },
    {
     "name": "stdout",
     "output_type": "stream",
     "text": [
      "\u001b[36m(launch_and_fit pid=11518)\u001b[0m Run WITHOUT homomorphic encryption\u001b[32m [repeated 2x across cluster]\u001b[0m\n",
      "\u001b[36m(launch_and_fit pid=11518)\u001b[0m  To get the checkpoint\u001b[32m [repeated 2x across cluster]\u001b[0m\n",
      "\u001b[36m(launch_and_evaluate pid=11441)\u001b[0m [Client 4] evaluate, config: {}\n",
      "\u001b[36m(launch_and_evaluate pid=11441)\u001b[0m Updated model\n"
     ]
    },
    {
     "name": "stderr",
     "output_type": "stream",
     "text": [
      "  0%|\u001b[34m          \u001b[0m| 0/10 [00:00<?, ?it/s]\n"
     ]
    },
    {
     "name": "stdout",
     "output_type": "stream",
     "text": [
      "\u001b[36m(launch_and_fit pid=11518)\u001b[0m [Client 2, round 16] fit, config: {'learning_rate': 0.003, 'batch_size': '32', 'server_round': 16, 'local_epochs': 10}\n",
      "\u001b[36m(launch_and_fit pid=11518)\u001b[0m Updated model\n",
      "\u001b[36m(launch_and_fit pid=11518)\u001b[0m \tTrain Epoch: 1 \tTrain_loss_mri: 0.0836 | Train_acc_mri: 96.8171 | Train_loss_dna: 1.0263 | Train_acc_dna: 59.2477 | Validation_loss_mri: 1.8457 | Validation_acc_mri: 72.3958 | Validation_loss_dna: 3.6668 | Validation_acc_dna: 24.4792\n"
     ]
    },
    {
     "name": "stderr",
     "output_type": "stream",
     "text": [
      " 10%|\u001b[34m█         \u001b[0m| 1/10 [00:04<00:39,  4.43s/it]\n"
     ]
    },
    {
     "name": "stdout",
     "output_type": "stream",
     "text": [
      "\u001b[36m(launch_and_fit pid=11519)\u001b[0m Run WITHOUT homomorphic encryption\n",
      "\u001b[36m(launch_and_fit pid=11519)\u001b[0m  To get the checkpoint\n",
      "\u001b[36m(launch_and_fit pid=11519)\u001b[0m [Client 9, round 16] fit, config: {'learning_rate': 0.003, 'batch_size': '32', 'server_round': 16, 'local_epochs': 10}\n",
      "\u001b[36m(launch_and_fit pid=11519)\u001b[0m Updated model\n"
     ]
    },
    {
     "name": "stderr",
     "output_type": "stream",
     "text": [
      "  0%|\u001b[34m          \u001b[0m| 0/10 [00:00<?, ?it/s]\n",
      " 30%|\u001b[34m███       \u001b[0m| 3/10 [00:12<00:29,  4.28s/it]\u001b[32m [repeated 4x across cluster]\u001b[0m\n"
     ]
    },
    {
     "name": "stdout",
     "output_type": "stream",
     "text": [
      "\u001b[36m(launch_and_fit pid=11518)\u001b[0m \tTrain Epoch: 3 \tTrain_loss_mri: 0.0594 | Train_acc_mri: 97.5000 | Train_loss_dna: 0.4541 | Train_acc_dna: 82.5231 | Validation_loss_mri: 0.5322 | Validation_acc_mri: 92.1875 | Validation_loss_dna: 3.3167 | Validation_acc_dna: 26.0417\u001b[32m [repeated 4x across cluster]\u001b[0m\n"
     ]
    },
    {
     "name": "stderr",
     "output_type": "stream",
     "text": [
      " 50%|\u001b[34m█████     \u001b[0m| 5/10 [00:20<00:20,  4.08s/it]\u001b[32m [repeated 4x across cluster]\u001b[0m\n"
     ]
    },
    {
     "name": "stdout",
     "output_type": "stream",
     "text": [
      "\u001b[36m(launch_and_fit pid=11519)\u001b[0m \tTrain Epoch: 5 \tTrain_loss_mri: 0.0151 | Train_acc_mri: 100.0000 | Train_loss_dna: 0.1956 | Train_acc_dna: 96.2500 | Validation_loss_mri: 0.4786 | Validation_acc_mri: 87.5000 | Validation_loss_dna: 4.3743 | Validation_acc_dna: 7.8125\u001b[32m [repeated 4x across cluster]\u001b[0m\n"
     ]
    },
    {
     "name": "stderr",
     "output_type": "stream",
     "text": [
      " 70%|\u001b[34m███████   \u001b[0m| 7/10 [00:28<00:11,  4.00s/it]\u001b[32m [repeated 4x across cluster]\u001b[0m\n"
     ]
    },
    {
     "name": "stdout",
     "output_type": "stream",
     "text": [
      "\u001b[36m(launch_and_fit pid=11519)\u001b[0m \tTrain Epoch: 7 \tTrain_loss_mri: 0.0097 | Train_acc_mri: 100.0000 | Train_loss_dna: 0.1172 | Train_acc_dna: 98.4173 | Validation_loss_mri: 0.5043 | Validation_acc_mri: 89.0625 | Validation_loss_dna: 4.0030 | Validation_acc_dna: 12.5000\u001b[32m [repeated 4x across cluster]\u001b[0m\n"
     ]
    },
    {
     "name": "stderr",
     "output_type": "stream",
     "text": [
      " 90%|\u001b[34m█████████ \u001b[0m| 9/10 [00:36<00:03,  3.98s/it]\u001b[32m [repeated 4x across cluster]\u001b[0m\n"
     ]
    },
    {
     "name": "stdout",
     "output_type": "stream",
     "text": [
      "\u001b[36m(launch_and_fit pid=11519)\u001b[0m \tTrain Epoch: 9 \tTrain_loss_mri: 0.0116 | Train_acc_mri: 99.6875 | Train_loss_dna: 0.0776 | Train_acc_dna: 98.7500 | Validation_loss_mri: 0.4584 | Validation_acc_mri: 89.0625 | Validation_loss_dna: 4.6511 | Validation_acc_dna: 9.3750\u001b[32m [repeated 4x across cluster]\u001b[0m\n",
      "\u001b[36m(launch_and_fit pid=11519)\u001b[0m save graph in  results/FL/\n",
      "\u001b[36m(launch_and_fit pid=11593)\u001b[0m Run WITHOUT homomorphic encryption\n",
      "\u001b[36m(launch_and_fit pid=11593)\u001b[0m  To get the checkpoint\n",
      "\u001b[36m(launch_and_fit pid=11518)\u001b[0m \tTrain Epoch: 10 \tTrain_loss_mri: 0.0469 | Train_acc_mri: 99.0625 | Train_loss_dna: 0.1349 | Train_acc_dna: 98.0671 | Validation_loss_mri: 0.5328 | Validation_acc_mri: 90.6250 | Validation_loss_dna: 3.6664 | Validation_acc_dna: 24.4792\u001b[32m [repeated 3x across cluster]\u001b[0m\n",
      "\u001b[36m(launch_and_fit pid=11518)\u001b[0m save graph in  results/FL/\n"
     ]
    },
    {
     "name": "stderr",
     "output_type": "stream",
     "text": [
      "  0%|\u001b[34m          \u001b[0m| 0/10 [00:00<?, ?it/s]\n",
      "100%|\u001b[34m██████████\u001b[0m| 10/10 [00:40<00:00,  4.09s/it]\u001b[32m [repeated 3x across cluster]\u001b[0m\n"
     ]
    },
    {
     "name": "stdout",
     "output_type": "stream",
     "text": [
      "\u001b[36m(launch_and_fit pid=11593)\u001b[0m [Client 4, round 16] fit, config: {'learning_rate': 0.003, 'batch_size': '32', 'server_round': 16, 'local_epochs': 10}\n",
      "\u001b[36m(launch_and_fit pid=11593)\u001b[0m Updated model\n",
      "\u001b[36m(launch_and_fit pid=11595)\u001b[0m Run WITHOUT homomorphic encryption\n",
      "\u001b[36m(launch_and_fit pid=11595)\u001b[0m  To get the checkpoint\n",
      "\u001b[36m(launch_and_fit pid=11595)\u001b[0m \tTrain Epoch: 1 \tTrain_loss_mri: 0.0651 | Train_acc_mri: 98.4375 | Train_loss_dna: 1.1613 | Train_acc_dna: 60.0463 | Validation_loss_mri: 4.0134 | Validation_acc_mri: 54.1667 | Validation_loss_dna: 4.9189 | Validation_acc_dna: 10.9375\u001b[32m [repeated 2x across cluster]\u001b[0m\n"
     ]
    },
    {
     "name": "stderr",
     "output_type": "stream",
     "text": [
      "  0%|\u001b[34m          \u001b[0m| 0/10 [00:00<?, ?it/s]\n",
      " 20%|\u001b[34m██        \u001b[0m| 2/10 [00:08<00:32,  4.12s/it]\u001b[32m [repeated 3x across cluster]\u001b[0m\n"
     ]
    },
    {
     "name": "stdout",
     "output_type": "stream",
     "text": [
      "\u001b[36m(launch_and_fit pid=11595)\u001b[0m [Client 5, round 16] fit, config: {'learning_rate': 0.003, 'batch_size': '32', 'server_round': 16, 'local_epochs': 10}\n",
      "\u001b[36m(launch_and_fit pid=11595)\u001b[0m Updated model\n",
      "\u001b[36m(launch_and_fit pid=11593)\u001b[0m \tTrain Epoch: 3 \tTrain_loss_mri: 0.0595 | Train_acc_mri: 98.7500 | Train_loss_dna: 0.4140 | Train_acc_dna: 84.5949 | Validation_loss_mri: 1.2647 | Validation_acc_mri: 82.8125 | Validation_loss_dna: 2.6582 | Validation_acc_dna: 29.1667\u001b[32m [repeated 3x across cluster]\u001b[0m\n"
     ]
    },
    {
     "name": "stderr",
     "output_type": "stream",
     "text": [
      " 40%|\u001b[34m████      \u001b[0m| 4/10 [00:16<00:23,  3.96s/it]\u001b[32m [repeated 4x across cluster]\u001b[0m\n"
     ]
    },
    {
     "name": "stdout",
     "output_type": "stream",
     "text": [
      "\u001b[36m(launch_and_fit pid=11593)\u001b[0m \tTrain Epoch: 5 \tTrain_loss_mri: 0.0360 | Train_acc_mri: 98.6921 | Train_loss_dna: 0.2004 | Train_acc_dna: 95.1968 | Validation_loss_mri: 2.0520 | Validation_acc_mri: 49.4792 | Validation_loss_dna: 2.3454 | Validation_acc_dna: 30.7292\u001b[32m [repeated 4x across cluster]\u001b[0m\n"
     ]
    },
    {
     "name": "stderr",
     "output_type": "stream",
     "text": [
      " 60%|\u001b[34m██████    \u001b[0m| 6/10 [00:24<00:16,  4.04s/it]\u001b[32m [repeated 4x across cluster]\u001b[0m\n"
     ]
    },
    {
     "name": "stdout",
     "output_type": "stream",
     "text": [
      "\u001b[36m(launch_and_fit pid=11593)\u001b[0m \tTrain Epoch: 7 \tTrain_loss_mri: 0.0089 | Train_acc_mri: 100.0000 | Train_loss_dna: 0.1515 | Train_acc_dna: 96.1343 | Validation_loss_mri: 2.2838 | Validation_acc_mri: 67.7083 | Validation_loss_dna: 2.9554 | Validation_acc_dna: 29.1667\u001b[32m [repeated 4x across cluster]\u001b[0m\n"
     ]
    },
    {
     "name": "stderr",
     "output_type": "stream",
     "text": [
      " 80%|\u001b[34m████████  \u001b[0m| 8/10 [00:31<00:07,  3.92s/it]\u001b[32m [repeated 4x across cluster]\u001b[0m\n"
     ]
    },
    {
     "name": "stdout",
     "output_type": "stream",
     "text": [
      "\u001b[36m(launch_and_fit pid=11593)\u001b[0m \tTrain Epoch: 9 \tTrain_loss_mri: 0.0166 | Train_acc_mri: 99.6875 | Train_loss_dna: 0.1456 | Train_acc_dna: 97.3843 | Validation_loss_mri: 2.9514 | Validation_acc_mri: 49.4792 | Validation_loss_dna: 3.0603 | Validation_acc_dna: 26.0417\u001b[32m [repeated 4x across cluster]\u001b[0m\n"
     ]
    },
    {
     "name": "stderr",
     "output_type": "stream",
     "text": [
      "100%|\u001b[34m██████████\u001b[0m| 10/10 [00:39<00:00,  3.97s/it]\u001b[32m [repeated 4x across cluster]\u001b[0m\n"
     ]
    },
    {
     "name": "stdout",
     "output_type": "stream",
     "text": [
      "\u001b[36m(launch_and_fit pid=11593)\u001b[0m save graph in  results/FL/\n",
      "\u001b[36m(launch_and_fit pid=11667)\u001b[0m Run WITHOUT homomorphic encryption\n",
      "\u001b[36m(launch_and_fit pid=11667)\u001b[0m  To get the checkpoint\n",
      "\u001b[36m(launch_and_fit pid=11595)\u001b[0m \tTrain Epoch: 10 \tTrain_loss_mri: 0.0051 | Train_acc_mri: 100.0000 | Train_loss_dna: 0.0671 | Train_acc_dna: 98.7500 | Validation_loss_mri: 4.3815 | Validation_acc_mri: 55.7292 | Validation_loss_dna: 6.4849 | Validation_acc_dna: 12.5000\u001b[32m [repeated 3x across cluster]\u001b[0m\n",
      "\u001b[36m(launch_and_fit pid=11595)\u001b[0m save graph in  results/FL/\n"
     ]
    },
    {
     "name": "stderr",
     "output_type": "stream",
     "text": [
      "  0%|\u001b[34m          \u001b[0m| 0/10 [00:00<?, ?it/s]\n",
      "100%|\u001b[34m██████████\u001b[0m| 10/10 [00:40<00:00,  4.04s/it]\n"
     ]
    },
    {
     "name": "stdout",
     "output_type": "stream",
     "text": [
      "\u001b[36m(launch_and_fit pid=11667)\u001b[0m [Client 6, round 16] fit, config: {'learning_rate': 0.003, 'batch_size': '32', 'server_round': 16, 'local_epochs': 10}\n",
      "\u001b[36m(launch_and_fit pid=11667)\u001b[0m Updated model\n"
     ]
    },
    {
     "name": "stderr",
     "output_type": "stream",
     "text": [
      " 10%|\u001b[34m█         \u001b[0m| 1/10 [00:04<00:40,  4.50s/it]\n"
     ]
    },
    {
     "name": "stdout",
     "output_type": "stream",
     "text": [
      "\u001b[36m(launch_and_fit pid=11692)\u001b[0m Run WITHOUT homomorphic encryption\n",
      "\u001b[36m(launch_and_fit pid=11692)\u001b[0m  To get the checkpoint\n",
      "\u001b[36m(launch_and_fit pid=11667)\u001b[0m \tTrain Epoch: 1 \tTrain_loss_mri: 0.0652 | Train_acc_mri: 97.6968 | Train_loss_dna: 1.2880 | Train_acc_dna: 61.2963 | Validation_loss_mri: 2.0799 | Validation_acc_mri: 72.3958 | Validation_loss_dna: 4.3550 | Validation_acc_dna: 26.0417\n",
      "\u001b[36m(launch_and_fit pid=11692)\u001b[0m \tTrain Epoch: 1 \tTrain_loss_mri: 0.0573 | Train_acc_mri: 98.3796 | Train_loss_dna: 1.2329 | Train_acc_dna: 61.0417 | Validation_loss_mri: 1.1479 | Validation_acc_mri: 72.3958 | Validation_loss_dna: 3.2695 | Validation_acc_dna: 9.3750\n",
      "\u001b[36m(launch_and_fit pid=11692)\u001b[0m [Client 0, round 16] fit, config: {'learning_rate': 0.003, 'batch_size': '32', 'server_round': 16, 'local_epochs': 10}\n",
      "\u001b[36m(launch_and_fit pid=11692)\u001b[0m Updated model\n"
     ]
    },
    {
     "name": "stderr",
     "output_type": "stream",
     "text": [
      "  0%|\u001b[34m          \u001b[0m| 0/10 [00:00<?, ?it/s]\n",
      " 30%|\u001b[34m███       \u001b[0m| 3/10 [00:12<00:27,  3.93s/it]\u001b[32m [repeated 4x across cluster]\u001b[0m\n"
     ]
    },
    {
     "name": "stdout",
     "output_type": "stream",
     "text": [
      "\u001b[36m(launch_and_fit pid=11667)\u001b[0m \tTrain Epoch: 3 \tTrain_loss_mri: 0.0536 | Train_acc_mri: 98.0671 | Train_loss_dna: 0.4117 | Train_acc_dna: 85.5671 | Validation_loss_mri: 3.1003 | Validation_acc_mri: 39.0625 | Validation_loss_dna: 3.7247 | Validation_acc_dna: 27.6042\u001b[32m [repeated 3x across cluster]\u001b[0m\n"
     ]
    },
    {
     "name": "stderr",
     "output_type": "stream",
     "text": [
      " 50%|\u001b[34m█████     \u001b[0m| 5/10 [00:19<00:19,  3.84s/it]\u001b[32m [repeated 4x across cluster]\u001b[0m\n"
     ]
    },
    {
     "name": "stdout",
     "output_type": "stream",
     "text": [
      "\u001b[36m(launch_and_fit pid=11667)\u001b[0m \tTrain Epoch: 5 \tTrain_loss_mri: 0.0373 | Train_acc_mri: 99.2593 | Train_loss_dna: 0.3091 | Train_acc_dna: 92.5810 | Validation_loss_mri: 2.2061 | Validation_acc_mri: 55.7292 | Validation_loss_dna: 4.0280 | Validation_acc_dna: 27.6042\u001b[32m [repeated 4x across cluster]\u001b[0m\n",
      "\u001b[36m(launch_and_fit pid=11692)\u001b[0m \tTrain Epoch: 6 \tTrain_loss_mri: 0.0572 | Train_acc_mri: 98.7500 | Train_loss_dna: 0.2070 | Train_acc_dna: 95.1968 | Validation_loss_mri: 0.9777 | Validation_acc_mri: 72.3958 | Validation_loss_dna: 3.5550 | Validation_acc_dna: 14.0625\u001b[32m [repeated 3x across cluster]\u001b[0m\n"
     ]
    },
    {
     "name": "stderr",
     "output_type": "stream",
     "text": [
      " 60%|\u001b[34m██████    \u001b[0m| 6/10 [00:23<00:15,  3.89s/it]\u001b[32m [repeated 3x across cluster]\u001b[0m\n",
      " 80%|\u001b[34m████████  \u001b[0m| 8/10 [00:31<00:07,  3.87s/it]\u001b[32m [repeated 3x across cluster]\u001b[0m\n"
     ]
    },
    {
     "name": "stdout",
     "output_type": "stream",
     "text": [
      "\u001b[36m(launch_and_fit pid=11667)\u001b[0m \tTrain Epoch: 8 \tTrain_loss_mri: 0.0297 | Train_acc_mri: 99.3750 | Train_loss_dna: 0.2759 | Train_acc_dna: 93.8889 | Validation_loss_mri: 2.8974 | Validation_acc_mri: 40.6250 | Validation_loss_dna: 4.5417 | Validation_acc_dna: 26.0417\u001b[32m [repeated 3x across cluster]\u001b[0m\n",
      "\u001b[36m(launch_and_fit pid=11692)\u001b[0m \tTrain Epoch: 9 \tTrain_loss_mri: 0.0279 | Train_acc_mri: 99.6875 | Train_loss_dna: 0.0762 | Train_acc_dna: 98.7500 | Validation_loss_mri: 1.5226 | Validation_acc_mri: 72.3958 | Validation_loss_dna: 4.6369 | Validation_acc_dna: 14.0625\u001b[32m [repeated 3x across cluster]\u001b[0m\n"
     ]
    },
    {
     "name": "stderr",
     "output_type": "stream",
     "text": [
      " 90%|\u001b[34m█████████ \u001b[0m| 9/10 [00:35<00:04,  4.00s/it]\u001b[32m [repeated 3x across cluster]\u001b[0m\n"
     ]
    },
    {
     "name": "stdout",
     "output_type": "stream",
     "text": [
      "\u001b[36m(launch_and_fit pid=11667)\u001b[0m save graph in  results/FL/\n",
      "\u001b[36m(launch_and_fit pid=11741)\u001b[0m Run WITHOUT homomorphic encryption\n",
      "\u001b[36m(launch_and_fit pid=11741)\u001b[0m  To get the checkpoint\n",
      "\u001b[36m(launch_and_fit pid=11692)\u001b[0m \tTrain Epoch: 10 \tTrain_loss_mri: 0.0054 | Train_acc_mri: 100.0000 | Train_loss_dna: 0.0650 | Train_acc_dna: 99.6875 | Validation_loss_mri: 1.3837 | Validation_acc_mri: 73.9583 | Validation_loss_dna: 4.6900 | Validation_acc_dna: 14.0625\u001b[32m [repeated 2x across cluster]\u001b[0m\n",
      "\u001b[36m(launch_and_fit pid=11692)\u001b[0m save graph in  results/FL/\n",
      "\u001b[36m(launch_and_fit pid=11741)\u001b[0m [Client 8, round 16] fit, config: {'learning_rate': 0.003, 'batch_size': '32', 'server_round': 16, 'local_epochs': 10}\n",
      "\u001b[36m(launch_and_fit pid=11741)\u001b[0m Updated model\n"
     ]
    },
    {
     "name": "stderr",
     "output_type": "stream",
     "text": [
      "  0%|\u001b[34m          \u001b[0m| 0/10 [00:00<?, ?it/s]\n",
      "100%|\u001b[34m██████████\u001b[0m| 10/10 [00:39<00:00,  3.98s/it]\u001b[32m [repeated 2x across cluster]\u001b[0m\n",
      "  0%|\u001b[34m          \u001b[0m| 0/10 [00:00<?, ?it/s]\n",
      " 10%|\u001b[34m█         \u001b[0m| 1/10 [00:04<00:39,  4.34s/it]\u001b[32m [repeated 2x across cluster]\u001b[0m\n"
     ]
    },
    {
     "name": "stdout",
     "output_type": "stream",
     "text": [
      "\u001b[36m(launch_and_fit pid=11766)\u001b[0m Run WITHOUT homomorphic encryption\n",
      "\u001b[36m(launch_and_fit pid=11766)\u001b[0m  To get the checkpoint\n",
      "\u001b[36m(launch_and_fit pid=11766)\u001b[0m \tTrain Epoch: 1 \tTrain_loss_mri: 0.0848 | Train_acc_mri: 96.2500 | Train_loss_dna: 1.2969 | Train_acc_dna: 55.8681 | Validation_loss_mri: 4.8757 | Validation_acc_mri: 66.1458 | Validation_loss_dna: 6.6687 | Validation_acc_dna: 12.5000\u001b[32m [repeated 2x across cluster]\u001b[0m\n",
      "\u001b[36m(launch_and_fit pid=11766)\u001b[0m [Client 1, round 16] fit, config: {'learning_rate': 0.003, 'batch_size': '32', 'server_round': 16, 'local_epochs': 10}\n",
      "\u001b[36m(launch_and_fit pid=11766)\u001b[0m Updated model\n",
      "\u001b[36m(launch_and_fit pid=11741)\u001b[0m \tTrain Epoch: 3 \tTrain_loss_mri: 0.0634 | Train_acc_mri: 98.1250 | Train_loss_dna: 0.4430 | Train_acc_dna: 87.0139 | Validation_loss_mri: 0.7543 | Validation_acc_mri: 75.5208 | Validation_loss_dna: 4.4974 | Validation_acc_dna: 29.1667\u001b[32m [repeated 3x across cluster]\u001b[0m\n"
     ]
    },
    {
     "name": "stderr",
     "output_type": "stream",
     "text": [
      " 30%|\u001b[34m███       \u001b[0m| 3/10 [00:12<00:29,  4.22s/it]\u001b[32m [repeated 3x across cluster]\u001b[0m\n",
      " 40%|\u001b[34m████      \u001b[0m| 4/10 [00:16<00:24,  4.02s/it]\u001b[32m [repeated 3x across cluster]\u001b[0m\n"
     ]
    },
    {
     "name": "stdout",
     "output_type": "stream",
     "text": [
      "\u001b[36m(launch_and_fit pid=11766)\u001b[0m \tTrain Epoch: 4 \tTrain_loss_mri: 0.0568 | Train_acc_mri: 97.8125 | Train_loss_dna: 0.3962 | Train_acc_dna: 87.3264 | Validation_loss_mri: 5.9198 | Validation_acc_mri: 66.1458 | Validation_loss_dna: 5.2763 | Validation_acc_dna: 10.9375\u001b[32m [repeated 3x across cluster]\u001b[0m\n",
      "\u001b[36m(launch_and_fit pid=11741)\u001b[0m \tTrain Epoch: 6 \tTrain_loss_mri: 0.0388 | Train_acc_mri: 98.4375 | Train_loss_dna: 0.1812 | Train_acc_dna: 96.7014 | Validation_loss_mri: 1.5430 | Validation_acc_mri: 78.6458 | Validation_loss_dna: 5.3290 | Validation_acc_dna: 29.1667\u001b[32m [repeated 3x across cluster]\u001b[0m\n"
     ]
    },
    {
     "name": "stderr",
     "output_type": "stream",
     "text": [
      " 60%|\u001b[34m██████    \u001b[0m| 6/10 [00:24<00:16,  4.10s/it]\u001b[32m [repeated 3x across cluster]\u001b[0m\n",
      " 70%|\u001b[34m███████   \u001b[0m| 7/10 [00:27<00:11,  3.93s/it]\u001b[32m [repeated 3x across cluster]\u001b[0m\n"
     ]
    },
    {
     "name": "stdout",
     "output_type": "stream",
     "text": [
      "\u001b[36m(launch_and_fit pid=11766)\u001b[0m \tTrain Epoch: 7 \tTrain_loss_mri: 0.0233 | Train_acc_mri: 99.6875 | Train_loss_dna: 0.1433 | Train_acc_dna: 96.8750 | Validation_loss_mri: 6.8206 | Validation_acc_mri: 67.7083 | Validation_loss_dna: 5.7858 | Validation_acc_dna: 12.5000\u001b[32m [repeated 3x across cluster]\u001b[0m\n",
      "\u001b[36m(launch_and_fit pid=11741)\u001b[0m \tTrain Epoch: 9 \tTrain_loss_mri: 0.0063 | Train_acc_mri: 100.0000 | Train_loss_dna: 0.1171 | Train_acc_dna: 97.8125 | Validation_loss_mri: 1.4807 | Validation_acc_mri: 77.0833 | Validation_loss_dna: 5.5313 | Validation_acc_dna: 24.4792\u001b[32m [repeated 3x across cluster]\u001b[0m\n"
     ]
    },
    {
     "name": "stderr",
     "output_type": "stream",
     "text": [
      " 90%|\u001b[34m█████████ \u001b[0m| 9/10 [00:36<00:04,  4.00s/it]\u001b[32m [repeated 3x across cluster]\u001b[0m\n"
     ]
    },
    {
     "name": "stdout",
     "output_type": "stream",
     "text": [
      "\u001b[36m(launch_and_fit pid=11741)\u001b[0m save graph in  results/FL/\n"
     ]
    },
    {
     "name": "stderr",
     "output_type": "stream",
     "text": [
      "100%|\u001b[34m██████████\u001b[0m| 10/10 [00:39<00:00,  3.97s/it]\u001b[32m [repeated 3x across cluster]\u001b[0m\n"
     ]
    },
    {
     "name": "stdout",
     "output_type": "stream",
     "text": [
      "\u001b[36m(launch_and_fit pid=11766)\u001b[0m \tTrain Epoch: 10 \tTrain_loss_mri: 0.0055 | Train_acc_mri: 100.0000 | Train_loss_dna: 0.0692 | Train_acc_dna: 99.0625 | Validation_loss_mri: 7.0719 | Validation_acc_mri: 67.7083 | Validation_loss_dna: 6.1565 | Validation_acc_dna: 12.5000\u001b[32m [repeated 3x across cluster]\u001b[0m\n",
      "\u001b[36m(launch_and_fit pid=11815)\u001b[0m Run WITHOUT homomorphic encryption\n",
      "\u001b[36m(launch_and_fit pid=11815)\u001b[0m  To get the checkpoint\n",
      "\u001b[36m(launch_and_fit pid=11766)\u001b[0m save graph in  results/FL/\n"
     ]
    },
    {
     "name": "stderr",
     "output_type": "stream",
     "text": [
      "  0%|\u001b[34m          \u001b[0m| 0/10 [00:00<?, ?it/s]\n"
     ]
    },
    {
     "name": "stdout",
     "output_type": "stream",
     "text": [
      "\u001b[36m(launch_and_fit pid=11815)\u001b[0m [Client 7, round 16] fit, config: {'learning_rate': 0.003, 'batch_size': '32', 'server_round': 16, 'local_epochs': 10}\n",
      "\u001b[36m(launch_and_fit pid=11815)\u001b[0m Updated model\n"
     ]
    },
    {
     "name": "stderr",
     "output_type": "stream",
     "text": [
      " 10%|\u001b[34m█         \u001b[0m| 1/10 [00:04<00:41,  4.57s/it]\n"
     ]
    },
    {
     "name": "stdout",
     "output_type": "stream",
     "text": [
      "\u001b[36m(launch_and_fit pid=11815)\u001b[0m \tTrain Epoch: 1 \tTrain_loss_mri: 0.1435 | Train_acc_mri: 96.2500 | Train_loss_dna: 1.2301 | Train_acc_dna: 57.8009 | Validation_loss_mri: 0.2528 | Validation_acc_mri: 95.3125 | Validation_loss_dna: 4.1860 | Validation_acc_dna: 4.6875\n"
     ]
    },
    {
     "name": "stderr",
     "output_type": "stream",
     "text": [
      "  0%|\u001b[34m          \u001b[0m| 0/10 [00:00<?, ?it/s]\n"
     ]
    },
    {
     "name": "stdout",
     "output_type": "stream",
     "text": [
      "\u001b[36m(launch_and_fit pid=11840)\u001b[0m Run WITHOUT homomorphic encryption\n",
      "\u001b[36m(launch_and_fit pid=11840)\u001b[0m  To get the checkpoint\n",
      "\u001b[36m(launch_and_fit pid=11840)\u001b[0m [Client 3, round 16] fit, config: {'learning_rate': 0.003, 'batch_size': '32', 'server_round': 16, 'local_epochs': 10}\n",
      "\u001b[36m(launch_and_fit pid=11840)\u001b[0m Updated model\n"
     ]
    },
    {
     "name": "stderr",
     "output_type": "stream",
     "text": [
      " 20%|\u001b[34m██        \u001b[0m| 2/10 [00:08<00:33,  4.21s/it]\u001b[32m [repeated 3x across cluster]\u001b[0m\n"
     ]
    },
    {
     "name": "stdout",
     "output_type": "stream",
     "text": [
      "\u001b[36m(launch_and_fit pid=11840)\u001b[0m \tTrain Epoch: 2 \tTrain_loss_mri: 0.0484 | Train_acc_mri: 98.1250 | Train_loss_dna: 0.5948 | Train_acc_dna: 79.0856 | Validation_loss_mri: 0.8071 | Validation_acc_mri: 82.8125 | Validation_loss_dna: 7.1422 | Validation_acc_dna: 10.9375\u001b[32m [repeated 3x across cluster]\u001b[0m\n"
     ]
    },
    {
     "name": "stderr",
     "output_type": "stream",
     "text": [
      " 40%|\u001b[34m████      \u001b[0m| 4/10 [00:16<00:24,  4.09s/it]\u001b[32m [repeated 3x across cluster]\u001b[0m\n"
     ]
    },
    {
     "name": "stdout",
     "output_type": "stream",
     "text": [
      "\u001b[36m(launch_and_fit pid=11815)\u001b[0m \tTrain Epoch: 4 \tTrain_loss_mri: 0.0374 | Train_acc_mri: 98.7500 | Train_loss_dna: 0.2618 | Train_acc_dna: 93.1250 | Validation_loss_mri: 0.2806 | Validation_acc_mri: 96.8750 | Validation_loss_dna: 4.3770 | Validation_acc_dna: 14.0625\u001b[32m [repeated 3x across cluster]\u001b[0m\n"
     ]
    },
    {
     "name": "stderr",
     "output_type": "stream",
     "text": [
      " 60%|\u001b[34m██████    \u001b[0m| 6/10 [00:24<00:16,  4.14s/it]\u001b[32m [repeated 4x across cluster]\u001b[0m\n"
     ]
    },
    {
     "name": "stdout",
     "output_type": "stream",
     "text": [
      "\u001b[36m(launch_and_fit pid=11815)\u001b[0m \tTrain Epoch: 6 \tTrain_loss_mri: 0.0143 | Train_acc_mri: 100.0000 | Train_loss_dna: 0.1755 | Train_acc_dna: 95.8218 | Validation_loss_mri: 0.3014 | Validation_acc_mri: 93.7500 | Validation_loss_dna: 4.5488 | Validation_acc_dna: 9.3750\u001b[32m [repeated 4x across cluster]\u001b[0m\n"
     ]
    },
    {
     "name": "stderr",
     "output_type": "stream",
     "text": [
      " 80%|\u001b[34m████████  \u001b[0m| 8/10 [00:32<00:08,  4.00s/it]\u001b[32m [repeated 4x across cluster]\u001b[0m\n"
     ]
    },
    {
     "name": "stdout",
     "output_type": "stream",
     "text": [
      "\u001b[36m(launch_and_fit pid=11815)\u001b[0m \tTrain Epoch: 8 \tTrain_loss_mri: 0.0101 | Train_acc_mri: 99.6875 | Train_loss_dna: 0.1323 | Train_acc_dna: 98.4375 | Validation_loss_mri: 0.3265 | Validation_acc_mri: 95.3125 | Validation_loss_dna: 5.1518 | Validation_acc_dna: 7.8125\u001b[32m [repeated 4x across cluster]\u001b[0m\n"
     ]
    },
    {
     "name": "stderr",
     "output_type": "stream",
     "text": [
      "100%|\u001b[34m██████████\u001b[0m| 10/10 [00:40<00:00,  4.06s/it]\u001b[32m [repeated 4x across cluster]\u001b[0m\n"
     ]
    },
    {
     "name": "stdout",
     "output_type": "stream",
     "text": [
      "\u001b[36m(launch_and_fit pid=11815)\u001b[0m save graph in  results/FL/\n",
      "\u001b[36m(launch_and_fit pid=11815)\u001b[0m \tTrain Epoch: 10 \tTrain_loss_mri: 0.0179 | Train_acc_mri: 99.3171 | Train_loss_dna: 0.0890 | Train_acc_dna: 98.6921 | Validation_loss_mri: 0.3961 | Validation_acc_mri: 92.1875 | Validation_loss_dna: 5.1869 | Validation_acc_dna: 7.8125\u001b[32m [repeated 4x across cluster]\u001b[0m\n"
     ]
    },
    {
     "name": "stderr",
     "output_type": "stream",
     "text": [
      "DEBUG flwr 2024-08-05 12:28:25,131 | server.py:236 | fit_round 16 received 10 results and 0 failures\n"
     ]
    },
    {
     "name": "stdout",
     "output_type": "stream",
     "text": [
      "Saving round 16 aggregated_parameters...\n",
      "Updated model\n"
     ]
    },
    {
     "name": "stderr",
     "output_type": "stream",
     "text": [
      "INFO flwr 2024-08-05 12:28:31,423 | server.py:125 | fit progress: (16, (1.2441563252359629, 4.166217105729239), {'accuracy': (80.95238095238095, 16.183035714285715)}, 5370.558227438)\n",
      "DEBUG flwr 2024-08-05 12:28:31,424 | server.py:173 | evaluate_round 16: strategy sampled 10 clients (out of 10)\n"
     ]
    },
    {
     "name": "stdout",
     "output_type": "stream",
     "text": [
      "Server-side evaluation MRI loss 1.2441563252359629 / MRI accuracy 80.95238095238095\n",
      "Server-side evaluation DNA loss 4.166217105729239 / DNA accuracy 16.183035714285715\n",
      "\u001b[36m(launch_and_evaluate pid=11900)\u001b[0m Run WITHOUT homomorphic encryption\n",
      "\u001b[36m(launch_and_evaluate pid=11900)\u001b[0m  To get the checkpoint\n",
      "\u001b[36m(launch_and_fit pid=11840)\u001b[0m save graph in  results/FL/\n",
      "\u001b[36m(launch_and_fit pid=11840)\u001b[0m \tTrain Epoch: 10 \tTrain_loss_mri: 0.0079 | Train_acc_mri: 99.6875 | Train_loss_dna: 0.0761 | Train_acc_dna: 98.7500 | Validation_loss_mri: 0.9240 | Validation_acc_mri: 87.5000 | Validation_loss_dna: 10.1577 | Validation_acc_dna: 6.2500\n",
      "\u001b[36m(launch_and_evaluate pid=11900)\u001b[0m [Client 1] evaluate, config: {}\n",
      "\u001b[36m(launch_and_evaluate pid=11900)\u001b[0m Updated model\n",
      "\u001b[36m(launch_and_evaluate pid=11972)\u001b[0m Run WITHOUT homomorphic encryption\u001b[32m [repeated 2x across cluster]\u001b[0m\n",
      "\u001b[36m(launch_and_evaluate pid=11972)\u001b[0m  To get the checkpoint\u001b[32m [repeated 2x across cluster]\u001b[0m\n",
      "\u001b[36m(launch_and_evaluate pid=11899)\u001b[0m [Client 6] evaluate, config: {}\n",
      "\u001b[36m(launch_and_evaluate pid=11899)\u001b[0m Updated model\n",
      "\u001b[36m(launch_and_evaluate pid=11972)\u001b[0m [Client 7] evaluate, config: {}\n",
      "\u001b[36m(launch_and_evaluate pid=11972)\u001b[0m Updated model\n"
     ]
    },
    {
     "name": "stderr",
     "output_type": "stream",
     "text": [
      "\u001b[36m(launch_and_evaluate pid=11970)\u001b[0m /opt/conda/lib/python3.10/site-packages/sklearn/metrics/_ranking.py:1029: UndefinedMetricWarning: No positive samples in y_true, true positive value should be meaningless\n",
      "\u001b[36m(launch_and_evaluate pid=11970)\u001b[0m   warnings.warn(\n",
      "100%|\u001b[34m██████████\u001b[0m| 10/10 [00:39<00:00,  3.98s/it]\n"
     ]
    },
    {
     "name": "stdout",
     "output_type": "stream",
     "text": [
      "\u001b[36m(launch_and_evaluate pid=12041)\u001b[0m Run WITHOUT homomorphic encryption\u001b[32m [repeated 2x across cluster]\u001b[0m\n",
      "\u001b[36m(launch_and_evaluate pid=12041)\u001b[0m  To get the checkpoint\u001b[32m [repeated 2x across cluster]\u001b[0m\n",
      "\u001b[36m(launch_and_evaluate pid=11970)\u001b[0m [Client 9] evaluate, config: {}\n",
      "\u001b[36m(launch_and_evaluate pid=11970)\u001b[0m Updated model\n",
      "\u001b[36m(launch_and_evaluate pid=12041)\u001b[0m [Client 4] evaluate, config: {}\n",
      "\u001b[36m(launch_and_evaluate pid=12041)\u001b[0m Updated model\n"
     ]
    },
    {
     "name": "stderr",
     "output_type": "stream",
     "text": [
      "\u001b[36m(launch_and_evaluate pid=12041)\u001b[0m /opt/conda/lib/python3.10/site-packages/sklearn/metrics/_ranking.py:1029: UndefinedMetricWarning: No positive samples in y_true, true positive value should be meaningless\n",
      "\u001b[36m(launch_and_evaluate pid=12041)\u001b[0m   warnings.warn(\n"
     ]
    },
    {
     "name": "stdout",
     "output_type": "stream",
     "text": [
      "\u001b[36m(launch_and_evaluate pid=12110)\u001b[0m Run WITHOUT homomorphic encryption\u001b[32m [repeated 2x across cluster]\u001b[0m\n",
      "\u001b[36m(launch_and_evaluate pid=12110)\u001b[0m  To get the checkpoint\u001b[32m [repeated 2x across cluster]\u001b[0m\n",
      "\u001b[36m(launch_and_evaluate pid=12042)\u001b[0m [Client 2] evaluate, config: {}\n",
      "\u001b[36m(launch_and_evaluate pid=12042)\u001b[0m Updated model\n",
      "\u001b[36m(launch_and_evaluate pid=12110)\u001b[0m [Client 3] evaluate, config: {}\n",
      "\u001b[36m(launch_and_evaluate pid=12110)\u001b[0m Updated model\n"
     ]
    },
    {
     "name": "stderr",
     "output_type": "stream",
     "text": [
      "\u001b[36m(launch_and_evaluate pid=12112)\u001b[0m /opt/conda/lib/python3.10/site-packages/sklearn/metrics/_ranking.py:1029: UndefinedMetricWarning: No positive samples in y_true, true positive value should be meaningless\n",
      "\u001b[36m(launch_and_evaluate pid=12112)\u001b[0m   warnings.warn(\n"
     ]
    },
    {
     "name": "stdout",
     "output_type": "stream",
     "text": [
      "\u001b[36m(launch_and_evaluate pid=12180)\u001b[0m Run WITHOUT homomorphic encryption\u001b[32m [repeated 2x across cluster]\u001b[0m\n",
      "\u001b[36m(launch_and_evaluate pid=12180)\u001b[0m  To get the checkpoint\u001b[32m [repeated 2x across cluster]\u001b[0m\n",
      "\u001b[36m(launch_and_evaluate pid=12112)\u001b[0m [Client 8] evaluate, config: {}\n",
      "\u001b[36m(launch_and_evaluate pid=12112)\u001b[0m Updated model\n",
      "\u001b[36m(launch_and_evaluate pid=12180)\u001b[0m [Client 5] evaluate, config: {}\n",
      "\u001b[36m(launch_and_evaluate pid=12180)\u001b[0m Updated model\n"
     ]
    },
    {
     "name": "stderr",
     "output_type": "stream",
     "text": [
      "DEBUG flwr 2024-08-05 12:29:40,915 | server.py:187 | evaluate_round 16 received 10 results and 0 failures\n",
      "DEBUG flwr 2024-08-05 12:29:40,916 | server.py:222 | fit_round 17: strategy sampled 10 clients (out of 10)\n"
     ]
    },
    {
     "name": "stdout",
     "output_type": "stream",
     "text": [
      "\u001b[36m(launch_and_fit pid=12258)\u001b[0m Run WITHOUT homomorphic encryption\u001b[32m [repeated 2x across cluster]\u001b[0m\n",
      "\u001b[36m(launch_and_fit pid=12258)\u001b[0m  To get the checkpoint\u001b[32m [repeated 2x across cluster]\u001b[0m\n",
      "\u001b[36m(launch_and_evaluate pid=12182)\u001b[0m [Client 0] evaluate, config: {}\n",
      "\u001b[36m(launch_and_evaluate pid=12182)\u001b[0m Updated model\n",
      "\u001b[36m(launch_and_fit pid=12258)\u001b[0m [Client 6, round 17] fit, config: {'learning_rate': 0.003, 'batch_size': '32', 'server_round': 17, 'local_epochs': 10}\n",
      "\u001b[36m(launch_and_fit pid=12258)\u001b[0m Updated model\n"
     ]
    },
    {
     "name": "stderr",
     "output_type": "stream",
     "text": [
      "  0%|\u001b[34m          \u001b[0m| 0/10 [00:00<?, ?it/s]\n"
     ]
    },
    {
     "name": "stdout",
     "output_type": "stream",
     "text": [
      "\u001b[36m(launch_and_fit pid=12260)\u001b[0m \tTrain Epoch: 1 \tTrain_loss_mri: 0.0722 | Train_acc_mri: 96.8750 | Train_loss_dna: 1.2658 | Train_acc_dna: 59.4444 | Validation_loss_mri: 7.2330 | Validation_acc_mri: 47.9167 | Validation_loss_dna: 5.7176 | Validation_acc_dna: 29.1667\n"
     ]
    },
    {
     "name": "stderr",
     "output_type": "stream",
     "text": [
      " 10%|\u001b[34m█         \u001b[0m| 1/10 [00:04<00:39,  4.41s/it]\n"
     ]
    },
    {
     "name": "stdout",
     "output_type": "stream",
     "text": [
      "\u001b[36m(launch_and_fit pid=12260)\u001b[0m Run WITHOUT homomorphic encryption\n",
      "\u001b[36m(launch_and_fit pid=12260)\u001b[0m  To get the checkpoint\n",
      "\u001b[36m(launch_and_fit pid=12260)\u001b[0m [Client 1, round 17] fit, config: {'learning_rate': 0.003, 'batch_size': '32', 'server_round': 17, 'local_epochs': 10}\n",
      "\u001b[36m(launch_and_fit pid=12260)\u001b[0m Updated model\n"
     ]
    },
    {
     "name": "stderr",
     "output_type": "stream",
     "text": [
      "  0%|\u001b[34m          \u001b[0m| 0/10 [00:00<?, ?it/s]\n"
     ]
    },
    {
     "name": "stdout",
     "output_type": "stream",
     "text": [
      "\u001b[36m(launch_and_fit pid=12260)\u001b[0m \tTrain Epoch: 3 \tTrain_loss_mri: 0.0721 | Train_acc_mri: 97.5000 | Train_loss_dna: 0.4679 | Train_acc_dna: 84.7106 | Validation_loss_mri: 5.5658 | Validation_acc_mri: 66.1458 | Validation_loss_dna: 5.4175 | Validation_acc_dna: 12.5000\u001b[32m [repeated 4x across cluster]\u001b[0m\n"
     ]
    },
    {
     "name": "stderr",
     "output_type": "stream",
     "text": [
      " 30%|\u001b[34m███       \u001b[0m| 3/10 [00:12<00:28,  4.07s/it]\u001b[32m [repeated 4x across cluster]\u001b[0m\n"
     ]
    },
    {
     "name": "stdout",
     "output_type": "stream",
     "text": [
      "\u001b[36m(launch_and_fit pid=12260)\u001b[0m \tTrain Epoch: 5 \tTrain_loss_mri: 0.0194 | Train_acc_mri: 99.6875 | Train_loss_dna: 0.2078 | Train_acc_dna: 94.8264 | Validation_loss_mri: 8.0572 | Validation_acc_mri: 47.9167 | Validation_loss_dna: 4.8495 | Validation_acc_dna: 10.9375\u001b[32m [repeated 4x across cluster]\u001b[0m\n"
     ]
    },
    {
     "name": "stderr",
     "output_type": "stream",
     "text": [
      " 50%|\u001b[34m█████     \u001b[0m| 5/10 [00:20<00:20,  4.11s/it]\u001b[32m [repeated 4x across cluster]\u001b[0m\n"
     ]
    },
    {
     "name": "stdout",
     "output_type": "stream",
     "text": [
      "\u001b[36m(launch_and_fit pid=12260)\u001b[0m \tTrain Epoch: 7 \tTrain_loss_mri: 0.0181 | Train_acc_mri: 99.6296 | Train_loss_dna: 0.1343 | Train_acc_dna: 98.0671 | Validation_loss_mri: 6.9565 | Validation_acc_mri: 64.5833 | Validation_loss_dna: 5.3520 | Validation_acc_dna: 10.9375\u001b[32m [repeated 4x across cluster]\u001b[0m\n"
     ]
    },
    {
     "name": "stderr",
     "output_type": "stream",
     "text": [
      " 70%|\u001b[34m███████   \u001b[0m| 7/10 [00:28<00:12,  4.01s/it]\u001b[32m [repeated 4x across cluster]\u001b[0m\n"
     ]
    },
    {
     "name": "stdout",
     "output_type": "stream",
     "text": [
      "\u001b[36m(launch_and_fit pid=12260)\u001b[0m \tTrain Epoch: 9 \tTrain_loss_mri: 0.0097 | Train_acc_mri: 100.0000 | Train_loss_dna: 0.1160 | Train_acc_dna: 98.4375 | Validation_loss_mri: 8.6890 | Validation_acc_mri: 47.9167 | Validation_loss_dna: 5.4556 | Validation_acc_dna: 10.9375\u001b[32m [repeated 4x across cluster]\u001b[0m\n"
     ]
    },
    {
     "name": "stderr",
     "output_type": "stream",
     "text": [
      " 90%|\u001b[34m█████████ \u001b[0m| 9/10 [00:36<00:03,  3.95s/it]\u001b[32m [repeated 4x across cluster]\u001b[0m\n"
     ]
    },
    {
     "name": "stdout",
     "output_type": "stream",
     "text": [
      "\u001b[36m(launch_and_fit pid=12260)\u001b[0m save graph in  results/FL/\n",
      "\u001b[36m(launch_and_fit pid=12333)\u001b[0m Run WITHOUT homomorphic encryption\n",
      "\u001b[36m(launch_and_fit pid=12333)\u001b[0m  To get the checkpoint\n",
      "\u001b[36m(launch_and_fit pid=12258)\u001b[0m \tTrain Epoch: 10 \tTrain_loss_mri: 0.0035 | Train_acc_mri: 100.0000 | Train_loss_dna: 0.0923 | Train_acc_dna: 97.4421 | Validation_loss_mri: 1.9484 | Validation_acc_mri: 70.8333 | Validation_loss_dna: 5.3256 | Validation_acc_dna: 22.9167\u001b[32m [repeated 3x across cluster]\u001b[0m\n",
      "\u001b[36m(launch_and_fit pid=12258)\u001b[0m save graph in  results/FL/\n"
     ]
    },
    {
     "name": "stderr",
     "output_type": "stream",
     "text": [
      "  0%|\u001b[34m          \u001b[0m| 0/10 [00:00<?, ?it/s]\n",
      "100%|\u001b[34m██████████\u001b[0m| 10/10 [00:40<00:00,  4.02s/it]\u001b[32m [repeated 3x across cluster]\u001b[0m\n"
     ]
    },
    {
     "name": "stdout",
     "output_type": "stream",
     "text": [
      "\u001b[36m(launch_and_fit pid=12333)\u001b[0m [Client 2, round 17] fit, config: {'learning_rate': 0.003, 'batch_size': '32', 'server_round': 17, 'local_epochs': 10}\n",
      "\u001b[36m(launch_and_fit pid=12333)\u001b[0m Updated model\n",
      "\u001b[36m(launch_and_fit pid=12335)\u001b[0m Run WITHOUT homomorphic encryption\n",
      "\u001b[36m(launch_and_fit pid=12335)\u001b[0m  To get the checkpoint\n",
      "\u001b[36m(launch_and_fit pid=12335)\u001b[0m \tTrain Epoch: 1 \tTrain_loss_mri: 0.0690 | Train_acc_mri: 98.0671 | Train_loss_dna: 1.0646 | Train_acc_dna: 60.8681 | Validation_loss_mri: 0.3609 | Validation_acc_mri: 93.7500 | Validation_loss_dna: 4.5360 | Validation_acc_dna: 29.1667\u001b[32m [repeated 2x across cluster]\u001b[0m\n"
     ]
    },
    {
     "name": "stderr",
     "output_type": "stream",
     "text": [
      "  0%|\u001b[34m          \u001b[0m| 0/10 [00:00<?, ?it/s]\n",
      " 20%|\u001b[34m██        \u001b[0m| 2/10 [00:08<00:33,  4.17s/it]\u001b[32m [repeated 3x across cluster]\u001b[0m\n"
     ]
    },
    {
     "name": "stdout",
     "output_type": "stream",
     "text": [
      "\u001b[36m(launch_and_fit pid=12335)\u001b[0m [Client 8, round 17] fit, config: {'learning_rate': 0.003, 'batch_size': '32', 'server_round': 17, 'local_epochs': 10}\n",
      "\u001b[36m(launch_and_fit pid=12335)\u001b[0m Updated model\n",
      "\u001b[36m(launch_and_fit pid=12333)\u001b[0m \tTrain Epoch: 3 \tTrain_loss_mri: 0.0626 | Train_acc_mri: 98.6921 | Train_loss_dna: 0.2775 | Train_acc_dna: 92.8125 | Validation_loss_mri: 0.6223 | Validation_acc_mri: 87.5000 | Validation_loss_dna: 3.9504 | Validation_acc_dna: 6.2500\u001b[32m [repeated 3x across cluster]\u001b[0m\n"
     ]
    },
    {
     "name": "stderr",
     "output_type": "stream",
     "text": [
      " 40%|\u001b[34m████      \u001b[0m| 4/10 [00:16<00:23,  3.99s/it]\u001b[32m [repeated 4x across cluster]\u001b[0m\n"
     ]
    },
    {
     "name": "stdout",
     "output_type": "stream",
     "text": [
      "\u001b[36m(launch_and_fit pid=12333)\u001b[0m \tTrain Epoch: 5 \tTrain_loss_mri: 0.0308 | Train_acc_mri: 99.0046 | Train_loss_dna: 0.1842 | Train_acc_dna: 94.2014 | Validation_loss_mri: 0.4936 | Validation_acc_mri: 92.1875 | Validation_loss_dna: 3.6200 | Validation_acc_dna: 21.3542\u001b[32m [repeated 4x across cluster]\u001b[0m\n"
     ]
    },
    {
     "name": "stderr",
     "output_type": "stream",
     "text": [
      " 60%|\u001b[34m██████    \u001b[0m| 6/10 [00:23<00:15,  3.91s/it]\u001b[32m [repeated 4x across cluster]\u001b[0m\n"
     ]
    },
    {
     "name": "stdout",
     "output_type": "stream",
     "text": [
      "\u001b[36m(launch_and_fit pid=12333)\u001b[0m \tTrain Epoch: 7 \tTrain_loss_mri: 0.0275 | Train_acc_mri: 99.6875 | Train_loss_dna: 0.1172 | Train_acc_dna: 97.6968 | Validation_loss_mri: 0.5706 | Validation_acc_mri: 92.1875 | Validation_loss_dna: 4.2073 | Validation_acc_dna: 4.6875\u001b[32m [repeated 4x across cluster]\u001b[0m\n"
     ]
    },
    {
     "name": "stderr",
     "output_type": "stream",
     "text": [
      " 80%|\u001b[34m████████  \u001b[0m| 8/10 [00:32<00:08,  4.04s/it]\u001b[32m [repeated 4x across cluster]\u001b[0m\n"
     ]
    },
    {
     "name": "stdout",
     "output_type": "stream",
     "text": [
      "\u001b[36m(launch_and_fit pid=12333)\u001b[0m \tTrain Epoch: 9 \tTrain_loss_mri: 0.0488 | Train_acc_mri: 99.0625 | Train_loss_dna: 0.0774 | Train_acc_dna: 99.0625 | Validation_loss_mri: 0.6989 | Validation_acc_mri: 77.0833 | Validation_loss_dna: 3.6709 | Validation_acc_dna: 6.2500\u001b[32m [repeated 4x across cluster]\u001b[0m\n"
     ]
    },
    {
     "name": "stderr",
     "output_type": "stream",
     "text": [
      "100%|\u001b[34m██████████\u001b[0m| 10/10 [00:40<00:00,  4.00s/it]\u001b[32m [repeated 4x across cluster]\u001b[0m\n"
     ]
    },
    {
     "name": "stdout",
     "output_type": "stream",
     "text": [
      "\u001b[36m(launch_and_fit pid=12333)\u001b[0m save graph in  results/FL/\n",
      "\u001b[36m(launch_and_fit pid=12407)\u001b[0m Run WITHOUT homomorphic encryption\n",
      "\u001b[36m(launch_and_fit pid=12407)\u001b[0m  To get the checkpoint\n",
      "\u001b[36m(launch_and_fit pid=12335)\u001b[0m \tTrain Epoch: 10 \tTrain_loss_mri: 0.0041 | Train_acc_mri: 100.0000 | Train_loss_dna: 0.0798 | Train_acc_dna: 97.3843 | Validation_loss_mri: 0.9861 | Validation_acc_mri: 77.0833 | Validation_loss_dna: 5.4102 | Validation_acc_dna: 33.8542\u001b[32m [repeated 3x across cluster]\u001b[0m\n",
      "\u001b[36m(launch_and_fit pid=12335)\u001b[0m save graph in  results/FL/\n",
      "\u001b[36m(launch_and_fit pid=12407)\u001b[0m [Client 7, round 17] fit, config: {'learning_rate': 0.003, 'batch_size': '32', 'server_round': 17, 'local_epochs': 10}\n",
      "\u001b[36m(launch_and_fit pid=12407)\u001b[0m Updated model\n"
     ]
    },
    {
     "name": "stderr",
     "output_type": "stream",
     "text": [
      "  0%|\u001b[34m          \u001b[0m| 0/10 [00:00<?, ?it/s]\n",
      "100%|\u001b[34m██████████\u001b[0m| 10/10 [00:40<00:00,  4.05s/it]\n",
      " 10%|\u001b[34m█         \u001b[0m| 1/10 [00:04<00:40,  4.49s/it]\n",
      "  0%|\u001b[34m          \u001b[0m| 0/10 [00:00<?, ?it/s]\n"
     ]
    },
    {
     "name": "stdout",
     "output_type": "stream",
     "text": [
      "\u001b[36m(launch_and_fit pid=12432)\u001b[0m Run WITHOUT homomorphic encryption\n",
      "\u001b[36m(launch_and_fit pid=12432)\u001b[0m  To get the checkpoint\n",
      "\u001b[36m(launch_and_fit pid=12432)\u001b[0m \tTrain Epoch: 1 \tTrain_loss_mri: 0.1613 | Train_acc_mri: 93.6921 | Train_loss_dna: 1.1039 | Train_acc_dna: 64.9074 | Validation_loss_mri: 1.4281 | Validation_acc_mri: 82.8125 | Validation_loss_dna: 3.1591 | Validation_acc_dna: 32.2917\u001b[32m [repeated 2x across cluster]\u001b[0m\n",
      "\u001b[36m(launch_and_fit pid=12432)\u001b[0m [Client 4, round 17] fit, config: {'learning_rate': 0.003, 'batch_size': '32', 'server_round': 17, 'local_epochs': 10}\n",
      "\u001b[36m(launch_and_fit pid=12432)\u001b[0m Updated model\n"
     ]
    },
    {
     "name": "stderr",
     "output_type": "stream",
     "text": [
      " 30%|\u001b[34m███       \u001b[0m| 3/10 [00:12<00:29,  4.27s/it]\u001b[32m [repeated 4x across cluster]\u001b[0m\n"
     ]
    },
    {
     "name": "stdout",
     "output_type": "stream",
     "text": [
      "\u001b[36m(launch_and_fit pid=12407)\u001b[0m \tTrain Epoch: 3 \tTrain_loss_mri: 0.0551 | Train_acc_mri: 97.7546 | Train_loss_dna: 0.3426 | Train_acc_dna: 88.0671 | Validation_loss_mri: 0.4239 | Validation_acc_mri: 92.1875 | Validation_loss_dna: 4.8663 | Validation_acc_dna: 9.3750\u001b[32m [repeated 3x across cluster]\u001b[0m\n"
     ]
    },
    {
     "name": "stderr",
     "output_type": "stream",
     "text": [
      " 50%|\u001b[34m█████     \u001b[0m| 5/10 [00:20<00:20,  4.13s/it]\u001b[32m [repeated 4x across cluster]\u001b[0m\n"
     ]
    },
    {
     "name": "stdout",
     "output_type": "stream",
     "text": [
      "\u001b[36m(launch_and_fit pid=12407)\u001b[0m \tTrain Epoch: 5 \tTrain_loss_mri: 0.0417 | Train_acc_mri: 98.7500 | Train_loss_dna: 0.1217 | Train_acc_dna: 98.0671 | Validation_loss_mri: 0.3359 | Validation_acc_mri: 95.3125 | Validation_loss_dna: 4.9837 | Validation_acc_dna: 10.9375\u001b[32m [repeated 4x across cluster]\u001b[0m\n"
     ]
    },
    {
     "name": "stderr",
     "output_type": "stream",
     "text": [
      " 70%|\u001b[34m███████   \u001b[0m| 7/10 [00:28<00:11,  3.94s/it]\u001b[32m [repeated 4x across cluster]\u001b[0m\n"
     ]
    },
    {
     "name": "stdout",
     "output_type": "stream",
     "text": [
      "\u001b[36m(launch_and_fit pid=12432)\u001b[0m \tTrain Epoch: 7 \tTrain_loss_mri: 0.0049 | Train_acc_mri: 100.0000 | Train_loss_dna: 0.1749 | Train_acc_dna: 96.8171 | Validation_loss_mri: 1.7737 | Validation_acc_mri: 84.3750 | Validation_loss_dna: 3.2304 | Validation_acc_dna: 24.4792\u001b[32m [repeated 4x across cluster]\u001b[0m\n"
     ]
    },
    {
     "name": "stderr",
     "output_type": "stream",
     "text": [
      " 90%|\u001b[34m█████████ \u001b[0m| 9/10 [00:35<00:03,  3.91s/it]\u001b[32m [repeated 4x across cluster]\u001b[0m\n"
     ]
    },
    {
     "name": "stdout",
     "output_type": "stream",
     "text": [
      "\u001b[36m(launch_and_fit pid=12432)\u001b[0m \tTrain Epoch: 9 \tTrain_loss_mri: 0.0063 | Train_acc_mri: 100.0000 | Train_loss_dna: 0.1040 | Train_acc_dna: 98.3796 | Validation_loss_mri: 1.8997 | Validation_acc_mri: 84.3750 | Validation_loss_dna: 3.8051 | Validation_acc_dna: 24.4792\u001b[32m [repeated 4x across cluster]\u001b[0m\n",
      "\u001b[36m(launch_and_fit pid=12432)\u001b[0m save graph in  results/FL/\n",
      "\u001b[36m(launch_and_fit pid=12481)\u001b[0m Run WITHOUT homomorphic encryption\n",
      "\u001b[36m(launch_and_fit pid=12481)\u001b[0m  To get the checkpoint\n",
      "\u001b[36m(launch_and_fit pid=12407)\u001b[0m \tTrain Epoch: 10 \tTrain_loss_mri: 0.0105 | Train_acc_mri: 99.6875 | Train_loss_dna: 0.0999 | Train_acc_dna: 97.7546 | Validation_loss_mri: 0.4010 | Validation_acc_mri: 92.1875 | Validation_loss_dna: 6.1613 | Validation_acc_dna: 3.1250\u001b[32m [repeated 3x across cluster]\u001b[0m\n",
      "\u001b[36m(launch_and_fit pid=12407)\u001b[0m save graph in  results/FL/\n"
     ]
    },
    {
     "name": "stderr",
     "output_type": "stream",
     "text": [
      "  0%|\u001b[34m          \u001b[0m| 0/10 [00:00<?, ?it/s]\n",
      "100%|\u001b[34m██████████\u001b[0m| 10/10 [00:40<00:00,  4.07s/it]\u001b[32m [repeated 3x across cluster]\u001b[0m\n"
     ]
    },
    {
     "name": "stdout",
     "output_type": "stream",
     "text": [
      "\u001b[36m(launch_and_fit pid=12481)\u001b[0m [Client 9, round 17] fit, config: {'learning_rate': 0.003, 'batch_size': '32', 'server_round': 17, 'local_epochs': 10}\n",
      "\u001b[36m(launch_and_fit pid=12481)\u001b[0m Updated model\n"
     ]
    },
    {
     "name": "stderr",
     "output_type": "stream",
     "text": [
      "  0%|\u001b[34m          \u001b[0m| 0/10 [00:00<?, ?it/s]\n",
      " 10%|\u001b[34m█         \u001b[0m| 1/10 [00:04<00:39,  4.40s/it]\u001b[32m [repeated 2x across cluster]\u001b[0m\n"
     ]
    },
    {
     "name": "stdout",
     "output_type": "stream",
     "text": [
      "\u001b[36m(launch_and_fit pid=12506)\u001b[0m Run WITHOUT homomorphic encryption\n",
      "\u001b[36m(launch_and_fit pid=12506)\u001b[0m  To get the checkpoint\n",
      "\u001b[36m(launch_and_fit pid=12506)\u001b[0m \tTrain Epoch: 1 \tTrain_loss_mri: 0.0555 | Train_acc_mri: 97.0718 | Train_loss_dna: 1.1616 | Train_acc_dna: 61.9792 | Validation_loss_mri: 0.3634 | Validation_acc_mri: 93.7500 | Validation_loss_dna: 2.7332 | Validation_acc_dna: 39.5833\u001b[32m [repeated 2x across cluster]\u001b[0m\n",
      "\u001b[36m(launch_and_fit pid=12506)\u001b[0m [Client 0, round 17] fit, config: {'learning_rate': 0.003, 'batch_size': '32', 'server_round': 17, 'local_epochs': 10}\n",
      "\u001b[36m(launch_and_fit pid=12506)\u001b[0m Updated model\n"
     ]
    },
    {
     "name": "stderr",
     "output_type": "stream",
     "text": [
      " 30%|\u001b[34m███       \u001b[0m| 3/10 [00:12<00:27,  3.97s/it]\u001b[32m [repeated 3x across cluster]\u001b[0m\n"
     ]
    },
    {
     "name": "stdout",
     "output_type": "stream",
     "text": [
      "\u001b[36m(launch_and_fit pid=12481)\u001b[0m \tTrain Epoch: 3 \tTrain_loss_mri: 0.0320 | Train_acc_mri: 98.7500 | Train_loss_dna: 0.3892 | Train_acc_dna: 86.8448 | Validation_loss_mri: 0.5408 | Validation_acc_mri: 89.0625 | Validation_loss_dna: 4.0352 | Validation_acc_dna: 10.9375\u001b[32m [repeated 3x across cluster]\u001b[0m\n"
     ]
    },
    {
     "name": "stderr",
     "output_type": "stream",
     "text": [
      " 50%|\u001b[34m█████     \u001b[0m| 5/10 [00:19<00:19,  3.90s/it]\u001b[32m [repeated 4x across cluster]\u001b[0m\n"
     ]
    },
    {
     "name": "stdout",
     "output_type": "stream",
     "text": [
      "\u001b[36m(launch_and_fit pid=12481)\u001b[0m \tTrain Epoch: 5 \tTrain_loss_mri: 0.0230 | Train_acc_mri: 99.6875 | Train_loss_dna: 0.1624 | Train_acc_dna: 97.7823 | Validation_loss_mri: 0.6137 | Validation_acc_mri: 85.9375 | Validation_loss_dna: 4.1180 | Validation_acc_dna: 7.8125\u001b[32m [repeated 4x across cluster]\u001b[0m\n"
     ]
    },
    {
     "name": "stderr",
     "output_type": "stream",
     "text": [
      " 70%|\u001b[34m███████   \u001b[0m| 7/10 [00:27<00:11,  3.96s/it]\u001b[32m [repeated 4x across cluster]\u001b[0m\n"
     ]
    },
    {
     "name": "stdout",
     "output_type": "stream",
     "text": [
      "\u001b[36m(launch_and_fit pid=12481)\u001b[0m \tTrain Epoch: 7 \tTrain_loss_mri: 0.0071 | Train_acc_mri: 100.0000 | Train_loss_dna: 0.0845 | Train_acc_dna: 98.4375 | Validation_loss_mri: 0.7736 | Validation_acc_mri: 84.3750 | Validation_loss_dna: 4.6854 | Validation_acc_dna: 12.5000\u001b[32m [repeated 4x across cluster]\u001b[0m\n"
     ]
    },
    {
     "name": "stderr",
     "output_type": "stream",
     "text": [
      " 90%|\u001b[34m█████████ \u001b[0m| 9/10 [00:35<00:03,  3.94s/it]\u001b[32m [repeated 4x across cluster]\u001b[0m\n"
     ]
    },
    {
     "name": "stdout",
     "output_type": "stream",
     "text": [
      "\u001b[36m(launch_and_fit pid=12481)\u001b[0m \tTrain Epoch: 9 \tTrain_loss_mri: 0.0058 | Train_acc_mri: 99.6875 | Train_loss_dna: 0.0584 | Train_acc_dna: 99.3750 | Validation_loss_mri: 0.7023 | Validation_acc_mri: 84.3750 | Validation_loss_dna: 4.9470 | Validation_acc_dna: 9.3750\u001b[32m [repeated 4x across cluster]\u001b[0m\n",
      "\u001b[36m(launch_and_fit pid=12481)\u001b[0m save graph in  results/FL/\n",
      "\u001b[36m(launch_and_fit pid=12556)\u001b[0m Run WITHOUT homomorphic encryption\n",
      "\u001b[36m(launch_and_fit pid=12556)\u001b[0m  To get the checkpoint\n",
      "\u001b[36m(launch_and_fit pid=12506)\u001b[0m \tTrain Epoch: 10 \tTrain_loss_mri: 0.0031 | Train_acc_mri: 100.0000 | Train_loss_dna: 0.0552 | Train_acc_dna: 98.7500 | Validation_loss_mri: 1.3232 | Validation_acc_mri: 72.3958 | Validation_loss_dna: 3.6944 | Validation_acc_dna: 12.5000\u001b[32m [repeated 3x across cluster]\u001b[0m\n",
      "\u001b[36m(launch_and_fit pid=12506)\u001b[0m save graph in  results/FL/\n"
     ]
    },
    {
     "name": "stderr",
     "output_type": "stream",
     "text": [
      "  0%|\u001b[34m          \u001b[0m| 0/10 [00:00<?, ?it/s]\n",
      "100%|\u001b[34m██████████\u001b[0m| 10/10 [00:39<00:00,  3.93s/it]\u001b[32m [repeated 3x across cluster]\u001b[0m\n"
     ]
    },
    {
     "name": "stdout",
     "output_type": "stream",
     "text": [
      "\u001b[36m(launch_and_fit pid=12556)\u001b[0m [Client 5, round 17] fit, config: {'learning_rate': 0.003, 'batch_size': '32', 'server_round': 17, 'local_epochs': 10}\n",
      "\u001b[36m(launch_and_fit pid=12556)\u001b[0m Updated model\n",
      "\u001b[36m(launch_and_fit pid=12558)\u001b[0m Run WITHOUT homomorphic encryption\n",
      "\u001b[36m(launch_and_fit pid=12558)\u001b[0m  To get the checkpoint\n",
      "\u001b[36m(launch_and_fit pid=12556)\u001b[0m \tTrain Epoch: 1 \tTrain_loss_mri: 0.0787 | Train_acc_mri: 97.1296 | Train_loss_dna: 1.0515 | Train_acc_dna: 64.2824 | Validation_loss_mri: 3.0663 | Validation_acc_mri: 58.8542 | Validation_loss_dna: 7.4557 | Validation_acc_dna: 7.8125\n",
      "\u001b[36m(launch_and_fit pid=12558)\u001b[0m \tTrain Epoch: 1 \tTrain_loss_mri: 0.0633 | Train_acc_mri: 97.5000 | Train_loss_dna: 0.8849 | Train_acc_dna: 66.5278 | Validation_loss_mri: 0.7986 | Validation_acc_mri: 85.9375 | Validation_loss_dna: 8.0994 | Validation_acc_dna: 12.5000\n"
     ]
    },
    {
     "name": "stderr",
     "output_type": "stream",
     "text": [
      "  0%|\u001b[34m          \u001b[0m| 0/10 [00:00<?, ?it/s]\n",
      " 20%|\u001b[34m██        \u001b[0m| 2/10 [00:08<00:34,  4.26s/it]\u001b[32m [repeated 3x across cluster]\u001b[0m\n"
     ]
    },
    {
     "name": "stdout",
     "output_type": "stream",
     "text": [
      "\u001b[36m(launch_and_fit pid=12558)\u001b[0m [Client 3, round 17] fit, config: {'learning_rate': 0.003, 'batch_size': '32', 'server_round': 17, 'local_epochs': 10}\n",
      "\u001b[36m(launch_and_fit pid=12558)\u001b[0m Updated model\n",
      "\u001b[36m(launch_and_fit pid=12556)\u001b[0m \tTrain Epoch: 3 \tTrain_loss_mri: 0.1266 | Train_acc_mri: 94.6296 | Train_loss_dna: 0.4497 | Train_acc_dna: 84.8264 | Validation_loss_mri: 4.5971 | Validation_acc_mri: 57.2917 | Validation_loss_dna: 5.3134 | Validation_acc_dna: 7.8125\u001b[32m [repeated 3x across cluster]\u001b[0m\n"
     ]
    },
    {
     "name": "stderr",
     "output_type": "stream",
     "text": [
      " 40%|\u001b[34m████      \u001b[0m| 4/10 [00:16<00:24,  4.02s/it]\u001b[32m [repeated 4x across cluster]\u001b[0m\n"
     ]
    },
    {
     "name": "stdout",
     "output_type": "stream",
     "text": [
      "\u001b[36m(launch_and_fit pid=12556)\u001b[0m \tTrain Epoch: 5 \tTrain_loss_mri: 0.0682 | Train_acc_mri: 98.7500 | Train_loss_dna: 0.1820 | Train_acc_dna: 95.8796 | Validation_loss_mri: 4.0841 | Validation_acc_mri: 55.7292 | Validation_loss_dna: 6.1233 | Validation_acc_dna: 7.8125\u001b[32m [repeated 4x across cluster]\u001b[0m\n"
     ]
    },
    {
     "name": "stderr",
     "output_type": "stream",
     "text": [
      " 60%|\u001b[34m██████    \u001b[0m| 6/10 [00:24<00:15,  3.94s/it]\u001b[32m [repeated 4x across cluster]\u001b[0m\n"
     ]
    },
    {
     "name": "stdout",
     "output_type": "stream",
     "text": [
      "\u001b[36m(launch_and_fit pid=12556)\u001b[0m \tTrain Epoch: 7 \tTrain_loss_mri: 0.0073 | Train_acc_mri: 100.0000 | Train_loss_dna: 0.0918 | Train_acc_dna: 98.6921 | Validation_loss_mri: 4.1506 | Validation_acc_mri: 57.2917 | Validation_loss_dna: 6.8122 | Validation_acc_dna: 6.2500\u001b[32m [repeated 4x across cluster]\u001b[0m\n"
     ]
    },
    {
     "name": "stderr",
     "output_type": "stream",
     "text": [
      " 80%|\u001b[34m████████  \u001b[0m| 8/10 [00:31<00:07,  3.90s/it]\u001b[32m [repeated 4x across cluster]\u001b[0m\n"
     ]
    },
    {
     "name": "stdout",
     "output_type": "stream",
     "text": [
      "\u001b[36m(launch_and_fit pid=12556)\u001b[0m \tTrain Epoch: 9 \tTrain_loss_mri: 0.0058 | Train_acc_mri: 100.0000 | Train_loss_dna: 0.0605 | Train_acc_dna: 98.6921 | Validation_loss_mri: 3.9425 | Validation_acc_mri: 57.2917 | Validation_loss_dna: 7.1152 | Validation_acc_dna: 4.6875\u001b[32m [repeated 4x across cluster]\u001b[0m\n"
     ]
    },
    {
     "name": "stderr",
     "output_type": "stream",
     "text": [
      "100%|\u001b[34m██████████\u001b[0m| 10/10 [00:39<00:00,  3.99s/it]\u001b[32m [repeated 4x across cluster]\u001b[0m\n"
     ]
    },
    {
     "name": "stdout",
     "output_type": "stream",
     "text": [
      "\u001b[36m(launch_and_fit pid=12556)\u001b[0m save graph in  results/FL/\n"
     ]
    },
    {
     "name": "stderr",
     "output_type": "stream",
     "text": [
      "DEBUG flwr 2024-08-05 12:34:04,318 | server.py:236 | fit_round 17 received 10 results and 0 failures\n"
     ]
    },
    {
     "name": "stdout",
     "output_type": "stream",
     "text": [
      "Saving round 17 aggregated_parameters...\n",
      "Updated model\n"
     ]
    },
    {
     "name": "stderr",
     "output_type": "stream",
     "text": [
      "INFO flwr 2024-08-05 12:34:10,532 | server.py:125 | fit progress: (17, (1.3320567038442408, 4.579477625233786), {'accuracy': (80.84077380952381, 15.401785714285715)}, 5709.668002988)\n",
      "DEBUG flwr 2024-08-05 12:34:10,533 | server.py:173 | evaluate_round 17: strategy sampled 10 clients (out of 10)\n"
     ]
    },
    {
     "name": "stdout",
     "output_type": "stream",
     "text": [
      "Server-side evaluation MRI loss 1.3320567038442408 / MRI accuracy 80.84077380952381\n",
      "Server-side evaluation DNA loss 4.579477625233786 / DNA accuracy 15.401785714285715\n",
      "\u001b[36m(launch_and_evaluate pid=12640)\u001b[0m Run WITHOUT homomorphic encryption\n",
      "\u001b[36m(launch_and_evaluate pid=12640)\u001b[0m  To get the checkpoint\n",
      "\u001b[36m(launch_and_fit pid=12558)\u001b[0m \tTrain Epoch: 10 \tTrain_loss_mri: 0.0021 | Train_acc_mri: 100.0000 | Train_loss_dna: 0.0422 | Train_acc_dna: 99.3750 | Validation_loss_mri: 1.0798 | Validation_acc_mri: 85.9375 | Validation_loss_dna: 11.2292 | Validation_acc_dna: 9.3750\u001b[32m [repeated 3x across cluster]\u001b[0m\n",
      "\u001b[36m(launch_and_fit pid=12558)\u001b[0m save graph in  results/FL/\n",
      "\u001b[36m(launch_and_evaluate pid=12640)\u001b[0m [Client 4] evaluate, config: {}\n",
      "\u001b[36m(launch_and_evaluate pid=12640)\u001b[0m Updated model\n"
     ]
    },
    {
     "name": "stderr",
     "output_type": "stream",
     "text": [
      "\u001b[36m(launch_and_evaluate pid=12640)\u001b[0m /opt/conda/lib/python3.10/site-packages/sklearn/metrics/_ranking.py:1029: UndefinedMetricWarning: No positive samples in y_true, true positive value should be meaningless\n",
      "\u001b[36m(launch_and_evaluate pid=12640)\u001b[0m   warnings.warn(\n",
      "100%|\u001b[34m██████████\u001b[0m| 10/10 [00:40<00:00,  4.05s/it]\n"
     ]
    },
    {
     "name": "stdout",
     "output_type": "stream",
     "text": [
      "\u001b[36m(launch_and_evaluate pid=12712)\u001b[0m Run WITHOUT homomorphic encryption\u001b[32m [repeated 2x across cluster]\u001b[0m\n",
      "\u001b[36m(launch_and_evaluate pid=12712)\u001b[0m  To get the checkpoint\u001b[32m [repeated 2x across cluster]\u001b[0m\n",
      "\u001b[36m(launch_and_evaluate pid=12639)\u001b[0m [Client 7] evaluate, config: {}\n",
      "\u001b[36m(launch_and_evaluate pid=12639)\u001b[0m Updated model\n",
      "\u001b[36m(launch_and_evaluate pid=12712)\u001b[0m [Client 2] evaluate, config: {}\n",
      "\u001b[36m(launch_and_evaluate pid=12712)\u001b[0m Updated model\n",
      "\u001b[36m(launch_and_evaluate pid=12780)\u001b[0m Run WITHOUT homomorphic encryption\u001b[32m [repeated 2x across cluster]\u001b[0m\n",
      "\u001b[36m(launch_and_evaluate pid=12780)\u001b[0m  To get the checkpoint\u001b[32m [repeated 2x across cluster]\u001b[0m\n",
      "\u001b[36m(launch_and_evaluate pid=12710)\u001b[0m [Client 5] evaluate, config: {}\n",
      "\u001b[36m(launch_and_evaluate pid=12710)\u001b[0m Updated model\n",
      "\u001b[36m(launch_and_evaluate pid=12780)\u001b[0m [Client 8] evaluate, config: {}\n",
      "\u001b[36m(launch_and_evaluate pid=12780)\u001b[0m Updated model\n"
     ]
    },
    {
     "name": "stderr",
     "output_type": "stream",
     "text": [
      "\u001b[36m(launch_and_evaluate pid=12780)\u001b[0m /opt/conda/lib/python3.10/site-packages/sklearn/metrics/_ranking.py:1029: UndefinedMetricWarning: No positive samples in y_true, true positive value should be meaningless\n",
      "\u001b[36m(launch_and_evaluate pid=12780)\u001b[0m   warnings.warn(\n"
     ]
    },
    {
     "name": "stdout",
     "output_type": "stream",
     "text": [
      "\u001b[36m(launch_and_evaluate pid=12850)\u001b[0m Run WITHOUT homomorphic encryption\u001b[32m [repeated 2x across cluster]\u001b[0m\n",
      "\u001b[36m(launch_and_evaluate pid=12850)\u001b[0m  To get the checkpoint\u001b[32m [repeated 2x across cluster]\u001b[0m\n",
      "\u001b[36m(launch_and_evaluate pid=12782)\u001b[0m [Client 1] evaluate, config: {}\n",
      "\u001b[36m(launch_and_evaluate pid=12782)\u001b[0m Updated model\n",
      "\u001b[36m(launch_and_evaluate pid=12850)\u001b[0m [Client 0] evaluate, config: {}\n",
      "\u001b[36m(launch_and_evaluate pid=12850)\u001b[0m Updated model\n",
      "\u001b[36m(launch_and_evaluate pid=12920)\u001b[0m Run WITHOUT homomorphic encryption\u001b[32m [repeated 2x across cluster]\u001b[0m\n",
      "\u001b[36m(launch_and_evaluate pid=12920)\u001b[0m  To get the checkpoint\u001b[32m [repeated 2x across cluster]\u001b[0m\n",
      "\u001b[36m(launch_and_evaluate pid=12852)\u001b[0m [Client 6] evaluate, config: {}\n",
      "\u001b[36m(launch_and_evaluate pid=12852)\u001b[0m Updated model\n",
      "\u001b[36m(launch_and_evaluate pid=12920)\u001b[0m [Client 9] evaluate, config: {}\n",
      "\u001b[36m(launch_and_evaluate pid=12920)\u001b[0m Updated model\n"
     ]
    },
    {
     "name": "stderr",
     "output_type": "stream",
     "text": [
      "\u001b[36m(launch_and_evaluate pid=12920)\u001b[0m /opt/conda/lib/python3.10/site-packages/sklearn/metrics/_ranking.py:1029: UndefinedMetricWarning: No positive samples in y_true, true positive value should be meaningless\n",
      "\u001b[36m(launch_and_evaluate pid=12920)\u001b[0m   warnings.warn(\n",
      "DEBUG flwr 2024-08-05 12:35:18,111 | server.py:187 | evaluate_round 17 received 10 results and 0 failures\n",
      "DEBUG flwr 2024-08-05 12:35:18,112 | server.py:222 | fit_round 18: strategy sampled 10 clients (out of 10)\n"
     ]
    },
    {
     "name": "stdout",
     "output_type": "stream",
     "text": [
      "\u001b[36m(launch_and_fit pid=13000)\u001b[0m Run WITHOUT homomorphic encryption\u001b[32m [repeated 2x across cluster]\u001b[0m\n",
      "\u001b[36m(launch_and_fit pid=13000)\u001b[0m  To get the checkpoint\u001b[32m [repeated 2x across cluster]\u001b[0m\n",
      "\u001b[36m(launch_and_evaluate pid=12922)\u001b[0m [Client 3] evaluate, config: {}\n",
      "\u001b[36m(launch_and_evaluate pid=12922)\u001b[0m Updated model\n",
      "\u001b[36m(launch_and_fit pid=13000)\u001b[0m [Client 5, round 18] fit, config: {'learning_rate': 0.003, 'batch_size': '32', 'server_round': 18, 'local_epochs': 10}\n",
      "\u001b[36m(launch_and_fit pid=13000)\u001b[0m Updated model\n"
     ]
    },
    {
     "name": "stderr",
     "output_type": "stream",
     "text": [
      "  0%|\u001b[34m          \u001b[0m| 0/10 [00:00<?, ?it/s]\n"
     ]
    },
    {
     "name": "stdout",
     "output_type": "stream",
     "text": [
      "\u001b[36m(launch_and_fit pid=13000)\u001b[0m \tTrain Epoch: 1 \tTrain_loss_mri: 0.0482 | Train_acc_mri: 98.3796 | Train_loss_dna: 1.0825 | Train_acc_dna: 64.5370 | Validation_loss_mri: 2.6083 | Validation_acc_mri: 57.2917 | Validation_loss_dna: 6.7159 | Validation_acc_dna: 10.9375\n",
      "\u001b[36m(launch_and_fit pid=12999)\u001b[0m Run WITHOUT homomorphic encryption\n",
      "\u001b[36m(launch_and_fit pid=12999)\u001b[0m  To get the checkpoint\n"
     ]
    },
    {
     "name": "stderr",
     "output_type": "stream",
     "text": [
      " 10%|\u001b[34m█         \u001b[0m| 1/10 [00:04<00:43,  4.80s/it]\n",
      "  0%|\u001b[34m          \u001b[0m| 0/10 [00:00<?, ?it/s]\n"
     ]
    },
    {
     "name": "stdout",
     "output_type": "stream",
     "text": [
      "\u001b[36m(launch_and_fit pid=12999)\u001b[0m [Client 2, round 18] fit, config: {'learning_rate': 0.003, 'batch_size': '32', 'server_round': 18, 'local_epochs': 10}\n",
      "\u001b[36m(launch_and_fit pid=12999)\u001b[0m Updated model\n",
      "\u001b[36m(launch_and_fit pid=13000)\u001b[0m \tTrain Epoch: 3 \tTrain_loss_mri: 0.0387 | Train_acc_mri: 98.3218 | Train_loss_dna: 0.3214 | Train_acc_dna: 90.9375 | Validation_loss_mri: 2.6961 | Validation_acc_mri: 57.2917 | Validation_loss_dna: 5.9392 | Validation_acc_dna: 10.9375\u001b[32m [repeated 4x across cluster]\u001b[0m\n"
     ]
    },
    {
     "name": "stderr",
     "output_type": "stream",
     "text": [
      " 30%|\u001b[34m███       \u001b[0m| 3/10 [00:12<00:28,  4.14s/it]\u001b[32m [repeated 4x across cluster]\u001b[0m\n"
     ]
    },
    {
     "name": "stdout",
     "output_type": "stream",
     "text": [
      "\u001b[36m(launch_and_fit pid=13000)\u001b[0m \tTrain Epoch: 5 \tTrain_loss_mri: 0.0216 | Train_acc_mri: 99.3750 | Train_loss_dna: 0.1424 | Train_acc_dna: 97.4421 | Validation_loss_mri: 4.7692 | Validation_acc_mri: 54.1667 | Validation_loss_dna: 5.9868 | Validation_acc_dna: 12.5000\u001b[32m [repeated 4x across cluster]\u001b[0m\n"
     ]
    },
    {
     "name": "stderr",
     "output_type": "stream",
     "text": [
      " 50%|\u001b[34m█████     \u001b[0m| 5/10 [00:20<00:20,  4.02s/it]\u001b[32m [repeated 4x across cluster]\u001b[0m\n"
     ]
    },
    {
     "name": "stdout",
     "output_type": "stream",
     "text": [
      "\u001b[36m(launch_and_fit pid=13000)\u001b[0m \tTrain Epoch: 7 \tTrain_loss_mri: 0.0040 | Train_acc_mri: 100.0000 | Train_loss_dna: 0.0704 | Train_acc_dna: 99.0625 | Validation_loss_mri: 3.1599 | Validation_acc_mri: 55.7292 | Validation_loss_dna: 6.6723 | Validation_acc_dna: 9.3750\u001b[32m [repeated 4x across cluster]\u001b[0m\n"
     ]
    },
    {
     "name": "stderr",
     "output_type": "stream",
     "text": [
      " 70%|\u001b[34m███████   \u001b[0m| 7/10 [00:28<00:11,  3.97s/it]\u001b[32m [repeated 4x across cluster]\u001b[0m\n"
     ]
    },
    {
     "name": "stdout",
     "output_type": "stream",
     "text": [
      "\u001b[36m(launch_and_fit pid=13000)\u001b[0m \tTrain Epoch: 9 \tTrain_loss_mri: 0.0035 | Train_acc_mri: 100.0000 | Train_loss_dna: 0.0638 | Train_acc_dna: 99.0046 | Validation_loss_mri: 3.5571 | Validation_acc_mri: 55.7292 | Validation_loss_dna: 7.0202 | Validation_acc_dna: 12.5000\u001b[32m [repeated 4x across cluster]\u001b[0m\n"
     ]
    },
    {
     "name": "stderr",
     "output_type": "stream",
     "text": [
      " 90%|\u001b[34m█████████ \u001b[0m| 9/10 [00:36<00:04,  4.00s/it]\u001b[32m [repeated 4x across cluster]\u001b[0m\n"
     ]
    },
    {
     "name": "stdout",
     "output_type": "stream",
     "text": [
      "\u001b[36m(launch_and_fit pid=13000)\u001b[0m save graph in  results/FL/\n",
      "\u001b[36m(launch_and_fit pid=13072)\u001b[0m Run WITHOUT homomorphic encryption\n",
      "\u001b[36m(launch_and_fit pid=13072)\u001b[0m  To get the checkpoint\n",
      "\u001b[36m(launch_and_fit pid=12999)\u001b[0m \tTrain Epoch: 10 \tTrain_loss_mri: 0.0038 | Train_acc_mri: 100.0000 | Train_loss_dna: 0.0681 | Train_acc_dna: 99.6875 | Validation_loss_mri: 0.6805 | Validation_acc_mri: 90.6250 | Validation_loss_dna: 3.7262 | Validation_acc_dna: 24.4792\u001b[32m [repeated 3x across cluster]\u001b[0m\n",
      "\u001b[36m(launch_and_fit pid=12999)\u001b[0m save graph in  results/FL/\n"
     ]
    },
    {
     "name": "stderr",
     "output_type": "stream",
     "text": [
      "  0%|\u001b[34m          \u001b[0m| 0/10 [00:00<?, ?it/s]\n",
      "100%|\u001b[34m██████████\u001b[0m| 10/10 [00:41<00:00,  4.12s/it]\u001b[32m [repeated 3x across cluster]\u001b[0m\n"
     ]
    },
    {
     "name": "stdout",
     "output_type": "stream",
     "text": [
      "\u001b[36m(launch_and_fit pid=13072)\u001b[0m [Client 7, round 18] fit, config: {'learning_rate': 0.003, 'batch_size': '32', 'server_round': 18, 'local_epochs': 10}\n",
      "\u001b[36m(launch_and_fit pid=13072)\u001b[0m Updated model\n",
      "\u001b[36m(launch_and_fit pid=13097)\u001b[0m Run WITHOUT homomorphic encryption\n",
      "\u001b[36m(launch_and_fit pid=13097)\u001b[0m  To get the checkpoint\n",
      "\u001b[36m(launch_and_fit pid=13097)\u001b[0m \tTrain Epoch: 1 \tTrain_loss_mri: 0.0947 | Train_acc_mri: 96.1921 | Train_loss_dna: 1.1693 | Train_acc_dna: 63.4838 | Validation_loss_mri: 5.3901 | Validation_acc_mri: 47.9167 | Validation_loss_dna: 6.2942 | Validation_acc_dna: 10.9375\u001b[32m [repeated 2x across cluster]\u001b[0m\n",
      "\u001b[36m(launch_and_fit pid=13097)\u001b[0m [Client 1, round 18] fit, config: {'learning_rate': 0.003, 'batch_size': '32', 'server_round': 18, 'local_epochs': 10}\n",
      "\u001b[36m(launch_and_fit pid=13097)\u001b[0m Updated model\n"
     ]
    },
    {
     "name": "stderr",
     "output_type": "stream",
     "text": [
      "  0%|\u001b[34m          \u001b[0m| 0/10 [00:00<?, ?it/s]\n",
      " 10%|\u001b[34m█         \u001b[0m| 1/10 [00:04<00:39,  4.40s/it]\u001b[32m [repeated 2x across cluster]\u001b[0m\n",
      " 30%|\u001b[34m███       \u001b[0m| 3/10 [00:12<00:29,  4.23s/it]\u001b[32m [repeated 3x across cluster]\u001b[0m\n"
     ]
    },
    {
     "name": "stdout",
     "output_type": "stream",
     "text": [
      "\u001b[36m(launch_and_fit pid=13072)\u001b[0m \tTrain Epoch: 3 \tTrain_loss_mri: 0.0411 | Train_acc_mri: 98.3218 | Train_loss_dna: 0.3056 | Train_acc_dna: 89.7685 | Validation_loss_mri: 0.3599 | Validation_acc_mri: 95.3125 | Validation_loss_dna: 5.1912 | Validation_acc_dna: 7.8125\u001b[32m [repeated 3x across cluster]\u001b[0m\n"
     ]
    },
    {
     "name": "stderr",
     "output_type": "stream",
     "text": [
      " 50%|\u001b[34m█████     \u001b[0m| 5/10 [00:20<00:20,  4.10s/it]\u001b[32m [repeated 4x across cluster]\u001b[0m\n"
     ]
    },
    {
     "name": "stdout",
     "output_type": "stream",
     "text": [
      "\u001b[36m(launch_and_fit pid=13072)\u001b[0m \tTrain Epoch: 5 \tTrain_loss_mri: 0.0089 | Train_acc_mri: 99.6875 | Train_loss_dna: 0.1093 | Train_acc_dna: 97.7546 | Validation_loss_mri: 0.4381 | Validation_acc_mri: 95.3125 | Validation_loss_dna: 5.9332 | Validation_acc_dna: 12.5000\u001b[32m [repeated 4x across cluster]\u001b[0m\n"
     ]
    },
    {
     "name": "stderr",
     "output_type": "stream",
     "text": [
      " 70%|\u001b[34m███████   \u001b[0m| 7/10 [00:28<00:12,  4.03s/it]\u001b[32m [repeated 4x across cluster]\u001b[0m\n"
     ]
    },
    {
     "name": "stdout",
     "output_type": "stream",
     "text": [
      "\u001b[36m(launch_and_fit pid=13072)\u001b[0m \tTrain Epoch: 7 \tTrain_loss_mri: 0.0061 | Train_acc_mri: 100.0000 | Train_loss_dna: 0.0596 | Train_acc_dna: 99.0625 | Validation_loss_mri: 0.3983 | Validation_acc_mri: 95.3125 | Validation_loss_dna: 5.9824 | Validation_acc_dna: 10.9375\u001b[32m [repeated 4x across cluster]\u001b[0m\n"
     ]
    },
    {
     "name": "stderr",
     "output_type": "stream",
     "text": [
      " 90%|\u001b[34m█████████ \u001b[0m| 9/10 [00:36<00:04,  4.04s/it]\u001b[32m [repeated 4x across cluster]\u001b[0m\n"
     ]
    },
    {
     "name": "stdout",
     "output_type": "stream",
     "text": [
      "\u001b[36m(launch_and_fit pid=13072)\u001b[0m \tTrain Epoch: 9 \tTrain_loss_mri: 0.0027 | Train_acc_mri: 100.0000 | Train_loss_dna: 0.0460 | Train_acc_dna: 99.3171 | Validation_loss_mri: 0.5044 | Validation_acc_mri: 95.3125 | Validation_loss_dna: 6.5904 | Validation_acc_dna: 10.9375\u001b[32m [repeated 4x across cluster]\u001b[0m\n",
      "\u001b[36m(launch_and_fit pid=13072)\u001b[0m save graph in  results/FL/\n",
      "\u001b[36m(launch_and_fit pid=13146)\u001b[0m Run WITHOUT homomorphic encryption\n",
      "\u001b[36m(launch_and_fit pid=13146)\u001b[0m  To get the checkpoint\n",
      "\u001b[36m(launch_and_fit pid=13097)\u001b[0m \tTrain Epoch: 10 \tTrain_loss_mri: 0.0037 | Train_acc_mri: 100.0000 | Train_loss_dna: 0.0479 | Train_acc_dna: 99.3750 | Validation_loss_mri: 8.0383 | Validation_acc_mri: 63.0208 | Validation_loss_dna: 6.3803 | Validation_acc_dna: 12.5000\u001b[32m [repeated 3x across cluster]\u001b[0m\n",
      "\u001b[36m(launch_and_fit pid=13097)\u001b[0m save graph in  results/FL/\n",
      "\u001b[36m(launch_and_fit pid=13146)\u001b[0m [Client 3, round 18] fit, config: {'learning_rate': 0.003, 'batch_size': '32', 'server_round': 18, 'local_epochs': 10}\n",
      "\u001b[36m(launch_and_fit pid=13146)\u001b[0m Updated model\n"
     ]
    },
    {
     "name": "stderr",
     "output_type": "stream",
     "text": [
      "  0%|\u001b[34m          \u001b[0m| 0/10 [00:00<?, ?it/s]\n",
      "100%|\u001b[34m██████████\u001b[0m| 10/10 [00:40<00:00,  4.09s/it]\u001b[32m [repeated 3x across cluster]\u001b[0m\n"
     ]
    },
    {
     "name": "stdout",
     "output_type": "stream",
     "text": [
      "\u001b[36m(launch_and_fit pid=13171)\u001b[0m Run WITHOUT homomorphic encryption\n",
      "\u001b[36m(launch_and_fit pid=13171)\u001b[0m  To get the checkpoint\n",
      "\u001b[36m(launch_and_fit pid=13146)\u001b[0m \tTrain Epoch: 1 \tTrain_loss_mri: 0.0631 | Train_acc_mri: 97.7546 | Train_loss_dna: 0.8062 | Train_acc_dna: 69.9074 | Validation_loss_mri: 0.8209 | Validation_acc_mri: 85.9375 | Validation_loss_dna: 9.5006 | Validation_acc_dna: 9.3750\n",
      "\u001b[36m(launch_and_fit pid=13171)\u001b[0m \tTrain Epoch: 1 \tTrain_loss_mri: 0.0807 | Train_acc_mri: 97.5000 | Train_loss_dna: 0.9185 | Train_acc_dna: 70.4745 | Validation_loss_mri: 0.3396 | Validation_acc_mri: 90.6250 | Validation_loss_dna: 6.3127 | Validation_acc_dna: 33.8542\n",
      "\u001b[36m(launch_and_fit pid=13171)\u001b[0m [Client 8, round 18] fit, config: {'learning_rate': 0.003, 'batch_size': '32', 'server_round': 18, 'local_epochs': 10}\n",
      "\u001b[36m(launch_and_fit pid=13171)\u001b[0m Updated model\n"
     ]
    },
    {
     "name": "stderr",
     "output_type": "stream",
     "text": [
      "  0%|\u001b[34m          \u001b[0m| 0/10 [00:00<?, ?it/s]\n",
      " 10%|\u001b[34m█         \u001b[0m| 1/10 [00:04<00:41,  4.61s/it]\u001b[32m [repeated 2x across cluster]\u001b[0m\n"
     ]
    },
    {
     "name": "stdout",
     "output_type": "stream",
     "text": [
      "\u001b[36m(launch_and_fit pid=13146)\u001b[0m \tTrain Epoch: 3 \tTrain_loss_mri: 0.0361 | Train_acc_mri: 98.3796 | Train_loss_dna: 0.4217 | Train_acc_dna: 84.7685 | Validation_loss_mri: 0.7782 | Validation_acc_mri: 90.6250 | Validation_loss_dna: 8.2225 | Validation_acc_dna: 6.2500\u001b[32m [repeated 3x across cluster]\u001b[0m\n"
     ]
    },
    {
     "name": "stderr",
     "output_type": "stream",
     "text": [
      " 30%|\u001b[34m███       \u001b[0m| 3/10 [00:12<00:28,  4.10s/it]\u001b[32m [repeated 3x across cluster]\u001b[0m\n"
     ]
    },
    {
     "name": "stdout",
     "output_type": "stream",
     "text": [
      "\u001b[36m(launch_and_fit pid=13171)\u001b[0m \tTrain Epoch: 4 \tTrain_loss_mri: 0.0633 | Train_acc_mri: 98.6921 | Train_loss_dna: 0.2686 | Train_acc_dna: 92.2685 | Validation_loss_mri: 0.5881 | Validation_acc_mri: 75.5208 | Validation_loss_dna: 5.2983 | Validation_acc_dna: 30.7292\u001b[32m [repeated 3x across cluster]\u001b[0m\n"
     ]
    },
    {
     "name": "stderr",
     "output_type": "stream",
     "text": [
      " 40%|\u001b[34m████      \u001b[0m| 4/10 [00:16<00:24,  4.15s/it]\u001b[32m [repeated 3x across cluster]\u001b[0m\n"
     ]
    },
    {
     "name": "stdout",
     "output_type": "stream",
     "text": [
      "\u001b[36m(launch_and_fit pid=13146)\u001b[0m \tTrain Epoch: 6 \tTrain_loss_mri: 0.0158 | Train_acc_mri: 99.2593 | Train_loss_dna: 0.1160 | Train_acc_dna: 97.1296 | Validation_loss_mri: 0.8469 | Validation_acc_mri: 87.5000 | Validation_loss_dna: 8.9867 | Validation_acc_dna: 26.0417\u001b[32m [repeated 3x across cluster]\u001b[0m\n"
     ]
    },
    {
     "name": "stderr",
     "output_type": "stream",
     "text": [
      " 60%|\u001b[34m██████    \u001b[0m| 6/10 [00:24<00:16,  4.14s/it]\u001b[32m [repeated 3x across cluster]\u001b[0m\n"
     ]
    },
    {
     "name": "stdout",
     "output_type": "stream",
     "text": [
      "\u001b[36m(launch_and_fit pid=13171)\u001b[0m \tTrain Epoch: 7 \tTrain_loss_mri: 0.0128 | Train_acc_mri: 99.6875 | Train_loss_dna: 0.1695 | Train_acc_dna: 96.2500 | Validation_loss_mri: 0.6436 | Validation_acc_mri: 75.5208 | Validation_loss_dna: 5.3799 | Validation_acc_dna: 29.1667\u001b[32m [repeated 3x across cluster]\u001b[0m\n"
     ]
    },
    {
     "name": "stderr",
     "output_type": "stream",
     "text": [
      " 70%|\u001b[34m███████   \u001b[0m| 7/10 [00:29<00:12,  4.09s/it]\u001b[32m [repeated 3x across cluster]\u001b[0m\n"
     ]
    },
    {
     "name": "stdout",
     "output_type": "stream",
     "text": [
      "\u001b[36m(launch_and_fit pid=13146)\u001b[0m \tTrain Epoch: 9 \tTrain_loss_mri: 0.0366 | Train_acc_mri: 99.6875 | Train_loss_dna: 0.0770 | Train_acc_dna: 98.3796 | Validation_loss_mri: 0.8430 | Validation_acc_mri: 87.5000 | Validation_loss_dna: 10.1180 | Validation_acc_dna: 9.3750\u001b[32m [repeated 3x across cluster]\u001b[0m\n"
     ]
    },
    {
     "name": "stderr",
     "output_type": "stream",
     "text": [
      " 90%|\u001b[34m█████████ \u001b[0m| 9/10 [00:36<00:04,  4.02s/it]\u001b[32m [repeated 3x across cluster]\u001b[0m\n"
     ]
    },
    {
     "name": "stdout",
     "output_type": "stream",
     "text": [
      "\u001b[36m(launch_and_fit pid=13146)\u001b[0m save graph in  results/FL/\n",
      "\u001b[36m(launch_and_fit pid=13171)\u001b[0m \tTrain Epoch: 10 \tTrain_loss_mri: 0.0035 | Train_acc_mri: 100.0000 | Train_loss_dna: 0.1247 | Train_acc_dna: 97.1875 | Validation_loss_mri: 1.0279 | Validation_acc_mri: 73.9583 | Validation_loss_dna: 5.6610 | Validation_acc_dna: 27.6042\u001b[32m [repeated 3x across cluster]\u001b[0m\n"
     ]
    },
    {
     "name": "stderr",
     "output_type": "stream",
     "text": [
      "100%|\u001b[34m██████████\u001b[0m| 10/10 [00:41<00:00,  4.12s/it]\u001b[32m [repeated 3x across cluster]\u001b[0m\n"
     ]
    },
    {
     "name": "stdout",
     "output_type": "stream",
     "text": [
      "\u001b[36m(launch_and_fit pid=13221)\u001b[0m Run WITHOUT homomorphic encryption\n",
      "\u001b[36m(launch_and_fit pid=13221)\u001b[0m  To get the checkpoint\n",
      "\u001b[36m(launch_and_fit pid=13171)\u001b[0m save graph in  results/FL/\n",
      "\u001b[36m(launch_and_fit pid=13221)\u001b[0m [Client 0, round 18] fit, config: {'learning_rate': 0.003, 'batch_size': '32', 'server_round': 18, 'local_epochs': 10}\n",
      "\u001b[36m(launch_and_fit pid=13221)\u001b[0m Updated model\n"
     ]
    },
    {
     "name": "stderr",
     "output_type": "stream",
     "text": [
      "  0%|\u001b[34m          \u001b[0m| 0/10 [00:00<?, ?it/s]\n"
     ]
    },
    {
     "name": "stdout",
     "output_type": "stream",
     "text": [
      "\u001b[36m(launch_and_fit pid=13221)\u001b[0m \tTrain Epoch: 1 \tTrain_loss_mri: 0.0412 | Train_acc_mri: 98.6921 | Train_loss_dna: 1.0466 | Train_acc_dna: 67.0370 | Validation_loss_mri: 1.2290 | Validation_acc_mri: 72.3958 | Validation_loss_dna: 3.4014 | Validation_acc_dna: 12.5000\n",
      "\u001b[36m(launch_and_fit pid=13246)\u001b[0m Run WITHOUT homomorphic encryption\n",
      "\u001b[36m(launch_and_fit pid=13246)\u001b[0m  To get the checkpoint\n"
     ]
    },
    {
     "name": "stderr",
     "output_type": "stream",
     "text": [
      " 10%|\u001b[34m█         \u001b[0m| 1/10 [00:04<00:41,  4.60s/it]\n"
     ]
    },
    {
     "name": "stdout",
     "output_type": "stream",
     "text": [
      "\u001b[36m(launch_and_fit pid=13246)\u001b[0m [Client 4, round 18] fit, config: {'learning_rate': 0.003, 'batch_size': '32', 'server_round': 18, 'local_epochs': 10}\n",
      "\u001b[36m(launch_and_fit pid=13246)\u001b[0m Updated model\n"
     ]
    },
    {
     "name": "stderr",
     "output_type": "stream",
     "text": [
      "  0%|\u001b[34m          \u001b[0m| 0/10 [00:00<?, ?it/s]\n"
     ]
    },
    {
     "name": "stdout",
     "output_type": "stream",
     "text": [
      "\u001b[36m(launch_and_fit pid=13246)\u001b[0m \tTrain Epoch: 2 \tTrain_loss_mri: 0.0976 | Train_acc_mri: 96.1921 | Train_loss_dna: 0.8194 | Train_acc_dna: 75.1042 | Validation_loss_mri: 1.8624 | Validation_acc_mri: 64.5833 | Validation_loss_dna: 3.0081 | Validation_acc_dna: 35.4167\u001b[32m [repeated 3x across cluster]\u001b[0m\n"
     ]
    },
    {
     "name": "stderr",
     "output_type": "stream",
     "text": [
      " 20%|\u001b[34m██        \u001b[0m| 2/10 [00:08<00:32,  4.09s/it]\u001b[32m [repeated 3x across cluster]\u001b[0m\n"
     ]
    },
    {
     "name": "stdout",
     "output_type": "stream",
     "text": [
      "\u001b[36m(launch_and_fit pid=13221)\u001b[0m \tTrain Epoch: 4 \tTrain_loss_mri: 0.0095 | Train_acc_mri: 100.0000 | Train_loss_dna: 0.2185 | Train_acc_dna: 93.2639 | Validation_loss_mri: 0.8507 | Validation_acc_mri: 70.8333 | Validation_loss_dna: 3.3694 | Validation_acc_dna: 27.6042\u001b[32m [repeated 3x across cluster]\u001b[0m\n"
     ]
    },
    {
     "name": "stderr",
     "output_type": "stream",
     "text": [
      " 40%|\u001b[34m████      \u001b[0m| 4/10 [00:16<00:24,  4.08s/it]\u001b[32m [repeated 3x across cluster]\u001b[0m\n"
     ]
    },
    {
     "name": "stdout",
     "output_type": "stream",
     "text": [
      "\u001b[36m(launch_and_fit pid=13221)\u001b[0m \tTrain Epoch: 6 \tTrain_loss_mri: 0.0253 | Train_acc_mri: 99.0625 | Train_loss_dna: 0.1243 | Train_acc_dna: 98.1250 | Validation_loss_mri: 1.6429 | Validation_acc_mri: 72.3958 | Validation_loss_dna: 3.7498 | Validation_acc_dna: 6.2500\u001b[32m [repeated 4x across cluster]\u001b[0m\n"
     ]
    },
    {
     "name": "stderr",
     "output_type": "stream",
     "text": [
      " 60%|\u001b[34m██████    \u001b[0m| 6/10 [00:24<00:16,  4.04s/it]\u001b[32m [repeated 4x across cluster]\u001b[0m\n"
     ]
    },
    {
     "name": "stdout",
     "output_type": "stream",
     "text": [
      "\u001b[36m(launch_and_fit pid=13221)\u001b[0m \tTrain Epoch: 8 \tTrain_loss_mri: 0.0143 | Train_acc_mri: 99.6875 | Train_loss_dna: 0.1725 | Train_acc_dna: 97.0718 | Validation_loss_mri: 1.2261 | Validation_acc_mri: 70.8333 | Validation_loss_dna: 3.3734 | Validation_acc_dna: 10.9375\u001b[32m [repeated 4x across cluster]\u001b[0m\n"
     ]
    },
    {
     "name": "stderr",
     "output_type": "stream",
     "text": [
      " 80%|\u001b[34m████████  \u001b[0m| 8/10 [00:32<00:08,  4.13s/it]\u001b[32m [repeated 4x across cluster]\u001b[0m\n"
     ]
    },
    {
     "name": "stdout",
     "output_type": "stream",
     "text": [
      "\u001b[36m(launch_and_fit pid=13221)\u001b[0m save graph in  results/FL/\n",
      "\u001b[36m(launch_and_fit pid=13221)\u001b[0m \tTrain Epoch: 10 \tTrain_loss_mri: 0.0212 | Train_acc_mri: 99.6296 | Train_loss_dna: 0.0944 | Train_acc_dna: 97.1875 | Validation_loss_mri: 1.1492 | Validation_acc_mri: 72.3958 | Validation_loss_dna: 2.9240 | Validation_acc_dna: 29.1667\u001b[32m [repeated 4x across cluster]\u001b[0m\n"
     ]
    },
    {
     "name": "stderr",
     "output_type": "stream",
     "text": [
      "100%|\u001b[34m██████████\u001b[0m| 10/10 [00:41<00:00,  4.10s/it]\u001b[32m [repeated 4x across cluster]\u001b[0m\n"
     ]
    },
    {
     "name": "stdout",
     "output_type": "stream",
     "text": [
      "\u001b[36m(launch_and_fit pid=13295)\u001b[0m Run WITHOUT homomorphic encryption\n",
      "\u001b[36m(launch_and_fit pid=13295)\u001b[0m  To get the checkpoint\n",
      "\u001b[36m(launch_and_fit pid=13246)\u001b[0m save graph in  results/FL/\n",
      "\u001b[36m(launch_and_fit pid=13246)\u001b[0m \tTrain Epoch: 10 \tTrain_loss_mri: 0.0073 | Train_acc_mri: 99.6875 | Train_loss_dna: 0.0734 | Train_acc_dna: 97.8125 | Validation_loss_mri: 1.8440 | Validation_acc_mri: 67.7083 | Validation_loss_dna: 3.7188 | Validation_acc_dna: 26.0417\n",
      "\u001b[36m(launch_and_fit pid=13295)\u001b[0m [Client 6, round 18] fit, config: {'learning_rate': 0.003, 'batch_size': '32', 'server_round': 18, 'local_epochs': 10}\n",
      "\u001b[36m(launch_and_fit pid=13295)\u001b[0m Updated model\n"
     ]
    },
    {
     "name": "stderr",
     "output_type": "stream",
     "text": [
      "  0%|\u001b[34m          \u001b[0m| 0/10 [00:00<?, ?it/s]\n",
      "100%|\u001b[34m██████████\u001b[0m| 10/10 [00:40<00:00,  4.02s/it]\n",
      " 10%|\u001b[34m█         \u001b[0m| 1/10 [00:04<00:40,  4.54s/it]\n"
     ]
    },
    {
     "name": "stdout",
     "output_type": "stream",
     "text": [
      "\u001b[36m(launch_and_fit pid=13295)\u001b[0m \tTrain Epoch: 1 \tTrain_loss_mri: 0.0436 | Train_acc_mri: 98.4375 | Train_loss_dna: 1.1185 | Train_acc_dna: 64.5370 | Validation_loss_mri: 3.5988 | Validation_acc_mri: 55.7292 | Validation_loss_dna: 4.3770 | Validation_acc_dna: 9.3750\n"
     ]
    },
    {
     "name": "stderr",
     "output_type": "stream",
     "text": [
      "  0%|\u001b[34m          \u001b[0m| 0/10 [00:00<?, ?it/s]\n"
     ]
    },
    {
     "name": "stdout",
     "output_type": "stream",
     "text": [
      "\u001b[36m(launch_and_fit pid=13305)\u001b[0m Run WITHOUT homomorphic encryption\n",
      "\u001b[36m(launch_and_fit pid=13305)\u001b[0m  To get the checkpoint\n",
      "\u001b[36m(launch_and_fit pid=13305)\u001b[0m [Client 9, round 18] fit, config: {'learning_rate': 0.003, 'batch_size': '32', 'server_round': 18, 'local_epochs': 10}\n",
      "\u001b[36m(launch_and_fit pid=13305)\u001b[0m Updated model\n"
     ]
    },
    {
     "name": "stderr",
     "output_type": "stream",
     "text": [
      " 20%|\u001b[34m██        \u001b[0m| 2/10 [00:09<00:35,  4.49s/it]\u001b[32m [repeated 3x across cluster]\u001b[0m\n"
     ]
    },
    {
     "name": "stdout",
     "output_type": "stream",
     "text": [
      "\u001b[36m(launch_and_fit pid=13305)\u001b[0m \tTrain Epoch: 2 \tTrain_loss_mri: 0.1176 | Train_acc_mri: 98.1250 | Train_loss_dna: 0.5842 | Train_acc_dna: 80.5343 | Validation_loss_mri: 0.6204 | Validation_acc_mri: 85.9375 | Validation_loss_dna: 4.1098 | Validation_acc_dna: 10.9375\u001b[32m [repeated 3x across cluster]\u001b[0m\n"
     ]
    },
    {
     "name": "stderr",
     "output_type": "stream",
     "text": [
      " 40%|\u001b[34m████      \u001b[0m| 4/10 [00:17<00:25,  4.20s/it]\u001b[32m [repeated 3x across cluster]\u001b[0m\n"
     ]
    },
    {
     "name": "stdout",
     "output_type": "stream",
     "text": [
      "\u001b[36m(launch_and_fit pid=13295)\u001b[0m \tTrain Epoch: 4 \tTrain_loss_mri: 0.0232 | Train_acc_mri: 99.6875 | Train_loss_dna: 0.3395 | Train_acc_dna: 88.2639 | Validation_loss_mri: 1.6289 | Validation_acc_mri: 57.2917 | Validation_loss_dna: 4.5779 | Validation_acc_dna: 9.3750\u001b[32m [repeated 3x across cluster]\u001b[0m\n"
     ]
    },
    {
     "name": "stderr",
     "output_type": "stream",
     "text": [
      " 60%|\u001b[34m██████    \u001b[0m| 6/10 [00:24<00:16,  4.04s/it]\u001b[32m [repeated 4x across cluster]\u001b[0m\n"
     ]
    },
    {
     "name": "stdout",
     "output_type": "stream",
     "text": [
      "\u001b[36m(launch_and_fit pid=13295)\u001b[0m \tTrain Epoch: 6 \tTrain_loss_mri: 0.0095 | Train_acc_mri: 100.0000 | Train_loss_dna: 0.1729 | Train_acc_dna: 97.1296 | Validation_loss_mri: 1.7792 | Validation_acc_mri: 57.2917 | Validation_loss_dna: 4.8022 | Validation_acc_dna: 9.3750\u001b[32m [repeated 4x across cluster]\u001b[0m\n"
     ]
    },
    {
     "name": "stderr",
     "output_type": "stream",
     "text": [
      " 80%|\u001b[34m████████  \u001b[0m| 8/10 [00:32<00:08,  4.00s/it]\u001b[32m [repeated 4x across cluster]\u001b[0m\n"
     ]
    },
    {
     "name": "stdout",
     "output_type": "stream",
     "text": [
      "\u001b[36m(launch_and_fit pid=13295)\u001b[0m \tTrain Epoch: 8 \tTrain_loss_mri: 0.0062 | Train_acc_mri: 100.0000 | Train_loss_dna: 0.1096 | Train_acc_dna: 98.1250 | Validation_loss_mri: 2.1615 | Validation_acc_mri: 55.7292 | Validation_loss_dna: 5.3123 | Validation_acc_dna: 9.3750\u001b[32m [repeated 4x across cluster]\u001b[0m\n"
     ]
    },
    {
     "name": "stderr",
     "output_type": "stream",
     "text": [
      "100%|\u001b[34m██████████\u001b[0m| 10/10 [00:40<00:00,  4.09s/it]\u001b[32m [repeated 4x across cluster]\u001b[0m\n"
     ]
    },
    {
     "name": "stdout",
     "output_type": "stream",
     "text": [
      "\u001b[36m(launch_and_fit pid=13295)\u001b[0m save graph in  results/FL/\n",
      "\u001b[36m(launch_and_fit pid=13295)\u001b[0m \tTrain Epoch: 10 \tTrain_loss_mri: 0.0025 | Train_acc_mri: 100.0000 | Train_loss_dna: 0.0939 | Train_acc_dna: 98.1250 | Validation_loss_mri: 1.8030 | Validation_acc_mri: 57.2917 | Validation_loss_dna: 5.3730 | Validation_acc_dna: 9.3750\u001b[32m [repeated 4x across cluster]\u001b[0m\n"
     ]
    },
    {
     "name": "stderr",
     "output_type": "stream",
     "text": [
      "DEBUG flwr 2024-08-05 12:39:47,387 | server.py:236 | fit_round 18 received 10 results and 0 failures\n"
     ]
    },
    {
     "name": "stdout",
     "output_type": "stream",
     "text": [
      "Saving round 18 aggregated_parameters...\n",
      "Updated model\n"
     ]
    },
    {
     "name": "stderr",
     "output_type": "stream",
     "text": [
      "INFO flwr 2024-08-05 12:39:53,807 | server.py:125 | fit progress: (18, (1.3147628914032663, 4.604481339454651), {'accuracy': (80.31994047619048, 15.625)}, 6052.94219601)\n",
      "DEBUG flwr 2024-08-05 12:39:53,808 | server.py:173 | evaluate_round 18: strategy sampled 10 clients (out of 10)\n"
     ]
    },
    {
     "name": "stdout",
     "output_type": "stream",
     "text": [
      "Server-side evaluation MRI loss 1.3147628914032663 / MRI accuracy 80.31994047619048\n",
      "Server-side evaluation DNA loss 4.604481339454651 / DNA accuracy 15.625\n",
      "\u001b[36m(launch_and_evaluate pid=13379)\u001b[0m Run WITHOUT homomorphic encryption\n",
      "\u001b[36m(launch_and_evaluate pid=13379)\u001b[0m  To get the checkpoint\n",
      "\u001b[36m(launch_and_fit pid=13305)\u001b[0m save graph in  results/FL/\n",
      "\u001b[36m(launch_and_fit pid=13305)\u001b[0m \tTrain Epoch: 10 \tTrain_loss_mri: 0.0043 | Train_acc_mri: 100.0000 | Train_loss_dna: 0.0902 | Train_acc_dna: 98.4375 | Validation_loss_mri: 0.5001 | Validation_acc_mri: 89.0625 | Validation_loss_dna: 5.4522 | Validation_acc_dna: 9.3750\n",
      "\u001b[36m(launch_and_evaluate pid=13379)\u001b[0m [Client 0] evaluate, config: {}\n",
      "\u001b[36m(launch_and_evaluate pid=13379)\u001b[0m Updated model\n",
      "\u001b[36m(launch_and_evaluate pid=13450)\u001b[0m Run WITHOUT homomorphic encryption\u001b[32m [repeated 2x across cluster]\u001b[0m\n",
      "\u001b[36m(launch_and_evaluate pid=13450)\u001b[0m  To get the checkpoint\u001b[32m [repeated 2x across cluster]\u001b[0m\n",
      "\u001b[36m(launch_and_evaluate pid=13380)\u001b[0m [Client 7] evaluate, config: {}\n",
      "\u001b[36m(launch_and_evaluate pid=13380)\u001b[0m Updated model\n",
      "\u001b[36m(launch_and_evaluate pid=13450)\u001b[0m [Client 3] evaluate, config: {}\n",
      "\u001b[36m(launch_and_evaluate pid=13450)\u001b[0m Updated model\n",
      "\u001b[36m(launch_and_evaluate pid=13520)\u001b[0m Run WITHOUT homomorphic encryption\u001b[32m [repeated 2x across cluster]\u001b[0m\n",
      "\u001b[36m(launch_and_evaluate pid=13520)\u001b[0m  To get the checkpoint\u001b[32m [repeated 2x across cluster]\u001b[0m\n",
      "\u001b[36m(launch_and_evaluate pid=13452)\u001b[0m [Client 5] evaluate, config: {}\n",
      "\u001b[36m(launch_and_evaluate pid=13452)\u001b[0m Updated model\n",
      "\u001b[36m(launch_and_evaluate pid=13520)\u001b[0m [Client 9] evaluate, config: {}\n",
      "\u001b[36m(launch_and_evaluate pid=13520)\u001b[0m Updated model\n"
     ]
    },
    {
     "name": "stderr",
     "output_type": "stream",
     "text": [
      "\u001b[36m(launch_and_evaluate pid=13520)\u001b[0m /opt/conda/lib/python3.10/site-packages/sklearn/metrics/_ranking.py:1029: UndefinedMetricWarning: No positive samples in y_true, true positive value should be meaningless\n",
      "\u001b[36m(launch_and_evaluate pid=13520)\u001b[0m   warnings.warn(\n",
      "100%|\u001b[34m██████████\u001b[0m| 10/10 [00:41<00:00,  4.12s/it]\n"
     ]
    },
    {
     "name": "stdout",
     "output_type": "stream",
     "text": [
      "\u001b[36m(launch_and_evaluate pid=13590)\u001b[0m Run WITHOUT homomorphic encryption\u001b[32m [repeated 2x across cluster]\u001b[0m\n",
      "\u001b[36m(launch_and_evaluate pid=13590)\u001b[0m  To get the checkpoint\u001b[32m [repeated 2x across cluster]\u001b[0m\n",
      "\u001b[36m(launch_and_evaluate pid=13522)\u001b[0m [Client 4] evaluate, config: {}\n",
      "\u001b[36m(launch_and_evaluate pid=13522)\u001b[0m Updated model\n",
      "\u001b[36m(launch_and_evaluate pid=13590)\u001b[0m [Client 6] evaluate, config: {}\n",
      "\u001b[36m(launch_and_evaluate pid=13590)\u001b[0m Updated model\n",
      "\u001b[36m(launch_and_evaluate pid=13660)\u001b[0m Run WITHOUT homomorphic encryption\u001b[32m [repeated 2x across cluster]\u001b[0m\n",
      "\u001b[36m(launch_and_evaluate pid=13660)\u001b[0m  To get the checkpoint\u001b[32m [repeated 2x across cluster]\u001b[0m\n",
      "\u001b[36m(launch_and_evaluate pid=13592)\u001b[0m [Client 1] evaluate, config: {}\n",
      "\u001b[36m(launch_and_evaluate pid=13592)\u001b[0m Updated model\n",
      "\u001b[36m(launch_and_evaluate pid=13660)\u001b[0m [Client 2] evaluate, config: {}\n",
      "\u001b[36m(launch_and_evaluate pid=13660)\u001b[0m Updated model\n"
     ]
    },
    {
     "name": "stderr",
     "output_type": "stream",
     "text": [
      "\u001b[36m(launch_and_evaluate pid=13662)\u001b[0m /opt/conda/lib/python3.10/site-packages/sklearn/metrics/_ranking.py:1029: UndefinedMetricWarning: No positive samples in y_true, true positive value should be meaningless\u001b[32m [repeated 2x across cluster]\u001b[0m\n",
      "\u001b[36m(launch_and_evaluate pid=13662)\u001b[0m   warnings.warn(\u001b[32m [repeated 2x across cluster]\u001b[0m\n",
      "DEBUG flwr 2024-08-05 12:41:03,220 | server.py:187 | evaluate_round 18 received 10 results and 0 failures\n",
      "DEBUG flwr 2024-08-05 12:41:03,221 | server.py:222 | fit_round 19: strategy sampled 10 clients (out of 10)\n"
     ]
    },
    {
     "name": "stdout",
     "output_type": "stream",
     "text": [
      "\u001b[36m(launch_and_fit pid=13739)\u001b[0m Run WITHOUT homomorphic encryption\u001b[32m [repeated 2x across cluster]\u001b[0m\n",
      "\u001b[36m(launch_and_fit pid=13739)\u001b[0m  To get the checkpoint\u001b[32m [repeated 2x across cluster]\u001b[0m\n",
      "\u001b[36m(launch_and_evaluate pid=13662)\u001b[0m [Client 8] evaluate, config: {}\n",
      "\u001b[36m(launch_and_evaluate pid=13662)\u001b[0m Updated model\n",
      "\u001b[36m(launch_and_fit pid=13739)\u001b[0m [Client 7, round 19] fit, config: {'learning_rate': 0.003, 'batch_size': '32', 'server_round': 19, 'local_epochs': 10}\n",
      "\u001b[36m(launch_and_fit pid=13739)\u001b[0m Updated model\n"
     ]
    },
    {
     "name": "stderr",
     "output_type": "stream",
     "text": [
      "  0%|\u001b[34m          \u001b[0m| 0/10 [00:00<?, ?it/s]\n"
     ]
    },
    {
     "name": "stdout",
     "output_type": "stream",
     "text": [
      "\u001b[36m(launch_and_fit pid=13739)\u001b[0m \tTrain Epoch: 1 \tTrain_loss_mri: 0.0537 | Train_acc_mri: 97.5000 | Train_loss_dna: 0.9906 | Train_acc_dna: 69.1088 | Validation_loss_mri: 0.3002 | Validation_acc_mri: 95.3125 | Validation_loss_dna: 3.8306 | Validation_acc_dna: 29.1667\n",
      "\u001b[36m(launch_and_fit pid=13740)\u001b[0m Run WITHOUT homomorphic encryption\n",
      "\u001b[36m(launch_and_fit pid=13740)\u001b[0m  To get the checkpoint\n"
     ]
    },
    {
     "name": "stderr",
     "output_type": "stream",
     "text": [
      " 10%|\u001b[34m█         \u001b[0m| 1/10 [00:04<00:43,  4.79s/it]\n",
      "  0%|\u001b[34m          \u001b[0m| 0/10 [00:00<?, ?it/s]\n"
     ]
    },
    {
     "name": "stdout",
     "output_type": "stream",
     "text": [
      "\u001b[36m(launch_and_fit pid=13740)\u001b[0m [Client 9, round 19] fit, config: {'learning_rate': 0.003, 'batch_size': '32', 'server_round': 19, 'local_epochs': 10}\n",
      "\u001b[36m(launch_and_fit pid=13740)\u001b[0m Updated model\n"
     ]
    },
    {
     "name": "stderr",
     "output_type": "stream",
     "text": [
      " 30%|\u001b[34m███       \u001b[0m| 3/10 [00:12<00:29,  4.24s/it]\u001b[32m [repeated 4x across cluster]\u001b[0m\n"
     ]
    },
    {
     "name": "stdout",
     "output_type": "stream",
     "text": [
      "\u001b[36m(launch_and_fit pid=13740)\u001b[0m \tTrain Epoch: 3 \tTrain_loss_mri: 0.0333 | Train_acc_mri: 99.0625 | Train_loss_dna: 0.3329 | Train_acc_dna: 90.2923 | Validation_loss_mri: 0.5546 | Validation_acc_mri: 87.5000 | Validation_loss_dna: 3.8926 | Validation_acc_dna: 14.0625\u001b[32m [repeated 4x across cluster]\u001b[0m\n"
     ]
    },
    {
     "name": "stderr",
     "output_type": "stream",
     "text": [
      " 50%|\u001b[34m█████     \u001b[0m| 5/10 [00:20<00:20,  4.10s/it]\u001b[32m [repeated 4x across cluster]\u001b[0m\n"
     ]
    },
    {
     "name": "stdout",
     "output_type": "stream",
     "text": [
      "\u001b[36m(launch_and_fit pid=13740)\u001b[0m \tTrain Epoch: 5 \tTrain_loss_mri: 0.0071 | Train_acc_mri: 100.0000 | Train_loss_dna: 0.1285 | Train_acc_dna: 97.1774 | Validation_loss_mri: 0.5781 | Validation_acc_mri: 87.5000 | Validation_loss_dna: 3.8315 | Validation_acc_dna: 10.9375\u001b[32m [repeated 4x across cluster]\u001b[0m\n"
     ]
    },
    {
     "name": "stderr",
     "output_type": "stream",
     "text": [
      " 70%|\u001b[34m███████   \u001b[0m| 7/10 [00:29<00:12,  4.09s/it]\u001b[32m [repeated 4x across cluster]\u001b[0m\n"
     ]
    },
    {
     "name": "stdout",
     "output_type": "stream",
     "text": [
      "\u001b[36m(launch_and_fit pid=13740)\u001b[0m \tTrain Epoch: 7 \tTrain_loss_mri: 0.0112 | Train_acc_mri: 99.6774 | Train_loss_dna: 0.0796 | Train_acc_dna: 98.7399 | Validation_loss_mri: 0.5893 | Validation_acc_mri: 85.9375 | Validation_loss_dna: 4.5770 | Validation_acc_dna: 9.3750\u001b[32m [repeated 4x across cluster]\u001b[0m\n"
     ]
    },
    {
     "name": "stderr",
     "output_type": "stream",
     "text": [
      " 90%|\u001b[34m█████████ \u001b[0m| 9/10 [00:37<00:04,  4.10s/it]\u001b[32m [repeated 4x across cluster]\u001b[0m\n"
     ]
    },
    {
     "name": "stdout",
     "output_type": "stream",
     "text": [
      "\u001b[36m(launch_and_fit pid=13740)\u001b[0m \tTrain Epoch: 9 \tTrain_loss_mri: 0.0033 | Train_acc_mri: 100.0000 | Train_loss_dna: 0.0485 | Train_acc_dna: 98.4274 | Validation_loss_mri: 0.6103 | Validation_acc_mri: 85.9375 | Validation_loss_dna: 4.7595 | Validation_acc_dna: 9.3750\u001b[32m [repeated 4x across cluster]\u001b[0m\n",
      "\u001b[36m(launch_and_fit pid=13740)\u001b[0m save graph in  results/FL/\n",
      "\u001b[36m(launch_and_fit pid=13813)\u001b[0m Run WITHOUT homomorphic encryption\n",
      "\u001b[36m(launch_and_fit pid=13813)\u001b[0m  To get the checkpoint\n",
      "\u001b[36m(launch_and_fit pid=13739)\u001b[0m \tTrain Epoch: 10 \tTrain_loss_mri: 0.0066 | Train_acc_mri: 100.0000 | Train_loss_dna: 0.0658 | Train_acc_dna: 98.7500 | Validation_loss_mri: 0.4462 | Validation_acc_mri: 95.3125 | Validation_loss_dna: 6.6796 | Validation_acc_dna: 9.3750\u001b[32m [repeated 3x across cluster]\u001b[0m\n",
      "\u001b[36m(launch_and_fit pid=13739)\u001b[0m save graph in  results/FL/\n",
      "\u001b[36m(launch_and_fit pid=13813)\u001b[0m [Client 3, round 19] fit, config: {'learning_rate': 0.003, 'batch_size': '32', 'server_round': 19, 'local_epochs': 10}\n",
      "\u001b[36m(launch_and_fit pid=13813)\u001b[0m Updated model\n"
     ]
    },
    {
     "name": "stderr",
     "output_type": "stream",
     "text": [
      "  0%|\u001b[34m          \u001b[0m| 0/10 [00:00<?, ?it/s]\n",
      "100%|\u001b[34m██████████\u001b[0m| 10/10 [00:42<00:00,  4.24s/it]\u001b[32m [repeated 3x across cluster]\u001b[0m\n"
     ]
    },
    {
     "name": "stdout",
     "output_type": "stream",
     "text": [
      "\u001b[36m(launch_and_fit pid=13815)\u001b[0m Run WITHOUT homomorphic encryption\n",
      "\u001b[36m(launch_and_fit pid=13815)\u001b[0m  To get the checkpoint\n",
      "\u001b[36m(launch_and_fit pid=13813)\u001b[0m \tTrain Epoch: 1 \tTrain_loss_mri: 0.0255 | Train_acc_mri: 99.0625 | Train_loss_dna: 0.6891 | Train_acc_dna: 76.8403 | Validation_loss_mri: 0.8146 | Validation_acc_mri: 89.0625 | Validation_loss_dna: 10.2428 | Validation_acc_dna: 12.5000\n",
      "\u001b[36m(launch_and_fit pid=13815)\u001b[0m \tTrain Epoch: 1 \tTrain_loss_mri: 0.0500 | Train_acc_mri: 98.4375 | Train_loss_dna: 0.9104 | Train_acc_dna: 68.4606 | Validation_loss_mri: 6.9660 | Validation_acc_mri: 51.0417 | Validation_loss_dna: 5.3187 | Validation_acc_dna: 9.3750\n",
      "\u001b[36m(launch_and_fit pid=13815)\u001b[0m [Client 1, round 19] fit, config: {'learning_rate': 0.003, 'batch_size': '32', 'server_round': 19, 'local_epochs': 10}\n",
      "\u001b[36m(launch_and_fit pid=13815)\u001b[0m Updated model\n"
     ]
    },
    {
     "name": "stderr",
     "output_type": "stream",
     "text": [
      "  0%|\u001b[34m          \u001b[0m| 0/10 [00:00<?, ?it/s]\n",
      " 10%|\u001b[34m█         \u001b[0m| 1/10 [00:04<00:40,  4.55s/it]\u001b[32m [repeated 2x across cluster]\u001b[0m\n"
     ]
    },
    {
     "name": "stdout",
     "output_type": "stream",
     "text": [
      "\u001b[36m(launch_and_fit pid=13813)\u001b[0m \tTrain Epoch: 3 \tTrain_loss_mri: 0.0521 | Train_acc_mri: 99.0625 | Train_loss_dna: 0.3679 | Train_acc_dna: 86.3889 | Validation_loss_mri: 1.1401 | Validation_acc_mri: 82.8125 | Validation_loss_dna: 8.7557 | Validation_acc_dna: 26.0417\u001b[32m [repeated 3x across cluster]\u001b[0m\n"
     ]
    },
    {
     "name": "stderr",
     "output_type": "stream",
     "text": [
      " 30%|\u001b[34m███       \u001b[0m| 3/10 [00:12<00:29,  4.20s/it]\u001b[32m [repeated 3x across cluster]\u001b[0m\n"
     ]
    },
    {
     "name": "stdout",
     "output_type": "stream",
     "text": [
      "\u001b[36m(launch_and_fit pid=13813)\u001b[0m \tTrain Epoch: 5 \tTrain_loss_mri: 0.0290 | Train_acc_mri: 99.0625 | Train_loss_dna: 0.1358 | Train_acc_dna: 96.5625 | Validation_loss_mri: 0.8844 | Validation_acc_mri: 85.9375 | Validation_loss_dna: 11.8700 | Validation_acc_dna: 7.8125\u001b[32m [repeated 4x across cluster]\u001b[0m\n"
     ]
    },
    {
     "name": "stderr",
     "output_type": "stream",
     "text": [
      " 50%|\u001b[34m█████     \u001b[0m| 5/10 [00:21<00:20,  4.20s/it]\u001b[32m [repeated 4x across cluster]\u001b[0m\n"
     ]
    },
    {
     "name": "stdout",
     "output_type": "stream",
     "text": [
      "\u001b[36m(launch_and_fit pid=13813)\u001b[0m \tTrain Epoch: 7 \tTrain_loss_mri: 0.0114 | Train_acc_mri: 99.6875 | Train_loss_dna: 0.0914 | Train_acc_dna: 98.0671 | Validation_loss_mri: 0.9059 | Validation_acc_mri: 87.5000 | Validation_loss_dna: 10.7478 | Validation_acc_dna: 24.4792\u001b[32m [repeated 4x across cluster]\u001b[0m\n"
     ]
    },
    {
     "name": "stderr",
     "output_type": "stream",
     "text": [
      " 70%|\u001b[34m███████   \u001b[0m| 7/10 [00:29<00:12,  4.11s/it]\u001b[32m [repeated 4x across cluster]\u001b[0m\n"
     ]
    },
    {
     "name": "stdout",
     "output_type": "stream",
     "text": [
      "\u001b[36m(launch_and_fit pid=13813)\u001b[0m \tTrain Epoch: 9 \tTrain_loss_mri: 0.0111 | Train_acc_mri: 99.3750 | Train_loss_dna: 0.0828 | Train_acc_dna: 98.3796 | Validation_loss_mri: 1.0605 | Validation_acc_mri: 87.5000 | Validation_loss_dna: 10.4936 | Validation_acc_dna: 24.4792\u001b[32m [repeated 4x across cluster]\u001b[0m\n"
     ]
    },
    {
     "name": "stderr",
     "output_type": "stream",
     "text": [
      " 90%|\u001b[34m█████████ \u001b[0m| 9/10 [00:37<00:04,  4.04s/it]\u001b[32m [repeated 4x across cluster]\u001b[0m\n"
     ]
    },
    {
     "name": "stdout",
     "output_type": "stream",
     "text": [
      "\u001b[36m(launch_and_fit pid=13813)\u001b[0m save graph in  results/FL/\n",
      "\u001b[36m(launch_and_fit pid=13887)\u001b[0m Run WITHOUT homomorphic encryption\n",
      "\u001b[36m(launch_and_fit pid=13887)\u001b[0m  To get the checkpoint\n",
      "\u001b[36m(launch_and_fit pid=13815)\u001b[0m \tTrain Epoch: 10 \tTrain_loss_mri: 0.0080 | Train_acc_mri: 99.6875 | Train_loss_dna: 0.0571 | Train_acc_dna: 99.0625 | Validation_loss_mri: 8.3344 | Validation_acc_mri: 64.5833 | Validation_loss_dna: 6.2545 | Validation_acc_dna: 10.9375\u001b[32m [repeated 3x across cluster]\u001b[0m\n",
      "\u001b[36m(launch_and_fit pid=13815)\u001b[0m save graph in  results/FL/\n",
      "\u001b[36m(launch_and_fit pid=13887)\u001b[0m [Client 6, round 19] fit, config: {'learning_rate': 0.003, 'batch_size': '32', 'server_round': 19, 'local_epochs': 10}\n",
      "\u001b[36m(launch_and_fit pid=13887)\u001b[0m Updated model\n"
     ]
    },
    {
     "name": "stderr",
     "output_type": "stream",
     "text": [
      "  0%|\u001b[34m          \u001b[0m| 0/10 [00:00<?, ?it/s]\n",
      "100%|\u001b[34m██████████\u001b[0m| 10/10 [00:41<00:00,  4.14s/it]\u001b[32m [repeated 3x across cluster]\u001b[0m\n",
      "  0%|\u001b[34m          \u001b[0m| 0/10 [00:00<?, ?it/s]\n",
      " 10%|\u001b[34m█         \u001b[0m| 1/10 [00:04<00:41,  4.56s/it]\u001b[32m [repeated 2x across cluster]\u001b[0m\n"
     ]
    },
    {
     "name": "stdout",
     "output_type": "stream",
     "text": [
      "\u001b[36m(launch_and_fit pid=13912)\u001b[0m Run WITHOUT homomorphic encryption\n",
      "\u001b[36m(launch_and_fit pid=13912)\u001b[0m  To get the checkpoint\n",
      "\u001b[36m(launch_and_fit pid=13912)\u001b[0m \tTrain Epoch: 1 \tTrain_loss_mri: 0.0318 | Train_acc_mri: 98.6921 | Train_loss_dna: 0.8036 | Train_acc_dna: 72.9745 | Validation_loss_mri: 0.3545 | Validation_acc_mri: 95.3125 | Validation_loss_dna: 5.1525 | Validation_acc_dna: 27.6042\u001b[32m [repeated 2x across cluster]\u001b[0m\n",
      "\u001b[36m(launch_and_fit pid=13912)\u001b[0m [Client 8, round 19] fit, config: {'learning_rate': 0.003, 'batch_size': '32', 'server_round': 19, 'local_epochs': 10}\n",
      "\u001b[36m(launch_and_fit pid=13912)\u001b[0m Updated model\n",
      "\u001b[36m(launch_and_fit pid=13887)\u001b[0m \tTrain Epoch: 3 \tTrain_loss_mri: 0.0332 | Train_acc_mri: 99.0625 | Train_loss_dna: 0.3374 | Train_acc_dna: 88.6343 | Validation_loss_mri: 2.6245 | Validation_acc_mri: 42.1875 | Validation_loss_dna: 5.1494 | Validation_acc_dna: 9.3750\u001b[32m [repeated 3x across cluster]\u001b[0m\n"
     ]
    },
    {
     "name": "stderr",
     "output_type": "stream",
     "text": [
      " 30%|\u001b[34m███       \u001b[0m| 3/10 [00:12<00:28,  4.13s/it]\u001b[32m [repeated 3x across cluster]\u001b[0m\n"
     ]
    },
    {
     "name": "stdout",
     "output_type": "stream",
     "text": [
      "\u001b[36m(launch_and_fit pid=13887)\u001b[0m \tTrain Epoch: 5 \tTrain_loss_mri: 0.0348 | Train_acc_mri: 99.3750 | Train_loss_dna: 0.1751 | Train_acc_dna: 95.8218 | Validation_loss_mri: 2.4400 | Validation_acc_mri: 55.7292 | Validation_loss_dna: 5.4041 | Validation_acc_dna: 6.2500\u001b[32m [repeated 4x across cluster]\u001b[0m\n"
     ]
    },
    {
     "name": "stderr",
     "output_type": "stream",
     "text": [
      " 50%|\u001b[34m█████     \u001b[0m| 5/10 [00:20<00:20,  4.05s/it]\u001b[32m [repeated 4x across cluster]\u001b[0m\n",
      " 60%|\u001b[34m██████    \u001b[0m| 6/10 [00:25<00:16,  4.16s/it]\u001b[32m [repeated 3x across cluster]\u001b[0m\n"
     ]
    },
    {
     "name": "stdout",
     "output_type": "stream",
     "text": [
      "\u001b[36m(launch_and_fit pid=13912)\u001b[0m \tTrain Epoch: 6 \tTrain_loss_mri: 0.0110 | Train_acc_mri: 100.0000 | Train_loss_dna: 0.1273 | Train_acc_dna: 98.3796 | Validation_loss_mri: 0.6629 | Validation_acc_mri: 77.0833 | Validation_loss_dna: 5.1151 | Validation_acc_dna: 27.6042\u001b[32m [repeated 3x across cluster]\u001b[0m\n",
      "\u001b[36m(launch_and_fit pid=13887)\u001b[0m \tTrain Epoch: 8 \tTrain_loss_mri: 0.0034 | Train_acc_mri: 100.0000 | Train_loss_dna: 0.1034 | Train_acc_dna: 96.8750 | Validation_loss_mri: 2.0494 | Validation_acc_mri: 69.2708 | Validation_loss_dna: 6.0262 | Validation_acc_dna: 12.5000\u001b[32m [repeated 3x across cluster]\u001b[0m\n"
     ]
    },
    {
     "name": "stderr",
     "output_type": "stream",
     "text": [
      " 80%|\u001b[34m████████  \u001b[0m| 8/10 [00:32<00:08,  4.08s/it]\u001b[32m [repeated 3x across cluster]\u001b[0m\n"
     ]
    },
    {
     "name": "stdout",
     "output_type": "stream",
     "text": [
      "\u001b[36m(launch_and_fit pid=13912)\u001b[0m \tTrain Epoch: 9 \tTrain_loss_mri: 0.0077 | Train_acc_mri: 99.6296 | Train_loss_dna: 0.1004 | Train_acc_dna: 97.0718 | Validation_loss_mri: 0.7326 | Validation_acc_mri: 78.6458 | Validation_loss_dna: 5.5269 | Validation_acc_dna: 27.6042\u001b[32m [repeated 3x across cluster]\u001b[0m\n",
      "\u001b[36m(launch_and_fit pid=13887)\u001b[0m save graph in  results/FL/\n"
     ]
    },
    {
     "name": "stderr",
     "output_type": "stream",
     "text": [
      "100%|\u001b[34m██████████\u001b[0m| 10/10 [00:40<00:00,  4.09s/it]\u001b[32m [repeated 4x across cluster]\u001b[0m\n"
     ]
    },
    {
     "name": "stdout",
     "output_type": "stream",
     "text": [
      "\u001b[36m(launch_and_fit pid=13961)\u001b[0m Run WITHOUT homomorphic encryption\n",
      "\u001b[36m(launch_and_fit pid=13961)\u001b[0m  To get the checkpoint\n",
      "\u001b[36m(launch_and_fit pid=13912)\u001b[0m \tTrain Epoch: 10 \tTrain_loss_mri: 0.0052 | Train_acc_mri: 100.0000 | Train_loss_dna: 0.0835 | Train_acc_dna: 97.7546 | Validation_loss_mri: 1.0162 | Validation_acc_mri: 77.0833 | Validation_loss_dna: 6.1397 | Validation_acc_dna: 27.6042\u001b[32m [repeated 2x across cluster]\u001b[0m\n",
      "\u001b[36m(launch_and_fit pid=13912)\u001b[0m save graph in  results/FL/\n",
      "\u001b[36m(launch_and_fit pid=13961)\u001b[0m [Client 2, round 19] fit, config: {'learning_rate': 0.003, 'batch_size': '32', 'server_round': 19, 'local_epochs': 10}\n",
      "\u001b[36m(launch_and_fit pid=13961)\u001b[0m Updated model\n"
     ]
    },
    {
     "name": "stderr",
     "output_type": "stream",
     "text": [
      "  0%|\u001b[34m          \u001b[0m| 0/10 [00:00<?, ?it/s]\n",
      "100%|\u001b[34m██████████\u001b[0m| 10/10 [00:41<00:00,  4.14s/it]\n"
     ]
    },
    {
     "name": "stdout",
     "output_type": "stream",
     "text": [
      "\u001b[36m(launch_and_fit pid=13986)\u001b[0m Run WITHOUT homomorphic encryption\n",
      "\u001b[36m(launch_and_fit pid=13986)\u001b[0m  To get the checkpoint\n",
      "\u001b[36m(launch_and_fit pid=13961)\u001b[0m \tTrain Epoch: 1 \tTrain_loss_mri: 0.0469 | Train_acc_mri: 98.1250 | Train_loss_dna: 0.8088 | Train_acc_dna: 73.7153 | Validation_loss_mri: 0.9945 | Validation_acc_mri: 70.8333 | Validation_loss_dna: 6.4241 | Validation_acc_dna: 6.2500\n"
     ]
    },
    {
     "name": "stderr",
     "output_type": "stream",
     "text": [
      " 10%|\u001b[34m█         \u001b[0m| 1/10 [00:04<00:44,  4.96s/it]\n"
     ]
    },
    {
     "name": "stdout",
     "output_type": "stream",
     "text": [
      "\u001b[36m(launch_and_fit pid=13986)\u001b[0m \tTrain Epoch: 1 \tTrain_loss_mri: 0.0571 | Train_acc_mri: 97.7546 | Train_loss_dna: 0.8716 | Train_acc_dna: 69.8495 | Validation_loss_mri: 1.4415 | Validation_acc_mri: 58.8542 | Validation_loss_dna: 7.9510 | Validation_acc_dna: 7.8125\n",
      "\u001b[36m(launch_and_fit pid=13986)\u001b[0m [Client 5, round 19] fit, config: {'learning_rate': 0.003, 'batch_size': '32', 'server_round': 19, 'local_epochs': 10}\n",
      "\u001b[36m(launch_and_fit pid=13986)\u001b[0m Updated model\n"
     ]
    },
    {
     "name": "stderr",
     "output_type": "stream",
     "text": [
      "  0%|\u001b[34m          \u001b[0m| 0/10 [00:00<?, ?it/s]\n"
     ]
    },
    {
     "name": "stdout",
     "output_type": "stream",
     "text": [
      "\u001b[36m(launch_and_fit pid=13961)\u001b[0m \tTrain Epoch: 3 \tTrain_loss_mri: 0.0196 | Train_acc_mri: 99.6875 | Train_loss_dna: 0.2949 | Train_acc_dna: 91.0185 | Validation_loss_mri: 0.5802 | Validation_acc_mri: 89.0625 | Validation_loss_dna: 4.4092 | Validation_acc_dna: 4.6875\u001b[32m [repeated 3x across cluster]\u001b[0m\n"
     ]
    },
    {
     "name": "stderr",
     "output_type": "stream",
     "text": [
      " 30%|\u001b[34m███       \u001b[0m| 3/10 [00:12<00:29,  4.22s/it]\u001b[32m [repeated 4x across cluster]\u001b[0m\n"
     ]
    },
    {
     "name": "stdout",
     "output_type": "stream",
     "text": [
      "\u001b[36m(launch_and_fit pid=13961)\u001b[0m \tTrain Epoch: 5 \tTrain_loss_mri: 0.0248 | Train_acc_mri: 99.3750 | Train_loss_dna: 0.1283 | Train_acc_dna: 96.5625 | Validation_loss_mri: 1.2805 | Validation_acc_mri: 67.7083 | Validation_loss_dna: 4.3132 | Validation_acc_dna: 6.2500\u001b[32m [repeated 4x across cluster]\u001b[0m\n"
     ]
    },
    {
     "name": "stderr",
     "output_type": "stream",
     "text": [
      " 50%|\u001b[34m█████     \u001b[0m| 5/10 [00:21<00:20,  4.12s/it]\u001b[32m [repeated 4x across cluster]\u001b[0m\n"
     ]
    },
    {
     "name": "stdout",
     "output_type": "stream",
     "text": [
      "\u001b[36m(launch_and_fit pid=13961)\u001b[0m \tTrain Epoch: 7 \tTrain_loss_mri: 0.0104 | Train_acc_mri: 100.0000 | Train_loss_dna: 0.0623 | Train_acc_dna: 99.6875 | Validation_loss_mri: 0.9461 | Validation_acc_mri: 69.2708 | Validation_loss_dna: 4.4655 | Validation_acc_dna: 4.6875\u001b[32m [repeated 4x across cluster]\u001b[0m\n"
     ]
    },
    {
     "name": "stderr",
     "output_type": "stream",
     "text": [
      " 70%|\u001b[34m███████   \u001b[0m| 7/10 [00:29<00:12,  4.09s/it]\u001b[32m [repeated 4x across cluster]\u001b[0m\n"
     ]
    },
    {
     "name": "stdout",
     "output_type": "stream",
     "text": [
      "\u001b[36m(launch_and_fit pid=13986)\u001b[0m \tTrain Epoch: 9 \tTrain_loss_mri: 0.0116 | Train_acc_mri: 99.6875 | Train_loss_dna: 0.0513 | Train_acc_dna: 99.0625 | Validation_loss_mri: 2.8883 | Validation_acc_mri: 55.7292 | Validation_loss_dna: 6.9756 | Validation_acc_dna: 9.3750\u001b[32m [repeated 4x across cluster]\u001b[0m\n"
     ]
    },
    {
     "name": "stderr",
     "output_type": "stream",
     "text": [
      " 90%|\u001b[34m█████████ \u001b[0m| 9/10 [00:36<00:03,  4.00s/it]\u001b[32m [repeated 4x across cluster]\u001b[0m\n"
     ]
    },
    {
     "name": "stdout",
     "output_type": "stream",
     "text": [
      "\u001b[36m(launch_and_fit pid=13986)\u001b[0m save graph in  results/FL/\n",
      "\u001b[36m(launch_and_fit pid=14035)\u001b[0m Run WITHOUT homomorphic encryption\n",
      "\u001b[36m(launch_and_fit pid=14035)\u001b[0m  To get the checkpoint\n",
      "\u001b[36m(launch_and_fit pid=13961)\u001b[0m \tTrain Epoch: 10 \tTrain_loss_mri: 0.0020 | Train_acc_mri: 100.0000 | Train_loss_dna: 0.0255 | Train_acc_dna: 100.0000 | Validation_loss_mri: 0.6817 | Validation_acc_mri: 87.5000 | Validation_loss_dna: 4.7616 | Validation_acc_dna: 3.1250\u001b[32m [repeated 3x across cluster]\u001b[0m\n",
      "\u001b[36m(launch_and_fit pid=13961)\u001b[0m save graph in  results/FL/\n"
     ]
    },
    {
     "name": "stderr",
     "output_type": "stream",
     "text": [
      "  0%|\u001b[34m          \u001b[0m| 0/10 [00:00<?, ?it/s]\n",
      "100%|\u001b[34m██████████\u001b[0m| 10/10 [00:41<00:00,  4.18s/it]\u001b[32m [repeated 3x across cluster]\u001b[0m\n"
     ]
    },
    {
     "name": "stdout",
     "output_type": "stream",
     "text": [
      "\u001b[36m(launch_and_fit pid=14035)\u001b[0m [Client 0, round 19] fit, config: {'learning_rate': 0.003, 'batch_size': '32', 'server_round': 19, 'local_epochs': 10}\n",
      "\u001b[36m(launch_and_fit pid=14035)\u001b[0m Updated model\n",
      "\u001b[36m(launch_and_fit pid=14037)\u001b[0m Run WITHOUT homomorphic encryption\n",
      "\u001b[36m(launch_and_fit pid=14037)\u001b[0m  To get the checkpoint\n",
      "\u001b[36m(launch_and_fit pid=14037)\u001b[0m \tTrain Epoch: 1 \tTrain_loss_mri: 0.0254 | Train_acc_mri: 99.3750 | Train_loss_dna: 1.0298 | Train_acc_dna: 67.7199 | Validation_loss_mri: 1.9481 | Validation_acc_mri: 85.9375 | Validation_loss_dna: 3.6032 | Validation_acc_dna: 32.2917\u001b[32m [repeated 2x across cluster]\u001b[0m\n"
     ]
    },
    {
     "name": "stderr",
     "output_type": "stream",
     "text": [
      "  0%|\u001b[34m          \u001b[0m| 0/10 [00:00<?, ?it/s]\n",
      " 20%|\u001b[34m██        \u001b[0m| 2/10 [00:08<00:33,  4.18s/it]\u001b[32m [repeated 3x across cluster]\u001b[0m\n"
     ]
    },
    {
     "name": "stdout",
     "output_type": "stream",
     "text": [
      "\u001b[36m(launch_and_fit pid=14037)\u001b[0m [Client 4, round 19] fit, config: {'learning_rate': 0.003, 'batch_size': '32', 'server_round': 19, 'local_epochs': 10}\n",
      "\u001b[36m(launch_and_fit pid=14037)\u001b[0m Updated model\n",
      "\u001b[36m(launch_and_fit pid=14037)\u001b[0m \tTrain Epoch: 3 \tTrain_loss_mri: 0.0686 | Train_acc_mri: 97.5000 | Train_loss_dna: 0.4129 | Train_acc_dna: 85.1389 | Validation_loss_mri: 2.6364 | Validation_acc_mri: 82.8125 | Validation_loss_dna: 4.6056 | Validation_acc_dna: 26.0417\u001b[32m [repeated 3x across cluster]\u001b[0m\n"
     ]
    },
    {
     "name": "stderr",
     "output_type": "stream",
     "text": [
      " 40%|\u001b[34m████      \u001b[0m| 4/10 [00:16<00:24,  4.08s/it]\u001b[32m [repeated 4x across cluster]\u001b[0m\n"
     ]
    },
    {
     "name": "stdout",
     "output_type": "stream",
     "text": [
      "\u001b[36m(launch_and_fit pid=14035)\u001b[0m \tTrain Epoch: 5 \tTrain_loss_mri: 0.0216 | Train_acc_mri: 99.3750 | Train_loss_dna: 0.1352 | Train_acc_dna: 96.5046 | Validation_loss_mri: 1.8995 | Validation_acc_mri: 70.8333 | Validation_loss_dna: 3.6122 | Validation_acc_dna: 27.6042\u001b[32m [repeated 4x across cluster]\u001b[0m\n"
     ]
    },
    {
     "name": "stderr",
     "output_type": "stream",
     "text": [
      " 60%|\u001b[34m██████    \u001b[0m| 6/10 [00:24<00:16,  4.01s/it]\u001b[32m [repeated 4x across cluster]\u001b[0m\n"
     ]
    },
    {
     "name": "stdout",
     "output_type": "stream",
     "text": [
      "\u001b[36m(launch_and_fit pid=14037)\u001b[0m \tTrain Epoch: 7 \tTrain_loss_mri: 0.0207 | Train_acc_mri: 99.3750 | Train_loss_dna: 0.1879 | Train_acc_dna: 94.6296 | Validation_loss_mri: 2.5323 | Validation_acc_mri: 69.2708 | Validation_loss_dna: 3.2433 | Validation_acc_dna: 27.6042\u001b[32m [repeated 4x across cluster]\u001b[0m\n"
     ]
    },
    {
     "name": "stderr",
     "output_type": "stream",
     "text": [
      " 80%|\u001b[34m████████  \u001b[0m| 8/10 [00:32<00:07,  3.92s/it]\u001b[32m [repeated 4x across cluster]\u001b[0m\n"
     ]
    },
    {
     "name": "stdout",
     "output_type": "stream",
     "text": [
      "\u001b[36m(launch_and_fit pid=14037)\u001b[0m \tTrain Epoch: 9 \tTrain_loss_mri: 0.0160 | Train_acc_mri: 99.6875 | Train_loss_dna: 0.1122 | Train_acc_dna: 97.4421 | Validation_loss_mri: 2.3854 | Validation_acc_mri: 70.8333 | Validation_loss_dna: 3.3427 | Validation_acc_dna: 27.6042\u001b[32m [repeated 4x across cluster]\u001b[0m\n"
     ]
    },
    {
     "name": "stderr",
     "output_type": "stream",
     "text": [
      "100%|\u001b[34m██████████\u001b[0m| 10/10 [00:40<00:00,  4.02s/it]\u001b[32m [repeated 4x across cluster]\u001b[0m\n"
     ]
    },
    {
     "name": "stdout",
     "output_type": "stream",
     "text": [
      "\u001b[36m(launch_and_fit pid=14037)\u001b[0m save graph in  results/FL/\n"
     ]
    },
    {
     "name": "stderr",
     "output_type": "stream",
     "text": [
      "DEBUG flwr 2024-08-05 12:45:33,042 | server.py:236 | fit_round 19 received 10 results and 0 failures\n"
     ]
    },
    {
     "name": "stdout",
     "output_type": "stream",
     "text": [
      "Saving round 19 aggregated_parameters...\n",
      "Updated model\n"
     ]
    },
    {
     "name": "stderr",
     "output_type": "stream",
     "text": [
      "INFO flwr 2024-08-05 12:45:39,642 | server.py:125 | fit progress: (19, (1.388863852513688, 4.807890926088605), {'accuracy': (80.72916666666667, 15.25297619047619)}, 6398.777403591)\n",
      "DEBUG flwr 2024-08-05 12:45:39,643 | server.py:173 | evaluate_round 19: strategy sampled 10 clients (out of 10)\n"
     ]
    },
    {
     "name": "stdout",
     "output_type": "stream",
     "text": [
      "Server-side evaluation MRI loss 1.388863852513688 / MRI accuracy 80.72916666666667\n",
      "Server-side evaluation DNA loss 4.807890926088605 / DNA accuracy 15.25297619047619\n",
      "\u001b[36m(launch_and_evaluate pid=14118)\u001b[0m Run WITHOUT homomorphic encryption\n",
      "\u001b[36m(launch_and_evaluate pid=14118)\u001b[0m  To get the checkpoint\n",
      "\u001b[36m(launch_and_fit pid=14035)\u001b[0m \tTrain Epoch: 10 \tTrain_loss_mri: 0.0082 | Train_acc_mri: 99.3750 | Train_loss_dna: 0.0488 | Train_acc_dna: 99.0625 | Validation_loss_mri: 2.3019 | Validation_acc_mri: 72.3958 | Validation_loss_dna: 3.4703 | Validation_acc_dna: 9.3750\u001b[32m [repeated 3x across cluster]\u001b[0m\n",
      "\u001b[36m(launch_and_fit pid=14035)\u001b[0m save graph in  results/FL/\n",
      "\u001b[36m(launch_and_evaluate pid=14118)\u001b[0m [Client 5] evaluate, config: {}\n",
      "\u001b[36m(launch_and_evaluate pid=14118)\u001b[0m Updated model\n",
      "\u001b[36m(launch_and_evaluate pid=14189)\u001b[0m Run WITHOUT homomorphic encryption\u001b[32m [repeated 2x across cluster]\u001b[0m\n",
      "\u001b[36m(launch_and_evaluate pid=14189)\u001b[0m  To get the checkpoint\u001b[32m [repeated 2x across cluster]\u001b[0m\n",
      "\u001b[36m(launch_and_evaluate pid=14119)\u001b[0m [Client 6] evaluate, config: {}\n",
      "\u001b[36m(launch_and_evaluate pid=14119)\u001b[0m Updated model\n",
      "\u001b[36m(launch_and_evaluate pid=14189)\u001b[0m [Client 3] evaluate, config: {}\n",
      "\u001b[36m(launch_and_evaluate pid=14189)\u001b[0m Updated model\n",
      "\u001b[36m(launch_and_evaluate pid=14259)\u001b[0m Run WITHOUT homomorphic encryption\u001b[32m [repeated 2x across cluster]\u001b[0m\n",
      "\u001b[36m(launch_and_evaluate pid=14259)\u001b[0m  To get the checkpoint\u001b[32m [repeated 2x across cluster]\u001b[0m\n",
      "\u001b[36m(launch_and_evaluate pid=14191)\u001b[0m [Client 7] evaluate, config: {}\n",
      "\u001b[36m(launch_and_evaluate pid=14191)\u001b[0m Updated model\n",
      "\u001b[36m(launch_and_evaluate pid=14259)\u001b[0m [Client 4] evaluate, config: {}\n",
      "\u001b[36m(launch_and_evaluate pid=14259)\u001b[0m Updated model\n"
     ]
    },
    {
     "name": "stderr",
     "output_type": "stream",
     "text": [
      "\u001b[36m(launch_and_evaluate pid=14259)\u001b[0m /opt/conda/lib/python3.10/site-packages/sklearn/metrics/_ranking.py:1029: UndefinedMetricWarning: No positive samples in y_true, true positive value should be meaningless\n",
      "\u001b[36m(launch_and_evaluate pid=14259)\u001b[0m   warnings.warn(\n",
      "100%|\u001b[34m██████████\u001b[0m| 10/10 [00:40<00:00,  4.05s/it]\n"
     ]
    },
    {
     "name": "stdout",
     "output_type": "stream",
     "text": [
      "\u001b[36m(launch_and_evaluate pid=14329)\u001b[0m Run WITHOUT homomorphic encryption\u001b[32m [repeated 2x across cluster]\u001b[0m\n",
      "\u001b[36m(launch_and_evaluate pid=14329)\u001b[0m  To get the checkpoint\u001b[32m [repeated 2x across cluster]\u001b[0m\n",
      "\u001b[36m(launch_and_evaluate pid=14261)\u001b[0m [Client 1] evaluate, config: {}\n",
      "\u001b[36m(launch_and_evaluate pid=14261)\u001b[0m Updated model\n",
      "\u001b[36m(launch_and_evaluate pid=14329)\u001b[0m [Client 0] evaluate, config: {}\n",
      "\u001b[36m(launch_and_evaluate pid=14329)\u001b[0m Updated model\n"
     ]
    },
    {
     "name": "stderr",
     "output_type": "stream",
     "text": [
      "\u001b[36m(launch_and_evaluate pid=14331)\u001b[0m /opt/conda/lib/python3.10/site-packages/sklearn/metrics/_ranking.py:1029: UndefinedMetricWarning: No positive samples in y_true, true positive value should be meaningless\n",
      "\u001b[36m(launch_and_evaluate pid=14331)\u001b[0m   warnings.warn(\n"
     ]
    },
    {
     "name": "stdout",
     "output_type": "stream",
     "text": [
      "\u001b[36m(launch_and_evaluate pid=14399)\u001b[0m Run WITHOUT homomorphic encryption\u001b[32m [repeated 2x across cluster]\u001b[0m\n",
      "\u001b[36m(launch_and_evaluate pid=14399)\u001b[0m  To get the checkpoint\u001b[32m [repeated 2x across cluster]\u001b[0m\n",
      "\u001b[36m(launch_and_evaluate pid=14331)\u001b[0m [Client 8] evaluate, config: {}\n",
      "\u001b[36m(launch_and_evaluate pid=14331)\u001b[0m Updated model\n",
      "\u001b[36m(launch_and_evaluate pid=14399)\u001b[0m [Client 9] evaluate, config: {}\n",
      "\u001b[36m(launch_and_evaluate pid=14399)\u001b[0m Updated model\n"
     ]
    },
    {
     "name": "stderr",
     "output_type": "stream",
     "text": [
      "\u001b[36m(launch_and_evaluate pid=14399)\u001b[0m /opt/conda/lib/python3.10/site-packages/sklearn/metrics/_ranking.py:1029: UndefinedMetricWarning: No positive samples in y_true, true positive value should be meaningless\n",
      "\u001b[36m(launch_and_evaluate pid=14399)\u001b[0m   warnings.warn(\n",
      "DEBUG flwr 2024-08-05 12:46:48,787 | server.py:187 | evaluate_round 19 received 10 results and 0 failures\n",
      "DEBUG flwr 2024-08-05 12:46:48,788 | server.py:222 | fit_round 20: strategy sampled 10 clients (out of 10)\n"
     ]
    },
    {
     "name": "stdout",
     "output_type": "stream",
     "text": [
      "\u001b[36m(launch_and_fit pid=14479)\u001b[0m Run WITHOUT homomorphic encryption\u001b[32m [repeated 2x across cluster]\u001b[0m\n",
      "\u001b[36m(launch_and_fit pid=14479)\u001b[0m  To get the checkpoint\u001b[32m [repeated 2x across cluster]\u001b[0m\n",
      "\u001b[36m(launch_and_evaluate pid=14401)\u001b[0m [Client 2] evaluate, config: {}\n",
      "\u001b[36m(launch_and_evaluate pid=14401)\u001b[0m Updated model\n",
      "\u001b[36m(launch_and_fit pid=14479)\u001b[0m [Client 8, round 20] fit, config: {'learning_rate': 0.003, 'batch_size': '32', 'server_round': 20, 'local_epochs': 10}\n",
      "\u001b[36m(launch_and_fit pid=14479)\u001b[0m Updated model\n"
     ]
    },
    {
     "name": "stderr",
     "output_type": "stream",
     "text": [
      "  0%|\u001b[34m          \u001b[0m| 0/10 [00:00<?, ?it/s]\n"
     ]
    },
    {
     "name": "stdout",
     "output_type": "stream",
     "text": [
      "\u001b[36m(launch_and_fit pid=14479)\u001b[0m \tTrain Epoch: 1 \tTrain_loss_mri: 0.0363 | Train_acc_mri: 99.0625 | Train_loss_dna: 0.6419 | Train_acc_dna: 75.1389 | Validation_loss_mri: 1.2539 | Validation_acc_mri: 77.0833 | Validation_loss_dna: 5.5873 | Validation_acc_dna: 29.1667\n",
      "\u001b[36m(launch_and_fit pid=14478)\u001b[0m Run WITHOUT homomorphic encryption\n",
      "\u001b[36m(launch_and_fit pid=14478)\u001b[0m  To get the checkpoint\n"
     ]
    },
    {
     "name": "stderr",
     "output_type": "stream",
     "text": [
      " 10%|\u001b[34m█         \u001b[0m| 1/10 [00:04<00:41,  4.62s/it]\n"
     ]
    },
    {
     "name": "stdout",
     "output_type": "stream",
     "text": [
      "\u001b[36m(launch_and_fit pid=14478)\u001b[0m [Client 7, round 20] fit, config: {'learning_rate': 0.003, 'batch_size': '32', 'server_round': 20, 'local_epochs': 10}\n",
      "\u001b[36m(launch_and_fit pid=14478)\u001b[0m Updated model\n"
     ]
    },
    {
     "name": "stderr",
     "output_type": "stream",
     "text": [
      "  0%|\u001b[34m          \u001b[0m| 0/10 [00:00<?, ?it/s]\n"
     ]
    },
    {
     "name": "stdout",
     "output_type": "stream",
     "text": [
      "\u001b[36m(launch_and_fit pid=14478)\u001b[0m \tTrain Epoch: 3 \tTrain_loss_mri: 0.0622 | Train_acc_mri: 96.8171 | Train_loss_dna: 0.3659 | Train_acc_dna: 87.8935 | Validation_loss_mri: 0.3825 | Validation_acc_mri: 93.7500 | Validation_loss_dna: 4.3146 | Validation_acc_dna: 4.6875\u001b[32m [repeated 4x across cluster]\u001b[0m\n"
     ]
    },
    {
     "name": "stderr",
     "output_type": "stream",
     "text": [
      " 30%|\u001b[34m███       \u001b[0m| 3/10 [00:12<00:29,  4.28s/it]\u001b[32m [repeated 4x across cluster]\u001b[0m\n"
     ]
    },
    {
     "name": "stdout",
     "output_type": "stream",
     "text": [
      "\u001b[36m(launch_and_fit pid=14478)\u001b[0m \tTrain Epoch: 5 \tTrain_loss_mri: 0.0326 | Train_acc_mri: 99.0625 | Train_loss_dna: 0.1185 | Train_acc_dna: 98.0671 | Validation_loss_mri: 0.2700 | Validation_acc_mri: 95.3125 | Validation_loss_dna: 5.2701 | Validation_acc_dna: 7.8125\u001b[32m [repeated 4x across cluster]\u001b[0m\n"
     ]
    },
    {
     "name": "stderr",
     "output_type": "stream",
     "text": [
      " 50%|\u001b[34m█████     \u001b[0m| 5/10 [00:20<00:20,  4.11s/it]\u001b[32m [repeated 4x across cluster]\u001b[0m\n"
     ]
    },
    {
     "name": "stdout",
     "output_type": "stream",
     "text": [
      "\u001b[36m(launch_and_fit pid=14478)\u001b[0m \tTrain Epoch: 7 \tTrain_loss_mri: 0.0094 | Train_acc_mri: 99.6875 | Train_loss_dna: 0.0628 | Train_acc_dna: 99.3171 | Validation_loss_mri: 0.3669 | Validation_acc_mri: 95.3125 | Validation_loss_dna: 5.9208 | Validation_acc_dna: 7.8125\u001b[32m [repeated 4x across cluster]\u001b[0m\n"
     ]
    },
    {
     "name": "stderr",
     "output_type": "stream",
     "text": [
      " 70%|\u001b[34m███████   \u001b[0m| 7/10 [00:28<00:12,  4.05s/it]\u001b[32m [repeated 4x across cluster]\u001b[0m\n"
     ]
    },
    {
     "name": "stdout",
     "output_type": "stream",
     "text": [
      "\u001b[36m(launch_and_fit pid=14478)\u001b[0m \tTrain Epoch: 9 \tTrain_loss_mri: 0.0023 | Train_acc_mri: 100.0000 | Train_loss_dna: 0.0425 | Train_acc_dna: 99.0625 | Validation_loss_mri: 0.3953 | Validation_acc_mri: 93.7500 | Validation_loss_dna: 6.7919 | Validation_acc_dna: 6.2500\u001b[32m [repeated 4x across cluster]\u001b[0m\n"
     ]
    },
    {
     "name": "stderr",
     "output_type": "stream",
     "text": [
      " 90%|\u001b[34m█████████ \u001b[0m| 9/10 [00:36<00:03,  3.98s/it]\u001b[32m [repeated 4x across cluster]\u001b[0m\n"
     ]
    },
    {
     "name": "stdout",
     "output_type": "stream",
     "text": [
      "\u001b[36m(launch_and_fit pid=14478)\u001b[0m save graph in  results/FL/\n",
      "\u001b[36m(launch_and_fit pid=14552)\u001b[0m Run WITHOUT homomorphic encryption\n",
      "\u001b[36m(launch_and_fit pid=14552)\u001b[0m  To get the checkpoint\n",
      "\u001b[36m(launch_and_fit pid=14479)\u001b[0m \tTrain Epoch: 10 \tTrain_loss_mri: 0.0095 | Train_acc_mri: 99.6875 | Train_loss_dna: 0.0767 | Train_acc_dna: 98.6921 | Validation_loss_mri: 1.2096 | Validation_acc_mri: 72.3958 | Validation_loss_dna: 5.5631 | Validation_acc_dna: 30.7292\u001b[32m [repeated 3x across cluster]\u001b[0m\n",
      "\u001b[36m(launch_and_fit pid=14479)\u001b[0m save graph in  results/FL/\n",
      "\u001b[36m(launch_and_fit pid=14552)\u001b[0m [Client 9, round 20] fit, config: {'learning_rate': 0.003, 'batch_size': '32', 'server_round': 20, 'local_epochs': 10}\n",
      "\u001b[36m(launch_and_fit pid=14552)\u001b[0m Updated model\n"
     ]
    },
    {
     "name": "stderr",
     "output_type": "stream",
     "text": [
      "  0%|\u001b[34m          \u001b[0m| 0/10 [00:00<?, ?it/s]\n",
      "100%|\u001b[34m██████████\u001b[0m| 10/10 [00:41<00:00,  4.14s/it]\u001b[32m [repeated 3x across cluster]\u001b[0m\n"
     ]
    },
    {
     "name": "stdout",
     "output_type": "stream",
     "text": [
      "\u001b[36m(launch_and_fit pid=14554)\u001b[0m Run WITHOUT homomorphic encryption\n",
      "\u001b[36m(launch_and_fit pid=14554)\u001b[0m  To get the checkpoint\n",
      "\u001b[36m(launch_and_fit pid=14554)\u001b[0m \tTrain Epoch: 1 \tTrain_loss_mri: 0.0207 | Train_acc_mri: 99.3750 | Train_loss_dna: 0.7133 | Train_acc_dna: 77.0370 | Validation_loss_mri: 1.0511 | Validation_acc_mri: 72.3958 | Validation_loss_dna: 2.8853 | Validation_acc_dna: 12.5000\u001b[32m [repeated 2x across cluster]\u001b[0m\n",
      "\u001b[36m(launch_and_fit pid=14554)\u001b[0m [Client 0, round 20] fit, config: {'learning_rate': 0.003, 'batch_size': '32', 'server_round': 20, 'local_epochs': 10}\n",
      "\u001b[36m(launch_and_fit pid=14554)\u001b[0m Updated model\n"
     ]
    },
    {
     "name": "stderr",
     "output_type": "stream",
     "text": [
      "  0%|\u001b[34m          \u001b[0m| 0/10 [00:00<?, ?it/s]\n",
      " 20%|\u001b[34m██        \u001b[0m| 2/10 [00:08<00:32,  4.07s/it]\u001b[32m [repeated 3x across cluster]\u001b[0m\n"
     ]
    },
    {
     "name": "stdout",
     "output_type": "stream",
     "text": [
      "\u001b[36m(launch_and_fit pid=14552)\u001b[0m \tTrain Epoch: 3 \tTrain_loss_mri: 0.0562 | Train_acc_mri: 98.1250 | Train_loss_dna: 0.3436 | Train_acc_dna: 88.0948 | Validation_loss_mri: 0.8602 | Validation_acc_mri: 85.9375 | Validation_loss_dna: 3.9005 | Validation_acc_dna: 10.9375\u001b[32m [repeated 3x across cluster]\u001b[0m\n"
     ]
    },
    {
     "name": "stderr",
     "output_type": "stream",
     "text": [
      " 40%|\u001b[34m████      \u001b[0m| 4/10 [00:15<00:23,  3.91s/it]\u001b[32m [repeated 4x across cluster]\u001b[0m\n"
     ]
    },
    {
     "name": "stdout",
     "output_type": "stream",
     "text": [
      "\u001b[36m(launch_and_fit pid=14552)\u001b[0m \tTrain Epoch: 5 \tTrain_loss_mri: 0.0483 | Train_acc_mri: 99.3750 | Train_loss_dna: 0.1399 | Train_acc_dna: 97.1774 | Validation_loss_mri: 0.5294 | Validation_acc_mri: 85.9375 | Validation_loss_dna: 3.8727 | Validation_acc_dna: 27.6042\u001b[32m [repeated 4x across cluster]\u001b[0m\n"
     ]
    },
    {
     "name": "stderr",
     "output_type": "stream",
     "text": [
      " 60%|\u001b[34m██████    \u001b[0m| 6/10 [00:23<00:15,  3.97s/it]\u001b[32m [repeated 4x across cluster]\u001b[0m\n"
     ]
    },
    {
     "name": "stdout",
     "output_type": "stream",
     "text": [
      "\u001b[36m(launch_and_fit pid=14552)\u001b[0m \tTrain Epoch: 7 \tTrain_loss_mri: 0.0045 | Train_acc_mri: 100.0000 | Train_loss_dna: 0.0713 | Train_acc_dna: 99.0423 | Validation_loss_mri: 0.6143 | Validation_acc_mri: 87.5000 | Validation_loss_dna: 4.2112 | Validation_acc_dna: 17.1875\u001b[32m [repeated 4x across cluster]\u001b[0m\n"
     ]
    },
    {
     "name": "stderr",
     "output_type": "stream",
     "text": [
      " 80%|\u001b[34m████████  \u001b[0m| 8/10 [00:31<00:07,  3.93s/it]\u001b[32m [repeated 4x across cluster]\u001b[0m\n"
     ]
    },
    {
     "name": "stdout",
     "output_type": "stream",
     "text": [
      "\u001b[36m(launch_and_fit pid=14552)\u001b[0m \tTrain Epoch: 9 \tTrain_loss_mri: 0.0033 | Train_acc_mri: 100.0000 | Train_loss_dna: 0.0651 | Train_acc_dna: 99.0625 | Validation_loss_mri: 0.7418 | Validation_acc_mri: 84.3750 | Validation_loss_dna: 4.8156 | Validation_acc_dna: 10.9375\u001b[32m [repeated 4x across cluster]\u001b[0m\n",
      "\u001b[36m(launch_and_fit pid=14552)\u001b[0m save graph in  results/FL/\n"
     ]
    },
    {
     "name": "stderr",
     "output_type": "stream",
     "text": [
      "100%|\u001b[34m██████████\u001b[0m| 10/10 [00:39<00:00,  3.95s/it]\u001b[32m [repeated 4x across cluster]\u001b[0m\n"
     ]
    },
    {
     "name": "stdout",
     "output_type": "stream",
     "text": [
      "\u001b[36m(launch_and_fit pid=14626)\u001b[0m Run WITHOUT homomorphic encryption\n",
      "\u001b[36m(launch_and_fit pid=14626)\u001b[0m  To get the checkpoint\n",
      "\u001b[36m(launch_and_fit pid=14554)\u001b[0m \tTrain Epoch: 10 \tTrain_loss_mri: 0.0053 | Train_acc_mri: 100.0000 | Train_loss_dna: 0.0835 | Train_acc_dna: 97.8125 | Validation_loss_mri: 0.6352 | Validation_acc_mri: 73.9583 | Validation_loss_dna: 3.2307 | Validation_acc_dna: 10.9375\u001b[32m [repeated 3x across cluster]\u001b[0m\n",
      "\u001b[36m(launch_and_fit pid=14554)\u001b[0m save graph in  results/FL/\n",
      "\u001b[36m(launch_and_fit pid=14626)\u001b[0m [Client 6, round 20] fit, config: {'learning_rate': 0.003, 'batch_size': '32', 'server_round': 20, 'local_epochs': 10}\n",
      "\u001b[36m(launch_and_fit pid=14626)\u001b[0m Updated model\n"
     ]
    },
    {
     "name": "stderr",
     "output_type": "stream",
     "text": [
      "  0%|\u001b[34m          \u001b[0m| 0/10 [00:00<?, ?it/s]\n",
      "100%|\u001b[34m██████████\u001b[0m| 10/10 [00:39<00:00,  3.99s/it]\n"
     ]
    },
    {
     "name": "stdout",
     "output_type": "stream",
     "text": [
      "\u001b[36m(launch_and_fit pid=14651)\u001b[0m Run WITHOUT homomorphic encryption\n",
      "\u001b[36m(launch_and_fit pid=14651)\u001b[0m  To get the checkpoint\n",
      "\u001b[36m(launch_and_fit pid=14626)\u001b[0m \tTrain Epoch: 1 \tTrain_loss_mri: 0.0312 | Train_acc_mri: 99.3750 | Train_loss_dna: 0.6129 | Train_acc_dna: 75.3356 | Validation_loss_mri: 2.4849 | Validation_acc_mri: 73.9583 | Validation_loss_dna: 5.1137 | Validation_acc_dna: 22.9167\n"
     ]
    },
    {
     "name": "stderr",
     "output_type": "stream",
     "text": [
      " 10%|\u001b[34m█         \u001b[0m| 1/10 [00:04<00:41,  4.56s/it]\n",
      "  0%|\u001b[34m          \u001b[0m| 0/10 [00:00<?, ?it/s]\n"
     ]
    },
    {
     "name": "stdout",
     "output_type": "stream",
     "text": [
      "\u001b[36m(launch_and_fit pid=14651)\u001b[0m \tTrain Epoch: 1 \tTrain_loss_mri: 0.0156 | Train_acc_mri: 99.6875 | Train_loss_dna: 0.6225 | Train_acc_dna: 79.2593 | Validation_loss_mri: 1.0444 | Validation_acc_mri: 70.8333 | Validation_loss_dna: 4.7299 | Validation_acc_dna: 9.3750\n",
      "\u001b[36m(launch_and_fit pid=14651)\u001b[0m [Client 2, round 20] fit, config: {'learning_rate': 0.003, 'batch_size': '32', 'server_round': 20, 'local_epochs': 10}\n",
      "\u001b[36m(launch_and_fit pid=14651)\u001b[0m Updated model\n"
     ]
    },
    {
     "name": "stderr",
     "output_type": "stream",
     "text": [
      " 20%|\u001b[34m██        \u001b[0m| 2/10 [00:08<00:35,  4.46s/it]\u001b[32m [repeated 3x across cluster]\u001b[0m\n"
     ]
    },
    {
     "name": "stdout",
     "output_type": "stream",
     "text": [
      "\u001b[36m(launch_and_fit pid=14626)\u001b[0m \tTrain Epoch: 3 \tTrain_loss_mri: 0.0982 | Train_acc_mri: 97.4421 | Train_loss_dna: 0.3432 | Train_acc_dna: 88.4606 | Validation_loss_mri: 1.6638 | Validation_acc_mri: 72.3958 | Validation_loss_dna: 4.5749 | Validation_acc_dna: 30.7292\u001b[32m [repeated 3x across cluster]\u001b[0m\n"
     ]
    },
    {
     "name": "stderr",
     "output_type": "stream",
     "text": [
      " 40%|\u001b[34m████      \u001b[0m| 4/10 [00:16<00:24,  4.11s/it]\u001b[32m [repeated 3x across cluster]\u001b[0m\n"
     ]
    },
    {
     "name": "stdout",
     "output_type": "stream",
     "text": [
      "\u001b[36m(launch_and_fit pid=14651)\u001b[0m \tTrain Epoch: 4 \tTrain_loss_mri: 0.0310 | Train_acc_mri: 99.3171 | Train_loss_dna: 0.1576 | Train_acc_dna: 95.0000 | Validation_loss_mri: 0.6909 | Validation_acc_mri: 89.0625 | Validation_loss_dna: 4.6664 | Validation_acc_dna: 9.3750\u001b[32m [repeated 3x across cluster]\u001b[0m\n"
     ]
    },
    {
     "name": "stderr",
     "output_type": "stream",
     "text": [
      " 50%|\u001b[34m█████     \u001b[0m| 5/10 [00:20<00:20,  4.08s/it]\u001b[32m [repeated 3x across cluster]\u001b[0m\n"
     ]
    },
    {
     "name": "stdout",
     "output_type": "stream",
     "text": [
      "\u001b[36m(launch_and_fit pid=14626)\u001b[0m \tTrain Epoch: 6 \tTrain_loss_mri: 0.0413 | Train_acc_mri: 98.4375 | Train_loss_dna: 0.1115 | Train_acc_dna: 97.5000 | Validation_loss_mri: 2.1033 | Validation_acc_mri: 73.9583 | Validation_loss_dna: 5.4419 | Validation_acc_dna: 7.8125\u001b[32m [repeated 3x across cluster]\u001b[0m\n"
     ]
    },
    {
     "name": "stderr",
     "output_type": "stream",
     "text": [
      " 70%|\u001b[34m███████   \u001b[0m| 7/10 [00:28<00:11,  3.95s/it]\u001b[32m [repeated 3x across cluster]\u001b[0m\n"
     ]
    },
    {
     "name": "stdout",
     "output_type": "stream",
     "text": [
      "\u001b[36m(launch_and_fit pid=14651)\u001b[0m \tTrain Epoch: 7 \tTrain_loss_mri: 0.0372 | Train_acc_mri: 99.0046 | Train_loss_dna: 0.0798 | Train_acc_dna: 98.7500 | Validation_loss_mri: 0.7296 | Validation_acc_mri: 87.5000 | Validation_loss_dna: 4.1960 | Validation_acc_dna: 14.0625\u001b[32m [repeated 3x across cluster]\u001b[0m\n"
     ]
    },
    {
     "name": "stderr",
     "output_type": "stream",
     "text": [
      " 80%|\u001b[34m████████  \u001b[0m| 8/10 [00:33<00:08,  4.07s/it]\u001b[32m [repeated 3x across cluster]\u001b[0m\n"
     ]
    },
    {
     "name": "stdout",
     "output_type": "stream",
     "text": [
      "\u001b[36m(launch_and_fit pid=14626)\u001b[0m \tTrain Epoch: 9 \tTrain_loss_mri: 0.0103 | Train_acc_mri: 99.3750 | Train_loss_dna: 0.0880 | Train_acc_dna: 98.3796 | Validation_loss_mri: 1.6381 | Validation_acc_mri: 77.0833 | Validation_loss_dna: 6.2652 | Validation_acc_dna: 6.2500\u001b[32m [repeated 3x across cluster]\u001b[0m\n",
      "\u001b[36m(launch_and_fit pid=14626)\u001b[0m save graph in  results/FL/\n"
     ]
    },
    {
     "name": "stderr",
     "output_type": "stream",
     "text": [
      "100%|\u001b[34m██████████\u001b[0m| 10/10 [00:40<00:00,  4.04s/it]\u001b[32m [repeated 3x across cluster]\u001b[0m\n"
     ]
    },
    {
     "name": "stdout",
     "output_type": "stream",
     "text": [
      "\u001b[36m(launch_and_fit pid=14651)\u001b[0m \tTrain Epoch: 10 \tTrain_loss_mri: 0.0037 | Train_acc_mri: 100.0000 | Train_loss_dna: 0.1016 | Train_acc_dna: 98.7500 | Validation_loss_mri: 0.6670 | Validation_acc_mri: 90.6250 | Validation_loss_dna: 6.0409 | Validation_acc_dna: 3.1250\u001b[32m [repeated 3x across cluster]\u001b[0m\n",
      "\u001b[36m(launch_and_fit pid=14702)\u001b[0m Run WITHOUT homomorphic encryption\n",
      "\u001b[36m(launch_and_fit pid=14702)\u001b[0m  To get the checkpoint\n",
      "\u001b[36m(launch_and_fit pid=14651)\u001b[0m save graph in  results/FL/\n",
      "\u001b[36m(launch_and_fit pid=14702)\u001b[0m [Client 1, round 20] fit, config: {'learning_rate': 0.003, 'batch_size': '32', 'server_round': 20, 'local_epochs': 10}\n",
      "\u001b[36m(launch_and_fit pid=14702)\u001b[0m Updated model\n"
     ]
    },
    {
     "name": "stderr",
     "output_type": "stream",
     "text": [
      "  0%|\u001b[34m          \u001b[0m| 0/10 [00:00<?, ?it/s]\n",
      "100%|\u001b[34m██████████\u001b[0m| 10/10 [00:40<00:00,  4.10s/it]\n"
     ]
    },
    {
     "name": "stdout",
     "output_type": "stream",
     "text": [
      "\u001b[36m(launch_and_fit pid=14702)\u001b[0m \tTrain Epoch: 1 \tTrain_loss_mri: 0.1048 | Train_acc_mri: 95.8218 | Train_loss_dna: 0.8202 | Train_acc_dna: 72.0370 | Validation_loss_mri: 8.0724 | Validation_acc_mri: 51.0417 | Validation_loss_dna: 5.9727 | Validation_acc_dna: 14.0625\n"
     ]
    },
    {
     "name": "stderr",
     "output_type": "stream",
     "text": [
      " 10%|\u001b[34m█         \u001b[0m| 1/10 [00:04<00:39,  4.42s/it]\n"
     ]
    },
    {
     "name": "stdout",
     "output_type": "stream",
     "text": [
      "\u001b[36m(launch_and_fit pid=14726)\u001b[0m Run WITHOUT homomorphic encryption\n",
      "\u001b[36m(launch_and_fit pid=14726)\u001b[0m  To get the checkpoint\n",
      "\u001b[36m(launch_and_fit pid=14726)\u001b[0m [Client 3, round 20] fit, config: {'learning_rate': 0.003, 'batch_size': '32', 'server_round': 20, 'local_epochs': 10}\n",
      "\u001b[36m(launch_and_fit pid=14726)\u001b[0m Updated model\n"
     ]
    },
    {
     "name": "stderr",
     "output_type": "stream",
     "text": [
      "  0%|\u001b[34m          \u001b[0m| 0/10 [00:00<?, ?it/s]\n"
     ]
    },
    {
     "name": "stdout",
     "output_type": "stream",
     "text": [
      "\u001b[36m(launch_and_fit pid=14726)\u001b[0m \tTrain Epoch: 2 \tTrain_loss_mri: 0.0678 | Train_acc_mri: 98.1250 | Train_loss_dna: 0.5290 | Train_acc_dna: 80.0231 | Validation_loss_mri: 0.8413 | Validation_acc_mri: 84.3750 | Validation_loss_dna: 8.2770 | Validation_acc_dna: 6.2500\u001b[32m [repeated 3x across cluster]\u001b[0m\n"
     ]
    },
    {
     "name": "stderr",
     "output_type": "stream",
     "text": [
      " 20%|\u001b[34m██        \u001b[0m| 2/10 [00:08<00:32,  4.08s/it]\u001b[32m [repeated 3x across cluster]\u001b[0m\n"
     ]
    },
    {
     "name": "stdout",
     "output_type": "stream",
     "text": [
      "\u001b[36m(launch_and_fit pid=14702)\u001b[0m \tTrain Epoch: 4 \tTrain_loss_mri: 0.0603 | Train_acc_mri: 98.3796 | Train_loss_dna: 0.2375 | Train_acc_dna: 92.1296 | Validation_loss_mri: 7.2249 | Validation_acc_mri: 66.1458 | Validation_loss_dna: 5.4920 | Validation_acc_dna: 10.9375\u001b[32m [repeated 3x across cluster]\u001b[0m\n"
     ]
    },
    {
     "name": "stderr",
     "output_type": "stream",
     "text": [
      " 40%|\u001b[34m████      \u001b[0m| 4/10 [00:16<00:24,  4.06s/it]\u001b[32m [repeated 3x across cluster]\u001b[0m\n"
     ]
    },
    {
     "name": "stdout",
     "output_type": "stream",
     "text": [
      "\u001b[36m(launch_and_fit pid=14726)\u001b[0m \tTrain Epoch: 5 \tTrain_loss_mri: 0.0637 | Train_acc_mri: 98.4375 | Train_loss_dna: 0.1416 | Train_acc_dna: 98.4375 | Validation_loss_mri: 0.9356 | Validation_acc_mri: 89.0625 | Validation_loss_dna: 6.9915 | Validation_acc_dna: 6.2500\u001b[32m [repeated 3x across cluster]\u001b[0m\n"
     ]
    },
    {
     "name": "stderr",
     "output_type": "stream",
     "text": [
      " 50%|\u001b[34m█████     \u001b[0m| 5/10 [00:20<00:19,  3.96s/it]\u001b[32m [repeated 3x across cluster]\u001b[0m\n"
     ]
    },
    {
     "name": "stdout",
     "output_type": "stream",
     "text": [
      "\u001b[36m(launch_and_fit pid=14702)\u001b[0m \tTrain Epoch: 7 \tTrain_loss_mri: 0.0154 | Train_acc_mri: 99.3750 | Train_loss_dna: 0.1038 | Train_acc_dna: 97.8125 | Validation_loss_mri: 7.0566 | Validation_acc_mri: 49.4792 | Validation_loss_dna: 6.5632 | Validation_acc_dna: 9.3750\u001b[32m [repeated 3x across cluster]\u001b[0m\n"
     ]
    },
    {
     "name": "stderr",
     "output_type": "stream",
     "text": [
      " 70%|\u001b[34m███████   \u001b[0m| 7/10 [00:28<00:11,  3.92s/it]\u001b[32m [repeated 3x across cluster]\u001b[0m\n"
     ]
    },
    {
     "name": "stdout",
     "output_type": "stream",
     "text": [
      "\u001b[36m(launch_and_fit pid=14726)\u001b[0m \tTrain Epoch: 8 \tTrain_loss_mri: 0.0125 | Train_acc_mri: 99.6875 | Train_loss_dna: 0.0671 | Train_acc_dna: 98.7500 | Validation_loss_mri: 1.1195 | Validation_acc_mri: 84.3750 | Validation_loss_dna: 8.1502 | Validation_acc_dna: 26.0417\u001b[32m [repeated 3x across cluster]\u001b[0m\n"
     ]
    },
    {
     "name": "stderr",
     "output_type": "stream",
     "text": [
      " 80%|\u001b[34m████████  \u001b[0m| 8/10 [00:31<00:07,  3.93s/it]\u001b[32m [repeated 3x across cluster]\u001b[0m\n"
     ]
    },
    {
     "name": "stdout",
     "output_type": "stream",
     "text": [
      "\u001b[36m(launch_and_fit pid=14702)\u001b[0m save graph in  results/FL/\n",
      "\u001b[36m(launch_and_fit pid=14702)\u001b[0m \tTrain Epoch: 10 \tTrain_loss_mri: 0.0220 | Train_acc_mri: 99.3750 | Train_loss_dna: 0.0821 | Train_acc_dna: 97.8125 | Validation_loss_mri: 9.3180 | Validation_acc_mri: 51.0417 | Validation_loss_dna: 6.4827 | Validation_acc_dna: 9.3750\u001b[32m [repeated 3x across cluster]\u001b[0m\n"
     ]
    },
    {
     "name": "stderr",
     "output_type": "stream",
     "text": [
      "100%|\u001b[34m██████████\u001b[0m| 10/10 [00:39<00:00,  3.95s/it]\u001b[32m [repeated 3x across cluster]\u001b[0m\n"
     ]
    },
    {
     "name": "stdout",
     "output_type": "stream",
     "text": [
      "\u001b[36m(launch_and_fit pid=14775)\u001b[0m Run WITHOUT homomorphic encryption\n",
      "\u001b[36m(launch_and_fit pid=14775)\u001b[0m  To get the checkpoint\n",
      "\u001b[36m(launch_and_fit pid=14726)\u001b[0m save graph in  results/FL/\n",
      "\u001b[36m(launch_and_fit pid=14726)\u001b[0m \tTrain Epoch: 10 \tTrain_loss_mri: 0.0023 | Train_acc_mri: 100.0000 | Train_loss_dna: 0.0486 | Train_acc_dna: 99.0625 | Validation_loss_mri: 0.9956 | Validation_acc_mri: 87.5000 | Validation_loss_dna: 8.8448 | Validation_acc_dna: 7.8125\n",
      "\u001b[36m(launch_and_fit pid=14775)\u001b[0m [Client 4, round 20] fit, config: {'learning_rate': 0.003, 'batch_size': '32', 'server_round': 20, 'local_epochs': 10}\n",
      "\u001b[36m(launch_and_fit pid=14775)\u001b[0m Updated model\n"
     ]
    },
    {
     "name": "stderr",
     "output_type": "stream",
     "text": [
      "  0%|\u001b[34m          \u001b[0m| 0/10 [00:00<?, ?it/s]\n",
      "100%|\u001b[34m██████████\u001b[0m| 10/10 [00:39<00:00,  3.98s/it]\n"
     ]
    },
    {
     "name": "stdout",
     "output_type": "stream",
     "text": [
      "\u001b[36m(launch_and_fit pid=14775)\u001b[0m \tTrain Epoch: 1 \tTrain_loss_mri: 0.0446 | Train_acc_mri: 98.7500 | Train_loss_dna: 0.8797 | Train_acc_dna: 75.1620 | Validation_loss_mri: 1.3605 | Validation_acc_mri: 85.9375 | Validation_loss_dna: 4.2164 | Validation_acc_dna: 27.6042\n"
     ]
    },
    {
     "name": "stderr",
     "output_type": "stream",
     "text": [
      " 10%|\u001b[34m█         \u001b[0m| 1/10 [00:04<00:38,  4.31s/it]\n"
     ]
    },
    {
     "name": "stdout",
     "output_type": "stream",
     "text": [
      "\u001b[36m(launch_and_fit pid=14800)\u001b[0m Run WITHOUT homomorphic encryption\n",
      "\u001b[36m(launch_and_fit pid=14800)\u001b[0m  To get the checkpoint\n",
      "\u001b[36m(launch_and_fit pid=14800)\u001b[0m [Client 5, round 20] fit, config: {'learning_rate': 0.003, 'batch_size': '32', 'server_round': 20, 'local_epochs': 10}\n",
      "\u001b[36m(launch_and_fit pid=14800)\u001b[0m Updated model\n"
     ]
    },
    {
     "name": "stderr",
     "output_type": "stream",
     "text": [
      "  0%|\u001b[34m          \u001b[0m| 0/10 [00:00<?, ?it/s]\n"
     ]
    },
    {
     "name": "stdout",
     "output_type": "stream",
     "text": [
      "\u001b[36m(launch_and_fit pid=14800)\u001b[0m \tTrain Epoch: 2 \tTrain_loss_mri: 0.1093 | Train_acc_mri: 96.4468 | Train_loss_dna: 0.6320 | Train_acc_dna: 80.2778 | Validation_loss_mri: 5.3652 | Validation_acc_mri: 54.1667 | Validation_loss_dna: 6.8698 | Validation_acc_dna: 6.2500\u001b[32m [repeated 3x across cluster]\u001b[0m\n"
     ]
    },
    {
     "name": "stderr",
     "output_type": "stream",
     "text": [
      " 20%|\u001b[34m██        \u001b[0m| 2/10 [00:08<00:32,  4.12s/it]\u001b[32m [repeated 3x across cluster]\u001b[0m\n"
     ]
    },
    {
     "name": "stdout",
     "output_type": "stream",
     "text": [
      "\u001b[36m(launch_and_fit pid=14775)\u001b[0m \tTrain Epoch: 4 \tTrain_loss_mri: 0.0272 | Train_acc_mri: 99.3750 | Train_loss_dna: 0.2236 | Train_acc_dna: 92.3843 | Validation_loss_mri: 2.0660 | Validation_acc_mri: 84.3750 | Validation_loss_dna: 3.4248 | Validation_acc_dna: 26.0417\u001b[32m [repeated 3x across cluster]\u001b[0m\n"
     ]
    },
    {
     "name": "stderr",
     "output_type": "stream",
     "text": [
      " 40%|\u001b[34m████      \u001b[0m| 4/10 [00:15<00:23,  3.86s/it]\u001b[32m [repeated 3x across cluster]\u001b[0m\n"
     ]
    },
    {
     "name": "stdout",
     "output_type": "stream",
     "text": [
      "\u001b[36m(launch_and_fit pid=14800)\u001b[0m \tTrain Epoch: 5 \tTrain_loss_mri: 0.0902 | Train_acc_mri: 97.8125 | Train_loss_dna: 0.1562 | Train_acc_dna: 96.5625 | Validation_loss_mri: 3.4901 | Validation_acc_mri: 58.8542 | Validation_loss_dna: 7.6750 | Validation_acc_dna: 7.8125\u001b[32m [repeated 3x across cluster]\u001b[0m\n"
     ]
    },
    {
     "name": "stderr",
     "output_type": "stream",
     "text": [
      " 50%|\u001b[34m█████     \u001b[0m| 5/10 [00:20<00:20,  4.08s/it]\u001b[32m [repeated 3x across cluster]\u001b[0m\n"
     ]
    },
    {
     "name": "stdout",
     "output_type": "stream",
     "text": [
      "\u001b[36m(launch_and_fit pid=14775)\u001b[0m \tTrain Epoch: 7 \tTrain_loss_mri: 0.0157 | Train_acc_mri: 99.6875 | Train_loss_dna: 0.1031 | Train_acc_dna: 96.8750 | Validation_loss_mri: 1.6442 | Validation_acc_mri: 84.3750 | Validation_loss_dna: 3.4055 | Validation_acc_dna: 27.6042\u001b[32m [repeated 3x across cluster]\u001b[0m\n"
     ]
    },
    {
     "name": "stderr",
     "output_type": "stream",
     "text": [
      " 70%|\u001b[34m███████   \u001b[0m| 7/10 [00:27<00:11,  3.89s/it]\u001b[32m [repeated 3x across cluster]\u001b[0m\n"
     ]
    },
    {
     "name": "stdout",
     "output_type": "stream",
     "text": [
      "\u001b[36m(launch_and_fit pid=14800)\u001b[0m \tTrain Epoch: 8 \tTrain_loss_mri: 0.0127 | Train_acc_mri: 99.6875 | Train_loss_dna: 0.0688 | Train_acc_dna: 98.7500 | Validation_loss_mri: 3.4395 | Validation_acc_mri: 57.2917 | Validation_loss_dna: 8.6322 | Validation_acc_dna: 7.8125\u001b[32m [repeated 3x across cluster]\u001b[0m\n"
     ]
    },
    {
     "name": "stderr",
     "output_type": "stream",
     "text": [
      " 80%|\u001b[34m████████  \u001b[0m| 8/10 [00:32<00:07,  3.95s/it]\u001b[32m [repeated 3x across cluster]\u001b[0m\n"
     ]
    },
    {
     "name": "stdout",
     "output_type": "stream",
     "text": [
      "\u001b[36m(launch_and_fit pid=14775)\u001b[0m save graph in  results/FL/\n",
      "\u001b[36m(launch_and_fit pid=14775)\u001b[0m \tTrain Epoch: 10 \tTrain_loss_mri: 0.0024 | Train_acc_mri: 100.0000 | Train_loss_dna: 0.0495 | Train_acc_dna: 99.0625 | Validation_loss_mri: 1.6675 | Validation_acc_mri: 85.9375 | Validation_loss_dna: 4.0524 | Validation_acc_dna: 22.9167\u001b[32m [repeated 3x across cluster]\u001b[0m\n"
     ]
    },
    {
     "name": "stderr",
     "output_type": "stream",
     "text": [
      "100%|\u001b[34m██████████\u001b[0m| 10/10 [00:38<00:00,  3.90s/it]\u001b[32m [repeated 3x across cluster]\u001b[0m\n",
      "DEBUG flwr 2024-08-05 12:51:13,794 | server.py:236 | fit_round 20 received 10 results and 0 failures\n"
     ]
    },
    {
     "name": "stdout",
     "output_type": "stream",
     "text": [
      "Saving round 20 aggregated_parameters...\n",
      "Updated model\n"
     ]
    },
    {
     "name": "stderr",
     "output_type": "stream",
     "text": [
      "INFO flwr 2024-08-05 12:51:20,067 | server.py:125 | fit progress: (20, (1.3836160493748528, 5.051509806088039), {'accuracy': (81.28720238095238, 14.955357142857142)}, 6739.20283651)\n",
      "DEBUG flwr 2024-08-05 12:51:20,068 | server.py:173 | evaluate_round 20: strategy sampled 10 clients (out of 10)\n"
     ]
    },
    {
     "name": "stdout",
     "output_type": "stream",
     "text": [
      "Server-side evaluation MRI loss 1.3836160493748528 / MRI accuracy 81.28720238095238\n",
      "Server-side evaluation DNA loss 5.051509806088039 / DNA accuracy 14.955357142857142\n",
      "\u001b[36m(launch_and_evaluate pid=14858)\u001b[0m Run WITHOUT homomorphic encryption\n",
      "\u001b[36m(launch_and_evaluate pid=14858)\u001b[0m  To get the checkpoint\n",
      "\u001b[36m(launch_and_fit pid=14800)\u001b[0m save graph in  results/FL/\n",
      "\u001b[36m(launch_and_fit pid=14800)\u001b[0m \tTrain Epoch: 10 \tTrain_loss_mri: 0.0024 | Train_acc_mri: 100.0000 | Train_loss_dna: 0.0256 | Train_acc_dna: 100.0000 | Validation_loss_mri: 3.3813 | Validation_acc_mri: 57.2917 | Validation_loss_dna: 8.7380 | Validation_acc_dna: 7.8125\n",
      "\u001b[36m(launch_and_evaluate pid=14858)\u001b[0m [Client 7] evaluate, config: {}\n",
      "\u001b[36m(launch_and_evaluate pid=14858)\u001b[0m Updated model\n",
      "\u001b[36m(launch_and_evaluate pid=14929)\u001b[0m Run WITHOUT homomorphic encryption\u001b[32m [repeated 2x across cluster]\u001b[0m\n",
      "\u001b[36m(launch_and_evaluate pid=14929)\u001b[0m  To get the checkpoint\u001b[32m [repeated 2x across cluster]\u001b[0m\n",
      "\u001b[36m(launch_and_evaluate pid=14859)\u001b[0m [Client 6] evaluate, config: {}\n",
      "\u001b[36m(launch_and_evaluate pid=14859)\u001b[0m Updated model\n",
      "\u001b[36m(launch_and_evaluate pid=14929)\u001b[0m [Client 0] evaluate, config: {}\n",
      "\u001b[36m(launch_and_evaluate pid=14929)\u001b[0m Updated model\n"
     ]
    },
    {
     "name": "stderr",
     "output_type": "stream",
     "text": [
      "\u001b[36m(launch_and_evaluate pid=14931)\u001b[0m /opt/conda/lib/python3.10/site-packages/sklearn/metrics/_ranking.py:1029: UndefinedMetricWarning: No positive samples in y_true, true positive value should be meaningless\n",
      "\u001b[36m(launch_and_evaluate pid=14931)\u001b[0m   warnings.warn(\n",
      "100%|\u001b[34m██████████\u001b[0m| 10/10 [00:39<00:00,  3.99s/it]\n"
     ]
    },
    {
     "name": "stdout",
     "output_type": "stream",
     "text": [
      "\u001b[36m(launch_and_evaluate pid=15001)\u001b[0m Run WITHOUT homomorphic encryption\u001b[32m [repeated 2x across cluster]\u001b[0m\n",
      "\u001b[36m(launch_and_evaluate pid=15001)\u001b[0m  To get the checkpoint\u001b[32m [repeated 2x across cluster]\u001b[0m\n",
      "\u001b[36m(launch_and_evaluate pid=14931)\u001b[0m [Client 8] evaluate, config: {}\n",
      "\u001b[36m(launch_and_evaluate pid=14931)\u001b[0m Updated model\n",
      "\u001b[36m(launch_and_evaluate pid=15001)\u001b[0m [Client 4] evaluate, config: {}\n",
      "\u001b[36m(launch_and_evaluate pid=15001)\u001b[0m Updated model\n"
     ]
    },
    {
     "name": "stderr",
     "output_type": "stream",
     "text": [
      "\u001b[36m(launch_and_evaluate pid=15001)\u001b[0m /opt/conda/lib/python3.10/site-packages/sklearn/metrics/_ranking.py:1029: UndefinedMetricWarning: No positive samples in y_true, true positive value should be meaningless\n",
      "\u001b[36m(launch_and_evaluate pid=15001)\u001b[0m   warnings.warn(\n"
     ]
    },
    {
     "name": "stdout",
     "output_type": "stream",
     "text": [
      "\u001b[36m(launch_and_evaluate pid=15069)\u001b[0m Run WITHOUT homomorphic encryption\u001b[32m [repeated 2x across cluster]\u001b[0m\n",
      "\u001b[36m(launch_and_evaluate pid=15069)\u001b[0m  To get the checkpoint\u001b[32m [repeated 2x across cluster]\u001b[0m\n",
      "\u001b[36m(launch_and_evaluate pid=14999)\u001b[0m [Client 1] evaluate, config: {}\n",
      "\u001b[36m(launch_and_evaluate pid=14999)\u001b[0m Updated model\n",
      "\u001b[36m(launch_and_evaluate pid=15069)\u001b[0m [Client 9] evaluate, config: {}\n",
      "\u001b[36m(launch_and_evaluate pid=15069)\u001b[0m Updated model\n"
     ]
    },
    {
     "name": "stderr",
     "output_type": "stream",
     "text": [
      "\u001b[36m(launch_and_evaluate pid=15069)\u001b[0m /opt/conda/lib/python3.10/site-packages/sklearn/metrics/_ranking.py:1029: UndefinedMetricWarning: No positive samples in y_true, true positive value should be meaningless\n",
      "\u001b[36m(launch_and_evaluate pid=15069)\u001b[0m   warnings.warn(\n"
     ]
    },
    {
     "name": "stdout",
     "output_type": "stream",
     "text": [
      "\u001b[36m(launch_and_evaluate pid=15139)\u001b[0m Run WITHOUT homomorphic encryption\u001b[32m [repeated 2x across cluster]\u001b[0m\n",
      "\u001b[36m(launch_and_evaluate pid=15139)\u001b[0m  To get the checkpoint\u001b[32m [repeated 2x across cluster]\u001b[0m\n",
      "\u001b[36m(launch_and_evaluate pid=15071)\u001b[0m [Client 3] evaluate, config: {}\n",
      "\u001b[36m(launch_and_evaluate pid=15071)\u001b[0m Updated model\n",
      "\u001b[36m(launch_and_evaluate pid=15139)\u001b[0m [Client 2] evaluate, config: {}\n",
      "\u001b[36m(launch_and_evaluate pid=15139)\u001b[0m Updated model\n"
     ]
    },
    {
     "name": "stderr",
     "output_type": "stream",
     "text": [
      "DEBUG flwr 2024-08-05 12:52:27,666 | server.py:187 | evaluate_round 20 received 10 results and 0 failures\n",
      "INFO flwr 2024-08-05 12:52:27,668 | server.py:153 | FL finished in 6806.803137282\n",
      "INFO flwr 2024-08-05 12:52:27,709 | app.py:225 | app_fit: losses_distributed [(1, 1.3883043825626373), (2, 1.3992545008659363), (3, 1.4253339052200318), (4, 1.3511766135692596), (5, 1.0037295300513507), (6, 1.0195324869826436), (7, 0.9248572531505488), (8, 0.9552884820906911), (9, 1.0942780739926092), (10, 1.168343759165691), (11, 1.197547176939588), (12, 1.280360533394378), (13, 1.4223956287940838), (14, 1.6087646514206426), (15, 1.6996957699383528), (16, 1.7577436094084988), (17, 1.9093330935829727), (18, 1.9102977417340299), (19, 2.083349218675721), (20, 2.096320348003064)]\n",
      "INFO flwr 2024-08-05 12:52:27,709 | app.py:226 | app_fit: metrics_distributed_fit {}\n",
      "INFO flwr 2024-08-05 12:52:27,710 | app.py:227 | app_fit: metrics_distributed {'accuracy': [(1, 23.593749999999996), (2, 21.927083333333332), (3, 22.604166666666664), (4, 22.968749999999996), (5, 65.10416666666666), (6, 78.125), (7, 80.10416666666666), (8, 80.88541666666666), (9, 81.35416666666667), (10, 81.19791666666666), (11, 81.51041666666666), (12, 76.19791666666666), (13, 81.97916666666669), (14, 76.82291666666667), (15, 78.80208333333334), (16, 77.13541666666666), (17, 77.29166666666666), (18, 76.66666666666667), (19, 78.80208333333333), (20, 78.17708333333334)]}\n",
      "INFO flwr 2024-08-05 12:52:27,711 | app.py:228 | app_fit: losses_centralized [(0, (1.4025067687034607, 1.9554920835154397)), (1, (1.3793834447860718, 1.802244314125606)), (2, (1.3795756569930486, 1.7646245232650213)), (3, (1.408343983548028, 1.7560644830976213)), (4, (1.4293159714766912, 1.757365835564477)), (5, (1.0380789616278239, 1.72569078207016)), (6, (0.970191804426057, 1.72123099224908)), (7, (0.8716891535690853, 1.7795197367668152)), (8, (0.885848058121545, 1.8548432162829809)), (9, (0.9416320323944092, 2.118772562061037)), (10, (1.084681092628411, 2.4975808347974504)), (11, (1.0765436877097403, 2.8053546249866486)), (12, (1.0760937189417226, 3.148879451411111)), (13, (1.1758212883557593, 3.4341336360999515)), (14, (1.1531530725104469, 3.6935389808246066)), (15, (1.2403938621282578, 4.055979788303375)), (16, (1.2441563252359629, 4.166217105729239)), (17, (1.3320567038442408, 4.579477625233786)), (18, (1.3147628914032663, 4.604481339454651)), (19, (1.388863852513688, 4.807890926088605)), (20, (1.3836160493748528, 5.051509806088039))]\n",
      "INFO flwr 2024-08-05 12:52:27,712 | app.py:229 | app_fit: metrics_centralized {'accuracy': [(0, (22.172619047619047, 11.011904761904763)), (1, (30.43154761904762, 31.69642857142857)), (2, (30.91517857142857, 31.473214285714285)), (3, (23.958333333333332, 33.370535714285715)), (4, (25.744047619047617, 32.40327380952381)), (5, (64.76934523809524, 32.84970238095238)), (6, (73.4375, 31.58482142857143)), (7, (75.85565476190476, 28.422619047619047)), (8, (77.86458333333333, 26.5625)), (9, (78.75744047619048, 26.971726190476193)), (10, (77.5297619047619, 23.4375)), (11, (79.31547619047619, 21.428571428571427)), (12, (79.94791666666667, 16.889880952380953)), (13, (79.27827380952381, 16.77827380952381)), (14, (80.05952380952381, 17.001488095238095)), (15, (80.72916666666667, 15.21577380952381)), (16, (80.95238095238095, 16.183035714285715)), (17, (80.84077380952381, 15.401785714285715)), (18, (80.31994047619048, 15.625)), (19, (80.72916666666667, 15.25297619047619)), (20, (81.28720238095238, 14.955357142857142))]}\n"
     ]
    },
    {
     "name": "stdout",
     "output_type": "stream",
     "text": [
      "Simulation Time = 6818.68812251091 seconds\n"
     ]
    }
   ],
   "source": [
    "import warnings\n",
    "warnings.simplefilter(\"ignore\")\n",
    "\n",
    "print(\"flwr\", fl.__version__)\n",
    "print(\"numpy\", np.__version__)\n",
    "print(\"torch\", torch.__version__)\n",
    "print(\"torchvision\", torchvision.__version__)\n",
    "print(f\"Training on {DEVICE}\")\n",
    "\n",
    "client_resources = None\n",
    "\n",
    "if DEVICE.type == \"cuda\":\n",
    "    client_resources = {\"num_gpus\": 1}\n",
    "\n",
    "model_save = model_save\n",
    "path_yaml = yaml_path\n",
    "path_roc = roc_path\n",
    "results_save = save_results\n",
    "path_matrix = matrix_path\n",
    "batch_size = batch_size\n",
    "\n",
    "print(\"Start simulation\")\n",
    "start_simulation = time.time()\n",
    "fl.simulation.start_simulation(\n",
    "    client_fn=client_fn,\n",
    "    num_clients=number_clients,\n",
    "    config=fl.server.ServerConfig(num_rounds=rounds),\n",
    "    strategy=strategy,\n",
    "    client_resources=client_resources\n",
    ")\n",
    "print(f\"Simulation Time = {time.time() - start_simulation} seconds\")"
   ]
  }
 ],
 "metadata": {
  "kernelspec": {
   "display_name": "fl_env",
   "language": "python",
   "name": "python3"
  },
  "language_info": {
   "codemirror_mode": {
    "name": "ipython",
    "version": 3
   },
   "file_extension": ".py",
   "mimetype": "text/x-python",
   "name": "python",
   "nbconvert_exporter": "python",
   "pygments_lexer": "ipython3",
   "version": "3.10.12"
  }
 },
 "nbformat": 4,
 "nbformat_minor": 2
}

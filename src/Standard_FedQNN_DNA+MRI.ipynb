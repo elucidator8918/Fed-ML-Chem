{
 "cells": [
  {
   "cell_type": "markdown",
   "metadata": {},
   "source": [
    "### Import necessary libraries and modules"
   ]
  },
  {
   "cell_type": "code",
   "execution_count": 1,
   "metadata": {},
   "outputs": [],
   "source": [
    "# %%bash\n",
    "\n",
    "# kaggle datasets download -d nageshsingh/dna-sequence-dataset\n",
    "# mkdir data data/DNA\n",
    "# unzip dna-sequence-dataset.zip -d data/DNA\n",
    "# rm dna-sequence-dataset.zip\n",
    "\n",
    "# kaggle datasets download -d masoudnickparvar/brain-tumor-mri-dataset\n",
    "# mkdir -p data/MRI\n",
    "# unzip brain-tumor-mri-dataset.zip -d data/MRI\n",
    "# rm brain-tumor-mri-dataset.zip"
   ]
  },
  {
   "cell_type": "code",
   "execution_count": 2,
   "metadata": {},
   "outputs": [],
   "source": [
    "import os\n",
    "import pickle\n",
    "import time\n",
    "from collections import OrderedDict\n",
    "from typing import (\n",
    "    List, Tuple, Dict, Optional, Callable, Union\n",
    ")\n",
    "\n",
    "import numpy as np\n",
    "import torchvision\n",
    "import torch\n",
    "from torch import nn\n",
    "import torch.nn.functional as F\n",
    "import flwr as fl\n",
    "from flwr.common import (\n",
    "    Metrics, EvaluateIns, EvaluateRes, FitIns, FitRes, MetricsAggregationFn, \n",
    "    Scalar, logger, ndarrays_to_parameters, parameters_to_ndarrays,\n",
    "    Parameters, NDArrays\n",
    ")\n",
    "from flwr.server.client_proxy import ClientProxy\n",
    "from flwr.server.client_manager import ClientManager\n",
    "from flwr.server.strategy.aggregate import aggregate, weighted_loss_avg\n",
    "from logging import WARNING\n",
    "import pennylane as qml\n",
    "\n",
    "from utils import *\n",
    "\n",
    "os.environ['TOKENIZERS_PARALLELISM'] = 'false'"
   ]
  },
  {
   "cell_type": "markdown",
   "metadata": {},
   "source": [
    "### Model Architecture Creation"
   ]
  },
  {
   "cell_type": "code",
   "execution_count": 3,
   "metadata": {},
   "outputs": [],
   "source": [
    "# Quantum device definitions for MRI and DNA\n",
    "mri_n_qubits = 4\n",
    "dna_n_qubits = 7\n",
    "n_layers = 6\n",
    "\n",
    "mri_dev = qml.device(\"default.qubit.torch\", wires=mri_n_qubits)\n",
    "dna_dev = qml.device(\"default.qubit.torch\", wires=dna_n_qubits)\n",
    "\n",
    "# Quantum networks\n",
    "@qml.qnode(mri_dev, interface='torch')\n",
    "def mri_quantum_net(inputs, weights):\n",
    "    qml.AngleEmbedding(inputs, wires=range(mri_n_qubits))\n",
    "    qml.BasicEntanglerLayers(weights, wires=range(mri_n_qubits))\n",
    "    return [qml.expval(qml.PauliZ(i)) for i in range(mri_n_qubits)]\n",
    "\n",
    "@qml.qnode(dna_dev, interface='torch')\n",
    "def dna_quantum_net(inputs, weights):\n",
    "    qml.AngleEmbedding(inputs, wires=range(dna_n_qubits))\n",
    "    qml.BasicEntanglerLayers(weights, wires=range(dna_n_qubits))\n",
    "    return [qml.expval(qml.PauliZ(i)) for i in range(dna_n_qubits)]\n",
    "\n",
    "# Define weight shapes for the quantum networks\n",
    "mri_weight_shapes = {\"weights\": (n_layers, mri_n_qubits)}\n",
    "dna_weight_shapes = {\"weights\": (n_layers, dna_n_qubits)}\n",
    "\n",
    "# Define the MRI network\n",
    "class MRINet(nn.Module):\n",
    "    def __init__(self):\n",
    "        super(MRINet, self).__init__()\n",
    "        self.features = nn.Sequential(\n",
    "            nn.Conv2d(3, 16, kernel_size=3, padding=1),\n",
    "            nn.ReLU(inplace=True),\n",
    "            nn.MaxPool2d(kernel_size=2, stride=2),\n",
    "            nn.Conv2d(16, 32, kernel_size=3, padding=1),\n",
    "            nn.ReLU(inplace=True),\n",
    "            nn.MaxPool2d(kernel_size=2, stride=2)\n",
    "        )\n",
    "        self.classifier = nn.Sequential(\n",
    "            nn.Linear(32 * 56 * 56, 128),\n",
    "            nn.ReLU(inplace=True),\n",
    "            nn.Linear(128, mri_n_qubits),\n",
    "            qml.qnn.TorchLayer(mri_quantum_net, mri_weight_shapes)\n",
    "        )\n",
    "\n",
    "    def forward(self, x):\n",
    "        x = self.features(x)\n",
    "        x = x.view(x.size(0), -1)\n",
    "        x = self.classifier(x)\n",
    "        return x\n",
    "\n",
    "class DNANet(nn.Module):\n",
    "    def __init__(self):\n",
    "        super(DNANet, self).__init__()\n",
    "        self.fc1 = nn.Linear(384, 512)\n",
    "        self.relu = nn.LeakyReLU(negative_slope=0.01)\n",
    "        self.fc2 = nn.Linear(512, 256)\n",
    "        self.fc3 = nn.Linear(256, 128)\n",
    "        self.fc4 = nn.Linear(128, dna_n_qubits)\n",
    "        self.qnn = qml.qnn.TorchLayer(dna_quantum_net, dna_weight_shapes)\n",
    "        self.dropout = nn.Dropout(p=0.5)\n",
    "\n",
    "    def forward(self, x):\n",
    "        x = self.fc1(x)\n",
    "        x = self.relu(x)\n",
    "        x = self.fc2(x)\n",
    "        x = self.relu(x)\n",
    "        x = self.fc3(x)\n",
    "        x = self.relu(x)\n",
    "        x = self.fc4(x)\n",
    "        x = self.qnn(x)\n",
    "        return x\n",
    "\n",
    "class Net(nn.Module):\n",
    "    def __init__(self, num_classes_mri, num_classes_dna):\n",
    "        super(Net, self).__init__()\n",
    "        self.mri_net = MRINet()\n",
    "        self.dna_net = DNANet()\n",
    "        \n",
    "        self.feature_dim = mri_n_qubits + dna_n_qubits\n",
    "        self.num_heads = mri_n_qubits + dna_n_qubits\n",
    "        \n",
    "        self.attention = nn.MultiheadAttention(embed_dim=self.feature_dim, num_heads=self.num_heads)\n",
    "        \n",
    "        self.fc1 = nn.Linear(mri_n_qubits + dna_n_qubits, 128)\n",
    "        self.fc2_mri = nn.Linear(128, num_classes_mri)\n",
    "        self.fc2_dna = nn.Linear(128, num_classes_dna)\n",
    "        \n",
    "    def forward(self, mri_input, dna_input):\n",
    "        mri_features = self.mri_net(mri_input)\n",
    "        dna_features = self.dna_net(dna_input)\n",
    "        combined_features = torch.cat((mri_features, dna_features), dim=1)\n",
    "        combined_features = combined_features.unsqueeze(0)\n",
    "        attn_output, _ = self.attention(combined_features, combined_features, combined_features)\n",
    "        attn_output = attn_output.squeeze(0)\n",
    "        \n",
    "        x = F.relu(self.fc1(attn_output))\n",
    "        mri_output = self.fc2_mri(x)\n",
    "        dna_output = self.fc2_dna(x)\n",
    "        return mri_output, dna_output"
   ]
  },
  {
   "cell_type": "markdown",
   "metadata": {},
   "source": [
    "### Define the FlowerClient class for federated learning"
   ]
  },
  {
   "cell_type": "code",
   "execution_count": 4,
   "metadata": {},
   "outputs": [],
   "source": [
    "class FlowerClient(fl.client.NumPyClient):\n",
    "    def __init__(self, cid, net, trainloader, valloader, device, batch_size, save_results, matrix_path, roc_path,\n",
    "                 yaml_path, classes):\n",
    "        self.net = net\n",
    "        self.trainloader = trainloader\n",
    "        self.valloader = valloader\n",
    "        self.cid = cid\n",
    "        self.device = device\n",
    "        self.batch_size = batch_size\n",
    "        self.save_results = save_results\n",
    "        self.matrix_path = matrix_path\n",
    "        self.roc_path = roc_path\n",
    "        self.yaml_path = yaml_path\n",
    "        self.classes = classes\n",
    "\n",
    "    def get_parameters(self, config):\n",
    "        print(f\"[Client {self.cid}] get_parameters\")\n",
    "        return get_parameters2(self.net)\n",
    "\n",
    "    def fit(self, parameters, config):\n",
    "        server_round = config['server_round']\n",
    "        local_epochs = config['local_epochs']\n",
    "        lr = float(config[\"learning_rate\"])\n",
    "\n",
    "        print(f'[Client {self.cid}, round {server_round}] fit, config: {config}')\n",
    "\n",
    "        set_parameters(self.net, parameters)\n",
    "\n",
    "        criterion_mri = torch.nn.CrossEntropyLoss()\n",
    "        criterion_dna = torch.nn.CrossEntropyLoss()\n",
    "        optimizer = torch.optim.Adam(self.net.parameters(), lr=lr)\n",
    "\n",
    "        results = engine.train(self.net, self.trainloader, self.valloader, optimizer=optimizer, loss_fn=(criterion_mri, criterion_dna),\n",
    "                               epochs=local_epochs, device=self.device, task=\"Multimodal\")\n",
    "\n",
    "        if self.save_results:\n",
    "            save_graphs_multimodal(self.save_results, local_epochs, results, f\"_Client {self.cid}\")\n",
    "\n",
    "        return get_parameters2(self.net), len(self.trainloader), {}\n",
    "\n",
    "    def evaluate(self, parameters, config):\n",
    "        print(f\"[Client {self.cid}] evaluate, config: {config}\")\n",
    "        set_parameters(self.net, parameters)\n",
    "\n",
    "        loss, accuracy, y_pred, y_true, y_proba = engine.test_multimodal_health(self.net, self.valloader,\n",
    "                                                              loss_fn=(torch.nn.CrossEntropyLoss(),torch.nn.CrossEntropyLoss()), device=self.device)\n",
    "\n",
    "        loss_mri, loss_dna = loss\n",
    "        accuracy_mri, accuracy_dna = accuracy\n",
    "        y_pred_mri, y_pred_dna = y_pred\n",
    "        y_true_mri, y_true_dna = y_true\n",
    "        y_proba_mri, y_proba_dna = y_proba\n",
    "\n",
    "        if self.save_results:\n",
    "            os.makedirs(self.save_results, exist_ok=True)\n",
    "            if self.matrix_path:\n",
    "                save_matrix(y_true_mri, y_pred_mri, self.save_results + \"MRI_\" + self.matrix_path, self.classes[0])\n",
    "                save_matrix(y_true_dna, y_pred_dna, self.save_results + \"DNA_\" + self.matrix_path, self.classes[1])\n",
    "            if self.roc_path:\n",
    "                save_roc(y_true_mri, y_proba_mri, self.save_results + \"MRI_\" + self.roc_path, len(self.classes[0]))\n",
    "                save_roc(y_true_dna, y_proba_dna, self.save_results + \"DNA_\" + self.roc_path, len(self.classes[1]))\n",
    "\n",
    "        return float(loss_mri), len(self.valloader), {\"accuracy\": float(accuracy_mri)}"
   ]
  },
  {
   "cell_type": "markdown",
   "metadata": {},
   "source": [
    "### Define the client_common function to set up the Flower client"
   ]
  },
  {
   "cell_type": "code",
   "execution_count": 5,
   "metadata": {},
   "outputs": [],
   "source": [
    "def client_common(cid, model_save, path_yaml, path_roc, results_save, path_matrix,\n",
    "                  batch_size, trainloaders, valloaders, DEVICE, CLASSES):\n",
    "    trainloader = trainloaders[int(cid)]\n",
    "    valloader = valloaders[int(cid)]\n",
    "\n",
    "    net = Net(len(CLASSES[0]), len(CLASSES[1])).to(DEVICE)\n",
    "\n",
    "    if os.path.exists(model_save):\n",
    "        print(\" To get the checkpoint\")\n",
    "        checkpoint = torch.load(model_save, map_location=DEVICE)['model_state_dict']\n",
    "        net.load_state_dict(checkpoint)\n",
    "\n",
    "    return FlowerClient(cid, net, trainloader, valloader, device=DEVICE, batch_size=batch_size,\n",
    "                        matrix_path=path_matrix, roc_path=path_roc, save_results=results_save, yaml_path=path_yaml,\n",
    "                        classes=CLASSES)"
   ]
  },
  {
   "cell_type": "markdown",
   "metadata": {},
   "source": [
    "### Define utility functions for federated learning"
   ]
  },
  {
   "cell_type": "code",
   "execution_count": 6,
   "metadata": {},
   "outputs": [],
   "source": [
    "def weighted_average(metrics: List[Tuple[int, Metrics]]) -> Metrics:\n",
    "    accuracies = [num_examples * m[\"accuracy\"] for num_examples, m in metrics]\n",
    "    examples = [num_examples for num_examples, _ in metrics]\n",
    "    return {\"accuracy\": sum(accuracies) / sum(examples)}\n",
    "\n",
    "def evaluate2(server_round: int, parameters: NDArrays,\n",
    "              config: Dict[str, Scalar]) -> Optional[Tuple[float, Dict[str, Scalar]]]:\n",
    "    set_parameters(central, parameters)\n",
    "    loss, accuracy, y_pred, y_true, y_proba = engine.test_multimodal_health(central, testloader, loss_fn=(torch.nn.CrossEntropyLoss(),torch.nn.CrossEntropyLoss()),\n",
    "                                                          device=DEVICE)\n",
    "    loss_mri, loss_dna = loss\n",
    "    accuracy_mri, accuracy_dna = accuracy\n",
    "    y_pred_mri, y_pred_dna = y_pred\n",
    "    y_true_mri, y_true_dna = y_true\n",
    "    y_proba_mri, y_proba_dna = y_proba\n",
    "\n",
    "    print(f\"Server-side evaluation MRI loss {loss_mri} / MRI accuracy {accuracy_mri}\")\n",
    "    print(f\"Server-side evaluation DNA loss {loss_dna} / DNA accuracy {accuracy_dna}\")\n",
    "    return (loss_mri, loss_dna), {\"accuracy\": (accuracy_mri, accuracy_dna)}\n",
    "\n",
    "def get_on_fit_config_fn(epoch=2, lr=0.001, batch_size=32) -> Callable[[int], Dict[str, str]]:\n",
    "    def fit_config(server_round: int) -> Dict[str, str]:\n",
    "        config = {\n",
    "            \"learning_rate\": str(lr),\n",
    "            \"batch_size\": str(batch_size),\n",
    "            \"server_round\": server_round,\n",
    "            \"local_epochs\": epoch\n",
    "        }\n",
    "        return config\n",
    "    return fit_config\n",
    "\n",
    "def aggreg_fit_checkpoint(server_round, aggregated_parameters, central_model, path_checkpoint):\n",
    "    if aggregated_parameters is not None:\n",
    "        print(f\"Saving round {server_round} aggregated_parameters...\")\n",
    "        aggregated_ndarrays: List[np.ndarray] = parameters_to_ndarrays(aggregated_parameters)        \n",
    "        params_dict = zip(central_model.state_dict().keys(), aggregated_ndarrays)\n",
    "        state_dict = OrderedDict({k: torch.tensor(v) for k, v in params_dict})\n",
    "        central_model.load_state_dict(state_dict, strict=True)\n",
    "        if path_checkpoint:\n",
    "            torch.save({\n",
    "                'model_state_dict': central_model.state_dict(),\n",
    "            }, path_checkpoint)"
   ]
  },
  {
   "cell_type": "markdown",
   "metadata": {},
   "source": [
    "### Define the FedCustom strategy class"
   ]
  },
  {
   "cell_type": "code",
   "execution_count": 7,
   "metadata": {},
   "outputs": [],
   "source": [
    "# A Strategy from scratch with the same sampling of the clients as it is in FedAvg\n",
    "# and then change the configuration dictionary\n",
    "class FedCustom(fl.server.strategy.Strategy):\n",
    "    def __init__(\n",
    "            self,\n",
    "            fraction_fit: float = 1.0,\n",
    "            fraction_evaluate: float = 1.0,\n",
    "            min_fit_clients: int = 2,\n",
    "            min_evaluate_clients: int = 2,\n",
    "            min_available_clients: int = 2,\n",
    "            evaluate_fn: Optional[\n",
    "                    Callable[[int, NDArrays, Dict[str, Scalar]], Optional[Tuple[float, Dict[str, Scalar]]]]\n",
    "                ] = None,\n",
    "            on_fit_config_fn: Optional[Callable[[int], Dict[str, Scalar]]] = None,\n",
    "            on_evaluate_config_fn: Optional[Callable[[int], Dict[str, Scalar]]] = None,\n",
    "            accept_failures: bool = True,\n",
    "            initial_parameters: Optional[Parameters] = None,\n",
    "            fit_metrics_aggregation_fn: Optional[MetricsAggregationFn] = None,\n",
    "            evaluate_metrics_aggregation_fn: Optional[MetricsAggregationFn] = None,\n",
    "    ) -> None:\n",
    "        super().__init__()\n",
    "        self.fraction_fit = fraction_fit\n",
    "        self.fraction_evaluate = fraction_evaluate\n",
    "        self.min_fit_clients = min_fit_clients\n",
    "        self.min_evaluate_clients = min_evaluate_clients\n",
    "        self.min_available_clients = min_available_clients\n",
    "        self.evaluate_fn = evaluate_fn\n",
    "        self.on_fit_config_fn = on_fit_config_fn\n",
    "        self.on_evaluate_config_fn = on_evaluate_config_fn,\n",
    "        self.accept_failures = accept_failures\n",
    "        self.initial_parameters = initial_parameters\n",
    "        self.fit_metrics_aggregation_fn = fit_metrics_aggregation_fn\n",
    "        self.evaluate_metrics_aggregation_fn = evaluate_metrics_aggregation_fn\n",
    "\n",
    "    def __repr__(self) -> str:\n",
    "        # Same function as FedAvg(Strategy)\n",
    "        return f\"FedCustom (accept_failures={self.accept_failures})\"\n",
    "\n",
    "    def initialize_parameters(\n",
    "        self, client_manager: ClientManager\n",
    "    ) -> Optional[Parameters]:\n",
    "        \"\"\"Initialize global model parameters.\"\"\"\n",
    "        # Same function as FedAvg(Strategy)\n",
    "        initial_parameters = self.initial_parameters\n",
    "        self.initial_parameters = None  # Don't keep initial parameters in memory\n",
    "        return initial_parameters\n",
    "\n",
    "    def num_fit_clients(self, num_available_clients: int) -> Tuple[int, int]:\n",
    "        \"\"\"Return sample size and required number of clients.\"\"\"\n",
    "        # Same function as FedAvg(Strategy)\n",
    "        num_clients = int(num_available_clients * self.fraction_fit)\n",
    "        return max(num_clients, self.min_fit_clients), self.min_available_clients\n",
    "\n",
    "    def configure_fit(\n",
    "        self, server_round: int, parameters: Parameters, client_manager: ClientManager\n",
    "    ) -> List[Tuple[ClientProxy, FitIns]]:\n",
    "        \"\"\"Configure the next round of training.\"\"\"\n",
    "        # Sample clients\n",
    "        sample_size, min_num_clients = self.num_fit_clients(\n",
    "            client_manager.num_available()\n",
    "        )\n",
    "\n",
    "        clients = client_manager.sample(\n",
    "            num_clients=sample_size, min_num_clients=min_num_clients\n",
    "        )\n",
    "        # Create custom configs\n",
    "        n_clients = len(clients)\n",
    "        half_clients = n_clients // 2\n",
    "        # Custom fit config function provided\n",
    "        standard_lr = lr\n",
    "        higher_lr = 0.003\n",
    "        config = {\"server_round\": server_round, \"local_epochs\": 1}\n",
    "        if self.on_fit_config_fn is not None:\n",
    "            # Custom fit config function provided\n",
    "            config = self.on_fit_config_fn(server_round)\n",
    "\n",
    "        # fit_ins = FitIns(parameters, config)\n",
    "        # Return client/config pairs\n",
    "        fit_configurations = []\n",
    "        for idx, client in enumerate(clients):\n",
    "            config[\"learning_rate\"] = standard_lr if idx < half_clients else higher_lr\n",
    "            \"\"\"\n",
    "            Each pair of (ClientProxy, FitRes) constitutes \n",
    "            a successful update from one of the previously selected clients.\n",
    "            \"\"\"\n",
    "            fit_configurations.append(\n",
    "                (\n",
    "                    client,\n",
    "                    FitIns(\n",
    "                        parameters,\n",
    "                        config\n",
    "                    )\n",
    "                )\n",
    "            )\n",
    "        # Successful updates from the previously selected and configured clients\n",
    "        return fit_configurations\n",
    "\n",
    "    def aggregate_fit(\n",
    "        self,\n",
    "        server_round: int,\n",
    "        results: List[Tuple[ClientProxy, FitRes]],\n",
    "        failures: List[Union[Tuple[ClientProxy, FitRes], BaseException]],\n",
    "    ) -> Tuple[Optional[Parameters], Dict[str, Scalar]]:\n",
    "        \"\"\"Aggregate fit results using weighted average. (each round)\"\"\"\n",
    "        # Same function as FedAvg(Strategy)\n",
    "        if not results:\n",
    "            return None, {}\n",
    "\n",
    "        # Do not aggregate if there are failures and failures are not accepted\n",
    "        if not self.accept_failures and failures:\n",
    "            return None, {}\n",
    "\n",
    "        # Convert results parameters --> array matrix\n",
    "        weights_results = [\n",
    "            (parameters_to_ndarrays(fit_res.parameters), fit_res.num_examples)\n",
    "            for _, fit_res in results\n",
    "        ]\n",
    "\n",
    "        # Aggregate parameters using weighted average between the clients and convert back to parameters object (bytes)\n",
    "        parameters_aggregated = ndarrays_to_parameters(aggregate(weights_results))\n",
    "\n",
    "        metrics_aggregated = {}\n",
    "        # Aggregate custom metrics if aggregation fn was provided\n",
    "        if self.fit_metrics_aggregation_fn:\n",
    "            fit_metrics = [(res.num_examples, res.metrics) for _, res in results]\n",
    "            metrics_aggregated = self.fit_metrics_aggregation_fn(fit_metrics)\n",
    "\n",
    "        elif server_round == 1:  # Only log this warning once\n",
    "            logger.log(WARNING, \"No fit_metrics_aggregation_fn provided\")\n",
    "\n",
    "        # Same function as SaveModelStrategy(fl.server.strategy.FedAvg)\n",
    "        \"\"\"Aggregate model weights using weighted average and store checkpoint\"\"\"\n",
    "        aggreg_fit_checkpoint(server_round, parameters_aggregated, central, model_save)\n",
    "        return parameters_aggregated, metrics_aggregated\n",
    "\n",
    "    def num_evaluation_clients(self, num_available_clients: int) -> Tuple[int, int]:\n",
    "        \"\"\"Use a fraction of available clients for evaluation.\"\"\"\n",
    "        # Same function as FedAvg(Strategy)\n",
    "        num_clients = int(num_available_clients * self.fraction_evaluate)\n",
    "        return max(num_clients, self.min_evaluate_clients), self.min_available_clients\n",
    "\n",
    "    def configure_evaluate(\n",
    "        self, server_round: int, parameters: Parameters, client_manager: ClientManager\n",
    "    ) -> List[Tuple[ClientProxy, EvaluateIns]]:\n",
    "        \"\"\"Configure the next round of evaluation.\"\"\"\n",
    "        # Same function as FedAvg(Strategy)\n",
    "        # Do not configure federated evaluation if fraction eval is 0.\n",
    "        if self.fraction_evaluate == 0.0:\n",
    "            return []\n",
    "\n",
    "        # Parameters and config\n",
    "        config = {}  # {\"server_round\": server_round, \"local_epochs\": 1}\n",
    "\n",
    "        evaluate_ins = EvaluateIns(parameters, config)\n",
    "\n",
    "        # Sample clients\n",
    "        sample_size, min_num_clients = self.num_evaluation_clients(\n",
    "            client_manager.num_available()\n",
    "        )\n",
    "\n",
    "        clients = client_manager.sample(\n",
    "            num_clients=sample_size, min_num_clients=min_num_clients\n",
    "        )\n",
    "\n",
    "        # Return client/config pairs\n",
    "        # Each pair of (ClientProxy, FitRes) constitutes a successful update from one of the previously selected clients\n",
    "        return [(client, evaluate_ins) for client in clients]\n",
    "\n",
    "    def aggregate_evaluate(\n",
    "        self,\n",
    "        server_round: int,\n",
    "        results: List[Tuple[ClientProxy, EvaluateRes]],\n",
    "        failures: List[Union[Tuple[ClientProxy, EvaluateRes], BaseException]],\n",
    "    ) -> Tuple[Optional[float], Dict[str, Scalar]]:\n",
    "        \"\"\"Aggregate evaluation losses using weighted average.\"\"\"\n",
    "        # Same function as FedAvg(Strategy)\n",
    "        if not results:\n",
    "            return None, {}\n",
    "\n",
    "        # Do not aggregate if there are failures and failures are not accepted\n",
    "        if not self.accept_failures and failures:\n",
    "            return None, {}\n",
    "\n",
    "        # Aggregate loss\n",
    "        loss_aggregated = weighted_loss_avg(\n",
    "            [\n",
    "                (evaluate_res.num_examples, evaluate_res.loss)\n",
    "                for _, evaluate_res in results\n",
    "            ]\n",
    "        )\n",
    "\n",
    "        metrics_aggregated = {}\n",
    "        # Aggregate custom metrics if aggregation fn was provided\n",
    "        if self.evaluate_metrics_aggregation_fn:\n",
    "            eval_metrics = [(res.num_examples, res.metrics) for _, res in results]\n",
    "            metrics_aggregated = self.evaluate_metrics_aggregation_fn(eval_metrics)\n",
    "\n",
    "        # Only log this warning once\n",
    "        elif server_round == 1:\n",
    "            logger.log(WARNING, \"No evaluate_metrics_aggregation_fn provided\")\n",
    "\n",
    "        return loss_aggregated, metrics_aggregated\n",
    "\n",
    "    def evaluate(\n",
    "        self, server_round: int, parameters: Parameters\n",
    "    ) -> Optional[Tuple[float, Dict[str, Scalar]]]:\n",
    "        \"\"\"Evaluate global model parameters using an evaluation function.\"\"\"\n",
    "        # Same function as FedAvg(Strategy)\n",
    "        if self.evaluate_fn is None:\n",
    "            # Let's assume we won't perform the global model evaluation on the server side.\n",
    "            return None\n",
    "\n",
    "        # if we have a global model evaluation on the server side :\n",
    "        parameters_ndarrays = parameters_to_ndarrays(parameters)\n",
    "        eval_res = self.evaluate_fn(server_round, parameters_ndarrays, {})\n",
    "\n",
    "        # if you haven't results\n",
    "        if eval_res is None:\n",
    "            return None\n",
    "\n",
    "        loss, metrics = eval_res\n",
    "        return loss, metrics"
   ]
  },
  {
   "cell_type": "markdown",
   "metadata": {},
   "source": [
    "### Set up the federated learning strategy"
   ]
  },
  {
   "cell_type": "code",
   "execution_count": 8,
   "metadata": {},
   "outputs": [],
   "source": [
    "# Set up your variables directly\n",
    "data_path = 'data/'\n",
    "dataset = 'DNA+MRI'\n",
    "yaml_path = './results/FL/results.yml'\n",
    "seed = 0\n",
    "num_workers = 0\n",
    "max_epochs = 10\n",
    "batch_size = 32\n",
    "splitter = 10\n",
    "device = 'gpu'\n",
    "number_clients = 10\n",
    "save_results = 'results/FL/'\n",
    "matrix_path = 'confusion_matrix.png'\n",
    "roc_path = 'roc.png'\n",
    "model_save = 'DNA+MRI_fl.pt'\n",
    "min_fit_clients = 10\n",
    "min_avail_clients = 10\n",
    "min_eval_clients = 10\n",
    "rounds = 20\n",
    "frac_fit = 1.0\n",
    "frac_eval = 0.5\n",
    "lr = 1e-3"
   ]
  },
  {
   "cell_type": "code",
   "execution_count": 9,
   "metadata": {},
   "outputs": [],
   "source": [
    "DEVICE = torch.device(choice_device(device))\n",
    "CLASSES = classes_string(dataset)\n",
    "central = Net(len(CLASSES[0]), len(CLASSES[1])).to(DEVICE)"
   ]
  },
  {
   "cell_type": "code",
   "execution_count": 10,
   "metadata": {},
   "outputs": [],
   "source": [
    "strategy = FedCustom(\n",
    "    fraction_fit=frac_fit,\n",
    "    fraction_evaluate=frac_eval,\n",
    "    min_fit_clients=min_fit_clients,\n",
    "    min_evaluate_clients=min_eval_clients if min_eval_clients else number_clients // 2,\n",
    "    min_available_clients=min_avail_clients,\n",
    "    evaluate_metrics_aggregation_fn=weighted_average,\n",
    "    initial_parameters=ndarrays_to_parameters(get_parameters2(central)),\n",
    "    evaluate_fn=evaluate2,\n",
    "    on_fit_config_fn=get_on_fit_config_fn(epoch=max_epochs, batch_size=batch_size),\n",
    ")"
   ]
  },
  {
   "cell_type": "code",
   "execution_count": 11,
   "metadata": {},
   "outputs": [
    {
     "name": "stdout",
     "output_type": "stream",
     "text": [
      "DNA+MRI\n"
     ]
    },
    {
     "name": "stderr",
     "output_type": "stream",
     "text": [
      "/home/cudaq/.local/lib/python3.10/site-packages/transformers/tokenization_utils_base.py:1601: FutureWarning: `clean_up_tokenization_spaces` was not set. It will be set to `True` by default. This behavior will be depracted in transformers v4.45, and will be then set to `False` by default. For more details check this issue: https://github.com/huggingface/transformers/issues/31884\n",
      "  warnings.warn(\n"
     ]
    },
    {
     "name": "stdout",
     "output_type": "stream",
     "text": [
      "The training set is created for the classes: \n",
      "('glioma', 'meningioma', 'notumor', 'pituitary')\n",
      "('0', '1', '2', '3', '4', '5', '6')\n"
     ]
    }
   ],
   "source": [
    "trainloaders, valloaders, testloader = data_setup.load_datasets(num_clients=number_clients,\n",
    "                                                                batch_size=batch_size,\n",
    "                                                                resize=224,\n",
    "                                                                seed=seed,\n",
    "                                                                num_workers=num_workers,\n",
    "                                                                splitter=splitter,\n",
    "                                                                dataset=dataset,  # Use the specified dataset\n",
    "                                                                data_path=data_path,\n",
    "                                                                data_path_val=None)  # Use the same path for validation data\n",
    "\n",
    "def client_fn(cid: str) -> FlowerClient:\n",
    "    return client_common(cid,\n",
    "                         model_save, path_yaml, path_roc, results_save, path_matrix,\n",
    "                         batch_size, trainloaders, valloaders, DEVICE, CLASSES)"
   ]
  },
  {
   "cell_type": "markdown",
   "metadata": {},
   "source": [
    "### Define the client_fn function and set up the simulation"
   ]
  },
  {
   "cell_type": "code",
   "execution_count": 12,
   "metadata": {},
   "outputs": [
    {
     "name": "stderr",
     "output_type": "stream",
     "text": [
      "INFO flwr 2024-09-02 01:35:59,425 | app.py:175 | Starting Flower simulation, config: ServerConfig(num_rounds=20, round_timeout=None)\n"
     ]
    },
    {
     "name": "stdout",
     "output_type": "stream",
     "text": [
      "flwr 1.5.0\n",
      "numpy 1.26.4\n",
      "torch 2.4.0+cu121\n",
      "torchvision 0.19.0+cu121\n",
      "Training on cpu\n",
      "Start simulation\n"
     ]
    },
    {
     "name": "stderr",
     "output_type": "stream",
     "text": [
      "2024-09-02 01:36:00,551\tWARNING utils.py:592 -- Ray currently does not support initializing Ray with fractional cpus. Your num_cpus will be truncated from 11.5 to 11.\n",
      "2024-09-02 01:36:01,697\tINFO worker.py:1783 -- Started a local Ray instance.\n",
      "INFO flwr 2024-09-02 01:36:02,255 | app.py:210 | Flower VCE: Ray initialized with resources: {'CPU': 11.0, 'object_store_memory': 72325677465.0, 'accelerator_type:A100': 1.0, 'node:__internal_head__': 1.0, 'GPU': 1.0, 'memory': 158759914087.0, 'node:10.42.22.63': 1.0}\n",
      "INFO flwr 2024-09-02 01:36:02,256 | app.py:224 | Flower VCE: Resources for each Virtual Client: {'num_cpus': 1}\n",
      "INFO flwr 2024-09-02 01:36:02,267 | app.py:270 | Flower VCE: Creating VirtualClientEngineActorPool with 11 actors\n",
      "INFO flwr 2024-09-02 01:36:02,267 | server.py:89 | Initializing global parameters\n",
      "INFO flwr 2024-09-02 01:36:02,268 | server.py:272 | Using initial parameters provided by strategy\n",
      "INFO flwr 2024-09-02 01:36:02,268 | server.py:91 | Evaluating initial parameters\n"
     ]
    },
    {
     "name": "stdout",
     "output_type": "stream",
     "text": [
      "Updated model\n"
     ]
    },
    {
     "name": "stderr",
     "output_type": "stream",
     "text": [
      "INFO flwr 2024-09-02 01:36:09,676 | server.py:94 | initial parameters (loss, other metrics): (1.3955777032034737, 1.9500712156295776), {'accuracy': (25.0, 5.357142857142857)}\n",
      "INFO flwr 2024-09-02 01:36:09,678 | server.py:104 | FL starting\n",
      "DEBUG flwr 2024-09-02 01:36:09,678 | server.py:222 | fit_round 1: strategy sampled 10 clients (out of 10)\n"
     ]
    },
    {
     "name": "stdout",
     "output_type": "stream",
     "text": [
      "Server-side evaluation MRI loss 1.3955777032034737 / MRI accuracy 25.0\n",
      "Server-side evaluation DNA loss 1.9500712156295776 / DNA accuracy 5.357142857142857\n"
     ]
    },
    {
     "name": "stderr",
     "output_type": "stream",
     "text": [
      "\u001b[36m(DefaultActor pid=28001)\u001b[0m /home/cudaq/.local/lib/python3.10/site-packages/torch/storage.py:414: FutureWarning: You are using `torch.load` with `weights_only=False` (the current default value), which uses the default pickle module implicitly. It is possible to construct malicious pickle data which will execute arbitrary code during unpickling (See https://github.com/pytorch/pytorch/blob/main/SECURITY.md#untrusted-models for more details). In a future release, the default value for `weights_only` will be flipped to `True`. This limits the functions that could be executed during unpickling. Arbitrary objects will no longer be allowed to be loaded via this mode unless they are explicitly allowlisted by the user via `torch.serialization.add_safe_globals`. We recommend you start setting `weights_only=True` for any use case where you don't have full control of the loaded file. Please open an issue on GitHub for any issues related to this experimental feature.\n",
      "\u001b[36m(DefaultActor pid=28001)\u001b[0m   return torch.load(io.BytesIO(b))\n",
      "  0%|\u001b[34m          \u001b[0m| 0/10 [00:00<?, ?it/s]\n"
     ]
    },
    {
     "name": "stdout",
     "output_type": "stream",
     "text": [
      "\u001b[36m(DefaultActor pid=28001)\u001b[0m [Client 5, round 1] fit, config: {'learning_rate': 0.003, 'batch_size': '32', 'server_round': 1, 'local_epochs': 10}\n",
      "\u001b[36m(DefaultActor pid=28001)\u001b[0m Updated model\n",
      "\u001b[36m(DefaultActor pid=27998)\u001b[0m \tTrain Epoch: 1 \tTrain_loss_mri: 1.4065 | Train_acc_mri: 17.7083 | Train_loss_dna: 1.9420 | Train_acc_dna: 11.4583 | Validation_loss_mri: 1.3794 | Validation_acc_mri: 37.5000 | Validation_loss_dna: 1.8906 | Validation_acc_dna: 37.5000\n"
     ]
    },
    {
     "name": "stderr",
     "output_type": "stream",
     "text": [
      " 10%|\u001b[34m█         \u001b[0m| 1/10 [00:02<00:19,  2.21s/it]\n",
      " 10%|\u001b[34m█         \u001b[0m| 1/10 [00:02<00:21,  2.35s/it]\n",
      " 10%|\u001b[34m█         \u001b[0m| 1/10 [00:02<00:21,  2.35s/it]\n",
      " 10%|\u001b[34m█         \u001b[0m| 1/10 [00:02<00:20,  2.31s/it]\n",
      " 10%|\u001b[34m█         \u001b[0m| 1/10 [00:02<00:20,  2.33s/it]\n",
      " 10%|\u001b[34m█         \u001b[0m| 1/10 [00:02<00:20,  2.24s/it]\n",
      " 10%|\u001b[34m█         \u001b[0m| 1/10 [00:02<00:19,  2.22s/it]\n",
      " 10%|\u001b[34m█         \u001b[0m| 1/10 [00:02<00:20,  2.27s/it]\n",
      " 10%|\u001b[34m█         \u001b[0m| 1/10 [00:02<00:21,  2.34s/it]\n",
      " 10%|\u001b[34m█         \u001b[0m| 1/10 [00:02<00:22,  2.47s/it]\n",
      " 20%|\u001b[34m██        \u001b[0m| 2/10 [00:04<00:17,  2.18s/it]\n",
      " 20%|\u001b[34m██        \u001b[0m| 2/10 [00:04<00:17,  2.23s/it]\n",
      " 20%|\u001b[34m██        \u001b[0m| 2/10 [00:04<00:17,  2.23s/it]\n",
      " 20%|\u001b[34m██        \u001b[0m| 2/10 [00:04<00:18,  2.27s/it]\n",
      " 20%|\u001b[34m██        \u001b[0m| 2/10 [00:04<00:18,  2.27s/it]\n",
      " 20%|\u001b[34m██        \u001b[0m| 2/10 [00:04<00:17,  2.16s/it]\n",
      "\u001b[36m(DefaultActor pid=27995)\u001b[0m /home/cudaq/.local/lib/python3.10/site-packages/torch/storage.py:414: FutureWarning: You are using `torch.load` with `weights_only=False` (the current default value), which uses the default pickle module implicitly. It is possible to construct malicious pickle data which will execute arbitrary code during unpickling (See https://github.com/pytorch/pytorch/blob/main/SECURITY.md#untrusted-models for more details). In a future release, the default value for `weights_only` will be flipped to `True`. This limits the functions that could be executed during unpickling. Arbitrary objects will no longer be allowed to be loaded via this mode unless they are explicitly allowlisted by the user via `torch.serialization.add_safe_globals`. We recommend you start setting `weights_only=True` for any use case where you don't have full control of the loaded file. Please open an issue on GitHub for any issues related to this experimental feature.\u001b[32m [repeated 9x across cluster] (Ray deduplicates logs by default. Set RAY_DEDUP_LOGS=0 to disable log deduplication, or see https://docs.ray.io/en/master/ray-observability/user-guides/configure-logging.html#log-deduplication for more options.)\u001b[0m\n",
      "\u001b[36m(DefaultActor pid=27995)\u001b[0m   return torch.load(io.BytesIO(b))\u001b[32m [repeated 9x across cluster]\u001b[0m\n",
      " 20%|\u001b[34m██        \u001b[0m| 2/10 [00:04<00:17,  2.22s/it]\n",
      "  0%|\u001b[34m          \u001b[0m| 0/10 [00:00<?, ?it/s]\u001b[32m [repeated 9x across cluster]\u001b[0m\n",
      " 20%|\u001b[34m██        \u001b[0m| 2/10 [00:04<00:17,  2.17s/it]\n"
     ]
    },
    {
     "name": "stdout",
     "output_type": "stream",
     "text": [
      "\u001b[36m(DefaultActor pid=27995)\u001b[0m [Client 7, round 1] fit, config: {'learning_rate': 0.003, 'batch_size': '32', 'server_round': 1, 'local_epochs': 10}\u001b[32m [repeated 9x across cluster]\u001b[0m\n",
      "\u001b[36m(DefaultActor pid=27995)\u001b[0m Updated model\u001b[32m [repeated 9x across cluster]\u001b[0m\n"
     ]
    },
    {
     "name": "stderr",
     "output_type": "stream",
     "text": [
      " 20%|\u001b[34m██        \u001b[0m| 2/10 [00:04<00:18,  2.30s/it]\n",
      " 20%|\u001b[34m██        \u001b[0m| 2/10 [00:04<00:18,  2.31s/it]\n",
      " 30%|\u001b[34m███       \u001b[0m| 3/10 [00:06<00:15,  2.16s/it]\n",
      " 30%|\u001b[34m███       \u001b[0m| 3/10 [00:06<00:15,  2.20s/it]\n",
      " 30%|\u001b[34m███       \u001b[0m| 3/10 [00:06<00:15,  2.19s/it]\n",
      " 30%|\u001b[34m███       \u001b[0m| 3/10 [00:06<00:16,  2.29s/it]\n",
      " 30%|\u001b[34m███       \u001b[0m| 3/10 [00:06<00:14,  2.13s/it]\n",
      " 30%|\u001b[34m███       \u001b[0m| 3/10 [00:06<00:16,  2.30s/it]\n",
      " 30%|\u001b[34m███       \u001b[0m| 3/10 [00:06<00:15,  2.19s/it]\n",
      " 30%|\u001b[34m███       \u001b[0m| 3/10 [00:06<00:15,  2.16s/it]\n"
     ]
    },
    {
     "name": "stdout",
     "output_type": "stream",
     "text": [
      "\u001b[36m(DefaultActor pid=27996)\u001b[0m \tTrain Epoch: 3 \tTrain_loss_mri: 1.3222 | Train_acc_mri: 42.7083 | Train_loss_dna: 1.8157 | Train_acc_dna: 39.5833 | Validation_loss_mri: 1.3663 | Validation_acc_mri: 37.5000 | Validation_loss_dna: 1.9199 | Validation_acc_dna: 25.0000\u001b[32m [repeated 28x across cluster]\u001b[0m\n"
     ]
    },
    {
     "name": "stderr",
     "output_type": "stream",
     "text": [
      " 30%|\u001b[34m███       \u001b[0m| 3/10 [00:06<00:16,  2.30s/it]\n",
      " 30%|\u001b[34m███       \u001b[0m| 3/10 [00:06<00:15,  2.28s/it]\n",
      " 40%|\u001b[34m████      \u001b[0m| 4/10 [00:08<00:12,  2.16s/it]\n",
      " 40%|\u001b[34m████      \u001b[0m| 4/10 [00:08<00:12,  2.16s/it]\n",
      " 40%|\u001b[34m████      \u001b[0m| 4/10 [00:08<00:13,  2.19s/it]\n",
      " 40%|\u001b[34m████      \u001b[0m| 4/10 [00:08<00:12,  2.13s/it]\n",
      " 40%|\u001b[34m████      \u001b[0m| 4/10 [00:09<00:13,  2.28s/it]\n",
      " 40%|\u001b[34m████      \u001b[0m| 4/10 [00:09<00:13,  2.26s/it]\n",
      " 40%|\u001b[34m████      \u001b[0m| 4/10 [00:08<00:13,  2.18s/it]\n",
      " 40%|\u001b[34m████      \u001b[0m| 4/10 [00:08<00:13,  2.18s/it]\n",
      " 40%|\u001b[34m████      \u001b[0m| 4/10 [00:09<00:13,  2.28s/it]\n",
      " 40%|\u001b[34m████      \u001b[0m| 4/10 [00:09<00:13,  2.26s/it]\n",
      " 50%|\u001b[34m█████     \u001b[0m| 5/10 [00:10<00:10,  2.16s/it]\n",
      " 50%|\u001b[34m█████     \u001b[0m| 5/10 [00:10<00:10,  2.15s/it]\n",
      " 50%|\u001b[34m█████     \u001b[0m| 5/10 [00:10<00:10,  2.16s/it]\n",
      " 50%|\u001b[34m█████     \u001b[0m| 5/10 [00:10<00:10,  2.11s/it]\n",
      " 50%|\u001b[34m█████     \u001b[0m| 5/10 [00:11<00:11,  2.21s/it]\n",
      " 50%|\u001b[34m█████     \u001b[0m| 5/10 [00:11<00:11,  2.25s/it]\n",
      " 50%|\u001b[34m█████     \u001b[0m| 5/10 [00:10<00:10,  2.15s/it]\n",
      " 50%|\u001b[34m█████     \u001b[0m| 5/10 [00:10<00:10,  2.16s/it]\n",
      " 50%|\u001b[34m█████     \u001b[0m| 5/10 [00:11<00:11,  2.23s/it]\n",
      " 50%|\u001b[34m█████     \u001b[0m| 5/10 [00:11<00:11,  2.26s/it]\n"
     ]
    },
    {
     "name": "stdout",
     "output_type": "stream",
     "text": [
      "\u001b[36m(DefaultActor pid=27998)\u001b[0m \tTrain Epoch: 6 \tTrain_loss_mri: 1.3662 | Train_acc_mri: 32.2917 | Train_loss_dna: 1.7919 | Train_acc_dna: 23.9583 | Validation_loss_mri: 1.4596 | Validation_acc_mri: 25.0000 | Validation_loss_dna: 1.8426 | Validation_acc_dna: 0.0000\u001b[32m [repeated 22x across cluster]\u001b[0m\n"
     ]
    },
    {
     "name": "stderr",
     "output_type": "stream",
     "text": [
      " 60%|\u001b[34m██████    \u001b[0m| 6/10 [00:12<00:08,  2.15s/it]\n",
      " 60%|\u001b[34m██████    \u001b[0m| 6/10 [00:12<00:08,  2.14s/it]\n",
      " 60%|\u001b[34m██████    \u001b[0m| 6/10 [00:13<00:08,  2.17s/it]\n",
      " 60%|\u001b[34m██████    \u001b[0m| 6/10 [00:12<00:08,  2.12s/it]\n",
      " 60%|\u001b[34m██████    \u001b[0m| 6/10 [00:13<00:08,  2.18s/it]\n",
      " 60%|\u001b[34m██████    \u001b[0m| 6/10 [00:13<00:08,  2.15s/it]\n",
      " 60%|\u001b[34m██████    \u001b[0m| 6/10 [00:13<00:08,  2.25s/it]\n",
      " 60%|\u001b[34m██████    \u001b[0m| 6/10 [00:13<00:08,  2.16s/it]\n",
      " 60%|\u001b[34m██████    \u001b[0m| 6/10 [00:13<00:08,  2.21s/it]\n",
      " 60%|\u001b[34m██████    \u001b[0m| 6/10 [00:13<00:08,  2.21s/it]\n",
      " 70%|\u001b[34m███████   \u001b[0m| 7/10 [00:15<00:06,  2.12s/it]\n",
      " 70%|\u001b[34m███████   \u001b[0m| 7/10 [00:15<00:06,  2.14s/it]\n",
      " 70%|\u001b[34m███████   \u001b[0m| 7/10 [00:15<00:06,  2.15s/it]\n",
      " 70%|\u001b[34m███████   \u001b[0m| 7/10 [00:14<00:06,  2.11s/it]\n",
      " 70%|\u001b[34m███████   \u001b[0m| 7/10 [00:15<00:06,  2.17s/it]\n",
      " 70%|\u001b[34m███████   \u001b[0m| 7/10 [00:15<00:06,  2.15s/it]\n",
      " 70%|\u001b[34m███████   \u001b[0m| 7/10 [00:15<00:06,  2.23s/it]\n",
      " 70%|\u001b[34m███████   \u001b[0m| 7/10 [00:15<00:06,  2.16s/it]\n",
      " 70%|\u001b[34m███████   \u001b[0m| 7/10 [00:15<00:06,  2.18s/it]\n",
      " 70%|\u001b[34m███████   \u001b[0m| 7/10 [00:15<00:06,  2.19s/it]\n",
      " 80%|\u001b[34m████████  \u001b[0m| 8/10 [00:17<00:04,  2.12s/it]\n",
      " 80%|\u001b[34m████████  \u001b[0m| 8/10 [00:17<00:04,  2.13s/it]\n",
      " 80%|\u001b[34m████████  \u001b[0m| 8/10 [00:16<00:04,  2.10s/it]\n",
      " 80%|\u001b[34m████████  \u001b[0m| 8/10 [00:17<00:04,  2.14s/it]\n",
      " 80%|\u001b[34m████████  \u001b[0m| 8/10 [00:17<00:04,  2.16s/it]\n",
      " 80%|\u001b[34m████████  \u001b[0m| 8/10 [00:17<00:04,  2.14s/it]\n",
      " 80%|\u001b[34m████████  \u001b[0m| 8/10 [00:17<00:04,  2.14s/it]\n",
      " 80%|\u001b[34m████████  \u001b[0m| 8/10 [00:17<00:04,  2.21s/it]\n"
     ]
    },
    {
     "name": "stdout",
     "output_type": "stream",
     "text": [
      "\u001b[36m(DefaultActor pid=27996)\u001b[0m \tTrain Epoch: 8 \tTrain_loss_mri: 1.3252 | Train_acc_mri: 36.4583 | Train_loss_dna: 1.6760 | Train_acc_dna: 45.8333 | Validation_loss_mri: 1.3746 | Validation_acc_mri: 37.5000 | Validation_loss_dna: 2.0127 | Validation_acc_dna: 25.0000\u001b[32m [repeated 28x across cluster]\u001b[0m\n"
     ]
    },
    {
     "name": "stderr",
     "output_type": "stream",
     "text": [
      " 80%|\u001b[34m████████  \u001b[0m| 8/10 [00:17<00:04,  2.16s/it]\n",
      " 80%|\u001b[34m████████  \u001b[0m| 8/10 [00:17<00:04,  2.18s/it]\n",
      " 90%|\u001b[34m█████████ \u001b[0m| 9/10 [00:19<00:02,  2.11s/it]\n",
      " 90%|\u001b[34m█████████ \u001b[0m| 9/10 [00:19<00:02,  2.13s/it]\n",
      " 90%|\u001b[34m█████████ \u001b[0m| 9/10 [00:19<00:02,  2.11s/it]\n",
      " 90%|\u001b[34m█████████ \u001b[0m| 9/10 [00:19<00:02,  2.10s/it]\n",
      " 90%|\u001b[34m█████████ \u001b[0m| 9/10 [00:19<00:02,  2.15s/it]\n",
      " 90%|\u001b[34m█████████ \u001b[0m| 9/10 [00:19<00:02,  2.17s/it]\n",
      " 90%|\u001b[34m█████████ \u001b[0m| 9/10 [00:19<00:02,  2.14s/it]\n",
      " 90%|\u001b[34m█████████ \u001b[0m| 9/10 [00:20<00:02,  2.24s/it]\n",
      " 90%|\u001b[34m█████████ \u001b[0m| 9/10 [00:19<00:02,  2.13s/it]\n",
      " 90%|\u001b[34m█████████ \u001b[0m| 9/10 [00:19<00:02,  2.16s/it]\n"
     ]
    },
    {
     "name": "stdout",
     "output_type": "stream",
     "text": [
      "\u001b[36m(DefaultActor pid=27998)\u001b[0m save graph in  results/FL/\n"
     ]
    },
    {
     "name": "stderr",
     "output_type": "stream",
     "text": [
      "100%|\u001b[34m██████████\u001b[0m| 10/10 [00:21<00:00,  2.14s/it]\n",
      "100%|\u001b[34m██████████\u001b[0m| 10/10 [00:21<00:00,  2.15s/it]\n",
      "100%|\u001b[34m██████████\u001b[0m| 10/10 [00:21<00:00,  2.15s/it]\n",
      "100%|\u001b[34m██████████\u001b[0m| 10/10 [00:21<00:00,  2.12s/it]\n",
      "100%|\u001b[34m██████████\u001b[0m| 10/10 [00:21<00:00,  2.16s/it]\n",
      "100%|\u001b[34m██████████\u001b[0m| 10/10 [00:21<00:00,  2.15s/it]\n",
      "100%|\u001b[34m██████████\u001b[0m| 10/10 [00:22<00:00,  2.20s/it]\n",
      "100%|\u001b[34m██████████\u001b[0m| 10/10 [00:22<00:00,  2.25s/it]\n",
      "100%|\u001b[34m██████████\u001b[0m| 10/10 [00:21<00:00,  2.19s/it]\n",
      "100%|\u001b[34m██████████\u001b[0m| 10/10 [00:21<00:00,  2.20s/it]\n",
      "DEBUG flwr 2024-09-02 01:36:37,279 | server.py:236 | fit_round 1 received 10 results and 0 failures\n",
      "WARNING flwr 2024-09-02 01:36:37,576 | 1650717286.py:129 | No fit_metrics_aggregation_fn provided\n"
     ]
    },
    {
     "name": "stdout",
     "output_type": "stream",
     "text": [
      "Saving round 1 aggregated_parameters...\n",
      "Updated model\n"
     ]
    },
    {
     "name": "stderr",
     "output_type": "stream",
     "text": [
      "INFO flwr 2024-09-02 01:36:43,377 | server.py:125 | fit progress: (1, (1.3906214577811105, 1.7888871942247664), {'accuracy': (28.125, 27.232142857142854)}, 33.69890412176028)\n",
      "DEBUG flwr 2024-09-02 01:36:43,379 | server.py:173 | evaluate_round 1: strategy sampled 10 clients (out of 10)\n"
     ]
    },
    {
     "name": "stdout",
     "output_type": "stream",
     "text": [
      "Server-side evaluation MRI loss 1.3906214577811105 / MRI accuracy 28.125\n",
      "Server-side evaluation DNA loss 1.7888871942247664 / DNA accuracy 27.232142857142854\n",
      "\u001b[36m(DefaultActor pid=27995)\u001b[0m  To get the checkpoint\n",
      "\u001b[36m(DefaultActor pid=27995)\u001b[0m [Client 2] evaluate, config: {}\n",
      "\u001b[36m(DefaultActor pid=27995)\u001b[0m Updated model\n",
      "\u001b[36m(DefaultActor pid=27995)\u001b[0m \tTrain Epoch: 10 \tTrain_loss_mri: 1.3585 | Train_acc_mri: 29.1667 | Train_loss_dna: 1.8045 | Train_acc_dna: 33.3333 | Validation_loss_mri: 1.3201 | Validation_acc_mri: 62.5000 | Validation_loss_dna: 1.8844 | Validation_acc_dna: 25.0000\u001b[32m [repeated 21x across cluster]\u001b[0m\n",
      "\u001b[36m(DefaultActor pid=27995)\u001b[0m save graph in  results/FL/\u001b[32m [repeated 9x across cluster]\u001b[0m\n"
     ]
    },
    {
     "name": "stderr",
     "output_type": "stream",
     "text": [
      "\u001b[36m(DefaultActor pid=27995)\u001b[0m /tmp/ipykernel_26738/752934157.py:10: FutureWarning: You are using `torch.load` with `weights_only=False` (the current default value), which uses the default pickle module implicitly. It is possible to construct malicious pickle data which will execute arbitrary code during unpickling (See https://github.com/pytorch/pytorch/blob/main/SECURITY.md#untrusted-models for more details). In a future release, the default value for `weights_only` will be flipped to `True`. This limits the functions that could be executed during unpickling. Arbitrary objects will no longer be allowed to be loaded via this mode unless they are explicitly allowlisted by the user via `torch.serialization.add_safe_globals`. We recommend you start setting `weights_only=True` for any use case where you don't have full control of the loaded file. Please open an issue on GitHub for any issues related to this experimental feature.\n",
      "\u001b[36m(DefaultActor pid=27995)\u001b[0m /home/cudaq/.local/lib/python3.10/site-packages/sklearn/metrics/_ranking.py:1183: UndefinedMetricWarning: No positive samples in y_true, true positive value should be meaningless\n",
      "\u001b[36m(DefaultActor pid=27995)\u001b[0m   warnings.warn(\n",
      "DEBUG flwr 2024-09-02 01:36:44,598 | server.py:187 | evaluate_round 1 received 10 results and 0 failures\n",
      "DEBUG flwr 2024-09-02 01:36:44,598 | server.py:222 | fit_round 2: strategy sampled 10 clients (out of 10)\n",
      "\u001b[36m(DefaultActor pid=27998)\u001b[0m   return torch.load(io.BytesIO(b))\n",
      "  0%|\u001b[34m          \u001b[0m| 0/10 [00:00<?, ?it/s]\n"
     ]
    },
    {
     "name": "stdout",
     "output_type": "stream",
     "text": [
      "\u001b[36m(DefaultActor pid=27998)\u001b[0m [Client 5, round 2] fit, config: {'learning_rate': 0.003, 'batch_size': '32', 'server_round': 2, 'local_epochs': 10}\n"
     ]
    },
    {
     "name": "stderr",
     "output_type": "stream",
     "text": [
      " 10%|\u001b[34m█         \u001b[0m| 1/10 [00:02<00:19,  2.17s/it]\n",
      " 10%|\u001b[34m█         \u001b[0m| 1/10 [00:02<00:19,  2.12s/it]\n",
      " 10%|\u001b[34m█         \u001b[0m| 1/10 [00:02<00:19,  2.14s/it]\n",
      " 10%|\u001b[34m█         \u001b[0m| 1/10 [00:02<00:19,  2.20s/it]\n",
      " 10%|\u001b[34m█         \u001b[0m| 1/10 [00:02<00:20,  2.23s/it]\n",
      " 10%|\u001b[34m█         \u001b[0m| 1/10 [00:02<00:19,  2.22s/it]\n",
      " 10%|\u001b[34m█         \u001b[0m| 1/10 [00:02<00:19,  2.14s/it]\n",
      " 10%|\u001b[34m█         \u001b[0m| 1/10 [00:02<00:19,  2.21s/it]\n",
      " 10%|\u001b[34m█         \u001b[0m| 1/10 [00:02<00:19,  2.21s/it]\n",
      " 10%|\u001b[34m█         \u001b[0m| 1/10 [00:02<00:20,  2.30s/it]\n"
     ]
    },
    {
     "name": "stdout",
     "output_type": "stream",
     "text": [
      "\u001b[36m(DefaultActor pid=27995)\u001b[0m  To get the checkpoint\u001b[32m [repeated 19x across cluster]\u001b[0m\n",
      "\u001b[36m(DefaultActor pid=28000)\u001b[0m [Client 7] evaluate, config: {}\u001b[32m [repeated 9x across cluster]\u001b[0m\n",
      "\u001b[36m(DefaultActor pid=27996)\u001b[0m Updated model\u001b[32m [repeated 19x across cluster]\u001b[0m\n",
      "\u001b[36m(DefaultActor pid=27997)\u001b[0m \tTrain Epoch: 2 \tTrain_loss_mri: 1.3851 | Train_acc_mri: 27.0833 | Train_loss_dna: 1.7052 | Train_acc_dna: 35.4167 | Validation_loss_mri: 1.3841 | Validation_acc_mri: 25.0000 | Validation_loss_dna: 1.7883 | Validation_acc_dna: 50.0000\u001b[32m [repeated 11x across cluster]\u001b[0m\n"
     ]
    },
    {
     "name": "stderr",
     "output_type": "stream",
     "text": [
      " 20%|\u001b[34m██        \u001b[0m| 2/10 [00:04<00:17,  2.19s/it]\n",
      "\u001b[36m(DefaultActor pid=27995)\u001b[0m /tmp/ipykernel_26738/752934157.py:10: FutureWarning: You are using `torch.load` with `weights_only=False` (the current default value), which uses the default pickle module implicitly. It is possible to construct malicious pickle data which will execute arbitrary code during unpickling (See https://github.com/pytorch/pytorch/blob/main/SECURITY.md#untrusted-models for more details). In a future release, the default value for `weights_only` will be flipped to `True`. This limits the functions that could be executed during unpickling. Arbitrary objects will no longer be allowed to be loaded via this mode unless they are explicitly allowlisted by the user via `torch.serialization.add_safe_globals`. We recommend you start setting `weights_only=True` for any use case where you don't have full control of the loaded file. Please open an issue on GitHub for any issues related to this experimental feature.\u001b[32m [repeated 29x across cluster]\u001b[0m\n",
      "\u001b[36m(DefaultActor pid=28000)\u001b[0m /home/cudaq/.local/lib/python3.10/site-packages/sklearn/metrics/_ranking.py:1183: UndefinedMetricWarning: No positive samples in y_true, true positive value should be meaningless\u001b[32m [repeated 30x across cluster]\u001b[0m\n",
      "\u001b[36m(DefaultActor pid=28000)\u001b[0m   warnings.warn(\u001b[32m [repeated 30x across cluster]\u001b[0m\n",
      " 20%|\u001b[34m██        \u001b[0m| 2/10 [00:04<00:17,  2.22s/it]\n",
      " 20%|\u001b[34m██        \u001b[0m| 2/10 [00:04<00:17,  2.20s/it]\n",
      " 20%|\u001b[34m██        \u001b[0m| 2/10 [00:04<00:17,  2.20s/it]\n",
      " 20%|\u001b[34m██        \u001b[0m| 2/10 [00:04<00:18,  2.26s/it]\n",
      " 20%|\u001b[34m██        \u001b[0m| 2/10 [00:04<00:17,  2.21s/it]\n",
      " 20%|\u001b[34m██        \u001b[0m| 2/10 [00:04<00:17,  2.20s/it]\n",
      " 20%|\u001b[34m██        \u001b[0m| 2/10 [00:04<00:18,  2.28s/it]\n",
      " 20%|\u001b[34m██        \u001b[0m| 2/10 [00:04<00:18,  2.27s/it]\n",
      " 20%|\u001b[34m██        \u001b[0m| 2/10 [00:04<00:18,  2.30s/it]\n",
      "\u001b[36m(DefaultActor pid=27996)\u001b[0m   return torch.load(io.BytesIO(b))\u001b[32m [repeated 9x across cluster]\u001b[0m\n"
     ]
    },
    {
     "name": "stdout",
     "output_type": "stream",
     "text": [
      "\u001b[36m(DefaultActor pid=27996)\u001b[0m [Client 7, round 2] fit, config: {'learning_rate': 0.003, 'batch_size': '32', 'server_round': 2, 'local_epochs': 10}\u001b[32m [repeated 9x across cluster]\u001b[0m\n"
     ]
    },
    {
     "name": "stderr",
     "output_type": "stream",
     "text": [
      " 30%|\u001b[34m███       \u001b[0m| 3/10 [00:06<00:15,  2.22s/it]\n",
      "  0%|\u001b[34m          \u001b[0m| 0/10 [00:00<?, ?it/s]\u001b[32m [repeated 9x across cluster]\u001b[0m\n",
      " 30%|\u001b[34m███       \u001b[0m| 3/10 [00:06<00:15,  2.24s/it]\n",
      " 30%|\u001b[34m███       \u001b[0m| 3/10 [00:06<00:15,  2.21s/it]\n",
      " 30%|\u001b[34m███       \u001b[0m| 3/10 [00:06<00:15,  2.21s/it]\n",
      " 30%|\u001b[34m███       \u001b[0m| 3/10 [00:06<00:15,  2.20s/it]\n",
      " 30%|\u001b[34m███       \u001b[0m| 3/10 [00:06<00:15,  2.21s/it]\n",
      " 30%|\u001b[34m███       \u001b[0m| 3/10 [00:06<00:15,  2.27s/it]\n",
      " 30%|\u001b[34m███       \u001b[0m| 3/10 [00:06<00:15,  2.27s/it]\n",
      " 30%|\u001b[34m███       \u001b[0m| 3/10 [00:06<00:15,  2.26s/it]\n",
      " 30%|\u001b[34m███       \u001b[0m| 3/10 [00:06<00:16,  2.31s/it]\n",
      " 40%|\u001b[34m████      \u001b[0m| 4/10 [00:08<00:13,  2.19s/it]\n",
      " 40%|\u001b[34m████      \u001b[0m| 4/10 [00:08<00:13,  2.18s/it]\n",
      " 40%|\u001b[34m████      \u001b[0m| 4/10 [00:08<00:13,  2.21s/it]\n",
      " 40%|\u001b[34m████      \u001b[0m| 4/10 [00:08<00:13,  2.23s/it]\n",
      " 40%|\u001b[34m████      \u001b[0m| 4/10 [00:08<00:13,  2.21s/it]\n",
      " 40%|\u001b[34m████      \u001b[0m| 4/10 [00:08<00:13,  2.19s/it]\n",
      " 40%|\u001b[34m████      \u001b[0m| 4/10 [00:09<00:13,  2.26s/it]\n",
      " 40%|\u001b[34m████      \u001b[0m| 4/10 [00:08<00:13,  2.23s/it]\n",
      " 40%|\u001b[34m████      \u001b[0m| 4/10 [00:08<00:13,  2.23s/it]\n"
     ]
    },
    {
     "name": "stdout",
     "output_type": "stream",
     "text": [
      "\u001b[36m(DefaultActor pid=27995)\u001b[0m \tTrain Epoch: 4 \tTrain_loss_mri: 1.3639 | Train_acc_mri: 34.3750 | Train_loss_dna: 1.8450 | Train_acc_dna: 33.3333 | Validation_loss_mri: 1.3755 | Validation_acc_mri: 37.5000 | Validation_loss_dna: 1.5458 | Validation_acc_dna: 62.5000\u001b[32m [repeated 29x across cluster]\u001b[0m\n"
     ]
    },
    {
     "name": "stderr",
     "output_type": "stream",
     "text": [
      " 40%|\u001b[34m████      \u001b[0m| 4/10 [00:09<00:13,  2.27s/it]\n",
      " 50%|\u001b[34m█████     \u001b[0m| 5/10 [00:10<00:10,  2.19s/it]\n",
      " 50%|\u001b[34m█████     \u001b[0m| 5/10 [00:10<00:10,  2.18s/it]\n",
      " 50%|\u001b[34m█████     \u001b[0m| 5/10 [00:10<00:10,  2.20s/it]\n",
      " 50%|\u001b[34m█████     \u001b[0m| 5/10 [00:11<00:11,  2.22s/it]\n",
      " 50%|\u001b[34m█████     \u001b[0m| 5/10 [00:11<00:10,  2.20s/it]\n",
      " 50%|\u001b[34m█████     \u001b[0m| 5/10 [00:10<00:10,  2.19s/it]\n",
      " 50%|\u001b[34m█████     \u001b[0m| 5/10 [00:11<00:11,  2.23s/it]\n",
      " 50%|\u001b[34m█████     \u001b[0m| 5/10 [00:11<00:11,  2.22s/it]\n",
      " 50%|\u001b[34m█████     \u001b[0m| 5/10 [00:11<00:11,  2.27s/it]\n",
      " 50%|\u001b[34m█████     \u001b[0m| 5/10 [00:11<00:11,  2.29s/it]\n",
      " 60%|\u001b[34m██████    \u001b[0m| 6/10 [00:13<00:08,  2.17s/it]\n",
      " 60%|\u001b[34m██████    \u001b[0m| 6/10 [00:13<00:08,  2.17s/it]\n",
      " 60%|\u001b[34m██████    \u001b[0m| 6/10 [00:13<00:08,  2.19s/it]\n",
      " 60%|\u001b[34m██████    \u001b[0m| 6/10 [00:13<00:08,  2.21s/it]\n",
      " 60%|\u001b[34m██████    \u001b[0m| 6/10 [00:13<00:08,  2.19s/it]\n",
      " 60%|\u001b[34m██████    \u001b[0m| 6/10 [00:13<00:08,  2.17s/it]\n",
      " 60%|\u001b[34m██████    \u001b[0m| 6/10 [00:13<00:08,  2.21s/it]\n",
      " 60%|\u001b[34m██████    \u001b[0m| 6/10 [00:13<00:08,  2.20s/it]\n",
      " 60%|\u001b[34m██████    \u001b[0m| 6/10 [00:13<00:09,  2.27s/it]\n",
      " 60%|\u001b[34m██████    \u001b[0m| 6/10 [00:13<00:09,  2.28s/it]\n"
     ]
    },
    {
     "name": "stdout",
     "output_type": "stream",
     "text": [
      "\u001b[36m(DefaultActor pid=28000)\u001b[0m \tTrain Epoch: 7 \tTrain_loss_mri: 1.3482 | Train_acc_mri: 38.5417 | Train_loss_dna: 1.7693 | Train_acc_dna: 30.2083 | Validation_loss_mri: 1.2523 | Validation_acc_mri: 75.0000 | Validation_loss_dna: 1.8191 | Validation_acc_dna: 12.5000\u001b[32m [repeated 21x across cluster]\u001b[0m\n"
     ]
    },
    {
     "name": "stderr",
     "output_type": "stream",
     "text": [
      " 70%|\u001b[34m███████   \u001b[0m| 7/10 [00:15<00:06,  2.17s/it]\n",
      " 70%|\u001b[34m███████   \u001b[0m| 7/10 [00:15<00:06,  2.19s/it]\n",
      " 70%|\u001b[34m███████   \u001b[0m| 7/10 [00:15<00:06,  2.20s/it]\n",
      " 70%|\u001b[34m███████   \u001b[0m| 7/10 [00:15<00:06,  2.18s/it]\n",
      " 70%|\u001b[34m███████   \u001b[0m| 7/10 [00:15<00:06,  2.17s/it]\n",
      " 70%|\u001b[34m███████   \u001b[0m| 7/10 [00:15<00:06,  2.22s/it]\n",
      " 70%|\u001b[34m███████   \u001b[0m| 7/10 [00:15<00:06,  2.21s/it]\n",
      " 70%|\u001b[34m███████   \u001b[0m| 7/10 [00:15<00:06,  2.19s/it]\n",
      " 70%|\u001b[34m███████   \u001b[0m| 7/10 [00:15<00:06,  2.26s/it]\n",
      " 70%|\u001b[34m███████   \u001b[0m| 7/10 [00:15<00:06,  2.27s/it]\n",
      " 80%|\u001b[34m████████  \u001b[0m| 8/10 [00:17<00:04,  2.16s/it]\n",
      " 80%|\u001b[34m████████  \u001b[0m| 8/10 [00:17<00:04,  2.18s/it]\n",
      " 80%|\u001b[34m████████  \u001b[0m| 8/10 [00:17<00:04,  2.19s/it]\n",
      " 80%|\u001b[34m████████  \u001b[0m| 8/10 [00:17<00:04,  2.17s/it]\n",
      " 80%|\u001b[34m████████  \u001b[0m| 8/10 [00:17<00:04,  2.21s/it]\n",
      " 80%|\u001b[34m████████  \u001b[0m| 8/10 [00:17<00:04,  2.22s/it]\n",
      " 80%|\u001b[34m████████  \u001b[0m| 8/10 [00:17<00:04,  2.18s/it]\n",
      " 80%|\u001b[34m████████  \u001b[0m| 8/10 [00:17<00:04,  2.22s/it]\n",
      " 80%|\u001b[34m████████  \u001b[0m| 8/10 [00:18<00:04,  2.26s/it]\n",
      " 80%|\u001b[34m████████  \u001b[0m| 8/10 [00:18<00:04,  2.27s/it]\n",
      " 90%|\u001b[34m█████████ \u001b[0m| 9/10 [00:19<00:02,  2.16s/it]\n",
      " 90%|\u001b[34m█████████ \u001b[0m| 9/10 [00:19<00:02,  2.17s/it]\n",
      " 90%|\u001b[34m█████████ \u001b[0m| 9/10 [00:19<00:02,  2.19s/it]\n",
      " 90%|\u001b[34m█████████ \u001b[0m| 9/10 [00:19<00:02,  2.17s/it]\n",
      " 90%|\u001b[34m█████████ \u001b[0m| 9/10 [00:19<00:02,  2.21s/it]\n",
      " 90%|\u001b[34m█████████ \u001b[0m| 9/10 [00:19<00:02,  2.21s/it]\n",
      " 90%|\u001b[34m█████████ \u001b[0m| 9/10 [00:19<00:02,  2.20s/it]\n",
      " 90%|\u001b[34m█████████ \u001b[0m| 9/10 [00:19<00:02,  2.20s/it]\n"
     ]
    },
    {
     "name": "stdout",
     "output_type": "stream",
     "text": [
      "\u001b[36m(DefaultActor pid=27994)\u001b[0m \tTrain Epoch: 9 \tTrain_loss_mri: 1.2970 | Train_acc_mri: 34.3750 | Train_loss_dna: 1.3816 | Train_acc_dna: 42.7083 | Validation_loss_mri: 1.2746 | Validation_acc_mri: 37.5000 | Validation_loss_dna: 1.9054 | Validation_acc_dna: 25.0000\u001b[32m [repeated 28x across cluster]\u001b[0m\n"
     ]
    },
    {
     "name": "stderr",
     "output_type": "stream",
     "text": [
      " 90%|\u001b[34m█████████ \u001b[0m| 9/10 [00:20<00:02,  2.24s/it]\n",
      " 90%|\u001b[34m█████████ \u001b[0m| 9/10 [00:20<00:02,  2.25s/it]\n"
     ]
    },
    {
     "name": "stdout",
     "output_type": "stream",
     "text": [
      "\u001b[36m(DefaultActor pid=28000)\u001b[0m save graph in  results/FL/\n"
     ]
    },
    {
     "name": "stderr",
     "output_type": "stream",
     "text": [
      "100%|\u001b[34m██████████\u001b[0m| 10/10 [00:21<00:00,  2.17s/it]\n",
      "100%|\u001b[34m██████████\u001b[0m| 10/10 [00:21<00:00,  2.17s/it]\n",
      "100%|\u001b[34m██████████\u001b[0m| 10/10 [00:21<00:00,  2.19s/it]\n",
      "100%|\u001b[34m██████████\u001b[0m| 10/10 [00:21<00:00,  2.17s/it]\n",
      "100%|\u001b[34m██████████\u001b[0m| 10/10 [00:22<00:00,  2.21s/it]\n",
      "100%|\u001b[34m██████████\u001b[0m| 10/10 [00:21<00:00,  2.20s/it]\n",
      "100%|\u001b[34m██████████\u001b[0m| 10/10 [00:22<00:00,  2.21s/it]\n",
      "100%|\u001b[34m██████████\u001b[0m| 10/10 [00:22<00:00,  2.21s/it]\n",
      "100%|\u001b[34m██████████\u001b[0m| 10/10 [00:22<00:00,  2.25s/it]\n",
      "100%|\u001b[34m██████████\u001b[0m| 10/10 [00:22<00:00,  2.26s/it]\n",
      "DEBUG flwr 2024-09-02 01:37:08,060 | server.py:236 | fit_round 2 received 10 results and 0 failures\n"
     ]
    },
    {
     "name": "stdout",
     "output_type": "stream",
     "text": [
      "Saving round 2 aggregated_parameters...\n",
      "Updated model\n"
     ]
    },
    {
     "name": "stderr",
     "output_type": "stream",
     "text": [
      "INFO flwr 2024-09-02 01:37:14,079 | server.py:125 | fit progress: (2, (1.3569790806089128, 1.773152198110308), {'accuracy': (28.125, 27.232142857142854)}, 64.40050447685644)\n",
      "DEBUG flwr 2024-09-02 01:37:14,080 | server.py:173 | evaluate_round 2: strategy sampled 10 clients (out of 10)\n"
     ]
    },
    {
     "name": "stdout",
     "output_type": "stream",
     "text": [
      "Server-side evaluation MRI loss 1.3569790806089128 / MRI accuracy 28.125\n",
      "Server-side evaluation DNA loss 1.773152198110308 / DNA accuracy 27.232142857142854\n",
      "\u001b[36m(DefaultActor pid=27994)\u001b[0m  To get the checkpoint\n",
      "\u001b[36m(DefaultActor pid=27994)\u001b[0m [Client 2] evaluate, config: {}\n",
      "\u001b[36m(DefaultActor pid=27995)\u001b[0m \tTrain Epoch: 10 \tTrain_loss_mri: 1.3641 | Train_acc_mri: 30.2083 | Train_loss_dna: 1.6040 | Train_acc_dna: 30.2083 | Validation_loss_mri: 1.3438 | Validation_acc_mri: 37.5000 | Validation_loss_dna: 1.7994 | Validation_acc_dna: 75.0000\u001b[32m [repeated 11x across cluster]\u001b[0m\n",
      "\u001b[36m(DefaultActor pid=27995)\u001b[0m save graph in  results/FL/\u001b[32m [repeated 9x across cluster]\u001b[0m\n",
      "\u001b[36m(DefaultActor pid=27995)\u001b[0m Updated model\n"
     ]
    },
    {
     "name": "stderr",
     "output_type": "stream",
     "text": [
      "\u001b[36m(DefaultActor pid=27994)\u001b[0m /tmp/ipykernel_26738/752934157.py:10: FutureWarning: You are using `torch.load` with `weights_only=False` (the current default value), which uses the default pickle module implicitly. It is possible to construct malicious pickle data which will execute arbitrary code during unpickling (See https://github.com/pytorch/pytorch/blob/main/SECURITY.md#untrusted-models for more details). In a future release, the default value for `weights_only` will be flipped to `True`. This limits the functions that could be executed during unpickling. Arbitrary objects will no longer be allowed to be loaded via this mode unless they are explicitly allowlisted by the user via `torch.serialization.add_safe_globals`. We recommend you start setting `weights_only=True` for any use case where you don't have full control of the loaded file. Please open an issue on GitHub for any issues related to this experimental feature.\n",
      "\u001b[36m(DefaultActor pid=27994)\u001b[0m /home/cudaq/.local/lib/python3.10/site-packages/sklearn/metrics/_ranking.py:1183: UndefinedMetricWarning: No positive samples in y_true, true positive value should be meaningless\n",
      "\u001b[36m(DefaultActor pid=27994)\u001b[0m   warnings.warn(\n",
      "\u001b[36m(DefaultActor pid=27994)\u001b[0m /home/cudaq/.local/lib/python3.10/site-packages/sklearn/metrics/_ranking.py:1183: UndefinedMetricWarning: No positive samples in y_true, true positive value should be meaningless\n",
      "\u001b[36m(DefaultActor pid=27994)\u001b[0m   warnings.warn(\n",
      "\u001b[36m(DefaultActor pid=27994)\u001b[0m /home/cudaq/.local/lib/python3.10/site-packages/sklearn/metrics/_ranking.py:1183: UndefinedMetricWarning: No positive samples in y_true, true positive value should be meaningless\n",
      "\u001b[36m(DefaultActor pid=27994)\u001b[0m   warnings.warn(\n",
      "\u001b[36m(DefaultActor pid=27994)\u001b[0m /home/cudaq/.local/lib/python3.10/site-packages/sklearn/metrics/_ranking.py:1183: UndefinedMetricWarning: No positive samples in y_true, true positive value should be meaningless\n",
      "\u001b[36m(DefaultActor pid=27994)\u001b[0m   warnings.warn(\n",
      "DEBUG flwr 2024-09-02 01:37:15,388 | server.py:187 | evaluate_round 2 received 10 results and 0 failures\n",
      "DEBUG flwr 2024-09-02 01:37:15,389 | server.py:222 | fit_round 3: strategy sampled 10 clients (out of 10)\n",
      "\u001b[36m(DefaultActor pid=27998)\u001b[0m   return torch.load(io.BytesIO(b))\n",
      "  0%|\u001b[34m          \u001b[0m| 0/10 [00:00<?, ?it/s]\n"
     ]
    },
    {
     "name": "stdout",
     "output_type": "stream",
     "text": [
      "\u001b[36m(DefaultActor pid=28002)\u001b[0m [Client 2, round 3] fit, config: {'learning_rate': 0.003, 'batch_size': '32', 'server_round': 3, 'local_epochs': 10}\n"
     ]
    },
    {
     "name": "stderr",
     "output_type": "stream",
     "text": [
      " 10%|\u001b[34m█         \u001b[0m| 1/10 [00:02<00:19,  2.21s/it]\n",
      " 10%|\u001b[34m█         \u001b[0m| 1/10 [00:02<00:20,  2.24s/it]\n",
      " 10%|\u001b[34m█         \u001b[0m| 1/10 [00:02<00:20,  2.26s/it]\n",
      " 10%|\u001b[34m█         \u001b[0m| 1/10 [00:02<00:20,  2.28s/it]\n",
      " 10%|\u001b[34m█         \u001b[0m| 1/10 [00:02<00:20,  2.26s/it]\n",
      " 10%|\u001b[34m█         \u001b[0m| 1/10 [00:02<00:19,  2.19s/it]\n",
      " 10%|\u001b[34m█         \u001b[0m| 1/10 [00:02<00:22,  2.53s/it]\n",
      " 10%|\u001b[34m█         \u001b[0m| 1/10 [00:02<00:19,  2.20s/it]\n",
      " 10%|\u001b[34m█         \u001b[0m| 1/10 [00:02<00:19,  2.20s/it]\n",
      " 10%|\u001b[34m█         \u001b[0m| 1/10 [00:02<00:19,  2.16s/it]\n"
     ]
    },
    {
     "name": "stdout",
     "output_type": "stream",
     "text": [
      "\u001b[36m(DefaultActor pid=27996)\u001b[0m  To get the checkpoint\u001b[32m [repeated 19x across cluster]\u001b[0m\n",
      "\u001b[36m(DefaultActor pid=28000)\u001b[0m [Client 1] evaluate, config: {}\u001b[32m [repeated 9x across cluster]\u001b[0m\n",
      "\u001b[36m(DefaultActor pid=27998)\u001b[0m \tTrain Epoch: 2 \tTrain_loss_mri: 1.4168 | Train_acc_mri: 25.0000 | Train_loss_dna: 1.8925 | Train_acc_dna: 28.1250 | Validation_loss_mri: 1.4210 | Validation_acc_mri: 37.5000 | Validation_loss_dna: 1.8920 | Validation_acc_dna: 0.0000\u001b[32m [repeated 11x across cluster]\u001b[0m\n",
      "\u001b[36m(DefaultActor pid=27999)\u001b[0m Updated model\u001b[32m [repeated 19x across cluster]\u001b[0m\n"
     ]
    },
    {
     "name": "stderr",
     "output_type": "stream",
     "text": [
      " 20%|\u001b[34m██        \u001b[0m| 2/10 [00:04<00:17,  2.18s/it]\n",
      "\u001b[36m(DefaultActor pid=27996)\u001b[0m /tmp/ipykernel_26738/752934157.py:10: FutureWarning: You are using `torch.load` with `weights_only=False` (the current default value), which uses the default pickle module implicitly. It is possible to construct malicious pickle data which will execute arbitrary code during unpickling (See https://github.com/pytorch/pytorch/blob/main/SECURITY.md#untrusted-models for more details). In a future release, the default value for `weights_only` will be flipped to `True`. This limits the functions that could be executed during unpickling. Arbitrary objects will no longer be allowed to be loaded via this mode unless they are explicitly allowlisted by the user via `torch.serialization.add_safe_globals`. We recommend you start setting `weights_only=True` for any use case where you don't have full control of the loaded file. Please open an issue on GitHub for any issues related to this experimental feature.\u001b[32m [repeated 29x across cluster]\u001b[0m\n",
      "\u001b[36m(DefaultActor pid=28000)\u001b[0m /home/cudaq/.local/lib/python3.10/site-packages/sklearn/metrics/_ranking.py:1183: UndefinedMetricWarning: No positive samples in y_true, true positive value should be meaningless\u001b[32m [repeated 27x across cluster]\u001b[0m\n",
      "\u001b[36m(DefaultActor pid=28000)\u001b[0m   warnings.warn(\u001b[32m [repeated 27x across cluster]\u001b[0m\n",
      " 20%|\u001b[34m██        \u001b[0m| 2/10 [00:04<00:18,  2.26s/it]\n",
      " 20%|\u001b[34m██        \u001b[0m| 2/10 [00:04<00:18,  2.25s/it]\n",
      " 20%|\u001b[34m██        \u001b[0m| 2/10 [00:04<00:18,  2.25s/it]\n",
      " 20%|\u001b[34m██        \u001b[0m| 2/10 [00:04<00:17,  2.20s/it]\n",
      " 20%|\u001b[34m██        \u001b[0m| 2/10 [00:04<00:18,  2.34s/it]\n",
      " 20%|\u001b[34m██        \u001b[0m| 2/10 [00:04<00:17,  2.20s/it]\n",
      " 20%|\u001b[34m██        \u001b[0m| 2/10 [00:04<00:17,  2.19s/it]\n",
      " 20%|\u001b[34m██        \u001b[0m| 2/10 [00:04<00:19,  2.45s/it]\n",
      " 20%|\u001b[34m██        \u001b[0m| 2/10 [00:04<00:17,  2.20s/it]\n",
      "\u001b[36m(DefaultActor pid=28001)\u001b[0m   return torch.load(io.BytesIO(b))\u001b[32m [repeated 9x across cluster]\u001b[0m\n"
     ]
    },
    {
     "name": "stdout",
     "output_type": "stream",
     "text": [
      "\u001b[36m(DefaultActor pid=27999)\u001b[0m [Client 9, round 3] fit, config: {'learning_rate': 0.003, 'batch_size': '32', 'server_round': 3, 'local_epochs': 10}\u001b[32m [repeated 9x across cluster]\u001b[0m\n"
     ]
    },
    {
     "name": "stderr",
     "output_type": "stream",
     "text": [
      " 30%|\u001b[34m███       \u001b[0m| 3/10 [00:06<00:15,  2.17s/it]\n",
      "  0%|\u001b[34m          \u001b[0m| 0/10 [00:00<?, ?it/s]\u001b[32m [repeated 9x across cluster]\u001b[0m\n",
      " 30%|\u001b[34m███       \u001b[0m| 3/10 [00:06<00:15,  2.25s/it]\n",
      " 30%|\u001b[34m███       \u001b[0m| 3/10 [00:06<00:15,  2.24s/it]\n",
      " 30%|\u001b[34m███       \u001b[0m| 3/10 [00:06<00:15,  2.17s/it]\n",
      " 30%|\u001b[34m███       \u001b[0m| 3/10 [00:06<00:15,  2.24s/it]\n",
      " 30%|\u001b[34m███       \u001b[0m| 3/10 [00:06<00:15,  2.28s/it]\n",
      " 30%|\u001b[34m███       \u001b[0m| 3/10 [00:06<00:15,  2.19s/it]\n",
      " 30%|\u001b[34m███       \u001b[0m| 3/10 [00:06<00:15,  2.19s/it]\n",
      " 30%|\u001b[34m███       \u001b[0m| 3/10 [00:06<00:15,  2.20s/it]\n",
      " 30%|\u001b[34m███       \u001b[0m| 3/10 [00:07<00:16,  2.35s/it]\n",
      " 40%|\u001b[34m████      \u001b[0m| 4/10 [00:08<00:12,  2.16s/it]\n",
      " 40%|\u001b[34m████      \u001b[0m| 4/10 [00:08<00:13,  2.24s/it]\n",
      " 40%|\u001b[34m████      \u001b[0m| 4/10 [00:08<00:13,  2.21s/it]\n",
      " 40%|\u001b[34m████      \u001b[0m| 4/10 [00:08<00:12,  2.16s/it]\n",
      " 40%|\u001b[34m████      \u001b[0m| 4/10 [00:08<00:13,  2.17s/it]\n",
      " 40%|\u001b[34m████      \u001b[0m| 4/10 [00:08<00:13,  2.23s/it]\n",
      " 40%|\u001b[34m████      \u001b[0m| 4/10 [00:09<00:13,  2.23s/it]\n",
      " 40%|\u001b[34m████      \u001b[0m| 4/10 [00:08<00:13,  2.17s/it]\n",
      " 40%|\u001b[34m████      \u001b[0m| 4/10 [00:08<00:13,  2.18s/it]\n",
      " 40%|\u001b[34m████      \u001b[0m| 4/10 [00:09<00:13,  2.28s/it]\n"
     ]
    },
    {
     "name": "stdout",
     "output_type": "stream",
     "text": [
      "\u001b[36m(DefaultActor pid=27998)\u001b[0m \tTrain Epoch: 5 \tTrain_loss_mri: 1.3941 | Train_acc_mri: 21.8750 | Train_loss_dna: 1.7292 | Train_acc_dna: 36.4583 | Validation_loss_mri: 1.3441 | Validation_acc_mri: 50.0000 | Validation_loss_dna: 1.9985 | Validation_acc_dna: 0.0000\u001b[32m [repeated 30x across cluster]\u001b[0m\n"
     ]
    },
    {
     "name": "stderr",
     "output_type": "stream",
     "text": [
      " 50%|\u001b[34m█████     \u001b[0m| 5/10 [00:10<00:10,  2.15s/it]\n",
      " 50%|\u001b[34m█████     \u001b[0m| 5/10 [00:11<00:11,  2.24s/it]\n",
      " 50%|\u001b[34m█████     \u001b[0m| 5/10 [00:11<00:11,  2.20s/it]\n",
      " 50%|\u001b[34m█████     \u001b[0m| 5/10 [00:10<00:10,  2.16s/it]\n",
      " 50%|\u001b[34m█████     \u001b[0m| 5/10 [00:11<00:11,  2.23s/it]\n",
      " 50%|\u001b[34m█████     \u001b[0m| 5/10 [00:11<00:11,  2.21s/it]\n",
      " 50%|\u001b[34m█████     \u001b[0m| 5/10 [00:10<00:10,  2.17s/it]\n",
      " 50%|\u001b[34m█████     \u001b[0m| 5/10 [00:10<00:10,  2.19s/it]\n",
      " 50%|\u001b[34m█████     \u001b[0m| 5/10 [00:11<00:11,  2.27s/it]\n",
      " 50%|\u001b[34m█████     \u001b[0m| 5/10 [00:11<00:11,  2.31s/it]\n",
      " 60%|\u001b[34m██████    \u001b[0m| 6/10 [00:12<00:08,  2.14s/it]\n",
      " 60%|\u001b[34m██████    \u001b[0m| 6/10 [00:12<00:08,  2.15s/it]\n",
      " 60%|\u001b[34m██████    \u001b[0m| 6/10 [00:13<00:08,  2.19s/it]\n",
      " 60%|\u001b[34m██████    \u001b[0m| 6/10 [00:13<00:08,  2.25s/it]\n",
      " 60%|\u001b[34m██████    \u001b[0m| 6/10 [00:13<00:08,  2.20s/it]\n",
      " 60%|\u001b[34m██████    \u001b[0m| 6/10 [00:13<00:08,  2.16s/it]\n",
      " 60%|\u001b[34m██████    \u001b[0m| 6/10 [00:13<00:08,  2.23s/it]\n",
      " 60%|\u001b[34m██████    \u001b[0m| 6/10 [00:13<00:08,  2.19s/it]\n",
      " 60%|\u001b[34m██████    \u001b[0m| 6/10 [00:13<00:08,  2.24s/it]\n",
      " 60%|\u001b[34m██████    \u001b[0m| 6/10 [00:13<00:09,  2.26s/it]\n"
     ]
    },
    {
     "name": "stdout",
     "output_type": "stream",
     "text": [
      "\u001b[36m(DefaultActor pid=27998)\u001b[0m \tTrain Epoch: 7 \tTrain_loss_mri: 1.3300 | Train_acc_mri: 31.2500 | Train_loss_dna: 1.7036 | Train_acc_dna: 36.4583 | Validation_loss_mri: 1.3081 | Validation_acc_mri: 25.0000 | Validation_loss_dna: 2.2767 | Validation_acc_dna: 0.0000\u001b[32m [repeated 20x across cluster]\u001b[0m\n"
     ]
    },
    {
     "name": "stderr",
     "output_type": "stream",
     "text": [
      " 70%|\u001b[34m███████   \u001b[0m| 7/10 [00:15<00:07,  2.38s/it]\n",
      " 70%|\u001b[34m███████   \u001b[0m| 7/10 [00:16<00:07,  2.58s/it]\n",
      " 70%|\u001b[34m███████   \u001b[0m| 7/10 [00:16<00:07,  2.65s/it]\n",
      " 70%|\u001b[34m███████   \u001b[0m| 7/10 [00:17<00:08,  2.69s/it]\n",
      " 70%|\u001b[34m███████   \u001b[0m| 7/10 [00:16<00:08,  2.68s/it]\n",
      " 70%|\u001b[34m███████   \u001b[0m| 7/10 [00:17<00:08,  2.71s/it]\n",
      " 70%|\u001b[34m███████   \u001b[0m| 7/10 [00:16<00:08,  2.74s/it]\n",
      " 70%|\u001b[34m███████   \u001b[0m| 7/10 [00:17<00:08,  2.80s/it]\n",
      " 70%|\u001b[34m███████   \u001b[0m| 7/10 [00:17<00:08,  2.78s/it]\n",
      " 70%|\u001b[34m███████   \u001b[0m| 7/10 [00:17<00:08,  2.79s/it]\n",
      " 80%|\u001b[34m████████  \u001b[0m| 8/10 [00:19<00:05,  2.84s/it]\n",
      " 80%|\u001b[34m████████  \u001b[0m| 8/10 [00:19<00:05,  2.83s/it]\n",
      " 80%|\u001b[34m████████  \u001b[0m| 8/10 [00:20<00:05,  2.85s/it]\n",
      " 80%|\u001b[34m████████  \u001b[0m| 8/10 [00:19<00:05,  2.82s/it]\n",
      " 80%|\u001b[34m████████  \u001b[0m| 8/10 [00:20<00:05,  2.90s/it]\n",
      " 80%|\u001b[34m████████  \u001b[0m| 8/10 [00:20<00:05,  2.85s/it]\n",
      " 80%|\u001b[34m████████  \u001b[0m| 8/10 [00:20<00:05,  2.84s/it]\n",
      " 80%|\u001b[34m████████  \u001b[0m| 8/10 [00:20<00:05,  2.85s/it]\n",
      " 80%|\u001b[34m████████  \u001b[0m| 8/10 [00:20<00:05,  2.84s/it]\n",
      " 80%|\u001b[34m████████  \u001b[0m| 8/10 [00:20<00:05,  2.83s/it]\n"
     ]
    },
    {
     "name": "stdout",
     "output_type": "stream",
     "text": [
      "\u001b[36m(DefaultActor pid=27998)\u001b[0m \tTrain Epoch: 9 \tTrain_loss_mri: 1.3523 | Train_acc_mri: 30.2083 | Train_loss_dna: 1.7020 | Train_acc_dna: 35.4167 | Validation_loss_mri: 1.3033 | Validation_acc_mri: 25.0000 | Validation_loss_dna: 2.3383 | Validation_acc_dna: 0.0000\u001b[32m [repeated 20x across cluster]\u001b[0m\n"
     ]
    },
    {
     "name": "stderr",
     "output_type": "stream",
     "text": [
      " 90%|\u001b[34m█████████ \u001b[0m| 9/10 [00:21<00:02,  2.63s/it]\n",
      " 90%|\u001b[34m█████████ \u001b[0m| 9/10 [00:22<00:02,  2.64s/it]\n",
      " 90%|\u001b[34m█████████ \u001b[0m| 9/10 [00:22<00:02,  2.63s/it]\n",
      " 90%|\u001b[34m█████████ \u001b[0m| 9/10 [00:22<00:02,  2.61s/it]\n",
      " 90%|\u001b[34m█████████ \u001b[0m| 9/10 [00:22<00:02,  2.68s/it]\n",
      " 90%|\u001b[34m█████████ \u001b[0m| 9/10 [00:22<00:02,  2.64s/it]\n",
      " 90%|\u001b[34m█████████ \u001b[0m| 9/10 [00:22<00:02,  2.62s/it]\n",
      " 90%|\u001b[34m█████████ \u001b[0m| 9/10 [00:22<00:02,  2.63s/it]\n",
      " 90%|\u001b[34m█████████ \u001b[0m| 9/10 [00:22<00:02,  2.62s/it]\n",
      " 90%|\u001b[34m█████████ \u001b[0m| 9/10 [00:22<00:02,  2.65s/it]\n"
     ]
    },
    {
     "name": "stdout",
     "output_type": "stream",
     "text": [
      "\u001b[36m(DefaultActor pid=27998)\u001b[0m save graph in  results/FL/\n"
     ]
    },
    {
     "name": "stderr",
     "output_type": "stream",
     "text": [
      "100%|\u001b[34m██████████\u001b[0m| 10/10 [00:23<00:00,  2.39s/it]\n",
      "100%|\u001b[34m██████████\u001b[0m| 10/10 [00:24<00:00,  2.41s/it]\n",
      "100%|\u001b[34m██████████\u001b[0m| 10/10 [00:24<00:00,  2.44s/it]\n",
      "100%|\u001b[34m██████████\u001b[0m| 10/10 [00:24<00:00,  2.41s/it]\n",
      "100%|\u001b[34m██████████\u001b[0m| 10/10 [00:24<00:00,  2.47s/it]\n",
      "100%|\u001b[34m██████████\u001b[0m| 10/10 [00:24<00:00,  2.45s/it]\n",
      "100%|\u001b[34m██████████\u001b[0m| 10/10 [00:24<00:00,  2.47s/it]\n",
      "100%|\u001b[34m██████████\u001b[0m| 10/10 [00:24<00:00,  2.45s/it]\n",
      "100%|\u001b[34m██████████\u001b[0m| 10/10 [00:24<00:00,  2.44s/it]\n",
      "100%|\u001b[34m██████████\u001b[0m| 10/10 [00:24<00:00,  2.48s/it]\n",
      "DEBUG flwr 2024-09-02 01:37:40,855 | server.py:236 | fit_round 3 received 10 results and 0 failures\n"
     ]
    },
    {
     "name": "stdout",
     "output_type": "stream",
     "text": [
      "Saving round 3 aggregated_parameters...\n",
      "Updated model\n"
     ]
    },
    {
     "name": "stderr",
     "output_type": "stream",
     "text": [
      "INFO flwr 2024-09-02 01:37:46,681 | server.py:125 | fit progress: (3, (1.2066626037870134, 1.842876400266375), {'accuracy': (39.285714285714285, 25.0)}, 97.00227179657668)\n",
      "DEBUG flwr 2024-09-02 01:37:46,683 | server.py:173 | evaluate_round 3: strategy sampled 10 clients (out of 10)\n"
     ]
    },
    {
     "name": "stdout",
     "output_type": "stream",
     "text": [
      "Server-side evaluation MRI loss 1.2066626037870134 / MRI accuracy 39.285714285714285\n",
      "Server-side evaluation DNA loss 1.842876400266375 / DNA accuracy 25.0\n",
      "\u001b[36m(DefaultActor pid=27999)\u001b[0m  To get the checkpoint\n",
      "\u001b[36m(DefaultActor pid=27999)\u001b[0m [Client 4] evaluate, config: {}\n",
      "\u001b[36m(DefaultActor pid=27999)\u001b[0m Updated model\n",
      "\u001b[36m(DefaultActor pid=28000)\u001b[0m \tTrain Epoch: 10 \tTrain_loss_mri: 0.9854 | Train_acc_mri: 48.9583 | Train_loss_dna: 1.5103 | Train_acc_dna: 37.5000 | Validation_loss_mri: 0.8337 | Validation_acc_mri: 75.0000 | Validation_loss_dna: 1.8306 | Validation_acc_dna: 62.5000\u001b[32m [repeated 19x across cluster]\u001b[0m\n",
      "\u001b[36m(DefaultActor pid=28000)\u001b[0m save graph in  results/FL/\u001b[32m [repeated 9x across cluster]\u001b[0m\n"
     ]
    },
    {
     "name": "stderr",
     "output_type": "stream",
     "text": [
      "\u001b[36m(DefaultActor pid=27999)\u001b[0m /tmp/ipykernel_26738/752934157.py:10: FutureWarning: You are using `torch.load` with `weights_only=False` (the current default value), which uses the default pickle module implicitly. It is possible to construct malicious pickle data which will execute arbitrary code during unpickling (See https://github.com/pytorch/pytorch/blob/main/SECURITY.md#untrusted-models for more details). In a future release, the default value for `weights_only` will be flipped to `True`. This limits the functions that could be executed during unpickling. Arbitrary objects will no longer be allowed to be loaded via this mode unless they are explicitly allowlisted by the user via `torch.serialization.add_safe_globals`. We recommend you start setting `weights_only=True` for any use case where you don't have full control of the loaded file. Please open an issue on GitHub for any issues related to this experimental feature.\n",
      "\u001b[36m(DefaultActor pid=28001)\u001b[0m /home/cudaq/.local/lib/python3.10/site-packages/sklearn/metrics/_ranking.py:1183: UndefinedMetricWarning: No positive samples in y_true, true positive value should be meaningless\n",
      "\u001b[36m(DefaultActor pid=28001)\u001b[0m   warnings.warn(\n",
      "DEBUG flwr 2024-09-02 01:37:47,926 | server.py:187 | evaluate_round 3 received 10 results and 0 failures\n",
      "DEBUG flwr 2024-09-02 01:37:47,927 | server.py:222 | fit_round 4: strategy sampled 10 clients (out of 10)\n",
      "\u001b[36m(DefaultActor pid=27997)\u001b[0m   return torch.load(io.BytesIO(b))\n",
      "  0%|\u001b[34m          \u001b[0m| 0/10 [00:00<?, ?it/s]\n"
     ]
    },
    {
     "name": "stdout",
     "output_type": "stream",
     "text": [
      "\u001b[36m(DefaultActor pid=27997)\u001b[0m [Client 5, round 4] fit, config: {'learning_rate': 0.003, 'batch_size': '32', 'server_round': 4, 'local_epochs': 10}\n"
     ]
    },
    {
     "name": "stderr",
     "output_type": "stream",
     "text": [
      " 10%|\u001b[34m█         \u001b[0m| 1/10 [00:02<00:19,  2.12s/it]\n",
      " 10%|\u001b[34m█         \u001b[0m| 1/10 [00:02<00:19,  2.19s/it]\n",
      " 10%|\u001b[34m█         \u001b[0m| 1/10 [00:02<00:19,  2.22s/it]\n",
      " 10%|\u001b[34m█         \u001b[0m| 1/10 [00:02<00:19,  2.13s/it]\n",
      " 10%|\u001b[34m█         \u001b[0m| 1/10 [00:02<00:19,  2.15s/it]\n",
      " 10%|\u001b[34m█         \u001b[0m| 1/10 [00:02<00:19,  2.13s/it]\n",
      " 10%|\u001b[34m█         \u001b[0m| 1/10 [00:02<00:19,  2.15s/it]\n",
      " 10%|\u001b[34m█         \u001b[0m| 1/10 [00:02<00:19,  2.12s/it]\n",
      " 10%|\u001b[34m█         \u001b[0m| 1/10 [00:02<00:19,  2.18s/it]\n",
      " 10%|\u001b[34m█         \u001b[0m| 1/10 [00:02<00:20,  2.23s/it]\n"
     ]
    },
    {
     "name": "stdout",
     "output_type": "stream",
     "text": [
      "\u001b[36m(DefaultActor pid=28000)\u001b[0m  To get the checkpoint\u001b[32m [repeated 19x across cluster]\u001b[0m\n",
      "\u001b[36m(DefaultActor pid=27998)\u001b[0m [Client 0] evaluate, config: {}\u001b[32m [repeated 9x across cluster]\u001b[0m\n",
      "\u001b[36m(DefaultActor pid=28000)\u001b[0m Updated model\u001b[32m [repeated 19x across cluster]\u001b[0m\n",
      "\u001b[36m(DefaultActor pid=27998)\u001b[0m \tTrain Epoch: 2 \tTrain_loss_mri: 0.9923 | Train_acc_mri: 66.6667 | Train_loss_dna: 1.7166 | Train_acc_dna: 43.7500 | Validation_loss_mri: 1.2780 | Validation_acc_mri: 37.5000 | Validation_loss_dna: 2.0820 | Validation_acc_dna: 25.0000\u001b[32m [repeated 11x across cluster]\u001b[0m\n"
     ]
    },
    {
     "name": "stderr",
     "output_type": "stream",
     "text": [
      " 20%|\u001b[34m██        \u001b[0m| 2/10 [00:04<00:17,  2.14s/it]\n",
      "\u001b[36m(DefaultActor pid=28000)\u001b[0m /tmp/ipykernel_26738/752934157.py:10: FutureWarning: You are using `torch.load` with `weights_only=False` (the current default value), which uses the default pickle module implicitly. It is possible to construct malicious pickle data which will execute arbitrary code during unpickling (See https://github.com/pytorch/pytorch/blob/main/SECURITY.md#untrusted-models for more details). In a future release, the default value for `weights_only` will be flipped to `True`. This limits the functions that could be executed during unpickling. Arbitrary objects will no longer be allowed to be loaded via this mode unless they are explicitly allowlisted by the user via `torch.serialization.add_safe_globals`. We recommend you start setting `weights_only=True` for any use case where you don't have full control of the loaded file. Please open an issue on GitHub for any issues related to this experimental feature.\u001b[32m [repeated 29x across cluster]\u001b[0m\n",
      "\u001b[36m(DefaultActor pid=27998)\u001b[0m /home/cudaq/.local/lib/python3.10/site-packages/sklearn/metrics/_ranking.py:1183: UndefinedMetricWarning: No positive samples in y_true, true positive value should be meaningless\u001b[32m [repeated 30x across cluster]\u001b[0m\n",
      "\u001b[36m(DefaultActor pid=27998)\u001b[0m   warnings.warn(\u001b[32m [repeated 30x across cluster]\u001b[0m\n",
      " 20%|\u001b[34m██        \u001b[0m| 2/10 [00:04<00:17,  2.17s/it]\n",
      " 20%|\u001b[34m██        \u001b[0m| 2/10 [00:04<00:17,  2.13s/it]\n",
      " 20%|\u001b[34m██        \u001b[0m| 2/10 [00:04<00:17,  2.16s/it]\n",
      " 20%|\u001b[34m██        \u001b[0m| 2/10 [00:04<00:17,  2.17s/it]\n",
      " 20%|\u001b[34m██        \u001b[0m| 2/10 [00:04<00:17,  2.24s/it]\n",
      " 20%|\u001b[34m██        \u001b[0m| 2/10 [00:04<00:17,  2.19s/it]\n",
      " 20%|\u001b[34m██        \u001b[0m| 2/10 [00:04<00:17,  2.13s/it]\n",
      " 20%|\u001b[34m██        \u001b[0m| 2/10 [00:04<00:17,  2.19s/it]\n",
      " 20%|\u001b[34m██        \u001b[0m| 2/10 [00:04<00:17,  2.19s/it]\n"
     ]
    },
    {
     "name": "stdout",
     "output_type": "stream",
     "text": [
      "\u001b[36m(DefaultActor pid=28000)\u001b[0m [Client 8, round 4] fit, config: {'learning_rate': 0.003, 'batch_size': '32', 'server_round': 4, 'local_epochs': 10}\u001b[32m [repeated 9x across cluster]\u001b[0m\n"
     ]
    },
    {
     "name": "stderr",
     "output_type": "stream",
     "text": [
      " 30%|\u001b[34m███       \u001b[0m| 3/10 [00:06<00:15,  2.15s/it]\n",
      "\u001b[36m(DefaultActor pid=28001)\u001b[0m   return torch.load(io.BytesIO(b))\u001b[32m [repeated 9x across cluster]\u001b[0m\n",
      "  0%|\u001b[34m          \u001b[0m| 0/10 [00:00<?, ?it/s]\u001b[32m [repeated 9x across cluster]\u001b[0m\n",
      " 30%|\u001b[34m███       \u001b[0m| 3/10 [00:06<00:15,  2.17s/it]\n",
      " 30%|\u001b[34m███       \u001b[0m| 3/10 [00:06<00:15,  2.15s/it]\n",
      " 30%|\u001b[34m███       \u001b[0m| 3/10 [00:06<00:15,  2.17s/it]\n",
      " 30%|\u001b[34m███       \u001b[0m| 3/10 [00:06<00:14,  2.13s/it]\n",
      " 30%|\u001b[34m███       \u001b[0m| 3/10 [00:06<00:15,  2.17s/it]\n",
      " 30%|\u001b[34m███       \u001b[0m| 3/10 [00:06<00:15,  2.18s/it]\n",
      " 30%|\u001b[34m███       \u001b[0m| 3/10 [00:06<00:15,  2.21s/it]\n",
      " 30%|\u001b[34m███       \u001b[0m| 3/10 [00:06<00:15,  2.18s/it]\n",
      " 30%|\u001b[34m███       \u001b[0m| 3/10 [00:06<00:15,  2.18s/it]\n",
      " 40%|\u001b[34m████      \u001b[0m| 4/10 [00:08<00:12,  2.13s/it]\n",
      " 40%|\u001b[34m████      \u001b[0m| 4/10 [00:08<00:12,  2.14s/it]\n",
      " 40%|\u001b[34m████      \u001b[0m| 4/10 [00:08<00:12,  2.15s/it]\n",
      " 40%|\u001b[34m████      \u001b[0m| 4/10 [00:08<00:12,  2.15s/it]\n",
      " 40%|\u001b[34m████      \u001b[0m| 4/10 [00:08<00:12,  2.16s/it]\n",
      " 40%|\u001b[34m████      \u001b[0m| 4/10 [00:08<00:12,  2.13s/it]\n",
      " 40%|\u001b[34m████      \u001b[0m| 4/10 [00:08<00:13,  2.17s/it]\n",
      " 40%|\u001b[34m████      \u001b[0m| 4/10 [00:08<00:13,  2.20s/it]\n",
      " 40%|\u001b[34m████      \u001b[0m| 4/10 [00:08<00:12,  2.17s/it]\n",
      " 40%|\u001b[34m████      \u001b[0m| 4/10 [00:08<00:13,  2.17s/it]\n"
     ]
    },
    {
     "name": "stdout",
     "output_type": "stream",
     "text": [
      "\u001b[36m(DefaultActor pid=27997)\u001b[0m \tTrain Epoch: 5 \tTrain_loss_mri: 0.8515 | Train_acc_mri: 63.5417 | Train_loss_dna: 1.6149 | Train_acc_dna: 41.6667 | Validation_loss_mri: 1.0999 | Validation_acc_mri: 37.5000 | Validation_loss_dna: 1.8092 | Validation_acc_dna: 37.5000\u001b[32m [repeated 30x across cluster]\u001b[0m\n"
     ]
    },
    {
     "name": "stderr",
     "output_type": "stream",
     "text": [
      " 50%|\u001b[34m█████     \u001b[0m| 5/10 [00:10<00:10,  2.15s/it]\n",
      " 50%|\u001b[34m█████     \u001b[0m| 5/10 [00:10<00:10,  2.13s/it]\n",
      " 50%|\u001b[34m█████     \u001b[0m| 5/10 [00:10<00:10,  2.15s/it]\n",
      " 50%|\u001b[34m█████     \u001b[0m| 5/10 [00:10<00:10,  2.12s/it]\n",
      " 50%|\u001b[34m█████     \u001b[0m| 5/10 [00:10<00:10,  2.15s/it]\n",
      " 50%|\u001b[34m█████     \u001b[0m| 5/10 [00:10<00:10,  2.16s/it]\n",
      " 50%|\u001b[34m█████     \u001b[0m| 5/10 [00:10<00:10,  2.17s/it]\n",
      " 50%|\u001b[34m█████     \u001b[0m| 5/10 [00:11<00:10,  2.19s/it]\n",
      " 50%|\u001b[34m█████     \u001b[0m| 5/10 [00:10<00:10,  2.16s/it]\n",
      " 50%|\u001b[34m█████     \u001b[0m| 5/10 [00:10<00:10,  2.18s/it]\n",
      " 60%|\u001b[34m██████    \u001b[0m| 6/10 [00:12<00:08,  2.14s/it]\n",
      " 60%|\u001b[34m██████    \u001b[0m| 6/10 [00:12<00:08,  2.12s/it]\n",
      " 60%|\u001b[34m██████    \u001b[0m| 6/10 [00:12<00:08,  2.15s/it]\n",
      " 60%|\u001b[34m██████    \u001b[0m| 6/10 [00:12<00:08,  2.12s/it]\n",
      " 60%|\u001b[34m██████    \u001b[0m| 6/10 [00:12<00:08,  2.15s/it]\n",
      " 60%|\u001b[34m██████    \u001b[0m| 6/10 [00:12<00:08,  2.16s/it]\n",
      " 60%|\u001b[34m██████    \u001b[0m| 6/10 [00:13<00:08,  2.17s/it]\n",
      " 60%|\u001b[34m██████    \u001b[0m| 6/10 [00:13<00:08,  2.18s/it]\n",
      " 60%|\u001b[34m██████    \u001b[0m| 6/10 [00:12<00:08,  2.15s/it]\n",
      " 60%|\u001b[34m██████    \u001b[0m| 6/10 [00:13<00:08,  2.17s/it]\n",
      " 70%|\u001b[34m███████   \u001b[0m| 7/10 [00:14<00:06,  2.11s/it]\n",
      " 70%|\u001b[34m███████   \u001b[0m| 7/10 [00:15<00:06,  2.14s/it]\n",
      " 70%|\u001b[34m███████   \u001b[0m| 7/10 [00:15<00:06,  2.15s/it]\n",
      " 70%|\u001b[34m███████   \u001b[0m| 7/10 [00:14<00:06,  2.13s/it]\n",
      " 70%|\u001b[34m███████   \u001b[0m| 7/10 [00:15<00:06,  2.14s/it]\n",
      " 70%|\u001b[34m███████   \u001b[0m| 7/10 [00:15<00:06,  2.17s/it]\n",
      " 70%|\u001b[34m███████   \u001b[0m| 7/10 [00:15<00:06,  2.17s/it]\n",
      " 70%|\u001b[34m███████   \u001b[0m| 7/10 [00:15<00:06,  2.18s/it]\n",
      " 70%|\u001b[34m███████   \u001b[0m| 7/10 [00:15<00:06,  2.14s/it]\n",
      " 70%|\u001b[34m███████   \u001b[0m| 7/10 [00:15<00:06,  2.17s/it]\n"
     ]
    },
    {
     "name": "stdout",
     "output_type": "stream",
     "text": [
      "\u001b[36m(DefaultActor pid=27996)\u001b[0m \tTrain Epoch: 8 \tTrain_loss_mri: 0.8712 | Train_acc_mri: 60.4167 | Train_loss_dna: 1.4654 | Train_acc_dna: 53.1250 | Validation_loss_mri: 1.0931 | Validation_acc_mri: 50.0000 | Validation_loss_dna: 1.7279 | Validation_acc_dna: 50.0000\u001b[32m [repeated 30x across cluster]\u001b[0m\n"
     ]
    },
    {
     "name": "stderr",
     "output_type": "stream",
     "text": [
      " 80%|\u001b[34m████████  \u001b[0m| 8/10 [00:17<00:04,  2.16s/it]\n",
      " 80%|\u001b[34m████████  \u001b[0m| 8/10 [00:17<00:04,  2.19s/it]\n",
      " 80%|\u001b[34m████████  \u001b[0m| 8/10 [00:17<00:04,  2.19s/it]\n",
      " 80%|\u001b[34m████████  \u001b[0m| 8/10 [00:17<00:04,  2.18s/it]\n",
      " 80%|\u001b[34m████████  \u001b[0m| 8/10 [00:17<00:04,  2.18s/it]\n",
      " 80%|\u001b[34m████████  \u001b[0m| 8/10 [00:17<00:04,  2.21s/it]\n",
      " 80%|\u001b[34m████████  \u001b[0m| 8/10 [00:17<00:04,  2.21s/it]\n",
      " 80%|\u001b[34m████████  \u001b[0m| 8/10 [00:17<00:04,  2.20s/it]\n",
      " 80%|\u001b[34m████████  \u001b[0m| 8/10 [00:17<00:04,  2.19s/it]\n",
      " 80%|\u001b[34m████████  \u001b[0m| 8/10 [00:17<00:04,  2.23s/it]\n",
      " 90%|\u001b[34m█████████ \u001b[0m| 9/10 [00:19<00:02,  2.15s/it]\n",
      " 90%|\u001b[34m█████████ \u001b[0m| 9/10 [00:19<00:02,  2.17s/it]\n",
      " 90%|\u001b[34m█████████ \u001b[0m| 9/10 [00:19<00:02,  2.18s/it]\n",
      " 90%|\u001b[34m█████████ \u001b[0m| 9/10 [00:19<00:02,  2.15s/it]\n",
      " 90%|\u001b[34m█████████ \u001b[0m| 9/10 [00:19<00:02,  2.18s/it]\n",
      " 90%|\u001b[34m█████████ \u001b[0m| 9/10 [00:19<00:02,  2.18s/it]\n",
      " 90%|\u001b[34m█████████ \u001b[0m| 9/10 [00:19<00:02,  2.20s/it]\n",
      " 90%|\u001b[34m█████████ \u001b[0m| 9/10 [00:19<00:02,  2.19s/it]\n",
      " 90%|\u001b[34m█████████ \u001b[0m| 9/10 [00:19<00:02,  2.18s/it]\n",
      " 90%|\u001b[34m█████████ \u001b[0m| 9/10 [00:19<00:02,  2.23s/it]\n"
     ]
    },
    {
     "name": "stdout",
     "output_type": "stream",
     "text": [
      "\u001b[36m(DefaultActor pid=27996)\u001b[0m save graph in  results/FL/\n"
     ]
    },
    {
     "name": "stderr",
     "output_type": "stream",
     "text": [
      "100%|\u001b[34m██████████\u001b[0m| 10/10 [00:21<00:00,  2.14s/it]\n",
      "100%|\u001b[34m██████████\u001b[0m| 10/10 [00:21<00:00,  2.16s/it]\n",
      "100%|\u001b[34m██████████\u001b[0m| 10/10 [00:21<00:00,  2.17s/it]\n",
      "100%|\u001b[34m██████████\u001b[0m| 10/10 [00:21<00:00,  2.15s/it]\n",
      "100%|\u001b[34m██████████\u001b[0m| 10/10 [00:21<00:00,  2.16s/it]\n",
      "100%|\u001b[34m██████████\u001b[0m| 10/10 [00:21<00:00,  2.17s/it]\n",
      "100%|\u001b[34m██████████\u001b[0m| 10/10 [00:21<00:00,  2.19s/it]\n",
      "100%|\u001b[34m██████████\u001b[0m| 10/10 [00:21<00:00,  2.18s/it]\n",
      "100%|\u001b[34m██████████\u001b[0m| 10/10 [00:21<00:00,  2.17s/it]\n"
     ]
    },
    {
     "name": "stdout",
     "output_type": "stream",
     "text": [
      "\u001b[36m(DefaultActor pid=27999)\u001b[0m \tTrain Epoch: 10 \tTrain_loss_mri: 0.7428 | Train_acc_mri: 66.6667 | Train_loss_dna: 1.4972 | Train_acc_dna: 34.3750 | Validation_loss_mri: 0.6802 | Validation_acc_mri: 87.5000 | Validation_loss_dna: 1.9898 | Validation_acc_dna: 25.0000\u001b[32m [repeated 29x across cluster]\u001b[0m\n"
     ]
    },
    {
     "name": "stderr",
     "output_type": "stream",
     "text": [
      "100%|\u001b[34m██████████\u001b[0m| 10/10 [00:21<00:00,  2.20s/it]\n",
      "DEBUG flwr 2024-09-02 01:38:10,784 | server.py:236 | fit_round 4 received 10 results and 0 failures\n"
     ]
    },
    {
     "name": "stdout",
     "output_type": "stream",
     "text": [
      "Saving round 4 aggregated_parameters...\n",
      "Updated model\n"
     ]
    },
    {
     "name": "stderr",
     "output_type": "stream",
     "text": [
      "INFO flwr 2024-09-02 01:38:16,981 | server.py:125 | fit progress: (4, (1.1059624552726746, 1.8019402197429113), {'accuracy': (42.410714285714285, 26.339285714285715)}, 127.30321200797334)\n",
      "DEBUG flwr 2024-09-02 01:38:16,983 | server.py:173 | evaluate_round 4: strategy sampled 10 clients (out of 10)\n"
     ]
    },
    {
     "name": "stdout",
     "output_type": "stream",
     "text": [
      "Server-side evaluation MRI loss 1.1059624552726746 / MRI accuracy 42.410714285714285\n",
      "Server-side evaluation DNA loss 1.8019402197429113 / DNA accuracy 26.339285714285715\n",
      "\u001b[36m(DefaultActor pid=27993)\u001b[0m  To get the checkpoint\n",
      "\u001b[36m(DefaultActor pid=27993)\u001b[0m [Client 3] evaluate, config: {}\n",
      "\u001b[36m(DefaultActor pid=27993)\u001b[0m Updated model\n",
      "\u001b[36m(DefaultActor pid=27999)\u001b[0m save graph in  results/FL/\u001b[32m [repeated 9x across cluster]\u001b[0m\n"
     ]
    },
    {
     "name": "stderr",
     "output_type": "stream",
     "text": [
      "\u001b[36m(DefaultActor pid=27993)\u001b[0m /tmp/ipykernel_26738/752934157.py:10: FutureWarning: You are using `torch.load` with `weights_only=False` (the current default value), which uses the default pickle module implicitly. It is possible to construct malicious pickle data which will execute arbitrary code during unpickling (See https://github.com/pytorch/pytorch/blob/main/SECURITY.md#untrusted-models for more details). In a future release, the default value for `weights_only` will be flipped to `True`. This limits the functions that could be executed during unpickling. Arbitrary objects will no longer be allowed to be loaded via this mode unless they are explicitly allowlisted by the user via `torch.serialization.add_safe_globals`. We recommend you start setting `weights_only=True` for any use case where you don't have full control of the loaded file. Please open an issue on GitHub for any issues related to this experimental feature.\n",
      "\u001b[36m(DefaultActor pid=27999)\u001b[0m /home/cudaq/.local/lib/python3.10/site-packages/sklearn/metrics/_ranking.py:1183: UndefinedMetricWarning: No positive samples in y_true, true positive value should be meaningless\n",
      "\u001b[36m(DefaultActor pid=27999)\u001b[0m   warnings.warn(\n",
      "DEBUG flwr 2024-09-02 01:38:18,225 | server.py:187 | evaluate_round 4 received 10 results and 0 failures\n",
      "DEBUG flwr 2024-09-02 01:38:18,226 | server.py:222 | fit_round 5: strategy sampled 10 clients (out of 10)\n",
      "\u001b[36m(DefaultActor pid=27996)\u001b[0m   return torch.load(io.BytesIO(b))\n",
      "  0%|\u001b[34m          \u001b[0m| 0/10 [00:00<?, ?it/s]\n"
     ]
    },
    {
     "name": "stdout",
     "output_type": "stream",
     "text": [
      "\u001b[36m(DefaultActor pid=27996)\u001b[0m [Client 1, round 5] fit, config: {'learning_rate': 0.003, 'batch_size': '32', 'server_round': 5, 'local_epochs': 10}\n",
      "\u001b[36m(DefaultActor pid=27997)\u001b[0m \tTrain Epoch: 1 \tTrain_loss_mri: 0.9382 | Train_acc_mri: 48.9583 | Train_loss_dna: 1.8678 | Train_acc_dna: 31.2500 | Validation_loss_mri: 0.9999 | Validation_acc_mri: 75.0000 | Validation_loss_dna: 2.1028 | Validation_acc_dna: 25.0000\n"
     ]
    },
    {
     "name": "stderr",
     "output_type": "stream",
     "text": [
      " 10%|\u001b[34m█         \u001b[0m| 1/10 [00:02<00:19,  2.15s/it]\n",
      " 10%|\u001b[34m█         \u001b[0m| 1/10 [00:02<00:19,  2.17s/it]\n",
      " 10%|\u001b[34m█         \u001b[0m| 1/10 [00:02<00:19,  2.15s/it]\n",
      " 10%|\u001b[34m█         \u001b[0m| 1/10 [00:02<00:20,  2.25s/it]\n",
      " 10%|\u001b[34m█         \u001b[0m| 1/10 [00:02<00:19,  2.15s/it]\n",
      " 10%|\u001b[34m█         \u001b[0m| 1/10 [00:02<00:19,  2.20s/it]\n",
      " 10%|\u001b[34m█         \u001b[0m| 1/10 [00:02<00:19,  2.15s/it]\n",
      " 10%|\u001b[34m█         \u001b[0m| 1/10 [00:02<00:19,  2.17s/it]\n",
      " 10%|\u001b[34m█         \u001b[0m| 1/10 [00:02<00:19,  2.15s/it]\n",
      " 10%|\u001b[34m█         \u001b[0m| 1/10 [00:02<00:19,  2.13s/it]\n"
     ]
    },
    {
     "name": "stdout",
     "output_type": "stream",
     "text": [
      "\u001b[36m(DefaultActor pid=27999)\u001b[0m  To get the checkpoint\u001b[32m [repeated 19x across cluster]\u001b[0m\n",
      "\u001b[36m(DefaultActor pid=27998)\u001b[0m [Client 1] evaluate, config: {}\u001b[32m [repeated 9x across cluster]\u001b[0m\n",
      "\u001b[36m(DefaultActor pid=27999)\u001b[0m Updated model\u001b[32m [repeated 19x across cluster]\u001b[0m\n"
     ]
    },
    {
     "name": "stderr",
     "output_type": "stream",
     "text": [
      " 20%|\u001b[34m██        \u001b[0m| 2/10 [00:04<00:17,  2.15s/it]\n",
      "\u001b[36m(DefaultActor pid=27999)\u001b[0m /tmp/ipykernel_26738/752934157.py:10: FutureWarning: You are using `torch.load` with `weights_only=False` (the current default value), which uses the default pickle module implicitly. It is possible to construct malicious pickle data which will execute arbitrary code during unpickling (See https://github.com/pytorch/pytorch/blob/main/SECURITY.md#untrusted-models for more details). In a future release, the default value for `weights_only` will be flipped to `True`. This limits the functions that could be executed during unpickling. Arbitrary objects will no longer be allowed to be loaded via this mode unless they are explicitly allowlisted by the user via `torch.serialization.add_safe_globals`. We recommend you start setting `weights_only=True` for any use case where you don't have full control of the loaded file. Please open an issue on GitHub for any issues related to this experimental feature.\u001b[32m [repeated 29x across cluster]\u001b[0m\n",
      "\u001b[36m(DefaultActor pid=27998)\u001b[0m /home/cudaq/.local/lib/python3.10/site-packages/sklearn/metrics/_ranking.py:1183: UndefinedMetricWarning: No positive samples in y_true, true positive value should be meaningless\u001b[32m [repeated 30x across cluster]\u001b[0m\n",
      "\u001b[36m(DefaultActor pid=27998)\u001b[0m   warnings.warn(\u001b[32m [repeated 30x across cluster]\u001b[0m\n",
      " 20%|\u001b[34m██        \u001b[0m| 2/10 [00:04<00:17,  2.15s/it]\n",
      " 20%|\u001b[34m██        \u001b[0m| 2/10 [00:04<00:17,  2.15s/it]\n",
      " 20%|\u001b[34m██        \u001b[0m| 2/10 [00:04<00:17,  2.15s/it]\n",
      " 20%|\u001b[34m██        \u001b[0m| 2/10 [00:04<00:17,  2.16s/it]\n",
      " 20%|\u001b[34m██        \u001b[0m| 2/10 [00:04<00:18,  2.26s/it]\n",
      " 20%|\u001b[34m██        \u001b[0m| 2/10 [00:04<00:16,  2.12s/it]\n",
      " 20%|\u001b[34m██        \u001b[0m| 2/10 [00:04<00:17,  2.16s/it]\n",
      " 20%|\u001b[34m██        \u001b[0m| 2/10 [00:04<00:17,  2.17s/it]\n",
      " 20%|\u001b[34m██        \u001b[0m| 2/10 [00:04<00:18,  2.26s/it]\n"
     ]
    },
    {
     "name": "stdout",
     "output_type": "stream",
     "text": [
      "\u001b[36m(DefaultActor pid=27999)\u001b[0m [Client 0, round 5] fit, config: {'learning_rate': 0.003, 'batch_size': '32', 'server_round': 5, 'local_epochs': 10}\u001b[32m [repeated 9x across cluster]\u001b[0m\n"
     ]
    },
    {
     "name": "stderr",
     "output_type": "stream",
     "text": [
      " 30%|\u001b[34m███       \u001b[0m| 3/10 [00:06<00:15,  2.16s/it]\n",
      "\u001b[36m(DefaultActor pid=27999)\u001b[0m   return torch.load(io.BytesIO(b))\u001b[32m [repeated 9x across cluster]\u001b[0m\n",
      "  0%|\u001b[34m          \u001b[0m| 0/10 [00:00<?, ?it/s]\u001b[32m [repeated 9x across cluster]\u001b[0m\n",
      " 30%|\u001b[34m███       \u001b[0m| 3/10 [00:06<00:15,  2.16s/it]\n",
      " 30%|\u001b[34m███       \u001b[0m| 3/10 [00:06<00:14,  2.13s/it]\n",
      " 30%|\u001b[34m███       \u001b[0m| 3/10 [00:06<00:14,  2.14s/it]\n",
      " 30%|\u001b[34m███       \u001b[0m| 3/10 [00:06<00:15,  2.15s/it]\n",
      " 30%|\u001b[34m███       \u001b[0m| 3/10 [00:06<00:15,  2.22s/it]\n",
      " 30%|\u001b[34m███       \u001b[0m| 3/10 [00:06<00:14,  2.12s/it]\n",
      " 30%|\u001b[34m███       \u001b[0m| 3/10 [00:06<00:15,  2.16s/it]\n",
      " 30%|\u001b[34m███       \u001b[0m| 3/10 [00:06<00:15,  2.16s/it]\n",
      " 30%|\u001b[34m███       \u001b[0m| 3/10 [00:06<00:15,  2.20s/it]\n"
     ]
    },
    {
     "name": "stdout",
     "output_type": "stream",
     "text": [
      "\u001b[36m(DefaultActor pid=27994)\u001b[0m \tTrain Epoch: 4 \tTrain_loss_mri: 0.8143 | Train_acc_mri: 61.4583 | Train_loss_dna: 1.6886 | Train_acc_dna: 32.2917 | Validation_loss_mri: 0.9386 | Validation_acc_mri: 75.0000 | Validation_loss_dna: 1.8216 | Validation_acc_dna: 37.5000\u001b[32m [repeated 30x across cluster]\u001b[0m\n"
     ]
    },
    {
     "name": "stderr",
     "output_type": "stream",
     "text": [
      " 40%|\u001b[34m████      \u001b[0m| 4/10 [00:08<00:12,  2.14s/it]\n",
      " 40%|\u001b[34m████      \u001b[0m| 4/10 [00:08<00:12,  2.16s/it]\n",
      " 40%|\u001b[34m████      \u001b[0m| 4/10 [00:08<00:12,  2.16s/it]\n",
      " 40%|\u001b[34m████      \u001b[0m| 4/10 [00:08<00:12,  2.13s/it]\n",
      " 40%|\u001b[34m████      \u001b[0m| 4/10 [00:08<00:12,  2.16s/it]\n",
      " 40%|\u001b[34m████      \u001b[0m| 4/10 [00:08<00:13,  2.22s/it]\n",
      " 40%|\u001b[34m████      \u001b[0m| 4/10 [00:08<00:12,  2.13s/it]\n",
      " 40%|\u001b[34m████      \u001b[0m| 4/10 [00:08<00:13,  2.17s/it]\n",
      " 40%|\u001b[34m████      \u001b[0m| 4/10 [00:08<00:12,  2.16s/it]\n",
      " 40%|\u001b[34m████      \u001b[0m| 4/10 [00:08<00:13,  2.18s/it]\n",
      " 50%|\u001b[34m█████     \u001b[0m| 5/10 [00:10<00:10,  2.15s/it]\n",
      " 50%|\u001b[34m█████     \u001b[0m| 5/10 [00:10<00:10,  2.17s/it]\n",
      " 50%|\u001b[34m█████     \u001b[0m| 5/10 [00:10<00:10,  2.14s/it]\n",
      " 50%|\u001b[34m█████     \u001b[0m| 5/10 [00:10<00:10,  2.18s/it]\n",
      " 50%|\u001b[34m█████     \u001b[0m| 5/10 [00:10<00:10,  2.17s/it]\n",
      " 50%|\u001b[34m█████     \u001b[0m| 5/10 [00:10<00:10,  2.15s/it]\n",
      " 50%|\u001b[34m█████     \u001b[0m| 5/10 [00:10<00:10,  2.17s/it]\n",
      " 50%|\u001b[34m█████     \u001b[0m| 5/10 [00:11<00:11,  2.21s/it]\n",
      " 50%|\u001b[34m█████     \u001b[0m| 5/10 [00:10<00:10,  2.18s/it]\n",
      " 50%|\u001b[34m█████     \u001b[0m| 5/10 [00:11<00:11,  2.20s/it]\n",
      " 60%|\u001b[34m██████    \u001b[0m| 6/10 [00:12<00:08,  2.15s/it]\n",
      " 60%|\u001b[34m██████    \u001b[0m| 6/10 [00:12<00:08,  2.16s/it]\n",
      " 60%|\u001b[34m██████    \u001b[0m| 6/10 [00:12<00:08,  2.15s/it]\n",
      " 60%|\u001b[34m██████    \u001b[0m| 6/10 [00:12<00:08,  2.15s/it]\n",
      " 60%|\u001b[34m██████    \u001b[0m| 6/10 [00:13<00:08,  2.18s/it]\n",
      " 60%|\u001b[34m██████    \u001b[0m| 6/10 [00:12<00:08,  2.16s/it]\n",
      " 60%|\u001b[34m██████    \u001b[0m| 6/10 [00:13<00:08,  2.19s/it]\n",
      " 60%|\u001b[34m██████    \u001b[0m| 6/10 [00:12<00:08,  2.15s/it]\n",
      " 60%|\u001b[34m██████    \u001b[0m| 6/10 [00:13<00:08,  2.18s/it]\n",
      " 60%|\u001b[34m██████    \u001b[0m| 6/10 [00:13<00:08,  2.20s/it]\n"
     ]
    },
    {
     "name": "stdout",
     "output_type": "stream",
     "text": [
      "\u001b[36m(DefaultActor pid=27994)\u001b[0m \tTrain Epoch: 7 \tTrain_loss_mri: 0.5557 | Train_acc_mri: 73.9583 | Train_loss_dna: 1.7321 | Train_acc_dna: 32.2917 | Validation_loss_mri: 1.0268 | Validation_acc_mri: 62.5000 | Validation_loss_dna: 1.9378 | Validation_acc_dna: 37.5000\u001b[32m [repeated 30x across cluster]\u001b[0m\n"
     ]
    },
    {
     "name": "stderr",
     "output_type": "stream",
     "text": [
      " 70%|\u001b[34m███████   \u001b[0m| 7/10 [00:14<00:06,  2.14s/it]\n",
      " 70%|\u001b[34m███████   \u001b[0m| 7/10 [00:15<00:06,  2.16s/it]\n",
      " 70%|\u001b[34m███████   \u001b[0m| 7/10 [00:14<00:06,  2.15s/it]\n",
      " 70%|\u001b[34m███████   \u001b[0m| 7/10 [00:15<00:06,  2.14s/it]\n",
      " 70%|\u001b[34m███████   \u001b[0m| 7/10 [00:15<00:06,  2.17s/it]\n",
      " 70%|\u001b[34m███████   \u001b[0m| 7/10 [00:14<00:06,  2.14s/it]\n",
      " 70%|\u001b[34m███████   \u001b[0m| 7/10 [00:15<00:06,  2.14s/it]\n",
      " 70%|\u001b[34m███████   \u001b[0m| 7/10 [00:15<00:06,  2.19s/it]\n",
      " 70%|\u001b[34m███████   \u001b[0m| 7/10 [00:15<00:06,  2.17s/it]\n",
      " 70%|\u001b[34m███████   \u001b[0m| 7/10 [00:15<00:06,  2.19s/it]\n",
      " 80%|\u001b[34m████████  \u001b[0m| 8/10 [00:17<00:04,  2.15s/it]\n",
      " 80%|\u001b[34m████████  \u001b[0m| 8/10 [00:17<00:04,  2.17s/it]\n",
      " 80%|\u001b[34m████████  \u001b[0m| 8/10 [00:17<00:04,  2.19s/it]\n",
      " 80%|\u001b[34m████████  \u001b[0m| 8/10 [00:17<00:04,  2.18s/it]\n",
      " 80%|\u001b[34m████████  \u001b[0m| 8/10 [00:17<00:04,  2.21s/it]\n",
      " 80%|\u001b[34m████████  \u001b[0m| 8/10 [00:17<00:04,  2.17s/it]\n",
      " 80%|\u001b[34m████████  \u001b[0m| 8/10 [00:17<00:04,  2.17s/it]\n",
      " 80%|\u001b[34m████████  \u001b[0m| 8/10 [00:17<00:04,  2.19s/it]\n",
      " 80%|\u001b[34m████████  \u001b[0m| 8/10 [00:17<00:04,  2.24s/it]\n",
      " 80%|\u001b[34m████████  \u001b[0m| 8/10 [00:17<00:04,  2.23s/it]\n",
      " 90%|\u001b[34m█████████ \u001b[0m| 9/10 [00:19<00:02,  2.14s/it]\n",
      " 90%|\u001b[34m█████████ \u001b[0m| 9/10 [00:19<00:02,  2.16s/it]\n",
      " 90%|\u001b[34m█████████ \u001b[0m| 9/10 [00:19<00:02,  2.17s/it]\n",
      " 90%|\u001b[34m█████████ \u001b[0m| 9/10 [00:19<00:02,  2.15s/it]\n",
      " 90%|\u001b[34m█████████ \u001b[0m| 9/10 [00:19<00:02,  2.18s/it]\n",
      " 90%|\u001b[34m█████████ \u001b[0m| 9/10 [00:19<00:02,  2.20s/it]\n",
      " 90%|\u001b[34m█████████ \u001b[0m| 9/10 [00:19<00:02,  2.16s/it]\n",
      " 90%|\u001b[34m█████████ \u001b[0m| 9/10 [00:19<00:02,  2.16s/it]\n",
      " 90%|\u001b[34m█████████ \u001b[0m| 9/10 [00:20<00:02,  2.24s/it]\n"
     ]
    },
    {
     "name": "stdout",
     "output_type": "stream",
     "text": [
      "\u001b[36m(DefaultActor pid=27995)\u001b[0m \tTrain Epoch: 9 \tTrain_loss_mri: 0.7852 | Train_acc_mri: 67.7083 | Train_loss_dna: 1.6007 | Train_acc_dna: 43.7500 | Validation_loss_mri: 0.6351 | Validation_acc_mri: 75.0000 | Validation_loss_dna: 2.2781 | Validation_acc_dna: 25.0000\u001b[32m [repeated 29x across cluster]\u001b[0m\n"
     ]
    },
    {
     "name": "stderr",
     "output_type": "stream",
     "text": [
      " 90%|\u001b[34m█████████ \u001b[0m| 9/10 [00:20<00:02,  2.26s/it]\n"
     ]
    },
    {
     "name": "stdout",
     "output_type": "stream",
     "text": [
      "\u001b[36m(DefaultActor pid=28001)\u001b[0m save graph in  results/FL/\n"
     ]
    },
    {
     "name": "stderr",
     "output_type": "stream",
     "text": [
      "100%|\u001b[34m██████████\u001b[0m| 10/10 [00:21<00:00,  2.14s/it]\n",
      "100%|\u001b[34m██████████\u001b[0m| 10/10 [00:21<00:00,  2.15s/it]\n",
      "100%|\u001b[34m██████████\u001b[0m| 10/10 [00:21<00:00,  2.16s/it]\n",
      "100%|\u001b[34m██████████\u001b[0m| 10/10 [00:21<00:00,  2.14s/it]\n",
      "100%|\u001b[34m██████████\u001b[0m| 10/10 [00:21<00:00,  2.16s/it]\n",
      "100%|\u001b[34m██████████\u001b[0m| 10/10 [00:21<00:00,  2.16s/it]\n",
      "100%|\u001b[34m██████████\u001b[0m| 10/10 [00:21<00:00,  2.18s/it]\n",
      "100%|\u001b[34m██████████\u001b[0m| 10/10 [00:21<00:00,  2.17s/it]\n",
      "100%|\u001b[34m██████████\u001b[0m| 10/10 [00:22<00:00,  2.23s/it]\n",
      "100%|\u001b[34m██████████\u001b[0m| 10/10 [00:22<00:00,  2.22s/it]\n",
      "DEBUG flwr 2024-09-02 01:38:41,470 | server.py:236 | fit_round 5 received 10 results and 0 failures\n"
     ]
    },
    {
     "name": "stdout",
     "output_type": "stream",
     "text": [
      "Saving round 5 aggregated_parameters...\n",
      "Updated model\n"
     ]
    },
    {
     "name": "stderr",
     "output_type": "stream",
     "text": [
      "INFO flwr 2024-09-02 01:38:47,279 | server.py:125 | fit progress: (5, (1.1082244515419006, 1.8146246331078666), {'accuracy': (56.69642857142857, 25.0)}, 157.60036619892344)\n",
      "DEBUG flwr 2024-09-02 01:38:47,281 | server.py:173 | evaluate_round 5: strategy sampled 10 clients (out of 10)\n"
     ]
    },
    {
     "name": "stdout",
     "output_type": "stream",
     "text": [
      "Server-side evaluation MRI loss 1.1082244515419006 / MRI accuracy 56.69642857142857\n",
      "Server-side evaluation DNA loss 1.8146246331078666 / DNA accuracy 25.0\n",
      "\u001b[36m(DefaultActor pid=27995)\u001b[0m  To get the checkpoint\n",
      "\u001b[36m(DefaultActor pid=27995)\u001b[0m [Client 1] evaluate, config: {}\n",
      "\u001b[36m(DefaultActor pid=27995)\u001b[0m Updated model\n",
      "\u001b[36m(DefaultActor pid=27995)\u001b[0m \tTrain Epoch: 10 \tTrain_loss_mri: 0.6328 | Train_acc_mri: 64.5833 | Train_loss_dna: 1.6656 | Train_acc_dna: 37.5000 | Validation_loss_mri: 0.6614 | Validation_acc_mri: 62.5000 | Validation_loss_dna: 2.2724 | Validation_acc_dna: 25.0000\u001b[32m [repeated 10x across cluster]\u001b[0m\n",
      "\u001b[36m(DefaultActor pid=27995)\u001b[0m save graph in  results/FL/\u001b[32m [repeated 9x across cluster]\u001b[0m\n"
     ]
    },
    {
     "name": "stderr",
     "output_type": "stream",
     "text": [
      "\u001b[36m(DefaultActor pid=27995)\u001b[0m /tmp/ipykernel_26738/752934157.py:10: FutureWarning: You are using `torch.load` with `weights_only=False` (the current default value), which uses the default pickle module implicitly. It is possible to construct malicious pickle data which will execute arbitrary code during unpickling (See https://github.com/pytorch/pytorch/blob/main/SECURITY.md#untrusted-models for more details). In a future release, the default value for `weights_only` will be flipped to `True`. This limits the functions that could be executed during unpickling. Arbitrary objects will no longer be allowed to be loaded via this mode unless they are explicitly allowlisted by the user via `torch.serialization.add_safe_globals`. We recommend you start setting `weights_only=True` for any use case where you don't have full control of the loaded file. Please open an issue on GitHub for any issues related to this experimental feature.\n",
      "\u001b[36m(DefaultActor pid=27995)\u001b[0m /work/Fed-ML-Chem/src/utils/common.py:175: RuntimeWarning: More than 20 figures have been opened. Figures created through the pyplot interface (`matplotlib.pyplot.figure`) are retained until explicitly closed and may consume too much memory. (To control this warning, see the rcParam `figure.max_open_warning`). Consider using `matplotlib.pyplot.close()`.\n",
      "\u001b[36m(DefaultActor pid=27995)\u001b[0m   plt.figure(figsize=(12, 7))\n",
      "\u001b[36m(DefaultActor pid=27993)\u001b[0m   plt.figure(figsize=(12, 7))\n",
      "\u001b[36m(DefaultActor pid=27997)\u001b[0m   plt.figure(figsize=(12, 7))\n",
      "\u001b[36m(DefaultActor pid=27996)\u001b[0m   plt.figure(figsize=(12, 7))\n",
      "\u001b[36m(DefaultActor pid=27995)\u001b[0m   plt.figure(figsize=(12, 7))\n",
      "\u001b[36m(DefaultActor pid=27997)\u001b[0m   plt.figure(figsize=(12, 7))\n",
      "\u001b[36m(DefaultActor pid=27998)\u001b[0m   plt.figure(figsize=(12, 7))\n",
      "\u001b[36m(DefaultActor pid=28002)\u001b[0m   plt.figure(figsize=(12, 7))\n",
      "\u001b[36m(DefaultActor pid=28000)\u001b[0m   plt.figure(figsize=(12, 7))\n",
      "\u001b[36m(DefaultActor pid=27993)\u001b[0m   plt.figure(figsize=(12, 7))\n",
      "\u001b[36m(DefaultActor pid=27995)\u001b[0m   plt.figure()\n",
      "\u001b[36m(DefaultActor pid=28002)\u001b[0m   plt.figure(figsize=(12, 7))\n",
      "\u001b[36m(DefaultActor pid=27995)\u001b[0m /home/cudaq/.local/lib/python3.10/site-packages/sklearn/metrics/_ranking.py:1183: UndefinedMetricWarning: No positive samples in y_true, true positive value should be meaningless\n",
      "\u001b[36m(DefaultActor pid=27995)\u001b[0m   warnings.warn(\n",
      "\u001b[36m(DefaultActor pid=27995)\u001b[0m /home/cudaq/.local/lib/python3.10/site-packages/sklearn/metrics/_ranking.py:1183: UndefinedMetricWarning: No positive samples in y_true, true positive value should be meaningless\n",
      "\u001b[36m(DefaultActor pid=27995)\u001b[0m   warnings.warn(\n",
      "\u001b[36m(DefaultActor pid=27995)\u001b[0m /home/cudaq/.local/lib/python3.10/site-packages/sklearn/metrics/_ranking.py:1183: UndefinedMetricWarning: No positive samples in y_true, true positive value should be meaningless\n",
      "\u001b[36m(DefaultActor pid=27995)\u001b[0m   warnings.warn(\n",
      "\u001b[36m(DefaultActor pid=27998)\u001b[0m   plt.figure(figsize=(12, 7))\n",
      "\u001b[36m(DefaultActor pid=28001)\u001b[0m   plt.figure(figsize=(12, 7))\n",
      "\u001b[36m(DefaultActor pid=27996)\u001b[0m   plt.figure(figsize=(12, 7))\n",
      "\u001b[36m(DefaultActor pid=27999)\u001b[0m   plt.figure(figsize=(12, 7))\n",
      "\u001b[36m(DefaultActor pid=27994)\u001b[0m   plt.figure(figsize=(12, 7))\n",
      "\u001b[36m(DefaultActor pid=28000)\u001b[0m   plt.figure(figsize=(12, 7))\n",
      "\u001b[36m(DefaultActor pid=27994)\u001b[0m   plt.figure(figsize=(12, 7))\n",
      "\u001b[36m(DefaultActor pid=27999)\u001b[0m   plt.figure(figsize=(12, 7))\n",
      "\u001b[36m(DefaultActor pid=28001)\u001b[0m   plt.figure(figsize=(12, 7))\n",
      "DEBUG flwr 2024-09-02 01:38:48,742 | server.py:187 | evaluate_round 5 received 10 results and 0 failures\n",
      "DEBUG flwr 2024-09-02 01:38:48,743 | server.py:222 | fit_round 6: strategy sampled 10 clients (out of 10)\n",
      "\u001b[36m(DefaultActor pid=27994)\u001b[0m   return torch.load(io.BytesIO(b))\n",
      "  0%|\u001b[34m          \u001b[0m| 0/10 [00:00<?, ?it/s]\n"
     ]
    },
    {
     "name": "stdout",
     "output_type": "stream",
     "text": [
      "\u001b[36m(DefaultActor pid=27994)\u001b[0m [Client 7, round 6] fit, config: {'learning_rate': 0.003, 'batch_size': '32', 'server_round': 6, 'local_epochs': 10}\n"
     ]
    },
    {
     "name": "stderr",
     "output_type": "stream",
     "text": [
      " 10%|\u001b[34m█         \u001b[0m| 1/10 [00:02<00:18,  2.08s/it]\n",
      " 10%|\u001b[34m█         \u001b[0m| 1/10 [00:02<00:19,  2.12s/it]\n",
      " 10%|\u001b[34m█         \u001b[0m| 1/10 [00:02<00:19,  2.12s/it]\n",
      " 10%|\u001b[34m█         \u001b[0m| 1/10 [00:02<00:19,  2.13s/it]\n",
      " 10%|\u001b[34m█         \u001b[0m| 1/10 [00:02<00:20,  2.24s/it]\n",
      " 10%|\u001b[34m█         \u001b[0m| 1/10 [00:02<00:18,  2.10s/it]\n",
      " 10%|\u001b[34m█         \u001b[0m| 1/10 [00:02<00:19,  2.15s/it]\n",
      " 10%|\u001b[34m█         \u001b[0m| 1/10 [00:02<00:19,  2.15s/it]\n",
      " 10%|\u001b[34m█         \u001b[0m| 1/10 [00:02<00:20,  2.27s/it]\n",
      " 10%|\u001b[34m█         \u001b[0m| 1/10 [00:02<00:20,  2.24s/it]\n"
     ]
    },
    {
     "name": "stdout",
     "output_type": "stream",
     "text": [
      "\u001b[36m(DefaultActor pid=27995)\u001b[0m  To get the checkpoint\u001b[32m [repeated 19x across cluster]\u001b[0m\n",
      "\u001b[36m(DefaultActor pid=27999)\u001b[0m [Client 8] evaluate, config: {}\u001b[32m [repeated 9x across cluster]\u001b[0m\n",
      "\u001b[36m(DefaultActor pid=27995)\u001b[0m Updated model\u001b[32m [repeated 19x across cluster]\u001b[0m\n",
      "\u001b[36m(DefaultActor pid=27994)\u001b[0m \tTrain Epoch: 2 \tTrain_loss_mri: 0.7011 | Train_acc_mri: 65.6250 | Train_loss_dna: 1.7916 | Train_acc_dna: 26.0417 | Validation_loss_mri: 0.6177 | Validation_acc_mri: 75.0000 | Validation_loss_dna: 1.8023 | Validation_acc_dna: 25.0000\u001b[32m [repeated 11x across cluster]\u001b[0m\n"
     ]
    },
    {
     "name": "stderr",
     "output_type": "stream",
     "text": [
      " 20%|\u001b[34m██        \u001b[0m| 2/10 [00:04<00:17,  2.13s/it]\n",
      "\u001b[36m(DefaultActor pid=27995)\u001b[0m /tmp/ipykernel_26738/752934157.py:10: FutureWarning: You are using `torch.load` with `weights_only=False` (the current default value), which uses the default pickle module implicitly. It is possible to construct malicious pickle data which will execute arbitrary code during unpickling (See https://github.com/pytorch/pytorch/blob/main/SECURITY.md#untrusted-models for more details). In a future release, the default value for `weights_only` will be flipped to `True`. This limits the functions that could be executed during unpickling. Arbitrary objects will no longer be allowed to be loaded via this mode unless they are explicitly allowlisted by the user via `torch.serialization.add_safe_globals`. We recommend you start setting `weights_only=True` for any use case where you don't have full control of the loaded file. Please open an issue on GitHub for any issues related to this experimental feature.\u001b[32m [repeated 29x across cluster]\u001b[0m\n",
      "\u001b[36m(DefaultActor pid=28001)\u001b[0m /work/Fed-ML-Chem/src/utils/common.py:224: RuntimeWarning: More than 20 figures have been opened. Figures created through the pyplot interface (`matplotlib.pyplot.figure`) are retained until explicitly closed and may consume too much memory. (To control this warning, see the rcParam `figure.max_open_warning`). Consider using `matplotlib.pyplot.close()`.\u001b[32m [repeated 39x across cluster]\u001b[0m\n",
      "\u001b[36m(DefaultActor pid=28001)\u001b[0m   plt.figure()\u001b[32m [repeated 19x across cluster]\u001b[0m\n",
      "\u001b[36m(DefaultActor pid=28001)\u001b[0m /home/cudaq/.local/lib/python3.10/site-packages/sklearn/metrics/_ranking.py:1183: UndefinedMetricWarning: No positive samples in y_true, true positive value should be meaningless\u001b[32m [repeated 28x across cluster]\u001b[0m\n",
      "\u001b[36m(DefaultActor pid=28001)\u001b[0m   warnings.warn(\u001b[32m [repeated 28x across cluster]\u001b[0m\n",
      " 20%|\u001b[34m██        \u001b[0m| 2/10 [00:04<00:17,  2.15s/it]\n",
      " 20%|\u001b[34m██        \u001b[0m| 2/10 [00:04<00:17,  2.16s/it]\n",
      " 20%|\u001b[34m██        \u001b[0m| 2/10 [00:04<00:17,  2.15s/it]\n",
      " 20%|\u001b[34m██        \u001b[0m| 2/10 [00:04<00:17,  2.22s/it]\n",
      " 20%|\u001b[34m██        \u001b[0m| 2/10 [00:04<00:17,  2.14s/it]\n",
      " 20%|\u001b[34m██        \u001b[0m| 2/10 [00:04<00:17,  2.18s/it]\n",
      " 20%|\u001b[34m██        \u001b[0m| 2/10 [00:04<00:17,  2.18s/it]\n",
      " 20%|\u001b[34m██        \u001b[0m| 2/10 [00:04<00:17,  2.23s/it]\n",
      " 20%|\u001b[34m██        \u001b[0m| 2/10 [00:04<00:18,  2.30s/it]\n",
      "\u001b[36m(DefaultActor pid=27997)\u001b[0m   return torch.load(io.BytesIO(b))\u001b[32m [repeated 9x across cluster]\u001b[0m\n"
     ]
    },
    {
     "name": "stdout",
     "output_type": "stream",
     "text": [
      "\u001b[36m(DefaultActor pid=27997)\u001b[0m [Client 5, round 6] fit, config: {'learning_rate': 0.003, 'batch_size': '32', 'server_round': 6, 'local_epochs': 10}\u001b[32m [repeated 9x across cluster]\u001b[0m\n"
     ]
    },
    {
     "name": "stderr",
     "output_type": "stream",
     "text": [
      " 30%|\u001b[34m███       \u001b[0m| 3/10 [00:06<00:14,  2.12s/it]\n",
      "  0%|\u001b[34m          \u001b[0m| 0/10 [00:00<?, ?it/s]\u001b[32m [repeated 9x across cluster]\u001b[0m\n",
      " 30%|\u001b[34m███       \u001b[0m| 3/10 [00:06<00:14,  2.14s/it]\n",
      " 30%|\u001b[34m███       \u001b[0m| 3/10 [00:06<00:14,  2.12s/it]\n",
      " 30%|\u001b[34m███       \u001b[0m| 3/10 [00:06<00:14,  2.14s/it]\n",
      " 30%|\u001b[34m███       \u001b[0m| 3/10 [00:06<00:15,  2.15s/it]\n",
      " 30%|\u001b[34m███       \u001b[0m| 3/10 [00:06<00:15,  2.17s/it]\n",
      " 30%|\u001b[34m███       \u001b[0m| 3/10 [00:06<00:15,  2.18s/it]\n",
      " 30%|\u001b[34m███       \u001b[0m| 3/10 [00:06<00:15,  2.17s/it]\n",
      " 30%|\u001b[34m███       \u001b[0m| 3/10 [00:06<00:15,  2.19s/it]\n",
      " 30%|\u001b[34m███       \u001b[0m| 3/10 [00:06<00:16,  2.29s/it]\n",
      " 40%|\u001b[34m████      \u001b[0m| 4/10 [00:08<00:12,  2.10s/it]\n",
      " 40%|\u001b[34m████      \u001b[0m| 4/10 [00:08<00:12,  2.12s/it]\n",
      " 40%|\u001b[34m████      \u001b[0m| 4/10 [00:08<00:12,  2.12s/it]\n",
      " 40%|\u001b[34m████      \u001b[0m| 4/10 [00:08<00:12,  2.14s/it]\n",
      " 40%|\u001b[34m████      \u001b[0m| 4/10 [00:08<00:12,  2.16s/it]\n",
      " 40%|\u001b[34m████      \u001b[0m| 4/10 [00:08<00:12,  2.15s/it]\n",
      " 40%|\u001b[34m████      \u001b[0m| 4/10 [00:08<00:13,  2.18s/it]\n",
      " 40%|\u001b[34m████      \u001b[0m| 4/10 [00:08<00:12,  2.16s/it]\n",
      " 40%|\u001b[34m████      \u001b[0m| 4/10 [00:08<00:13,  2.19s/it]\n"
     ]
    },
    {
     "name": "stdout",
     "output_type": "stream",
     "text": [
      "\u001b[36m(DefaultActor pid=27995)\u001b[0m \tTrain Epoch: 4 \tTrain_loss_mri: 0.5518 | Train_acc_mri: 72.9167 | Train_loss_dna: 1.7944 | Train_acc_dna: 28.1250 | Validation_loss_mri: 0.5676 | Validation_acc_mri: 87.5000 | Validation_loss_dna: 2.0214 | Validation_acc_dna: 12.5000\u001b[32m [repeated 29x across cluster]\u001b[0m\n"
     ]
    },
    {
     "name": "stderr",
     "output_type": "stream",
     "text": [
      " 40%|\u001b[34m████      \u001b[0m| 4/10 [00:09<00:13,  2.29s/it]\n",
      " 50%|\u001b[34m█████     \u001b[0m| 5/10 [00:10<00:10,  2.11s/it]\n",
      " 50%|\u001b[34m█████     \u001b[0m| 5/10 [00:10<00:10,  2.11s/it]\n",
      " 50%|\u001b[34m█████     \u001b[0m| 5/10 [00:10<00:10,  2.11s/it]\n",
      " 50%|\u001b[34m█████     \u001b[0m| 5/10 [00:10<00:10,  2.13s/it]\n",
      " 50%|\u001b[34m█████     \u001b[0m| 5/10 [00:10<00:10,  2.14s/it]\n",
      " 50%|\u001b[34m█████     \u001b[0m| 5/10 [00:10<00:10,  2.16s/it]\n",
      " 50%|\u001b[34m█████     \u001b[0m| 5/10 [00:10<00:10,  2.17s/it]\n",
      " 50%|\u001b[34m█████     \u001b[0m| 5/10 [00:10<00:10,  2.16s/it]\n",
      " 50%|\u001b[34m█████     \u001b[0m| 5/10 [00:10<00:10,  2.18s/it]\n",
      " 50%|\u001b[34m█████     \u001b[0m| 5/10 [00:11<00:11,  2.25s/it]\n",
      " 60%|\u001b[34m██████    \u001b[0m| 6/10 [00:12<00:08,  2.12s/it]\n",
      " 60%|\u001b[34m██████    \u001b[0m| 6/10 [00:12<00:08,  2.11s/it]\n",
      " 60%|\u001b[34m██████    \u001b[0m| 6/10 [00:12<00:08,  2.12s/it]\n",
      " 60%|\u001b[34m██████    \u001b[0m| 6/10 [00:12<00:08,  2.13s/it]\n",
      " 60%|\u001b[34m██████    \u001b[0m| 6/10 [00:12<00:08,  2.15s/it]\n",
      " 60%|\u001b[34m██████    \u001b[0m| 6/10 [00:12<00:08,  2.15s/it]\n",
      " 60%|\u001b[34m██████    \u001b[0m| 6/10 [00:13<00:08,  2.16s/it]\n",
      " 60%|\u001b[34m██████    \u001b[0m| 6/10 [00:13<00:08,  2.17s/it]\n",
      " 60%|\u001b[34m██████    \u001b[0m| 6/10 [00:13<00:08,  2.17s/it]\n",
      " 60%|\u001b[34m██████    \u001b[0m| 6/10 [00:13<00:08,  2.22s/it]\n"
     ]
    },
    {
     "name": "stdout",
     "output_type": "stream",
     "text": [
      "\u001b[36m(DefaultActor pid=27994)\u001b[0m \tTrain Epoch: 7 \tTrain_loss_mri: 0.5847 | Train_acc_mri: 86.4583 | Train_loss_dna: 1.6673 | Train_acc_dna: 23.9583 | Validation_loss_mri: 1.7983 | Validation_acc_mri: 50.0000 | Validation_loss_dna: 1.6597 | Validation_acc_dna: 25.0000\u001b[32m [repeated 21x across cluster]\u001b[0m\n"
     ]
    },
    {
     "name": "stderr",
     "output_type": "stream",
     "text": [
      " 70%|\u001b[34m███████   \u001b[0m| 7/10 [00:14<00:06,  2.10s/it]\n",
      " 70%|\u001b[34m███████   \u001b[0m| 7/10 [00:14<00:06,  2.13s/it]\n",
      " 70%|\u001b[34m███████   \u001b[0m| 7/10 [00:15<00:06,  2.13s/it]\n",
      " 70%|\u001b[34m███████   \u001b[0m| 7/10 [00:14<00:06,  2.13s/it]\n",
      " 70%|\u001b[34m███████   \u001b[0m| 7/10 [00:15<00:06,  2.16s/it]\n",
      " 70%|\u001b[34m███████   \u001b[0m| 7/10 [00:15<00:06,  2.16s/it]\n",
      " 70%|\u001b[34m███████   \u001b[0m| 7/10 [00:15<00:06,  2.18s/it]\n",
      " 70%|\u001b[34m███████   \u001b[0m| 7/10 [00:15<00:06,  2.19s/it]\n",
      " 70%|\u001b[34m███████   \u001b[0m| 7/10 [00:15<00:06,  2.18s/it]\n",
      " 70%|\u001b[34m███████   \u001b[0m| 7/10 [00:15<00:06,  2.24s/it]\n",
      " 80%|\u001b[34m████████  \u001b[0m| 8/10 [00:16<00:04,  2.12s/it]\n",
      " 80%|\u001b[34m████████  \u001b[0m| 8/10 [00:17<00:04,  2.16s/it]\n",
      " 80%|\u001b[34m████████  \u001b[0m| 8/10 [00:17<00:04,  2.13s/it]\n",
      " 80%|\u001b[34m████████  \u001b[0m| 8/10 [00:17<00:04,  2.14s/it]\n",
      " 80%|\u001b[34m████████  \u001b[0m| 8/10 [00:17<00:04,  2.17s/it]\n",
      " 80%|\u001b[34m████████  \u001b[0m| 8/10 [00:17<00:04,  2.17s/it]\n",
      " 80%|\u001b[34m████████  \u001b[0m| 8/10 [00:17<00:04,  2.17s/it]\n",
      " 80%|\u001b[34m████████  \u001b[0m| 8/10 [00:17<00:04,  2.17s/it]\n",
      " 80%|\u001b[34m████████  \u001b[0m| 8/10 [00:17<00:04,  2.18s/it]\n",
      " 80%|\u001b[34m████████  \u001b[0m| 8/10 [00:17<00:04,  2.23s/it]\n",
      " 90%|\u001b[34m█████████ \u001b[0m| 9/10 [00:18<00:02,  2.10s/it]\n",
      " 90%|\u001b[34m█████████ \u001b[0m| 9/10 [00:19<00:02,  2.15s/it]\n",
      " 90%|\u001b[34m█████████ \u001b[0m| 9/10 [00:19<00:02,  2.15s/it]\n",
      " 90%|\u001b[34m█████████ \u001b[0m| 9/10 [00:19<00:02,  2.15s/it]\n",
      " 90%|\u001b[34m█████████ \u001b[0m| 9/10 [00:19<00:02,  2.16s/it]\n",
      " 90%|\u001b[34m█████████ \u001b[0m| 9/10 [00:19<00:02,  2.16s/it]\n",
      " 90%|\u001b[34m█████████ \u001b[0m| 9/10 [00:19<00:02,  2.16s/it]\n",
      " 90%|\u001b[34m█████████ \u001b[0m| 9/10 [00:19<00:02,  2.17s/it]\n"
     ]
    },
    {
     "name": "stdout",
     "output_type": "stream",
     "text": [
      "\u001b[36m(DefaultActor pid=27993)\u001b[0m \tTrain Epoch: 9 \tTrain_loss_mri: 0.3513 | Train_acc_mri: 89.5833 | Train_loss_dna: 1.5258 | Train_acc_dna: 39.5833 | Validation_loss_mri: 0.9092 | Validation_acc_mri: 50.0000 | Validation_loss_dna: 1.9810 | Validation_acc_dna: 37.5000\u001b[32m [repeated 27x across cluster]\u001b[0m\n"
     ]
    },
    {
     "name": "stderr",
     "output_type": "stream",
     "text": [
      " 90%|\u001b[34m█████████ \u001b[0m| 9/10 [00:19<00:02,  2.17s/it]\n",
      " 90%|\u001b[34m█████████ \u001b[0m| 9/10 [00:20<00:02,  2.22s/it]\n"
     ]
    },
    {
     "name": "stdout",
     "output_type": "stream",
     "text": [
      "\u001b[36m(DefaultActor pid=27994)\u001b[0m save graph in  results/FL/\n"
     ]
    },
    {
     "name": "stderr",
     "output_type": "stream",
     "text": [
      "100%|\u001b[34m██████████\u001b[0m| 10/10 [00:21<00:00,  2.11s/it]\n",
      "\u001b[36m(DefaultActor pid=27994)\u001b[0m /work/Fed-ML-Chem/src/utils/common.py:345: RuntimeWarning: More than 20 figures have been opened. Figures created through the pyplot interface (`matplotlib.pyplot.figure`) are retained until explicitly closed and may consume too much memory. (To control this warning, see the rcParam `figure.max_open_warning`). Consider using `matplotlib.pyplot.close()`.\n",
      "\u001b[36m(DefaultActor pid=27994)\u001b[0m   plt.figure()\n",
      "100%|\u001b[34m██████████\u001b[0m| 10/10 [00:21<00:00,  2.13s/it]\n",
      "100%|\u001b[34m██████████\u001b[0m| 10/10 [00:21<00:00,  2.15s/it]\n",
      "100%|\u001b[34m██████████\u001b[0m| 10/10 [00:21<00:00,  2.13s/it]\n",
      "100%|\u001b[34m██████████\u001b[0m| 10/10 [00:21<00:00,  2.15s/it]\n",
      "100%|\u001b[34m██████████\u001b[0m| 10/10 [00:21<00:00,  2.15s/it]\n",
      "100%|\u001b[34m██████████\u001b[0m| 10/10 [00:21<00:00,  2.17s/it]\n",
      "100%|\u001b[34m██████████\u001b[0m| 10/10 [00:21<00:00,  2.17s/it]\n",
      "100%|\u001b[34m██████████\u001b[0m| 10/10 [00:21<00:00,  2.17s/it]\n",
      "100%|\u001b[34m██████████\u001b[0m| 10/10 [00:22<00:00,  2.23s/it]\n",
      "DEBUG flwr 2024-09-02 01:39:11,891 | server.py:236 | fit_round 6 received 10 results and 0 failures\n"
     ]
    },
    {
     "name": "stdout",
     "output_type": "stream",
     "text": [
      "Saving round 6 aggregated_parameters...\n",
      "Updated model\n"
     ]
    },
    {
     "name": "stderr",
     "output_type": "stream",
     "text": [
      "INFO flwr 2024-09-02 01:39:17,783 | server.py:125 | fit progress: (6, (1.0622743708746774, 1.8539899247033256), {'accuracy': (54.46428571428571, 26.785714285714285)}, 188.10501359496266)\n",
      "DEBUG flwr 2024-09-02 01:39:17,785 | server.py:173 | evaluate_round 6: strategy sampled 10 clients (out of 10)\n"
     ]
    },
    {
     "name": "stdout",
     "output_type": "stream",
     "text": [
      "Server-side evaluation MRI loss 1.0622743708746774 / MRI accuracy 54.46428571428571\n",
      "Server-side evaluation DNA loss 1.8539899247033256 / DNA accuracy 26.785714285714285\n",
      "\u001b[36m(DefaultActor pid=27995)\u001b[0m  To get the checkpoint\n",
      "\u001b[36m(DefaultActor pid=27995)\u001b[0m [Client 1] evaluate, config: {}\n",
      "\u001b[36m(DefaultActor pid=27995)\u001b[0m Updated model\n",
      "\u001b[36m(DefaultActor pid=27995)\u001b[0m \tTrain Epoch: 10 \tTrain_loss_mri: 0.3311 | Train_acc_mri: 89.5833 | Train_loss_dna: 1.6487 | Train_acc_dna: 22.9167 | Validation_loss_mri: 2.2822 | Validation_acc_mri: 62.5000 | Validation_loss_dna: 2.0128 | Validation_acc_dna: 12.5000\u001b[32m [repeated 12x across cluster]\u001b[0m\n",
      "\u001b[36m(DefaultActor pid=27995)\u001b[0m save graph in  results/FL/\u001b[32m [repeated 9x across cluster]\u001b[0m\n"
     ]
    },
    {
     "name": "stderr",
     "output_type": "stream",
     "text": [
      "\u001b[36m(DefaultActor pid=27995)\u001b[0m /tmp/ipykernel_26738/752934157.py:10: FutureWarning: You are using `torch.load` with `weights_only=False` (the current default value), which uses the default pickle module implicitly. It is possible to construct malicious pickle data which will execute arbitrary code during unpickling (See https://github.com/pytorch/pytorch/blob/main/SECURITY.md#untrusted-models for more details). In a future release, the default value for `weights_only` will be flipped to `True`. This limits the functions that could be executed during unpickling. Arbitrary objects will no longer be allowed to be loaded via this mode unless they are explicitly allowlisted by the user via `torch.serialization.add_safe_globals`. We recommend you start setting `weights_only=True` for any use case where you don't have full control of the loaded file. Please open an issue on GitHub for any issues related to this experimental feature.\n",
      "\u001b[36m(DefaultActor pid=27995)\u001b[0m /work/Fed-ML-Chem/src/utils/common.py:345: RuntimeWarning: More than 20 figures have been opened. Figures created through the pyplot interface (`matplotlib.pyplot.figure`) are retained until explicitly closed and may consume too much memory. (To control this warning, see the rcParam `figure.max_open_warning`). Consider using `matplotlib.pyplot.close()`.\u001b[32m [repeated 9x across cluster]\u001b[0m\n",
      "\u001b[36m(DefaultActor pid=27995)\u001b[0m   plt.figure()\u001b[32m [repeated 9x across cluster]\u001b[0m\n",
      "\u001b[36m(DefaultActor pid=27993)\u001b[0m /home/cudaq/.local/lib/python3.10/site-packages/sklearn/metrics/_ranking.py:1183: UndefinedMetricWarning: No positive samples in y_true, true positive value should be meaningless\n",
      "\u001b[36m(DefaultActor pid=27993)\u001b[0m   warnings.warn(\n",
      "DEBUG flwr 2024-09-02 01:39:19,006 | server.py:187 | evaluate_round 6 received 10 results and 0 failures\n",
      "DEBUG flwr 2024-09-02 01:39:19,007 | server.py:222 | fit_round 7: strategy sampled 10 clients (out of 10)\n",
      "\u001b[36m(DefaultActor pid=27994)\u001b[0m   return torch.load(io.BytesIO(b))\n",
      "  0%|\u001b[34m          \u001b[0m| 0/10 [00:00<?, ?it/s]\n"
     ]
    },
    {
     "name": "stdout",
     "output_type": "stream",
     "text": [
      "\u001b[36m(DefaultActor pid=27994)\u001b[0m [Client 5, round 7] fit, config: {'learning_rate': 0.003, 'batch_size': '32', 'server_round': 7, 'local_epochs': 10}\n"
     ]
    },
    {
     "name": "stderr",
     "output_type": "stream",
     "text": [
      " 10%|\u001b[34m█         \u001b[0m| 1/10 [00:02<00:19,  2.14s/it]\n",
      " 10%|\u001b[34m█         \u001b[0m| 1/10 [00:02<00:18,  2.10s/it]\n",
      " 10%|\u001b[34m█         \u001b[0m| 1/10 [00:02<00:19,  2.12s/it]\n",
      " 10%|\u001b[34m█         \u001b[0m| 1/10 [00:02<00:19,  2.17s/it]\n",
      " 10%|\u001b[34m█         \u001b[0m| 1/10 [00:02<00:18,  2.11s/it]\n",
      " 10%|\u001b[34m█         \u001b[0m| 1/10 [00:02<00:19,  2.13s/it]\n",
      " 10%|\u001b[34m█         \u001b[0m| 1/10 [00:02<00:19,  2.14s/it]\n",
      " 10%|\u001b[34m█         \u001b[0m| 1/10 [00:02<00:18,  2.10s/it]\n",
      " 10%|\u001b[34m█         \u001b[0m| 1/10 [00:02<00:18,  2.10s/it]\n",
      " 10%|\u001b[34m█         \u001b[0m| 1/10 [00:02<00:20,  2.31s/it]\n"
     ]
    },
    {
     "name": "stdout",
     "output_type": "stream",
     "text": [
      "\u001b[36m(DefaultActor pid=27995)\u001b[0m  To get the checkpoint\u001b[32m [repeated 19x across cluster]\u001b[0m\n",
      "\u001b[36m(DefaultActor pid=27994)\u001b[0m [Client 3] evaluate, config: {}\u001b[32m [repeated 9x across cluster]\u001b[0m\n",
      "\u001b[36m(DefaultActor pid=27997)\u001b[0m Updated model\u001b[32m [repeated 19x across cluster]\u001b[0m\n",
      "\u001b[36m(DefaultActor pid=27994)\u001b[0m \tTrain Epoch: 2 \tTrain_loss_mri: 0.4234 | Train_acc_mri: 82.2917 | Train_loss_dna: 1.6133 | Train_acc_dna: 46.8750 | Validation_loss_mri: 0.8111 | Validation_acc_mri: 62.5000 | Validation_loss_dna: 1.9149 | Validation_acc_dna: 25.0000\u001b[32m [repeated 11x across cluster]\u001b[0m\n"
     ]
    },
    {
     "name": "stderr",
     "output_type": "stream",
     "text": [
      " 20%|\u001b[34m██        \u001b[0m| 2/10 [00:04<00:17,  2.15s/it]\n",
      "\u001b[36m(DefaultActor pid=27995)\u001b[0m /tmp/ipykernel_26738/752934157.py:10: FutureWarning: You are using `torch.load` with `weights_only=False` (the current default value), which uses the default pickle module implicitly. It is possible to construct malicious pickle data which will execute arbitrary code during unpickling (See https://github.com/pytorch/pytorch/blob/main/SECURITY.md#untrusted-models for more details). In a future release, the default value for `weights_only` will be flipped to `True`. This limits the functions that could be executed during unpickling. Arbitrary objects will no longer be allowed to be loaded via this mode unless they are explicitly allowlisted by the user via `torch.serialization.add_safe_globals`. We recommend you start setting `weights_only=True` for any use case where you don't have full control of the loaded file. Please open an issue on GitHub for any issues related to this experimental feature.\u001b[32m [repeated 29x across cluster]\u001b[0m\n",
      " 20%|\u001b[34m██        \u001b[0m| 2/10 [00:04<00:17,  2.14s/it]\n",
      " 20%|\u001b[34m██        \u001b[0m| 2/10 [00:04<00:17,  2.13s/it]\n",
      " 20%|\u001b[34m██        \u001b[0m| 2/10 [00:04<00:17,  2.16s/it]\n",
      " 20%|\u001b[34m██        \u001b[0m| 2/10 [00:04<00:16,  2.12s/it]\n",
      "\u001b[36m(DefaultActor pid=28001)\u001b[0m /home/cudaq/.local/lib/python3.10/site-packages/sklearn/metrics/_ranking.py:1183: UndefinedMetricWarning: No positive samples in y_true, true positive value should be meaningless\u001b[32m [repeated 30x across cluster]\u001b[0m\n",
      "\u001b[36m(DefaultActor pid=28001)\u001b[0m   warnings.warn(\u001b[32m [repeated 30x across cluster]\u001b[0m\n",
      " 20%|\u001b[34m██        \u001b[0m| 2/10 [00:04<00:17,  2.14s/it]\n",
      " 20%|\u001b[34m██        \u001b[0m| 2/10 [00:04<00:17,  2.16s/it]\n",
      " 20%|\u001b[34m██        \u001b[0m| 2/10 [00:04<00:17,  2.18s/it]\n",
      " 20%|\u001b[34m██        \u001b[0m| 2/10 [00:04<00:17,  2.16s/it]\n",
      " 20%|\u001b[34m██        \u001b[0m| 2/10 [00:04<00:18,  2.33s/it]\n",
      "\u001b[36m(DefaultActor pid=27997)\u001b[0m   return torch.load(io.BytesIO(b))\u001b[32m [repeated 9x across cluster]\u001b[0m\n"
     ]
    },
    {
     "name": "stdout",
     "output_type": "stream",
     "text": [
      "\u001b[36m(DefaultActor pid=27995)\u001b[0m [Client 0, round 7] fit, config: {'learning_rate': 0.003, 'batch_size': '32', 'server_round': 7, 'local_epochs': 10}\u001b[32m [repeated 9x across cluster]\u001b[0m\n"
     ]
    },
    {
     "name": "stderr",
     "output_type": "stream",
     "text": [
      " 30%|\u001b[34m███       \u001b[0m| 3/10 [00:06<00:14,  2.14s/it]\n",
      "  0%|\u001b[34m          \u001b[0m| 0/10 [00:00<?, ?it/s]\u001b[32m [repeated 9x across cluster]\u001b[0m\n",
      " 30%|\u001b[34m███       \u001b[0m| 3/10 [00:06<00:14,  2.14s/it]\n",
      " 30%|\u001b[34m███       \u001b[0m| 3/10 [00:06<00:14,  2.14s/it]\n",
      " 30%|\u001b[34m███       \u001b[0m| 3/10 [00:06<00:15,  2.16s/it]\n",
      " 30%|\u001b[34m███       \u001b[0m| 3/10 [00:06<00:15,  2.15s/it]\n",
      " 30%|\u001b[34m███       \u001b[0m| 3/10 [00:06<00:14,  2.14s/it]\n",
      " 30%|\u001b[34m███       \u001b[0m| 3/10 [00:06<00:15,  2.17s/it]\n",
      " 30%|\u001b[34m███       \u001b[0m| 3/10 [00:06<00:15,  2.16s/it]\n",
      " 30%|\u001b[34m███       \u001b[0m| 3/10 [00:06<00:15,  2.19s/it]\n",
      " 30%|\u001b[34m███       \u001b[0m| 3/10 [00:06<00:15,  2.28s/it]\n",
      " 40%|\u001b[34m████      \u001b[0m| 4/10 [00:08<00:12,  2.14s/it]\n",
      " 40%|\u001b[34m████      \u001b[0m| 4/10 [00:08<00:12,  2.13s/it]\n",
      " 40%|\u001b[34m████      \u001b[0m| 4/10 [00:08<00:12,  2.13s/it]\n",
      " 40%|\u001b[34m████      \u001b[0m| 4/10 [00:08<00:12,  2.16s/it]\n",
      " 40%|\u001b[34m████      \u001b[0m| 4/10 [00:08<00:12,  2.14s/it]\n",
      " 40%|\u001b[34m████      \u001b[0m| 4/10 [00:08<00:12,  2.15s/it]\n",
      " 40%|\u001b[34m████      \u001b[0m| 4/10 [00:08<00:13,  2.17s/it]\n",
      " 40%|\u001b[34m████      \u001b[0m| 4/10 [00:08<00:13,  2.19s/it]\n",
      " 40%|\u001b[34m████      \u001b[0m| 4/10 [00:08<00:13,  2.18s/it]\n"
     ]
    },
    {
     "name": "stdout",
     "output_type": "stream",
     "text": [
      "\u001b[36m(DefaultActor pid=27995)\u001b[0m \tTrain Epoch: 4 \tTrain_loss_mri: 0.3454 | Train_acc_mri: 94.7917 | Train_loss_dna: 1.7129 | Train_acc_dna: 31.2500 | Validation_loss_mri: 1.0875 | Validation_acc_mri: 75.0000 | Validation_loss_dna: 1.7664 | Validation_acc_dna: 37.5000\u001b[32m [repeated 29x across cluster]\u001b[0m\n"
     ]
    },
    {
     "name": "stderr",
     "output_type": "stream",
     "text": [
      " 40%|\u001b[34m████      \u001b[0m| 4/10 [00:09<00:13,  2.26s/it]\n",
      " 50%|\u001b[34m█████     \u001b[0m| 5/10 [00:10<00:10,  2.12s/it]\n",
      " 50%|\u001b[34m█████     \u001b[0m| 5/10 [00:10<00:10,  2.14s/it]\n",
      " 50%|\u001b[34m█████     \u001b[0m| 5/10 [00:10<00:10,  2.13s/it]\n",
      " 50%|\u001b[34m█████     \u001b[0m| 5/10 [00:10<00:10,  2.15s/it]\n",
      " 50%|\u001b[34m█████     \u001b[0m| 5/10 [00:10<00:10,  2.13s/it]\n",
      " 50%|\u001b[34m█████     \u001b[0m| 5/10 [00:10<00:10,  2.16s/it]\n",
      " 50%|\u001b[34m█████     \u001b[0m| 5/10 [00:10<00:10,  2.16s/it]\n",
      " 50%|\u001b[34m█████     \u001b[0m| 5/10 [00:10<00:10,  2.18s/it]\n",
      " 50%|\u001b[34m█████     \u001b[0m| 5/10 [00:10<00:10,  2.18s/it]\n",
      " 50%|\u001b[34m█████     \u001b[0m| 5/10 [00:11<00:11,  2.25s/it]\n",
      " 60%|\u001b[34m██████    \u001b[0m| 6/10 [00:12<00:08,  2.11s/it]\n",
      " 60%|\u001b[34m██████    \u001b[0m| 6/10 [00:12<00:08,  2.11s/it]\n",
      " 60%|\u001b[34m██████    \u001b[0m| 6/10 [00:12<00:08,  2.13s/it]\n",
      " 60%|\u001b[34m██████    \u001b[0m| 6/10 [00:12<00:08,  2.13s/it]\n",
      " 60%|\u001b[34m██████    \u001b[0m| 6/10 [00:12<00:08,  2.12s/it]\n",
      " 60%|\u001b[34m██████    \u001b[0m| 6/10 [00:12<00:08,  2.14s/it]\n",
      " 60%|\u001b[34m██████    \u001b[0m| 6/10 [00:12<00:08,  2.17s/it]\n",
      " 60%|\u001b[34m██████    \u001b[0m| 6/10 [00:13<00:08,  2.18s/it]\n",
      " 60%|\u001b[34m██████    \u001b[0m| 6/10 [00:13<00:08,  2.22s/it]\n"
     ]
    },
    {
     "name": "stdout",
     "output_type": "stream",
     "text": [
      "\u001b[36m(DefaultActor pid=27995)\u001b[0m \tTrain Epoch: 6 \tTrain_loss_mri: 0.2106 | Train_acc_mri: 100.0000 | Train_loss_dna: 1.6400 | Train_acc_dna: 32.2917 | Validation_loss_mri: 1.2046 | Validation_acc_mri: 75.0000 | Validation_loss_dna: 1.7534 | Validation_acc_dna: 37.5000\u001b[32m [repeated 20x across cluster]\u001b[0m\n"
     ]
    },
    {
     "name": "stderr",
     "output_type": "stream",
     "text": [
      " 60%|\u001b[34m██████    \u001b[0m| 6/10 [00:14<00:09,  2.49s/it]\n",
      " 70%|\u001b[34m███████   \u001b[0m| 7/10 [00:16<00:08,  2.69s/it]\n",
      " 70%|\u001b[34m███████   \u001b[0m| 7/10 [00:16<00:08,  2.75s/it]\n",
      " 70%|\u001b[34m███████   \u001b[0m| 7/10 [00:16<00:08,  2.73s/it]\n",
      " 70%|\u001b[34m███████   \u001b[0m| 7/10 [00:16<00:08,  2.78s/it]\n",
      " 70%|\u001b[34m███████   \u001b[0m| 7/10 [00:16<00:08,  2.80s/it]\n",
      " 70%|\u001b[34m███████   \u001b[0m| 7/10 [00:17<00:08,  2.83s/it]\n",
      " 70%|\u001b[34m███████   \u001b[0m| 7/10 [00:17<00:08,  2.86s/it]\n",
      " 70%|\u001b[34m███████   \u001b[0m| 7/10 [00:17<00:08,  2.88s/it]\n",
      " 70%|\u001b[34m███████   \u001b[0m| 7/10 [00:17<00:08,  2.99s/it]\n",
      " 70%|\u001b[34m███████   \u001b[0m| 7/10 [00:18<00:08,  3.00s/it]\n",
      " 80%|\u001b[34m████████  \u001b[0m| 8/10 [00:19<00:05,  2.74s/it]\n"
     ]
    },
    {
     "name": "stdout",
     "output_type": "stream",
     "text": [
      "\u001b[36m(DefaultActor pid=27999)\u001b[0m \tTrain Epoch: 8 \tTrain_loss_mri: 0.2348 | Train_acc_mri: 100.0000 | Train_loss_dna: 1.7019 | Train_acc_dna: 33.3333 | Validation_loss_mri: 0.6120 | Validation_acc_mri: 87.5000 | Validation_loss_dna: 2.5000 | Validation_acc_dna: 25.0000\u001b[32m [repeated 12x across cluster]\u001b[0m\n"
     ]
    },
    {
     "name": "stderr",
     "output_type": "stream",
     "text": [
      " 80%|\u001b[34m████████  \u001b[0m| 8/10 [00:19<00:05,  2.73s/it]\n",
      " 80%|\u001b[34m████████  \u001b[0m| 8/10 [00:19<00:05,  2.75s/it]\n",
      " 80%|\u001b[34m████████  \u001b[0m| 8/10 [00:19<00:05,  2.75s/it]\n",
      " 80%|\u001b[34m████████  \u001b[0m| 8/10 [00:19<00:05,  2.72s/it]\n",
      " 80%|\u001b[34m████████  \u001b[0m| 8/10 [00:19<00:05,  2.73s/it]\n",
      " 80%|\u001b[34m████████  \u001b[0m| 8/10 [00:19<00:05,  2.75s/it]\n",
      " 80%|\u001b[34m████████  \u001b[0m| 8/10 [00:19<00:05,  2.73s/it]\n",
      " 80%|\u001b[34m████████  \u001b[0m| 8/10 [00:19<00:05,  2.73s/it]\n",
      " 80%|\u001b[34m████████  \u001b[0m| 8/10 [00:20<00:05,  2.74s/it]\n",
      " 90%|\u001b[34m█████████ \u001b[0m| 9/10 [00:21<00:02,  2.54s/it]\n",
      " 90%|\u001b[34m█████████ \u001b[0m| 9/10 [00:21<00:02,  2.54s/it]\n",
      " 90%|\u001b[34m█████████ \u001b[0m| 9/10 [00:21<00:02,  2.57s/it]\n",
      " 90%|\u001b[34m█████████ \u001b[0m| 9/10 [00:21<00:02,  2.54s/it]\n",
      " 90%|\u001b[34m█████████ \u001b[0m| 9/10 [00:21<00:02,  2.55s/it]\n",
      " 90%|\u001b[34m█████████ \u001b[0m| 9/10 [00:21<00:02,  2.54s/it]\n",
      " 90%|\u001b[34m█████████ \u001b[0m| 9/10 [00:21<00:02,  2.56s/it]\n",
      " 90%|\u001b[34m█████████ \u001b[0m| 9/10 [00:22<00:02,  2.56s/it]\n",
      " 90%|\u001b[34m█████████ \u001b[0m| 9/10 [00:22<00:02,  2.56s/it]\n",
      " 90%|\u001b[34m█████████ \u001b[0m| 9/10 [00:22<00:02,  2.57s/it]\n"
     ]
    },
    {
     "name": "stdout",
     "output_type": "stream",
     "text": [
      "\u001b[36m(DefaultActor pid=27994)\u001b[0m save graph in  results/FL/\n"
     ]
    },
    {
     "name": "stderr",
     "output_type": "stream",
     "text": [
      "100%|\u001b[34m██████████\u001b[0m| 10/10 [00:23<00:00,  2.37s/it]\n",
      "100%|\u001b[34m██████████\u001b[0m| 10/10 [00:23<00:00,  2.38s/it]\n",
      "100%|\u001b[34m██████████\u001b[0m| 10/10 [00:23<00:00,  2.39s/it]\n",
      "100%|\u001b[34m██████████\u001b[0m| 10/10 [00:23<00:00,  2.38s/it]\n",
      "100%|\u001b[34m██████████\u001b[0m| 10/10 [00:23<00:00,  2.39s/it]\n",
      "100%|\u001b[34m██████████\u001b[0m| 10/10 [00:23<00:00,  2.39s/it]\n",
      "100%|\u001b[34m██████████\u001b[0m| 10/10 [00:24<00:00,  2.40s/it]\n",
      "100%|\u001b[34m██████████\u001b[0m| 10/10 [00:24<00:00,  2.41s/it]\n",
      "100%|\u001b[34m██████████\u001b[0m| 10/10 [00:24<00:00,  2.42s/it]\n"
     ]
    },
    {
     "name": "stdout",
     "output_type": "stream",
     "text": [
      "\u001b[36m(DefaultActor pid=27995)\u001b[0m \tTrain Epoch: 10 \tTrain_loss_mri: 0.1389 | Train_acc_mri: 100.0000 | Train_loss_dna: 1.6856 | Train_acc_dna: 32.2917 | Validation_loss_mri: 1.5076 | Validation_acc_mri: 75.0000 | Validation_loss_dna: 1.5727 | Validation_acc_dna: 37.5000\u001b[32m [repeated 28x across cluster]\u001b[0m\n"
     ]
    },
    {
     "name": "stderr",
     "output_type": "stream",
     "text": [
      "100%|\u001b[34m██████████\u001b[0m| 10/10 [00:24<00:00,  2.48s/it]\n",
      "DEBUG flwr 2024-09-02 01:39:44,667 | server.py:236 | fit_round 7 received 10 results and 0 failures\n"
     ]
    },
    {
     "name": "stdout",
     "output_type": "stream",
     "text": [
      "Saving round 7 aggregated_parameters...\n",
      "Updated model\n"
     ]
    },
    {
     "name": "stderr",
     "output_type": "stream",
     "text": [
      "INFO flwr 2024-09-02 01:39:50,492 | server.py:125 | fit progress: (7, (1.148147131715502, 1.8630037818636214), {'accuracy': (66.96428571428571, 26.785714285714285)}, 220.8134483336471)\n",
      "DEBUG flwr 2024-09-02 01:39:50,572 | server.py:173 | evaluate_round 7: strategy sampled 10 clients (out of 10)\n"
     ]
    },
    {
     "name": "stdout",
     "output_type": "stream",
     "text": [
      "Server-side evaluation MRI loss 1.148147131715502 / MRI accuracy 66.96428571428571\n",
      "Server-side evaluation DNA loss 1.8630037818636214 / DNA accuracy 26.785714285714285\n",
      "\u001b[36m(DefaultActor pid=27995)\u001b[0m  To get the checkpoint\n",
      "\u001b[36m(DefaultActor pid=27995)\u001b[0m [Client 8] evaluate, config: {}\n",
      "\u001b[36m(DefaultActor pid=27995)\u001b[0m Updated model\n",
      "\u001b[36m(DefaultActor pid=27995)\u001b[0m save graph in  results/FL/\u001b[32m [repeated 9x across cluster]\u001b[0m\n"
     ]
    },
    {
     "name": "stderr",
     "output_type": "stream",
     "text": [
      "\u001b[36m(DefaultActor pid=27995)\u001b[0m /tmp/ipykernel_26738/752934157.py:10: FutureWarning: You are using `torch.load` with `weights_only=False` (the current default value), which uses the default pickle module implicitly. It is possible to construct malicious pickle data which will execute arbitrary code during unpickling (See https://github.com/pytorch/pytorch/blob/main/SECURITY.md#untrusted-models for more details). In a future release, the default value for `weights_only` will be flipped to `True`. This limits the functions that could be executed during unpickling. Arbitrary objects will no longer be allowed to be loaded via this mode unless they are explicitly allowlisted by the user via `torch.serialization.add_safe_globals`. We recommend you start setting `weights_only=True` for any use case where you don't have full control of the loaded file. Please open an issue on GitHub for any issues related to this experimental feature.\n",
      "\u001b[36m(DefaultActor pid=27995)\u001b[0m /home/cudaq/.local/lib/python3.10/site-packages/sklearn/metrics/_ranking.py:1183: UndefinedMetricWarning: No positive samples in y_true, true positive value should be meaningless\n",
      "\u001b[36m(DefaultActor pid=27995)\u001b[0m   warnings.warn(\n",
      "\u001b[36m(DefaultActor pid=27995)\u001b[0m /home/cudaq/.local/lib/python3.10/site-packages/sklearn/metrics/_ranking.py:1183: UndefinedMetricWarning: No positive samples in y_true, true positive value should be meaningless\n",
      "\u001b[36m(DefaultActor pid=27995)\u001b[0m   warnings.warn(\n",
      "DEBUG flwr 2024-09-02 01:39:51,851 | server.py:187 | evaluate_round 7 received 10 results and 0 failures\n",
      "DEBUG flwr 2024-09-02 01:39:51,852 | server.py:222 | fit_round 8: strategy sampled 10 clients (out of 10)\n",
      "\u001b[36m(DefaultActor pid=27994)\u001b[0m   return torch.load(io.BytesIO(b))\n",
      "  0%|\u001b[34m          \u001b[0m| 0/10 [00:00<?, ?it/s]\n"
     ]
    },
    {
     "name": "stdout",
     "output_type": "stream",
     "text": [
      "\u001b[36m(DefaultActor pid=27994)\u001b[0m [Client 4, round 8] fit, config: {'learning_rate': 0.003, 'batch_size': '32', 'server_round': 8, 'local_epochs': 10}\n",
      "\u001b[36m(DefaultActor pid=27994)\u001b[0m \tTrain Epoch: 1 \tTrain_loss_mri: 0.2963 | Train_acc_mri: 88.5417 | Train_loss_dna: 1.8759 | Train_acc_dna: 12.5000 | Validation_loss_mri: 0.5614 | Validation_acc_mri: 75.0000 | Validation_loss_dna: 1.7894 | Validation_acc_dna: 25.0000\n"
     ]
    },
    {
     "name": "stderr",
     "output_type": "stream",
     "text": [
      " 10%|\u001b[34m█         \u001b[0m| 1/10 [00:02<00:19,  2.15s/it]\n",
      " 10%|\u001b[34m█         \u001b[0m| 1/10 [00:02<00:19,  2.18s/it]\n",
      " 10%|\u001b[34m█         \u001b[0m| 1/10 [00:02<00:19,  2.13s/it]\n",
      " 10%|\u001b[34m█         \u001b[0m| 1/10 [00:02<00:19,  2.19s/it]\n",
      " 10%|\u001b[34m█         \u001b[0m| 1/10 [00:02<00:19,  2.19s/it]\n",
      " 10%|\u001b[34m█         \u001b[0m| 1/10 [00:02<00:19,  2.19s/it]\n",
      " 10%|\u001b[34m█         \u001b[0m| 1/10 [00:02<00:19,  2.21s/it]\n",
      " 10%|\u001b[34m█         \u001b[0m| 1/10 [00:02<00:19,  2.15s/it]\n",
      " 10%|\u001b[34m█         \u001b[0m| 1/10 [00:02<00:19,  2.22s/it]\n",
      " 10%|\u001b[34m█         \u001b[0m| 1/10 [00:02<00:20,  2.28s/it]\n"
     ]
    },
    {
     "name": "stdout",
     "output_type": "stream",
     "text": [
      "\u001b[36m(DefaultActor pid=28000)\u001b[0m  To get the checkpoint\u001b[32m [repeated 19x across cluster]\u001b[0m\n",
      "\u001b[36m(DefaultActor pid=28001)\u001b[0m [Client 2] evaluate, config: {}\u001b[32m [repeated 9x across cluster]\u001b[0m\n",
      "\u001b[36m(DefaultActor pid=27997)\u001b[0m Updated model\u001b[32m [repeated 19x across cluster]\u001b[0m\n"
     ]
    },
    {
     "name": "stderr",
     "output_type": "stream",
     "text": [
      " 20%|\u001b[34m██        \u001b[0m| 2/10 [00:04<00:17,  2.16s/it]\n",
      "\u001b[36m(DefaultActor pid=28000)\u001b[0m /tmp/ipykernel_26738/752934157.py:10: FutureWarning: You are using `torch.load` with `weights_only=False` (the current default value), which uses the default pickle module implicitly. It is possible to construct malicious pickle data which will execute arbitrary code during unpickling (See https://github.com/pytorch/pytorch/blob/main/SECURITY.md#untrusted-models for more details). In a future release, the default value for `weights_only` will be flipped to `True`. This limits the functions that could be executed during unpickling. Arbitrary objects will no longer be allowed to be loaded via this mode unless they are explicitly allowlisted by the user via `torch.serialization.add_safe_globals`. We recommend you start setting `weights_only=True` for any use case where you don't have full control of the loaded file. Please open an issue on GitHub for any issues related to this experimental feature.\u001b[32m [repeated 29x across cluster]\u001b[0m\n",
      " 20%|\u001b[34m██        \u001b[0m| 2/10 [00:04<00:17,  2.15s/it]\n",
      "\u001b[36m(DefaultActor pid=28001)\u001b[0m /home/cudaq/.local/lib/python3.10/site-packages/sklearn/metrics/_ranking.py:1183: UndefinedMetricWarning: No positive samples in y_true, true positive value should be meaningless\u001b[32m [repeated 29x across cluster]\u001b[0m\n",
      "\u001b[36m(DefaultActor pid=28001)\u001b[0m   warnings.warn(\u001b[32m [repeated 29x across cluster]\u001b[0m\n",
      " 20%|\u001b[34m██        \u001b[0m| 2/10 [00:04<00:17,  2.14s/it]\n",
      " 20%|\u001b[34m██        \u001b[0m| 2/10 [00:04<00:17,  2.18s/it]\n",
      " 20%|\u001b[34m██        \u001b[0m| 2/10 [00:04<00:17,  2.15s/it]\n",
      " 20%|\u001b[34m██        \u001b[0m| 2/10 [00:04<00:17,  2.19s/it]\n",
      " 20%|\u001b[34m██        \u001b[0m| 2/10 [00:04<00:17,  2.17s/it]\n",
      " 20%|\u001b[34m██        \u001b[0m| 2/10 [00:04<00:17,  2.20s/it]\n",
      " 20%|\u001b[34m██        \u001b[0m| 2/10 [00:04<00:18,  2.35s/it]\n",
      " 20%|\u001b[34m██        \u001b[0m| 2/10 [00:04<00:18,  2.28s/it]\n",
      "\u001b[36m(DefaultActor pid=27997)\u001b[0m   return torch.load(io.BytesIO(b))\u001b[32m [repeated 9x across cluster]\u001b[0m\n"
     ]
    },
    {
     "name": "stdout",
     "output_type": "stream",
     "text": [
      "\u001b[36m(DefaultActor pid=27997)\u001b[0m [Client 8, round 8] fit, config: {'learning_rate': 0.003, 'batch_size': '32', 'server_round': 8, 'local_epochs': 10}\u001b[32m [repeated 9x across cluster]\u001b[0m\n"
     ]
    },
    {
     "name": "stderr",
     "output_type": "stream",
     "text": [
      " 30%|\u001b[34m███       \u001b[0m| 3/10 [00:06<00:15,  2.14s/it]\n",
      "  0%|\u001b[34m          \u001b[0m| 0/10 [00:00<?, ?it/s]\u001b[32m [repeated 9x across cluster]\u001b[0m\n",
      " 30%|\u001b[34m███       \u001b[0m| 3/10 [00:06<00:14,  2.13s/it]\n",
      " 30%|\u001b[34m███       \u001b[0m| 3/10 [00:06<00:14,  2.12s/it]\n",
      " 30%|\u001b[34m███       \u001b[0m| 3/10 [00:06<00:14,  2.13s/it]\n",
      " 30%|\u001b[34m███       \u001b[0m| 3/10 [00:06<00:15,  2.16s/it]\n",
      " 30%|\u001b[34m███       \u001b[0m| 3/10 [00:06<00:15,  2.17s/it]\n",
      " 30%|\u001b[34m███       \u001b[0m| 3/10 [00:06<00:15,  2.16s/it]\n",
      " 30%|\u001b[34m███       \u001b[0m| 3/10 [00:06<00:15,  2.20s/it]\n",
      " 30%|\u001b[34m███       \u001b[0m| 3/10 [00:06<00:15,  2.17s/it]\n",
      " 30%|\u001b[34m███       \u001b[0m| 3/10 [00:06<00:15,  2.25s/it]\n"
     ]
    },
    {
     "name": "stdout",
     "output_type": "stream",
     "text": [
      "\u001b[36m(DefaultActor pid=27994)\u001b[0m \tTrain Epoch: 4 \tTrain_loss_mri: 0.2053 | Train_acc_mri: 95.8333 | Train_loss_dna: 1.6626 | Train_acc_dna: 30.2083 | Validation_loss_mri: 0.8720 | Validation_acc_mri: 62.5000 | Validation_loss_dna: 2.1180 | Validation_acc_dna: 0.0000\u001b[32m [repeated 30x across cluster]\u001b[0m\n"
     ]
    },
    {
     "name": "stderr",
     "output_type": "stream",
     "text": [
      " 40%|\u001b[34m████      \u001b[0m| 4/10 [00:08<00:12,  2.12s/it]\n",
      " 40%|\u001b[34m████      \u001b[0m| 4/10 [00:08<00:12,  2.12s/it]\n",
      " 40%|\u001b[34m████      \u001b[0m| 4/10 [00:08<00:12,  2.10s/it]\n",
      " 40%|\u001b[34m████      \u001b[0m| 4/10 [00:08<00:12,  2.12s/it]\n",
      " 40%|\u001b[34m████      \u001b[0m| 4/10 [00:08<00:12,  2.15s/it]\n",
      " 40%|\u001b[34m████      \u001b[0m| 4/10 [00:08<00:12,  2.16s/it]\n",
      " 40%|\u001b[34m████      \u001b[0m| 4/10 [00:08<00:12,  2.17s/it]\n",
      " 40%|\u001b[34m████      \u001b[0m| 4/10 [00:08<00:12,  2.15s/it]\n",
      " 40%|\u001b[34m████      \u001b[0m| 4/10 [00:08<00:12,  2.17s/it]\n",
      " 40%|\u001b[34m████      \u001b[0m| 4/10 [00:08<00:13,  2.19s/it]\n",
      " 50%|\u001b[34m█████     \u001b[0m| 5/10 [00:10<00:10,  2.10s/it]\n",
      " 50%|\u001b[34m█████     \u001b[0m| 5/10 [00:10<00:10,  2.11s/it]\n",
      " 50%|\u001b[34m█████     \u001b[0m| 5/10 [00:10<00:10,  2.11s/it]\n",
      " 50%|\u001b[34m█████     \u001b[0m| 5/10 [00:10<00:10,  2.12s/it]\n",
      " 50%|\u001b[34m█████     \u001b[0m| 5/10 [00:10<00:10,  2.16s/it]\n",
      " 50%|\u001b[34m█████     \u001b[0m| 5/10 [00:10<00:10,  2.14s/it]\n",
      " 50%|\u001b[34m█████     \u001b[0m| 5/10 [00:10<00:10,  2.16s/it]\n",
      " 50%|\u001b[34m█████     \u001b[0m| 5/10 [00:10<00:10,  2.14s/it]\n",
      " 50%|\u001b[34m█████     \u001b[0m| 5/10 [00:10<00:10,  2.14s/it]\n",
      " 50%|\u001b[34m█████     \u001b[0m| 5/10 [00:10<00:10,  2.16s/it]\n",
      " 60%|\u001b[34m██████    \u001b[0m| 6/10 [00:12<00:08,  2.10s/it]\n",
      " 60%|\u001b[34m██████    \u001b[0m| 6/10 [00:12<00:08,  2.12s/it]\n",
      " 60%|\u001b[34m██████    \u001b[0m| 6/10 [00:12<00:08,  2.12s/it]\n",
      " 60%|\u001b[34m██████    \u001b[0m| 6/10 [00:12<00:08,  2.13s/it]\n",
      " 60%|\u001b[34m██████    \u001b[0m| 6/10 [00:12<00:08,  2.16s/it]\n",
      " 60%|\u001b[34m██████    \u001b[0m| 6/10 [00:12<00:08,  2.14s/it]\n",
      " 60%|\u001b[34m██████    \u001b[0m| 6/10 [00:12<00:08,  2.16s/it]\n",
      " 60%|\u001b[34m██████    \u001b[0m| 6/10 [00:12<00:08,  2.13s/it]\n",
      " 60%|\u001b[34m██████    \u001b[0m| 6/10 [00:12<00:08,  2.14s/it]\n",
      " 60%|\u001b[34m██████    \u001b[0m| 6/10 [00:13<00:08,  2.14s/it]\n"
     ]
    },
    {
     "name": "stdout",
     "output_type": "stream",
     "text": [
      "\u001b[36m(DefaultActor pid=27994)\u001b[0m \tTrain Epoch: 7 \tTrain_loss_mri: 0.1993 | Train_acc_mri: 95.8333 | Train_loss_dna: 1.6701 | Train_acc_dna: 25.0000 | Validation_loss_mri: 0.3320 | Validation_acc_mri: 87.5000 | Validation_loss_dna: 1.9465 | Validation_acc_dna: 12.5000\u001b[32m [repeated 30x across cluster]\u001b[0m\n"
     ]
    },
    {
     "name": "stderr",
     "output_type": "stream",
     "text": [
      " 70%|\u001b[34m███████   \u001b[0m| 7/10 [00:14<00:06,  2.12s/it]\n",
      " 70%|\u001b[34m███████   \u001b[0m| 7/10 [00:14<00:06,  2.14s/it]\n",
      " 70%|\u001b[34m███████   \u001b[0m| 7/10 [00:15<00:06,  2.17s/it]\n",
      " 70%|\u001b[34m███████   \u001b[0m| 7/10 [00:15<00:06,  2.24s/it]\n",
      " 70%|\u001b[34m███████   \u001b[0m| 7/10 [00:15<00:06,  2.17s/it]\n",
      " 70%|\u001b[34m███████   \u001b[0m| 7/10 [00:15<00:06,  2.16s/it]\n",
      " 70%|\u001b[34m███████   \u001b[0m| 7/10 [00:15<00:06,  2.16s/it]\n",
      " 70%|\u001b[34m███████   \u001b[0m| 7/10 [00:15<00:06,  2.15s/it]\n",
      " 70%|\u001b[34m███████   \u001b[0m| 7/10 [00:15<00:06,  2.19s/it]\n",
      " 70%|\u001b[34m███████   \u001b[0m| 7/10 [00:15<00:06,  2.30s/it]\n",
      " 80%|\u001b[34m████████  \u001b[0m| 8/10 [00:16<00:04,  2.12s/it]\n",
      " 80%|\u001b[34m████████  \u001b[0m| 8/10 [00:17<00:04,  2.14s/it]\n",
      " 80%|\u001b[34m████████  \u001b[0m| 8/10 [00:17<00:04,  2.18s/it]\n",
      " 80%|\u001b[34m████████  \u001b[0m| 8/10 [00:17<00:04,  2.21s/it]\n",
      " 80%|\u001b[34m████████  \u001b[0m| 8/10 [00:17<00:04,  2.16s/it]\n",
      " 80%|\u001b[34m████████  \u001b[0m| 8/10 [00:17<00:04,  2.16s/it]\n",
      " 80%|\u001b[34m████████  \u001b[0m| 8/10 [00:17<00:04,  2.14s/it]\n",
      " 80%|\u001b[34m████████  \u001b[0m| 8/10 [00:17<00:04,  2.15s/it]\n",
      " 80%|\u001b[34m████████  \u001b[0m| 8/10 [00:17<00:04,  2.19s/it]\n",
      " 80%|\u001b[34m████████  \u001b[0m| 8/10 [00:17<00:04,  2.25s/it]\n",
      " 90%|\u001b[34m█████████ \u001b[0m| 9/10 [00:19<00:02,  2.11s/it]\n",
      " 90%|\u001b[34m█████████ \u001b[0m| 9/10 [00:19<00:02,  2.20s/it]\n",
      " 90%|\u001b[34m█████████ \u001b[0m| 9/10 [00:19<00:02,  2.17s/it]\n",
      " 90%|\u001b[34m█████████ \u001b[0m| 9/10 [00:19<00:02,  2.14s/it]\n",
      " 90%|\u001b[34m█████████ \u001b[0m| 9/10 [00:19<00:02,  2.17s/it]\n",
      " 90%|\u001b[34m█████████ \u001b[0m| 9/10 [00:19<00:02,  2.16s/it]\n",
      " 90%|\u001b[34m█████████ \u001b[0m| 9/10 [00:19<00:02,  2.13s/it]\n",
      " 90%|\u001b[34m█████████ \u001b[0m| 9/10 [00:19<00:02,  2.15s/it]\n"
     ]
    },
    {
     "name": "stdout",
     "output_type": "stream",
     "text": [
      "\u001b[36m(DefaultActor pid=28000)\u001b[0m \tTrain Epoch: 9 \tTrain_loss_mri: 0.1098 | Train_acc_mri: 98.9583 | Train_loss_dna: 1.6316 | Train_acc_dna: 31.2500 | Validation_loss_mri: 1.5702 | Validation_acc_mri: 62.5000 | Validation_loss_dna: 1.9847 | Validation_acc_dna: 37.5000\u001b[32m [repeated 28x across cluster]\u001b[0m\n"
     ]
    },
    {
     "name": "stderr",
     "output_type": "stream",
     "text": [
      " 90%|\u001b[34m█████████ \u001b[0m| 9/10 [00:19<00:02,  2.20s/it]\n",
      " 90%|\u001b[34m█████████ \u001b[0m| 9/10 [00:19<00:02,  2.20s/it]\n"
     ]
    },
    {
     "name": "stdout",
     "output_type": "stream",
     "text": [
      "\u001b[36m(DefaultActor pid=27994)\u001b[0m save graph in  results/FL/\n"
     ]
    },
    {
     "name": "stderr",
     "output_type": "stream",
     "text": [
      "100%|\u001b[34m██████████\u001b[0m| 10/10 [00:21<00:00,  2.12s/it]\n",
      "100%|\u001b[34m██████████\u001b[0m| 10/10 [00:21<00:00,  2.15s/it]\n",
      "100%|\u001b[34m██████████\u001b[0m| 10/10 [00:21<00:00,  2.16s/it]\n",
      "100%|\u001b[34m██████████\u001b[0m| 10/10 [00:21<00:00,  2.16s/it]\n",
      "100%|\u001b[34m██████████\u001b[0m| 10/10 [00:21<00:00,  2.15s/it]\n",
      "100%|\u001b[34m██████████\u001b[0m| 10/10 [00:21<00:00,  2.16s/it]\n",
      "100%|\u001b[34m██████████\u001b[0m| 10/10 [00:21<00:00,  2.19s/it]\n",
      "100%|\u001b[34m██████████\u001b[0m| 10/10 [00:21<00:00,  2.18s/it]\n",
      "100%|\u001b[34m██████████\u001b[0m| 10/10 [00:21<00:00,  2.20s/it]\n",
      "100%|\u001b[34m██████████\u001b[0m| 10/10 [00:21<00:00,  2.19s/it]\n",
      "DEBUG flwr 2024-09-02 01:40:14,758 | server.py:236 | fit_round 8 received 10 results and 0 failures\n"
     ]
    },
    {
     "name": "stdout",
     "output_type": "stream",
     "text": [
      "Saving round 8 aggregated_parameters...\n",
      "Updated model\n"
     ]
    },
    {
     "name": "stderr",
     "output_type": "stream",
     "text": [
      "INFO flwr 2024-09-02 01:40:20,890 | server.py:125 | fit progress: (8, (1.270965005670275, 1.8521867138998849), {'accuracy': (66.07142857142857, 26.339285714285715)}, 251.21138859679922)\n",
      "DEBUG flwr 2024-09-02 01:40:20,972 | server.py:173 | evaluate_round 8: strategy sampled 10 clients (out of 10)\n"
     ]
    },
    {
     "name": "stdout",
     "output_type": "stream",
     "text": [
      "Server-side evaluation MRI loss 1.270965005670275 / MRI accuracy 66.07142857142857\n",
      "Server-side evaluation DNA loss 1.8521867138998849 / DNA accuracy 26.339285714285715\n",
      "\u001b[36m(DefaultActor pid=27995)\u001b[0m  To get the checkpoint\n",
      "\u001b[36m(DefaultActor pid=27995)\u001b[0m [Client 4] evaluate, config: {}\n",
      "\u001b[36m(DefaultActor pid=27997)\u001b[0m \tTrain Epoch: 10 \tTrain_loss_mri: 0.1015 | Train_acc_mri: 100.0000 | Train_loss_dna: 1.6794 | Train_acc_dna: 27.0833 | Validation_loss_mri: 2.6454 | Validation_acc_mri: 75.0000 | Validation_loss_dna: 1.9983 | Validation_acc_dna: 12.5000\u001b[32m [repeated 11x across cluster]\u001b[0m\n",
      "\u001b[36m(DefaultActor pid=27997)\u001b[0m save graph in  results/FL/\u001b[32m [repeated 9x across cluster]\u001b[0m\n",
      "\u001b[36m(DefaultActor pid=28000)\u001b[0m Updated model\n"
     ]
    },
    {
     "name": "stderr",
     "output_type": "stream",
     "text": [
      "\u001b[36m(DefaultActor pid=27995)\u001b[0m /tmp/ipykernel_26738/752934157.py:10: FutureWarning: You are using `torch.load` with `weights_only=False` (the current default value), which uses the default pickle module implicitly. It is possible to construct malicious pickle data which will execute arbitrary code during unpickling (See https://github.com/pytorch/pytorch/blob/main/SECURITY.md#untrusted-models for more details). In a future release, the default value for `weights_only` will be flipped to `True`. This limits the functions that could be executed during unpickling. Arbitrary objects will no longer be allowed to be loaded via this mode unless they are explicitly allowlisted by the user via `torch.serialization.add_safe_globals`. We recommend you start setting `weights_only=True` for any use case where you don't have full control of the loaded file. Please open an issue on GitHub for any issues related to this experimental feature.\n",
      "\u001b[36m(DefaultActor pid=27997)\u001b[0m /home/cudaq/.local/lib/python3.10/site-packages/sklearn/metrics/_ranking.py:1183: UndefinedMetricWarning: No positive samples in y_true, true positive value should be meaningless\n",
      "\u001b[36m(DefaultActor pid=27997)\u001b[0m   warnings.warn(\n",
      "DEBUG flwr 2024-09-02 01:40:22,195 | server.py:187 | evaluate_round 8 received 10 results and 0 failures\n",
      "DEBUG flwr 2024-09-02 01:40:22,196 | server.py:222 | fit_round 9: strategy sampled 10 clients (out of 10)\n",
      "\u001b[36m(DefaultActor pid=27994)\u001b[0m   return torch.load(io.BytesIO(b))\n",
      "  0%|\u001b[34m          \u001b[0m| 0/10 [00:00<?, ?it/s]\n"
     ]
    },
    {
     "name": "stdout",
     "output_type": "stream",
     "text": [
      "\u001b[36m(DefaultActor pid=27994)\u001b[0m [Client 4, round 9] fit, config: {'learning_rate': 0.003, 'batch_size': '32', 'server_round': 9, 'local_epochs': 10}\n"
     ]
    },
    {
     "name": "stderr",
     "output_type": "stream",
     "text": [
      " 10%|\u001b[34m█         \u001b[0m| 1/10 [00:02<00:20,  2.23s/it]\n",
      " 10%|\u001b[34m█         \u001b[0m| 1/10 [00:02<00:19,  2.16s/it]\n",
      " 10%|\u001b[34m█         \u001b[0m| 1/10 [00:02<00:20,  2.28s/it]\n",
      " 10%|\u001b[34m█         \u001b[0m| 1/10 [00:02<00:19,  2.16s/it]\n",
      " 10%|\u001b[34m█         \u001b[0m| 1/10 [00:02<00:19,  2.18s/it]\n",
      " 10%|\u001b[34m█         \u001b[0m| 1/10 [00:02<00:19,  2.16s/it]\n",
      " 10%|\u001b[34m█         \u001b[0m| 1/10 [00:02<00:19,  2.21s/it]\n",
      " 10%|\u001b[34m█         \u001b[0m| 1/10 [00:02<00:19,  2.12s/it]\n",
      " 10%|\u001b[34m█         \u001b[0m| 1/10 [00:02<00:19,  2.13s/it]\n",
      " 10%|\u001b[34m█         \u001b[0m| 1/10 [00:02<00:19,  2.15s/it]\n"
     ]
    },
    {
     "name": "stdout",
     "output_type": "stream",
     "text": [
      "\u001b[36m(DefaultActor pid=28000)\u001b[0m  To get the checkpoint\u001b[32m [repeated 19x across cluster]\u001b[0m\n",
      "\u001b[36m(DefaultActor pid=27999)\u001b[0m [Client 5] evaluate, config: {}\u001b[32m [repeated 9x across cluster]\u001b[0m\n",
      "\u001b[36m(DefaultActor pid=28002)\u001b[0m \tTrain Epoch: 2 \tTrain_loss_mri: 0.2347 | Train_acc_mri: 94.7917 | Train_loss_dna: 1.7726 | Train_acc_dna: 29.1667 | Validation_loss_mri: 3.5447 | Validation_acc_mri: 62.5000 | Validation_loss_dna: 1.7146 | Validation_acc_dna: 25.0000\u001b[32m [repeated 11x across cluster]\u001b[0m\n",
      "\u001b[36m(DefaultActor pid=28000)\u001b[0m Updated model\u001b[32m [repeated 19x across cluster]\u001b[0m\n"
     ]
    },
    {
     "name": "stderr",
     "output_type": "stream",
     "text": [
      " 20%|\u001b[34m██        \u001b[0m| 2/10 [00:04<00:17,  2.13s/it]\n",
      "\u001b[36m(DefaultActor pid=28000)\u001b[0m /tmp/ipykernel_26738/752934157.py:10: FutureWarning: You are using `torch.load` with `weights_only=False` (the current default value), which uses the default pickle module implicitly. It is possible to construct malicious pickle data which will execute arbitrary code during unpickling (See https://github.com/pytorch/pytorch/blob/main/SECURITY.md#untrusted-models for more details). In a future release, the default value for `weights_only` will be flipped to `True`. This limits the functions that could be executed during unpickling. Arbitrary objects will no longer be allowed to be loaded via this mode unless they are explicitly allowlisted by the user via `torch.serialization.add_safe_globals`. We recommend you start setting `weights_only=True` for any use case where you don't have full control of the loaded file. Please open an issue on GitHub for any issues related to this experimental feature.\u001b[32m [repeated 29x across cluster]\u001b[0m\n",
      "\u001b[36m(DefaultActor pid=27994)\u001b[0m /home/cudaq/.local/lib/python3.10/site-packages/sklearn/metrics/_ranking.py:1183: UndefinedMetricWarning: No positive samples in y_true, true positive value should be meaningless\u001b[32m [repeated 30x across cluster]\u001b[0m\n",
      "\u001b[36m(DefaultActor pid=27994)\u001b[0m   warnings.warn(\u001b[32m [repeated 30x across cluster]\u001b[0m\n",
      " 20%|\u001b[34m██        \u001b[0m| 2/10 [00:04<00:17,  2.23s/it]\n",
      " 20%|\u001b[34m██        \u001b[0m| 2/10 [00:04<00:17,  2.13s/it]\n",
      " 20%|\u001b[34m██        \u001b[0m| 2/10 [00:04<00:17,  2.20s/it]\n",
      " 20%|\u001b[34m██        \u001b[0m| 2/10 [00:04<00:17,  2.16s/it]\n",
      " 20%|\u001b[34m██        \u001b[0m| 2/10 [00:04<00:17,  2.16s/it]\n",
      " 20%|\u001b[34m██        \u001b[0m| 2/10 [00:04<00:17,  2.17s/it]\n",
      " 20%|\u001b[34m██        \u001b[0m| 2/10 [00:04<00:16,  2.12s/it]\n",
      " 20%|\u001b[34m██        \u001b[0m| 2/10 [00:04<00:17,  2.14s/it]\n",
      " 20%|\u001b[34m██        \u001b[0m| 2/10 [00:04<00:17,  2.13s/it]\n"
     ]
    },
    {
     "name": "stdout",
     "output_type": "stream",
     "text": [
      "\u001b[36m(DefaultActor pid=28000)\u001b[0m [Client 5, round 9] fit, config: {'learning_rate': 0.003, 'batch_size': '32', 'server_round': 9, 'local_epochs': 10}\u001b[32m [repeated 9x across cluster]\u001b[0m\n"
     ]
    },
    {
     "name": "stderr",
     "output_type": "stream",
     "text": [
      " 30%|\u001b[34m███       \u001b[0m| 3/10 [00:06<00:14,  2.11s/it]\n",
      "\u001b[36m(DefaultActor pid=28000)\u001b[0m   return torch.load(io.BytesIO(b))\u001b[32m [repeated 9x across cluster]\u001b[0m\n",
      "  0%|\u001b[34m          \u001b[0m| 0/10 [00:00<?, ?it/s]\u001b[32m [repeated 9x across cluster]\u001b[0m\n",
      " 30%|\u001b[34m███       \u001b[0m| 3/10 [00:06<00:14,  2.12s/it]\n",
      " 30%|\u001b[34m███       \u001b[0m| 3/10 [00:06<00:15,  2.17s/it]\n",
      " 30%|\u001b[34m███       \u001b[0m| 3/10 [00:06<00:15,  2.24s/it]\n",
      " 30%|\u001b[34m███       \u001b[0m| 3/10 [00:06<00:15,  2.15s/it]\n",
      " 30%|\u001b[34m███       \u001b[0m| 3/10 [00:06<00:14,  2.12s/it]\n",
      " 30%|\u001b[34m███       \u001b[0m| 3/10 [00:06<00:15,  2.15s/it]\n",
      " 30%|\u001b[34m███       \u001b[0m| 3/10 [00:06<00:15,  2.17s/it]\n",
      " 30%|\u001b[34m███       \u001b[0m| 3/10 [00:06<00:14,  2.14s/it]\n",
      " 30%|\u001b[34m███       \u001b[0m| 3/10 [00:06<00:14,  2.13s/it]\n",
      " 40%|\u001b[34m████      \u001b[0m| 4/10 [00:08<00:12,  2.11s/it]\n",
      " 40%|\u001b[34m████      \u001b[0m| 4/10 [00:08<00:12,  2.11s/it]\n",
      " 40%|\u001b[34m████      \u001b[0m| 4/10 [00:08<00:12,  2.14s/it]\n",
      " 40%|\u001b[34m████      \u001b[0m| 4/10 [00:08<00:12,  2.14s/it]\n",
      " 40%|\u001b[34m████      \u001b[0m| 4/10 [00:08<00:12,  2.11s/it]\n",
      " 40%|\u001b[34m████      \u001b[0m| 4/10 [00:08<00:12,  2.15s/it]\n",
      " 40%|\u001b[34m████      \u001b[0m| 4/10 [00:08<00:12,  2.15s/it]\n",
      " 40%|\u001b[34m████      \u001b[0m| 4/10 [00:08<00:13,  2.23s/it]\n",
      " 40%|\u001b[34m████      \u001b[0m| 4/10 [00:08<00:12,  2.15s/it]\n",
      " 40%|\u001b[34m████      \u001b[0m| 4/10 [00:08<00:12,  2.12s/it]\n"
     ]
    },
    {
     "name": "stdout",
     "output_type": "stream",
     "text": [
      "\u001b[36m(DefaultActor pid=27998)\u001b[0m \tTrain Epoch: 5 \tTrain_loss_mri: 0.1428 | Train_acc_mri: 98.9583 | Train_loss_dna: 1.6647 | Train_acc_dna: 37.5000 | Validation_loss_mri: 0.5092 | Validation_acc_mri: 75.0000 | Validation_loss_dna: 1.7020 | Validation_acc_dna: 12.5000\u001b[32m [repeated 30x across cluster]\u001b[0m\n"
     ]
    },
    {
     "name": "stderr",
     "output_type": "stream",
     "text": [
      " 50%|\u001b[34m█████     \u001b[0m| 5/10 [00:10<00:10,  2.10s/it]\n",
      " 50%|\u001b[34m█████     \u001b[0m| 5/10 [00:10<00:10,  2.10s/it]\n",
      " 50%|\u001b[34m█████     \u001b[0m| 5/10 [00:10<00:10,  2.12s/it]\n",
      " 50%|\u001b[34m█████     \u001b[0m| 5/10 [00:10<00:10,  2.13s/it]\n",
      " 50%|\u001b[34m█████     \u001b[0m| 5/10 [00:10<00:10,  2.14s/it]\n",
      " 50%|\u001b[34m█████     \u001b[0m| 5/10 [00:10<00:10,  2.13s/it]\n",
      " 50%|\u001b[34m█████     \u001b[0m| 5/10 [00:10<00:10,  2.15s/it]\n",
      " 50%|\u001b[34m█████     \u001b[0m| 5/10 [00:11<00:11,  2.22s/it]\n",
      " 50%|\u001b[34m█████     \u001b[0m| 5/10 [00:10<00:10,  2.15s/it]\n",
      " 50%|\u001b[34m█████     \u001b[0m| 5/10 [00:10<00:10,  2.12s/it]\n",
      " 60%|\u001b[34m██████    \u001b[0m| 6/10 [00:12<00:08,  2.10s/it]\n",
      " 60%|\u001b[34m██████    \u001b[0m| 6/10 [00:12<00:08,  2.11s/it]\n",
      " 60%|\u001b[34m██████    \u001b[0m| 6/10 [00:12<00:08,  2.13s/it]\n",
      " 60%|\u001b[34m██████    \u001b[0m| 6/10 [00:12<00:08,  2.14s/it]\n",
      " 60%|\u001b[34m██████    \u001b[0m| 6/10 [00:12<00:08,  2.15s/it]\n",
      " 60%|\u001b[34m██████    \u001b[0m| 6/10 [00:12<00:08,  2.12s/it]\n",
      " 60%|\u001b[34m██████    \u001b[0m| 6/10 [00:12<00:08,  2.13s/it]\n",
      " 60%|\u001b[34m██████    \u001b[0m| 6/10 [00:12<00:08,  2.14s/it]\n",
      " 60%|\u001b[34m██████    \u001b[0m| 6/10 [00:12<00:08,  2.11s/it]\n",
      " 60%|\u001b[34m██████    \u001b[0m| 6/10 [00:13<00:08,  2.20s/it]\n",
      " 70%|\u001b[34m███████   \u001b[0m| 7/10 [00:14<00:06,  2.12s/it]\n",
      " 70%|\u001b[34m███████   \u001b[0m| 7/10 [00:14<00:06,  2.11s/it]\n",
      " 70%|\u001b[34m███████   \u001b[0m| 7/10 [00:15<00:06,  2.14s/it]\n",
      " 70%|\u001b[34m███████   \u001b[0m| 7/10 [00:14<00:06,  2.13s/it]\n",
      " 70%|\u001b[34m███████   \u001b[0m| 7/10 [00:15<00:06,  2.14s/it]\n",
      " 70%|\u001b[34m███████   \u001b[0m| 7/10 [00:15<00:06,  2.17s/it]\n",
      " 70%|\u001b[34m███████   \u001b[0m| 7/10 [00:14<00:06,  2.13s/it]\n",
      " 70%|\u001b[34m███████   \u001b[0m| 7/10 [00:15<00:06,  2.15s/it]\n",
      " 70%|\u001b[34m███████   \u001b[0m| 7/10 [00:15<00:06,  2.17s/it]\n",
      " 70%|\u001b[34m███████   \u001b[0m| 7/10 [00:15<00:06,  2.20s/it]\n"
     ]
    },
    {
     "name": "stdout",
     "output_type": "stream",
     "text": [
      "\u001b[36m(DefaultActor pid=27998)\u001b[0m \tTrain Epoch: 8 \tTrain_loss_mri: 0.0878 | Train_acc_mri: 98.9583 | Train_loss_dna: 1.6822 | Train_acc_dna: 28.1250 | Validation_loss_mri: 0.5873 | Validation_acc_mri: 62.5000 | Validation_loss_dna: 1.8531 | Validation_acc_dna: 25.0000\u001b[32m [repeated 30x across cluster]\u001b[0m\n"
     ]
    },
    {
     "name": "stderr",
     "output_type": "stream",
     "text": [
      " 80%|\u001b[34m████████  \u001b[0m| 8/10 [00:16<00:04,  2.12s/it]\n",
      " 80%|\u001b[34m████████  \u001b[0m| 8/10 [00:16<00:04,  2.11s/it]\n",
      " 80%|\u001b[34m████████  \u001b[0m| 8/10 [00:17<00:04,  2.14s/it]\n",
      " 80%|\u001b[34m████████  \u001b[0m| 8/10 [00:16<00:04,  2.12s/it]\n",
      " 80%|\u001b[34m████████  \u001b[0m| 8/10 [00:17<00:04,  2.15s/it]\n",
      " 80%|\u001b[34m████████  \u001b[0m| 8/10 [00:17<00:04,  2.13s/it]\n",
      " 80%|\u001b[34m████████  \u001b[0m| 8/10 [00:17<00:04,  2.17s/it]\n",
      " 80%|\u001b[34m████████  \u001b[0m| 8/10 [00:17<00:04,  2.17s/it]\n",
      " 80%|\u001b[34m████████  \u001b[0m| 8/10 [00:17<00:04,  2.16s/it]\n",
      " 80%|\u001b[34m████████  \u001b[0m| 8/10 [00:17<00:04,  2.20s/it]\n",
      " 90%|\u001b[34m█████████ \u001b[0m| 9/10 [00:18<00:02,  2.10s/it]\n",
      " 90%|\u001b[34m█████████ \u001b[0m| 9/10 [00:19<00:02,  2.13s/it]\n",
      " 90%|\u001b[34m█████████ \u001b[0m| 9/10 [00:19<00:02,  2.12s/it]\n",
      " 90%|\u001b[34m█████████ \u001b[0m| 9/10 [00:19<00:02,  2.13s/it]\n",
      " 90%|\u001b[34m█████████ \u001b[0m| 9/10 [00:19<00:02,  2.11s/it]\n",
      " 90%|\u001b[34m█████████ \u001b[0m| 9/10 [00:19<00:02,  2.14s/it]\n",
      " 90%|\u001b[34m█████████ \u001b[0m| 9/10 [00:19<00:02,  2.16s/it]\n",
      " 90%|\u001b[34m█████████ \u001b[0m| 9/10 [00:19<00:02,  2.14s/it]\n",
      " 90%|\u001b[34m█████████ \u001b[0m| 9/10 [00:19<00:02,  2.16s/it]\n",
      " 90%|\u001b[34m█████████ \u001b[0m| 9/10 [00:19<00:02,  2.20s/it]\n"
     ]
    },
    {
     "name": "stdout",
     "output_type": "stream",
     "text": [
      "\u001b[36m(DefaultActor pid=28002)\u001b[0m save graph in  results/FL/\n"
     ]
    },
    {
     "name": "stderr",
     "output_type": "stream",
     "text": [
      "100%|\u001b[34m██████████\u001b[0m| 10/10 [00:21<00:00,  2.11s/it]\n",
      "100%|\u001b[34m██████████\u001b[0m| 10/10 [00:21<00:00,  2.12s/it]\n",
      "100%|\u001b[34m██████████\u001b[0m| 10/10 [00:21<00:00,  2.13s/it]\n",
      "100%|\u001b[34m██████████\u001b[0m| 10/10 [00:21<00:00,  2.12s/it]\n",
      "100%|\u001b[34m██████████\u001b[0m| 10/10 [00:21<00:00,  2.15s/it]\n",
      "100%|\u001b[34m██████████\u001b[0m| 10/10 [00:21<00:00,  2.12s/it]\n",
      "100%|\u001b[34m██████████\u001b[0m| 10/10 [00:21<00:00,  2.16s/it]\n",
      "100%|\u001b[34m██████████\u001b[0m| 10/10 [00:21<00:00,  2.15s/it]\n",
      "100%|\u001b[34m██████████\u001b[0m| 10/10 [00:21<00:00,  2.15s/it]\n",
      "100%|\u001b[34m██████████\u001b[0m| 10/10 [00:22<00:00,  2.20s/it]\n",
      "DEBUG flwr 2024-09-02 01:40:44,764 | server.py:236 | fit_round 9 received 10 results and 0 failures\n"
     ]
    },
    {
     "name": "stdout",
     "output_type": "stream",
     "text": [
      "Saving round 9 aggregated_parameters...\n",
      "Updated model\n"
     ]
    },
    {
     "name": "stderr",
     "output_type": "stream",
     "text": [
      "INFO flwr 2024-09-02 01:40:50,489 | server.py:125 | fit progress: (9, (1.1245682750429427, 1.837875826018197), {'accuracy': (63.83928571428571, 27.232142857142854)}, 280.8111748630181)\n",
      "DEBUG flwr 2024-09-02 01:40:50,492 | server.py:173 | evaluate_round 9: strategy sampled 10 clients (out of 10)\n"
     ]
    },
    {
     "name": "stdout",
     "output_type": "stream",
     "text": [
      "Server-side evaluation MRI loss 1.1245682750429427 / MRI accuracy 63.83928571428571\n",
      "Server-side evaluation DNA loss 1.837875826018197 / DNA accuracy 27.232142857142854\n",
      "\u001b[36m(DefaultActor pid=27994)\u001b[0m  To get the checkpoint\n",
      "\u001b[36m(DefaultActor pid=27994)\u001b[0m [Client 1] evaluate, config: {}\n",
      "\u001b[36m(DefaultActor pid=27994)\u001b[0m Updated model\n",
      "\u001b[36m(DefaultActor pid=27994)\u001b[0m \tTrain Epoch: 10 \tTrain_loss_mri: 0.0650 | Train_acc_mri: 100.0000 | Train_loss_dna: 1.6577 | Train_acc_dna: 30.2083 | Validation_loss_mri: 0.3690 | Validation_acc_mri: 87.5000 | Validation_loss_dna: 1.9055 | Validation_acc_dna: 12.5000\u001b[32m [repeated 29x across cluster]\u001b[0m\n",
      "\u001b[36m(DefaultActor pid=27994)\u001b[0m save graph in  results/FL/\u001b[32m [repeated 9x across cluster]\u001b[0m\n"
     ]
    },
    {
     "name": "stderr",
     "output_type": "stream",
     "text": [
      "\u001b[36m(DefaultActor pid=27994)\u001b[0m /tmp/ipykernel_26738/752934157.py:10: FutureWarning: You are using `torch.load` with `weights_only=False` (the current default value), which uses the default pickle module implicitly. It is possible to construct malicious pickle data which will execute arbitrary code during unpickling (See https://github.com/pytorch/pytorch/blob/main/SECURITY.md#untrusted-models for more details). In a future release, the default value for `weights_only` will be flipped to `True`. This limits the functions that could be executed during unpickling. Arbitrary objects will no longer be allowed to be loaded via this mode unless they are explicitly allowlisted by the user via `torch.serialization.add_safe_globals`. We recommend you start setting `weights_only=True` for any use case where you don't have full control of the loaded file. Please open an issue on GitHub for any issues related to this experimental feature.\n",
      "\u001b[36m(DefaultActor pid=27994)\u001b[0m /home/cudaq/.local/lib/python3.10/site-packages/sklearn/metrics/_ranking.py:1183: UndefinedMetricWarning: No positive samples in y_true, true positive value should be meaningless\n",
      "\u001b[36m(DefaultActor pid=27994)\u001b[0m   warnings.warn(\n",
      "\u001b[36m(DefaultActor pid=27994)\u001b[0m /home/cudaq/.local/lib/python3.10/site-packages/sklearn/metrics/_ranking.py:1183: UndefinedMetricWarning: No positive samples in y_true, true positive value should be meaningless\n",
      "\u001b[36m(DefaultActor pid=27994)\u001b[0m   warnings.warn(\n",
      "\u001b[36m(DefaultActor pid=27994)\u001b[0m /home/cudaq/.local/lib/python3.10/site-packages/sklearn/metrics/_ranking.py:1183: UndefinedMetricWarning: No positive samples in y_true, true positive value should be meaningless\n",
      "\u001b[36m(DefaultActor pid=27994)\u001b[0m   warnings.warn(\n",
      "DEBUG flwr 2024-09-02 01:40:51,805 | server.py:187 | evaluate_round 9 received 10 results and 0 failures\n",
      "DEBUG flwr 2024-09-02 01:40:51,806 | server.py:222 | fit_round 10: strategy sampled 10 clients (out of 10)\n",
      "\u001b[36m(DefaultActor pid=27998)\u001b[0m   return torch.load(io.BytesIO(b))\n",
      "  0%|\u001b[34m          \u001b[0m| 0/10 [00:00<?, ?it/s]\n"
     ]
    },
    {
     "name": "stdout",
     "output_type": "stream",
     "text": [
      "\u001b[36m(DefaultActor pid=27998)\u001b[0m [Client 6, round 10] fit, config: {'learning_rate': 0.003, 'batch_size': '32', 'server_round': 10, 'local_epochs': 10}\n"
     ]
    },
    {
     "name": "stderr",
     "output_type": "stream",
     "text": [
      " 10%|\u001b[34m█         \u001b[0m| 1/10 [00:02<00:19,  2.18s/it]\n",
      " 10%|\u001b[34m█         \u001b[0m| 1/10 [00:02<00:19,  2.13s/it]\n",
      " 10%|\u001b[34m█         \u001b[0m| 1/10 [00:02<00:19,  2.17s/it]\n",
      " 10%|\u001b[34m█         \u001b[0m| 1/10 [00:02<00:20,  2.26s/it]\n",
      " 10%|\u001b[34m█         \u001b[0m| 1/10 [00:02<00:19,  2.16s/it]\n",
      " 10%|\u001b[34m█         \u001b[0m| 1/10 [00:02<00:19,  2.19s/it]\n",
      " 10%|\u001b[34m█         \u001b[0m| 1/10 [00:02<00:19,  2.20s/it]\n",
      " 10%|\u001b[34m█         \u001b[0m| 1/10 [00:02<00:19,  2.16s/it]\n",
      " 10%|\u001b[34m█         \u001b[0m| 1/10 [00:02<00:19,  2.16s/it]\n",
      " 10%|\u001b[34m█         \u001b[0m| 1/10 [00:02<00:19,  2.21s/it]\n"
     ]
    },
    {
     "name": "stdout",
     "output_type": "stream",
     "text": [
      "\u001b[36m(DefaultActor pid=27994)\u001b[0m  To get the checkpoint\u001b[32m [repeated 19x across cluster]\u001b[0m\n",
      "\u001b[36m(DefaultActor pid=28002)\u001b[0m [Client 0] evaluate, config: {}\u001b[32m [repeated 9x across cluster]\u001b[0m\n",
      "\u001b[36m(DefaultActor pid=27997)\u001b[0m Updated model\u001b[32m [repeated 19x across cluster]\u001b[0m\n",
      "\u001b[36m(DefaultActor pid=27995)\u001b[0m \tTrain Epoch: 2 \tTrain_loss_mri: 0.1888 | Train_acc_mri: 95.8333 | Train_loss_dna: 1.6574 | Train_acc_dna: 27.0833 | Validation_loss_mri: 2.3503 | Validation_acc_mri: 37.5000 | Validation_loss_dna: 1.8617 | Validation_acc_dna: 25.0000\u001b[32m [repeated 11x across cluster]\u001b[0m\n"
     ]
    },
    {
     "name": "stderr",
     "output_type": "stream",
     "text": [
      " 20%|\u001b[34m██        \u001b[0m| 2/10 [00:04<00:16,  2.12s/it]\n",
      "\u001b[36m(DefaultActor pid=27994)\u001b[0m /tmp/ipykernel_26738/752934157.py:10: FutureWarning: You are using `torch.load` with `weights_only=False` (the current default value), which uses the default pickle module implicitly. It is possible to construct malicious pickle data which will execute arbitrary code during unpickling (See https://github.com/pytorch/pytorch/blob/main/SECURITY.md#untrusted-models for more details). In a future release, the default value for `weights_only` will be flipped to `True`. This limits the functions that could be executed during unpickling. Arbitrary objects will no longer be allowed to be loaded via this mode unless they are explicitly allowlisted by the user via `torch.serialization.add_safe_globals`. We recommend you start setting `weights_only=True` for any use case where you don't have full control of the loaded file. Please open an issue on GitHub for any issues related to this experimental feature.\u001b[32m [repeated 29x across cluster]\u001b[0m\n",
      " 20%|\u001b[34m██        \u001b[0m| 2/10 [00:04<00:17,  2.15s/it]\n",
      " 20%|\u001b[34m██        \u001b[0m| 2/10 [00:04<00:17,  2.14s/it]\n",
      "\u001b[36m(DefaultActor pid=28002)\u001b[0m /home/cudaq/.local/lib/python3.10/site-packages/sklearn/metrics/_ranking.py:1183: UndefinedMetricWarning: No positive samples in y_true, true positive value should be meaningless\u001b[32m [repeated 28x across cluster]\u001b[0m\n",
      "\u001b[36m(DefaultActor pid=28002)\u001b[0m   warnings.warn(\u001b[32m [repeated 28x across cluster]\u001b[0m\n",
      " 20%|\u001b[34m██        \u001b[0m| 2/10 [00:04<00:17,  2.22s/it]\n",
      " 20%|\u001b[34m██        \u001b[0m| 2/10 [00:04<00:17,  2.13s/it]\n",
      " 20%|\u001b[34m██        \u001b[0m| 2/10 [00:04<00:17,  2.18s/it]\n",
      " 20%|\u001b[34m██        \u001b[0m| 2/10 [00:04<00:17,  2.18s/it]\n",
      " 20%|\u001b[34m██        \u001b[0m| 2/10 [00:04<00:17,  2.13s/it]\n",
      " 20%|\u001b[34m██        \u001b[0m| 2/10 [00:04<00:17,  2.16s/it]\n",
      " 20%|\u001b[34m██        \u001b[0m| 2/10 [00:04<00:17,  2.15s/it]\n"
     ]
    },
    {
     "name": "stdout",
     "output_type": "stream",
     "text": [
      "\u001b[36m(DefaultActor pid=27997)\u001b[0m [Client 2, round 10] fit, config: {'learning_rate': 0.003, 'batch_size': '32', 'server_round': 10, 'local_epochs': 10}\u001b[32m [repeated 9x across cluster]\u001b[0m\n"
     ]
    },
    {
     "name": "stderr",
     "output_type": "stream",
     "text": [
      " 30%|\u001b[34m███       \u001b[0m| 3/10 [00:06<00:14,  2.11s/it]\n",
      "\u001b[36m(DefaultActor pid=27997)\u001b[0m   return torch.load(io.BytesIO(b))\u001b[32m [repeated 9x across cluster]\u001b[0m\n",
      "  0%|\u001b[34m          \u001b[0m| 0/10 [00:00<?, ?it/s]\u001b[32m [repeated 9x across cluster]\u001b[0m\n",
      " 30%|\u001b[34m███       \u001b[0m| 3/10 [00:06<00:14,  2.13s/it]\n",
      " 30%|\u001b[34m███       \u001b[0m| 3/10 [00:06<00:14,  2.11s/it]\n",
      " 30%|\u001b[34m███       \u001b[0m| 3/10 [00:06<00:14,  2.11s/it]\n",
      " 30%|\u001b[34m███       \u001b[0m| 3/10 [00:06<00:15,  2.17s/it]\n",
      " 30%|\u001b[34m███       \u001b[0m| 3/10 [00:06<00:15,  2.15s/it]\n",
      " 30%|\u001b[34m███       \u001b[0m| 3/10 [00:06<00:15,  2.15s/it]\n",
      " 30%|\u001b[34m███       \u001b[0m| 3/10 [00:06<00:14,  2.12s/it]\n",
      " 30%|\u001b[34m███       \u001b[0m| 3/10 [00:06<00:15,  2.14s/it]\n",
      " 30%|\u001b[34m███       \u001b[0m| 3/10 [00:06<00:15,  2.15s/it]\n",
      " 40%|\u001b[34m████      \u001b[0m| 4/10 [00:08<00:12,  2.09s/it]\n",
      " 40%|\u001b[34m████      \u001b[0m| 4/10 [00:08<00:12,  2.09s/it]\n",
      " 40%|\u001b[34m████      \u001b[0m| 4/10 [00:08<00:12,  2.13s/it]\n",
      " 40%|\u001b[34m████      \u001b[0m| 4/10 [00:08<00:12,  2.14s/it]\n",
      " 40%|\u001b[34m████      \u001b[0m| 4/10 [00:08<00:12,  2.10s/it]\n",
      " 40%|\u001b[34m████      \u001b[0m| 4/10 [00:08<00:12,  2.10s/it]\n",
      " 40%|\u001b[34m████      \u001b[0m| 4/10 [00:08<00:12,  2.13s/it]\n",
      " 40%|\u001b[34m████      \u001b[0m| 4/10 [00:08<00:12,  2.14s/it]\n",
      " 40%|\u001b[34m████      \u001b[0m| 4/10 [00:08<00:12,  2.16s/it]\n",
      " 40%|\u001b[34m████      \u001b[0m| 4/10 [00:08<00:12,  2.16s/it]\n"
     ]
    },
    {
     "name": "stdout",
     "output_type": "stream",
     "text": [
      "\u001b[36m(DefaultActor pid=27995)\u001b[0m \tTrain Epoch: 5 \tTrain_loss_mri: 0.0626 | Train_acc_mri: 100.0000 | Train_loss_dna: 1.6016 | Train_acc_dna: 41.6667 | Validation_loss_mri: 3.0281 | Validation_acc_mri: 50.0000 | Validation_loss_dna: 1.7762 | Validation_acc_dna: 25.0000\u001b[32m [repeated 30x across cluster]\u001b[0m\n"
     ]
    },
    {
     "name": "stderr",
     "output_type": "stream",
     "text": [
      " 50%|\u001b[34m█████     \u001b[0m| 5/10 [00:10<00:10,  2.11s/it]\n",
      " 50%|\u001b[34m█████     \u001b[0m| 5/10 [00:10<00:10,  2.10s/it]\n",
      " 50%|\u001b[34m█████     \u001b[0m| 5/10 [00:10<00:10,  2.12s/it]\n",
      " 50%|\u001b[34m█████     \u001b[0m| 5/10 [00:10<00:10,  2.14s/it]\n",
      " 50%|\u001b[34m█████     \u001b[0m| 5/10 [00:10<00:10,  2.13s/it]\n",
      " 50%|\u001b[34m█████     \u001b[0m| 5/10 [00:10<00:10,  2.12s/it]\n",
      " 50%|\u001b[34m█████     \u001b[0m| 5/10 [00:10<00:10,  2.13s/it]\n",
      " 50%|\u001b[34m█████     \u001b[0m| 5/10 [00:10<00:10,  2.14s/it]\n",
      " 50%|\u001b[34m█████     \u001b[0m| 5/10 [00:10<00:10,  2.16s/it]\n",
      " 50%|\u001b[34m█████     \u001b[0m| 5/10 [00:10<00:10,  2.16s/it]\n",
      " 60%|\u001b[34m██████    \u001b[0m| 6/10 [00:12<00:08,  2.11s/it]\n",
      " 60%|\u001b[34m██████    \u001b[0m| 6/10 [00:12<00:08,  2.11s/it]\n",
      " 60%|\u001b[34m██████    \u001b[0m| 6/10 [00:12<00:08,  2.13s/it]\n",
      " 60%|\u001b[34m██████    \u001b[0m| 6/10 [00:12<00:08,  2.15s/it]\n",
      " 60%|\u001b[34m██████    \u001b[0m| 6/10 [00:12<00:08,  2.13s/it]\n",
      " 60%|\u001b[34m██████    \u001b[0m| 6/10 [00:12<00:08,  2.13s/it]\n",
      " 60%|\u001b[34m██████    \u001b[0m| 6/10 [00:12<00:08,  2.14s/it]\n",
      " 60%|\u001b[34m██████    \u001b[0m| 6/10 [00:12<00:08,  2.16s/it]\n",
      " 60%|\u001b[34m██████    \u001b[0m| 6/10 [00:13<00:08,  2.17s/it]\n",
      " 60%|\u001b[34m██████    \u001b[0m| 6/10 [00:12<00:08,  2.16s/it]\n",
      " 70%|\u001b[34m███████   \u001b[0m| 7/10 [00:14<00:06,  2.10s/it]\n",
      " 70%|\u001b[34m███████   \u001b[0m| 7/10 [00:14<00:06,  2.13s/it]\n",
      " 70%|\u001b[34m███████   \u001b[0m| 7/10 [00:15<00:06,  2.17s/it]\n",
      " 70%|\u001b[34m███████   \u001b[0m| 7/10 [00:15<00:06,  2.14s/it]\n",
      " 70%|\u001b[34m███████   \u001b[0m| 7/10 [00:14<00:06,  2.14s/it]\n",
      " 70%|\u001b[34m███████   \u001b[0m| 7/10 [00:14<00:06,  2.13s/it]\n",
      " 70%|\u001b[34m███████   \u001b[0m| 7/10 [00:15<00:06,  2.15s/it]\n",
      " 70%|\u001b[34m███████   \u001b[0m| 7/10 [00:15<00:06,  2.17s/it]\n",
      " 70%|\u001b[34m███████   \u001b[0m| 7/10 [00:15<00:06,  2.17s/it]\n",
      " 70%|\u001b[34m███████   \u001b[0m| 7/10 [00:15<00:06,  2.19s/it]\n"
     ]
    },
    {
     "name": "stdout",
     "output_type": "stream",
     "text": [
      "\u001b[36m(DefaultActor pid=27999)\u001b[0m \tTrain Epoch: 8 \tTrain_loss_mri: 0.0892 | Train_acc_mri: 98.9583 | Train_loss_dna: 1.6233 | Train_acc_dna: 31.2500 | Validation_loss_mri: 0.3543 | Validation_acc_mri: 75.0000 | Validation_loss_dna: 2.3632 | Validation_acc_dna: 25.0000\u001b[32m [repeated 30x across cluster]\u001b[0m\n"
     ]
    },
    {
     "name": "stderr",
     "output_type": "stream",
     "text": [
      " 80%|\u001b[34m████████  \u001b[0m| 8/10 [00:16<00:04,  2.11s/it]\n",
      " 80%|\u001b[34m████████  \u001b[0m| 8/10 [00:16<00:04,  2.13s/it]\n",
      " 80%|\u001b[34m████████  \u001b[0m| 8/10 [00:17<00:04,  2.13s/it]\n",
      " 80%|\u001b[34m████████  \u001b[0m| 8/10 [00:17<00:04,  2.15s/it]\n",
      " 80%|\u001b[34m████████  \u001b[0m| 8/10 [00:17<00:04,  2.14s/it]\n",
      " 80%|\u001b[34m████████  \u001b[0m| 8/10 [00:17<00:04,  2.13s/it]\n",
      " 80%|\u001b[34m████████  \u001b[0m| 8/10 [00:17<00:04,  2.14s/it]\n",
      " 80%|\u001b[34m████████  \u001b[0m| 8/10 [00:17<00:04,  2.16s/it]\n",
      " 80%|\u001b[34m████████  \u001b[0m| 8/10 [00:17<00:04,  2.15s/it]\n",
      " 80%|\u001b[34m████████  \u001b[0m| 8/10 [00:17<00:04,  2.18s/it]\n",
      " 90%|\u001b[34m█████████ \u001b[0m| 9/10 [00:18<00:02,  2.09s/it]\n",
      " 90%|\u001b[34m█████████ \u001b[0m| 9/10 [00:19<00:02,  2.13s/it]\n",
      " 90%|\u001b[34m█████████ \u001b[0m| 9/10 [00:19<00:02,  2.12s/it]\n",
      " 90%|\u001b[34m█████████ \u001b[0m| 9/10 [00:19<00:02,  2.13s/it]\n",
      " 90%|\u001b[34m█████████ \u001b[0m| 9/10 [00:19<00:02,  2.14s/it]\n",
      " 90%|\u001b[34m█████████ \u001b[0m| 9/10 [00:19<00:02,  2.12s/it]\n",
      " 90%|\u001b[34m█████████ \u001b[0m| 9/10 [00:19<00:02,  2.13s/it]\n",
      " 90%|\u001b[34m█████████ \u001b[0m| 9/10 [00:19<00:02,  2.14s/it]\n",
      " 90%|\u001b[34m█████████ \u001b[0m| 9/10 [00:19<00:02,  2.15s/it]\n",
      " 90%|\u001b[34m█████████ \u001b[0m| 9/10 [00:19<00:02,  2.16s/it]\n"
     ]
    },
    {
     "name": "stdout",
     "output_type": "stream",
     "text": [
      "\u001b[36m(DefaultActor pid=27999)\u001b[0m save graph in  results/FL/\n"
     ]
    },
    {
     "name": "stderr",
     "output_type": "stream",
     "text": [
      "100%|\u001b[34m██████████\u001b[0m| 10/10 [00:20<00:00,  2.10s/it]\n",
      "100%|\u001b[34m██████████\u001b[0m| 10/10 [00:21<00:00,  2.12s/it]\n",
      "100%|\u001b[34m██████████\u001b[0m| 10/10 [00:21<00:00,  2.14s/it]\n",
      "100%|\u001b[34m██████████\u001b[0m| 10/10 [00:21<00:00,  2.12s/it]\n",
      "100%|\u001b[34m██████████\u001b[0m| 10/10 [00:21<00:00,  2.14s/it]\n",
      "100%|\u001b[34m██████████\u001b[0m| 10/10 [00:21<00:00,  2.12s/it]\n",
      "100%|\u001b[34m██████████\u001b[0m| 10/10 [00:21<00:00,  2.14s/it]\n",
      "100%|\u001b[34m██████████\u001b[0m| 10/10 [00:21<00:00,  2.15s/it]\n",
      "100%|\u001b[34m██████████\u001b[0m| 10/10 [00:21<00:00,  2.15s/it]\n"
     ]
    },
    {
     "name": "stdout",
     "output_type": "stream",
     "text": [
      "\u001b[36m(DefaultActor pid=27997)\u001b[0m \tTrain Epoch: 10 \tTrain_loss_mri: 0.0632 | Train_acc_mri: 100.0000 | Train_loss_dna: 1.5523 | Train_acc_dna: 35.4167 | Validation_loss_mri: 0.9977 | Validation_acc_mri: 62.5000 | Validation_loss_dna: 1.9295 | Validation_acc_dna: 25.0000\u001b[32m [repeated 29x across cluster]\u001b[0m\n"
     ]
    },
    {
     "name": "stderr",
     "output_type": "stream",
     "text": [
      "100%|\u001b[34m██████████\u001b[0m| 10/10 [00:21<00:00,  2.16s/it]\n",
      "DEBUG flwr 2024-09-02 01:41:14,277 | server.py:236 | fit_round 10 received 10 results and 0 failures\n"
     ]
    },
    {
     "name": "stdout",
     "output_type": "stream",
     "text": [
      "Saving round 10 aggregated_parameters...\n",
      "Updated model\n"
     ]
    },
    {
     "name": "stderr",
     "output_type": "stream",
     "text": [
      "INFO flwr 2024-09-02 01:41:19,982 | server.py:125 | fit progress: (10, (1.307803907564708, 1.8365249804088049), {'accuracy': (66.51785714285714, 26.785714285714285)}, 310.30361575772986)\n",
      "DEBUG flwr 2024-09-02 01:41:19,983 | server.py:173 | evaluate_round 10: strategy sampled 10 clients (out of 10)\n"
     ]
    },
    {
     "name": "stdout",
     "output_type": "stream",
     "text": [
      "Server-side evaluation MRI loss 1.307803907564708 / MRI accuracy 66.51785714285714\n",
      "Server-side evaluation DNA loss 1.8365249804088049 / DNA accuracy 26.785714285714285\n",
      "\u001b[36m(DefaultActor pid=27997)\u001b[0m  To get the checkpoint\n",
      "\u001b[36m(DefaultActor pid=27997)\u001b[0m save graph in  results/FL/\u001b[32m [repeated 9x across cluster]\u001b[0m\n",
      "\u001b[36m(DefaultActor pid=27997)\u001b[0m [Client 3] evaluate, config: {}\n",
      "\u001b[36m(DefaultActor pid=27997)\u001b[0m Updated model\n"
     ]
    },
    {
     "name": "stderr",
     "output_type": "stream",
     "text": [
      "\u001b[36m(DefaultActor pid=27997)\u001b[0m /tmp/ipykernel_26738/752934157.py:10: FutureWarning: You are using `torch.load` with `weights_only=False` (the current default value), which uses the default pickle module implicitly. It is possible to construct malicious pickle data which will execute arbitrary code during unpickling (See https://github.com/pytorch/pytorch/blob/main/SECURITY.md#untrusted-models for more details). In a future release, the default value for `weights_only` will be flipped to `True`. This limits the functions that could be executed during unpickling. Arbitrary objects will no longer be allowed to be loaded via this mode unless they are explicitly allowlisted by the user via `torch.serialization.add_safe_globals`. We recommend you start setting `weights_only=True` for any use case where you don't have full control of the loaded file. Please open an issue on GitHub for any issues related to this experimental feature.\n",
      "\u001b[36m(DefaultActor pid=27997)\u001b[0m /home/cudaq/.local/lib/python3.10/site-packages/sklearn/metrics/_ranking.py:1183: UndefinedMetricWarning: No positive samples in y_true, true positive value should be meaningless\n",
      "\u001b[36m(DefaultActor pid=27997)\u001b[0m   warnings.warn(\n",
      "\u001b[36m(DefaultActor pid=27997)\u001b[0m /home/cudaq/.local/lib/python3.10/site-packages/sklearn/metrics/_ranking.py:1183: UndefinedMetricWarning: No positive samples in y_true, true positive value should be meaningless\n",
      "\u001b[36m(DefaultActor pid=27997)\u001b[0m   warnings.warn(\n",
      "DEBUG flwr 2024-09-02 01:41:21,266 | server.py:187 | evaluate_round 10 received 10 results and 0 failures\n",
      "DEBUG flwr 2024-09-02 01:41:21,267 | server.py:222 | fit_round 11: strategy sampled 10 clients (out of 10)\n",
      "\u001b[36m(DefaultActor pid=27999)\u001b[0m   return torch.load(io.BytesIO(b))\n",
      "  0%|\u001b[34m          \u001b[0m| 0/10 [00:00<?, ?it/s]\n"
     ]
    },
    {
     "name": "stdout",
     "output_type": "stream",
     "text": [
      "\u001b[36m(DefaultActor pid=27999)\u001b[0m [Client 9, round 11] fit, config: {'learning_rate': 0.003, 'batch_size': '32', 'server_round': 11, 'local_epochs': 10}\n",
      "\u001b[36m(DefaultActor pid=27999)\u001b[0m \tTrain Epoch: 1 \tTrain_loss_mri: 0.2252 | Train_acc_mri: 95.8333 | Train_loss_dna: 1.8396 | Train_acc_dna: 28.1250 | Validation_loss_mri: 0.1312 | Validation_acc_mri: 87.5000 | Validation_loss_dna: 1.6619 | Validation_acc_dna: 25.0000\n"
     ]
    },
    {
     "name": "stderr",
     "output_type": "stream",
     "text": [
      " 10%|\u001b[34m█         \u001b[0m| 1/10 [00:02<00:19,  2.18s/it]\n",
      " 10%|\u001b[34m█         \u001b[0m| 1/10 [00:02<00:19,  2.15s/it]\n",
      " 10%|\u001b[34m█         \u001b[0m| 1/10 [00:02<00:19,  2.17s/it]\n",
      " 10%|\u001b[34m█         \u001b[0m| 1/10 [00:02<00:19,  2.13s/it]\n",
      " 10%|\u001b[34m█         \u001b[0m| 1/10 [00:02<00:19,  2.17s/it]\n",
      " 10%|\u001b[34m█         \u001b[0m| 1/10 [00:02<00:19,  2.19s/it]\n",
      " 10%|\u001b[34m█         \u001b[0m| 1/10 [00:02<00:19,  2.19s/it]\n",
      " 10%|\u001b[34m█         \u001b[0m| 1/10 [00:02<00:19,  2.19s/it]\n",
      " 10%|\u001b[34m█         \u001b[0m| 1/10 [00:02<00:19,  2.18s/it]\n",
      " 10%|\u001b[34m█         \u001b[0m| 1/10 [00:02<00:19,  2.22s/it]\n"
     ]
    },
    {
     "name": "stdout",
     "output_type": "stream",
     "text": [
      "\u001b[36m(DefaultActor pid=27995)\u001b[0m  To get the checkpoint\u001b[32m [repeated 19x across cluster]\u001b[0m\n",
      "\u001b[36m(DefaultActor pid=27999)\u001b[0m [Client 2] evaluate, config: {}\u001b[32m [repeated 9x across cluster]\u001b[0m\n",
      "\u001b[36m(DefaultActor pid=27995)\u001b[0m Updated model\u001b[32m [repeated 19x across cluster]\u001b[0m\n"
     ]
    },
    {
     "name": "stderr",
     "output_type": "stream",
     "text": [
      " 20%|\u001b[34m██        \u001b[0m| 2/10 [00:04<00:17,  2.15s/it]\n",
      "\u001b[36m(DefaultActor pid=27995)\u001b[0m /tmp/ipykernel_26738/752934157.py:10: FutureWarning: You are using `torch.load` with `weights_only=False` (the current default value), which uses the default pickle module implicitly. It is possible to construct malicious pickle data which will execute arbitrary code during unpickling (See https://github.com/pytorch/pytorch/blob/main/SECURITY.md#untrusted-models for more details). In a future release, the default value for `weights_only` will be flipped to `True`. This limits the functions that could be executed during unpickling. Arbitrary objects will no longer be allowed to be loaded via this mode unless they are explicitly allowlisted by the user via `torch.serialization.add_safe_globals`. We recommend you start setting `weights_only=True` for any use case where you don't have full control of the loaded file. Please open an issue on GitHub for any issues related to this experimental feature.\u001b[32m [repeated 29x across cluster]\u001b[0m\n",
      " 20%|\u001b[34m██        \u001b[0m| 2/10 [00:04<00:17,  2.13s/it]\n",
      " 20%|\u001b[34m██        \u001b[0m| 2/10 [00:04<00:16,  2.11s/it]\n",
      "\u001b[36m(DefaultActor pid=27999)\u001b[0m /home/cudaq/.local/lib/python3.10/site-packages/sklearn/metrics/_ranking.py:1183: UndefinedMetricWarning: No positive samples in y_true, true positive value should be meaningless\u001b[32m [repeated 29x across cluster]\u001b[0m\n",
      "\u001b[36m(DefaultActor pid=27999)\u001b[0m   warnings.warn(\u001b[32m [repeated 29x across cluster]\u001b[0m\n",
      " 20%|\u001b[34m██        \u001b[0m| 2/10 [00:04<00:17,  2.14s/it]\n",
      " 20%|\u001b[34m██        \u001b[0m| 2/10 [00:04<00:17,  2.15s/it]\n",
      " 20%|\u001b[34m██        \u001b[0m| 2/10 [00:04<00:17,  2.14s/it]\n",
      " 20%|\u001b[34m██        \u001b[0m| 2/10 [00:04<00:17,  2.15s/it]\n",
      " 20%|\u001b[34m██        \u001b[0m| 2/10 [00:04<00:17,  2.16s/it]\n",
      " 20%|\u001b[34m██        \u001b[0m| 2/10 [00:04<00:17,  2.14s/it]\n",
      " 20%|\u001b[34m██        \u001b[0m| 2/10 [00:04<00:17,  2.15s/it]\n"
     ]
    },
    {
     "name": "stdout",
     "output_type": "stream",
     "text": [
      "\u001b[36m(DefaultActor pid=27995)\u001b[0m [Client 5, round 11] fit, config: {'learning_rate': 0.003, 'batch_size': '32', 'server_round': 11, 'local_epochs': 10}\u001b[32m [repeated 9x across cluster]\u001b[0m\n"
     ]
    },
    {
     "name": "stderr",
     "output_type": "stream",
     "text": [
      " 30%|\u001b[34m███       \u001b[0m| 3/10 [00:06<00:14,  2.09s/it]\n",
      "\u001b[36m(DefaultActor pid=27997)\u001b[0m   return torch.load(io.BytesIO(b))\u001b[32m [repeated 9x across cluster]\u001b[0m\n",
      "  0%|\u001b[34m          \u001b[0m| 0/10 [00:00<?, ?it/s]\u001b[32m [repeated 9x across cluster]\u001b[0m\n",
      " 30%|\u001b[34m███       \u001b[0m| 3/10 [00:06<00:14,  2.13s/it]\n",
      " 30%|\u001b[34m███       \u001b[0m| 3/10 [00:06<00:14,  2.12s/it]\n",
      " 30%|\u001b[34m███       \u001b[0m| 3/10 [00:06<00:14,  2.12s/it]\n",
      " 30%|\u001b[34m███       \u001b[0m| 3/10 [00:06<00:15,  2.14s/it]\n",
      " 30%|\u001b[34m███       \u001b[0m| 3/10 [00:06<00:14,  2.13s/it]\n",
      " 30%|\u001b[34m███       \u001b[0m| 3/10 [00:06<00:15,  2.25s/it]\n",
      " 30%|\u001b[34m███       \u001b[0m| 3/10 [00:06<00:15,  2.16s/it]\n",
      " 30%|\u001b[34m███       \u001b[0m| 3/10 [00:06<00:14,  2.13s/it]\n",
      " 30%|\u001b[34m███       \u001b[0m| 3/10 [00:06<00:15,  2.29s/it]\n"
     ]
    },
    {
     "name": "stdout",
     "output_type": "stream",
     "text": [
      "\u001b[36m(DefaultActor pid=27994)\u001b[0m \tTrain Epoch: 4 \tTrain_loss_mri: 0.1391 | Train_acc_mri: 97.9167 | Train_loss_dna: 1.6773 | Train_acc_dna: 39.5833 | Validation_loss_mri: 0.4541 | Validation_acc_mri: 87.5000 | Validation_loss_dna: 2.4430 | Validation_acc_dna: 12.5000\u001b[32m [repeated 30x across cluster]\u001b[0m\n"
     ]
    },
    {
     "name": "stderr",
     "output_type": "stream",
     "text": [
      " 40%|\u001b[34m████      \u001b[0m| 4/10 [00:08<00:12,  2.11s/it]\n",
      " 40%|\u001b[34m████      \u001b[0m| 4/10 [00:08<00:12,  2.13s/it]\n",
      " 40%|\u001b[34m████      \u001b[0m| 4/10 [00:08<00:12,  2.12s/it]\n",
      " 40%|\u001b[34m████      \u001b[0m| 4/10 [00:08<00:12,  2.11s/it]\n",
      " 40%|\u001b[34m████      \u001b[0m| 4/10 [00:08<00:12,  2.13s/it]\n",
      " 40%|\u001b[34m████      \u001b[0m| 4/10 [00:08<00:12,  2.13s/it]\n",
      " 40%|\u001b[34m████      \u001b[0m| 4/10 [00:08<00:13,  2.20s/it]\n",
      " 40%|\u001b[34m████      \u001b[0m| 4/10 [00:08<00:12,  2.15s/it]\n",
      " 40%|\u001b[34m████      \u001b[0m| 4/10 [00:08<00:12,  2.12s/it]\n",
      " 40%|\u001b[34m████      \u001b[0m| 4/10 [00:08<00:13,  2.22s/it]\n",
      " 50%|\u001b[34m█████     \u001b[0m| 5/10 [00:10<00:10,  2.09s/it]\n",
      " 50%|\u001b[34m█████     \u001b[0m| 5/10 [00:10<00:10,  2.13s/it]\n",
      " 50%|\u001b[34m█████     \u001b[0m| 5/10 [00:10<00:10,  2.10s/it]\n",
      " 50%|\u001b[34m█████     \u001b[0m| 5/10 [00:10<00:10,  2.11s/it]\n",
      " 50%|\u001b[34m█████     \u001b[0m| 5/10 [00:10<00:10,  2.13s/it]\n",
      " 50%|\u001b[34m█████     \u001b[0m| 5/10 [00:10<00:10,  2.13s/it]\n",
      " 50%|\u001b[34m█████     \u001b[0m| 5/10 [00:10<00:10,  2.17s/it]\n",
      " 50%|\u001b[34m█████     \u001b[0m| 5/10 [00:10<00:10,  2.15s/it]\n",
      " 50%|\u001b[34m█████     \u001b[0m| 5/10 [00:10<00:10,  2.12s/it]\n",
      " 50%|\u001b[34m█████     \u001b[0m| 5/10 [00:11<00:10,  2.20s/it]\n",
      " 60%|\u001b[34m██████    \u001b[0m| 6/10 [00:12<00:08,  2.10s/it]\n",
      " 60%|\u001b[34m██████    \u001b[0m| 6/10 [00:12<00:08,  2.09s/it]\n",
      " 60%|\u001b[34m██████    \u001b[0m| 6/10 [00:12<00:08,  2.11s/it]\n",
      " 60%|\u001b[34m██████    \u001b[0m| 6/10 [00:12<00:08,  2.13s/it]\n",
      " 60%|\u001b[34m██████    \u001b[0m| 6/10 [00:13<00:08,  2.16s/it]\n",
      " 60%|\u001b[34m██████    \u001b[0m| 6/10 [00:13<00:08,  2.22s/it]\n",
      " 60%|\u001b[34m██████    \u001b[0m| 6/10 [00:12<00:08,  2.13s/it]\n",
      " 60%|\u001b[34m██████    \u001b[0m| 6/10 [00:12<00:08,  2.12s/it]\n",
      " 60%|\u001b[34m██████    \u001b[0m| 6/10 [00:12<00:08,  2.15s/it]\n",
      " 60%|\u001b[34m██████    \u001b[0m| 6/10 [00:13<00:08,  2.17s/it]\n"
     ]
    },
    {
     "name": "stdout",
     "output_type": "stream",
     "text": [
      "\u001b[36m(DefaultActor pid=28002)\u001b[0m \tTrain Epoch: 7 \tTrain_loss_mri: 0.0723 | Train_acc_mri: 100.0000 | Train_loss_dna: 1.5949 | Train_acc_dna: 38.5417 | Validation_loss_mri: 0.9781 | Validation_acc_mri: 62.5000 | Validation_loss_dna: 1.9864 | Validation_acc_dna: 25.0000\u001b[32m [repeated 30x across cluster]\u001b[0m\n"
     ]
    },
    {
     "name": "stderr",
     "output_type": "stream",
     "text": [
      " 70%|\u001b[34m███████   \u001b[0m| 7/10 [00:15<00:06,  2.22s/it]\n",
      " 70%|\u001b[34m███████   \u001b[0m| 7/10 [00:15<00:06,  2.23s/it]\n",
      " 70%|\u001b[34m███████   \u001b[0m| 7/10 [00:15<00:06,  2.30s/it]\n",
      " 70%|\u001b[34m███████   \u001b[0m| 7/10 [00:15<00:07,  2.40s/it]\n",
      " 70%|\u001b[34m███████   \u001b[0m| 7/10 [00:15<00:07,  2.45s/it]\n",
      " 70%|\u001b[34m███████   \u001b[0m| 7/10 [00:15<00:07,  2.41s/it]\n",
      " 70%|\u001b[34m███████   \u001b[0m| 7/10 [00:15<00:07,  2.41s/it]\n",
      " 70%|\u001b[34m███████   \u001b[0m| 7/10 [00:15<00:07,  2.45s/it]\n",
      " 70%|\u001b[34m███████   \u001b[0m| 7/10 [00:16<00:07,  2.48s/it]\n",
      " 70%|\u001b[34m███████   \u001b[0m| 7/10 [00:16<00:07,  2.61s/it]\n",
      " 80%|\u001b[34m████████  \u001b[0m| 8/10 [00:19<00:05,  2.84s/it]\n",
      " 80%|\u001b[34m████████  \u001b[0m| 8/10 [00:19<00:05,  2.85s/it]\n",
      " 80%|\u001b[34m████████  \u001b[0m| 8/10 [00:19<00:05,  2.85s/it]\n",
      " 80%|\u001b[34m████████  \u001b[0m| 8/10 [00:19<00:05,  2.87s/it]\n",
      " 80%|\u001b[34m████████  \u001b[0m| 8/10 [00:19<00:05,  2.85s/it]\n",
      " 80%|\u001b[34m████████  \u001b[0m| 8/10 [00:19<00:05,  2.83s/it]\n",
      " 80%|\u001b[34m████████  \u001b[0m| 8/10 [00:19<00:05,  2.85s/it]\n",
      " 80%|\u001b[34m████████  \u001b[0m| 8/10 [00:19<00:05,  2.81s/it]\n",
      " 80%|\u001b[34m████████  \u001b[0m| 8/10 [00:19<00:05,  2.82s/it]\n"
     ]
    },
    {
     "name": "stdout",
     "output_type": "stream",
     "text": [
      "\u001b[36m(DefaultActor pid=27997)\u001b[0m \tTrain Epoch: 8 \tTrain_loss_mri: 0.1065 | Train_acc_mri: 96.8750 | Train_loss_dna: 1.7006 | Train_acc_dna: 31.2500 | Validation_loss_mri: 0.9733 | Validation_acc_mri: 75.0000 | Validation_loss_dna: 1.8460 | Validation_acc_dna: 12.5000\u001b[32m [repeated 19x across cluster]\u001b[0m\n"
     ]
    },
    {
     "name": "stderr",
     "output_type": "stream",
     "text": [
      " 80%|\u001b[34m████████  \u001b[0m| 8/10 [00:19<00:05,  2.83s/it]\n",
      " 90%|\u001b[34m█████████ \u001b[0m| 9/10 [00:21<00:02,  2.63s/it]\n",
      " 90%|\u001b[34m█████████ \u001b[0m| 9/10 [00:21<00:02,  2.64s/it]\n",
      " 90%|\u001b[34m█████████ \u001b[0m| 9/10 [00:21<00:02,  2.72s/it]\n",
      " 90%|\u001b[34m█████████ \u001b[0m| 9/10 [00:21<00:02,  2.64s/it]\n",
      " 90%|\u001b[34m█████████ \u001b[0m| 9/10 [00:21<00:02,  2.64s/it]\n",
      " 90%|\u001b[34m█████████ \u001b[0m| 9/10 [00:21<00:02,  2.62s/it]\n",
      " 90%|\u001b[34m█████████ \u001b[0m| 9/10 [00:21<00:02,  2.64s/it]\n",
      " 90%|\u001b[34m█████████ \u001b[0m| 9/10 [00:21<00:02,  2.61s/it]\n",
      " 90%|\u001b[34m█████████ \u001b[0m| 9/10 [00:21<00:02,  2.63s/it]\n",
      " 90%|\u001b[34m█████████ \u001b[0m| 9/10 [00:22<00:02,  2.63s/it]\n"
     ]
    },
    {
     "name": "stdout",
     "output_type": "stream",
     "text": [
      "\u001b[36m(DefaultActor pid=27994)\u001b[0m save graph in  results/FL/\n"
     ]
    },
    {
     "name": "stderr",
     "output_type": "stream",
     "text": [
      "100%|\u001b[34m██████████\u001b[0m| 10/10 [00:23<00:00,  2.36s/it]\n",
      "100%|\u001b[34m██████████\u001b[0m| 10/10 [00:23<00:00,  2.39s/it]\n",
      "100%|\u001b[34m██████████\u001b[0m| 10/10 [00:24<00:00,  2.41s/it]\n",
      "100%|\u001b[34m██████████\u001b[0m| 10/10 [00:24<00:00,  2.41s/it]\n",
      "100%|\u001b[34m██████████\u001b[0m| 10/10 [00:23<00:00,  2.40s/it]\n",
      "100%|\u001b[34m██████████\u001b[0m| 10/10 [00:24<00:00,  2.40s/it]\n",
      "100%|\u001b[34m██████████\u001b[0m| 10/10 [00:23<00:00,  2.39s/it]\n",
      "100%|\u001b[34m██████████\u001b[0m| 10/10 [00:23<00:00,  2.39s/it]\n",
      "100%|\u001b[34m██████████\u001b[0m| 10/10 [00:23<00:00,  2.39s/it]\n",
      "100%|\u001b[34m██████████\u001b[0m| 10/10 [00:24<00:00,  2.43s/it]\n",
      "DEBUG flwr 2024-09-02 01:41:46,401 | server.py:236 | fit_round 11 received 10 results and 0 failures\n"
     ]
    },
    {
     "name": "stdout",
     "output_type": "stream",
     "text": [
      "Saving round 11 aggregated_parameters...\n",
      "Updated model\n"
     ]
    },
    {
     "name": "stderr",
     "output_type": "stream",
     "text": [
      "INFO flwr 2024-09-02 01:41:51,990 | server.py:125 | fit progress: (11, (1.3570026414734977, 1.8378596305847168), {'accuracy': (66.96428571428571, 26.785714285714285)}, 342.3114335448481)\n",
      "DEBUG flwr 2024-09-02 01:41:51,992 | server.py:173 | evaluate_round 11: strategy sampled 10 clients (out of 10)\n"
     ]
    },
    {
     "name": "stdout",
     "output_type": "stream",
     "text": [
      "Server-side evaluation MRI loss 1.3570026414734977 / MRI accuracy 66.96428571428571\n",
      "Server-side evaluation DNA loss 1.8378596305847168 / DNA accuracy 26.785714285714285\n",
      "\u001b[36m(DefaultActor pid=27995)\u001b[0m  To get the checkpoint\n",
      "\u001b[36m(DefaultActor pid=27995)\u001b[0m [Client 9] evaluate, config: {}\n",
      "\u001b[36m(DefaultActor pid=27995)\u001b[0m Updated model\n",
      "\u001b[36m(DefaultActor pid=27997)\u001b[0m \tTrain Epoch: 10 \tTrain_loss_mri: 0.0551 | Train_acc_mri: 98.9583 | Train_loss_dna: 1.6628 | Train_acc_dna: 27.0833 | Validation_loss_mri: 0.4211 | Validation_acc_mri: 75.0000 | Validation_loss_dna: 1.8739 | Validation_acc_dna: 0.0000\u001b[32m [repeated 20x across cluster]\u001b[0m\n",
      "\u001b[36m(DefaultActor pid=27997)\u001b[0m save graph in  results/FL/\u001b[32m [repeated 9x across cluster]\u001b[0m\n"
     ]
    },
    {
     "name": "stderr",
     "output_type": "stream",
     "text": [
      "\u001b[36m(DefaultActor pid=27995)\u001b[0m /tmp/ipykernel_26738/752934157.py:10: FutureWarning: You are using `torch.load` with `weights_only=False` (the current default value), which uses the default pickle module implicitly. It is possible to construct malicious pickle data which will execute arbitrary code during unpickling (See https://github.com/pytorch/pytorch/blob/main/SECURITY.md#untrusted-models for more details). In a future release, the default value for `weights_only` will be flipped to `True`. This limits the functions that could be executed during unpickling. Arbitrary objects will no longer be allowed to be loaded via this mode unless they are explicitly allowlisted by the user via `torch.serialization.add_safe_globals`. We recommend you start setting `weights_only=True` for any use case where you don't have full control of the loaded file. Please open an issue on GitHub for any issues related to this experimental feature.\n",
      "\u001b[36m(DefaultActor pid=27995)\u001b[0m /home/cudaq/.local/lib/python3.10/site-packages/sklearn/metrics/_ranking.py:1183: UndefinedMetricWarning: No positive samples in y_true, true positive value should be meaningless\n",
      "\u001b[36m(DefaultActor pid=27995)\u001b[0m   warnings.warn(\n",
      "DEBUG flwr 2024-09-02 01:41:53,464 | server.py:187 | evaluate_round 11 received 10 results and 0 failures\n",
      "DEBUG flwr 2024-09-02 01:41:53,465 | server.py:222 | fit_round 12: strategy sampled 10 clients (out of 10)\n",
      "\u001b[36m(DefaultActor pid=27996)\u001b[0m   return torch.load(io.BytesIO(b))\n",
      "  0%|\u001b[34m          \u001b[0m| 0/10 [00:00<?, ?it/s]\n"
     ]
    },
    {
     "name": "stdout",
     "output_type": "stream",
     "text": [
      "\u001b[36m(DefaultActor pid=27996)\u001b[0m [Client 3, round 12] fit, config: {'learning_rate': 0.003, 'batch_size': '32', 'server_round': 12, 'local_epochs': 10}\n"
     ]
    },
    {
     "name": "stderr",
     "output_type": "stream",
     "text": [
      " 10%|\u001b[34m█         \u001b[0m| 1/10 [00:02<00:19,  2.18s/it]\n",
      " 10%|\u001b[34m█         \u001b[0m| 1/10 [00:02<00:19,  2.21s/it]\n",
      " 10%|\u001b[34m█         \u001b[0m| 1/10 [00:02<00:19,  2.21s/it]\n",
      " 10%|\u001b[34m█         \u001b[0m| 1/10 [00:02<00:19,  2.18s/it]\n",
      " 10%|\u001b[34m█         \u001b[0m| 1/10 [00:02<00:19,  2.17s/it]\n",
      " 10%|\u001b[34m█         \u001b[0m| 1/10 [00:02<00:19,  2.20s/it]\n",
      " 10%|\u001b[34m█         \u001b[0m| 1/10 [00:02<00:20,  2.28s/it]\n",
      " 10%|\u001b[34m█         \u001b[0m| 1/10 [00:02<00:20,  2.25s/it]\n",
      " 10%|\u001b[34m█         \u001b[0m| 1/10 [00:02<00:20,  2.25s/it]\n",
      " 10%|\u001b[34m█         \u001b[0m| 1/10 [00:02<00:19,  2.18s/it]\n"
     ]
    },
    {
     "name": "stdout",
     "output_type": "stream",
     "text": [
      "\u001b[36m(DefaultActor pid=27997)\u001b[0m  To get the checkpoint\u001b[32m [repeated 19x across cluster]\u001b[0m\n",
      "\u001b[36m(DefaultActor pid=28000)\u001b[0m [Client 8] evaluate, config: {}\u001b[32m [repeated 9x across cluster]\u001b[0m\n",
      "\u001b[36m(DefaultActor pid=27997)\u001b[0m Updated model\u001b[32m [repeated 19x across cluster]\u001b[0m\n",
      "\u001b[36m(DefaultActor pid=27996)\u001b[0m \tTrain Epoch: 2 \tTrain_loss_mri: 0.5110 | Train_acc_mri: 88.5417 | Train_loss_dna: 1.5628 | Train_acc_dna: 42.7083 | Validation_loss_mri: 0.1099 | Validation_acc_mri: 100.0000 | Validation_loss_dna: 2.2864 | Validation_acc_dna: 25.0000\u001b[32m [repeated 11x across cluster]\u001b[0m\n"
     ]
    },
    {
     "name": "stderr",
     "output_type": "stream",
     "text": [
      " 20%|\u001b[34m██        \u001b[0m| 2/10 [00:04<00:17,  2.14s/it]\n",
      "\u001b[36m(DefaultActor pid=27997)\u001b[0m /tmp/ipykernel_26738/752934157.py:10: FutureWarning: You are using `torch.load` with `weights_only=False` (the current default value), which uses the default pickle module implicitly. It is possible to construct malicious pickle data which will execute arbitrary code during unpickling (See https://github.com/pytorch/pytorch/blob/main/SECURITY.md#untrusted-models for more details). In a future release, the default value for `weights_only` will be flipped to `True`. This limits the functions that could be executed during unpickling. Arbitrary objects will no longer be allowed to be loaded via this mode unless they are explicitly allowlisted by the user via `torch.serialization.add_safe_globals`. We recommend you start setting `weights_only=True` for any use case where you don't have full control of the loaded file. Please open an issue on GitHub for any issues related to this experimental feature.\u001b[32m [repeated 29x across cluster]\u001b[0m\n",
      "\u001b[36m(DefaultActor pid=27996)\u001b[0m /home/cudaq/.local/lib/python3.10/site-packages/sklearn/metrics/_ranking.py:1183: UndefinedMetricWarning: No positive samples in y_true, true positive value should be meaningless\u001b[32m [repeated 30x across cluster]\u001b[0m\n",
      "\u001b[36m(DefaultActor pid=27996)\u001b[0m   warnings.warn(\u001b[32m [repeated 30x across cluster]\u001b[0m\n",
      " 20%|\u001b[34m██        \u001b[0m| 2/10 [00:04<00:17,  2.14s/it]\n",
      " 20%|\u001b[34m██        \u001b[0m| 2/10 [00:04<00:16,  2.11s/it]\n",
      " 20%|\u001b[34m██        \u001b[0m| 2/10 [00:04<00:17,  2.14s/it]\n",
      " 20%|\u001b[34m██        \u001b[0m| 2/10 [00:04<00:17,  2.14s/it]\n",
      " 20%|\u001b[34m██        \u001b[0m| 2/10 [00:04<00:17,  2.14s/it]\n",
      " 20%|\u001b[34m██        \u001b[0m| 2/10 [00:04<00:17,  2.18s/it]\n",
      " 20%|\u001b[34m██        \u001b[0m| 2/10 [00:04<00:17,  2.24s/it]\n",
      " 20%|\u001b[34m██        \u001b[0m| 2/10 [00:04<00:17,  2.22s/it]\n",
      " 20%|\u001b[34m██        \u001b[0m| 2/10 [00:04<00:17,  2.18s/it]\n"
     ]
    },
    {
     "name": "stdout",
     "output_type": "stream",
     "text": [
      "\u001b[36m(DefaultActor pid=27997)\u001b[0m [Client 8, round 12] fit, config: {'learning_rate': 0.003, 'batch_size': '32', 'server_round': 12, 'local_epochs': 10}\u001b[32m [repeated 9x across cluster]\u001b[0m\n"
     ]
    },
    {
     "name": "stderr",
     "output_type": "stream",
     "text": [
      " 30%|\u001b[34m███       \u001b[0m| 3/10 [00:06<00:14,  2.12s/it]\n",
      "\u001b[36m(DefaultActor pid=27997)\u001b[0m   return torch.load(io.BytesIO(b))\u001b[32m [repeated 9x across cluster]\u001b[0m\n",
      "  0%|\u001b[34m          \u001b[0m| 0/10 [00:00<?, ?it/s]\u001b[32m [repeated 9x across cluster]\u001b[0m\n",
      " 30%|\u001b[34m███       \u001b[0m| 3/10 [00:06<00:15,  2.15s/it]\n",
      " 30%|\u001b[34m███       \u001b[0m| 3/10 [00:06<00:14,  2.14s/it]\n",
      " 30%|\u001b[34m███       \u001b[0m| 3/10 [00:06<00:15,  2.16s/it]\n",
      " 30%|\u001b[34m███       \u001b[0m| 3/10 [00:06<00:14,  2.14s/it]\n",
      " 30%|\u001b[34m███       \u001b[0m| 3/10 [00:06<00:15,  2.15s/it]\n",
      " 30%|\u001b[34m███       \u001b[0m| 3/10 [00:06<00:15,  2.16s/it]\n",
      " 30%|\u001b[34m███       \u001b[0m| 3/10 [00:06<00:15,  2.20s/it]\n",
      " 30%|\u001b[34m███       \u001b[0m| 3/10 [00:06<00:15,  2.19s/it]\n",
      " 30%|\u001b[34m███       \u001b[0m| 3/10 [00:06<00:15,  2.23s/it]\n",
      " 40%|\u001b[34m████      \u001b[0m| 4/10 [00:08<00:12,  2.13s/it]\n",
      " 40%|\u001b[34m████      \u001b[0m| 4/10 [00:08<00:12,  2.11s/it]\n",
      " 40%|\u001b[34m████      \u001b[0m| 4/10 [00:08<00:12,  2.13s/it]\n",
      " 40%|\u001b[34m████      \u001b[0m| 4/10 [00:08<00:12,  2.14s/it]\n",
      " 40%|\u001b[34m████      \u001b[0m| 4/10 [00:08<00:12,  2.13s/it]\n",
      " 40%|\u001b[34m████      \u001b[0m| 4/10 [00:08<00:12,  2.13s/it]\n",
      " 40%|\u001b[34m████      \u001b[0m| 4/10 [00:08<00:12,  2.15s/it]\n",
      " 40%|\u001b[34m████      \u001b[0m| 4/10 [00:08<00:13,  2.17s/it]\n",
      " 40%|\u001b[34m████      \u001b[0m| 4/10 [00:08<00:13,  2.17s/it]\n",
      " 40%|\u001b[34m████      \u001b[0m| 4/10 [00:08<00:13,  2.22s/it]\n"
     ]
    },
    {
     "name": "stdout",
     "output_type": "stream",
     "text": [
      "\u001b[36m(DefaultActor pid=27996)\u001b[0m \tTrain Epoch: 5 \tTrain_loss_mri: 0.1115 | Train_acc_mri: 98.9583 | Train_loss_dna: 1.5784 | Train_acc_dna: 34.3750 | Validation_loss_mri: 0.0804 | Validation_acc_mri: 100.0000 | Validation_loss_dna: 2.4918 | Validation_acc_dna: 25.0000\u001b[32m [repeated 30x across cluster]\u001b[0m\n"
     ]
    },
    {
     "name": "stderr",
     "output_type": "stream",
     "text": [
      " 50%|\u001b[34m█████     \u001b[0m| 5/10 [00:10<00:10,  2.13s/it]\n",
      " 50%|\u001b[34m█████     \u001b[0m| 5/10 [00:10<00:10,  2.10s/it]\n",
      " 50%|\u001b[34m█████     \u001b[0m| 5/10 [00:10<00:10,  2.12s/it]\n",
      " 50%|\u001b[34m█████     \u001b[0m| 5/10 [00:10<00:10,  2.14s/it]\n",
      " 50%|\u001b[34m█████     \u001b[0m| 5/10 [00:10<00:10,  2.12s/it]\n",
      " 50%|\u001b[34m█████     \u001b[0m| 5/10 [00:10<00:10,  2.12s/it]\n",
      " 50%|\u001b[34m█████     \u001b[0m| 5/10 [00:10<00:10,  2.15s/it]\n",
      " 50%|\u001b[34m█████     \u001b[0m| 5/10 [00:10<00:10,  2.15s/it]\n",
      " 50%|\u001b[34m█████     \u001b[0m| 5/10 [00:10<00:10,  2.16s/it]\n",
      " 50%|\u001b[34m█████     \u001b[0m| 5/10 [00:11<00:11,  2.23s/it]\n",
      " 60%|\u001b[34m██████    \u001b[0m| 6/10 [00:12<00:08,  2.11s/it]\n",
      " 60%|\u001b[34m██████    \u001b[0m| 6/10 [00:12<00:08,  2.11s/it]\n",
      " 60%|\u001b[34m██████    \u001b[0m| 6/10 [00:12<00:08,  2.13s/it]\n",
      " 60%|\u001b[34m██████    \u001b[0m| 6/10 [00:12<00:08,  2.12s/it]\n",
      " 60%|\u001b[34m██████    \u001b[0m| 6/10 [00:12<00:08,  2.13s/it]\n",
      " 60%|\u001b[34m██████    \u001b[0m| 6/10 [00:12<00:08,  2.11s/it]\n",
      " 60%|\u001b[34m██████    \u001b[0m| 6/10 [00:12<00:08,  2.14s/it]\n",
      " 60%|\u001b[34m██████    \u001b[0m| 6/10 [00:12<00:08,  2.14s/it]\n",
      " 60%|\u001b[34m██████    \u001b[0m| 6/10 [00:12<00:08,  2.14s/it]\n",
      " 60%|\u001b[34m██████    \u001b[0m| 6/10 [00:13<00:08,  2.23s/it]\n",
      " 70%|\u001b[34m███████   \u001b[0m| 7/10 [00:14<00:06,  2.10s/it]\n",
      " 70%|\u001b[34m███████   \u001b[0m| 7/10 [00:14<00:06,  2.12s/it]\n",
      " 70%|\u001b[34m███████   \u001b[0m| 7/10 [00:14<00:06,  2.10s/it]\n",
      " 70%|\u001b[34m███████   \u001b[0m| 7/10 [00:14<00:06,  2.10s/it]\n",
      " 70%|\u001b[34m███████   \u001b[0m| 7/10 [00:14<00:06,  2.10s/it]\n",
      " 70%|\u001b[34m███████   \u001b[0m| 7/10 [00:14<00:06,  2.13s/it]\n",
      " 70%|\u001b[34m███████   \u001b[0m| 7/10 [00:15<00:06,  2.14s/it]\n",
      " 70%|\u001b[34m███████   \u001b[0m| 7/10 [00:15<00:06,  2.13s/it]\n",
      " 70%|\u001b[34m███████   \u001b[0m| 7/10 [00:15<00:06,  2.16s/it]\n"
     ]
    },
    {
     "name": "stdout",
     "output_type": "stream",
     "text": [
      "\u001b[36m(DefaultActor pid=27995)\u001b[0m \tTrain Epoch: 7 \tTrain_loss_mri: 0.2036 | Train_acc_mri: 92.7083 | Train_loss_dna: 1.4241 | Train_acc_dna: 44.7917 | Validation_loss_mri: 2.3526 | Validation_acc_mri: 37.5000 | Validation_loss_dna: 1.8629 | Validation_acc_dna: 50.0000\u001b[32m [repeated 29x across cluster]\u001b[0m\n"
     ]
    },
    {
     "name": "stderr",
     "output_type": "stream",
     "text": [
      " 70%|\u001b[34m███████   \u001b[0m| 7/10 [00:15<00:06,  2.25s/it]\n",
      " 80%|\u001b[34m████████  \u001b[0m| 8/10 [00:16<00:04,  2.12s/it]\n",
      " 80%|\u001b[34m████████  \u001b[0m| 8/10 [00:17<00:04,  2.14s/it]\n",
      " 80%|\u001b[34m████████  \u001b[0m| 8/10 [00:16<00:04,  2.12s/it]\n",
      " 80%|\u001b[34m████████  \u001b[0m| 8/10 [00:17<00:04,  2.11s/it]\n",
      " 80%|\u001b[34m████████  \u001b[0m| 8/10 [00:16<00:04,  2.12s/it]\n",
      " 80%|\u001b[34m████████  \u001b[0m| 8/10 [00:17<00:04,  2.14s/it]\n",
      " 80%|\u001b[34m████████  \u001b[0m| 8/10 [00:17<00:04,  2.13s/it]\n",
      " 80%|\u001b[34m████████  \u001b[0m| 8/10 [00:17<00:04,  2.17s/it]\n",
      " 80%|\u001b[34m████████  \u001b[0m| 8/10 [00:17<00:04,  2.15s/it]\n",
      " 80%|\u001b[34m████████  \u001b[0m| 8/10 [00:17<00:04,  2.25s/it]\n",
      " 90%|\u001b[34m█████████ \u001b[0m| 9/10 [00:19<00:02,  2.12s/it]\n",
      " 90%|\u001b[34m█████████ \u001b[0m| 9/10 [00:19<00:02,  2.11s/it]\n",
      " 90%|\u001b[34m█████████ \u001b[0m| 9/10 [00:19<00:02,  2.12s/it]\n",
      " 90%|\u001b[34m█████████ \u001b[0m| 9/10 [00:19<00:02,  2.13s/it]\n",
      " 90%|\u001b[34m█████████ \u001b[0m| 9/10 [00:19<00:02,  2.12s/it]\n",
      " 90%|\u001b[34m█████████ \u001b[0m| 9/10 [00:19<00:02,  2.11s/it]\n",
      " 90%|\u001b[34m█████████ \u001b[0m| 9/10 [00:19<00:02,  2.15s/it]\n",
      " 90%|\u001b[34m█████████ \u001b[0m| 9/10 [00:19<00:02,  2.12s/it]\n",
      " 90%|\u001b[34m█████████ \u001b[0m| 9/10 [00:19<00:02,  2.14s/it]\n",
      " 90%|\u001b[34m█████████ \u001b[0m| 9/10 [00:20<00:02,  2.25s/it]\n"
     ]
    },
    {
     "name": "stdout",
     "output_type": "stream",
     "text": [
      "\u001b[36m(DefaultActor pid=28002)\u001b[0m save graph in  results/FL/\n",
      "\u001b[36m(DefaultActor pid=28002)\u001b[0m \tTrain Epoch: 10 \tTrain_loss_mri: 0.0486 | Train_acc_mri: 100.0000 | Train_loss_dna: 1.4641 | Train_acc_dna: 41.6667 | Validation_loss_mri: 3.6757 | Validation_acc_mri: 25.0000 | Validation_loss_dna: 1.8770 | Validation_acc_dna: 12.5000\u001b[32m [repeated 21x across cluster]\u001b[0m\n"
     ]
    },
    {
     "name": "stderr",
     "output_type": "stream",
     "text": [
      "100%|\u001b[34m██████████\u001b[0m| 10/10 [00:21<00:00,  2.12s/it]\n",
      "100%|\u001b[34m██████████\u001b[0m| 10/10 [00:21<00:00,  2.12s/it]\n",
      "100%|\u001b[34m██████████\u001b[0m| 10/10 [00:21<00:00,  2.13s/it]\n",
      "100%|\u001b[34m██████████\u001b[0m| 10/10 [00:21<00:00,  2.14s/it]\n",
      "100%|\u001b[34m██████████\u001b[0m| 10/10 [00:21<00:00,  2.12s/it]\n",
      "100%|\u001b[34m██████████\u001b[0m| 10/10 [00:21<00:00,  2.13s/it]\n",
      "100%|\u001b[34m██████████\u001b[0m| 10/10 [00:21<00:00,  2.15s/it]\n",
      "100%|\u001b[34m██████████\u001b[0m| 10/10 [00:21<00:00,  2.15s/it]\n",
      "100%|\u001b[34m██████████\u001b[0m| 10/10 [00:21<00:00,  2.15s/it]\n",
      "100%|\u001b[34m██████████\u001b[0m| 10/10 [00:22<00:00,  2.22s/it]\n",
      "DEBUG flwr 2024-09-02 01:42:16,546 | server.py:236 | fit_round 12 received 10 results and 0 failures\n"
     ]
    },
    {
     "name": "stdout",
     "output_type": "stream",
     "text": [
      "Saving round 12 aggregated_parameters...\n",
      "Updated model\n"
     ]
    },
    {
     "name": "stderr",
     "output_type": "stream",
     "text": [
      "INFO flwr 2024-09-02 01:42:22,173 | server.py:125 | fit progress: (12, (1.4191398578030723, 1.8554300921303886), {'accuracy': (66.96428571428571, 23.660714285714285)}, 372.49534175079316)\n",
      "DEBUG flwr 2024-09-02 01:42:22,175 | server.py:173 | evaluate_round 12: strategy sampled 10 clients (out of 10)\n"
     ]
    },
    {
     "name": "stdout",
     "output_type": "stream",
     "text": [
      "Server-side evaluation MRI loss 1.4191398578030723 / MRI accuracy 66.96428571428571\n",
      "Server-side evaluation DNA loss 1.8554300921303886 / DNA accuracy 23.660714285714285\n",
      "\u001b[36m(DefaultActor pid=27993)\u001b[0m  To get the checkpoint\n",
      "\u001b[36m(DefaultActor pid=27995)\u001b[0m save graph in  results/FL/\u001b[32m [repeated 9x across cluster]\u001b[0m\n",
      "\u001b[36m(DefaultActor pid=27995)\u001b[0m \tTrain Epoch: 10 \tTrain_loss_mri: 0.0260 | Train_acc_mri: 100.0000 | Train_loss_dna: 1.4536 | Train_acc_dna: 42.7083 | Validation_loss_mri: 2.4752 | Validation_acc_mri: 50.0000 | Validation_loss_dna: 1.9316 | Validation_acc_dna: 50.0000\u001b[32m [repeated 9x across cluster]\u001b[0m\n",
      "\u001b[36m(DefaultActor pid=27995)\u001b[0m [Client 1] evaluate, config: {}\n",
      "\u001b[36m(DefaultActor pid=27995)\u001b[0m Updated model\n"
     ]
    },
    {
     "name": "stderr",
     "output_type": "stream",
     "text": [
      "\u001b[36m(DefaultActor pid=27993)\u001b[0m /tmp/ipykernel_26738/752934157.py:10: FutureWarning: You are using `torch.load` with `weights_only=False` (the current default value), which uses the default pickle module implicitly. It is possible to construct malicious pickle data which will execute arbitrary code during unpickling (See https://github.com/pytorch/pytorch/blob/main/SECURITY.md#untrusted-models for more details). In a future release, the default value for `weights_only` will be flipped to `True`. This limits the functions that could be executed during unpickling. Arbitrary objects will no longer be allowed to be loaded via this mode unless they are explicitly allowlisted by the user via `torch.serialization.add_safe_globals`. We recommend you start setting `weights_only=True` for any use case where you don't have full control of the loaded file. Please open an issue on GitHub for any issues related to this experimental feature.\n",
      "\u001b[36m(DefaultActor pid=27993)\u001b[0m /home/cudaq/.local/lib/python3.10/site-packages/sklearn/metrics/_ranking.py:1183: UndefinedMetricWarning: No positive samples in y_true, true positive value should be meaningless\n",
      "\u001b[36m(DefaultActor pid=27993)\u001b[0m   warnings.warn(\n",
      "\u001b[36m(DefaultActor pid=27993)\u001b[0m /home/cudaq/.local/lib/python3.10/site-packages/sklearn/metrics/_ranking.py:1183: UndefinedMetricWarning: No positive samples in y_true, true positive value should be meaningless\n",
      "\u001b[36m(DefaultActor pid=27993)\u001b[0m   warnings.warn(\n",
      "\u001b[36m(DefaultActor pid=27993)\u001b[0m /home/cudaq/.local/lib/python3.10/site-packages/sklearn/metrics/_ranking.py:1183: UndefinedMetricWarning: No positive samples in y_true, true positive value should be meaningless\n",
      "\u001b[36m(DefaultActor pid=27993)\u001b[0m   warnings.warn(\n",
      "\u001b[36m(DefaultActor pid=27993)\u001b[0m /home/cudaq/.local/lib/python3.10/site-packages/sklearn/metrics/_ranking.py:1183: UndefinedMetricWarning: No positive samples in y_true, true positive value should be meaningless\n",
      "\u001b[36m(DefaultActor pid=27993)\u001b[0m   warnings.warn(\n",
      "DEBUG flwr 2024-09-02 01:42:23,398 | server.py:187 | evaluate_round 12 received 10 results and 0 failures\n",
      "DEBUG flwr 2024-09-02 01:42:23,398 | server.py:222 | fit_round 13: strategy sampled 10 clients (out of 10)\n",
      "\u001b[36m(DefaultActor pid=28002)\u001b[0m   return torch.load(io.BytesIO(b))\n",
      "  0%|\u001b[34m          \u001b[0m| 0/10 [00:00<?, ?it/s]\n"
     ]
    },
    {
     "name": "stdout",
     "output_type": "stream",
     "text": [
      "\u001b[36m(DefaultActor pid=28002)\u001b[0m [Client 4, round 13] fit, config: {'learning_rate': 0.003, 'batch_size': '32', 'server_round': 13, 'local_epochs': 10}\n"
     ]
    },
    {
     "name": "stderr",
     "output_type": "stream",
     "text": [
      " 10%|\u001b[34m█         \u001b[0m| 1/10 [00:02<00:19,  2.13s/it]\n",
      " 10%|\u001b[34m█         \u001b[0m| 1/10 [00:02<00:19,  2.15s/it]\n",
      " 10%|\u001b[34m█         \u001b[0m| 1/10 [00:02<00:19,  2.17s/it]\n",
      " 10%|\u001b[34m█         \u001b[0m| 1/10 [00:02<00:19,  2.15s/it]\n",
      " 10%|\u001b[34m█         \u001b[0m| 1/10 [00:02<00:19,  2.12s/it]\n",
      " 10%|\u001b[34m█         \u001b[0m| 1/10 [00:02<00:19,  2.14s/it]\n",
      " 10%|\u001b[34m█         \u001b[0m| 1/10 [00:02<00:19,  2.13s/it]\n",
      " 10%|\u001b[34m█         \u001b[0m| 1/10 [00:02<00:19,  2.17s/it]\n",
      " 10%|\u001b[34m█         \u001b[0m| 1/10 [00:02<00:19,  2.17s/it]\n",
      " 10%|\u001b[34m█         \u001b[0m| 1/10 [00:02<00:19,  2.18s/it]\n"
     ]
    },
    {
     "name": "stdout",
     "output_type": "stream",
     "text": [
      "\u001b[36m(DefaultActor pid=27997)\u001b[0m  To get the checkpoint\u001b[32m [repeated 19x across cluster]\u001b[0m\n",
      "\u001b[36m(DefaultActor pid=28002)\u001b[0m \tTrain Epoch: 2 \tTrain_loss_mri: 0.1311 | Train_acc_mri: 94.7917 | Train_loss_dna: 1.7438 | Train_acc_dna: 29.1667 | Validation_loss_mri: 0.3972 | Validation_acc_mri: 75.0000 | Validation_loss_dna: 1.9525 | Validation_acc_dna: 0.0000\u001b[32m [repeated 11x across cluster]\u001b[0m\n",
      "\u001b[36m(DefaultActor pid=28000)\u001b[0m [Client 9] evaluate, config: {}\u001b[32m [repeated 9x across cluster]\u001b[0m\n",
      "\u001b[36m(DefaultActor pid=27997)\u001b[0m Updated model\u001b[32m [repeated 19x across cluster]\u001b[0m\n"
     ]
    },
    {
     "name": "stderr",
     "output_type": "stream",
     "text": [
      " 20%|\u001b[34m██        \u001b[0m| 2/10 [00:04<00:16,  2.09s/it]\n",
      "\u001b[36m(DefaultActor pid=27997)\u001b[0m /tmp/ipykernel_26738/752934157.py:10: FutureWarning: You are using `torch.load` with `weights_only=False` (the current default value), which uses the default pickle module implicitly. It is possible to construct malicious pickle data which will execute arbitrary code during unpickling (See https://github.com/pytorch/pytorch/blob/main/SECURITY.md#untrusted-models for more details). In a future release, the default value for `weights_only` will be flipped to `True`. This limits the functions that could be executed during unpickling. Arbitrary objects will no longer be allowed to be loaded via this mode unless they are explicitly allowlisted by the user via `torch.serialization.add_safe_globals`. We recommend you start setting `weights_only=True` for any use case where you don't have full control of the loaded file. Please open an issue on GitHub for any issues related to this experimental feature.\u001b[32m [repeated 29x across cluster]\u001b[0m\n",
      " 20%|\u001b[34m██        \u001b[0m| 2/10 [00:04<00:17,  2.14s/it]\n",
      "\u001b[36m(DefaultActor pid=28000)\u001b[0m /home/cudaq/.local/lib/python3.10/site-packages/sklearn/metrics/_ranking.py:1183: UndefinedMetricWarning: No positive samples in y_true, true positive value should be meaningless\u001b[32m [repeated 27x across cluster]\u001b[0m\n",
      "\u001b[36m(DefaultActor pid=28000)\u001b[0m   warnings.warn(\u001b[32m [repeated 27x across cluster]\u001b[0m\n",
      " 20%|\u001b[34m██        \u001b[0m| 2/10 [00:04<00:17,  2.13s/it]\n",
      " 20%|\u001b[34m██        \u001b[0m| 2/10 [00:04<00:17,  2.13s/it]\n",
      " 20%|\u001b[34m██        \u001b[0m| 2/10 [00:04<00:16,  2.11s/it]\n",
      " 20%|\u001b[34m██        \u001b[0m| 2/10 [00:04<00:17,  2.20s/it]\n",
      " 20%|\u001b[34m██        \u001b[0m| 2/10 [00:04<00:16,  2.12s/it]\n",
      " 20%|\u001b[34m██        \u001b[0m| 2/10 [00:04<00:17,  2.15s/it]\n",
      " 20%|\u001b[34m██        \u001b[0m| 2/10 [00:04<00:17,  2.15s/it]\n",
      " 20%|\u001b[34m██        \u001b[0m| 2/10 [00:04<00:17,  2.17s/it]\n"
     ]
    },
    {
     "name": "stdout",
     "output_type": "stream",
     "text": [
      "\u001b[36m(DefaultActor pid=27997)\u001b[0m [Client 6, round 13] fit, config: {'learning_rate': 0.003, 'batch_size': '32', 'server_round': 13, 'local_epochs': 10}\u001b[32m [repeated 9x across cluster]\u001b[0m\n"
     ]
    },
    {
     "name": "stderr",
     "output_type": "stream",
     "text": [
      " 30%|\u001b[34m███       \u001b[0m| 3/10 [00:06<00:14,  2.11s/it]\n",
      "\u001b[36m(DefaultActor pid=27997)\u001b[0m   return torch.load(io.BytesIO(b))\u001b[32m [repeated 9x across cluster]\u001b[0m\n",
      "  0%|\u001b[34m          \u001b[0m| 0/10 [00:00<?, ?it/s]\u001b[32m [repeated 9x across cluster]\u001b[0m\n",
      " 30%|\u001b[34m███       \u001b[0m| 3/10 [00:06<00:14,  2.12s/it]\n",
      " 30%|\u001b[34m███       \u001b[0m| 3/10 [00:06<00:14,  2.11s/it]\n",
      " 30%|\u001b[34m███       \u001b[0m| 3/10 [00:06<00:15,  2.14s/it]\n",
      " 30%|\u001b[34m███       \u001b[0m| 3/10 [00:06<00:14,  2.12s/it]\n",
      " 30%|\u001b[34m███       \u001b[0m| 3/10 [00:06<00:14,  2.10s/it]\n",
      " 30%|\u001b[34m███       \u001b[0m| 3/10 [00:06<00:15,  2.18s/it]\n",
      " 30%|\u001b[34m███       \u001b[0m| 3/10 [00:06<00:14,  2.13s/it]\n",
      " 30%|\u001b[34m███       \u001b[0m| 3/10 [00:06<00:15,  2.15s/it]\n",
      " 30%|\u001b[34m███       \u001b[0m| 3/10 [00:06<00:14,  2.14s/it]\n",
      " 40%|\u001b[34m████      \u001b[0m| 4/10 [00:08<00:12,  2.08s/it]\n",
      " 40%|\u001b[34m████      \u001b[0m| 4/10 [00:08<00:12,  2.12s/it]\n",
      " 40%|\u001b[34m████      \u001b[0m| 4/10 [00:08<00:12,  2.12s/it]\n",
      " 40%|\u001b[34m████      \u001b[0m| 4/10 [00:08<00:12,  2.10s/it]\n",
      " 40%|\u001b[34m████      \u001b[0m| 4/10 [00:08<00:12,  2.13s/it]\n",
      " 40%|\u001b[34m████      \u001b[0m| 4/10 [00:08<00:12,  2.09s/it]\n",
      " 40%|\u001b[34m████      \u001b[0m| 4/10 [00:08<00:12,  2.11s/it]\n",
      " 40%|\u001b[34m████      \u001b[0m| 4/10 [00:08<00:13,  2.18s/it]\n",
      " 40%|\u001b[34m████      \u001b[0m| 4/10 [00:08<00:12,  2.12s/it]\n",
      " 40%|\u001b[34m████      \u001b[0m| 4/10 [00:08<00:12,  2.14s/it]\n"
     ]
    },
    {
     "name": "stdout",
     "output_type": "stream",
     "text": [
      "\u001b[36m(DefaultActor pid=28002)\u001b[0m \tTrain Epoch: 5 \tTrain_loss_mri: 0.1281 | Train_acc_mri: 95.8333 | Train_loss_dna: 1.6338 | Train_acc_dna: 28.1250 | Validation_loss_mri: 0.2960 | Validation_acc_mri: 87.5000 | Validation_loss_dna: 1.9427 | Validation_acc_dna: 0.0000\u001b[32m [repeated 30x across cluster]\u001b[0m\n"
     ]
    },
    {
     "name": "stderr",
     "output_type": "stream",
     "text": [
      " 50%|\u001b[34m█████     \u001b[0m| 5/10 [00:10<00:10,  2.09s/it]\n",
      " 50%|\u001b[34m█████     \u001b[0m| 5/10 [00:10<00:10,  2.13s/it]\n",
      " 50%|\u001b[34m█████     \u001b[0m| 5/10 [00:10<00:10,  2.10s/it]\n",
      " 50%|\u001b[34m█████     \u001b[0m| 5/10 [00:10<00:10,  2.12s/it]\n",
      " 50%|\u001b[34m█████     \u001b[0m| 5/10 [00:10<00:10,  2.12s/it]\n",
      " 50%|\u001b[34m█████     \u001b[0m| 5/10 [00:10<00:10,  2.11s/it]\n",
      " 50%|\u001b[34m█████     \u001b[0m| 5/10 [00:10<00:10,  2.11s/it]\n",
      " 50%|\u001b[34m█████     \u001b[0m| 5/10 [00:10<00:10,  2.18s/it]\n",
      " 50%|\u001b[34m█████     \u001b[0m| 5/10 [00:10<00:10,  2.12s/it]\n",
      " 50%|\u001b[34m█████     \u001b[0m| 5/10 [00:10<00:10,  2.15s/it]\n",
      " 60%|\u001b[34m██████    \u001b[0m| 6/10 [00:12<00:08,  2.09s/it]\n",
      " 60%|\u001b[34m██████    \u001b[0m| 6/10 [00:12<00:08,  2.14s/it]\n",
      " 60%|\u001b[34m██████    \u001b[0m| 6/10 [00:12<00:08,  2.12s/it]\n",
      " 60%|\u001b[34m██████    \u001b[0m| 6/10 [00:12<00:08,  2.12s/it]\n",
      " 60%|\u001b[34m██████    \u001b[0m| 6/10 [00:12<00:08,  2.11s/it]\n",
      " 60%|\u001b[34m██████    \u001b[0m| 6/10 [00:12<00:08,  2.11s/it]\n",
      " 60%|\u001b[34m██████    \u001b[0m| 6/10 [00:12<00:08,  2.11s/it]\n",
      " 60%|\u001b[34m██████    \u001b[0m| 6/10 [00:12<00:08,  2.11s/it]\n",
      " 60%|\u001b[34m██████    \u001b[0m| 6/10 [00:13<00:08,  2.19s/it]\n",
      " 60%|\u001b[34m██████    \u001b[0m| 6/10 [00:12<00:08,  2.15s/it]\n",
      " 70%|\u001b[34m███████   \u001b[0m| 7/10 [00:14<00:06,  2.09s/it]\n",
      " 70%|\u001b[34m███████   \u001b[0m| 7/10 [00:14<00:06,  2.12s/it]\n",
      " 70%|\u001b[34m███████   \u001b[0m| 7/10 [00:14<00:06,  2.12s/it]\n",
      " 70%|\u001b[34m███████   \u001b[0m| 7/10 [00:14<00:06,  2.13s/it]\n",
      " 70%|\u001b[34m███████   \u001b[0m| 7/10 [00:14<00:06,  2.13s/it]\n",
      " 70%|\u001b[34m███████   \u001b[0m| 7/10 [00:14<00:06,  2.15s/it]\n",
      " 70%|\u001b[34m███████   \u001b[0m| 7/10 [00:14<00:06,  2.13s/it]\n",
      " 70%|\u001b[34m███████   \u001b[0m| 7/10 [00:14<00:06,  2.11s/it]\n",
      " 70%|\u001b[34m███████   \u001b[0m| 7/10 [00:15<00:06,  2.16s/it]\n",
      " 70%|\u001b[34m███████   \u001b[0m| 7/10 [00:15<00:06,  2.20s/it]\n"
     ]
    },
    {
     "name": "stdout",
     "output_type": "stream",
     "text": [
      "\u001b[36m(DefaultActor pid=28002)\u001b[0m \tTrain Epoch: 8 \tTrain_loss_mri: 0.0472 | Train_acc_mri: 98.9583 | Train_loss_dna: 1.6562 | Train_acc_dna: 28.1250 | Validation_loss_mri: 0.3232 | Validation_acc_mri: 87.5000 | Validation_loss_dna: 1.9441 | Validation_acc_dna: 0.0000\u001b[32m [repeated 30x across cluster]\u001b[0m\n"
     ]
    },
    {
     "name": "stderr",
     "output_type": "stream",
     "text": [
      " 80%|\u001b[34m████████  \u001b[0m| 8/10 [00:16<00:04,  2.11s/it]\n",
      " 80%|\u001b[34m████████  \u001b[0m| 8/10 [00:16<00:04,  2.11s/it]\n",
      " 80%|\u001b[34m████████  \u001b[0m| 8/10 [00:16<00:04,  2.11s/it]\n",
      " 80%|\u001b[34m████████  \u001b[0m| 8/10 [00:16<00:04,  2.13s/it]\n",
      " 80%|\u001b[34m████████  \u001b[0m| 8/10 [00:16<00:04,  2.13s/it]\n",
      " 80%|\u001b[34m████████  \u001b[0m| 8/10 [00:17<00:04,  2.15s/it]\n",
      " 80%|\u001b[34m████████  \u001b[0m| 8/10 [00:17<00:04,  2.13s/it]\n",
      " 80%|\u001b[34m████████  \u001b[0m| 8/10 [00:16<00:04,  2.11s/it]\n",
      " 80%|\u001b[34m████████  \u001b[0m| 8/10 [00:17<00:04,  2.17s/it]\n",
      " 80%|\u001b[34m████████  \u001b[0m| 8/10 [00:17<00:04,  2.16s/it]\n",
      " 90%|\u001b[34m█████████ \u001b[0m| 9/10 [00:18<00:02,  2.11s/it]\n",
      " 90%|\u001b[34m█████████ \u001b[0m| 9/10 [00:19<00:02,  2.10s/it]\n",
      " 90%|\u001b[34m█████████ \u001b[0m| 9/10 [00:18<00:02,  2.09s/it]\n",
      " 90%|\u001b[34m█████████ \u001b[0m| 9/10 [00:19<00:02,  2.11s/it]\n",
      " 90%|\u001b[34m█████████ \u001b[0m| 9/10 [00:19<00:02,  2.13s/it]\n",
      " 90%|\u001b[34m█████████ \u001b[0m| 9/10 [00:19<00:02,  2.15s/it]\n",
      " 90%|\u001b[34m█████████ \u001b[0m| 9/10 [00:19<00:02,  2.13s/it]\n",
      " 90%|\u001b[34m█████████ \u001b[0m| 9/10 [00:19<00:02,  2.12s/it]\n",
      " 90%|\u001b[34m█████████ \u001b[0m| 9/10 [00:19<00:02,  2.18s/it]\n",
      " 90%|\u001b[34m█████████ \u001b[0m| 9/10 [00:19<00:02,  2.17s/it]\n"
     ]
    },
    {
     "name": "stdout",
     "output_type": "stream",
     "text": [
      "\u001b[36m(DefaultActor pid=28002)\u001b[0m save graph in  results/FL/\n"
     ]
    },
    {
     "name": "stderr",
     "output_type": "stream",
     "text": [
      "100%|\u001b[34m██████████\u001b[0m| 10/10 [00:21<00:00,  2.11s/it]\n",
      "100%|\u001b[34m██████████\u001b[0m| 10/10 [00:21<00:00,  2.11s/it]\n",
      "100%|\u001b[34m██████████\u001b[0m| 10/10 [00:21<00:00,  2.12s/it]\n",
      "100%|\u001b[34m██████████\u001b[0m| 10/10 [00:21<00:00,  2.11s/it]\n",
      "100%|\u001b[34m██████████\u001b[0m| 10/10 [00:21<00:00,  2.11s/it]\n",
      "100%|\u001b[34m██████████\u001b[0m| 10/10 [00:21<00:00,  2.14s/it]\n",
      "100%|\u001b[34m██████████\u001b[0m| 10/10 [00:21<00:00,  2.13s/it]\n",
      "100%|\u001b[34m██████████\u001b[0m| 10/10 [00:21<00:00,  2.12s/it]\n"
     ]
    },
    {
     "name": "stdout",
     "output_type": "stream",
     "text": [
      "\u001b[36m(DefaultActor pid=27994)\u001b[0m \tTrain Epoch: 10 \tTrain_loss_mri: 0.0700 | Train_acc_mri: 98.9583 | Train_loss_dna: 1.5184 | Train_acc_dna: 42.7083 | Validation_loss_mri: 2.2627 | Validation_acc_mri: 62.5000 | Validation_loss_dna: 2.3873 | Validation_acc_dna: 0.0000\u001b[32m [repeated 28x across cluster]\u001b[0m\n"
     ]
    },
    {
     "name": "stderr",
     "output_type": "stream",
     "text": [
      "100%|\u001b[34m██████████\u001b[0m| 10/10 [00:21<00:00,  2.18s/it]\n",
      "100%|\u001b[34m██████████\u001b[0m| 10/10 [00:21<00:00,  2.16s/it]\n",
      "DEBUG flwr 2024-09-02 01:42:45,827 | server.py:236 | fit_round 13 received 10 results and 0 failures\n"
     ]
    },
    {
     "name": "stdout",
     "output_type": "stream",
     "text": [
      "Saving round 13 aggregated_parameters...\n",
      "Updated model\n"
     ]
    },
    {
     "name": "stderr",
     "output_type": "stream",
     "text": [
      "INFO flwr 2024-09-02 01:42:51,574 | server.py:125 | fit progress: (13, (1.4947174191474915, 1.8806366239275252), {'accuracy': (69.64285714285714, 24.553571428571427)}, 401.89584848377854)\n",
      "DEBUG flwr 2024-09-02 01:42:51,576 | server.py:173 | evaluate_round 13: strategy sampled 10 clients (out of 10)\n"
     ]
    },
    {
     "name": "stdout",
     "output_type": "stream",
     "text": [
      "Server-side evaluation MRI loss 1.4947174191474915 / MRI accuracy 69.64285714285714\n",
      "Server-side evaluation DNA loss 1.8806366239275252 / DNA accuracy 24.553571428571427\n",
      "\u001b[36m(DefaultActor pid=27994)\u001b[0m  To get the checkpoint\n",
      "\u001b[36m(DefaultActor pid=27994)\u001b[0m [Client 5] evaluate, config: {}\n",
      "\u001b[36m(DefaultActor pid=27994)\u001b[0m Updated model\n",
      "\u001b[36m(DefaultActor pid=27997)\u001b[0m save graph in  results/FL/\u001b[32m [repeated 9x across cluster]\u001b[0m\n",
      "\u001b[36m(DefaultActor pid=27997)\u001b[0m \tTrain Epoch: 10 \tTrain_loss_mri: 0.0401 | Train_acc_mri: 100.0000 | Train_loss_dna: 1.3987 | Train_acc_dna: 47.9167 | Validation_loss_mri: 1.5353 | Validation_acc_mri: 62.5000 | Validation_loss_dna: 2.0928 | Validation_acc_dna: 37.5000\n"
     ]
    },
    {
     "name": "stderr",
     "output_type": "stream",
     "text": [
      "\u001b[36m(DefaultActor pid=27994)\u001b[0m /tmp/ipykernel_26738/752934157.py:10: FutureWarning: You are using `torch.load` with `weights_only=False` (the current default value), which uses the default pickle module implicitly. It is possible to construct malicious pickle data which will execute arbitrary code during unpickling (See https://github.com/pytorch/pytorch/blob/main/SECURITY.md#untrusted-models for more details). In a future release, the default value for `weights_only` will be flipped to `True`. This limits the functions that could be executed during unpickling. Arbitrary objects will no longer be allowed to be loaded via this mode unless they are explicitly allowlisted by the user via `torch.serialization.add_safe_globals`. We recommend you start setting `weights_only=True` for any use case where you don't have full control of the loaded file. Please open an issue on GitHub for any issues related to this experimental feature.\n",
      "\u001b[36m(DefaultActor pid=27993)\u001b[0m /home/cudaq/.local/lib/python3.10/site-packages/sklearn/metrics/_ranking.py:1183: UndefinedMetricWarning: No positive samples in y_true, true positive value should be meaningless\n",
      "\u001b[36m(DefaultActor pid=27993)\u001b[0m   warnings.warn(\n",
      "DEBUG flwr 2024-09-02 01:42:52,849 | server.py:187 | evaluate_round 13 received 10 results and 0 failures\n",
      "DEBUG flwr 2024-09-02 01:42:52,851 | server.py:222 | fit_round 14: strategy sampled 10 clients (out of 10)\n",
      "\u001b[36m(DefaultActor pid=28002)\u001b[0m   return torch.load(io.BytesIO(b))\n",
      "  0%|\u001b[34m          \u001b[0m| 0/10 [00:00<?, ?it/s]\n"
     ]
    },
    {
     "name": "stdout",
     "output_type": "stream",
     "text": [
      "\u001b[36m(DefaultActor pid=27998)\u001b[0m [Client 9, round 14] fit, config: {'learning_rate': 0.003, 'batch_size': '32', 'server_round': 14, 'local_epochs': 10}\n",
      "\u001b[36m(DefaultActor pid=27998)\u001b[0m \tTrain Epoch: 1 \tTrain_loss_mri: 0.1275 | Train_acc_mri: 95.8333 | Train_loss_dna: 1.7460 | Train_acc_dna: 27.0833 | Validation_loss_mri: 0.9376 | Validation_acc_mri: 75.0000 | Validation_loss_dna: 1.8237 | Validation_acc_dna: 25.0000\n"
     ]
    },
    {
     "name": "stderr",
     "output_type": "stream",
     "text": [
      " 10%|\u001b[34m█         \u001b[0m| 1/10 [00:02<00:18,  2.08s/it]\n",
      " 10%|\u001b[34m█         \u001b[0m| 1/10 [00:02<00:19,  2.13s/it]\n",
      " 10%|\u001b[34m█         \u001b[0m| 1/10 [00:02<00:18,  2.11s/it]\n",
      " 10%|\u001b[34m█         \u001b[0m| 1/10 [00:02<00:20,  2.24s/it]\n",
      " 10%|\u001b[34m█         \u001b[0m| 1/10 [00:02<00:19,  2.14s/it]\n",
      " 10%|\u001b[34m█         \u001b[0m| 1/10 [00:02<00:19,  2.13s/it]\n",
      " 10%|\u001b[34m█         \u001b[0m| 1/10 [00:02<00:19,  2.14s/it]\n",
      " 10%|\u001b[34m█         \u001b[0m| 1/10 [00:02<00:19,  2.12s/it]\n",
      " 10%|\u001b[34m█         \u001b[0m| 1/10 [00:02<00:19,  2.13s/it]\n",
      " 10%|\u001b[34m█         \u001b[0m| 1/10 [00:02<00:20,  2.23s/it]\n"
     ]
    },
    {
     "name": "stdout",
     "output_type": "stream",
     "text": [
      "\u001b[36m(DefaultActor pid=27997)\u001b[0m  To get the checkpoint\u001b[32m [repeated 19x across cluster]\u001b[0m\n",
      "\u001b[36m(DefaultActor pid=28002)\u001b[0m [Client 2] evaluate, config: {}\u001b[32m [repeated 9x across cluster]\u001b[0m\n",
      "\u001b[36m(DefaultActor pid=27994)\u001b[0m Updated model\u001b[32m [repeated 19x across cluster]\u001b[0m\n"
     ]
    },
    {
     "name": "stderr",
     "output_type": "stream",
     "text": [
      " 20%|\u001b[34m██        \u001b[0m| 2/10 [00:04<00:16,  2.12s/it]\n",
      "\u001b[36m(DefaultActor pid=27997)\u001b[0m /tmp/ipykernel_26738/752934157.py:10: FutureWarning: You are using `torch.load` with `weights_only=False` (the current default value), which uses the default pickle module implicitly. It is possible to construct malicious pickle data which will execute arbitrary code during unpickling (See https://github.com/pytorch/pytorch/blob/main/SECURITY.md#untrusted-models for more details). In a future release, the default value for `weights_only` will be flipped to `True`. This limits the functions that could be executed during unpickling. Arbitrary objects will no longer be allowed to be loaded via this mode unless they are explicitly allowlisted by the user via `torch.serialization.add_safe_globals`. We recommend you start setting `weights_only=True` for any use case where you don't have full control of the loaded file. Please open an issue on GitHub for any issues related to this experimental feature.\u001b[32m [repeated 29x across cluster]\u001b[0m\n",
      "\u001b[36m(DefaultActor pid=28002)\u001b[0m /home/cudaq/.local/lib/python3.10/site-packages/sklearn/metrics/_ranking.py:1183: UndefinedMetricWarning: No positive samples in y_true, true positive value should be meaningless\u001b[32m [repeated 30x across cluster]\u001b[0m\n",
      "\u001b[36m(DefaultActor pid=28002)\u001b[0m   warnings.warn(\u001b[32m [repeated 30x across cluster]\u001b[0m\n",
      " 20%|\u001b[34m██        \u001b[0m| 2/10 [00:04<00:17,  2.13s/it]\n",
      " 20%|\u001b[34m██        \u001b[0m| 2/10 [00:04<00:16,  2.10s/it]\n",
      " 20%|\u001b[34m██        \u001b[0m| 2/10 [00:04<00:16,  2.11s/it]\n",
      " 20%|\u001b[34m██        \u001b[0m| 2/10 [00:04<00:17,  2.14s/it]\n",
      " 20%|\u001b[34m██        \u001b[0m| 2/10 [00:04<00:17,  2.21s/it]\n",
      " 20%|\u001b[34m██        \u001b[0m| 2/10 [00:04<00:16,  2.12s/it]\n",
      " 20%|\u001b[34m██        \u001b[0m| 2/10 [00:04<00:16,  2.10s/it]\n",
      " 20%|\u001b[34m██        \u001b[0m| 2/10 [00:04<00:17,  2.13s/it]\n",
      " 20%|\u001b[34m██        \u001b[0m| 2/10 [00:04<00:17,  2.18s/it]\n"
     ]
    },
    {
     "name": "stdout",
     "output_type": "stream",
     "text": [
      "\u001b[36m(DefaultActor pid=27994)\u001b[0m [Client 3, round 14] fit, config: {'learning_rate': 0.003, 'batch_size': '32', 'server_round': 14, 'local_epochs': 10}\u001b[32m [repeated 9x across cluster]\u001b[0m\n"
     ]
    },
    {
     "name": "stderr",
     "output_type": "stream",
     "text": [
      " 30%|\u001b[34m███       \u001b[0m| 3/10 [00:06<00:14,  2.12s/it]\n",
      "\u001b[36m(DefaultActor pid=27994)\u001b[0m   return torch.load(io.BytesIO(b))\u001b[32m [repeated 9x across cluster]\u001b[0m\n",
      "  0%|\u001b[34m          \u001b[0m| 0/10 [00:00<?, ?it/s]\u001b[32m [repeated 9x across cluster]\u001b[0m\n",
      " 30%|\u001b[34m███       \u001b[0m| 3/10 [00:06<00:14,  2.12s/it]\n",
      " 30%|\u001b[34m███       \u001b[0m| 3/10 [00:06<00:14,  2.10s/it]\n",
      " 30%|\u001b[34m███       \u001b[0m| 3/10 [00:06<00:14,  2.09s/it]\n",
      " 30%|\u001b[34m███       \u001b[0m| 3/10 [00:06<00:15,  2.16s/it]\n",
      " 30%|\u001b[34m███       \u001b[0m| 3/10 [00:06<00:14,  2.10s/it]\n",
      " 30%|\u001b[34m███       \u001b[0m| 3/10 [00:06<00:14,  2.12s/it]\n",
      " 30%|\u001b[34m███       \u001b[0m| 3/10 [00:06<00:15,  2.15s/it]\n",
      " 30%|\u001b[34m███       \u001b[0m| 3/10 [00:06<00:14,  2.13s/it]\n",
      " 30%|\u001b[34m███       \u001b[0m| 3/10 [00:06<00:15,  2.18s/it]\n"
     ]
    },
    {
     "name": "stdout",
     "output_type": "stream",
     "text": [
      "\u001b[36m(DefaultActor pid=27998)\u001b[0m \tTrain Epoch: 4 \tTrain_loss_mri: 0.1803 | Train_acc_mri: 98.9583 | Train_loss_dna: 1.4615 | Train_acc_dna: 33.3333 | Validation_loss_mri: 0.8252 | Validation_acc_mri: 75.0000 | Validation_loss_dna: 1.8869 | Validation_acc_dna: 25.0000\u001b[32m [repeated 30x across cluster]\u001b[0m\n"
     ]
    },
    {
     "name": "stderr",
     "output_type": "stream",
     "text": [
      " 40%|\u001b[34m████      \u001b[0m| 4/10 [00:08<00:12,  2.12s/it]\n",
      " 40%|\u001b[34m████      \u001b[0m| 4/10 [00:08<00:12,  2.09s/it]\n",
      " 40%|\u001b[34m████      \u001b[0m| 4/10 [00:08<00:12,  2.12s/it]\n",
      " 40%|\u001b[34m████      \u001b[0m| 4/10 [00:08<00:12,  2.10s/it]\n",
      " 40%|\u001b[34m████      \u001b[0m| 4/10 [00:08<00:12,  2.11s/it]\n",
      " 40%|\u001b[34m████      \u001b[0m| 4/10 [00:08<00:12,  2.10s/it]\n",
      " 40%|\u001b[34m████      \u001b[0m| 4/10 [00:08<00:12,  2.14s/it]\n",
      " 40%|\u001b[34m████      \u001b[0m| 4/10 [00:08<00:12,  2.13s/it]\n",
      " 40%|\u001b[34m████      \u001b[0m| 4/10 [00:08<00:13,  2.17s/it]\n",
      " 40%|\u001b[34m████      \u001b[0m| 4/10 [00:08<00:13,  2.20s/it]\n",
      " 50%|\u001b[34m█████     \u001b[0m| 5/10 [00:10<00:10,  2.12s/it]\n",
      " 50%|\u001b[34m█████     \u001b[0m| 5/10 [00:10<00:10,  2.09s/it]\n",
      " 50%|\u001b[34m█████     \u001b[0m| 5/10 [00:10<00:10,  2.10s/it]\n",
      " 50%|\u001b[34m█████     \u001b[0m| 5/10 [00:10<00:10,  2.12s/it]\n",
      " 50%|\u001b[34m█████     \u001b[0m| 5/10 [00:10<00:10,  2.12s/it]\n",
      " 50%|\u001b[34m█████     \u001b[0m| 5/10 [00:10<00:10,  2.11s/it]\n",
      " 50%|\u001b[34m█████     \u001b[0m| 5/10 [00:10<00:10,  2.11s/it]\n",
      " 50%|\u001b[34m█████     \u001b[0m| 5/10 [00:10<00:10,  2.14s/it]\n",
      " 50%|\u001b[34m█████     \u001b[0m| 5/10 [00:10<00:10,  2.16s/it]\n",
      " 50%|\u001b[34m█████     \u001b[0m| 5/10 [00:10<00:10,  2.19s/it]\n",
      " 60%|\u001b[34m██████    \u001b[0m| 6/10 [00:12<00:08,  2.09s/it]\n",
      " 60%|\u001b[34m██████    \u001b[0m| 6/10 [00:12<00:08,  2.12s/it]\n",
      " 60%|\u001b[34m██████    \u001b[0m| 6/10 [00:12<00:08,  2.11s/it]\n",
      " 60%|\u001b[34m██████    \u001b[0m| 6/10 [00:12<00:08,  2.11s/it]\n",
      " 60%|\u001b[34m██████    \u001b[0m| 6/10 [00:12<00:08,  2.10s/it]\n",
      " 60%|\u001b[34m██████    \u001b[0m| 6/10 [00:12<00:08,  2.11s/it]\n",
      " 60%|\u001b[34m██████    \u001b[0m| 6/10 [00:12<00:08,  2.12s/it]\n",
      " 60%|\u001b[34m██████    \u001b[0m| 6/10 [00:12<00:08,  2.13s/it]\n",
      " 60%|\u001b[34m██████    \u001b[0m| 6/10 [00:12<00:08,  2.16s/it]\n",
      " 60%|\u001b[34m██████    \u001b[0m| 6/10 [00:13<00:08,  2.16s/it]\n"
     ]
    },
    {
     "name": "stdout",
     "output_type": "stream",
     "text": [
      "\u001b[36m(DefaultActor pid=27999)\u001b[0m \tTrain Epoch: 7 \tTrain_loss_mri: 0.0568 | Train_acc_mri: 100.0000 | Train_loss_dna: 1.5525 | Train_acc_dna: 36.4583 | Validation_loss_mri: 1.2728 | Validation_acc_mri: 50.0000 | Validation_loss_dna: 2.1602 | Validation_acc_dna: 25.0000\u001b[32m [repeated 30x across cluster]\u001b[0m\n"
     ]
    },
    {
     "name": "stderr",
     "output_type": "stream",
     "text": [
      " 70%|\u001b[34m███████   \u001b[0m| 7/10 [00:14<00:06,  2.09s/it]\n",
      " 70%|\u001b[34m███████   \u001b[0m| 7/10 [00:14<00:06,  2.11s/it]\n",
      " 70%|\u001b[34m███████   \u001b[0m| 7/10 [00:14<00:06,  2.12s/it]\n",
      " 70%|\u001b[34m███████   \u001b[0m| 7/10 [00:14<00:06,  2.12s/it]\n",
      " 70%|\u001b[34m███████   \u001b[0m| 7/10 [00:14<00:06,  2.12s/it]\n",
      " 70%|\u001b[34m███████   \u001b[0m| 7/10 [00:14<00:06,  2.10s/it]\n",
      " 70%|\u001b[34m███████   \u001b[0m| 7/10 [00:14<00:06,  2.12s/it]\n",
      " 70%|\u001b[34m███████   \u001b[0m| 7/10 [00:14<00:06,  2.12s/it]\n",
      " 70%|\u001b[34m███████   \u001b[0m| 7/10 [00:15<00:06,  2.14s/it]\n",
      " 70%|\u001b[34m███████   \u001b[0m| 7/10 [00:15<00:06,  2.16s/it]\n",
      " 80%|\u001b[34m████████  \u001b[0m| 8/10 [00:16<00:04,  2.10s/it]\n",
      " 80%|\u001b[34m████████  \u001b[0m| 8/10 [00:16<00:04,  2.13s/it]\n",
      " 80%|\u001b[34m████████  \u001b[0m| 8/10 [00:16<00:04,  2.13s/it]\n",
      " 80%|\u001b[34m████████  \u001b[0m| 8/10 [00:17<00:04,  2.13s/it]\n",
      " 80%|\u001b[34m████████  \u001b[0m| 8/10 [00:16<00:04,  2.12s/it]\n",
      " 80%|\u001b[34m████████  \u001b[0m| 8/10 [00:16<00:04,  2.13s/it]\n",
      " 80%|\u001b[34m████████  \u001b[0m| 8/10 [00:16<00:04,  2.13s/it]\n",
      " 80%|\u001b[34m████████  \u001b[0m| 8/10 [00:17<00:04,  2.13s/it]\n",
      " 80%|\u001b[34m████████  \u001b[0m| 8/10 [00:17<00:04,  2.15s/it]\n",
      " 80%|\u001b[34m████████  \u001b[0m| 8/10 [00:17<00:04,  2.14s/it]\n",
      " 90%|\u001b[34m█████████ \u001b[0m| 9/10 [00:18<00:02,  2.09s/it]\n",
      " 90%|\u001b[34m█████████ \u001b[0m| 9/10 [00:19<00:02,  2.13s/it]\n",
      " 90%|\u001b[34m█████████ \u001b[0m| 9/10 [00:19<00:02,  2.11s/it]\n",
      " 90%|\u001b[34m█████████ \u001b[0m| 9/10 [00:19<00:02,  2.13s/it]\n",
      " 90%|\u001b[34m█████████ \u001b[0m| 9/10 [00:19<00:02,  2.11s/it]\n",
      " 90%|\u001b[34m█████████ \u001b[0m| 9/10 [00:19<00:02,  2.12s/it]\n",
      " 90%|\u001b[34m█████████ \u001b[0m| 9/10 [00:19<00:02,  2.14s/it]\n",
      " 90%|\u001b[34m█████████ \u001b[0m| 9/10 [00:19<00:02,  2.12s/it]\n",
      " 90%|\u001b[34m█████████ \u001b[0m| 9/10 [00:19<00:02,  2.14s/it]\n"
     ]
    },
    {
     "name": "stdout",
     "output_type": "stream",
     "text": [
      "\u001b[36m(DefaultActor pid=27994)\u001b[0m \tTrain Epoch: 9 \tTrain_loss_mri: 0.0758 | Train_acc_mri: 98.9583 | Train_loss_dna: 1.3134 | Train_acc_dna: 48.9583 | Validation_loss_mri: 1.2784 | Validation_acc_mri: 87.5000 | Validation_loss_dna: 2.6734 | Validation_acc_dna: 25.0000\u001b[32m [repeated 29x across cluster]\u001b[0m\n"
     ]
    },
    {
     "name": "stderr",
     "output_type": "stream",
     "text": [
      " 90%|\u001b[34m█████████ \u001b[0m| 9/10 [00:19<00:02,  2.14s/it]\n"
     ]
    },
    {
     "name": "stdout",
     "output_type": "stream",
     "text": [
      "\u001b[36m(DefaultActor pid=27999)\u001b[0m save graph in  results/FL/\n"
     ]
    },
    {
     "name": "stderr",
     "output_type": "stream",
     "text": [
      "100%|\u001b[34m██████████\u001b[0m| 10/10 [00:20<00:00,  2.10s/it]\n",
      "100%|\u001b[34m██████████\u001b[0m| 10/10 [00:21<00:00,  2.12s/it]\n",
      "100%|\u001b[34m██████████\u001b[0m| 10/10 [00:21<00:00,  2.13s/it]\n",
      "100%|\u001b[34m██████████\u001b[0m| 10/10 [00:21<00:00,  2.13s/it]\n",
      "100%|\u001b[34m██████████\u001b[0m| 10/10 [00:21<00:00,  2.11s/it]\n",
      "100%|\u001b[34m██████████\u001b[0m| 10/10 [00:21<00:00,  2.12s/it]\n",
      "100%|\u001b[34m██████████\u001b[0m| 10/10 [00:21<00:00,  2.12s/it]\n",
      "100%|\u001b[34m██████████\u001b[0m| 10/10 [00:21<00:00,  2.12s/it]\n",
      "100%|\u001b[34m██████████\u001b[0m| 10/10 [00:21<00:00,  2.14s/it]\n",
      "100%|\u001b[34m██████████\u001b[0m| 10/10 [00:21<00:00,  2.15s/it]\n",
      "DEBUG flwr 2024-09-02 01:43:15,261 | server.py:236 | fit_round 14 received 10 results and 0 failures\n"
     ]
    },
    {
     "name": "stdout",
     "output_type": "stream",
     "text": [
      "Saving round 14 aggregated_parameters...\n",
      "Updated model\n"
     ]
    },
    {
     "name": "stderr",
     "output_type": "stream",
     "text": [
      "INFO flwr 2024-09-02 01:43:20,792 | server.py:125 | fit progress: (14, (1.590330149446215, 1.9285200834274292), {'accuracy': (70.08928571428571, 23.660714285714285)}, 431.1141298916191)\n",
      "DEBUG flwr 2024-09-02 01:43:20,872 | server.py:173 | evaluate_round 14: strategy sampled 10 clients (out of 10)\n"
     ]
    },
    {
     "name": "stdout",
     "output_type": "stream",
     "text": [
      "Server-side evaluation MRI loss 1.590330149446215 / MRI accuracy 70.08928571428571\n",
      "Server-side evaluation DNA loss 1.9285200834274292 / DNA accuracy 23.660714285714285\n",
      "\u001b[36m(DefaultActor pid=27994)\u001b[0m  To get the checkpoint\n",
      "\u001b[36m(DefaultActor pid=27994)\u001b[0m [Client 2] evaluate, config: {}\n",
      "\u001b[36m(DefaultActor pid=27994)\u001b[0m Updated model\n",
      "\u001b[36m(DefaultActor pid=27994)\u001b[0m \tTrain Epoch: 10 \tTrain_loss_mri: 0.0471 | Train_acc_mri: 100.0000 | Train_loss_dna: 1.4215 | Train_acc_dna: 39.5833 | Validation_loss_mri: 1.2020 | Validation_acc_mri: 87.5000 | Validation_loss_dna: 2.6701 | Validation_acc_dna: 25.0000\u001b[32m [repeated 10x across cluster]\u001b[0m\n",
      "\u001b[36m(DefaultActor pid=27994)\u001b[0m save graph in  results/FL/\u001b[32m [repeated 9x across cluster]\u001b[0m\n"
     ]
    },
    {
     "name": "stderr",
     "output_type": "stream",
     "text": [
      "\u001b[36m(DefaultActor pid=27994)\u001b[0m /tmp/ipykernel_26738/752934157.py:10: FutureWarning: You are using `torch.load` with `weights_only=False` (the current default value), which uses the default pickle module implicitly. It is possible to construct malicious pickle data which will execute arbitrary code during unpickling (See https://github.com/pytorch/pytorch/blob/main/SECURITY.md#untrusted-models for more details). In a future release, the default value for `weights_only` will be flipped to `True`. This limits the functions that could be executed during unpickling. Arbitrary objects will no longer be allowed to be loaded via this mode unless they are explicitly allowlisted by the user via `torch.serialization.add_safe_globals`. We recommend you start setting `weights_only=True` for any use case where you don't have full control of the loaded file. Please open an issue on GitHub for any issues related to this experimental feature.\n",
      "\u001b[36m(DefaultActor pid=27994)\u001b[0m /home/cudaq/.local/lib/python3.10/site-packages/sklearn/metrics/_ranking.py:1183: UndefinedMetricWarning: No positive samples in y_true, true positive value should be meaningless\n",
      "\u001b[36m(DefaultActor pid=27994)\u001b[0m   warnings.warn(\n",
      "DEBUG flwr 2024-09-02 01:43:22,570 | server.py:187 | evaluate_round 14 received 10 results and 0 failures\n",
      "DEBUG flwr 2024-09-02 01:43:22,570 | server.py:222 | fit_round 15: strategy sampled 10 clients (out of 10)\n",
      "\u001b[36m(DefaultActor pid=27996)\u001b[0m   return torch.load(io.BytesIO(b))\n",
      "  0%|\u001b[34m          \u001b[0m| 0/10 [00:00<?, ?it/s]\n"
     ]
    },
    {
     "name": "stdout",
     "output_type": "stream",
     "text": [
      "\u001b[36m(DefaultActor pid=27996)\u001b[0m [Client 4, round 15] fit, config: {'learning_rate': 0.003, 'batch_size': '32', 'server_round': 15, 'local_epochs': 10}\n"
     ]
    },
    {
     "name": "stderr",
     "output_type": "stream",
     "text": [
      " 10%|\u001b[34m█         \u001b[0m| 1/10 [00:02<00:19,  2.16s/it]\n",
      " 10%|\u001b[34m█         \u001b[0m| 1/10 [00:02<00:19,  2.11s/it]\n",
      " 10%|\u001b[34m█         \u001b[0m| 1/10 [00:02<00:18,  2.09s/it]\n",
      " 10%|\u001b[34m█         \u001b[0m| 1/10 [00:02<00:19,  2.15s/it]\n",
      " 10%|\u001b[34m█         \u001b[0m| 1/10 [00:02<00:18,  2.10s/it]\n",
      " 10%|\u001b[34m█         \u001b[0m| 1/10 [00:02<00:18,  2.07s/it]\n",
      " 10%|\u001b[34m█         \u001b[0m| 1/10 [00:02<00:19,  2.13s/it]\n",
      " 10%|\u001b[34m█         \u001b[0m| 1/10 [00:02<00:19,  2.19s/it]\n",
      " 10%|\u001b[34m█         \u001b[0m| 1/10 [00:02<00:19,  2.14s/it]\n",
      " 10%|\u001b[34m█         \u001b[0m| 1/10 [00:02<00:19,  2.12s/it]\n"
     ]
    },
    {
     "name": "stdout",
     "output_type": "stream",
     "text": [
      "\u001b[36m(DefaultActor pid=27997)\u001b[0m  To get the checkpoint\u001b[32m [repeated 19x across cluster]\u001b[0m\n",
      "\u001b[36m(DefaultActor pid=28000)\u001b[0m [Client 7] evaluate, config: {}\u001b[32m [repeated 9x across cluster]\u001b[0m\n",
      "\u001b[36m(DefaultActor pid=27997)\u001b[0m Updated model\u001b[32m [repeated 19x across cluster]\u001b[0m\n",
      "\u001b[36m(DefaultActor pid=27996)\u001b[0m \tTrain Epoch: 2 \tTrain_loss_mri: 0.2404 | Train_acc_mri: 89.5833 | Train_loss_dna: 1.7086 | Train_acc_dna: 21.8750 | Validation_loss_mri: 0.3490 | Validation_acc_mri: 87.5000 | Validation_loss_dna: 2.0932 | Validation_acc_dna: 0.0000\u001b[32m [repeated 11x across cluster]\u001b[0m\n"
     ]
    },
    {
     "name": "stderr",
     "output_type": "stream",
     "text": [
      " 20%|\u001b[34m██        \u001b[0m| 2/10 [00:04<00:17,  2.14s/it]\n",
      "\u001b[36m(DefaultActor pid=27997)\u001b[0m /tmp/ipykernel_26738/752934157.py:10: FutureWarning: You are using `torch.load` with `weights_only=False` (the current default value), which uses the default pickle module implicitly. It is possible to construct malicious pickle data which will execute arbitrary code during unpickling (See https://github.com/pytorch/pytorch/blob/main/SECURITY.md#untrusted-models for more details). In a future release, the default value for `weights_only` will be flipped to `True`. This limits the functions that could be executed during unpickling. Arbitrary objects will no longer be allowed to be loaded via this mode unless they are explicitly allowlisted by the user via `torch.serialization.add_safe_globals`. We recommend you start setting `weights_only=True` for any use case where you don't have full control of the loaded file. Please open an issue on GitHub for any issues related to this experimental feature.\u001b[32m [repeated 29x across cluster]\u001b[0m\n",
      "\u001b[36m(DefaultActor pid=27996)\u001b[0m /home/cudaq/.local/lib/python3.10/site-packages/sklearn/metrics/_ranking.py:1183: UndefinedMetricWarning: No positive samples in y_true, true positive value should be meaningless\u001b[32m [repeated 30x across cluster]\u001b[0m\n",
      "\u001b[36m(DefaultActor pid=27996)\u001b[0m   warnings.warn(\u001b[32m [repeated 30x across cluster]\u001b[0m\n",
      " 20%|\u001b[34m██        \u001b[0m| 2/10 [00:04<00:16,  2.11s/it]\n",
      " 20%|\u001b[34m██        \u001b[0m| 2/10 [00:04<00:16,  2.12s/it]\n",
      " 20%|\u001b[34m██        \u001b[0m| 2/10 [00:04<00:17,  2.18s/it]\n",
      " 20%|\u001b[34m██        \u001b[0m| 2/10 [00:04<00:17,  2.14s/it]\n",
      " 20%|\u001b[34m██        \u001b[0m| 2/10 [00:04<00:16,  2.08s/it]\n",
      " 20%|\u001b[34m██        \u001b[0m| 2/10 [00:04<00:17,  2.13s/it]\n",
      " 20%|\u001b[34m██        \u001b[0m| 2/10 [00:04<00:17,  2.17s/it]\n",
      " 20%|\u001b[34m██        \u001b[0m| 2/10 [00:04<00:17,  2.14s/it]\n",
      " 20%|\u001b[34m██        \u001b[0m| 2/10 [00:04<00:17,  2.13s/it]\n"
     ]
    },
    {
     "name": "stdout",
     "output_type": "stream",
     "text": [
      "\u001b[36m(DefaultActor pid=27997)\u001b[0m [Client 2, round 15] fit, config: {'learning_rate': 0.003, 'batch_size': '32', 'server_round': 15, 'local_epochs': 10}\u001b[32m [repeated 9x across cluster]\u001b[0m\n"
     ]
    },
    {
     "name": "stderr",
     "output_type": "stream",
     "text": [
      " 30%|\u001b[34m███       \u001b[0m| 3/10 [00:06<00:14,  2.10s/it]\n",
      "\u001b[36m(DefaultActor pid=27997)\u001b[0m   return torch.load(io.BytesIO(b))\u001b[32m [repeated 9x across cluster]\u001b[0m\n",
      "  0%|\u001b[34m          \u001b[0m| 0/10 [00:00<?, ?it/s]\u001b[32m [repeated 9x across cluster]\u001b[0m\n",
      " 30%|\u001b[34m███       \u001b[0m| 3/10 [00:06<00:14,  2.12s/it]\n",
      " 30%|\u001b[34m███       \u001b[0m| 3/10 [00:06<00:14,  2.13s/it]\n",
      " 30%|\u001b[34m███       \u001b[0m| 3/10 [00:06<00:14,  2.07s/it]\n",
      " 30%|\u001b[34m███       \u001b[0m| 3/10 [00:06<00:14,  2.13s/it]\n",
      " 30%|\u001b[34m███       \u001b[0m| 3/10 [00:06<00:15,  2.18s/it]\n",
      " 30%|\u001b[34m███       \u001b[0m| 3/10 [00:06<00:14,  2.13s/it]\n",
      " 30%|\u001b[34m███       \u001b[0m| 3/10 [00:06<00:14,  2.13s/it]\n",
      " 30%|\u001b[34m███       \u001b[0m| 3/10 [00:06<00:14,  2.14s/it]\n",
      " 30%|\u001b[34m███       \u001b[0m| 3/10 [00:06<00:14,  2.14s/it]\n",
      " 40%|\u001b[34m████      \u001b[0m| 4/10 [00:08<00:12,  2.11s/it]\n",
      " 40%|\u001b[34m████      \u001b[0m| 4/10 [00:08<00:12,  2.09s/it]\n",
      " 40%|\u001b[34m████      \u001b[0m| 4/10 [00:08<00:12,  2.09s/it]\n",
      " 40%|\u001b[34m████      \u001b[0m| 4/10 [00:08<00:12,  2.12s/it]\n",
      " 40%|\u001b[34m████      \u001b[0m| 4/10 [00:08<00:12,  2.12s/it]\n",
      " 40%|\u001b[34m████      \u001b[0m| 4/10 [00:08<00:12,  2.13s/it]\n",
      " 40%|\u001b[34m████      \u001b[0m| 4/10 [00:08<00:12,  2.13s/it]\n",
      " 40%|\u001b[34m████      \u001b[0m| 4/10 [00:08<00:13,  2.18s/it]\n",
      " 40%|\u001b[34m████      \u001b[0m| 4/10 [00:08<00:12,  2.12s/it]\n",
      " 40%|\u001b[34m████      \u001b[0m| 4/10 [00:08<00:12,  2.15s/it]\n"
     ]
    },
    {
     "name": "stdout",
     "output_type": "stream",
     "text": [
      "\u001b[36m(DefaultActor pid=27996)\u001b[0m \tTrain Epoch: 5 \tTrain_loss_mri: 0.1379 | Train_acc_mri: 96.8750 | Train_loss_dna: 1.5561 | Train_acc_dna: 27.0833 | Validation_loss_mri: 0.3074 | Validation_acc_mri: 87.5000 | Validation_loss_dna: 2.1837 | Validation_acc_dna: 0.0000\u001b[32m [repeated 30x across cluster]\u001b[0m\n"
     ]
    },
    {
     "name": "stderr",
     "output_type": "stream",
     "text": [
      " 50%|\u001b[34m█████     \u001b[0m| 5/10 [00:10<00:10,  2.10s/it]\n",
      " 50%|\u001b[34m█████     \u001b[0m| 5/10 [00:10<00:10,  2.10s/it]\n",
      " 50%|\u001b[34m█████     \u001b[0m| 5/10 [00:10<00:10,  2.12s/it]\n",
      " 50%|\u001b[34m█████     \u001b[0m| 5/10 [00:10<00:10,  2.09s/it]\n",
      " 50%|\u001b[34m█████     \u001b[0m| 5/10 [00:10<00:10,  2.11s/it]\n",
      " 50%|\u001b[34m█████     \u001b[0m| 5/10 [00:10<00:10,  2.11s/it]\n",
      " 50%|\u001b[34m█████     \u001b[0m| 5/10 [00:10<00:10,  2.15s/it]\n",
      " 50%|\u001b[34m█████     \u001b[0m| 5/10 [00:10<00:10,  2.12s/it]\n",
      " 50%|\u001b[34m█████     \u001b[0m| 5/10 [00:10<00:10,  2.15s/it]\n",
      " 50%|\u001b[34m█████     \u001b[0m| 5/10 [00:10<00:10,  2.15s/it]\n",
      " 60%|\u001b[34m██████    \u001b[0m| 6/10 [00:12<00:08,  2.10s/it]\n",
      " 60%|\u001b[34m██████    \u001b[0m| 6/10 [00:12<00:08,  2.11s/it]\n",
      " 60%|\u001b[34m██████    \u001b[0m| 6/10 [00:12<00:08,  2.10s/it]\n",
      " 60%|\u001b[34m██████    \u001b[0m| 6/10 [00:12<00:08,  2.12s/it]\n",
      " 60%|\u001b[34m██████    \u001b[0m| 6/10 [00:12<00:08,  2.12s/it]\n",
      " 60%|\u001b[34m██████    \u001b[0m| 6/10 [00:12<00:08,  2.11s/it]\n",
      " 60%|\u001b[34m██████    \u001b[0m| 6/10 [00:12<00:08,  2.11s/it]\n",
      " 60%|\u001b[34m██████    \u001b[0m| 6/10 [00:12<00:08,  2.16s/it]\n",
      " 60%|\u001b[34m██████    \u001b[0m| 6/10 [00:13<00:08,  2.19s/it]\n",
      " 60%|\u001b[34m██████    \u001b[0m| 6/10 [00:12<00:08,  2.17s/it]\n"
     ]
    },
    {
     "name": "stdout",
     "output_type": "stream",
     "text": [
      "\u001b[36m(DefaultActor pid=27996)\u001b[0m \tTrain Epoch: 7 \tTrain_loss_mri: 0.0818 | Train_acc_mri: 97.9167 | Train_loss_dna: 1.5156 | Train_acc_dna: 29.1667 | Validation_loss_mri: 0.2890 | Validation_acc_mri: 87.5000 | Validation_loss_dna: 2.2931 | Validation_acc_dna: 0.0000\u001b[32m [repeated 20x across cluster]\u001b[0m\n"
     ]
    },
    {
     "name": "stderr",
     "output_type": "stream",
     "text": [
      " 70%|\u001b[34m███████   \u001b[0m| 7/10 [00:16<00:07,  2.59s/it]\n",
      " 70%|\u001b[34m███████   \u001b[0m| 7/10 [00:16<00:07,  2.62s/it]\n",
      " 70%|\u001b[34m███████   \u001b[0m| 7/10 [00:16<00:07,  2.64s/it]\n",
      " 70%|\u001b[34m███████   \u001b[0m| 7/10 [00:16<00:07,  2.66s/it]\n",
      " 70%|\u001b[34m███████   \u001b[0m| 7/10 [00:16<00:08,  2.69s/it]\n",
      " 70%|\u001b[34m███████   \u001b[0m| 7/10 [00:16<00:08,  2.73s/it]\n",
      " 70%|\u001b[34m███████   \u001b[0m| 7/10 [00:16<00:08,  2.74s/it]\n",
      " 70%|\u001b[34m███████   \u001b[0m| 7/10 [00:17<00:08,  2.85s/it]\n",
      " 70%|\u001b[34m███████   \u001b[0m| 7/10 [00:17<00:08,  2.93s/it]\n",
      " 70%|\u001b[34m███████   \u001b[0m| 7/10 [00:17<00:08,  2.90s/it]\n",
      " 80%|\u001b[34m████████  \u001b[0m| 8/10 [00:19<00:05,  2.76s/it]\n",
      " 80%|\u001b[34m████████  \u001b[0m| 8/10 [00:19<00:05,  2.77s/it]\n",
      " 80%|\u001b[34m████████  \u001b[0m| 8/10 [00:19<00:05,  2.75s/it]\n",
      " 80%|\u001b[34m████████  \u001b[0m| 8/10 [00:19<00:05,  2.75s/it]\n",
      " 80%|\u001b[34m████████  \u001b[0m| 8/10 [00:19<00:05,  2.75s/it]\n",
      " 80%|\u001b[34m████████  \u001b[0m| 8/10 [00:19<00:05,  2.75s/it]\n",
      " 80%|\u001b[34m████████  \u001b[0m| 8/10 [00:19<00:05,  2.75s/it]\n",
      " 80%|\u001b[34m████████  \u001b[0m| 8/10 [00:19<00:05,  2.74s/it]\n",
      " 80%|\u001b[34m████████  \u001b[0m| 8/10 [00:19<00:05,  2.74s/it]\n",
      " 80%|\u001b[34m████████  \u001b[0m| 8/10 [00:19<00:05,  2.75s/it]\n"
     ]
    },
    {
     "name": "stdout",
     "output_type": "stream",
     "text": [
      "\u001b[36m(DefaultActor pid=27996)\u001b[0m \tTrain Epoch: 9 \tTrain_loss_mri: 0.0394 | Train_acc_mri: 98.9583 | Train_loss_dna: 1.4437 | Train_acc_dna: 30.2083 | Validation_loss_mri: 0.3740 | Validation_acc_mri: 75.0000 | Validation_loss_dna: 2.3298 | Validation_acc_dna: 0.0000\u001b[32m [repeated 20x across cluster]\u001b[0m\n"
     ]
    },
    {
     "name": "stderr",
     "output_type": "stream",
     "text": [
      " 90%|\u001b[34m█████████ \u001b[0m| 9/10 [00:21<00:02,  2.58s/it]\n",
      " 90%|\u001b[34m█████████ \u001b[0m| 9/10 [00:21<00:02,  2.58s/it]\n",
      " 90%|\u001b[34m█████████ \u001b[0m| 9/10 [00:21<00:02,  2.56s/it]\n",
      " 90%|\u001b[34m█████████ \u001b[0m| 9/10 [00:21<00:02,  2.56s/it]\n",
      " 90%|\u001b[34m█████████ \u001b[0m| 9/10 [00:21<00:02,  2.55s/it]\n",
      " 90%|\u001b[34m█████████ \u001b[0m| 9/10 [00:21<00:02,  2.56s/it]\n",
      " 90%|\u001b[34m█████████ \u001b[0m| 9/10 [00:21<00:02,  2.57s/it]\n",
      " 90%|\u001b[34m█████████ \u001b[0m| 9/10 [00:21<00:02,  2.56s/it]\n",
      " 90%|\u001b[34m█████████ \u001b[0m| 9/10 [00:21<00:02,  2.55s/it]\n",
      " 90%|\u001b[34m█████████ \u001b[0m| 9/10 [00:21<00:02,  2.58s/it]\n"
     ]
    },
    {
     "name": "stdout",
     "output_type": "stream",
     "text": [
      "\u001b[36m(DefaultActor pid=27996)\u001b[0m save graph in  results/FL/\n"
     ]
    },
    {
     "name": "stderr",
     "output_type": "stream",
     "text": [
      "100%|\u001b[34m██████████\u001b[0m| 10/10 [00:23<00:00,  2.37s/it]\n",
      "100%|\u001b[34m██████████\u001b[0m| 10/10 [00:23<00:00,  2.35s/it]\n",
      "100%|\u001b[34m██████████\u001b[0m| 10/10 [00:23<00:00,  2.37s/it]\n",
      "100%|\u001b[34m██████████\u001b[0m| 10/10 [00:23<00:00,  2.37s/it]\n",
      "100%|\u001b[34m██████████\u001b[0m| 10/10 [00:23<00:00,  2.37s/it]\n",
      "100%|\u001b[34m██████████\u001b[0m| 10/10 [00:23<00:00,  2.38s/it]\n",
      "100%|\u001b[34m██████████\u001b[0m| 10/10 [00:23<00:00,  2.38s/it]\n",
      "100%|\u001b[34m██████████\u001b[0m| 10/10 [00:24<00:00,  2.41s/it]\n",
      "100%|\u001b[34m██████████\u001b[0m| 10/10 [00:24<00:00,  2.40s/it]\n",
      "100%|\u001b[34m██████████\u001b[0m| 10/10 [00:24<00:00,  2.41s/it]\n",
      "DEBUG flwr 2024-09-02 01:43:47,526 | server.py:236 | fit_round 15 received 10 results and 0 failures\n"
     ]
    },
    {
     "name": "stdout",
     "output_type": "stream",
     "text": [
      "Saving round 15 aggregated_parameters...\n",
      "Updated model\n"
     ]
    },
    {
     "name": "stderr",
     "output_type": "stream",
     "text": [
      "INFO flwr 2024-09-02 01:43:53,390 | server.py:125 | fit progress: (15, (1.670010277203151, 1.9965712513242448), {'accuracy': (67.41071428571429, 25.0)}, 463.71206474257633)\n",
      "DEBUG flwr 2024-09-02 01:43:53,391 | server.py:173 | evaluate_round 15: strategy sampled 10 clients (out of 10)\n"
     ]
    },
    {
     "name": "stdout",
     "output_type": "stream",
     "text": [
      "Server-side evaluation MRI loss 1.670010277203151 / MRI accuracy 67.41071428571429\n",
      "Server-side evaluation DNA loss 1.9965712513242448 / DNA accuracy 25.0\n",
      "\u001b[36m(DefaultActor pid=27994)\u001b[0m  To get the checkpoint\n",
      "\u001b[36m(DefaultActor pid=27997)\u001b[0m \tTrain Epoch: 10 \tTrain_loss_mri: 0.0205 | Train_acc_mri: 100.0000 | Train_loss_dna: 1.2816 | Train_acc_dna: 48.9583 | Validation_loss_mri: 2.9698 | Validation_acc_mri: 62.5000 | Validation_loss_dna: 2.2813 | Validation_acc_dna: 37.5000\u001b[32m [repeated 19x across cluster]\u001b[0m\n",
      "\u001b[36m(DefaultActor pid=27997)\u001b[0m save graph in  results/FL/\u001b[32m [repeated 9x across cluster]\u001b[0m\n",
      "\u001b[36m(DefaultActor pid=27997)\u001b[0m [Client 1] evaluate, config: {}\n",
      "\u001b[36m(DefaultActor pid=27997)\u001b[0m Updated model\n"
     ]
    },
    {
     "name": "stderr",
     "output_type": "stream",
     "text": [
      "\u001b[36m(DefaultActor pid=27994)\u001b[0m /tmp/ipykernel_26738/752934157.py:10: FutureWarning: You are using `torch.load` with `weights_only=False` (the current default value), which uses the default pickle module implicitly. It is possible to construct malicious pickle data which will execute arbitrary code during unpickling (See https://github.com/pytorch/pytorch/blob/main/SECURITY.md#untrusted-models for more details). In a future release, the default value for `weights_only` will be flipped to `True`. This limits the functions that could be executed during unpickling. Arbitrary objects will no longer be allowed to be loaded via this mode unless they are explicitly allowlisted by the user via `torch.serialization.add_safe_globals`. We recommend you start setting `weights_only=True` for any use case where you don't have full control of the loaded file. Please open an issue on GitHub for any issues related to this experimental feature.\n",
      "\u001b[36m(DefaultActor pid=27994)\u001b[0m /home/cudaq/.local/lib/python3.10/site-packages/sklearn/metrics/_ranking.py:1183: UndefinedMetricWarning: No positive samples in y_true, true positive value should be meaningless\n",
      "\u001b[36m(DefaultActor pid=27994)\u001b[0m   warnings.warn(\n",
      "\u001b[36m(DefaultActor pid=27994)\u001b[0m /home/cudaq/.local/lib/python3.10/site-packages/sklearn/metrics/_ranking.py:1183: UndefinedMetricWarning: No positive samples in y_true, true positive value should be meaningless\n",
      "\u001b[36m(DefaultActor pid=27994)\u001b[0m   warnings.warn(\n",
      "DEBUG flwr 2024-09-02 01:43:54,721 | server.py:187 | evaluate_round 15 received 10 results and 0 failures\n",
      "DEBUG flwr 2024-09-02 01:43:54,722 | server.py:222 | fit_round 16: strategy sampled 10 clients (out of 10)\n",
      "\u001b[36m(DefaultActor pid=27996)\u001b[0m   return torch.load(io.BytesIO(b))\n",
      "  0%|\u001b[34m          \u001b[0m| 0/10 [00:00<?, ?it/s]\n"
     ]
    },
    {
     "name": "stdout",
     "output_type": "stream",
     "text": [
      "\u001b[36m(DefaultActor pid=27996)\u001b[0m [Client 0, round 16] fit, config: {'learning_rate': 0.003, 'batch_size': '32', 'server_round': 16, 'local_epochs': 10}\n"
     ]
    },
    {
     "name": "stderr",
     "output_type": "stream",
     "text": [
      " 10%|\u001b[34m█         \u001b[0m| 1/10 [00:02<00:19,  2.16s/it]\n",
      " 10%|\u001b[34m█         \u001b[0m| 1/10 [00:02<00:19,  2.11s/it]\n",
      " 10%|\u001b[34m█         \u001b[0m| 1/10 [00:02<00:18,  2.10s/it]\n",
      " 10%|\u001b[34m█         \u001b[0m| 1/10 [00:02<00:18,  2.11s/it]\n",
      " 10%|\u001b[34m█         \u001b[0m| 1/10 [00:02<00:19,  2.16s/it]\n",
      " 10%|\u001b[34m█         \u001b[0m| 1/10 [00:02<00:19,  2.17s/it]\n",
      " 10%|\u001b[34m█         \u001b[0m| 1/10 [00:02<00:18,  2.11s/it]\n",
      " 10%|\u001b[34m█         \u001b[0m| 1/10 [00:02<00:20,  2.23s/it]\n",
      " 10%|\u001b[34m█         \u001b[0m| 1/10 [00:02<00:19,  2.13s/it]\n",
      " 10%|\u001b[34m█         \u001b[0m| 1/10 [00:02<00:19,  2.15s/it]\n"
     ]
    },
    {
     "name": "stdout",
     "output_type": "stream",
     "text": [
      "\u001b[36m(DefaultActor pid=27997)\u001b[0m  To get the checkpoint\u001b[32m [repeated 19x across cluster]\u001b[0m\n",
      "\u001b[36m(DefaultActor pid=27995)\u001b[0m \tTrain Epoch: 2 \tTrain_loss_mri: 0.4495 | Train_acc_mri: 92.7083 | Train_loss_dna: 1.5020 | Train_acc_dna: 46.8750 | Validation_loss_mri: 1.2698 | Validation_acc_mri: 50.0000 | Validation_loss_dna: 1.9373 | Validation_acc_dna: 25.0000\u001b[32m [repeated 11x across cluster]\u001b[0m\n",
      "\u001b[36m(DefaultActor pid=28000)\u001b[0m [Client 4] evaluate, config: {}\u001b[32m [repeated 9x across cluster]\u001b[0m\n",
      "\u001b[36m(DefaultActor pid=27997)\u001b[0m Updated model\u001b[32m [repeated 19x across cluster]\u001b[0m\n"
     ]
    },
    {
     "name": "stderr",
     "output_type": "stream",
     "text": [
      " 20%|\u001b[34m██        \u001b[0m| 2/10 [00:04<00:16,  2.08s/it]\n",
      "\u001b[36m(DefaultActor pid=27997)\u001b[0m /tmp/ipykernel_26738/752934157.py:10: FutureWarning: You are using `torch.load` with `weights_only=False` (the current default value), which uses the default pickle module implicitly. It is possible to construct malicious pickle data which will execute arbitrary code during unpickling (See https://github.com/pytorch/pytorch/blob/main/SECURITY.md#untrusted-models for more details). In a future release, the default value for `weights_only` will be flipped to `True`. This limits the functions that could be executed during unpickling. Arbitrary objects will no longer be allowed to be loaded via this mode unless they are explicitly allowlisted by the user via `torch.serialization.add_safe_globals`. We recommend you start setting `weights_only=True` for any use case where you don't have full control of the loaded file. Please open an issue on GitHub for any issues related to this experimental feature.\u001b[32m [repeated 29x across cluster]\u001b[0m\n",
      " 20%|\u001b[34m██        \u001b[0m| 2/10 [00:04<00:17,  2.15s/it]\n",
      " 20%|\u001b[34m██        \u001b[0m| 2/10 [00:04<00:16,  2.11s/it]\n",
      " 20%|\u001b[34m██        \u001b[0m| 2/10 [00:04<00:17,  2.13s/it]\n",
      " 20%|\u001b[34m██        \u001b[0m| 2/10 [00:04<00:16,  2.09s/it]\n",
      "\u001b[36m(DefaultActor pid=28000)\u001b[0m /home/cudaq/.local/lib/python3.10/site-packages/sklearn/metrics/_ranking.py:1183: UndefinedMetricWarning: No positive samples in y_true, true positive value should be meaningless\u001b[32m [repeated 29x across cluster]\u001b[0m\n",
      "\u001b[36m(DefaultActor pid=28000)\u001b[0m   warnings.warn(\u001b[32m [repeated 29x across cluster]\u001b[0m\n",
      " 20%|\u001b[34m██        \u001b[0m| 2/10 [00:04<00:16,  2.12s/it]\n",
      " 20%|\u001b[34m██        \u001b[0m| 2/10 [00:04<00:17,  2.14s/it]\n",
      " 20%|\u001b[34m██        \u001b[0m| 2/10 [00:04<00:17,  2.14s/it]\n",
      " 20%|\u001b[34m██        \u001b[0m| 2/10 [00:04<00:17,  2.15s/it]\n",
      " 20%|\u001b[34m██        \u001b[0m| 2/10 [00:04<00:17,  2.20s/it]\n"
     ]
    },
    {
     "name": "stdout",
     "output_type": "stream",
     "text": [
      "\u001b[36m(DefaultActor pid=27997)\u001b[0m [Client 7, round 16] fit, config: {'learning_rate': 0.003, 'batch_size': '32', 'server_round': 16, 'local_epochs': 10}\u001b[32m [repeated 9x across cluster]\u001b[0m\n"
     ]
    },
    {
     "name": "stderr",
     "output_type": "stream",
     "text": [
      " 30%|\u001b[34m███       \u001b[0m| 3/10 [00:06<00:14,  2.08s/it]\n",
      "\u001b[36m(DefaultActor pid=27997)\u001b[0m   return torch.load(io.BytesIO(b))\u001b[32m [repeated 9x across cluster]\u001b[0m\n",
      "  0%|\u001b[34m          \u001b[0m| 0/10 [00:00<?, ?it/s]\u001b[32m [repeated 9x across cluster]\u001b[0m\n",
      " 30%|\u001b[34m███       \u001b[0m| 3/10 [00:06<00:14,  2.10s/it]\n",
      " 30%|\u001b[34m███       \u001b[0m| 3/10 [00:06<00:14,  2.14s/it]\n",
      " 30%|\u001b[34m███       \u001b[0m| 3/10 [00:06<00:14,  2.13s/it]\n",
      " 30%|\u001b[34m███       \u001b[0m| 3/10 [00:06<00:14,  2.10s/it]\n",
      " 30%|\u001b[34m███       \u001b[0m| 3/10 [00:06<00:14,  2.12s/it]\n",
      " 30%|\u001b[34m███       \u001b[0m| 3/10 [00:06<00:14,  2.14s/it]\n",
      " 30%|\u001b[34m███       \u001b[0m| 3/10 [00:06<00:15,  2.15s/it]\n",
      " 30%|\u001b[34m███       \u001b[0m| 3/10 [00:06<00:15,  2.18s/it]\n",
      " 30%|\u001b[34m███       \u001b[0m| 3/10 [00:06<00:15,  2.17s/it]\n",
      " 40%|\u001b[34m████      \u001b[0m| 4/10 [00:08<00:12,  2.09s/it]\n",
      " 40%|\u001b[34m████      \u001b[0m| 4/10 [00:08<00:12,  2.10s/it]\n",
      " 40%|\u001b[34m████      \u001b[0m| 4/10 [00:08<00:12,  2.13s/it]\n",
      " 40%|\u001b[34m████      \u001b[0m| 4/10 [00:08<00:12,  2.09s/it]\n",
      " 40%|\u001b[34m████      \u001b[0m| 4/10 [00:08<00:12,  2.13s/it]\n",
      " 40%|\u001b[34m████      \u001b[0m| 4/10 [00:08<00:12,  2.10s/it]\n",
      " 40%|\u001b[34m████      \u001b[0m| 4/10 [00:08<00:12,  2.11s/it]\n",
      " 40%|\u001b[34m████      \u001b[0m| 4/10 [00:08<00:12,  2.15s/it]\n",
      " 40%|\u001b[34m████      \u001b[0m| 4/10 [00:08<00:12,  2.16s/it]\n",
      " 40%|\u001b[34m████      \u001b[0m| 4/10 [00:08<00:12,  2.16s/it]\n"
     ]
    },
    {
     "name": "stdout",
     "output_type": "stream",
     "text": [
      "\u001b[36m(DefaultActor pid=27995)\u001b[0m \tTrain Epoch: 5 \tTrain_loss_mri: 0.0695 | Train_acc_mri: 97.9167 | Train_loss_dna: 1.4960 | Train_acc_dna: 38.5417 | Validation_loss_mri: 1.6690 | Validation_acc_mri: 50.0000 | Validation_loss_dna: 2.0131 | Validation_acc_dna: 25.0000\u001b[32m [repeated 30x across cluster]\u001b[0m\n"
     ]
    },
    {
     "name": "stderr",
     "output_type": "stream",
     "text": [
      " 50%|\u001b[34m█████     \u001b[0m| 5/10 [00:10<00:10,  2.09s/it]\n",
      " 50%|\u001b[34m█████     \u001b[0m| 5/10 [00:10<00:10,  2.11s/it]\n",
      " 50%|\u001b[34m█████     \u001b[0m| 5/10 [00:10<00:10,  2.09s/it]\n",
      " 50%|\u001b[34m█████     \u001b[0m| 5/10 [00:10<00:10,  2.14s/it]\n",
      " 50%|\u001b[34m█████     \u001b[0m| 5/10 [00:10<00:10,  2.09s/it]\n",
      " 50%|\u001b[34m█████     \u001b[0m| 5/10 [00:10<00:10,  2.14s/it]\n",
      " 50%|\u001b[34m█████     \u001b[0m| 5/10 [00:10<00:10,  2.11s/it]\n",
      " 50%|\u001b[34m█████     \u001b[0m| 5/10 [00:10<00:10,  2.15s/it]\n",
      " 50%|\u001b[34m█████     \u001b[0m| 5/10 [00:10<00:10,  2.14s/it]\n",
      " 50%|\u001b[34m█████     \u001b[0m| 5/10 [00:10<00:10,  2.16s/it]\n",
      " 60%|\u001b[34m██████    \u001b[0m| 6/10 [00:12<00:08,  2.09s/it]\n",
      " 60%|\u001b[34m██████    \u001b[0m| 6/10 [00:12<00:08,  2.11s/it]\n",
      " 60%|\u001b[34m██████    \u001b[0m| 6/10 [00:12<00:08,  2.13s/it]\n",
      " 60%|\u001b[34m██████    \u001b[0m| 6/10 [00:12<00:08,  2.08s/it]\n",
      " 60%|\u001b[34m██████    \u001b[0m| 6/10 [00:12<00:08,  2.13s/it]\n",
      " 60%|\u001b[34m██████    \u001b[0m| 6/10 [00:12<00:08,  2.09s/it]\n",
      " 60%|\u001b[34m██████    \u001b[0m| 6/10 [00:12<00:08,  2.11s/it]\n",
      " 60%|\u001b[34m██████    \u001b[0m| 6/10 [00:12<00:08,  2.14s/it]\n",
      " 60%|\u001b[34m██████    \u001b[0m| 6/10 [00:12<00:08,  2.12s/it]\n",
      " 60%|\u001b[34m██████    \u001b[0m| 6/10 [00:12<00:08,  2.16s/it]\n",
      " 70%|\u001b[34m███████   \u001b[0m| 7/10 [00:14<00:06,  2.08s/it]\n",
      " 70%|\u001b[34m███████   \u001b[0m| 7/10 [00:14<00:06,  2.10s/it]\n",
      " 70%|\u001b[34m███████   \u001b[0m| 7/10 [00:14<00:06,  2.08s/it]\n",
      " 70%|\u001b[34m███████   \u001b[0m| 7/10 [00:14<00:06,  2.08s/it]\n",
      " 70%|\u001b[34m███████   \u001b[0m| 7/10 [00:14<00:06,  2.11s/it]\n",
      " 70%|\u001b[34m███████   \u001b[0m| 7/10 [00:14<00:06,  2.13s/it]\n",
      " 70%|\u001b[34m███████   \u001b[0m| 7/10 [00:14<00:06,  2.12s/it]\n",
      " 70%|\u001b[34m███████   \u001b[0m| 7/10 [00:14<00:06,  2.10s/it]\n",
      " 70%|\u001b[34m███████   \u001b[0m| 7/10 [00:15<00:06,  2.14s/it]\n",
      " 70%|\u001b[34m███████   \u001b[0m| 7/10 [00:15<00:06,  2.15s/it]\n"
     ]
    },
    {
     "name": "stdout",
     "output_type": "stream",
     "text": [
      "\u001b[36m(DefaultActor pid=27995)\u001b[0m \tTrain Epoch: 8 \tTrain_loss_mri: 0.0394 | Train_acc_mri: 100.0000 | Train_loss_dna: 1.3626 | Train_acc_dna: 45.8333 | Validation_loss_mri: 3.3430 | Validation_acc_mri: 37.5000 | Validation_loss_dna: 1.8512 | Validation_acc_dna: 37.5000\u001b[32m [repeated 30x across cluster]\u001b[0m\n"
     ]
    },
    {
     "name": "stderr",
     "output_type": "stream",
     "text": [
      " 80%|\u001b[34m████████  \u001b[0m| 8/10 [00:16<00:04,  2.09s/it]\n",
      " 80%|\u001b[34m████████  \u001b[0m| 8/10 [00:16<00:04,  2.10s/it]\n",
      " 80%|\u001b[34m████████  \u001b[0m| 8/10 [00:16<00:04,  2.10s/it]\n",
      " 80%|\u001b[34m████████  \u001b[0m| 8/10 [00:16<00:04,  2.08s/it]\n",
      " 80%|\u001b[34m████████  \u001b[0m| 8/10 [00:16<00:04,  2.10s/it]\n",
      " 80%|\u001b[34m████████  \u001b[0m| 8/10 [00:17<00:04,  2.13s/it]\n",
      " 80%|\u001b[34m████████  \u001b[0m| 8/10 [00:17<00:04,  2.12s/it]\n",
      " 80%|\u001b[34m████████  \u001b[0m| 8/10 [00:17<00:04,  2.11s/it]\n",
      " 80%|\u001b[34m████████  \u001b[0m| 8/10 [00:17<00:04,  2.14s/it]\n",
      " 80%|\u001b[34m████████  \u001b[0m| 8/10 [00:17<00:04,  2.15s/it]\n",
      " 90%|\u001b[34m█████████ \u001b[0m| 9/10 [00:18<00:02,  2.08s/it]\n",
      " 90%|\u001b[34m█████████ \u001b[0m| 9/10 [00:18<00:02,  2.10s/it]\n",
      " 90%|\u001b[34m█████████ \u001b[0m| 9/10 [00:18<00:02,  2.07s/it]\n",
      " 90%|\u001b[34m█████████ \u001b[0m| 9/10 [00:18<00:02,  2.08s/it]\n",
      " 90%|\u001b[34m█████████ \u001b[0m| 9/10 [00:18<00:02,  2.11s/it]\n",
      " 90%|\u001b[34m█████████ \u001b[0m| 9/10 [00:19<00:02,  2.12s/it]\n",
      " 90%|\u001b[34m█████████ \u001b[0m| 9/10 [00:19<00:02,  2.13s/it]\n",
      " 90%|\u001b[34m█████████ \u001b[0m| 9/10 [00:19<00:02,  2.09s/it]\n",
      " 90%|\u001b[34m█████████ \u001b[0m| 9/10 [00:19<00:02,  2.13s/it]\n",
      " 90%|\u001b[34m█████████ \u001b[0m| 9/10 [00:19<00:02,  2.13s/it]\n"
     ]
    },
    {
     "name": "stdout",
     "output_type": "stream",
     "text": [
      "\u001b[36m(DefaultActor pid=27995)\u001b[0m save graph in  results/FL/\n"
     ]
    },
    {
     "name": "stderr",
     "output_type": "stream",
     "text": [
      "100%|\u001b[34m██████████\u001b[0m| 10/10 [00:20<00:00,  2.08s/it]\n",
      "100%|\u001b[34m██████████\u001b[0m| 10/10 [00:21<00:00,  2.10s/it]\n",
      "100%|\u001b[34m██████████\u001b[0m| 10/10 [00:20<00:00,  2.09s/it]\n",
      "100%|\u001b[34m██████████\u001b[0m| 10/10 [00:21<00:00,  2.10s/it]\n",
      "100%|\u001b[34m██████████\u001b[0m| 10/10 [00:20<00:00,  2.10s/it]\n",
      "100%|\u001b[34m██████████\u001b[0m| 10/10 [00:21<00:00,  2.13s/it]\n",
      "100%|\u001b[34m██████████\u001b[0m| 10/10 [00:21<00:00,  2.12s/it]\n",
      "100%|\u001b[34m██████████\u001b[0m| 10/10 [00:21<00:00,  2.12s/it]\n",
      "100%|\u001b[34m██████████\u001b[0m| 10/10 [00:21<00:00,  2.13s/it]\n",
      "100%|\u001b[34m██████████\u001b[0m| 10/10 [00:21<00:00,  2.14s/it]\n",
      "DEBUG flwr 2024-09-02 01:44:16,981 | server.py:236 | fit_round 16 received 10 results and 0 failures\n"
     ]
    },
    {
     "name": "stdout",
     "output_type": "stream",
     "text": [
      "Saving round 16 aggregated_parameters...\n",
      "Updated model\n"
     ]
    },
    {
     "name": "stderr",
     "output_type": "stream",
     "text": [
      "INFO flwr 2024-09-02 01:44:22,582 | server.py:125 | fit progress: (16, (1.7521859492574419, 2.0540332283292497), {'accuracy': (69.19642857142857, 24.107142857142858)}, 492.9035020195879)\n",
      "DEBUG flwr 2024-09-02 01:44:22,583 | server.py:173 | evaluate_round 16: strategy sampled 10 clients (out of 10)\n"
     ]
    },
    {
     "name": "stdout",
     "output_type": "stream",
     "text": [
      "Server-side evaluation MRI loss 1.7521859492574419 / MRI accuracy 69.19642857142857\n",
      "Server-side evaluation DNA loss 2.0540332283292497 / DNA accuracy 24.107142857142858\n",
      "\u001b[36m(DefaultActor pid=27997)\u001b[0m  To get the checkpoint\n",
      "\u001b[36m(DefaultActor pid=27997)\u001b[0m [Client 2] evaluate, config: {}\n",
      "\u001b[36m(DefaultActor pid=27997)\u001b[0m Updated model\n",
      "\u001b[36m(DefaultActor pid=27997)\u001b[0m \tTrain Epoch: 10 \tTrain_loss_mri: 0.0588 | Train_acc_mri: 97.9167 | Train_loss_dna: 1.3746 | Train_acc_dna: 48.9583 | Validation_loss_mri: 6.4412 | Validation_acc_mri: 50.0000 | Validation_loss_dna: 1.9032 | Validation_acc_dna: 25.0000\u001b[32m [repeated 29x across cluster]\u001b[0m\n",
      "\u001b[36m(DefaultActor pid=27997)\u001b[0m save graph in  results/FL/\u001b[32m [repeated 9x across cluster]\u001b[0m\n"
     ]
    },
    {
     "name": "stderr",
     "output_type": "stream",
     "text": [
      "\u001b[36m(DefaultActor pid=27997)\u001b[0m /tmp/ipykernel_26738/752934157.py:10: FutureWarning: You are using `torch.load` with `weights_only=False` (the current default value), which uses the default pickle module implicitly. It is possible to construct malicious pickle data which will execute arbitrary code during unpickling (See https://github.com/pytorch/pytorch/blob/main/SECURITY.md#untrusted-models for more details). In a future release, the default value for `weights_only` will be flipped to `True`. This limits the functions that could be executed during unpickling. Arbitrary objects will no longer be allowed to be loaded via this mode unless they are explicitly allowlisted by the user via `torch.serialization.add_safe_globals`. We recommend you start setting `weights_only=True` for any use case where you don't have full control of the loaded file. Please open an issue on GitHub for any issues related to this experimental feature.\n",
      "\u001b[36m(DefaultActor pid=27997)\u001b[0m /home/cudaq/.local/lib/python3.10/site-packages/sklearn/metrics/_ranking.py:1183: UndefinedMetricWarning: No positive samples in y_true, true positive value should be meaningless\n",
      "\u001b[36m(DefaultActor pid=27997)\u001b[0m   warnings.warn(\n",
      "DEBUG flwr 2024-09-02 01:44:23,786 | server.py:187 | evaluate_round 16 received 10 results and 0 failures\n",
      "DEBUG flwr 2024-09-02 01:44:23,787 | server.py:222 | fit_round 17: strategy sampled 10 clients (out of 10)\n",
      "\u001b[36m(DefaultActor pid=27994)\u001b[0m   return torch.load(io.BytesIO(b))\n",
      "  0%|\u001b[34m          \u001b[0m| 0/10 [00:00<?, ?it/s]\n"
     ]
    },
    {
     "name": "stdout",
     "output_type": "stream",
     "text": [
      "\u001b[36m(DefaultActor pid=27995)\u001b[0m [Client 6, round 17] fit, config: {'learning_rate': 0.003, 'batch_size': '32', 'server_round': 17, 'local_epochs': 10}\n"
     ]
    },
    {
     "name": "stderr",
     "output_type": "stream",
     "text": [
      " 10%|\u001b[34m█         \u001b[0m| 1/10 [00:02<00:18,  2.04s/it]\n",
      " 10%|\u001b[34m█         \u001b[0m| 1/10 [00:02<00:18,  2.07s/it]\n",
      " 10%|\u001b[34m█         \u001b[0m| 1/10 [00:02<00:19,  2.11s/it]\n",
      " 10%|\u001b[34m█         \u001b[0m| 1/10 [00:02<00:19,  2.13s/it]\n",
      " 10%|\u001b[34m█         \u001b[0m| 1/10 [00:02<00:18,  2.07s/it]\n",
      " 10%|\u001b[34m█         \u001b[0m| 1/10 [00:02<00:20,  2.27s/it]\n",
      " 10%|\u001b[34m█         \u001b[0m| 1/10 [00:02<00:18,  2.11s/it]\n",
      " 10%|\u001b[34m█         \u001b[0m| 1/10 [00:02<00:18,  2.05s/it]\n",
      " 10%|\u001b[34m█         \u001b[0m| 1/10 [00:02<00:19,  2.13s/it]\n",
      " 10%|\u001b[34m█         \u001b[0m| 1/10 [00:02<00:19,  2.15s/it]\n"
     ]
    },
    {
     "name": "stdout",
     "output_type": "stream",
     "text": [
      "\u001b[36m(DefaultActor pid=27998)\u001b[0m  To get the checkpoint\u001b[32m [repeated 19x across cluster]\u001b[0m\n",
      "\u001b[36m(DefaultActor pid=28000)\u001b[0m [Client 9] evaluate, config: {}\u001b[32m [repeated 9x across cluster]\u001b[0m\n",
      "\u001b[36m(DefaultActor pid=27997)\u001b[0m Updated model\u001b[32m [repeated 19x across cluster]\u001b[0m\n",
      "\u001b[36m(DefaultActor pid=27995)\u001b[0m \tTrain Epoch: 2 \tTrain_loss_mri: 0.1487 | Train_acc_mri: 96.8750 | Train_loss_dna: 1.3391 | Train_acc_dna: 55.2083 | Validation_loss_mri: 4.2564 | Validation_acc_mri: 50.0000 | Validation_loss_dna: 1.6471 | Validation_acc_dna: 37.5000\u001b[32m [repeated 11x across cluster]\u001b[0m\n"
     ]
    },
    {
     "name": "stderr",
     "output_type": "stream",
     "text": [
      " 20%|\u001b[34m██        \u001b[0m| 2/10 [00:04<00:16,  2.04s/it]\n",
      "\u001b[36m(DefaultActor pid=27998)\u001b[0m /tmp/ipykernel_26738/752934157.py:10: FutureWarning: You are using `torch.load` with `weights_only=False` (the current default value), which uses the default pickle module implicitly. It is possible to construct malicious pickle data which will execute arbitrary code during unpickling (See https://github.com/pytorch/pytorch/blob/main/SECURITY.md#untrusted-models for more details). In a future release, the default value for `weights_only` will be flipped to `True`. This limits the functions that could be executed during unpickling. Arbitrary objects will no longer be allowed to be loaded via this mode unless they are explicitly allowlisted by the user via `torch.serialization.add_safe_globals`. We recommend you start setting `weights_only=True` for any use case where you don't have full control of the loaded file. Please open an issue on GitHub for any issues related to this experimental feature.\u001b[32m [repeated 29x across cluster]\u001b[0m\n",
      " 20%|\u001b[34m██        \u001b[0m| 2/10 [00:04<00:16,  2.07s/it]\n",
      " 20%|\u001b[34m██        \u001b[0m| 2/10 [00:04<00:16,  2.10s/it]\n",
      "\u001b[36m(DefaultActor pid=27995)\u001b[0m /home/cudaq/.local/lib/python3.10/site-packages/sklearn/metrics/_ranking.py:1183: UndefinedMetricWarning: No positive samples in y_true, true positive value should be meaningless\u001b[32m [repeated 30x across cluster]\u001b[0m\n",
      "\u001b[36m(DefaultActor pid=27995)\u001b[0m   warnings.warn(\u001b[32m [repeated 30x across cluster]\u001b[0m\n",
      " 20%|\u001b[34m██        \u001b[0m| 2/10 [00:04<00:16,  2.10s/it]\n",
      " 20%|\u001b[34m██        \u001b[0m| 2/10 [00:04<00:16,  2.07s/it]\n",
      " 20%|\u001b[34m██        \u001b[0m| 2/10 [00:04<00:16,  2.08s/it]\n",
      " 20%|\u001b[34m██        \u001b[0m| 2/10 [00:04<00:16,  2.11s/it]\n",
      " 20%|\u001b[34m██        \u001b[0m| 2/10 [00:04<00:17,  2.22s/it]\n",
      " 20%|\u001b[34m██        \u001b[0m| 2/10 [00:04<00:17,  2.13s/it]\n",
      " 20%|\u001b[34m██        \u001b[0m| 2/10 [00:04<00:16,  2.12s/it]\n"
     ]
    },
    {
     "name": "stdout",
     "output_type": "stream",
     "text": [
      "\u001b[36m(DefaultActor pid=28002)\u001b[0m [Client 1, round 17] fit, config: {'learning_rate': 0.003, 'batch_size': '32', 'server_round': 17, 'local_epochs': 10}\u001b[32m [repeated 9x across cluster]\u001b[0m\n"
     ]
    },
    {
     "name": "stderr",
     "output_type": "stream",
     "text": [
      " 30%|\u001b[34m███       \u001b[0m| 3/10 [00:06<00:14,  2.03s/it]\n",
      "\u001b[36m(DefaultActor pid=27997)\u001b[0m   return torch.load(io.BytesIO(b))\u001b[32m [repeated 9x across cluster]\u001b[0m\n",
      "  0%|\u001b[34m          \u001b[0m| 0/10 [00:00<?, ?it/s]\u001b[32m [repeated 9x across cluster]\u001b[0m\n",
      " 30%|\u001b[34m███       \u001b[0m| 3/10 [00:06<00:14,  2.09s/it]\n",
      " 30%|\u001b[34m███       \u001b[0m| 3/10 [00:06<00:14,  2.09s/it]\n",
      " 30%|\u001b[34m███       \u001b[0m| 3/10 [00:06<00:14,  2.11s/it]\n",
      " 30%|\u001b[34m███       \u001b[0m| 3/10 [00:06<00:14,  2.08s/it]\n",
      " 30%|\u001b[34m███       \u001b[0m| 3/10 [00:06<00:14,  2.12s/it]\n",
      " 30%|\u001b[34m███       \u001b[0m| 3/10 [00:06<00:14,  2.09s/it]\n",
      " 30%|\u001b[34m███       \u001b[0m| 3/10 [00:06<00:14,  2.11s/it]\n",
      " 30%|\u001b[34m███       \u001b[0m| 3/10 [00:06<00:15,  2.19s/it]\n",
      " 30%|\u001b[34m███       \u001b[0m| 3/10 [00:06<00:14,  2.13s/it]\n",
      " 40%|\u001b[34m████      \u001b[0m| 4/10 [00:08<00:12,  2.06s/it]\n",
      " 40%|\u001b[34m████      \u001b[0m| 4/10 [00:08<00:12,  2.09s/it]\n",
      " 40%|\u001b[34m████      \u001b[0m| 4/10 [00:08<00:12,  2.08s/it]\n",
      " 40%|\u001b[34m████      \u001b[0m| 4/10 [00:08<00:12,  2.10s/it]\n",
      " 40%|\u001b[34m████      \u001b[0m| 4/10 [00:08<00:12,  2.11s/it]\n",
      " 40%|\u001b[34m████      \u001b[0m| 4/10 [00:08<00:12,  2.09s/it]\n",
      " 40%|\u001b[34m████      \u001b[0m| 4/10 [00:08<00:12,  2.11s/it]\n",
      " 40%|\u001b[34m████      \u001b[0m| 4/10 [00:08<00:12,  2.11s/it]\n",
      " 40%|\u001b[34m████      \u001b[0m| 4/10 [00:08<00:13,  2.19s/it]\n",
      " 40%|\u001b[34m████      \u001b[0m| 4/10 [00:08<00:12,  2.15s/it]\n"
     ]
    },
    {
     "name": "stdout",
     "output_type": "stream",
     "text": [
      "\u001b[36m(DefaultActor pid=27995)\u001b[0m \tTrain Epoch: 5 \tTrain_loss_mri: 0.0545 | Train_acc_mri: 100.0000 | Train_loss_dna: 1.3386 | Train_acc_dna: 51.0417 | Validation_loss_mri: 2.6902 | Validation_acc_mri: 62.5000 | Validation_loss_dna: 2.0483 | Validation_acc_dna: 37.5000\u001b[32m [repeated 30x across cluster]\u001b[0m\n"
     ]
    },
    {
     "name": "stderr",
     "output_type": "stream",
     "text": [
      " 50%|\u001b[34m█████     \u001b[0m| 5/10 [00:10<00:10,  2.09s/it]\n",
      " 50%|\u001b[34m█████     \u001b[0m| 5/10 [00:10<00:10,  2.13s/it]\n",
      " 50%|\u001b[34m█████     \u001b[0m| 5/10 [00:10<00:10,  2.11s/it]\n",
      " 50%|\u001b[34m█████     \u001b[0m| 5/10 [00:10<00:10,  2.13s/it]\n",
      " 50%|\u001b[34m█████     \u001b[0m| 5/10 [00:10<00:10,  2.14s/it]\n",
      " 50%|\u001b[34m█████     \u001b[0m| 5/10 [00:10<00:10,  2.11s/it]\n",
      " 50%|\u001b[34m█████     \u001b[0m| 5/10 [00:10<00:10,  2.12s/it]\n",
      " 50%|\u001b[34m█████     \u001b[0m| 5/10 [00:10<00:10,  2.12s/it]\n",
      " 50%|\u001b[34m█████     \u001b[0m| 5/10 [00:10<00:10,  2.17s/it]\n",
      " 50%|\u001b[34m█████     \u001b[0m| 5/10 [00:10<00:10,  2.16s/it]\n",
      " 60%|\u001b[34m██████    \u001b[0m| 6/10 [00:12<00:08,  2.09s/it]\n",
      " 60%|\u001b[34m██████    \u001b[0m| 6/10 [00:12<00:08,  2.12s/it]\n",
      " 60%|\u001b[34m██████    \u001b[0m| 6/10 [00:12<00:08,  2.12s/it]\n",
      " 60%|\u001b[34m██████    \u001b[0m| 6/10 [00:12<00:08,  2.10s/it]\n",
      " 60%|\u001b[34m██████    \u001b[0m| 6/10 [00:12<00:08,  2.09s/it]\n",
      " 60%|\u001b[34m██████    \u001b[0m| 6/10 [00:12<00:08,  2.10s/it]\n",
      " 60%|\u001b[34m██████    \u001b[0m| 6/10 [00:12<00:08,  2.13s/it]\n",
      " 60%|\u001b[34m██████    \u001b[0m| 6/10 [00:12<00:08,  2.10s/it]\n",
      " 60%|\u001b[34m██████    \u001b[0m| 6/10 [00:13<00:08,  2.14s/it]\n",
      " 60%|\u001b[34m██████    \u001b[0m| 6/10 [00:12<00:08,  2.14s/it]\n",
      " 70%|\u001b[34m███████   \u001b[0m| 7/10 [00:14<00:06,  2.08s/it]\n",
      " 70%|\u001b[34m███████   \u001b[0m| 7/10 [00:14<00:06,  2.11s/it]\n",
      " 70%|\u001b[34m███████   \u001b[0m| 7/10 [00:14<00:06,  2.11s/it]\n",
      " 70%|\u001b[34m███████   \u001b[0m| 7/10 [00:14<00:06,  2.09s/it]\n",
      " 70%|\u001b[34m███████   \u001b[0m| 7/10 [00:14<00:06,  2.09s/it]\n",
      " 70%|\u001b[34m███████   \u001b[0m| 7/10 [00:14<00:06,  2.09s/it]\n",
      " 70%|\u001b[34m███████   \u001b[0m| 7/10 [00:14<00:06,  2.13s/it]\n",
      " 70%|\u001b[34m███████   \u001b[0m| 7/10 [00:14<00:06,  2.10s/it]\n",
      " 70%|\u001b[34m███████   \u001b[0m| 7/10 [00:15<00:06,  2.12s/it]\n",
      " 70%|\u001b[34m███████   \u001b[0m| 7/10 [00:14<00:06,  2.13s/it]\n"
     ]
    },
    {
     "name": "stdout",
     "output_type": "stream",
     "text": [
      "\u001b[36m(DefaultActor pid=27995)\u001b[0m \tTrain Epoch: 8 \tTrain_loss_mri: 0.0309 | Train_acc_mri: 100.0000 | Train_loss_dna: 1.2517 | Train_acc_dna: 42.7083 | Validation_loss_mri: 1.3324 | Validation_acc_mri: 50.0000 | Validation_loss_dna: 2.3835 | Validation_acc_dna: 37.5000\u001b[32m [repeated 30x across cluster]\u001b[0m\n"
     ]
    },
    {
     "name": "stderr",
     "output_type": "stream",
     "text": [
      " 80%|\u001b[34m████████  \u001b[0m| 8/10 [00:16<00:04,  2.08s/it]\n",
      " 80%|\u001b[34m████████  \u001b[0m| 8/10 [00:16<00:04,  2.12s/it]\n",
      " 80%|\u001b[34m████████  \u001b[0m| 8/10 [00:16<00:04,  2.08s/it]\n",
      " 80%|\u001b[34m████████  \u001b[0m| 8/10 [00:16<00:04,  2.11s/it]\n",
      " 80%|\u001b[34m████████  \u001b[0m| 8/10 [00:16<00:04,  2.08s/it]\n",
      " 80%|\u001b[34m████████  \u001b[0m| 8/10 [00:16<00:04,  2.09s/it]\n",
      " 80%|\u001b[34m████████  \u001b[0m| 8/10 [00:16<00:04,  2.13s/it]\n",
      " 80%|\u001b[34m████████  \u001b[0m| 8/10 [00:16<00:04,  2.10s/it]\n",
      " 80%|\u001b[34m████████  \u001b[0m| 8/10 [00:17<00:04,  2.12s/it]\n",
      " 80%|\u001b[34m████████  \u001b[0m| 8/10 [00:17<00:04,  2.13s/it]\n",
      " 90%|\u001b[34m█████████ \u001b[0m| 9/10 [00:18<00:02,  2.07s/it]\n",
      " 90%|\u001b[34m█████████ \u001b[0m| 9/10 [00:18<00:02,  2.08s/it]\n",
      " 90%|\u001b[34m█████████ \u001b[0m| 9/10 [00:18<00:02,  2.11s/it]\n",
      " 90%|\u001b[34m█████████ \u001b[0m| 9/10 [00:18<00:02,  2.07s/it]\n",
      " 90%|\u001b[34m█████████ \u001b[0m| 9/10 [00:18<00:02,  2.08s/it]\n",
      " 90%|\u001b[34m█████████ \u001b[0m| 9/10 [00:18<00:02,  2.11s/it]\n",
      " 90%|\u001b[34m█████████ \u001b[0m| 9/10 [00:19<00:02,  2.10s/it]\n",
      " 90%|\u001b[34m█████████ \u001b[0m| 9/10 [00:18<00:02,  2.09s/it]\n",
      " 90%|\u001b[34m█████████ \u001b[0m| 9/10 [00:19<00:02,  2.11s/it]\n",
      " 90%|\u001b[34m█████████ \u001b[0m| 9/10 [00:19<00:02,  2.12s/it]\n"
     ]
    },
    {
     "name": "stdout",
     "output_type": "stream",
     "text": [
      "\u001b[36m(DefaultActor pid=27995)\u001b[0m save graph in  results/FL/\n"
     ]
    },
    {
     "name": "stderr",
     "output_type": "stream",
     "text": [
      "100%|\u001b[34m██████████\u001b[0m| 10/10 [00:20<00:00,  2.07s/it]\n",
      "100%|\u001b[34m██████████\u001b[0m| 10/10 [00:21<00:00,  2.10s/it]\n",
      "100%|\u001b[34m██████████\u001b[0m| 10/10 [00:20<00:00,  2.09s/it]\n",
      "100%|\u001b[34m██████████\u001b[0m| 10/10 [00:21<00:00,  2.10s/it]\n",
      "100%|\u001b[34m██████████\u001b[0m| 10/10 [00:20<00:00,  2.08s/it]\n",
      "100%|\u001b[34m██████████\u001b[0m| 10/10 [00:21<00:00,  2.11s/it]\n",
      "100%|\u001b[34m██████████\u001b[0m| 10/10 [00:20<00:00,  2.09s/it]\n",
      "100%|\u001b[34m██████████\u001b[0m| 10/10 [00:20<00:00,  2.10s/it]\n",
      "100%|\u001b[34m██████████\u001b[0m| 10/10 [00:21<00:00,  2.13s/it]\n"
     ]
    },
    {
     "name": "stdout",
     "output_type": "stream",
     "text": [
      "\u001b[36m(DefaultActor pid=27997)\u001b[0m \tTrain Epoch: 10 \tTrain_loss_mri: 0.0226 | Train_acc_mri: 100.0000 | Train_loss_dna: 1.1509 | Train_acc_dna: 60.4167 | Validation_loss_mri: 4.1937 | Validation_acc_mri: 62.5000 | Validation_loss_dna: 2.6224 | Validation_acc_dna: 12.5000\u001b[32m [repeated 29x across cluster]\u001b[0m\n"
     ]
    },
    {
     "name": "stderr",
     "output_type": "stream",
     "text": [
      "100%|\u001b[34m██████████\u001b[0m| 10/10 [00:21<00:00,  2.13s/it]\n",
      "DEBUG flwr 2024-09-02 01:44:45,913 | server.py:236 | fit_round 17 received 10 results and 0 failures\n"
     ]
    },
    {
     "name": "stdout",
     "output_type": "stream",
     "text": [
      "Saving round 17 aggregated_parameters...\n",
      "Updated model\n"
     ]
    },
    {
     "name": "stderr",
     "output_type": "stream",
     "text": [
      "INFO flwr 2024-09-02 01:44:51,282 | server.py:125 | fit progress: (17, (1.8843453185898917, 2.1146159512656078), {'accuracy': (68.75, 22.321428571428573)}, 521.6040600519627)\n",
      "DEBUG flwr 2024-09-02 01:44:51,283 | server.py:173 | evaluate_round 17: strategy sampled 10 clients (out of 10)\n"
     ]
    },
    {
     "name": "stdout",
     "output_type": "stream",
     "text": [
      "Server-side evaluation MRI loss 1.8843453185898917 / MRI accuracy 68.75\n",
      "Server-side evaluation DNA loss 2.1146159512656078 / DNA accuracy 22.321428571428573\n",
      "\u001b[36m(DefaultActor pid=27994)\u001b[0m  To get the checkpoint\n",
      "\u001b[36m(DefaultActor pid=27994)\u001b[0m [Client 8] evaluate, config: {}\n",
      "\u001b[36m(DefaultActor pid=27994)\u001b[0m Updated model\n",
      "\u001b[36m(DefaultActor pid=27997)\u001b[0m save graph in  results/FL/\u001b[32m [repeated 9x across cluster]\u001b[0m\n"
     ]
    },
    {
     "name": "stderr",
     "output_type": "stream",
     "text": [
      "\u001b[36m(DefaultActor pid=27994)\u001b[0m /tmp/ipykernel_26738/752934157.py:10: FutureWarning: You are using `torch.load` with `weights_only=False` (the current default value), which uses the default pickle module implicitly. It is possible to construct malicious pickle data which will execute arbitrary code during unpickling (See https://github.com/pytorch/pytorch/blob/main/SECURITY.md#untrusted-models for more details). In a future release, the default value for `weights_only` will be flipped to `True`. This limits the functions that could be executed during unpickling. Arbitrary objects will no longer be allowed to be loaded via this mode unless they are explicitly allowlisted by the user via `torch.serialization.add_safe_globals`. We recommend you start setting `weights_only=True` for any use case where you don't have full control of the loaded file. Please open an issue on GitHub for any issues related to this experimental feature.\n",
      "\u001b[36m(DefaultActor pid=27994)\u001b[0m /home/cudaq/.local/lib/python3.10/site-packages/sklearn/metrics/_ranking.py:1183: UndefinedMetricWarning: No positive samples in y_true, true positive value should be meaningless\n",
      "\u001b[36m(DefaultActor pid=27994)\u001b[0m   warnings.warn(\n",
      "\u001b[36m(DefaultActor pid=27994)\u001b[0m /home/cudaq/.local/lib/python3.10/site-packages/sklearn/metrics/_ranking.py:1183: UndefinedMetricWarning: No positive samples in y_true, true positive value should be meaningless\n",
      "\u001b[36m(DefaultActor pid=27994)\u001b[0m   warnings.warn(\n",
      "DEBUG flwr 2024-09-02 01:44:52,834 | server.py:187 | evaluate_round 17 received 10 results and 0 failures\n",
      "DEBUG flwr 2024-09-02 01:44:52,835 | server.py:222 | fit_round 18: strategy sampled 10 clients (out of 10)\n",
      "\u001b[36m(DefaultActor pid=27995)\u001b[0m   return torch.load(io.BytesIO(b))\n",
      "  0%|\u001b[34m          \u001b[0m| 0/10 [00:00<?, ?it/s]\n"
     ]
    },
    {
     "name": "stdout",
     "output_type": "stream",
     "text": [
      "\u001b[36m(DefaultActor pid=27995)\u001b[0m [Client 9, round 18] fit, config: {'learning_rate': 0.003, 'batch_size': '32', 'server_round': 18, 'local_epochs': 10}\n",
      "\u001b[36m(DefaultActor pid=27995)\u001b[0m \tTrain Epoch: 1 \tTrain_loss_mri: 0.0595 | Train_acc_mri: 97.9167 | Train_loss_dna: 1.6196 | Train_acc_dna: 34.3750 | Validation_loss_mri: 0.1993 | Validation_acc_mri: 87.5000 | Validation_loss_dna: 3.0533 | Validation_acc_dna: 12.5000\n"
     ]
    },
    {
     "name": "stderr",
     "output_type": "stream",
     "text": [
      " 10%|\u001b[34m█         \u001b[0m| 1/10 [00:02<00:18,  2.08s/it]\n",
      " 10%|\u001b[34m█         \u001b[0m| 1/10 [00:02<00:18,  2.08s/it]\n",
      " 10%|\u001b[34m█         \u001b[0m| 1/10 [00:02<00:18,  2.10s/it]\n",
      " 10%|\u001b[34m█         \u001b[0m| 1/10 [00:02<00:19,  2.14s/it]\n",
      " 10%|\u001b[34m█         \u001b[0m| 1/10 [00:02<00:19,  2.20s/it]\n",
      " 10%|\u001b[34m█         \u001b[0m| 1/10 [00:02<00:18,  2.06s/it]\n",
      " 10%|\u001b[34m█         \u001b[0m| 1/10 [00:02<00:19,  2.11s/it]\n",
      " 10%|\u001b[34m█         \u001b[0m| 1/10 [00:02<00:18,  2.10s/it]\n",
      " 10%|\u001b[34m█         \u001b[0m| 1/10 [00:02<00:18,  2.08s/it]\n",
      " 10%|\u001b[34m█         \u001b[0m| 1/10 [00:02<00:20,  2.28s/it]\n"
     ]
    },
    {
     "name": "stdout",
     "output_type": "stream",
     "text": [
      "\u001b[36m(DefaultActor pid=27996)\u001b[0m  To get the checkpoint\u001b[32m [repeated 19x across cluster]\u001b[0m\n",
      "\u001b[36m(DefaultActor pid=28001)\u001b[0m [Client 0] evaluate, config: {}\u001b[32m [repeated 9x across cluster]\u001b[0m\n",
      "\u001b[36m(DefaultActor pid=28000)\u001b[0m Updated model\u001b[32m [repeated 19x across cluster]\u001b[0m\n"
     ]
    },
    {
     "name": "stderr",
     "output_type": "stream",
     "text": [
      " 20%|\u001b[34m██        \u001b[0m| 2/10 [00:04<00:16,  2.07s/it]\n",
      "\u001b[36m(DefaultActor pid=27996)\u001b[0m /tmp/ipykernel_26738/752934157.py:10: FutureWarning: You are using `torch.load` with `weights_only=False` (the current default value), which uses the default pickle module implicitly. It is possible to construct malicious pickle data which will execute arbitrary code during unpickling (See https://github.com/pytorch/pytorch/blob/main/SECURITY.md#untrusted-models for more details). In a future release, the default value for `weights_only` will be flipped to `True`. This limits the functions that could be executed during unpickling. Arbitrary objects will no longer be allowed to be loaded via this mode unless they are explicitly allowlisted by the user via `torch.serialization.add_safe_globals`. We recommend you start setting `weights_only=True` for any use case where you don't have full control of the loaded file. Please open an issue on GitHub for any issues related to this experimental feature.\u001b[32m [repeated 29x across cluster]\u001b[0m\n",
      "\u001b[36m(DefaultActor pid=27995)\u001b[0m /home/cudaq/.local/lib/python3.10/site-packages/sklearn/metrics/_ranking.py:1183: UndefinedMetricWarning: No positive samples in y_true, true positive value should be meaningless\u001b[32m [repeated 29x across cluster]\u001b[0m\n",
      "\u001b[36m(DefaultActor pid=27995)\u001b[0m   warnings.warn(\u001b[32m [repeated 29x across cluster]\u001b[0m\n",
      " 20%|\u001b[34m██        \u001b[0m| 2/10 [00:04<00:16,  2.06s/it]\n",
      " 20%|\u001b[34m██        \u001b[0m| 2/10 [00:04<00:16,  2.09s/it]\n",
      " 20%|\u001b[34m██        \u001b[0m| 2/10 [00:04<00:16,  2.10s/it]\n",
      " 20%|\u001b[34m██        \u001b[0m| 2/10 [00:04<00:17,  2.13s/it]\n",
      " 20%|\u001b[34m██        \u001b[0m| 2/10 [00:04<00:16,  2.08s/it]\n",
      " 20%|\u001b[34m██        \u001b[0m| 2/10 [00:04<00:16,  2.08s/it]\n",
      " 20%|\u001b[34m██        \u001b[0m| 2/10 [00:04<00:16,  2.08s/it]\n",
      " 20%|\u001b[34m██        \u001b[0m| 2/10 [00:04<00:16,  2.09s/it]\n",
      " 20%|\u001b[34m██        \u001b[0m| 2/10 [00:04<00:17,  2.21s/it]\n"
     ]
    },
    {
     "name": "stdout",
     "output_type": "stream",
     "text": [
      "\u001b[36m(DefaultActor pid=28000)\u001b[0m [Client 6, round 18] fit, config: {'learning_rate': 0.003, 'batch_size': '32', 'server_round': 18, 'local_epochs': 10}\u001b[32m [repeated 9x across cluster]\u001b[0m\n"
     ]
    },
    {
     "name": "stderr",
     "output_type": "stream",
     "text": [
      " 30%|\u001b[34m███       \u001b[0m| 3/10 [00:06<00:14,  2.06s/it]\n",
      "\u001b[36m(DefaultActor pid=27996)\u001b[0m   return torch.load(io.BytesIO(b))\u001b[32m [repeated 9x across cluster]\u001b[0m\n",
      "  0%|\u001b[34m          \u001b[0m| 0/10 [00:00<?, ?it/s]\u001b[32m [repeated 9x across cluster]\u001b[0m\n",
      " 30%|\u001b[34m███       \u001b[0m| 3/10 [00:06<00:14,  2.06s/it]\n",
      " 30%|\u001b[34m███       \u001b[0m| 3/10 [00:06<00:14,  2.10s/it]\n",
      " 30%|\u001b[34m███       \u001b[0m| 3/10 [00:06<00:14,  2.09s/it]\n",
      " 30%|\u001b[34m███       \u001b[0m| 3/10 [00:06<00:14,  2.11s/it]\n",
      " 30%|\u001b[34m███       \u001b[0m| 3/10 [00:06<00:14,  2.07s/it]\n",
      " 30%|\u001b[34m███       \u001b[0m| 3/10 [00:06<00:14,  2.08s/it]\n",
      " 30%|\u001b[34m███       \u001b[0m| 3/10 [00:06<00:14,  2.09s/it]\n",
      " 30%|\u001b[34m███       \u001b[0m| 3/10 [00:06<00:14,  2.09s/it]\n",
      " 30%|\u001b[34m███       \u001b[0m| 3/10 [00:06<00:15,  2.18s/it]\n"
     ]
    },
    {
     "name": "stdout",
     "output_type": "stream",
     "text": [
      "\u001b[36m(DefaultActor pid=27995)\u001b[0m \tTrain Epoch: 4 \tTrain_loss_mri: 0.3296 | Train_acc_mri: 93.7500 | Train_loss_dna: 1.4084 | Train_acc_dna: 39.5833 | Validation_loss_mri: 1.5033 | Validation_acc_mri: 62.5000 | Validation_loss_dna: 1.4157 | Validation_acc_dna: 37.5000\u001b[32m [repeated 30x across cluster]\u001b[0m\n"
     ]
    },
    {
     "name": "stderr",
     "output_type": "stream",
     "text": [
      " 40%|\u001b[34m████      \u001b[0m| 4/10 [00:08<00:12,  2.06s/it]\n",
      " 40%|\u001b[34m████      \u001b[0m| 4/10 [00:08<00:12,  2.07s/it]\n",
      " 40%|\u001b[34m████      \u001b[0m| 4/10 [00:08<00:12,  2.11s/it]\n",
      " 40%|\u001b[34m████      \u001b[0m| 4/10 [00:08<00:12,  2.08s/it]\n",
      " 40%|\u001b[34m████      \u001b[0m| 4/10 [00:08<00:12,  2.10s/it]\n",
      " 40%|\u001b[34m████      \u001b[0m| 4/10 [00:08<00:12,  2.07s/it]\n",
      " 40%|\u001b[34m████      \u001b[0m| 4/10 [00:08<00:12,  2.09s/it]\n",
      " 40%|\u001b[34m████      \u001b[0m| 4/10 [00:08<00:12,  2.08s/it]\n",
      " 40%|\u001b[34m████      \u001b[0m| 4/10 [00:08<00:12,  2.10s/it]\n",
      " 40%|\u001b[34m████      \u001b[0m| 4/10 [00:08<00:13,  2.19s/it]\n",
      " 50%|\u001b[34m█████     \u001b[0m| 5/10 [00:10<00:10,  2.08s/it]\n",
      " 50%|\u001b[34m█████     \u001b[0m| 5/10 [00:10<00:10,  2.07s/it]\n",
      " 50%|\u001b[34m█████     \u001b[0m| 5/10 [00:10<00:10,  2.08s/it]\n",
      " 50%|\u001b[34m█████     \u001b[0m| 5/10 [00:10<00:10,  2.10s/it]\n",
      " 50%|\u001b[34m█████     \u001b[0m| 5/10 [00:10<00:10,  2.11s/it]\n",
      " 50%|\u001b[34m█████     \u001b[0m| 5/10 [00:10<00:10,  2.08s/it]\n",
      " 50%|\u001b[34m█████     \u001b[0m| 5/10 [00:10<00:10,  2.08s/it]\n",
      " 50%|\u001b[34m█████     \u001b[0m| 5/10 [00:10<00:10,  2.11s/it]\n",
      " 50%|\u001b[34m█████     \u001b[0m| 5/10 [00:10<00:10,  2.10s/it]\n",
      " 50%|\u001b[34m█████     \u001b[0m| 5/10 [00:10<00:10,  2.16s/it]\n",
      " 60%|\u001b[34m██████    \u001b[0m| 6/10 [00:12<00:08,  2.07s/it]\n",
      " 60%|\u001b[34m██████    \u001b[0m| 6/10 [00:12<00:08,  2.09s/it]\n",
      " 60%|\u001b[34m██████    \u001b[0m| 6/10 [00:12<00:08,  2.11s/it]\n",
      " 60%|\u001b[34m██████    \u001b[0m| 6/10 [00:12<00:08,  2.09s/it]\n",
      " 60%|\u001b[34m██████    \u001b[0m| 6/10 [00:12<00:08,  2.10s/it]\n",
      " 60%|\u001b[34m██████    \u001b[0m| 6/10 [00:12<00:08,  2.10s/it]\n",
      " 60%|\u001b[34m██████    \u001b[0m| 6/10 [00:12<00:08,  2.08s/it]\n",
      " 60%|\u001b[34m██████    \u001b[0m| 6/10 [00:12<00:08,  2.10s/it]\n",
      " 60%|\u001b[34m██████    \u001b[0m| 6/10 [00:12<00:08,  2.11s/it]\n",
      " 60%|\u001b[34m██████    \u001b[0m| 6/10 [00:13<00:08,  2.16s/it]\n"
     ]
    },
    {
     "name": "stdout",
     "output_type": "stream",
     "text": [
      "\u001b[36m(DefaultActor pid=27999)\u001b[0m \tTrain Epoch: 7 \tTrain_loss_mri: 0.0810 | Train_acc_mri: 97.9167 | Train_loss_dna: 1.3530 | Train_acc_dna: 38.5417 | Validation_loss_mri: 0.4877 | Validation_acc_mri: 62.5000 | Validation_loss_dna: 2.5426 | Validation_acc_dna: 0.0000\u001b[32m [repeated 30x across cluster]\u001b[0m\n"
     ]
    },
    {
     "name": "stderr",
     "output_type": "stream",
     "text": [
      " 70%|\u001b[34m███████   \u001b[0m| 7/10 [00:14<00:06,  2.09s/it]\n",
      " 70%|\u001b[34m███████   \u001b[0m| 7/10 [00:14<00:06,  2.13s/it]\n",
      " 70%|\u001b[34m███████   \u001b[0m| 7/10 [00:14<00:06,  2.13s/it]\n",
      " 70%|\u001b[34m███████   \u001b[0m| 7/10 [00:14<00:06,  2.14s/it]\n",
      " 70%|\u001b[34m███████   \u001b[0m| 7/10 [00:14<00:06,  2.12s/it]\n",
      " 70%|\u001b[34m███████   \u001b[0m| 7/10 [00:14<00:06,  2.16s/it]\n",
      " 70%|\u001b[34m███████   \u001b[0m| 7/10 [00:14<00:06,  2.15s/it]\n",
      " 70%|\u001b[34m███████   \u001b[0m| 7/10 [00:14<00:06,  2.16s/it]\n",
      " 70%|\u001b[34m███████   \u001b[0m| 7/10 [00:14<00:06,  2.17s/it]\n",
      " 70%|\u001b[34m███████   \u001b[0m| 7/10 [00:15<00:06,  2.20s/it]\n",
      " 80%|\u001b[34m████████  \u001b[0m| 8/10 [00:16<00:04,  2.16s/it]\n",
      " 80%|\u001b[34m████████  \u001b[0m| 8/10 [00:17<00:04,  2.20s/it]\n",
      " 80%|\u001b[34m████████  \u001b[0m| 8/10 [00:17<00:04,  2.18s/it]\n",
      " 80%|\u001b[34m████████  \u001b[0m| 8/10 [00:17<00:04,  2.19s/it]\n",
      " 80%|\u001b[34m████████  \u001b[0m| 8/10 [00:16<00:04,  2.17s/it]\n",
      " 80%|\u001b[34m████████  \u001b[0m| 8/10 [00:17<00:04,  2.22s/it]\n",
      " 80%|\u001b[34m████████  \u001b[0m| 8/10 [00:17<00:04,  2.20s/it]\n",
      " 80%|\u001b[34m████████  \u001b[0m| 8/10 [00:17<00:04,  2.22s/it]\n",
      " 80%|\u001b[34m████████  \u001b[0m| 8/10 [00:17<00:04,  2.22s/it]\n",
      " 80%|\u001b[34m████████  \u001b[0m| 8/10 [00:17<00:04,  2.25s/it]\n",
      " 90%|\u001b[34m█████████ \u001b[0m| 9/10 [00:19<00:02,  2.23s/it]\n",
      " 90%|\u001b[34m█████████ \u001b[0m| 9/10 [00:19<00:02,  2.26s/it]\n",
      " 90%|\u001b[34m█████████ \u001b[0m| 9/10 [00:19<00:02,  2.23s/it]\n",
      " 90%|\u001b[34m█████████ \u001b[0m| 9/10 [00:19<00:02,  2.24s/it]\n",
      " 90%|\u001b[34m█████████ \u001b[0m| 9/10 [00:19<00:02,  2.23s/it]\n",
      " 90%|\u001b[34m█████████ \u001b[0m| 9/10 [00:19<00:02,  2.25s/it]\n"
     ]
    },
    {
     "name": "stdout",
     "output_type": "stream",
     "text": [
      "\u001b[36m(DefaultActor pid=27994)\u001b[0m \tTrain Epoch: 9 \tTrain_loss_mri: 0.0176 | Train_acc_mri: 100.0000 | Train_loss_dna: 1.2752 | Train_acc_dna: 59.3750 | Validation_loss_mri: 1.3596 | Validation_acc_mri: 75.0000 | Validation_loss_dna: 3.0331 | Validation_acc_dna: 12.5000\u001b[32m [repeated 24x across cluster]\u001b[0m\n"
     ]
    },
    {
     "name": "stderr",
     "output_type": "stream",
     "text": [
      " 90%|\u001b[34m█████████ \u001b[0m| 9/10 [00:19<00:02,  2.27s/it]\n",
      " 90%|\u001b[34m█████████ \u001b[0m| 9/10 [00:19<00:02,  2.27s/it]\n",
      " 90%|\u001b[34m█████████ \u001b[0m| 9/10 [00:19<00:02,  2.26s/it]\n",
      " 90%|\u001b[34m█████████ \u001b[0m| 9/10 [00:19<00:02,  2.26s/it]\n"
     ]
    },
    {
     "name": "stdout",
     "output_type": "stream",
     "text": [
      "\u001b[36m(DefaultActor pid=27999)\u001b[0m save graph in  results/FL/\n"
     ]
    },
    {
     "name": "stderr",
     "output_type": "stream",
     "text": [
      "100%|\u001b[34m██████████\u001b[0m| 10/10 [00:21<00:00,  2.14s/it]\n",
      "100%|\u001b[34m██████████\u001b[0m| 10/10 [00:21<00:00,  2.16s/it]\n",
      "100%|\u001b[34m██████████\u001b[0m| 10/10 [00:21<00:00,  2.15s/it]\n",
      "100%|\u001b[34m██████████\u001b[0m| 10/10 [00:21<00:00,  2.16s/it]\n",
      "100%|\u001b[34m██████████\u001b[0m| 10/10 [00:21<00:00,  2.14s/it]\n",
      "100%|\u001b[34m██████████\u001b[0m| 10/10 [00:21<00:00,  2.16s/it]\n",
      "100%|\u001b[34m██████████\u001b[0m| 10/10 [00:21<00:00,  2.18s/it]\n",
      "100%|\u001b[34m██████████\u001b[0m| 10/10 [00:21<00:00,  2.17s/it]\n",
      "100%|\u001b[34m██████████\u001b[0m| 10/10 [00:21<00:00,  2.17s/it]\n",
      "100%|\u001b[34m██████████\u001b[0m| 10/10 [00:22<00:00,  2.21s/it]\n",
      "DEBUG flwr 2024-09-02 01:45:15,721 | server.py:236 | fit_round 18 received 10 results and 0 failures\n"
     ]
    },
    {
     "name": "stdout",
     "output_type": "stream",
     "text": [
      "Saving round 18 aggregated_parameters...\n",
      "Updated model\n"
     ]
    },
    {
     "name": "stderr",
     "output_type": "stream",
     "text": [
      "INFO flwr 2024-09-02 01:45:21,483 | server.py:125 | fit progress: (18, (1.784360408782959, 2.1113942010062083), {'accuracy': (66.07142857142857, 25.0)}, 551.8044814076275)\n",
      "DEBUG flwr 2024-09-02 01:45:21,485 | server.py:173 | evaluate_round 18: strategy sampled 10 clients (out of 10)\n"
     ]
    },
    {
     "name": "stdout",
     "output_type": "stream",
     "text": [
      "Server-side evaluation MRI loss 1.784360408782959 / MRI accuracy 66.07142857142857\n",
      "Server-side evaluation DNA loss 2.1113942010062083 / DNA accuracy 25.0\n",
      "\u001b[36m(DefaultActor pid=27997)\u001b[0m  To get the checkpoint\n",
      "\u001b[36m(DefaultActor pid=27997)\u001b[0m [Client 4] evaluate, config: {}\n",
      "\u001b[36m(DefaultActor pid=27997)\u001b[0m \tTrain Epoch: 10 \tTrain_loss_mri: 0.0593 | Train_acc_mri: 98.9583 | Train_loss_dna: 1.2554 | Train_acc_dna: 42.7083 | Validation_loss_mri: 2.1649 | Validation_acc_mri: 37.5000 | Validation_loss_dna: 1.7929 | Validation_acc_dna: 37.5000\u001b[32m [repeated 15x across cluster]\u001b[0m\n",
      "\u001b[36m(DefaultActor pid=27997)\u001b[0m save graph in  results/FL/\u001b[32m [repeated 9x across cluster]\u001b[0m\n",
      "\u001b[36m(DefaultActor pid=27996)\u001b[0m Updated model\n"
     ]
    },
    {
     "name": "stderr",
     "output_type": "stream",
     "text": [
      "\u001b[36m(DefaultActor pid=27997)\u001b[0m /tmp/ipykernel_26738/752934157.py:10: FutureWarning: You are using `torch.load` with `weights_only=False` (the current default value), which uses the default pickle module implicitly. It is possible to construct malicious pickle data which will execute arbitrary code during unpickling (See https://github.com/pytorch/pytorch/blob/main/SECURITY.md#untrusted-models for more details). In a future release, the default value for `weights_only` will be flipped to `True`. This limits the functions that could be executed during unpickling. Arbitrary objects will no longer be allowed to be loaded via this mode unless they are explicitly allowlisted by the user via `torch.serialization.add_safe_globals`. We recommend you start setting `weights_only=True` for any use case where you don't have full control of the loaded file. Please open an issue on GitHub for any issues related to this experimental feature.\n",
      "\u001b[36m(DefaultActor pid=27996)\u001b[0m /home/cudaq/.local/lib/python3.10/site-packages/sklearn/metrics/_ranking.py:1183: UndefinedMetricWarning: No positive samples in y_true, true positive value should be meaningless\n",
      "\u001b[36m(DefaultActor pid=27996)\u001b[0m   warnings.warn(\n",
      "DEBUG flwr 2024-09-02 01:45:22,748 | server.py:187 | evaluate_round 18 received 10 results and 0 failures\n",
      "DEBUG flwr 2024-09-02 01:45:22,749 | server.py:222 | fit_round 19: strategy sampled 10 clients (out of 10)\n",
      "\u001b[36m(DefaultActor pid=27995)\u001b[0m   return torch.load(io.BytesIO(b))\n",
      "  0%|\u001b[34m          \u001b[0m| 0/10 [00:00<?, ?it/s]\n"
     ]
    },
    {
     "name": "stdout",
     "output_type": "stream",
     "text": [
      "\u001b[36m(DefaultActor pid=27995)\u001b[0m [Client 6, round 19] fit, config: {'learning_rate': 0.003, 'batch_size': '32', 'server_round': 19, 'local_epochs': 10}\n"
     ]
    },
    {
     "name": "stderr",
     "output_type": "stream",
     "text": [
      " 10%|\u001b[34m█         \u001b[0m| 1/10 [00:02<00:19,  2.14s/it]\n",
      " 10%|\u001b[34m█         \u001b[0m| 1/10 [00:02<00:19,  2.12s/it]\n",
      " 10%|\u001b[34m█         \u001b[0m| 1/10 [00:02<00:19,  2.14s/it]\n",
      " 10%|\u001b[34m█         \u001b[0m| 1/10 [00:02<00:19,  2.18s/it]\n",
      " 10%|\u001b[34m█         \u001b[0m| 1/10 [00:02<00:19,  2.21s/it]\n",
      " 10%|\u001b[34m█         \u001b[0m| 1/10 [00:02<00:18,  2.11s/it]\n",
      " 10%|\u001b[34m█         \u001b[0m| 1/10 [00:02<00:19,  2.18s/it]\n",
      " 10%|\u001b[34m█         \u001b[0m| 1/10 [00:02<00:19,  2.20s/it]\n",
      " 10%|\u001b[34m█         \u001b[0m| 1/10 [00:02<00:18,  2.11s/it]\n",
      " 10%|\u001b[34m█         \u001b[0m| 1/10 [00:02<00:19,  2.15s/it]\n"
     ]
    },
    {
     "name": "stdout",
     "output_type": "stream",
     "text": [
      "\u001b[36m(DefaultActor pid=27996)\u001b[0m  To get the checkpoint\u001b[32m [repeated 19x across cluster]\u001b[0m\n",
      "\u001b[36m(DefaultActor pid=28002)\u001b[0m [Client 0] evaluate, config: {}\u001b[32m [repeated 9x across cluster]\u001b[0m\n",
      "\u001b[36m(DefaultActor pid=27995)\u001b[0m \tTrain Epoch: 2 \tTrain_loss_mri: 0.2044 | Train_acc_mri: 93.7500 | Train_loss_dna: 1.4732 | Train_acc_dna: 43.7500 | Validation_loss_mri: 2.0232 | Validation_acc_mri: 62.5000 | Validation_loss_dna: 1.9126 | Validation_acc_dna: 37.5000\u001b[32m [repeated 11x across cluster]\u001b[0m\n",
      "\u001b[36m(DefaultActor pid=28000)\u001b[0m Updated model\u001b[32m [repeated 19x across cluster]\u001b[0m\n"
     ]
    },
    {
     "name": "stderr",
     "output_type": "stream",
     "text": [
      " 20%|\u001b[34m██        \u001b[0m| 2/10 [00:04<00:16,  2.12s/it]\n",
      "\u001b[36m(DefaultActor pid=27996)\u001b[0m /tmp/ipykernel_26738/752934157.py:10: FutureWarning: You are using `torch.load` with `weights_only=False` (the current default value), which uses the default pickle module implicitly. It is possible to construct malicious pickle data which will execute arbitrary code during unpickling (See https://github.com/pytorch/pytorch/blob/main/SECURITY.md#untrusted-models for more details). In a future release, the default value for `weights_only` will be flipped to `True`. This limits the functions that could be executed during unpickling. Arbitrary objects will no longer be allowed to be loaded via this mode unless they are explicitly allowlisted by the user via `torch.serialization.add_safe_globals`. We recommend you start setting `weights_only=True` for any use case where you don't have full control of the loaded file. Please open an issue on GitHub for any issues related to this experimental feature.\u001b[32m [repeated 29x across cluster]\u001b[0m\n",
      "\u001b[36m(DefaultActor pid=27999)\u001b[0m /home/cudaq/.local/lib/python3.10/site-packages/sklearn/metrics/_ranking.py:1183: UndefinedMetricWarning: No positive samples in y_true, true positive value should be meaningless\u001b[32m [repeated 30x across cluster]\u001b[0m\n",
      "\u001b[36m(DefaultActor pid=27999)\u001b[0m   warnings.warn(\u001b[32m [repeated 30x across cluster]\u001b[0m\n",
      " 20%|\u001b[34m██        \u001b[0m| 2/10 [00:04<00:17,  2.15s/it]\n",
      " 20%|\u001b[34m██        \u001b[0m| 2/10 [00:04<00:17,  2.13s/it]\n",
      " 20%|\u001b[34m██        \u001b[0m| 2/10 [00:04<00:17,  2.13s/it]\n",
      " 20%|\u001b[34m██        \u001b[0m| 2/10 [00:04<00:17,  2.15s/it]\n",
      " 20%|\u001b[34m██        \u001b[0m| 2/10 [00:04<00:17,  2.13s/it]\n",
      " 20%|\u001b[34m██        \u001b[0m| 2/10 [00:04<00:16,  2.09s/it]\n",
      " 20%|\u001b[34m██        \u001b[0m| 2/10 [00:04<00:17,  2.15s/it]\n",
      " 20%|\u001b[34m██        \u001b[0m| 2/10 [00:04<00:17,  2.17s/it]\n",
      " 20%|\u001b[34m██        \u001b[0m| 2/10 [00:04<00:17,  2.14s/it]\n"
     ]
    },
    {
     "name": "stdout",
     "output_type": "stream",
     "text": [
      "\u001b[36m(DefaultActor pid=28000)\u001b[0m [Client 8, round 19] fit, config: {'learning_rate': 0.003, 'batch_size': '32', 'server_round': 19, 'local_epochs': 10}\u001b[32m [repeated 9x across cluster]\u001b[0m\n"
     ]
    },
    {
     "name": "stderr",
     "output_type": "stream",
     "text": [
      " 30%|\u001b[34m███       \u001b[0m| 3/10 [00:06<00:14,  2.10s/it]\n",
      "\u001b[36m(DefaultActor pid=28000)\u001b[0m   return torch.load(io.BytesIO(b))\u001b[32m [repeated 9x across cluster]\u001b[0m\n",
      "  0%|\u001b[34m          \u001b[0m| 0/10 [00:00<?, ?it/s]\u001b[32m [repeated 9x across cluster]\u001b[0m\n",
      " 30%|\u001b[34m███       \u001b[0m| 3/10 [00:06<00:14,  2.12s/it]\n",
      " 30%|\u001b[34m███       \u001b[0m| 3/10 [00:06<00:14,  2.13s/it]\n",
      " 30%|\u001b[34m███       \u001b[0m| 3/10 [00:06<00:14,  2.12s/it]\n",
      " 30%|\u001b[34m███       \u001b[0m| 3/10 [00:06<00:14,  2.14s/it]\n",
      " 30%|\u001b[34m███       \u001b[0m| 3/10 [00:06<00:14,  2.10s/it]\n",
      " 30%|\u001b[34m███       \u001b[0m| 3/10 [00:06<00:14,  2.14s/it]\n",
      " 30%|\u001b[34m███       \u001b[0m| 3/10 [00:06<00:14,  2.11s/it]\n",
      " 30%|\u001b[34m███       \u001b[0m| 3/10 [00:06<00:15,  2.19s/it]\n",
      " 30%|\u001b[34m███       \u001b[0m| 3/10 [00:06<00:15,  2.14s/it]\n",
      " 40%|\u001b[34m████      \u001b[0m| 4/10 [00:08<00:12,  2.09s/it]\n",
      " 40%|\u001b[34m████      \u001b[0m| 4/10 [00:08<00:12,  2.11s/it]\n",
      " 40%|\u001b[34m████      \u001b[0m| 4/10 [00:08<00:12,  2.13s/it]\n",
      " 40%|\u001b[34m████      \u001b[0m| 4/10 [00:08<00:12,  2.13s/it]\n",
      " 40%|\u001b[34m████      \u001b[0m| 4/10 [00:08<00:12,  2.10s/it]\n",
      " 40%|\u001b[34m████      \u001b[0m| 4/10 [00:08<00:12,  2.11s/it]\n",
      " 40%|\u001b[34m████      \u001b[0m| 4/10 [00:08<00:12,  2.15s/it]\n",
      " 40%|\u001b[34m████      \u001b[0m| 4/10 [00:08<00:12,  2.13s/it]\n",
      " 40%|\u001b[34m████      \u001b[0m| 4/10 [00:08<00:13,  2.17s/it]\n",
      " 40%|\u001b[34m████      \u001b[0m| 4/10 [00:08<00:12,  2.14s/it]\n"
     ]
    },
    {
     "name": "stdout",
     "output_type": "stream",
     "text": [
      "\u001b[36m(DefaultActor pid=27995)\u001b[0m \tTrain Epoch: 5 \tTrain_loss_mri: 0.0687 | Train_acc_mri: 97.9167 | Train_loss_dna: 1.2301 | Train_acc_dna: 54.1667 | Validation_loss_mri: 2.1206 | Validation_acc_mri: 75.0000 | Validation_loss_dna: 1.9825 | Validation_acc_dna: 37.5000\u001b[32m [repeated 30x across cluster]\u001b[0m\n"
     ]
    },
    {
     "name": "stderr",
     "output_type": "stream",
     "text": [
      " 50%|\u001b[34m█████     \u001b[0m| 5/10 [00:10<00:10,  2.09s/it]\n",
      " 50%|\u001b[34m█████     \u001b[0m| 5/10 [00:10<00:10,  2.10s/it]\n",
      " 50%|\u001b[34m█████     \u001b[0m| 5/10 [00:10<00:10,  2.12s/it]\n",
      " 50%|\u001b[34m█████     \u001b[0m| 5/10 [00:10<00:10,  2.12s/it]\n",
      " 50%|\u001b[34m█████     \u001b[0m| 5/10 [00:10<00:10,  2.13s/it]\n",
      " 50%|\u001b[34m█████     \u001b[0m| 5/10 [00:10<00:10,  2.09s/it]\n",
      " 50%|\u001b[34m█████     \u001b[0m| 5/10 [00:10<00:10,  2.12s/it]\n",
      " 50%|\u001b[34m█████     \u001b[0m| 5/10 [00:10<00:10,  2.12s/it]\n",
      " 50%|\u001b[34m█████     \u001b[0m| 5/10 [00:10<00:10,  2.17s/it]\n",
      " 50%|\u001b[34m█████     \u001b[0m| 5/10 [00:10<00:10,  2.14s/it]\n",
      " 60%|\u001b[34m██████    \u001b[0m| 6/10 [00:12<00:08,  2.10s/it]\n",
      " 60%|\u001b[34m██████    \u001b[0m| 6/10 [00:12<00:08,  2.11s/it]\n",
      " 60%|\u001b[34m██████    \u001b[0m| 6/10 [00:12<00:08,  2.14s/it]\n",
      " 60%|\u001b[34m██████    \u001b[0m| 6/10 [00:12<00:08,  2.09s/it]\n",
      " 60%|\u001b[34m██████    \u001b[0m| 6/10 [00:12<00:08,  2.12s/it]\n",
      " 60%|\u001b[34m██████    \u001b[0m| 6/10 [00:12<00:08,  2.13s/it]\n",
      " 60%|\u001b[34m██████    \u001b[0m| 6/10 [00:12<00:08,  2.12s/it]\n",
      " 60%|\u001b[34m██████    \u001b[0m| 6/10 [00:12<00:08,  2.12s/it]\n",
      " 60%|\u001b[34m██████    \u001b[0m| 6/10 [00:12<00:08,  2.13s/it]\n",
      " 60%|\u001b[34m██████    \u001b[0m| 6/10 [00:12<00:08,  2.15s/it]\n",
      " 70%|\u001b[34m███████   \u001b[0m| 7/10 [00:15<00:06,  2.31s/it]\n"
     ]
    },
    {
     "name": "stdout",
     "output_type": "stream",
     "text": [
      "\u001b[36m(DefaultActor pid=27999)\u001b[0m \tTrain Epoch: 7 \tTrain_loss_mri: 0.0816 | Train_acc_mri: 98.9583 | Train_loss_dna: 1.3265 | Train_acc_dna: 48.9583 | Validation_loss_mri: 1.5241 | Validation_acc_mri: 62.5000 | Validation_loss_dna: 1.5799 | Validation_acc_dna: 50.0000\u001b[32m [repeated 21x across cluster]\u001b[0m\n"
     ]
    },
    {
     "name": "stderr",
     "output_type": "stream",
     "text": [
      " 70%|\u001b[34m███████   \u001b[0m| 7/10 [00:15<00:07,  2.36s/it]\n",
      " 70%|\u001b[34m███████   \u001b[0m| 7/10 [00:15<00:07,  2.37s/it]\n",
      " 70%|\u001b[34m███████   \u001b[0m| 7/10 [00:15<00:07,  2.43s/it]\n",
      " 70%|\u001b[34m███████   \u001b[0m| 7/10 [00:15<00:07,  2.44s/it]\n",
      " 70%|\u001b[34m███████   \u001b[0m| 7/10 [00:15<00:07,  2.47s/it]\n",
      " 70%|\u001b[34m███████   \u001b[0m| 7/10 [00:15<00:07,  2.47s/it]\n",
      " 70%|\u001b[34m███████   \u001b[0m| 7/10 [00:16<00:07,  2.51s/it]\n",
      " 70%|\u001b[34m███████   \u001b[0m| 7/10 [00:16<00:07,  2.55s/it]\n",
      " 70%|\u001b[34m███████   \u001b[0m| 7/10 [00:16<00:07,  2.64s/it]\n",
      " 80%|\u001b[34m████████  \u001b[0m| 8/10 [00:19<00:05,  2.79s/it]\n",
      " 80%|\u001b[34m████████  \u001b[0m| 8/10 [00:19<00:05,  2.82s/it]\n",
      " 80%|\u001b[34m████████  \u001b[0m| 8/10 [00:19<00:05,  2.77s/it]\n",
      " 80%|\u001b[34m████████  \u001b[0m| 8/10 [00:19<00:05,  2.80s/it]\n",
      " 80%|\u001b[34m████████  \u001b[0m| 8/10 [00:19<00:05,  2.81s/it]\n",
      " 80%|\u001b[34m████████  \u001b[0m| 8/10 [00:19<00:05,  2.79s/it]\n",
      " 80%|\u001b[34m████████  \u001b[0m| 8/10 [00:19<00:05,  2.80s/it]\n",
      " 80%|\u001b[34m████████  \u001b[0m| 8/10 [00:19<00:05,  2.81s/it]\n",
      " 80%|\u001b[34m████████  \u001b[0m| 8/10 [00:19<00:05,  2.78s/it]\n",
      " 80%|\u001b[34m████████  \u001b[0m| 8/10 [00:19<00:05,  2.79s/it]\n"
     ]
    },
    {
     "name": "stdout",
     "output_type": "stream",
     "text": [
      "\u001b[36m(DefaultActor pid=27995)\u001b[0m \tTrain Epoch: 9 \tTrain_loss_mri: 0.0605 | Train_acc_mri: 97.9167 | Train_loss_dna: 1.2173 | Train_acc_dna: 48.9583 | Validation_loss_mri: 2.7716 | Validation_acc_mri: 62.5000 | Validation_loss_dna: 2.2641 | Validation_acc_dna: 37.5000\u001b[32m [repeated 19x across cluster]\u001b[0m\n"
     ]
    },
    {
     "name": "stderr",
     "output_type": "stream",
     "text": [
      " 90%|\u001b[34m█████████ \u001b[0m| 9/10 [00:21<00:02,  2.60s/it]\n",
      " 90%|\u001b[34m█████████ \u001b[0m| 9/10 [00:21<00:02,  2.62s/it]\n",
      " 90%|\u001b[34m█████████ \u001b[0m| 9/10 [00:21<00:02,  2.59s/it]\n",
      " 90%|\u001b[34m█████████ \u001b[0m| 9/10 [00:21<00:02,  2.60s/it]\n",
      " 90%|\u001b[34m█████████ \u001b[0m| 9/10 [00:21<00:02,  2.60s/it]\n",
      " 90%|\u001b[34m█████████ \u001b[0m| 9/10 [00:21<00:02,  2.58s/it]\n",
      " 90%|\u001b[34m█████████ \u001b[0m| 9/10 [00:21<00:02,  2.60s/it]\n",
      " 90%|\u001b[34m█████████ \u001b[0m| 9/10 [00:21<00:02,  2.60s/it]\n",
      " 90%|\u001b[34m█████████ \u001b[0m| 9/10 [00:21<00:02,  2.58s/it]\n",
      " 90%|\u001b[34m█████████ \u001b[0m| 9/10 [00:21<00:02,  2.59s/it]\n"
     ]
    },
    {
     "name": "stdout",
     "output_type": "stream",
     "text": [
      "\u001b[36m(DefaultActor pid=27995)\u001b[0m save graph in  results/FL/\n"
     ]
    },
    {
     "name": "stderr",
     "output_type": "stream",
     "text": [
      "100%|\u001b[34m██████████\u001b[0m| 10/10 [00:23<00:00,  2.35s/it]\n",
      "100%|\u001b[34m██████████\u001b[0m| 10/10 [00:23<00:00,  2.37s/it]\n",
      "100%|\u001b[34m██████████\u001b[0m| 10/10 [00:23<00:00,  2.34s/it]\n",
      "100%|\u001b[34m██████████\u001b[0m| 10/10 [00:23<00:00,  2.37s/it]\n",
      "100%|\u001b[34m██████████\u001b[0m| 10/10 [00:23<00:00,  2.37s/it]\n",
      "100%|\u001b[34m██████████\u001b[0m| 10/10 [00:23<00:00,  2.36s/it]\n",
      "100%|\u001b[34m██████████\u001b[0m| 10/10 [00:23<00:00,  2.38s/it]\n",
      "100%|\u001b[34m██████████\u001b[0m| 10/10 [00:23<00:00,  2.38s/it]\n",
      "100%|\u001b[34m██████████\u001b[0m| 10/10 [00:23<00:00,  2.38s/it]\n",
      "100%|\u001b[34m██████████\u001b[0m| 10/10 [00:24<00:00,  2.40s/it]\n",
      "DEBUG flwr 2024-09-02 01:45:47,512 | server.py:236 | fit_round 19 received 10 results and 0 failures\n"
     ]
    },
    {
     "name": "stdout",
     "output_type": "stream",
     "text": [
      "Saving round 19 aggregated_parameters...\n",
      "Updated model\n"
     ]
    },
    {
     "name": "stderr",
     "output_type": "stream",
     "text": [
      "INFO flwr 2024-09-02 01:45:53,090 | server.py:125 | fit progress: (19, (1.933349004813603, 2.176277211734227), {'accuracy': (65.625, 23.660714285714285)}, 583.4117214386351)\n",
      "DEBUG flwr 2024-09-02 01:45:53,172 | server.py:173 | evaluate_round 19: strategy sampled 10 clients (out of 10)\n"
     ]
    },
    {
     "name": "stdout",
     "output_type": "stream",
     "text": [
      "Server-side evaluation MRI loss 1.933349004813603 / MRI accuracy 65.625\n",
      "Server-side evaluation DNA loss 2.176277211734227 / DNA accuracy 23.660714285714285\n",
      "\u001b[36m(DefaultActor pid=27994)\u001b[0m  To get the checkpoint\n",
      "\u001b[36m(DefaultActor pid=27994)\u001b[0m [Client 8] evaluate, config: {}\n",
      "\u001b[36m(DefaultActor pid=27994)\u001b[0m Updated model\n",
      "\u001b[36m(DefaultActor pid=27994)\u001b[0m \tTrain Epoch: 10 \tTrain_loss_mri: 0.0281 | Train_acc_mri: 100.0000 | Train_loss_dna: 1.2056 | Train_acc_dna: 41.6667 | Validation_loss_mri: 0.4297 | Validation_acc_mri: 75.0000 | Validation_loss_dna: 2.8739 | Validation_acc_dna: 0.0000\u001b[32m [repeated 19x across cluster]\u001b[0m\n",
      "\u001b[36m(DefaultActor pid=27994)\u001b[0m save graph in  results/FL/\u001b[32m [repeated 9x across cluster]\u001b[0m\n"
     ]
    },
    {
     "name": "stderr",
     "output_type": "stream",
     "text": [
      "\u001b[36m(DefaultActor pid=27994)\u001b[0m /tmp/ipykernel_26738/752934157.py:10: FutureWarning: You are using `torch.load` with `weights_only=False` (the current default value), which uses the default pickle module implicitly. It is possible to construct malicious pickle data which will execute arbitrary code during unpickling (See https://github.com/pytorch/pytorch/blob/main/SECURITY.md#untrusted-models for more details). In a future release, the default value for `weights_only` will be flipped to `True`. This limits the functions that could be executed during unpickling. Arbitrary objects will no longer be allowed to be loaded via this mode unless they are explicitly allowlisted by the user via `torch.serialization.add_safe_globals`. We recommend you start setting `weights_only=True` for any use case where you don't have full control of the loaded file. Please open an issue on GitHub for any issues related to this experimental feature.\n",
      "\u001b[36m(DefaultActor pid=27994)\u001b[0m /home/cudaq/.local/lib/python3.10/site-packages/sklearn/metrics/_ranking.py:1183: UndefinedMetricWarning: No positive samples in y_true, true positive value should be meaningless\n",
      "\u001b[36m(DefaultActor pid=27994)\u001b[0m   warnings.warn(\n",
      "DEBUG flwr 2024-09-02 01:45:54,419 | server.py:187 | evaluate_round 19 received 10 results and 0 failures\n",
      "DEBUG flwr 2024-09-02 01:45:54,420 | server.py:222 | fit_round 20: strategy sampled 10 clients (out of 10)\n",
      "\u001b[36m(DefaultActor pid=27995)\u001b[0m   return torch.load(io.BytesIO(b))\n",
      "  0%|\u001b[34m          \u001b[0m| 0/10 [00:00<?, ?it/s]\n"
     ]
    },
    {
     "name": "stdout",
     "output_type": "stream",
     "text": [
      "\u001b[36m(DefaultActor pid=27995)\u001b[0m [Client 5, round 20] fit, config: {'learning_rate': 0.003, 'batch_size': '32', 'server_round': 20, 'local_epochs': 10}\n"
     ]
    },
    {
     "name": "stderr",
     "output_type": "stream",
     "text": [
      " 10%|\u001b[34m█         \u001b[0m| 1/10 [00:02<00:18,  2.11s/it]\n",
      " 10%|\u001b[34m█         \u001b[0m| 1/10 [00:02<00:19,  2.13s/it]\n",
      " 10%|\u001b[34m█         \u001b[0m| 1/10 [00:02<00:18,  2.10s/it]\n",
      " 10%|\u001b[34m█         \u001b[0m| 1/10 [00:02<00:18,  2.09s/it]\n",
      " 10%|\u001b[34m█         \u001b[0m| 1/10 [00:02<00:19,  2.12s/it]\n",
      " 10%|\u001b[34m█         \u001b[0m| 1/10 [00:02<00:18,  2.09s/it]\n",
      " 10%|\u001b[34m█         \u001b[0m| 1/10 [00:02<00:19,  2.15s/it]\n",
      " 10%|\u001b[34m█         \u001b[0m| 1/10 [00:02<00:18,  2.10s/it]\n",
      " 10%|\u001b[34m█         \u001b[0m| 1/10 [00:02<00:18,  2.08s/it]\n",
      " 10%|\u001b[34m█         \u001b[0m| 1/10 [00:02<00:19,  2.17s/it]\n"
     ]
    },
    {
     "name": "stdout",
     "output_type": "stream",
     "text": [
      "\u001b[36m(DefaultActor pid=27996)\u001b[0m  To get the checkpoint\u001b[32m [repeated 19x across cluster]\u001b[0m\n",
      "\u001b[36m(DefaultActor pid=28000)\u001b[0m [Client 2] evaluate, config: {}\u001b[32m [repeated 9x across cluster]\u001b[0m\n",
      "\u001b[36m(DefaultActor pid=27994)\u001b[0m Updated model\u001b[32m [repeated 19x across cluster]\u001b[0m\n",
      "\u001b[36m(DefaultActor pid=27995)\u001b[0m \tTrain Epoch: 2 \tTrain_loss_mri: 0.0909 | Train_acc_mri: 95.8333 | Train_loss_dna: 1.4210 | Train_acc_dna: 44.7917 | Validation_loss_mri: 0.1409 | Validation_acc_mri: 87.5000 | Validation_loss_dna: 2.1519 | Validation_acc_dna: 25.0000\u001b[32m [repeated 11x across cluster]\u001b[0m\n"
     ]
    },
    {
     "name": "stderr",
     "output_type": "stream",
     "text": [
      " 20%|\u001b[34m██        \u001b[0m| 2/10 [00:04<00:16,  2.11s/it]\n",
      "\u001b[36m(DefaultActor pid=27996)\u001b[0m /tmp/ipykernel_26738/752934157.py:10: FutureWarning: You are using `torch.load` with `weights_only=False` (the current default value), which uses the default pickle module implicitly. It is possible to construct malicious pickle data which will execute arbitrary code during unpickling (See https://github.com/pytorch/pytorch/blob/main/SECURITY.md#untrusted-models for more details). In a future release, the default value for `weights_only` will be flipped to `True`. This limits the functions that could be executed during unpickling. Arbitrary objects will no longer be allowed to be loaded via this mode unless they are explicitly allowlisted by the user via `torch.serialization.add_safe_globals`. We recommend you start setting `weights_only=True` for any use case where you don't have full control of the loaded file. Please open an issue on GitHub for any issues related to this experimental feature.\u001b[32m [repeated 29x across cluster]\u001b[0m\n",
      " 20%|\u001b[34m██        \u001b[0m| 2/10 [00:04<00:16,  2.09s/it]\n",
      "\u001b[36m(DefaultActor pid=27995)\u001b[0m /home/cudaq/.local/lib/python3.10/site-packages/sklearn/metrics/_ranking.py:1183: UndefinedMetricWarning: No positive samples in y_true, true positive value should be meaningless\u001b[32m [repeated 30x across cluster]\u001b[0m\n",
      "\u001b[36m(DefaultActor pid=27995)\u001b[0m   warnings.warn(\u001b[32m [repeated 30x across cluster]\u001b[0m\n",
      " 20%|\u001b[34m██        \u001b[0m| 2/10 [00:04<00:16,  2.10s/it]\n",
      " 20%|\u001b[34m██        \u001b[0m| 2/10 [00:04<00:16,  2.09s/it]\n",
      " 20%|\u001b[34m██        \u001b[0m| 2/10 [00:04<00:16,  2.10s/it]\n",
      " 20%|\u001b[34m██        \u001b[0m| 2/10 [00:04<00:16,  2.07s/it]\n",
      " 20%|\u001b[34m██        \u001b[0m| 2/10 [00:04<00:16,  2.11s/it]\n",
      " 20%|\u001b[34m██        \u001b[0m| 2/10 [00:04<00:17,  2.13s/it]\n",
      " 20%|\u001b[34m██        \u001b[0m| 2/10 [00:04<00:16,  2.11s/it]\n",
      " 20%|\u001b[34m██        \u001b[0m| 2/10 [00:04<00:17,  2.15s/it]\n"
     ]
    },
    {
     "name": "stdout",
     "output_type": "stream",
     "text": [
      "\u001b[36m(DefaultActor pid=28001)\u001b[0m [Client 6, round 20] fit, config: {'learning_rate': 0.003, 'batch_size': '32', 'server_round': 20, 'local_epochs': 10}\u001b[32m [repeated 9x across cluster]\u001b[0m\n"
     ]
    },
    {
     "name": "stderr",
     "output_type": "stream",
     "text": [
      " 30%|\u001b[34m███       \u001b[0m| 3/10 [00:06<00:14,  2.11s/it]\n",
      "\u001b[36m(DefaultActor pid=28001)\u001b[0m   return torch.load(io.BytesIO(b))\u001b[32m [repeated 9x across cluster]\u001b[0m\n",
      "  0%|\u001b[34m          \u001b[0m| 0/10 [00:00<?, ?it/s]\u001b[32m [repeated 9x across cluster]\u001b[0m\n",
      " 30%|\u001b[34m███       \u001b[0m| 3/10 [00:06<00:14,  2.09s/it]\n",
      " 30%|\u001b[34m███       \u001b[0m| 3/10 [00:06<00:14,  2.08s/it]\n",
      " 30%|\u001b[34m███       \u001b[0m| 3/10 [00:06<00:14,  2.11s/it]\n",
      " 30%|\u001b[34m███       \u001b[0m| 3/10 [00:06<00:14,  2.10s/it]\n",
      " 30%|\u001b[34m███       \u001b[0m| 3/10 [00:06<00:14,  2.07s/it]\n",
      " 30%|\u001b[34m███       \u001b[0m| 3/10 [00:06<00:14,  2.13s/it]\n",
      " 30%|\u001b[34m███       \u001b[0m| 3/10 [00:06<00:14,  2.13s/it]\n",
      " 30%|\u001b[34m███       \u001b[0m| 3/10 [00:06<00:14,  2.11s/it]\n",
      " 30%|\u001b[34m███       \u001b[0m| 3/10 [00:06<00:14,  2.14s/it]\n",
      " 40%|\u001b[34m████      \u001b[0m| 4/10 [00:08<00:12,  2.10s/it]\n",
      " 40%|\u001b[34m████      \u001b[0m| 4/10 [00:08<00:12,  2.07s/it]\n",
      " 40%|\u001b[34m████      \u001b[0m| 4/10 [00:08<00:12,  2.10s/it]\n",
      " 40%|\u001b[34m████      \u001b[0m| 4/10 [00:08<00:12,  2.09s/it]\n",
      " 40%|\u001b[34m████      \u001b[0m| 4/10 [00:08<00:12,  2.10s/it]\n",
      " 40%|\u001b[34m████      \u001b[0m| 4/10 [00:08<00:12,  2.08s/it]\n",
      " 40%|\u001b[34m████      \u001b[0m| 4/10 [00:08<00:12,  2.12s/it]\n",
      " 40%|\u001b[34m████      \u001b[0m| 4/10 [00:08<00:12,  2.12s/it]\n",
      " 40%|\u001b[34m████      \u001b[0m| 4/10 [00:08<00:12,  2.11s/it]\n",
      " 40%|\u001b[34m████      \u001b[0m| 4/10 [00:08<00:12,  2.11s/it]\n"
     ]
    },
    {
     "name": "stdout",
     "output_type": "stream",
     "text": [
      "\u001b[36m(DefaultActor pid=27999)\u001b[0m \tTrain Epoch: 5 \tTrain_loss_mri: 0.0304 | Train_acc_mri: 98.9583 | Train_loss_dna: 1.3836 | Train_acc_dna: 39.5833 | Validation_loss_mri: 2.4784 | Validation_acc_mri: 62.5000 | Validation_loss_dna: 1.8875 | Validation_acc_dna: 37.5000\u001b[32m [repeated 30x across cluster]\u001b[0m\n"
     ]
    },
    {
     "name": "stderr",
     "output_type": "stream",
     "text": [
      " 50%|\u001b[34m█████     \u001b[0m| 5/10 [00:10<00:10,  2.07s/it]\n",
      " 50%|\u001b[34m█████     \u001b[0m| 5/10 [00:10<00:10,  2.10s/it]\n",
      " 50%|\u001b[34m█████     \u001b[0m| 5/10 [00:10<00:10,  2.09s/it]\n",
      " 50%|\u001b[34m█████     \u001b[0m| 5/10 [00:10<00:10,  2.09s/it]\n",
      " 50%|\u001b[34m█████     \u001b[0m| 5/10 [00:10<00:10,  2.10s/it]\n",
      " 50%|\u001b[34m█████     \u001b[0m| 5/10 [00:10<00:10,  2.07s/it]\n",
      " 50%|\u001b[34m█████     \u001b[0m| 5/10 [00:10<00:10,  2.12s/it]\n",
      " 50%|\u001b[34m█████     \u001b[0m| 5/10 [00:10<00:10,  2.12s/it]\n",
      " 50%|\u001b[34m█████     \u001b[0m| 5/10 [00:10<00:10,  2.12s/it]\n",
      " 50%|\u001b[34m█████     \u001b[0m| 5/10 [00:10<00:10,  2.11s/it]\n",
      " 60%|\u001b[34m██████    \u001b[0m| 6/10 [00:12<00:08,  2.07s/it]\n",
      " 60%|\u001b[34m██████    \u001b[0m| 6/10 [00:12<00:08,  2.09s/it]\n",
      " 60%|\u001b[34m██████    \u001b[0m| 6/10 [00:12<00:08,  2.11s/it]\n",
      " 60%|\u001b[34m██████    \u001b[0m| 6/10 [00:12<00:08,  2.10s/it]\n",
      " 60%|\u001b[34m██████    \u001b[0m| 6/10 [00:12<00:08,  2.09s/it]\n",
      " 60%|\u001b[34m██████    \u001b[0m| 6/10 [00:12<00:08,  2.07s/it]\n",
      " 60%|\u001b[34m██████    \u001b[0m| 6/10 [00:12<00:08,  2.11s/it]\n",
      " 60%|\u001b[34m██████    \u001b[0m| 6/10 [00:12<00:08,  2.12s/it]\n",
      " 60%|\u001b[34m██████    \u001b[0m| 6/10 [00:12<00:08,  2.12s/it]\n",
      " 60%|\u001b[34m██████    \u001b[0m| 6/10 [00:12<00:08,  2.11s/it]\n",
      " 70%|\u001b[34m███████   \u001b[0m| 7/10 [00:14<00:06,  2.07s/it]\n",
      " 70%|\u001b[34m███████   \u001b[0m| 7/10 [00:14<00:06,  2.11s/it]\n",
      " 70%|\u001b[34m███████   \u001b[0m| 7/10 [00:14<00:06,  2.09s/it]\n",
      " 70%|\u001b[34m███████   \u001b[0m| 7/10 [00:14<00:06,  2.08s/it]\n",
      " 70%|\u001b[34m███████   \u001b[0m| 7/10 [00:14<00:06,  2.11s/it]\n",
      " 70%|\u001b[34m███████   \u001b[0m| 7/10 [00:14<00:06,  2.07s/it]\n",
      " 70%|\u001b[34m███████   \u001b[0m| 7/10 [00:14<00:06,  2.09s/it]\n",
      " 70%|\u001b[34m███████   \u001b[0m| 7/10 [00:14<00:06,  2.12s/it]\n",
      " 70%|\u001b[34m███████   \u001b[0m| 7/10 [00:14<00:06,  2.12s/it]\n",
      " 70%|\u001b[34m███████   \u001b[0m| 7/10 [00:14<00:06,  2.11s/it]\n"
     ]
    },
    {
     "name": "stdout",
     "output_type": "stream",
     "text": [
      "\u001b[36m(DefaultActor pid=27999)\u001b[0m \tTrain Epoch: 8 \tTrain_loss_mri: 0.0512 | Train_acc_mri: 98.9583 | Train_loss_dna: 1.3398 | Train_acc_dna: 54.1667 | Validation_loss_mri: 2.5642 | Validation_acc_mri: 50.0000 | Validation_loss_dna: 1.8817 | Validation_acc_dna: 37.5000\u001b[32m [repeated 30x across cluster]\u001b[0m\n"
     ]
    },
    {
     "name": "stderr",
     "output_type": "stream",
     "text": [
      " 80%|\u001b[34m████████  \u001b[0m| 8/10 [00:16<00:04,  2.05s/it]\n",
      " 80%|\u001b[34m████████  \u001b[0m| 8/10 [00:16<00:04,  2.08s/it]\n",
      " 80%|\u001b[34m████████  \u001b[0m| 8/10 [00:16<00:04,  2.08s/it]\n",
      " 80%|\u001b[34m████████  \u001b[0m| 8/10 [00:16<00:04,  2.09s/it]\n",
      " 80%|\u001b[34m████████  \u001b[0m| 8/10 [00:16<00:04,  2.07s/it]\n",
      " 80%|\u001b[34m████████  \u001b[0m| 8/10 [00:16<00:04,  2.11s/it]\n",
      " 80%|\u001b[34m████████  \u001b[0m| 8/10 [00:16<00:04,  2.08s/it]\n",
      " 80%|\u001b[34m████████  \u001b[0m| 8/10 [00:16<00:04,  2.12s/it]\n",
      " 80%|\u001b[34m████████  \u001b[0m| 8/10 [00:16<00:04,  2.12s/it]\n",
      " 80%|\u001b[34m████████  \u001b[0m| 8/10 [00:16<00:04,  2.10s/it]\n",
      " 90%|\u001b[34m█████████ \u001b[0m| 9/10 [00:18<00:02,  2.08s/it]\n",
      " 90%|\u001b[34m█████████ \u001b[0m| 9/10 [00:18<00:02,  2.09s/it]\n",
      " 90%|\u001b[34m█████████ \u001b[0m| 9/10 [00:18<00:02,  2.10s/it]\n",
      " 90%|\u001b[34m█████████ \u001b[0m| 9/10 [00:18<00:02,  2.08s/it]\n",
      " 90%|\u001b[34m█████████ \u001b[0m| 9/10 [00:18<00:02,  2.10s/it]\n",
      " 90%|\u001b[34m█████████ \u001b[0m| 9/10 [00:18<00:02,  2.10s/it]\n",
      " 90%|\u001b[34m█████████ \u001b[0m| 9/10 [00:18<00:02,  2.11s/it]\n",
      " 90%|\u001b[34m█████████ \u001b[0m| 9/10 [00:19<00:02,  2.13s/it]\n",
      " 90%|\u001b[34m█████████ \u001b[0m| 9/10 [00:19<00:02,  2.11s/it]\n",
      " 90%|\u001b[34m█████████ \u001b[0m| 9/10 [00:19<00:02,  2.12s/it]\n"
     ]
    },
    {
     "name": "stdout",
     "output_type": "stream",
     "text": [
      "\u001b[36m(DefaultActor pid=27999)\u001b[0m save graph in  results/FL/\n"
     ]
    },
    {
     "name": "stderr",
     "output_type": "stream",
     "text": [
      "100%|\u001b[34m██████████\u001b[0m| 10/10 [00:20<00:00,  2.08s/it]\n",
      "100%|\u001b[34m██████████\u001b[0m| 10/10 [00:21<00:00,  2.10s/it]\n",
      "100%|\u001b[34m██████████\u001b[0m| 10/10 [00:20<00:00,  2.10s/it]\n",
      "100%|\u001b[34m██████████\u001b[0m| 10/10 [00:20<00:00,  2.08s/it]\n",
      "100%|\u001b[34m██████████\u001b[0m| 10/10 [00:21<00:00,  2.10s/it]\n",
      "100%|\u001b[34m██████████\u001b[0m| 10/10 [00:21<00:00,  2.11s/it]\n",
      "100%|\u001b[34m██████████\u001b[0m| 10/10 [00:21<00:00,  2.11s/it]\n",
      "100%|\u001b[34m██████████\u001b[0m| 10/10 [00:21<00:00,  2.12s/it]\n",
      "100%|\u001b[34m██████████\u001b[0m| 10/10 [00:21<00:00,  2.12s/it]\n",
      "100%|\u001b[34m██████████\u001b[0m| 10/10 [00:21<00:00,  2.13s/it]\n"
     ]
    },
    {
     "name": "stdout",
     "output_type": "stream",
     "text": [
      "\u001b[36m(DefaultActor pid=27997)\u001b[0m \tTrain Epoch: 10 \tTrain_loss_mri: 0.0271 | Train_acc_mri: 100.0000 | Train_loss_dna: 1.1311 | Train_acc_dna: 63.5417 | Validation_loss_mri: 3.8107 | Validation_acc_mri: 87.5000 | Validation_loss_dna: 2.1373 | Validation_acc_dna: 25.0000\u001b[32m [repeated 29x across cluster]\u001b[0m\n"
     ]
    },
    {
     "name": "stderr",
     "output_type": "stream",
     "text": [
      "DEBUG flwr 2024-09-02 01:46:16,503 | server.py:236 | fit_round 20 received 10 results and 0 failures\n"
     ]
    },
    {
     "name": "stdout",
     "output_type": "stream",
     "text": [
      "Saving round 20 aggregated_parameters...\n",
      "Updated model\n"
     ]
    },
    {
     "name": "stderr",
     "output_type": "stream",
     "text": [
      "INFO flwr 2024-09-02 01:46:22,083 | server.py:125 | fit progress: (20, (2.0743726321629117, 2.2725752081189836), {'accuracy': (64.73214285714286, 25.892857142857146)}, 612.4045708798803)\n",
      "DEBUG flwr 2024-09-02 01:46:22,084 | server.py:173 | evaluate_round 20: strategy sampled 10 clients (out of 10)\n"
     ]
    },
    {
     "name": "stdout",
     "output_type": "stream",
     "text": [
      "Server-side evaluation MRI loss 2.0743726321629117 / MRI accuracy 64.73214285714286\n",
      "Server-side evaluation DNA loss 2.2725752081189836 / DNA accuracy 25.892857142857146\n",
      "\u001b[36m(DefaultActor pid=27997)\u001b[0m  To get the checkpoint\n",
      "\u001b[36m(DefaultActor pid=27997)\u001b[0m [Client 9] evaluate, config: {}\n",
      "\u001b[36m(DefaultActor pid=27997)\u001b[0m save graph in  results/FL/\u001b[32m [repeated 9x across cluster]\u001b[0m\n",
      "\u001b[36m(DefaultActor pid=27996)\u001b[0m Updated model\n"
     ]
    },
    {
     "name": "stderr",
     "output_type": "stream",
     "text": [
      "\u001b[36m(DefaultActor pid=27997)\u001b[0m /tmp/ipykernel_26738/752934157.py:10: FutureWarning: You are using `torch.load` with `weights_only=False` (the current default value), which uses the default pickle module implicitly. It is possible to construct malicious pickle data which will execute arbitrary code during unpickling (See https://github.com/pytorch/pytorch/blob/main/SECURITY.md#untrusted-models for more details). In a future release, the default value for `weights_only` will be flipped to `True`. This limits the functions that could be executed during unpickling. Arbitrary objects will no longer be allowed to be loaded via this mode unless they are explicitly allowlisted by the user via `torch.serialization.add_safe_globals`. We recommend you start setting `weights_only=True` for any use case where you don't have full control of the loaded file. Please open an issue on GitHub for any issues related to this experimental feature.\n",
      "\u001b[36m(DefaultActor pid=27997)\u001b[0m /home/cudaq/.local/lib/python3.10/site-packages/sklearn/metrics/_ranking.py:1183: UndefinedMetricWarning: No positive samples in y_true, true positive value should be meaningless\n",
      "\u001b[36m(DefaultActor pid=27997)\u001b[0m   warnings.warn(\n",
      "DEBUG flwr 2024-09-02 01:46:23,332 | server.py:187 | evaluate_round 20 received 10 results and 0 failures\n",
      "INFO flwr 2024-09-02 01:46:23,333 | server.py:153 | FL finished in 613.6546715456061\n",
      "INFO flwr 2024-09-02 01:46:23,338 | app.py:225 | app_fit: losses_distributed [(1, 1.3667909979820252), (2, 1.3231936693191528), (3, 1.0869727313518525), (4, 0.993635630607605), (5, 0.9442053437232971), (6, 0.7708565056324005), (7, 0.8545532286167145), (8, 0.8990276843309403), (9, 0.8248497411608696), (10, 0.9540510259568691), (11, 0.9997908681631088), (12, 1.0437771484255791), (13, 1.202101207524538), (14, 1.202002276852727), (15, 1.2902014136314393), (16, 1.272496335208416), (17, 1.4661215759813786), (18, 1.4315856501460076), (19, 1.7621703639626503), (20, 1.581833521835506)]\n",
      "INFO flwr 2024-09-02 01:46:23,339 | app.py:226 | app_fit: metrics_distributed_fit {}\n",
      "INFO flwr 2024-09-02 01:46:23,339 | app.py:227 | app_fit: metrics_distributed {'accuracy': [(1, 30.0), (2, 30.0), (3, 48.75), (4, 53.75), (5, 70.0), (6, 71.25), (7, 73.75), (8, 72.5), (9, 76.25), (10, 78.75), (11, 77.5), (12, 80.0), (13, 75.0), (14, 72.5), (15, 75.0), (16, 73.75), (17, 70.0), (18, 70.0), (19, 68.75), (20, 72.5)]}\n",
      "INFO flwr 2024-09-02 01:46:23,340 | app.py:228 | app_fit: losses_centralized [(0, (1.3955777032034737, 1.9500712156295776)), (1, (1.3906214577811105, 1.7888871942247664)), (2, (1.3569790806089128, 1.773152198110308)), (3, (1.2066626037870134, 1.842876400266375)), (4, (1.1059624552726746, 1.8019402197429113)), (5, (1.1082244515419006, 1.8146246331078666)), (6, (1.0622743708746774, 1.8539899247033256)), (7, (1.148147131715502, 1.8630037818636214)), (8, (1.270965005670275, 1.8521867138998849)), (9, (1.1245682750429427, 1.837875826018197)), (10, (1.307803907564708, 1.8365249804088049)), (11, (1.3570026414734977, 1.8378596305847168)), (12, (1.4191398578030723, 1.8554300921303886)), (13, (1.4947174191474915, 1.8806366239275252)), (14, (1.590330149446215, 1.9285200834274292)), (15, (1.670010277203151, 1.9965712513242448)), (16, (1.7521859492574419, 2.0540332283292497)), (17, (1.8843453185898917, 2.1146159512656078)), (18, (1.784360408782959, 2.1113942010062083)), (19, (1.933349004813603, 2.176277211734227)), (20, (2.0743726321629117, 2.2725752081189836))]\n",
      "INFO flwr 2024-09-02 01:46:23,340 | app.py:229 | app_fit: metrics_centralized {'accuracy': [(0, (25.0, 5.357142857142857)), (1, (28.125, 27.232142857142854)), (2, (28.125, 27.232142857142854)), (3, (39.285714285714285, 25.0)), (4, (42.410714285714285, 26.339285714285715)), (5, (56.69642857142857, 25.0)), (6, (54.46428571428571, 26.785714285714285)), (7, (66.96428571428571, 26.785714285714285)), (8, (66.07142857142857, 26.339285714285715)), (9, (63.83928571428571, 27.232142857142854)), (10, (66.51785714285714, 26.785714285714285)), (11, (66.96428571428571, 26.785714285714285)), (12, (66.96428571428571, 23.660714285714285)), (13, (69.64285714285714, 24.553571428571427)), (14, (70.08928571428571, 23.660714285714285)), (15, (67.41071428571429, 25.0)), (16, (69.19642857142857, 24.107142857142858)), (17, (68.75, 22.321428571428573)), (18, (66.07142857142857, 25.0)), (19, (65.625, 23.660714285714285)), (20, (64.73214285714286, 25.892857142857146))]}\n"
     ]
    },
    {
     "name": "stdout",
     "output_type": "stream",
     "text": [
      "Simulation Time = 623.9225866794586 seconds\n"
     ]
    }
   ],
   "source": [
    "import warnings\n",
    "warnings.simplefilter(\"ignore\")\n",
    "\n",
    "print(\"flwr\", fl.__version__)\n",
    "print(\"numpy\", np.__version__)\n",
    "print(\"torch\", torch.__version__)\n",
    "print(\"torchvision\", torchvision.__version__)\n",
    "print(f\"Training on {DEVICE}\")\n",
    "\n",
    "client_resources = {\"num_cpus\": 1}\n",
    "\n",
    "if DEVICE.type == \"cuda\":\n",
    "    client_resources[\"num_gpus\"] = 1\n",
    "\n",
    "model_save = model_save\n",
    "path_yaml = yaml_path\n",
    "path_roc = roc_path\n",
    "results_save = save_results\n",
    "path_matrix = matrix_path\n",
    "batch_size = batch_size\n",
    "\n",
    "print(\"Start simulation\")\n",
    "start_simulation = time.time()\n",
    "fl.simulation.start_simulation(\n",
    "    client_fn=client_fn,\n",
    "    num_clients=number_clients,\n",
    "    config=fl.server.ServerConfig(num_rounds=rounds),\n",
    "    strategy=strategy,\n",
    "    client_resources=client_resources\n",
    ")\n",
    "print(f\"Simulation Time = {time.time() - start_simulation} seconds\")"
   ]
  }
 ],
 "metadata": {
  "kernelspec": {
   "display_name": "fl_env",
   "language": "python",
   "name": "python3"
  },
  "language_info": {
   "codemirror_mode": {
    "name": "ipython",
    "version": 3
   },
   "file_extension": ".py",
   "mimetype": "text/x-python",
   "name": "python",
   "nbconvert_exporter": "python",
   "pygments_lexer": "ipython3",
   "version": "3.10.12"
  }
 },
 "nbformat": 4,
 "nbformat_minor": 2
}

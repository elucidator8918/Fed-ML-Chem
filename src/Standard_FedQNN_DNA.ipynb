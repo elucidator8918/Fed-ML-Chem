{
 "cells": [
  {
   "cell_type": "markdown",
   "metadata": {},
   "source": [
    "### Import necessary libraries and modules"
   ]
  },
  {
   "cell_type": "code",
   "execution_count": 1,
   "metadata": {},
   "outputs": [],
   "source": [
    "# %%bash\n",
    "\n",
    "# kaggle datasets download -d nageshsingh/dna-sequence-dataset\n",
    "# mkdir data data/DNA\n",
    "# unzip dna-sequence-dataset.zip -d data/DNA\n",
    "# rm dna-sequence-dataset.zip"
   ]
  },
  {
   "cell_type": "code",
   "execution_count": 2,
   "metadata": {},
   "outputs": [],
   "source": [
    "import os\n",
    "import pickle\n",
    "import time\n",
    "from collections import OrderedDict\n",
    "from typing import (\n",
    "    List, Tuple, Dict, Optional, Callable, Union\n",
    ")\n",
    "\n",
    "import numpy as np\n",
    "import torchvision\n",
    "import torch\n",
    "from torch import nn\n",
    "import torch.nn.functional as F\n",
    "import flwr as fl\n",
    "from flwr.common import (\n",
    "    Metrics, EvaluateIns, EvaluateRes, FitIns, FitRes, MetricsAggregationFn, \n",
    "    Scalar, logger, ndarrays_to_parameters, parameters_to_ndarrays,\n",
    "    Parameters, NDArrays\n",
    ")\n",
    "\n",
    "from flwr.server.client_proxy import ClientProxy\n",
    "from flwr.server.client_manager import ClientManager\n",
    "from flwr.server.strategy.aggregate import weighted_loss_avg, aggregate\n",
    "from logging import WARNING\n",
    "import pennylane as qml\n",
    "from utils import *\n",
    "\n",
    "os.environ['TOKENIZERS_PARALLELISM'] = 'false'"
   ]
  },
  {
   "cell_type": "markdown",
   "metadata": {},
   "source": [
    "### Model Architecture Creation"
   ]
  },
  {
   "cell_type": "code",
   "execution_count": 4,
   "metadata": {},
   "outputs": [],
   "source": [
    "n_qubits = 7\n",
    "n_layers = 7\n",
    "weight_shapes = {\"weights\": (n_layers, n_qubits)}\n",
    "\n",
    "dev = qml.device(\"default.qubit.torch\", wires=n_qubits)\n",
    "    \n",
    "@qml.qnode(dev, interface='torch')\n",
    "def quantum_net(inputs, weights):\n",
    "    qml.AngleEmbedding(inputs, wires=range(n_qubits)) \n",
    "    qml.BasicEntanglerLayers(weights,wires=range(n_qubits))\n",
    "    return [qml.expval(qml.PauliZ(i)) for i in range(n_qubits)]\n",
    "\n",
    "class Net(nn.Module):\n",
    "    \"\"\"\n",
    "    A better CNN model with improvements such as dropout and batch normalization.\n",
    "\n",
    "    Args:\n",
    "        num_classes: An integer indicating the number of classes in the dataset.\n",
    "    \"\"\"\n",
    "    def __init__(self, num_classes=10) -> None:\n",
    "        super(Net, self).__init__()\n",
    "        self.fc1 = nn.Linear(384, 1024)\n",
    "        self.fc2 = nn.Linear(1024, 512)\n",
    "        self.fc3 = nn.Linear(512, 256)\n",
    "        self.fc4 = nn.Linear(256, 128)\n",
    "        self.fc5 = nn.Linear(128, num_classes)          \n",
    "\n",
    "        self.qnn = qml.qnn.TorchLayer(quantum_net, weight_shapes)\n",
    "\n",
    "    def forward(self, x: torch.Tensor) -> torch.Tensor:\n",
    "        \"\"\"\n",
    "        Forward pass of the neural network\n",
    "        \"\"\"\n",
    "        x = F.relu(self.fc1(x))\n",
    "        x = F.relu(self.fc2(x))\n",
    "        x = F.relu(self.fc3(x))\n",
    "        x = F.relu(self.fc4(x))\n",
    "        \n",
    "        x = self.qnn(self.fc5(x))\n",
    "        return x"
   ]
  },
  {
   "cell_type": "markdown",
   "metadata": {},
   "source": [
    "### Define the FlowerClient class for federated learning"
   ]
  },
  {
   "cell_type": "code",
   "execution_count": null,
   "metadata": {},
   "outputs": [],
   "source": [
    "class FlowerClient(fl.client.NumPyClient):\n",
    "    def __init__(self, cid, net, trainloader, valloader, device, batch_size, save_results, matrix_path, roc_path,\n",
    "                 yaml_path, classes):\n",
    "        self.net = net\n",
    "        self.trainloader = trainloader\n",
    "        self.valloader = valloader\n",
    "        self.cid = cid\n",
    "        self.device = device\n",
    "        self.batch_size = batch_size\n",
    "        self.save_results = save_results\n",
    "        self.matrix_path = matrix_path\n",
    "        self.roc_path = roc_path\n",
    "        self.yaml_path = yaml_path\n",
    "        self.classes = classes\n",
    "\n",
    "    def get_parameters(self, config):\n",
    "        print(f\"[Client {self.cid}] get_parameters\")\n",
    "        return get_parameters2(self.net)\n",
    "\n",
    "    def fit(self, parameters, config):\n",
    "        server_round = config['server_round']\n",
    "        local_epochs = config['local_epochs']\n",
    "        lr = float(config[\"learning_rate\"])\n",
    "\n",
    "        print(f'[Client {self.cid}, round {server_round}] fit, config: {config}')\n",
    "\n",
    "        set_parameters(self.net, parameters)\n",
    "\n",
    "        criterion = torch.nn.CrossEntropyLoss()\n",
    "        optimizer = torch.optim.Adam(self.net.parameters(), lr=lr)\n",
    "\n",
    "        results = engine.train(self.net, self.trainloader, self.valloader, optimizer=optimizer, loss_fn=criterion,\n",
    "                               epochs=local_epochs, device=self.device)\n",
    "\n",
    "        if self.save_results:\n",
    "            save_graphs(self.save_results, local_epochs, results, f\"_Client {self.cid}\")\n",
    "\n",
    "        return get_parameters2(self.net), len(self.trainloader), {}\n",
    "\n",
    "    def evaluate(self, parameters, config):\n",
    "        print(f\"[Client {self.cid}] evaluate, config: {config}\")\n",
    "        set_parameters(self.net, parameters)\n",
    "\n",
    "        loss, accuracy, y_pred, y_true, y_proba = engine.test(self.net, self.valloader,\n",
    "                                                              loss_fn=torch.nn.CrossEntropyLoss(), device=self.device)\n",
    "\n",
    "        if self.save_results:\n",
    "            os.makedirs(self.save_results, exist_ok=True)\n",
    "            if self.matrix_path:\n",
    "                save_matrix(y_true, y_pred, self.save_results + self.matrix_path, self.classes)\n",
    "            if self.roc_path:\n",
    "                save_roc(y_true, y_proba, self.save_results + self.roc_path, len(self.classes))\n",
    "\n",
    "        return float(loss), len(self.valloader), {\"accuracy\": float(accuracy)}"
   ]
  },
  {
   "cell_type": "markdown",
   "metadata": {},
   "source": [
    "### Define the client_common function to set up the Flower client"
   ]
  },
  {
   "cell_type": "code",
   "execution_count": null,
   "metadata": {},
   "outputs": [],
   "source": [
    "def client_common(cid, model_save, path_yaml, path_roc, results_save, path_matrix,\n",
    "                  batch_size, trainloaders, valloaders, DEVICE, CLASSES):\n",
    "    trainloader = trainloaders[int(cid)]\n",
    "    valloader = valloaders[int(cid)]\n",
    "\n",
    "    net = Net(num_classes=len(CLASSES)).to(DEVICE)\n",
    "\n",
    "    if os.path.exists(model_save):\n",
    "        print(\" To get the checkpoint\")\n",
    "        checkpoint = torch.load(model_save, map_location=DEVICE)['model_state_dict']\n",
    "        net.load_state_dict(checkpoint)\n",
    "\n",
    "    return FlowerClient(cid, net, trainloader, valloader, device=DEVICE, batch_size=batch_size,\n",
    "                        matrix_path=path_matrix, roc_path=path_roc, save_results=results_save, yaml_path=path_yaml,\n",
    "                        classes=CLASSES)"
   ]
  },
  {
   "cell_type": "markdown",
   "metadata": {},
   "source": [
    "### Define utility functions for federated learning"
   ]
  },
  {
   "cell_type": "code",
   "execution_count": null,
   "metadata": {},
   "outputs": [],
   "source": [
    "def weighted_average(metrics: List[Tuple[int, Metrics]]) -> Metrics:\n",
    "    accuracies = [num_examples * m[\"accuracy\"] for num_examples, m in metrics]\n",
    "    examples = [num_examples for num_examples, _ in metrics]\n",
    "    return {\"accuracy\": sum(accuracies) / sum(examples)}\n",
    "\n",
    "def evaluate2(server_round: int, parameters: NDArrays,\n",
    "              config: Dict[str, Scalar]) -> Optional[Tuple[float, Dict[str, Scalar]]]:\n",
    "    set_parameters(central, parameters)\n",
    "    loss, accuracy, y_pred, y_true, y_proba = engine.test(central, testloader, loss_fn=torch.nn.CrossEntropyLoss(),\n",
    "                                                          device=DEVICE)\n",
    "    print(f\"Server-side evaluation loss {loss} / accuracy {accuracy}\")\n",
    "    return loss, {\"accuracy\": accuracy}\n",
    "\n",
    "def get_on_fit_config_fn(epoch=2, lr=0.001, batch_size=32) -> Callable[[int], Dict[str, str]]:\n",
    "    def fit_config(server_round: int) -> Dict[str, str]:\n",
    "        config = {\n",
    "            \"learning_rate\": str(lr),\n",
    "            \"batch_size\": str(batch_size),\n",
    "            \"server_round\": server_round,\n",
    "            \"local_epochs\": epoch\n",
    "        }\n",
    "        return config\n",
    "    return fit_config\n",
    "\n",
    "def aggreg_fit_checkpoint(server_round, aggregated_parameters, central_model, path_checkpoint):\n",
    "    if aggregated_parameters is not None:\n",
    "        print(f\"Saving round {server_round} aggregated_parameters...\")\n",
    "        aggregated_ndarrays: List[np.ndarray] = parameters_to_ndarrays(aggregated_parameters)\n",
    "        \n",
    "        params_dict = zip(central_model.state_dict().keys(), aggregated_ndarrays)\n",
    "        state_dict = OrderedDict({k: torch.tensor(v) for k, v in params_dict})\n",
    "        central_model.load_state_dict(state_dict, strict=True)\n",
    "        if path_checkpoint:\n",
    "            torch.save({\n",
    "                'model_state_dict': central_model.state_dict(),\n",
    "            }, path_checkpoint)"
   ]
  },
  {
   "cell_type": "markdown",
   "metadata": {},
   "source": [
    "### Define the FedCustom strategy class"
   ]
  },
  {
   "cell_type": "code",
   "execution_count": null,
   "metadata": {},
   "outputs": [],
   "source": [
    "# A Strategy from scratch with the same sampling of the clients as it is in FedAvg\n",
    "# and then change the configuration dictionary\n",
    "class FedCustom(fl.server.strategy.Strategy):\n",
    "    def __init__(\n",
    "            self,\n",
    "            fraction_fit: float = 1.0,\n",
    "            fraction_evaluate: float = 1.0,\n",
    "            min_fit_clients: int = 2,\n",
    "            min_evaluate_clients: int = 2,\n",
    "            min_available_clients: int = 2,\n",
    "            evaluate_fn: Optional[\n",
    "                    Callable[[int, NDArrays, Dict[str, Scalar]], Optional[Tuple[float, Dict[str, Scalar]]]]\n",
    "                ] = None,\n",
    "            on_fit_config_fn: Optional[Callable[[int], Dict[str, Scalar]]] = None,\n",
    "            on_evaluate_config_fn: Optional[Callable[[int], Dict[str, Scalar]]] = None,\n",
    "            accept_failures: bool = True,\n",
    "            initial_parameters: Optional[Parameters] = None,\n",
    "            fit_metrics_aggregation_fn: Optional[MetricsAggregationFn] = None,\n",
    "            evaluate_metrics_aggregation_fn: Optional[MetricsAggregationFn] = None,\n",
    "    ) -> None:\n",
    "        super().__init__()\n",
    "        self.fraction_fit = fraction_fit\n",
    "        self.fraction_evaluate = fraction_evaluate\n",
    "        self.min_fit_clients = min_fit_clients\n",
    "        self.min_evaluate_clients = min_evaluate_clients\n",
    "        self.min_available_clients = min_available_clients\n",
    "        self.evaluate_fn = evaluate_fn\n",
    "        self.on_fit_config_fn = on_fit_config_fn\n",
    "        self.on_evaluate_config_fn = on_evaluate_config_fn,\n",
    "        self.accept_failures = accept_failures\n",
    "        self.initial_parameters = initial_parameters\n",
    "        self.fit_metrics_aggregation_fn = fit_metrics_aggregation_fn\n",
    "        self.evaluate_metrics_aggregation_fn = evaluate_metrics_aggregation_fn\n",
    "\n",
    "    def __repr__(self) -> str:\n",
    "        # Same function as FedAvg(Strategy)\n",
    "        return f\"FedCustom (accept_failures={self.accept_failures})\"\n",
    "\n",
    "    def initialize_parameters(\n",
    "        self, client_manager: ClientManager\n",
    "    ) -> Optional[Parameters]:\n",
    "        \"\"\"Initialize global model parameters.\"\"\"\n",
    "        # Same function as FedAvg(Strategy)\n",
    "        initial_parameters = self.initial_parameters\n",
    "        self.initial_parameters = None  # Don't keep initial parameters in memory\n",
    "        return initial_parameters\n",
    "\n",
    "    def num_fit_clients(self, num_available_clients: int) -> Tuple[int, int]:\n",
    "        \"\"\"Return sample size and required number of clients.\"\"\"\n",
    "        # Same function as FedAvg(Strategy)\n",
    "        num_clients = int(num_available_clients * self.fraction_fit)\n",
    "        return max(num_clients, self.min_fit_clients), self.min_available_clients\n",
    "\n",
    "    def configure_fit(\n",
    "        self, server_round: int, parameters: Parameters, client_manager: ClientManager\n",
    "    ) -> List[Tuple[ClientProxy, FitIns]]:\n",
    "        \"\"\"Configure the next round of training.\"\"\"\n",
    "        # Sample clients\n",
    "        sample_size, min_num_clients = self.num_fit_clients(\n",
    "            client_manager.num_available()\n",
    "        )\n",
    "\n",
    "        clients = client_manager.sample(\n",
    "            num_clients=sample_size, min_num_clients=min_num_clients\n",
    "        )\n",
    "        # Create custom configs\n",
    "        n_clients = len(clients)\n",
    "        half_clients = n_clients // 2\n",
    "        # Custom fit config function provided\n",
    "        standard_lr = lr\n",
    "        higher_lr = 0.003\n",
    "        config = {\"server_round\": server_round, \"local_epochs\": 1}\n",
    "        if self.on_fit_config_fn is not None:\n",
    "            # Custom fit config function provided\n",
    "            config = self.on_fit_config_fn(server_round)\n",
    "\n",
    "        # fit_ins = FitIns(parameters, config)\n",
    "        # Return client/config pairs\n",
    "        fit_configurations = []\n",
    "        for idx, client in enumerate(clients):\n",
    "            config[\"learning_rate\"] = standard_lr if idx < half_clients else higher_lr\n",
    "            \"\"\"\n",
    "            Each pair of (ClientProxy, FitRes) constitutes \n",
    "            a successful update from one of the previously selected clients.\n",
    "            \"\"\"\n",
    "            fit_configurations.append(\n",
    "                (\n",
    "                    client,\n",
    "                    FitIns(\n",
    "                        parameters,\n",
    "                        config\n",
    "                    )\n",
    "                )\n",
    "            )\n",
    "        # Successful updates from the previously selected and configured clients\n",
    "        return fit_configurations\n",
    "\n",
    "    def aggregate_fit(\n",
    "        self,\n",
    "        server_round: int,\n",
    "        results: List[Tuple[ClientProxy, FitRes]],\n",
    "        failures: List[Union[Tuple[ClientProxy, FitRes], BaseException]],\n",
    "    ) -> Tuple[Optional[Parameters], Dict[str, Scalar]]:\n",
    "        \"\"\"Aggregate fit results using weighted average. (each round)\"\"\"\n",
    "        # Same function as FedAvg(Strategy)\n",
    "        if not results:\n",
    "            return None, {}\n",
    "\n",
    "        # Do not aggregate if there are failures and failures are not accepted\n",
    "        if not self.accept_failures and failures:\n",
    "            return None, {}\n",
    "\n",
    "        # Convert results parameters --> array matrix\n",
    "        weights_results = [\n",
    "            (parameters_to_ndarrays(fit_res.parameters), fit_res.num_examples)\n",
    "            for _, fit_res in results\n",
    "        ]\n",
    "\n",
    "        # Aggregate parameters using weighted average between the clients and convert back to parameters object (bytes)\n",
    "        parameters_aggregated = ndarrays_to_parameters(aggregate(weights_results))\n",
    "\n",
    "        metrics_aggregated = {}\n",
    "        # Aggregate custom metrics if aggregation fn was provided\n",
    "        if self.fit_metrics_aggregation_fn:\n",
    "            fit_metrics = [(res.num_examples, res.metrics) for _, res in results]\n",
    "            metrics_aggregated = self.fit_metrics_aggregation_fn(fit_metrics)\n",
    "\n",
    "        elif server_round == 1:  # Only log this warning once\n",
    "            logger.log(WARNING, \"No fit_metrics_aggregation_fn provided\")\n",
    "\n",
    "        # Same function as SaveModelStrategy(fl.server.strategy.FedAvg)\n",
    "        \"\"\"Aggregate model weights using weighted average and store checkpoint\"\"\"\n",
    "        aggreg_fit_checkpoint(server_round, parameters_aggregated, central, model_save)\n",
    "        return parameters_aggregated, metrics_aggregated\n",
    "\n",
    "    def num_evaluation_clients(self, num_available_clients: int) -> Tuple[int, int]:\n",
    "        \"\"\"Use a fraction of available clients for evaluation.\"\"\"\n",
    "        # Same function as FedAvg(Strategy)\n",
    "        num_clients = int(num_available_clients * self.fraction_evaluate)\n",
    "        return max(num_clients, self.min_evaluate_clients), self.min_available_clients\n",
    "\n",
    "    def configure_evaluate(\n",
    "        self, server_round: int, parameters: Parameters, client_manager: ClientManager\n",
    "    ) -> List[Tuple[ClientProxy, EvaluateIns]]:\n",
    "        \"\"\"Configure the next round of evaluation.\"\"\"\n",
    "        # Same function as FedAvg(Strategy)\n",
    "        # Do not configure federated evaluation if fraction eval is 0.\n",
    "        if self.fraction_evaluate == 0.0:\n",
    "            return []\n",
    "\n",
    "        # Parameters and config\n",
    "        config = {}  # {\"server_round\": server_round, \"local_epochs\": 1}\n",
    "\n",
    "        evaluate_ins = EvaluateIns(parameters, config)\n",
    "\n",
    "        # Sample clients\n",
    "        sample_size, min_num_clients = self.num_evaluation_clients(\n",
    "            client_manager.num_available()\n",
    "        )\n",
    "\n",
    "        clients = client_manager.sample(\n",
    "            num_clients=sample_size, min_num_clients=min_num_clients\n",
    "        )\n",
    "\n",
    "        # Return client/config pairs\n",
    "        # Each pair of (ClientProxy, FitRes) constitutes a successful update from one of the previously selected clients\n",
    "        return [(client, evaluate_ins) for client in clients]\n",
    "\n",
    "    def aggregate_evaluate(\n",
    "        self,\n",
    "        server_round: int,\n",
    "        results: List[Tuple[ClientProxy, EvaluateRes]],\n",
    "        failures: List[Union[Tuple[ClientProxy, EvaluateRes], BaseException]],\n",
    "    ) -> Tuple[Optional[float], Dict[str, Scalar]]:\n",
    "        \"\"\"Aggregate evaluation losses using weighted average.\"\"\"\n",
    "        # Same function as FedAvg(Strategy)\n",
    "        if not results:\n",
    "            return None, {}\n",
    "\n",
    "        # Do not aggregate if there are failures and failures are not accepted\n",
    "        if not self.accept_failures and failures:\n",
    "            return None, {}\n",
    "\n",
    "        # Aggregate loss\n",
    "        loss_aggregated = weighted_loss_avg(\n",
    "            [\n",
    "                (evaluate_res.num_examples, evaluate_res.loss)\n",
    "                for _, evaluate_res in results\n",
    "            ]\n",
    "        )\n",
    "\n",
    "        metrics_aggregated = {}\n",
    "        # Aggregate custom metrics if aggregation fn was provided\n",
    "        if self.evaluate_metrics_aggregation_fn:\n",
    "            eval_metrics = [(res.num_examples, res.metrics) for _, res in results]\n",
    "            metrics_aggregated = self.evaluate_metrics_aggregation_fn(eval_metrics)\n",
    "\n",
    "        # Only log this warning once\n",
    "        elif server_round == 1:\n",
    "            logger.log(WARNING, \"No evaluate_metrics_aggregation_fn provided\")\n",
    "\n",
    "        return loss_aggregated, metrics_aggregated\n",
    "\n",
    "    def evaluate(\n",
    "        self, server_round: int, parameters: Parameters\n",
    "    ) -> Optional[Tuple[float, Dict[str, Scalar]]]:\n",
    "        \"\"\"Evaluate global model parameters using an evaluation function.\"\"\"\n",
    "        # Same function as FedAvg(Strategy)\n",
    "        if self.evaluate_fn is None:\n",
    "            # Let's assume we won't perform the global model evaluation on the server side.\n",
    "            return None\n",
    "\n",
    "        # if we have a global model evaluation on the server side :\n",
    "        parameters_ndarrays = parameters_to_ndarrays(parameters)\n",
    "        eval_res = self.evaluate_fn(server_round, parameters_ndarrays, {})\n",
    "\n",
    "        # if you haven't results\n",
    "        if eval_res is None:\n",
    "            return None\n",
    "\n",
    "        loss, metrics = eval_res\n",
    "        return loss, metrics"
   ]
  },
  {
   "cell_type": "markdown",
   "metadata": {},
   "source": [
    "### Set up the federated learning strategy"
   ]
  },
  {
   "cell_type": "code",
   "execution_count": 9,
   "metadata": {},
   "outputs": [],
   "source": [
    "# Set up your variables directly\n",
    "data_path = 'data/'\n",
    "dataset = 'DNA'\n",
    "yaml_path = './results/FL/results.yml'\n",
    "seed = 0\n",
    "num_workers = 0\n",
    "max_epochs = 10\n",
    "batch_size = 32\n",
    "splitter = 10\n",
    "device = 'gpu'\n",
    "number_clients = 4\n",
    "save_results = 'results/FL/'\n",
    "matrix_path = 'confusion_matrix.png'\n",
    "roc_path = 'roc.png'\n",
    "model_save = 'DNA_fl.pt'\n",
    "min_fit_clients = 4\n",
    "min_avail_clients = 4\n",
    "min_eval_clients = 4\n",
    "rounds = 40\n",
    "frac_fit = 1.0\n",
    "frac_eval = 0.5\n",
    "lr = 1e-3"
   ]
  },
  {
   "cell_type": "code",
   "execution_count": 10,
   "metadata": {},
   "outputs": [],
   "source": [
    "DEVICE = torch.device(choice_device(device))\n",
    "CLASSES = classes_string(dataset)\n",
    "central = Net(num_classes=len(CLASSES)).to(DEVICE)"
   ]
  },
  {
   "cell_type": "code",
   "execution_count": 11,
   "metadata": {},
   "outputs": [],
   "source": [
    "strategy = FedCustom(\n",
    "    fraction_fit=frac_fit,\n",
    "    fraction_evaluate=frac_eval,\n",
    "    min_fit_clients=min_fit_clients,\n",
    "    min_evaluate_clients=min_eval_clients if min_eval_clients else number_clients // 2,\n",
    "    min_available_clients=min_avail_clients,\n",
    "    evaluate_metrics_aggregation_fn=weighted_average,\n",
    "    initial_parameters=ndarrays_to_parameters(get_parameters2(central)),\n",
    "    evaluate_fn=evaluate2,\n",
    "    on_fit_config_fn=get_on_fit_config_fn(epoch=max_epochs, batch_size=batch_size),\n",
    ")"
   ]
  },
  {
   "cell_type": "code",
   "execution_count": 12,
   "metadata": {},
   "outputs": [
    {
     "name": "stdout",
     "output_type": "stream",
     "text": [
      "DNA\n"
     ]
    },
    {
     "name": "stderr",
     "output_type": "stream",
     "text": [
      "/home/cudaq/.local/lib/python3.10/site-packages/transformers/tokenization_utils_base.py:1601: FutureWarning: `clean_up_tokenization_spaces` was not set. It will be set to `True` by default. This behavior will be depracted in transformers v4.45, and will be then set to `False` by default. For more details check this issue: https://github.com/huggingface/transformers/issues/31884\n",
      "  warnings.warn(\n"
     ]
    },
    {
     "name": "stdout",
     "output_type": "stream",
     "text": [
      "The training set is created for the classes: ('0', '1', '2', '3', '4', '5', '6')\n"
     ]
    }
   ],
   "source": [
    "trainloaders, valloaders, testloader = data_setup.load_datasets(num_clients=number_clients,\n",
    "                                                                batch_size=batch_size,\n",
    "                                                                resize=None,\n",
    "                                                                seed=seed,\n",
    "                                                                num_workers=num_workers,\n",
    "                                                                splitter=splitter,\n",
    "                                                                dataset=dataset,  # Use the specified dataset\n",
    "                                                                data_path=data_path,\n",
    "                                                                data_path_val=None)  # Use the same path for validation data\n",
    "\n",
    "def client_fn(cid: str) -> FlowerClient:\n",
    "    return client_common(cid,\n",
    "                         model_save, path_yaml, path_roc, results_save, path_matrix,\n",
    "                         batch_size, trainloaders, valloaders, DEVICE, CLASSES)"
   ]
  },
  {
   "cell_type": "markdown",
   "metadata": {},
   "source": [
    "### Define the client_fn function and set up the simulation"
   ]
  },
  {
   "cell_type": "code",
   "execution_count": 13,
   "metadata": {},
   "outputs": [
    {
     "name": "stderr",
     "output_type": "stream",
     "text": [
      "INFO flwr 2024-08-30 01:39:24,416 | app.py:145 | Starting Flower simulation, config: ServerConfig(num_rounds=40, round_timeout=None)\n"
     ]
    },
    {
     "name": "stdout",
     "output_type": "stream",
     "text": [
      "flwr 1.5.0\n",
      "numpy 1.26.4\n",
      "torch 2.3.1+cu121\n",
      "torchvision 0.18.1+cu121\n",
      "Training on cuda:0\n",
      "Start simulation\n"
     ]
    },
    {
     "name": "stderr",
     "output_type": "stream",
     "text": [
      "2024-08-30 01:39:25,319\tWARNING utils.py:592 -- Ray currently does not support initializing Ray with fractional cpus. Your num_cpus will be truncated from 11.5 to 11.\n",
      "2024-08-30 01:39:26,459\tINFO worker.py:1783 -- Started a local Ray instance.\n",
      "INFO flwr 2024-08-30 01:39:27,012 | app.py:179 | Flower VCE: Ray initialized with resources: {'GPU': 1.0, 'object_store_memory': 71563595366.0, 'node:10.42.22.180': 1.0, 'CPU': 11.0, 'accelerator_type:A100': 1.0, 'memory': 156981722522.0, 'node:__internal_head__': 1.0}\n",
      "INFO flwr 2024-08-30 01:39:27,013 | server.py:89 | Initializing global parameters\n",
      "INFO flwr 2024-08-30 01:39:27,014 | server.py:272 | Using initial parameters provided by strategy\n",
      "INFO flwr 2024-08-30 01:39:27,014 | server.py:91 | Evaluating initial parameters\n"
     ]
    },
    {
     "name": "stdout",
     "output_type": "stream",
     "text": [
      "Updated model\n"
     ]
    },
    {
     "name": "stderr",
     "output_type": "stream",
     "text": [
      "INFO flwr 2024-08-30 01:39:27,867 | server.py:94 | initial parameters (loss, other metrics): 1.9640695750713348, {'accuracy': 7.403273809523809}\n",
      "INFO flwr 2024-08-30 01:39:27,869 | server.py:104 | FL starting\n",
      "DEBUG flwr 2024-08-30 01:39:27,869 | server.py:222 | fit_round 1: strategy sampled 4 clients (out of 4)\n"
     ]
    },
    {
     "name": "stdout",
     "output_type": "stream",
     "text": [
      "Server-side evaluation loss 1.9640695750713348 / accuracy 7.403273809523809\n",
      "\u001b[36m(launch_and_fit pid=75448)\u001b[0m Run WITHOUT homomorphic encryption\n",
      "\u001b[36m(launch_and_fit pid=75448)\u001b[0m [Client 2, round 1] fit, config: {'learning_rate': 0.003, 'batch_size': '32', 'server_round': 1, 'local_epochs': 10}\n",
      "\u001b[36m(launch_and_fit pid=75448)\u001b[0m Updated model\n"
     ]
    },
    {
     "name": "stderr",
     "output_type": "stream",
     "text": [
      "  0%|\u001b[34m          \u001b[0m| 0/10 [00:00<?, ?it/s]\n"
     ]
    },
    {
     "name": "stdout",
     "output_type": "stream",
     "text": [
      "\u001b[36m(launch_and_fit pid=75448)\u001b[0m \tTrain Epoch: 1 \tTrain_loss: 1.9303 | Train_acc: 20.9583 % | Validation_loss: 1.9072 | Validation_acc: 45.1087 %\n"
     ]
    },
    {
     "name": "stderr",
     "output_type": "stream",
     "text": [
      " 10%|\u001b[34m█         \u001b[0m| 1/10 [00:02<00:20,  2.24s/it]\n"
     ]
    },
    {
     "name": "stdout",
     "output_type": "stream",
     "text": [
      "\u001b[36m(launch_and_fit pid=75448)\u001b[0m \tTrain Epoch: 2 \tTrain_loss: 1.9053 | Train_acc: 31.2679 % | Validation_loss: 1.8710 | Validation_acc: 45.1087 %\n"
     ]
    },
    {
     "name": "stderr",
     "output_type": "stream",
     "text": [
      " 20%|\u001b[34m██        \u001b[0m| 2/10 [00:04<00:16,  2.05s/it]\n"
     ]
    },
    {
     "name": "stdout",
     "output_type": "stream",
     "text": [
      "\u001b[36m(launch_and_fit pid=75448)\u001b[0m \tTrain Epoch: 3 \tTrain_loss: 1.8865 | Train_acc: 31.0774 % | Validation_loss: 1.8406 | Validation_acc: 45.1087 %\n"
     ]
    },
    {
     "name": "stderr",
     "output_type": "stream",
     "text": [
      " 30%|\u001b[34m███       \u001b[0m| 3/10 [00:06<00:13,  2.00s/it]\n"
     ]
    },
    {
     "name": "stdout",
     "output_type": "stream",
     "text": [
      "\u001b[36m(launch_and_fit pid=75448)\u001b[0m \tTrain Epoch: 4 \tTrain_loss: 1.8728 | Train_acc: 31.2083 % | Validation_loss: 1.8299 | Validation_acc: 45.1087 %\n"
     ]
    },
    {
     "name": "stderr",
     "output_type": "stream",
     "text": [
      " 40%|\u001b[34m████      \u001b[0m| 4/10 [00:08<00:11,  1.98s/it]\n"
     ]
    },
    {
     "name": "stdout",
     "output_type": "stream",
     "text": [
      "\u001b[36m(launch_and_fit pid=75448)\u001b[0m \tTrain Epoch: 5 \tTrain_loss: 1.8671 | Train_acc: 31.4643 % | Validation_loss: 1.8139 | Validation_acc: 45.1087 %\n"
     ]
    },
    {
     "name": "stderr",
     "output_type": "stream",
     "text": [
      " 50%|\u001b[34m█████     \u001b[0m| 5/10 [00:10<00:10,  2.02s/it]\n"
     ]
    },
    {
     "name": "stdout",
     "output_type": "stream",
     "text": [
      "\u001b[36m(launch_and_fit pid=75448)\u001b[0m \tTrain Epoch: 6 \tTrain_loss: 1.8667 | Train_acc: 31.1369 % | Validation_loss: 1.8091 | Validation_acc: 45.1087 %\n"
     ]
    },
    {
     "name": "stderr",
     "output_type": "stream",
     "text": [
      " 60%|\u001b[34m██████    \u001b[0m| 6/10 [00:12<00:08,  2.04s/it]\n"
     ]
    },
    {
     "name": "stdout",
     "output_type": "stream",
     "text": [
      "\u001b[36m(launch_and_fit pid=75448)\u001b[0m \tTrain Epoch: 7 \tTrain_loss: 1.8503 | Train_acc: 31.2738 % | Validation_loss: 1.8030 | Validation_acc: 45.1087 %\n"
     ]
    },
    {
     "name": "stderr",
     "output_type": "stream",
     "text": [
      " 70%|\u001b[34m███████   \u001b[0m| 7/10 [00:14<00:06,  2.05s/it]\n"
     ]
    },
    {
     "name": "stdout",
     "output_type": "stream",
     "text": [
      "\u001b[36m(launch_and_fit pid=75448)\u001b[0m \tTrain Epoch: 8 \tTrain_loss: 1.8545 | Train_acc: 31.1369 % | Validation_loss: 1.7966 | Validation_acc: 45.1087 %\n"
     ]
    },
    {
     "name": "stderr",
     "output_type": "stream",
     "text": [
      " 80%|\u001b[34m████████  \u001b[0m| 8/10 [00:16<00:04,  2.04s/it]\n"
     ]
    },
    {
     "name": "stdout",
     "output_type": "stream",
     "text": [
      "\u001b[36m(launch_and_fit pid=75448)\u001b[0m \tTrain Epoch: 9 \tTrain_loss: 1.8421 | Train_acc: 32.6429 % | Validation_loss: 1.7925 | Validation_acc: 45.1087 %\n"
     ]
    },
    {
     "name": "stderr",
     "output_type": "stream",
     "text": [
      " 90%|\u001b[34m█████████ \u001b[0m| 9/10 [00:18<00:02,  2.05s/it]\n"
     ]
    },
    {
     "name": "stdout",
     "output_type": "stream",
     "text": [
      "\u001b[36m(launch_and_fit pid=75448)\u001b[0m \tTrain Epoch: 10 \tTrain_loss: 1.8364 | Train_acc: 33.3988 % | Validation_loss: 1.7890 | Validation_acc: 45.1087 %\n",
      "\u001b[36m(launch_and_fit pid=75448)\u001b[0m save graph in  results/FL/\n"
     ]
    },
    {
     "name": "stderr",
     "output_type": "stream",
     "text": [
      "100%|\u001b[34m██████████\u001b[0m| 10/10 [00:20<00:00,  2.06s/it]\n"
     ]
    },
    {
     "name": "stdout",
     "output_type": "stream",
     "text": [
      "\u001b[36m(launch_and_fit pid=75448)\u001b[0m Run WITHOUT homomorphic encryption\n",
      "\u001b[36m(launch_and_fit pid=75448)\u001b[0m [Client 0, round 1] fit, config: {'learning_rate': 0.003, 'batch_size': '32', 'server_round': 1, 'local_epochs': 10}\n",
      "\u001b[36m(launch_and_fit pid=75448)\u001b[0m Updated model\n"
     ]
    },
    {
     "name": "stderr",
     "output_type": "stream",
     "text": [
      "  0%|\u001b[34m          \u001b[0m| 0/10 [00:00<?, ?it/s]\n"
     ]
    },
    {
     "name": "stdout",
     "output_type": "stream",
     "text": [
      "\u001b[36m(launch_and_fit pid=75448)\u001b[0m \tTrain Epoch: 1 \tTrain_loss: 1.9149 | Train_acc: 22.6369 % | Validation_loss: 1.9031 | Validation_acc: 27.8533 %\n"
     ]
    },
    {
     "name": "stderr",
     "output_type": "stream",
     "text": [
      " 10%|\u001b[34m█         \u001b[0m| 1/10 [00:01<00:17,  1.96s/it]\n"
     ]
    },
    {
     "name": "stdout",
     "output_type": "stream",
     "text": [
      "\u001b[36m(launch_and_fit pid=75448)\u001b[0m \tTrain Epoch: 2 \tTrain_loss: 1.8996 | Train_acc: 26.6310 % | Validation_loss: 1.8931 | Validation_acc: 27.8533 %\n"
     ]
    },
    {
     "name": "stderr",
     "output_type": "stream",
     "text": [
      " 20%|\u001b[34m██        \u001b[0m| 2/10 [00:04<00:16,  2.04s/it]\n"
     ]
    },
    {
     "name": "stdout",
     "output_type": "stream",
     "text": [
      "\u001b[36m(launch_and_fit pid=75448)\u001b[0m \tTrain Epoch: 3 \tTrain_loss: 1.8852 | Train_acc: 30.0179 % | Validation_loss: 1.8820 | Validation_acc: 27.8533 %\n"
     ]
    },
    {
     "name": "stderr",
     "output_type": "stream",
     "text": [
      " 30%|\u001b[34m███       \u001b[0m| 3/10 [00:06<00:14,  2.03s/it]\n"
     ]
    },
    {
     "name": "stdout",
     "output_type": "stream",
     "text": [
      "\u001b[36m(launch_and_fit pid=75448)\u001b[0m \tTrain Epoch: 4 \tTrain_loss: 1.8729 | Train_acc: 30.7143 % | Validation_loss: 1.8760 | Validation_acc: 27.8533 %\n"
     ]
    },
    {
     "name": "stderr",
     "output_type": "stream",
     "text": [
      " 40%|\u001b[34m████      \u001b[0m| 4/10 [00:08<00:12,  2.00s/it]\n"
     ]
    },
    {
     "name": "stdout",
     "output_type": "stream",
     "text": [
      "\u001b[36m(launch_and_fit pid=75448)\u001b[0m \tTrain Epoch: 5 \tTrain_loss: 1.8678 | Train_acc: 30.5774 % | Validation_loss: 1.8798 | Validation_acc: 27.8533 %\n"
     ]
    },
    {
     "name": "stderr",
     "output_type": "stream",
     "text": [
      " 50%|\u001b[34m█████     \u001b[0m| 5/10 [00:09<00:09,  1.99s/it]\n"
     ]
    },
    {
     "name": "stdout",
     "output_type": "stream",
     "text": [
      "\u001b[36m(launch_and_fit pid=75448)\u001b[0m \tTrain Epoch: 6 \tTrain_loss: 1.8704 | Train_acc: 29.6488 % | Validation_loss: 1.8808 | Validation_acc: 27.8533 %\n"
     ]
    },
    {
     "name": "stderr",
     "output_type": "stream",
     "text": [
      " 60%|\u001b[34m██████    \u001b[0m| 6/10 [00:11<00:07,  1.99s/it]\n"
     ]
    },
    {
     "name": "stdout",
     "output_type": "stream",
     "text": [
      "\u001b[36m(launch_and_fit pid=75448)\u001b[0m \tTrain Epoch: 7 \tTrain_loss: 1.8592 | Train_acc: 30.8512 % | Validation_loss: 1.8646 | Validation_acc: 27.8533 %\n"
     ]
    },
    {
     "name": "stderr",
     "output_type": "stream",
     "text": [
      " 70%|\u001b[34m███████   \u001b[0m| 7/10 [00:13<00:05,  1.99s/it]\n"
     ]
    },
    {
     "name": "stdout",
     "output_type": "stream",
     "text": [
      "\u001b[36m(launch_and_fit pid=75448)\u001b[0m \tTrain Epoch: 8 \tTrain_loss: 1.8547 | Train_acc: 30.6429 % | Validation_loss: 1.8648 | Validation_acc: 31.3859 %\n"
     ]
    },
    {
     "name": "stderr",
     "output_type": "stream",
     "text": [
      " 80%|\u001b[34m████████  \u001b[0m| 8/10 [00:15<00:04,  2.00s/it]\n"
     ]
    },
    {
     "name": "stdout",
     "output_type": "stream",
     "text": [
      "\u001b[36m(launch_and_fit pid=75448)\u001b[0m \tTrain Epoch: 9 \tTrain_loss: 1.8483 | Train_acc: 31.9524 % | Validation_loss: 1.8637 | Validation_acc: 31.3859 %\n"
     ]
    },
    {
     "name": "stderr",
     "output_type": "stream",
     "text": [
      " 90%|\u001b[34m█████████ \u001b[0m| 9/10 [00:18<00:02,  2.01s/it]\n"
     ]
    },
    {
     "name": "stdout",
     "output_type": "stream",
     "text": [
      "\u001b[36m(launch_and_fit pid=75448)\u001b[0m \tTrain Epoch: 10 \tTrain_loss: 1.8574 | Train_acc: 31.6548 % | Validation_loss: 1.8681 | Validation_acc: 30.3442 %\n",
      "\u001b[36m(launch_and_fit pid=75448)\u001b[0m save graph in  results/FL/\n",
      "\u001b[36m(launch_and_fit pid=75448)\u001b[0m Run WITHOUT homomorphic encryption\n"
     ]
    },
    {
     "name": "stderr",
     "output_type": "stream",
     "text": [
      "100%|\u001b[34m██████████\u001b[0m| 10/10 [00:20<00:00,  2.01s/it]\n"
     ]
    },
    {
     "name": "stdout",
     "output_type": "stream",
     "text": [
      "\u001b[36m(launch_and_fit pid=75448)\u001b[0m [Client 1, round 1] fit, config: {'learning_rate': 0.003, 'batch_size': '32', 'server_round': 1, 'local_epochs': 10}\n",
      "\u001b[36m(launch_and_fit pid=75448)\u001b[0m Updated model\n"
     ]
    },
    {
     "name": "stderr",
     "output_type": "stream",
     "text": [
      "  0%|\u001b[34m          \u001b[0m| 0/10 [00:00<?, ?it/s]\n"
     ]
    },
    {
     "name": "stdout",
     "output_type": "stream",
     "text": [
      "\u001b[36m(launch_and_fit pid=75448)\u001b[0m \tTrain Epoch: 1 \tTrain_loss: 1.9144 | Train_acc: 22.8929 % | Validation_loss: 1.8731 | Validation_acc: 41.5761 %\n"
     ]
    },
    {
     "name": "stderr",
     "output_type": "stream",
     "text": [
      " 10%|\u001b[34m█         \u001b[0m| 1/10 [00:02<00:18,  2.06s/it]\n"
     ]
    },
    {
     "name": "stdout",
     "output_type": "stream",
     "text": [
      "\u001b[36m(launch_and_fit pid=75448)\u001b[0m \tTrain Epoch: 2 \tTrain_loss: 1.8987 | Train_acc: 25.2083 % | Validation_loss: 1.8892 | Validation_acc: 41.5761 %\n"
     ]
    },
    {
     "name": "stderr",
     "output_type": "stream",
     "text": [
      " 20%|\u001b[34m██        \u001b[0m| 2/10 [00:04<00:16,  2.04s/it]\n"
     ]
    },
    {
     "name": "stdout",
     "output_type": "stream",
     "text": [
      "\u001b[36m(launch_and_fit pid=75448)\u001b[0m \tTrain Epoch: 3 \tTrain_loss: 1.8881 | Train_acc: 28.3869 % | Validation_loss: 1.8465 | Validation_acc: 41.5761 %\n"
     ]
    },
    {
     "name": "stderr",
     "output_type": "stream",
     "text": [
      " 30%|\u001b[34m███       \u001b[0m| 3/10 [00:06<00:14,  2.05s/it]\n"
     ]
    },
    {
     "name": "stdout",
     "output_type": "stream",
     "text": [
      "\u001b[36m(launch_and_fit pid=75448)\u001b[0m \tTrain Epoch: 4 \tTrain_loss: 1.8763 | Train_acc: 29.0298 % | Validation_loss: 1.8366 | Validation_acc: 41.5761 %\n"
     ]
    },
    {
     "name": "stderr",
     "output_type": "stream",
     "text": [
      " 40%|\u001b[34m████      \u001b[0m| 4/10 [00:08<00:13,  2.17s/it]\n"
     ]
    },
    {
     "name": "stdout",
     "output_type": "stream",
     "text": [
      "\u001b[36m(launch_and_fit pid=75448)\u001b[0m \tTrain Epoch: 5 \tTrain_loss: 1.8742 | Train_acc: 28.8274 % | Validation_loss: 1.8385 | Validation_acc: 41.9837 %\n"
     ]
    },
    {
     "name": "stderr",
     "output_type": "stream",
     "text": [
      " 50%|\u001b[34m█████     \u001b[0m| 5/10 [00:25<00:38,  7.62s/it]\n"
     ]
    },
    {
     "name": "stdout",
     "output_type": "stream",
     "text": [
      "\u001b[36m(launch_and_fit pid=75448)\u001b[0m \tTrain Epoch: 6 \tTrain_loss: 1.8711 | Train_acc: 28.8333 % | Validation_loss: 1.8183 | Validation_acc: 41.5761 %\n"
     ]
    },
    {
     "name": "stderr",
     "output_type": "stream",
     "text": [
      " 60%|\u001b[34m██████    \u001b[0m| 6/10 [00:47<00:50, 12.54s/it]\n"
     ]
    },
    {
     "name": "stdout",
     "output_type": "stream",
     "text": [
      "\u001b[36m(launch_and_fit pid=75448)\u001b[0m \tTrain Epoch: 7 \tTrain_loss: 1.8620 | Train_acc: 28.9524 % | Validation_loss: 1.8218 | Validation_acc: 41.5761 %\n"
     ]
    },
    {
     "name": "stderr",
     "output_type": "stream",
     "text": [
      " 70%|\u001b[34m███████   \u001b[0m| 7/10 [01:14<00:51, 17.21s/it]\n"
     ]
    },
    {
     "name": "stdout",
     "output_type": "stream",
     "text": [
      "\u001b[36m(launch_and_fit pid=75448)\u001b[0m \tTrain Epoch: 8 \tTrain_loss: 1.8615 | Train_acc: 29.0833 % | Validation_loss: 1.8464 | Validation_acc: 41.5761 %\n"
     ]
    },
    {
     "name": "stderr",
     "output_type": "stream",
     "text": [
      " 80%|\u001b[34m████████  \u001b[0m| 8/10 [01:20<00:27, 13.63s/it]\n"
     ]
    },
    {
     "name": "stdout",
     "output_type": "stream",
     "text": [
      "\u001b[36m(launch_and_fit pid=75448)\u001b[0m \tTrain Epoch: 9 \tTrain_loss: 1.8523 | Train_acc: 30.3869 % | Validation_loss: 1.8349 | Validation_acc: 43.4330 %\n"
     ]
    },
    {
     "name": "stderr",
     "output_type": "stream",
     "text": [
      " 90%|\u001b[34m█████████ \u001b[0m| 9/10 [01:22<00:09,  9.96s/it]\n"
     ]
    },
    {
     "name": "stdout",
     "output_type": "stream",
     "text": [
      "\u001b[36m(launch_and_fit pid=75448)\u001b[0m \tTrain Epoch: 10 \tTrain_loss: 1.8484 | Train_acc: 29.9583 % | Validation_loss: 1.8089 | Validation_acc: 41.5761 %\n",
      "\u001b[36m(launch_and_fit pid=75448)\u001b[0m save graph in  results/FL/\n"
     ]
    },
    {
     "name": "stderr",
     "output_type": "stream",
     "text": [
      "100%|\u001b[34m██████████\u001b[0m| 10/10 [01:24<00:00,  8.44s/it]\n"
     ]
    },
    {
     "name": "stdout",
     "output_type": "stream",
     "text": [
      "\u001b[36m(launch_and_fit pid=75448)\u001b[0m Run WITHOUT homomorphic encryption\n",
      "\u001b[36m(launch_and_fit pid=75448)\u001b[0m [Client 3, round 1] fit, config: {'learning_rate': 0.003, 'batch_size': '32', 'server_round': 1, 'local_epochs': 10}\n",
      "\u001b[36m(launch_and_fit pid=75448)\u001b[0m Updated model\n"
     ]
    },
    {
     "name": "stderr",
     "output_type": "stream",
     "text": [
      "  0%|\u001b[34m          \u001b[0m| 0/10 [00:00<?, ?it/s]\n"
     ]
    },
    {
     "name": "stdout",
     "output_type": "stream",
     "text": [
      "\u001b[36m(launch_and_fit pid=75448)\u001b[0m \tTrain Epoch: 1 \tTrain_loss: 1.9178 | Train_acc: 24.0238 % | Validation_loss: 1.8959 | Validation_acc: 27.2192 %\n"
     ]
    },
    {
     "name": "stderr",
     "output_type": "stream",
     "text": [
      " 10%|\u001b[34m█         \u001b[0m| 1/10 [00:01<00:17,  1.97s/it]\n"
     ]
    },
    {
     "name": "stdout",
     "output_type": "stream",
     "text": [
      "\u001b[36m(launch_and_fit pid=75448)\u001b[0m \tTrain Epoch: 2 \tTrain_loss: 1.8898 | Train_acc: 29.4524 % | Validation_loss: 1.8817 | Validation_acc: 27.2192 %\n"
     ]
    },
    {
     "name": "stderr",
     "output_type": "stream",
     "text": [
      " 20%|\u001b[34m██        \u001b[0m| 2/10 [00:03<00:15,  1.96s/it]\n"
     ]
    },
    {
     "name": "stdout",
     "output_type": "stream",
     "text": [
      "\u001b[36m(launch_and_fit pid=75448)\u001b[0m \tTrain Epoch: 3 \tTrain_loss: 1.8959 | Train_acc: 29.5238 % | Validation_loss: 1.8970 | Validation_acc: 27.2192 %\n"
     ]
    },
    {
     "name": "stderr",
     "output_type": "stream",
     "text": [
      " 30%|\u001b[34m███       \u001b[0m| 3/10 [00:06<00:14,  2.02s/it]\n"
     ]
    },
    {
     "name": "stdout",
     "output_type": "stream",
     "text": [
      "\u001b[36m(launch_and_fit pid=75448)\u001b[0m \tTrain Epoch: 4 \tTrain_loss: 1.8962 | Train_acc: 29.0774 % | Validation_loss: 1.8649 | Validation_acc: 27.2192 %\n"
     ]
    },
    {
     "name": "stderr",
     "output_type": "stream",
     "text": [
      " 40%|\u001b[34m████      \u001b[0m| 4/10 [00:07<00:11,  1.97s/it]\n"
     ]
    },
    {
     "name": "stdout",
     "output_type": "stream",
     "text": [
      "\u001b[36m(launch_and_fit pid=75448)\u001b[0m \tTrain Epoch: 5 \tTrain_loss: 1.8774 | Train_acc: 29.6488 % | Validation_loss: 1.8620 | Validation_acc: 27.2192 %\n"
     ]
    },
    {
     "name": "stderr",
     "output_type": "stream",
     "text": [
      " 50%|\u001b[34m█████     \u001b[0m| 5/10 [00:12<00:13,  2.78s/it]\n"
     ]
    },
    {
     "name": "stdout",
     "output_type": "stream",
     "text": [
      "\u001b[36m(launch_and_fit pid=75448)\u001b[0m \tTrain Epoch: 6 \tTrain_loss: 1.8701 | Train_acc: 29.5833 % | Validation_loss: 1.8577 | Validation_acc: 27.2192 %\n"
     ]
    },
    {
     "name": "stderr",
     "output_type": "stream",
     "text": [
      " 60%|\u001b[34m██████    \u001b[0m| 6/10 [00:18<00:15,  3.83s/it]\n"
     ]
    },
    {
     "name": "stdout",
     "output_type": "stream",
     "text": [
      "\u001b[36m(launch_and_fit pid=75448)\u001b[0m \tTrain Epoch: 7 \tTrain_loss: 1.8653 | Train_acc: 29.4524 % | Validation_loss: 1.8514 | Validation_acc: 27.2192 %\n"
     ]
    },
    {
     "name": "stderr",
     "output_type": "stream",
     "text": [
      " 70%|\u001b[34m███████   \u001b[0m| 7/10 [00:23<00:13,  4.51s/it]\n"
     ]
    },
    {
     "name": "stdout",
     "output_type": "stream",
     "text": [
      "\u001b[36m(launch_and_fit pid=75448)\u001b[0m \tTrain Epoch: 8 \tTrain_loss: 1.8627 | Train_acc: 29.4524 % | Validation_loss: 1.8564 | Validation_acc: 27.2192 %\n"
     ]
    },
    {
     "name": "stderr",
     "output_type": "stream",
     "text": [
      " 80%|\u001b[34m████████  \u001b[0m| 8/10 [00:29<00:09,  4.99s/it]\n"
     ]
    },
    {
     "name": "stdout",
     "output_type": "stream",
     "text": [
      "\u001b[36m(launch_and_fit pid=75448)\u001b[0m \tTrain Epoch: 9 \tTrain_loss: 1.8638 | Train_acc: 29.5179 % | Validation_loss: 1.8432 | Validation_acc: 27.2192 %\n"
     ]
    },
    {
     "name": "stderr",
     "output_type": "stream",
     "text": [
      " 90%|\u001b[34m█████████ \u001b[0m| 9/10 [00:36<00:05,  5.34s/it]\n"
     ]
    },
    {
     "name": "stdout",
     "output_type": "stream",
     "text": [
      "\u001b[36m(launch_and_fit pid=75448)\u001b[0m \tTrain Epoch: 10 \tTrain_loss: 1.8562 | Train_acc: 29.9583 % | Validation_loss: 1.8515 | Validation_acc: 27.2192 %\n",
      "\u001b[36m(launch_and_fit pid=75448)\u001b[0m save graph in  results/FL/\n"
     ]
    },
    {
     "name": "stderr",
     "output_type": "stream",
     "text": [
      "100%|\u001b[34m██████████\u001b[0m| 10/10 [00:41<00:00,  4.19s/it]\n",
      "DEBUG flwr 2024-08-30 01:42:21,709 | server.py:236 | fit_round 1 received 4 results and 0 failures\n",
      "WARNING flwr 2024-08-30 01:42:21,786 | 3890383987.py:131 | No fit_metrics_aggregation_fn provided\n"
     ]
    },
    {
     "name": "stdout",
     "output_type": "stream",
     "text": [
      "Saving round 1 aggregated_parameters...\n",
      "Updated model\n"
     ]
    },
    {
     "name": "stderr",
     "output_type": "stream",
     "text": [
      "INFO flwr 2024-08-30 01:42:24,593 | server.py:125 | fit progress: (1, 1.9158994725772314, {'accuracy': 31.69642857142857}, 176.72351960791275)\n",
      "DEBUG flwr 2024-08-30 01:42:24,599 | server.py:173 | evaluate_round 1: strategy sampled 4 clients (out of 4)\n"
     ]
    },
    {
     "name": "stdout",
     "output_type": "stream",
     "text": [
      "Server-side evaluation loss 1.9158994725772314 / accuracy 31.69642857142857\n",
      "\u001b[36m(launch_and_evaluate pid=75448)\u001b[0m Run WITHOUT homomorphic encryption\n",
      "\u001b[36m(launch_and_evaluate pid=75448)\u001b[0m  To get the checkpoint\n",
      "\u001b[36m(launch_and_evaluate pid=75448)\u001b[0m [Client 2] evaluate, config: {}\n",
      "\u001b[36m(launch_and_evaluate pid=75448)\u001b[0m Updated model\n",
      "\u001b[36m(launch_and_evaluate pid=75448)\u001b[0m Run WITHOUT homomorphic encryption\n",
      "\u001b[36m(launch_and_evaluate pid=75448)\u001b[0m  To get the checkpoint\n",
      "\u001b[36m(launch_and_evaluate pid=75448)\u001b[0m [Client 3] evaluate, config: {}\n",
      "\u001b[36m(launch_and_evaluate pid=75448)\u001b[0m Updated model\n",
      "\u001b[36m(launch_and_evaluate pid=75448)\u001b[0m Run WITHOUT homomorphic encryption\n",
      "\u001b[36m(launch_and_evaluate pid=75448)\u001b[0m  To get the checkpoint\n",
      "\u001b[36m(launch_and_evaluate pid=75448)\u001b[0m [Client 0] evaluate, config: {}\n",
      "\u001b[36m(launch_and_evaluate pid=75448)\u001b[0m Updated model\n",
      "\u001b[36m(launch_and_evaluate pid=75448)\u001b[0m Run WITHOUT homomorphic encryption\n",
      "\u001b[36m(launch_and_evaluate pid=75448)\u001b[0m  To get the checkpoint\n",
      "\u001b[36m(launch_and_evaluate pid=75448)\u001b[0m [Client 1] evaluate, config: {}\n",
      "\u001b[36m(launch_and_evaluate pid=75448)\u001b[0m Updated model\n"
     ]
    },
    {
     "name": "stderr",
     "output_type": "stream",
     "text": [
      "DEBUG flwr 2024-08-30 01:42:33,487 | server.py:187 | evaluate_round 1 received 4 results and 0 failures\n",
      "DEBUG flwr 2024-08-30 01:42:33,492 | server.py:222 | fit_round 2: strategy sampled 4 clients (out of 4)\n"
     ]
    },
    {
     "name": "stdout",
     "output_type": "stream",
     "text": [
      "\u001b[36m(launch_and_fit pid=75448)\u001b[0m Run WITHOUT homomorphic encryption\n",
      "\u001b[36m(launch_and_fit pid=75448)\u001b[0m  To get the checkpoint\n",
      "\u001b[36m(launch_and_fit pid=75448)\u001b[0m [Client 1, round 2] fit, config: {'learning_rate': 0.003, 'batch_size': '32', 'server_round': 2, 'local_epochs': 10}\n",
      "\u001b[36m(launch_and_fit pid=75448)\u001b[0m Updated model\n"
     ]
    },
    {
     "name": "stderr",
     "output_type": "stream",
     "text": [
      "  0%|\u001b[34m          \u001b[0m| 0/10 [00:00<?, ?it/s]\n"
     ]
    },
    {
     "name": "stdout",
     "output_type": "stream",
     "text": [
      "\u001b[36m(launch_and_fit pid=75448)\u001b[0m \tTrain Epoch: 1 \tTrain_loss: 1.8733 | Train_acc: 29.4643 % | Validation_loss: 1.8231 | Validation_acc: 41.5761 %\n"
     ]
    },
    {
     "name": "stderr",
     "output_type": "stream",
     "text": [
      " 10%|\u001b[34m█         \u001b[0m| 1/10 [00:05<00:52,  5.81s/it]\n"
     ]
    },
    {
     "name": "stdout",
     "output_type": "stream",
     "text": [
      "\u001b[36m(launch_and_fit pid=75448)\u001b[0m \tTrain Epoch: 2 \tTrain_loss: 1.8622 | Train_acc: 29.5893 % | Validation_loss: 1.8022 | Validation_acc: 41.5761 %\n"
     ]
    },
    {
     "name": "stderr",
     "output_type": "stream",
     "text": [
      " 20%|\u001b[34m██        \u001b[0m| 2/10 [00:11<00:46,  5.75s/it]\n"
     ]
    },
    {
     "name": "stdout",
     "output_type": "stream",
     "text": [
      "\u001b[36m(launch_and_fit pid=75448)\u001b[0m \tTrain Epoch: 3 \tTrain_loss: 1.8517 | Train_acc: 29.0833 % | Validation_loss: 1.8188 | Validation_acc: 45.9239 %\n"
     ]
    },
    {
     "name": "stderr",
     "output_type": "stream",
     "text": [
      " 30%|\u001b[34m███       \u001b[0m| 3/10 [00:17<00:39,  5.68s/it]\n"
     ]
    },
    {
     "name": "stdout",
     "output_type": "stream",
     "text": [
      "\u001b[36m(launch_and_fit pid=75448)\u001b[0m \tTrain Epoch: 4 \tTrain_loss: 1.8425 | Train_acc: 31.0833 % | Validation_loss: 1.7940 | Validation_acc: 43.2518 %\n"
     ]
    },
    {
     "name": "stderr",
     "output_type": "stream",
     "text": [
      " 40%|\u001b[34m████      \u001b[0m| 4/10 [00:23<00:34,  5.80s/it]\n"
     ]
    },
    {
     "name": "stdout",
     "output_type": "stream",
     "text": [
      "\u001b[36m(launch_and_fit pid=75448)\u001b[0m \tTrain Epoch: 5 \tTrain_loss: 1.8283 | Train_acc: 31.9702 % | Validation_loss: 1.7763 | Validation_acc: 41.5761 %\n"
     ]
    },
    {
     "name": "stderr",
     "output_type": "stream",
     "text": [
      " 50%|\u001b[34m█████     \u001b[0m| 5/10 [00:28<00:28,  5.74s/it]\n"
     ]
    },
    {
     "name": "stdout",
     "output_type": "stream",
     "text": [
      "\u001b[36m(launch_and_fit pid=75448)\u001b[0m \tTrain Epoch: 6 \tTrain_loss: 1.8253 | Train_acc: 31.7143 % | Validation_loss: 1.7681 | Validation_acc: 41.5761 %\n"
     ]
    },
    {
     "name": "stderr",
     "output_type": "stream",
     "text": [
      " 60%|\u001b[34m██████    \u001b[0m| 6/10 [00:34<00:22,  5.73s/it]\n"
     ]
    },
    {
     "name": "stdout",
     "output_type": "stream",
     "text": [
      "\u001b[36m(launch_and_fit pid=75448)\u001b[0m \tTrain Epoch: 7 \tTrain_loss: 1.8542 | Train_acc: 27.7679 % | Validation_loss: 1.7788 | Validation_acc: 41.5761 %\n"
     ]
    },
    {
     "name": "stderr",
     "output_type": "stream",
     "text": [
      " 70%|\u001b[34m███████   \u001b[0m| 7/10 [00:40<00:17,  5.77s/it]\n"
     ]
    },
    {
     "name": "stdout",
     "output_type": "stream",
     "text": [
      "\u001b[36m(launch_and_fit pid=75448)\u001b[0m \tTrain Epoch: 8 \tTrain_loss: 1.8415 | Train_acc: 29.0774 % | Validation_loss: 1.7879 | Validation_acc: 40.9420 %\n"
     ]
    },
    {
     "name": "stderr",
     "output_type": "stream",
     "text": [
      " 80%|\u001b[34m████████  \u001b[0m| 8/10 [00:46<00:11,  5.81s/it]\n"
     ]
    },
    {
     "name": "stdout",
     "output_type": "stream",
     "text": [
      "\u001b[36m(launch_and_fit pid=75448)\u001b[0m \tTrain Epoch: 9 \tTrain_loss: 1.8277 | Train_acc: 31.0179 % | Validation_loss: 1.7844 | Validation_acc: 41.5761 %\n"
     ]
    },
    {
     "name": "stderr",
     "output_type": "stream",
     "text": [
      " 90%|\u001b[34m█████████ \u001b[0m| 9/10 [00:51<00:05,  5.78s/it]\n"
     ]
    },
    {
     "name": "stdout",
     "output_type": "stream",
     "text": [
      "\u001b[36m(launch_and_fit pid=75448)\u001b[0m \tTrain Epoch: 10 \tTrain_loss: 1.8544 | Train_acc: 28.6369 % | Validation_loss: 1.7689 | Validation_acc: 41.5761 %\n",
      "\u001b[36m(launch_and_fit pid=75448)\u001b[0m save graph in  results/FL/\n"
     ]
    },
    {
     "name": "stderr",
     "output_type": "stream",
     "text": [
      "100%|\u001b[34m██████████\u001b[0m| 10/10 [00:57<00:00,  5.75s/it]\n"
     ]
    },
    {
     "name": "stdout",
     "output_type": "stream",
     "text": [
      "\u001b[36m(launch_and_fit pid=75448)\u001b[0m Run WITHOUT homomorphic encryption\n",
      "\u001b[36m(launch_and_fit pid=75448)\u001b[0m  To get the checkpoint\n",
      "\u001b[36m(launch_and_fit pid=75448)\u001b[0m [Client 3, round 2] fit, config: {'learning_rate': 0.003, 'batch_size': '32', 'server_round': 2, 'local_epochs': 10}\n",
      "\u001b[36m(launch_and_fit pid=75448)\u001b[0m Updated model\n"
     ]
    },
    {
     "name": "stderr",
     "output_type": "stream",
     "text": [
      "  0%|\u001b[34m          \u001b[0m| 0/10 [00:00<?, ?it/s]\n"
     ]
    },
    {
     "name": "stdout",
     "output_type": "stream",
     "text": [
      "\u001b[36m(launch_and_fit pid=75448)\u001b[0m \tTrain Epoch: 1 \tTrain_loss: 1.8884 | Train_acc: 29.5238 % | Validation_loss: 1.8413 | Validation_acc: 27.2192 %\n"
     ]
    },
    {
     "name": "stderr",
     "output_type": "stream",
     "text": [
      " 10%|\u001b[34m█         \u001b[0m| 1/10 [00:06<00:58,  6.48s/it]\n"
     ]
    },
    {
     "name": "stdout",
     "output_type": "stream",
     "text": [
      "\u001b[36m(launch_and_fit pid=75448)\u001b[0m \tTrain Epoch: 2 \tTrain_loss: 1.8644 | Train_acc: 29.5179 % | Validation_loss: 1.8288 | Validation_acc: 27.2192 %\n"
     ]
    },
    {
     "name": "stderr",
     "output_type": "stream",
     "text": [
      " 20%|\u001b[34m██        \u001b[0m| 2/10 [00:12<00:49,  6.16s/it]\n"
     ]
    },
    {
     "name": "stdout",
     "output_type": "stream",
     "text": [
      "\u001b[36m(launch_and_fit pid=75448)\u001b[0m \tTrain Epoch: 3 \tTrain_loss: 1.8578 | Train_acc: 29.4524 % | Validation_loss: 1.8276 | Validation_acc: 27.2192 %\n"
     ]
    },
    {
     "name": "stderr",
     "output_type": "stream",
     "text": [
      " 30%|\u001b[34m███       \u001b[0m| 3/10 [00:18<00:42,  6.03s/it]\n"
     ]
    },
    {
     "name": "stdout",
     "output_type": "stream",
     "text": [
      "\u001b[36m(launch_and_fit pid=75448)\u001b[0m \tTrain Epoch: 4 \tTrain_loss: 1.8534 | Train_acc: 29.3214 % | Validation_loss: 1.8270 | Validation_acc: 27.2192 %\n"
     ]
    },
    {
     "name": "stderr",
     "output_type": "stream",
     "text": [
      " 40%|\u001b[34m████      \u001b[0m| 4/10 [00:20<00:27,  4.57s/it]\n"
     ]
    },
    {
     "name": "stdout",
     "output_type": "stream",
     "text": [
      "\u001b[36m(launch_and_fit pid=75448)\u001b[0m \tTrain Epoch: 5 \tTrain_loss: 1.8481 | Train_acc: 31.0298 % | Validation_loss: 1.8303 | Validation_acc: 27.2192 %\n"
     ]
    },
    {
     "name": "stderr",
     "output_type": "stream",
     "text": [
      " 50%|\u001b[34m█████     \u001b[0m| 5/10 [00:22<00:18,  3.61s/it]\n"
     ]
    },
    {
     "name": "stdout",
     "output_type": "stream",
     "text": [
      "\u001b[36m(launch_and_fit pid=75448)\u001b[0m \tTrain Epoch: 6 \tTrain_loss: 1.8482 | Train_acc: 30.3333 % | Validation_loss: 1.8169 | Validation_acc: 30.3442 %\n"
     ]
    },
    {
     "name": "stderr",
     "output_type": "stream",
     "text": [
      " 60%|\u001b[34m██████    \u001b[0m| 6/10 [00:24<00:12,  3.02s/it]\n"
     ]
    },
    {
     "name": "stdout",
     "output_type": "stream",
     "text": [
      "\u001b[36m(launch_and_fit pid=75448)\u001b[0m \tTrain Epoch: 7 \tTrain_loss: 1.8352 | Train_acc: 32.1310 % | Validation_loss: 1.8083 | Validation_acc: 32.4275 %\n"
     ]
    },
    {
     "name": "stderr",
     "output_type": "stream",
     "text": [
      " 70%|\u001b[34m███████   \u001b[0m| 7/10 [00:26<00:07,  2.65s/it]\n"
     ]
    },
    {
     "name": "stdout",
     "output_type": "stream",
     "text": [
      "\u001b[36m(launch_and_fit pid=75448)\u001b[0m \tTrain Epoch: 8 \tTrain_loss: 1.8261 | Train_acc: 33.2679 % | Validation_loss: 1.8083 | Validation_acc: 28.2609 %\n"
     ]
    },
    {
     "name": "stderr",
     "output_type": "stream",
     "text": [
      " 80%|\u001b[34m████████  \u001b[0m| 8/10 [00:28<00:04,  2.40s/it]\n"
     ]
    },
    {
     "name": "stdout",
     "output_type": "stream",
     "text": [
      "\u001b[36m(launch_and_fit pid=75448)\u001b[0m \tTrain Epoch: 9 \tTrain_loss: 1.8516 | Train_acc: 29.4464 % | Validation_loss: 1.8193 | Validation_acc: 27.2192 %\n"
     ]
    },
    {
     "name": "stderr",
     "output_type": "stream",
     "text": [
      " 90%|\u001b[34m█████████ \u001b[0m| 9/10 [00:30<00:02,  2.24s/it]\n"
     ]
    },
    {
     "name": "stdout",
     "output_type": "stream",
     "text": [
      "\u001b[36m(launch_and_fit pid=75448)\u001b[0m \tTrain Epoch: 10 \tTrain_loss: 1.8379 | Train_acc: 31.0238 % | Validation_loss: 1.8224 | Validation_acc: 27.2192 %\n",
      "\u001b[36m(launch_and_fit pid=75448)\u001b[0m save graph in  results/FL/\n"
     ]
    },
    {
     "name": "stderr",
     "output_type": "stream",
     "text": [
      "100%|\u001b[34m██████████\u001b[0m| 10/10 [00:31<00:00,  3.19s/it]\n"
     ]
    },
    {
     "name": "stdout",
     "output_type": "stream",
     "text": [
      "\u001b[36m(launch_and_fit pid=75448)\u001b[0m Run WITHOUT homomorphic encryption\n",
      "\u001b[36m(launch_and_fit pid=75448)\u001b[0m  To get the checkpoint\n",
      "\u001b[36m(launch_and_fit pid=75448)\u001b[0m [Client 2, round 2] fit, config: {'learning_rate': 0.003, 'batch_size': '32', 'server_round': 2, 'local_epochs': 10}\n",
      "\u001b[36m(launch_and_fit pid=75448)\u001b[0m Updated model\n"
     ]
    },
    {
     "name": "stderr",
     "output_type": "stream",
     "text": [
      "  0%|\u001b[34m          \u001b[0m| 0/10 [00:00<?, ?it/s]\n"
     ]
    },
    {
     "name": "stdout",
     "output_type": "stream",
     "text": [
      "\u001b[36m(launch_and_fit pid=75448)\u001b[0m \tTrain Epoch: 1 \tTrain_loss: 1.8689 | Train_acc: 30.1429 % | Validation_loss: 1.8203 | Validation_acc: 45.1087 %\n"
     ]
    },
    {
     "name": "stderr",
     "output_type": "stream",
     "text": [
      " 10%|\u001b[34m█         \u001b[0m| 1/10 [00:01<00:17,  1.99s/it]\n"
     ]
    },
    {
     "name": "stdout",
     "output_type": "stream",
     "text": [
      "\u001b[36m(launch_and_fit pid=75448)\u001b[0m \tTrain Epoch: 2 \tTrain_loss: 1.8519 | Train_acc: 31.0774 % | Validation_loss: 1.8036 | Validation_acc: 45.1087 %\n"
     ]
    },
    {
     "name": "stderr",
     "output_type": "stream",
     "text": [
      " 20%|\u001b[34m██        \u001b[0m| 2/10 [00:03<00:15,  1.98s/it]\n"
     ]
    },
    {
     "name": "stdout",
     "output_type": "stream",
     "text": [
      "\u001b[36m(launch_and_fit pid=75448)\u001b[0m \tTrain Epoch: 3 \tTrain_loss: 1.8430 | Train_acc: 31.8393 % | Validation_loss: 1.7944 | Validation_acc: 45.1087 %\n"
     ]
    },
    {
     "name": "stderr",
     "output_type": "stream",
     "text": [
      " 30%|\u001b[34m███       \u001b[0m| 3/10 [00:05<00:13,  1.96s/it]\n"
     ]
    },
    {
     "name": "stdout",
     "output_type": "stream",
     "text": [
      "\u001b[36m(launch_and_fit pid=75448)\u001b[0m \tTrain Epoch: 4 \tTrain_loss: 1.8299 | Train_acc: 32.1488 % | Validation_loss: 1.7956 | Validation_acc: 45.1087 %\n"
     ]
    },
    {
     "name": "stderr",
     "output_type": "stream",
     "text": [
      " 40%|\u001b[34m████      \u001b[0m| 4/10 [00:07<00:11,  1.93s/it]\n"
     ]
    },
    {
     "name": "stdout",
     "output_type": "stream",
     "text": [
      "\u001b[36m(launch_and_fit pid=75448)\u001b[0m \tTrain Epoch: 5 \tTrain_loss: 1.8327 | Train_acc: 32.4524 % | Validation_loss: 1.7794 | Validation_acc: 45.1087 %\n"
     ]
    },
    {
     "name": "stderr",
     "output_type": "stream",
     "text": [
      " 50%|\u001b[34m█████     \u001b[0m| 5/10 [00:09<00:09,  1.92s/it]\n"
     ]
    },
    {
     "name": "stdout",
     "output_type": "stream",
     "text": [
      "\u001b[36m(launch_and_fit pid=75448)\u001b[0m \tTrain Epoch: 6 \tTrain_loss: 1.8235 | Train_acc: 33.5179 % | Validation_loss: 1.7727 | Validation_acc: 45.1087 %\n"
     ]
    },
    {
     "name": "stderr",
     "output_type": "stream",
     "text": [
      " 60%|\u001b[34m██████    \u001b[0m| 6/10 [00:11<00:07,  1.92s/it]\n"
     ]
    },
    {
     "name": "stdout",
     "output_type": "stream",
     "text": [
      "\u001b[36m(launch_and_fit pid=75448)\u001b[0m \tTrain Epoch: 7 \tTrain_loss: 1.8310 | Train_acc: 32.1429 % | Validation_loss: 1.7703 | Validation_acc: 45.1087 %\n"
     ]
    },
    {
     "name": "stderr",
     "output_type": "stream",
     "text": [
      " 70%|\u001b[34m███████   \u001b[0m| 7/10 [00:13<00:05,  1.92s/it]\n"
     ]
    },
    {
     "name": "stdout",
     "output_type": "stream",
     "text": [
      "\u001b[36m(launch_and_fit pid=75448)\u001b[0m \tTrain Epoch: 8 \tTrain_loss: 1.8181 | Train_acc: 33.4643 % | Validation_loss: 1.7689 | Validation_acc: 45.1087 %\n"
     ]
    },
    {
     "name": "stderr",
     "output_type": "stream",
     "text": [
      " 80%|\u001b[34m████████  \u001b[0m| 8/10 [00:15<00:03,  1.91s/it]\n"
     ]
    },
    {
     "name": "stdout",
     "output_type": "stream",
     "text": [
      "\u001b[36m(launch_and_fit pid=75448)\u001b[0m \tTrain Epoch: 9 \tTrain_loss: 1.8074 | Train_acc: 34.5357 % | Validation_loss: 1.7757 | Validation_acc: 43.0254 %\n"
     ]
    },
    {
     "name": "stderr",
     "output_type": "stream",
     "text": [
      " 90%|\u001b[34m█████████ \u001b[0m| 9/10 [00:17<00:01,  1.92s/it]\n"
     ]
    },
    {
     "name": "stdout",
     "output_type": "stream",
     "text": [
      "\u001b[36m(launch_and_fit pid=75448)\u001b[0m \tTrain Epoch: 10 \tTrain_loss: 1.8104 | Train_acc: 32.8274 % | Validation_loss: 1.7649 | Validation_acc: 46.1504 %\n",
      "\u001b[36m(launch_and_fit pid=75448)\u001b[0m save graph in  results/FL/\n"
     ]
    },
    {
     "name": "stderr",
     "output_type": "stream",
     "text": [
      "100%|\u001b[34m██████████\u001b[0m| 10/10 [00:19<00:00,  1.93s/it]\n"
     ]
    },
    {
     "name": "stdout",
     "output_type": "stream",
     "text": [
      "\u001b[36m(launch_and_fit pid=75448)\u001b[0m Run WITHOUT homomorphic encryption\n",
      "\u001b[36m(launch_and_fit pid=75448)\u001b[0m  To get the checkpoint\n",
      "\u001b[36m(launch_and_fit pid=75448)\u001b[0m [Client 0, round 2] fit, config: {'learning_rate': 0.003, 'batch_size': '32', 'server_round': 2, 'local_epochs': 10}\n",
      "\u001b[36m(launch_and_fit pid=75448)\u001b[0m Updated model\n"
     ]
    },
    {
     "name": "stderr",
     "output_type": "stream",
     "text": [
      "  0%|\u001b[34m          \u001b[0m| 0/10 [00:00<?, ?it/s]\n"
     ]
    },
    {
     "name": "stdout",
     "output_type": "stream",
     "text": [
      "\u001b[36m(launch_and_fit pid=75448)\u001b[0m \tTrain Epoch: 1 \tTrain_loss: 1.8709 | Train_acc: 30.0774 % | Validation_loss: 1.8671 | Validation_acc: 27.8533 %\n"
     ]
    },
    {
     "name": "stderr",
     "output_type": "stream",
     "text": [
      " 10%|\u001b[34m█         \u001b[0m| 1/10 [00:01<00:17,  1.99s/it]\n"
     ]
    },
    {
     "name": "stdout",
     "output_type": "stream",
     "text": [
      "\u001b[36m(launch_and_fit pid=75448)\u001b[0m \tTrain Epoch: 2 \tTrain_loss: 1.8552 | Train_acc: 31.1429 % | Validation_loss: 1.8683 | Validation_acc: 27.8533 %\n"
     ]
    },
    {
     "name": "stderr",
     "output_type": "stream",
     "text": [
      " 20%|\u001b[34m██        \u001b[0m| 2/10 [00:03<00:15,  1.96s/it]\n"
     ]
    },
    {
     "name": "stdout",
     "output_type": "stream",
     "text": [
      "\u001b[36m(launch_and_fit pid=75448)\u001b[0m \tTrain Epoch: 3 \tTrain_loss: 1.8497 | Train_acc: 30.7619 % | Validation_loss: 1.8798 | Validation_acc: 25.5888 %\n"
     ]
    },
    {
     "name": "stderr",
     "output_type": "stream",
     "text": [
      " 30%|\u001b[34m███       \u001b[0m| 3/10 [00:05<00:13,  1.96s/it]\n"
     ]
    },
    {
     "name": "stdout",
     "output_type": "stream",
     "text": [
      "\u001b[36m(launch_and_fit pid=75448)\u001b[0m \tTrain Epoch: 4 \tTrain_loss: 1.8527 | Train_acc: 29.9464 % | Validation_loss: 1.8676 | Validation_acc: 34.9185 %\n"
     ]
    },
    {
     "name": "stderr",
     "output_type": "stream",
     "text": [
      " 40%|\u001b[34m████      \u001b[0m| 4/10 [00:07<00:11,  1.95s/it]\n"
     ]
    },
    {
     "name": "stdout",
     "output_type": "stream",
     "text": [
      "\u001b[36m(launch_and_fit pid=75448)\u001b[0m \tTrain Epoch: 5 \tTrain_loss: 1.8417 | Train_acc: 30.8274 % | Validation_loss: 1.8610 | Validation_acc: 27.8533 %\n"
     ]
    },
    {
     "name": "stderr",
     "output_type": "stream",
     "text": [
      " 50%|\u001b[34m█████     \u001b[0m| 5/10 [00:09<00:09,  1.94s/it]\n"
     ]
    },
    {
     "name": "stdout",
     "output_type": "stream",
     "text": [
      "\u001b[36m(launch_and_fit pid=75448)\u001b[0m \tTrain Epoch: 6 \tTrain_loss: 1.8270 | Train_acc: 32.7738 % | Validation_loss: 1.8527 | Validation_acc: 34.9185 %\n"
     ]
    },
    {
     "name": "stderr",
     "output_type": "stream",
     "text": [
      " 60%|\u001b[34m██████    \u001b[0m| 6/10 [00:11<00:07,  1.94s/it]\n"
     ]
    },
    {
     "name": "stdout",
     "output_type": "stream",
     "text": [
      "\u001b[36m(launch_and_fit pid=75448)\u001b[0m \tTrain Epoch: 7 \tTrain_loss: 1.8261 | Train_acc: 32.5833 % | Validation_loss: 1.8571 | Validation_acc: 28.8949 %\n"
     ]
    },
    {
     "name": "stderr",
     "output_type": "stream",
     "text": [
      " 70%|\u001b[34m███████   \u001b[0m| 7/10 [00:13<00:05,  1.94s/it]\n"
     ]
    },
    {
     "name": "stdout",
     "output_type": "stream",
     "text": [
      "\u001b[36m(launch_and_fit pid=75448)\u001b[0m \tTrain Epoch: 8 \tTrain_loss: 1.8152 | Train_acc: 33.5833 % | Validation_loss: 1.8499 | Validation_acc: 27.8533 %\n"
     ]
    },
    {
     "name": "stderr",
     "output_type": "stream",
     "text": [
      " 80%|\u001b[34m████████  \u001b[0m| 8/10 [00:15<00:03,  1.93s/it]\n"
     ]
    },
    {
     "name": "stdout",
     "output_type": "stream",
     "text": [
      "\u001b[36m(launch_and_fit pid=75448)\u001b[0m \tTrain Epoch: 9 \tTrain_loss: 1.8082 | Train_acc: 33.0238 % | Validation_loss: 1.8486 | Validation_acc: 27.8533 %\n"
     ]
    },
    {
     "name": "stderr",
     "output_type": "stream",
     "text": [
      " 90%|\u001b[34m█████████ \u001b[0m| 9/10 [00:17<00:01,  1.93s/it]\n",
      "100%|\u001b[34m██████████\u001b[0m| 10/10 [00:19<00:00,  1.94s/it]\n",
      "DEBUG flwr 2024-08-30 01:44:45,246 | server.py:236 | fit_round 2 received 4 results and 0 failures\n"
     ]
    },
    {
     "name": "stdout",
     "output_type": "stream",
     "text": [
      "\u001b[36m(launch_and_fit pid=75448)\u001b[0m \tTrain Epoch: 10 \tTrain_loss: 1.8075 | Train_acc: 33.1488 % | Validation_loss: 1.8492 | Validation_acc: 30.3442 %\n",
      "\u001b[36m(launch_and_fit pid=75448)\u001b[0m save graph in  results/FL/\n",
      "Saving round 2 aggregated_parameters...\n",
      "Updated model\n"
     ]
    },
    {
     "name": "stderr",
     "output_type": "stream",
     "text": [
      "INFO flwr 2024-08-30 01:44:46,120 | server.py:125 | fit progress: (2, 1.8344656356743403, {'accuracy': 31.69642857142857}, 318.2507703448646)\n",
      "DEBUG flwr 2024-08-30 01:44:46,121 | server.py:173 | evaluate_round 2: strategy sampled 4 clients (out of 4)\n"
     ]
    },
    {
     "name": "stdout",
     "output_type": "stream",
     "text": [
      "Server-side evaluation loss 1.8344656356743403 / accuracy 31.69642857142857\n",
      "\u001b[36m(launch_and_evaluate pid=75448)\u001b[0m Run WITHOUT homomorphic encryption\n",
      "\u001b[36m(launch_and_evaluate pid=75448)\u001b[0m  To get the checkpoint\n",
      "\u001b[36m(launch_and_evaluate pid=75448)\u001b[0m [Client 2] evaluate, config: {}\n",
      "\u001b[36m(launch_and_evaluate pid=75448)\u001b[0m Updated model\n",
      "\u001b[36m(launch_and_evaluate pid=75448)\u001b[0m Run WITHOUT homomorphic encryption\n",
      "\u001b[36m(launch_and_evaluate pid=75448)\u001b[0m  To get the checkpoint\n",
      "\u001b[36m(launch_and_evaluate pid=75448)\u001b[0m [Client 3] evaluate, config: {}\n",
      "\u001b[36m(launch_and_evaluate pid=75448)\u001b[0m Updated model\n",
      "\u001b[36m(launch_and_evaluate pid=75448)\u001b[0m Run WITHOUT homomorphic encryption\n",
      "\u001b[36m(launch_and_evaluate pid=75448)\u001b[0m  To get the checkpoint\n",
      "\u001b[36m(launch_and_evaluate pid=75448)\u001b[0m [Client 0] evaluate, config: {}\n",
      "\u001b[36m(launch_and_evaluate pid=75448)\u001b[0m Updated model\n",
      "\u001b[36m(launch_and_evaluate pid=75448)\u001b[0m Run WITHOUT homomorphic encryption\n",
      "\u001b[36m(launch_and_evaluate pid=75448)\u001b[0m  To get the checkpoint\n",
      "\u001b[36m(launch_and_evaluate pid=75448)\u001b[0m [Client 1] evaluate, config: {}\n",
      "\u001b[36m(launch_and_evaluate pid=75448)\u001b[0m Updated model\n"
     ]
    },
    {
     "name": "stderr",
     "output_type": "stream",
     "text": [
      "DEBUG flwr 2024-08-30 01:44:48,914 | server.py:187 | evaluate_round 2 received 4 results and 0 failures\n",
      "DEBUG flwr 2024-08-30 01:44:48,915 | server.py:222 | fit_round 3: strategy sampled 4 clients (out of 4)\n"
     ]
    },
    {
     "name": "stdout",
     "output_type": "stream",
     "text": [
      "\u001b[36m(launch_and_fit pid=75448)\u001b[0m Run WITHOUT homomorphic encryption\n",
      "\u001b[36m(launch_and_fit pid=75448)\u001b[0m  To get the checkpoint\n",
      "\u001b[36m(launch_and_fit pid=75448)\u001b[0m [Client 1, round 3] fit, config: {'learning_rate': 0.003, 'batch_size': '32', 'server_round': 3, 'local_epochs': 10}\n",
      "\u001b[36m(launch_and_fit pid=75448)\u001b[0m Updated model\n"
     ]
    },
    {
     "name": "stderr",
     "output_type": "stream",
     "text": [
      "  0%|\u001b[34m          \u001b[0m| 0/10 [00:00<?, ?it/s]\n"
     ]
    },
    {
     "name": "stdout",
     "output_type": "stream",
     "text": [
      "\u001b[36m(launch_and_fit pid=75448)\u001b[0m \tTrain Epoch: 1 \tTrain_loss: 1.8483 | Train_acc: 28.5714 % | Validation_loss: 1.7749 | Validation_acc: 41.5761 %\n"
     ]
    },
    {
     "name": "stderr",
     "output_type": "stream",
     "text": [
      " 10%|\u001b[34m█         \u001b[0m| 1/10 [00:01<00:17,  1.99s/it]\n"
     ]
    },
    {
     "name": "stdout",
     "output_type": "stream",
     "text": [
      "\u001b[36m(launch_and_fit pid=75448)\u001b[0m \tTrain Epoch: 2 \tTrain_loss: 1.8417 | Train_acc: 28.8214 % | Validation_loss: 1.7582 | Validation_acc: 41.5761 %\n"
     ]
    },
    {
     "name": "stderr",
     "output_type": "stream",
     "text": [
      " 20%|\u001b[34m██        \u001b[0m| 2/10 [00:03<00:15,  1.99s/it]\n"
     ]
    },
    {
     "name": "stdout",
     "output_type": "stream",
     "text": [
      "\u001b[36m(launch_and_fit pid=75448)\u001b[0m \tTrain Epoch: 3 \tTrain_loss: 1.8310 | Train_acc: 30.2679 % | Validation_loss: 1.7614 | Validation_acc: 34.9185 %\n"
     ]
    },
    {
     "name": "stderr",
     "output_type": "stream",
     "text": [
      " 30%|\u001b[34m███       \u001b[0m| 3/10 [00:05<00:13,  2.00s/it]\n"
     ]
    },
    {
     "name": "stdout",
     "output_type": "stream",
     "text": [
      "\u001b[36m(launch_and_fit pid=75448)\u001b[0m \tTrain Epoch: 4 \tTrain_loss: 1.8160 | Train_acc: 31.6429 % | Validation_loss: 1.7556 | Validation_acc: 40.5344 %\n"
     ]
    },
    {
     "name": "stderr",
     "output_type": "stream",
     "text": [
      " 40%|\u001b[34m████      \u001b[0m| 4/10 [00:07<00:11,  1.98s/it]\n"
     ]
    },
    {
     "name": "stdout",
     "output_type": "stream",
     "text": [
      "\u001b[36m(launch_and_fit pid=75448)\u001b[0m \tTrain Epoch: 5 \tTrain_loss: 1.8317 | Train_acc: 30.2738 % | Validation_loss: 1.7470 | Validation_acc: 40.5344 %\n"
     ]
    },
    {
     "name": "stderr",
     "output_type": "stream",
     "text": [
      " 50%|\u001b[34m█████     \u001b[0m| 5/10 [00:09<00:09,  1.98s/it]\n"
     ]
    },
    {
     "name": "stdout",
     "output_type": "stream",
     "text": [
      "\u001b[36m(launch_and_fit pid=75448)\u001b[0m \tTrain Epoch: 6 \tTrain_loss: 1.8100 | Train_acc: 33.5179 % | Validation_loss: 1.7625 | Validation_acc: 36.3678 %\n"
     ]
    },
    {
     "name": "stderr",
     "output_type": "stream",
     "text": [
      " 60%|\u001b[34m██████    \u001b[0m| 6/10 [00:11<00:07,  1.99s/it]\n"
     ]
    },
    {
     "name": "stdout",
     "output_type": "stream",
     "text": [
      "\u001b[36m(launch_and_fit pid=75448)\u001b[0m \tTrain Epoch: 7 \tTrain_loss: 1.8134 | Train_acc: 33.0833 % | Validation_loss: 1.7550 | Validation_acc: 36.3678 %\n"
     ]
    },
    {
     "name": "stderr",
     "output_type": "stream",
     "text": [
      " 70%|\u001b[34m███████   \u001b[0m| 7/10 [00:13<00:05,  1.98s/it]\n"
     ]
    },
    {
     "name": "stdout",
     "output_type": "stream",
     "text": [
      "\u001b[36m(launch_and_fit pid=75448)\u001b[0m \tTrain Epoch: 8 \tTrain_loss: 1.8035 | Train_acc: 34.0298 % | Validation_loss: 1.7391 | Validation_acc: 39.0851 %\n"
     ]
    },
    {
     "name": "stderr",
     "output_type": "stream",
     "text": [
      " 80%|\u001b[34m████████  \u001b[0m| 8/10 [00:15<00:03,  1.98s/it]\n"
     ]
    },
    {
     "name": "stdout",
     "output_type": "stream",
     "text": [
      "\u001b[36m(launch_and_fit pid=75448)\u001b[0m \tTrain Epoch: 9 \tTrain_loss: 1.8017 | Train_acc: 33.8929 % | Validation_loss: 1.7444 | Validation_acc: 38.4511 %\n"
     ]
    },
    {
     "name": "stderr",
     "output_type": "stream",
     "text": [
      " 90%|\u001b[34m█████████ \u001b[0m| 9/10 [00:17<00:01,  1.99s/it]\n"
     ]
    },
    {
     "name": "stdout",
     "output_type": "stream",
     "text": [
      "\u001b[36m(launch_and_fit pid=75448)\u001b[0m \tTrain Epoch: 10 \tTrain_loss: 1.7976 | Train_acc: 34.4583 % | Validation_loss: 1.7347 | Validation_acc: 40.5344 %\n",
      "\u001b[36m(launch_and_fit pid=75448)\u001b[0m save graph in  results/FL/\n"
     ]
    },
    {
     "name": "stderr",
     "output_type": "stream",
     "text": [
      "100%|\u001b[34m██████████\u001b[0m| 10/10 [00:19<00:00,  1.99s/it]\n"
     ]
    },
    {
     "name": "stdout",
     "output_type": "stream",
     "text": [
      "\u001b[36m(launch_and_fit pid=75448)\u001b[0m Run WITHOUT homomorphic encryption\n",
      "\u001b[36m(launch_and_fit pid=75448)\u001b[0m  To get the checkpoint\n",
      "\u001b[36m(launch_and_fit pid=75448)\u001b[0m [Client 0, round 3] fit, config: {'learning_rate': 0.003, 'batch_size': '32', 'server_round': 3, 'local_epochs': 10}\n",
      "\u001b[36m(launch_and_fit pid=75448)\u001b[0m Updated model\n"
     ]
    },
    {
     "name": "stderr",
     "output_type": "stream",
     "text": [
      "  0%|\u001b[34m          \u001b[0m| 0/10 [00:00<?, ?it/s]\n"
     ]
    },
    {
     "name": "stdout",
     "output_type": "stream",
     "text": [
      "\u001b[36m(launch_and_fit pid=75448)\u001b[0m \tTrain Epoch: 1 \tTrain_loss: 1.8278 | Train_acc: 31.5238 % | Validation_loss: 1.8488 | Validation_acc: 29.9366 %\n"
     ]
    },
    {
     "name": "stderr",
     "output_type": "stream",
     "text": [
      " 10%|\u001b[34m█         \u001b[0m| 1/10 [00:01<00:17,  1.94s/it]\n"
     ]
    },
    {
     "name": "stdout",
     "output_type": "stream",
     "text": [
      "\u001b[36m(launch_and_fit pid=75448)\u001b[0m \tTrain Epoch: 2 \tTrain_loss: 1.8096 | Train_acc: 32.9643 % | Validation_loss: 1.8488 | Validation_acc: 25.7699 %\n"
     ]
    },
    {
     "name": "stderr",
     "output_type": "stream",
     "text": [
      " 20%|\u001b[34m██        \u001b[0m| 2/10 [00:03<00:15,  1.94s/it]\n"
     ]
    },
    {
     "name": "stdout",
     "output_type": "stream",
     "text": [
      "\u001b[36m(launch_and_fit pid=75448)\u001b[0m \tTrain Epoch: 3 \tTrain_loss: 1.7995 | Train_acc: 34.2738 % | Validation_loss: 1.8436 | Validation_acc: 28.8949 %\n"
     ]
    },
    {
     "name": "stderr",
     "output_type": "stream",
     "text": [
      " 30%|\u001b[34m███       \u001b[0m| 3/10 [00:05<00:13,  1.94s/it]\n"
     ]
    },
    {
     "name": "stdout",
     "output_type": "stream",
     "text": [
      "\u001b[36m(launch_and_fit pid=75448)\u001b[0m \tTrain Epoch: 4 \tTrain_loss: 1.8027 | Train_acc: 34.0774 % | Validation_loss: 1.8437 | Validation_acc: 26.8116 %\n"
     ]
    },
    {
     "name": "stderr",
     "output_type": "stream",
     "text": [
      " 40%|\u001b[34m████      \u001b[0m| 4/10 [00:07<00:11,  1.93s/it]\n"
     ]
    },
    {
     "name": "stdout",
     "output_type": "stream",
     "text": [
      "\u001b[36m(launch_and_fit pid=75448)\u001b[0m \tTrain Epoch: 5 \tTrain_loss: 1.7994 | Train_acc: 34.9643 % | Validation_loss: 1.8476 | Validation_acc: 24.7283 %\n"
     ]
    },
    {
     "name": "stderr",
     "output_type": "stream",
     "text": [
      " 50%|\u001b[34m█████     \u001b[0m| 5/10 [00:09<00:09,  1.94s/it]\n"
     ]
    },
    {
     "name": "stdout",
     "output_type": "stream",
     "text": [
      "\u001b[36m(launch_and_fit pid=75448)\u001b[0m \tTrain Epoch: 6 \tTrain_loss: 1.8109 | Train_acc: 32.4464 % | Validation_loss: 1.8448 | Validation_acc: 28.8949 %\n"
     ]
    },
    {
     "name": "stderr",
     "output_type": "stream",
     "text": [
      " 60%|\u001b[34m██████    \u001b[0m| 6/10 [00:11<00:07,  1.94s/it]\n"
     ]
    },
    {
     "name": "stdout",
     "output_type": "stream",
     "text": [
      "\u001b[36m(launch_and_fit pid=75448)\u001b[0m \tTrain Epoch: 7 \tTrain_loss: 1.8066 | Train_acc: 33.1429 % | Validation_loss: 1.8524 | Validation_acc: 27.8533 %\n"
     ]
    },
    {
     "name": "stderr",
     "output_type": "stream",
     "text": [
      " 70%|\u001b[34m███████   \u001b[0m| 7/10 [00:13<00:05,  1.95s/it]\n"
     ]
    },
    {
     "name": "stdout",
     "output_type": "stream",
     "text": [
      "\u001b[36m(launch_and_fit pid=75448)\u001b[0m \tTrain Epoch: 8 \tTrain_loss: 1.8035 | Train_acc: 33.0238 % | Validation_loss: 1.8403 | Validation_acc: 26.8116 %\n"
     ]
    },
    {
     "name": "stderr",
     "output_type": "stream",
     "text": [
      " 80%|\u001b[34m████████  \u001b[0m| 8/10 [00:15<00:03,  1.96s/it]\n"
     ]
    },
    {
     "name": "stdout",
     "output_type": "stream",
     "text": [
      "\u001b[36m(launch_and_fit pid=75448)\u001b[0m \tTrain Epoch: 9 \tTrain_loss: 1.7920 | Train_acc: 34.2024 % | Validation_loss: 1.8336 | Validation_acc: 27.8533 %\n"
     ]
    },
    {
     "name": "stderr",
     "output_type": "stream",
     "text": [
      " 90%|\u001b[34m█████████ \u001b[0m| 9/10 [00:17<00:01,  1.97s/it]\n"
     ]
    },
    {
     "name": "stdout",
     "output_type": "stream",
     "text": [
      "\u001b[36m(launch_and_fit pid=75448)\u001b[0m \tTrain Epoch: 10 \tTrain_loss: 1.7951 | Train_acc: 33.7083 % | Validation_loss: 1.8296 | Validation_acc: 31.3859 %\n",
      "\u001b[36m(launch_and_fit pid=75448)\u001b[0m save graph in  results/FL/\n"
     ]
    },
    {
     "name": "stderr",
     "output_type": "stream",
     "text": [
      "100%|\u001b[34m██████████\u001b[0m| 10/10 [00:19<00:00,  1.95s/it]\n"
     ]
    },
    {
     "name": "stdout",
     "output_type": "stream",
     "text": [
      "\u001b[36m(launch_and_fit pid=75448)\u001b[0m Run WITHOUT homomorphic encryption\n",
      "\u001b[36m(launch_and_fit pid=75448)\u001b[0m  To get the checkpoint\n",
      "\u001b[36m(launch_and_fit pid=75448)\u001b[0m [Client 3, round 3] fit, config: {'learning_rate': 0.003, 'batch_size': '32', 'server_round': 3, 'local_epochs': 10}\n",
      "\u001b[36m(launch_and_fit pid=75448)\u001b[0m Updated model\n"
     ]
    },
    {
     "name": "stderr",
     "output_type": "stream",
     "text": [
      "  0%|\u001b[34m          \u001b[0m| 0/10 [00:00<?, ?it/s]\n"
     ]
    },
    {
     "name": "stdout",
     "output_type": "stream",
     "text": [
      "\u001b[36m(launch_and_fit pid=75448)\u001b[0m \tTrain Epoch: 1 \tTrain_loss: 1.8421 | Train_acc: 30.4524 % | Validation_loss: 1.8179 | Validation_acc: 27.2192 %\n"
     ]
    },
    {
     "name": "stderr",
     "output_type": "stream",
     "text": [
      " 10%|\u001b[34m█         \u001b[0m| 1/10 [00:01<00:17,  1.95s/it]\n"
     ]
    },
    {
     "name": "stdout",
     "output_type": "stream",
     "text": [
      "\u001b[36m(launch_and_fit pid=75448)\u001b[0m \tTrain Epoch: 2 \tTrain_loss: 1.8386 | Train_acc: 29.9583 % | Validation_loss: 1.8007 | Validation_acc: 30.3442 %\n"
     ]
    },
    {
     "name": "stderr",
     "output_type": "stream",
     "text": [
      " 20%|\u001b[34m██        \u001b[0m| 2/10 [00:03<00:15,  1.94s/it]\n"
     ]
    },
    {
     "name": "stdout",
     "output_type": "stream",
     "text": [
      "\u001b[36m(launch_and_fit pid=75448)\u001b[0m \tTrain Epoch: 3 \tTrain_loss: 1.8202 | Train_acc: 32.8988 % | Validation_loss: 1.7913 | Validation_acc: 31.3859 %\n"
     ]
    },
    {
     "name": "stderr",
     "output_type": "stream",
     "text": [
      " 30%|\u001b[34m███       \u001b[0m| 3/10 [00:05<00:13,  1.93s/it]\n"
     ]
    },
    {
     "name": "stdout",
     "output_type": "stream",
     "text": [
      "\u001b[36m(launch_and_fit pid=75448)\u001b[0m \tTrain Epoch: 4 \tTrain_loss: 1.8146 | Train_acc: 32.5298 % | Validation_loss: 1.8087 | Validation_acc: 27.8533 %\n"
     ]
    },
    {
     "name": "stderr",
     "output_type": "stream",
     "text": [
      " 40%|\u001b[34m████      \u001b[0m| 4/10 [00:07<00:11,  2.00s/it]\n"
     ]
    },
    {
     "name": "stdout",
     "output_type": "stream",
     "text": [
      "\u001b[36m(launch_and_fit pid=75448)\u001b[0m \tTrain Epoch: 5 \tTrain_loss: 1.8108 | Train_acc: 33.6548 % | Validation_loss: 1.7905 | Validation_acc: 31.3859 %\n"
     ]
    },
    {
     "name": "stderr",
     "output_type": "stream",
     "text": [
      " 50%|\u001b[34m█████     \u001b[0m| 5/10 [00:10<00:10,  2.06s/it]\n"
     ]
    },
    {
     "name": "stdout",
     "output_type": "stream",
     "text": [
      "\u001b[36m(launch_and_fit pid=75448)\u001b[0m \tTrain Epoch: 6 \tTrain_loss: 1.8204 | Train_acc: 32.4048 % | Validation_loss: 1.7862 | Validation_acc: 31.3859 %\n"
     ]
    },
    {
     "name": "stderr",
     "output_type": "stream",
     "text": [
      " 60%|\u001b[34m██████    \u001b[0m| 6/10 [00:12<00:08,  2.10s/it]\n"
     ]
    },
    {
     "name": "stdout",
     "output_type": "stream",
     "text": [
      "\u001b[36m(launch_and_fit pid=75448)\u001b[0m \tTrain Epoch: 7 \tTrain_loss: 1.8030 | Train_acc: 34.9643 % | Validation_loss: 1.7869 | Validation_acc: 27.8533 %\n"
     ]
    },
    {
     "name": "stderr",
     "output_type": "stream",
     "text": [
      " 70%|\u001b[34m███████   \u001b[0m| 7/10 [00:14<00:06,  2.13s/it]\n"
     ]
    },
    {
     "name": "stdout",
     "output_type": "stream",
     "text": [
      "\u001b[36m(launch_and_fit pid=75448)\u001b[0m \tTrain Epoch: 8 \tTrain_loss: 1.8013 | Train_acc: 34.3274 % | Validation_loss: 1.8007 | Validation_acc: 27.8533 %\n"
     ]
    },
    {
     "name": "stderr",
     "output_type": "stream",
     "text": [
      " 80%|\u001b[34m████████  \u001b[0m| 8/10 [00:16<00:04,  2.15s/it]\n"
     ]
    },
    {
     "name": "stdout",
     "output_type": "stream",
     "text": [
      "\u001b[36m(launch_and_fit pid=75448)\u001b[0m \tTrain Epoch: 9 \tTrain_loss: 1.7924 | Train_acc: 34.5238 % | Validation_loss: 1.7806 | Validation_acc: 30.3442 %\n"
     ]
    },
    {
     "name": "stderr",
     "output_type": "stream",
     "text": [
      " 90%|\u001b[34m█████████ \u001b[0m| 9/10 [00:18<00:02,  2.17s/it]\n"
     ]
    },
    {
     "name": "stdout",
     "output_type": "stream",
     "text": [
      "\u001b[36m(launch_and_fit pid=75448)\u001b[0m \tTrain Epoch: 10 \tTrain_loss: 1.7962 | Train_acc: 33.5238 % | Validation_loss: 1.7770 | Validation_acc: 28.2609 %\n",
      "\u001b[36m(launch_and_fit pid=75448)\u001b[0m save graph in  results/FL/\n"
     ]
    },
    {
     "name": "stderr",
     "output_type": "stream",
     "text": [
      "100%|\u001b[34m██████████\u001b[0m| 10/10 [00:20<00:00,  2.10s/it]\n",
      "\u001b[36m(launch_and_fit pid=75448)\u001b[0m /work/PILL (5075105)/QFML-QF-2024/src/utils/common.py:447: RuntimeWarning: More than 20 figures have been opened. Figures created through the pyplot interface (`matplotlib.pyplot.figure`) are retained until explicitly closed and may consume too much memory. (To control this warning, see the rcParam `figure.max_open_warning`). Consider using `matplotlib.pyplot.close()`.\n",
      "\u001b[36m(launch_and_fit pid=75448)\u001b[0m   plt.figure()\n"
     ]
    },
    {
     "name": "stdout",
     "output_type": "stream",
     "text": [
      "\u001b[36m(launch_and_fit pid=75448)\u001b[0m Run WITHOUT homomorphic encryption\n",
      "\u001b[36m(launch_and_fit pid=75448)\u001b[0m  To get the checkpoint\n",
      "\u001b[36m(launch_and_fit pid=75448)\u001b[0m [Client 2, round 3] fit, config: {'learning_rate': 0.003, 'batch_size': '32', 'server_round': 3, 'local_epochs': 10}\n",
      "\u001b[36m(launch_and_fit pid=75448)\u001b[0m Updated model\n"
     ]
    },
    {
     "name": "stderr",
     "output_type": "stream",
     "text": [
      "  0%|\u001b[34m          \u001b[0m| 0/10 [00:00<?, ?it/s]\n"
     ]
    },
    {
     "name": "stdout",
     "output_type": "stream",
     "text": [
      "\u001b[36m(launch_and_fit pid=75448)\u001b[0m \tTrain Epoch: 1 \tTrain_loss: 1.8307 | Train_acc: 31.9048 % | Validation_loss: 1.7585 | Validation_acc: 44.0670 %\n"
     ]
    },
    {
     "name": "stderr",
     "output_type": "stream",
     "text": [
      " 10%|\u001b[34m█         \u001b[0m| 1/10 [00:02<00:19,  2.16s/it]\n"
     ]
    },
    {
     "name": "stdout",
     "output_type": "stream",
     "text": [
      "\u001b[36m(launch_and_fit pid=75448)\u001b[0m \tTrain Epoch: 2 \tTrain_loss: 1.8203 | Train_acc: 32.2679 % | Validation_loss: 1.7647 | Validation_acc: 43.0254 %\n"
     ]
    },
    {
     "name": "stderr",
     "output_type": "stream",
     "text": [
      " 20%|\u001b[34m██        \u001b[0m| 2/10 [00:04<00:17,  2.17s/it]\n"
     ]
    },
    {
     "name": "stdout",
     "output_type": "stream",
     "text": [
      "\u001b[36m(launch_and_fit pid=75448)\u001b[0m \tTrain Epoch: 3 \tTrain_loss: 1.8106 | Train_acc: 34.2679 % | Validation_loss: 1.7565 | Validation_acc: 45.1087 %\n"
     ]
    },
    {
     "name": "stderr",
     "output_type": "stream",
     "text": [
      " 30%|\u001b[34m███       \u001b[0m| 3/10 [00:06<00:15,  2.16s/it]\n"
     ]
    },
    {
     "name": "stdout",
     "output_type": "stream",
     "text": [
      "\u001b[36m(launch_and_fit pid=75448)\u001b[0m \tTrain Epoch: 4 \tTrain_loss: 1.8094 | Train_acc: 34.4107 % | Validation_loss: 1.7636 | Validation_acc: 41.9837 %\n"
     ]
    },
    {
     "name": "stderr",
     "output_type": "stream",
     "text": [
      " 40%|\u001b[34m████      \u001b[0m| 4/10 [00:08<00:12,  2.15s/it]\n"
     ]
    },
    {
     "name": "stdout",
     "output_type": "stream",
     "text": [
      "\u001b[36m(launch_and_fit pid=75448)\u001b[0m \tTrain Epoch: 5 \tTrain_loss: 1.8048 | Train_acc: 35.1429 % | Validation_loss: 1.7503 | Validation_acc: 44.0670 %\n"
     ]
    },
    {
     "name": "stderr",
     "output_type": "stream",
     "text": [
      " 50%|\u001b[34m█████     \u001b[0m| 5/10 [00:10<00:10,  2.15s/it]\n"
     ]
    },
    {
     "name": "stdout",
     "output_type": "stream",
     "text": [
      "\u001b[36m(launch_and_fit pid=75448)\u001b[0m \tTrain Epoch: 6 \tTrain_loss: 1.7971 | Train_acc: 35.4643 % | Validation_loss: 1.7646 | Validation_acc: 41.9837 %\n"
     ]
    },
    {
     "name": "stderr",
     "output_type": "stream",
     "text": [
      " 60%|\u001b[34m██████    \u001b[0m| 6/10 [00:12<00:08,  2.12s/it]\n"
     ]
    },
    {
     "name": "stdout",
     "output_type": "stream",
     "text": [
      "\u001b[36m(launch_and_fit pid=75448)\u001b[0m \tTrain Epoch: 7 \tTrain_loss: 1.7932 | Train_acc: 37.3452 % | Validation_loss: 1.7579 | Validation_acc: 43.0254 %\n"
     ]
    },
    {
     "name": "stderr",
     "output_type": "stream",
     "text": [
      " 70%|\u001b[34m███████   \u001b[0m| 7/10 [00:15<00:06,  2.23s/it]\n"
     ]
    },
    {
     "name": "stdout",
     "output_type": "stream",
     "text": [
      "\u001b[36m(launch_and_fit pid=75448)\u001b[0m \tTrain Epoch: 8 \tTrain_loss: 1.7890 | Train_acc: 37.3988 % | Validation_loss: 1.7490 | Validation_acc: 43.0254 %\n"
     ]
    },
    {
     "name": "stderr",
     "output_type": "stream",
     "text": [
      " 80%|\u001b[34m████████  \u001b[0m| 8/10 [00:17<00:04,  2.18s/it]\n"
     ]
    },
    {
     "name": "stdout",
     "output_type": "stream",
     "text": [
      "\u001b[36m(launch_and_fit pid=75448)\u001b[0m \tTrain Epoch: 9 \tTrain_loss: 1.7897 | Train_acc: 37.2083 % | Validation_loss: 1.7467 | Validation_acc: 44.0670 %\n"
     ]
    },
    {
     "name": "stderr",
     "output_type": "stream",
     "text": [
      " 90%|\u001b[34m█████████ \u001b[0m| 9/10 [00:19<00:02,  2.15s/it]\n",
      "100%|\u001b[34m██████████\u001b[0m| 10/10 [00:21<00:00,  2.15s/it]\n",
      "DEBUG flwr 2024-08-30 01:46:12,482 | server.py:236 | fit_round 3 received 4 results and 0 failures\n"
     ]
    },
    {
     "name": "stdout",
     "output_type": "stream",
     "text": [
      "\u001b[36m(launch_and_fit pid=75448)\u001b[0m \tTrain Epoch: 10 \tTrain_loss: 1.7887 | Train_acc: 37.0833 % | Validation_loss: 1.7418 | Validation_acc: 44.0670 %\n",
      "\u001b[36m(launch_and_fit pid=75448)\u001b[0m save graph in  results/FL/\n",
      "Saving round 3 aggregated_parameters...\n",
      "Updated model\n"
     ]
    },
    {
     "name": "stderr",
     "output_type": "stream",
     "text": [
      "INFO flwr 2024-08-30 01:46:13,322 | server.py:125 | fit progress: (3, 1.818590943302427, {'accuracy': 31.473214285714285}, 405.4527850202285)\n",
      "DEBUG flwr 2024-08-30 01:46:13,323 | server.py:173 | evaluate_round 3: strategy sampled 4 clients (out of 4)\n"
     ]
    },
    {
     "name": "stdout",
     "output_type": "stream",
     "text": [
      "Server-side evaluation loss 1.818590943302427 / accuracy 31.473214285714285\n",
      "\u001b[36m(launch_and_evaluate pid=75448)\u001b[0m Run WITHOUT homomorphic encryption\n",
      "\u001b[36m(launch_and_evaluate pid=75448)\u001b[0m  To get the checkpoint\n",
      "\u001b[36m(launch_and_evaluate pid=75448)\u001b[0m [Client 2] evaluate, config: {}\n",
      "\u001b[36m(launch_and_evaluate pid=75448)\u001b[0m Updated model\n",
      "\u001b[36m(launch_and_evaluate pid=75448)\u001b[0m Run WITHOUT homomorphic encryption\n",
      "\u001b[36m(launch_and_evaluate pid=75448)\u001b[0m  To get the checkpoint\n",
      "\u001b[36m(launch_and_evaluate pid=75448)\u001b[0m [Client 1] evaluate, config: {}\n",
      "\u001b[36m(launch_and_evaluate pid=75448)\u001b[0m Updated model\n",
      "\u001b[36m(launch_and_evaluate pid=75448)\u001b[0m Run WITHOUT homomorphic encryption\n",
      "\u001b[36m(launch_and_evaluate pid=75448)\u001b[0m  To get the checkpoint\n",
      "\u001b[36m(launch_and_evaluate pid=75448)\u001b[0m [Client 0] evaluate, config: {}\n",
      "\u001b[36m(launch_and_evaluate pid=75448)\u001b[0m Updated model\n",
      "\u001b[36m(launch_and_evaluate pid=75448)\u001b[0m Run WITHOUT homomorphic encryption\n",
      "\u001b[36m(launch_and_evaluate pid=75448)\u001b[0m  To get the checkpoint\n",
      "\u001b[36m(launch_and_evaluate pid=75448)\u001b[0m [Client 3] evaluate, config: {}\n",
      "\u001b[36m(launch_and_evaluate pid=75448)\u001b[0m Updated model\n"
     ]
    },
    {
     "name": "stderr",
     "output_type": "stream",
     "text": [
      "DEBUG flwr 2024-08-30 01:46:15,900 | server.py:187 | evaluate_round 3 received 4 results and 0 failures\n",
      "DEBUG flwr 2024-08-30 01:46:15,901 | server.py:222 | fit_round 4: strategy sampled 4 clients (out of 4)\n"
     ]
    },
    {
     "name": "stdout",
     "output_type": "stream",
     "text": [
      "\u001b[36m(launch_and_fit pid=75448)\u001b[0m Run WITHOUT homomorphic encryption\n",
      "\u001b[36m(launch_and_fit pid=75448)\u001b[0m  To get the checkpoint\n",
      "\u001b[36m(launch_and_fit pid=75448)\u001b[0m [Client 1, round 4] fit, config: {'learning_rate': 0.003, 'batch_size': '32', 'server_round': 4, 'local_epochs': 10}\n",
      "\u001b[36m(launch_and_fit pid=75448)\u001b[0m Updated model\n"
     ]
    },
    {
     "name": "stderr",
     "output_type": "stream",
     "text": [
      "  0%|\u001b[34m          \u001b[0m| 0/10 [00:00<?, ?it/s]\n"
     ]
    },
    {
     "name": "stdout",
     "output_type": "stream",
     "text": [
      "\u001b[36m(launch_and_fit pid=75448)\u001b[0m \tTrain Epoch: 1 \tTrain_loss: 1.8200 | Train_acc: 30.0774 % | Validation_loss: 1.7287 | Validation_acc: 40.5344 %\n"
     ]
    },
    {
     "name": "stderr",
     "output_type": "stream",
     "text": [
      " 10%|\u001b[34m█         \u001b[0m| 1/10 [00:02<00:18,  2.03s/it]\n"
     ]
    },
    {
     "name": "stdout",
     "output_type": "stream",
     "text": [
      "\u001b[36m(launch_and_fit pid=75448)\u001b[0m \tTrain Epoch: 2 \tTrain_loss: 1.8084 | Train_acc: 32.7143 % | Validation_loss: 1.7656 | Validation_acc: 37.4094 %\n"
     ]
    },
    {
     "name": "stderr",
     "output_type": "stream",
     "text": [
      " 20%|\u001b[34m██        \u001b[0m| 2/10 [00:04<00:16,  2.02s/it]\n"
     ]
    },
    {
     "name": "stdout",
     "output_type": "stream",
     "text": [
      "\u001b[36m(launch_and_fit pid=75448)\u001b[0m \tTrain Epoch: 3 \tTrain_loss: 1.7985 | Train_acc: 33.0833 % | Validation_loss: 1.7253 | Validation_acc: 39.4928 %\n"
     ]
    },
    {
     "name": "stderr",
     "output_type": "stream",
     "text": [
      " 30%|\u001b[34m███       \u001b[0m| 3/10 [00:06<00:14,  2.02s/it]\n"
     ]
    },
    {
     "name": "stdout",
     "output_type": "stream",
     "text": [
      "\u001b[36m(launch_and_fit pid=75448)\u001b[0m \tTrain Epoch: 4 \tTrain_loss: 1.7958 | Train_acc: 33.8988 % | Validation_loss: 1.7331 | Validation_acc: 39.4928 %\n"
     ]
    },
    {
     "name": "stderr",
     "output_type": "stream",
     "text": [
      " 40%|\u001b[34m████      \u001b[0m| 4/10 [00:08<00:12,  2.07s/it]\n"
     ]
    },
    {
     "name": "stdout",
     "output_type": "stream",
     "text": [
      "\u001b[36m(launch_and_fit pid=75448)\u001b[0m \tTrain Epoch: 5 \tTrain_loss: 1.8042 | Train_acc: 32.4583 % | Validation_loss: 1.7201 | Validation_acc: 40.5344 %\n"
     ]
    },
    {
     "name": "stderr",
     "output_type": "stream",
     "text": [
      " 50%|\u001b[34m█████     \u001b[0m| 5/10 [00:10<00:10,  2.07s/it]\n"
     ]
    },
    {
     "name": "stdout",
     "output_type": "stream",
     "text": [
      "\u001b[36m(launch_and_fit pid=75448)\u001b[0m \tTrain Epoch: 6 \tTrain_loss: 1.7934 | Train_acc: 34.4643 % | Validation_loss: 1.7810 | Validation_acc: 37.8170 %\n"
     ]
    },
    {
     "name": "stderr",
     "output_type": "stream",
     "text": [
      " 60%|\u001b[34m██████    \u001b[0m| 6/10 [00:15<00:13,  3.28s/it]\n"
     ]
    },
    {
     "name": "stdout",
     "output_type": "stream",
     "text": [
      "\u001b[36m(launch_and_fit pid=75448)\u001b[0m \tTrain Epoch: 7 \tTrain_loss: 1.8101 | Train_acc: 31.4702 % | Validation_loss: 1.7200 | Validation_acc: 40.9420 %\n"
     ]
    },
    {
     "name": "stderr",
     "output_type": "stream",
     "text": [
      " 70%|\u001b[34m███████   \u001b[0m| 7/10 [00:22<00:12,  4.20s/it]\n"
     ]
    },
    {
     "name": "stdout",
     "output_type": "stream",
     "text": [
      "\u001b[36m(launch_and_fit pid=75448)\u001b[0m \tTrain Epoch: 8 \tTrain_loss: 1.7978 | Train_acc: 33.0179 % | Validation_loss: 1.7332 | Validation_acc: 39.4928 %\n"
     ]
    },
    {
     "name": "stderr",
     "output_type": "stream",
     "text": [
      " 80%|\u001b[34m████████  \u001b[0m| 8/10 [00:28<00:09,  4.81s/it]\n"
     ]
    },
    {
     "name": "stdout",
     "output_type": "stream",
     "text": [
      "\u001b[36m(launch_and_fit pid=75448)\u001b[0m \tTrain Epoch: 9 \tTrain_loss: 1.7980 | Train_acc: 32.7798 % | Validation_loss: 1.7054 | Validation_acc: 43.6594 %\n"
     ]
    },
    {
     "name": "stderr",
     "output_type": "stream",
     "text": [
      " 90%|\u001b[34m█████████ \u001b[0m| 9/10 [00:34<00:05,  5.24s/it]\n"
     ]
    },
    {
     "name": "stdout",
     "output_type": "stream",
     "text": [
      "\u001b[36m(launch_and_fit pid=75448)\u001b[0m \tTrain Epoch: 10 \tTrain_loss: 1.7893 | Train_acc: 33.5774 % | Validation_loss: 1.7493 | Validation_acc: 35.3261 %\n",
      "\u001b[36m(launch_and_fit pid=75448)\u001b[0m save graph in  results/FL/\n"
     ]
    },
    {
     "name": "stderr",
     "output_type": "stream",
     "text": [
      "100%|\u001b[34m██████████\u001b[0m| 10/10 [00:39<00:00,  3.97s/it]\n"
     ]
    },
    {
     "name": "stdout",
     "output_type": "stream",
     "text": [
      "\u001b[36m(launch_and_fit pid=75448)\u001b[0m Run WITHOUT homomorphic encryption\n",
      "\u001b[36m(launch_and_fit pid=75448)\u001b[0m  To get the checkpoint\n",
      "\u001b[36m(launch_and_fit pid=75448)\u001b[0m [Client 2, round 4] fit, config: {'learning_rate': 0.003, 'batch_size': '32', 'server_round': 4, 'local_epochs': 10}\n",
      "\u001b[36m(launch_and_fit pid=75448)\u001b[0m Updated model\n"
     ]
    },
    {
     "name": "stderr",
     "output_type": "stream",
     "text": [
      "  0%|\u001b[34m          \u001b[0m| 0/10 [00:00<?, ?it/s]\n"
     ]
    },
    {
     "name": "stdout",
     "output_type": "stream",
     "text": [
      "\u001b[36m(launch_and_fit pid=75448)\u001b[0m \tTrain Epoch: 1 \tTrain_loss: 1.8081 | Train_acc: 34.2738 % | Validation_loss: 1.7423 | Validation_acc: 44.0670 %\n"
     ]
    },
    {
     "name": "stderr",
     "output_type": "stream",
     "text": [
      " 10%|\u001b[34m█         \u001b[0m| 1/10 [00:05<00:52,  5.80s/it]\n"
     ]
    },
    {
     "name": "stdout",
     "output_type": "stream",
     "text": [
      "\u001b[36m(launch_and_fit pid=75448)\u001b[0m \tTrain Epoch: 2 \tTrain_loss: 1.7958 | Train_acc: 34.8333 % | Validation_loss: 1.7438 | Validation_acc: 41.9837 %\n"
     ]
    },
    {
     "name": "stderr",
     "output_type": "stream",
     "text": [
      " 20%|\u001b[34m██        \u001b[0m| 2/10 [00:11<00:46,  5.86s/it]\n"
     ]
    },
    {
     "name": "stdout",
     "output_type": "stream",
     "text": [
      "\u001b[36m(launch_and_fit pid=75448)\u001b[0m \tTrain Epoch: 3 \tTrain_loss: 1.7962 | Train_acc: 34.2024 % | Validation_loss: 1.7351 | Validation_acc: 44.0670 %\n"
     ]
    },
    {
     "name": "stderr",
     "output_type": "stream",
     "text": [
      " 30%|\u001b[34m███       \u001b[0m| 3/10 [00:17<00:41,  5.88s/it]\n"
     ]
    },
    {
     "name": "stdout",
     "output_type": "stream",
     "text": [
      "\u001b[36m(launch_and_fit pid=75448)\u001b[0m \tTrain Epoch: 4 \tTrain_loss: 1.7848 | Train_acc: 36.9048 % | Validation_loss: 1.7398 | Validation_acc: 41.9837 %\n"
     ]
    },
    {
     "name": "stderr",
     "output_type": "stream",
     "text": [
      " 40%|\u001b[34m████      \u001b[0m| 4/10 [00:23<00:35,  5.93s/it]\n"
     ]
    },
    {
     "name": "stdout",
     "output_type": "stream",
     "text": [
      "\u001b[36m(launch_and_fit pid=75448)\u001b[0m \tTrain Epoch: 5 \tTrain_loss: 1.7859 | Train_acc: 37.3333 % | Validation_loss: 1.7334 | Validation_acc: 44.0670 %\n"
     ]
    },
    {
     "name": "stderr",
     "output_type": "stream",
     "text": [
      " 50%|\u001b[34m█████     \u001b[0m| 5/10 [00:29<00:29,  5.96s/it]\n"
     ]
    },
    {
     "name": "stdout",
     "output_type": "stream",
     "text": [
      "\u001b[36m(launch_and_fit pid=75448)\u001b[0m \tTrain Epoch: 6 \tTrain_loss: 1.7794 | Train_acc: 37.2679 % | Validation_loss: 1.7702 | Validation_acc: 40.9420 %\n"
     ]
    },
    {
     "name": "stderr",
     "output_type": "stream",
     "text": [
      " 60%|\u001b[34m██████    \u001b[0m| 6/10 [00:35<00:23,  5.97s/it]\n"
     ]
    },
    {
     "name": "stdout",
     "output_type": "stream",
     "text": [
      "\u001b[36m(launch_and_fit pid=75448)\u001b[0m \tTrain Epoch: 7 \tTrain_loss: 1.8081 | Train_acc: 33.0238 % | Validation_loss: 1.7304 | Validation_acc: 44.0670 %\n"
     ]
    },
    {
     "name": "stderr",
     "output_type": "stream",
     "text": [
      " 70%|\u001b[34m███████   \u001b[0m| 7/10 [00:41<00:17,  5.94s/it]\n"
     ]
    },
    {
     "name": "stdout",
     "output_type": "stream",
     "text": [
      "\u001b[36m(launch_and_fit pid=75448)\u001b[0m \tTrain Epoch: 8 \tTrain_loss: 1.7807 | Train_acc: 36.8929 % | Validation_loss: 1.7370 | Validation_acc: 41.9837 %\n"
     ]
    },
    {
     "name": "stderr",
     "output_type": "stream",
     "text": [
      " 80%|\u001b[34m████████  \u001b[0m| 8/10 [00:47<00:11,  5.94s/it]\n"
     ]
    },
    {
     "name": "stdout",
     "output_type": "stream",
     "text": [
      "\u001b[36m(launch_and_fit pid=75448)\u001b[0m \tTrain Epoch: 9 \tTrain_loss: 1.7807 | Train_acc: 36.4702 % | Validation_loss: 1.7293 | Validation_acc: 45.1087 %\n"
     ]
    },
    {
     "name": "stderr",
     "output_type": "stream",
     "text": [
      " 90%|\u001b[34m█████████ \u001b[0m| 9/10 [00:53<00:05,  5.98s/it]\n"
     ]
    },
    {
     "name": "stdout",
     "output_type": "stream",
     "text": [
      "\u001b[36m(launch_and_fit pid=75448)\u001b[0m \tTrain Epoch: 10 \tTrain_loss: 1.7843 | Train_acc: 36.7679 % | Validation_loss: 1.7343 | Validation_acc: 40.9420 %\n",
      "\u001b[36m(launch_and_fit pid=75448)\u001b[0m save graph in  results/FL/\n"
     ]
    },
    {
     "name": "stderr",
     "output_type": "stream",
     "text": [
      "100%|\u001b[34m██████████\u001b[0m| 10/10 [00:59<00:00,  5.94s/it]\n"
     ]
    },
    {
     "name": "stdout",
     "output_type": "stream",
     "text": [
      "\u001b[36m(launch_and_fit pid=75448)\u001b[0m Run WITHOUT homomorphic encryption\n",
      "\u001b[36m(launch_and_fit pid=75448)\u001b[0m  To get the checkpoint\n",
      "\u001b[36m(launch_and_fit pid=75448)\u001b[0m [Client 3, round 4] fit, config: {'learning_rate': 0.003, 'batch_size': '32', 'server_round': 4, 'local_epochs': 10}\n",
      "\u001b[36m(launch_and_fit pid=75448)\u001b[0m Updated model\n"
     ]
    },
    {
     "name": "stderr",
     "output_type": "stream",
     "text": [
      "  0%|\u001b[34m          \u001b[0m| 0/10 [00:00<?, ?it/s]\n"
     ]
    },
    {
     "name": "stdout",
     "output_type": "stream",
     "text": [
      "\u001b[36m(launch_and_fit pid=75448)\u001b[0m \tTrain Epoch: 1 \tTrain_loss: 1.8115 | Train_acc: 32.8274 % | Validation_loss: 1.8077 | Validation_acc: 26.8116 %\n"
     ]
    },
    {
     "name": "stderr",
     "output_type": "stream",
     "text": [
      " 10%|\u001b[34m█         \u001b[0m| 1/10 [00:06<01:01,  6.81s/it]\n"
     ]
    },
    {
     "name": "stdout",
     "output_type": "stream",
     "text": [
      "\u001b[36m(launch_and_fit pid=75448)\u001b[0m \tTrain Epoch: 2 \tTrain_loss: 1.8169 | Train_acc: 31.3333 % | Validation_loss: 1.7808 | Validation_acc: 30.3442 %\n"
     ]
    },
    {
     "name": "stderr",
     "output_type": "stream",
     "text": [
      " 20%|\u001b[34m██        \u001b[0m| 2/10 [00:12<00:49,  6.21s/it]\n"
     ]
    },
    {
     "name": "stdout",
     "output_type": "stream",
     "text": [
      "\u001b[36m(launch_and_fit pid=75448)\u001b[0m \tTrain Epoch: 3 \tTrain_loss: 1.8021 | Train_acc: 33.8452 % | Validation_loss: 1.7764 | Validation_acc: 29.3025 %\n"
     ]
    },
    {
     "name": "stderr",
     "output_type": "stream",
     "text": [
      " 30%|\u001b[34m███       \u001b[0m| 3/10 [00:18<00:42,  6.12s/it]\n"
     ]
    },
    {
     "name": "stdout",
     "output_type": "stream",
     "text": [
      "\u001b[36m(launch_and_fit pid=75448)\u001b[0m \tTrain Epoch: 4 \tTrain_loss: 1.8021 | Train_acc: 32.9583 % | Validation_loss: 1.8206 | Validation_acc: 26.8116 %\n"
     ]
    },
    {
     "name": "stderr",
     "output_type": "stream",
     "text": [
      " 40%|\u001b[34m████      \u001b[0m| 4/10 [00:24<00:37,  6.19s/it]\n"
     ]
    },
    {
     "name": "stdout",
     "output_type": "stream",
     "text": [
      "\u001b[36m(launch_and_fit pid=75448)\u001b[0m \tTrain Epoch: 5 \tTrain_loss: 1.8120 | Train_acc: 32.2679 % | Validation_loss: 1.7744 | Validation_acc: 30.3442 %\n"
     ]
    },
    {
     "name": "stderr",
     "output_type": "stream",
     "text": [
      " 50%|\u001b[34m█████     \u001b[0m| 5/10 [00:30<00:30,  6.15s/it]\n"
     ]
    },
    {
     "name": "stdout",
     "output_type": "stream",
     "text": [
      "\u001b[36m(launch_and_fit pid=75448)\u001b[0m \tTrain Epoch: 6 \tTrain_loss: 1.7902 | Train_acc: 33.7738 % | Validation_loss: 1.7743 | Validation_acc: 29.3025 %\n"
     ]
    },
    {
     "name": "stderr",
     "output_type": "stream",
     "text": [
      " 60%|\u001b[34m██████    \u001b[0m| 6/10 [00:37<00:24,  6.10s/it]\n"
     ]
    },
    {
     "name": "stdout",
     "output_type": "stream",
     "text": [
      "\u001b[36m(launch_and_fit pid=75448)\u001b[0m \tTrain Epoch: 7 \tTrain_loss: 1.7882 | Train_acc: 34.5952 % | Validation_loss: 1.7704 | Validation_acc: 29.9366 %\n"
     ]
    },
    {
     "name": "stderr",
     "output_type": "stream",
     "text": [
      " 70%|\u001b[34m███████   \u001b[0m| 7/10 [00:43<00:18,  6.14s/it]\n"
     ]
    },
    {
     "name": "stdout",
     "output_type": "stream",
     "text": [
      "\u001b[36m(launch_and_fit pid=75448)\u001b[0m \tTrain Epoch: 8 \tTrain_loss: 1.7964 | Train_acc: 33.3274 % | Validation_loss: 1.7715 | Validation_acc: 30.7518 %\n"
     ]
    },
    {
     "name": "stderr",
     "output_type": "stream",
     "text": [
      " 80%|\u001b[34m████████  \u001b[0m| 8/10 [00:49<00:12,  6.16s/it]\n"
     ]
    },
    {
     "name": "stdout",
     "output_type": "stream",
     "text": [
      "\u001b[36m(launch_and_fit pid=75448)\u001b[0m \tTrain Epoch: 9 \tTrain_loss: 1.7877 | Train_acc: 34.3869 % | Validation_loss: 1.7799 | Validation_acc: 27.8533 %\n"
     ]
    },
    {
     "name": "stderr",
     "output_type": "stream",
     "text": [
      " 90%|\u001b[34m█████████ \u001b[0m| 9/10 [00:55<00:06,  6.17s/it]\n"
     ]
    },
    {
     "name": "stdout",
     "output_type": "stream",
     "text": [
      "\u001b[36m(launch_and_fit pid=75448)\u001b[0m \tTrain Epoch: 10 \tTrain_loss: 1.7977 | Train_acc: 33.6964 % | Validation_loss: 1.7803 | Validation_acc: 27.2192 %\n",
      "\u001b[36m(launch_and_fit pid=75448)\u001b[0m save graph in  results/FL/\n"
     ]
    },
    {
     "name": "stderr",
     "output_type": "stream",
     "text": [
      "100%|\u001b[34m██████████\u001b[0m| 10/10 [01:01<00:00,  6.17s/it]\n"
     ]
    },
    {
     "name": "stdout",
     "output_type": "stream",
     "text": [
      "\u001b[36m(launch_and_fit pid=75448)\u001b[0m Run WITHOUT homomorphic encryption\n",
      "\u001b[36m(launch_and_fit pid=75448)\u001b[0m  To get the checkpoint\n",
      "\u001b[36m(launch_and_fit pid=75448)\u001b[0m [Client 0, round 4] fit, config: {'learning_rate': 0.003, 'batch_size': '32', 'server_round': 4, 'local_epochs': 10}\n",
      "\u001b[36m(launch_and_fit pid=75448)\u001b[0m Updated model\n"
     ]
    },
    {
     "name": "stderr",
     "output_type": "stream",
     "text": [
      "  0%|\u001b[34m          \u001b[0m| 0/10 [00:00<?, ?it/s]\n"
     ]
    },
    {
     "name": "stdout",
     "output_type": "stream",
     "text": [
      "\u001b[36m(launch_and_fit pid=75448)\u001b[0m \tTrain Epoch: 1 \tTrain_loss: 1.8040 | Train_acc: 33.0179 % | Validation_loss: 1.8433 | Validation_acc: 24.7283 %\n"
     ]
    },
    {
     "name": "stderr",
     "output_type": "stream",
     "text": [
      " 10%|\u001b[34m█         \u001b[0m| 1/10 [00:06<00:56,  6.28s/it]\n"
     ]
    },
    {
     "name": "stdout",
     "output_type": "stream",
     "text": [
      "\u001b[36m(launch_and_fit pid=75448)\u001b[0m \tTrain Epoch: 2 \tTrain_loss: 1.7901 | Train_acc: 33.5179 % | Validation_loss: 1.8341 | Validation_acc: 30.3442 %\n"
     ]
    },
    {
     "name": "stderr",
     "output_type": "stream",
     "text": [
      " 20%|\u001b[34m██        \u001b[0m| 2/10 [00:12<00:49,  6.18s/it]\n"
     ]
    },
    {
     "name": "stdout",
     "output_type": "stream",
     "text": [
      "\u001b[36m(launch_and_fit pid=75448)\u001b[0m \tTrain Epoch: 3 \tTrain_loss: 1.7994 | Train_acc: 33.5833 % | Validation_loss: 1.8467 | Validation_acc: 24.7283 %\n"
     ]
    },
    {
     "name": "stderr",
     "output_type": "stream",
     "text": [
      " 30%|\u001b[34m███       \u001b[0m| 3/10 [00:18<00:42,  6.14s/it]\n"
     ]
    },
    {
     "name": "stdout",
     "output_type": "stream",
     "text": [
      "\u001b[36m(launch_and_fit pid=75448)\u001b[0m \tTrain Epoch: 4 \tTrain_loss: 1.7912 | Train_acc: 33.8333 % | Validation_loss: 1.8242 | Validation_acc: 32.4275 %\n"
     ]
    },
    {
     "name": "stderr",
     "output_type": "stream",
     "text": [
      " 40%|\u001b[34m████      \u001b[0m| 4/10 [00:24<00:37,  6.17s/it]\n"
     ]
    },
    {
     "name": "stdout",
     "output_type": "stream",
     "text": [
      "\u001b[36m(launch_and_fit pid=75448)\u001b[0m \tTrain Epoch: 5 \tTrain_loss: 1.7813 | Train_acc: 34.9643 % | Validation_loss: 1.8372 | Validation_acc: 26.8116 %\n"
     ]
    },
    {
     "name": "stderr",
     "output_type": "stream",
     "text": [
      " 50%|\u001b[34m█████     \u001b[0m| 5/10 [00:30<00:30,  6.14s/it]\n"
     ]
    },
    {
     "name": "stdout",
     "output_type": "stream",
     "text": [
      "\u001b[36m(launch_and_fit pid=75448)\u001b[0m \tTrain Epoch: 6 \tTrain_loss: 1.7776 | Train_acc: 34.9583 % | Validation_loss: 1.8257 | Validation_acc: 33.4692 %\n"
     ]
    },
    {
     "name": "stderr",
     "output_type": "stream",
     "text": [
      " 60%|\u001b[34m██████    \u001b[0m| 6/10 [00:36<00:24,  6.16s/it]\n"
     ]
    },
    {
     "name": "stdout",
     "output_type": "stream",
     "text": [
      "\u001b[36m(launch_and_fit pid=75448)\u001b[0m \tTrain Epoch: 7 \tTrain_loss: 1.7759 | Train_acc: 35.2857 % | Validation_loss: 1.8299 | Validation_acc: 31.3859 %\n"
     ]
    },
    {
     "name": "stderr",
     "output_type": "stream",
     "text": [
      " 70%|\u001b[34m███████   \u001b[0m| 7/10 [00:43<00:18,  6.28s/it]\n"
     ]
    },
    {
     "name": "stdout",
     "output_type": "stream",
     "text": [
      "\u001b[36m(launch_and_fit pid=75448)\u001b[0m \tTrain Epoch: 8 \tTrain_loss: 1.7748 | Train_acc: 36.1488 % | Validation_loss: 1.8550 | Validation_acc: 25.3623 %\n"
     ]
    },
    {
     "name": "stderr",
     "output_type": "stream",
     "text": [
      " 80%|\u001b[34m████████  \u001b[0m| 8/10 [00:47<00:11,  5.68s/it]\n"
     ]
    },
    {
     "name": "stdout",
     "output_type": "stream",
     "text": [
      "\u001b[36m(launch_and_fit pid=75448)\u001b[0m \tTrain Epoch: 9 \tTrain_loss: 1.7796 | Train_acc: 34.9583 % | Validation_loss: 1.8355 | Validation_acc: 28.8949 %\n"
     ]
    },
    {
     "name": "stderr",
     "output_type": "stream",
     "text": [
      " 90%|\u001b[34m█████████ \u001b[0m| 9/10 [00:49<00:04,  4.49s/it]\n",
      "100%|\u001b[34m██████████\u001b[0m| 10/10 [00:51<00:00,  5.17s/it]\n",
      "DEBUG flwr 2024-08-30 01:49:53,633 | server.py:236 | fit_round 4 received 4 results and 0 failures\n"
     ]
    },
    {
     "name": "stdout",
     "output_type": "stream",
     "text": [
      "\u001b[36m(launch_and_fit pid=75448)\u001b[0m \tTrain Epoch: 10 \tTrain_loss: 1.7722 | Train_acc: 35.3333 % | Validation_loss: 1.8165 | Validation_acc: 32.4275 %\n",
      "\u001b[36m(launch_and_fit pid=75448)\u001b[0m save graph in  results/FL/\n",
      "Saving round 4 aggregated_parameters...\n",
      "Updated model\n"
     ]
    },
    {
     "name": "stderr",
     "output_type": "stream",
     "text": [
      "INFO flwr 2024-08-30 01:49:54,422 | server.py:125 | fit progress: (4, 1.771896596465792, {'accuracy': 36.79315476190476}, 626.55246894015)\n",
      "DEBUG flwr 2024-08-30 01:49:54,422 | server.py:173 | evaluate_round 4: strategy sampled 4 clients (out of 4)\n"
     ]
    },
    {
     "name": "stdout",
     "output_type": "stream",
     "text": [
      "Server-side evaluation loss 1.771896596465792 / accuracy 36.79315476190476\n",
      "\u001b[36m(launch_and_evaluate pid=75448)\u001b[0m Run WITHOUT homomorphic encryption\n",
      "\u001b[36m(launch_and_evaluate pid=75448)\u001b[0m  To get the checkpoint\n",
      "\u001b[36m(launch_and_evaluate pid=75448)\u001b[0m [Client 1] evaluate, config: {}\n",
      "\u001b[36m(launch_and_evaluate pid=75448)\u001b[0m Updated model\n",
      "\u001b[36m(launch_and_evaluate pid=75448)\u001b[0m Run WITHOUT homomorphic encryption\n",
      "\u001b[36m(launch_and_evaluate pid=75448)\u001b[0m  To get the checkpoint\n",
      "\u001b[36m(launch_and_evaluate pid=75448)\u001b[0m [Client 2] evaluate, config: {}\n",
      "\u001b[36m(launch_and_evaluate pid=75448)\u001b[0m Updated model\n",
      "\u001b[36m(launch_and_evaluate pid=75448)\u001b[0m Run WITHOUT homomorphic encryption\n",
      "\u001b[36m(launch_and_evaluate pid=75448)\u001b[0m  To get the checkpoint\n",
      "\u001b[36m(launch_and_evaluate pid=75448)\u001b[0m [Client 0] evaluate, config: {}\n",
      "\u001b[36m(launch_and_evaluate pid=75448)\u001b[0m Updated model\n",
      "\u001b[36m(launch_and_evaluate pid=75448)\u001b[0m Run WITHOUT homomorphic encryption\n",
      "\u001b[36m(launch_and_evaluate pid=75448)\u001b[0m  To get the checkpoint\n",
      "\u001b[36m(launch_and_evaluate pid=75448)\u001b[0m [Client 3] evaluate, config: {}\n",
      "\u001b[36m(launch_and_evaluate pid=75448)\u001b[0m Updated model\n"
     ]
    },
    {
     "name": "stderr",
     "output_type": "stream",
     "text": [
      "DEBUG flwr 2024-08-30 01:49:56,924 | server.py:187 | evaluate_round 4 received 4 results and 0 failures\n",
      "DEBUG flwr 2024-08-30 01:49:56,924 | server.py:222 | fit_round 5: strategy sampled 4 clients (out of 4)\n"
     ]
    },
    {
     "name": "stdout",
     "output_type": "stream",
     "text": [
      "\u001b[36m(launch_and_fit pid=75448)\u001b[0m Run WITHOUT homomorphic encryption\n",
      "\u001b[36m(launch_and_fit pid=75448)\u001b[0m  To get the checkpoint\n",
      "\u001b[36m(launch_and_fit pid=75448)\u001b[0m [Client 3, round 5] fit, config: {'learning_rate': 0.003, 'batch_size': '32', 'server_round': 5, 'local_epochs': 10}\n",
      "\u001b[36m(launch_and_fit pid=75448)\u001b[0m Updated model\n"
     ]
    },
    {
     "name": "stderr",
     "output_type": "stream",
     "text": [
      "  0%|\u001b[34m          \u001b[0m| 0/10 [00:00<?, ?it/s]\n"
     ]
    },
    {
     "name": "stdout",
     "output_type": "stream",
     "text": [
      "\u001b[36m(launch_and_fit pid=75448)\u001b[0m \tTrain Epoch: 1 \tTrain_loss: 1.7964 | Train_acc: 33.8929 % | Validation_loss: 1.7833 | Validation_acc: 28.8949 %\n"
     ]
    },
    {
     "name": "stderr",
     "output_type": "stream",
     "text": [
      " 10%|\u001b[34m█         \u001b[0m| 1/10 [00:01<00:17,  1.93s/it]\n"
     ]
    },
    {
     "name": "stdout",
     "output_type": "stream",
     "text": [
      "\u001b[36m(launch_and_fit pid=75448)\u001b[0m \tTrain Epoch: 2 \tTrain_loss: 1.7865 | Train_acc: 35.4643 % | Validation_loss: 1.7786 | Validation_acc: 28.8949 %\n"
     ]
    },
    {
     "name": "stderr",
     "output_type": "stream",
     "text": [
      " 20%|\u001b[34m██        \u001b[0m| 2/10 [00:03<00:15,  1.95s/it]\n"
     ]
    },
    {
     "name": "stdout",
     "output_type": "stream",
     "text": [
      "\u001b[36m(launch_and_fit pid=75448)\u001b[0m \tTrain Epoch: 3 \tTrain_loss: 1.7808 | Train_acc: 35.0893 % | Validation_loss: 1.7781 | Validation_acc: 28.8949 %\n"
     ]
    },
    {
     "name": "stderr",
     "output_type": "stream",
     "text": [
      " 30%|\u001b[34m███       \u001b[0m| 3/10 [00:05<00:13,  1.95s/it]\n"
     ]
    },
    {
     "name": "stdout",
     "output_type": "stream",
     "text": [
      "\u001b[36m(launch_and_fit pid=75448)\u001b[0m \tTrain Epoch: 4 \tTrain_loss: 1.7964 | Train_acc: 33.3929 % | Validation_loss: 1.7774 | Validation_acc: 28.8949 %\n"
     ]
    },
    {
     "name": "stderr",
     "output_type": "stream",
     "text": [
      " 40%|\u001b[34m████      \u001b[0m| 4/10 [00:07<00:11,  1.92s/it]\n"
     ]
    },
    {
     "name": "stdout",
     "output_type": "stream",
     "text": [
      "\u001b[36m(launch_and_fit pid=75448)\u001b[0m \tTrain Epoch: 5 \tTrain_loss: 1.7960 | Train_acc: 33.1429 % | Validation_loss: 1.8078 | Validation_acc: 27.2192 %\n"
     ]
    },
    {
     "name": "stderr",
     "output_type": "stream",
     "text": [
      " 50%|\u001b[34m█████     \u001b[0m| 5/10 [00:09<00:09,  1.90s/it]\n"
     ]
    },
    {
     "name": "stdout",
     "output_type": "stream",
     "text": [
      "\u001b[36m(launch_and_fit pid=75448)\u001b[0m \tTrain Epoch: 6 \tTrain_loss: 1.7952 | Train_acc: 33.9048 % | Validation_loss: 1.7832 | Validation_acc: 29.9366 %\n"
     ]
    },
    {
     "name": "stderr",
     "output_type": "stream",
     "text": [
      " 60%|\u001b[34m██████    \u001b[0m| 6/10 [00:11<00:07,  1.91s/it]\n"
     ]
    },
    {
     "name": "stdout",
     "output_type": "stream",
     "text": [
      "\u001b[36m(launch_and_fit pid=75448)\u001b[0m \tTrain Epoch: 7 \tTrain_loss: 1.7872 | Train_acc: 34.2083 % | Validation_loss: 1.7711 | Validation_acc: 28.8949 %\n"
     ]
    },
    {
     "name": "stderr",
     "output_type": "stream",
     "text": [
      " 70%|\u001b[34m███████   \u001b[0m| 7/10 [00:13<00:05,  1.91s/it]\n"
     ]
    },
    {
     "name": "stdout",
     "output_type": "stream",
     "text": [
      "\u001b[36m(launch_and_fit pid=75448)\u001b[0m \tTrain Epoch: 8 \tTrain_loss: 1.7736 | Train_acc: 35.7083 % | Validation_loss: 1.7674 | Validation_acc: 29.3025 %\n"
     ]
    },
    {
     "name": "stderr",
     "output_type": "stream",
     "text": [
      " 80%|\u001b[34m████████  \u001b[0m| 8/10 [00:15<00:03,  1.93s/it]\n"
     ]
    },
    {
     "name": "stdout",
     "output_type": "stream",
     "text": [
      "\u001b[36m(launch_and_fit pid=75448)\u001b[0m \tTrain Epoch: 9 \tTrain_loss: 1.7719 | Train_acc: 36.6488 % | Validation_loss: 1.7701 | Validation_acc: 28.8949 %\n"
     ]
    },
    {
     "name": "stderr",
     "output_type": "stream",
     "text": [
      " 90%|\u001b[34m█████████ \u001b[0m| 9/10 [00:17<00:02,  2.06s/it]\n"
     ]
    },
    {
     "name": "stdout",
     "output_type": "stream",
     "text": [
      "\u001b[36m(launch_and_fit pid=75448)\u001b[0m \tTrain Epoch: 10 \tTrain_loss: 1.7726 | Train_acc: 35.5179 % | Validation_loss: 1.7653 | Validation_acc: 32.4275 %\n",
      "\u001b[36m(launch_and_fit pid=75448)\u001b[0m save graph in  results/FL/\n",
      "\u001b[36m(launch_and_fit pid=75448)\u001b[0m Run WITHOUT homomorphic encryption\n",
      "\u001b[36m(launch_and_fit pid=75448)\u001b[0m  To get the checkpoint\n"
     ]
    },
    {
     "name": "stderr",
     "output_type": "stream",
     "text": [
      "100%|\u001b[34m██████████\u001b[0m| 10/10 [00:19<00:00,  1.97s/it]\n"
     ]
    },
    {
     "name": "stdout",
     "output_type": "stream",
     "text": [
      "\u001b[36m(launch_and_fit pid=75448)\u001b[0m [Client 1, round 5] fit, config: {'learning_rate': 0.003, 'batch_size': '32', 'server_round': 5, 'local_epochs': 10}\n",
      "\u001b[36m(launch_and_fit pid=75448)\u001b[0m Updated model\n"
     ]
    },
    {
     "name": "stderr",
     "output_type": "stream",
     "text": [
      "  0%|\u001b[34m          \u001b[0m| 0/10 [00:00<?, ?it/s]\n"
     ]
    },
    {
     "name": "stdout",
     "output_type": "stream",
     "text": [
      "\u001b[36m(launch_and_fit pid=75448)\u001b[0m \tTrain Epoch: 1 \tTrain_loss: 1.8011 | Train_acc: 33.3929 % | Validation_loss: 1.7046 | Validation_acc: 40.5344 %\n"
     ]
    },
    {
     "name": "stderr",
     "output_type": "stream",
     "text": [
      " 10%|\u001b[34m█         \u001b[0m| 1/10 [00:01<00:17,  1.95s/it]\n"
     ]
    },
    {
     "name": "stdout",
     "output_type": "stream",
     "text": [
      "\u001b[36m(launch_and_fit pid=75448)\u001b[0m \tTrain Epoch: 2 \tTrain_loss: 1.7922 | Train_acc: 34.0893 % | Validation_loss: 1.7150 | Validation_acc: 40.5344 %\n"
     ]
    },
    {
     "name": "stderr",
     "output_type": "stream",
     "text": [
      " 20%|\u001b[34m██        \u001b[0m| 2/10 [00:03<00:15,  1.93s/it]\n"
     ]
    },
    {
     "name": "stdout",
     "output_type": "stream",
     "text": [
      "\u001b[36m(launch_and_fit pid=75448)\u001b[0m \tTrain Epoch: 3 \tTrain_loss: 1.7892 | Train_acc: 34.4524 % | Validation_loss: 1.7290 | Validation_acc: 39.4928 %\n"
     ]
    },
    {
     "name": "stderr",
     "output_type": "stream",
     "text": [
      " 30%|\u001b[34m███       \u001b[0m| 3/10 [00:05<00:13,  1.91s/it]\n"
     ]
    },
    {
     "name": "stdout",
     "output_type": "stream",
     "text": [
      "\u001b[36m(launch_and_fit pid=75448)\u001b[0m \tTrain Epoch: 4 \tTrain_loss: 1.7872 | Train_acc: 35.2619 % | Validation_loss: 1.7039 | Validation_acc: 43.4330 %\n"
     ]
    },
    {
     "name": "stderr",
     "output_type": "stream",
     "text": [
      " 40%|\u001b[34m████      \u001b[0m| 4/10 [00:07<00:11,  1.92s/it]\n"
     ]
    },
    {
     "name": "stdout",
     "output_type": "stream",
     "text": [
      "\u001b[36m(launch_and_fit pid=75448)\u001b[0m \tTrain Epoch: 5 \tTrain_loss: 1.7833 | Train_acc: 34.7083 % | Validation_loss: 1.7476 | Validation_acc: 39.9004 %\n"
     ]
    },
    {
     "name": "stderr",
     "output_type": "stream",
     "text": [
      " 50%|\u001b[34m█████     \u001b[0m| 5/10 [00:09<00:09,  1.92s/it]\n"
     ]
    },
    {
     "name": "stdout",
     "output_type": "stream",
     "text": [
      "\u001b[36m(launch_and_fit pid=75448)\u001b[0m \tTrain Epoch: 6 \tTrain_loss: 1.7885 | Train_acc: 34.2679 % | Validation_loss: 1.7275 | Validation_acc: 38.4511 %\n"
     ]
    },
    {
     "name": "stderr",
     "output_type": "stream",
     "text": [
      " 60%|\u001b[34m██████    \u001b[0m| 6/10 [00:11<00:07,  1.94s/it]\n"
     ]
    },
    {
     "name": "stdout",
     "output_type": "stream",
     "text": [
      "\u001b[36m(launch_and_fit pid=75448)\u001b[0m \tTrain Epoch: 7 \tTrain_loss: 1.7776 | Train_acc: 34.8393 % | Validation_loss: 1.7148 | Validation_acc: 40.5344 %\n"
     ]
    },
    {
     "name": "stderr",
     "output_type": "stream",
     "text": [
      " 70%|\u001b[34m███████   \u001b[0m| 7/10 [00:13<00:05,  1.94s/it]\n"
     ]
    },
    {
     "name": "stdout",
     "output_type": "stream",
     "text": [
      "\u001b[36m(launch_and_fit pid=75448)\u001b[0m \tTrain Epoch: 8 \tTrain_loss: 1.7797 | Train_acc: 35.0298 % | Validation_loss: 1.6989 | Validation_acc: 41.5761 %\n"
     ]
    },
    {
     "name": "stderr",
     "output_type": "stream",
     "text": [
      " 80%|\u001b[34m████████  \u001b[0m| 8/10 [00:15<00:03,  1.95s/it]\n"
     ]
    },
    {
     "name": "stdout",
     "output_type": "stream",
     "text": [
      "\u001b[36m(launch_and_fit pid=75448)\u001b[0m \tTrain Epoch: 9 \tTrain_loss: 1.7811 | Train_acc: 34.9524 % | Validation_loss: 1.6992 | Validation_acc: 41.5761 %\n"
     ]
    },
    {
     "name": "stderr",
     "output_type": "stream",
     "text": [
      " 90%|\u001b[34m█████████ \u001b[0m| 9/10 [00:17<00:01,  1.95s/it]\n"
     ]
    },
    {
     "name": "stdout",
     "output_type": "stream",
     "text": [
      "\u001b[36m(launch_and_fit pid=75448)\u001b[0m \tTrain Epoch: 10 \tTrain_loss: 1.7910 | Train_acc: 34.0357 % | Validation_loss: 1.7179 | Validation_acc: 41.9837 %\n",
      "\u001b[36m(launch_and_fit pid=75448)\u001b[0m save graph in  results/FL/\n"
     ]
    },
    {
     "name": "stderr",
     "output_type": "stream",
     "text": [
      "100%|\u001b[34m██████████\u001b[0m| 10/10 [00:19<00:00,  1.94s/it]\n"
     ]
    },
    {
     "name": "stdout",
     "output_type": "stream",
     "text": [
      "\u001b[36m(launch_and_fit pid=75448)\u001b[0m Run WITHOUT homomorphic encryption\n",
      "\u001b[36m(launch_and_fit pid=75448)\u001b[0m  To get the checkpoint\n",
      "\u001b[36m(launch_and_fit pid=75448)\u001b[0m [Client 0, round 5] fit, config: {'learning_rate': 0.003, 'batch_size': '32', 'server_round': 5, 'local_epochs': 10}\n",
      "\u001b[36m(launch_and_fit pid=75448)\u001b[0m Updated model\n"
     ]
    },
    {
     "name": "stderr",
     "output_type": "stream",
     "text": [
      "  0%|\u001b[34m          \u001b[0m| 0/10 [00:00<?, ?it/s]\n"
     ]
    },
    {
     "name": "stdout",
     "output_type": "stream",
     "text": [
      "\u001b[36m(launch_and_fit pid=75448)\u001b[0m \tTrain Epoch: 1 \tTrain_loss: 1.7865 | Train_acc: 33.3988 % | Validation_loss: 1.8293 | Validation_acc: 26.8116 %\n"
     ]
    },
    {
     "name": "stderr",
     "output_type": "stream",
     "text": [
      " 10%|\u001b[34m█         \u001b[0m| 1/10 [00:02<00:18,  2.05s/it]\n"
     ]
    },
    {
     "name": "stdout",
     "output_type": "stream",
     "text": [
      "\u001b[36m(launch_and_fit pid=75448)\u001b[0m \tTrain Epoch: 2 \tTrain_loss: 1.7779 | Train_acc: 34.9524 % | Validation_loss: 1.8943 | Validation_acc: 17.4819 %\n"
     ]
    },
    {
     "name": "stderr",
     "output_type": "stream",
     "text": [
      " 20%|\u001b[34m██        \u001b[0m| 2/10 [00:04<00:16,  2.02s/it]\n"
     ]
    },
    {
     "name": "stdout",
     "output_type": "stream",
     "text": [
      "\u001b[36m(launch_and_fit pid=75448)\u001b[0m \tTrain Epoch: 3 \tTrain_loss: 1.7867 | Train_acc: 33.7679 % | Validation_loss: 1.8154 | Validation_acc: 35.9601 %\n"
     ]
    },
    {
     "name": "stderr",
     "output_type": "stream",
     "text": [
      " 30%|\u001b[34m███       \u001b[0m| 3/10 [00:06<00:14,  2.01s/it]\n"
     ]
    },
    {
     "name": "stdout",
     "output_type": "stream",
     "text": [
      "\u001b[36m(launch_and_fit pid=75448)\u001b[0m \tTrain Epoch: 4 \tTrain_loss: 1.7770 | Train_acc: 34.5714 % | Validation_loss: 1.8381 | Validation_acc: 25.7699 %\n"
     ]
    },
    {
     "name": "stderr",
     "output_type": "stream",
     "text": [
      " 40%|\u001b[34m████      \u001b[0m| 4/10 [00:08<00:11,  2.00s/it]\n"
     ]
    },
    {
     "name": "stdout",
     "output_type": "stream",
     "text": [
      "\u001b[36m(launch_and_fit pid=75448)\u001b[0m \tTrain Epoch: 5 \tTrain_loss: 1.7687 | Train_acc: 36.2798 % | Validation_loss: 1.8241 | Validation_acc: 28.8949 %\n"
     ]
    },
    {
     "name": "stderr",
     "output_type": "stream",
     "text": [
      " 50%|\u001b[34m█████     \u001b[0m| 5/10 [00:14<00:17,  3.46s/it]\n"
     ]
    },
    {
     "name": "stdout",
     "output_type": "stream",
     "text": [
      "\u001b[36m(launch_and_fit pid=75448)\u001b[0m \tTrain Epoch: 6 \tTrain_loss: 1.7698 | Train_acc: 36.9583 % | Validation_loss: 1.8504 | Validation_acc: 26.8116 %\n"
     ]
    },
    {
     "name": "stderr",
     "output_type": "stream",
     "text": [
      " 60%|\u001b[34m██████    \u001b[0m| 6/10 [00:29<00:29,  7.42s/it]\n"
     ]
    },
    {
     "name": "stdout",
     "output_type": "stream",
     "text": [
      "\u001b[36m(launch_and_fit pid=75448)\u001b[0m \tTrain Epoch: 7 \tTrain_loss: 1.7777 | Train_acc: 35.8333 % | Validation_loss: 1.8090 | Validation_acc: 34.9185 %\n"
     ]
    },
    {
     "name": "stderr",
     "output_type": "stream",
     "text": [
      " 70%|\u001b[34m███████   \u001b[0m| 7/10 [00:43<00:28,  9.54s/it]\n"
     ]
    },
    {
     "name": "stdout",
     "output_type": "stream",
     "text": [
      "\u001b[36m(launch_and_fit pid=75448)\u001b[0m \tTrain Epoch: 8 \tTrain_loss: 1.7744 | Train_acc: 35.2143 % | Validation_loss: 1.8134 | Validation_acc: 34.5109 %\n"
     ]
    },
    {
     "name": "stderr",
     "output_type": "stream",
     "text": [
      " 80%|\u001b[34m████████  \u001b[0m| 8/10 [00:45<00:14,  7.14s/it]\n"
     ]
    },
    {
     "name": "stdout",
     "output_type": "stream",
     "text": [
      "\u001b[36m(launch_and_fit pid=75448)\u001b[0m \tTrain Epoch: 9 \tTrain_loss: 1.7790 | Train_acc: 35.5893 % | Validation_loss: 1.8410 | Validation_acc: 27.4457 %\n"
     ]
    },
    {
     "name": "stderr",
     "output_type": "stream",
     "text": [
      " 90%|\u001b[34m█████████ \u001b[0m| 9/10 [00:47<00:05,  5.53s/it]\n"
     ]
    },
    {
     "name": "stdout",
     "output_type": "stream",
     "text": [
      "\u001b[36m(launch_and_fit pid=75448)\u001b[0m \tTrain Epoch: 10 \tTrain_loss: 1.7774 | Train_acc: 34.9524 % | Validation_loss: 1.8069 | Validation_acc: 35.9601 %\n",
      "\u001b[36m(launch_and_fit pid=75448)\u001b[0m save graph in  results/FL/\n"
     ]
    },
    {
     "name": "stderr",
     "output_type": "stream",
     "text": [
      "100%|\u001b[34m██████████\u001b[0m| 10/10 [00:49<00:00,  4.90s/it]\n"
     ]
    },
    {
     "name": "stdout",
     "output_type": "stream",
     "text": [
      "\u001b[36m(launch_and_fit pid=75448)\u001b[0m Run WITHOUT homomorphic encryption\n",
      "\u001b[36m(launch_and_fit pid=75448)\u001b[0m  To get the checkpoint\n",
      "\u001b[36m(launch_and_fit pid=75448)\u001b[0m [Client 2, round 5] fit, config: {'learning_rate': 0.003, 'batch_size': '32', 'server_round': 5, 'local_epochs': 10}\n",
      "\u001b[36m(launch_and_fit pid=75448)\u001b[0m Updated model\n"
     ]
    },
    {
     "name": "stderr",
     "output_type": "stream",
     "text": [
      "  0%|\u001b[34m          \u001b[0m| 0/10 [00:00<?, ?it/s]\n"
     ]
    },
    {
     "name": "stdout",
     "output_type": "stream",
     "text": [
      "\u001b[36m(launch_and_fit pid=75448)\u001b[0m \tTrain Epoch: 1 \tTrain_loss: 1.8135 | Train_acc: 33.3333 % | Validation_loss: 1.7398 | Validation_acc: 45.1087 %\n"
     ]
    },
    {
     "name": "stderr",
     "output_type": "stream",
     "text": [
      " 10%|\u001b[34m█         \u001b[0m| 1/10 [00:02<00:18,  2.02s/it]\n"
     ]
    },
    {
     "name": "stdout",
     "output_type": "stream",
     "text": [
      "\u001b[36m(launch_and_fit pid=75448)\u001b[0m \tTrain Epoch: 2 \tTrain_loss: 1.8298 | Train_acc: 31.4048 % | Validation_loss: 1.7223 | Validation_acc: 45.1087 %\n"
     ]
    },
    {
     "name": "stderr",
     "output_type": "stream",
     "text": [
      " 20%|\u001b[34m██        \u001b[0m| 2/10 [00:04<00:16,  2.02s/it]\n"
     ]
    },
    {
     "name": "stdout",
     "output_type": "stream",
     "text": [
      "\u001b[36m(launch_and_fit pid=75448)\u001b[0m \tTrain Epoch: 3 \tTrain_loss: 1.8287 | Train_acc: 31.2083 % | Validation_loss: 1.7233 | Validation_acc: 45.1087 %\n"
     ]
    },
    {
     "name": "stderr",
     "output_type": "stream",
     "text": [
      " 30%|\u001b[34m███       \u001b[0m| 3/10 [00:06<00:14,  2.01s/it]\n"
     ]
    },
    {
     "name": "stdout",
     "output_type": "stream",
     "text": [
      "\u001b[36m(launch_and_fit pid=75448)\u001b[0m \tTrain Epoch: 4 \tTrain_loss: 1.8288 | Train_acc: 31.0119 % | Validation_loss: 1.7228 | Validation_acc: 45.1087 %\n"
     ]
    },
    {
     "name": "stderr",
     "output_type": "stream",
     "text": [
      " 40%|\u001b[34m████      \u001b[0m| 4/10 [00:07<00:11,  1.99s/it]\n"
     ]
    },
    {
     "name": "stdout",
     "output_type": "stream",
     "text": [
      "\u001b[36m(launch_and_fit pid=75448)\u001b[0m \tTrain Epoch: 5 \tTrain_loss: 1.8278 | Train_acc: 31.0774 % | Validation_loss: 1.7240 | Validation_acc: 45.1087 %\n"
     ]
    },
    {
     "name": "stderr",
     "output_type": "stream",
     "text": [
      " 50%|\u001b[34m█████     \u001b[0m| 5/10 [00:09<00:09,  1.95s/it]\n"
     ]
    },
    {
     "name": "stdout",
     "output_type": "stream",
     "text": [
      "\u001b[36m(launch_and_fit pid=75448)\u001b[0m \tTrain Epoch: 6 \tTrain_loss: 1.8276 | Train_acc: 31.0774 % | Validation_loss: 1.7239 | Validation_acc: 45.1087 %\n"
     ]
    },
    {
     "name": "stderr",
     "output_type": "stream",
     "text": [
      " 60%|\u001b[34m██████    \u001b[0m| 6/10 [00:11<00:07,  1.93s/it]\n"
     ]
    },
    {
     "name": "stdout",
     "output_type": "stream",
     "text": [
      "\u001b[36m(launch_and_fit pid=75448)\u001b[0m \tTrain Epoch: 7 \tTrain_loss: 1.8259 | Train_acc: 31.2738 % | Validation_loss: 1.7248 | Validation_acc: 45.1087 %\n"
     ]
    },
    {
     "name": "stderr",
     "output_type": "stream",
     "text": [
      " 70%|\u001b[34m███████   \u001b[0m| 7/10 [00:13<00:05,  1.93s/it]\n"
     ]
    },
    {
     "name": "stdout",
     "output_type": "stream",
     "text": [
      "\u001b[36m(launch_and_fit pid=75448)\u001b[0m \tTrain Epoch: 8 \tTrain_loss: 1.8253 | Train_acc: 31.2738 % | Validation_loss: 1.7248 | Validation_acc: 45.1087 %\n"
     ]
    },
    {
     "name": "stderr",
     "output_type": "stream",
     "text": [
      " 80%|\u001b[34m████████  \u001b[0m| 8/10 [00:15<00:03,  1.91s/it]\n"
     ]
    },
    {
     "name": "stdout",
     "output_type": "stream",
     "text": [
      "\u001b[36m(launch_and_fit pid=75448)\u001b[0m \tTrain Epoch: 9 \tTrain_loss: 1.8248 | Train_acc: 31.2083 % | Validation_loss: 1.7249 | Validation_acc: 45.1087 %\n"
     ]
    },
    {
     "name": "stderr",
     "output_type": "stream",
     "text": [
      " 90%|\u001b[34m█████████ \u001b[0m| 9/10 [00:17<00:01,  1.91s/it]\n",
      "100%|\u001b[34m██████████\u001b[0m| 10/10 [00:19<00:00,  1.93s/it]\n",
      "DEBUG flwr 2024-08-30 01:51:46,030 | server.py:236 | fit_round 5 received 4 results and 0 failures\n"
     ]
    },
    {
     "name": "stdout",
     "output_type": "stream",
     "text": [
      "\u001b[36m(launch_and_fit pid=75448)\u001b[0m \tTrain Epoch: 10 \tTrain_loss: 1.8251 | Train_acc: 31.1429 % | Validation_loss: 1.7254 | Validation_acc: 45.1087 %\n",
      "\u001b[36m(launch_and_fit pid=75448)\u001b[0m save graph in  results/FL/\n",
      "Saving round 5 aggregated_parameters...\n",
      "Updated model\n"
     ]
    },
    {
     "name": "stderr",
     "output_type": "stream",
     "text": [
      "INFO flwr 2024-08-30 01:51:46,803 | server.py:125 | fit progress: (5, 1.799536977495466, {'accuracy': 32.552083333333336}, 738.9342960012145)\n",
      "DEBUG flwr 2024-08-30 01:51:46,804 | server.py:173 | evaluate_round 5: strategy sampled 4 clients (out of 4)\n"
     ]
    },
    {
     "name": "stdout",
     "output_type": "stream",
     "text": [
      "Server-side evaluation loss 1.799536977495466 / accuracy 32.552083333333336\n",
      "\u001b[36m(launch_and_evaluate pid=75448)\u001b[0m Run WITHOUT homomorphic encryption\n",
      "\u001b[36m(launch_and_evaluate pid=75448)\u001b[0m  To get the checkpoint\n",
      "\u001b[36m(launch_and_evaluate pid=75448)\u001b[0m [Client 0] evaluate, config: {}\n",
      "\u001b[36m(launch_and_evaluate pid=75448)\u001b[0m Updated model\n",
      "\u001b[36m(launch_and_evaluate pid=75448)\u001b[0m Run WITHOUT homomorphic encryption\n",
      "\u001b[36m(launch_and_evaluate pid=75448)\u001b[0m  To get the checkpoint\n",
      "\u001b[36m(launch_and_evaluate pid=75448)\u001b[0m [Client 3] evaluate, config: {}\n",
      "\u001b[36m(launch_and_evaluate pid=75448)\u001b[0m Updated model\n",
      "\u001b[36m(launch_and_evaluate pid=75448)\u001b[0m Run WITHOUT homomorphic encryption\n",
      "\u001b[36m(launch_and_evaluate pid=75448)\u001b[0m  To get the checkpoint\n",
      "\u001b[36m(launch_and_evaluate pid=75448)\u001b[0m [Client 2] evaluate, config: {}\n",
      "\u001b[36m(launch_and_evaluate pid=75448)\u001b[0m Updated model\n",
      "\u001b[36m(launch_and_evaluate pid=75448)\u001b[0m Run WITHOUT homomorphic encryption\n",
      "\u001b[36m(launch_and_evaluate pid=75448)\u001b[0m  To get the checkpoint\n",
      "\u001b[36m(launch_and_evaluate pid=75448)\u001b[0m [Client 1] evaluate, config: {}\n",
      "\u001b[36m(launch_and_evaluate pid=75448)\u001b[0m Updated model\n"
     ]
    },
    {
     "name": "stderr",
     "output_type": "stream",
     "text": [
      "DEBUG flwr 2024-08-30 01:51:49,575 | server.py:187 | evaluate_round 5 received 4 results and 0 failures\n",
      "DEBUG flwr 2024-08-30 01:51:49,575 | server.py:222 | fit_round 6: strategy sampled 4 clients (out of 4)\n"
     ]
    },
    {
     "name": "stdout",
     "output_type": "stream",
     "text": [
      "\u001b[36m(launch_and_fit pid=75448)\u001b[0m Run WITHOUT homomorphic encryption\n",
      "\u001b[36m(launch_and_fit pid=75448)\u001b[0m  To get the checkpoint\n",
      "\u001b[36m(launch_and_fit pid=75448)\u001b[0m [Client 2, round 6] fit, config: {'learning_rate': 0.003, 'batch_size': '32', 'server_round': 6, 'local_epochs': 10}\n",
      "\u001b[36m(launch_and_fit pid=75448)\u001b[0m Updated model\n"
     ]
    },
    {
     "name": "stderr",
     "output_type": "stream",
     "text": [
      "  0%|\u001b[34m          \u001b[0m| 0/10 [00:00<?, ?it/s]\n"
     ]
    },
    {
     "name": "stdout",
     "output_type": "stream",
     "text": [
      "\u001b[36m(launch_and_fit pid=75448)\u001b[0m \tTrain Epoch: 1 \tTrain_loss: 1.8022 | Train_acc: 34.1548 % | Validation_loss: 1.7186 | Validation_acc: 45.1087 %\n"
     ]
    },
    {
     "name": "stderr",
     "output_type": "stream",
     "text": [
      " 10%|\u001b[34m█         \u001b[0m| 1/10 [00:01<00:17,  1.98s/it]\n"
     ]
    },
    {
     "name": "stdout",
     "output_type": "stream",
     "text": [
      "\u001b[36m(launch_and_fit pid=75448)\u001b[0m \tTrain Epoch: 2 \tTrain_loss: 1.7878 | Train_acc: 35.3988 % | Validation_loss: 1.7294 | Validation_acc: 41.9837 %\n"
     ]
    },
    {
     "name": "stderr",
     "output_type": "stream",
     "text": [
      " 20%|\u001b[34m██        \u001b[0m| 2/10 [00:03<00:15,  1.99s/it]\n"
     ]
    },
    {
     "name": "stdout",
     "output_type": "stream",
     "text": [
      "\u001b[36m(launch_and_fit pid=75448)\u001b[0m \tTrain Epoch: 3 \tTrain_loss: 1.7760 | Train_acc: 36.8333 % | Validation_loss: 1.7208 | Validation_acc: 44.0670 %\n"
     ]
    },
    {
     "name": "stderr",
     "output_type": "stream",
     "text": [
      " 30%|\u001b[34m███       \u001b[0m| 3/10 [00:05<00:13,  1.99s/it]\n"
     ]
    },
    {
     "name": "stdout",
     "output_type": "stream",
     "text": [
      "\u001b[36m(launch_and_fit pid=75448)\u001b[0m \tTrain Epoch: 4 \tTrain_loss: 1.7732 | Train_acc: 37.2619 % | Validation_loss: 1.7171 | Validation_acc: 45.1087 %\n"
     ]
    },
    {
     "name": "stderr",
     "output_type": "stream",
     "text": [
      " 40%|\u001b[34m████      \u001b[0m| 4/10 [00:07<00:11,  1.99s/it]\n"
     ]
    },
    {
     "name": "stdout",
     "output_type": "stream",
     "text": [
      "\u001b[36m(launch_and_fit pid=75448)\u001b[0m \tTrain Epoch: 5 \tTrain_loss: 1.7703 | Train_acc: 36.5179 % | Validation_loss: 1.7238 | Validation_acc: 44.0670 %\n"
     ]
    },
    {
     "name": "stderr",
     "output_type": "stream",
     "text": [
      " 50%|\u001b[34m█████     \u001b[0m| 5/10 [00:09<00:09,  1.98s/it]\n"
     ]
    },
    {
     "name": "stdout",
     "output_type": "stream",
     "text": [
      "\u001b[36m(launch_and_fit pid=75448)\u001b[0m \tTrain Epoch: 6 \tTrain_loss: 1.7723 | Train_acc: 36.3512 % | Validation_loss: 1.7174 | Validation_acc: 44.0670 %\n"
     ]
    },
    {
     "name": "stderr",
     "output_type": "stream",
     "text": [
      " 60%|\u001b[34m██████    \u001b[0m| 6/10 [00:11<00:07,  1.95s/it]\n"
     ]
    },
    {
     "name": "stdout",
     "output_type": "stream",
     "text": [
      "\u001b[36m(launch_and_fit pid=75448)\u001b[0m \tTrain Epoch: 7 \tTrain_loss: 1.7764 | Train_acc: 36.4048 % | Validation_loss: 1.7214 | Validation_acc: 44.0670 %\n"
     ]
    },
    {
     "name": "stderr",
     "output_type": "stream",
     "text": [
      " 70%|\u001b[34m███████   \u001b[0m| 7/10 [00:13<00:05,  1.93s/it]\n"
     ]
    },
    {
     "name": "stdout",
     "output_type": "stream",
     "text": [
      "\u001b[36m(launch_and_fit pid=75448)\u001b[0m \tTrain Epoch: 8 \tTrain_loss: 1.7644 | Train_acc: 37.2143 % | Validation_loss: 1.7179 | Validation_acc: 44.0670 %\n"
     ]
    },
    {
     "name": "stderr",
     "output_type": "stream",
     "text": [
      " 80%|\u001b[34m████████  \u001b[0m| 8/10 [00:15<00:03,  1.93s/it]\n"
     ]
    },
    {
     "name": "stdout",
     "output_type": "stream",
     "text": [
      "\u001b[36m(launch_and_fit pid=75448)\u001b[0m \tTrain Epoch: 9 \tTrain_loss: 1.7574 | Train_acc: 38.4583 % | Validation_loss: 1.7250 | Validation_acc: 44.0670 %\n"
     ]
    },
    {
     "name": "stderr",
     "output_type": "stream",
     "text": [
      " 90%|\u001b[34m█████████ \u001b[0m| 9/10 [00:17<00:01,  1.91s/it]\n"
     ]
    },
    {
     "name": "stdout",
     "output_type": "stream",
     "text": [
      "\u001b[36m(launch_and_fit pid=75448)\u001b[0m \tTrain Epoch: 10 \tTrain_loss: 1.7648 | Train_acc: 36.7679 % | Validation_loss: 1.7157 | Validation_acc: 45.1087 %\n",
      "\u001b[36m(launch_and_fit pid=75448)\u001b[0m save graph in  results/FL/\n"
     ]
    },
    {
     "name": "stderr",
     "output_type": "stream",
     "text": [
      "100%|\u001b[34m██████████\u001b[0m| 10/10 [00:19<00:00,  1.94s/it]\n"
     ]
    },
    {
     "name": "stdout",
     "output_type": "stream",
     "text": [
      "\u001b[36m(launch_and_fit pid=75448)\u001b[0m Run WITHOUT homomorphic encryption\n",
      "\u001b[36m(launch_and_fit pid=75448)\u001b[0m  To get the checkpoint\n",
      "\u001b[36m(launch_and_fit pid=75448)\u001b[0m [Client 1, round 6] fit, config: {'learning_rate': 0.003, 'batch_size': '32', 'server_round': 6, 'local_epochs': 10}\n",
      "\u001b[36m(launch_and_fit pid=75448)\u001b[0m Updated model\n"
     ]
    },
    {
     "name": "stderr",
     "output_type": "stream",
     "text": [
      "  0%|\u001b[34m          \u001b[0m| 0/10 [00:00<?, ?it/s]\n"
     ]
    },
    {
     "name": "stdout",
     "output_type": "stream",
     "text": [
      "\u001b[36m(launch_and_fit pid=75448)\u001b[0m \tTrain Epoch: 1 \tTrain_loss: 1.8069 | Train_acc: 32.5238 % | Validation_loss: 1.6920 | Validation_acc: 42.6178 %\n"
     ]
    },
    {
     "name": "stderr",
     "output_type": "stream",
     "text": [
      " 10%|\u001b[34m█         \u001b[0m| 1/10 [00:01<00:17,  1.99s/it]\n"
     ]
    },
    {
     "name": "stdout",
     "output_type": "stream",
     "text": [
      "\u001b[36m(launch_and_fit pid=75448)\u001b[0m \tTrain Epoch: 2 \tTrain_loss: 1.7874 | Train_acc: 34.1488 % | Validation_loss: 1.7038 | Validation_acc: 41.5761 %\n"
     ]
    },
    {
     "name": "stderr",
     "output_type": "stream",
     "text": [
      " 20%|\u001b[34m██        \u001b[0m| 2/10 [00:03<00:15,  1.97s/it]\n"
     ]
    },
    {
     "name": "stdout",
     "output_type": "stream",
     "text": [
      "\u001b[36m(launch_and_fit pid=75448)\u001b[0m \tTrain Epoch: 3 \tTrain_loss: 1.7804 | Train_acc: 36.0952 % | Validation_loss: 1.6978 | Validation_acc: 45.1087 %\n"
     ]
    },
    {
     "name": "stderr",
     "output_type": "stream",
     "text": [
      " 30%|\u001b[34m███       \u001b[0m| 3/10 [00:05<00:13,  1.94s/it]\n"
     ]
    },
    {
     "name": "stdout",
     "output_type": "stream",
     "text": [
      "\u001b[36m(launch_and_fit pid=75448)\u001b[0m \tTrain Epoch: 4 \tTrain_loss: 1.7808 | Train_acc: 35.0119 % | Validation_loss: 1.7139 | Validation_acc: 40.5344 %\n"
     ]
    },
    {
     "name": "stderr",
     "output_type": "stream",
     "text": [
      " 40%|\u001b[34m████      \u001b[0m| 4/10 [00:07<00:11,  1.92s/it]\n"
     ]
    },
    {
     "name": "stdout",
     "output_type": "stream",
     "text": [
      "\u001b[36m(launch_and_fit pid=75448)\u001b[0m \tTrain Epoch: 5 \tTrain_loss: 1.7777 | Train_acc: 35.8274 % | Validation_loss: 1.6992 | Validation_acc: 44.0670 %\n"
     ]
    },
    {
     "name": "stderr",
     "output_type": "stream",
     "text": [
      " 50%|\u001b[34m█████     \u001b[0m| 5/10 [00:09<00:09,  1.91s/it]\n"
     ]
    },
    {
     "name": "stdout",
     "output_type": "stream",
     "text": [
      "\u001b[36m(launch_and_fit pid=75448)\u001b[0m \tTrain Epoch: 6 \tTrain_loss: 1.8046 | Train_acc: 32.2083 % | Validation_loss: 1.6952 | Validation_acc: 42.6178 %\n"
     ]
    },
    {
     "name": "stderr",
     "output_type": "stream",
     "text": [
      " 60%|\u001b[34m██████    \u001b[0m| 6/10 [00:11<00:07,  1.90s/it]\n"
     ]
    },
    {
     "name": "stdout",
     "output_type": "stream",
     "text": [
      "\u001b[36m(launch_and_fit pid=75448)\u001b[0m \tTrain Epoch: 7 \tTrain_loss: 1.7968 | Train_acc: 33.1488 % | Validation_loss: 1.7055 | Validation_acc: 40.5344 %\n"
     ]
    },
    {
     "name": "stderr",
     "output_type": "stream",
     "text": [
      " 70%|\u001b[34m███████   \u001b[0m| 7/10 [00:13<00:05,  1.90s/it]\n"
     ]
    },
    {
     "name": "stdout",
     "output_type": "stream",
     "text": [
      "\u001b[36m(launch_and_fit pid=75448)\u001b[0m \tTrain Epoch: 8 \tTrain_loss: 1.7737 | Train_acc: 35.4702 % | Validation_loss: 1.7229 | Validation_acc: 39.4928 %\n"
     ]
    },
    {
     "name": "stderr",
     "output_type": "stream",
     "text": [
      " 80%|\u001b[34m████████  \u001b[0m| 8/10 [00:15<00:03,  1.90s/it]\n"
     ]
    },
    {
     "name": "stdout",
     "output_type": "stream",
     "text": [
      "\u001b[36m(launch_and_fit pid=75448)\u001b[0m \tTrain Epoch: 9 \tTrain_loss: 1.7787 | Train_acc: 34.8274 % | Validation_loss: 1.6980 | Validation_acc: 43.0254 %\n"
     ]
    },
    {
     "name": "stderr",
     "output_type": "stream",
     "text": [
      " 90%|\u001b[34m█████████ \u001b[0m| 9/10 [00:17<00:01,  1.90s/it]\n"
     ]
    },
    {
     "name": "stdout",
     "output_type": "stream",
     "text": [
      "\u001b[36m(launch_and_fit pid=75448)\u001b[0m \tTrain Epoch: 10 \tTrain_loss: 1.7671 | Train_acc: 36.0298 % | Validation_loss: 1.7227 | Validation_acc: 38.8587 %\n",
      "\u001b[36m(launch_and_fit pid=75448)\u001b[0m save graph in  results/FL/\n"
     ]
    },
    {
     "name": "stderr",
     "output_type": "stream",
     "text": [
      "100%|\u001b[34m██████████\u001b[0m| 10/10 [00:19<00:00,  1.91s/it]\n"
     ]
    },
    {
     "name": "stdout",
     "output_type": "stream",
     "text": [
      "\u001b[36m(launch_and_fit pid=75448)\u001b[0m Run WITHOUT homomorphic encryption\n",
      "\u001b[36m(launch_and_fit pid=75448)\u001b[0m  To get the checkpoint\n",
      "\u001b[36m(launch_and_fit pid=75448)\u001b[0m [Client 0, round 6] fit, config: {'learning_rate': 0.003, 'batch_size': '32', 'server_round': 6, 'local_epochs': 10}\n",
      "\u001b[36m(launch_and_fit pid=75448)\u001b[0m Updated model\n"
     ]
    },
    {
     "name": "stderr",
     "output_type": "stream",
     "text": [
      "  0%|\u001b[34m          \u001b[0m| 0/10 [00:00<?, ?it/s]\n"
     ]
    },
    {
     "name": "stdout",
     "output_type": "stream",
     "text": [
      "\u001b[36m(launch_and_fit pid=75448)\u001b[0m \tTrain Epoch: 1 \tTrain_loss: 1.7891 | Train_acc: 33.3274 % | Validation_loss: 1.8192 | Validation_acc: 32.4275 %\n"
     ]
    },
    {
     "name": "stderr",
     "output_type": "stream",
     "text": [
      " 10%|\u001b[34m█         \u001b[0m| 1/10 [00:02<00:18,  2.00s/it]\n"
     ]
    },
    {
     "name": "stdout",
     "output_type": "stream",
     "text": [
      "\u001b[36m(launch_and_fit pid=75448)\u001b[0m \tTrain Epoch: 2 \tTrain_loss: 1.7763 | Train_acc: 35.6488 % | Validation_loss: 1.8209 | Validation_acc: 29.3025 %\n"
     ]
    },
    {
     "name": "stderr",
     "output_type": "stream",
     "text": [
      " 20%|\u001b[34m██        \u001b[0m| 2/10 [00:03<00:15,  1.99s/it]\n"
     ]
    },
    {
     "name": "stdout",
     "output_type": "stream",
     "text": [
      "\u001b[36m(launch_and_fit pid=75448)\u001b[0m \tTrain Epoch: 3 \tTrain_loss: 1.7683 | Train_acc: 36.9702 % | Validation_loss: 1.8076 | Validation_acc: 30.3442 %\n"
     ]
    },
    {
     "name": "stderr",
     "output_type": "stream",
     "text": [
      " 30%|\u001b[34m███       \u001b[0m| 3/10 [00:05<00:13,  1.96s/it]\n"
     ]
    },
    {
     "name": "stdout",
     "output_type": "stream",
     "text": [
      "\u001b[36m(launch_and_fit pid=75448)\u001b[0m \tTrain Epoch: 4 \tTrain_loss: 1.7750 | Train_acc: 34.5238 % | Validation_loss: 1.8116 | Validation_acc: 31.3859 %\n"
     ]
    },
    {
     "name": "stderr",
     "output_type": "stream",
     "text": [
      " 40%|\u001b[34m████      \u001b[0m| 4/10 [00:07<00:11,  1.93s/it]\n"
     ]
    },
    {
     "name": "stdout",
     "output_type": "stream",
     "text": [
      "\u001b[36m(launch_and_fit pid=75448)\u001b[0m \tTrain Epoch: 5 \tTrain_loss: 1.7637 | Train_acc: 36.3333 % | Validation_loss: 1.8343 | Validation_acc: 28.4873 %\n"
     ]
    },
    {
     "name": "stderr",
     "output_type": "stream",
     "text": [
      " 50%|\u001b[34m█████     \u001b[0m| 5/10 [00:09<00:09,  1.92s/it]\n"
     ]
    },
    {
     "name": "stdout",
     "output_type": "stream",
     "text": [
      "\u001b[36m(launch_and_fit pid=75448)\u001b[0m \tTrain Epoch: 6 \tTrain_loss: 1.7733 | Train_acc: 35.3333 % | Validation_loss: 1.8212 | Validation_acc: 31.3859 %\n"
     ]
    },
    {
     "name": "stderr",
     "output_type": "stream",
     "text": [
      " 60%|\u001b[34m██████    \u001b[0m| 6/10 [00:11<00:07,  1.91s/it]\n"
     ]
    },
    {
     "name": "stdout",
     "output_type": "stream",
     "text": [
      "\u001b[36m(launch_and_fit pid=75448)\u001b[0m \tTrain Epoch: 7 \tTrain_loss: 1.7724 | Train_acc: 34.4107 % | Validation_loss: 1.8154 | Validation_acc: 32.4275 %\n"
     ]
    },
    {
     "name": "stderr",
     "output_type": "stream",
     "text": [
      " 70%|\u001b[34m███████   \u001b[0m| 7/10 [00:13<00:05,  1.91s/it]\n"
     ]
    },
    {
     "name": "stdout",
     "output_type": "stream",
     "text": [
      "\u001b[36m(launch_and_fit pid=75448)\u001b[0m \tTrain Epoch: 8 \tTrain_loss: 1.7595 | Train_acc: 36.7024 % | Validation_loss: 1.8066 | Validation_acc: 31.3859 %\n"
     ]
    },
    {
     "name": "stderr",
     "output_type": "stream",
     "text": [
      " 80%|\u001b[34m████████  \u001b[0m| 8/10 [00:15<00:03,  1.90s/it]\n"
     ]
    },
    {
     "name": "stdout",
     "output_type": "stream",
     "text": [
      "\u001b[36m(launch_and_fit pid=75448)\u001b[0m \tTrain Epoch: 9 \tTrain_loss: 1.7547 | Train_acc: 36.7143 % | Validation_loss: 1.8208 | Validation_acc: 29.5290 %\n"
     ]
    },
    {
     "name": "stderr",
     "output_type": "stream",
     "text": [
      " 90%|\u001b[34m█████████ \u001b[0m| 9/10 [00:17<00:01,  1.89s/it]\n"
     ]
    },
    {
     "name": "stdout",
     "output_type": "stream",
     "text": [
      "\u001b[36m(launch_and_fit pid=75448)\u001b[0m \tTrain Epoch: 10 \tTrain_loss: 1.7615 | Train_acc: 36.8869 % | Validation_loss: 1.8547 | Validation_acc: 24.5471 %\n",
      "\u001b[36m(launch_and_fit pid=75448)\u001b[0m save graph in  results/FL/\n"
     ]
    },
    {
     "name": "stderr",
     "output_type": "stream",
     "text": [
      "100%|\u001b[34m██████████\u001b[0m| 10/10 [00:19<00:00,  1.92s/it]\n"
     ]
    },
    {
     "name": "stdout",
     "output_type": "stream",
     "text": [
      "\u001b[36m(launch_and_fit pid=75448)\u001b[0m Run WITHOUT homomorphic encryption\n",
      "\u001b[36m(launch_and_fit pid=75448)\u001b[0m  To get the checkpoint\n",
      "\u001b[36m(launch_and_fit pid=75448)\u001b[0m [Client 3, round 6] fit, config: {'learning_rate': 0.003, 'batch_size': '32', 'server_round': 6, 'local_epochs': 10}\n",
      "\u001b[36m(launch_and_fit pid=75448)\u001b[0m Updated model\n"
     ]
    },
    {
     "name": "stderr",
     "output_type": "stream",
     "text": [
      "  0%|\u001b[34m          \u001b[0m| 0/10 [00:00<?, ?it/s]\n"
     ]
    },
    {
     "name": "stdout",
     "output_type": "stream",
     "text": [
      "\u001b[36m(launch_and_fit pid=75448)\u001b[0m \tTrain Epoch: 1 \tTrain_loss: 1.7925 | Train_acc: 34.6488 % | Validation_loss: 1.7768 | Validation_acc: 28.8949 %\n"
     ]
    },
    {
     "name": "stderr",
     "output_type": "stream",
     "text": [
      " 10%|\u001b[34m█         \u001b[0m| 1/10 [00:03<00:30,  3.41s/it]\n"
     ]
    },
    {
     "name": "stdout",
     "output_type": "stream",
     "text": [
      "\u001b[36m(launch_and_fit pid=75448)\u001b[0m \tTrain Epoch: 2 \tTrain_loss: 1.7795 | Train_acc: 35.5952 % | Validation_loss: 1.7713 | Validation_acc: 27.8533 %\n"
     ]
    },
    {
     "name": "stderr",
     "output_type": "stream",
     "text": [
      " 20%|\u001b[34m██        \u001b[0m| 2/10 [00:09<00:38,  4.77s/it]\n"
     ]
    },
    {
     "name": "stdout",
     "output_type": "stream",
     "text": [
      "\u001b[36m(launch_and_fit pid=75448)\u001b[0m \tTrain Epoch: 3 \tTrain_loss: 1.7806 | Train_acc: 34.5060 % | Validation_loss: 1.7773 | Validation_acc: 27.8533 %\n"
     ]
    },
    {
     "name": "stderr",
     "output_type": "stream",
     "text": [
      " 30%|\u001b[34m███       \u001b[0m| 3/10 [00:14<00:35,  5.14s/it]\n"
     ]
    },
    {
     "name": "stdout",
     "output_type": "stream",
     "text": [
      "\u001b[36m(launch_and_fit pid=75448)\u001b[0m \tTrain Epoch: 4 \tTrain_loss: 1.7825 | Train_acc: 34.2738 % | Validation_loss: 1.7873 | Validation_acc: 33.8768 %\n"
     ]
    },
    {
     "name": "stderr",
     "output_type": "stream",
     "text": [
      " 40%|\u001b[34m████      \u001b[0m| 4/10 [00:20<00:32,  5.35s/it]\n"
     ]
    },
    {
     "name": "stdout",
     "output_type": "stream",
     "text": [
      "\u001b[36m(launch_and_fit pid=75448)\u001b[0m \tTrain Epoch: 5 \tTrain_loss: 1.7794 | Train_acc: 35.8988 % | Validation_loss: 1.7751 | Validation_acc: 25.7699 %\n"
     ]
    },
    {
     "name": "stderr",
     "output_type": "stream",
     "text": [
      " 50%|\u001b[34m█████     \u001b[0m| 5/10 [00:26<00:27,  5.55s/it]\n"
     ]
    },
    {
     "name": "stdout",
     "output_type": "stream",
     "text": [
      "\u001b[36m(launch_and_fit pid=75448)\u001b[0m \tTrain Epoch: 6 \tTrain_loss: 1.7692 | Train_acc: 35.5833 % | Validation_loss: 1.7727 | Validation_acc: 26.8116 %\n"
     ]
    },
    {
     "name": "stderr",
     "output_type": "stream",
     "text": [
      " 60%|\u001b[34m██████    \u001b[0m| 6/10 [00:32<00:22,  5.71s/it]\n"
     ]
    },
    {
     "name": "stdout",
     "output_type": "stream",
     "text": [
      "\u001b[36m(launch_and_fit pid=75448)\u001b[0m \tTrain Epoch: 7 \tTrain_loss: 1.7618 | Train_acc: 36.0238 % | Validation_loss: 1.7789 | Validation_acc: 26.8116 %\n"
     ]
    },
    {
     "name": "stderr",
     "output_type": "stream",
     "text": [
      " 70%|\u001b[34m███████   \u001b[0m| 7/10 [00:38<00:17,  5.76s/it]\n"
     ]
    },
    {
     "name": "stdout",
     "output_type": "stream",
     "text": [
      "\u001b[36m(launch_and_fit pid=75448)\u001b[0m \tTrain Epoch: 8 \tTrain_loss: 1.7730 | Train_acc: 35.4524 % | Validation_loss: 1.7821 | Validation_acc: 26.8116 %\n"
     ]
    },
    {
     "name": "stderr",
     "output_type": "stream",
     "text": [
      " 80%|\u001b[34m████████  \u001b[0m| 8/10 [00:44<00:11,  5.79s/it]\n"
     ]
    },
    {
     "name": "stdout",
     "output_type": "stream",
     "text": [
      "\u001b[36m(launch_and_fit pid=75448)\u001b[0m \tTrain Epoch: 9 \tTrain_loss: 1.7873 | Train_acc: 34.0893 % | Validation_loss: 1.7620 | Validation_acc: 37.4094 %\n"
     ]
    },
    {
     "name": "stderr",
     "output_type": "stream",
     "text": [
      " 90%|\u001b[34m█████████ \u001b[0m| 9/10 [00:49<00:05,  5.81s/it]\n"
     ]
    },
    {
     "name": "stdout",
     "output_type": "stream",
     "text": [
      "\u001b[36m(launch_and_fit pid=75448)\u001b[0m \tTrain Epoch: 10 \tTrain_loss: 1.7766 | Train_acc: 35.9762 % | Validation_loss: 1.7697 | Validation_acc: 26.8116 %\n",
      "\u001b[36m(launch_and_fit pid=75448)\u001b[0m save graph in  results/FL/\n"
     ]
    },
    {
     "name": "stderr",
     "output_type": "stream",
     "text": [
      "100%|\u001b[34m██████████\u001b[0m| 10/10 [00:55<00:00,  5.57s/it]\n",
      "DEBUG flwr 2024-08-30 01:53:45,197 | server.py:236 | fit_round 6 received 4 results and 0 failures\n"
     ]
    },
    {
     "name": "stdout",
     "output_type": "stream",
     "text": [
      "Saving round 6 aggregated_parameters...\n",
      "Updated model\n"
     ]
    },
    {
     "name": "stderr",
     "output_type": "stream",
     "text": [
      "INFO flwr 2024-08-30 01:53:47,673 | server.py:125 | fit progress: (6, 1.7578793040343694, {'accuracy': 36.458333333333336}, 859.8035467518494)\n",
      "DEBUG flwr 2024-08-30 01:53:47,677 | server.py:173 | evaluate_round 6: strategy sampled 4 clients (out of 4)\n"
     ]
    },
    {
     "name": "stdout",
     "output_type": "stream",
     "text": [
      "Server-side evaluation loss 1.7578793040343694 / accuracy 36.458333333333336\n",
      "\u001b[36m(launch_and_evaluate pid=75448)\u001b[0m Run WITHOUT homomorphic encryption\n",
      "\u001b[36m(launch_and_evaluate pid=75448)\u001b[0m  To get the checkpoint\n",
      "\u001b[36m(launch_and_evaluate pid=75448)\u001b[0m [Client 2] evaluate, config: {}\n",
      "\u001b[36m(launch_and_evaluate pid=75448)\u001b[0m Updated model\n",
      "\u001b[36m(launch_and_evaluate pid=75448)\u001b[0m Run WITHOUT homomorphic encryption\n",
      "\u001b[36m(launch_and_evaluate pid=75448)\u001b[0m  To get the checkpoint\n",
      "\u001b[36m(launch_and_evaluate pid=75448)\u001b[0m [Client 0] evaluate, config: {}\n",
      "\u001b[36m(launch_and_evaluate pid=75448)\u001b[0m Updated model\n",
      "\u001b[36m(launch_and_evaluate pid=75448)\u001b[0m Run WITHOUT homomorphic encryption\n",
      "\u001b[36m(launch_and_evaluate pid=75448)\u001b[0m  To get the checkpoint\n",
      "\u001b[36m(launch_and_evaluate pid=75448)\u001b[0m [Client 3] evaluate, config: {}\n",
      "\u001b[36m(launch_and_evaluate pid=75448)\u001b[0m Updated model\n",
      "\u001b[36m(launch_and_evaluate pid=75448)\u001b[0m Run WITHOUT homomorphic encryption\n",
      "\u001b[36m(launch_and_evaluate pid=75448)\u001b[0m  To get the checkpoint\n",
      "\u001b[36m(launch_and_evaluate pid=75448)\u001b[0m [Client 1] evaluate, config: {}\n",
      "\u001b[36m(launch_and_evaluate pid=75448)\u001b[0m Updated model\n"
     ]
    },
    {
     "name": "stderr",
     "output_type": "stream",
     "text": [
      "DEBUG flwr 2024-08-30 01:53:57,296 | server.py:187 | evaluate_round 6 received 4 results and 0 failures\n",
      "DEBUG flwr 2024-08-30 01:53:57,297 | server.py:222 | fit_round 7: strategy sampled 4 clients (out of 4)\n"
     ]
    },
    {
     "name": "stdout",
     "output_type": "stream",
     "text": [
      "\u001b[36m(launch_and_fit pid=75448)\u001b[0m Run WITHOUT homomorphic encryption\n",
      "\u001b[36m(launch_and_fit pid=75448)\u001b[0m  To get the checkpoint\n",
      "\u001b[36m(launch_and_fit pid=75448)\u001b[0m [Client 1, round 7] fit, config: {'learning_rate': 0.003, 'batch_size': '32', 'server_round': 7, 'local_epochs': 10}\n",
      "\u001b[36m(launch_and_fit pid=75448)\u001b[0m Updated model\n"
     ]
    },
    {
     "name": "stderr",
     "output_type": "stream",
     "text": [
      "  0%|\u001b[34m          \u001b[0m| 0/10 [00:00<?, ?it/s]\n"
     ]
    },
    {
     "name": "stdout",
     "output_type": "stream",
     "text": [
      "\u001b[36m(launch_and_fit pid=75448)\u001b[0m \tTrain Epoch: 1 \tTrain_loss: 1.8003 | Train_acc: 31.6310 % | Validation_loss: 1.7141 | Validation_acc: 40.5344 %\n"
     ]
    },
    {
     "name": "stderr",
     "output_type": "stream",
     "text": [
      " 10%|\u001b[34m█         \u001b[0m| 1/10 [00:06<00:54,  6.08s/it]\n"
     ]
    },
    {
     "name": "stdout",
     "output_type": "stream",
     "text": [
      "\u001b[36m(launch_and_fit pid=75448)\u001b[0m \tTrain Epoch: 2 \tTrain_loss: 1.8443 | Train_acc: 28.9583 % | Validation_loss: 1.7144 | Validation_acc: 41.5761 %\n"
     ]
    },
    {
     "name": "stderr",
     "output_type": "stream",
     "text": [
      " 20%|\u001b[34m██        \u001b[0m| 2/10 [00:11<00:46,  5.87s/it]\n"
     ]
    },
    {
     "name": "stdout",
     "output_type": "stream",
     "text": [
      "\u001b[36m(launch_and_fit pid=75448)\u001b[0m \tTrain Epoch: 3 \tTrain_loss: 1.8428 | Train_acc: 28.7679 % | Validation_loss: 1.7128 | Validation_acc: 41.5761 %\n"
     ]
    },
    {
     "name": "stderr",
     "output_type": "stream",
     "text": [
      " 30%|\u001b[34m███       \u001b[0m| 3/10 [00:18<00:42,  6.02s/it]\n"
     ]
    },
    {
     "name": "stdout",
     "output_type": "stream",
     "text": [
      "\u001b[36m(launch_and_fit pid=75448)\u001b[0m \tTrain Epoch: 4 \tTrain_loss: 1.8405 | Train_acc: 28.9643 % | Validation_loss: 1.7132 | Validation_acc: 41.5761 %\n"
     ]
    },
    {
     "name": "stderr",
     "output_type": "stream",
     "text": [
      " 40%|\u001b[34m████      \u001b[0m| 4/10 [00:23<00:35,  5.93s/it]\n"
     ]
    },
    {
     "name": "stdout",
     "output_type": "stream",
     "text": [
      "\u001b[36m(launch_and_fit pid=75448)\u001b[0m \tTrain Epoch: 5 \tTrain_loss: 1.8410 | Train_acc: 28.7679 % | Validation_loss: 1.7130 | Validation_acc: 41.5761 %\n"
     ]
    },
    {
     "name": "stderr",
     "output_type": "stream",
     "text": [
      " 50%|\u001b[34m█████     \u001b[0m| 5/10 [00:29<00:29,  5.92s/it]\n"
     ]
    },
    {
     "name": "stdout",
     "output_type": "stream",
     "text": [
      "\u001b[36m(launch_and_fit pid=75448)\u001b[0m \tTrain Epoch: 6 \tTrain_loss: 1.8396 | Train_acc: 28.7024 % | Validation_loss: 1.7186 | Validation_acc: 41.5761 %\n"
     ]
    },
    {
     "name": "stderr",
     "output_type": "stream",
     "text": [
      " 60%|\u001b[34m██████    \u001b[0m| 6/10 [00:35<00:23,  5.85s/it]\n"
     ]
    },
    {
     "name": "stdout",
     "output_type": "stream",
     "text": [
      "\u001b[36m(launch_and_fit pid=75448)\u001b[0m \tTrain Epoch: 7 \tTrain_loss: 1.8399 | Train_acc: 28.6369 % | Validation_loss: 1.7179 | Validation_acc: 41.5761 %\n"
     ]
    },
    {
     "name": "stderr",
     "output_type": "stream",
     "text": [
      " 70%|\u001b[34m███████   \u001b[0m| 7/10 [00:41<00:17,  5.99s/it]\n"
     ]
    },
    {
     "name": "stdout",
     "output_type": "stream",
     "text": [
      "\u001b[36m(launch_and_fit pid=75448)\u001b[0m \tTrain Epoch: 8 \tTrain_loss: 1.8407 | Train_acc: 28.6369 % | Validation_loss: 1.7178 | Validation_acc: 41.5761 %\n"
     ]
    },
    {
     "name": "stderr",
     "output_type": "stream",
     "text": [
      " 80%|\u001b[34m████████  \u001b[0m| 8/10 [00:47<00:12,  6.02s/it]\n"
     ]
    },
    {
     "name": "stdout",
     "output_type": "stream",
     "text": [
      "\u001b[36m(launch_and_fit pid=75448)\u001b[0m \tTrain Epoch: 9 \tTrain_loss: 1.8373 | Train_acc: 28.9643 % | Validation_loss: 1.7202 | Validation_acc: 41.5761 %\n"
     ]
    },
    {
     "name": "stderr",
     "output_type": "stream",
     "text": [
      " 90%|\u001b[34m█████████ \u001b[0m| 9/10 [00:53<00:05,  5.96s/it]\n"
     ]
    },
    {
     "name": "stdout",
     "output_type": "stream",
     "text": [
      "\u001b[36m(launch_and_fit pid=75448)\u001b[0m \tTrain Epoch: 10 \tTrain_loss: 1.8359 | Train_acc: 29.0952 % | Validation_loss: 1.7201 | Validation_acc: 41.5761 %\n",
      "\u001b[36m(launch_and_fit pid=75448)\u001b[0m save graph in  results/FL/\n"
     ]
    },
    {
     "name": "stderr",
     "output_type": "stream",
     "text": [
      "100%|\u001b[34m██████████\u001b[0m| 10/10 [00:59<00:00,  5.98s/it]\n"
     ]
    },
    {
     "name": "stdout",
     "output_type": "stream",
     "text": [
      "\u001b[36m(launch_and_fit pid=75448)\u001b[0m Run WITHOUT homomorphic encryption\n",
      "\u001b[36m(launch_and_fit pid=75448)\u001b[0m  To get the checkpoint\n",
      "\u001b[36m(launch_and_fit pid=75448)\u001b[0m [Client 2, round 7] fit, config: {'learning_rate': 0.003, 'batch_size': '32', 'server_round': 7, 'local_epochs': 10}\n",
      "\u001b[36m(launch_and_fit pid=75448)\u001b[0m Updated model\n"
     ]
    },
    {
     "name": "stderr",
     "output_type": "stream",
     "text": [
      "  0%|\u001b[34m          \u001b[0m| 0/10 [00:00<?, ?it/s]\n"
     ]
    },
    {
     "name": "stdout",
     "output_type": "stream",
     "text": [
      "\u001b[36m(launch_and_fit pid=75448)\u001b[0m \tTrain Epoch: 1 \tTrain_loss: 1.7749 | Train_acc: 36.3988 % | Validation_loss: 1.7180 | Validation_acc: 44.0670 %\n"
     ]
    },
    {
     "name": "stderr",
     "output_type": "stream",
     "text": [
      " 10%|\u001b[34m█         \u001b[0m| 1/10 [00:05<00:53,  5.90s/it]\n"
     ]
    },
    {
     "name": "stdout",
     "output_type": "stream",
     "text": [
      "\u001b[36m(launch_and_fit pid=75448)\u001b[0m \tTrain Epoch: 2 \tTrain_loss: 1.7723 | Train_acc: 36.5179 % | Validation_loss: 1.7209 | Validation_acc: 45.1087 %\n"
     ]
    },
    {
     "name": "stderr",
     "output_type": "stream",
     "text": [
      " 20%|\u001b[34m██        \u001b[0m| 2/10 [00:11<00:47,  5.97s/it]\n"
     ]
    },
    {
     "name": "stdout",
     "output_type": "stream",
     "text": [
      "\u001b[36m(launch_and_fit pid=75448)\u001b[0m \tTrain Epoch: 3 \tTrain_loss: 1.7654 | Train_acc: 37.3333 % | Validation_loss: 1.7164 | Validation_acc: 45.1087 %\n"
     ]
    },
    {
     "name": "stderr",
     "output_type": "stream",
     "text": [
      " 30%|\u001b[34m███       \u001b[0m| 3/10 [00:17<00:41,  5.99s/it]\n"
     ]
    },
    {
     "name": "stdout",
     "output_type": "stream",
     "text": [
      "\u001b[36m(launch_and_fit pid=75448)\u001b[0m \tTrain Epoch: 4 \tTrain_loss: 1.7572 | Train_acc: 38.2083 % | Validation_loss: 1.7167 | Validation_acc: 44.0670 %\n"
     ]
    },
    {
     "name": "stderr",
     "output_type": "stream",
     "text": [
      " 40%|\u001b[34m████      \u001b[0m| 4/10 [00:23<00:35,  5.91s/it]\n"
     ]
    },
    {
     "name": "stdout",
     "output_type": "stream",
     "text": [
      "\u001b[36m(launch_and_fit pid=75448)\u001b[0m \tTrain Epoch: 5 \tTrain_loss: 1.7604 | Train_acc: 37.9702 % | Validation_loss: 1.7149 | Validation_acc: 44.0670 %\n"
     ]
    },
    {
     "name": "stderr",
     "output_type": "stream",
     "text": [
      " 50%|\u001b[34m█████     \u001b[0m| 5/10 [00:29<00:29,  5.90s/it]\n"
     ]
    },
    {
     "name": "stdout",
     "output_type": "stream",
     "text": [
      "\u001b[36m(launch_and_fit pid=75448)\u001b[0m \tTrain Epoch: 6 \tTrain_loss: 1.7555 | Train_acc: 37.2679 % | Validation_loss: 1.7132 | Validation_acc: 46.1504 %\n"
     ]
    },
    {
     "name": "stderr",
     "output_type": "stream",
     "text": [
      " 60%|\u001b[34m██████    \u001b[0m| 6/10 [00:35<00:23,  5.94s/it]\n"
     ]
    },
    {
     "name": "stdout",
     "output_type": "stream",
     "text": [
      "\u001b[36m(launch_and_fit pid=75448)\u001b[0m \tTrain Epoch: 7 \tTrain_loss: 1.7513 | Train_acc: 38.6548 % | Validation_loss: 1.7110 | Validation_acc: 45.1087 %\n"
     ]
    },
    {
     "name": "stderr",
     "output_type": "stream",
     "text": [
      " 70%|\u001b[34m███████   \u001b[0m| 7/10 [00:41<00:17,  5.89s/it]\n"
     ]
    },
    {
     "name": "stdout",
     "output_type": "stream",
     "text": [
      "\u001b[36m(launch_and_fit pid=75448)\u001b[0m \tTrain Epoch: 8 \tTrain_loss: 1.7536 | Train_acc: 37.6429 % | Validation_loss: 1.7202 | Validation_acc: 44.0670 %\n"
     ]
    },
    {
     "name": "stderr",
     "output_type": "stream",
     "text": [
      " 80%|\u001b[34m████████  \u001b[0m| 8/10 [00:47<00:11,  5.90s/it]\n"
     ]
    },
    {
     "name": "stdout",
     "output_type": "stream",
     "text": [
      "\u001b[36m(launch_and_fit pid=75448)\u001b[0m \tTrain Epoch: 9 \tTrain_loss: 1.7489 | Train_acc: 38.4583 % | Validation_loss: 1.7129 | Validation_acc: 45.1087 %\n"
     ]
    },
    {
     "name": "stderr",
     "output_type": "stream",
     "text": [
      " 90%|\u001b[34m█████████ \u001b[0m| 9/10 [00:53<00:05,  5.87s/it]\n"
     ]
    },
    {
     "name": "stdout",
     "output_type": "stream",
     "text": [
      "\u001b[36m(launch_and_fit pid=75448)\u001b[0m \tTrain Epoch: 10 \tTrain_loss: 1.7446 | Train_acc: 38.7143 % | Validation_loss: 1.7131 | Validation_acc: 45.1087 %\n",
      "\u001b[36m(launch_and_fit pid=75448)\u001b[0m save graph in  results/FL/\n"
     ]
    },
    {
     "name": "stderr",
     "output_type": "stream",
     "text": [
      "100%|\u001b[34m██████████\u001b[0m| 10/10 [00:59<00:00,  5.90s/it]\n"
     ]
    },
    {
     "name": "stdout",
     "output_type": "stream",
     "text": [
      "\u001b[36m(launch_and_fit pid=75448)\u001b[0m Run WITHOUT homomorphic encryption\n",
      "\u001b[36m(launch_and_fit pid=75448)\u001b[0m  To get the checkpoint\n",
      "\u001b[36m(launch_and_fit pid=75448)\u001b[0m [Client 0, round 7] fit, config: {'learning_rate': 0.003, 'batch_size': '32', 'server_round': 7, 'local_epochs': 10}\n",
      "\u001b[36m(launch_and_fit pid=75448)\u001b[0m Updated model\n"
     ]
    },
    {
     "name": "stderr",
     "output_type": "stream",
     "text": [
      "  0%|\u001b[34m          \u001b[0m| 0/10 [00:00<?, ?it/s]\n"
     ]
    },
    {
     "name": "stdout",
     "output_type": "stream",
     "text": [
      "\u001b[36m(launch_and_fit pid=75448)\u001b[0m \tTrain Epoch: 1 \tTrain_loss: 1.7786 | Train_acc: 34.3988 % | Validation_loss: 1.8190 | Validation_acc: 30.3442 %\n"
     ]
    },
    {
     "name": "stderr",
     "output_type": "stream",
     "text": [
      " 10%|\u001b[34m█         \u001b[0m| 1/10 [00:06<00:55,  6.19s/it]\n"
     ]
    },
    {
     "name": "stdout",
     "output_type": "stream",
     "text": [
      "\u001b[36m(launch_and_fit pid=75448)\u001b[0m \tTrain Epoch: 2 \tTrain_loss: 1.7670 | Train_acc: 36.8333 % | Validation_loss: 1.8072 | Validation_acc: 30.3442 %\n"
     ]
    },
    {
     "name": "stderr",
     "output_type": "stream",
     "text": [
      " 20%|\u001b[34m██        \u001b[0m| 2/10 [00:11<00:47,  5.90s/it]\n"
     ]
    },
    {
     "name": "stdout",
     "output_type": "stream",
     "text": [
      "\u001b[36m(launch_and_fit pid=75448)\u001b[0m \tTrain Epoch: 3 \tTrain_loss: 1.7622 | Train_acc: 36.0179 % | Validation_loss: 1.8134 | Validation_acc: 28.8949 %\n"
     ]
    },
    {
     "name": "stderr",
     "output_type": "stream",
     "text": [
      " 30%|\u001b[34m███       \u001b[0m| 3/10 [00:17<00:40,  5.79s/it]\n"
     ]
    },
    {
     "name": "stdout",
     "output_type": "stream",
     "text": [
      "\u001b[36m(launch_and_fit pid=75448)\u001b[0m \tTrain Epoch: 4 \tTrain_loss: 1.7748 | Train_acc: 35.0714 % | Validation_loss: 1.8145 | Validation_acc: 32.4275 %\n"
     ]
    },
    {
     "name": "stderr",
     "output_type": "stream",
     "text": [
      " 40%|\u001b[34m████      \u001b[0m| 4/10 [00:19<00:25,  4.24s/it]\n"
     ]
    },
    {
     "name": "stdout",
     "output_type": "stream",
     "text": [
      "\u001b[36m(launch_and_fit pid=75448)\u001b[0m \tTrain Epoch: 5 \tTrain_loss: 1.7581 | Train_acc: 35.7143 % | Validation_loss: 1.8229 | Validation_acc: 27.8533 %\n"
     ]
    },
    {
     "name": "stderr",
     "output_type": "stream",
     "text": [
      " 50%|\u001b[34m█████     \u001b[0m| 5/10 [00:21<00:16,  3.38s/it]\n"
     ]
    },
    {
     "name": "stdout",
     "output_type": "stream",
     "text": [
      "\u001b[36m(launch_and_fit pid=75448)\u001b[0m \tTrain Epoch: 6 \tTrain_loss: 1.7451 | Train_acc: 37.8333 % | Validation_loss: 1.8276 | Validation_acc: 26.4040 %\n"
     ]
    },
    {
     "name": "stderr",
     "output_type": "stream",
     "text": [
      " 60%|\u001b[34m██████    \u001b[0m| 6/10 [00:23<00:11,  2.86s/it]\n"
     ]
    },
    {
     "name": "stdout",
     "output_type": "stream",
     "text": [
      "\u001b[36m(launch_and_fit pid=75448)\u001b[0m \tTrain Epoch: 7 \tTrain_loss: 1.7463 | Train_acc: 37.2738 % | Validation_loss: 1.8033 | Validation_acc: 31.3859 %\n"
     ]
    },
    {
     "name": "stderr",
     "output_type": "stream",
     "text": [
      " 70%|\u001b[34m███████   \u001b[0m| 7/10 [00:24<00:07,  2.53s/it]\n"
     ]
    },
    {
     "name": "stdout",
     "output_type": "stream",
     "text": [
      "\u001b[36m(launch_and_fit pid=75448)\u001b[0m \tTrain Epoch: 8 \tTrain_loss: 1.7481 | Train_acc: 37.1012 % | Validation_loss: 1.8204 | Validation_acc: 28.4873 %\n"
     ]
    },
    {
     "name": "stderr",
     "output_type": "stream",
     "text": [
      " 80%|\u001b[34m████████  \u001b[0m| 8/10 [00:26<00:04,  2.32s/it]\n"
     ]
    },
    {
     "name": "stdout",
     "output_type": "stream",
     "text": [
      "\u001b[36m(launch_and_fit pid=75448)\u001b[0m \tTrain Epoch: 9 \tTrain_loss: 1.7447 | Train_acc: 37.8929 % | Validation_loss: 1.8070 | Validation_acc: 33.4692 %\n"
     ]
    },
    {
     "name": "stderr",
     "output_type": "stream",
     "text": [
      " 90%|\u001b[34m█████████ \u001b[0m| 9/10 [00:28<00:02,  2.18s/it]\n"
     ]
    },
    {
     "name": "stdout",
     "output_type": "stream",
     "text": [
      "\u001b[36m(launch_and_fit pid=75448)\u001b[0m \tTrain Epoch: 10 \tTrain_loss: 1.7374 | Train_acc: 37.8393 % | Validation_loss: 1.8130 | Validation_acc: 29.9366 %\n",
      "\u001b[36m(launch_and_fit pid=75448)\u001b[0m save graph in  results/FL/\n"
     ]
    },
    {
     "name": "stderr",
     "output_type": "stream",
     "text": [
      "100%|\u001b[34m██████████\u001b[0m| 10/10 [00:30<00:00,  3.06s/it]\n"
     ]
    },
    {
     "name": "stdout",
     "output_type": "stream",
     "text": [
      "\u001b[36m(launch_and_fit pid=75448)\u001b[0m Run WITHOUT homomorphic encryption\n",
      "\u001b[36m(launch_and_fit pid=75448)\u001b[0m  To get the checkpoint\n",
      "\u001b[36m(launch_and_fit pid=75448)\u001b[0m [Client 3, round 7] fit, config: {'learning_rate': 0.003, 'batch_size': '32', 'server_round': 7, 'local_epochs': 10}\n",
      "\u001b[36m(launch_and_fit pid=75448)\u001b[0m Updated model\n"
     ]
    },
    {
     "name": "stderr",
     "output_type": "stream",
     "text": [
      "  0%|\u001b[34m          \u001b[0m| 0/10 [00:00<?, ?it/s]\n"
     ]
    },
    {
     "name": "stdout",
     "output_type": "stream",
     "text": [
      "\u001b[36m(launch_and_fit pid=75448)\u001b[0m \tTrain Epoch: 1 \tTrain_loss: 1.7824 | Train_acc: 34.7202 % | Validation_loss: 1.7650 | Validation_acc: 26.8116 %\n"
     ]
    },
    {
     "name": "stderr",
     "output_type": "stream",
     "text": [
      " 10%|\u001b[34m█         \u001b[0m| 1/10 [00:01<00:17,  1.89s/it]\n"
     ]
    },
    {
     "name": "stdout",
     "output_type": "stream",
     "text": [
      "\u001b[36m(launch_and_fit pid=75448)\u001b[0m \tTrain Epoch: 2 \tTrain_loss: 1.7756 | Train_acc: 35.0179 % | Validation_loss: 1.7674 | Validation_acc: 25.7699 %\n"
     ]
    },
    {
     "name": "stderr",
     "output_type": "stream",
     "text": [
      " 20%|\u001b[34m██        \u001b[0m| 2/10 [00:03<00:15,  1.89s/it]\n"
     ]
    },
    {
     "name": "stdout",
     "output_type": "stream",
     "text": [
      "\u001b[36m(launch_and_fit pid=75448)\u001b[0m \tTrain Epoch: 3 \tTrain_loss: 1.7632 | Train_acc: 36.5238 % | Validation_loss: 1.7520 | Validation_acc: 28.8949 %\n"
     ]
    },
    {
     "name": "stderr",
     "output_type": "stream",
     "text": [
      " 30%|\u001b[34m███       \u001b[0m| 3/10 [00:05<00:13,  1.89s/it]\n"
     ]
    },
    {
     "name": "stdout",
     "output_type": "stream",
     "text": [
      "\u001b[36m(launch_and_fit pid=75448)\u001b[0m \tTrain Epoch: 4 \tTrain_loss: 1.7567 | Train_acc: 37.5952 % | Validation_loss: 1.7556 | Validation_acc: 27.8533 %\n"
     ]
    },
    {
     "name": "stderr",
     "output_type": "stream",
     "text": [
      " 40%|\u001b[34m████      \u001b[0m| 4/10 [00:07<00:11,  1.90s/it]\n"
     ]
    },
    {
     "name": "stdout",
     "output_type": "stream",
     "text": [
      "\u001b[36m(launch_and_fit pid=75448)\u001b[0m \tTrain Epoch: 5 \tTrain_loss: 1.7658 | Train_acc: 37.3333 % | Validation_loss: 1.7569 | Validation_acc: 33.0616 %\n"
     ]
    },
    {
     "name": "stderr",
     "output_type": "stream",
     "text": [
      " 50%|\u001b[34m█████     \u001b[0m| 5/10 [00:09<00:09,  1.90s/it]\n"
     ]
    },
    {
     "name": "stdout",
     "output_type": "stream",
     "text": [
      "\u001b[36m(launch_and_fit pid=75448)\u001b[0m \tTrain Epoch: 6 \tTrain_loss: 1.7568 | Train_acc: 37.2083 % | Validation_loss: 1.7600 | Validation_acc: 34.1033 %\n"
     ]
    },
    {
     "name": "stderr",
     "output_type": "stream",
     "text": [
      " 60%|\u001b[34m██████    \u001b[0m| 6/10 [00:11<00:07,  1.91s/it]\n"
     ]
    },
    {
     "name": "stdout",
     "output_type": "stream",
     "text": [
      "\u001b[36m(launch_and_fit pid=75448)\u001b[0m \tTrain Epoch: 7 \tTrain_loss: 1.7544 | Train_acc: 38.5298 % | Validation_loss: 1.7518 | Validation_acc: 28.8949 %\n"
     ]
    },
    {
     "name": "stderr",
     "output_type": "stream",
     "text": [
      " 70%|\u001b[34m███████   \u001b[0m| 7/10 [00:13<00:05,  1.90s/it]\n"
     ]
    },
    {
     "name": "stdout",
     "output_type": "stream",
     "text": [
      "\u001b[36m(launch_and_fit pid=75448)\u001b[0m \tTrain Epoch: 8 \tTrain_loss: 1.7511 | Train_acc: 38.3929 % | Validation_loss: 1.7520 | Validation_acc: 29.3025 %\n"
     ]
    },
    {
     "name": "stderr",
     "output_type": "stream",
     "text": [
      " 80%|\u001b[34m████████  \u001b[0m| 8/10 [00:15<00:03,  1.91s/it]\n"
     ]
    },
    {
     "name": "stdout",
     "output_type": "stream",
     "text": [
      "\u001b[36m(launch_and_fit pid=75448)\u001b[0m \tTrain Epoch: 9 \tTrain_loss: 1.7489 | Train_acc: 40.0238 % | Validation_loss: 1.7680 | Validation_acc: 31.7935 %\n"
     ]
    },
    {
     "name": "stderr",
     "output_type": "stream",
     "text": [
      " 90%|\u001b[34m█████████ \u001b[0m| 9/10 [00:17<00:01,  1.91s/it]\n"
     ]
    },
    {
     "name": "stdout",
     "output_type": "stream",
     "text": [
      "\u001b[36m(launch_and_fit pid=75448)\u001b[0m \tTrain Epoch: 10 \tTrain_loss: 1.7382 | Train_acc: 41.5357 % | Validation_loss: 1.7420 | Validation_acc: 34.9185 %\n",
      "\u001b[36m(launch_and_fit pid=75448)\u001b[0m save graph in  results/FL/\n"
     ]
    },
    {
     "name": "stderr",
     "output_type": "stream",
     "text": [
      "100%|\u001b[34m██████████\u001b[0m| 10/10 [00:19<00:00,  1.90s/it]\n",
      "DEBUG flwr 2024-08-30 01:56:50,483 | server.py:236 | fit_round 7 received 4 results and 0 failures\n"
     ]
    },
    {
     "name": "stdout",
     "output_type": "stream",
     "text": [
      "Saving round 7 aggregated_parameters...\n",
      "Updated model\n"
     ]
    },
    {
     "name": "stderr",
     "output_type": "stream",
     "text": [
      "INFO flwr 2024-08-30 01:56:51,344 | server.py:125 | fit progress: (7, 1.7899783381393977, {'accuracy': 31.58482142857143}, 1043.4746916512959)\n",
      "DEBUG flwr 2024-08-30 01:56:51,345 | server.py:173 | evaluate_round 7: strategy sampled 4 clients (out of 4)\n"
     ]
    },
    {
     "name": "stdout",
     "output_type": "stream",
     "text": [
      "Server-side evaluation loss 1.7899783381393977 / accuracy 31.58482142857143\n",
      "\u001b[36m(launch_and_evaluate pid=75448)\u001b[0m Run WITHOUT homomorphic encryption\n",
      "\u001b[36m(launch_and_evaluate pid=75448)\u001b[0m  To get the checkpoint\n",
      "\u001b[36m(launch_and_evaluate pid=75448)\u001b[0m [Client 1] evaluate, config: {}\n",
      "\u001b[36m(launch_and_evaluate pid=75448)\u001b[0m Updated model\n",
      "\u001b[36m(launch_and_evaluate pid=75448)\u001b[0m Run WITHOUT homomorphic encryption\n",
      "\u001b[36m(launch_and_evaluate pid=75448)\u001b[0m  To get the checkpoint\n",
      "\u001b[36m(launch_and_evaluate pid=75448)\u001b[0m [Client 3] evaluate, config: {}\n",
      "\u001b[36m(launch_and_evaluate pid=75448)\u001b[0m Updated model\n",
      "\u001b[36m(launch_and_evaluate pid=75448)\u001b[0m Run WITHOUT homomorphic encryption\n",
      "\u001b[36m(launch_and_evaluate pid=75448)\u001b[0m  To get the checkpoint\n",
      "\u001b[36m(launch_and_evaluate pid=75448)\u001b[0m [Client 2] evaluate, config: {}\n",
      "\u001b[36m(launch_and_evaluate pid=75448)\u001b[0m Updated model\n",
      "\u001b[36m(launch_and_evaluate pid=75448)\u001b[0m Run WITHOUT homomorphic encryption\n",
      "\u001b[36m(launch_and_evaluate pid=75448)\u001b[0m  To get the checkpoint\n",
      "\u001b[36m(launch_and_evaluate pid=75448)\u001b[0m [Client 0] evaluate, config: {}\n",
      "\u001b[36m(launch_and_evaluate pid=75448)\u001b[0m Updated model\n"
     ]
    },
    {
     "name": "stderr",
     "output_type": "stream",
     "text": [
      "DEBUG flwr 2024-08-30 01:56:53,841 | server.py:187 | evaluate_round 7 received 4 results and 0 failures\n",
      "DEBUG flwr 2024-08-30 01:56:53,842 | server.py:222 | fit_round 8: strategy sampled 4 clients (out of 4)\n"
     ]
    },
    {
     "name": "stdout",
     "output_type": "stream",
     "text": [
      "\u001b[36m(launch_and_fit pid=75448)\u001b[0m Run WITHOUT homomorphic encryption\n",
      "\u001b[36m(launch_and_fit pid=75448)\u001b[0m  To get the checkpoint\n",
      "\u001b[36m(launch_and_fit pid=75448)\u001b[0m [Client 1, round 8] fit, config: {'learning_rate': 0.003, 'batch_size': '32', 'server_round': 8, 'local_epochs': 10}\n",
      "\u001b[36m(launch_and_fit pid=75448)\u001b[0m Updated model\n"
     ]
    },
    {
     "name": "stderr",
     "output_type": "stream",
     "text": [
      "  0%|\u001b[34m          \u001b[0m| 0/10 [00:00<?, ?it/s]\n"
     ]
    },
    {
     "name": "stdout",
     "output_type": "stream",
     "text": [
      "\u001b[36m(launch_and_fit pid=75448)\u001b[0m \tTrain Epoch: 1 \tTrain_loss: 1.8278 | Train_acc: 28.7619 % | Validation_loss: 1.7232 | Validation_acc: 41.5761 %\n"
     ]
    },
    {
     "name": "stderr",
     "output_type": "stream",
     "text": [
      " 10%|\u001b[34m█         \u001b[0m| 1/10 [00:01<00:17,  1.99s/it]\n"
     ]
    },
    {
     "name": "stdout",
     "output_type": "stream",
     "text": [
      "\u001b[36m(launch_and_fit pid=75448)\u001b[0m \tTrain Epoch: 2 \tTrain_loss: 1.8406 | Train_acc: 28.7619 % | Validation_loss: 1.7191 | Validation_acc: 40.5344 %\n"
     ]
    },
    {
     "name": "stderr",
     "output_type": "stream",
     "text": [
      " 20%|\u001b[34m██        \u001b[0m| 2/10 [00:03<00:15,  1.98s/it]\n"
     ]
    },
    {
     "name": "stdout",
     "output_type": "stream",
     "text": [
      "\u001b[36m(launch_and_fit pid=75448)\u001b[0m \tTrain Epoch: 3 \tTrain_loss: 1.7927 | Train_acc: 34.2083 % | Validation_loss: 1.6956 | Validation_acc: 40.5344 %\n"
     ]
    },
    {
     "name": "stderr",
     "output_type": "stream",
     "text": [
      " 30%|\u001b[34m███       \u001b[0m| 3/10 [00:05<00:13,  1.94s/it]\n"
     ]
    },
    {
     "name": "stdout",
     "output_type": "stream",
     "text": [
      "\u001b[36m(launch_and_fit pid=75448)\u001b[0m \tTrain Epoch: 4 \tTrain_loss: 1.7818 | Train_acc: 33.7024 % | Validation_loss: 1.6743 | Validation_acc: 42.6178 %\n"
     ]
    },
    {
     "name": "stderr",
     "output_type": "stream",
     "text": [
      " 40%|\u001b[34m████      \u001b[0m| 4/10 [00:07<00:11,  1.91s/it]\n"
     ]
    },
    {
     "name": "stdout",
     "output_type": "stream",
     "text": [
      "\u001b[36m(launch_and_fit pid=75448)\u001b[0m \tTrain Epoch: 5 \tTrain_loss: 1.7764 | Train_acc: 35.0833 % | Validation_loss: 1.6809 | Validation_acc: 42.6178 %\n"
     ]
    },
    {
     "name": "stderr",
     "output_type": "stream",
     "text": [
      " 50%|\u001b[34m█████     \u001b[0m| 5/10 [00:09<00:09,  1.92s/it]\n"
     ]
    },
    {
     "name": "stdout",
     "output_type": "stream",
     "text": [
      "\u001b[36m(launch_and_fit pid=75448)\u001b[0m \tTrain Epoch: 6 \tTrain_loss: 1.7706 | Train_acc: 35.9702 % | Validation_loss: 1.6818 | Validation_acc: 43.6594 %\n"
     ]
    },
    {
     "name": "stderr",
     "output_type": "stream",
     "text": [
      " 60%|\u001b[34m██████    \u001b[0m| 6/10 [00:11<00:07,  1.96s/it]\n"
     ]
    },
    {
     "name": "stdout",
     "output_type": "stream",
     "text": [
      "\u001b[36m(launch_and_fit pid=75448)\u001b[0m \tTrain Epoch: 7 \tTrain_loss: 1.7933 | Train_acc: 32.3274 % | Validation_loss: 1.6851 | Validation_acc: 44.0670 %\n"
     ]
    },
    {
     "name": "stderr",
     "output_type": "stream",
     "text": [
      " 70%|\u001b[34m███████   \u001b[0m| 7/10 [00:13<00:05,  1.96s/it]\n"
     ]
    },
    {
     "name": "stdout",
     "output_type": "stream",
     "text": [
      "\u001b[36m(launch_and_fit pid=75448)\u001b[0m \tTrain Epoch: 8 \tTrain_loss: 1.7687 | Train_acc: 34.5714 % | Validation_loss: 1.6872 | Validation_acc: 45.1087 %\n"
     ]
    },
    {
     "name": "stderr",
     "output_type": "stream",
     "text": [
      " 80%|\u001b[34m████████  \u001b[0m| 8/10 [00:15<00:03,  1.96s/it]\n"
     ]
    },
    {
     "name": "stdout",
     "output_type": "stream",
     "text": [
      "\u001b[36m(launch_and_fit pid=75448)\u001b[0m \tTrain Epoch: 9 \tTrain_loss: 1.7670 | Train_acc: 35.2857 % | Validation_loss: 1.6899 | Validation_acc: 41.5761 %\n"
     ]
    },
    {
     "name": "stderr",
     "output_type": "stream",
     "text": [
      " 90%|\u001b[34m█████████ \u001b[0m| 9/10 [00:17<00:01,  1.96s/it]\n"
     ]
    },
    {
     "name": "stdout",
     "output_type": "stream",
     "text": [
      "\u001b[36m(launch_and_fit pid=75448)\u001b[0m \tTrain Epoch: 10 \tTrain_loss: 1.7659 | Train_acc: 34.8988 % | Validation_loss: 1.6984 | Validation_acc: 40.5344 %\n",
      "\u001b[36m(launch_and_fit pid=75448)\u001b[0m save graph in  results/FL/\n"
     ]
    },
    {
     "name": "stderr",
     "output_type": "stream",
     "text": [
      "100%|\u001b[34m██████████\u001b[0m| 10/10 [00:19<00:00,  1.95s/it]\n"
     ]
    },
    {
     "name": "stdout",
     "output_type": "stream",
     "text": [
      "\u001b[36m(launch_and_fit pid=75448)\u001b[0m Run WITHOUT homomorphic encryption\n",
      "\u001b[36m(launch_and_fit pid=75448)\u001b[0m  To get the checkpoint\n",
      "\u001b[36m(launch_and_fit pid=75448)\u001b[0m [Client 2, round 8] fit, config: {'learning_rate': 0.003, 'batch_size': '32', 'server_round': 8, 'local_epochs': 10}\n",
      "\u001b[36m(launch_and_fit pid=75448)\u001b[0m Updated model\n"
     ]
    },
    {
     "name": "stderr",
     "output_type": "stream",
     "text": [
      "  0%|\u001b[34m          \u001b[0m| 0/10 [00:00<?, ?it/s]\n"
     ]
    },
    {
     "name": "stdout",
     "output_type": "stream",
     "text": [
      "\u001b[36m(launch_and_fit pid=75448)\u001b[0m \tTrain Epoch: 1 \tTrain_loss: 1.7687 | Train_acc: 36.5774 % | Validation_loss: 1.7216 | Validation_acc: 43.0254 %\n"
     ]
    },
    {
     "name": "stderr",
     "output_type": "stream",
     "text": [
      " 10%|\u001b[34m█         \u001b[0m| 1/10 [00:01<00:17,  2.00s/it]\n"
     ]
    },
    {
     "name": "stdout",
     "output_type": "stream",
     "text": [
      "\u001b[36m(launch_and_fit pid=75448)\u001b[0m \tTrain Epoch: 2 \tTrain_loss: 1.7560 | Train_acc: 38.0238 % | Validation_loss: 1.7129 | Validation_acc: 45.1087 %\n"
     ]
    },
    {
     "name": "stderr",
     "output_type": "stream",
     "text": [
      " 20%|\u001b[34m██        \u001b[0m| 2/10 [00:03<00:15,  1.94s/it]\n"
     ]
    },
    {
     "name": "stdout",
     "output_type": "stream",
     "text": [
      "\u001b[36m(launch_and_fit pid=75448)\u001b[0m \tTrain Epoch: 3 \tTrain_loss: 1.7651 | Train_acc: 37.0238 % | Validation_loss: 1.7221 | Validation_acc: 45.1087 %\n"
     ]
    },
    {
     "name": "stderr",
     "output_type": "stream",
     "text": [
      " 30%|\u001b[34m███       \u001b[0m| 3/10 [00:05<00:13,  1.91s/it]\n"
     ]
    },
    {
     "name": "stdout",
     "output_type": "stream",
     "text": [
      "\u001b[36m(launch_and_fit pid=75448)\u001b[0m \tTrain Epoch: 4 \tTrain_loss: 1.7980 | Train_acc: 33.8333 % | Validation_loss: 1.7191 | Validation_acc: 45.1087 %\n"
     ]
    },
    {
     "name": "stderr",
     "output_type": "stream",
     "text": [
      " 40%|\u001b[34m████      \u001b[0m| 4/10 [00:07<00:11,  1.91s/it]\n"
     ]
    },
    {
     "name": "stdout",
     "output_type": "stream",
     "text": [
      "\u001b[36m(launch_and_fit pid=75448)\u001b[0m \tTrain Epoch: 5 \tTrain_loss: 1.7627 | Train_acc: 37.3869 % | Validation_loss: 1.7104 | Validation_acc: 44.0670 %\n"
     ]
    },
    {
     "name": "stderr",
     "output_type": "stream",
     "text": [
      " 50%|\u001b[34m█████     \u001b[0m| 5/10 [00:09<00:09,  1.90s/it]\n"
     ]
    },
    {
     "name": "stdout",
     "output_type": "stream",
     "text": [
      "\u001b[36m(launch_and_fit pid=75448)\u001b[0m \tTrain Epoch: 6 \tTrain_loss: 1.7477 | Train_acc: 38.3929 % | Validation_loss: 1.7057 | Validation_acc: 49.2754 %\n"
     ]
    },
    {
     "name": "stderr",
     "output_type": "stream",
     "text": [
      " 60%|\u001b[34m██████    \u001b[0m| 6/10 [00:11<00:07,  1.89s/it]\n"
     ]
    },
    {
     "name": "stdout",
     "output_type": "stream",
     "text": [
      "\u001b[36m(launch_and_fit pid=75448)\u001b[0m \tTrain Epoch: 7 \tTrain_loss: 1.7563 | Train_acc: 38.5179 % | Validation_loss: 1.7256 | Validation_acc: 43.0254 %\n"
     ]
    },
    {
     "name": "stderr",
     "output_type": "stream",
     "text": [
      " 70%|\u001b[34m███████   \u001b[0m| 7/10 [00:13<00:05,  1.89s/it]\n"
     ]
    },
    {
     "name": "stdout",
     "output_type": "stream",
     "text": [
      "\u001b[36m(launch_and_fit pid=75448)\u001b[0m \tTrain Epoch: 8 \tTrain_loss: 1.7618 | Train_acc: 37.5298 % | Validation_loss: 1.7096 | Validation_acc: 45.1087 %\n"
     ]
    },
    {
     "name": "stderr",
     "output_type": "stream",
     "text": [
      " 80%|\u001b[34m████████  \u001b[0m| 8/10 [00:15<00:03,  1.89s/it]\n"
     ]
    },
    {
     "name": "stdout",
     "output_type": "stream",
     "text": [
      "\u001b[36m(launch_and_fit pid=75448)\u001b[0m \tTrain Epoch: 9 \tTrain_loss: 1.7502 | Train_acc: 38.0952 % | Validation_loss: 1.7207 | Validation_acc: 44.0670 %\n"
     ]
    },
    {
     "name": "stderr",
     "output_type": "stream",
     "text": [
      " 90%|\u001b[34m█████████ \u001b[0m| 9/10 [00:17<00:01,  1.89s/it]\n"
     ]
    },
    {
     "name": "stdout",
     "output_type": "stream",
     "text": [
      "\u001b[36m(launch_and_fit pid=75448)\u001b[0m \tTrain Epoch: 10 \tTrain_loss: 1.7496 | Train_acc: 38.8452 % | Validation_loss: 1.7032 | Validation_acc: 48.2337 %\n",
      "\u001b[36m(launch_and_fit pid=75448)\u001b[0m save graph in  results/FL/\n"
     ]
    },
    {
     "name": "stderr",
     "output_type": "stream",
     "text": [
      "100%|\u001b[34m██████████\u001b[0m| 10/10 [00:18<00:00,  1.90s/it]\n"
     ]
    },
    {
     "name": "stdout",
     "output_type": "stream",
     "text": [
      "\u001b[36m(launch_and_fit pid=75448)\u001b[0m Run WITHOUT homomorphic encryption\n",
      "\u001b[36m(launch_and_fit pid=75448)\u001b[0m  To get the checkpoint\n",
      "\u001b[36m(launch_and_fit pid=75448)\u001b[0m [Client 3, round 8] fit, config: {'learning_rate': 0.003, 'batch_size': '32', 'server_round': 8, 'local_epochs': 10}\n",
      "\u001b[36m(launch_and_fit pid=75448)\u001b[0m Updated model\n"
     ]
    },
    {
     "name": "stderr",
     "output_type": "stream",
     "text": [
      "  0%|\u001b[34m          \u001b[0m| 0/10 [00:00<?, ?it/s]\n"
     ]
    },
    {
     "name": "stdout",
     "output_type": "stream",
     "text": [
      "\u001b[36m(launch_and_fit pid=75448)\u001b[0m \tTrain Epoch: 1 \tTrain_loss: 1.7774 | Train_acc: 35.7024 % | Validation_loss: 1.7523 | Validation_acc: 29.9366 %\n"
     ]
    },
    {
     "name": "stderr",
     "output_type": "stream",
     "text": [
      " 10%|\u001b[34m█         \u001b[0m| 1/10 [00:02<00:18,  2.00s/it]\n"
     ]
    },
    {
     "name": "stdout",
     "output_type": "stream",
     "text": [
      "\u001b[36m(launch_and_fit pid=75448)\u001b[0m \tTrain Epoch: 2 \tTrain_loss: 1.7671 | Train_acc: 36.3988 % | Validation_loss: 1.7348 | Validation_acc: 34.5109 %\n"
     ]
    },
    {
     "name": "stderr",
     "output_type": "stream",
     "text": [
      " 20%|\u001b[34m██        \u001b[0m| 2/10 [00:03<00:15,  1.99s/it]\n"
     ]
    },
    {
     "name": "stdout",
     "output_type": "stream",
     "text": [
      "\u001b[36m(launch_and_fit pid=75448)\u001b[0m \tTrain Epoch: 3 \tTrain_loss: 1.7527 | Train_acc: 37.5357 % | Validation_loss: 1.7594 | Validation_acc: 29.9366 %\n"
     ]
    },
    {
     "name": "stderr",
     "output_type": "stream",
     "text": [
      " 30%|\u001b[34m███       \u001b[0m| 3/10 [00:05<00:13,  1.99s/it]\n"
     ]
    },
    {
     "name": "stdout",
     "output_type": "stream",
     "text": [
      "\u001b[36m(launch_and_fit pid=75448)\u001b[0m \tTrain Epoch: 4 \tTrain_loss: 1.7495 | Train_acc: 38.1012 % | Validation_loss: 1.7415 | Validation_acc: 33.4692 %\n"
     ]
    },
    {
     "name": "stderr",
     "output_type": "stream",
     "text": [
      " 40%|\u001b[34m████      \u001b[0m| 4/10 [00:07<00:12,  2.00s/it]\n"
     ]
    },
    {
     "name": "stdout",
     "output_type": "stream",
     "text": [
      "\u001b[36m(launch_and_fit pid=75448)\u001b[0m \tTrain Epoch: 5 \tTrain_loss: 1.7473 | Train_acc: 39.8929 % | Validation_loss: 1.7465 | Validation_acc: 32.4275 %\n"
     ]
    },
    {
     "name": "stderr",
     "output_type": "stream",
     "text": [
      " 50%|\u001b[34m█████     \u001b[0m| 5/10 [00:09<00:09,  1.99s/it]\n"
     ]
    },
    {
     "name": "stdout",
     "output_type": "stream",
     "text": [
      "\u001b[36m(launch_and_fit pid=75448)\u001b[0m \tTrain Epoch: 6 \tTrain_loss: 1.7424 | Train_acc: 41.5298 % | Validation_loss: 1.7433 | Validation_acc: 33.4692 %\n"
     ]
    },
    {
     "name": "stderr",
     "output_type": "stream",
     "text": [
      " 60%|\u001b[34m██████    \u001b[0m| 6/10 [00:11<00:07,  1.98s/it]\n"
     ]
    },
    {
     "name": "stdout",
     "output_type": "stream",
     "text": [
      "\u001b[36m(launch_and_fit pid=75448)\u001b[0m \tTrain Epoch: 7 \tTrain_loss: 1.7361 | Train_acc: 40.3988 % | Validation_loss: 1.7566 | Validation_acc: 32.8351 %\n"
     ]
    },
    {
     "name": "stderr",
     "output_type": "stream",
     "text": [
      " 70%|\u001b[34m███████   \u001b[0m| 7/10 [00:13<00:05,  1.99s/it]\n"
     ]
    },
    {
     "name": "stdout",
     "output_type": "stream",
     "text": [
      "\u001b[36m(launch_and_fit pid=75448)\u001b[0m \tTrain Epoch: 8 \tTrain_loss: 1.7429 | Train_acc: 40.1429 % | Validation_loss: 1.7403 | Validation_acc: 34.9185 %\n"
     ]
    },
    {
     "name": "stderr",
     "output_type": "stream",
     "text": [
      " 80%|\u001b[34m████████  \u001b[0m| 8/10 [00:15<00:03,  1.97s/it]\n"
     ]
    },
    {
     "name": "stdout",
     "output_type": "stream",
     "text": [
      "\u001b[36m(launch_and_fit pid=75448)\u001b[0m \tTrain Epoch: 9 \tTrain_loss: 1.7346 | Train_acc: 41.8810 % | Validation_loss: 1.7440 | Validation_acc: 31.3859 %\n"
     ]
    },
    {
     "name": "stderr",
     "output_type": "stream",
     "text": [
      " 90%|\u001b[34m█████████ \u001b[0m| 9/10 [00:17<00:01,  1.94s/it]\n"
     ]
    },
    {
     "name": "stdout",
     "output_type": "stream",
     "text": [
      "\u001b[36m(launch_and_fit pid=75448)\u001b[0m \tTrain Epoch: 10 \tTrain_loss: 1.7423 | Train_acc: 41.1429 % | Validation_loss: 1.7414 | Validation_acc: 35.3261 %\n",
      "\u001b[36m(launch_and_fit pid=75448)\u001b[0m save graph in  results/FL/\n",
      "\u001b[36m(launch_and_fit pid=75448)\u001b[0m Run WITHOUT homomorphic encryption\n",
      "\u001b[36m(launch_and_fit pid=75448)\u001b[0m  To get the checkpoint\n"
     ]
    },
    {
     "name": "stderr",
     "output_type": "stream",
     "text": [
      "100%|\u001b[34m██████████\u001b[0m| 10/10 [00:19<00:00,  1.96s/it]\n"
     ]
    },
    {
     "name": "stdout",
     "output_type": "stream",
     "text": [
      "\u001b[36m(launch_and_fit pid=75448)\u001b[0m [Client 0, round 8] fit, config: {'learning_rate': 0.003, 'batch_size': '32', 'server_round': 8, 'local_epochs': 10}\n",
      "\u001b[36m(launch_and_fit pid=75448)\u001b[0m Updated model\n"
     ]
    },
    {
     "name": "stderr",
     "output_type": "stream",
     "text": [
      "  0%|\u001b[34m          \u001b[0m| 0/10 [00:00<?, ?it/s]\n"
     ]
    },
    {
     "name": "stdout",
     "output_type": "stream",
     "text": [
      "\u001b[36m(launch_and_fit pid=75448)\u001b[0m \tTrain Epoch: 1 \tTrain_loss: 1.7754 | Train_acc: 33.9524 % | Validation_loss: 1.8030 | Validation_acc: 37.0018 %\n"
     ]
    },
    {
     "name": "stderr",
     "output_type": "stream",
     "text": [
      " 10%|\u001b[34m█         \u001b[0m| 1/10 [00:01<00:17,  1.90s/it]\n"
     ]
    },
    {
     "name": "stdout",
     "output_type": "stream",
     "text": [
      "\u001b[36m(launch_and_fit pid=75448)\u001b[0m \tTrain Epoch: 2 \tTrain_loss: 1.7565 | Train_acc: 36.3929 % | Validation_loss: 1.8179 | Validation_acc: 30.9783 %\n"
     ]
    },
    {
     "name": "stderr",
     "output_type": "stream",
     "text": [
      " 20%|\u001b[34m██        \u001b[0m| 2/10 [00:03<00:15,  1.89s/it]\n"
     ]
    },
    {
     "name": "stdout",
     "output_type": "stream",
     "text": [
      "\u001b[36m(launch_and_fit pid=75448)\u001b[0m \tTrain Epoch: 3 \tTrain_loss: 1.7488 | Train_acc: 36.4048 % | Validation_loss: 1.8438 | Validation_acc: 25.3623 %\n"
     ]
    },
    {
     "name": "stderr",
     "output_type": "stream",
     "text": [
      " 30%|\u001b[34m███       \u001b[0m| 3/10 [00:05<00:13,  1.89s/it]\n"
     ]
    },
    {
     "name": "stdout",
     "output_type": "stream",
     "text": [
      "\u001b[36m(launch_and_fit pid=75448)\u001b[0m \tTrain Epoch: 4 \tTrain_loss: 1.7429 | Train_acc: 37.7143 % | Validation_loss: 1.8063 | Validation_acc: 33.4692 %\n"
     ]
    },
    {
     "name": "stderr",
     "output_type": "stream",
     "text": [
      " 40%|\u001b[34m████      \u001b[0m| 4/10 [00:07<00:12,  2.00s/it]\n"
     ]
    },
    {
     "name": "stdout",
     "output_type": "stream",
     "text": [
      "\u001b[36m(launch_and_fit pid=75448)\u001b[0m \tTrain Epoch: 5 \tTrain_loss: 1.7404 | Train_acc: 37.9583 % | Validation_loss: 1.8363 | Validation_acc: 30.9783 %\n"
     ]
    },
    {
     "name": "stderr",
     "output_type": "stream",
     "text": [
      " 50%|\u001b[34m█████     \u001b[0m| 5/10 [00:09<00:09,  1.96s/it]\n"
     ]
    },
    {
     "name": "stdout",
     "output_type": "stream",
     "text": [
      "\u001b[36m(launch_and_fit pid=75448)\u001b[0m \tTrain Epoch: 6 \tTrain_loss: 1.7403 | Train_acc: 39.5298 % | Validation_loss: 1.8457 | Validation_acc: 24.9547 %\n"
     ]
    },
    {
     "name": "stderr",
     "output_type": "stream",
     "text": [
      " 60%|\u001b[34m██████    \u001b[0m| 6/10 [00:11<00:07,  1.94s/it]\n"
     ]
    },
    {
     "name": "stdout",
     "output_type": "stream",
     "text": [
      "\u001b[36m(launch_and_fit pid=75448)\u001b[0m \tTrain Epoch: 7 \tTrain_loss: 1.7498 | Train_acc: 36.0893 % | Validation_loss: 1.8065 | Validation_acc: 28.8949 %\n"
     ]
    },
    {
     "name": "stderr",
     "output_type": "stream",
     "text": [
      " 70%|\u001b[34m███████   \u001b[0m| 7/10 [00:13<00:05,  1.93s/it]\n"
     ]
    },
    {
     "name": "stdout",
     "output_type": "stream",
     "text": [
      "\u001b[36m(launch_and_fit pid=75448)\u001b[0m \tTrain Epoch: 8 \tTrain_loss: 1.7519 | Train_acc: 35.3988 % | Validation_loss: 1.8443 | Validation_acc: 27.0380 %\n"
     ]
    },
    {
     "name": "stderr",
     "output_type": "stream",
     "text": [
      " 80%|\u001b[34m████████  \u001b[0m| 8/10 [00:15<00:03,  1.91s/it]\n"
     ]
    },
    {
     "name": "stdout",
     "output_type": "stream",
     "text": [
      "\u001b[36m(launch_and_fit pid=75448)\u001b[0m \tTrain Epoch: 9 \tTrain_loss: 1.7425 | Train_acc: 37.9583 % | Validation_loss: 1.8311 | Validation_acc: 30.9783 %\n"
     ]
    },
    {
     "name": "stderr",
     "output_type": "stream",
     "text": [
      " 90%|\u001b[34m█████████ \u001b[0m| 9/10 [00:17<00:01,  1.91s/it]\n",
      "100%|\u001b[34m██████████\u001b[0m| 10/10 [00:19<00:00,  1.92s/it]\n",
      "DEBUG flwr 2024-08-30 01:58:12,877 | server.py:236 | fit_round 8 received 4 results and 0 failures\n"
     ]
    },
    {
     "name": "stdout",
     "output_type": "stream",
     "text": [
      "\u001b[36m(launch_and_fit pid=75448)\u001b[0m \tTrain Epoch: 10 \tTrain_loss: 1.7306 | Train_acc: 39.2679 % | Validation_loss: 1.8055 | Validation_acc: 30.9783 %\n",
      "\u001b[36m(launch_and_fit pid=75448)\u001b[0m save graph in  results/FL/\n",
      "Saving round 8 aggregated_parameters...\n",
      "Updated model\n"
     ]
    },
    {
     "name": "stderr",
     "output_type": "stream",
     "text": [
      "INFO flwr 2024-08-30 01:58:13,663 | server.py:125 | fit progress: (8, 1.7419893060411726, {'accuracy': 37.239583333333336}, 1125.7942864098586)\n",
      "DEBUG flwr 2024-08-30 01:58:13,664 | server.py:173 | evaluate_round 8: strategy sampled 4 clients (out of 4)\n"
     ]
    },
    {
     "name": "stdout",
     "output_type": "stream",
     "text": [
      "Server-side evaluation loss 1.7419893060411726 / accuracy 37.239583333333336\n",
      "\u001b[36m(launch_and_evaluate pid=75448)\u001b[0m Run WITHOUT homomorphic encryption\n",
      "\u001b[36m(launch_and_evaluate pid=75448)\u001b[0m  To get the checkpoint\n",
      "\u001b[36m(launch_and_evaluate pid=75448)\u001b[0m [Client 0] evaluate, config: {}\n",
      "\u001b[36m(launch_and_evaluate pid=75448)\u001b[0m Updated model\n",
      "\u001b[36m(launch_and_evaluate pid=75448)\u001b[0m Run WITHOUT homomorphic encryption\n",
      "\u001b[36m(launch_and_evaluate pid=75448)\u001b[0m  To get the checkpoint\n",
      "\u001b[36m(launch_and_evaluate pid=75448)\u001b[0m [Client 1] evaluate, config: {}\n",
      "\u001b[36m(launch_and_evaluate pid=75448)\u001b[0m Updated model\n",
      "\u001b[36m(launch_and_evaluate pid=75448)\u001b[0m Run WITHOUT homomorphic encryption\n",
      "\u001b[36m(launch_and_evaluate pid=75448)\u001b[0m  To get the checkpoint\n",
      "\u001b[36m(launch_and_evaluate pid=75448)\u001b[0m [Client 3] evaluate, config: {}\n",
      "\u001b[36m(launch_and_evaluate pid=75448)\u001b[0m Updated model\n",
      "\u001b[36m(launch_and_evaluate pid=75448)\u001b[0m Run WITHOUT homomorphic encryption\n",
      "\u001b[36m(launch_and_evaluate pid=75448)\u001b[0m  To get the checkpoint\n",
      "\u001b[36m(launch_and_evaluate pid=75448)\u001b[0m [Client 2] evaluate, config: {}\n",
      "\u001b[36m(launch_and_evaluate pid=75448)\u001b[0m Updated model\n"
     ]
    },
    {
     "name": "stderr",
     "output_type": "stream",
     "text": [
      "DEBUG flwr 2024-08-30 01:58:16,308 | server.py:187 | evaluate_round 8 received 4 results and 0 failures\n",
      "DEBUG flwr 2024-08-30 01:58:16,308 | server.py:222 | fit_round 9: strategy sampled 4 clients (out of 4)\n"
     ]
    },
    {
     "name": "stdout",
     "output_type": "stream",
     "text": [
      "\u001b[36m(launch_and_fit pid=75448)\u001b[0m Run WITHOUT homomorphic encryption\n",
      "\u001b[36m(launch_and_fit pid=75448)\u001b[0m  To get the checkpoint\n",
      "\u001b[36m(launch_and_fit pid=75448)\u001b[0m [Client 2, round 9] fit, config: {'learning_rate': 0.003, 'batch_size': '32', 'server_round': 9, 'local_epochs': 10}\n",
      "\u001b[36m(launch_and_fit pid=75448)\u001b[0m Updated model\n"
     ]
    },
    {
     "name": "stderr",
     "output_type": "stream",
     "text": [
      "  0%|\u001b[34m          \u001b[0m| 0/10 [00:00<?, ?it/s]\n"
     ]
    },
    {
     "name": "stdout",
     "output_type": "stream",
     "text": [
      "\u001b[36m(launch_and_fit pid=75448)\u001b[0m \tTrain Epoch: 1 \tTrain_loss: 1.7523 | Train_acc: 38.0298 % | Validation_loss: 1.7118 | Validation_acc: 45.1087 %\n"
     ]
    },
    {
     "name": "stderr",
     "output_type": "stream",
     "text": [
      " 10%|\u001b[34m█         \u001b[0m| 1/10 [00:02<00:18,  2.00s/it]\n"
     ]
    },
    {
     "name": "stdout",
     "output_type": "stream",
     "text": [
      "\u001b[36m(launch_and_fit pid=75448)\u001b[0m \tTrain Epoch: 2 \tTrain_loss: 1.7540 | Train_acc: 38.1548 % | Validation_loss: 1.7074 | Validation_acc: 45.1087 %\n"
     ]
    },
    {
     "name": "stderr",
     "output_type": "stream",
     "text": [
      " 20%|\u001b[34m██        \u001b[0m| 2/10 [00:04<00:16,  2.00s/it]\n"
     ]
    },
    {
     "name": "stdout",
     "output_type": "stream",
     "text": [
      "\u001b[36m(launch_and_fit pid=75448)\u001b[0m \tTrain Epoch: 3 \tTrain_loss: 1.7400 | Train_acc: 40.0298 % | Validation_loss: 1.7034 | Validation_acc: 45.1087 %\n"
     ]
    },
    {
     "name": "stderr",
     "output_type": "stream",
     "text": [
      " 30%|\u001b[34m███       \u001b[0m| 3/10 [00:05<00:13,  1.98s/it]\n"
     ]
    },
    {
     "name": "stdout",
     "output_type": "stream",
     "text": [
      "\u001b[36m(launch_and_fit pid=75448)\u001b[0m \tTrain Epoch: 4 \tTrain_loss: 1.7435 | Train_acc: 38.3393 % | Validation_loss: 1.6969 | Validation_acc: 49.2754 %\n"
     ]
    },
    {
     "name": "stderr",
     "output_type": "stream",
     "text": [
      " 40%|\u001b[34m████      \u001b[0m| 4/10 [00:07<00:11,  1.99s/it]\n"
     ]
    },
    {
     "name": "stdout",
     "output_type": "stream",
     "text": [
      "\u001b[36m(launch_and_fit pid=75448)\u001b[0m \tTrain Epoch: 5 \tTrain_loss: 1.7356 | Train_acc: 39.5238 % | Validation_loss: 1.7120 | Validation_acc: 43.0254 %\n"
     ]
    },
    {
     "name": "stderr",
     "output_type": "stream",
     "text": [
      " 50%|\u001b[34m█████     \u001b[0m| 5/10 [00:09<00:09,  1.99s/it]\n"
     ]
    },
    {
     "name": "stdout",
     "output_type": "stream",
     "text": [
      "\u001b[36m(launch_and_fit pid=75448)\u001b[0m \tTrain Epoch: 6 \tTrain_loss: 1.7366 | Train_acc: 39.6548 % | Validation_loss: 1.7149 | Validation_acc: 44.0670 %\n"
     ]
    },
    {
     "name": "stderr",
     "output_type": "stream",
     "text": [
      " 60%|\u001b[34m██████    \u001b[0m| 6/10 [00:11<00:07,  2.00s/it]\n"
     ]
    },
    {
     "name": "stdout",
     "output_type": "stream",
     "text": [
      "\u001b[36m(launch_and_fit pid=75448)\u001b[0m \tTrain Epoch: 7 \tTrain_loss: 1.7328 | Train_acc: 40.5179 % | Validation_loss: 1.6987 | Validation_acc: 47.1920 %\n"
     ]
    },
    {
     "name": "stderr",
     "output_type": "stream",
     "text": [
      " 70%|\u001b[34m███████   \u001b[0m| 7/10 [00:13<00:06,  2.00s/it]\n"
     ]
    },
    {
     "name": "stdout",
     "output_type": "stream",
     "text": [
      "\u001b[36m(launch_and_fit pid=75448)\u001b[0m \tTrain Epoch: 8 \tTrain_loss: 1.7419 | Train_acc: 39.9524 % | Validation_loss: 1.7560 | Validation_acc: 40.5344 %\n"
     ]
    },
    {
     "name": "stderr",
     "output_type": "stream",
     "text": [
      " 80%|\u001b[34m████████  \u001b[0m| 8/10 [00:15<00:03,  2.00s/it]\n"
     ]
    },
    {
     "name": "stdout",
     "output_type": "stream",
     "text": [
      "\u001b[36m(launch_and_fit pid=75448)\u001b[0m \tTrain Epoch: 9 \tTrain_loss: 1.7520 | Train_acc: 38.0238 % | Validation_loss: 1.7240 | Validation_acc: 43.0254 %\n"
     ]
    },
    {
     "name": "stderr",
     "output_type": "stream",
     "text": [
      " 90%|\u001b[34m█████████ \u001b[0m| 9/10 [00:17<00:02,  2.00s/it]\n"
     ]
    },
    {
     "name": "stdout",
     "output_type": "stream",
     "text": [
      "\u001b[36m(launch_and_fit pid=75448)\u001b[0m \tTrain Epoch: 10 \tTrain_loss: 1.7479 | Train_acc: 37.9583 % | Validation_loss: 1.6957 | Validation_acc: 46.1504 %\n",
      "\u001b[36m(launch_and_fit pid=75448)\u001b[0m save graph in  results/FL/\n"
     ]
    },
    {
     "name": "stderr",
     "output_type": "stream",
     "text": [
      "100%|\u001b[34m██████████\u001b[0m| 10/10 [00:19<00:00,  2.00s/it]\n"
     ]
    },
    {
     "name": "stdout",
     "output_type": "stream",
     "text": [
      "\u001b[36m(launch_and_fit pid=75448)\u001b[0m Run WITHOUT homomorphic encryption\n",
      "\u001b[36m(launch_and_fit pid=75448)\u001b[0m  To get the checkpoint\n",
      "\u001b[36m(launch_and_fit pid=75448)\u001b[0m [Client 1, round 9] fit, config: {'learning_rate': 0.003, 'batch_size': '32', 'server_round': 9, 'local_epochs': 10}\n",
      "\u001b[36m(launch_and_fit pid=75448)\u001b[0m Updated model\n"
     ]
    },
    {
     "name": "stderr",
     "output_type": "stream",
     "text": [
      "  0%|\u001b[34m          \u001b[0m| 0/10 [00:00<?, ?it/s]\n"
     ]
    },
    {
     "name": "stdout",
     "output_type": "stream",
     "text": [
      "\u001b[36m(launch_and_fit pid=75448)\u001b[0m \tTrain Epoch: 1 \tTrain_loss: 1.7808 | Train_acc: 33.8988 % | Validation_loss: 1.7317 | Validation_acc: 37.8170 %\n"
     ]
    },
    {
     "name": "stderr",
     "output_type": "stream",
     "text": [
      " 10%|\u001b[34m█         \u001b[0m| 1/10 [00:01<00:17,  1.97s/it]\n"
     ]
    },
    {
     "name": "stdout",
     "output_type": "stream",
     "text": [
      "\u001b[36m(launch_and_fit pid=75448)\u001b[0m \tTrain Epoch: 2 \tTrain_loss: 1.7986 | Train_acc: 31.2083 % | Validation_loss: 1.7049 | Validation_acc: 40.5344 %\n"
     ]
    },
    {
     "name": "stderr",
     "output_type": "stream",
     "text": [
      " 20%|\u001b[34m██        \u001b[0m| 2/10 [00:03<00:15,  1.94s/it]\n"
     ]
    },
    {
     "name": "stdout",
     "output_type": "stream",
     "text": [
      "\u001b[36m(launch_and_fit pid=75448)\u001b[0m \tTrain Epoch: 3 \tTrain_loss: 1.7671 | Train_acc: 35.3988 % | Validation_loss: 1.7226 | Validation_acc: 40.3080 %\n"
     ]
    },
    {
     "name": "stderr",
     "output_type": "stream",
     "text": [
      " 30%|\u001b[34m███       \u001b[0m| 3/10 [00:05<00:13,  1.92s/it]\n"
     ]
    },
    {
     "name": "stdout",
     "output_type": "stream",
     "text": [
      "\u001b[36m(launch_and_fit pid=75448)\u001b[0m \tTrain Epoch: 4 \tTrain_loss: 1.7688 | Train_acc: 34.5774 % | Validation_loss: 1.6678 | Validation_acc: 44.0670 %\n"
     ]
    },
    {
     "name": "stderr",
     "output_type": "stream",
     "text": [
      " 40%|\u001b[34m████      \u001b[0m| 4/10 [00:07<00:11,  1.90s/it]\n"
     ]
    },
    {
     "name": "stdout",
     "output_type": "stream",
     "text": [
      "\u001b[36m(launch_and_fit pid=75448)\u001b[0m \tTrain Epoch: 5 \tTrain_loss: 1.7626 | Train_acc: 35.1488 % | Validation_loss: 1.6837 | Validation_acc: 41.9837 %\n"
     ]
    },
    {
     "name": "stderr",
     "output_type": "stream",
     "text": [
      " 50%|\u001b[34m█████     \u001b[0m| 5/10 [00:09<00:09,  1.90s/it]\n"
     ]
    },
    {
     "name": "stdout",
     "output_type": "stream",
     "text": [
      "\u001b[36m(launch_and_fit pid=75448)\u001b[0m \tTrain Epoch: 6 \tTrain_loss: 1.7616 | Train_acc: 36.3274 % | Validation_loss: 1.6942 | Validation_acc: 42.6178 %\n"
     ]
    },
    {
     "name": "stderr",
     "output_type": "stream",
     "text": [
      " 60%|\u001b[34m██████    \u001b[0m| 6/10 [00:11<00:07,  1.89s/it]\n"
     ]
    },
    {
     "name": "stdout",
     "output_type": "stream",
     "text": [
      "\u001b[36m(launch_and_fit pid=75448)\u001b[0m \tTrain Epoch: 7 \tTrain_loss: 1.7576 | Train_acc: 36.2143 % | Validation_loss: 1.6714 | Validation_acc: 43.6594 %\n"
     ]
    },
    {
     "name": "stderr",
     "output_type": "stream",
     "text": [
      " 70%|\u001b[34m███████   \u001b[0m| 7/10 [00:13<00:05,  1.90s/it]\n"
     ]
    },
    {
     "name": "stdout",
     "output_type": "stream",
     "text": [
      "\u001b[36m(launch_and_fit pid=75448)\u001b[0m \tTrain Epoch: 8 \tTrain_loss: 1.7549 | Train_acc: 36.5774 % | Validation_loss: 1.6806 | Validation_acc: 43.4330 %\n"
     ]
    },
    {
     "name": "stderr",
     "output_type": "stream",
     "text": [
      " 80%|\u001b[34m████████  \u001b[0m| 8/10 [00:16<00:04,  2.40s/it]\n"
     ]
    },
    {
     "name": "stdout",
     "output_type": "stream",
     "text": [
      "\u001b[36m(launch_and_fit pid=75448)\u001b[0m \tTrain Epoch: 9 \tTrain_loss: 1.7541 | Train_acc: 36.1488 % | Validation_loss: 1.6915 | Validation_acc: 43.0254 %\n"
     ]
    },
    {
     "name": "stderr",
     "output_type": "stream",
     "text": [
      " 90%|\u001b[34m█████████ \u001b[0m| 9/10 [00:22<00:03,  3.37s/it]\n"
     ]
    },
    {
     "name": "stdout",
     "output_type": "stream",
     "text": [
      "\u001b[36m(launch_and_fit pid=75448)\u001b[0m \tTrain Epoch: 10 \tTrain_loss: 1.7563 | Train_acc: 36.5179 % | Validation_loss: 1.7728 | Validation_acc: 37.8170 %\n",
      "\u001b[36m(launch_and_fit pid=75448)\u001b[0m save graph in  results/FL/\n"
     ]
    },
    {
     "name": "stderr",
     "output_type": "stream",
     "text": [
      "100%|\u001b[34m██████████\u001b[0m| 10/10 [00:28<00:00,  2.81s/it]\n"
     ]
    },
    {
     "name": "stdout",
     "output_type": "stream",
     "text": [
      "\u001b[36m(launch_and_fit pid=75448)\u001b[0m Run WITHOUT homomorphic encryption\n",
      "\u001b[36m(launch_and_fit pid=75448)\u001b[0m  To get the checkpoint\n",
      "\u001b[36m(launch_and_fit pid=75448)\u001b[0m [Client 3, round 9] fit, config: {'learning_rate': 0.003, 'batch_size': '32', 'server_round': 9, 'local_epochs': 10}\n",
      "\u001b[36m(launch_and_fit pid=75448)\u001b[0m Updated model\n"
     ]
    },
    {
     "name": "stderr",
     "output_type": "stream",
     "text": [
      "  0%|\u001b[34m          \u001b[0m| 0/10 [00:00<?, ?it/s]\n"
     ]
    },
    {
     "name": "stdout",
     "output_type": "stream",
     "text": [
      "\u001b[36m(launch_and_fit pid=75448)\u001b[0m \tTrain Epoch: 1 \tTrain_loss: 1.7669 | Train_acc: 35.7679 % | Validation_loss: 1.7394 | Validation_acc: 34.5109 %\n"
     ]
    },
    {
     "name": "stderr",
     "output_type": "stream",
     "text": [
      " 10%|\u001b[34m█         \u001b[0m| 1/10 [00:05<00:52,  5.82s/it]\n"
     ]
    },
    {
     "name": "stdout",
     "output_type": "stream",
     "text": [
      "\u001b[36m(launch_and_fit pid=75448)\u001b[0m \tTrain Epoch: 2 \tTrain_loss: 1.7503 | Train_acc: 39.0833 % | Validation_loss: 1.7380 | Validation_acc: 31.3859 %\n"
     ]
    },
    {
     "name": "stderr",
     "output_type": "stream",
     "text": [
      " 20%|\u001b[34m██        \u001b[0m| 2/10 [00:11<00:46,  5.80s/it]\n"
     ]
    },
    {
     "name": "stdout",
     "output_type": "stream",
     "text": [
      "\u001b[36m(launch_and_fit pid=75448)\u001b[0m \tTrain Epoch: 3 \tTrain_loss: 1.7507 | Train_acc: 39.5238 % | Validation_loss: 1.7391 | Validation_acc: 36.3678 %\n"
     ]
    },
    {
     "name": "stderr",
     "output_type": "stream",
     "text": [
      " 30%|\u001b[34m███       \u001b[0m| 3/10 [00:17<00:40,  5.80s/it]\n"
     ]
    },
    {
     "name": "stdout",
     "output_type": "stream",
     "text": [
      "\u001b[36m(launch_and_fit pid=75448)\u001b[0m \tTrain Epoch: 4 \tTrain_loss: 1.7417 | Train_acc: 41.3333 % | Validation_loss: 1.7440 | Validation_acc: 32.4275 %\n"
     ]
    },
    {
     "name": "stderr",
     "output_type": "stream",
     "text": [
      " 40%|\u001b[34m████      \u001b[0m| 4/10 [00:23<00:34,  5.81s/it]\n"
     ]
    },
    {
     "name": "stdout",
     "output_type": "stream",
     "text": [
      "\u001b[36m(launch_and_fit pid=75448)\u001b[0m \tTrain Epoch: 5 \tTrain_loss: 1.7465 | Train_acc: 38.4583 % | Validation_loss: 1.7520 | Validation_acc: 26.8116 %\n"
     ]
    },
    {
     "name": "stderr",
     "output_type": "stream",
     "text": [
      " 50%|\u001b[34m█████     \u001b[0m| 5/10 [00:29<00:28,  5.80s/it]\n"
     ]
    },
    {
     "name": "stdout",
     "output_type": "stream",
     "text": [
      "\u001b[36m(launch_and_fit pid=75448)\u001b[0m \tTrain Epoch: 6 \tTrain_loss: 1.7433 | Train_acc: 39.7798 % | Validation_loss: 1.7513 | Validation_acc: 30.3442 %\n"
     ]
    },
    {
     "name": "stderr",
     "output_type": "stream",
     "text": [
      " 60%|\u001b[34m██████    \u001b[0m| 6/10 [00:35<00:23,  5.86s/it]\n"
     ]
    },
    {
     "name": "stdout",
     "output_type": "stream",
     "text": [
      "\u001b[36m(launch_and_fit pid=75448)\u001b[0m \tTrain Epoch: 7 \tTrain_loss: 1.7480 | Train_acc: 39.9643 % | Validation_loss: 1.7334 | Validation_acc: 34.9185 %\n"
     ]
    },
    {
     "name": "stderr",
     "output_type": "stream",
     "text": [
      " 70%|\u001b[34m███████   \u001b[0m| 7/10 [00:40<00:17,  5.85s/it]\n"
     ]
    },
    {
     "name": "stdout",
     "output_type": "stream",
     "text": [
      "\u001b[36m(launch_and_fit pid=75448)\u001b[0m \tTrain Epoch: 8 \tTrain_loss: 1.7374 | Train_acc: 41.8929 % | Validation_loss: 1.7385 | Validation_acc: 32.4275 %\n"
     ]
    },
    {
     "name": "stderr",
     "output_type": "stream",
     "text": [
      " 80%|\u001b[34m████████  \u001b[0m| 8/10 [00:46<00:11,  5.94s/it]\n"
     ]
    },
    {
     "name": "stdout",
     "output_type": "stream",
     "text": [
      "\u001b[36m(launch_and_fit pid=75448)\u001b[0m \tTrain Epoch: 9 \tTrain_loss: 1.7323 | Train_acc: 41.6607 % | Validation_loss: 1.7298 | Validation_acc: 33.4692 %\n"
     ]
    },
    {
     "name": "stderr",
     "output_type": "stream",
     "text": [
      " 90%|\u001b[34m█████████ \u001b[0m| 9/10 [00:53<00:06,  6.04s/it]\n"
     ]
    },
    {
     "name": "stdout",
     "output_type": "stream",
     "text": [
      "\u001b[36m(launch_and_fit pid=75448)\u001b[0m \tTrain Epoch: 10 \tTrain_loss: 1.7377 | Train_acc: 41.4643 % | Validation_loss: 1.7272 | Validation_acc: 36.5942 %\n",
      "\u001b[36m(launch_and_fit pid=75448)\u001b[0m save graph in  results/FL/\n"
     ]
    },
    {
     "name": "stderr",
     "output_type": "stream",
     "text": [
      "100%|\u001b[34m██████████\u001b[0m| 10/10 [00:59<00:00,  5.95s/it]\n"
     ]
    },
    {
     "name": "stdout",
     "output_type": "stream",
     "text": [
      "\u001b[36m(launch_and_fit pid=75448)\u001b[0m Run WITHOUT homomorphic encryption\n",
      "\u001b[36m(launch_and_fit pid=75448)\u001b[0m  To get the checkpoint\n",
      "\u001b[36m(launch_and_fit pid=75448)\u001b[0m [Client 0, round 9] fit, config: {'learning_rate': 0.003, 'batch_size': '32', 'server_round': 9, 'local_epochs': 10}\n",
      "\u001b[36m(launch_and_fit pid=75448)\u001b[0m Updated model\n"
     ]
    },
    {
     "name": "stderr",
     "output_type": "stream",
     "text": [
      "  0%|\u001b[34m          \u001b[0m| 0/10 [00:00<?, ?it/s]\n"
     ]
    },
    {
     "name": "stdout",
     "output_type": "stream",
     "text": [
      "\u001b[36m(launch_and_fit pid=75448)\u001b[0m \tTrain Epoch: 1 \tTrain_loss: 1.7661 | Train_acc: 35.0774 % | Validation_loss: 1.8213 | Validation_acc: 26.4040 %\n"
     ]
    },
    {
     "name": "stderr",
     "output_type": "stream",
     "text": [
      " 10%|\u001b[34m█         \u001b[0m| 1/10 [00:05<00:53,  5.91s/it]\n"
     ]
    },
    {
     "name": "stdout",
     "output_type": "stream",
     "text": [
      "\u001b[36m(launch_and_fit pid=75448)\u001b[0m \tTrain Epoch: 2 \tTrain_loss: 1.7467 | Train_acc: 35.8274 % | Validation_loss: 1.8010 | Validation_acc: 29.9366 %\n"
     ]
    },
    {
     "name": "stderr",
     "output_type": "stream",
     "text": [
      " 20%|\u001b[34m██        \u001b[0m| 2/10 [00:13<00:53,  6.66s/it]\n"
     ]
    },
    {
     "name": "stdout",
     "output_type": "stream",
     "text": [
      "\u001b[36m(launch_and_fit pid=75448)\u001b[0m \tTrain Epoch: 3 \tTrain_loss: 1.7355 | Train_acc: 38.3393 % | Validation_loss: 1.8087 | Validation_acc: 29.9366 %\n"
     ]
    },
    {
     "name": "stderr",
     "output_type": "stream",
     "text": [
      " 30%|\u001b[34m███       \u001b[0m| 3/10 [00:19<00:44,  6.40s/it]\n"
     ]
    },
    {
     "name": "stdout",
     "output_type": "stream",
     "text": [
      "\u001b[36m(launch_and_fit pid=75448)\u001b[0m \tTrain Epoch: 4 \tTrain_loss: 1.7463 | Train_acc: 36.0774 % | Validation_loss: 1.8095 | Validation_acc: 30.9783 %\n"
     ]
    },
    {
     "name": "stderr",
     "output_type": "stream",
     "text": [
      " 40%|\u001b[34m████      \u001b[0m| 4/10 [00:25<00:37,  6.29s/it]\n"
     ]
    },
    {
     "name": "stdout",
     "output_type": "stream",
     "text": [
      "\u001b[36m(launch_and_fit pid=75448)\u001b[0m \tTrain Epoch: 5 \tTrain_loss: 1.7444 | Train_acc: 35.7083 % | Validation_loss: 1.8448 | Validation_acc: 25.3623 %\n"
     ]
    },
    {
     "name": "stderr",
     "output_type": "stream",
     "text": [
      " 50%|\u001b[34m█████     \u001b[0m| 5/10 [00:31<00:31,  6.22s/it]\n"
     ]
    },
    {
     "name": "stdout",
     "output_type": "stream",
     "text": [
      "\u001b[36m(launch_and_fit pid=75448)\u001b[0m \tTrain Epoch: 6 \tTrain_loss: 1.7354 | Train_acc: 38.5238 % | Validation_loss: 1.8098 | Validation_acc: 30.9783 %\n"
     ]
    },
    {
     "name": "stderr",
     "output_type": "stream",
     "text": [
      " 60%|\u001b[34m██████    \u001b[0m| 6/10 [00:37<00:24,  6.17s/it]\n"
     ]
    },
    {
     "name": "stdout",
     "output_type": "stream",
     "text": [
      "\u001b[36m(launch_and_fit pid=75448)\u001b[0m \tTrain Epoch: 7 \tTrain_loss: 1.7375 | Train_acc: 37.3869 % | Validation_loss: 1.8045 | Validation_acc: 32.8351 %\n"
     ]
    },
    {
     "name": "stderr",
     "output_type": "stream",
     "text": [
      " 70%|\u001b[34m███████   \u001b[0m| 7/10 [00:43<00:18,  6.12s/it]\n"
     ]
    },
    {
     "name": "stdout",
     "output_type": "stream",
     "text": [
      "\u001b[36m(launch_and_fit pid=75448)\u001b[0m \tTrain Epoch: 8 \tTrain_loss: 1.7528 | Train_acc: 36.2024 % | Validation_loss: 1.8410 | Validation_acc: 27.0380 %\n"
     ]
    },
    {
     "name": "stderr",
     "output_type": "stream",
     "text": [
      " 80%|\u001b[34m████████  \u001b[0m| 8/10 [00:49<00:12,  6.14s/it]\n"
     ]
    },
    {
     "name": "stdout",
     "output_type": "stream",
     "text": [
      "\u001b[36m(launch_and_fit pid=75448)\u001b[0m \tTrain Epoch: 9 \tTrain_loss: 1.7317 | Train_acc: 39.3333 % | Validation_loss: 1.8072 | Validation_acc: 30.9783 %\n"
     ]
    },
    {
     "name": "stderr",
     "output_type": "stream",
     "text": [
      " 90%|\u001b[34m█████████ \u001b[0m| 9/10 [00:55<00:06,  6.07s/it]\n"
     ]
    },
    {
     "name": "stdout",
     "output_type": "stream",
     "text": [
      "\u001b[36m(launch_and_fit pid=75448)\u001b[0m \tTrain Epoch: 10 \tTrain_loss: 1.7229 | Train_acc: 41.6488 % | Validation_loss: 1.8012 | Validation_acc: 29.9366 %\n",
      "\u001b[36m(launch_and_fit pid=75448)\u001b[0m save graph in  results/FL/\n"
     ]
    },
    {
     "name": "stderr",
     "output_type": "stream",
     "text": [
      "100%|\u001b[34m██████████\u001b[0m| 10/10 [01:01<00:00,  6.14s/it]\n",
      "DEBUG flwr 2024-08-30 02:01:09,894 | server.py:236 | fit_round 9 received 4 results and 0 failures\n"
     ]
    },
    {
     "name": "stdout",
     "output_type": "stream",
     "text": [
      "Saving round 9 aggregated_parameters...\n",
      "Updated model\n"
     ]
    },
    {
     "name": "stderr",
     "output_type": "stream",
     "text": [
      "INFO flwr 2024-08-30 02:01:12,373 | server.py:125 | fit progress: (9, 1.7445328491074699, {'accuracy': 36.830357142857146}, 1304.5042008329183)\n",
      "DEBUG flwr 2024-08-30 02:01:12,375 | server.py:173 | evaluate_round 9: strategy sampled 4 clients (out of 4)\n"
     ]
    },
    {
     "name": "stdout",
     "output_type": "stream",
     "text": [
      "Server-side evaluation loss 1.7445328491074699 / accuracy 36.830357142857146\n",
      "\u001b[36m(launch_and_evaluate pid=75448)\u001b[0m Run WITHOUT homomorphic encryption\n",
      "\u001b[36m(launch_and_evaluate pid=75448)\u001b[0m  To get the checkpoint\n",
      "\u001b[36m(launch_and_evaluate pid=75448)\u001b[0m [Client 0] evaluate, config: {}\n",
      "\u001b[36m(launch_and_evaluate pid=75448)\u001b[0m Updated model\n",
      "\u001b[36m(launch_and_evaluate pid=75448)\u001b[0m Run WITHOUT homomorphic encryption\n",
      "\u001b[36m(launch_and_evaluate pid=75448)\u001b[0m  To get the checkpoint\n",
      "\u001b[36m(launch_and_evaluate pid=75448)\u001b[0m [Client 1] evaluate, config: {}\n",
      "\u001b[36m(launch_and_evaluate pid=75448)\u001b[0m Updated model\n",
      "\u001b[36m(launch_and_evaluate pid=75448)\u001b[0m Run WITHOUT homomorphic encryption\n",
      "\u001b[36m(launch_and_evaluate pid=75448)\u001b[0m  To get the checkpoint\n",
      "\u001b[36m(launch_and_evaluate pid=75448)\u001b[0m [Client 3] evaluate, config: {}\n",
      "\u001b[36m(launch_and_evaluate pid=75448)\u001b[0m Updated model\n",
      "\u001b[36m(launch_and_evaluate pid=75448)\u001b[0m Run WITHOUT homomorphic encryption\n",
      "\u001b[36m(launch_and_evaluate pid=75448)\u001b[0m  To get the checkpoint\n",
      "\u001b[36m(launch_and_evaluate pid=75448)\u001b[0m [Client 2] evaluate, config: {}\n",
      "\u001b[36m(launch_and_evaluate pid=75448)\u001b[0m Updated model\n"
     ]
    },
    {
     "name": "stderr",
     "output_type": "stream",
     "text": [
      "DEBUG flwr 2024-08-30 02:01:21,005 | server.py:187 | evaluate_round 9 received 4 results and 0 failures\n",
      "DEBUG flwr 2024-08-30 02:01:21,008 | server.py:222 | fit_round 10: strategy sampled 4 clients (out of 4)\n"
     ]
    },
    {
     "name": "stdout",
     "output_type": "stream",
     "text": [
      "\u001b[36m(launch_and_fit pid=75448)\u001b[0m Run WITHOUT homomorphic encryption\n",
      "\u001b[36m(launch_and_fit pid=75448)\u001b[0m  To get the checkpoint\n",
      "\u001b[36m(launch_and_fit pid=75448)\u001b[0m [Client 0, round 10] fit, config: {'learning_rate': 0.003, 'batch_size': '32', 'server_round': 10, 'local_epochs': 10}\n",
      "\u001b[36m(launch_and_fit pid=75448)\u001b[0m Updated model\n"
     ]
    },
    {
     "name": "stderr",
     "output_type": "stream",
     "text": [
      "  0%|\u001b[34m          \u001b[0m| 0/10 [00:00<?, ?it/s]\n"
     ]
    },
    {
     "name": "stdout",
     "output_type": "stream",
     "text": [
      "\u001b[36m(launch_and_fit pid=75448)\u001b[0m \tTrain Epoch: 1 \tTrain_loss: 1.7551 | Train_acc: 36.3393 % | Validation_loss: 1.8090 | Validation_acc: 29.9366 %\n"
     ]
    },
    {
     "name": "stderr",
     "output_type": "stream",
     "text": [
      " 10%|\u001b[34m█         \u001b[0m| 1/10 [00:06<00:56,  6.26s/it]\n"
     ]
    },
    {
     "name": "stdout",
     "output_type": "stream",
     "text": [
      "\u001b[36m(launch_and_fit pid=75448)\u001b[0m \tTrain Epoch: 2 \tTrain_loss: 1.7459 | Train_acc: 36.8393 % | Validation_loss: 1.8205 | Validation_acc: 30.3442 %\n"
     ]
    },
    {
     "name": "stderr",
     "output_type": "stream",
     "text": [
      " 20%|\u001b[34m██        \u001b[0m| 2/10 [00:12<00:49,  6.24s/it]\n"
     ]
    },
    {
     "name": "stdout",
     "output_type": "stream",
     "text": [
      "\u001b[36m(launch_and_fit pid=75448)\u001b[0m \tTrain Epoch: 3 \tTrain_loss: 1.7706 | Train_acc: 34.1488 % | Validation_loss: 1.8270 | Validation_acc: 33.0616 %\n"
     ]
    },
    {
     "name": "stderr",
     "output_type": "stream",
     "text": [
      " 30%|\u001b[34m███       \u001b[0m| 3/10 [00:18<00:43,  6.17s/it]\n"
     ]
    },
    {
     "name": "stdout",
     "output_type": "stream",
     "text": [
      "\u001b[36m(launch_and_fit pid=75448)\u001b[0m \tTrain Epoch: 4 \tTrain_loss: 1.7312 | Train_acc: 38.8333 % | Validation_loss: 1.8114 | Validation_acc: 29.9366 %\n"
     ]
    },
    {
     "name": "stderr",
     "output_type": "stream",
     "text": [
      " 40%|\u001b[34m████      \u001b[0m| 4/10 [00:24<00:36,  6.14s/it]\n"
     ]
    },
    {
     "name": "stdout",
     "output_type": "stream",
     "text": [
      "\u001b[36m(launch_and_fit pid=75448)\u001b[0m \tTrain Epoch: 5 \tTrain_loss: 1.7380 | Train_acc: 38.2143 % | Validation_loss: 1.8414 | Validation_acc: 26.4040 %\n"
     ]
    },
    {
     "name": "stderr",
     "output_type": "stream",
     "text": [
      " 50%|\u001b[34m█████     \u001b[0m| 5/10 [00:31<00:31,  6.27s/it]\n"
     ]
    },
    {
     "name": "stdout",
     "output_type": "stream",
     "text": [
      "\u001b[36m(launch_and_fit pid=75448)\u001b[0m \tTrain Epoch: 6 \tTrain_loss: 1.7383 | Train_acc: 37.0833 % | Validation_loss: 1.8283 | Validation_acc: 26.4040 %\n"
     ]
    },
    {
     "name": "stderr",
     "output_type": "stream",
     "text": [
      " 60%|\u001b[34m██████    \u001b[0m| 6/10 [00:37<00:24,  6.18s/it]\n"
     ]
    },
    {
     "name": "stdout",
     "output_type": "stream",
     "text": [
      "\u001b[36m(launch_and_fit pid=75448)\u001b[0m \tTrain Epoch: 7 \tTrain_loss: 1.7297 | Train_acc: 38.7083 % | Validation_loss: 1.8026 | Validation_acc: 30.9783 %\n"
     ]
    },
    {
     "name": "stderr",
     "output_type": "stream",
     "text": [
      " 70%|\u001b[34m███████   \u001b[0m| 7/10 [00:42<00:18,  6.06s/it]\n"
     ]
    },
    {
     "name": "stdout",
     "output_type": "stream",
     "text": [
      "\u001b[36m(launch_and_fit pid=75448)\u001b[0m \tTrain Epoch: 8 \tTrain_loss: 1.7281 | Train_acc: 38.8274 % | Validation_loss: 1.8172 | Validation_acc: 30.9783 %\n"
     ]
    },
    {
     "name": "stderr",
     "output_type": "stream",
     "text": [
      " 80%|\u001b[34m████████  \u001b[0m| 8/10 [00:49<00:12,  6.19s/it]\n"
     ]
    },
    {
     "name": "stdout",
     "output_type": "stream",
     "text": [
      "\u001b[36m(launch_and_fit pid=75448)\u001b[0m \tTrain Epoch: 9 \tTrain_loss: 1.7225 | Train_acc: 39.8393 % | Validation_loss: 1.8128 | Validation_acc: 32.0199 %\n"
     ]
    },
    {
     "name": "stderr",
     "output_type": "stream",
     "text": [
      " 90%|\u001b[34m█████████ \u001b[0m| 9/10 [00:52<00:05,  5.28s/it]\n"
     ]
    },
    {
     "name": "stdout",
     "output_type": "stream",
     "text": [
      "\u001b[36m(launch_and_fit pid=75448)\u001b[0m \tTrain Epoch: 10 \tTrain_loss: 1.7177 | Train_acc: 40.2083 % | Validation_loss: 1.8503 | Validation_acc: 24.7283 %\n",
      "\u001b[36m(launch_and_fit pid=75448)\u001b[0m save graph in  results/FL/\n"
     ]
    },
    {
     "name": "stderr",
     "output_type": "stream",
     "text": [
      "100%|\u001b[34m██████████\u001b[0m| 10/10 [00:54<00:00,  5.47s/it]\n"
     ]
    },
    {
     "name": "stdout",
     "output_type": "stream",
     "text": [
      "\u001b[36m(launch_and_fit pid=75448)\u001b[0m Run WITHOUT homomorphic encryption\n",
      "\u001b[36m(launch_and_fit pid=75448)\u001b[0m  To get the checkpoint\n",
      "\u001b[36m(launch_and_fit pid=75448)\u001b[0m [Client 3, round 10] fit, config: {'learning_rate': 0.003, 'batch_size': '32', 'server_round': 10, 'local_epochs': 10}\n",
      "\u001b[36m(launch_and_fit pid=75448)\u001b[0m Updated model\n"
     ]
    },
    {
     "name": "stderr",
     "output_type": "stream",
     "text": [
      "  0%|\u001b[34m          \u001b[0m| 0/10 [00:00<?, ?it/s]\n"
     ]
    },
    {
     "name": "stdout",
     "output_type": "stream",
     "text": [
      "\u001b[36m(launch_and_fit pid=75448)\u001b[0m \tTrain Epoch: 1 \tTrain_loss: 1.7676 | Train_acc: 34.7679 % | Validation_loss: 1.7297 | Validation_acc: 35.5525 %\n"
     ]
    },
    {
     "name": "stderr",
     "output_type": "stream",
     "text": [
      " 10%|\u001b[34m█         \u001b[0m| 1/10 [00:01<00:16,  1.87s/it]\n"
     ]
    },
    {
     "name": "stdout",
     "output_type": "stream",
     "text": [
      "\u001b[36m(launch_and_fit pid=75448)\u001b[0m \tTrain Epoch: 2 \tTrain_loss: 1.7470 | Train_acc: 41.0238 % | Validation_loss: 1.7281 | Validation_acc: 33.8768 %\n"
     ]
    },
    {
     "name": "stderr",
     "output_type": "stream",
     "text": [
      " 20%|\u001b[34m██        \u001b[0m| 2/10 [00:03<00:15,  1.88s/it]\n"
     ]
    },
    {
     "name": "stdout",
     "output_type": "stream",
     "text": [
      "\u001b[36m(launch_and_fit pid=75448)\u001b[0m \tTrain Epoch: 3 \tTrain_loss: 1.7423 | Train_acc: 39.0179 % | Validation_loss: 1.7290 | Validation_acc: 27.8533 %\n"
     ]
    },
    {
     "name": "stderr",
     "output_type": "stream",
     "text": [
      " 30%|\u001b[34m███       \u001b[0m| 3/10 [00:05<00:13,  1.87s/it]\n"
     ]
    },
    {
     "name": "stdout",
     "output_type": "stream",
     "text": [
      "\u001b[36m(launch_and_fit pid=75448)\u001b[0m \tTrain Epoch: 4 \tTrain_loss: 1.7376 | Train_acc: 41.7857 % | Validation_loss: 1.7346 | Validation_acc: 32.4275 %\n"
     ]
    },
    {
     "name": "stderr",
     "output_type": "stream",
     "text": [
      " 40%|\u001b[34m████      \u001b[0m| 4/10 [00:07<00:11,  1.88s/it]\n"
     ]
    },
    {
     "name": "stdout",
     "output_type": "stream",
     "text": [
      "\u001b[36m(launch_and_fit pid=75448)\u001b[0m \tTrain Epoch: 5 \tTrain_loss: 1.7396 | Train_acc: 41.1488 % | Validation_loss: 1.7345 | Validation_acc: 32.4275 %\n"
     ]
    },
    {
     "name": "stderr",
     "output_type": "stream",
     "text": [
      " 50%|\u001b[34m█████     \u001b[0m| 5/10 [00:09<00:09,  1.87s/it]\n"
     ]
    },
    {
     "name": "stdout",
     "output_type": "stream",
     "text": [
      "\u001b[36m(launch_and_fit pid=75448)\u001b[0m \tTrain Epoch: 6 \tTrain_loss: 1.7346 | Train_acc: 41.9524 % | Validation_loss: 1.7196 | Validation_acc: 37.4094 %\n"
     ]
    },
    {
     "name": "stderr",
     "output_type": "stream",
     "text": [
      " 60%|\u001b[34m██████    \u001b[0m| 6/10 [00:11<00:07,  1.88s/it]\n"
     ]
    },
    {
     "name": "stdout",
     "output_type": "stream",
     "text": [
      "\u001b[36m(launch_and_fit pid=75448)\u001b[0m \tTrain Epoch: 7 \tTrain_loss: 1.7293 | Train_acc: 41.7679 % | Validation_loss: 1.7186 | Validation_acc: 37.0018 %\n"
     ]
    },
    {
     "name": "stderr",
     "output_type": "stream",
     "text": [
      " 70%|\u001b[34m███████   \u001b[0m| 7/10 [00:13<00:05,  1.88s/it]\n"
     ]
    },
    {
     "name": "stdout",
     "output_type": "stream",
     "text": [
      "\u001b[36m(launch_and_fit pid=75448)\u001b[0m \tTrain Epoch: 8 \tTrain_loss: 1.7267 | Train_acc: 41.9643 % | Validation_loss: 1.7244 | Validation_acc: 34.5109 %\n"
     ]
    },
    {
     "name": "stderr",
     "output_type": "stream",
     "text": [
      " 80%|\u001b[34m████████  \u001b[0m| 8/10 [00:15<00:03,  1.89s/it]\n"
     ]
    },
    {
     "name": "stdout",
     "output_type": "stream",
     "text": [
      "\u001b[36m(launch_and_fit pid=75448)\u001b[0m \tTrain Epoch: 9 \tTrain_loss: 1.7210 | Train_acc: 43.4524 % | Validation_loss: 1.7178 | Validation_acc: 34.5109 %\n"
     ]
    },
    {
     "name": "stderr",
     "output_type": "stream",
     "text": [
      " 90%|\u001b[34m█████████ \u001b[0m| 9/10 [00:16<00:01,  1.89s/it]\n"
     ]
    },
    {
     "name": "stdout",
     "output_type": "stream",
     "text": [
      "\u001b[36m(launch_and_fit pid=75448)\u001b[0m \tTrain Epoch: 10 \tTrain_loss: 1.7178 | Train_acc: 43.5893 % | Validation_loss: 1.7212 | Validation_acc: 36.5942 %\n",
      "\u001b[36m(launch_and_fit pid=75448)\u001b[0m save graph in  results/FL/\n"
     ]
    },
    {
     "name": "stderr",
     "output_type": "stream",
     "text": [
      "100%|\u001b[34m██████████\u001b[0m| 10/10 [00:18<00:00,  1.88s/it]\n"
     ]
    },
    {
     "name": "stdout",
     "output_type": "stream",
     "text": [
      "\u001b[36m(launch_and_fit pid=75448)\u001b[0m Run WITHOUT homomorphic encryption\n",
      "\u001b[36m(launch_and_fit pid=75448)\u001b[0m  To get the checkpoint\n",
      "\u001b[36m(launch_and_fit pid=75448)\u001b[0m [Client 1, round 10] fit, config: {'learning_rate': 0.003, 'batch_size': '32', 'server_round': 10, 'local_epochs': 10}\n",
      "\u001b[36m(launch_and_fit pid=75448)\u001b[0m Updated model\n"
     ]
    },
    {
     "name": "stderr",
     "output_type": "stream",
     "text": [
      "  0%|\u001b[34m          \u001b[0m| 0/10 [00:00<?, ?it/s]\n"
     ]
    },
    {
     "name": "stdout",
     "output_type": "stream",
     "text": [
      "\u001b[36m(launch_and_fit pid=75448)\u001b[0m \tTrain Epoch: 1 \tTrain_loss: 1.7812 | Train_acc: 34.1429 % | Validation_loss: 1.6969 | Validation_acc: 44.4746 %\n"
     ]
    },
    {
     "name": "stderr",
     "output_type": "stream",
     "text": [
      " 10%|\u001b[34m█         \u001b[0m| 1/10 [00:02<00:18,  2.01s/it]\n"
     ]
    },
    {
     "name": "stdout",
     "output_type": "stream",
     "text": [
      "\u001b[36m(launch_and_fit pid=75448)\u001b[0m \tTrain Epoch: 2 \tTrain_loss: 1.7690 | Train_acc: 34.5119 % | Validation_loss: 1.6931 | Validation_acc: 43.0254 %\n"
     ]
    },
    {
     "name": "stderr",
     "output_type": "stream",
     "text": [
      " 20%|\u001b[34m██        \u001b[0m| 2/10 [00:03<00:15,  1.97s/it]\n"
     ]
    },
    {
     "name": "stdout",
     "output_type": "stream",
     "text": [
      "\u001b[36m(launch_and_fit pid=75448)\u001b[0m \tTrain Epoch: 3 \tTrain_loss: 1.7591 | Train_acc: 36.4583 % | Validation_loss: 1.6637 | Validation_acc: 44.0670 %\n"
     ]
    },
    {
     "name": "stderr",
     "output_type": "stream",
     "text": [
      " 30%|\u001b[34m███       \u001b[0m| 3/10 [00:05<00:13,  1.93s/it]\n"
     ]
    },
    {
     "name": "stdout",
     "output_type": "stream",
     "text": [
      "\u001b[36m(launch_and_fit pid=75448)\u001b[0m \tTrain Epoch: 4 \tTrain_loss: 1.7600 | Train_acc: 35.7857 % | Validation_loss: 1.6857 | Validation_acc: 40.5344 %\n"
     ]
    },
    {
     "name": "stderr",
     "output_type": "stream",
     "text": [
      " 40%|\u001b[34m████      \u001b[0m| 4/10 [00:07<00:11,  1.91s/it]\n"
     ]
    },
    {
     "name": "stdout",
     "output_type": "stream",
     "text": [
      "\u001b[36m(launch_and_fit pid=75448)\u001b[0m \tTrain Epoch: 5 \tTrain_loss: 1.7566 | Train_acc: 35.8988 % | Validation_loss: 1.7105 | Validation_acc: 43.0254 %\n"
     ]
    },
    {
     "name": "stderr",
     "output_type": "stream",
     "text": [
      " 50%|\u001b[34m█████     \u001b[0m| 5/10 [00:09<00:09,  1.90s/it]\n"
     ]
    },
    {
     "name": "stdout",
     "output_type": "stream",
     "text": [
      "\u001b[36m(launch_and_fit pid=75448)\u001b[0m \tTrain Epoch: 6 \tTrain_loss: 1.7482 | Train_acc: 37.2679 % | Validation_loss: 1.6728 | Validation_acc: 46.7844 %\n"
     ]
    },
    {
     "name": "stderr",
     "output_type": "stream",
     "text": [
      " 60%|\u001b[34m██████    \u001b[0m| 6/10 [00:11<00:07,  1.90s/it]\n"
     ]
    },
    {
     "name": "stdout",
     "output_type": "stream",
     "text": [
      "\u001b[36m(launch_and_fit pid=75448)\u001b[0m \tTrain Epoch: 7 \tTrain_loss: 1.7471 | Train_acc: 37.5179 % | Validation_loss: 1.6662 | Validation_acc: 43.6594 %\n"
     ]
    },
    {
     "name": "stderr",
     "output_type": "stream",
     "text": [
      " 70%|\u001b[34m███████   \u001b[0m| 7/10 [00:13<00:05,  1.90s/it]\n"
     ]
    },
    {
     "name": "stdout",
     "output_type": "stream",
     "text": [
      "\u001b[36m(launch_and_fit pid=75448)\u001b[0m \tTrain Epoch: 8 \tTrain_loss: 1.7436 | Train_acc: 37.1548 % | Validation_loss: 1.6929 | Validation_acc: 41.9837 %\n"
     ]
    },
    {
     "name": "stderr",
     "output_type": "stream",
     "text": [
      " 80%|\u001b[34m████████  \u001b[0m| 8/10 [00:15<00:03,  1.89s/it]\n"
     ]
    },
    {
     "name": "stdout",
     "output_type": "stream",
     "text": [
      "\u001b[36m(launch_and_fit pid=75448)\u001b[0m \tTrain Epoch: 9 \tTrain_loss: 1.7593 | Train_acc: 36.2083 % | Validation_loss: 1.6723 | Validation_acc: 47.1920 %\n"
     ]
    },
    {
     "name": "stderr",
     "output_type": "stream",
     "text": [
      " 90%|\u001b[34m█████████ \u001b[0m| 9/10 [00:17<00:01,  1.89s/it]\n"
     ]
    },
    {
     "name": "stdout",
     "output_type": "stream",
     "text": [
      "\u001b[36m(launch_and_fit pid=75448)\u001b[0m \tTrain Epoch: 10 \tTrain_loss: 1.7407 | Train_acc: 38.0833 % | Validation_loss: 1.6927 | Validation_acc: 43.0254 %\n",
      "\u001b[36m(launch_and_fit pid=75448)\u001b[0m save graph in  results/FL/\n"
     ]
    },
    {
     "name": "stderr",
     "output_type": "stream",
     "text": [
      "100%|\u001b[34m██████████\u001b[0m| 10/10 [00:19<00:00,  1.91s/it]\n"
     ]
    },
    {
     "name": "stdout",
     "output_type": "stream",
     "text": [
      "\u001b[36m(launch_and_fit pid=75448)\u001b[0m Run WITHOUT homomorphic encryption\n",
      "\u001b[36m(launch_and_fit pid=75448)\u001b[0m  To get the checkpoint\n",
      "\u001b[36m(launch_and_fit pid=75448)\u001b[0m [Client 2, round 10] fit, config: {'learning_rate': 0.003, 'batch_size': '32', 'server_round': 10, 'local_epochs': 10}\n",
      "\u001b[36m(launch_and_fit pid=75448)\u001b[0m Updated model\n"
     ]
    },
    {
     "name": "stderr",
     "output_type": "stream",
     "text": [
      "  0%|\u001b[34m          \u001b[0m| 0/10 [00:00<?, ?it/s]\n"
     ]
    },
    {
     "name": "stdout",
     "output_type": "stream",
     "text": [
      "\u001b[36m(launch_and_fit pid=75448)\u001b[0m \tTrain Epoch: 1 \tTrain_loss: 1.7520 | Train_acc: 38.3810 % | Validation_loss: 1.6965 | Validation_acc: 47.1920 %\n"
     ]
    },
    {
     "name": "stderr",
     "output_type": "stream",
     "text": [
      " 10%|\u001b[34m█         \u001b[0m| 1/10 [00:02<00:20,  2.23s/it]\n"
     ]
    },
    {
     "name": "stdout",
     "output_type": "stream",
     "text": [
      "\u001b[36m(launch_and_fit pid=75448)\u001b[0m \tTrain Epoch: 2 \tTrain_loss: 1.7529 | Train_acc: 38.4762 % | Validation_loss: 1.7071 | Validation_acc: 45.1087 %\n"
     ]
    },
    {
     "name": "stderr",
     "output_type": "stream",
     "text": [
      " 20%|\u001b[34m██        \u001b[0m| 2/10 [00:04<00:16,  2.05s/it]\n"
     ]
    },
    {
     "name": "stdout",
     "output_type": "stream",
     "text": [
      "\u001b[36m(launch_and_fit pid=75448)\u001b[0m \tTrain Epoch: 3 \tTrain_loss: 1.7441 | Train_acc: 38.2679 % | Validation_loss: 1.6966 | Validation_acc: 46.1504 %\n"
     ]
    },
    {
     "name": "stderr",
     "output_type": "stream",
     "text": [
      " 30%|\u001b[34m███       \u001b[0m| 3/10 [00:06<00:13,  2.00s/it]\n"
     ]
    },
    {
     "name": "stdout",
     "output_type": "stream",
     "text": [
      "\u001b[36m(launch_and_fit pid=75448)\u001b[0m \tTrain Epoch: 4 \tTrain_loss: 1.7342 | Train_acc: 39.5893 % | Validation_loss: 1.6907 | Validation_acc: 46.1504 %\n"
     ]
    },
    {
     "name": "stderr",
     "output_type": "stream",
     "text": [
      " 40%|\u001b[34m████      \u001b[0m| 4/10 [00:07<00:11,  1.96s/it]\n"
     ]
    },
    {
     "name": "stdout",
     "output_type": "stream",
     "text": [
      "\u001b[36m(launch_and_fit pid=75448)\u001b[0m \tTrain Epoch: 5 \tTrain_loss: 1.7381 | Train_acc: 39.9524 % | Validation_loss: 1.7035 | Validation_acc: 46.1504 %\n"
     ]
    },
    {
     "name": "stderr",
     "output_type": "stream",
     "text": [
      " 50%|\u001b[34m█████     \u001b[0m| 5/10 [00:09<00:09,  1.95s/it]\n"
     ]
    },
    {
     "name": "stdout",
     "output_type": "stream",
     "text": [
      "\u001b[36m(launch_and_fit pid=75448)\u001b[0m \tTrain Epoch: 6 \tTrain_loss: 1.7627 | Train_acc: 37.5238 % | Validation_loss: 1.7126 | Validation_acc: 46.1504 %\n"
     ]
    },
    {
     "name": "stderr",
     "output_type": "stream",
     "text": [
      " 60%|\u001b[34m██████    \u001b[0m| 6/10 [00:11<00:07,  1.93s/it]\n"
     ]
    },
    {
     "name": "stdout",
     "output_type": "stream",
     "text": [
      "\u001b[36m(launch_and_fit pid=75448)\u001b[0m \tTrain Epoch: 7 \tTrain_loss: 1.7313 | Train_acc: 39.7798 % | Validation_loss: 1.6991 | Validation_acc: 44.0670 %\n"
     ]
    },
    {
     "name": "stderr",
     "output_type": "stream",
     "text": [
      " 70%|\u001b[34m███████   \u001b[0m| 7/10 [00:13<00:05,  1.92s/it]\n"
     ]
    },
    {
     "name": "stdout",
     "output_type": "stream",
     "text": [
      "\u001b[36m(launch_and_fit pid=75448)\u001b[0m \tTrain Epoch: 8 \tTrain_loss: 1.7347 | Train_acc: 40.0952 % | Validation_loss: 1.7028 | Validation_acc: 45.1087 %\n"
     ]
    },
    {
     "name": "stderr",
     "output_type": "stream",
     "text": [
      " 80%|\u001b[34m████████  \u001b[0m| 8/10 [00:15<00:03,  1.95s/it]\n"
     ]
    },
    {
     "name": "stdout",
     "output_type": "stream",
     "text": [
      "\u001b[36m(launch_and_fit pid=75448)\u001b[0m \tTrain Epoch: 9 \tTrain_loss: 1.7452 | Train_acc: 39.3929 % | Validation_loss: 1.7073 | Validation_acc: 45.1087 %\n"
     ]
    },
    {
     "name": "stderr",
     "output_type": "stream",
     "text": [
      " 90%|\u001b[34m█████████ \u001b[0m| 9/10 [00:17<00:01,  1.99s/it]\n",
      "100%|\u001b[34m██████████\u001b[0m| 10/10 [00:19<00:00,  1.98s/it]\n",
      "DEBUG flwr 2024-08-30 02:03:15,890 | server.py:236 | fit_round 10 received 4 results and 0 failures\n"
     ]
    },
    {
     "name": "stdout",
     "output_type": "stream",
     "text": [
      "\u001b[36m(launch_and_fit pid=75448)\u001b[0m \tTrain Epoch: 10 \tTrain_loss: 1.7420 | Train_acc: 39.5833 % | Validation_loss: 1.7023 | Validation_acc: 45.1087 %\n",
      "\u001b[36m(launch_and_fit pid=75448)\u001b[0m save graph in  results/FL/\n",
      "Saving round 10 aggregated_parameters...\n",
      "Updated model\n"
     ]
    },
    {
     "name": "stderr",
     "output_type": "stream",
     "text": [
      "INFO flwr 2024-08-30 02:03:16,747 | server.py:125 | fit progress: (10, 1.7320647282259805, {'accuracy': 41.145833333333336}, 1428.878035748843)\n",
      "DEBUG flwr 2024-08-30 02:03:16,748 | server.py:173 | evaluate_round 10: strategy sampled 4 clients (out of 4)\n"
     ]
    },
    {
     "name": "stdout",
     "output_type": "stream",
     "text": [
      "Server-side evaluation loss 1.7320647282259805 / accuracy 41.145833333333336\n",
      "\u001b[36m(launch_and_evaluate pid=75448)\u001b[0m Run WITHOUT homomorphic encryption\n",
      "\u001b[36m(launch_and_evaluate pid=75448)\u001b[0m  To get the checkpoint\n",
      "\u001b[36m(launch_and_evaluate pid=75448)\u001b[0m [Client 3] evaluate, config: {}\n",
      "\u001b[36m(launch_and_evaluate pid=75448)\u001b[0m Updated model\n",
      "\u001b[36m(launch_and_evaluate pid=75448)\u001b[0m Run WITHOUT homomorphic encryption\n",
      "\u001b[36m(launch_and_evaluate pid=75448)\u001b[0m  To get the checkpoint\n",
      "\u001b[36m(launch_and_evaluate pid=75448)\u001b[0m [Client 0] evaluate, config: {}\n",
      "\u001b[36m(launch_and_evaluate pid=75448)\u001b[0m Updated model\n",
      "\u001b[36m(launch_and_evaluate pid=75448)\u001b[0m Run WITHOUT homomorphic encryption\n",
      "\u001b[36m(launch_and_evaluate pid=75448)\u001b[0m  To get the checkpoint\n",
      "\u001b[36m(launch_and_evaluate pid=75448)\u001b[0m [Client 2] evaluate, config: {}\n",
      "\u001b[36m(launch_and_evaluate pid=75448)\u001b[0m Updated model\n",
      "\u001b[36m(launch_and_evaluate pid=75448)\u001b[0m Run WITHOUT homomorphic encryption\n",
      "\u001b[36m(launch_and_evaluate pid=75448)\u001b[0m  To get the checkpoint\n",
      "\u001b[36m(launch_and_evaluate pid=75448)\u001b[0m [Client 1] evaluate, config: {}\n",
      "\u001b[36m(launch_and_evaluate pid=75448)\u001b[0m Updated model\n"
     ]
    },
    {
     "name": "stderr",
     "output_type": "stream",
     "text": [
      "DEBUG flwr 2024-08-30 02:03:19,318 | server.py:187 | evaluate_round 10 received 4 results and 0 failures\n",
      "DEBUG flwr 2024-08-30 02:03:19,319 | server.py:222 | fit_round 11: strategy sampled 4 clients (out of 4)\n"
     ]
    },
    {
     "name": "stdout",
     "output_type": "stream",
     "text": [
      "\u001b[36m(launch_and_fit pid=75448)\u001b[0m Run WITHOUT homomorphic encryption\n",
      "\u001b[36m(launch_and_fit pid=75448)\u001b[0m  To get the checkpoint\n",
      "\u001b[36m(launch_and_fit pid=75448)\u001b[0m [Client 3, round 11] fit, config: {'learning_rate': 0.003, 'batch_size': '32', 'server_round': 11, 'local_epochs': 10}\n",
      "\u001b[36m(launch_and_fit pid=75448)\u001b[0m Updated model\n"
     ]
    },
    {
     "name": "stderr",
     "output_type": "stream",
     "text": [
      "  0%|\u001b[34m          \u001b[0m| 0/10 [00:00<?, ?it/s]\n"
     ]
    },
    {
     "name": "stdout",
     "output_type": "stream",
     "text": [
      "\u001b[36m(launch_and_fit pid=75448)\u001b[0m \tTrain Epoch: 1 \tTrain_loss: 1.7472 | Train_acc: 39.0833 % | Validation_loss: 1.7247 | Validation_acc: 35.9601 %\n"
     ]
    },
    {
     "name": "stderr",
     "output_type": "stream",
     "text": [
      " 10%|\u001b[34m█         \u001b[0m| 1/10 [00:01<00:17,  1.99s/it]\n"
     ]
    },
    {
     "name": "stdout",
     "output_type": "stream",
     "text": [
      "\u001b[36m(launch_and_fit pid=75448)\u001b[0m \tTrain Epoch: 2 \tTrain_loss: 1.7438 | Train_acc: 40.0833 % | Validation_loss: 1.7666 | Validation_acc: 33.2428 %\n"
     ]
    },
    {
     "name": "stderr",
     "output_type": "stream",
     "text": [
      " 20%|\u001b[34m██        \u001b[0m| 2/10 [00:03<00:15,  1.99s/it]\n"
     ]
    },
    {
     "name": "stdout",
     "output_type": "stream",
     "text": [
      "\u001b[36m(launch_and_fit pid=75448)\u001b[0m \tTrain Epoch: 3 \tTrain_loss: 1.7649 | Train_acc: 37.3869 % | Validation_loss: 1.7303 | Validation_acc: 35.5525 %\n"
     ]
    },
    {
     "name": "stderr",
     "output_type": "stream",
     "text": [
      " 30%|\u001b[34m███       \u001b[0m| 3/10 [00:05<00:13,  2.00s/it]\n"
     ]
    },
    {
     "name": "stdout",
     "output_type": "stream",
     "text": [
      "\u001b[36m(launch_and_fit pid=75448)\u001b[0m \tTrain Epoch: 4 \tTrain_loss: 1.7332 | Train_acc: 39.4702 % | Validation_loss: 1.7657 | Validation_acc: 32.2011 %\n"
     ]
    },
    {
     "name": "stderr",
     "output_type": "stream",
     "text": [
      " 40%|\u001b[34m████      \u001b[0m| 4/10 [00:07<00:11,  2.00s/it]\n"
     ]
    },
    {
     "name": "stdout",
     "output_type": "stream",
     "text": [
      "\u001b[36m(launch_and_fit pid=75448)\u001b[0m \tTrain Epoch: 5 \tTrain_loss: 1.7446 | Train_acc: 38.6429 % | Validation_loss: 1.7154 | Validation_acc: 34.5109 %\n"
     ]
    },
    {
     "name": "stderr",
     "output_type": "stream",
     "text": [
      " 50%|\u001b[34m█████     \u001b[0m| 5/10 [00:09<00:09,  1.99s/it]\n"
     ]
    },
    {
     "name": "stdout",
     "output_type": "stream",
     "text": [
      "\u001b[36m(launch_and_fit pid=75448)\u001b[0m \tTrain Epoch: 6 \tTrain_loss: 1.7295 | Train_acc: 41.0833 % | Validation_loss: 1.7168 | Validation_acc: 34.5109 %\n"
     ]
    },
    {
     "name": "stderr",
     "output_type": "stream",
     "text": [
      " 60%|\u001b[34m██████    \u001b[0m| 6/10 [00:11<00:07,  2.00s/it]\n"
     ]
    },
    {
     "name": "stdout",
     "output_type": "stream",
     "text": [
      "\u001b[36m(launch_and_fit pid=75448)\u001b[0m \tTrain Epoch: 7 \tTrain_loss: 1.7283 | Train_acc: 42.0893 % | Validation_loss: 1.7197 | Validation_acc: 35.3261 %\n"
     ]
    },
    {
     "name": "stderr",
     "output_type": "stream",
     "text": [
      " 70%|\u001b[34m███████   \u001b[0m| 7/10 [00:13<00:06,  2.00s/it]\n"
     ]
    },
    {
     "name": "stdout",
     "output_type": "stream",
     "text": [
      "\u001b[36m(launch_and_fit pid=75448)\u001b[0m \tTrain Epoch: 8 \tTrain_loss: 1.7255 | Train_acc: 41.9643 % | Validation_loss: 1.7103 | Validation_acc: 36.5942 %\n"
     ]
    },
    {
     "name": "stderr",
     "output_type": "stream",
     "text": [
      " 80%|\u001b[34m████████  \u001b[0m| 8/10 [00:15<00:03,  2.00s/it]\n"
     ]
    },
    {
     "name": "stdout",
     "output_type": "stream",
     "text": [
      "\u001b[36m(launch_and_fit pid=75448)\u001b[0m \tTrain Epoch: 9 \tTrain_loss: 1.7175 | Train_acc: 43.1548 % | Validation_loss: 1.7146 | Validation_acc: 34.5109 %\n"
     ]
    },
    {
     "name": "stderr",
     "output_type": "stream",
     "text": [
      " 90%|\u001b[34m█████████ \u001b[0m| 9/10 [00:17<00:01,  1.96s/it]\n"
     ]
    },
    {
     "name": "stdout",
     "output_type": "stream",
     "text": [
      "\u001b[36m(launch_and_fit pid=75448)\u001b[0m \tTrain Epoch: 10 \tTrain_loss: 1.7127 | Train_acc: 42.8393 % | Validation_loss: 1.7110 | Validation_acc: 39.0851 %\n",
      "\u001b[36m(launch_and_fit pid=75448)\u001b[0m save graph in  results/FL/\n",
      "\u001b[36m(launch_and_fit pid=75448)\u001b[0m Run WITHOUT homomorphic encryption\n",
      "\u001b[36m(launch_and_fit pid=75448)\u001b[0m  To get the checkpoint\n"
     ]
    },
    {
     "name": "stderr",
     "output_type": "stream",
     "text": [
      "100%|\u001b[34m██████████\u001b[0m| 10/10 [00:19<00:00,  1.97s/it]\n"
     ]
    },
    {
     "name": "stdout",
     "output_type": "stream",
     "text": [
      "\u001b[36m(launch_and_fit pid=75448)\u001b[0m [Client 0, round 11] fit, config: {'learning_rate': 0.003, 'batch_size': '32', 'server_round': 11, 'local_epochs': 10}\n",
      "\u001b[36m(launch_and_fit pid=75448)\u001b[0m Updated model\n"
     ]
    },
    {
     "name": "stderr",
     "output_type": "stream",
     "text": [
      "  0%|\u001b[34m          \u001b[0m| 0/10 [00:00<?, ?it/s]\n"
     ]
    },
    {
     "name": "stdout",
     "output_type": "stream",
     "text": [
      "\u001b[36m(launch_and_fit pid=75448)\u001b[0m \tTrain Epoch: 1 \tTrain_loss: 1.7463 | Train_acc: 37.4702 % | Validation_loss: 1.8004 | Validation_acc: 36.5942 %\n"
     ]
    },
    {
     "name": "stderr",
     "output_type": "stream",
     "text": [
      " 10%|\u001b[34m█         \u001b[0m| 1/10 [00:01<00:17,  1.90s/it]\n"
     ]
    },
    {
     "name": "stdout",
     "output_type": "stream",
     "text": [
      "\u001b[36m(launch_and_fit pid=75448)\u001b[0m \tTrain Epoch: 2 \tTrain_loss: 1.7282 | Train_acc: 39.2083 % | Validation_loss: 1.8090 | Validation_acc: 29.9366 %\n"
     ]
    },
    {
     "name": "stderr",
     "output_type": "stream",
     "text": [
      " 20%|\u001b[34m██        \u001b[0m| 2/10 [00:03<00:15,  1.90s/it]\n"
     ]
    },
    {
     "name": "stdout",
     "output_type": "stream",
     "text": [
      "\u001b[36m(launch_and_fit pid=75448)\u001b[0m \tTrain Epoch: 3 \tTrain_loss: 1.7324 | Train_acc: 38.2738 % | Validation_loss: 1.7841 | Validation_acc: 32.4275 %\n"
     ]
    },
    {
     "name": "stderr",
     "output_type": "stream",
     "text": [
      " 30%|\u001b[34m███       \u001b[0m| 3/10 [00:05<00:13,  1.89s/it]\n"
     ]
    },
    {
     "name": "stdout",
     "output_type": "stream",
     "text": [
      "\u001b[36m(launch_and_fit pid=75448)\u001b[0m \tTrain Epoch: 4 \tTrain_loss: 1.7203 | Train_acc: 39.2083 % | Validation_loss: 1.8321 | Validation_acc: 26.8116 %\n"
     ]
    },
    {
     "name": "stderr",
     "output_type": "stream",
     "text": [
      " 40%|\u001b[34m████      \u001b[0m| 4/10 [00:07<00:11,  1.89s/it]\n"
     ]
    },
    {
     "name": "stdout",
     "output_type": "stream",
     "text": [
      "\u001b[36m(launch_and_fit pid=75448)\u001b[0m \tTrain Epoch: 5 \tTrain_loss: 1.7134 | Train_acc: 41.8393 % | Validation_loss: 1.8274 | Validation_acc: 29.3025 %\n"
     ]
    },
    {
     "name": "stderr",
     "output_type": "stream",
     "text": [
      " 50%|\u001b[34m█████     \u001b[0m| 5/10 [00:09<00:09,  1.90s/it]\n"
     ]
    },
    {
     "name": "stdout",
     "output_type": "stream",
     "text": [
      "\u001b[36m(launch_and_fit pid=75448)\u001b[0m \tTrain Epoch: 6 \tTrain_loss: 1.7150 | Train_acc: 40.4048 % | Validation_loss: 1.7994 | Validation_acc: 31.7935 %\n"
     ]
    },
    {
     "name": "stderr",
     "output_type": "stream",
     "text": [
      " 60%|\u001b[34m██████    \u001b[0m| 6/10 [00:11<00:07,  1.90s/it]\n"
     ]
    },
    {
     "name": "stdout",
     "output_type": "stream",
     "text": [
      "\u001b[36m(launch_and_fit pid=75448)\u001b[0m \tTrain Epoch: 7 \tTrain_loss: 1.7116 | Train_acc: 40.6369 % | Validation_loss: 1.7880 | Validation_acc: 32.4275 %\n"
     ]
    },
    {
     "name": "stderr",
     "output_type": "stream",
     "text": [
      " 70%|\u001b[34m███████   \u001b[0m| 7/10 [00:13<00:05,  1.90s/it]\n"
     ]
    },
    {
     "name": "stdout",
     "output_type": "stream",
     "text": [
      "\u001b[36m(launch_and_fit pid=75448)\u001b[0m \tTrain Epoch: 8 \tTrain_loss: 1.7242 | Train_acc: 39.7619 % | Validation_loss: 1.7974 | Validation_acc: 32.4275 %\n"
     ]
    },
    {
     "name": "stderr",
     "output_type": "stream",
     "text": [
      " 80%|\u001b[34m████████  \u001b[0m| 8/10 [00:15<00:03,  1.90s/it]\n"
     ]
    },
    {
     "name": "stdout",
     "output_type": "stream",
     "text": [
      "\u001b[36m(launch_and_fit pid=75448)\u001b[0m \tTrain Epoch: 9 \tTrain_loss: 1.7155 | Train_acc: 41.4107 % | Validation_loss: 1.7926 | Validation_acc: 35.5525 %\n"
     ]
    },
    {
     "name": "stderr",
     "output_type": "stream",
     "text": [
      " 90%|\u001b[34m█████████ \u001b[0m| 9/10 [00:17<00:01,  1.89s/it]\n"
     ]
    },
    {
     "name": "stdout",
     "output_type": "stream",
     "text": [
      "\u001b[36m(launch_and_fit pid=75448)\u001b[0m \tTrain Epoch: 10 \tTrain_loss: 1.7073 | Train_acc: 41.9583 % | Validation_loss: 1.8109 | Validation_acc: 32.4275 %\n",
      "\u001b[36m(launch_and_fit pid=75448)\u001b[0m save graph in  results/FL/\n"
     ]
    },
    {
     "name": "stderr",
     "output_type": "stream",
     "text": [
      "100%|\u001b[34m██████████\u001b[0m| 10/10 [00:19<00:00,  1.90s/it]\n"
     ]
    },
    {
     "name": "stdout",
     "output_type": "stream",
     "text": [
      "\u001b[36m(launch_and_fit pid=75448)\u001b[0m Run WITHOUT homomorphic encryption\n",
      "\u001b[36m(launch_and_fit pid=75448)\u001b[0m  To get the checkpoint\n",
      "\u001b[36m(launch_and_fit pid=75448)\u001b[0m [Client 2, round 11] fit, config: {'learning_rate': 0.003, 'batch_size': '32', 'server_round': 11, 'local_epochs': 10}\n",
      "\u001b[36m(launch_and_fit pid=75448)\u001b[0m Updated model\n"
     ]
    },
    {
     "name": "stderr",
     "output_type": "stream",
     "text": [
      "  0%|\u001b[34m          \u001b[0m| 0/10 [00:00<?, ?it/s]\n"
     ]
    },
    {
     "name": "stdout",
     "output_type": "stream",
     "text": [
      "\u001b[36m(launch_and_fit pid=75448)\u001b[0m \tTrain Epoch: 1 \tTrain_loss: 1.7489 | Train_acc: 39.1488 % | Validation_loss: 1.6708 | Validation_acc: 49.2754 %\n"
     ]
    },
    {
     "name": "stderr",
     "output_type": "stream",
     "text": [
      " 10%|\u001b[34m█         \u001b[0m| 1/10 [00:02<00:18,  2.00s/it]\n"
     ]
    },
    {
     "name": "stdout",
     "output_type": "stream",
     "text": [
      "\u001b[36m(launch_and_fit pid=75448)\u001b[0m \tTrain Epoch: 2 \tTrain_loss: 1.7261 | Train_acc: 43.5298 % | Validation_loss: 1.6852 | Validation_acc: 46.1504 %\n"
     ]
    },
    {
     "name": "stderr",
     "output_type": "stream",
     "text": [
      " 20%|\u001b[34m██        \u001b[0m| 2/10 [00:03<00:15,  2.00s/it]\n"
     ]
    },
    {
     "name": "stdout",
     "output_type": "stream",
     "text": [
      "\u001b[36m(launch_and_fit pid=75448)\u001b[0m \tTrain Epoch: 3 \tTrain_loss: 1.7257 | Train_acc: 41.7679 % | Validation_loss: 1.6857 | Validation_acc: 46.1504 %\n"
     ]
    },
    {
     "name": "stderr",
     "output_type": "stream",
     "text": [
      " 30%|\u001b[34m███       \u001b[0m| 3/10 [00:05<00:13,  1.99s/it]\n"
     ]
    },
    {
     "name": "stdout",
     "output_type": "stream",
     "text": [
      "\u001b[36m(launch_and_fit pid=75448)\u001b[0m \tTrain Epoch: 4 \tTrain_loss: 1.7297 | Train_acc: 41.6964 % | Validation_loss: 1.6875 | Validation_acc: 46.1504 %\n"
     ]
    },
    {
     "name": "stderr",
     "output_type": "stream",
     "text": [
      " 40%|\u001b[34m████      \u001b[0m| 4/10 [00:07<00:11,  1.98s/it]\n"
     ]
    },
    {
     "name": "stdout",
     "output_type": "stream",
     "text": [
      "\u001b[36m(launch_and_fit pid=75448)\u001b[0m \tTrain Epoch: 5 \tTrain_loss: 1.7405 | Train_acc: 39.4643 % | Validation_loss: 1.6777 | Validation_acc: 46.1504 %\n"
     ]
    },
    {
     "name": "stderr",
     "output_type": "stream",
     "text": [
      " 50%|\u001b[34m█████     \u001b[0m| 5/10 [00:09<00:09,  1.97s/it]\n"
     ]
    },
    {
     "name": "stdout",
     "output_type": "stream",
     "text": [
      "\u001b[36m(launch_and_fit pid=75448)\u001b[0m \tTrain Epoch: 6 \tTrain_loss: 1.7252 | Train_acc: 41.6488 % | Validation_loss: 1.6758 | Validation_acc: 46.1504 %\n"
     ]
    },
    {
     "name": "stderr",
     "output_type": "stream",
     "text": [
      " 60%|\u001b[34m██████    \u001b[0m| 6/10 [00:11<00:07,  1.96s/it]\n"
     ]
    },
    {
     "name": "stdout",
     "output_type": "stream",
     "text": [
      "\u001b[36m(launch_and_fit pid=75448)\u001b[0m \tTrain Epoch: 7 \tTrain_loss: 1.7216 | Train_acc: 43.2143 % | Validation_loss: 1.6884 | Validation_acc: 46.1504 %\n"
     ]
    },
    {
     "name": "stderr",
     "output_type": "stream",
     "text": [
      " 70%|\u001b[34m███████   \u001b[0m| 7/10 [00:13<00:05,  1.95s/it]\n"
     ]
    },
    {
     "name": "stdout",
     "output_type": "stream",
     "text": [
      "\u001b[36m(launch_and_fit pid=75448)\u001b[0m \tTrain Epoch: 8 \tTrain_loss: 1.7152 | Train_acc: 42.5238 % | Validation_loss: 1.6754 | Validation_acc: 46.1504 %\n"
     ]
    },
    {
     "name": "stderr",
     "output_type": "stream",
     "text": [
      " 80%|\u001b[34m████████  \u001b[0m| 8/10 [00:15<00:03,  1.94s/it]\n"
     ]
    },
    {
     "name": "stdout",
     "output_type": "stream",
     "text": [
      "\u001b[36m(launch_and_fit pid=75448)\u001b[0m \tTrain Epoch: 9 \tTrain_loss: 1.7153 | Train_acc: 42.5893 % | Validation_loss: 1.6652 | Validation_acc: 48.2337 %\n"
     ]
    },
    {
     "name": "stderr",
     "output_type": "stream",
     "text": [
      " 90%|\u001b[34m█████████ \u001b[0m| 9/10 [00:17<00:01,  1.94s/it]\n"
     ]
    },
    {
     "name": "stdout",
     "output_type": "stream",
     "text": [
      "\u001b[36m(launch_and_fit pid=75448)\u001b[0m \tTrain Epoch: 10 \tTrain_loss: 1.7196 | Train_acc: 42.4702 % | Validation_loss: 1.7000 | Validation_acc: 45.1087 %\n",
      "\u001b[36m(launch_and_fit pid=75448)\u001b[0m save graph in  results/FL/\n",
      "\u001b[36m(launch_and_fit pid=75448)\u001b[0m Run WITHOUT homomorphic encryption\n",
      "\u001b[36m(launch_and_fit pid=75448)\u001b[0m  To get the checkpoint\n"
     ]
    },
    {
     "name": "stderr",
     "output_type": "stream",
     "text": [
      "100%|\u001b[34m██████████\u001b[0m| 10/10 [00:19<00:00,  1.96s/it]\n"
     ]
    },
    {
     "name": "stdout",
     "output_type": "stream",
     "text": [
      "\u001b[36m(launch_and_fit pid=75448)\u001b[0m [Client 1, round 11] fit, config: {'learning_rate': 0.003, 'batch_size': '32', 'server_round': 11, 'local_epochs': 10}\n",
      "\u001b[36m(launch_and_fit pid=75448)\u001b[0m Updated model\n"
     ]
    },
    {
     "name": "stderr",
     "output_type": "stream",
     "text": [
      "  0%|\u001b[34m          \u001b[0m| 0/10 [00:00<?, ?it/s]\n"
     ]
    },
    {
     "name": "stdout",
     "output_type": "stream",
     "text": [
      "\u001b[36m(launch_and_fit pid=75448)\u001b[0m \tTrain Epoch: 1 \tTrain_loss: 1.7619 | Train_acc: 36.5238 % | Validation_loss: 1.6802 | Validation_acc: 43.0254 %\n"
     ]
    },
    {
     "name": "stderr",
     "output_type": "stream",
     "text": [
      " 10%|\u001b[34m█         \u001b[0m| 1/10 [00:02<00:18,  2.01s/it]\n"
     ]
    },
    {
     "name": "stdout",
     "output_type": "stream",
     "text": [
      "\u001b[36m(launch_and_fit pid=75448)\u001b[0m \tTrain Epoch: 2 \tTrain_loss: 1.7464 | Train_acc: 37.7857 % | Validation_loss: 1.6976 | Validation_acc: 45.5163 %\n"
     ]
    },
    {
     "name": "stderr",
     "output_type": "stream",
     "text": [
      " 20%|\u001b[34m██        \u001b[0m| 2/10 [00:03<00:15,  1.96s/it]\n"
     ]
    },
    {
     "name": "stdout",
     "output_type": "stream",
     "text": [
      "\u001b[36m(launch_and_fit pid=75448)\u001b[0m \tTrain Epoch: 3 \tTrain_loss: 1.7423 | Train_acc: 37.6012 % | Validation_loss: 1.6876 | Validation_acc: 45.1087 %\n"
     ]
    },
    {
     "name": "stderr",
     "output_type": "stream",
     "text": [
      " 30%|\u001b[34m███       \u001b[0m| 3/10 [00:05<00:13,  1.94s/it]\n"
     ]
    },
    {
     "name": "stdout",
     "output_type": "stream",
     "text": [
      "\u001b[36m(launch_and_fit pid=75448)\u001b[0m \tTrain Epoch: 4 \tTrain_loss: 1.7456 | Train_acc: 38.2679 % | Validation_loss: 1.6841 | Validation_acc: 40.1268 %\n"
     ]
    },
    {
     "name": "stderr",
     "output_type": "stream",
     "text": [
      " 40%|\u001b[34m████      \u001b[0m| 4/10 [00:08<00:12,  2.06s/it]\n"
     ]
    },
    {
     "name": "stdout",
     "output_type": "stream",
     "text": [
      "\u001b[36m(launch_and_fit pid=75448)\u001b[0m \tTrain Epoch: 5 \tTrain_loss: 1.7385 | Train_acc: 39.0357 % | Validation_loss: 1.6794 | Validation_acc: 43.6594 %\n"
     ]
    },
    {
     "name": "stderr",
     "output_type": "stream",
     "text": [
      " 50%|\u001b[34m█████     \u001b[0m| 5/10 [00:10<00:10,  2.01s/it]\n"
     ]
    },
    {
     "name": "stdout",
     "output_type": "stream",
     "text": [
      "\u001b[36m(launch_and_fit pid=75448)\u001b[0m \tTrain Epoch: 6 \tTrain_loss: 1.7331 | Train_acc: 40.0893 % | Validation_loss: 1.7185 | Validation_acc: 44.0670 %\n"
     ]
    },
    {
     "name": "stderr",
     "output_type": "stream",
     "text": [
      " 60%|\u001b[34m██████    \u001b[0m| 6/10 [00:11<00:07,  1.99s/it]\n"
     ]
    },
    {
     "name": "stdout",
     "output_type": "stream",
     "text": [
      "\u001b[36m(launch_and_fit pid=75448)\u001b[0m \tTrain Epoch: 7 \tTrain_loss: 1.7371 | Train_acc: 39.0179 % | Validation_loss: 1.7156 | Validation_acc: 40.9420 %\n"
     ]
    },
    {
     "name": "stderr",
     "output_type": "stream",
     "text": [
      " 70%|\u001b[34m███████   \u001b[0m| 7/10 [00:13<00:05,  1.96s/it]\n"
     ]
    },
    {
     "name": "stdout",
     "output_type": "stream",
     "text": [
      "\u001b[36m(launch_and_fit pid=75448)\u001b[0m \tTrain Epoch: 8 \tTrain_loss: 1.7354 | Train_acc: 40.3929 % | Validation_loss: 1.6880 | Validation_acc: 48.2337 %\n"
     ]
    },
    {
     "name": "stderr",
     "output_type": "stream",
     "text": [
      " 80%|\u001b[34m████████  \u001b[0m| 8/10 [00:15<00:03,  1.94s/it]\n"
     ]
    },
    {
     "name": "stdout",
     "output_type": "stream",
     "text": [
      "\u001b[36m(launch_and_fit pid=75448)\u001b[0m \tTrain Epoch: 9 \tTrain_loss: 1.7231 | Train_acc: 41.7738 % | Validation_loss: 1.7100 | Validation_acc: 44.0670 %\n"
     ]
    },
    {
     "name": "stderr",
     "output_type": "stream",
     "text": [
      " 90%|\u001b[34m█████████ \u001b[0m| 9/10 [00:17<00:01,  1.93s/it]\n",
      "100%|\u001b[34m██████████\u001b[0m| 10/10 [00:19<00:00,  1.96s/it]\n",
      "DEBUG flwr 2024-08-30 02:04:38,866 | server.py:236 | fit_round 11 received 4 results and 0 failures\n"
     ]
    },
    {
     "name": "stdout",
     "output_type": "stream",
     "text": [
      "\u001b[36m(launch_and_fit pid=75448)\u001b[0m \tTrain Epoch: 10 \tTrain_loss: 1.7274 | Train_acc: 40.3333 % | Validation_loss: 1.7071 | Validation_acc: 44.0670 %\n",
      "\u001b[36m(launch_and_fit pid=75448)\u001b[0m save graph in  results/FL/\n",
      "Saving round 11 aggregated_parameters...\n",
      "Updated model\n"
     ]
    },
    {
     "name": "stderr",
     "output_type": "stream",
     "text": [
      "INFO flwr 2024-08-30 02:04:39,754 | server.py:125 | fit progress: (11, 1.7241610884666443, {'accuracy': 40.885416666666664}, 1511.8845705450512)\n",
      "DEBUG flwr 2024-08-30 02:04:39,755 | server.py:173 | evaluate_round 11: strategy sampled 4 clients (out of 4)\n"
     ]
    },
    {
     "name": "stdout",
     "output_type": "stream",
     "text": [
      "Server-side evaluation loss 1.7241610884666443 / accuracy 40.885416666666664\n",
      "\u001b[36m(launch_and_evaluate pid=75448)\u001b[0m Run WITHOUT homomorphic encryption\n",
      "\u001b[36m(launch_and_evaluate pid=75448)\u001b[0m  To get the checkpoint\n",
      "\u001b[36m(launch_and_evaluate pid=75448)\u001b[0m [Client 2] evaluate, config: {}\n",
      "\u001b[36m(launch_and_evaluate pid=75448)\u001b[0m Updated model\n",
      "\u001b[36m(launch_and_evaluate pid=75448)\u001b[0m Run WITHOUT homomorphic encryption\n",
      "\u001b[36m(launch_and_evaluate pid=75448)\u001b[0m  To get the checkpoint\n",
      "\u001b[36m(launch_and_evaluate pid=75448)\u001b[0m [Client 0] evaluate, config: {}\n",
      "\u001b[36m(launch_and_evaluate pid=75448)\u001b[0m Updated model\n",
      "\u001b[36m(launch_and_evaluate pid=75448)\u001b[0m Run WITHOUT homomorphic encryption\n",
      "\u001b[36m(launch_and_evaluate pid=75448)\u001b[0m  To get the checkpoint\n",
      "\u001b[36m(launch_and_evaluate pid=75448)\u001b[0m [Client 1] evaluate, config: {}\n",
      "\u001b[36m(launch_and_evaluate pid=75448)\u001b[0m Updated model\n",
      "\u001b[36m(launch_and_evaluate pid=75448)\u001b[0m Run WITHOUT homomorphic encryption\n",
      "\u001b[36m(launch_and_evaluate pid=75448)\u001b[0m  To get the checkpoint\n",
      "\u001b[36m(launch_and_evaluate pid=75448)\u001b[0m [Client 3] evaluate, config: {}\n",
      "\u001b[36m(launch_and_evaluate pid=75448)\u001b[0m Updated model\n"
     ]
    },
    {
     "name": "stderr",
     "output_type": "stream",
     "text": [
      "DEBUG flwr 2024-08-30 02:04:42,299 | server.py:187 | evaluate_round 11 received 4 results and 0 failures\n",
      "DEBUG flwr 2024-08-30 02:04:42,300 | server.py:222 | fit_round 12: strategy sampled 4 clients (out of 4)\n"
     ]
    },
    {
     "name": "stdout",
     "output_type": "stream",
     "text": [
      "\u001b[36m(launch_and_fit pid=75448)\u001b[0m Run WITHOUT homomorphic encryption\n",
      "\u001b[36m(launch_and_fit pid=75448)\u001b[0m  To get the checkpoint\n",
      "\u001b[36m(launch_and_fit pid=75448)\u001b[0m [Client 1, round 12] fit, config: {'learning_rate': 0.003, 'batch_size': '32', 'server_round': 12, 'local_epochs': 10}\n",
      "\u001b[36m(launch_and_fit pid=75448)\u001b[0m Updated model\n"
     ]
    },
    {
     "name": "stderr",
     "output_type": "stream",
     "text": [
      "  0%|\u001b[34m          \u001b[0m| 0/10 [00:00<?, ?it/s]\n"
     ]
    },
    {
     "name": "stdout",
     "output_type": "stream",
     "text": [
      "\u001b[36m(launch_and_fit pid=75448)\u001b[0m \tTrain Epoch: 1 \tTrain_loss: 1.7608 | Train_acc: 36.3869 % | Validation_loss: 1.7477 | Validation_acc: 38.4511 %\n"
     ]
    },
    {
     "name": "stderr",
     "output_type": "stream",
     "text": [
      " 10%|\u001b[34m█         \u001b[0m| 1/10 [00:01<00:17,  1.99s/it]\n"
     ]
    },
    {
     "name": "stdout",
     "output_type": "stream",
     "text": [
      "\u001b[36m(launch_and_fit pid=75448)\u001b[0m \tTrain Epoch: 2 \tTrain_loss: 1.7433 | Train_acc: 39.1488 % | Validation_loss: 1.6837 | Validation_acc: 46.1504 %\n"
     ]
    },
    {
     "name": "stderr",
     "output_type": "stream",
     "text": [
      " 20%|\u001b[34m██        \u001b[0m| 2/10 [00:04<00:19,  2.48s/it]\n"
     ]
    },
    {
     "name": "stdout",
     "output_type": "stream",
     "text": [
      "\u001b[36m(launch_and_fit pid=75448)\u001b[0m \tTrain Epoch: 3 \tTrain_loss: 1.7563 | Train_acc: 36.9048 % | Validation_loss: 1.6729 | Validation_acc: 41.5761 %\n"
     ]
    },
    {
     "name": "stderr",
     "output_type": "stream",
     "text": [
      " 30%|\u001b[34m███       \u001b[0m| 3/10 [00:10<00:27,  3.90s/it]\n"
     ]
    },
    {
     "name": "stdout",
     "output_type": "stream",
     "text": [
      "\u001b[36m(launch_and_fit pid=75448)\u001b[0m \tTrain Epoch: 4 \tTrain_loss: 1.7486 | Train_acc: 37.8929 % | Validation_loss: 1.6849 | Validation_acc: 44.0670 %\n"
     ]
    },
    {
     "name": "stderr",
     "output_type": "stream",
     "text": [
      " 40%|\u001b[34m████      \u001b[0m| 4/10 [00:16<00:27,  4.61s/it]\n"
     ]
    },
    {
     "name": "stdout",
     "output_type": "stream",
     "text": [
      "\u001b[36m(launch_and_fit pid=75448)\u001b[0m \tTrain Epoch: 5 \tTrain_loss: 1.7312 | Train_acc: 39.7143 % | Validation_loss: 1.7141 | Validation_acc: 41.9837 %\n"
     ]
    },
    {
     "name": "stderr",
     "output_type": "stream",
     "text": [
      " 50%|\u001b[34m█████     \u001b[0m| 5/10 [00:21<00:24,  4.93s/it]\n"
     ]
    },
    {
     "name": "stdout",
     "output_type": "stream",
     "text": [
      "\u001b[36m(launch_and_fit pid=75448)\u001b[0m \tTrain Epoch: 6 \tTrain_loss: 1.7358 | Train_acc: 39.3988 % | Validation_loss: 1.6881 | Validation_acc: 39.4928 %\n"
     ]
    },
    {
     "name": "stderr",
     "output_type": "stream",
     "text": [
      " 60%|\u001b[34m██████    \u001b[0m| 6/10 [00:27<00:21,  5.26s/it]\n"
     ]
    },
    {
     "name": "stdout",
     "output_type": "stream",
     "text": [
      "\u001b[36m(launch_and_fit pid=75448)\u001b[0m \tTrain Epoch: 7 \tTrain_loss: 1.7284 | Train_acc: 40.3333 % | Validation_loss: 1.7135 | Validation_acc: 39.4928 %\n"
     ]
    },
    {
     "name": "stderr",
     "output_type": "stream",
     "text": [
      " 70%|\u001b[34m███████   \u001b[0m| 7/10 [00:33<00:16,  5.37s/it]\n"
     ]
    },
    {
     "name": "stdout",
     "output_type": "stream",
     "text": [
      "\u001b[36m(launch_and_fit pid=75448)\u001b[0m \tTrain Epoch: 8 \tTrain_loss: 1.7212 | Train_acc: 40.2798 % | Validation_loss: 1.6814 | Validation_acc: 45.5163 %\n"
     ]
    },
    {
     "name": "stderr",
     "output_type": "stream",
     "text": [
      " 80%|\u001b[34m████████  \u001b[0m| 8/10 [00:38<00:10,  5.45s/it]\n"
     ]
    },
    {
     "name": "stdout",
     "output_type": "stream",
     "text": [
      "\u001b[36m(launch_and_fit pid=75448)\u001b[0m \tTrain Epoch: 9 \tTrain_loss: 1.7241 | Train_acc: 39.5179 % | Validation_loss: 1.6859 | Validation_acc: 41.9837 %\n"
     ]
    },
    {
     "name": "stderr",
     "output_type": "stream",
     "text": [
      " 90%|\u001b[34m█████████ \u001b[0m| 9/10 [00:44<00:05,  5.53s/it]\n"
     ]
    },
    {
     "name": "stdout",
     "output_type": "stream",
     "text": [
      "\u001b[36m(launch_and_fit pid=75448)\u001b[0m \tTrain Epoch: 10 \tTrain_loss: 1.7174 | Train_acc: 42.2202 % | Validation_loss: 1.7146 | Validation_acc: 42.3913 %\n",
      "\u001b[36m(launch_and_fit pid=75448)\u001b[0m save graph in  results/FL/\n"
     ]
    },
    {
     "name": "stderr",
     "output_type": "stream",
     "text": [
      "100%|\u001b[34m██████████\u001b[0m| 10/10 [00:50<00:00,  5.03s/it]\n"
     ]
    },
    {
     "name": "stdout",
     "output_type": "stream",
     "text": [
      "\u001b[36m(launch_and_fit pid=75448)\u001b[0m Run WITHOUT homomorphic encryption\n",
      "\u001b[36m(launch_and_fit pid=75448)\u001b[0m  To get the checkpoint\n",
      "\u001b[36m(launch_and_fit pid=75448)\u001b[0m [Client 3, round 12] fit, config: {'learning_rate': 0.003, 'batch_size': '32', 'server_round': 12, 'local_epochs': 10}\n",
      "\u001b[36m(launch_and_fit pid=75448)\u001b[0m Updated model\n"
     ]
    },
    {
     "name": "stderr",
     "output_type": "stream",
     "text": [
      "  0%|\u001b[34m          \u001b[0m| 0/10 [00:00<?, ?it/s]\n"
     ]
    },
    {
     "name": "stdout",
     "output_type": "stream",
     "text": [
      "\u001b[36m(launch_and_fit pid=75448)\u001b[0m \tTrain Epoch: 1 \tTrain_loss: 1.7338 | Train_acc: 38.8988 % | Validation_loss: 1.7060 | Validation_acc: 37.4094 %\n"
     ]
    },
    {
     "name": "stderr",
     "output_type": "stream",
     "text": [
      " 10%|\u001b[34m█         \u001b[0m| 1/10 [00:06<00:54,  6.08s/it]\n"
     ]
    },
    {
     "name": "stdout",
     "output_type": "stream",
     "text": [
      "\u001b[36m(launch_and_fit pid=75448)\u001b[0m \tTrain Epoch: 2 \tTrain_loss: 1.7251 | Train_acc: 41.1488 % | Validation_loss: 1.7102 | Validation_acc: 34.9185 %\n"
     ]
    },
    {
     "name": "stderr",
     "output_type": "stream",
     "text": [
      " 20%|\u001b[34m██        \u001b[0m| 2/10 [00:12<00:48,  6.04s/it]\n"
     ]
    },
    {
     "name": "stdout",
     "output_type": "stream",
     "text": [
      "\u001b[36m(launch_and_fit pid=75448)\u001b[0m \tTrain Epoch: 3 \tTrain_loss: 1.7239 | Train_acc: 39.8333 % | Validation_loss: 1.7000 | Validation_acc: 35.9601 %\n"
     ]
    },
    {
     "name": "stderr",
     "output_type": "stream",
     "text": [
      " 30%|\u001b[34m███       \u001b[0m| 3/10 [00:17<00:41,  5.98s/it]\n"
     ]
    },
    {
     "name": "stdout",
     "output_type": "stream",
     "text": [
      "\u001b[36m(launch_and_fit pid=75448)\u001b[0m \tTrain Epoch: 4 \tTrain_loss: 1.7170 | Train_acc: 42.1607 % | Validation_loss: 1.7119 | Validation_acc: 34.5109 %\n"
     ]
    },
    {
     "name": "stderr",
     "output_type": "stream",
     "text": [
      " 40%|\u001b[34m████      \u001b[0m| 4/10 [00:23<00:34,  5.83s/it]\n"
     ]
    },
    {
     "name": "stdout",
     "output_type": "stream",
     "text": [
      "\u001b[36m(launch_and_fit pid=75448)\u001b[0m \tTrain Epoch: 5 \tTrain_loss: 1.7114 | Train_acc: 44.2738 % | Validation_loss: 1.7078 | Validation_acc: 34.2844 %\n"
     ]
    },
    {
     "name": "stderr",
     "output_type": "stream",
     "text": [
      " 50%|\u001b[34m█████     \u001b[0m| 5/10 [00:29<00:28,  5.78s/it]\n"
     ]
    },
    {
     "name": "stdout",
     "output_type": "stream",
     "text": [
      "\u001b[36m(launch_and_fit pid=75448)\u001b[0m \tTrain Epoch: 6 \tTrain_loss: 1.7108 | Train_acc: 42.2738 % | Validation_loss: 1.7120 | Validation_acc: 37.1830 %\n"
     ]
    },
    {
     "name": "stderr",
     "output_type": "stream",
     "text": [
      " 60%|\u001b[34m██████    \u001b[0m| 6/10 [00:34<00:22,  5.71s/it]\n"
     ]
    },
    {
     "name": "stdout",
     "output_type": "stream",
     "text": [
      "\u001b[36m(launch_and_fit pid=75448)\u001b[0m \tTrain Epoch: 7 \tTrain_loss: 1.7265 | Train_acc: 40.0179 % | Validation_loss: 1.7300 | Validation_acc: 35.7337 %\n"
     ]
    },
    {
     "name": "stderr",
     "output_type": "stream",
     "text": [
      " 70%|\u001b[34m███████   \u001b[0m| 7/10 [00:40<00:17,  5.68s/it]\n"
     ]
    },
    {
     "name": "stdout",
     "output_type": "stream",
     "text": [
      "\u001b[36m(launch_and_fit pid=75448)\u001b[0m \tTrain Epoch: 8 \tTrain_loss: 1.7498 | Train_acc: 38.7143 % | Validation_loss: 1.7383 | Validation_acc: 35.5525 %\n"
     ]
    },
    {
     "name": "stderr",
     "output_type": "stream",
     "text": [
      " 80%|\u001b[34m████████  \u001b[0m| 8/10 [00:46<00:11,  5.72s/it]\n"
     ]
    },
    {
     "name": "stdout",
     "output_type": "stream",
     "text": [
      "\u001b[36m(launch_and_fit pid=75448)\u001b[0m \tTrain Epoch: 9 \tTrain_loss: 1.7553 | Train_acc: 37.7738 % | Validation_loss: 1.7281 | Validation_acc: 36.1866 %\n"
     ]
    },
    {
     "name": "stderr",
     "output_type": "stream",
     "text": [
      " 90%|\u001b[34m█████████ \u001b[0m| 9/10 [00:52<00:05,  5.75s/it]\n"
     ]
    },
    {
     "name": "stdout",
     "output_type": "stream",
     "text": [
      "\u001b[36m(launch_and_fit pid=75448)\u001b[0m \tTrain Epoch: 10 \tTrain_loss: 1.7202 | Train_acc: 41.9107 % | Validation_loss: 1.7102 | Validation_acc: 35.5525 %\n",
      "\u001b[36m(launch_and_fit pid=75448)\u001b[0m save graph in  results/FL/\n"
     ]
    },
    {
     "name": "stderr",
     "output_type": "stream",
     "text": [
      "100%|\u001b[34m██████████\u001b[0m| 10/10 [00:57<00:00,  5.80s/it]\n"
     ]
    },
    {
     "name": "stdout",
     "output_type": "stream",
     "text": [
      "\u001b[36m(launch_and_fit pid=75448)\u001b[0m Run WITHOUT homomorphic encryption\n",
      "\u001b[36m(launch_and_fit pid=75448)\u001b[0m  To get the checkpoint\n",
      "\u001b[36m(launch_and_fit pid=75448)\u001b[0m [Client 0, round 12] fit, config: {'learning_rate': 0.003, 'batch_size': '32', 'server_round': 12, 'local_epochs': 10}\n",
      "\u001b[36m(launch_and_fit pid=75448)\u001b[0m Updated model\n"
     ]
    },
    {
     "name": "stderr",
     "output_type": "stream",
     "text": [
      "  0%|\u001b[34m          \u001b[0m| 0/10 [00:00<?, ?it/s]\n"
     ]
    },
    {
     "name": "stdout",
     "output_type": "stream",
     "text": [
      "\u001b[36m(launch_and_fit pid=75448)\u001b[0m \tTrain Epoch: 1 \tTrain_loss: 1.7862 | Train_acc: 33.7679 % | Validation_loss: 1.8185 | Validation_acc: 28.8949 %\n"
     ]
    },
    {
     "name": "stderr",
     "output_type": "stream",
     "text": [
      " 10%|\u001b[34m█         \u001b[0m| 1/10 [00:05<00:51,  5.71s/it]\n"
     ]
    },
    {
     "name": "stdout",
     "output_type": "stream",
     "text": [
      "\u001b[36m(launch_and_fit pid=75448)\u001b[0m \tTrain Epoch: 2 \tTrain_loss: 1.7406 | Train_acc: 37.5714 % | Validation_loss: 1.8276 | Validation_acc: 26.8116 %\n"
     ]
    },
    {
     "name": "stderr",
     "output_type": "stream",
     "text": [
      " 20%|\u001b[34m██        \u001b[0m| 2/10 [00:08<00:33,  4.13s/it]\n"
     ]
    },
    {
     "name": "stdout",
     "output_type": "stream",
     "text": [
      "\u001b[36m(launch_and_fit pid=75448)\u001b[0m \tTrain Epoch: 3 \tTrain_loss: 1.7386 | Train_acc: 37.4643 % | Validation_loss: 1.8233 | Validation_acc: 27.2192 %\n"
     ]
    },
    {
     "name": "stderr",
     "output_type": "stream",
     "text": [
      " 30%|\u001b[34m███       \u001b[0m| 3/10 [00:10<00:21,  3.09s/it]\n"
     ]
    },
    {
     "name": "stdout",
     "output_type": "stream",
     "text": [
      "\u001b[36m(launch_and_fit pid=75448)\u001b[0m \tTrain Epoch: 4 \tTrain_loss: 1.7202 | Train_acc: 40.2083 % | Validation_loss: 1.8835 | Validation_acc: 21.8297 %\n"
     ]
    },
    {
     "name": "stderr",
     "output_type": "stream",
     "text": [
      " 40%|\u001b[34m████      \u001b[0m| 4/10 [00:12<00:15,  2.60s/it]\n"
     ]
    },
    {
     "name": "stdout",
     "output_type": "stream",
     "text": [
      "\u001b[36m(launch_and_fit pid=75448)\u001b[0m \tTrain Epoch: 5 \tTrain_loss: 1.7174 | Train_acc: 41.5179 % | Validation_loss: 1.8328 | Validation_acc: 26.8116 %\n"
     ]
    },
    {
     "name": "stderr",
     "output_type": "stream",
     "text": [
      " 50%|\u001b[34m█████     \u001b[0m| 5/10 [00:14<00:11,  2.34s/it]\n"
     ]
    },
    {
     "name": "stdout",
     "output_type": "stream",
     "text": [
      "\u001b[36m(launch_and_fit pid=75448)\u001b[0m \tTrain Epoch: 6 \tTrain_loss: 1.7190 | Train_acc: 40.0952 % | Validation_loss: 1.8367 | Validation_acc: 25.9964 %\n"
     ]
    },
    {
     "name": "stderr",
     "output_type": "stream",
     "text": [
      " 60%|\u001b[34m██████    \u001b[0m| 6/10 [00:16<00:08,  2.19s/it]\n"
     ]
    },
    {
     "name": "stdout",
     "output_type": "stream",
     "text": [
      "\u001b[36m(launch_and_fit pid=75448)\u001b[0m \tTrain Epoch: 7 \tTrain_loss: 1.7086 | Train_acc: 42.8988 % | Validation_loss: 1.7962 | Validation_acc: 32.0199 %\n"
     ]
    },
    {
     "name": "stderr",
     "output_type": "stream",
     "text": [
      " 70%|\u001b[34m███████   \u001b[0m| 7/10 [00:18<00:06,  2.08s/it]\n"
     ]
    },
    {
     "name": "stdout",
     "output_type": "stream",
     "text": [
      "\u001b[36m(launch_and_fit pid=75448)\u001b[0m \tTrain Epoch: 8 \tTrain_loss: 1.7037 | Train_acc: 41.2083 % | Validation_loss: 1.8077 | Validation_acc: 27.8533 %\n"
     ]
    },
    {
     "name": "stderr",
     "output_type": "stream",
     "text": [
      " 80%|\u001b[34m████████  \u001b[0m| 8/10 [00:19<00:04,  2.02s/it]\n"
     ]
    },
    {
     "name": "stdout",
     "output_type": "stream",
     "text": [
      "\u001b[36m(launch_and_fit pid=75448)\u001b[0m \tTrain Epoch: 9 \tTrain_loss: 1.7147 | Train_acc: 40.8929 % | Validation_loss: 1.8029 | Validation_acc: 30.9783 %\n"
     ]
    },
    {
     "name": "stderr",
     "output_type": "stream",
     "text": [
      " 90%|\u001b[34m█████████ \u001b[0m| 9/10 [00:21<00:01,  1.97s/it]\n"
     ]
    },
    {
     "name": "stdout",
     "output_type": "stream",
     "text": [
      "\u001b[36m(launch_and_fit pid=75448)\u001b[0m \tTrain Epoch: 10 \tTrain_loss: 1.7234 | Train_acc: 38.9583 % | Validation_loss: 1.7806 | Validation_acc: 32.8351 %\n",
      "\u001b[36m(launch_and_fit pid=75448)\u001b[0m save graph in  results/FL/\n"
     ]
    },
    {
     "name": "stderr",
     "output_type": "stream",
     "text": [
      "100%|\u001b[34m██████████\u001b[0m| 10/10 [00:23<00:00,  2.37s/it]\n"
     ]
    },
    {
     "name": "stdout",
     "output_type": "stream",
     "text": [
      "\u001b[36m(launch_and_fit pid=75448)\u001b[0m Run WITHOUT homomorphic encryption\n",
      "\u001b[36m(launch_and_fit pid=75448)\u001b[0m  To get the checkpoint\n",
      "\u001b[36m(launch_and_fit pid=75448)\u001b[0m [Client 2, round 12] fit, config: {'learning_rate': 0.003, 'batch_size': '32', 'server_round': 12, 'local_epochs': 10}\n",
      "\u001b[36m(launch_and_fit pid=75448)\u001b[0m Updated model\n"
     ]
    },
    {
     "name": "stderr",
     "output_type": "stream",
     "text": [
      "  0%|\u001b[34m          \u001b[0m| 0/10 [00:00<?, ?it/s]\n"
     ]
    },
    {
     "name": "stdout",
     "output_type": "stream",
     "text": [
      "\u001b[36m(launch_and_fit pid=75448)\u001b[0m \tTrain Epoch: 1 \tTrain_loss: 1.7748 | Train_acc: 35.9583 % | Validation_loss: 1.6984 | Validation_acc: 44.0670 %\n"
     ]
    },
    {
     "name": "stderr",
     "output_type": "stream",
     "text": [
      " 10%|\u001b[34m█         \u001b[0m| 1/10 [00:01<00:17,  1.98s/it]\n"
     ]
    },
    {
     "name": "stdout",
     "output_type": "stream",
     "text": [
      "\u001b[36m(launch_and_fit pid=75448)\u001b[0m \tTrain Epoch: 2 \tTrain_loss: 1.7527 | Train_acc: 38.3988 % | Validation_loss: 1.6820 | Validation_acc: 45.1087 %\n"
     ]
    },
    {
     "name": "stderr",
     "output_type": "stream",
     "text": [
      " 20%|\u001b[34m██        \u001b[0m| 2/10 [00:03<00:15,  1.99s/it]\n"
     ]
    },
    {
     "name": "stdout",
     "output_type": "stream",
     "text": [
      "\u001b[36m(launch_and_fit pid=75448)\u001b[0m \tTrain Epoch: 3 \tTrain_loss: 1.7385 | Train_acc: 40.2798 % | Validation_loss: 1.6725 | Validation_acc: 49.2754 %\n"
     ]
    },
    {
     "name": "stderr",
     "output_type": "stream",
     "text": [
      " 30%|\u001b[34m███       \u001b[0m| 3/10 [00:06<00:14,  2.01s/it]\n"
     ]
    },
    {
     "name": "stdout",
     "output_type": "stream",
     "text": [
      "\u001b[36m(launch_and_fit pid=75448)\u001b[0m \tTrain Epoch: 4 \tTrain_loss: 1.7380 | Train_acc: 41.0357 % | Validation_loss: 1.7025 | Validation_acc: 45.1087 %\n"
     ]
    },
    {
     "name": "stderr",
     "output_type": "stream",
     "text": [
      " 40%|\u001b[34m████      \u001b[0m| 4/10 [00:07<00:11,  1.96s/it]\n"
     ]
    },
    {
     "name": "stdout",
     "output_type": "stream",
     "text": [
      "\u001b[36m(launch_and_fit pid=75448)\u001b[0m \tTrain Epoch: 5 \tTrain_loss: 1.7318 | Train_acc: 40.5238 % | Validation_loss: 1.6703 | Validation_acc: 46.1504 %\n"
     ]
    },
    {
     "name": "stderr",
     "output_type": "stream",
     "text": [
      " 50%|\u001b[34m█████     \u001b[0m| 5/10 [00:09<00:09,  1.93s/it]\n"
     ]
    },
    {
     "name": "stdout",
     "output_type": "stream",
     "text": [
      "\u001b[36m(launch_and_fit pid=75448)\u001b[0m \tTrain Epoch: 6 \tTrain_loss: 1.7240 | Train_acc: 42.3452 % | Validation_loss: 1.6820 | Validation_acc: 46.1504 %\n"
     ]
    },
    {
     "name": "stderr",
     "output_type": "stream",
     "text": [
      " 60%|\u001b[34m██████    \u001b[0m| 6/10 [00:11<00:07,  1.91s/it]\n"
     ]
    },
    {
     "name": "stdout",
     "output_type": "stream",
     "text": [
      "\u001b[36m(launch_and_fit pid=75448)\u001b[0m \tTrain Epoch: 7 \tTrain_loss: 1.7238 | Train_acc: 41.9643 % | Validation_loss: 1.6820 | Validation_acc: 46.1504 %\n"
     ]
    },
    {
     "name": "stderr",
     "output_type": "stream",
     "text": [
      " 70%|\u001b[34m███████   \u001b[0m| 7/10 [00:13<00:05,  1.92s/it]\n"
     ]
    },
    {
     "name": "stdout",
     "output_type": "stream",
     "text": [
      "\u001b[36m(launch_and_fit pid=75448)\u001b[0m \tTrain Epoch: 8 \tTrain_loss: 1.7225 | Train_acc: 41.9583 % | Validation_loss: 1.6992 | Validation_acc: 46.1504 %\n"
     ]
    },
    {
     "name": "stderr",
     "output_type": "stream",
     "text": [
      " 80%|\u001b[34m████████  \u001b[0m| 8/10 [00:15<00:03,  1.93s/it]\n"
     ]
    },
    {
     "name": "stdout",
     "output_type": "stream",
     "text": [
      "\u001b[36m(launch_and_fit pid=75448)\u001b[0m \tTrain Epoch: 9 \tTrain_loss: 1.7206 | Train_acc: 42.8393 % | Validation_loss: 1.6594 | Validation_acc: 47.1920 %\n"
     ]
    },
    {
     "name": "stderr",
     "output_type": "stream",
     "text": [
      " 90%|\u001b[34m█████████ \u001b[0m| 9/10 [00:17<00:01,  1.93s/it]\n"
     ]
    },
    {
     "name": "stdout",
     "output_type": "stream",
     "text": [
      "\u001b[36m(launch_and_fit pid=75448)\u001b[0m \tTrain Epoch: 10 \tTrain_loss: 1.7152 | Train_acc: 43.1369 % | Validation_loss: 1.6615 | Validation_acc: 47.1920 %\n",
      "\u001b[36m(launch_and_fit pid=75448)\u001b[0m save graph in  results/FL/\n"
     ]
    },
    {
     "name": "stderr",
     "output_type": "stream",
     "text": [
      "100%|\u001b[34m██████████\u001b[0m| 10/10 [00:19<00:00,  1.94s/it]\n",
      "DEBUG flwr 2024-08-30 02:07:17,746 | server.py:236 | fit_round 12 received 4 results and 0 failures\n"
     ]
    },
    {
     "name": "stdout",
     "output_type": "stream",
     "text": [
      "Saving round 12 aggregated_parameters...\n",
      "Updated model\n"
     ]
    },
    {
     "name": "stderr",
     "output_type": "stream",
     "text": [
      "INFO flwr 2024-08-30 02:07:18,593 | server.py:125 | fit progress: (12, 1.723957244838987, {'accuracy': 38.504464285714285}, 1670.7240858050063)\n",
      "DEBUG flwr 2024-08-30 02:07:18,594 | server.py:173 | evaluate_round 12: strategy sampled 4 clients (out of 4)\n"
     ]
    },
    {
     "name": "stdout",
     "output_type": "stream",
     "text": [
      "Server-side evaluation loss 1.723957244838987 / accuracy 38.504464285714285\n",
      "\u001b[36m(launch_and_evaluate pid=75448)\u001b[0m Run WITHOUT homomorphic encryption\n",
      "\u001b[36m(launch_and_evaluate pid=75448)\u001b[0m  To get the checkpoint\n",
      "\u001b[36m(launch_and_evaluate pid=75448)\u001b[0m [Client 2] evaluate, config: {}\n",
      "\u001b[36m(launch_and_evaluate pid=75448)\u001b[0m Updated model\n",
      "\u001b[36m(launch_and_evaluate pid=75448)\u001b[0m Run WITHOUT homomorphic encryption\n",
      "\u001b[36m(launch_and_evaluate pid=75448)\u001b[0m  To get the checkpoint\n",
      "\u001b[36m(launch_and_evaluate pid=75448)\u001b[0m [Client 1] evaluate, config: {}\n",
      "\u001b[36m(launch_and_evaluate pid=75448)\u001b[0m Updated model\n",
      "\u001b[36m(launch_and_evaluate pid=75448)\u001b[0m Run WITHOUT homomorphic encryption\n",
      "\u001b[36m(launch_and_evaluate pid=75448)\u001b[0m  To get the checkpoint\n",
      "\u001b[36m(launch_and_evaluate pid=75448)\u001b[0m [Client 3] evaluate, config: {}\n",
      "\u001b[36m(launch_and_evaluate pid=75448)\u001b[0m Updated model\n",
      "\u001b[36m(launch_and_evaluate pid=75448)\u001b[0m Run WITHOUT homomorphic encryption\n",
      "\u001b[36m(launch_and_evaluate pid=75448)\u001b[0m  To get the checkpoint\n",
      "\u001b[36m(launch_and_evaluate pid=75448)\u001b[0m [Client 0] evaluate, config: {}\n",
      "\u001b[36m(launch_and_evaluate pid=75448)\u001b[0m Updated model\n"
     ]
    },
    {
     "name": "stderr",
     "output_type": "stream",
     "text": [
      "DEBUG flwr 2024-08-30 02:07:21,214 | server.py:187 | evaluate_round 12 received 4 results and 0 failures\n",
      "DEBUG flwr 2024-08-30 02:07:21,215 | server.py:222 | fit_round 13: strategy sampled 4 clients (out of 4)\n"
     ]
    },
    {
     "name": "stdout",
     "output_type": "stream",
     "text": [
      "\u001b[36m(launch_and_fit pid=75448)\u001b[0m Run WITHOUT homomorphic encryption\n",
      "\u001b[36m(launch_and_fit pid=75448)\u001b[0m  To get the checkpoint\n",
      "\u001b[36m(launch_and_fit pid=75448)\u001b[0m [Client 1, round 13] fit, config: {'learning_rate': 0.003, 'batch_size': '32', 'server_round': 13, 'local_epochs': 10}\n",
      "\u001b[36m(launch_and_fit pid=75448)\u001b[0m Updated model\n"
     ]
    },
    {
     "name": "stderr",
     "output_type": "stream",
     "text": [
      "  0%|\u001b[34m          \u001b[0m| 0/10 [00:00<?, ?it/s]\n"
     ]
    },
    {
     "name": "stdout",
     "output_type": "stream",
     "text": [
      "\u001b[36m(launch_and_fit pid=75448)\u001b[0m \tTrain Epoch: 1 \tTrain_loss: 1.7440 | Train_acc: 38.0238 % | Validation_loss: 1.6691 | Validation_acc: 45.1087 %\n"
     ]
    },
    {
     "name": "stderr",
     "output_type": "stream",
     "text": [
      " 10%|\u001b[34m█         \u001b[0m| 1/10 [00:02<00:18,  2.02s/it]\n"
     ]
    },
    {
     "name": "stdout",
     "output_type": "stream",
     "text": [
      "\u001b[36m(launch_and_fit pid=75448)\u001b[0m \tTrain Epoch: 2 \tTrain_loss: 1.7311 | Train_acc: 40.3452 % | Validation_loss: 1.6863 | Validation_acc: 45.9239 %\n"
     ]
    },
    {
     "name": "stderr",
     "output_type": "stream",
     "text": [
      " 20%|\u001b[34m██        \u001b[0m| 2/10 [00:04<00:16,  2.02s/it]\n"
     ]
    },
    {
     "name": "stdout",
     "output_type": "stream",
     "text": [
      "\u001b[36m(launch_and_fit pid=75448)\u001b[0m \tTrain Epoch: 3 \tTrain_loss: 1.7243 | Train_acc: 40.8274 % | Validation_loss: 1.7147 | Validation_acc: 43.4330 %\n"
     ]
    },
    {
     "name": "stderr",
     "output_type": "stream",
     "text": [
      " 30%|\u001b[34m███       \u001b[0m| 3/10 [00:06<00:14,  2.03s/it]\n"
     ]
    },
    {
     "name": "stdout",
     "output_type": "stream",
     "text": [
      "\u001b[36m(launch_and_fit pid=75448)\u001b[0m \tTrain Epoch: 4 \tTrain_loss: 1.7261 | Train_acc: 40.0893 % | Validation_loss: 1.6847 | Validation_acc: 42.6178 %\n"
     ]
    },
    {
     "name": "stderr",
     "output_type": "stream",
     "text": [
      " 40%|\u001b[34m████      \u001b[0m| 4/10 [00:08<00:12,  2.02s/it]\n"
     ]
    },
    {
     "name": "stdout",
     "output_type": "stream",
     "text": [
      "\u001b[36m(launch_and_fit pid=75448)\u001b[0m \tTrain Epoch: 5 \tTrain_loss: 1.7167 | Train_acc: 42.2738 % | Validation_loss: 1.7500 | Validation_acc: 39.4928 %\n"
     ]
    },
    {
     "name": "stderr",
     "output_type": "stream",
     "text": [
      " 50%|\u001b[34m█████     \u001b[0m| 5/10 [00:10<00:10,  2.02s/it]\n"
     ]
    },
    {
     "name": "stdout",
     "output_type": "stream",
     "text": [
      "\u001b[36m(launch_and_fit pid=75448)\u001b[0m \tTrain Epoch: 6 \tTrain_loss: 1.7225 | Train_acc: 40.2738 % | Validation_loss: 1.6810 | Validation_acc: 42.6178 %\n"
     ]
    },
    {
     "name": "stderr",
     "output_type": "stream",
     "text": [
      " 60%|\u001b[34m██████    \u001b[0m| 6/10 [00:12<00:08,  2.01s/it]\n"
     ]
    },
    {
     "name": "stdout",
     "output_type": "stream",
     "text": [
      "\u001b[36m(launch_and_fit pid=75448)\u001b[0m \tTrain Epoch: 7 \tTrain_loss: 1.7140 | Train_acc: 40.8929 % | Validation_loss: 1.6970 | Validation_acc: 44.4746 %\n"
     ]
    },
    {
     "name": "stderr",
     "output_type": "stream",
     "text": [
      " 70%|\u001b[34m███████   \u001b[0m| 7/10 [00:14<00:06,  2.01s/it]\n"
     ]
    },
    {
     "name": "stdout",
     "output_type": "stream",
     "text": [
      "\u001b[36m(launch_and_fit pid=75448)\u001b[0m \tTrain Epoch: 8 \tTrain_loss: 1.7229 | Train_acc: 39.2679 % | Validation_loss: 1.6517 | Validation_acc: 50.0906 %\n"
     ]
    },
    {
     "name": "stderr",
     "output_type": "stream",
     "text": [
      " 80%|\u001b[34m████████  \u001b[0m| 8/10 [00:16<00:03,  1.98s/it]\n"
     ]
    },
    {
     "name": "stdout",
     "output_type": "stream",
     "text": [
      "\u001b[36m(launch_and_fit pid=75448)\u001b[0m \tTrain Epoch: 9 \tTrain_loss: 1.7352 | Train_acc: 38.1012 % | Validation_loss: 1.7236 | Validation_acc: 41.5761 %\n"
     ]
    },
    {
     "name": "stderr",
     "output_type": "stream",
     "text": [
      " 90%|\u001b[34m█████████ \u001b[0m| 9/10 [00:17<00:01,  1.96s/it]\n"
     ]
    },
    {
     "name": "stdout",
     "output_type": "stream",
     "text": [
      "\u001b[36m(launch_and_fit pid=75448)\u001b[0m \tTrain Epoch: 10 \tTrain_loss: 1.7191 | Train_acc: 39.7024 % | Validation_loss: 1.7341 | Validation_acc: 42.6178 %\n",
      "\u001b[36m(launch_and_fit pid=75448)\u001b[0m save graph in  results/FL/\n"
     ]
    },
    {
     "name": "stderr",
     "output_type": "stream",
     "text": [
      "100%|\u001b[34m██████████\u001b[0m| 10/10 [00:19<00:00,  1.99s/it]\n"
     ]
    },
    {
     "name": "stdout",
     "output_type": "stream",
     "text": [
      "\u001b[36m(launch_and_fit pid=75448)\u001b[0m Run WITHOUT homomorphic encryption\n",
      "\u001b[36m(launch_and_fit pid=75448)\u001b[0m  To get the checkpoint\n",
      "\u001b[36m(launch_and_fit pid=75448)\u001b[0m [Client 3, round 13] fit, config: {'learning_rate': 0.003, 'batch_size': '32', 'server_round': 13, 'local_epochs': 10}\n",
      "\u001b[36m(launch_and_fit pid=75448)\u001b[0m Updated model\n"
     ]
    },
    {
     "name": "stderr",
     "output_type": "stream",
     "text": [
      "  0%|\u001b[34m          \u001b[0m| 0/10 [00:00<?, ?it/s]\n"
     ]
    },
    {
     "name": "stdout",
     "output_type": "stream",
     "text": [
      "\u001b[36m(launch_and_fit pid=75448)\u001b[0m \tTrain Epoch: 1 \tTrain_loss: 1.7362 | Train_acc: 39.7083 % | Validation_loss: 1.7162 | Validation_acc: 37.4094 %\n"
     ]
    },
    {
     "name": "stderr",
     "output_type": "stream",
     "text": [
      " 10%|\u001b[34m█         \u001b[0m| 1/10 [00:01<00:17,  1.99s/it]\n"
     ]
    },
    {
     "name": "stdout",
     "output_type": "stream",
     "text": [
      "\u001b[36m(launch_and_fit pid=75448)\u001b[0m \tTrain Epoch: 2 \tTrain_loss: 1.7311 | Train_acc: 40.3452 % | Validation_loss: 1.7173 | Validation_acc: 29.9366 %\n"
     ]
    },
    {
     "name": "stderr",
     "output_type": "stream",
     "text": [
      " 20%|\u001b[34m██        \u001b[0m| 2/10 [00:03<00:15,  1.99s/it]\n"
     ]
    },
    {
     "name": "stdout",
     "output_type": "stream",
     "text": [
      "\u001b[36m(launch_and_fit pid=75448)\u001b[0m \tTrain Epoch: 3 \tTrain_loss: 1.7296 | Train_acc: 38.7738 % | Validation_loss: 1.7415 | Validation_acc: 38.0435 %\n"
     ]
    },
    {
     "name": "stderr",
     "output_type": "stream",
     "text": [
      " 30%|\u001b[34m███       \u001b[0m| 3/10 [00:06<00:14,  2.01s/it]\n"
     ]
    },
    {
     "name": "stdout",
     "output_type": "stream",
     "text": [
      "\u001b[36m(launch_and_fit pid=75448)\u001b[0m \tTrain Epoch: 4 \tTrain_loss: 1.7221 | Train_acc: 41.2798 % | Validation_loss: 1.7149 | Validation_acc: 31.7935 %\n"
     ]
    },
    {
     "name": "stderr",
     "output_type": "stream",
     "text": [
      " 40%|\u001b[34m████      \u001b[0m| 4/10 [00:07<00:11,  1.97s/it]\n"
     ]
    },
    {
     "name": "stdout",
     "output_type": "stream",
     "text": [
      "\u001b[36m(launch_and_fit pid=75448)\u001b[0m \tTrain Epoch: 5 \tTrain_loss: 1.7132 | Train_acc: 43.2857 % | Validation_loss: 1.7054 | Validation_acc: 38.8587 %\n"
     ]
    },
    {
     "name": "stderr",
     "output_type": "stream",
     "text": [
      " 50%|\u001b[34m█████     \u001b[0m| 5/10 [00:09<00:09,  1.95s/it]\n"
     ]
    },
    {
     "name": "stdout",
     "output_type": "stream",
     "text": [
      "\u001b[36m(launch_and_fit pid=75448)\u001b[0m \tTrain Epoch: 6 \tTrain_loss: 1.7198 | Train_acc: 41.9583 % | Validation_loss: 1.7161 | Validation_acc: 34.6920 %\n"
     ]
    },
    {
     "name": "stderr",
     "output_type": "stream",
     "text": [
      " 60%|\u001b[34m██████    \u001b[0m| 6/10 [00:11<00:07,  1.93s/it]\n"
     ]
    },
    {
     "name": "stdout",
     "output_type": "stream",
     "text": [
      "\u001b[36m(launch_and_fit pid=75448)\u001b[0m \tTrain Epoch: 7 \tTrain_loss: 1.7135 | Train_acc: 42.9643 % | Validation_loss: 1.7362 | Validation_acc: 32.4275 %\n"
     ]
    },
    {
     "name": "stderr",
     "output_type": "stream",
     "text": [
      " 70%|\u001b[34m███████   \u001b[0m| 7/10 [00:13<00:05,  1.91s/it]\n"
     ]
    },
    {
     "name": "stdout",
     "output_type": "stream",
     "text": [
      "\u001b[36m(launch_and_fit pid=75448)\u001b[0m \tTrain Epoch: 8 \tTrain_loss: 1.7122 | Train_acc: 44.0952 % | Validation_loss: 1.7228 | Validation_acc: 29.9366 %\n"
     ]
    },
    {
     "name": "stderr",
     "output_type": "stream",
     "text": [
      " 80%|\u001b[34m████████  \u001b[0m| 8/10 [00:15<00:03,  1.90s/it]\n"
     ]
    },
    {
     "name": "stdout",
     "output_type": "stream",
     "text": [
      "\u001b[36m(launch_and_fit pid=75448)\u001b[0m \tTrain Epoch: 9 \tTrain_loss: 1.6983 | Train_acc: 46.8571 % | Validation_loss: 1.7027 | Validation_acc: 37.0018 %\n"
     ]
    },
    {
     "name": "stderr",
     "output_type": "stream",
     "text": [
      " 90%|\u001b[34m█████████ \u001b[0m| 9/10 [00:17<00:01,  1.90s/it]\n"
     ]
    },
    {
     "name": "stdout",
     "output_type": "stream",
     "text": [
      "\u001b[36m(launch_and_fit pid=75448)\u001b[0m \tTrain Epoch: 10 \tTrain_loss: 1.6964 | Train_acc: 45.8988 % | Validation_loss: 1.7043 | Validation_acc: 37.8170 %\n",
      "\u001b[36m(launch_and_fit pid=75448)\u001b[0m save graph in  results/FL/\n"
     ]
    },
    {
     "name": "stderr",
     "output_type": "stream",
     "text": [
      "100%|\u001b[34m██████████\u001b[0m| 10/10 [00:19<00:00,  1.93s/it]\n"
     ]
    },
    {
     "name": "stdout",
     "output_type": "stream",
     "text": [
      "\u001b[36m(launch_and_fit pid=75448)\u001b[0m Run WITHOUT homomorphic encryption\n",
      "\u001b[36m(launch_and_fit pid=75448)\u001b[0m  To get the checkpoint\n",
      "\u001b[36m(launch_and_fit pid=75448)\u001b[0m [Client 0, round 13] fit, config: {'learning_rate': 0.003, 'batch_size': '32', 'server_round': 13, 'local_epochs': 10}\n",
      "\u001b[36m(launch_and_fit pid=75448)\u001b[0m Updated model\n"
     ]
    },
    {
     "name": "stderr",
     "output_type": "stream",
     "text": [
      "  0%|\u001b[34m          \u001b[0m| 0/10 [00:00<?, ?it/s]\n"
     ]
    },
    {
     "name": "stdout",
     "output_type": "stream",
     "text": [
      "\u001b[36m(launch_and_fit pid=75448)\u001b[0m \tTrain Epoch: 1 \tTrain_loss: 1.7339 | Train_acc: 38.2738 % | Validation_loss: 1.7872 | Validation_acc: 33.4692 %\n"
     ]
    },
    {
     "name": "stderr",
     "output_type": "stream",
     "text": [
      " 10%|\u001b[34m█         \u001b[0m| 1/10 [00:01<00:17,  1.97s/it]\n"
     ]
    },
    {
     "name": "stdout",
     "output_type": "stream",
     "text": [
      "\u001b[36m(launch_and_fit pid=75448)\u001b[0m \tTrain Epoch: 2 \tTrain_loss: 1.7202 | Train_acc: 39.7262 % | Validation_loss: 1.8009 | Validation_acc: 34.9185 %\n"
     ]
    },
    {
     "name": "stderr",
     "output_type": "stream",
     "text": [
      " 20%|\u001b[34m██        \u001b[0m| 2/10 [00:03<00:15,  1.99s/it]\n"
     ]
    },
    {
     "name": "stdout",
     "output_type": "stream",
     "text": [
      "\u001b[36m(launch_and_fit pid=75448)\u001b[0m \tTrain Epoch: 3 \tTrain_loss: 1.7180 | Train_acc: 40.2083 % | Validation_loss: 1.7938 | Validation_acc: 32.4275 %\n"
     ]
    },
    {
     "name": "stderr",
     "output_type": "stream",
     "text": [
      " 30%|\u001b[34m███       \u001b[0m| 3/10 [00:06<00:14,  2.01s/it]\n"
     ]
    },
    {
     "name": "stdout",
     "output_type": "stream",
     "text": [
      "\u001b[36m(launch_and_fit pid=75448)\u001b[0m \tTrain Epoch: 4 \tTrain_loss: 1.7144 | Train_acc: 40.2083 % | Validation_loss: 1.8022 | Validation_acc: 34.5109 %\n"
     ]
    },
    {
     "name": "stderr",
     "output_type": "stream",
     "text": [
      " 40%|\u001b[34m████      \u001b[0m| 4/10 [00:07<00:12,  2.00s/it]\n"
     ]
    },
    {
     "name": "stdout",
     "output_type": "stream",
     "text": [
      "\u001b[36m(launch_and_fit pid=75448)\u001b[0m \tTrain Epoch: 5 \tTrain_loss: 1.7201 | Train_acc: 40.2202 % | Validation_loss: 1.7953 | Validation_acc: 35.9601 %\n"
     ]
    },
    {
     "name": "stderr",
     "output_type": "stream",
     "text": [
      " 50%|\u001b[34m█████     \u001b[0m| 5/10 [00:09<00:09,  1.99s/it]\n"
     ]
    },
    {
     "name": "stdout",
     "output_type": "stream",
     "text": [
      "\u001b[36m(launch_and_fit pid=75448)\u001b[0m \tTrain Epoch: 6 \tTrain_loss: 1.7172 | Train_acc: 40.4048 % | Validation_loss: 1.8216 | Validation_acc: 28.2609 %\n"
     ]
    },
    {
     "name": "stderr",
     "output_type": "stream",
     "text": [
      " 60%|\u001b[34m██████    \u001b[0m| 6/10 [00:11<00:07,  1.99s/it]\n"
     ]
    },
    {
     "name": "stdout",
     "output_type": "stream",
     "text": [
      "\u001b[36m(launch_and_fit pid=75448)\u001b[0m \tTrain Epoch: 7 \tTrain_loss: 1.7081 | Train_acc: 41.9048 % | Validation_loss: 1.7982 | Validation_acc: 32.0199 %\n"
     ]
    },
    {
     "name": "stderr",
     "output_type": "stream",
     "text": [
      " 70%|\u001b[34m███████   \u001b[0m| 7/10 [00:13<00:05,  1.98s/it]\n"
     ]
    },
    {
     "name": "stdout",
     "output_type": "stream",
     "text": [
      "\u001b[36m(launch_and_fit pid=75448)\u001b[0m \tTrain Epoch: 8 \tTrain_loss: 1.7231 | Train_acc: 39.0833 % | Validation_loss: 1.8175 | Validation_acc: 28.8949 %\n"
     ]
    },
    {
     "name": "stderr",
     "output_type": "stream",
     "text": [
      " 80%|\u001b[34m████████  \u001b[0m| 8/10 [00:15<00:03,  1.99s/it]\n"
     ]
    },
    {
     "name": "stdout",
     "output_type": "stream",
     "text": [
      "\u001b[36m(launch_and_fit pid=75448)\u001b[0m \tTrain Epoch: 9 \tTrain_loss: 1.6987 | Train_acc: 41.7143 % | Validation_loss: 1.7989 | Validation_acc: 32.0199 %\n"
     ]
    },
    {
     "name": "stderr",
     "output_type": "stream",
     "text": [
      " 90%|\u001b[34m█████████ \u001b[0m| 9/10 [00:17<00:01,  1.98s/it]\n"
     ]
    },
    {
     "name": "stdout",
     "output_type": "stream",
     "text": [
      "\u001b[36m(launch_and_fit pid=75448)\u001b[0m \tTrain Epoch: 10 \tTrain_loss: 1.6967 | Train_acc: 43.2798 % | Validation_loss: 1.8149 | Validation_acc: 29.3025 %\n",
      "\u001b[36m(launch_and_fit pid=75448)\u001b[0m save graph in  results/FL/\n"
     ]
    },
    {
     "name": "stderr",
     "output_type": "stream",
     "text": [
      "100%|\u001b[34m██████████\u001b[0m| 10/10 [00:19<00:00,  1.98s/it]\n"
     ]
    },
    {
     "name": "stdout",
     "output_type": "stream",
     "text": [
      "\u001b[36m(launch_and_fit pid=75448)\u001b[0m Run WITHOUT homomorphic encryption\n",
      "\u001b[36m(launch_and_fit pid=75448)\u001b[0m  To get the checkpoint\n",
      "\u001b[36m(launch_and_fit pid=75448)\u001b[0m [Client 2, round 13] fit, config: {'learning_rate': 0.003, 'batch_size': '32', 'server_round': 13, 'local_epochs': 10}\n",
      "\u001b[36m(launch_and_fit pid=75448)\u001b[0m Updated model\n"
     ]
    },
    {
     "name": "stderr",
     "output_type": "stream",
     "text": [
      "  0%|\u001b[34m          \u001b[0m| 0/10 [00:00<?, ?it/s]\n"
     ]
    },
    {
     "name": "stdout",
     "output_type": "stream",
     "text": [
      "\u001b[36m(launch_and_fit pid=75448)\u001b[0m \tTrain Epoch: 1 \tTrain_loss: 1.7296 | Train_acc: 41.3929 % | Validation_loss: 1.6687 | Validation_acc: 47.1920 %\n"
     ]
    },
    {
     "name": "stderr",
     "output_type": "stream",
     "text": [
      " 10%|\u001b[34m█         \u001b[0m| 1/10 [00:02<00:19,  2.20s/it]\n"
     ]
    },
    {
     "name": "stdout",
     "output_type": "stream",
     "text": [
      "\u001b[36m(launch_and_fit pid=75448)\u001b[0m \tTrain Epoch: 2 \tTrain_loss: 1.7143 | Train_acc: 43.2857 % | Validation_loss: 1.6636 | Validation_acc: 47.1920 %\n"
     ]
    },
    {
     "name": "stderr",
     "output_type": "stream",
     "text": [
      " 20%|\u001b[34m██        \u001b[0m| 2/10 [00:04<00:17,  2.22s/it]\n"
     ]
    },
    {
     "name": "stdout",
     "output_type": "stream",
     "text": [
      "\u001b[36m(launch_and_fit pid=75448)\u001b[0m \tTrain Epoch: 3 \tTrain_loss: 1.7259 | Train_acc: 41.3988 % | Validation_loss: 1.6795 | Validation_acc: 45.1087 %\n"
     ]
    },
    {
     "name": "stderr",
     "output_type": "stream",
     "text": [
      " 30%|\u001b[34m███       \u001b[0m| 3/10 [00:06<00:15,  2.21s/it]\n"
     ]
    },
    {
     "name": "stdout",
     "output_type": "stream",
     "text": [
      "\u001b[36m(launch_and_fit pid=75448)\u001b[0m \tTrain Epoch: 4 \tTrain_loss: 1.7133 | Train_acc: 42.7083 % | Validation_loss: 1.6513 | Validation_acc: 49.2754 %\n"
     ]
    },
    {
     "name": "stderr",
     "output_type": "stream",
     "text": [
      " 40%|\u001b[34m████      \u001b[0m| 4/10 [00:08<00:13,  2.20s/it]\n"
     ]
    },
    {
     "name": "stdout",
     "output_type": "stream",
     "text": [
      "\u001b[36m(launch_and_fit pid=75448)\u001b[0m \tTrain Epoch: 5 \tTrain_loss: 1.7205 | Train_acc: 41.8988 % | Validation_loss: 1.6656 | Validation_acc: 47.1920 %\n"
     ]
    },
    {
     "name": "stderr",
     "output_type": "stream",
     "text": [
      " 50%|\u001b[34m█████     \u001b[0m| 5/10 [00:10<00:10,  2.19s/it]\n"
     ]
    },
    {
     "name": "stdout",
     "output_type": "stream",
     "text": [
      "\u001b[36m(launch_and_fit pid=75448)\u001b[0m \tTrain Epoch: 6 \tTrain_loss: 1.7180 | Train_acc: 42.2798 % | Validation_loss: 1.6753 | Validation_acc: 46.1504 %\n"
     ]
    },
    {
     "name": "stderr",
     "output_type": "stream",
     "text": [
      " 60%|\u001b[34m██████    \u001b[0m| 6/10 [00:13<00:08,  2.16s/it]\n"
     ]
    },
    {
     "name": "stdout",
     "output_type": "stream",
     "text": [
      "\u001b[36m(launch_and_fit pid=75448)\u001b[0m \tTrain Epoch: 7 \tTrain_loss: 1.7107 | Train_acc: 43.5238 % | Validation_loss: 1.6597 | Validation_acc: 48.2337 %\n"
     ]
    },
    {
     "name": "stderr",
     "output_type": "stream",
     "text": [
      " 70%|\u001b[34m███████   \u001b[0m| 7/10 [00:15<00:06,  2.14s/it]\n"
     ]
    },
    {
     "name": "stdout",
     "output_type": "stream",
     "text": [
      "\u001b[36m(launch_and_fit pid=75448)\u001b[0m \tTrain Epoch: 8 \tTrain_loss: 1.7126 | Train_acc: 42.5298 % | Validation_loss: 1.6516 | Validation_acc: 48.2337 %\n"
     ]
    },
    {
     "name": "stderr",
     "output_type": "stream",
     "text": [
      " 80%|\u001b[34m████████  \u001b[0m| 8/10 [00:17<00:04,  2.09s/it]\n"
     ]
    },
    {
     "name": "stdout",
     "output_type": "stream",
     "text": [
      "\u001b[36m(launch_and_fit pid=75448)\u001b[0m \tTrain Epoch: 9 \tTrain_loss: 1.7079 | Train_acc: 44.3333 % | Validation_loss: 1.6697 | Validation_acc: 48.2337 %\n"
     ]
    },
    {
     "name": "stderr",
     "output_type": "stream",
     "text": [
      " 90%|\u001b[34m█████████ \u001b[0m| 9/10 [00:19<00:02,  2.03s/it]\n",
      "100%|\u001b[34m██████████\u001b[0m| 10/10 [00:20<00:00,  2.10s/it]\n",
      "DEBUG flwr 2024-08-30 02:08:42,978 | server.py:236 | fit_round 13 received 4 results and 0 failures\n"
     ]
    },
    {
     "name": "stdout",
     "output_type": "stream",
     "text": [
      "\u001b[36m(launch_and_fit pid=75448)\u001b[0m \tTrain Epoch: 10 \tTrain_loss: 1.7062 | Train_acc: 44.2143 % | Validation_loss: 1.6590 | Validation_acc: 47.1920 %\n",
      "\u001b[36m(launch_and_fit pid=75448)\u001b[0m save graph in  results/FL/\n",
      "Saving round 13 aggregated_parameters...\n",
      "Updated model\n"
     ]
    },
    {
     "name": "stderr",
     "output_type": "stream",
     "text": [
      "INFO flwr 2024-08-30 02:08:43,783 | server.py:125 | fit progress: (13, 1.7227250805922918, {'accuracy': 40.625}, 1755.9138602819294)\n",
      "DEBUG flwr 2024-08-30 02:08:43,784 | server.py:173 | evaluate_round 13: strategy sampled 4 clients (out of 4)\n"
     ]
    },
    {
     "name": "stdout",
     "output_type": "stream",
     "text": [
      "Server-side evaluation loss 1.7227250805922918 / accuracy 40.625\n",
      "\u001b[36m(launch_and_evaluate pid=75448)\u001b[0m Run WITHOUT homomorphic encryption\n",
      "\u001b[36m(launch_and_evaluate pid=75448)\u001b[0m  To get the checkpoint\n",
      "\u001b[36m(launch_and_evaluate pid=75448)\u001b[0m [Client 0] evaluate, config: {}\n",
      "\u001b[36m(launch_and_evaluate pid=75448)\u001b[0m Updated model\n",
      "\u001b[36m(launch_and_evaluate pid=75448)\u001b[0m Run WITHOUT homomorphic encryption\n",
      "\u001b[36m(launch_and_evaluate pid=75448)\u001b[0m  To get the checkpoint\n",
      "\u001b[36m(launch_and_evaluate pid=75448)\u001b[0m [Client 2] evaluate, config: {}\n",
      "\u001b[36m(launch_and_evaluate pid=75448)\u001b[0m Updated model\n",
      "\u001b[36m(launch_and_evaluate pid=75448)\u001b[0m Run WITHOUT homomorphic encryption\n",
      "\u001b[36m(launch_and_evaluate pid=75448)\u001b[0m  To get the checkpoint\n",
      "\u001b[36m(launch_and_evaluate pid=75448)\u001b[0m [Client 1] evaluate, config: {}\n",
      "\u001b[36m(launch_and_evaluate pid=75448)\u001b[0m Updated model\n",
      "\u001b[36m(launch_and_evaluate pid=75448)\u001b[0m Run WITHOUT homomorphic encryption\n",
      "\u001b[36m(launch_and_evaluate pid=75448)\u001b[0m  To get the checkpoint\n",
      "\u001b[36m(launch_and_evaluate pid=75448)\u001b[0m [Client 3] evaluate, config: {}\n",
      "\u001b[36m(launch_and_evaluate pid=75448)\u001b[0m Updated model\n"
     ]
    },
    {
     "name": "stderr",
     "output_type": "stream",
     "text": [
      "DEBUG flwr 2024-08-30 02:08:46,883 | server.py:187 | evaluate_round 13 received 4 results and 0 failures\n",
      "DEBUG flwr 2024-08-30 02:08:46,884 | server.py:222 | fit_round 14: strategy sampled 4 clients (out of 4)\n"
     ]
    },
    {
     "name": "stdout",
     "output_type": "stream",
     "text": [
      "\u001b[36m(launch_and_fit pid=75448)\u001b[0m Run WITHOUT homomorphic encryption\n",
      "\u001b[36m(launch_and_fit pid=75448)\u001b[0m  To get the checkpoint\n",
      "\u001b[36m(launch_and_fit pid=75448)\u001b[0m [Client 1, round 14] fit, config: {'learning_rate': 0.003, 'batch_size': '32', 'server_round': 14, 'local_epochs': 10}\n",
      "\u001b[36m(launch_and_fit pid=75448)\u001b[0m Updated model\n"
     ]
    },
    {
     "name": "stderr",
     "output_type": "stream",
     "text": [
      "  0%|\u001b[34m          \u001b[0m| 0/10 [00:00<?, ?it/s]\n"
     ]
    },
    {
     "name": "stdout",
     "output_type": "stream",
     "text": [
      "\u001b[36m(launch_and_fit pid=75448)\u001b[0m \tTrain Epoch: 1 \tTrain_loss: 1.7611 | Train_acc: 35.1429 % | Validation_loss: 1.6922 | Validation_acc: 43.0254 %\n"
     ]
    },
    {
     "name": "stderr",
     "output_type": "stream",
     "text": [
      " 10%|\u001b[34m█         \u001b[0m| 1/10 [00:02<00:19,  2.12s/it]\n"
     ]
    },
    {
     "name": "stdout",
     "output_type": "stream",
     "text": [
      "\u001b[36m(launch_and_fit pid=75448)\u001b[0m \tTrain Epoch: 2 \tTrain_loss: 1.7315 | Train_acc: 38.4524 % | Validation_loss: 1.7220 | Validation_acc: 41.9837 %\n"
     ]
    },
    {
     "name": "stderr",
     "output_type": "stream",
     "text": [
      " 20%|\u001b[34m██        \u001b[0m| 2/10 [00:04<00:17,  2.13s/it]\n"
     ]
    },
    {
     "name": "stdout",
     "output_type": "stream",
     "text": [
      "\u001b[36m(launch_and_fit pid=75448)\u001b[0m \tTrain Epoch: 3 \tTrain_loss: 1.7287 | Train_acc: 38.9583 % | Validation_loss: 1.7112 | Validation_acc: 42.3913 %\n"
     ]
    },
    {
     "name": "stderr",
     "output_type": "stream",
     "text": [
      " 30%|\u001b[34m███       \u001b[0m| 3/10 [00:06<00:14,  2.13s/it]\n"
     ]
    },
    {
     "name": "stdout",
     "output_type": "stream",
     "text": [
      "\u001b[36m(launch_and_fit pid=75448)\u001b[0m \tTrain Epoch: 4 \tTrain_loss: 1.7191 | Train_acc: 41.5179 % | Validation_loss: 1.7321 | Validation_acc: 36.3678 %\n"
     ]
    },
    {
     "name": "stderr",
     "output_type": "stream",
     "text": [
      " 40%|\u001b[34m████      \u001b[0m| 4/10 [00:08<00:12,  2.14s/it]\n"
     ]
    },
    {
     "name": "stdout",
     "output_type": "stream",
     "text": [
      "\u001b[36m(launch_and_fit pid=75448)\u001b[0m \tTrain Epoch: 5 \tTrain_loss: 1.7340 | Train_acc: 38.5238 % | Validation_loss: 1.6995 | Validation_acc: 42.3913 %\n"
     ]
    },
    {
     "name": "stderr",
     "output_type": "stream",
     "text": [
      " 50%|\u001b[34m█████     \u001b[0m| 5/10 [00:10<00:10,  2.13s/it]\n"
     ]
    },
    {
     "name": "stdout",
     "output_type": "stream",
     "text": [
      "\u001b[36m(launch_and_fit pid=75448)\u001b[0m \tTrain Epoch: 6 \tTrain_loss: 1.7304 | Train_acc: 38.9583 % | Validation_loss: 1.7156 | Validation_acc: 38.8587 %\n"
     ]
    },
    {
     "name": "stderr",
     "output_type": "stream",
     "text": [
      " 60%|\u001b[34m██████    \u001b[0m| 6/10 [00:12<00:08,  2.07s/it]\n"
     ]
    },
    {
     "name": "stdout",
     "output_type": "stream",
     "text": [
      "\u001b[36m(launch_and_fit pid=75448)\u001b[0m \tTrain Epoch: 7 \tTrain_loss: 1.7229 | Train_acc: 40.5893 % | Validation_loss: 1.7048 | Validation_acc: 40.5344 %\n"
     ]
    },
    {
     "name": "stderr",
     "output_type": "stream",
     "text": [
      " 70%|\u001b[34m███████   \u001b[0m| 7/10 [00:14<00:06,  2.09s/it]\n"
     ]
    },
    {
     "name": "stdout",
     "output_type": "stream",
     "text": [
      "\u001b[36m(launch_and_fit pid=75448)\u001b[0m \tTrain Epoch: 8 \tTrain_loss: 1.7396 | Train_acc: 39.0774 % | Validation_loss: 1.7698 | Validation_acc: 33.8768 %\n"
     ]
    },
    {
     "name": "stderr",
     "output_type": "stream",
     "text": [
      " 80%|\u001b[34m████████  \u001b[0m| 8/10 [00:16<00:04,  2.10s/it]\n"
     ]
    },
    {
     "name": "stdout",
     "output_type": "stream",
     "text": [
      "\u001b[36m(launch_and_fit pid=75448)\u001b[0m \tTrain Epoch: 9 \tTrain_loss: 1.7379 | Train_acc: 37.6429 % | Validation_loss: 1.7257 | Validation_acc: 41.9837 %\n"
     ]
    },
    {
     "name": "stderr",
     "output_type": "stream",
     "text": [
      " 90%|\u001b[34m█████████ \u001b[0m| 9/10 [00:19<00:02,  2.12s/it]\n"
     ]
    },
    {
     "name": "stdout",
     "output_type": "stream",
     "text": [
      "\u001b[36m(launch_and_fit pid=75448)\u001b[0m \tTrain Epoch: 10 \tTrain_loss: 1.7326 | Train_acc: 39.2083 % | Validation_loss: 1.7125 | Validation_acc: 41.3496 %\n",
      "\u001b[36m(launch_and_fit pid=75448)\u001b[0m save graph in  results/FL/\n"
     ]
    },
    {
     "name": "stderr",
     "output_type": "stream",
     "text": [
      "100%|\u001b[34m██████████\u001b[0m| 10/10 [00:21<00:00,  2.12s/it]\n"
     ]
    },
    {
     "name": "stdout",
     "output_type": "stream",
     "text": [
      "\u001b[36m(launch_and_fit pid=75448)\u001b[0m Run WITHOUT homomorphic encryption\n",
      "\u001b[36m(launch_and_fit pid=75448)\u001b[0m  To get the checkpoint\n",
      "\u001b[36m(launch_and_fit pid=75448)\u001b[0m [Client 2, round 14] fit, config: {'learning_rate': 0.003, 'batch_size': '32', 'server_round': 14, 'local_epochs': 10}\n",
      "\u001b[36m(launch_and_fit pid=75448)\u001b[0m Updated model\n"
     ]
    },
    {
     "name": "stderr",
     "output_type": "stream",
     "text": [
      "  0%|\u001b[34m          \u001b[0m| 0/10 [00:00<?, ?it/s]\n"
     ]
    },
    {
     "name": "stdout",
     "output_type": "stream",
     "text": [
      "\u001b[36m(launch_and_fit pid=75448)\u001b[0m \tTrain Epoch: 1 \tTrain_loss: 1.7440 | Train_acc: 39.5179 % | Validation_loss: 1.6816 | Validation_acc: 48.2337 %\n"
     ]
    },
    {
     "name": "stderr",
     "output_type": "stream",
     "text": [
      " 10%|\u001b[34m█         \u001b[0m| 1/10 [00:02<00:19,  2.13s/it]\n"
     ]
    },
    {
     "name": "stdout",
     "output_type": "stream",
     "text": [
      "\u001b[36m(launch_and_fit pid=75448)\u001b[0m \tTrain Epoch: 2 \tTrain_loss: 1.7380 | Train_acc: 39.8333 % | Validation_loss: 1.6942 | Validation_acc: 44.0670 %\n"
     ]
    },
    {
     "name": "stderr",
     "output_type": "stream",
     "text": [
      " 20%|\u001b[34m██        \u001b[0m| 2/10 [00:04<00:16,  2.12s/it]\n"
     ]
    },
    {
     "name": "stdout",
     "output_type": "stream",
     "text": [
      "\u001b[36m(launch_and_fit pid=75448)\u001b[0m \tTrain Epoch: 3 \tTrain_loss: 1.7224 | Train_acc: 42.5238 % | Validation_loss: 1.6590 | Validation_acc: 50.7246 %\n"
     ]
    },
    {
     "name": "stderr",
     "output_type": "stream",
     "text": [
      " 30%|\u001b[34m███       \u001b[0m| 3/10 [00:06<00:14,  2.14s/it]\n"
     ]
    },
    {
     "name": "stdout",
     "output_type": "stream",
     "text": [
      "\u001b[36m(launch_and_fit pid=75448)\u001b[0m \tTrain Epoch: 4 \tTrain_loss: 1.7206 | Train_acc: 41.7738 % | Validation_loss: 1.6598 | Validation_acc: 47.1920 %\n"
     ]
    },
    {
     "name": "stderr",
     "output_type": "stream",
     "text": [
      " 40%|\u001b[34m████      \u001b[0m| 4/10 [00:10<00:17,  2.92s/it]\n"
     ]
    },
    {
     "name": "stdout",
     "output_type": "stream",
     "text": [
      "\u001b[36m(launch_and_fit pid=75448)\u001b[0m \tTrain Epoch: 5 \tTrain_loss: 1.7155 | Train_acc: 42.5893 % | Validation_loss: 1.6705 | Validation_acc: 48.2337 %\n"
     ]
    },
    {
     "name": "stderr",
     "output_type": "stream",
     "text": [
      " 50%|\u001b[34m█████     \u001b[0m| 5/10 [00:16<00:19,  3.95s/it]\n"
     ]
    },
    {
     "name": "stdout",
     "output_type": "stream",
     "text": [
      "\u001b[36m(launch_and_fit pid=75448)\u001b[0m \tTrain Epoch: 6 \tTrain_loss: 1.7236 | Train_acc: 41.7798 % | Validation_loss: 1.6683 | Validation_acc: 47.1920 %\n"
     ]
    },
    {
     "name": "stderr",
     "output_type": "stream",
     "text": [
      " 60%|\u001b[34m██████    \u001b[0m| 6/10 [00:22<00:18,  4.72s/it]\n"
     ]
    },
    {
     "name": "stdout",
     "output_type": "stream",
     "text": [
      "\u001b[36m(launch_and_fit pid=75448)\u001b[0m \tTrain Epoch: 7 \tTrain_loss: 1.7139 | Train_acc: 43.4524 % | Validation_loss: 1.6555 | Validation_acc: 47.1920 %\n"
     ]
    },
    {
     "name": "stderr",
     "output_type": "stream",
     "text": [
      " 70%|\u001b[34m███████   \u001b[0m| 7/10 [00:28<00:15,  5.20s/it]\n"
     ]
    },
    {
     "name": "stdout",
     "output_type": "stream",
     "text": [
      "\u001b[36m(launch_and_fit pid=75448)\u001b[0m \tTrain Epoch: 8 \tTrain_loss: 1.7249 | Train_acc: 41.5119 % | Validation_loss: 1.6988 | Validation_acc: 45.1087 %\n"
     ]
    },
    {
     "name": "stderr",
     "output_type": "stream",
     "text": [
      " 80%|\u001b[34m████████  \u001b[0m| 8/10 [00:35<00:11,  5.67s/it]\n"
     ]
    },
    {
     "name": "stdout",
     "output_type": "stream",
     "text": [
      "\u001b[36m(launch_and_fit pid=75448)\u001b[0m \tTrain Epoch: 9 \tTrain_loss: 1.7395 | Train_acc: 40.8393 % | Validation_loss: 1.6895 | Validation_acc: 45.1087 %\n"
     ]
    },
    {
     "name": "stderr",
     "output_type": "stream",
     "text": [
      " 90%|\u001b[34m█████████ \u001b[0m| 9/10 [00:41<00:05,  5.77s/it]\n"
     ]
    },
    {
     "name": "stdout",
     "output_type": "stream",
     "text": [
      "\u001b[36m(launch_and_fit pid=75448)\u001b[0m \tTrain Epoch: 10 \tTrain_loss: 1.7513 | Train_acc: 37.5179 % | Validation_loss: 1.6687 | Validation_acc: 49.2754 %\n",
      "\u001b[36m(launch_and_fit pid=75448)\u001b[0m save graph in  results/FL/\n"
     ]
    },
    {
     "name": "stderr",
     "output_type": "stream",
     "text": [
      "100%|\u001b[34m██████████\u001b[0m| 10/10 [00:47<00:00,  4.75s/it]\n"
     ]
    },
    {
     "name": "stdout",
     "output_type": "stream",
     "text": [
      "\u001b[36m(launch_and_fit pid=75448)\u001b[0m Run WITHOUT homomorphic encryption\n",
      "\u001b[36m(launch_and_fit pid=75448)\u001b[0m  To get the checkpoint\n",
      "\u001b[36m(launch_and_fit pid=75448)\u001b[0m [Client 3, round 14] fit, config: {'learning_rate': 0.003, 'batch_size': '32', 'server_round': 14, 'local_epochs': 10}\n",
      "\u001b[36m(launch_and_fit pid=75448)\u001b[0m Updated model\n"
     ]
    },
    {
     "name": "stderr",
     "output_type": "stream",
     "text": [
      "  0%|\u001b[34m          \u001b[0m| 0/10 [00:00<?, ?it/s]\n"
     ]
    },
    {
     "name": "stdout",
     "output_type": "stream",
     "text": [
      "\u001b[36m(launch_and_fit pid=75448)\u001b[0m \tTrain Epoch: 1 \tTrain_loss: 1.8043 | Train_acc: 30.5893 % | Validation_loss: 1.7490 | Validation_acc: 34.6920 %\n"
     ]
    },
    {
     "name": "stderr",
     "output_type": "stream",
     "text": [
      " 10%|\u001b[34m█         \u001b[0m| 1/10 [00:06<00:58,  6.47s/it]\n"
     ]
    },
    {
     "name": "stdout",
     "output_type": "stream",
     "text": [
      "\u001b[36m(launch_and_fit pid=75448)\u001b[0m \tTrain Epoch: 2 \tTrain_loss: 1.7876 | Train_acc: 33.7083 % | Validation_loss: 1.7817 | Validation_acc: 30.7518 %\n"
     ]
    },
    {
     "name": "stderr",
     "output_type": "stream",
     "text": [
      " 20%|\u001b[34m██        \u001b[0m| 2/10 [00:12<00:49,  6.19s/it]\n"
     ]
    },
    {
     "name": "stdout",
     "output_type": "stream",
     "text": [
      "\u001b[36m(launch_and_fit pid=75448)\u001b[0m \tTrain Epoch: 3 \tTrain_loss: 1.7586 | Train_acc: 38.1607 % | Validation_loss: 1.7141 | Validation_acc: 37.8170 %\n"
     ]
    },
    {
     "name": "stderr",
     "output_type": "stream",
     "text": [
      " 30%|\u001b[34m███       \u001b[0m| 3/10 [00:18<00:43,  6.20s/it]\n"
     ]
    },
    {
     "name": "stdout",
     "output_type": "stream",
     "text": [
      "\u001b[36m(launch_and_fit pid=75448)\u001b[0m \tTrain Epoch: 4 \tTrain_loss: 1.7263 | Train_acc: 40.7738 % | Validation_loss: 1.7199 | Validation_acc: 35.3261 %\n"
     ]
    },
    {
     "name": "stderr",
     "output_type": "stream",
     "text": [
      " 40%|\u001b[34m████      \u001b[0m| 4/10 [00:24<00:36,  6.08s/it]\n"
     ]
    },
    {
     "name": "stdout",
     "output_type": "stream",
     "text": [
      "\u001b[36m(launch_and_fit pid=75448)\u001b[0m \tTrain Epoch: 5 \tTrain_loss: 1.7246 | Train_acc: 39.9583 % | Validation_loss: 1.7190 | Validation_acc: 36.3678 %\n"
     ]
    },
    {
     "name": "stderr",
     "output_type": "stream",
     "text": [
      " 50%|\u001b[34m█████     \u001b[0m| 5/10 [00:30<00:29,  5.95s/it]\n"
     ]
    },
    {
     "name": "stdout",
     "output_type": "stream",
     "text": [
      "\u001b[36m(launch_and_fit pid=75448)\u001b[0m \tTrain Epoch: 6 \tTrain_loss: 1.7100 | Train_acc: 43.2798 % | Validation_loss: 1.6969 | Validation_acc: 41.3496 %\n"
     ]
    },
    {
     "name": "stderr",
     "output_type": "stream",
     "text": [
      " 60%|\u001b[34m██████    \u001b[0m| 6/10 [00:35<00:23,  5.86s/it]\n"
     ]
    },
    {
     "name": "stdout",
     "output_type": "stream",
     "text": [
      "\u001b[36m(launch_and_fit pid=75448)\u001b[0m \tTrain Epoch: 7 \tTrain_loss: 1.7284 | Train_acc: 41.0179 % | Validation_loss: 1.6992 | Validation_acc: 36.3678 %\n"
     ]
    },
    {
     "name": "stderr",
     "output_type": "stream",
     "text": [
      " 70%|\u001b[34m███████   \u001b[0m| 7/10 [00:41<00:17,  5.81s/it]\n"
     ]
    },
    {
     "name": "stdout",
     "output_type": "stream",
     "text": [
      "\u001b[36m(launch_and_fit pid=75448)\u001b[0m \tTrain Epoch: 8 \tTrain_loss: 1.7017 | Train_acc: 43.2202 % | Validation_loss: 1.6948 | Validation_acc: 38.4511 %\n"
     ]
    },
    {
     "name": "stderr",
     "output_type": "stream",
     "text": [
      " 80%|\u001b[34m████████  \u001b[0m| 8/10 [00:47<00:11,  5.83s/it]\n"
     ]
    },
    {
     "name": "stdout",
     "output_type": "stream",
     "text": [
      "\u001b[36m(launch_and_fit pid=75448)\u001b[0m \tTrain Epoch: 9 \tTrain_loss: 1.7091 | Train_acc: 43.5833 % | Validation_loss: 1.7084 | Validation_acc: 34.5109 %\n"
     ]
    },
    {
     "name": "stderr",
     "output_type": "stream",
     "text": [
      " 90%|\u001b[34m█████████ \u001b[0m| 9/10 [00:53<00:05,  5.89s/it]\n"
     ]
    },
    {
     "name": "stdout",
     "output_type": "stream",
     "text": [
      "\u001b[36m(launch_and_fit pid=75448)\u001b[0m \tTrain Epoch: 10 \tTrain_loss: 1.7081 | Train_acc: 41.7798 % | Validation_loss: 1.7093 | Validation_acc: 35.7337 %\n",
      "\u001b[36m(launch_and_fit pid=75448)\u001b[0m save graph in  results/FL/\n"
     ]
    },
    {
     "name": "stderr",
     "output_type": "stream",
     "text": [
      "100%|\u001b[34m██████████\u001b[0m| 10/10 [00:59<00:00,  5.96s/it]\n"
     ]
    },
    {
     "name": "stdout",
     "output_type": "stream",
     "text": [
      "\u001b[36m(launch_and_fit pid=75448)\u001b[0m Run WITHOUT homomorphic encryption\n",
      "\u001b[36m(launch_and_fit pid=75448)\u001b[0m  To get the checkpoint\n",
      "\u001b[36m(launch_and_fit pid=75448)\u001b[0m [Client 0, round 14] fit, config: {'learning_rate': 0.003, 'batch_size': '32', 'server_round': 14, 'local_epochs': 10}\n",
      "\u001b[36m(launch_and_fit pid=75448)\u001b[0m Updated model\n"
     ]
    },
    {
     "name": "stderr",
     "output_type": "stream",
     "text": [
      "  0%|\u001b[34m          \u001b[0m| 0/10 [00:00<?, ?it/s]\n"
     ]
    },
    {
     "name": "stdout",
     "output_type": "stream",
     "text": [
      "\u001b[36m(launch_and_fit pid=75448)\u001b[0m \tTrain Epoch: 1 \tTrain_loss: 1.7238 | Train_acc: 38.8988 % | Validation_loss: 1.8402 | Validation_acc: 29.3025 %\n"
     ]
    },
    {
     "name": "stderr",
     "output_type": "stream",
     "text": [
      " 10%|\u001b[34m█         \u001b[0m| 1/10 [00:06<00:55,  6.19s/it]\n"
     ]
    },
    {
     "name": "stdout",
     "output_type": "stream",
     "text": [
      "\u001b[36m(launch_and_fit pid=75448)\u001b[0m \tTrain Epoch: 2 \tTrain_loss: 1.7246 | Train_acc: 39.3333 % | Validation_loss: 1.7955 | Validation_acc: 35.5525 %\n"
     ]
    },
    {
     "name": "stderr",
     "output_type": "stream",
     "text": [
      " 20%|\u001b[34m██        \u001b[0m| 2/10 [00:11<00:47,  5.91s/it]\n"
     ]
    },
    {
     "name": "stdout",
     "output_type": "stream",
     "text": [
      "\u001b[36m(launch_and_fit pid=75448)\u001b[0m \tTrain Epoch: 3 \tTrain_loss: 1.7143 | Train_acc: 39.8274 % | Validation_loss: 1.8039 | Validation_acc: 29.9366 %\n"
     ]
    },
    {
     "name": "stderr",
     "output_type": "stream",
     "text": [
      " 30%|\u001b[34m███       \u001b[0m| 3/10 [00:17<00:41,  5.95s/it]\n"
     ]
    },
    {
     "name": "stdout",
     "output_type": "stream",
     "text": [
      "\u001b[36m(launch_and_fit pid=75448)\u001b[0m \tTrain Epoch: 4 \tTrain_loss: 1.7019 | Train_acc: 42.8333 % | Validation_loss: 1.7812 | Validation_acc: 33.4692 %\n"
     ]
    },
    {
     "name": "stderr",
     "output_type": "stream",
     "text": [
      " 40%|\u001b[34m████      \u001b[0m| 4/10 [00:23<00:35,  5.97s/it]\n"
     ]
    },
    {
     "name": "stdout",
     "output_type": "stream",
     "text": [
      "\u001b[36m(launch_and_fit pid=75448)\u001b[0m \tTrain Epoch: 5 \tTrain_loss: 1.7013 | Train_acc: 41.7202 % | Validation_loss: 1.7822 | Validation_acc: 34.9185 %\n"
     ]
    },
    {
     "name": "stderr",
     "output_type": "stream",
     "text": [
      " 50%|\u001b[34m█████     \u001b[0m| 5/10 [00:29<00:30,  6.01s/it]\n"
     ]
    },
    {
     "name": "stdout",
     "output_type": "stream",
     "text": [
      "\u001b[36m(launch_and_fit pid=75448)\u001b[0m \tTrain Epoch: 6 \tTrain_loss: 1.6969 | Train_acc: 42.5893 % | Validation_loss: 1.8293 | Validation_acc: 25.1359 %\n"
     ]
    },
    {
     "name": "stderr",
     "output_type": "stream",
     "text": [
      " 60%|\u001b[34m██████    \u001b[0m| 6/10 [00:35<00:23,  5.97s/it]\n"
     ]
    },
    {
     "name": "stdout",
     "output_type": "stream",
     "text": [
      "\u001b[36m(launch_and_fit pid=75448)\u001b[0m \tTrain Epoch: 7 \tTrain_loss: 1.7031 | Train_acc: 42.0952 % | Validation_loss: 1.8036 | Validation_acc: 32.8351 %\n"
     ]
    },
    {
     "name": "stderr",
     "output_type": "stream",
     "text": [
      " 70%|\u001b[34m███████   \u001b[0m| 7/10 [00:41<00:17,  5.96s/it]\n"
     ]
    },
    {
     "name": "stdout",
     "output_type": "stream",
     "text": [
      "\u001b[36m(launch_and_fit pid=75448)\u001b[0m \tTrain Epoch: 8 \tTrain_loss: 1.6928 | Train_acc: 43.1548 % | Validation_loss: 1.8030 | Validation_acc: 30.3442 %\n"
     ]
    },
    {
     "name": "stderr",
     "output_type": "stream",
     "text": [
      " 80%|\u001b[34m████████  \u001b[0m| 8/10 [00:47<00:11,  5.94s/it]\n"
     ]
    },
    {
     "name": "stdout",
     "output_type": "stream",
     "text": [
      "\u001b[36m(launch_and_fit pid=75448)\u001b[0m \tTrain Epoch: 9 \tTrain_loss: 1.6906 | Train_acc: 42.4048 % | Validation_loss: 1.8354 | Validation_acc: 25.7699 %\n"
     ]
    },
    {
     "name": "stderr",
     "output_type": "stream",
     "text": [
      " 90%|\u001b[34m█████████ \u001b[0m| 9/10 [00:53<00:05,  5.95s/it]\n"
     ]
    },
    {
     "name": "stdout",
     "output_type": "stream",
     "text": [
      "\u001b[36m(launch_and_fit pid=75448)\u001b[0m \tTrain Epoch: 10 \tTrain_loss: 1.6933 | Train_acc: 42.8452 % | Validation_loss: 1.7919 | Validation_acc: 30.9783 %\n",
      "\u001b[36m(launch_and_fit pid=75448)\u001b[0m save graph in  results/FL/\n"
     ]
    },
    {
     "name": "stderr",
     "output_type": "stream",
     "text": [
      "100%|\u001b[34m██████████\u001b[0m| 10/10 [00:59<00:00,  5.93s/it]\n",
      "DEBUG flwr 2024-08-30 02:11:58,900 | server.py:236 | fit_round 14 received 4 results and 0 failures\n"
     ]
    },
    {
     "name": "stdout",
     "output_type": "stream",
     "text": [
      "Saving round 14 aggregated_parameters...\n",
      "Updated model\n"
     ]
    },
    {
     "name": "stderr",
     "output_type": "stream",
     "text": [
      "INFO flwr 2024-08-30 02:12:01,585 | server.py:125 | fit progress: (14, 1.7217063478061132, {'accuracy': 39.732142857142854}, 1953.7159612961113)\n",
      "DEBUG flwr 2024-08-30 02:12:01,595 | server.py:173 | evaluate_round 14: strategy sampled 4 clients (out of 4)\n"
     ]
    },
    {
     "name": "stdout",
     "output_type": "stream",
     "text": [
      "Server-side evaluation loss 1.7217063478061132 / accuracy 39.732142857142854\n",
      "\u001b[36m(launch_and_evaluate pid=75448)\u001b[0m Run WITHOUT homomorphic encryption\n",
      "\u001b[36m(launch_and_evaluate pid=75448)\u001b[0m  To get the checkpoint\n",
      "\u001b[36m(launch_and_evaluate pid=75448)\u001b[0m [Client 2] evaluate, config: {}\n",
      "\u001b[36m(launch_and_evaluate pid=75448)\u001b[0m Updated model\n",
      "\u001b[36m(launch_and_evaluate pid=75448)\u001b[0m Run WITHOUT homomorphic encryption\n",
      "\u001b[36m(launch_and_evaluate pid=75448)\u001b[0m  To get the checkpoint\n",
      "\u001b[36m(launch_and_evaluate pid=75448)\u001b[0m [Client 0] evaluate, config: {}\n",
      "\u001b[36m(launch_and_evaluate pid=75448)\u001b[0m Updated model\n",
      "\u001b[36m(launch_and_evaluate pid=75448)\u001b[0m Run WITHOUT homomorphic encryption\n",
      "\u001b[36m(launch_and_evaluate pid=75448)\u001b[0m  To get the checkpoint\n",
      "\u001b[36m(launch_and_evaluate pid=75448)\u001b[0m [Client 1] evaluate, config: {}\n",
      "\u001b[36m(launch_and_evaluate pid=75448)\u001b[0m Updated model\n",
      "\u001b[36m(launch_and_evaluate pid=75448)\u001b[0m Run WITHOUT homomorphic encryption\n",
      "\u001b[36m(launch_and_evaluate pid=75448)\u001b[0m  To get the checkpoint\n",
      "\u001b[36m(launch_and_evaluate pid=75448)\u001b[0m [Client 3] evaluate, config: {}\n",
      "\u001b[36m(launch_and_evaluate pid=75448)\u001b[0m Updated model\n"
     ]
    },
    {
     "name": "stderr",
     "output_type": "stream",
     "text": [
      "DEBUG flwr 2024-08-30 02:12:10,210 | server.py:187 | evaluate_round 14 received 4 results and 0 failures\n",
      "DEBUG flwr 2024-08-30 02:12:10,211 | server.py:222 | fit_round 15: strategy sampled 4 clients (out of 4)\n"
     ]
    },
    {
     "name": "stdout",
     "output_type": "stream",
     "text": [
      "\u001b[36m(launch_and_fit pid=75448)\u001b[0m Run WITHOUT homomorphic encryption\n",
      "\u001b[36m(launch_and_fit pid=75448)\u001b[0m  To get the checkpoint\n",
      "\u001b[36m(launch_and_fit pid=75448)\u001b[0m [Client 2, round 15] fit, config: {'learning_rate': 0.003, 'batch_size': '32', 'server_round': 15, 'local_epochs': 10}\n",
      "\u001b[36m(launch_and_fit pid=75448)\u001b[0m Updated model\n"
     ]
    },
    {
     "name": "stderr",
     "output_type": "stream",
     "text": [
      "  0%|\u001b[34m          \u001b[0m| 0/10 [00:00<?, ?it/s]\n"
     ]
    },
    {
     "name": "stdout",
     "output_type": "stream",
     "text": [
      "\u001b[36m(launch_and_fit pid=75448)\u001b[0m \tTrain Epoch: 1 \tTrain_loss: 1.7554 | Train_acc: 37.3988 % | Validation_loss: 1.7082 | Validation_acc: 44.0670 %\n"
     ]
    },
    {
     "name": "stderr",
     "output_type": "stream",
     "text": [
      " 10%|\u001b[34m█         \u001b[0m| 1/10 [00:02<00:18,  2.03s/it]\n"
     ]
    },
    {
     "name": "stdout",
     "output_type": "stream",
     "text": [
      "\u001b[36m(launch_and_fit pid=75448)\u001b[0m \tTrain Epoch: 2 \tTrain_loss: 1.7407 | Train_acc: 40.4583 % | Validation_loss: 1.6826 | Validation_acc: 44.0670 %\n"
     ]
    },
    {
     "name": "stderr",
     "output_type": "stream",
     "text": [
      " 20%|\u001b[34m██        \u001b[0m| 2/10 [00:04<00:18,  2.28s/it]\n"
     ]
    },
    {
     "name": "stdout",
     "output_type": "stream",
     "text": [
      "\u001b[36m(launch_and_fit pid=75448)\u001b[0m \tTrain Epoch: 3 \tTrain_loss: 1.7268 | Train_acc: 41.7202 % | Validation_loss: 1.6610 | Validation_acc: 48.2337 %\n"
     ]
    },
    {
     "name": "stderr",
     "output_type": "stream",
     "text": [
      " 30%|\u001b[34m███       \u001b[0m| 3/10 [00:06<00:14,  2.14s/it]\n"
     ]
    },
    {
     "name": "stdout",
     "output_type": "stream",
     "text": [
      "\u001b[36m(launch_and_fit pid=75448)\u001b[0m \tTrain Epoch: 4 \tTrain_loss: 1.7286 | Train_acc: 41.3393 % | Validation_loss: 1.6577 | Validation_acc: 47.1920 %\n"
     ]
    },
    {
     "name": "stderr",
     "output_type": "stream",
     "text": [
      " 40%|\u001b[34m████      \u001b[0m| 4/10 [00:08<00:12,  2.07s/it]\n"
     ]
    },
    {
     "name": "stdout",
     "output_type": "stream",
     "text": [
      "\u001b[36m(launch_and_fit pid=75448)\u001b[0m \tTrain Epoch: 5 \tTrain_loss: 1.7218 | Train_acc: 40.9464 % | Validation_loss: 1.6563 | Validation_acc: 48.2337 %\n"
     ]
    },
    {
     "name": "stderr",
     "output_type": "stream",
     "text": [
      " 50%|\u001b[34m█████     \u001b[0m| 5/10 [00:10<00:10,  2.02s/it]\n"
     ]
    },
    {
     "name": "stdout",
     "output_type": "stream",
     "text": [
      "\u001b[36m(launch_and_fit pid=75448)\u001b[0m \tTrain Epoch: 6 \tTrain_loss: 1.7138 | Train_acc: 42.8333 % | Validation_loss: 1.6547 | Validation_acc: 48.2337 %\n"
     ]
    },
    {
     "name": "stderr",
     "output_type": "stream",
     "text": [
      " 60%|\u001b[34m██████    \u001b[0m| 6/10 [00:12<00:07,  2.00s/it]\n"
     ]
    },
    {
     "name": "stdout",
     "output_type": "stream",
     "text": [
      "\u001b[36m(launch_and_fit pid=75448)\u001b[0m \tTrain Epoch: 7 \tTrain_loss: 1.7087 | Train_acc: 42.2143 % | Validation_loss: 1.6663 | Validation_acc: 44.0670 %\n"
     ]
    },
    {
     "name": "stderr",
     "output_type": "stream",
     "text": [
      " 70%|\u001b[34m███████   \u001b[0m| 7/10 [00:14<00:05,  1.98s/it]\n"
     ]
    },
    {
     "name": "stdout",
     "output_type": "stream",
     "text": [
      "\u001b[36m(launch_and_fit pid=75448)\u001b[0m \tTrain Epoch: 8 \tTrain_loss: 1.7112 | Train_acc: 41.8393 % | Validation_loss: 1.6738 | Validation_acc: 44.0670 %\n"
     ]
    },
    {
     "name": "stderr",
     "output_type": "stream",
     "text": [
      " 80%|\u001b[34m████████  \u001b[0m| 8/10 [00:16<00:03,  1.98s/it]\n"
     ]
    },
    {
     "name": "stdout",
     "output_type": "stream",
     "text": [
      "\u001b[36m(launch_and_fit pid=75448)\u001b[0m \tTrain Epoch: 9 \tTrain_loss: 1.7176 | Train_acc: 42.9048 % | Validation_loss: 1.6653 | Validation_acc: 47.1920 %\n"
     ]
    },
    {
     "name": "stderr",
     "output_type": "stream",
     "text": [
      " 90%|\u001b[34m█████████ \u001b[0m| 9/10 [00:18<00:01,  1.98s/it]\n"
     ]
    },
    {
     "name": "stdout",
     "output_type": "stream",
     "text": [
      "\u001b[36m(launch_and_fit pid=75448)\u001b[0m \tTrain Epoch: 10 \tTrain_loss: 1.7015 | Train_acc: 43.8393 % | Validation_loss: 1.6567 | Validation_acc: 48.2337 %\n",
      "\u001b[36m(launch_and_fit pid=75448)\u001b[0m save graph in  results/FL/\n"
     ]
    },
    {
     "name": "stderr",
     "output_type": "stream",
     "text": [
      "100%|\u001b[34m██████████\u001b[0m| 10/10 [00:20<00:00,  2.02s/it]\n"
     ]
    },
    {
     "name": "stdout",
     "output_type": "stream",
     "text": [
      "\u001b[36m(launch_and_fit pid=75448)\u001b[0m Run WITHOUT homomorphic encryption\n",
      "\u001b[36m(launch_and_fit pid=75448)\u001b[0m  To get the checkpoint\n",
      "\u001b[36m(launch_and_fit pid=75448)\u001b[0m [Client 3, round 15] fit, config: {'learning_rate': 0.003, 'batch_size': '32', 'server_round': 15, 'local_epochs': 10}\n",
      "\u001b[36m(launch_and_fit pid=75448)\u001b[0m Updated model\n"
     ]
    },
    {
     "name": "stderr",
     "output_type": "stream",
     "text": [
      "  0%|\u001b[34m          \u001b[0m| 0/10 [00:00<?, ?it/s]\n"
     ]
    },
    {
     "name": "stdout",
     "output_type": "stream",
     "text": [
      "\u001b[36m(launch_and_fit pid=75448)\u001b[0m \tTrain Epoch: 1 \tTrain_loss: 1.7267 | Train_acc: 40.2143 % | Validation_loss: 1.7085 | Validation_acc: 34.2844 %\n"
     ]
    },
    {
     "name": "stderr",
     "output_type": "stream",
     "text": [
      " 10%|\u001b[34m█         \u001b[0m| 1/10 [00:02<00:18,  2.06s/it]\n"
     ]
    },
    {
     "name": "stdout",
     "output_type": "stream",
     "text": [
      "\u001b[36m(launch_and_fit pid=75448)\u001b[0m \tTrain Epoch: 2 \tTrain_loss: 1.7130 | Train_acc: 41.9643 % | Validation_loss: 1.7084 | Validation_acc: 36.3678 %\n"
     ]
    },
    {
     "name": "stderr",
     "output_type": "stream",
     "text": [
      " 20%|\u001b[34m██        \u001b[0m| 2/10 [00:04<00:16,  2.06s/it]\n"
     ]
    },
    {
     "name": "stdout",
     "output_type": "stream",
     "text": [
      "\u001b[36m(launch_and_fit pid=75448)\u001b[0m \tTrain Epoch: 3 \tTrain_loss: 1.7051 | Train_acc: 41.3929 % | Validation_loss: 1.7071 | Validation_acc: 39.9004 %\n"
     ]
    },
    {
     "name": "stderr",
     "output_type": "stream",
     "text": [
      " 30%|\u001b[34m███       \u001b[0m| 3/10 [00:06<00:14,  2.05s/it]\n"
     ]
    },
    {
     "name": "stdout",
     "output_type": "stream",
     "text": [
      "\u001b[36m(launch_and_fit pid=75448)\u001b[0m \tTrain Epoch: 4 \tTrain_loss: 1.7159 | Train_acc: 42.3988 % | Validation_loss: 1.7137 | Validation_acc: 37.0018 %\n"
     ]
    },
    {
     "name": "stderr",
     "output_type": "stream",
     "text": [
      " 40%|\u001b[34m████      \u001b[0m| 4/10 [00:08<00:12,  2.04s/it]\n"
     ]
    },
    {
     "name": "stdout",
     "output_type": "stream",
     "text": [
      "\u001b[36m(launch_and_fit pid=75448)\u001b[0m \tTrain Epoch: 5 \tTrain_loss: 1.6998 | Train_acc: 45.2798 % | Validation_loss: 1.7207 | Validation_acc: 33.2428 %\n"
     ]
    },
    {
     "name": "stderr",
     "output_type": "stream",
     "text": [
      " 50%|\u001b[34m█████     \u001b[0m| 5/10 [00:10<00:10,  2.04s/it]\n"
     ]
    },
    {
     "name": "stdout",
     "output_type": "stream",
     "text": [
      "\u001b[36m(launch_and_fit pid=75448)\u001b[0m \tTrain Epoch: 6 \tTrain_loss: 1.6990 | Train_acc: 42.8988 % | Validation_loss: 1.7112 | Validation_acc: 35.3261 %\n"
     ]
    },
    {
     "name": "stderr",
     "output_type": "stream",
     "text": [
      " 60%|\u001b[34m██████    \u001b[0m| 6/10 [00:12<00:08,  2.03s/it]\n"
     ]
    },
    {
     "name": "stdout",
     "output_type": "stream",
     "text": [
      "\u001b[36m(launch_and_fit pid=75448)\u001b[0m \tTrain Epoch: 7 \tTrain_loss: 1.6926 | Train_acc: 45.7143 % | Validation_loss: 1.7047 | Validation_acc: 36.3678 %\n"
     ]
    },
    {
     "name": "stderr",
     "output_type": "stream",
     "text": [
      " 70%|\u001b[34m███████   \u001b[0m| 7/10 [00:14<00:06,  2.02s/it]\n"
     ]
    },
    {
     "name": "stdout",
     "output_type": "stream",
     "text": [
      "\u001b[36m(launch_and_fit pid=75448)\u001b[0m \tTrain Epoch: 8 \tTrain_loss: 1.6944 | Train_acc: 46.7143 % | Validation_loss: 1.7086 | Validation_acc: 37.4094 %\n"
     ]
    },
    {
     "name": "stderr",
     "output_type": "stream",
     "text": [
      " 80%|\u001b[34m████████  \u001b[0m| 8/10 [00:16<00:04,  2.01s/it]\n"
     ]
    },
    {
     "name": "stdout",
     "output_type": "stream",
     "text": [
      "\u001b[36m(launch_and_fit pid=75448)\u001b[0m \tTrain Epoch: 9 \tTrain_loss: 1.7090 | Train_acc: 42.1488 % | Validation_loss: 1.7148 | Validation_acc: 32.8351 %\n"
     ]
    },
    {
     "name": "stderr",
     "output_type": "stream",
     "text": [
      " 90%|\u001b[34m█████████ \u001b[0m| 9/10 [00:18<00:01,  2.00s/it]\n"
     ]
    },
    {
     "name": "stdout",
     "output_type": "stream",
     "text": [
      "\u001b[36m(launch_and_fit pid=75448)\u001b[0m \tTrain Epoch: 10 \tTrain_loss: 1.7059 | Train_acc: 42.1548 % | Validation_loss: 1.7164 | Validation_acc: 35.9601 %\n",
      "\u001b[36m(launch_and_fit pid=75448)\u001b[0m save graph in  results/FL/\n"
     ]
    },
    {
     "name": "stderr",
     "output_type": "stream",
     "text": [
      "100%|\u001b[34m██████████\u001b[0m| 10/10 [00:20<00:00,  2.01s/it]\n"
     ]
    },
    {
     "name": "stdout",
     "output_type": "stream",
     "text": [
      "\u001b[36m(launch_and_fit pid=75448)\u001b[0m Run WITHOUT homomorphic encryption\n",
      "\u001b[36m(launch_and_fit pid=75448)\u001b[0m  To get the checkpoint\n",
      "\u001b[36m(launch_and_fit pid=75448)\u001b[0m [Client 1, round 15] fit, config: {'learning_rate': 0.003, 'batch_size': '32', 'server_round': 15, 'local_epochs': 10}\n",
      "\u001b[36m(launch_and_fit pid=75448)\u001b[0m Updated model\n"
     ]
    },
    {
     "name": "stderr",
     "output_type": "stream",
     "text": [
      "  0%|\u001b[34m          \u001b[0m| 0/10 [00:00<?, ?it/s]\n"
     ]
    },
    {
     "name": "stdout",
     "output_type": "stream",
     "text": [
      "\u001b[36m(launch_and_fit pid=75448)\u001b[0m \tTrain Epoch: 1 \tTrain_loss: 1.8299 | Train_acc: 30.1488 % | Validation_loss: 1.7722 | Validation_acc: 34.5109 %\n"
     ]
    },
    {
     "name": "stderr",
     "output_type": "stream",
     "text": [
      " 10%|\u001b[34m█         \u001b[0m| 1/10 [00:02<00:18,  2.07s/it]\n"
     ]
    },
    {
     "name": "stdout",
     "output_type": "stream",
     "text": [
      "\u001b[36m(launch_and_fit pid=75448)\u001b[0m \tTrain Epoch: 2 \tTrain_loss: 1.8488 | Train_acc: 27.1488 % | Validation_loss: 1.7961 | Validation_acc: 33.8768 %\n"
     ]
    },
    {
     "name": "stderr",
     "output_type": "stream",
     "text": [
      " 20%|\u001b[34m██        \u001b[0m| 2/10 [00:04<00:16,  2.07s/it]\n"
     ]
    },
    {
     "name": "stdout",
     "output_type": "stream",
     "text": [
      "\u001b[36m(launch_and_fit pid=75448)\u001b[0m \tTrain Epoch: 3 \tTrain_loss: 1.8322 | Train_acc: 28.5119 % | Validation_loss: 1.7674 | Validation_acc: 39.9004 %\n"
     ]
    },
    {
     "name": "stderr",
     "output_type": "stream",
     "text": [
      " 30%|\u001b[34m███       \u001b[0m| 3/10 [00:06<00:14,  2.05s/it]\n"
     ]
    },
    {
     "name": "stdout",
     "output_type": "stream",
     "text": [
      "\u001b[36m(launch_and_fit pid=75448)\u001b[0m \tTrain Epoch: 4 \tTrain_loss: 1.8116 | Train_acc: 29.3274 % | Validation_loss: 1.7573 | Validation_acc: 39.2663 %\n"
     ]
    },
    {
     "name": "stderr",
     "output_type": "stream",
     "text": [
      " 40%|\u001b[34m████      \u001b[0m| 4/10 [00:08<00:12,  2.04s/it]\n"
     ]
    },
    {
     "name": "stdout",
     "output_type": "stream",
     "text": [
      "\u001b[36m(launch_and_fit pid=75448)\u001b[0m \tTrain Epoch: 5 \tTrain_loss: 1.7908 | Train_acc: 30.8869 % | Validation_loss: 1.7067 | Validation_acc: 38.0435 %\n"
     ]
    },
    {
     "name": "stderr",
     "output_type": "stream",
     "text": [
      " 50%|\u001b[34m█████     \u001b[0m| 5/10 [00:10<00:10,  2.04s/it]\n"
     ]
    },
    {
     "name": "stdout",
     "output_type": "stream",
     "text": [
      "\u001b[36m(launch_and_fit pid=75448)\u001b[0m \tTrain Epoch: 6 \tTrain_loss: 1.7826 | Train_acc: 31.9583 % | Validation_loss: 1.7372 | Validation_acc: 37.2283 %\n"
     ]
    },
    {
     "name": "stderr",
     "output_type": "stream",
     "text": [
      " 60%|\u001b[34m██████    \u001b[0m| 6/10 [00:12<00:08,  2.03s/it]\n"
     ]
    },
    {
     "name": "stdout",
     "output_type": "stream",
     "text": [
      "\u001b[36m(launch_and_fit pid=75448)\u001b[0m \tTrain Epoch: 7 \tTrain_loss: 1.7980 | Train_acc: 31.3869 % | Validation_loss: 1.7482 | Validation_acc: 40.3080 %\n"
     ]
    },
    {
     "name": "stderr",
     "output_type": "stream",
     "text": [
      " 70%|\u001b[34m███████   \u001b[0m| 7/10 [00:14<00:06,  2.04s/it]\n"
     ]
    },
    {
     "name": "stdout",
     "output_type": "stream",
     "text": [
      "\u001b[36m(launch_and_fit pid=75448)\u001b[0m \tTrain Epoch: 8 \tTrain_loss: 1.7783 | Train_acc: 36.5298 % | Validation_loss: 1.7043 | Validation_acc: 42.2101 %\n"
     ]
    },
    {
     "name": "stderr",
     "output_type": "stream",
     "text": [
      " 80%|\u001b[34m████████  \u001b[0m| 8/10 [00:16<00:04,  2.05s/it]\n"
     ]
    },
    {
     "name": "stdout",
     "output_type": "stream",
     "text": [
      "\u001b[36m(launch_and_fit pid=75448)\u001b[0m \tTrain Epoch: 9 \tTrain_loss: 1.7803 | Train_acc: 36.1607 % | Validation_loss: 1.6778 | Validation_acc: 46.1504 %\n"
     ]
    },
    {
     "name": "stderr",
     "output_type": "stream",
     "text": [
      " 90%|\u001b[34m█████████ \u001b[0m| 9/10 [00:18<00:02,  2.03s/it]\n"
     ]
    },
    {
     "name": "stdout",
     "output_type": "stream",
     "text": [
      "\u001b[36m(launch_and_fit pid=75448)\u001b[0m \tTrain Epoch: 10 \tTrain_loss: 1.7590 | Train_acc: 38.3988 % | Validation_loss: 1.6780 | Validation_acc: 45.7428 %\n",
      "\u001b[36m(launch_and_fit pid=75448)\u001b[0m save graph in  results/FL/\n"
     ]
    },
    {
     "name": "stderr",
     "output_type": "stream",
     "text": [
      "100%|\u001b[34m██████████\u001b[0m| 10/10 [00:20<00:00,  2.03s/it]\n"
     ]
    },
    {
     "name": "stdout",
     "output_type": "stream",
     "text": [
      "\u001b[36m(launch_and_fit pid=75448)\u001b[0m Run WITHOUT homomorphic encryption\n",
      "\u001b[36m(launch_and_fit pid=75448)\u001b[0m  To get the checkpoint\n",
      "\u001b[36m(launch_and_fit pid=75448)\u001b[0m [Client 0, round 15] fit, config: {'learning_rate': 0.003, 'batch_size': '32', 'server_round': 15, 'local_epochs': 10}\n",
      "\u001b[36m(launch_and_fit pid=75448)\u001b[0m Updated model\n"
     ]
    },
    {
     "name": "stderr",
     "output_type": "stream",
     "text": [
      "  0%|\u001b[34m          \u001b[0m| 0/10 [00:00<?, ?it/s]\n"
     ]
    },
    {
     "name": "stdout",
     "output_type": "stream",
     "text": [
      "\u001b[36m(launch_and_fit pid=75448)\u001b[0m \tTrain Epoch: 1 \tTrain_loss: 1.7283 | Train_acc: 37.4583 % | Validation_loss: 1.8110 | Validation_acc: 30.3442 %\n"
     ]
    },
    {
     "name": "stderr",
     "output_type": "stream",
     "text": [
      " 10%|\u001b[34m█         \u001b[0m| 1/10 [00:01<00:17,  1.97s/it]\n"
     ]
    },
    {
     "name": "stdout",
     "output_type": "stream",
     "text": [
      "\u001b[36m(launch_and_fit pid=75448)\u001b[0m \tTrain Epoch: 2 \tTrain_loss: 1.7260 | Train_acc: 38.8333 % | Validation_loss: 1.7991 | Validation_acc: 32.4275 %\n"
     ]
    },
    {
     "name": "stderr",
     "output_type": "stream",
     "text": [
      " 20%|\u001b[34m██        \u001b[0m| 2/10 [00:04<00:16,  2.07s/it]\n"
     ]
    },
    {
     "name": "stdout",
     "output_type": "stream",
     "text": [
      "\u001b[36m(launch_and_fit pid=75448)\u001b[0m \tTrain Epoch: 3 \tTrain_loss: 1.7074 | Train_acc: 42.0952 % | Validation_loss: 1.7823 | Validation_acc: 34.9185 %\n"
     ]
    },
    {
     "name": "stderr",
     "output_type": "stream",
     "text": [
      " 30%|\u001b[34m███       \u001b[0m| 3/10 [00:06<00:14,  2.11s/it]\n"
     ]
    },
    {
     "name": "stdout",
     "output_type": "stream",
     "text": [
      "\u001b[36m(launch_and_fit pid=75448)\u001b[0m \tTrain Epoch: 4 \tTrain_loss: 1.6980 | Train_acc: 42.6607 % | Validation_loss: 1.7972 | Validation_acc: 31.3859 %\n"
     ]
    },
    {
     "name": "stderr",
     "output_type": "stream",
     "text": [
      " 40%|\u001b[34m████      \u001b[0m| 4/10 [00:08<00:12,  2.12s/it]\n"
     ]
    },
    {
     "name": "stdout",
     "output_type": "stream",
     "text": [
      "\u001b[36m(launch_and_fit pid=75448)\u001b[0m \tTrain Epoch: 5 \tTrain_loss: 1.6939 | Train_acc: 43.1548 % | Validation_loss: 1.7963 | Validation_acc: 28.8949 %\n"
     ]
    },
    {
     "name": "stderr",
     "output_type": "stream",
     "text": [
      " 50%|\u001b[34m█████     \u001b[0m| 5/10 [00:10<00:10,  2.13s/it]\n"
     ]
    },
    {
     "name": "stdout",
     "output_type": "stream",
     "text": [
      "\u001b[36m(launch_and_fit pid=75448)\u001b[0m \tTrain Epoch: 6 \tTrain_loss: 1.7285 | Train_acc: 38.8333 % | Validation_loss: 1.8257 | Validation_acc: 30.3442 %\n"
     ]
    },
    {
     "name": "stderr",
     "output_type": "stream",
     "text": [
      " 60%|\u001b[34m██████    \u001b[0m| 6/10 [00:12<00:08,  2.13s/it]\n"
     ]
    },
    {
     "name": "stdout",
     "output_type": "stream",
     "text": [
      "\u001b[36m(launch_and_fit pid=75448)\u001b[0m \tTrain Epoch: 7 \tTrain_loss: 1.7311 | Train_acc: 38.7143 % | Validation_loss: 1.8229 | Validation_acc: 28.8949 %\n"
     ]
    },
    {
     "name": "stderr",
     "output_type": "stream",
     "text": [
      " 70%|\u001b[34m███████   \u001b[0m| 7/10 [00:14<00:06,  2.10s/it]\n"
     ]
    },
    {
     "name": "stdout",
     "output_type": "stream",
     "text": [
      "\u001b[36m(launch_and_fit pid=75448)\u001b[0m \tTrain Epoch: 8 \tTrain_loss: 1.7064 | Train_acc: 40.2202 % | Validation_loss: 1.8359 | Validation_acc: 27.6268 %\n"
     ]
    },
    {
     "name": "stderr",
     "output_type": "stream",
     "text": [
      " 80%|\u001b[34m████████  \u001b[0m| 8/10 [00:16<00:04,  2.05s/it]\n"
     ]
    },
    {
     "name": "stdout",
     "output_type": "stream",
     "text": [
      "\u001b[36m(launch_and_fit pid=75448)\u001b[0m \tTrain Epoch: 9 \tTrain_loss: 1.7231 | Train_acc: 40.2143 % | Validation_loss: 1.8008 | Validation_acc: 32.8351 %\n"
     ]
    },
    {
     "name": "stderr",
     "output_type": "stream",
     "text": [
      " 90%|\u001b[34m█████████ \u001b[0m| 9/10 [00:18<00:02,  2.01s/it]\n",
      "100%|\u001b[34m██████████\u001b[0m| 10/10 [00:20<00:00,  2.06s/it]\n",
      "DEBUG flwr 2024-08-30 02:13:33,146 | server.py:236 | fit_round 15 received 4 results and 0 failures\n"
     ]
    },
    {
     "name": "stdout",
     "output_type": "stream",
     "text": [
      "\u001b[36m(launch_and_fit pid=75448)\u001b[0m \tTrain Epoch: 10 \tTrain_loss: 1.7066 | Train_acc: 40.9048 % | Validation_loss: 1.7930 | Validation_acc: 31.7935 %\n",
      "\u001b[36m(launch_and_fit pid=75448)\u001b[0m save graph in  results/FL/\n",
      "Saving round 15 aggregated_parameters...\n",
      "Updated model\n"
     ]
    },
    {
     "name": "stderr",
     "output_type": "stream",
     "text": [
      "INFO flwr 2024-08-30 02:13:33,927 | server.py:125 | fit progress: (15, 1.8608024035181319, {'accuracy': 29.575892857142854}, 2046.0583021570928)\n",
      "DEBUG flwr 2024-08-30 02:13:33,929 | server.py:173 | evaluate_round 15: strategy sampled 4 clients (out of 4)\n"
     ]
    },
    {
     "name": "stdout",
     "output_type": "stream",
     "text": [
      "Server-side evaluation loss 1.8608024035181319 / accuracy 29.575892857142854\n",
      "\u001b[36m(launch_and_evaluate pid=75448)\u001b[0m Run WITHOUT homomorphic encryption\n",
      "\u001b[36m(launch_and_evaluate pid=75448)\u001b[0m  To get the checkpoint\n",
      "\u001b[36m(launch_and_evaluate pid=75448)\u001b[0m [Client 2] evaluate, config: {}\n",
      "\u001b[36m(launch_and_evaluate pid=75448)\u001b[0m Updated model\n",
      "\u001b[36m(launch_and_evaluate pid=75448)\u001b[0m Run WITHOUT homomorphic encryption\n",
      "\u001b[36m(launch_and_evaluate pid=75448)\u001b[0m  To get the checkpoint\n",
      "\u001b[36m(launch_and_evaluate pid=75448)\u001b[0m [Client 3] evaluate, config: {}\n",
      "\u001b[36m(launch_and_evaluate pid=75448)\u001b[0m Updated model\n",
      "\u001b[36m(launch_and_evaluate pid=75448)\u001b[0m Run WITHOUT homomorphic encryption\n",
      "\u001b[36m(launch_and_evaluate pid=75448)\u001b[0m  To get the checkpoint\n",
      "\u001b[36m(launch_and_evaluate pid=75448)\u001b[0m [Client 1] evaluate, config: {}\n",
      "\u001b[36m(launch_and_evaluate pid=75448)\u001b[0m Updated model\n",
      "\u001b[36m(launch_and_evaluate pid=75448)\u001b[0m Run WITHOUT homomorphic encryption\n",
      "\u001b[36m(launch_and_evaluate pid=75448)\u001b[0m  To get the checkpoint\n",
      "\u001b[36m(launch_and_evaluate pid=75448)\u001b[0m [Client 0] evaluate, config: {}\n",
      "\u001b[36m(launch_and_evaluate pid=75448)\u001b[0m Updated model\n"
     ]
    },
    {
     "name": "stderr",
     "output_type": "stream",
     "text": [
      "DEBUG flwr 2024-08-30 02:13:36,432 | server.py:187 | evaluate_round 15 received 4 results and 0 failures\n",
      "DEBUG flwr 2024-08-30 02:13:36,433 | server.py:222 | fit_round 16: strategy sampled 4 clients (out of 4)\n"
     ]
    },
    {
     "name": "stdout",
     "output_type": "stream",
     "text": [
      "\u001b[36m(launch_and_fit pid=75448)\u001b[0m Run WITHOUT homomorphic encryption\n",
      "\u001b[36m(launch_and_fit pid=75448)\u001b[0m  To get the checkpoint\n",
      "\u001b[36m(launch_and_fit pid=75448)\u001b[0m [Client 3, round 16] fit, config: {'learning_rate': 0.003, 'batch_size': '32', 'server_round': 16, 'local_epochs': 10}\n",
      "\u001b[36m(launch_and_fit pid=75448)\u001b[0m Updated model\n"
     ]
    },
    {
     "name": "stderr",
     "output_type": "stream",
     "text": [
      "  0%|\u001b[34m          \u001b[0m| 0/10 [00:00<?, ?it/s]\n"
     ]
    },
    {
     "name": "stdout",
     "output_type": "stream",
     "text": [
      "\u001b[36m(launch_and_fit pid=75448)\u001b[0m \tTrain Epoch: 1 \tTrain_loss: 1.7322 | Train_acc: 38.3393 % | Validation_loss: 1.7031 | Validation_acc: 37.4094 %\n"
     ]
    },
    {
     "name": "stderr",
     "output_type": "stream",
     "text": [
      " 10%|\u001b[34m█         \u001b[0m| 1/10 [00:01<00:17,  1.96s/it]\n"
     ]
    },
    {
     "name": "stdout",
     "output_type": "stream",
     "text": [
      "\u001b[36m(launch_and_fit pid=75448)\u001b[0m \tTrain Epoch: 2 \tTrain_loss: 1.7115 | Train_acc: 40.5893 % | Validation_loss: 1.7375 | Validation_acc: 35.3261 %\n"
     ]
    },
    {
     "name": "stderr",
     "output_type": "stream",
     "text": [
      " 20%|\u001b[34m██        \u001b[0m| 2/10 [00:03<00:15,  1.95s/it]\n"
     ]
    },
    {
     "name": "stdout",
     "output_type": "stream",
     "text": [
      "\u001b[36m(launch_and_fit pid=75448)\u001b[0m \tTrain Epoch: 3 \tTrain_loss: 1.7310 | Train_acc: 39.9048 % | Validation_loss: 1.7092 | Validation_acc: 29.3025 %\n"
     ]
    },
    {
     "name": "stderr",
     "output_type": "stream",
     "text": [
      " 30%|\u001b[34m███       \u001b[0m| 3/10 [00:05<00:13,  1.93s/it]\n"
     ]
    },
    {
     "name": "stdout",
     "output_type": "stream",
     "text": [
      "\u001b[36m(launch_and_fit pid=75448)\u001b[0m \tTrain Epoch: 4 \tTrain_loss: 1.7138 | Train_acc: 41.0952 % | Validation_loss: 1.6980 | Validation_acc: 32.6087 %\n"
     ]
    },
    {
     "name": "stderr",
     "output_type": "stream",
     "text": [
      " 40%|\u001b[34m████      \u001b[0m| 4/10 [00:07<00:11,  1.93s/it]\n"
     ]
    },
    {
     "name": "stdout",
     "output_type": "stream",
     "text": [
      "\u001b[36m(launch_and_fit pid=75448)\u001b[0m \tTrain Epoch: 5 \tTrain_loss: 1.7079 | Train_acc: 41.4583 % | Validation_loss: 1.6989 | Validation_acc: 34.5109 %\n"
     ]
    },
    {
     "name": "stderr",
     "output_type": "stream",
     "text": [
      " 50%|\u001b[34m█████     \u001b[0m| 5/10 [00:09<00:09,  1.94s/it]\n"
     ]
    },
    {
     "name": "stdout",
     "output_type": "stream",
     "text": [
      "\u001b[36m(launch_and_fit pid=75448)\u001b[0m \tTrain Epoch: 6 \tTrain_loss: 1.6979 | Train_acc: 43.3988 % | Validation_loss: 1.7055 | Validation_acc: 34.5109 %\n"
     ]
    },
    {
     "name": "stderr",
     "output_type": "stream",
     "text": [
      " 60%|\u001b[34m██████    \u001b[0m| 6/10 [00:11<00:07,  1.95s/it]\n"
     ]
    },
    {
     "name": "stdout",
     "output_type": "stream",
     "text": [
      "\u001b[36m(launch_and_fit pid=75448)\u001b[0m \tTrain Epoch: 7 \tTrain_loss: 1.6924 | Train_acc: 44.2083 % | Validation_loss: 1.7053 | Validation_acc: 34.2844 %\n"
     ]
    },
    {
     "name": "stderr",
     "output_type": "stream",
     "text": [
      " 70%|\u001b[34m███████   \u001b[0m| 7/10 [00:13<00:05,  1.94s/it]\n"
     ]
    },
    {
     "name": "stdout",
     "output_type": "stream",
     "text": [
      "\u001b[36m(launch_and_fit pid=75448)\u001b[0m \tTrain Epoch: 8 \tTrain_loss: 1.6965 | Train_acc: 43.0952 % | Validation_loss: 1.7207 | Validation_acc: 30.9783 %\n"
     ]
    },
    {
     "name": "stderr",
     "output_type": "stream",
     "text": [
      " 80%|\u001b[34m████████  \u001b[0m| 8/10 [00:15<00:03,  1.95s/it]\n"
     ]
    },
    {
     "name": "stdout",
     "output_type": "stream",
     "text": [
      "\u001b[36m(launch_and_fit pid=75448)\u001b[0m \tTrain Epoch: 9 \tTrain_loss: 1.7035 | Train_acc: 43.3452 % | Validation_loss: 1.7093 | Validation_acc: 31.3859 %\n"
     ]
    },
    {
     "name": "stderr",
     "output_type": "stream",
     "text": [
      " 90%|\u001b[34m█████████ \u001b[0m| 9/10 [00:17<00:01,  1.95s/it]\n"
     ]
    },
    {
     "name": "stdout",
     "output_type": "stream",
     "text": [
      "\u001b[36m(launch_and_fit pid=75448)\u001b[0m \tTrain Epoch: 10 \tTrain_loss: 1.6974 | Train_acc: 44.5298 % | Validation_loss: 1.7017 | Validation_acc: 35.9601 %\n",
      "\u001b[36m(launch_and_fit pid=75448)\u001b[0m save graph in  results/FL/\n"
     ]
    },
    {
     "name": "stderr",
     "output_type": "stream",
     "text": [
      "100%|\u001b[34m██████████\u001b[0m| 10/10 [00:19<00:00,  1.94s/it]\n"
     ]
    },
    {
     "name": "stdout",
     "output_type": "stream",
     "text": [
      "\u001b[36m(launch_and_fit pid=75448)\u001b[0m Run WITHOUT homomorphic encryption\n",
      "\u001b[36m(launch_and_fit pid=75448)\u001b[0m  To get the checkpoint\n",
      "\u001b[36m(launch_and_fit pid=75448)\u001b[0m [Client 1, round 16] fit, config: {'learning_rate': 0.003, 'batch_size': '32', 'server_round': 16, 'local_epochs': 10}\n",
      "\u001b[36m(launch_and_fit pid=75448)\u001b[0m Updated model\n"
     ]
    },
    {
     "name": "stderr",
     "output_type": "stream",
     "text": [
      "  0%|\u001b[34m          \u001b[0m| 0/10 [00:00<?, ?it/s]\n"
     ]
    },
    {
     "name": "stdout",
     "output_type": "stream",
     "text": [
      "\u001b[36m(launch_and_fit pid=75448)\u001b[0m \tTrain Epoch: 1 \tTrain_loss: 1.7704 | Train_acc: 33.8988 % | Validation_loss: 1.6777 | Validation_acc: 44.0670 %\n"
     ]
    },
    {
     "name": "stderr",
     "output_type": "stream",
     "text": [
      " 10%|\u001b[34m█         \u001b[0m| 1/10 [00:02<00:18,  2.10s/it]\n"
     ]
    },
    {
     "name": "stdout",
     "output_type": "stream",
     "text": [
      "\u001b[36m(launch_and_fit pid=75448)\u001b[0m \tTrain Epoch: 2 \tTrain_loss: 1.7440 | Train_acc: 37.1548 % | Validation_loss: 1.6796 | Validation_acc: 44.0670 %\n"
     ]
    },
    {
     "name": "stderr",
     "output_type": "stream",
     "text": [
      " 20%|\u001b[34m██        \u001b[0m| 2/10 [00:04<00:16,  2.08s/it]\n"
     ]
    },
    {
     "name": "stdout",
     "output_type": "stream",
     "text": [
      "\u001b[36m(launch_and_fit pid=75448)\u001b[0m \tTrain Epoch: 3 \tTrain_loss: 1.7308 | Train_acc: 38.0833 % | Validation_loss: 1.7009 | Validation_acc: 40.5344 %\n"
     ]
    },
    {
     "name": "stderr",
     "output_type": "stream",
     "text": [
      " 30%|\u001b[34m███       \u001b[0m| 3/10 [00:06<00:14,  2.04s/it]\n"
     ]
    },
    {
     "name": "stdout",
     "output_type": "stream",
     "text": [
      "\u001b[36m(launch_and_fit pid=75448)\u001b[0m \tTrain Epoch: 4 \tTrain_loss: 1.7467 | Train_acc: 38.4643 % | Validation_loss: 1.6690 | Validation_acc: 46.5580 %\n"
     ]
    },
    {
     "name": "stderr",
     "output_type": "stream",
     "text": [
      " 40%|\u001b[34m████      \u001b[0m| 4/10 [00:08<00:12,  2.02s/it]\n"
     ]
    },
    {
     "name": "stdout",
     "output_type": "stream",
     "text": [
      "\u001b[36m(launch_and_fit pid=75448)\u001b[0m \tTrain Epoch: 5 \tTrain_loss: 1.7290 | Train_acc: 40.6548 % | Validation_loss: 1.6816 | Validation_acc: 44.7011 %\n"
     ]
    },
    {
     "name": "stderr",
     "output_type": "stream",
     "text": [
      " 50%|\u001b[34m█████     \u001b[0m| 5/10 [00:10<00:10,  2.03s/it]\n"
     ]
    },
    {
     "name": "stdout",
     "output_type": "stream",
     "text": [
      "\u001b[36m(launch_and_fit pid=75448)\u001b[0m \tTrain Epoch: 6 \tTrain_loss: 1.7190 | Train_acc: 41.3393 % | Validation_loss: 1.6848 | Validation_acc: 46.9656 %\n"
     ]
    },
    {
     "name": "stderr",
     "output_type": "stream",
     "text": [
      " 60%|\u001b[34m██████    \u001b[0m| 6/10 [00:12<00:08,  2.03s/it]\n"
     ]
    },
    {
     "name": "stdout",
     "output_type": "stream",
     "text": [
      "\u001b[36m(launch_and_fit pid=75448)\u001b[0m \tTrain Epoch: 7 \tTrain_loss: 1.7257 | Train_acc: 38.8988 % | Validation_loss: 1.7218 | Validation_acc: 43.0254 %\n"
     ]
    },
    {
     "name": "stderr",
     "output_type": "stream",
     "text": [
      " 70%|\u001b[34m███████   \u001b[0m| 7/10 [00:14<00:06,  2.03s/it]\n"
     ]
    },
    {
     "name": "stdout",
     "output_type": "stream",
     "text": [
      "\u001b[36m(launch_and_fit pid=75448)\u001b[0m \tTrain Epoch: 8 \tTrain_loss: 1.7408 | Train_acc: 39.1429 % | Validation_loss: 1.6965 | Validation_acc: 38.4511 %\n"
     ]
    },
    {
     "name": "stderr",
     "output_type": "stream",
     "text": [
      " 80%|\u001b[34m████████  \u001b[0m| 8/10 [00:16<00:04,  2.03s/it]\n"
     ]
    },
    {
     "name": "stdout",
     "output_type": "stream",
     "text": [
      "\u001b[36m(launch_and_fit pid=75448)\u001b[0m \tTrain Epoch: 9 \tTrain_loss: 1.7256 | Train_acc: 40.6607 % | Validation_loss: 1.6901 | Validation_acc: 43.0254 %\n"
     ]
    },
    {
     "name": "stderr",
     "output_type": "stream",
     "text": [
      " 90%|\u001b[34m█████████ \u001b[0m| 9/10 [00:18<00:02,  2.18s/it]\n"
     ]
    },
    {
     "name": "stdout",
     "output_type": "stream",
     "text": [
      "\u001b[36m(launch_and_fit pid=75448)\u001b[0m \tTrain Epoch: 10 \tTrain_loss: 1.7191 | Train_acc: 41.1548 % | Validation_loss: 1.7113 | Validation_acc: 41.9837 %\n",
      "\u001b[36m(launch_and_fit pid=75448)\u001b[0m save graph in  results/FL/\n"
     ]
    },
    {
     "name": "stderr",
     "output_type": "stream",
     "text": [
      "100%|\u001b[34m██████████\u001b[0m| 10/10 [00:20<00:00,  2.07s/it]\n"
     ]
    },
    {
     "name": "stdout",
     "output_type": "stream",
     "text": [
      "\u001b[36m(launch_and_fit pid=75448)\u001b[0m Run WITHOUT homomorphic encryption\n",
      "\u001b[36m(launch_and_fit pid=75448)\u001b[0m  To get the checkpoint\n",
      "\u001b[36m(launch_and_fit pid=75448)\u001b[0m [Client 2, round 16] fit, config: {'learning_rate': 0.003, 'batch_size': '32', 'server_round': 16, 'local_epochs': 10}\n",
      "\u001b[36m(launch_and_fit pid=75448)\u001b[0m Updated model\n"
     ]
    },
    {
     "name": "stderr",
     "output_type": "stream",
     "text": [
      "  0%|\u001b[34m          \u001b[0m| 0/10 [00:00<?, ?it/s]\n"
     ]
    },
    {
     "name": "stdout",
     "output_type": "stream",
     "text": [
      "\u001b[36m(launch_and_fit pid=75448)\u001b[0m \tTrain Epoch: 1 \tTrain_loss: 1.7416 | Train_acc: 39.3274 % | Validation_loss: 1.6606 | Validation_acc: 50.7246 %\n"
     ]
    },
    {
     "name": "stderr",
     "output_type": "stream",
     "text": [
      " 10%|\u001b[34m█         \u001b[0m| 1/10 [00:01<00:17,  1.94s/it]\n"
     ]
    },
    {
     "name": "stdout",
     "output_type": "stream",
     "text": [
      "\u001b[36m(launch_and_fit pid=75448)\u001b[0m \tTrain Epoch: 2 \tTrain_loss: 1.7125 | Train_acc: 41.4583 % | Validation_loss: 1.6647 | Validation_acc: 46.1504 %\n"
     ]
    },
    {
     "name": "stderr",
     "output_type": "stream",
     "text": [
      " 20%|\u001b[34m██        \u001b[0m| 2/10 [00:03<00:15,  1.94s/it]\n"
     ]
    },
    {
     "name": "stdout",
     "output_type": "stream",
     "text": [
      "\u001b[36m(launch_and_fit pid=75448)\u001b[0m \tTrain Epoch: 3 \tTrain_loss: 1.7168 | Train_acc: 41.2083 % | Validation_loss: 1.6661 | Validation_acc: 47.1920 %\n"
     ]
    },
    {
     "name": "stderr",
     "output_type": "stream",
     "text": [
      " 30%|\u001b[34m███       \u001b[0m| 3/10 [00:05<00:13,  1.95s/it]\n"
     ]
    },
    {
     "name": "stdout",
     "output_type": "stream",
     "text": [
      "\u001b[36m(launch_and_fit pid=75448)\u001b[0m \tTrain Epoch: 4 \tTrain_loss: 1.7174 | Train_acc: 42.5238 % | Validation_loss: 1.6734 | Validation_acc: 46.1504 %\n"
     ]
    },
    {
     "name": "stderr",
     "output_type": "stream",
     "text": [
      " 40%|\u001b[34m████      \u001b[0m| 4/10 [00:07<00:11,  1.96s/it]\n"
     ]
    },
    {
     "name": "stdout",
     "output_type": "stream",
     "text": [
      "\u001b[36m(launch_and_fit pid=75448)\u001b[0m \tTrain Epoch: 5 \tTrain_loss: 1.7057 | Train_acc: 43.3988 % | Validation_loss: 1.6815 | Validation_acc: 45.1087 %\n"
     ]
    },
    {
     "name": "stderr",
     "output_type": "stream",
     "text": [
      " 50%|\u001b[34m█████     \u001b[0m| 5/10 [00:09<00:09,  1.97s/it]\n"
     ]
    },
    {
     "name": "stdout",
     "output_type": "stream",
     "text": [
      "\u001b[36m(launch_and_fit pid=75448)\u001b[0m \tTrain Epoch: 6 \tTrain_loss: 1.7016 | Train_acc: 43.9048 % | Validation_loss: 1.6799 | Validation_acc: 45.1087 %\n"
     ]
    },
    {
     "name": "stderr",
     "output_type": "stream",
     "text": [
      " 60%|\u001b[34m██████    \u001b[0m| 6/10 [00:11<00:07,  1.98s/it]\n"
     ]
    },
    {
     "name": "stdout",
     "output_type": "stream",
     "text": [
      "\u001b[36m(launch_and_fit pid=75448)\u001b[0m \tTrain Epoch: 7 \tTrain_loss: 1.7070 | Train_acc: 43.3452 % | Validation_loss: 1.6838 | Validation_acc: 46.1504 %\n"
     ]
    },
    {
     "name": "stderr",
     "output_type": "stream",
     "text": [
      " 70%|\u001b[34m███████   \u001b[0m| 7/10 [00:13<00:05,  1.97s/it]\n"
     ]
    },
    {
     "name": "stdout",
     "output_type": "stream",
     "text": [
      "\u001b[36m(launch_and_fit pid=75448)\u001b[0m \tTrain Epoch: 8 \tTrain_loss: 1.7063 | Train_acc: 43.9643 % | Validation_loss: 1.6908 | Validation_acc: 46.1504 %\n"
     ]
    },
    {
     "name": "stderr",
     "output_type": "stream",
     "text": [
      " 80%|\u001b[34m████████  \u001b[0m| 8/10 [00:15<00:03,  1.97s/it]\n"
     ]
    },
    {
     "name": "stdout",
     "output_type": "stream",
     "text": [
      "\u001b[36m(launch_and_fit pid=75448)\u001b[0m \tTrain Epoch: 9 \tTrain_loss: 1.7249 | Train_acc: 40.7857 % | Validation_loss: 1.6625 | Validation_acc: 47.1920 %\n"
     ]
    },
    {
     "name": "stderr",
     "output_type": "stream",
     "text": [
      " 90%|\u001b[34m█████████ \u001b[0m| 9/10 [00:17<00:01,  1.96s/it]\n"
     ]
    },
    {
     "name": "stdout",
     "output_type": "stream",
     "text": [
      "\u001b[36m(launch_and_fit pid=75448)\u001b[0m \tTrain Epoch: 10 \tTrain_loss: 1.7015 | Train_acc: 44.3393 % | Validation_loss: 1.6687 | Validation_acc: 46.1504 %\n",
      "\u001b[36m(launch_and_fit pid=75448)\u001b[0m save graph in  results/FL/\n"
     ]
    },
    {
     "name": "stderr",
     "output_type": "stream",
     "text": [
      "100%|\u001b[34m██████████\u001b[0m| 10/10 [00:19<00:00,  1.96s/it]\n"
     ]
    },
    {
     "name": "stdout",
     "output_type": "stream",
     "text": [
      "\u001b[36m(launch_and_fit pid=75448)\u001b[0m Run WITHOUT homomorphic encryption\n",
      "\u001b[36m(launch_and_fit pid=75448)\u001b[0m  To get the checkpoint\n",
      "\u001b[36m(launch_and_fit pid=75448)\u001b[0m [Client 0, round 16] fit, config: {'learning_rate': 0.003, 'batch_size': '32', 'server_round': 16, 'local_epochs': 10}\n",
      "\u001b[36m(launch_and_fit pid=75448)\u001b[0m Updated model\n"
     ]
    },
    {
     "name": "stderr",
     "output_type": "stream",
     "text": [
      "  0%|\u001b[34m          \u001b[0m| 0/10 [00:00<?, ?it/s]\n"
     ]
    },
    {
     "name": "stdout",
     "output_type": "stream",
     "text": [
      "\u001b[36m(launch_and_fit pid=75448)\u001b[0m \tTrain Epoch: 1 \tTrain_loss: 1.7914 | Train_acc: 33.1548 % | Validation_loss: 1.8467 | Validation_acc: 25.3623 %\n"
     ]
    },
    {
     "name": "stderr",
     "output_type": "stream",
     "text": [
      " 10%|\u001b[34m█         \u001b[0m| 1/10 [00:01<00:17,  1.94s/it]\n"
     ]
    },
    {
     "name": "stdout",
     "output_type": "stream",
     "text": [
      "\u001b[36m(launch_and_fit pid=75448)\u001b[0m \tTrain Epoch: 2 \tTrain_loss: 1.7138 | Train_acc: 40.6488 % | Validation_loss: 1.8016 | Validation_acc: 33.4692 %\n"
     ]
    },
    {
     "name": "stderr",
     "output_type": "stream",
     "text": [
      " 20%|\u001b[34m██        \u001b[0m| 2/10 [00:03<00:15,  1.95s/it]\n"
     ]
    },
    {
     "name": "stdout",
     "output_type": "stream",
     "text": [
      "\u001b[36m(launch_and_fit pid=75448)\u001b[0m \tTrain Epoch: 3 \tTrain_loss: 1.7225 | Train_acc: 39.1429 % | Validation_loss: 1.7991 | Validation_acc: 32.4275 %\n"
     ]
    },
    {
     "name": "stderr",
     "output_type": "stream",
     "text": [
      " 30%|\u001b[34m███       \u001b[0m| 3/10 [00:05<00:13,  1.98s/it]\n"
     ]
    },
    {
     "name": "stdout",
     "output_type": "stream",
     "text": [
      "\u001b[36m(launch_and_fit pid=75448)\u001b[0m \tTrain Epoch: 4 \tTrain_loss: 1.7040 | Train_acc: 41.3452 % | Validation_loss: 1.8016 | Validation_acc: 32.4275 %\n"
     ]
    },
    {
     "name": "stderr",
     "output_type": "stream",
     "text": [
      " 40%|\u001b[34m████      \u001b[0m| 4/10 [00:11<00:20,  3.44s/it]\n"
     ]
    },
    {
     "name": "stdout",
     "output_type": "stream",
     "text": [
      "\u001b[36m(launch_and_fit pid=75448)\u001b[0m \tTrain Epoch: 5 \tTrain_loss: 1.7244 | Train_acc: 38.1488 % | Validation_loss: 1.8026 | Validation_acc: 32.0199 %\n"
     ]
    },
    {
     "name": "stderr",
     "output_type": "stream",
     "text": [
      " 50%|\u001b[34m█████     \u001b[0m| 5/10 [00:17<00:21,  4.29s/it]\n"
     ]
    },
    {
     "name": "stdout",
     "output_type": "stream",
     "text": [
      "\u001b[36m(launch_and_fit pid=75448)\u001b[0m \tTrain Epoch: 6 \tTrain_loss: 1.7097 | Train_acc: 40.7917 % | Validation_loss: 1.7939 | Validation_acc: 33.4692 %\n"
     ]
    },
    {
     "name": "stderr",
     "output_type": "stream",
     "text": [
      " 60%|\u001b[34m██████    \u001b[0m| 6/10 [00:23<00:19,  4.84s/it]\n"
     ]
    },
    {
     "name": "stdout",
     "output_type": "stream",
     "text": [
      "\u001b[36m(launch_and_fit pid=75448)\u001b[0m \tTrain Epoch: 7 \tTrain_loss: 1.6977 | Train_acc: 42.1548 % | Validation_loss: 1.8291 | Validation_acc: 29.3025 %\n"
     ]
    },
    {
     "name": "stderr",
     "output_type": "stream",
     "text": [
      " 70%|\u001b[34m███████   \u001b[0m| 7/10 [00:29<00:15,  5.15s/it]\n"
     ]
    },
    {
     "name": "stdout",
     "output_type": "stream",
     "text": [
      "\u001b[36m(launch_and_fit pid=75448)\u001b[0m \tTrain Epoch: 8 \tTrain_loss: 1.6965 | Train_acc: 42.0238 % | Validation_loss: 1.8007 | Validation_acc: 31.3859 %\n"
     ]
    },
    {
     "name": "stderr",
     "output_type": "stream",
     "text": [
      " 80%|\u001b[34m████████  \u001b[0m| 8/10 [00:34<00:10,  5.33s/it]\n"
     ]
    },
    {
     "name": "stdout",
     "output_type": "stream",
     "text": [
      "\u001b[36m(launch_and_fit pid=75448)\u001b[0m \tTrain Epoch: 9 \tTrain_loss: 1.6908 | Train_acc: 42.2798 % | Validation_loss: 1.8169 | Validation_acc: 27.8533 %\n"
     ]
    },
    {
     "name": "stderr",
     "output_type": "stream",
     "text": [
      " 90%|\u001b[34m█████████ \u001b[0m| 9/10 [00:40<00:05,  5.45s/it]\n"
     ]
    },
    {
     "name": "stdout",
     "output_type": "stream",
     "text": [
      "\u001b[36m(launch_and_fit pid=75448)\u001b[0m \tTrain Epoch: 10 \tTrain_loss: 1.7031 | Train_acc: 39.7738 % | Validation_loss: 1.7910 | Validation_acc: 32.4275 %\n",
      "\u001b[36m(launch_and_fit pid=75448)\u001b[0m save graph in  results/FL/\n"
     ]
    },
    {
     "name": "stderr",
     "output_type": "stream",
     "text": [
      "100%|\u001b[34m██████████\u001b[0m| 10/10 [00:46<00:00,  4.60s/it]\n",
      "DEBUG flwr 2024-08-30 02:15:24,505 | server.py:236 | fit_round 16 received 4 results and 0 failures\n"
     ]
    },
    {
     "name": "stdout",
     "output_type": "stream",
     "text": [
      "Saving round 16 aggregated_parameters...\n",
      "Updated model\n"
     ]
    },
    {
     "name": "stderr",
     "output_type": "stream",
     "text": [
      "INFO flwr 2024-08-30 02:15:27,008 | server.py:125 | fit progress: (16, 1.7236578251634325, {'accuracy': 39.0625}, 2159.1390930600464)\n",
      "DEBUG flwr 2024-08-30 02:15:27,074 | server.py:173 | evaluate_round 16: strategy sampled 4 clients (out of 4)\n"
     ]
    },
    {
     "name": "stdout",
     "output_type": "stream",
     "text": [
      "Server-side evaluation loss 1.7236578251634325 / accuracy 39.0625\n",
      "\u001b[36m(launch_and_evaluate pid=75448)\u001b[0m Run WITHOUT homomorphic encryption\n",
      "\u001b[36m(launch_and_evaluate pid=75448)\u001b[0m  To get the checkpoint\n",
      "\u001b[36m(launch_and_evaluate pid=75448)\u001b[0m [Client 0] evaluate, config: {}\n",
      "\u001b[36m(launch_and_evaluate pid=75448)\u001b[0m Updated model\n",
      "\u001b[36m(launch_and_evaluate pid=75448)\u001b[0m Run WITHOUT homomorphic encryption\n",
      "\u001b[36m(launch_and_evaluate pid=75448)\u001b[0m  To get the checkpoint\n",
      "\u001b[36m(launch_and_evaluate pid=75448)\u001b[0m [Client 1] evaluate, config: {}\n",
      "\u001b[36m(launch_and_evaluate pid=75448)\u001b[0m Updated model\n",
      "\u001b[36m(launch_and_evaluate pid=75448)\u001b[0m Run WITHOUT homomorphic encryption\n",
      "\u001b[36m(launch_and_evaluate pid=75448)\u001b[0m  To get the checkpoint\n",
      "\u001b[36m(launch_and_evaluate pid=75448)\u001b[0m [Client 3] evaluate, config: {}\n",
      "\u001b[36m(launch_and_evaluate pid=75448)\u001b[0m Updated model\n",
      "\u001b[36m(launch_and_evaluate pid=75448)\u001b[0m Run WITHOUT homomorphic encryption\n",
      "\u001b[36m(launch_and_evaluate pid=75448)\u001b[0m  To get the checkpoint\n",
      "\u001b[36m(launch_and_evaluate pid=75448)\u001b[0m [Client 2] evaluate, config: {}\n",
      "\u001b[36m(launch_and_evaluate pid=75448)\u001b[0m Updated model\n"
     ]
    },
    {
     "name": "stderr",
     "output_type": "stream",
     "text": [
      "DEBUG flwr 2024-08-30 02:15:35,682 | server.py:187 | evaluate_round 16 received 4 results and 0 failures\n",
      "DEBUG flwr 2024-08-30 02:15:35,683 | server.py:222 | fit_round 17: strategy sampled 4 clients (out of 4)\n"
     ]
    },
    {
     "name": "stdout",
     "output_type": "stream",
     "text": [
      "\u001b[36m(launch_and_fit pid=75448)\u001b[0m Run WITHOUT homomorphic encryption\n",
      "\u001b[36m(launch_and_fit pid=75448)\u001b[0m  To get the checkpoint\n",
      "\u001b[36m(launch_and_fit pid=75448)\u001b[0m [Client 2, round 17] fit, config: {'learning_rate': 0.003, 'batch_size': '32', 'server_round': 17, 'local_epochs': 10}\n",
      "\u001b[36m(launch_and_fit pid=75448)\u001b[0m Updated model\n"
     ]
    },
    {
     "name": "stderr",
     "output_type": "stream",
     "text": [
      "  0%|\u001b[34m          \u001b[0m| 0/10 [00:00<?, ?it/s]\n"
     ]
    },
    {
     "name": "stdout",
     "output_type": "stream",
     "text": [
      "\u001b[36m(launch_and_fit pid=75448)\u001b[0m \tTrain Epoch: 1 \tTrain_loss: 1.7184 | Train_acc: 40.6548 % | Validation_loss: 1.6665 | Validation_acc: 47.1920 %\n"
     ]
    },
    {
     "name": "stderr",
     "output_type": "stream",
     "text": [
      " 10%|\u001b[34m█         \u001b[0m| 1/10 [00:05<00:53,  5.91s/it]\n"
     ]
    },
    {
     "name": "stdout",
     "output_type": "stream",
     "text": [
      "\u001b[36m(launch_and_fit pid=75448)\u001b[0m \tTrain Epoch: 2 \tTrain_loss: 1.7111 | Train_acc: 42.2798 % | Validation_loss: 1.6751 | Validation_acc: 47.1920 %\n"
     ]
    },
    {
     "name": "stderr",
     "output_type": "stream",
     "text": [
      " 20%|\u001b[34m██        \u001b[0m| 2/10 [00:11<00:46,  5.80s/it]\n"
     ]
    },
    {
     "name": "stdout",
     "output_type": "stream",
     "text": [
      "\u001b[36m(launch_and_fit pid=75448)\u001b[0m \tTrain Epoch: 3 \tTrain_loss: 1.7085 | Train_acc: 41.9643 % | Validation_loss: 1.6681 | Validation_acc: 48.2337 %\n"
     ]
    },
    {
     "name": "stderr",
     "output_type": "stream",
     "text": [
      " 30%|\u001b[34m███       \u001b[0m| 3/10 [00:17<00:40,  5.74s/it]\n"
     ]
    },
    {
     "name": "stdout",
     "output_type": "stream",
     "text": [
      "\u001b[36m(launch_and_fit pid=75448)\u001b[0m \tTrain Epoch: 4 \tTrain_loss: 1.7412 | Train_acc: 39.0833 % | Validation_loss: 1.6686 | Validation_acc: 47.1920 %\n"
     ]
    },
    {
     "name": "stderr",
     "output_type": "stream",
     "text": [
      " 40%|\u001b[34m████      \u001b[0m| 4/10 [00:22<00:33,  5.62s/it]\n"
     ]
    },
    {
     "name": "stdout",
     "output_type": "stream",
     "text": [
      "\u001b[36m(launch_and_fit pid=75448)\u001b[0m \tTrain Epoch: 5 \tTrain_loss: 1.7218 | Train_acc: 42.2083 % | Validation_loss: 1.6804 | Validation_acc: 45.1087 %\n"
     ]
    },
    {
     "name": "stderr",
     "output_type": "stream",
     "text": [
      " 50%|\u001b[34m█████     \u001b[0m| 5/10 [00:28<00:27,  5.57s/it]\n"
     ]
    },
    {
     "name": "stdout",
     "output_type": "stream",
     "text": [
      "\u001b[36m(launch_and_fit pid=75448)\u001b[0m \tTrain Epoch: 6 \tTrain_loss: 1.6999 | Train_acc: 43.8452 % | Validation_loss: 1.6732 | Validation_acc: 47.1920 %\n"
     ]
    },
    {
     "name": "stderr",
     "output_type": "stream",
     "text": [
      " 60%|\u001b[34m██████    \u001b[0m| 6/10 [00:33<00:22,  5.58s/it]\n"
     ]
    },
    {
     "name": "stdout",
     "output_type": "stream",
     "text": [
      "\u001b[36m(launch_and_fit pid=75448)\u001b[0m \tTrain Epoch: 7 \tTrain_loss: 1.6959 | Train_acc: 44.9702 % | Validation_loss: 1.6574 | Validation_acc: 45.1087 %\n"
     ]
    },
    {
     "name": "stderr",
     "output_type": "stream",
     "text": [
      " 70%|\u001b[34m███████   \u001b[0m| 7/10 [00:39<00:16,  5.56s/it]\n"
     ]
    },
    {
     "name": "stdout",
     "output_type": "stream",
     "text": [
      "\u001b[36m(launch_and_fit pid=75448)\u001b[0m \tTrain Epoch: 8 \tTrain_loss: 1.6965 | Train_acc: 44.7202 % | Validation_loss: 1.6735 | Validation_acc: 46.1504 %\n"
     ]
    },
    {
     "name": "stderr",
     "output_type": "stream",
     "text": [
      " 80%|\u001b[34m████████  \u001b[0m| 8/10 [00:44<00:11,  5.54s/it]\n"
     ]
    },
    {
     "name": "stdout",
     "output_type": "stream",
     "text": [
      "\u001b[36m(launch_and_fit pid=75448)\u001b[0m \tTrain Epoch: 9 \tTrain_loss: 1.7040 | Train_acc: 43.4048 % | Validation_loss: 1.6846 | Validation_acc: 45.1087 %\n"
     ]
    },
    {
     "name": "stderr",
     "output_type": "stream",
     "text": [
      " 90%|\u001b[34m█████████ \u001b[0m| 9/10 [00:50<00:05,  5.62s/it]\n"
     ]
    },
    {
     "name": "stdout",
     "output_type": "stream",
     "text": [
      "\u001b[36m(launch_and_fit pid=75448)\u001b[0m \tTrain Epoch: 10 \tTrain_loss: 1.6957 | Train_acc: 44.1488 % | Validation_loss: 1.6777 | Validation_acc: 46.1504 %\n",
      "\u001b[36m(launch_and_fit pid=75448)\u001b[0m save graph in  results/FL/\n"
     ]
    },
    {
     "name": "stderr",
     "output_type": "stream",
     "text": [
      "100%|\u001b[34m██████████\u001b[0m| 10/10 [00:56<00:00,  5.63s/it]\n"
     ]
    },
    {
     "name": "stdout",
     "output_type": "stream",
     "text": [
      "\u001b[36m(launch_and_fit pid=75448)\u001b[0m Run WITHOUT homomorphic encryption\n",
      "\u001b[36m(launch_and_fit pid=75448)\u001b[0m  To get the checkpoint\n",
      "\u001b[36m(launch_and_fit pid=75448)\u001b[0m [Client 1, round 17] fit, config: {'learning_rate': 0.003, 'batch_size': '32', 'server_round': 17, 'local_epochs': 10}\n",
      "\u001b[36m(launch_and_fit pid=75448)\u001b[0m Updated model\n"
     ]
    },
    {
     "name": "stderr",
     "output_type": "stream",
     "text": [
      "  0%|\u001b[34m          \u001b[0m| 0/10 [00:00<?, ?it/s]\n"
     ]
    },
    {
     "name": "stdout",
     "output_type": "stream",
     "text": [
      "\u001b[36m(launch_and_fit pid=75448)\u001b[0m \tTrain Epoch: 1 \tTrain_loss: 1.7424 | Train_acc: 39.3393 % | Validation_loss: 1.6622 | Validation_acc: 45.7428 %\n"
     ]
    },
    {
     "name": "stderr",
     "output_type": "stream",
     "text": [
      " 10%|\u001b[34m█         \u001b[0m| 1/10 [00:05<00:48,  5.36s/it]\n"
     ]
    },
    {
     "name": "stdout",
     "output_type": "stream",
     "text": [
      "\u001b[36m(launch_and_fit pid=75448)\u001b[0m \tTrain Epoch: 2 \tTrain_loss: 1.7439 | Train_acc: 36.7857 % | Validation_loss: 1.7002 | Validation_acc: 39.9004 %\n"
     ]
    },
    {
     "name": "stderr",
     "output_type": "stream",
     "text": [
      " 20%|\u001b[34m██        \u001b[0m| 2/10 [00:07<00:27,  3.39s/it]\n"
     ]
    },
    {
     "name": "stdout",
     "output_type": "stream",
     "text": [
      "\u001b[36m(launch_and_fit pid=75448)\u001b[0m \tTrain Epoch: 3 \tTrain_loss: 1.7669 | Train_acc: 35.7083 % | Validation_loss: 1.6699 | Validation_acc: 45.1087 %\n"
     ]
    },
    {
     "name": "stderr",
     "output_type": "stream",
     "text": [
      " 30%|\u001b[34m███       \u001b[0m| 3/10 [00:09<00:19,  2.76s/it]\n"
     ]
    },
    {
     "name": "stdout",
     "output_type": "stream",
     "text": [
      "\u001b[36m(launch_and_fit pid=75448)\u001b[0m \tTrain Epoch: 4 \tTrain_loss: 1.7501 | Train_acc: 37.7798 % | Validation_loss: 1.6594 | Validation_acc: 44.0670 %\n"
     ]
    },
    {
     "name": "stderr",
     "output_type": "stream",
     "text": [
      " 40%|\u001b[34m████      \u001b[0m| 4/10 [00:11<00:14,  2.46s/it]\n"
     ]
    },
    {
     "name": "stdout",
     "output_type": "stream",
     "text": [
      "\u001b[36m(launch_and_fit pid=75448)\u001b[0m \tTrain Epoch: 5 \tTrain_loss: 1.7223 | Train_acc: 39.9583 % | Validation_loss: 1.7314 | Validation_acc: 41.9837 %\n"
     ]
    },
    {
     "name": "stderr",
     "output_type": "stream",
     "text": [
      " 50%|\u001b[34m█████     \u001b[0m| 5/10 [00:13<00:11,  2.30s/it]\n"
     ]
    },
    {
     "name": "stdout",
     "output_type": "stream",
     "text": [
      "\u001b[36m(launch_and_fit pid=75448)\u001b[0m \tTrain Epoch: 6 \tTrain_loss: 1.7296 | Train_acc: 38.3512 % | Validation_loss: 1.6897 | Validation_acc: 40.5344 %\n"
     ]
    },
    {
     "name": "stderr",
     "output_type": "stream",
     "text": [
      " 60%|\u001b[34m██████    \u001b[0m| 6/10 [00:15<00:08,  2.20s/it]\n"
     ]
    },
    {
     "name": "stdout",
     "output_type": "stream",
     "text": [
      "\u001b[36m(launch_and_fit pid=75448)\u001b[0m \tTrain Epoch: 7 \tTrain_loss: 1.7100 | Train_acc: 40.0238 % | Validation_loss: 1.7550 | Validation_acc: 36.3678 %\n"
     ]
    },
    {
     "name": "stderr",
     "output_type": "stream",
     "text": [
      " 70%|\u001b[34m███████   \u001b[0m| 7/10 [00:17<00:06,  2.14s/it]\n"
     ]
    },
    {
     "name": "stdout",
     "output_type": "stream",
     "text": [
      "\u001b[36m(launch_and_fit pid=75448)\u001b[0m \tTrain Epoch: 8 \tTrain_loss: 1.7249 | Train_acc: 40.8393 % | Validation_loss: 1.6658 | Validation_acc: 46.1504 %\n"
     ]
    },
    {
     "name": "stderr",
     "output_type": "stream",
     "text": [
      " 80%|\u001b[34m████████  \u001b[0m| 8/10 [00:19<00:04,  2.09s/it]\n"
     ]
    },
    {
     "name": "stdout",
     "output_type": "stream",
     "text": [
      "\u001b[36m(launch_and_fit pid=75448)\u001b[0m \tTrain Epoch: 9 \tTrain_loss: 1.7107 | Train_acc: 42.2202 % | Validation_loss: 1.6777 | Validation_acc: 46.5580 %\n"
     ]
    },
    {
     "name": "stderr",
     "output_type": "stream",
     "text": [
      " 90%|\u001b[34m█████████ \u001b[0m| 9/10 [00:21<00:02,  2.04s/it]\n"
     ]
    },
    {
     "name": "stdout",
     "output_type": "stream",
     "text": [
      "\u001b[36m(launch_and_fit pid=75448)\u001b[0m \tTrain Epoch: 10 \tTrain_loss: 1.7044 | Train_acc: 42.6071 % | Validation_loss: 1.6875 | Validation_acc: 41.9837 %\n",
      "\u001b[36m(launch_and_fit pid=75448)\u001b[0m save graph in  results/FL/\n"
     ]
    },
    {
     "name": "stderr",
     "output_type": "stream",
     "text": [
      "100%|\u001b[34m██████████\u001b[0m| 10/10 [00:23<00:00,  2.33s/it]\n"
     ]
    },
    {
     "name": "stdout",
     "output_type": "stream",
     "text": [
      "\u001b[36m(launch_and_fit pid=75448)\u001b[0m Run WITHOUT homomorphic encryption\n",
      "\u001b[36m(launch_and_fit pid=75448)\u001b[0m  To get the checkpoint\n",
      "\u001b[36m(launch_and_fit pid=75448)\u001b[0m [Client 0, round 17] fit, config: {'learning_rate': 0.003, 'batch_size': '32', 'server_round': 17, 'local_epochs': 10}\n",
      "\u001b[36m(launch_and_fit pid=75448)\u001b[0m Updated model\n"
     ]
    },
    {
     "name": "stderr",
     "output_type": "stream",
     "text": [
      "  0%|\u001b[34m          \u001b[0m| 0/10 [00:00<?, ?it/s]\n"
     ]
    },
    {
     "name": "stdout",
     "output_type": "stream",
     "text": [
      "\u001b[36m(launch_and_fit pid=75448)\u001b[0m \tTrain Epoch: 1 \tTrain_loss: 1.7096 | Train_acc: 40.8393 % | Validation_loss: 1.7977 | Validation_acc: 32.0199 %\n"
     ]
    },
    {
     "name": "stderr",
     "output_type": "stream",
     "text": [
      " 10%|\u001b[34m█         \u001b[0m| 1/10 [00:02<00:18,  2.03s/it]\n"
     ]
    },
    {
     "name": "stdout",
     "output_type": "stream",
     "text": [
      "\u001b[36m(launch_and_fit pid=75448)\u001b[0m \tTrain Epoch: 2 \tTrain_loss: 1.7066 | Train_acc: 41.2738 % | Validation_loss: 1.7779 | Validation_acc: 32.4275 %\n"
     ]
    },
    {
     "name": "stderr",
     "output_type": "stream",
     "text": [
      " 20%|\u001b[34m██        \u001b[0m| 2/10 [00:04<00:16,  2.04s/it]\n"
     ]
    },
    {
     "name": "stdout",
     "output_type": "stream",
     "text": [
      "\u001b[36m(launch_and_fit pid=75448)\u001b[0m \tTrain Epoch: 3 \tTrain_loss: 1.7091 | Train_acc: 39.8393 % | Validation_loss: 1.7665 | Validation_acc: 38.4511 %\n"
     ]
    },
    {
     "name": "stderr",
     "output_type": "stream",
     "text": [
      " 30%|\u001b[34m███       \u001b[0m| 3/10 [00:06<00:14,  2.05s/it]\n"
     ]
    },
    {
     "name": "stdout",
     "output_type": "stream",
     "text": [
      "\u001b[36m(launch_and_fit pid=75448)\u001b[0m \tTrain Epoch: 4 \tTrain_loss: 1.6932 | Train_acc: 43.0833 % | Validation_loss: 1.7689 | Validation_acc: 33.4692 %\n"
     ]
    },
    {
     "name": "stderr",
     "output_type": "stream",
     "text": [
      " 40%|\u001b[34m████      \u001b[0m| 4/10 [00:08<00:12,  2.04s/it]\n"
     ]
    },
    {
     "name": "stdout",
     "output_type": "stream",
     "text": [
      "\u001b[36m(launch_and_fit pid=75448)\u001b[0m \tTrain Epoch: 5 \tTrain_loss: 1.6935 | Train_acc: 43.2202 % | Validation_loss: 1.7998 | Validation_acc: 29.3025 %\n"
     ]
    },
    {
     "name": "stderr",
     "output_type": "stream",
     "text": [
      " 50%|\u001b[34m█████     \u001b[0m| 5/10 [00:10<00:10,  2.05s/it]\n"
     ]
    },
    {
     "name": "stdout",
     "output_type": "stream",
     "text": [
      "\u001b[36m(launch_and_fit pid=75448)\u001b[0m \tTrain Epoch: 6 \tTrain_loss: 1.6912 | Train_acc: 41.2738 % | Validation_loss: 1.7881 | Validation_acc: 32.8351 %\n"
     ]
    },
    {
     "name": "stderr",
     "output_type": "stream",
     "text": [
      " 60%|\u001b[34m██████    \u001b[0m| 6/10 [00:12<00:08,  2.04s/it]\n"
     ]
    },
    {
     "name": "stdout",
     "output_type": "stream",
     "text": [
      "\u001b[36m(launch_and_fit pid=75448)\u001b[0m \tTrain Epoch: 7 \tTrain_loss: 1.6880 | Train_acc: 43.6548 % | Validation_loss: 1.7831 | Validation_acc: 34.9185 %\n"
     ]
    },
    {
     "name": "stderr",
     "output_type": "stream",
     "text": [
      " 70%|\u001b[34m███████   \u001b[0m| 7/10 [00:14<00:06,  2.03s/it]\n"
     ]
    },
    {
     "name": "stdout",
     "output_type": "stream",
     "text": [
      "\u001b[36m(launch_and_fit pid=75448)\u001b[0m \tTrain Epoch: 8 \tTrain_loss: 1.6792 | Train_acc: 44.0298 % | Validation_loss: 1.7824 | Validation_acc: 33.4692 %\n"
     ]
    },
    {
     "name": "stderr",
     "output_type": "stream",
     "text": [
      " 80%|\u001b[34m████████  \u001b[0m| 8/10 [00:16<00:04,  2.03s/it]\n"
     ]
    },
    {
     "name": "stdout",
     "output_type": "stream",
     "text": [
      "\u001b[36m(launch_and_fit pid=75448)\u001b[0m \tTrain Epoch: 9 \tTrain_loss: 1.6943 | Train_acc: 41.7083 % | Validation_loss: 1.7819 | Validation_acc: 30.9783 %\n"
     ]
    },
    {
     "name": "stderr",
     "output_type": "stream",
     "text": [
      " 90%|\u001b[34m█████████ \u001b[0m| 9/10 [00:18<00:02,  2.01s/it]\n"
     ]
    },
    {
     "name": "stdout",
     "output_type": "stream",
     "text": [
      "\u001b[36m(launch_and_fit pid=75448)\u001b[0m \tTrain Epoch: 10 \tTrain_loss: 1.6822 | Train_acc: 44.7083 % | Validation_loss: 1.7659 | Validation_acc: 35.5525 %\n",
      "\u001b[36m(launch_and_fit pid=75448)\u001b[0m save graph in  results/FL/\n"
     ]
    },
    {
     "name": "stderr",
     "output_type": "stream",
     "text": [
      "100%|\u001b[34m██████████\u001b[0m| 10/10 [00:20<00:00,  2.03s/it]\n"
     ]
    },
    {
     "name": "stdout",
     "output_type": "stream",
     "text": [
      "\u001b[36m(launch_and_fit pid=75448)\u001b[0m Run WITHOUT homomorphic encryption\n",
      "\u001b[36m(launch_and_fit pid=75448)\u001b[0m  To get the checkpoint\n",
      "\u001b[36m(launch_and_fit pid=75448)\u001b[0m [Client 3, round 17] fit, config: {'learning_rate': 0.003, 'batch_size': '32', 'server_round': 17, 'local_epochs': 10}\n",
      "\u001b[36m(launch_and_fit pid=75448)\u001b[0m Updated model\n"
     ]
    },
    {
     "name": "stderr",
     "output_type": "stream",
     "text": [
      "  0%|\u001b[34m          \u001b[0m| 0/10 [00:00<?, ?it/s]\n"
     ]
    },
    {
     "name": "stdout",
     "output_type": "stream",
     "text": [
      "\u001b[36m(launch_and_fit pid=75448)\u001b[0m \tTrain Epoch: 1 \tTrain_loss: 1.7232 | Train_acc: 40.2679 % | Validation_loss: 1.6950 | Validation_acc: 34.2844 %\n"
     ]
    },
    {
     "name": "stderr",
     "output_type": "stream",
     "text": [
      " 10%|\u001b[34m█         \u001b[0m| 1/10 [00:01<00:17,  2.00s/it]\n"
     ]
    },
    {
     "name": "stdout",
     "output_type": "stream",
     "text": [
      "\u001b[36m(launch_and_fit pid=75448)\u001b[0m \tTrain Epoch: 2 \tTrain_loss: 1.7123 | Train_acc: 39.3274 % | Validation_loss: 1.6906 | Validation_acc: 36.3678 %\n"
     ]
    },
    {
     "name": "stderr",
     "output_type": "stream",
     "text": [
      " 20%|\u001b[34m██        \u001b[0m| 2/10 [00:03<00:15,  1.95s/it]\n"
     ]
    },
    {
     "name": "stdout",
     "output_type": "stream",
     "text": [
      "\u001b[36m(launch_and_fit pid=75448)\u001b[0m \tTrain Epoch: 3 \tTrain_loss: 1.7155 | Train_acc: 40.4583 % | Validation_loss: 1.7199 | Validation_acc: 35.7337 %\n"
     ]
    },
    {
     "name": "stderr",
     "output_type": "stream",
     "text": [
      " 30%|\u001b[34m███       \u001b[0m| 3/10 [00:05<00:13,  1.94s/it]\n"
     ]
    },
    {
     "name": "stdout",
     "output_type": "stream",
     "text": [
      "\u001b[36m(launch_and_fit pid=75448)\u001b[0m \tTrain Epoch: 4 \tTrain_loss: 1.7145 | Train_acc: 40.3512 % | Validation_loss: 1.6995 | Validation_acc: 32.8351 %\n"
     ]
    },
    {
     "name": "stderr",
     "output_type": "stream",
     "text": [
      " 40%|\u001b[34m████      \u001b[0m| 4/10 [00:08<00:12,  2.10s/it]\n"
     ]
    },
    {
     "name": "stdout",
     "output_type": "stream",
     "text": [
      "\u001b[36m(launch_and_fit pid=75448)\u001b[0m \tTrain Epoch: 5 \tTrain_loss: 1.6968 | Train_acc: 42.7202 % | Validation_loss: 1.6999 | Validation_acc: 32.8351 %\n"
     ]
    },
    {
     "name": "stderr",
     "output_type": "stream",
     "text": [
      " 50%|\u001b[34m█████     \u001b[0m| 5/10 [00:10<00:10,  2.07s/it]\n"
     ]
    },
    {
     "name": "stdout",
     "output_type": "stream",
     "text": [
      "\u001b[36m(launch_and_fit pid=75448)\u001b[0m \tTrain Epoch: 6 \tTrain_loss: 1.6891 | Train_acc: 43.8452 % | Validation_loss: 1.6941 | Validation_acc: 33.8768 %\n"
     ]
    },
    {
     "name": "stderr",
     "output_type": "stream",
     "text": [
      " 60%|\u001b[34m██████    \u001b[0m| 6/10 [00:12<00:08,  2.06s/it]\n"
     ]
    },
    {
     "name": "stdout",
     "output_type": "stream",
     "text": [
      "\u001b[36m(launch_and_fit pid=75448)\u001b[0m \tTrain Epoch: 7 \tTrain_loss: 1.6900 | Train_acc: 44.2798 % | Validation_loss: 1.6964 | Validation_acc: 40.1268 %\n"
     ]
    },
    {
     "name": "stderr",
     "output_type": "stream",
     "text": [
      " 70%|\u001b[34m███████   \u001b[0m| 7/10 [00:14<00:06,  2.05s/it]\n"
     ]
    },
    {
     "name": "stdout",
     "output_type": "stream",
     "text": [
      "\u001b[36m(launch_and_fit pid=75448)\u001b[0m \tTrain Epoch: 8 \tTrain_loss: 1.7204 | Train_acc: 42.2738 % | Validation_loss: 1.6982 | Validation_acc: 36.3678 %\n"
     ]
    },
    {
     "name": "stderr",
     "output_type": "stream",
     "text": [
      " 80%|\u001b[34m████████  \u001b[0m| 8/10 [00:16<00:04,  2.04s/it]\n"
     ]
    },
    {
     "name": "stdout",
     "output_type": "stream",
     "text": [
      "\u001b[36m(launch_and_fit pid=75448)\u001b[0m \tTrain Epoch: 9 \tTrain_loss: 1.7051 | Train_acc: 42.0893 % | Validation_loss: 1.7013 | Validation_acc: 33.8768 %\n"
     ]
    },
    {
     "name": "stderr",
     "output_type": "stream",
     "text": [
      " 90%|\u001b[34m█████████ \u001b[0m| 9/10 [00:18<00:02,  2.03s/it]\n",
      "100%|\u001b[34m██████████\u001b[0m| 10/10 [00:20<00:00,  2.03s/it]\n",
      "DEBUG flwr 2024-08-30 02:17:39,450 | server.py:236 | fit_round 17 received 4 results and 0 failures\n"
     ]
    },
    {
     "name": "stdout",
     "output_type": "stream",
     "text": [
      "\u001b[36m(launch_and_fit pid=75448)\u001b[0m \tTrain Epoch: 10 \tTrain_loss: 1.6870 | Train_acc: 43.2083 % | Validation_loss: 1.7011 | Validation_acc: 39.9004 %\n",
      "\u001b[36m(launch_and_fit pid=75448)\u001b[0m save graph in  results/FL/\n",
      "Saving round 17 aggregated_parameters...\n",
      "Updated model\n"
     ]
    },
    {
     "name": "stderr",
     "output_type": "stream",
     "text": [
      "INFO flwr 2024-08-30 02:17:40,341 | server.py:125 | fit progress: (17, 1.7184858918190002, {'accuracy': 39.955357142857146}, 2292.47207068)\n",
      "DEBUG flwr 2024-08-30 02:17:40,342 | server.py:173 | evaluate_round 17: strategy sampled 4 clients (out of 4)\n"
     ]
    },
    {
     "name": "stdout",
     "output_type": "stream",
     "text": [
      "Server-side evaluation loss 1.7184858918190002 / accuracy 39.955357142857146\n",
      "\u001b[36m(launch_and_evaluate pid=75448)\u001b[0m Run WITHOUT homomorphic encryption\n",
      "\u001b[36m(launch_and_evaluate pid=75448)\u001b[0m  To get the checkpoint\n",
      "\u001b[36m(launch_and_evaluate pid=75448)\u001b[0m [Client 1] evaluate, config: {}\n",
      "\u001b[36m(launch_and_evaluate pid=75448)\u001b[0m Updated model\n",
      "\u001b[36m(launch_and_evaluate pid=75448)\u001b[0m Run WITHOUT homomorphic encryption\n",
      "\u001b[36m(launch_and_evaluate pid=75448)\u001b[0m  To get the checkpoint\n",
      "\u001b[36m(launch_and_evaluate pid=75448)\u001b[0m [Client 0] evaluate, config: {}\n",
      "\u001b[36m(launch_and_evaluate pid=75448)\u001b[0m Updated model\n",
      "\u001b[36m(launch_and_evaluate pid=75448)\u001b[0m Run WITHOUT homomorphic encryption\n",
      "\u001b[36m(launch_and_evaluate pid=75448)\u001b[0m  To get the checkpoint\n",
      "\u001b[36m(launch_and_evaluate pid=75448)\u001b[0m [Client 3] evaluate, config: {}\n",
      "\u001b[36m(launch_and_evaluate pid=75448)\u001b[0m Updated model\n",
      "\u001b[36m(launch_and_evaluate pid=75448)\u001b[0m Run WITHOUT homomorphic encryption\n",
      "\u001b[36m(launch_and_evaluate pid=75448)\u001b[0m  To get the checkpoint\n",
      "\u001b[36m(launch_and_evaluate pid=75448)\u001b[0m [Client 2] evaluate, config: {}\n",
      "\u001b[36m(launch_and_evaluate pid=75448)\u001b[0m Updated model\n"
     ]
    },
    {
     "name": "stderr",
     "output_type": "stream",
     "text": [
      "DEBUG flwr 2024-08-30 02:17:42,879 | server.py:187 | evaluate_round 17 received 4 results and 0 failures\n",
      "DEBUG flwr 2024-08-30 02:17:42,881 | server.py:222 | fit_round 18: strategy sampled 4 clients (out of 4)\n"
     ]
    },
    {
     "name": "stdout",
     "output_type": "stream",
     "text": [
      "\u001b[36m(launch_and_fit pid=75448)\u001b[0m Run WITHOUT homomorphic encryption\n",
      "\u001b[36m(launch_and_fit pid=75448)\u001b[0m  To get the checkpoint\n",
      "\u001b[36m(launch_and_fit pid=75448)\u001b[0m [Client 2, round 18] fit, config: {'learning_rate': 0.003, 'batch_size': '32', 'server_round': 18, 'local_epochs': 10}\n",
      "\u001b[36m(launch_and_fit pid=75448)\u001b[0m Updated model\n"
     ]
    },
    {
     "name": "stderr",
     "output_type": "stream",
     "text": [
      "  0%|\u001b[34m          \u001b[0m| 0/10 [00:00<?, ?it/s]\n"
     ]
    },
    {
     "name": "stdout",
     "output_type": "stream",
     "text": [
      "\u001b[36m(launch_and_fit pid=75448)\u001b[0m \tTrain Epoch: 1 \tTrain_loss: 1.7158 | Train_acc: 41.7083 % | Validation_loss: 1.6810 | Validation_acc: 44.0670 %\n"
     ]
    },
    {
     "name": "stderr",
     "output_type": "stream",
     "text": [
      " 10%|\u001b[34m█         \u001b[0m| 1/10 [00:01<00:17,  2.00s/it]\n"
     ]
    },
    {
     "name": "stdout",
     "output_type": "stream",
     "text": [
      "\u001b[36m(launch_and_fit pid=75448)\u001b[0m \tTrain Epoch: 2 \tTrain_loss: 1.7102 | Train_acc: 41.0298 % | Validation_loss: 1.6552 | Validation_acc: 49.2754 %\n"
     ]
    },
    {
     "name": "stderr",
     "output_type": "stream",
     "text": [
      " 20%|\u001b[34m██        \u001b[0m| 2/10 [00:03<00:15,  1.96s/it]\n"
     ]
    },
    {
     "name": "stdout",
     "output_type": "stream",
     "text": [
      "\u001b[36m(launch_and_fit pid=75448)\u001b[0m \tTrain Epoch: 3 \tTrain_loss: 1.7313 | Train_acc: 39.1548 % | Validation_loss: 1.6792 | Validation_acc: 45.1087 %\n"
     ]
    },
    {
     "name": "stderr",
     "output_type": "stream",
     "text": [
      " 30%|\u001b[34m███       \u001b[0m| 3/10 [00:05<00:13,  1.95s/it]\n"
     ]
    },
    {
     "name": "stdout",
     "output_type": "stream",
     "text": [
      "\u001b[36m(launch_and_fit pid=75448)\u001b[0m \tTrain Epoch: 4 \tTrain_loss: 1.7132 | Train_acc: 41.0298 % | Validation_loss: 1.6797 | Validation_acc: 49.6830 %\n"
     ]
    },
    {
     "name": "stderr",
     "output_type": "stream",
     "text": [
      " 40%|\u001b[34m████      \u001b[0m| 4/10 [00:07<00:11,  1.94s/it]\n"
     ]
    },
    {
     "name": "stdout",
     "output_type": "stream",
     "text": [
      "\u001b[36m(launch_and_fit pid=75448)\u001b[0m \tTrain Epoch: 5 \tTrain_loss: 1.7030 | Train_acc: 43.0357 % | Validation_loss: 1.6640 | Validation_acc: 48.2337 %\n"
     ]
    },
    {
     "name": "stderr",
     "output_type": "stream",
     "text": [
      " 50%|\u001b[34m█████     \u001b[0m| 5/10 [00:09<00:09,  1.94s/it]\n"
     ]
    },
    {
     "name": "stdout",
     "output_type": "stream",
     "text": [
      "\u001b[36m(launch_and_fit pid=75448)\u001b[0m \tTrain Epoch: 6 \tTrain_loss: 1.7036 | Train_acc: 43.8393 % | Validation_loss: 1.6720 | Validation_acc: 48.2337 %\n"
     ]
    },
    {
     "name": "stderr",
     "output_type": "stream",
     "text": [
      " 60%|\u001b[34m██████    \u001b[0m| 6/10 [00:11<00:07,  1.93s/it]\n"
     ]
    },
    {
     "name": "stdout",
     "output_type": "stream",
     "text": [
      "\u001b[36m(launch_and_fit pid=75448)\u001b[0m \tTrain Epoch: 7 \tTrain_loss: 1.7027 | Train_acc: 42.3929 % | Validation_loss: 1.6692 | Validation_acc: 45.1087 %\n"
     ]
    },
    {
     "name": "stderr",
     "output_type": "stream",
     "text": [
      " 70%|\u001b[34m███████   \u001b[0m| 7/10 [00:13<00:05,  1.94s/it]\n"
     ]
    },
    {
     "name": "stdout",
     "output_type": "stream",
     "text": [
      "\u001b[36m(launch_and_fit pid=75448)\u001b[0m \tTrain Epoch: 8 \tTrain_loss: 1.7095 | Train_acc: 41.4643 % | Validation_loss: 1.6726 | Validation_acc: 49.2754 %\n"
     ]
    },
    {
     "name": "stderr",
     "output_type": "stream",
     "text": [
      " 80%|\u001b[34m████████  \u001b[0m| 8/10 [00:15<00:03,  1.93s/it]\n"
     ]
    },
    {
     "name": "stdout",
     "output_type": "stream",
     "text": [
      "\u001b[36m(launch_and_fit pid=75448)\u001b[0m \tTrain Epoch: 9 \tTrain_loss: 1.6986 | Train_acc: 43.3274 % | Validation_loss: 1.6744 | Validation_acc: 45.1087 %\n"
     ]
    },
    {
     "name": "stderr",
     "output_type": "stream",
     "text": [
      " 90%|\u001b[34m█████████ \u001b[0m| 9/10 [00:17<00:01,  1.94s/it]\n"
     ]
    },
    {
     "name": "stdout",
     "output_type": "stream",
     "text": [
      "\u001b[36m(launch_and_fit pid=75448)\u001b[0m \tTrain Epoch: 10 \tTrain_loss: 1.6947 | Train_acc: 43.6548 % | Validation_loss: 1.6733 | Validation_acc: 47.1920 %\n",
      "\u001b[36m(launch_and_fit pid=75448)\u001b[0m save graph in  results/FL/\n"
     ]
    },
    {
     "name": "stderr",
     "output_type": "stream",
     "text": [
      "100%|\u001b[34m██████████\u001b[0m| 10/10 [00:19<00:00,  1.95s/it]\n"
     ]
    },
    {
     "name": "stdout",
     "output_type": "stream",
     "text": [
      "\u001b[36m(launch_and_fit pid=75448)\u001b[0m Run WITHOUT homomorphic encryption\n",
      "\u001b[36m(launch_and_fit pid=75448)\u001b[0m  To get the checkpoint\n",
      "\u001b[36m(launch_and_fit pid=75448)\u001b[0m [Client 0, round 18] fit, config: {'learning_rate': 0.003, 'batch_size': '32', 'server_round': 18, 'local_epochs': 10}\n",
      "\u001b[36m(launch_and_fit pid=75448)\u001b[0m Updated model\n"
     ]
    },
    {
     "name": "stderr",
     "output_type": "stream",
     "text": [
      "  0%|\u001b[34m          \u001b[0m| 0/10 [00:00<?, ?it/s]\n"
     ]
    },
    {
     "name": "stdout",
     "output_type": "stream",
     "text": [
      "\u001b[36m(launch_and_fit pid=75448)\u001b[0m \tTrain Epoch: 1 \tTrain_loss: 1.7185 | Train_acc: 40.0833 % | Validation_loss: 1.7597 | Validation_acc: 36.3678 %\n"
     ]
    },
    {
     "name": "stderr",
     "output_type": "stream",
     "text": [
      " 10%|\u001b[34m█         \u001b[0m| 1/10 [00:02<00:18,  2.04s/it]\n"
     ]
    },
    {
     "name": "stdout",
     "output_type": "stream",
     "text": [
      "\u001b[36m(launch_and_fit pid=75448)\u001b[0m \tTrain Epoch: 2 \tTrain_loss: 1.7099 | Train_acc: 41.2024 % | Validation_loss: 1.7807 | Validation_acc: 34.9185 %\n"
     ]
    },
    {
     "name": "stderr",
     "output_type": "stream",
     "text": [
      " 20%|\u001b[34m██        \u001b[0m| 2/10 [00:04<00:16,  2.04s/it]\n"
     ]
    },
    {
     "name": "stdout",
     "output_type": "stream",
     "text": [
      "\u001b[36m(launch_and_fit pid=75448)\u001b[0m \tTrain Epoch: 3 \tTrain_loss: 1.7316 | Train_acc: 38.2083 % | Validation_loss: 1.7961 | Validation_acc: 34.5109 %\n"
     ]
    },
    {
     "name": "stderr",
     "output_type": "stream",
     "text": [
      " 30%|\u001b[34m███       \u001b[0m| 3/10 [00:06<00:14,  2.04s/it]\n"
     ]
    },
    {
     "name": "stdout",
     "output_type": "stream",
     "text": [
      "\u001b[36m(launch_and_fit pid=75448)\u001b[0m \tTrain Epoch: 4 \tTrain_loss: 1.7053 | Train_acc: 41.2857 % | Validation_loss: 1.8043 | Validation_acc: 31.7935 %\n"
     ]
    },
    {
     "name": "stderr",
     "output_type": "stream",
     "text": [
      " 40%|\u001b[34m████      \u001b[0m| 4/10 [00:08<00:12,  2.03s/it]\n"
     ]
    },
    {
     "name": "stdout",
     "output_type": "stream",
     "text": [
      "\u001b[36m(launch_and_fit pid=75448)\u001b[0m \tTrain Epoch: 5 \tTrain_loss: 1.6852 | Train_acc: 42.6548 % | Validation_loss: 1.7931 | Validation_acc: 30.3442 %\n"
     ]
    },
    {
     "name": "stderr",
     "output_type": "stream",
     "text": [
      " 50%|\u001b[34m█████     \u001b[0m| 5/10 [00:10<00:10,  2.03s/it]\n"
     ]
    },
    {
     "name": "stdout",
     "output_type": "stream",
     "text": [
      "\u001b[36m(launch_and_fit pid=75448)\u001b[0m \tTrain Epoch: 6 \tTrain_loss: 1.6873 | Train_acc: 43.5833 % | Validation_loss: 1.7791 | Validation_acc: 33.8768 %\n"
     ]
    },
    {
     "name": "stderr",
     "output_type": "stream",
     "text": [
      " 60%|\u001b[34m██████    \u001b[0m| 6/10 [00:12<00:08,  2.03s/it]\n"
     ]
    },
    {
     "name": "stdout",
     "output_type": "stream",
     "text": [
      "\u001b[36m(launch_and_fit pid=75448)\u001b[0m \tTrain Epoch: 7 \tTrain_loss: 1.6842 | Train_acc: 43.0952 % | Validation_loss: 1.7873 | Validation_acc: 33.4692 %\n"
     ]
    },
    {
     "name": "stderr",
     "output_type": "stream",
     "text": [
      " 70%|\u001b[34m███████   \u001b[0m| 7/10 [00:14<00:06,  2.01s/it]\n"
     ]
    },
    {
     "name": "stdout",
     "output_type": "stream",
     "text": [
      "\u001b[36m(launch_and_fit pid=75448)\u001b[0m \tTrain Epoch: 8 \tTrain_loss: 1.6794 | Train_acc: 43.4583 % | Validation_loss: 1.7767 | Validation_acc: 35.1449 %\n"
     ]
    },
    {
     "name": "stderr",
     "output_type": "stream",
     "text": [
      " 80%|\u001b[34m████████  \u001b[0m| 8/10 [00:16<00:03,  1.99s/it]\n"
     ]
    },
    {
     "name": "stdout",
     "output_type": "stream",
     "text": [
      "\u001b[36m(launch_and_fit pid=75448)\u001b[0m \tTrain Epoch: 9 \tTrain_loss: 1.6743 | Train_acc: 44.5298 % | Validation_loss: 1.7635 | Validation_acc: 34.5109 %\n"
     ]
    },
    {
     "name": "stderr",
     "output_type": "stream",
     "text": [
      " 90%|\u001b[34m█████████ \u001b[0m| 9/10 [00:18<00:01,  1.98s/it]\n"
     ]
    },
    {
     "name": "stdout",
     "output_type": "stream",
     "text": [
      "\u001b[36m(launch_and_fit pid=75448)\u001b[0m \tTrain Epoch: 10 \tTrain_loss: 1.6671 | Train_acc: 45.1012 % | Validation_loss: 1.7849 | Validation_acc: 33.4692 %\n",
      "\u001b[36m(launch_and_fit pid=75448)\u001b[0m save graph in  results/FL/\n"
     ]
    },
    {
     "name": "stderr",
     "output_type": "stream",
     "text": [
      "100%|\u001b[34m██████████\u001b[0m| 10/10 [00:19<00:00,  2.00s/it]\n"
     ]
    },
    {
     "name": "stdout",
     "output_type": "stream",
     "text": [
      "\u001b[36m(launch_and_fit pid=75448)\u001b[0m Run WITHOUT homomorphic encryption\n",
      "\u001b[36m(launch_and_fit pid=75448)\u001b[0m  To get the checkpoint\n",
      "\u001b[36m(launch_and_fit pid=75448)\u001b[0m [Client 1, round 18] fit, config: {'learning_rate': 0.003, 'batch_size': '32', 'server_round': 18, 'local_epochs': 10}\n",
      "\u001b[36m(launch_and_fit pid=75448)\u001b[0m Updated model\n"
     ]
    },
    {
     "name": "stderr",
     "output_type": "stream",
     "text": [
      "  0%|\u001b[34m          \u001b[0m| 0/10 [00:00<?, ?it/s]\n"
     ]
    },
    {
     "name": "stdout",
     "output_type": "stream",
     "text": [
      "\u001b[36m(launch_and_fit pid=75448)\u001b[0m \tTrain Epoch: 1 \tTrain_loss: 1.7393 | Train_acc: 38.2262 % | Validation_loss: 1.6633 | Validation_acc: 46.1504 %\n"
     ]
    },
    {
     "name": "stderr",
     "output_type": "stream",
     "text": [
      " 10%|\u001b[34m█         \u001b[0m| 1/10 [00:02<00:18,  2.06s/it]\n"
     ]
    },
    {
     "name": "stdout",
     "output_type": "stream",
     "text": [
      "\u001b[36m(launch_and_fit pid=75448)\u001b[0m \tTrain Epoch: 2 \tTrain_loss: 1.7186 | Train_acc: 39.9107 % | Validation_loss: 1.6601 | Validation_acc: 46.1504 %\n"
     ]
    },
    {
     "name": "stderr",
     "output_type": "stream",
     "text": [
      " 20%|\u001b[34m██        \u001b[0m| 2/10 [00:04<00:16,  2.06s/it]\n"
     ]
    },
    {
     "name": "stdout",
     "output_type": "stream",
     "text": [
      "\u001b[36m(launch_and_fit pid=75448)\u001b[0m \tTrain Epoch: 3 \tTrain_loss: 1.7143 | Train_acc: 42.1488 % | Validation_loss: 1.6651 | Validation_acc: 48.2337 %\n"
     ]
    },
    {
     "name": "stderr",
     "output_type": "stream",
     "text": [
      " 30%|\u001b[34m███       \u001b[0m| 3/10 [00:06<00:14,  2.05s/it]\n"
     ]
    },
    {
     "name": "stdout",
     "output_type": "stream",
     "text": [
      "\u001b[36m(launch_and_fit pid=75448)\u001b[0m \tTrain Epoch: 4 \tTrain_loss: 1.7174 | Train_acc: 41.2083 % | Validation_loss: 1.6565 | Validation_acc: 46.5580 %\n"
     ]
    },
    {
     "name": "stderr",
     "output_type": "stream",
     "text": [
      " 40%|\u001b[34m████      \u001b[0m| 4/10 [00:08<00:12,  2.00s/it]\n"
     ]
    },
    {
     "name": "stdout",
     "output_type": "stream",
     "text": [
      "\u001b[36m(launch_and_fit pid=75448)\u001b[0m \tTrain Epoch: 5 \tTrain_loss: 1.7079 | Train_acc: 42.9643 % | Validation_loss: 1.6667 | Validation_acc: 51.7663 %\n"
     ]
    },
    {
     "name": "stderr",
     "output_type": "stream",
     "text": [
      " 50%|\u001b[34m█████     \u001b[0m| 5/10 [00:10<00:09,  1.98s/it]\n"
     ]
    },
    {
     "name": "stdout",
     "output_type": "stream",
     "text": [
      "\u001b[36m(launch_and_fit pid=75448)\u001b[0m \tTrain Epoch: 6 \tTrain_loss: 1.7144 | Train_acc: 42.4643 % | Validation_loss: 1.6959 | Validation_acc: 45.5163 %\n"
     ]
    },
    {
     "name": "stderr",
     "output_type": "stream",
     "text": [
      " 60%|\u001b[34m██████    \u001b[0m| 6/10 [00:11<00:07,  1.97s/it]\n"
     ]
    },
    {
     "name": "stdout",
     "output_type": "stream",
     "text": [
      "\u001b[36m(launch_and_fit pid=75448)\u001b[0m \tTrain Epoch: 7 \tTrain_loss: 1.7191 | Train_acc: 40.9583 % | Validation_loss: 1.6917 | Validation_acc: 46.1504 %\n"
     ]
    },
    {
     "name": "stderr",
     "output_type": "stream",
     "text": [
      " 70%|\u001b[34m███████   \u001b[0m| 7/10 [00:13<00:05,  1.96s/it]\n"
     ]
    },
    {
     "name": "stdout",
     "output_type": "stream",
     "text": [
      "\u001b[36m(launch_and_fit pid=75448)\u001b[0m \tTrain Epoch: 8 \tTrain_loss: 1.7115 | Train_acc: 41.9048 % | Validation_loss: 1.7250 | Validation_acc: 38.4511 %\n"
     ]
    },
    {
     "name": "stderr",
     "output_type": "stream",
     "text": [
      " 80%|\u001b[34m████████  \u001b[0m| 8/10 [00:15<00:03,  1.96s/it]\n"
     ]
    },
    {
     "name": "stdout",
     "output_type": "stream",
     "text": [
      "\u001b[36m(launch_and_fit pid=75448)\u001b[0m \tTrain Epoch: 9 \tTrain_loss: 1.7123 | Train_acc: 42.8274 % | Validation_loss: 1.6741 | Validation_acc: 48.2337 %\n"
     ]
    },
    {
     "name": "stderr",
     "output_type": "stream",
     "text": [
      " 90%|\u001b[34m█████████ \u001b[0m| 9/10 [00:17<00:01,  1.96s/it]\n"
     ]
    },
    {
     "name": "stdout",
     "output_type": "stream",
     "text": [
      "\u001b[36m(launch_and_fit pid=75448)\u001b[0m \tTrain Epoch: 10 \tTrain_loss: 1.7158 | Train_acc: 40.5774 % | Validation_loss: 1.6735 | Validation_acc: 49.2754 %\n",
      "\u001b[36m(launch_and_fit pid=75448)\u001b[0m save graph in  results/FL/\n",
      "\u001b[36m(launch_and_fit pid=75448)\u001b[0m Run WITHOUT homomorphic encryption\n",
      "\u001b[36m(launch_and_fit pid=75448)\u001b[0m  To get the checkpoint\n"
     ]
    },
    {
     "name": "stderr",
     "output_type": "stream",
     "text": [
      "100%|\u001b[34m██████████\u001b[0m| 10/10 [00:19<00:00,  1.98s/it]\n"
     ]
    },
    {
     "name": "stdout",
     "output_type": "stream",
     "text": [
      "\u001b[36m(launch_and_fit pid=75448)\u001b[0m [Client 3, round 18] fit, config: {'learning_rate': 0.003, 'batch_size': '32', 'server_round': 18, 'local_epochs': 10}\n",
      "\u001b[36m(launch_and_fit pid=75448)\u001b[0m Updated model\n"
     ]
    },
    {
     "name": "stderr",
     "output_type": "stream",
     "text": [
      "  0%|\u001b[34m          \u001b[0m| 0/10 [00:00<?, ?it/s]\n"
     ]
    },
    {
     "name": "stdout",
     "output_type": "stream",
     "text": [
      "\u001b[36m(launch_and_fit pid=75448)\u001b[0m \tTrain Epoch: 1 \tTrain_loss: 1.7203 | Train_acc: 40.5238 % | Validation_loss: 1.7034 | Validation_acc: 35.9601 %\n"
     ]
    },
    {
     "name": "stderr",
     "output_type": "stream",
     "text": [
      " 10%|\u001b[34m█         \u001b[0m| 1/10 [00:01<00:17,  1.94s/it]\n"
     ]
    },
    {
     "name": "stdout",
     "output_type": "stream",
     "text": [
      "\u001b[36m(launch_and_fit pid=75448)\u001b[0m \tTrain Epoch: 2 \tTrain_loss: 1.7006 | Train_acc: 42.2083 % | Validation_loss: 1.6950 | Validation_acc: 34.2844 %\n"
     ]
    },
    {
     "name": "stderr",
     "output_type": "stream",
     "text": [
      " 20%|\u001b[34m██        \u001b[0m| 2/10 [00:03<00:15,  1.95s/it]\n"
     ]
    },
    {
     "name": "stdout",
     "output_type": "stream",
     "text": [
      "\u001b[36m(launch_and_fit pid=75448)\u001b[0m \tTrain Epoch: 3 \tTrain_loss: 1.6925 | Train_acc: 42.5357 % | Validation_loss: 1.6907 | Validation_acc: 36.3678 %\n"
     ]
    },
    {
     "name": "stderr",
     "output_type": "stream",
     "text": [
      " 30%|\u001b[34m███       \u001b[0m| 3/10 [00:05<00:13,  1.95s/it]\n"
     ]
    },
    {
     "name": "stdout",
     "output_type": "stream",
     "text": [
      "\u001b[36m(launch_and_fit pid=75448)\u001b[0m \tTrain Epoch: 4 \tTrain_loss: 1.6980 | Train_acc: 42.0179 % | Validation_loss: 1.6894 | Validation_acc: 33.4692 %\n"
     ]
    },
    {
     "name": "stderr",
     "output_type": "stream",
     "text": [
      " 40%|\u001b[34m████      \u001b[0m| 4/10 [00:07<00:11,  2.00s/it]\n"
     ]
    },
    {
     "name": "stdout",
     "output_type": "stream",
     "text": [
      "\u001b[36m(launch_and_fit pid=75448)\u001b[0m \tTrain Epoch: 5 \tTrain_loss: 1.7009 | Train_acc: 41.7024 % | Validation_loss: 1.7114 | Validation_acc: 31.3859 %\n"
     ]
    },
    {
     "name": "stderr",
     "output_type": "stream",
     "text": [
      " 50%|\u001b[34m█████     \u001b[0m| 5/10 [00:09<00:10,  2.02s/it]\n"
     ]
    },
    {
     "name": "stdout",
     "output_type": "stream",
     "text": [
      "\u001b[36m(launch_and_fit pid=75448)\u001b[0m \tTrain Epoch: 6 \tTrain_loss: 1.6948 | Train_acc: 43.4702 % | Validation_loss: 1.6974 | Validation_acc: 34.5109 %\n"
     ]
    },
    {
     "name": "stderr",
     "output_type": "stream",
     "text": [
      " 60%|\u001b[34m██████    \u001b[0m| 6/10 [00:12<00:08,  2.03s/it]\n"
     ]
    },
    {
     "name": "stdout",
     "output_type": "stream",
     "text": [
      "\u001b[36m(launch_and_fit pid=75448)\u001b[0m \tTrain Epoch: 7 \tTrain_loss: 1.6929 | Train_acc: 42.8333 % | Validation_loss: 1.6857 | Validation_acc: 34.9185 %\n"
     ]
    },
    {
     "name": "stderr",
     "output_type": "stream",
     "text": [
      " 70%|\u001b[34m███████   \u001b[0m| 7/10 [00:14<00:06,  2.02s/it]\n"
     ]
    },
    {
     "name": "stdout",
     "output_type": "stream",
     "text": [
      "\u001b[36m(launch_and_fit pid=75448)\u001b[0m \tTrain Epoch: 8 \tTrain_loss: 1.6862 | Train_acc: 45.0357 % | Validation_loss: 1.6963 | Validation_acc: 36.3678 %\n"
     ]
    },
    {
     "name": "stderr",
     "output_type": "stream",
     "text": [
      " 80%|\u001b[34m████████  \u001b[0m| 8/10 [00:16<00:04,  2.03s/it]\n"
     ]
    },
    {
     "name": "stdout",
     "output_type": "stream",
     "text": [
      "\u001b[36m(launch_and_fit pid=75448)\u001b[0m \tTrain Epoch: 9 \tTrain_loss: 1.6850 | Train_acc: 43.9583 % | Validation_loss: 1.6972 | Validation_acc: 31.7935 %\n"
     ]
    },
    {
     "name": "stderr",
     "output_type": "stream",
     "text": [
      " 90%|\u001b[34m█████████ \u001b[0m| 9/10 [00:18<00:02,  2.04s/it]\n",
      "100%|\u001b[34m██████████\u001b[0m| 10/10 [00:20<00:00,  2.02s/it]\n",
      "DEBUG flwr 2024-08-30 02:19:04,133 | server.py:236 | fit_round 18 received 4 results and 0 failures\n"
     ]
    },
    {
     "name": "stdout",
     "output_type": "stream",
     "text": [
      "\u001b[36m(launch_and_fit pid=75448)\u001b[0m \tTrain Epoch: 10 \tTrain_loss: 1.6952 | Train_acc: 43.7083 % | Validation_loss: 1.6917 | Validation_acc: 36.3678 %\n",
      "\u001b[36m(launch_and_fit pid=75448)\u001b[0m save graph in  results/FL/\n",
      "Saving round 18 aggregated_parameters...\n",
      "Updated model\n"
     ]
    },
    {
     "name": "stderr",
     "output_type": "stream",
     "text": [
      "INFO flwr 2024-08-30 02:19:04,912 | server.py:125 | fit progress: (18, 1.721299797296524, {'accuracy': 41.36904761904762}, 2377.043090229854)\n",
      "DEBUG flwr 2024-08-30 02:19:04,913 | server.py:173 | evaluate_round 18: strategy sampled 4 clients (out of 4)\n"
     ]
    },
    {
     "name": "stdout",
     "output_type": "stream",
     "text": [
      "Server-side evaluation loss 1.721299797296524 / accuracy 41.36904761904762\n",
      "\u001b[36m(launch_and_evaluate pid=75448)\u001b[0m Run WITHOUT homomorphic encryption\n",
      "\u001b[36m(launch_and_evaluate pid=75448)\u001b[0m  To get the checkpoint\n",
      "\u001b[36m(launch_and_evaluate pid=75448)\u001b[0m [Client 1] evaluate, config: {}\n",
      "\u001b[36m(launch_and_evaluate pid=75448)\u001b[0m Updated model\n",
      "\u001b[36m(launch_and_evaluate pid=75448)\u001b[0m Run WITHOUT homomorphic encryption\n",
      "\u001b[36m(launch_and_evaluate pid=75448)\u001b[0m  To get the checkpoint\n",
      "\u001b[36m(launch_and_evaluate pid=75448)\u001b[0m [Client 3] evaluate, config: {}\n",
      "\u001b[36m(launch_and_evaluate pid=75448)\u001b[0m Updated model\n",
      "\u001b[36m(launch_and_evaluate pid=75448)\u001b[0m Run WITHOUT homomorphic encryption\n",
      "\u001b[36m(launch_and_evaluate pid=75448)\u001b[0m  To get the checkpoint\n",
      "\u001b[36m(launch_and_evaluate pid=75448)\u001b[0m [Client 0] evaluate, config: {}\n",
      "\u001b[36m(launch_and_evaluate pid=75448)\u001b[0m Updated model\n",
      "\u001b[36m(launch_and_evaluate pid=75448)\u001b[0m Run WITHOUT homomorphic encryption\n",
      "\u001b[36m(launch_and_evaluate pid=75448)\u001b[0m  To get the checkpoint\n",
      "\u001b[36m(launch_and_evaluate pid=75448)\u001b[0m [Client 2] evaluate, config: {}\n",
      "\u001b[36m(launch_and_evaluate pid=75448)\u001b[0m Updated model\n"
     ]
    },
    {
     "name": "stderr",
     "output_type": "stream",
     "text": [
      "DEBUG flwr 2024-08-30 02:19:07,820 | server.py:187 | evaluate_round 18 received 4 results and 0 failures\n",
      "DEBUG flwr 2024-08-30 02:19:07,821 | server.py:222 | fit_round 19: strategy sampled 4 clients (out of 4)\n"
     ]
    },
    {
     "name": "stdout",
     "output_type": "stream",
     "text": [
      "\u001b[36m(launch_and_fit pid=75448)\u001b[0m Run WITHOUT homomorphic encryption\n",
      "\u001b[36m(launch_and_fit pid=75448)\u001b[0m  To get the checkpoint\n",
      "\u001b[36m(launch_and_fit pid=75448)\u001b[0m [Client 2, round 19] fit, config: {'learning_rate': 0.003, 'batch_size': '32', 'server_round': 19, 'local_epochs': 10}\n",
      "\u001b[36m(launch_and_fit pid=75448)\u001b[0m Updated model\n"
     ]
    },
    {
     "name": "stderr",
     "output_type": "stream",
     "text": [
      "  0%|\u001b[34m          \u001b[0m| 0/10 [00:00<?, ?it/s]\n"
     ]
    },
    {
     "name": "stdout",
     "output_type": "stream",
     "text": [
      "\u001b[36m(launch_and_fit pid=75448)\u001b[0m \tTrain Epoch: 1 \tTrain_loss: 1.7479 | Train_acc: 38.8393 % | Validation_loss: 1.6970 | Validation_acc: 45.5163 %\n"
     ]
    },
    {
     "name": "stderr",
     "output_type": "stream",
     "text": [
      " 10%|\u001b[34m█         \u001b[0m| 1/10 [00:02<00:18,  2.02s/it]\n"
     ]
    },
    {
     "name": "stdout",
     "output_type": "stream",
     "text": [
      "\u001b[36m(launch_and_fit pid=75448)\u001b[0m \tTrain Epoch: 2 \tTrain_loss: 1.7135 | Train_acc: 41.9048 % | Validation_loss: 1.6608 | Validation_acc: 48.2337 %\n"
     ]
    },
    {
     "name": "stderr",
     "output_type": "stream",
     "text": [
      " 20%|\u001b[34m██        \u001b[0m| 2/10 [00:04<00:16,  2.02s/it]\n"
     ]
    },
    {
     "name": "stdout",
     "output_type": "stream",
     "text": [
      "\u001b[36m(launch_and_fit pid=75448)\u001b[0m \tTrain Epoch: 3 \tTrain_loss: 1.7012 | Train_acc: 43.7202 % | Validation_loss: 1.6647 | Validation_acc: 51.7663 %\n"
     ]
    },
    {
     "name": "stderr",
     "output_type": "stream",
     "text": [
      " 30%|\u001b[34m███       \u001b[0m| 3/10 [00:06<00:14,  2.01s/it]\n"
     ]
    },
    {
     "name": "stdout",
     "output_type": "stream",
     "text": [
      "\u001b[36m(launch_and_fit pid=75448)\u001b[0m \tTrain Epoch: 4 \tTrain_loss: 1.6984 | Train_acc: 42.5357 % | Validation_loss: 1.6725 | Validation_acc: 47.1920 %\n"
     ]
    },
    {
     "name": "stderr",
     "output_type": "stream",
     "text": [
      " 40%|\u001b[34m████      \u001b[0m| 4/10 [00:09<00:14,  2.49s/it]\n"
     ]
    },
    {
     "name": "stdout",
     "output_type": "stream",
     "text": [
      "\u001b[36m(launch_and_fit pid=75448)\u001b[0m \tTrain Epoch: 5 \tTrain_loss: 1.7231 | Train_acc: 39.5417 % | Validation_loss: 1.6736 | Validation_acc: 50.7246 %\n"
     ]
    },
    {
     "name": "stderr",
     "output_type": "stream",
     "text": [
      " 50%|\u001b[34m█████     \u001b[0m| 5/10 [00:14<00:18,  3.65s/it]\n"
     ]
    },
    {
     "name": "stdout",
     "output_type": "stream",
     "text": [
      "\u001b[36m(launch_and_fit pid=75448)\u001b[0m \tTrain Epoch: 6 \tTrain_loss: 1.7008 | Train_acc: 44.2738 % | Validation_loss: 1.6676 | Validation_acc: 45.1087 %\n"
     ]
    },
    {
     "name": "stderr",
     "output_type": "stream",
     "text": [
      " 60%|\u001b[34m██████    \u001b[0m| 6/10 [00:20<00:17,  4.39s/it]\n"
     ]
    },
    {
     "name": "stdout",
     "output_type": "stream",
     "text": [
      "\u001b[36m(launch_and_fit pid=75448)\u001b[0m \tTrain Epoch: 7 \tTrain_loss: 1.6954 | Train_acc: 44.2679 % | Validation_loss: 1.6780 | Validation_acc: 47.1920 %\n"
     ]
    },
    {
     "name": "stderr",
     "output_type": "stream",
     "text": [
      " 70%|\u001b[34m███████   \u001b[0m| 7/10 [00:26<00:14,  4.88s/it]\n"
     ]
    },
    {
     "name": "stdout",
     "output_type": "stream",
     "text": [
      "\u001b[36m(launch_and_fit pid=75448)\u001b[0m \tTrain Epoch: 8 \tTrain_loss: 1.6955 | Train_acc: 44.0893 % | Validation_loss: 1.6963 | Validation_acc: 44.0670 %\n"
     ]
    },
    {
     "name": "stderr",
     "output_type": "stream",
     "text": [
      " 80%|\u001b[34m████████  \u001b[0m| 8/10 [00:32<00:10,  5.14s/it]\n"
     ]
    },
    {
     "name": "stdout",
     "output_type": "stream",
     "text": [
      "\u001b[36m(launch_and_fit pid=75448)\u001b[0m \tTrain Epoch: 9 \tTrain_loss: 1.6995 | Train_acc: 43.7202 % | Validation_loss: 1.6761 | Validation_acc: 48.2337 %\n"
     ]
    },
    {
     "name": "stderr",
     "output_type": "stream",
     "text": [
      " 90%|\u001b[34m█████████ \u001b[0m| 9/10 [00:38<00:05,  5.35s/it]\n"
     ]
    },
    {
     "name": "stdout",
     "output_type": "stream",
     "text": [
      "\u001b[36m(launch_and_fit pid=75448)\u001b[0m \tTrain Epoch: 10 \tTrain_loss: 1.6934 | Train_acc: 43.2202 % | Validation_loss: 1.6713 | Validation_acc: 49.6830 %\n",
      "\u001b[36m(launch_and_fit pid=75448)\u001b[0m save graph in  results/FL/\n"
     ]
    },
    {
     "name": "stderr",
     "output_type": "stream",
     "text": [
      "100%|\u001b[34m██████████\u001b[0m| 10/10 [00:43<00:00,  4.40s/it]\n"
     ]
    },
    {
     "name": "stdout",
     "output_type": "stream",
     "text": [
      "\u001b[36m(launch_and_fit pid=75448)\u001b[0m Run WITHOUT homomorphic encryption\n",
      "\u001b[36m(launch_and_fit pid=75448)\u001b[0m  To get the checkpoint\n",
      "\u001b[36m(launch_and_fit pid=75448)\u001b[0m [Client 3, round 19] fit, config: {'learning_rate': 0.003, 'batch_size': '32', 'server_round': 19, 'local_epochs': 10}\n",
      "\u001b[36m(launch_and_fit pid=75448)\u001b[0m Updated model\n"
     ]
    },
    {
     "name": "stderr",
     "output_type": "stream",
     "text": [
      "  0%|\u001b[34m          \u001b[0m| 0/10 [00:00<?, ?it/s]\n"
     ]
    },
    {
     "name": "stdout",
     "output_type": "stream",
     "text": [
      "\u001b[36m(launch_and_fit pid=75448)\u001b[0m \tTrain Epoch: 1 \tTrain_loss: 1.7430 | Train_acc: 38.8393 % | Validation_loss: 1.7344 | Validation_acc: 33.8768 %\n"
     ]
    },
    {
     "name": "stderr",
     "output_type": "stream",
     "text": [
      " 10%|\u001b[34m█         \u001b[0m| 1/10 [00:05<00:52,  5.89s/it]\n"
     ]
    },
    {
     "name": "stdout",
     "output_type": "stream",
     "text": [
      "\u001b[36m(launch_and_fit pid=75448)\u001b[0m \tTrain Epoch: 2 \tTrain_loss: 1.7065 | Train_acc: 41.0952 % | Validation_loss: 1.6948 | Validation_acc: 31.7935 %\n"
     ]
    },
    {
     "name": "stderr",
     "output_type": "stream",
     "text": [
      " 20%|\u001b[34m██        \u001b[0m| 2/10 [00:11<00:47,  5.95s/it]\n"
     ]
    },
    {
     "name": "stdout",
     "output_type": "stream",
     "text": [
      "\u001b[36m(launch_and_fit pid=75448)\u001b[0m \tTrain Epoch: 3 \tTrain_loss: 1.7041 | Train_acc: 41.5893 % | Validation_loss: 1.6845 | Validation_acc: 35.3261 %\n"
     ]
    },
    {
     "name": "stderr",
     "output_type": "stream",
     "text": [
      " 30%|\u001b[34m███       \u001b[0m| 3/10 [00:17<00:40,  5.84s/it]\n"
     ]
    },
    {
     "name": "stdout",
     "output_type": "stream",
     "text": [
      "\u001b[36m(launch_and_fit pid=75448)\u001b[0m \tTrain Epoch: 4 \tTrain_loss: 1.6991 | Train_acc: 42.1607 % | Validation_loss: 1.7029 | Validation_acc: 31.7935 %\n"
     ]
    },
    {
     "name": "stderr",
     "output_type": "stream",
     "text": [
      " 40%|\u001b[34m████      \u001b[0m| 4/10 [00:23<00:35,  5.94s/it]\n"
     ]
    },
    {
     "name": "stdout",
     "output_type": "stream",
     "text": [
      "\u001b[36m(launch_and_fit pid=75448)\u001b[0m \tTrain Epoch: 5 \tTrain_loss: 1.6893 | Train_acc: 43.9702 % | Validation_loss: 1.6921 | Validation_acc: 33.2428 %\n"
     ]
    },
    {
     "name": "stderr",
     "output_type": "stream",
     "text": [
      " 50%|\u001b[34m█████     \u001b[0m| 5/10 [00:29<00:29,  5.96s/it]\n"
     ]
    },
    {
     "name": "stdout",
     "output_type": "stream",
     "text": [
      "\u001b[36m(launch_and_fit pid=75448)\u001b[0m \tTrain Epoch: 6 \tTrain_loss: 1.6856 | Train_acc: 44.4762 % | Validation_loss: 1.6943 | Validation_acc: 35.9601 %\n"
     ]
    },
    {
     "name": "stderr",
     "output_type": "stream",
     "text": [
      " 60%|\u001b[34m██████    \u001b[0m| 6/10 [00:35<00:24,  6.01s/it]\n"
     ]
    },
    {
     "name": "stdout",
     "output_type": "stream",
     "text": [
      "\u001b[36m(launch_and_fit pid=75448)\u001b[0m \tTrain Epoch: 7 \tTrain_loss: 1.6947 | Train_acc: 43.5179 % | Validation_loss: 1.7039 | Validation_acc: 33.8768 %\n"
     ]
    },
    {
     "name": "stderr",
     "output_type": "stream",
     "text": [
      " 70%|\u001b[34m███████   \u001b[0m| 7/10 [00:41<00:17,  5.98s/it]\n"
     ]
    },
    {
     "name": "stdout",
     "output_type": "stream",
     "text": [
      "\u001b[36m(launch_and_fit pid=75448)\u001b[0m \tTrain Epoch: 8 \tTrain_loss: 1.6835 | Train_acc: 45.0893 % | Validation_loss: 1.6805 | Validation_acc: 32.8351 %\n"
     ]
    },
    {
     "name": "stderr",
     "output_type": "stream",
     "text": [
      " 80%|\u001b[34m████████  \u001b[0m| 8/10 [00:47<00:11,  5.92s/it]\n"
     ]
    },
    {
     "name": "stdout",
     "output_type": "stream",
     "text": [
      "\u001b[36m(launch_and_fit pid=75448)\u001b[0m \tTrain Epoch: 9 \tTrain_loss: 1.6763 | Train_acc: 46.0298 % | Validation_loss: 1.6897 | Validation_acc: 33.2428 %\n"
     ]
    },
    {
     "name": "stderr",
     "output_type": "stream",
     "text": [
      " 90%|\u001b[34m█████████ \u001b[0m| 9/10 [00:53<00:05,  5.88s/it]\n"
     ]
    },
    {
     "name": "stdout",
     "output_type": "stream",
     "text": [
      "\u001b[36m(launch_and_fit pid=75448)\u001b[0m \tTrain Epoch: 10 \tTrain_loss: 1.6779 | Train_acc: 45.6488 % | Validation_loss: 1.6930 | Validation_acc: 33.8768 %\n",
      "\u001b[36m(launch_and_fit pid=75448)\u001b[0m save graph in  results/FL/\n"
     ]
    },
    {
     "name": "stderr",
     "output_type": "stream",
     "text": [
      "100%|\u001b[34m██████████\u001b[0m| 10/10 [00:59<00:00,  5.92s/it]\n"
     ]
    },
    {
     "name": "stdout",
     "output_type": "stream",
     "text": [
      "\u001b[36m(launch_and_fit pid=75448)\u001b[0m Run WITHOUT homomorphic encryption\n",
      "\u001b[36m(launch_and_fit pid=75448)\u001b[0m  To get the checkpoint\n",
      "\u001b[36m(launch_and_fit pid=75448)\u001b[0m [Client 0, round 19] fit, config: {'learning_rate': 0.003, 'batch_size': '32', 'server_round': 19, 'local_epochs': 10}\n",
      "\u001b[36m(launch_and_fit pid=75448)\u001b[0m Updated model\n"
     ]
    },
    {
     "name": "stderr",
     "output_type": "stream",
     "text": [
      "  0%|\u001b[34m          \u001b[0m| 0/10 [00:00<?, ?it/s]\n"
     ]
    },
    {
     "name": "stdout",
     "output_type": "stream",
     "text": [
      "\u001b[36m(launch_and_fit pid=75448)\u001b[0m \tTrain Epoch: 1 \tTrain_loss: 1.7023 | Train_acc: 41.7143 % | Validation_loss: 1.8093 | Validation_acc: 31.7935 %\n"
     ]
    },
    {
     "name": "stderr",
     "output_type": "stream",
     "text": [
      " 10%|\u001b[34m█         \u001b[0m| 1/10 [00:05<00:53,  5.89s/it]\n"
     ]
    },
    {
     "name": "stdout",
     "output_type": "stream",
     "text": [
      "\u001b[36m(launch_and_fit pid=75448)\u001b[0m \tTrain Epoch: 2 \tTrain_loss: 1.6933 | Train_acc: 41.7143 % | Validation_loss: 1.7818 | Validation_acc: 35.9601 %\n"
     ]
    },
    {
     "name": "stderr",
     "output_type": "stream",
     "text": [
      " 20%|\u001b[34m██        \u001b[0m| 2/10 [00:11<00:47,  5.89s/it]\n"
     ]
    },
    {
     "name": "stdout",
     "output_type": "stream",
     "text": [
      "\u001b[36m(launch_and_fit pid=75448)\u001b[0m \tTrain Epoch: 3 \tTrain_loss: 1.6889 | Train_acc: 42.4048 % | Validation_loss: 1.8449 | Validation_acc: 27.6268 %\n"
     ]
    },
    {
     "name": "stderr",
     "output_type": "stream",
     "text": [
      " 30%|\u001b[34m███       \u001b[0m| 3/10 [00:17<00:40,  5.85s/it]\n"
     ]
    },
    {
     "name": "stdout",
     "output_type": "stream",
     "text": [
      "\u001b[36m(launch_and_fit pid=75448)\u001b[0m \tTrain Epoch: 4 \tTrain_loss: 1.6861 | Train_acc: 44.5298 % | Validation_loss: 1.7668 | Validation_acc: 34.9185 %\n"
     ]
    },
    {
     "name": "stderr",
     "output_type": "stream",
     "text": [
      " 40%|\u001b[34m████      \u001b[0m| 4/10 [00:23<00:35,  5.84s/it]\n"
     ]
    },
    {
     "name": "stdout",
     "output_type": "stream",
     "text": [
      "\u001b[36m(launch_and_fit pid=75448)\u001b[0m \tTrain Epoch: 5 \tTrain_loss: 1.6739 | Train_acc: 44.5893 % | Validation_loss: 1.7704 | Validation_acc: 35.5525 %\n"
     ]
    },
    {
     "name": "stderr",
     "output_type": "stream",
     "text": [
      " 50%|\u001b[34m█████     \u001b[0m| 5/10 [00:28<00:28,  5.74s/it]\n"
     ]
    },
    {
     "name": "stdout",
     "output_type": "stream",
     "text": [
      "\u001b[36m(launch_and_fit pid=75448)\u001b[0m \tTrain Epoch: 6 \tTrain_loss: 1.6757 | Train_acc: 45.1488 % | Validation_loss: 1.7728 | Validation_acc: 34.9185 %\n"
     ]
    },
    {
     "name": "stderr",
     "output_type": "stream",
     "text": [
      " 60%|\u001b[34m██████    \u001b[0m| 6/10 [00:34<00:22,  5.69s/it]\n"
     ]
    },
    {
     "name": "stdout",
     "output_type": "stream",
     "text": [
      "\u001b[36m(launch_and_fit pid=75448)\u001b[0m \tTrain Epoch: 7 \tTrain_loss: 1.6769 | Train_acc: 43.6607 % | Validation_loss: 1.8024 | Validation_acc: 31.7935 %\n"
     ]
    },
    {
     "name": "stderr",
     "output_type": "stream",
     "text": [
      " 70%|\u001b[34m███████   \u001b[0m| 7/10 [00:36<00:13,  4.47s/it]\n"
     ]
    },
    {
     "name": "stdout",
     "output_type": "stream",
     "text": [
      "\u001b[36m(launch_and_fit pid=75448)\u001b[0m \tTrain Epoch: 8 \tTrain_loss: 1.6980 | Train_acc: 41.9702 % | Validation_loss: 1.7648 | Validation_acc: 37.4094 %\n"
     ]
    },
    {
     "name": "stderr",
     "output_type": "stream",
     "text": [
      " 80%|\u001b[34m████████  \u001b[0m| 8/10 [00:38<00:07,  3.67s/it]\n"
     ]
    },
    {
     "name": "stdout",
     "output_type": "stream",
     "text": [
      "\u001b[36m(launch_and_fit pid=75448)\u001b[0m \tTrain Epoch: 9 \tTrain_loss: 1.6764 | Train_acc: 43.5238 % | Validation_loss: 1.7767 | Validation_acc: 31.3859 %\n"
     ]
    },
    {
     "name": "stderr",
     "output_type": "stream",
     "text": [
      " 90%|\u001b[34m█████████ \u001b[0m| 9/10 [00:40<00:03,  3.13s/it]\n"
     ]
    },
    {
     "name": "stdout",
     "output_type": "stream",
     "text": [
      "\u001b[36m(launch_and_fit pid=75448)\u001b[0m \tTrain Epoch: 10 \tTrain_loss: 1.6791 | Train_acc: 43.7143 % | Validation_loss: 1.7904 | Validation_acc: 33.4692 %\n",
      "\u001b[36m(launch_and_fit pid=75448)\u001b[0m save graph in  results/FL/\n"
     ]
    },
    {
     "name": "stderr",
     "output_type": "stream",
     "text": [
      "100%|\u001b[34m██████████\u001b[0m| 10/10 [00:42<00:00,  4.23s/it]\n"
     ]
    },
    {
     "name": "stdout",
     "output_type": "stream",
     "text": [
      "\u001b[36m(launch_and_fit pid=75448)\u001b[0m Run WITHOUT homomorphic encryption\n",
      "\u001b[36m(launch_and_fit pid=75448)\u001b[0m  To get the checkpoint\n",
      "\u001b[36m(launch_and_fit pid=75448)\u001b[0m [Client 1, round 19] fit, config: {'learning_rate': 0.003, 'batch_size': '32', 'server_round': 19, 'local_epochs': 10}\n",
      "\u001b[36m(launch_and_fit pid=75448)\u001b[0m Updated model\n"
     ]
    },
    {
     "name": "stderr",
     "output_type": "stream",
     "text": [
      "  0%|\u001b[34m          \u001b[0m| 0/10 [00:00<?, ?it/s]\n"
     ]
    },
    {
     "name": "stdout",
     "output_type": "stream",
     "text": [
      "\u001b[36m(launch_and_fit pid=75448)\u001b[0m \tTrain Epoch: 1 \tTrain_loss: 1.7254 | Train_acc: 40.2619 % | Validation_loss: 1.6586 | Validation_acc: 45.1087 %\n"
     ]
    },
    {
     "name": "stderr",
     "output_type": "stream",
     "text": [
      " 10%|\u001b[34m█         \u001b[0m| 1/10 [00:01<00:17,  1.98s/it]\n"
     ]
    },
    {
     "name": "stdout",
     "output_type": "stream",
     "text": [
      "\u001b[36m(launch_and_fit pid=75448)\u001b[0m \tTrain Epoch: 2 \tTrain_loss: 1.7181 | Train_acc: 39.6548 % | Validation_loss: 1.6806 | Validation_acc: 45.1087 %\n"
     ]
    },
    {
     "name": "stderr",
     "output_type": "stream",
     "text": [
      " 20%|\u001b[34m██        \u001b[0m| 2/10 [00:03<00:15,  1.97s/it]\n"
     ]
    },
    {
     "name": "stdout",
     "output_type": "stream",
     "text": [
      "\u001b[36m(launch_and_fit pid=75448)\u001b[0m \tTrain Epoch: 3 \tTrain_loss: 1.7157 | Train_acc: 41.0893 % | Validation_loss: 1.6724 | Validation_acc: 48.2337 %\n"
     ]
    },
    {
     "name": "stderr",
     "output_type": "stream",
     "text": [
      " 30%|\u001b[34m███       \u001b[0m| 3/10 [00:05<00:13,  1.96s/it]\n"
     ]
    },
    {
     "name": "stdout",
     "output_type": "stream",
     "text": [
      "\u001b[36m(launch_and_fit pid=75448)\u001b[0m \tTrain Epoch: 4 \tTrain_loss: 1.7117 | Train_acc: 42.7857 % | Validation_loss: 1.6779 | Validation_acc: 47.1920 %\n"
     ]
    },
    {
     "name": "stderr",
     "output_type": "stream",
     "text": [
      " 40%|\u001b[34m████      \u001b[0m| 4/10 [00:07<00:11,  1.95s/it]\n"
     ]
    },
    {
     "name": "stdout",
     "output_type": "stream",
     "text": [
      "\u001b[36m(launch_and_fit pid=75448)\u001b[0m \tTrain Epoch: 5 \tTrain_loss: 1.7067 | Train_acc: 42.2738 % | Validation_loss: 1.6934 | Validation_acc: 47.5996 %\n"
     ]
    },
    {
     "name": "stderr",
     "output_type": "stream",
     "text": [
      " 50%|\u001b[34m█████     \u001b[0m| 5/10 [00:09<00:09,  1.96s/it]\n"
     ]
    },
    {
     "name": "stdout",
     "output_type": "stream",
     "text": [
      "\u001b[36m(launch_and_fit pid=75448)\u001b[0m \tTrain Epoch: 6 \tTrain_loss: 1.7010 | Train_acc: 43.5179 % | Validation_loss: 1.6745 | Validation_acc: 42.6178 %\n"
     ]
    },
    {
     "name": "stderr",
     "output_type": "stream",
     "text": [
      " 60%|\u001b[34m██████    \u001b[0m| 6/10 [00:11<00:07,  1.96s/it]\n"
     ]
    },
    {
     "name": "stdout",
     "output_type": "stream",
     "text": [
      "\u001b[36m(launch_and_fit pid=75448)\u001b[0m \tTrain Epoch: 7 \tTrain_loss: 1.7160 | Train_acc: 40.5357 % | Validation_loss: 1.6796 | Validation_acc: 48.2337 %\n"
     ]
    },
    {
     "name": "stderr",
     "output_type": "stream",
     "text": [
      " 70%|\u001b[34m███████   \u001b[0m| 7/10 [00:13<00:05,  1.97s/it]\n"
     ]
    },
    {
     "name": "stdout",
     "output_type": "stream",
     "text": [
      "\u001b[36m(launch_and_fit pid=75448)\u001b[0m \tTrain Epoch: 8 \tTrain_loss: 1.6978 | Train_acc: 44.3988 % | Validation_loss: 1.7202 | Validation_acc: 37.4094 %\n"
     ]
    },
    {
     "name": "stderr",
     "output_type": "stream",
     "text": [
      " 80%|\u001b[34m████████  \u001b[0m| 8/10 [00:15<00:03,  1.97s/it]\n"
     ]
    },
    {
     "name": "stdout",
     "output_type": "stream",
     "text": [
      "\u001b[36m(launch_and_fit pid=75448)\u001b[0m \tTrain Epoch: 9 \tTrain_loss: 1.7037 | Train_acc: 42.8393 % | Validation_loss: 1.6699 | Validation_acc: 44.7011 %\n"
     ]
    },
    {
     "name": "stderr",
     "output_type": "stream",
     "text": [
      " 90%|\u001b[34m█████████ \u001b[0m| 9/10 [00:17<00:01,  1.96s/it]\n",
      "100%|\u001b[34m██████████\u001b[0m| 10/10 [00:19<00:00,  1.96s/it]\n",
      "DEBUG flwr 2024-08-30 02:21:56,637 | server.py:236 | fit_round 19 received 4 results and 0 failures\n"
     ]
    },
    {
     "name": "stdout",
     "output_type": "stream",
     "text": [
      "\u001b[36m(launch_and_fit pid=75448)\u001b[0m \tTrain Epoch: 10 \tTrain_loss: 1.7234 | Train_acc: 40.0833 % | Validation_loss: 1.6747 | Validation_acc: 49.2754 %\n",
      "\u001b[36m(launch_and_fit pid=75448)\u001b[0m save graph in  results/FL/\n",
      "Saving round 19 aggregated_parameters...\n",
      "Updated model\n"
     ]
    },
    {
     "name": "stderr",
     "output_type": "stream",
     "text": [
      "INFO flwr 2024-08-30 02:21:57,432 | server.py:125 | fit progress: (19, 1.7184186024325234, {'accuracy': 42.373511904761905}, 2549.563254030887)\n",
      "DEBUG flwr 2024-08-30 02:21:57,433 | server.py:173 | evaluate_round 19: strategy sampled 4 clients (out of 4)\n"
     ]
    },
    {
     "name": "stdout",
     "output_type": "stream",
     "text": [
      "Server-side evaluation loss 1.7184186024325234 / accuracy 42.373511904761905\n",
      "\u001b[36m(launch_and_evaluate pid=75448)\u001b[0m Run WITHOUT homomorphic encryption\n",
      "\u001b[36m(launch_and_evaluate pid=75448)\u001b[0m  To get the checkpoint\n",
      "\u001b[36m(launch_and_evaluate pid=75448)\u001b[0m [Client 3] evaluate, config: {}\n",
      "\u001b[36m(launch_and_evaluate pid=75448)\u001b[0m Updated model\n",
      "\u001b[36m(launch_and_evaluate pid=75448)\u001b[0m Run WITHOUT homomorphic encryption\n",
      "\u001b[36m(launch_and_evaluate pid=75448)\u001b[0m  To get the checkpoint\n",
      "\u001b[36m(launch_and_evaluate pid=75448)\u001b[0m [Client 0] evaluate, config: {}\n",
      "\u001b[36m(launch_and_evaluate pid=75448)\u001b[0m Updated model\n",
      "\u001b[36m(launch_and_evaluate pid=75448)\u001b[0m Run WITHOUT homomorphic encryption\n",
      "\u001b[36m(launch_and_evaluate pid=75448)\u001b[0m  To get the checkpoint\n",
      "\u001b[36m(launch_and_evaluate pid=75448)\u001b[0m [Client 2] evaluate, config: {}\n",
      "\u001b[36m(launch_and_evaluate pid=75448)\u001b[0m Updated model\n",
      "\u001b[36m(launch_and_evaluate pid=75448)\u001b[0m Run WITHOUT homomorphic encryption\n",
      "\u001b[36m(launch_and_evaluate pid=75448)\u001b[0m  To get the checkpoint\n",
      "\u001b[36m(launch_and_evaluate pid=75448)\u001b[0m [Client 1] evaluate, config: {}\n",
      "\u001b[36m(launch_and_evaluate pid=75448)\u001b[0m Updated model\n"
     ]
    },
    {
     "name": "stderr",
     "output_type": "stream",
     "text": [
      "DEBUG flwr 2024-08-30 02:21:59,967 | server.py:187 | evaluate_round 19 received 4 results and 0 failures\n",
      "DEBUG flwr 2024-08-30 02:21:59,969 | server.py:222 | fit_round 20: strategy sampled 4 clients (out of 4)\n"
     ]
    },
    {
     "name": "stdout",
     "output_type": "stream",
     "text": [
      "\u001b[36m(launch_and_fit pid=75448)\u001b[0m Run WITHOUT homomorphic encryption\n",
      "\u001b[36m(launch_and_fit pid=75448)\u001b[0m  To get the checkpoint\n",
      "\u001b[36m(launch_and_fit pid=75448)\u001b[0m [Client 1, round 20] fit, config: {'learning_rate': 0.003, 'batch_size': '32', 'server_round': 20, 'local_epochs': 10}\n",
      "\u001b[36m(launch_and_fit pid=75448)\u001b[0m Updated model\n"
     ]
    },
    {
     "name": "stderr",
     "output_type": "stream",
     "text": [
      "  0%|\u001b[34m          \u001b[0m| 0/10 [00:00<?, ?it/s]\n"
     ]
    },
    {
     "name": "stdout",
     "output_type": "stream",
     "text": [
      "\u001b[36m(launch_and_fit pid=75448)\u001b[0m \tTrain Epoch: 1 \tTrain_loss: 1.7322 | Train_acc: 40.2143 % | Validation_loss: 1.6641 | Validation_acc: 46.9656 %\n"
     ]
    },
    {
     "name": "stderr",
     "output_type": "stream",
     "text": [
      " 10%|\u001b[34m█         \u001b[0m| 1/10 [00:02<00:18,  2.02s/it]\n"
     ]
    },
    {
     "name": "stdout",
     "output_type": "stream",
     "text": [
      "\u001b[36m(launch_and_fit pid=75448)\u001b[0m \tTrain Epoch: 2 \tTrain_loss: 1.7104 | Train_acc: 41.5298 % | Validation_loss: 1.7178 | Validation_acc: 41.9837 %\n"
     ]
    },
    {
     "name": "stderr",
     "output_type": "stream",
     "text": [
      " 20%|\u001b[34m██        \u001b[0m| 2/10 [00:04<00:16,  2.00s/it]\n"
     ]
    },
    {
     "name": "stdout",
     "output_type": "stream",
     "text": [
      "\u001b[36m(launch_and_fit pid=75448)\u001b[0m \tTrain Epoch: 3 \tTrain_loss: 1.7069 | Train_acc: 43.2798 % | Validation_loss: 1.6551 | Validation_acc: 45.1087 %\n"
     ]
    },
    {
     "name": "stderr",
     "output_type": "stream",
     "text": [
      " 30%|\u001b[34m███       \u001b[0m| 3/10 [00:06<00:14,  2.00s/it]\n"
     ]
    },
    {
     "name": "stdout",
     "output_type": "stream",
     "text": [
      "\u001b[36m(launch_and_fit pid=75448)\u001b[0m \tTrain Epoch: 4 \tTrain_loss: 1.7070 | Train_acc: 42.2798 % | Validation_loss: 1.6703 | Validation_acc: 46.1504 %\n"
     ]
    },
    {
     "name": "stderr",
     "output_type": "stream",
     "text": [
      " 40%|\u001b[34m████      \u001b[0m| 4/10 [00:07<00:11,  2.00s/it]\n"
     ]
    },
    {
     "name": "stdout",
     "output_type": "stream",
     "text": [
      "\u001b[36m(launch_and_fit pid=75448)\u001b[0m \tTrain Epoch: 5 \tTrain_loss: 1.7008 | Train_acc: 42.8393 % | Validation_loss: 1.6655 | Validation_acc: 46.5580 %\n"
     ]
    },
    {
     "name": "stderr",
     "output_type": "stream",
     "text": [
      " 50%|\u001b[34m█████     \u001b[0m| 5/10 [00:09<00:09,  2.00s/it]\n"
     ]
    },
    {
     "name": "stdout",
     "output_type": "stream",
     "text": [
      "\u001b[36m(launch_and_fit pid=75448)\u001b[0m \tTrain Epoch: 6 \tTrain_loss: 1.7058 | Train_acc: 43.8274 % | Validation_loss: 1.6595 | Validation_acc: 50.7246 %\n"
     ]
    },
    {
     "name": "stderr",
     "output_type": "stream",
     "text": [
      " 60%|\u001b[34m██████    \u001b[0m| 6/10 [00:11<00:07,  1.99s/it]\n"
     ]
    },
    {
     "name": "stdout",
     "output_type": "stream",
     "text": [
      "\u001b[36m(launch_and_fit pid=75448)\u001b[0m \tTrain Epoch: 7 \tTrain_loss: 1.7063 | Train_acc: 43.2798 % | Validation_loss: 1.6632 | Validation_acc: 50.7246 %\n"
     ]
    },
    {
     "name": "stderr",
     "output_type": "stream",
     "text": [
      " 70%|\u001b[34m███████   \u001b[0m| 7/10 [00:13<00:05,  1.99s/it]\n"
     ]
    },
    {
     "name": "stdout",
     "output_type": "stream",
     "text": [
      "\u001b[36m(launch_and_fit pid=75448)\u001b[0m \tTrain Epoch: 8 \tTrain_loss: 1.6975 | Train_acc: 43.5952 % | Validation_loss: 1.6569 | Validation_acc: 48.6413 %\n"
     ]
    },
    {
     "name": "stderr",
     "output_type": "stream",
     "text": [
      " 80%|\u001b[34m████████  \u001b[0m| 8/10 [00:15<00:03,  1.97s/it]\n"
     ]
    },
    {
     "name": "stdout",
     "output_type": "stream",
     "text": [
      "\u001b[36m(launch_and_fit pid=75448)\u001b[0m \tTrain Epoch: 9 \tTrain_loss: 1.7013 | Train_acc: 43.6488 % | Validation_loss: 1.6625 | Validation_acc: 48.6413 %\n"
     ]
    },
    {
     "name": "stderr",
     "output_type": "stream",
     "text": [
      " 90%|\u001b[34m█████████ \u001b[0m| 9/10 [00:17<00:01,  1.97s/it]\n"
     ]
    },
    {
     "name": "stdout",
     "output_type": "stream",
     "text": [
      "\u001b[36m(launch_and_fit pid=75448)\u001b[0m \tTrain Epoch: 10 \tTrain_loss: 1.6906 | Train_acc: 45.2738 % | Validation_loss: 1.6789 | Validation_acc: 48.6413 %\n",
      "\u001b[36m(launch_and_fit pid=75448)\u001b[0m save graph in  results/FL/\n"
     ]
    },
    {
     "name": "stderr",
     "output_type": "stream",
     "text": [
      "100%|\u001b[34m██████████\u001b[0m| 10/10 [00:19<00:00,  1.98s/it]\n"
     ]
    },
    {
     "name": "stdout",
     "output_type": "stream",
     "text": [
      "\u001b[36m(launch_and_fit pid=75448)\u001b[0m Run WITHOUT homomorphic encryption\n",
      "\u001b[36m(launch_and_fit pid=75448)\u001b[0m  To get the checkpoint\n",
      "\u001b[36m(launch_and_fit pid=75448)\u001b[0m [Client 2, round 20] fit, config: {'learning_rate': 0.003, 'batch_size': '32', 'server_round': 20, 'local_epochs': 10}\n",
      "\u001b[36m(launch_and_fit pid=75448)\u001b[0m Updated model\n"
     ]
    },
    {
     "name": "stderr",
     "output_type": "stream",
     "text": [
      "  0%|\u001b[34m          \u001b[0m| 0/10 [00:00<?, ?it/s]\n"
     ]
    },
    {
     "name": "stdout",
     "output_type": "stream",
     "text": [
      "\u001b[36m(launch_and_fit pid=75448)\u001b[0m \tTrain Epoch: 1 \tTrain_loss: 1.7245 | Train_acc: 40.7202 % | Validation_loss: 1.6733 | Validation_acc: 48.2337 %\n"
     ]
    },
    {
     "name": "stderr",
     "output_type": "stream",
     "text": [
      " 10%|\u001b[34m█         \u001b[0m| 1/10 [00:02<00:18,  2.04s/it]\n"
     ]
    },
    {
     "name": "stdout",
     "output_type": "stream",
     "text": [
      "\u001b[36m(launch_and_fit pid=75448)\u001b[0m \tTrain Epoch: 2 \tTrain_loss: 1.7188 | Train_acc: 40.6548 % | Validation_loss: 1.6669 | Validation_acc: 47.5996 %\n"
     ]
    },
    {
     "name": "stderr",
     "output_type": "stream",
     "text": [
      " 20%|\u001b[34m██        \u001b[0m| 2/10 [00:04<00:16,  2.03s/it]\n"
     ]
    },
    {
     "name": "stdout",
     "output_type": "stream",
     "text": [
      "\u001b[36m(launch_and_fit pid=75448)\u001b[0m \tTrain Epoch: 3 \tTrain_loss: 1.7066 | Train_acc: 42.0238 % | Validation_loss: 1.6575 | Validation_acc: 50.7246 %\n"
     ]
    },
    {
     "name": "stderr",
     "output_type": "stream",
     "text": [
      " 30%|\u001b[34m███       \u001b[0m| 3/10 [00:06<00:14,  2.05s/it]\n"
     ]
    },
    {
     "name": "stdout",
     "output_type": "stream",
     "text": [
      "\u001b[36m(launch_and_fit pid=75448)\u001b[0m \tTrain Epoch: 4 \tTrain_loss: 1.7199 | Train_acc: 41.1548 % | Validation_loss: 1.6570 | Validation_acc: 48.2337 %\n"
     ]
    },
    {
     "name": "stderr",
     "output_type": "stream",
     "text": [
      " 40%|\u001b[34m████      \u001b[0m| 4/10 [00:08<00:12,  2.04s/it]\n"
     ]
    },
    {
     "name": "stdout",
     "output_type": "stream",
     "text": [
      "\u001b[36m(launch_and_fit pid=75448)\u001b[0m \tTrain Epoch: 5 \tTrain_loss: 1.7102 | Train_acc: 42.1488 % | Validation_loss: 1.6556 | Validation_acc: 48.6413 %\n"
     ]
    },
    {
     "name": "stderr",
     "output_type": "stream",
     "text": [
      " 50%|\u001b[34m█████     \u001b[0m| 5/10 [00:10<00:10,  2.00s/it]\n"
     ]
    },
    {
     "name": "stdout",
     "output_type": "stream",
     "text": [
      "\u001b[36m(launch_and_fit pid=75448)\u001b[0m \tTrain Epoch: 6 \tTrain_loss: 1.7229 | Train_acc: 40.2202 % | Validation_loss: 1.6582 | Validation_acc: 48.2337 %\n"
     ]
    },
    {
     "name": "stderr",
     "output_type": "stream",
     "text": [
      " 60%|\u001b[34m██████    \u001b[0m| 6/10 [00:12<00:07,  1.99s/it]\n"
     ]
    },
    {
     "name": "stdout",
     "output_type": "stream",
     "text": [
      "\u001b[36m(launch_and_fit pid=75448)\u001b[0m \tTrain Epoch: 7 \tTrain_loss: 1.7059 | Train_acc: 40.5298 % | Validation_loss: 1.6563 | Validation_acc: 46.1504 %\n"
     ]
    },
    {
     "name": "stderr",
     "output_type": "stream",
     "text": [
      " 70%|\u001b[34m███████   \u001b[0m| 7/10 [00:14<00:05,  1.97s/it]\n"
     ]
    },
    {
     "name": "stdout",
     "output_type": "stream",
     "text": [
      "\u001b[36m(launch_and_fit pid=75448)\u001b[0m \tTrain Epoch: 8 \tTrain_loss: 1.6995 | Train_acc: 42.5298 % | Validation_loss: 1.6699 | Validation_acc: 50.7246 %\n"
     ]
    },
    {
     "name": "stderr",
     "output_type": "stream",
     "text": [
      " 80%|\u001b[34m████████  \u001b[0m| 8/10 [00:15<00:03,  1.97s/it]\n"
     ]
    },
    {
     "name": "stdout",
     "output_type": "stream",
     "text": [
      "\u001b[36m(launch_and_fit pid=75448)\u001b[0m \tTrain Epoch: 9 \tTrain_loss: 1.7050 | Train_acc: 42.3452 % | Validation_loss: 1.6735 | Validation_acc: 47.1920 %\n"
     ]
    },
    {
     "name": "stderr",
     "output_type": "stream",
     "text": [
      " 90%|\u001b[34m█████████ \u001b[0m| 9/10 [00:17<00:01,  1.96s/it]\n"
     ]
    },
    {
     "name": "stdout",
     "output_type": "stream",
     "text": [
      "\u001b[36m(launch_and_fit pid=75448)\u001b[0m \tTrain Epoch: 10 \tTrain_loss: 1.6954 | Train_acc: 43.7143 % | Validation_loss: 1.6905 | Validation_acc: 47.5996 %\n",
      "\u001b[36m(launch_and_fit pid=75448)\u001b[0m save graph in  results/FL/\n"
     ]
    },
    {
     "name": "stderr",
     "output_type": "stream",
     "text": [
      "100%|\u001b[34m██████████\u001b[0m| 10/10 [00:19<00:00,  1.98s/it]\n"
     ]
    },
    {
     "name": "stdout",
     "output_type": "stream",
     "text": [
      "\u001b[36m(launch_and_fit pid=75448)\u001b[0m Run WITHOUT homomorphic encryption\n",
      "\u001b[36m(launch_and_fit pid=75448)\u001b[0m  To get the checkpoint\n",
      "\u001b[36m(launch_and_fit pid=75448)\u001b[0m [Client 0, round 20] fit, config: {'learning_rate': 0.003, 'batch_size': '32', 'server_round': 20, 'local_epochs': 10}\n",
      "\u001b[36m(launch_and_fit pid=75448)\u001b[0m Updated model\n"
     ]
    },
    {
     "name": "stderr",
     "output_type": "stream",
     "text": [
      "  0%|\u001b[34m          \u001b[0m| 0/10 [00:00<?, ?it/s]\n"
     ]
    },
    {
     "name": "stdout",
     "output_type": "stream",
     "text": [
      "\u001b[36m(launch_and_fit pid=75448)\u001b[0m \tTrain Epoch: 1 \tTrain_loss: 1.7001 | Train_acc: 41.6548 % | Validation_loss: 1.7866 | Validation_acc: 34.9185 %\n"
     ]
    },
    {
     "name": "stderr",
     "output_type": "stream",
     "text": [
      " 10%|\u001b[34m█         \u001b[0m| 1/10 [00:01<00:17,  1.96s/it]\n"
     ]
    },
    {
     "name": "stdout",
     "output_type": "stream",
     "text": [
      "\u001b[36m(launch_and_fit pid=75448)\u001b[0m \tTrain Epoch: 2 \tTrain_loss: 1.7048 | Train_acc: 41.0952 % | Validation_loss: 1.7748 | Validation_acc: 35.9601 %\n"
     ]
    },
    {
     "name": "stderr",
     "output_type": "stream",
     "text": [
      " 20%|\u001b[34m██        \u001b[0m| 2/10 [00:03<00:15,  1.97s/it]\n"
     ]
    },
    {
     "name": "stdout",
     "output_type": "stream",
     "text": [
      "\u001b[36m(launch_and_fit pid=75448)\u001b[0m \tTrain Epoch: 3 \tTrain_loss: 1.6746 | Train_acc: 45.1488 % | Validation_loss: 1.7831 | Validation_acc: 34.5109 %\n"
     ]
    },
    {
     "name": "stderr",
     "output_type": "stream",
     "text": [
      " 30%|\u001b[34m███       \u001b[0m| 3/10 [00:05<00:13,  1.97s/it]\n"
     ]
    },
    {
     "name": "stdout",
     "output_type": "stream",
     "text": [
      "\u001b[36m(launch_and_fit pid=75448)\u001b[0m \tTrain Epoch: 4 \tTrain_loss: 1.6893 | Train_acc: 44.0298 % | Validation_loss: 1.7734 | Validation_acc: 34.5109 %\n"
     ]
    },
    {
     "name": "stderr",
     "output_type": "stream",
     "text": [
      " 40%|\u001b[34m████      \u001b[0m| 4/10 [00:07<00:11,  1.96s/it]\n"
     ]
    },
    {
     "name": "stdout",
     "output_type": "stream",
     "text": [
      "\u001b[36m(launch_and_fit pid=75448)\u001b[0m \tTrain Epoch: 5 \tTrain_loss: 1.6708 | Train_acc: 44.5357 % | Validation_loss: 1.7855 | Validation_acc: 33.4692 %\n"
     ]
    },
    {
     "name": "stderr",
     "output_type": "stream",
     "text": [
      " 50%|\u001b[34m█████     \u001b[0m| 5/10 [00:09<00:09,  1.96s/it]\n"
     ]
    },
    {
     "name": "stdout",
     "output_type": "stream",
     "text": [
      "\u001b[36m(launch_and_fit pid=75448)\u001b[0m \tTrain Epoch: 6 \tTrain_loss: 1.6813 | Train_acc: 42.5774 % | Validation_loss: 1.7687 | Validation_acc: 31.7935 %\n"
     ]
    },
    {
     "name": "stderr",
     "output_type": "stream",
     "text": [
      " 60%|\u001b[34m██████    \u001b[0m| 6/10 [00:11<00:07,  1.96s/it]\n"
     ]
    },
    {
     "name": "stdout",
     "output_type": "stream",
     "text": [
      "\u001b[36m(launch_and_fit pid=75448)\u001b[0m \tTrain Epoch: 7 \tTrain_loss: 1.7114 | Train_acc: 40.8393 % | Validation_loss: 1.7601 | Validation_acc: 38.0435 %\n"
     ]
    },
    {
     "name": "stderr",
     "output_type": "stream",
     "text": [
      " 70%|\u001b[34m███████   \u001b[0m| 7/10 [00:13<00:05,  1.96s/it]\n"
     ]
    },
    {
     "name": "stdout",
     "output_type": "stream",
     "text": [
      "\u001b[36m(launch_and_fit pid=75448)\u001b[0m \tTrain Epoch: 8 \tTrain_loss: 1.6758 | Train_acc: 44.2857 % | Validation_loss: 1.8136 | Validation_acc: 30.3442 %\n"
     ]
    },
    {
     "name": "stderr",
     "output_type": "stream",
     "text": [
      " 80%|\u001b[34m████████  \u001b[0m| 8/10 [00:15<00:03,  1.96s/it]\n"
     ]
    },
    {
     "name": "stdout",
     "output_type": "stream",
     "text": [
      "\u001b[36m(launch_and_fit pid=75448)\u001b[0m \tTrain Epoch: 9 \tTrain_loss: 1.6672 | Train_acc: 43.8988 % | Validation_loss: 1.7813 | Validation_acc: 37.6359 %\n"
     ]
    },
    {
     "name": "stderr",
     "output_type": "stream",
     "text": [
      " 90%|\u001b[34m█████████ \u001b[0m| 9/10 [00:17<00:01,  1.96s/it]\n"
     ]
    },
    {
     "name": "stdout",
     "output_type": "stream",
     "text": [
      "\u001b[36m(launch_and_fit pid=75448)\u001b[0m \tTrain Epoch: 10 \tTrain_loss: 1.6734 | Train_acc: 45.4048 % | Validation_loss: 1.8220 | Validation_acc: 30.7518 %\n",
      "\u001b[36m(launch_and_fit pid=75448)\u001b[0m save graph in  results/FL/\n"
     ]
    },
    {
     "name": "stderr",
     "output_type": "stream",
     "text": [
      "100%|\u001b[34m██████████\u001b[0m| 10/10 [00:19<00:00,  1.96s/it]\n"
     ]
    },
    {
     "name": "stdout",
     "output_type": "stream",
     "text": [
      "\u001b[36m(launch_and_fit pid=75448)\u001b[0m Run WITHOUT homomorphic encryption\n",
      "\u001b[36m(launch_and_fit pid=75448)\u001b[0m  To get the checkpoint\n",
      "\u001b[36m(launch_and_fit pid=75448)\u001b[0m [Client 3, round 20] fit, config: {'learning_rate': 0.003, 'batch_size': '32', 'server_round': 20, 'local_epochs': 10}\n",
      "\u001b[36m(launch_and_fit pid=75448)\u001b[0m Updated model\n"
     ]
    },
    {
     "name": "stderr",
     "output_type": "stream",
     "text": [
      "  0%|\u001b[34m          \u001b[0m| 0/10 [00:00<?, ?it/s]\n"
     ]
    },
    {
     "name": "stdout",
     "output_type": "stream",
     "text": [
      "\u001b[36m(launch_and_fit pid=75448)\u001b[0m \tTrain Epoch: 1 \tTrain_loss: 1.7239 | Train_acc: 40.7798 % | Validation_loss: 1.6966 | Validation_acc: 35.9601 %\n"
     ]
    },
    {
     "name": "stderr",
     "output_type": "stream",
     "text": [
      " 10%|\u001b[34m█         \u001b[0m| 1/10 [00:02<00:18,  2.06s/it]\n"
     ]
    },
    {
     "name": "stdout",
     "output_type": "stream",
     "text": [
      "\u001b[36m(launch_and_fit pid=75448)\u001b[0m \tTrain Epoch: 2 \tTrain_loss: 1.7056 | Train_acc: 42.5893 % | Validation_loss: 1.7290 | Validation_acc: 37.4094 %\n"
     ]
    },
    {
     "name": "stderr",
     "output_type": "stream",
     "text": [
      " 20%|\u001b[34m██        \u001b[0m| 2/10 [00:04<00:16,  2.07s/it]\n"
     ]
    },
    {
     "name": "stdout",
     "output_type": "stream",
     "text": [
      "\u001b[36m(launch_and_fit pid=75448)\u001b[0m \tTrain Epoch: 3 \tTrain_loss: 1.6938 | Train_acc: 43.4048 % | Validation_loss: 1.7043 | Validation_acc: 36.3678 %\n"
     ]
    },
    {
     "name": "stderr",
     "output_type": "stream",
     "text": [
      " 30%|\u001b[34m███       \u001b[0m| 3/10 [00:06<00:14,  2.09s/it]\n"
     ]
    },
    {
     "name": "stdout",
     "output_type": "stream",
     "text": [
      "\u001b[36m(launch_and_fit pid=75448)\u001b[0m \tTrain Epoch: 4 \tTrain_loss: 1.6889 | Train_acc: 44.2679 % | Validation_loss: 1.6965 | Validation_acc: 35.3261 %\n"
     ]
    },
    {
     "name": "stderr",
     "output_type": "stream",
     "text": [
      " 40%|\u001b[34m████      \u001b[0m| 4/10 [00:08<00:12,  2.09s/it]\n"
     ]
    },
    {
     "name": "stdout",
     "output_type": "stream",
     "text": [
      "\u001b[36m(launch_and_fit pid=75448)\u001b[0m \tTrain Epoch: 5 \tTrain_loss: 1.6831 | Train_acc: 45.9762 % | Validation_loss: 1.7171 | Validation_acc: 36.3678 %\n"
     ]
    },
    {
     "name": "stderr",
     "output_type": "stream",
     "text": [
      " 50%|\u001b[34m█████     \u001b[0m| 5/10 [00:10<00:10,  2.08s/it]\n"
     ]
    },
    {
     "name": "stdout",
     "output_type": "stream",
     "text": [
      "\u001b[36m(launch_and_fit pid=75448)\u001b[0m \tTrain Epoch: 6 \tTrain_loss: 1.7045 | Train_acc: 42.0833 % | Validation_loss: 1.7116 | Validation_acc: 33.8768 %\n"
     ]
    },
    {
     "name": "stderr",
     "output_type": "stream",
     "text": [
      " 60%|\u001b[34m██████    \u001b[0m| 6/10 [00:12<00:08,  2.09s/it]\n"
     ]
    },
    {
     "name": "stdout",
     "output_type": "stream",
     "text": [
      "\u001b[36m(launch_and_fit pid=75448)\u001b[0m \tTrain Epoch: 7 \tTrain_loss: 1.6857 | Train_acc: 45.1488 % | Validation_loss: 1.6991 | Validation_acc: 33.8768 %\n"
     ]
    },
    {
     "name": "stderr",
     "output_type": "stream",
     "text": [
      " 70%|\u001b[34m███████   \u001b[0m| 7/10 [00:14<00:06,  2.08s/it]\n"
     ]
    },
    {
     "name": "stdout",
     "output_type": "stream",
     "text": [
      "\u001b[36m(launch_and_fit pid=75448)\u001b[0m \tTrain Epoch: 8 \tTrain_loss: 1.6865 | Train_acc: 46.4643 % | Validation_loss: 1.6826 | Validation_acc: 39.4928 %\n"
     ]
    },
    {
     "name": "stderr",
     "output_type": "stream",
     "text": [
      " 80%|\u001b[34m████████  \u001b[0m| 8/10 [00:16<00:04,  2.08s/it]\n"
     ]
    },
    {
     "name": "stdout",
     "output_type": "stream",
     "text": [
      "\u001b[36m(launch_and_fit pid=75448)\u001b[0m \tTrain Epoch: 9 \tTrain_loss: 1.6854 | Train_acc: 45.3393 % | Validation_loss: 1.6890 | Validation_acc: 38.4511 %\n"
     ]
    },
    {
     "name": "stderr",
     "output_type": "stream",
     "text": [
      " 90%|\u001b[34m█████████ \u001b[0m| 9/10 [00:18<00:02,  2.08s/it]\n",
      "100%|\u001b[34m██████████\u001b[0m| 10/10 [00:20<00:00,  2.08s/it]\n",
      "DEBUG flwr 2024-08-30 02:23:22,134 | server.py:236 | fit_round 20 received 4 results and 0 failures\n"
     ]
    },
    {
     "name": "stdout",
     "output_type": "stream",
     "text": [
      "\u001b[36m(launch_and_fit pid=75448)\u001b[0m \tTrain Epoch: 10 \tTrain_loss: 1.6877 | Train_acc: 44.4643 % | Validation_loss: 1.6789 | Validation_acc: 37.0018 %\n",
      "\u001b[36m(launch_and_fit pid=75448)\u001b[0m save graph in  results/FL/\n",
      "Saving round 20 aggregated_parameters...\n",
      "Updated model\n"
     ]
    },
    {
     "name": "stderr",
     "output_type": "stream",
     "text": [
      "INFO flwr 2024-08-30 02:23:22,918 | server.py:125 | fit progress: (20, 1.7238937999520982, {'accuracy': 40.066964285714285}, 2635.049061233178)\n",
      "DEBUG flwr 2024-08-30 02:23:22,919 | server.py:173 | evaluate_round 20: strategy sampled 4 clients (out of 4)\n"
     ]
    },
    {
     "name": "stdout",
     "output_type": "stream",
     "text": [
      "Server-side evaluation loss 1.7238937999520982 / accuracy 40.066964285714285\n",
      "\u001b[36m(launch_and_evaluate pid=75448)\u001b[0m Run WITHOUT homomorphic encryption\n",
      "\u001b[36m(launch_and_evaluate pid=75448)\u001b[0m  To get the checkpoint\n",
      "\u001b[36m(launch_and_evaluate pid=75448)\u001b[0m [Client 2] evaluate, config: {}\n",
      "\u001b[36m(launch_and_evaluate pid=75448)\u001b[0m Updated model\n",
      "\u001b[36m(launch_and_evaluate pid=75448)\u001b[0m Run WITHOUT homomorphic encryption\n",
      "\u001b[36m(launch_and_evaluate pid=75448)\u001b[0m  To get the checkpoint\n",
      "\u001b[36m(launch_and_evaluate pid=75448)\u001b[0m [Client 3] evaluate, config: {}\n",
      "\u001b[36m(launch_and_evaluate pid=75448)\u001b[0m Updated model\n",
      "\u001b[36m(launch_and_evaluate pid=75448)\u001b[0m Run WITHOUT homomorphic encryption\n",
      "\u001b[36m(launch_and_evaluate pid=75448)\u001b[0m  To get the checkpoint\n",
      "\u001b[36m(launch_and_evaluate pid=75448)\u001b[0m [Client 0] evaluate, config: {}\n",
      "\u001b[36m(launch_and_evaluate pid=75448)\u001b[0m Updated model\n",
      "\u001b[36m(launch_and_evaluate pid=75448)\u001b[0m Run WITHOUT homomorphic encryption\n",
      "\u001b[36m(launch_and_evaluate pid=75448)\u001b[0m  To get the checkpoint\n",
      "\u001b[36m(launch_and_evaluate pid=75448)\u001b[0m [Client 1] evaluate, config: {}\n",
      "\u001b[36m(launch_and_evaluate pid=75448)\u001b[0m Updated model\n"
     ]
    },
    {
     "name": "stderr",
     "output_type": "stream",
     "text": [
      "DEBUG flwr 2024-08-30 02:23:25,546 | server.py:187 | evaluate_round 20 received 4 results and 0 failures\n",
      "DEBUG flwr 2024-08-30 02:23:25,547 | server.py:222 | fit_round 21: strategy sampled 4 clients (out of 4)\n"
     ]
    },
    {
     "name": "stdout",
     "output_type": "stream",
     "text": [
      "\u001b[36m(launch_and_fit pid=75448)\u001b[0m Run WITHOUT homomorphic encryption\n",
      "\u001b[36m(launch_and_fit pid=75448)\u001b[0m  To get the checkpoint\n",
      "\u001b[36m(launch_and_fit pid=75448)\u001b[0m [Client 3, round 21] fit, config: {'learning_rate': 0.003, 'batch_size': '32', 'server_round': 21, 'local_epochs': 10}\n",
      "\u001b[36m(launch_and_fit pid=75448)\u001b[0m Updated model\n"
     ]
    },
    {
     "name": "stderr",
     "output_type": "stream",
     "text": [
      "  0%|\u001b[34m          \u001b[0m| 0/10 [00:00<?, ?it/s]\n"
     ]
    },
    {
     "name": "stdout",
     "output_type": "stream",
     "text": [
      "\u001b[36m(launch_and_fit pid=75448)\u001b[0m \tTrain Epoch: 1 \tTrain_loss: 1.6928 | Train_acc: 43.9821 % | Validation_loss: 1.6879 | Validation_acc: 39.4928 %\n"
     ]
    },
    {
     "name": "stderr",
     "output_type": "stream",
     "text": [
      " 10%|\u001b[34m█         \u001b[0m| 1/10 [00:02<00:18,  2.06s/it]\n"
     ]
    },
    {
     "name": "stdout",
     "output_type": "stream",
     "text": [
      "\u001b[36m(launch_and_fit pid=75448)\u001b[0m \tTrain Epoch: 2 \tTrain_loss: 1.6876 | Train_acc: 45.8393 % | Validation_loss: 1.7007 | Validation_acc: 34.2844 %\n"
     ]
    },
    {
     "name": "stderr",
     "output_type": "stream",
     "text": [
      " 20%|\u001b[34m██        \u001b[0m| 2/10 [00:04<00:16,  2.06s/it]\n"
     ]
    },
    {
     "name": "stdout",
     "output_type": "stream",
     "text": [
      "\u001b[36m(launch_and_fit pid=75448)\u001b[0m \tTrain Epoch: 3 \tTrain_loss: 1.6840 | Train_acc: 45.2857 % | Validation_loss: 1.7187 | Validation_acc: 29.3025 %\n"
     ]
    },
    {
     "name": "stderr",
     "output_type": "stream",
     "text": [
      " 30%|\u001b[34m███       \u001b[0m| 3/10 [00:06<00:14,  2.06s/it]\n"
     ]
    },
    {
     "name": "stdout",
     "output_type": "stream",
     "text": [
      "\u001b[36m(launch_and_fit pid=75448)\u001b[0m \tTrain Epoch: 4 \tTrain_loss: 1.6798 | Train_acc: 47.7202 % | Validation_loss: 1.7056 | Validation_acc: 38.8587 %\n"
     ]
    },
    {
     "name": "stderr",
     "output_type": "stream",
     "text": [
      " 40%|\u001b[34m████      \u001b[0m| 4/10 [00:08<00:12,  2.06s/it]\n"
     ]
    },
    {
     "name": "stdout",
     "output_type": "stream",
     "text": [
      "\u001b[36m(launch_and_fit pid=75448)\u001b[0m \tTrain Epoch: 5 \tTrain_loss: 1.6817 | Train_acc: 46.6607 % | Validation_loss: 1.6809 | Validation_acc: 40.5344 %\n"
     ]
    },
    {
     "name": "stderr",
     "output_type": "stream",
     "text": [
      " 50%|\u001b[34m█████     \u001b[0m| 5/10 [00:10<00:10,  2.05s/it]\n"
     ]
    },
    {
     "name": "stdout",
     "output_type": "stream",
     "text": [
      "\u001b[36m(launch_and_fit pid=75448)\u001b[0m \tTrain Epoch: 6 \tTrain_loss: 1.6758 | Train_acc: 47.7143 % | Validation_loss: 1.6842 | Validation_acc: 40.5344 %\n"
     ]
    },
    {
     "name": "stderr",
     "output_type": "stream",
     "text": [
      " 60%|\u001b[34m██████    \u001b[0m| 6/10 [00:12<00:08,  2.05s/it]\n"
     ]
    },
    {
     "name": "stdout",
     "output_type": "stream",
     "text": [
      "\u001b[36m(launch_and_fit pid=75448)\u001b[0m \tTrain Epoch: 7 \tTrain_loss: 1.6728 | Train_acc: 47.9048 % | Validation_loss: 1.7117 | Validation_acc: 33.8768 %\n"
     ]
    },
    {
     "name": "stderr",
     "output_type": "stream",
     "text": [
      " 70%|\u001b[34m███████   \u001b[0m| 7/10 [00:14<00:06,  2.05s/it]\n"
     ]
    },
    {
     "name": "stdout",
     "output_type": "stream",
     "text": [
      "\u001b[36m(launch_and_fit pid=75448)\u001b[0m \tTrain Epoch: 8 \tTrain_loss: 1.6748 | Train_acc: 47.2321 % | Validation_loss: 1.6871 | Validation_acc: 38.4511 %\n"
     ]
    },
    {
     "name": "stderr",
     "output_type": "stream",
     "text": [
      " 80%|\u001b[34m████████  \u001b[0m| 8/10 [00:16<00:04,  2.02s/it]\n"
     ]
    },
    {
     "name": "stdout",
     "output_type": "stream",
     "text": [
      "\u001b[36m(launch_and_fit pid=75448)\u001b[0m \tTrain Epoch: 9 \tTrain_loss: 1.6738 | Train_acc: 48.8452 % | Validation_loss: 1.6920 | Validation_acc: 38.8587 %\n"
     ]
    },
    {
     "name": "stderr",
     "output_type": "stream",
     "text": [
      " 90%|\u001b[34m█████████ \u001b[0m| 9/10 [00:18<00:02,  2.00s/it]\n"
     ]
    },
    {
     "name": "stdout",
     "output_type": "stream",
     "text": [
      "\u001b[36m(launch_and_fit pid=75448)\u001b[0m \tTrain Epoch: 10 \tTrain_loss: 1.6652 | Train_acc: 48.4107 % | Validation_loss: 1.6961 | Validation_acc: 37.8170 %\n",
      "\u001b[36m(launch_and_fit pid=75448)\u001b[0m save graph in  results/FL/\n"
     ]
    },
    {
     "name": "stderr",
     "output_type": "stream",
     "text": [
      "100%|\u001b[34m██████████\u001b[0m| 10/10 [00:20<00:00,  2.03s/it]\n"
     ]
    },
    {
     "name": "stdout",
     "output_type": "stream",
     "text": [
      "\u001b[36m(launch_and_fit pid=75448)\u001b[0m Run WITHOUT homomorphic encryption\n",
      "\u001b[36m(launch_and_fit pid=75448)\u001b[0m  To get the checkpoint\n",
      "\u001b[36m(launch_and_fit pid=75448)\u001b[0m [Client 2, round 21] fit, config: {'learning_rate': 0.003, 'batch_size': '32', 'server_round': 21, 'local_epochs': 10}\n",
      "\u001b[36m(launch_and_fit pid=75448)\u001b[0m Updated model\n"
     ]
    },
    {
     "name": "stderr",
     "output_type": "stream",
     "text": [
      "  0%|\u001b[34m          \u001b[0m| 0/10 [00:00<?, ?it/s]\n"
     ]
    },
    {
     "name": "stdout",
     "output_type": "stream",
     "text": [
      "\u001b[36m(launch_and_fit pid=75448)\u001b[0m \tTrain Epoch: 1 \tTrain_loss: 1.7124 | Train_acc: 41.8333 % | Validation_loss: 1.6764 | Validation_acc: 46.1504 %\n"
     ]
    },
    {
     "name": "stderr",
     "output_type": "stream",
     "text": [
      " 10%|\u001b[34m█         \u001b[0m| 1/10 [00:02<00:18,  2.01s/it]\n"
     ]
    },
    {
     "name": "stdout",
     "output_type": "stream",
     "text": [
      "\u001b[36m(launch_and_fit pid=75448)\u001b[0m \tTrain Epoch: 2 \tTrain_loss: 1.7332 | Train_acc: 38.5298 % | Validation_loss: 1.6583 | Validation_acc: 48.2337 %\n"
     ]
    },
    {
     "name": "stderr",
     "output_type": "stream",
     "text": [
      " 20%|\u001b[34m██        \u001b[0m| 2/10 [00:03<00:15,  1.98s/it]\n"
     ]
    },
    {
     "name": "stdout",
     "output_type": "stream",
     "text": [
      "\u001b[36m(launch_and_fit pid=75448)\u001b[0m \tTrain Epoch: 3 \tTrain_loss: 1.7145 | Train_acc: 41.2143 % | Validation_loss: 1.6793 | Validation_acc: 47.5996 %\n"
     ]
    },
    {
     "name": "stderr",
     "output_type": "stream",
     "text": [
      " 30%|\u001b[34m███       \u001b[0m| 3/10 [00:05<00:13,  1.96s/it]\n"
     ]
    },
    {
     "name": "stdout",
     "output_type": "stream",
     "text": [
      "\u001b[36m(launch_and_fit pid=75448)\u001b[0m \tTrain Epoch: 4 \tTrain_loss: 1.7052 | Train_acc: 42.1548 % | Validation_loss: 1.6639 | Validation_acc: 47.5996 %\n"
     ]
    },
    {
     "name": "stderr",
     "output_type": "stream",
     "text": [
      " 40%|\u001b[34m████      \u001b[0m| 4/10 [00:07<00:11,  1.95s/it]\n"
     ]
    },
    {
     "name": "stdout",
     "output_type": "stream",
     "text": [
      "\u001b[36m(launch_and_fit pid=75448)\u001b[0m \tTrain Epoch: 5 \tTrain_loss: 1.6942 | Train_acc: 43.6548 % | Validation_loss: 1.6609 | Validation_acc: 48.2337 %\n"
     ]
    },
    {
     "name": "stderr",
     "output_type": "stream",
     "text": [
      " 50%|\u001b[34m█████     \u001b[0m| 5/10 [00:09<00:09,  1.95s/it]\n"
     ]
    },
    {
     "name": "stdout",
     "output_type": "stream",
     "text": [
      "\u001b[36m(launch_and_fit pid=75448)\u001b[0m \tTrain Epoch: 6 \tTrain_loss: 1.6991 | Train_acc: 43.9583 % | Validation_loss: 1.6584 | Validation_acc: 49.6830 %\n"
     ]
    },
    {
     "name": "stderr",
     "output_type": "stream",
     "text": [
      " 60%|\u001b[34m██████    \u001b[0m| 6/10 [00:11<00:07,  1.96s/it]\n"
     ]
    },
    {
     "name": "stdout",
     "output_type": "stream",
     "text": [
      "\u001b[36m(launch_and_fit pid=75448)\u001b[0m \tTrain Epoch: 7 \tTrain_loss: 1.6899 | Train_acc: 44.5238 % | Validation_loss: 1.6503 | Validation_acc: 50.7246 %\n"
     ]
    },
    {
     "name": "stderr",
     "output_type": "stream",
     "text": [
      " 70%|\u001b[34m███████   \u001b[0m| 7/10 [00:13<00:05,  1.95s/it]\n"
     ]
    },
    {
     "name": "stdout",
     "output_type": "stream",
     "text": [
      "\u001b[36m(launch_and_fit pid=75448)\u001b[0m \tTrain Epoch: 8 \tTrain_loss: 1.6944 | Train_acc: 43.2083 % | Validation_loss: 1.6624 | Validation_acc: 48.6413 %\n"
     ]
    },
    {
     "name": "stderr",
     "output_type": "stream",
     "text": [
      " 80%|\u001b[34m████████  \u001b[0m| 8/10 [00:15<00:03,  1.95s/it]\n"
     ]
    },
    {
     "name": "stdout",
     "output_type": "stream",
     "text": [
      "\u001b[36m(launch_and_fit pid=75448)\u001b[0m \tTrain Epoch: 9 \tTrain_loss: 1.6995 | Train_acc: 43.7143 % | Validation_loss: 1.6890 | Validation_acc: 47.5996 %\n"
     ]
    },
    {
     "name": "stderr",
     "output_type": "stream",
     "text": [
      " 90%|\u001b[34m█████████ \u001b[0m| 9/10 [00:20<00:02,  2.85s/it]\n"
     ]
    },
    {
     "name": "stdout",
     "output_type": "stream",
     "text": [
      "\u001b[36m(launch_and_fit pid=75448)\u001b[0m \tTrain Epoch: 10 \tTrain_loss: 1.7070 | Train_acc: 43.3988 % | Validation_loss: 1.6768 | Validation_acc: 49.6830 %\n",
      "\u001b[36m(launch_and_fit pid=75448)\u001b[0m save graph in  results/FL/\n"
     ]
    },
    {
     "name": "stderr",
     "output_type": "stream",
     "text": [
      "100%|\u001b[34m██████████\u001b[0m| 10/10 [00:26<00:00,  2.62s/it]\n"
     ]
    },
    {
     "name": "stdout",
     "output_type": "stream",
     "text": [
      "\u001b[36m(launch_and_fit pid=75448)\u001b[0m Run WITHOUT homomorphic encryption\n",
      "\u001b[36m(launch_and_fit pid=75448)\u001b[0m  To get the checkpoint\n",
      "\u001b[36m(launch_and_fit pid=75448)\u001b[0m [Client 1, round 21] fit, config: {'learning_rate': 0.003, 'batch_size': '32', 'server_round': 21, 'local_epochs': 10}\n",
      "\u001b[36m(launch_and_fit pid=75448)\u001b[0m Updated model\n"
     ]
    },
    {
     "name": "stderr",
     "output_type": "stream",
     "text": [
      "  0%|\u001b[34m          \u001b[0m| 0/10 [00:00<?, ?it/s]\n"
     ]
    },
    {
     "name": "stdout",
     "output_type": "stream",
     "text": [
      "\u001b[36m(launch_and_fit pid=75448)\u001b[0m \tTrain Epoch: 1 \tTrain_loss: 1.7352 | Train_acc: 37.7202 % | Validation_loss: 1.6587 | Validation_acc: 47.5996 %\n"
     ]
    },
    {
     "name": "stderr",
     "output_type": "stream",
     "text": [
      " 10%|\u001b[34m█         \u001b[0m| 1/10 [00:05<00:52,  5.80s/it]\n"
     ]
    },
    {
     "name": "stdout",
     "output_type": "stream",
     "text": [
      "\u001b[36m(launch_and_fit pid=75448)\u001b[0m \tTrain Epoch: 2 \tTrain_loss: 1.7095 | Train_acc: 41.9643 % | Validation_loss: 1.6506 | Validation_acc: 49.6830 %\n"
     ]
    },
    {
     "name": "stderr",
     "output_type": "stream",
     "text": [
      " 20%|\u001b[34m██        \u001b[0m| 2/10 [00:11<00:47,  5.91s/it]\n"
     ]
    },
    {
     "name": "stdout",
     "output_type": "stream",
     "text": [
      "\u001b[36m(launch_and_fit pid=75448)\u001b[0m \tTrain Epoch: 3 \tTrain_loss: 1.7046 | Train_acc: 42.3333 % | Validation_loss: 1.6759 | Validation_acc: 42.6178 %\n"
     ]
    },
    {
     "name": "stderr",
     "output_type": "stream",
     "text": [
      " 30%|\u001b[34m███       \u001b[0m| 3/10 [00:17<00:41,  5.91s/it]\n"
     ]
    },
    {
     "name": "stdout",
     "output_type": "stream",
     "text": [
      "\u001b[36m(launch_and_fit pid=75448)\u001b[0m \tTrain Epoch: 4 \tTrain_loss: 1.7065 | Train_acc: 43.5893 % | Validation_loss: 1.6687 | Validation_acc: 48.6413 %\n"
     ]
    },
    {
     "name": "stderr",
     "output_type": "stream",
     "text": [
      " 40%|\u001b[34m████      \u001b[0m| 4/10 [00:23<00:34,  5.68s/it]\n"
     ]
    },
    {
     "name": "stdout",
     "output_type": "stream",
     "text": [
      "\u001b[36m(launch_and_fit pid=75448)\u001b[0m \tTrain Epoch: 5 \tTrain_loss: 1.6995 | Train_acc: 42.9762 % | Validation_loss: 1.6627 | Validation_acc: 45.1087 %\n"
     ]
    },
    {
     "name": "stderr",
     "output_type": "stream",
     "text": [
      " 50%|\u001b[34m█████     \u001b[0m| 5/10 [00:29<00:29,  5.82s/it]\n"
     ]
    },
    {
     "name": "stdout",
     "output_type": "stream",
     "text": [
      "\u001b[36m(launch_and_fit pid=75448)\u001b[0m \tTrain Epoch: 6 \tTrain_loss: 1.7120 | Train_acc: 42.1964 % | Validation_loss: 1.6632 | Validation_acc: 49.6830 %\n"
     ]
    },
    {
     "name": "stderr",
     "output_type": "stream",
     "text": [
      " 60%|\u001b[34m██████    \u001b[0m| 6/10 [00:34<00:23,  5.78s/it]\n"
     ]
    },
    {
     "name": "stdout",
     "output_type": "stream",
     "text": [
      "\u001b[36m(launch_and_fit pid=75448)\u001b[0m \tTrain Epoch: 7 \tTrain_loss: 1.7128 | Train_acc: 41.3929 % | Validation_loss: 1.7451 | Validation_acc: 37.8170 %\n"
     ]
    },
    {
     "name": "stderr",
     "output_type": "stream",
     "text": [
      " 70%|\u001b[34m███████   \u001b[0m| 7/10 [00:40<00:17,  5.86s/it]\n"
     ]
    },
    {
     "name": "stdout",
     "output_type": "stream",
     "text": [
      "\u001b[36m(launch_and_fit pid=75448)\u001b[0m \tTrain Epoch: 8 \tTrain_loss: 1.7456 | Train_acc: 38.2679 % | Validation_loss: 1.6560 | Validation_acc: 46.1504 %\n"
     ]
    },
    {
     "name": "stderr",
     "output_type": "stream",
     "text": [
      " 80%|\u001b[34m████████  \u001b[0m| 8/10 [00:46<00:11,  5.87s/it]\n"
     ]
    },
    {
     "name": "stdout",
     "output_type": "stream",
     "text": [
      "\u001b[36m(launch_and_fit pid=75448)\u001b[0m \tTrain Epoch: 9 \tTrain_loss: 1.7150 | Train_acc: 40.8393 % | Validation_loss: 1.7025 | Validation_acc: 43.0254 %\n"
     ]
    },
    {
     "name": "stderr",
     "output_type": "stream",
     "text": [
      " 90%|\u001b[34m█████████ \u001b[0m| 9/10 [00:52<00:05,  5.84s/it]\n"
     ]
    },
    {
     "name": "stdout",
     "output_type": "stream",
     "text": [
      "\u001b[36m(launch_and_fit pid=75448)\u001b[0m \tTrain Epoch: 10 \tTrain_loss: 1.7022 | Train_acc: 43.2083 % | Validation_loss: 1.6914 | Validation_acc: 46.1504 %\n",
      "\u001b[36m(launch_and_fit pid=75448)\u001b[0m save graph in  results/FL/\n"
     ]
    },
    {
     "name": "stderr",
     "output_type": "stream",
     "text": [
      "100%|\u001b[34m██████████\u001b[0m| 10/10 [00:58<00:00,  5.83s/it]\n"
     ]
    },
    {
     "name": "stdout",
     "output_type": "stream",
     "text": [
      "\u001b[36m(launch_and_fit pid=75448)\u001b[0m Run WITHOUT homomorphic encryption\n",
      "\u001b[36m(launch_and_fit pid=75448)\u001b[0m  To get the checkpoint\n",
      "\u001b[36m(launch_and_fit pid=75448)\u001b[0m [Client 0, round 21] fit, config: {'learning_rate': 0.003, 'batch_size': '32', 'server_round': 21, 'local_epochs': 10}\n",
      "\u001b[36m(launch_and_fit pid=75448)\u001b[0m Updated model\n"
     ]
    },
    {
     "name": "stderr",
     "output_type": "stream",
     "text": [
      "  0%|\u001b[34m          \u001b[0m| 0/10 [00:00<?, ?it/s]\n"
     ]
    },
    {
     "name": "stdout",
     "output_type": "stream",
     "text": [
      "\u001b[36m(launch_and_fit pid=75448)\u001b[0m \tTrain Epoch: 1 \tTrain_loss: 1.6894 | Train_acc: 43.6548 % | Validation_loss: 1.7782 | Validation_acc: 39.0851 %\n"
     ]
    },
    {
     "name": "stderr",
     "output_type": "stream",
     "text": [
      " 10%|\u001b[34m█         \u001b[0m| 1/10 [00:06<00:54,  6.09s/it]\n"
     ]
    },
    {
     "name": "stdout",
     "output_type": "stream",
     "text": [
      "\u001b[36m(launch_and_fit pid=75448)\u001b[0m \tTrain Epoch: 2 \tTrain_loss: 1.6739 | Train_acc: 44.9048 % | Validation_loss: 1.7872 | Validation_acc: 33.8768 %\n"
     ]
    },
    {
     "name": "stderr",
     "output_type": "stream",
     "text": [
      " 20%|\u001b[34m██        \u001b[0m| 2/10 [00:11<00:47,  5.94s/it]\n"
     ]
    },
    {
     "name": "stdout",
     "output_type": "stream",
     "text": [
      "\u001b[36m(launch_and_fit pid=75448)\u001b[0m \tTrain Epoch: 3 \tTrain_loss: 1.6856 | Train_acc: 42.5179 % | Validation_loss: 1.8593 | Validation_acc: 28.6685 %\n"
     ]
    },
    {
     "name": "stderr",
     "output_type": "stream",
     "text": [
      " 30%|\u001b[34m███       \u001b[0m| 3/10 [00:18<00:42,  6.01s/it]\n"
     ]
    },
    {
     "name": "stdout",
     "output_type": "stream",
     "text": [
      "\u001b[36m(launch_and_fit pid=75448)\u001b[0m \tTrain Epoch: 4 \tTrain_loss: 1.7062 | Train_acc: 40.4048 % | Validation_loss: 1.8069 | Validation_acc: 33.4692 %\n"
     ]
    },
    {
     "name": "stderr",
     "output_type": "stream",
     "text": [
      " 40%|\u001b[34m████      \u001b[0m| 4/10 [00:23<00:35,  5.93s/it]\n"
     ]
    },
    {
     "name": "stdout",
     "output_type": "stream",
     "text": [
      "\u001b[36m(launch_and_fit pid=75448)\u001b[0m \tTrain Epoch: 5 \tTrain_loss: 1.6880 | Train_acc: 41.5357 % | Validation_loss: 1.8137 | Validation_acc: 29.9366 %\n"
     ]
    },
    {
     "name": "stderr",
     "output_type": "stream",
     "text": [
      " 50%|\u001b[34m█████     \u001b[0m| 5/10 [00:29<00:29,  5.85s/it]\n"
     ]
    },
    {
     "name": "stdout",
     "output_type": "stream",
     "text": [
      "\u001b[36m(launch_and_fit pid=75448)\u001b[0m \tTrain Epoch: 6 \tTrain_loss: 1.6889 | Train_acc: 43.8393 % | Validation_loss: 1.8311 | Validation_acc: 30.3442 %\n"
     ]
    },
    {
     "name": "stderr",
     "output_type": "stream",
     "text": [
      " 60%|\u001b[34m██████    \u001b[0m| 6/10 [00:35<00:23,  5.87s/it]\n"
     ]
    },
    {
     "name": "stdout",
     "output_type": "stream",
     "text": [
      "\u001b[36m(launch_and_fit pid=75448)\u001b[0m \tTrain Epoch: 7 \tTrain_loss: 1.6730 | Train_acc: 43.0893 % | Validation_loss: 1.8035 | Validation_acc: 34.9185 %\n"
     ]
    },
    {
     "name": "stderr",
     "output_type": "stream",
     "text": [
      " 70%|\u001b[34m███████   \u001b[0m| 7/10 [00:41<00:17,  5.91s/it]\n"
     ]
    },
    {
     "name": "stdout",
     "output_type": "stream",
     "text": [
      "\u001b[36m(launch_and_fit pid=75448)\u001b[0m \tTrain Epoch: 8 \tTrain_loss: 1.6832 | Train_acc: 43.2560 % | Validation_loss: 1.7992 | Validation_acc: 30.3442 %\n"
     ]
    },
    {
     "name": "stderr",
     "output_type": "stream",
     "text": [
      " 80%|\u001b[34m████████  \u001b[0m| 8/10 [00:47<00:11,  5.89s/it]\n"
     ]
    },
    {
     "name": "stdout",
     "output_type": "stream",
     "text": [
      "\u001b[36m(launch_and_fit pid=75448)\u001b[0m \tTrain Epoch: 9 \tTrain_loss: 1.6667 | Train_acc: 44.1488 % | Validation_loss: 1.7796 | Validation_acc: 36.5942 %\n"
     ]
    },
    {
     "name": "stderr",
     "output_type": "stream",
     "text": [
      " 90%|\u001b[34m█████████ \u001b[0m| 9/10 [00:53<00:05,  5.93s/it]\n"
     ]
    },
    {
     "name": "stdout",
     "output_type": "stream",
     "text": [
      "\u001b[36m(launch_and_fit pid=75448)\u001b[0m \tTrain Epoch: 10 \tTrain_loss: 1.6597 | Train_acc: 45.4643 % | Validation_loss: 1.8013 | Validation_acc: 30.3442 %\n",
      "\u001b[36m(launch_and_fit pid=75448)\u001b[0m save graph in  results/FL/\n"
     ]
    },
    {
     "name": "stderr",
     "output_type": "stream",
     "text": [
      "100%|\u001b[34m██████████\u001b[0m| 10/10 [00:58<00:00,  5.90s/it]\n",
      "DEBUG flwr 2024-08-30 02:26:13,598 | server.py:236 | fit_round 21 received 4 results and 0 failures\n"
     ]
    },
    {
     "name": "stdout",
     "output_type": "stream",
     "text": [
      "Saving round 21 aggregated_parameters...\n",
      "Updated model\n"
     ]
    },
    {
     "name": "stderr",
     "output_type": "stream",
     "text": [
      "INFO flwr 2024-08-30 02:26:16,278 | server.py:125 | fit progress: (21, 1.714258998632431, {'accuracy': 41.70386904761905}, 2808.408721980173)\n",
      "DEBUG flwr 2024-08-30 02:26:16,279 | server.py:173 | evaluate_round 21: strategy sampled 4 clients (out of 4)\n"
     ]
    },
    {
     "name": "stdout",
     "output_type": "stream",
     "text": [
      "Server-side evaluation loss 1.714258998632431 / accuracy 41.70386904761905\n",
      "\u001b[36m(launch_and_evaluate pid=75448)\u001b[0m Run WITHOUT homomorphic encryption\n",
      "\u001b[36m(launch_and_evaluate pid=75448)\u001b[0m  To get the checkpoint\n",
      "\u001b[36m(launch_and_evaluate pid=75448)\u001b[0m [Client 3] evaluate, config: {}\n",
      "\u001b[36m(launch_and_evaluate pid=75448)\u001b[0m Updated model\n",
      "\u001b[36m(launch_and_evaluate pid=75448)\u001b[0m Run WITHOUT homomorphic encryption\n",
      "\u001b[36m(launch_and_evaluate pid=75448)\u001b[0m  To get the checkpoint\n",
      "\u001b[36m(launch_and_evaluate pid=75448)\u001b[0m [Client 0] evaluate, config: {}\n",
      "\u001b[36m(launch_and_evaluate pid=75448)\u001b[0m Updated model\n",
      "\u001b[36m(launch_and_evaluate pid=75448)\u001b[0m Run WITHOUT homomorphic encryption\n",
      "\u001b[36m(launch_and_evaluate pid=75448)\u001b[0m  To get the checkpoint\n",
      "\u001b[36m(launch_and_evaluate pid=75448)\u001b[0m [Client 1] evaluate, config: {}\n",
      "\u001b[36m(launch_and_evaluate pid=75448)\u001b[0m Updated model\n",
      "\u001b[36m(launch_and_evaluate pid=75448)\u001b[0m Run WITHOUT homomorphic encryption\n",
      "\u001b[36m(launch_and_evaluate pid=75448)\u001b[0m  To get the checkpoint\n",
      "\u001b[36m(launch_and_evaluate pid=75448)\u001b[0m [Client 2] evaluate, config: {}\n",
      "\u001b[36m(launch_and_evaluate pid=75448)\u001b[0m Updated model\n"
     ]
    },
    {
     "name": "stderr",
     "output_type": "stream",
     "text": [
      "DEBUG flwr 2024-08-30 02:26:26,711 | server.py:187 | evaluate_round 21 received 4 results and 0 failures\n",
      "DEBUG flwr 2024-08-30 02:26:26,712 | server.py:222 | fit_round 22: strategy sampled 4 clients (out of 4)\n"
     ]
    },
    {
     "name": "stdout",
     "output_type": "stream",
     "text": [
      "\u001b[36m(launch_and_fit pid=75448)\u001b[0m Run WITHOUT homomorphic encryption\n",
      "\u001b[36m(launch_and_fit pid=75448)\u001b[0m  To get the checkpoint\n",
      "\u001b[36m(launch_and_fit pid=75448)\u001b[0m [Client 0, round 22] fit, config: {'learning_rate': 0.003, 'batch_size': '32', 'server_round': 22, 'local_epochs': 10}\n",
      "\u001b[36m(launch_and_fit pid=75448)\u001b[0m Updated model\n"
     ]
    },
    {
     "name": "stderr",
     "output_type": "stream",
     "text": [
      "  0%|\u001b[34m          \u001b[0m| 0/10 [00:00<?, ?it/s]\n"
     ]
    },
    {
     "name": "stdout",
     "output_type": "stream",
     "text": [
      "\u001b[36m(launch_and_fit pid=75448)\u001b[0m \tTrain Epoch: 1 \tTrain_loss: 1.7046 | Train_acc: 41.1488 % | Validation_loss: 1.8536 | Validation_acc: 26.1775 %\n"
     ]
    },
    {
     "name": "stderr",
     "output_type": "stream",
     "text": [
      " 10%|\u001b[34m█         \u001b[0m| 1/10 [00:06<00:54,  6.01s/it]\n"
     ]
    },
    {
     "name": "stdout",
     "output_type": "stream",
     "text": [
      "\u001b[36m(launch_and_fit pid=75448)\u001b[0m \tTrain Epoch: 2 \tTrain_loss: 1.6947 | Train_acc: 41.4048 % | Validation_loss: 1.7794 | Validation_acc: 35.9601 %\n"
     ]
    },
    {
     "name": "stderr",
     "output_type": "stream",
     "text": [
      " 20%|\u001b[34m██        \u001b[0m| 2/10 [00:09<00:38,  4.78s/it]\n"
     ]
    },
    {
     "name": "stdout",
     "output_type": "stream",
     "text": [
      "\u001b[36m(launch_and_fit pid=75448)\u001b[0m \tTrain Epoch: 3 \tTrain_loss: 1.6758 | Train_acc: 44.5952 % | Validation_loss: 1.7849 | Validation_acc: 38.0435 %\n"
     ]
    },
    {
     "name": "stderr",
     "output_type": "stream",
     "text": [
      " 30%|\u001b[34m███       \u001b[0m| 3/10 [00:11<00:24,  3.48s/it]\n"
     ]
    },
    {
     "name": "stdout",
     "output_type": "stream",
     "text": [
      "\u001b[36m(launch_and_fit pid=75448)\u001b[0m \tTrain Epoch: 4 \tTrain_loss: 1.6629 | Train_acc: 45.9702 % | Validation_loss: 1.7942 | Validation_acc: 33.4692 %\n"
     ]
    },
    {
     "name": "stderr",
     "output_type": "stream",
     "text": [
      " 40%|\u001b[34m████      \u001b[0m| 4/10 [00:13<00:17,  2.88s/it]\n"
     ]
    },
    {
     "name": "stdout",
     "output_type": "stream",
     "text": [
      "\u001b[36m(launch_and_fit pid=75448)\u001b[0m \tTrain Epoch: 5 \tTrain_loss: 1.6730 | Train_acc: 45.2917 % | Validation_loss: 1.7794 | Validation_acc: 38.0435 %\n"
     ]
    },
    {
     "name": "stderr",
     "output_type": "stream",
     "text": [
      " 50%|\u001b[34m█████     \u001b[0m| 5/10 [00:15<00:12,  2.54s/it]\n"
     ]
    },
    {
     "name": "stdout",
     "output_type": "stream",
     "text": [
      "\u001b[36m(launch_and_fit pid=75448)\u001b[0m \tTrain Epoch: 6 \tTrain_loss: 1.6692 | Train_acc: 46.0179 % | Validation_loss: 1.8249 | Validation_acc: 27.4457 %\n"
     ]
    },
    {
     "name": "stderr",
     "output_type": "stream",
     "text": [
      " 60%|\u001b[34m██████    \u001b[0m| 6/10 [00:17<00:09,  2.34s/it]\n"
     ]
    },
    {
     "name": "stdout",
     "output_type": "stream",
     "text": [
      "\u001b[36m(launch_and_fit pid=75448)\u001b[0m \tTrain Epoch: 7 \tTrain_loss: 1.6673 | Train_acc: 46.1548 % | Validation_loss: 1.7614 | Validation_acc: 38.4511 %\n"
     ]
    },
    {
     "name": "stderr",
     "output_type": "stream",
     "text": [
      " 70%|\u001b[34m███████   \u001b[0m| 7/10 [00:19<00:06,  2.21s/it]\n"
     ]
    },
    {
     "name": "stdout",
     "output_type": "stream",
     "text": [
      "\u001b[36m(launch_and_fit pid=75448)\u001b[0m \tTrain Epoch: 8 \tTrain_loss: 1.6764 | Train_acc: 44.0833 % | Validation_loss: 1.8001 | Validation_acc: 32.4275 %\n"
     ]
    },
    {
     "name": "stderr",
     "output_type": "stream",
     "text": [
      " 80%|\u001b[34m████████  \u001b[0m| 8/10 [00:21<00:04,  2.14s/it]\n"
     ]
    },
    {
     "name": "stdout",
     "output_type": "stream",
     "text": [
      "\u001b[36m(launch_and_fit pid=75448)\u001b[0m \tTrain Epoch: 9 \tTrain_loss: 1.7116 | Train_acc: 41.8452 % | Validation_loss: 1.7925 | Validation_acc: 33.4692 %\n"
     ]
    },
    {
     "name": "stderr",
     "output_type": "stream",
     "text": [
      " 90%|\u001b[34m█████████ \u001b[0m| 9/10 [00:23<00:02,  2.08s/it]\n"
     ]
    },
    {
     "name": "stdout",
     "output_type": "stream",
     "text": [
      "\u001b[36m(launch_and_fit pid=75448)\u001b[0m \tTrain Epoch: 10 \tTrain_loss: 1.6680 | Train_acc: 46.3393 % | Validation_loss: 1.7768 | Validation_acc: 36.5942 %\n",
      "\u001b[36m(launch_and_fit pid=75448)\u001b[0m save graph in  results/FL/\n"
     ]
    },
    {
     "name": "stderr",
     "output_type": "stream",
     "text": [
      "100%|\u001b[34m██████████\u001b[0m| 10/10 [00:25<00:00,  2.55s/it]\n"
     ]
    },
    {
     "name": "stdout",
     "output_type": "stream",
     "text": [
      "\u001b[36m(launch_and_fit pid=75448)\u001b[0m Run WITHOUT homomorphic encryption\n",
      "\u001b[36m(launch_and_fit pid=75448)\u001b[0m  To get the checkpoint\n",
      "\u001b[36m(launch_and_fit pid=75448)\u001b[0m [Client 3, round 22] fit, config: {'learning_rate': 0.003, 'batch_size': '32', 'server_round': 22, 'local_epochs': 10}\n",
      "\u001b[36m(launch_and_fit pid=75448)\u001b[0m Updated model\n"
     ]
    },
    {
     "name": "stderr",
     "output_type": "stream",
     "text": [
      "  0%|\u001b[34m          \u001b[0m| 0/10 [00:00<?, ?it/s]\n"
     ]
    },
    {
     "name": "stdout",
     "output_type": "stream",
     "text": [
      "\u001b[36m(launch_and_fit pid=75448)\u001b[0m \tTrain Epoch: 1 \tTrain_loss: 1.7309 | Train_acc: 38.9048 % | Validation_loss: 1.6882 | Validation_acc: 38.8587 %\n"
     ]
    },
    {
     "name": "stderr",
     "output_type": "stream",
     "text": [
      " 10%|\u001b[34m█         \u001b[0m| 1/10 [00:02<00:18,  2.06s/it]\n"
     ]
    },
    {
     "name": "stdout",
     "output_type": "stream",
     "text": [
      "\u001b[36m(launch_and_fit pid=75448)\u001b[0m \tTrain Epoch: 2 \tTrain_loss: 1.7004 | Train_acc: 43.2202 % | Validation_loss: 1.7025 | Validation_acc: 35.3261 %\n"
     ]
    },
    {
     "name": "stderr",
     "output_type": "stream",
     "text": [
      " 20%|\u001b[34m██        \u001b[0m| 2/10 [00:04<00:16,  2.05s/it]\n"
     ]
    },
    {
     "name": "stdout",
     "output_type": "stream",
     "text": [
      "\u001b[36m(launch_and_fit pid=75448)\u001b[0m \tTrain Epoch: 3 \tTrain_loss: 1.6893 | Train_acc: 44.5298 % | Validation_loss: 1.6790 | Validation_acc: 39.4928 %\n"
     ]
    },
    {
     "name": "stderr",
     "output_type": "stream",
     "text": [
      " 30%|\u001b[34m███       \u001b[0m| 3/10 [00:06<00:14,  2.05s/it]\n"
     ]
    },
    {
     "name": "stdout",
     "output_type": "stream",
     "text": [
      "\u001b[36m(launch_and_fit pid=75448)\u001b[0m \tTrain Epoch: 4 \tTrain_loss: 1.6794 | Train_acc: 45.8571 % | Validation_loss: 1.6968 | Validation_acc: 36.7754 %\n"
     ]
    },
    {
     "name": "stderr",
     "output_type": "stream",
     "text": [
      " 40%|\u001b[34m████      \u001b[0m| 4/10 [00:08<00:12,  2.04s/it]\n"
     ]
    },
    {
     "name": "stdout",
     "output_type": "stream",
     "text": [
      "\u001b[36m(launch_and_fit pid=75448)\u001b[0m \tTrain Epoch: 5 \tTrain_loss: 1.6786 | Train_acc: 46.5238 % | Validation_loss: 1.6792 | Validation_acc: 41.9837 %\n"
     ]
    },
    {
     "name": "stderr",
     "output_type": "stream",
     "text": [
      " 50%|\u001b[34m█████     \u001b[0m| 5/10 [00:10<00:10,  2.06s/it]\n"
     ]
    },
    {
     "name": "stdout",
     "output_type": "stream",
     "text": [
      "\u001b[36m(launch_and_fit pid=75448)\u001b[0m \tTrain Epoch: 6 \tTrain_loss: 1.6773 | Train_acc: 45.8333 % | Validation_loss: 1.6910 | Validation_acc: 37.8170 %\n"
     ]
    },
    {
     "name": "stderr",
     "output_type": "stream",
     "text": [
      " 60%|\u001b[34m██████    \u001b[0m| 6/10 [00:12<00:08,  2.07s/it]\n"
     ]
    },
    {
     "name": "stdout",
     "output_type": "stream",
     "text": [
      "\u001b[36m(launch_and_fit pid=75448)\u001b[0m \tTrain Epoch: 7 \tTrain_loss: 1.7281 | Train_acc: 40.2917 % | Validation_loss: 1.7194 | Validation_acc: 34.9185 %\n"
     ]
    },
    {
     "name": "stderr",
     "output_type": "stream",
     "text": [
      " 70%|\u001b[34m███████   \u001b[0m| 7/10 [00:14<00:06,  2.07s/it]\n"
     ]
    },
    {
     "name": "stdout",
     "output_type": "stream",
     "text": [
      "\u001b[36m(launch_and_fit pid=75448)\u001b[0m \tTrain Epoch: 8 \tTrain_loss: 1.6902 | Train_acc: 45.0357 % | Validation_loss: 1.7004 | Validation_acc: 37.4094 %\n"
     ]
    },
    {
     "name": "stderr",
     "output_type": "stream",
     "text": [
      " 80%|\u001b[34m████████  \u001b[0m| 8/10 [00:16<00:04,  2.05s/it]\n"
     ]
    },
    {
     "name": "stdout",
     "output_type": "stream",
     "text": [
      "\u001b[36m(launch_and_fit pid=75448)\u001b[0m \tTrain Epoch: 9 \tTrain_loss: 1.6725 | Train_acc: 46.6667 % | Validation_loss: 1.6856 | Validation_acc: 40.9420 %\n"
     ]
    },
    {
     "name": "stderr",
     "output_type": "stream",
     "text": [
      " 90%|\u001b[34m█████████ \u001b[0m| 9/10 [00:18<00:02,  2.04s/it]\n"
     ]
    },
    {
     "name": "stdout",
     "output_type": "stream",
     "text": [
      "\u001b[36m(launch_and_fit pid=75448)\u001b[0m \tTrain Epoch: 10 \tTrain_loss: 1.6686 | Train_acc: 49.1071 % | Validation_loss: 1.6964 | Validation_acc: 40.9420 %\n",
      "\u001b[36m(launch_and_fit pid=75448)\u001b[0m save graph in  results/FL/\n"
     ]
    },
    {
     "name": "stderr",
     "output_type": "stream",
     "text": [
      "100%|\u001b[34m██████████\u001b[0m| 10/10 [00:20<00:00,  2.05s/it]\n"
     ]
    },
    {
     "name": "stdout",
     "output_type": "stream",
     "text": [
      "\u001b[36m(launch_and_fit pid=75448)\u001b[0m Run WITHOUT homomorphic encryption\n",
      "\u001b[36m(launch_and_fit pid=75448)\u001b[0m  To get the checkpoint\n",
      "\u001b[36m(launch_and_fit pid=75448)\u001b[0m [Client 2, round 22] fit, config: {'learning_rate': 0.003, 'batch_size': '32', 'server_round': 22, 'local_epochs': 10}\n",
      "\u001b[36m(launch_and_fit pid=75448)\u001b[0m Updated model\n"
     ]
    },
    {
     "name": "stderr",
     "output_type": "stream",
     "text": [
      "  0%|\u001b[34m          \u001b[0m| 0/10 [00:00<?, ?it/s]\n"
     ]
    },
    {
     "name": "stdout",
     "output_type": "stream",
     "text": [
      "\u001b[36m(launch_and_fit pid=75448)\u001b[0m \tTrain Epoch: 1 \tTrain_loss: 1.7567 | Train_acc: 37.1429 % | Validation_loss: 1.6968 | Validation_acc: 45.1087 %\n"
     ]
    },
    {
     "name": "stderr",
     "output_type": "stream",
     "text": [
      " 10%|\u001b[34m█         \u001b[0m| 1/10 [00:02<00:18,  2.01s/it]\n"
     ]
    },
    {
     "name": "stdout",
     "output_type": "stream",
     "text": [
      "\u001b[36m(launch_and_fit pid=75448)\u001b[0m \tTrain Epoch: 2 \tTrain_loss: 1.7250 | Train_acc: 41.5893 % | Validation_loss: 1.7014 | Validation_acc: 44.0670 %\n"
     ]
    },
    {
     "name": "stderr",
     "output_type": "stream",
     "text": [
      " 20%|\u001b[34m██        \u001b[0m| 2/10 [00:03<00:15,  1.96s/it]\n"
     ]
    },
    {
     "name": "stdout",
     "output_type": "stream",
     "text": [
      "\u001b[36m(launch_and_fit pid=75448)\u001b[0m \tTrain Epoch: 3 \tTrain_loss: 1.7117 | Train_acc: 41.3988 % | Validation_loss: 1.6641 | Validation_acc: 48.6413 %\n"
     ]
    },
    {
     "name": "stderr",
     "output_type": "stream",
     "text": [
      " 30%|\u001b[34m███       \u001b[0m| 3/10 [00:05<00:13,  1.98s/it]\n"
     ]
    },
    {
     "name": "stdout",
     "output_type": "stream",
     "text": [
      "\u001b[36m(launch_and_fit pid=75448)\u001b[0m \tTrain Epoch: 4 \tTrain_loss: 1.7237 | Train_acc: 40.0833 % | Validation_loss: 1.6709 | Validation_acc: 47.1920 %\n"
     ]
    },
    {
     "name": "stderr",
     "output_type": "stream",
     "text": [
      " 40%|\u001b[34m████      \u001b[0m| 4/10 [00:07<00:11,  2.00s/it]\n"
     ]
    },
    {
     "name": "stdout",
     "output_type": "stream",
     "text": [
      "\u001b[36m(launch_and_fit pid=75448)\u001b[0m \tTrain Epoch: 5 \tTrain_loss: 1.7142 | Train_acc: 40.2143 % | Validation_loss: 1.6858 | Validation_acc: 45.1087 %\n"
     ]
    },
    {
     "name": "stderr",
     "output_type": "stream",
     "text": [
      " 50%|\u001b[34m█████     \u001b[0m| 5/10 [00:09<00:09,  2.00s/it]\n"
     ]
    },
    {
     "name": "stdout",
     "output_type": "stream",
     "text": [
      "\u001b[36m(launch_and_fit pid=75448)\u001b[0m \tTrain Epoch: 6 \tTrain_loss: 1.7154 | Train_acc: 41.7738 % | Validation_loss: 1.6659 | Validation_acc: 47.1920 %\n"
     ]
    },
    {
     "name": "stderr",
     "output_type": "stream",
     "text": [
      " 60%|\u001b[34m██████    \u001b[0m| 6/10 [00:11<00:07,  2.00s/it]\n"
     ]
    },
    {
     "name": "stdout",
     "output_type": "stream",
     "text": [
      "\u001b[36m(launch_and_fit pid=75448)\u001b[0m \tTrain Epoch: 7 \tTrain_loss: 1.6983 | Train_acc: 42.9524 % | Validation_loss: 1.6538 | Validation_acc: 48.2337 %\n"
     ]
    },
    {
     "name": "stderr",
     "output_type": "stream",
     "text": [
      " 70%|\u001b[34m███████   \u001b[0m| 7/10 [00:13<00:05,  1.98s/it]\n"
     ]
    },
    {
     "name": "stdout",
     "output_type": "stream",
     "text": [
      "\u001b[36m(launch_and_fit pid=75448)\u001b[0m \tTrain Epoch: 8 \tTrain_loss: 1.7132 | Train_acc: 42.2262 % | Validation_loss: 1.6511 | Validation_acc: 50.7246 %\n"
     ]
    },
    {
     "name": "stderr",
     "output_type": "stream",
     "text": [
      " 80%|\u001b[34m████████  \u001b[0m| 8/10 [00:15<00:03,  1.97s/it]\n"
     ]
    },
    {
     "name": "stdout",
     "output_type": "stream",
     "text": [
      "\u001b[36m(launch_and_fit pid=75448)\u001b[0m \tTrain Epoch: 9 \tTrain_loss: 1.7006 | Train_acc: 43.3333 % | Validation_loss: 1.6549 | Validation_acc: 51.7663 %\n"
     ]
    },
    {
     "name": "stderr",
     "output_type": "stream",
     "text": [
      " 90%|\u001b[34m█████████ \u001b[0m| 9/10 [00:17<00:01,  1.96s/it]\n"
     ]
    },
    {
     "name": "stdout",
     "output_type": "stream",
     "text": [
      "\u001b[36m(launch_and_fit pid=75448)\u001b[0m \tTrain Epoch: 10 \tTrain_loss: 1.6880 | Train_acc: 45.7738 % | Validation_loss: 1.6660 | Validation_acc: 50.7246 %\n",
      "\u001b[36m(launch_and_fit pid=75448)\u001b[0m save graph in  results/FL/\n"
     ]
    },
    {
     "name": "stderr",
     "output_type": "stream",
     "text": [
      "100%|\u001b[34m██████████\u001b[0m| 10/10 [00:19<00:00,  1.97s/it]\n"
     ]
    },
    {
     "name": "stdout",
     "output_type": "stream",
     "text": [
      "\u001b[36m(launch_and_fit pid=75448)\u001b[0m Run WITHOUT homomorphic encryption\n",
      "\u001b[36m(launch_and_fit pid=75448)\u001b[0m  To get the checkpoint\n",
      "\u001b[36m(launch_and_fit pid=75448)\u001b[0m [Client 1, round 22] fit, config: {'learning_rate': 0.003, 'batch_size': '32', 'server_round': 22, 'local_epochs': 10}\n",
      "\u001b[36m(launch_and_fit pid=75448)\u001b[0m Updated model\n"
     ]
    },
    {
     "name": "stderr",
     "output_type": "stream",
     "text": [
      "  0%|\u001b[34m          \u001b[0m| 0/10 [00:00<?, ?it/s]\n"
     ]
    },
    {
     "name": "stdout",
     "output_type": "stream",
     "text": [
      "\u001b[36m(launch_and_fit pid=75448)\u001b[0m \tTrain Epoch: 1 \tTrain_loss: 1.7196 | Train_acc: 39.7202 % | Validation_loss: 1.6924 | Validation_acc: 43.6594 %\n"
     ]
    },
    {
     "name": "stderr",
     "output_type": "stream",
     "text": [
      " 10%|\u001b[34m█         \u001b[0m| 1/10 [00:02<00:18,  2.04s/it]\n"
     ]
    },
    {
     "name": "stdout",
     "output_type": "stream",
     "text": [
      "\u001b[36m(launch_and_fit pid=75448)\u001b[0m \tTrain Epoch: 2 \tTrain_loss: 1.7119 | Train_acc: 42.2798 % | Validation_loss: 1.6631 | Validation_acc: 49.6830 %\n"
     ]
    },
    {
     "name": "stderr",
     "output_type": "stream",
     "text": [
      " 20%|\u001b[34m██        \u001b[0m| 2/10 [00:04<00:16,  2.03s/it]\n"
     ]
    },
    {
     "name": "stdout",
     "output_type": "stream",
     "text": [
      "\u001b[36m(launch_and_fit pid=75448)\u001b[0m \tTrain Epoch: 3 \tTrain_loss: 1.7057 | Train_acc: 41.5238 % | Validation_loss: 1.6555 | Validation_acc: 49.6830 %\n"
     ]
    },
    {
     "name": "stderr",
     "output_type": "stream",
     "text": [
      " 30%|\u001b[34m███       \u001b[0m| 3/10 [00:06<00:14,  2.01s/it]\n"
     ]
    },
    {
     "name": "stdout",
     "output_type": "stream",
     "text": [
      "\u001b[36m(launch_and_fit pid=75448)\u001b[0m \tTrain Epoch: 4 \tTrain_loss: 1.6946 | Train_acc: 44.8929 % | Validation_loss: 1.6957 | Validation_acc: 42.3913 %\n"
     ]
    },
    {
     "name": "stderr",
     "output_type": "stream",
     "text": [
      " 40%|\u001b[34m████      \u001b[0m| 4/10 [00:07<00:11,  1.99s/it]\n"
     ]
    },
    {
     "name": "stdout",
     "output_type": "stream",
     "text": [
      "\u001b[36m(launch_and_fit pid=75448)\u001b[0m \tTrain Epoch: 5 \tTrain_loss: 1.6976 | Train_acc: 43.9702 % | Validation_loss: 1.6974 | Validation_acc: 41.9837 %\n"
     ]
    },
    {
     "name": "stderr",
     "output_type": "stream",
     "text": [
      " 50%|\u001b[34m█████     \u001b[0m| 5/10 [00:09<00:09,  1.97s/it]\n"
     ]
    },
    {
     "name": "stdout",
     "output_type": "stream",
     "text": [
      "\u001b[36m(launch_and_fit pid=75448)\u001b[0m \tTrain Epoch: 6 \tTrain_loss: 1.6939 | Train_acc: 44.4583 % | Validation_loss: 1.6620 | Validation_acc: 51.1322 %\n"
     ]
    },
    {
     "name": "stderr",
     "output_type": "stream",
     "text": [
      " 60%|\u001b[34m██████    \u001b[0m| 6/10 [00:11<00:07,  1.96s/it]\n"
     ]
    },
    {
     "name": "stdout",
     "output_type": "stream",
     "text": [
      "\u001b[36m(launch_and_fit pid=75448)\u001b[0m \tTrain Epoch: 7 \tTrain_loss: 1.7257 | Train_acc: 39.7024 % | Validation_loss: 1.7396 | Validation_acc: 37.4094 %\n"
     ]
    },
    {
     "name": "stderr",
     "output_type": "stream",
     "text": [
      " 70%|\u001b[34m███████   \u001b[0m| 7/10 [00:13<00:05,  1.96s/it]\n"
     ]
    },
    {
     "name": "stdout",
     "output_type": "stream",
     "text": [
      "\u001b[36m(launch_and_fit pid=75448)\u001b[0m \tTrain Epoch: 8 \tTrain_loss: 1.7013 | Train_acc: 42.8393 % | Validation_loss: 1.6952 | Validation_acc: 47.5996 %\n"
     ]
    },
    {
     "name": "stderr",
     "output_type": "stream",
     "text": [
      " 80%|\u001b[34m████████  \u001b[0m| 8/10 [00:15<00:03,  1.95s/it]\n"
     ]
    },
    {
     "name": "stdout",
     "output_type": "stream",
     "text": [
      "\u001b[36m(launch_and_fit pid=75448)\u001b[0m \tTrain Epoch: 9 \tTrain_loss: 1.6935 | Train_acc: 43.9048 % | Validation_loss: 1.7000 | Validation_acc: 45.9239 %\n"
     ]
    },
    {
     "name": "stderr",
     "output_type": "stream",
     "text": [
      " 90%|\u001b[34m█████████ \u001b[0m| 9/10 [00:17<00:01,  1.95s/it]\n",
      "100%|\u001b[34m██████████\u001b[0m| 10/10 [00:19<00:00,  1.96s/it]\n",
      "DEBUG flwr 2024-08-30 02:27:54,526 | server.py:236 | fit_round 22 received 4 results and 0 failures\n"
     ]
    },
    {
     "name": "stdout",
     "output_type": "stream",
     "text": [
      "\u001b[36m(launch_and_fit pid=75448)\u001b[0m \tTrain Epoch: 10 \tTrain_loss: 1.6958 | Train_acc: 44.5298 % | Validation_loss: 1.6589 | Validation_acc: 49.6830 %\n",
      "\u001b[36m(launch_and_fit pid=75448)\u001b[0m save graph in  results/FL/\n",
      "Saving round 22 aggregated_parameters...\n",
      "Updated model\n"
     ]
    },
    {
     "name": "stderr",
     "output_type": "stream",
     "text": [
      "INFO flwr 2024-08-30 02:27:55,320 | server.py:125 | fit progress: (22, 1.7115991924490248, {'accuracy': 41.70386904761905}, 2907.4513480942696)\n",
      "DEBUG flwr 2024-08-30 02:27:55,321 | server.py:173 | evaluate_round 22: strategy sampled 4 clients (out of 4)\n"
     ]
    },
    {
     "name": "stdout",
     "output_type": "stream",
     "text": [
      "Server-side evaluation loss 1.7115991924490248 / accuracy 41.70386904761905\n",
      "\u001b[36m(launch_and_evaluate pid=75448)\u001b[0m Run WITHOUT homomorphic encryption\n",
      "\u001b[36m(launch_and_evaluate pid=75448)\u001b[0m  To get the checkpoint\n",
      "\u001b[36m(launch_and_evaluate pid=75448)\u001b[0m [Client 0] evaluate, config: {}\n",
      "\u001b[36m(launch_and_evaluate pid=75448)\u001b[0m Updated model\n",
      "\u001b[36m(launch_and_evaluate pid=75448)\u001b[0m Run WITHOUT homomorphic encryption\n",
      "\u001b[36m(launch_and_evaluate pid=75448)\u001b[0m  To get the checkpoint\n",
      "\u001b[36m(launch_and_evaluate pid=75448)\u001b[0m [Client 1] evaluate, config: {}\n",
      "\u001b[36m(launch_and_evaluate pid=75448)\u001b[0m Updated model\n",
      "\u001b[36m(launch_and_evaluate pid=75448)\u001b[0m Run WITHOUT homomorphic encryption\n",
      "\u001b[36m(launch_and_evaluate pid=75448)\u001b[0m  To get the checkpoint\n",
      "\u001b[36m(launch_and_evaluate pid=75448)\u001b[0m [Client 3] evaluate, config: {}\n",
      "\u001b[36m(launch_and_evaluate pid=75448)\u001b[0m Updated model\n",
      "\u001b[36m(launch_and_evaluate pid=75448)\u001b[0m Run WITHOUT homomorphic encryption\n",
      "\u001b[36m(launch_and_evaluate pid=75448)\u001b[0m  To get the checkpoint\n",
      "\u001b[36m(launch_and_evaluate pid=75448)\u001b[0m [Client 2] evaluate, config: {}\n",
      "\u001b[36m(launch_and_evaluate pid=75448)\u001b[0m Updated model\n"
     ]
    },
    {
     "name": "stderr",
     "output_type": "stream",
     "text": [
      "DEBUG flwr 2024-08-30 02:27:57,810 | server.py:187 | evaluate_round 22 received 4 results and 0 failures\n",
      "DEBUG flwr 2024-08-30 02:27:57,811 | server.py:222 | fit_round 23: strategy sampled 4 clients (out of 4)\n"
     ]
    },
    {
     "name": "stdout",
     "output_type": "stream",
     "text": [
      "\u001b[36m(launch_and_fit pid=75448)\u001b[0m Run WITHOUT homomorphic encryption\n",
      "\u001b[36m(launch_and_fit pid=75448)\u001b[0m  To get the checkpoint\n",
      "\u001b[36m(launch_and_fit pid=75448)\u001b[0m [Client 1, round 23] fit, config: {'learning_rate': 0.003, 'batch_size': '32', 'server_round': 23, 'local_epochs': 10}\n",
      "\u001b[36m(launch_and_fit pid=75448)\u001b[0m Updated model\n"
     ]
    },
    {
     "name": "stderr",
     "output_type": "stream",
     "text": [
      "  0%|\u001b[34m          \u001b[0m| 0/10 [00:00<?, ?it/s]\n"
     ]
    },
    {
     "name": "stdout",
     "output_type": "stream",
     "text": [
      "\u001b[36m(launch_and_fit pid=75448)\u001b[0m \tTrain Epoch: 1 \tTrain_loss: 1.7197 | Train_acc: 41.1429 % | Validation_loss: 1.6541 | Validation_acc: 48.2337 %\n"
     ]
    },
    {
     "name": "stderr",
     "output_type": "stream",
     "text": [
      " 10%|\u001b[34m█         \u001b[0m| 1/10 [00:01<00:17,  1.93s/it]\n"
     ]
    },
    {
     "name": "stdout",
     "output_type": "stream",
     "text": [
      "\u001b[36m(launch_and_fit pid=75448)\u001b[0m \tTrain Epoch: 2 \tTrain_loss: 1.7064 | Train_acc: 43.0952 % | Validation_loss: 1.6466 | Validation_acc: 49.2754 %\n"
     ]
    },
    {
     "name": "stderr",
     "output_type": "stream",
     "text": [
      " 20%|\u001b[34m██        \u001b[0m| 2/10 [00:03<00:15,  1.98s/it]\n"
     ]
    },
    {
     "name": "stdout",
     "output_type": "stream",
     "text": [
      "\u001b[36m(launch_and_fit pid=75448)\u001b[0m \tTrain Epoch: 3 \tTrain_loss: 1.6968 | Train_acc: 43.9583 % | Validation_loss: 1.6790 | Validation_acc: 51.1322 %\n"
     ]
    },
    {
     "name": "stderr",
     "output_type": "stream",
     "text": [
      " 30%|\u001b[34m███       \u001b[0m| 3/10 [00:05<00:13,  1.99s/it]\n"
     ]
    },
    {
     "name": "stdout",
     "output_type": "stream",
     "text": [
      "\u001b[36m(launch_and_fit pid=75448)\u001b[0m \tTrain Epoch: 4 \tTrain_loss: 1.6920 | Train_acc: 45.0238 % | Validation_loss: 1.7104 | Validation_acc: 46.5580 %\n"
     ]
    },
    {
     "name": "stderr",
     "output_type": "stream",
     "text": [
      " 40%|\u001b[34m████      \u001b[0m| 4/10 [00:07<00:11,  1.99s/it]\n"
     ]
    },
    {
     "name": "stdout",
     "output_type": "stream",
     "text": [
      "\u001b[36m(launch_and_fit pid=75448)\u001b[0m \tTrain Epoch: 5 \tTrain_loss: 1.7027 | Train_acc: 43.0238 % | Validation_loss: 1.6846 | Validation_acc: 48.6413 %\n"
     ]
    },
    {
     "name": "stderr",
     "output_type": "stream",
     "text": [
      " 50%|\u001b[34m█████     \u001b[0m| 5/10 [00:09<00:09,  1.97s/it]\n"
     ]
    },
    {
     "name": "stdout",
     "output_type": "stream",
     "text": [
      "\u001b[36m(launch_and_fit pid=75448)\u001b[0m \tTrain Epoch: 6 \tTrain_loss: 1.6954 | Train_acc: 43.9702 % | Validation_loss: 1.6581 | Validation_acc: 47.1920 %\n"
     ]
    },
    {
     "name": "stderr",
     "output_type": "stream",
     "text": [
      " 60%|\u001b[34m██████    \u001b[0m| 6/10 [00:11<00:07,  1.97s/it]\n"
     ]
    },
    {
     "name": "stdout",
     "output_type": "stream",
     "text": [
      "\u001b[36m(launch_and_fit pid=75448)\u001b[0m \tTrain Epoch: 7 \tTrain_loss: 1.6903 | Train_acc: 44.7321 % | Validation_loss: 1.6826 | Validation_acc: 46.5580 %\n"
     ]
    },
    {
     "name": "stderr",
     "output_type": "stream",
     "text": [
      " 70%|\u001b[34m███████   \u001b[0m| 7/10 [00:13<00:05,  1.98s/it]\n"
     ]
    },
    {
     "name": "stdout",
     "output_type": "stream",
     "text": [
      "\u001b[36m(launch_and_fit pid=75448)\u001b[0m \tTrain Epoch: 8 \tTrain_loss: 1.6851 | Train_acc: 45.6488 % | Validation_loss: 1.6504 | Validation_acc: 50.3170 %\n"
     ]
    },
    {
     "name": "stderr",
     "output_type": "stream",
     "text": [
      " 80%|\u001b[34m████████  \u001b[0m| 8/10 [00:15<00:03,  1.97s/it]\n"
     ]
    },
    {
     "name": "stdout",
     "output_type": "stream",
     "text": [
      "\u001b[36m(launch_and_fit pid=75448)\u001b[0m \tTrain Epoch: 9 \tTrain_loss: 1.6777 | Train_acc: 46.3333 % | Validation_loss: 1.6461 | Validation_acc: 50.3170 %\n"
     ]
    },
    {
     "name": "stderr",
     "output_type": "stream",
     "text": [
      " 90%|\u001b[34m█████████ \u001b[0m| 9/10 [00:17<00:01,  1.97s/it]\n"
     ]
    },
    {
     "name": "stdout",
     "output_type": "stream",
     "text": [
      "\u001b[36m(launch_and_fit pid=75448)\u001b[0m \tTrain Epoch: 10 \tTrain_loss: 1.6791 | Train_acc: 46.4048 % | Validation_loss: 1.6665 | Validation_acc: 45.1087 %\n",
      "\u001b[36m(launch_and_fit pid=75448)\u001b[0m save graph in  results/FL/\n"
     ]
    },
    {
     "name": "stderr",
     "output_type": "stream",
     "text": [
      "100%|\u001b[34m██████████\u001b[0m| 10/10 [00:19<00:00,  1.97s/it]\n"
     ]
    },
    {
     "name": "stdout",
     "output_type": "stream",
     "text": [
      "\u001b[36m(launch_and_fit pid=75448)\u001b[0m Run WITHOUT homomorphic encryption\n",
      "\u001b[36m(launch_and_fit pid=75448)\u001b[0m  To get the checkpoint\n",
      "\u001b[36m(launch_and_fit pid=75448)\u001b[0m [Client 0, round 23] fit, config: {'learning_rate': 0.003, 'batch_size': '32', 'server_round': 23, 'local_epochs': 10}\n",
      "\u001b[36m(launch_and_fit pid=75448)\u001b[0m Updated model\n"
     ]
    },
    {
     "name": "stderr",
     "output_type": "stream",
     "text": [
      "  0%|\u001b[34m          \u001b[0m| 0/10 [00:00<?, ?it/s]\n"
     ]
    },
    {
     "name": "stdout",
     "output_type": "stream",
     "text": [
      "\u001b[36m(launch_and_fit pid=75448)\u001b[0m \tTrain Epoch: 1 \tTrain_loss: 1.7059 | Train_acc: 40.2798 % | Validation_loss: 1.7640 | Validation_acc: 39.9004 %\n"
     ]
    },
    {
     "name": "stderr",
     "output_type": "stream",
     "text": [
      " 10%|\u001b[34m█         \u001b[0m| 1/10 [00:01<00:17,  1.95s/it]\n"
     ]
    },
    {
     "name": "stdout",
     "output_type": "stream",
     "text": [
      "\u001b[36m(launch_and_fit pid=75448)\u001b[0m \tTrain Epoch: 2 \tTrain_loss: 1.6788 | Train_acc: 44.3988 % | Validation_loss: 1.7749 | Validation_acc: 37.0018 %\n"
     ]
    },
    {
     "name": "stderr",
     "output_type": "stream",
     "text": [
      " 20%|\u001b[34m██        \u001b[0m| 2/10 [00:03<00:15,  1.98s/it]\n"
     ]
    },
    {
     "name": "stdout",
     "output_type": "stream",
     "text": [
      "\u001b[36m(launch_and_fit pid=75448)\u001b[0m \tTrain Epoch: 3 \tTrain_loss: 1.6680 | Train_acc: 45.3333 % | Validation_loss: 1.7766 | Validation_acc: 35.5525 %\n"
     ]
    },
    {
     "name": "stderr",
     "output_type": "stream",
     "text": [
      " 30%|\u001b[34m███       \u001b[0m| 3/10 [00:05<00:13,  2.00s/it]\n"
     ]
    },
    {
     "name": "stdout",
     "output_type": "stream",
     "text": [
      "\u001b[36m(launch_and_fit pid=75448)\u001b[0m \tTrain Epoch: 4 \tTrain_loss: 1.6618 | Train_acc: 45.9107 % | Validation_loss: 1.7917 | Validation_acc: 32.0199 %\n"
     ]
    },
    {
     "name": "stderr",
     "output_type": "stream",
     "text": [
      " 40%|\u001b[34m████      \u001b[0m| 4/10 [00:07<00:12,  2.00s/it]\n"
     ]
    },
    {
     "name": "stdout",
     "output_type": "stream",
     "text": [
      "\u001b[36m(launch_and_fit pid=75448)\u001b[0m \tTrain Epoch: 5 \tTrain_loss: 1.6820 | Train_acc: 42.9643 % | Validation_loss: 1.7863 | Validation_acc: 34.5109 %\n"
     ]
    },
    {
     "name": "stderr",
     "output_type": "stream",
     "text": [
      " 50%|\u001b[34m█████     \u001b[0m| 5/10 [00:09<00:10,  2.01s/it]\n"
     ]
    },
    {
     "name": "stdout",
     "output_type": "stream",
     "text": [
      "\u001b[36m(launch_and_fit pid=75448)\u001b[0m \tTrain Epoch: 6 \tTrain_loss: 1.6795 | Train_acc: 44.6667 % | Validation_loss: 1.7678 | Validation_acc: 33.8768 %\n"
     ]
    },
    {
     "name": "stderr",
     "output_type": "stream",
     "text": [
      " 60%|\u001b[34m██████    \u001b[0m| 6/10 [00:12<00:08,  2.02s/it]\n"
     ]
    },
    {
     "name": "stdout",
     "output_type": "stream",
     "text": [
      "\u001b[36m(launch_and_fit pid=75448)\u001b[0m \tTrain Epoch: 7 \tTrain_loss: 1.6682 | Train_acc: 44.7738 % | Validation_loss: 1.7693 | Validation_acc: 39.0851 %\n"
     ]
    },
    {
     "name": "stderr",
     "output_type": "stream",
     "text": [
      " 70%|\u001b[34m███████   \u001b[0m| 7/10 [00:14<00:06,  2.02s/it]\n"
     ]
    },
    {
     "name": "stdout",
     "output_type": "stream",
     "text": [
      "\u001b[36m(launch_and_fit pid=75448)\u001b[0m \tTrain Epoch: 8 \tTrain_loss: 1.6575 | Train_acc: 46.4226 % | Validation_loss: 1.7734 | Validation_acc: 37.0018 %\n"
     ]
    },
    {
     "name": "stderr",
     "output_type": "stream",
     "text": [
      " 80%|\u001b[34m████████  \u001b[0m| 8/10 [00:16<00:04,  2.02s/it]\n"
     ]
    },
    {
     "name": "stdout",
     "output_type": "stream",
     "text": [
      "\u001b[36m(launch_and_fit pid=75448)\u001b[0m \tTrain Epoch: 9 \tTrain_loss: 1.6594 | Train_acc: 47.2024 % | Validation_loss: 1.7742 | Validation_acc: 37.8170 %\n"
     ]
    },
    {
     "name": "stderr",
     "output_type": "stream",
     "text": [
      " 90%|\u001b[34m█████████ \u001b[0m| 9/10 [00:18<00:02,  2.01s/it]\n"
     ]
    },
    {
     "name": "stdout",
     "output_type": "stream",
     "text": [
      "\u001b[36m(launch_and_fit pid=75448)\u001b[0m \tTrain Epoch: 10 \tTrain_loss: 1.6684 | Train_acc: 45.9643 % | Validation_loss: 1.8297 | Validation_acc: 29.7101 %\n",
      "\u001b[36m(launch_and_fit pid=75448)\u001b[0m save graph in  results/FL/\n"
     ]
    },
    {
     "name": "stderr",
     "output_type": "stream",
     "text": [
      "100%|\u001b[34m██████████\u001b[0m| 10/10 [00:20<00:00,  2.00s/it]\n"
     ]
    },
    {
     "name": "stdout",
     "output_type": "stream",
     "text": [
      "\u001b[36m(launch_and_fit pid=75448)\u001b[0m Run WITHOUT homomorphic encryption\n",
      "\u001b[36m(launch_and_fit pid=75448)\u001b[0m  To get the checkpoint\n",
      "\u001b[36m(launch_and_fit pid=75448)\u001b[0m [Client 3, round 23] fit, config: {'learning_rate': 0.003, 'batch_size': '32', 'server_round': 23, 'local_epochs': 10}\n",
      "\u001b[36m(launch_and_fit pid=75448)\u001b[0m Updated model\n"
     ]
    },
    {
     "name": "stderr",
     "output_type": "stream",
     "text": [
      "  0%|\u001b[34m          \u001b[0m| 0/10 [00:00<?, ?it/s]\n"
     ]
    },
    {
     "name": "stdout",
     "output_type": "stream",
     "text": [
      "\u001b[36m(launch_and_fit pid=75448)\u001b[0m \tTrain Epoch: 1 \tTrain_loss: 1.7026 | Train_acc: 43.3393 % | Validation_loss: 1.6792 | Validation_acc: 37.8170 %\n"
     ]
    },
    {
     "name": "stderr",
     "output_type": "stream",
     "text": [
      " 10%|\u001b[34m█         \u001b[0m| 1/10 [00:02<00:18,  2.05s/it]\n"
     ]
    },
    {
     "name": "stdout",
     "output_type": "stream",
     "text": [
      "\u001b[36m(launch_and_fit pid=75448)\u001b[0m \tTrain Epoch: 2 \tTrain_loss: 1.6885 | Train_acc: 45.0298 % | Validation_loss: 1.6928 | Validation_acc: 37.4094 %\n"
     ]
    },
    {
     "name": "stderr",
     "output_type": "stream",
     "text": [
      " 20%|\u001b[34m██        \u001b[0m| 2/10 [00:04<00:16,  2.06s/it]\n"
     ]
    },
    {
     "name": "stdout",
     "output_type": "stream",
     "text": [
      "\u001b[36m(launch_and_fit pid=75448)\u001b[0m \tTrain Epoch: 3 \tTrain_loss: 1.6775 | Train_acc: 47.3393 % | Validation_loss: 1.6721 | Validation_acc: 41.5761 %\n"
     ]
    },
    {
     "name": "stderr",
     "output_type": "stream",
     "text": [
      " 30%|\u001b[34m███       \u001b[0m| 3/10 [00:06<00:14,  2.05s/it]\n"
     ]
    },
    {
     "name": "stdout",
     "output_type": "stream",
     "text": [
      "\u001b[36m(launch_and_fit pid=75448)\u001b[0m \tTrain Epoch: 4 \tTrain_loss: 1.6718 | Train_acc: 48.1607 % | Validation_loss: 1.6920 | Validation_acc: 39.4928 %\n"
     ]
    },
    {
     "name": "stderr",
     "output_type": "stream",
     "text": [
      " 40%|\u001b[34m████      \u001b[0m| 4/10 [00:08<00:13,  2.23s/it]\n"
     ]
    },
    {
     "name": "stdout",
     "output_type": "stream",
     "text": [
      "\u001b[36m(launch_and_fit pid=75448)\u001b[0m \tTrain Epoch: 5 \tTrain_loss: 1.6829 | Train_acc: 45.5833 % | Validation_loss: 1.6962 | Validation_acc: 38.4511 %\n"
     ]
    },
    {
     "name": "stderr",
     "output_type": "stream",
     "text": [
      " 50%|\u001b[34m█████     \u001b[0m| 5/10 [00:10<00:10,  2.16s/it]\n"
     ]
    },
    {
     "name": "stdout",
     "output_type": "stream",
     "text": [
      "\u001b[36m(launch_and_fit pid=75448)\u001b[0m \tTrain Epoch: 6 \tTrain_loss: 1.6681 | Train_acc: 48.4048 % | Validation_loss: 1.6909 | Validation_acc: 38.4511 %\n"
     ]
    },
    {
     "name": "stderr",
     "output_type": "stream",
     "text": [
      " 60%|\u001b[34m██████    \u001b[0m| 6/10 [00:12<00:08,  2.11s/it]\n"
     ]
    },
    {
     "name": "stdout",
     "output_type": "stream",
     "text": [
      "\u001b[36m(launch_and_fit pid=75448)\u001b[0m \tTrain Epoch: 7 \tTrain_loss: 1.6735 | Train_acc: 47.8393 % | Validation_loss: 1.6853 | Validation_acc: 41.9837 %\n"
     ]
    },
    {
     "name": "stderr",
     "output_type": "stream",
     "text": [
      " 70%|\u001b[34m███████   \u001b[0m| 7/10 [00:14<00:06,  2.07s/it]\n"
     ]
    },
    {
     "name": "stdout",
     "output_type": "stream",
     "text": [
      "\u001b[36m(launch_and_fit pid=75448)\u001b[0m \tTrain Epoch: 8 \tTrain_loss: 1.6742 | Train_acc: 46.8512 % | Validation_loss: 1.6817 | Validation_acc: 38.4511 %\n"
     ]
    },
    {
     "name": "stderr",
     "output_type": "stream",
     "text": [
      " 80%|\u001b[34m████████  \u001b[0m| 8/10 [00:16<00:04,  2.05s/it]\n"
     ]
    },
    {
     "name": "stdout",
     "output_type": "stream",
     "text": [
      "\u001b[36m(launch_and_fit pid=75448)\u001b[0m \tTrain Epoch: 9 \tTrain_loss: 1.6626 | Train_acc: 48.8988 % | Validation_loss: 1.7186 | Validation_acc: 36.3678 %\n"
     ]
    },
    {
     "name": "stderr",
     "output_type": "stream",
     "text": [
      " 90%|\u001b[34m█████████ \u001b[0m| 9/10 [00:18<00:02,  2.02s/it]\n"
     ]
    },
    {
     "name": "stdout",
     "output_type": "stream",
     "text": [
      "\u001b[36m(launch_and_fit pid=75448)\u001b[0m \tTrain Epoch: 10 \tTrain_loss: 1.6676 | Train_acc: 48.4643 % | Validation_loss: 1.6959 | Validation_acc: 37.4094 %\n",
      "\u001b[36m(launch_and_fit pid=75448)\u001b[0m save graph in  results/FL/\n"
     ]
    },
    {
     "name": "stderr",
     "output_type": "stream",
     "text": [
      "100%|\u001b[34m██████████\u001b[0m| 10/10 [00:20<00:00,  2.06s/it]\n"
     ]
    },
    {
     "name": "stdout",
     "output_type": "stream",
     "text": [
      "\u001b[36m(launch_and_fit pid=75448)\u001b[0m Run WITHOUT homomorphic encryption\n",
      "\u001b[36m(launch_and_fit pid=75448)\u001b[0m  To get the checkpoint\n",
      "\u001b[36m(launch_and_fit pid=75448)\u001b[0m [Client 2, round 23] fit, config: {'learning_rate': 0.003, 'batch_size': '32', 'server_round': 23, 'local_epochs': 10}\n",
      "\u001b[36m(launch_and_fit pid=75448)\u001b[0m Updated model\n"
     ]
    },
    {
     "name": "stderr",
     "output_type": "stream",
     "text": [
      "  0%|\u001b[34m          \u001b[0m| 0/10 [00:00<?, ?it/s]\n"
     ]
    },
    {
     "name": "stdout",
     "output_type": "stream",
     "text": [
      "\u001b[36m(launch_and_fit pid=75448)\u001b[0m \tTrain Epoch: 1 \tTrain_loss: 1.7328 | Train_acc: 39.5179 % | Validation_loss: 1.6955 | Validation_acc: 46.1504 %\n"
     ]
    },
    {
     "name": "stderr",
     "output_type": "stream",
     "text": [
      " 10%|\u001b[34m█         \u001b[0m| 1/10 [00:02<00:18,  2.01s/it]\n"
     ]
    },
    {
     "name": "stdout",
     "output_type": "stream",
     "text": [
      "\u001b[36m(launch_and_fit pid=75448)\u001b[0m \tTrain Epoch: 2 \tTrain_loss: 1.7144 | Train_acc: 41.8988 % | Validation_loss: 1.6523 | Validation_acc: 49.6830 %\n"
     ]
    },
    {
     "name": "stderr",
     "output_type": "stream",
     "text": [
      " 20%|\u001b[34m██        \u001b[0m| 2/10 [00:04<00:16,  2.02s/it]\n"
     ]
    },
    {
     "name": "stdout",
     "output_type": "stream",
     "text": [
      "\u001b[36m(launch_and_fit pid=75448)\u001b[0m \tTrain Epoch: 3 \tTrain_loss: 1.6973 | Train_acc: 44.9583 % | Validation_loss: 1.6701 | Validation_acc: 49.6830 %\n"
     ]
    },
    {
     "name": "stderr",
     "output_type": "stream",
     "text": [
      " 30%|\u001b[34m███       \u001b[0m| 3/10 [00:06<00:14,  2.03s/it]\n"
     ]
    },
    {
     "name": "stdout",
     "output_type": "stream",
     "text": [
      "\u001b[36m(launch_and_fit pid=75448)\u001b[0m \tTrain Epoch: 4 \tTrain_loss: 1.6939 | Train_acc: 45.4643 % | Validation_loss: 1.6828 | Validation_acc: 48.6413 %\n"
     ]
    },
    {
     "name": "stderr",
     "output_type": "stream",
     "text": [
      " 40%|\u001b[34m████      \u001b[0m| 4/10 [00:08<00:12,  2.03s/it]\n"
     ]
    },
    {
     "name": "stdout",
     "output_type": "stream",
     "text": [
      "\u001b[36m(launch_and_fit pid=75448)\u001b[0m \tTrain Epoch: 5 \tTrain_loss: 1.7222 | Train_acc: 42.0357 % | Validation_loss: 1.6914 | Validation_acc: 45.1087 %\n"
     ]
    },
    {
     "name": "stderr",
     "output_type": "stream",
     "text": [
      " 50%|\u001b[34m█████     \u001b[0m| 5/10 [00:10<00:10,  2.01s/it]\n"
     ]
    },
    {
     "name": "stdout",
     "output_type": "stream",
     "text": [
      "\u001b[36m(launch_and_fit pid=75448)\u001b[0m \tTrain Epoch: 6 \tTrain_loss: 1.6987 | Train_acc: 44.0298 % | Validation_loss: 1.6638 | Validation_acc: 48.2337 %\n"
     ]
    },
    {
     "name": "stderr",
     "output_type": "stream",
     "text": [
      " 60%|\u001b[34m██████    \u001b[0m| 6/10 [00:15<00:12,  3.19s/it]\n"
     ]
    },
    {
     "name": "stdout",
     "output_type": "stream",
     "text": [
      "\u001b[36m(launch_and_fit pid=75448)\u001b[0m \tTrain Epoch: 7 \tTrain_loss: 1.6860 | Train_acc: 44.5774 % | Validation_loss: 1.6670 | Validation_acc: 49.6830 %\n"
     ]
    },
    {
     "name": "stderr",
     "output_type": "stream",
     "text": [
      " 70%|\u001b[34m███████   \u001b[0m| 7/10 [00:21<00:11,  3.98s/it]\n"
     ]
    },
    {
     "name": "stdout",
     "output_type": "stream",
     "text": [
      "\u001b[36m(launch_and_fit pid=75448)\u001b[0m \tTrain Epoch: 8 \tTrain_loss: 1.6920 | Train_acc: 45.7143 % | Validation_loss: 1.6624 | Validation_acc: 50.3170 %\n"
     ]
    },
    {
     "name": "stderr",
     "output_type": "stream",
     "text": [
      " 80%|\u001b[34m████████  \u001b[0m| 8/10 [00:26<00:09,  4.52s/it]\n"
     ]
    },
    {
     "name": "stdout",
     "output_type": "stream",
     "text": [
      "\u001b[36m(launch_and_fit pid=75448)\u001b[0m \tTrain Epoch: 9 \tTrain_loss: 1.6932 | Train_acc: 43.5417 % | Validation_loss: 1.6487 | Validation_acc: 50.7246 %\n"
     ]
    },
    {
     "name": "stderr",
     "output_type": "stream",
     "text": [
      " 90%|\u001b[34m█████████ \u001b[0m| 9/10 [00:32<00:04,  4.89s/it]\n"
     ]
    },
    {
     "name": "stdout",
     "output_type": "stream",
     "text": [
      "\u001b[36m(launch_and_fit pid=75448)\u001b[0m \tTrain Epoch: 10 \tTrain_loss: 1.6929 | Train_acc: 45.7143 % | Validation_loss: 1.6657 | Validation_acc: 51.7663 %\n",
      "\u001b[36m(launch_and_fit pid=75448)\u001b[0m save graph in  results/FL/\n"
     ]
    },
    {
     "name": "stderr",
     "output_type": "stream",
     "text": [
      "100%|\u001b[34m██████████\u001b[0m| 10/10 [00:38<00:00,  3.82s/it]\n",
      "DEBUG flwr 2024-08-30 02:29:38,591 | server.py:236 | fit_round 23 received 4 results and 0 failures\n"
     ]
    },
    {
     "name": "stdout",
     "output_type": "stream",
     "text": [
      "Saving round 23 aggregated_parameters...\n",
      "Updated model\n"
     ]
    },
    {
     "name": "stderr",
     "output_type": "stream",
     "text": [
      "INFO flwr 2024-08-30 02:29:41,199 | server.py:125 | fit progress: (23, 1.7103779528822218, {'accuracy': 42.373511904761905}, 3013.3297745659947)\n",
      "DEBUG flwr 2024-08-30 02:29:41,272 | server.py:173 | evaluate_round 23: strategy sampled 4 clients (out of 4)\n"
     ]
    },
    {
     "name": "stdout",
     "output_type": "stream",
     "text": [
      "Server-side evaluation loss 1.7103779528822218 / accuracy 42.373511904761905\n",
      "\u001b[36m(launch_and_evaluate pid=75448)\u001b[0m Run WITHOUT homomorphic encryption\n",
      "\u001b[36m(launch_and_evaluate pid=75448)\u001b[0m  To get the checkpoint\n",
      "\u001b[36m(launch_and_evaluate pid=75448)\u001b[0m [Client 3] evaluate, config: {}\n",
      "\u001b[36m(launch_and_evaluate pid=75448)\u001b[0m Updated model\n",
      "\u001b[36m(launch_and_evaluate pid=75448)\u001b[0m Run WITHOUT homomorphic encryption\n",
      "\u001b[36m(launch_and_evaluate pid=75448)\u001b[0m  To get the checkpoint\n",
      "\u001b[36m(launch_and_evaluate pid=75448)\u001b[0m [Client 2] evaluate, config: {}\n",
      "\u001b[36m(launch_and_evaluate pid=75448)\u001b[0m Updated model\n",
      "\u001b[36m(launch_and_evaluate pid=75448)\u001b[0m Run WITHOUT homomorphic encryption\n",
      "\u001b[36m(launch_and_evaluate pid=75448)\u001b[0m  To get the checkpoint\n",
      "\u001b[36m(launch_and_evaluate pid=75448)\u001b[0m [Client 1] evaluate, config: {}\n",
      "\u001b[36m(launch_and_evaluate pid=75448)\u001b[0m Updated model\n",
      "\u001b[36m(launch_and_evaluate pid=75448)\u001b[0m Run WITHOUT homomorphic encryption\n",
      "\u001b[36m(launch_and_evaluate pid=75448)\u001b[0m  To get the checkpoint\n",
      "\u001b[36m(launch_and_evaluate pid=75448)\u001b[0m [Client 0] evaluate, config: {}\n",
      "\u001b[36m(launch_and_evaluate pid=75448)\u001b[0m Updated model\n"
     ]
    },
    {
     "name": "stderr",
     "output_type": "stream",
     "text": [
      "DEBUG flwr 2024-08-30 02:29:49,708 | server.py:187 | evaluate_round 23 received 4 results and 0 failures\n",
      "DEBUG flwr 2024-08-30 02:29:49,709 | server.py:222 | fit_round 24: strategy sampled 4 clients (out of 4)\n"
     ]
    },
    {
     "name": "stdout",
     "output_type": "stream",
     "text": [
      "\u001b[36m(launch_and_fit pid=75448)\u001b[0m Run WITHOUT homomorphic encryption\n",
      "\u001b[36m(launch_and_fit pid=75448)\u001b[0m  To get the checkpoint\n",
      "\u001b[36m(launch_and_fit pid=75448)\u001b[0m [Client 2, round 24] fit, config: {'learning_rate': 0.003, 'batch_size': '32', 'server_round': 24, 'local_epochs': 10}\n",
      "\u001b[36m(launch_and_fit pid=75448)\u001b[0m Updated model\n"
     ]
    },
    {
     "name": "stderr",
     "output_type": "stream",
     "text": [
      "  0%|\u001b[34m          \u001b[0m| 0/10 [00:00<?, ?it/s]\n"
     ]
    },
    {
     "name": "stdout",
     "output_type": "stream",
     "text": [
      "\u001b[36m(launch_and_fit pid=75448)\u001b[0m \tTrain Epoch: 1 \tTrain_loss: 1.7024 | Train_acc: 43.8988 % | Validation_loss: 1.6655 | Validation_acc: 49.6830 %\n"
     ]
    },
    {
     "name": "stderr",
     "output_type": "stream",
     "text": [
      " 10%|\u001b[34m█         \u001b[0m| 1/10 [00:05<00:51,  5.72s/it]\n"
     ]
    },
    {
     "name": "stdout",
     "output_type": "stream",
     "text": [
      "\u001b[36m(launch_and_fit pid=75448)\u001b[0m \tTrain Epoch: 2 \tTrain_loss: 1.7034 | Train_acc: 43.2679 % | Validation_loss: 1.6648 | Validation_acc: 48.6413 %\n"
     ]
    },
    {
     "name": "stderr",
     "output_type": "stream",
     "text": [
      " 20%|\u001b[34m██        \u001b[0m| 2/10 [00:11<00:46,  5.76s/it]\n"
     ]
    },
    {
     "name": "stdout",
     "output_type": "stream",
     "text": [
      "\u001b[36m(launch_and_fit pid=75448)\u001b[0m \tTrain Epoch: 3 \tTrain_loss: 1.6801 | Train_acc: 46.3452 % | Validation_loss: 1.6511 | Validation_acc: 51.7663 %\n"
     ]
    },
    {
     "name": "stderr",
     "output_type": "stream",
     "text": [
      " 30%|\u001b[34m███       \u001b[0m| 3/10 [00:16<00:39,  5.63s/it]\n"
     ]
    },
    {
     "name": "stdout",
     "output_type": "stream",
     "text": [
      "\u001b[36m(launch_and_fit pid=75448)\u001b[0m \tTrain Epoch: 4 \tTrain_loss: 1.7062 | Train_acc: 42.2679 % | Validation_loss: 1.6909 | Validation_acc: 45.1087 %\n"
     ]
    },
    {
     "name": "stderr",
     "output_type": "stream",
     "text": [
      " 40%|\u001b[34m████      \u001b[0m| 4/10 [00:22<00:33,  5.61s/it]\n"
     ]
    },
    {
     "name": "stdout",
     "output_type": "stream",
     "text": [
      "\u001b[36m(launch_and_fit pid=75448)\u001b[0m \tTrain Epoch: 5 \tTrain_loss: 1.6980 | Train_acc: 43.5893 % | Validation_loss: 1.6579 | Validation_acc: 46.1504 %\n"
     ]
    },
    {
     "name": "stderr",
     "output_type": "stream",
     "text": [
      " 50%|\u001b[34m█████     \u001b[0m| 5/10 [00:28<00:28,  5.62s/it]\n"
     ]
    },
    {
     "name": "stdout",
     "output_type": "stream",
     "text": [
      "\u001b[36m(launch_and_fit pid=75448)\u001b[0m \tTrain Epoch: 6 \tTrain_loss: 1.6860 | Train_acc: 44.8333 % | Validation_loss: 1.6489 | Validation_acc: 51.7663 %\n"
     ]
    },
    {
     "name": "stderr",
     "output_type": "stream",
     "text": [
      " 60%|\u001b[34m██████    \u001b[0m| 6/10 [00:33<00:22,  5.64s/it]\n"
     ]
    },
    {
     "name": "stdout",
     "output_type": "stream",
     "text": [
      "\u001b[36m(launch_and_fit pid=75448)\u001b[0m \tTrain Epoch: 7 \tTrain_loss: 1.6778 | Train_acc: 47.1488 % | Validation_loss: 1.6657 | Validation_acc: 51.7663 %\n"
     ]
    },
    {
     "name": "stderr",
     "output_type": "stream",
     "text": [
      " 70%|\u001b[34m███████   \u001b[0m| 7/10 [00:39<00:16,  5.63s/it]\n"
     ]
    },
    {
     "name": "stdout",
     "output_type": "stream",
     "text": [
      "\u001b[36m(launch_and_fit pid=75448)\u001b[0m \tTrain Epoch: 8 \tTrain_loss: 1.6752 | Train_acc: 46.6548 % | Validation_loss: 1.6968 | Validation_acc: 47.1920 %\n"
     ]
    },
    {
     "name": "stderr",
     "output_type": "stream",
     "text": [
      " 80%|\u001b[34m████████  \u001b[0m| 8/10 [00:45<00:11,  5.62s/it]\n"
     ]
    },
    {
     "name": "stdout",
     "output_type": "stream",
     "text": [
      "\u001b[36m(launch_and_fit pid=75448)\u001b[0m \tTrain Epoch: 9 \tTrain_loss: 1.7391 | Train_acc: 39.7143 % | Validation_loss: 1.6940 | Validation_acc: 46.5580 %\n"
     ]
    },
    {
     "name": "stderr",
     "output_type": "stream",
     "text": [
      " 90%|\u001b[34m█████████ \u001b[0m| 9/10 [00:50<00:05,  5.68s/it]\n"
     ]
    },
    {
     "name": "stdout",
     "output_type": "stream",
     "text": [
      "\u001b[36m(launch_and_fit pid=75448)\u001b[0m \tTrain Epoch: 10 \tTrain_loss: 1.6935 | Train_acc: 46.4107 % | Validation_loss: 1.6580 | Validation_acc: 51.7663 %\n",
      "\u001b[36m(launch_and_fit pid=75448)\u001b[0m save graph in  results/FL/\n"
     ]
    },
    {
     "name": "stderr",
     "output_type": "stream",
     "text": [
      "100%|\u001b[34m██████████\u001b[0m| 10/10 [00:56<00:00,  5.66s/it]\n"
     ]
    },
    {
     "name": "stdout",
     "output_type": "stream",
     "text": [
      "\u001b[36m(launch_and_fit pid=75448)\u001b[0m Run WITHOUT homomorphic encryption\n",
      "\u001b[36m(launch_and_fit pid=75448)\u001b[0m  To get the checkpoint\n",
      "\u001b[36m(launch_and_fit pid=75448)\u001b[0m [Client 3, round 24] fit, config: {'learning_rate': 0.003, 'batch_size': '32', 'server_round': 24, 'local_epochs': 10}\n",
      "\u001b[36m(launch_and_fit pid=75448)\u001b[0m Updated model\n"
     ]
    },
    {
     "name": "stderr",
     "output_type": "stream",
     "text": [
      "  0%|\u001b[34m          \u001b[0m| 0/10 [00:00<?, ?it/s]\n"
     ]
    },
    {
     "name": "stdout",
     "output_type": "stream",
     "text": [
      "\u001b[36m(launch_and_fit pid=75448)\u001b[0m \tTrain Epoch: 1 \tTrain_loss: 1.6903 | Train_acc: 45.4762 % | Validation_loss: 1.6993 | Validation_acc: 39.2663 %\n"
     ]
    },
    {
     "name": "stderr",
     "output_type": "stream",
     "text": [
      " 10%|\u001b[34m█         \u001b[0m| 1/10 [00:05<00:53,  5.92s/it]\n"
     ]
    },
    {
     "name": "stdout",
     "output_type": "stream",
     "text": [
      "\u001b[36m(launch_and_fit pid=75448)\u001b[0m \tTrain Epoch: 2 \tTrain_loss: 1.6742 | Train_acc: 45.5298 % | Validation_loss: 1.6876 | Validation_acc: 40.9420 %\n"
     ]
    },
    {
     "name": "stderr",
     "output_type": "stream",
     "text": [
      " 20%|\u001b[34m██        \u001b[0m| 2/10 [00:11<00:47,  5.96s/it]\n"
     ]
    },
    {
     "name": "stdout",
     "output_type": "stream",
     "text": [
      "\u001b[36m(launch_and_fit pid=75448)\u001b[0m \tTrain Epoch: 3 \tTrain_loss: 1.6632 | Train_acc: 48.4583 % | Validation_loss: 1.6716 | Validation_acc: 39.0851 %\n"
     ]
    },
    {
     "name": "stderr",
     "output_type": "stream",
     "text": [
      " 30%|\u001b[34m███       \u001b[0m| 3/10 [00:17<00:41,  5.93s/it]\n"
     ]
    },
    {
     "name": "stdout",
     "output_type": "stream",
     "text": [
      "\u001b[36m(launch_and_fit pid=75448)\u001b[0m \tTrain Epoch: 4 \tTrain_loss: 1.6732 | Train_acc: 46.5179 % | Validation_loss: 1.6874 | Validation_acc: 38.0435 %\n"
     ]
    },
    {
     "name": "stderr",
     "output_type": "stream",
     "text": [
      " 40%|\u001b[34m████      \u001b[0m| 4/10 [00:21<00:31,  5.20s/it]\n"
     ]
    },
    {
     "name": "stdout",
     "output_type": "stream",
     "text": [
      "\u001b[36m(launch_and_fit pid=75448)\u001b[0m \tTrain Epoch: 5 \tTrain_loss: 1.6637 | Train_acc: 47.9643 % | Validation_loss: 1.7105 | Validation_acc: 35.3261 %\n"
     ]
    },
    {
     "name": "stderr",
     "output_type": "stream",
     "text": [
      " 50%|\u001b[34m█████     \u001b[0m| 5/10 [00:23<00:20,  4.02s/it]\n"
     ]
    },
    {
     "name": "stdout",
     "output_type": "stream",
     "text": [
      "\u001b[36m(launch_and_fit pid=75448)\u001b[0m \tTrain Epoch: 6 \tTrain_loss: 1.6645 | Train_acc: 47.6012 % | Validation_loss: 1.6826 | Validation_acc: 43.0254 %\n"
     ]
    },
    {
     "name": "stderr",
     "output_type": "stream",
     "text": [
      " 60%|\u001b[34m██████    \u001b[0m| 6/10 [00:25<00:13,  3.33s/it]\n"
     ]
    },
    {
     "name": "stdout",
     "output_type": "stream",
     "text": [
      "\u001b[36m(launch_and_fit pid=75448)\u001b[0m \tTrain Epoch: 7 \tTrain_loss: 1.6631 | Train_acc: 48.2083 % | Validation_loss: 1.6805 | Validation_acc: 40.5344 %\n"
     ]
    },
    {
     "name": "stderr",
     "output_type": "stream",
     "text": [
      " 70%|\u001b[34m███████   \u001b[0m| 7/10 [00:27<00:08,  2.90s/it]\n"
     ]
    },
    {
     "name": "stdout",
     "output_type": "stream",
     "text": [
      "\u001b[36m(launch_and_fit pid=75448)\u001b[0m \tTrain Epoch: 8 \tTrain_loss: 1.6543 | Train_acc: 48.9226 % | Validation_loss: 1.6757 | Validation_acc: 39.4928 %\n"
     ]
    },
    {
     "name": "stderr",
     "output_type": "stream",
     "text": [
      " 80%|\u001b[34m████████  \u001b[0m| 8/10 [00:29<00:05,  2.61s/it]\n"
     ]
    },
    {
     "name": "stdout",
     "output_type": "stream",
     "text": [
      "\u001b[36m(launch_and_fit pid=75448)\u001b[0m \tTrain Epoch: 9 \tTrain_loss: 1.6487 | Train_acc: 48.8512 % | Validation_loss: 1.6943 | Validation_acc: 40.5344 %\n"
     ]
    },
    {
     "name": "stderr",
     "output_type": "stream",
     "text": [
      " 90%|\u001b[34m█████████ \u001b[0m| 9/10 [00:31<00:02,  2.40s/it]\n"
     ]
    },
    {
     "name": "stdout",
     "output_type": "stream",
     "text": [
      "\u001b[36m(launch_and_fit pid=75448)\u001b[0m \tTrain Epoch: 10 \tTrain_loss: 1.7198 | Train_acc: 39.7619 % | Validation_loss: 1.7628 | Validation_acc: 32.8351 %\n",
      "\u001b[36m(launch_and_fit pid=75448)\u001b[0m save graph in  results/FL/\n"
     ]
    },
    {
     "name": "stderr",
     "output_type": "stream",
     "text": [
      "100%|\u001b[34m██████████\u001b[0m| 10/10 [00:33<00:00,  3.37s/it]\n"
     ]
    },
    {
     "name": "stdout",
     "output_type": "stream",
     "text": [
      "\u001b[36m(launch_and_fit pid=75448)\u001b[0m Run WITHOUT homomorphic encryption\n",
      "\u001b[36m(launch_and_fit pid=75448)\u001b[0m  To get the checkpoint\n",
      "\u001b[36m(launch_and_fit pid=75448)\u001b[0m [Client 0, round 24] fit, config: {'learning_rate': 0.003, 'batch_size': '32', 'server_round': 24, 'local_epochs': 10}\n",
      "\u001b[36m(launch_and_fit pid=75448)\u001b[0m Updated model\n"
     ]
    },
    {
     "name": "stderr",
     "output_type": "stream",
     "text": [
      "  0%|\u001b[34m          \u001b[0m| 0/10 [00:00<?, ?it/s]\n"
     ]
    },
    {
     "name": "stdout",
     "output_type": "stream",
     "text": [
      "\u001b[36m(launch_and_fit pid=75448)\u001b[0m \tTrain Epoch: 1 \tTrain_loss: 1.6861 | Train_acc: 45.0357 % | Validation_loss: 1.7543 | Validation_acc: 40.5344 %\n"
     ]
    },
    {
     "name": "stderr",
     "output_type": "stream",
     "text": [
      " 10%|\u001b[34m█         \u001b[0m| 1/10 [00:02<00:18,  2.09s/it]\n"
     ]
    },
    {
     "name": "stdout",
     "output_type": "stream",
     "text": [
      "\u001b[36m(launch_and_fit pid=75448)\u001b[0m \tTrain Epoch: 2 \tTrain_loss: 1.6741 | Train_acc: 44.2976 % | Validation_loss: 1.7917 | Validation_acc: 33.4692 %\n"
     ]
    },
    {
     "name": "stderr",
     "output_type": "stream",
     "text": [
      " 20%|\u001b[34m██        \u001b[0m| 2/10 [00:04<00:16,  2.07s/it]\n"
     ]
    },
    {
     "name": "stdout",
     "output_type": "stream",
     "text": [
      "\u001b[36m(launch_and_fit pid=75448)\u001b[0m \tTrain Epoch: 3 \tTrain_loss: 1.6717 | Train_acc: 45.7083 % | Validation_loss: 1.7862 | Validation_acc: 34.5109 %\n"
     ]
    },
    {
     "name": "stderr",
     "output_type": "stream",
     "text": [
      " 30%|\u001b[34m███       \u001b[0m| 3/10 [00:06<00:14,  2.08s/it]\n"
     ]
    },
    {
     "name": "stdout",
     "output_type": "stream",
     "text": [
      "\u001b[36m(launch_and_fit pid=75448)\u001b[0m \tTrain Epoch: 4 \tTrain_loss: 1.6690 | Train_acc: 45.6548 % | Validation_loss: 1.7618 | Validation_acc: 38.6775 %\n"
     ]
    },
    {
     "name": "stderr",
     "output_type": "stream",
     "text": [
      " 40%|\u001b[34m████      \u001b[0m| 4/10 [00:08<00:12,  2.07s/it]\n"
     ]
    },
    {
     "name": "stdout",
     "output_type": "stream",
     "text": [
      "\u001b[36m(launch_and_fit pid=75448)\u001b[0m \tTrain Epoch: 5 \tTrain_loss: 1.6613 | Train_acc: 47.0179 % | Validation_loss: 1.7894 | Validation_acc: 30.9783 %\n"
     ]
    },
    {
     "name": "stderr",
     "output_type": "stream",
     "text": [
      " 50%|\u001b[34m█████     \u001b[0m| 5/10 [00:10<00:10,  2.06s/it]\n"
     ]
    },
    {
     "name": "stdout",
     "output_type": "stream",
     "text": [
      "\u001b[36m(launch_and_fit pid=75448)\u001b[0m \tTrain Epoch: 6 \tTrain_loss: 1.6628 | Train_acc: 45.5952 % | Validation_loss: 1.7838 | Validation_acc: 29.9366 %\n"
     ]
    },
    {
     "name": "stderr",
     "output_type": "stream",
     "text": [
      " 60%|\u001b[34m██████    \u001b[0m| 6/10 [00:12<00:08,  2.06s/it]\n"
     ]
    },
    {
     "name": "stdout",
     "output_type": "stream",
     "text": [
      "\u001b[36m(launch_and_fit pid=75448)\u001b[0m \tTrain Epoch: 7 \tTrain_loss: 1.6496 | Train_acc: 47.0298 % | Validation_loss: 1.7579 | Validation_acc: 34.9185 %\n"
     ]
    },
    {
     "name": "stderr",
     "output_type": "stream",
     "text": [
      " 70%|\u001b[34m███████   \u001b[0m| 7/10 [00:14<00:06,  2.02s/it]\n"
     ]
    },
    {
     "name": "stdout",
     "output_type": "stream",
     "text": [
      "\u001b[36m(launch_and_fit pid=75448)\u001b[0m \tTrain Epoch: 8 \tTrain_loss: 1.6504 | Train_acc: 47.4643 % | Validation_loss: 1.7576 | Validation_acc: 33.4692 %\n"
     ]
    },
    {
     "name": "stderr",
     "output_type": "stream",
     "text": [
      " 80%|\u001b[34m████████  \u001b[0m| 8/10 [00:16<00:04,  2.01s/it]\n"
     ]
    },
    {
     "name": "stdout",
     "output_type": "stream",
     "text": [
      "\u001b[36m(launch_and_fit pid=75448)\u001b[0m \tTrain Epoch: 9 \tTrain_loss: 1.6466 | Train_acc: 46.8452 % | Validation_loss: 1.7541 | Validation_acc: 35.9601 %\n"
     ]
    },
    {
     "name": "stderr",
     "output_type": "stream",
     "text": [
      " 90%|\u001b[34m█████████ \u001b[0m| 9/10 [00:18<00:01,  1.99s/it]\n"
     ]
    },
    {
     "name": "stdout",
     "output_type": "stream",
     "text": [
      "\u001b[36m(launch_and_fit pid=75448)\u001b[0m \tTrain Epoch: 10 \tTrain_loss: 1.6429 | Train_acc: 48.6607 % | Validation_loss: 1.7667 | Validation_acc: 34.5109 %\n",
      "\u001b[36m(launch_and_fit pid=75448)\u001b[0m save graph in  results/FL/\n"
     ]
    },
    {
     "name": "stderr",
     "output_type": "stream",
     "text": [
      "100%|\u001b[34m██████████\u001b[0m| 10/10 [00:20<00:00,  2.02s/it]\n"
     ]
    },
    {
     "name": "stdout",
     "output_type": "stream",
     "text": [
      "\u001b[36m(launch_and_fit pid=75448)\u001b[0m Run WITHOUT homomorphic encryption\n",
      "\u001b[36m(launch_and_fit pid=75448)\u001b[0m  To get the checkpoint\n",
      "\u001b[36m(launch_and_fit pid=75448)\u001b[0m [Client 1, round 24] fit, config: {'learning_rate': 0.003, 'batch_size': '32', 'server_round': 24, 'local_epochs': 10}\n",
      "\u001b[36m(launch_and_fit pid=75448)\u001b[0m Updated model\n"
     ]
    },
    {
     "name": "stderr",
     "output_type": "stream",
     "text": [
      "  0%|\u001b[34m          \u001b[0m| 0/10 [00:00<?, ?it/s]\n"
     ]
    },
    {
     "name": "stdout",
     "output_type": "stream",
     "text": [
      "\u001b[36m(launch_and_fit pid=75448)\u001b[0m \tTrain Epoch: 1 \tTrain_loss: 1.7099 | Train_acc: 40.8452 % | Validation_loss: 1.7022 | Validation_acc: 46.9656 %\n"
     ]
    },
    {
     "name": "stderr",
     "output_type": "stream",
     "text": [
      " 10%|\u001b[34m█         \u001b[0m| 1/10 [00:01<00:17,  1.95s/it]\n"
     ]
    },
    {
     "name": "stdout",
     "output_type": "stream",
     "text": [
      "\u001b[36m(launch_and_fit pid=75448)\u001b[0m \tTrain Epoch: 2 \tTrain_loss: 1.6893 | Train_acc: 44.4702 % | Validation_loss: 1.6635 | Validation_acc: 49.0489 %\n"
     ]
    },
    {
     "name": "stderr",
     "output_type": "stream",
     "text": [
      " 20%|\u001b[34m██        \u001b[0m| 2/10 [00:03<00:15,  1.96s/it]\n"
     ]
    },
    {
     "name": "stdout",
     "output_type": "stream",
     "text": [
      "\u001b[36m(launch_and_fit pid=75448)\u001b[0m \tTrain Epoch: 3 \tTrain_loss: 1.6966 | Train_acc: 43.4643 % | Validation_loss: 1.6574 | Validation_acc: 50.7246 %\n"
     ]
    },
    {
     "name": "stderr",
     "output_type": "stream",
     "text": [
      " 30%|\u001b[34m███       \u001b[0m| 3/10 [00:05<00:13,  1.96s/it]\n"
     ]
    },
    {
     "name": "stdout",
     "output_type": "stream",
     "text": [
      "\u001b[36m(launch_and_fit pid=75448)\u001b[0m \tTrain Epoch: 4 \tTrain_loss: 1.6877 | Train_acc: 44.2738 % | Validation_loss: 1.6942 | Validation_acc: 48.6413 %\n"
     ]
    },
    {
     "name": "stderr",
     "output_type": "stream",
     "text": [
      " 40%|\u001b[34m████      \u001b[0m| 4/10 [00:07<00:11,  1.95s/it]\n"
     ]
    },
    {
     "name": "stdout",
     "output_type": "stream",
     "text": [
      "\u001b[36m(launch_and_fit pid=75448)\u001b[0m \tTrain Epoch: 5 \tTrain_loss: 1.6866 | Train_acc: 44.4048 % | Validation_loss: 1.6470 | Validation_acc: 50.7246 %\n"
     ]
    },
    {
     "name": "stderr",
     "output_type": "stream",
     "text": [
      " 50%|\u001b[34m█████     \u001b[0m| 5/10 [00:09<00:09,  1.94s/it]\n"
     ]
    },
    {
     "name": "stdout",
     "output_type": "stream",
     "text": [
      "\u001b[36m(launch_and_fit pid=75448)\u001b[0m \tTrain Epoch: 6 \tTrain_loss: 1.6892 | Train_acc: 44.6488 % | Validation_loss: 1.6496 | Validation_acc: 51.7663 %\n"
     ]
    },
    {
     "name": "stderr",
     "output_type": "stream",
     "text": [
      " 60%|\u001b[34m██████    \u001b[0m| 6/10 [00:11<00:07,  1.94s/it]\n"
     ]
    },
    {
     "name": "stdout",
     "output_type": "stream",
     "text": [
      "\u001b[36m(launch_and_fit pid=75448)\u001b[0m \tTrain Epoch: 7 \tTrain_loss: 1.6822 | Train_acc: 46.0238 % | Validation_loss: 1.6953 | Validation_acc: 43.6594 %\n"
     ]
    },
    {
     "name": "stderr",
     "output_type": "stream",
     "text": [
      " 70%|\u001b[34m███████   \u001b[0m| 7/10 [00:13<00:05,  1.93s/it]\n"
     ]
    },
    {
     "name": "stdout",
     "output_type": "stream",
     "text": [
      "\u001b[36m(launch_and_fit pid=75448)\u001b[0m \tTrain Epoch: 8 \tTrain_loss: 1.6791 | Train_acc: 45.5357 % | Validation_loss: 1.6429 | Validation_acc: 52.1739 %\n"
     ]
    },
    {
     "name": "stderr",
     "output_type": "stream",
     "text": [
      " 80%|\u001b[34m████████  \u001b[0m| 8/10 [00:15<00:03,  1.94s/it]\n"
     ]
    },
    {
     "name": "stdout",
     "output_type": "stream",
     "text": [
      "\u001b[36m(launch_and_fit pid=75448)\u001b[0m \tTrain Epoch: 9 \tTrain_loss: 1.6762 | Train_acc: 47.5298 % | Validation_loss: 1.6607 | Validation_acc: 50.7246 %\n"
     ]
    },
    {
     "name": "stderr",
     "output_type": "stream",
     "text": [
      " 90%|\u001b[34m█████████ \u001b[0m| 9/10 [00:17<00:01,  1.95s/it]\n",
      "100%|\u001b[34m██████████\u001b[0m| 10/10 [00:19<00:00,  1.95s/it]\n",
      "DEBUG flwr 2024-08-30 02:32:03,044 | server.py:236 | fit_round 24 received 4 results and 0 failures\n"
     ]
    },
    {
     "name": "stdout",
     "output_type": "stream",
     "text": [
      "\u001b[36m(launch_and_fit pid=75448)\u001b[0m \tTrain Epoch: 10 \tTrain_loss: 1.6833 | Train_acc: 44.3988 % | Validation_loss: 1.6821 | Validation_acc: 45.7428 %\n",
      "\u001b[36m(launch_and_fit pid=75448)\u001b[0m save graph in  results/FL/\n",
      "Saving round 24 aggregated_parameters...\n",
      "Updated model\n"
     ]
    },
    {
     "name": "stderr",
     "output_type": "stream",
     "text": [
      "INFO flwr 2024-08-30 02:32:03,940 | server.py:125 | fit progress: (24, 1.716665072100503, {'accuracy': 40.476190476190474}, 3156.0709917498752)\n",
      "DEBUG flwr 2024-08-30 02:32:03,941 | server.py:173 | evaluate_round 24: strategy sampled 4 clients (out of 4)\n"
     ]
    },
    {
     "name": "stdout",
     "output_type": "stream",
     "text": [
      "Server-side evaluation loss 1.716665072100503 / accuracy 40.476190476190474\n",
      "\u001b[36m(launch_and_evaluate pid=75448)\u001b[0m Run WITHOUT homomorphic encryption\n",
      "\u001b[36m(launch_and_evaluate pid=75448)\u001b[0m  To get the checkpoint\n",
      "\u001b[36m(launch_and_evaluate pid=75448)\u001b[0m [Client 0] evaluate, config: {}\n",
      "\u001b[36m(launch_and_evaluate pid=75448)\u001b[0m Updated model\n",
      "\u001b[36m(launch_and_evaluate pid=75448)\u001b[0m Run WITHOUT homomorphic encryption\n",
      "\u001b[36m(launch_and_evaluate pid=75448)\u001b[0m  To get the checkpoint\n",
      "\u001b[36m(launch_and_evaluate pid=75448)\u001b[0m [Client 1] evaluate, config: {}\n",
      "\u001b[36m(launch_and_evaluate pid=75448)\u001b[0m Updated model\n",
      "\u001b[36m(launch_and_evaluate pid=75448)\u001b[0m Run WITHOUT homomorphic encryption\n",
      "\u001b[36m(launch_and_evaluate pid=75448)\u001b[0m  To get the checkpoint\n",
      "\u001b[36m(launch_and_evaluate pid=75448)\u001b[0m [Client 3] evaluate, config: {}\n",
      "\u001b[36m(launch_and_evaluate pid=75448)\u001b[0m Updated model\n",
      "\u001b[36m(launch_and_evaluate pid=75448)\u001b[0m Run WITHOUT homomorphic encryption\n",
      "\u001b[36m(launch_and_evaluate pid=75448)\u001b[0m  To get the checkpoint\n",
      "\u001b[36m(launch_and_evaluate pid=75448)\u001b[0m [Client 2] evaluate, config: {}\n",
      "\u001b[36m(launch_and_evaluate pid=75448)\u001b[0m Updated model\n"
     ]
    },
    {
     "name": "stderr",
     "output_type": "stream",
     "text": [
      "DEBUG flwr 2024-08-30 02:32:06,995 | server.py:187 | evaluate_round 24 received 4 results and 0 failures\n",
      "DEBUG flwr 2024-08-30 02:32:06,996 | server.py:222 | fit_round 25: strategy sampled 4 clients (out of 4)\n"
     ]
    },
    {
     "name": "stdout",
     "output_type": "stream",
     "text": [
      "\u001b[36m(launch_and_fit pid=75448)\u001b[0m Run WITHOUT homomorphic encryption\n",
      "\u001b[36m(launch_and_fit pid=75448)\u001b[0m  To get the checkpoint\n",
      "\u001b[36m(launch_and_fit pid=75448)\u001b[0m [Client 3, round 25] fit, config: {'learning_rate': 0.003, 'batch_size': '32', 'server_round': 25, 'local_epochs': 10}\n",
      "\u001b[36m(launch_and_fit pid=75448)\u001b[0m Updated model\n"
     ]
    },
    {
     "name": "stderr",
     "output_type": "stream",
     "text": [
      "  0%|\u001b[34m          \u001b[0m| 0/10 [00:00<?, ?it/s]\n"
     ]
    },
    {
     "name": "stdout",
     "output_type": "stream",
     "text": [
      "\u001b[36m(launch_and_fit pid=75448)\u001b[0m \tTrain Epoch: 1 \tTrain_loss: 1.6910 | Train_acc: 44.9048 % | Validation_loss: 1.6831 | Validation_acc: 41.3496 %\n"
     ]
    },
    {
     "name": "stderr",
     "output_type": "stream",
     "text": [
      " 10%|\u001b[34m█         \u001b[0m| 1/10 [00:02<00:18,  2.04s/it]\n"
     ]
    },
    {
     "name": "stdout",
     "output_type": "stream",
     "text": [
      "\u001b[36m(launch_and_fit pid=75448)\u001b[0m \tTrain Epoch: 2 \tTrain_loss: 1.6644 | Train_acc: 47.3452 % | Validation_loss: 1.7120 | Validation_acc: 34.2844 %\n"
     ]
    },
    {
     "name": "stderr",
     "output_type": "stream",
     "text": [
      " 20%|\u001b[34m██        \u001b[0m| 2/10 [00:04<00:16,  2.03s/it]\n"
     ]
    },
    {
     "name": "stdout",
     "output_type": "stream",
     "text": [
      "\u001b[36m(launch_and_fit pid=75448)\u001b[0m \tTrain Epoch: 3 \tTrain_loss: 1.6740 | Train_acc: 46.7143 % | Validation_loss: 1.6867 | Validation_acc: 35.3261 %\n"
     ]
    },
    {
     "name": "stderr",
     "output_type": "stream",
     "text": [
      " 30%|\u001b[34m███       \u001b[0m| 3/10 [00:06<00:14,  2.03s/it]\n"
     ]
    },
    {
     "name": "stdout",
     "output_type": "stream",
     "text": [
      "\u001b[36m(launch_and_fit pid=75448)\u001b[0m \tTrain Epoch: 4 \tTrain_loss: 1.6648 | Train_acc: 48.8512 % | Validation_loss: 1.6856 | Validation_acc: 40.3080 %\n"
     ]
    },
    {
     "name": "stderr",
     "output_type": "stream",
     "text": [
      " 40%|\u001b[34m████      \u001b[0m| 4/10 [00:08<00:12,  2.03s/it]\n"
     ]
    },
    {
     "name": "stdout",
     "output_type": "stream",
     "text": [
      "\u001b[36m(launch_and_fit pid=75448)\u001b[0m \tTrain Epoch: 5 \tTrain_loss: 1.6548 | Train_acc: 48.3333 % | Validation_loss: 1.6971 | Validation_acc: 40.9420 %\n"
     ]
    },
    {
     "name": "stderr",
     "output_type": "stream",
     "text": [
      " 50%|\u001b[34m█████     \u001b[0m| 5/10 [00:10<00:10,  2.02s/it]\n"
     ]
    },
    {
     "name": "stdout",
     "output_type": "stream",
     "text": [
      "\u001b[36m(launch_and_fit pid=75448)\u001b[0m \tTrain Epoch: 6 \tTrain_loss: 1.6591 | Train_acc: 48.7083 % | Validation_loss: 1.7041 | Validation_acc: 37.4094 %\n"
     ]
    },
    {
     "name": "stderr",
     "output_type": "stream",
     "text": [
      " 60%|\u001b[34m██████    \u001b[0m| 6/10 [00:12<00:08,  2.00s/it]\n"
     ]
    },
    {
     "name": "stdout",
     "output_type": "stream",
     "text": [
      "\u001b[36m(launch_and_fit pid=75448)\u001b[0m \tTrain Epoch: 7 \tTrain_loss: 1.6609 | Train_acc: 47.9762 % | Validation_loss: 1.6948 | Validation_acc: 41.9837 %\n"
     ]
    },
    {
     "name": "stderr",
     "output_type": "stream",
     "text": [
      " 70%|\u001b[34m███████   \u001b[0m| 7/10 [00:14<00:05,  1.99s/it]\n"
     ]
    },
    {
     "name": "stdout",
     "output_type": "stream",
     "text": [
      "\u001b[36m(launch_and_fit pid=75448)\u001b[0m \tTrain Epoch: 8 \tTrain_loss: 1.6725 | Train_acc: 47.1607 % | Validation_loss: 1.6954 | Validation_acc: 37.8170 %\n"
     ]
    },
    {
     "name": "stderr",
     "output_type": "stream",
     "text": [
      " 80%|\u001b[34m████████  \u001b[0m| 8/10 [00:16<00:04,  2.01s/it]\n"
     ]
    },
    {
     "name": "stdout",
     "output_type": "stream",
     "text": [
      "\u001b[36m(launch_and_fit pid=75448)\u001b[0m \tTrain Epoch: 9 \tTrain_loss: 1.6608 | Train_acc: 47.7798 % | Validation_loss: 1.6942 | Validation_acc: 36.7754 %\n"
     ]
    },
    {
     "name": "stderr",
     "output_type": "stream",
     "text": [
      " 90%|\u001b[34m█████████ \u001b[0m| 9/10 [00:18<00:02,  2.01s/it]\n"
     ]
    },
    {
     "name": "stdout",
     "output_type": "stream",
     "text": [
      "\u001b[36m(launch_and_fit pid=75448)\u001b[0m \tTrain Epoch: 10 \tTrain_loss: 1.6584 | Train_acc: 48.7917 % | Validation_loss: 1.6886 | Validation_acc: 43.0254 %\n",
      "\u001b[36m(launch_and_fit pid=75448)\u001b[0m save graph in  results/FL/\n"
     ]
    },
    {
     "name": "stderr",
     "output_type": "stream",
     "text": [
      "100%|\u001b[34m██████████\u001b[0m| 10/10 [00:20<00:00,  2.01s/it]\n"
     ]
    },
    {
     "name": "stdout",
     "output_type": "stream",
     "text": [
      "\u001b[36m(launch_and_fit pid=75448)\u001b[0m Run WITHOUT homomorphic encryption\n",
      "\u001b[36m(launch_and_fit pid=75448)\u001b[0m  To get the checkpoint\n",
      "\u001b[36m(launch_and_fit pid=75448)\u001b[0m [Client 1, round 25] fit, config: {'learning_rate': 0.003, 'batch_size': '32', 'server_round': 25, 'local_epochs': 10}\n",
      "\u001b[36m(launch_and_fit pid=75448)\u001b[0m Updated model\n"
     ]
    },
    {
     "name": "stderr",
     "output_type": "stream",
     "text": [
      "  0%|\u001b[34m          \u001b[0m| 0/10 [00:00<?, ?it/s]\n"
     ]
    },
    {
     "name": "stdout",
     "output_type": "stream",
     "text": [
      "\u001b[36m(launch_and_fit pid=75448)\u001b[0m \tTrain Epoch: 1 \tTrain_loss: 1.7005 | Train_acc: 42.8393 % | Validation_loss: 1.6334 | Validation_acc: 51.7663 %\n"
     ]
    },
    {
     "name": "stderr",
     "output_type": "stream",
     "text": [
      " 10%|\u001b[34m█         \u001b[0m| 1/10 [00:02<00:18,  2.06s/it]\n"
     ]
    },
    {
     "name": "stdout",
     "output_type": "stream",
     "text": [
      "\u001b[36m(launch_and_fit pid=75448)\u001b[0m \tTrain Epoch: 2 \tTrain_loss: 1.6841 | Train_acc: 46.1488 % | Validation_loss: 1.6394 | Validation_acc: 51.7663 %\n"
     ]
    },
    {
     "name": "stderr",
     "output_type": "stream",
     "text": [
      " 20%|\u001b[34m██        \u001b[0m| 2/10 [00:04<00:16,  2.06s/it]\n"
     ]
    },
    {
     "name": "stdout",
     "output_type": "stream",
     "text": [
      "\u001b[36m(launch_and_fit pid=75448)\u001b[0m \tTrain Epoch: 3 \tTrain_loss: 1.6899 | Train_acc: 45.1429 % | Validation_loss: 1.6497 | Validation_acc: 51.1322 %\n"
     ]
    },
    {
     "name": "stderr",
     "output_type": "stream",
     "text": [
      " 30%|\u001b[34m███       \u001b[0m| 3/10 [00:06<00:14,  2.04s/it]\n"
     ]
    },
    {
     "name": "stdout",
     "output_type": "stream",
     "text": [
      "\u001b[36m(launch_and_fit pid=75448)\u001b[0m \tTrain Epoch: 4 \tTrain_loss: 1.6791 | Train_acc: 45.8393 % | Validation_loss: 1.6461 | Validation_acc: 50.7246 %\n"
     ]
    },
    {
     "name": "stderr",
     "output_type": "stream",
     "text": [
      " 40%|\u001b[34m████      \u001b[0m| 4/10 [00:08<00:12,  2.00s/it]\n"
     ]
    },
    {
     "name": "stdout",
     "output_type": "stream",
     "text": [
      "\u001b[36m(launch_and_fit pid=75448)\u001b[0m \tTrain Epoch: 5 \tTrain_loss: 1.7143 | Train_acc: 43.0298 % | Validation_loss: 1.6476 | Validation_acc: 46.1504 %\n"
     ]
    },
    {
     "name": "stderr",
     "output_type": "stream",
     "text": [
      " 50%|\u001b[34m█████     \u001b[0m| 5/10 [00:10<00:09,  1.99s/it]\n"
     ]
    },
    {
     "name": "stdout",
     "output_type": "stream",
     "text": [
      "\u001b[36m(launch_and_fit pid=75448)\u001b[0m \tTrain Epoch: 6 \tTrain_loss: 1.7007 | Train_acc: 41.9107 % | Validation_loss: 1.6978 | Validation_acc: 46.9656 %\n"
     ]
    },
    {
     "name": "stderr",
     "output_type": "stream",
     "text": [
      " 60%|\u001b[34m██████    \u001b[0m| 6/10 [00:11<00:07,  1.97s/it]\n"
     ]
    },
    {
     "name": "stdout",
     "output_type": "stream",
     "text": [
      "\u001b[36m(launch_and_fit pid=75448)\u001b[0m \tTrain Epoch: 7 \tTrain_loss: 1.6842 | Train_acc: 44.5298 % | Validation_loss: 1.7003 | Validation_acc: 41.9837 %\n"
     ]
    },
    {
     "name": "stderr",
     "output_type": "stream",
     "text": [
      " 70%|\u001b[34m███████   \u001b[0m| 7/10 [00:13<00:05,  1.96s/it]\n"
     ]
    },
    {
     "name": "stdout",
     "output_type": "stream",
     "text": [
      "\u001b[36m(launch_and_fit pid=75448)\u001b[0m \tTrain Epoch: 8 \tTrain_loss: 1.6752 | Train_acc: 45.5952 % | Validation_loss: 1.6557 | Validation_acc: 51.7663 %\n"
     ]
    },
    {
     "name": "stderr",
     "output_type": "stream",
     "text": [
      " 80%|\u001b[34m████████  \u001b[0m| 8/10 [00:15<00:03,  1.96s/it]\n"
     ]
    },
    {
     "name": "stdout",
     "output_type": "stream",
     "text": [
      "\u001b[36m(launch_and_fit pid=75448)\u001b[0m \tTrain Epoch: 9 \tTrain_loss: 1.6913 | Train_acc: 42.3929 % | Validation_loss: 1.7032 | Validation_acc: 45.1087 %\n"
     ]
    },
    {
     "name": "stderr",
     "output_type": "stream",
     "text": [
      " 90%|\u001b[34m█████████ \u001b[0m| 9/10 [00:17<00:01,  1.96s/it]\n"
     ]
    },
    {
     "name": "stdout",
     "output_type": "stream",
     "text": [
      "\u001b[36m(launch_and_fit pid=75448)\u001b[0m \tTrain Epoch: 10 \tTrain_loss: 1.6900 | Train_acc: 43.7083 % | Validation_loss: 1.6855 | Validation_acc: 46.1504 %\n",
      "\u001b[36m(launch_and_fit pid=75448)\u001b[0m save graph in  results/FL/\n"
     ]
    },
    {
     "name": "stderr",
     "output_type": "stream",
     "text": [
      "100%|\u001b[34m██████████\u001b[0m| 10/10 [00:19<00:00,  1.98s/it]\n"
     ]
    },
    {
     "name": "stdout",
     "output_type": "stream",
     "text": [
      "\u001b[36m(launch_and_fit pid=75448)\u001b[0m Run WITHOUT homomorphic encryption\n",
      "\u001b[36m(launch_and_fit pid=75448)\u001b[0m  To get the checkpoint\n",
      "\u001b[36m(launch_and_fit pid=75448)\u001b[0m [Client 2, round 25] fit, config: {'learning_rate': 0.003, 'batch_size': '32', 'server_round': 25, 'local_epochs': 10}\n",
      "\u001b[36m(launch_and_fit pid=75448)\u001b[0m Updated model\n"
     ]
    },
    {
     "name": "stderr",
     "output_type": "stream",
     "text": [
      "  0%|\u001b[34m          \u001b[0m| 0/10 [00:00<?, ?it/s]\n"
     ]
    },
    {
     "name": "stdout",
     "output_type": "stream",
     "text": [
      "\u001b[36m(launch_and_fit pid=75448)\u001b[0m \tTrain Epoch: 1 \tTrain_loss: 1.7083 | Train_acc: 42.8452 % | Validation_loss: 1.6610 | Validation_acc: 53.8496 %\n"
     ]
    },
    {
     "name": "stderr",
     "output_type": "stream",
     "text": [
      " 10%|\u001b[34m█         \u001b[0m| 1/10 [00:02<00:18,  2.08s/it]\n"
     ]
    },
    {
     "name": "stdout",
     "output_type": "stream",
     "text": [
      "\u001b[36m(launch_and_fit pid=75448)\u001b[0m \tTrain Epoch: 2 \tTrain_loss: 1.7012 | Train_acc: 42.2798 % | Validation_loss: 1.6803 | Validation_acc: 46.5580 %\n"
     ]
    },
    {
     "name": "stderr",
     "output_type": "stream",
     "text": [
      " 20%|\u001b[34m██        \u001b[0m| 2/10 [00:04<00:16,  2.05s/it]\n"
     ]
    },
    {
     "name": "stdout",
     "output_type": "stream",
     "text": [
      "\u001b[36m(launch_and_fit pid=75448)\u001b[0m \tTrain Epoch: 3 \tTrain_loss: 1.7040 | Train_acc: 42.6012 % | Validation_loss: 1.6659 | Validation_acc: 50.3170 %\n"
     ]
    },
    {
     "name": "stderr",
     "output_type": "stream",
     "text": [
      " 30%|\u001b[34m███       \u001b[0m| 3/10 [00:06<00:14,  2.04s/it]\n"
     ]
    },
    {
     "name": "stdout",
     "output_type": "stream",
     "text": [
      "\u001b[36m(launch_and_fit pid=75448)\u001b[0m \tTrain Epoch: 4 \tTrain_loss: 1.6940 | Train_acc: 44.5952 % | Validation_loss: 1.6491 | Validation_acc: 52.8080 %\n"
     ]
    },
    {
     "name": "stderr",
     "output_type": "stream",
     "text": [
      " 40%|\u001b[34m████      \u001b[0m| 4/10 [00:08<00:12,  2.04s/it]\n"
     ]
    },
    {
     "name": "stdout",
     "output_type": "stream",
     "text": [
      "\u001b[36m(launch_and_fit pid=75448)\u001b[0m \tTrain Epoch: 5 \tTrain_loss: 1.6821 | Train_acc: 45.1488 % | Validation_loss: 1.6691 | Validation_acc: 49.6830 %\n"
     ]
    },
    {
     "name": "stderr",
     "output_type": "stream",
     "text": [
      " 50%|\u001b[34m█████     \u001b[0m| 5/10 [00:10<00:10,  2.03s/it]\n"
     ]
    },
    {
     "name": "stdout",
     "output_type": "stream",
     "text": [
      "\u001b[36m(launch_and_fit pid=75448)\u001b[0m \tTrain Epoch: 6 \tTrain_loss: 1.6830 | Train_acc: 46.4702 % | Validation_loss: 1.6491 | Validation_acc: 52.8080 %\n"
     ]
    },
    {
     "name": "stderr",
     "output_type": "stream",
     "text": [
      " 60%|\u001b[34m██████    \u001b[0m| 6/10 [00:12<00:08,  2.02s/it]\n"
     ]
    },
    {
     "name": "stdout",
     "output_type": "stream",
     "text": [
      "\u001b[36m(launch_and_fit pid=75448)\u001b[0m \tTrain Epoch: 7 \tTrain_loss: 1.6966 | Train_acc: 43.8333 % | Validation_loss: 1.6739 | Validation_acc: 45.1087 %\n"
     ]
    },
    {
     "name": "stderr",
     "output_type": "stream",
     "text": [
      " 70%|\u001b[34m███████   \u001b[0m| 7/10 [00:14<00:06,  2.00s/it]\n"
     ]
    },
    {
     "name": "stdout",
     "output_type": "stream",
     "text": [
      "\u001b[36m(launch_and_fit pid=75448)\u001b[0m \tTrain Epoch: 8 \tTrain_loss: 1.7026 | Train_acc: 42.0298 % | Validation_loss: 1.6591 | Validation_acc: 50.7246 %\n"
     ]
    },
    {
     "name": "stderr",
     "output_type": "stream",
     "text": [
      " 80%|\u001b[34m████████  \u001b[0m| 8/10 [00:16<00:03,  1.99s/it]\n"
     ]
    },
    {
     "name": "stdout",
     "output_type": "stream",
     "text": [
      "\u001b[36m(launch_and_fit pid=75448)\u001b[0m \tTrain Epoch: 9 \tTrain_loss: 1.6870 | Train_acc: 44.4762 % | Validation_loss: 1.6676 | Validation_acc: 48.6413 %\n"
     ]
    },
    {
     "name": "stderr",
     "output_type": "stream",
     "text": [
      " 90%|\u001b[34m█████████ \u001b[0m| 9/10 [00:18<00:01,  1.98s/it]\n"
     ]
    },
    {
     "name": "stdout",
     "output_type": "stream",
     "text": [
      "\u001b[36m(launch_and_fit pid=75448)\u001b[0m \tTrain Epoch: 10 \tTrain_loss: 1.6835 | Train_acc: 45.2202 % | Validation_loss: 1.6617 | Validation_acc: 51.7663 %\n",
      "\u001b[36m(launch_and_fit pid=75448)\u001b[0m save graph in  results/FL/\n"
     ]
    },
    {
     "name": "stderr",
     "output_type": "stream",
     "text": [
      "100%|\u001b[34m██████████\u001b[0m| 10/10 [00:20<00:00,  2.00s/it]\n"
     ]
    },
    {
     "name": "stdout",
     "output_type": "stream",
     "text": [
      "\u001b[36m(launch_and_fit pid=75448)\u001b[0m Run WITHOUT homomorphic encryption\n",
      "\u001b[36m(launch_and_fit pid=75448)\u001b[0m  To get the checkpoint\n",
      "\u001b[36m(launch_and_fit pid=75448)\u001b[0m [Client 0, round 25] fit, config: {'learning_rate': 0.003, 'batch_size': '32', 'server_round': 25, 'local_epochs': 10}\n",
      "\u001b[36m(launch_and_fit pid=75448)\u001b[0m Updated model\n"
     ]
    },
    {
     "name": "stderr",
     "output_type": "stream",
     "text": [
      "  0%|\u001b[34m          \u001b[0m| 0/10 [00:00<?, ?it/s]\n"
     ]
    },
    {
     "name": "stdout",
     "output_type": "stream",
     "text": [
      "\u001b[36m(launch_and_fit pid=75448)\u001b[0m \tTrain Epoch: 1 \tTrain_loss: 1.6702 | Train_acc: 46.1488 % | Validation_loss: 1.7697 | Validation_acc: 39.4928 %\n"
     ]
    },
    {
     "name": "stderr",
     "output_type": "stream",
     "text": [
      " 10%|\u001b[34m█         \u001b[0m| 1/10 [00:02<00:18,  2.03s/it]\n"
     ]
    },
    {
     "name": "stdout",
     "output_type": "stream",
     "text": [
      "\u001b[36m(launch_and_fit pid=75448)\u001b[0m \tTrain Epoch: 2 \tTrain_loss: 1.6730 | Train_acc: 45.9048 % | Validation_loss: 1.8208 | Validation_acc: 23.9130 %\n"
     ]
    },
    {
     "name": "stderr",
     "output_type": "stream",
     "text": [
      " 20%|\u001b[34m██        \u001b[0m| 2/10 [00:04<00:16,  2.00s/it]\n"
     ]
    },
    {
     "name": "stdout",
     "output_type": "stream",
     "text": [
      "\u001b[36m(launch_and_fit pid=75448)\u001b[0m \tTrain Epoch: 3 \tTrain_loss: 1.6631 | Train_acc: 46.7738 % | Validation_loss: 1.7941 | Validation_acc: 34.9185 %\n"
     ]
    },
    {
     "name": "stderr",
     "output_type": "stream",
     "text": [
      " 30%|\u001b[34m███       \u001b[0m| 3/10 [00:05<00:13,  1.99s/it]\n"
     ]
    },
    {
     "name": "stdout",
     "output_type": "stream",
     "text": [
      "\u001b[36m(launch_and_fit pid=75448)\u001b[0m \tTrain Epoch: 4 \tTrain_loss: 1.6767 | Train_acc: 44.0833 % | Validation_loss: 1.7745 | Validation_acc: 39.4928 %\n"
     ]
    },
    {
     "name": "stderr",
     "output_type": "stream",
     "text": [
      " 40%|\u001b[34m████      \u001b[0m| 4/10 [00:07<00:11,  1.97s/it]\n"
     ]
    },
    {
     "name": "stdout",
     "output_type": "stream",
     "text": [
      "\u001b[36m(launch_and_fit pid=75448)\u001b[0m \tTrain Epoch: 5 \tTrain_loss: 1.6521 | Train_acc: 48.0952 % | Validation_loss: 1.7685 | Validation_acc: 38.4511 %\n"
     ]
    },
    {
     "name": "stderr",
     "output_type": "stream",
     "text": [
      " 50%|\u001b[34m█████     \u001b[0m| 5/10 [00:09<00:09,  1.96s/it]\n"
     ]
    },
    {
     "name": "stdout",
     "output_type": "stream",
     "text": [
      "\u001b[36m(launch_and_fit pid=75448)\u001b[0m \tTrain Epoch: 6 \tTrain_loss: 1.6494 | Train_acc: 46.8869 % | Validation_loss: 1.7964 | Validation_acc: 35.3261 %\n"
     ]
    },
    {
     "name": "stderr",
     "output_type": "stream",
     "text": [
      " 60%|\u001b[34m██████    \u001b[0m| 6/10 [00:11<00:07,  1.96s/it]\n"
     ]
    },
    {
     "name": "stdout",
     "output_type": "stream",
     "text": [
      "\u001b[36m(launch_and_fit pid=75448)\u001b[0m \tTrain Epoch: 7 \tTrain_loss: 1.6840 | Train_acc: 43.5952 % | Validation_loss: 1.7500 | Validation_acc: 37.0018 %\n"
     ]
    },
    {
     "name": "stderr",
     "output_type": "stream",
     "text": [
      " 70%|\u001b[34m███████   \u001b[0m| 7/10 [00:13<00:05,  1.95s/it]\n"
     ]
    },
    {
     "name": "stdout",
     "output_type": "stream",
     "text": [
      "\u001b[36m(launch_and_fit pid=75448)\u001b[0m \tTrain Epoch: 8 \tTrain_loss: 1.6504 | Train_acc: 47.6607 % | Validation_loss: 1.7723 | Validation_acc: 31.7935 %\n"
     ]
    },
    {
     "name": "stderr",
     "output_type": "stream",
     "text": [
      " 80%|\u001b[34m████████  \u001b[0m| 8/10 [00:15<00:03,  1.96s/it]\n"
     ]
    },
    {
     "name": "stdout",
     "output_type": "stream",
     "text": [
      "\u001b[36m(launch_and_fit pid=75448)\u001b[0m \tTrain Epoch: 9 \tTrain_loss: 1.6442 | Train_acc: 46.9048 % | Validation_loss: 1.7928 | Validation_acc: 31.3859 %\n"
     ]
    },
    {
     "name": "stderr",
     "output_type": "stream",
     "text": [
      " 90%|\u001b[34m█████████ \u001b[0m| 9/10 [00:17<00:01,  1.96s/it]\n",
      "100%|\u001b[34m██████████\u001b[0m| 10/10 [00:19<00:00,  1.97s/it]\n",
      "DEBUG flwr 2024-08-30 02:33:28,345 | server.py:236 | fit_round 25 received 4 results and 0 failures\n"
     ]
    },
    {
     "name": "stdout",
     "output_type": "stream",
     "text": [
      "\u001b[36m(launch_and_fit pid=75448)\u001b[0m \tTrain Epoch: 10 \tTrain_loss: 1.6413 | Train_acc: 48.7857 % | Validation_loss: 1.7590 | Validation_acc: 39.4928 %\n",
      "\u001b[36m(launch_and_fit pid=75448)\u001b[0m save graph in  results/FL/\n",
      "Saving round 25 aggregated_parameters...\n",
      "Updated model\n"
     ]
    },
    {
     "name": "stderr",
     "output_type": "stream",
     "text": [
      "INFO flwr 2024-08-30 02:33:29,128 | server.py:125 | fit progress: (25, 1.7036162189074926, {'accuracy': 42.708333333333336}, 3241.2593681472354)\n",
      "DEBUG flwr 2024-08-30 02:33:29,130 | server.py:173 | evaluate_round 25: strategy sampled 4 clients (out of 4)\n"
     ]
    },
    {
     "name": "stdout",
     "output_type": "stream",
     "text": [
      "Server-side evaluation loss 1.7036162189074926 / accuracy 42.708333333333336\n",
      "\u001b[36m(launch_and_evaluate pid=75448)\u001b[0m Run WITHOUT homomorphic encryption\n",
      "\u001b[36m(launch_and_evaluate pid=75448)\u001b[0m  To get the checkpoint\n",
      "\u001b[36m(launch_and_evaluate pid=75448)\u001b[0m [Client 3] evaluate, config: {}\n",
      "\u001b[36m(launch_and_evaluate pid=75448)\u001b[0m Updated model\n",
      "\u001b[36m(launch_and_evaluate pid=75448)\u001b[0m Run WITHOUT homomorphic encryption\n",
      "\u001b[36m(launch_and_evaluate pid=75448)\u001b[0m  To get the checkpoint\n",
      "\u001b[36m(launch_and_evaluate pid=75448)\u001b[0m [Client 1] evaluate, config: {}\n",
      "\u001b[36m(launch_and_evaluate pid=75448)\u001b[0m Updated model\n",
      "\u001b[36m(launch_and_evaluate pid=75448)\u001b[0m Run WITHOUT homomorphic encryption\n",
      "\u001b[36m(launch_and_evaluate pid=75448)\u001b[0m  To get the checkpoint\n",
      "\u001b[36m(launch_and_evaluate pid=75448)\u001b[0m [Client 2] evaluate, config: {}\n",
      "\u001b[36m(launch_and_evaluate pid=75448)\u001b[0m Updated model\n",
      "\u001b[36m(launch_and_evaluate pid=75448)\u001b[0m Run WITHOUT homomorphic encryption\n",
      "\u001b[36m(launch_and_evaluate pid=75448)\u001b[0m  To get the checkpoint\n",
      "\u001b[36m(launch_and_evaluate pid=75448)\u001b[0m [Client 0] evaluate, config: {}\n",
      "\u001b[36m(launch_and_evaluate pid=75448)\u001b[0m Updated model\n"
     ]
    },
    {
     "name": "stderr",
     "output_type": "stream",
     "text": [
      "DEBUG flwr 2024-08-30 02:33:31,606 | server.py:187 | evaluate_round 25 received 4 results and 0 failures\n",
      "DEBUG flwr 2024-08-30 02:33:31,607 | server.py:222 | fit_round 26: strategy sampled 4 clients (out of 4)\n"
     ]
    },
    {
     "name": "stdout",
     "output_type": "stream",
     "text": [
      "\u001b[36m(launch_and_fit pid=75448)\u001b[0m Run WITHOUT homomorphic encryption\n",
      "\u001b[36m(launch_and_fit pid=75448)\u001b[0m  To get the checkpoint\n",
      "\u001b[36m(launch_and_fit pid=75448)\u001b[0m [Client 1, round 26] fit, config: {'learning_rate': 0.003, 'batch_size': '32', 'server_round': 26, 'local_epochs': 10}\n",
      "\u001b[36m(launch_and_fit pid=75448)\u001b[0m Updated model\n"
     ]
    },
    {
     "name": "stderr",
     "output_type": "stream",
     "text": [
      "  0%|\u001b[34m          \u001b[0m| 0/10 [00:00<?, ?it/s]\n"
     ]
    },
    {
     "name": "stdout",
     "output_type": "stream",
     "text": [
      "\u001b[36m(launch_and_fit pid=75448)\u001b[0m \tTrain Epoch: 1 \tTrain_loss: 1.7259 | Train_acc: 40.0298 % | Validation_loss: 1.6459 | Validation_acc: 54.2572 %\n"
     ]
    },
    {
     "name": "stderr",
     "output_type": "stream",
     "text": [
      " 10%|\u001b[34m█         \u001b[0m| 1/10 [00:02<00:18,  2.04s/it]\n"
     ]
    },
    {
     "name": "stdout",
     "output_type": "stream",
     "text": [
      "\u001b[36m(launch_and_fit pid=75448)\u001b[0m \tTrain Epoch: 2 \tTrain_loss: 1.6935 | Train_acc: 43.4524 % | Validation_loss: 1.6449 | Validation_acc: 51.7663 %\n"
     ]
    },
    {
     "name": "stderr",
     "output_type": "stream",
     "text": [
      " 20%|\u001b[34m██        \u001b[0m| 2/10 [00:04<00:16,  2.02s/it]\n"
     ]
    },
    {
     "name": "stdout",
     "output_type": "stream",
     "text": [
      "\u001b[36m(launch_and_fit pid=75448)\u001b[0m \tTrain Epoch: 3 \tTrain_loss: 1.7032 | Train_acc: 42.9107 % | Validation_loss: 1.6358 | Validation_acc: 50.7246 %\n"
     ]
    },
    {
     "name": "stderr",
     "output_type": "stream",
     "text": [
      " 30%|\u001b[34m███       \u001b[0m| 3/10 [00:06<00:14,  2.02s/it]\n"
     ]
    },
    {
     "name": "stdout",
     "output_type": "stream",
     "text": [
      "\u001b[36m(launch_and_fit pid=75448)\u001b[0m \tTrain Epoch: 4 \tTrain_loss: 1.7047 | Train_acc: 41.6071 % | Validation_loss: 1.6771 | Validation_acc: 47.5996 %\n"
     ]
    },
    {
     "name": "stderr",
     "output_type": "stream",
     "text": [
      " 40%|\u001b[34m████      \u001b[0m| 4/10 [00:08<00:12,  2.00s/it]\n"
     ]
    },
    {
     "name": "stdout",
     "output_type": "stream",
     "text": [
      "\u001b[36m(launch_and_fit pid=75448)\u001b[0m \tTrain Epoch: 5 \tTrain_loss: 1.6895 | Train_acc: 44.2679 % | Validation_loss: 1.6510 | Validation_acc: 48.2337 %\n"
     ]
    },
    {
     "name": "stderr",
     "output_type": "stream",
     "text": [
      " 50%|\u001b[34m█████     \u001b[0m| 5/10 [00:10<00:10,  2.00s/it]\n"
     ]
    },
    {
     "name": "stdout",
     "output_type": "stream",
     "text": [
      "\u001b[36m(launch_and_fit pid=75448)\u001b[0m \tTrain Epoch: 6 \tTrain_loss: 1.6809 | Train_acc: 46.4643 % | Validation_loss: 1.7057 | Validation_acc: 48.4149 %\n"
     ]
    },
    {
     "name": "stderr",
     "output_type": "stream",
     "text": [
      " 60%|\u001b[34m██████    \u001b[0m| 6/10 [00:12<00:08,  2.02s/it]\n"
     ]
    },
    {
     "name": "stdout",
     "output_type": "stream",
     "text": [
      "\u001b[36m(launch_and_fit pid=75448)\u001b[0m \tTrain Epoch: 7 \tTrain_loss: 1.6720 | Train_acc: 45.2143 % | Validation_loss: 1.6416 | Validation_acc: 54.2572 %\n"
     ]
    },
    {
     "name": "stderr",
     "output_type": "stream",
     "text": [
      " 70%|\u001b[34m███████   \u001b[0m| 7/10 [00:17<00:09,  3.20s/it]\n"
     ]
    },
    {
     "name": "stdout",
     "output_type": "stream",
     "text": [
      "\u001b[36m(launch_and_fit pid=75448)\u001b[0m \tTrain Epoch: 8 \tTrain_loss: 1.6619 | Train_acc: 47.1607 % | Validation_loss: 1.6435 | Validation_acc: 51.7663 %\n"
     ]
    },
    {
     "name": "stderr",
     "output_type": "stream",
     "text": [
      " 80%|\u001b[34m████████  \u001b[0m| 8/10 [00:23<00:07,  3.99s/it]\n"
     ]
    },
    {
     "name": "stdout",
     "output_type": "stream",
     "text": [
      "\u001b[36m(launch_and_fit pid=75448)\u001b[0m \tTrain Epoch: 9 \tTrain_loss: 1.6860 | Train_acc: 44.4107 % | Validation_loss: 1.6567 | Validation_acc: 51.7663 %\n"
     ]
    },
    {
     "name": "stderr",
     "output_type": "stream",
     "text": [
      " 90%|\u001b[34m█████████ \u001b[0m| 9/10 [00:29<00:04,  4.50s/it]\n"
     ]
    },
    {
     "name": "stdout",
     "output_type": "stream",
     "text": [
      "\u001b[36m(launch_and_fit pid=75448)\u001b[0m \tTrain Epoch: 10 \tTrain_loss: 1.6746 | Train_acc: 46.0833 % | Validation_loss: 1.6525 | Validation_acc: 52.8080 %\n",
      "\u001b[36m(launch_and_fit pid=75448)\u001b[0m save graph in  results/FL/\n"
     ]
    },
    {
     "name": "stderr",
     "output_type": "stream",
     "text": [
      "100%|\u001b[34m██████████\u001b[0m| 10/10 [00:34<00:00,  3.49s/it]\n"
     ]
    },
    {
     "name": "stdout",
     "output_type": "stream",
     "text": [
      "\u001b[36m(launch_and_fit pid=75448)\u001b[0m Run WITHOUT homomorphic encryption\n",
      "\u001b[36m(launch_and_fit pid=75448)\u001b[0m  To get the checkpoint\n",
      "\u001b[36m(launch_and_fit pid=75448)\u001b[0m [Client 2, round 26] fit, config: {'learning_rate': 0.003, 'batch_size': '32', 'server_round': 26, 'local_epochs': 10}\n",
      "\u001b[36m(launch_and_fit pid=75448)\u001b[0m Updated model\n"
     ]
    },
    {
     "name": "stderr",
     "output_type": "stream",
     "text": [
      "  0%|\u001b[34m          \u001b[0m| 0/10 [00:00<?, ?it/s]\n"
     ]
    },
    {
     "name": "stdout",
     "output_type": "stream",
     "text": [
      "\u001b[36m(launch_and_fit pid=75448)\u001b[0m \tTrain Epoch: 1 \tTrain_loss: 1.8111 | Train_acc: 33.2738 % | Validation_loss: 1.7260 | Validation_acc: 45.1087 %\n"
     ]
    },
    {
     "name": "stderr",
     "output_type": "stream",
     "text": [
      " 10%|\u001b[34m█         \u001b[0m| 1/10 [00:06<00:54,  6.10s/it]\n"
     ]
    },
    {
     "name": "stdout",
     "output_type": "stream",
     "text": [
      "\u001b[36m(launch_and_fit pid=75448)\u001b[0m \tTrain Epoch: 2 \tTrain_loss: 1.7937 | Train_acc: 34.2083 % | Validation_loss: 1.6957 | Validation_acc: 47.5996 %\n"
     ]
    },
    {
     "name": "stderr",
     "output_type": "stream",
     "text": [
      " 20%|\u001b[34m██        \u001b[0m| 2/10 [00:11<00:46,  5.87s/it]\n"
     ]
    },
    {
     "name": "stdout",
     "output_type": "stream",
     "text": [
      "\u001b[36m(launch_and_fit pid=75448)\u001b[0m \tTrain Epoch: 3 \tTrain_loss: 1.7820 | Train_acc: 34.8333 % | Validation_loss: 1.7205 | Validation_acc: 44.0670 %\n"
     ]
    },
    {
     "name": "stderr",
     "output_type": "stream",
     "text": [
      " 30%|\u001b[34m███       \u001b[0m| 3/10 [00:17<00:41,  5.88s/it]\n"
     ]
    },
    {
     "name": "stdout",
     "output_type": "stream",
     "text": [
      "\u001b[36m(launch_and_fit pid=75448)\u001b[0m \tTrain Epoch: 4 \tTrain_loss: 1.7695 | Train_acc: 36.2262 % | Validation_loss: 1.7119 | Validation_acc: 45.1087 %\n"
     ]
    },
    {
     "name": "stderr",
     "output_type": "stream",
     "text": [
      " 40%|\u001b[34m████      \u001b[0m| 4/10 [00:23<00:34,  5.80s/it]\n"
     ]
    },
    {
     "name": "stdout",
     "output_type": "stream",
     "text": [
      "\u001b[36m(launch_and_fit pid=75448)\u001b[0m \tTrain Epoch: 5 \tTrain_loss: 1.7727 | Train_acc: 35.5833 % | Validation_loss: 1.7053 | Validation_acc: 46.1504 %\n"
     ]
    },
    {
     "name": "stderr",
     "output_type": "stream",
     "text": [
      " 50%|\u001b[34m█████     \u001b[0m| 5/10 [00:29<00:29,  5.84s/it]\n"
     ]
    },
    {
     "name": "stdout",
     "output_type": "stream",
     "text": [
      "\u001b[36m(launch_and_fit pid=75448)\u001b[0m \tTrain Epoch: 6 \tTrain_loss: 1.7456 | Train_acc: 39.5893 % | Validation_loss: 1.6950 | Validation_acc: 47.5996 %\n"
     ]
    },
    {
     "name": "stderr",
     "output_type": "stream",
     "text": [
      " 60%|\u001b[34m██████    \u001b[0m| 6/10 [00:34<00:22,  5.73s/it]\n"
     ]
    },
    {
     "name": "stdout",
     "output_type": "stream",
     "text": [
      "\u001b[36m(launch_and_fit pid=75448)\u001b[0m \tTrain Epoch: 7 \tTrain_loss: 1.7374 | Train_acc: 39.4167 % | Validation_loss: 1.6810 | Validation_acc: 48.6413 %\n"
     ]
    },
    {
     "name": "stderr",
     "output_type": "stream",
     "text": [
      " 70%|\u001b[34m███████   \u001b[0m| 7/10 [00:40<00:17,  5.78s/it]\n"
     ]
    },
    {
     "name": "stdout",
     "output_type": "stream",
     "text": [
      "\u001b[36m(launch_and_fit pid=75448)\u001b[0m \tTrain Epoch: 8 \tTrain_loss: 1.7366 | Train_acc: 40.0774 % | Validation_loss: 1.7240 | Validation_acc: 44.0670 %\n"
     ]
    },
    {
     "name": "stderr",
     "output_type": "stream",
     "text": [
      " 80%|\u001b[34m████████  \u001b[0m| 8/10 [00:46<00:11,  5.76s/it]\n"
     ]
    },
    {
     "name": "stdout",
     "output_type": "stream",
     "text": [
      "\u001b[36m(launch_and_fit pid=75448)\u001b[0m \tTrain Epoch: 9 \tTrain_loss: 1.7531 | Train_acc: 38.0238 % | Validation_loss: 1.7306 | Validation_acc: 44.0670 %\n"
     ]
    },
    {
     "name": "stderr",
     "output_type": "stream",
     "text": [
      " 90%|\u001b[34m█████████ \u001b[0m| 9/10 [00:52<00:05,  5.77s/it]\n"
     ]
    },
    {
     "name": "stdout",
     "output_type": "stream",
     "text": [
      "\u001b[36m(launch_and_fit pid=75448)\u001b[0m \tTrain Epoch: 10 \tTrain_loss: 1.7368 | Train_acc: 39.2738 % | Validation_loss: 1.6750 | Validation_acc: 48.6413 %\n",
      "\u001b[36m(launch_and_fit pid=75448)\u001b[0m save graph in  results/FL/\n"
     ]
    },
    {
     "name": "stderr",
     "output_type": "stream",
     "text": [
      "100%|\u001b[34m██████████\u001b[0m| 10/10 [00:57<00:00,  5.80s/it]\n"
     ]
    },
    {
     "name": "stdout",
     "output_type": "stream",
     "text": [
      "\u001b[36m(launch_and_fit pid=75448)\u001b[0m Run WITHOUT homomorphic encryption\n",
      "\u001b[36m(launch_and_fit pid=75448)\u001b[0m  To get the checkpoint\n",
      "\u001b[36m(launch_and_fit pid=75448)\u001b[0m [Client 3, round 26] fit, config: {'learning_rate': 0.003, 'batch_size': '32', 'server_round': 26, 'local_epochs': 10}\n",
      "\u001b[36m(launch_and_fit pid=75448)\u001b[0m Updated model\n"
     ]
    },
    {
     "name": "stderr",
     "output_type": "stream",
     "text": [
      "  0%|\u001b[34m          \u001b[0m| 0/10 [00:00<?, ?it/s]\n"
     ]
    },
    {
     "name": "stdout",
     "output_type": "stream",
     "text": [
      "\u001b[36m(launch_and_fit pid=75448)\u001b[0m \tTrain Epoch: 1 \tTrain_loss: 1.6862 | Train_acc: 44.6488 % | Validation_loss: 1.7149 | Validation_acc: 37.4094 %\n"
     ]
    },
    {
     "name": "stderr",
     "output_type": "stream",
     "text": [
      " 10%|\u001b[34m█         \u001b[0m| 1/10 [00:05<00:51,  5.68s/it]\n"
     ]
    },
    {
     "name": "stdout",
     "output_type": "stream",
     "text": [
      "\u001b[36m(launch_and_fit pid=75448)\u001b[0m \tTrain Epoch: 2 \tTrain_loss: 1.6699 | Train_acc: 46.2857 % | Validation_loss: 1.7009 | Validation_acc: 40.9420 %\n"
     ]
    },
    {
     "name": "stderr",
     "output_type": "stream",
     "text": [
      " 20%|\u001b[34m██        \u001b[0m| 2/10 [00:11<00:46,  5.76s/it]\n"
     ]
    },
    {
     "name": "stdout",
     "output_type": "stream",
     "text": [
      "\u001b[36m(launch_and_fit pid=75448)\u001b[0m \tTrain Epoch: 3 \tTrain_loss: 1.6717 | Train_acc: 46.0238 % | Validation_loss: 1.6915 | Validation_acc: 38.8587 %\n"
     ]
    },
    {
     "name": "stderr",
     "output_type": "stream",
     "text": [
      " 30%|\u001b[34m███       \u001b[0m| 3/10 [00:17<00:41,  5.88s/it]\n"
     ]
    },
    {
     "name": "stdout",
     "output_type": "stream",
     "text": [
      "\u001b[36m(launch_and_fit pid=75448)\u001b[0m \tTrain Epoch: 4 \tTrain_loss: 1.6708 | Train_acc: 47.5774 % | Validation_loss: 1.7180 | Validation_acc: 37.4094 %\n"
     ]
    },
    {
     "name": "stderr",
     "output_type": "stream",
     "text": [
      " 40%|\u001b[34m████      \u001b[0m| 4/10 [00:23<00:35,  5.84s/it]\n"
     ]
    },
    {
     "name": "stdout",
     "output_type": "stream",
     "text": [
      "\u001b[36m(launch_and_fit pid=75448)\u001b[0m \tTrain Epoch: 5 \tTrain_loss: 1.6436 | Train_acc: 49.6607 % | Validation_loss: 1.6732 | Validation_acc: 39.0851 %\n"
     ]
    },
    {
     "name": "stderr",
     "output_type": "stream",
     "text": [
      " 50%|\u001b[34m█████     \u001b[0m| 5/10 [00:29<00:29,  5.83s/it]\n"
     ]
    },
    {
     "name": "stdout",
     "output_type": "stream",
     "text": [
      "\u001b[36m(launch_and_fit pid=75448)\u001b[0m \tTrain Epoch: 6 \tTrain_loss: 1.6565 | Train_acc: 47.7143 % | Validation_loss: 1.6748 | Validation_acc: 38.4511 %\n"
     ]
    },
    {
     "name": "stderr",
     "output_type": "stream",
     "text": [
      " 60%|\u001b[34m██████    \u001b[0m| 6/10 [00:35<00:23,  5.86s/it]\n"
     ]
    },
    {
     "name": "stdout",
     "output_type": "stream",
     "text": [
      "\u001b[36m(launch_and_fit pid=75448)\u001b[0m \tTrain Epoch: 7 \tTrain_loss: 1.6590 | Train_acc: 47.2798 % | Validation_loss: 1.6902 | Validation_acc: 37.0018 %\n"
     ]
    },
    {
     "name": "stderr",
     "output_type": "stream",
     "text": [
      " 70%|\u001b[34m███████   \u001b[0m| 7/10 [00:40<00:17,  5.83s/it]\n"
     ]
    },
    {
     "name": "stdout",
     "output_type": "stream",
     "text": [
      "\u001b[36m(launch_and_fit pid=75448)\u001b[0m \tTrain Epoch: 8 \tTrain_loss: 1.6278 | Train_acc: 49.4702 % | Validation_loss: 1.6802 | Validation_acc: 32.4275 %\n"
     ]
    },
    {
     "name": "stderr",
     "output_type": "stream",
     "text": [
      " 80%|\u001b[34m████████  \u001b[0m| 8/10 [00:46<00:11,  5.76s/it]\n"
     ]
    },
    {
     "name": "stdout",
     "output_type": "stream",
     "text": [
      "\u001b[36m(launch_and_fit pid=75448)\u001b[0m \tTrain Epoch: 9 \tTrain_loss: 1.6484 | Train_acc: 45.7024 % | Validation_loss: 1.6905 | Validation_acc: 32.8351 %\n"
     ]
    },
    {
     "name": "stderr",
     "output_type": "stream",
     "text": [
      " 90%|\u001b[34m█████████ \u001b[0m| 9/10 [00:52<00:05,  5.77s/it]\n"
     ]
    },
    {
     "name": "stdout",
     "output_type": "stream",
     "text": [
      "\u001b[36m(launch_and_fit pid=75448)\u001b[0m \tTrain Epoch: 10 \tTrain_loss: 1.6438 | Train_acc: 44.4643 % | Validation_loss: 1.6466 | Validation_acc: 34.9185 %\n",
      "\u001b[36m(launch_and_fit pid=75448)\u001b[0m save graph in  results/FL/\n"
     ]
    },
    {
     "name": "stderr",
     "output_type": "stream",
     "text": [
      "100%|\u001b[34m██████████\u001b[0m| 10/10 [00:57<00:00,  5.78s/it]\n"
     ]
    },
    {
     "name": "stdout",
     "output_type": "stream",
     "text": [
      "\u001b[36m(launch_and_fit pid=75448)\u001b[0m Run WITHOUT homomorphic encryption\n",
      "\u001b[36m(launch_and_fit pid=75448)\u001b[0m  To get the checkpoint\n",
      "\u001b[36m(launch_and_fit pid=75448)\u001b[0m [Client 0, round 26] fit, config: {'learning_rate': 0.003, 'batch_size': '32', 'server_round': 26, 'local_epochs': 10}\n",
      "\u001b[36m(launch_and_fit pid=75448)\u001b[0m Updated model\n"
     ]
    },
    {
     "name": "stderr",
     "output_type": "stream",
     "text": [
      "  0%|\u001b[34m          \u001b[0m| 0/10 [00:00<?, ?it/s]\n"
     ]
    },
    {
     "name": "stdout",
     "output_type": "stream",
     "text": [
      "\u001b[36m(launch_and_fit pid=75448)\u001b[0m \tTrain Epoch: 1 \tTrain_loss: 1.6788 | Train_acc: 45.0298 % | Validation_loss: 1.8004 | Validation_acc: 30.9783 %\n"
     ]
    },
    {
     "name": "stderr",
     "output_type": "stream",
     "text": [
      " 10%|\u001b[34m█         \u001b[0m| 1/10 [00:05<00:52,  5.82s/it]\n"
     ]
    },
    {
     "name": "stdout",
     "output_type": "stream",
     "text": [
      "\u001b[36m(launch_and_fit pid=75448)\u001b[0m \tTrain Epoch: 2 \tTrain_loss: 1.6930 | Train_acc: 42.0833 % | Validation_loss: 1.7796 | Validation_acc: 38.0435 %\n"
     ]
    },
    {
     "name": "stderr",
     "output_type": "stream",
     "text": [
      " 20%|\u001b[34m██        \u001b[0m| 2/10 [00:11<00:47,  5.98s/it]\n"
     ]
    },
    {
     "name": "stdout",
     "output_type": "stream",
     "text": [
      "\u001b[36m(launch_and_fit pid=75448)\u001b[0m \tTrain Epoch: 3 \tTrain_loss: 1.7050 | Train_acc: 40.7738 % | Validation_loss: 1.7777 | Validation_acc: 35.9601 %\n"
     ]
    },
    {
     "name": "stderr",
     "output_type": "stream",
     "text": [
      " 30%|\u001b[34m███       \u001b[0m| 3/10 [00:17<00:40,  5.84s/it]\n"
     ]
    },
    {
     "name": "stdout",
     "output_type": "stream",
     "text": [
      "\u001b[36m(launch_and_fit pid=75448)\u001b[0m \tTrain Epoch: 4 \tTrain_loss: 1.6626 | Train_acc: 46.5298 % | Validation_loss: 1.7691 | Validation_acc: 34.5109 %\n"
     ]
    },
    {
     "name": "stderr",
     "output_type": "stream",
     "text": [
      " 40%|\u001b[34m████      \u001b[0m| 4/10 [00:23<00:34,  5.83s/it]\n"
     ]
    },
    {
     "name": "stdout",
     "output_type": "stream",
     "text": [
      "\u001b[36m(launch_and_fit pid=75448)\u001b[0m \tTrain Epoch: 5 \tTrain_loss: 1.6696 | Train_acc: 43.9048 % | Validation_loss: 1.8037 | Validation_acc: 29.9366 %\n"
     ]
    },
    {
     "name": "stderr",
     "output_type": "stream",
     "text": [
      " 50%|\u001b[34m█████     \u001b[0m| 5/10 [00:26<00:24,  4.92s/it]\n"
     ]
    },
    {
     "name": "stdout",
     "output_type": "stream",
     "text": [
      "\u001b[36m(launch_and_fit pid=75448)\u001b[0m \tTrain Epoch: 6 \tTrain_loss: 1.6563 | Train_acc: 46.5357 % | Validation_loss: 1.7929 | Validation_acc: 32.4275 %\n"
     ]
    },
    {
     "name": "stderr",
     "output_type": "stream",
     "text": [
      " 60%|\u001b[34m██████    \u001b[0m| 6/10 [00:28<00:15,  3.91s/it]\n"
     ]
    },
    {
     "name": "stdout",
     "output_type": "stream",
     "text": [
      "\u001b[36m(launch_and_fit pid=75448)\u001b[0m \tTrain Epoch: 7 \tTrain_loss: 1.6481 | Train_acc: 46.4821 % | Validation_loss: 1.7758 | Validation_acc: 37.0018 %\n"
     ]
    },
    {
     "name": "stderr",
     "output_type": "stream",
     "text": [
      " 70%|\u001b[34m███████   \u001b[0m| 7/10 [00:30<00:09,  3.26s/it]\n"
     ]
    },
    {
     "name": "stdout",
     "output_type": "stream",
     "text": [
      "\u001b[36m(launch_and_fit pid=75448)\u001b[0m \tTrain Epoch: 8 \tTrain_loss: 1.6545 | Train_acc: 46.5238 % | Validation_loss: 1.7541 | Validation_acc: 35.5525 %\n"
     ]
    },
    {
     "name": "stderr",
     "output_type": "stream",
     "text": [
      " 80%|\u001b[34m████████  \u001b[0m| 8/10 [00:32<00:05,  2.83s/it]\n"
     ]
    },
    {
     "name": "stdout",
     "output_type": "stream",
     "text": [
      "\u001b[36m(launch_and_fit pid=75448)\u001b[0m \tTrain Epoch: 9 \tTrain_loss: 1.6417 | Train_acc: 49.4702 % | Validation_loss: 1.7835 | Validation_acc: 34.5109 %\n"
     ]
    },
    {
     "name": "stderr",
     "output_type": "stream",
     "text": [
      " 90%|\u001b[34m█████████ \u001b[0m| 9/10 [00:34<00:02,  2.55s/it]\n",
      "100%|\u001b[34m██████████\u001b[0m| 10/10 [00:36<00:00,  3.63s/it]\n",
      "DEBUG flwr 2024-08-30 02:36:43,455 | server.py:236 | fit_round 26 received 4 results and 0 failures\n"
     ]
    },
    {
     "name": "stdout",
     "output_type": "stream",
     "text": [
      "\u001b[36m(launch_and_fit pid=75448)\u001b[0m \tTrain Epoch: 10 \tTrain_loss: 1.6401 | Train_acc: 48.4107 % | Validation_loss: 1.7721 | Validation_acc: 35.9601 %\n",
      "\u001b[36m(launch_and_fit pid=75448)\u001b[0m save graph in  results/FL/\n",
      "Saving round 26 aggregated_parameters...\n",
      "Updated model\n"
     ]
    },
    {
     "name": "stderr",
     "output_type": "stream",
     "text": [
      "INFO flwr 2024-08-30 02:36:44,356 | server.py:125 | fit progress: (26, 1.727695563009807, {'accuracy': 41.10863095238095}, 3436.4871460832655)\n",
      "DEBUG flwr 2024-08-30 02:36:44,357 | server.py:173 | evaluate_round 26: strategy sampled 4 clients (out of 4)\n"
     ]
    },
    {
     "name": "stdout",
     "output_type": "stream",
     "text": [
      "Server-side evaluation loss 1.727695563009807 / accuracy 41.10863095238095\n",
      "\u001b[36m(launch_and_evaluate pid=75448)\u001b[0m Run WITHOUT homomorphic encryption\n",
      "\u001b[36m(launch_and_evaluate pid=75448)\u001b[0m  To get the checkpoint\n",
      "\u001b[36m(launch_and_evaluate pid=75448)\u001b[0m [Client 3] evaluate, config: {}\n",
      "\u001b[36m(launch_and_evaluate pid=75448)\u001b[0m Updated model\n",
      "\u001b[36m(launch_and_evaluate pid=75448)\u001b[0m Run WITHOUT homomorphic encryption\n",
      "\u001b[36m(launch_and_evaluate pid=75448)\u001b[0m  To get the checkpoint\n",
      "\u001b[36m(launch_and_evaluate pid=75448)\u001b[0m [Client 1] evaluate, config: {}\n",
      "\u001b[36m(launch_and_evaluate pid=75448)\u001b[0m Updated model\n",
      "\u001b[36m(launch_and_evaluate pid=75448)\u001b[0m Run WITHOUT homomorphic encryption\n",
      "\u001b[36m(launch_and_evaluate pid=75448)\u001b[0m  To get the checkpoint\n",
      "\u001b[36m(launch_and_evaluate pid=75448)\u001b[0m [Client 0] evaluate, config: {}\n",
      "\u001b[36m(launch_and_evaluate pid=75448)\u001b[0m Updated model\n",
      "\u001b[36m(launch_and_evaluate pid=75448)\u001b[0m Run WITHOUT homomorphic encryption\n",
      "\u001b[36m(launch_and_evaluate pid=75448)\u001b[0m  To get the checkpoint\n",
      "\u001b[36m(launch_and_evaluate pid=75448)\u001b[0m [Client 2] evaluate, config: {}\n",
      "\u001b[36m(launch_and_evaluate pid=75448)\u001b[0m Updated model\n"
     ]
    },
    {
     "name": "stderr",
     "output_type": "stream",
     "text": [
      "DEBUG flwr 2024-08-30 02:36:47,433 | server.py:187 | evaluate_round 26 received 4 results and 0 failures\n",
      "DEBUG flwr 2024-08-30 02:36:47,434 | server.py:222 | fit_round 27: strategy sampled 4 clients (out of 4)\n"
     ]
    },
    {
     "name": "stdout",
     "output_type": "stream",
     "text": [
      "\u001b[36m(launch_and_fit pid=75448)\u001b[0m Run WITHOUT homomorphic encryption\n",
      "\u001b[36m(launch_and_fit pid=75448)\u001b[0m  To get the checkpoint\n",
      "\u001b[36m(launch_and_fit pid=75448)\u001b[0m [Client 1, round 27] fit, config: {'learning_rate': 0.003, 'batch_size': '32', 'server_round': 27, 'local_epochs': 10}\n",
      "\u001b[36m(launch_and_fit pid=75448)\u001b[0m Updated model\n"
     ]
    },
    {
     "name": "stderr",
     "output_type": "stream",
     "text": [
      "  0%|\u001b[34m          \u001b[0m| 0/10 [00:00<?, ?it/s]\n"
     ]
    },
    {
     "name": "stdout",
     "output_type": "stream",
     "text": [
      "\u001b[36m(launch_and_fit pid=75448)\u001b[0m \tTrain Epoch: 1 \tTrain_loss: 1.6990 | Train_acc: 42.7798 % | Validation_loss: 1.6459 | Validation_acc: 50.3170 %\n"
     ]
    },
    {
     "name": "stderr",
     "output_type": "stream",
     "text": [
      " 10%|\u001b[34m█         \u001b[0m| 1/10 [00:02<00:18,  2.07s/it]\n"
     ]
    },
    {
     "name": "stdout",
     "output_type": "stream",
     "text": [
      "\u001b[36m(launch_and_fit pid=75448)\u001b[0m \tTrain Epoch: 2 \tTrain_loss: 1.7008 | Train_acc: 41.2143 % | Validation_loss: 1.6995 | Validation_acc: 44.0670 %\n"
     ]
    },
    {
     "name": "stderr",
     "output_type": "stream",
     "text": [
      " 20%|\u001b[34m██        \u001b[0m| 2/10 [00:04<00:16,  2.06s/it]\n"
     ]
    },
    {
     "name": "stdout",
     "output_type": "stream",
     "text": [
      "\u001b[36m(launch_and_fit pid=75448)\u001b[0m \tTrain Epoch: 3 \tTrain_loss: 1.7017 | Train_acc: 38.5238 % | Validation_loss: 1.6151 | Validation_acc: 46.1504 %\n"
     ]
    },
    {
     "name": "stderr",
     "output_type": "stream",
     "text": [
      " 30%|\u001b[34m███       \u001b[0m| 3/10 [00:06<00:14,  2.06s/it]\n"
     ]
    },
    {
     "name": "stdout",
     "output_type": "stream",
     "text": [
      "\u001b[36m(launch_and_fit pid=75448)\u001b[0m \tTrain Epoch: 4 \tTrain_loss: 1.6521 | Train_acc: 42.5893 % | Validation_loss: 1.5990 | Validation_acc: 44.0670 %\n"
     ]
    },
    {
     "name": "stderr",
     "output_type": "stream",
     "text": [
      " 40%|\u001b[34m████      \u001b[0m| 4/10 [00:08<00:12,  2.06s/it]\n"
     ]
    },
    {
     "name": "stdout",
     "output_type": "stream",
     "text": [
      "\u001b[36m(launch_and_fit pid=75448)\u001b[0m \tTrain Epoch: 5 \tTrain_loss: 1.6493 | Train_acc: 43.9583 % | Validation_loss: 1.6087 | Validation_acc: 47.1920 %\n"
     ]
    },
    {
     "name": "stderr",
     "output_type": "stream",
     "text": [
      " 50%|\u001b[34m█████     \u001b[0m| 5/10 [00:10<00:10,  2.05s/it]\n"
     ]
    },
    {
     "name": "stdout",
     "output_type": "stream",
     "text": [
      "\u001b[36m(launch_and_fit pid=75448)\u001b[0m \tTrain Epoch: 6 \tTrain_loss: 1.6381 | Train_acc: 41.2143 % | Validation_loss: 1.7309 | Validation_acc: 37.8170 %\n"
     ]
    },
    {
     "name": "stderr",
     "output_type": "stream",
     "text": [
      " 60%|\u001b[34m██████    \u001b[0m| 6/10 [00:12<00:08,  2.04s/it]\n"
     ]
    },
    {
     "name": "stdout",
     "output_type": "stream",
     "text": [
      "\u001b[36m(launch_and_fit pid=75448)\u001b[0m \tTrain Epoch: 7 \tTrain_loss: 1.6806 | Train_acc: 39.6369 % | Validation_loss: 1.5910 | Validation_acc: 45.5163 %\n"
     ]
    },
    {
     "name": "stderr",
     "output_type": "stream",
     "text": [
      " 70%|\u001b[34m███████   \u001b[0m| 7/10 [00:14<00:06,  2.04s/it]\n"
     ]
    },
    {
     "name": "stdout",
     "output_type": "stream",
     "text": [
      "\u001b[36m(launch_and_fit pid=75448)\u001b[0m \tTrain Epoch: 8 \tTrain_loss: 1.6330 | Train_acc: 43.0893 % | Validation_loss: 1.5913 | Validation_acc: 47.5996 %\n"
     ]
    },
    {
     "name": "stderr",
     "output_type": "stream",
     "text": [
      " 80%|\u001b[34m████████  \u001b[0m| 8/10 [00:16<00:04,  2.04s/it]\n"
     ]
    },
    {
     "name": "stdout",
     "output_type": "stream",
     "text": [
      "\u001b[36m(launch_and_fit pid=75448)\u001b[0m \tTrain Epoch: 9 \tTrain_loss: 1.6490 | Train_acc: 39.9762 % | Validation_loss: 1.6959 | Validation_acc: 37.8170 %\n"
     ]
    },
    {
     "name": "stderr",
     "output_type": "stream",
     "text": [
      " 90%|\u001b[34m█████████ \u001b[0m| 9/10 [00:18<00:02,  2.04s/it]\n"
     ]
    },
    {
     "name": "stdout",
     "output_type": "stream",
     "text": [
      "\u001b[36m(launch_and_fit pid=75448)\u001b[0m \tTrain Epoch: 10 \tTrain_loss: 1.6700 | Train_acc: 40.3393 % | Validation_loss: 1.6073 | Validation_acc: 49.6830 %\n",
      "\u001b[36m(launch_and_fit pid=75448)\u001b[0m save graph in  results/FL/\n"
     ]
    },
    {
     "name": "stderr",
     "output_type": "stream",
     "text": [
      "100%|\u001b[34m██████████\u001b[0m| 10/10 [00:20<00:00,  2.05s/it]\n"
     ]
    },
    {
     "name": "stdout",
     "output_type": "stream",
     "text": [
      "\u001b[36m(launch_and_fit pid=75448)\u001b[0m Run WITHOUT homomorphic encryption\n",
      "\u001b[36m(launch_and_fit pid=75448)\u001b[0m  To get the checkpoint\n",
      "\u001b[36m(launch_and_fit pid=75448)\u001b[0m [Client 3, round 27] fit, config: {'learning_rate': 0.003, 'batch_size': '32', 'server_round': 27, 'local_epochs': 10}\n",
      "\u001b[36m(launch_and_fit pid=75448)\u001b[0m Updated model\n"
     ]
    },
    {
     "name": "stderr",
     "output_type": "stream",
     "text": [
      "  0%|\u001b[34m          \u001b[0m| 0/10 [00:00<?, ?it/s]\n"
     ]
    },
    {
     "name": "stdout",
     "output_type": "stream",
     "text": [
      "\u001b[36m(launch_and_fit pid=75448)\u001b[0m \tTrain Epoch: 1 \tTrain_loss: 1.7316 | Train_acc: 41.3393 % | Validation_loss: 1.7066 | Validation_acc: 44.8822 %\n"
     ]
    },
    {
     "name": "stderr",
     "output_type": "stream",
     "text": [
      " 10%|\u001b[34m█         \u001b[0m| 1/10 [00:02<00:18,  2.03s/it]\n"
     ]
    },
    {
     "name": "stdout",
     "output_type": "stream",
     "text": [
      "\u001b[36m(launch_and_fit pid=75448)\u001b[0m \tTrain Epoch: 2 \tTrain_loss: 1.7052 | Train_acc: 45.0298 % | Validation_loss: 1.6785 | Validation_acc: 38.8587 %\n"
     ]
    },
    {
     "name": "stderr",
     "output_type": "stream",
     "text": [
      " 20%|\u001b[34m██        \u001b[0m| 2/10 [00:04<00:16,  2.04s/it]\n"
     ]
    },
    {
     "name": "stdout",
     "output_type": "stream",
     "text": [
      "\u001b[36m(launch_and_fit pid=75448)\u001b[0m \tTrain Epoch: 3 \tTrain_loss: 1.7195 | Train_acc: 42.0833 % | Validation_loss: 1.7131 | Validation_acc: 38.4511 %\n"
     ]
    },
    {
     "name": "stderr",
     "output_type": "stream",
     "text": [
      " 30%|\u001b[34m███       \u001b[0m| 3/10 [00:06<00:14,  2.02s/it]\n"
     ]
    },
    {
     "name": "stdout",
     "output_type": "stream",
     "text": [
      "\u001b[36m(launch_and_fit pid=75448)\u001b[0m \tTrain Epoch: 4 \tTrain_loss: 1.6773 | Train_acc: 42.7202 % | Validation_loss: 1.6880 | Validation_acc: 36.7754 %\n"
     ]
    },
    {
     "name": "stderr",
     "output_type": "stream",
     "text": [
      " 40%|\u001b[34m████      \u001b[0m| 4/10 [00:08<00:12,  2.03s/it]\n"
     ]
    },
    {
     "name": "stdout",
     "output_type": "stream",
     "text": [
      "\u001b[36m(launch_and_fit pid=75448)\u001b[0m \tTrain Epoch: 5 \tTrain_loss: 1.6506 | Train_acc: 43.7202 % | Validation_loss: 1.6671 | Validation_acc: 31.1594 %\n"
     ]
    },
    {
     "name": "stderr",
     "output_type": "stream",
     "text": [
      " 50%|\u001b[34m█████     \u001b[0m| 5/10 [00:10<00:10,  2.04s/it]\n"
     ]
    },
    {
     "name": "stdout",
     "output_type": "stream",
     "text": [
      "\u001b[36m(launch_and_fit pid=75448)\u001b[0m \tTrain Epoch: 6 \tTrain_loss: 1.6283 | Train_acc: 44.0417 % | Validation_loss: 1.6837 | Validation_acc: 33.8768 %\n"
     ]
    },
    {
     "name": "stderr",
     "output_type": "stream",
     "text": [
      " 60%|\u001b[34m██████    \u001b[0m| 6/10 [00:12<00:08,  2.06s/it]\n"
     ]
    },
    {
     "name": "stdout",
     "output_type": "stream",
     "text": [
      "\u001b[36m(launch_and_fit pid=75448)\u001b[0m \tTrain Epoch: 7 \tTrain_loss: 1.6926 | Train_acc: 40.6607 % | Validation_loss: 1.6711 | Validation_acc: 33.8768 %\n"
     ]
    },
    {
     "name": "stderr",
     "output_type": "stream",
     "text": [
      " 70%|\u001b[34m███████   \u001b[0m| 7/10 [00:14<00:06,  2.06s/it]\n"
     ]
    },
    {
     "name": "stdout",
     "output_type": "stream",
     "text": [
      "\u001b[36m(launch_and_fit pid=75448)\u001b[0m \tTrain Epoch: 8 \tTrain_loss: 1.6500 | Train_acc: 43.9048 % | Validation_loss: 1.6732 | Validation_acc: 38.4511 %\n"
     ]
    },
    {
     "name": "stderr",
     "output_type": "stream",
     "text": [
      " 80%|\u001b[34m████████  \u001b[0m| 8/10 [00:16<00:04,  2.05s/it]\n"
     ]
    },
    {
     "name": "stdout",
     "output_type": "stream",
     "text": [
      "\u001b[36m(launch_and_fit pid=75448)\u001b[0m \tTrain Epoch: 9 \tTrain_loss: 1.6271 | Train_acc: 45.3929 % | Validation_loss: 1.6487 | Validation_acc: 35.9601 %\n"
     ]
    },
    {
     "name": "stderr",
     "output_type": "stream",
     "text": [
      " 90%|\u001b[34m█████████ \u001b[0m| 9/10 [00:18<00:02,  2.03s/it]\n"
     ]
    },
    {
     "name": "stdout",
     "output_type": "stream",
     "text": [
      "\u001b[36m(launch_and_fit pid=75448)\u001b[0m \tTrain Epoch: 10 \tTrain_loss: 1.6084 | Train_acc: 46.7083 % | Validation_loss: 1.6730 | Validation_acc: 37.4094 %\n",
      "\u001b[36m(launch_and_fit pid=75448)\u001b[0m save graph in  results/FL/\n"
     ]
    },
    {
     "name": "stderr",
     "output_type": "stream",
     "text": [
      "100%|\u001b[34m██████████\u001b[0m| 10/10 [00:20<00:00,  2.03s/it]\n"
     ]
    },
    {
     "name": "stdout",
     "output_type": "stream",
     "text": [
      "\u001b[36m(launch_and_fit pid=75448)\u001b[0m Run WITHOUT homomorphic encryption\n",
      "\u001b[36m(launch_and_fit pid=75448)\u001b[0m  To get the checkpoint\n",
      "\u001b[36m(launch_and_fit pid=75448)\u001b[0m [Client 0, round 27] fit, config: {'learning_rate': 0.003, 'batch_size': '32', 'server_round': 27, 'local_epochs': 10}\n",
      "\u001b[36m(launch_and_fit pid=75448)\u001b[0m Updated model\n"
     ]
    },
    {
     "name": "stderr",
     "output_type": "stream",
     "text": [
      "  0%|\u001b[34m          \u001b[0m| 0/10 [00:00<?, ?it/s]\n"
     ]
    },
    {
     "name": "stdout",
     "output_type": "stream",
     "text": [
      "\u001b[36m(launch_and_fit pid=75448)\u001b[0m \tTrain Epoch: 1 \tTrain_loss: 1.6836 | Train_acc: 42.9643 % | Validation_loss: 1.7623 | Validation_acc: 37.0018 %\n"
     ]
    },
    {
     "name": "stderr",
     "output_type": "stream",
     "text": [
      " 10%|\u001b[34m█         \u001b[0m| 1/10 [00:02<00:18,  2.05s/it]\n"
     ]
    },
    {
     "name": "stdout",
     "output_type": "stream",
     "text": [
      "\u001b[36m(launch_and_fit pid=75448)\u001b[0m \tTrain Epoch: 2 \tTrain_loss: 1.6439 | Train_acc: 44.9643 % | Validation_loss: 1.7684 | Validation_acc: 35.7337 %\n"
     ]
    },
    {
     "name": "stderr",
     "output_type": "stream",
     "text": [
      " 20%|\u001b[34m██        \u001b[0m| 2/10 [00:04<00:16,  2.05s/it]\n"
     ]
    },
    {
     "name": "stdout",
     "output_type": "stream",
     "text": [
      "\u001b[36m(launch_and_fit pid=75448)\u001b[0m \tTrain Epoch: 3 \tTrain_loss: 1.6563 | Train_acc: 44.6488 % | Validation_loss: 1.8047 | Validation_acc: 32.4275 %\n"
     ]
    },
    {
     "name": "stderr",
     "output_type": "stream",
     "text": [
      " 30%|\u001b[34m███       \u001b[0m| 3/10 [00:06<00:14,  2.06s/it]\n"
     ]
    },
    {
     "name": "stdout",
     "output_type": "stream",
     "text": [
      "\u001b[36m(launch_and_fit pid=75448)\u001b[0m \tTrain Epoch: 4 \tTrain_loss: 1.6602 | Train_acc: 42.8393 % | Validation_loss: 1.7608 | Validation_acc: 32.4275 %\n"
     ]
    },
    {
     "name": "stderr",
     "output_type": "stream",
     "text": [
      " 40%|\u001b[34m████      \u001b[0m| 4/10 [00:08<00:12,  2.06s/it]\n"
     ]
    },
    {
     "name": "stdout",
     "output_type": "stream",
     "text": [
      "\u001b[36m(launch_and_fit pid=75448)\u001b[0m \tTrain Epoch: 5 \tTrain_loss: 1.6413 | Train_acc: 42.2738 % | Validation_loss: 1.7712 | Validation_acc: 38.2246 %\n"
     ]
    },
    {
     "name": "stderr",
     "output_type": "stream",
     "text": [
      " 50%|\u001b[34m█████     \u001b[0m| 5/10 [00:10<00:10,  2.06s/it]\n"
     ]
    },
    {
     "name": "stdout",
     "output_type": "stream",
     "text": [
      "\u001b[36m(launch_and_fit pid=75448)\u001b[0m \tTrain Epoch: 6 \tTrain_loss: 1.6198 | Train_acc: 44.7738 % | Validation_loss: 1.7719 | Validation_acc: 32.8351 %\n"
     ]
    },
    {
     "name": "stderr",
     "output_type": "stream",
     "text": [
      " 60%|\u001b[34m██████    \u001b[0m| 6/10 [00:12<00:08,  2.05s/it]\n"
     ]
    },
    {
     "name": "stdout",
     "output_type": "stream",
     "text": [
      "\u001b[36m(launch_and_fit pid=75448)\u001b[0m \tTrain Epoch: 7 \tTrain_loss: 1.6248 | Train_acc: 44.0952 % | Validation_loss: 1.7495 | Validation_acc: 37.0018 %\n"
     ]
    },
    {
     "name": "stderr",
     "output_type": "stream",
     "text": [
      " 70%|\u001b[34m███████   \u001b[0m| 7/10 [00:14<00:06,  2.04s/it]\n"
     ]
    },
    {
     "name": "stdout",
     "output_type": "stream",
     "text": [
      "\u001b[36m(launch_and_fit pid=75448)\u001b[0m \tTrain Epoch: 8 \tTrain_loss: 1.5859 | Train_acc: 47.7262 % | Validation_loss: 1.7872 | Validation_acc: 33.8768 %\n"
     ]
    },
    {
     "name": "stderr",
     "output_type": "stream",
     "text": [
      " 80%|\u001b[34m████████  \u001b[0m| 8/10 [00:16<00:04,  2.05s/it]\n"
     ]
    },
    {
     "name": "stdout",
     "output_type": "stream",
     "text": [
      "\u001b[36m(launch_and_fit pid=75448)\u001b[0m \tTrain Epoch: 9 \tTrain_loss: 1.6056 | Train_acc: 46.0357 % | Validation_loss: 1.7444 | Validation_acc: 34.9185 %\n"
     ]
    },
    {
     "name": "stderr",
     "output_type": "stream",
     "text": [
      " 90%|\u001b[34m█████████ \u001b[0m| 9/10 [00:18<00:02,  2.05s/it]\n"
     ]
    },
    {
     "name": "stdout",
     "output_type": "stream",
     "text": [
      "\u001b[36m(launch_and_fit pid=75448)\u001b[0m \tTrain Epoch: 10 \tTrain_loss: 1.5967 | Train_acc: 45.5952 % | Validation_loss: 1.7374 | Validation_acc: 39.4928 %\n",
      "\u001b[36m(launch_and_fit pid=75448)\u001b[0m save graph in  results/FL/\n"
     ]
    },
    {
     "name": "stderr",
     "output_type": "stream",
     "text": [
      "100%|\u001b[34m██████████\u001b[0m| 10/10 [00:20<00:00,  2.05s/it]\n"
     ]
    },
    {
     "name": "stdout",
     "output_type": "stream",
     "text": [
      "\u001b[36m(launch_and_fit pid=75448)\u001b[0m Run WITHOUT homomorphic encryption\n",
      "\u001b[36m(launch_and_fit pid=75448)\u001b[0m  To get the checkpoint\n",
      "\u001b[36m(launch_and_fit pid=75448)\u001b[0m [Client 2, round 27] fit, config: {'learning_rate': 0.003, 'batch_size': '32', 'server_round': 27, 'local_epochs': 10}\n",
      "\u001b[36m(launch_and_fit pid=75448)\u001b[0m Updated model\n"
     ]
    },
    {
     "name": "stderr",
     "output_type": "stream",
     "text": [
      "  0%|\u001b[34m          \u001b[0m| 0/10 [00:00<?, ?it/s]\n"
     ]
    },
    {
     "name": "stdout",
     "output_type": "stream",
     "text": [
      "\u001b[36m(launch_and_fit pid=75448)\u001b[0m \tTrain Epoch: 1 \tTrain_loss: 1.7299 | Train_acc: 40.3988 % | Validation_loss: 1.6622 | Validation_acc: 52.8080 %\n"
     ]
    },
    {
     "name": "stderr",
     "output_type": "stream",
     "text": [
      " 10%|\u001b[34m█         \u001b[0m| 1/10 [00:02<00:18,  2.06s/it]\n"
     ]
    },
    {
     "name": "stdout",
     "output_type": "stream",
     "text": [
      "\u001b[36m(launch_and_fit pid=75448)\u001b[0m \tTrain Epoch: 2 \tTrain_loss: 1.7051 | Train_acc: 41.3988 % | Validation_loss: 1.6712 | Validation_acc: 50.7246 %\n"
     ]
    },
    {
     "name": "stderr",
     "output_type": "stream",
     "text": [
      " 20%|\u001b[34m██        \u001b[0m| 2/10 [00:04<00:16,  2.05s/it]\n"
     ]
    },
    {
     "name": "stdout",
     "output_type": "stream",
     "text": [
      "\u001b[36m(launch_and_fit pid=75448)\u001b[0m \tTrain Epoch: 3 \tTrain_loss: 1.6996 | Train_acc: 41.8333 % | Validation_loss: 1.6345 | Validation_acc: 49.6830 %\n"
     ]
    },
    {
     "name": "stderr",
     "output_type": "stream",
     "text": [
      " 30%|\u001b[34m███       \u001b[0m| 3/10 [00:06<00:14,  2.02s/it]\n"
     ]
    },
    {
     "name": "stdout",
     "output_type": "stream",
     "text": [
      "\u001b[36m(launch_and_fit pid=75448)\u001b[0m \tTrain Epoch: 4 \tTrain_loss: 1.6724 | Train_acc: 44.1548 % | Validation_loss: 1.6416 | Validation_acc: 47.5996 %\n"
     ]
    },
    {
     "name": "stderr",
     "output_type": "stream",
     "text": [
      " 40%|\u001b[34m████      \u001b[0m| 4/10 [00:08<00:12,  2.01s/it]\n"
     ]
    },
    {
     "name": "stdout",
     "output_type": "stream",
     "text": [
      "\u001b[36m(launch_and_fit pid=75448)\u001b[0m \tTrain Epoch: 5 \tTrain_loss: 1.6586 | Train_acc: 43.3393 % | Validation_loss: 1.6066 | Validation_acc: 51.7663 %\n"
     ]
    },
    {
     "name": "stderr",
     "output_type": "stream",
     "text": [
      " 50%|\u001b[34m█████     \u001b[0m| 5/10 [00:10<00:10,  2.01s/it]\n"
     ]
    },
    {
     "name": "stdout",
     "output_type": "stream",
     "text": [
      "\u001b[36m(launch_and_fit pid=75448)\u001b[0m \tTrain Epoch: 6 \tTrain_loss: 1.6507 | Train_acc: 43.9643 % | Validation_loss: 1.6054 | Validation_acc: 51.7663 %\n"
     ]
    },
    {
     "name": "stderr",
     "output_type": "stream",
     "text": [
      " 60%|\u001b[34m██████    \u001b[0m| 6/10 [00:12<00:07,  1.99s/it]\n"
     ]
    },
    {
     "name": "stdout",
     "output_type": "stream",
     "text": [
      "\u001b[36m(launch_and_fit pid=75448)\u001b[0m \tTrain Epoch: 7 \tTrain_loss: 1.6414 | Train_acc: 44.5893 % | Validation_loss: 1.5800 | Validation_acc: 51.7663 %\n"
     ]
    },
    {
     "name": "stderr",
     "output_type": "stream",
     "text": [
      " 70%|\u001b[34m███████   \u001b[0m| 7/10 [00:13<00:05,  1.97s/it]\n"
     ]
    },
    {
     "name": "stdout",
     "output_type": "stream",
     "text": [
      "\u001b[36m(launch_and_fit pid=75448)\u001b[0m \tTrain Epoch: 8 \tTrain_loss: 1.6368 | Train_acc: 44.2738 % | Validation_loss: 1.6260 | Validation_acc: 48.6413 %\n"
     ]
    },
    {
     "name": "stderr",
     "output_type": "stream",
     "text": [
      " 80%|\u001b[34m████████  \u001b[0m| 8/10 [00:15<00:03,  1.97s/it]\n"
     ]
    },
    {
     "name": "stdout",
     "output_type": "stream",
     "text": [
      "\u001b[36m(launch_and_fit pid=75448)\u001b[0m \tTrain Epoch: 9 \tTrain_loss: 1.6693 | Train_acc: 41.5357 % | Validation_loss: 1.5945 | Validation_acc: 53.8496 %\n"
     ]
    },
    {
     "name": "stderr",
     "output_type": "stream",
     "text": [
      " 90%|\u001b[34m█████████ \u001b[0m| 9/10 [00:17<00:01,  1.96s/it]\n",
      "100%|\u001b[34m██████████\u001b[0m| 10/10 [00:19<00:00,  1.98s/it]\n",
      "DEBUG flwr 2024-08-30 02:38:10,151 | server.py:236 | fit_round 27 received 4 results and 0 failures\n"
     ]
    },
    {
     "name": "stdout",
     "output_type": "stream",
     "text": [
      "\u001b[36m(launch_and_fit pid=75448)\u001b[0m \tTrain Epoch: 10 \tTrain_loss: 1.6274 | Train_acc: 45.5893 % | Validation_loss: 1.5987 | Validation_acc: 48.6413 %\n",
      "\u001b[36m(launch_and_fit pid=75448)\u001b[0m save graph in  results/FL/\n",
      "Saving round 27 aggregated_parameters...\n",
      "Updated model\n"
     ]
    },
    {
     "name": "stderr",
     "output_type": "stream",
     "text": [
      "INFO flwr 2024-08-30 02:38:10,937 | server.py:125 | fit progress: (27, 1.6935838929244451, {'accuracy': 39.955357142857146}, 3523.068210355006)\n",
      "DEBUG flwr 2024-08-30 02:38:10,939 | server.py:173 | evaluate_round 27: strategy sampled 4 clients (out of 4)\n"
     ]
    },
    {
     "name": "stdout",
     "output_type": "stream",
     "text": [
      "Server-side evaluation loss 1.6935838929244451 / accuracy 39.955357142857146\n",
      "\u001b[36m(launch_and_evaluate pid=75448)\u001b[0m Run WITHOUT homomorphic encryption\n",
      "\u001b[36m(launch_and_evaluate pid=75448)\u001b[0m  To get the checkpoint\n",
      "\u001b[36m(launch_and_evaluate pid=75448)\u001b[0m [Client 1] evaluate, config: {}\n",
      "\u001b[36m(launch_and_evaluate pid=75448)\u001b[0m Updated model\n",
      "\u001b[36m(launch_and_evaluate pid=75448)\u001b[0m Run WITHOUT homomorphic encryption\n",
      "\u001b[36m(launch_and_evaluate pid=75448)\u001b[0m  To get the checkpoint\n",
      "\u001b[36m(launch_and_evaluate pid=75448)\u001b[0m [Client 3] evaluate, config: {}\n",
      "\u001b[36m(launch_and_evaluate pid=75448)\u001b[0m Updated model\n",
      "\u001b[36m(launch_and_evaluate pid=75448)\u001b[0m Run WITHOUT homomorphic encryption\n",
      "\u001b[36m(launch_and_evaluate pid=75448)\u001b[0m  To get the checkpoint\n",
      "\u001b[36m(launch_and_evaluate pid=75448)\u001b[0m [Client 0] evaluate, config: {}\n",
      "\u001b[36m(launch_and_evaluate pid=75448)\u001b[0m Updated model\n",
      "\u001b[36m(launch_and_evaluate pid=75448)\u001b[0m Run WITHOUT homomorphic encryption\n",
      "\u001b[36m(launch_and_evaluate pid=75448)\u001b[0m  To get the checkpoint\n",
      "\u001b[36m(launch_and_evaluate pid=75448)\u001b[0m [Client 2] evaluate, config: {}\n",
      "\u001b[36m(launch_and_evaluate pid=75448)\u001b[0m Updated model\n"
     ]
    },
    {
     "name": "stderr",
     "output_type": "stream",
     "text": [
      "DEBUG flwr 2024-08-30 02:38:13,522 | server.py:187 | evaluate_round 27 received 4 results and 0 failures\n",
      "DEBUG flwr 2024-08-30 02:38:13,523 | server.py:222 | fit_round 28: strategy sampled 4 clients (out of 4)\n"
     ]
    },
    {
     "name": "stdout",
     "output_type": "stream",
     "text": [
      "\u001b[36m(launch_and_fit pid=75448)\u001b[0m Run WITHOUT homomorphic encryption\n",
      "\u001b[36m(launch_and_fit pid=75448)\u001b[0m  To get the checkpoint\n",
      "\u001b[36m(launch_and_fit pid=75448)\u001b[0m [Client 1, round 28] fit, config: {'learning_rate': 0.003, 'batch_size': '32', 'server_round': 28, 'local_epochs': 10}\n",
      "\u001b[36m(launch_and_fit pid=75448)\u001b[0m Updated model\n"
     ]
    },
    {
     "name": "stderr",
     "output_type": "stream",
     "text": [
      "  0%|\u001b[34m          \u001b[0m| 0/10 [00:00<?, ?it/s]\n"
     ]
    },
    {
     "name": "stdout",
     "output_type": "stream",
     "text": [
      "\u001b[36m(launch_and_fit pid=75448)\u001b[0m \tTrain Epoch: 1 \tTrain_loss: 1.6644 | Train_acc: 40.9702 % | Validation_loss: 1.5713 | Validation_acc: 51.1322 %\n"
     ]
    },
    {
     "name": "stderr",
     "output_type": "stream",
     "text": [
      " 10%|\u001b[34m█         \u001b[0m| 1/10 [00:02<00:18,  2.07s/it]\n"
     ]
    },
    {
     "name": "stdout",
     "output_type": "stream",
     "text": [
      "\u001b[36m(launch_and_fit pid=75448)\u001b[0m \tTrain Epoch: 2 \tTrain_loss: 1.6497 | Train_acc: 40.8393 % | Validation_loss: 1.6488 | Validation_acc: 43.4330 %\n"
     ]
    },
    {
     "name": "stderr",
     "output_type": "stream",
     "text": [
      " 20%|\u001b[34m██        \u001b[0m| 2/10 [00:04<00:16,  2.06s/it]\n"
     ]
    },
    {
     "name": "stdout",
     "output_type": "stream",
     "text": [
      "\u001b[36m(launch_and_fit pid=75448)\u001b[0m \tTrain Epoch: 3 \tTrain_loss: 1.6334 | Train_acc: 42.9643 % | Validation_loss: 1.6272 | Validation_acc: 49.0489 %\n"
     ]
    },
    {
     "name": "stderr",
     "output_type": "stream",
     "text": [
      " 30%|\u001b[34m███       \u001b[0m| 3/10 [00:06<00:14,  2.07s/it]\n"
     ]
    },
    {
     "name": "stdout",
     "output_type": "stream",
     "text": [
      "\u001b[36m(launch_and_fit pid=75448)\u001b[0m \tTrain Epoch: 4 \tTrain_loss: 1.6189 | Train_acc: 43.5238 % | Validation_loss: 1.5999 | Validation_acc: 49.6830 %\n"
     ]
    },
    {
     "name": "stderr",
     "output_type": "stream",
     "text": [
      " 40%|\u001b[34m████      \u001b[0m| 4/10 [00:08<00:12,  2.07s/it]\n"
     ]
    },
    {
     "name": "stdout",
     "output_type": "stream",
     "text": [
      "\u001b[36m(launch_and_fit pid=75448)\u001b[0m \tTrain Epoch: 5 \tTrain_loss: 1.6166 | Train_acc: 44.2143 % | Validation_loss: 1.5822 | Validation_acc: 49.0489 %\n"
     ]
    },
    {
     "name": "stderr",
     "output_type": "stream",
     "text": [
      " 50%|\u001b[34m█████     \u001b[0m| 5/10 [00:10<00:10,  2.02s/it]\n"
     ]
    },
    {
     "name": "stdout",
     "output_type": "stream",
     "text": [
      "\u001b[36m(launch_and_fit pid=75448)\u001b[0m \tTrain Epoch: 6 \tTrain_loss: 1.6113 | Train_acc: 44.9107 % | Validation_loss: 1.5818 | Validation_acc: 51.1322 %\n"
     ]
    },
    {
     "name": "stderr",
     "output_type": "stream",
     "text": [
      " 60%|\u001b[34m██████    \u001b[0m| 6/10 [00:12<00:07,  1.98s/it]\n"
     ]
    },
    {
     "name": "stdout",
     "output_type": "stream",
     "text": [
      "\u001b[36m(launch_and_fit pid=75448)\u001b[0m \tTrain Epoch: 7 \tTrain_loss: 1.6127 | Train_acc: 44.5298 % | Validation_loss: 1.5953 | Validation_acc: 51.7663 %\n"
     ]
    },
    {
     "name": "stderr",
     "output_type": "stream",
     "text": [
      " 70%|\u001b[34m███████   \u001b[0m| 7/10 [00:14<00:05,  1.96s/it]\n"
     ]
    },
    {
     "name": "stdout",
     "output_type": "stream",
     "text": [
      "\u001b[36m(launch_and_fit pid=75448)\u001b[0m \tTrain Epoch: 8 \tTrain_loss: 1.5967 | Train_acc: 46.4762 % | Validation_loss: 1.5959 | Validation_acc: 53.2156 %\n"
     ]
    },
    {
     "name": "stderr",
     "output_type": "stream",
     "text": [
      " 80%|\u001b[34m████████  \u001b[0m| 8/10 [00:15<00:03,  1.94s/it]\n"
     ]
    },
    {
     "name": "stdout",
     "output_type": "stream",
     "text": [
      "\u001b[36m(launch_and_fit pid=75448)\u001b[0m \tTrain Epoch: 9 \tTrain_loss: 1.6233 | Train_acc: 43.3452 % | Validation_loss: 1.6262 | Validation_acc: 47.1920 %\n"
     ]
    },
    {
     "name": "stderr",
     "output_type": "stream",
     "text": [
      " 90%|\u001b[34m█████████ \u001b[0m| 9/10 [00:17<00:01,  1.94s/it]\n"
     ]
    },
    {
     "name": "stdout",
     "output_type": "stream",
     "text": [
      "\u001b[36m(launch_and_fit pid=75448)\u001b[0m \tTrain Epoch: 10 \tTrain_loss: 1.6417 | Train_acc: 43.2083 % | Validation_loss: 1.6238 | Validation_acc: 43.0254 %\n",
      "\u001b[36m(launch_and_fit pid=75448)\u001b[0m save graph in  results/FL/\n"
     ]
    },
    {
     "name": "stderr",
     "output_type": "stream",
     "text": [
      "100%|\u001b[34m██████████\u001b[0m| 10/10 [00:19<00:00,  1.98s/it]\n"
     ]
    },
    {
     "name": "stdout",
     "output_type": "stream",
     "text": [
      "\u001b[36m(launch_and_fit pid=75448)\u001b[0m Run WITHOUT homomorphic encryption\n",
      "\u001b[36m(launch_and_fit pid=75448)\u001b[0m  To get the checkpoint\n",
      "\u001b[36m(launch_and_fit pid=75448)\u001b[0m [Client 3, round 28] fit, config: {'learning_rate': 0.003, 'batch_size': '32', 'server_round': 28, 'local_epochs': 10}\n",
      "\u001b[36m(launch_and_fit pid=75448)\u001b[0m Updated model\n"
     ]
    },
    {
     "name": "stderr",
     "output_type": "stream",
     "text": [
      "  0%|\u001b[34m          \u001b[0m| 0/10 [00:00<?, ?it/s]\n"
     ]
    },
    {
     "name": "stdout",
     "output_type": "stream",
     "text": [
      "\u001b[36m(launch_and_fit pid=75448)\u001b[0m \tTrain Epoch: 1 \tTrain_loss: 1.6355 | Train_acc: 44.0298 % | Validation_loss: 1.6660 | Validation_acc: 35.7337 %\n"
     ]
    },
    {
     "name": "stderr",
     "output_type": "stream",
     "text": [
      " 10%|\u001b[34m█         \u001b[0m| 1/10 [00:02<00:18,  2.00s/it]\n"
     ]
    },
    {
     "name": "stdout",
     "output_type": "stream",
     "text": [
      "\u001b[36m(launch_and_fit pid=75448)\u001b[0m \tTrain Epoch: 2 \tTrain_loss: 1.6355 | Train_acc: 43.7202 % | Validation_loss: 1.6745 | Validation_acc: 37.4094 %\n"
     ]
    },
    {
     "name": "stderr",
     "output_type": "stream",
     "text": [
      " 20%|\u001b[34m██        \u001b[0m| 2/10 [00:03<00:15,  1.97s/it]\n"
     ]
    },
    {
     "name": "stdout",
     "output_type": "stream",
     "text": [
      "\u001b[36m(launch_and_fit pid=75448)\u001b[0m \tTrain Epoch: 3 \tTrain_loss: 1.5988 | Train_acc: 45.9048 % | Validation_loss: 1.6502 | Validation_acc: 35.9601 %\n"
     ]
    },
    {
     "name": "stderr",
     "output_type": "stream",
     "text": [
      " 30%|\u001b[34m███       \u001b[0m| 3/10 [00:05<00:13,  1.95s/it]\n"
     ]
    },
    {
     "name": "stdout",
     "output_type": "stream",
     "text": [
      "\u001b[36m(launch_and_fit pid=75448)\u001b[0m \tTrain Epoch: 4 \tTrain_loss: 1.5927 | Train_acc: 46.6548 % | Validation_loss: 1.6757 | Validation_acc: 33.8768 %\n"
     ]
    },
    {
     "name": "stderr",
     "output_type": "stream",
     "text": [
      " 40%|\u001b[34m████      \u001b[0m| 4/10 [00:07<00:11,  1.94s/it]\n"
     ]
    },
    {
     "name": "stdout",
     "output_type": "stream",
     "text": [
      "\u001b[36m(launch_and_fit pid=75448)\u001b[0m \tTrain Epoch: 5 \tTrain_loss: 1.5910 | Train_acc: 46.9583 % | Validation_loss: 1.6972 | Validation_acc: 37.4094 %\n"
     ]
    },
    {
     "name": "stderr",
     "output_type": "stream",
     "text": [
      " 50%|\u001b[34m█████     \u001b[0m| 5/10 [00:09<00:09,  1.93s/it]\n"
     ]
    },
    {
     "name": "stdout",
     "output_type": "stream",
     "text": [
      "\u001b[36m(launch_and_fit pid=75448)\u001b[0m \tTrain Epoch: 6 \tTrain_loss: 1.5833 | Train_acc: 45.7083 % | Validation_loss: 1.6432 | Validation_acc: 34.9185 %\n"
     ]
    },
    {
     "name": "stderr",
     "output_type": "stream",
     "text": [
      " 60%|\u001b[34m██████    \u001b[0m| 6/10 [00:11<00:07,  1.93s/it]\n"
     ]
    },
    {
     "name": "stdout",
     "output_type": "stream",
     "text": [
      "\u001b[36m(launch_and_fit pid=75448)\u001b[0m \tTrain Epoch: 7 \tTrain_loss: 1.5744 | Train_acc: 47.3393 % | Validation_loss: 1.6678 | Validation_acc: 35.7337 %\n"
     ]
    },
    {
     "name": "stderr",
     "output_type": "stream",
     "text": [
      " 70%|\u001b[34m███████   \u001b[0m| 7/10 [00:13<00:05,  1.93s/it]\n"
     ]
    },
    {
     "name": "stdout",
     "output_type": "stream",
     "text": [
      "\u001b[36m(launch_and_fit pid=75448)\u001b[0m \tTrain Epoch: 8 \tTrain_loss: 1.5967 | Train_acc: 47.4643 % | Validation_loss: 1.6525 | Validation_acc: 35.9601 %\n"
     ]
    },
    {
     "name": "stderr",
     "output_type": "stream",
     "text": [
      " 80%|\u001b[34m████████  \u001b[0m| 8/10 [00:15<00:03,  1.93s/it]\n"
     ]
    },
    {
     "name": "stdout",
     "output_type": "stream",
     "text": [
      "\u001b[36m(launch_and_fit pid=75448)\u001b[0m \tTrain Epoch: 9 \tTrain_loss: 1.5919 | Train_acc: 44.3929 % | Validation_loss: 1.6412 | Validation_acc: 41.9837 %\n"
     ]
    },
    {
     "name": "stderr",
     "output_type": "stream",
     "text": [
      " 90%|\u001b[34m█████████ \u001b[0m| 9/10 [00:17<00:01,  1.93s/it]\n"
     ]
    },
    {
     "name": "stdout",
     "output_type": "stream",
     "text": [
      "\u001b[36m(launch_and_fit pid=75448)\u001b[0m \tTrain Epoch: 10 \tTrain_loss: 1.5769 | Train_acc: 46.9643 % | Validation_loss: 1.6815 | Validation_acc: 34.9185 %\n",
      "\u001b[36m(launch_and_fit pid=75448)\u001b[0m save graph in  results/FL/\n"
     ]
    },
    {
     "name": "stderr",
     "output_type": "stream",
     "text": [
      "100%|\u001b[34m██████████\u001b[0m| 10/10 [00:19<00:00,  1.93s/it]\n"
     ]
    },
    {
     "name": "stdout",
     "output_type": "stream",
     "text": [
      "\u001b[36m(launch_and_fit pid=75448)\u001b[0m Run WITHOUT homomorphic encryption\n",
      "\u001b[36m(launch_and_fit pid=75448)\u001b[0m  To get the checkpoint\n",
      "\u001b[36m(launch_and_fit pid=75448)\u001b[0m [Client 0, round 28] fit, config: {'learning_rate': 0.003, 'batch_size': '32', 'server_round': 28, 'local_epochs': 10}\n",
      "\u001b[36m(launch_and_fit pid=75448)\u001b[0m Updated model\n"
     ]
    },
    {
     "name": "stderr",
     "output_type": "stream",
     "text": [
      "  0%|\u001b[34m          \u001b[0m| 0/10 [00:00<?, ?it/s]\n"
     ]
    },
    {
     "name": "stdout",
     "output_type": "stream",
     "text": [
      "\u001b[36m(launch_and_fit pid=75448)\u001b[0m \tTrain Epoch: 1 \tTrain_loss: 1.6539 | Train_acc: 42.4048 % | Validation_loss: 1.8817 | Validation_acc: 20.7880 %\n"
     ]
    },
    {
     "name": "stderr",
     "output_type": "stream",
     "text": [
      " 10%|\u001b[34m█         \u001b[0m| 1/10 [00:02<00:18,  2.06s/it]\n"
     ]
    },
    {
     "name": "stdout",
     "output_type": "stream",
     "text": [
      "\u001b[36m(launch_and_fit pid=75448)\u001b[0m \tTrain Epoch: 2 \tTrain_loss: 1.6172 | Train_acc: 44.2262 % | Validation_loss: 1.8168 | Validation_acc: 30.9783 %\n"
     ]
    },
    {
     "name": "stderr",
     "output_type": "stream",
     "text": [
      " 20%|\u001b[34m██        \u001b[0m| 2/10 [00:04<00:16,  2.04s/it]\n"
     ]
    },
    {
     "name": "stdout",
     "output_type": "stream",
     "text": [
      "\u001b[36m(launch_and_fit pid=75448)\u001b[0m \tTrain Epoch: 3 \tTrain_loss: 1.6706 | Train_acc: 39.9583 % | Validation_loss: 1.7550 | Validation_acc: 33.4692 %\n"
     ]
    },
    {
     "name": "stderr",
     "output_type": "stream",
     "text": [
      " 30%|\u001b[34m███       \u001b[0m| 3/10 [00:06<00:13,  1.99s/it]\n"
     ]
    },
    {
     "name": "stdout",
     "output_type": "stream",
     "text": [
      "\u001b[36m(launch_and_fit pid=75448)\u001b[0m \tTrain Epoch: 4 \tTrain_loss: 1.5969 | Train_acc: 45.8988 % | Validation_loss: 1.7608 | Validation_acc: 33.8768 %\n"
     ]
    },
    {
     "name": "stderr",
     "output_type": "stream",
     "text": [
      " 40%|\u001b[34m████      \u001b[0m| 4/10 [00:07<00:11,  1.96s/it]\n"
     ]
    },
    {
     "name": "stdout",
     "output_type": "stream",
     "text": [
      "\u001b[36m(launch_and_fit pid=75448)\u001b[0m \tTrain Epoch: 5 \tTrain_loss: 1.5950 | Train_acc: 45.6488 % | Validation_loss: 1.8140 | Validation_acc: 33.4692 %\n"
     ]
    },
    {
     "name": "stderr",
     "output_type": "stream",
     "text": [
      " 50%|\u001b[34m█████     \u001b[0m| 5/10 [00:09<00:09,  1.95s/it]\n"
     ]
    },
    {
     "name": "stdout",
     "output_type": "stream",
     "text": [
      "\u001b[36m(launch_and_fit pid=75448)\u001b[0m \tTrain Epoch: 6 \tTrain_loss: 1.5900 | Train_acc: 46.5357 % | Validation_loss: 1.7365 | Validation_acc: 35.9601 %\n"
     ]
    },
    {
     "name": "stderr",
     "output_type": "stream",
     "text": [
      " 60%|\u001b[34m██████    \u001b[0m| 6/10 [00:11<00:07,  1.95s/it]\n"
     ]
    },
    {
     "name": "stdout",
     "output_type": "stream",
     "text": [
      "\u001b[36m(launch_and_fit pid=75448)\u001b[0m \tTrain Epoch: 7 \tTrain_loss: 1.6182 | Train_acc: 43.1488 % | Validation_loss: 1.7493 | Validation_acc: 33.0616 %\n"
     ]
    },
    {
     "name": "stderr",
     "output_type": "stream",
     "text": [
      " 70%|\u001b[34m███████   \u001b[0m| 7/10 [00:16<00:08,  2.69s/it]\n"
     ]
    },
    {
     "name": "stdout",
     "output_type": "stream",
     "text": [
      "\u001b[36m(launch_and_fit pid=75448)\u001b[0m \tTrain Epoch: 8 \tTrain_loss: 1.6455 | Train_acc: 42.5714 % | Validation_loss: 1.7748 | Validation_acc: 33.4692 %\n"
     ]
    },
    {
     "name": "stderr",
     "output_type": "stream",
     "text": [
      " 80%|\u001b[34m████████  \u001b[0m| 8/10 [00:21<00:07,  3.65s/it]\n"
     ]
    },
    {
     "name": "stdout",
     "output_type": "stream",
     "text": [
      "\u001b[36m(launch_and_fit pid=75448)\u001b[0m \tTrain Epoch: 9 \tTrain_loss: 1.5745 | Train_acc: 47.2917 % | Validation_loss: 1.7697 | Validation_acc: 33.4692 %\n"
     ]
    },
    {
     "name": "stderr",
     "output_type": "stream",
     "text": [
      " 90%|\u001b[34m█████████ \u001b[0m| 9/10 [00:27<00:04,  4.30s/it]\n"
     ]
    },
    {
     "name": "stdout",
     "output_type": "stream",
     "text": [
      "\u001b[36m(launch_and_fit pid=75448)\u001b[0m \tTrain Epoch: 10 \tTrain_loss: 1.5496 | Train_acc: 49.0298 % | Validation_loss: 1.8130 | Validation_acc: 32.8351 %\n",
      "\u001b[36m(launch_and_fit pid=75448)\u001b[0m save graph in  results/FL/\n"
     ]
    },
    {
     "name": "stderr",
     "output_type": "stream",
     "text": [
      "100%|\u001b[34m██████████\u001b[0m| 10/10 [00:33<00:00,  3.30s/it]\n"
     ]
    },
    {
     "name": "stdout",
     "output_type": "stream",
     "text": [
      "\u001b[36m(launch_and_fit pid=75448)\u001b[0m Run WITHOUT homomorphic encryption\n",
      "\u001b[36m(launch_and_fit pid=75448)\u001b[0m  To get the checkpoint\n",
      "\u001b[36m(launch_and_fit pid=75448)\u001b[0m [Client 2, round 28] fit, config: {'learning_rate': 0.003, 'batch_size': '32', 'server_round': 28, 'local_epochs': 10}\n",
      "\u001b[36m(launch_and_fit pid=75448)\u001b[0m Updated model\n"
     ]
    },
    {
     "name": "stderr",
     "output_type": "stream",
     "text": [
      "  0%|\u001b[34m          \u001b[0m| 0/10 [00:00<?, ?it/s]\n"
     ]
    },
    {
     "name": "stdout",
     "output_type": "stream",
     "text": [
      "\u001b[36m(launch_and_fit pid=75448)\u001b[0m \tTrain Epoch: 1 \tTrain_loss: 1.6784 | Train_acc: 41.2143 % | Validation_loss: 1.5999 | Validation_acc: 46.5580 %\n"
     ]
    },
    {
     "name": "stderr",
     "output_type": "stream",
     "text": [
      " 10%|\u001b[34m█         \u001b[0m| 1/10 [00:07<01:09,  7.69s/it]\n"
     ]
    },
    {
     "name": "stdout",
     "output_type": "stream",
     "text": [
      "\u001b[36m(launch_and_fit pid=75448)\u001b[0m \tTrain Epoch: 2 \tTrain_loss: 1.6419 | Train_acc: 43.8393 % | Validation_loss: 1.6259 | Validation_acc: 46.5580 %\n"
     ]
    },
    {
     "name": "stderr",
     "output_type": "stream",
     "text": [
      " 20%|\u001b[34m██        \u001b[0m| 2/10 [00:13<00:52,  6.58s/it]\n"
     ]
    },
    {
     "name": "stdout",
     "output_type": "stream",
     "text": [
      "\u001b[36m(launch_and_fit pid=75448)\u001b[0m \tTrain Epoch: 3 \tTrain_loss: 1.6393 | Train_acc: 43.5833 % | Validation_loss: 1.6659 | Validation_acc: 44.4746 %\n"
     ]
    },
    {
     "name": "stderr",
     "output_type": "stream",
     "text": [
      " 30%|\u001b[34m███       \u001b[0m| 3/10 [00:19<00:43,  6.27s/it]\n"
     ]
    },
    {
     "name": "stdout",
     "output_type": "stream",
     "text": [
      "\u001b[36m(launch_and_fit pid=75448)\u001b[0m \tTrain Epoch: 4 \tTrain_loss: 1.7431 | Train_acc: 37.0774 % | Validation_loss: 1.6623 | Validation_acc: 46.5580 %\n"
     ]
    },
    {
     "name": "stderr",
     "output_type": "stream",
     "text": [
      " 40%|\u001b[34m████      \u001b[0m| 4/10 [00:25<00:36,  6.12s/it]\n"
     ]
    },
    {
     "name": "stdout",
     "output_type": "stream",
     "text": [
      "\u001b[36m(launch_and_fit pid=75448)\u001b[0m \tTrain Epoch: 5 \tTrain_loss: 1.6716 | Train_acc: 42.6488 % | Validation_loss: 1.5852 | Validation_acc: 51.7663 %\n"
     ]
    },
    {
     "name": "stderr",
     "output_type": "stream",
     "text": [
      " 50%|\u001b[34m█████     \u001b[0m| 5/10 [00:30<00:29,  5.86s/it]\n"
     ]
    },
    {
     "name": "stdout",
     "output_type": "stream",
     "text": [
      "\u001b[36m(launch_and_fit pid=75448)\u001b[0m \tTrain Epoch: 6 \tTrain_loss: 1.6262 | Train_acc: 44.3333 % | Validation_loss: 1.5674 | Validation_acc: 53.8496 %\n"
     ]
    },
    {
     "name": "stderr",
     "output_type": "stream",
     "text": [
      " 60%|\u001b[34m██████    \u001b[0m| 6/10 [00:36<00:23,  5.87s/it]\n"
     ]
    },
    {
     "name": "stdout",
     "output_type": "stream",
     "text": [
      "\u001b[36m(launch_and_fit pid=75448)\u001b[0m \tTrain Epoch: 7 \tTrain_loss: 1.6336 | Train_acc: 43.7798 % | Validation_loss: 1.5714 | Validation_acc: 50.7246 %\n"
     ]
    },
    {
     "name": "stderr",
     "output_type": "stream",
     "text": [
      " 70%|\u001b[34m███████   \u001b[0m| 7/10 [00:42<00:17,  5.85s/it]\n"
     ]
    },
    {
     "name": "stdout",
     "output_type": "stream",
     "text": [
      "\u001b[36m(launch_and_fit pid=75448)\u001b[0m \tTrain Epoch: 8 \tTrain_loss: 1.6214 | Train_acc: 44.3988 % | Validation_loss: 1.5679 | Validation_acc: 52.8080 %\n"
     ]
    },
    {
     "name": "stderr",
     "output_type": "stream",
     "text": [
      " 80%|\u001b[34m████████  \u001b[0m| 8/10 [00:48<00:11,  5.83s/it]\n"
     ]
    },
    {
     "name": "stdout",
     "output_type": "stream",
     "text": [
      "\u001b[36m(launch_and_fit pid=75448)\u001b[0m \tTrain Epoch: 9 \tTrain_loss: 1.6126 | Train_acc: 44.7857 % | Validation_loss: 1.5985 | Validation_acc: 49.6830 %\n"
     ]
    },
    {
     "name": "stderr",
     "output_type": "stream",
     "text": [
      " 90%|\u001b[34m█████████ \u001b[0m| 9/10 [00:53<00:05,  5.82s/it]\n"
     ]
    },
    {
     "name": "stdout",
     "output_type": "stream",
     "text": [
      "\u001b[36m(launch_and_fit pid=75448)\u001b[0m \tTrain Epoch: 10 \tTrain_loss: 1.6629 | Train_acc: 39.9583 % | Validation_loss: 1.6073 | Validation_acc: 47.5996 %\n",
      "\u001b[36m(launch_and_fit pid=75448)\u001b[0m save graph in  results/FL/\n"
     ]
    },
    {
     "name": "stderr",
     "output_type": "stream",
     "text": [
      "100%|\u001b[34m██████████\u001b[0m| 10/10 [00:59<00:00,  5.98s/it]\n",
      "DEBUG flwr 2024-08-30 02:40:28,782 | server.py:236 | fit_round 28 received 4 results and 0 failures\n"
     ]
    },
    {
     "name": "stdout",
     "output_type": "stream",
     "text": [
      "Saving round 28 aggregated_parameters...\n",
      "Updated model\n"
     ]
    },
    {
     "name": "stderr",
     "output_type": "stream",
     "text": [
      "INFO flwr 2024-08-30 02:40:31,182 | server.py:125 | fit progress: (28, 1.6540033306394304, {'accuracy': 43.601190476190474}, 3663.3128769150935)\n",
      "DEBUG flwr 2024-08-30 02:40:31,183 | server.py:173 | evaluate_round 28: strategy sampled 4 clients (out of 4)\n"
     ]
    },
    {
     "name": "stdout",
     "output_type": "stream",
     "text": [
      "Server-side evaluation loss 1.6540033306394304 / accuracy 43.601190476190474\n",
      "\u001b[36m(launch_and_evaluate pid=75448)\u001b[0m Run WITHOUT homomorphic encryption\n",
      "\u001b[36m(launch_and_evaluate pid=75448)\u001b[0m  To get the checkpoint\n",
      "\u001b[36m(launch_and_evaluate pid=75448)\u001b[0m [Client 2] evaluate, config: {}\n",
      "\u001b[36m(launch_and_evaluate pid=75448)\u001b[0m Updated model\n",
      "\u001b[36m(launch_and_evaluate pid=75448)\u001b[0m Run WITHOUT homomorphic encryption\n",
      "\u001b[36m(launch_and_evaluate pid=75448)\u001b[0m  To get the checkpoint\n",
      "\u001b[36m(launch_and_evaluate pid=75448)\u001b[0m [Client 3] evaluate, config: {}\n",
      "\u001b[36m(launch_and_evaluate pid=75448)\u001b[0m Updated model\n",
      "\u001b[36m(launch_and_evaluate pid=75448)\u001b[0m Run WITHOUT homomorphic encryption\n",
      "\u001b[36m(launch_and_evaluate pid=75448)\u001b[0m  To get the checkpoint\n",
      "\u001b[36m(launch_and_evaluate pid=75448)\u001b[0m [Client 0] evaluate, config: {}\n",
      "\u001b[36m(launch_and_evaluate pid=75448)\u001b[0m Updated model\n",
      "\u001b[36m(launch_and_evaluate pid=75448)\u001b[0m Run WITHOUT homomorphic encryption\n",
      "\u001b[36m(launch_and_evaluate pid=75448)\u001b[0m  To get the checkpoint\n",
      "\u001b[36m(launch_and_evaluate pid=75448)\u001b[0m [Client 1] evaluate, config: {}\n",
      "\u001b[36m(launch_and_evaluate pid=75448)\u001b[0m Updated model\n"
     ]
    },
    {
     "name": "stderr",
     "output_type": "stream",
     "text": [
      "DEBUG flwr 2024-08-30 02:40:40,207 | server.py:187 | evaluate_round 28 received 4 results and 0 failures\n",
      "DEBUG flwr 2024-08-30 02:40:40,209 | server.py:222 | fit_round 29: strategy sampled 4 clients (out of 4)\n"
     ]
    },
    {
     "name": "stdout",
     "output_type": "stream",
     "text": [
      "\u001b[36m(launch_and_fit pid=75448)\u001b[0m Run WITHOUT homomorphic encryption\n",
      "\u001b[36m(launch_and_fit pid=75448)\u001b[0m  To get the checkpoint\n",
      "\u001b[36m(launch_and_fit pid=75448)\u001b[0m [Client 0, round 29] fit, config: {'learning_rate': 0.003, 'batch_size': '32', 'server_round': 29, 'local_epochs': 10}\n",
      "\u001b[36m(launch_and_fit pid=75448)\u001b[0m Updated model\n"
     ]
    },
    {
     "name": "stderr",
     "output_type": "stream",
     "text": [
      "  0%|\u001b[34m          \u001b[0m| 0/10 [00:00<?, ?it/s]\n"
     ]
    },
    {
     "name": "stdout",
     "output_type": "stream",
     "text": [
      "\u001b[36m(launch_and_fit pid=75448)\u001b[0m \tTrain Epoch: 1 \tTrain_loss: 1.6342 | Train_acc: 43.3512 % | Validation_loss: 1.7702 | Validation_acc: 34.9185 %\n"
     ]
    },
    {
     "name": "stderr",
     "output_type": "stream",
     "text": [
      " 10%|\u001b[34m█         \u001b[0m| 1/10 [00:06<00:57,  6.40s/it]\n"
     ]
    },
    {
     "name": "stdout",
     "output_type": "stream",
     "text": [
      "\u001b[36m(launch_and_fit pid=75448)\u001b[0m \tTrain Epoch: 2 \tTrain_loss: 1.5896 | Train_acc: 46.5893 % | Validation_loss: 1.7461 | Validation_acc: 37.4094 %\n"
     ]
    },
    {
     "name": "stderr",
     "output_type": "stream",
     "text": [
      " 20%|\u001b[34m██        \u001b[0m| 2/10 [00:12<00:49,  6.23s/it]\n"
     ]
    },
    {
     "name": "stdout",
     "output_type": "stream",
     "text": [
      "\u001b[36m(launch_and_fit pid=75448)\u001b[0m \tTrain Epoch: 3 \tTrain_loss: 1.5755 | Train_acc: 47.8393 % | Validation_loss: 1.7105 | Validation_acc: 38.8587 %\n"
     ]
    },
    {
     "name": "stderr",
     "output_type": "stream",
     "text": [
      " 30%|\u001b[34m███       \u001b[0m| 3/10 [00:18<00:43,  6.20s/it]\n"
     ]
    },
    {
     "name": "stdout",
     "output_type": "stream",
     "text": [
      "\u001b[36m(launch_and_fit pid=75448)\u001b[0m \tTrain Epoch: 4 \tTrain_loss: 1.5715 | Train_acc: 47.7917 % | Validation_loss: 1.7402 | Validation_acc: 35.9601 %\n"
     ]
    },
    {
     "name": "stderr",
     "output_type": "stream",
     "text": [
      " 40%|\u001b[34m████      \u001b[0m| 4/10 [00:24<00:36,  6.05s/it]\n"
     ]
    },
    {
     "name": "stdout",
     "output_type": "stream",
     "text": [
      "\u001b[36m(launch_and_fit pid=75448)\u001b[0m \tTrain Epoch: 5 \tTrain_loss: 1.5642 | Train_acc: 49.1548 % | Validation_loss: 1.7445 | Validation_acc: 36.3678 %\n"
     ]
    },
    {
     "name": "stderr",
     "output_type": "stream",
     "text": [
      " 50%|\u001b[34m█████     \u001b[0m| 5/10 [00:30<00:30,  6.03s/it]\n"
     ]
    },
    {
     "name": "stdout",
     "output_type": "stream",
     "text": [
      "\u001b[36m(launch_and_fit pid=75448)\u001b[0m \tTrain Epoch: 6 \tTrain_loss: 1.5736 | Train_acc: 47.1607 % | Validation_loss: 1.8117 | Validation_acc: 32.4275 %\n"
     ]
    },
    {
     "name": "stderr",
     "output_type": "stream",
     "text": [
      " 60%|\u001b[34m██████    \u001b[0m| 6/10 [00:36<00:23,  5.95s/it]\n"
     ]
    },
    {
     "name": "stdout",
     "output_type": "stream",
     "text": [
      "\u001b[36m(launch_and_fit pid=75448)\u001b[0m \tTrain Epoch: 7 \tTrain_loss: 1.5772 | Train_acc: 47.2202 % | Validation_loss: 1.7981 | Validation_acc: 32.8351 %\n"
     ]
    },
    {
     "name": "stderr",
     "output_type": "stream",
     "text": [
      " 70%|\u001b[34m███████   \u001b[0m| 7/10 [00:41<00:17,  5.81s/it]\n"
     ]
    },
    {
     "name": "stdout",
     "output_type": "stream",
     "text": [
      "\u001b[36m(launch_and_fit pid=75448)\u001b[0m \tTrain Epoch: 8 \tTrain_loss: 1.5972 | Train_acc: 45.5893 % | Validation_loss: 1.7406 | Validation_acc: 35.9601 %\n"
     ]
    },
    {
     "name": "stderr",
     "output_type": "stream",
     "text": [
      " 80%|\u001b[34m████████  \u001b[0m| 8/10 [00:46<00:10,  5.41s/it]\n"
     ]
    },
    {
     "name": "stdout",
     "output_type": "stream",
     "text": [
      "\u001b[36m(launch_and_fit pid=75448)\u001b[0m \tTrain Epoch: 9 \tTrain_loss: 1.5549 | Train_acc: 48.4107 % | Validation_loss: 1.7328 | Validation_acc: 39.4928 %\n"
     ]
    },
    {
     "name": "stderr",
     "output_type": "stream",
     "text": [
      " 90%|\u001b[34m█████████ \u001b[0m| 9/10 [00:48<00:04,  4.34s/it]\n"
     ]
    },
    {
     "name": "stdout",
     "output_type": "stream",
     "text": [
      "\u001b[36m(launch_and_fit pid=75448)\u001b[0m \tTrain Epoch: 10 \tTrain_loss: 1.5489 | Train_acc: 49.0952 % | Validation_loss: 1.7789 | Validation_acc: 36.3678 %\n",
      "\u001b[36m(launch_and_fit pid=75448)\u001b[0m save graph in  results/FL/\n"
     ]
    },
    {
     "name": "stderr",
     "output_type": "stream",
     "text": [
      "100%|\u001b[34m██████████\u001b[0m| 10/10 [00:50<00:00,  5.03s/it]\n"
     ]
    },
    {
     "name": "stdout",
     "output_type": "stream",
     "text": [
      "\u001b[36m(launch_and_fit pid=75448)\u001b[0m Run WITHOUT homomorphic encryption\n",
      "\u001b[36m(launch_and_fit pid=75448)\u001b[0m  To get the checkpoint\n",
      "\u001b[36m(launch_and_fit pid=75448)\u001b[0m [Client 3, round 29] fit, config: {'learning_rate': 0.003, 'batch_size': '32', 'server_round': 29, 'local_epochs': 10}\n",
      "\u001b[36m(launch_and_fit pid=75448)\u001b[0m Updated model\n"
     ]
    },
    {
     "name": "stderr",
     "output_type": "stream",
     "text": [
      "  0%|\u001b[34m          \u001b[0m| 0/10 [00:00<?, ?it/s]\n"
     ]
    },
    {
     "name": "stdout",
     "output_type": "stream",
     "text": [
      "\u001b[36m(launch_and_fit pid=75448)\u001b[0m \tTrain Epoch: 1 \tTrain_loss: 1.6146 | Train_acc: 45.5417 % | Validation_loss: 1.6379 | Validation_acc: 34.5109 %\n"
     ]
    },
    {
     "name": "stderr",
     "output_type": "stream",
     "text": [
      " 10%|\u001b[34m█         \u001b[0m| 1/10 [00:02<00:19,  2.13s/it]\n"
     ]
    },
    {
     "name": "stdout",
     "output_type": "stream",
     "text": [
      "\u001b[36m(launch_and_fit pid=75448)\u001b[0m \tTrain Epoch: 2 \tTrain_loss: 1.5994 | Train_acc: 47.3929 % | Validation_loss: 1.6741 | Validation_acc: 35.9601 %\n"
     ]
    },
    {
     "name": "stderr",
     "output_type": "stream",
     "text": [
      " 20%|\u001b[34m██        \u001b[0m| 2/10 [00:04<00:16,  2.10s/it]\n"
     ]
    },
    {
     "name": "stdout",
     "output_type": "stream",
     "text": [
      "\u001b[36m(launch_and_fit pid=75448)\u001b[0m \tTrain Epoch: 3 \tTrain_loss: 1.6040 | Train_acc: 47.6012 % | Validation_loss: 1.6411 | Validation_acc: 37.0018 %\n"
     ]
    },
    {
     "name": "stderr",
     "output_type": "stream",
     "text": [
      " 30%|\u001b[34m███       \u001b[0m| 3/10 [00:06<00:14,  2.02s/it]\n"
     ]
    },
    {
     "name": "stdout",
     "output_type": "stream",
     "text": [
      "\u001b[36m(launch_and_fit pid=75448)\u001b[0m \tTrain Epoch: 4 \tTrain_loss: 1.6032 | Train_acc: 44.8929 % | Validation_loss: 1.6893 | Validation_acc: 32.8351 %\n"
     ]
    },
    {
     "name": "stderr",
     "output_type": "stream",
     "text": [
      " 40%|\u001b[34m████      \u001b[0m| 4/10 [00:08<00:11,  1.98s/it]\n"
     ]
    },
    {
     "name": "stdout",
     "output_type": "stream",
     "text": [
      "\u001b[36m(launch_and_fit pid=75448)\u001b[0m \tTrain Epoch: 5 \tTrain_loss: 1.5983 | Train_acc: 46.6488 % | Validation_loss: 1.6515 | Validation_acc: 38.0435 %\n"
     ]
    },
    {
     "name": "stderr",
     "output_type": "stream",
     "text": [
      " 50%|\u001b[34m█████     \u001b[0m| 5/10 [00:10<00:09,  1.98s/it]\n"
     ]
    },
    {
     "name": "stdout",
     "output_type": "stream",
     "text": [
      "\u001b[36m(launch_and_fit pid=75448)\u001b[0m \tTrain Epoch: 6 \tTrain_loss: 1.5962 | Train_acc: 47.9048 % | Validation_loss: 1.6719 | Validation_acc: 41.3496 %\n"
     ]
    },
    {
     "name": "stderr",
     "output_type": "stream",
     "text": [
      " 60%|\u001b[34m██████    \u001b[0m| 6/10 [00:12<00:07,  1.99s/it]\n"
     ]
    },
    {
     "name": "stdout",
     "output_type": "stream",
     "text": [
      "\u001b[36m(launch_and_fit pid=75448)\u001b[0m \tTrain Epoch: 7 \tTrain_loss: 1.5889 | Train_acc: 48.2857 % | Validation_loss: 1.6542 | Validation_acc: 38.0435 %\n"
     ]
    },
    {
     "name": "stderr",
     "output_type": "stream",
     "text": [
      " 70%|\u001b[34m███████   \u001b[0m| 7/10 [00:14<00:05,  1.99s/it]\n"
     ]
    },
    {
     "name": "stdout",
     "output_type": "stream",
     "text": [
      "\u001b[36m(launch_and_fit pid=75448)\u001b[0m \tTrain Epoch: 8 \tTrain_loss: 1.5804 | Train_acc: 48.5833 % | Validation_loss: 1.6571 | Validation_acc: 37.0018 %\n"
     ]
    },
    {
     "name": "stderr",
     "output_type": "stream",
     "text": [
      " 80%|\u001b[34m████████  \u001b[0m| 8/10 [00:16<00:03,  2.00s/it]\n"
     ]
    },
    {
     "name": "stdout",
     "output_type": "stream",
     "text": [
      "\u001b[36m(launch_and_fit pid=75448)\u001b[0m \tTrain Epoch: 9 \tTrain_loss: 1.5698 | Train_acc: 49.6607 % | Validation_loss: 1.6955 | Validation_acc: 33.4692 %\n"
     ]
    },
    {
     "name": "stderr",
     "output_type": "stream",
     "text": [
      " 90%|\u001b[34m█████████ \u001b[0m| 9/10 [00:18<00:01,  2.00s/it]\n"
     ]
    },
    {
     "name": "stdout",
     "output_type": "stream",
     "text": [
      "\u001b[36m(launch_and_fit pid=75448)\u001b[0m \tTrain Epoch: 10 \tTrain_loss: 1.5920 | Train_acc: 47.6012 % | Validation_loss: 1.6545 | Validation_acc: 39.0851 %\n",
      "\u001b[36m(launch_and_fit pid=75448)\u001b[0m save graph in  results/FL/\n"
     ]
    },
    {
     "name": "stderr",
     "output_type": "stream",
     "text": [
      "100%|\u001b[34m██████████\u001b[0m| 10/10 [00:20<00:00,  2.01s/it]\n"
     ]
    },
    {
     "name": "stdout",
     "output_type": "stream",
     "text": [
      "\u001b[36m(launch_and_fit pid=75448)\u001b[0m Run WITHOUT homomorphic encryption\n",
      "\u001b[36m(launch_and_fit pid=75448)\u001b[0m  To get the checkpoint\n",
      "\u001b[36m(launch_and_fit pid=75448)\u001b[0m [Client 1, round 29] fit, config: {'learning_rate': 0.003, 'batch_size': '32', 'server_round': 29, 'local_epochs': 10}\n",
      "\u001b[36m(launch_and_fit pid=75448)\u001b[0m Updated model\n"
     ]
    },
    {
     "name": "stderr",
     "output_type": "stream",
     "text": [
      "  0%|\u001b[34m          \u001b[0m| 0/10 [00:00<?, ?it/s]\n"
     ]
    },
    {
     "name": "stdout",
     "output_type": "stream",
     "text": [
      "\u001b[36m(launch_and_fit pid=75448)\u001b[0m \tTrain Epoch: 1 \tTrain_loss: 1.6748 | Train_acc: 38.8988 % | Validation_loss: 1.5941 | Validation_acc: 49.0489 %\n"
     ]
    },
    {
     "name": "stderr",
     "output_type": "stream",
     "text": [
      " 10%|\u001b[34m█         \u001b[0m| 1/10 [00:01<00:17,  2.00s/it]\n"
     ]
    },
    {
     "name": "stdout",
     "output_type": "stream",
     "text": [
      "\u001b[36m(launch_and_fit pid=75448)\u001b[0m \tTrain Epoch: 2 \tTrain_loss: 1.6308 | Train_acc: 43.2083 % | Validation_loss: 1.5538 | Validation_acc: 49.6830 %\n"
     ]
    },
    {
     "name": "stderr",
     "output_type": "stream",
     "text": [
      " 20%|\u001b[34m██        \u001b[0m| 2/10 [00:03<00:15,  1.95s/it]\n"
     ]
    },
    {
     "name": "stdout",
     "output_type": "stream",
     "text": [
      "\u001b[36m(launch_and_fit pid=75448)\u001b[0m \tTrain Epoch: 3 \tTrain_loss: 1.6170 | Train_acc: 44.2202 % | Validation_loss: 1.5809 | Validation_acc: 47.1920 %\n"
     ]
    },
    {
     "name": "stderr",
     "output_type": "stream",
     "text": [
      " 30%|\u001b[34m███       \u001b[0m| 3/10 [00:05<00:13,  1.94s/it]\n"
     ]
    },
    {
     "name": "stdout",
     "output_type": "stream",
     "text": [
      "\u001b[36m(launch_and_fit pid=75448)\u001b[0m \tTrain Epoch: 4 \tTrain_loss: 1.6226 | Train_acc: 44.9048 % | Validation_loss: 1.5632 | Validation_acc: 51.1322 %\n"
     ]
    },
    {
     "name": "stderr",
     "output_type": "stream",
     "text": [
      " 40%|\u001b[34m████      \u001b[0m| 4/10 [00:07<00:11,  1.97s/it]\n"
     ]
    },
    {
     "name": "stdout",
     "output_type": "stream",
     "text": [
      "\u001b[36m(launch_and_fit pid=75448)\u001b[0m \tTrain Epoch: 5 \tTrain_loss: 1.6096 | Train_acc: 44.9048 % | Validation_loss: 1.5908 | Validation_acc: 51.5399 %\n"
     ]
    },
    {
     "name": "stderr",
     "output_type": "stream",
     "text": [
      " 50%|\u001b[34m█████     \u001b[0m| 5/10 [00:09<00:10,  2.00s/it]\n"
     ]
    },
    {
     "name": "stdout",
     "output_type": "stream",
     "text": [
      "\u001b[36m(launch_and_fit pid=75448)\u001b[0m \tTrain Epoch: 6 \tTrain_loss: 1.6059 | Train_acc: 44.0833 % | Validation_loss: 1.7062 | Validation_acc: 40.9420 %\n"
     ]
    },
    {
     "name": "stderr",
     "output_type": "stream",
     "text": [
      " 60%|\u001b[34m██████    \u001b[0m| 6/10 [00:12<00:08,  2.03s/it]\n"
     ]
    },
    {
     "name": "stdout",
     "output_type": "stream",
     "text": [
      "\u001b[36m(launch_and_fit pid=75448)\u001b[0m \tTrain Epoch: 7 \tTrain_loss: 1.6184 | Train_acc: 45.2202 % | Validation_loss: 1.6033 | Validation_acc: 44.0670 %\n"
     ]
    },
    {
     "name": "stderr",
     "output_type": "stream",
     "text": [
      " 70%|\u001b[34m███████   \u001b[0m| 7/10 [00:14<00:06,  2.03s/it]\n"
     ]
    },
    {
     "name": "stdout",
     "output_type": "stream",
     "text": [
      "\u001b[36m(launch_and_fit pid=75448)\u001b[0m \tTrain Epoch: 8 \tTrain_loss: 1.6499 | Train_acc: 41.4643 % | Validation_loss: 1.6240 | Validation_acc: 48.6413 %\n"
     ]
    },
    {
     "name": "stderr",
     "output_type": "stream",
     "text": [
      " 80%|\u001b[34m████████  \u001b[0m| 8/10 [00:16<00:04,  2.03s/it]\n"
     ]
    },
    {
     "name": "stdout",
     "output_type": "stream",
     "text": [
      "\u001b[36m(launch_and_fit pid=75448)\u001b[0m \tTrain Epoch: 9 \tTrain_loss: 1.5873 | Train_acc: 47.7857 % | Validation_loss: 1.6093 | Validation_acc: 45.1087 %\n"
     ]
    },
    {
     "name": "stderr",
     "output_type": "stream",
     "text": [
      " 90%|\u001b[34m█████████ \u001b[0m| 9/10 [00:18<00:02,  2.02s/it]\n"
     ]
    },
    {
     "name": "stdout",
     "output_type": "stream",
     "text": [
      "\u001b[36m(launch_and_fit pid=75448)\u001b[0m \tTrain Epoch: 10 \tTrain_loss: 1.6419 | Train_acc: 41.2738 % | Validation_loss: 1.6154 | Validation_acc: 49.6830 %\n",
      "\u001b[36m(launch_and_fit pid=75448)\u001b[0m save graph in  results/FL/\n"
     ]
    },
    {
     "name": "stderr",
     "output_type": "stream",
     "text": [
      "100%|\u001b[34m██████████\u001b[0m| 10/10 [00:20<00:00,  2.01s/it]\n"
     ]
    },
    {
     "name": "stdout",
     "output_type": "stream",
     "text": [
      "\u001b[36m(launch_and_fit pid=75448)\u001b[0m Run WITHOUT homomorphic encryption\n",
      "\u001b[36m(launch_and_fit pid=75448)\u001b[0m  To get the checkpoint\n",
      "\u001b[36m(launch_and_fit pid=75448)\u001b[0m [Client 2, round 29] fit, config: {'learning_rate': 0.003, 'batch_size': '32', 'server_round': 29, 'local_epochs': 10}\n",
      "\u001b[36m(launch_and_fit pid=75448)\u001b[0m Updated model\n"
     ]
    },
    {
     "name": "stderr",
     "output_type": "stream",
     "text": [
      "  0%|\u001b[34m          \u001b[0m| 0/10 [00:00<?, ?it/s]\n"
     ]
    },
    {
     "name": "stdout",
     "output_type": "stream",
     "text": [
      "\u001b[36m(launch_and_fit pid=75448)\u001b[0m \tTrain Epoch: 1 \tTrain_loss: 1.7283 | Train_acc: 37.6607 % | Validation_loss: 1.5802 | Validation_acc: 50.7246 %\n"
     ]
    },
    {
     "name": "stderr",
     "output_type": "stream",
     "text": [
      " 10%|\u001b[34m█         \u001b[0m| 1/10 [00:02<00:18,  2.01s/it]\n"
     ]
    },
    {
     "name": "stdout",
     "output_type": "stream",
     "text": [
      "\u001b[36m(launch_and_fit pid=75448)\u001b[0m \tTrain Epoch: 2 \tTrain_loss: 1.6734 | Train_acc: 41.6429 % | Validation_loss: 1.6550 | Validation_acc: 46.5580 %\n"
     ]
    },
    {
     "name": "stderr",
     "output_type": "stream",
     "text": [
      " 20%|\u001b[34m██        \u001b[0m| 2/10 [00:03<00:15,  2.00s/it]\n"
     ]
    },
    {
     "name": "stdout",
     "output_type": "stream",
     "text": [
      "\u001b[36m(launch_and_fit pid=75448)\u001b[0m \tTrain Epoch: 3 \tTrain_loss: 1.6435 | Train_acc: 43.4048 % | Validation_loss: 1.6154 | Validation_acc: 47.5996 %\n"
     ]
    },
    {
     "name": "stderr",
     "output_type": "stream",
     "text": [
      " 30%|\u001b[34m███       \u001b[0m| 3/10 [00:05<00:13,  1.99s/it]\n"
     ]
    },
    {
     "name": "stdout",
     "output_type": "stream",
     "text": [
      "\u001b[36m(launch_and_fit pid=75448)\u001b[0m \tTrain Epoch: 4 \tTrain_loss: 1.6542 | Train_acc: 42.5714 % | Validation_loss: 1.5749 | Validation_acc: 51.7663 %\n"
     ]
    },
    {
     "name": "stderr",
     "output_type": "stream",
     "text": [
      " 40%|\u001b[34m████      \u001b[0m| 4/10 [00:07<00:11,  1.99s/it]\n"
     ]
    },
    {
     "name": "stdout",
     "output_type": "stream",
     "text": [
      "\u001b[36m(launch_and_fit pid=75448)\u001b[0m \tTrain Epoch: 5 \tTrain_loss: 1.6559 | Train_acc: 41.5357 % | Validation_loss: 1.6600 | Validation_acc: 44.4746 %\n"
     ]
    },
    {
     "name": "stderr",
     "output_type": "stream",
     "text": [
      " 50%|\u001b[34m█████     \u001b[0m| 5/10 [00:09<00:09,  1.99s/it]\n"
     ]
    },
    {
     "name": "stdout",
     "output_type": "stream",
     "text": [
      "\u001b[36m(launch_and_fit pid=75448)\u001b[0m \tTrain Epoch: 6 \tTrain_loss: 1.6445 | Train_acc: 42.8274 % | Validation_loss: 1.5794 | Validation_acc: 51.7663 %\n"
     ]
    },
    {
     "name": "stderr",
     "output_type": "stream",
     "text": [
      " 60%|\u001b[34m██████    \u001b[0m| 6/10 [00:11<00:07,  2.00s/it]\n"
     ]
    },
    {
     "name": "stdout",
     "output_type": "stream",
     "text": [
      "\u001b[36m(launch_and_fit pid=75448)\u001b[0m \tTrain Epoch: 7 \tTrain_loss: 1.6428 | Train_acc: 42.5952 % | Validation_loss: 1.6289 | Validation_acc: 47.5996 %\n"
     ]
    },
    {
     "name": "stderr",
     "output_type": "stream",
     "text": [
      " 70%|\u001b[34m███████   \u001b[0m| 7/10 [00:13<00:05,  2.00s/it]\n"
     ]
    },
    {
     "name": "stdout",
     "output_type": "stream",
     "text": [
      "\u001b[36m(launch_and_fit pid=75448)\u001b[0m \tTrain Epoch: 8 \tTrain_loss: 1.6417 | Train_acc: 43.7798 % | Validation_loss: 1.5801 | Validation_acc: 52.8080 %\n"
     ]
    },
    {
     "name": "stderr",
     "output_type": "stream",
     "text": [
      " 80%|\u001b[34m████████  \u001b[0m| 8/10 [00:15<00:03,  2.00s/it]\n"
     ]
    },
    {
     "name": "stdout",
     "output_type": "stream",
     "text": [
      "\u001b[36m(launch_and_fit pid=75448)\u001b[0m \tTrain Epoch: 9 \tTrain_loss: 1.6289 | Train_acc: 43.7202 % | Validation_loss: 1.6198 | Validation_acc: 48.6413 %\n"
     ]
    },
    {
     "name": "stderr",
     "output_type": "stream",
     "text": [
      " 90%|\u001b[34m█████████ \u001b[0m| 9/10 [00:17<00:01,  2.00s/it]\n",
      "100%|\u001b[34m██████████\u001b[0m| 10/10 [00:19<00:00,  2.00s/it]\n",
      "DEBUG flwr 2024-08-30 02:42:33,220 | server.py:236 | fit_round 29 received 4 results and 0 failures\n"
     ]
    },
    {
     "name": "stdout",
     "output_type": "stream",
     "text": [
      "\u001b[36m(launch_and_fit pid=75448)\u001b[0m \tTrain Epoch: 10 \tTrain_loss: 1.6412 | Train_acc: 44.2143 % | Validation_loss: 1.6002 | Validation_acc: 50.7246 %\n",
      "\u001b[36m(launch_and_fit pid=75448)\u001b[0m save graph in  results/FL/\n",
      "Saving round 29 aggregated_parameters...\n",
      "Updated model\n"
     ]
    },
    {
     "name": "stderr",
     "output_type": "stream",
     "text": [
      "INFO flwr 2024-08-30 02:42:33,985 | server.py:125 | fit progress: (29, 1.6750548354216985, {'accuracy': 41.07142857142857}, 3786.1157442950644)\n",
      "DEBUG flwr 2024-08-30 02:42:33,986 | server.py:173 | evaluate_round 29: strategy sampled 4 clients (out of 4)\n"
     ]
    },
    {
     "name": "stdout",
     "output_type": "stream",
     "text": [
      "Server-side evaluation loss 1.6750548354216985 / accuracy 41.07142857142857\n",
      "\u001b[36m(launch_and_evaluate pid=75448)\u001b[0m Run WITHOUT homomorphic encryption\n",
      "\u001b[36m(launch_and_evaluate pid=75448)\u001b[0m  To get the checkpoint\n",
      "\u001b[36m(launch_and_evaluate pid=75448)\u001b[0m [Client 1] evaluate, config: {}\n",
      "\u001b[36m(launch_and_evaluate pid=75448)\u001b[0m Updated model\n",
      "\u001b[36m(launch_and_evaluate pid=75448)\u001b[0m Run WITHOUT homomorphic encryption\n",
      "\u001b[36m(launch_and_evaluate pid=75448)\u001b[0m  To get the checkpoint\n",
      "\u001b[36m(launch_and_evaluate pid=75448)\u001b[0m [Client 0] evaluate, config: {}\n",
      "\u001b[36m(launch_and_evaluate pid=75448)\u001b[0m Updated model\n",
      "\u001b[36m(launch_and_evaluate pid=75448)\u001b[0m Run WITHOUT homomorphic encryption\n",
      "\u001b[36m(launch_and_evaluate pid=75448)\u001b[0m  To get the checkpoint\n",
      "\u001b[36m(launch_and_evaluate pid=75448)\u001b[0m [Client 3] evaluate, config: {}\n",
      "\u001b[36m(launch_and_evaluate pid=75448)\u001b[0m Updated model\n",
      "\u001b[36m(launch_and_evaluate pid=75448)\u001b[0m Run WITHOUT homomorphic encryption\n",
      "\u001b[36m(launch_and_evaluate pid=75448)\u001b[0m  To get the checkpoint\n",
      "\u001b[36m(launch_and_evaluate pid=75448)\u001b[0m [Client 2] evaluate, config: {}\n",
      "\u001b[36m(launch_and_evaluate pid=75448)\u001b[0m Updated model\n"
     ]
    },
    {
     "name": "stderr",
     "output_type": "stream",
     "text": [
      "DEBUG flwr 2024-08-30 02:42:36,486 | server.py:187 | evaluate_round 29 received 4 results and 0 failures\n",
      "DEBUG flwr 2024-08-30 02:42:36,487 | server.py:222 | fit_round 30: strategy sampled 4 clients (out of 4)\n"
     ]
    },
    {
     "name": "stdout",
     "output_type": "stream",
     "text": [
      "\u001b[36m(launch_and_fit pid=75448)\u001b[0m Run WITHOUT homomorphic encryption\n",
      "\u001b[36m(launch_and_fit pid=75448)\u001b[0m  To get the checkpoint\n",
      "\u001b[36m(launch_and_fit pid=75448)\u001b[0m [Client 2, round 30] fit, config: {'learning_rate': 0.003, 'batch_size': '32', 'server_round': 30, 'local_epochs': 10}\n",
      "\u001b[36m(launch_and_fit pid=75448)\u001b[0m Updated model\n"
     ]
    },
    {
     "name": "stderr",
     "output_type": "stream",
     "text": [
      "  0%|\u001b[34m          \u001b[0m| 0/10 [00:00<?, ?it/s]\n"
     ]
    },
    {
     "name": "stdout",
     "output_type": "stream",
     "text": [
      "\u001b[36m(launch_and_fit pid=75448)\u001b[0m \tTrain Epoch: 1 \tTrain_loss: 1.6446 | Train_acc: 43.4583 % | Validation_loss: 1.5793 | Validation_acc: 51.7663 %\n"
     ]
    },
    {
     "name": "stderr",
     "output_type": "stream",
     "text": [
      " 10%|\u001b[34m█         \u001b[0m| 1/10 [00:01<00:17,  2.00s/it]\n"
     ]
    },
    {
     "name": "stdout",
     "output_type": "stream",
     "text": [
      "\u001b[36m(launch_and_fit pid=75448)\u001b[0m \tTrain Epoch: 2 \tTrain_loss: 1.6368 | Train_acc: 44.1488 % | Validation_loss: 1.5819 | Validation_acc: 51.7663 %\n"
     ]
    },
    {
     "name": "stderr",
     "output_type": "stream",
     "text": [
      " 20%|\u001b[34m██        \u001b[0m| 2/10 [00:03<00:15,  1.99s/it]\n"
     ]
    },
    {
     "name": "stdout",
     "output_type": "stream",
     "text": [
      "\u001b[36m(launch_and_fit pid=75448)\u001b[0m \tTrain Epoch: 3 \tTrain_loss: 1.6638 | Train_acc: 43.3452 % | Validation_loss: 1.5997 | Validation_acc: 49.6830 %\n"
     ]
    },
    {
     "name": "stderr",
     "output_type": "stream",
     "text": [
      " 30%|\u001b[34m███       \u001b[0m| 3/10 [00:05<00:13,  1.96s/it]\n"
     ]
    },
    {
     "name": "stdout",
     "output_type": "stream",
     "text": [
      "\u001b[36m(launch_and_fit pid=75448)\u001b[0m \tTrain Epoch: 4 \tTrain_loss: 1.6299 | Train_acc: 44.4048 % | Validation_loss: 1.5827 | Validation_acc: 49.6830 %\n"
     ]
    },
    {
     "name": "stderr",
     "output_type": "stream",
     "text": [
      " 40%|\u001b[34m████      \u001b[0m| 4/10 [00:07<00:11,  1.94s/it]\n"
     ]
    },
    {
     "name": "stdout",
     "output_type": "stream",
     "text": [
      "\u001b[36m(launch_and_fit pid=75448)\u001b[0m \tTrain Epoch: 5 \tTrain_loss: 1.6313 | Train_acc: 43.7083 % | Validation_loss: 1.5732 | Validation_acc: 50.7246 %\n"
     ]
    },
    {
     "name": "stderr",
     "output_type": "stream",
     "text": [
      " 50%|\u001b[34m█████     \u001b[0m| 5/10 [00:09<00:09,  1.93s/it]\n"
     ]
    },
    {
     "name": "stdout",
     "output_type": "stream",
     "text": [
      "\u001b[36m(launch_and_fit pid=75448)\u001b[0m \tTrain Epoch: 6 \tTrain_loss: 1.6312 | Train_acc: 44.5833 % | Validation_loss: 1.5963 | Validation_acc: 50.7246 %\n"
     ]
    },
    {
     "name": "stderr",
     "output_type": "stream",
     "text": [
      " 60%|\u001b[34m██████    \u001b[0m| 6/10 [00:11<00:07,  1.92s/it]\n"
     ]
    },
    {
     "name": "stdout",
     "output_type": "stream",
     "text": [
      "\u001b[36m(launch_and_fit pid=75448)\u001b[0m \tTrain Epoch: 7 \tTrain_loss: 1.6097 | Train_acc: 45.9702 % | Validation_loss: 1.5804 | Validation_acc: 50.7246 %\n"
     ]
    },
    {
     "name": "stderr",
     "output_type": "stream",
     "text": [
      " 70%|\u001b[34m███████   \u001b[0m| 7/10 [00:13<00:05,  1.92s/it]\n"
     ]
    },
    {
     "name": "stdout",
     "output_type": "stream",
     "text": [
      "\u001b[36m(launch_and_fit pid=75448)\u001b[0m \tTrain Epoch: 8 \tTrain_loss: 1.6208 | Train_acc: 45.1429 % | Validation_loss: 1.5662 | Validation_acc: 53.8496 %\n"
     ]
    },
    {
     "name": "stderr",
     "output_type": "stream",
     "text": [
      " 80%|\u001b[34m████████  \u001b[0m| 8/10 [00:15<00:03,  1.91s/it]\n"
     ]
    },
    {
     "name": "stdout",
     "output_type": "stream",
     "text": [
      "\u001b[36m(launch_and_fit pid=75448)\u001b[0m \tTrain Epoch: 9 \tTrain_loss: 1.6809 | Train_acc: 40.3333 % | Validation_loss: 1.6008 | Validation_acc: 51.7663 %\n"
     ]
    },
    {
     "name": "stderr",
     "output_type": "stream",
     "text": [
      " 90%|\u001b[34m█████████ \u001b[0m| 9/10 [00:17<00:01,  1.91s/it]\n"
     ]
    },
    {
     "name": "stdout",
     "output_type": "stream",
     "text": [
      "\u001b[36m(launch_and_fit pid=75448)\u001b[0m \tTrain Epoch: 10 \tTrain_loss: 1.6416 | Train_acc: 44.3333 % | Validation_loss: 1.6036 | Validation_acc: 49.6830 %\n",
      "\u001b[36m(launch_and_fit pid=75448)\u001b[0m save graph in  results/FL/\n"
     ]
    },
    {
     "name": "stderr",
     "output_type": "stream",
     "text": [
      "100%|\u001b[34m██████████\u001b[0m| 10/10 [00:19<00:00,  1.93s/it]\n"
     ]
    },
    {
     "name": "stdout",
     "output_type": "stream",
     "text": [
      "\u001b[36m(launch_and_fit pid=75448)\u001b[0m Run WITHOUT homomorphic encryption\n",
      "\u001b[36m(launch_and_fit pid=75448)\u001b[0m  To get the checkpoint\n",
      "\u001b[36m(launch_and_fit pid=75448)\u001b[0m [Client 0, round 30] fit, config: {'learning_rate': 0.003, 'batch_size': '32', 'server_round': 30, 'local_epochs': 10}\n",
      "\u001b[36m(launch_and_fit pid=75448)\u001b[0m Updated model\n"
     ]
    },
    {
     "name": "stderr",
     "output_type": "stream",
     "text": [
      "  0%|\u001b[34m          \u001b[0m| 0/10 [00:00<?, ?it/s]\n"
     ]
    },
    {
     "name": "stdout",
     "output_type": "stream",
     "text": [
      "\u001b[36m(launch_and_fit pid=75448)\u001b[0m \tTrain Epoch: 1 \tTrain_loss: 1.6146 | Train_acc: 45.0179 % | Validation_loss: 1.7649 | Validation_acc: 34.9185 %\n"
     ]
    },
    {
     "name": "stderr",
     "output_type": "stream",
     "text": [
      " 10%|\u001b[34m█         \u001b[0m| 1/10 [00:02<00:18,  2.02s/it]\n"
     ]
    },
    {
     "name": "stdout",
     "output_type": "stream",
     "text": [
      "\u001b[36m(launch_and_fit pid=75448)\u001b[0m \tTrain Epoch: 2 \tTrain_loss: 1.6221 | Train_acc: 43.3333 % | Validation_loss: 1.7120 | Validation_acc: 40.9420 %\n"
     ]
    },
    {
     "name": "stderr",
     "output_type": "stream",
     "text": [
      " 20%|\u001b[34m██        \u001b[0m| 2/10 [00:04<00:16,  2.02s/it]\n"
     ]
    },
    {
     "name": "stdout",
     "output_type": "stream",
     "text": [
      "\u001b[36m(launch_and_fit pid=75448)\u001b[0m \tTrain Epoch: 3 \tTrain_loss: 1.5812 | Train_acc: 46.5298 % | Validation_loss: 1.7539 | Validation_acc: 38.2246 %\n"
     ]
    },
    {
     "name": "stderr",
     "output_type": "stream",
     "text": [
      " 30%|\u001b[34m███       \u001b[0m| 3/10 [00:06<00:14,  2.00s/it]\n"
     ]
    },
    {
     "name": "stdout",
     "output_type": "stream",
     "text": [
      "\u001b[36m(launch_and_fit pid=75448)\u001b[0m \tTrain Epoch: 4 \tTrain_loss: 1.5651 | Train_acc: 48.7798 % | Validation_loss: 1.7637 | Validation_acc: 35.9601 %\n"
     ]
    },
    {
     "name": "stderr",
     "output_type": "stream",
     "text": [
      " 40%|\u001b[34m████      \u001b[0m| 4/10 [00:07<00:11,  1.99s/it]\n"
     ]
    },
    {
     "name": "stdout",
     "output_type": "stream",
     "text": [
      "\u001b[36m(launch_and_fit pid=75448)\u001b[0m \tTrain Epoch: 5 \tTrain_loss: 1.5552 | Train_acc: 48.5357 % | Validation_loss: 1.7490 | Validation_acc: 35.9601 %\n"
     ]
    },
    {
     "name": "stderr",
     "output_type": "stream",
     "text": [
      " 50%|\u001b[34m█████     \u001b[0m| 5/10 [00:09<00:09,  1.99s/it]\n"
     ]
    },
    {
     "name": "stdout",
     "output_type": "stream",
     "text": [
      "\u001b[36m(launch_and_fit pid=75448)\u001b[0m \tTrain Epoch: 6 \tTrain_loss: 1.5672 | Train_acc: 48.2798 % | Validation_loss: 1.7306 | Validation_acc: 37.1830 %\n"
     ]
    },
    {
     "name": "stderr",
     "output_type": "stream",
     "text": [
      " 60%|\u001b[34m██████    \u001b[0m| 6/10 [00:11<00:07,  1.98s/it]\n"
     ]
    },
    {
     "name": "stdout",
     "output_type": "stream",
     "text": [
      "\u001b[36m(launch_and_fit pid=75448)\u001b[0m \tTrain Epoch: 7 \tTrain_loss: 1.5787 | Train_acc: 46.7619 % | Validation_loss: 1.7636 | Validation_acc: 35.9601 %\n"
     ]
    },
    {
     "name": "stderr",
     "output_type": "stream",
     "text": [
      " 70%|\u001b[34m███████   \u001b[0m| 7/10 [00:13<00:05,  1.96s/it]\n"
     ]
    },
    {
     "name": "stdout",
     "output_type": "stream",
     "text": [
      "\u001b[36m(launch_and_fit pid=75448)\u001b[0m \tTrain Epoch: 8 \tTrain_loss: 1.5769 | Train_acc: 46.9702 % | Validation_loss: 1.7423 | Validation_acc: 35.9601 %\n"
     ]
    },
    {
     "name": "stderr",
     "output_type": "stream",
     "text": [
      " 80%|\u001b[34m████████  \u001b[0m| 8/10 [00:15<00:03,  1.95s/it]\n"
     ]
    },
    {
     "name": "stdout",
     "output_type": "stream",
     "text": [
      "\u001b[36m(launch_and_fit pid=75448)\u001b[0m \tTrain Epoch: 9 \tTrain_loss: 1.5575 | Train_acc: 47.6548 % | Validation_loss: 1.7460 | Validation_acc: 34.5109 %\n"
     ]
    },
    {
     "name": "stderr",
     "output_type": "stream",
     "text": [
      " 90%|\u001b[34m█████████ \u001b[0m| 9/10 [00:17<00:01,  1.94s/it]\n"
     ]
    },
    {
     "name": "stdout",
     "output_type": "stream",
     "text": [
      "\u001b[36m(launch_and_fit pid=75448)\u001b[0m \tTrain Epoch: 10 \tTrain_loss: 1.5489 | Train_acc: 48.5833 % | Validation_loss: 1.7516 | Validation_acc: 35.3261 %\n",
      "\u001b[36m(launch_and_fit pid=75448)\u001b[0m save graph in  results/FL/\n"
     ]
    },
    {
     "name": "stderr",
     "output_type": "stream",
     "text": [
      "100%|\u001b[34m██████████\u001b[0m| 10/10 [00:19<00:00,  1.96s/it]\n"
     ]
    },
    {
     "name": "stdout",
     "output_type": "stream",
     "text": [
      "\u001b[36m(launch_and_fit pid=75448)\u001b[0m Run WITHOUT homomorphic encryption\n",
      "\u001b[36m(launch_and_fit pid=75448)\u001b[0m  To get the checkpoint\n",
      "\u001b[36m(launch_and_fit pid=75448)\u001b[0m [Client 3, round 30] fit, config: {'learning_rate': 0.003, 'batch_size': '32', 'server_round': 30, 'local_epochs': 10}\n",
      "\u001b[36m(launch_and_fit pid=75448)\u001b[0m Updated model\n"
     ]
    },
    {
     "name": "stderr",
     "output_type": "stream",
     "text": [
      "  0%|\u001b[34m          \u001b[0m| 0/10 [00:00<?, ?it/s]\n"
     ]
    },
    {
     "name": "stdout",
     "output_type": "stream",
     "text": [
      "\u001b[36m(launch_and_fit pid=75448)\u001b[0m \tTrain Epoch: 1 \tTrain_loss: 1.6007 | Train_acc: 46.2679 % | Validation_loss: 1.6579 | Validation_acc: 34.9185 %\n"
     ]
    },
    {
     "name": "stderr",
     "output_type": "stream",
     "text": [
      " 10%|\u001b[34m█         \u001b[0m| 1/10 [00:02<00:22,  2.53s/it]\n"
     ]
    },
    {
     "name": "stdout",
     "output_type": "stream",
     "text": [
      "\u001b[36m(launch_and_fit pid=75448)\u001b[0m \tTrain Epoch: 2 \tTrain_loss: 1.5812 | Train_acc: 48.6607 % | Validation_loss: 1.6585 | Validation_acc: 39.4928 %\n"
     ]
    },
    {
     "name": "stderr",
     "output_type": "stream",
     "text": [
      " 20%|\u001b[34m██        \u001b[0m| 2/10 [00:04<00:17,  2.23s/it]\n"
     ]
    },
    {
     "name": "stdout",
     "output_type": "stream",
     "text": [
      "\u001b[36m(launch_and_fit pid=75448)\u001b[0m \tTrain Epoch: 3 \tTrain_loss: 1.5983 | Train_acc: 46.7143 % | Validation_loss: 1.6780 | Validation_acc: 39.9004 %\n"
     ]
    },
    {
     "name": "stderr",
     "output_type": "stream",
     "text": [
      " 30%|\u001b[34m███       \u001b[0m| 3/10 [00:06<00:14,  2.14s/it]\n"
     ]
    },
    {
     "name": "stdout",
     "output_type": "stream",
     "text": [
      "\u001b[36m(launch_and_fit pid=75448)\u001b[0m \tTrain Epoch: 4 \tTrain_loss: 1.5986 | Train_acc: 47.7202 % | Validation_loss: 1.6774 | Validation_acc: 38.0435 %\n"
     ]
    },
    {
     "name": "stderr",
     "output_type": "stream",
     "text": [
      " 40%|\u001b[34m████      \u001b[0m| 4/10 [00:08<00:12,  2.09s/it]\n"
     ]
    },
    {
     "name": "stdout",
     "output_type": "stream",
     "text": [
      "\u001b[36m(launch_and_fit pid=75448)\u001b[0m \tTrain Epoch: 5 \tTrain_loss: 1.5851 | Train_acc: 49.7202 % | Validation_loss: 1.6604 | Validation_acc: 37.0018 %\n"
     ]
    },
    {
     "name": "stderr",
     "output_type": "stream",
     "text": [
      " 50%|\u001b[34m█████     \u001b[0m| 5/10 [00:10<00:10,  2.06s/it]\n"
     ]
    },
    {
     "name": "stdout",
     "output_type": "stream",
     "text": [
      "\u001b[36m(launch_and_fit pid=75448)\u001b[0m \tTrain Epoch: 6 \tTrain_loss: 1.5880 | Train_acc: 48.5238 % | Validation_loss: 1.7153 | Validation_acc: 30.7518 %\n"
     ]
    },
    {
     "name": "stderr",
     "output_type": "stream",
     "text": [
      " 60%|\u001b[34m██████    \u001b[0m| 6/10 [00:12<00:08,  2.05s/it]\n"
     ]
    },
    {
     "name": "stdout",
     "output_type": "stream",
     "text": [
      "\u001b[36m(launch_and_fit pid=75448)\u001b[0m \tTrain Epoch: 7 \tTrain_loss: 1.6118 | Train_acc: 46.5298 % | Validation_loss: 1.6697 | Validation_acc: 38.4511 %\n"
     ]
    },
    {
     "name": "stderr",
     "output_type": "stream",
     "text": [
      " 70%|\u001b[34m███████   \u001b[0m| 7/10 [00:14<00:06,  2.04s/it]\n"
     ]
    },
    {
     "name": "stdout",
     "output_type": "stream",
     "text": [
      "\u001b[36m(launch_and_fit pid=75448)\u001b[0m \tTrain Epoch: 8 \tTrain_loss: 1.5691 | Train_acc: 50.3393 % | Validation_loss: 1.6751 | Validation_acc: 38.0435 %\n"
     ]
    },
    {
     "name": "stderr",
     "output_type": "stream",
     "text": [
      " 80%|\u001b[34m████████  \u001b[0m| 8/10 [00:16<00:04,  2.03s/it]\n"
     ]
    },
    {
     "name": "stdout",
     "output_type": "stream",
     "text": [
      "\u001b[36m(launch_and_fit pid=75448)\u001b[0m \tTrain Epoch: 9 \tTrain_loss: 1.5624 | Train_acc: 50.9107 % | Validation_loss: 1.6605 | Validation_acc: 35.3261 %\n"
     ]
    },
    {
     "name": "stderr",
     "output_type": "stream",
     "text": [
      " 90%|\u001b[34m█████████ \u001b[0m| 9/10 [00:18<00:02,  2.03s/it]\n"
     ]
    },
    {
     "name": "stdout",
     "output_type": "stream",
     "text": [
      "\u001b[36m(launch_and_fit pid=75448)\u001b[0m \tTrain Epoch: 10 \tTrain_loss: 1.5708 | Train_acc: 50.5833 % | Validation_loss: 1.6551 | Validation_acc: 41.9837 %\n",
      "\u001b[36m(launch_and_fit pid=75448)\u001b[0m save graph in  results/FL/\n"
     ]
    },
    {
     "name": "stderr",
     "output_type": "stream",
     "text": [
      "100%|\u001b[34m██████████\u001b[0m| 10/10 [00:20<00:00,  2.07s/it]\n"
     ]
    },
    {
     "name": "stdout",
     "output_type": "stream",
     "text": [
      "\u001b[36m(launch_and_fit pid=75448)\u001b[0m Run WITHOUT homomorphic encryption\n",
      "\u001b[36m(launch_and_fit pid=75448)\u001b[0m  To get the checkpoint\n",
      "\u001b[36m(launch_and_fit pid=75448)\u001b[0m [Client 1, round 30] fit, config: {'learning_rate': 0.003, 'batch_size': '32', 'server_round': 30, 'local_epochs': 10}\n",
      "\u001b[36m(launch_and_fit pid=75448)\u001b[0m Updated model\n"
     ]
    },
    {
     "name": "stderr",
     "output_type": "stream",
     "text": [
      "  0%|\u001b[34m          \u001b[0m| 0/10 [00:00<?, ?it/s]\n"
     ]
    },
    {
     "name": "stdout",
     "output_type": "stream",
     "text": [
      "\u001b[36m(launch_and_fit pid=75448)\u001b[0m \tTrain Epoch: 1 \tTrain_loss: 1.6332 | Train_acc: 43.1607 % | Validation_loss: 1.5745 | Validation_acc: 51.1322 %\n"
     ]
    },
    {
     "name": "stderr",
     "output_type": "stream",
     "text": [
      " 10%|\u001b[34m█         \u001b[0m| 1/10 [00:02<00:18,  2.02s/it]\n"
     ]
    },
    {
     "name": "stdout",
     "output_type": "stream",
     "text": [
      "\u001b[36m(launch_and_fit pid=75448)\u001b[0m \tTrain Epoch: 2 \tTrain_loss: 1.6349 | Train_acc: 41.9048 % | Validation_loss: 1.5608 | Validation_acc: 53.6232 %\n"
     ]
    },
    {
     "name": "stderr",
     "output_type": "stream",
     "text": [
      " 20%|\u001b[34m██        \u001b[0m| 2/10 [00:04<00:16,  2.01s/it]\n"
     ]
    },
    {
     "name": "stdout",
     "output_type": "stream",
     "text": [
      "\u001b[36m(launch_and_fit pid=75448)\u001b[0m \tTrain Epoch: 3 \tTrain_loss: 1.5913 | Train_acc: 46.9048 % | Validation_loss: 1.5913 | Validation_acc: 49.0489 %\n"
     ]
    },
    {
     "name": "stderr",
     "output_type": "stream",
     "text": [
      " 30%|\u001b[34m███       \u001b[0m| 3/10 [00:06<00:14,  2.01s/it]\n"
     ]
    },
    {
     "name": "stdout",
     "output_type": "stream",
     "text": [
      "\u001b[36m(launch_and_fit pid=75448)\u001b[0m \tTrain Epoch: 4 \tTrain_loss: 1.5865 | Train_acc: 45.8512 % | Validation_loss: 1.6451 | Validation_acc: 46.9656 %\n"
     ]
    },
    {
     "name": "stderr",
     "output_type": "stream",
     "text": [
      " 40%|\u001b[34m████      \u001b[0m| 4/10 [00:07<00:11,  1.99s/it]\n"
     ]
    },
    {
     "name": "stdout",
     "output_type": "stream",
     "text": [
      "\u001b[36m(launch_and_fit pid=75448)\u001b[0m \tTrain Epoch: 5 \tTrain_loss: 1.5975 | Train_acc: 46.1488 % | Validation_loss: 1.5742 | Validation_acc: 50.7246 %\n"
     ]
    },
    {
     "name": "stderr",
     "output_type": "stream",
     "text": [
      " 50%|\u001b[34m█████     \u001b[0m| 5/10 [00:09<00:09,  1.97s/it]\n"
     ]
    },
    {
     "name": "stdout",
     "output_type": "stream",
     "text": [
      "\u001b[36m(launch_and_fit pid=75448)\u001b[0m \tTrain Epoch: 6 \tTrain_loss: 1.6183 | Train_acc: 45.8274 % | Validation_loss: 1.5630 | Validation_acc: 52.1739 %\n"
     ]
    },
    {
     "name": "stderr",
     "output_type": "stream",
     "text": [
      " 60%|\u001b[34m██████    \u001b[0m| 6/10 [00:11<00:07,  1.96s/it]\n"
     ]
    },
    {
     "name": "stdout",
     "output_type": "stream",
     "text": [
      "\u001b[36m(launch_and_fit pid=75448)\u001b[0m \tTrain Epoch: 7 \tTrain_loss: 1.5848 | Train_acc: 46.5238 % | Validation_loss: 1.5927 | Validation_acc: 50.7246 %\n"
     ]
    },
    {
     "name": "stderr",
     "output_type": "stream",
     "text": [
      " 70%|\u001b[34m███████   \u001b[0m| 7/10 [00:13<00:05,  1.96s/it]\n"
     ]
    },
    {
     "name": "stdout",
     "output_type": "stream",
     "text": [
      "\u001b[36m(launch_and_fit pid=75448)\u001b[0m \tTrain Epoch: 8 \tTrain_loss: 1.5986 | Train_acc: 44.9107 % | Validation_loss: 1.5925 | Validation_acc: 50.7246 %\n"
     ]
    },
    {
     "name": "stderr",
     "output_type": "stream",
     "text": [
      " 80%|\u001b[34m████████  \u001b[0m| 8/10 [00:15<00:03,  1.95s/it]\n"
     ]
    },
    {
     "name": "stdout",
     "output_type": "stream",
     "text": [
      "\u001b[36m(launch_and_fit pid=75448)\u001b[0m \tTrain Epoch: 9 \tTrain_loss: 1.5946 | Train_acc: 46.2857 % | Validation_loss: 1.5831 | Validation_acc: 52.1739 %\n"
     ]
    },
    {
     "name": "stderr",
     "output_type": "stream",
     "text": [
      " 90%|\u001b[34m█████████ \u001b[0m| 9/10 [00:17<00:01,  1.95s/it]\n",
      "100%|\u001b[34m██████████\u001b[0m| 10/10 [00:19<00:00,  1.96s/it]\n",
      "DEBUG flwr 2024-08-30 02:43:57,443 | server.py:236 | fit_round 30 received 4 results and 0 failures\n"
     ]
    },
    {
     "name": "stdout",
     "output_type": "stream",
     "text": [
      "\u001b[36m(launch_and_fit pid=75448)\u001b[0m \tTrain Epoch: 10 \tTrain_loss: 1.6085 | Train_acc: 44.6488 % | Validation_loss: 1.6567 | Validation_acc: 46.9656 %\n",
      "\u001b[36m(launch_and_fit pid=75448)\u001b[0m save graph in  results/FL/\n",
      "Saving round 30 aggregated_parameters...\n",
      "Updated model\n"
     ]
    },
    {
     "name": "stderr",
     "output_type": "stream",
     "text": [
      "INFO flwr 2024-08-30 02:43:58,225 | server.py:125 | fit progress: (30, 1.6583337443215507, {'accuracy': 43.117559523809526}, 3870.355870177038)\n",
      "DEBUG flwr 2024-08-30 02:43:58,226 | server.py:173 | evaluate_round 30: strategy sampled 4 clients (out of 4)\n"
     ]
    },
    {
     "name": "stdout",
     "output_type": "stream",
     "text": [
      "Server-side evaluation loss 1.6583337443215507 / accuracy 43.117559523809526\n",
      "\u001b[36m(launch_and_evaluate pid=75448)\u001b[0m Run WITHOUT homomorphic encryption\n",
      "\u001b[36m(launch_and_evaluate pid=75448)\u001b[0m  To get the checkpoint\n",
      "\u001b[36m(launch_and_evaluate pid=75448)\u001b[0m [Client 1] evaluate, config: {}\n",
      "\u001b[36m(launch_and_evaluate pid=75448)\u001b[0m Updated model\n",
      "\u001b[36m(launch_and_evaluate pid=75448)\u001b[0m Run WITHOUT homomorphic encryption\n",
      "\u001b[36m(launch_and_evaluate pid=75448)\u001b[0m  To get the checkpoint\n",
      "\u001b[36m(launch_and_evaluate pid=75448)\u001b[0m [Client 3] evaluate, config: {}\n",
      "\u001b[36m(launch_and_evaluate pid=75448)\u001b[0m Updated model\n",
      "\u001b[36m(launch_and_evaluate pid=75448)\u001b[0m Run WITHOUT homomorphic encryption\n",
      "\u001b[36m(launch_and_evaluate pid=75448)\u001b[0m  To get the checkpoint\n",
      "\u001b[36m(launch_and_evaluate pid=75448)\u001b[0m [Client 0] evaluate, config: {}\n",
      "\u001b[36m(launch_and_evaluate pid=75448)\u001b[0m Updated model\n",
      "\u001b[36m(launch_and_evaluate pid=75448)\u001b[0m Run WITHOUT homomorphic encryption\n",
      "\u001b[36m(launch_and_evaluate pid=75448)\u001b[0m  To get the checkpoint\n",
      "\u001b[36m(launch_and_evaluate pid=75448)\u001b[0m [Client 2] evaluate, config: {}\n",
      "\u001b[36m(launch_and_evaluate pid=75448)\u001b[0m Updated model\n"
     ]
    },
    {
     "name": "stderr",
     "output_type": "stream",
     "text": [
      "DEBUG flwr 2024-08-30 02:44:00,726 | server.py:187 | evaluate_round 30 received 4 results and 0 failures\n",
      "DEBUG flwr 2024-08-30 02:44:00,726 | server.py:222 | fit_round 31: strategy sampled 4 clients (out of 4)\n"
     ]
    },
    {
     "name": "stdout",
     "output_type": "stream",
     "text": [
      "\u001b[36m(launch_and_fit pid=75448)\u001b[0m Run WITHOUT homomorphic encryption\n",
      "\u001b[36m(launch_and_fit pid=75448)\u001b[0m  To get the checkpoint\n",
      "\u001b[36m(launch_and_fit pid=75448)\u001b[0m [Client 1, round 31] fit, config: {'learning_rate': 0.003, 'batch_size': '32', 'server_round': 31, 'local_epochs': 10}\n",
      "\u001b[36m(launch_and_fit pid=75448)\u001b[0m Updated model\n"
     ]
    },
    {
     "name": "stderr",
     "output_type": "stream",
     "text": [
      "  0%|\u001b[34m          \u001b[0m| 0/10 [00:00<?, ?it/s]\n"
     ]
    },
    {
     "name": "stdout",
     "output_type": "stream",
     "text": [
      "\u001b[36m(launch_and_fit pid=75448)\u001b[0m \tTrain Epoch: 1 \tTrain_loss: 1.6816 | Train_acc: 39.1488 % | Validation_loss: 1.6747 | Validation_acc: 39.2663 %\n"
     ]
    },
    {
     "name": "stderr",
     "output_type": "stream",
     "text": [
      " 10%|\u001b[34m█         \u001b[0m| 1/10 [00:02<00:18,  2.00s/it]\n"
     ]
    },
    {
     "name": "stdout",
     "output_type": "stream",
     "text": [
      "\u001b[36m(launch_and_fit pid=75448)\u001b[0m \tTrain Epoch: 2 \tTrain_loss: 1.6201 | Train_acc: 44.8333 % | Validation_loss: 1.6194 | Validation_acc: 48.6413 %\n"
     ]
    },
    {
     "name": "stderr",
     "output_type": "stream",
     "text": [
      " 20%|\u001b[34m██        \u001b[0m| 2/10 [00:04<00:16,  2.00s/it]\n"
     ]
    },
    {
     "name": "stdout",
     "output_type": "stream",
     "text": [
      "\u001b[36m(launch_and_fit pid=75448)\u001b[0m \tTrain Epoch: 3 \tTrain_loss: 1.6034 | Train_acc: 46.6667 % | Validation_loss: 1.5728 | Validation_acc: 52.1739 %\n"
     ]
    },
    {
     "name": "stderr",
     "output_type": "stream",
     "text": [
      " 30%|\u001b[34m███       \u001b[0m| 3/10 [00:05<00:13,  1.97s/it]\n"
     ]
    },
    {
     "name": "stdout",
     "output_type": "stream",
     "text": [
      "\u001b[36m(launch_and_fit pid=75448)\u001b[0m \tTrain Epoch: 4 \tTrain_loss: 1.6122 | Train_acc: 45.2857 % | Validation_loss: 1.6451 | Validation_acc: 43.0254 %\n"
     ]
    },
    {
     "name": "stderr",
     "output_type": "stream",
     "text": [
      " 40%|\u001b[34m████      \u001b[0m| 4/10 [00:07<00:11,  1.97s/it]\n"
     ]
    },
    {
     "name": "stdout",
     "output_type": "stream",
     "text": [
      "\u001b[36m(launch_and_fit pid=75448)\u001b[0m \tTrain Epoch: 5 \tTrain_loss: 1.6300 | Train_acc: 44.0298 % | Validation_loss: 1.5662 | Validation_acc: 51.7663 %\n"
     ]
    },
    {
     "name": "stderr",
     "output_type": "stream",
     "text": [
      " 50%|\u001b[34m█████     \u001b[0m| 5/10 [00:09<00:09,  1.98s/it]\n"
     ]
    },
    {
     "name": "stdout",
     "output_type": "stream",
     "text": [
      "\u001b[36m(launch_and_fit pid=75448)\u001b[0m \tTrain Epoch: 6 \tTrain_loss: 1.6372 | Train_acc: 42.5298 % | Validation_loss: 1.5736 | Validation_acc: 49.6830 %\n"
     ]
    },
    {
     "name": "stderr",
     "output_type": "stream",
     "text": [
      " 60%|\u001b[34m██████    \u001b[0m| 6/10 [00:11<00:07,  1.98s/it]\n"
     ]
    },
    {
     "name": "stdout",
     "output_type": "stream",
     "text": [
      "\u001b[36m(launch_and_fit pid=75448)\u001b[0m \tTrain Epoch: 7 \tTrain_loss: 1.5910 | Train_acc: 46.7262 % | Validation_loss: 1.5597 | Validation_acc: 52.1739 %\n"
     ]
    },
    {
     "name": "stderr",
     "output_type": "stream",
     "text": [
      " 70%|\u001b[34m███████   \u001b[0m| 7/10 [00:13<00:05,  1.98s/it]\n"
     ]
    },
    {
     "name": "stdout",
     "output_type": "stream",
     "text": [
      "\u001b[36m(launch_and_fit pid=75448)\u001b[0m \tTrain Epoch: 8 \tTrain_loss: 1.6019 | Train_acc: 46.3333 % | Validation_loss: 1.5659 | Validation_acc: 52.1739 %\n"
     ]
    },
    {
     "name": "stderr",
     "output_type": "stream",
     "text": [
      " 80%|\u001b[34m████████  \u001b[0m| 8/10 [00:15<00:03,  1.97s/it]\n"
     ]
    },
    {
     "name": "stdout",
     "output_type": "stream",
     "text": [
      "\u001b[36m(launch_and_fit pid=75448)\u001b[0m \tTrain Epoch: 9 \tTrain_loss: 1.5783 | Train_acc: 47.0833 % | Validation_loss: 1.5860 | Validation_acc: 51.1322 %\n"
     ]
    },
    {
     "name": "stderr",
     "output_type": "stream",
     "text": [
      " 90%|\u001b[34m█████████ \u001b[0m| 9/10 [00:17<00:01,  1.96s/it]\n"
     ]
    },
    {
     "name": "stdout",
     "output_type": "stream",
     "text": [
      "\u001b[36m(launch_and_fit pid=75448)\u001b[0m \tTrain Epoch: 10 \tTrain_loss: 1.5748 | Train_acc: 48.8512 % | Validation_loss: 1.5600 | Validation_acc: 53.2156 %\n",
      "\u001b[36m(launch_and_fit pid=75448)\u001b[0m save graph in  results/FL/\n"
     ]
    },
    {
     "name": "stderr",
     "output_type": "stream",
     "text": [
      "100%|\u001b[34m██████████\u001b[0m| 10/10 [00:19<00:00,  1.97s/it]\n"
     ]
    },
    {
     "name": "stdout",
     "output_type": "stream",
     "text": [
      "\u001b[36m(launch_and_fit pid=75448)\u001b[0m Run WITHOUT homomorphic encryption\n",
      "\u001b[36m(launch_and_fit pid=75448)\u001b[0m  To get the checkpoint\n",
      "\u001b[36m(launch_and_fit pid=75448)\u001b[0m [Client 0, round 31] fit, config: {'learning_rate': 0.003, 'batch_size': '32', 'server_round': 31, 'local_epochs': 10}\n",
      "\u001b[36m(launch_and_fit pid=75448)\u001b[0m Updated model\n"
     ]
    },
    {
     "name": "stderr",
     "output_type": "stream",
     "text": [
      "  0%|\u001b[34m          \u001b[0m| 0/10 [00:00<?, ?it/s]\n"
     ]
    },
    {
     "name": "stdout",
     "output_type": "stream",
     "text": [
      "\u001b[36m(launch_and_fit pid=75448)\u001b[0m \tTrain Epoch: 1 \tTrain_loss: 1.6025 | Train_acc: 45.5238 % | Validation_loss: 1.7351 | Validation_acc: 39.6739 %\n"
     ]
    },
    {
     "name": "stderr",
     "output_type": "stream",
     "text": [
      " 10%|\u001b[34m█         \u001b[0m| 1/10 [00:02<00:18,  2.02s/it]\n"
     ]
    },
    {
     "name": "stdout",
     "output_type": "stream",
     "text": [
      "\u001b[36m(launch_and_fit pid=75448)\u001b[0m \tTrain Epoch: 2 \tTrain_loss: 1.5712 | Train_acc: 47.3452 % | Validation_loss: 1.7681 | Validation_acc: 33.8768 %\n"
     ]
    },
    {
     "name": "stderr",
     "output_type": "stream",
     "text": [
      " 20%|\u001b[34m██        \u001b[0m| 2/10 [00:04<00:16,  2.01s/it]\n"
     ]
    },
    {
     "name": "stdout",
     "output_type": "stream",
     "text": [
      "\u001b[36m(launch_and_fit pid=75448)\u001b[0m \tTrain Epoch: 3 \tTrain_loss: 1.5886 | Train_acc: 46.7857 % | Validation_loss: 1.7311 | Validation_acc: 40.3080 %\n"
     ]
    },
    {
     "name": "stderr",
     "output_type": "stream",
     "text": [
      " 30%|\u001b[34m███       \u001b[0m| 3/10 [00:06<00:13,  2.00s/it]\n"
     ]
    },
    {
     "name": "stdout",
     "output_type": "stream",
     "text": [
      "\u001b[36m(launch_and_fit pid=75448)\u001b[0m \tTrain Epoch: 4 \tTrain_loss: 1.5665 | Train_acc: 48.0893 % | Validation_loss: 1.7286 | Validation_acc: 35.9601 %\n"
     ]
    },
    {
     "name": "stderr",
     "output_type": "stream",
     "text": [
      " 40%|\u001b[34m████      \u001b[0m| 4/10 [00:07<00:11,  1.98s/it]\n"
     ]
    },
    {
     "name": "stdout",
     "output_type": "stream",
     "text": [
      "\u001b[36m(launch_and_fit pid=75448)\u001b[0m \tTrain Epoch: 5 \tTrain_loss: 1.5772 | Train_acc: 47.1548 % | Validation_loss: 1.7332 | Validation_acc: 35.9601 %\n"
     ]
    },
    {
     "name": "stderr",
     "output_type": "stream",
     "text": [
      " 50%|\u001b[34m█████     \u001b[0m| 5/10 [00:09<00:09,  1.97s/it]\n"
     ]
    },
    {
     "name": "stdout",
     "output_type": "stream",
     "text": [
      "\u001b[36m(launch_and_fit pid=75448)\u001b[0m \tTrain Epoch: 6 \tTrain_loss: 1.5605 | Train_acc: 49.0238 % | Validation_loss: 1.7883 | Validation_acc: 31.7935 %\n"
     ]
    },
    {
     "name": "stderr",
     "output_type": "stream",
     "text": [
      " 60%|\u001b[34m██████    \u001b[0m| 6/10 [00:11<00:07,  1.95s/it]\n"
     ]
    },
    {
     "name": "stdout",
     "output_type": "stream",
     "text": [
      "\u001b[36m(launch_and_fit pid=75448)\u001b[0m \tTrain Epoch: 7 \tTrain_loss: 1.5772 | Train_acc: 46.8333 % | Validation_loss: 1.8167 | Validation_acc: 33.4692 %\n"
     ]
    },
    {
     "name": "stderr",
     "output_type": "stream",
     "text": [
      " 70%|\u001b[34m███████   \u001b[0m| 7/10 [00:13<00:05,  1.94s/it]\n"
     ]
    },
    {
     "name": "stdout",
     "output_type": "stream",
     "text": [
      "\u001b[36m(launch_and_fit pid=75448)\u001b[0m \tTrain Epoch: 8 \tTrain_loss: 1.5676 | Train_acc: 46.8393 % | Validation_loss: 1.7779 | Validation_acc: 31.3859 %\n"
     ]
    },
    {
     "name": "stderr",
     "output_type": "stream",
     "text": [
      " 80%|\u001b[34m████████  \u001b[0m| 8/10 [00:15<00:03,  1.93s/it]\n"
     ]
    },
    {
     "name": "stdout",
     "output_type": "stream",
     "text": [
      "\u001b[36m(launch_and_fit pid=75448)\u001b[0m \tTrain Epoch: 9 \tTrain_loss: 1.5435 | Train_acc: 49.2143 % | Validation_loss: 1.7449 | Validation_acc: 37.8170 %\n"
     ]
    },
    {
     "name": "stderr",
     "output_type": "stream",
     "text": [
      " 90%|\u001b[34m█████████ \u001b[0m| 9/10 [00:17<00:01,  1.93s/it]\n"
     ]
    },
    {
     "name": "stdout",
     "output_type": "stream",
     "text": [
      "\u001b[36m(launch_and_fit pid=75448)\u001b[0m \tTrain Epoch: 10 \tTrain_loss: 1.5423 | Train_acc: 48.6488 % | Validation_loss: 1.7506 | Validation_acc: 38.8587 %\n",
      "\u001b[36m(launch_and_fit pid=75448)\u001b[0m save graph in  results/FL/\n"
     ]
    },
    {
     "name": "stderr",
     "output_type": "stream",
     "text": [
      "100%|\u001b[34m██████████\u001b[0m| 10/10 [00:19<00:00,  1.95s/it]\n"
     ]
    },
    {
     "name": "stdout",
     "output_type": "stream",
     "text": [
      "\u001b[36m(launch_and_fit pid=75448)\u001b[0m Run WITHOUT homomorphic encryption\n",
      "\u001b[36m(launch_and_fit pid=75448)\u001b[0m  To get the checkpoint\n",
      "\u001b[36m(launch_and_fit pid=75448)\u001b[0m [Client 3, round 31] fit, config: {'learning_rate': 0.003, 'batch_size': '32', 'server_round': 31, 'local_epochs': 10}\n",
      "\u001b[36m(launch_and_fit pid=75448)\u001b[0m Updated model\n"
     ]
    },
    {
     "name": "stderr",
     "output_type": "stream",
     "text": [
      "  0%|\u001b[34m          \u001b[0m| 0/10 [00:00<?, ?it/s]\n"
     ]
    },
    {
     "name": "stdout",
     "output_type": "stream",
     "text": [
      "\u001b[36m(launch_and_fit pid=75448)\u001b[0m \tTrain Epoch: 1 \tTrain_loss: 1.6264 | Train_acc: 46.7798 % | Validation_loss: 1.6965 | Validation_acc: 31.3859 %\n"
     ]
    },
    {
     "name": "stderr",
     "output_type": "stream",
     "text": [
      " 10%|\u001b[34m█         \u001b[0m| 1/10 [00:02<00:18,  2.03s/it]\n"
     ]
    },
    {
     "name": "stdout",
     "output_type": "stream",
     "text": [
      "\u001b[36m(launch_and_fit pid=75448)\u001b[0m \tTrain Epoch: 2 \tTrain_loss: 1.5999 | Train_acc: 46.4702 % | Validation_loss: 1.6766 | Validation_acc: 33.8768 %\n"
     ]
    },
    {
     "name": "stderr",
     "output_type": "stream",
     "text": [
      " 20%|\u001b[34m██        \u001b[0m| 2/10 [00:04<00:16,  2.02s/it]\n"
     ]
    },
    {
     "name": "stdout",
     "output_type": "stream",
     "text": [
      "\u001b[36m(launch_and_fit pid=75448)\u001b[0m \tTrain Epoch: 3 \tTrain_loss: 1.6185 | Train_acc: 45.5298 % | Validation_loss: 1.6866 | Validation_acc: 38.4511 %\n"
     ]
    },
    {
     "name": "stderr",
     "output_type": "stream",
     "text": [
      " 30%|\u001b[34m███       \u001b[0m| 3/10 [00:05<00:13,  1.99s/it]\n"
     ]
    },
    {
     "name": "stdout",
     "output_type": "stream",
     "text": [
      "\u001b[36m(launch_and_fit pid=75448)\u001b[0m \tTrain Epoch: 4 \tTrain_loss: 1.5887 | Train_acc: 49.0952 % | Validation_loss: 1.6936 | Validation_acc: 31.1594 %\n"
     ]
    },
    {
     "name": "stderr",
     "output_type": "stream",
     "text": [
      " 40%|\u001b[34m████      \u001b[0m| 4/10 [00:07<00:11,  1.96s/it]\n"
     ]
    },
    {
     "name": "stdout",
     "output_type": "stream",
     "text": [
      "\u001b[36m(launch_and_fit pid=75448)\u001b[0m \tTrain Epoch: 5 \tTrain_loss: 1.5803 | Train_acc: 49.3988 % | Validation_loss: 1.6532 | Validation_acc: 37.0018 %\n"
     ]
    },
    {
     "name": "stderr",
     "output_type": "stream",
     "text": [
      " 50%|\u001b[34m█████     \u001b[0m| 5/10 [00:09<00:09,  1.95s/it]\n"
     ]
    },
    {
     "name": "stdout",
     "output_type": "stream",
     "text": [
      "\u001b[36m(launch_and_fit pid=75448)\u001b[0m \tTrain Epoch: 6 \tTrain_loss: 1.5720 | Train_acc: 48.7202 % | Validation_loss: 1.6815 | Validation_acc: 37.8170 %\n"
     ]
    },
    {
     "name": "stderr",
     "output_type": "stream",
     "text": [
      " 60%|\u001b[34m██████    \u001b[0m| 6/10 [00:11<00:07,  1.94s/it]\n"
     ]
    },
    {
     "name": "stdout",
     "output_type": "stream",
     "text": [
      "\u001b[36m(launch_and_fit pid=75448)\u001b[0m \tTrain Epoch: 7 \tTrain_loss: 1.5804 | Train_acc: 49.5893 % | Validation_loss: 1.6433 | Validation_acc: 40.5344 %\n"
     ]
    },
    {
     "name": "stderr",
     "output_type": "stream",
     "text": [
      " 70%|\u001b[34m███████   \u001b[0m| 7/10 [00:13<00:05,  1.93s/it]\n"
     ]
    },
    {
     "name": "stdout",
     "output_type": "stream",
     "text": [
      "\u001b[36m(launch_and_fit pid=75448)\u001b[0m \tTrain Epoch: 8 \tTrain_loss: 1.5651 | Train_acc: 49.8393 % | Validation_loss: 1.6762 | Validation_acc: 36.3678 %\n"
     ]
    },
    {
     "name": "stderr",
     "output_type": "stream",
     "text": [
      " 80%|\u001b[34m████████  \u001b[0m| 8/10 [00:15<00:03,  1.93s/it]\n"
     ]
    },
    {
     "name": "stdout",
     "output_type": "stream",
     "text": [
      "\u001b[36m(launch_and_fit pid=75448)\u001b[0m \tTrain Epoch: 9 \tTrain_loss: 1.6835 | Train_acc: 39.0060 % | Validation_loss: 1.7767 | Validation_acc: 20.3804 %\n"
     ]
    },
    {
     "name": "stderr",
     "output_type": "stream",
     "text": [
      " 90%|\u001b[34m█████████ \u001b[0m| 9/10 [00:17<00:01,  1.93s/it]\n"
     ]
    },
    {
     "name": "stdout",
     "output_type": "stream",
     "text": [
      "\u001b[36m(launch_and_fit pid=75448)\u001b[0m \tTrain Epoch: 10 \tTrain_loss: 1.6663 | Train_acc: 42.9167 % | Validation_loss: 1.6671 | Validation_acc: 30.9783 %\n",
      "\u001b[36m(launch_and_fit pid=75448)\u001b[0m save graph in  results/FL/\n"
     ]
    },
    {
     "name": "stderr",
     "output_type": "stream",
     "text": [
      "100%|\u001b[34m██████████\u001b[0m| 10/10 [00:19<00:00,  1.94s/it]\n"
     ]
    },
    {
     "name": "stdout",
     "output_type": "stream",
     "text": [
      "\u001b[36m(launch_and_fit pid=75448)\u001b[0m Run WITHOUT homomorphic encryption\n",
      "\u001b[36m(launch_and_fit pid=75448)\u001b[0m  To get the checkpoint\n",
      "\u001b[36m(launch_and_fit pid=75448)\u001b[0m [Client 2, round 31] fit, config: {'learning_rate': 0.003, 'batch_size': '32', 'server_round': 31, 'local_epochs': 10}\n",
      "\u001b[36m(launch_and_fit pid=75448)\u001b[0m Updated model\n"
     ]
    },
    {
     "name": "stderr",
     "output_type": "stream",
     "text": [
      "  0%|\u001b[34m          \u001b[0m| 0/10 [00:00<?, ?it/s]\n"
     ]
    },
    {
     "name": "stdout",
     "output_type": "stream",
     "text": [
      "\u001b[36m(launch_and_fit pid=75448)\u001b[0m \tTrain Epoch: 1 \tTrain_loss: 1.8275 | Train_acc: 33.5179 % | Validation_loss: 1.7509 | Validation_acc: 44.0670 %\n"
     ]
    },
    {
     "name": "stderr",
     "output_type": "stream",
     "text": [
      " 10%|\u001b[34m█         \u001b[0m| 1/10 [00:02<00:18,  2.00s/it]\n"
     ]
    },
    {
     "name": "stdout",
     "output_type": "stream",
     "text": [
      "\u001b[36m(launch_and_fit pid=75448)\u001b[0m \tTrain Epoch: 2 \tTrain_loss: 1.7937 | Train_acc: 35.2738 % | Validation_loss: 1.6744 | Validation_acc: 41.9837 %\n"
     ]
    },
    {
     "name": "stderr",
     "output_type": "stream",
     "text": [
      " 20%|\u001b[34m██        \u001b[0m| 2/10 [00:03<00:15,  2.00s/it]\n"
     ]
    },
    {
     "name": "stdout",
     "output_type": "stream",
     "text": [
      "\u001b[36m(launch_and_fit pid=75448)\u001b[0m \tTrain Epoch: 3 \tTrain_loss: 1.7515 | Train_acc: 36.0774 % | Validation_loss: 1.6477 | Validation_acc: 43.0254 %\n"
     ]
    },
    {
     "name": "stderr",
     "output_type": "stream",
     "text": [
      " 30%|\u001b[34m███       \u001b[0m| 3/10 [00:05<00:13,  1.99s/it]\n"
     ]
    },
    {
     "name": "stdout",
     "output_type": "stream",
     "text": [
      "\u001b[36m(launch_and_fit pid=75448)\u001b[0m \tTrain Epoch: 4 \tTrain_loss: 1.7444 | Train_acc: 34.6548 % | Validation_loss: 1.6301 | Validation_acc: 45.1087 %\n"
     ]
    },
    {
     "name": "stderr",
     "output_type": "stream",
     "text": [
      " 40%|\u001b[34m████      \u001b[0m| 4/10 [00:07<00:11,  1.99s/it]\n"
     ]
    },
    {
     "name": "stdout",
     "output_type": "stream",
     "text": [
      "\u001b[36m(launch_and_fit pid=75448)\u001b[0m \tTrain Epoch: 5 \tTrain_loss: 1.7301 | Train_acc: 35.8333 % | Validation_loss: 1.6239 | Validation_acc: 46.5580 %\n"
     ]
    },
    {
     "name": "stderr",
     "output_type": "stream",
     "text": [
      " 50%|\u001b[34m█████     \u001b[0m| 5/10 [00:09<00:09,  1.99s/it]\n"
     ]
    },
    {
     "name": "stdout",
     "output_type": "stream",
     "text": [
      "\u001b[36m(launch_and_fit pid=75448)\u001b[0m \tTrain Epoch: 6 \tTrain_loss: 1.7356 | Train_acc: 34.8929 % | Validation_loss: 1.6107 | Validation_acc: 49.6830 %\n"
     ]
    },
    {
     "name": "stderr",
     "output_type": "stream",
     "text": [
      " 60%|\u001b[34m██████    \u001b[0m| 6/10 [00:11<00:07,  1.99s/it]\n"
     ]
    },
    {
     "name": "stdout",
     "output_type": "stream",
     "text": [
      "\u001b[36m(launch_and_fit pid=75448)\u001b[0m \tTrain Epoch: 7 \tTrain_loss: 1.7214 | Train_acc: 36.3333 % | Validation_loss: 1.6170 | Validation_acc: 45.5163 %\n"
     ]
    },
    {
     "name": "stderr",
     "output_type": "stream",
     "text": [
      " 70%|\u001b[34m███████   \u001b[0m| 7/10 [00:13<00:05,  1.99s/it]\n"
     ]
    },
    {
     "name": "stdout",
     "output_type": "stream",
     "text": [
      "\u001b[36m(launch_and_fit pid=75448)\u001b[0m \tTrain Epoch: 8 \tTrain_loss: 1.7208 | Train_acc: 36.3274 % | Validation_loss: 1.6257 | Validation_acc: 44.0670 %\n"
     ]
    },
    {
     "name": "stderr",
     "output_type": "stream",
     "text": [
      " 80%|\u001b[34m████████  \u001b[0m| 8/10 [00:15<00:03,  1.99s/it]\n"
     ]
    },
    {
     "name": "stdout",
     "output_type": "stream",
     "text": [
      "\u001b[36m(launch_and_fit pid=75448)\u001b[0m \tTrain Epoch: 9 \tTrain_loss: 1.7210 | Train_acc: 35.3274 % | Validation_loss: 1.6042 | Validation_acc: 49.0489 %\n"
     ]
    },
    {
     "name": "stderr",
     "output_type": "stream",
     "text": [
      " 90%|\u001b[34m█████████ \u001b[0m| 9/10 [00:17<00:01,  2.00s/it]\n",
      "100%|\u001b[34m██████████\u001b[0m| 10/10 [00:19<00:00,  2.00s/it]\n",
      "DEBUG flwr 2024-08-30 02:45:20,973 | server.py:236 | fit_round 31 received 4 results and 0 failures\n"
     ]
    },
    {
     "name": "stdout",
     "output_type": "stream",
     "text": [
      "\u001b[36m(launch_and_fit pid=75448)\u001b[0m \tTrain Epoch: 10 \tTrain_loss: 1.7062 | Train_acc: 36.2738 % | Validation_loss: 1.6067 | Validation_acc: 48.6413 %\n",
      "\u001b[36m(launch_and_fit pid=75448)\u001b[0m save graph in  results/FL/\n",
      "Saving round 31 aggregated_parameters...\n",
      "Updated model\n"
     ]
    },
    {
     "name": "stderr",
     "output_type": "stream",
     "text": [
      "INFO flwr 2024-08-30 02:45:21,734 | server.py:125 | fit progress: (31, 1.7068895399570465, {'accuracy': 36.495535714285715}, 3953.8644305579364)\n",
      "DEBUG flwr 2024-08-30 02:45:21,734 | server.py:173 | evaluate_round 31: strategy sampled 4 clients (out of 4)\n"
     ]
    },
    {
     "name": "stdout",
     "output_type": "stream",
     "text": [
      "Server-side evaluation loss 1.7068895399570465 / accuracy 36.495535714285715\n",
      "\u001b[36m(launch_and_evaluate pid=75448)\u001b[0m Run WITHOUT homomorphic encryption\n",
      "\u001b[36m(launch_and_evaluate pid=75448)\u001b[0m  To get the checkpoint\n",
      "\u001b[36m(launch_and_evaluate pid=75448)\u001b[0m [Client 3] evaluate, config: {}\n",
      "\u001b[36m(launch_and_evaluate pid=75448)\u001b[0m Updated model\n",
      "\u001b[36m(launch_and_evaluate pid=75448)\u001b[0m Run WITHOUT homomorphic encryption\n",
      "\u001b[36m(launch_and_evaluate pid=75448)\u001b[0m  To get the checkpoint\n",
      "\u001b[36m(launch_and_evaluate pid=75448)\u001b[0m [Client 2] evaluate, config: {}\n",
      "\u001b[36m(launch_and_evaluate pid=75448)\u001b[0m Updated model\n",
      "\u001b[36m(launch_and_evaluate pid=75448)\u001b[0m Run WITHOUT homomorphic encryption\n",
      "\u001b[36m(launch_and_evaluate pid=75448)\u001b[0m  To get the checkpoint\n",
      "\u001b[36m(launch_and_evaluate pid=75448)\u001b[0m [Client 1] evaluate, config: {}\n",
      "\u001b[36m(launch_and_evaluate pid=75448)\u001b[0m Updated model\n",
      "\u001b[36m(launch_and_evaluate pid=75448)\u001b[0m Run WITHOUT homomorphic encryption\n",
      "\u001b[36m(launch_and_evaluate pid=75448)\u001b[0m  To get the checkpoint\n",
      "\u001b[36m(launch_and_evaluate pid=75448)\u001b[0m [Client 0] evaluate, config: {}\n",
      "\u001b[36m(launch_and_evaluate pid=75448)\u001b[0m Updated model\n"
     ]
    },
    {
     "name": "stderr",
     "output_type": "stream",
     "text": [
      "DEBUG flwr 2024-08-30 02:45:24,199 | server.py:187 | evaluate_round 31 received 4 results and 0 failures\n",
      "DEBUG flwr 2024-08-30 02:45:24,199 | server.py:222 | fit_round 32: strategy sampled 4 clients (out of 4)\n"
     ]
    },
    {
     "name": "stdout",
     "output_type": "stream",
     "text": [
      "\u001b[36m(launch_and_fit pid=75448)\u001b[0m Run WITHOUT homomorphic encryption\n",
      "\u001b[36m(launch_and_fit pid=75448)\u001b[0m  To get the checkpoint\n",
      "\u001b[36m(launch_and_fit pid=75448)\u001b[0m [Client 2, round 32] fit, config: {'learning_rate': 0.003, 'batch_size': '32', 'server_round': 32, 'local_epochs': 10}\n",
      "\u001b[36m(launch_and_fit pid=75448)\u001b[0m Updated model\n"
     ]
    },
    {
     "name": "stderr",
     "output_type": "stream",
     "text": [
      "  0%|\u001b[34m          \u001b[0m| 0/10 [00:00<?, ?it/s]\n"
     ]
    },
    {
     "name": "stdout",
     "output_type": "stream",
     "text": [
      "\u001b[36m(launch_and_fit pid=75448)\u001b[0m \tTrain Epoch: 1 \tTrain_loss: 1.7092 | Train_acc: 40.3452 % | Validation_loss: 1.5809 | Validation_acc: 51.7663 %\n"
     ]
    },
    {
     "name": "stderr",
     "output_type": "stream",
     "text": [
      " 10%|\u001b[34m█         \u001b[0m| 1/10 [00:01<00:17,  1.94s/it]\n"
     ]
    },
    {
     "name": "stdout",
     "output_type": "stream",
     "text": [
      "\u001b[36m(launch_and_fit pid=75448)\u001b[0m \tTrain Epoch: 2 \tTrain_loss: 1.6454 | Train_acc: 44.1429 % | Validation_loss: 1.5966 | Validation_acc: 50.7246 %\n"
     ]
    },
    {
     "name": "stderr",
     "output_type": "stream",
     "text": [
      " 20%|\u001b[34m██        \u001b[0m| 2/10 [00:03<00:15,  1.93s/it]\n"
     ]
    },
    {
     "name": "stdout",
     "output_type": "stream",
     "text": [
      "\u001b[36m(launch_and_fit pid=75448)\u001b[0m \tTrain Epoch: 3 \tTrain_loss: 1.6848 | Train_acc: 41.2798 % | Validation_loss: 1.5731 | Validation_acc: 49.6830 %\n"
     ]
    },
    {
     "name": "stderr",
     "output_type": "stream",
     "text": [
      " 30%|\u001b[34m███       \u001b[0m| 3/10 [00:05<00:13,  1.92s/it]\n"
     ]
    },
    {
     "name": "stdout",
     "output_type": "stream",
     "text": [
      "\u001b[36m(launch_and_fit pid=75448)\u001b[0m \tTrain Epoch: 4 \tTrain_loss: 1.6583 | Train_acc: 43.7202 % | Validation_loss: 1.6008 | Validation_acc: 51.7663 %\n"
     ]
    },
    {
     "name": "stderr",
     "output_type": "stream",
     "text": [
      " 40%|\u001b[34m████      \u001b[0m| 4/10 [00:07<00:11,  1.91s/it]\n"
     ]
    },
    {
     "name": "stdout",
     "output_type": "stream",
     "text": [
      "\u001b[36m(launch_and_fit pid=75448)\u001b[0m \tTrain Epoch: 5 \tTrain_loss: 1.6471 | Train_acc: 44.2083 % | Validation_loss: 1.6090 | Validation_acc: 47.5996 %\n"
     ]
    },
    {
     "name": "stderr",
     "output_type": "stream",
     "text": [
      " 50%|\u001b[34m█████     \u001b[0m| 5/10 [00:09<00:09,  1.91s/it]\n"
     ]
    },
    {
     "name": "stdout",
     "output_type": "stream",
     "text": [
      "\u001b[36m(launch_and_fit pid=75448)\u001b[0m \tTrain Epoch: 6 \tTrain_loss: 1.6192 | Train_acc: 45.7083 % | Validation_loss: 1.6090 | Validation_acc: 50.7246 %\n"
     ]
    },
    {
     "name": "stderr",
     "output_type": "stream",
     "text": [
      " 60%|\u001b[34m██████    \u001b[0m| 6/10 [00:11<00:07,  1.91s/it]\n"
     ]
    },
    {
     "name": "stdout",
     "output_type": "stream",
     "text": [
      "\u001b[36m(launch_and_fit pid=75448)\u001b[0m \tTrain Epoch: 7 \tTrain_loss: 1.6326 | Train_acc: 44.8393 % | Validation_loss: 1.5915 | Validation_acc: 50.7246 %\n"
     ]
    },
    {
     "name": "stderr",
     "output_type": "stream",
     "text": [
      " 70%|\u001b[34m███████   \u001b[0m| 7/10 [00:13<00:05,  1.91s/it]\n"
     ]
    },
    {
     "name": "stdout",
     "output_type": "stream",
     "text": [
      "\u001b[36m(launch_and_fit pid=75448)\u001b[0m \tTrain Epoch: 8 \tTrain_loss: 1.6480 | Train_acc: 42.0952 % | Validation_loss: 1.5775 | Validation_acc: 50.7246 %\n"
     ]
    },
    {
     "name": "stderr",
     "output_type": "stream",
     "text": [
      " 80%|\u001b[34m████████  \u001b[0m| 8/10 [00:15<00:03,  1.91s/it]\n"
     ]
    },
    {
     "name": "stdout",
     "output_type": "stream",
     "text": [
      "\u001b[36m(launch_and_fit pid=75448)\u001b[0m \tTrain Epoch: 9 \tTrain_loss: 1.6200 | Train_acc: 46.7083 % | Validation_loss: 1.6041 | Validation_acc: 51.7663 %\n"
     ]
    },
    {
     "name": "stderr",
     "output_type": "stream",
     "text": [
      " 90%|\u001b[34m█████████ \u001b[0m| 9/10 [00:17<00:01,  1.90s/it]\n"
     ]
    },
    {
     "name": "stdout",
     "output_type": "stream",
     "text": [
      "\u001b[36m(launch_and_fit pid=75448)\u001b[0m \tTrain Epoch: 10 \tTrain_loss: 1.6167 | Train_acc: 45.2143 % | Validation_loss: 1.6133 | Validation_acc: 48.2337 %\n",
      "\u001b[36m(launch_and_fit pid=75448)\u001b[0m save graph in  results/FL/\n"
     ]
    },
    {
     "name": "stderr",
     "output_type": "stream",
     "text": [
      "100%|\u001b[34m██████████\u001b[0m| 10/10 [00:19<00:00,  1.91s/it]\n"
     ]
    },
    {
     "name": "stdout",
     "output_type": "stream",
     "text": [
      "\u001b[36m(launch_and_fit pid=75448)\u001b[0m Run WITHOUT homomorphic encryption\n",
      "\u001b[36m(launch_and_fit pid=75448)\u001b[0m  To get the checkpoint\n",
      "\u001b[36m(launch_and_fit pid=75448)\u001b[0m [Client 1, round 32] fit, config: {'learning_rate': 0.003, 'batch_size': '32', 'server_round': 32, 'local_epochs': 10}\n",
      "\u001b[36m(launch_and_fit pid=75448)\u001b[0m Updated model\n"
     ]
    },
    {
     "name": "stderr",
     "output_type": "stream",
     "text": [
      "  0%|\u001b[34m          \u001b[0m| 0/10 [00:00<?, ?it/s]\n"
     ]
    },
    {
     "name": "stdout",
     "output_type": "stream",
     "text": [
      "\u001b[36m(launch_and_fit pid=75448)\u001b[0m \tTrain Epoch: 1 \tTrain_loss: 1.6406 | Train_acc: 43.3988 % | Validation_loss: 1.6598 | Validation_acc: 44.0670 %\n"
     ]
    },
    {
     "name": "stderr",
     "output_type": "stream",
     "text": [
      " 10%|\u001b[34m█         \u001b[0m| 1/10 [00:02<00:18,  2.01s/it]\n"
     ]
    },
    {
     "name": "stdout",
     "output_type": "stream",
     "text": [
      "\u001b[36m(launch_and_fit pid=75448)\u001b[0m \tTrain Epoch: 2 \tTrain_loss: 1.6573 | Train_acc: 42.1488 % | Validation_loss: 1.5727 | Validation_acc: 50.7246 %\n"
     ]
    },
    {
     "name": "stderr",
     "output_type": "stream",
     "text": [
      " 20%|\u001b[34m██        \u001b[0m| 2/10 [00:04<00:16,  2.01s/it]\n"
     ]
    },
    {
     "name": "stdout",
     "output_type": "stream",
     "text": [
      "\u001b[36m(launch_and_fit pid=75448)\u001b[0m \tTrain Epoch: 3 \tTrain_loss: 1.6162 | Train_acc: 45.7262 % | Validation_loss: 1.5731 | Validation_acc: 49.6830 %\n"
     ]
    },
    {
     "name": "stderr",
     "output_type": "stream",
     "text": [
      " 30%|\u001b[34m███       \u001b[0m| 3/10 [00:06<00:14,  2.01s/it]\n"
     ]
    },
    {
     "name": "stdout",
     "output_type": "stream",
     "text": [
      "\u001b[36m(launch_and_fit pid=75448)\u001b[0m \tTrain Epoch: 4 \tTrain_loss: 1.5917 | Train_acc: 46.9643 % | Validation_loss: 1.6234 | Validation_acc: 47.1920 %\n"
     ]
    },
    {
     "name": "stderr",
     "output_type": "stream",
     "text": [
      " 40%|\u001b[34m████      \u001b[0m| 4/10 [00:08<00:13,  2.21s/it]\n"
     ]
    },
    {
     "name": "stdout",
     "output_type": "stream",
     "text": [
      "\u001b[36m(launch_and_fit pid=75448)\u001b[0m \tTrain Epoch: 5 \tTrain_loss: 1.6165 | Train_acc: 44.6607 % | Validation_loss: 1.6150 | Validation_acc: 46.1504 %\n"
     ]
    },
    {
     "name": "stderr",
     "output_type": "stream",
     "text": [
      " 50%|\u001b[34m█████     \u001b[0m| 5/10 [00:10<00:10,  2.11s/it]\n"
     ]
    },
    {
     "name": "stdout",
     "output_type": "stream",
     "text": [
      "\u001b[36m(launch_and_fit pid=75448)\u001b[0m \tTrain Epoch: 6 \tTrain_loss: 1.5918 | Train_acc: 45.8929 % | Validation_loss: 1.6411 | Validation_acc: 44.7011 %\n"
     ]
    },
    {
     "name": "stderr",
     "output_type": "stream",
     "text": [
      " 60%|\u001b[34m██████    \u001b[0m| 6/10 [00:12<00:08,  2.05s/it]\n"
     ]
    },
    {
     "name": "stdout",
     "output_type": "stream",
     "text": [
      "\u001b[36m(launch_and_fit pid=75448)\u001b[0m \tTrain Epoch: 7 \tTrain_loss: 1.6024 | Train_acc: 45.8452 % | Validation_loss: 1.6072 | Validation_acc: 45.1087 %\n"
     ]
    },
    {
     "name": "stderr",
     "output_type": "stream",
     "text": [
      " 70%|\u001b[34m███████   \u001b[0m| 7/10 [00:14<00:06,  2.01s/it]\n"
     ]
    },
    {
     "name": "stdout",
     "output_type": "stream",
     "text": [
      "\u001b[36m(launch_and_fit pid=75448)\u001b[0m \tTrain Epoch: 8 \tTrain_loss: 1.5788 | Train_acc: 48.2143 % | Validation_loss: 1.6369 | Validation_acc: 47.5996 %\n"
     ]
    },
    {
     "name": "stderr",
     "output_type": "stream",
     "text": [
      " 80%|\u001b[34m████████  \u001b[0m| 8/10 [00:16<00:03,  1.99s/it]\n"
     ]
    },
    {
     "name": "stdout",
     "output_type": "stream",
     "text": [
      "\u001b[36m(launch_and_fit pid=75448)\u001b[0m \tTrain Epoch: 9 \tTrain_loss: 1.5891 | Train_acc: 45.7202 % | Validation_loss: 1.6085 | Validation_acc: 48.6413 %\n"
     ]
    },
    {
     "name": "stderr",
     "output_type": "stream",
     "text": [
      " 90%|\u001b[34m█████████ \u001b[0m| 9/10 [00:18<00:01,  1.97s/it]\n"
     ]
    },
    {
     "name": "stdout",
     "output_type": "stream",
     "text": [
      "\u001b[36m(launch_and_fit pid=75448)\u001b[0m \tTrain Epoch: 10 \tTrain_loss: 1.5700 | Train_acc: 48.3988 % | Validation_loss: 1.5968 | Validation_acc: 52.5815 %\n",
      "\u001b[36m(launch_and_fit pid=75448)\u001b[0m save graph in  results/FL/\n",
      "\u001b[36m(launch_and_fit pid=75448)\u001b[0m Run WITHOUT homomorphic encryption\n",
      "\u001b[36m(launch_and_fit pid=75448)\u001b[0m  To get the checkpoint\n"
     ]
    },
    {
     "name": "stderr",
     "output_type": "stream",
     "text": [
      "100%|\u001b[34m██████████\u001b[0m| 10/10 [00:20<00:00,  2.02s/it]\n"
     ]
    },
    {
     "name": "stdout",
     "output_type": "stream",
     "text": [
      "\u001b[36m(launch_and_fit pid=75448)\u001b[0m [Client 0, round 32] fit, config: {'learning_rate': 0.003, 'batch_size': '32', 'server_round': 32, 'local_epochs': 10}\n",
      "\u001b[36m(launch_and_fit pid=75448)\u001b[0m Updated model\n"
     ]
    },
    {
     "name": "stderr",
     "output_type": "stream",
     "text": [
      "  0%|\u001b[34m          \u001b[0m| 0/10 [00:00<?, ?it/s]\n"
     ]
    },
    {
     "name": "stdout",
     "output_type": "stream",
     "text": [
      "\u001b[36m(launch_and_fit pid=75448)\u001b[0m \tTrain Epoch: 1 \tTrain_loss: 1.6325 | Train_acc: 44.7202 % | Validation_loss: 1.7238 | Validation_acc: 37.4094 %\n"
     ]
    },
    {
     "name": "stderr",
     "output_type": "stream",
     "text": [
      " 10%|\u001b[34m█         \u001b[0m| 1/10 [00:02<00:18,  2.04s/it]\n"
     ]
    },
    {
     "name": "stdout",
     "output_type": "stream",
     "text": [
      "\u001b[36m(launch_and_fit pid=75448)\u001b[0m \tTrain Epoch: 2 \tTrain_loss: 1.5835 | Train_acc: 48.5893 % | Validation_loss: 1.7026 | Validation_acc: 42.3913 %\n"
     ]
    },
    {
     "name": "stderr",
     "output_type": "stream",
     "text": [
      " 20%|\u001b[34m██        \u001b[0m| 2/10 [00:04<00:16,  2.03s/it]\n"
     ]
    },
    {
     "name": "stdout",
     "output_type": "stream",
     "text": [
      "\u001b[36m(launch_and_fit pid=75448)\u001b[0m \tTrain Epoch: 3 \tTrain_loss: 1.5491 | Train_acc: 49.8393 % | Validation_loss: 1.7785 | Validation_acc: 36.7754 %\n"
     ]
    },
    {
     "name": "stderr",
     "output_type": "stream",
     "text": [
      " 30%|\u001b[34m███       \u001b[0m| 3/10 [00:06<00:14,  2.02s/it]\n"
     ]
    },
    {
     "name": "stdout",
     "output_type": "stream",
     "text": [
      "\u001b[36m(launch_and_fit pid=75448)\u001b[0m \tTrain Epoch: 4 \tTrain_loss: 1.6137 | Train_acc: 44.3333 % | Validation_loss: 1.7813 | Validation_acc: 35.7337 %\n"
     ]
    },
    {
     "name": "stderr",
     "output_type": "stream",
     "text": [
      " 40%|\u001b[34m████      \u001b[0m| 4/10 [00:08<00:12,  2.01s/it]\n"
     ]
    },
    {
     "name": "stdout",
     "output_type": "stream",
     "text": [
      "\u001b[36m(launch_and_fit pid=75448)\u001b[0m \tTrain Epoch: 5 \tTrain_loss: 1.5844 | Train_acc: 47.9048 % | Validation_loss: 1.7826 | Validation_acc: 33.8768 %\n"
     ]
    },
    {
     "name": "stderr",
     "output_type": "stream",
     "text": [
      " 50%|\u001b[34m█████     \u001b[0m| 5/10 [00:10<00:10,  2.01s/it]\n"
     ]
    },
    {
     "name": "stdout",
     "output_type": "stream",
     "text": [
      "\u001b[36m(launch_and_fit pid=75448)\u001b[0m \tTrain Epoch: 6 \tTrain_loss: 1.5741 | Train_acc: 47.5952 % | Validation_loss: 1.7297 | Validation_acc: 39.2663 %\n"
     ]
    },
    {
     "name": "stderr",
     "output_type": "stream",
     "text": [
      " 60%|\u001b[34m██████    \u001b[0m| 6/10 [00:12<00:08,  2.01s/it]\n"
     ]
    },
    {
     "name": "stdout",
     "output_type": "stream",
     "text": [
      "\u001b[36m(launch_and_fit pid=75448)\u001b[0m \tTrain Epoch: 7 \tTrain_loss: 1.5713 | Train_acc: 46.6012 % | Validation_loss: 1.7344 | Validation_acc: 41.3496 %\n"
     ]
    },
    {
     "name": "stderr",
     "output_type": "stream",
     "text": [
      " 70%|\u001b[34m███████   \u001b[0m| 7/10 [00:14<00:06,  2.01s/it]\n"
     ]
    },
    {
     "name": "stdout",
     "output_type": "stream",
     "text": [
      "\u001b[36m(launch_and_fit pid=75448)\u001b[0m \tTrain Epoch: 8 \tTrain_loss: 1.5620 | Train_acc: 47.3988 % | Validation_loss: 1.7051 | Validation_acc: 38.8587 %\n"
     ]
    },
    {
     "name": "stderr",
     "output_type": "stream",
     "text": [
      " 80%|\u001b[34m████████  \u001b[0m| 8/10 [00:16<00:04,  2.01s/it]\n"
     ]
    },
    {
     "name": "stdout",
     "output_type": "stream",
     "text": [
      "\u001b[36m(launch_and_fit pid=75448)\u001b[0m \tTrain Epoch: 9 \tTrain_loss: 1.5688 | Train_acc: 47.7738 % | Validation_loss: 1.7016 | Validation_acc: 40.3080 %\n"
     ]
    },
    {
     "name": "stderr",
     "output_type": "stream",
     "text": [
      " 90%|\u001b[34m█████████ \u001b[0m| 9/10 [00:18<00:01,  1.99s/it]\n"
     ]
    },
    {
     "name": "stdout",
     "output_type": "stream",
     "text": [
      "\u001b[36m(launch_and_fit pid=75448)\u001b[0m \tTrain Epoch: 10 \tTrain_loss: 1.5553 | Train_acc: 48.2202 % | Validation_loss: 1.7474 | Validation_acc: 38.2246 %\n",
      "\u001b[36m(launch_and_fit pid=75448)\u001b[0m save graph in  results/FL/\n"
     ]
    },
    {
     "name": "stderr",
     "output_type": "stream",
     "text": [
      "100%|\u001b[34m██████████\u001b[0m| 10/10 [00:19<00:00,  2.00s/it]\n"
     ]
    },
    {
     "name": "stdout",
     "output_type": "stream",
     "text": [
      "\u001b[36m(launch_and_fit pid=75448)\u001b[0m Run WITHOUT homomorphic encryption\n",
      "\u001b[36m(launch_and_fit pid=75448)\u001b[0m  To get the checkpoint\n",
      "\u001b[36m(launch_and_fit pid=75448)\u001b[0m [Client 3, round 32] fit, config: {'learning_rate': 0.003, 'batch_size': '32', 'server_round': 32, 'local_epochs': 10}\n",
      "\u001b[36m(launch_and_fit pid=75448)\u001b[0m Updated model\n"
     ]
    },
    {
     "name": "stderr",
     "output_type": "stream",
     "text": [
      "  0%|\u001b[34m          \u001b[0m| 0/10 [00:00<?, ?it/s]\n"
     ]
    },
    {
     "name": "stdout",
     "output_type": "stream",
     "text": [
      "\u001b[36m(launch_and_fit pid=75448)\u001b[0m \tTrain Epoch: 1 \tTrain_loss: 1.6366 | Train_acc: 45.3452 % | Validation_loss: 1.6832 | Validation_acc: 34.9185 %\n"
     ]
    },
    {
     "name": "stderr",
     "output_type": "stream",
     "text": [
      " 10%|\u001b[34m█         \u001b[0m| 1/10 [00:02<00:18,  2.02s/it]\n"
     ]
    },
    {
     "name": "stdout",
     "output_type": "stream",
     "text": [
      "\u001b[36m(launch_and_fit pid=75448)\u001b[0m \tTrain Epoch: 2 \tTrain_loss: 1.6014 | Train_acc: 47.2262 % | Validation_loss: 1.6544 | Validation_acc: 34.5109 %\n"
     ]
    },
    {
     "name": "stderr",
     "output_type": "stream",
     "text": [
      " 20%|\u001b[34m██        \u001b[0m| 2/10 [00:04<00:16,  2.02s/it]\n"
     ]
    },
    {
     "name": "stdout",
     "output_type": "stream",
     "text": [
      "\u001b[36m(launch_and_fit pid=75448)\u001b[0m \tTrain Epoch: 3 \tTrain_loss: 1.5797 | Train_acc: 48.7798 % | Validation_loss: 1.6558 | Validation_acc: 38.0435 %\n"
     ]
    },
    {
     "name": "stderr",
     "output_type": "stream",
     "text": [
      " 30%|\u001b[34m███       \u001b[0m| 3/10 [00:06<00:14,  2.02s/it]\n"
     ]
    },
    {
     "name": "stdout",
     "output_type": "stream",
     "text": [
      "\u001b[36m(launch_and_fit pid=75448)\u001b[0m \tTrain Epoch: 4 \tTrain_loss: 1.5927 | Train_acc: 47.9107 % | Validation_loss: 1.6965 | Validation_acc: 32.8351 %\n"
     ]
    },
    {
     "name": "stderr",
     "output_type": "stream",
     "text": [
      " 40%|\u001b[34m████      \u001b[0m| 4/10 [00:08<00:12,  2.01s/it]\n"
     ]
    },
    {
     "name": "stdout",
     "output_type": "stream",
     "text": [
      "\u001b[36m(launch_and_fit pid=75448)\u001b[0m \tTrain Epoch: 5 \tTrain_loss: 1.5775 | Train_acc: 49.7083 % | Validation_loss: 1.6594 | Validation_acc: 33.4692 %\n"
     ]
    },
    {
     "name": "stderr",
     "output_type": "stream",
     "text": [
      " 50%|\u001b[34m█████     \u001b[0m| 5/10 [00:10<00:10,  2.01s/it]\n"
     ]
    },
    {
     "name": "stdout",
     "output_type": "stream",
     "text": [
      "\u001b[36m(launch_and_fit pid=75448)\u001b[0m \tTrain Epoch: 6 \tTrain_loss: 1.6181 | Train_acc: 44.6667 % | Validation_loss: 1.6695 | Validation_acc: 40.9420 %\n"
     ]
    },
    {
     "name": "stderr",
     "output_type": "stream",
     "text": [
      " 60%|\u001b[34m██████    \u001b[0m| 6/10 [00:12<00:08,  2.00s/it]\n"
     ]
    },
    {
     "name": "stdout",
     "output_type": "stream",
     "text": [
      "\u001b[36m(launch_and_fit pid=75448)\u001b[0m \tTrain Epoch: 7 \tTrain_loss: 1.6414 | Train_acc: 44.1548 % | Validation_loss: 1.6339 | Validation_acc: 36.5942 %\n"
     ]
    },
    {
     "name": "stderr",
     "output_type": "stream",
     "text": [
      " 70%|\u001b[34m███████   \u001b[0m| 7/10 [00:13<00:05,  1.98s/it]\n"
     ]
    },
    {
     "name": "stdout",
     "output_type": "stream",
     "text": [
      "\u001b[36m(launch_and_fit pid=75448)\u001b[0m \tTrain Epoch: 8 \tTrain_loss: 1.5776 | Train_acc: 49.5298 % | Validation_loss: 1.6309 | Validation_acc: 41.5761 %\n"
     ]
    },
    {
     "name": "stderr",
     "output_type": "stream",
     "text": [
      " 80%|\u001b[34m████████  \u001b[0m| 8/10 [00:15<00:03,  1.97s/it]\n"
     ]
    },
    {
     "name": "stdout",
     "output_type": "stream",
     "text": [
      "\u001b[36m(launch_and_fit pid=75448)\u001b[0m \tTrain Epoch: 9 \tTrain_loss: 1.5589 | Train_acc: 50.9762 % | Validation_loss: 1.6540 | Validation_acc: 41.5761 %\n"
     ]
    },
    {
     "name": "stderr",
     "output_type": "stream",
     "text": [
      " 90%|\u001b[34m█████████ \u001b[0m| 9/10 [00:17<00:01,  1.96s/it]\n",
      "100%|\u001b[34m██████████\u001b[0m| 10/10 [00:19<00:00,  1.98s/it]\n",
      "DEBUG flwr 2024-08-30 02:46:44,894 | server.py:236 | fit_round 32 received 4 results and 0 failures\n"
     ]
    },
    {
     "name": "stdout",
     "output_type": "stream",
     "text": [
      "\u001b[36m(launch_and_fit pid=75448)\u001b[0m \tTrain Epoch: 10 \tTrain_loss: 1.5591 | Train_acc: 50.7857 % | Validation_loss: 1.6583 | Validation_acc: 40.1268 %\n",
      "\u001b[36m(launch_and_fit pid=75448)\u001b[0m save graph in  results/FL/\n",
      "Saving round 32 aggregated_parameters...\n",
      "Updated model\n"
     ]
    },
    {
     "name": "stderr",
     "output_type": "stream",
     "text": [
      "INFO flwr 2024-08-30 02:46:45,671 | server.py:125 | fit progress: (32, 1.6542771075453078, {'accuracy': 44.04761904761905}, 4037.8019972271286)\n",
      "DEBUG flwr 2024-08-30 02:46:45,672 | server.py:173 | evaluate_round 32: strategy sampled 4 clients (out of 4)\n"
     ]
    },
    {
     "name": "stdout",
     "output_type": "stream",
     "text": [
      "Server-side evaluation loss 1.6542771075453078 / accuracy 44.04761904761905\n",
      "\u001b[36m(launch_and_evaluate pid=75448)\u001b[0m Run WITHOUT homomorphic encryption\n",
      "\u001b[36m(launch_and_evaluate pid=75448)\u001b[0m  To get the checkpoint\n",
      "\u001b[36m(launch_and_evaluate pid=75448)\u001b[0m [Client 2] evaluate, config: {}\n",
      "\u001b[36m(launch_and_evaluate pid=75448)\u001b[0m Updated model\n",
      "\u001b[36m(launch_and_evaluate pid=75448)\u001b[0m Run WITHOUT homomorphic encryption\n",
      "\u001b[36m(launch_and_evaluate pid=75448)\u001b[0m  To get the checkpoint\n",
      "\u001b[36m(launch_and_evaluate pid=75448)\u001b[0m [Client 3] evaluate, config: {}\n",
      "\u001b[36m(launch_and_evaluate pid=75448)\u001b[0m Updated model\n",
      "\u001b[36m(launch_and_evaluate pid=75448)\u001b[0m Run WITHOUT homomorphic encryption\n",
      "\u001b[36m(launch_and_evaluate pid=75448)\u001b[0m  To get the checkpoint\n",
      "\u001b[36m(launch_and_evaluate pid=75448)\u001b[0m [Client 0] evaluate, config: {}\n",
      "\u001b[36m(launch_and_evaluate pid=75448)\u001b[0m Updated model\n",
      "\u001b[36m(launch_and_evaluate pid=75448)\u001b[0m Run WITHOUT homomorphic encryption\n",
      "\u001b[36m(launch_and_evaluate pid=75448)\u001b[0m  To get the checkpoint\n",
      "\u001b[36m(launch_and_evaluate pid=75448)\u001b[0m [Client 1] evaluate, config: {}\n",
      "\u001b[36m(launch_and_evaluate pid=75448)\u001b[0m Updated model\n"
     ]
    },
    {
     "name": "stderr",
     "output_type": "stream",
     "text": [
      "DEBUG flwr 2024-08-30 02:46:48,232 | server.py:187 | evaluate_round 32 received 4 results and 0 failures\n",
      "DEBUG flwr 2024-08-30 02:46:48,233 | server.py:222 | fit_round 33: strategy sampled 4 clients (out of 4)\n"
     ]
    },
    {
     "name": "stdout",
     "output_type": "stream",
     "text": [
      "\u001b[36m(launch_and_fit pid=75448)\u001b[0m Run WITHOUT homomorphic encryption\n",
      "\u001b[36m(launch_and_fit pid=75448)\u001b[0m  To get the checkpoint\n",
      "\u001b[36m(launch_and_fit pid=75448)\u001b[0m [Client 3, round 33] fit, config: {'learning_rate': 0.003, 'batch_size': '32', 'server_round': 33, 'local_epochs': 10}\n",
      "\u001b[36m(launch_and_fit pid=75448)\u001b[0m Updated model\n"
     ]
    },
    {
     "name": "stderr",
     "output_type": "stream",
     "text": [
      "  0%|\u001b[34m          \u001b[0m| 0/10 [00:00<?, ?it/s]\n"
     ]
    },
    {
     "name": "stdout",
     "output_type": "stream",
     "text": [
      "\u001b[36m(launch_and_fit pid=75448)\u001b[0m \tTrain Epoch: 1 \tTrain_loss: 1.6280 | Train_acc: 46.7202 % | Validation_loss: 1.6776 | Validation_acc: 41.9837 %\n"
     ]
    },
    {
     "name": "stderr",
     "output_type": "stream",
     "text": [
      " 10%|\u001b[34m█         \u001b[0m| 1/10 [00:01<00:17,  1.93s/it]\n"
     ]
    },
    {
     "name": "stdout",
     "output_type": "stream",
     "text": [
      "\u001b[36m(launch_and_fit pid=75448)\u001b[0m \tTrain Epoch: 2 \tTrain_loss: 1.6017 | Train_acc: 48.0179 % | Validation_loss: 1.6706 | Validation_acc: 38.4511 %\n"
     ]
    },
    {
     "name": "stderr",
     "output_type": "stream",
     "text": [
      " 20%|\u001b[34m██        \u001b[0m| 2/10 [00:03<00:15,  1.93s/it]\n"
     ]
    },
    {
     "name": "stdout",
     "output_type": "stream",
     "text": [
      "\u001b[36m(launch_and_fit pid=75448)\u001b[0m \tTrain Epoch: 3 \tTrain_loss: 1.6119 | Train_acc: 46.7679 % | Validation_loss: 1.6547 | Validation_acc: 41.5761 %\n"
     ]
    },
    {
     "name": "stderr",
     "output_type": "stream",
     "text": [
      " 30%|\u001b[34m███       \u001b[0m| 3/10 [00:05<00:13,  1.92s/it]\n"
     ]
    },
    {
     "name": "stdout",
     "output_type": "stream",
     "text": [
      "\u001b[36m(launch_and_fit pid=75448)\u001b[0m \tTrain Epoch: 4 \tTrain_loss: 1.5790 | Train_acc: 49.3452 % | Validation_loss: 1.6739 | Validation_acc: 35.5525 %\n"
     ]
    },
    {
     "name": "stderr",
     "output_type": "stream",
     "text": [
      " 40%|\u001b[34m████      \u001b[0m| 4/10 [00:07<00:11,  1.92s/it]\n"
     ]
    },
    {
     "name": "stdout",
     "output_type": "stream",
     "text": [
      "\u001b[36m(launch_and_fit pid=75448)\u001b[0m \tTrain Epoch: 5 \tTrain_loss: 1.5671 | Train_acc: 48.9762 % | Validation_loss: 1.6559 | Validation_acc: 37.4094 %\n"
     ]
    },
    {
     "name": "stderr",
     "output_type": "stream",
     "text": [
      " 50%|\u001b[34m█████     \u001b[0m| 5/10 [00:09<00:09,  1.92s/it]\n"
     ]
    },
    {
     "name": "stdout",
     "output_type": "stream",
     "text": [
      "\u001b[36m(launch_and_fit pid=75448)\u001b[0m \tTrain Epoch: 6 \tTrain_loss: 1.5587 | Train_acc: 50.2857 % | Validation_loss: 1.6620 | Validation_acc: 39.0851 %\n"
     ]
    },
    {
     "name": "stderr",
     "output_type": "stream",
     "text": [
      " 60%|\u001b[34m██████    \u001b[0m| 6/10 [00:11<00:07,  1.92s/it]\n"
     ]
    },
    {
     "name": "stdout",
     "output_type": "stream",
     "text": [
      "\u001b[36m(launch_and_fit pid=75448)\u001b[0m \tTrain Epoch: 7 \tTrain_loss: 1.5660 | Train_acc: 50.4048 % | Validation_loss: 1.7069 | Validation_acc: 35.3261 %\n"
     ]
    },
    {
     "name": "stderr",
     "output_type": "stream",
     "text": [
      " 70%|\u001b[34m███████   \u001b[0m| 7/10 [00:13<00:05,  1.92s/it]\n"
     ]
    },
    {
     "name": "stdout",
     "output_type": "stream",
     "text": [
      "\u001b[36m(launch_and_fit pid=75448)\u001b[0m \tTrain Epoch: 8 \tTrain_loss: 1.5625 | Train_acc: 50.5298 % | Validation_loss: 1.6732 | Validation_acc: 39.9004 %\n"
     ]
    },
    {
     "name": "stderr",
     "output_type": "stream",
     "text": [
      " 80%|\u001b[34m████████  \u001b[0m| 8/10 [00:15<00:03,  1.92s/it]\n"
     ]
    },
    {
     "name": "stdout",
     "output_type": "stream",
     "text": [
      "\u001b[36m(launch_and_fit pid=75448)\u001b[0m \tTrain Epoch: 9 \tTrain_loss: 1.5556 | Train_acc: 51.0298 % | Validation_loss: 1.6626 | Validation_acc: 38.0435 %\n"
     ]
    },
    {
     "name": "stderr",
     "output_type": "stream",
     "text": [
      " 90%|\u001b[34m█████████ \u001b[0m| 9/10 [00:17<00:01,  1.92s/it]\n"
     ]
    },
    {
     "name": "stdout",
     "output_type": "stream",
     "text": [
      "\u001b[36m(launch_and_fit pid=75448)\u001b[0m \tTrain Epoch: 10 \tTrain_loss: 1.5414 | Train_acc: 51.5952 % | Validation_loss: 1.6622 | Validation_acc: 43.0254 %\n",
      "\u001b[36m(launch_and_fit pid=75448)\u001b[0m save graph in  results/FL/\n"
     ]
    },
    {
     "name": "stderr",
     "output_type": "stream",
     "text": [
      "100%|\u001b[34m██████████\u001b[0m| 10/10 [00:19<00:00,  1.92s/it]\n"
     ]
    },
    {
     "name": "stdout",
     "output_type": "stream",
     "text": [
      "\u001b[36m(launch_and_fit pid=75448)\u001b[0m Run WITHOUT homomorphic encryption\n",
      "\u001b[36m(launch_and_fit pid=75448)\u001b[0m  To get the checkpoint\n",
      "\u001b[36m(launch_and_fit pid=75448)\u001b[0m [Client 1, round 33] fit, config: {'learning_rate': 0.003, 'batch_size': '32', 'server_round': 33, 'local_epochs': 10}\n",
      "\u001b[36m(launch_and_fit pid=75448)\u001b[0m Updated model\n"
     ]
    },
    {
     "name": "stderr",
     "output_type": "stream",
     "text": [
      "  0%|\u001b[34m          \u001b[0m| 0/10 [00:00<?, ?it/s]\n"
     ]
    },
    {
     "name": "stdout",
     "output_type": "stream",
     "text": [
      "\u001b[36m(launch_and_fit pid=75448)\u001b[0m \tTrain Epoch: 1 \tTrain_loss: 1.6020 | Train_acc: 45.6488 % | Validation_loss: 1.5485 | Validation_acc: 52.8080 %\n"
     ]
    },
    {
     "name": "stderr",
     "output_type": "stream",
     "text": [
      " 10%|\u001b[34m█         \u001b[0m| 1/10 [00:02<00:18,  2.01s/it]\n"
     ]
    },
    {
     "name": "stdout",
     "output_type": "stream",
     "text": [
      "\u001b[36m(launch_and_fit pid=75448)\u001b[0m \tTrain Epoch: 2 \tTrain_loss: 1.5864 | Train_acc: 47.2143 % | Validation_loss: 1.6133 | Validation_acc: 47.5996 %\n"
     ]
    },
    {
     "name": "stderr",
     "output_type": "stream",
     "text": [
      " 20%|\u001b[34m██        \u001b[0m| 2/10 [00:04<00:15,  2.00s/it]\n"
     ]
    },
    {
     "name": "stdout",
     "output_type": "stream",
     "text": [
      "\u001b[36m(launch_and_fit pid=75448)\u001b[0m \tTrain Epoch: 3 \tTrain_loss: 1.5989 | Train_acc: 46.0952 % | Validation_loss: 1.6208 | Validation_acc: 46.5580 %\n"
     ]
    },
    {
     "name": "stderr",
     "output_type": "stream",
     "text": [
      " 30%|\u001b[34m███       \u001b[0m| 3/10 [00:05<00:13,  1.99s/it]\n"
     ]
    },
    {
     "name": "stdout",
     "output_type": "stream",
     "text": [
      "\u001b[36m(launch_and_fit pid=75448)\u001b[0m \tTrain Epoch: 4 \tTrain_loss: 1.5917 | Train_acc: 46.7798 % | Validation_loss: 1.6189 | Validation_acc: 49.0489 %\n"
     ]
    },
    {
     "name": "stderr",
     "output_type": "stream",
     "text": [
      " 40%|\u001b[34m████      \u001b[0m| 4/10 [00:07<00:11,  1.99s/it]\n"
     ]
    },
    {
     "name": "stdout",
     "output_type": "stream",
     "text": [
      "\u001b[36m(launch_and_fit pid=75448)\u001b[0m \tTrain Epoch: 5 \tTrain_loss: 1.5807 | Train_acc: 47.5893 % | Validation_loss: 1.6584 | Validation_acc: 45.5163 %\n"
     ]
    },
    {
     "name": "stderr",
     "output_type": "stream",
     "text": [
      " 50%|\u001b[34m█████     \u001b[0m| 5/10 [00:09<00:09,  1.99s/it]\n"
     ]
    },
    {
     "name": "stdout",
     "output_type": "stream",
     "text": [
      "\u001b[36m(launch_and_fit pid=75448)\u001b[0m \tTrain Epoch: 6 \tTrain_loss: 1.5678 | Train_acc: 48.4643 % | Validation_loss: 1.6969 | Validation_acc: 41.9837 %\n"
     ]
    },
    {
     "name": "stderr",
     "output_type": "stream",
     "text": [
      " 60%|\u001b[34m██████    \u001b[0m| 6/10 [00:11<00:07,  1.99s/it]\n"
     ]
    },
    {
     "name": "stdout",
     "output_type": "stream",
     "text": [
      "\u001b[36m(launch_and_fit pid=75448)\u001b[0m \tTrain Epoch: 7 \tTrain_loss: 1.6111 | Train_acc: 45.2143 % | Validation_loss: 1.6070 | Validation_acc: 51.1322 %\n"
     ]
    },
    {
     "name": "stderr",
     "output_type": "stream",
     "text": [
      " 70%|\u001b[34m███████   \u001b[0m| 7/10 [00:13<00:05,  1.96s/it]\n"
     ]
    },
    {
     "name": "stdout",
     "output_type": "stream",
     "text": [
      "\u001b[36m(launch_and_fit pid=75448)\u001b[0m \tTrain Epoch: 8 \tTrain_loss: 1.5803 | Train_acc: 46.4643 % | Validation_loss: 1.6612 | Validation_acc: 43.4330 %\n"
     ]
    },
    {
     "name": "stderr",
     "output_type": "stream",
     "text": [
      " 80%|\u001b[34m████████  \u001b[0m| 8/10 [00:15<00:03,  1.95s/it]\n"
     ]
    },
    {
     "name": "stdout",
     "output_type": "stream",
     "text": [
      "\u001b[36m(launch_and_fit pid=75448)\u001b[0m \tTrain Epoch: 9 \tTrain_loss: 1.5842 | Train_acc: 46.5893 % | Validation_loss: 1.5779 | Validation_acc: 51.7663 %\n"
     ]
    },
    {
     "name": "stderr",
     "output_type": "stream",
     "text": [
      " 90%|\u001b[34m█████████ \u001b[0m| 9/10 [00:17<00:01,  1.94s/it]\n"
     ]
    },
    {
     "name": "stdout",
     "output_type": "stream",
     "text": [
      "\u001b[36m(launch_and_fit pid=75448)\u001b[0m \tTrain Epoch: 10 \tTrain_loss: 1.5679 | Train_acc: 45.9583 % | Validation_loss: 1.6533 | Validation_acc: 41.5761 %\n",
      "\u001b[36m(launch_and_fit pid=75448)\u001b[0m save graph in  results/FL/\n"
     ]
    },
    {
     "name": "stderr",
     "output_type": "stream",
     "text": [
      "100%|\u001b[34m██████████\u001b[0m| 10/10 [00:19<00:00,  1.96s/it]\n"
     ]
    },
    {
     "name": "stdout",
     "output_type": "stream",
     "text": [
      "\u001b[36m(launch_and_fit pid=75448)\u001b[0m Run WITHOUT homomorphic encryption\n",
      "\u001b[36m(launch_and_fit pid=75448)\u001b[0m  To get the checkpoint\n",
      "\u001b[36m(launch_and_fit pid=75448)\u001b[0m [Client 0, round 33] fit, config: {'learning_rate': 0.003, 'batch_size': '32', 'server_round': 33, 'local_epochs': 10}\n",
      "\u001b[36m(launch_and_fit pid=75448)\u001b[0m Updated model\n"
     ]
    },
    {
     "name": "stderr",
     "output_type": "stream",
     "text": [
      "  0%|\u001b[34m          \u001b[0m| 0/10 [00:00<?, ?it/s]\n"
     ]
    },
    {
     "name": "stdout",
     "output_type": "stream",
     "text": [
      "\u001b[36m(launch_and_fit pid=75448)\u001b[0m \tTrain Epoch: 1 \tTrain_loss: 1.6953 | Train_acc: 40.2202 % | Validation_loss: 1.6962 | Validation_acc: 40.3080 %\n"
     ]
    },
    {
     "name": "stderr",
     "output_type": "stream",
     "text": [
      " 10%|\u001b[34m█         \u001b[0m| 1/10 [00:01<00:17,  1.92s/it]\n"
     ]
    },
    {
     "name": "stdout",
     "output_type": "stream",
     "text": [
      "\u001b[36m(launch_and_fit pid=75448)\u001b[0m \tTrain Epoch: 2 \tTrain_loss: 1.5831 | Train_acc: 46.6548 % | Validation_loss: 1.7452 | Validation_acc: 37.4094 %\n"
     ]
    },
    {
     "name": "stderr",
     "output_type": "stream",
     "text": [
      " 20%|\u001b[34m██        \u001b[0m| 2/10 [00:03<00:15,  1.96s/it]\n"
     ]
    },
    {
     "name": "stdout",
     "output_type": "stream",
     "text": [
      "\u001b[36m(launch_and_fit pid=75448)\u001b[0m \tTrain Epoch: 3 \tTrain_loss: 1.5859 | Train_acc: 47.8571 % | Validation_loss: 1.8266 | Validation_acc: 33.4692 %\n"
     ]
    },
    {
     "name": "stderr",
     "output_type": "stream",
     "text": [
      " 30%|\u001b[34m███       \u001b[0m| 3/10 [00:05<00:13,  1.97s/it]\n"
     ]
    },
    {
     "name": "stdout",
     "output_type": "stream",
     "text": [
      "\u001b[36m(launch_and_fit pid=75448)\u001b[0m \tTrain Epoch: 4 \tTrain_loss: 1.5852 | Train_acc: 46.8988 % | Validation_loss: 1.6887 | Validation_acc: 41.9837 %\n"
     ]
    },
    {
     "name": "stderr",
     "output_type": "stream",
     "text": [
      " 40%|\u001b[34m████      \u001b[0m| 4/10 [00:07<00:11,  1.96s/it]\n"
     ]
    },
    {
     "name": "stdout",
     "output_type": "stream",
     "text": [
      "\u001b[36m(launch_and_fit pid=75448)\u001b[0m \tTrain Epoch: 5 \tTrain_loss: 1.5434 | Train_acc: 49.9107 % | Validation_loss: 1.7440 | Validation_acc: 36.3678 %\n"
     ]
    },
    {
     "name": "stderr",
     "output_type": "stream",
     "text": [
      " 50%|\u001b[34m█████     \u001b[0m| 5/10 [00:09<00:09,  1.94s/it]\n"
     ]
    },
    {
     "name": "stdout",
     "output_type": "stream",
     "text": [
      "\u001b[36m(launch_and_fit pid=75448)\u001b[0m \tTrain Epoch: 6 \tTrain_loss: 1.5575 | Train_acc: 48.4048 % | Validation_loss: 1.7586 | Validation_acc: 36.1413 %\n"
     ]
    },
    {
     "name": "stderr",
     "output_type": "stream",
     "text": [
      " 60%|\u001b[34m██████    \u001b[0m| 6/10 [00:11<00:07,  1.96s/it]\n"
     ]
    },
    {
     "name": "stdout",
     "output_type": "stream",
     "text": [
      "\u001b[36m(launch_and_fit pid=75448)\u001b[0m \tTrain Epoch: 7 \tTrain_loss: 1.5612 | Train_acc: 48.0893 % | Validation_loss: 1.7333 | Validation_acc: 40.9420 %\n"
     ]
    },
    {
     "name": "stderr",
     "output_type": "stream",
     "text": [
      " 70%|\u001b[34m███████   \u001b[0m| 7/10 [00:13<00:05,  1.97s/it]\n"
     ]
    },
    {
     "name": "stdout",
     "output_type": "stream",
     "text": [
      "\u001b[36m(launch_and_fit pid=75448)\u001b[0m \tTrain Epoch: 8 \tTrain_loss: 1.5536 | Train_acc: 48.5893 % | Validation_loss: 1.8193 | Validation_acc: 37.0018 %\n"
     ]
    },
    {
     "name": "stderr",
     "output_type": "stream",
     "text": [
      " 80%|\u001b[34m████████  \u001b[0m| 8/10 [00:15<00:03,  1.98s/it]\n"
     ]
    },
    {
     "name": "stdout",
     "output_type": "stream",
     "text": [
      "\u001b[36m(launch_and_fit pid=75448)\u001b[0m \tTrain Epoch: 9 \tTrain_loss: 1.5846 | Train_acc: 46.0893 % | Validation_loss: 1.7597 | Validation_acc: 35.9601 %\n"
     ]
    },
    {
     "name": "stderr",
     "output_type": "stream",
     "text": [
      " 90%|\u001b[34m█████████ \u001b[0m| 9/10 [00:17<00:01,  1.97s/it]\n"
     ]
    },
    {
     "name": "stdout",
     "output_type": "stream",
     "text": [
      "\u001b[36m(launch_and_fit pid=75448)\u001b[0m \tTrain Epoch: 10 \tTrain_loss: 1.6261 | Train_acc: 44.0952 % | Validation_loss: 1.7364 | Validation_acc: 35.9601 %\n",
      "\u001b[36m(launch_and_fit pid=75448)\u001b[0m save graph in  results/FL/\n"
     ]
    },
    {
     "name": "stderr",
     "output_type": "stream",
     "text": [
      "100%|\u001b[34m██████████\u001b[0m| 10/10 [00:19<00:00,  1.96s/it]\n"
     ]
    },
    {
     "name": "stdout",
     "output_type": "stream",
     "text": [
      "\u001b[36m(launch_and_fit pid=75448)\u001b[0m Run WITHOUT homomorphic encryption\n",
      "\u001b[36m(launch_and_fit pid=75448)\u001b[0m  To get the checkpoint\n",
      "\u001b[36m(launch_and_fit pid=75448)\u001b[0m [Client 2, round 33] fit, config: {'learning_rate': 0.003, 'batch_size': '32', 'server_round': 33, 'local_epochs': 10}\n",
      "\u001b[36m(launch_and_fit pid=75448)\u001b[0m Updated model\n"
     ]
    },
    {
     "name": "stderr",
     "output_type": "stream",
     "text": [
      "  0%|\u001b[34m          \u001b[0m| 0/10 [00:00<?, ?it/s]\n"
     ]
    },
    {
     "name": "stdout",
     "output_type": "stream",
     "text": [
      "\u001b[36m(launch_and_fit pid=75448)\u001b[0m \tTrain Epoch: 1 \tTrain_loss: 1.6400 | Train_acc: 43.2738 % | Validation_loss: 1.5613 | Validation_acc: 51.7663 %\n"
     ]
    },
    {
     "name": "stderr",
     "output_type": "stream",
     "text": [
      " 10%|\u001b[34m█         \u001b[0m| 1/10 [00:01<00:17,  1.94s/it]\n"
     ]
    },
    {
     "name": "stdout",
     "output_type": "stream",
     "text": [
      "\u001b[36m(launch_and_fit pid=75448)\u001b[0m \tTrain Epoch: 2 \tTrain_loss: 1.6615 | Train_acc: 41.1488 % | Validation_loss: 1.5995 | Validation_acc: 48.6413 %\n"
     ]
    },
    {
     "name": "stderr",
     "output_type": "stream",
     "text": [
      " 20%|\u001b[34m██        \u001b[0m| 2/10 [00:03<00:15,  1.93s/it]\n"
     ]
    },
    {
     "name": "stdout",
     "output_type": "stream",
     "text": [
      "\u001b[36m(launch_and_fit pid=75448)\u001b[0m \tTrain Epoch: 3 \tTrain_loss: 1.6472 | Train_acc: 43.5833 % | Validation_loss: 1.6037 | Validation_acc: 49.2754 %\n"
     ]
    },
    {
     "name": "stderr",
     "output_type": "stream",
     "text": [
      " 30%|\u001b[34m███       \u001b[0m| 3/10 [00:05<00:13,  1.93s/it]\n"
     ]
    },
    {
     "name": "stdout",
     "output_type": "stream",
     "text": [
      "\u001b[36m(launch_and_fit pid=75448)\u001b[0m \tTrain Epoch: 4 \tTrain_loss: 1.6900 | Train_acc: 40.1488 % | Validation_loss: 1.6022 | Validation_acc: 48.6413 %\n"
     ]
    },
    {
     "name": "stderr",
     "output_type": "stream",
     "text": [
      " 40%|\u001b[34m████      \u001b[0m| 4/10 [00:07<00:11,  1.93s/it]\n"
     ]
    },
    {
     "name": "stdout",
     "output_type": "stream",
     "text": [
      "\u001b[36m(launch_and_fit pid=75448)\u001b[0m \tTrain Epoch: 5 \tTrain_loss: 1.6451 | Train_acc: 44.1607 % | Validation_loss: 1.5832 | Validation_acc: 47.5996 %\n"
     ]
    },
    {
     "name": "stderr",
     "output_type": "stream",
     "text": [
      " 50%|\u001b[34m█████     \u001b[0m| 5/10 [00:09<00:09,  1.93s/it]\n"
     ]
    },
    {
     "name": "stdout",
     "output_type": "stream",
     "text": [
      "\u001b[36m(launch_and_fit pid=75448)\u001b[0m \tTrain Epoch: 6 \tTrain_loss: 1.6233 | Train_acc: 45.1607 % | Validation_loss: 1.5649 | Validation_acc: 53.8496 %\n"
     ]
    },
    {
     "name": "stderr",
     "output_type": "stream",
     "text": [
      " 60%|\u001b[34m██████    \u001b[0m| 6/10 [00:11<00:07,  1.93s/it]\n"
     ]
    },
    {
     "name": "stdout",
     "output_type": "stream",
     "text": [
      "\u001b[36m(launch_and_fit pid=75448)\u001b[0m \tTrain Epoch: 7 \tTrain_loss: 1.6255 | Train_acc: 44.7202 % | Validation_loss: 1.5522 | Validation_acc: 51.7663 %\n"
     ]
    },
    {
     "name": "stderr",
     "output_type": "stream",
     "text": [
      " 70%|\u001b[34m███████   \u001b[0m| 7/10 [00:13<00:05,  1.93s/it]\n"
     ]
    },
    {
     "name": "stdout",
     "output_type": "stream",
     "text": [
      "\u001b[36m(launch_and_fit pid=75448)\u001b[0m \tTrain Epoch: 8 \tTrain_loss: 1.6140 | Train_acc: 46.3988 % | Validation_loss: 1.5616 | Validation_acc: 52.8080 %\n"
     ]
    },
    {
     "name": "stderr",
     "output_type": "stream",
     "text": [
      " 80%|\u001b[34m████████  \u001b[0m| 8/10 [00:15<00:03,  1.93s/it]\n"
     ]
    },
    {
     "name": "stdout",
     "output_type": "stream",
     "text": [
      "\u001b[36m(launch_and_fit pid=75448)\u001b[0m \tTrain Epoch: 9 \tTrain_loss: 1.6166 | Train_acc: 45.7143 % | Validation_loss: 1.5783 | Validation_acc: 49.6830 %\n"
     ]
    },
    {
     "name": "stderr",
     "output_type": "stream",
     "text": [
      " 90%|\u001b[34m█████████ \u001b[0m| 9/10 [00:17<00:01,  1.93s/it]\n",
      "100%|\u001b[34m██████████\u001b[0m| 10/10 [00:19<00:00,  1.93s/it]\n",
      "DEBUG flwr 2024-08-30 02:48:07,671 | server.py:236 | fit_round 33 received 4 results and 0 failures\n"
     ]
    },
    {
     "name": "stdout",
     "output_type": "stream",
     "text": [
      "\u001b[36m(launch_and_fit pid=75448)\u001b[0m \tTrain Epoch: 10 \tTrain_loss: 1.6400 | Train_acc: 41.8393 % | Validation_loss: 1.5529 | Validation_acc: 54.8913 %\n",
      "\u001b[36m(launch_and_fit pid=75448)\u001b[0m save graph in  results/FL/\n",
      "Saving round 33 aggregated_parameters...\n",
      "Updated model\n"
     ]
    },
    {
     "name": "stderr",
     "output_type": "stream",
     "text": [
      "INFO flwr 2024-08-30 02:48:08,528 | server.py:125 | fit progress: (33, 1.639534831047058, {'accuracy': 45.01488095238095}, 4120.658482213039)\n",
      "DEBUG flwr 2024-08-30 02:48:08,529 | server.py:173 | evaluate_round 33: strategy sampled 4 clients (out of 4)\n"
     ]
    },
    {
     "name": "stdout",
     "output_type": "stream",
     "text": [
      "Server-side evaluation loss 1.639534831047058 / accuracy 45.01488095238095\n",
      "\u001b[36m(launch_and_evaluate pid=75448)\u001b[0m Run WITHOUT homomorphic encryption\n",
      "\u001b[36m(launch_and_evaluate pid=75448)\u001b[0m  To get the checkpoint\n",
      "\u001b[36m(launch_and_evaluate pid=75448)\u001b[0m [Client 3] evaluate, config: {}\n",
      "\u001b[36m(launch_and_evaluate pid=75448)\u001b[0m Updated model\n",
      "\u001b[36m(launch_and_evaluate pid=75448)\u001b[0m Run WITHOUT homomorphic encryption\n",
      "\u001b[36m(launch_and_evaluate pid=75448)\u001b[0m  To get the checkpoint\n",
      "\u001b[36m(launch_and_evaluate pid=75448)\u001b[0m [Client 1] evaluate, config: {}\n",
      "\u001b[36m(launch_and_evaluate pid=75448)\u001b[0m Updated model\n",
      "\u001b[36m(launch_and_evaluate pid=75448)\u001b[0m Run WITHOUT homomorphic encryption\n",
      "\u001b[36m(launch_and_evaluate pid=75448)\u001b[0m  To get the checkpoint\n",
      "\u001b[36m(launch_and_evaluate pid=75448)\u001b[0m [Client 0] evaluate, config: {}\n",
      "\u001b[36m(launch_and_evaluate pid=75448)\u001b[0m Updated model\n",
      "\u001b[36m(launch_and_evaluate pid=75448)\u001b[0m Run WITHOUT homomorphic encryption\n",
      "\u001b[36m(launch_and_evaluate pid=75448)\u001b[0m  To get the checkpoint\n",
      "\u001b[36m(launch_and_evaluate pid=75448)\u001b[0m [Client 2] evaluate, config: {}\n",
      "\u001b[36m(launch_and_evaluate pid=75448)\u001b[0m Updated model\n"
     ]
    },
    {
     "name": "stderr",
     "output_type": "stream",
     "text": [
      "DEBUG flwr 2024-08-30 02:48:11,034 | server.py:187 | evaluate_round 33 received 4 results and 0 failures\n",
      "DEBUG flwr 2024-08-30 02:48:11,035 | server.py:222 | fit_round 34: strategy sampled 4 clients (out of 4)\n"
     ]
    },
    {
     "name": "stdout",
     "output_type": "stream",
     "text": [
      "\u001b[36m(launch_and_fit pid=75448)\u001b[0m Run WITHOUT homomorphic encryption\n",
      "\u001b[36m(launch_and_fit pid=75448)\u001b[0m  To get the checkpoint\n",
      "\u001b[36m(launch_and_fit pid=75448)\u001b[0m [Client 2, round 34] fit, config: {'learning_rate': 0.003, 'batch_size': '32', 'server_round': 34, 'local_epochs': 10}\n",
      "\u001b[36m(launch_and_fit pid=75448)\u001b[0m Updated model\n"
     ]
    },
    {
     "name": "stderr",
     "output_type": "stream",
     "text": [
      "  0%|\u001b[34m          \u001b[0m| 0/10 [00:00<?, ?it/s]\n"
     ]
    },
    {
     "name": "stdout",
     "output_type": "stream",
     "text": [
      "\u001b[36m(launch_and_fit pid=75448)\u001b[0m \tTrain Epoch: 1 \tTrain_loss: 1.6524 | Train_acc: 43.2202 % | Validation_loss: 1.6122 | Validation_acc: 48.6413 %\n"
     ]
    },
    {
     "name": "stderr",
     "output_type": "stream",
     "text": [
      " 10%|\u001b[34m█         \u001b[0m| 1/10 [00:02<00:18,  2.01s/it]\n"
     ]
    },
    {
     "name": "stdout",
     "output_type": "stream",
     "text": [
      "\u001b[36m(launch_and_fit pid=75448)\u001b[0m \tTrain Epoch: 2 \tTrain_loss: 1.6170 | Train_acc: 45.9643 % | Validation_loss: 1.5650 | Validation_acc: 51.7663 %\n"
     ]
    },
    {
     "name": "stderr",
     "output_type": "stream",
     "text": [
      " 20%|\u001b[34m██        \u001b[0m| 2/10 [00:03<00:15,  1.96s/it]\n"
     ]
    },
    {
     "name": "stdout",
     "output_type": "stream",
     "text": [
      "\u001b[36m(launch_and_fit pid=75448)\u001b[0m \tTrain Epoch: 3 \tTrain_loss: 1.6018 | Train_acc: 47.6607 % | Validation_loss: 1.5569 | Validation_acc: 48.6413 %\n"
     ]
    },
    {
     "name": "stderr",
     "output_type": "stream",
     "text": [
      " 30%|\u001b[34m███       \u001b[0m| 3/10 [00:05<00:13,  1.94s/it]\n"
     ]
    },
    {
     "name": "stdout",
     "output_type": "stream",
     "text": [
      "\u001b[36m(launch_and_fit pid=75448)\u001b[0m \tTrain Epoch: 4 \tTrain_loss: 1.6289 | Train_acc: 43.1488 % | Validation_loss: 1.6384 | Validation_acc: 49.2754 %\n"
     ]
    },
    {
     "name": "stderr",
     "output_type": "stream",
     "text": [
      " 40%|\u001b[34m████      \u001b[0m| 4/10 [00:07<00:11,  1.92s/it]\n"
     ]
    },
    {
     "name": "stdout",
     "output_type": "stream",
     "text": [
      "\u001b[36m(launch_and_fit pid=75448)\u001b[0m \tTrain Epoch: 5 \tTrain_loss: 1.6319 | Train_acc: 44.8393 % | Validation_loss: 1.5579 | Validation_acc: 52.8080 %\n"
     ]
    },
    {
     "name": "stderr",
     "output_type": "stream",
     "text": [
      " 50%|\u001b[34m█████     \u001b[0m| 5/10 [00:09<00:09,  1.92s/it]\n"
     ]
    },
    {
     "name": "stdout",
     "output_type": "stream",
     "text": [
      "\u001b[36m(launch_and_fit pid=75448)\u001b[0m \tTrain Epoch: 6 \tTrain_loss: 1.5967 | Train_acc: 48.7917 % | Validation_loss: 1.5748 | Validation_acc: 49.6830 %\n"
     ]
    },
    {
     "name": "stderr",
     "output_type": "stream",
     "text": [
      " 60%|\u001b[34m██████    \u001b[0m| 6/10 [00:11<00:07,  1.92s/it]\n"
     ]
    },
    {
     "name": "stdout",
     "output_type": "stream",
     "text": [
      "\u001b[36m(launch_and_fit pid=75448)\u001b[0m \tTrain Epoch: 7 \tTrain_loss: 1.5908 | Train_acc: 46.7857 % | Validation_loss: 1.5562 | Validation_acc: 49.6830 %\n"
     ]
    },
    {
     "name": "stderr",
     "output_type": "stream",
     "text": [
      " 70%|\u001b[34m███████   \u001b[0m| 7/10 [00:13<00:05,  1.91s/it]\n"
     ]
    },
    {
     "name": "stdout",
     "output_type": "stream",
     "text": [
      "\u001b[36m(launch_and_fit pid=75448)\u001b[0m \tTrain Epoch: 8 \tTrain_loss: 1.6174 | Train_acc: 45.9702 % | Validation_loss: 1.5889 | Validation_acc: 48.6413 %\n"
     ]
    },
    {
     "name": "stderr",
     "output_type": "stream",
     "text": [
      " 80%|\u001b[34m████████  \u001b[0m| 8/10 [00:15<00:03,  1.92s/it]\n"
     ]
    },
    {
     "name": "stdout",
     "output_type": "stream",
     "text": [
      "\u001b[36m(launch_and_fit pid=75448)\u001b[0m \tTrain Epoch: 9 \tTrain_loss: 1.6057 | Train_acc: 47.2798 % | Validation_loss: 1.5750 | Validation_acc: 51.7663 %\n"
     ]
    },
    {
     "name": "stderr",
     "output_type": "stream",
     "text": [
      " 90%|\u001b[34m█████████ \u001b[0m| 9/10 [00:17<00:01,  1.91s/it]\n"
     ]
    },
    {
     "name": "stdout",
     "output_type": "stream",
     "text": [
      "\u001b[36m(launch_and_fit pid=75448)\u001b[0m \tTrain Epoch: 10 \tTrain_loss: 1.5861 | Train_acc: 48.6548 % | Validation_loss: 1.5497 | Validation_acc: 51.7663 %\n",
      "\u001b[36m(launch_and_fit pid=75448)\u001b[0m save graph in  results/FL/\n"
     ]
    },
    {
     "name": "stderr",
     "output_type": "stream",
     "text": [
      "100%|\u001b[34m██████████\u001b[0m| 10/10 [00:19<00:00,  1.92s/it]\n"
     ]
    },
    {
     "name": "stdout",
     "output_type": "stream",
     "text": [
      "\u001b[36m(launch_and_fit pid=75448)\u001b[0m Run WITHOUT homomorphic encryption\n",
      "\u001b[36m(launch_and_fit pid=75448)\u001b[0m  To get the checkpoint\n",
      "\u001b[36m(launch_and_fit pid=75448)\u001b[0m [Client 0, round 34] fit, config: {'learning_rate': 0.003, 'batch_size': '32', 'server_round': 34, 'local_epochs': 10}\n",
      "\u001b[36m(launch_and_fit pid=75448)\u001b[0m Updated model\n"
     ]
    },
    {
     "name": "stderr",
     "output_type": "stream",
     "text": [
      "  0%|\u001b[34m          \u001b[0m| 0/10 [00:00<?, ?it/s]\n"
     ]
    },
    {
     "name": "stdout",
     "output_type": "stream",
     "text": [
      "\u001b[36m(launch_and_fit pid=75448)\u001b[0m \tTrain Epoch: 1 \tTrain_loss: 1.5946 | Train_acc: 46.2381 % | Validation_loss: 1.6878 | Validation_acc: 37.0018 %\n"
     ]
    },
    {
     "name": "stderr",
     "output_type": "stream",
     "text": [
      " 10%|\u001b[34m█         \u001b[0m| 1/10 [00:02<00:22,  2.55s/it]\n"
     ]
    },
    {
     "name": "stdout",
     "output_type": "stream",
     "text": [
      "\u001b[36m(launch_and_fit pid=75448)\u001b[0m \tTrain Epoch: 2 \tTrain_loss: 1.5671 | Train_acc: 47.7262 % | Validation_loss: 1.7866 | Validation_acc: 34.2844 %\n"
     ]
    },
    {
     "name": "stderr",
     "output_type": "stream",
     "text": [
      " 20%|\u001b[34m██        \u001b[0m| 2/10 [00:04<00:17,  2.19s/it]\n"
     ]
    },
    {
     "name": "stdout",
     "output_type": "stream",
     "text": [
      "\u001b[36m(launch_and_fit pid=75448)\u001b[0m \tTrain Epoch: 3 \tTrain_loss: 1.5798 | Train_acc: 46.2798 % | Validation_loss: 1.7667 | Validation_acc: 35.7337 %\n"
     ]
    },
    {
     "name": "stderr",
     "output_type": "stream",
     "text": [
      " 30%|\u001b[34m███       \u001b[0m| 3/10 [00:06<00:14,  2.08s/it]\n"
     ]
    },
    {
     "name": "stdout",
     "output_type": "stream",
     "text": [
      "\u001b[36m(launch_and_fit pid=75448)\u001b[0m \tTrain Epoch: 4 \tTrain_loss: 1.5847 | Train_acc: 45.5298 % | Validation_loss: 1.7828 | Validation_acc: 35.9601 %\n"
     ]
    },
    {
     "name": "stderr",
     "output_type": "stream",
     "text": [
      " 40%|\u001b[34m████      \u001b[0m| 4/10 [00:08<00:12,  2.02s/it]\n"
     ]
    },
    {
     "name": "stdout",
     "output_type": "stream",
     "text": [
      "\u001b[36m(launch_and_fit pid=75448)\u001b[0m \tTrain Epoch: 5 \tTrain_loss: 1.5546 | Train_acc: 47.6667 % | Validation_loss: 1.7409 | Validation_acc: 42.7989 %\n"
     ]
    },
    {
     "name": "stderr",
     "output_type": "stream",
     "text": [
      " 50%|\u001b[34m█████     \u001b[0m| 5/10 [00:10<00:09,  1.99s/it]\n"
     ]
    },
    {
     "name": "stdout",
     "output_type": "stream",
     "text": [
      "\u001b[36m(launch_and_fit pid=75448)\u001b[0m \tTrain Epoch: 6 \tTrain_loss: 1.5428 | Train_acc: 49.4107 % | Validation_loss: 1.7675 | Validation_acc: 35.3261 %\n"
     ]
    },
    {
     "name": "stderr",
     "output_type": "stream",
     "text": [
      " 60%|\u001b[34m██████    \u001b[0m| 6/10 [00:12<00:07,  1.98s/it]\n"
     ]
    },
    {
     "name": "stdout",
     "output_type": "stream",
     "text": [
      "\u001b[36m(launch_and_fit pid=75448)\u001b[0m \tTrain Epoch: 7 \tTrain_loss: 1.5429 | Train_acc: 49.0298 % | Validation_loss: 1.7130 | Validation_acc: 37.4094 %\n"
     ]
    },
    {
     "name": "stderr",
     "output_type": "stream",
     "text": [
      " 70%|\u001b[34m███████   \u001b[0m| 7/10 [00:14<00:05,  1.99s/it]\n"
     ]
    },
    {
     "name": "stdout",
     "output_type": "stream",
     "text": [
      "\u001b[36m(launch_and_fit pid=75448)\u001b[0m \tTrain Epoch: 8 \tTrain_loss: 1.5786 | Train_acc: 46.2143 % | Validation_loss: 1.7729 | Validation_acc: 35.7337 %\n"
     ]
    },
    {
     "name": "stderr",
     "output_type": "stream",
     "text": [
      " 80%|\u001b[34m████████  \u001b[0m| 8/10 [00:16<00:03,  1.98s/it]\n"
     ]
    },
    {
     "name": "stdout",
     "output_type": "stream",
     "text": [
      "\u001b[36m(launch_and_fit pid=75448)\u001b[0m \tTrain Epoch: 9 \tTrain_loss: 1.5259 | Train_acc: 49.4107 % | Validation_loss: 1.7456 | Validation_acc: 36.3678 %\n"
     ]
    },
    {
     "name": "stderr",
     "output_type": "stream",
     "text": [
      " 90%|\u001b[34m█████████ \u001b[0m| 9/10 [00:18<00:01,  1.97s/it]\n"
     ]
    },
    {
     "name": "stdout",
     "output_type": "stream",
     "text": [
      "\u001b[36m(launch_and_fit pid=75448)\u001b[0m \tTrain Epoch: 10 \tTrain_loss: 1.5200 | Train_acc: 50.2202 % | Validation_loss: 1.7047 | Validation_acc: 40.5344 %\n",
      "\u001b[36m(launch_and_fit pid=75448)\u001b[0m save graph in  results/FL/\n"
     ]
    },
    {
     "name": "stderr",
     "output_type": "stream",
     "text": [
      "100%|\u001b[34m██████████\u001b[0m| 10/10 [00:20<00:00,  2.01s/it]\n"
     ]
    },
    {
     "name": "stdout",
     "output_type": "stream",
     "text": [
      "\u001b[36m(launch_and_fit pid=75448)\u001b[0m Run WITHOUT homomorphic encryption\n",
      "\u001b[36m(launch_and_fit pid=75448)\u001b[0m  To get the checkpoint\n",
      "\u001b[36m(launch_and_fit pid=75448)\u001b[0m [Client 1, round 34] fit, config: {'learning_rate': 0.003, 'batch_size': '32', 'server_round': 34, 'local_epochs': 10}\n",
      "\u001b[36m(launch_and_fit pid=75448)\u001b[0m Updated model\n"
     ]
    },
    {
     "name": "stderr",
     "output_type": "stream",
     "text": [
      "  0%|\u001b[34m          \u001b[0m| 0/10 [00:00<?, ?it/s]\n"
     ]
    },
    {
     "name": "stdout",
     "output_type": "stream",
     "text": [
      "\u001b[36m(launch_and_fit pid=75448)\u001b[0m \tTrain Epoch: 1 \tTrain_loss: 1.6318 | Train_acc: 43.9643 % | Validation_loss: 1.6398 | Validation_acc: 44.4746 %\n"
     ]
    },
    {
     "name": "stderr",
     "output_type": "stream",
     "text": [
      " 10%|\u001b[34m█         \u001b[0m| 1/10 [00:01<00:17,  1.95s/it]\n"
     ]
    },
    {
     "name": "stdout",
     "output_type": "stream",
     "text": [
      "\u001b[36m(launch_and_fit pid=75448)\u001b[0m \tTrain Epoch: 2 \tTrain_loss: 1.5886 | Train_acc: 46.3988 % | Validation_loss: 1.6049 | Validation_acc: 48.6413 %\n"
     ]
    },
    {
     "name": "stderr",
     "output_type": "stream",
     "text": [
      " 20%|\u001b[34m██        \u001b[0m| 2/10 [00:03<00:15,  1.94s/it]\n"
     ]
    },
    {
     "name": "stdout",
     "output_type": "stream",
     "text": [
      "\u001b[36m(launch_and_fit pid=75448)\u001b[0m \tTrain Epoch: 3 \tTrain_loss: 1.5888 | Train_acc: 46.3452 % | Validation_loss: 1.6022 | Validation_acc: 49.6830 %\n"
     ]
    },
    {
     "name": "stderr",
     "output_type": "stream",
     "text": [
      " 30%|\u001b[34m███       \u001b[0m| 3/10 [00:05<00:13,  1.94s/it]\n"
     ]
    },
    {
     "name": "stdout",
     "output_type": "stream",
     "text": [
      "\u001b[36m(launch_and_fit pid=75448)\u001b[0m \tTrain Epoch: 4 \tTrain_loss: 1.5842 | Train_acc: 45.8988 % | Validation_loss: 1.5774 | Validation_acc: 53.2156 %\n"
     ]
    },
    {
     "name": "stderr",
     "output_type": "stream",
     "text": [
      " 40%|\u001b[34m████      \u001b[0m| 4/10 [00:07<00:11,  1.93s/it]\n"
     ]
    },
    {
     "name": "stdout",
     "output_type": "stream",
     "text": [
      "\u001b[36m(launch_and_fit pid=75448)\u001b[0m \tTrain Epoch: 5 \tTrain_loss: 1.5970 | Train_acc: 46.7143 % | Validation_loss: 1.6510 | Validation_acc: 44.4746 %\n"
     ]
    },
    {
     "name": "stderr",
     "output_type": "stream",
     "text": [
      " 50%|\u001b[34m█████     \u001b[0m| 5/10 [00:09<00:09,  1.93s/it]\n"
     ]
    },
    {
     "name": "stdout",
     "output_type": "stream",
     "text": [
      "\u001b[36m(launch_and_fit pid=75448)\u001b[0m \tTrain Epoch: 6 \tTrain_loss: 1.5743 | Train_acc: 48.0893 % | Validation_loss: 1.5571 | Validation_acc: 50.7246 %\n"
     ]
    },
    {
     "name": "stderr",
     "output_type": "stream",
     "text": [
      " 60%|\u001b[34m██████    \u001b[0m| 6/10 [00:11<00:07,  1.94s/it]\n"
     ]
    },
    {
     "name": "stdout",
     "output_type": "stream",
     "text": [
      "\u001b[36m(launch_and_fit pid=75448)\u001b[0m \tTrain Epoch: 7 \tTrain_loss: 1.5728 | Train_acc: 48.2202 % | Validation_loss: 1.5750 | Validation_acc: 53.6232 %\n"
     ]
    },
    {
     "name": "stderr",
     "output_type": "stream",
     "text": [
      " 70%|\u001b[34m███████   \u001b[0m| 7/10 [00:13<00:05,  1.93s/it]\n"
     ]
    },
    {
     "name": "stdout",
     "output_type": "stream",
     "text": [
      "\u001b[36m(launch_and_fit pid=75448)\u001b[0m \tTrain Epoch: 8 \tTrain_loss: 1.5730 | Train_acc: 47.0833 % | Validation_loss: 1.8329 | Validation_acc: 32.4275 %\n"
     ]
    },
    {
     "name": "stderr",
     "output_type": "stream",
     "text": [
      " 80%|\u001b[34m████████  \u001b[0m| 8/10 [00:15<00:03,  1.93s/it]\n"
     ]
    },
    {
     "name": "stdout",
     "output_type": "stream",
     "text": [
      "\u001b[36m(launch_and_fit pid=75448)\u001b[0m \tTrain Epoch: 9 \tTrain_loss: 1.5931 | Train_acc: 46.3988 % | Validation_loss: 1.6320 | Validation_acc: 48.0072 %\n"
     ]
    },
    {
     "name": "stderr",
     "output_type": "stream",
     "text": [
      " 90%|\u001b[34m█████████ \u001b[0m| 9/10 [00:17<00:01,  1.93s/it]\n"
     ]
    },
    {
     "name": "stdout",
     "output_type": "stream",
     "text": [
      "\u001b[36m(launch_and_fit pid=75448)\u001b[0m \tTrain Epoch: 10 \tTrain_loss: 1.5892 | Train_acc: 46.3988 % | Validation_loss: 1.7145 | Validation_acc: 31.7935 %\n",
      "\u001b[36m(launch_and_fit pid=75448)\u001b[0m save graph in  results/FL/\n"
     ]
    },
    {
     "name": "stderr",
     "output_type": "stream",
     "text": [
      "100%|\u001b[34m██████████\u001b[0m| 10/10 [00:19<00:00,  1.94s/it]\n"
     ]
    },
    {
     "name": "stdout",
     "output_type": "stream",
     "text": [
      "\u001b[36m(launch_and_fit pid=75448)\u001b[0m Run WITHOUT homomorphic encryption\n",
      "\u001b[36m(launch_and_fit pid=75448)\u001b[0m  To get the checkpoint\n",
      "\u001b[36m(launch_and_fit pid=75448)\u001b[0m [Client 3, round 34] fit, config: {'learning_rate': 0.003, 'batch_size': '32', 'server_round': 34, 'local_epochs': 10}\n",
      "\u001b[36m(launch_and_fit pid=75448)\u001b[0m Updated model\n"
     ]
    },
    {
     "name": "stderr",
     "output_type": "stream",
     "text": [
      "  0%|\u001b[34m          \u001b[0m| 0/10 [00:00<?, ?it/s]\n"
     ]
    },
    {
     "name": "stdout",
     "output_type": "stream",
     "text": [
      "\u001b[36m(launch_and_fit pid=75448)\u001b[0m \tTrain Epoch: 1 \tTrain_loss: 1.6041 | Train_acc: 46.5417 % | Validation_loss: 1.6568 | Validation_acc: 37.0018 %\n"
     ]
    },
    {
     "name": "stderr",
     "output_type": "stream",
     "text": [
      " 10%|\u001b[34m█         \u001b[0m| 1/10 [00:02<00:18,  2.05s/it]\n"
     ]
    },
    {
     "name": "stdout",
     "output_type": "stream",
     "text": [
      "\u001b[36m(launch_and_fit pid=75448)\u001b[0m \tTrain Epoch: 2 \tTrain_loss: 1.5740 | Train_acc: 49.3393 % | Validation_loss: 1.6311 | Validation_acc: 43.6594 %\n"
     ]
    },
    {
     "name": "stderr",
     "output_type": "stream",
     "text": [
      " 20%|\u001b[34m██        \u001b[0m| 2/10 [00:04<00:16,  2.06s/it]\n"
     ]
    },
    {
     "name": "stdout",
     "output_type": "stream",
     "text": [
      "\u001b[36m(launch_and_fit pid=75448)\u001b[0m \tTrain Epoch: 3 \tTrain_loss: 1.5658 | Train_acc: 50.0298 % | Validation_loss: 1.6640 | Validation_acc: 38.0435 %\n"
     ]
    },
    {
     "name": "stderr",
     "output_type": "stream",
     "text": [
      " 30%|\u001b[34m███       \u001b[0m| 3/10 [00:06<00:14,  2.05s/it]\n"
     ]
    },
    {
     "name": "stdout",
     "output_type": "stream",
     "text": [
      "\u001b[36m(launch_and_fit pid=75448)\u001b[0m \tTrain Epoch: 4 \tTrain_loss: 1.5595 | Train_acc: 50.6548 % | Validation_loss: 1.6336 | Validation_acc: 44.0670 %\n"
     ]
    },
    {
     "name": "stderr",
     "output_type": "stream",
     "text": [
      " 40%|\u001b[34m████      \u001b[0m| 4/10 [00:08<00:12,  2.03s/it]\n"
     ]
    },
    {
     "name": "stdout",
     "output_type": "stream",
     "text": [
      "\u001b[36m(launch_and_fit pid=75448)\u001b[0m \tTrain Epoch: 5 \tTrain_loss: 1.5765 | Train_acc: 50.0238 % | Validation_loss: 1.6580 | Validation_acc: 40.1268 %\n"
     ]
    },
    {
     "name": "stderr",
     "output_type": "stream",
     "text": [
      " 50%|\u001b[34m█████     \u001b[0m| 5/10 [00:10<00:10,  2.02s/it]\n"
     ]
    },
    {
     "name": "stdout",
     "output_type": "stream",
     "text": [
      "\u001b[36m(launch_and_fit pid=75448)\u001b[0m \tTrain Epoch: 6 \tTrain_loss: 1.5661 | Train_acc: 50.2202 % | Validation_loss: 1.6772 | Validation_acc: 38.0435 %\n"
     ]
    },
    {
     "name": "stderr",
     "output_type": "stream",
     "text": [
      " 60%|\u001b[34m██████    \u001b[0m| 6/10 [00:12<00:08,  2.01s/it]\n"
     ]
    },
    {
     "name": "stdout",
     "output_type": "stream",
     "text": [
      "\u001b[36m(launch_and_fit pid=75448)\u001b[0m \tTrain Epoch: 7 \tTrain_loss: 1.5644 | Train_acc: 50.2857 % | Validation_loss: 1.6551 | Validation_acc: 39.0851 %\n"
     ]
    },
    {
     "name": "stderr",
     "output_type": "stream",
     "text": [
      " 70%|\u001b[34m███████   \u001b[0m| 7/10 [00:14<00:05,  2.00s/it]\n"
     ]
    },
    {
     "name": "stdout",
     "output_type": "stream",
     "text": [
      "\u001b[36m(launch_and_fit pid=75448)\u001b[0m \tTrain Epoch: 8 \tTrain_loss: 1.5526 | Train_acc: 50.1667 % | Validation_loss: 1.6379 | Validation_acc: 44.0670 %\n"
     ]
    },
    {
     "name": "stderr",
     "output_type": "stream",
     "text": [
      " 80%|\u001b[34m████████  \u001b[0m| 8/10 [00:16<00:04,  2.01s/it]\n"
     ]
    },
    {
     "name": "stdout",
     "output_type": "stream",
     "text": [
      "\u001b[36m(launch_and_fit pid=75448)\u001b[0m \tTrain Epoch: 9 \tTrain_loss: 1.5720 | Train_acc: 50.7143 % | Validation_loss: 1.6891 | Validation_acc: 35.7337 %\n"
     ]
    },
    {
     "name": "stderr",
     "output_type": "stream",
     "text": [
      " 90%|\u001b[34m█████████ \u001b[0m| 9/10 [00:18<00:02,  2.01s/it]\n",
      "100%|\u001b[34m██████████\u001b[0m| 10/10 [00:20<00:00,  2.02s/it]\n",
      "DEBUG flwr 2024-08-30 02:49:31,461 | server.py:236 | fit_round 34 received 4 results and 0 failures\n"
     ]
    },
    {
     "name": "stdout",
     "output_type": "stream",
     "text": [
      "\u001b[36m(launch_and_fit pid=75448)\u001b[0m \tTrain Epoch: 10 \tTrain_loss: 1.5609 | Train_acc: 50.6488 % | Validation_loss: 1.6724 | Validation_acc: 39.4928 %\n",
      "\u001b[36m(launch_and_fit pid=75448)\u001b[0m save graph in  results/FL/\n",
      "Saving round 34 aggregated_parameters...\n",
      "Updated model\n"
     ]
    },
    {
     "name": "stderr",
     "output_type": "stream",
     "text": [
      "INFO flwr 2024-08-30 02:49:32,321 | server.py:125 | fit progress: (34, 1.6253771824496133, {'accuracy': 45.163690476190474}, 4204.451734317001)\n",
      "DEBUG flwr 2024-08-30 02:49:32,321 | server.py:173 | evaluate_round 34: strategy sampled 4 clients (out of 4)\n"
     ]
    },
    {
     "name": "stdout",
     "output_type": "stream",
     "text": [
      "Server-side evaluation loss 1.6253771824496133 / accuracy 45.163690476190474\n",
      "\u001b[36m(launch_and_evaluate pid=75448)\u001b[0m Run WITHOUT homomorphic encryption\n",
      "\u001b[36m(launch_and_evaluate pid=75448)\u001b[0m  To get the checkpoint\n",
      "\u001b[36m(launch_and_evaluate pid=75448)\u001b[0m [Client 0] evaluate, config: {}\n",
      "\u001b[36m(launch_and_evaluate pid=75448)\u001b[0m Updated model\n",
      "\u001b[36m(launch_and_evaluate pid=75448)\u001b[0m Run WITHOUT homomorphic encryption\n",
      "\u001b[36m(launch_and_evaluate pid=75448)\u001b[0m  To get the checkpoint\n",
      "\u001b[36m(launch_and_evaluate pid=75448)\u001b[0m [Client 1] evaluate, config: {}\n",
      "\u001b[36m(launch_and_evaluate pid=75448)\u001b[0m Updated model\n",
      "\u001b[36m(launch_and_evaluate pid=75448)\u001b[0m Run WITHOUT homomorphic encryption\n",
      "\u001b[36m(launch_and_evaluate pid=75448)\u001b[0m  To get the checkpoint\n",
      "\u001b[36m(launch_and_evaluate pid=75448)\u001b[0m [Client 3] evaluate, config: {}\n",
      "\u001b[36m(launch_and_evaluate pid=75448)\u001b[0m Updated model\n",
      "\u001b[36m(launch_and_evaluate pid=75448)\u001b[0m Run WITHOUT homomorphic encryption\n",
      "\u001b[36m(launch_and_evaluate pid=75448)\u001b[0m  To get the checkpoint\n",
      "\u001b[36m(launch_and_evaluate pid=75448)\u001b[0m [Client 2] evaluate, config: {}\n",
      "\u001b[36m(launch_and_evaluate pid=75448)\u001b[0m Updated model\n"
     ]
    },
    {
     "name": "stderr",
     "output_type": "stream",
     "text": [
      "DEBUG flwr 2024-08-30 02:49:34,881 | server.py:187 | evaluate_round 34 received 4 results and 0 failures\n",
      "DEBUG flwr 2024-08-30 02:49:34,882 | server.py:222 | fit_round 35: strategy sampled 4 clients (out of 4)\n"
     ]
    },
    {
     "name": "stdout",
     "output_type": "stream",
     "text": [
      "\u001b[36m(launch_and_fit pid=75448)\u001b[0m Run WITHOUT homomorphic encryption\n",
      "\u001b[36m(launch_and_fit pid=75448)\u001b[0m  To get the checkpoint\n",
      "\u001b[36m(launch_and_fit pid=75448)\u001b[0m [Client 3, round 35] fit, config: {'learning_rate': 0.003, 'batch_size': '32', 'server_round': 35, 'local_epochs': 10}\n",
      "\u001b[36m(launch_and_fit pid=75448)\u001b[0m Updated model\n"
     ]
    },
    {
     "name": "stderr",
     "output_type": "stream",
     "text": [
      "  0%|\u001b[34m          \u001b[0m| 0/10 [00:00<?, ?it/s]\n"
     ]
    },
    {
     "name": "stdout",
     "output_type": "stream",
     "text": [
      "\u001b[36m(launch_and_fit pid=75448)\u001b[0m \tTrain Epoch: 1 \tTrain_loss: 1.6258 | Train_acc: 45.9821 % | Validation_loss: 1.6424 | Validation_acc: 39.9004 %\n"
     ]
    },
    {
     "name": "stderr",
     "output_type": "stream",
     "text": [
      " 10%|\u001b[34m█         \u001b[0m| 1/10 [00:02<00:18,  2.03s/it]\n"
     ]
    },
    {
     "name": "stdout",
     "output_type": "stream",
     "text": [
      "\u001b[36m(launch_and_fit pid=75448)\u001b[0m \tTrain Epoch: 2 \tTrain_loss: 1.5743 | Train_acc: 49.8333 % | Validation_loss: 1.6538 | Validation_acc: 41.5761 %\n"
     ]
    },
    {
     "name": "stderr",
     "output_type": "stream",
     "text": [
      " 20%|\u001b[34m██        \u001b[0m| 2/10 [00:04<00:16,  2.03s/it]\n"
     ]
    },
    {
     "name": "stdout",
     "output_type": "stream",
     "text": [
      "\u001b[36m(launch_and_fit pid=75448)\u001b[0m \tTrain Epoch: 3 \tTrain_loss: 1.5702 | Train_acc: 51.5298 % | Validation_loss: 1.6447 | Validation_acc: 40.1268 %\n"
     ]
    },
    {
     "name": "stderr",
     "output_type": "stream",
     "text": [
      " 30%|\u001b[34m███       \u001b[0m| 3/10 [00:06<00:14,  2.02s/it]\n"
     ]
    },
    {
     "name": "stdout",
     "output_type": "stream",
     "text": [
      "\u001b[36m(launch_and_fit pid=75448)\u001b[0m \tTrain Epoch: 4 \tTrain_loss: 1.5580 | Train_acc: 50.4762 % | Validation_loss: 1.6463 | Validation_acc: 37.6359 %\n"
     ]
    },
    {
     "name": "stderr",
     "output_type": "stream",
     "text": [
      " 40%|\u001b[34m████      \u001b[0m| 4/10 [00:08<00:12,  2.02s/it]\n"
     ]
    },
    {
     "name": "stdout",
     "output_type": "stream",
     "text": [
      "\u001b[36m(launch_and_fit pid=75448)\u001b[0m \tTrain Epoch: 5 \tTrain_loss: 1.6829 | Train_acc: 43.6488 % | Validation_loss: 1.6750 | Validation_acc: 40.9420 %\n"
     ]
    },
    {
     "name": "stderr",
     "output_type": "stream",
     "text": [
      " 50%|\u001b[34m█████     \u001b[0m| 5/10 [00:10<00:10,  2.02s/it]\n"
     ]
    },
    {
     "name": "stdout",
     "output_type": "stream",
     "text": [
      "\u001b[36m(launch_and_fit pid=75448)\u001b[0m \tTrain Epoch: 6 \tTrain_loss: 1.5719 | Train_acc: 50.2202 % | Validation_loss: 1.6700 | Validation_acc: 38.4511 %\n"
     ]
    },
    {
     "name": "stderr",
     "output_type": "stream",
     "text": [
      " 60%|\u001b[34m██████    \u001b[0m| 6/10 [00:12<00:08,  2.00s/it]\n"
     ]
    },
    {
     "name": "stdout",
     "output_type": "stream",
     "text": [
      "\u001b[36m(launch_and_fit pid=75448)\u001b[0m \tTrain Epoch: 7 \tTrain_loss: 1.5667 | Train_acc: 50.5179 % | Validation_loss: 1.6811 | Validation_acc: 37.4094 %\n"
     ]
    },
    {
     "name": "stderr",
     "output_type": "stream",
     "text": [
      " 70%|\u001b[34m███████   \u001b[0m| 7/10 [00:14<00:05,  1.98s/it]\n"
     ]
    },
    {
     "name": "stdout",
     "output_type": "stream",
     "text": [
      "\u001b[36m(launch_and_fit pid=75448)\u001b[0m \tTrain Epoch: 8 \tTrain_loss: 1.5579 | Train_acc: 50.4107 % | Validation_loss: 1.6689 | Validation_acc: 38.8587 %\n"
     ]
    },
    {
     "name": "stderr",
     "output_type": "stream",
     "text": [
      " 80%|\u001b[34m████████  \u001b[0m| 8/10 [00:15<00:03,  1.96s/it]\n"
     ]
    },
    {
     "name": "stdout",
     "output_type": "stream",
     "text": [
      "\u001b[36m(launch_and_fit pid=75448)\u001b[0m \tTrain Epoch: 9 \tTrain_loss: 1.5743 | Train_acc: 50.2857 % | Validation_loss: 1.6842 | Validation_acc: 34.2844 %\n"
     ]
    },
    {
     "name": "stderr",
     "output_type": "stream",
     "text": [
      " 90%|\u001b[34m█████████ \u001b[0m| 9/10 [00:17<00:01,  1.95s/it]\n"
     ]
    },
    {
     "name": "stdout",
     "output_type": "stream",
     "text": [
      "\u001b[36m(launch_and_fit pid=75448)\u001b[0m \tTrain Epoch: 10 \tTrain_loss: 1.5506 | Train_acc: 51.9643 % | Validation_loss: 1.6476 | Validation_acc: 40.5344 %\n",
      "\u001b[36m(launch_and_fit pid=75448)\u001b[0m save graph in  results/FL/\n"
     ]
    },
    {
     "name": "stderr",
     "output_type": "stream",
     "text": [
      "100%|\u001b[34m██████████\u001b[0m| 10/10 [00:19<00:00,  1.98s/it]\n"
     ]
    },
    {
     "name": "stdout",
     "output_type": "stream",
     "text": [
      "\u001b[36m(launch_and_fit pid=75448)\u001b[0m Run WITHOUT homomorphic encryption\n",
      "\u001b[36m(launch_and_fit pid=75448)\u001b[0m  To get the checkpoint\n",
      "\u001b[36m(launch_and_fit pid=75448)\u001b[0m [Client 0, round 35] fit, config: {'learning_rate': 0.003, 'batch_size': '32', 'server_round': 35, 'local_epochs': 10}\n",
      "\u001b[36m(launch_and_fit pid=75448)\u001b[0m Updated model\n"
     ]
    },
    {
     "name": "stderr",
     "output_type": "stream",
     "text": [
      "  0%|\u001b[34m          \u001b[0m| 0/10 [00:00<?, ?it/s]\n"
     ]
    },
    {
     "name": "stdout",
     "output_type": "stream",
     "text": [
      "\u001b[36m(launch_and_fit pid=75448)\u001b[0m \tTrain Epoch: 1 \tTrain_loss: 1.5912 | Train_acc: 46.1607 % | Validation_loss: 1.6900 | Validation_acc: 44.8822 %\n"
     ]
    },
    {
     "name": "stderr",
     "output_type": "stream",
     "text": [
      " 10%|\u001b[34m█         \u001b[0m| 1/10 [00:01<00:17,  1.99s/it]\n"
     ]
    },
    {
     "name": "stdout",
     "output_type": "stream",
     "text": [
      "\u001b[36m(launch_and_fit pid=75448)\u001b[0m \tTrain Epoch: 2 \tTrain_loss: 1.5453 | Train_acc: 49.2202 % | Validation_loss: 1.7587 | Validation_acc: 39.2663 %\n"
     ]
    },
    {
     "name": "stderr",
     "output_type": "stream",
     "text": [
      " 20%|\u001b[34m██        \u001b[0m| 2/10 [00:03<00:15,  1.99s/it]\n"
     ]
    },
    {
     "name": "stdout",
     "output_type": "stream",
     "text": [
      "\u001b[36m(launch_and_fit pid=75448)\u001b[0m \tTrain Epoch: 3 \tTrain_loss: 1.5731 | Train_acc: 47.2262 % | Validation_loss: 1.7863 | Validation_acc: 36.3678 %\n"
     ]
    },
    {
     "name": "stderr",
     "output_type": "stream",
     "text": [
      " 30%|\u001b[34m███       \u001b[0m| 3/10 [00:05<00:13,  1.99s/it]\n"
     ]
    },
    {
     "name": "stdout",
     "output_type": "stream",
     "text": [
      "\u001b[36m(launch_and_fit pid=75448)\u001b[0m \tTrain Epoch: 4 \tTrain_loss: 1.5531 | Train_acc: 49.0893 % | Validation_loss: 1.7508 | Validation_acc: 43.8406 %\n"
     ]
    },
    {
     "name": "stderr",
     "output_type": "stream",
     "text": [
      " 40%|\u001b[34m████      \u001b[0m| 4/10 [00:07<00:11,  1.96s/it]\n"
     ]
    },
    {
     "name": "stdout",
     "output_type": "stream",
     "text": [
      "\u001b[36m(launch_and_fit pid=75448)\u001b[0m \tTrain Epoch: 5 \tTrain_loss: 1.5767 | Train_acc: 46.2143 % | Validation_loss: 1.8166 | Validation_acc: 31.3859 %\n"
     ]
    },
    {
     "name": "stderr",
     "output_type": "stream",
     "text": [
      " 50%|\u001b[34m█████     \u001b[0m| 5/10 [00:09<00:09,  1.95s/it]\n"
     ]
    },
    {
     "name": "stdout",
     "output_type": "stream",
     "text": [
      "\u001b[36m(launch_and_fit pid=75448)\u001b[0m \tTrain Epoch: 6 \tTrain_loss: 1.6703 | Train_acc: 41.2262 % | Validation_loss: 1.7288 | Validation_acc: 35.3261 %\n"
     ]
    },
    {
     "name": "stderr",
     "output_type": "stream",
     "text": [
      " 60%|\u001b[34m██████    \u001b[0m| 6/10 [00:11<00:07,  1.94s/it]\n"
     ]
    },
    {
     "name": "stdout",
     "output_type": "stream",
     "text": [
      "\u001b[36m(launch_and_fit pid=75448)\u001b[0m \tTrain Epoch: 7 \tTrain_loss: 1.5637 | Train_acc: 46.7857 % | Validation_loss: 1.7623 | Validation_acc: 38.8587 %\n"
     ]
    },
    {
     "name": "stderr",
     "output_type": "stream",
     "text": [
      " 70%|\u001b[34m███████   \u001b[0m| 7/10 [00:13<00:05,  1.94s/it]\n"
     ]
    },
    {
     "name": "stdout",
     "output_type": "stream",
     "text": [
      "\u001b[36m(launch_and_fit pid=75448)\u001b[0m \tTrain Epoch: 8 \tTrain_loss: 1.5326 | Train_acc: 49.5893 % | Validation_loss: 1.8094 | Validation_acc: 34.9185 %\n"
     ]
    },
    {
     "name": "stderr",
     "output_type": "stream",
     "text": [
      " 80%|\u001b[34m████████  \u001b[0m| 8/10 [00:15<00:03,  1.94s/it]\n"
     ]
    },
    {
     "name": "stdout",
     "output_type": "stream",
     "text": [
      "\u001b[36m(launch_and_fit pid=75448)\u001b[0m \tTrain Epoch: 9 \tTrain_loss: 1.5330 | Train_acc: 49.9702 % | Validation_loss: 1.7400 | Validation_acc: 36.3678 %\n"
     ]
    },
    {
     "name": "stderr",
     "output_type": "stream",
     "text": [
      " 90%|\u001b[34m█████████ \u001b[0m| 9/10 [00:17<00:01,  1.93s/it]\n"
     ]
    },
    {
     "name": "stdout",
     "output_type": "stream",
     "text": [
      "\u001b[36m(launch_and_fit pid=75448)\u001b[0m \tTrain Epoch: 10 \tTrain_loss: 1.5238 | Train_acc: 50.2202 % | Validation_loss: 1.7425 | Validation_acc: 35.9601 %\n",
      "\u001b[36m(launch_and_fit pid=75448)\u001b[0m save graph in  results/FL/\n",
      "\u001b[36m(launch_and_fit pid=75448)\u001b[0m Run WITHOUT homomorphic encryption\n",
      "\u001b[36m(launch_and_fit pid=75448)\u001b[0m  To get the checkpoint\n"
     ]
    },
    {
     "name": "stderr",
     "output_type": "stream",
     "text": [
      "100%|\u001b[34m██████████\u001b[0m| 10/10 [00:19<00:00,  1.95s/it]\n"
     ]
    },
    {
     "name": "stdout",
     "output_type": "stream",
     "text": [
      "\u001b[36m(launch_and_fit pid=75448)\u001b[0m [Client 2, round 35] fit, config: {'learning_rate': 0.003, 'batch_size': '32', 'server_round': 35, 'local_epochs': 10}\n",
      "\u001b[36m(launch_and_fit pid=75448)\u001b[0m Updated model\n"
     ]
    },
    {
     "name": "stderr",
     "output_type": "stream",
     "text": [
      "  0%|\u001b[34m          \u001b[0m| 0/10 [00:00<?, ?it/s]\n"
     ]
    },
    {
     "name": "stdout",
     "output_type": "stream",
     "text": [
      "\u001b[36m(launch_and_fit pid=75448)\u001b[0m \tTrain Epoch: 1 \tTrain_loss: 1.6407 | Train_acc: 44.2143 % | Validation_loss: 1.6103 | Validation_acc: 48.6413 %\n"
     ]
    },
    {
     "name": "stderr",
     "output_type": "stream",
     "text": [
      " 10%|\u001b[34m█         \u001b[0m| 1/10 [00:01<00:17,  2.00s/it]\n"
     ]
    },
    {
     "name": "stdout",
     "output_type": "stream",
     "text": [
      "\u001b[36m(launch_and_fit pid=75448)\u001b[0m \tTrain Epoch: 2 \tTrain_loss: 1.6124 | Train_acc: 47.5298 % | Validation_loss: 1.5991 | Validation_acc: 51.7663 %\n"
     ]
    },
    {
     "name": "stderr",
     "output_type": "stream",
     "text": [
      " 20%|\u001b[34m██        \u001b[0m| 2/10 [00:03<00:15,  1.99s/it]\n"
     ]
    },
    {
     "name": "stdout",
     "output_type": "stream",
     "text": [
      "\u001b[36m(launch_and_fit pid=75448)\u001b[0m \tTrain Epoch: 3 \tTrain_loss: 1.6160 | Train_acc: 45.1607 % | Validation_loss: 1.5934 | Validation_acc: 49.6830 %\n"
     ]
    },
    {
     "name": "stderr",
     "output_type": "stream",
     "text": [
      " 30%|\u001b[34m███       \u001b[0m| 3/10 [00:05<00:13,  1.99s/it]\n"
     ]
    },
    {
     "name": "stdout",
     "output_type": "stream",
     "text": [
      "\u001b[36m(launch_and_fit pid=75448)\u001b[0m \tTrain Epoch: 4 \tTrain_loss: 1.6285 | Train_acc: 44.1429 % | Validation_loss: 1.5726 | Validation_acc: 50.7246 %\n"
     ]
    },
    {
     "name": "stderr",
     "output_type": "stream",
     "text": [
      " 40%|\u001b[34m████      \u001b[0m| 4/10 [00:07<00:11,  1.99s/it]\n"
     ]
    },
    {
     "name": "stdout",
     "output_type": "stream",
     "text": [
      "\u001b[36m(launch_and_fit pid=75448)\u001b[0m \tTrain Epoch: 5 \tTrain_loss: 1.6178 | Train_acc: 47.0833 % | Validation_loss: 1.5809 | Validation_acc: 50.7246 %\n"
     ]
    },
    {
     "name": "stderr",
     "output_type": "stream",
     "text": [
      " 50%|\u001b[34m█████     \u001b[0m| 5/10 [00:09<00:09,  1.99s/it]\n"
     ]
    },
    {
     "name": "stdout",
     "output_type": "stream",
     "text": [
      "\u001b[36m(launch_and_fit pid=75448)\u001b[0m \tTrain Epoch: 6 \tTrain_loss: 1.6151 | Train_acc: 45.2738 % | Validation_loss: 1.5810 | Validation_acc: 49.6830 %\n"
     ]
    },
    {
     "name": "stderr",
     "output_type": "stream",
     "text": [
      " 60%|\u001b[34m██████    \u001b[0m| 6/10 [00:11<00:07,  1.99s/it]\n"
     ]
    },
    {
     "name": "stdout",
     "output_type": "stream",
     "text": [
      "\u001b[36m(launch_and_fit pid=75448)\u001b[0m \tTrain Epoch: 7 \tTrain_loss: 1.5882 | Train_acc: 48.9643 % | Validation_loss: 1.5739 | Validation_acc: 52.8080 %\n"
     ]
    },
    {
     "name": "stderr",
     "output_type": "stream",
     "text": [
      " 70%|\u001b[34m███████   \u001b[0m| 7/10 [00:13<00:05,  1.99s/it]\n"
     ]
    },
    {
     "name": "stdout",
     "output_type": "stream",
     "text": [
      "\u001b[36m(launch_and_fit pid=75448)\u001b[0m \tTrain Epoch: 8 \tTrain_loss: 1.5978 | Train_acc: 47.9048 % | Validation_loss: 1.6759 | Validation_acc: 46.1504 %\n"
     ]
    },
    {
     "name": "stderr",
     "output_type": "stream",
     "text": [
      " 80%|\u001b[34m████████  \u001b[0m| 8/10 [00:15<00:03,  1.99s/it]\n"
     ]
    },
    {
     "name": "stdout",
     "output_type": "stream",
     "text": [
      "\u001b[36m(launch_and_fit pid=75448)\u001b[0m \tTrain Epoch: 9 \tTrain_loss: 1.6960 | Train_acc: 39.0298 % | Validation_loss: 1.5805 | Validation_acc: 49.6830 %\n"
     ]
    },
    {
     "name": "stderr",
     "output_type": "stream",
     "text": [
      " 90%|\u001b[34m█████████ \u001b[0m| 9/10 [00:17<00:01,  1.99s/it]\n"
     ]
    },
    {
     "name": "stdout",
     "output_type": "stream",
     "text": [
      "\u001b[36m(launch_and_fit pid=75448)\u001b[0m \tTrain Epoch: 10 \tTrain_loss: 1.6039 | Train_acc: 47.0179 % | Validation_loss: 1.5515 | Validation_acc: 51.7663 %\n",
      "\u001b[36m(launch_and_fit pid=75448)\u001b[0m save graph in  results/FL/\n"
     ]
    },
    {
     "name": "stderr",
     "output_type": "stream",
     "text": [
      "100%|\u001b[34m██████████\u001b[0m| 10/10 [00:19<00:00,  1.99s/it]\n"
     ]
    },
    {
     "name": "stdout",
     "output_type": "stream",
     "text": [
      "\u001b[36m(launch_and_fit pid=75448)\u001b[0m Run WITHOUT homomorphic encryption\n",
      "\u001b[36m(launch_and_fit pid=75448)\u001b[0m  To get the checkpoint\n",
      "\u001b[36m(launch_and_fit pid=75448)\u001b[0m [Client 1, round 35] fit, config: {'learning_rate': 0.003, 'batch_size': '32', 'server_round': 35, 'local_epochs': 10}\n",
      "\u001b[36m(launch_and_fit pid=75448)\u001b[0m Updated model\n"
     ]
    },
    {
     "name": "stderr",
     "output_type": "stream",
     "text": [
      "  0%|\u001b[34m          \u001b[0m| 0/10 [00:00<?, ?it/s]\n"
     ]
    },
    {
     "name": "stdout",
     "output_type": "stream",
     "text": [
      "\u001b[36m(launch_and_fit pid=75448)\u001b[0m \tTrain Epoch: 1 \tTrain_loss: 1.5902 | Train_acc: 47.5893 % | Validation_loss: 1.5892 | Validation_acc: 51.1322 %\n"
     ]
    },
    {
     "name": "stderr",
     "output_type": "stream",
     "text": [
      " 10%|\u001b[34m█         \u001b[0m| 1/10 [00:01<00:17,  1.95s/it]\n"
     ]
    },
    {
     "name": "stdout",
     "output_type": "stream",
     "text": [
      "\u001b[36m(launch_and_fit pid=75448)\u001b[0m \tTrain Epoch: 2 \tTrain_loss: 1.5992 | Train_acc: 45.4821 % | Validation_loss: 1.6444 | Validation_acc: 37.6359 %\n"
     ]
    },
    {
     "name": "stderr",
     "output_type": "stream",
     "text": [
      " 20%|\u001b[34m██        \u001b[0m| 2/10 [00:03<00:15,  1.93s/it]\n"
     ]
    },
    {
     "name": "stdout",
     "output_type": "stream",
     "text": [
      "\u001b[36m(launch_and_fit pid=75448)\u001b[0m \tTrain Epoch: 3 \tTrain_loss: 1.5815 | Train_acc: 48.4048 % | Validation_loss: 1.5834 | Validation_acc: 49.6830 %\n"
     ]
    },
    {
     "name": "stderr",
     "output_type": "stream",
     "text": [
      " 30%|\u001b[34m███       \u001b[0m| 3/10 [00:05<00:13,  1.93s/it]\n"
     ]
    },
    {
     "name": "stdout",
     "output_type": "stream",
     "text": [
      "\u001b[36m(launch_and_fit pid=75448)\u001b[0m \tTrain Epoch: 4 \tTrain_loss: 1.5716 | Train_acc: 47.3452 % | Validation_loss: 1.6157 | Validation_acc: 48.0072 %\n"
     ]
    },
    {
     "name": "stderr",
     "output_type": "stream",
     "text": [
      " 40%|\u001b[34m████      \u001b[0m| 4/10 [00:07<00:11,  1.95s/it]\n"
     ]
    },
    {
     "name": "stdout",
     "output_type": "stream",
     "text": [
      "\u001b[36m(launch_and_fit pid=75448)\u001b[0m \tTrain Epoch: 5 \tTrain_loss: 1.5614 | Train_acc: 48.7857 % | Validation_loss: 1.6502 | Validation_acc: 48.0072 %\n"
     ]
    },
    {
     "name": "stderr",
     "output_type": "stream",
     "text": [
      " 50%|\u001b[34m█████     \u001b[0m| 5/10 [00:09<00:09,  1.94s/it]\n"
     ]
    },
    {
     "name": "stdout",
     "output_type": "stream",
     "text": [
      "\u001b[36m(launch_and_fit pid=75448)\u001b[0m \tTrain Epoch: 6 \tTrain_loss: 1.6829 | Train_acc: 39.1488 % | Validation_loss: 1.5901 | Validation_acc: 49.6830 %\n"
     ]
    },
    {
     "name": "stderr",
     "output_type": "stream",
     "text": [
      " 60%|\u001b[34m██████    \u001b[0m| 6/10 [00:11<00:07,  1.94s/it]\n"
     ]
    },
    {
     "name": "stdout",
     "output_type": "stream",
     "text": [
      "\u001b[36m(launch_and_fit pid=75448)\u001b[0m \tTrain Epoch: 7 \tTrain_loss: 1.6033 | Train_acc: 45.9702 % | Validation_loss: 1.6063 | Validation_acc: 44.7011 %\n"
     ]
    },
    {
     "name": "stderr",
     "output_type": "stream",
     "text": [
      " 70%|\u001b[34m███████   \u001b[0m| 7/10 [00:13<00:05,  1.93s/it]\n"
     ]
    },
    {
     "name": "stdout",
     "output_type": "stream",
     "text": [
      "\u001b[36m(launch_and_fit pid=75448)\u001b[0m \tTrain Epoch: 8 \tTrain_loss: 1.5761 | Train_acc: 47.3452 % | Validation_loss: 1.6578 | Validation_acc: 44.7011 %\n"
     ]
    },
    {
     "name": "stderr",
     "output_type": "stream",
     "text": [
      " 80%|\u001b[34m████████  \u001b[0m| 8/10 [00:15<00:03,  1.92s/it]\n"
     ]
    },
    {
     "name": "stdout",
     "output_type": "stream",
     "text": [
      "\u001b[36m(launch_and_fit pid=75448)\u001b[0m \tTrain Epoch: 9 \tTrain_loss: 1.5660 | Train_acc: 48.9107 % | Validation_loss: 1.6468 | Validation_acc: 47.3732 %\n"
     ]
    },
    {
     "name": "stderr",
     "output_type": "stream",
     "text": [
      " 90%|\u001b[34m█████████ \u001b[0m| 9/10 [00:17<00:01,  1.92s/it]\n",
      "100%|\u001b[34m██████████\u001b[0m| 10/10 [00:19<00:00,  1.93s/it]\n",
      "DEBUG flwr 2024-08-30 02:50:54,995 | server.py:236 | fit_round 35 received 4 results and 0 failures\n"
     ]
    },
    {
     "name": "stdout",
     "output_type": "stream",
     "text": [
      "\u001b[36m(launch_and_fit pid=75448)\u001b[0m \tTrain Epoch: 10 \tTrain_loss: 1.5645 | Train_acc: 49.6607 % | Validation_loss: 1.5975 | Validation_acc: 46.7844 %\n",
      "\u001b[36m(launch_and_fit pid=75448)\u001b[0m save graph in  results/FL/\n",
      "Saving round 35 aggregated_parameters...\n",
      "Updated model\n"
     ]
    },
    {
     "name": "stderr",
     "output_type": "stream",
     "text": [
      "INFO flwr 2024-08-30 02:50:55,771 | server.py:125 | fit progress: (35, 1.6294193949018205, {'accuracy': 46.354166666666664}, 4287.902072058059)\n",
      "DEBUG flwr 2024-08-30 02:50:55,772 | server.py:173 | evaluate_round 35: strategy sampled 4 clients (out of 4)\n"
     ]
    },
    {
     "name": "stdout",
     "output_type": "stream",
     "text": [
      "Server-side evaluation loss 1.6294193949018205 / accuracy 46.354166666666664\n",
      "\u001b[36m(launch_and_evaluate pid=75448)\u001b[0m Run WITHOUT homomorphic encryption\n",
      "\u001b[36m(launch_and_evaluate pid=75448)\u001b[0m  To get the checkpoint\n",
      "\u001b[36m(launch_and_evaluate pid=75448)\u001b[0m [Client 2] evaluate, config: {}\n",
      "\u001b[36m(launch_and_evaluate pid=75448)\u001b[0m Updated model\n",
      "\u001b[36m(launch_and_evaluate pid=75448)\u001b[0m Run WITHOUT homomorphic encryption\n",
      "\u001b[36m(launch_and_evaluate pid=75448)\u001b[0m  To get the checkpoint\n",
      "\u001b[36m(launch_and_evaluate pid=75448)\u001b[0m [Client 1] evaluate, config: {}\n",
      "\u001b[36m(launch_and_evaluate pid=75448)\u001b[0m Updated model\n",
      "\u001b[36m(launch_and_evaluate pid=75448)\u001b[0m Run WITHOUT homomorphic encryption\n",
      "\u001b[36m(launch_and_evaluate pid=75448)\u001b[0m  To get the checkpoint\n",
      "\u001b[36m(launch_and_evaluate pid=75448)\u001b[0m [Client 3] evaluate, config: {}\n",
      "\u001b[36m(launch_and_evaluate pid=75448)\u001b[0m Updated model\n",
      "\u001b[36m(launch_and_evaluate pid=75448)\u001b[0m Run WITHOUT homomorphic encryption\n",
      "\u001b[36m(launch_and_evaluate pid=75448)\u001b[0m  To get the checkpoint\n",
      "\u001b[36m(launch_and_evaluate pid=75448)\u001b[0m [Client 0] evaluate, config: {}\n",
      "\u001b[36m(launch_and_evaluate pid=75448)\u001b[0m Updated model\n"
     ]
    },
    {
     "name": "stderr",
     "output_type": "stream",
     "text": [
      "DEBUG flwr 2024-08-30 02:50:58,252 | server.py:187 | evaluate_round 35 received 4 results and 0 failures\n",
      "DEBUG flwr 2024-08-30 02:50:58,253 | server.py:222 | fit_round 36: strategy sampled 4 clients (out of 4)\n"
     ]
    },
    {
     "name": "stdout",
     "output_type": "stream",
     "text": [
      "\u001b[36m(launch_and_fit pid=75448)\u001b[0m Run WITHOUT homomorphic encryption\n",
      "\u001b[36m(launch_and_fit pid=75448)\u001b[0m  To get the checkpoint\n",
      "\u001b[36m(launch_and_fit pid=75448)\u001b[0m [Client 1, round 36] fit, config: {'learning_rate': 0.003, 'batch_size': '32', 'server_round': 36, 'local_epochs': 10}\n",
      "\u001b[36m(launch_and_fit pid=75448)\u001b[0m Updated model\n"
     ]
    },
    {
     "name": "stderr",
     "output_type": "stream",
     "text": [
      "  0%|\u001b[34m          \u001b[0m| 0/10 [00:00<?, ?it/s]\n"
     ]
    },
    {
     "name": "stdout",
     "output_type": "stream",
     "text": [
      "\u001b[36m(launch_and_fit pid=75448)\u001b[0m \tTrain Epoch: 1 \tTrain_loss: 1.6387 | Train_acc: 42.9107 % | Validation_loss: 1.5583 | Validation_acc: 53.2156 %\n"
     ]
    },
    {
     "name": "stderr",
     "output_type": "stream",
     "text": [
      " 10%|\u001b[34m█         \u001b[0m| 1/10 [00:01<00:17,  1.99s/it]\n"
     ]
    },
    {
     "name": "stdout",
     "output_type": "stream",
     "text": [
      "\u001b[36m(launch_and_fit pid=75448)\u001b[0m \tTrain Epoch: 2 \tTrain_loss: 1.5906 | Train_acc: 45.7857 % | Validation_loss: 1.5962 | Validation_acc: 51.1322 %\n"
     ]
    },
    {
     "name": "stderr",
     "output_type": "stream",
     "text": [
      " 20%|\u001b[34m██        \u001b[0m| 2/10 [00:03<00:15,  1.99s/it]\n"
     ]
    },
    {
     "name": "stdout",
     "output_type": "stream",
     "text": [
      "\u001b[36m(launch_and_fit pid=75448)\u001b[0m \tTrain Epoch: 3 \tTrain_loss: 1.6169 | Train_acc: 44.5119 % | Validation_loss: 1.6212 | Validation_acc: 46.1504 %\n"
     ]
    },
    {
     "name": "stderr",
     "output_type": "stream",
     "text": [
      " 30%|\u001b[34m███       \u001b[0m| 3/10 [00:05<00:13,  2.00s/it]\n"
     ]
    },
    {
     "name": "stdout",
     "output_type": "stream",
     "text": [
      "\u001b[36m(launch_and_fit pid=75448)\u001b[0m \tTrain Epoch: 4 \tTrain_loss: 1.6272 | Train_acc: 44.1607 % | Validation_loss: 1.7130 | Validation_acc: 41.9837 %\n"
     ]
    },
    {
     "name": "stderr",
     "output_type": "stream",
     "text": [
      " 40%|\u001b[34m████      \u001b[0m| 4/10 [00:07<00:11,  1.99s/it]\n"
     ]
    },
    {
     "name": "stdout",
     "output_type": "stream",
     "text": [
      "\u001b[36m(launch_and_fit pid=75448)\u001b[0m \tTrain Epoch: 5 \tTrain_loss: 1.6039 | Train_acc: 45.6369 % | Validation_loss: 1.5844 | Validation_acc: 49.6830 %\n"
     ]
    },
    {
     "name": "stderr",
     "output_type": "stream",
     "text": [
      " 50%|\u001b[34m█████     \u001b[0m| 5/10 [00:09<00:09,  1.99s/it]\n"
     ]
    },
    {
     "name": "stdout",
     "output_type": "stream",
     "text": [
      "\u001b[36m(launch_and_fit pid=75448)\u001b[0m \tTrain Epoch: 6 \tTrain_loss: 1.5587 | Train_acc: 48.5357 % | Validation_loss: 1.5719 | Validation_acc: 50.7246 %\n"
     ]
    },
    {
     "name": "stderr",
     "output_type": "stream",
     "text": [
      " 60%|\u001b[34m██████    \u001b[0m| 6/10 [00:11<00:07,  1.99s/it]\n"
     ]
    },
    {
     "name": "stdout",
     "output_type": "stream",
     "text": [
      "\u001b[36m(launch_and_fit pid=75448)\u001b[0m \tTrain Epoch: 7 \tTrain_loss: 1.5563 | Train_acc: 48.5298 % | Validation_loss: 1.6072 | Validation_acc: 44.7011 %\n"
     ]
    },
    {
     "name": "stderr",
     "output_type": "stream",
     "text": [
      " 70%|\u001b[34m███████   \u001b[0m| 7/10 [00:13<00:05,  1.99s/it]\n"
     ]
    },
    {
     "name": "stdout",
     "output_type": "stream",
     "text": [
      "\u001b[36m(launch_and_fit pid=75448)\u001b[0m \tTrain Epoch: 8 \tTrain_loss: 1.5672 | Train_acc: 47.8452 % | Validation_loss: 1.6030 | Validation_acc: 48.2337 %\n"
     ]
    },
    {
     "name": "stderr",
     "output_type": "stream",
     "text": [
      " 80%|\u001b[34m████████  \u001b[0m| 8/10 [00:15<00:03,  1.99s/it]\n"
     ]
    },
    {
     "name": "stdout",
     "output_type": "stream",
     "text": [
      "\u001b[36m(launch_and_fit pid=75448)\u001b[0m \tTrain Epoch: 9 \tTrain_loss: 1.5582 | Train_acc: 48.5893 % | Validation_loss: 1.5897 | Validation_acc: 49.6830 %\n"
     ]
    },
    {
     "name": "stderr",
     "output_type": "stream",
     "text": [
      " 90%|\u001b[34m█████████ \u001b[0m| 9/10 [00:17<00:01,  1.99s/it]\n"
     ]
    },
    {
     "name": "stdout",
     "output_type": "stream",
     "text": [
      "\u001b[36m(launch_and_fit pid=75448)\u001b[0m \tTrain Epoch: 10 \tTrain_loss: 1.5971 | Train_acc: 44.8333 % | Validation_loss: 1.5897 | Validation_acc: 44.2935 %\n",
      "\u001b[36m(launch_and_fit pid=75448)\u001b[0m save graph in  results/FL/\n"
     ]
    },
    {
     "name": "stderr",
     "output_type": "stream",
     "text": [
      "100%|\u001b[34m██████████\u001b[0m| 10/10 [00:19<00:00,  1.99s/it]\n"
     ]
    },
    {
     "name": "stdout",
     "output_type": "stream",
     "text": [
      "\u001b[36m(launch_and_fit pid=75448)\u001b[0m Run WITHOUT homomorphic encryption\n",
      "\u001b[36m(launch_and_fit pid=75448)\u001b[0m  To get the checkpoint\n",
      "\u001b[36m(launch_and_fit pid=75448)\u001b[0m [Client 2, round 36] fit, config: {'learning_rate': 0.003, 'batch_size': '32', 'server_round': 36, 'local_epochs': 10}\n",
      "\u001b[36m(launch_and_fit pid=75448)\u001b[0m Updated model\n"
     ]
    },
    {
     "name": "stderr",
     "output_type": "stream",
     "text": [
      "  0%|\u001b[34m          \u001b[0m| 0/10 [00:00<?, ?it/s]\n"
     ]
    },
    {
     "name": "stdout",
     "output_type": "stream",
     "text": [
      "\u001b[36m(launch_and_fit pid=75448)\u001b[0m \tTrain Epoch: 1 \tTrain_loss: 1.6388 | Train_acc: 44.0119 % | Validation_loss: 1.7006 | Validation_acc: 45.9239 %\n"
     ]
    },
    {
     "name": "stderr",
     "output_type": "stream",
     "text": [
      " 10%|\u001b[34m█         \u001b[0m| 1/10 [00:02<00:18,  2.04s/it]\n"
     ]
    },
    {
     "name": "stdout",
     "output_type": "stream",
     "text": [
      "\u001b[36m(launch_and_fit pid=75448)\u001b[0m \tTrain Epoch: 2 \tTrain_loss: 1.6481 | Train_acc: 43.8988 % | Validation_loss: 1.5185 | Validation_acc: 53.8496 %\n"
     ]
    },
    {
     "name": "stderr",
     "output_type": "stream",
     "text": [
      " 20%|\u001b[34m██        \u001b[0m| 2/10 [00:04<00:16,  2.04s/it]\n"
     ]
    },
    {
     "name": "stdout",
     "output_type": "stream",
     "text": [
      "\u001b[36m(launch_and_fit pid=75448)\u001b[0m \tTrain Epoch: 3 \tTrain_loss: 1.6177 | Train_acc: 44.7202 % | Validation_loss: 1.5476 | Validation_acc: 52.8080 %\n"
     ]
    },
    {
     "name": "stderr",
     "output_type": "stream",
     "text": [
      " 30%|\u001b[34m███       \u001b[0m| 3/10 [00:06<00:14,  2.03s/it]\n"
     ]
    },
    {
     "name": "stdout",
     "output_type": "stream",
     "text": [
      "\u001b[36m(launch_and_fit pid=75448)\u001b[0m \tTrain Epoch: 4 \tTrain_loss: 1.6173 | Train_acc: 44.4048 % | Validation_loss: 1.5853 | Validation_acc: 51.1322 %\n"
     ]
    },
    {
     "name": "stderr",
     "output_type": "stream",
     "text": [
      " 40%|\u001b[34m████      \u001b[0m| 4/10 [00:08<00:12,  2.01s/it]\n"
     ]
    },
    {
     "name": "stdout",
     "output_type": "stream",
     "text": [
      "\u001b[36m(launch_and_fit pid=75448)\u001b[0m \tTrain Epoch: 5 \tTrain_loss: 1.6038 | Train_acc: 47.7143 % | Validation_loss: 1.5328 | Validation_acc: 53.8496 %\n"
     ]
    },
    {
     "name": "stderr",
     "output_type": "stream",
     "text": [
      " 50%|\u001b[34m█████     \u001b[0m| 5/10 [00:10<00:09,  1.99s/it]\n"
     ]
    },
    {
     "name": "stdout",
     "output_type": "stream",
     "text": [
      "\u001b[36m(launch_and_fit pid=75448)\u001b[0m \tTrain Epoch: 6 \tTrain_loss: 1.6257 | Train_acc: 45.7143 % | Validation_loss: 1.6029 | Validation_acc: 47.5996 %\n"
     ]
    },
    {
     "name": "stderr",
     "output_type": "stream",
     "text": [
      " 60%|\u001b[34m██████    \u001b[0m| 6/10 [00:12<00:08,  2.20s/it]\n"
     ]
    },
    {
     "name": "stdout",
     "output_type": "stream",
     "text": [
      "\u001b[36m(launch_and_fit pid=75448)\u001b[0m \tTrain Epoch: 7 \tTrain_loss: 1.6134 | Train_acc: 44.2143 % | Validation_loss: 1.5743 | Validation_acc: 50.7246 %\n"
     ]
    },
    {
     "name": "stderr",
     "output_type": "stream",
     "text": [
      " 70%|\u001b[34m███████   \u001b[0m| 7/10 [00:14<00:06,  2.14s/it]\n"
     ]
    },
    {
     "name": "stdout",
     "output_type": "stream",
     "text": [
      "\u001b[36m(launch_and_fit pid=75448)\u001b[0m \tTrain Epoch: 8 \tTrain_loss: 1.5991 | Train_acc: 46.2202 % | Validation_loss: 1.5542 | Validation_acc: 50.7246 %\n"
     ]
    },
    {
     "name": "stderr",
     "output_type": "stream",
     "text": [
      " 80%|\u001b[34m████████  \u001b[0m| 8/10 [00:16<00:04,  2.10s/it]\n"
     ]
    },
    {
     "name": "stdout",
     "output_type": "stream",
     "text": [
      "\u001b[36m(launch_and_fit pid=75448)\u001b[0m \tTrain Epoch: 9 \tTrain_loss: 1.5998 | Train_acc: 45.7143 % | Validation_loss: 1.5622 | Validation_acc: 49.6830 %\n"
     ]
    },
    {
     "name": "stderr",
     "output_type": "stream",
     "text": [
      " 90%|\u001b[34m█████████ \u001b[0m| 9/10 [00:18<00:02,  2.08s/it]\n"
     ]
    },
    {
     "name": "stdout",
     "output_type": "stream",
     "text": [
      "\u001b[36m(launch_and_fit pid=75448)\u001b[0m \tTrain Epoch: 10 \tTrain_loss: 1.5909 | Train_acc: 48.9048 % | Validation_loss: 1.5855 | Validation_acc: 49.6830 %\n",
      "\u001b[36m(launch_and_fit pid=75448)\u001b[0m save graph in  results/FL/\n"
     ]
    },
    {
     "name": "stderr",
     "output_type": "stream",
     "text": [
      "100%|\u001b[34m██████████\u001b[0m| 10/10 [00:20<00:00,  2.07s/it]\n"
     ]
    },
    {
     "name": "stdout",
     "output_type": "stream",
     "text": [
      "\u001b[36m(launch_and_fit pid=75448)\u001b[0m Run WITHOUT homomorphic encryption\n",
      "\u001b[36m(launch_and_fit pid=75448)\u001b[0m  To get the checkpoint\n",
      "\u001b[36m(launch_and_fit pid=75448)\u001b[0m [Client 3, round 36] fit, config: {'learning_rate': 0.003, 'batch_size': '32', 'server_round': 36, 'local_epochs': 10}\n",
      "\u001b[36m(launch_and_fit pid=75448)\u001b[0m Updated model\n"
     ]
    },
    {
     "name": "stderr",
     "output_type": "stream",
     "text": [
      "  0%|\u001b[34m          \u001b[0m| 0/10 [00:00<?, ?it/s]\n"
     ]
    },
    {
     "name": "stdout",
     "output_type": "stream",
     "text": [
      "\u001b[36m(launch_and_fit pid=75448)\u001b[0m \tTrain Epoch: 1 \tTrain_loss: 1.6026 | Train_acc: 48.8452 % | Validation_loss: 1.6513 | Validation_acc: 38.6775 %\n"
     ]
    },
    {
     "name": "stderr",
     "output_type": "stream",
     "text": [
      " 10%|\u001b[34m█         \u001b[0m| 1/10 [00:02<00:18,  2.04s/it]\n"
     ]
    },
    {
     "name": "stdout",
     "output_type": "stream",
     "text": [
      "\u001b[36m(launch_and_fit pid=75448)\u001b[0m \tTrain Epoch: 2 \tTrain_loss: 1.5830 | Train_acc: 48.4107 % | Validation_loss: 1.6449 | Validation_acc: 40.5344 %\n"
     ]
    },
    {
     "name": "stderr",
     "output_type": "stream",
     "text": [
      " 20%|\u001b[34m██        \u001b[0m| 2/10 [00:04<00:16,  2.03s/it]\n"
     ]
    },
    {
     "name": "stdout",
     "output_type": "stream",
     "text": [
      "\u001b[36m(launch_and_fit pid=75448)\u001b[0m \tTrain Epoch: 3 \tTrain_loss: 1.5539 | Train_acc: 51.3631 % | Validation_loss: 1.6624 | Validation_acc: 39.0851 %\n"
     ]
    },
    {
     "name": "stderr",
     "output_type": "stream",
     "text": [
      " 30%|\u001b[34m███       \u001b[0m| 3/10 [00:06<00:14,  2.02s/it]\n"
     ]
    },
    {
     "name": "stdout",
     "output_type": "stream",
     "text": [
      "\u001b[36m(launch_and_fit pid=75448)\u001b[0m \tTrain Epoch: 4 \tTrain_loss: 1.5492 | Train_acc: 52.3571 % | Validation_loss: 1.6612 | Validation_acc: 38.4511 %\n"
     ]
    },
    {
     "name": "stderr",
     "output_type": "stream",
     "text": [
      " 40%|\u001b[34m████      \u001b[0m| 4/10 [00:08<00:12,  2.02s/it]\n"
     ]
    },
    {
     "name": "stdout",
     "output_type": "stream",
     "text": [
      "\u001b[36m(launch_and_fit pid=75448)\u001b[0m \tTrain Epoch: 5 \tTrain_loss: 1.5453 | Train_acc: 51.7857 % | Validation_loss: 1.6662 | Validation_acc: 38.0435 %\n"
     ]
    },
    {
     "name": "stderr",
     "output_type": "stream",
     "text": [
      " 50%|\u001b[34m█████     \u001b[0m| 5/10 [00:10<00:10,  2.02s/it]\n"
     ]
    },
    {
     "name": "stdout",
     "output_type": "stream",
     "text": [
      "\u001b[36m(launch_and_fit pid=75448)\u001b[0m \tTrain Epoch: 6 \tTrain_loss: 1.5587 | Train_acc: 51.4702 % | Validation_loss: 1.6696 | Validation_acc: 38.4511 %\n"
     ]
    },
    {
     "name": "stderr",
     "output_type": "stream",
     "text": [
      " 60%|\u001b[34m██████    \u001b[0m| 6/10 [00:12<00:08,  2.00s/it]\n"
     ]
    },
    {
     "name": "stdout",
     "output_type": "stream",
     "text": [
      "\u001b[36m(launch_and_fit pid=75448)\u001b[0m \tTrain Epoch: 7 \tTrain_loss: 1.5679 | Train_acc: 50.7679 % | Validation_loss: 1.6829 | Validation_acc: 34.2844 %\n"
     ]
    },
    {
     "name": "stderr",
     "output_type": "stream",
     "text": [
      " 70%|\u001b[34m███████   \u001b[0m| 7/10 [00:14<00:05,  1.98s/it]\n"
     ]
    },
    {
     "name": "stdout",
     "output_type": "stream",
     "text": [
      "\u001b[36m(launch_and_fit pid=75448)\u001b[0m \tTrain Epoch: 8 \tTrain_loss: 1.5813 | Train_acc: 49.1548 % | Validation_loss: 1.6764 | Validation_acc: 35.9601 %\n"
     ]
    },
    {
     "name": "stderr",
     "output_type": "stream",
     "text": [
      " 80%|\u001b[34m████████  \u001b[0m| 8/10 [00:15<00:03,  1.97s/it]\n"
     ]
    },
    {
     "name": "stdout",
     "output_type": "stream",
     "text": [
      "\u001b[36m(launch_and_fit pid=75448)\u001b[0m \tTrain Epoch: 9 \tTrain_loss: 1.5534 | Train_acc: 50.3452 % | Validation_loss: 1.6347 | Validation_acc: 42.6178 %\n"
     ]
    },
    {
     "name": "stderr",
     "output_type": "stream",
     "text": [
      " 90%|\u001b[34m█████████ \u001b[0m| 9/10 [00:17<00:01,  1.98s/it]\n"
     ]
    },
    {
     "name": "stdout",
     "output_type": "stream",
     "text": [
      "\u001b[36m(launch_and_fit pid=75448)\u001b[0m \tTrain Epoch: 10 \tTrain_loss: 1.5461 | Train_acc: 52.8988 % | Validation_loss: 1.6249 | Validation_acc: 43.6594 %\n",
      "\u001b[36m(launch_and_fit pid=75448)\u001b[0m save graph in  results/FL/\n"
     ]
    },
    {
     "name": "stderr",
     "output_type": "stream",
     "text": [
      "100%|\u001b[34m██████████\u001b[0m| 10/10 [00:19<00:00,  1.99s/it]\n"
     ]
    },
    {
     "name": "stdout",
     "output_type": "stream",
     "text": [
      "\u001b[36m(launch_and_fit pid=75448)\u001b[0m Run WITHOUT homomorphic encryption\n",
      "\u001b[36m(launch_and_fit pid=75448)\u001b[0m  To get the checkpoint\n",
      "\u001b[36m(launch_and_fit pid=75448)\u001b[0m [Client 0, round 36] fit, config: {'learning_rate': 0.003, 'batch_size': '32', 'server_round': 36, 'local_epochs': 10}\n",
      "\u001b[36m(launch_and_fit pid=75448)\u001b[0m Updated model\n"
     ]
    },
    {
     "name": "stderr",
     "output_type": "stream",
     "text": [
      "  0%|\u001b[34m          \u001b[0m| 0/10 [00:00<?, ?it/s]\n"
     ]
    },
    {
     "name": "stdout",
     "output_type": "stream",
     "text": [
      "\u001b[36m(launch_and_fit pid=75448)\u001b[0m \tTrain Epoch: 1 \tTrain_loss: 1.5959 | Train_acc: 45.0952 % | Validation_loss: 1.6728 | Validation_acc: 41.3496 %\n"
     ]
    },
    {
     "name": "stderr",
     "output_type": "stream",
     "text": [
      " 10%|\u001b[34m█         \u001b[0m| 1/10 [00:01<00:17,  1.94s/it]\n"
     ]
    },
    {
     "name": "stdout",
     "output_type": "stream",
     "text": [
      "\u001b[36m(launch_and_fit pid=75448)\u001b[0m \tTrain Epoch: 2 \tTrain_loss: 1.5626 | Train_acc: 49.2679 % | Validation_loss: 1.7459 | Validation_acc: 37.0018 %\n"
     ]
    },
    {
     "name": "stderr",
     "output_type": "stream",
     "text": [
      " 20%|\u001b[34m██        \u001b[0m| 2/10 [00:03<00:15,  1.94s/it]\n"
     ]
    },
    {
     "name": "stdout",
     "output_type": "stream",
     "text": [
      "\u001b[36m(launch_and_fit pid=75448)\u001b[0m \tTrain Epoch: 3 \tTrain_loss: 1.5671 | Train_acc: 46.5893 % | Validation_loss: 1.7059 | Validation_acc: 38.4511 %\n"
     ]
    },
    {
     "name": "stderr",
     "output_type": "stream",
     "text": [
      " 30%|\u001b[34m███       \u001b[0m| 3/10 [00:05<00:13,  1.94s/it]\n"
     ]
    },
    {
     "name": "stdout",
     "output_type": "stream",
     "text": [
      "\u001b[36m(launch_and_fit pid=75448)\u001b[0m \tTrain Epoch: 4 \tTrain_loss: 1.5438 | Train_acc: 49.4643 % | Validation_loss: 1.7363 | Validation_acc: 37.4094 %\n"
     ]
    },
    {
     "name": "stderr",
     "output_type": "stream",
     "text": [
      " 40%|\u001b[34m████      \u001b[0m| 4/10 [00:07<00:11,  1.94s/it]\n"
     ]
    },
    {
     "name": "stdout",
     "output_type": "stream",
     "text": [
      "\u001b[36m(launch_and_fit pid=75448)\u001b[0m \tTrain Epoch: 5 \tTrain_loss: 1.5281 | Train_acc: 49.6071 % | Validation_loss: 1.7151 | Validation_acc: 37.4094 %\n"
     ]
    },
    {
     "name": "stderr",
     "output_type": "stream",
     "text": [
      " 50%|\u001b[34m█████     \u001b[0m| 5/10 [00:09<00:09,  1.94s/it]\n"
     ]
    },
    {
     "name": "stdout",
     "output_type": "stream",
     "text": [
      "\u001b[36m(launch_and_fit pid=75448)\u001b[0m \tTrain Epoch: 6 \tTrain_loss: 1.5212 | Train_acc: 50.7976 % | Validation_loss: 1.7590 | Validation_acc: 36.7754 %\n"
     ]
    },
    {
     "name": "stderr",
     "output_type": "stream",
     "text": [
      " 60%|\u001b[34m██████    \u001b[0m| 6/10 [00:11<00:07,  1.94s/it]\n"
     ]
    },
    {
     "name": "stdout",
     "output_type": "stream",
     "text": [
      "\u001b[36m(launch_and_fit pid=75448)\u001b[0m \tTrain Epoch: 7 \tTrain_loss: 1.5101 | Train_acc: 51.3452 % | Validation_loss: 1.7447 | Validation_acc: 36.3678 %\n"
     ]
    },
    {
     "name": "stderr",
     "output_type": "stream",
     "text": [
      " 70%|\u001b[34m███████   \u001b[0m| 7/10 [00:13<00:05,  1.94s/it]\n"
     ]
    },
    {
     "name": "stdout",
     "output_type": "stream",
     "text": [
      "\u001b[36m(launch_and_fit pid=75448)\u001b[0m \tTrain Epoch: 8 \tTrain_loss: 1.5126 | Train_acc: 49.3452 % | Validation_loss: 1.7071 | Validation_acc: 39.9004 %\n"
     ]
    },
    {
     "name": "stderr",
     "output_type": "stream",
     "text": [
      " 80%|\u001b[34m████████  \u001b[0m| 8/10 [00:15<00:03,  1.95s/it]\n"
     ]
    },
    {
     "name": "stdout",
     "output_type": "stream",
     "text": [
      "\u001b[36m(launch_and_fit pid=75448)\u001b[0m \tTrain Epoch: 9 \tTrain_loss: 1.5251 | Train_acc: 49.8988 % | Validation_loss: 1.8001 | Validation_acc: 34.9185 %\n"
     ]
    },
    {
     "name": "stderr",
     "output_type": "stream",
     "text": [
      " 90%|\u001b[34m█████████ \u001b[0m| 9/10 [00:17<00:01,  1.95s/it]\n",
      "100%|\u001b[34m██████████\u001b[0m| 10/10 [00:19<00:00,  1.95s/it]\n",
      "DEBUG flwr 2024-08-30 02:52:20,027 | server.py:236 | fit_round 36 received 4 results and 0 failures\n"
     ]
    },
    {
     "name": "stdout",
     "output_type": "stream",
     "text": [
      "\u001b[36m(launch_and_fit pid=75448)\u001b[0m \tTrain Epoch: 10 \tTrain_loss: 1.5252 | Train_acc: 49.5298 % | Validation_loss: 1.7399 | Validation_acc: 37.4094 %\n",
      "\u001b[36m(launch_and_fit pid=75448)\u001b[0m save graph in  results/FL/\n",
      "Saving round 36 aggregated_parameters...\n",
      "Updated model\n"
     ]
    },
    {
     "name": "stderr",
     "output_type": "stream",
     "text": [
      "INFO flwr 2024-08-30 02:52:20,783 | server.py:125 | fit progress: (36, 1.6231243014335632, {'accuracy': 46.13095238095238}, 4372.914220883977)\n",
      "DEBUG flwr 2024-08-30 02:52:20,784 | server.py:173 | evaluate_round 36: strategy sampled 4 clients (out of 4)\n"
     ]
    },
    {
     "name": "stdout",
     "output_type": "stream",
     "text": [
      "Server-side evaluation loss 1.6231243014335632 / accuracy 46.13095238095238\n",
      "\u001b[36m(launch_and_evaluate pid=75448)\u001b[0m Run WITHOUT homomorphic encryption\n",
      "\u001b[36m(launch_and_evaluate pid=75448)\u001b[0m  To get the checkpoint\n",
      "\u001b[36m(launch_and_evaluate pid=75448)\u001b[0m [Client 2] evaluate, config: {}\n",
      "\u001b[36m(launch_and_evaluate pid=75448)\u001b[0m Updated model\n",
      "\u001b[36m(launch_and_evaluate pid=75448)\u001b[0m Run WITHOUT homomorphic encryption\n",
      "\u001b[36m(launch_and_evaluate pid=75448)\u001b[0m  To get the checkpoint\n",
      "\u001b[36m(launch_and_evaluate pid=75448)\u001b[0m [Client 3] evaluate, config: {}\n",
      "\u001b[36m(launch_and_evaluate pid=75448)\u001b[0m Updated model\n",
      "\u001b[36m(launch_and_evaluate pid=75448)\u001b[0m Run WITHOUT homomorphic encryption\n",
      "\u001b[36m(launch_and_evaluate pid=75448)\u001b[0m  To get the checkpoint\n",
      "\u001b[36m(launch_and_evaluate pid=75448)\u001b[0m [Client 1] evaluate, config: {}\n",
      "\u001b[36m(launch_and_evaluate pid=75448)\u001b[0m Updated model\n",
      "\u001b[36m(launch_and_evaluate pid=75448)\u001b[0m Run WITHOUT homomorphic encryption\n",
      "\u001b[36m(launch_and_evaluate pid=75448)\u001b[0m  To get the checkpoint\n",
      "\u001b[36m(launch_and_evaluate pid=75448)\u001b[0m [Client 0] evaluate, config: {}\n",
      "\u001b[36m(launch_and_evaluate pid=75448)\u001b[0m Updated model\n"
     ]
    },
    {
     "name": "stderr",
     "output_type": "stream",
     "text": [
      "DEBUG flwr 2024-08-30 02:52:23,315 | server.py:187 | evaluate_round 36 received 4 results and 0 failures\n",
      "DEBUG flwr 2024-08-30 02:52:23,316 | server.py:222 | fit_round 37: strategy sampled 4 clients (out of 4)\n"
     ]
    },
    {
     "name": "stdout",
     "output_type": "stream",
     "text": [
      "\u001b[36m(launch_and_fit pid=75448)\u001b[0m Run WITHOUT homomorphic encryption\n",
      "\u001b[36m(launch_and_fit pid=75448)\u001b[0m  To get the checkpoint\n",
      "\u001b[36m(launch_and_fit pid=75448)\u001b[0m [Client 0, round 37] fit, config: {'learning_rate': 0.003, 'batch_size': '32', 'server_round': 37, 'local_epochs': 10}\n",
      "\u001b[36m(launch_and_fit pid=75448)\u001b[0m Updated model\n"
     ]
    },
    {
     "name": "stderr",
     "output_type": "stream",
     "text": [
      "  0%|\u001b[34m          \u001b[0m| 0/10 [00:00<?, ?it/s]\n"
     ]
    },
    {
     "name": "stdout",
     "output_type": "stream",
     "text": [
      "\u001b[36m(launch_and_fit pid=75448)\u001b[0m \tTrain Epoch: 1 \tTrain_loss: 1.5901 | Train_acc: 45.0357 % | Validation_loss: 1.7256 | Validation_acc: 40.3080 %\n"
     ]
    },
    {
     "name": "stderr",
     "output_type": "stream",
     "text": [
      " 10%|\u001b[34m█         \u001b[0m| 1/10 [00:01<00:17,  1.96s/it]\n"
     ]
    },
    {
     "name": "stdout",
     "output_type": "stream",
     "text": [
      "\u001b[36m(launch_and_fit pid=75448)\u001b[0m \tTrain Epoch: 2 \tTrain_loss: 1.5272 | Train_acc: 50.1012 % | Validation_loss: 1.7054 | Validation_acc: 43.8406 %\n"
     ]
    },
    {
     "name": "stderr",
     "output_type": "stream",
     "text": [
      " 20%|\u001b[34m██        \u001b[0m| 2/10 [00:03<00:15,  1.97s/it]\n"
     ]
    },
    {
     "name": "stdout",
     "output_type": "stream",
     "text": [
      "\u001b[36m(launch_and_fit pid=75448)\u001b[0m \tTrain Epoch: 3 \tTrain_loss: 1.5245 | Train_acc: 49.7143 % | Validation_loss: 1.7107 | Validation_acc: 34.9185 %\n"
     ]
    },
    {
     "name": "stderr",
     "output_type": "stream",
     "text": [
      " 30%|\u001b[34m███       \u001b[0m| 3/10 [00:05<00:13,  1.98s/it]\n"
     ]
    },
    {
     "name": "stdout",
     "output_type": "stream",
     "text": [
      "\u001b[36m(launch_and_fit pid=75448)\u001b[0m \tTrain Epoch: 4 \tTrain_loss: 1.5315 | Train_acc: 50.4643 % | Validation_loss: 1.7509 | Validation_acc: 36.3678 %\n"
     ]
    },
    {
     "name": "stderr",
     "output_type": "stream",
     "text": [
      " 40%|\u001b[34m████      \u001b[0m| 4/10 [00:07<00:11,  1.99s/it]\n"
     ]
    },
    {
     "name": "stdout",
     "output_type": "stream",
     "text": [
      "\u001b[36m(launch_and_fit pid=75448)\u001b[0m \tTrain Epoch: 5 \tTrain_loss: 1.5429 | Train_acc: 48.8452 % | Validation_loss: 1.7582 | Validation_acc: 35.3261 %\n"
     ]
    },
    {
     "name": "stderr",
     "output_type": "stream",
     "text": [
      " 50%|\u001b[34m█████     \u001b[0m| 5/10 [00:09<00:09,  1.99s/it]\n"
     ]
    },
    {
     "name": "stdout",
     "output_type": "stream",
     "text": [
      "\u001b[36m(launch_and_fit pid=75448)\u001b[0m \tTrain Epoch: 6 \tTrain_loss: 1.5250 | Train_acc: 49.8571 % | Validation_loss: 1.7673 | Validation_acc: 36.3678 %\n"
     ]
    },
    {
     "name": "stderr",
     "output_type": "stream",
     "text": [
      " 60%|\u001b[34m██████    \u001b[0m| 6/10 [00:11<00:07,  1.99s/it]\n"
     ]
    },
    {
     "name": "stdout",
     "output_type": "stream",
     "text": [
      "\u001b[36m(launch_and_fit pid=75448)\u001b[0m \tTrain Epoch: 7 \tTrain_loss: 1.6496 | Train_acc: 41.5179 % | Validation_loss: 1.8117 | Validation_acc: 34.9185 %\n"
     ]
    },
    {
     "name": "stderr",
     "output_type": "stream",
     "text": [
      " 70%|\u001b[34m███████   \u001b[0m| 7/10 [00:13<00:05,  2.00s/it]\n"
     ]
    },
    {
     "name": "stdout",
     "output_type": "stream",
     "text": [
      "\u001b[36m(launch_and_fit pid=75448)\u001b[0m \tTrain Epoch: 8 \tTrain_loss: 1.5985 | Train_acc: 44.9048 % | Validation_loss: 1.7995 | Validation_acc: 33.8768 %\n"
     ]
    },
    {
     "name": "stderr",
     "output_type": "stream",
     "text": [
      " 80%|\u001b[34m████████  \u001b[0m| 8/10 [00:15<00:04,  2.00s/it]\n"
     ]
    },
    {
     "name": "stdout",
     "output_type": "stream",
     "text": [
      "\u001b[36m(launch_and_fit pid=75448)\u001b[0m \tTrain Epoch: 9 \tTrain_loss: 1.5626 | Train_acc: 48.2083 % | Validation_loss: 1.7210 | Validation_acc: 34.9185 %\n"
     ]
    },
    {
     "name": "stderr",
     "output_type": "stream",
     "text": [
      " 90%|\u001b[34m█████████ \u001b[0m| 9/10 [00:17<00:02,  2.00s/it]\n"
     ]
    },
    {
     "name": "stdout",
     "output_type": "stream",
     "text": [
      "\u001b[36m(launch_and_fit pid=75448)\u001b[0m \tTrain Epoch: 10 \tTrain_loss: 1.5381 | Train_acc: 49.4107 % | Validation_loss: 1.7033 | Validation_acc: 37.8170 %\n",
      "\u001b[36m(launch_and_fit pid=75448)\u001b[0m save graph in  results/FL/\n"
     ]
    },
    {
     "name": "stderr",
     "output_type": "stream",
     "text": [
      "100%|\u001b[34m██████████\u001b[0m| 10/10 [00:19<00:00,  1.99s/it]\n"
     ]
    },
    {
     "name": "stdout",
     "output_type": "stream",
     "text": [
      "\u001b[36m(launch_and_fit pid=75448)\u001b[0m Run WITHOUT homomorphic encryption\n",
      "\u001b[36m(launch_and_fit pid=75448)\u001b[0m  To get the checkpoint\n",
      "\u001b[36m(launch_and_fit pid=75448)\u001b[0m [Client 1, round 37] fit, config: {'learning_rate': 0.003, 'batch_size': '32', 'server_round': 37, 'local_epochs': 10}\n",
      "\u001b[36m(launch_and_fit pid=75448)\u001b[0m Updated model\n"
     ]
    },
    {
     "name": "stderr",
     "output_type": "stream",
     "text": [
      "  0%|\u001b[34m          \u001b[0m| 0/10 [00:00<?, ?it/s]\n"
     ]
    },
    {
     "name": "stdout",
     "output_type": "stream",
     "text": [
      "\u001b[36m(launch_and_fit pid=75448)\u001b[0m \tTrain Epoch: 1 \tTrain_loss: 1.6208 | Train_acc: 43.9583 % | Validation_loss: 1.5593 | Validation_acc: 51.1322 %\n"
     ]
    },
    {
     "name": "stderr",
     "output_type": "stream",
     "text": [
      " 10%|\u001b[34m█         \u001b[0m| 1/10 [00:01<00:17,  2.00s/it]\n"
     ]
    },
    {
     "name": "stdout",
     "output_type": "stream",
     "text": [
      "\u001b[36m(launch_and_fit pid=75448)\u001b[0m \tTrain Epoch: 2 \tTrain_loss: 1.5985 | Train_acc: 46.2262 % | Validation_loss: 1.5923 | Validation_acc: 46.7844 %\n"
     ]
    },
    {
     "name": "stderr",
     "output_type": "stream",
     "text": [
      " 20%|\u001b[34m██        \u001b[0m| 2/10 [00:03<00:15,  1.99s/it]\n"
     ]
    },
    {
     "name": "stdout",
     "output_type": "stream",
     "text": [
      "\u001b[36m(launch_and_fit pid=75448)\u001b[0m \tTrain Epoch: 3 \tTrain_loss: 1.5697 | Train_acc: 48.3393 % | Validation_loss: 1.6246 | Validation_acc: 50.4982 %\n"
     ]
    },
    {
     "name": "stderr",
     "output_type": "stream",
     "text": [
      " 30%|\u001b[34m███       \u001b[0m| 3/10 [00:05<00:13,  1.96s/it]\n"
     ]
    },
    {
     "name": "stdout",
     "output_type": "stream",
     "text": [
      "\u001b[36m(launch_and_fit pid=75448)\u001b[0m \tTrain Epoch: 4 \tTrain_loss: 1.5996 | Train_acc: 47.0417 % | Validation_loss: 1.5761 | Validation_acc: 50.7246 %\n"
     ]
    },
    {
     "name": "stderr",
     "output_type": "stream",
     "text": [
      " 40%|\u001b[34m████      \u001b[0m| 4/10 [00:07<00:11,  1.95s/it]\n"
     ]
    },
    {
     "name": "stdout",
     "output_type": "stream",
     "text": [
      "\u001b[36m(launch_and_fit pid=75448)\u001b[0m \tTrain Epoch: 5 \tTrain_loss: 1.6190 | Train_acc: 45.1607 % | Validation_loss: 1.6085 | Validation_acc: 46.5580 %\n"
     ]
    },
    {
     "name": "stderr",
     "output_type": "stream",
     "text": [
      " 50%|\u001b[34m█████     \u001b[0m| 5/10 [00:09<00:09,  1.94s/it]\n"
     ]
    },
    {
     "name": "stdout",
     "output_type": "stream",
     "text": [
      "\u001b[36m(launch_and_fit pid=75448)\u001b[0m \tTrain Epoch: 6 \tTrain_loss: 1.5796 | Train_acc: 45.7143 % | Validation_loss: 1.5789 | Validation_acc: 51.7663 %\n"
     ]
    },
    {
     "name": "stderr",
     "output_type": "stream",
     "text": [
      " 60%|\u001b[34m██████    \u001b[0m| 6/10 [00:11<00:07,  1.94s/it]\n"
     ]
    },
    {
     "name": "stdout",
     "output_type": "stream",
     "text": [
      "\u001b[36m(launch_and_fit pid=75448)\u001b[0m \tTrain Epoch: 7 \tTrain_loss: 1.5859 | Train_acc: 46.0238 % | Validation_loss: 1.6199 | Validation_acc: 43.6594 %\n"
     ]
    },
    {
     "name": "stderr",
     "output_type": "stream",
     "text": [
      " 70%|\u001b[34m███████   \u001b[0m| 7/10 [00:13<00:05,  1.94s/it]\n"
     ]
    },
    {
     "name": "stdout",
     "output_type": "stream",
     "text": [
      "\u001b[36m(launch_and_fit pid=75448)\u001b[0m \tTrain Epoch: 8 \tTrain_loss: 1.5685 | Train_acc: 48.5833 % | Validation_loss: 1.5832 | Validation_acc: 50.7246 %\n"
     ]
    },
    {
     "name": "stderr",
     "output_type": "stream",
     "text": [
      " 80%|\u001b[34m████████  \u001b[0m| 8/10 [00:15<00:03,  1.95s/it]\n"
     ]
    },
    {
     "name": "stdout",
     "output_type": "stream",
     "text": [
      "\u001b[36m(launch_and_fit pid=75448)\u001b[0m \tTrain Epoch: 9 \tTrain_loss: 1.5633 | Train_acc: 47.9762 % | Validation_loss: 1.5859 | Validation_acc: 48.2337 %\n"
     ]
    },
    {
     "name": "stderr",
     "output_type": "stream",
     "text": [
      " 90%|\u001b[34m█████████ \u001b[0m| 9/10 [00:17<00:01,  1.97s/it]\n"
     ]
    },
    {
     "name": "stdout",
     "output_type": "stream",
     "text": [
      "\u001b[36m(launch_and_fit pid=75448)\u001b[0m \tTrain Epoch: 10 \tTrain_loss: 1.5520 | Train_acc: 48.7738 % | Validation_loss: 1.6387 | Validation_acc: 44.7011 %\n",
      "\u001b[36m(launch_and_fit pid=75448)\u001b[0m save graph in  results/FL/\n"
     ]
    },
    {
     "name": "stderr",
     "output_type": "stream",
     "text": [
      "100%|\u001b[34m██████████\u001b[0m| 10/10 [00:19<00:00,  1.96s/it]\n"
     ]
    },
    {
     "name": "stdout",
     "output_type": "stream",
     "text": [
      "\u001b[36m(launch_and_fit pid=75448)\u001b[0m Run WITHOUT homomorphic encryption\n",
      "\u001b[36m(launch_and_fit pid=75448)\u001b[0m  To get the checkpoint\n",
      "\u001b[36m(launch_and_fit pid=75448)\u001b[0m [Client 2, round 37] fit, config: {'learning_rate': 0.003, 'batch_size': '32', 'server_round': 37, 'local_epochs': 10}\n",
      "\u001b[36m(launch_and_fit pid=75448)\u001b[0m Updated model\n"
     ]
    },
    {
     "name": "stderr",
     "output_type": "stream",
     "text": [
      "  0%|\u001b[34m          \u001b[0m| 0/10 [00:00<?, ?it/s]\n"
     ]
    },
    {
     "name": "stdout",
     "output_type": "stream",
     "text": [
      "\u001b[36m(launch_and_fit pid=75448)\u001b[0m \tTrain Epoch: 1 \tTrain_loss: 1.7363 | Train_acc: 38.9643 % | Validation_loss: 1.6562 | Validation_acc: 46.5580 %\n"
     ]
    },
    {
     "name": "stderr",
     "output_type": "stream",
     "text": [
      " 10%|\u001b[34m█         \u001b[0m| 1/10 [00:02<00:18,  2.01s/it]\n"
     ]
    },
    {
     "name": "stdout",
     "output_type": "stream",
     "text": [
      "\u001b[36m(launch_and_fit pid=75448)\u001b[0m \tTrain Epoch: 2 \tTrain_loss: 1.6696 | Train_acc: 41.1548 % | Validation_loss: 1.5782 | Validation_acc: 49.6830 %\n"
     ]
    },
    {
     "name": "stderr",
     "output_type": "stream",
     "text": [
      " 20%|\u001b[34m██        \u001b[0m| 2/10 [00:04<00:16,  2.00s/it]\n"
     ]
    },
    {
     "name": "stdout",
     "output_type": "stream",
     "text": [
      "\u001b[36m(launch_and_fit pid=75448)\u001b[0m \tTrain Epoch: 3 \tTrain_loss: 1.6064 | Train_acc: 46.0357 % | Validation_loss: 1.5632 | Validation_acc: 49.6830 %\n"
     ]
    },
    {
     "name": "stderr",
     "output_type": "stream",
     "text": [
      " 30%|\u001b[34m███       \u001b[0m| 3/10 [00:06<00:14,  2.00s/it]\n"
     ]
    },
    {
     "name": "stdout",
     "output_type": "stream",
     "text": [
      "\u001b[36m(launch_and_fit pid=75448)\u001b[0m \tTrain Epoch: 4 \tTrain_loss: 1.6327 | Train_acc: 44.2024 % | Validation_loss: 1.6309 | Validation_acc: 50.7246 %\n"
     ]
    },
    {
     "name": "stderr",
     "output_type": "stream",
     "text": [
      " 40%|\u001b[34m████      \u001b[0m| 4/10 [00:08<00:12,  2.00s/it]\n"
     ]
    },
    {
     "name": "stdout",
     "output_type": "stream",
     "text": [
      "\u001b[36m(launch_and_fit pid=75448)\u001b[0m \tTrain Epoch: 5 \tTrain_loss: 1.6587 | Train_acc: 41.6488 % | Validation_loss: 1.6469 | Validation_acc: 43.8406 %\n"
     ]
    },
    {
     "name": "stderr",
     "output_type": "stream",
     "text": [
      " 50%|\u001b[34m█████     \u001b[0m| 5/10 [00:10<00:10,  2.01s/it]\n"
     ]
    },
    {
     "name": "stdout",
     "output_type": "stream",
     "text": [
      "\u001b[36m(launch_and_fit pid=75448)\u001b[0m \tTrain Epoch: 6 \tTrain_loss: 1.7036 | Train_acc: 39.4048 % | Validation_loss: 1.6094 | Validation_acc: 51.1322 %\n"
     ]
    },
    {
     "name": "stderr",
     "output_type": "stream",
     "text": [
      " 60%|\u001b[34m██████    \u001b[0m| 6/10 [00:12<00:08,  2.01s/it]\n"
     ]
    },
    {
     "name": "stdout",
     "output_type": "stream",
     "text": [
      "\u001b[36m(launch_and_fit pid=75448)\u001b[0m \tTrain Epoch: 7 \tTrain_loss: 1.6143 | Train_acc: 47.2262 % | Validation_loss: 1.5656 | Validation_acc: 52.8080 %\n"
     ]
    },
    {
     "name": "stderr",
     "output_type": "stream",
     "text": [
      " 70%|\u001b[34m███████   \u001b[0m| 7/10 [00:13<00:05,  1.98s/it]\n"
     ]
    },
    {
     "name": "stdout",
     "output_type": "stream",
     "text": [
      "\u001b[36m(launch_and_fit pid=75448)\u001b[0m \tTrain Epoch: 8 \tTrain_loss: 1.6030 | Train_acc: 46.7976 % | Validation_loss: 1.6332 | Validation_acc: 46.5580 %\n"
     ]
    },
    {
     "name": "stderr",
     "output_type": "stream",
     "text": [
      " 80%|\u001b[34m████████  \u001b[0m| 8/10 [00:15<00:03,  1.97s/it]\n"
     ]
    },
    {
     "name": "stdout",
     "output_type": "stream",
     "text": [
      "\u001b[36m(launch_and_fit pid=75448)\u001b[0m \tTrain Epoch: 9 \tTrain_loss: 1.5872 | Train_acc: 47.1607 % | Validation_loss: 1.5566 | Validation_acc: 51.7663 %\n"
     ]
    },
    {
     "name": "stderr",
     "output_type": "stream",
     "text": [
      " 90%|\u001b[34m█████████ \u001b[0m| 9/10 [00:17<00:01,  1.95s/it]\n"
     ]
    },
    {
     "name": "stdout",
     "output_type": "stream",
     "text": [
      "\u001b[36m(launch_and_fit pid=75448)\u001b[0m \tTrain Epoch: 10 \tTrain_loss: 1.6084 | Train_acc: 45.7917 % | Validation_loss: 1.5551 | Validation_acc: 52.1739 %\n",
      "\u001b[36m(launch_and_fit pid=75448)\u001b[0m save graph in  results/FL/\n"
     ]
    },
    {
     "name": "stderr",
     "output_type": "stream",
     "text": [
      "100%|\u001b[34m██████████\u001b[0m| 10/10 [00:19<00:00,  1.97s/it]\n"
     ]
    },
    {
     "name": "stdout",
     "output_type": "stream",
     "text": [
      "\u001b[36m(launch_and_fit pid=75448)\u001b[0m Run WITHOUT homomorphic encryption\n",
      "\u001b[36m(launch_and_fit pid=75448)\u001b[0m  To get the checkpoint\n",
      "\u001b[36m(launch_and_fit pid=75448)\u001b[0m [Client 3, round 37] fit, config: {'learning_rate': 0.003, 'batch_size': '32', 'server_round': 37, 'local_epochs': 10}\n",
      "\u001b[36m(launch_and_fit pid=75448)\u001b[0m Updated model\n"
     ]
    },
    {
     "name": "stderr",
     "output_type": "stream",
     "text": [
      "  0%|\u001b[34m          \u001b[0m| 0/10 [00:00<?, ?it/s]\n"
     ]
    },
    {
     "name": "stdout",
     "output_type": "stream",
     "text": [
      "\u001b[36m(launch_and_fit pid=75448)\u001b[0m \tTrain Epoch: 1 \tTrain_loss: 1.5798 | Train_acc: 49.5833 % | Validation_loss: 1.6208 | Validation_acc: 43.6594 %\n"
     ]
    },
    {
     "name": "stderr",
     "output_type": "stream",
     "text": [
      " 10%|\u001b[34m█         \u001b[0m| 1/10 [00:01<00:17,  1.93s/it]\n"
     ]
    },
    {
     "name": "stdout",
     "output_type": "stream",
     "text": [
      "\u001b[36m(launch_and_fit pid=75448)\u001b[0m \tTrain Epoch: 2 \tTrain_loss: 1.5632 | Train_acc: 49.7738 % | Validation_loss: 1.6339 | Validation_acc: 42.6178 %\n"
     ]
    },
    {
     "name": "stderr",
     "output_type": "stream",
     "text": [
      " 20%|\u001b[34m██        \u001b[0m| 2/10 [00:03<00:15,  1.92s/it]\n"
     ]
    },
    {
     "name": "stdout",
     "output_type": "stream",
     "text": [
      "\u001b[36m(launch_and_fit pid=75448)\u001b[0m \tTrain Epoch: 3 \tTrain_loss: 1.5652 | Train_acc: 48.7143 % | Validation_loss: 1.6665 | Validation_acc: 39.9004 %\n"
     ]
    },
    {
     "name": "stderr",
     "output_type": "stream",
     "text": [
      " 30%|\u001b[34m███       \u001b[0m| 3/10 [00:05<00:13,  1.94s/it]\n"
     ]
    },
    {
     "name": "stdout",
     "output_type": "stream",
     "text": [
      "\u001b[36m(launch_and_fit pid=75448)\u001b[0m \tTrain Epoch: 4 \tTrain_loss: 1.5898 | Train_acc: 48.7798 % | Validation_loss: 1.6523 | Validation_acc: 40.5344 %\n"
     ]
    },
    {
     "name": "stderr",
     "output_type": "stream",
     "text": [
      " 40%|\u001b[34m████      \u001b[0m| 4/10 [00:07<00:11,  1.97s/it]\n"
     ]
    },
    {
     "name": "stdout",
     "output_type": "stream",
     "text": [
      "\u001b[36m(launch_and_fit pid=75448)\u001b[0m \tTrain Epoch: 5 \tTrain_loss: 1.5496 | Train_acc: 52.0893 % | Validation_loss: 1.6613 | Validation_acc: 40.5344 %\n"
     ]
    },
    {
     "name": "stderr",
     "output_type": "stream",
     "text": [
      " 50%|\u001b[34m█████     \u001b[0m| 5/10 [00:09<00:09,  1.98s/it]\n"
     ]
    },
    {
     "name": "stdout",
     "output_type": "stream",
     "text": [
      "\u001b[36m(launch_and_fit pid=75448)\u001b[0m \tTrain Epoch: 6 \tTrain_loss: 1.5320 | Train_acc: 52.4643 % | Validation_loss: 1.6588 | Validation_acc: 39.9004 %\n"
     ]
    },
    {
     "name": "stderr",
     "output_type": "stream",
     "text": [
      " 60%|\u001b[34m██████    \u001b[0m| 6/10 [00:11<00:07,  1.99s/it]\n"
     ]
    },
    {
     "name": "stdout",
     "output_type": "stream",
     "text": [
      "\u001b[36m(launch_and_fit pid=75448)\u001b[0m \tTrain Epoch: 7 \tTrain_loss: 1.5435 | Train_acc: 52.2857 % | Validation_loss: 1.6418 | Validation_acc: 43.0254 %\n"
     ]
    },
    {
     "name": "stderr",
     "output_type": "stream",
     "text": [
      " 70%|\u001b[34m███████   \u001b[0m| 7/10 [00:13<00:05,  1.99s/it]\n"
     ]
    },
    {
     "name": "stdout",
     "output_type": "stream",
     "text": [
      "\u001b[36m(launch_and_fit pid=75448)\u001b[0m \tTrain Epoch: 8 \tTrain_loss: 1.5422 | Train_acc: 50.7857 % | Validation_loss: 1.6559 | Validation_acc: 41.9837 %\n"
     ]
    },
    {
     "name": "stderr",
     "output_type": "stream",
     "text": [
      " 80%|\u001b[34m████████  \u001b[0m| 8/10 [00:15<00:03,  1.98s/it]\n"
     ]
    },
    {
     "name": "stdout",
     "output_type": "stream",
     "text": [
      "\u001b[36m(launch_and_fit pid=75448)\u001b[0m \tTrain Epoch: 9 \tTrain_loss: 1.5619 | Train_acc: 49.4524 % | Validation_loss: 1.6933 | Validation_acc: 32.8351 %\n"
     ]
    },
    {
     "name": "stderr",
     "output_type": "stream",
     "text": [
      " 90%|\u001b[34m█████████ \u001b[0m| 9/10 [00:17<00:01,  1.96s/it]\n",
      "100%|\u001b[34m██████████\u001b[0m| 10/10 [00:19<00:00,  1.96s/it]\n",
      "DEBUG flwr 2024-08-30 02:53:43,842 | server.py:236 | fit_round 37 received 4 results and 0 failures\n"
     ]
    },
    {
     "name": "stdout",
     "output_type": "stream",
     "text": [
      "\u001b[36m(launch_and_fit pid=75448)\u001b[0m \tTrain Epoch: 10 \tTrain_loss: 1.5522 | Train_acc: 50.5952 % | Validation_loss: 1.6312 | Validation_acc: 40.5344 %\n",
      "\u001b[36m(launch_and_fit pid=75448)\u001b[0m save graph in  results/FL/\n",
      "Saving round 37 aggregated_parameters...\n",
      "Updated model\n"
     ]
    },
    {
     "name": "stderr",
     "output_type": "stream",
     "text": [
      "INFO flwr 2024-08-30 02:53:44,601 | server.py:125 | fit progress: (37, 1.6222399175167084, {'accuracy': 46.39136904761905}, 4456.731757744215)\n",
      "DEBUG flwr 2024-08-30 02:53:44,602 | server.py:173 | evaluate_round 37: strategy sampled 4 clients (out of 4)\n"
     ]
    },
    {
     "name": "stdout",
     "output_type": "stream",
     "text": [
      "Server-side evaluation loss 1.6222399175167084 / accuracy 46.39136904761905\n",
      "\u001b[36m(launch_and_evaluate pid=75448)\u001b[0m Run WITHOUT homomorphic encryption\n",
      "\u001b[36m(launch_and_evaluate pid=75448)\u001b[0m  To get the checkpoint\n",
      "\u001b[36m(launch_and_evaluate pid=75448)\u001b[0m [Client 3] evaluate, config: {}\n",
      "\u001b[36m(launch_and_evaluate pid=75448)\u001b[0m Updated model\n",
      "\u001b[36m(launch_and_evaluate pid=75448)\u001b[0m Run WITHOUT homomorphic encryption\n",
      "\u001b[36m(launch_and_evaluate pid=75448)\u001b[0m  To get the checkpoint\n",
      "\u001b[36m(launch_and_evaluate pid=75448)\u001b[0m [Client 1] evaluate, config: {}\n",
      "\u001b[36m(launch_and_evaluate pid=75448)\u001b[0m Updated model\n",
      "\u001b[36m(launch_and_evaluate pid=75448)\u001b[0m Run WITHOUT homomorphic encryption\n",
      "\u001b[36m(launch_and_evaluate pid=75448)\u001b[0m  To get the checkpoint\n",
      "\u001b[36m(launch_and_evaluate pid=75448)\u001b[0m [Client 2] evaluate, config: {}\n",
      "\u001b[36m(launch_and_evaluate pid=75448)\u001b[0m Updated model\n",
      "\u001b[36m(launch_and_evaluate pid=75448)\u001b[0m Run WITHOUT homomorphic encryption\n",
      "\u001b[36m(launch_and_evaluate pid=75448)\u001b[0m  To get the checkpoint\n",
      "\u001b[36m(launch_and_evaluate pid=75448)\u001b[0m [Client 0] evaluate, config: {}\n",
      "\u001b[36m(launch_and_evaluate pid=75448)\u001b[0m Updated model\n"
     ]
    },
    {
     "name": "stderr",
     "output_type": "stream",
     "text": [
      "DEBUG flwr 2024-08-30 02:53:47,150 | server.py:187 | evaluate_round 37 received 4 results and 0 failures\n",
      "DEBUG flwr 2024-08-30 02:53:47,151 | server.py:222 | fit_round 38: strategy sampled 4 clients (out of 4)\n"
     ]
    },
    {
     "name": "stdout",
     "output_type": "stream",
     "text": [
      "\u001b[36m(launch_and_fit pid=75448)\u001b[0m Run WITHOUT homomorphic encryption\n",
      "\u001b[36m(launch_and_fit pid=75448)\u001b[0m  To get the checkpoint\n",
      "\u001b[36m(launch_and_fit pid=75448)\u001b[0m [Client 2, round 38] fit, config: {'learning_rate': 0.003, 'batch_size': '32', 'server_round': 38, 'local_epochs': 10}\n",
      "\u001b[36m(launch_and_fit pid=75448)\u001b[0m Updated model\n"
     ]
    },
    {
     "name": "stderr",
     "output_type": "stream",
     "text": [
      "  0%|\u001b[34m          \u001b[0m| 0/10 [00:00<?, ?it/s]\n"
     ]
    },
    {
     "name": "stdout",
     "output_type": "stream",
     "text": [
      "\u001b[36m(launch_and_fit pid=75448)\u001b[0m \tTrain Epoch: 1 \tTrain_loss: 1.6251 | Train_acc: 46.0893 % | Validation_loss: 1.5911 | Validation_acc: 48.6413 %\n"
     ]
    },
    {
     "name": "stderr",
     "output_type": "stream",
     "text": [
      " 10%|\u001b[34m█         \u001b[0m| 1/10 [00:02<00:18,  2.04s/it]\n"
     ]
    },
    {
     "name": "stdout",
     "output_type": "stream",
     "text": [
      "\u001b[36m(launch_and_fit pid=75448)\u001b[0m \tTrain Epoch: 2 \tTrain_loss: 1.6255 | Train_acc: 45.4643 % | Validation_loss: 1.5849 | Validation_acc: 49.6830 %\n"
     ]
    },
    {
     "name": "stderr",
     "output_type": "stream",
     "text": [
      " 20%|\u001b[34m██        \u001b[0m| 2/10 [00:04<00:16,  2.03s/it]\n"
     ]
    },
    {
     "name": "stdout",
     "output_type": "stream",
     "text": [
      "\u001b[36m(launch_and_fit pid=75448)\u001b[0m \tTrain Epoch: 3 \tTrain_loss: 1.6402 | Train_acc: 44.8512 % | Validation_loss: 1.6133 | Validation_acc: 49.0489 %\n"
     ]
    },
    {
     "name": "stderr",
     "output_type": "stream",
     "text": [
      " 30%|\u001b[34m███       \u001b[0m| 3/10 [00:06<00:14,  2.03s/it]\n"
     ]
    },
    {
     "name": "stdout",
     "output_type": "stream",
     "text": [
      "\u001b[36m(launch_and_fit pid=75448)\u001b[0m \tTrain Epoch: 4 \tTrain_loss: 1.6396 | Train_acc: 42.4762 % | Validation_loss: 1.5656 | Validation_acc: 49.6830 %\n"
     ]
    },
    {
     "name": "stderr",
     "output_type": "stream",
     "text": [
      " 40%|\u001b[34m████      \u001b[0m| 4/10 [00:08<00:12,  2.03s/it]\n"
     ]
    },
    {
     "name": "stdout",
     "output_type": "stream",
     "text": [
      "\u001b[36m(launch_and_fit pid=75448)\u001b[0m \tTrain Epoch: 5 \tTrain_loss: 1.5983 | Train_acc: 46.7143 % | Validation_loss: 1.5583 | Validation_acc: 49.6830 %\n"
     ]
    },
    {
     "name": "stderr",
     "output_type": "stream",
     "text": [
      " 50%|\u001b[34m█████     \u001b[0m| 5/10 [00:10<00:10,  2.02s/it]\n"
     ]
    },
    {
     "name": "stdout",
     "output_type": "stream",
     "text": [
      "\u001b[36m(launch_and_fit pid=75448)\u001b[0m \tTrain Epoch: 6 \tTrain_loss: 1.5801 | Train_acc: 48.4583 % | Validation_loss: 1.5886 | Validation_acc: 47.5996 %\n"
     ]
    },
    {
     "name": "stderr",
     "output_type": "stream",
     "text": [
      " 60%|\u001b[34m██████    \u001b[0m| 6/10 [00:12<00:08,  2.02s/it]\n"
     ]
    },
    {
     "name": "stdout",
     "output_type": "stream",
     "text": [
      "\u001b[36m(launch_and_fit pid=75448)\u001b[0m \tTrain Epoch: 7 \tTrain_loss: 1.5855 | Train_acc: 48.3274 % | Validation_loss: 1.5971 | Validation_acc: 46.5580 %\n"
     ]
    },
    {
     "name": "stderr",
     "output_type": "stream",
     "text": [
      " 70%|\u001b[34m███████   \u001b[0m| 7/10 [00:14<00:06,  2.03s/it]\n"
     ]
    },
    {
     "name": "stdout",
     "output_type": "stream",
     "text": [
      "\u001b[36m(launch_and_fit pid=75448)\u001b[0m \tTrain Epoch: 8 \tTrain_loss: 1.6417 | Train_acc: 42.8988 % | Validation_loss: 1.6303 | Validation_acc: 47.1920 %\n"
     ]
    },
    {
     "name": "stderr",
     "output_type": "stream",
     "text": [
      " 80%|\u001b[34m████████  \u001b[0m| 8/10 [00:16<00:03,  1.99s/it]\n"
     ]
    },
    {
     "name": "stdout",
     "output_type": "stream",
     "text": [
      "\u001b[36m(launch_and_fit pid=75448)\u001b[0m \tTrain Epoch: 9 \tTrain_loss: 1.6121 | Train_acc: 46.2857 % | Validation_loss: 1.5933 | Validation_acc: 48.6413 %\n"
     ]
    },
    {
     "name": "stderr",
     "output_type": "stream",
     "text": [
      " 90%|\u001b[34m█████████ \u001b[0m| 9/10 [00:18<00:01,  1.97s/it]\n"
     ]
    },
    {
     "name": "stdout",
     "output_type": "stream",
     "text": [
      "\u001b[36m(launch_and_fit pid=75448)\u001b[0m \tTrain Epoch: 10 \tTrain_loss: 1.5860 | Train_acc: 47.2024 % | Validation_loss: 1.5659 | Validation_acc: 49.6830 %\n",
      "\u001b[36m(launch_and_fit pid=75448)\u001b[0m save graph in  results/FL/\n"
     ]
    },
    {
     "name": "stderr",
     "output_type": "stream",
     "text": [
      "100%|\u001b[34m██████████\u001b[0m| 10/10 [00:19<00:00,  1.99s/it]\n"
     ]
    },
    {
     "name": "stdout",
     "output_type": "stream",
     "text": [
      "\u001b[36m(launch_and_fit pid=75448)\u001b[0m Run WITHOUT homomorphic encryption\n",
      "\u001b[36m(launch_and_fit pid=75448)\u001b[0m  To get the checkpoint\n",
      "\u001b[36m(launch_and_fit pid=75448)\u001b[0m [Client 1, round 38] fit, config: {'learning_rate': 0.003, 'batch_size': '32', 'server_round': 38, 'local_epochs': 10}\n",
      "\u001b[36m(launch_and_fit pid=75448)\u001b[0m Updated model\n"
     ]
    },
    {
     "name": "stderr",
     "output_type": "stream",
     "text": [
      "  0%|\u001b[34m          \u001b[0m| 0/10 [00:00<?, ?it/s]\n"
     ]
    },
    {
     "name": "stdout",
     "output_type": "stream",
     "text": [
      "\u001b[36m(launch_and_fit pid=75448)\u001b[0m \tTrain Epoch: 1 \tTrain_loss: 1.5980 | Train_acc: 46.6548 % | Validation_loss: 1.6248 | Validation_acc: 47.5996 %\n"
     ]
    },
    {
     "name": "stderr",
     "output_type": "stream",
     "text": [
      " 10%|\u001b[34m█         \u001b[0m| 1/10 [00:01<00:17,  1.98s/it]\n"
     ]
    },
    {
     "name": "stdout",
     "output_type": "stream",
     "text": [
      "\u001b[36m(launch_and_fit pid=75448)\u001b[0m \tTrain Epoch: 2 \tTrain_loss: 1.5740 | Train_acc: 48.4107 % | Validation_loss: 1.6122 | Validation_acc: 46.5580 %\n"
     ]
    },
    {
     "name": "stderr",
     "output_type": "stream",
     "text": [
      " 20%|\u001b[34m██        \u001b[0m| 2/10 [00:03<00:15,  1.95s/it]\n"
     ]
    },
    {
     "name": "stdout",
     "output_type": "stream",
     "text": [
      "\u001b[36m(launch_and_fit pid=75448)\u001b[0m \tTrain Epoch: 3 \tTrain_loss: 1.6619 | Train_acc: 38.8393 % | Validation_loss: 1.6831 | Validation_acc: 41.3496 %\n"
     ]
    },
    {
     "name": "stderr",
     "output_type": "stream",
     "text": [
      " 30%|\u001b[34m███       \u001b[0m| 3/10 [00:05<00:13,  1.94s/it]\n"
     ]
    },
    {
     "name": "stdout",
     "output_type": "stream",
     "text": [
      "\u001b[36m(launch_and_fit pid=75448)\u001b[0m \tTrain Epoch: 4 \tTrain_loss: 1.5527 | Train_acc: 49.9107 % | Validation_loss: 1.6307 | Validation_acc: 46.1504 %\n"
     ]
    },
    {
     "name": "stderr",
     "output_type": "stream",
     "text": [
      " 40%|\u001b[34m████      \u001b[0m| 4/10 [00:07<00:11,  1.94s/it]\n"
     ]
    },
    {
     "name": "stdout",
     "output_type": "stream",
     "text": [
      "\u001b[36m(launch_and_fit pid=75448)\u001b[0m \tTrain Epoch: 5 \tTrain_loss: 1.5513 | Train_acc: 50.4167 % | Validation_loss: 1.6153 | Validation_acc: 47.1920 %\n"
     ]
    },
    {
     "name": "stderr",
     "output_type": "stream",
     "text": [
      " 50%|\u001b[34m█████     \u001b[0m| 5/10 [00:09<00:09,  1.93s/it]\n"
     ]
    },
    {
     "name": "stdout",
     "output_type": "stream",
     "text": [
      "\u001b[36m(launch_and_fit pid=75448)\u001b[0m \tTrain Epoch: 6 \tTrain_loss: 1.5659 | Train_acc: 48.5357 % | Validation_loss: 1.6155 | Validation_acc: 43.6594 %\n"
     ]
    },
    {
     "name": "stderr",
     "output_type": "stream",
     "text": [
      " 60%|\u001b[34m██████    \u001b[0m| 6/10 [00:11<00:07,  1.93s/it]\n"
     ]
    },
    {
     "name": "stdout",
     "output_type": "stream",
     "text": [
      "\u001b[36m(launch_and_fit pid=75448)\u001b[0m \tTrain Epoch: 7 \tTrain_loss: 1.5674 | Train_acc: 46.9702 % | Validation_loss: 1.6171 | Validation_acc: 45.7428 %\n"
     ]
    },
    {
     "name": "stderr",
     "output_type": "stream",
     "text": [
      " 70%|\u001b[34m███████   \u001b[0m| 7/10 [00:13<00:05,  1.93s/it]\n"
     ]
    },
    {
     "name": "stdout",
     "output_type": "stream",
     "text": [
      "\u001b[36m(launch_and_fit pid=75448)\u001b[0m \tTrain Epoch: 8 \tTrain_loss: 1.5668 | Train_acc: 47.5417 % | Validation_loss: 1.6200 | Validation_acc: 47.8261 %\n"
     ]
    },
    {
     "name": "stderr",
     "output_type": "stream",
     "text": [
      " 80%|\u001b[34m████████  \u001b[0m| 8/10 [00:15<00:03,  1.94s/it]\n"
     ]
    },
    {
     "name": "stdout",
     "output_type": "stream",
     "text": [
      "\u001b[36m(launch_and_fit pid=75448)\u001b[0m \tTrain Epoch: 9 \tTrain_loss: 1.5437 | Train_acc: 50.1607 % | Validation_loss: 1.5689 | Validation_acc: 53.2156 %\n"
     ]
    },
    {
     "name": "stderr",
     "output_type": "stream",
     "text": [
      " 90%|\u001b[34m█████████ \u001b[0m| 9/10 [00:17<00:01,  1.95s/it]\n"
     ]
    },
    {
     "name": "stdout",
     "output_type": "stream",
     "text": [
      "\u001b[36m(launch_and_fit pid=75448)\u001b[0m \tTrain Epoch: 10 \tTrain_loss: 1.5594 | Train_acc: 48.9048 % | Validation_loss: 1.6017 | Validation_acc: 45.7428 %\n",
      "\u001b[36m(launch_and_fit pid=75448)\u001b[0m save graph in  results/FL/\n",
      "\u001b[36m(launch_and_fit pid=75448)\u001b[0m Run WITHOUT homomorphic encryption\n",
      "\u001b[36m(launch_and_fit pid=75448)\u001b[0m  To get the checkpoint\n"
     ]
    },
    {
     "name": "stderr",
     "output_type": "stream",
     "text": [
      "100%|\u001b[34m██████████\u001b[0m| 10/10 [00:19<00:00,  1.95s/it]\n"
     ]
    },
    {
     "name": "stdout",
     "output_type": "stream",
     "text": [
      "\u001b[36m(launch_and_fit pid=75448)\u001b[0m [Client 0, round 38] fit, config: {'learning_rate': 0.003, 'batch_size': '32', 'server_round': 38, 'local_epochs': 10}\n",
      "\u001b[36m(launch_and_fit pid=75448)\u001b[0m Updated model\n"
     ]
    },
    {
     "name": "stderr",
     "output_type": "stream",
     "text": [
      "  0%|\u001b[34m          \u001b[0m| 0/10 [00:00<?, ?it/s]\n"
     ]
    },
    {
     "name": "stdout",
     "output_type": "stream",
     "text": [
      "\u001b[36m(launch_and_fit pid=75448)\u001b[0m \tTrain Epoch: 1 \tTrain_loss: 1.5833 | Train_acc: 46.5893 % | Validation_loss: 1.7379 | Validation_acc: 40.9420 %\n"
     ]
    },
    {
     "name": "stderr",
     "output_type": "stream",
     "text": [
      " 10%|\u001b[34m█         \u001b[0m| 1/10 [00:02<00:18,  2.01s/it]\n"
     ]
    },
    {
     "name": "stdout",
     "output_type": "stream",
     "text": [
      "\u001b[36m(launch_and_fit pid=75448)\u001b[0m \tTrain Epoch: 2 \tTrain_loss: 1.5420 | Train_acc: 50.0952 % | Validation_loss: 1.7138 | Validation_acc: 41.9837 %\n"
     ]
    },
    {
     "name": "stderr",
     "output_type": "stream",
     "text": [
      " 20%|\u001b[34m██        \u001b[0m| 2/10 [00:03<00:15,  1.99s/it]\n"
     ]
    },
    {
     "name": "stdout",
     "output_type": "stream",
     "text": [
      "\u001b[36m(launch_and_fit pid=75448)\u001b[0m \tTrain Epoch: 3 \tTrain_loss: 1.5295 | Train_acc: 48.7917 % | Validation_loss: 1.6818 | Validation_acc: 40.9420 %\n"
     ]
    },
    {
     "name": "stderr",
     "output_type": "stream",
     "text": [
      " 30%|\u001b[34m███       \u001b[0m| 3/10 [00:05<00:13,  1.99s/it]\n"
     ]
    },
    {
     "name": "stdout",
     "output_type": "stream",
     "text": [
      "\u001b[36m(launch_and_fit pid=75448)\u001b[0m \tTrain Epoch: 4 \tTrain_loss: 1.5530 | Train_acc: 47.5417 % | Validation_loss: 1.6959 | Validation_acc: 38.8587 %\n"
     ]
    },
    {
     "name": "stderr",
     "output_type": "stream",
     "text": [
      " 40%|\u001b[34m████      \u001b[0m| 4/10 [00:08<00:13,  2.26s/it]\n"
     ]
    },
    {
     "name": "stdout",
     "output_type": "stream",
     "text": [
      "\u001b[36m(launch_and_fit pid=75448)\u001b[0m \tTrain Epoch: 5 \tTrain_loss: 1.5462 | Train_acc: 48.1488 % | Validation_loss: 1.7250 | Validation_acc: 39.2663 %\n"
     ]
    },
    {
     "name": "stderr",
     "output_type": "stream",
     "text": [
      " 50%|\u001b[34m█████     \u001b[0m| 5/10 [00:10<00:10,  2.17s/it]\n"
     ]
    },
    {
     "name": "stdout",
     "output_type": "stream",
     "text": [
      "\u001b[36m(launch_and_fit pid=75448)\u001b[0m \tTrain Epoch: 6 \tTrain_loss: 1.6311 | Train_acc: 42.7738 % | Validation_loss: 1.7135 | Validation_acc: 38.4511 %\n"
     ]
    },
    {
     "name": "stderr",
     "output_type": "stream",
     "text": [
      " 60%|\u001b[34m██████    \u001b[0m| 6/10 [00:12<00:08,  2.13s/it]\n"
     ]
    },
    {
     "name": "stdout",
     "output_type": "stream",
     "text": [
      "\u001b[36m(launch_and_fit pid=75448)\u001b[0m \tTrain Epoch: 7 \tTrain_loss: 1.5240 | Train_acc: 49.5357 % | Validation_loss: 1.7626 | Validation_acc: 43.8406 %\n"
     ]
    },
    {
     "name": "stderr",
     "output_type": "stream",
     "text": [
      " 70%|\u001b[34m███████   \u001b[0m| 7/10 [00:14<00:06,  2.08s/it]\n"
     ]
    },
    {
     "name": "stdout",
     "output_type": "stream",
     "text": [
      "\u001b[36m(launch_and_fit pid=75448)\u001b[0m \tTrain Epoch: 8 \tTrain_loss: 1.5334 | Train_acc: 51.5298 % | Validation_loss: 1.7709 | Validation_acc: 37.0018 %\n"
     ]
    },
    {
     "name": "stderr",
     "output_type": "stream",
     "text": [
      " 80%|\u001b[34m████████  \u001b[0m| 8/10 [00:16<00:04,  2.04s/it]\n"
     ]
    },
    {
     "name": "stdout",
     "output_type": "stream",
     "text": [
      "\u001b[36m(launch_and_fit pid=75448)\u001b[0m \tTrain Epoch: 9 \tTrain_loss: 1.5122 | Train_acc: 51.5952 % | Validation_loss: 1.7203 | Validation_acc: 40.9420 %\n"
     ]
    },
    {
     "name": "stderr",
     "output_type": "stream",
     "text": [
      " 90%|\u001b[34m█████████ \u001b[0m| 9/10 [00:18<00:02,  2.02s/it]\n"
     ]
    },
    {
     "name": "stdout",
     "output_type": "stream",
     "text": [
      "\u001b[36m(launch_and_fit pid=75448)\u001b[0m \tTrain Epoch: 10 \tTrain_loss: 1.5157 | Train_acc: 50.5298 % | Validation_loss: 1.7168 | Validation_acc: 43.4330 %\n",
      "\u001b[36m(launch_and_fit pid=75448)\u001b[0m save graph in  results/FL/\n",
      "\u001b[36m(launch_and_fit pid=75448)\u001b[0m Run WITHOUT homomorphic encryption\n",
      "\u001b[36m(launch_and_fit pid=75448)\u001b[0m  To get the checkpoint\n"
     ]
    },
    {
     "name": "stderr",
     "output_type": "stream",
     "text": [
      "100%|\u001b[34m██████████\u001b[0m| 10/10 [00:20<00:00,  2.06s/it]\n"
     ]
    },
    {
     "name": "stdout",
     "output_type": "stream",
     "text": [
      "\u001b[36m(launch_and_fit pid=75448)\u001b[0m [Client 3, round 38] fit, config: {'learning_rate': 0.003, 'batch_size': '32', 'server_round': 38, 'local_epochs': 10}\n",
      "\u001b[36m(launch_and_fit pid=75448)\u001b[0m Updated model\n"
     ]
    },
    {
     "name": "stderr",
     "output_type": "stream",
     "text": [
      "  0%|\u001b[34m          \u001b[0m| 0/10 [00:00<?, ?it/s]\n"
     ]
    },
    {
     "name": "stdout",
     "output_type": "stream",
     "text": [
      "\u001b[36m(launch_and_fit pid=75448)\u001b[0m \tTrain Epoch: 1 \tTrain_loss: 1.6033 | Train_acc: 48.6607 % | Validation_loss: 1.6487 | Validation_acc: 43.4330 %\n"
     ]
    },
    {
     "name": "stderr",
     "output_type": "stream",
     "text": [
      " 10%|\u001b[34m█         \u001b[0m| 1/10 [00:01<00:17,  1.97s/it]\n"
     ]
    },
    {
     "name": "stdout",
     "output_type": "stream",
     "text": [
      "\u001b[36m(launch_and_fit pid=75448)\u001b[0m \tTrain Epoch: 2 \tTrain_loss: 1.6030 | Train_acc: 47.7262 % | Validation_loss: 1.6495 | Validation_acc: 37.0018 %\n"
     ]
    },
    {
     "name": "stderr",
     "output_type": "stream",
     "text": [
      " 20%|\u001b[34m██        \u001b[0m| 2/10 [00:03<00:15,  1.96s/it]\n"
     ]
    },
    {
     "name": "stdout",
     "output_type": "stream",
     "text": [
      "\u001b[36m(launch_and_fit pid=75448)\u001b[0m \tTrain Epoch: 3 \tTrain_loss: 1.6294 | Train_acc: 43.9107 % | Validation_loss: 1.6374 | Validation_acc: 38.0435 %\n"
     ]
    },
    {
     "name": "stderr",
     "output_type": "stream",
     "text": [
      " 30%|\u001b[34m███       \u001b[0m| 3/10 [00:05<00:13,  1.95s/it]\n"
     ]
    },
    {
     "name": "stdout",
     "output_type": "stream",
     "text": [
      "\u001b[36m(launch_and_fit pid=75448)\u001b[0m \tTrain Epoch: 4 \tTrain_loss: 1.5566 | Train_acc: 49.8452 % | Validation_loss: 1.6450 | Validation_acc: 40.5344 %\n"
     ]
    },
    {
     "name": "stderr",
     "output_type": "stream",
     "text": [
      " 40%|\u001b[34m████      \u001b[0m| 4/10 [00:07<00:11,  1.97s/it]\n"
     ]
    },
    {
     "name": "stdout",
     "output_type": "stream",
     "text": [
      "\u001b[36m(launch_and_fit pid=75448)\u001b[0m \tTrain Epoch: 5 \tTrain_loss: 1.5440 | Train_acc: 51.7262 % | Validation_loss: 1.6520 | Validation_acc: 39.0851 %\n"
     ]
    },
    {
     "name": "stderr",
     "output_type": "stream",
     "text": [
      " 50%|\u001b[34m█████     \u001b[0m| 5/10 [00:09<00:09,  1.98s/it]\n"
     ]
    },
    {
     "name": "stdout",
     "output_type": "stream",
     "text": [
      "\u001b[36m(launch_and_fit pid=75448)\u001b[0m \tTrain Epoch: 6 \tTrain_loss: 1.5504 | Train_acc: 51.4702 % | Validation_loss: 1.6385 | Validation_acc: 39.4928 %\n"
     ]
    },
    {
     "name": "stderr",
     "output_type": "stream",
     "text": [
      " 60%|\u001b[34m██████    \u001b[0m| 6/10 [00:11<00:07,  1.99s/it]\n"
     ]
    },
    {
     "name": "stdout",
     "output_type": "stream",
     "text": [
      "\u001b[36m(launch_and_fit pid=75448)\u001b[0m \tTrain Epoch: 7 \tTrain_loss: 1.5300 | Train_acc: 51.7857 % | Validation_loss: 1.6556 | Validation_acc: 37.8170 %\n"
     ]
    },
    {
     "name": "stderr",
     "output_type": "stream",
     "text": [
      " 70%|\u001b[34m███████   \u001b[0m| 7/10 [00:13<00:05,  1.99s/it]\n"
     ]
    },
    {
     "name": "stdout",
     "output_type": "stream",
     "text": [
      "\u001b[36m(launch_and_fit pid=75448)\u001b[0m \tTrain Epoch: 8 \tTrain_loss: 1.5625 | Train_acc: 51.1012 % | Validation_loss: 1.6378 | Validation_acc: 44.0670 %\n"
     ]
    },
    {
     "name": "stderr",
     "output_type": "stream",
     "text": [
      " 80%|\u001b[34m████████  \u001b[0m| 8/10 [00:15<00:03,  1.97s/it]\n"
     ]
    },
    {
     "name": "stdout",
     "output_type": "stream",
     "text": [
      "\u001b[36m(launch_and_fit pid=75448)\u001b[0m \tTrain Epoch: 9 \tTrain_loss: 1.5783 | Train_acc: 49.0298 % | Validation_loss: 1.6990 | Validation_acc: 34.9185 %\n"
     ]
    },
    {
     "name": "stderr",
     "output_type": "stream",
     "text": [
      " 90%|\u001b[34m█████████ \u001b[0m| 9/10 [00:17<00:01,  1.98s/it]\n",
      "100%|\u001b[34m██████████\u001b[0m| 10/10 [00:19<00:00,  1.98s/it]\n",
      "DEBUG flwr 2024-08-30 02:55:08,579 | server.py:236 | fit_round 38 received 4 results and 0 failures\n"
     ]
    },
    {
     "name": "stdout",
     "output_type": "stream",
     "text": [
      "\u001b[36m(launch_and_fit pid=75448)\u001b[0m \tTrain Epoch: 10 \tTrain_loss: 1.7078 | Train_acc: 39.0357 % | Validation_loss: 1.6748 | Validation_acc: 39.0851 %\n",
      "\u001b[36m(launch_and_fit pid=75448)\u001b[0m save graph in  results/FL/\n",
      "Saving round 38 aggregated_parameters...\n",
      "Updated model\n"
     ]
    },
    {
     "name": "stderr",
     "output_type": "stream",
     "text": [
      "INFO flwr 2024-08-30 02:55:09,355 | server.py:125 | fit progress: (38, 1.6169368028640747, {'accuracy': 46.726190476190474}, 4541.48552621901)\n",
      "DEBUG flwr 2024-08-30 02:55:09,355 | server.py:173 | evaluate_round 38: strategy sampled 4 clients (out of 4)\n"
     ]
    },
    {
     "name": "stdout",
     "output_type": "stream",
     "text": [
      "Server-side evaluation loss 1.6169368028640747 / accuracy 46.726190476190474\n",
      "\u001b[36m(launch_and_evaluate pid=75448)\u001b[0m Run WITHOUT homomorphic encryption\n",
      "\u001b[36m(launch_and_evaluate pid=75448)\u001b[0m  To get the checkpoint\n",
      "\u001b[36m(launch_and_evaluate pid=75448)\u001b[0m [Client 3] evaluate, config: {}\n",
      "\u001b[36m(launch_and_evaluate pid=75448)\u001b[0m Updated model\n",
      "\u001b[36m(launch_and_evaluate pid=75448)\u001b[0m Run WITHOUT homomorphic encryption\n",
      "\u001b[36m(launch_and_evaluate pid=75448)\u001b[0m  To get the checkpoint\n",
      "\u001b[36m(launch_and_evaluate pid=75448)\u001b[0m [Client 1] evaluate, config: {}\n",
      "\u001b[36m(launch_and_evaluate pid=75448)\u001b[0m Updated model\n",
      "\u001b[36m(launch_and_evaluate pid=75448)\u001b[0m Run WITHOUT homomorphic encryption\n",
      "\u001b[36m(launch_and_evaluate pid=75448)\u001b[0m  To get the checkpoint\n",
      "\u001b[36m(launch_and_evaluate pid=75448)\u001b[0m [Client 0] evaluate, config: {}\n",
      "\u001b[36m(launch_and_evaluate pid=75448)\u001b[0m Updated model\n",
      "\u001b[36m(launch_and_evaluate pid=75448)\u001b[0m Run WITHOUT homomorphic encryption\n",
      "\u001b[36m(launch_and_evaluate pid=75448)\u001b[0m  To get the checkpoint\n",
      "\u001b[36m(launch_and_evaluate pid=75448)\u001b[0m [Client 2] evaluate, config: {}\n",
      "\u001b[36m(launch_and_evaluate pid=75448)\u001b[0m Updated model\n"
     ]
    },
    {
     "name": "stderr",
     "output_type": "stream",
     "text": [
      "DEBUG flwr 2024-08-30 02:55:11,948 | server.py:187 | evaluate_round 38 received 4 results and 0 failures\n",
      "DEBUG flwr 2024-08-30 02:55:11,949 | server.py:222 | fit_round 39: strategy sampled 4 clients (out of 4)\n"
     ]
    },
    {
     "name": "stdout",
     "output_type": "stream",
     "text": [
      "\u001b[36m(launch_and_fit pid=75448)\u001b[0m Run WITHOUT homomorphic encryption\n",
      "\u001b[36m(launch_and_fit pid=75448)\u001b[0m  To get the checkpoint\n",
      "\u001b[36m(launch_and_fit pid=75448)\u001b[0m [Client 1, round 39] fit, config: {'learning_rate': 0.003, 'batch_size': '32', 'server_round': 39, 'local_epochs': 10}\n",
      "\u001b[36m(launch_and_fit pid=75448)\u001b[0m Updated model\n"
     ]
    },
    {
     "name": "stderr",
     "output_type": "stream",
     "text": [
      "  0%|\u001b[34m          \u001b[0m| 0/10 [00:00<?, ?it/s]\n"
     ]
    },
    {
     "name": "stdout",
     "output_type": "stream",
     "text": [
      "\u001b[36m(launch_and_fit pid=75448)\u001b[0m \tTrain Epoch: 1 \tTrain_loss: 1.5838 | Train_acc: 47.7083 % | Validation_loss: 1.5660 | Validation_acc: 49.6830 %\n"
     ]
    },
    {
     "name": "stderr",
     "output_type": "stream",
     "text": [
      " 10%|\u001b[34m█         \u001b[0m| 1/10 [00:02<00:18,  2.03s/it]\n"
     ]
    },
    {
     "name": "stdout",
     "output_type": "stream",
     "text": [
      "\u001b[36m(launch_and_fit pid=75448)\u001b[0m \tTrain Epoch: 2 \tTrain_loss: 1.5692 | Train_acc: 46.5179 % | Validation_loss: 1.5736 | Validation_acc: 51.1322 %\n"
     ]
    },
    {
     "name": "stderr",
     "output_type": "stream",
     "text": [
      " 20%|\u001b[34m██        \u001b[0m| 2/10 [00:04<00:16,  2.01s/it]\n"
     ]
    },
    {
     "name": "stdout",
     "output_type": "stream",
     "text": [
      "\u001b[36m(launch_and_fit pid=75448)\u001b[0m \tTrain Epoch: 3 \tTrain_loss: 1.5614 | Train_acc: 47.3988 % | Validation_loss: 1.6577 | Validation_acc: 42.6178 %\n"
     ]
    },
    {
     "name": "stderr",
     "output_type": "stream",
     "text": [
      " 30%|\u001b[34m███       \u001b[0m| 3/10 [00:06<00:14,  2.01s/it]\n"
     ]
    },
    {
     "name": "stdout",
     "output_type": "stream",
     "text": [
      "\u001b[36m(launch_and_fit pid=75448)\u001b[0m \tTrain Epoch: 4 \tTrain_loss: 1.6369 | Train_acc: 41.8333 % | Validation_loss: 1.5775 | Validation_acc: 51.1322 %\n"
     ]
    },
    {
     "name": "stderr",
     "output_type": "stream",
     "text": [
      " 40%|\u001b[34m████      \u001b[0m| 4/10 [00:08<00:12,  2.01s/it]\n"
     ]
    },
    {
     "name": "stdout",
     "output_type": "stream",
     "text": [
      "\u001b[36m(launch_and_fit pid=75448)\u001b[0m \tTrain Epoch: 5 \tTrain_loss: 1.5837 | Train_acc: 46.1488 % | Validation_loss: 1.5977 | Validation_acc: 46.1504 %\n"
     ]
    },
    {
     "name": "stderr",
     "output_type": "stream",
     "text": [
      " 50%|\u001b[34m█████     \u001b[0m| 5/10 [00:10<00:10,  2.00s/it]\n"
     ]
    },
    {
     "name": "stdout",
     "output_type": "stream",
     "text": [
      "\u001b[36m(launch_and_fit pid=75448)\u001b[0m \tTrain Epoch: 6 \tTrain_loss: 1.5446 | Train_acc: 49.5952 % | Validation_loss: 1.5860 | Validation_acc: 49.6830 %\n"
     ]
    },
    {
     "name": "stderr",
     "output_type": "stream",
     "text": [
      " 60%|\u001b[34m██████    \u001b[0m| 6/10 [00:12<00:08,  2.00s/it]\n"
     ]
    },
    {
     "name": "stdout",
     "output_type": "stream",
     "text": [
      "\u001b[36m(launch_and_fit pid=75448)\u001b[0m \tTrain Epoch: 7 \tTrain_loss: 1.5473 | Train_acc: 49.8333 % | Validation_loss: 1.5757 | Validation_acc: 50.3170 %\n"
     ]
    },
    {
     "name": "stderr",
     "output_type": "stream",
     "text": [
      " 70%|\u001b[34m███████   \u001b[0m| 7/10 [00:14<00:06,  2.01s/it]\n"
     ]
    },
    {
     "name": "stdout",
     "output_type": "stream",
     "text": [
      "\u001b[36m(launch_and_fit pid=75448)\u001b[0m \tTrain Epoch: 8 \tTrain_loss: 1.5441 | Train_acc: 50.1607 % | Validation_loss: 1.5993 | Validation_acc: 51.7663 %\n"
     ]
    },
    {
     "name": "stderr",
     "output_type": "stream",
     "text": [
      " 80%|\u001b[34m████████  \u001b[0m| 8/10 [00:16<00:04,  2.01s/it]\n"
     ]
    },
    {
     "name": "stdout",
     "output_type": "stream",
     "text": [
      "\u001b[36m(launch_and_fit pid=75448)\u001b[0m \tTrain Epoch: 9 \tTrain_loss: 1.5553 | Train_acc: 48.1607 % | Validation_loss: 1.5935 | Validation_acc: 51.7663 %\n"
     ]
    },
    {
     "name": "stderr",
     "output_type": "stream",
     "text": [
      " 90%|\u001b[34m█████████ \u001b[0m| 9/10 [00:18<00:02,  2.01s/it]\n"
     ]
    },
    {
     "name": "stdout",
     "output_type": "stream",
     "text": [
      "\u001b[36m(launch_and_fit pid=75448)\u001b[0m \tTrain Epoch: 10 \tTrain_loss: 1.5479 | Train_acc: 49.3452 % | Validation_loss: 1.5825 | Validation_acc: 51.3587 %\n",
      "\u001b[36m(launch_and_fit pid=75448)\u001b[0m save graph in  results/FL/\n"
     ]
    },
    {
     "name": "stderr",
     "output_type": "stream",
     "text": [
      "100%|\u001b[34m██████████\u001b[0m| 10/10 [00:20<00:00,  2.00s/it]\n"
     ]
    },
    {
     "name": "stdout",
     "output_type": "stream",
     "text": [
      "\u001b[36m(launch_and_fit pid=75448)\u001b[0m Run WITHOUT homomorphic encryption\n",
      "\u001b[36m(launch_and_fit pid=75448)\u001b[0m  To get the checkpoint\n",
      "\u001b[36m(launch_and_fit pid=75448)\u001b[0m [Client 2, round 39] fit, config: {'learning_rate': 0.003, 'batch_size': '32', 'server_round': 39, 'local_epochs': 10}\n",
      "\u001b[36m(launch_and_fit pid=75448)\u001b[0m Updated model\n"
     ]
    },
    {
     "name": "stderr",
     "output_type": "stream",
     "text": [
      "  0%|\u001b[34m          \u001b[0m| 0/10 [00:00<?, ?it/s]\n"
     ]
    },
    {
     "name": "stdout",
     "output_type": "stream",
     "text": [
      "\u001b[36m(launch_and_fit pid=75448)\u001b[0m \tTrain Epoch: 1 \tTrain_loss: 1.6837 | Train_acc: 40.5357 % | Validation_loss: 1.5909 | Validation_acc: 47.5996 %\n"
     ]
    },
    {
     "name": "stderr",
     "output_type": "stream",
     "text": [
      " 10%|\u001b[34m█         \u001b[0m| 1/10 [00:02<00:18,  2.02s/it]\n"
     ]
    },
    {
     "name": "stdout",
     "output_type": "stream",
     "text": [
      "\u001b[36m(launch_and_fit pid=75448)\u001b[0m \tTrain Epoch: 2 \tTrain_loss: 1.6518 | Train_acc: 41.7083 % | Validation_loss: 1.6528 | Validation_acc: 45.9239 %\n"
     ]
    },
    {
     "name": "stderr",
     "output_type": "stream",
     "text": [
      " 20%|\u001b[34m██        \u001b[0m| 2/10 [00:04<00:16,  2.02s/it]\n"
     ]
    },
    {
     "name": "stdout",
     "output_type": "stream",
     "text": [
      "\u001b[36m(launch_and_fit pid=75448)\u001b[0m \tTrain Epoch: 3 \tTrain_loss: 1.6093 | Train_acc: 47.2738 % | Validation_loss: 1.5702 | Validation_acc: 52.1739 %\n"
     ]
    },
    {
     "name": "stderr",
     "output_type": "stream",
     "text": [
      " 30%|\u001b[34m███       \u001b[0m| 3/10 [00:06<00:14,  2.02s/it]\n"
     ]
    },
    {
     "name": "stdout",
     "output_type": "stream",
     "text": [
      "\u001b[36m(launch_and_fit pid=75448)\u001b[0m \tTrain Epoch: 4 \tTrain_loss: 1.6231 | Train_acc: 44.7679 % | Validation_loss: 1.5535 | Validation_acc: 49.6830 %\n"
     ]
    },
    {
     "name": "stderr",
     "output_type": "stream",
     "text": [
      " 40%|\u001b[34m████      \u001b[0m| 4/10 [00:08<00:12,  2.02s/it]\n"
     ]
    },
    {
     "name": "stdout",
     "output_type": "stream",
     "text": [
      "\u001b[36m(launch_and_fit pid=75448)\u001b[0m \tTrain Epoch: 5 \tTrain_loss: 1.5953 | Train_acc: 47.0833 % | Validation_loss: 1.5868 | Validation_acc: 48.6413 %\n"
     ]
    },
    {
     "name": "stderr",
     "output_type": "stream",
     "text": [
      " 50%|\u001b[34m█████     \u001b[0m| 5/10 [00:10<00:10,  2.02s/it]\n"
     ]
    },
    {
     "name": "stdout",
     "output_type": "stream",
     "text": [
      "\u001b[36m(launch_and_fit pid=75448)\u001b[0m \tTrain Epoch: 6 \tTrain_loss: 1.5653 | Train_acc: 49.9762 % | Validation_loss: 1.6197 | Validation_acc: 45.5163 %\n"
     ]
    },
    {
     "name": "stderr",
     "output_type": "stream",
     "text": [
      " 60%|\u001b[34m██████    \u001b[0m| 6/10 [00:12<00:07,  2.00s/it]\n"
     ]
    },
    {
     "name": "stdout",
     "output_type": "stream",
     "text": [
      "\u001b[36m(launch_and_fit pid=75448)\u001b[0m \tTrain Epoch: 7 \tTrain_loss: 1.5996 | Train_acc: 46.0298 % | Validation_loss: 1.5673 | Validation_acc: 48.6413 %\n"
     ]
    },
    {
     "name": "stderr",
     "output_type": "stream",
     "text": [
      " 70%|\u001b[34m███████   \u001b[0m| 7/10 [00:14<00:05,  1.99s/it]\n"
     ]
    },
    {
     "name": "stdout",
     "output_type": "stream",
     "text": [
      "\u001b[36m(launch_and_fit pid=75448)\u001b[0m \tTrain Epoch: 8 \tTrain_loss: 1.5739 | Train_acc: 49.5536 % | Validation_loss: 1.5718 | Validation_acc: 49.6830 %\n"
     ]
    },
    {
     "name": "stderr",
     "output_type": "stream",
     "text": [
      " 80%|\u001b[34m████████  \u001b[0m| 8/10 [00:15<00:03,  1.98s/it]\n"
     ]
    },
    {
     "name": "stdout",
     "output_type": "stream",
     "text": [
      "\u001b[36m(launch_and_fit pid=75448)\u001b[0m \tTrain Epoch: 9 \tTrain_loss: 1.5792 | Train_acc: 48.7857 % | Validation_loss: 1.6199 | Validation_acc: 49.6830 %\n"
     ]
    },
    {
     "name": "stderr",
     "output_type": "stream",
     "text": [
      " 90%|\u001b[34m█████████ \u001b[0m| 9/10 [00:17<00:01,  1.98s/it]\n"
     ]
    },
    {
     "name": "stdout",
     "output_type": "stream",
     "text": [
      "\u001b[36m(launch_and_fit pid=75448)\u001b[0m \tTrain Epoch: 10 \tTrain_loss: 1.5796 | Train_acc: 48.2857 % | Validation_loss: 1.5542 | Validation_acc: 50.7246 %\n",
      "\u001b[36m(launch_and_fit pid=75448)\u001b[0m save graph in  results/FL/\n"
     ]
    },
    {
     "name": "stderr",
     "output_type": "stream",
     "text": [
      "100%|\u001b[34m██████████\u001b[0m| 10/10 [00:19<00:00,  1.99s/it]\n"
     ]
    },
    {
     "name": "stdout",
     "output_type": "stream",
     "text": [
      "\u001b[36m(launch_and_fit pid=75448)\u001b[0m Run WITHOUT homomorphic encryption\n",
      "\u001b[36m(launch_and_fit pid=75448)\u001b[0m  To get the checkpoint\n",
      "\u001b[36m(launch_and_fit pid=75448)\u001b[0m [Client 0, round 39] fit, config: {'learning_rate': 0.003, 'batch_size': '32', 'server_round': 39, 'local_epochs': 10}\n",
      "\u001b[36m(launch_and_fit pid=75448)\u001b[0m Updated model\n"
     ]
    },
    {
     "name": "stderr",
     "output_type": "stream",
     "text": [
      "  0%|\u001b[34m          \u001b[0m| 0/10 [00:00<?, ?it/s]\n"
     ]
    },
    {
     "name": "stdout",
     "output_type": "stream",
     "text": [
      "\u001b[36m(launch_and_fit pid=75448)\u001b[0m \tTrain Epoch: 1 \tTrain_loss: 1.6056 | Train_acc: 45.5893 % | Validation_loss: 1.7450 | Validation_acc: 33.4692 %\n"
     ]
    },
    {
     "name": "stderr",
     "output_type": "stream",
     "text": [
      " 10%|\u001b[34m█         \u001b[0m| 1/10 [00:01<00:17,  1.97s/it]\n"
     ]
    },
    {
     "name": "stdout",
     "output_type": "stream",
     "text": [
      "\u001b[36m(launch_and_fit pid=75448)\u001b[0m \tTrain Epoch: 2 \tTrain_loss: 1.5614 | Train_acc: 49.1667 % | Validation_loss: 1.6947 | Validation_acc: 39.4928 %\n"
     ]
    },
    {
     "name": "stderr",
     "output_type": "stream",
     "text": [
      " 20%|\u001b[34m██        \u001b[0m| 2/10 [00:03<00:15,  1.97s/it]\n"
     ]
    },
    {
     "name": "stdout",
     "output_type": "stream",
     "text": [
      "\u001b[36m(launch_and_fit pid=75448)\u001b[0m \tTrain Epoch: 3 \tTrain_loss: 1.5316 | Train_acc: 49.9286 % | Validation_loss: 1.7402 | Validation_acc: 42.3913 %\n"
     ]
    },
    {
     "name": "stderr",
     "output_type": "stream",
     "text": [
      " 30%|\u001b[34m███       \u001b[0m| 3/10 [00:05<00:13,  1.97s/it]\n"
     ]
    },
    {
     "name": "stdout",
     "output_type": "stream",
     "text": [
      "\u001b[36m(launch_and_fit pid=75448)\u001b[0m \tTrain Epoch: 4 \tTrain_loss: 1.5314 | Train_acc: 50.2738 % | Validation_loss: 1.7123 | Validation_acc: 35.9601 %\n"
     ]
    },
    {
     "name": "stderr",
     "output_type": "stream",
     "text": [
      " 40%|\u001b[34m████      \u001b[0m| 4/10 [00:07<00:11,  1.97s/it]\n"
     ]
    },
    {
     "name": "stdout",
     "output_type": "stream",
     "text": [
      "\u001b[36m(launch_and_fit pid=75448)\u001b[0m \tTrain Epoch: 5 \tTrain_loss: 1.5087 | Train_acc: 52.8512 % | Validation_loss: 1.7237 | Validation_acc: 41.9837 %\n"
     ]
    },
    {
     "name": "stderr",
     "output_type": "stream",
     "text": [
      " 50%|\u001b[34m█████     \u001b[0m| 5/10 [00:09<00:09,  1.97s/it]\n"
     ]
    },
    {
     "name": "stdout",
     "output_type": "stream",
     "text": [
      "\u001b[36m(launch_and_fit pid=75448)\u001b[0m \tTrain Epoch: 6 \tTrain_loss: 1.5089 | Train_acc: 52.2202 % | Validation_loss: 1.7329 | Validation_acc: 41.3496 %\n"
     ]
    },
    {
     "name": "stderr",
     "output_type": "stream",
     "text": [
      " 60%|\u001b[34m██████    \u001b[0m| 6/10 [00:11<00:07,  1.98s/it]\n"
     ]
    },
    {
     "name": "stdout",
     "output_type": "stream",
     "text": [
      "\u001b[36m(launch_and_fit pid=75448)\u001b[0m \tTrain Epoch: 7 \tTrain_loss: 1.5221 | Train_acc: 50.8393 % | Validation_loss: 1.7821 | Validation_acc: 35.3261 %\n"
     ]
    },
    {
     "name": "stderr",
     "output_type": "stream",
     "text": [
      " 70%|\u001b[34m███████   \u001b[0m| 7/10 [00:13<00:05,  1.99s/it]\n"
     ]
    },
    {
     "name": "stdout",
     "output_type": "stream",
     "text": [
      "\u001b[36m(launch_and_fit pid=75448)\u001b[0m \tTrain Epoch: 8 \tTrain_loss: 1.5261 | Train_acc: 50.1667 % | Validation_loss: 1.7501 | Validation_acc: 41.3496 %\n"
     ]
    },
    {
     "name": "stderr",
     "output_type": "stream",
     "text": [
      " 80%|\u001b[34m████████  \u001b[0m| 8/10 [00:15<00:03,  1.99s/it]\n"
     ]
    },
    {
     "name": "stdout",
     "output_type": "stream",
     "text": [
      "\u001b[36m(launch_and_fit pid=75448)\u001b[0m \tTrain Epoch: 9 \tTrain_loss: 1.5093 | Train_acc: 52.2202 % | Validation_loss: 1.7437 | Validation_acc: 38.8587 %\n"
     ]
    },
    {
     "name": "stderr",
     "output_type": "stream",
     "text": [
      " 90%|\u001b[34m█████████ \u001b[0m| 9/10 [00:17<00:01,  1.98s/it]\n"
     ]
    },
    {
     "name": "stdout",
     "output_type": "stream",
     "text": [
      "\u001b[36m(launch_and_fit pid=75448)\u001b[0m \tTrain Epoch: 10 \tTrain_loss: 1.5214 | Train_acc: 50.6548 % | Validation_loss: 1.7995 | Validation_acc: 34.2844 %\n",
      "\u001b[36m(launch_and_fit pid=75448)\u001b[0m save graph in  results/FL/\n"
     ]
    },
    {
     "name": "stderr",
     "output_type": "stream",
     "text": [
      "100%|\u001b[34m██████████\u001b[0m| 10/10 [00:19<00:00,  1.98s/it]\n"
     ]
    },
    {
     "name": "stdout",
     "output_type": "stream",
     "text": [
      "\u001b[36m(launch_and_fit pid=75448)\u001b[0m Run WITHOUT homomorphic encryption\n",
      "\u001b[36m(launch_and_fit pid=75448)\u001b[0m  To get the checkpoint\n",
      "\u001b[36m(launch_and_fit pid=75448)\u001b[0m [Client 3, round 39] fit, config: {'learning_rate': 0.003, 'batch_size': '32', 'server_round': 39, 'local_epochs': 10}\n",
      "\u001b[36m(launch_and_fit pid=75448)\u001b[0m Updated model\n"
     ]
    },
    {
     "name": "stderr",
     "output_type": "stream",
     "text": [
      "  0%|\u001b[34m          \u001b[0m| 0/10 [00:00<?, ?it/s]\n"
     ]
    },
    {
     "name": "stdout",
     "output_type": "stream",
     "text": [
      "\u001b[36m(launch_and_fit pid=75448)\u001b[0m \tTrain Epoch: 1 \tTrain_loss: 1.5998 | Train_acc: 47.7798 % | Validation_loss: 1.6807 | Validation_acc: 38.8587 %\n"
     ]
    },
    {
     "name": "stderr",
     "output_type": "stream",
     "text": [
      " 10%|\u001b[34m█         \u001b[0m| 1/10 [00:02<00:18,  2.01s/it]\n"
     ]
    },
    {
     "name": "stdout",
     "output_type": "stream",
     "text": [
      "\u001b[36m(launch_and_fit pid=75448)\u001b[0m \tTrain Epoch: 2 \tTrain_loss: 1.6071 | Train_acc: 46.5357 % | Validation_loss: 1.6792 | Validation_acc: 35.3261 %\n"
     ]
    },
    {
     "name": "stderr",
     "output_type": "stream",
     "text": [
      " 20%|\u001b[34m██        \u001b[0m| 2/10 [00:04<00:16,  2.01s/it]\n"
     ]
    },
    {
     "name": "stdout",
     "output_type": "stream",
     "text": [
      "\u001b[36m(launch_and_fit pid=75448)\u001b[0m \tTrain Epoch: 3 \tTrain_loss: 1.6041 | Train_acc: 48.0893 % | Validation_loss: 1.6373 | Validation_acc: 44.0670 %\n"
     ]
    },
    {
     "name": "stderr",
     "output_type": "stream",
     "text": [
      " 30%|\u001b[34m███       \u001b[0m| 3/10 [00:06<00:14,  2.01s/it]\n"
     ]
    },
    {
     "name": "stdout",
     "output_type": "stream",
     "text": [
      "\u001b[36m(launch_and_fit pid=75448)\u001b[0m \tTrain Epoch: 4 \tTrain_loss: 1.5832 | Train_acc: 48.2738 % | Validation_loss: 1.6575 | Validation_acc: 40.9420 %\n"
     ]
    },
    {
     "name": "stderr",
     "output_type": "stream",
     "text": [
      " 40%|\u001b[34m████      \u001b[0m| 4/10 [00:08<00:12,  2.01s/it]\n"
     ]
    },
    {
     "name": "stdout",
     "output_type": "stream",
     "text": [
      "\u001b[36m(launch_and_fit pid=75448)\u001b[0m \tTrain Epoch: 5 \tTrain_loss: 1.5516 | Train_acc: 52.2024 % | Validation_loss: 1.6538 | Validation_acc: 40.5344 %\n"
     ]
    },
    {
     "name": "stderr",
     "output_type": "stream",
     "text": [
      " 50%|\u001b[34m█████     \u001b[0m| 5/10 [00:10<00:10,  2.01s/it]\n"
     ]
    },
    {
     "name": "stdout",
     "output_type": "stream",
     "text": [
      "\u001b[36m(launch_and_fit pid=75448)\u001b[0m \tTrain Epoch: 6 \tTrain_loss: 1.5684 | Train_acc: 50.0952 % | Validation_loss: 1.6541 | Validation_acc: 37.4094 %\n"
     ]
    },
    {
     "name": "stderr",
     "output_type": "stream",
     "text": [
      " 60%|\u001b[34m██████    \u001b[0m| 6/10 [00:12<00:08,  2.01s/it]\n"
     ]
    },
    {
     "name": "stdout",
     "output_type": "stream",
     "text": [
      "\u001b[36m(launch_and_fit pid=75448)\u001b[0m \tTrain Epoch: 7 \tTrain_loss: 1.5591 | Train_acc: 50.8274 % | Validation_loss: 1.6845 | Validation_acc: 39.9004 %\n"
     ]
    },
    {
     "name": "stderr",
     "output_type": "stream",
     "text": [
      " 70%|\u001b[34m███████   \u001b[0m| 7/10 [00:14<00:06,  2.00s/it]\n"
     ]
    },
    {
     "name": "stdout",
     "output_type": "stream",
     "text": [
      "\u001b[36m(launch_and_fit pid=75448)\u001b[0m \tTrain Epoch: 8 \tTrain_loss: 1.5450 | Train_acc: 51.5952 % | Validation_loss: 1.6355 | Validation_acc: 44.4746 %\n"
     ]
    },
    {
     "name": "stderr",
     "output_type": "stream",
     "text": [
      " 80%|\u001b[34m████████  \u001b[0m| 8/10 [00:15<00:03,  1.98s/it]\n"
     ]
    },
    {
     "name": "stdout",
     "output_type": "stream",
     "text": [
      "\u001b[36m(launch_and_fit pid=75448)\u001b[0m \tTrain Epoch: 9 \tTrain_loss: 1.5287 | Train_acc: 53.0952 % | Validation_loss: 1.6442 | Validation_acc: 39.9004 %\n"
     ]
    },
    {
     "name": "stderr",
     "output_type": "stream",
     "text": [
      " 90%|\u001b[34m█████████ \u001b[0m| 9/10 [00:17<00:01,  1.96s/it]\n",
      "100%|\u001b[34m██████████\u001b[0m| 10/10 [00:19<00:00,  1.98s/it]\n",
      "DEBUG flwr 2024-08-30 02:56:33,186 | server.py:236 | fit_round 39 received 4 results and 0 failures\n"
     ]
    },
    {
     "name": "stdout",
     "output_type": "stream",
     "text": [
      "\u001b[36m(launch_and_fit pid=75448)\u001b[0m \tTrain Epoch: 10 \tTrain_loss: 1.5703 | Train_acc: 49.5238 % | Validation_loss: 1.7035 | Validation_acc: 33.2428 %\n",
      "\u001b[36m(launch_and_fit pid=75448)\u001b[0m save graph in  results/FL/\n",
      "Saving round 39 aggregated_parameters...\n",
      "Updated model\n"
     ]
    },
    {
     "name": "stderr",
     "output_type": "stream",
     "text": [
      "INFO flwr 2024-08-30 02:56:33,941 | server.py:125 | fit progress: (39, 1.6368384616715568, {'accuracy': 45.34970238095238}, 4626.071679141838)\n",
      "DEBUG flwr 2024-08-30 02:56:33,942 | server.py:173 | evaluate_round 39: strategy sampled 4 clients (out of 4)\n"
     ]
    },
    {
     "name": "stdout",
     "output_type": "stream",
     "text": [
      "Server-side evaluation loss 1.6368384616715568 / accuracy 45.34970238095238\n",
      "\u001b[36m(launch_and_evaluate pid=75448)\u001b[0m Run WITHOUT homomorphic encryption\n",
      "\u001b[36m(launch_and_evaluate pid=75448)\u001b[0m  To get the checkpoint\n",
      "\u001b[36m(launch_and_evaluate pid=75448)\u001b[0m [Client 3] evaluate, config: {}\n",
      "\u001b[36m(launch_and_evaluate pid=75448)\u001b[0m Updated model\n",
      "\u001b[36m(launch_and_evaluate pid=75448)\u001b[0m Run WITHOUT homomorphic encryption\n",
      "\u001b[36m(launch_and_evaluate pid=75448)\u001b[0m  To get the checkpoint\n",
      "\u001b[36m(launch_and_evaluate pid=75448)\u001b[0m [Client 0] evaluate, config: {}\n",
      "\u001b[36m(launch_and_evaluate pid=75448)\u001b[0m Updated model\n",
      "\u001b[36m(launch_and_evaluate pid=75448)\u001b[0m Run WITHOUT homomorphic encryption\n",
      "\u001b[36m(launch_and_evaluate pid=75448)\u001b[0m  To get the checkpoint\n",
      "\u001b[36m(launch_and_evaluate pid=75448)\u001b[0m [Client 1] evaluate, config: {}\n",
      "\u001b[36m(launch_and_evaluate pid=75448)\u001b[0m Updated model\n",
      "\u001b[36m(launch_and_evaluate pid=75448)\u001b[0m Run WITHOUT homomorphic encryption\n",
      "\u001b[36m(launch_and_evaluate pid=75448)\u001b[0m  To get the checkpoint\n",
      "\u001b[36m(launch_and_evaluate pid=75448)\u001b[0m [Client 2] evaluate, config: {}\n",
      "\u001b[36m(launch_and_evaluate pid=75448)\u001b[0m Updated model\n"
     ]
    },
    {
     "name": "stderr",
     "output_type": "stream",
     "text": [
      "DEBUG flwr 2024-08-30 02:56:36,412 | server.py:187 | evaluate_round 39 received 4 results and 0 failures\n",
      "DEBUG flwr 2024-08-30 02:56:36,413 | server.py:222 | fit_round 40: strategy sampled 4 clients (out of 4)\n"
     ]
    },
    {
     "name": "stdout",
     "output_type": "stream",
     "text": [
      "\u001b[36m(launch_and_fit pid=75448)\u001b[0m Run WITHOUT homomorphic encryption\n",
      "\u001b[36m(launch_and_fit pid=75448)\u001b[0m  To get the checkpoint\n",
      "\u001b[36m(launch_and_fit pid=75448)\u001b[0m [Client 2, round 40] fit, config: {'learning_rate': 0.003, 'batch_size': '32', 'server_round': 40, 'local_epochs': 10}\n",
      "\u001b[36m(launch_and_fit pid=75448)\u001b[0m Updated model\n"
     ]
    },
    {
     "name": "stderr",
     "output_type": "stream",
     "text": [
      "  0%|\u001b[34m          \u001b[0m| 0/10 [00:00<?, ?it/s]\n"
     ]
    },
    {
     "name": "stdout",
     "output_type": "stream",
     "text": [
      "\u001b[36m(launch_and_fit pid=75448)\u001b[0m \tTrain Epoch: 1 \tTrain_loss: 1.6709 | Train_acc: 41.2202 % | Validation_loss: 1.6254 | Validation_acc: 45.5163 %\n"
     ]
    },
    {
     "name": "stderr",
     "output_type": "stream",
     "text": [
      " 10%|\u001b[34m█         \u001b[0m| 1/10 [00:01<00:17,  2.00s/it]\n"
     ]
    },
    {
     "name": "stdout",
     "output_type": "stream",
     "text": [
      "\u001b[36m(launch_and_fit pid=75448)\u001b[0m \tTrain Epoch: 2 \tTrain_loss: 1.6085 | Train_acc: 46.7143 % | Validation_loss: 1.5573 | Validation_acc: 50.7246 %\n"
     ]
    },
    {
     "name": "stderr",
     "output_type": "stream",
     "text": [
      " 20%|\u001b[34m██        \u001b[0m| 2/10 [00:03<00:15,  1.99s/it]\n"
     ]
    },
    {
     "name": "stdout",
     "output_type": "stream",
     "text": [
      "\u001b[36m(launch_and_fit pid=75448)\u001b[0m \tTrain Epoch: 3 \tTrain_loss: 1.6334 | Train_acc: 44.0833 % | Validation_loss: 1.6468 | Validation_acc: 45.9239 %\n"
     ]
    },
    {
     "name": "stderr",
     "output_type": "stream",
     "text": [
      " 30%|\u001b[34m███       \u001b[0m| 3/10 [00:05<00:13,  1.99s/it]\n"
     ]
    },
    {
     "name": "stdout",
     "output_type": "stream",
     "text": [
      "\u001b[36m(launch_and_fit pid=75448)\u001b[0m \tTrain Epoch: 4 \tTrain_loss: 1.6259 | Train_acc: 44.9048 % | Validation_loss: 1.5753 | Validation_acc: 52.8080 %\n"
     ]
    },
    {
     "name": "stderr",
     "output_type": "stream",
     "text": [
      " 40%|\u001b[34m████      \u001b[0m| 4/10 [00:07<00:11,  1.99s/it]\n"
     ]
    },
    {
     "name": "stdout",
     "output_type": "stream",
     "text": [
      "\u001b[36m(launch_and_fit pid=75448)\u001b[0m \tTrain Epoch: 5 \tTrain_loss: 1.5855 | Train_acc: 48.2857 % | Validation_loss: 1.5670 | Validation_acc: 52.8080 %\n"
     ]
    },
    {
     "name": "stderr",
     "output_type": "stream",
     "text": [
      " 50%|\u001b[34m█████     \u001b[0m| 5/10 [00:09<00:09,  1.99s/it]\n"
     ]
    },
    {
     "name": "stdout",
     "output_type": "stream",
     "text": [
      "\u001b[36m(launch_and_fit pid=75448)\u001b[0m \tTrain Epoch: 6 \tTrain_loss: 1.5832 | Train_acc: 48.4702 % | Validation_loss: 1.6191 | Validation_acc: 48.6413 %\n"
     ]
    },
    {
     "name": "stderr",
     "output_type": "stream",
     "text": [
      " 60%|\u001b[34m██████    \u001b[0m| 6/10 [00:11<00:07,  1.99s/it]\n"
     ]
    },
    {
     "name": "stdout",
     "output_type": "stream",
     "text": [
      "\u001b[36m(launch_and_fit pid=75448)\u001b[0m \tTrain Epoch: 7 \tTrain_loss: 1.5875 | Train_acc: 47.6548 % | Validation_loss: 1.5970 | Validation_acc: 47.5996 %\n"
     ]
    },
    {
     "name": "stderr",
     "output_type": "stream",
     "text": [
      " 70%|\u001b[34m███████   \u001b[0m| 7/10 [00:13<00:05,  2.00s/it]\n"
     ]
    },
    {
     "name": "stdout",
     "output_type": "stream",
     "text": [
      "\u001b[36m(launch_and_fit pid=75448)\u001b[0m \tTrain Epoch: 8 \tTrain_loss: 1.5851 | Train_acc: 48.5952 % | Validation_loss: 1.6222 | Validation_acc: 48.0072 %\n"
     ]
    },
    {
     "name": "stderr",
     "output_type": "stream",
     "text": [
      " 80%|\u001b[34m████████  \u001b[0m| 8/10 [00:15<00:03,  1.99s/it]\n"
     ]
    },
    {
     "name": "stdout",
     "output_type": "stream",
     "text": [
      "\u001b[36m(launch_and_fit pid=75448)\u001b[0m \tTrain Epoch: 9 \tTrain_loss: 1.5691 | Train_acc: 49.1012 % | Validation_loss: 1.5914 | Validation_acc: 47.5996 %\n"
     ]
    },
    {
     "name": "stderr",
     "output_type": "stream",
     "text": [
      " 90%|\u001b[34m█████████ \u001b[0m| 9/10 [00:17<00:01,  1.99s/it]\n"
     ]
    },
    {
     "name": "stdout",
     "output_type": "stream",
     "text": [
      "\u001b[36m(launch_and_fit pid=75448)\u001b[0m \tTrain Epoch: 10 \tTrain_loss: 1.5628 | Train_acc: 49.6429 % | Validation_loss: 1.5810 | Validation_acc: 50.7246 %\n",
      "\u001b[36m(launch_and_fit pid=75448)\u001b[0m save graph in  results/FL/\n"
     ]
    },
    {
     "name": "stderr",
     "output_type": "stream",
     "text": [
      "100%|\u001b[34m██████████\u001b[0m| 10/10 [00:19<00:00,  1.99s/it]\n"
     ]
    },
    {
     "name": "stdout",
     "output_type": "stream",
     "text": [
      "\u001b[36m(launch_and_fit pid=75448)\u001b[0m Run WITHOUT homomorphic encryption\n",
      "\u001b[36m(launch_and_fit pid=75448)\u001b[0m  To get the checkpoint\n",
      "\u001b[36m(launch_and_fit pid=75448)\u001b[0m [Client 0, round 40] fit, config: {'learning_rate': 0.003, 'batch_size': '32', 'server_round': 40, 'local_epochs': 10}\n",
      "\u001b[36m(launch_and_fit pid=75448)\u001b[0m Updated model\n"
     ]
    },
    {
     "name": "stderr",
     "output_type": "stream",
     "text": [
      "  0%|\u001b[34m          \u001b[0m| 0/10 [00:00<?, ?it/s]\n"
     ]
    },
    {
     "name": "stdout",
     "output_type": "stream",
     "text": [
      "\u001b[36m(launch_and_fit pid=75448)\u001b[0m \tTrain Epoch: 1 \tTrain_loss: 1.5902 | Train_acc: 45.4702 % | Validation_loss: 1.7160 | Validation_acc: 37.4094 %\n"
     ]
    },
    {
     "name": "stderr",
     "output_type": "stream",
     "text": [
      " 10%|\u001b[34m█         \u001b[0m| 1/10 [00:01<00:17,  1.97s/it]\n"
     ]
    },
    {
     "name": "stdout",
     "output_type": "stream",
     "text": [
      "\u001b[36m(launch_and_fit pid=75448)\u001b[0m \tTrain Epoch: 2 \tTrain_loss: 1.5452 | Train_acc: 48.1488 % | Validation_loss: 1.7384 | Validation_acc: 38.4511 %\n"
     ]
    },
    {
     "name": "stderr",
     "output_type": "stream",
     "text": [
      " 20%|\u001b[34m██        \u001b[0m| 2/10 [00:03<00:15,  1.99s/it]\n"
     ]
    },
    {
     "name": "stdout",
     "output_type": "stream",
     "text": [
      "\u001b[36m(launch_and_fit pid=75448)\u001b[0m \tTrain Epoch: 3 \tTrain_loss: 1.5185 | Train_acc: 50.5298 % | Validation_loss: 1.7093 | Validation_acc: 43.4330 %\n"
     ]
    },
    {
     "name": "stderr",
     "output_type": "stream",
     "text": [
      " 30%|\u001b[34m███       \u001b[0m| 3/10 [00:05<00:13,  1.99s/it]\n"
     ]
    },
    {
     "name": "stdout",
     "output_type": "stream",
     "text": [
      "\u001b[36m(launch_and_fit pid=75448)\u001b[0m \tTrain Epoch: 4 \tTrain_loss: 1.5166 | Train_acc: 50.8452 % | Validation_loss: 1.6889 | Validation_acc: 39.4928 %\n"
     ]
    },
    {
     "name": "stderr",
     "output_type": "stream",
     "text": [
      " 40%|\u001b[34m████      \u001b[0m| 4/10 [00:07<00:11,  1.99s/it]\n"
     ]
    },
    {
     "name": "stdout",
     "output_type": "stream",
     "text": [
      "\u001b[36m(launch_and_fit pid=75448)\u001b[0m \tTrain Epoch: 5 \tTrain_loss: 1.5489 | Train_acc: 48.6012 % | Validation_loss: 1.7560 | Validation_acc: 36.3678 %\n"
     ]
    },
    {
     "name": "stderr",
     "output_type": "stream",
     "text": [
      " 50%|\u001b[34m█████     \u001b[0m| 5/10 [00:09<00:09,  1.97s/it]\n"
     ]
    },
    {
     "name": "stdout",
     "output_type": "stream",
     "text": [
      "\u001b[36m(launch_and_fit pid=75448)\u001b[0m \tTrain Epoch: 6 \tTrain_loss: 1.5503 | Train_acc: 49.5952 % | Validation_loss: 1.7438 | Validation_acc: 36.3678 %\n"
     ]
    },
    {
     "name": "stderr",
     "output_type": "stream",
     "text": [
      " 60%|\u001b[34m██████    \u001b[0m| 6/10 [00:11<00:07,  1.95s/it]\n"
     ]
    },
    {
     "name": "stdout",
     "output_type": "stream",
     "text": [
      "\u001b[36m(launch_and_fit pid=75448)\u001b[0m \tTrain Epoch: 7 \tTrain_loss: 1.5399 | Train_acc: 48.0952 % | Validation_loss: 1.7530 | Validation_acc: 40.3080 %\n"
     ]
    },
    {
     "name": "stderr",
     "output_type": "stream",
     "text": [
      " 70%|\u001b[34m███████   \u001b[0m| 7/10 [00:13<00:05,  1.94s/it]\n"
     ]
    },
    {
     "name": "stdout",
     "output_type": "stream",
     "text": [
      "\u001b[36m(launch_and_fit pid=75448)\u001b[0m \tTrain Epoch: 8 \tTrain_loss: 1.5287 | Train_acc: 49.3452 % | Validation_loss: 1.7233 | Validation_acc: 38.8587 %\n"
     ]
    },
    {
     "name": "stderr",
     "output_type": "stream",
     "text": [
      " 80%|\u001b[34m████████  \u001b[0m| 8/10 [00:15<00:03,  1.93s/it]\n"
     ]
    },
    {
     "name": "stdout",
     "output_type": "stream",
     "text": [
      "\u001b[36m(launch_and_fit pid=75448)\u001b[0m \tTrain Epoch: 9 \tTrain_loss: 1.5027 | Train_acc: 52.3512 % | Validation_loss: 1.7128 | Validation_acc: 37.8170 %\n"
     ]
    },
    {
     "name": "stderr",
     "output_type": "stream",
     "text": [
      " 90%|\u001b[34m█████████ \u001b[0m| 9/10 [00:17<00:01,  1.93s/it]\n"
     ]
    },
    {
     "name": "stdout",
     "output_type": "stream",
     "text": [
      "\u001b[36m(launch_and_fit pid=75448)\u001b[0m \tTrain Epoch: 10 \tTrain_loss: 1.5157 | Train_acc: 50.2798 % | Validation_loss: 1.6881 | Validation_acc: 38.4511 %\n",
      "\u001b[36m(launch_and_fit pid=75448)\u001b[0m save graph in  results/FL/\n"
     ]
    },
    {
     "name": "stderr",
     "output_type": "stream",
     "text": [
      "100%|\u001b[34m██████████\u001b[0m| 10/10 [00:19<00:00,  1.95s/it]\n"
     ]
    },
    {
     "name": "stdout",
     "output_type": "stream",
     "text": [
      "\u001b[36m(launch_and_fit pid=75448)\u001b[0m Run WITHOUT homomorphic encryption\n",
      "\u001b[36m(launch_and_fit pid=75448)\u001b[0m  To get the checkpoint\n",
      "\u001b[36m(launch_and_fit pid=75448)\u001b[0m [Client 3, round 40] fit, config: {'learning_rate': 0.003, 'batch_size': '32', 'server_round': 40, 'local_epochs': 10}\n",
      "\u001b[36m(launch_and_fit pid=75448)\u001b[0m Updated model\n"
     ]
    },
    {
     "name": "stderr",
     "output_type": "stream",
     "text": [
      "  0%|\u001b[34m          \u001b[0m| 0/10 [00:00<?, ?it/s]\n"
     ]
    },
    {
     "name": "stdout",
     "output_type": "stream",
     "text": [
      "\u001b[36m(launch_and_fit pid=75448)\u001b[0m \tTrain Epoch: 1 \tTrain_loss: 1.6035 | Train_acc: 47.1488 % | Validation_loss: 1.7283 | Validation_acc: 34.2844 %\n"
     ]
    },
    {
     "name": "stderr",
     "output_type": "stream",
     "text": [
      " 10%|\u001b[34m█         \u001b[0m| 1/10 [00:01<00:17,  1.92s/it]\n"
     ]
    },
    {
     "name": "stdout",
     "output_type": "stream",
     "text": [
      "\u001b[36m(launch_and_fit pid=75448)\u001b[0m \tTrain Epoch: 2 \tTrain_loss: 1.5787 | Train_acc: 48.0952 % | Validation_loss: 1.6356 | Validation_acc: 43.0254 %\n"
     ]
    },
    {
     "name": "stderr",
     "output_type": "stream",
     "text": [
      " 20%|\u001b[34m██        \u001b[0m| 2/10 [00:03<00:15,  1.92s/it]\n"
     ]
    },
    {
     "name": "stdout",
     "output_type": "stream",
     "text": [
      "\u001b[36m(launch_and_fit pid=75448)\u001b[0m \tTrain Epoch: 3 \tTrain_loss: 1.5916 | Train_acc: 47.5952 % | Validation_loss: 1.7013 | Validation_acc: 37.4094 %\n"
     ]
    },
    {
     "name": "stderr",
     "output_type": "stream",
     "text": [
      " 30%|\u001b[34m███       \u001b[0m| 3/10 [00:05<00:13,  1.92s/it]\n"
     ]
    },
    {
     "name": "stdout",
     "output_type": "stream",
     "text": [
      "\u001b[36m(launch_and_fit pid=75448)\u001b[0m \tTrain Epoch: 4 \tTrain_loss: 1.6151 | Train_acc: 45.0893 % | Validation_loss: 1.6477 | Validation_acc: 40.1268 %\n"
     ]
    },
    {
     "name": "stderr",
     "output_type": "stream",
     "text": [
      " 40%|\u001b[34m████      \u001b[0m| 4/10 [00:07<00:11,  1.92s/it]\n"
     ]
    },
    {
     "name": "stdout",
     "output_type": "stream",
     "text": [
      "\u001b[36m(launch_and_fit pid=75448)\u001b[0m \tTrain Epoch: 5 \tTrain_loss: 1.5517 | Train_acc: 50.9702 % | Validation_loss: 1.6562 | Validation_acc: 34.9185 %\n"
     ]
    },
    {
     "name": "stderr",
     "output_type": "stream",
     "text": [
      " 50%|\u001b[34m█████     \u001b[0m| 5/10 [00:09<00:09,  1.94s/it]\n"
     ]
    },
    {
     "name": "stdout",
     "output_type": "stream",
     "text": [
      "\u001b[36m(launch_and_fit pid=75448)\u001b[0m \tTrain Epoch: 6 \tTrain_loss: 1.5607 | Train_acc: 49.6607 % | Validation_loss: 1.6813 | Validation_acc: 40.3080 %\n"
     ]
    },
    {
     "name": "stderr",
     "output_type": "stream",
     "text": [
      " 60%|\u001b[34m██████    \u001b[0m| 6/10 [00:11<00:07,  1.96s/it]\n"
     ]
    },
    {
     "name": "stdout",
     "output_type": "stream",
     "text": [
      "\u001b[36m(launch_and_fit pid=75448)\u001b[0m \tTrain Epoch: 7 \tTrain_loss: 1.5354 | Train_acc: 52.3512 % | Validation_loss: 1.6709 | Validation_acc: 36.3678 %\n"
     ]
    },
    {
     "name": "stderr",
     "output_type": "stream",
     "text": [
      " 70%|\u001b[34m███████   \u001b[0m| 7/10 [00:13<00:05,  1.94s/it]\n"
     ]
    },
    {
     "name": "stdout",
     "output_type": "stream",
     "text": [
      "\u001b[36m(launch_and_fit pid=75448)\u001b[0m \tTrain Epoch: 8 \tTrain_loss: 1.5355 | Train_acc: 52.0179 % | Validation_loss: 1.6471 | Validation_acc: 40.5344 %\n"
     ]
    },
    {
     "name": "stderr",
     "output_type": "stream",
     "text": [
      " 80%|\u001b[34m████████  \u001b[0m| 8/10 [00:15<00:03,  1.94s/it]\n"
     ]
    },
    {
     "name": "stdout",
     "output_type": "stream",
     "text": [
      "\u001b[36m(launch_and_fit pid=75448)\u001b[0m \tTrain Epoch: 9 \tTrain_loss: 1.5297 | Train_acc: 52.8988 % | Validation_loss: 1.6814 | Validation_acc: 37.4094 %\n"
     ]
    },
    {
     "name": "stderr",
     "output_type": "stream",
     "text": [
      " 90%|\u001b[34m█████████ \u001b[0m| 9/10 [00:17<00:01,  1.93s/it]\n"
     ]
    },
    {
     "name": "stdout",
     "output_type": "stream",
     "text": [
      "\u001b[36m(launch_and_fit pid=75448)\u001b[0m \tTrain Epoch: 10 \tTrain_loss: 1.5204 | Train_acc: 53.3512 % | Validation_loss: 1.6629 | Validation_acc: 41.5761 %\n",
      "\u001b[36m(launch_and_fit pid=75448)\u001b[0m save graph in  results/FL/\n"
     ]
    },
    {
     "name": "stderr",
     "output_type": "stream",
     "text": [
      "100%|\u001b[34m██████████\u001b[0m| 10/10 [00:19<00:00,  1.93s/it]\n"
     ]
    },
    {
     "name": "stdout",
     "output_type": "stream",
     "text": [
      "\u001b[36m(launch_and_fit pid=75448)\u001b[0m Run WITHOUT homomorphic encryption\n",
      "\u001b[36m(launch_and_fit pid=75448)\u001b[0m  To get the checkpoint\n",
      "\u001b[36m(launch_and_fit pid=75448)\u001b[0m [Client 1, round 40] fit, config: {'learning_rate': 0.003, 'batch_size': '32', 'server_round': 40, 'local_epochs': 10}\n",
      "\u001b[36m(launch_and_fit pid=75448)\u001b[0m Updated model\n"
     ]
    },
    {
     "name": "stderr",
     "output_type": "stream",
     "text": [
      "  0%|\u001b[34m          \u001b[0m| 0/10 [00:00<?, ?it/s]\n"
     ]
    },
    {
     "name": "stdout",
     "output_type": "stream",
     "text": [
      "\u001b[36m(launch_and_fit pid=75448)\u001b[0m \tTrain Epoch: 1 \tTrain_loss: 1.6066 | Train_acc: 45.4107 % | Validation_loss: 1.5448 | Validation_acc: 52.1739 %\n"
     ]
    },
    {
     "name": "stderr",
     "output_type": "stream",
     "text": [
      " 10%|\u001b[34m█         \u001b[0m| 1/10 [00:02<00:18,  2.05s/it]\n"
     ]
    },
    {
     "name": "stdout",
     "output_type": "stream",
     "text": [
      "\u001b[36m(launch_and_fit pid=75448)\u001b[0m \tTrain Epoch: 2 \tTrain_loss: 1.5628 | Train_acc: 48.1071 % | Validation_loss: 1.5853 | Validation_acc: 49.2754 %\n"
     ]
    },
    {
     "name": "stderr",
     "output_type": "stream",
     "text": [
      " 20%|\u001b[34m██        \u001b[0m| 2/10 [00:04<00:16,  2.03s/it]\n"
     ]
    },
    {
     "name": "stdout",
     "output_type": "stream",
     "text": [
      "\u001b[36m(launch_and_fit pid=75448)\u001b[0m \tTrain Epoch: 3 \tTrain_loss: 1.5688 | Train_acc: 46.5298 % | Validation_loss: 1.5867 | Validation_acc: 49.6830 %\n"
     ]
    },
    {
     "name": "stderr",
     "output_type": "stream",
     "text": [
      " 30%|\u001b[34m███       \u001b[0m| 3/10 [00:06<00:14,  2.01s/it]\n"
     ]
    },
    {
     "name": "stdout",
     "output_type": "stream",
     "text": [
      "\u001b[36m(launch_and_fit pid=75448)\u001b[0m \tTrain Epoch: 4 \tTrain_loss: 1.5356 | Train_acc: 50.7917 % | Validation_loss: 1.5782 | Validation_acc: 50.3170 %\n"
     ]
    },
    {
     "name": "stderr",
     "output_type": "stream",
     "text": [
      " 40%|\u001b[34m████      \u001b[0m| 4/10 [00:08<00:12,  2.01s/it]\n"
     ]
    },
    {
     "name": "stdout",
     "output_type": "stream",
     "text": [
      "\u001b[36m(launch_and_fit pid=75448)\u001b[0m \tTrain Epoch: 5 \tTrain_loss: 1.5328 | Train_acc: 50.0417 % | Validation_loss: 1.5888 | Validation_acc: 49.2754 %\n"
     ]
    },
    {
     "name": "stderr",
     "output_type": "stream",
     "text": [
      " 50%|\u001b[34m█████     \u001b[0m| 5/10 [00:10<00:10,  2.02s/it]\n"
     ]
    },
    {
     "name": "stdout",
     "output_type": "stream",
     "text": [
      "\u001b[36m(launch_and_fit pid=75448)\u001b[0m \tTrain Epoch: 6 \tTrain_loss: 1.5250 | Train_acc: 51.0952 % | Validation_loss: 1.5723 | Validation_acc: 51.7663 %\n"
     ]
    },
    {
     "name": "stderr",
     "output_type": "stream",
     "text": [
      " 60%|\u001b[34m██████    \u001b[0m| 6/10 [00:12<00:08,  2.01s/it]\n"
     ]
    },
    {
     "name": "stdout",
     "output_type": "stream",
     "text": [
      "\u001b[36m(launch_and_fit pid=75448)\u001b[0m \tTrain Epoch: 7 \tTrain_loss: 1.5351 | Train_acc: 50.8452 % | Validation_loss: 1.6310 | Validation_acc: 46.1504 %\n"
     ]
    },
    {
     "name": "stderr",
     "output_type": "stream",
     "text": [
      " 70%|\u001b[34m███████   \u001b[0m| 7/10 [00:14<00:06,  2.24s/it]\n"
     ]
    },
    {
     "name": "stdout",
     "output_type": "stream",
     "text": [
      "\u001b[36m(launch_and_fit pid=75448)\u001b[0m \tTrain Epoch: 8 \tTrain_loss: 1.5425 | Train_acc: 49.7917 % | Validation_loss: 1.5547 | Validation_acc: 53.2156 %\n"
     ]
    },
    {
     "name": "stderr",
     "output_type": "stream",
     "text": [
      " 80%|\u001b[34m████████  \u001b[0m| 8/10 [00:16<00:04,  2.17s/it]\n"
     ]
    },
    {
     "name": "stdout",
     "output_type": "stream",
     "text": [
      "\u001b[36m(launch_and_fit pid=75448)\u001b[0m \tTrain Epoch: 9 \tTrain_loss: 1.5455 | Train_acc: 48.9048 % | Validation_loss: 1.6227 | Validation_acc: 45.7428 %\n"
     ]
    },
    {
     "name": "stderr",
     "output_type": "stream",
     "text": [
      " 90%|\u001b[34m█████████ \u001b[0m| 9/10 [00:18<00:02,  2.13s/it]\n",
      "100%|\u001b[34m██████████\u001b[0m| 10/10 [00:20<00:00,  2.09s/it]\n",
      "DEBUG flwr 2024-08-30 02:57:57,663 | server.py:236 | fit_round 40 received 4 results and 0 failures\n"
     ]
    },
    {
     "name": "stdout",
     "output_type": "stream",
     "text": [
      "\u001b[36m(launch_and_fit pid=75448)\u001b[0m \tTrain Epoch: 10 \tTrain_loss: 1.5256 | Train_acc: 51.0357 % | Validation_loss: 1.6575 | Validation_acc: 43.2518 %\n",
      "\u001b[36m(launch_and_fit pid=75448)\u001b[0m save graph in  results/FL/\n",
      "Saving round 40 aggregated_parameters...\n",
      "Updated model\n"
     ]
    },
    {
     "name": "stderr",
     "output_type": "stream",
     "text": [
      "INFO flwr 2024-08-30 02:57:58,533 | server.py:125 | fit progress: (40, 1.6065438858100347, {'accuracy': 47.69345238095238}, 4710.664206203073)\n",
      "DEBUG flwr 2024-08-30 02:57:58,534 | server.py:173 | evaluate_round 40: strategy sampled 4 clients (out of 4)\n"
     ]
    },
    {
     "name": "stdout",
     "output_type": "stream",
     "text": [
      "Server-side evaluation loss 1.6065438858100347 / accuracy 47.69345238095238\n",
      "\u001b[36m(launch_and_evaluate pid=75448)\u001b[0m Run WITHOUT homomorphic encryption\n",
      "\u001b[36m(launch_and_evaluate pid=75448)\u001b[0m  To get the checkpoint\n",
      "\u001b[36m(launch_and_evaluate pid=75448)\u001b[0m [Client 3] evaluate, config: {}\n",
      "\u001b[36m(launch_and_evaluate pid=75448)\u001b[0m Updated model\n",
      "\u001b[36m(launch_and_evaluate pid=75448)\u001b[0m Run WITHOUT homomorphic encryption\n",
      "\u001b[36m(launch_and_evaluate pid=75448)\u001b[0m  To get the checkpoint\n",
      "\u001b[36m(launch_and_evaluate pid=75448)\u001b[0m [Client 0] evaluate, config: {}\n",
      "\u001b[36m(launch_and_evaluate pid=75448)\u001b[0m Updated model\n",
      "\u001b[36m(launch_and_evaluate pid=75448)\u001b[0m Run WITHOUT homomorphic encryption\n",
      "\u001b[36m(launch_and_evaluate pid=75448)\u001b[0m  To get the checkpoint\n",
      "\u001b[36m(launch_and_evaluate pid=75448)\u001b[0m [Client 1] evaluate, config: {}\n",
      "\u001b[36m(launch_and_evaluate pid=75448)\u001b[0m Updated model\n",
      "\u001b[36m(launch_and_evaluate pid=75448)\u001b[0m Run WITHOUT homomorphic encryption\n",
      "\u001b[36m(launch_and_evaluate pid=75448)\u001b[0m  To get the checkpoint\n",
      "\u001b[36m(launch_and_evaluate pid=75448)\u001b[0m [Client 2] evaluate, config: {}\n",
      "\u001b[36m(launch_and_evaluate pid=75448)\u001b[0m Updated model\n"
     ]
    },
    {
     "name": "stderr",
     "output_type": "stream",
     "text": [
      "DEBUG flwr 2024-08-30 02:58:01,036 | server.py:187 | evaluate_round 40 received 4 results and 0 failures\n",
      "INFO flwr 2024-08-30 02:58:01,037 | server.py:153 | FL finished in 4713.167615961283\n",
      "INFO flwr 2024-08-30 02:58:01,040 | app.py:225 | app_fit: losses_distributed [(1, 1.9115628798802693), (2, 1.8090030948321025), (3, 1.7815740207831066), (4, 1.7585551242033641), (5, 1.7657507757345836), (6, 1.7522096534570057), (7, 1.7533273696899414), (8, 1.7389521598815918), (9, 1.7373717725276947), (10, 1.724465976158778), (11, 1.7086799045403798), (12, 1.7059689164161682), (13, 1.7077684899171193), (14, 1.7002973854541779), (15, 1.8514422376950581), (16, 1.6991631885369618), (17, 1.6995551586151123), (18, 1.691803087790807), (19, 1.688830743233363), (20, 1.7055724362532299), (21, 1.6884069840113323), (22, 1.686564972003301), (23, 1.6794230043888092), (24, 1.6817822555700939), (25, 1.6775047878424327), (26, 1.7082467277844746), (27, 1.6504842539628346), (28, 1.6116504470507305), (29, 1.644869287808736), (30, 1.6241409679253895), (31, 1.6671630640824635), (32, 1.6247687836488087), (33, 1.614885816971461), (34, 1.6061262786388397), (35, 1.6116422414779663), (36, 1.6071701149145763), (37, 1.6035410265127819), (38, 1.599760115146637), (39, 1.6254619359970093), (40, 1.5937807659308116)]\n",
      "INFO flwr 2024-08-30 02:58:01,040 | app.py:226 | app_fit: metrics_distributed_fit {}\n",
      "INFO flwr 2024-08-30 02:58:01,041 | app.py:227 | app_fit: metrics_distributed {'accuracy': [(1, 35.4393115942029), (2, 35.4393115942029), (3, 35.4393115942029), (4, 36.94519927536232), (5, 35.17889492753623), (6, 35.4393115942029), (7, 35.8016304347826), (8, 37.20561594202898), (9, 36.11865942028985), (10, 40.79483695652174), (11, 40.59103260869565), (12, 40.99864130434783), (13, 41.36096014492753), (14, 40.85144927536232), (15, 29.257246376811594), (16, 42.14221014492754), (17, 41.88179347826087), (18, 44.84827898550724), (19, 45.62952898550725), (20, 41.983695652173914), (21, 45.3125), (22, 45.21059782608696), (23, 45.572916666666664), (24, 42.82155797101449), (25, 45.833333333333336), (26, 42.8215579710145), (27, 43.34239130434782), (28, 46.45606884057971), (29, 42.14221014492753), (30, 46.19565217391304), (31, 40.11548913043478), (32, 45.73143115942029), (33, 45.99184782608696), (34, 47.70153985507247), (35, 46.45606884057971), (36, 47.078804347826086), (37, 49.105525362318836), (38, 48.380887681159415), (39, 47.70153985507246), (40, 49.00362318840579)]}\n",
      "INFO flwr 2024-08-30 02:58:01,041 | app.py:228 | app_fit: losses_centralized [(0, 1.9640695750713348), (1, 1.9158994725772314), (2, 1.8344656356743403), (3, 1.818590943302427), (4, 1.771896596465792), (5, 1.799536977495466), (6, 1.7578793040343694), (7, 1.7899783381393977), (8, 1.7419893060411726), (9, 1.7445328491074699), (10, 1.7320647282259805), (11, 1.7241610884666443), (12, 1.723957244838987), (13, 1.7227250805922918), (14, 1.7217063478061132), (15, 1.8608024035181319), (16, 1.7236578251634325), (17, 1.7184858918190002), (18, 1.721299797296524), (19, 1.7184186024325234), (20, 1.7238937999520982), (21, 1.714258998632431), (22, 1.7115991924490248), (23, 1.7103779528822218), (24, 1.716665072100503), (25, 1.7036162189074926), (26, 1.727695563009807), (27, 1.6935838929244451), (28, 1.6540033306394304), (29, 1.6750548354216985), (30, 1.6583337443215507), (31, 1.7068895399570465), (32, 1.6542771075453078), (33, 1.639534831047058), (34, 1.6253771824496133), (35, 1.6294193949018205), (36, 1.6231243014335632), (37, 1.6222399175167084), (38, 1.6169368028640747), (39, 1.6368384616715568), (40, 1.6065438858100347)]\n",
      "INFO flwr 2024-08-30 02:58:01,041 | app.py:229 | app_fit: metrics_centralized {'accuracy': [(0, 7.403273809523809), (1, 31.69642857142857), (2, 31.69642857142857), (3, 31.473214285714285), (4, 36.79315476190476), (5, 32.552083333333336), (6, 36.458333333333336), (7, 31.58482142857143), (8, 37.239583333333336), (9, 36.830357142857146), (10, 41.145833333333336), (11, 40.885416666666664), (12, 38.504464285714285), (13, 40.625), (14, 39.732142857142854), (15, 29.575892857142854), (16, 39.0625), (17, 39.955357142857146), (18, 41.36904761904762), (19, 42.373511904761905), (20, 40.066964285714285), (21, 41.70386904761905), (22, 41.70386904761905), (23, 42.373511904761905), (24, 40.476190476190474), (25, 42.708333333333336), (26, 41.10863095238095), (27, 39.955357142857146), (28, 43.601190476190474), (29, 41.07142857142857), (30, 43.117559523809526), (31, 36.495535714285715), (32, 44.04761904761905), (33, 45.01488095238095), (34, 45.163690476190474), (35, 46.354166666666664), (36, 46.13095238095238), (37, 46.39136904761905), (38, 46.726190476190474), (39, 45.34970238095238), (40, 47.69345238095238)]}\n"
     ]
    },
    {
     "name": "stdout",
     "output_type": "stream",
     "text": [
      "Simulation Time = 4716.629265069962 seconds\n"
     ]
    }
   ],
   "source": [
    "import warnings\n",
    "warnings.simplefilter(\"ignore\")\n",
    "\n",
    "print(\"flwr\", fl.__version__)\n",
    "print(\"numpy\", np.__version__)\n",
    "print(\"torch\", torch.__version__)\n",
    "print(\"torchvision\", torchvision.__version__)\n",
    "print(f\"Training on {DEVICE}\")\n",
    "\n",
    "client_resources = None\n",
    "\n",
    "if DEVICE.type == \"cuda\":\n",
    "    client_resources = {\"num_gpus\": 1}\n",
    "\n",
    "model_save = model_save\n",
    "path_yaml = yaml_path\n",
    "path_roc = roc_path\n",
    "results_save = save_results\n",
    "path_matrix = matrix_path\n",
    "batch_size = batch_size\n",
    "\n",
    "print(\"Start simulation\")\n",
    "start_simulation = time.time()\n",
    "fl.simulation.start_simulation(\n",
    "    client_fn=client_fn,\n",
    "    num_clients=number_clients,\n",
    "    config=fl.server.ServerConfig(num_rounds=rounds),\n",
    "    strategy=strategy,\n",
    "    client_resources=client_resources\n",
    ")\n",
    "print(f\"Simulation Time = {time.time() - start_simulation} seconds\")"
   ]
  }
 ],
 "metadata": {
  "kernelspec": {
   "display_name": "Python 3 (ipykernel)",
   "language": "python",
   "name": "python3"
  },
  "language_info": {
   "codemirror_mode": {
    "name": "ipython",
    "version": 3
   },
   "file_extension": ".py",
   "mimetype": "text/x-python",
   "name": "python",
   "nbconvert_exporter": "python",
   "pygments_lexer": "ipython3",
   "version": "3.10.12"
  }
 },
 "nbformat": 4,
 "nbformat_minor": 4
}

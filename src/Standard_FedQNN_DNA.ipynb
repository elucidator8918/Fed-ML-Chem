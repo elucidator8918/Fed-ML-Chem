{
 "cells": [
  {
   "cell_type": "markdown",
   "metadata": {},
   "source": [
    "### Import necessary libraries and modules"
   ]
  },
  {
   "cell_type": "code",
   "execution_count": 1,
   "metadata": {},
   "outputs": [],
   "source": [
    "# %%bash\n",
    "\n",
    "# kaggle datasets download -d nageshsingh/dna-sequence-dataset\n",
    "# mkdir data data/DNA\n",
    "# unzip dna-sequence-dataset.zip -d data/DNA\n",
    "# rm dna-sequence-dataset.zip"
   ]
  },
  {
   "cell_type": "code",
   "execution_count": 2,
   "metadata": {},
   "outputs": [],
   "source": [
    "import os\n",
    "import pickle\n",
    "import time\n",
    "from collections import OrderedDict\n",
    "from typing import (\n",
    "    List, Tuple, Dict, Optional, Callable, Union\n",
    ")\n",
    "import tenseal as ts\n",
    "\n",
    "import numpy as np\n",
    "import torchvision\n",
    "import torch\n",
    "from torch import nn\n",
    "import torch.nn.functional as F\n",
    "import flwr as fl\n",
    "from flwr.common import (\n",
    "    Metrics, EvaluateIns, EvaluateRes, FitIns, FitRes, MetricsAggregationFn, \n",
    "    Scalar, logger, ndarrays_to_parameters_custom, parameters_to_ndarrays_custom,\n",
    "    Parameters, NDArrays\n",
    ")\n",
    "from flwr.server.client_proxy import ClientProxy\n",
    "from flwr.server.client_manager import ClientManager\n",
    "from flwr.server.strategy.aggregate import weighted_loss_avg\n",
    "from logging import WARNING\n",
    "import pennylane as qml\n",
    "\n",
    "from utils import *\n",
    "\n",
    "os.environ['TOKENIZERS_PARALLELISM'] = 'false'"
   ]
  },
  {
   "cell_type": "markdown",
   "metadata": {},
   "source": [
    "### Creation of FHE Keys"
   ]
  },
  {
   "cell_type": "code",
   "execution_count": 3,
   "metadata": {},
   "outputs": [
    {
     "name": "stdout",
     "output_type": "stream",
     "text": [
      "it exists\n"
     ]
    }
   ],
   "source": [
    "def combo_keys(client_path=\"secret.pkl\", server_path=\"server_key.pkl\"):\n",
    "    \"\"\"\n",
    "    To create the public/private keys combination\n",
    "    args:\n",
    "        client_path: path to save the secret key (str)\n",
    "        server_path: path to save the server public key (str)\n",
    "    \"\"\"\n",
    "    context_client = security.context()\n",
    "    security.write_query(client_path, {\"contexte\": context_client.serialize(save_secret_key=True)})\n",
    "    security.write_query(server_path, {\"contexte\": context_client.serialize()})\n",
    "\n",
    "    _, context_client = security.read_query(client_path)\n",
    "    _, context_server = security.read_query(server_path)\n",
    "\n",
    "    context_client = ts.context_from(context_client)\n",
    "    context_server = ts.context_from(context_server)\n",
    "    print(\"Is the client context private?\", (\"Yes\" if context_client.is_private() else \"No\"))\n",
    "    print(\"Is the server context private?\", (\"Yes\" if context_server.is_private() else \"No\"))\n",
    "\n",
    "\n",
    "secret_path = \"secret.pkl\"\n",
    "public_path = \"server_key.pkl\"\n",
    "if os.path.exists(secret_path):\n",
    "    print(\"it exists\")\n",
    "    _, context_client = security.read_query(secret_path)\n",
    "\n",
    "else:\n",
    "    combo_keys(client_path=secret_path, server_path=public_path)\n",
    "\n",
    "n_qubits = 7\n",
    "n_layers = 6\n",
    "weight_shapes = {\"weights\": (n_layers, n_qubits)}    "
   ]
  },
  {
   "cell_type": "markdown",
   "metadata": {},
   "source": [
    "### Model Architecture Creation"
   ]
  },
  {
   "cell_type": "code",
   "execution_count": 4,
   "metadata": {},
   "outputs": [],
   "source": [
    "dev = qml.device(\"default.qubit.torch\", wires=n_qubits)\n",
    "    \n",
    "@qml.qnode(dev, interface='torch')\n",
    "def quantum_net(inputs, weights):\n",
    "    qml.AngleEmbedding(inputs, wires=range(n_qubits)) \n",
    "    qml.BasicEntanglerLayers(weights,wires=range(n_qubits))\n",
    "    return [qml.expval(qml.PauliZ(i)) for i in range(n_qubits)]\n",
    "\n",
    "class Net(nn.Module):\n",
    "    \"\"\"\n",
    "    A better CNN model with improvements such as dropout and batch normalization.\n",
    "\n",
    "    Args:\n",
    "        num_classes: An integer indicating the number of classes in the dataset.\n",
    "    \"\"\"\n",
    "    def __init__(self, num_classes=10) -> None:\n",
    "        super(Net, self).__init__()\n",
    "        self.fc1 = nn.Linear(384, 512)\n",
    "        self.fc2 = nn.Linear(512, 256)\n",
    "        self.fc3 = nn.Linear(256, 128)\n",
    "        self.fc4 = nn.Linear(128, num_classes)        \n",
    "\n",
    "        # Dropout layers\n",
    "        self.dropout = nn.Dropout(p=0.5)\n",
    "\n",
    "        self.qnn = qml.qnn.TorchLayer(quantum_net, weight_shapes)\n",
    "        self.softmax = nn.Softmax(dim=1)\n",
    "        \n",
    "        # Weight initialization\n",
    "        self._initialize_weights()\n",
    "\n",
    "    def _initialize_weights(self):\n",
    "        for m in self.modules():\n",
    "            if isinstance(m, nn.Linear):\n",
    "                nn.init.kaiming_normal_(m.weight, mode='fan_out', nonlinearity='relu')\n",
    "                nn.init.zeros_(m.bias)\n",
    "\n",
    "    def forward(self, x: torch.Tensor) -> torch.Tensor:\n",
    "        \"\"\"\n",
    "        Forward pass of the neural network\n",
    "        \"\"\"\n",
    "        x = F.relu(self.fc1(x))\n",
    "        x = self.dropout(x)\n",
    "\n",
    "        x = F.relu(self.fc2(x))\n",
    "        x = self.dropout(x)\n",
    "\n",
    "        x = F.relu(self.fc3(x))\n",
    "        x = self.dropout(x)\n",
    "\n",
    "        x = self.fc4(x)\n",
    "        x = self.softmax(self.qnn(x))\n",
    "        return x"
   ]
  },
  {
   "cell_type": "markdown",
   "metadata": {},
   "source": [
    "### Define the FlowerClient class for federated learning"
   ]
  },
  {
   "cell_type": "code",
   "execution_count": 5,
   "metadata": {},
   "outputs": [],
   "source": [
    "class FlowerClient(fl.client.NumPyClient):\n",
    "    def __init__(self, cid, net, trainloader, valloader, device, batch_size, save_results, matrix_path, roc_path,\n",
    "                 yaml_path, he, classes, context_client):\n",
    "        self.net = net\n",
    "        self.trainloader = trainloader\n",
    "        self.valloader = valloader\n",
    "        self.cid = cid\n",
    "        self.device = device\n",
    "        self.batch_size = batch_size\n",
    "        self.save_results = save_results\n",
    "        self.matrix_path = matrix_path\n",
    "        self.roc_path = roc_path\n",
    "        self.yaml_path = yaml_path\n",
    "        self.he = he\n",
    "        self.classes = classes\n",
    "        self.context_client = context_client\n",
    "\n",
    "    def get_parameters(self, config):\n",
    "        print(f\"[Client {self.cid}] get_parameters\")\n",
    "        return get_parameters2(self.net, self.context_client)\n",
    "\n",
    "    def fit(self, parameters, config):\n",
    "        server_round = config['server_round']\n",
    "        local_epochs = config['local_epochs']\n",
    "        lr = float(config[\"learning_rate\"])\n",
    "\n",
    "        print(f'[Client {self.cid}, round {server_round}] fit, config: {config}')\n",
    "\n",
    "        set_parameters(self.net, parameters, self.context_client)\n",
    "\n",
    "        criterion = torch.nn.CrossEntropyLoss()\n",
    "        optimizer = torch.optim.Adam(self.net.parameters(), lr=lr)\n",
    "\n",
    "        results = engine.train(self.net, self.trainloader, self.valloader, optimizer=optimizer, loss_fn=criterion,\n",
    "                               epochs=local_epochs, device=self.device)\n",
    "\n",
    "        if self.save_results:\n",
    "            save_graphs(self.save_results, local_epochs, results, f\"_Client {self.cid}\")\n",
    "\n",
    "        return get_parameters2(self.net, self.context_client), len(self.trainloader), {}\n",
    "\n",
    "    def evaluate(self, parameters, config):\n",
    "        print(f\"[Client {self.cid}] evaluate, config: {config}\")\n",
    "        set_parameters(self.net, parameters, self.context_client)\n",
    "\n",
    "        loss, accuracy, y_pred, y_true, y_proba = engine.test(self.net, self.valloader,\n",
    "                                                              loss_fn=torch.nn.CrossEntropyLoss(), device=self.device)\n",
    "\n",
    "        if self.save_results:\n",
    "            os.makedirs(self.save_results, exist_ok=True)\n",
    "            if self.matrix_path:\n",
    "                save_matrix(y_true, y_pred, self.save_results + self.matrix_path, self.classes)\n",
    "            if self.roc_path:\n",
    "                save_roc(y_true, y_proba, self.save_results + self.roc_path, len(self.classes))\n",
    "\n",
    "        return float(loss), len(self.valloader), {\"accuracy\": float(accuracy)}"
   ]
  },
  {
   "cell_type": "markdown",
   "metadata": {},
   "source": [
    "### Define the client_common function to set up the Flower client"
   ]
  },
  {
   "cell_type": "code",
   "execution_count": 6,
   "metadata": {},
   "outputs": [],
   "source": [
    "def client_common(cid, model_save, path_yaml, path_roc, results_save, path_matrix,\n",
    "                  batch_size, trainloaders, valloaders, DEVICE, CLASSES,\n",
    "                  he=False, secret_path=\"\", server_path=\"\"):\n",
    "    trainloader = trainloaders[int(cid)]\n",
    "    valloader = valloaders[int(cid)]\n",
    "\n",
    "    context_client = None\n",
    "    net = Net(num_classes=len(CLASSES)).to(DEVICE)\n",
    "\n",
    "    if he:\n",
    "        print(\"Run with homomorphic encryption\")\n",
    "        if os.path.exists(secret_path):\n",
    "            with open(secret_path, 'rb') as f:\n",
    "                query = pickle.load(f)\n",
    "            context_client = ts.context_from(query[\"contexte\"])\n",
    "        else:\n",
    "            context_client = security.context()\n",
    "            with open(secret_path, 'wb') as f:\n",
    "                encode = pickle.dumps({\"contexte\": context_client.serialize(save_secret_key=True)})\n",
    "                f.write(encode)\n",
    "        secret_key = context_client.secret_key()\n",
    "    else:\n",
    "        print(\"Run WITHOUT homomorphic encryption\")\n",
    "\n",
    "    if os.path.exists(model_save):\n",
    "        print(\" To get the checkpoint\")\n",
    "        checkpoint = torch.load(model_save, map_location=DEVICE)['model_state_dict']\n",
    "        if he:\n",
    "            print(\"to decrypt model\")\n",
    "            server_query, server_context = security.read_query(server_path)\n",
    "            server_context = ts.context_from(server_context)\n",
    "            for name in checkpoint:\n",
    "                print(name)\n",
    "                checkpoint[name] = torch.tensor(\n",
    "                    security.deserialized_layer(name, server_query[name], server_context).decrypt(secret_key)\n",
    "                )\n",
    "        net.load_state_dict(checkpoint)\n",
    "\n",
    "    return FlowerClient(cid, net, trainloader, valloader, device=DEVICE, batch_size=batch_size,\n",
    "                        matrix_path=path_matrix, roc_path=path_roc, save_results=results_save, yaml_path=path_yaml,\n",
    "                        he=he, context_client=context_client, classes=CLASSES)"
   ]
  },
  {
   "cell_type": "markdown",
   "metadata": {},
   "source": [
    "### Define utility functions for federated learning"
   ]
  },
  {
   "cell_type": "code",
   "execution_count": 7,
   "metadata": {},
   "outputs": [],
   "source": [
    "def weighted_average(metrics: List[Tuple[int, Metrics]]) -> Metrics:\n",
    "    accuracies = [num_examples * m[\"accuracy\"] for num_examples, m in metrics]\n",
    "    examples = [num_examples for num_examples, _ in metrics]\n",
    "    return {\"accuracy\": sum(accuracies) / sum(examples)}\n",
    "\n",
    "def evaluate2(server_round: int, parameters: NDArrays,\n",
    "              config: Dict[str, Scalar]) -> Optional[Tuple[float, Dict[str, Scalar]]]:\n",
    "    set_parameters(central, parameters)\n",
    "    loss, accuracy, y_pred, y_true, y_proba = engine.test(central, testloader, loss_fn=torch.nn.CrossEntropyLoss(),\n",
    "                                                          device=DEVICE)\n",
    "    print(f\"Server-side evaluation loss {loss} / accuracy {accuracy}\")\n",
    "    return loss, {\"accuracy\": accuracy}\n",
    "\n",
    "def get_on_fit_config_fn(epoch=2, lr=0.001, batch_size=32) -> Callable[[int], Dict[str, str]]:\n",
    "    def fit_config(server_round: int) -> Dict[str, str]:\n",
    "        config = {\n",
    "            \"learning_rate\": str(lr),\n",
    "            \"batch_size\": str(batch_size),\n",
    "            \"server_round\": server_round,\n",
    "            \"local_epochs\": epoch\n",
    "        }\n",
    "        return config\n",
    "    return fit_config\n",
    "\n",
    "def aggreg_fit_checkpoint(server_round, aggregated_parameters, central_model, path_checkpoint,\n",
    "                          context_client=None, server_path=\"\"):\n",
    "    if aggregated_parameters is not None:\n",
    "        print(f\"Saving round {server_round} aggregated_parameters...\")\n",
    "        aggregated_ndarrays: List[np.ndarray] = parameters_to_ndarrays_custom(aggregated_parameters, context_client)\n",
    "        if context_client:   \n",
    "            server_response = {\"contexte\": server_context.serialize()}\n",
    "            for i, key in enumerate(central_model.state_dict().keys()):\n",
    "                try:\n",
    "                    server_response[key] = aggregated_ndarrays[i].serialize()\n",
    "                except:\n",
    "                    server_response[key] = aggregated_ndarrays[i]\n",
    "            security.write_query(server_path, server_response)\n",
    "        else:\n",
    "            params_dict = zip(central_model.state_dict().keys(), aggregated_ndarrays)\n",
    "            state_dict = OrderedDict({k: torch.tensor(v) for k, v in params_dict})\n",
    "            central_model.load_state_dict(state_dict, strict=True)\n",
    "            if path_checkpoint:\n",
    "                torch.save({\n",
    "                    'model_state_dict': central_model.state_dict(),\n",
    "                }, path_checkpoint)"
   ]
  },
  {
   "cell_type": "markdown",
   "metadata": {},
   "source": [
    "### Define the FedCustom strategy class"
   ]
  },
  {
   "cell_type": "code",
   "execution_count": 8,
   "metadata": {},
   "outputs": [],
   "source": [
    "# A Strategy from scratch with the same sampling of the clients as it is in FedAvg\n",
    "# and then change the configuration dictionary\n",
    "class FedCustom(fl.server.strategy.Strategy):\n",
    "    def __init__(\n",
    "            self,\n",
    "            fraction_fit: float = 1.0,\n",
    "            fraction_evaluate: float = 1.0,\n",
    "            min_fit_clients: int = 2,\n",
    "            min_evaluate_clients: int = 2,\n",
    "            min_available_clients: int = 2,\n",
    "            evaluate_fn: Optional[\n",
    "                    Callable[[int, NDArrays, Dict[str, Scalar]], Optional[Tuple[float, Dict[str, Scalar]]]]\n",
    "                ] = None,\n",
    "            on_fit_config_fn: Optional[Callable[[int], Dict[str, Scalar]]] = None,\n",
    "            on_evaluate_config_fn: Optional[Callable[[int], Dict[str, Scalar]]] = None,\n",
    "            accept_failures: bool = True,\n",
    "            initial_parameters: Optional[Parameters] = None,\n",
    "            fit_metrics_aggregation_fn: Optional[MetricsAggregationFn] = None,\n",
    "            evaluate_metrics_aggregation_fn: Optional[MetricsAggregationFn] = None,\n",
    "            context_client=None\n",
    "    ) -> None:\n",
    "        super().__init__()\n",
    "        self.fraction_fit = fraction_fit\n",
    "        self.fraction_evaluate = fraction_evaluate\n",
    "        self.min_fit_clients = min_fit_clients\n",
    "        self.min_evaluate_clients = min_evaluate_clients\n",
    "        self.min_available_clients = min_available_clients\n",
    "        self.evaluate_fn = evaluate_fn\n",
    "        self.on_fit_config_fn = on_fit_config_fn\n",
    "        self.on_evaluate_config_fn = on_evaluate_config_fn,\n",
    "        self.accept_failures = accept_failures\n",
    "        self.initial_parameters = initial_parameters\n",
    "        self.fit_metrics_aggregation_fn = fit_metrics_aggregation_fn\n",
    "        self.evaluate_metrics_aggregation_fn = evaluate_metrics_aggregation_fn\n",
    "        self.context_client = context_client\n",
    "\n",
    "    def __repr__(self) -> str:\n",
    "        # Same function as FedAvg(Strategy)\n",
    "        return f\"FedCustom (accept_failures={self.accept_failures})\"\n",
    "\n",
    "    def initialize_parameters(\n",
    "        self, client_manager: ClientManager\n",
    "    ) -> Optional[Parameters]:\n",
    "        \"\"\"Initialize global model parameters.\"\"\"\n",
    "        # Same function as FedAvg(Strategy)\n",
    "        initial_parameters = self.initial_parameters\n",
    "        self.initial_parameters = None  # Don't keep initial parameters in memory\n",
    "        return initial_parameters\n",
    "\n",
    "    def num_fit_clients(self, num_available_clients: int) -> Tuple[int, int]:\n",
    "        \"\"\"Return sample size and required number of clients.\"\"\"\n",
    "        # Same function as FedAvg(Strategy)\n",
    "        num_clients = int(num_available_clients * self.fraction_fit)\n",
    "        return max(num_clients, self.min_fit_clients), self.min_available_clients\n",
    "\n",
    "    def configure_fit(\n",
    "        self, server_round: int, parameters: Parameters, client_manager: ClientManager\n",
    "    ) -> List[Tuple[ClientProxy, FitIns]]:\n",
    "        \"\"\"Configure the next round of training.\"\"\"\n",
    "        # Sample clients\n",
    "        sample_size, min_num_clients = self.num_fit_clients(\n",
    "            client_manager.num_available()\n",
    "        )\n",
    "\n",
    "        clients = client_manager.sample(\n",
    "            num_clients=sample_size, min_num_clients=min_num_clients\n",
    "        )\n",
    "        # Create custom configs\n",
    "        n_clients = len(clients)\n",
    "        half_clients = n_clients // 2\n",
    "        # Custom fit config function provided\n",
    "        standard_lr = lr\n",
    "        higher_lr = 0.003\n",
    "        config = {\"server_round\": server_round, \"local_epochs\": 1}\n",
    "        if self.on_fit_config_fn is not None:\n",
    "            # Custom fit config function provided\n",
    "            config = self.on_fit_config_fn(server_round)\n",
    "\n",
    "        # fit_ins = FitIns(parameters, config)\n",
    "        # Return client/config pairs\n",
    "        fit_configurations = []\n",
    "        for idx, client in enumerate(clients):\n",
    "            config[\"learning_rate\"] = standard_lr if idx < half_clients else higher_lr\n",
    "            \"\"\"\n",
    "            Each pair of (ClientProxy, FitRes) constitutes \n",
    "            a successful update from one of the previously selected clients.\n",
    "            \"\"\"\n",
    "            fit_configurations.append(\n",
    "                (\n",
    "                    client,\n",
    "                    FitIns(\n",
    "                        parameters,\n",
    "                        config\n",
    "                    )\n",
    "                )\n",
    "            )\n",
    "        # Successful updates from the previously selected and configured clients\n",
    "        return fit_configurations\n",
    "\n",
    "    def aggregate_fit(\n",
    "        self,\n",
    "        server_round: int,\n",
    "        results: List[Tuple[ClientProxy, FitRes]],\n",
    "        failures: List[Union[Tuple[ClientProxy, FitRes], BaseException]],\n",
    "    ) -> Tuple[Optional[Parameters], Dict[str, Scalar]]:\n",
    "        \"\"\"Aggregate fit results using weighted average. (each round)\"\"\"\n",
    "        # Same function as FedAvg(Strategy)\n",
    "        if not results:\n",
    "            return None, {}\n",
    "\n",
    "        # Do not aggregate if there are failures and failures are not accepted\n",
    "        if not self.accept_failures and failures:\n",
    "            return None, {}\n",
    "\n",
    "        # Convert results parameters --> array matrix\n",
    "        weights_results = [\n",
    "            (parameters_to_ndarrays_custom(fit_res.parameters, self.context_client), fit_res.num_examples)\n",
    "            for _, fit_res in results\n",
    "        ]\n",
    "\n",
    "        # Aggregate parameters using weighted average between the clients and convert back to parameters object (bytes)\n",
    "        parameters_aggregated = ndarrays_to_parameters_custom(aggregate_custom(weights_results))\n",
    "\n",
    "        metrics_aggregated = {}\n",
    "        # Aggregate custom metrics if aggregation fn was provided\n",
    "        if self.fit_metrics_aggregation_fn:\n",
    "            fit_metrics = [(res.num_examples, res.metrics) for _, res in results]\n",
    "            metrics_aggregated = self.fit_metrics_aggregation_fn(fit_metrics)\n",
    "\n",
    "        elif server_round == 1:  # Only log this warning once\n",
    "            logger.log(WARNING, \"No fit_metrics_aggregation_fn provided\")\n",
    "\n",
    "        # Same function as SaveModelStrategy(fl.server.strategy.FedAvg)\n",
    "        \"\"\"Aggregate model weights using weighted average and store checkpoint\"\"\"\n",
    "        aggreg_fit_checkpoint(server_round, parameters_aggregated, central, model_save,\n",
    "                              self.context_client, path_crypted)\n",
    "        return parameters_aggregated, metrics_aggregated\n",
    "\n",
    "    def num_evaluation_clients(self, num_available_clients: int) -> Tuple[int, int]:\n",
    "        \"\"\"Use a fraction of available clients for evaluation.\"\"\"\n",
    "        # Same function as FedAvg(Strategy)\n",
    "        num_clients = int(num_available_clients * self.fraction_evaluate)\n",
    "        return max(num_clients, self.min_evaluate_clients), self.min_available_clients\n",
    "\n",
    "    def configure_evaluate(\n",
    "        self, server_round: int, parameters: Parameters, client_manager: ClientManager\n",
    "    ) -> List[Tuple[ClientProxy, EvaluateIns]]:\n",
    "        \"\"\"Configure the next round of evaluation.\"\"\"\n",
    "        # Same function as FedAvg(Strategy)\n",
    "        # Do not configure federated evaluation if fraction eval is 0.\n",
    "        if self.fraction_evaluate == 0.0:\n",
    "            return []\n",
    "\n",
    "        # Parameters and config\n",
    "        config = {}  # {\"server_round\": server_round, \"local_epochs\": 1}\n",
    "\n",
    "        evaluate_ins = EvaluateIns(parameters, config)\n",
    "\n",
    "        # Sample clients\n",
    "        sample_size, min_num_clients = self.num_evaluation_clients(\n",
    "            client_manager.num_available()\n",
    "        )\n",
    "\n",
    "        clients = client_manager.sample(\n",
    "            num_clients=sample_size, min_num_clients=min_num_clients\n",
    "        )\n",
    "\n",
    "        # Return client/config pairs\n",
    "        # Each pair of (ClientProxy, FitRes) constitutes a successful update from one of the previously selected clients\n",
    "        return [(client, evaluate_ins) for client in clients]\n",
    "\n",
    "    def aggregate_evaluate(\n",
    "        self,\n",
    "        server_round: int,\n",
    "        results: List[Tuple[ClientProxy, EvaluateRes]],\n",
    "        failures: List[Union[Tuple[ClientProxy, EvaluateRes], BaseException]],\n",
    "    ) -> Tuple[Optional[float], Dict[str, Scalar]]:\n",
    "        \"\"\"Aggregate evaluation losses using weighted average.\"\"\"\n",
    "        # Same function as FedAvg(Strategy)\n",
    "        if not results:\n",
    "            return None, {}\n",
    "\n",
    "        # Do not aggregate if there are failures and failures are not accepted\n",
    "        if not self.accept_failures and failures:\n",
    "            return None, {}\n",
    "\n",
    "        # Aggregate loss\n",
    "        loss_aggregated = weighted_loss_avg(\n",
    "            [\n",
    "                (evaluate_res.num_examples, evaluate_res.loss)\n",
    "                for _, evaluate_res in results\n",
    "            ]\n",
    "        )\n",
    "\n",
    "        metrics_aggregated = {}\n",
    "        # Aggregate custom metrics if aggregation fn was provided\n",
    "        if self.evaluate_metrics_aggregation_fn:\n",
    "            eval_metrics = [(res.num_examples, res.metrics) for _, res in results]\n",
    "            metrics_aggregated = self.evaluate_metrics_aggregation_fn(eval_metrics)\n",
    "\n",
    "        # Only log this warning once\n",
    "        elif server_round == 1:\n",
    "            logger.log(WARNING, \"No evaluate_metrics_aggregation_fn provided\")\n",
    "\n",
    "        return loss_aggregated, metrics_aggregated\n",
    "\n",
    "    def evaluate(\n",
    "        self, server_round: int, parameters: Parameters\n",
    "    ) -> Optional[Tuple[float, Dict[str, Scalar]]]:\n",
    "        \"\"\"Evaluate global model parameters using an evaluation function.\"\"\"\n",
    "        # Same function as FedAvg(Strategy)\n",
    "        if self.evaluate_fn is None:\n",
    "            # Let's assume we won't perform the global model evaluation on the server side.\n",
    "            return None\n",
    "\n",
    "        # if we have a global model evaluation on the server side :\n",
    "        parameters_ndarrays = parameters_to_ndarrays_custom(parameters, self.context_client)\n",
    "        eval_res = self.evaluate_fn(server_round, parameters_ndarrays, {})\n",
    "\n",
    "        # if you haven't results\n",
    "        if eval_res is None:\n",
    "            return None\n",
    "\n",
    "        loss, metrics = eval_res\n",
    "        return loss, metrics"
   ]
  },
  {
   "cell_type": "markdown",
   "metadata": {},
   "source": [
    "### Set up the federated learning strategy"
   ]
  },
  {
   "cell_type": "code",
   "execution_count": 9,
   "metadata": {},
   "outputs": [],
   "source": [
    "# Set up your variables directly\n",
    "he = False\n",
    "data_path = 'data/'\n",
    "dataset = 'DNA'\n",
    "yaml_path = './results/FL/results.yml'\n",
    "seed = 0\n",
    "num_workers = 0\n",
    "max_epochs = 10\n",
    "batch_size = 16\n",
    "splitter = 10\n",
    "device = 'gpu'\n",
    "number_clients = 10\n",
    "save_results = 'results/FL/'\n",
    "matrix_path = 'confusion_matrix.png'\n",
    "roc_path = 'roc.png'\n",
    "model_save = 'DNA_fl.pt'\n",
    "min_fit_clients = 10\n",
    "min_avail_clients = 10\n",
    "min_eval_clients = 10\n",
    "rounds = 20\n",
    "frac_fit = 1.0\n",
    "frac_eval = 0.5\n",
    "lr = 1e-3"
   ]
  },
  {
   "cell_type": "code",
   "execution_count": 10,
   "metadata": {},
   "outputs": [],
   "source": [
    "server_context = None\n",
    "DEVICE = torch.device(choice_device(device))\n",
    "CLASSES = classes_string(dataset)\n",
    "central = Net(num_classes=len(CLASSES)).to(DEVICE)"
   ]
  },
  {
   "cell_type": "code",
   "execution_count": 11,
   "metadata": {},
   "outputs": [],
   "source": [
    "strategy = FedCustom(\n",
    "    fraction_fit=frac_fit,\n",
    "    fraction_evaluate=frac_eval,\n",
    "    min_fit_clients=min_fit_clients,\n",
    "    min_evaluate_clients=min_eval_clients if min_eval_clients else number_clients // 2,\n",
    "    min_available_clients=min_avail_clients,\n",
    "    evaluate_metrics_aggregation_fn=weighted_average,\n",
    "    initial_parameters=ndarrays_to_parameters_custom(get_parameters2(central)),\n",
    "    evaluate_fn=None if he else evaluate2,\n",
    "    on_fit_config_fn=get_on_fit_config_fn(epoch=max_epochs, batch_size=batch_size),\n",
    "    context_client=server_context\n",
    ")"
   ]
  },
  {
   "cell_type": "code",
   "execution_count": 12,
   "metadata": {},
   "outputs": [
    {
     "name": "stdout",
     "output_type": "stream",
     "text": [
      "DNA\n",
      "The training set is created for the classes: ('0', '1', '2', '3', '4', '5', '6')\n"
     ]
    }
   ],
   "source": [
    "trainloaders, valloaders, testloader = data_setup.load_datasets(num_clients=number_clients,\n",
    "                                                                batch_size=batch_size,\n",
    "                                                                resize=None,\n",
    "                                                                seed=seed,\n",
    "                                                                num_workers=num_workers,\n",
    "                                                                splitter=splitter,\n",
    "                                                                dataset=dataset,  # Use the specified dataset\n",
    "                                                                data_path=data_path,\n",
    "                                                                data_path_val=None)  # Use the same path for validation data\n",
    "\n",
    "def client_fn(cid: str) -> FlowerClient:\n",
    "    return client_common(cid,\n",
    "                         model_save, path_yaml, path_roc, results_save, path_matrix,\n",
    "                         batch_size, trainloaders, valloaders, DEVICE, CLASSES, he, secret_path, server_path)"
   ]
  },
  {
   "cell_type": "markdown",
   "metadata": {},
   "source": [
    "### Define the client_fn function and set up the simulation"
   ]
  },
  {
   "cell_type": "code",
   "execution_count": null,
   "metadata": {},
   "outputs": [
    {
     "name": "stderr",
     "output_type": "stream",
     "text": [
      "INFO flwr 2024-07-22 09:16:32,960 | app.py:145 | Starting Flower simulation, config: ServerConfig(num_rounds=20, round_timeout=None)\n"
     ]
    },
    {
     "name": "stdout",
     "output_type": "stream",
     "text": [
      "flwr 1.5.0\n",
      "numpy 1.26.4\n",
      "torch 2.1.2\n",
      "torchvision 0.16.2\n",
      "Training on cuda:0\n",
      "Start simulation\n"
     ]
    },
    {
     "name": "stderr",
     "output_type": "stream",
     "text": [
      "2024-07-22 09:16:36,239\tINFO worker.py:1724 -- Started a local Ray instance.\n",
      "INFO flwr 2024-07-22 09:16:37,592 | app.py:179 | Flower VCE: Ray initialized with resources: {'object_store_memory': 8790333849.0, 'memory': 17580667700.0, 'node:172.19.2.2': 1.0, 'node:__internal_head__': 1.0, 'CPU': 4.0, 'accelerator_type:T4': 1.0, 'GPU': 2.0}\n",
      "INFO flwr 2024-07-22 09:16:37,594 | server.py:89 | Initializing global parameters\n",
      "INFO flwr 2024-07-22 09:16:37,595 | server.py:272 | Using initial parameters provided by strategy\n",
      "INFO flwr 2024-07-22 09:16:37,596 | server.py:91 | Evaluating initial parameters\n"
     ]
    },
    {
     "name": "stdout",
     "output_type": "stream",
     "text": [
      "Updated model\n"
     ]
    },
    {
     "name": "stderr",
     "output_type": "stream",
     "text": [
      "INFO flwr 2024-07-22 09:16:40,470 | server.py:94 | initial parameters (loss, other metrics): 1.9702590292150324, {'accuracy': 5.454545454545454}\n",
      "INFO flwr 2024-07-22 09:16:40,472 | server.py:104 | FL starting\n",
      "DEBUG flwr 2024-07-22 09:16:40,473 | server.py:222 | fit_round 1: strategy sampled 10 clients (out of 10)\n"
     ]
    },
    {
     "name": "stdout",
     "output_type": "stream",
     "text": [
      "Server-side evaluation loss 1.9702590292150324 / accuracy 5.454545454545454\n",
      "\u001b[36m(launch_and_fit pid=406)\u001b[0m Run WITHOUT homomorphic encryption\n"
     ]
    },
    {
     "name": "stderr",
     "output_type": "stream",
     "text": [
      "  0%|\u001b[34m          \u001b[0m| 0/10 [00:00<?, ?it/s]\n"
     ]
    },
    {
     "name": "stdout",
     "output_type": "stream",
     "text": [
      "\u001b[36m(launch_and_fit pid=406)\u001b[0m [Client 2, round 1] fit, config: {'learning_rate': 0.003, 'batch_size': '16', 'server_round': 1, 'local_epochs': 10}\n",
      "\u001b[36m(launch_and_fit pid=406)\u001b[0m Updated model\n"
     ]
    },
    {
     "name": "stderr",
     "output_type": "stream",
     "text": [
      " 10%|\u001b[34m█         \u001b[0m| 1/10 [00:02<00:25,  2.80s/it]\n"
     ]
    },
    {
     "name": "stdout",
     "output_type": "stream",
     "text": [
      "\u001b[36m(launch_and_fit pid=406)\u001b[0m \tTrain Epoch: 1 \tTrain_loss: 1.9364 | Train_acc: 21.5057 % | Validation_loss: 1.9346 | Validation_acc: 25.6944 %\n"
     ]
    },
    {
     "name": "stderr",
     "output_type": "stream",
     "text": [
      "  0%|\u001b[34m          \u001b[0m| 0/10 [00:00<?, ?it/s]\n"
     ]
    },
    {
     "name": "stdout",
     "output_type": "stream",
     "text": [
      "\u001b[36m(launch_and_fit pid=407)\u001b[0m Run WITHOUT homomorphic encryption\n",
      "\u001b[36m(launch_and_fit pid=407)\u001b[0m [Client 5, round 1] fit, config: {'learning_rate': 0.003, 'batch_size': '16', 'server_round': 1, 'local_epochs': 10}\n",
      "\u001b[36m(launch_and_fit pid=407)\u001b[0m Updated model\n"
     ]
    },
    {
     "name": "stderr",
     "output_type": "stream",
     "text": [
      " 30%|\u001b[34m███       \u001b[0m| 3/10 [00:07<00:18,  2.61s/it]\u001b[32m [repeated 4x across cluster] (Ray deduplicates logs by default. Set RAY_DEDUP_LOGS=0 to disable log deduplication, or see https://docs.ray.io/en/master/ray-observability/ray-logging.html#log-deduplication for more options.)\u001b[0m\n"
     ]
    },
    {
     "name": "stdout",
     "output_type": "stream",
     "text": [
      "\u001b[36m(launch_and_fit pid=406)\u001b[0m \tTrain Epoch: 3 \tTrain_loss: 1.8966 | Train_acc: 31.0511 % | Validation_loss: 1.9215 | Validation_acc: 25.6944 %\u001b[32m [repeated 4x across cluster]\u001b[0m\n",
      "\u001b[36m(launch_and_fit pid=407)\u001b[0m \tTrain Epoch: 5 \tTrain_loss: 1.8731 | Train_acc: 29.1477 % | Validation_loss: 1.8964 | Validation_acc: 20.8333 %\u001b[32m [repeated 4x across cluster]\u001b[0m\n"
     ]
    },
    {
     "name": "stderr",
     "output_type": "stream",
     "text": [
      " 50%|\u001b[34m█████     \u001b[0m| 5/10 [00:13<00:13,  2.60s/it]\u001b[32m [repeated 4x across cluster]\u001b[0m\n",
      " 70%|\u001b[34m███████   \u001b[0m| 7/10 [00:18<00:07,  2.55s/it]\u001b[32m [repeated 4x across cluster]\u001b[0m\n"
     ]
    },
    {
     "name": "stdout",
     "output_type": "stream",
     "text": [
      "\u001b[36m(launch_and_fit pid=406)\u001b[0m \tTrain Epoch: 7 \tTrain_loss: 1.8615 | Train_acc: 32.1307 % | Validation_loss: 1.8881 | Validation_acc: 21.5278 %\u001b[32m [repeated 4x across cluster]\u001b[0m\n"
     ]
    },
    {
     "name": "stderr",
     "output_type": "stream",
     "text": [
      "100%|\u001b[34m██████████\u001b[0m| 10/10 [00:25<00:00,  2.60s/it]\u001b[32m [repeated 6x across cluster]\u001b[0m\n"
     ]
    },
    {
     "name": "stdout",
     "output_type": "stream",
     "text": [
      "\u001b[36m(launch_and_fit pid=406)\u001b[0m save graph in  results/FL/\n",
      "\u001b[36m(launch_and_fit pid=406)\u001b[0m \tTrain Epoch: 10 \tTrain_loss: 1.8419 | Train_acc: 34.4602 % | Validation_loss: 1.8738 | Validation_acc: 19.4444 %\u001b[32m [repeated 6x across cluster]\u001b[0m\n",
      "\u001b[36m(launch_and_fit pid=486)\u001b[0m Run WITHOUT homomorphic encryption\n",
      "\u001b[36m(launch_and_fit pid=407)\u001b[0m save graph in  results/FL/\n",
      "\u001b[36m(launch_and_fit pid=407)\u001b[0m \tTrain Epoch: 10 \tTrain_loss: 1.8531 | Train_acc: 29.0057 % | Validation_loss: 1.8818 | Validation_acc: 20.8333 %\n"
     ]
    },
    {
     "name": "stderr",
     "output_type": "stream",
     "text": [
      "  0%|\u001b[34m          \u001b[0m| 0/10 [00:00<?, ?it/s]\n",
      "100%|\u001b[34m██████████\u001b[0m| 10/10 [00:26<00:00,  2.61s/it]\n"
     ]
    },
    {
     "name": "stdout",
     "output_type": "stream",
     "text": [
      "\u001b[36m(launch_and_fit pid=486)\u001b[0m [Client 0, round 1] fit, config: {'learning_rate': 0.003, 'batch_size': '16', 'server_round': 1, 'local_epochs': 10}\n",
      "\u001b[36m(launch_and_fit pid=486)\u001b[0m Updated model\n"
     ]
    },
    {
     "name": "stderr",
     "output_type": "stream",
     "text": [
      " 10%|\u001b[34m█         \u001b[0m| 1/10 [00:02<00:26,  2.95s/it]\n"
     ]
    },
    {
     "name": "stdout",
     "output_type": "stream",
     "text": [
      "\u001b[36m(launch_and_fit pid=486)\u001b[0m \tTrain Epoch: 1 \tTrain_loss: 1.9250 | Train_acc: 21.9602 % | Validation_loss: 1.9193 | Validation_acc: 22.9167 %\n"
     ]
    },
    {
     "name": "stderr",
     "output_type": "stream",
     "text": [
      "  0%|\u001b[34m          \u001b[0m| 0/10 [00:00<?, ?it/s]\n"
     ]
    },
    {
     "name": "stdout",
     "output_type": "stream",
     "text": [
      "\u001b[36m(launch_and_fit pid=488)\u001b[0m Run WITHOUT homomorphic encryption\n",
      "\u001b[36m(launch_and_fit pid=488)\u001b[0m [Client 7, round 1] fit, config: {'learning_rate': 0.003, 'batch_size': '16', 'server_round': 1, 'local_epochs': 10}\n",
      "\u001b[36m(launch_and_fit pid=488)\u001b[0m Updated model\n"
     ]
    },
    {
     "name": "stderr",
     "output_type": "stream",
     "text": [
      " 40%|\u001b[34m████      \u001b[0m| 4/10 [00:10<00:15,  2.51s/it]\u001b[32m [repeated 6x across cluster]\u001b[0m\n"
     ]
    },
    {
     "name": "stdout",
     "output_type": "stream",
     "text": [
      "\u001b[36m(launch_and_fit pid=486)\u001b[0m \tTrain Epoch: 4 \tTrain_loss: 1.8675 | Train_acc: 30.7670 % | Validation_loss: 1.9098 | Validation_acc: 22.9167 %\u001b[32m [repeated 6x across cluster]\u001b[0m\n"
     ]
    },
    {
     "name": "stderr",
     "output_type": "stream",
     "text": [
      " 60%|\u001b[34m██████    \u001b[0m| 6/10 [00:15<00:10,  2.61s/it]\u001b[32m [repeated 4x across cluster]\u001b[0m\n"
     ]
    },
    {
     "name": "stdout",
     "output_type": "stream",
     "text": [
      "\u001b[36m(launch_and_fit pid=486)\u001b[0m \tTrain Epoch: 6 \tTrain_loss: 1.8504 | Train_acc: 31.9318 % | Validation_loss: 1.9132 | Validation_acc: 22.9167 %\u001b[32m [repeated 4x across cluster]\u001b[0m\n"
     ]
    },
    {
     "name": "stderr",
     "output_type": "stream",
     "text": [
      " 80%|\u001b[34m████████  \u001b[0m| 8/10 [00:21<00:05,  2.68s/it]\u001b[32m [repeated 4x across cluster]\u001b[0m\n"
     ]
    },
    {
     "name": "stdout",
     "output_type": "stream",
     "text": [
      "\u001b[36m(launch_and_fit pid=486)\u001b[0m \tTrain Epoch: 8 \tTrain_loss: 1.8415 | Train_acc: 32.4716 % | Validation_loss: 1.9143 | Validation_acc: 22.9167 %\u001b[32m [repeated 4x across cluster]\u001b[0m\n"
     ]
    },
    {
     "name": "stderr",
     "output_type": "stream",
     "text": [
      "100%|\u001b[34m██████████\u001b[0m| 10/10 [00:26<00:00,  2.63s/it]\u001b[32m [repeated 4x across cluster]\u001b[0m\n"
     ]
    },
    {
     "name": "stdout",
     "output_type": "stream",
     "text": [
      "\u001b[36m(launch_and_fit pid=486)\u001b[0m save graph in  results/FL/\n",
      "\u001b[36m(launch_and_fit pid=486)\u001b[0m \tTrain Epoch: 10 \tTrain_loss: 1.8384 | Train_acc: 32.3011 % | Validation_loss: 1.9152 | Validation_acc: 22.9167 %\u001b[32m [repeated 4x across cluster]\u001b[0m\n",
      "\u001b[36m(launch_and_fit pid=562)\u001b[0m Run WITHOUT homomorphic encryption\n",
      "\u001b[36m(launch_and_fit pid=488)\u001b[0m save graph in  results/FL/\n",
      "\u001b[36m(launch_and_fit pid=488)\u001b[0m \tTrain Epoch: 10 \tTrain_loss: 1.8628 | Train_acc: 26.8182 % | Validation_loss: 1.8054 | Validation_acc: 47.2222 %\n"
     ]
    },
    {
     "name": "stderr",
     "output_type": "stream",
     "text": [
      "  0%|\u001b[34m          \u001b[0m| 0/10 [00:00<?, ?it/s]\n",
      "100%|\u001b[34m██████████\u001b[0m| 10/10 [00:26<00:00,  2.63s/it]\n"
     ]
    },
    {
     "name": "stdout",
     "output_type": "stream",
     "text": [
      "\u001b[36m(launch_and_fit pid=562)\u001b[0m [Client 1, round 1] fit, config: {'learning_rate': 0.003, 'batch_size': '16', 'server_round': 1, 'local_epochs': 10}\n",
      "\u001b[36m(launch_and_fit pid=562)\u001b[0m Updated model\n"
     ]
    },
    {
     "name": "stderr",
     "output_type": "stream",
     "text": [
      " 10%|\u001b[34m█         \u001b[0m| 1/10 [00:02<00:25,  2.82s/it]\n"
     ]
    },
    {
     "name": "stdout",
     "output_type": "stream",
     "text": [
      "\u001b[36m(launch_and_fit pid=562)\u001b[0m \tTrain Epoch: 1 \tTrain_loss: 1.9465 | Train_acc: 18.2386 % | Validation_loss: 1.9316 | Validation_acc: 31.9444 %\n"
     ]
    },
    {
     "name": "stderr",
     "output_type": "stream",
     "text": [
      "  0%|\u001b[34m          \u001b[0m| 0/10 [00:00<?, ?it/s]\n"
     ]
    },
    {
     "name": "stdout",
     "output_type": "stream",
     "text": [
      "\u001b[36m(launch_and_fit pid=564)\u001b[0m Run WITHOUT homomorphic encryption\n",
      "\u001b[36m(launch_and_fit pid=564)\u001b[0m [Client 8, round 1] fit, config: {'learning_rate': 0.003, 'batch_size': '16', 'server_round': 1, 'local_epochs': 10}\n",
      "\u001b[36m(launch_and_fit pid=564)\u001b[0m Updated model\n",
      "\u001b[36m(launch_and_fit pid=564)\u001b[0m \tTrain Epoch: 3 \tTrain_loss: 1.8986 | Train_acc: 29.8011 % | Validation_loss: 1.9060 | Validation_acc: 20.8333 %\u001b[32m [repeated 5x across cluster]\u001b[0m\n"
     ]
    },
    {
     "name": "stderr",
     "output_type": "stream",
     "text": [
      " 30%|\u001b[34m███       \u001b[0m| 3/10 [00:08<00:18,  2.64s/it]\u001b[32m [repeated 5x across cluster]\u001b[0m\n",
      " 50%|\u001b[34m█████     \u001b[0m| 5/10 [00:13<00:13,  2.60s/it]\u001b[32m [repeated 3x across cluster]\u001b[0m\n"
     ]
    },
    {
     "name": "stdout",
     "output_type": "stream",
     "text": [
      "\u001b[36m(launch_and_fit pid=562)\u001b[0m \tTrain Epoch: 5 \tTrain_loss: 1.8851 | Train_acc: 27.6136 % | Validation_loss: 1.8830 | Validation_acc: 31.9444 %\u001b[32m [repeated 3x across cluster]\u001b[0m\n"
     ]
    },
    {
     "name": "stderr",
     "output_type": "stream",
     "text": [
      " 70%|\u001b[34m███████   \u001b[0m| 7/10 [00:18<00:07,  2.65s/it]\u001b[32m [repeated 4x across cluster]\u001b[0m\n"
     ]
    },
    {
     "name": "stdout",
     "output_type": "stream",
     "text": [
      "\u001b[36m(launch_and_fit pid=562)\u001b[0m \tTrain Epoch: 7 \tTrain_loss: 1.8713 | Train_acc: 28.8636 % | Validation_loss: 1.8889 | Validation_acc: 31.9444 %\u001b[32m [repeated 4x across cluster]\u001b[0m\n"
     ]
    },
    {
     "name": "stderr",
     "output_type": "stream",
     "text": [
      " 90%|\u001b[34m█████████ \u001b[0m| 9/10 [00:23<00:02,  2.60s/it]\u001b[32m [repeated 4x across cluster]\u001b[0m\n"
     ]
    },
    {
     "name": "stdout",
     "output_type": "stream",
     "text": [
      "\u001b[36m(launch_and_fit pid=562)\u001b[0m \tTrain Epoch: 9 \tTrain_loss: 1.8697 | Train_acc: 27.0170 % | Validation_loss: 1.8961 | Validation_acc: 34.0278 %\u001b[32m [repeated 4x across cluster]\u001b[0m\n",
      "\u001b[36m(launch_and_fit pid=562)\u001b[0m save graph in  results/FL/\n",
      "\u001b[36m(launch_and_fit pid=636)\u001b[0m Run WITHOUT homomorphic encryption\n",
      "\u001b[36m(launch_and_fit pid=564)\u001b[0m \tTrain Epoch: 10 \tTrain_loss: 1.8331 | Train_acc: 32.2727 % | Validation_loss: 1.8688 | Validation_acc: 20.8333 %\u001b[32m [repeated 3x across cluster]\u001b[0m\n",
      "\u001b[36m(launch_and_fit pid=564)\u001b[0m save graph in  results/FL/\n",
      "\u001b[36m(launch_and_fit pid=636)\u001b[0m [Client 6, round 1] fit, config: {'learning_rate': 0.003, 'batch_size': '16', 'server_round': 1, 'local_epochs': 10}\n",
      "\u001b[36m(launch_and_fit pid=636)\u001b[0m Updated model\n"
     ]
    },
    {
     "name": "stderr",
     "output_type": "stream",
     "text": [
      "  0%|\u001b[34m          \u001b[0m| 0/10 [00:00<?, ?it/s]\n",
      "100%|\u001b[34m██████████\u001b[0m| 10/10 [00:26<00:00,  2.65s/it]\u001b[32m [repeated 3x across cluster]\u001b[0m\n"
     ]
    },
    {
     "name": "stdout",
     "output_type": "stream",
     "text": [
      "\u001b[36m(launch_and_fit pid=638)\u001b[0m Run WITHOUT homomorphic encryption\n",
      "\u001b[36m(launch_and_fit pid=636)\u001b[0m \tTrain Epoch: 2 \tTrain_loss: 1.8703 | Train_acc: 36.9602 % | Validation_loss: 1.9007 | Validation_acc: 29.8611 %\u001b[32m [repeated 3x across cluster]\u001b[0m\n",
      "\u001b[36m(launch_and_fit pid=638)\u001b[0m [Client 9, round 1] fit, config: {'learning_rate': 0.003, 'batch_size': '16', 'server_round': 1, 'local_epochs': 10}\n",
      "\u001b[36m(launch_and_fit pid=638)\u001b[0m Updated model\n"
     ]
    },
    {
     "name": "stderr",
     "output_type": "stream",
     "text": [
      "  0%|\u001b[34m          \u001b[0m| 0/10 [00:00<?, ?it/s]\n",
      " 20%|\u001b[34m██        \u001b[0m| 2/10 [00:05<00:21,  2.70s/it]\u001b[32m [repeated 3x across cluster]\u001b[0m\n"
     ]
    },
    {
     "name": "stdout",
     "output_type": "stream",
     "text": [
      "\u001b[36m(launch_and_fit pid=636)\u001b[0m \tTrain Epoch: 4 \tTrain_loss: 1.8450 | Train_acc: 36.8182 % | Validation_loss: 1.8658 | Validation_acc: 29.8611 %\u001b[32m [repeated 4x across cluster]\u001b[0m\n"
     ]
    },
    {
     "name": "stderr",
     "output_type": "stream",
     "text": [
      " 40%|\u001b[34m████      \u001b[0m| 4/10 [00:10<00:16,  2.74s/it]\u001b[32m [repeated 4x across cluster]\u001b[0m\n"
     ]
    },
    {
     "name": "stdout",
     "output_type": "stream",
     "text": [
      "\u001b[36m(launch_and_fit pid=636)\u001b[0m \tTrain Epoch: 6 \tTrain_loss: 1.8283 | Train_acc: 36.8182 % | Validation_loss: 1.8571 | Validation_acc: 29.8611 %\u001b[32m [repeated 4x across cluster]\u001b[0m\n"
     ]
    },
    {
     "name": "stderr",
     "output_type": "stream",
     "text": [
      " 60%|\u001b[34m██████    \u001b[0m| 6/10 [00:15<00:10,  2.61s/it]\u001b[32m [repeated 4x across cluster]\u001b[0m\n"
     ]
    },
    {
     "name": "stdout",
     "output_type": "stream",
     "text": [
      "\u001b[36m(launch_and_fit pid=638)\u001b[0m \tTrain Epoch: 9 \tTrain_loss: 1.8455 | Train_acc: 32.2917 % | Validation_loss: 1.8096 | Validation_acc: 34.0278 %\u001b[32m [repeated 6x across cluster]\u001b[0m\n"
     ]
    },
    {
     "name": "stderr",
     "output_type": "stream",
     "text": [
      " 90%|\u001b[34m█████████ \u001b[0m| 9/10 [00:22<00:02,  2.48s/it]\u001b[32m [repeated 6x across cluster]\u001b[0m\n"
     ]
    },
    {
     "name": "stdout",
     "output_type": "stream",
     "text": [
      "\u001b[36m(launch_and_fit pid=638)\u001b[0m save graph in  results/FL/\n",
      "\u001b[36m(launch_and_fit pid=710)\u001b[0m Run WITHOUT homomorphic encryption\n",
      "\u001b[36m(launch_and_fit pid=636)\u001b[0m \tTrain Epoch: 10 \tTrain_loss: 1.8124 | Train_acc: 36.6761 % | Validation_loss: 1.8445 | Validation_acc: 29.8611 %\u001b[32m [repeated 3x across cluster]\u001b[0m\n",
      "\u001b[36m(launch_and_fit pid=636)\u001b[0m save graph in  results/FL/\n",
      "\u001b[36m(launch_and_fit pid=710)\u001b[0m [Client 3, round 1] fit, config: {'learning_rate': 0.003, 'batch_size': '16', 'server_round': 1, 'local_epochs': 10}\n",
      "\u001b[36m(launch_and_fit pid=710)\u001b[0m Updated model\n"
     ]
    },
    {
     "name": "stderr",
     "output_type": "stream",
     "text": [
      "  0%|\u001b[34m          \u001b[0m| 0/10 [00:00<?, ?it/s]\n",
      "100%|\u001b[34m██████████\u001b[0m| 10/10 [00:25<00:00,  2.59s/it]\u001b[32m [repeated 3x across cluster]\u001b[0m\n"
     ]
    },
    {
     "name": "stdout",
     "output_type": "stream",
     "text": [
      "\u001b[36m(launch_and_fit pid=712)\u001b[0m Run WITHOUT homomorphic encryption\n",
      "\u001b[36m(launch_and_fit pid=710)\u001b[0m \tTrain Epoch: 2 \tTrain_loss: 1.8839 | Train_acc: 29.9432 % | Validation_loss: 1.8770 | Validation_acc: 29.8611 %\u001b[32m [repeated 3x across cluster]\u001b[0m\n",
      "\u001b[36m(launch_and_fit pid=712)\u001b[0m [Client 4, round 1] fit, config: {'learning_rate': 0.003, 'batch_size': '16', 'server_round': 1, 'local_epochs': 10}\n",
      "\u001b[36m(launch_and_fit pid=712)\u001b[0m Updated model\n"
     ]
    },
    {
     "name": "stderr",
     "output_type": "stream",
     "text": [
      "  0%|\u001b[34m          \u001b[0m| 0/10 [00:00<?, ?it/s]\n",
      " 20%|\u001b[34m██        \u001b[0m| 2/10 [00:05<00:22,  2.85s/it]\u001b[32m [repeated 3x across cluster]\u001b[0m\n"
     ]
    },
    {
     "name": "stdout",
     "output_type": "stream",
     "text": [
      "\u001b[36m(launch_and_fit pid=710)\u001b[0m \tTrain Epoch: 4 \tTrain_loss: 1.8673 | Train_acc: 29.6591 % | Validation_loss: 1.8649 | Validation_acc: 29.8611 %\u001b[32m [repeated 4x across cluster]\u001b[0m\n"
     ]
    },
    {
     "name": "stderr",
     "output_type": "stream",
     "text": [
      " 40%|\u001b[34m████      \u001b[0m| 4/10 [00:10<00:15,  2.63s/it]\u001b[32m [repeated 4x across cluster]\u001b[0m\n"
     ]
    },
    {
     "name": "stdout",
     "output_type": "stream",
     "text": [
      "\u001b[36m(launch_and_fit pid=710)\u001b[0m \tTrain Epoch: 6 \tTrain_loss: 1.8588 | Train_acc: 29.8011 % | Validation_loss: 1.8587 | Validation_acc: 29.8611 %\u001b[32m [repeated 4x across cluster]\u001b[0m\n"
     ]
    },
    {
     "name": "stderr",
     "output_type": "stream",
     "text": [
      " 60%|\u001b[34m██████    \u001b[0m| 6/10 [00:15<00:10,  2.56s/it]\u001b[32m [repeated 4x across cluster]\u001b[0m\n",
      " 80%|\u001b[34m████████  \u001b[0m| 8/10 [00:20<00:05,  2.54s/it]\u001b[32m [repeated 4x across cluster]\u001b[0m\n"
     ]
    },
    {
     "name": "stdout",
     "output_type": "stream",
     "text": [
      "\u001b[36m(launch_and_fit pid=712)\u001b[0m \tTrain Epoch: 8 \tTrain_loss: 1.8506 | Train_acc: 30.0852 % | Validation_loss: 1.8165 | Validation_acc: 42.3611 %\u001b[32m [repeated 4x across cluster]\u001b[0m\n"
     ]
    },
    {
     "name": "stderr",
     "output_type": "stream",
     "text": [
      "100%|\u001b[34m██████████\u001b[0m| 10/10 [00:25<00:00,  2.57s/it]\u001b[32m [repeated 4x across cluster]\u001b[0m\n"
     ]
    },
    {
     "name": "stdout",
     "output_type": "stream",
     "text": [
      "\u001b[36m(launch_and_fit pid=712)\u001b[0m save graph in  results/FL/\n",
      "\u001b[36m(launch_and_fit pid=712)\u001b[0m \tTrain Epoch: 10 \tTrain_loss: 1.8465 | Train_acc: 29.9432 % | Validation_loss: 1.8044 | Validation_acc: 42.3611 %\u001b[32m [repeated 4x across cluster]\u001b[0m\n"
     ]
    },
    {
     "name": "stderr",
     "output_type": "stream",
     "text": [
      "DEBUG flwr 2024-07-22 09:19:45,229 | server.py:236 | fit_round 1 received 10 results and 0 failures\n",
      "WARNING flwr 2024-07-22 09:19:45,249 | 3890383987.py:131 | No fit_metrics_aggregation_fn provided\n"
     ]
    },
    {
     "name": "stdout",
     "output_type": "stream",
     "text": [
      "Saving round 1 aggregated_parameters...\n",
      "Updated model\n"
     ]
    },
    {
     "name": "stderr",
     "output_type": "stream",
     "text": [
      "INFO flwr 2024-07-22 09:19:47,632 | server.py:125 | fit progress: (1, 1.8955498803745616, {'accuracy': 31.363636363636367}, 187.15952886700006)\n",
      "DEBUG flwr 2024-07-22 09:19:47,634 | server.py:173 | evaluate_round 1: strategy sampled 10 clients (out of 10)\n"
     ]
    },
    {
     "name": "stdout",
     "output_type": "stream",
     "text": [
      "Server-side evaluation loss 1.8955498803745616 / accuracy 31.363636363636367\n",
      "\u001b[36m(launch_and_evaluate pid=793)\u001b[0m Run WITHOUT homomorphic encryption\n",
      "\u001b[36m(launch_and_evaluate pid=793)\u001b[0m  To get the checkpoint\n",
      "\u001b[36m(launch_and_fit pid=710)\u001b[0m save graph in  results/FL/\n",
      "\u001b[36m(launch_and_fit pid=710)\u001b[0m \tTrain Epoch: 10 \tTrain_loss: 1.8451 | Train_acc: 30.0852 % | Validation_loss: 1.8561 | Validation_acc: 29.8611 %\n",
      "\u001b[36m(launch_and_evaluate pid=793)\u001b[0m [Client 4] evaluate, config: {}\n",
      "\u001b[36m(launch_and_evaluate pid=793)\u001b[0m Updated model\n"
     ]
    },
    {
     "name": "stderr",
     "output_type": "stream",
     "text": [
      "\u001b[36m(launch_and_evaluate pid=793)\u001b[0m /opt/conda/lib/python3.10/site-packages/sklearn/metrics/_ranking.py:1029: UndefinedMetricWarning: No positive samples in y_true, true positive value should be meaningless\n",
      "\u001b[36m(launch_and_evaluate pid=793)\u001b[0m   warnings.warn(\n",
      "100%|\u001b[34m██████████\u001b[0m| 10/10 [00:26<00:00,  2.60s/it]\n"
     ]
    },
    {
     "name": "stdout",
     "output_type": "stream",
     "text": [
      "\u001b[36m(launch_and_evaluate pid=864)\u001b[0m Run WITHOUT homomorphic encryption\u001b[32m [repeated 2x across cluster]\u001b[0m\n",
      "\u001b[36m(launch_and_evaluate pid=864)\u001b[0m  To get the checkpoint\u001b[32m [repeated 2x across cluster]\u001b[0m\n",
      "\u001b[36m(launch_and_evaluate pid=794)\u001b[0m [Client 9] evaluate, config: {}\n",
      "\u001b[36m(launch_and_evaluate pid=794)\u001b[0m Updated model\n",
      "\u001b[36m(launch_and_evaluate pid=864)\u001b[0m [Client 0] evaluate, config: {}\n",
      "\u001b[36m(launch_and_evaluate pid=864)\u001b[0m Updated model\n"
     ]
    },
    {
     "name": "stderr",
     "output_type": "stream",
     "text": [
      "\u001b[36m(launch_and_evaluate pid=866)\u001b[0m /opt/conda/lib/python3.10/site-packages/sklearn/metrics/_ranking.py:1029: UndefinedMetricWarning: No positive samples in y_true, true positive value should be meaningless\u001b[32m [repeated 2x across cluster]\u001b[0m\n",
      "\u001b[36m(launch_and_evaluate pid=866)\u001b[0m   warnings.warn(\u001b[32m [repeated 2x across cluster]\u001b[0m\n"
     ]
    },
    {
     "name": "stdout",
     "output_type": "stream",
     "text": [
      "\u001b[36m(launch_and_evaluate pid=934)\u001b[0m Run WITHOUT homomorphic encryption\u001b[32m [repeated 2x across cluster]\u001b[0m\n",
      "\u001b[36m(launch_and_evaluate pid=934)\u001b[0m  To get the checkpoint\u001b[32m [repeated 2x across cluster]\u001b[0m\n",
      "\u001b[36m(launch_and_evaluate pid=866)\u001b[0m [Client 8] evaluate, config: {}\n",
      "\u001b[36m(launch_and_evaluate pid=866)\u001b[0m Updated model\n",
      "\u001b[36m(launch_and_evaluate pid=934)\u001b[0m [Client 1] evaluate, config: {}\n",
      "\u001b[36m(launch_and_evaluate pid=934)\u001b[0m Updated model\n",
      "\u001b[36m(launch_and_evaluate pid=1004)\u001b[0m Run WITHOUT homomorphic encryption\u001b[32m [repeated 2x across cluster]\u001b[0m\n",
      "\u001b[36m(launch_and_evaluate pid=1004)\u001b[0m  To get the checkpoint\u001b[32m [repeated 2x across cluster]\u001b[0m\n",
      "\u001b[36m(launch_and_evaluate pid=936)\u001b[0m [Client 3] evaluate, config: {}\n",
      "\u001b[36m(launch_and_evaluate pid=936)\u001b[0m Updated model\n",
      "\u001b[36m(launch_and_evaluate pid=1004)\u001b[0m [Client 6] evaluate, config: {}\n",
      "\u001b[36m(launch_and_evaluate pid=1004)\u001b[0m Updated model\n",
      "\u001b[36m(launch_and_evaluate pid=1075)\u001b[0m Run WITHOUT homomorphic encryption\u001b[32m [repeated 2x across cluster]\u001b[0m\n",
      "\u001b[36m(launch_and_evaluate pid=1075)\u001b[0m  To get the checkpoint\u001b[32m [repeated 2x across cluster]\u001b[0m\n",
      "\u001b[36m(launch_and_evaluate pid=1006)\u001b[0m [Client 7] evaluate, config: {}\n",
      "\u001b[36m(launch_and_evaluate pid=1006)\u001b[0m Updated model\n",
      "\u001b[36m(launch_and_evaluate pid=1075)\u001b[0m [Client 5] evaluate, config: {}\n",
      "\u001b[36m(launch_and_evaluate pid=1075)\u001b[0m Updated model\n"
     ]
    },
    {
     "name": "stderr",
     "output_type": "stream",
     "text": [
      "DEBUG flwr 2024-07-22 09:20:46,073 | server.py:187 | evaluate_round 1 received 10 results and 0 failures\n",
      "DEBUG flwr 2024-07-22 09:20:46,074 | server.py:222 | fit_round 2: strategy sampled 10 clients (out of 10)\n"
     ]
    },
    {
     "name": "stdout",
     "output_type": "stream",
     "text": [
      "\u001b[36m(launch_and_fit pid=1154)\u001b[0m Run WITHOUT homomorphic encryption\u001b[32m [repeated 2x across cluster]\u001b[0m\n",
      "\u001b[36m(launch_and_fit pid=1154)\u001b[0m  To get the checkpoint\u001b[32m [repeated 2x across cluster]\u001b[0m\n",
      "\u001b[36m(launch_and_evaluate pid=1100)\u001b[0m [Client 2] evaluate, config: {}\n",
      "\u001b[36m(launch_and_evaluate pid=1100)\u001b[0m Updated model\n",
      "\u001b[36m(launch_and_fit pid=1154)\u001b[0m [Client 2, round 2] fit, config: {'learning_rate': 0.003, 'batch_size': '16', 'server_round': 2, 'local_epochs': 10}\n",
      "\u001b[36m(launch_and_fit pid=1154)\u001b[0m Updated model\n"
     ]
    },
    {
     "name": "stderr",
     "output_type": "stream",
     "text": [
      "  0%|\u001b[34m          \u001b[0m| 0/10 [00:00<?, ?it/s]\n",
      " 10%|\u001b[34m█         \u001b[0m| 1/10 [00:03<00:27,  3.09s/it]\n"
     ]
    },
    {
     "name": "stdout",
     "output_type": "stream",
     "text": [
      "\u001b[36m(launch_and_fit pid=1155)\u001b[0m \tTrain Epoch: 1 \tTrain_loss: 1.8658 | Train_acc: 29.9432 % | Validation_loss: 1.8714 | Validation_acc: 29.8611 %\n"
     ]
    },
    {
     "name": "stderr",
     "output_type": "stream",
     "text": [
      "  0%|\u001b[34m          \u001b[0m| 0/10 [00:00<?, ?it/s]\n"
     ]
    },
    {
     "name": "stdout",
     "output_type": "stream",
     "text": [
      "\u001b[36m(launch_and_fit pid=1155)\u001b[0m Run WITHOUT homomorphic encryption\n",
      "\u001b[36m(launch_and_fit pid=1155)\u001b[0m  To get the checkpoint\n",
      "\u001b[36m(launch_and_fit pid=1155)\u001b[0m [Client 3, round 2] fit, config: {'learning_rate': 0.003, 'batch_size': '16', 'server_round': 2, 'local_epochs': 10}\n",
      "\u001b[36m(launch_and_fit pid=1155)\u001b[0m Updated model\n",
      "\u001b[36m(launch_and_fit pid=1154)\u001b[0m \tTrain Epoch: 3 \tTrain_loss: 1.8485 | Train_acc: 30.7670 % | Validation_loss: 1.8512 | Validation_acc: 25.6944 %\u001b[32m [repeated 4x across cluster]\u001b[0m\n"
     ]
    },
    {
     "name": "stderr",
     "output_type": "stream",
     "text": [
      " 30%|\u001b[34m███       \u001b[0m| 3/10 [00:08<00:18,  2.69s/it]\u001b[32m [repeated 4x across cluster]\u001b[0m\n"
     ]
    },
    {
     "name": "stdout",
     "output_type": "stream",
     "text": [
      "\u001b[36m(launch_and_fit pid=1154)\u001b[0m \tTrain Epoch: 5 \tTrain_loss: 1.8394 | Train_acc: 31.5057 % | Validation_loss: 1.8407 | Validation_acc: 21.5278 %\u001b[32m [repeated 4x across cluster]\u001b[0m\n"
     ]
    },
    {
     "name": "stderr",
     "output_type": "stream",
     "text": [
      " 50%|\u001b[34m█████     \u001b[0m| 5/10 [00:13<00:13,  2.63s/it]\u001b[32m [repeated 4x across cluster]\u001b[0m\n"
     ]
    },
    {
     "name": "stdout",
     "output_type": "stream",
     "text": [
      "\u001b[36m(launch_and_fit pid=1154)\u001b[0m \tTrain Epoch: 8 \tTrain_loss: 1.8236 | Train_acc: 32.3011 % | Validation_loss: 1.8602 | Validation_acc: 21.5278 %\u001b[32m [repeated 6x across cluster]\u001b[0m\n"
     ]
    },
    {
     "name": "stderr",
     "output_type": "stream",
     "text": [
      " 80%|\u001b[34m████████  \u001b[0m| 8/10 [00:20<00:04,  2.49s/it]\u001b[32m [repeated 6x across cluster]\u001b[0m\n"
     ]
    },
    {
     "name": "stdout",
     "output_type": "stream",
     "text": [
      "\u001b[36m(launch_and_fit pid=1154)\u001b[0m save graph in  results/FL/\n",
      "\u001b[36m(launch_and_fit pid=1155)\u001b[0m \tTrain Epoch: 10 \tTrain_loss: 1.8299 | Train_acc: 31.3920 % | Validation_loss: 1.8306 | Validation_acc: 38.1944 %\u001b[32m [repeated 5x across cluster]\u001b[0m\n"
     ]
    },
    {
     "name": "stderr",
     "output_type": "stream",
     "text": [
      "100%|\u001b[34m██████████\u001b[0m| 10/10 [00:25<00:00,  2.59s/it]\u001b[32m [repeated 5x across cluster]\u001b[0m\n"
     ]
    },
    {
     "name": "stdout",
     "output_type": "stream",
     "text": [
      "\u001b[36m(launch_and_fit pid=1228)\u001b[0m Run WITHOUT homomorphic encryption\n",
      "\u001b[36m(launch_and_fit pid=1228)\u001b[0m  To get the checkpoint\n",
      "\u001b[36m(launch_and_fit pid=1155)\u001b[0m save graph in  results/FL/\n",
      "\u001b[36m(launch_and_fit pid=1228)\u001b[0m [Client 7, round 2] fit, config: {'learning_rate': 0.003, 'batch_size': '16', 'server_round': 2, 'local_epochs': 10}\n",
      "\u001b[36m(launch_and_fit pid=1228)\u001b[0m Updated model\n"
     ]
    },
    {
     "name": "stderr",
     "output_type": "stream",
     "text": [
      "  0%|\u001b[34m          \u001b[0m| 0/10 [00:00<?, ?it/s]\n"
     ]
    },
    {
     "name": "stdout",
     "output_type": "stream",
     "text": [
      "\u001b[36m(launch_and_fit pid=1228)\u001b[0m \tTrain Epoch: 1 \tTrain_loss: 1.8913 | Train_acc: 26.5057 % | Validation_loss: 1.8062 | Validation_acc: 45.1389 %\n"
     ]
    },
    {
     "name": "stderr",
     "output_type": "stream",
     "text": [
      " 10%|\u001b[34m█         \u001b[0m| 1/10 [00:02<00:24,  2.70s/it]\n"
     ]
    },
    {
     "name": "stdout",
     "output_type": "stream",
     "text": [
      "\u001b[36m(launch_and_fit pid=1230)\u001b[0m Run WITHOUT homomorphic encryption\n",
      "\u001b[36m(launch_and_fit pid=1230)\u001b[0m  To get the checkpoint\n",
      "\u001b[36m(launch_and_fit pid=1230)\u001b[0m [Client 5, round 2] fit, config: {'learning_rate': 0.003, 'batch_size': '16', 'server_round': 2, 'local_epochs': 10}\n",
      "\u001b[36m(launch_and_fit pid=1230)\u001b[0m Updated model\n"
     ]
    },
    {
     "name": "stderr",
     "output_type": "stream",
     "text": [
      "  0%|\u001b[34m          \u001b[0m| 0/10 [00:00<?, ?it/s]\n",
      " 30%|\u001b[34m███       \u001b[0m| 3/10 [00:07<00:18,  2.58s/it]\u001b[32m [repeated 5x across cluster]\u001b[0m\n"
     ]
    },
    {
     "name": "stdout",
     "output_type": "stream",
     "text": [
      "\u001b[36m(launch_and_fit pid=1230)\u001b[0m \tTrain Epoch: 3 \tTrain_loss: 1.8579 | Train_acc: 28.5795 % | Validation_loss: 1.8712 | Validation_acc: 20.8333 %\u001b[32m [repeated 5x across cluster]\u001b[0m\n"
     ]
    },
    {
     "name": "stderr",
     "output_type": "stream",
     "text": [
      " 50%|\u001b[34m█████     \u001b[0m| 5/10 [00:12<00:12,  2.56s/it]\u001b[32m [repeated 4x across cluster]\u001b[0m\n"
     ]
    },
    {
     "name": "stdout",
     "output_type": "stream",
     "text": [
      "\u001b[36m(launch_and_fit pid=1230)\u001b[0m \tTrain Epoch: 5 \tTrain_loss: 1.8519 | Train_acc: 28.7216 % | Validation_loss: 1.8622 | Validation_acc: 20.8333 %\u001b[32m [repeated 4x across cluster]\u001b[0m\n",
      "\u001b[36m(launch_and_fit pid=1228)\u001b[0m \tTrain Epoch: 8 \tTrain_loss: 1.8573 | Train_acc: 26.6477 % | Validation_loss: 1.7802 | Validation_acc: 45.1389 %\u001b[32m [repeated 5x across cluster]\u001b[0m\n"
     ]
    },
    {
     "name": "stderr",
     "output_type": "stream",
     "text": [
      " 80%|\u001b[34m████████  \u001b[0m| 8/10 [00:19<00:04,  2.45s/it]\u001b[32m [repeated 5x across cluster]\u001b[0m\n"
     ]
    },
    {
     "name": "stdout",
     "output_type": "stream",
     "text": [
      "\u001b[36m(launch_and_fit pid=1228)\u001b[0m save graph in  results/FL/\n"
     ]
    },
    {
     "name": "stderr",
     "output_type": "stream",
     "text": [
      "100%|\u001b[34m██████████\u001b[0m| 10/10 [00:25<00:00,  2.54s/it]\u001b[32m [repeated 5x across cluster]\u001b[0m\n"
     ]
    },
    {
     "name": "stdout",
     "output_type": "stream",
     "text": [
      "\u001b[36m(launch_and_fit pid=1230)\u001b[0m \tTrain Epoch: 10 \tTrain_loss: 1.8386 | Train_acc: 28.5795 % | Validation_loss: 1.8448 | Validation_acc: 20.8333 %\u001b[32m [repeated 5x across cluster]\u001b[0m\n",
      "\u001b[36m(launch_and_fit pid=1302)\u001b[0m Run WITHOUT homomorphic encryption\n",
      "\u001b[36m(launch_and_fit pid=1302)\u001b[0m  To get the checkpoint\n",
      "\u001b[36m(launch_and_fit pid=1230)\u001b[0m save graph in  results/FL/\n"
     ]
    },
    {
     "name": "stderr",
     "output_type": "stream",
     "text": [
      "  0%|\u001b[34m          \u001b[0m| 0/10 [00:00<?, ?it/s]\n"
     ]
    },
    {
     "name": "stdout",
     "output_type": "stream",
     "text": [
      "\u001b[36m(launch_and_fit pid=1302)\u001b[0m [Client 9, round 2] fit, config: {'learning_rate': 0.003, 'batch_size': '16', 'server_round': 2, 'local_epochs': 10}\n",
      "\u001b[36m(launch_and_fit pid=1302)\u001b[0m Updated model\n"
     ]
    },
    {
     "name": "stderr",
     "output_type": "stream",
     "text": [
      " 10%|\u001b[34m█         \u001b[0m| 1/10 [00:02<00:24,  2.75s/it]\n"
     ]
    },
    {
     "name": "stdout",
     "output_type": "stream",
     "text": [
      "\u001b[36m(launch_and_fit pid=1302)\u001b[0m \tTrain Epoch: 1 \tTrain_loss: 1.8607 | Train_acc: 32.2917 % | Validation_loss: 1.8183 | Validation_acc: 34.0278 %\n"
     ]
    },
    {
     "name": "stderr",
     "output_type": "stream",
     "text": [
      "  0%|\u001b[34m          \u001b[0m| 0/10 [00:00<?, ?it/s]\n"
     ]
    },
    {
     "name": "stdout",
     "output_type": "stream",
     "text": [
      "\u001b[36m(launch_and_fit pid=1327)\u001b[0m Run WITHOUT homomorphic encryption\n",
      "\u001b[36m(launch_and_fit pid=1327)\u001b[0m  To get the checkpoint\n",
      "\u001b[36m(launch_and_fit pid=1327)\u001b[0m [Client 1, round 2] fit, config: {'learning_rate': 0.003, 'batch_size': '16', 'server_round': 2, 'local_epochs': 10}\n",
      "\u001b[36m(launch_and_fit pid=1327)\u001b[0m Updated model\n",
      "\u001b[36m(launch_and_fit pid=1327)\u001b[0m \tTrain Epoch: 3 \tTrain_loss: 1.8679 | Train_acc: 27.7841 % | Validation_loss: 1.8618 | Validation_acc: 31.9444 %\u001b[32m [repeated 5x across cluster]\u001b[0m\n"
     ]
    },
    {
     "name": "stderr",
     "output_type": "stream",
     "text": [
      " 30%|\u001b[34m███       \u001b[0m| 3/10 [00:07<00:17,  2.55s/it]\u001b[32m [repeated 5x across cluster]\u001b[0m\n"
     ]
    },
    {
     "name": "stdout",
     "output_type": "stream",
     "text": [
      "\u001b[36m(launch_and_fit pid=1327)\u001b[0m \tTrain Epoch: 5 \tTrain_loss: 1.8660 | Train_acc: 29.2045 % | Validation_loss: 1.9262 | Validation_acc: 16.6667 %\u001b[32m [repeated 4x across cluster]\u001b[0m\n"
     ]
    },
    {
     "name": "stderr",
     "output_type": "stream",
     "text": [
      " 50%|\u001b[34m█████     \u001b[0m| 5/10 [00:13<00:13,  2.63s/it]\u001b[32m [repeated 4x across cluster]\u001b[0m\n",
      " 80%|\u001b[34m████████  \u001b[0m| 8/10 [00:20<00:04,  2.49s/it]\u001b[32m [repeated 5x across cluster]\u001b[0m\n"
     ]
    },
    {
     "name": "stdout",
     "output_type": "stream",
     "text": [
      "\u001b[36m(launch_and_fit pid=1302)\u001b[0m \tTrain Epoch: 8 \tTrain_loss: 1.8268 | Train_acc: 32.2500 % | Validation_loss: 1.7990 | Validation_acc: 34.0278 %\u001b[32m [repeated 5x across cluster]\u001b[0m\n"
     ]
    },
    {
     "name": "stderr",
     "output_type": "stream",
     "text": [
      "100%|\u001b[34m██████████\u001b[0m| 10/10 [00:25<00:00,  2.55s/it]\u001b[32m [repeated 4x across cluster]\u001b[0m\n"
     ]
    },
    {
     "name": "stdout",
     "output_type": "stream",
     "text": [
      "\u001b[36m(launch_and_fit pid=1302)\u001b[0m save graph in  results/FL/\n",
      "\u001b[36m(launch_and_fit pid=1302)\u001b[0m \tTrain Epoch: 10 \tTrain_loss: 1.8141 | Train_acc: 32.2917 % | Validation_loss: 1.7897 | Validation_acc: 34.0278 %\u001b[32m [repeated 4x across cluster]\u001b[0m\n",
      "\u001b[36m(launch_and_fit pid=1376)\u001b[0m Run WITHOUT homomorphic encryption\n",
      "\u001b[36m(launch_and_fit pid=1376)\u001b[0m  To get the checkpoint\n",
      "\u001b[36m(launch_and_fit pid=1327)\u001b[0m save graph in  results/FL/\n",
      "\u001b[36m(launch_and_fit pid=1327)\u001b[0m \tTrain Epoch: 10 \tTrain_loss: 1.8227 | Train_acc: 35.0852 % | Validation_loss: 1.9281 | Validation_acc: 18.7500 %\n",
      "\u001b[36m(launch_and_fit pid=1376)\u001b[0m [Client 8, round 2] fit, config: {'learning_rate': 0.003, 'batch_size': '16', 'server_round': 2, 'local_epochs': 10}\n",
      "\u001b[36m(launch_and_fit pid=1376)\u001b[0m Updated model\n"
     ]
    },
    {
     "name": "stderr",
     "output_type": "stream",
     "text": [
      "  0%|\u001b[34m          \u001b[0m| 0/10 [00:00<?, ?it/s]\n",
      "100%|\u001b[34m██████████\u001b[0m| 10/10 [00:25<00:00,  2.59s/it]\n"
     ]
    },
    {
     "name": "stdout",
     "output_type": "stream",
     "text": [
      "\u001b[36m(launch_and_fit pid=1376)\u001b[0m \tTrain Epoch: 1 \tTrain_loss: 1.8822 | Train_acc: 29.9432 % | Validation_loss: 1.8731 | Validation_acc: 20.8333 %\n"
     ]
    },
    {
     "name": "stderr",
     "output_type": "stream",
     "text": [
      " 10%|\u001b[34m█         \u001b[0m| 1/10 [00:03<00:27,  3.00s/it]\n"
     ]
    },
    {
     "name": "stdout",
     "output_type": "stream",
     "text": [
      "\u001b[36m(launch_and_fit pid=1401)\u001b[0m Run WITHOUT homomorphic encryption\n",
      "\u001b[36m(launch_and_fit pid=1401)\u001b[0m  To get the checkpoint\n",
      "\u001b[36m(launch_and_fit pid=1401)\u001b[0m [Client 6, round 2] fit, config: {'learning_rate': 0.003, 'batch_size': '16', 'server_round': 2, 'local_epochs': 10}\n",
      "\u001b[36m(launch_and_fit pid=1401)\u001b[0m Updated model\n"
     ]
    },
    {
     "name": "stderr",
     "output_type": "stream",
     "text": [
      "  0%|\u001b[34m          \u001b[0m| 0/10 [00:00<?, ?it/s]\n"
     ]
    },
    {
     "name": "stdout",
     "output_type": "stream",
     "text": [
      "\u001b[36m(launch_and_fit pid=1401)\u001b[0m \tTrain Epoch: 3 \tTrain_loss: 1.8222 | Train_acc: 37.1023 % | Validation_loss: 1.8522 | Validation_acc: 29.8611 %\u001b[32m [repeated 5x across cluster]\u001b[0m\n"
     ]
    },
    {
     "name": "stderr",
     "output_type": "stream",
     "text": [
      " 30%|\u001b[34m███       \u001b[0m| 3/10 [00:07<00:18,  2.57s/it]\u001b[32m [repeated 5x across cluster]\u001b[0m\n"
     ]
    },
    {
     "name": "stdout",
     "output_type": "stream",
     "text": [
      "\u001b[36m(launch_and_fit pid=1401)\u001b[0m \tTrain Epoch: 5 \tTrain_loss: 1.8167 | Train_acc: 36.9602 % | Validation_loss: 1.8545 | Validation_acc: 29.8611 %\u001b[32m [repeated 4x across cluster]\u001b[0m\n"
     ]
    },
    {
     "name": "stderr",
     "output_type": "stream",
     "text": [
      " 50%|\u001b[34m█████     \u001b[0m| 5/10 [00:13<00:12,  2.60s/it]\u001b[32m [repeated 4x across cluster]\u001b[0m\n"
     ]
    },
    {
     "name": "stdout",
     "output_type": "stream",
     "text": [
      "\u001b[36m(launch_and_fit pid=1401)\u001b[0m \tTrain Epoch: 7 \tTrain_loss: 1.8135 | Train_acc: 36.6761 % | Validation_loss: 1.8547 | Validation_acc: 29.8611 %\u001b[32m [repeated 4x across cluster]\u001b[0m\n"
     ]
    },
    {
     "name": "stderr",
     "output_type": "stream",
     "text": [
      " 70%|\u001b[34m███████   \u001b[0m| 7/10 [00:18<00:07,  2.66s/it]\u001b[32m [repeated 4x across cluster]\u001b[0m\n"
     ]
    },
    {
     "name": "stdout",
     "output_type": "stream",
     "text": [
      "\u001b[36m(launch_and_fit pid=1401)\u001b[0m \tTrain Epoch: 9 \tTrain_loss: 1.8092 | Train_acc: 36.6761 % | Validation_loss: 1.8431 | Validation_acc: 29.8611 %\u001b[32m [repeated 4x across cluster]\u001b[0m\n"
     ]
    },
    {
     "name": "stderr",
     "output_type": "stream",
     "text": [
      " 90%|\u001b[34m█████████ \u001b[0m| 9/10 [00:23<00:02,  2.59s/it]\u001b[32m [repeated 4x across cluster]\u001b[0m\n"
     ]
    },
    {
     "name": "stdout",
     "output_type": "stream",
     "text": [
      "\u001b[36m(launch_and_fit pid=1376)\u001b[0m save graph in  results/FL/\n",
      "\u001b[36m(launch_and_fit pid=1450)\u001b[0m Run WITHOUT homomorphic encryption\n",
      "\u001b[36m(launch_and_fit pid=1450)\u001b[0m  To get the checkpoint\n",
      "\u001b[36m(launch_and_fit pid=1401)\u001b[0m \tTrain Epoch: 10 \tTrain_loss: 1.8053 | Train_acc: 36.8182 % | Validation_loss: 1.8416 | Validation_acc: 29.8611 %\u001b[32m [repeated 2x across cluster]\u001b[0m\n",
      "\u001b[36m(launch_and_fit pid=1401)\u001b[0m save graph in  results/FL/\n",
      "\u001b[36m(launch_and_fit pid=1450)\u001b[0m [Client 4, round 2] fit, config: {'learning_rate': 0.003, 'batch_size': '16', 'server_round': 2, 'local_epochs': 10}\n",
      "\u001b[36m(launch_and_fit pid=1450)\u001b[0m Updated model\n"
     ]
    },
    {
     "name": "stderr",
     "output_type": "stream",
     "text": [
      "  0%|\u001b[34m          \u001b[0m| 0/10 [00:00<?, ?it/s]\n",
      "100%|\u001b[34m██████████\u001b[0m| 10/10 [00:26<00:00,  2.61s/it]\u001b[32m [repeated 2x across cluster]\u001b[0m\n"
     ]
    },
    {
     "name": "stdout",
     "output_type": "stream",
     "text": [
      "\u001b[36m(launch_and_fit pid=1475)\u001b[0m Run WITHOUT homomorphic encryption\n",
      "\u001b[36m(launch_and_fit pid=1475)\u001b[0m  To get the checkpoint\n",
      "\u001b[36m(launch_and_fit pid=1450)\u001b[0m \tTrain Epoch: 2 \tTrain_loss: 1.8569 | Train_acc: 29.9432 % | Validation_loss: 1.8137 | Validation_acc: 42.3611 %\u001b[32m [repeated 3x across cluster]\u001b[0m\n",
      "\u001b[36m(launch_and_fit pid=1475)\u001b[0m [Client 0, round 2] fit, config: {'learning_rate': 0.003, 'batch_size': '16', 'server_round': 2, 'local_epochs': 10}\n",
      "\u001b[36m(launch_and_fit pid=1475)\u001b[0m Updated model\n"
     ]
    },
    {
     "name": "stderr",
     "output_type": "stream",
     "text": [
      "  0%|\u001b[34m          \u001b[0m| 0/10 [00:00<?, ?it/s]\n",
      " 20%|\u001b[34m██        \u001b[0m| 2/10 [00:05<00:20,  2.57s/it]\u001b[32m [repeated 3x across cluster]\u001b[0m\n"
     ]
    },
    {
     "name": "stdout",
     "output_type": "stream",
     "text": [
      "\u001b[36m(launch_and_fit pid=1450)\u001b[0m \tTrain Epoch: 4 \tTrain_loss: 1.8477 | Train_acc: 29.6591 % | Validation_loss: 1.8114 | Validation_acc: 42.3611 %\u001b[32m [repeated 4x across cluster]\u001b[0m\n"
     ]
    },
    {
     "name": "stderr",
     "output_type": "stream",
     "text": [
      " 40%|\u001b[34m████      \u001b[0m| 4/10 [00:10<00:15,  2.53s/it]\u001b[32m [repeated 4x across cluster]\u001b[0m\n"
     ]
    },
    {
     "name": "stdout",
     "output_type": "stream",
     "text": [
      "\u001b[36m(launch_and_fit pid=1450)\u001b[0m \tTrain Epoch: 6 \tTrain_loss: 1.8401 | Train_acc: 30.7386 % | Validation_loss: 1.7976 | Validation_acc: 42.3611 %\u001b[32m [repeated 4x across cluster]\u001b[0m\n"
     ]
    },
    {
     "name": "stderr",
     "output_type": "stream",
     "text": [
      " 60%|\u001b[34m██████    \u001b[0m| 6/10 [00:15<00:10,  2.64s/it]\u001b[32m [repeated 4x across cluster]\u001b[0m\n"
     ]
    },
    {
     "name": "stdout",
     "output_type": "stream",
     "text": [
      "\u001b[36m(launch_and_fit pid=1450)\u001b[0m \tTrain Epoch: 8 \tTrain_loss: 1.8350 | Train_acc: 32.1875 % | Validation_loss: 1.8036 | Validation_acc: 40.2778 %\u001b[32m [repeated 4x across cluster]\u001b[0m\n"
     ]
    },
    {
     "name": "stderr",
     "output_type": "stream",
     "text": [
      " 80%|\u001b[34m████████  \u001b[0m| 8/10 [00:20<00:05,  2.54s/it]\u001b[32m [repeated 4x across cluster]\u001b[0m\n"
     ]
    },
    {
     "name": "stdout",
     "output_type": "stream",
     "text": [
      "\u001b[36m(launch_and_fit pid=1450)\u001b[0m save graph in  results/FL/\n"
     ]
    },
    {
     "name": "stderr",
     "output_type": "stream",
     "text": [
      "100%|\u001b[34m██████████\u001b[0m| 10/10 [00:25<00:00,  2.52s/it]\u001b[32m [repeated 5x across cluster]\u001b[0m\n"
     ]
    },
    {
     "name": "stdout",
     "output_type": "stream",
     "text": [
      "\u001b[36m(launch_and_fit pid=1475)\u001b[0m \tTrain Epoch: 10 \tTrain_loss: 1.7979 | Train_acc: 34.3182 % | Validation_loss: 1.8435 | Validation_acc: 25.0000 %\u001b[32m [repeated 5x across cluster]\u001b[0m\n"
     ]
    },
    {
     "name": "stderr",
     "output_type": "stream",
     "text": [
      "DEBUG flwr 2024-07-22 09:23:50,457 | server.py:236 | fit_round 2 received 10 results and 0 failures\n"
     ]
    },
    {
     "name": "stdout",
     "output_type": "stream",
     "text": [
      "Saving round 2 aggregated_parameters...\n",
      "Updated model\n"
     ]
    },
    {
     "name": "stderr",
     "output_type": "stream",
     "text": [
      "INFO flwr 2024-07-22 09:23:52,807 | server.py:125 | fit progress: (2, 1.8219078714197332, {'accuracy': 32.310606060606055}, 432.33416754799987)\n",
      "DEBUG flwr 2024-07-22 09:23:52,808 | server.py:173 | evaluate_round 2: strategy sampled 10 clients (out of 10)\n"
     ]
    },
    {
     "name": "stdout",
     "output_type": "stream",
     "text": [
      "Server-side evaluation loss 1.8219078714197332 / accuracy 32.310606060606055\n",
      "\u001b[36m(launch_and_evaluate pid=1533)\u001b[0m Run WITHOUT homomorphic encryption\n",
      "\u001b[36m(launch_and_evaluate pid=1533)\u001b[0m  To get the checkpoint\n",
      "\u001b[36m(launch_and_fit pid=1475)\u001b[0m save graph in  results/FL/\n",
      "\u001b[36m(launch_and_evaluate pid=1533)\u001b[0m [Client 8] evaluate, config: {}\n",
      "\u001b[36m(launch_and_evaluate pid=1533)\u001b[0m Updated model\n"
     ]
    },
    {
     "name": "stderr",
     "output_type": "stream",
     "text": [
      "\u001b[36m(launch_and_evaluate pid=1533)\u001b[0m /opt/conda/lib/python3.10/site-packages/sklearn/metrics/_ranking.py:1029: UndefinedMetricWarning: No positive samples in y_true, true positive value should be meaningless\n",
      "\u001b[36m(launch_and_evaluate pid=1533)\u001b[0m   warnings.warn(\n"
     ]
    },
    {
     "name": "stdout",
     "output_type": "stream",
     "text": [
      "\u001b[36m(launch_and_evaluate pid=1604)\u001b[0m Run WITHOUT homomorphic encryption\u001b[32m [repeated 2x across cluster]\u001b[0m\n",
      "\u001b[36m(launch_and_evaluate pid=1604)\u001b[0m  To get the checkpoint\u001b[32m [repeated 2x across cluster]\u001b[0m\n",
      "\u001b[36m(launch_and_evaluate pid=1534)\u001b[0m [Client 1] evaluate, config: {}\n",
      "\u001b[36m(launch_and_evaluate pid=1534)\u001b[0m Updated model\n",
      "\u001b[36m(launch_and_evaluate pid=1604)\u001b[0m [Client 5] evaluate, config: {}\n",
      "\u001b[36m(launch_and_evaluate pid=1604)\u001b[0m Updated model\n",
      "\u001b[36m(launch_and_evaluate pid=1674)\u001b[0m Run WITHOUT homomorphic encryption\u001b[32m [repeated 2x across cluster]\u001b[0m\n",
      "\u001b[36m(launch_and_evaluate pid=1674)\u001b[0m  To get the checkpoint\u001b[32m [repeated 2x across cluster]\u001b[0m\n",
      "\u001b[36m(launch_and_evaluate pid=1606)\u001b[0m [Client 3] evaluate, config: {}\n",
      "\u001b[36m(launch_and_evaluate pid=1606)\u001b[0m Updated model\n",
      "\u001b[36m(launch_and_evaluate pid=1674)\u001b[0m [Client 7] evaluate, config: {}\n",
      "\u001b[36m(launch_and_evaluate pid=1674)\u001b[0m Updated model\n",
      "\u001b[36m(launch_and_evaluate pid=1746)\u001b[0m Run WITHOUT homomorphic encryption\u001b[32m [repeated 2x across cluster]\u001b[0m\n",
      "\u001b[36m(launch_and_evaluate pid=1746)\u001b[0m  To get the checkpoint\u001b[32m [repeated 2x across cluster]\u001b[0m\n",
      "\u001b[36m(launch_and_evaluate pid=1676)\u001b[0m [Client 6] evaluate, config: {}\n",
      "\u001b[36m(launch_and_evaluate pid=1676)\u001b[0m Updated model\n",
      "\u001b[36m(launch_and_evaluate pid=1744)\u001b[0m [Client 0] evaluate, config: {}\n",
      "\u001b[36m(launch_and_evaluate pid=1744)\u001b[0m Updated model\n"
     ]
    },
    {
     "name": "stderr",
     "output_type": "stream",
     "text": [
      "\u001b[36m(launch_and_evaluate pid=1746)\u001b[0m /opt/conda/lib/python3.10/site-packages/sklearn/metrics/_ranking.py:1029: UndefinedMetricWarning: No positive samples in y_true, true positive value should be meaningless\n",
      "\u001b[36m(launch_and_evaluate pid=1746)\u001b[0m   warnings.warn(\n"
     ]
    },
    {
     "name": "stdout",
     "output_type": "stream",
     "text": [
      "\u001b[36m(launch_and_evaluate pid=1815)\u001b[0m Run WITHOUT homomorphic encryption\u001b[32m [repeated 2x across cluster]\u001b[0m\n",
      "\u001b[36m(launch_and_evaluate pid=1815)\u001b[0m  To get the checkpoint\u001b[32m [repeated 2x across cluster]\u001b[0m\n",
      "\u001b[36m(launch_and_evaluate pid=1746)\u001b[0m [Client 9] evaluate, config: {}\n",
      "\u001b[36m(launch_and_evaluate pid=1746)\u001b[0m Updated model\n",
      "\u001b[36m(launch_and_evaluate pid=1815)\u001b[0m [Client 2] evaluate, config: {}\n",
      "\u001b[36m(launch_and_evaluate pid=1815)\u001b[0m Updated model\n"
     ]
    },
    {
     "name": "stderr",
     "output_type": "stream",
     "text": [
      "\u001b[36m(launch_and_evaluate pid=1817)\u001b[0m /opt/conda/lib/python3.10/site-packages/sklearn/metrics/_ranking.py:1029: UndefinedMetricWarning: No positive samples in y_true, true positive value should be meaningless\n",
      "\u001b[36m(launch_and_evaluate pid=1817)\u001b[0m   warnings.warn(\n",
      "DEBUG flwr 2024-07-22 09:24:51,409 | server.py:187 | evaluate_round 2 received 10 results and 0 failures\n",
      "DEBUG flwr 2024-07-22 09:24:51,410 | server.py:222 | fit_round 3: strategy sampled 10 clients (out of 10)\n"
     ]
    },
    {
     "name": "stdout",
     "output_type": "stream",
     "text": [
      "\u001b[36m(launch_and_fit pid=1894)\u001b[0m Run WITHOUT homomorphic encryption\u001b[32m [repeated 2x across cluster]\u001b[0m\n",
      "\u001b[36m(launch_and_fit pid=1894)\u001b[0m  To get the checkpoint\u001b[32m [repeated 2x across cluster]\u001b[0m\n",
      "\u001b[36m(launch_and_evaluate pid=1817)\u001b[0m [Client 4] evaluate, config: {}\n",
      "\u001b[36m(launch_and_evaluate pid=1817)\u001b[0m Updated model\n"
     ]
    },
    {
     "name": "stderr",
     "output_type": "stream",
     "text": [
      "  0%|\u001b[34m          \u001b[0m| 0/10 [00:00<?, ?it/s]\n"
     ]
    },
    {
     "name": "stdout",
     "output_type": "stream",
     "text": [
      "\u001b[36m(launch_and_fit pid=1894)\u001b[0m [Client 9, round 3] fit, config: {'learning_rate': 0.003, 'batch_size': '16', 'server_round': 3, 'local_epochs': 10}\n",
      "\u001b[36m(launch_and_fit pid=1894)\u001b[0m Updated model\n"
     ]
    },
    {
     "name": "stderr",
     "output_type": "stream",
     "text": [
      " 10%|\u001b[34m█         \u001b[0m| 1/10 [00:03<00:27,  3.01s/it]\n"
     ]
    },
    {
     "name": "stdout",
     "output_type": "stream",
     "text": [
      "\u001b[36m(launch_and_fit pid=1894)\u001b[0m \tTrain Epoch: 1 \tTrain_loss: 1.8255 | Train_acc: 31.8958 % | Validation_loss: 1.7934 | Validation_acc: 34.0278 %\n"
     ]
    },
    {
     "name": "stderr",
     "output_type": "stream",
     "text": [
      "  0%|\u001b[34m          \u001b[0m| 0/10 [00:00<?, ?it/s]\n"
     ]
    },
    {
     "name": "stdout",
     "output_type": "stream",
     "text": [
      "\u001b[36m(launch_and_fit pid=1895)\u001b[0m Run WITHOUT homomorphic encryption\n",
      "\u001b[36m(launch_and_fit pid=1895)\u001b[0m  To get the checkpoint\n",
      "\u001b[36m(launch_and_fit pid=1895)\u001b[0m [Client 7, round 3] fit, config: {'learning_rate': 0.003, 'batch_size': '16', 'server_round': 3, 'local_epochs': 10}\n",
      "\u001b[36m(launch_and_fit pid=1895)\u001b[0m Updated model\n"
     ]
    },
    {
     "name": "stderr",
     "output_type": "stream",
     "text": [
      " 30%|\u001b[34m███       \u001b[0m| 3/10 [00:08<00:18,  2.68s/it]\u001b[32m [repeated 4x across cluster]\u001b[0m\n"
     ]
    },
    {
     "name": "stdout",
     "output_type": "stream",
     "text": [
      "\u001b[36m(launch_and_fit pid=1894)\u001b[0m \tTrain Epoch: 3 \tTrain_loss: 1.8130 | Train_acc: 32.2917 % | Validation_loss: 1.7781 | Validation_acc: 38.1944 %\u001b[32m [repeated 4x across cluster]\u001b[0m\n"
     ]
    },
    {
     "name": "stderr",
     "output_type": "stream",
     "text": [
      " 50%|\u001b[34m█████     \u001b[0m| 5/10 [00:13<00:13,  2.64s/it]\u001b[32m [repeated 4x across cluster]\u001b[0m\n"
     ]
    },
    {
     "name": "stdout",
     "output_type": "stream",
     "text": [
      "\u001b[36m(launch_and_fit pid=1894)\u001b[0m \tTrain Epoch: 5 \tTrain_loss: 1.7955 | Train_acc: 37.2708 % | Validation_loss: 1.7785 | Validation_acc: 36.1111 %\u001b[32m [repeated 4x across cluster]\u001b[0m\n"
     ]
    },
    {
     "name": "stderr",
     "output_type": "stream",
     "text": [
      " 70%|\u001b[34m███████   \u001b[0m| 7/10 [00:18<00:07,  2.57s/it]\u001b[32m [repeated 5x across cluster]\u001b[0m\n"
     ]
    },
    {
     "name": "stdout",
     "output_type": "stream",
     "text": [
      "\u001b[36m(launch_and_fit pid=1895)\u001b[0m \tTrain Epoch: 7 \tTrain_loss: 1.8272 | Train_acc: 33.0682 % | Validation_loss: 1.7319 | Validation_acc: 49.3056 %\u001b[32m [repeated 5x across cluster]\u001b[0m\n"
     ]
    },
    {
     "name": "stderr",
     "output_type": "stream",
     "text": [
      "100%|\u001b[34m██████████\u001b[0m| 10/10 [00:26<00:00,  2.61s/it]\u001b[32m [repeated 5x across cluster]\u001b[0m\n"
     ]
    },
    {
     "name": "stdout",
     "output_type": "stream",
     "text": [
      "\u001b[36m(launch_and_fit pid=1894)\u001b[0m save graph in  results/FL/\n",
      "\u001b[36m(launch_and_fit pid=1894)\u001b[0m \tTrain Epoch: 10 \tTrain_loss: 1.7557 | Train_acc: 41.0000 % | Validation_loss: 1.7720 | Validation_acc: 38.1944 %\u001b[32m [repeated 5x across cluster]\u001b[0m\n",
      "\u001b[36m(launch_and_fit pid=1967)\u001b[0m Run WITHOUT homomorphic encryption\n",
      "\u001b[36m(launch_and_fit pid=1967)\u001b[0m  To get the checkpoint\n",
      "\u001b[36m(launch_and_fit pid=1895)\u001b[0m save graph in  results/FL/\n",
      "\u001b[36m(launch_and_fit pid=1895)\u001b[0m \tTrain Epoch: 10 \tTrain_loss: 1.8091 | Train_acc: 33.2386 % | Validation_loss: 1.7183 | Validation_acc: 51.3889 %\n"
     ]
    },
    {
     "name": "stderr",
     "output_type": "stream",
     "text": [
      "  0%|\u001b[34m          \u001b[0m| 0/10 [00:00<?, ?it/s]\n",
      "100%|\u001b[34m██████████\u001b[0m| 10/10 [00:26<00:00,  2.61s/it]\n"
     ]
    },
    {
     "name": "stdout",
     "output_type": "stream",
     "text": [
      "\u001b[36m(launch_and_fit pid=1967)\u001b[0m [Client 6, round 3] fit, config: {'learning_rate': 0.003, 'batch_size': '16', 'server_round': 3, 'local_epochs': 10}\n",
      "\u001b[36m(launch_and_fit pid=1967)\u001b[0m Updated model\n"
     ]
    },
    {
     "name": "stderr",
     "output_type": "stream",
     "text": [
      " 10%|\u001b[34m█         \u001b[0m| 1/10 [00:02<00:26,  2.93s/it]\n"
     ]
    },
    {
     "name": "stdout",
     "output_type": "stream",
     "text": [
      "\u001b[36m(launch_and_fit pid=1967)\u001b[0m \tTrain Epoch: 1 \tTrain_loss: 1.8108 | Train_acc: 39.4886 % | Validation_loss: 1.8757 | Validation_acc: 29.8611 %\n"
     ]
    },
    {
     "name": "stderr",
     "output_type": "stream",
     "text": [
      "  0%|\u001b[34m          \u001b[0m| 0/10 [00:00<?, ?it/s]\n"
     ]
    },
    {
     "name": "stdout",
     "output_type": "stream",
     "text": [
      "\u001b[36m(launch_and_fit pid=1969)\u001b[0m Run WITHOUT homomorphic encryption\n",
      "\u001b[36m(launch_and_fit pid=1969)\u001b[0m  To get the checkpoint\n",
      "\u001b[36m(launch_and_fit pid=1969)\u001b[0m [Client 8, round 3] fit, config: {'learning_rate': 0.003, 'batch_size': '16', 'server_round': 3, 'local_epochs': 10}\n",
      "\u001b[36m(launch_and_fit pid=1969)\u001b[0m Updated model\n"
     ]
    },
    {
     "name": "stderr",
     "output_type": "stream",
     "text": [
      " 30%|\u001b[34m███       \u001b[0m| 3/10 [00:08<00:18,  2.70s/it]\u001b[32m [repeated 4x across cluster]\u001b[0m\n"
     ]
    },
    {
     "name": "stdout",
     "output_type": "stream",
     "text": [
      "\u001b[36m(launch_and_fit pid=1967)\u001b[0m \tTrain Epoch: 3 \tTrain_loss: 1.7981 | Train_acc: 39.7727 % | Validation_loss: 1.8359 | Validation_acc: 29.8611 %\u001b[32m [repeated 4x across cluster]\u001b[0m\n"
     ]
    },
    {
     "name": "stderr",
     "output_type": "stream",
     "text": [
      " 50%|\u001b[34m█████     \u001b[0m| 5/10 [00:13<00:12,  2.59s/it]\u001b[32m [repeated 4x across cluster]\u001b[0m\n"
     ]
    },
    {
     "name": "stdout",
     "output_type": "stream",
     "text": [
      "\u001b[36m(launch_and_fit pid=1967)\u001b[0m \tTrain Epoch: 5 \tTrain_loss: 1.7814 | Train_acc: 40.0568 % | Validation_loss: 1.8439 | Validation_acc: 38.8889 %\u001b[32m [repeated 4x across cluster]\u001b[0m\n"
     ]
    },
    {
     "name": "stderr",
     "output_type": "stream",
     "text": [
      " 70%|\u001b[34m███████   \u001b[0m| 7/10 [00:18<00:07,  2.56s/it]\u001b[32m [repeated 4x across cluster]\u001b[0m\n"
     ]
    },
    {
     "name": "stdout",
     "output_type": "stream",
     "text": [
      "\u001b[36m(launch_and_fit pid=1967)\u001b[0m \tTrain Epoch: 7 \tTrain_loss: 1.7780 | Train_acc: 39.3182 % | Validation_loss: 1.8723 | Validation_acc: 27.7778 %\u001b[32m [repeated 4x across cluster]\u001b[0m\n"
     ]
    },
    {
     "name": "stderr",
     "output_type": "stream",
     "text": [
      " 90%|\u001b[34m█████████ \u001b[0m| 9/10 [00:23<00:02,  2.62s/it]\u001b[32m [repeated 4x across cluster]\u001b[0m\n"
     ]
    },
    {
     "name": "stdout",
     "output_type": "stream",
     "text": [
      "\u001b[36m(launch_and_fit pid=1967)\u001b[0m \tTrain Epoch: 9 \tTrain_loss: 1.7546 | Train_acc: 40.2273 % | Validation_loss: 1.8864 | Validation_acc: 27.7778 %\u001b[32m [repeated 4x across cluster]\u001b[0m\n",
      "\u001b[36m(launch_and_fit pid=1967)\u001b[0m save graph in  results/FL/\n",
      "\u001b[36m(launch_and_fit pid=2042)\u001b[0m Run WITHOUT homomorphic encryption\n",
      "\u001b[36m(launch_and_fit pid=2042)\u001b[0m  To get the checkpoint\n",
      "\u001b[36m(launch_and_fit pid=1969)\u001b[0m \tTrain Epoch: 10 \tTrain_loss: 1.7666 | Train_acc: 36.9886 % | Validation_loss: 1.7997 | Validation_acc: 20.8333 %\u001b[32m [repeated 3x across cluster]\u001b[0m\n",
      "\u001b[36m(launch_and_fit pid=1969)\u001b[0m save graph in  results/FL/\n",
      "\u001b[36m(launch_and_fit pid=2042)\u001b[0m [Client 1, round 3] fit, config: {'learning_rate': 0.003, 'batch_size': '16', 'server_round': 3, 'local_epochs': 10}\n",
      "\u001b[36m(launch_and_fit pid=2042)\u001b[0m Updated model\n"
     ]
    },
    {
     "name": "stderr",
     "output_type": "stream",
     "text": [
      "  0%|\u001b[34m          \u001b[0m| 0/10 [00:00<?, ?it/s]\n",
      "100%|\u001b[34m██████████\u001b[0m| 10/10 [00:26<00:00,  2.68s/it]\u001b[32m [repeated 3x across cluster]\u001b[0m\n"
     ]
    },
    {
     "name": "stdout",
     "output_type": "stream",
     "text": [
      "\u001b[36m(launch_and_fit pid=2044)\u001b[0m Run WITHOUT homomorphic encryption\n",
      "\u001b[36m(launch_and_fit pid=2044)\u001b[0m  To get the checkpoint\n",
      "\u001b[36m(launch_and_fit pid=2042)\u001b[0m \tTrain Epoch: 2 \tTrain_loss: 1.8451 | Train_acc: 30.0852 % | Validation_loss: 1.8547 | Validation_acc: 38.1944 %\u001b[32m [repeated 3x across cluster]\u001b[0m\n",
      "\u001b[36m(launch_and_fit pid=2044)\u001b[0m [Client 5, round 3] fit, config: {'learning_rate': 0.003, 'batch_size': '16', 'server_round': 3, 'local_epochs': 10}\n",
      "\u001b[36m(launch_and_fit pid=2044)\u001b[0m Updated model\n"
     ]
    },
    {
     "name": "stderr",
     "output_type": "stream",
     "text": [
      "  0%|\u001b[34m          \u001b[0m| 0/10 [00:00<?, ?it/s]\n",
      " 20%|\u001b[34m██        \u001b[0m| 2/10 [00:05<00:20,  2.62s/it]\u001b[32m [repeated 3x across cluster]\u001b[0m\n"
     ]
    },
    {
     "name": "stdout",
     "output_type": "stream",
     "text": [
      "\u001b[36m(launch_and_fit pid=2044)\u001b[0m \tTrain Epoch: 4 \tTrain_loss: 1.8272 | Train_acc: 31.3352 % | Validation_loss: 1.8261 | Validation_acc: 22.9167 %\u001b[32m [repeated 5x across cluster]\u001b[0m\n"
     ]
    },
    {
     "name": "stderr",
     "output_type": "stream",
     "text": [
      " 40%|\u001b[34m████      \u001b[0m| 4/10 [00:10<00:15,  2.51s/it]\u001b[32m [repeated 5x across cluster]\u001b[0m\n"
     ]
    },
    {
     "name": "stdout",
     "output_type": "stream",
     "text": [
      "\u001b[36m(launch_and_fit pid=2042)\u001b[0m \tTrain Epoch: 7 \tTrain_loss: 1.8031 | Train_acc: 33.8920 % | Validation_loss: 1.9393 | Validation_acc: 16.6667 %\u001b[32m [repeated 5x across cluster]\u001b[0m\n"
     ]
    },
    {
     "name": "stderr",
     "output_type": "stream",
     "text": [
      " 70%|\u001b[34m███████   \u001b[0m| 7/10 [00:17<00:07,  2.46s/it]\u001b[32m [repeated 5x across cluster]\u001b[0m\n"
     ]
    },
    {
     "name": "stdout",
     "output_type": "stream",
     "text": [
      "\u001b[36m(launch_and_fit pid=2042)\u001b[0m \tTrain Epoch: 9 \tTrain_loss: 1.7939 | Train_acc: 35.2273 % | Validation_loss: 1.9315 | Validation_acc: 16.6667 %\u001b[32m [repeated 4x across cluster]\u001b[0m\n"
     ]
    },
    {
     "name": "stderr",
     "output_type": "stream",
     "text": [
      " 90%|\u001b[34m█████████ \u001b[0m| 9/10 [00:23<00:02,  2.60s/it]\u001b[32m [repeated 4x across cluster]\u001b[0m\n"
     ]
    },
    {
     "name": "stdout",
     "output_type": "stream",
     "text": [
      "\u001b[36m(launch_and_fit pid=2042)\u001b[0m save graph in  results/FL/\n",
      "\u001b[36m(launch_and_fit pid=2117)\u001b[0m Run WITHOUT homomorphic encryption\n",
      "\u001b[36m(launch_and_fit pid=2117)\u001b[0m  To get the checkpoint\n",
      "\u001b[36m(launch_and_fit pid=2044)\u001b[0m \tTrain Epoch: 10 \tTrain_loss: 1.8064 | Train_acc: 31.1932 % | Validation_loss: 1.7957 | Validation_acc: 20.8333 %\u001b[32m [repeated 3x across cluster]\u001b[0m\n",
      "\u001b[36m(launch_and_fit pid=2044)\u001b[0m save graph in  results/FL/\n",
      "\u001b[36m(launch_and_fit pid=2117)\u001b[0m [Client 3, round 3] fit, config: {'learning_rate': 0.003, 'batch_size': '16', 'server_round': 3, 'local_epochs': 10}\n",
      "\u001b[36m(launch_and_fit pid=2117)\u001b[0m Updated model\n"
     ]
    },
    {
     "name": "stderr",
     "output_type": "stream",
     "text": [
      "  0%|\u001b[34m          \u001b[0m| 0/10 [00:00<?, ?it/s]\n",
      "100%|\u001b[34m██████████\u001b[0m| 10/10 [00:25<00:00,  2.60s/it]\u001b[32m [repeated 3x across cluster]\u001b[0m\n"
     ]
    },
    {
     "name": "stdout",
     "output_type": "stream",
     "text": [
      "\u001b[36m(launch_and_fit pid=2118)\u001b[0m Run WITHOUT homomorphic encryption\n",
      "\u001b[36m(launch_and_fit pid=2118)\u001b[0m  To get the checkpoint\n",
      "\u001b[36m(launch_and_fit pid=2117)\u001b[0m \tTrain Epoch: 2 \tTrain_loss: 1.8251 | Train_acc: 31.6761 % | Validation_loss: 1.7987 | Validation_acc: 36.1111 %\u001b[32m [repeated 3x across cluster]\u001b[0m\n",
      "\u001b[36m(launch_and_fit pid=2118)\u001b[0m [Client 4, round 3] fit, config: {'learning_rate': 0.003, 'batch_size': '16', 'server_round': 3, 'local_epochs': 10}\n",
      "\u001b[36m(launch_and_fit pid=2118)\u001b[0m Updated model\n"
     ]
    },
    {
     "name": "stderr",
     "output_type": "stream",
     "text": [
      "  0%|\u001b[34m          \u001b[0m| 0/10 [00:00<?, ?it/s]\n",
      " 20%|\u001b[34m██        \u001b[0m| 2/10 [00:05<00:20,  2.57s/it]\u001b[32m [repeated 3x across cluster]\u001b[0m\n"
     ]
    },
    {
     "name": "stdout",
     "output_type": "stream",
     "text": [
      "\u001b[36m(launch_and_fit pid=2118)\u001b[0m \tTrain Epoch: 4 \tTrain_loss: 1.8127 | Train_acc: 31.9602 % | Validation_loss: 1.7858 | Validation_acc: 44.4444 %\u001b[32m [repeated 5x across cluster]\u001b[0m\n"
     ]
    },
    {
     "name": "stderr",
     "output_type": "stream",
     "text": [
      " 40%|\u001b[34m████      \u001b[0m| 4/10 [00:10<00:15,  2.61s/it]\u001b[32m [repeated 5x across cluster]\u001b[0m\n"
     ]
    },
    {
     "name": "stdout",
     "output_type": "stream",
     "text": [
      "\u001b[36m(launch_and_fit pid=2118)\u001b[0m \tTrain Epoch: 6 \tTrain_loss: 1.8146 | Train_acc: 31.4773 % | Validation_loss: 1.7761 | Validation_acc: 44.4444 %\u001b[32m [repeated 4x across cluster]\u001b[0m\n"
     ]
    },
    {
     "name": "stderr",
     "output_type": "stream",
     "text": [
      " 60%|\u001b[34m██████    \u001b[0m| 6/10 [00:15<00:10,  2.63s/it]\u001b[32m [repeated 4x across cluster]\u001b[0m\n"
     ]
    },
    {
     "name": "stdout",
     "output_type": "stream",
     "text": [
      "\u001b[36m(launch_and_fit pid=2118)\u001b[0m \tTrain Epoch: 8 \tTrain_loss: 1.7955 | Train_acc: 34.0341 % | Validation_loss: 1.7963 | Validation_acc: 38.1944 %\u001b[32m [repeated 4x across cluster]\u001b[0m\n"
     ]
    },
    {
     "name": "stderr",
     "output_type": "stream",
     "text": [
      " 80%|\u001b[34m████████  \u001b[0m| 8/10 [00:21<00:05,  2.62s/it]\u001b[32m [repeated 4x across cluster]\u001b[0m\n"
     ]
    },
    {
     "name": "stdout",
     "output_type": "stream",
     "text": [
      "\u001b[36m(launch_and_fit pid=2117)\u001b[0m save graph in  results/FL/\n",
      "\u001b[36m(launch_and_fit pid=2118)\u001b[0m \tTrain Epoch: 10 \tTrain_loss: 1.7949 | Train_acc: 33.2102 % | Validation_loss: 1.7703 | Validation_acc: 44.4444 %\u001b[32m [repeated 4x across cluster]\u001b[0m\n"
     ]
    },
    {
     "name": "stderr",
     "output_type": "stream",
     "text": [
      "100%|\u001b[34m██████████\u001b[0m| 10/10 [00:26<00:00,  2.64s/it]\u001b[32m [repeated 4x across cluster]\u001b[0m\n"
     ]
    },
    {
     "name": "stdout",
     "output_type": "stream",
     "text": [
      "\u001b[36m(launch_and_fit pid=2190)\u001b[0m Run WITHOUT homomorphic encryption\n",
      "\u001b[36m(launch_and_fit pid=2190)\u001b[0m  To get the checkpoint\n",
      "\u001b[36m(launch_and_fit pid=2118)\u001b[0m save graph in  results/FL/\n",
      "\u001b[36m(launch_and_fit pid=2190)\u001b[0m [Client 2, round 3] fit, config: {'learning_rate': 0.003, 'batch_size': '16', 'server_round': 3, 'local_epochs': 10}\n",
      "\u001b[36m(launch_and_fit pid=2190)\u001b[0m Updated model\n"
     ]
    },
    {
     "name": "stderr",
     "output_type": "stream",
     "text": [
      "  0%|\u001b[34m          \u001b[0m| 0/10 [00:00<?, ?it/s]\n"
     ]
    },
    {
     "name": "stdout",
     "output_type": "stream",
     "text": [
      "\u001b[36m(launch_and_fit pid=2190)\u001b[0m \tTrain Epoch: 1 \tTrain_loss: 1.8272 | Train_acc: 32.7273 % | Validation_loss: 1.8225 | Validation_acc: 27.7778 %\n"
     ]
    },
    {
     "name": "stderr",
     "output_type": "stream",
     "text": [
      " 10%|\u001b[34m█         \u001b[0m| 1/10 [00:02<00:25,  2.81s/it]\n"
     ]
    },
    {
     "name": "stdout",
     "output_type": "stream",
     "text": [
      "\u001b[36m(launch_and_fit pid=2215)\u001b[0m Run WITHOUT homomorphic encryption\n",
      "\u001b[36m(launch_and_fit pid=2215)\u001b[0m  To get the checkpoint\n",
      "\u001b[36m(launch_and_fit pid=2215)\u001b[0m [Client 0, round 3] fit, config: {'learning_rate': 0.003, 'batch_size': '16', 'server_round': 3, 'local_epochs': 10}\n",
      "\u001b[36m(launch_and_fit pid=2215)\u001b[0m Updated model\n"
     ]
    },
    {
     "name": "stderr",
     "output_type": "stream",
     "text": [
      "  0%|\u001b[34m          \u001b[0m| 0/10 [00:00<?, ?it/s]\n"
     ]
    },
    {
     "name": "stdout",
     "output_type": "stream",
     "text": [
      "\u001b[36m(launch_and_fit pid=2190)\u001b[0m \tTrain Epoch: 3 \tTrain_loss: 1.8122 | Train_acc: 34.7443 % | Validation_loss: 1.8266 | Validation_acc: 25.6944 %\u001b[32m [repeated 4x across cluster]\u001b[0m\n"
     ]
    },
    {
     "name": "stderr",
     "output_type": "stream",
     "text": [
      " 30%|\u001b[34m███       \u001b[0m| 3/10 [00:07<00:18,  2.59s/it]\u001b[32m [repeated 4x across cluster]\u001b[0m\n"
     ]
    },
    {
     "name": "stdout",
     "output_type": "stream",
     "text": [
      "\u001b[36m(launch_and_fit pid=2190)\u001b[0m \tTrain Epoch: 5 \tTrain_loss: 1.7989 | Train_acc: 34.1477 % | Validation_loss: 1.8237 | Validation_acc: 23.6111 %\u001b[32m [repeated 4x across cluster]\u001b[0m\n"
     ]
    },
    {
     "name": "stderr",
     "output_type": "stream",
     "text": [
      " 50%|\u001b[34m█████     \u001b[0m| 5/10 [00:13<00:13,  2.61s/it]\u001b[32m [repeated 4x across cluster]\u001b[0m\n"
     ]
    },
    {
     "name": "stdout",
     "output_type": "stream",
     "text": [
      "\u001b[36m(launch_and_fit pid=2190)\u001b[0m \tTrain Epoch: 7 \tTrain_loss: 1.7934 | Train_acc: 33.5511 % | Validation_loss: 1.8321 | Validation_acc: 21.5278 %\u001b[32m [repeated 4x across cluster]\u001b[0m\n"
     ]
    },
    {
     "name": "stderr",
     "output_type": "stream",
     "text": [
      " 70%|\u001b[34m███████   \u001b[0m| 7/10 [00:18<00:07,  2.62s/it]\u001b[32m [repeated 4x across cluster]\u001b[0m\n"
     ]
    },
    {
     "name": "stdout",
     "output_type": "stream",
     "text": [
      "\u001b[36m(launch_and_fit pid=2190)\u001b[0m \tTrain Epoch: 9 \tTrain_loss: 1.7793 | Train_acc: 36.3352 % | Validation_loss: 1.8248 | Validation_acc: 23.6111 %\u001b[32m [repeated 4x across cluster]\u001b[0m\n"
     ]
    },
    {
     "name": "stderr",
     "output_type": "stream",
     "text": [
      " 90%|\u001b[34m█████████ \u001b[0m| 9/10 [00:23<00:02,  2.62s/it]\u001b[32m [repeated 4x across cluster]\u001b[0m\n"
     ]
    },
    {
     "name": "stdout",
     "output_type": "stream",
     "text": [
      "\u001b[36m(launch_and_fit pid=2190)\u001b[0m save graph in  results/FL/\n"
     ]
    },
    {
     "name": "stderr",
     "output_type": "stream",
     "text": [
      "DEBUG flwr 2024-07-22 09:27:57,879 | server.py:236 | fit_round 3 received 10 results and 0 failures\n"
     ]
    },
    {
     "name": "stdout",
     "output_type": "stream",
     "text": [
      "Saving round 3 aggregated_parameters...\n",
      "Updated model\n"
     ]
    },
    {
     "name": "stderr",
     "output_type": "stream",
     "text": [
      "INFO flwr 2024-07-22 09:28:00,295 | server.py:125 | fit progress: (3, 1.7893829952586782, {'accuracy': 33.10606060606061}, 679.822075632)\n",
      "DEBUG flwr 2024-07-22 09:28:00,296 | server.py:173 | evaluate_round 3: strategy sampled 10 clients (out of 10)\n"
     ]
    },
    {
     "name": "stdout",
     "output_type": "stream",
     "text": [
      "Server-side evaluation loss 1.7893829952586782 / accuracy 33.10606060606061\n",
      "\u001b[36m(launch_and_evaluate pid=2274)\u001b[0m Run WITHOUT homomorphic encryption\n",
      "\u001b[36m(launch_and_evaluate pid=2274)\u001b[0m  To get the checkpoint\n",
      "\u001b[36m(launch_and_fit pid=2215)\u001b[0m \tTrain Epoch: 10 \tTrain_loss: 1.7547 | Train_acc: 36.6193 % | Validation_loss: 1.8496 | Validation_acc: 25.0000 %\u001b[32m [repeated 3x across cluster]\u001b[0m\n",
      "\u001b[36m(launch_and_fit pid=2215)\u001b[0m save graph in  results/FL/\n",
      "\u001b[36m(launch_and_evaluate pid=2274)\u001b[0m [Client 4] evaluate, config: {}\n",
      "\u001b[36m(launch_and_evaluate pid=2274)\u001b[0m Updated model\n"
     ]
    },
    {
     "name": "stderr",
     "output_type": "stream",
     "text": [
      "\u001b[36m(launch_and_evaluate pid=2274)\u001b[0m /opt/conda/lib/python3.10/site-packages/sklearn/metrics/_ranking.py:1029: UndefinedMetricWarning: No positive samples in y_true, true positive value should be meaningless\n",
      "\u001b[36m(launch_and_evaluate pid=2274)\u001b[0m   warnings.warn(\n",
      "100%|\u001b[34m██████████\u001b[0m| 10/10 [00:25<00:00,  2.59s/it]\u001b[32m [repeated 3x across cluster]\u001b[0m\n"
     ]
    },
    {
     "name": "stdout",
     "output_type": "stream",
     "text": [
      "\u001b[36m(launch_and_evaluate pid=2344)\u001b[0m Run WITHOUT homomorphic encryption\u001b[32m [repeated 2x across cluster]\u001b[0m\n",
      "\u001b[36m(launch_and_evaluate pid=2344)\u001b[0m  To get the checkpoint\u001b[32m [repeated 2x across cluster]\u001b[0m\n",
      "\u001b[36m(launch_and_evaluate pid=2273)\u001b[0m [Client 1] evaluate, config: {}\n",
      "\u001b[36m(launch_and_evaluate pid=2273)\u001b[0m Updated model\n",
      "\u001b[36m(launch_and_evaluate pid=2344)\u001b[0m [Client 7] evaluate, config: {}\n",
      "\u001b[36m(launch_and_evaluate pid=2344)\u001b[0m Updated model\n",
      "\u001b[36m(launch_and_evaluate pid=2414)\u001b[0m Run WITHOUT homomorphic encryption\u001b[32m [repeated 2x across cluster]\u001b[0m\n",
      "\u001b[36m(launch_and_evaluate pid=2414)\u001b[0m  To get the checkpoint\u001b[32m [repeated 2x across cluster]\u001b[0m\n",
      "\u001b[36m(launch_and_evaluate pid=2346)\u001b[0m [Client 2] evaluate, config: {}\n",
      "\u001b[36m(launch_and_evaluate pid=2346)\u001b[0m Updated model\n",
      "\u001b[36m(launch_and_evaluate pid=2414)\u001b[0m [Client 6] evaluate, config: {}\n",
      "\u001b[36m(launch_and_evaluate pid=2414)\u001b[0m Updated model\n"
     ]
    },
    {
     "name": "stderr",
     "output_type": "stream",
     "text": [
      "\u001b[36m(launch_and_evaluate pid=2416)\u001b[0m /opt/conda/lib/python3.10/site-packages/sklearn/metrics/_ranking.py:1029: UndefinedMetricWarning: No positive samples in y_true, true positive value should be meaningless\n",
      "\u001b[36m(launch_and_evaluate pid=2416)\u001b[0m   warnings.warn(\n"
     ]
    },
    {
     "name": "stdout",
     "output_type": "stream",
     "text": [
      "\u001b[36m(launch_and_evaluate pid=2484)\u001b[0m Run WITHOUT homomorphic encryption\u001b[32m [repeated 2x across cluster]\u001b[0m\n",
      "\u001b[36m(launch_and_evaluate pid=2484)\u001b[0m  To get the checkpoint\u001b[32m [repeated 2x across cluster]\u001b[0m\n",
      "\u001b[36m(launch_and_evaluate pid=2416)\u001b[0m [Client 9] evaluate, config: {}\n",
      "\u001b[36m(launch_and_evaluate pid=2416)\u001b[0m Updated model\n",
      "\u001b[36m(launch_and_evaluate pid=2484)\u001b[0m [Client 5] evaluate, config: {}\n",
      "\u001b[36m(launch_and_evaluate pid=2484)\u001b[0m Updated model\n",
      "\u001b[36m(launch_and_evaluate pid=2554)\u001b[0m Run WITHOUT homomorphic encryption\u001b[32m [repeated 2x across cluster]\u001b[0m\n",
      "\u001b[36m(launch_and_evaluate pid=2554)\u001b[0m  To get the checkpoint\u001b[32m [repeated 2x across cluster]\u001b[0m\n",
      "\u001b[36m(launch_and_evaluate pid=2486)\u001b[0m [Client 3] evaluate, config: {}\n",
      "\u001b[36m(launch_and_evaluate pid=2486)\u001b[0m Updated model\n",
      "\u001b[36m(launch_and_evaluate pid=2554)\u001b[0m [Client 0] evaluate, config: {}\n",
      "\u001b[36m(launch_and_evaluate pid=2554)\u001b[0m Updated model\n"
     ]
    },
    {
     "name": "stderr",
     "output_type": "stream",
     "text": [
      "\u001b[36m(launch_and_evaluate pid=2556)\u001b[0m /opt/conda/lib/python3.10/site-packages/sklearn/metrics/_ranking.py:1029: UndefinedMetricWarning: No positive samples in y_true, true positive value should be meaningless\n",
      "\u001b[36m(launch_and_evaluate pid=2556)\u001b[0m   warnings.warn(\n",
      "DEBUG flwr 2024-07-22 09:28:58,845 | server.py:187 | evaluate_round 3 received 10 results and 0 failures\n",
      "DEBUG flwr 2024-07-22 09:28:58,846 | server.py:222 | fit_round 4: strategy sampled 10 clients (out of 10)\n"
     ]
    },
    {
     "name": "stdout",
     "output_type": "stream",
     "text": [
      "\u001b[36m(launch_and_fit pid=2634)\u001b[0m Run WITHOUT homomorphic encryption\u001b[32m [repeated 2x across cluster]\u001b[0m\n",
      "\u001b[36m(launch_and_fit pid=2634)\u001b[0m  To get the checkpoint\u001b[32m [repeated 2x across cluster]\u001b[0m\n",
      "\u001b[36m(launch_and_evaluate pid=2556)\u001b[0m [Client 8] evaluate, config: {}\n",
      "\u001b[36m(launch_and_evaluate pid=2556)\u001b[0m Updated model\n"
     ]
    },
    {
     "name": "stderr",
     "output_type": "stream",
     "text": [
      "  0%|\u001b[34m          \u001b[0m| 0/10 [00:00<?, ?it/s]\n"
     ]
    },
    {
     "name": "stdout",
     "output_type": "stream",
     "text": [
      "\u001b[36m(launch_and_fit pid=2634)\u001b[0m [Client 3, round 4] fit, config: {'learning_rate': 0.003, 'batch_size': '16', 'server_round': 4, 'local_epochs': 10}\n",
      "\u001b[36m(launch_and_fit pid=2634)\u001b[0m Updated model\n"
     ]
    },
    {
     "name": "stderr",
     "output_type": "stream",
     "text": [
      " 10%|\u001b[34m█         \u001b[0m| 1/10 [00:02<00:24,  2.72s/it]\n"
     ]
    },
    {
     "name": "stdout",
     "output_type": "stream",
     "text": [
      "\u001b[36m(launch_and_fit pid=2634)\u001b[0m \tTrain Epoch: 1 \tTrain_loss: 1.8311 | Train_acc: 29.6307 % | Validation_loss: 1.8455 | Validation_acc: 29.8611 %\n"
     ]
    },
    {
     "name": "stderr",
     "output_type": "stream",
     "text": [
      "  0%|\u001b[34m          \u001b[0m| 0/10 [00:00<?, ?it/s]\n"
     ]
    },
    {
     "name": "stdout",
     "output_type": "stream",
     "text": [
      "\u001b[36m(launch_and_fit pid=2633)\u001b[0m Run WITHOUT homomorphic encryption\n",
      "\u001b[36m(launch_and_fit pid=2633)\u001b[0m  To get the checkpoint\n",
      "\u001b[36m(launch_and_fit pid=2633)\u001b[0m [Client 2, round 4] fit, config: {'learning_rate': 0.003, 'batch_size': '16', 'server_round': 4, 'local_epochs': 10}\n",
      "\u001b[36m(launch_and_fit pid=2633)\u001b[0m Updated model\n"
     ]
    },
    {
     "name": "stderr",
     "output_type": "stream",
     "text": [
      " 30%|\u001b[34m███       \u001b[0m| 3/10 [00:07<00:17,  2.53s/it]\u001b[32m [repeated 4x across cluster]\u001b[0m\n"
     ]
    },
    {
     "name": "stdout",
     "output_type": "stream",
     "text": [
      "\u001b[36m(launch_and_fit pid=2634)\u001b[0m \tTrain Epoch: 3 \tTrain_loss: 1.8152 | Train_acc: 32.1307 % | Validation_loss: 1.7871 | Validation_acc: 29.8611 %\u001b[32m [repeated 4x across cluster]\u001b[0m\n",
      "\u001b[36m(launch_and_fit pid=2634)\u001b[0m \tTrain Epoch: 5 \tTrain_loss: 1.8032 | Train_acc: 34.4886 % | Validation_loss: 1.7856 | Validation_acc: 34.0278 %\u001b[32m [repeated 5x across cluster]\u001b[0m\n"
     ]
    },
    {
     "name": "stderr",
     "output_type": "stream",
     "text": [
      " 50%|\u001b[34m█████     \u001b[0m| 5/10 [00:13<00:13,  2.62s/it]\u001b[32m [repeated 5x across cluster]\u001b[0m\n"
     ]
    },
    {
     "name": "stdout",
     "output_type": "stream",
     "text": [
      "\u001b[36m(launch_and_fit pid=2634)\u001b[0m \tTrain Epoch: 7 \tTrain_loss: 1.7809 | Train_acc: 35.1136 % | Validation_loss: 1.7783 | Validation_acc: 34.0278 %\u001b[32m [repeated 4x across cluster]\u001b[0m\n"
     ]
    },
    {
     "name": "stderr",
     "output_type": "stream",
     "text": [
      " 70%|\u001b[34m███████   \u001b[0m| 7/10 [00:18<00:08,  2.71s/it]\u001b[32m [repeated 4x across cluster]\u001b[0m\n"
     ]
    },
    {
     "name": "stdout",
     "output_type": "stream",
     "text": [
      "\u001b[36m(launch_and_fit pid=2634)\u001b[0m \tTrain Epoch: 9 \tTrain_loss: 1.7698 | Train_acc: 34.6023 % | Validation_loss: 1.7872 | Validation_acc: 38.1944 %\u001b[32m [repeated 4x across cluster]\u001b[0m\n"
     ]
    },
    {
     "name": "stderr",
     "output_type": "stream",
     "text": [
      " 90%|\u001b[34m█████████ \u001b[0m| 9/10 [00:24<00:02,  2.71s/it]\u001b[32m [repeated 4x across cluster]\u001b[0m\n"
     ]
    },
    {
     "name": "stdout",
     "output_type": "stream",
     "text": [
      "\u001b[36m(launch_and_fit pid=2633)\u001b[0m save graph in  results/FL/\n",
      "\u001b[36m(launch_and_fit pid=2706)\u001b[0m Run WITHOUT homomorphic encryption\n",
      "\u001b[36m(launch_and_fit pid=2706)\u001b[0m  To get the checkpoint\n",
      "\u001b[36m(launch_and_fit pid=2634)\u001b[0m \tTrain Epoch: 10 \tTrain_loss: 1.7690 | Train_acc: 35.8807 % | Validation_loss: 1.7828 | Validation_acc: 34.0278 %\u001b[32m [repeated 2x across cluster]\u001b[0m\n",
      "\u001b[36m(launch_and_fit pid=2634)\u001b[0m save graph in  results/FL/\n"
     ]
    },
    {
     "name": "stderr",
     "output_type": "stream",
     "text": [
      "  0%|\u001b[34m          \u001b[0m| 0/10 [00:00<?, ?it/s]\n",
      "100%|\u001b[34m██████████\u001b[0m| 10/10 [00:26<00:00,  2.66s/it]\u001b[32m [repeated 2x across cluster]\u001b[0m\n"
     ]
    },
    {
     "name": "stdout",
     "output_type": "stream",
     "text": [
      "\u001b[36m(launch_and_fit pid=2706)\u001b[0m [Client 4, round 4] fit, config: {'learning_rate': 0.003, 'batch_size': '16', 'server_round': 4, 'local_epochs': 10}\n",
      "\u001b[36m(launch_and_fit pid=2706)\u001b[0m Updated model\n"
     ]
    },
    {
     "name": "stderr",
     "output_type": "stream",
     "text": [
      "  0%|\u001b[34m          \u001b[0m| 0/10 [00:00<?, ?it/s]\n",
      " 20%|\u001b[34m██        \u001b[0m| 2/10 [00:05<00:21,  2.67s/it]\u001b[32m [repeated 3x across cluster]\u001b[0m\n"
     ]
    },
    {
     "name": "stdout",
     "output_type": "stream",
     "text": [
      "\u001b[36m(launch_and_fit pid=2731)\u001b[0m Run WITHOUT homomorphic encryption\n",
      "\u001b[36m(launch_and_fit pid=2731)\u001b[0m  To get the checkpoint\n",
      "\u001b[36m(launch_and_fit pid=2706)\u001b[0m \tTrain Epoch: 2 \tTrain_loss: 1.7930 | Train_acc: 32.6136 % | Validation_loss: 1.7725 | Validation_acc: 42.3611 %\u001b[32m [repeated 3x across cluster]\u001b[0m\n",
      "\u001b[36m(launch_and_fit pid=2731)\u001b[0m [Client 8, round 4] fit, config: {'learning_rate': 0.003, 'batch_size': '16', 'server_round': 4, 'local_epochs': 10}\n",
      "\u001b[36m(launch_and_fit pid=2731)\u001b[0m Updated model\n"
     ]
    },
    {
     "name": "stderr",
     "output_type": "stream",
     "text": [
      " 40%|\u001b[34m████      \u001b[0m| 4/10 [00:10<00:15,  2.58s/it]\u001b[32m [repeated 4x across cluster]\u001b[0m\n"
     ]
    },
    {
     "name": "stdout",
     "output_type": "stream",
     "text": [
      "\u001b[36m(launch_and_fit pid=2706)\u001b[0m \tTrain Epoch: 4 \tTrain_loss: 1.7835 | Train_acc: 33.8636 % | Validation_loss: 1.7659 | Validation_acc: 40.2778 %\u001b[32m [repeated 4x across cluster]\u001b[0m\n"
     ]
    },
    {
     "name": "stderr",
     "output_type": "stream",
     "text": [
      " 60%|\u001b[34m██████    \u001b[0m| 6/10 [00:15<00:10,  2.61s/it]\u001b[32m [repeated 4x across cluster]\u001b[0m\n"
     ]
    },
    {
     "name": "stdout",
     "output_type": "stream",
     "text": [
      "\u001b[36m(launch_and_fit pid=2706)\u001b[0m \tTrain Epoch: 6 \tTrain_loss: 1.7891 | Train_acc: 33.7216 % | Validation_loss: 1.7750 | Validation_acc: 42.3611 %\u001b[32m [repeated 4x across cluster]\u001b[0m\n",
      "\u001b[36m(launch_and_fit pid=2731)\u001b[0m \tTrain Epoch: 8 \tTrain_loss: 1.7488 | Train_acc: 38.0682 % | Validation_loss: 1.7843 | Validation_acc: 22.9167 %\u001b[32m [repeated 5x across cluster]\u001b[0m\n"
     ]
    },
    {
     "name": "stderr",
     "output_type": "stream",
     "text": [
      " 80%|\u001b[34m████████  \u001b[0m| 8/10 [00:20<00:05,  2.56s/it]\u001b[32m [repeated 5x across cluster]\u001b[0m\n"
     ]
    },
    {
     "name": "stdout",
     "output_type": "stream",
     "text": [
      "\u001b[36m(launch_and_fit pid=2706)\u001b[0m save graph in  results/FL/\n",
      "\u001b[36m(launch_and_fit pid=2781)\u001b[0m Run WITHOUT homomorphic encryption\n",
      "\u001b[36m(launch_and_fit pid=2781)\u001b[0m  To get the checkpoint\n",
      "\u001b[36m(launch_and_fit pid=2731)\u001b[0m \tTrain Epoch: 10 \tTrain_loss: 1.7416 | Train_acc: 39.1477 % | Validation_loss: 1.7859 | Validation_acc: 29.1667 %\u001b[32m [repeated 4x across cluster]\u001b[0m\n",
      "\u001b[36m(launch_and_fit pid=2731)\u001b[0m save graph in  results/FL/\n"
     ]
    },
    {
     "name": "stderr",
     "output_type": "stream",
     "text": [
      "  0%|\u001b[34m          \u001b[0m| 0/10 [00:00<?, ?it/s]\n",
      "100%|\u001b[34m██████████\u001b[0m| 10/10 [00:25<00:00,  2.59s/it]\u001b[32m [repeated 4x across cluster]\u001b[0m\n"
     ]
    },
    {
     "name": "stdout",
     "output_type": "stream",
     "text": [
      "\u001b[36m(launch_and_fit pid=2781)\u001b[0m [Client 1, round 4] fit, config: {'learning_rate': 0.003, 'batch_size': '16', 'server_round': 4, 'local_epochs': 10}\n",
      "\u001b[36m(launch_and_fit pid=2781)\u001b[0m Updated model\n"
     ]
    },
    {
     "name": "stderr",
     "output_type": "stream",
     "text": [
      "  0%|\u001b[34m          \u001b[0m| 0/10 [00:00<?, ?it/s]\n",
      " 20%|\u001b[34m██        \u001b[0m| 2/10 [00:05<00:21,  2.65s/it]\u001b[32m [repeated 3x across cluster]\u001b[0m\n"
     ]
    },
    {
     "name": "stdout",
     "output_type": "stream",
     "text": [
      "\u001b[36m(launch_and_fit pid=2806)\u001b[0m Run WITHOUT homomorphic encryption\n",
      "\u001b[36m(launch_and_fit pid=2806)\u001b[0m  To get the checkpoint\n",
      "\u001b[36m(launch_and_fit pid=2781)\u001b[0m \tTrain Epoch: 2 \tTrain_loss: 1.8077 | Train_acc: 32.6136 % | Validation_loss: 1.8760 | Validation_acc: 20.8333 %\u001b[32m [repeated 3x across cluster]\u001b[0m\n",
      "\u001b[36m(launch_and_fit pid=2806)\u001b[0m [Client 0, round 4] fit, config: {'learning_rate': 0.003, 'batch_size': '16', 'server_round': 4, 'local_epochs': 10}\n",
      "\u001b[36m(launch_and_fit pid=2806)\u001b[0m Updated model\n"
     ]
    },
    {
     "name": "stderr",
     "output_type": "stream",
     "text": [
      " 40%|\u001b[34m████      \u001b[0m| 4/10 [00:10<00:15,  2.59s/it]\u001b[32m [repeated 4x across cluster]\u001b[0m\n"
     ]
    },
    {
     "name": "stdout",
     "output_type": "stream",
     "text": [
      "\u001b[36m(launch_and_fit pid=2781)\u001b[0m \tTrain Epoch: 4 \tTrain_loss: 1.7936 | Train_acc: 33.9773 % | Validation_loss: 1.9503 | Validation_acc: 16.6667 %\u001b[32m [repeated 4x across cluster]\u001b[0m\n",
      "\u001b[36m(launch_and_fit pid=2806)\u001b[0m \tTrain Epoch: 6 \tTrain_loss: 1.7505 | Train_acc: 34.6591 % | Validation_loss: 1.8311 | Validation_acc: 29.1667 %\u001b[32m [repeated 5x across cluster]\u001b[0m\n"
     ]
    },
    {
     "name": "stderr",
     "output_type": "stream",
     "text": [
      " 60%|\u001b[34m██████    \u001b[0m| 6/10 [00:15<00:09,  2.47s/it]\u001b[32m [repeated 5x across cluster]\u001b[0m\n"
     ]
    },
    {
     "name": "stdout",
     "output_type": "stream",
     "text": [
      "\u001b[36m(launch_and_fit pid=2806)\u001b[0m \tTrain Epoch: 8 \tTrain_loss: 1.7355 | Train_acc: 39.4602 % | Validation_loss: 1.8340 | Validation_acc: 22.9167 %\u001b[32m [repeated 4x across cluster]\u001b[0m\n"
     ]
    },
    {
     "name": "stderr",
     "output_type": "stream",
     "text": [
      " 80%|\u001b[34m████████  \u001b[0m| 8/10 [00:20<00:04,  2.49s/it]\u001b[32m [repeated 4x across cluster]\u001b[0m\n"
     ]
    },
    {
     "name": "stdout",
     "output_type": "stream",
     "text": [
      "\u001b[36m(launch_and_fit pid=2781)\u001b[0m save graph in  results/FL/\n",
      "\u001b[36m(launch_and_fit pid=2856)\u001b[0m Run WITHOUT homomorphic encryption\n",
      "\u001b[36m(launch_and_fit pid=2856)\u001b[0m  To get the checkpoint\n",
      "\u001b[36m(launch_and_fit pid=2806)\u001b[0m \tTrain Epoch: 10 \tTrain_loss: 1.7499 | Train_acc: 39.3182 % | Validation_loss: 1.8447 | Validation_acc: 27.0833 %\u001b[32m [repeated 4x across cluster]\u001b[0m\n",
      "\u001b[36m(launch_and_fit pid=2806)\u001b[0m save graph in  results/FL/\n",
      "\u001b[36m(launch_and_fit pid=2856)\u001b[0m [Client 7, round 4] fit, config: {'learning_rate': 0.003, 'batch_size': '16', 'server_round': 4, 'local_epochs': 10}\n",
      "\u001b[36m(launch_and_fit pid=2856)\u001b[0m Updated model\n"
     ]
    },
    {
     "name": "stderr",
     "output_type": "stream",
     "text": [
      "  0%|\u001b[34m          \u001b[0m| 0/10 [00:00<?, ?it/s]\n",
      "100%|\u001b[34m██████████\u001b[0m| 10/10 [00:25<00:00,  2.50s/it]\u001b[32m [repeated 4x across cluster]\u001b[0m\n"
     ]
    },
    {
     "name": "stdout",
     "output_type": "stream",
     "text": [
      "\u001b[36m(launch_and_fit pid=2881)\u001b[0m Run WITHOUT homomorphic encryption\n",
      "\u001b[36m(launch_and_fit pid=2881)\u001b[0m  To get the checkpoint\n",
      "\u001b[36m(launch_and_fit pid=2856)\u001b[0m \tTrain Epoch: 2 \tTrain_loss: 1.8291 | Train_acc: 28.7216 % | Validation_loss: 1.6998 | Validation_acc: 43.0556 %\u001b[32m [repeated 3x across cluster]\u001b[0m\n",
      "\u001b[36m(launch_and_fit pid=2881)\u001b[0m [Client 5, round 4] fit, config: {'learning_rate': 0.003, 'batch_size': '16', 'server_round': 4, 'local_epochs': 10}\n",
      "\u001b[36m(launch_and_fit pid=2881)\u001b[0m Updated model\n"
     ]
    },
    {
     "name": "stderr",
     "output_type": "stream",
     "text": [
      "  0%|\u001b[34m          \u001b[0m| 0/10 [00:00<?, ?it/s]\n",
      " 20%|\u001b[34m██        \u001b[0m| 2/10 [00:05<00:21,  2.66s/it]\u001b[32m [repeated 3x across cluster]\u001b[0m\n"
     ]
    },
    {
     "name": "stdout",
     "output_type": "stream",
     "text": [
      "\u001b[36m(launch_and_fit pid=2856)\u001b[0m \tTrain Epoch: 4 \tTrain_loss: 1.8148 | Train_acc: 29.9432 % | Validation_loss: 1.6925 | Validation_acc: 47.2222 %\u001b[32m [repeated 4x across cluster]\u001b[0m\n"
     ]
    },
    {
     "name": "stderr",
     "output_type": "stream",
     "text": [
      " 40%|\u001b[34m████      \u001b[0m| 4/10 [00:10<00:16,  2.72s/it]\u001b[32m [repeated 4x across cluster]\u001b[0m\n"
     ]
    },
    {
     "name": "stdout",
     "output_type": "stream",
     "text": [
      "\u001b[36m(launch_and_fit pid=2856)\u001b[0m \tTrain Epoch: 6 \tTrain_loss: 1.7923 | Train_acc: 34.1477 % | Validation_loss: 1.6840 | Validation_acc: 49.3056 %\u001b[32m [repeated 4x across cluster]\u001b[0m\n"
     ]
    },
    {
     "name": "stderr",
     "output_type": "stream",
     "text": [
      " 60%|\u001b[34m██████    \u001b[0m| 6/10 [00:15<00:10,  2.59s/it]\u001b[32m [repeated 4x across cluster]\u001b[0m\n"
     ]
    },
    {
     "name": "stdout",
     "output_type": "stream",
     "text": [
      "\u001b[36m(launch_and_fit pid=2856)\u001b[0m \tTrain Epoch: 8 \tTrain_loss: 1.7834 | Train_acc: 37.8977 % | Validation_loss: 1.6670 | Validation_acc: 51.3889 %\u001b[32m [repeated 4x across cluster]\u001b[0m\n"
     ]
    },
    {
     "name": "stderr",
     "output_type": "stream",
     "text": [
      " 80%|\u001b[34m████████  \u001b[0m| 8/10 [00:21<00:05,  2.59s/it]\u001b[32m [repeated 4x across cluster]\u001b[0m\n"
     ]
    },
    {
     "name": "stdout",
     "output_type": "stream",
     "text": [
      "\u001b[36m(launch_and_fit pid=2856)\u001b[0m save graph in  results/FL/\n",
      "\u001b[36m(launch_and_fit pid=2881)\u001b[0m \tTrain Epoch: 10 \tTrain_loss: 1.7729 | Train_acc: 35.2841 % | Validation_loss: 1.7761 | Validation_acc: 36.1111 %\u001b[32m [repeated 5x across cluster]\u001b[0m\n"
     ]
    },
    {
     "name": "stderr",
     "output_type": "stream",
     "text": [
      "100%|\u001b[34m██████████\u001b[0m| 10/10 [00:26<00:00,  2.67s/it]\u001b[32m [repeated 5x across cluster]\u001b[0m\n"
     ]
    },
    {
     "name": "stdout",
     "output_type": "stream",
     "text": [
      "\u001b[36m(launch_and_fit pid=2930)\u001b[0m Run WITHOUT homomorphic encryption\n",
      "\u001b[36m(launch_and_fit pid=2930)\u001b[0m  To get the checkpoint\n",
      "\u001b[36m(launch_and_fit pid=2881)\u001b[0m save graph in  results/FL/\n",
      "\u001b[36m(launch_and_fit pid=2930)\u001b[0m [Client 6, round 4] fit, config: {'learning_rate': 0.003, 'batch_size': '16', 'server_round': 4, 'local_epochs': 10}\n",
      "\u001b[36m(launch_and_fit pid=2930)\u001b[0m Updated model\n"
     ]
    },
    {
     "name": "stderr",
     "output_type": "stream",
     "text": [
      "  0%|\u001b[34m          \u001b[0m| 0/10 [00:00<?, ?it/s]\n"
     ]
    },
    {
     "name": "stdout",
     "output_type": "stream",
     "text": [
      "\u001b[36m(launch_and_fit pid=2930)\u001b[0m \tTrain Epoch: 1 \tTrain_loss: 1.7774 | Train_acc: 37.6136 % | Validation_loss: 1.8212 | Validation_acc: 31.9444 %\n"
     ]
    },
    {
     "name": "stderr",
     "output_type": "stream",
     "text": [
      " 10%|\u001b[34m█         \u001b[0m| 1/10 [00:03<00:27,  3.03s/it]\n"
     ]
    },
    {
     "name": "stdout",
     "output_type": "stream",
     "text": [
      "\u001b[36m(launch_and_fit pid=2955)\u001b[0m Run WITHOUT homomorphic encryption\n",
      "\u001b[36m(launch_and_fit pid=2955)\u001b[0m  To get the checkpoint\n",
      "\u001b[36m(launch_and_fit pid=2955)\u001b[0m [Client 9, round 4] fit, config: {'learning_rate': 0.003, 'batch_size': '16', 'server_round': 4, 'local_epochs': 10}\n",
      "\u001b[36m(launch_and_fit pid=2955)\u001b[0m Updated model\n"
     ]
    },
    {
     "name": "stderr",
     "output_type": "stream",
     "text": [
      "  0%|\u001b[34m          \u001b[0m| 0/10 [00:00<?, ?it/s]\n"
     ]
    },
    {
     "name": "stdout",
     "output_type": "stream",
     "text": [
      "\u001b[36m(launch_and_fit pid=2930)\u001b[0m \tTrain Epoch: 3 \tTrain_loss: 1.7617 | Train_acc: 39.1761 % | Validation_loss: 1.8389 | Validation_acc: 31.9444 %\u001b[32m [repeated 4x across cluster]\u001b[0m\n"
     ]
    },
    {
     "name": "stderr",
     "output_type": "stream",
     "text": [
      " 30%|\u001b[34m███       \u001b[0m| 3/10 [00:08<00:18,  2.70s/it]\u001b[32m [repeated 4x across cluster]\u001b[0m\n"
     ]
    },
    {
     "name": "stdout",
     "output_type": "stream",
     "text": [
      "\u001b[36m(launch_and_fit pid=2930)\u001b[0m \tTrain Epoch: 5 \tTrain_loss: 1.7492 | Train_acc: 38.3807 % | Validation_loss: 1.8270 | Validation_acc: 29.8611 %\u001b[32m [repeated 4x across cluster]\u001b[0m\n"
     ]
    },
    {
     "name": "stderr",
     "output_type": "stream",
     "text": [
      " 50%|\u001b[34m█████     \u001b[0m| 5/10 [00:13<00:12,  2.56s/it]\u001b[32m [repeated 4x across cluster]\u001b[0m\n"
     ]
    },
    {
     "name": "stdout",
     "output_type": "stream",
     "text": [
      "\u001b[36m(launch_and_fit pid=2930)\u001b[0m \tTrain Epoch: 7 \tTrain_loss: 1.7349 | Train_acc: 40.8807 % | Validation_loss: 1.8717 | Validation_acc: 20.8333 %\u001b[32m [repeated 4x across cluster]\u001b[0m\n"
     ]
    },
    {
     "name": "stderr",
     "output_type": "stream",
     "text": [
      " 70%|\u001b[34m███████   \u001b[0m| 7/10 [00:18<00:07,  2.64s/it]\u001b[32m [repeated 4x across cluster]\u001b[0m\n"
     ]
    },
    {
     "name": "stdout",
     "output_type": "stream",
     "text": [
      "\u001b[36m(launch_and_fit pid=2930)\u001b[0m \tTrain Epoch: 9 \tTrain_loss: 1.7518 | Train_acc: 38.3523 % | Validation_loss: 1.8906 | Validation_acc: 31.9444 %\u001b[32m [repeated 4x across cluster]\u001b[0m\n"
     ]
    },
    {
     "name": "stderr",
     "output_type": "stream",
     "text": [
      " 90%|\u001b[34m█████████ \u001b[0m| 9/10 [00:23<00:02,  2.59s/it]\u001b[32m [repeated 4x across cluster]\u001b[0m\n"
     ]
    },
    {
     "name": "stdout",
     "output_type": "stream",
     "text": [
      "\u001b[36m(launch_and_fit pid=2930)\u001b[0m save graph in  results/FL/\n"
     ]
    },
    {
     "name": "stderr",
     "output_type": "stream",
     "text": [
      "DEBUG flwr 2024-07-22 09:32:03,861 | server.py:236 | fit_round 4 received 10 results and 0 failures\n"
     ]
    },
    {
     "name": "stdout",
     "output_type": "stream",
     "text": [
      "Saving round 4 aggregated_parameters...\n",
      "Updated model\n"
     ]
    },
    {
     "name": "stderr",
     "output_type": "stream",
     "text": [
      "INFO flwr 2024-07-22 09:32:06,356 | server.py:125 | fit progress: (4, 1.7632626750252463, {'accuracy': 36.28787878787879}, 925.8830374859999)\n",
      "DEBUG flwr 2024-07-22 09:32:06,357 | server.py:173 | evaluate_round 4: strategy sampled 10 clients (out of 10)\n"
     ]
    },
    {
     "name": "stdout",
     "output_type": "stream",
     "text": [
      "Server-side evaluation loss 1.7632626750252463 / accuracy 36.28787878787879\n",
      "\u001b[36m(launch_and_evaluate pid=3014)\u001b[0m Run WITHOUT homomorphic encryption\n",
      "\u001b[36m(launch_and_evaluate pid=3014)\u001b[0m  To get the checkpoint\n",
      "\u001b[36m(launch_and_fit pid=2955)\u001b[0m \tTrain Epoch: 10 \tTrain_loss: 1.7473 | Train_acc: 40.8125 % | Validation_loss: 1.7419 | Validation_acc: 38.1944 %\u001b[32m [repeated 3x across cluster]\u001b[0m\n",
      "\u001b[36m(launch_and_fit pid=2955)\u001b[0m save graph in  results/FL/\n",
      "\u001b[36m(launch_and_evaluate pid=3013)\u001b[0m [Client 0] evaluate, config: {}\n",
      "\u001b[36m(launch_and_evaluate pid=3013)\u001b[0m Updated model\n",
      "\u001b[36m(launch_and_evaluate pid=3086)\u001b[0m Run WITHOUT homomorphic encryption\u001b[32m [repeated 2x across cluster]\u001b[0m\n",
      "\u001b[36m(launch_and_evaluate pid=3086)\u001b[0m  To get the checkpoint\u001b[32m [repeated 2x across cluster]\u001b[0m\n",
      "\u001b[36m(launch_and_evaluate pid=3014)\u001b[0m [Client 7] evaluate, config: {}\n",
      "\u001b[36m(launch_and_evaluate pid=3014)\u001b[0m Updated model\n",
      "\u001b[36m(launch_and_evaluate pid=3086)\u001b[0m [Client 5] evaluate, config: {}\n",
      "\u001b[36m(launch_and_evaluate pid=3086)\u001b[0m Updated model\n"
     ]
    },
    {
     "name": "stderr",
     "output_type": "stream",
     "text": [
      "\u001b[36m(launch_and_evaluate pid=3084)\u001b[0m /opt/conda/lib/python3.10/site-packages/sklearn/metrics/_ranking.py:1029: UndefinedMetricWarning: No positive samples in y_true, true positive value should be meaningless\n",
      "\u001b[36m(launch_and_evaluate pid=3084)\u001b[0m   warnings.warn(\n",
      "100%|\u001b[34m██████████\u001b[0m| 10/10 [00:25<00:00,  2.52s/it]\u001b[32m [repeated 3x across cluster]\u001b[0m\n"
     ]
    },
    {
     "name": "stdout",
     "output_type": "stream",
     "text": [
      "\u001b[36m(launch_and_evaluate pid=3157)\u001b[0m Run WITHOUT homomorphic encryption\u001b[32m [repeated 2x across cluster]\u001b[0m\n",
      "\u001b[36m(launch_and_evaluate pid=3157)\u001b[0m  To get the checkpoint\u001b[32m [repeated 2x across cluster]\u001b[0m\n",
      "\u001b[36m(launch_and_evaluate pid=3084)\u001b[0m [Client 9] evaluate, config: {}\n",
      "\u001b[36m(launch_and_evaluate pid=3084)\u001b[0m Updated model\n",
      "\u001b[36m(launch_and_evaluate pid=3157)\u001b[0m [Client 4] evaluate, config: {}\n",
      "\u001b[36m(launch_and_evaluate pid=3157)\u001b[0m Updated model\n"
     ]
    },
    {
     "name": "stderr",
     "output_type": "stream",
     "text": [
      "\u001b[36m(launch_and_evaluate pid=3157)\u001b[0m /opt/conda/lib/python3.10/site-packages/sklearn/metrics/_ranking.py:1029: UndefinedMetricWarning: No positive samples in y_true, true positive value should be meaningless\n",
      "\u001b[36m(launch_and_evaluate pid=3157)\u001b[0m   warnings.warn(\n"
     ]
    },
    {
     "name": "stdout",
     "output_type": "stream",
     "text": [
      "\u001b[36m(launch_and_evaluate pid=3225)\u001b[0m Run WITHOUT homomorphic encryption\u001b[32m [repeated 2x across cluster]\u001b[0m\n",
      "\u001b[36m(launch_and_evaluate pid=3225)\u001b[0m  To get the checkpoint\u001b[32m [repeated 2x across cluster]\u001b[0m\n",
      "\u001b[36m(launch_and_evaluate pid=3155)\u001b[0m [Client 6] evaluate, config: {}\n",
      "\u001b[36m(launch_and_evaluate pid=3155)\u001b[0m Updated model\n",
      "\u001b[36m(launch_and_evaluate pid=3225)\u001b[0m [Client 3] evaluate, config: {}\n",
      "\u001b[36m(launch_and_evaluate pid=3225)\u001b[0m Updated model\n",
      "\u001b[36m(launch_and_evaluate pid=3295)\u001b[0m Run WITHOUT homomorphic encryption\u001b[32m [repeated 2x across cluster]\u001b[0m\n",
      "\u001b[36m(launch_and_evaluate pid=3295)\u001b[0m  To get the checkpoint\u001b[32m [repeated 2x across cluster]\u001b[0m\n",
      "\u001b[36m(launch_and_evaluate pid=3227)\u001b[0m [Client 1] evaluate, config: {}\n",
      "\u001b[36m(launch_and_evaluate pid=3227)\u001b[0m Updated model\n",
      "\u001b[36m(launch_and_evaluate pid=3295)\u001b[0m [Client 8] evaluate, config: {}\n",
      "\u001b[36m(launch_and_evaluate pid=3295)\u001b[0m Updated model\n"
     ]
    },
    {
     "name": "stderr",
     "output_type": "stream",
     "text": [
      "\u001b[36m(launch_and_evaluate pid=3295)\u001b[0m /opt/conda/lib/python3.10/site-packages/sklearn/metrics/_ranking.py:1029: UndefinedMetricWarning: No positive samples in y_true, true positive value should be meaningless\n",
      "\u001b[36m(launch_and_evaluate pid=3295)\u001b[0m   warnings.warn(\n",
      "DEBUG flwr 2024-07-22 09:33:04,539 | server.py:187 | evaluate_round 4 received 10 results and 0 failures\n",
      "DEBUG flwr 2024-07-22 09:33:04,541 | server.py:222 | fit_round 5: strategy sampled 10 clients (out of 10)\n"
     ]
    },
    {
     "name": "stdout",
     "output_type": "stream",
     "text": [
      "\u001b[36m(launch_and_fit pid=3373)\u001b[0m Run WITHOUT homomorphic encryption\u001b[32m [repeated 2x across cluster]\u001b[0m\n",
      "\u001b[36m(launch_and_fit pid=3373)\u001b[0m  To get the checkpoint\u001b[32m [repeated 2x across cluster]\u001b[0m\n",
      "\u001b[36m(launch_and_evaluate pid=3297)\u001b[0m [Client 2] evaluate, config: {}\n",
      "\u001b[36m(launch_and_evaluate pid=3297)\u001b[0m Updated model\n",
      "\u001b[36m(launch_and_fit pid=3373)\u001b[0m [Client 8, round 5] fit, config: {'learning_rate': 0.003, 'batch_size': '16', 'server_round': 5, 'local_epochs': 10}\n",
      "\u001b[36m(launch_and_fit pid=3373)\u001b[0m Updated model\n"
     ]
    },
    {
     "name": "stderr",
     "output_type": "stream",
     "text": [
      "  0%|\u001b[34m          \u001b[0m| 0/10 [00:00<?, ?it/s]\n"
     ]
    },
    {
     "name": "stdout",
     "output_type": "stream",
     "text": [
      "\u001b[36m(launch_and_fit pid=3373)\u001b[0m \tTrain Epoch: 1 \tTrain_loss: 1.7837 | Train_acc: 34.3182 % | Validation_loss: 1.8267 | Validation_acc: 20.8333 %\n"
     ]
    },
    {
     "name": "stderr",
     "output_type": "stream",
     "text": [
      " 10%|\u001b[34m█         \u001b[0m| 1/10 [00:02<00:26,  2.96s/it]\n"
     ]
    },
    {
     "name": "stdout",
     "output_type": "stream",
     "text": [
      "\u001b[36m(launch_and_fit pid=3374)\u001b[0m Run WITHOUT homomorphic encryption\n",
      "\u001b[36m(launch_and_fit pid=3374)\u001b[0m  To get the checkpoint\n",
      "\u001b[36m(launch_and_fit pid=3374)\u001b[0m [Client 9, round 5] fit, config: {'learning_rate': 0.003, 'batch_size': '16', 'server_round': 5, 'local_epochs': 10}\n",
      "\u001b[36m(launch_and_fit pid=3374)\u001b[0m Updated model\n"
     ]
    },
    {
     "name": "stderr",
     "output_type": "stream",
     "text": [
      "  0%|\u001b[34m          \u001b[0m| 0/10 [00:00<?, ?it/s]\n"
     ]
    },
    {
     "name": "stdout",
     "output_type": "stream",
     "text": [
      "\u001b[36m(launch_and_fit pid=3373)\u001b[0m \tTrain Epoch: 3 \tTrain_loss: 1.7714 | Train_acc: 34.4886 % | Validation_loss: 1.7968 | Validation_acc: 25.0000 %\u001b[32m [repeated 4x across cluster]\u001b[0m\n"
     ]
    },
    {
     "name": "stderr",
     "output_type": "stream",
     "text": [
      " 30%|\u001b[34m███       \u001b[0m| 3/10 [00:08<00:18,  2.61s/it]\u001b[32m [repeated 4x across cluster]\u001b[0m\n"
     ]
    },
    {
     "name": "stdout",
     "output_type": "stream",
     "text": [
      "\u001b[36m(launch_and_fit pid=3373)\u001b[0m \tTrain Epoch: 5 \tTrain_loss: 1.7550 | Train_acc: 37.4148 % | Validation_loss: 1.7896 | Validation_acc: 27.0833 %\u001b[32m [repeated 4x across cluster]\u001b[0m\n"
     ]
    },
    {
     "name": "stderr",
     "output_type": "stream",
     "text": [
      " 50%|\u001b[34m█████     \u001b[0m| 5/10 [00:13<00:13,  2.66s/it]\u001b[32m [repeated 4x across cluster]\u001b[0m\n",
      " 70%|\u001b[34m███████   \u001b[0m| 7/10 [00:18<00:07,  2.54s/it]\u001b[32m [repeated 4x across cluster]\u001b[0m\n"
     ]
    },
    {
     "name": "stdout",
     "output_type": "stream",
     "text": [
      "\u001b[36m(launch_and_fit pid=3374)\u001b[0m \tTrain Epoch: 7 \tTrain_loss: 1.7674 | Train_acc: 36.7083 % | Validation_loss: 1.7541 | Validation_acc: 34.0278 %\u001b[32m [repeated 4x across cluster]\u001b[0m\n"
     ]
    },
    {
     "name": "stderr",
     "output_type": "stream",
     "text": [
      " 90%|\u001b[34m█████████ \u001b[0m| 9/10 [00:23<00:02,  2.53s/it]\u001b[32m [repeated 4x across cluster]\u001b[0m\n"
     ]
    },
    {
     "name": "stdout",
     "output_type": "stream",
     "text": [
      "\u001b[36m(launch_and_fit pid=3374)\u001b[0m \tTrain Epoch: 9 \tTrain_loss: 1.7456 | Train_acc: 39.4792 % | Validation_loss: 1.7442 | Validation_acc: 38.1944 %\u001b[32m [repeated 4x across cluster]\u001b[0m\n",
      "\u001b[36m(launch_and_fit pid=3374)\u001b[0m save graph in  results/FL/\n",
      "\u001b[36m(launch_and_fit pid=3447)\u001b[0m Run WITHOUT homomorphic encryption\n",
      "\u001b[36m(launch_and_fit pid=3447)\u001b[0m  To get the checkpoint\n",
      "\u001b[36m(launch_and_fit pid=3373)\u001b[0m \tTrain Epoch: 10 \tTrain_loss: 1.7504 | Train_acc: 36.5057 % | Validation_loss: 1.7975 | Validation_acc: 22.9167 %\u001b[32m [repeated 3x across cluster]\u001b[0m\n",
      "\u001b[36m(launch_and_fit pid=3373)\u001b[0m save graph in  results/FL/\n",
      "\u001b[36m(launch_and_fit pid=3447)\u001b[0m [Client 0, round 5] fit, config: {'learning_rate': 0.003, 'batch_size': '16', 'server_round': 5, 'local_epochs': 10}\n",
      "\u001b[36m(launch_and_fit pid=3447)\u001b[0m Updated model\n"
     ]
    },
    {
     "name": "stderr",
     "output_type": "stream",
     "text": [
      "  0%|\u001b[34m          \u001b[0m| 0/10 [00:00<?, ?it/s]\n",
      "100%|\u001b[34m██████████\u001b[0m| 10/10 [00:26<00:00,  2.65s/it]\u001b[32m [repeated 3x across cluster]\u001b[0m\n"
     ]
    },
    {
     "name": "stdout",
     "output_type": "stream",
     "text": [
      "\u001b[36m(launch_and_fit pid=3449)\u001b[0m Run WITHOUT homomorphic encryption\n",
      "\u001b[36m(launch_and_fit pid=3449)\u001b[0m  To get the checkpoint\n",
      "\u001b[36m(launch_and_fit pid=3447)\u001b[0m \tTrain Epoch: 2 \tTrain_loss: 1.7476 | Train_acc: 39.1477 % | Validation_loss: 1.8081 | Validation_acc: 27.0833 %\u001b[32m [repeated 3x across cluster]\u001b[0m\n",
      "\u001b[36m(launch_and_fit pid=3449)\u001b[0m [Client 7, round 5] fit, config: {'learning_rate': 0.003, 'batch_size': '16', 'server_round': 5, 'local_epochs': 10}\n",
      "\u001b[36m(launch_and_fit pid=3449)\u001b[0m Updated model\n"
     ]
    },
    {
     "name": "stderr",
     "output_type": "stream",
     "text": [
      "  0%|\u001b[34m          \u001b[0m| 0/10 [00:00<?, ?it/s]\n",
      " 20%|\u001b[34m██        \u001b[0m| 2/10 [00:05<00:21,  2.69s/it]\u001b[32m [repeated 3x across cluster]\u001b[0m\n"
     ]
    },
    {
     "name": "stdout",
     "output_type": "stream",
     "text": [
      "\u001b[36m(launch_and_fit pid=3447)\u001b[0m \tTrain Epoch: 4 \tTrain_loss: 1.7374 | Train_acc: 37.7557 % | Validation_loss: 1.8218 | Validation_acc: 20.8333 %\u001b[32m [repeated 4x across cluster]\u001b[0m\n"
     ]
    },
    {
     "name": "stderr",
     "output_type": "stream",
     "text": [
      " 40%|\u001b[34m████      \u001b[0m| 4/10 [00:10<00:15,  2.66s/it]\u001b[32m [repeated 4x across cluster]\u001b[0m\n"
     ]
    },
    {
     "name": "stdout",
     "output_type": "stream",
     "text": [
      "\u001b[36m(launch_and_fit pid=3447)\u001b[0m \tTrain Epoch: 6 \tTrain_loss: 1.7539 | Train_acc: 36.9886 % | Validation_loss: 1.9143 | Validation_acc: 22.9167 %\u001b[32m [repeated 4x across cluster]\u001b[0m\n"
     ]
    },
    {
     "name": "stderr",
     "output_type": "stream",
     "text": [
      " 60%|\u001b[34m██████    \u001b[0m| 6/10 [00:15<00:10,  2.62s/it]\u001b[32m [repeated 4x across cluster]\u001b[0m\n"
     ]
    },
    {
     "name": "stdout",
     "output_type": "stream",
     "text": [
      "\u001b[36m(launch_and_fit pid=3447)\u001b[0m \tTrain Epoch: 8 \tTrain_loss: 1.7150 | Train_acc: 37.2727 % | Validation_loss: 1.8418 | Validation_acc: 22.9167 %\u001b[32m [repeated 4x across cluster]\u001b[0m\n"
     ]
    },
    {
     "name": "stderr",
     "output_type": "stream",
     "text": [
      " 80%|\u001b[34m████████  \u001b[0m| 8/10 [00:21<00:05,  2.65s/it]\u001b[32m [repeated 4x across cluster]\u001b[0m\n"
     ]
    },
    {
     "name": "stdout",
     "output_type": "stream",
     "text": [
      "\u001b[36m(launch_and_fit pid=3447)\u001b[0m save graph in  results/FL/\n",
      "\u001b[36m(launch_and_fit pid=3447)\u001b[0m \tTrain Epoch: 10 \tTrain_loss: 1.7018 | Train_acc: 38.3807 % | Validation_loss: 1.8775 | Validation_acc: 22.9167 %\u001b[32m [repeated 4x across cluster]\u001b[0m\n"
     ]
    },
    {
     "name": "stderr",
     "output_type": "stream",
     "text": [
      "100%|\u001b[34m██████████\u001b[0m| 10/10 [00:26<00:00,  2.65s/it]\u001b[32m [repeated 4x across cluster]\u001b[0m\n"
     ]
    },
    {
     "name": "stdout",
     "output_type": "stream",
     "text": [
      "\u001b[36m(launch_and_fit pid=3521)\u001b[0m Run WITHOUT homomorphic encryption\n",
      "\u001b[36m(launch_and_fit pid=3521)\u001b[0m  To get the checkpoint\n",
      "\u001b[36m(launch_and_fit pid=3449)\u001b[0m save graph in  results/FL/\n",
      "\u001b[36m(launch_and_fit pid=3449)\u001b[0m \tTrain Epoch: 10 \tTrain_loss: 1.7703 | Train_acc: 36.3636 % | Validation_loss: 1.6651 | Validation_acc: 45.1389 %\n"
     ]
    },
    {
     "name": "stderr",
     "output_type": "stream",
     "text": [
      "  0%|\u001b[34m          \u001b[0m| 0/10 [00:00<?, ?it/s]\n",
      "100%|\u001b[34m██████████\u001b[0m| 10/10 [00:26<00:00,  2.64s/it]\n"
     ]
    },
    {
     "name": "stdout",
     "output_type": "stream",
     "text": [
      "\u001b[36m(launch_and_fit pid=3521)\u001b[0m [Client 4, round 5] fit, config: {'learning_rate': 0.003, 'batch_size': '16', 'server_round': 5, 'local_epochs': 10}\n",
      "\u001b[36m(launch_and_fit pid=3521)\u001b[0m Updated model\n"
     ]
    },
    {
     "name": "stderr",
     "output_type": "stream",
     "text": [
      " 10%|\u001b[34m█         \u001b[0m| 1/10 [00:03<00:27,  3.08s/it]\n"
     ]
    },
    {
     "name": "stdout",
     "output_type": "stream",
     "text": [
      "\u001b[36m(launch_and_fit pid=3521)\u001b[0m \tTrain Epoch: 1 \tTrain_loss: 1.7973 | Train_acc: 32.5852 % | Validation_loss: 1.7405 | Validation_acc: 44.4444 %\n"
     ]
    },
    {
     "name": "stderr",
     "output_type": "stream",
     "text": [
      "  0%|\u001b[34m          \u001b[0m| 0/10 [00:00<?, ?it/s]\n"
     ]
    },
    {
     "name": "stdout",
     "output_type": "stream",
     "text": [
      "\u001b[36m(launch_and_fit pid=3523)\u001b[0m Run WITHOUT homomorphic encryption\n",
      "\u001b[36m(launch_and_fit pid=3523)\u001b[0m  To get the checkpoint\n",
      "\u001b[36m(launch_and_fit pid=3523)\u001b[0m [Client 3, round 5] fit, config: {'learning_rate': 0.003, 'batch_size': '16', 'server_round': 5, 'local_epochs': 10}\n",
      "\u001b[36m(launch_and_fit pid=3523)\u001b[0m Updated model\n"
     ]
    },
    {
     "name": "stderr",
     "output_type": "stream",
     "text": [
      " 30%|\u001b[34m███       \u001b[0m| 3/10 [00:08<00:19,  2.78s/it]\u001b[32m [repeated 4x across cluster]\u001b[0m\n"
     ]
    },
    {
     "name": "stdout",
     "output_type": "stream",
     "text": [
      "\u001b[36m(launch_and_fit pid=3521)\u001b[0m \tTrain Epoch: 3 \tTrain_loss: 1.7766 | Train_acc: 34.0057 % | Validation_loss: 1.7402 | Validation_acc: 44.4444 %\u001b[32m [repeated 4x across cluster]\u001b[0m\n"
     ]
    },
    {
     "name": "stderr",
     "output_type": "stream",
     "text": [
      " 50%|\u001b[34m█████     \u001b[0m| 5/10 [00:13<00:13,  2.66s/it]\u001b[32m [repeated 4x across cluster]\u001b[0m\n"
     ]
    },
    {
     "name": "stdout",
     "output_type": "stream",
     "text": [
      "\u001b[36m(launch_and_fit pid=3523)\u001b[0m \tTrain Epoch: 5 \tTrain_loss: 1.7704 | Train_acc: 35.2557 % | Validation_loss: 1.7855 | Validation_acc: 40.2778 %\u001b[32m [repeated 4x across cluster]\u001b[0m\n"
     ]
    },
    {
     "name": "stderr",
     "output_type": "stream",
     "text": [
      " 70%|\u001b[34m███████   \u001b[0m| 7/10 [00:18<00:07,  2.63s/it]\u001b[32m [repeated 4x across cluster]\u001b[0m\n"
     ]
    },
    {
     "name": "stdout",
     "output_type": "stream",
     "text": [
      "\u001b[36m(launch_and_fit pid=3523)\u001b[0m \tTrain Epoch: 7 \tTrain_loss: 1.7653 | Train_acc: 33.5227 % | Validation_loss: 1.8343 | Validation_acc: 31.9444 %\u001b[32m [repeated 4x across cluster]\u001b[0m\n"
     ]
    },
    {
     "name": "stderr",
     "output_type": "stream",
     "text": [
      " 90%|\u001b[34m█████████ \u001b[0m| 9/10 [00:24<00:02,  2.61s/it]\u001b[32m [repeated 5x across cluster]\u001b[0m\n"
     ]
    },
    {
     "name": "stdout",
     "output_type": "stream",
     "text": [
      "\u001b[36m(launch_and_fit pid=3521)\u001b[0m \tTrain Epoch: 9 \tTrain_loss: 1.7538 | Train_acc: 36.4489 % | Validation_loss: 1.7234 | Validation_acc: 44.4444 %\u001b[32m [repeated 5x across cluster]\u001b[0m\n",
      "\u001b[36m(launch_and_fit pid=3523)\u001b[0m save graph in  results/FL/\n",
      "\u001b[36m(launch_and_fit pid=3595)\u001b[0m Run WITHOUT homomorphic encryption\n",
      "\u001b[36m(launch_and_fit pid=3595)\u001b[0m  To get the checkpoint\n",
      "\u001b[36m(launch_and_fit pid=3521)\u001b[0m \tTrain Epoch: 10 \tTrain_loss: 1.7555 | Train_acc: 34.7727 % | Validation_loss: 1.7184 | Validation_acc: 44.4444 %\u001b[32m [repeated 2x across cluster]\u001b[0m\n",
      "\u001b[36m(launch_and_fit pid=3521)\u001b[0m save graph in  results/FL/\n",
      "\u001b[36m(launch_and_fit pid=3595)\u001b[0m [Client 5, round 5] fit, config: {'learning_rate': 0.003, 'batch_size': '16', 'server_round': 5, 'local_epochs': 10}\n",
      "\u001b[36m(launch_and_fit pid=3595)\u001b[0m Updated model\n"
     ]
    },
    {
     "name": "stderr",
     "output_type": "stream",
     "text": [
      "  0%|\u001b[34m          \u001b[0m| 0/10 [00:00<?, ?it/s]\n",
      "100%|\u001b[34m██████████\u001b[0m| 10/10 [00:26<00:00,  2.67s/it]\u001b[32m [repeated 2x across cluster]\u001b[0m\n"
     ]
    },
    {
     "name": "stdout",
     "output_type": "stream",
     "text": [
      "\u001b[36m(launch_and_fit pid=3597)\u001b[0m Run WITHOUT homomorphic encryption\n",
      "\u001b[36m(launch_and_fit pid=3597)\u001b[0m  To get the checkpoint\n",
      "\u001b[36m(launch_and_fit pid=3595)\u001b[0m \tTrain Epoch: 2 \tTrain_loss: 1.8041 | Train_acc: 30.9091 % | Validation_loss: 1.8245 | Validation_acc: 31.9444 %\u001b[32m [repeated 3x across cluster]\u001b[0m\n",
      "\u001b[36m(launch_and_fit pid=3597)\u001b[0m [Client 2, round 5] fit, config: {'learning_rate': 0.003, 'batch_size': '16', 'server_round': 5, 'local_epochs': 10}\n",
      "\u001b[36m(launch_and_fit pid=3597)\u001b[0m Updated model\n"
     ]
    },
    {
     "name": "stderr",
     "output_type": "stream",
     "text": [
      "  0%|\u001b[34m          \u001b[0m| 0/10 [00:00<?, ?it/s]\n",
      " 20%|\u001b[34m██        \u001b[0m| 2/10 [00:05<00:21,  2.69s/it]\u001b[32m [repeated 3x across cluster]\u001b[0m\n"
     ]
    },
    {
     "name": "stdout",
     "output_type": "stream",
     "text": [
      "\u001b[36m(launch_and_fit pid=3595)\u001b[0m \tTrain Epoch: 4 \tTrain_loss: 1.7948 | Train_acc: 32.1591 % | Validation_loss: 1.8172 | Validation_acc: 20.8333 %\u001b[32m [repeated 4x across cluster]\u001b[0m\n"
     ]
    },
    {
     "name": "stderr",
     "output_type": "stream",
     "text": [
      " 40%|\u001b[34m████      \u001b[0m| 4/10 [00:11<00:16,  2.82s/it]\u001b[32m [repeated 4x across cluster]\u001b[0m\n"
     ]
    },
    {
     "name": "stdout",
     "output_type": "stream",
     "text": [
      "\u001b[36m(launch_and_fit pid=3595)\u001b[0m \tTrain Epoch: 6 \tTrain_loss: 1.7746 | Train_acc: 34.4602 % | Validation_loss: 1.7773 | Validation_acc: 42.3611 %\u001b[32m [repeated 4x across cluster]\u001b[0m\n"
     ]
    },
    {
     "name": "stderr",
     "output_type": "stream",
     "text": [
      " 60%|\u001b[34m██████    \u001b[0m| 6/10 [00:16<00:10,  2.65s/it]\u001b[32m [repeated 4x across cluster]\u001b[0m\n"
     ]
    },
    {
     "name": "stdout",
     "output_type": "stream",
     "text": [
      "\u001b[36m(launch_and_fit pid=3595)\u001b[0m \tTrain Epoch: 8 \tTrain_loss: 1.7711 | Train_acc: 33.0682 % | Validation_loss: 1.7774 | Validation_acc: 36.1111 %\u001b[32m [repeated 4x across cluster]\u001b[0m\n"
     ]
    },
    {
     "name": "stderr",
     "output_type": "stream",
     "text": [
      " 80%|\u001b[34m████████  \u001b[0m| 8/10 [00:21<00:05,  2.57s/it]\u001b[32m [repeated 4x across cluster]\u001b[0m\n"
     ]
    },
    {
     "name": "stdout",
     "output_type": "stream",
     "text": [
      "\u001b[36m(launch_and_fit pid=3595)\u001b[0m save graph in  results/FL/\n",
      "\u001b[36m(launch_and_fit pid=3595)\u001b[0m \tTrain Epoch: 10 \tTrain_loss: 1.7698 | Train_acc: 33.2386 % | Validation_loss: 1.7775 | Validation_acc: 27.0833 %\u001b[32m [repeated 4x across cluster]\u001b[0m\n"
     ]
    },
    {
     "name": "stderr",
     "output_type": "stream",
     "text": [
      "100%|\u001b[34m██████████\u001b[0m| 10/10 [00:26<00:00,  2.66s/it]\u001b[32m [repeated 4x across cluster]\u001b[0m\n"
     ]
    },
    {
     "name": "stdout",
     "output_type": "stream",
     "text": [
      "\u001b[36m(launch_and_fit pid=3669)\u001b[0m Run WITHOUT homomorphic encryption\n",
      "\u001b[36m(launch_and_fit pid=3669)\u001b[0m  To get the checkpoint\n",
      "\u001b[36m(launch_and_fit pid=3597)\u001b[0m save graph in  results/FL/\n",
      "\u001b[36m(launch_and_fit pid=3597)\u001b[0m \tTrain Epoch: 10 \tTrain_loss: 1.7268 | Train_acc: 37.3864 % | Validation_loss: 1.8054 | Validation_acc: 38.8889 %\n",
      "\u001b[36m(launch_and_fit pid=3669)\u001b[0m [Client 6, round 5] fit, config: {'learning_rate': 0.003, 'batch_size': '16', 'server_round': 5, 'local_epochs': 10}\n",
      "\u001b[36m(launch_and_fit pid=3669)\u001b[0m Updated model\n"
     ]
    },
    {
     "name": "stderr",
     "output_type": "stream",
     "text": [
      "  0%|\u001b[34m          \u001b[0m| 0/10 [00:00<?, ?it/s]\n",
      "100%|\u001b[34m██████████\u001b[0m| 10/10 [00:27<00:00,  2.72s/it]\n",
      " 10%|\u001b[34m█         \u001b[0m| 1/10 [00:03<00:28,  3.18s/it]\n"
     ]
    },
    {
     "name": "stdout",
     "output_type": "stream",
     "text": [
      "\u001b[36m(launch_and_fit pid=3669)\u001b[0m \tTrain Epoch: 1 \tTrain_loss: 1.7556 | Train_acc: 41.7898 % | Validation_loss: 1.8286 | Validation_acc: 29.8611 %\n"
     ]
    },
    {
     "name": "stderr",
     "output_type": "stream",
     "text": [
      "  0%|\u001b[34m          \u001b[0m| 0/10 [00:00<?, ?it/s]\n"
     ]
    },
    {
     "name": "stdout",
     "output_type": "stream",
     "text": [
      "\u001b[36m(launch_and_fit pid=3694)\u001b[0m Run WITHOUT homomorphic encryption\n",
      "\u001b[36m(launch_and_fit pid=3694)\u001b[0m  To get the checkpoint\n",
      "\u001b[36m(launch_and_fit pid=3694)\u001b[0m [Client 1, round 5] fit, config: {'learning_rate': 0.003, 'batch_size': '16', 'server_round': 5, 'local_epochs': 10}\n",
      "\u001b[36m(launch_and_fit pid=3694)\u001b[0m Updated model\n"
     ]
    },
    {
     "name": "stderr",
     "output_type": "stream",
     "text": [
      " 30%|\u001b[34m███       \u001b[0m| 3/10 [00:07<00:18,  2.59s/it]\u001b[32m [repeated 5x across cluster]\u001b[0m\n"
     ]
    },
    {
     "name": "stdout",
     "output_type": "stream",
     "text": [
      "\u001b[36m(launch_and_fit pid=3694)\u001b[0m \tTrain Epoch: 3 \tTrain_loss: 1.7969 | Train_acc: 31.3636 % | Validation_loss: 1.9360 | Validation_acc: 18.7500 %\u001b[32m [repeated 5x across cluster]\u001b[0m\n"
     ]
    },
    {
     "name": "stderr",
     "output_type": "stream",
     "text": [
      " 50%|\u001b[34m█████     \u001b[0m| 5/10 [00:13<00:12,  2.57s/it]\u001b[32m [repeated 4x across cluster]\u001b[0m\n"
     ]
    },
    {
     "name": "stdout",
     "output_type": "stream",
     "text": [
      "\u001b[36m(launch_and_fit pid=3694)\u001b[0m \tTrain Epoch: 5 \tTrain_loss: 1.7863 | Train_acc: 31.5057 % | Validation_loss: 1.9750 | Validation_acc: 25.6944 %\u001b[32m [repeated 4x across cluster]\u001b[0m\n"
     ]
    },
    {
     "name": "stderr",
     "output_type": "stream",
     "text": [
      " 70%|\u001b[34m███████   \u001b[0m| 7/10 [00:17<00:07,  2.52s/it]\u001b[32m [repeated 4x across cluster]\u001b[0m\n"
     ]
    },
    {
     "name": "stdout",
     "output_type": "stream",
     "text": [
      "\u001b[36m(launch_and_fit pid=3694)\u001b[0m \tTrain Epoch: 7 \tTrain_loss: 1.7789 | Train_acc: 33.2386 % | Validation_loss: 1.9500 | Validation_acc: 16.6667 %\u001b[32m [repeated 4x across cluster]\u001b[0m\n"
     ]
    },
    {
     "name": "stderr",
     "output_type": "stream",
     "text": [
      " 90%|\u001b[34m█████████ \u001b[0m| 9/10 [00:23<00:02,  2.59s/it]\u001b[32m [repeated 4x across cluster]\u001b[0m\n"
     ]
    },
    {
     "name": "stdout",
     "output_type": "stream",
     "text": [
      "\u001b[36m(launch_and_fit pid=3694)\u001b[0m \tTrain Epoch: 9 \tTrain_loss: 1.7700 | Train_acc: 34.4886 % | Validation_loss: 1.8543 | Validation_acc: 34.0278 %\u001b[32m [repeated 4x across cluster]\u001b[0m\n",
      "\u001b[36m(launch_and_fit pid=3669)\u001b[0m save graph in  results/FL/\n"
     ]
    },
    {
     "name": "stderr",
     "output_type": "stream",
     "text": [
      "DEBUG flwr 2024-07-22 09:36:12,653 | server.py:236 | fit_round 5 received 10 results and 0 failures\n"
     ]
    },
    {
     "name": "stdout",
     "output_type": "stream",
     "text": [
      "Saving round 5 aggregated_parameters...\n",
      "Updated model\n"
     ]
    },
    {
     "name": "stderr",
     "output_type": "stream",
     "text": [
      "INFO flwr 2024-07-22 09:36:15,025 | server.py:125 | fit progress: (5, 1.7589990962635387, {'accuracy': 33.78787878787878}, 1174.5521229619999)\n",
      "DEBUG flwr 2024-07-22 09:36:15,026 | server.py:173 | evaluate_round 5: strategy sampled 10 clients (out of 10)\n"
     ]
    },
    {
     "name": "stdout",
     "output_type": "stream",
     "text": [
      "Server-side evaluation loss 1.7589990962635387 / accuracy 33.78787878787878\n",
      "\u001b[36m(launch_and_evaluate pid=3752)\u001b[0m Run WITHOUT homomorphic encryption\n",
      "\u001b[36m(launch_and_evaluate pid=3752)\u001b[0m  To get the checkpoint\n",
      "\u001b[36m(launch_and_fit pid=3694)\u001b[0m \tTrain Epoch: 10 \tTrain_loss: 1.7659 | Train_acc: 33.5511 % | Validation_loss: 1.9819 | Validation_acc: 20.8333 %\u001b[32m [repeated 2x across cluster]\u001b[0m\n",
      "\u001b[36m(launch_and_fit pid=3694)\u001b[0m save graph in  results/FL/\n",
      "\u001b[36m(launch_and_evaluate pid=3752)\u001b[0m [Client 2] evaluate, config: {}\n",
      "\u001b[36m(launch_and_evaluate pid=3752)\u001b[0m Updated model\n",
      "\u001b[36m(launch_and_evaluate pid=3823)\u001b[0m Run WITHOUT homomorphic encryption\u001b[32m [repeated 2x across cluster]\u001b[0m\n",
      "\u001b[36m(launch_and_evaluate pid=3823)\u001b[0m  To get the checkpoint\u001b[32m [repeated 2x across cluster]\u001b[0m\n",
      "\u001b[36m(launch_and_evaluate pid=3753)\u001b[0m [Client 0] evaluate, config: {}\n",
      "\u001b[36m(launch_and_evaluate pid=3753)\u001b[0m Updated model\n",
      "\u001b[36m(launch_and_evaluate pid=3823)\u001b[0m [Client 4] evaluate, config: {}\n",
      "\u001b[36m(launch_and_evaluate pid=3823)\u001b[0m Updated model\n"
     ]
    },
    {
     "name": "stderr",
     "output_type": "stream",
     "text": [
      "\u001b[36m(launch_and_evaluate pid=3823)\u001b[0m /opt/conda/lib/python3.10/site-packages/sklearn/metrics/_ranking.py:1029: UndefinedMetricWarning: No positive samples in y_true, true positive value should be meaningless\n",
      "\u001b[36m(launch_and_evaluate pid=3823)\u001b[0m   warnings.warn(\n",
      "100%|\u001b[34m██████████\u001b[0m| 10/10 [00:25<00:00,  2.57s/it]\u001b[32m [repeated 2x across cluster]\u001b[0m\n"
     ]
    },
    {
     "name": "stdout",
     "output_type": "stream",
     "text": [
      "\u001b[36m(launch_and_evaluate pid=3895)\u001b[0m Run WITHOUT homomorphic encryption\u001b[32m [repeated 2x across cluster]\u001b[0m\n",
      "\u001b[36m(launch_and_evaluate pid=3895)\u001b[0m  To get the checkpoint\u001b[32m [repeated 2x across cluster]\u001b[0m\n",
      "\u001b[36m(launch_and_evaluate pid=3825)\u001b[0m [Client 8] evaluate, config: {}\n",
      "\u001b[36m(launch_and_evaluate pid=3825)\u001b[0m Updated model\n",
      "\u001b[36m(launch_and_evaluate pid=3895)\u001b[0m [Client 3] evaluate, config: {}\n",
      "\u001b[36m(launch_and_evaluate pid=3895)\u001b[0m Updated model\n",
      "\u001b[36m(launch_and_evaluate pid=3964)\u001b[0m Run WITHOUT homomorphic encryption\u001b[32m [repeated 2x across cluster]\u001b[0m\n",
      "\u001b[36m(launch_and_evaluate pid=3964)\u001b[0m  To get the checkpoint\u001b[32m [repeated 2x across cluster]\u001b[0m\n",
      "\u001b[36m(launch_and_evaluate pid=3896)\u001b[0m [Client 6] evaluate, config: {}\n",
      "\u001b[36m(launch_and_evaluate pid=3896)\u001b[0m Updated model\n",
      "\u001b[36m(launch_and_evaluate pid=3964)\u001b[0m [Client 5] evaluate, config: {}\n",
      "\u001b[36m(launch_and_evaluate pid=3964)\u001b[0m Updated model\n"
     ]
    },
    {
     "name": "stderr",
     "output_type": "stream",
     "text": [
      "\u001b[36m(launch_and_evaluate pid=3966)\u001b[0m /opt/conda/lib/python3.10/site-packages/sklearn/metrics/_ranking.py:1029: UndefinedMetricWarning: No positive samples in y_true, true positive value should be meaningless\u001b[32m [repeated 2x across cluster]\u001b[0m\n",
      "\u001b[36m(launch_and_evaluate pid=3966)\u001b[0m   warnings.warn(\u001b[32m [repeated 2x across cluster]\u001b[0m\n"
     ]
    },
    {
     "name": "stdout",
     "output_type": "stream",
     "text": [
      "\u001b[36m(launch_and_evaluate pid=4034)\u001b[0m Run WITHOUT homomorphic encryption\u001b[32m [repeated 2x across cluster]\u001b[0m\n",
      "\u001b[36m(launch_and_evaluate pid=4034)\u001b[0m  To get the checkpoint\u001b[32m [repeated 2x across cluster]\u001b[0m\n",
      "\u001b[36m(launch_and_evaluate pid=3966)\u001b[0m [Client 9] evaluate, config: {}\n",
      "\u001b[36m(launch_and_evaluate pid=3966)\u001b[0m Updated model\n",
      "\u001b[36m(launch_and_evaluate pid=4034)\u001b[0m [Client 7] evaluate, config: {}\n",
      "\u001b[36m(launch_and_evaluate pid=4034)\u001b[0m Updated model\n"
     ]
    },
    {
     "name": "stderr",
     "output_type": "stream",
     "text": [
      "DEBUG flwr 2024-07-22 09:37:14,920 | server.py:187 | evaluate_round 5 received 10 results and 0 failures\n",
      "DEBUG flwr 2024-07-22 09:37:14,921 | server.py:222 | fit_round 6: strategy sampled 10 clients (out of 10)\n"
     ]
    },
    {
     "name": "stdout",
     "output_type": "stream",
     "text": [
      "\u001b[36m(launch_and_fit pid=4113)\u001b[0m Run WITHOUT homomorphic encryption\u001b[32m [repeated 2x across cluster]\u001b[0m\n",
      "\u001b[36m(launch_and_fit pid=4113)\u001b[0m  To get the checkpoint\u001b[32m [repeated 2x across cluster]\u001b[0m\n",
      "\u001b[36m(launch_and_evaluate pid=4036)\u001b[0m [Client 1] evaluate, config: {}\n",
      "\u001b[36m(launch_and_evaluate pid=4036)\u001b[0m Updated model\n",
      "\u001b[36m(launch_and_fit pid=4113)\u001b[0m [Client 4, round 6] fit, config: {'learning_rate': 0.003, 'batch_size': '16', 'server_round': 6, 'local_epochs': 10}\n",
      "\u001b[36m(launch_and_fit pid=4113)\u001b[0m Updated model\n"
     ]
    },
    {
     "name": "stderr",
     "output_type": "stream",
     "text": [
      "  0%|\u001b[34m          \u001b[0m| 0/10 [00:00<?, ?it/s]\n"
     ]
    },
    {
     "name": "stdout",
     "output_type": "stream",
     "text": [
      "\u001b[36m(launch_and_fit pid=4113)\u001b[0m \tTrain Epoch: 1 \tTrain_loss: 1.8091 | Train_acc: 31.1932 % | Validation_loss: 1.7227 | Validation_acc: 42.3611 %\n"
     ]
    },
    {
     "name": "stderr",
     "output_type": "stream",
     "text": [
      " 10%|\u001b[34m█         \u001b[0m| 1/10 [00:02<00:25,  2.84s/it]\n"
     ]
    },
    {
     "name": "stdout",
     "output_type": "stream",
     "text": [
      "\u001b[36m(launch_and_fit pid=4114)\u001b[0m Run WITHOUT homomorphic encryption\n",
      "\u001b[36m(launch_and_fit pid=4114)\u001b[0m  To get the checkpoint\n",
      "\u001b[36m(launch_and_fit pid=4114)\u001b[0m [Client 9, round 6] fit, config: {'learning_rate': 0.003, 'batch_size': '16', 'server_round': 6, 'local_epochs': 10}\n",
      "\u001b[36m(launch_and_fit pid=4114)\u001b[0m Updated model\n"
     ]
    },
    {
     "name": "stderr",
     "output_type": "stream",
     "text": [
      "  0%|\u001b[34m          \u001b[0m| 0/10 [00:00<?, ?it/s]\n"
     ]
    },
    {
     "name": "stdout",
     "output_type": "stream",
     "text": [
      "\u001b[36m(launch_and_fit pid=4113)\u001b[0m \tTrain Epoch: 3 \tTrain_loss: 1.7620 | Train_acc: 35.2557 % | Validation_loss: 1.7024 | Validation_acc: 42.3611 %\u001b[32m [repeated 4x across cluster]\u001b[0m\n"
     ]
    },
    {
     "name": "stderr",
     "output_type": "stream",
     "text": [
      " 30%|\u001b[34m███       \u001b[0m| 3/10 [00:07<00:18,  2.61s/it]\u001b[32m [repeated 4x across cluster]\u001b[0m\n"
     ]
    },
    {
     "name": "stdout",
     "output_type": "stream",
     "text": [
      "\u001b[36m(launch_and_fit pid=4113)\u001b[0m \tTrain Epoch: 5 \tTrain_loss: 1.7584 | Train_acc: 35.0852 % | Validation_loss: 1.6967 | Validation_acc: 40.2778 %\u001b[32m [repeated 4x across cluster]\u001b[0m\n"
     ]
    },
    {
     "name": "stderr",
     "output_type": "stream",
     "text": [
      " 50%|\u001b[34m█████     \u001b[0m| 5/10 [00:13<00:12,  2.58s/it]\u001b[32m [repeated 4x across cluster]\u001b[0m\n"
     ]
    },
    {
     "name": "stdout",
     "output_type": "stream",
     "text": [
      "\u001b[36m(launch_and_fit pid=4113)\u001b[0m \tTrain Epoch: 8 \tTrain_loss: 1.7523 | Train_acc: 34.3466 % | Validation_loss: 1.6967 | Validation_acc: 44.4444 %\u001b[32m [repeated 6x across cluster]\u001b[0m\n"
     ]
    },
    {
     "name": "stderr",
     "output_type": "stream",
     "text": [
      " 80%|\u001b[34m████████  \u001b[0m| 8/10 [00:20<00:05,  2.54s/it]\u001b[32m [repeated 6x across cluster]\u001b[0m\n"
     ]
    },
    {
     "name": "stdout",
     "output_type": "stream",
     "text": [
      "\u001b[36m(launch_and_fit pid=4113)\u001b[0m save graph in  results/FL/\n",
      "\u001b[36m(launch_and_fit pid=4113)\u001b[0m \tTrain Epoch: 10 \tTrain_loss: 1.7426 | Train_acc: 35.2557 % | Validation_loss: 1.6957 | Validation_acc: 44.4444 %\u001b[32m [repeated 4x across cluster]\u001b[0m\n"
     ]
    },
    {
     "name": "stderr",
     "output_type": "stream",
     "text": [
      "100%|\u001b[34m██████████\u001b[0m| 10/10 [00:25<00:00,  2.59s/it]\u001b[32m [repeated 4x across cluster]\u001b[0m\n"
     ]
    },
    {
     "name": "stdout",
     "output_type": "stream",
     "text": [
      "\u001b[36m(launch_and_fit pid=4188)\u001b[0m Run WITHOUT homomorphic encryption\n",
      "\u001b[36m(launch_and_fit pid=4188)\u001b[0m  To get the checkpoint\n",
      "\u001b[36m(launch_and_fit pid=4114)\u001b[0m save graph in  results/FL/\n",
      "\u001b[36m(launch_and_fit pid=4114)\u001b[0m \tTrain Epoch: 10 \tTrain_loss: 1.7067 | Train_acc: 43.0000 % | Validation_loss: 1.7451 | Validation_acc: 36.1111 %\n",
      "\u001b[36m(launch_and_fit pid=4188)\u001b[0m [Client 1, round 6] fit, config: {'learning_rate': 0.003, 'batch_size': '16', 'server_round': 6, 'local_epochs': 10}\n",
      "\u001b[36m(launch_and_fit pid=4188)\u001b[0m Updated model\n"
     ]
    },
    {
     "name": "stderr",
     "output_type": "stream",
     "text": [
      "  0%|\u001b[34m          \u001b[0m| 0/10 [00:00<?, ?it/s]\n",
      "100%|\u001b[34m██████████\u001b[0m| 10/10 [00:25<00:00,  2.56s/it]\n"
     ]
    },
    {
     "name": "stdout",
     "output_type": "stream",
     "text": [
      "\u001b[36m(launch_and_fit pid=4188)\u001b[0m \tTrain Epoch: 1 \tTrain_loss: 1.7790 | Train_acc: 32.2727 % | Validation_loss: 1.8013 | Validation_acc: 38.1944 %\n"
     ]
    },
    {
     "name": "stderr",
     "output_type": "stream",
     "text": [
      " 10%|\u001b[34m█         \u001b[0m| 1/10 [00:02<00:25,  2.81s/it]\n"
     ]
    },
    {
     "name": "stdout",
     "output_type": "stream",
     "text": [
      "\u001b[36m(launch_and_fit pid=4186)\u001b[0m Run WITHOUT homomorphic encryption\n",
      "\u001b[36m(launch_and_fit pid=4186)\u001b[0m  To get the checkpoint\n",
      "\u001b[36m(launch_and_fit pid=4186)\u001b[0m [Client 6, round 6] fit, config: {'learning_rate': 0.003, 'batch_size': '16', 'server_round': 6, 'local_epochs': 10}\n",
      "\u001b[36m(launch_and_fit pid=4186)\u001b[0m Updated model\n"
     ]
    },
    {
     "name": "stderr",
     "output_type": "stream",
     "text": [
      "  0%|\u001b[34m          \u001b[0m| 0/10 [00:00<?, ?it/s]\n",
      " 30%|\u001b[34m███       \u001b[0m| 3/10 [00:07<00:18,  2.60s/it]\u001b[32m [repeated 5x across cluster]\u001b[0m\n"
     ]
    },
    {
     "name": "stdout",
     "output_type": "stream",
     "text": [
      "\u001b[36m(launch_and_fit pid=4186)\u001b[0m \tTrain Epoch: 3 \tTrain_loss: 1.7451 | Train_acc: 38.4091 % | Validation_loss: 1.8484 | Validation_acc: 43.0556 %\u001b[32m [repeated 5x across cluster]\u001b[0m\n",
      "\u001b[36m(launch_and_fit pid=4188)\u001b[0m \tTrain Epoch: 6 \tTrain_loss: 1.7919 | Train_acc: 30.1420 % | Validation_loss: 2.0252 | Validation_acc: 23.6111 %\u001b[32m [repeated 5x across cluster]\u001b[0m\n"
     ]
    },
    {
     "name": "stderr",
     "output_type": "stream",
     "text": [
      " 60%|\u001b[34m██████    \u001b[0m| 6/10 [00:15<00:10,  2.51s/it]\u001b[32m [repeated 5x across cluster]\u001b[0m\n",
      " 80%|\u001b[34m████████  \u001b[0m| 8/10 [00:20<00:04,  2.50s/it]\u001b[32m [repeated 5x across cluster]\u001b[0m\n"
     ]
    },
    {
     "name": "stdout",
     "output_type": "stream",
     "text": [
      "\u001b[36m(launch_and_fit pid=4186)\u001b[0m \tTrain Epoch: 8 \tTrain_loss: 1.7159 | Train_acc: 41.5625 % | Validation_loss: 1.8843 | Validation_acc: 27.7778 %\u001b[32m [repeated 5x across cluster]\u001b[0m\n",
      "\u001b[36m(launch_and_fit pid=4188)\u001b[0m save graph in  results/FL/\n",
      "\u001b[36m(launch_and_fit pid=4188)\u001b[0m \tTrain Epoch: 10 \tTrain_loss: 1.7477 | Train_acc: 33.6932 % | Validation_loss: 1.9709 | Validation_acc: 18.7500 %\u001b[32m [repeated 3x across cluster]\u001b[0m\n"
     ]
    },
    {
     "name": "stderr",
     "output_type": "stream",
     "text": [
      "100%|\u001b[34m██████████\u001b[0m| 10/10 [00:25<00:00,  2.55s/it]\u001b[32m [repeated 3x across cluster]\u001b[0m\n"
     ]
    },
    {
     "name": "stdout",
     "output_type": "stream",
     "text": [
      "\u001b[36m(launch_and_fit pid=4260)\u001b[0m Run WITHOUT homomorphic encryption\n",
      "\u001b[36m(launch_and_fit pid=4260)\u001b[0m  To get the checkpoint\n",
      "\u001b[36m(launch_and_fit pid=4186)\u001b[0m save graph in  results/FL/\n",
      "\u001b[36m(launch_and_fit pid=4186)\u001b[0m \tTrain Epoch: 10 \tTrain_loss: 1.7080 | Train_acc: 41.8466 % | Validation_loss: 1.9207 | Validation_acc: 27.7778 %\n",
      "\u001b[36m(launch_and_fit pid=4260)\u001b[0m [Client 0, round 6] fit, config: {'learning_rate': 0.003, 'batch_size': '16', 'server_round': 6, 'local_epochs': 10}\n",
      "\u001b[36m(launch_and_fit pid=4260)\u001b[0m Updated model\n"
     ]
    },
    {
     "name": "stderr",
     "output_type": "stream",
     "text": [
      "  0%|\u001b[34m          \u001b[0m| 0/10 [00:00<?, ?it/s]\n",
      "100%|\u001b[34m██████████\u001b[0m| 10/10 [00:25<00:00,  2.57s/it]\n",
      " 10%|\u001b[34m█         \u001b[0m| 1/10 [00:02<00:25,  2.82s/it]\n"
     ]
    },
    {
     "name": "stdout",
     "output_type": "stream",
     "text": [
      "\u001b[36m(launch_and_fit pid=4260)\u001b[0m \tTrain Epoch: 1 \tTrain_loss: 1.7387 | Train_acc: 36.9602 % | Validation_loss: 1.8037 | Validation_acc: 27.0833 %\n"
     ]
    },
    {
     "name": "stderr",
     "output_type": "stream",
     "text": [
      "  0%|\u001b[34m          \u001b[0m| 0/10 [00:00<?, ?it/s]\n"
     ]
    },
    {
     "name": "stdout",
     "output_type": "stream",
     "text": [
      "\u001b[36m(launch_and_fit pid=4262)\u001b[0m Run WITHOUT homomorphic encryption\n",
      "\u001b[36m(launch_and_fit pid=4262)\u001b[0m  To get the checkpoint\n",
      "\u001b[36m(launch_and_fit pid=4262)\u001b[0m [Client 3, round 6] fit, config: {'learning_rate': 0.003, 'batch_size': '16', 'server_round': 6, 'local_epochs': 10}\n",
      "\u001b[36m(launch_and_fit pid=4262)\u001b[0m Updated model\n",
      "\u001b[36m(launch_and_fit pid=4262)\u001b[0m \tTrain Epoch: 3 \tTrain_loss: 1.7617 | Train_acc: 35.4545 % | Validation_loss: 1.7957 | Validation_acc: 38.1944 %\u001b[32m [repeated 5x across cluster]\u001b[0m\n"
     ]
    },
    {
     "name": "stderr",
     "output_type": "stream",
     "text": [
      " 30%|\u001b[34m███       \u001b[0m| 3/10 [00:07<00:17,  2.56s/it]\u001b[32m [repeated 5x across cluster]\u001b[0m\n",
      " 60%|\u001b[34m██████    \u001b[0m| 6/10 [00:15<00:10,  2.56s/it]\u001b[32m [repeated 5x across cluster]\u001b[0m\n"
     ]
    },
    {
     "name": "stdout",
     "output_type": "stream",
     "text": [
      "\u001b[36m(launch_and_fit pid=4260)\u001b[0m \tTrain Epoch: 6 \tTrain_loss: 1.7180 | Train_acc: 37.4148 % | Validation_loss: 1.8328 | Validation_acc: 22.9167 %\u001b[32m [repeated 5x across cluster]\u001b[0m\n"
     ]
    },
    {
     "name": "stderr",
     "output_type": "stream",
     "text": [
      " 80%|\u001b[34m████████  \u001b[0m| 8/10 [00:21<00:05,  2.64s/it]\u001b[32m [repeated 4x across cluster]\u001b[0m\n"
     ]
    },
    {
     "name": "stdout",
     "output_type": "stream",
     "text": [
      "\u001b[36m(launch_and_fit pid=4260)\u001b[0m \tTrain Epoch: 8 \tTrain_loss: 1.6975 | Train_acc: 39.4602 % | Validation_loss: 1.8388 | Validation_acc: 25.0000 %\u001b[32m [repeated 4x across cluster]\u001b[0m\n",
      "\u001b[36m(launch_and_fit pid=4260)\u001b[0m save graph in  results/FL/\n",
      "\u001b[36m(launch_and_fit pid=4334)\u001b[0m Run WITHOUT homomorphic encryption\n",
      "\u001b[36m(launch_and_fit pid=4334)\u001b[0m  To get the checkpoint\n",
      "\u001b[36m(launch_and_fit pid=4262)\u001b[0m \tTrain Epoch: 10 \tTrain_loss: 1.7444 | Train_acc: 35.5682 % | Validation_loss: 1.7808 | Validation_acc: 36.1111 %\u001b[32m [repeated 5x across cluster]\u001b[0m\n",
      "\u001b[36m(launch_and_fit pid=4262)\u001b[0m save graph in  results/FL/\n",
      "\u001b[36m(launch_and_fit pid=4334)\u001b[0m [Client 5, round 6] fit, config: {'learning_rate': 0.003, 'batch_size': '16', 'server_round': 6, 'local_epochs': 10}\n",
      "\u001b[36m(launch_and_fit pid=4334)\u001b[0m Updated model\n"
     ]
    },
    {
     "name": "stderr",
     "output_type": "stream",
     "text": [
      "  0%|\u001b[34m          \u001b[0m| 0/10 [00:00<?, ?it/s]\n",
      "100%|\u001b[34m██████████\u001b[0m| 10/10 [00:25<00:00,  2.56s/it]\u001b[32m [repeated 5x across cluster]\u001b[0m\n"
     ]
    },
    {
     "name": "stdout",
     "output_type": "stream",
     "text": [
      "\u001b[36m(launch_and_fit pid=4336)\u001b[0m Run WITHOUT homomorphic encryption\n",
      "\u001b[36m(launch_and_fit pid=4336)\u001b[0m  To get the checkpoint\n",
      "\u001b[36m(launch_and_fit pid=4334)\u001b[0m \tTrain Epoch: 2 \tTrain_loss: 1.7883 | Train_acc: 31.0227 % | Validation_loss: 1.7969 | Validation_acc: 22.9167 %\u001b[32m [repeated 3x across cluster]\u001b[0m\n",
      "\u001b[36m(launch_and_fit pid=4336)\u001b[0m [Client 8, round 6] fit, config: {'learning_rate': 0.003, 'batch_size': '16', 'server_round': 6, 'local_epochs': 10}\n",
      "\u001b[36m(launch_and_fit pid=4336)\u001b[0m Updated model\n"
     ]
    },
    {
     "name": "stderr",
     "output_type": "stream",
     "text": [
      "  0%|\u001b[34m          \u001b[0m| 0/10 [00:00<?, ?it/s]\n",
      " 20%|\u001b[34m██        \u001b[0m| 2/10 [00:05<00:21,  2.72s/it]\u001b[32m [repeated 3x across cluster]\u001b[0m\n",
      " 40%|\u001b[34m████      \u001b[0m| 4/10 [00:10<00:15,  2.58s/it]\u001b[32m [repeated 5x across cluster]\u001b[0m\n"
     ]
    },
    {
     "name": "stdout",
     "output_type": "stream",
     "text": [
      "\u001b[36m(launch_and_fit pid=4336)\u001b[0m \tTrain Epoch: 4 \tTrain_loss: 1.7460 | Train_acc: 40.4261 % | Validation_loss: 1.8046 | Validation_acc: 27.0833 %\u001b[32m [repeated 5x across cluster]\u001b[0m\n",
      "\u001b[36m(launch_and_fit pid=4334)\u001b[0m \tTrain Epoch: 6 \tTrain_loss: 1.7656 | Train_acc: 34.7443 % | Validation_loss: 1.7956 | Validation_acc: 34.0278 %\u001b[32m [repeated 3x across cluster]\u001b[0m\n"
     ]
    },
    {
     "name": "stderr",
     "output_type": "stream",
     "text": [
      " 60%|\u001b[34m██████    \u001b[0m| 6/10 [00:15<00:10,  2.58s/it]\u001b[32m [repeated 3x across cluster]\u001b[0m\n"
     ]
    },
    {
     "name": "stdout",
     "output_type": "stream",
     "text": [
      "\u001b[36m(launch_and_fit pid=4334)\u001b[0m \tTrain Epoch: 8 \tTrain_loss: 1.7521 | Train_acc: 34.9432 % | Validation_loss: 1.8095 | Validation_acc: 31.9444 %\u001b[32m [repeated 4x across cluster]\u001b[0m\n"
     ]
    },
    {
     "name": "stderr",
     "output_type": "stream",
     "text": [
      " 80%|\u001b[34m████████  \u001b[0m| 8/10 [00:20<00:05,  2.60s/it]\u001b[32m [repeated 4x across cluster]\u001b[0m\n"
     ]
    },
    {
     "name": "stdout",
     "output_type": "stream",
     "text": [
      "\u001b[36m(launch_and_fit pid=4334)\u001b[0m save graph in  results/FL/\n"
     ]
    },
    {
     "name": "stderr",
     "output_type": "stream",
     "text": [
      "100%|\u001b[34m██████████\u001b[0m| 10/10 [00:26<00:00,  2.64s/it]\u001b[32m [repeated 5x across cluster]\u001b[0m\n"
     ]
    },
    {
     "name": "stdout",
     "output_type": "stream",
     "text": [
      "\u001b[36m(launch_and_fit pid=4336)\u001b[0m \tTrain Epoch: 10 \tTrain_loss: 1.7205 | Train_acc: 39.4602 % | Validation_loss: 1.7981 | Validation_acc: 36.1111 %\u001b[32m [repeated 5x across cluster]\u001b[0m\n",
      "\u001b[36m(launch_and_fit pid=4408)\u001b[0m Run WITHOUT homomorphic encryption\n",
      "\u001b[36m(launch_and_fit pid=4408)\u001b[0m  To get the checkpoint\n",
      "\u001b[36m(launch_and_fit pid=4336)\u001b[0m save graph in  results/FL/\n",
      "\u001b[36m(launch_and_fit pid=4408)\u001b[0m [Client 2, round 6] fit, config: {'learning_rate': 0.003, 'batch_size': '16', 'server_round': 6, 'local_epochs': 10}\n",
      "\u001b[36m(launch_and_fit pid=4408)\u001b[0m Updated model\n"
     ]
    },
    {
     "name": "stderr",
     "output_type": "stream",
     "text": [
      "  0%|\u001b[34m          \u001b[0m| 0/10 [00:00<?, ?it/s]\n"
     ]
    },
    {
     "name": "stdout",
     "output_type": "stream",
     "text": [
      "\u001b[36m(launch_and_fit pid=4408)\u001b[0m \tTrain Epoch: 1 \tTrain_loss: 1.7484 | Train_acc: 36.1648 % | Validation_loss: 1.8063 | Validation_acc: 29.8611 %\n"
     ]
    },
    {
     "name": "stderr",
     "output_type": "stream",
     "text": [
      " 10%|\u001b[34m█         \u001b[0m| 1/10 [00:02<00:24,  2.77s/it]\n"
     ]
    },
    {
     "name": "stdout",
     "output_type": "stream",
     "text": [
      "\u001b[36m(launch_and_fit pid=4410)\u001b[0m Run WITHOUT homomorphic encryption\n",
      "\u001b[36m(launch_and_fit pid=4410)\u001b[0m  To get the checkpoint\n",
      "\u001b[36m(launch_and_fit pid=4410)\u001b[0m [Client 7, round 6] fit, config: {'learning_rate': 0.003, 'batch_size': '16', 'server_round': 6, 'local_epochs': 10}\n",
      "\u001b[36m(launch_and_fit pid=4410)\u001b[0m Updated model\n"
     ]
    },
    {
     "name": "stderr",
     "output_type": "stream",
     "text": [
      "  0%|\u001b[34m          \u001b[0m| 0/10 [00:00<?, ?it/s]\n"
     ]
    },
    {
     "name": "stdout",
     "output_type": "stream",
     "text": [
      "\u001b[36m(launch_and_fit pid=4408)\u001b[0m \tTrain Epoch: 3 \tTrain_loss: 1.7557 | Train_acc: 35.5682 % | Validation_loss: 1.8103 | Validation_acc: 27.7778 %\u001b[32m [repeated 4x across cluster]\u001b[0m\n"
     ]
    },
    {
     "name": "stderr",
     "output_type": "stream",
     "text": [
      " 30%|\u001b[34m███       \u001b[0m| 3/10 [00:08<00:19,  2.76s/it]\u001b[32m [repeated 4x across cluster]\u001b[0m\n"
     ]
    },
    {
     "name": "stdout",
     "output_type": "stream",
     "text": [
      "\u001b[36m(launch_and_fit pid=4408)\u001b[0m \tTrain Epoch: 5 \tTrain_loss: 1.7556 | Train_acc: 34.8011 % | Validation_loss: 1.8016 | Validation_acc: 32.6389 %\u001b[32m [repeated 4x across cluster]\u001b[0m\n"
     ]
    },
    {
     "name": "stderr",
     "output_type": "stream",
     "text": [
      " 50%|\u001b[34m█████     \u001b[0m| 5/10 [00:13<00:13,  2.65s/it]\u001b[32m [repeated 4x across cluster]\u001b[0m\n"
     ]
    },
    {
     "name": "stdout",
     "output_type": "stream",
     "text": [
      "\u001b[36m(launch_and_fit pid=4408)\u001b[0m \tTrain Epoch: 7 \tTrain_loss: 1.7309 | Train_acc: 36.8466 % | Validation_loss: 1.7920 | Validation_acc: 29.8611 %\u001b[32m [repeated 4x across cluster]\u001b[0m\n"
     ]
    },
    {
     "name": "stderr",
     "output_type": "stream",
     "text": [
      " 70%|\u001b[34m███████   \u001b[0m| 7/10 [00:18<00:08,  2.68s/it]\u001b[32m [repeated 4x across cluster]\u001b[0m\n"
     ]
    },
    {
     "name": "stdout",
     "output_type": "stream",
     "text": [
      "\u001b[36m(launch_and_fit pid=4408)\u001b[0m \tTrain Epoch: 9 \tTrain_loss: 1.7174 | Train_acc: 37.4432 % | Validation_loss: 1.7907 | Validation_acc: 25.6944 %\u001b[32m [repeated 5x across cluster]\u001b[0m\n"
     ]
    },
    {
     "name": "stderr",
     "output_type": "stream",
     "text": [
      " 90%|\u001b[34m█████████ \u001b[0m| 9/10 [00:23<00:02,  2.61s/it]\u001b[32m [repeated 5x across cluster]\u001b[0m\n"
     ]
    },
    {
     "name": "stdout",
     "output_type": "stream",
     "text": [
      "\u001b[36m(launch_and_fit pid=4410)\u001b[0m save graph in  results/FL/\n"
     ]
    },
    {
     "name": "stderr",
     "output_type": "stream",
     "text": [
      "DEBUG flwr 2024-07-22 09:40:20,580 | server.py:236 | fit_round 6 received 10 results and 0 failures\n"
     ]
    },
    {
     "name": "stdout",
     "output_type": "stream",
     "text": [
      "Saving round 6 aggregated_parameters...\n",
      "Updated model\n"
     ]
    },
    {
     "name": "stderr",
     "output_type": "stream",
     "text": [
      "INFO flwr 2024-07-22 09:40:22,946 | server.py:125 | fit progress: (6, 1.7512243140827526, {'accuracy': 32.99242424242424}, 1422.4737227679998)\n",
      "DEBUG flwr 2024-07-22 09:40:22,948 | server.py:173 | evaluate_round 6: strategy sampled 10 clients (out of 10)\n"
     ]
    },
    {
     "name": "stdout",
     "output_type": "stream",
     "text": [
      "Server-side evaluation loss 1.7512243140827526 / accuracy 32.99242424242424\n",
      "\u001b[36m(launch_and_evaluate pid=4492)\u001b[0m Run WITHOUT homomorphic encryption\n",
      "\u001b[36m(launch_and_evaluate pid=4492)\u001b[0m  To get the checkpoint\n",
      "\u001b[36m(launch_and_fit pid=4408)\u001b[0m \tTrain Epoch: 10 \tTrain_loss: 1.7113 | Train_acc: 36.7898 % | Validation_loss: 1.7928 | Validation_acc: 25.6944 %\u001b[32m [repeated 2x across cluster]\u001b[0m\n",
      "\u001b[36m(launch_and_fit pid=4408)\u001b[0m save graph in  results/FL/\n",
      "\u001b[36m(launch_and_evaluate pid=4492)\u001b[0m [Client 9] evaluate, config: {}\n",
      "\u001b[36m(launch_and_evaluate pid=4492)\u001b[0m Updated model\n"
     ]
    },
    {
     "name": "stderr",
     "output_type": "stream",
     "text": [
      "\u001b[36m(launch_and_evaluate pid=4492)\u001b[0m /opt/conda/lib/python3.10/site-packages/sklearn/metrics/_ranking.py:1029: UndefinedMetricWarning: No positive samples in y_true, true positive value should be meaningless\n",
      "\u001b[36m(launch_and_evaluate pid=4492)\u001b[0m   warnings.warn(\n",
      "100%|\u001b[34m██████████\u001b[0m| 10/10 [00:26<00:00,  2.66s/it]\u001b[32m [repeated 2x across cluster]\u001b[0m\n"
     ]
    },
    {
     "name": "stdout",
     "output_type": "stream",
     "text": [
      "\u001b[36m(launch_and_evaluate pid=4561)\u001b[0m Run WITHOUT homomorphic encryption\u001b[32m [repeated 2x across cluster]\u001b[0m\n",
      "\u001b[36m(launch_and_evaluate pid=4561)\u001b[0m  To get the checkpoint\u001b[32m [repeated 2x across cluster]\u001b[0m\n",
      "\u001b[36m(launch_and_evaluate pid=4491)\u001b[0m [Client 3] evaluate, config: {}\n",
      "\u001b[36m(launch_and_evaluate pid=4491)\u001b[0m Updated model\n",
      "\u001b[36m(launch_and_evaluate pid=4561)\u001b[0m [Client 4] evaluate, config: {}\n",
      "\u001b[36m(launch_and_evaluate pid=4561)\u001b[0m Updated model\n"
     ]
    },
    {
     "name": "stderr",
     "output_type": "stream",
     "text": [
      "\u001b[36m(launch_and_evaluate pid=4561)\u001b[0m /opt/conda/lib/python3.10/site-packages/sklearn/metrics/_ranking.py:1029: UndefinedMetricWarning: No positive samples in y_true, true positive value should be meaningless\n",
      "\u001b[36m(launch_and_evaluate pid=4561)\u001b[0m   warnings.warn(\n"
     ]
    },
    {
     "name": "stdout",
     "output_type": "stream",
     "text": [
      "\u001b[36m(launch_and_evaluate pid=4632)\u001b[0m Run WITHOUT homomorphic encryption\u001b[32m [repeated 2x across cluster]\u001b[0m\n",
      "\u001b[36m(launch_and_evaluate pid=4632)\u001b[0m  To get the checkpoint\u001b[32m [repeated 2x across cluster]\u001b[0m\n",
      "\u001b[36m(launch_and_evaluate pid=4563)\u001b[0m [Client 0] evaluate, config: {}\n",
      "\u001b[36m(launch_and_evaluate pid=4563)\u001b[0m Updated model\n",
      "\u001b[36m(launch_and_evaluate pid=4632)\u001b[0m [Client 7] evaluate, config: {}\n",
      "\u001b[36m(launch_and_evaluate pid=4632)\u001b[0m Updated model\n"
     ]
    },
    {
     "name": "stderr",
     "output_type": "stream",
     "text": [
      "\u001b[36m(launch_and_evaluate pid=4634)\u001b[0m /opt/conda/lib/python3.10/site-packages/sklearn/metrics/_ranking.py:1029: UndefinedMetricWarning: No positive samples in y_true, true positive value should be meaningless\n",
      "\u001b[36m(launch_and_evaluate pid=4634)\u001b[0m   warnings.warn(\n"
     ]
    },
    {
     "name": "stdout",
     "output_type": "stream",
     "text": [
      "\u001b[36m(launch_and_evaluate pid=4702)\u001b[0m Run WITHOUT homomorphic encryption\u001b[32m [repeated 2x across cluster]\u001b[0m\n",
      "\u001b[36m(launch_and_evaluate pid=4702)\u001b[0m  To get the checkpoint\u001b[32m [repeated 2x across cluster]\u001b[0m\n",
      "\u001b[36m(launch_and_evaluate pid=4634)\u001b[0m [Client 8] evaluate, config: {}\n",
      "\u001b[36m(launch_and_evaluate pid=4634)\u001b[0m Updated model\n",
      "\u001b[36m(launch_and_evaluate pid=4702)\u001b[0m [Client 5] evaluate, config: {}\n",
      "\u001b[36m(launch_and_evaluate pid=4702)\u001b[0m Updated model\n",
      "\u001b[36m(launch_and_evaluate pid=4773)\u001b[0m Run WITHOUT homomorphic encryption\u001b[32m [repeated 2x across cluster]\u001b[0m\n",
      "\u001b[36m(launch_and_evaluate pid=4773)\u001b[0m  To get the checkpoint\u001b[32m [repeated 2x across cluster]\u001b[0m\n",
      "\u001b[36m(launch_and_evaluate pid=4727)\u001b[0m [Client 1] evaluate, config: {}\n",
      "\u001b[36m(launch_and_evaluate pid=4727)\u001b[0m Updated model\n",
      "\u001b[36m(launch_and_evaluate pid=4773)\u001b[0m [Client 2] evaluate, config: {}\n",
      "\u001b[36m(launch_and_evaluate pid=4773)\u001b[0m Updated model\n"
     ]
    },
    {
     "name": "stderr",
     "output_type": "stream",
     "text": [
      "DEBUG flwr 2024-07-22 09:41:21,206 | server.py:187 | evaluate_round 6 received 10 results and 0 failures\n",
      "DEBUG flwr 2024-07-22 09:41:21,207 | server.py:222 | fit_round 7: strategy sampled 10 clients (out of 10)\n"
     ]
    },
    {
     "name": "stdout",
     "output_type": "stream",
     "text": [
      "\u001b[36m(launch_and_fit pid=4852)\u001b[0m Run WITHOUT homomorphic encryption\u001b[32m [repeated 2x across cluster]\u001b[0m\n",
      "\u001b[36m(launch_and_fit pid=4852)\u001b[0m  To get the checkpoint\u001b[32m [repeated 2x across cluster]\u001b[0m\n",
      "\u001b[36m(launch_and_evaluate pid=4775)\u001b[0m [Client 6] evaluate, config: {}\n",
      "\u001b[36m(launch_and_evaluate pid=4775)\u001b[0m Updated model\n",
      "\u001b[36m(launch_and_fit pid=4852)\u001b[0m [Client 6, round 7] fit, config: {'learning_rate': 0.003, 'batch_size': '16', 'server_round': 7, 'local_epochs': 10}\n",
      "\u001b[36m(launch_and_fit pid=4852)\u001b[0m Updated model\n"
     ]
    },
    {
     "name": "stderr",
     "output_type": "stream",
     "text": [
      "  0%|\u001b[34m          \u001b[0m| 0/10 [00:00<?, ?it/s]\n"
     ]
    },
    {
     "name": "stdout",
     "output_type": "stream",
     "text": [
      "\u001b[36m(launch_and_fit pid=4852)\u001b[0m \tTrain Epoch: 1 \tTrain_loss: 1.7358 | Train_acc: 39.3466 % | Validation_loss: 1.8200 | Validation_acc: 40.9722 %\n"
     ]
    },
    {
     "name": "stderr",
     "output_type": "stream",
     "text": [
      " 10%|\u001b[34m█         \u001b[0m| 1/10 [00:02<00:26,  2.89s/it]\n",
      "  0%|\u001b[34m          \u001b[0m| 0/10 [00:00<?, ?it/s]\n"
     ]
    },
    {
     "name": "stdout",
     "output_type": "stream",
     "text": [
      "\u001b[36m(launch_and_fit pid=4853)\u001b[0m Run WITHOUT homomorphic encryption\n",
      "\u001b[36m(launch_and_fit pid=4853)\u001b[0m  To get the checkpoint\n",
      "\u001b[36m(launch_and_fit pid=4853)\u001b[0m [Client 8, round 7] fit, config: {'learning_rate': 0.003, 'batch_size': '16', 'server_round': 7, 'local_epochs': 10}\n",
      "\u001b[36m(launch_and_fit pid=4853)\u001b[0m Updated model\n",
      "\u001b[36m(launch_and_fit pid=4852)\u001b[0m \tTrain Epoch: 3 \tTrain_loss: 1.7315 | Train_acc: 39.8011 % | Validation_loss: 1.8881 | Validation_acc: 40.9722 %\u001b[32m [repeated 4x across cluster]\u001b[0m\n"
     ]
    },
    {
     "name": "stderr",
     "output_type": "stream",
     "text": [
      " 30%|\u001b[34m███       \u001b[0m| 3/10 [00:08<00:19,  2.83s/it]\u001b[32m [repeated 4x across cluster]\u001b[0m\n"
     ]
    },
    {
     "name": "stdout",
     "output_type": "stream",
     "text": [
      "\u001b[36m(launch_and_fit pid=4852)\u001b[0m \tTrain Epoch: 6 \tTrain_loss: 1.7018 | Train_acc: 42.0739 % | Validation_loss: 1.8357 | Validation_acc: 31.9444 %\u001b[32m [repeated 6x across cluster]\u001b[0m\n"
     ]
    },
    {
     "name": "stderr",
     "output_type": "stream",
     "text": [
      " 60%|\u001b[34m██████    \u001b[0m| 6/10 [00:16<00:10,  2.57s/it]\u001b[32m [repeated 6x across cluster]\u001b[0m\n"
     ]
    },
    {
     "name": "stdout",
     "output_type": "stream",
     "text": [
      "\u001b[36m(launch_and_fit pid=4852)\u001b[0m \tTrain Epoch: 8 \tTrain_loss: 1.7009 | Train_acc: 41.9602 % | Validation_loss: 1.9109 | Validation_acc: 29.8611 %\u001b[32m [repeated 5x across cluster]\u001b[0m\n"
     ]
    },
    {
     "name": "stderr",
     "output_type": "stream",
     "text": [
      " 80%|\u001b[34m████████  \u001b[0m| 8/10 [00:21<00:05,  2.55s/it]\u001b[32m [repeated 5x across cluster]\u001b[0m\n"
     ]
    },
    {
     "name": "stdout",
     "output_type": "stream",
     "text": [
      "\u001b[36m(launch_and_fit pid=4853)\u001b[0m save graph in  results/FL/\n",
      "\u001b[36m(launch_and_fit pid=4852)\u001b[0m \tTrain Epoch: 10 \tTrain_loss: 1.6928 | Train_acc: 44.6023 % | Validation_loss: 1.9083 | Validation_acc: 29.8611 %\u001b[32m [repeated 4x across cluster]\u001b[0m\n"
     ]
    },
    {
     "name": "stderr",
     "output_type": "stream",
     "text": [
      "100%|\u001b[34m██████████\u001b[0m| 10/10 [00:26<00:00,  2.62s/it]\u001b[32m [repeated 4x across cluster]\u001b[0m\n"
     ]
    },
    {
     "name": "stdout",
     "output_type": "stream",
     "text": [
      "\u001b[36m(launch_and_fit pid=4926)\u001b[0m Run WITHOUT homomorphic encryption\n",
      "\u001b[36m(launch_and_fit pid=4926)\u001b[0m  To get the checkpoint\n",
      "\u001b[36m(launch_and_fit pid=4852)\u001b[0m save graph in  results/FL/\n"
     ]
    },
    {
     "name": "stderr",
     "output_type": "stream",
     "text": [
      "  0%|\u001b[34m          \u001b[0m| 0/10 [00:00<?, ?it/s]\n"
     ]
    },
    {
     "name": "stdout",
     "output_type": "stream",
     "text": [
      "\u001b[36m(launch_and_fit pid=4926)\u001b[0m [Client 2, round 7] fit, config: {'learning_rate': 0.003, 'batch_size': '16', 'server_round': 7, 'local_epochs': 10}\n",
      "\u001b[36m(launch_and_fit pid=4926)\u001b[0m Updated model\n",
      "\u001b[36m(launch_and_fit pid=4928)\u001b[0m \tTrain Epoch: 1 \tTrain_loss: 1.8032 | Train_acc: 30.5682 % | Validation_loss: 1.8181 | Validation_acc: 29.8611 %\n"
     ]
    },
    {
     "name": "stderr",
     "output_type": "stream",
     "text": [
      " 10%|\u001b[34m█         \u001b[0m| 1/10 [00:02<00:25,  2.81s/it]\n"
     ]
    },
    {
     "name": "stdout",
     "output_type": "stream",
     "text": [
      "\u001b[36m(launch_and_fit pid=4928)\u001b[0m Run WITHOUT homomorphic encryption\n",
      "\u001b[36m(launch_and_fit pid=4928)\u001b[0m  To get the checkpoint\n",
      "\u001b[36m(launch_and_fit pid=4928)\u001b[0m [Client 1, round 7] fit, config: {'learning_rate': 0.003, 'batch_size': '16', 'server_round': 7, 'local_epochs': 10}\n",
      "\u001b[36m(launch_and_fit pid=4928)\u001b[0m Updated model\n"
     ]
    },
    {
     "name": "stderr",
     "output_type": "stream",
     "text": [
      "  0%|\u001b[34m          \u001b[0m| 0/10 [00:00<?, ?it/s]\n",
      " 30%|\u001b[34m███       \u001b[0m| 3/10 [00:07<00:18,  2.59s/it]\u001b[32m [repeated 5x across cluster]\u001b[0m\n"
     ]
    },
    {
     "name": "stdout",
     "output_type": "stream",
     "text": [
      "\u001b[36m(launch_and_fit pid=4926)\u001b[0m \tTrain Epoch: 3 \tTrain_loss: 1.7312 | Train_acc: 36.8750 % | Validation_loss: 1.7712 | Validation_acc: 31.9444 %\u001b[32m [repeated 5x across cluster]\u001b[0m\n"
     ]
    },
    {
     "name": "stderr",
     "output_type": "stream",
     "text": [
      " 50%|\u001b[34m█████     \u001b[0m| 5/10 [00:12<00:12,  2.55s/it]\u001b[32m [repeated 4x across cluster]\u001b[0m\n"
     ]
    },
    {
     "name": "stdout",
     "output_type": "stream",
     "text": [
      "\u001b[36m(launch_and_fit pid=4926)\u001b[0m \tTrain Epoch: 5 \tTrain_loss: 1.7287 | Train_acc: 37.7557 % | Validation_loss: 1.7706 | Validation_acc: 27.7778 %\u001b[32m [repeated 4x across cluster]\u001b[0m\n",
      "\u001b[36m(launch_and_fit pid=4928)\u001b[0m \tTrain Epoch: 8 \tTrain_loss: 1.7517 | Train_acc: 30.2557 % | Validation_loss: 1.9891 | Validation_acc: 20.8333 %\u001b[32m [repeated 5x across cluster]\u001b[0m\n"
     ]
    },
    {
     "name": "stderr",
     "output_type": "stream",
     "text": [
      " 80%|\u001b[34m████████  \u001b[0m| 8/10 [00:20<00:04,  2.49s/it]\u001b[32m [repeated 5x across cluster]\u001b[0m\n"
     ]
    },
    {
     "name": "stdout",
     "output_type": "stream",
     "text": [
      "\u001b[36m(launch_and_fit pid=4928)\u001b[0m save graph in  results/FL/\n",
      "\u001b[36m(launch_and_fit pid=4928)\u001b[0m \tTrain Epoch: 10 \tTrain_loss: 1.7376 | Train_acc: 35.4261 % | Validation_loss: 1.8835 | Validation_acc: 34.0278 %\u001b[32m [repeated 4x across cluster]\u001b[0m\n"
     ]
    },
    {
     "name": "stderr",
     "output_type": "stream",
     "text": [
      "100%|\u001b[34m██████████\u001b[0m| 10/10 [00:25<00:00,  2.52s/it]\u001b[32m [repeated 4x across cluster]\u001b[0m\n"
     ]
    },
    {
     "name": "stdout",
     "output_type": "stream",
     "text": [
      "\u001b[36m(launch_and_fit pid=5001)\u001b[0m Run WITHOUT homomorphic encryption\n",
      "\u001b[36m(launch_and_fit pid=5001)\u001b[0m  To get the checkpoint\n",
      "\u001b[36m(launch_and_fit pid=4926)\u001b[0m save graph in  results/FL/\n",
      "\u001b[36m(launch_and_fit pid=4926)\u001b[0m \tTrain Epoch: 10 \tTrain_loss: 1.7108 | Train_acc: 36.5057 % | Validation_loss: 1.8045 | Validation_acc: 34.0278 %\n"
     ]
    },
    {
     "name": "stderr",
     "output_type": "stream",
     "text": [
      "  0%|\u001b[34m          \u001b[0m| 0/10 [00:00<?, ?it/s]\n",
      "100%|\u001b[34m██████████\u001b[0m| 10/10 [00:25<00:00,  2.57s/it]\n"
     ]
    },
    {
     "name": "stdout",
     "output_type": "stream",
     "text": [
      "\u001b[36m(launch_and_fit pid=5001)\u001b[0m [Client 9, round 7] fit, config: {'learning_rate': 0.003, 'batch_size': '16', 'server_round': 7, 'local_epochs': 10}\n",
      "\u001b[36m(launch_and_fit pid=5001)\u001b[0m Updated model\n"
     ]
    },
    {
     "name": "stderr",
     "output_type": "stream",
     "text": [
      " 10%|\u001b[34m█         \u001b[0m| 1/10 [00:02<00:25,  2.79s/it]\n"
     ]
    },
    {
     "name": "stdout",
     "output_type": "stream",
     "text": [
      "\u001b[36m(launch_and_fit pid=5001)\u001b[0m \tTrain Epoch: 1 \tTrain_loss: 1.7486 | Train_acc: 36.6458 % | Validation_loss: 1.7486 | Validation_acc: 31.9444 %\n"
     ]
    },
    {
     "name": "stderr",
     "output_type": "stream",
     "text": [
      "  0%|\u001b[34m          \u001b[0m| 0/10 [00:00<?, ?it/s]\n"
     ]
    },
    {
     "name": "stdout",
     "output_type": "stream",
     "text": [
      "\u001b[36m(launch_and_fit pid=5003)\u001b[0m Run WITHOUT homomorphic encryption\n",
      "\u001b[36m(launch_and_fit pid=5003)\u001b[0m  To get the checkpoint\n",
      "\u001b[36m(launch_and_fit pid=5003)\u001b[0m [Client 5, round 7] fit, config: {'learning_rate': 0.003, 'batch_size': '16', 'server_round': 7, 'local_epochs': 10}\n",
      "\u001b[36m(launch_and_fit pid=5003)\u001b[0m Updated model\n"
     ]
    },
    {
     "name": "stderr",
     "output_type": "stream",
     "text": [
      " 30%|\u001b[34m███       \u001b[0m| 3/10 [00:07<00:18,  2.63s/it]\u001b[32m [repeated 5x across cluster]\u001b[0m\n"
     ]
    },
    {
     "name": "stdout",
     "output_type": "stream",
     "text": [
      "\u001b[36m(launch_and_fit pid=5003)\u001b[0m \tTrain Epoch: 3 \tTrain_loss: 1.7805 | Train_acc: 32.7557 % | Validation_loss: 1.7698 | Validation_acc: 36.1111 %\u001b[32m [repeated 5x across cluster]\u001b[0m\n"
     ]
    },
    {
     "name": "stderr",
     "output_type": "stream",
     "text": [
      " 50%|\u001b[34m█████     \u001b[0m| 5/10 [00:13<00:13,  2.63s/it]\u001b[32m [repeated 4x across cluster]\u001b[0m\n"
     ]
    },
    {
     "name": "stdout",
     "output_type": "stream",
     "text": [
      "\u001b[36m(launch_and_fit pid=5003)\u001b[0m \tTrain Epoch: 5 \tTrain_loss: 1.7619 | Train_acc: 33.0682 % | Validation_loss: 1.7688 | Validation_acc: 38.1944 %\u001b[32m [repeated 4x across cluster]\u001b[0m\n"
     ]
    },
    {
     "name": "stderr",
     "output_type": "stream",
     "text": [
      " 70%|\u001b[34m███████   \u001b[0m| 7/10 [00:18<00:07,  2.60s/it]\u001b[32m [repeated 4x across cluster]\u001b[0m\n"
     ]
    },
    {
     "name": "stdout",
     "output_type": "stream",
     "text": [
      "\u001b[36m(launch_and_fit pid=5003)\u001b[0m \tTrain Epoch: 7 \tTrain_loss: 1.7556 | Train_acc: 33.4375 % | Validation_loss: 1.7528 | Validation_acc: 36.1111 %\u001b[32m [repeated 4x across cluster]\u001b[0m\n"
     ]
    },
    {
     "name": "stderr",
     "output_type": "stream",
     "text": [
      "100%|\u001b[34m██████████\u001b[0m| 10/10 [00:25<00:00,  2.55s/it]\u001b[32m [repeated 5x across cluster]\u001b[0m\n"
     ]
    },
    {
     "name": "stdout",
     "output_type": "stream",
     "text": [
      "\u001b[36m(launch_and_fit pid=5001)\u001b[0m save graph in  results/FL/\n",
      "\u001b[36m(launch_and_fit pid=5001)\u001b[0m \tTrain Epoch: 10 \tTrain_loss: 1.7048 | Train_acc: 41.4167 % | Validation_loss: 1.7357 | Validation_acc: 36.1111 %\u001b[32m [repeated 5x across cluster]\u001b[0m\n",
      "\u001b[36m(launch_and_fit pid=5075)\u001b[0m Run WITHOUT homomorphic encryption\n",
      "\u001b[36m(launch_and_fit pid=5075)\u001b[0m  To get the checkpoint\n",
      "\u001b[36m(launch_and_fit pid=5003)\u001b[0m save graph in  results/FL/\n",
      "\u001b[36m(launch_and_fit pid=5003)\u001b[0m \tTrain Epoch: 10 \tTrain_loss: 1.7296 | Train_acc: 35.2841 % | Validation_loss: 1.7484 | Validation_acc: 36.1111 %\n"
     ]
    },
    {
     "name": "stderr",
     "output_type": "stream",
     "text": [
      "  0%|\u001b[34m          \u001b[0m| 0/10 [00:00<?, ?it/s]\n",
      "100%|\u001b[34m██████████\u001b[0m| 10/10 [00:26<00:00,  2.63s/it]\n"
     ]
    },
    {
     "name": "stdout",
     "output_type": "stream",
     "text": [
      "\u001b[36m(launch_and_fit pid=5075)\u001b[0m [Client 3, round 7] fit, config: {'learning_rate': 0.003, 'batch_size': '16', 'server_round': 7, 'local_epochs': 10}\n",
      "\u001b[36m(launch_and_fit pid=5075)\u001b[0m Updated model\n"
     ]
    },
    {
     "name": "stderr",
     "output_type": "stream",
     "text": [
      " 10%|\u001b[34m█         \u001b[0m| 1/10 [00:02<00:25,  2.88s/it]\n"
     ]
    },
    {
     "name": "stdout",
     "output_type": "stream",
     "text": [
      "\u001b[36m(launch_and_fit pid=5075)\u001b[0m \tTrain Epoch: 1 \tTrain_loss: 1.7648 | Train_acc: 34.7727 % | Validation_loss: 1.7644 | Validation_acc: 38.1944 %\n"
     ]
    },
    {
     "name": "stderr",
     "output_type": "stream",
     "text": [
      "  0%|\u001b[34m          \u001b[0m| 0/10 [00:00<?, ?it/s]\n"
     ]
    },
    {
     "name": "stdout",
     "output_type": "stream",
     "text": [
      "\u001b[36m(launch_and_fit pid=5100)\u001b[0m Run WITHOUT homomorphic encryption\n",
      "\u001b[36m(launch_and_fit pid=5100)\u001b[0m  To get the checkpoint\n",
      "\u001b[36m(launch_and_fit pid=5100)\u001b[0m [Client 0, round 7] fit, config: {'learning_rate': 0.003, 'batch_size': '16', 'server_round': 7, 'local_epochs': 10}\n",
      "\u001b[36m(launch_and_fit pid=5100)\u001b[0m Updated model\n"
     ]
    },
    {
     "name": "stderr",
     "output_type": "stream",
     "text": [
      " 30%|\u001b[34m███       \u001b[0m| 3/10 [00:08<00:19,  2.74s/it]\u001b[32m [repeated 4x across cluster]\u001b[0m\n"
     ]
    },
    {
     "name": "stdout",
     "output_type": "stream",
     "text": [
      "\u001b[36m(launch_and_fit pid=5075)\u001b[0m \tTrain Epoch: 3 \tTrain_loss: 1.7423 | Train_acc: 35.6818 % | Validation_loss: 1.7637 | Validation_acc: 38.1944 %\u001b[32m [repeated 4x across cluster]\u001b[0m\n"
     ]
    },
    {
     "name": "stderr",
     "output_type": "stream",
     "text": [
      " 50%|\u001b[34m█████     \u001b[0m| 5/10 [00:13<00:13,  2.69s/it]\u001b[32m [repeated 4x across cluster]\u001b[0m\n"
     ]
    },
    {
     "name": "stdout",
     "output_type": "stream",
     "text": [
      "\u001b[36m(launch_and_fit pid=5075)\u001b[0m \tTrain Epoch: 5 \tTrain_loss: 1.7455 | Train_acc: 33.0966 % | Validation_loss: 1.7619 | Validation_acc: 40.2778 %\u001b[32m [repeated 4x across cluster]\u001b[0m\n"
     ]
    },
    {
     "name": "stderr",
     "output_type": "stream",
     "text": [
      " 70%|\u001b[34m███████   \u001b[0m| 7/10 [00:18<00:07,  2.65s/it]\u001b[32m [repeated 4x across cluster]\u001b[0m\n"
     ]
    },
    {
     "name": "stdout",
     "output_type": "stream",
     "text": [
      "\u001b[36m(launch_and_fit pid=5075)\u001b[0m \tTrain Epoch: 7 \tTrain_loss: 1.7251 | Train_acc: 38.0398 % | Validation_loss: 1.7722 | Validation_acc: 36.1111 %\u001b[32m [repeated 4x across cluster]\u001b[0m\n"
     ]
    },
    {
     "name": "stderr",
     "output_type": "stream",
     "text": [
      " 90%|\u001b[34m█████████ \u001b[0m| 9/10 [00:24<00:02,  2.72s/it]\u001b[32m [repeated 4x across cluster]\u001b[0m\n"
     ]
    },
    {
     "name": "stdout",
     "output_type": "stream",
     "text": [
      "\u001b[36m(launch_and_fit pid=5075)\u001b[0m \tTrain Epoch: 9 \tTrain_loss: 1.7392 | Train_acc: 33.5511 % | Validation_loss: 1.7578 | Validation_acc: 38.1944 %\u001b[32m [repeated 4x across cluster]\u001b[0m\n",
      "\u001b[36m(launch_and_fit pid=5075)\u001b[0m save graph in  results/FL/\n",
      "\u001b[36m(launch_and_fit pid=5149)\u001b[0m Run WITHOUT homomorphic encryption\n",
      "\u001b[36m(launch_and_fit pid=5149)\u001b[0m  To get the checkpoint\n",
      "\u001b[36m(launch_and_fit pid=5100)\u001b[0m \tTrain Epoch: 10 \tTrain_loss: 1.6924 | Train_acc: 38.3523 % | Validation_loss: 1.8499 | Validation_acc: 27.0833 %\u001b[32m [repeated 3x across cluster]\u001b[0m\n",
      "\u001b[36m(launch_and_fit pid=5100)\u001b[0m save graph in  results/FL/\n",
      "\u001b[36m(launch_and_fit pid=5149)\u001b[0m [Client 7, round 7] fit, config: {'learning_rate': 0.003, 'batch_size': '16', 'server_round': 7, 'local_epochs': 10}\n",
      "\u001b[36m(launch_and_fit pid=5149)\u001b[0m Updated model\n"
     ]
    },
    {
     "name": "stderr",
     "output_type": "stream",
     "text": [
      "  0%|\u001b[34m          \u001b[0m| 0/10 [00:00<?, ?it/s]\n",
      "100%|\u001b[34m██████████\u001b[0m| 10/10 [00:26<00:00,  2.66s/it]\u001b[32m [repeated 3x across cluster]\u001b[0m\n"
     ]
    },
    {
     "name": "stdout",
     "output_type": "stream",
     "text": [
      "\u001b[36m(launch_and_fit pid=5151)\u001b[0m Run WITHOUT homomorphic encryption\n",
      "\u001b[36m(launch_and_fit pid=5151)\u001b[0m  To get the checkpoint\n",
      "\u001b[36m(launch_and_fit pid=5149)\u001b[0m \tTrain Epoch: 2 \tTrain_loss: 1.7912 | Train_acc: 32.1307 % | Validation_loss: 1.5950 | Validation_acc: 45.1389 %\u001b[32m [repeated 3x across cluster]\u001b[0m\n",
      "\u001b[36m(launch_and_fit pid=5151)\u001b[0m [Client 4, round 7] fit, config: {'learning_rate': 0.003, 'batch_size': '16', 'server_round': 7, 'local_epochs': 10}\n",
      "\u001b[36m(launch_and_fit pid=5151)\u001b[0m Updated model\n"
     ]
    },
    {
     "name": "stderr",
     "output_type": "stream",
     "text": [
      "  0%|\u001b[34m          \u001b[0m| 0/10 [00:00<?, ?it/s]\n",
      " 20%|\u001b[34m██        \u001b[0m| 2/10 [00:05<00:21,  2.73s/it]\u001b[32m [repeated 3x across cluster]\u001b[0m\n"
     ]
    },
    {
     "name": "stdout",
     "output_type": "stream",
     "text": [
      "\u001b[36m(launch_and_fit pid=5149)\u001b[0m \tTrain Epoch: 4 \tTrain_loss: 1.7770 | Train_acc: 34.3466 % | Validation_loss: 1.5867 | Validation_acc: 49.3056 %\u001b[32m [repeated 4x across cluster]\u001b[0m\n"
     ]
    },
    {
     "name": "stderr",
     "output_type": "stream",
     "text": [
      " 40%|\u001b[34m████      \u001b[0m| 4/10 [00:10<00:15,  2.60s/it]\u001b[32m [repeated 4x across cluster]\u001b[0m\n"
     ]
    },
    {
     "name": "stdout",
     "output_type": "stream",
     "text": [
      "\u001b[36m(launch_and_fit pid=5149)\u001b[0m \tTrain Epoch: 6 \tTrain_loss: 1.7726 | Train_acc: 33.2386 % | Validation_loss: 1.5807 | Validation_acc: 51.3889 %\u001b[32m [repeated 4x across cluster]\u001b[0m\n"
     ]
    },
    {
     "name": "stderr",
     "output_type": "stream",
     "text": [
      " 60%|\u001b[34m██████    \u001b[0m| 6/10 [00:16<00:10,  2.67s/it]\u001b[32m [repeated 4x across cluster]\u001b[0m\n"
     ]
    },
    {
     "name": "stdout",
     "output_type": "stream",
     "text": [
      "\u001b[36m(launch_and_fit pid=5149)\u001b[0m \tTrain Epoch: 8 \tTrain_loss: 1.7502 | Train_acc: 38.3523 % | Validation_loss: 1.5829 | Validation_acc: 47.2222 %\u001b[32m [repeated 4x across cluster]\u001b[0m\n"
     ]
    },
    {
     "name": "stderr",
     "output_type": "stream",
     "text": [
      " 80%|\u001b[34m████████  \u001b[0m| 8/10 [00:21<00:05,  2.67s/it]\u001b[32m [repeated 4x across cluster]\u001b[0m\n"
     ]
    },
    {
     "name": "stdout",
     "output_type": "stream",
     "text": [
      "\u001b[36m(launch_and_fit pid=5149)\u001b[0m save graph in  results/FL/\n",
      "\u001b[36m(launch_and_fit pid=5149)\u001b[0m \tTrain Epoch: 10 \tTrain_loss: 1.7524 | Train_acc: 39.0057 % | Validation_loss: 1.5872 | Validation_acc: 49.3056 %\u001b[32m [repeated 4x across cluster]\u001b[0m\n"
     ]
    },
    {
     "name": "stderr",
     "output_type": "stream",
     "text": [
      "100%|\u001b[34m██████████\u001b[0m| 10/10 [00:26<00:00,  2.64s/it]\u001b[32m [repeated 4x across cluster]\u001b[0m\n",
      "DEBUG flwr 2024-07-22 09:44:28,140 | server.py:236 | fit_round 7 received 10 results and 0 failures\n"
     ]
    },
    {
     "name": "stdout",
     "output_type": "stream",
     "text": [
      "Saving round 7 aggregated_parameters...\n",
      "Updated model\n"
     ]
    },
    {
     "name": "stderr",
     "output_type": "stream",
     "text": [
      "INFO flwr 2024-07-22 09:44:30,492 | server.py:125 | fit progress: (7, 1.7371161179109054, {'accuracy': 35.833333333333336}, 1670.0197351440002)\n",
      "DEBUG flwr 2024-07-22 09:44:30,493 | server.py:173 | evaluate_round 7: strategy sampled 10 clients (out of 10)\n"
     ]
    },
    {
     "name": "stdout",
     "output_type": "stream",
     "text": [
      "Server-side evaluation loss 1.7371161179109054 / accuracy 35.833333333333336\n",
      "\u001b[36m(launch_and_evaluate pid=5232)\u001b[0m Run WITHOUT homomorphic encryption\n",
      "\u001b[36m(launch_and_evaluate pid=5232)\u001b[0m  To get the checkpoint\n",
      "\u001b[36m(launch_and_fit pid=5151)\u001b[0m save graph in  results/FL/\n",
      "\u001b[36m(launch_and_fit pid=5151)\u001b[0m \tTrain Epoch: 10 \tTrain_loss: 1.7360 | Train_acc: 35.5966 % | Validation_loss: 1.6863 | Validation_acc: 42.3611 %\n",
      "\u001b[36m(launch_and_evaluate pid=5233)\u001b[0m [Client 4] evaluate, config: {}\n",
      "\u001b[36m(launch_and_evaluate pid=5233)\u001b[0m Updated model\n"
     ]
    },
    {
     "name": "stderr",
     "output_type": "stream",
     "text": [
      "\u001b[36m(launch_and_evaluate pid=5233)\u001b[0m /opt/conda/lib/python3.10/site-packages/sklearn/metrics/_ranking.py:1029: UndefinedMetricWarning: No positive samples in y_true, true positive value should be meaningless\n",
      "\u001b[36m(launch_and_evaluate pid=5233)\u001b[0m   warnings.warn(\n",
      "100%|\u001b[34m██████████\u001b[0m| 10/10 [00:26<00:00,  2.69s/it]\n"
     ]
    },
    {
     "name": "stdout",
     "output_type": "stream",
     "text": [
      "\u001b[36m(launch_and_evaluate pid=5303)\u001b[0m Run WITHOUT homomorphic encryption\u001b[32m [repeated 2x across cluster]\u001b[0m\n",
      "\u001b[36m(launch_and_evaluate pid=5303)\u001b[0m  To get the checkpoint\u001b[32m [repeated 2x across cluster]\u001b[0m\n",
      "\u001b[36m(launch_and_evaluate pid=5232)\u001b[0m [Client 7] evaluate, config: {}\n",
      "\u001b[36m(launch_and_evaluate pid=5232)\u001b[0m Updated model\n",
      "\u001b[36m(launch_and_evaluate pid=5303)\u001b[0m [Client 6] evaluate, config: {}\n",
      "\u001b[36m(launch_and_evaluate pid=5303)\u001b[0m Updated model\n"
     ]
    },
    {
     "name": "stderr",
     "output_type": "stream",
     "text": [
      "\u001b[36m(launch_and_evaluate pid=5305)\u001b[0m /opt/conda/lib/python3.10/site-packages/sklearn/metrics/_ranking.py:1029: UndefinedMetricWarning: No positive samples in y_true, true positive value should be meaningless\n",
      "\u001b[36m(launch_and_evaluate pid=5305)\u001b[0m   warnings.warn(\n"
     ]
    },
    {
     "name": "stdout",
     "output_type": "stream",
     "text": [
      "\u001b[36m(launch_and_evaluate pid=5373)\u001b[0m Run WITHOUT homomorphic encryption\u001b[32m [repeated 2x across cluster]\u001b[0m\n",
      "\u001b[36m(launch_and_evaluate pid=5373)\u001b[0m  To get the checkpoint\u001b[32m [repeated 2x across cluster]\u001b[0m\n",
      "\u001b[36m(launch_and_evaluate pid=5305)\u001b[0m [Client 8] evaluate, config: {}\n",
      "\u001b[36m(launch_and_evaluate pid=5305)\u001b[0m Updated model\n",
      "\u001b[36m(launch_and_evaluate pid=5373)\u001b[0m [Client 2] evaluate, config: {}\n",
      "\u001b[36m(launch_and_evaluate pid=5373)\u001b[0m Updated model\n",
      "\u001b[36m(launch_and_evaluate pid=5444)\u001b[0m Run WITHOUT homomorphic encryption\u001b[32m [repeated 2x across cluster]\u001b[0m\n",
      "\u001b[36m(launch_and_evaluate pid=5444)\u001b[0m  To get the checkpoint\u001b[32m [repeated 2x across cluster]\u001b[0m\n",
      "\u001b[36m(launch_and_evaluate pid=5375)\u001b[0m [Client 1] evaluate, config: {}\n",
      "\u001b[36m(launch_and_evaluate pid=5375)\u001b[0m Updated model\n",
      "\u001b[36m(launch_and_evaluate pid=5444)\u001b[0m [Client 5] evaluate, config: {}\n",
      "\u001b[36m(launch_and_evaluate pid=5444)\u001b[0m Updated model\n",
      "\u001b[36m(launch_and_evaluate pid=5514)\u001b[0m Run WITHOUT homomorphic encryption\u001b[32m [repeated 2x across cluster]\u001b[0m\n",
      "\u001b[36m(launch_and_evaluate pid=5514)\u001b[0m  To get the checkpoint\u001b[32m [repeated 2x across cluster]\u001b[0m\n",
      "\u001b[36m(launch_and_evaluate pid=5446)\u001b[0m [Client 0] evaluate, config: {}\n",
      "\u001b[36m(launch_and_evaluate pid=5446)\u001b[0m Updated model\n",
      "\u001b[36m(launch_and_evaluate pid=5514)\u001b[0m [Client 9] evaluate, config: {}\n",
      "\u001b[36m(launch_and_evaluate pid=5514)\u001b[0m Updated model\n"
     ]
    },
    {
     "name": "stderr",
     "output_type": "stream",
     "text": [
      "\u001b[36m(launch_and_evaluate pid=5514)\u001b[0m /opt/conda/lib/python3.10/site-packages/sklearn/metrics/_ranking.py:1029: UndefinedMetricWarning: No positive samples in y_true, true positive value should be meaningless\n",
      "\u001b[36m(launch_and_evaluate pid=5514)\u001b[0m   warnings.warn(\n",
      "DEBUG flwr 2024-07-22 09:45:30,173 | server.py:187 | evaluate_round 7 received 10 results and 0 failures\n",
      "DEBUG flwr 2024-07-22 09:45:30,174 | server.py:222 | fit_round 8: strategy sampled 10 clients (out of 10)\n"
     ]
    },
    {
     "name": "stdout",
     "output_type": "stream",
     "text": [
      "\u001b[36m(launch_and_fit pid=5594)\u001b[0m Run WITHOUT homomorphic encryption\u001b[32m [repeated 2x across cluster]\u001b[0m\n",
      "\u001b[36m(launch_and_fit pid=5594)\u001b[0m  To get the checkpoint\u001b[32m [repeated 2x across cluster]\u001b[0m\n",
      "\u001b[36m(launch_and_evaluate pid=5516)\u001b[0m [Client 3] evaluate, config: {}\n",
      "\u001b[36m(launch_and_evaluate pid=5516)\u001b[0m Updated model\n",
      "\u001b[36m(launch_and_fit pid=5595)\u001b[0m [Client 0, round 8] fit, config: {'learning_rate': 0.003, 'batch_size': '16', 'server_round': 8, 'local_epochs': 10}\n",
      "\u001b[36m(launch_and_fit pid=5595)\u001b[0m Updated model\n"
     ]
    },
    {
     "name": "stderr",
     "output_type": "stream",
     "text": [
      "  0%|\u001b[34m          \u001b[0m| 0/10 [00:00<?, ?it/s]\n"
     ]
    },
    {
     "name": "stdout",
     "output_type": "stream",
     "text": [
      "\u001b[36m(launch_and_fit pid=5595)\u001b[0m \tTrain Epoch: 1 \tTrain_loss: 1.7481 | Train_acc: 36.6761 % | Validation_loss: 1.8108 | Validation_acc: 20.8333 %\n"
     ]
    },
    {
     "name": "stderr",
     "output_type": "stream",
     "text": [
      " 10%|\u001b[34m█         \u001b[0m| 1/10 [00:02<00:25,  2.78s/it]\n"
     ]
    },
    {
     "name": "stdout",
     "output_type": "stream",
     "text": [
      "\u001b[36m(launch_and_fit pid=5595)\u001b[0m Run WITHOUT homomorphic encryption\n",
      "\u001b[36m(launch_and_fit pid=5595)\u001b[0m  To get the checkpoint\n",
      "\u001b[36m(launch_and_fit pid=5594)\u001b[0m [Client 3, round 8] fit, config: {'learning_rate': 0.003, 'batch_size': '16', 'server_round': 8, 'local_epochs': 10}\n",
      "\u001b[36m(launch_and_fit pid=5594)\u001b[0m Updated model\n"
     ]
    },
    {
     "name": "stderr",
     "output_type": "stream",
     "text": [
      "  0%|\u001b[34m          \u001b[0m| 0/10 [00:00<?, ?it/s]\n"
     ]
    },
    {
     "name": "stdout",
     "output_type": "stream",
     "text": [
      "\u001b[36m(launch_and_fit pid=5595)\u001b[0m \tTrain Epoch: 3 \tTrain_loss: 1.7115 | Train_acc: 38.3523 % | Validation_loss: 1.8070 | Validation_acc: 25.0000 %\u001b[32m [repeated 4x across cluster]\u001b[0m\n"
     ]
    },
    {
     "name": "stderr",
     "output_type": "stream",
     "text": [
      " 30%|\u001b[34m███       \u001b[0m| 3/10 [00:08<00:19,  2.82s/it]\u001b[32m [repeated 4x across cluster]\u001b[0m\n"
     ]
    },
    {
     "name": "stdout",
     "output_type": "stream",
     "text": [
      "\u001b[36m(launch_and_fit pid=5595)\u001b[0m \tTrain Epoch: 5 \tTrain_loss: 1.7146 | Train_acc: 37.2727 % | Validation_loss: 1.8707 | Validation_acc: 27.0833 %\u001b[32m [repeated 4x across cluster]\u001b[0m\n"
     ]
    },
    {
     "name": "stderr",
     "output_type": "stream",
     "text": [
      " 50%|\u001b[34m█████     \u001b[0m| 5/10 [00:13<00:13,  2.64s/it]\u001b[32m [repeated 4x across cluster]\u001b[0m\n"
     ]
    },
    {
     "name": "stdout",
     "output_type": "stream",
     "text": [
      "\u001b[36m(launch_and_fit pid=5595)\u001b[0m \tTrain Epoch: 7 \tTrain_loss: 1.6875 | Train_acc: 39.0057 % | Validation_loss: 1.8317 | Validation_acc: 29.1667 %\u001b[32m [repeated 4x across cluster]\u001b[0m\n"
     ]
    },
    {
     "name": "stderr",
     "output_type": "stream",
     "text": [
      " 70%|\u001b[34m███████   \u001b[0m| 7/10 [00:18<00:07,  2.62s/it]\u001b[32m [repeated 4x across cluster]\u001b[0m\n"
     ]
    },
    {
     "name": "stdout",
     "output_type": "stream",
     "text": [
      "\u001b[36m(launch_and_fit pid=5595)\u001b[0m \tTrain Epoch: 9 \tTrain_loss: 1.6763 | Train_acc: 38.6648 % | Validation_loss: 1.8457 | Validation_acc: 27.0833 %\u001b[32m [repeated 4x across cluster]\u001b[0m\n"
     ]
    },
    {
     "name": "stderr",
     "output_type": "stream",
     "text": [
      " 90%|\u001b[34m█████████ \u001b[0m| 9/10 [00:23<00:02,  2.57s/it]\u001b[32m [repeated 4x across cluster]\u001b[0m\n"
     ]
    },
    {
     "name": "stdout",
     "output_type": "stream",
     "text": [
      "\u001b[36m(launch_and_fit pid=5595)\u001b[0m save graph in  results/FL/\n",
      "\u001b[36m(launch_and_fit pid=5667)\u001b[0m Run WITHOUT homomorphic encryption\n",
      "\u001b[36m(launch_and_fit pid=5667)\u001b[0m  To get the checkpoint\n",
      "\u001b[36m(launch_and_fit pid=5594)\u001b[0m \tTrain Epoch: 10 \tTrain_loss: 1.7302 | Train_acc: 36.1648 % | Validation_loss: 1.8081 | Validation_acc: 29.8611 %\u001b[32m [repeated 3x across cluster]\u001b[0m\n",
      "\u001b[36m(launch_and_fit pid=5594)\u001b[0m save graph in  results/FL/\n"
     ]
    },
    {
     "name": "stderr",
     "output_type": "stream",
     "text": [
      "  0%|\u001b[34m          \u001b[0m| 0/10 [00:00<?, ?it/s]\n",
      "100%|\u001b[34m██████████\u001b[0m| 10/10 [00:26<00:00,  2.65s/it]\u001b[32m [repeated 3x across cluster]\u001b[0m\n"
     ]
    },
    {
     "name": "stdout",
     "output_type": "stream",
     "text": [
      "\u001b[36m(launch_and_fit pid=5667)\u001b[0m [Client 8, round 8] fit, config: {'learning_rate': 0.003, 'batch_size': '16', 'server_round': 8, 'local_epochs': 10}\n",
      "\u001b[36m(launch_and_fit pid=5667)\u001b[0m Updated model\n"
     ]
    },
    {
     "name": "stderr",
     "output_type": "stream",
     "text": [
      "  0%|\u001b[34m          \u001b[0m| 0/10 [00:00<?, ?it/s]\n",
      " 20%|\u001b[34m██        \u001b[0m| 2/10 [00:05<00:22,  2.87s/it]\u001b[32m [repeated 3x across cluster]\u001b[0m\n"
     ]
    },
    {
     "name": "stdout",
     "output_type": "stream",
     "text": [
      "\u001b[36m(launch_and_fit pid=5669)\u001b[0m Run WITHOUT homomorphic encryption\n",
      "\u001b[36m(launch_and_fit pid=5669)\u001b[0m  To get the checkpoint\n",
      "\u001b[36m(launch_and_fit pid=5667)\u001b[0m \tTrain Epoch: 2 \tTrain_loss: 1.7419 | Train_acc: 32.4432 % | Validation_loss: 1.8328 | Validation_acc: 20.8333 %\u001b[32m [repeated 3x across cluster]\u001b[0m\n",
      "\u001b[36m(launch_and_fit pid=5669)\u001b[0m [Client 9, round 8] fit, config: {'learning_rate': 0.003, 'batch_size': '16', 'server_round': 8, 'local_epochs': 10}\n",
      "\u001b[36m(launch_and_fit pid=5669)\u001b[0m Updated model\n",
      "\u001b[36m(launch_and_fit pid=5669)\u001b[0m \tTrain Epoch: 4 \tTrain_loss: 1.7186 | Train_acc: 40.1667 % | Validation_loss: 1.7452 | Validation_acc: 34.0278 %\u001b[32m [repeated 4x across cluster]\u001b[0m\n"
     ]
    },
    {
     "name": "stderr",
     "output_type": "stream",
     "text": [
      " 40%|\u001b[34m████      \u001b[0m| 4/10 [00:10<00:15,  2.60s/it]\u001b[32m [repeated 4x across cluster]\u001b[0m\n",
      " 60%|\u001b[34m██████    \u001b[0m| 6/10 [00:16<00:10,  2.62s/it]\u001b[32m [repeated 5x across cluster]\u001b[0m\n"
     ]
    },
    {
     "name": "stdout",
     "output_type": "stream",
     "text": [
      "\u001b[36m(launch_and_fit pid=5667)\u001b[0m \tTrain Epoch: 6 \tTrain_loss: 1.6991 | Train_acc: 38.9773 % | Validation_loss: 1.8828 | Validation_acc: 20.8333 %\u001b[32m [repeated 5x across cluster]\u001b[0m\n",
      "\u001b[36m(launch_and_fit pid=5669)\u001b[0m \tTrain Epoch: 8 \tTrain_loss: 1.7200 | Train_acc: 40.8333 % | Validation_loss: 1.7284 | Validation_acc: 36.1111 %\u001b[32m [repeated 3x across cluster]\u001b[0m\n"
     ]
    },
    {
     "name": "stderr",
     "output_type": "stream",
     "text": [
      " 80%|\u001b[34m████████  \u001b[0m| 8/10 [00:21<00:05,  2.66s/it]\u001b[32m [repeated 3x across cluster]\u001b[0m\n"
     ]
    },
    {
     "name": "stdout",
     "output_type": "stream",
     "text": [
      "\u001b[36m(launch_and_fit pid=5669)\u001b[0m save graph in  results/FL/\n",
      "\u001b[36m(launch_and_fit pid=5669)\u001b[0m \tTrain Epoch: 10 \tTrain_loss: 1.7036 | Train_acc: 41.6667 % | Validation_loss: 1.7304 | Validation_acc: 36.1111 %\u001b[32m [repeated 4x across cluster]\u001b[0m\n"
     ]
    },
    {
     "name": "stderr",
     "output_type": "stream",
     "text": [
      "100%|\u001b[34m██████████\u001b[0m| 10/10 [00:26<00:00,  2.63s/it]\u001b[32m [repeated 4x across cluster]\u001b[0m\n"
     ]
    },
    {
     "name": "stdout",
     "output_type": "stream",
     "text": [
      "\u001b[36m(launch_and_fit pid=5742)\u001b[0m Run WITHOUT homomorphic encryption\n",
      "\u001b[36m(launch_and_fit pid=5742)\u001b[0m  To get the checkpoint\n",
      "\u001b[36m(launch_and_fit pid=5667)\u001b[0m save graph in  results/FL/\n",
      "\u001b[36m(launch_and_fit pid=5667)\u001b[0m \tTrain Epoch: 10 \tTrain_loss: 1.6935 | Train_acc: 41.1648 % | Validation_loss: 1.8286 | Validation_acc: 29.8611 %\n"
     ]
    },
    {
     "name": "stderr",
     "output_type": "stream",
     "text": [
      "  0%|\u001b[34m          \u001b[0m| 0/10 [00:00<?, ?it/s]\n",
      "100%|\u001b[34m██████████\u001b[0m| 10/10 [00:27<00:00,  2.73s/it]\n"
     ]
    },
    {
     "name": "stdout",
     "output_type": "stream",
     "text": [
      "\u001b[36m(launch_and_fit pid=5742)\u001b[0m [Client 4, round 8] fit, config: {'learning_rate': 0.003, 'batch_size': '16', 'server_round': 8, 'local_epochs': 10}\n",
      "\u001b[36m(launch_and_fit pid=5742)\u001b[0m Updated model\n"
     ]
    },
    {
     "name": "stderr",
     "output_type": "stream",
     "text": [
      " 10%|\u001b[34m█         \u001b[0m| 1/10 [00:02<00:25,  2.85s/it]\n"
     ]
    },
    {
     "name": "stdout",
     "output_type": "stream",
     "text": [
      "\u001b[36m(launch_and_fit pid=5742)\u001b[0m \tTrain Epoch: 1 \tTrain_loss: 1.7699 | Train_acc: 36.0511 % | Validation_loss: 1.6952 | Validation_acc: 44.4444 %\n"
     ]
    },
    {
     "name": "stderr",
     "output_type": "stream",
     "text": [
      "  0%|\u001b[34m          \u001b[0m| 0/10 [00:00<?, ?it/s]\n"
     ]
    },
    {
     "name": "stdout",
     "output_type": "stream",
     "text": [
      "\u001b[36m(launch_and_fit pid=5766)\u001b[0m Run WITHOUT homomorphic encryption\n",
      "\u001b[36m(launch_and_fit pid=5766)\u001b[0m  To get the checkpoint\n",
      "\u001b[36m(launch_and_fit pid=5766)\u001b[0m [Client 7, round 8] fit, config: {'learning_rate': 0.003, 'batch_size': '16', 'server_round': 8, 'local_epochs': 10}\n",
      "\u001b[36m(launch_and_fit pid=5766)\u001b[0m Updated model\n",
      "\u001b[36m(launch_and_fit pid=5766)\u001b[0m \tTrain Epoch: 3 \tTrain_loss: 1.7832 | Train_acc: 33.4091 % | Validation_loss: 1.6051 | Validation_acc: 47.2222 %\u001b[32m [repeated 5x across cluster]\u001b[0m\n"
     ]
    },
    {
     "name": "stderr",
     "output_type": "stream",
     "text": [
      " 30%|\u001b[34m███       \u001b[0m| 3/10 [00:07<00:18,  2.64s/it]\u001b[32m [repeated 5x across cluster]\u001b[0m\n"
     ]
    },
    {
     "name": "stdout",
     "output_type": "stream",
     "text": [
      "\u001b[36m(launch_and_fit pid=5766)\u001b[0m \tTrain Epoch: 5 \tTrain_loss: 1.7581 | Train_acc: 36.6477 % | Validation_loss: 1.5794 | Validation_acc: 47.2222 %\u001b[32m [repeated 4x across cluster]\u001b[0m\n"
     ]
    },
    {
     "name": "stderr",
     "output_type": "stream",
     "text": [
      " 50%|\u001b[34m█████     \u001b[0m| 5/10 [00:13<00:13,  2.68s/it]\u001b[32m [repeated 4x across cluster]\u001b[0m\n",
      " 80%|\u001b[34m████████  \u001b[0m| 8/10 [00:20<00:05,  2.56s/it]\u001b[32m [repeated 5x across cluster]\u001b[0m\n"
     ]
    },
    {
     "name": "stdout",
     "output_type": "stream",
     "text": [
      "\u001b[36m(launch_and_fit pid=5742)\u001b[0m \tTrain Epoch: 8 \tTrain_loss: 1.7238 | Train_acc: 34.1477 % | Validation_loss: 1.7150 | Validation_acc: 44.4444 %\u001b[32m [repeated 5x across cluster]\u001b[0m\n"
     ]
    },
    {
     "name": "stderr",
     "output_type": "stream",
     "text": [
      "100%|\u001b[34m██████████\u001b[0m| 10/10 [00:26<00:00,  2.61s/it]\u001b[32m [repeated 4x across cluster]\u001b[0m\n"
     ]
    },
    {
     "name": "stdout",
     "output_type": "stream",
     "text": [
      "\u001b[36m(launch_and_fit pid=5742)\u001b[0m save graph in  results/FL/\n",
      "\u001b[36m(launch_and_fit pid=5742)\u001b[0m \tTrain Epoch: 10 \tTrain_loss: 1.7390 | Train_acc: 35.3977 % | Validation_loss: 1.6768 | Validation_acc: 42.3611 %\u001b[32m [repeated 4x across cluster]\u001b[0m\n",
      "\u001b[36m(launch_and_fit pid=5815)\u001b[0m Run WITHOUT homomorphic encryption\n",
      "\u001b[36m(launch_and_fit pid=5815)\u001b[0m  To get the checkpoint\n",
      "\u001b[36m(launch_and_fit pid=5766)\u001b[0m save graph in  results/FL/\n",
      "\u001b[36m(launch_and_fit pid=5766)\u001b[0m \tTrain Epoch: 10 \tTrain_loss: 1.7384 | Train_acc: 36.3636 % | Validation_loss: 1.5806 | Validation_acc: 45.1389 %\n",
      "\u001b[36m(launch_and_fit pid=5815)\u001b[0m [Client 2, round 8] fit, config: {'learning_rate': 0.003, 'batch_size': '16', 'server_round': 8, 'local_epochs': 10}\n",
      "\u001b[36m(launch_and_fit pid=5815)\u001b[0m Updated model\n"
     ]
    },
    {
     "name": "stderr",
     "output_type": "stream",
     "text": [
      "  0%|\u001b[34m          \u001b[0m| 0/10 [00:00<?, ?it/s]\n",
      "100%|\u001b[34m██████████\u001b[0m| 10/10 [00:26<00:00,  2.65s/it]\n"
     ]
    },
    {
     "name": "stdout",
     "output_type": "stream",
     "text": [
      "\u001b[36m(launch_and_fit pid=5815)\u001b[0m \tTrain Epoch: 1 \tTrain_loss: 1.7319 | Train_acc: 36.4773 % | Validation_loss: 1.7511 | Validation_acc: 29.8611 %\n"
     ]
    },
    {
     "name": "stderr",
     "output_type": "stream",
     "text": [
      " 10%|\u001b[34m█         \u001b[0m| 1/10 [00:02<00:25,  2.83s/it]\n"
     ]
    },
    {
     "name": "stdout",
     "output_type": "stream",
     "text": [
      "\u001b[36m(launch_and_fit pid=5841)\u001b[0m Run WITHOUT homomorphic encryption\n",
      "\u001b[36m(launch_and_fit pid=5841)\u001b[0m  To get the checkpoint\n",
      "\u001b[36m(launch_and_fit pid=5841)\u001b[0m [Client 5, round 8] fit, config: {'learning_rate': 0.003, 'batch_size': '16', 'server_round': 8, 'local_epochs': 10}\n",
      "\u001b[36m(launch_and_fit pid=5841)\u001b[0m Updated model\n"
     ]
    },
    {
     "name": "stderr",
     "output_type": "stream",
     "text": [
      "  0%|\u001b[34m          \u001b[0m| 0/10 [00:00<?, ?it/s]\n"
     ]
    },
    {
     "name": "stdout",
     "output_type": "stream",
     "text": [
      "\u001b[36m(launch_and_fit pid=5815)\u001b[0m \tTrain Epoch: 3 \tTrain_loss: 1.7283 | Train_acc: 36.3636 % | Validation_loss: 1.7714 | Validation_acc: 27.7778 %\u001b[32m [repeated 4x across cluster]\u001b[0m\n"
     ]
    },
    {
     "name": "stderr",
     "output_type": "stream",
     "text": [
      " 30%|\u001b[34m███       \u001b[0m| 3/10 [00:07<00:18,  2.59s/it]\u001b[32m [repeated 4x across cluster]\u001b[0m\n"
     ]
    },
    {
     "name": "stdout",
     "output_type": "stream",
     "text": [
      "\u001b[36m(launch_and_fit pid=5841)\u001b[0m \tTrain Epoch: 5 \tTrain_loss: 1.7469 | Train_acc: 36.6477 % | Validation_loss: 1.8486 | Validation_acc: 20.8333 %\u001b[32m [repeated 5x across cluster]\u001b[0m\n"
     ]
    },
    {
     "name": "stderr",
     "output_type": "stream",
     "text": [
      " 50%|\u001b[34m█████     \u001b[0m| 5/10 [00:13<00:12,  2.58s/it]\u001b[32m [repeated 5x across cluster]\u001b[0m\n"
     ]
    },
    {
     "name": "stdout",
     "output_type": "stream",
     "text": [
      "\u001b[36m(launch_and_fit pid=5841)\u001b[0m \tTrain Epoch: 7 \tTrain_loss: 1.7417 | Train_acc: 33.6932 % | Validation_loss: 1.7705 | Validation_acc: 47.2222 %\u001b[32m [repeated 4x across cluster]\u001b[0m\n"
     ]
    },
    {
     "name": "stderr",
     "output_type": "stream",
     "text": [
      " 70%|\u001b[34m███████   \u001b[0m| 7/10 [00:18<00:07,  2.57s/it]\u001b[32m [repeated 4x across cluster]\u001b[0m\n"
     ]
    },
    {
     "name": "stdout",
     "output_type": "stream",
     "text": [
      "\u001b[36m(launch_and_fit pid=5841)\u001b[0m \tTrain Epoch: 9 \tTrain_loss: 1.7492 | Train_acc: 35.4261 % | Validation_loss: 1.7628 | Validation_acc: 31.9444 %\u001b[32m [repeated 4x across cluster]\u001b[0m\n"
     ]
    },
    {
     "name": "stderr",
     "output_type": "stream",
     "text": [
      " 90%|\u001b[34m█████████ \u001b[0m| 9/10 [00:23<00:02,  2.64s/it]\u001b[32m [repeated 4x across cluster]\u001b[0m\n"
     ]
    },
    {
     "name": "stdout",
     "output_type": "stream",
     "text": [
      "\u001b[36m(launch_and_fit pid=5815)\u001b[0m save graph in  results/FL/\n",
      "\u001b[36m(launch_and_fit pid=5890)\u001b[0m Run WITHOUT homomorphic encryption\n",
      "\u001b[36m(launch_and_fit pid=5890)\u001b[0m  To get the checkpoint\n",
      "\u001b[36m(launch_and_fit pid=5841)\u001b[0m \tTrain Epoch: 10 \tTrain_loss: 1.7387 | Train_acc: 37.7841 % | Validation_loss: 1.7356 | Validation_acc: 36.1111 %\u001b[32m [repeated 2x across cluster]\u001b[0m\n",
      "\u001b[36m(launch_and_fit pid=5841)\u001b[0m save graph in  results/FL/\n"
     ]
    },
    {
     "name": "stderr",
     "output_type": "stream",
     "text": [
      "  0%|\u001b[34m          \u001b[0m| 0/10 [00:00<?, ?it/s]\n",
      "100%|\u001b[34m██████████\u001b[0m| 10/10 [00:26<00:00,  2.66s/it]\u001b[32m [repeated 2x across cluster]\u001b[0m\n"
     ]
    },
    {
     "name": "stdout",
     "output_type": "stream",
     "text": [
      "\u001b[36m(launch_and_fit pid=5890)\u001b[0m [Client 6, round 8] fit, config: {'learning_rate': 0.003, 'batch_size': '16', 'server_round': 8, 'local_epochs': 10}\n",
      "\u001b[36m(launch_and_fit pid=5890)\u001b[0m Updated model\n",
      "\u001b[36m(launch_and_fit pid=5915)\u001b[0m Run WITHOUT homomorphic encryption\n",
      "\u001b[36m(launch_and_fit pid=5915)\u001b[0m  To get the checkpoint\n",
      "\u001b[36m(launch_and_fit pid=5915)\u001b[0m \tTrain Epoch: 1 \tTrain_loss: 1.7795 | Train_acc: 31.5341 % | Validation_loss: 1.9150 | Validation_acc: 20.8333 %\u001b[32m [repeated 2x across cluster]\u001b[0m\n"
     ]
    },
    {
     "name": "stderr",
     "output_type": "stream",
     "text": [
      "  0%|\u001b[34m          \u001b[0m| 0/10 [00:00<?, ?it/s]\n",
      " 20%|\u001b[34m██        \u001b[0m| 2/10 [00:05<00:21,  2.63s/it]\u001b[32m [repeated 3x across cluster]\u001b[0m\n"
     ]
    },
    {
     "name": "stdout",
     "output_type": "stream",
     "text": [
      "\u001b[36m(launch_and_fit pid=5915)\u001b[0m [Client 1, round 8] fit, config: {'learning_rate': 0.003, 'batch_size': '16', 'server_round': 8, 'local_epochs': 10}\n",
      "\u001b[36m(launch_and_fit pid=5915)\u001b[0m Updated model\n",
      "\u001b[36m(launch_and_fit pid=5915)\u001b[0m \tTrain Epoch: 3 \tTrain_loss: 1.7641 | Train_acc: 29.8011 % | Validation_loss: 1.8409 | Validation_acc: 34.0278 %\u001b[32m [repeated 4x across cluster]\u001b[0m\n"
     ]
    },
    {
     "name": "stderr",
     "output_type": "stream",
     "text": [
      " 40%|\u001b[34m████      \u001b[0m| 4/10 [00:10<00:15,  2.56s/it]\u001b[32m [repeated 5x across cluster]\u001b[0m\n"
     ]
    },
    {
     "name": "stdout",
     "output_type": "stream",
     "text": [
      "\u001b[36m(launch_and_fit pid=5890)\u001b[0m \tTrain Epoch: 6 \tTrain_loss: 1.6861 | Train_acc: 43.0682 % | Validation_loss: 1.8956 | Validation_acc: 43.0556 %\u001b[32m [repeated 5x across cluster]\u001b[0m\n"
     ]
    },
    {
     "name": "stderr",
     "output_type": "stream",
     "text": [
      " 60%|\u001b[34m██████    \u001b[0m| 6/10 [00:15<00:10,  2.63s/it]\u001b[32m [repeated 4x across cluster]\u001b[0m\n"
     ]
    },
    {
     "name": "stdout",
     "output_type": "stream",
     "text": [
      "\u001b[36m(launch_and_fit pid=5890)\u001b[0m \tTrain Epoch: 8 \tTrain_loss: 1.6797 | Train_acc: 42.4148 % | Validation_loss: 1.8996 | Validation_acc: 40.9722 %\u001b[32m [repeated 4x across cluster]\u001b[0m\n"
     ]
    },
    {
     "name": "stderr",
     "output_type": "stream",
     "text": [
      " 80%|\u001b[34m████████  \u001b[0m| 8/10 [00:20<00:05,  2.59s/it]\u001b[32m [repeated 4x across cluster]\u001b[0m\n"
     ]
    },
    {
     "name": "stdout",
     "output_type": "stream",
     "text": [
      "\u001b[36m(launch_and_fit pid=5890)\u001b[0m save graph in  results/FL/\n",
      "\u001b[36m(launch_and_fit pid=5890)\u001b[0m \tTrain Epoch: 10 \tTrain_loss: 1.6684 | Train_acc: 43.9773 % | Validation_loss: 1.8777 | Validation_acc: 38.8889 %\u001b[32m [repeated 4x across cluster]\u001b[0m\n"
     ]
    },
    {
     "name": "stderr",
     "output_type": "stream",
     "text": [
      "100%|\u001b[34m██████████\u001b[0m| 10/10 [00:25<00:00,  2.58s/it]\u001b[32m [repeated 4x across cluster]\u001b[0m\n",
      "DEBUG flwr 2024-07-22 09:48:39,415 | server.py:236 | fit_round 8 received 10 results and 0 failures\n"
     ]
    },
    {
     "name": "stdout",
     "output_type": "stream",
     "text": [
      "Saving round 8 aggregated_parameters...\n",
      "Updated model\n"
     ]
    },
    {
     "name": "stderr",
     "output_type": "stream",
     "text": [
      "INFO flwr 2024-07-22 09:48:41,831 | server.py:125 | fit progress: (8, 1.7384837519038807, {'accuracy': 37.007575757575765}, 1921.3580525329999)\n",
      "DEBUG flwr 2024-07-22 09:48:41,832 | server.py:173 | evaluate_round 8: strategy sampled 10 clients (out of 10)\n"
     ]
    },
    {
     "name": "stdout",
     "output_type": "stream",
     "text": [
      "Server-side evaluation loss 1.7384837519038807 / accuracy 37.007575757575765\n",
      "\u001b[36m(launch_and_evaluate pid=5974)\u001b[0m Run WITHOUT homomorphic encryption\n",
      "\u001b[36m(launch_and_evaluate pid=5974)\u001b[0m  To get the checkpoint\n",
      "\u001b[36m(launch_and_fit pid=5915)\u001b[0m save graph in  results/FL/\n",
      "\u001b[36m(launch_and_fit pid=5915)\u001b[0m \tTrain Epoch: 10 \tTrain_loss: 1.7541 | Train_acc: 32.3011 % | Validation_loss: 1.9100 | Validation_acc: 27.0833 %\n",
      "\u001b[36m(launch_and_evaluate pid=5974)\u001b[0m [Client 5] evaluate, config: {}\n",
      "\u001b[36m(launch_and_evaluate pid=5974)\u001b[0m Updated model\n"
     ]
    },
    {
     "name": "stderr",
     "output_type": "stream",
     "text": [
      "\u001b[36m(launch_and_evaluate pid=5973)\u001b[0m /opt/conda/lib/python3.10/site-packages/sklearn/metrics/_ranking.py:1029: UndefinedMetricWarning: No positive samples in y_true, true positive value should be meaningless\n",
      "\u001b[36m(launch_and_evaluate pid=5973)\u001b[0m   warnings.warn(\n"
     ]
    },
    {
     "name": "stdout",
     "output_type": "stream",
     "text": [
      "\u001b[36m(launch_and_evaluate pid=6044)\u001b[0m Run WITHOUT homomorphic encryption\u001b[32m [repeated 2x across cluster]\u001b[0m\n",
      "\u001b[36m(launch_and_evaluate pid=6044)\u001b[0m  To get the checkpoint\u001b[32m [repeated 2x across cluster]\u001b[0m\n",
      "\u001b[36m(launch_and_evaluate pid=5973)\u001b[0m [Client 8] evaluate, config: {}\n",
      "\u001b[36m(launch_and_evaluate pid=5973)\u001b[0m Updated model\n",
      "\u001b[36m(launch_and_evaluate pid=6044)\u001b[0m [Client 1] evaluate, config: {}\n",
      "\u001b[36m(launch_and_evaluate pid=6044)\u001b[0m Updated model\n",
      "\u001b[36m(launch_and_evaluate pid=6114)\u001b[0m Run WITHOUT homomorphic encryption\u001b[32m [repeated 2x across cluster]\u001b[0m\n",
      "\u001b[36m(launch_and_evaluate pid=6114)\u001b[0m  To get the checkpoint\u001b[32m [repeated 2x across cluster]\u001b[0m\n",
      "\u001b[36m(launch_and_evaluate pid=6046)\u001b[0m [Client 7] evaluate, config: {}\n",
      "\u001b[36m(launch_and_evaluate pid=6046)\u001b[0m Updated model\n",
      "\u001b[36m(launch_and_evaluate pid=6114)\u001b[0m [Client 0] evaluate, config: {}\n",
      "\u001b[36m(launch_and_evaluate pid=6114)\u001b[0m Updated model\n"
     ]
    },
    {
     "name": "stderr",
     "output_type": "stream",
     "text": [
      "\u001b[36m(launch_and_evaluate pid=6116)\u001b[0m /opt/conda/lib/python3.10/site-packages/sklearn/metrics/_ranking.py:1029: UndefinedMetricWarning: No positive samples in y_true, true positive value should be meaningless\n",
      "\u001b[36m(launch_and_evaluate pid=6116)\u001b[0m   warnings.warn(\n"
     ]
    },
    {
     "name": "stdout",
     "output_type": "stream",
     "text": [
      "\u001b[36m(launch_and_evaluate pid=6184)\u001b[0m Run WITHOUT homomorphic encryption\u001b[32m [repeated 2x across cluster]\u001b[0m\n",
      "\u001b[36m(launch_and_evaluate pid=6184)\u001b[0m  To get the checkpoint\u001b[32m [repeated 2x across cluster]\u001b[0m\n",
      "\u001b[36m(launch_and_evaluate pid=6116)\u001b[0m [Client 9] evaluate, config: {}\n",
      "\u001b[36m(launch_and_evaluate pid=6116)\u001b[0m Updated model\n",
      "\u001b[36m(launch_and_evaluate pid=6184)\u001b[0m [Client 4] evaluate, config: {}\n",
      "\u001b[36m(launch_and_evaluate pid=6184)\u001b[0m Updated model\n"
     ]
    },
    {
     "name": "stderr",
     "output_type": "stream",
     "text": [
      "\u001b[36m(launch_and_evaluate pid=6184)\u001b[0m /opt/conda/lib/python3.10/site-packages/sklearn/metrics/_ranking.py:1029: UndefinedMetricWarning: No positive samples in y_true, true positive value should be meaningless\n",
      "\u001b[36m(launch_and_evaluate pid=6184)\u001b[0m   warnings.warn(\n"
     ]
    },
    {
     "name": "stdout",
     "output_type": "stream",
     "text": [
      "\u001b[36m(launch_and_evaluate pid=6254)\u001b[0m Run WITHOUT homomorphic encryption\u001b[32m [repeated 2x across cluster]\u001b[0m\n",
      "\u001b[36m(launch_and_evaluate pid=6254)\u001b[0m  To get the checkpoint\u001b[32m [repeated 2x across cluster]\u001b[0m\n",
      "\u001b[36m(launch_and_evaluate pid=6186)\u001b[0m [Client 3] evaluate, config: {}\n",
      "\u001b[36m(launch_and_evaluate pid=6186)\u001b[0m Updated model\n",
      "\u001b[36m(launch_and_evaluate pid=6254)\u001b[0m [Client 2] evaluate, config: {}\n",
      "\u001b[36m(launch_and_evaluate pid=6254)\u001b[0m Updated model\n"
     ]
    },
    {
     "name": "stderr",
     "output_type": "stream",
     "text": [
      "DEBUG flwr 2024-07-22 09:49:41,041 | server.py:187 | evaluate_round 8 received 10 results and 0 failures\n",
      "DEBUG flwr 2024-07-22 09:49:41,042 | server.py:222 | fit_round 9: strategy sampled 10 clients (out of 10)\n"
     ]
    },
    {
     "name": "stdout",
     "output_type": "stream",
     "text": [
      "\u001b[36m(launch_and_fit pid=6333)\u001b[0m Run WITHOUT homomorphic encryption\u001b[32m [repeated 2x across cluster]\u001b[0m\n",
      "\u001b[36m(launch_and_fit pid=6333)\u001b[0m  To get the checkpoint\u001b[32m [repeated 2x across cluster]\u001b[0m\n",
      "\u001b[36m(launch_and_evaluate pid=6256)\u001b[0m [Client 6] evaluate, config: {}\n",
      "\u001b[36m(launch_and_evaluate pid=6256)\u001b[0m Updated model\n",
      "\u001b[36m(launch_and_fit pid=6333)\u001b[0m [Client 2, round 9] fit, config: {'learning_rate': 0.003, 'batch_size': '16', 'server_round': 9, 'local_epochs': 10}\n",
      "\u001b[36m(launch_and_fit pid=6333)\u001b[0m Updated model\n"
     ]
    },
    {
     "name": "stderr",
     "output_type": "stream",
     "text": [
      "  0%|\u001b[34m          \u001b[0m| 0/10 [00:00<?, ?it/s]\n"
     ]
    },
    {
     "name": "stdout",
     "output_type": "stream",
     "text": [
      "\u001b[36m(launch_and_fit pid=6333)\u001b[0m \tTrain Epoch: 1 \tTrain_loss: 1.7376 | Train_acc: 36.5057 % | Validation_loss: 1.7550 | Validation_acc: 27.7778 %\n"
     ]
    },
    {
     "name": "stderr",
     "output_type": "stream",
     "text": [
      " 10%|\u001b[34m█         \u001b[0m| 1/10 [00:02<00:26,  2.97s/it]\n"
     ]
    },
    {
     "name": "stdout",
     "output_type": "stream",
     "text": [
      "\u001b[36m(launch_and_fit pid=6334)\u001b[0m Run WITHOUT homomorphic encryption\n",
      "\u001b[36m(launch_and_fit pid=6334)\u001b[0m  To get the checkpoint\n",
      "\u001b[36m(launch_and_fit pid=6334)\u001b[0m [Client 5, round 9] fit, config: {'learning_rate': 0.003, 'batch_size': '16', 'server_round': 9, 'local_epochs': 10}\n",
      "\u001b[36m(launch_and_fit pid=6334)\u001b[0m Updated model\n"
     ]
    },
    {
     "name": "stderr",
     "output_type": "stream",
     "text": [
      "  0%|\u001b[34m          \u001b[0m| 0/10 [00:00<?, ?it/s]\n"
     ]
    },
    {
     "name": "stdout",
     "output_type": "stream",
     "text": [
      "\u001b[36m(launch_and_fit pid=6333)\u001b[0m \tTrain Epoch: 3 \tTrain_loss: 1.7107 | Train_acc: 36.0227 % | Validation_loss: 1.7334 | Validation_acc: 23.6111 %\u001b[32m [repeated 4x across cluster]\u001b[0m\n"
     ]
    },
    {
     "name": "stderr",
     "output_type": "stream",
     "text": [
      " 30%|\u001b[34m███       \u001b[0m| 3/10 [00:08<00:18,  2.65s/it]\u001b[32m [repeated 4x across cluster]\u001b[0m\n",
      " 50%|\u001b[34m█████     \u001b[0m| 5/10 [00:13<00:13,  2.71s/it]\u001b[32m [repeated 4x across cluster]\u001b[0m\n"
     ]
    },
    {
     "name": "stdout",
     "output_type": "stream",
     "text": [
      "\u001b[36m(launch_and_fit pid=6334)\u001b[0m \tTrain Epoch: 5 \tTrain_loss: 1.7312 | Train_acc: 34.6023 % | Validation_loss: 1.7765 | Validation_acc: 34.0278 %\u001b[32m [repeated 4x across cluster]\u001b[0m\n",
      "\u001b[36m(launch_and_fit pid=6333)\u001b[0m \tTrain Epoch: 7 \tTrain_loss: 1.7086 | Train_acc: 34.9432 % | Validation_loss: 1.7383 | Validation_acc: 31.9444 %\u001b[32m [repeated 4x across cluster]\u001b[0m\n"
     ]
    },
    {
     "name": "stderr",
     "output_type": "stream",
     "text": [
      " 70%|\u001b[34m███████   \u001b[0m| 7/10 [00:18<00:07,  2.62s/it]\u001b[32m [repeated 4x across cluster]\u001b[0m\n"
     ]
    },
    {
     "name": "stdout",
     "output_type": "stream",
     "text": [
      "\u001b[36m(launch_and_fit pid=6333)\u001b[0m \tTrain Epoch: 9 \tTrain_loss: 1.7145 | Train_acc: 36.6193 % | Validation_loss: 1.7282 | Validation_acc: 29.8611 %\u001b[32m [repeated 5x across cluster]\u001b[0m\n"
     ]
    },
    {
     "name": "stderr",
     "output_type": "stream",
     "text": [
      " 90%|\u001b[34m█████████ \u001b[0m| 9/10 [00:23<00:02,  2.53s/it]\u001b[32m [repeated 5x across cluster]\u001b[0m\n"
     ]
    },
    {
     "name": "stdout",
     "output_type": "stream",
     "text": [
      "\u001b[36m(launch_and_fit pid=6334)\u001b[0m save graph in  results/FL/\n",
      "\u001b[36m(launch_and_fit pid=6406)\u001b[0m Run WITHOUT homomorphic encryption\n",
      "\u001b[36m(launch_and_fit pid=6406)\u001b[0m  To get the checkpoint\n",
      "\u001b[36m(launch_and_fit pid=6333)\u001b[0m \tTrain Epoch: 10 \tTrain_loss: 1.6963 | Train_acc: 38.0398 % | Validation_loss: 1.7474 | Validation_acc: 31.9444 %\u001b[32m [repeated 2x across cluster]\u001b[0m\n",
      "\u001b[36m(launch_and_fit pid=6333)\u001b[0m save graph in  results/FL/\n",
      "\u001b[36m(launch_and_fit pid=6406)\u001b[0m [Client 6, round 9] fit, config: {'learning_rate': 0.003, 'batch_size': '16', 'server_round': 9, 'local_epochs': 10}\n",
      "\u001b[36m(launch_and_fit pid=6406)\u001b[0m Updated model\n"
     ]
    },
    {
     "name": "stderr",
     "output_type": "stream",
     "text": [
      "  0%|\u001b[34m          \u001b[0m| 0/10 [00:00<?, ?it/s]\n",
      "100%|\u001b[34m██████████\u001b[0m| 10/10 [00:26<00:00,  2.62s/it]\u001b[32m [repeated 2x across cluster]\u001b[0m\n"
     ]
    },
    {
     "name": "stdout",
     "output_type": "stream",
     "text": [
      "\u001b[36m(launch_and_fit pid=6408)\u001b[0m Run WITHOUT homomorphic encryption\n",
      "\u001b[36m(launch_and_fit pid=6408)\u001b[0m  To get the checkpoint\n",
      "\u001b[36m(launch_and_fit pid=6406)\u001b[0m \tTrain Epoch: 2 \tTrain_loss: 1.7042 | Train_acc: 42.4432 % | Validation_loss: 1.9177 | Validation_acc: 36.1111 %\u001b[32m [repeated 3x across cluster]\u001b[0m\n",
      "\u001b[36m(launch_and_fit pid=6408)\u001b[0m [Client 8, round 9] fit, config: {'learning_rate': 0.003, 'batch_size': '16', 'server_round': 9, 'local_epochs': 10}\n",
      "\u001b[36m(launch_and_fit pid=6408)\u001b[0m Updated model\n"
     ]
    },
    {
     "name": "stderr",
     "output_type": "stream",
     "text": [
      "  0%|\u001b[34m          \u001b[0m| 0/10 [00:00<?, ?it/s]\n",
      " 20%|\u001b[34m██        \u001b[0m| 2/10 [00:05<00:23,  2.92s/it]\u001b[32m [repeated 3x across cluster]\u001b[0m\n"
     ]
    },
    {
     "name": "stdout",
     "output_type": "stream",
     "text": [
      "\u001b[36m(launch_and_fit pid=6406)\u001b[0m \tTrain Epoch: 4 \tTrain_loss: 1.6853 | Train_acc: 42.4148 % | Validation_loss: 1.8807 | Validation_acc: 27.7778 %\u001b[32m [repeated 4x across cluster]\u001b[0m\n"
     ]
    },
    {
     "name": "stderr",
     "output_type": "stream",
     "text": [
      " 40%|\u001b[34m████      \u001b[0m| 4/10 [00:11<00:16,  2.74s/it]\u001b[32m [repeated 4x across cluster]\u001b[0m\n"
     ]
    },
    {
     "name": "stdout",
     "output_type": "stream",
     "text": [
      "\u001b[36m(launch_and_fit pid=6406)\u001b[0m \tTrain Epoch: 6 \tTrain_loss: 1.6729 | Train_acc: 45.8239 % | Validation_loss: 1.8995 | Validation_acc: 38.8889 %\u001b[32m [repeated 4x across cluster]\u001b[0m\n"
     ]
    },
    {
     "name": "stderr",
     "output_type": "stream",
     "text": [
      " 60%|\u001b[34m██████    \u001b[0m| 6/10 [00:16<00:10,  2.62s/it]\u001b[32m [repeated 4x across cluster]\u001b[0m\n",
      " 80%|\u001b[34m████████  \u001b[0m| 8/10 [00:21<00:05,  2.60s/it]\u001b[32m [repeated 4x across cluster]\u001b[0m\n"
     ]
    },
    {
     "name": "stdout",
     "output_type": "stream",
     "text": [
      "\u001b[36m(launch_and_fit pid=6408)\u001b[0m \tTrain Epoch: 8 \tTrain_loss: 1.7065 | Train_acc: 36.9886 % | Validation_loss: 1.8100 | Validation_acc: 29.8611 %\u001b[32m [repeated 4x across cluster]\u001b[0m\n",
      "\u001b[36m(launch_and_fit pid=6406)\u001b[0m save graph in  results/FL/\n",
      "\u001b[36m(launch_and_fit pid=6406)\u001b[0m \tTrain Epoch: 10 \tTrain_loss: 1.6562 | Train_acc: 46.1932 % | Validation_loss: 1.9303 | Validation_acc: 43.0556 %\u001b[32m [repeated 4x across cluster]\u001b[0m\n"
     ]
    },
    {
     "name": "stderr",
     "output_type": "stream",
     "text": [
      "100%|\u001b[34m██████████\u001b[0m| 10/10 [00:26<00:00,  2.66s/it]\u001b[32m [repeated 4x across cluster]\u001b[0m\n"
     ]
    },
    {
     "name": "stdout",
     "output_type": "stream",
     "text": [
      "\u001b[36m(launch_and_fit pid=6482)\u001b[0m Run WITHOUT homomorphic encryption\n",
      "\u001b[36m(launch_and_fit pid=6482)\u001b[0m  To get the checkpoint\n",
      "\u001b[36m(launch_and_fit pid=6408)\u001b[0m save graph in  results/FL/\n",
      "\u001b[36m(launch_and_fit pid=6408)\u001b[0m \tTrain Epoch: 10 \tTrain_loss: 1.6930 | Train_acc: 37.1307 % | Validation_loss: 1.7859 | Validation_acc: 22.9167 %\n"
     ]
    },
    {
     "name": "stderr",
     "output_type": "stream",
     "text": [
      "  0%|\u001b[34m          \u001b[0m| 0/10 [00:00<?, ?it/s]\n",
      "100%|\u001b[34m██████████\u001b[0m| 10/10 [00:26<00:00,  2.66s/it]\n"
     ]
    },
    {
     "name": "stdout",
     "output_type": "stream",
     "text": [
      "\u001b[36m(launch_and_fit pid=6482)\u001b[0m [Client 1, round 9] fit, config: {'learning_rate': 0.003, 'batch_size': '16', 'server_round': 9, 'local_epochs': 10}\n",
      "\u001b[36m(launch_and_fit pid=6482)\u001b[0m Updated model\n"
     ]
    },
    {
     "name": "stderr",
     "output_type": "stream",
     "text": [
      " 10%|\u001b[34m█         \u001b[0m| 1/10 [00:03<00:27,  3.01s/it]\n"
     ]
    },
    {
     "name": "stdout",
     "output_type": "stream",
     "text": [
      "\u001b[36m(launch_and_fit pid=6482)\u001b[0m \tTrain Epoch: 1 \tTrain_loss: 1.8287 | Train_acc: 27.6420 % | Validation_loss: 1.8354 | Validation_acc: 34.0278 %\n"
     ]
    },
    {
     "name": "stderr",
     "output_type": "stream",
     "text": [
      "  0%|\u001b[34m          \u001b[0m| 0/10 [00:00<?, ?it/s]\n"
     ]
    },
    {
     "name": "stdout",
     "output_type": "stream",
     "text": [
      "\u001b[36m(launch_and_fit pid=6480)\u001b[0m Run WITHOUT homomorphic encryption\n",
      "\u001b[36m(launch_and_fit pid=6480)\u001b[0m  To get the checkpoint\n",
      "\u001b[36m(launch_and_fit pid=6480)\u001b[0m [Client 9, round 9] fit, config: {'learning_rate': 0.003, 'batch_size': '16', 'server_round': 9, 'local_epochs': 10}\n",
      "\u001b[36m(launch_and_fit pid=6480)\u001b[0m Updated model\n"
     ]
    },
    {
     "name": "stderr",
     "output_type": "stream",
     "text": [
      " 30%|\u001b[34m███       \u001b[0m| 3/10 [00:08<00:18,  2.67s/it]\u001b[32m [repeated 4x across cluster]\u001b[0m\n"
     ]
    },
    {
     "name": "stdout",
     "output_type": "stream",
     "text": [
      "\u001b[36m(launch_and_fit pid=6482)\u001b[0m \tTrain Epoch: 3 \tTrain_loss: 1.7577 | Train_acc: 32.6420 % | Validation_loss: 1.8536 | Validation_acc: 34.0278 %\u001b[32m [repeated 4x across cluster]\u001b[0m\n"
     ]
    },
    {
     "name": "stderr",
     "output_type": "stream",
     "text": [
      " 50%|\u001b[34m█████     \u001b[0m| 5/10 [00:13<00:13,  2.65s/it]\u001b[32m [repeated 4x across cluster]\u001b[0m\n"
     ]
    },
    {
     "name": "stdout",
     "output_type": "stream",
     "text": [
      "\u001b[36m(launch_and_fit pid=6482)\u001b[0m \tTrain Epoch: 5 \tTrain_loss: 1.7423 | Train_acc: 33.0682 % | Validation_loss: 1.8205 | Validation_acc: 29.8611 %\u001b[32m [repeated 4x across cluster]\u001b[0m\n"
     ]
    },
    {
     "name": "stderr",
     "output_type": "stream",
     "text": [
      " 70%|\u001b[34m███████   \u001b[0m| 7/10 [00:18<00:07,  2.59s/it]\u001b[32m [repeated 4x across cluster]\u001b[0m\n"
     ]
    },
    {
     "name": "stdout",
     "output_type": "stream",
     "text": [
      "\u001b[36m(launch_and_fit pid=6482)\u001b[0m \tTrain Epoch: 7 \tTrain_loss: 1.7326 | Train_acc: 33.3807 % | Validation_loss: 1.9620 | Validation_acc: 20.8333 %\u001b[32m [repeated 4x across cluster]\u001b[0m\n"
     ]
    },
    {
     "name": "stderr",
     "output_type": "stream",
     "text": [
      " 90%|\u001b[34m█████████ \u001b[0m| 9/10 [00:23<00:02,  2.57s/it]\u001b[32m [repeated 4x across cluster]\u001b[0m\n"
     ]
    },
    {
     "name": "stdout",
     "output_type": "stream",
     "text": [
      "\u001b[36m(launch_and_fit pid=6482)\u001b[0m \tTrain Epoch: 9 \tTrain_loss: 1.7260 | Train_acc: 35.7102 % | Validation_loss: 1.8830 | Validation_acc: 22.9167 %\u001b[32m [repeated 4x across cluster]\u001b[0m\n",
      "\u001b[36m(launch_and_fit pid=6482)\u001b[0m save graph in  results/FL/\n",
      "\u001b[36m(launch_and_fit pid=6554)\u001b[0m Run WITHOUT homomorphic encryption\n",
      "\u001b[36m(launch_and_fit pid=6554)\u001b[0m  To get the checkpoint\n",
      "\u001b[36m(launch_and_fit pid=6480)\u001b[0m \tTrain Epoch: 10 \tTrain_loss: 1.6893 | Train_acc: 44.7917 % | Validation_loss: 1.6996 | Validation_acc: 38.1944 %\u001b[32m [repeated 3x across cluster]\u001b[0m\n",
      "\u001b[36m(launch_and_fit pid=6480)\u001b[0m save graph in  results/FL/\n",
      "\u001b[36m(launch_and_fit pid=6554)\u001b[0m [Client 7, round 9] fit, config: {'learning_rate': 0.003, 'batch_size': '16', 'server_round': 9, 'local_epochs': 10}\n",
      "\u001b[36m(launch_and_fit pid=6554)\u001b[0m Updated model\n"
     ]
    },
    {
     "name": "stderr",
     "output_type": "stream",
     "text": [
      "  0%|\u001b[34m          \u001b[0m| 0/10 [00:00<?, ?it/s]\n",
      "100%|\u001b[34m██████████\u001b[0m| 10/10 [00:26<00:00,  2.65s/it]\u001b[32m [repeated 3x across cluster]\u001b[0m\n"
     ]
    },
    {
     "name": "stdout",
     "output_type": "stream",
     "text": [
      "\u001b[36m(launch_and_fit pid=6579)\u001b[0m Run WITHOUT homomorphic encryption\n",
      "\u001b[36m(launch_and_fit pid=6579)\u001b[0m  To get the checkpoint\n",
      "\u001b[36m(launch_and_fit pid=6554)\u001b[0m \tTrain Epoch: 2 \tTrain_loss: 1.7745 | Train_acc: 34.6307 % | Validation_loss: 1.5683 | Validation_acc: 49.3056 %\u001b[32m [repeated 3x across cluster]\u001b[0m\n",
      "\u001b[36m(launch_and_fit pid=6579)\u001b[0m [Client 3, round 9] fit, config: {'learning_rate': 0.003, 'batch_size': '16', 'server_round': 9, 'local_epochs': 10}\n",
      "\u001b[36m(launch_and_fit pid=6579)\u001b[0m Updated model\n"
     ]
    },
    {
     "name": "stderr",
     "output_type": "stream",
     "text": [
      "  0%|\u001b[34m          \u001b[0m| 0/10 [00:00<?, ?it/s]\n",
      " 20%|\u001b[34m██        \u001b[0m| 2/10 [00:05<00:21,  2.74s/it]\u001b[32m [repeated 3x across cluster]\u001b[0m\n"
     ]
    },
    {
     "name": "stdout",
     "output_type": "stream",
     "text": [
      "\u001b[36m(launch_and_fit pid=6554)\u001b[0m \tTrain Epoch: 4 \tTrain_loss: 1.7528 | Train_acc: 35.9943 % | Validation_loss: 1.5649 | Validation_acc: 47.2222 %\u001b[32m [repeated 4x across cluster]\u001b[0m\n"
     ]
    },
    {
     "name": "stderr",
     "output_type": "stream",
     "text": [
      " 40%|\u001b[34m████      \u001b[0m| 4/10 [00:10<00:15,  2.66s/it]\u001b[32m [repeated 4x across cluster]\u001b[0m\n"
     ]
    },
    {
     "name": "stdout",
     "output_type": "stream",
     "text": [
      "\u001b[36m(launch_and_fit pid=6554)\u001b[0m \tTrain Epoch: 6 \tTrain_loss: 1.7442 | Train_acc: 35.1136 % | Validation_loss: 1.5625 | Validation_acc: 47.2222 %\u001b[32m [repeated 4x across cluster]\u001b[0m\n"
     ]
    },
    {
     "name": "stderr",
     "output_type": "stream",
     "text": [
      " 60%|\u001b[34m██████    \u001b[0m| 6/10 [00:15<00:10,  2.61s/it]\u001b[32m [repeated 4x across cluster]\u001b[0m\n"
     ]
    },
    {
     "name": "stdout",
     "output_type": "stream",
     "text": [
      "\u001b[36m(launch_and_fit pid=6554)\u001b[0m \tTrain Epoch: 8 \tTrain_loss: 1.7467 | Train_acc: 34.9432 % | Validation_loss: 1.5583 | Validation_acc: 49.3056 %\u001b[32m [repeated 4x across cluster]\u001b[0m\n"
     ]
    },
    {
     "name": "stderr",
     "output_type": "stream",
     "text": [
      " 80%|\u001b[34m████████  \u001b[0m| 8/10 [00:21<00:05,  2.61s/it]\u001b[32m [repeated 4x across cluster]\u001b[0m\n"
     ]
    },
    {
     "name": "stdout",
     "output_type": "stream",
     "text": [
      "\u001b[36m(launch_and_fit pid=6554)\u001b[0m save graph in  results/FL/\n",
      "\u001b[36m(launch_and_fit pid=6554)\u001b[0m \tTrain Epoch: 10 \tTrain_loss: 1.7522 | Train_acc: 32.9261 % | Validation_loss: 1.5580 | Validation_acc: 53.4722 %\u001b[32m [repeated 4x across cluster]\u001b[0m\n"
     ]
    },
    {
     "name": "stderr",
     "output_type": "stream",
     "text": [
      "100%|\u001b[34m██████████\u001b[0m| 10/10 [00:26<00:00,  2.68s/it]\u001b[32m [repeated 4x across cluster]\u001b[0m\n"
     ]
    },
    {
     "name": "stdout",
     "output_type": "stream",
     "text": [
      "\u001b[36m(launch_and_fit pid=6628)\u001b[0m Run WITHOUT homomorphic encryption\n",
      "\u001b[36m(launch_and_fit pid=6628)\u001b[0m  To get the checkpoint\n",
      "\u001b[36m(launch_and_fit pid=6579)\u001b[0m save graph in  results/FL/\n",
      "\u001b[36m(launch_and_fit pid=6579)\u001b[0m \tTrain Epoch: 10 \tTrain_loss: 1.6985 | Train_acc: 37.5852 % | Validation_loss: 1.7770 | Validation_acc: 34.0278 %\n",
      "\u001b[36m(launch_and_fit pid=6628)\u001b[0m [Client 0, round 9] fit, config: {'learning_rate': 0.003, 'batch_size': '16', 'server_round': 9, 'local_epochs': 10}\n",
      "\u001b[36m(launch_and_fit pid=6628)\u001b[0m Updated model\n"
     ]
    },
    {
     "name": "stderr",
     "output_type": "stream",
     "text": [
      "  0%|\u001b[34m          \u001b[0m| 0/10 [00:00<?, ?it/s]\n",
      "100%|\u001b[34m██████████\u001b[0m| 10/10 [00:27<00:00,  2.75s/it]\n"
     ]
    },
    {
     "name": "stdout",
     "output_type": "stream",
     "text": [
      "\u001b[36m(launch_and_fit pid=6628)\u001b[0m \tTrain Epoch: 1 \tTrain_loss: 1.7515 | Train_acc: 32.6136 % | Validation_loss: 1.8379 | Validation_acc: 25.0000 %\n"
     ]
    },
    {
     "name": "stderr",
     "output_type": "stream",
     "text": [
      " 10%|\u001b[34m█         \u001b[0m| 1/10 [00:02<00:26,  2.95s/it]\n"
     ]
    },
    {
     "name": "stdout",
     "output_type": "stream",
     "text": [
      "\u001b[36m(launch_and_fit pid=6653)\u001b[0m Run WITHOUT homomorphic encryption\n",
      "\u001b[36m(launch_and_fit pid=6653)\u001b[0m  To get the checkpoint\n",
      "\u001b[36m(launch_and_fit pid=6653)\u001b[0m [Client 4, round 9] fit, config: {'learning_rate': 0.003, 'batch_size': '16', 'server_round': 9, 'local_epochs': 10}\n",
      "\u001b[36m(launch_and_fit pid=6653)\u001b[0m Updated model\n"
     ]
    },
    {
     "name": "stderr",
     "output_type": "stream",
     "text": [
      "  0%|\u001b[34m          \u001b[0m| 0/10 [00:00<?, ?it/s]\n"
     ]
    },
    {
     "name": "stdout",
     "output_type": "stream",
     "text": [
      "\u001b[36m(launch_and_fit pid=6628)\u001b[0m \tTrain Epoch: 3 \tTrain_loss: 1.6996 | Train_acc: 39.2898 % | Validation_loss: 1.8150 | Validation_acc: 22.9167 %\u001b[32m [repeated 4x across cluster]\u001b[0m\n"
     ]
    },
    {
     "name": "stderr",
     "output_type": "stream",
     "text": [
      " 30%|\u001b[34m███       \u001b[0m| 3/10 [00:08<00:18,  2.69s/it]\u001b[32m [repeated 4x across cluster]\u001b[0m\n"
     ]
    },
    {
     "name": "stdout",
     "output_type": "stream",
     "text": [
      "\u001b[36m(launch_and_fit pid=6628)\u001b[0m \tTrain Epoch: 5 \tTrain_loss: 1.6879 | Train_acc: 39.6307 % | Validation_loss: 1.8111 | Validation_acc: 22.9167 %\u001b[32m [repeated 4x across cluster]\u001b[0m\n"
     ]
    },
    {
     "name": "stderr",
     "output_type": "stream",
     "text": [
      " 50%|\u001b[34m█████     \u001b[0m| 5/10 [00:13<00:13,  2.64s/it]\u001b[32m [repeated 4x across cluster]\u001b[0m\n"
     ]
    },
    {
     "name": "stdout",
     "output_type": "stream",
     "text": [
      "\u001b[36m(launch_and_fit pid=6628)\u001b[0m \tTrain Epoch: 7 \tTrain_loss: 1.6796 | Train_acc: 40.8807 % | Validation_loss: 1.8225 | Validation_acc: 27.0833 %\u001b[32m [repeated 4x across cluster]\u001b[0m\n"
     ]
    },
    {
     "name": "stderr",
     "output_type": "stream",
     "text": [
      " 70%|\u001b[34m███████   \u001b[0m| 7/10 [00:18<00:08,  2.69s/it]\u001b[32m [repeated 4x across cluster]\u001b[0m\n"
     ]
    },
    {
     "name": "stdout",
     "output_type": "stream",
     "text": [
      "\u001b[36m(launch_and_fit pid=6628)\u001b[0m \tTrain Epoch: 9 \tTrain_loss: 1.6701 | Train_acc: 39.4886 % | Validation_loss: 1.8400 | Validation_acc: 29.1667 %\u001b[32m [repeated 4x across cluster]\u001b[0m\n"
     ]
    },
    {
     "name": "stderr",
     "output_type": "stream",
     "text": [
      " 90%|\u001b[34m█████████ \u001b[0m| 9/10 [00:24<00:02,  2.69s/it]\u001b[32m [repeated 4x across cluster]\u001b[0m\n"
     ]
    },
    {
     "name": "stdout",
     "output_type": "stream",
     "text": [
      "\u001b[36m(launch_and_fit pid=6628)\u001b[0m save graph in  results/FL/\n"
     ]
    },
    {
     "name": "stderr",
     "output_type": "stream",
     "text": [
      "DEBUG flwr 2024-07-22 09:52:50,496 | server.py:236 | fit_round 9 received 10 results and 0 failures\n"
     ]
    },
    {
     "name": "stdout",
     "output_type": "stream",
     "text": [
      "Saving round 9 aggregated_parameters...\n",
      "Updated model\n"
     ]
    },
    {
     "name": "stderr",
     "output_type": "stream",
     "text": [
      "INFO flwr 2024-07-22 09:52:52,907 | server.py:125 | fit progress: (9, 1.747719027779319, {'accuracy': 35.871212121212125}, 2172.434657976)\n",
      "DEBUG flwr 2024-07-22 09:52:52,908 | server.py:173 | evaluate_round 9: strategy sampled 10 clients (out of 10)\n"
     ]
    },
    {
     "name": "stdout",
     "output_type": "stream",
     "text": [
      "Server-side evaluation loss 1.747719027779319 / accuracy 35.871212121212125\n",
      "\u001b[36m(launch_and_evaluate pid=6711)\u001b[0m Run WITHOUT homomorphic encryption\n",
      "\u001b[36m(launch_and_evaluate pid=6711)\u001b[0m  To get the checkpoint\n",
      "\u001b[36m(launch_and_fit pid=6653)\u001b[0m \tTrain Epoch: 10 \tTrain_loss: 1.7253 | Train_acc: 35.7102 % | Validation_loss: 1.7114 | Validation_acc: 44.4444 %\u001b[32m [repeated 3x across cluster]\u001b[0m\n",
      "\u001b[36m(launch_and_fit pid=6653)\u001b[0m save graph in  results/FL/\n",
      "\u001b[36m(launch_and_evaluate pid=6711)\u001b[0m [Client 9] evaluate, config: {}\n",
      "\u001b[36m(launch_and_evaluate pid=6711)\u001b[0m Updated model\n"
     ]
    },
    {
     "name": "stderr",
     "output_type": "stream",
     "text": [
      "\u001b[36m(launch_and_evaluate pid=6711)\u001b[0m /opt/conda/lib/python3.10/site-packages/sklearn/metrics/_ranking.py:1029: UndefinedMetricWarning: No positive samples in y_true, true positive value should be meaningless\n",
      "\u001b[36m(launch_and_evaluate pid=6711)\u001b[0m   warnings.warn(\n",
      "100%|\u001b[34m██████████\u001b[0m| 10/10 [00:26<00:00,  2.63s/it]\u001b[32m [repeated 3x across cluster]\u001b[0m\n"
     ]
    },
    {
     "name": "stdout",
     "output_type": "stream",
     "text": [
      "\u001b[36m(launch_and_evaluate pid=6780)\u001b[0m Run WITHOUT homomorphic encryption\u001b[32m [repeated 2x across cluster]\u001b[0m\n",
      "\u001b[36m(launch_and_evaluate pid=6780)\u001b[0m  To get the checkpoint\u001b[32m [repeated 2x across cluster]\u001b[0m\n",
      "\u001b[36m(launch_and_evaluate pid=6712)\u001b[0m [Client 0] evaluate, config: {}\n",
      "\u001b[36m(launch_and_evaluate pid=6712)\u001b[0m Updated model\n",
      "\u001b[36m(launch_and_evaluate pid=6780)\u001b[0m [Client 5] evaluate, config: {}\n",
      "\u001b[36m(launch_and_evaluate pid=6780)\u001b[0m Updated model\n",
      "\u001b[36m(launch_and_evaluate pid=6850)\u001b[0m Run WITHOUT homomorphic encryption\u001b[32m [repeated 2x across cluster]\u001b[0m\n",
      "\u001b[36m(launch_and_evaluate pid=6850)\u001b[0m  To get the checkpoint\u001b[32m [repeated 2x across cluster]\u001b[0m\n",
      "\u001b[36m(launch_and_evaluate pid=6782)\u001b[0m [Client 3] evaluate, config: {}\n",
      "\u001b[36m(launch_and_evaluate pid=6782)\u001b[0m Updated model\n",
      "\u001b[36m(launch_and_evaluate pid=6850)\u001b[0m [Client 2] evaluate, config: {}\n",
      "\u001b[36m(launch_and_evaluate pid=6850)\u001b[0m Updated model\n"
     ]
    },
    {
     "name": "stderr",
     "output_type": "stream",
     "text": [
      "\u001b[36m(launch_and_evaluate pid=6852)\u001b[0m /opt/conda/lib/python3.10/site-packages/sklearn/metrics/_ranking.py:1029: UndefinedMetricWarning: No positive samples in y_true, true positive value should be meaningless\n",
      "\u001b[36m(launch_and_evaluate pid=6852)\u001b[0m   warnings.warn(\n"
     ]
    },
    {
     "name": "stdout",
     "output_type": "stream",
     "text": [
      "\u001b[36m(launch_and_evaluate pid=6923)\u001b[0m Run WITHOUT homomorphic encryption\u001b[32m [repeated 2x across cluster]\u001b[0m\n",
      "\u001b[36m(launch_and_evaluate pid=6923)\u001b[0m  To get the checkpoint\u001b[32m [repeated 2x across cluster]\u001b[0m\n",
      "\u001b[36m(launch_and_evaluate pid=6852)\u001b[0m [Client 8] evaluate, config: {}\n",
      "\u001b[36m(launch_and_evaluate pid=6852)\u001b[0m Updated model\n",
      "\u001b[36m(launch_and_evaluate pid=6923)\u001b[0m [Client 1] evaluate, config: {}\n",
      "\u001b[36m(launch_and_evaluate pid=6923)\u001b[0m Updated model\n",
      "\u001b[36m(launch_and_evaluate pid=6993)\u001b[0m Run WITHOUT homomorphic encryption\u001b[32m [repeated 2x across cluster]\u001b[0m\n",
      "\u001b[36m(launch_and_evaluate pid=6993)\u001b[0m  To get the checkpoint\u001b[32m [repeated 2x across cluster]\u001b[0m\n",
      "\u001b[36m(launch_and_evaluate pid=6921)\u001b[0m [Client 6] evaluate, config: {}\n",
      "\u001b[36m(launch_and_evaluate pid=6921)\u001b[0m Updated model\n",
      "\u001b[36m(launch_and_evaluate pid=6993)\u001b[0m [Client 7] evaluate, config: {}\n",
      "\u001b[36m(launch_and_evaluate pid=6993)\u001b[0m Updated model\n"
     ]
    },
    {
     "name": "stderr",
     "output_type": "stream",
     "text": [
      "\u001b[36m(launch_and_evaluate pid=6991)\u001b[0m /opt/conda/lib/python3.10/site-packages/sklearn/metrics/_ranking.py:1029: UndefinedMetricWarning: No positive samples in y_true, true positive value should be meaningless\n",
      "\u001b[36m(launch_and_evaluate pid=6991)\u001b[0m   warnings.warn(\n",
      "DEBUG flwr 2024-07-22 09:53:52,528 | server.py:187 | evaluate_round 9 received 10 results and 0 failures\n",
      "DEBUG flwr 2024-07-22 09:53:52,529 | server.py:222 | fit_round 10: strategy sampled 10 clients (out of 10)\n"
     ]
    },
    {
     "name": "stdout",
     "output_type": "stream",
     "text": [
      "\u001b[36m(launch_and_fit pid=7070)\u001b[0m Run WITHOUT homomorphic encryption\u001b[32m [repeated 2x across cluster]\u001b[0m\n",
      "\u001b[36m(launch_and_fit pid=7070)\u001b[0m  To get the checkpoint\u001b[32m [repeated 2x across cluster]\u001b[0m\n",
      "\u001b[36m(launch_and_evaluate pid=6991)\u001b[0m [Client 4] evaluate, config: {}\n",
      "\u001b[36m(launch_and_evaluate pid=6991)\u001b[0m Updated model\n"
     ]
    },
    {
     "name": "stderr",
     "output_type": "stream",
     "text": [
      "  0%|\u001b[34m          \u001b[0m| 0/10 [00:00<?, ?it/s]\n"
     ]
    },
    {
     "name": "stdout",
     "output_type": "stream",
     "text": [
      "\u001b[36m(launch_and_fit pid=7070)\u001b[0m [Client 8, round 10] fit, config: {'learning_rate': 0.003, 'batch_size': '16', 'server_round': 10, 'local_epochs': 10}\n",
      "\u001b[36m(launch_and_fit pid=7070)\u001b[0m Updated model\n"
     ]
    },
    {
     "name": "stderr",
     "output_type": "stream",
     "text": [
      " 10%|\u001b[34m█         \u001b[0m| 1/10 [00:02<00:26,  2.93s/it]\n"
     ]
    },
    {
     "name": "stdout",
     "output_type": "stream",
     "text": [
      "\u001b[36m(launch_and_fit pid=7070)\u001b[0m \tTrain Epoch: 1 \tTrain_loss: 1.7658 | Train_acc: 32.4716 % | Validation_loss: 1.8473 | Validation_acc: 20.8333 %\n"
     ]
    },
    {
     "name": "stderr",
     "output_type": "stream",
     "text": [
      "  0%|\u001b[34m          \u001b[0m| 0/10 [00:00<?, ?it/s]\n"
     ]
    },
    {
     "name": "stdout",
     "output_type": "stream",
     "text": [
      "\u001b[36m(launch_and_fit pid=7071)\u001b[0m Run WITHOUT homomorphic encryption\n",
      "\u001b[36m(launch_and_fit pid=7071)\u001b[0m  To get the checkpoint\n",
      "\u001b[36m(launch_and_fit pid=7071)\u001b[0m [Client 5, round 10] fit, config: {'learning_rate': 0.003, 'batch_size': '16', 'server_round': 10, 'local_epochs': 10}\n",
      "\u001b[36m(launch_and_fit pid=7071)\u001b[0m Updated model\n"
     ]
    },
    {
     "name": "stderr",
     "output_type": "stream",
     "text": [
      " 30%|\u001b[34m███       \u001b[0m| 3/10 [00:08<00:19,  2.77s/it]\u001b[32m [repeated 4x across cluster]\u001b[0m\n"
     ]
    },
    {
     "name": "stdout",
     "output_type": "stream",
     "text": [
      "\u001b[36m(launch_and_fit pid=7070)\u001b[0m \tTrain Epoch: 3 \tTrain_loss: 1.7155 | Train_acc: 38.6932 % | Validation_loss: 1.7812 | Validation_acc: 18.7500 %\u001b[32m [repeated 4x across cluster]\u001b[0m\n"
     ]
    },
    {
     "name": "stderr",
     "output_type": "stream",
     "text": [
      " 50%|\u001b[34m█████     \u001b[0m| 5/10 [00:13<00:13,  2.74s/it]\u001b[32m [repeated 4x across cluster]\u001b[0m\n"
     ]
    },
    {
     "name": "stdout",
     "output_type": "stream",
     "text": [
      "\u001b[36m(launch_and_fit pid=7070)\u001b[0m \tTrain Epoch: 5 \tTrain_loss: 1.6976 | Train_acc: 36.5057 % | Validation_loss: 1.7816 | Validation_acc: 34.0278 %\u001b[32m [repeated 4x across cluster]\u001b[0m\n"
     ]
    },
    {
     "name": "stderr",
     "output_type": "stream",
     "text": [
      " 70%|\u001b[34m███████   \u001b[0m| 7/10 [00:18<00:07,  2.61s/it]\u001b[32m [repeated 4x across cluster]\u001b[0m\n"
     ]
    },
    {
     "name": "stdout",
     "output_type": "stream",
     "text": [
      "\u001b[36m(launch_and_fit pid=7070)\u001b[0m \tTrain Epoch: 7 \tTrain_loss: 1.6855 | Train_acc: 36.9886 % | Validation_loss: 1.7781 | Validation_acc: 34.0278 %\u001b[32m [repeated 4x across cluster]\u001b[0m\n"
     ]
    },
    {
     "name": "stderr",
     "output_type": "stream",
     "text": [
      " 90%|\u001b[34m█████████ \u001b[0m| 9/10 [00:23<00:02,  2.58s/it]\u001b[32m [repeated 4x across cluster]\u001b[0m\n"
     ]
    },
    {
     "name": "stdout",
     "output_type": "stream",
     "text": [
      "\u001b[36m(launch_and_fit pid=7070)\u001b[0m \tTrain Epoch: 9 \tTrain_loss: 1.7015 | Train_acc: 37.3295 % | Validation_loss: 1.7937 | Validation_acc: 20.8333 %\u001b[32m [repeated 4x across cluster]\u001b[0m\n",
      "\u001b[36m(launch_and_fit pid=7070)\u001b[0m save graph in  results/FL/\n",
      "\u001b[36m(launch_and_fit pid=7143)\u001b[0m Run WITHOUT homomorphic encryption\n",
      "\u001b[36m(launch_and_fit pid=7143)\u001b[0m  To get the checkpoint\n",
      "\u001b[36m(launch_and_fit pid=7071)\u001b[0m \tTrain Epoch: 10 \tTrain_loss: 1.7312 | Train_acc: 33.2102 % | Validation_loss: 1.7228 | Validation_acc: 25.0000 %\u001b[32m [repeated 3x across cluster]\u001b[0m\n",
      "\u001b[36m(launch_and_fit pid=7071)\u001b[0m save graph in  results/FL/\n"
     ]
    },
    {
     "name": "stderr",
     "output_type": "stream",
     "text": [
      "  0%|\u001b[34m          \u001b[0m| 0/10 [00:00<?, ?it/s]\n",
      "100%|\u001b[34m██████████\u001b[0m| 10/10 [00:26<00:00,  2.68s/it]\u001b[32m [repeated 3x across cluster]\u001b[0m\n"
     ]
    },
    {
     "name": "stdout",
     "output_type": "stream",
     "text": [
      "\u001b[36m(launch_and_fit pid=7143)\u001b[0m [Client 3, round 10] fit, config: {'learning_rate': 0.003, 'batch_size': '16', 'server_round': 10, 'local_epochs': 10}\n",
      "\u001b[36m(launch_and_fit pid=7143)\u001b[0m Updated model\n"
     ]
    },
    {
     "name": "stderr",
     "output_type": "stream",
     "text": [
      "  0%|\u001b[34m          \u001b[0m| 0/10 [00:00<?, ?it/s]\n",
      " 20%|\u001b[34m██        \u001b[0m| 2/10 [00:05<00:21,  2.68s/it]\u001b[32m [repeated 3x across cluster]\u001b[0m\n"
     ]
    },
    {
     "name": "stdout",
     "output_type": "stream",
     "text": [
      "\u001b[36m(launch_and_fit pid=7145)\u001b[0m Run WITHOUT homomorphic encryption\n",
      "\u001b[36m(launch_and_fit pid=7145)\u001b[0m  To get the checkpoint\n",
      "\u001b[36m(launch_and_fit pid=7143)\u001b[0m \tTrain Epoch: 2 \tTrain_loss: 1.7384 | Train_acc: 35.5682 % | Validation_loss: 1.7746 | Validation_acc: 29.8611 %\u001b[32m [repeated 3x across cluster]\u001b[0m\n",
      "\u001b[36m(launch_and_fit pid=7145)\u001b[0m [Client 4, round 10] fit, config: {'learning_rate': 0.003, 'batch_size': '16', 'server_round': 10, 'local_epochs': 10}\n",
      "\u001b[36m(launch_and_fit pid=7145)\u001b[0m Updated model\n"
     ]
    },
    {
     "name": "stderr",
     "output_type": "stream",
     "text": [
      " 40%|\u001b[34m████      \u001b[0m| 4/10 [00:10<00:16,  2.67s/it]\u001b[32m [repeated 4x across cluster]\u001b[0m\n"
     ]
    },
    {
     "name": "stdout",
     "output_type": "stream",
     "text": [
      "\u001b[36m(launch_and_fit pid=7143)\u001b[0m \tTrain Epoch: 4 \tTrain_loss: 1.7393 | Train_acc: 36.5057 % | Validation_loss: 1.7877 | Validation_acc: 31.9444 %\u001b[32m [repeated 4x across cluster]\u001b[0m\n",
      "\u001b[36m(launch_and_fit pid=7145)\u001b[0m \tTrain Epoch: 6 \tTrain_loss: 1.7360 | Train_acc: 33.0682 % | Validation_loss: 1.7038 | Validation_acc: 44.4444 %\u001b[32m [repeated 5x across cluster]\u001b[0m\n"
     ]
    },
    {
     "name": "stderr",
     "output_type": "stream",
     "text": [
      " 60%|\u001b[34m██████    \u001b[0m| 6/10 [00:15<00:10,  2.53s/it]\u001b[32m [repeated 5x across cluster]\u001b[0m\n"
     ]
    },
    {
     "name": "stdout",
     "output_type": "stream",
     "text": [
      "\u001b[36m(launch_and_fit pid=7145)\u001b[0m \tTrain Epoch: 8 \tTrain_loss: 1.7196 | Train_acc: 36.1364 % | Validation_loss: 1.7166 | Validation_acc: 40.2778 %\u001b[32m [repeated 4x across cluster]\u001b[0m\n"
     ]
    },
    {
     "name": "stderr",
     "output_type": "stream",
     "text": [
      " 80%|\u001b[34m████████  \u001b[0m| 8/10 [00:20<00:05,  2.55s/it]\u001b[32m [repeated 4x across cluster]\u001b[0m\n"
     ]
    },
    {
     "name": "stdout",
     "output_type": "stream",
     "text": [
      "\u001b[36m(launch_and_fit pid=7143)\u001b[0m save graph in  results/FL/\n",
      "\u001b[36m(launch_and_fit pid=7145)\u001b[0m \tTrain Epoch: 10 \tTrain_loss: 1.7154 | Train_acc: 35.0852 % | Validation_loss: 1.7105 | Validation_acc: 44.4444 %\u001b[32m [repeated 4x across cluster]\u001b[0m\n"
     ]
    },
    {
     "name": "stderr",
     "output_type": "stream",
     "text": [
      "100%|\u001b[34m██████████\u001b[0m| 10/10 [00:25<00:00,  2.58s/it]\u001b[32m [repeated 4x across cluster]\u001b[0m\n"
     ]
    },
    {
     "name": "stdout",
     "output_type": "stream",
     "text": [
      "\u001b[36m(launch_and_fit pid=7217)\u001b[0m Run WITHOUT homomorphic encryption\n",
      "\u001b[36m(launch_and_fit pid=7217)\u001b[0m  To get the checkpoint\n",
      "\u001b[36m(launch_and_fit pid=7145)\u001b[0m save graph in  results/FL/\n",
      "\u001b[36m(launch_and_fit pid=7217)\u001b[0m [Client 0, round 10] fit, config: {'learning_rate': 0.003, 'batch_size': '16', 'server_round': 10, 'local_epochs': 10}\n",
      "\u001b[36m(launch_and_fit pid=7217)\u001b[0m Updated model\n"
     ]
    },
    {
     "name": "stderr",
     "output_type": "stream",
     "text": [
      "  0%|\u001b[34m          \u001b[0m| 0/10 [00:00<?, ?it/s]\n"
     ]
    },
    {
     "name": "stdout",
     "output_type": "stream",
     "text": [
      "\u001b[36m(launch_and_fit pid=7217)\u001b[0m \tTrain Epoch: 1 \tTrain_loss: 1.7164 | Train_acc: 36.2216 % | Validation_loss: 1.8180 | Validation_acc: 22.9167 %\n"
     ]
    },
    {
     "name": "stderr",
     "output_type": "stream",
     "text": [
      " 10%|\u001b[34m█         \u001b[0m| 1/10 [00:03<00:28,  3.19s/it]\n"
     ]
    },
    {
     "name": "stdout",
     "output_type": "stream",
     "text": [
      "\u001b[36m(launch_and_fit pid=7219)\u001b[0m Run WITHOUT homomorphic encryption\n",
      "\u001b[36m(launch_and_fit pid=7219)\u001b[0m  To get the checkpoint\n",
      "\u001b[36m(launch_and_fit pid=7219)\u001b[0m [Client 1, round 10] fit, config: {'learning_rate': 0.003, 'batch_size': '16', 'server_round': 10, 'local_epochs': 10}\n",
      "\u001b[36m(launch_and_fit pid=7219)\u001b[0m Updated model\n"
     ]
    },
    {
     "name": "stderr",
     "output_type": "stream",
     "text": [
      "  0%|\u001b[34m          \u001b[0m| 0/10 [00:00<?, ?it/s]\n"
     ]
    },
    {
     "name": "stdout",
     "output_type": "stream",
     "text": [
      "\u001b[36m(launch_and_fit pid=7217)\u001b[0m \tTrain Epoch: 3 \tTrain_loss: 1.6992 | Train_acc: 39.1761 % | Validation_loss: 1.8139 | Validation_acc: 36.1111 %\u001b[32m [repeated 4x across cluster]\u001b[0m\n"
     ]
    },
    {
     "name": "stderr",
     "output_type": "stream",
     "text": [
      " 30%|\u001b[34m███       \u001b[0m| 3/10 [00:08<00:18,  2.71s/it]\u001b[32m [repeated 4x across cluster]\u001b[0m\n"
     ]
    },
    {
     "name": "stdout",
     "output_type": "stream",
     "text": [
      "\u001b[36m(launch_and_fit pid=7217)\u001b[0m \tTrain Epoch: 5 \tTrain_loss: 1.6900 | Train_acc: 38.6932 % | Validation_loss: 1.8319 | Validation_acc: 25.0000 %\u001b[32m [repeated 4x across cluster]\u001b[0m\n"
     ]
    },
    {
     "name": "stderr",
     "output_type": "stream",
     "text": [
      " 50%|\u001b[34m█████     \u001b[0m| 5/10 [00:13<00:13,  2.65s/it]\u001b[32m [repeated 4x across cluster]\u001b[0m\n"
     ]
    },
    {
     "name": "stdout",
     "output_type": "stream",
     "text": [
      "\u001b[36m(launch_and_fit pid=7217)\u001b[0m \tTrain Epoch: 7 \tTrain_loss: 1.6825 | Train_acc: 42.1307 % | Validation_loss: 1.8307 | Validation_acc: 25.0000 %\u001b[32m [repeated 4x across cluster]\u001b[0m\n"
     ]
    },
    {
     "name": "stderr",
     "output_type": "stream",
     "text": [
      " 70%|\u001b[34m███████   \u001b[0m| 7/10 [00:18<00:07,  2.59s/it]\u001b[32m [repeated 4x across cluster]\u001b[0m\n"
     ]
    },
    {
     "name": "stdout",
     "output_type": "stream",
     "text": [
      "\u001b[36m(launch_and_fit pid=7217)\u001b[0m \tTrain Epoch: 9 \tTrain_loss: 1.6612 | Train_acc: 41.5057 % | Validation_loss: 1.8476 | Validation_acc: 25.0000 %\u001b[32m [repeated 4x across cluster]\u001b[0m\n"
     ]
    },
    {
     "name": "stderr",
     "output_type": "stream",
     "text": [
      " 90%|\u001b[34m█████████ \u001b[0m| 9/10 [00:23<00:02,  2.57s/it]\u001b[32m [repeated 4x across cluster]\u001b[0m\n"
     ]
    },
    {
     "name": "stdout",
     "output_type": "stream",
     "text": [
      "\u001b[36m(launch_and_fit pid=7217)\u001b[0m save graph in  results/FL/\n",
      "\u001b[36m(launch_and_fit pid=7291)\u001b[0m Run WITHOUT homomorphic encryption\n",
      "\u001b[36m(launch_and_fit pid=7291)\u001b[0m  To get the checkpoint\n",
      "\u001b[36m(launch_and_fit pid=7219)\u001b[0m \tTrain Epoch: 10 \tTrain_loss: 1.7299 | Train_acc: 35.7386 % | Validation_loss: 1.8914 | Validation_acc: 18.7500 %\u001b[32m [repeated 3x across cluster]\u001b[0m\n",
      "\u001b[36m(launch_and_fit pid=7219)\u001b[0m save graph in  results/FL/\n"
     ]
    },
    {
     "name": "stderr",
     "output_type": "stream",
     "text": [
      "  0%|\u001b[34m          \u001b[0m| 0/10 [00:00<?, ?it/s]\n",
      "100%|\u001b[34m██████████\u001b[0m| 10/10 [00:26<00:00,  2.67s/it]\u001b[32m [repeated 3x across cluster]\u001b[0m\n"
     ]
    },
    {
     "name": "stdout",
     "output_type": "stream",
     "text": [
      "\u001b[36m(launch_and_fit pid=7291)\u001b[0m [Client 2, round 10] fit, config: {'learning_rate': 0.003, 'batch_size': '16', 'server_round': 10, 'local_epochs': 10}\n",
      "\u001b[36m(launch_and_fit pid=7291)\u001b[0m Updated model\n"
     ]
    },
    {
     "name": "stderr",
     "output_type": "stream",
     "text": [
      "  0%|\u001b[34m          \u001b[0m| 0/10 [00:00<?, ?it/s]\n",
      " 20%|\u001b[34m██        \u001b[0m| 2/10 [00:05<00:21,  2.64s/it]\u001b[32m [repeated 3x across cluster]\u001b[0m\n"
     ]
    },
    {
     "name": "stdout",
     "output_type": "stream",
     "text": [
      "\u001b[36m(launch_and_fit pid=7316)\u001b[0m Run WITHOUT homomorphic encryption\n",
      "\u001b[36m(launch_and_fit pid=7316)\u001b[0m  To get the checkpoint\n",
      "\u001b[36m(launch_and_fit pid=7291)\u001b[0m \tTrain Epoch: 2 \tTrain_loss: 1.7337 | Train_acc: 36.3636 % | Validation_loss: 1.7570 | Validation_acc: 27.7778 %\u001b[32m [repeated 3x across cluster]\u001b[0m\n",
      "\u001b[36m(launch_and_fit pid=7316)\u001b[0m [Client 7, round 10] fit, config: {'learning_rate': 0.003, 'batch_size': '16', 'server_round': 10, 'local_epochs': 10}\n",
      "\u001b[36m(launch_and_fit pid=7316)\u001b[0m Updated model\n"
     ]
    },
    {
     "name": "stderr",
     "output_type": "stream",
     "text": [
      " 40%|\u001b[34m████      \u001b[0m| 4/10 [00:10<00:16,  2.70s/it]\u001b[32m [repeated 4x across cluster]\u001b[0m\n"
     ]
    },
    {
     "name": "stdout",
     "output_type": "stream",
     "text": [
      "\u001b[36m(launch_and_fit pid=7291)\u001b[0m \tTrain Epoch: 4 \tTrain_loss: 1.7253 | Train_acc: 34.5170 % | Validation_loss: 1.7641 | Validation_acc: 31.9444 %\u001b[32m [repeated 4x across cluster]\u001b[0m\n"
     ]
    },
    {
     "name": "stderr",
     "output_type": "stream",
     "text": [
      " 60%|\u001b[34m██████    \u001b[0m| 6/10 [00:15<00:10,  2.59s/it]\u001b[32m [repeated 4x across cluster]\u001b[0m\n"
     ]
    },
    {
     "name": "stdout",
     "output_type": "stream",
     "text": [
      "\u001b[36m(launch_and_fit pid=7291)\u001b[0m \tTrain Epoch: 6 \tTrain_loss: 1.6935 | Train_acc: 36.4489 % | Validation_loss: 1.7553 | Validation_acc: 31.9444 %\u001b[32m [repeated 4x across cluster]\u001b[0m\n",
      "\u001b[36m(launch_and_fit pid=7316)\u001b[0m \tTrain Epoch: 8 \tTrain_loss: 1.7287 | Train_acc: 36.5057 % | Validation_loss: 1.5427 | Validation_acc: 49.3056 %\u001b[32m [repeated 5x across cluster]\u001b[0m\n"
     ]
    },
    {
     "name": "stderr",
     "output_type": "stream",
     "text": [
      " 80%|\u001b[34m████████  \u001b[0m| 8/10 [00:20<00:05,  2.53s/it]\u001b[32m [repeated 5x across cluster]\u001b[0m\n",
      "100%|\u001b[34m██████████\u001b[0m| 10/10 [00:26<00:00,  2.62s/it]\u001b[32m [repeated 3x across cluster]\u001b[0m\n"
     ]
    },
    {
     "name": "stdout",
     "output_type": "stream",
     "text": [
      "\u001b[36m(launch_and_fit pid=7291)\u001b[0m save graph in  results/FL/\n",
      "\u001b[36m(launch_and_fit pid=7291)\u001b[0m \tTrain Epoch: 10 \tTrain_loss: 1.6774 | Train_acc: 37.4432 % | Validation_loss: 1.7238 | Validation_acc: 27.7778 %\u001b[32m [repeated 3x across cluster]\u001b[0m\n",
      "\u001b[36m(launch_and_fit pid=7365)\u001b[0m Run WITHOUT homomorphic encryption\n",
      "\u001b[36m(launch_and_fit pid=7365)\u001b[0m  To get the checkpoint\n",
      "\u001b[36m(launch_and_fit pid=7316)\u001b[0m save graph in  results/FL/\n",
      "\u001b[36m(launch_and_fit pid=7316)\u001b[0m \tTrain Epoch: 10 \tTrain_loss: 1.7195 | Train_acc: 37.8977 % | Validation_loss: 1.5441 | Validation_acc: 51.3889 %\n",
      "\u001b[36m(launch_and_fit pid=7365)\u001b[0m [Client 6, round 10] fit, config: {'learning_rate': 0.003, 'batch_size': '16', 'server_round': 10, 'local_epochs': 10}\n",
      "\u001b[36m(launch_and_fit pid=7365)\u001b[0m Updated model\n"
     ]
    },
    {
     "name": "stderr",
     "output_type": "stream",
     "text": [
      "  0%|\u001b[34m          \u001b[0m| 0/10 [00:00<?, ?it/s]\n",
      "100%|\u001b[34m██████████\u001b[0m| 10/10 [00:25<00:00,  2.60s/it]\n"
     ]
    },
    {
     "name": "stdout",
     "output_type": "stream",
     "text": [
      "\u001b[36m(launch_and_fit pid=7365)\u001b[0m \tTrain Epoch: 1 \tTrain_loss: 1.7370 | Train_acc: 39.1761 % | Validation_loss: 1.7982 | Validation_acc: 40.9722 %\n"
     ]
    },
    {
     "name": "stderr",
     "output_type": "stream",
     "text": [
      " 10%|\u001b[34m█         \u001b[0m| 1/10 [00:02<00:26,  2.90s/it]\n"
     ]
    },
    {
     "name": "stdout",
     "output_type": "stream",
     "text": [
      "\u001b[36m(launch_and_fit pid=7367)\u001b[0m Run WITHOUT homomorphic encryption\n",
      "\u001b[36m(launch_and_fit pid=7367)\u001b[0m  To get the checkpoint\n",
      "\u001b[36m(launch_and_fit pid=7367)\u001b[0m [Client 9, round 10] fit, config: {'learning_rate': 0.003, 'batch_size': '16', 'server_round': 10, 'local_epochs': 10}\n",
      "\u001b[36m(launch_and_fit pid=7367)\u001b[0m Updated model\n"
     ]
    },
    {
     "name": "stderr",
     "output_type": "stream",
     "text": [
      "  0%|\u001b[34m          \u001b[0m| 0/10 [00:00<?, ?it/s]\n"
     ]
    },
    {
     "name": "stdout",
     "output_type": "stream",
     "text": [
      "\u001b[36m(launch_and_fit pid=7365)\u001b[0m \tTrain Epoch: 3 \tTrain_loss: 1.6931 | Train_acc: 42.1307 % | Validation_loss: 1.8805 | Validation_acc: 38.1944 %\u001b[32m [repeated 4x across cluster]\u001b[0m\n"
     ]
    },
    {
     "name": "stderr",
     "output_type": "stream",
     "text": [
      " 30%|\u001b[34m███       \u001b[0m| 3/10 [00:08<00:19,  2.77s/it]\u001b[32m [repeated 4x across cluster]\u001b[0m\n",
      " 50%|\u001b[34m█████     \u001b[0m| 5/10 [00:13<00:13,  2.63s/it]\u001b[32m [repeated 5x across cluster]\u001b[0m\n"
     ]
    },
    {
     "name": "stdout",
     "output_type": "stream",
     "text": [
      "\u001b[36m(launch_and_fit pid=7367)\u001b[0m \tTrain Epoch: 5 \tTrain_loss: 1.7019 | Train_acc: 43.0000 % | Validation_loss: 1.6781 | Validation_acc: 36.1111 %\u001b[32m [repeated 5x across cluster]\u001b[0m\n",
      "\u001b[36m(launch_and_fit pid=7365)\u001b[0m \tTrain Epoch: 7 \tTrain_loss: 1.6787 | Train_acc: 41.5057 % | Validation_loss: 1.8450 | Validation_acc: 18.7500 %\u001b[32m [repeated 3x across cluster]\u001b[0m\n"
     ]
    },
    {
     "name": "stderr",
     "output_type": "stream",
     "text": [
      " 70%|\u001b[34m███████   \u001b[0m| 7/10 [00:18<00:07,  2.65s/it]\u001b[32m [repeated 3x across cluster]\u001b[0m\n"
     ]
    },
    {
     "name": "stdout",
     "output_type": "stream",
     "text": [
      "\u001b[36m(launch_and_fit pid=7365)\u001b[0m \tTrain Epoch: 9 \tTrain_loss: 1.6652 | Train_acc: 44.8011 % | Validation_loss: 1.8753 | Validation_acc: 27.7778 %\u001b[32m [repeated 4x across cluster]\u001b[0m\n"
     ]
    },
    {
     "name": "stderr",
     "output_type": "stream",
     "text": [
      " 90%|\u001b[34m█████████ \u001b[0m| 9/10 [00:24<00:02,  2.79s/it]\u001b[32m [repeated 4x across cluster]\u001b[0m\n"
     ]
    },
    {
     "name": "stdout",
     "output_type": "stream",
     "text": [
      "\u001b[36m(launch_and_fit pid=7365)\u001b[0m save graph in  results/FL/\n"
     ]
    },
    {
     "name": "stderr",
     "output_type": "stream",
     "text": [
      "DEBUG flwr 2024-07-22 09:57:01,663 | server.py:236 | fit_round 10 received 10 results and 0 failures\n"
     ]
    },
    {
     "name": "stdout",
     "output_type": "stream",
     "text": [
      "Saving round 10 aggregated_parameters...\n",
      "Updated model\n"
     ]
    },
    {
     "name": "stderr",
     "output_type": "stream",
     "text": [
      "INFO flwr 2024-07-22 09:57:04,443 | server.py:125 | fit progress: (10, 1.73321899284016, {'accuracy': 36.28787878787879}, 2423.970629966)\n",
      "DEBUG flwr 2024-07-22 09:57:04,445 | server.py:173 | evaluate_round 10: strategy sampled 10 clients (out of 10)\n"
     ]
    },
    {
     "name": "stdout",
     "output_type": "stream",
     "text": [
      "Server-side evaluation loss 1.73321899284016 / accuracy 36.28787878787879\n",
      "\u001b[36m(launch_and_evaluate pid=7450)\u001b[0m Run WITHOUT homomorphic encryption\n",
      "\u001b[36m(launch_and_evaluate pid=7450)\u001b[0m  To get the checkpoint\n",
      "\u001b[36m(launch_and_fit pid=7367)\u001b[0m \tTrain Epoch: 10 \tTrain_loss: 1.6949 | Train_acc: 43.1875 % | Validation_loss: 1.7239 | Validation_acc: 29.8611 %\u001b[32m [repeated 3x across cluster]\u001b[0m\n",
      "\u001b[36m(launch_and_fit pid=7367)\u001b[0m save graph in  results/FL/\n",
      "\u001b[36m(launch_and_evaluate pid=7450)\u001b[0m [Client 2] evaluate, config: {}\n",
      "\u001b[36m(launch_and_evaluate pid=7450)\u001b[0m Updated model\n"
     ]
    },
    {
     "name": "stderr",
     "output_type": "stream",
     "text": [
      "\u001b[36m(launch_and_evaluate pid=7451)\u001b[0m /opt/conda/lib/python3.10/site-packages/sklearn/metrics/_ranking.py:1029: UndefinedMetricWarning: No positive samples in y_true, true positive value should be meaningless\n",
      "\u001b[36m(launch_and_evaluate pid=7451)\u001b[0m   warnings.warn(\n",
      "100%|\u001b[34m██████████\u001b[0m| 10/10 [00:27<00:00,  2.79s/it]\u001b[32m [repeated 3x across cluster]\u001b[0m\n"
     ]
    },
    {
     "name": "stdout",
     "output_type": "stream",
     "text": [
      "\u001b[36m(launch_and_evaluate pid=7521)\u001b[0m Run WITHOUT homomorphic encryption\u001b[32m [repeated 2x across cluster]\u001b[0m\n",
      "\u001b[36m(launch_and_evaluate pid=7521)\u001b[0m  To get the checkpoint\u001b[32m [repeated 2x across cluster]\u001b[0m\n",
      "\u001b[36m(launch_and_evaluate pid=7451)\u001b[0m [Client 8] evaluate, config: {}\n",
      "\u001b[36m(launch_and_evaluate pid=7451)\u001b[0m Updated model\n",
      "\u001b[36m(launch_and_evaluate pid=7521)\u001b[0m [Client 7] evaluate, config: {}\n",
      "\u001b[36m(launch_and_evaluate pid=7521)\u001b[0m Updated model\n",
      "\u001b[36m(launch_and_evaluate pid=7591)\u001b[0m Run WITHOUT homomorphic encryption\u001b[32m [repeated 2x across cluster]\u001b[0m\n",
      "\u001b[36m(launch_and_evaluate pid=7591)\u001b[0m  To get the checkpoint\u001b[32m [repeated 2x across cluster]\u001b[0m\n",
      "\u001b[36m(launch_and_evaluate pid=7523)\u001b[0m [Client 0] evaluate, config: {}\n",
      "\u001b[36m(launch_and_evaluate pid=7523)\u001b[0m Updated model\n",
      "\u001b[36m(launch_and_evaluate pid=7591)\u001b[0m [Client 5] evaluate, config: {}\n",
      "\u001b[36m(launch_and_evaluate pid=7591)\u001b[0m Updated model\n"
     ]
    },
    {
     "name": "stderr",
     "output_type": "stream",
     "text": [
      "\u001b[36m(launch_and_evaluate pid=7593)\u001b[0m /opt/conda/lib/python3.10/site-packages/sklearn/metrics/_ranking.py:1029: UndefinedMetricWarning: No positive samples in y_true, true positive value should be meaningless\n",
      "\u001b[36m(launch_and_evaluate pid=7593)\u001b[0m   warnings.warn(\n"
     ]
    },
    {
     "name": "stdout",
     "output_type": "stream",
     "text": [
      "\u001b[36m(launch_and_evaluate pid=7661)\u001b[0m Run WITHOUT homomorphic encryption\u001b[32m [repeated 2x across cluster]\u001b[0m\n",
      "\u001b[36m(launch_and_evaluate pid=7661)\u001b[0m  To get the checkpoint\u001b[32m [repeated 2x across cluster]\u001b[0m\n",
      "\u001b[36m(launch_and_evaluate pid=7593)\u001b[0m [Client 4] evaluate, config: {}\n",
      "\u001b[36m(launch_and_evaluate pid=7593)\u001b[0m Updated model\n",
      "\u001b[36m(launch_and_evaluate pid=7661)\u001b[0m [Client 3] evaluate, config: {}\n",
      "\u001b[36m(launch_and_evaluate pid=7661)\u001b[0m Updated model\n"
     ]
    },
    {
     "name": "stderr",
     "output_type": "stream",
     "text": [
      "\u001b[36m(launch_and_evaluate pid=7663)\u001b[0m /opt/conda/lib/python3.10/site-packages/sklearn/metrics/_ranking.py:1029: UndefinedMetricWarning: No positive samples in y_true, true positive value should be meaningless\n",
      "\u001b[36m(launch_and_evaluate pid=7663)\u001b[0m   warnings.warn(\n"
     ]
    },
    {
     "name": "stdout",
     "output_type": "stream",
     "text": [
      "\u001b[36m(launch_and_evaluate pid=7731)\u001b[0m Run WITHOUT homomorphic encryption\u001b[32m [repeated 2x across cluster]\u001b[0m\n",
      "\u001b[36m(launch_and_evaluate pid=7731)\u001b[0m  To get the checkpoint\u001b[32m [repeated 2x across cluster]\u001b[0m\n",
      "\u001b[36m(launch_and_evaluate pid=7663)\u001b[0m [Client 9] evaluate, config: {}\n",
      "\u001b[36m(launch_and_evaluate pid=7663)\u001b[0m Updated model\n",
      "\u001b[36m(launch_and_evaluate pid=7731)\u001b[0m [Client 6] evaluate, config: {}\n",
      "\u001b[36m(launch_and_evaluate pid=7731)\u001b[0m Updated model\n"
     ]
    },
    {
     "name": "stderr",
     "output_type": "stream",
     "text": [
      "DEBUG flwr 2024-07-22 09:58:05,248 | server.py:187 | evaluate_round 10 received 10 results and 0 failures\n",
      "DEBUG flwr 2024-07-22 09:58:05,250 | server.py:222 | fit_round 11: strategy sampled 10 clients (out of 10)\n"
     ]
    },
    {
     "name": "stdout",
     "output_type": "stream",
     "text": [
      "\u001b[36m(launch_and_fit pid=7812)\u001b[0m Run WITHOUT homomorphic encryption\u001b[32m [repeated 2x across cluster]\u001b[0m\n",
      "\u001b[36m(launch_and_fit pid=7812)\u001b[0m  To get the checkpoint\u001b[32m [repeated 2x across cluster]\u001b[0m\n",
      "\u001b[36m(launch_and_evaluate pid=7733)\u001b[0m [Client 1] evaluate, config: {}\n",
      "\u001b[36m(launch_and_evaluate pid=7733)\u001b[0m Updated model\n"
     ]
    },
    {
     "name": "stderr",
     "output_type": "stream",
     "text": [
      "  0%|\u001b[34m          \u001b[0m| 0/10 [00:00<?, ?it/s]\n"
     ]
    },
    {
     "name": "stdout",
     "output_type": "stream",
     "text": [
      "\u001b[36m(launch_and_fit pid=7812)\u001b[0m [Client 8, round 11] fit, config: {'learning_rate': 0.003, 'batch_size': '16', 'server_round': 11, 'local_epochs': 10}\n",
      "\u001b[36m(launch_and_fit pid=7812)\u001b[0m Updated model\n"
     ]
    },
    {
     "name": "stderr",
     "output_type": "stream",
     "text": [
      " 10%|\u001b[34m█         \u001b[0m| 1/10 [00:02<00:25,  2.81s/it]\n"
     ]
    },
    {
     "name": "stdout",
     "output_type": "stream",
     "text": [
      "\u001b[36m(launch_and_fit pid=7812)\u001b[0m \tTrain Epoch: 1 \tTrain_loss: 1.7411 | Train_acc: 33.4091 % | Validation_loss: 1.7688 | Validation_acc: 36.1111 %\n"
     ]
    },
    {
     "name": "stderr",
     "output_type": "stream",
     "text": [
      "  0%|\u001b[34m          \u001b[0m| 0/10 [00:00<?, ?it/s]\n"
     ]
    },
    {
     "name": "stdout",
     "output_type": "stream",
     "text": [
      "\u001b[36m(launch_and_fit pid=7811)\u001b[0m Run WITHOUT homomorphic encryption\n",
      "\u001b[36m(launch_and_fit pid=7811)\u001b[0m  To get the checkpoint\n",
      "\u001b[36m(launch_and_fit pid=7811)\u001b[0m [Client 2, round 11] fit, config: {'learning_rate': 0.003, 'batch_size': '16', 'server_round': 11, 'local_epochs': 10}\n",
      "\u001b[36m(launch_and_fit pid=7811)\u001b[0m Updated model\n"
     ]
    },
    {
     "name": "stderr",
     "output_type": "stream",
     "text": [
      " 40%|\u001b[34m████      \u001b[0m| 4/10 [00:10<00:14,  2.49s/it]\u001b[32m [repeated 6x across cluster]\u001b[0m\n"
     ]
    },
    {
     "name": "stdout",
     "output_type": "stream",
     "text": [
      "\u001b[36m(launch_and_fit pid=7812)\u001b[0m \tTrain Epoch: 4 \tTrain_loss: 1.6845 | Train_acc: 39.7727 % | Validation_loss: 1.7792 | Validation_acc: 18.7500 %\u001b[32m [repeated 6x across cluster]\u001b[0m\n",
      "\u001b[36m(launch_and_fit pid=7811)\u001b[0m \tTrain Epoch: 6 \tTrain_loss: 1.6890 | Train_acc: 36.5341 % | Validation_loss: 1.8086 | Validation_acc: 34.0278 %\u001b[32m [repeated 4x across cluster]\u001b[0m\n"
     ]
    },
    {
     "name": "stderr",
     "output_type": "stream",
     "text": [
      " 60%|\u001b[34m██████    \u001b[0m| 6/10 [00:15<00:10,  2.53s/it]\u001b[32m [repeated 4x across cluster]\u001b[0m\n"
     ]
    },
    {
     "name": "stdout",
     "output_type": "stream",
     "text": [
      "\u001b[36m(launch_and_fit pid=7811)\u001b[0m \tTrain Epoch: 8 \tTrain_loss: 1.6930 | Train_acc: 38.3523 % | Validation_loss: 1.7279 | Validation_acc: 34.0278 %\u001b[32m [repeated 4x across cluster]\u001b[0m\n"
     ]
    },
    {
     "name": "stderr",
     "output_type": "stream",
     "text": [
      " 80%|\u001b[34m████████  \u001b[0m| 8/10 [00:20<00:05,  2.55s/it]\u001b[32m [repeated 4x across cluster]\u001b[0m\n"
     ]
    },
    {
     "name": "stdout",
     "output_type": "stream",
     "text": [
      "\u001b[36m(launch_and_fit pid=7811)\u001b[0m save graph in  results/FL/\n",
      "\u001b[36m(launch_and_fit pid=7811)\u001b[0m \tTrain Epoch: 10 \tTrain_loss: 1.7012 | Train_acc: 36.3920 % | Validation_loss: 1.7487 | Validation_acc: 31.9444 %\u001b[32m [repeated 4x across cluster]\u001b[0m\n"
     ]
    },
    {
     "name": "stderr",
     "output_type": "stream",
     "text": [
      "100%|\u001b[34m██████████\u001b[0m| 10/10 [00:25<00:00,  2.55s/it]\u001b[32m [repeated 4x across cluster]\u001b[0m\n"
     ]
    },
    {
     "name": "stdout",
     "output_type": "stream",
     "text": [
      "\u001b[36m(launch_and_fit pid=7885)\u001b[0m Run WITHOUT homomorphic encryption\n",
      "\u001b[36m(launch_and_fit pid=7885)\u001b[0m  To get the checkpoint\n",
      "\u001b[36m(launch_and_fit pid=7812)\u001b[0m save graph in  results/FL/\n",
      "\u001b[36m(launch_and_fit pid=7812)\u001b[0m \tTrain Epoch: 10 \tTrain_loss: 1.6555 | Train_acc: 41.6193 % | Validation_loss: 1.7530 | Validation_acc: 34.0278 %\n",
      "\u001b[36m(launch_and_fit pid=7885)\u001b[0m [Client 5, round 11] fit, config: {'learning_rate': 0.003, 'batch_size': '16', 'server_round': 11, 'local_epochs': 10}\n",
      "\u001b[36m(launch_and_fit pid=7885)\u001b[0m Updated model\n"
     ]
    },
    {
     "name": "stderr",
     "output_type": "stream",
     "text": [
      "  0%|\u001b[34m          \u001b[0m| 0/10 [00:00<?, ?it/s]\n",
      "100%|\u001b[34m██████████\u001b[0m| 10/10 [00:26<00:00,  2.61s/it]\n"
     ]
    },
    {
     "name": "stdout",
     "output_type": "stream",
     "text": [
      "\u001b[36m(launch_and_fit pid=7885)\u001b[0m \tTrain Epoch: 1 \tTrain_loss: 1.7978 | Train_acc: 30.4545 % | Validation_loss: 1.7715 | Validation_acc: 38.1944 %\n"
     ]
    },
    {
     "name": "stderr",
     "output_type": "stream",
     "text": [
      " 10%|\u001b[34m█         \u001b[0m| 1/10 [00:02<00:24,  2.76s/it]\n"
     ]
    },
    {
     "name": "stdout",
     "output_type": "stream",
     "text": [
      "\u001b[36m(launch_and_fit pid=7887)\u001b[0m Run WITHOUT homomorphic encryption\n",
      "\u001b[36m(launch_and_fit pid=7887)\u001b[0m  To get the checkpoint\n",
      "\u001b[36m(launch_and_fit pid=7887)\u001b[0m [Client 6, round 11] fit, config: {'learning_rate': 0.003, 'batch_size': '16', 'server_round': 11, 'local_epochs': 10}\n",
      "\u001b[36m(launch_and_fit pid=7887)\u001b[0m Updated model\n"
     ]
    },
    {
     "name": "stderr",
     "output_type": "stream",
     "text": [
      "  0%|\u001b[34m          \u001b[0m| 0/10 [00:00<?, ?it/s]\n"
     ]
    },
    {
     "name": "stdout",
     "output_type": "stream",
     "text": [
      "\u001b[36m(launch_and_fit pid=7885)\u001b[0m \tTrain Epoch: 3 \tTrain_loss: 1.7394 | Train_acc: 33.8352 % | Validation_loss: 1.7616 | Validation_acc: 25.0000 %\u001b[32m [repeated 4x across cluster]\u001b[0m\n"
     ]
    },
    {
     "name": "stderr",
     "output_type": "stream",
     "text": [
      " 30%|\u001b[34m███       \u001b[0m| 3/10 [00:07<00:18,  2.60s/it]\u001b[32m [repeated 4x across cluster]\u001b[0m\n"
     ]
    },
    {
     "name": "stdout",
     "output_type": "stream",
     "text": [
      "\u001b[36m(launch_and_fit pid=7885)\u001b[0m \tTrain Epoch: 5 \tTrain_loss: 1.7194 | Train_acc: 33.0966 % | Validation_loss: 1.6983 | Validation_acc: 47.2222 %\u001b[32m [repeated 4x across cluster]\u001b[0m\n"
     ]
    },
    {
     "name": "stderr",
     "output_type": "stream",
     "text": [
      " 50%|\u001b[34m█████     \u001b[0m| 5/10 [00:13<00:13,  2.66s/it]\u001b[32m [repeated 4x across cluster]\u001b[0m\n"
     ]
    },
    {
     "name": "stdout",
     "output_type": "stream",
     "text": [
      "\u001b[36m(launch_and_fit pid=7885)\u001b[0m \tTrain Epoch: 7 \tTrain_loss: 1.7037 | Train_acc: 36.5057 % | Validation_loss: 1.7095 | Validation_acc: 36.1111 %\u001b[32m [repeated 4x across cluster]\u001b[0m\n"
     ]
    },
    {
     "name": "stderr",
     "output_type": "stream",
     "text": [
      " 70%|\u001b[34m███████   \u001b[0m| 7/10 [00:18<00:07,  2.67s/it]\u001b[32m [repeated 4x across cluster]\u001b[0m\n"
     ]
    },
    {
     "name": "stdout",
     "output_type": "stream",
     "text": [
      "\u001b[36m(launch_and_fit pid=7885)\u001b[0m \tTrain Epoch: 9 \tTrain_loss: 1.6999 | Train_acc: 35.8807 % | Validation_loss: 1.6879 | Validation_acc: 58.3333 %\u001b[32m [repeated 4x across cluster]\u001b[0m\n"
     ]
    },
    {
     "name": "stderr",
     "output_type": "stream",
     "text": [
      " 90%|\u001b[34m█████████ \u001b[0m| 9/10 [00:23<00:02,  2.60s/it]\u001b[32m [repeated 4x across cluster]\u001b[0m\n"
     ]
    },
    {
     "name": "stdout",
     "output_type": "stream",
     "text": [
      "\u001b[36m(launch_and_fit pid=7885)\u001b[0m save graph in  results/FL/\n",
      "\u001b[36m(launch_and_fit pid=7959)\u001b[0m Run WITHOUT homomorphic encryption\n",
      "\u001b[36m(launch_and_fit pid=7959)\u001b[0m  To get the checkpoint\n",
      "\u001b[36m(launch_and_fit pid=7887)\u001b[0m \tTrain Epoch: 10 \tTrain_loss: 1.6474 | Train_acc: 43.4943 % | Validation_loss: 1.9058 | Validation_acc: 40.9722 %\u001b[32m [repeated 3x across cluster]\u001b[0m\n",
      "\u001b[36m(launch_and_fit pid=7887)\u001b[0m save graph in  results/FL/\n"
     ]
    },
    {
     "name": "stderr",
     "output_type": "stream",
     "text": [
      "  0%|\u001b[34m          \u001b[0m| 0/10 [00:00<?, ?it/s]\n",
      "100%|\u001b[34m██████████\u001b[0m| 10/10 [00:26<00:00,  2.66s/it]\u001b[32m [repeated 3x across cluster]\u001b[0m\n"
     ]
    },
    {
     "name": "stdout",
     "output_type": "stream",
     "text": [
      "\u001b[36m(launch_and_fit pid=7959)\u001b[0m [Client 7, round 11] fit, config: {'learning_rate': 0.003, 'batch_size': '16', 'server_round': 11, 'local_epochs': 10}\n",
      "\u001b[36m(launch_and_fit pid=7959)\u001b[0m Updated model\n"
     ]
    },
    {
     "name": "stderr",
     "output_type": "stream",
     "text": [
      "  0%|\u001b[34m          \u001b[0m| 0/10 [00:00<?, ?it/s]\n",
      " 20%|\u001b[34m██        \u001b[0m| 2/10 [00:05<00:23,  2.91s/it]\u001b[32m [repeated 3x across cluster]\u001b[0m\n"
     ]
    },
    {
     "name": "stdout",
     "output_type": "stream",
     "text": [
      "\u001b[36m(launch_and_fit pid=7984)\u001b[0m Run WITHOUT homomorphic encryption\n",
      "\u001b[36m(launch_and_fit pid=7984)\u001b[0m  To get the checkpoint\n",
      "\u001b[36m(launch_and_fit pid=7959)\u001b[0m \tTrain Epoch: 2 \tTrain_loss: 1.7521 | Train_acc: 35.4261 % | Validation_loss: 1.5632 | Validation_acc: 49.3056 %\u001b[32m [repeated 3x across cluster]\u001b[0m\n",
      "\u001b[36m(launch_and_fit pid=7984)\u001b[0m [Client 3, round 11] fit, config: {'learning_rate': 0.003, 'batch_size': '16', 'server_round': 11, 'local_epochs': 10}\n",
      "\u001b[36m(launch_and_fit pid=7984)\u001b[0m Updated model\n"
     ]
    },
    {
     "name": "stderr",
     "output_type": "stream",
     "text": [
      " 40%|\u001b[34m████      \u001b[0m| 4/10 [00:10<00:16,  2.68s/it]\u001b[32m [repeated 4x across cluster]\u001b[0m\n"
     ]
    },
    {
     "name": "stdout",
     "output_type": "stream",
     "text": [
      "\u001b[36m(launch_and_fit pid=7959)\u001b[0m \tTrain Epoch: 4 \tTrain_loss: 1.7292 | Train_acc: 36.3352 % | Validation_loss: 1.5472 | Validation_acc: 47.2222 %\u001b[32m [repeated 4x across cluster]\u001b[0m\n"
     ]
    },
    {
     "name": "stderr",
     "output_type": "stream",
     "text": [
      " 60%|\u001b[34m██████    \u001b[0m| 6/10 [00:16<00:10,  2.63s/it]\u001b[32m [repeated 4x across cluster]\u001b[0m\n"
     ]
    },
    {
     "name": "stdout",
     "output_type": "stream",
     "text": [
      "\u001b[36m(launch_and_fit pid=7959)\u001b[0m \tTrain Epoch: 6 \tTrain_loss: 1.7234 | Train_acc: 36.5057 % | Validation_loss: 1.5415 | Validation_acc: 49.3056 %\u001b[32m [repeated 4x across cluster]\u001b[0m\n"
     ]
    },
    {
     "name": "stderr",
     "output_type": "stream",
     "text": [
      " 80%|\u001b[34m████████  \u001b[0m| 8/10 [00:21<00:05,  2.58s/it]\u001b[32m [repeated 4x across cluster]\u001b[0m\n"
     ]
    },
    {
     "name": "stdout",
     "output_type": "stream",
     "text": [
      "\u001b[36m(launch_and_fit pid=7959)\u001b[0m \tTrain Epoch: 8 \tTrain_loss: 1.7145 | Train_acc: 36.0227 % | Validation_loss: 1.5497 | Validation_acc: 49.3056 %\u001b[32m [repeated 4x across cluster]\u001b[0m\n"
     ]
    },
    {
     "name": "stderr",
     "output_type": "stream",
     "text": [
      "100%|\u001b[34m██████████\u001b[0m| 10/10 [00:26<00:00,  2.64s/it]\u001b[32m [repeated 4x across cluster]\u001b[0m\n"
     ]
    },
    {
     "name": "stdout",
     "output_type": "stream",
     "text": [
      "\u001b[36m(launch_and_fit pid=7959)\u001b[0m save graph in  results/FL/\n",
      "\u001b[36m(launch_and_fit pid=7959)\u001b[0m \tTrain Epoch: 10 \tTrain_loss: 1.7185 | Train_acc: 36.0227 % | Validation_loss: 1.5383 | Validation_acc: 53.4722 %\u001b[32m [repeated 4x across cluster]\u001b[0m\n",
      "\u001b[36m(launch_and_fit pid=8034)\u001b[0m Run WITHOUT homomorphic encryption\n",
      "\u001b[36m(launch_and_fit pid=8034)\u001b[0m  To get the checkpoint\n",
      "\u001b[36m(launch_and_fit pid=7984)\u001b[0m save graph in  results/FL/\n",
      "\u001b[36m(launch_and_fit pid=7984)\u001b[0m \tTrain Epoch: 10 \tTrain_loss: 1.7077 | Train_acc: 37.7273 % | Validation_loss: 1.7905 | Validation_acc: 47.2222 %\n",
      "\u001b[36m(launch_and_fit pid=8034)\u001b[0m [Client 1, round 11] fit, config: {'learning_rate': 0.003, 'batch_size': '16', 'server_round': 11, 'local_epochs': 10}\n",
      "\u001b[36m(launch_and_fit pid=8034)\u001b[0m Updated model\n"
     ]
    },
    {
     "name": "stderr",
     "output_type": "stream",
     "text": [
      "  0%|\u001b[34m          \u001b[0m| 0/10 [00:00<?, ?it/s]\n",
      "100%|\u001b[34m██████████\u001b[0m| 10/10 [00:26<00:00,  2.63s/it]\n"
     ]
    },
    {
     "name": "stdout",
     "output_type": "stream",
     "text": [
      "\u001b[36m(launch_and_fit pid=8034)\u001b[0m \tTrain Epoch: 1 \tTrain_loss: 1.7728 | Train_acc: 31.5057 % | Validation_loss: 1.8559 | Validation_acc: 20.8333 %\n"
     ]
    },
    {
     "name": "stderr",
     "output_type": "stream",
     "text": [
      " 10%|\u001b[34m█         \u001b[0m| 1/10 [00:02<00:24,  2.76s/it]\n"
     ]
    },
    {
     "name": "stdout",
     "output_type": "stream",
     "text": [
      "\u001b[36m(launch_and_fit pid=8059)\u001b[0m Run WITHOUT homomorphic encryption\n",
      "\u001b[36m(launch_and_fit pid=8059)\u001b[0m  To get the checkpoint\n",
      "\u001b[36m(launch_and_fit pid=8059)\u001b[0m [Client 4, round 11] fit, config: {'learning_rate': 0.003, 'batch_size': '16', 'server_round': 11, 'local_epochs': 10}\n",
      "\u001b[36m(launch_and_fit pid=8059)\u001b[0m Updated model\n"
     ]
    },
    {
     "name": "stderr",
     "output_type": "stream",
     "text": [
      "  0%|\u001b[34m          \u001b[0m| 0/10 [00:00<?, ?it/s]\n"
     ]
    },
    {
     "name": "stdout",
     "output_type": "stream",
     "text": [
      "\u001b[36m(launch_and_fit pid=8034)\u001b[0m \tTrain Epoch: 3 \tTrain_loss: 1.7506 | Train_acc: 32.9261 % | Validation_loss: 1.8244 | Validation_acc: 31.9444 %\u001b[32m [repeated 4x across cluster]\u001b[0m\n"
     ]
    },
    {
     "name": "stderr",
     "output_type": "stream",
     "text": [
      " 30%|\u001b[34m███       \u001b[0m| 3/10 [00:07<00:18,  2.58s/it]\u001b[32m [repeated 4x across cluster]\u001b[0m\n"
     ]
    },
    {
     "name": "stdout",
     "output_type": "stream",
     "text": [
      "\u001b[36m(launch_and_fit pid=8059)\u001b[0m \tTrain Epoch: 5 \tTrain_loss: 1.7215 | Train_acc: 35.8807 % | Validation_loss: 1.6884 | Validation_acc: 40.2778 %\u001b[32m [repeated 5x across cluster]\u001b[0m\n"
     ]
    },
    {
     "name": "stderr",
     "output_type": "stream",
     "text": [
      " 50%|\u001b[34m█████     \u001b[0m| 5/10 [00:12<00:12,  2.49s/it]\u001b[32m [repeated 5x across cluster]\u001b[0m\n"
     ]
    },
    {
     "name": "stdout",
     "output_type": "stream",
     "text": [
      "\u001b[36m(launch_and_fit pid=8034)\u001b[0m \tTrain Epoch: 8 \tTrain_loss: 1.7135 | Train_acc: 37.8977 % | Validation_loss: 1.8463 | Validation_acc: 34.0278 %\u001b[32m [repeated 5x across cluster]\u001b[0m\n"
     ]
    },
    {
     "name": "stderr",
     "output_type": "stream",
     "text": [
      " 80%|\u001b[34m████████  \u001b[0m| 8/10 [00:20<00:04,  2.47s/it]\u001b[32m [repeated 5x across cluster]\u001b[0m\n"
     ]
    },
    {
     "name": "stdout",
     "output_type": "stream",
     "text": [
      "\u001b[36m(launch_and_fit pid=8034)\u001b[0m save graph in  results/FL/\n",
      "\u001b[36m(launch_and_fit pid=8059)\u001b[0m \tTrain Epoch: 10 \tTrain_loss: 1.6967 | Train_acc: 35.4545 % | Validation_loss: 1.6585 | Validation_acc: 42.3611 %\u001b[32m [repeated 5x across cluster]\u001b[0m\n"
     ]
    },
    {
     "name": "stderr",
     "output_type": "stream",
     "text": [
      "100%|\u001b[34m██████████\u001b[0m| 10/10 [00:25<00:00,  2.50s/it]\u001b[32m [repeated 5x across cluster]\u001b[0m\n"
     ]
    },
    {
     "name": "stdout",
     "output_type": "stream",
     "text": [
      "\u001b[36m(launch_and_fit pid=8108)\u001b[0m Run WITHOUT homomorphic encryption\n",
      "\u001b[36m(launch_and_fit pid=8108)\u001b[0m  To get the checkpoint\n",
      "\u001b[36m(launch_and_fit pid=8059)\u001b[0m save graph in  results/FL/\n",
      "\u001b[36m(launch_and_fit pid=8108)\u001b[0m [Client 0, round 11] fit, config: {'learning_rate': 0.003, 'batch_size': '16', 'server_round': 11, 'local_epochs': 10}\n",
      "\u001b[36m(launch_and_fit pid=8108)\u001b[0m Updated model\n"
     ]
    },
    {
     "name": "stderr",
     "output_type": "stream",
     "text": [
      "  0%|\u001b[34m          \u001b[0m| 0/10 [00:00<?, ?it/s]\n"
     ]
    },
    {
     "name": "stdout",
     "output_type": "stream",
     "text": [
      "\u001b[36m(launch_and_fit pid=8108)\u001b[0m \tTrain Epoch: 1 \tTrain_loss: 1.7083 | Train_acc: 38.6648 % | Validation_loss: 1.8837 | Validation_acc: 25.0000 %\n"
     ]
    },
    {
     "name": "stderr",
     "output_type": "stream",
     "text": [
      " 10%|\u001b[34m█         \u001b[0m| 1/10 [00:02<00:25,  2.78s/it]\n"
     ]
    },
    {
     "name": "stdout",
     "output_type": "stream",
     "text": [
      "\u001b[36m(launch_and_fit pid=8129)\u001b[0m Run WITHOUT homomorphic encryption\n",
      "\u001b[36m(launch_and_fit pid=8129)\u001b[0m  To get the checkpoint\n",
      "\u001b[36m(launch_and_fit pid=8129)\u001b[0m [Client 9, round 11] fit, config: {'learning_rate': 0.003, 'batch_size': '16', 'server_round': 11, 'local_epochs': 10}\n",
      "\u001b[36m(launch_and_fit pid=8129)\u001b[0m Updated model\n"
     ]
    },
    {
     "name": "stderr",
     "output_type": "stream",
     "text": [
      "  0%|\u001b[34m          \u001b[0m| 0/10 [00:00<?, ?it/s]\n"
     ]
    },
    {
     "name": "stdout",
     "output_type": "stream",
     "text": [
      "\u001b[36m(launch_and_fit pid=8108)\u001b[0m \tTrain Epoch: 3 \tTrain_loss: 1.6837 | Train_acc: 40.0852 % | Validation_loss: 1.8093 | Validation_acc: 22.9167 %\u001b[32m [repeated 4x across cluster]\u001b[0m\n"
     ]
    },
    {
     "name": "stderr",
     "output_type": "stream",
     "text": [
      " 30%|\u001b[34m███       \u001b[0m| 3/10 [00:07<00:18,  2.60s/it]\u001b[32m [repeated 4x across cluster]\u001b[0m\n"
     ]
    },
    {
     "name": "stdout",
     "output_type": "stream",
     "text": [
      "\u001b[36m(launch_and_fit pid=8108)\u001b[0m \tTrain Epoch: 5 \tTrain_loss: 1.6740 | Train_acc: 41.5341 % | Validation_loss: 1.8646 | Validation_acc: 25.0000 %\u001b[32m [repeated 4x across cluster]\u001b[0m\n"
     ]
    },
    {
     "name": "stderr",
     "output_type": "stream",
     "text": [
      " 50%|\u001b[34m█████     \u001b[0m| 5/10 [00:13<00:13,  2.61s/it]\u001b[32m [repeated 4x across cluster]\u001b[0m\n"
     ]
    },
    {
     "name": "stdout",
     "output_type": "stream",
     "text": [
      "\u001b[36m(launch_and_fit pid=8108)\u001b[0m \tTrain Epoch: 7 \tTrain_loss: 1.6580 | Train_acc: 42.1307 % | Validation_loss: 1.8483 | Validation_acc: 25.0000 %\u001b[32m [repeated 4x across cluster]\u001b[0m\n"
     ]
    },
    {
     "name": "stderr",
     "output_type": "stream",
     "text": [
      " 70%|\u001b[34m███████   \u001b[0m| 7/10 [00:18<00:08,  2.69s/it]\u001b[32m [repeated 4x across cluster]\u001b[0m\n"
     ]
    },
    {
     "name": "stdout",
     "output_type": "stream",
     "text": [
      "\u001b[36m(launch_and_fit pid=8108)\u001b[0m \tTrain Epoch: 9 \tTrain_loss: 1.6639 | Train_acc: 41.0511 % | Validation_loss: 1.8551 | Validation_acc: 25.0000 %\u001b[32m [repeated 4x across cluster]\u001b[0m\n"
     ]
    },
    {
     "name": "stderr",
     "output_type": "stream",
     "text": [
      " 90%|\u001b[34m█████████ \u001b[0m| 9/10 [00:23<00:02,  2.70s/it]\u001b[32m [repeated 4x across cluster]\u001b[0m\n"
     ]
    },
    {
     "name": "stdout",
     "output_type": "stream",
     "text": [
      "\u001b[36m(launch_and_fit pid=8108)\u001b[0m save graph in  results/FL/\n"
     ]
    },
    {
     "name": "stderr",
     "output_type": "stream",
     "text": [
      "DEBUG flwr 2024-07-22 10:01:12,385 | server.py:236 | fit_round 11 received 10 results and 0 failures\n"
     ]
    },
    {
     "name": "stdout",
     "output_type": "stream",
     "text": [
      "Saving round 11 aggregated_parameters...\n",
      "Updated model\n"
     ]
    },
    {
     "name": "stderr",
     "output_type": "stream",
     "text": [
      "INFO flwr 2024-07-22 10:01:14,718 | server.py:125 | fit progress: (11, 1.7370622894980692, {'accuracy': 36.51515151515151}, 2674.245262973)\n",
      "DEBUG flwr 2024-07-22 10:01:14,719 | server.py:173 | evaluate_round 11: strategy sampled 10 clients (out of 10)\n"
     ]
    },
    {
     "name": "stdout",
     "output_type": "stream",
     "text": [
      "Server-side evaluation loss 1.7370622894980692 / accuracy 36.51515151515151\n",
      "\u001b[36m(launch_and_evaluate pid=8190)\u001b[0m Run WITHOUT homomorphic encryption\n",
      "\u001b[36m(launch_and_evaluate pid=8190)\u001b[0m  To get the checkpoint\n",
      "\u001b[36m(launch_and_fit pid=8129)\u001b[0m \tTrain Epoch: 10 \tTrain_loss: 1.6626 | Train_acc: 44.8542 % | Validation_loss: 1.6504 | Validation_acc: 34.0278 %\u001b[32m [repeated 3x across cluster]\u001b[0m\n",
      "\u001b[36m(launch_and_fit pid=8129)\u001b[0m save graph in  results/FL/\n",
      "\u001b[36m(launch_and_evaluate pid=8190)\u001b[0m [Client 1] evaluate, config: {}\n",
      "\u001b[36m(launch_and_evaluate pid=8190)\u001b[0m Updated model\n",
      "\u001b[36m(launch_and_evaluate pid=8262)\u001b[0m Run WITHOUT homomorphic encryption\u001b[32m [repeated 2x across cluster]\u001b[0m\n",
      "\u001b[36m(launch_and_evaluate pid=8262)\u001b[0m  To get the checkpoint\u001b[32m [repeated 2x across cluster]\u001b[0m\n",
      "\u001b[36m(launch_and_evaluate pid=8192)\u001b[0m [Client 5] evaluate, config: {}\n",
      "\u001b[36m(launch_and_evaluate pid=8192)\u001b[0m Updated model\n",
      "\u001b[36m(launch_and_evaluate pid=8262)\u001b[0m [Client 7] evaluate, config: {}\n",
      "\u001b[36m(launch_and_evaluate pid=8262)\u001b[0m Updated model\n",
      "\u001b[36m(launch_and_evaluate pid=8332)\u001b[0m Run WITHOUT homomorphic encryption\u001b[32m [repeated 2x across cluster]\u001b[0m\n",
      "\u001b[36m(launch_and_evaluate pid=8332)\u001b[0m  To get the checkpoint\u001b[32m [repeated 2x across cluster]\u001b[0m\n",
      "\u001b[36m(launch_and_evaluate pid=8264)\u001b[0m [Client 3] evaluate, config: {}\n",
      "\u001b[36m(launch_and_evaluate pid=8264)\u001b[0m Updated model\n",
      "\u001b[36m(launch_and_evaluate pid=8332)\u001b[0m [Client 2] evaluate, config: {}\n",
      "\u001b[36m(launch_and_evaluate pid=8332)\u001b[0m Updated model\n"
     ]
    },
    {
     "name": "stderr",
     "output_type": "stream",
     "text": [
      "\u001b[36m(launch_and_evaluate pid=8334)\u001b[0m /opt/conda/lib/python3.10/site-packages/sklearn/metrics/_ranking.py:1029: UndefinedMetricWarning: No positive samples in y_true, true positive value should be meaningless\n",
      "\u001b[36m(launch_and_evaluate pid=8334)\u001b[0m   warnings.warn(\n",
      "100%|\u001b[34m██████████\u001b[0m| 10/10 [00:27<00:00,  2.72s/it]\u001b[32m [repeated 3x across cluster]\u001b[0m\n"
     ]
    },
    {
     "name": "stdout",
     "output_type": "stream",
     "text": [
      "\u001b[36m(launch_and_evaluate pid=8402)\u001b[0m Run WITHOUT homomorphic encryption\u001b[32m [repeated 2x across cluster]\u001b[0m\n",
      "\u001b[36m(launch_and_evaluate pid=8402)\u001b[0m  To get the checkpoint\u001b[32m [repeated 2x across cluster]\u001b[0m\n",
      "\u001b[36m(launch_and_evaluate pid=8334)\u001b[0m [Client 9] evaluate, config: {}\n",
      "\u001b[36m(launch_and_evaluate pid=8334)\u001b[0m Updated model\n",
      "\u001b[36m(launch_and_evaluate pid=8402)\u001b[0m [Client 6] evaluate, config: {}\n",
      "\u001b[36m(launch_and_evaluate pid=8402)\u001b[0m Updated model\n",
      "\u001b[36m(launch_and_evaluate pid=8474)\u001b[0m Run WITHOUT homomorphic encryption\u001b[32m [repeated 2x across cluster]\u001b[0m\n",
      "\u001b[36m(launch_and_evaluate pid=8474)\u001b[0m  To get the checkpoint\u001b[32m [repeated 2x across cluster]\u001b[0m\n",
      "\u001b[36m(launch_and_evaluate pid=8404)\u001b[0m [Client 0] evaluate, config: {}\n",
      "\u001b[36m(launch_and_evaluate pid=8404)\u001b[0m Updated model\n",
      "\u001b[36m(launch_and_evaluate pid=8474)\u001b[0m [Client 8] evaluate, config: {}\n",
      "\u001b[36m(launch_and_evaluate pid=8474)\u001b[0m Updated model\n"
     ]
    },
    {
     "name": "stderr",
     "output_type": "stream",
     "text": [
      "\u001b[36m(launch_and_evaluate pid=8473)\u001b[0m /opt/conda/lib/python3.10/site-packages/sklearn/metrics/_ranking.py:1029: UndefinedMetricWarning: No positive samples in y_true, true positive value should be meaningless\n",
      "\u001b[36m(launch_and_evaluate pid=8473)\u001b[0m   warnings.warn(\n",
      "\u001b[36m(launch_and_evaluate pid=8474)\u001b[0m /opt/conda/lib/python3.10/site-packages/sklearn/metrics/_ranking.py:1029: UndefinedMetricWarning: No positive samples in y_true, true positive value should be meaningless\n",
      "\u001b[36m(launch_and_evaluate pid=8474)\u001b[0m   warnings.warn(\n",
      "DEBUG flwr 2024-07-22 10:02:13,303 | server.py:187 | evaluate_round 11 received 10 results and 0 failures\n",
      "DEBUG flwr 2024-07-22 10:02:13,304 | server.py:222 | fit_round 12: strategy sampled 10 clients (out of 10)\n"
     ]
    },
    {
     "name": "stdout",
     "output_type": "stream",
     "text": [
      "\u001b[36m(launch_and_fit pid=8551)\u001b[0m Run WITHOUT homomorphic encryption\u001b[32m [repeated 2x across cluster]\u001b[0m\n",
      "\u001b[36m(launch_and_fit pid=8551)\u001b[0m  To get the checkpoint\u001b[32m [repeated 2x across cluster]\u001b[0m\n",
      "\u001b[36m(launch_and_evaluate pid=8473)\u001b[0m [Client 4] evaluate, config: {}\n",
      "\u001b[36m(launch_and_evaluate pid=8473)\u001b[0m Updated model\n"
     ]
    },
    {
     "name": "stderr",
     "output_type": "stream",
     "text": [
      "  0%|\u001b[34m          \u001b[0m| 0/10 [00:00<?, ?it/s]\n"
     ]
    },
    {
     "name": "stdout",
     "output_type": "stream",
     "text": [
      "\u001b[36m(launch_and_fit pid=8551)\u001b[0m [Client 6, round 12] fit, config: {'learning_rate': 0.003, 'batch_size': '16', 'server_round': 12, 'local_epochs': 10}\n",
      "\u001b[36m(launch_and_fit pid=8551)\u001b[0m Updated model\n"
     ]
    },
    {
     "name": "stderr",
     "output_type": "stream",
     "text": [
      " 10%|\u001b[34m█         \u001b[0m| 1/10 [00:02<00:25,  2.82s/it]\n"
     ]
    },
    {
     "name": "stdout",
     "output_type": "stream",
     "text": [
      "\u001b[36m(launch_and_fit pid=8552)\u001b[0m \tTrain Epoch: 1 \tTrain_loss: 1.7553 | Train_acc: 33.5227 % | Validation_loss: 1.7312 | Validation_acc: 27.7778 %\n"
     ]
    },
    {
     "name": "stderr",
     "output_type": "stream",
     "text": [
      "  0%|\u001b[34m          \u001b[0m| 0/10 [00:00<?, ?it/s]\n"
     ]
    },
    {
     "name": "stdout",
     "output_type": "stream",
     "text": [
      "\u001b[36m(launch_and_fit pid=8552)\u001b[0m Run WITHOUT homomorphic encryption\n",
      "\u001b[36m(launch_and_fit pid=8552)\u001b[0m  To get the checkpoint\n",
      "\u001b[36m(launch_and_fit pid=8552)\u001b[0m [Client 2, round 12] fit, config: {'learning_rate': 0.003, 'batch_size': '16', 'server_round': 12, 'local_epochs': 10}\n",
      "\u001b[36m(launch_and_fit pid=8552)\u001b[0m Updated model\n"
     ]
    },
    {
     "name": "stderr",
     "output_type": "stream",
     "text": [
      " 30%|\u001b[34m███       \u001b[0m| 3/10 [00:07<00:18,  2.58s/it]\u001b[32m [repeated 4x across cluster]\u001b[0m\n"
     ]
    },
    {
     "name": "stdout",
     "output_type": "stream",
     "text": [
      "\u001b[36m(launch_and_fit pid=8552)\u001b[0m \tTrain Epoch: 3 \tTrain_loss: 1.7104 | Train_acc: 36.3636 % | Validation_loss: 1.7484 | Validation_acc: 23.6111 %\u001b[32m [repeated 4x across cluster]\u001b[0m\n"
     ]
    },
    {
     "name": "stderr",
     "output_type": "stream",
     "text": [
      " 50%|\u001b[34m█████     \u001b[0m| 5/10 [00:13<00:12,  2.56s/it]\u001b[32m [repeated 5x across cluster]\u001b[0m\n"
     ]
    },
    {
     "name": "stdout",
     "output_type": "stream",
     "text": [
      "\u001b[36m(launch_and_fit pid=8551)\u001b[0m \tTrain Epoch: 5 \tTrain_loss: 1.6774 | Train_acc: 45.0568 % | Validation_loss: 1.9441 | Validation_acc: 36.8056 %\u001b[32m [repeated 5x across cluster]\u001b[0m\n"
     ]
    },
    {
     "name": "stderr",
     "output_type": "stream",
     "text": [
      " 70%|\u001b[34m███████   \u001b[0m| 7/10 [00:18<00:07,  2.56s/it]\u001b[32m [repeated 4x across cluster]\u001b[0m\n"
     ]
    },
    {
     "name": "stdout",
     "output_type": "stream",
     "text": [
      "\u001b[36m(launch_and_fit pid=8551)\u001b[0m \tTrain Epoch: 7 \tTrain_loss: 1.6542 | Train_acc: 45.9943 % | Validation_loss: 1.8881 | Validation_acc: 40.9722 %\u001b[32m [repeated 4x across cluster]\u001b[0m\n"
     ]
    },
    {
     "name": "stderr",
     "output_type": "stream",
     "text": [
      " 90%|\u001b[34m█████████ \u001b[0m| 9/10 [00:23<00:02,  2.59s/it]\u001b[32m [repeated 3x across cluster]\u001b[0m\n"
     ]
    },
    {
     "name": "stdout",
     "output_type": "stream",
     "text": [
      "\u001b[36m(launch_and_fit pid=8552)\u001b[0m \tTrain Epoch: 9 \tTrain_loss: 1.6930 | Train_acc: 36.0511 % | Validation_loss: 1.7474 | Validation_acc: 29.8611 %\u001b[32m [repeated 3x across cluster]\u001b[0m\n",
      "\u001b[36m(launch_and_fit pid=8552)\u001b[0m save graph in  results/FL/\n",
      "\u001b[36m(launch_and_fit pid=8624)\u001b[0m Run WITHOUT homomorphic encryption\n",
      "\u001b[36m(launch_and_fit pid=8624)\u001b[0m  To get the checkpoint\n",
      "\u001b[36m(launch_and_fit pid=8551)\u001b[0m \tTrain Epoch: 10 \tTrain_loss: 1.6474 | Train_acc: 46.3636 % | Validation_loss: 1.8998 | Validation_acc: 43.0556 %\u001b[32m [repeated 3x across cluster]\u001b[0m\n",
      "\u001b[36m(launch_and_fit pid=8551)\u001b[0m save graph in  results/FL/\n",
      "\u001b[36m(launch_and_fit pid=8624)\u001b[0m [Client 5, round 12] fit, config: {'learning_rate': 0.003, 'batch_size': '16', 'server_round': 12, 'local_epochs': 10}\n",
      "\u001b[36m(launch_and_fit pid=8624)\u001b[0m Updated model\n"
     ]
    },
    {
     "name": "stderr",
     "output_type": "stream",
     "text": [
      "  0%|\u001b[34m          \u001b[0m| 0/10 [00:00<?, ?it/s]\n",
      "100%|\u001b[34m██████████\u001b[0m| 10/10 [00:26<00:00,  2.66s/it]\u001b[32m [repeated 3x across cluster]\u001b[0m\n"
     ]
    },
    {
     "name": "stdout",
     "output_type": "stream",
     "text": [
      "\u001b[36m(launch_and_fit pid=8626)\u001b[0m Run WITHOUT homomorphic encryption\n",
      "\u001b[36m(launch_and_fit pid=8626)\u001b[0m  To get the checkpoint\n",
      "\u001b[36m(launch_and_fit pid=8624)\u001b[0m \tTrain Epoch: 2 \tTrain_loss: 1.7403 | Train_acc: 33.0682 % | Validation_loss: 1.7195 | Validation_acc: 36.1111 %\u001b[32m [repeated 3x across cluster]\u001b[0m\n",
      "\u001b[36m(launch_and_fit pid=8626)\u001b[0m [Client 1, round 12] fit, config: {'learning_rate': 0.003, 'batch_size': '16', 'server_round': 12, 'local_epochs': 10}\n",
      "\u001b[36m(launch_and_fit pid=8626)\u001b[0m Updated model\n"
     ]
    },
    {
     "name": "stderr",
     "output_type": "stream",
     "text": [
      "  0%|\u001b[34m          \u001b[0m| 0/10 [00:00<?, ?it/s]\n",
      " 20%|\u001b[34m██        \u001b[0m| 2/10 [00:05<00:21,  2.74s/it]\u001b[32m [repeated 3x across cluster]\u001b[0m\n",
      " 40%|\u001b[34m████      \u001b[0m| 4/10 [00:10<00:15,  2.57s/it]\u001b[32m [repeated 4x across cluster]\u001b[0m\n"
     ]
    },
    {
     "name": "stdout",
     "output_type": "stream",
     "text": [
      "\u001b[36m(launch_and_fit pid=8626)\u001b[0m \tTrain Epoch: 4 \tTrain_loss: 1.7165 | Train_acc: 33.8636 % | Validation_loss: 1.8606 | Validation_acc: 20.8333 %\u001b[32m [repeated 4x across cluster]\u001b[0m\n"
     ]
    },
    {
     "name": "stderr",
     "output_type": "stream",
     "text": [
      " 60%|\u001b[34m██████    \u001b[0m| 6/10 [00:15<00:10,  2.66s/it]\u001b[32m [repeated 4x across cluster]\u001b[0m\n"
     ]
    },
    {
     "name": "stdout",
     "output_type": "stream",
     "text": [
      "\u001b[36m(launch_and_fit pid=8626)\u001b[0m \tTrain Epoch: 6 \tTrain_loss: 1.7076 | Train_acc: 35.0852 % | Validation_loss: 1.8838 | Validation_acc: 18.7500 %\u001b[32m [repeated 4x across cluster]\u001b[0m\n"
     ]
    },
    {
     "name": "stderr",
     "output_type": "stream",
     "text": [
      " 80%|\u001b[34m████████  \u001b[0m| 8/10 [00:20<00:05,  2.58s/it]\u001b[32m [repeated 4x across cluster]\u001b[0m\n"
     ]
    },
    {
     "name": "stdout",
     "output_type": "stream",
     "text": [
      "\u001b[36m(launch_and_fit pid=8626)\u001b[0m \tTrain Epoch: 8 \tTrain_loss: 1.6969 | Train_acc: 38.8352 % | Validation_loss: 1.8394 | Validation_acc: 31.9444 %\u001b[32m [repeated 4x across cluster]\u001b[0m\n",
      "\u001b[36m(launch_and_fit pid=8626)\u001b[0m save graph in  results/FL/\n",
      "\u001b[36m(launch_and_fit pid=8624)\u001b[0m \tTrain Epoch: 10 \tTrain_loss: 1.6832 | Train_acc: 35.8523 % | Validation_loss: 1.6975 | Validation_acc: 36.1111 %\u001b[32m [repeated 5x across cluster]\u001b[0m\n"
     ]
    },
    {
     "name": "stderr",
     "output_type": "stream",
     "text": [
      "100%|\u001b[34m██████████\u001b[0m| 10/10 [00:26<00:00,  2.65s/it]\u001b[32m [repeated 5x across cluster]\u001b[0m\n"
     ]
    },
    {
     "name": "stdout",
     "output_type": "stream",
     "text": [
      "\u001b[36m(launch_and_fit pid=8698)\u001b[0m Run WITHOUT homomorphic encryption\n",
      "\u001b[36m(launch_and_fit pid=8698)\u001b[0m  To get the checkpoint\n",
      "\u001b[36m(launch_and_fit pid=8624)\u001b[0m save graph in  results/FL/\n",
      "\u001b[36m(launch_and_fit pid=8698)\u001b[0m [Client 7, round 12] fit, config: {'learning_rate': 0.003, 'batch_size': '16', 'server_round': 12, 'local_epochs': 10}\n",
      "\u001b[36m(launch_and_fit pid=8698)\u001b[0m Updated model\n"
     ]
    },
    {
     "name": "stderr",
     "output_type": "stream",
     "text": [
      "  0%|\u001b[34m          \u001b[0m| 0/10 [00:00<?, ?it/s]\n"
     ]
    },
    {
     "name": "stdout",
     "output_type": "stream",
     "text": [
      "\u001b[36m(launch_and_fit pid=8698)\u001b[0m \tTrain Epoch: 1 \tTrain_loss: 1.7484 | Train_acc: 34.2898 % | Validation_loss: 1.5689 | Validation_acc: 49.3056 %\n"
     ]
    },
    {
     "name": "stderr",
     "output_type": "stream",
     "text": [
      " 10%|\u001b[34m█         \u001b[0m| 1/10 [00:02<00:26,  2.93s/it]\n"
     ]
    },
    {
     "name": "stdout",
     "output_type": "stream",
     "text": [
      "\u001b[36m(launch_and_fit pid=8700)\u001b[0m Run WITHOUT homomorphic encryption\n",
      "\u001b[36m(launch_and_fit pid=8700)\u001b[0m  To get the checkpoint\n",
      "\u001b[36m(launch_and_fit pid=8700)\u001b[0m [Client 4, round 12] fit, config: {'learning_rate': 0.003, 'batch_size': '16', 'server_round': 12, 'local_epochs': 10}\n",
      "\u001b[36m(launch_and_fit pid=8700)\u001b[0m Updated model\n"
     ]
    },
    {
     "name": "stderr",
     "output_type": "stream",
     "text": [
      "  0%|\u001b[34m          \u001b[0m| 0/10 [00:00<?, ?it/s]\n"
     ]
    },
    {
     "name": "stdout",
     "output_type": "stream",
     "text": [
      "\u001b[36m(launch_and_fit pid=8698)\u001b[0m \tTrain Epoch: 3 \tTrain_loss: 1.7281 | Train_acc: 36.5341 % | Validation_loss: 1.5505 | Validation_acc: 49.3056 %\u001b[32m [repeated 4x across cluster]\u001b[0m\n"
     ]
    },
    {
     "name": "stderr",
     "output_type": "stream",
     "text": [
      " 30%|\u001b[34m███       \u001b[0m| 3/10 [00:08<00:18,  2.64s/it]\u001b[32m [repeated 4x across cluster]\u001b[0m\n"
     ]
    },
    {
     "name": "stdout",
     "output_type": "stream",
     "text": [
      "\u001b[36m(launch_and_fit pid=8698)\u001b[0m \tTrain Epoch: 5 \tTrain_loss: 1.7122 | Train_acc: 36.4773 % | Validation_loss: 1.5363 | Validation_acc: 53.4722 %\u001b[32m [repeated 4x across cluster]\u001b[0m\n"
     ]
    },
    {
     "name": "stderr",
     "output_type": "stream",
     "text": [
      " 50%|\u001b[34m█████     \u001b[0m| 5/10 [00:13<00:13,  2.66s/it]\u001b[32m [repeated 4x across cluster]\u001b[0m\n",
      " 70%|\u001b[34m███████   \u001b[0m| 7/10 [00:18<00:07,  2.62s/it]\u001b[32m [repeated 5x across cluster]\u001b[0m\n"
     ]
    },
    {
     "name": "stdout",
     "output_type": "stream",
     "text": [
      "\u001b[36m(launch_and_fit pid=8700)\u001b[0m \tTrain Epoch: 7 \tTrain_loss: 1.7203 | Train_acc: 35.2557 % | Validation_loss: 1.6623 | Validation_acc: 42.3611 %\u001b[32m [repeated 5x across cluster]\u001b[0m\n"
     ]
    },
    {
     "name": "stderr",
     "output_type": "stream",
     "text": [
      " 90%|\u001b[34m█████████ \u001b[0m| 9/10 [00:23<00:02,  2.63s/it]\u001b[32m [repeated 4x across cluster]\u001b[0m\n"
     ]
    },
    {
     "name": "stdout",
     "output_type": "stream",
     "text": [
      "\u001b[36m(launch_and_fit pid=8700)\u001b[0m \tTrain Epoch: 9 \tTrain_loss: 1.7044 | Train_acc: 36.8466 % | Validation_loss: 1.6474 | Validation_acc: 46.5278 %\u001b[32m [repeated 4x across cluster]\u001b[0m\n",
      "\u001b[36m(launch_and_fit pid=8698)\u001b[0m save graph in  results/FL/\n",
      "\u001b[36m(launch_and_fit pid=8772)\u001b[0m Run WITHOUT homomorphic encryption\n",
      "\u001b[36m(launch_and_fit pid=8772)\u001b[0m  To get the checkpoint\n",
      "\u001b[36m(launch_and_fit pid=8700)\u001b[0m \tTrain Epoch: 10 \tTrain_loss: 1.7189 | Train_acc: 36.3636 % | Validation_loss: 1.7316 | Validation_acc: 44.4444 %\u001b[32m [repeated 2x across cluster]\u001b[0m\n",
      "\u001b[36m(launch_and_fit pid=8700)\u001b[0m save graph in  results/FL/\n",
      "\u001b[36m(launch_and_fit pid=8772)\u001b[0m [Client 3, round 12] fit, config: {'learning_rate': 0.003, 'batch_size': '16', 'server_round': 12, 'local_epochs': 10}\n",
      "\u001b[36m(launch_and_fit pid=8772)\u001b[0m Updated model\n"
     ]
    },
    {
     "name": "stderr",
     "output_type": "stream",
     "text": [
      "  0%|\u001b[34m          \u001b[0m| 0/10 [00:00<?, ?it/s]\n",
      "100%|\u001b[34m██████████\u001b[0m| 10/10 [00:26<00:00,  2.65s/it]\u001b[32m [repeated 2x across cluster]\u001b[0m\n"
     ]
    },
    {
     "name": "stdout",
     "output_type": "stream",
     "text": [
      "\u001b[36m(launch_and_fit pid=8797)\u001b[0m Run WITHOUT homomorphic encryption\n",
      "\u001b[36m(launch_and_fit pid=8797)\u001b[0m  To get the checkpoint\n",
      "\u001b[36m(launch_and_fit pid=8772)\u001b[0m \tTrain Epoch: 2 \tTrain_loss: 1.7377 | Train_acc: 36.3636 % | Validation_loss: 1.8078 | Validation_acc: 49.3056 %\u001b[32m [repeated 3x across cluster]\u001b[0m\n",
      "\u001b[36m(launch_and_fit pid=8797)\u001b[0m [Client 9, round 12] fit, config: {'learning_rate': 0.003, 'batch_size': '16', 'server_round': 12, 'local_epochs': 10}\n",
      "\u001b[36m(launch_and_fit pid=8797)\u001b[0m Updated model\n"
     ]
    },
    {
     "name": "stderr",
     "output_type": "stream",
     "text": [
      "  0%|\u001b[34m          \u001b[0m| 0/10 [00:00<?, ?it/s]\n",
      " 20%|\u001b[34m██        \u001b[0m| 2/10 [00:05<00:22,  2.78s/it]\u001b[32m [repeated 3x across cluster]\u001b[0m\n"
     ]
    },
    {
     "name": "stdout",
     "output_type": "stream",
     "text": [
      "\u001b[36m(launch_and_fit pid=8797)\u001b[0m \tTrain Epoch: 4 \tTrain_loss: 1.6812 | Train_acc: 43.8333 % | Validation_loss: 1.6326 | Validation_acc: 36.1111 %\u001b[32m [repeated 5x across cluster]\u001b[0m\n"
     ]
    },
    {
     "name": "stderr",
     "output_type": "stream",
     "text": [
      " 40%|\u001b[34m████      \u001b[0m| 4/10 [00:10<00:15,  2.58s/it]\u001b[32m [repeated 5x across cluster]\u001b[0m\n"
     ]
    },
    {
     "name": "stdout",
     "output_type": "stream",
     "text": [
      "\u001b[36m(launch_and_fit pid=8797)\u001b[0m \tTrain Epoch: 6 \tTrain_loss: 1.6943 | Train_acc: 41.3333 % | Validation_loss: 1.7123 | Validation_acc: 34.0278 %\u001b[32m [repeated 4x across cluster]\u001b[0m\n"
     ]
    },
    {
     "name": "stderr",
     "output_type": "stream",
     "text": [
      " 60%|\u001b[34m██████    \u001b[0m| 6/10 [00:15<00:10,  2.53s/it]\u001b[32m [repeated 4x across cluster]\u001b[0m\n"
     ]
    },
    {
     "name": "stdout",
     "output_type": "stream",
     "text": [
      "\u001b[36m(launch_and_fit pid=8797)\u001b[0m \tTrain Epoch: 8 \tTrain_loss: 1.6813 | Train_acc: 43.9583 % | Validation_loss: 1.6552 | Validation_acc: 36.1111 %\u001b[32m [repeated 4x across cluster]\u001b[0m\n"
     ]
    },
    {
     "name": "stderr",
     "output_type": "stream",
     "text": [
      " 80%|\u001b[34m████████  \u001b[0m| 8/10 [00:20<00:05,  2.54s/it]\u001b[32m [repeated 4x across cluster]\u001b[0m\n"
     ]
    },
    {
     "name": "stdout",
     "output_type": "stream",
     "text": [
      "\u001b[36m(launch_and_fit pid=8772)\u001b[0m save graph in  results/FL/\n",
      "\u001b[36m(launch_and_fit pid=8797)\u001b[0m \tTrain Epoch: 10 \tTrain_loss: 1.6694 | Train_acc: 42.9167 % | Validation_loss: 1.6323 | Validation_acc: 31.9444 %\u001b[32m [repeated 4x across cluster]\u001b[0m\n"
     ]
    },
    {
     "name": "stderr",
     "output_type": "stream",
     "text": [
      "100%|\u001b[34m██████████\u001b[0m| 10/10 [00:25<00:00,  2.59s/it]\u001b[32m [repeated 4x across cluster]\u001b[0m\n"
     ]
    },
    {
     "name": "stdout",
     "output_type": "stream",
     "text": [
      "\u001b[36m(launch_and_fit pid=8846)\u001b[0m Run WITHOUT homomorphic encryption\n",
      "\u001b[36m(launch_and_fit pid=8846)\u001b[0m  To get the checkpoint\n",
      "\u001b[36m(launch_and_fit pid=8797)\u001b[0m save graph in  results/FL/\n",
      "\u001b[36m(launch_and_fit pid=8846)\u001b[0m [Client 0, round 12] fit, config: {'learning_rate': 0.003, 'batch_size': '16', 'server_round': 12, 'local_epochs': 10}\n",
      "\u001b[36m(launch_and_fit pid=8846)\u001b[0m Updated model\n"
     ]
    },
    {
     "name": "stderr",
     "output_type": "stream",
     "text": [
      "  0%|\u001b[34m          \u001b[0m| 0/10 [00:00<?, ?it/s]\n"
     ]
    },
    {
     "name": "stdout",
     "output_type": "stream",
     "text": [
      "\u001b[36m(launch_and_fit pid=8846)\u001b[0m \tTrain Epoch: 1 \tTrain_loss: 1.7131 | Train_acc: 39.1477 % | Validation_loss: 1.8664 | Validation_acc: 27.0833 %\n"
     ]
    },
    {
     "name": "stderr",
     "output_type": "stream",
     "text": [
      " 10%|\u001b[34m█         \u001b[0m| 1/10 [00:02<00:25,  2.85s/it]\n"
     ]
    },
    {
     "name": "stdout",
     "output_type": "stream",
     "text": [
      "\u001b[36m(launch_and_fit pid=8871)\u001b[0m Run WITHOUT homomorphic encryption\n",
      "\u001b[36m(launch_and_fit pid=8871)\u001b[0m  To get the checkpoint\n",
      "\u001b[36m(launch_and_fit pid=8871)\u001b[0m [Client 8, round 12] fit, config: {'learning_rate': 0.003, 'batch_size': '16', 'server_round': 12, 'local_epochs': 10}\n",
      "\u001b[36m(launch_and_fit pid=8871)\u001b[0m Updated model\n"
     ]
    },
    {
     "name": "stderr",
     "output_type": "stream",
     "text": [
      "  0%|\u001b[34m          \u001b[0m| 0/10 [00:00<?, ?it/s]\n"
     ]
    },
    {
     "name": "stdout",
     "output_type": "stream",
     "text": [
      "\u001b[36m(launch_and_fit pid=8846)\u001b[0m \tTrain Epoch: 3 \tTrain_loss: 1.7328 | Train_acc: 35.8807 % | Validation_loss: 1.7812 | Validation_acc: 36.1111 %\u001b[32m [repeated 4x across cluster]\u001b[0m\n"
     ]
    },
    {
     "name": "stderr",
     "output_type": "stream",
     "text": [
      " 30%|\u001b[34m███       \u001b[0m| 3/10 [00:07<00:18,  2.62s/it]\u001b[32m [repeated 4x across cluster]\u001b[0m\n"
     ]
    },
    {
     "name": "stdout",
     "output_type": "stream",
     "text": [
      "\u001b[36m(launch_and_fit pid=8846)\u001b[0m \tTrain Epoch: 5 \tTrain_loss: 1.6802 | Train_acc: 42.1307 % | Validation_loss: 1.8249 | Validation_acc: 27.0833 %\u001b[32m [repeated 4x across cluster]\u001b[0m\n"
     ]
    },
    {
     "name": "stderr",
     "output_type": "stream",
     "text": [
      " 50%|\u001b[34m█████     \u001b[0m| 5/10 [00:13<00:12,  2.59s/it]\u001b[32m [repeated 4x across cluster]\u001b[0m\n"
     ]
    },
    {
     "name": "stdout",
     "output_type": "stream",
     "text": [
      "\u001b[36m(launch_and_fit pid=8846)\u001b[0m \tTrain Epoch: 7 \tTrain_loss: 1.6690 | Train_acc: 41.8182 % | Validation_loss: 1.8153 | Validation_acc: 25.0000 %\u001b[32m [repeated 4x across cluster]\u001b[0m\n"
     ]
    },
    {
     "name": "stderr",
     "output_type": "stream",
     "text": [
      " 70%|\u001b[34m███████   \u001b[0m| 7/10 [00:18<00:07,  2.58s/it]\u001b[32m [repeated 4x across cluster]\u001b[0m\n"
     ]
    },
    {
     "name": "stdout",
     "output_type": "stream",
     "text": [
      "\u001b[36m(launch_and_fit pid=8846)\u001b[0m \tTrain Epoch: 9 \tTrain_loss: 1.6567 | Train_acc: 41.5341 % | Validation_loss: 1.8153 | Validation_acc: 34.0278 %\u001b[32m [repeated 4x across cluster]\u001b[0m\n"
     ]
    },
    {
     "name": "stderr",
     "output_type": "stream",
     "text": [
      " 90%|\u001b[34m█████████ \u001b[0m| 9/10 [00:23<00:02,  2.53s/it]\u001b[32m [repeated 4x across cluster]\u001b[0m\n"
     ]
    },
    {
     "name": "stdout",
     "output_type": "stream",
     "text": [
      "\u001b[36m(launch_and_fit pid=8846)\u001b[0m save graph in  results/FL/\n"
     ]
    },
    {
     "name": "stderr",
     "output_type": "stream",
     "text": [
      "DEBUG flwr 2024-07-22 10:05:20,092 | server.py:236 | fit_round 12 received 10 results and 0 failures\n"
     ]
    },
    {
     "name": "stdout",
     "output_type": "stream",
     "text": [
      "Saving round 12 aggregated_parameters...\n",
      "Updated model\n"
     ]
    },
    {
     "name": "stderr",
     "output_type": "stream",
     "text": [
      "INFO flwr 2024-07-22 10:05:22,503 | server.py:125 | fit progress: (12, 1.728278892690485, {'accuracy': 36.40151515151515}, 2922.030584737)\n",
      "DEBUG flwr 2024-07-22 10:05:22,505 | server.py:173 | evaluate_round 12: strategy sampled 10 clients (out of 10)\n"
     ]
    },
    {
     "name": "stdout",
     "output_type": "stream",
     "text": [
      "Server-side evaluation loss 1.728278892690485 / accuracy 36.40151515151515\n",
      "\u001b[36m(launch_and_evaluate pid=8929)\u001b[0m Run WITHOUT homomorphic encryption\n",
      "\u001b[36m(launch_and_evaluate pid=8929)\u001b[0m  To get the checkpoint\n",
      "\u001b[36m(launch_and_fit pid=8871)\u001b[0m \tTrain Epoch: 10 \tTrain_loss: 1.6612 | Train_acc: 40.9091 % | Validation_loss: 1.7503 | Validation_acc: 34.0278 %\u001b[32m [repeated 3x across cluster]\u001b[0m\n",
      "\u001b[36m(launch_and_fit pid=8871)\u001b[0m save graph in  results/FL/\n",
      "\u001b[36m(launch_and_evaluate pid=8929)\u001b[0m [Client 6] evaluate, config: {}\n",
      "\u001b[36m(launch_and_evaluate pid=8929)\u001b[0m Updated model\n"
     ]
    },
    {
     "name": "stderr",
     "output_type": "stream",
     "text": [
      "\u001b[36m(launch_and_evaluate pid=8930)\u001b[0m /opt/conda/lib/python3.10/site-packages/sklearn/metrics/_ranking.py:1029: UndefinedMetricWarning: No positive samples in y_true, true positive value should be meaningless\n",
      "\u001b[36m(launch_and_evaluate pid=8930)\u001b[0m   warnings.warn(\n",
      "100%|\u001b[34m██████████\u001b[0m| 10/10 [00:26<00:00,  2.60s/it]\u001b[32m [repeated 3x across cluster]\u001b[0m\n"
     ]
    },
    {
     "name": "stdout",
     "output_type": "stream",
     "text": [
      "\u001b[36m(launch_and_evaluate pid=9001)\u001b[0m Run WITHOUT homomorphic encryption\u001b[32m [repeated 2x across cluster]\u001b[0m\n",
      "\u001b[36m(launch_and_evaluate pid=9001)\u001b[0m  To get the checkpoint\u001b[32m [repeated 2x across cluster]\u001b[0m\n",
      "\u001b[36m(launch_and_evaluate pid=8930)\u001b[0m [Client 8] evaluate, config: {}\n",
      "\u001b[36m(launch_and_evaluate pid=8930)\u001b[0m Updated model\n",
      "\u001b[36m(launch_and_evaluate pid=9001)\u001b[0m [Client 2] evaluate, config: {}\n",
      "\u001b[36m(launch_and_evaluate pid=9001)\u001b[0m Updated model\n"
     ]
    },
    {
     "name": "stderr",
     "output_type": "stream",
     "text": [
      "\u001b[36m(launch_and_evaluate pid=9003)\u001b[0m /opt/conda/lib/python3.10/site-packages/sklearn/metrics/_ranking.py:1029: UndefinedMetricWarning: No positive samples in y_true, true positive value should be meaningless\n",
      "\u001b[36m(launch_and_evaluate pid=9003)\u001b[0m   warnings.warn(\n"
     ]
    },
    {
     "name": "stdout",
     "output_type": "stream",
     "text": [
      "\u001b[36m(launch_and_evaluate pid=9071)\u001b[0m Run WITHOUT homomorphic encryption\u001b[32m [repeated 2x across cluster]\u001b[0m\n",
      "\u001b[36m(launch_and_evaluate pid=9071)\u001b[0m  To get the checkpoint\u001b[32m [repeated 2x across cluster]\u001b[0m\n",
      "\u001b[36m(launch_and_evaluate pid=9003)\u001b[0m [Client 4] evaluate, config: {}\n",
      "\u001b[36m(launch_and_evaluate pid=9003)\u001b[0m Updated model\n",
      "\u001b[36m(launch_and_evaluate pid=9071)\u001b[0m [Client 1] evaluate, config: {}\n",
      "\u001b[36m(launch_and_evaluate pid=9071)\u001b[0m Updated model\n",
      "\u001b[36m(launch_and_evaluate pid=9141)\u001b[0m Run WITHOUT homomorphic encryption\u001b[32m [repeated 2x across cluster]\u001b[0m\n",
      "\u001b[36m(launch_and_evaluate pid=9141)\u001b[0m  To get the checkpoint\u001b[32m [repeated 2x across cluster]\u001b[0m\n",
      "\u001b[36m(launch_and_evaluate pid=9073)\u001b[0m [Client 5] evaluate, config: {}\n",
      "\u001b[36m(launch_and_evaluate pid=9073)\u001b[0m Updated model\n",
      "\u001b[36m(launch_and_evaluate pid=9141)\u001b[0m [Client 3] evaluate, config: {}\n",
      "\u001b[36m(launch_and_evaluate pid=9141)\u001b[0m Updated model\n"
     ]
    },
    {
     "name": "stderr",
     "output_type": "stream",
     "text": [
      "\u001b[36m(launch_and_evaluate pid=9143)\u001b[0m /opt/conda/lib/python3.10/site-packages/sklearn/metrics/_ranking.py:1029: UndefinedMetricWarning: No positive samples in y_true, true positive value should be meaningless\n",
      "\u001b[36m(launch_and_evaluate pid=9143)\u001b[0m   warnings.warn(\n"
     ]
    },
    {
     "name": "stdout",
     "output_type": "stream",
     "text": [
      "\u001b[36m(launch_and_evaluate pid=9211)\u001b[0m Run WITHOUT homomorphic encryption\u001b[32m [repeated 2x across cluster]\u001b[0m\n",
      "\u001b[36m(launch_and_evaluate pid=9211)\u001b[0m  To get the checkpoint\u001b[32m [repeated 2x across cluster]\u001b[0m\n",
      "\u001b[36m(launch_and_evaluate pid=9143)\u001b[0m [Client 9] evaluate, config: {}\n",
      "\u001b[36m(launch_and_evaluate pid=9143)\u001b[0m Updated model\n",
      "\u001b[36m(launch_and_evaluate pid=9211)\u001b[0m [Client 7] evaluate, config: {}\n",
      "\u001b[36m(launch_and_evaluate pid=9211)\u001b[0m Updated model\n"
     ]
    },
    {
     "name": "stderr",
     "output_type": "stream",
     "text": [
      "DEBUG flwr 2024-07-22 10:06:21,520 | server.py:187 | evaluate_round 12 received 10 results and 0 failures\n",
      "DEBUG flwr 2024-07-22 10:06:21,522 | server.py:222 | fit_round 13: strategy sampled 10 clients (out of 10)\n"
     ]
    },
    {
     "name": "stdout",
     "output_type": "stream",
     "text": [
      "\u001b[36m(launch_and_fit pid=9291)\u001b[0m Run WITHOUT homomorphic encryption\u001b[32m [repeated 2x across cluster]\u001b[0m\n",
      "\u001b[36m(launch_and_fit pid=9291)\u001b[0m  To get the checkpoint\u001b[32m [repeated 2x across cluster]\u001b[0m\n",
      "\u001b[36m(launch_and_evaluate pid=9236)\u001b[0m [Client 0] evaluate, config: {}\n",
      "\u001b[36m(launch_and_evaluate pid=9236)\u001b[0m Updated model\n"
     ]
    },
    {
     "name": "stderr",
     "output_type": "stream",
     "text": [
      "  0%|\u001b[34m          \u001b[0m| 0/10 [00:00<?, ?it/s]\n"
     ]
    },
    {
     "name": "stdout",
     "output_type": "stream",
     "text": [
      "\u001b[36m(launch_and_fit pid=9291)\u001b[0m [Client 7, round 13] fit, config: {'learning_rate': 0.003, 'batch_size': '16', 'server_round': 13, 'local_epochs': 10}\n",
      "\u001b[36m(launch_and_fit pid=9291)\u001b[0m Updated model\n"
     ]
    },
    {
     "name": "stderr",
     "output_type": "stream",
     "text": [
      " 10%|\u001b[34m█         \u001b[0m| 1/10 [00:02<00:26,  2.91s/it]\n"
     ]
    },
    {
     "name": "stdout",
     "output_type": "stream",
     "text": [
      "\u001b[36m(launch_and_fit pid=9291)\u001b[0m \tTrain Epoch: 1 \tTrain_loss: 1.7577 | Train_acc: 33.8352 % | Validation_loss: 1.5406 | Validation_acc: 49.3056 %\n"
     ]
    },
    {
     "name": "stderr",
     "output_type": "stream",
     "text": [
      "  0%|\u001b[34m          \u001b[0m| 0/10 [00:00<?, ?it/s]\n"
     ]
    },
    {
     "name": "stdout",
     "output_type": "stream",
     "text": [
      "\u001b[36m(launch_and_fit pid=9290)\u001b[0m Run WITHOUT homomorphic encryption\n",
      "\u001b[36m(launch_and_fit pid=9290)\u001b[0m  To get the checkpoint\n",
      "\u001b[36m(launch_and_fit pid=9290)\u001b[0m [Client 4, round 13] fit, config: {'learning_rate': 0.003, 'batch_size': '16', 'server_round': 13, 'local_epochs': 10}\n",
      "\u001b[36m(launch_and_fit pid=9290)\u001b[0m Updated model\n"
     ]
    },
    {
     "name": "stderr",
     "output_type": "stream",
     "text": [
      " 30%|\u001b[34m███       \u001b[0m| 3/10 [00:08<00:20,  2.96s/it]\u001b[32m [repeated 4x across cluster]\u001b[0m\n"
     ]
    },
    {
     "name": "stdout",
     "output_type": "stream",
     "text": [
      "\u001b[36m(launch_and_fit pid=9291)\u001b[0m \tTrain Epoch: 3 \tTrain_loss: 1.7190 | Train_acc: 35.8523 % | Validation_loss: 1.5421 | Validation_acc: 51.3889 %\u001b[32m [repeated 4x across cluster]\u001b[0m\n"
     ]
    },
    {
     "name": "stderr",
     "output_type": "stream",
     "text": [
      " 50%|\u001b[34m█████     \u001b[0m| 5/10 [00:14<00:13,  2.74s/it]\u001b[32m [repeated 4x across cluster]\u001b[0m\n"
     ]
    },
    {
     "name": "stdout",
     "output_type": "stream",
     "text": [
      "\u001b[36m(launch_and_fit pid=9291)\u001b[0m \tTrain Epoch: 5 \tTrain_loss: 1.7052 | Train_acc: 37.2727 % | Validation_loss: 1.5289 | Validation_acc: 55.5556 %\u001b[32m [repeated 4x across cluster]\u001b[0m\n"
     ]
    },
    {
     "name": "stderr",
     "output_type": "stream",
     "text": [
      " 70%|\u001b[34m███████   \u001b[0m| 7/10 [00:19<00:08,  2.67s/it]\u001b[32m [repeated 4x across cluster]\u001b[0m\n"
     ]
    },
    {
     "name": "stdout",
     "output_type": "stream",
     "text": [
      "\u001b[36m(launch_and_fit pid=9291)\u001b[0m \tTrain Epoch: 7 \tTrain_loss: 1.7066 | Train_acc: 38.5511 % | Validation_loss: 1.5352 | Validation_acc: 51.3889 %\u001b[32m [repeated 4x across cluster]\u001b[0m\n"
     ]
    },
    {
     "name": "stderr",
     "output_type": "stream",
     "text": [
      " 90%|\u001b[34m█████████ \u001b[0m| 9/10 [00:24<00:02,  2.70s/it]\u001b[32m [repeated 4x across cluster]\u001b[0m\n"
     ]
    },
    {
     "name": "stdout",
     "output_type": "stream",
     "text": [
      "\u001b[36m(launch_and_fit pid=9291)\u001b[0m \tTrain Epoch: 9 \tTrain_loss: 1.6855 | Train_acc: 39.6307 % | Validation_loss: 1.5317 | Validation_acc: 55.5556 %\u001b[32m [repeated 4x across cluster]\u001b[0m\n",
      "\u001b[36m(launch_and_fit pid=9290)\u001b[0m save graph in  results/FL/\n",
      "\u001b[36m(launch_and_fit pid=9365)\u001b[0m Run WITHOUT homomorphic encryption\n",
      "\u001b[36m(launch_and_fit pid=9365)\u001b[0m  To get the checkpoint\n",
      "\u001b[36m(launch_and_fit pid=9291)\u001b[0m \tTrain Epoch: 10 \tTrain_loss: 1.6855 | Train_acc: 39.6591 % | Validation_loss: 1.5216 | Validation_acc: 55.5556 %\u001b[32m [repeated 3x across cluster]\u001b[0m\n",
      "\u001b[36m(launch_and_fit pid=9291)\u001b[0m save graph in  results/FL/\n",
      "\u001b[36m(launch_and_fit pid=9365)\u001b[0m [Client 3, round 13] fit, config: {'learning_rate': 0.003, 'batch_size': '16', 'server_round': 13, 'local_epochs': 10}\n",
      "\u001b[36m(launch_and_fit pid=9365)\u001b[0m Updated model\n"
     ]
    },
    {
     "name": "stderr",
     "output_type": "stream",
     "text": [
      "  0%|\u001b[34m          \u001b[0m| 0/10 [00:00<?, ?it/s]\n",
      "100%|\u001b[34m██████████\u001b[0m| 10/10 [00:27<00:00,  2.75s/it]\u001b[32m [repeated 3x across cluster]\u001b[0m\n"
     ]
    },
    {
     "name": "stdout",
     "output_type": "stream",
     "text": [
      "\u001b[36m(launch_and_fit pid=9364)\u001b[0m Run WITHOUT homomorphic encryption\n",
      "\u001b[36m(launch_and_fit pid=9364)\u001b[0m  To get the checkpoint\n",
      "\u001b[36m(launch_and_fit pid=9365)\u001b[0m \tTrain Epoch: 2 \tTrain_loss: 1.7381 | Train_acc: 37.8977 % | Validation_loss: 1.7692 | Validation_acc: 34.0278 %\u001b[32m [repeated 3x across cluster]\u001b[0m\n",
      "\u001b[36m(launch_and_fit pid=9364)\u001b[0m [Client 1, round 13] fit, config: {'learning_rate': 0.003, 'batch_size': '16', 'server_round': 13, 'local_epochs': 10}\n",
      "\u001b[36m(launch_and_fit pid=9364)\u001b[0m Updated model\n"
     ]
    },
    {
     "name": "stderr",
     "output_type": "stream",
     "text": [
      "  0%|\u001b[34m          \u001b[0m| 0/10 [00:00<?, ?it/s]\n",
      " 20%|\u001b[34m██        \u001b[0m| 2/10 [00:05<00:20,  2.61s/it]\u001b[32m [repeated 3x across cluster]\u001b[0m\n"
     ]
    },
    {
     "name": "stdout",
     "output_type": "stream",
     "text": [
      "\u001b[36m(launch_and_fit pid=9365)\u001b[0m \tTrain Epoch: 4 \tTrain_loss: 1.7028 | Train_acc: 39.8011 % | Validation_loss: 1.7876 | Validation_acc: 43.0556 %\u001b[32m [repeated 4x across cluster]\u001b[0m\n"
     ]
    },
    {
     "name": "stderr",
     "output_type": "stream",
     "text": [
      " 40%|\u001b[34m████      \u001b[0m| 4/10 [00:10<00:15,  2.61s/it]\u001b[32m [repeated 4x across cluster]\u001b[0m\n"
     ]
    },
    {
     "name": "stdout",
     "output_type": "stream",
     "text": [
      "\u001b[36m(launch_and_fit pid=9365)\u001b[0m \tTrain Epoch: 6 \tTrain_loss: 1.7070 | Train_acc: 38.3807 % | Validation_loss: 1.7920 | Validation_acc: 31.9444 %\u001b[32m [repeated 4x across cluster]\u001b[0m\n"
     ]
    },
    {
     "name": "stderr",
     "output_type": "stream",
     "text": [
      " 60%|\u001b[34m██████    \u001b[0m| 6/10 [00:15<00:10,  2.60s/it]\u001b[32m [repeated 4x across cluster]\u001b[0m\n"
     ]
    },
    {
     "name": "stdout",
     "output_type": "stream",
     "text": [
      "\u001b[36m(launch_and_fit pid=9365)\u001b[0m \tTrain Epoch: 8 \tTrain_loss: 1.6881 | Train_acc: 38.8636 % | Validation_loss: 1.8020 | Validation_acc: 29.8611 %\u001b[32m [repeated 4x across cluster]\u001b[0m\n"
     ]
    },
    {
     "name": "stderr",
     "output_type": "stream",
     "text": [
      " 80%|\u001b[34m████████  \u001b[0m| 8/10 [00:21<00:05,  2.65s/it]\u001b[32m [repeated 4x across cluster]\u001b[0m\n"
     ]
    },
    {
     "name": "stdout",
     "output_type": "stream",
     "text": [
      "\u001b[36m(launch_and_fit pid=9365)\u001b[0m save graph in  results/FL/\n",
      "\u001b[36m(launch_and_fit pid=9365)\u001b[0m \tTrain Epoch: 10 \tTrain_loss: 1.6944 | Train_acc: 39.7727 % | Validation_loss: 1.7930 | Validation_acc: 31.9444 %\u001b[32m [repeated 4x across cluster]\u001b[0m\n"
     ]
    },
    {
     "name": "stderr",
     "output_type": "stream",
     "text": [
      "100%|\u001b[34m██████████\u001b[0m| 10/10 [00:26<00:00,  2.62s/it]\u001b[32m [repeated 4x across cluster]\u001b[0m\n"
     ]
    },
    {
     "name": "stdout",
     "output_type": "stream",
     "text": [
      "\u001b[36m(launch_and_fit pid=9437)\u001b[0m Run WITHOUT homomorphic encryption\n",
      "\u001b[36m(launch_and_fit pid=9437)\u001b[0m  To get the checkpoint\n",
      "\u001b[36m(launch_and_fit pid=9364)\u001b[0m save graph in  results/FL/\n",
      "\u001b[36m(launch_and_fit pid=9364)\u001b[0m \tTrain Epoch: 10 \tTrain_loss: 1.7222 | Train_acc: 36.0511 % | Validation_loss: 1.8201 | Validation_acc: 29.8611 %\n",
      "\u001b[36m(launch_and_fit pid=9437)\u001b[0m [Client 5, round 13] fit, config: {'learning_rate': 0.003, 'batch_size': '16', 'server_round': 13, 'local_epochs': 10}\n",
      "\u001b[36m(launch_and_fit pid=9437)\u001b[0m Updated model\n"
     ]
    },
    {
     "name": "stderr",
     "output_type": "stream",
     "text": [
      "  0%|\u001b[34m          \u001b[0m| 0/10 [00:00<?, ?it/s]\n",
      "100%|\u001b[34m██████████\u001b[0m| 10/10 [00:26<00:00,  2.70s/it]\n"
     ]
    },
    {
     "name": "stdout",
     "output_type": "stream",
     "text": [
      "\u001b[36m(launch_and_fit pid=9437)\u001b[0m \tTrain Epoch: 1 \tTrain_loss: 1.7477 | Train_acc: 31.6477 % | Validation_loss: 1.7362 | Validation_acc: 36.1111 %\n"
     ]
    },
    {
     "name": "stderr",
     "output_type": "stream",
     "text": [
      " 10%|\u001b[34m█         \u001b[0m| 1/10 [00:02<00:24,  2.70s/it]\n"
     ]
    },
    {
     "name": "stdout",
     "output_type": "stream",
     "text": [
      "\u001b[36m(launch_and_fit pid=9462)\u001b[0m Run WITHOUT homomorphic encryption\n",
      "\u001b[36m(launch_and_fit pid=9462)\u001b[0m  To get the checkpoint\n",
      "\u001b[36m(launch_and_fit pid=9462)\u001b[0m [Client 2, round 13] fit, config: {'learning_rate': 0.003, 'batch_size': '16', 'server_round': 13, 'local_epochs': 10}\n",
      "\u001b[36m(launch_and_fit pid=9462)\u001b[0m Updated model\n"
     ]
    },
    {
     "name": "stderr",
     "output_type": "stream",
     "text": [
      "  0%|\u001b[34m          \u001b[0m| 0/10 [00:00<?, ?it/s]\n",
      " 30%|\u001b[34m███       \u001b[0m| 3/10 [00:07<00:17,  2.51s/it]\u001b[32m [repeated 5x across cluster]\u001b[0m\n"
     ]
    },
    {
     "name": "stdout",
     "output_type": "stream",
     "text": [
      "\u001b[36m(launch_and_fit pid=9462)\u001b[0m \tTrain Epoch: 3 \tTrain_loss: 1.6985 | Train_acc: 34.5170 % | Validation_loss: 1.7093 | Validation_acc: 27.7778 %\u001b[32m [repeated 5x across cluster]\u001b[0m\n"
     ]
    },
    {
     "name": "stderr",
     "output_type": "stream",
     "text": [
      " 50%|\u001b[34m█████     \u001b[0m| 5/10 [00:12<00:13,  2.63s/it]\u001b[32m [repeated 4x across cluster]\u001b[0m\n"
     ]
    },
    {
     "name": "stdout",
     "output_type": "stream",
     "text": [
      "\u001b[36m(launch_and_fit pid=9462)\u001b[0m \tTrain Epoch: 5 \tTrain_loss: 1.6863 | Train_acc: 38.5227 % | Validation_loss: 1.6879 | Validation_acc: 45.1389 %\u001b[32m [repeated 4x across cluster]\u001b[0m\n",
      "\u001b[36m(launch_and_fit pid=9437)\u001b[0m \tTrain Epoch: 8 \tTrain_loss: 1.6849 | Train_acc: 37.7557 % | Validation_loss: 1.6706 | Validation_acc: 36.1111 %\u001b[32m [repeated 5x across cluster]\u001b[0m\n"
     ]
    },
    {
     "name": "stderr",
     "output_type": "stream",
     "text": [
      " 80%|\u001b[34m████████  \u001b[0m| 8/10 [00:20<00:04,  2.50s/it]\u001b[32m [repeated 5x across cluster]\u001b[0m\n"
     ]
    },
    {
     "name": "stdout",
     "output_type": "stream",
     "text": [
      "\u001b[36m(launch_and_fit pid=9437)\u001b[0m save graph in  results/FL/\n",
      "\u001b[36m(launch_and_fit pid=9437)\u001b[0m \tTrain Epoch: 10 \tTrain_loss: 1.6806 | Train_acc: 39.3466 % | Validation_loss: 1.7295 | Validation_acc: 45.1389 %\u001b[32m [repeated 4x across cluster]\u001b[0m\n"
     ]
    },
    {
     "name": "stderr",
     "output_type": "stream",
     "text": [
      "100%|\u001b[34m██████████\u001b[0m| 10/10 [00:25<00:00,  2.53s/it]\u001b[32m [repeated 4x across cluster]\u001b[0m\n"
     ]
    },
    {
     "name": "stdout",
     "output_type": "stream",
     "text": [
      "\u001b[36m(launch_and_fit pid=9511)\u001b[0m Run WITHOUT homomorphic encryption\n",
      "\u001b[36m(launch_and_fit pid=9511)\u001b[0m  To get the checkpoint\n",
      "\u001b[36m(launch_and_fit pid=9462)\u001b[0m save graph in  results/FL/\n",
      "\u001b[36m(launch_and_fit pid=9462)\u001b[0m \tTrain Epoch: 10 \tTrain_loss: 1.6686 | Train_acc: 38.2102 % | Validation_loss: 1.6966 | Validation_acc: 31.9444 %\n",
      "\u001b[36m(launch_and_fit pid=9511)\u001b[0m [Client 0, round 13] fit, config: {'learning_rate': 0.003, 'batch_size': '16', 'server_round': 13, 'local_epochs': 10}\n",
      "\u001b[36m(launch_and_fit pid=9511)\u001b[0m Updated model\n"
     ]
    },
    {
     "name": "stderr",
     "output_type": "stream",
     "text": [
      "  0%|\u001b[34m          \u001b[0m| 0/10 [00:00<?, ?it/s]\n",
      "100%|\u001b[34m██████████\u001b[0m| 10/10 [00:25<00:00,  2.57s/it]\n"
     ]
    },
    {
     "name": "stdout",
     "output_type": "stream",
     "text": [
      "\u001b[36m(launch_and_fit pid=9511)\u001b[0m \tTrain Epoch: 1 \tTrain_loss: 1.6882 | Train_acc: 42.4148 % | Validation_loss: 1.7992 | Validation_acc: 42.3611 %\n"
     ]
    },
    {
     "name": "stderr",
     "output_type": "stream",
     "text": [
      " 10%|\u001b[34m█         \u001b[0m| 1/10 [00:02<00:25,  2.81s/it]\n"
     ]
    },
    {
     "name": "stdout",
     "output_type": "stream",
     "text": [
      "\u001b[36m(launch_and_fit pid=9536)\u001b[0m Run WITHOUT homomorphic encryption\n",
      "\u001b[36m(launch_and_fit pid=9536)\u001b[0m  To get the checkpoint\n",
      "\u001b[36m(launch_and_fit pid=9536)\u001b[0m [Client 6, round 13] fit, config: {'learning_rate': 0.003, 'batch_size': '16', 'server_round': 13, 'local_epochs': 10}\n",
      "\u001b[36m(launch_and_fit pid=9536)\u001b[0m Updated model\n"
     ]
    },
    {
     "name": "stderr",
     "output_type": "stream",
     "text": [
      "  0%|\u001b[34m          \u001b[0m| 0/10 [00:00<?, ?it/s]\n"
     ]
    },
    {
     "name": "stdout",
     "output_type": "stream",
     "text": [
      "\u001b[36m(launch_and_fit pid=9511)\u001b[0m \tTrain Epoch: 3 \tTrain_loss: 1.6891 | Train_acc: 41.3352 % | Validation_loss: 1.8144 | Validation_acc: 25.0000 %\u001b[32m [repeated 4x across cluster]\u001b[0m\n"
     ]
    },
    {
     "name": "stderr",
     "output_type": "stream",
     "text": [
      " 30%|\u001b[34m███       \u001b[0m| 3/10 [00:08<00:19,  2.74s/it]\u001b[32m [repeated 4x across cluster]\u001b[0m\n"
     ]
    },
    {
     "name": "stdout",
     "output_type": "stream",
     "text": [
      "\u001b[36m(launch_and_fit pid=9511)\u001b[0m \tTrain Epoch: 5 \tTrain_loss: 1.6765 | Train_acc: 41.8466 % | Validation_loss: 1.8068 | Validation_acc: 25.0000 %\u001b[32m [repeated 4x across cluster]\u001b[0m\n"
     ]
    },
    {
     "name": "stderr",
     "output_type": "stream",
     "text": [
      " 50%|\u001b[34m█████     \u001b[0m| 5/10 [00:13<00:13,  2.62s/it]\u001b[32m [repeated 4x across cluster]\u001b[0m\n"
     ]
    },
    {
     "name": "stdout",
     "output_type": "stream",
     "text": [
      "\u001b[36m(launch_and_fit pid=9511)\u001b[0m \tTrain Epoch: 7 \tTrain_loss: 1.6735 | Train_acc: 40.7102 % | Validation_loss: 1.7877 | Validation_acc: 40.2778 %\u001b[32m [repeated 4x across cluster]\u001b[0m\n"
     ]
    },
    {
     "name": "stderr",
     "output_type": "stream",
     "text": [
      " 70%|\u001b[34m███████   \u001b[0m| 7/10 [00:18<00:07,  2.60s/it]\u001b[32m [repeated 4x across cluster]\u001b[0m\n"
     ]
    },
    {
     "name": "stdout",
     "output_type": "stream",
     "text": [
      "\u001b[36m(launch_and_fit pid=9511)\u001b[0m \tTrain Epoch: 9 \tTrain_loss: 1.6614 | Train_acc: 42.9261 % | Validation_loss: 1.8249 | Validation_acc: 25.0000 %\u001b[32m [repeated 4x across cluster]\u001b[0m\n"
     ]
    },
    {
     "name": "stderr",
     "output_type": "stream",
     "text": [
      " 90%|\u001b[34m█████████ \u001b[0m| 9/10 [00:23<00:02,  2.62s/it]\u001b[32m [repeated 4x across cluster]\u001b[0m\n"
     ]
    },
    {
     "name": "stdout",
     "output_type": "stream",
     "text": [
      "\u001b[36m(launch_and_fit pid=9511)\u001b[0m save graph in  results/FL/\n",
      "\u001b[36m(launch_and_fit pid=9585)\u001b[0m Run WITHOUT homomorphic encryption\n",
      "\u001b[36m(launch_and_fit pid=9585)\u001b[0m  To get the checkpoint\n",
      "\u001b[36m(launch_and_fit pid=9536)\u001b[0m \tTrain Epoch: 10 \tTrain_loss: 1.6337 | Train_acc: 47.2443 % | Validation_loss: 1.8920 | Validation_acc: 43.0556 %\u001b[32m [repeated 3x across cluster]\u001b[0m\n",
      "\u001b[36m(launch_and_fit pid=9536)\u001b[0m save graph in  results/FL/\n"
     ]
    },
    {
     "name": "stderr",
     "output_type": "stream",
     "text": [
      "  0%|\u001b[34m          \u001b[0m| 0/10 [00:00<?, ?it/s]\n",
      "100%|\u001b[34m██████████\u001b[0m| 10/10 [00:26<00:00,  2.62s/it]\u001b[32m [repeated 3x across cluster]\u001b[0m\n"
     ]
    },
    {
     "name": "stdout",
     "output_type": "stream",
     "text": [
      "\u001b[36m(launch_and_fit pid=9585)\u001b[0m [Client 9, round 13] fit, config: {'learning_rate': 0.003, 'batch_size': '16', 'server_round': 13, 'local_epochs': 10}\n",
      "\u001b[36m(launch_and_fit pid=9585)\u001b[0m Updated model\n"
     ]
    },
    {
     "name": "stderr",
     "output_type": "stream",
     "text": [
      "  0%|\u001b[34m          \u001b[0m| 0/10 [00:00<?, ?it/s]\n",
      " 20%|\u001b[34m██        \u001b[0m| 2/10 [00:05<00:23,  2.91s/it]\u001b[32m [repeated 3x across cluster]\u001b[0m\n"
     ]
    },
    {
     "name": "stdout",
     "output_type": "stream",
     "text": [
      "\u001b[36m(launch_and_fit pid=9610)\u001b[0m Run WITHOUT homomorphic encryption\n",
      "\u001b[36m(launch_and_fit pid=9610)\u001b[0m  To get the checkpoint\n",
      "\u001b[36m(launch_and_fit pid=9585)\u001b[0m \tTrain Epoch: 2 \tTrain_loss: 1.6919 | Train_acc: 41.9583 % | Validation_loss: 1.6326 | Validation_acc: 34.0278 %\u001b[32m [repeated 3x across cluster]\u001b[0m\n",
      "\u001b[36m(launch_and_fit pid=9610)\u001b[0m [Client 8, round 13] fit, config: {'learning_rate': 0.003, 'batch_size': '16', 'server_round': 13, 'local_epochs': 10}\n",
      "\u001b[36m(launch_and_fit pid=9610)\u001b[0m Updated model\n"
     ]
    },
    {
     "name": "stderr",
     "output_type": "stream",
     "text": [
      " 40%|\u001b[34m████      \u001b[0m| 4/10 [00:11<00:16,  2.70s/it]\u001b[32m [repeated 4x across cluster]\u001b[0m\n"
     ]
    },
    {
     "name": "stdout",
     "output_type": "stream",
     "text": [
      "\u001b[36m(launch_and_fit pid=9585)\u001b[0m \tTrain Epoch: 4 \tTrain_loss: 1.6685 | Train_acc: 44.5417 % | Validation_loss: 1.6401 | Validation_acc: 38.1944 %\u001b[32m [repeated 4x across cluster]\u001b[0m\n",
      "\u001b[36m(launch_and_fit pid=9610)\u001b[0m \tTrain Epoch: 6 \tTrain_loss: 1.6700 | Train_acc: 39.6307 % | Validation_loss: 1.7539 | Validation_acc: 31.9444 %\u001b[32m [repeated 5x across cluster]\u001b[0m\n"
     ]
    },
    {
     "name": "stderr",
     "output_type": "stream",
     "text": [
      " 60%|\u001b[34m██████    \u001b[0m| 6/10 [00:15<00:10,  2.55s/it]\u001b[32m [repeated 5x across cluster]\u001b[0m\n",
      " 90%|\u001b[34m█████████ \u001b[0m| 9/10 [00:23<00:02,  2.57s/it]\u001b[32m [repeated 5x across cluster]\u001b[0m\n"
     ]
    },
    {
     "name": "stdout",
     "output_type": "stream",
     "text": [
      "\u001b[36m(launch_and_fit pid=9585)\u001b[0m \tTrain Epoch: 9 \tTrain_loss: 1.6444 | Train_acc: 44.8333 % | Validation_loss: 1.6526 | Validation_acc: 40.2778 %\u001b[32m [repeated 5x across cluster]\u001b[0m\n",
      "\u001b[36m(launch_and_fit pid=9585)\u001b[0m save graph in  results/FL/\n"
     ]
    },
    {
     "name": "stderr",
     "output_type": "stream",
     "text": [
      "DEBUG flwr 2024-07-22 10:09:29,665 | server.py:236 | fit_round 13 received 10 results and 0 failures\n"
     ]
    },
    {
     "name": "stdout",
     "output_type": "stream",
     "text": [
      "Saving round 13 aggregated_parameters...\n",
      "Updated model\n"
     ]
    },
    {
     "name": "stderr",
     "output_type": "stream",
     "text": [
      "INFO flwr 2024-07-22 10:09:32,123 | server.py:125 | fit progress: (13, 1.7286350618709216, {'accuracy': 33.86363636363636}, 3171.650407062)\n",
      "DEBUG flwr 2024-07-22 10:09:32,124 | server.py:173 | evaluate_round 13: strategy sampled 10 clients (out of 10)\n"
     ]
    },
    {
     "name": "stdout",
     "output_type": "stream",
     "text": [
      "Server-side evaluation loss 1.7286350618709216 / accuracy 33.86363636363636\n",
      "\u001b[36m(launch_and_evaluate pid=9668)\u001b[0m Run WITHOUT homomorphic encryption\n",
      "\u001b[36m(launch_and_evaluate pid=9668)\u001b[0m  To get the checkpoint\n",
      "\u001b[36m(launch_and_fit pid=9610)\u001b[0m \tTrain Epoch: 10 \tTrain_loss: 1.6654 | Train_acc: 42.4148 % | Validation_loss: 1.7609 | Validation_acc: 22.9167 %\u001b[32m [repeated 3x across cluster]\u001b[0m\n",
      "\u001b[36m(launch_and_fit pid=9610)\u001b[0m save graph in  results/FL/\n",
      "\u001b[36m(launch_and_evaluate pid=9668)\u001b[0m [Client 0] evaluate, config: {}\n",
      "\u001b[36m(launch_and_evaluate pid=9668)\u001b[0m Updated model\n",
      "\u001b[36m(launch_and_evaluate pid=9739)\u001b[0m Run WITHOUT homomorphic encryption\u001b[32m [repeated 2x across cluster]\u001b[0m\n",
      "\u001b[36m(launch_and_evaluate pid=9739)\u001b[0m  To get the checkpoint\u001b[32m [repeated 2x across cluster]\u001b[0m\n",
      "\u001b[36m(launch_and_evaluate pid=9669)\u001b[0m [Client 5] evaluate, config: {}\n",
      "\u001b[36m(launch_and_evaluate pid=9669)\u001b[0m Updated model\n",
      "\u001b[36m(launch_and_evaluate pid=9739)\u001b[0m [Client 8] evaluate, config: {}\n",
      "\u001b[36m(launch_and_evaluate pid=9739)\u001b[0m Updated model\n"
     ]
    },
    {
     "name": "stderr",
     "output_type": "stream",
     "text": [
      "\u001b[36m(launch_and_evaluate pid=9739)\u001b[0m /opt/conda/lib/python3.10/site-packages/sklearn/metrics/_ranking.py:1029: UndefinedMetricWarning: No positive samples in y_true, true positive value should be meaningless\n",
      "\u001b[36m(launch_and_evaluate pid=9739)\u001b[0m   warnings.warn(\n",
      "100%|\u001b[34m██████████\u001b[0m| 10/10 [00:25<00:00,  2.59s/it]\u001b[32m [repeated 3x across cluster]\u001b[0m\n"
     ]
    },
    {
     "name": "stdout",
     "output_type": "stream",
     "text": [
      "\u001b[36m(launch_and_evaluate pid=9809)\u001b[0m Run WITHOUT homomorphic encryption\u001b[32m [repeated 2x across cluster]\u001b[0m\n",
      "\u001b[36m(launch_and_evaluate pid=9809)\u001b[0m  To get the checkpoint\u001b[32m [repeated 2x across cluster]\u001b[0m\n",
      "\u001b[36m(launch_and_evaluate pid=9741)\u001b[0m [Client 3] evaluate, config: {}\n",
      "\u001b[36m(launch_and_evaluate pid=9741)\u001b[0m Updated model\n",
      "\u001b[36m(launch_and_evaluate pid=9809)\u001b[0m [Client 4] evaluate, config: {}\n",
      "\u001b[36m(launch_and_evaluate pid=9809)\u001b[0m Updated model\n"
     ]
    },
    {
     "name": "stderr",
     "output_type": "stream",
     "text": [
      "\u001b[36m(launch_and_evaluate pid=9809)\u001b[0m /opt/conda/lib/python3.10/site-packages/sklearn/metrics/_ranking.py:1029: UndefinedMetricWarning: No positive samples in y_true, true positive value should be meaningless\n",
      "\u001b[36m(launch_and_evaluate pid=9809)\u001b[0m   warnings.warn(\n"
     ]
    },
    {
     "name": "stdout",
     "output_type": "stream",
     "text": [
      "\u001b[36m(launch_and_evaluate pid=9879)\u001b[0m Run WITHOUT homomorphic encryption\u001b[32m [repeated 2x across cluster]\u001b[0m\n",
      "\u001b[36m(launch_and_evaluate pid=9879)\u001b[0m  To get the checkpoint\u001b[32m [repeated 2x across cluster]\u001b[0m\n",
      "\u001b[36m(launch_and_evaluate pid=9811)\u001b[0m [Client 6] evaluate, config: {}\n",
      "\u001b[36m(launch_and_evaluate pid=9811)\u001b[0m Updated model\n",
      "\u001b[36m(launch_and_evaluate pid=9879)\u001b[0m [Client 9] evaluate, config: {}\n",
      "\u001b[36m(launch_and_evaluate pid=9879)\u001b[0m Updated model\n"
     ]
    },
    {
     "name": "stderr",
     "output_type": "stream",
     "text": [
      "\u001b[36m(launch_and_evaluate pid=9879)\u001b[0m /opt/conda/lib/python3.10/site-packages/sklearn/metrics/_ranking.py:1029: UndefinedMetricWarning: No positive samples in y_true, true positive value should be meaningless\n",
      "\u001b[36m(launch_and_evaluate pid=9879)\u001b[0m   warnings.warn(\n"
     ]
    },
    {
     "name": "stdout",
     "output_type": "stream",
     "text": [
      "\u001b[36m(launch_and_evaluate pid=9950)\u001b[0m Run WITHOUT homomorphic encryption\u001b[32m [repeated 2x across cluster]\u001b[0m\n",
      "\u001b[36m(launch_and_evaluate pid=9950)\u001b[0m  To get the checkpoint\u001b[32m [repeated 2x across cluster]\u001b[0m\n",
      "\u001b[36m(launch_and_evaluate pid=9881)\u001b[0m [Client 7] evaluate, config: {}\n",
      "\u001b[36m(launch_and_evaluate pid=9881)\u001b[0m Updated model\n",
      "\u001b[36m(launch_and_evaluate pid=9950)\u001b[0m [Client 1] evaluate, config: {}\n",
      "\u001b[36m(launch_and_evaluate pid=9950)\u001b[0m Updated model\n"
     ]
    },
    {
     "name": "stderr",
     "output_type": "stream",
     "text": [
      "DEBUG flwr 2024-07-22 10:10:31,146 | server.py:187 | evaluate_round 13 received 10 results and 0 failures\n",
      "DEBUG flwr 2024-07-22 10:10:31,147 | server.py:222 | fit_round 14: strategy sampled 10 clients (out of 10)\n"
     ]
    },
    {
     "name": "stdout",
     "output_type": "stream",
     "text": [
      "\u001b[36m(launch_and_fit pid=10030)\u001b[0m Run WITHOUT homomorphic encryption\u001b[32m [repeated 2x across cluster]\u001b[0m\n",
      "\u001b[36m(launch_and_fit pid=10030)\u001b[0m  To get the checkpoint\u001b[32m [repeated 2x across cluster]\u001b[0m\n",
      "\u001b[36m(launch_and_evaluate pid=9952)\u001b[0m [Client 2] evaluate, config: {}\n",
      "\u001b[36m(launch_and_evaluate pid=9952)\u001b[0m Updated model\n",
      "\u001b[36m(launch_and_fit pid=10030)\u001b[0m [Client 8, round 14] fit, config: {'learning_rate': 0.003, 'batch_size': '16', 'server_round': 14, 'local_epochs': 10}\n",
      "\u001b[36m(launch_and_fit pid=10030)\u001b[0m Updated model\n"
     ]
    },
    {
     "name": "stderr",
     "output_type": "stream",
     "text": [
      "  0%|\u001b[34m          \u001b[0m| 0/10 [00:00<?, ?it/s]\n"
     ]
    },
    {
     "name": "stdout",
     "output_type": "stream",
     "text": [
      "\u001b[36m(launch_and_fit pid=10030)\u001b[0m \tTrain Epoch: 1 \tTrain_loss: 1.7009 | Train_acc: 37.7557 % | Validation_loss: 1.7419 | Validation_acc: 38.1944 %\n"
     ]
    },
    {
     "name": "stderr",
     "output_type": "stream",
     "text": [
      " 10%|\u001b[34m█         \u001b[0m| 1/10 [00:02<00:24,  2.78s/it]\n"
     ]
    },
    {
     "name": "stdout",
     "output_type": "stream",
     "text": [
      "\u001b[36m(launch_and_fit pid=10029)\u001b[0m Run WITHOUT homomorphic encryption\n",
      "\u001b[36m(launch_and_fit pid=10029)\u001b[0m  To get the checkpoint\n",
      "\u001b[36m(launch_and_fit pid=10029)\u001b[0m [Client 7, round 14] fit, config: {'learning_rate': 0.003, 'batch_size': '16', 'server_round': 14, 'local_epochs': 10}\n",
      "\u001b[36m(launch_and_fit pid=10029)\u001b[0m Updated model\n"
     ]
    },
    {
     "name": "stderr",
     "output_type": "stream",
     "text": [
      "  0%|\u001b[34m          \u001b[0m| 0/10 [00:00<?, ?it/s]\n"
     ]
    },
    {
     "name": "stdout",
     "output_type": "stream",
     "text": [
      "\u001b[36m(launch_and_fit pid=10030)\u001b[0m \tTrain Epoch: 3 \tTrain_loss: 1.6662 | Train_acc: 40.9943 % | Validation_loss: 1.7531 | Validation_acc: 34.0278 %\u001b[32m [repeated 4x across cluster]\u001b[0m\n"
     ]
    },
    {
     "name": "stderr",
     "output_type": "stream",
     "text": [
      " 30%|\u001b[34m███       \u001b[0m| 3/10 [00:07<00:18,  2.64s/it]\u001b[32m [repeated 4x across cluster]\u001b[0m\n"
     ]
    },
    {
     "name": "stdout",
     "output_type": "stream",
     "text": [
      "\u001b[36m(launch_and_fit pid=10030)\u001b[0m \tTrain Epoch: 5 \tTrain_loss: 1.6777 | Train_acc: 39.8011 % | Validation_loss: 1.7745 | Validation_acc: 22.9167 %\u001b[32m [repeated 4x across cluster]\u001b[0m\n"
     ]
    },
    {
     "name": "stderr",
     "output_type": "stream",
     "text": [
      " 50%|\u001b[34m█████     \u001b[0m| 5/10 [00:13<00:12,  2.60s/it]\u001b[32m [repeated 4x across cluster]\u001b[0m\n"
     ]
    },
    {
     "name": "stdout",
     "output_type": "stream",
     "text": [
      "\u001b[36m(launch_and_fit pid=10030)\u001b[0m \tTrain Epoch: 7 \tTrain_loss: 1.6824 | Train_acc: 39.4602 % | Validation_loss: 1.7848 | Validation_acc: 31.9444 %\u001b[32m [repeated 4x across cluster]\u001b[0m\n"
     ]
    },
    {
     "name": "stderr",
     "output_type": "stream",
     "text": [
      " 70%|\u001b[34m███████   \u001b[0m| 7/10 [00:18<00:07,  2.56s/it]\u001b[32m [repeated 4x across cluster]\u001b[0m\n",
      " 90%|\u001b[34m█████████ \u001b[0m| 9/10 [00:23<00:02,  2.52s/it]\u001b[32m [repeated 5x across cluster]\u001b[0m\n"
     ]
    },
    {
     "name": "stdout",
     "output_type": "stream",
     "text": [
      "\u001b[36m(launch_and_fit pid=10029)\u001b[0m \tTrain Epoch: 9 \tTrain_loss: 1.6903 | Train_acc: 40.4261 % | Validation_loss: 1.5468 | Validation_acc: 51.3889 %\u001b[32m [repeated 5x across cluster]\u001b[0m\n",
      "\u001b[36m(launch_and_fit pid=10030)\u001b[0m save graph in  results/FL/\n",
      "\u001b[36m(launch_and_fit pid=10102)\u001b[0m Run WITHOUT homomorphic encryption\n",
      "\u001b[36m(launch_and_fit pid=10102)\u001b[0m  To get the checkpoint\n",
      "\u001b[36m(launch_and_fit pid=10029)\u001b[0m \tTrain Epoch: 10 \tTrain_loss: 1.7033 | Train_acc: 37.7273 % | Validation_loss: 1.5819 | Validation_acc: 55.5556 %\u001b[32m [repeated 2x across cluster]\u001b[0m\n",
      "\u001b[36m(launch_and_fit pid=10029)\u001b[0m save graph in  results/FL/\n",
      "\u001b[36m(launch_and_fit pid=10102)\u001b[0m [Client 9, round 14] fit, config: {'learning_rate': 0.003, 'batch_size': '16', 'server_round': 14, 'local_epochs': 10}\n",
      "\u001b[36m(launch_and_fit pid=10102)\u001b[0m Updated model\n"
     ]
    },
    {
     "name": "stderr",
     "output_type": "stream",
     "text": [
      "  0%|\u001b[34m          \u001b[0m| 0/10 [00:00<?, ?it/s]\n",
      "100%|\u001b[34m██████████\u001b[0m| 10/10 [00:25<00:00,  2.58s/it]\u001b[32m [repeated 2x across cluster]\u001b[0m\n"
     ]
    },
    {
     "name": "stdout",
     "output_type": "stream",
     "text": [
      "\u001b[36m(launch_and_fit pid=10104)\u001b[0m Run WITHOUT homomorphic encryption\n",
      "\u001b[36m(launch_and_fit pid=10104)\u001b[0m  To get the checkpoint\n",
      "\u001b[36m(launch_and_fit pid=10102)\u001b[0m \tTrain Epoch: 2 \tTrain_loss: 1.6782 | Train_acc: 44.2083 % | Validation_loss: 1.6490 | Validation_acc: 34.0278 %\u001b[32m [repeated 3x across cluster]\u001b[0m\n",
      "\u001b[36m(launch_and_fit pid=10104)\u001b[0m [Client 5, round 14] fit, config: {'learning_rate': 0.003, 'batch_size': '16', 'server_round': 14, 'local_epochs': 10}\n",
      "\u001b[36m(launch_and_fit pid=10104)\u001b[0m Updated model\n"
     ]
    },
    {
     "name": "stderr",
     "output_type": "stream",
     "text": [
      "  0%|\u001b[34m          \u001b[0m| 0/10 [00:00<?, ?it/s]\n",
      " 20%|\u001b[34m██        \u001b[0m| 2/10 [00:05<00:21,  2.72s/it]\u001b[32m [repeated 3x across cluster]\u001b[0m\n"
     ]
    },
    {
     "name": "stdout",
     "output_type": "stream",
     "text": [
      "\u001b[36m(launch_and_fit pid=10104)\u001b[0m \tTrain Epoch: 4 \tTrain_loss: 1.7078 | Train_acc: 35.2273 % | Validation_loss: 1.6763 | Validation_acc: 58.3333 %\u001b[32m [repeated 5x across cluster]\u001b[0m\n"
     ]
    },
    {
     "name": "stderr",
     "output_type": "stream",
     "text": [
      " 40%|\u001b[34m████      \u001b[0m| 4/10 [00:10<00:15,  2.61s/it]\u001b[32m [repeated 5x across cluster]\u001b[0m\n"
     ]
    },
    {
     "name": "stdout",
     "output_type": "stream",
     "text": [
      "\u001b[36m(launch_and_fit pid=10104)\u001b[0m \tTrain Epoch: 6 \tTrain_loss: 1.6897 | Train_acc: 38.0682 % | Validation_loss: 1.7041 | Validation_acc: 25.0000 %\u001b[32m [repeated 4x across cluster]\u001b[0m\n"
     ]
    },
    {
     "name": "stderr",
     "output_type": "stream",
     "text": [
      " 60%|\u001b[34m██████    \u001b[0m| 6/10 [00:15<00:10,  2.57s/it]\u001b[32m [repeated 4x across cluster]\u001b[0m\n"
     ]
    },
    {
     "name": "stdout",
     "output_type": "stream",
     "text": [
      "\u001b[36m(launch_and_fit pid=10102)\u001b[0m \tTrain Epoch: 8 \tTrain_loss: 1.6574 | Train_acc: 46.7083 % | Validation_loss: 1.6753 | Validation_acc: 38.1944 %\u001b[32m [repeated 3x across cluster]\u001b[0m\n"
     ]
    },
    {
     "name": "stderr",
     "output_type": "stream",
     "text": [
      " 80%|\u001b[34m████████  \u001b[0m| 8/10 [00:20<00:05,  2.61s/it]\u001b[32m [repeated 3x across cluster]\u001b[0m\n"
     ]
    },
    {
     "name": "stdout",
     "output_type": "stream",
     "text": [
      "\u001b[36m(launch_and_fit pid=10102)\u001b[0m save graph in  results/FL/\n",
      "\u001b[36m(launch_and_fit pid=10102)\u001b[0m \tTrain Epoch: 10 \tTrain_loss: 1.6501 | Train_acc: 46.0417 % | Validation_loss: 1.6452 | Validation_acc: 42.3611 %\u001b[32m [repeated 4x across cluster]\u001b[0m\n"
     ]
    },
    {
     "name": "stderr",
     "output_type": "stream",
     "text": [
      "100%|\u001b[34m██████████\u001b[0m| 10/10 [00:26<00:00,  2.62s/it]\u001b[32m [repeated 4x across cluster]\u001b[0m\n"
     ]
    },
    {
     "name": "stdout",
     "output_type": "stream",
     "text": [
      "\u001b[36m(launch_and_fit pid=10176)\u001b[0m Run WITHOUT homomorphic encryption\n",
      "\u001b[36m(launch_and_fit pid=10176)\u001b[0m  To get the checkpoint\n",
      "\u001b[36m(launch_and_fit pid=10104)\u001b[0m save graph in  results/FL/\n",
      "\u001b[36m(launch_and_fit pid=10104)\u001b[0m \tTrain Epoch: 10 \tTrain_loss: 1.6703 | Train_acc: 40.8807 % | Validation_loss: 1.6714 | Validation_acc: 47.2222 %\n",
      "\u001b[36m(launch_and_fit pid=10176)\u001b[0m [Client 3, round 14] fit, config: {'learning_rate': 0.003, 'batch_size': '16', 'server_round': 14, 'local_epochs': 10}\n",
      "\u001b[36m(launch_and_fit pid=10176)\u001b[0m Updated model\n"
     ]
    },
    {
     "name": "stderr",
     "output_type": "stream",
     "text": [
      "  0%|\u001b[34m          \u001b[0m| 0/10 [00:00<?, ?it/s]\n",
      "100%|\u001b[34m██████████\u001b[0m| 10/10 [00:26<00:00,  2.65s/it]\n"
     ]
    },
    {
     "name": "stdout",
     "output_type": "stream",
     "text": [
      "\u001b[36m(launch_and_fit pid=10176)\u001b[0m \tTrain Epoch: 1 \tTrain_loss: 1.7401 | Train_acc: 35.8807 % | Validation_loss: 1.7933 | Validation_acc: 31.9444 %\n"
     ]
    },
    {
     "name": "stderr",
     "output_type": "stream",
     "text": [
      " 10%|\u001b[34m█         \u001b[0m| 1/10 [00:02<00:26,  2.92s/it]\n"
     ]
    },
    {
     "name": "stdout",
     "output_type": "stream",
     "text": [
      "\u001b[36m(launch_and_fit pid=10178)\u001b[0m Run WITHOUT homomorphic encryption\n",
      "\u001b[36m(launch_and_fit pid=10178)\u001b[0m  To get the checkpoint\n",
      "\u001b[36m(launch_and_fit pid=10178)\u001b[0m [Client 0, round 14] fit, config: {'learning_rate': 0.003, 'batch_size': '16', 'server_round': 14, 'local_epochs': 10}\n",
      "\u001b[36m(launch_and_fit pid=10178)\u001b[0m Updated model\n"
     ]
    },
    {
     "name": "stderr",
     "output_type": "stream",
     "text": [
      "  0%|\u001b[34m          \u001b[0m| 0/10 [00:00<?, ?it/s]\n"
     ]
    },
    {
     "name": "stdout",
     "output_type": "stream",
     "text": [
      "\u001b[36m(launch_and_fit pid=10176)\u001b[0m \tTrain Epoch: 3 \tTrain_loss: 1.7025 | Train_acc: 38.6932 % | Validation_loss: 1.8143 | Validation_acc: 43.0556 %\u001b[32m [repeated 4x across cluster]\u001b[0m\n"
     ]
    },
    {
     "name": "stderr",
     "output_type": "stream",
     "text": [
      " 30%|\u001b[34m███       \u001b[0m| 3/10 [00:07<00:18,  2.60s/it]\u001b[32m [repeated 4x across cluster]\u001b[0m\n"
     ]
    },
    {
     "name": "stdout",
     "output_type": "stream",
     "text": [
      "\u001b[36m(launch_and_fit pid=10176)\u001b[0m \tTrain Epoch: 5 \tTrain_loss: 1.6876 | Train_acc: 40.5682 % | Validation_loss: 1.8111 | Validation_acc: 47.2222 %\u001b[32m [repeated 4x across cluster]\u001b[0m\n"
     ]
    },
    {
     "name": "stderr",
     "output_type": "stream",
     "text": [
      " 50%|\u001b[34m█████     \u001b[0m| 5/10 [00:13<00:12,  2.60s/it]\u001b[32m [repeated 4x across cluster]\u001b[0m\n"
     ]
    },
    {
     "name": "stdout",
     "output_type": "stream",
     "text": [
      "\u001b[36m(launch_and_fit pid=10176)\u001b[0m \tTrain Epoch: 7 \tTrain_loss: 1.6727 | Train_acc: 41.3068 % | Validation_loss: 1.8141 | Validation_acc: 45.1389 %\u001b[32m [repeated 4x across cluster]\u001b[0m\n"
     ]
    },
    {
     "name": "stderr",
     "output_type": "stream",
     "text": [
      " 70%|\u001b[34m███████   \u001b[0m| 7/10 [00:18<00:07,  2.63s/it]\u001b[32m [repeated 4x across cluster]\u001b[0m\n"
     ]
    },
    {
     "name": "stdout",
     "output_type": "stream",
     "text": [
      "\u001b[36m(launch_and_fit pid=10176)\u001b[0m \tTrain Epoch: 9 \tTrain_loss: 1.6782 | Train_acc: 42.2727 % | Validation_loss: 1.7895 | Validation_acc: 31.9444 %\u001b[32m [repeated 4x across cluster]\u001b[0m\n"
     ]
    },
    {
     "name": "stderr",
     "output_type": "stream",
     "text": [
      " 90%|\u001b[34m█████████ \u001b[0m| 9/10 [00:23<00:02,  2.65s/it]\u001b[32m [repeated 4x across cluster]\u001b[0m\n"
     ]
    },
    {
     "name": "stdout",
     "output_type": "stream",
     "text": [
      "\u001b[36m(launch_and_fit pid=10176)\u001b[0m save graph in  results/FL/\n",
      "\u001b[36m(launch_and_fit pid=10250)\u001b[0m Run WITHOUT homomorphic encryption\n",
      "\u001b[36m(launch_and_fit pid=10250)\u001b[0m  To get the checkpoint\n",
      "\u001b[36m(launch_and_fit pid=10178)\u001b[0m \tTrain Epoch: 10 \tTrain_loss: 1.6356 | Train_acc: 42.7557 % | Validation_loss: 1.8017 | Validation_acc: 25.0000 %\u001b[32m [repeated 3x across cluster]\u001b[0m\n",
      "\u001b[36m(launch_and_fit pid=10178)\u001b[0m save graph in  results/FL/\n",
      "\u001b[36m(launch_and_fit pid=10250)\u001b[0m [Client 4, round 14] fit, config: {'learning_rate': 0.003, 'batch_size': '16', 'server_round': 14, 'local_epochs': 10}\n",
      "\u001b[36m(launch_and_fit pid=10250)\u001b[0m Updated model\n"
     ]
    },
    {
     "name": "stderr",
     "output_type": "stream",
     "text": [
      "  0%|\u001b[34m          \u001b[0m| 0/10 [00:00<?, ?it/s]\n",
      "100%|\u001b[34m██████████\u001b[0m| 10/10 [00:26<00:00,  2.65s/it]\u001b[32m [repeated 3x across cluster]\u001b[0m\n"
     ]
    },
    {
     "name": "stdout",
     "output_type": "stream",
     "text": [
      "\u001b[36m(launch_and_fit pid=10275)\u001b[0m Run WITHOUT homomorphic encryption\n",
      "\u001b[36m(launch_and_fit pid=10275)\u001b[0m  To get the checkpoint\n",
      "\u001b[36m(launch_and_fit pid=10250)\u001b[0m \tTrain Epoch: 2 \tTrain_loss: 1.7065 | Train_acc: 36.0227 % | Validation_loss: 1.6636 | Validation_acc: 42.3611 %\u001b[32m [repeated 3x across cluster]\u001b[0m\n",
      "\u001b[36m(launch_and_fit pid=10275)\u001b[0m [Client 2, round 14] fit, config: {'learning_rate': 0.003, 'batch_size': '16', 'server_round': 14, 'local_epochs': 10}\n",
      "\u001b[36m(launch_and_fit pid=10275)\u001b[0m Updated model\n"
     ]
    },
    {
     "name": "stderr",
     "output_type": "stream",
     "text": [
      "  0%|\u001b[34m          \u001b[0m| 0/10 [00:00<?, ?it/s]\n",
      " 20%|\u001b[34m██        \u001b[0m| 2/10 [00:05<00:22,  2.81s/it]\u001b[32m [repeated 3x across cluster]\u001b[0m\n"
     ]
    },
    {
     "name": "stdout",
     "output_type": "stream",
     "text": [
      "\u001b[36m(launch_and_fit pid=10250)\u001b[0m \tTrain Epoch: 4 \tTrain_loss: 1.7164 | Train_acc: 35.5966 % | Validation_loss: 1.6775 | Validation_acc: 42.3611 %\u001b[32m [repeated 4x across cluster]\u001b[0m\n"
     ]
    },
    {
     "name": "stderr",
     "output_type": "stream",
     "text": [
      " 40%|\u001b[34m████      \u001b[0m| 4/10 [00:10<00:16,  2.67s/it]\u001b[32m [repeated 4x across cluster]\u001b[0m\n"
     ]
    },
    {
     "name": "stdout",
     "output_type": "stream",
     "text": [
      "\u001b[36m(launch_and_fit pid=10250)\u001b[0m \tTrain Epoch: 6 \tTrain_loss: 1.6886 | Train_acc: 39.9432 % | Validation_loss: 1.6858 | Validation_acc: 42.3611 %\u001b[32m [repeated 4x across cluster]\u001b[0m\n"
     ]
    },
    {
     "name": "stderr",
     "output_type": "stream",
     "text": [
      " 60%|\u001b[34m██████    \u001b[0m| 6/10 [00:16<00:10,  2.70s/it]\u001b[32m [repeated 4x across cluster]\u001b[0m\n"
     ]
    },
    {
     "name": "stdout",
     "output_type": "stream",
     "text": [
      "\u001b[36m(launch_and_fit pid=10275)\u001b[0m \tTrain Epoch: 8 \tTrain_loss: 1.6638 | Train_acc: 41.3636 % | Validation_loss: 1.6902 | Validation_acc: 29.8611 %\u001b[32m [repeated 5x across cluster]\u001b[0m\n"
     ]
    },
    {
     "name": "stderr",
     "output_type": "stream",
     "text": [
      " 80%|\u001b[34m████████  \u001b[0m| 8/10 [00:20<00:05,  2.55s/it]\u001b[32m [repeated 5x across cluster]\u001b[0m\n"
     ]
    },
    {
     "name": "stdout",
     "output_type": "stream",
     "text": [
      "\u001b[36m(launch_and_fit pid=10250)\u001b[0m save graph in  results/FL/\n",
      "\u001b[36m(launch_and_fit pid=10275)\u001b[0m \tTrain Epoch: 10 \tTrain_loss: 1.6586 | Train_acc: 41.1932 % | Validation_loss: 1.6705 | Validation_acc: 43.0556 %\u001b[32m [repeated 4x across cluster]\u001b[0m\n"
     ]
    },
    {
     "name": "stderr",
     "output_type": "stream",
     "text": [
      "100%|\u001b[34m██████████\u001b[0m| 10/10 [00:26<00:00,  2.64s/it]\u001b[32m [repeated 4x across cluster]\u001b[0m\n"
     ]
    },
    {
     "name": "stdout",
     "output_type": "stream",
     "text": [
      "\u001b[36m(launch_and_fit pid=10324)\u001b[0m Run WITHOUT homomorphic encryption\n",
      "\u001b[36m(launch_and_fit pid=10324)\u001b[0m  To get the checkpoint\n",
      "\u001b[36m(launch_and_fit pid=10275)\u001b[0m save graph in  results/FL/\n",
      "\u001b[36m(launch_and_fit pid=10324)\u001b[0m [Client 6, round 14] fit, config: {'learning_rate': 0.003, 'batch_size': '16', 'server_round': 14, 'local_epochs': 10}\n",
      "\u001b[36m(launch_and_fit pid=10324)\u001b[0m Updated model\n"
     ]
    },
    {
     "name": "stderr",
     "output_type": "stream",
     "text": [
      "  0%|\u001b[34m          \u001b[0m| 0/10 [00:00<?, ?it/s]\n"
     ]
    },
    {
     "name": "stdout",
     "output_type": "stream",
     "text": [
      "\u001b[36m(launch_and_fit pid=10324)\u001b[0m \tTrain Epoch: 1 \tTrain_loss: 1.7018 | Train_acc: 40.2557 % | Validation_loss: 1.8079 | Validation_acc: 31.9444 %\n"
     ]
    },
    {
     "name": "stderr",
     "output_type": "stream",
     "text": [
      " 10%|\u001b[34m█         \u001b[0m| 1/10 [00:02<00:25,  2.89s/it]\n"
     ]
    },
    {
     "name": "stdout",
     "output_type": "stream",
     "text": [
      "\u001b[36m(launch_and_fit pid=10326)\u001b[0m Run WITHOUT homomorphic encryption\n",
      "\u001b[36m(launch_and_fit pid=10326)\u001b[0m  To get the checkpoint\n",
      "\u001b[36m(launch_and_fit pid=10326)\u001b[0m [Client 1, round 14] fit, config: {'learning_rate': 0.003, 'batch_size': '16', 'server_round': 14, 'local_epochs': 10}\n",
      "\u001b[36m(launch_and_fit pid=10326)\u001b[0m Updated model\n"
     ]
    },
    {
     "name": "stderr",
     "output_type": "stream",
     "text": [
      "  0%|\u001b[34m          \u001b[0m| 0/10 [00:00<?, ?it/s]\n"
     ]
    },
    {
     "name": "stdout",
     "output_type": "stream",
     "text": [
      "\u001b[36m(launch_and_fit pid=10324)\u001b[0m \tTrain Epoch: 3 \tTrain_loss: 1.6605 | Train_acc: 44.7727 % | Validation_loss: 1.8318 | Validation_acc: 40.9722 %\u001b[32m [repeated 4x across cluster]\u001b[0m\n"
     ]
    },
    {
     "name": "stderr",
     "output_type": "stream",
     "text": [
      " 30%|\u001b[34m███       \u001b[0m| 3/10 [00:08<00:19,  2.82s/it]\u001b[32m [repeated 4x across cluster]\u001b[0m\n"
     ]
    },
    {
     "name": "stdout",
     "output_type": "stream",
     "text": [
      "\u001b[36m(launch_and_fit pid=10324)\u001b[0m \tTrain Epoch: 5 \tTrain_loss: 1.6508 | Train_acc: 44.8011 % | Validation_loss: 1.8398 | Validation_acc: 40.9722 %\u001b[32m [repeated 4x across cluster]\u001b[0m\n"
     ]
    },
    {
     "name": "stderr",
     "output_type": "stream",
     "text": [
      " 50%|\u001b[34m█████     \u001b[0m| 5/10 [00:13<00:13,  2.66s/it]\u001b[32m [repeated 4x across cluster]\u001b[0m\n"
     ]
    },
    {
     "name": "stdout",
     "output_type": "stream",
     "text": [
      "\u001b[36m(launch_and_fit pid=10324)\u001b[0m \tTrain Epoch: 7 \tTrain_loss: 1.6455 | Train_acc: 44.6023 % | Validation_loss: 1.8709 | Validation_acc: 38.8889 %\u001b[32m [repeated 4x across cluster]\u001b[0m\n"
     ]
    },
    {
     "name": "stderr",
     "output_type": "stream",
     "text": [
      " 70%|\u001b[34m███████   \u001b[0m| 7/10 [00:18<00:07,  2.58s/it]\u001b[32m [repeated 4x across cluster]\u001b[0m\n"
     ]
    },
    {
     "name": "stdout",
     "output_type": "stream",
     "text": [
      "\u001b[36m(launch_and_fit pid=10324)\u001b[0m \tTrain Epoch: 9 \tTrain_loss: 1.6271 | Train_acc: 45.3977 % | Validation_loss: 1.8560 | Validation_acc: 36.8056 %\u001b[32m [repeated 4x across cluster]\u001b[0m\n"
     ]
    },
    {
     "name": "stderr",
     "output_type": "stream",
     "text": [
      " 90%|\u001b[34m█████████ \u001b[0m| 9/10 [00:23<00:02,  2.60s/it]\u001b[32m [repeated 4x across cluster]\u001b[0m\n"
     ]
    },
    {
     "name": "stdout",
     "output_type": "stream",
     "text": [
      "\u001b[36m(launch_and_fit pid=10324)\u001b[0m save graph in  results/FL/\n"
     ]
    },
    {
     "name": "stderr",
     "output_type": "stream",
     "text": [
      "DEBUG flwr 2024-07-22 10:13:39,730 | server.py:236 | fit_round 14 received 10 results and 0 failures\n"
     ]
    },
    {
     "name": "stdout",
     "output_type": "stream",
     "text": [
      "Saving round 14 aggregated_parameters...\n",
      "Updated model\n"
     ]
    },
    {
     "name": "stderr",
     "output_type": "stream",
     "text": [
      "INFO flwr 2024-07-22 10:13:42,069 | server.py:125 | fit progress: (14, 1.7228901559656316, {'accuracy': 37.34848484848485}, 3421.596238484)\n",
      "DEBUG flwr 2024-07-22 10:13:42,070 | server.py:173 | evaluate_round 14: strategy sampled 10 clients (out of 10)\n"
     ]
    },
    {
     "name": "stdout",
     "output_type": "stream",
     "text": [
      "Server-side evaluation loss 1.7228901559656316 / accuracy 37.34848484848485\n",
      "\u001b[36m(launch_and_evaluate pid=10407)\u001b[0m Run WITHOUT homomorphic encryption\n",
      "\u001b[36m(launch_and_evaluate pid=10407)\u001b[0m  To get the checkpoint\n",
      "\u001b[36m(launch_and_fit pid=10326)\u001b[0m \tTrain Epoch: 10 \tTrain_loss: 1.6884 | Train_acc: 37.4432 % | Validation_loss: 1.8502 | Validation_acc: 22.9167 %\u001b[32m [repeated 3x across cluster]\u001b[0m\n",
      "\u001b[36m(launch_and_fit pid=10326)\u001b[0m save graph in  results/FL/\n",
      "\u001b[36m(launch_and_evaluate pid=10407)\u001b[0m [Client 0] evaluate, config: {}\n",
      "\u001b[36m(launch_and_evaluate pid=10407)\u001b[0m Updated model\n"
     ]
    },
    {
     "name": "stderr",
     "output_type": "stream",
     "text": [
      "\u001b[36m(launch_and_evaluate pid=10408)\u001b[0m /opt/conda/lib/python3.10/site-packages/sklearn/metrics/_ranking.py:1029: UndefinedMetricWarning: No positive samples in y_true, true positive value should be meaningless\n",
      "\u001b[36m(launch_and_evaluate pid=10408)\u001b[0m   warnings.warn(\n",
      "100%|\u001b[34m██████████\u001b[0m| 10/10 [00:26<00:00,  2.69s/it]\u001b[32m [repeated 3x across cluster]\u001b[0m\n"
     ]
    },
    {
     "name": "stdout",
     "output_type": "stream",
     "text": [
      "\u001b[36m(launch_and_evaluate pid=10478)\u001b[0m Run WITHOUT homomorphic encryption\u001b[32m [repeated 2x across cluster]\u001b[0m\n",
      "\u001b[36m(launch_and_evaluate pid=10478)\u001b[0m  To get the checkpoint\u001b[32m [repeated 2x across cluster]\u001b[0m\n",
      "\u001b[36m(launch_and_evaluate pid=10408)\u001b[0m [Client 8] evaluate, config: {}\n",
      "\u001b[36m(launch_and_evaluate pid=10408)\u001b[0m Updated model\n",
      "\u001b[36m(launch_and_evaluate pid=10478)\u001b[0m [Client 4] evaluate, config: {}\n",
      "\u001b[36m(launch_and_evaluate pid=10478)\u001b[0m Updated model\n"
     ]
    },
    {
     "name": "stderr",
     "output_type": "stream",
     "text": [
      "\u001b[36m(launch_and_evaluate pid=10478)\u001b[0m /opt/conda/lib/python3.10/site-packages/sklearn/metrics/_ranking.py:1029: UndefinedMetricWarning: No positive samples in y_true, true positive value should be meaningless\n",
      "\u001b[36m(launch_and_evaluate pid=10478)\u001b[0m   warnings.warn(\n",
      "\u001b[36m(launch_and_evaluate pid=10480)\u001b[0m /opt/conda/lib/python3.10/site-packages/sklearn/metrics/_ranking.py:1029: UndefinedMetricWarning: No positive samples in y_true, true positive value should be meaningless\n",
      "\u001b[36m(launch_and_evaluate pid=10480)\u001b[0m   warnings.warn(\n"
     ]
    },
    {
     "name": "stdout",
     "output_type": "stream",
     "text": [
      "\u001b[36m(launch_and_evaluate pid=10548)\u001b[0m Run WITHOUT homomorphic encryption\u001b[32m [repeated 2x across cluster]\u001b[0m\n",
      "\u001b[36m(launch_and_evaluate pid=10548)\u001b[0m  To get the checkpoint\u001b[32m [repeated 2x across cluster]\u001b[0m\n",
      "\u001b[36m(launch_and_evaluate pid=10480)\u001b[0m [Client 9] evaluate, config: {}\n",
      "\u001b[36m(launch_and_evaluate pid=10480)\u001b[0m Updated model\n",
      "\u001b[36m(launch_and_evaluate pid=10548)\u001b[0m [Client 3] evaluate, config: {}\n",
      "\u001b[36m(launch_and_evaluate pid=10548)\u001b[0m Updated model\n",
      "\u001b[36m(launch_and_evaluate pid=10618)\u001b[0m Run WITHOUT homomorphic encryption\u001b[32m [repeated 2x across cluster]\u001b[0m\n",
      "\u001b[36m(launch_and_evaluate pid=10618)\u001b[0m  To get the checkpoint\u001b[32m [repeated 2x across cluster]\u001b[0m\n",
      "\u001b[36m(launch_and_evaluate pid=10550)\u001b[0m [Client 6] evaluate, config: {}\n",
      "\u001b[36m(launch_and_evaluate pid=10550)\u001b[0m Updated model\n",
      "\u001b[36m(launch_and_evaluate pid=10618)\u001b[0m [Client 5] evaluate, config: {}\n",
      "\u001b[36m(launch_and_evaluate pid=10618)\u001b[0m Updated model\n",
      "\u001b[36m(launch_and_evaluate pid=10688)\u001b[0m Run WITHOUT homomorphic encryption\u001b[32m [repeated 2x across cluster]\u001b[0m\n",
      "\u001b[36m(launch_and_evaluate pid=10688)\u001b[0m  To get the checkpoint\u001b[32m [repeated 2x across cluster]\u001b[0m\n",
      "\u001b[36m(launch_and_evaluate pid=10620)\u001b[0m [Client 2] evaluate, config: {}\n",
      "\u001b[36m(launch_and_evaluate pid=10620)\u001b[0m Updated model\n",
      "\u001b[36m(launch_and_evaluate pid=10688)\u001b[0m [Client 1] evaluate, config: {}\n",
      "\u001b[36m(launch_and_evaluate pid=10688)\u001b[0m Updated model\n"
     ]
    },
    {
     "name": "stderr",
     "output_type": "stream",
     "text": [
      "DEBUG flwr 2024-07-22 10:14:41,811 | server.py:187 | evaluate_round 14 received 10 results and 0 failures\n",
      "DEBUG flwr 2024-07-22 10:14:41,812 | server.py:222 | fit_round 15: strategy sampled 10 clients (out of 10)\n"
     ]
    },
    {
     "name": "stdout",
     "output_type": "stream",
     "text": [
      "\u001b[36m(launch_and_fit pid=10767)\u001b[0m Run WITHOUT homomorphic encryption\u001b[32m [repeated 2x across cluster]\u001b[0m\n",
      "\u001b[36m(launch_and_fit pid=10767)\u001b[0m  To get the checkpoint\u001b[32m [repeated 2x across cluster]\u001b[0m\n",
      "\u001b[36m(launch_and_evaluate pid=10690)\u001b[0m [Client 7] evaluate, config: {}\n",
      "\u001b[36m(launch_and_evaluate pid=10690)\u001b[0m Updated model\n"
     ]
    },
    {
     "name": "stderr",
     "output_type": "stream",
     "text": [
      "  0%|\u001b[34m          \u001b[0m| 0/10 [00:00<?, ?it/s]\n"
     ]
    },
    {
     "name": "stdout",
     "output_type": "stream",
     "text": [
      "\u001b[36m(launch_and_fit pid=10767)\u001b[0m [Client 1, round 15] fit, config: {'learning_rate': 0.003, 'batch_size': '16', 'server_round': 15, 'local_epochs': 10}\n",
      "\u001b[36m(launch_and_fit pid=10767)\u001b[0m Updated model\n",
      "\u001b[36m(launch_and_fit pid=10768)\u001b[0m \tTrain Epoch: 1 \tTrain_loss: 1.7735 | Train_acc: 30.7386 % | Validation_loss: 1.5530 | Validation_acc: 51.3889 %\n"
     ]
    },
    {
     "name": "stderr",
     "output_type": "stream",
     "text": [
      " 10%|\u001b[34m█         \u001b[0m| 1/10 [00:02<00:26,  2.91s/it]\n"
     ]
    },
    {
     "name": "stdout",
     "output_type": "stream",
     "text": [
      "\u001b[36m(launch_and_fit pid=10768)\u001b[0m Run WITHOUT homomorphic encryption\n",
      "\u001b[36m(launch_and_fit pid=10768)\u001b[0m  To get the checkpoint\n",
      "\u001b[36m(launch_and_fit pid=10768)\u001b[0m [Client 7, round 15] fit, config: {'learning_rate': 0.003, 'batch_size': '16', 'server_round': 15, 'local_epochs': 10}\n",
      "\u001b[36m(launch_and_fit pid=10768)\u001b[0m Updated model\n"
     ]
    },
    {
     "name": "stderr",
     "output_type": "stream",
     "text": [
      "  0%|\u001b[34m          \u001b[0m| 0/10 [00:00<?, ?it/s]\n"
     ]
    },
    {
     "name": "stdout",
     "output_type": "stream",
     "text": [
      "\u001b[36m(launch_and_fit pid=10768)\u001b[0m \tTrain Epoch: 3 \tTrain_loss: 1.7197 | Train_acc: 37.6136 % | Validation_loss: 1.5369 | Validation_acc: 51.3889 %\u001b[32m [repeated 4x across cluster]\u001b[0m\n"
     ]
    },
    {
     "name": "stderr",
     "output_type": "stream",
     "text": [
      " 30%|\u001b[34m███       \u001b[0m| 3/10 [00:08<00:18,  2.65s/it]\u001b[32m [repeated 4x across cluster]\u001b[0m\n",
      " 50%|\u001b[34m█████     \u001b[0m| 5/10 [00:13<00:13,  2.62s/it]\u001b[32m [repeated 5x across cluster]\u001b[0m\n"
     ]
    },
    {
     "name": "stdout",
     "output_type": "stream",
     "text": [
      "\u001b[36m(launch_and_fit pid=10767)\u001b[0m \tTrain Epoch: 5 \tTrain_loss: 1.7119 | Train_acc: 35.7102 % | Validation_loss: 1.8414 | Validation_acc: 36.1111 %\u001b[32m [repeated 5x across cluster]\u001b[0m\n",
      "\u001b[36m(launch_and_fit pid=10768)\u001b[0m \tTrain Epoch: 7 \tTrain_loss: 1.6790 | Train_acc: 40.7386 % | Validation_loss: 1.5300 | Validation_acc: 53.4722 %\u001b[32m [repeated 3x across cluster]\u001b[0m\n"
     ]
    },
    {
     "name": "stderr",
     "output_type": "stream",
     "text": [
      " 70%|\u001b[34m███████   \u001b[0m| 7/10 [00:18<00:07,  2.61s/it]\u001b[32m [repeated 3x across cluster]\u001b[0m\n"
     ]
    },
    {
     "name": "stdout",
     "output_type": "stream",
     "text": [
      "\u001b[36m(launch_and_fit pid=10768)\u001b[0m \tTrain Epoch: 9 \tTrain_loss: 1.6697 | Train_acc: 45.5398 % | Validation_loss: 1.5186 | Validation_acc: 53.4722 %\u001b[32m [repeated 4x across cluster]\u001b[0m\n"
     ]
    },
    {
     "name": "stderr",
     "output_type": "stream",
     "text": [
      " 90%|\u001b[34m█████████ \u001b[0m| 9/10 [00:23<00:02,  2.60s/it]\u001b[32m [repeated 4x across cluster]\u001b[0m\n"
     ]
    },
    {
     "name": "stdout",
     "output_type": "stream",
     "text": [
      "\u001b[36m(launch_and_fit pid=10768)\u001b[0m save graph in  results/FL/\n",
      "\u001b[36m(launch_and_fit pid=10840)\u001b[0m Run WITHOUT homomorphic encryption\n",
      "\u001b[36m(launch_and_fit pid=10840)\u001b[0m  To get the checkpoint\n",
      "\u001b[36m(launch_and_fit pid=10767)\u001b[0m \tTrain Epoch: 10 \tTrain_loss: 1.6772 | Train_acc: 40.5682 % | Validation_loss: 1.8519 | Validation_acc: 20.8333 %\u001b[32m [repeated 3x across cluster]\u001b[0m\n",
      "\u001b[36m(launch_and_fit pid=10767)\u001b[0m save graph in  results/FL/\n",
      "\u001b[36m(launch_and_fit pid=10840)\u001b[0m [Client 3, round 15] fit, config: {'learning_rate': 0.003, 'batch_size': '16', 'server_round': 15, 'local_epochs': 10}\n",
      "\u001b[36m(launch_and_fit pid=10840)\u001b[0m Updated model\n"
     ]
    },
    {
     "name": "stderr",
     "output_type": "stream",
     "text": [
      "  0%|\u001b[34m          \u001b[0m| 0/10 [00:00<?, ?it/s]\n",
      "100%|\u001b[34m██████████\u001b[0m| 10/10 [00:26<00:00,  2.68s/it]\u001b[32m [repeated 3x across cluster]\u001b[0m\n"
     ]
    },
    {
     "name": "stdout",
     "output_type": "stream",
     "text": [
      "\u001b[36m(launch_and_fit pid=10842)\u001b[0m Run WITHOUT homomorphic encryption\n",
      "\u001b[36m(launch_and_fit pid=10842)\u001b[0m  To get the checkpoint\n",
      "\u001b[36m(launch_and_fit pid=10840)\u001b[0m \tTrain Epoch: 2 \tTrain_loss: 1.6960 | Train_acc: 39.8011 % | Validation_loss: 1.7826 | Validation_acc: 43.0556 %\u001b[32m [repeated 3x across cluster]\u001b[0m\n",
      "\u001b[36m(launch_and_fit pid=10842)\u001b[0m [Client 9, round 15] fit, config: {'learning_rate': 0.003, 'batch_size': '16', 'server_round': 15, 'local_epochs': 10}\n",
      "\u001b[36m(launch_and_fit pid=10842)\u001b[0m Updated model\n"
     ]
    },
    {
     "name": "stderr",
     "output_type": "stream",
     "text": [
      "  0%|\u001b[34m          \u001b[0m| 0/10 [00:00<?, ?it/s]\n",
      " 20%|\u001b[34m██        \u001b[0m| 2/10 [00:05<00:21,  2.74s/it]\u001b[32m [repeated 3x across cluster]\u001b[0m\n"
     ]
    },
    {
     "name": "stdout",
     "output_type": "stream",
     "text": [
      "\u001b[36m(launch_and_fit pid=10840)\u001b[0m \tTrain Epoch: 4 \tTrain_loss: 1.6815 | Train_acc: 40.2557 % | Validation_loss: 1.7876 | Validation_acc: 45.1389 %\u001b[32m [repeated 4x across cluster]\u001b[0m\n"
     ]
    },
    {
     "name": "stderr",
     "output_type": "stream",
     "text": [
      " 40%|\u001b[34m████      \u001b[0m| 4/10 [00:10<00:16,  2.69s/it]\u001b[32m [repeated 4x across cluster]\u001b[0m\n"
     ]
    },
    {
     "name": "stdout",
     "output_type": "stream",
     "text": [
      "\u001b[36m(launch_and_fit pid=10840)\u001b[0m \tTrain Epoch: 6 \tTrain_loss: 1.6680 | Train_acc: 41.9318 % | Validation_loss: 1.7913 | Validation_acc: 45.1389 %\u001b[32m [repeated 4x across cluster]\u001b[0m\n"
     ]
    },
    {
     "name": "stderr",
     "output_type": "stream",
     "text": [
      " 60%|\u001b[34m██████    \u001b[0m| 6/10 [00:16<00:10,  2.66s/it]\u001b[32m [repeated 4x across cluster]\u001b[0m\n"
     ]
    },
    {
     "name": "stdout",
     "output_type": "stream",
     "text": [
      "\u001b[36m(launch_and_fit pid=10840)\u001b[0m \tTrain Epoch: 8 \tTrain_loss: 1.6524 | Train_acc: 43.3239 % | Validation_loss: 1.8180 | Validation_acc: 49.3056 %\u001b[32m [repeated 4x across cluster]\u001b[0m\n"
     ]
    },
    {
     "name": "stderr",
     "output_type": "stream",
     "text": [
      " 80%|\u001b[34m████████  \u001b[0m| 8/10 [00:21<00:05,  2.65s/it]\u001b[32m [repeated 4x across cluster]\u001b[0m\n"
     ]
    },
    {
     "name": "stdout",
     "output_type": "stream",
     "text": [
      "\u001b[36m(launch_and_fit pid=10840)\u001b[0m save graph in  results/FL/\n",
      "\u001b[36m(launch_and_fit pid=10840)\u001b[0m \tTrain Epoch: 10 \tTrain_loss: 1.6565 | Train_acc: 42.7273 % | Validation_loss: 1.8338 | Validation_acc: 36.1111 %\u001b[32m [repeated 4x across cluster]\u001b[0m\n"
     ]
    },
    {
     "name": "stderr",
     "output_type": "stream",
     "text": [
      "100%|\u001b[34m██████████\u001b[0m| 10/10 [00:26<00:00,  2.68s/it]\u001b[32m [repeated 4x across cluster]\u001b[0m\n"
     ]
    },
    {
     "name": "stdout",
     "output_type": "stream",
     "text": [
      "\u001b[36m(launch_and_fit pid=10914)\u001b[0m Run WITHOUT homomorphic encryption\n",
      "\u001b[36m(launch_and_fit pid=10914)\u001b[0m  To get the checkpoint\n",
      "\u001b[36m(launch_and_fit pid=10842)\u001b[0m save graph in  results/FL/\n",
      "\u001b[36m(launch_and_fit pid=10842)\u001b[0m \tTrain Epoch: 10 \tTrain_loss: 1.6301 | Train_acc: 47.1042 % | Validation_loss: 1.6611 | Validation_acc: 40.2778 %\n",
      "\u001b[36m(launch_and_fit pid=10914)\u001b[0m [Client 2, round 15] fit, config: {'learning_rate': 0.003, 'batch_size': '16', 'server_round': 15, 'local_epochs': 10}\n",
      "\u001b[36m(launch_and_fit pid=10914)\u001b[0m Updated model\n"
     ]
    },
    {
     "name": "stderr",
     "output_type": "stream",
     "text": [
      "  0%|\u001b[34m          \u001b[0m| 0/10 [00:00<?, ?it/s]\n",
      "100%|\u001b[34m██████████\u001b[0m| 10/10 [00:26<00:00,  2.70s/it]\n"
     ]
    },
    {
     "name": "stdout",
     "output_type": "stream",
     "text": [
      "\u001b[36m(launch_and_fit pid=10914)\u001b[0m \tTrain Epoch: 1 \tTrain_loss: 1.7166 | Train_acc: 36.0227 % | Validation_loss: 1.7963 | Validation_acc: 25.6944 %\n"
     ]
    },
    {
     "name": "stderr",
     "output_type": "stream",
     "text": [
      " 10%|\u001b[34m█         \u001b[0m| 1/10 [00:02<00:26,  2.92s/it]\n"
     ]
    },
    {
     "name": "stdout",
     "output_type": "stream",
     "text": [
      "\u001b[36m(launch_and_fit pid=10916)\u001b[0m Run WITHOUT homomorphic encryption\n",
      "\u001b[36m(launch_and_fit pid=10916)\u001b[0m  To get the checkpoint\n",
      "\u001b[36m(launch_and_fit pid=10916)\u001b[0m [Client 0, round 15] fit, config: {'learning_rate': 0.003, 'batch_size': '16', 'server_round': 15, 'local_epochs': 10}\n",
      "\u001b[36m(launch_and_fit pid=10916)\u001b[0m Updated model\n"
     ]
    },
    {
     "name": "stderr",
     "output_type": "stream",
     "text": [
      "  0%|\u001b[34m          \u001b[0m| 0/10 [00:00<?, ?it/s]\n"
     ]
    },
    {
     "name": "stdout",
     "output_type": "stream",
     "text": [
      "\u001b[36m(launch_and_fit pid=10914)\u001b[0m \tTrain Epoch: 3 \tTrain_loss: 1.7029 | Train_acc: 36.7045 % | Validation_loss: 1.7195 | Validation_acc: 34.0278 %\u001b[32m [repeated 4x across cluster]\u001b[0m\n"
     ]
    },
    {
     "name": "stderr",
     "output_type": "stream",
     "text": [
      " 30%|\u001b[34m███       \u001b[0m| 3/10 [00:08<00:18,  2.66s/it]\u001b[32m [repeated 4x across cluster]\u001b[0m\n"
     ]
    },
    {
     "name": "stdout",
     "output_type": "stream",
     "text": [
      "\u001b[36m(launch_and_fit pid=10914)\u001b[0m \tTrain Epoch: 5 \tTrain_loss: 1.6774 | Train_acc: 38.8352 % | Validation_loss: 1.6667 | Validation_acc: 40.9722 %\u001b[32m [repeated 4x across cluster]\u001b[0m\n"
     ]
    },
    {
     "name": "stderr",
     "output_type": "stream",
     "text": [
      " 50%|\u001b[34m█████     \u001b[0m| 5/10 [00:13<00:13,  2.65s/it]\u001b[32m [repeated 4x across cluster]\u001b[0m\n"
     ]
    },
    {
     "name": "stdout",
     "output_type": "stream",
     "text": [
      "\u001b[36m(launch_and_fit pid=10914)\u001b[0m \tTrain Epoch: 7 \tTrain_loss: 1.6691 | Train_acc: 39.0341 % | Validation_loss: 1.6763 | Validation_acc: 27.7778 %\u001b[32m [repeated 4x across cluster]\u001b[0m\n"
     ]
    },
    {
     "name": "stderr",
     "output_type": "stream",
     "text": [
      " 70%|\u001b[34m███████   \u001b[0m| 7/10 [00:18<00:07,  2.60s/it]\u001b[32m [repeated 4x across cluster]\u001b[0m\n"
     ]
    },
    {
     "name": "stdout",
     "output_type": "stream",
     "text": [
      "\u001b[36m(launch_and_fit pid=10914)\u001b[0m \tTrain Epoch: 9 \tTrain_loss: 1.6695 | Train_acc: 39.3182 % | Validation_loss: 1.6598 | Validation_acc: 40.9722 %\u001b[32m [repeated 4x across cluster]\u001b[0m\n"
     ]
    },
    {
     "name": "stderr",
     "output_type": "stream",
     "text": [
      " 90%|\u001b[34m█████████ \u001b[0m| 9/10 [00:23<00:02,  2.62s/it]\u001b[32m [repeated 4x across cluster]\u001b[0m\n"
     ]
    },
    {
     "name": "stdout",
     "output_type": "stream",
     "text": [
      "\u001b[36m(launch_and_fit pid=10914)\u001b[0m save graph in  results/FL/\n",
      "\u001b[36m(launch_and_fit pid=10988)\u001b[0m Run WITHOUT homomorphic encryption\n",
      "\u001b[36m(launch_and_fit pid=10988)\u001b[0m  To get the checkpoint\n",
      "\u001b[36m(launch_and_fit pid=10916)\u001b[0m \tTrain Epoch: 10 \tTrain_loss: 1.6320 | Train_acc: 42.1591 % | Validation_loss: 1.7979 | Validation_acc: 25.0000 %\u001b[32m [repeated 3x across cluster]\u001b[0m\n",
      "\u001b[36m(launch_and_fit pid=10916)\u001b[0m save graph in  results/FL/\n"
     ]
    },
    {
     "name": "stderr",
     "output_type": "stream",
     "text": [
      "  0%|\u001b[34m          \u001b[0m| 0/10 [00:00<?, ?it/s]\n",
      "100%|\u001b[34m██████████\u001b[0m| 10/10 [00:26<00:00,  2.64s/it]\u001b[32m [repeated 3x across cluster]\u001b[0m\n"
     ]
    },
    {
     "name": "stdout",
     "output_type": "stream",
     "text": [
      "\u001b[36m(launch_and_fit pid=10988)\u001b[0m [Client 6, round 15] fit, config: {'learning_rate': 0.003, 'batch_size': '16', 'server_round': 15, 'local_epochs': 10}\n",
      "\u001b[36m(launch_and_fit pid=10988)\u001b[0m Updated model\n"
     ]
    },
    {
     "name": "stderr",
     "output_type": "stream",
     "text": [
      "  0%|\u001b[34m          \u001b[0m| 0/10 [00:00<?, ?it/s]\n",
      " 20%|\u001b[34m██        \u001b[0m| 2/10 [00:05<00:21,  2.69s/it]\u001b[32m [repeated 3x across cluster]\u001b[0m\n"
     ]
    },
    {
     "name": "stdout",
     "output_type": "stream",
     "text": [
      "\u001b[36m(launch_and_fit pid=10990)\u001b[0m Run WITHOUT homomorphic encryption\n",
      "\u001b[36m(launch_and_fit pid=10990)\u001b[0m  To get the checkpoint\n",
      "\u001b[36m(launch_and_fit pid=10988)\u001b[0m \tTrain Epoch: 2 \tTrain_loss: 1.6846 | Train_acc: 44.3182 % | Validation_loss: 1.8244 | Validation_acc: 38.8889 %\u001b[32m [repeated 3x across cluster]\u001b[0m\n",
      "\u001b[36m(launch_and_fit pid=10990)\u001b[0m [Client 8, round 15] fit, config: {'learning_rate': 0.003, 'batch_size': '16', 'server_round': 15, 'local_epochs': 10}\n",
      "\u001b[36m(launch_and_fit pid=10990)\u001b[0m Updated model\n"
     ]
    },
    {
     "name": "stderr",
     "output_type": "stream",
     "text": [
      " 40%|\u001b[34m████      \u001b[0m| 4/10 [00:10<00:15,  2.59s/it]\u001b[32m [repeated 4x across cluster]\u001b[0m\n"
     ]
    },
    {
     "name": "stdout",
     "output_type": "stream",
     "text": [
      "\u001b[36m(launch_and_fit pid=10988)\u001b[0m \tTrain Epoch: 4 \tTrain_loss: 1.6817 | Train_acc: 43.6648 % | Validation_loss: 1.8482 | Validation_acc: 45.1389 %\u001b[32m [repeated 4x across cluster]\u001b[0m\n"
     ]
    },
    {
     "name": "stderr",
     "output_type": "stream",
     "text": [
      " 60%|\u001b[34m██████    \u001b[0m| 6/10 [00:16<00:10,  2.68s/it]\u001b[32m [repeated 4x across cluster]\u001b[0m\n"
     ]
    },
    {
     "name": "stdout",
     "output_type": "stream",
     "text": [
      "\u001b[36m(launch_and_fit pid=10988)\u001b[0m \tTrain Epoch: 6 \tTrain_loss: 1.6382 | Train_acc: 46.7898 % | Validation_loss: 1.7797 | Validation_acc: 40.9722 %\u001b[32m [repeated 4x across cluster]\u001b[0m\n"
     ]
    },
    {
     "name": "stderr",
     "output_type": "stream",
     "text": [
      " 80%|\u001b[34m████████  \u001b[0m| 8/10 [00:21<00:05,  2.62s/it]\u001b[32m [repeated 4x across cluster]\u001b[0m\n"
     ]
    },
    {
     "name": "stdout",
     "output_type": "stream",
     "text": [
      "\u001b[36m(launch_and_fit pid=10988)\u001b[0m \tTrain Epoch: 8 \tTrain_loss: 1.6338 | Train_acc: 45.8523 % | Validation_loss: 1.8443 | Validation_acc: 38.8889 %\u001b[32m [repeated 4x across cluster]\u001b[0m\n"
     ]
    },
    {
     "name": "stderr",
     "output_type": "stream",
     "text": [
      "100%|\u001b[34m██████████\u001b[0m| 10/10 [00:26<00:00,  2.64s/it]\u001b[32m [repeated 4x across cluster]\u001b[0m\n"
     ]
    },
    {
     "name": "stdout",
     "output_type": "stream",
     "text": [
      "\u001b[36m(launch_and_fit pid=10988)\u001b[0m save graph in  results/FL/\n",
      "\u001b[36m(launch_and_fit pid=10988)\u001b[0m \tTrain Epoch: 10 \tTrain_loss: 1.6188 | Train_acc: 45.5114 % | Validation_loss: 1.8047 | Validation_acc: 40.9722 %\u001b[32m [repeated 4x across cluster]\u001b[0m\n",
      "\u001b[36m(launch_and_fit pid=11065)\u001b[0m Run WITHOUT homomorphic encryption\n",
      "\u001b[36m(launch_and_fit pid=11065)\u001b[0m  To get the checkpoint\n",
      "\u001b[36m(launch_and_fit pid=10990)\u001b[0m save graph in  results/FL/\n",
      "\u001b[36m(launch_and_fit pid=10990)\u001b[0m \tTrain Epoch: 10 \tTrain_loss: 1.6257 | Train_acc: 44.8864 % | Validation_loss: 1.7635 | Validation_acc: 38.1944 %\n",
      "\u001b[36m(launch_and_fit pid=11065)\u001b[0m [Client 4, round 15] fit, config: {'learning_rate': 0.003, 'batch_size': '16', 'server_round': 15, 'local_epochs': 10}\n",
      "\u001b[36m(launch_and_fit pid=11065)\u001b[0m Updated model\n"
     ]
    },
    {
     "name": "stderr",
     "output_type": "stream",
     "text": [
      "  0%|\u001b[34m          \u001b[0m| 0/10 [00:00<?, ?it/s]\n",
      "100%|\u001b[34m██████████\u001b[0m| 10/10 [00:26<00:00,  2.63s/it]\n"
     ]
    },
    {
     "name": "stdout",
     "output_type": "stream",
     "text": [
      "\u001b[36m(launch_and_fit pid=11065)\u001b[0m \tTrain Epoch: 1 \tTrain_loss: 1.7277 | Train_acc: 37.7273 % | Validation_loss: 1.6612 | Validation_acc: 42.3611 %\n"
     ]
    },
    {
     "name": "stderr",
     "output_type": "stream",
     "text": [
      " 10%|\u001b[34m█         \u001b[0m| 1/10 [00:02<00:25,  2.85s/it]\n"
     ]
    },
    {
     "name": "stdout",
     "output_type": "stream",
     "text": [
      "\u001b[36m(launch_and_fit pid=11066)\u001b[0m Run WITHOUT homomorphic encryption\n",
      "\u001b[36m(launch_and_fit pid=11066)\u001b[0m  To get the checkpoint\n",
      "\u001b[36m(launch_and_fit pid=11066)\u001b[0m [Client 5, round 15] fit, config: {'learning_rate': 0.003, 'batch_size': '16', 'server_round': 15, 'local_epochs': 10}\n",
      "\u001b[36m(launch_and_fit pid=11066)\u001b[0m Updated model\n"
     ]
    },
    {
     "name": "stderr",
     "output_type": "stream",
     "text": [
      "  0%|\u001b[34m          \u001b[0m| 0/10 [00:00<?, ?it/s]\n"
     ]
    },
    {
     "name": "stdout",
     "output_type": "stream",
     "text": [
      "\u001b[36m(launch_and_fit pid=11065)\u001b[0m \tTrain Epoch: 3 \tTrain_loss: 1.7084 | Train_acc: 37.7557 % | Validation_loss: 1.7144 | Validation_acc: 40.2778 %\u001b[32m [repeated 4x across cluster]\u001b[0m\n"
     ]
    },
    {
     "name": "stderr",
     "output_type": "stream",
     "text": [
      " 30%|\u001b[34m███       \u001b[0m| 3/10 [00:08<00:19,  2.77s/it]\u001b[32m [repeated 4x across cluster]\u001b[0m\n"
     ]
    },
    {
     "name": "stdout",
     "output_type": "stream",
     "text": [
      "\u001b[36m(launch_and_fit pid=11065)\u001b[0m \tTrain Epoch: 5 \tTrain_loss: 1.6810 | Train_acc: 39.9432 % | Validation_loss: 1.6653 | Validation_acc: 42.3611 %\u001b[32m [repeated 4x across cluster]\u001b[0m\n"
     ]
    },
    {
     "name": "stderr",
     "output_type": "stream",
     "text": [
      " 50%|\u001b[34m█████     \u001b[0m| 5/10 [00:13<00:13,  2.62s/it]\u001b[32m [repeated 4x across cluster]\u001b[0m\n"
     ]
    },
    {
     "name": "stdout",
     "output_type": "stream",
     "text": [
      "\u001b[36m(launch_and_fit pid=11065)\u001b[0m \tTrain Epoch: 7 \tTrain_loss: 1.6772 | Train_acc: 41.9318 % | Validation_loss: 1.6354 | Validation_acc: 42.3611 %\u001b[32m [repeated 5x across cluster]\u001b[0m\n"
     ]
    },
    {
     "name": "stderr",
     "output_type": "stream",
     "text": [
      " 70%|\u001b[34m███████   \u001b[0m| 7/10 [00:18<00:07,  2.57s/it]\u001b[32m [repeated 5x across cluster]\u001b[0m\n"
     ]
    },
    {
     "name": "stdout",
     "output_type": "stream",
     "text": [
      "\u001b[36m(launch_and_fit pid=11066)\u001b[0m \tTrain Epoch: 9 \tTrain_loss: 1.6637 | Train_acc: 43.0398 % | Validation_loss: 1.6854 | Validation_acc: 47.2222 %\u001b[32m [repeated 3x across cluster]\u001b[0m\n"
     ]
    },
    {
     "name": "stderr",
     "output_type": "stream",
     "text": [
      " 90%|\u001b[34m█████████ \u001b[0m| 9/10 [00:22<00:02,  2.54s/it]\u001b[32m [repeated 3x across cluster]\u001b[0m\n"
     ]
    },
    {
     "name": "stdout",
     "output_type": "stream",
     "text": [
      "\u001b[36m(launch_and_fit pid=11066)\u001b[0m save graph in  results/FL/\n"
     ]
    },
    {
     "name": "stderr",
     "output_type": "stream",
     "text": [
      "DEBUG flwr 2024-07-22 10:17:50,485 | server.py:236 | fit_round 15 received 10 results and 0 failures\n"
     ]
    },
    {
     "name": "stdout",
     "output_type": "stream",
     "text": [
      "Saving round 15 aggregated_parameters...\n",
      "Updated model\n"
     ]
    },
    {
     "name": "stderr",
     "output_type": "stream",
     "text": [
      "INFO flwr 2024-07-22 10:17:52,922 | server.py:125 | fit progress: (15, 1.7227694793180985, {'accuracy': 38.257575757575765}, 3672.4487638859996)\n",
      "DEBUG flwr 2024-07-22 10:17:52,922 | server.py:173 | evaluate_round 15: strategy sampled 10 clients (out of 10)\n"
     ]
    },
    {
     "name": "stdout",
     "output_type": "stream",
     "text": [
      "Server-side evaluation loss 1.7227694793180985 / accuracy 38.257575757575765\n",
      "\u001b[36m(launch_and_evaluate pid=11147)\u001b[0m Run WITHOUT homomorphic encryption\n",
      "\u001b[36m(launch_and_evaluate pid=11147)\u001b[0m  To get the checkpoint\n",
      "\u001b[36m(launch_and_fit pid=11065)\u001b[0m \tTrain Epoch: 10 \tTrain_loss: 1.6572 | Train_acc: 43.6648 % | Validation_loss: 1.6420 | Validation_acc: 44.4444 %\u001b[32m [repeated 3x across cluster]\u001b[0m\n",
      "\u001b[36m(launch_and_fit pid=11065)\u001b[0m save graph in  results/FL/\n",
      "\u001b[36m(launch_and_evaluate pid=11148)\u001b[0m [Client 7] evaluate, config: {}\n",
      "\u001b[36m(launch_and_evaluate pid=11148)\u001b[0m Updated model\n",
      "\u001b[36m(launch_and_evaluate pid=11218)\u001b[0m Run WITHOUT homomorphic encryption\u001b[32m [repeated 2x across cluster]\u001b[0m\n",
      "\u001b[36m(launch_and_evaluate pid=11218)\u001b[0m  To get the checkpoint\u001b[32m [repeated 2x across cluster]\u001b[0m\n",
      "\u001b[36m(launch_and_evaluate pid=11147)\u001b[0m [Client 6] evaluate, config: {}\n",
      "\u001b[36m(launch_and_evaluate pid=11147)\u001b[0m Updated model\n",
      "\u001b[36m(launch_and_evaluate pid=11218)\u001b[0m [Client 0] evaluate, config: {}\n",
      "\u001b[36m(launch_and_evaluate pid=11218)\u001b[0m Updated model\n"
     ]
    },
    {
     "name": "stderr",
     "output_type": "stream",
     "text": [
      "\u001b[36m(launch_and_evaluate pid=11220)\u001b[0m /opt/conda/lib/python3.10/site-packages/sklearn/metrics/_ranking.py:1029: UndefinedMetricWarning: No positive samples in y_true, true positive value should be meaningless\n",
      "\u001b[36m(launch_and_evaluate pid=11220)\u001b[0m   warnings.warn(\n",
      "100%|\u001b[34m██████████\u001b[0m| 10/10 [00:26<00:00,  2.63s/it]\u001b[32m [repeated 3x across cluster]\u001b[0m\n"
     ]
    },
    {
     "name": "stdout",
     "output_type": "stream",
     "text": [
      "\u001b[36m(launch_and_evaluate pid=11290)\u001b[0m Run WITHOUT homomorphic encryption\u001b[32m [repeated 2x across cluster]\u001b[0m\n",
      "\u001b[36m(launch_and_evaluate pid=11290)\u001b[0m  To get the checkpoint\u001b[32m [repeated 2x across cluster]\u001b[0m\n",
      "\u001b[36m(launch_and_evaluate pid=11220)\u001b[0m [Client 4] evaluate, config: {}\n",
      "\u001b[36m(launch_and_evaluate pid=11220)\u001b[0m Updated model\n",
      "\u001b[36m(launch_and_evaluate pid=11290)\u001b[0m [Client 2] evaluate, config: {}\n",
      "\u001b[36m(launch_and_evaluate pid=11290)\u001b[0m Updated model\n",
      "\u001b[36m(launch_and_evaluate pid=11358)\u001b[0m Run WITHOUT homomorphic encryption\u001b[32m [repeated 2x across cluster]\u001b[0m\n",
      "\u001b[36m(launch_and_evaluate pid=11358)\u001b[0m  To get the checkpoint\u001b[32m [repeated 2x across cluster]\u001b[0m\n",
      "\u001b[36m(launch_and_evaluate pid=11288)\u001b[0m [Client 5] evaluate, config: {}\n",
      "\u001b[36m(launch_and_evaluate pid=11288)\u001b[0m Updated model\n",
      "\u001b[36m(launch_and_evaluate pid=11358)\u001b[0m [Client 3] evaluate, config: {}\n",
      "\u001b[36m(launch_and_evaluate pid=11358)\u001b[0m Updated model\n"
     ]
    },
    {
     "name": "stderr",
     "output_type": "stream",
     "text": [
      "\u001b[36m(launch_and_evaluate pid=11360)\u001b[0m /opt/conda/lib/python3.10/site-packages/sklearn/metrics/_ranking.py:1029: UndefinedMetricWarning: No positive samples in y_true, true positive value should be meaningless\n",
      "\u001b[36m(launch_and_evaluate pid=11360)\u001b[0m   warnings.warn(\n"
     ]
    },
    {
     "name": "stdout",
     "output_type": "stream",
     "text": [
      "\u001b[36m(launch_and_evaluate pid=11428)\u001b[0m Run WITHOUT homomorphic encryption\u001b[32m [repeated 2x across cluster]\u001b[0m\n",
      "\u001b[36m(launch_and_evaluate pid=11428)\u001b[0m  To get the checkpoint\u001b[32m [repeated 2x across cluster]\u001b[0m\n",
      "\u001b[36m(launch_and_evaluate pid=11360)\u001b[0m [Client 9] evaluate, config: {}\n",
      "\u001b[36m(launch_and_evaluate pid=11360)\u001b[0m Updated model\n",
      "\u001b[36m(launch_and_evaluate pid=11428)\u001b[0m [Client 1] evaluate, config: {}\n",
      "\u001b[36m(launch_and_evaluate pid=11428)\u001b[0m Updated model\n"
     ]
    },
    {
     "name": "stderr",
     "output_type": "stream",
     "text": [
      "\u001b[36m(launch_and_evaluate pid=11453)\u001b[0m /opt/conda/lib/python3.10/site-packages/sklearn/metrics/_ranking.py:1029: UndefinedMetricWarning: No positive samples in y_true, true positive value should be meaningless\n",
      "\u001b[36m(launch_and_evaluate pid=11453)\u001b[0m   warnings.warn(\n",
      "DEBUG flwr 2024-07-22 10:18:52,215 | server.py:187 | evaluate_round 15 received 10 results and 0 failures\n",
      "DEBUG flwr 2024-07-22 10:18:52,216 | server.py:222 | fit_round 16: strategy sampled 10 clients (out of 10)\n"
     ]
    },
    {
     "name": "stdout",
     "output_type": "stream",
     "text": [
      "\u001b[36m(launch_and_fit pid=11508)\u001b[0m Run WITHOUT homomorphic encryption\u001b[32m [repeated 2x across cluster]\u001b[0m\n",
      "\u001b[36m(launch_and_fit pid=11508)\u001b[0m  To get the checkpoint\u001b[32m [repeated 2x across cluster]\u001b[0m\n",
      "\u001b[36m(launch_and_evaluate pid=11453)\u001b[0m [Client 8] evaluate, config: {}\n",
      "\u001b[36m(launch_and_evaluate pid=11453)\u001b[0m Updated model\n"
     ]
    },
    {
     "name": "stderr",
     "output_type": "stream",
     "text": [
      "  0%|\u001b[34m          \u001b[0m| 0/10 [00:00<?, ?it/s]\n"
     ]
    },
    {
     "name": "stdout",
     "output_type": "stream",
     "text": [
      "\u001b[36m(launch_and_fit pid=11509)\u001b[0m [Client 1, round 16] fit, config: {'learning_rate': 0.003, 'batch_size': '16', 'server_round': 16, 'local_epochs': 10}\n",
      "\u001b[36m(launch_and_fit pid=11509)\u001b[0m Updated model\n"
     ]
    },
    {
     "name": "stderr",
     "output_type": "stream",
     "text": [
      " 10%|\u001b[34m█         \u001b[0m| 1/10 [00:02<00:25,  2.82s/it]\n"
     ]
    },
    {
     "name": "stdout",
     "output_type": "stream",
     "text": [
      "\u001b[36m(launch_and_fit pid=11508)\u001b[0m \tTrain Epoch: 1 \tTrain_loss: 1.8231 | Train_acc: 29.6591 % | Validation_loss: 1.9083 | Validation_acc: 20.8333 %\n"
     ]
    },
    {
     "name": "stderr",
     "output_type": "stream",
     "text": [
      "  0%|\u001b[34m          \u001b[0m| 0/10 [00:00<?, ?it/s]\n"
     ]
    },
    {
     "name": "stdout",
     "output_type": "stream",
     "text": [
      "\u001b[36m(launch_and_fit pid=11509)\u001b[0m Run WITHOUT homomorphic encryption\n",
      "\u001b[36m(launch_and_fit pid=11509)\u001b[0m  To get the checkpoint\n",
      "\u001b[36m(launch_and_fit pid=11508)\u001b[0m [Client 5, round 16] fit, config: {'learning_rate': 0.003, 'batch_size': '16', 'server_round': 16, 'local_epochs': 10}\n",
      "\u001b[36m(launch_and_fit pid=11508)\u001b[0m Updated model\n"
     ]
    },
    {
     "name": "stderr",
     "output_type": "stream",
     "text": [
      " 30%|\u001b[34m███       \u001b[0m| 3/10 [00:08<00:19,  2.77s/it]\u001b[32m [repeated 4x across cluster]\u001b[0m\n"
     ]
    },
    {
     "name": "stdout",
     "output_type": "stream",
     "text": [
      "\u001b[36m(launch_and_fit pid=11508)\u001b[0m \tTrain Epoch: 3 \tTrain_loss: 1.7263 | Train_acc: 35.8807 % | Validation_loss: 1.7294 | Validation_acc: 38.1944 %\u001b[32m [repeated 4x across cluster]\u001b[0m\n",
      "\u001b[36m(launch_and_fit pid=11509)\u001b[0m \tTrain Epoch: 5 \tTrain_loss: 1.6878 | Train_acc: 39.9716 % | Validation_loss: 1.7961 | Validation_acc: 36.1111 %\u001b[32m [repeated 5x across cluster]\u001b[0m\n"
     ]
    },
    {
     "name": "stderr",
     "output_type": "stream",
     "text": [
      " 50%|\u001b[34m█████     \u001b[0m| 5/10 [00:13<00:13,  2.60s/it]\u001b[32m [repeated 5x across cluster]\u001b[0m\n"
     ]
    },
    {
     "name": "stdout",
     "output_type": "stream",
     "text": [
      "\u001b[36m(launch_and_fit pid=11509)\u001b[0m \tTrain Epoch: 7 \tTrain_loss: 1.7019 | Train_acc: 36.3636 % | Validation_loss: 1.8418 | Validation_acc: 31.2500 %\u001b[32m [repeated 4x across cluster]\u001b[0m\n"
     ]
    },
    {
     "name": "stderr",
     "output_type": "stream",
     "text": [
      " 70%|\u001b[34m███████   \u001b[0m| 7/10 [00:18<00:07,  2.59s/it]\u001b[32m [repeated 4x across cluster]\u001b[0m\n"
     ]
    },
    {
     "name": "stdout",
     "output_type": "stream",
     "text": [
      "\u001b[36m(launch_and_fit pid=11509)\u001b[0m \tTrain Epoch: 9 \tTrain_loss: 1.6681 | Train_acc: 42.3011 % | Validation_loss: 1.8398 | Validation_acc: 27.0833 %\u001b[32m [repeated 4x across cluster]\u001b[0m\n"
     ]
    },
    {
     "name": "stderr",
     "output_type": "stream",
     "text": [
      " 90%|\u001b[34m█████████ \u001b[0m| 9/10 [00:23<00:02,  2.58s/it]\u001b[32m [repeated 4x across cluster]\u001b[0m\n"
     ]
    },
    {
     "name": "stdout",
     "output_type": "stream",
     "text": [
      "\u001b[36m(launch_and_fit pid=11508)\u001b[0m save graph in  results/FL/\n",
      "\u001b[36m(launch_and_fit pid=11582)\u001b[0m Run WITHOUT homomorphic encryption\n",
      "\u001b[36m(launch_and_fit pid=11582)\u001b[0m  To get the checkpoint\n",
      "\u001b[36m(launch_and_fit pid=11509)\u001b[0m \tTrain Epoch: 10 \tTrain_loss: 1.6618 | Train_acc: 41.1648 % | Validation_loss: 1.7920 | Validation_acc: 36.1111 %\u001b[32m [repeated 2x across cluster]\u001b[0m\n",
      "\u001b[36m(launch_and_fit pid=11509)\u001b[0m save graph in  results/FL/\n",
      "\u001b[36m(launch_and_fit pid=11582)\u001b[0m [Client 3, round 16] fit, config: {'learning_rate': 0.003, 'batch_size': '16', 'server_round': 16, 'local_epochs': 10}\n",
      "\u001b[36m(launch_and_fit pid=11582)\u001b[0m Updated model\n"
     ]
    },
    {
     "name": "stderr",
     "output_type": "stream",
     "text": [
      "  0%|\u001b[34m          \u001b[0m| 0/10 [00:00<?, ?it/s]\n",
      "100%|\u001b[34m██████████\u001b[0m| 10/10 [00:26<00:00,  2.65s/it]\u001b[32m [repeated 2x across cluster]\u001b[0m\n"
     ]
    },
    {
     "name": "stdout",
     "output_type": "stream",
     "text": [
      "\u001b[36m(launch_and_fit pid=11607)\u001b[0m Run WITHOUT homomorphic encryption\n",
      "\u001b[36m(launch_and_fit pid=11607)\u001b[0m  To get the checkpoint\n",
      "\u001b[36m(launch_and_fit pid=11582)\u001b[0m \tTrain Epoch: 2 \tTrain_loss: 1.7054 | Train_acc: 40.3977 % | Validation_loss: 1.7674 | Validation_acc: 47.2222 %\u001b[32m [repeated 3x across cluster]\u001b[0m\n",
      "\u001b[36m(launch_and_fit pid=11607)\u001b[0m [Client 9, round 16] fit, config: {'learning_rate': 0.003, 'batch_size': '16', 'server_round': 16, 'local_epochs': 10}\n",
      "\u001b[36m(launch_and_fit pid=11607)\u001b[0m Updated model\n"
     ]
    },
    {
     "name": "stderr",
     "output_type": "stream",
     "text": [
      "  0%|\u001b[34m          \u001b[0m| 0/10 [00:00<?, ?it/s]\n",
      " 20%|\u001b[34m██        \u001b[0m| 2/10 [00:05<00:21,  2.66s/it]\u001b[32m [repeated 3x across cluster]\u001b[0m\n"
     ]
    },
    {
     "name": "stdout",
     "output_type": "stream",
     "text": [
      "\u001b[36m(launch_and_fit pid=11582)\u001b[0m \tTrain Epoch: 4 \tTrain_loss: 1.6950 | Train_acc: 40.0852 % | Validation_loss: 1.7728 | Validation_acc: 53.4722 %\u001b[32m [repeated 4x across cluster]\u001b[0m\n"
     ]
    },
    {
     "name": "stderr",
     "output_type": "stream",
     "text": [
      " 40%|\u001b[34m████      \u001b[0m| 4/10 [00:10<00:15,  2.59s/it]\u001b[32m [repeated 4x across cluster]\u001b[0m\n"
     ]
    },
    {
     "name": "stdout",
     "output_type": "stream",
     "text": [
      "\u001b[36m(launch_and_fit pid=11582)\u001b[0m \tTrain Epoch: 6 \tTrain_loss: 1.6602 | Train_acc: 41.8466 % | Validation_loss: 1.7833 | Validation_acc: 49.3056 %\u001b[32m [repeated 4x across cluster]\u001b[0m\n"
     ]
    },
    {
     "name": "stderr",
     "output_type": "stream",
     "text": [
      " 60%|\u001b[34m██████    \u001b[0m| 6/10 [00:15<00:10,  2.60s/it]\u001b[32m [repeated 4x across cluster]\u001b[0m\n"
     ]
    },
    {
     "name": "stdout",
     "output_type": "stream",
     "text": [
      "\u001b[36m(launch_and_fit pid=11582)\u001b[0m \tTrain Epoch: 8 \tTrain_loss: 1.6797 | Train_acc: 42.7557 % | Validation_loss: 1.8276 | Validation_acc: 40.2778 %\u001b[32m [repeated 4x across cluster]\u001b[0m\n"
     ]
    },
    {
     "name": "stderr",
     "output_type": "stream",
     "text": [
      " 80%|\u001b[34m████████  \u001b[0m| 8/10 [00:20<00:05,  2.53s/it]\u001b[32m [repeated 4x across cluster]\u001b[0m\n"
     ]
    },
    {
     "name": "stdout",
     "output_type": "stream",
     "text": [
      "\u001b[36m(launch_and_fit pid=11582)\u001b[0m save graph in  results/FL/\n"
     ]
    },
    {
     "name": "stderr",
     "output_type": "stream",
     "text": [
      "100%|\u001b[34m██████████\u001b[0m| 10/10 [00:26<00:00,  2.61s/it]\u001b[32m [repeated 5x across cluster]\u001b[0m\n"
     ]
    },
    {
     "name": "stdout",
     "output_type": "stream",
     "text": [
      "\u001b[36m(launch_and_fit pid=11607)\u001b[0m \tTrain Epoch: 10 \tTrain_loss: 1.6474 | Train_acc: 46.1458 % | Validation_loss: 1.6453 | Validation_acc: 36.1111 %\u001b[32m [repeated 5x across cluster]\u001b[0m\n",
      "\u001b[36m(launch_and_fit pid=11656)\u001b[0m Run WITHOUT homomorphic encryption\n",
      "\u001b[36m(launch_and_fit pid=11656)\u001b[0m  To get the checkpoint\n",
      "\u001b[36m(launch_and_fit pid=11607)\u001b[0m save graph in  results/FL/\n",
      "\u001b[36m(launch_and_fit pid=11656)\u001b[0m [Client 6, round 16] fit, config: {'learning_rate': 0.003, 'batch_size': '16', 'server_round': 16, 'local_epochs': 10}\n",
      "\u001b[36m(launch_and_fit pid=11656)\u001b[0m Updated model\n"
     ]
    },
    {
     "name": "stderr",
     "output_type": "stream",
     "text": [
      "  0%|\u001b[34m          \u001b[0m| 0/10 [00:00<?, ?it/s]\n"
     ]
    },
    {
     "name": "stdout",
     "output_type": "stream",
     "text": [
      "\u001b[36m(launch_and_fit pid=11656)\u001b[0m \tTrain Epoch: 1 \tTrain_loss: 1.6837 | Train_acc: 43.6364 % | Validation_loss: 1.7888 | Validation_acc: 43.0556 %\n"
     ]
    },
    {
     "name": "stderr",
     "output_type": "stream",
     "text": [
      " 10%|\u001b[34m█         \u001b[0m| 1/10 [00:03<00:27,  3.02s/it]\n"
     ]
    },
    {
     "name": "stdout",
     "output_type": "stream",
     "text": [
      "\u001b[36m(launch_and_fit pid=11681)\u001b[0m Run WITHOUT homomorphic encryption\n",
      "\u001b[36m(launch_and_fit pid=11681)\u001b[0m  To get the checkpoint\n",
      "\u001b[36m(launch_and_fit pid=11681)\u001b[0m [Client 7, round 16] fit, config: {'learning_rate': 0.003, 'batch_size': '16', 'server_round': 16, 'local_epochs': 10}\n",
      "\u001b[36m(launch_and_fit pid=11681)\u001b[0m Updated model\n"
     ]
    },
    {
     "name": "stderr",
     "output_type": "stream",
     "text": [
      "  0%|\u001b[34m          \u001b[0m| 0/10 [00:00<?, ?it/s]\n"
     ]
    },
    {
     "name": "stdout",
     "output_type": "stream",
     "text": [
      "\u001b[36m(launch_and_fit pid=11656)\u001b[0m \tTrain Epoch: 3 \tTrain_loss: 1.6910 | Train_acc: 43.0682 % | Validation_loss: 1.8326 | Validation_acc: 38.8889 %\u001b[32m [repeated 4x across cluster]\u001b[0m\n"
     ]
    },
    {
     "name": "stderr",
     "output_type": "stream",
     "text": [
      " 30%|\u001b[34m███       \u001b[0m| 3/10 [00:08<00:18,  2.64s/it]\u001b[32m [repeated 4x across cluster]\u001b[0m\n",
      " 50%|\u001b[34m█████     \u001b[0m| 5/10 [00:13<00:12,  2.55s/it]\u001b[32m [repeated 5x across cluster]\u001b[0m\n"
     ]
    },
    {
     "name": "stdout",
     "output_type": "stream",
     "text": [
      "\u001b[36m(launch_and_fit pid=11681)\u001b[0m \tTrain Epoch: 5 \tTrain_loss: 1.6860 | Train_acc: 42.1591 % | Validation_loss: 1.5506 | Validation_acc: 51.3889 %\u001b[32m [repeated 5x across cluster]\u001b[0m\n"
     ]
    },
    {
     "name": "stderr",
     "output_type": "stream",
     "text": [
      " 70%|\u001b[34m███████   \u001b[0m| 7/10 [00:18<00:07,  2.55s/it]\u001b[32m [repeated 4x across cluster]\u001b[0m\n"
     ]
    },
    {
     "name": "stdout",
     "output_type": "stream",
     "text": [
      "\u001b[36m(launch_and_fit pid=11681)\u001b[0m \tTrain Epoch: 7 \tTrain_loss: 1.6787 | Train_acc: 45.1136 % | Validation_loss: 1.5322 | Validation_acc: 53.4722 %\u001b[32m [repeated 4x across cluster]\u001b[0m\n"
     ]
    },
    {
     "name": "stderr",
     "output_type": "stream",
     "text": [
      " 90%|\u001b[34m█████████ \u001b[0m| 9/10 [00:23<00:02,  2.54s/it]\u001b[32m [repeated 4x across cluster]\u001b[0m\n"
     ]
    },
    {
     "name": "stdout",
     "output_type": "stream",
     "text": [
      "\u001b[36m(launch_and_fit pid=11681)\u001b[0m \tTrain Epoch: 9 \tTrain_loss: 1.6667 | Train_acc: 44.6023 % | Validation_loss: 1.5441 | Validation_acc: 53.4722 %\u001b[32m [repeated 4x across cluster]\u001b[0m\n",
      "\u001b[36m(launch_and_fit pid=11656)\u001b[0m save graph in  results/FL/\n",
      "\u001b[36m(launch_and_fit pid=11730)\u001b[0m Run WITHOUT homomorphic encryption\n",
      "\u001b[36m(launch_and_fit pid=11730)\u001b[0m  To get the checkpoint\n",
      "\u001b[36m(launch_and_fit pid=11681)\u001b[0m \tTrain Epoch: 10 \tTrain_loss: 1.6672 | Train_acc: 44.4886 % | Validation_loss: 1.5246 | Validation_acc: 51.3889 %\u001b[32m [repeated 2x across cluster]\u001b[0m\n",
      "\u001b[36m(launch_and_fit pid=11681)\u001b[0m save graph in  results/FL/\n"
     ]
    },
    {
     "name": "stderr",
     "output_type": "stream",
     "text": [
      "  0%|\u001b[34m          \u001b[0m| 0/10 [00:00<?, ?it/s]\n",
      "100%|\u001b[34m██████████\u001b[0m| 10/10 [00:26<00:00,  2.61s/it]\u001b[32m [repeated 2x across cluster]\u001b[0m\n"
     ]
    },
    {
     "name": "stdout",
     "output_type": "stream",
     "text": [
      "\u001b[36m(launch_and_fit pid=11730)\u001b[0m [Client 8, round 16] fit, config: {'learning_rate': 0.003, 'batch_size': '16', 'server_round': 16, 'local_epochs': 10}\n",
      "\u001b[36m(launch_and_fit pid=11730)\u001b[0m Updated model\n"
     ]
    },
    {
     "name": "stderr",
     "output_type": "stream",
     "text": [
      "  0%|\u001b[34m          \u001b[0m| 0/10 [00:00<?, ?it/s]\n",
      " 20%|\u001b[34m██        \u001b[0m| 2/10 [00:05<00:21,  2.70s/it]\u001b[32m [repeated 3x across cluster]\u001b[0m\n"
     ]
    },
    {
     "name": "stdout",
     "output_type": "stream",
     "text": [
      "\u001b[36m(launch_and_fit pid=11755)\u001b[0m Run WITHOUT homomorphic encryption\n",
      "\u001b[36m(launch_and_fit pid=11755)\u001b[0m  To get the checkpoint\n",
      "\u001b[36m(launch_and_fit pid=11730)\u001b[0m \tTrain Epoch: 2 \tTrain_loss: 1.7238 | Train_acc: 36.8182 % | Validation_loss: 1.7678 | Validation_acc: 25.0000 %\u001b[32m [repeated 3x across cluster]\u001b[0m\n",
      "\u001b[36m(launch_and_fit pid=11755)\u001b[0m [Client 2, round 16] fit, config: {'learning_rate': 0.003, 'batch_size': '16', 'server_round': 16, 'local_epochs': 10}\n",
      "\u001b[36m(launch_and_fit pid=11755)\u001b[0m Updated model\n",
      "\u001b[36m(launch_and_fit pid=11755)\u001b[0m \tTrain Epoch: 4 \tTrain_loss: 1.6621 | Train_acc: 41.5057 % | Validation_loss: 1.6594 | Validation_acc: 43.0556 %\u001b[32m [repeated 5x across cluster]\u001b[0m\n"
     ]
    },
    {
     "name": "stderr",
     "output_type": "stream",
     "text": [
      " 40%|\u001b[34m████      \u001b[0m| 4/10 [00:10<00:14,  2.48s/it]\u001b[32m [repeated 5x across cluster]\u001b[0m\n",
      " 70%|\u001b[34m███████   \u001b[0m| 7/10 [00:18<00:07,  2.56s/it]\u001b[32m [repeated 5x across cluster]\u001b[0m\n"
     ]
    },
    {
     "name": "stdout",
     "output_type": "stream",
     "text": [
      "\u001b[36m(launch_and_fit pid=11730)\u001b[0m \tTrain Epoch: 7 \tTrain_loss: 1.6655 | Train_acc: 40.8807 % | Validation_loss: 1.7663 | Validation_acc: 22.9167 %\u001b[32m [repeated 5x across cluster]\u001b[0m\n"
     ]
    },
    {
     "name": "stderr",
     "output_type": "stream",
     "text": [
      " 90%|\u001b[34m█████████ \u001b[0m| 9/10 [00:23<00:02,  2.60s/it]\u001b[32m [repeated 4x across cluster]\u001b[0m\n"
     ]
    },
    {
     "name": "stdout",
     "output_type": "stream",
     "text": [
      "\u001b[36m(launch_and_fit pid=11730)\u001b[0m \tTrain Epoch: 9 \tTrain_loss: 1.6509 | Train_acc: 42.4148 % | Validation_loss: 1.7512 | Validation_acc: 40.2778 %\u001b[32m [repeated 4x across cluster]\u001b[0m\n",
      "\u001b[36m(launch_and_fit pid=11730)\u001b[0m save graph in  results/FL/\n",
      "\u001b[36m(launch_and_fit pid=11804)\u001b[0m Run WITHOUT homomorphic encryption\n",
      "\u001b[36m(launch_and_fit pid=11804)\u001b[0m  To get the checkpoint\n",
      "\u001b[36m(launch_and_fit pid=11755)\u001b[0m \tTrain Epoch: 10 \tTrain_loss: 1.6354 | Train_acc: 43.8352 % | Validation_loss: 1.6741 | Validation_acc: 38.8889 %\u001b[32m [repeated 3x across cluster]\u001b[0m\n",
      "\u001b[36m(launch_and_fit pid=11755)\u001b[0m save graph in  results/FL/\n",
      "\u001b[36m(launch_and_fit pid=11804)\u001b[0m [Client 4, round 16] fit, config: {'learning_rate': 0.003, 'batch_size': '16', 'server_round': 16, 'local_epochs': 10}\n",
      "\u001b[36m(launch_and_fit pid=11804)\u001b[0m Updated model\n"
     ]
    },
    {
     "name": "stderr",
     "output_type": "stream",
     "text": [
      "  0%|\u001b[34m          \u001b[0m| 0/10 [00:00<?, ?it/s]\n",
      "100%|\u001b[34m██████████\u001b[0m| 10/10 [00:25<00:00,  2.54s/it]\u001b[32m [repeated 3x across cluster]\u001b[0m\n"
     ]
    },
    {
     "name": "stdout",
     "output_type": "stream",
     "text": [
      "\u001b[36m(launch_and_fit pid=11806)\u001b[0m Run WITHOUT homomorphic encryption\n",
      "\u001b[36m(launch_and_fit pid=11806)\u001b[0m  To get the checkpoint\n",
      "\u001b[36m(launch_and_fit pid=11804)\u001b[0m \tTrain Epoch: 2 \tTrain_loss: 1.6863 | Train_acc: 41.3352 % | Validation_loss: 1.6656 | Validation_acc: 42.3611 %\u001b[32m [repeated 3x across cluster]\u001b[0m\n",
      "\u001b[36m(launch_and_fit pid=11806)\u001b[0m [Client 0, round 16] fit, config: {'learning_rate': 0.003, 'batch_size': '16', 'server_round': 16, 'local_epochs': 10}\n",
      "\u001b[36m(launch_and_fit pid=11806)\u001b[0m Updated model\n"
     ]
    },
    {
     "name": "stderr",
     "output_type": "stream",
     "text": [
      "  0%|\u001b[34m          \u001b[0m| 0/10 [00:00<?, ?it/s]\n",
      " 20%|\u001b[34m██        \u001b[0m| 2/10 [00:05<00:22,  2.76s/it]\u001b[32m [repeated 3x across cluster]\u001b[0m\n"
     ]
    },
    {
     "name": "stdout",
     "output_type": "stream",
     "text": [
      "\u001b[36m(launch_and_fit pid=11804)\u001b[0m \tTrain Epoch: 4 \tTrain_loss: 1.6745 | Train_acc: 41.7898 % | Validation_loss: 1.6248 | Validation_acc: 48.6111 %\u001b[32m [repeated 4x across cluster]\u001b[0m\n"
     ]
    },
    {
     "name": "stderr",
     "output_type": "stream",
     "text": [
      " 40%|\u001b[34m████      \u001b[0m| 4/10 [00:10<00:15,  2.66s/it]\u001b[32m [repeated 4x across cluster]\u001b[0m\n"
     ]
    },
    {
     "name": "stdout",
     "output_type": "stream",
     "text": [
      "\u001b[36m(launch_and_fit pid=11804)\u001b[0m \tTrain Epoch: 6 \tTrain_loss: 1.6855 | Train_acc: 40.8523 % | Validation_loss: 1.6878 | Validation_acc: 42.3611 %\u001b[32m [repeated 4x across cluster]\u001b[0m\n"
     ]
    },
    {
     "name": "stderr",
     "output_type": "stream",
     "text": [
      " 60%|\u001b[34m██████    \u001b[0m| 6/10 [00:16<00:10,  2.72s/it]\u001b[32m [repeated 4x across cluster]\u001b[0m\n",
      " 80%|\u001b[34m████████  \u001b[0m| 8/10 [00:21<00:05,  2.58s/it]\u001b[32m [repeated 5x across cluster]\u001b[0m\n"
     ]
    },
    {
     "name": "stdout",
     "output_type": "stream",
     "text": [
      "\u001b[36m(launch_and_fit pid=11806)\u001b[0m \tTrain Epoch: 8 \tTrain_loss: 1.6476 | Train_acc: 44.1193 % | Validation_loss: 1.8085 | Validation_acc: 27.0833 %\u001b[32m [repeated 5x across cluster]\u001b[0m\n",
      "\u001b[36m(launch_and_fit pid=11804)\u001b[0m save graph in  results/FL/\n"
     ]
    },
    {
     "name": "stderr",
     "output_type": "stream",
     "text": [
      "100%|\u001b[34m██████████\u001b[0m| 10/10 [00:26<00:00,  2.62s/it]\u001b[32m [repeated 4x across cluster]\u001b[0m\n"
     ]
    },
    {
     "name": "stdout",
     "output_type": "stream",
     "text": [
      "\u001b[36m(launch_and_fit pid=11806)\u001b[0m \tTrain Epoch: 10 \tTrain_loss: 1.6412 | Train_acc: 41.7898 % | Validation_loss: 1.7720 | Validation_acc: 36.1111 %\u001b[32m [repeated 4x across cluster]\u001b[0m\n"
     ]
    },
    {
     "name": "stderr",
     "output_type": "stream",
     "text": [
      "DEBUG flwr 2024-07-22 10:21:58,121 | server.py:236 | fit_round 16 received 10 results and 0 failures\n"
     ]
    },
    {
     "name": "stdout",
     "output_type": "stream",
     "text": [
      "Saving round 16 aggregated_parameters...\n",
      "Updated model\n"
     ]
    },
    {
     "name": "stderr",
     "output_type": "stream",
     "text": [
      "INFO flwr 2024-07-22 10:22:00,488 | server.py:125 | fit progress: (16, 1.7190500822934238, {'accuracy': 38.59848484848485}, 3920.0155652070002)\n",
      "DEBUG flwr 2024-07-22 10:22:00,489 | server.py:173 | evaluate_round 16: strategy sampled 10 clients (out of 10)\n"
     ]
    },
    {
     "name": "stdout",
     "output_type": "stream",
     "text": [
      "Server-side evaluation loss 1.7190500822934238 / accuracy 38.59848484848485\n",
      "\u001b[36m(launch_and_evaluate pid=11885)\u001b[0m Run WITHOUT homomorphic encryption\n",
      "\u001b[36m(launch_and_evaluate pid=11885)\u001b[0m  To get the checkpoint\n",
      "\u001b[36m(launch_and_fit pid=11806)\u001b[0m save graph in  results/FL/\n",
      "\u001b[36m(launch_and_evaluate pid=11885)\u001b[0m [Client 3] evaluate, config: {}\n",
      "\u001b[36m(launch_and_evaluate pid=11885)\u001b[0m Updated model\n"
     ]
    },
    {
     "name": "stderr",
     "output_type": "stream",
     "text": [
      "\u001b[36m(launch_and_evaluate pid=11888)\u001b[0m /opt/conda/lib/python3.10/site-packages/sklearn/metrics/_ranking.py:1029: UndefinedMetricWarning: No positive samples in y_true, true positive value should be meaningless\n",
      "\u001b[36m(launch_and_evaluate pid=11888)\u001b[0m   warnings.warn(\n"
     ]
    },
    {
     "name": "stdout",
     "output_type": "stream",
     "text": [
      "\u001b[36m(launch_and_evaluate pid=11959)\u001b[0m Run WITHOUT homomorphic encryption\u001b[32m [repeated 2x across cluster]\u001b[0m\n",
      "\u001b[36m(launch_and_evaluate pid=11959)\u001b[0m  To get the checkpoint\u001b[32m [repeated 2x across cluster]\u001b[0m\n",
      "\u001b[36m(launch_and_evaluate pid=11888)\u001b[0m [Client 9] evaluate, config: {}\n",
      "\u001b[36m(launch_and_evaluate pid=11888)\u001b[0m Updated model\n",
      "\u001b[36m(launch_and_evaluate pid=11957)\u001b[0m [Client 1] evaluate, config: {}\n",
      "\u001b[36m(launch_and_evaluate pid=11957)\u001b[0m Updated model\n",
      "\u001b[36m(launch_and_evaluate pid=12028)\u001b[0m Run WITHOUT homomorphic encryption\u001b[32m [repeated 2x across cluster]\u001b[0m\n",
      "\u001b[36m(launch_and_evaluate pid=12028)\u001b[0m  To get the checkpoint\u001b[32m [repeated 2x across cluster]\u001b[0m\n",
      "\u001b[36m(launch_and_evaluate pid=11959)\u001b[0m [Client 7] evaluate, config: {}\n",
      "\u001b[36m(launch_and_evaluate pid=11959)\u001b[0m Updated model\n",
      "\u001b[36m(launch_and_evaluate pid=12028)\u001b[0m [Client 0] evaluate, config: {}\n",
      "\u001b[36m(launch_and_evaluate pid=12028)\u001b[0m Updated model\n"
     ]
    },
    {
     "name": "stderr",
     "output_type": "stream",
     "text": [
      "\u001b[36m(launch_and_evaluate pid=12030)\u001b[0m /opt/conda/lib/python3.10/site-packages/sklearn/metrics/_ranking.py:1029: UndefinedMetricWarning: No positive samples in y_true, true positive value should be meaningless\n",
      "\u001b[36m(launch_and_evaluate pid=12030)\u001b[0m   warnings.warn(\n"
     ]
    },
    {
     "name": "stdout",
     "output_type": "stream",
     "text": [
      "\u001b[36m(launch_and_evaluate pid=12098)\u001b[0m Run WITHOUT homomorphic encryption\u001b[32m [repeated 2x across cluster]\u001b[0m\n",
      "\u001b[36m(launch_and_evaluate pid=12098)\u001b[0m  To get the checkpoint\u001b[32m [repeated 2x across cluster]\u001b[0m\n",
      "\u001b[36m(launch_and_evaluate pid=12030)\u001b[0m [Client 8] evaluate, config: {}\n",
      "\u001b[36m(launch_and_evaluate pid=12030)\u001b[0m Updated model\n",
      "\u001b[36m(launch_and_evaluate pid=12098)\u001b[0m [Client 4] evaluate, config: {}\n",
      "\u001b[36m(launch_and_evaluate pid=12098)\u001b[0m Updated model\n"
     ]
    },
    {
     "name": "stderr",
     "output_type": "stream",
     "text": [
      "\u001b[36m(launch_and_evaluate pid=12098)\u001b[0m /opt/conda/lib/python3.10/site-packages/sklearn/metrics/_ranking.py:1029: UndefinedMetricWarning: No positive samples in y_true, true positive value should be meaningless\n",
      "\u001b[36m(launch_and_evaluate pid=12098)\u001b[0m   warnings.warn(\n"
     ]
    },
    {
     "name": "stdout",
     "output_type": "stream",
     "text": [
      "\u001b[36m(launch_and_evaluate pid=12168)\u001b[0m Run WITHOUT homomorphic encryption\u001b[32m [repeated 2x across cluster]\u001b[0m\n",
      "\u001b[36m(launch_and_evaluate pid=12168)\u001b[0m  To get the checkpoint\u001b[32m [repeated 2x across cluster]\u001b[0m\n",
      "\u001b[36m(launch_and_evaluate pid=12100)\u001b[0m [Client 6] evaluate, config: {}\n",
      "\u001b[36m(launch_and_evaluate pid=12100)\u001b[0m Updated model\n",
      "\u001b[36m(launch_and_evaluate pid=12168)\u001b[0m [Client 2] evaluate, config: {}\n",
      "\u001b[36m(launch_and_evaluate pid=12168)\u001b[0m Updated model\n"
     ]
    },
    {
     "name": "stderr",
     "output_type": "stream",
     "text": [
      "DEBUG flwr 2024-07-22 10:22:59,481 | server.py:187 | evaluate_round 16 received 10 results and 0 failures\n",
      "DEBUG flwr 2024-07-22 10:22:59,483 | server.py:222 | fit_round 17: strategy sampled 10 clients (out of 10)\n"
     ]
    },
    {
     "name": "stdout",
     "output_type": "stream",
     "text": [
      "\u001b[36m(launch_and_fit pid=12247)\u001b[0m Run WITHOUT homomorphic encryption\u001b[32m [repeated 2x across cluster]\u001b[0m\n",
      "\u001b[36m(launch_and_fit pid=12247)\u001b[0m  To get the checkpoint\u001b[32m [repeated 2x across cluster]\u001b[0m\n",
      "\u001b[36m(launch_and_evaluate pid=12170)\u001b[0m [Client 5] evaluate, config: {}\n",
      "\u001b[36m(launch_and_evaluate pid=12170)\u001b[0m Updated model\n",
      "\u001b[36m(launch_and_fit pid=12247)\u001b[0m [Client 2, round 17] fit, config: {'learning_rate': 0.003, 'batch_size': '16', 'server_round': 17, 'local_epochs': 10}\n",
      "\u001b[36m(launch_and_fit pid=12247)\u001b[0m Updated model\n"
     ]
    },
    {
     "name": "stderr",
     "output_type": "stream",
     "text": [
      "  0%|\u001b[34m          \u001b[0m| 0/10 [00:00<?, ?it/s]\n"
     ]
    },
    {
     "name": "stdout",
     "output_type": "stream",
     "text": [
      "\u001b[36m(launch_and_fit pid=12247)\u001b[0m \tTrain Epoch: 1 \tTrain_loss: 1.7055 | Train_acc: 39.9432 % | Validation_loss: 1.6526 | Validation_acc: 43.0556 %\n"
     ]
    },
    {
     "name": "stderr",
     "output_type": "stream",
     "text": [
      " 10%|\u001b[34m█         \u001b[0m| 1/10 [00:02<00:25,  2.83s/it]\n"
     ]
    },
    {
     "name": "stdout",
     "output_type": "stream",
     "text": [
      "\u001b[36m(launch_and_fit pid=12248)\u001b[0m Run WITHOUT homomorphic encryption\n",
      "\u001b[36m(launch_and_fit pid=12248)\u001b[0m  To get the checkpoint\n",
      "\u001b[36m(launch_and_fit pid=12248)\u001b[0m [Client 9, round 17] fit, config: {'learning_rate': 0.003, 'batch_size': '16', 'server_round': 17, 'local_epochs': 10}\n",
      "\u001b[36m(launch_and_fit pid=12248)\u001b[0m Updated model\n"
     ]
    },
    {
     "name": "stderr",
     "output_type": "stream",
     "text": [
      "  0%|\u001b[34m          \u001b[0m| 0/10 [00:00<?, ?it/s]\n"
     ]
    },
    {
     "name": "stdout",
     "output_type": "stream",
     "text": [
      "\u001b[36m(launch_and_fit pid=12247)\u001b[0m \tTrain Epoch: 3 \tTrain_loss: 1.6726 | Train_acc: 42.4432 % | Validation_loss: 1.6551 | Validation_acc: 43.0556 %\u001b[32m [repeated 4x across cluster]\u001b[0m\n"
     ]
    },
    {
     "name": "stderr",
     "output_type": "stream",
     "text": [
      " 30%|\u001b[34m███       \u001b[0m| 3/10 [00:07<00:18,  2.62s/it]\u001b[32m [repeated 4x across cluster]\u001b[0m\n"
     ]
    },
    {
     "name": "stdout",
     "output_type": "stream",
     "text": [
      "\u001b[36m(launch_and_fit pid=12247)\u001b[0m \tTrain Epoch: 5 \tTrain_loss: 1.6473 | Train_acc: 43.1818 % | Validation_loss: 1.6519 | Validation_acc: 40.9722 %\u001b[32m [repeated 4x across cluster]\u001b[0m\n"
     ]
    },
    {
     "name": "stderr",
     "output_type": "stream",
     "text": [
      " 50%|\u001b[34m█████     \u001b[0m| 5/10 [00:13<00:13,  2.68s/it]\u001b[32m [repeated 4x across cluster]\u001b[0m\n"
     ]
    },
    {
     "name": "stdout",
     "output_type": "stream",
     "text": [
      "\u001b[36m(launch_and_fit pid=12247)\u001b[0m \tTrain Epoch: 7 \tTrain_loss: 1.6465 | Train_acc: 45.2273 % | Validation_loss: 1.6532 | Validation_acc: 43.0556 %\u001b[32m [repeated 4x across cluster]\u001b[0m\n"
     ]
    },
    {
     "name": "stderr",
     "output_type": "stream",
     "text": [
      " 70%|\u001b[34m███████   \u001b[0m| 7/10 [00:18<00:07,  2.66s/it]\u001b[32m [repeated 4x across cluster]\u001b[0m\n"
     ]
    },
    {
     "name": "stdout",
     "output_type": "stream",
     "text": [
      "\u001b[36m(launch_and_fit pid=12247)\u001b[0m save graph in  results/FL/\n",
      "\u001b[36m(launch_and_fit pid=12247)\u001b[0m \tTrain Epoch: 10 \tTrain_loss: 1.6336 | Train_acc: 43.5227 % | Validation_loss: 1.6567 | Validation_acc: 40.9722 %\u001b[32m [repeated 6x across cluster]\u001b[0m\n"
     ]
    },
    {
     "name": "stderr",
     "output_type": "stream",
     "text": [
      "100%|\u001b[34m██████████\u001b[0m| 10/10 [00:26<00:00,  2.64s/it]\u001b[32m [repeated 6x across cluster]\u001b[0m\n"
     ]
    },
    {
     "name": "stdout",
     "output_type": "stream",
     "text": [
      "\u001b[36m(launch_and_fit pid=12320)\u001b[0m Run WITHOUT homomorphic encryption\n",
      "\u001b[36m(launch_and_fit pid=12320)\u001b[0m  To get the checkpoint\n",
      "\u001b[36m(launch_and_fit pid=12248)\u001b[0m save graph in  results/FL/\n",
      "\u001b[36m(launch_and_fit pid=12248)\u001b[0m \tTrain Epoch: 10 \tTrain_loss: 1.6440 | Train_acc: 43.8542 % | Validation_loss: 1.6617 | Validation_acc: 36.1111 %\n"
     ]
    },
    {
     "name": "stderr",
     "output_type": "stream",
     "text": [
      "  0%|\u001b[34m          \u001b[0m| 0/10 [00:00<?, ?it/s]\n",
      "100%|\u001b[34m██████████\u001b[0m| 10/10 [00:26<00:00,  2.65s/it]\n"
     ]
    },
    {
     "name": "stdout",
     "output_type": "stream",
     "text": [
      "\u001b[36m(launch_and_fit pid=12320)\u001b[0m [Client 6, round 17] fit, config: {'learning_rate': 0.003, 'batch_size': '16', 'server_round': 17, 'local_epochs': 10}\n",
      "\u001b[36m(launch_and_fit pid=12320)\u001b[0m Updated model\n"
     ]
    },
    {
     "name": "stderr",
     "output_type": "stream",
     "text": [
      " 10%|\u001b[34m█         \u001b[0m| 1/10 [00:02<00:25,  2.86s/it]\n"
     ]
    },
    {
     "name": "stdout",
     "output_type": "stream",
     "text": [
      "\u001b[36m(launch_and_fit pid=12320)\u001b[0m \tTrain Epoch: 1 \tTrain_loss: 1.6922 | Train_acc: 43.8352 % | Validation_loss: 1.9282 | Validation_acc: 36.1111 %\n"
     ]
    },
    {
     "name": "stderr",
     "output_type": "stream",
     "text": [
      "  0%|\u001b[34m          \u001b[0m| 0/10 [00:00<?, ?it/s]\n"
     ]
    },
    {
     "name": "stdout",
     "output_type": "stream",
     "text": [
      "\u001b[36m(launch_and_fit pid=12322)\u001b[0m Run WITHOUT homomorphic encryption\n",
      "\u001b[36m(launch_and_fit pid=12322)\u001b[0m  To get the checkpoint\n",
      "\u001b[36m(launch_and_fit pid=12322)\u001b[0m [Client 3, round 17] fit, config: {'learning_rate': 0.003, 'batch_size': '16', 'server_round': 17, 'local_epochs': 10}\n",
      "\u001b[36m(launch_and_fit pid=12322)\u001b[0m Updated model\n"
     ]
    },
    {
     "name": "stderr",
     "output_type": "stream",
     "text": [
      " 30%|\u001b[34m███       \u001b[0m| 3/10 [00:08<00:19,  2.81s/it]\u001b[32m [repeated 4x across cluster]\u001b[0m\n"
     ]
    },
    {
     "name": "stdout",
     "output_type": "stream",
     "text": [
      "\u001b[36m(launch_and_fit pid=12320)\u001b[0m \tTrain Epoch: 3 \tTrain_loss: 1.6497 | Train_acc: 47.1307 % | Validation_loss: 1.8113 | Validation_acc: 43.0556 %\u001b[32m [repeated 4x across cluster]\u001b[0m\n"
     ]
    },
    {
     "name": "stderr",
     "output_type": "stream",
     "text": [
      " 50%|\u001b[34m█████     \u001b[0m| 5/10 [00:13<00:13,  2.68s/it]\u001b[32m [repeated 4x across cluster]\u001b[0m\n"
     ]
    },
    {
     "name": "stdout",
     "output_type": "stream",
     "text": [
      "\u001b[36m(launch_and_fit pid=12320)\u001b[0m \tTrain Epoch: 5 \tTrain_loss: 1.6202 | Train_acc: 47.0739 % | Validation_loss: 1.8189 | Validation_acc: 40.9722 %\u001b[32m [repeated 4x across cluster]\u001b[0m\n"
     ]
    },
    {
     "name": "stderr",
     "output_type": "stream",
     "text": [
      " 70%|\u001b[34m███████   \u001b[0m| 7/10 [00:18<00:07,  2.65s/it]\u001b[32m [repeated 4x across cluster]\u001b[0m\n"
     ]
    },
    {
     "name": "stdout",
     "output_type": "stream",
     "text": [
      "\u001b[36m(launch_and_fit pid=12320)\u001b[0m \tTrain Epoch: 7 \tTrain_loss: 1.6185 | Train_acc: 48.0398 % | Validation_loss: 1.9146 | Validation_acc: 25.6944 %\u001b[32m [repeated 4x across cluster]\u001b[0m\n"
     ]
    },
    {
     "name": "stderr",
     "output_type": "stream",
     "text": [
      " 90%|\u001b[34m█████████ \u001b[0m| 9/10 [00:24<00:02,  2.71s/it]\u001b[32m [repeated 4x across cluster]\u001b[0m\n"
     ]
    },
    {
     "name": "stdout",
     "output_type": "stream",
     "text": [
      "\u001b[36m(launch_and_fit pid=12320)\u001b[0m \tTrain Epoch: 9 \tTrain_loss: 1.5941 | Train_acc: 48.4943 % | Validation_loss: 1.8282 | Validation_acc: 43.0556 %\u001b[32m [repeated 4x across cluster]\u001b[0m\n",
      "\u001b[36m(launch_and_fit pid=12320)\u001b[0m save graph in  results/FL/\n",
      "\u001b[36m(launch_and_fit pid=12394)\u001b[0m Run WITHOUT homomorphic encryption\n",
      "\u001b[36m(launch_and_fit pid=12394)\u001b[0m  To get the checkpoint\n",
      "\u001b[36m(launch_and_fit pid=12322)\u001b[0m \tTrain Epoch: 10 \tTrain_loss: 1.6554 | Train_acc: 42.8977 % | Validation_loss: 1.8084 | Validation_acc: 42.3611 %\u001b[32m [repeated 3x across cluster]\u001b[0m\n",
      "\u001b[36m(launch_and_fit pid=12322)\u001b[0m save graph in  results/FL/\n"
     ]
    },
    {
     "name": "stderr",
     "output_type": "stream",
     "text": [
      "  0%|\u001b[34m          \u001b[0m| 0/10 [00:00<?, ?it/s]\n",
      "100%|\u001b[34m██████████\u001b[0m| 10/10 [00:27<00:00,  2.71s/it]\u001b[32m [repeated 3x across cluster]\u001b[0m\n"
     ]
    },
    {
     "name": "stdout",
     "output_type": "stream",
     "text": [
      "\u001b[36m(launch_and_fit pid=12394)\u001b[0m [Client 5, round 17] fit, config: {'learning_rate': 0.003, 'batch_size': '16', 'server_round': 17, 'local_epochs': 10}\n",
      "\u001b[36m(launch_and_fit pid=12394)\u001b[0m Updated model\n"
     ]
    },
    {
     "name": "stderr",
     "output_type": "stream",
     "text": [
      "  0%|\u001b[34m          \u001b[0m| 0/10 [00:00<?, ?it/s]\n",
      " 20%|\u001b[34m██        \u001b[0m| 2/10 [00:05<00:22,  2.77s/it]\u001b[32m [repeated 3x across cluster]\u001b[0m\n"
     ]
    },
    {
     "name": "stdout",
     "output_type": "stream",
     "text": [
      "\u001b[36m(launch_and_fit pid=12396)\u001b[0m Run WITHOUT homomorphic encryption\n",
      "\u001b[36m(launch_and_fit pid=12396)\u001b[0m  To get the checkpoint\n",
      "\u001b[36m(launch_and_fit pid=12394)\u001b[0m \tTrain Epoch: 2 \tTrain_loss: 1.7204 | Train_acc: 35.4261 % | Validation_loss: 1.7435 | Validation_acc: 49.3056 %\u001b[32m [repeated 3x across cluster]\u001b[0m\n",
      "\u001b[36m(launch_and_fit pid=12396)\u001b[0m [Client 0, round 17] fit, config: {'learning_rate': 0.003, 'batch_size': '16', 'server_round': 17, 'local_epochs': 10}\n",
      "\u001b[36m(launch_and_fit pid=12396)\u001b[0m Updated model\n"
     ]
    },
    {
     "name": "stderr",
     "output_type": "stream",
     "text": [
      " 40%|\u001b[34m████      \u001b[0m| 4/10 [00:10<00:16,  2.69s/it]\u001b[32m [repeated 4x across cluster]\u001b[0m\n"
     ]
    },
    {
     "name": "stdout",
     "output_type": "stream",
     "text": [
      "\u001b[36m(launch_and_fit pid=12394)\u001b[0m \tTrain Epoch: 4 \tTrain_loss: 1.6797 | Train_acc: 37.8693 % | Validation_loss: 1.6699 | Validation_acc: 40.2778 %\u001b[32m [repeated 4x across cluster]\u001b[0m\n"
     ]
    },
    {
     "name": "stderr",
     "output_type": "stream",
     "text": [
      " 60%|\u001b[34m██████    \u001b[0m| 6/10 [00:16<00:10,  2.67s/it]\u001b[32m [repeated 4x across cluster]\u001b[0m\n"
     ]
    },
    {
     "name": "stdout",
     "output_type": "stream",
     "text": [
      "\u001b[36m(launch_and_fit pid=12394)\u001b[0m \tTrain Epoch: 6 \tTrain_loss: 1.6678 | Train_acc: 42.4148 % | Validation_loss: 1.7549 | Validation_acc: 18.7500 %\u001b[32m [repeated 4x across cluster]\u001b[0m\n"
     ]
    },
    {
     "name": "stderr",
     "output_type": "stream",
     "text": [
      " 80%|\u001b[34m████████  \u001b[0m| 8/10 [00:21<00:05,  2.65s/it]\u001b[32m [repeated 4x across cluster]\u001b[0m\n"
     ]
    },
    {
     "name": "stdout",
     "output_type": "stream",
     "text": [
      "\u001b[36m(launch_and_fit pid=12394)\u001b[0m \tTrain Epoch: 8 \tTrain_loss: 1.6779 | Train_acc: 39.9432 % | Validation_loss: 1.6683 | Validation_acc: 51.3889 %\u001b[32m [repeated 4x across cluster]\u001b[0m\n"
     ]
    },
    {
     "name": "stderr",
     "output_type": "stream",
     "text": [
      "100%|\u001b[34m██████████\u001b[0m| 10/10 [00:26<00:00,  2.67s/it]\u001b[32m [repeated 4x across cluster]\u001b[0m\n"
     ]
    },
    {
     "name": "stdout",
     "output_type": "stream",
     "text": [
      "\u001b[36m(launch_and_fit pid=12394)\u001b[0m save graph in  results/FL/\n",
      "\u001b[36m(launch_and_fit pid=12394)\u001b[0m \tTrain Epoch: 10 \tTrain_loss: 1.6466 | Train_acc: 41.7898 % | Validation_loss: 1.6605 | Validation_acc: 40.2778 %\u001b[32m [repeated 4x across cluster]\u001b[0m\n",
      "\u001b[36m(launch_and_fit pid=12468)\u001b[0m Run WITHOUT homomorphic encryption\n",
      "\u001b[36m(launch_and_fit pid=12468)\u001b[0m  To get the checkpoint\n",
      "\u001b[36m(launch_and_fit pid=12396)\u001b[0m save graph in  results/FL/\n",
      "\u001b[36m(launch_and_fit pid=12396)\u001b[0m \tTrain Epoch: 10 \tTrain_loss: 1.6163 | Train_acc: 44.4602 % | Validation_loss: 1.7492 | Validation_acc: 36.1111 %\n"
     ]
    },
    {
     "name": "stderr",
     "output_type": "stream",
     "text": [
      "  0%|\u001b[34m          \u001b[0m| 0/10 [00:00<?, ?it/s]\n",
      "100%|\u001b[34m██████████\u001b[0m| 10/10 [00:26<00:00,  2.68s/it]\n"
     ]
    },
    {
     "name": "stdout",
     "output_type": "stream",
     "text": [
      "\u001b[36m(launch_and_fit pid=12468)\u001b[0m [Client 7, round 17] fit, config: {'learning_rate': 0.003, 'batch_size': '16', 'server_round': 17, 'local_epochs': 10}\n",
      "\u001b[36m(launch_and_fit pid=12468)\u001b[0m Updated model\n"
     ]
    },
    {
     "name": "stderr",
     "output_type": "stream",
     "text": [
      " 10%|\u001b[34m█         \u001b[0m| 1/10 [00:02<00:25,  2.79s/it]\n"
     ]
    },
    {
     "name": "stdout",
     "output_type": "stream",
     "text": [
      "\u001b[36m(launch_and_fit pid=12468)\u001b[0m \tTrain Epoch: 1 \tTrain_loss: 1.7361 | Train_acc: 39.7727 % | Validation_loss: 1.5455 | Validation_acc: 51.3889 %\n"
     ]
    },
    {
     "name": "stderr",
     "output_type": "stream",
     "text": [
      "  0%|\u001b[34m          \u001b[0m| 0/10 [00:00<?, ?it/s]\n"
     ]
    },
    {
     "name": "stdout",
     "output_type": "stream",
     "text": [
      "\u001b[36m(launch_and_fit pid=12493)\u001b[0m Run WITHOUT homomorphic encryption\n",
      "\u001b[36m(launch_and_fit pid=12493)\u001b[0m  To get the checkpoint\n",
      "\u001b[36m(launch_and_fit pid=12493)\u001b[0m [Client 8, round 17] fit, config: {'learning_rate': 0.003, 'batch_size': '16', 'server_round': 17, 'local_epochs': 10}\n",
      "\u001b[36m(launch_and_fit pid=12493)\u001b[0m Updated model\n",
      "\u001b[36m(launch_and_fit pid=12493)\u001b[0m \tTrain Epoch: 3 \tTrain_loss: 1.6574 | Train_acc: 43.4943 % | Validation_loss: 1.7487 | Validation_acc: 40.2778 %\u001b[32m [repeated 5x across cluster]\u001b[0m\n"
     ]
    },
    {
     "name": "stderr",
     "output_type": "stream",
     "text": [
      " 30%|\u001b[34m███       \u001b[0m| 3/10 [00:07<00:17,  2.50s/it]\u001b[32m [repeated 5x across cluster]\u001b[0m\n",
      " 60%|\u001b[34m██████    \u001b[0m| 6/10 [00:15<00:10,  2.53s/it]\u001b[32m [repeated 5x across cluster]\u001b[0m\n"
     ]
    },
    {
     "name": "stdout",
     "output_type": "stream",
     "text": [
      "\u001b[36m(launch_and_fit pid=12468)\u001b[0m \tTrain Epoch: 6 \tTrain_loss: 1.6919 | Train_acc: 40.3977 % | Validation_loss: 1.5314 | Validation_acc: 47.2222 %\u001b[32m [repeated 5x across cluster]\u001b[0m\n"
     ]
    },
    {
     "name": "stderr",
     "output_type": "stream",
     "text": [
      " 80%|\u001b[34m████████  \u001b[0m| 8/10 [00:20<00:05,  2.54s/it]\u001b[32m [repeated 4x across cluster]\u001b[0m\n"
     ]
    },
    {
     "name": "stdout",
     "output_type": "stream",
     "text": [
      "\u001b[36m(launch_and_fit pid=12468)\u001b[0m \tTrain Epoch: 8 \tTrain_loss: 1.6617 | Train_acc: 44.4886 % | Validation_loss: 1.5207 | Validation_acc: 53.4722 %\u001b[32m [repeated 4x across cluster]\u001b[0m\n"
     ]
    },
    {
     "name": "stderr",
     "output_type": "stream",
     "text": [
      "100%|\u001b[34m██████████\u001b[0m| 10/10 [00:25<00:00,  2.55s/it]\u001b[32m [repeated 4x across cluster]\u001b[0m\n"
     ]
    },
    {
     "name": "stdout",
     "output_type": "stream",
     "text": [
      "\u001b[36m(launch_and_fit pid=12468)\u001b[0m save graph in  results/FL/\n",
      "\u001b[36m(launch_and_fit pid=12468)\u001b[0m \tTrain Epoch: 10 \tTrain_loss: 1.6522 | Train_acc: 46.0227 % | Validation_loss: 1.5153 | Validation_acc: 53.4722 %\u001b[32m [repeated 4x across cluster]\u001b[0m\n",
      "\u001b[36m(launch_and_fit pid=12542)\u001b[0m Run WITHOUT homomorphic encryption\n",
      "\u001b[36m(launch_and_fit pid=12542)\u001b[0m  To get the checkpoint\n",
      "\u001b[36m(launch_and_fit pid=12493)\u001b[0m save graph in  results/FL/\n",
      "\u001b[36m(launch_and_fit pid=12493)\u001b[0m \tTrain Epoch: 10 \tTrain_loss: 1.6182 | Train_acc: 45.0284 % | Validation_loss: 1.7370 | Validation_acc: 42.3611 %\n",
      "\u001b[36m(launch_and_fit pid=12544)\u001b[0m [Client 1, round 17] fit, config: {'learning_rate': 0.003, 'batch_size': '16', 'server_round': 17, 'local_epochs': 10}\n",
      "\u001b[36m(launch_and_fit pid=12544)\u001b[0m Updated model\n"
     ]
    },
    {
     "name": "stderr",
     "output_type": "stream",
     "text": [
      "  0%|\u001b[34m          \u001b[0m| 0/10 [00:00<?, ?it/s]\n",
      "100%|\u001b[34m██████████\u001b[0m| 10/10 [00:25<00:00,  2.52s/it]\n"
     ]
    },
    {
     "name": "stdout",
     "output_type": "stream",
     "text": [
      "\u001b[36m(launch_and_fit pid=12544)\u001b[0m \tTrain Epoch: 1 \tTrain_loss: 1.7387 | Train_acc: 34.6591 % | Validation_loss: 1.7929 | Validation_acc: 36.1111 %\n"
     ]
    },
    {
     "name": "stderr",
     "output_type": "stream",
     "text": [
      " 10%|\u001b[34m█         \u001b[0m| 1/10 [00:02<00:25,  2.80s/it]\n"
     ]
    },
    {
     "name": "stdout",
     "output_type": "stream",
     "text": [
      "\u001b[36m(launch_and_fit pid=12544)\u001b[0m Run WITHOUT homomorphic encryption\n",
      "\u001b[36m(launch_and_fit pid=12544)\u001b[0m  To get the checkpoint\n",
      "\u001b[36m(launch_and_fit pid=12542)\u001b[0m [Client 4, round 17] fit, config: {'learning_rate': 0.003, 'batch_size': '16', 'server_round': 17, 'local_epochs': 10}\n",
      "\u001b[36m(launch_and_fit pid=12542)\u001b[0m Updated model\n"
     ]
    },
    {
     "name": "stderr",
     "output_type": "stream",
     "text": [
      "  0%|\u001b[34m          \u001b[0m| 0/10 [00:00<?, ?it/s]\n"
     ]
    },
    {
     "name": "stdout",
     "output_type": "stream",
     "text": [
      "\u001b[36m(launch_and_fit pid=12544)\u001b[0m \tTrain Epoch: 3 \tTrain_loss: 1.7154 | Train_acc: 37.2727 % | Validation_loss: 1.7857 | Validation_acc: 38.1944 %\u001b[32m [repeated 4x across cluster]\u001b[0m\n"
     ]
    },
    {
     "name": "stderr",
     "output_type": "stream",
     "text": [
      " 30%|\u001b[34m███       \u001b[0m| 3/10 [00:07<00:18,  2.64s/it]\u001b[32m [repeated 4x across cluster]\u001b[0m\n"
     ]
    },
    {
     "name": "stdout",
     "output_type": "stream",
     "text": [
      "\u001b[36m(launch_and_fit pid=12542)\u001b[0m \tTrain Epoch: 5 \tTrain_loss: 1.6662 | Train_acc: 40.0568 % | Validation_loss: 1.7157 | Validation_acc: 42.3611 %\u001b[32m [repeated 5x across cluster]\u001b[0m\n"
     ]
    },
    {
     "name": "stderr",
     "output_type": "stream",
     "text": [
      " 50%|\u001b[34m█████     \u001b[0m| 5/10 [00:13<00:12,  2.57s/it]\u001b[32m [repeated 5x across cluster]\u001b[0m\n"
     ]
    },
    {
     "name": "stdout",
     "output_type": "stream",
     "text": [
      "\u001b[36m(launch_and_fit pid=12542)\u001b[0m \tTrain Epoch: 7 \tTrain_loss: 1.6717 | Train_acc: 42.2443 % | Validation_loss: 1.6302 | Validation_acc: 46.5278 %\u001b[32m [repeated 4x across cluster]\u001b[0m\n"
     ]
    },
    {
     "name": "stderr",
     "output_type": "stream",
     "text": [
      " 70%|\u001b[34m███████   \u001b[0m| 7/10 [00:18<00:07,  2.53s/it]\u001b[32m [repeated 4x across cluster]\u001b[0m\n"
     ]
    },
    {
     "name": "stdout",
     "output_type": "stream",
     "text": [
      "\u001b[36m(launch_and_fit pid=12544)\u001b[0m \tTrain Epoch: 9 \tTrain_loss: 1.6636 | Train_acc: 40.5966 % | Validation_loss: 1.8039 | Validation_acc: 38.1944 %\u001b[32m [repeated 3x across cluster]\u001b[0m\n"
     ]
    },
    {
     "name": "stderr",
     "output_type": "stream",
     "text": [
      " 90%|\u001b[34m█████████ \u001b[0m| 9/10 [00:23<00:02,  2.59s/it]\u001b[32m [repeated 3x across cluster]\u001b[0m\n"
     ]
    },
    {
     "name": "stdout",
     "output_type": "stream",
     "text": [
      "\u001b[36m(launch_and_fit pid=12544)\u001b[0m save graph in  results/FL/\n"
     ]
    },
    {
     "name": "stderr",
     "output_type": "stream",
     "text": [
      "DEBUG flwr 2024-07-22 10:26:07,656 | server.py:236 | fit_round 17 received 10 results and 0 failures\n"
     ]
    },
    {
     "name": "stdout",
     "output_type": "stream",
     "text": [
      "Saving round 17 aggregated_parameters...\n",
      "Updated model\n"
     ]
    },
    {
     "name": "stderr",
     "output_type": "stream",
     "text": [
      "INFO flwr 2024-07-22 10:26:10,077 | server.py:125 | fit progress: (17, 1.7120412263003262, {'accuracy': 38.71212121212121}, 4169.603984879001)\n",
      "DEBUG flwr 2024-07-22 10:26:10,078 | server.py:173 | evaluate_round 17: strategy sampled 10 clients (out of 10)\n"
     ]
    },
    {
     "name": "stdout",
     "output_type": "stream",
     "text": [
      "Server-side evaluation loss 1.7120412263003262 / accuracy 38.71212121212121\n",
      "\u001b[36m(launch_and_evaluate pid=12626)\u001b[0m Run WITHOUT homomorphic encryption\n",
      "\u001b[36m(launch_and_evaluate pid=12626)\u001b[0m  To get the checkpoint\n",
      "\u001b[36m(launch_and_fit pid=12542)\u001b[0m \tTrain Epoch: 10 \tTrain_loss: 1.6458 | Train_acc: 44.2898 % | Validation_loss: 1.6491 | Validation_acc: 48.6111 %\u001b[32m [repeated 3x across cluster]\u001b[0m\n",
      "\u001b[36m(launch_and_fit pid=12542)\u001b[0m save graph in  results/FL/\n",
      "\u001b[36m(launch_and_evaluate pid=12626)\u001b[0m [Client 5] evaluate, config: {}\n",
      "\u001b[36m(launch_and_evaluate pid=12626)\u001b[0m Updated model\n"
     ]
    },
    {
     "name": "stderr",
     "output_type": "stream",
     "text": [
      "\u001b[36m(launch_and_evaluate pid=12625)\u001b[0m /opt/conda/lib/python3.10/site-packages/sklearn/metrics/_ranking.py:1029: UndefinedMetricWarning: No positive samples in y_true, true positive value should be meaningless\n",
      "\u001b[36m(launch_and_evaluate pid=12625)\u001b[0m   warnings.warn(\n",
      "100%|\u001b[34m██████████\u001b[0m| 10/10 [00:25<00:00,  2.60s/it]\u001b[32m [repeated 3x across cluster]\u001b[0m\n"
     ]
    },
    {
     "name": "stdout",
     "output_type": "stream",
     "text": [
      "\u001b[36m(launch_and_evaluate pid=12696)\u001b[0m Run WITHOUT homomorphic encryption\u001b[32m [repeated 2x across cluster]\u001b[0m\n",
      "\u001b[36m(launch_and_evaluate pid=12696)\u001b[0m  To get the checkpoint\u001b[32m [repeated 2x across cluster]\u001b[0m\n",
      "\u001b[36m(launch_and_evaluate pid=12625)\u001b[0m [Client 4] evaluate, config: {}\n",
      "\u001b[36m(launch_and_evaluate pid=12625)\u001b[0m Updated model\n",
      "\u001b[36m(launch_and_evaluate pid=12696)\u001b[0m [Client 9] evaluate, config: {}\n",
      "\u001b[36m(launch_and_evaluate pid=12696)\u001b[0m Updated model\n"
     ]
    },
    {
     "name": "stderr",
     "output_type": "stream",
     "text": [
      "\u001b[36m(launch_and_evaluate pid=12696)\u001b[0m /opt/conda/lib/python3.10/site-packages/sklearn/metrics/_ranking.py:1029: UndefinedMetricWarning: No positive samples in y_true, true positive value should be meaningless\n",
      "\u001b[36m(launch_and_evaluate pid=12696)\u001b[0m   warnings.warn(\n"
     ]
    },
    {
     "name": "stdout",
     "output_type": "stream",
     "text": [
      "\u001b[36m(launch_and_evaluate pid=12766)\u001b[0m Run WITHOUT homomorphic encryption\u001b[32m [repeated 2x across cluster]\u001b[0m\n",
      "\u001b[36m(launch_and_evaluate pid=12766)\u001b[0m  To get the checkpoint\u001b[32m [repeated 2x across cluster]\u001b[0m\n",
      "\u001b[36m(launch_and_evaluate pid=12698)\u001b[0m [Client 6] evaluate, config: {}\n",
      "\u001b[36m(launch_and_evaluate pid=12698)\u001b[0m Updated model\n",
      "\u001b[36m(launch_and_evaluate pid=12766)\u001b[0m [Client 3] evaluate, config: {}\n",
      "\u001b[36m(launch_and_evaluate pid=12766)\u001b[0m Updated model\n",
      "\u001b[36m(launch_and_evaluate pid=12837)\u001b[0m Run WITHOUT homomorphic encryption\u001b[32m [repeated 2x across cluster]\u001b[0m\n",
      "\u001b[36m(launch_and_evaluate pid=12837)\u001b[0m  To get the checkpoint\u001b[32m [repeated 2x across cluster]\u001b[0m\n",
      "\u001b[36m(launch_and_evaluate pid=12768)\u001b[0m [Client 2] evaluate, config: {}\n",
      "\u001b[36m(launch_and_evaluate pid=12768)\u001b[0m Updated model\n",
      "\u001b[36m(launch_and_evaluate pid=12837)\u001b[0m [Client 0] evaluate, config: {}\n",
      "\u001b[36m(launch_and_evaluate pid=12837)\u001b[0m Updated model\n"
     ]
    },
    {
     "name": "stderr",
     "output_type": "stream",
     "text": [
      "\u001b[36m(launch_and_evaluate pid=12838)\u001b[0m /opt/conda/lib/python3.10/site-packages/sklearn/metrics/_ranking.py:1029: UndefinedMetricWarning: No positive samples in y_true, true positive value should be meaningless\n",
      "\u001b[36m(launch_and_evaluate pid=12838)\u001b[0m   warnings.warn(\n"
     ]
    },
    {
     "name": "stdout",
     "output_type": "stream",
     "text": [
      "\u001b[36m(launch_and_evaluate pid=12906)\u001b[0m Run WITHOUT homomorphic encryption\u001b[32m [repeated 2x across cluster]\u001b[0m\n",
      "\u001b[36m(launch_and_evaluate pid=12906)\u001b[0m  To get the checkpoint\u001b[32m [repeated 2x across cluster]\u001b[0m\n",
      "\u001b[36m(launch_and_evaluate pid=12838)\u001b[0m [Client 8] evaluate, config: {}\n",
      "\u001b[36m(launch_and_evaluate pid=12838)\u001b[0m Updated model\n",
      "\u001b[36m(launch_and_evaluate pid=12906)\u001b[0m [Client 1] evaluate, config: {}\n",
      "\u001b[36m(launch_and_evaluate pid=12906)\u001b[0m Updated model\n"
     ]
    },
    {
     "name": "stderr",
     "output_type": "stream",
     "text": [
      "DEBUG flwr 2024-07-22 10:27:08,793 | server.py:187 | evaluate_round 17 received 10 results and 0 failures\n",
      "DEBUG flwr 2024-07-22 10:27:08,795 | server.py:222 | fit_round 18: strategy sampled 10 clients (out of 10)\n"
     ]
    },
    {
     "name": "stdout",
     "output_type": "stream",
     "text": [
      "\u001b[36m(launch_and_fit pid=12986)\u001b[0m Run WITHOUT homomorphic encryption\u001b[32m [repeated 2x across cluster]\u001b[0m\n",
      "\u001b[36m(launch_and_fit pid=12986)\u001b[0m  To get the checkpoint\u001b[32m [repeated 2x across cluster]\u001b[0m\n",
      "\u001b[36m(launch_and_evaluate pid=12908)\u001b[0m [Client 7] evaluate, config: {}\n",
      "\u001b[36m(launch_and_evaluate pid=12908)\u001b[0m Updated model\n"
     ]
    },
    {
     "name": "stderr",
     "output_type": "stream",
     "text": [
      "  0%|\u001b[34m          \u001b[0m| 0/10 [00:00<?, ?it/s]\n"
     ]
    },
    {
     "name": "stdout",
     "output_type": "stream",
     "text": [
      "\u001b[36m(launch_and_fit pid=12986)\u001b[0m [Client 8, round 18] fit, config: {'learning_rate': 0.003, 'batch_size': '16', 'server_round': 18, 'local_epochs': 10}\n",
      "\u001b[36m(launch_and_fit pid=12986)\u001b[0m Updated model\n"
     ]
    },
    {
     "name": "stderr",
     "output_type": "stream",
     "text": [
      " 10%|\u001b[34m█         \u001b[0m| 1/10 [00:02<00:24,  2.76s/it]\n"
     ]
    },
    {
     "name": "stdout",
     "output_type": "stream",
     "text": [
      "\u001b[36m(launch_and_fit pid=12986)\u001b[0m \tTrain Epoch: 1 \tTrain_loss: 1.6789 | Train_acc: 40.5682 % | Validation_loss: 1.7761 | Validation_acc: 34.0278 %\n"
     ]
    },
    {
     "name": "stderr",
     "output_type": "stream",
     "text": [
      "  0%|\u001b[34m          \u001b[0m| 0/10 [00:00<?, ?it/s]\n"
     ]
    },
    {
     "name": "stdout",
     "output_type": "stream",
     "text": [
      "\u001b[36m(launch_and_fit pid=12985)\u001b[0m Run WITHOUT homomorphic encryption\n",
      "\u001b[36m(launch_and_fit pid=12985)\u001b[0m  To get the checkpoint\n",
      "\u001b[36m(launch_and_fit pid=12985)\u001b[0m [Client 6, round 18] fit, config: {'learning_rate': 0.003, 'batch_size': '16', 'server_round': 18, 'local_epochs': 10}\n",
      "\u001b[36m(launch_and_fit pid=12985)\u001b[0m Updated model\n",
      "\u001b[36m(launch_and_fit pid=12985)\u001b[0m \tTrain Epoch: 4 \tTrain_loss: 1.6370 | Train_acc: 46.3352 % | Validation_loss: 1.7595 | Validation_acc: 40.9722 %\u001b[32m [repeated 6x across cluster]\u001b[0m\n"
     ]
    },
    {
     "name": "stderr",
     "output_type": "stream",
     "text": [
      " 40%|\u001b[34m████      \u001b[0m| 4/10 [00:10<00:15,  2.55s/it]\u001b[32m [repeated 6x across cluster]\u001b[0m\n"
     ]
    },
    {
     "name": "stdout",
     "output_type": "stream",
     "text": [
      "\u001b[36m(launch_and_fit pid=12985)\u001b[0m \tTrain Epoch: 6 \tTrain_loss: 1.6026 | Train_acc: 48.6648 % | Validation_loss: 1.7890 | Validation_acc: 45.1389 %\u001b[32m [repeated 4x across cluster]\u001b[0m\n"
     ]
    },
    {
     "name": "stderr",
     "output_type": "stream",
     "text": [
      " 60%|\u001b[34m██████    \u001b[0m| 6/10 [00:15<00:10,  2.55s/it]\u001b[32m [repeated 4x across cluster]\u001b[0m\n",
      " 80%|\u001b[34m████████  \u001b[0m| 8/10 [00:20<00:05,  2.60s/it]\u001b[32m [repeated 4x across cluster]\u001b[0m\n"
     ]
    },
    {
     "name": "stdout",
     "output_type": "stream",
     "text": [
      "\u001b[36m(launch_and_fit pid=12985)\u001b[0m \tTrain Epoch: 8 \tTrain_loss: 1.5923 | Train_acc: 48.3523 % | Validation_loss: 1.7997 | Validation_acc: 45.1389 %\u001b[32m [repeated 4x across cluster]\u001b[0m\n"
     ]
    },
    {
     "name": "stderr",
     "output_type": "stream",
     "text": [
      "100%|\u001b[34m██████████\u001b[0m| 10/10 [00:26<00:00,  2.61s/it]\u001b[32m [repeated 4x across cluster]\u001b[0m\n"
     ]
    },
    {
     "name": "stdout",
     "output_type": "stream",
     "text": [
      "\u001b[36m(launch_and_fit pid=12985)\u001b[0m save graph in  results/FL/\n",
      "\u001b[36m(launch_and_fit pid=12985)\u001b[0m \tTrain Epoch: 10 \tTrain_loss: 1.5904 | Train_acc: 49.5739 % | Validation_loss: 1.8068 | Validation_acc: 45.1389 %\u001b[32m [repeated 4x across cluster]\u001b[0m\n",
      "\u001b[36m(launch_and_fit pid=13060)\u001b[0m Run WITHOUT homomorphic encryption\n",
      "\u001b[36m(launch_and_fit pid=13060)\u001b[0m  To get the checkpoint\n",
      "\u001b[36m(launch_and_fit pid=12986)\u001b[0m save graph in  results/FL/\n",
      "\u001b[36m(launch_and_fit pid=12986)\u001b[0m \tTrain Epoch: 10 \tTrain_loss: 1.6306 | Train_acc: 43.2670 % | Validation_loss: 1.7532 | Validation_acc: 25.0000 %\n",
      "\u001b[36m(launch_and_fit pid=13060)\u001b[0m [Client 1, round 18] fit, config: {'learning_rate': 0.003, 'batch_size': '16', 'server_round': 18, 'local_epochs': 10}\n",
      "\u001b[36m(launch_and_fit pid=13060)\u001b[0m Updated model\n"
     ]
    },
    {
     "name": "stderr",
     "output_type": "stream",
     "text": [
      "  0%|\u001b[34m          \u001b[0m| 0/10 [00:00<?, ?it/s]\n",
      "100%|\u001b[34m██████████\u001b[0m| 10/10 [00:25<00:00,  2.59s/it]\n"
     ]
    },
    {
     "name": "stdout",
     "output_type": "stream",
     "text": [
      "\u001b[36m(launch_and_fit pid=13058)\u001b[0m \tTrain Epoch: 1 \tTrain_loss: 1.6734 | Train_acc: 39.4602 % | Validation_loss: 1.6511 | Validation_acc: 43.0556 %\n"
     ]
    },
    {
     "name": "stderr",
     "output_type": "stream",
     "text": [
      " 10%|\u001b[34m█         \u001b[0m| 1/10 [00:02<00:25,  2.78s/it]\n"
     ]
    },
    {
     "name": "stdout",
     "output_type": "stream",
     "text": [
      "\u001b[36m(launch_and_fit pid=13058)\u001b[0m Run WITHOUT homomorphic encryption\n",
      "\u001b[36m(launch_and_fit pid=13058)\u001b[0m  To get the checkpoint\n",
      "\u001b[36m(launch_and_fit pid=13058)\u001b[0m [Client 2, round 18] fit, config: {'learning_rate': 0.003, 'batch_size': '16', 'server_round': 18, 'local_epochs': 10}\n",
      "\u001b[36m(launch_and_fit pid=13058)\u001b[0m Updated model\n"
     ]
    },
    {
     "name": "stderr",
     "output_type": "stream",
     "text": [
      "  0%|\u001b[34m          \u001b[0m| 0/10 [00:00<?, ?it/s]\n"
     ]
    },
    {
     "name": "stdout",
     "output_type": "stream",
     "text": [
      "\u001b[36m(launch_and_fit pid=13058)\u001b[0m \tTrain Epoch: 3 \tTrain_loss: 1.6565 | Train_acc: 42.5852 % | Validation_loss: 1.6510 | Validation_acc: 40.9722 %\u001b[32m [repeated 4x across cluster]\u001b[0m\n"
     ]
    },
    {
     "name": "stderr",
     "output_type": "stream",
     "text": [
      " 30%|\u001b[34m███       \u001b[0m| 3/10 [00:07<00:18,  2.66s/it]\u001b[32m [repeated 4x across cluster]\u001b[0m\n"
     ]
    },
    {
     "name": "stdout",
     "output_type": "stream",
     "text": [
      "\u001b[36m(launch_and_fit pid=13058)\u001b[0m \tTrain Epoch: 5 \tTrain_loss: 1.6388 | Train_acc: 43.2386 % | Validation_loss: 1.6698 | Validation_acc: 31.9444 %\u001b[32m [repeated 4x across cluster]\u001b[0m\n"
     ]
    },
    {
     "name": "stderr",
     "output_type": "stream",
     "text": [
      " 50%|\u001b[34m█████     \u001b[0m| 5/10 [00:13<00:13,  2.74s/it]\u001b[32m [repeated 4x across cluster]\u001b[0m\n"
     ]
    },
    {
     "name": "stdout",
     "output_type": "stream",
     "text": [
      "\u001b[36m(launch_and_fit pid=13060)\u001b[0m \tTrain Epoch: 7 \tTrain_loss: 1.6727 | Train_acc: 39.3182 % | Validation_loss: 1.7918 | Validation_acc: 34.0278 %\u001b[32m [repeated 5x across cluster]\u001b[0m\n"
     ]
    },
    {
     "name": "stderr",
     "output_type": "stream",
     "text": [
      " 70%|\u001b[34m███████   \u001b[0m| 7/10 [00:18<00:07,  2.65s/it]\u001b[32m [repeated 5x across cluster]\u001b[0m\n"
     ]
    },
    {
     "name": "stdout",
     "output_type": "stream",
     "text": [
      "\u001b[36m(launch_and_fit pid=13060)\u001b[0m \tTrain Epoch: 9 \tTrain_loss: 1.6561 | Train_acc: 39.7727 % | Validation_loss: 1.7909 | Validation_acc: 36.1111 %\u001b[32m [repeated 4x across cluster]\u001b[0m\n"
     ]
    },
    {
     "name": "stderr",
     "output_type": "stream",
     "text": [
      " 90%|\u001b[34m█████████ \u001b[0m| 9/10 [00:24<00:02,  2.65s/it]\u001b[32m [repeated 4x across cluster]\u001b[0m\n"
     ]
    },
    {
     "name": "stdout",
     "output_type": "stream",
     "text": [
      "\u001b[36m(launch_and_fit pid=13058)\u001b[0m save graph in  results/FL/\n",
      "\u001b[36m(launch_and_fit pid=13132)\u001b[0m Run WITHOUT homomorphic encryption\n",
      "\u001b[36m(launch_and_fit pid=13132)\u001b[0m  To get the checkpoint\n",
      "\u001b[36m(launch_and_fit pid=13060)\u001b[0m \tTrain Epoch: 10 \tTrain_loss: 1.6505 | Train_acc: 42.1307 % | Validation_loss: 1.8242 | Validation_acc: 29.1667 %\u001b[32m [repeated 2x across cluster]\u001b[0m\n",
      "\u001b[36m(launch_and_fit pid=13060)\u001b[0m save graph in  results/FL/\n",
      "\u001b[36m(launch_and_fit pid=13132)\u001b[0m [Client 9, round 18] fit, config: {'learning_rate': 0.003, 'batch_size': '16', 'server_round': 18, 'local_epochs': 10}\n",
      "\u001b[36m(launch_and_fit pid=13132)\u001b[0m Updated model\n"
     ]
    },
    {
     "name": "stderr",
     "output_type": "stream",
     "text": [
      "  0%|\u001b[34m          \u001b[0m| 0/10 [00:00<?, ?it/s]\n",
      "100%|\u001b[34m██████████\u001b[0m| 10/10 [00:26<00:00,  2.69s/it]\u001b[32m [repeated 2x across cluster]\u001b[0m\n"
     ]
    },
    {
     "name": "stdout",
     "output_type": "stream",
     "text": [
      "\u001b[36m(launch_and_fit pid=13157)\u001b[0m Run WITHOUT homomorphic encryption\n",
      "\u001b[36m(launch_and_fit pid=13157)\u001b[0m  To get the checkpoint\n",
      "\u001b[36m(launch_and_fit pid=13132)\u001b[0m \tTrain Epoch: 2 \tTrain_loss: 1.6732 | Train_acc: 42.6875 % | Validation_loss: 1.6472 | Validation_acc: 38.1944 %\u001b[32m [repeated 3x across cluster]\u001b[0m\n",
      "\u001b[36m(launch_and_fit pid=13157)\u001b[0m [Client 5, round 18] fit, config: {'learning_rate': 0.003, 'batch_size': '16', 'server_round': 18, 'local_epochs': 10}\n",
      "\u001b[36m(launch_and_fit pid=13157)\u001b[0m Updated model\n"
     ]
    },
    {
     "name": "stderr",
     "output_type": "stream",
     "text": [
      "  0%|\u001b[34m          \u001b[0m| 0/10 [00:00<?, ?it/s]\n",
      " 20%|\u001b[34m██        \u001b[0m| 2/10 [00:05<00:22,  2.82s/it]\u001b[32m [repeated 3x across cluster]\u001b[0m\n"
     ]
    },
    {
     "name": "stdout",
     "output_type": "stream",
     "text": [
      "\u001b[36m(launch_and_fit pid=13132)\u001b[0m \tTrain Epoch: 4 \tTrain_loss: 1.6898 | Train_acc: 41.1458 % | Validation_loss: 1.6230 | Validation_acc: 36.1111 %\u001b[32m [repeated 4x across cluster]\u001b[0m\n"
     ]
    },
    {
     "name": "stderr",
     "output_type": "stream",
     "text": [
      " 40%|\u001b[34m████      \u001b[0m| 4/10 [00:10<00:15,  2.62s/it]\u001b[32m [repeated 4x across cluster]\u001b[0m\n"
     ]
    },
    {
     "name": "stdout",
     "output_type": "stream",
     "text": [
      "\u001b[36m(launch_and_fit pid=13132)\u001b[0m \tTrain Epoch: 6 \tTrain_loss: 1.6356 | Train_acc: 46.0625 % | Validation_loss: 1.6377 | Validation_acc: 36.1111 %\u001b[32m [repeated 4x across cluster]\u001b[0m\n"
     ]
    },
    {
     "name": "stderr",
     "output_type": "stream",
     "text": [
      " 60%|\u001b[34m██████    \u001b[0m| 6/10 [00:15<00:10,  2.57s/it]\u001b[32m [repeated 4x across cluster]\u001b[0m\n",
      " 80%|\u001b[34m████████  \u001b[0m| 8/10 [00:20<00:05,  2.50s/it]\u001b[32m [repeated 5x across cluster]\u001b[0m\n"
     ]
    },
    {
     "name": "stdout",
     "output_type": "stream",
     "text": [
      "\u001b[36m(launch_and_fit pid=13157)\u001b[0m \tTrain Epoch: 8 \tTrain_loss: 1.6807 | Train_acc: 37.1307 % | Validation_loss: 1.6818 | Validation_acc: 25.0000 %\u001b[32m [repeated 5x across cluster]\u001b[0m\n",
      "\u001b[36m(launch_and_fit pid=13132)\u001b[0m save graph in  results/FL/\n"
     ]
    },
    {
     "name": "stderr",
     "output_type": "stream",
     "text": [
      "100%|\u001b[34m██████████\u001b[0m| 10/10 [00:26<00:00,  2.61s/it]\u001b[32m [repeated 4x across cluster]\u001b[0m\n"
     ]
    },
    {
     "name": "stdout",
     "output_type": "stream",
     "text": [
      "\u001b[36m(launch_and_fit pid=13157)\u001b[0m \tTrain Epoch: 10 \tTrain_loss: 1.6644 | Train_acc: 40.4261 % | Validation_loss: 1.7038 | Validation_acc: 25.0000 %\u001b[32m [repeated 4x across cluster]\u001b[0m\n",
      "\u001b[36m(launch_and_fit pid=13206)\u001b[0m Run WITHOUT homomorphic encryption\n",
      "\u001b[36m(launch_and_fit pid=13206)\u001b[0m  To get the checkpoint\n",
      "\u001b[36m(launch_and_fit pid=13157)\u001b[0m save graph in  results/FL/\n",
      "\u001b[36m(launch_and_fit pid=13206)\u001b[0m [Client 7, round 18] fit, config: {'learning_rate': 0.003, 'batch_size': '16', 'server_round': 18, 'local_epochs': 10}\n",
      "\u001b[36m(launch_and_fit pid=13206)\u001b[0m Updated model\n"
     ]
    },
    {
     "name": "stderr",
     "output_type": "stream",
     "text": [
      "  0%|\u001b[34m          \u001b[0m| 0/10 [00:00<?, ?it/s]\n"
     ]
    },
    {
     "name": "stdout",
     "output_type": "stream",
     "text": [
      "\u001b[36m(launch_and_fit pid=13206)\u001b[0m \tTrain Epoch: 1 \tTrain_loss: 1.7179 | Train_acc: 39.4602 % | Validation_loss: 1.5379 | Validation_acc: 49.3056 %\n"
     ]
    },
    {
     "name": "stderr",
     "output_type": "stream",
     "text": [
      " 10%|\u001b[34m█         \u001b[0m| 1/10 [00:03<00:27,  3.02s/it]\n"
     ]
    },
    {
     "name": "stdout",
     "output_type": "stream",
     "text": [
      "\u001b[36m(launch_and_fit pid=13231)\u001b[0m Run WITHOUT homomorphic encryption\n",
      "\u001b[36m(launch_and_fit pid=13231)\u001b[0m  To get the checkpoint\n",
      "\u001b[36m(launch_and_fit pid=13231)\u001b[0m [Client 0, round 18] fit, config: {'learning_rate': 0.003, 'batch_size': '16', 'server_round': 18, 'local_epochs': 10}\n",
      "\u001b[36m(launch_and_fit pid=13231)\u001b[0m Updated model\n"
     ]
    },
    {
     "name": "stderr",
     "output_type": "stream",
     "text": [
      "  0%|\u001b[34m          \u001b[0m| 0/10 [00:00<?, ?it/s]\n"
     ]
    },
    {
     "name": "stdout",
     "output_type": "stream",
     "text": [
      "\u001b[36m(launch_and_fit pid=13206)\u001b[0m \tTrain Epoch: 3 \tTrain_loss: 1.6747 | Train_acc: 44.1761 % | Validation_loss: 1.5247 | Validation_acc: 49.3056 %\u001b[32m [repeated 4x across cluster]\u001b[0m\n"
     ]
    },
    {
     "name": "stderr",
     "output_type": "stream",
     "text": [
      " 30%|\u001b[34m███       \u001b[0m| 3/10 [00:08<00:19,  2.79s/it]\u001b[32m [repeated 4x across cluster]\u001b[0m\n"
     ]
    },
    {
     "name": "stdout",
     "output_type": "stream",
     "text": [
      "\u001b[36m(launch_and_fit pid=13206)\u001b[0m \tTrain Epoch: 5 \tTrain_loss: 1.6644 | Train_acc: 43.9773 % | Validation_loss: 1.5307 | Validation_acc: 53.4722 %\u001b[32m [repeated 4x across cluster]\u001b[0m\n"
     ]
    },
    {
     "name": "stderr",
     "output_type": "stream",
     "text": [
      " 50%|\u001b[34m█████     \u001b[0m| 5/10 [00:13<00:13,  2.65s/it]\u001b[32m [repeated 4x across cluster]\u001b[0m\n"
     ]
    },
    {
     "name": "stdout",
     "output_type": "stream",
     "text": [
      "\u001b[36m(launch_and_fit pid=13206)\u001b[0m \tTrain Epoch: 7 \tTrain_loss: 1.6595 | Train_acc: 45.7386 % | Validation_loss: 1.5160 | Validation_acc: 51.3889 %\u001b[32m [repeated 4x across cluster]\u001b[0m\n"
     ]
    },
    {
     "name": "stderr",
     "output_type": "stream",
     "text": [
      " 70%|\u001b[34m███████   \u001b[0m| 7/10 [00:18<00:07,  2.60s/it]\u001b[32m [repeated 4x across cluster]\u001b[0m\n"
     ]
    },
    {
     "name": "stdout",
     "output_type": "stream",
     "text": [
      "\u001b[36m(launch_and_fit pid=13231)\u001b[0m \tTrain Epoch: 9 \tTrain_loss: 1.6306 | Train_acc: 45.2557 % | Validation_loss: 1.7633 | Validation_acc: 27.0833 %\u001b[32m [repeated 5x across cluster]\u001b[0m\n"
     ]
    },
    {
     "name": "stderr",
     "output_type": "stream",
     "text": [
      " 90%|\u001b[34m█████████ \u001b[0m| 9/10 [00:23<00:02,  2.54s/it]\u001b[32m [repeated 5x across cluster]\u001b[0m\n"
     ]
    },
    {
     "name": "stdout",
     "output_type": "stream",
     "text": [
      "\u001b[36m(launch_and_fit pid=13206)\u001b[0m save graph in  results/FL/\n",
      "\u001b[36m(launch_and_fit pid=13280)\u001b[0m Run WITHOUT homomorphic encryption\n",
      "\u001b[36m(launch_and_fit pid=13280)\u001b[0m  To get the checkpoint\n",
      "\u001b[36m(launch_and_fit pid=13231)\u001b[0m \tTrain Epoch: 10 \tTrain_loss: 1.6116 | Train_acc: 44.7443 % | Validation_loss: 1.7442 | Validation_acc: 34.0278 %\u001b[32m [repeated 2x across cluster]\u001b[0m\n",
      "\u001b[36m(launch_and_fit pid=13231)\u001b[0m save graph in  results/FL/\n"
     ]
    },
    {
     "name": "stderr",
     "output_type": "stream",
     "text": [
      "  0%|\u001b[34m          \u001b[0m| 0/10 [00:00<?, ?it/s]\n",
      "100%|\u001b[34m██████████\u001b[0m| 10/10 [00:26<00:00,  2.61s/it]\u001b[32m [repeated 2x across cluster]\u001b[0m\n"
     ]
    },
    {
     "name": "stdout",
     "output_type": "stream",
     "text": [
      "\u001b[36m(launch_and_fit pid=13280)\u001b[0m [Client 3, round 18] fit, config: {'learning_rate': 0.003, 'batch_size': '16', 'server_round': 18, 'local_epochs': 10}\n",
      "\u001b[36m(launch_and_fit pid=13280)\u001b[0m Updated model\n"
     ]
    },
    {
     "name": "stderr",
     "output_type": "stream",
     "text": [
      "  0%|\u001b[34m          \u001b[0m| 0/10 [00:00<?, ?it/s]\n",
      " 20%|\u001b[34m██        \u001b[0m| 2/10 [00:05<00:21,  2.64s/it]\u001b[32m [repeated 3x across cluster]\u001b[0m\n"
     ]
    },
    {
     "name": "stdout",
     "output_type": "stream",
     "text": [
      "\u001b[36m(launch_and_fit pid=13305)\u001b[0m Run WITHOUT homomorphic encryption\n",
      "\u001b[36m(launch_and_fit pid=13305)\u001b[0m  To get the checkpoint\n",
      "\u001b[36m(launch_and_fit pid=13280)\u001b[0m \tTrain Epoch: 2 \tTrain_loss: 1.6731 | Train_acc: 43.2386 % | Validation_loss: 1.7467 | Validation_acc: 40.2778 %\u001b[32m [repeated 3x across cluster]\u001b[0m\n",
      "\u001b[36m(launch_and_fit pid=13305)\u001b[0m [Client 4, round 18] fit, config: {'learning_rate': 0.003, 'batch_size': '16', 'server_round': 18, 'local_epochs': 10}\n",
      "\u001b[36m(launch_and_fit pid=13305)\u001b[0m Updated model\n",
      "\u001b[36m(launch_and_fit pid=13305)\u001b[0m \tTrain Epoch: 4 \tTrain_loss: 1.6610 | Train_acc: 42.1307 % | Validation_loss: 1.6510 | Validation_acc: 46.5278 %\u001b[32m [repeated 5x across cluster]\u001b[0m\n"
     ]
    },
    {
     "name": "stderr",
     "output_type": "stream",
     "text": [
      " 40%|\u001b[34m████      \u001b[0m| 4/10 [00:10<00:15,  2.58s/it]\u001b[32m [repeated 5x across cluster]\u001b[0m\n"
     ]
    },
    {
     "name": "stdout",
     "output_type": "stream",
     "text": [
      "\u001b[36m(launch_and_fit pid=13305)\u001b[0m \tTrain Epoch: 6 \tTrain_loss: 1.6469 | Train_acc: 42.4148 % | Validation_loss: 1.6376 | Validation_acc: 46.5278 %\u001b[32m [repeated 4x across cluster]\u001b[0m\n"
     ]
    },
    {
     "name": "stderr",
     "output_type": "stream",
     "text": [
      " 60%|\u001b[34m██████    \u001b[0m| 6/10 [00:15<00:10,  2.54s/it]\u001b[32m [repeated 4x across cluster]\u001b[0m\n"
     ]
    },
    {
     "name": "stdout",
     "output_type": "stream",
     "text": [
      "\u001b[36m(launch_and_fit pid=13305)\u001b[0m \tTrain Epoch: 8 \tTrain_loss: 1.6444 | Train_acc: 42.1307 % | Validation_loss: 1.6816 | Validation_acc: 46.5278 %\u001b[32m [repeated 4x across cluster]\u001b[0m\n"
     ]
    },
    {
     "name": "stderr",
     "output_type": "stream",
     "text": [
      " 80%|\u001b[34m████████  \u001b[0m| 8/10 [00:20<00:05,  2.55s/it]\u001b[32m [repeated 4x across cluster]\u001b[0m\n",
      "100%|\u001b[34m██████████\u001b[0m| 10/10 [00:26<00:00,  2.60s/it]\u001b[32m [repeated 3x across cluster]\u001b[0m\n"
     ]
    },
    {
     "name": "stdout",
     "output_type": "stream",
     "text": [
      "\u001b[36m(launch_and_fit pid=13280)\u001b[0m save graph in  results/FL/\n",
      "\u001b[36m(launch_and_fit pid=13280)\u001b[0m \tTrain Epoch: 10 \tTrain_loss: 1.6297 | Train_acc: 45.8807 % | Validation_loss: 1.7842 | Validation_acc: 49.3056 %\u001b[32m [repeated 3x across cluster]\u001b[0m\n"
     ]
    },
    {
     "name": "stderr",
     "output_type": "stream",
     "text": [
      "DEBUG flwr 2024-07-22 10:30:15,174 | server.py:236 | fit_round 18 received 10 results and 0 failures\n"
     ]
    },
    {
     "name": "stdout",
     "output_type": "stream",
     "text": [
      "Saving round 18 aggregated_parameters...\n",
      "Updated model\n"
     ]
    },
    {
     "name": "stderr",
     "output_type": "stream",
     "text": [
      "INFO flwr 2024-07-22 10:30:17,515 | server.py:125 | fit progress: (18, 1.709234567122026, {'accuracy': 39.621212121212125}, 4417.042707842)\n",
      "DEBUG flwr 2024-07-22 10:30:17,516 | server.py:173 | evaluate_round 18: strategy sampled 10 clients (out of 10)\n"
     ]
    },
    {
     "name": "stdout",
     "output_type": "stream",
     "text": [
      "Server-side evaluation loss 1.709234567122026 / accuracy 39.621212121212125\n",
      "\u001b[36m(launch_and_evaluate pid=13363)\u001b[0m Run WITHOUT homomorphic encryption\n",
      "\u001b[36m(launch_and_evaluate pid=13363)\u001b[0m  To get the checkpoint\n",
      "\u001b[36m(launch_and_fit pid=13305)\u001b[0m save graph in  results/FL/\n",
      "\u001b[36m(launch_and_fit pid=13305)\u001b[0m \tTrain Epoch: 10 \tTrain_loss: 1.6446 | Train_acc: 44.6023 % | Validation_loss: 1.6864 | Validation_acc: 44.4444 %\n",
      "\u001b[36m(launch_and_evaluate pid=13363)\u001b[0m [Client 5] evaluate, config: {}\n",
      "\u001b[36m(launch_and_evaluate pid=13363)\u001b[0m Updated model\n",
      "\u001b[36m(launch_and_evaluate pid=13434)\u001b[0m Run WITHOUT homomorphic encryption\u001b[32m [repeated 2x across cluster]\u001b[0m\n",
      "\u001b[36m(launch_and_evaluate pid=13434)\u001b[0m  To get the checkpoint\u001b[32m [repeated 2x across cluster]\u001b[0m\n",
      "\u001b[36m(launch_and_evaluate pid=13364)\u001b[0m [Client 3] evaluate, config: {}\n",
      "\u001b[36m(launch_and_evaluate pid=13364)\u001b[0m Updated model\n",
      "\u001b[36m(launch_and_evaluate pid=13434)\u001b[0m [Client 6] evaluate, config: {}\n",
      "\u001b[36m(launch_and_evaluate pid=13434)\u001b[0m Updated model\n",
      "\u001b[36m(launch_and_evaluate pid=13506)\u001b[0m Run WITHOUT homomorphic encryption\u001b[32m [repeated 2x across cluster]\u001b[0m\n",
      "\u001b[36m(launch_and_evaluate pid=13506)\u001b[0m  To get the checkpoint\u001b[32m [repeated 2x across cluster]\u001b[0m\n",
      "\u001b[36m(launch_and_evaluate pid=13436)\u001b[0m [Client 1] evaluate, config: {}\n",
      "\u001b[36m(launch_and_evaluate pid=13436)\u001b[0m Updated model\n",
      "\u001b[36m(launch_and_evaluate pid=13506)\u001b[0m [Client 8] evaluate, config: {}\n",
      "\u001b[36m(launch_and_evaluate pid=13506)\u001b[0m Updated model\n"
     ]
    },
    {
     "name": "stderr",
     "output_type": "stream",
     "text": [
      "\u001b[36m(launch_and_evaluate pid=13506)\u001b[0m /opt/conda/lib/python3.10/site-packages/sklearn/metrics/_ranking.py:1029: UndefinedMetricWarning: No positive samples in y_true, true positive value should be meaningless\n",
      "\u001b[36m(launch_and_evaluate pid=13506)\u001b[0m   warnings.warn(\n",
      "100%|\u001b[34m██████████\u001b[0m| 10/10 [00:25<00:00,  2.59s/it]\n"
     ]
    },
    {
     "name": "stdout",
     "output_type": "stream",
     "text": [
      "\u001b[36m(launch_and_evaluate pid=13574)\u001b[0m Run WITHOUT homomorphic encryption\u001b[32m [repeated 2x across cluster]\u001b[0m\n",
      "\u001b[36m(launch_and_evaluate pid=13574)\u001b[0m  To get the checkpoint\u001b[32m [repeated 2x across cluster]\u001b[0m\n",
      "\u001b[36m(launch_and_evaluate pid=13504)\u001b[0m [Client 2] evaluate, config: {}\n",
      "\u001b[36m(launch_and_evaluate pid=13504)\u001b[0m Updated model\n",
      "\u001b[36m(launch_and_evaluate pid=13574)\u001b[0m [Client 4] evaluate, config: {}\n",
      "\u001b[36m(launch_and_evaluate pid=13574)\u001b[0m Updated model\n"
     ]
    },
    {
     "name": "stderr",
     "output_type": "stream",
     "text": [
      "\u001b[36m(launch_and_evaluate pid=13574)\u001b[0m /opt/conda/lib/python3.10/site-packages/sklearn/metrics/_ranking.py:1029: UndefinedMetricWarning: No positive samples in y_true, true positive value should be meaningless\n",
      "\u001b[36m(launch_and_evaluate pid=13574)\u001b[0m   warnings.warn(\n"
     ]
    },
    {
     "name": "stdout",
     "output_type": "stream",
     "text": [
      "\u001b[36m(launch_and_evaluate pid=13645)\u001b[0m Run WITHOUT homomorphic encryption\u001b[32m [repeated 2x across cluster]\u001b[0m\n",
      "\u001b[36m(launch_and_evaluate pid=13645)\u001b[0m  To get the checkpoint\u001b[32m [repeated 2x across cluster]\u001b[0m\n",
      "\u001b[36m(launch_and_evaluate pid=13576)\u001b[0m [Client 7] evaluate, config: {}\n",
      "\u001b[36m(launch_and_evaluate pid=13576)\u001b[0m Updated model\n",
      "\u001b[36m(launch_and_evaluate pid=13645)\u001b[0m [Client 9] evaluate, config: {}\n",
      "\u001b[36m(launch_and_evaluate pid=13645)\u001b[0m Updated model\n"
     ]
    },
    {
     "name": "stderr",
     "output_type": "stream",
     "text": [
      "\u001b[36m(launch_and_evaluate pid=13645)\u001b[0m /opt/conda/lib/python3.10/site-packages/sklearn/metrics/_ranking.py:1029: UndefinedMetricWarning: No positive samples in y_true, true positive value should be meaningless\n",
      "\u001b[36m(launch_and_evaluate pid=13645)\u001b[0m   warnings.warn(\n",
      "DEBUG flwr 2024-07-22 10:31:15,985 | server.py:187 | evaluate_round 18 received 10 results and 0 failures\n",
      "DEBUG flwr 2024-07-22 10:31:15,986 | server.py:222 | fit_round 19: strategy sampled 10 clients (out of 10)\n"
     ]
    },
    {
     "name": "stdout",
     "output_type": "stream",
     "text": [
      "\u001b[36m(launch_and_fit pid=13725)\u001b[0m Run WITHOUT homomorphic encryption\u001b[32m [repeated 2x across cluster]\u001b[0m\n",
      "\u001b[36m(launch_and_fit pid=13725)\u001b[0m  To get the checkpoint\u001b[32m [repeated 2x across cluster]\u001b[0m\n",
      "\u001b[36m(launch_and_evaluate pid=13647)\u001b[0m [Client 0] evaluate, config: {}\n",
      "\u001b[36m(launch_and_evaluate pid=13647)\u001b[0m Updated model\n"
     ]
    },
    {
     "name": "stderr",
     "output_type": "stream",
     "text": [
      "  0%|\u001b[34m          \u001b[0m| 0/10 [00:00<?, ?it/s]\n"
     ]
    },
    {
     "name": "stdout",
     "output_type": "stream",
     "text": [
      "\u001b[36m(launch_and_fit pid=13725)\u001b[0m [Client 2, round 19] fit, config: {'learning_rate': 0.003, 'batch_size': '16', 'server_round': 19, 'local_epochs': 10}\n",
      "\u001b[36m(launch_and_fit pid=13725)\u001b[0m Updated model\n"
     ]
    },
    {
     "name": "stderr",
     "output_type": "stream",
     "text": [
      " 10%|\u001b[34m█         \u001b[0m| 1/10 [00:02<00:26,  2.89s/it]\n"
     ]
    },
    {
     "name": "stdout",
     "output_type": "stream",
     "text": [
      "\u001b[36m(launch_and_fit pid=13725)\u001b[0m \tTrain Epoch: 1 \tTrain_loss: 1.6923 | Train_acc: 40.7386 % | Validation_loss: 1.6582 | Validation_acc: 43.0556 %\n"
     ]
    },
    {
     "name": "stderr",
     "output_type": "stream",
     "text": [
      "  0%|\u001b[34m          \u001b[0m| 0/10 [00:00<?, ?it/s]\n"
     ]
    },
    {
     "name": "stdout",
     "output_type": "stream",
     "text": [
      "\u001b[36m(launch_and_fit pid=13724)\u001b[0m Run WITHOUT homomorphic encryption\n",
      "\u001b[36m(launch_and_fit pid=13724)\u001b[0m  To get the checkpoint\n",
      "\u001b[36m(launch_and_fit pid=13724)\u001b[0m [Client 7, round 19] fit, config: {'learning_rate': 0.003, 'batch_size': '16', 'server_round': 19, 'local_epochs': 10}\n",
      "\u001b[36m(launch_and_fit pid=13724)\u001b[0m Updated model\n"
     ]
    },
    {
     "name": "stderr",
     "output_type": "stream",
     "text": [
      " 30%|\u001b[34m███       \u001b[0m| 3/10 [00:08<00:18,  2.66s/it]\u001b[32m [repeated 4x across cluster]\u001b[0m\n"
     ]
    },
    {
     "name": "stdout",
     "output_type": "stream",
     "text": [
      "\u001b[36m(launch_and_fit pid=13725)\u001b[0m \tTrain Epoch: 3 \tTrain_loss: 1.6582 | Train_acc: 42.5852 % | Validation_loss: 1.6695 | Validation_acc: 38.8889 %\u001b[32m [repeated 4x across cluster]\u001b[0m\n"
     ]
    },
    {
     "name": "stderr",
     "output_type": "stream",
     "text": [
      " 50%|\u001b[34m█████     \u001b[0m| 5/10 [00:13<00:13,  2.67s/it]\u001b[32m [repeated 4x across cluster]\u001b[0m\n"
     ]
    },
    {
     "name": "stdout",
     "output_type": "stream",
     "text": [
      "\u001b[36m(launch_and_fit pid=13724)\u001b[0m \tTrain Epoch: 5 \tTrain_loss: 1.6782 | Train_acc: 42.4716 % | Validation_loss: 1.5304 | Validation_acc: 51.3889 %\u001b[32m [repeated 4x across cluster]\u001b[0m\n",
      "\u001b[36m(launch_and_fit pid=13724)\u001b[0m \tTrain Epoch: 8 \tTrain_loss: 1.6375 | Train_acc: 48.4943 % | Validation_loss: 1.5469 | Validation_acc: 53.4722 %\u001b[32m [repeated 6x across cluster]\u001b[0m\n"
     ]
    },
    {
     "name": "stderr",
     "output_type": "stream",
     "text": [
      " 80%|\u001b[34m████████  \u001b[0m| 8/10 [00:20<00:05,  2.56s/it]\u001b[32m [repeated 6x across cluster]\u001b[0m\n"
     ]
    },
    {
     "name": "stdout",
     "output_type": "stream",
     "text": [
      "\u001b[36m(launch_and_fit pid=13724)\u001b[0m save graph in  results/FL/\n",
      "\u001b[36m(launch_and_fit pid=13724)\u001b[0m \tTrain Epoch: 10 \tTrain_loss: 1.6506 | Train_acc: 44.3466 % | Validation_loss: 1.5536 | Validation_acc: 53.4722 %\u001b[32m [repeated 4x across cluster]\u001b[0m\n"
     ]
    },
    {
     "name": "stderr",
     "output_type": "stream",
     "text": [
      "100%|\u001b[34m██████████\u001b[0m| 10/10 [00:26<00:00,  2.61s/it]\u001b[32m [repeated 4x across cluster]\u001b[0m\n"
     ]
    },
    {
     "name": "stdout",
     "output_type": "stream",
     "text": [
      "\u001b[36m(launch_and_fit pid=13797)\u001b[0m Run WITHOUT homomorphic encryption\n",
      "\u001b[36m(launch_and_fit pid=13797)\u001b[0m  To get the checkpoint\n",
      "\u001b[36m(launch_and_fit pid=13725)\u001b[0m save graph in  results/FL/\n",
      "\u001b[36m(launch_and_fit pid=13725)\u001b[0m \tTrain Epoch: 10 \tTrain_loss: 1.6223 | Train_acc: 45.5398 % | Validation_loss: 1.6649 | Validation_acc: 43.0556 %\n",
      "\u001b[36m(launch_and_fit pid=13797)\u001b[0m [Client 1, round 19] fit, config: {'learning_rate': 0.003, 'batch_size': '16', 'server_round': 19, 'local_epochs': 10}\n",
      "\u001b[36m(launch_and_fit pid=13797)\u001b[0m Updated model\n"
     ]
    },
    {
     "name": "stderr",
     "output_type": "stream",
     "text": [
      "  0%|\u001b[34m          \u001b[0m| 0/10 [00:00<?, ?it/s]\n",
      "100%|\u001b[34m██████████\u001b[0m| 10/10 [00:26<00:00,  2.64s/it]\n"
     ]
    },
    {
     "name": "stdout",
     "output_type": "stream",
     "text": [
      "\u001b[36m(launch_and_fit pid=13797)\u001b[0m \tTrain Epoch: 1 \tTrain_loss: 1.7402 | Train_acc: 32.4432 % | Validation_loss: 1.8462 | Validation_acc: 22.9167 %\n"
     ]
    },
    {
     "name": "stderr",
     "output_type": "stream",
     "text": [
      " 10%|\u001b[34m█         \u001b[0m| 1/10 [00:02<00:24,  2.78s/it]\n"
     ]
    },
    {
     "name": "stdout",
     "output_type": "stream",
     "text": [
      "\u001b[36m(launch_and_fit pid=13799)\u001b[0m Run WITHOUT homomorphic encryption\n",
      "\u001b[36m(launch_and_fit pid=13799)\u001b[0m  To get the checkpoint\n",
      "\u001b[36m(launch_and_fit pid=13799)\u001b[0m [Client 8, round 19] fit, config: {'learning_rate': 0.003, 'batch_size': '16', 'server_round': 19, 'local_epochs': 10}\n",
      "\u001b[36m(launch_and_fit pid=13799)\u001b[0m Updated model\n"
     ]
    },
    {
     "name": "stderr",
     "output_type": "stream",
     "text": [
      "  0%|\u001b[34m          \u001b[0m| 0/10 [00:00<?, ?it/s]\n"
     ]
    },
    {
     "name": "stdout",
     "output_type": "stream",
     "text": [
      "\u001b[36m(launch_and_fit pid=13797)\u001b[0m \tTrain Epoch: 3 \tTrain_loss: 1.7185 | Train_acc: 36.2216 % | Validation_loss: 1.8249 | Validation_acc: 27.0833 %\u001b[32m [repeated 4x across cluster]\u001b[0m\n"
     ]
    },
    {
     "name": "stderr",
     "output_type": "stream",
     "text": [
      " 30%|\u001b[34m███       \u001b[0m| 3/10 [00:07<00:18,  2.62s/it]\u001b[32m [repeated 4x across cluster]\u001b[0m\n",
      " 50%|\u001b[34m█████     \u001b[0m| 5/10 [00:13<00:12,  2.57s/it]\u001b[32m [repeated 5x across cluster]\u001b[0m\n"
     ]
    },
    {
     "name": "stdout",
     "output_type": "stream",
     "text": [
      "\u001b[36m(launch_and_fit pid=13799)\u001b[0m \tTrain Epoch: 5 \tTrain_loss: 1.6217 | Train_acc: 44.1477 % | Validation_loss: 1.7365 | Validation_acc: 36.1111 %\u001b[32m [repeated 5x across cluster]\u001b[0m\n",
      "\u001b[36m(launch_and_fit pid=13797)\u001b[0m \tTrain Epoch: 7 \tTrain_loss: 1.6756 | Train_acc: 40.0852 % | Validation_loss: 1.8231 | Validation_acc: 27.0833 %\u001b[32m [repeated 3x across cluster]\u001b[0m\n"
     ]
    },
    {
     "name": "stderr",
     "output_type": "stream",
     "text": [
      " 70%|\u001b[34m███████   \u001b[0m| 7/10 [00:18<00:07,  2.65s/it]\u001b[32m [repeated 3x across cluster]\u001b[0m\n"
     ]
    },
    {
     "name": "stdout",
     "output_type": "stream",
     "text": [
      "\u001b[36m(launch_and_fit pid=13797)\u001b[0m \tTrain Epoch: 9 \tTrain_loss: 1.6486 | Train_acc: 41.9602 % | Validation_loss: 1.7900 | Validation_acc: 40.2778 %\u001b[32m [repeated 4x across cluster]\u001b[0m\n"
     ]
    },
    {
     "name": "stderr",
     "output_type": "stream",
     "text": [
      " 90%|\u001b[34m█████████ \u001b[0m| 9/10 [00:23<00:02,  2.58s/it]\u001b[32m [repeated 4x across cluster]\u001b[0m\n"
     ]
    },
    {
     "name": "stdout",
     "output_type": "stream",
     "text": [
      "\u001b[36m(launch_and_fit pid=13797)\u001b[0m save graph in  results/FL/\n",
      "\u001b[36m(launch_and_fit pid=13871)\u001b[0m Run WITHOUT homomorphic encryption\n",
      "\u001b[36m(launch_and_fit pid=13871)\u001b[0m  To get the checkpoint\n",
      "\u001b[36m(launch_and_fit pid=13799)\u001b[0m \tTrain Epoch: 10 \tTrain_loss: 1.6088 | Train_acc: 47.4716 % | Validation_loss: 1.7061 | Validation_acc: 25.0000 %\u001b[32m [repeated 3x across cluster]\u001b[0m\n",
      "\u001b[36m(launch_and_fit pid=13799)\u001b[0m save graph in  results/FL/\n",
      "\u001b[36m(launch_and_fit pid=13871)\u001b[0m [Client 3, round 19] fit, config: {'learning_rate': 0.003, 'batch_size': '16', 'server_round': 19, 'local_epochs': 10}\n",
      "\u001b[36m(launch_and_fit pid=13871)\u001b[0m Updated model\n"
     ]
    },
    {
     "name": "stderr",
     "output_type": "stream",
     "text": [
      "  0%|\u001b[34m          \u001b[0m| 0/10 [00:00<?, ?it/s]\n",
      "100%|\u001b[34m██████████\u001b[0m| 10/10 [00:25<00:00,  2.58s/it]\u001b[32m [repeated 3x across cluster]\u001b[0m\n",
      "  0%|\u001b[34m          \u001b[0m| 0/10 [00:00<?, ?it/s]\n",
      " 20%|\u001b[34m██        \u001b[0m| 2/10 [00:05<00:21,  2.74s/it]\u001b[32m [repeated 3x across cluster]\u001b[0m\n"
     ]
    },
    {
     "name": "stdout",
     "output_type": "stream",
     "text": [
      "\u001b[36m(launch_and_fit pid=13873)\u001b[0m Run WITHOUT homomorphic encryption\n",
      "\u001b[36m(launch_and_fit pid=13873)\u001b[0m  To get the checkpoint\n",
      "\u001b[36m(launch_and_fit pid=13873)\u001b[0m \tTrain Epoch: 2 \tTrain_loss: 1.6493 | Train_acc: 47.7273 % | Validation_loss: 1.7851 | Validation_acc: 43.0556 %\u001b[32m [repeated 3x across cluster]\u001b[0m\n",
      "\u001b[36m(launch_and_fit pid=13873)\u001b[0m [Client 6, round 19] fit, config: {'learning_rate': 0.003, 'batch_size': '16', 'server_round': 19, 'local_epochs': 10}\n",
      "\u001b[36m(launch_and_fit pid=13873)\u001b[0m Updated model\n"
     ]
    },
    {
     "name": "stderr",
     "output_type": "stream",
     "text": [
      " 40%|\u001b[34m████      \u001b[0m| 4/10 [00:10<00:15,  2.62s/it]\u001b[32m [repeated 4x across cluster]\u001b[0m\n"
     ]
    },
    {
     "name": "stdout",
     "output_type": "stream",
     "text": [
      "\u001b[36m(launch_and_fit pid=13873)\u001b[0m \tTrain Epoch: 4 \tTrain_loss: 1.6218 | Train_acc: 47.6136 % | Validation_loss: 1.7707 | Validation_acc: 45.1389 %\u001b[32m [repeated 4x across cluster]\u001b[0m\n",
      "\u001b[36m(launch_and_fit pid=13871)\u001b[0m \tTrain Epoch: 6 \tTrain_loss: 1.6582 | Train_acc: 42.5568 % | Validation_loss: 1.7708 | Validation_acc: 38.1944 %\u001b[32m [repeated 4x across cluster]\u001b[0m\n"
     ]
    },
    {
     "name": "stderr",
     "output_type": "stream",
     "text": [
      " 60%|\u001b[34m██████    \u001b[0m| 6/10 [00:16<00:10,  2.69s/it]\u001b[32m [repeated 4x across cluster]\u001b[0m\n"
     ]
    },
    {
     "name": "stdout",
     "output_type": "stream",
     "text": [
      "\u001b[36m(launch_and_fit pid=13871)\u001b[0m \tTrain Epoch: 8 \tTrain_loss: 1.6399 | Train_acc: 46.1932 % | Validation_loss: 1.7958 | Validation_acc: 40.2778 %\u001b[32m [repeated 4x across cluster]\u001b[0m\n"
     ]
    },
    {
     "name": "stderr",
     "output_type": "stream",
     "text": [
      " 80%|\u001b[34m████████  \u001b[0m| 8/10 [00:21<00:05,  2.64s/it]\u001b[32m [repeated 4x across cluster]\u001b[0m\n"
     ]
    },
    {
     "name": "stdout",
     "output_type": "stream",
     "text": [
      "\u001b[36m(launch_and_fit pid=13871)\u001b[0m save graph in  results/FL/\n",
      "\u001b[36m(launch_and_fit pid=13871)\u001b[0m \tTrain Epoch: 10 \tTrain_loss: 1.6394 | Train_acc: 43.6932 % | Validation_loss: 1.7940 | Validation_acc: 40.2778 %\u001b[32m [repeated 4x across cluster]\u001b[0m\n"
     ]
    },
    {
     "name": "stderr",
     "output_type": "stream",
     "text": [
      "100%|\u001b[34m██████████\u001b[0m| 10/10 [00:26<00:00,  2.67s/it]\u001b[32m [repeated 4x across cluster]\u001b[0m\n"
     ]
    },
    {
     "name": "stdout",
     "output_type": "stream",
     "text": [
      "\u001b[36m(launch_and_fit pid=13946)\u001b[0m Run WITHOUT homomorphic encryption\n",
      "\u001b[36m(launch_and_fit pid=13946)\u001b[0m  To get the checkpoint\n",
      "\u001b[36m(launch_and_fit pid=13873)\u001b[0m save graph in  results/FL/\n",
      "\u001b[36m(launch_and_fit pid=13873)\u001b[0m \tTrain Epoch: 10 \tTrain_loss: 1.6094 | Train_acc: 48.0682 % | Validation_loss: 1.7896 | Validation_acc: 45.1389 %\n"
     ]
    },
    {
     "name": "stderr",
     "output_type": "stream",
     "text": [
      "  0%|\u001b[34m          \u001b[0m| 0/10 [00:00<?, ?it/s]\n",
      "100%|\u001b[34m██████████\u001b[0m| 10/10 [00:26<00:00,  2.67s/it]\n"
     ]
    },
    {
     "name": "stdout",
     "output_type": "stream",
     "text": [
      "\u001b[36m(launch_and_fit pid=13946)\u001b[0m [Client 5, round 19] fit, config: {'learning_rate': 0.003, 'batch_size': '16', 'server_round': 19, 'local_epochs': 10}\n",
      "\u001b[36m(launch_and_fit pid=13946)\u001b[0m Updated model\n"
     ]
    },
    {
     "name": "stderr",
     "output_type": "stream",
     "text": [
      " 10%|\u001b[34m█         \u001b[0m| 1/10 [00:02<00:25,  2.82s/it]\n"
     ]
    },
    {
     "name": "stdout",
     "output_type": "stream",
     "text": [
      "\u001b[36m(launch_and_fit pid=13946)\u001b[0m \tTrain Epoch: 1 \tTrain_loss: 1.7324 | Train_acc: 34.9432 % | Validation_loss: 1.6866 | Validation_acc: 38.1944 %\n"
     ]
    },
    {
     "name": "stderr",
     "output_type": "stream",
     "text": [
      "  0%|\u001b[34m          \u001b[0m| 0/10 [00:00<?, ?it/s]\n"
     ]
    },
    {
     "name": "stdout",
     "output_type": "stream",
     "text": [
      "\u001b[36m(launch_and_fit pid=13947)\u001b[0m Run WITHOUT homomorphic encryption\n",
      "\u001b[36m(launch_and_fit pid=13947)\u001b[0m  To get the checkpoint\n",
      "\u001b[36m(launch_and_fit pid=13947)\u001b[0m [Client 4, round 19] fit, config: {'learning_rate': 0.003, 'batch_size': '16', 'server_round': 19, 'local_epochs': 10}\n",
      "\u001b[36m(launch_and_fit pid=13947)\u001b[0m Updated model\n"
     ]
    },
    {
     "name": "stderr",
     "output_type": "stream",
     "text": [
      " 30%|\u001b[34m███       \u001b[0m| 3/10 [00:08<00:19,  2.78s/it]\u001b[32m [repeated 4x across cluster]\u001b[0m\n"
     ]
    },
    {
     "name": "stdout",
     "output_type": "stream",
     "text": [
      "\u001b[36m(launch_and_fit pid=13946)\u001b[0m \tTrain Epoch: 3 \tTrain_loss: 1.7042 | Train_acc: 38.3807 % | Validation_loss: 1.7425 | Validation_acc: 22.9167 %\u001b[32m [repeated 4x across cluster]\u001b[0m\n"
     ]
    },
    {
     "name": "stderr",
     "output_type": "stream",
     "text": [
      " 50%|\u001b[34m█████     \u001b[0m| 5/10 [00:13<00:13,  2.67s/it]\u001b[32m [repeated 4x across cluster]\u001b[0m\n"
     ]
    },
    {
     "name": "stdout",
     "output_type": "stream",
     "text": [
      "\u001b[36m(launch_and_fit pid=13946)\u001b[0m \tTrain Epoch: 5 \tTrain_loss: 1.6851 | Train_acc: 39.4318 % | Validation_loss: 1.6489 | Validation_acc: 47.2222 %\u001b[32m [repeated 4x across cluster]\u001b[0m\n"
     ]
    },
    {
     "name": "stderr",
     "output_type": "stream",
     "text": [
      " 80%|\u001b[34m████████  \u001b[0m| 8/10 [00:21<00:05,  2.57s/it]\u001b[32m [repeated 6x across cluster]\u001b[0m\n"
     ]
    },
    {
     "name": "stdout",
     "output_type": "stream",
     "text": [
      "\u001b[36m(launch_and_fit pid=13946)\u001b[0m \tTrain Epoch: 8 \tTrain_loss: 1.6674 | Train_acc: 40.7102 % | Validation_loss: 1.6710 | Validation_acc: 31.2500 %\u001b[32m [repeated 6x across cluster]\u001b[0m\n",
      "\u001b[36m(launch_and_fit pid=13946)\u001b[0m save graph in  results/FL/\n",
      "\u001b[36m(launch_and_fit pid=14019)\u001b[0m Run WITHOUT homomorphic encryption\n",
      "\u001b[36m(launch_and_fit pid=14019)\u001b[0m  To get the checkpoint\n",
      "\u001b[36m(launch_and_fit pid=13947)\u001b[0m \tTrain Epoch: 10 \tTrain_loss: 1.6329 | Train_acc: 45.2557 % | Validation_loss: 1.6654 | Validation_acc: 44.4444 %\u001b[32m [repeated 5x across cluster]\u001b[0m\n",
      "\u001b[36m(launch_and_fit pid=13947)\u001b[0m save graph in  results/FL/\n"
     ]
    },
    {
     "name": "stderr",
     "output_type": "stream",
     "text": [
      "  0%|\u001b[34m          \u001b[0m| 0/10 [00:00<?, ?it/s]\n",
      "100%|\u001b[34m██████████\u001b[0m| 10/10 [00:26<00:00,  2.61s/it]\u001b[32m [repeated 5x across cluster]\u001b[0m\n"
     ]
    },
    {
     "name": "stdout",
     "output_type": "stream",
     "text": [
      "\u001b[36m(launch_and_fit pid=14021)\u001b[0m [Client 0, round 19] fit, config: {'learning_rate': 0.003, 'batch_size': '16', 'server_round': 19, 'local_epochs': 10}\n",
      "\u001b[36m(launch_and_fit pid=14021)\u001b[0m Updated model\n",
      "\u001b[36m(launch_and_fit pid=14021)\u001b[0m Run WITHOUT homomorphic encryption\n",
      "\u001b[36m(launch_and_fit pid=14021)\u001b[0m  To get the checkpoint\n",
      "\u001b[36m(launch_and_fit pid=14019)\u001b[0m \tTrain Epoch: 2 \tTrain_loss: 1.6703 | Train_acc: 45.7292 % | Validation_loss: 1.6192 | Validation_acc: 36.1111 %\u001b[32m [repeated 3x across cluster]\u001b[0m\n",
      "\u001b[36m(launch_and_fit pid=14019)\u001b[0m [Client 9, round 19] fit, config: {'learning_rate': 0.003, 'batch_size': '16', 'server_round': 19, 'local_epochs': 10}\n",
      "\u001b[36m(launch_and_fit pid=14019)\u001b[0m Updated model\n"
     ]
    },
    {
     "name": "stderr",
     "output_type": "stream",
     "text": [
      "  0%|\u001b[34m          \u001b[0m| 0/10 [00:00<?, ?it/s]\n",
      " 20%|\u001b[34m██        \u001b[0m| 2/10 [00:05<00:22,  2.77s/it]\u001b[32m [repeated 3x across cluster]\u001b[0m\n",
      " 40%|\u001b[34m████      \u001b[0m| 4/10 [00:10<00:16,  2.70s/it]\u001b[32m [repeated 4x across cluster]\u001b[0m\n"
     ]
    },
    {
     "name": "stdout",
     "output_type": "stream",
     "text": [
      "\u001b[36m(launch_and_fit pid=14021)\u001b[0m \tTrain Epoch: 4 \tTrain_loss: 1.6407 | Train_acc: 43.6932 % | Validation_loss: 1.7367 | Validation_acc: 36.1111 %\u001b[32m [repeated 4x across cluster]\u001b[0m\n"
     ]
    },
    {
     "name": "stderr",
     "output_type": "stream",
     "text": [
      " 60%|\u001b[34m██████    \u001b[0m| 6/10 [00:16<00:10,  2.62s/it]\u001b[32m [repeated 4x across cluster]\u001b[0m\n"
     ]
    },
    {
     "name": "stdout",
     "output_type": "stream",
     "text": [
      "\u001b[36m(launch_and_fit pid=14021)\u001b[0m \tTrain Epoch: 6 \tTrain_loss: 1.6222 | Train_acc: 43.5227 % | Validation_loss: 1.7511 | Validation_acc: 36.1111 %\u001b[32m [repeated 4x across cluster]\u001b[0m\n"
     ]
    },
    {
     "name": "stderr",
     "output_type": "stream",
     "text": [
      " 80%|\u001b[34m████████  \u001b[0m| 8/10 [00:21<00:05,  2.63s/it]\u001b[32m [repeated 4x across cluster]\u001b[0m\n"
     ]
    },
    {
     "name": "stdout",
     "output_type": "stream",
     "text": [
      "\u001b[36m(launch_and_fit pid=14021)\u001b[0m \tTrain Epoch: 8 \tTrain_loss: 1.6209 | Train_acc: 44.0057 % | Validation_loss: 1.7433 | Validation_acc: 25.0000 %\u001b[32m [repeated 4x across cluster]\u001b[0m\n",
      "\u001b[36m(launch_and_fit pid=14021)\u001b[0m save graph in  results/FL/\n",
      "\u001b[36m(launch_and_fit pid=14019)\u001b[0m \tTrain Epoch: 10 \tTrain_loss: 1.6246 | Train_acc: 48.6458 % | Validation_loss: 1.6328 | Validation_acc: 40.2778 %\u001b[32m [repeated 5x across cluster]\u001b[0m\n"
     ]
    },
    {
     "name": "stderr",
     "output_type": "stream",
     "text": [
      "100%|\u001b[34m██████████\u001b[0m| 10/10 [00:26<00:00,  2.64s/it]\u001b[32m [repeated 5x across cluster]\u001b[0m\n",
      "DEBUG flwr 2024-07-22 10:34:23,684 | server.py:236 | fit_round 19 received 10 results and 0 failures\n"
     ]
    },
    {
     "name": "stdout",
     "output_type": "stream",
     "text": [
      "Saving round 19 aggregated_parameters...\n",
      "Updated model\n"
     ]
    },
    {
     "name": "stderr",
     "output_type": "stream",
     "text": [
      "INFO flwr 2024-07-22 10:34:26,098 | server.py:125 | fit progress: (19, 1.7072971452366221, {'accuracy': 39.73484848484849}, 4665.625538033)\n",
      "DEBUG flwr 2024-07-22 10:34:26,099 | server.py:173 | evaluate_round 19: strategy sampled 10 clients (out of 10)\n"
     ]
    },
    {
     "name": "stdout",
     "output_type": "stream",
     "text": [
      "Server-side evaluation loss 1.7072971452366221 / accuracy 39.73484848484849\n",
      "\u001b[36m(launch_and_evaluate pid=14102)\u001b[0m Run WITHOUT homomorphic encryption\n",
      "\u001b[36m(launch_and_evaluate pid=14102)\u001b[0m  To get the checkpoint\n",
      "\u001b[36m(launch_and_fit pid=14019)\u001b[0m save graph in  results/FL/\n",
      "\u001b[36m(launch_and_evaluate pid=14102)\u001b[0m [Client 3] evaluate, config: {}\n",
      "\u001b[36m(launch_and_evaluate pid=14102)\u001b[0m Updated model\n",
      "\u001b[36m(launch_and_evaluate pid=14173)\u001b[0m Run WITHOUT homomorphic encryption\u001b[32m [repeated 2x across cluster]\u001b[0m\n",
      "\u001b[36m(launch_and_evaluate pid=14173)\u001b[0m  To get the checkpoint\u001b[32m [repeated 2x across cluster]\u001b[0m\n",
      "\u001b[36m(launch_and_evaluate pid=14103)\u001b[0m [Client 1] evaluate, config: {}\n",
      "\u001b[36m(launch_and_evaluate pid=14103)\u001b[0m Updated model\n",
      "\u001b[36m(launch_and_evaluate pid=14175)\u001b[0m [Client 8] evaluate, config: {}\n",
      "\u001b[36m(launch_and_evaluate pid=14175)\u001b[0m Updated model\n"
     ]
    },
    {
     "name": "stderr",
     "output_type": "stream",
     "text": [
      "\u001b[36m(launch_and_evaluate pid=14175)\u001b[0m /opt/conda/lib/python3.10/site-packages/sklearn/metrics/_ranking.py:1029: UndefinedMetricWarning: No positive samples in y_true, true positive value should be meaningless\n",
      "\u001b[36m(launch_and_evaluate pid=14175)\u001b[0m   warnings.warn(\n"
     ]
    },
    {
     "name": "stdout",
     "output_type": "stream",
     "text": [
      "\u001b[36m(launch_and_evaluate pid=14243)\u001b[0m Run WITHOUT homomorphic encryption\u001b[32m [repeated 2x across cluster]\u001b[0m\n",
      "\u001b[36m(launch_and_evaluate pid=14243)\u001b[0m  To get the checkpoint\u001b[32m [repeated 2x across cluster]\u001b[0m\n",
      "\u001b[36m(launch_and_evaluate pid=14173)\u001b[0m [Client 7] evaluate, config: {}\n",
      "\u001b[36m(launch_and_evaluate pid=14173)\u001b[0m Updated model\n",
      "\u001b[36m(launch_and_evaluate pid=14243)\u001b[0m [Client 6] evaluate, config: {}\n",
      "\u001b[36m(launch_and_evaluate pid=14243)\u001b[0m Updated model\n",
      "\u001b[36m(launch_and_evaluate pid=14313)\u001b[0m Run WITHOUT homomorphic encryption\u001b[32m [repeated 2x across cluster]\u001b[0m\n",
      "\u001b[36m(launch_and_evaluate pid=14313)\u001b[0m  To get the checkpoint\u001b[32m [repeated 2x across cluster]\u001b[0m\n",
      "\u001b[36m(launch_and_evaluate pid=14245)\u001b[0m [Client 2] evaluate, config: {}\n",
      "\u001b[36m(launch_and_evaluate pid=14245)\u001b[0m Updated model\n",
      "\u001b[36m(launch_and_evaluate pid=14315)\u001b[0m [Client 4] evaluate, config: {}\n",
      "\u001b[36m(launch_and_evaluate pid=14315)\u001b[0m Updated model\n"
     ]
    },
    {
     "name": "stderr",
     "output_type": "stream",
     "text": [
      "\u001b[36m(launch_and_evaluate pid=14315)\u001b[0m /opt/conda/lib/python3.10/site-packages/sklearn/metrics/_ranking.py:1029: UndefinedMetricWarning: No positive samples in y_true, true positive value should be meaningless\n",
      "\u001b[36m(launch_and_evaluate pid=14315)\u001b[0m   warnings.warn(\n"
     ]
    },
    {
     "name": "stdout",
     "output_type": "stream",
     "text": [
      "\u001b[36m(launch_and_evaluate pid=14383)\u001b[0m Run WITHOUT homomorphic encryption\u001b[32m [repeated 2x across cluster]\u001b[0m\n",
      "\u001b[36m(launch_and_evaluate pid=14383)\u001b[0m  To get the checkpoint\u001b[32m [repeated 2x across cluster]\u001b[0m\n",
      "\u001b[36m(launch_and_evaluate pid=14313)\u001b[0m [Client 0] evaluate, config: {}\n",
      "\u001b[36m(launch_and_evaluate pid=14313)\u001b[0m Updated model\n",
      "\u001b[36m(launch_and_evaluate pid=14383)\u001b[0m [Client 5] evaluate, config: {}\n",
      "\u001b[36m(launch_and_evaluate pid=14383)\u001b[0m Updated model\n"
     ]
    },
    {
     "name": "stderr",
     "output_type": "stream",
     "text": [
      "\u001b[36m(launch_and_evaluate pid=14385)\u001b[0m /opt/conda/lib/python3.10/site-packages/sklearn/metrics/_ranking.py:1029: UndefinedMetricWarning: No positive samples in y_true, true positive value should be meaningless\n",
      "\u001b[36m(launch_and_evaluate pid=14385)\u001b[0m   warnings.warn(\n",
      "DEBUG flwr 2024-07-22 10:35:25,839 | server.py:187 | evaluate_round 19 received 10 results and 0 failures\n",
      "DEBUG flwr 2024-07-22 10:35:25,840 | server.py:222 | fit_round 20: strategy sampled 10 clients (out of 10)\n"
     ]
    },
    {
     "name": "stdout",
     "output_type": "stream",
     "text": [
      "\u001b[36m(launch_and_fit pid=14463)\u001b[0m Run WITHOUT homomorphic encryption\u001b[32m [repeated 2x across cluster]\u001b[0m\n",
      "\u001b[36m(launch_and_fit pid=14463)\u001b[0m  To get the checkpoint\u001b[32m [repeated 2x across cluster]\u001b[0m\n",
      "\u001b[36m(launch_and_evaluate pid=14385)\u001b[0m [Client 9] evaluate, config: {}\n",
      "\u001b[36m(launch_and_evaluate pid=14385)\u001b[0m Updated model\n"
     ]
    },
    {
     "name": "stderr",
     "output_type": "stream",
     "text": [
      "  0%|\u001b[34m          \u001b[0m| 0/10 [00:00<?, ?it/s]\n"
     ]
    },
    {
     "name": "stdout",
     "output_type": "stream",
     "text": [
      "\u001b[36m(launch_and_fit pid=14463)\u001b[0m [Client 6, round 20] fit, config: {'learning_rate': 0.003, 'batch_size': '16', 'server_round': 20, 'local_epochs': 10}\n",
      "\u001b[36m(launch_and_fit pid=14463)\u001b[0m Updated model\n"
     ]
    },
    {
     "name": "stderr",
     "output_type": "stream",
     "text": [
      " 10%|\u001b[34m█         \u001b[0m| 1/10 [00:02<00:25,  2.87s/it]\n"
     ]
    },
    {
     "name": "stdout",
     "output_type": "stream",
     "text": [
      "\u001b[36m(launch_and_fit pid=14463)\u001b[0m \tTrain Epoch: 1 \tTrain_loss: 1.6880 | Train_acc: 42.4432 % | Validation_loss: 1.8561 | Validation_acc: 43.0556 %\n"
     ]
    },
    {
     "name": "stderr",
     "output_type": "stream",
     "text": [
      "  0%|\u001b[34m          \u001b[0m| 0/10 [00:00<?, ?it/s]\n"
     ]
    },
    {
     "name": "stdout",
     "output_type": "stream",
     "text": [
      "\u001b[36m(launch_and_fit pid=14462)\u001b[0m Run WITHOUT homomorphic encryption\n",
      "\u001b[36m(launch_and_fit pid=14462)\u001b[0m  To get the checkpoint\n",
      "\u001b[36m(launch_and_fit pid=14462)\u001b[0m [Client 2, round 20] fit, config: {'learning_rate': 0.003, 'batch_size': '16', 'server_round': 20, 'local_epochs': 10}\n",
      "\u001b[36m(launch_and_fit pid=14462)\u001b[0m Updated model\n"
     ]
    },
    {
     "name": "stderr",
     "output_type": "stream",
     "text": [
      " 30%|\u001b[34m███       \u001b[0m| 3/10 [00:08<00:18,  2.68s/it]\u001b[32m [repeated 4x across cluster]\u001b[0m\n"
     ]
    },
    {
     "name": "stdout",
     "output_type": "stream",
     "text": [
      "\u001b[36m(launch_and_fit pid=14463)\u001b[0m \tTrain Epoch: 3 \tTrain_loss: 1.6410 | Train_acc: 47.4148 % | Validation_loss: 1.7997 | Validation_acc: 43.0556 %\u001b[32m [repeated 4x across cluster]\u001b[0m\n"
     ]
    },
    {
     "name": "stderr",
     "output_type": "stream",
     "text": [
      " 50%|\u001b[34m█████     \u001b[0m| 5/10 [00:13<00:12,  2.58s/it]\u001b[32m [repeated 4x across cluster]\u001b[0m\n"
     ]
    },
    {
     "name": "stdout",
     "output_type": "stream",
     "text": [
      "\u001b[36m(launch_and_fit pid=14463)\u001b[0m \tTrain Epoch: 5 \tTrain_loss: 1.6429 | Train_acc: 46.8466 % | Validation_loss: 1.7503 | Validation_acc: 43.0556 %\u001b[32m [repeated 4x across cluster]\u001b[0m\n"
     ]
    },
    {
     "name": "stderr",
     "output_type": "stream",
     "text": [
      " 70%|\u001b[34m███████   \u001b[0m| 7/10 [00:18<00:07,  2.58s/it]\u001b[32m [repeated 4x across cluster]\u001b[0m\n"
     ]
    },
    {
     "name": "stdout",
     "output_type": "stream",
     "text": [
      "\u001b[36m(launch_and_fit pid=14463)\u001b[0m \tTrain Epoch: 7 \tTrain_loss: 1.5975 | Train_acc: 48.2102 % | Validation_loss: 1.7359 | Validation_acc: 40.9722 %\u001b[32m [repeated 4x across cluster]\u001b[0m\n"
     ]
    },
    {
     "name": "stderr",
     "output_type": "stream",
     "text": [
      " 90%|\u001b[34m█████████ \u001b[0m| 9/10 [00:23<00:02,  2.60s/it]\u001b[32m [repeated 4x across cluster]\u001b[0m\n"
     ]
    },
    {
     "name": "stdout",
     "output_type": "stream",
     "text": [
      "\u001b[36m(launch_and_fit pid=14463)\u001b[0m \tTrain Epoch: 9 \tTrain_loss: 1.5943 | Train_acc: 49.6023 % | Validation_loss: 1.7175 | Validation_acc: 45.1389 %\u001b[32m [repeated 4x across cluster]\u001b[0m\n",
      "\u001b[36m(launch_and_fit pid=14463)\u001b[0m save graph in  results/FL/\n",
      "\u001b[36m(launch_and_fit pid=14537)\u001b[0m Run WITHOUT homomorphic encryption\n",
      "\u001b[36m(launch_and_fit pid=14537)\u001b[0m  To get the checkpoint\n",
      "\u001b[36m(launch_and_fit pid=14462)\u001b[0m \tTrain Epoch: 10 \tTrain_loss: 1.6137 | Train_acc: 44.8011 % | Validation_loss: 1.7102 | Validation_acc: 31.9444 %\u001b[32m [repeated 3x across cluster]\u001b[0m\n",
      "\u001b[36m(launch_and_fit pid=14462)\u001b[0m save graph in  results/FL/\n"
     ]
    },
    {
     "name": "stderr",
     "output_type": "stream",
     "text": [
      "  0%|\u001b[34m          \u001b[0m| 0/10 [00:00<?, ?it/s]\n",
      "100%|\u001b[34m██████████\u001b[0m| 10/10 [00:25<00:00,  2.60s/it]\u001b[32m [repeated 3x across cluster]\u001b[0m\n"
     ]
    },
    {
     "name": "stdout",
     "output_type": "stream",
     "text": [
      "\u001b[36m(launch_and_fit pid=14537)\u001b[0m [Client 5, round 20] fit, config: {'learning_rate': 0.003, 'batch_size': '16', 'server_round': 20, 'local_epochs': 10}\n",
      "\u001b[36m(launch_and_fit pid=14537)\u001b[0m Updated model\n"
     ]
    },
    {
     "name": "stderr",
     "output_type": "stream",
     "text": [
      "  0%|\u001b[34m          \u001b[0m| 0/10 [00:00<?, ?it/s]\n",
      " 20%|\u001b[34m██        \u001b[0m| 2/10 [00:05<00:20,  2.62s/it]\u001b[32m [repeated 3x across cluster]\u001b[0m\n"
     ]
    },
    {
     "name": "stdout",
     "output_type": "stream",
     "text": [
      "\u001b[36m(launch_and_fit pid=14536)\u001b[0m Run WITHOUT homomorphic encryption\n",
      "\u001b[36m(launch_and_fit pid=14536)\u001b[0m  To get the checkpoint\n",
      "\u001b[36m(launch_and_fit pid=14537)\u001b[0m \tTrain Epoch: 2 \tTrain_loss: 1.6931 | Train_acc: 39.9148 % | Validation_loss: 1.6777 | Validation_acc: 25.0000 %\u001b[32m [repeated 3x across cluster]\u001b[0m\n",
      "\u001b[36m(launch_and_fit pid=14536)\u001b[0m [Client 0, round 20] fit, config: {'learning_rate': 0.003, 'batch_size': '16', 'server_round': 20, 'local_epochs': 10}\n",
      "\u001b[36m(launch_and_fit pid=14536)\u001b[0m Updated model\n"
     ]
    },
    {
     "name": "stderr",
     "output_type": "stream",
     "text": [
      " 40%|\u001b[34m████      \u001b[0m| 4/10 [00:10<00:15,  2.58s/it]\u001b[32m [repeated 4x across cluster]\u001b[0m\n"
     ]
    },
    {
     "name": "stdout",
     "output_type": "stream",
     "text": [
      "\u001b[36m(launch_and_fit pid=14537)\u001b[0m \tTrain Epoch: 4 \tTrain_loss: 1.6844 | Train_acc: 40.4261 % | Validation_loss: 1.6763 | Validation_acc: 27.0833 %\u001b[32m [repeated 4x across cluster]\u001b[0m\n"
     ]
    },
    {
     "name": "stderr",
     "output_type": "stream",
     "text": [
      " 60%|\u001b[34m██████    \u001b[0m| 6/10 [00:15<00:10,  2.55s/it]\u001b[32m [repeated 4x across cluster]\u001b[0m\n"
     ]
    },
    {
     "name": "stdout",
     "output_type": "stream",
     "text": [
      "\u001b[36m(launch_and_fit pid=14537)\u001b[0m \tTrain Epoch: 6 \tTrain_loss: 1.6610 | Train_acc: 41.5057 % | Validation_loss: 1.6530 | Validation_acc: 47.2222 %\u001b[32m [repeated 4x across cluster]\u001b[0m\n",
      "\u001b[36m(launch_and_fit pid=14536)\u001b[0m \tTrain Epoch: 8 \tTrain_loss: 1.6121 | Train_acc: 44.8864 % | Validation_loss: 1.7608 | Validation_acc: 25.0000 %\u001b[32m [repeated 5x across cluster]\u001b[0m\n"
     ]
    },
    {
     "name": "stderr",
     "output_type": "stream",
     "text": [
      " 80%|\u001b[34m████████  \u001b[0m| 8/10 [00:20<00:05,  2.53s/it]\u001b[32m [repeated 5x across cluster]\u001b[0m\n",
      "100%|\u001b[34m██████████\u001b[0m| 10/10 [00:26<00:00,  2.65s/it]\u001b[32m [repeated 3x across cluster]\u001b[0m\n"
     ]
    },
    {
     "name": "stdout",
     "output_type": "stream",
     "text": [
      "\u001b[36m(launch_and_fit pid=14537)\u001b[0m save graph in  results/FL/\n",
      "\u001b[36m(launch_and_fit pid=14537)\u001b[0m \tTrain Epoch: 10 \tTrain_loss: 1.6335 | Train_acc: 41.6193 % | Validation_loss: 1.6761 | Validation_acc: 22.9167 %\u001b[32m [repeated 3x across cluster]\u001b[0m\n",
      "\u001b[36m(launch_and_fit pid=14611)\u001b[0m Run WITHOUT homomorphic encryption\n",
      "\u001b[36m(launch_and_fit pid=14611)\u001b[0m  To get the checkpoint\n",
      "\u001b[36m(launch_and_fit pid=14536)\u001b[0m save graph in  results/FL/\n",
      "\u001b[36m(launch_and_fit pid=14536)\u001b[0m \tTrain Epoch: 10 \tTrain_loss: 1.6098 | Train_acc: 46.1932 % | Validation_loss: 1.7395 | Validation_acc: 27.0833 %\n",
      "\u001b[36m(launch_and_fit pid=14611)\u001b[0m [Client 3, round 20] fit, config: {'learning_rate': 0.003, 'batch_size': '16', 'server_round': 20, 'local_epochs': 10}\n",
      "\u001b[36m(launch_and_fit pid=14611)\u001b[0m Updated model\n"
     ]
    },
    {
     "name": "stderr",
     "output_type": "stream",
     "text": [
      "  0%|\u001b[34m          \u001b[0m| 0/10 [00:00<?, ?it/s]\n",
      "100%|\u001b[34m██████████\u001b[0m| 10/10 [00:26<00:00,  2.65s/it]\n"
     ]
    },
    {
     "name": "stdout",
     "output_type": "stream",
     "text": [
      "\u001b[36m(launch_and_fit pid=14611)\u001b[0m \tTrain Epoch: 1 \tTrain_loss: 1.7099 | Train_acc: 38.8636 % | Validation_loss: 1.7368 | Validation_acc: 36.1111 %\n"
     ]
    },
    {
     "name": "stderr",
     "output_type": "stream",
     "text": [
      " 10%|\u001b[34m█         \u001b[0m| 1/10 [00:02<00:24,  2.77s/it]\n"
     ]
    },
    {
     "name": "stdout",
     "output_type": "stream",
     "text": [
      "\u001b[36m(launch_and_fit pid=14612)\u001b[0m Run WITHOUT homomorphic encryption\n",
      "\u001b[36m(launch_and_fit pid=14612)\u001b[0m  To get the checkpoint\n",
      "\u001b[36m(launch_and_fit pid=14612)\u001b[0m [Client 8, round 20] fit, config: {'learning_rate': 0.003, 'batch_size': '16', 'server_round': 20, 'local_epochs': 10}\n",
      "\u001b[36m(launch_and_fit pid=14612)\u001b[0m Updated model\n"
     ]
    },
    {
     "name": "stderr",
     "output_type": "stream",
     "text": [
      "  0%|\u001b[34m          \u001b[0m| 0/10 [00:00<?, ?it/s]\n"
     ]
    },
    {
     "name": "stdout",
     "output_type": "stream",
     "text": [
      "\u001b[36m(launch_and_fit pid=14611)\u001b[0m \tTrain Epoch: 3 \tTrain_loss: 1.6600 | Train_acc: 44.2898 % | Validation_loss: 1.8109 | Validation_acc: 40.2778 %\u001b[32m [repeated 4x across cluster]\u001b[0m\n"
     ]
    },
    {
     "name": "stderr",
     "output_type": "stream",
     "text": [
      " 30%|\u001b[34m███       \u001b[0m| 3/10 [00:07<00:18,  2.65s/it]\u001b[32m [repeated 4x across cluster]\u001b[0m\n"
     ]
    },
    {
     "name": "stdout",
     "output_type": "stream",
     "text": [
      "\u001b[36m(launch_and_fit pid=14611)\u001b[0m \tTrain Epoch: 5 \tTrain_loss: 1.6618 | Train_acc: 42.6136 % | Validation_loss: 1.8031 | Validation_acc: 34.0278 %\u001b[32m [repeated 5x across cluster]\u001b[0m\n"
     ]
    },
    {
     "name": "stderr",
     "output_type": "stream",
     "text": [
      " 50%|\u001b[34m█████     \u001b[0m| 5/10 [00:12<00:12,  2.56s/it]\u001b[32m [repeated 5x across cluster]\u001b[0m\n",
      " 70%|\u001b[34m███████   \u001b[0m| 7/10 [00:18<00:07,  2.64s/it]\u001b[32m [repeated 3x across cluster]\u001b[0m\n"
     ]
    },
    {
     "name": "stdout",
     "output_type": "stream",
     "text": [
      "\u001b[36m(launch_and_fit pid=14612)\u001b[0m \tTrain Epoch: 7 \tTrain_loss: 1.6570 | Train_acc: 41.0227 % | Validation_loss: 1.7743 | Validation_acc: 25.0000 %\u001b[32m [repeated 3x across cluster]\u001b[0m\n"
     ]
    },
    {
     "name": "stderr",
     "output_type": "stream",
     "text": [
      " 90%|\u001b[34m█████████ \u001b[0m| 9/10 [00:23<00:02,  2.62s/it]\u001b[32m [repeated 4x across cluster]\u001b[0m\n"
     ]
    },
    {
     "name": "stdout",
     "output_type": "stream",
     "text": [
      "\u001b[36m(launch_and_fit pid=14612)\u001b[0m \tTrain Epoch: 9 \tTrain_loss: 1.6103 | Train_acc: 46.1648 % | Validation_loss: 1.7124 | Validation_acc: 29.1667 %\u001b[32m [repeated 4x across cluster]\u001b[0m\n",
      "\u001b[36m(launch_and_fit pid=14612)\u001b[0m save graph in  results/FL/\n",
      "\u001b[36m(launch_and_fit pid=14685)\u001b[0m Run WITHOUT homomorphic encryption\n",
      "\u001b[36m(launch_and_fit pid=14685)\u001b[0m  To get the checkpoint\n",
      "\u001b[36m(launch_and_fit pid=14611)\u001b[0m \tTrain Epoch: 10 \tTrain_loss: 1.6158 | Train_acc: 48.3523 % | Validation_loss: 1.7838 | Validation_acc: 42.3611 %\u001b[32m [repeated 3x across cluster]\u001b[0m\n",
      "\u001b[36m(launch_and_fit pid=14611)\u001b[0m save graph in  results/FL/\n"
     ]
    },
    {
     "name": "stderr",
     "output_type": "stream",
     "text": [
      "  0%|\u001b[34m          \u001b[0m| 0/10 [00:00<?, ?it/s]\n",
      "100%|\u001b[34m██████████\u001b[0m| 10/10 [00:26<00:00,  2.63s/it]\u001b[32m [repeated 3x across cluster]\u001b[0m\n"
     ]
    },
    {
     "name": "stdout",
     "output_type": "stream",
     "text": [
      "\u001b[36m(launch_and_fit pid=14685)\u001b[0m [Client 4, round 20] fit, config: {'learning_rate': 0.003, 'batch_size': '16', 'server_round': 20, 'local_epochs': 10}\n",
      "\u001b[36m(launch_and_fit pid=14685)\u001b[0m Updated model\n"
     ]
    },
    {
     "name": "stderr",
     "output_type": "stream",
     "text": [
      "  0%|\u001b[34m          \u001b[0m| 0/10 [00:00<?, ?it/s]\n",
      " 20%|\u001b[34m██        \u001b[0m| 2/10 [00:05<00:21,  2.71s/it]\u001b[32m [repeated 3x across cluster]\u001b[0m\n"
     ]
    },
    {
     "name": "stdout",
     "output_type": "stream",
     "text": [
      "\u001b[36m(launch_and_fit pid=14687)\u001b[0m Run WITHOUT homomorphic encryption\n",
      "\u001b[36m(launch_and_fit pid=14687)\u001b[0m  To get the checkpoint\n",
      "\u001b[36m(launch_and_fit pid=14685)\u001b[0m \tTrain Epoch: 2 \tTrain_loss: 1.6566 | Train_acc: 43.3523 % | Validation_loss: 1.6681 | Validation_acc: 42.3611 %\u001b[32m [repeated 3x across cluster]\u001b[0m\n",
      "\u001b[36m(launch_and_fit pid=14687)\u001b[0m [Client 1, round 20] fit, config: {'learning_rate': 0.003, 'batch_size': '16', 'server_round': 20, 'local_epochs': 10}\n",
      "\u001b[36m(launch_and_fit pid=14687)\u001b[0m Updated model\n"
     ]
    },
    {
     "name": "stderr",
     "output_type": "stream",
     "text": [
      " 40%|\u001b[34m████      \u001b[0m| 4/10 [00:11<00:16,  2.78s/it]\u001b[32m [repeated 4x across cluster]\u001b[0m\n"
     ]
    },
    {
     "name": "stdout",
     "output_type": "stream",
     "text": [
      "\u001b[36m(launch_and_fit pid=14685)\u001b[0m \tTrain Epoch: 4 \tTrain_loss: 1.6494 | Train_acc: 42.5852 % | Validation_loss: 1.6747 | Validation_acc: 46.5278 %\u001b[32m [repeated 4x across cluster]\u001b[0m\n"
     ]
    },
    {
     "name": "stderr",
     "output_type": "stream",
     "text": [
      " 60%|\u001b[34m██████    \u001b[0m| 6/10 [00:16<00:10,  2.65s/it]\u001b[32m [repeated 4x across cluster]\u001b[0m\n"
     ]
    },
    {
     "name": "stdout",
     "output_type": "stream",
     "text": [
      "\u001b[36m(launch_and_fit pid=14685)\u001b[0m \tTrain Epoch: 6 \tTrain_loss: 1.6568 | Train_acc: 42.1307 % | Validation_loss: 1.6522 | Validation_acc: 48.6111 %\u001b[32m [repeated 4x across cluster]\u001b[0m\n"
     ]
    },
    {
     "name": "stderr",
     "output_type": "stream",
     "text": [
      " 80%|\u001b[34m████████  \u001b[0m| 8/10 [00:21<00:05,  2.67s/it]\u001b[32m [repeated 4x across cluster]\u001b[0m\n"
     ]
    },
    {
     "name": "stdout",
     "output_type": "stream",
     "text": [
      "\u001b[36m(launch_and_fit pid=14685)\u001b[0m \tTrain Epoch: 8 \tTrain_loss: 1.6296 | Train_acc: 46.8466 % | Validation_loss: 1.6590 | Validation_acc: 46.5278 %\u001b[32m [repeated 4x across cluster]\u001b[0m\n"
     ]
    },
    {
     "name": "stderr",
     "output_type": "stream",
     "text": [
      "100%|\u001b[34m██████████\u001b[0m| 10/10 [00:26<00:00,  2.68s/it]\u001b[32m [repeated 4x across cluster]\u001b[0m\n"
     ]
    },
    {
     "name": "stdout",
     "output_type": "stream",
     "text": [
      "\u001b[36m(launch_and_fit pid=14685)\u001b[0m save graph in  results/FL/\n",
      "\u001b[36m(launch_and_fit pid=14685)\u001b[0m \tTrain Epoch: 10 \tTrain_loss: 1.6249 | Train_acc: 43.9489 % | Validation_loss: 1.6392 | Validation_acc: 44.4444 %\u001b[32m [repeated 4x across cluster]\u001b[0m\n",
      "\u001b[36m(launch_and_fit pid=14759)\u001b[0m Run WITHOUT homomorphic encryption\n",
      "\u001b[36m(launch_and_fit pid=14759)\u001b[0m  To get the checkpoint\n",
      "\u001b[36m(launch_and_fit pid=14687)\u001b[0m save graph in  results/FL/\n",
      "\u001b[36m(launch_and_fit pid=14687)\u001b[0m \tTrain Epoch: 10 \tTrain_loss: 1.6491 | Train_acc: 42.8977 % | Validation_loss: 1.8046 | Validation_acc: 36.1111 %\n",
      "\u001b[36m(launch_and_fit pid=14759)\u001b[0m [Client 9, round 20] fit, config: {'learning_rate': 0.003, 'batch_size': '16', 'server_round': 20, 'local_epochs': 10}\n",
      "\u001b[36m(launch_and_fit pid=14759)\u001b[0m Updated model\n"
     ]
    },
    {
     "name": "stderr",
     "output_type": "stream",
     "text": [
      "  0%|\u001b[34m          \u001b[0m| 0/10 [00:00<?, ?it/s]\n",
      "100%|\u001b[34m██████████\u001b[0m| 10/10 [00:26<00:00,  2.70s/it]\n"
     ]
    },
    {
     "name": "stdout",
     "output_type": "stream",
     "text": [
      "\u001b[36m(launch_and_fit pid=14759)\u001b[0m \tTrain Epoch: 1 \tTrain_loss: 1.6748 | Train_acc: 42.6250 % | Validation_loss: 1.7481 | Validation_acc: 31.9444 %\n"
     ]
    },
    {
     "name": "stderr",
     "output_type": "stream",
     "text": [
      " 10%|\u001b[34m█         \u001b[0m| 1/10 [00:02<00:26,  2.89s/it]\n"
     ]
    },
    {
     "name": "stdout",
     "output_type": "stream",
     "text": [
      "\u001b[36m(launch_and_fit pid=14784)\u001b[0m Run WITHOUT homomorphic encryption\n",
      "\u001b[36m(launch_and_fit pid=14784)\u001b[0m  To get the checkpoint\n",
      "\u001b[36m(launch_and_fit pid=14784)\u001b[0m [Client 7, round 20] fit, config: {'learning_rate': 0.003, 'batch_size': '16', 'server_round': 20, 'local_epochs': 10}\n",
      "\u001b[36m(launch_and_fit pid=14784)\u001b[0m Updated model\n"
     ]
    },
    {
     "name": "stderr",
     "output_type": "stream",
     "text": [
      "  0%|\u001b[34m          \u001b[0m| 0/10 [00:00<?, ?it/s]\n"
     ]
    },
    {
     "name": "stdout",
     "output_type": "stream",
     "text": [
      "\u001b[36m(launch_and_fit pid=14759)\u001b[0m \tTrain Epoch: 3 \tTrain_loss: 1.6437 | Train_acc: 47.3125 % | Validation_loss: 1.6323 | Validation_acc: 38.1944 %\u001b[32m [repeated 4x across cluster]\u001b[0m\n"
     ]
    },
    {
     "name": "stderr",
     "output_type": "stream",
     "text": [
      " 30%|\u001b[34m███       \u001b[0m| 3/10 [00:08<00:19,  2.82s/it]\u001b[32m [repeated 4x across cluster]\u001b[0m\n"
     ]
    },
    {
     "name": "stdout",
     "output_type": "stream",
     "text": [
      "\u001b[36m(launch_and_fit pid=14759)\u001b[0m \tTrain Epoch: 5 \tTrain_loss: 1.6317 | Train_acc: 46.9792 % | Validation_loss: 1.6484 | Validation_acc: 40.2778 %\u001b[32m [repeated 4x across cluster]\u001b[0m\n"
     ]
    },
    {
     "name": "stderr",
     "output_type": "stream",
     "text": [
      " 50%|\u001b[34m█████     \u001b[0m| 5/10 [00:13<00:13,  2.72s/it]\u001b[32m [repeated 4x across cluster]\u001b[0m\n"
     ]
    },
    {
     "name": "stdout",
     "output_type": "stream",
     "text": [
      "\u001b[36m(launch_and_fit pid=14759)\u001b[0m \tTrain Epoch: 7 \tTrain_loss: 1.6232 | Train_acc: 48.2500 % | Validation_loss: 1.6317 | Validation_acc: 36.1111 %\u001b[32m [repeated 4x across cluster]\u001b[0m\n"
     ]
    },
    {
     "name": "stderr",
     "output_type": "stream",
     "text": [
      " 70%|\u001b[34m███████   \u001b[0m| 7/10 [00:19<00:07,  2.65s/it]\u001b[32m [repeated 4x across cluster]\u001b[0m\n"
     ]
    },
    {
     "name": "stdout",
     "output_type": "stream",
     "text": [
      "\u001b[36m(launch_and_fit pid=14759)\u001b[0m \tTrain Epoch: 9 \tTrain_loss: 1.6090 | Train_acc: 48.8125 % | Validation_loss: 1.6250 | Validation_acc: 38.1944 %\u001b[32m [repeated 4x across cluster]\u001b[0m\n"
     ]
    },
    {
     "name": "stderr",
     "output_type": "stream",
     "text": [
      " 90%|\u001b[34m█████████ \u001b[0m| 9/10 [00:24<00:02,  2.62s/it]\u001b[32m [repeated 4x across cluster]\u001b[0m\n"
     ]
    },
    {
     "name": "stdout",
     "output_type": "stream",
     "text": [
      "\u001b[36m(launch_and_fit pid=14759)\u001b[0m save graph in  results/FL/\n"
     ]
    },
    {
     "name": "stderr",
     "output_type": "stream",
     "text": [
      "DEBUG flwr 2024-07-22 10:38:34,966 | server.py:236 | fit_round 20 received 10 results and 0 failures\n"
     ]
    },
    {
     "name": "stdout",
     "output_type": "stream",
     "text": [
      "Saving round 20 aggregated_parameters...\n",
      "Updated model\n"
     ]
    },
    {
     "name": "stderr",
     "output_type": "stream",
     "text": [
      "INFO flwr 2024-07-22 10:38:37,444 | server.py:125 | fit progress: (20, 1.704770209572532, {'accuracy': 39.621212121212125}, 4916.971449115999)\n",
      "DEBUG flwr 2024-07-22 10:38:37,445 | server.py:173 | evaluate_round 20: strategy sampled 10 clients (out of 10)\n"
     ]
    },
    {
     "name": "stdout",
     "output_type": "stream",
     "text": [
      "Server-side evaluation loss 1.704770209572532 / accuracy 39.621212121212125\n",
      "\u001b[36m(launch_and_evaluate pid=14842)\u001b[0m Run WITHOUT homomorphic encryption\n",
      "\u001b[36m(launch_and_evaluate pid=14842)\u001b[0m  To get the checkpoint\n",
      "\u001b[36m(launch_and_fit pid=14784)\u001b[0m \tTrain Epoch: 10 \tTrain_loss: 1.6346 | Train_acc: 46.0511 % | Validation_loss: 1.5084 | Validation_acc: 53.4722 %\u001b[32m [repeated 3x across cluster]\u001b[0m\n",
      "\u001b[36m(launch_and_fit pid=14784)\u001b[0m save graph in  results/FL/\n",
      "\u001b[36m(launch_and_evaluate pid=14842)\u001b[0m [Client 4] evaluate, config: {}\n",
      "\u001b[36m(launch_and_evaluate pid=14842)\u001b[0m Updated model\n"
     ]
    },
    {
     "name": "stderr",
     "output_type": "stream",
     "text": [
      "\u001b[36m(launch_and_evaluate pid=14842)\u001b[0m /opt/conda/lib/python3.10/site-packages/sklearn/metrics/_ranking.py:1029: UndefinedMetricWarning: No positive samples in y_true, true positive value should be meaningless\n",
      "\u001b[36m(launch_and_evaluate pid=14842)\u001b[0m   warnings.warn(\n",
      "100%|\u001b[34m██████████\u001b[0m| 10/10 [00:27<00:00,  2.72s/it]\u001b[32m [repeated 3x across cluster]\u001b[0m\n"
     ]
    },
    {
     "name": "stdout",
     "output_type": "stream",
     "text": [
      "\u001b[36m(launch_and_evaluate pid=14913)\u001b[0m Run WITHOUT homomorphic encryption\u001b[32m [repeated 2x across cluster]\u001b[0m\n",
      "\u001b[36m(launch_and_evaluate pid=14913)\u001b[0m  To get the checkpoint\u001b[32m [repeated 2x across cluster]\u001b[0m\n",
      "\u001b[36m(launch_and_evaluate pid=14843)\u001b[0m [Client 8] evaluate, config: {}\n",
      "\u001b[36m(launch_and_evaluate pid=14843)\u001b[0m Updated model\n",
      "\u001b[36m(launch_and_evaluate pid=14913)\u001b[0m [Client 5] evaluate, config: {}\n",
      "\u001b[36m(launch_and_evaluate pid=14913)\u001b[0m Updated model\n",
      "\u001b[36m(launch_and_evaluate pid=14983)\u001b[0m Run WITHOUT homomorphic encryption\u001b[32m [repeated 2x across cluster]\u001b[0m\n",
      "\u001b[36m(launch_and_evaluate pid=14983)\u001b[0m  To get the checkpoint\u001b[32m [repeated 2x across cluster]\u001b[0m\n",
      "\u001b[36m(launch_and_evaluate pid=14915)\u001b[0m [Client 3] evaluate, config: {}\n",
      "\u001b[36m(launch_and_evaluate pid=14915)\u001b[0m Updated model\n",
      "\u001b[36m(launch_and_evaluate pid=14983)\u001b[0m [Client 9] evaluate, config: {}\n",
      "\u001b[36m(launch_and_evaluate pid=14983)\u001b[0m Updated model\n"
     ]
    },
    {
     "name": "stderr",
     "output_type": "stream",
     "text": [
      "\u001b[36m(launch_and_evaluate pid=14983)\u001b[0m /opt/conda/lib/python3.10/site-packages/sklearn/metrics/_ranking.py:1029: UndefinedMetricWarning: No positive samples in y_true, true positive value should be meaningless\u001b[32m [repeated 2x across cluster]\u001b[0m\n",
      "\u001b[36m(launch_and_evaluate pid=14983)\u001b[0m   warnings.warn(\u001b[32m [repeated 2x across cluster]\u001b[0m\n"
     ]
    },
    {
     "name": "stdout",
     "output_type": "stream",
     "text": [
      "\u001b[36m(launch_and_evaluate pid=15053)\u001b[0m Run WITHOUT homomorphic encryption\u001b[32m [repeated 2x across cluster]\u001b[0m\n",
      "\u001b[36m(launch_and_evaluate pid=15053)\u001b[0m  To get the checkpoint\u001b[32m [repeated 2x across cluster]\u001b[0m\n",
      "\u001b[36m(launch_and_evaluate pid=14985)\u001b[0m [Client 7] evaluate, config: {}\n",
      "\u001b[36m(launch_and_evaluate pid=14985)\u001b[0m Updated model\n",
      "\u001b[36m(launch_and_evaluate pid=15053)\u001b[0m [Client 0] evaluate, config: {}\n",
      "\u001b[36m(launch_and_evaluate pid=15053)\u001b[0m Updated model\n",
      "\u001b[36m(launch_and_evaluate pid=15123)\u001b[0m Run WITHOUT homomorphic encryption\u001b[32m [repeated 2x across cluster]\u001b[0m\n",
      "\u001b[36m(launch_and_evaluate pid=15123)\u001b[0m  To get the checkpoint\u001b[32m [repeated 2x across cluster]\u001b[0m\n",
      "\u001b[36m(launch_and_evaluate pid=15055)\u001b[0m [Client 2] evaluate, config: {}\n",
      "\u001b[36m(launch_and_evaluate pid=15055)\u001b[0m Updated model\n",
      "\u001b[36m(launch_and_evaluate pid=15123)\u001b[0m [Client 6] evaluate, config: {}\n",
      "\u001b[36m(launch_and_evaluate pid=15123)\u001b[0m Updated model\n"
     ]
    },
    {
     "name": "stderr",
     "output_type": "stream",
     "text": [
      "DEBUG flwr 2024-07-22 10:39:36,550 | server.py:187 | evaluate_round 20 received 10 results and 0 failures\n",
      "INFO flwr 2024-07-22 10:39:36,552 | server.py:153 | FL finished in 4976.078797718999\n",
      "INFO flwr 2024-07-22 10:39:36,553 | app.py:225 | app_fit: losses_distributed [(1, 1.9010106841723124), (2, 1.8207842707633972), (3, 1.7853665669759116), (4, 1.7663962165514628), (5, 1.7653783043225606), (6, 1.7601543505986532), (7, 1.750601867834727), (8, 1.7503211855888368), (9, 1.7584204435348512), (10, 1.737944281101227), (11, 1.7397471070289612), (12, 1.728580109278361), (13, 1.7254812757174174), (14, 1.7176756183306376), (15, 1.716634217898051), (16, 1.7180309096972148), (17, 1.7041425784428914), (18, 1.7038447300593058), (19, 1.6976470788319906), (20, 1.6923420508702596)]\n",
      "INFO flwr 2024-07-22 10:39:36,554 | app.py:226 | app_fit: metrics_distributed_fit {}\n",
      "INFO flwr 2024-07-22 10:39:36,555 | app.py:227 | app_fit: metrics_distributed {'accuracy': [(1, 30.34722222222222), (2, 30.97222222222222), (3, 33.75), (4, 37.222222222222214), (5, 34.16666666666666), (6, 32.84722222222222), (7, 34.16666666666666), (8, 36.04166666666666), (9, 33.47222222222222), (10, 34.375), (11, 37.013888888888886), (12, 35.069444444444436), (13, 34.30555555555555), (14, 37.01388888888889), (15, 39.37499999999999), (16, 38.05555555555555), (17, 39.79166666666666), (18, 39.583333333333336), (19, 40.41666666666666), (20, 40.62499999999999)]}\n",
      "INFO flwr 2024-07-22 10:39:36,556 | app.py:228 | app_fit: losses_centralized [(0, 1.9702590292150324), (1, 1.8955498803745616), (2, 1.8219078714197332), (3, 1.7893829952586782), (4, 1.7632626750252463), (5, 1.7589990962635387), (6, 1.7512243140827526), (7, 1.7371161179109054), (8, 1.7384837519038807), (9, 1.747719027779319), (10, 1.73321899284016), (11, 1.7370622894980692), (12, 1.728278892690485), (13, 1.7286350618709216), (14, 1.7228901559656316), (15, 1.7227694793180985), (16, 1.7190500822934238), (17, 1.7120412263003262), (18, 1.709234567122026), (19, 1.7072971452366221), (20, 1.704770209572532)]\n",
      "INFO flwr 2024-07-22 10:39:36,559 | app.py:229 | app_fit: metrics_centralized {'accuracy': [(0, 5.454545454545454), (1, 31.363636363636367), (2, 32.310606060606055), (3, 33.10606060606061), (4, 36.28787878787879), (5, 33.78787878787878), (6, 32.99242424242424), (7, 35.833333333333336), (8, 37.007575757575765), (9, 35.871212121212125), (10, 36.28787878787879), (11, 36.51515151515151), (12, 36.40151515151515), (13, 33.86363636363636), (14, 37.34848484848485), (15, 38.257575757575765), (16, 38.59848484848485), (17, 38.71212121212121), (18, 39.621212121212125), (19, 39.73484848484849), (20, 39.621212121212125)]}\n"
     ]
    },
    {
     "name": "stdout",
     "output_type": "stream",
     "text": [
      "Simulation Time = 4983.602132797241 seconds\n"
     ]
    }
   ],
   "source": [
    "import warnings\n",
    "warnings.simplefilter(\"ignore\")\n",
    "\n",
    "print(\"flwr\", fl.__version__)\n",
    "print(\"numpy\", np.__version__)\n",
    "print(\"torch\", torch.__version__)\n",
    "print(\"torchvision\", torchvision.__version__)\n",
    "print(f\"Training on {DEVICE}\")\n",
    "\n",
    "client_resources = None\n",
    "\n",
    "if DEVICE.type == \"cuda\":\n",
    "    client_resources = {\"num_gpus\": 1}\n",
    "\n",
    "model_save = model_save\n",
    "path_yaml = yaml_path\n",
    "path_roc = roc_path\n",
    "results_save = save_results\n",
    "path_matrix = matrix_path\n",
    "batch_size = batch_size\n",
    "he = he\n",
    "secret_path = 'secret.pkl'\n",
    "server_path = 'secret.pkl'\n",
    "path_crypted = 'server.pkl'\n",
    "\n",
    "print(\"Start simulation\")\n",
    "start_simulation = time.time()\n",
    "fl.simulation.start_simulation(\n",
    "    client_fn=client_fn,\n",
    "    num_clients=number_clients,\n",
    "    config=fl.server.ServerConfig(num_rounds=rounds),\n",
    "    strategy=strategy,\n",
    "    client_resources=client_resources\n",
    ")\n",
    "print(f\"Simulation Time = {time.time() - start_simulation} seconds\")"
   ]
  }
 ],
 "metadata": {
  "kernelspec": {
   "display_name": "fl_env",
   "language": "python",
   "name": "python3"
  },
  "language_info": {
   "codemirror_mode": {
    "name": "ipython",
    "version": 3
   },
   "file_extension": ".py",
   "mimetype": "text/x-python",
   "name": "python",
   "nbconvert_exporter": "python",
   "pygments_lexer": "ipython3",
   "version": "3.10.12"
  }
 },
 "nbformat": 4,
 "nbformat_minor": 2
}

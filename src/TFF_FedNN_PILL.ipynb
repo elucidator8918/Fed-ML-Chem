{
 "cells": [
  {
   "cell_type": "markdown",
   "id": "1ac3ee88-48fd-4aab-b9cf-3f91ae440f72",
   "metadata": {},
   "source": [
    "# Tensorflow Federated for faulty pill recognition"
   ]
  },
  {
   "cell_type": "markdown",
   "id": "85291f83-c450-40e0-bb49-dc583ec00735",
   "metadata": {},
   "source": [
    "## Dependencies and parameters"
   ]
  },
  {
   "cell_type": "code",
   "execution_count": 1,
   "id": "46654ec8-f90e-4867-98c3-155c675ec927",
   "metadata": {},
   "outputs": [
    {
     "name": "stderr",
     "output_type": "stream",
     "text": [
      "2024-09-05 17:33:43.668104: I tensorflow/core/util/port.cc:111] oneDNN custom operations are on. You may see slightly different numerical results due to floating-point round-off errors from different computation orders. To turn them off, set the environment variable `TF_ENABLE_ONEDNN_OPTS=0`.\n",
      "2024-09-05 17:33:43.669472: I tensorflow/tsl/cuda/cudart_stub.cc:28] Could not find cuda drivers on your machine, GPU will not be used.\n",
      "2024-09-05 17:33:43.692776: E tensorflow/compiler/xla/stream_executor/cuda/cuda_dnn.cc:9342] Unable to register cuDNN factory: Attempting to register factory for plugin cuDNN when one has already been registered\n",
      "2024-09-05 17:33:43.692807: E tensorflow/compiler/xla/stream_executor/cuda/cuda_fft.cc:609] Unable to register cuFFT factory: Attempting to register factory for plugin cuFFT when one has already been registered\n",
      "2024-09-05 17:33:43.692823: E tensorflow/compiler/xla/stream_executor/cuda/cuda_blas.cc:1518] Unable to register cuBLAS factory: Attempting to register factory for plugin cuBLAS when one has already been registered\n",
      "2024-09-05 17:33:43.697654: I tensorflow/tsl/cuda/cudart_stub.cc:28] Could not find cuda drivers on your machine, GPU will not be used.\n",
      "2024-09-05 17:33:43.698550: I tensorflow/core/platform/cpu_feature_guard.cc:182] This TensorFlow binary is optimized to use available CPU instructions in performance-critical operations.\n",
      "To enable the following instructions: AVX2 AVX_VNNI FMA, in other operations, rebuild TensorFlow with the appropriate compiler flags.\n",
      "2024-09-05 17:33:44.636407: W tensorflow/compiler/tf2tensorrt/utils/py_utils.cc:38] TF-TRT Warning: Could not find TensorRT\n"
     ]
    }
   ],
   "source": [
    "import os\n",
    "import numpy as np\n",
    "import tensorflow as tf\n",
    "from tensorflow.keras import layers, regularizers\n",
    "import threading\n",
    "from tensorflow_privacy.privacy.optimizers.dp_optimizer_keras import DPKerasSGDOptimizer\n",
    "import tensorflow_federated as tff\n",
    "\n",
    "from matplotlib import pyplot as plt"
   ]
  },
  {
   "cell_type": "code",
   "execution_count": 2,
   "id": "affed09f-2ed7-4be9-bd32-5fb1e01e34ed",
   "metadata": {},
   "outputs": [],
   "source": [
    "# Besides the centralized server, how many independent clients are training their models\n",
    "num_clients     = 3\n",
    "image_shape     = (28, 28, 3)\n",
    "num_categories  = 2\n",
    "num_rounds      = 3\n",
    "num_epochs      = 2\n",
    "shuffle_buffer  = 30\n",
    "\n",
    "data_folder    = \"data/PILL\""
   ]
  },
  {
   "cell_type": "markdown",
   "id": "a46c6479-d570-4467-818e-ae5465845ea2",
   "metadata": {},
   "source": [
    "## Loading Data"
   ]
  },
  {
   "cell_type": "code",
   "execution_count": 3,
   "id": "e9a9b31b-67c7-4f19-97f2-ab4ec2127af9",
   "metadata": {},
   "outputs": [],
   "source": [
    "def partition_dataset(dataset, num_chunks):\n",
    "    \"\"\"Partition a dataset into n chunks.\"\"\"\n",
    "    return "
   ]
  },
  {
   "cell_type": "code",
   "execution_count": 4,
   "id": "3a62956d-7cca-418a-9abb-acbc1ca67472",
   "metadata": {},
   "outputs": [],
   "source": [
    "def load_data(folder, num_clients):\n",
    "    \"\"\"Load a dataset from a directory and randomly divide it into clients.\"\"\"\n",
    "    # Read all data as a single data set\n",
    "    full_dataset = tf.keras.preprocessing.image_dataset_from_directory(\n",
    "        folder,\n",
    "        labels='inferred',\n",
    "        label_mode='binary',\n",
    "        class_names=None,\n",
    "        color_mode='rgb',\n",
    "        batch_size=32,\n",
    "        image_size=image_shape[0:2],\n",
    "        shuffle=True,\n",
    "        seed=None,\n",
    "    )\n",
    "    \n",
    "    # Setup epochs and normalize data\n",
    "    def preprocess(ds):\n",
    "      return ds.repeat(num_epochs).shuffle(shuffle_buffer, seed=1).map(lambda x,y : (x / 255.0, y))\n",
    "\n",
    "    # Partition the data set into a chunk for each client\n",
    "    per_client_data = [full_dataset.shard(num_clients, i) for i in range(num_clients)]\n",
    "    \n",
    "    # Build the ClientData structure needed by TFF\n",
    "    federated_dataset = tff.simulation.datasets.ClientData.from_clients_and_tf_fn(\n",
    "        [i for i in range(num_clients)], lambda i: per_client_data[i]\n",
    "    )\n",
    "\n",
    "    return federated_dataset.preprocess(preprocess)"
   ]
  },
  {
   "cell_type": "markdown",
   "id": "ae2b1be1-5a76-4ee1-9fc0-06ed4116cb03",
   "metadata": {},
   "source": [
    "## Model definitions\n",
    "\n",
    "### Architecture"
   ]
  },
  {
   "cell_type": "code",
   "execution_count": 5,
   "id": "ad0dfdf0-7841-420f-9eb8-527611e18da0",
   "metadata": {},
   "outputs": [],
   "source": [
    "class PillModel:\n",
    "    \"\"\"TensorFlow Keras model for Pill image recognition.\"\"\"\n",
    "    def __init__(self, num_classes, input_shape):\n",
    "        self.model = tf.keras.Sequential([\n",
    "            # First convolutional block\n",
    "            layers.Conv2D(32, (3, 3), padding='same', input_shape=input_shape),\n",
    "            layers.ReLU(),\n",
    "            layers.MaxPooling2D(pool_size=(2, 2), strides=2),\n",
    "            \n",
    "            # Second convolutional block\n",
    "            layers.Conv2D(64, (3, 3), padding='same'),\n",
    "            layers.ReLU(),\n",
    "            layers.MaxPooling2D(pool_size=(2, 2), strides=2),\n",
    "            \n",
    "            # Third convolutional block\n",
    "            layers.Conv2D(128, (3, 3), padding='same'),\n",
    "            layers.ReLU(),\n",
    "            layers.MaxPooling2D(pool_size=(2, 2), strides=2),\n",
    "            \n",
    "            # Flatten the output and add fully connected layers\n",
    "            layers.Flatten(),\n",
    "            layers.Dense(256),\n",
    "            layers.ReLU(),\n",
    "            layers.Dropout(0.5),\n",
    "            \n",
    "            # Output layer for classification\n",
    "            layers.Dense(num_classes)\n",
    "        ])\n",
    "\n",
    "    # The element_spec for the element`s model\n",
    "    # Tensorflow requires this for typing\n",
    "    input_spec = (tf.TensorSpec(shape=(None, 28, 28, 3), dtype=tf.float32, name=None), tf.TensorSpec(shape=(None, 1), dtype=tf.float32, name=None))"
   ]
  },
  {
   "cell_type": "code",
   "execution_count": 6,
   "id": "cb12d239-fafc-4a3a-9c73-083da624a167",
   "metadata": {},
   "outputs": [],
   "source": [
    "def model_fn():\n",
    "    \"\"\"Turn this model into something tff can run in a federated setting.\"\"\"\n",
    "    model = PillModel(num_categories, image_shape)\n",
    "    \n",
    "    return tff.learning.models.from_keras_model(\n",
    "        keras_model = model.model,\n",
    "        input_spec  = model.input_spec,\n",
    "        loss        = tf.keras.losses.SparseCategoricalCrossentropy(),\n",
    "        metrics     = [tf.keras.metrics.SparseCategoricalAccuracy()]\n",
    "    )"
   ]
  },
  {
   "cell_type": "markdown",
   "id": "2ce89ece-0b97-4147-97e7-a00d28e339f6",
   "metadata": {},
   "source": [
    "### Steps"
   ]
  },
  {
   "cell_type": "code",
   "execution_count": 7,
   "id": "0a53fe6b-3256-4ba3-9309-bc34cbea2e7d",
   "metadata": {},
   "outputs": [],
   "source": [
    "def federated_train(federated_data, num_rounds):\n",
    "    \"\"\"Train model using dataset on folder.\"\"\"\n",
    "    # Build the federated averaging process\n",
    "    process = tff.learning.algorithms.build_weighted_fed_avg(\n",
    "        model_fn = model_fn,\n",
    "        client_optimizer_fn=lambda: tf.keras.optimizers.Adam(learning_rate=0.02, epsilon=10),\n",
    "        server_optimizer_fn=lambda: tf.keras.optimizers.Adam(learning_rate=1.0, epsilon=10)\n",
    "    )\n",
    "\n",
    "    # Initialize and run the federated learning process\n",
    "    state = process.initialize()\n",
    "    num_clients_per_round = num_clients\n",
    "\n",
    "    metrics_history = []\n",
    "    for round in range(0, num_rounds):\n",
    "        selected_clients     = np.random.choice(federated_data.client_ids, size=num_clients_per_round, replace=False)\n",
    "        federated_train_data = [federated_data.create_tf_dataset_for_client(x) for x in selected_clients]\n",
    "        \n",
    "        state, metrics = process.next(state, federated_train_data)\n",
    "        \n",
    "        print(f'Round {round+1:2d}, Metrics: {metrics}')\n",
    "        metrics_history.append(metrics)\n",
    "\n",
    "    accuracies = [metrics['client_work']['train']['sparse_categorical_accuracy'] for metrics in metrics_history]\n",
    "    final_accuracy = np.mean(accuracies)\n",
    "    print(f\"Final averaged accuracy over {len(metrics_history)} rounds is: {final_accuracy}\")\n",
    "\n",
    "    return process, state, metrics_history"
   ]
  },
  {
   "cell_type": "code",
   "execution_count": 8,
   "id": "e253e122-4fda-4fb0-a935-4a6e1aa2799f",
   "metadata": {},
   "outputs": [],
   "source": [
    "def federated_evaluate(test_dataset, training_process, training_state):\n",
    "    \"\"\"Evaluate a federated model in a testing dataset.\"\"\"\n",
    "    evaluation_process = tff.learning.algorithms.build_fed_eval(model_fn)\n",
    "    evaluation_state   = evaluation_process.initialize()\n",
    "\n",
    "    # Copy weights from trained model to new testing model\n",
    "    model_weights    = training_process.get_model_weights(training_state)\n",
    "    evaluation_state = evaluation_process.set_model_weights(evaluation_state, model_weights)\n",
    "\n",
    "    federated_test_data = [test_dataset.create_tf_dataset_for_client(x) for x in test_dataset.client_ids]\n",
    "\n",
    "    # Evaluating amounts to a single forward step\n",
    "    evaluation_state, metrics = evaluation_process.next(evaluation_state, federated_test_data)\n",
    "\n",
    "    return evaluation_process, metrics"
   ]
  },
  {
   "cell_type": "code",
   "execution_count": 11,
   "id": "1a911da9-ab19-44b3-80ff-d1a561f5fc18",
   "metadata": {},
   "outputs": [],
   "source": [
    "def pipeline(data_folder, num_rounds = num_rounds):\n",
    "    # Training\n",
    "    print(\"Training:\")\n",
    "    dataset_train = load_data(data_folder + \"/Training\", num_clients)\n",
    "    training_process, training_state, training_metrics = federated_train(dataset_train, num_rounds = num_rounds)\n",
    "\n",
    "    # Federated testing\n",
    "    print(\"Evaluation:\")\n",
    "    dataset_test  = load_data(data_folder + \"/Testing\", num_clients)\n",
    "    evaluation_process, evaluation_metrics = federated_evaluate(dataset_test, training_process, training_state)\n"
   ]
  },
  {
   "cell_type": "markdown",
   "id": "0a033742-ce86-4e63-a6b4-00103d2a9b25",
   "metadata": {},
   "source": [
    "## Train and evaluate"
   ]
  },
  {
   "cell_type": "code",
   "execution_count": 12,
   "id": "cc6fd502-f0bc-4e39-a068-00fef62f89b2",
   "metadata": {},
   "outputs": [
    {
     "name": "stdout",
     "output_type": "stream",
     "text": [
      "Training:\n",
      "Found 348 files belonging to 2 classes.\n"
     ]
    },
    {
     "name": "stderr",
     "output_type": "stream",
     "text": [
      "2024-09-05 17:34:28.596571: I tensorflow/core/grappler/devices.cc:66] Number of eligible GPUs (core count >= 8, compute capability >= 0.0): 0\n",
      "2024-09-05 17:34:28.596688: I tensorflow/core/grappler/clusters/single_machine.cc:361] Starting new session\n",
      "2024-09-05 17:34:28.622260: I tensorflow/core/grappler/devices.cc:66] Number of eligible GPUs (core count >= 8, compute capability >= 0.0): 0\n",
      "2024-09-05 17:34:28.622387: I tensorflow/core/grappler/clusters/single_machine.cc:361] Starting new session\n",
      "2024-09-05 17:34:28.856211: I tensorflow/core/grappler/devices.cc:66] Number of eligible GPUs (core count >= 8, compute capability >= 0.0): 0\n",
      "2024-09-05 17:34:28.856343: I tensorflow/core/grappler/clusters/single_machine.cc:361] Starting new session\n",
      "2024-09-05 17:34:28.972668: I tensorflow/core/grappler/devices.cc:66] Number of eligible GPUs (core count >= 8, compute capability >= 0.0): 0\n",
      "2024-09-05 17:34:28.972793: I tensorflow/core/grappler/clusters/single_machine.cc:361] Starting new session\n",
      "2024-09-05 17:34:28.980930: I tensorflow/core/grappler/devices.cc:66] Number of eligible GPUs (core count >= 8, compute capability >= 0.0): 0\n",
      "2024-09-05 17:34:28.981054: I tensorflow/core/grappler/clusters/single_machine.cc:361] Starting new session\n",
      "2024-09-05 17:34:28.987699: I tensorflow/core/grappler/devices.cc:66] Number of eligible GPUs (core count >= 8, compute capability >= 0.0): 0\n",
      "2024-09-05 17:34:28.987793: I tensorflow/core/grappler/clusters/single_machine.cc:361] Starting new session\n",
      "2024-09-05 17:34:28.996097: I tensorflow/core/grappler/devices.cc:66] Number of eligible GPUs (core count >= 8, compute capability >= 0.0): 0\n",
      "2024-09-05 17:34:28.996207: I tensorflow/core/grappler/clusters/single_machine.cc:361] Starting new session\n",
      "2024-09-05 17:34:29.009346: I tensorflow/core/grappler/devices.cc:66] Number of eligible GPUs (core count >= 8, compute capability >= 0.0): 0\n",
      "2024-09-05 17:34:29.009453: I tensorflow/core/grappler/clusters/single_machine.cc:361] Starting new session\n",
      "2024-09-05 17:34:29.017335: I tensorflow/core/grappler/devices.cc:66] Number of eligible GPUs (core count >= 8, compute capability >= 0.0): 0\n",
      "2024-09-05 17:34:29.017421: I tensorflow/core/grappler/clusters/single_machine.cc:361] Starting new session\n",
      "2024-09-05 17:34:29.024889: I tensorflow/core/grappler/devices.cc:66] Number of eligible GPUs (core count >= 8, compute capability >= 0.0): 0\n",
      "2024-09-05 17:34:29.024985: I tensorflow/core/grappler/clusters/single_machine.cc:361] Starting new session\n",
      "2024-09-05 17:34:29.034335: I tensorflow/core/grappler/devices.cc:66] Number of eligible GPUs (core count >= 8, compute capability >= 0.0): 0\n",
      "2024-09-05 17:34:29.034423: I tensorflow/core/grappler/clusters/single_machine.cc:361] Starting new session\n",
      "2024-09-05 17:34:29.043121: I tensorflow/core/grappler/devices.cc:66] Number of eligible GPUs (core count >= 8, compute capability >= 0.0): 0\n",
      "2024-09-05 17:34:29.043280: I tensorflow/core/grappler/clusters/single_machine.cc:361] Starting new session\n",
      "2024-09-05 17:34:29.045648: I tensorflow/core/grappler/devices.cc:66] Number of eligible GPUs (core count >= 8, compute capability >= 0.0): 0\n",
      "2024-09-05 17:34:29.045731: I tensorflow/core/grappler/clusters/single_machine.cc:361] Starting new session\n",
      "2024-09-05 17:34:29.049402: I tensorflow/core/grappler/devices.cc:66] Number of eligible GPUs (core count >= 8, compute capability >= 0.0): 0\n",
      "2024-09-05 17:34:29.049495: I tensorflow/core/grappler/clusters/single_machine.cc:361] Starting new session\n",
      "2024-09-05 17:34:29.054374: I tensorflow/core/grappler/devices.cc:66] Number of eligible GPUs (core count >= 8, compute capability >= 0.0): 0\n",
      "2024-09-05 17:34:29.054472: I tensorflow/core/grappler/clusters/single_machine.cc:361] Starting new session\n",
      "2024-09-05 17:34:29.076532: I tensorflow/core/grappler/devices.cc:66] Number of eligible GPUs (core count >= 8, compute capability >= 0.0): 0\n",
      "2024-09-05 17:34:29.076674: I tensorflow/core/grappler/clusters/single_machine.cc:361] Starting new session\n"
     ]
    },
    {
     "name": "stdout",
     "output_type": "stream",
     "text": [
      "Round  1, Metrics: OrderedDict([('distributor', ()), ('client_work', OrderedDict([('train', OrderedDict([('sparse_categorical_accuracy', 0.53304595), ('loss', 2.2848911), ('num_examples', 696), ('num_batches', 22)]))])), ('aggregator', OrderedDict([('mean_value', ()), ('mean_weight', ())])), ('finalizer', OrderedDict([('update_non_finite', 0)]))])\n",
      "Round  2, Metrics: OrderedDict([('distributor', ()), ('client_work', OrderedDict([('train', OrderedDict([('sparse_categorical_accuracy', 0.5143678), ('loss', 2.376241), ('num_examples', 696), ('num_batches', 22)]))])), ('aggregator', OrderedDict([('mean_value', ()), ('mean_weight', ())])), ('finalizer', OrderedDict([('update_non_finite', 0)]))])\n",
      "Round  3, Metrics: OrderedDict([('distributor', ()), ('client_work', OrderedDict([('train', OrderedDict([('sparse_categorical_accuracy', 0.57327586), ('loss', 1.8235333), ('num_examples', 696), ('num_batches', 22)]))])), ('aggregator', OrderedDict([('mean_value', ()), ('mean_weight', ())])), ('finalizer', OrderedDict([('update_non_finite', 0)]))])\n",
      "Final averaged accuracy over 3 rounds is: 0.540229856967926\n",
      "Evaluation:\n",
      "Found 86 files belonging to 2 classes.\n"
     ]
    },
    {
     "name": "stderr",
     "output_type": "stream",
     "text": [
      "2024-09-05 17:34:50.740273: I tensorflow/core/grappler/devices.cc:66] Number of eligible GPUs (core count >= 8, compute capability >= 0.0): 0\n",
      "2024-09-05 17:34:50.740397: I tensorflow/core/grappler/clusters/single_machine.cc:361] Starting new session\n",
      "2024-09-05 17:34:50.758999: I tensorflow/core/grappler/devices.cc:66] Number of eligible GPUs (core count >= 8, compute capability >= 0.0): 0\n",
      "2024-09-05 17:34:50.759110: I tensorflow/core/grappler/clusters/single_machine.cc:361] Starting new session\n",
      "2024-09-05 17:34:50.787788: I tensorflow/core/grappler/devices.cc:66] Number of eligible GPUs (core count >= 8, compute capability >= 0.0): 0\n",
      "2024-09-05 17:34:50.787902: I tensorflow/core/grappler/clusters/single_machine.cc:361] Starting new session\n",
      "2024-09-05 17:34:50.845914: I tensorflow/core/grappler/devices.cc:66] Number of eligible GPUs (core count >= 8, compute capability >= 0.0): 0\n",
      "2024-09-05 17:34:50.846088: I tensorflow/core/grappler/clusters/single_machine.cc:361] Starting new session\n",
      "2024-09-05 17:34:51.221226: I tensorflow/core/grappler/devices.cc:66] Number of eligible GPUs (core count >= 8, compute capability >= 0.0): 0\n",
      "2024-09-05 17:34:51.221365: I tensorflow/core/grappler/clusters/single_machine.cc:361] Starting new session\n",
      "2024-09-05 17:34:51.270407: I tensorflow/core/grappler/devices.cc:66] Number of eligible GPUs (core count >= 8, compute capability >= 0.0): 0\n",
      "2024-09-05 17:34:51.270525: I tensorflow/core/grappler/clusters/single_machine.cc:361] Starting new session\n",
      "2024-09-05 17:34:51.276157: I tensorflow/core/grappler/devices.cc:66] Number of eligible GPUs (core count >= 8, compute capability >= 0.0): 0\n",
      "2024-09-05 17:34:51.276245: I tensorflow/core/grappler/clusters/single_machine.cc:361] Starting new session\n",
      "2024-09-05 17:34:51.283687: I tensorflow/core/grappler/devices.cc:66] Number of eligible GPUs (core count >= 8, compute capability >= 0.0): 0\n",
      "2024-09-05 17:34:51.283800: I tensorflow/core/grappler/clusters/single_machine.cc:361] Starting new session\n",
      "2024-09-05 17:34:51.291429: I tensorflow/core/grappler/devices.cc:66] Number of eligible GPUs (core count >= 8, compute capability >= 0.0): 0\n",
      "2024-09-05 17:34:51.291535: I tensorflow/core/grappler/clusters/single_machine.cc:361] Starting new session\n",
      "2024-09-05 17:34:51.300496: I tensorflow/core/grappler/devices.cc:66] Number of eligible GPUs (core count >= 8, compute capability >= 0.0): 0\n",
      "2024-09-05 17:34:51.300603: I tensorflow/core/grappler/clusters/single_machine.cc:361] Starting new session\n",
      "2024-09-05 17:34:51.317255: I tensorflow/core/grappler/devices.cc:66] Number of eligible GPUs (core count >= 8, compute capability >= 0.0): 0\n",
      "2024-09-05 17:34:51.317355: I tensorflow/core/grappler/clusters/single_machine.cc:361] Starting new session\n"
     ]
    }
   ],
   "source": [
    "pipeline(data_folder, num_rounds)"
   ]
  },
  {
   "cell_type": "code",
   "execution_count": null,
   "id": "580cad7e-9135-4cc3-bca8-68714c8156ee",
   "metadata": {},
   "outputs": [],
   "source": []
  }
 ],
 "metadata": {
  "kernelspec": {
   "display_name": "TFF Pill",
   "language": "python",
   "name": "tff-pill"
  },
  "language_info": {
   "codemirror_mode": {
    "name": "ipython",
    "version": 3
   },
   "file_extension": ".py",
   "mimetype": "text/x-python",
   "name": "python",
   "nbconvert_exporter": "python",
   "pygments_lexer": "ipython3",
   "version": "3.11.9"
  }
 },
 "nbformat": 4,
 "nbformat_minor": 5
}
